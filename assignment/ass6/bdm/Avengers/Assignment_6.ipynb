{
 "cells": [
  {
   "cell_type": "markdown",
   "id": "9f00924f-f224-4c91-8362-d4db99bf3a08",
   "metadata": {
    "id": "9f00924f-f224-4c91-8362-d4db99bf3a08"
   },
   "source": [
    "# Big Data Management Assignment 6: Mastering Big Data Handling\n",
    "### Group Name: Avengers\n",
    "### Dataset: Amazon Book Reviews\n",
    "### Date: 9th December, 2023\n",
    "### Group Members\n",
    "\n",
    "| Name                                     | Matrix Number |\n",
    "| :---------------------------------------- | :-------------: |\n",
    "| Ismail Maeen Fateh Allah Yaqot Alawami   |  MCS221028    |   \n",
    "|LWANGA AKSAM              |  MCS231016    |\n",
    "|BAKUNGA BRONSON             |   MCS232006   |  \n",
    "\n"
   ]
  },
  {
   "cell_type": "code",
   "execution_count": 1,
   "id": "0de8edf0-2594-4e24-a027-2eb5642b233f",
   "metadata": {
    "id": "0de8edf0-2594-4e24-a027-2eb5642b233f"
   },
   "outputs": [],
   "source": [
    "# Setting up dependencies\n",
    "import pandas as pd\n",
    "import numpy as np\n",
    "import matplotlib.pyplot as plt\n",
    "import seaborn as sns\n",
    "import dask.dataframe as dd\n"
   ]
  },
  {
   "cell_type": "markdown",
   "id": "420cb500-aeae-4547-81e2-252d7a86e903",
   "metadata": {
    "id": "420cb500-aeae-4547-81e2-252d7a86e903"
   },
   "source": [
    "# Dataset Information\n",
    "The dataset titled \"Amazon Book Reviews\" was obtained from Kaggle. You can find the dataset here: https://www.kaggle.com/datasets/mohamedbakhet/amazon-books-reviews?select=books_data.csv\n",
    "We focus on the \"Books_rating.csv\" file which is 2.7GB, which fits our data size requirements."
   ]
  },
  {
   "cell_type": "markdown",
   "id": "72b340ec-d51e-4923-ae1b-f335abab2caa",
   "metadata": {
    "id": "72b340ec-d51e-4923-ae1b-f335abab2caa"
   },
   "source": [
    "## Initial dataset import"
   ]
  },
  {
   "cell_type": "code",
   "execution_count": 2,
   "id": "b18d0683-6bab-41c1-b52d-1947d60671d6",
   "metadata": {
    "id": "b18d0683-6bab-41c1-b52d-1947d60671d6"
   },
   "outputs": [
    {
     "name": "stdout",
     "output_type": "stream",
     "text": [
      "CPU times: user 25.9 s, sys: 1.36 s, total: 27.3 s\n",
      "Wall time: 27.8 s\n"
     ]
    }
   ],
   "source": [
    "# Importing datasets\n",
    "%time book_reviews_ratings_df = pd.read_csv(\"Books_rating.csv\")\n"
   ]
  },
  {
   "cell_type": "code",
   "execution_count": 3,
   "id": "NJSxHySKMPry",
   "metadata": {
    "id": "NJSxHySKMPry"
   },
   "outputs": [
    {
     "name": "stdout",
     "output_type": "stream",
     "text": [
      "CPU times: user 1.96 s, sys: 245 ms, total: 2.2 s\n",
      "Wall time: 2.33 s\n"
     ]
    }
   ],
   "source": [
    "%time books_data_df=pd.read_csv(\"books_data.csv\")"
   ]
  },
  {
   "cell_type": "code",
   "execution_count": 4,
   "id": "7b532d03-b961-4126-b3b1-ac8e6752b3b3",
   "metadata": {
    "colab": {
     "base_uri": "https://localhost:8080/",
     "height": 487
    },
    "id": "7b532d03-b961-4126-b3b1-ac8e6752b3b3",
    "outputId": "e9a3251b-1d15-4248-bcfe-3168743e11c4"
   },
   "outputs": [
    {
     "data": {
      "text/html": [
       "<div>\n",
       "<style scoped>\n",
       "    .dataframe tbody tr th:only-of-type {\n",
       "        vertical-align: middle;\n",
       "    }\n",
       "\n",
       "    .dataframe tbody tr th {\n",
       "        vertical-align: top;\n",
       "    }\n",
       "\n",
       "    .dataframe thead th {\n",
       "        text-align: right;\n",
       "    }\n",
       "</style>\n",
       "<table border=\"1\" class=\"dataframe\">\n",
       "  <thead>\n",
       "    <tr style=\"text-align: right;\">\n",
       "      <th></th>\n",
       "      <th>Id</th>\n",
       "      <th>Title</th>\n",
       "      <th>Price</th>\n",
       "      <th>User_id</th>\n",
       "      <th>profileName</th>\n",
       "      <th>review/helpfulness</th>\n",
       "      <th>review/score</th>\n",
       "      <th>review/time</th>\n",
       "      <th>review/summary</th>\n",
       "      <th>review/text</th>\n",
       "    </tr>\n",
       "  </thead>\n",
       "  <tbody>\n",
       "    <tr>\n",
       "      <th>0</th>\n",
       "      <td>1882931173</td>\n",
       "      <td>Its Only Art If Its Well Hung!</td>\n",
       "      <td>NaN</td>\n",
       "      <td>AVCGYZL8FQQTD</td>\n",
       "      <td>Jim of Oz \"jim-of-oz\"</td>\n",
       "      <td>7/7</td>\n",
       "      <td>4.0</td>\n",
       "      <td>940636800</td>\n",
       "      <td>Nice collection of Julie Strain images</td>\n",
       "      <td>This is only for Julie Strain fans. It's a col...</td>\n",
       "    </tr>\n",
       "    <tr>\n",
       "      <th>1</th>\n",
       "      <td>0826414346</td>\n",
       "      <td>Dr. Seuss: American Icon</td>\n",
       "      <td>NaN</td>\n",
       "      <td>A30TK6U7DNS82R</td>\n",
       "      <td>Kevin Killian</td>\n",
       "      <td>10/10</td>\n",
       "      <td>5.0</td>\n",
       "      <td>1095724800</td>\n",
       "      <td>Really Enjoyed It</td>\n",
       "      <td>I don't care much for Dr. Seuss but after read...</td>\n",
       "    </tr>\n",
       "    <tr>\n",
       "      <th>2</th>\n",
       "      <td>0826414346</td>\n",
       "      <td>Dr. Seuss: American Icon</td>\n",
       "      <td>NaN</td>\n",
       "      <td>A3UH4UZ4RSVO82</td>\n",
       "      <td>John Granger</td>\n",
       "      <td>10/11</td>\n",
       "      <td>5.0</td>\n",
       "      <td>1078790400</td>\n",
       "      <td>Essential for every personal and Public Library</td>\n",
       "      <td>If people become the books they read and if \"t...</td>\n",
       "    </tr>\n",
       "    <tr>\n",
       "      <th>3</th>\n",
       "      <td>0826414346</td>\n",
       "      <td>Dr. Seuss: American Icon</td>\n",
       "      <td>NaN</td>\n",
       "      <td>A2MVUWT453QH61</td>\n",
       "      <td>Roy E. Perry \"amateur philosopher\"</td>\n",
       "      <td>7/7</td>\n",
       "      <td>4.0</td>\n",
       "      <td>1090713600</td>\n",
       "      <td>Phlip Nel gives silly Seuss a serious treatment</td>\n",
       "      <td>Theodore Seuss Geisel (1904-1991), aka &amp;quot;D...</td>\n",
       "    </tr>\n",
       "    <tr>\n",
       "      <th>4</th>\n",
       "      <td>0826414346</td>\n",
       "      <td>Dr. Seuss: American Icon</td>\n",
       "      <td>NaN</td>\n",
       "      <td>A22X4XUPKF66MR</td>\n",
       "      <td>D. H. Richards \"ninthwavestore\"</td>\n",
       "      <td>3/3</td>\n",
       "      <td>4.0</td>\n",
       "      <td>1107993600</td>\n",
       "      <td>Good academic overview</td>\n",
       "      <td>Philip Nel - Dr. Seuss: American IconThis is b...</td>\n",
       "    </tr>\n",
       "  </tbody>\n",
       "</table>\n",
       "</div>"
      ],
      "text/plain": [
       "           Id                           Title  Price         User_id  \\\n",
       "0  1882931173  Its Only Art If Its Well Hung!    NaN   AVCGYZL8FQQTD   \n",
       "1  0826414346        Dr. Seuss: American Icon    NaN  A30TK6U7DNS82R   \n",
       "2  0826414346        Dr. Seuss: American Icon    NaN  A3UH4UZ4RSVO82   \n",
       "3  0826414346        Dr. Seuss: American Icon    NaN  A2MVUWT453QH61   \n",
       "4  0826414346        Dr. Seuss: American Icon    NaN  A22X4XUPKF66MR   \n",
       "\n",
       "                          profileName review/helpfulness  review/score  \\\n",
       "0               Jim of Oz \"jim-of-oz\"                7/7           4.0   \n",
       "1                       Kevin Killian              10/10           5.0   \n",
       "2                        John Granger              10/11           5.0   \n",
       "3  Roy E. Perry \"amateur philosopher\"                7/7           4.0   \n",
       "4     D. H. Richards \"ninthwavestore\"                3/3           4.0   \n",
       "\n",
       "   review/time                                   review/summary  \\\n",
       "0    940636800           Nice collection of Julie Strain images   \n",
       "1   1095724800                                Really Enjoyed It   \n",
       "2   1078790400  Essential for every personal and Public Library   \n",
       "3   1090713600  Phlip Nel gives silly Seuss a serious treatment   \n",
       "4   1107993600                           Good academic overview   \n",
       "\n",
       "                                         review/text  \n",
       "0  This is only for Julie Strain fans. It's a col...  \n",
       "1  I don't care much for Dr. Seuss but after read...  \n",
       "2  If people become the books they read and if \"t...  \n",
       "3  Theodore Seuss Geisel (1904-1991), aka &quot;D...  \n",
       "4  Philip Nel - Dr. Seuss: American IconThis is b...  "
      ]
     },
     "execution_count": 4,
     "metadata": {},
     "output_type": "execute_result"
    }
   ],
   "source": [
    "#let's first see the first few rows to understand the datatset\n",
    "book_reviews_ratings_df.head()"
   ]
  },
  {
   "cell_type": "code",
   "execution_count": 5,
   "id": "YA5WH2hlMI3E",
   "metadata": {
    "colab": {
     "base_uri": "https://localhost:8080/",
     "height": 573
    },
    "id": "YA5WH2hlMI3E",
    "outputId": "c3b04d75-105d-4846-84a5-02061cb146c6"
   },
   "outputs": [
    {
     "data": {
      "text/html": [
       "<div>\n",
       "<style scoped>\n",
       "    .dataframe tbody tr th:only-of-type {\n",
       "        vertical-align: middle;\n",
       "    }\n",
       "\n",
       "    .dataframe tbody tr th {\n",
       "        vertical-align: top;\n",
       "    }\n",
       "\n",
       "    .dataframe thead th {\n",
       "        text-align: right;\n",
       "    }\n",
       "</style>\n",
       "<table border=\"1\" class=\"dataframe\">\n",
       "  <thead>\n",
       "    <tr style=\"text-align: right;\">\n",
       "      <th></th>\n",
       "      <th>Title</th>\n",
       "      <th>description</th>\n",
       "      <th>authors</th>\n",
       "      <th>image</th>\n",
       "      <th>previewLink</th>\n",
       "      <th>publisher</th>\n",
       "      <th>publishedDate</th>\n",
       "      <th>infoLink</th>\n",
       "      <th>categories</th>\n",
       "      <th>ratingsCount</th>\n",
       "    </tr>\n",
       "  </thead>\n",
       "  <tbody>\n",
       "    <tr>\n",
       "      <th>0</th>\n",
       "      <td>Its Only Art If Its Well Hung!</td>\n",
       "      <td>NaN</td>\n",
       "      <td>['Julie Strain']</td>\n",
       "      <td>http://books.google.com/books/content?id=DykPA...</td>\n",
       "      <td>http://books.google.nl/books?id=DykPAAAACAAJ&amp;d...</td>\n",
       "      <td>NaN</td>\n",
       "      <td>1996</td>\n",
       "      <td>http://books.google.nl/books?id=DykPAAAACAAJ&amp;d...</td>\n",
       "      <td>['Comics &amp; Graphic Novels']</td>\n",
       "      <td>NaN</td>\n",
       "    </tr>\n",
       "    <tr>\n",
       "      <th>1</th>\n",
       "      <td>Dr. Seuss: American Icon</td>\n",
       "      <td>Philip Nel takes a fascinating look into the k...</td>\n",
       "      <td>['Philip Nel']</td>\n",
       "      <td>http://books.google.com/books/content?id=IjvHQ...</td>\n",
       "      <td>http://books.google.nl/books?id=IjvHQsCn_pgC&amp;p...</td>\n",
       "      <td>A&amp;C Black</td>\n",
       "      <td>2005-01-01</td>\n",
       "      <td>http://books.google.nl/books?id=IjvHQsCn_pgC&amp;d...</td>\n",
       "      <td>['Biography &amp; Autobiography']</td>\n",
       "      <td>NaN</td>\n",
       "    </tr>\n",
       "    <tr>\n",
       "      <th>2</th>\n",
       "      <td>Wonderful Worship in Smaller Churches</td>\n",
       "      <td>This resource includes twelve principles in un...</td>\n",
       "      <td>['David R. Ray']</td>\n",
       "      <td>http://books.google.com/books/content?id=2tsDA...</td>\n",
       "      <td>http://books.google.nl/books?id=2tsDAAAACAAJ&amp;d...</td>\n",
       "      <td>NaN</td>\n",
       "      <td>2000</td>\n",
       "      <td>http://books.google.nl/books?id=2tsDAAAACAAJ&amp;d...</td>\n",
       "      <td>['Religion']</td>\n",
       "      <td>NaN</td>\n",
       "    </tr>\n",
       "    <tr>\n",
       "      <th>3</th>\n",
       "      <td>Whispers of the Wicked Saints</td>\n",
       "      <td>Julia Thomas finds her life spinning out of co...</td>\n",
       "      <td>['Veronica Haddon']</td>\n",
       "      <td>http://books.google.com/books/content?id=aRSIg...</td>\n",
       "      <td>http://books.google.nl/books?id=aRSIgJlq6JwC&amp;d...</td>\n",
       "      <td>iUniverse</td>\n",
       "      <td>2005-02</td>\n",
       "      <td>http://books.google.nl/books?id=aRSIgJlq6JwC&amp;d...</td>\n",
       "      <td>['Fiction']</td>\n",
       "      <td>NaN</td>\n",
       "    </tr>\n",
       "    <tr>\n",
       "      <th>4</th>\n",
       "      <td>Nation Dance: Religion, Identity and Cultural ...</td>\n",
       "      <td>NaN</td>\n",
       "      <td>['Edward Long']</td>\n",
       "      <td>NaN</td>\n",
       "      <td>http://books.google.nl/books?id=399SPgAACAAJ&amp;d...</td>\n",
       "      <td>NaN</td>\n",
       "      <td>2003-03-01</td>\n",
       "      <td>http://books.google.nl/books?id=399SPgAACAAJ&amp;d...</td>\n",
       "      <td>NaN</td>\n",
       "      <td>NaN</td>\n",
       "    </tr>\n",
       "  </tbody>\n",
       "</table>\n",
       "</div>"
      ],
      "text/plain": [
       "                                               Title  \\\n",
       "0                     Its Only Art If Its Well Hung!   \n",
       "1                           Dr. Seuss: American Icon   \n",
       "2              Wonderful Worship in Smaller Churches   \n",
       "3                      Whispers of the Wicked Saints   \n",
       "4  Nation Dance: Religion, Identity and Cultural ...   \n",
       "\n",
       "                                         description              authors  \\\n",
       "0                                                NaN     ['Julie Strain']   \n",
       "1  Philip Nel takes a fascinating look into the k...       ['Philip Nel']   \n",
       "2  This resource includes twelve principles in un...     ['David R. Ray']   \n",
       "3  Julia Thomas finds her life spinning out of co...  ['Veronica Haddon']   \n",
       "4                                                NaN      ['Edward Long']   \n",
       "\n",
       "                                               image  \\\n",
       "0  http://books.google.com/books/content?id=DykPA...   \n",
       "1  http://books.google.com/books/content?id=IjvHQ...   \n",
       "2  http://books.google.com/books/content?id=2tsDA...   \n",
       "3  http://books.google.com/books/content?id=aRSIg...   \n",
       "4                                                NaN   \n",
       "\n",
       "                                         previewLink  publisher publishedDate  \\\n",
       "0  http://books.google.nl/books?id=DykPAAAACAAJ&d...        NaN          1996   \n",
       "1  http://books.google.nl/books?id=IjvHQsCn_pgC&p...  A&C Black    2005-01-01   \n",
       "2  http://books.google.nl/books?id=2tsDAAAACAAJ&d...        NaN          2000   \n",
       "3  http://books.google.nl/books?id=aRSIgJlq6JwC&d...  iUniverse       2005-02   \n",
       "4  http://books.google.nl/books?id=399SPgAACAAJ&d...        NaN    2003-03-01   \n",
       "\n",
       "                                            infoLink  \\\n",
       "0  http://books.google.nl/books?id=DykPAAAACAAJ&d...   \n",
       "1  http://books.google.nl/books?id=IjvHQsCn_pgC&d...   \n",
       "2  http://books.google.nl/books?id=2tsDAAAACAAJ&d...   \n",
       "3  http://books.google.nl/books?id=aRSIgJlq6JwC&d...   \n",
       "4  http://books.google.nl/books?id=399SPgAACAAJ&d...   \n",
       "\n",
       "                      categories  ratingsCount  \n",
       "0    ['Comics & Graphic Novels']           NaN  \n",
       "1  ['Biography & Autobiography']           NaN  \n",
       "2                   ['Religion']           NaN  \n",
       "3                    ['Fiction']           NaN  \n",
       "4                            NaN           NaN  "
      ]
     },
     "execution_count": 5,
     "metadata": {},
     "output_type": "execute_result"
    }
   ],
   "source": [
    "books_data_df.head()"
   ]
  },
  {
   "cell_type": "code",
   "execution_count": 6,
   "id": "nzsOFyLi8a-w",
   "metadata": {
    "colab": {
     "base_uri": "https://localhost:8080/"
    },
    "id": "nzsOFyLi8a-w",
    "outputId": "3ba3480f-2625-41fa-fc25-dd3c9dbf30cc"
   },
   "outputs": [
    {
     "name": "stdout",
     "output_type": "stream",
     "text": [
      "<class 'pandas.core.frame.DataFrame'>\n",
      "RangeIndex: 3000000 entries, 0 to 2999999\n",
      "Data columns (total 10 columns):\n",
      " #   Column              Dtype  \n",
      "---  ------              -----  \n",
      " 0   Id                  object \n",
      " 1   Title               object \n",
      " 2   Price               float64\n",
      " 3   User_id             object \n",
      " 4   profileName         object \n",
      " 5   review/helpfulness  object \n",
      " 6   review/score        float64\n",
      " 7   review/time         int64  \n",
      " 8   review/summary      object \n",
      " 9   review/text         object \n",
      "dtypes: float64(2), int64(1), object(7)\n",
      "memory usage: 228.9+ MB\n"
     ]
    }
   ],
   "source": [
    "#let's see the number of rows  and columns\n",
    "book_reviews_ratings_df.info()"
   ]
  },
  {
   "cell_type": "code",
   "execution_count": 7,
   "id": "6UHsmfwAMcyK",
   "metadata": {
    "colab": {
     "base_uri": "https://localhost:8080/"
    },
    "id": "6UHsmfwAMcyK",
    "outputId": "f17f3c79-3832-4177-a892-7cd396ad9314"
   },
   "outputs": [
    {
     "name": "stdout",
     "output_type": "stream",
     "text": [
      "<class 'pandas.core.frame.DataFrame'>\n",
      "RangeIndex: 212404 entries, 0 to 212403\n",
      "Data columns (total 10 columns):\n",
      " #   Column         Non-Null Count   Dtype  \n",
      "---  ------         --------------   -----  \n",
      " 0   Title          212403 non-null  object \n",
      " 1   description    143962 non-null  object \n",
      " 2   authors        180991 non-null  object \n",
      " 3   image          160329 non-null  object \n",
      " 4   previewLink    188568 non-null  object \n",
      " 5   publisher      136518 non-null  object \n",
      " 6   publishedDate  187099 non-null  object \n",
      " 7   infoLink       188568 non-null  object \n",
      " 8   categories     171205 non-null  object \n",
      " 9   ratingsCount   49752 non-null   float64\n",
      "dtypes: float64(1), object(9)\n",
      "memory usage: 16.2+ MB\n"
     ]
    }
   ],
   "source": [
    "books_data_df.info()"
   ]
  },
  {
   "cell_type": "code",
   "execution_count": 8,
   "id": "HFx-4Rh2OCTi",
   "metadata": {
    "colab": {
     "base_uri": "https://localhost:8080/",
     "height": 556
    },
    "id": "HFx-4Rh2OCTi",
    "outputId": "683293f1-f2a2-4d7c-97d5-0c899362064f"
   },
   "outputs": [
    {
     "name": "stdout",
     "output_type": "stream",
     "text": [
      "CPU times: user 1.07 s, sys: 287 ms, total: 1.36 s\n",
      "Wall time: 1.42 s\n"
     ]
    },
    {
     "data": {
      "text/html": [
       "<div>\n",
       "<style scoped>\n",
       "    .dataframe tbody tr th:only-of-type {\n",
       "        vertical-align: middle;\n",
       "    }\n",
       "\n",
       "    .dataframe tbody tr th {\n",
       "        vertical-align: top;\n",
       "    }\n",
       "\n",
       "    .dataframe thead th {\n",
       "        text-align: right;\n",
       "    }\n",
       "</style>\n",
       "<table border=\"1\" class=\"dataframe\">\n",
       "  <thead>\n",
       "    <tr style=\"text-align: right;\">\n",
       "      <th></th>\n",
       "      <th>Id</th>\n",
       "      <th>Title</th>\n",
       "      <th>Price</th>\n",
       "      <th>User_id</th>\n",
       "      <th>profileName</th>\n",
       "      <th>review/helpfulness</th>\n",
       "      <th>review/score</th>\n",
       "      <th>review/time</th>\n",
       "      <th>review/summary</th>\n",
       "      <th>review/text</th>\n",
       "      <th>description</th>\n",
       "      <th>authors</th>\n",
       "      <th>image</th>\n",
       "      <th>previewLink</th>\n",
       "      <th>publisher</th>\n",
       "      <th>publishedDate</th>\n",
       "      <th>infoLink</th>\n",
       "      <th>categories</th>\n",
       "      <th>ratingsCount</th>\n",
       "    </tr>\n",
       "  </thead>\n",
       "  <tbody>\n",
       "    <tr>\n",
       "      <th>0</th>\n",
       "      <td>1882931173</td>\n",
       "      <td>Its Only Art If Its Well Hung!</td>\n",
       "      <td>NaN</td>\n",
       "      <td>AVCGYZL8FQQTD</td>\n",
       "      <td>Jim of Oz \"jim-of-oz\"</td>\n",
       "      <td>7/7</td>\n",
       "      <td>4.0</td>\n",
       "      <td>940636800</td>\n",
       "      <td>Nice collection of Julie Strain images</td>\n",
       "      <td>This is only for Julie Strain fans. It's a col...</td>\n",
       "      <td>NaN</td>\n",
       "      <td>['Julie Strain']</td>\n",
       "      <td>http://books.google.com/books/content?id=DykPA...</td>\n",
       "      <td>http://books.google.nl/books?id=DykPAAAACAAJ&amp;d...</td>\n",
       "      <td>NaN</td>\n",
       "      <td>1996</td>\n",
       "      <td>http://books.google.nl/books?id=DykPAAAACAAJ&amp;d...</td>\n",
       "      <td>['Comics &amp; Graphic Novels']</td>\n",
       "      <td>NaN</td>\n",
       "    </tr>\n",
       "    <tr>\n",
       "      <th>1</th>\n",
       "      <td>0826414346</td>\n",
       "      <td>Dr. Seuss: American Icon</td>\n",
       "      <td>NaN</td>\n",
       "      <td>A30TK6U7DNS82R</td>\n",
       "      <td>Kevin Killian</td>\n",
       "      <td>10/10</td>\n",
       "      <td>5.0</td>\n",
       "      <td>1095724800</td>\n",
       "      <td>Really Enjoyed It</td>\n",
       "      <td>I don't care much for Dr. Seuss but after read...</td>\n",
       "      <td>Philip Nel takes a fascinating look into the k...</td>\n",
       "      <td>['Philip Nel']</td>\n",
       "      <td>http://books.google.com/books/content?id=IjvHQ...</td>\n",
       "      <td>http://books.google.nl/books?id=IjvHQsCn_pgC&amp;p...</td>\n",
       "      <td>A&amp;C Black</td>\n",
       "      <td>2005-01-01</td>\n",
       "      <td>http://books.google.nl/books?id=IjvHQsCn_pgC&amp;d...</td>\n",
       "      <td>['Biography &amp; Autobiography']</td>\n",
       "      <td>NaN</td>\n",
       "    </tr>\n",
       "    <tr>\n",
       "      <th>2</th>\n",
       "      <td>0826414346</td>\n",
       "      <td>Dr. Seuss: American Icon</td>\n",
       "      <td>NaN</td>\n",
       "      <td>A3UH4UZ4RSVO82</td>\n",
       "      <td>John Granger</td>\n",
       "      <td>10/11</td>\n",
       "      <td>5.0</td>\n",
       "      <td>1078790400</td>\n",
       "      <td>Essential for every personal and Public Library</td>\n",
       "      <td>If people become the books they read and if \"t...</td>\n",
       "      <td>Philip Nel takes a fascinating look into the k...</td>\n",
       "      <td>['Philip Nel']</td>\n",
       "      <td>http://books.google.com/books/content?id=IjvHQ...</td>\n",
       "      <td>http://books.google.nl/books?id=IjvHQsCn_pgC&amp;p...</td>\n",
       "      <td>A&amp;C Black</td>\n",
       "      <td>2005-01-01</td>\n",
       "      <td>http://books.google.nl/books?id=IjvHQsCn_pgC&amp;d...</td>\n",
       "      <td>['Biography &amp; Autobiography']</td>\n",
       "      <td>NaN</td>\n",
       "    </tr>\n",
       "    <tr>\n",
       "      <th>3</th>\n",
       "      <td>0826414346</td>\n",
       "      <td>Dr. Seuss: American Icon</td>\n",
       "      <td>NaN</td>\n",
       "      <td>A2MVUWT453QH61</td>\n",
       "      <td>Roy E. Perry \"amateur philosopher\"</td>\n",
       "      <td>7/7</td>\n",
       "      <td>4.0</td>\n",
       "      <td>1090713600</td>\n",
       "      <td>Phlip Nel gives silly Seuss a serious treatment</td>\n",
       "      <td>Theodore Seuss Geisel (1904-1991), aka &amp;quot;D...</td>\n",
       "      <td>Philip Nel takes a fascinating look into the k...</td>\n",
       "      <td>['Philip Nel']</td>\n",
       "      <td>http://books.google.com/books/content?id=IjvHQ...</td>\n",
       "      <td>http://books.google.nl/books?id=IjvHQsCn_pgC&amp;p...</td>\n",
       "      <td>A&amp;C Black</td>\n",
       "      <td>2005-01-01</td>\n",
       "      <td>http://books.google.nl/books?id=IjvHQsCn_pgC&amp;d...</td>\n",
       "      <td>['Biography &amp; Autobiography']</td>\n",
       "      <td>NaN</td>\n",
       "    </tr>\n",
       "    <tr>\n",
       "      <th>4</th>\n",
       "      <td>0826414346</td>\n",
       "      <td>Dr. Seuss: American Icon</td>\n",
       "      <td>NaN</td>\n",
       "      <td>A22X4XUPKF66MR</td>\n",
       "      <td>D. H. Richards \"ninthwavestore\"</td>\n",
       "      <td>3/3</td>\n",
       "      <td>4.0</td>\n",
       "      <td>1107993600</td>\n",
       "      <td>Good academic overview</td>\n",
       "      <td>Philip Nel - Dr. Seuss: American IconThis is b...</td>\n",
       "      <td>Philip Nel takes a fascinating look into the k...</td>\n",
       "      <td>['Philip Nel']</td>\n",
       "      <td>http://books.google.com/books/content?id=IjvHQ...</td>\n",
       "      <td>http://books.google.nl/books?id=IjvHQsCn_pgC&amp;p...</td>\n",
       "      <td>A&amp;C Black</td>\n",
       "      <td>2005-01-01</td>\n",
       "      <td>http://books.google.nl/books?id=IjvHQsCn_pgC&amp;d...</td>\n",
       "      <td>['Biography &amp; Autobiography']</td>\n",
       "      <td>NaN</td>\n",
       "    </tr>\n",
       "  </tbody>\n",
       "</table>\n",
       "</div>"
      ],
      "text/plain": [
       "           Id                           Title  Price         User_id  \\\n",
       "0  1882931173  Its Only Art If Its Well Hung!    NaN   AVCGYZL8FQQTD   \n",
       "1  0826414346        Dr. Seuss: American Icon    NaN  A30TK6U7DNS82R   \n",
       "2  0826414346        Dr. Seuss: American Icon    NaN  A3UH4UZ4RSVO82   \n",
       "3  0826414346        Dr. Seuss: American Icon    NaN  A2MVUWT453QH61   \n",
       "4  0826414346        Dr. Seuss: American Icon    NaN  A22X4XUPKF66MR   \n",
       "\n",
       "                          profileName review/helpfulness  review/score  \\\n",
       "0               Jim of Oz \"jim-of-oz\"                7/7           4.0   \n",
       "1                       Kevin Killian              10/10           5.0   \n",
       "2                        John Granger              10/11           5.0   \n",
       "3  Roy E. Perry \"amateur philosopher\"                7/7           4.0   \n",
       "4     D. H. Richards \"ninthwavestore\"                3/3           4.0   \n",
       "\n",
       "   review/time                                   review/summary  \\\n",
       "0    940636800           Nice collection of Julie Strain images   \n",
       "1   1095724800                                Really Enjoyed It   \n",
       "2   1078790400  Essential for every personal and Public Library   \n",
       "3   1090713600  Phlip Nel gives silly Seuss a serious treatment   \n",
       "4   1107993600                           Good academic overview   \n",
       "\n",
       "                                         review/text  \\\n",
       "0  This is only for Julie Strain fans. It's a col...   \n",
       "1  I don't care much for Dr. Seuss but after read...   \n",
       "2  If people become the books they read and if \"t...   \n",
       "3  Theodore Seuss Geisel (1904-1991), aka &quot;D...   \n",
       "4  Philip Nel - Dr. Seuss: American IconThis is b...   \n",
       "\n",
       "                                         description           authors  \\\n",
       "0                                                NaN  ['Julie Strain']   \n",
       "1  Philip Nel takes a fascinating look into the k...    ['Philip Nel']   \n",
       "2  Philip Nel takes a fascinating look into the k...    ['Philip Nel']   \n",
       "3  Philip Nel takes a fascinating look into the k...    ['Philip Nel']   \n",
       "4  Philip Nel takes a fascinating look into the k...    ['Philip Nel']   \n",
       "\n",
       "                                               image  \\\n",
       "0  http://books.google.com/books/content?id=DykPA...   \n",
       "1  http://books.google.com/books/content?id=IjvHQ...   \n",
       "2  http://books.google.com/books/content?id=IjvHQ...   \n",
       "3  http://books.google.com/books/content?id=IjvHQ...   \n",
       "4  http://books.google.com/books/content?id=IjvHQ...   \n",
       "\n",
       "                                         previewLink  publisher publishedDate  \\\n",
       "0  http://books.google.nl/books?id=DykPAAAACAAJ&d...        NaN          1996   \n",
       "1  http://books.google.nl/books?id=IjvHQsCn_pgC&p...  A&C Black    2005-01-01   \n",
       "2  http://books.google.nl/books?id=IjvHQsCn_pgC&p...  A&C Black    2005-01-01   \n",
       "3  http://books.google.nl/books?id=IjvHQsCn_pgC&p...  A&C Black    2005-01-01   \n",
       "4  http://books.google.nl/books?id=IjvHQsCn_pgC&p...  A&C Black    2005-01-01   \n",
       "\n",
       "                                            infoLink  \\\n",
       "0  http://books.google.nl/books?id=DykPAAAACAAJ&d...   \n",
       "1  http://books.google.nl/books?id=IjvHQsCn_pgC&d...   \n",
       "2  http://books.google.nl/books?id=IjvHQsCn_pgC&d...   \n",
       "3  http://books.google.nl/books?id=IjvHQsCn_pgC&d...   \n",
       "4  http://books.google.nl/books?id=IjvHQsCn_pgC&d...   \n",
       "\n",
       "                      categories  ratingsCount  \n",
       "0    ['Comics & Graphic Novels']           NaN  \n",
       "1  ['Biography & Autobiography']           NaN  \n",
       "2  ['Biography & Autobiography']           NaN  \n",
       "3  ['Biography & Autobiography']           NaN  \n",
       "4  ['Biography & Autobiography']           NaN  "
      ]
     },
     "execution_count": 8,
     "metadata": {},
     "output_type": "execute_result"
    }
   ],
   "source": [
    "# Merging  both dataframes using 'Title' column\n",
    "%time book_reviews = pd.merge(book_reviews_ratings_df, books_data_df, on='Title', how='inner')\n",
    "\n",
    "# Display the first few rows of the merged dataframe\n",
    "book_reviews.head()\n"
   ]
  },
  {
   "cell_type": "code",
   "execution_count": 9,
   "id": "vBn952_JOUBK",
   "metadata": {
    "colab": {
     "base_uri": "https://localhost:8080/"
    },
    "id": "vBn952_JOUBK",
    "outputId": "908c4593-c5ba-4429-ecff-811425605f7d"
   },
   "outputs": [
    {
     "name": "stdout",
     "output_type": "stream",
     "text": [
      "<class 'pandas.core.frame.DataFrame'>\n",
      "RangeIndex: 3000000 entries, 0 to 2999999\n",
      "Data columns (total 19 columns):\n",
      " #   Column              Dtype  \n",
      "---  ------              -----  \n",
      " 0   Id                  object \n",
      " 1   Title               object \n",
      " 2   Price               float64\n",
      " 3   User_id             object \n",
      " 4   profileName         object \n",
      " 5   review/helpfulness  object \n",
      " 6   review/score        float64\n",
      " 7   review/time         int64  \n",
      " 8   review/summary      object \n",
      " 9   review/text         object \n",
      " 10  description         object \n",
      " 11  authors             object \n",
      " 12  image               object \n",
      " 13  previewLink         object \n",
      " 14  publisher           object \n",
      " 15  publishedDate       object \n",
      " 16  infoLink            object \n",
      " 17  categories          object \n",
      " 18  ratingsCount        float64\n",
      "dtypes: float64(3), int64(1), object(15)\n",
      "memory usage: 434.9+ MB\n"
     ]
    }
   ],
   "source": [
    "book_reviews.info()"
   ]
  },
  {
   "cell_type": "markdown",
   "id": "5dd77e0b-e36d-4f66-bb7d-a51e69709095",
   "metadata": {
    "id": "5dd77e0b-e36d-4f66-bb7d-a51e69709095"
   },
   "source": [
    "# Strategies Breakdown"
   ]
  },
  {
   "cell_type": "markdown",
   "id": "07124286-f7ce-4c06-b2d6-f595ed6ed85f",
   "metadata": {
    "id": "07124286-f7ce-4c06-b2d6-f595ed6ed85f"
   },
   "source": [
    "## Loading less data"
   ]
  },
  {
   "cell_type": "code",
   "execution_count": 10,
   "id": "3b4663de-0385-4277-8552-5fa740985e7f",
   "metadata": {
    "colab": {
     "base_uri": "https://localhost:8080/"
    },
    "id": "3b4663de-0385-4277-8552-5fa740985e7f",
    "outputId": "c59196a4-bf55-4b40-b9d9-c9df18905799"
   },
   "outputs": [
    {
     "name": "stdout",
     "output_type": "stream",
     "text": [
      "Memory Usage Per Column\n"
     ]
    },
    {
     "data": {
      "text/plain": [
       "Index                        128\n",
       "Id                     201000000\n",
       "Title                  283750173\n",
       "Price                   24000000\n",
       "User_id                190443659\n",
       "profileName            194945088\n",
       "review/helpfulness     180922789\n",
       "review/score            24000000\n",
       "review/time             24000000\n",
       "review/summary         255280402\n",
       "review/text           2638894911\n",
       "description           2565140634\n",
       "authors                219493680\n",
       "image                  421321244\n",
       "previewLink            496644711\n",
       "publisher              186977554\n",
       "publishedDate          182350049\n",
       "infoLink               418779102\n",
       "categories             196082615\n",
       "ratingsCount            24000000\n",
       "dtype: int64"
      ]
     },
     "execution_count": 10,
     "metadata": {},
     "output_type": "execute_result"
    }
   ],
   "source": [
    "# Measurements\n",
    "## Memory usage\n",
    "## Computation time\n",
    "## File size\n",
    "print(\"Memory Usage Per Column\")\n",
    "book_reviews.memory_usage(deep=True)"
   ]
  },
  {
   "cell_type": "code",
   "execution_count": 11,
   "id": "8Q0ly1_dC3H_",
   "metadata": {
    "colab": {
     "base_uri": "https://localhost:8080/"
    },
    "id": "8Q0ly1_dC3H_",
    "outputId": "1deb172b-da9d-421a-c400-8a75c2318638"
   },
   "outputs": [
    {
     "name": "stdout",
     "output_type": "stream",
     "text": [
      "Total Memory Usage :8.13 GBs\n"
     ]
    }
   ],
   "source": [
    "total_memory_usage=book_reviews.memory_usage(deep=True).sum() / (1024 ** 3)\n",
    "print(f\"Total Memory Usage :{total_memory_usage:0.2f} GBs\")"
   ]
  },
  {
   "cell_type": "markdown",
   "id": "Mk2FsJW_EGqL",
   "metadata": {
    "id": "Mk2FsJW_EGqL"
   },
   "source": [
    "# Project Scope\n",
    "\n",
    "## Objective\n",
    "To perform a temporal analysis of customer sentiment across the Fiction and Non-fiction genres using the dataset, with a specific focus on how sentiment trends evolve over a defined period.\n",
    "\n",
    "## Genres\n",
    "- Fiction\n",
    "- Non-fiction (Identified using the 'categories' column)\n",
    "\n",
    "## Time Frame\n",
    "- **Analysis Period:** Reviews from the last five years (2008-2013).\n",
    "- **Temporal Resolution:** Analysis could be broken down by year, quarter, or month, depending on the granularity of the 'review/time' information available.\n",
    "\n",
    "## Memory Usage Considerations\n",
    "- **Date Filtering:** We will filter reviews using the 'review/time' column to include only those within the specified time frame, reducing data volume.\n",
    "- **Genre Filtering:** We will use the 'categories' column to include only reviews from the selected genres, further narrowing the data scope.\n",
    "- **Column Selection:** We will load only the columns necessary for our analysis ('Title', 'review/text', 'review/time', 'review/score', and 'categories') to minimize memory footprint.\n",
    "\n",
    "## Analysis Stages\n",
    "1. **Data Preparation:** Load and preprocess the data to ensure it's in the correct format for temporal analysis.\n",
    "2. **Sentiment Analysis:** Apply NLP techniques to assess the sentiment of each review.\n",
    "3. **Temporal Aggregation:** Group sentiment data by time periods and categories (genres).\n",
    "4. **Trend Identification:** Observe trends in sentiment over the analysis period.\n",
    "\n"
   ]
  },
  {
   "cell_type": "markdown",
   "id": "eSszbK5zICWh",
   "metadata": {
    "id": "eSszbK5zICWh"
   },
   "source": [
    "# Data Preparation\n",
    "\n",
    "During the Data Preparation stage, we will:\n",
    "\n",
    "1. **Load the dataset** while selecting only the necessary columns for analysis ('Title', 'categories', 'review/text', 'review/time', and 'review/score') to minimize the memory usage.\n",
    "2. **Parse the date column** ('review/time') to a `datetime` format to facilitate temporal analysis.\n",
    "3. **Filter the dataset** based on the date range (last five years: 2008-2013) and genres specified in our project scope ('Fiction' and 'Non-fiction'), using the 'categories' column for genre identification.\n",
    "\n",
    "By completing these steps, we ensure the dataset is in the correct format for temporal analysis and contains only the most relevant information for our analysis, which helps in managing memory usage effectively.\n"
   ]
  },
  {
   "cell_type": "code",
   "execution_count": 12,
   "id": "WxkE2iWefwM5",
   "metadata": {
    "colab": {
     "base_uri": "https://localhost:8080/",
     "height": 521
    },
    "id": "WxkE2iWefwM5",
    "outputId": "adefdc43-3187-4408-ab06-001d42587eb5"
   },
   "outputs": [
    {
     "name": "stdout",
     "output_type": "stream",
     "text": [
      "CPU times: user 10 s, sys: 20.1 ms, total: 10 s\n",
      "Wall time: 10.1 s\n"
     ]
    }
   ],
   "source": [
    "from datetime import datetime\n",
    "def contains_genre(category_str):\n",
    "    if pd.isna(category_str):\n",
    "        return False\n",
    "    # Evaluating the string to a list\n",
    "    try:\n",
    "        category_list = eval(category_str)\n",
    "    except:\n",
    "        return False\n",
    "    # Check if 'Fiction' or 'Non-fiction' is in the list\n",
    "    return any(genre in category_list for genre in ['Fiction', 'Non-fiction'])\n",
    "\n",
    "book_reviews['review/time'] = pd.to_datetime(book_reviews['review/time'], unit='s')\n",
    "\n",
    "start_date = datetime(2008, 1, 1)\n",
    "end_date = datetime(2013, 3, 4)\n",
    "\n",
    "# Filter the dataset based on the adjusted time frame\n",
    "\n",
    "%time filtered_book_reviews = book_reviews[(book_reviews['review/time'] >= start_date) &(book_reviews['review/time'] < end_date) &(book_reviews['categories'].apply(contains_genre))]\n"
   ]
  },
  {
   "cell_type": "code",
   "execution_count": 13,
   "id": "d58dd0d2-45c5-4e9c-b1dc-86c77efad171",
   "metadata": {},
   "outputs": [
    {
     "data": {
      "text/html": [
       "<div>\n",
       "<style scoped>\n",
       "    .dataframe tbody tr th:only-of-type {\n",
       "        vertical-align: middle;\n",
       "    }\n",
       "\n",
       "    .dataframe tbody tr th {\n",
       "        vertical-align: top;\n",
       "    }\n",
       "\n",
       "    .dataframe thead th {\n",
       "        text-align: right;\n",
       "    }\n",
       "</style>\n",
       "<table border=\"1\" class=\"dataframe\">\n",
       "  <thead>\n",
       "    <tr style=\"text-align: right;\">\n",
       "      <th></th>\n",
       "      <th>Id</th>\n",
       "      <th>Title</th>\n",
       "      <th>Price</th>\n",
       "      <th>User_id</th>\n",
       "      <th>profileName</th>\n",
       "      <th>review/helpfulness</th>\n",
       "      <th>review/score</th>\n",
       "      <th>review/time</th>\n",
       "      <th>review/summary</th>\n",
       "      <th>review/text</th>\n",
       "      <th>description</th>\n",
       "      <th>authors</th>\n",
       "      <th>image</th>\n",
       "      <th>previewLink</th>\n",
       "      <th>publisher</th>\n",
       "      <th>publishedDate</th>\n",
       "      <th>infoLink</th>\n",
       "      <th>categories</th>\n",
       "      <th>ratingsCount</th>\n",
       "    </tr>\n",
       "  </thead>\n",
       "  <tbody>\n",
       "    <tr>\n",
       "      <th>306</th>\n",
       "      <td>B000PHTCGG</td>\n",
       "      <td>Seance</td>\n",
       "      <td>NaN</td>\n",
       "      <td>A1OD12WATUM1GL</td>\n",
       "      <td>S. Rubin</td>\n",
       "      <td>0/0</td>\n",
       "      <td>3.0</td>\n",
       "      <td>2012-12-23</td>\n",
       "      <td>Singer writes scary stories</td>\n",
       "      <td>&amp;#34;The Seance&amp;#34; is a collection of short ...</td>\n",
       "      <td>Mysterieus, duister en passioneel Londen, 19de...</td>\n",
       "      <td>['Kevin Valgaeren']</td>\n",
       "      <td>http://books.google.com/books/content?id=BiOTC...</td>\n",
       "      <td>http://books.google.nl/books?id=BiOTCwAAQBAJ&amp;p...</td>\n",
       "      <td>Lannoo Meulenhoff - Belgium</td>\n",
       "      <td>2016-02-13</td>\n",
       "      <td>https://play.google.com/store/books/details?id...</td>\n",
       "      <td>['Fiction']</td>\n",
       "      <td>NaN</td>\n",
       "    </tr>\n",
       "    <tr>\n",
       "      <th>307</th>\n",
       "      <td>B000PHTCGG</td>\n",
       "      <td>Seance</td>\n",
       "      <td>NaN</td>\n",
       "      <td>A1OB5L3WMHJAD9</td>\n",
       "      <td>Christopher Culver</td>\n",
       "      <td>0/0</td>\n",
       "      <td>4.0</td>\n",
       "      <td>2012-08-08</td>\n",
       "      <td>Short stories that use Jewish peasant life to ...</td>\n",
       "      <td>THE S&amp;Eacute;ANCE AND OTHER STORIES is a colle...</td>\n",
       "      <td>Mysterieus, duister en passioneel Londen, 19de...</td>\n",
       "      <td>['Kevin Valgaeren']</td>\n",
       "      <td>http://books.google.com/books/content?id=BiOTC...</td>\n",
       "      <td>http://books.google.nl/books?id=BiOTCwAAQBAJ&amp;p...</td>\n",
       "      <td>Lannoo Meulenhoff - Belgium</td>\n",
       "      <td>2016-02-13</td>\n",
       "      <td>https://play.google.com/store/books/details?id...</td>\n",
       "      <td>['Fiction']</td>\n",
       "      <td>NaN</td>\n",
       "    </tr>\n",
       "    <tr>\n",
       "      <th>330</th>\n",
       "      <td>B000KBH818</td>\n",
       "      <td>Trouble on Titan</td>\n",
       "      <td>NaN</td>\n",
       "      <td>AKY819078CJN1</td>\n",
       "      <td>comatus \"comatus\"</td>\n",
       "      <td>3/3</td>\n",
       "      <td>5.0</td>\n",
       "      <td>2011-03-18</td>\n",
       "      <td>On reflection, what do you think of it now?</td>\n",
       "      <td>Twelve years after the first review, and Cassi...</td>\n",
       "      <td>NaN</td>\n",
       "      <td>['Alan Nourse']</td>\n",
       "      <td>NaN</td>\n",
       "      <td>http://books.google.nl/books?id=dyUMOQAACAAJ&amp;d...</td>\n",
       "      <td>Ace Books</td>\n",
       "      <td>1986</td>\n",
       "      <td>http://books.google.nl/books?id=dyUMOQAACAAJ&amp;d...</td>\n",
       "      <td>['Fiction']</td>\n",
       "      <td>1.0</td>\n",
       "    </tr>\n",
       "    <tr>\n",
       "      <th>587</th>\n",
       "      <td>B000N7612G</td>\n",
       "      <td>The Food Of Love</td>\n",
       "      <td>NaN</td>\n",
       "      <td>A1FGFBC0DZ7G00</td>\n",
       "      <td>A. Cooper \"Book Buying Grandmother\"</td>\n",
       "      <td>0/0</td>\n",
       "      <td>5.0</td>\n",
       "      <td>2012-12-16</td>\n",
       "      <td>Fun Novel for Foodies</td>\n",
       "      <td>This novel is just fun...not super serious lit...</td>\n",
       "      <td>Een heerlijke roman over culinaire verleiding ...</td>\n",
       "      <td>['Anthony Capella']</td>\n",
       "      <td>http://books.google.com/books/content?id=pyFZA...</td>\n",
       "      <td>http://books.google.nl/books?id=pyFZAgAAQBAJ&amp;p...</td>\n",
       "      <td>Boekerij</td>\n",
       "      <td>2013-12-17</td>\n",
       "      <td>http://books.google.nl/books?id=pyFZAgAAQBAJ&amp;d...</td>\n",
       "      <td>['Fiction']</td>\n",
       "      <td>NaN</td>\n",
       "    </tr>\n",
       "    <tr>\n",
       "      <th>588</th>\n",
       "      <td>B000N7612G</td>\n",
       "      <td>The Food Of Love</td>\n",
       "      <td>NaN</td>\n",
       "      <td>A2V6FC7GVZ6T7M</td>\n",
       "      <td>P. Newhart</td>\n",
       "      <td>0/0</td>\n",
       "      <td>5.0</td>\n",
       "      <td>2010-09-26</td>\n",
       "      <td>The Food of Love</td>\n",
       "      <td>A tale of tangled relationships and excellent ...</td>\n",
       "      <td>Een heerlijke roman over culinaire verleiding ...</td>\n",
       "      <td>['Anthony Capella']</td>\n",
       "      <td>http://books.google.com/books/content?id=pyFZA...</td>\n",
       "      <td>http://books.google.nl/books?id=pyFZAgAAQBAJ&amp;p...</td>\n",
       "      <td>Boekerij</td>\n",
       "      <td>2013-12-17</td>\n",
       "      <td>http://books.google.nl/books?id=pyFZAgAAQBAJ&amp;d...</td>\n",
       "      <td>['Fiction']</td>\n",
       "      <td>NaN</td>\n",
       "    </tr>\n",
       "  </tbody>\n",
       "</table>\n",
       "</div>"
      ],
      "text/plain": [
       "             Id             Title  Price         User_id  \\\n",
       "306  B000PHTCGG            Seance    NaN  A1OD12WATUM1GL   \n",
       "307  B000PHTCGG            Seance    NaN  A1OB5L3WMHJAD9   \n",
       "330  B000KBH818  Trouble on Titan    NaN   AKY819078CJN1   \n",
       "587  B000N7612G  The Food Of Love    NaN  A1FGFBC0DZ7G00   \n",
       "588  B000N7612G  The Food Of Love    NaN  A2V6FC7GVZ6T7M   \n",
       "\n",
       "                             profileName review/helpfulness  review/score  \\\n",
       "306                             S. Rubin                0/0           3.0   \n",
       "307                   Christopher Culver                0/0           4.0   \n",
       "330                    comatus \"comatus\"                3/3           5.0   \n",
       "587  A. Cooper \"Book Buying Grandmother\"                0/0           5.0   \n",
       "588                           P. Newhart                0/0           5.0   \n",
       "\n",
       "    review/time                                     review/summary  \\\n",
       "306  2012-12-23                        Singer writes scary stories   \n",
       "307  2012-08-08  Short stories that use Jewish peasant life to ...   \n",
       "330  2011-03-18        On reflection, what do you think of it now?   \n",
       "587  2012-12-16                              Fun Novel for Foodies   \n",
       "588  2010-09-26                                   The Food of Love   \n",
       "\n",
       "                                           review/text  \\\n",
       "306  &#34;The Seance&#34; is a collection of short ...   \n",
       "307  THE S&Eacute;ANCE AND OTHER STORIES is a colle...   \n",
       "330  Twelve years after the first review, and Cassi...   \n",
       "587  This novel is just fun...not super serious lit...   \n",
       "588  A tale of tangled relationships and excellent ...   \n",
       "\n",
       "                                           description              authors  \\\n",
       "306  Mysterieus, duister en passioneel Londen, 19de...  ['Kevin Valgaeren']   \n",
       "307  Mysterieus, duister en passioneel Londen, 19de...  ['Kevin Valgaeren']   \n",
       "330                                                NaN      ['Alan Nourse']   \n",
       "587  Een heerlijke roman over culinaire verleiding ...  ['Anthony Capella']   \n",
       "588  Een heerlijke roman over culinaire verleiding ...  ['Anthony Capella']   \n",
       "\n",
       "                                                 image  \\\n",
       "306  http://books.google.com/books/content?id=BiOTC...   \n",
       "307  http://books.google.com/books/content?id=BiOTC...   \n",
       "330                                                NaN   \n",
       "587  http://books.google.com/books/content?id=pyFZA...   \n",
       "588  http://books.google.com/books/content?id=pyFZA...   \n",
       "\n",
       "                                           previewLink  \\\n",
       "306  http://books.google.nl/books?id=BiOTCwAAQBAJ&p...   \n",
       "307  http://books.google.nl/books?id=BiOTCwAAQBAJ&p...   \n",
       "330  http://books.google.nl/books?id=dyUMOQAACAAJ&d...   \n",
       "587  http://books.google.nl/books?id=pyFZAgAAQBAJ&p...   \n",
       "588  http://books.google.nl/books?id=pyFZAgAAQBAJ&p...   \n",
       "\n",
       "                       publisher publishedDate  \\\n",
       "306  Lannoo Meulenhoff - Belgium    2016-02-13   \n",
       "307  Lannoo Meulenhoff - Belgium    2016-02-13   \n",
       "330                    Ace Books          1986   \n",
       "587                     Boekerij    2013-12-17   \n",
       "588                     Boekerij    2013-12-17   \n",
       "\n",
       "                                              infoLink   categories  \\\n",
       "306  https://play.google.com/store/books/details?id...  ['Fiction']   \n",
       "307  https://play.google.com/store/books/details?id...  ['Fiction']   \n",
       "330  http://books.google.nl/books?id=dyUMOQAACAAJ&d...  ['Fiction']   \n",
       "587  http://books.google.nl/books?id=pyFZAgAAQBAJ&d...  ['Fiction']   \n",
       "588  http://books.google.nl/books?id=pyFZAgAAQBAJ&d...  ['Fiction']   \n",
       "\n",
       "     ratingsCount  \n",
       "306           NaN  \n",
       "307           NaN  \n",
       "330           1.0  \n",
       "587           NaN  \n",
       "588           NaN  "
      ]
     },
     "execution_count": 13,
     "metadata": {},
     "output_type": "execute_result"
    }
   ],
   "source": [
    "filtered_book_reviews.head()"
   ]
  },
  {
   "cell_type": "code",
   "execution_count": 14,
   "id": "voz__ddkj3_c",
   "metadata": {
    "colab": {
     "base_uri": "https://localhost:8080/"
    },
    "id": "voz__ddkj3_c",
    "outputId": "0a17de0f-c02e-4e38-bb22-b7aedb0937f6"
   },
   "outputs": [
    {
     "name": "stdout",
     "output_type": "stream",
     "text": [
      "Total Initial Memory Usage :8.13 GBs\n",
      "Total Filtered Memory Usage :0.84 GBs\n"
     ]
    }
   ],
   "source": [
    "# Measure memory usage after filtering\n",
    "filtered_memory_usage = filtered_book_reviews.memory_usage(deep=True).sum() / (1024 ** 3)\n",
    "print(f\"Total Initial Memory Usage :{total_memory_usage:0.2f} GBs\")\n",
    "print(f\"Total Filtered Memory Usage :{filtered_memory_usage:0.2f} GBs\")"
   ]
  },
  {
   "cell_type": "markdown",
   "id": "kwk6DfBKlhGj",
   "metadata": {
    "id": "kwk6DfBKlhGj"
   },
   "source": [
    "#Inorder to further our understanding we tried to do some NLP\n",
    "\n",
    "### **Sentiment Analysis**\n",
    "Apply Natural Language Processing (NLP) techniques to assess the sentiment of each review."
   ]
  },
  {
   "cell_type": "code",
   "execution_count": 15,
   "id": "Q4dYrQf_lko-",
   "metadata": {
    "colab": {
     "base_uri": "https://localhost:8080/"
    },
    "id": "Q4dYrQf_lko-",
    "outputId": "8c812719-00a7-4836-f200-83caa72b4a8b"
   },
   "outputs": [
    {
     "name": "stderr",
     "output_type": "stream",
     "text": [
      "[nltk_data] Downloading package vader_lexicon to\n",
      "[nltk_data]     /Users/bakunga/nltk_data...\n",
      "[nltk_data]   Package vader_lexicon is already up-to-date!\n"
     ]
    },
    {
     "name": "stdout",
     "output_type": "stream",
     "text": [
      "CPU times: user 3min 48s, sys: 5.13 s, total: 3min 53s\n",
      "Wall time: 3min 55s\n"
     ]
    },
    {
     "name": "stderr",
     "output_type": "stream",
     "text": [
      "<timed exec>:1: SettingWithCopyWarning: \n",
      "A value is trying to be set on a copy of a slice from a DataFrame.\n",
      "Try using .loc[row_indexer,col_indexer] = value instead\n",
      "\n",
      "See the caveats in the documentation: https://pandas.pydata.org/pandas-docs/stable/user_guide/indexing.html#returning-a-view-versus-a-copy\n"
     ]
    }
   ],
   "source": [
    "from nltk.sentiment import SentimentIntensityAnalyzer\n",
    "import nltk\n",
    "nltk.download('vader_lexicon')\n",
    "\n",
    "# Initialize Sentiment Analyzer\n",
    "sia = SentimentIntensityAnalyzer()\n",
    "\n",
    "# Function to get sentiment from review text\n",
    "def get_sentiment(review):\n",
    "    if pd.isna(review):\n",
    "        return None\n",
    "    return sia.polarity_scores(review)[\"compound\"]\n",
    "\n",
    "# Apply sentiment analysis\n",
    "%time filtered_book_reviews['sentiment'] = filtered_book_reviews['review/text'].apply(get_sentiment)\n"
   ]
  },
  {
   "cell_type": "markdown",
   "id": "zFL4ej9olz8Y",
   "metadata": {
    "id": "zFL4ej9olz8Y"
   },
   "source": [
    "### **Temporal Aggregation**\n",
    "Group sentiment data by time periods and categories (genres)."
   ]
  },
  {
   "cell_type": "code",
   "execution_count": 16,
   "id": "Sl_wDRLgl7kN",
   "metadata": {
    "colab": {
     "base_uri": "https://localhost:8080/"
    },
    "id": "Sl_wDRLgl7kN",
    "outputId": "3f81d5fc-03c2-4fe6-9c30-fea130e8ad77"
   },
   "outputs": [
    {
     "name": "stderr",
     "output_type": "stream",
     "text": [
      "/var/folders/s4/g54wg_l110g1__ts615yy6b40000gn/T/ipykernel_34532/612796918.py:2: SettingWithCopyWarning: \n",
      "A value is trying to be set on a copy of a slice from a DataFrame.\n",
      "Try using .loc[row_indexer,col_indexer] = value instead\n",
      "\n",
      "See the caveats in the documentation: https://pandas.pydata.org/pandas-docs/stable/user_guide/indexing.html#returning-a-view-versus-a-copy\n",
      "  filtered_book_reviews['year'] = filtered_book_reviews['review/time'].dt.year\n"
     ]
    }
   ],
   "source": [
    "# Group by year and category for sentiment analysis\n",
    "filtered_book_reviews['year'] = filtered_book_reviews['review/time'].dt.year\n",
    "grouped_data = filtered_book_reviews.groupby(['year', 'categories'])['sentiment'].mean().reset_index()\n"
   ]
  },
  {
   "cell_type": "markdown",
   "id": "Yc2OzR2kmCdy",
   "metadata": {
    "id": "Yc2OzR2kmCdy"
   },
   "source": [
    "### **Trend Identification**\n",
    "Observe trends in sentiment over the analysis period."
   ]
  },
  {
   "cell_type": "code",
   "execution_count": 17,
   "id": "WkINBNfxl--a",
   "metadata": {
    "colab": {
     "base_uri": "https://localhost:8080/",
     "height": 474
    },
    "id": "WkINBNfxl--a",
    "outputId": "920aebf3-1e28-4c5d-e85d-162c3e87872c"
   },
   "outputs": [
    {
     "data": {
      "image/png": "[encoded data removed]",
      "text/plain": [
       "<Figure size 1200x600 with 1 Axes>"
      ]
     },
     "metadata": {},
     "output_type": "display_data"
    }
   ],
   "source": [
    "import matplotlib.pyplot as plt\n",
    "import seaborn as sns\n",
    "\n",
    "# Plotting sentiment trends\n",
    "plt.figure(figsize=(12, 6))\n",
    "sns.lineplot(data=grouped_data, x='year', y='sentiment', hue='categories')\n",
    "plt.title('Sentiment Trends Over Time by Categories')\n",
    "plt.xlabel('Year')\n",
    "plt.ylabel('Average Sentiment Score')\n",
    "plt.show()\n"
   ]
  },
  {
   "cell_type": "markdown",
   "id": "QkIM09Qokfo_",
   "metadata": {
    "id": "QkIM09Qokfo_"
   },
   "source": [
    "# Memory Usage Analysis\n",
    "\n",
    "## Initial Memory Usage\n",
    "The initial memory usage of the `book_reviews` DataFrame is approximately `8.15` GBs.\n",
    "\n",
    "## After Filtering Columns\n",
    "After applying the filters (date range: 2008-2013, categories: Fiction or Non-fiction), the memory usage of the `filtered_book_reviews` DataFrame is approximately `0.84` GBs.\n",
    "\n",
    "This reduction in memory usage demonstrates the effectiveness of our data filtering strategy in managing the memory footprint of large datasets.\n"
   ]
  },
  {
   "cell_type": "code",
   "execution_count": 18,
   "id": "xEbc2vJxkukU",
   "metadata": {
    "colab": {
     "base_uri": "https://localhost:8080/"
    },
    "id": "xEbc2vJxkukU",
    "outputId": "262ef624-c04e-44cf-faa1-b13f5f233e47"
   },
   "outputs": [
    {
     "name": "stdout",
     "output_type": "stream",
     "text": [
      "Reduction in Memory Usage: 89.70%\n"
     ]
    }
   ],
   "source": [
    "reduction_percentage = ((total_memory_usage - filtered_memory_usage) / total_memory_usage) * 100\n",
    "print(\"Reduction in Memory Usage: {:.2f}%\".format(reduction_percentage))"
   ]
  },
  {
   "cell_type": "markdown",
   "id": "J-gHk-Lkn4SK",
   "metadata": {
    "id": "J-gHk-Lkn4SK"
   },
   "source": [
    "The rest can be done like the above below we shall be interested in only memory usage"
   ]
  },
  {
   "cell_type": "markdown",
   "id": "0655da4f-4a48-41e0-8898-b86a5a973813",
   "metadata": {
    "id": "0655da4f-4a48-41e0-8898-b86a5a973813"
   },
   "source": [
    "## Using chunking\n",
    "# Introduction to Chunk-Based Processing\n",
    "\n",
    "When dealing with large datasets, especially those too big to fit into memory, chunk-based processing is a crucial strategy. It involves dividing the dataset into smaller, manageable chunks, processing each individually, and then combining the results. This approach is particularly effective for operations like merging two large datasets where direct processing is not feasible due to memory constraints.\n",
    "We made to come since we wanted to read the dataset knowing that the memory of the system we were using wasn't enough therefore we had to use chunks if the above code has finished running if you try to read the datasets directly without chunks the data won't be loaded."
   ]
  },
  {
   "cell_type": "code",
   "execution_count": 19,
   "id": "e601d838-f992-4262-a990-b5bf60f4c4ce",
   "metadata": {
    "colab": {
     "base_uri": "https://localhost:8080/",
     "height": 556
    },
    "id": "e601d838-f992-4262-a990-b5bf60f4c4ce",
    "outputId": "08146e82-25cc-42da-8c90-41758efaab18"
   },
   "outputs": [
    {
     "name": "stdout",
     "output_type": "stream",
     "text": [
      "CPU times: user 111 ms, sys: 24.4 ms, total: 135 ms\n",
      "Wall time: 139 ms\n",
      "CPU times: user 99 ms, sys: 11.2 ms, total: 110 ms\n",
      "Wall time: 113 ms\n",
      "CPU times: user 115 ms, sys: 14.8 ms, total: 130 ms\n",
      "Wall time: 137 ms\n",
      "CPU times: user 101 ms, sys: 10.9 ms, total: 112 ms\n",
      "Wall time: 118 ms\n",
      "CPU times: user 101 ms, sys: 6.36 ms, total: 107 ms\n",
      "Wall time: 109 ms\n",
      "CPU times: user 96.7 ms, sys: 7.72 ms, total: 104 ms\n",
      "Wall time: 105 ms\n",
      "CPU times: user 104 ms, sys: 10.9 ms, total: 115 ms\n",
      "Wall time: 120 ms\n",
      "CPU times: user 98.9 ms, sys: 8.07 ms, total: 107 ms\n",
      "Wall time: 107 ms\n",
      "CPU times: user 99.2 ms, sys: 7.35 ms, total: 107 ms\n",
      "Wall time: 107 ms\n",
      "CPU times: user 98.6 ms, sys: 7.56 ms, total: 106 ms\n",
      "Wall time: 106 ms\n",
      "CPU times: user 101 ms, sys: 9.18 ms, total: 111 ms\n",
      "Wall time: 111 ms\n",
      "CPU times: user 101 ms, sys: 7.5 ms, total: 108 ms\n",
      "Wall time: 109 ms\n",
      "CPU times: user 99.8 ms, sys: 6.91 ms, total: 107 ms\n",
      "Wall time: 107 ms\n",
      "CPU times: user 98.7 ms, sys: 5.86 ms, total: 105 ms\n",
      "Wall time: 105 ms\n",
      "CPU times: user 102 ms, sys: 15.6 ms, total: 118 ms\n",
      "Wall time: 119 ms\n",
      "CPU times: user 98.8 ms, sys: 4.93 ms, total: 104 ms\n",
      "Wall time: 110 ms\n",
      "CPU times: user 101 ms, sys: 12.8 ms, total: 113 ms\n",
      "Wall time: 115 ms\n",
      "CPU times: user 99.5 ms, sys: 8.86 ms, total: 108 ms\n",
      "Wall time: 109 ms\n",
      "CPU times: user 99.3 ms, sys: 7.66 ms, total: 107 ms\n",
      "Wall time: 108 ms\n",
      "CPU times: user 98.9 ms, sys: 4.01 ms, total: 103 ms\n",
      "Wall time: 103 ms\n",
      "CPU times: user 98.8 ms, sys: 6.62 ms, total: 105 ms\n",
      "Wall time: 106 ms\n",
      "CPU times: user 98.6 ms, sys: 7.93 ms, total: 107 ms\n",
      "Wall time: 107 ms\n",
      "CPU times: user 101 ms, sys: 6.31 ms, total: 107 ms\n",
      "Wall time: 108 ms\n",
      "CPU times: user 102 ms, sys: 11.5 ms, total: 113 ms\n",
      "Wall time: 115 ms\n",
      "CPU times: user 106 ms, sys: 19.1 ms, total: 125 ms\n",
      "Wall time: 127 ms\n",
      "CPU times: user 104 ms, sys: 10.9 ms, total: 115 ms\n",
      "Wall time: 117 ms\n",
      "CPU times: user 101 ms, sys: 9.92 ms, total: 111 ms\n",
      "Wall time: 111 ms\n",
      "CPU times: user 97.8 ms, sys: 8.29 ms, total: 106 ms\n",
      "Wall time: 106 ms\n",
      "CPU times: user 100 ms, sys: 6.51 ms, total: 107 ms\n",
      "Wall time: 108 ms\n",
      "CPU times: user 105 ms, sys: 11 ms, total: 116 ms\n",
      "Wall time: 128 ms\n"
     ]
    },
    {
     "data": {
      "text/html": [
       "<div>\n",
       "<style scoped>\n",
       "    .dataframe tbody tr th:only-of-type {\n",
       "        vertical-align: middle;\n",
       "    }\n",
       "\n",
       "    .dataframe tbody tr th {\n",
       "        vertical-align: top;\n",
       "    }\n",
       "\n",
       "    .dataframe thead th {\n",
       "        text-align: right;\n",
       "    }\n",
       "</style>\n",
       "<table border=\"1\" class=\"dataframe\">\n",
       "  <thead>\n",
       "    <tr style=\"text-align: right;\">\n",
       "      <th></th>\n",
       "      <th>Id</th>\n",
       "      <th>Title</th>\n",
       "      <th>Price</th>\n",
       "      <th>User_id</th>\n",
       "      <th>profileName</th>\n",
       "      <th>review/helpfulness</th>\n",
       "      <th>review/score</th>\n",
       "      <th>review/time</th>\n",
       "      <th>review/summary</th>\n",
       "      <th>review/text</th>\n",
       "      <th>description</th>\n",
       "      <th>authors</th>\n",
       "      <th>image</th>\n",
       "      <th>previewLink</th>\n",
       "      <th>publisher</th>\n",
       "      <th>publishedDate</th>\n",
       "      <th>infoLink</th>\n",
       "      <th>categories</th>\n",
       "      <th>ratingsCount</th>\n",
       "    </tr>\n",
       "  </thead>\n",
       "  <tbody>\n",
       "    <tr>\n",
       "      <th>0</th>\n",
       "      <td>1882931173</td>\n",
       "      <td>Its Only Art If Its Well Hung!</td>\n",
       "      <td>NaN</td>\n",
       "      <td>AVCGYZL8FQQTD</td>\n",
       "      <td>Jim of Oz \"jim-of-oz\"</td>\n",
       "      <td>7/7</td>\n",
       "      <td>4.0</td>\n",
       "      <td>940636800</td>\n",
       "      <td>Nice collection of Julie Strain images</td>\n",
       "      <td>This is only for Julie Strain fans. It's a col...</td>\n",
       "      <td>NaN</td>\n",
       "      <td>['Julie Strain']</td>\n",
       "      <td>http://books.google.com/books/content?id=DykPA...</td>\n",
       "      <td>http://books.google.nl/books?id=DykPAAAACAAJ&amp;d...</td>\n",
       "      <td>NaN</td>\n",
       "      <td>1996</td>\n",
       "      <td>http://books.google.nl/books?id=DykPAAAACAAJ&amp;d...</td>\n",
       "      <td>['Comics &amp; Graphic Novels']</td>\n",
       "      <td>NaN</td>\n",
       "    </tr>\n",
       "    <tr>\n",
       "      <th>1</th>\n",
       "      <td>0826414346</td>\n",
       "      <td>Dr. Seuss: American Icon</td>\n",
       "      <td>NaN</td>\n",
       "      <td>A30TK6U7DNS82R</td>\n",
       "      <td>Kevin Killian</td>\n",
       "      <td>10/10</td>\n",
       "      <td>5.0</td>\n",
       "      <td>1095724800</td>\n",
       "      <td>Really Enjoyed It</td>\n",
       "      <td>I don't care much for Dr. Seuss but after read...</td>\n",
       "      <td>Philip Nel takes a fascinating look into the k...</td>\n",
       "      <td>['Philip Nel']</td>\n",
       "      <td>http://books.google.com/books/content?id=IjvHQ...</td>\n",
       "      <td>http://books.google.nl/books?id=IjvHQsCn_pgC&amp;p...</td>\n",
       "      <td>A&amp;C Black</td>\n",
       "      <td>2005-01-01</td>\n",
       "      <td>http://books.google.nl/books?id=IjvHQsCn_pgC&amp;d...</td>\n",
       "      <td>['Biography &amp; Autobiography']</td>\n",
       "      <td>NaN</td>\n",
       "    </tr>\n",
       "    <tr>\n",
       "      <th>2</th>\n",
       "      <td>0826414346</td>\n",
       "      <td>Dr. Seuss: American Icon</td>\n",
       "      <td>NaN</td>\n",
       "      <td>A3UH4UZ4RSVO82</td>\n",
       "      <td>John Granger</td>\n",
       "      <td>10/11</td>\n",
       "      <td>5.0</td>\n",
       "      <td>1078790400</td>\n",
       "      <td>Essential for every personal and Public Library</td>\n",
       "      <td>If people become the books they read and if \"t...</td>\n",
       "      <td>Philip Nel takes a fascinating look into the k...</td>\n",
       "      <td>['Philip Nel']</td>\n",
       "      <td>http://books.google.com/books/content?id=IjvHQ...</td>\n",
       "      <td>http://books.google.nl/books?id=IjvHQsCn_pgC&amp;p...</td>\n",
       "      <td>A&amp;C Black</td>\n",
       "      <td>2005-01-01</td>\n",
       "      <td>http://books.google.nl/books?id=IjvHQsCn_pgC&amp;d...</td>\n",
       "      <td>['Biography &amp; Autobiography']</td>\n",
       "      <td>NaN</td>\n",
       "    </tr>\n",
       "    <tr>\n",
       "      <th>3</th>\n",
       "      <td>0826414346</td>\n",
       "      <td>Dr. Seuss: American Icon</td>\n",
       "      <td>NaN</td>\n",
       "      <td>A2MVUWT453QH61</td>\n",
       "      <td>Roy E. Perry \"amateur philosopher\"</td>\n",
       "      <td>7/7</td>\n",
       "      <td>4.0</td>\n",
       "      <td>1090713600</td>\n",
       "      <td>Phlip Nel gives silly Seuss a serious treatment</td>\n",
       "      <td>Theodore Seuss Geisel (1904-1991), aka &amp;quot;D...</td>\n",
       "      <td>Philip Nel takes a fascinating look into the k...</td>\n",
       "      <td>['Philip Nel']</td>\n",
       "      <td>http://books.google.com/books/content?id=IjvHQ...</td>\n",
       "      <td>http://books.google.nl/books?id=IjvHQsCn_pgC&amp;p...</td>\n",
       "      <td>A&amp;C Black</td>\n",
       "      <td>2005-01-01</td>\n",
       "      <td>http://books.google.nl/books?id=IjvHQsCn_pgC&amp;d...</td>\n",
       "      <td>['Biography &amp; Autobiography']</td>\n",
       "      <td>NaN</td>\n",
       "    </tr>\n",
       "    <tr>\n",
       "      <th>4</th>\n",
       "      <td>0826414346</td>\n",
       "      <td>Dr. Seuss: American Icon</td>\n",
       "      <td>NaN</td>\n",
       "      <td>A22X4XUPKF66MR</td>\n",
       "      <td>D. H. Richards \"ninthwavestore\"</td>\n",
       "      <td>3/3</td>\n",
       "      <td>4.0</td>\n",
       "      <td>1107993600</td>\n",
       "      <td>Good academic overview</td>\n",
       "      <td>Philip Nel - Dr. Seuss: American IconThis is b...</td>\n",
       "      <td>Philip Nel takes a fascinating look into the k...</td>\n",
       "      <td>['Philip Nel']</td>\n",
       "      <td>http://books.google.com/books/content?id=IjvHQ...</td>\n",
       "      <td>http://books.google.nl/books?id=IjvHQsCn_pgC&amp;p...</td>\n",
       "      <td>A&amp;C Black</td>\n",
       "      <td>2005-01-01</td>\n",
       "      <td>http://books.google.nl/books?id=IjvHQsCn_pgC&amp;d...</td>\n",
       "      <td>['Biography &amp; Autobiography']</td>\n",
       "      <td>NaN</td>\n",
       "    </tr>\n",
       "  </tbody>\n",
       "</table>\n",
       "</div>"
      ],
      "text/plain": [
       "           Id                           Title  Price         User_id  \\\n",
       "0  1882931173  Its Only Art If Its Well Hung!    NaN   AVCGYZL8FQQTD   \n",
       "1  0826414346        Dr. Seuss: American Icon    NaN  A30TK6U7DNS82R   \n",
       "2  0826414346        Dr. Seuss: American Icon    NaN  A3UH4UZ4RSVO82   \n",
       "3  0826414346        Dr. Seuss: American Icon    NaN  A2MVUWT453QH61   \n",
       "4  0826414346        Dr. Seuss: American Icon    NaN  A22X4XUPKF66MR   \n",
       "\n",
       "                          profileName review/helpfulness  review/score  \\\n",
       "0               Jim of Oz \"jim-of-oz\"                7/7           4.0   \n",
       "1                       Kevin Killian              10/10           5.0   \n",
       "2                        John Granger              10/11           5.0   \n",
       "3  Roy E. Perry \"amateur philosopher\"                7/7           4.0   \n",
       "4     D. H. Richards \"ninthwavestore\"                3/3           4.0   \n",
       "\n",
       "   review/time                                   review/summary  \\\n",
       "0    940636800           Nice collection of Julie Strain images   \n",
       "1   1095724800                                Really Enjoyed It   \n",
       "2   1078790400  Essential for every personal and Public Library   \n",
       "3   1090713600  Phlip Nel gives silly Seuss a serious treatment   \n",
       "4   1107993600                           Good academic overview   \n",
       "\n",
       "                                         review/text  \\\n",
       "0  This is only for Julie Strain fans. It's a col...   \n",
       "1  I don't care much for Dr. Seuss but after read...   \n",
       "2  If people become the books they read and if \"t...   \n",
       "3  Theodore Seuss Geisel (1904-1991), aka &quot;D...   \n",
       "4  Philip Nel - Dr. Seuss: American IconThis is b...   \n",
       "\n",
       "                                         description           authors  \\\n",
       "0                                                NaN  ['Julie Strain']   \n",
       "1  Philip Nel takes a fascinating look into the k...    ['Philip Nel']   \n",
       "2  Philip Nel takes a fascinating look into the k...    ['Philip Nel']   \n",
       "3  Philip Nel takes a fascinating look into the k...    ['Philip Nel']   \n",
       "4  Philip Nel takes a fascinating look into the k...    ['Philip Nel']   \n",
       "\n",
       "                                               image  \\\n",
       "0  http://books.google.com/books/content?id=DykPA...   \n",
       "1  http://books.google.com/books/content?id=IjvHQ...   \n",
       "2  http://books.google.com/books/content?id=IjvHQ...   \n",
       "3  http://books.google.com/books/content?id=IjvHQ...   \n",
       "4  http://books.google.com/books/content?id=IjvHQ...   \n",
       "\n",
       "                                         previewLink  publisher publishedDate  \\\n",
       "0  http://books.google.nl/books?id=DykPAAAACAAJ&d...        NaN          1996   \n",
       "1  http://books.google.nl/books?id=IjvHQsCn_pgC&p...  A&C Black    2005-01-01   \n",
       "2  http://books.google.nl/books?id=IjvHQsCn_pgC&p...  A&C Black    2005-01-01   \n",
       "3  http://books.google.nl/books?id=IjvHQsCn_pgC&p...  A&C Black    2005-01-01   \n",
       "4  http://books.google.nl/books?id=IjvHQsCn_pgC&p...  A&C Black    2005-01-01   \n",
       "\n",
       "                                            infoLink  \\\n",
       "0  http://books.google.nl/books?id=DykPAAAACAAJ&d...   \n",
       "1  http://books.google.nl/books?id=IjvHQsCn_pgC&d...   \n",
       "2  http://books.google.nl/books?id=IjvHQsCn_pgC&d...   \n",
       "3  http://books.google.nl/books?id=IjvHQsCn_pgC&d...   \n",
       "4  http://books.google.nl/books?id=IjvHQsCn_pgC&d...   \n",
       "\n",
       "                      categories  ratingsCount  \n",
       "0    ['Comics & Graphic Novels']           NaN  \n",
       "1  ['Biography & Autobiography']           NaN  \n",
       "2  ['Biography & Autobiography']           NaN  \n",
       "3  ['Biography & Autobiography']           NaN  \n",
       "4  ['Biography & Autobiography']           NaN  "
      ]
     },
     "execution_count": 19,
     "metadata": {},
     "output_type": "execute_result"
    }
   ],
   "source": [
    "\n",
    "chunk_size = 100000  #Chunk size\n",
    "\n",
    "# 'Title' is the common column for merging\n",
    "key_column = 'Title'\n",
    "\n",
    "# Read the second DataFrame entirely since it fits into memory\n",
    "books_data = pd.read_csv(\"books_data.csv\")\n",
    "\n",
    "# Initialize a list to store processed chunks\n",
    "processed_chunks = []\n",
    "\n",
    "# Iterate over the first DataFrame in chunks\n",
    "for chunk in pd.read_csv(\"Books_rating.csv\", chunksize=chunk_size):\n",
    "    # Merge the current chunk with the second DataFrame\n",
    "    %time merged_chunk = pd.merge(chunk, books_data, on=key_column)\n",
    "\n",
    "    # Store the processed chunk\n",
    "    processed_chunks.append(merged_chunk)\n",
    "\n",
    "# Concatenate all processed chunks into one DataFrame\n",
    "final_result = pd.concat(processed_chunks)\n",
    "\n",
    "final_result.head()"
   ]
  },
  {
   "cell_type": "code",
   "execution_count": 20,
   "id": "EdpKI6AYzhai",
   "metadata": {
    "colab": {
     "base_uri": "https://localhost:8080/"
    },
    "id": "EdpKI6AYzhai",
    "outputId": "256fc3f6-2eb7-476d-8df1-5bd600bffa25"
   },
   "outputs": [
    {
     "name": "stdout",
     "output_type": "stream",
     "text": [
      "Optimized Memory Usage with chunks :8.15 GBs\n"
     ]
    }
   ],
   "source": [
    "sampled_memory_usage = final_result.memory_usage(deep=True).sum() / (1024 ** 3)\n",
    "print(f\"Optimized Memory Usage with chunks :{sampled_memory_usage:0.2f} GBs\")"
   ]
  },
  {
   "cell_type": "markdown",
   "id": "c9f6e8ec-fd2f-411b-96a5-4d6f62a8f19e",
   "metadata": {
    "id": "c9f6e8ec-fd2f-411b-96a5-4d6f62a8f19e"
   },
   "source": [
    "## Optimizing  data types"
   ]
  },
  {
   "cell_type": "code",
   "execution_count": 21,
   "id": "cd15533b-8589-4e96-8525-b4aa80eed9a7",
   "metadata": {
    "colab": {
     "base_uri": "https://localhost:8080/"
    },
    "id": "cd15533b-8589-4e96-8525-b4aa80eed9a7",
    "outputId": "fb357816-d312-42cb-87b1-7072fc3026a2"
   },
   "outputs": [
    {
     "name": "stdout",
     "output_type": "stream",
     "text": [
      "Total Memory Usage :8.13 GBs\n"
     ]
    }
   ],
   "source": [
    "# Measurements\n",
    "## Memory usage\n",
    "## Computation time\n",
    "## File size\n",
    "# let's see the memory usage\n",
    "total_memory_usage=book_reviews.memory_usage(deep=True).sum() / (1024 ** 3)\n",
    "print(f\"Total Memory Usage :{total_memory_usage:0.2f} GBs\")"
   ]
  },
  {
   "cell_type": "code",
   "execution_count": 22,
   "id": "Hsjd7XRAowWw",
   "metadata": {
    "colab": {
     "base_uri": "https://localhost:8080/"
    },
    "id": "Hsjd7XRAowWw",
    "outputId": "6a891efa-cfaf-4e77-c5ee-bc248da03f6c"
   },
   "outputs": [
    {
     "data": {
      "text/plain": [
       "Id                            object\n",
       "Title                         object\n",
       "Price                        float64\n",
       "User_id                       object\n",
       "profileName                   object\n",
       "review/helpfulness            object\n",
       "review/score                 float64\n",
       "review/time           datetime64[ns]\n",
       "review/summary                object\n",
       "review/text                   object\n",
       "description                   object\n",
       "authors                       object\n",
       "image                         object\n",
       "previewLink                   object\n",
       "publisher                     object\n",
       "publishedDate                 object\n",
       "infoLink                      object\n",
       "categories                    object\n",
       "ratingsCount                 float64\n",
       "dtype: object"
      ]
     },
     "execution_count": 22,
     "metadata": {},
     "output_type": "execute_result"
    }
   ],
   "source": [
    "book_reviews.dtypes"
   ]
  },
  {
   "cell_type": "code",
   "execution_count": 23,
   "id": "0mDUqC-CpKYe",
   "metadata": {
    "id": "0mDUqC-CpKYe"
   },
   "outputs": [],
   "source": [
    "#let do some adjustment from the datatypes above\n",
    "# Optimizing object types to category\n",
    "object_columns = book_reviews.select_dtypes(include=['object']).columns\n",
    "for col in object_columns:\n",
    "    if len(book_reviews[col].unique()) / len(book_reviews[col]) < 0.5:\n",
    "        book_reviews[col] = book_reviews[col].astype('category')\n",
    "\n",
    "# Optimizing float64 to float32\n",
    "float_columns = book_reviews.select_dtypes(include=['float64']).columns\n",
    "for col in float_columns:\n",
    "    book_reviews[col] = book_reviews[col].astype('float32')\n",
    "\n",
    "# Check new data types\n",
    "optimized_dtypes = book_reviews.dtypes\n"
   ]
  },
  {
   "cell_type": "code",
   "execution_count": 24,
   "id": "_Fwb-G3Rpcxz",
   "metadata": {
    "colab": {
     "base_uri": "https://localhost:8080/"
    },
    "id": "_Fwb-G3Rpcxz",
    "outputId": "8d10257b-d464-45d1-c1b0-c2624d31140a"
   },
   "outputs": [
    {
     "data": {
      "text/plain": [
       "Id                          category\n",
       "Title                       category\n",
       "Price                        float32\n",
       "User_id                     category\n",
       "profileName                 category\n",
       "review/helpfulness          category\n",
       "review/score                 float32\n",
       "review/time           datetime64[ns]\n",
       "review/summary                object\n",
       "review/text                   object\n",
       "description                 category\n",
       "authors                     category\n",
       "image                       category\n",
       "previewLink                 category\n",
       "publisher                   category\n",
       "publishedDate               category\n",
       "infoLink                    category\n",
       "categories                  category\n",
       "ratingsCount                 float32\n",
       "dtype: object"
      ]
     },
     "execution_count": 24,
     "metadata": {},
     "output_type": "execute_result"
    }
   ],
   "source": [
    "optimized_dtypes"
   ]
  },
  {
   "cell_type": "markdown",
   "id": "ZCqEJ24YptmZ",
   "metadata": {
    "id": "ZCqEJ24YptmZ"
   },
   "source": [
    "# Data Type Optimization\n",
    "\n",
    "To optimize memory usage, we've adjusted the data types in the `book_reviews` DataFrame:\n",
    "\n",
    "1. **Object to Category Conversion**: Columns with limited unique values, previously `object` type, have been converted to `category`. This is especially useful for columns like genres, author names, etc.\n",
    "\n",
    "2. **Float64 to Float32 Downgrade**: Columns initially with `float64` data type have been downgraded to `float32` for reduced memory usage without significant loss of precision.\n",
    "\n",
    "3. **Integer Type Optimization**: Where applicable, integer columns have been adjusted to use the smallest possible data type (e.g., `int8`, `int16`) based on their range of values.\n",
    "\n",
    "After these optimizations, we believe that the DataFrame should consume significantly less memory, improving the efficiency of data processing and analysis.\n",
    "\n",
    "\n",
    "Let's the memory analysis now"
   ]
  },
  {
   "cell_type": "code",
   "execution_count": 25,
   "id": "mvsjdNy7qEe2",
   "metadata": {
    "colab": {
     "base_uri": "https://localhost:8080/"
    },
    "id": "mvsjdNy7qEe2",
    "outputId": "f02c259d-dde5-486b-abf0-ad3686123f4c"
   },
   "outputs": [
    {
     "name": "stdout",
     "output_type": "stream",
     "text": [
      "Optimized Memory Usage with data types :3.34 GBs\n"
     ]
    }
   ],
   "source": [
    "optimized_memory = book_reviews.memory_usage(deep=True).sum() / (1024 ** 3)\n",
    "print(f\"Optimized Memory Usage with data types :{optimized_memory:0.2f} GBs\")"
   ]
  },
  {
   "cell_type": "code",
   "execution_count": 26,
   "id": "HK_NwFxzuCYL",
   "metadata": {
    "colab": {
     "base_uri": "https://localhost:8080/"
    },
    "id": "HK_NwFxzuCYL",
    "outputId": "6ab55145-d802-4b95-a147-65ff1c708bf3"
   },
   "outputs": [
    {
     "name": "stdout",
     "output_type": "stream",
     "text": [
      "Reduction in Memory Usage: 58.87%\n"
     ]
    }
   ],
   "source": [
    "reduction_percentage = ((total_memory_usage - optimized_memory) / total_memory_usage) * 100\n",
    "print(\"Reduction in Memory Usage: {:.2f}%\".format(reduction_percentage))"
   ]
  },
  {
   "cell_type": "code",
   "execution_count": 27,
   "id": "fae27c27-17a2-4d0c-b0a6-a22669fe298b",
   "metadata": {},
   "outputs": [],
   "source": [
    "# Outputing the csv to see the new file size\n",
    "book_reviews.to_csv(\"optimized_combined_data.csv\")"
   ]
  },
  {
   "cell_type": "code",
   "execution_count": 28,
   "id": "c9804c90-069c-4fa1-85fa-aa696a07df71",
   "metadata": {},
   "outputs": [
    {
     "name": "stdout",
     "output_type": "stream",
     "text": [
      "The size of the file is 5.25 GB\n"
     ]
    }
   ],
   "source": [
    "# Checking the size\n",
    "import os\n",
    "file_path = \"optimized_combined_data.csv\"\n",
    "size_in_bytes = os.path.getsize(file_path)\n",
    "size_in_gb = size_in_bytes / (1024**3)\n",
    "print(f\"The size of the file is {size_in_gb:.2f} GB\")"
   ]
  },
  {
   "cell_type": "code",
   "execution_count": 29,
   "id": "9b493115-2e42-478a-acea-7e84fbe65df7",
   "metadata": {},
   "outputs": [],
   "source": [
    "### The final file size after optimizing the data types reduced by 2.86 GB"
   ]
  },
  {
   "cell_type": "markdown",
   "id": "8fc535b4-d066-4a72-ada7-1528edbb5460",
   "metadata": {
    "id": "8fc535b4-d066-4a72-ada7-1528edbb5460"
   },
   "source": [
    "## Sampling"
   ]
  },
  {
   "cell_type": "code",
   "execution_count": 30,
   "id": "3357160a-30b4-49da-b1cf-b5b60b6d311d",
   "metadata": {
    "id": "3357160a-30b4-49da-b1cf-b5b60b6d311d"
   },
   "outputs": [
    {
     "name": "stdout",
     "output_type": "stream",
     "text": [
      "CPU times: user 171 ms, sys: 138 ms, total: 309 ms\n",
      "Wall time: 334 ms\n"
     ]
    }
   ],
   "source": [
    "# We  shall consider 10%  of the book_review data frame\n",
    "sampling_fraction = 0.1\n",
    "%time sampled_book_reviews = book_reviews.sample(frac=sampling_fraction)\n"
   ]
  },
  {
   "cell_type": "code",
   "execution_count": 31,
   "id": "9Xp0r-hXvse6",
   "metadata": {
    "colab": {
     "base_uri": "https://localhost:8080/"
    },
    "id": "9Xp0r-hXvse6",
    "outputId": "e5cb73c5-338f-4e2e-c1a9-9c2080788670"
   },
   "outputs": [
    {
     "name": "stdout",
     "output_type": "stream",
     "text": [
      "Optimized Memory Usage with sampling :0.76 GBs\n"
     ]
    }
   ],
   "source": [
    "sampled_memory_usage = sampled_book_reviews.memory_usage(deep=True).sum() / (1024 ** 3)\n",
    "print(f\"Optimized Memory Usage with sampling :{sampled_memory_usage:0.2f} GBs\")"
   ]
  },
  {
   "cell_type": "code",
   "execution_count": 32,
   "id": "Q5lWSditv9QT",
   "metadata": {
    "colab": {
     "base_uri": "https://localhost:8080/"
    },
    "id": "Q5lWSditv9QT",
    "outputId": "d688605e-4338-4f15-c087-7e12a0d90430"
   },
   "outputs": [
    {
     "name": "stdout",
     "output_type": "stream",
     "text": [
      "Reduction in Memory Usage: 90.65%\n"
     ]
    }
   ],
   "source": [
    "reduction_percentage = ((total_memory_usage - sampled_memory_usage) / total_memory_usage) * 100\n",
    "print(\"Reduction in Memory Usage: {:.2f}%\".format(reduction_percentage))"
   ]
  },
  {
   "cell_type": "markdown",
   "id": "M6tE_UXHwQLz",
   "metadata": {
    "id": "M6tE_UXHwQLz"
   },
   "source": [
    "# Sampling Technique Analysis\n",
    "\n",
    "## Sampling Strategy\n",
    "To enhance processing efficiency and reduce computational load, a random sampling technique was employed. A fraction of `0.1` was selected, which effectively reduces the dataset to 10% of its original size.\n",
    "\n",
    "## Memory Usage Post-Sampling\n",
    "After sampling, the memory usage of the `book_reviews` DataFrame was reduced to approximately `0.76` GBs. This represents a significant decrease from the original dataset size, making it more manageable for analysis, especially in environments with limited resources.\n",
    "\n",
    "## Implications\n",
    "While sampling offers a considerable reduction in data size and memory usage, it's important to acknowledge that sampling may lead to loss of information and potential biases. Thus, the sampled dataset should be used with an understanding of these limitations, particularly in analyses where the representation of the full dataset is crucial.\n"
   ]
  },
  {
   "cell_type": "markdown",
   "id": "fcdfe927-b020-4735-b0ea-f857a2df0c27",
   "metadata": {
    "id": "fcdfe927-b020-4735-b0ea-f857a2df0c27"
   },
   "source": [
    "## Parallelize with Dask"
   ]
  },
  {
   "cell_type": "markdown",
   "id": "LCwYtroisylY",
   "metadata": {
    "id": "LCwYtroisylY"
   },
   "source": [
    "Dask is a library that introduces that scheduler which handles the distribution of tasks across multiple cores on the same machine and in a distributed cluster. Dask also optimizes and reuses evaluations of functions under the hood to reduce memory usage and complete tasks faster. Let us explore using Dask on the same dataset and see what reductions it yields."
   ]
  },
  {
   "cell_type": "code",
   "execution_count": 33,
   "id": "CJTxzFk2snhD",
   "metadata": {
    "colab": {
     "base_uri": "https://localhost:8080/",
     "height": 487
    },
    "id": "CJTxzFk2snhD",
    "outputId": "c1e935f0-dc4a-422d-9e4a-6144a9460753"
   },
   "outputs": [
    {
     "name": "stdout",
     "output_type": "stream",
     "text": [
      "CPU times: user 13.1 ms, sys: 10.8 ms, total: 23.9 ms\n",
      "Wall time: 28 ms\n",
      "CPU times: user 5.99 ms, sys: 2.44 ms, total: 8.42 ms\n",
      "Wall time: 9.16 ms\n"
     ]
    }
   ],
   "source": [
    "# Loading the same Books_rating.csv and books_data.csv using Dask\n",
    "dtype={'Id': 'object'}\n",
    "%time df = dd.read_csv(\"Books_rating.csv\", dtype=dtype, )\n",
    "%time books_df = dd.read_csv(\"books_data.csv\")"
   ]
  },
  {
   "cell_type": "markdown",
   "id": "25bea00f-18fe-4a45-93a4-6c2ee5be37ef",
   "metadata": {},
   "source": [
    "### Observation: \n",
    "We can see that the load times were faster than using Pandas, this becomes more evident on even bigger datasets"
   ]
  },
  {
   "cell_type": "code",
   "execution_count": 34,
   "id": "3393c6de-bdba-422c-8457-4773d5c51c63",
   "metadata": {},
   "outputs": [
    {
     "data": {
      "text/html": [
       "<div>\n",
       "<style scoped>\n",
       "    .dataframe tbody tr th:only-of-type {\n",
       "        vertical-align: middle;\n",
       "    }\n",
       "\n",
       "    .dataframe tbody tr th {\n",
       "        vertical-align: top;\n",
       "    }\n",
       "\n",
       "    .dataframe thead th {\n",
       "        text-align: right;\n",
       "    }\n",
       "</style>\n",
       "<table border=\"1\" class=\"dataframe\">\n",
       "  <thead>\n",
       "    <tr style=\"text-align: right;\">\n",
       "      <th></th>\n",
       "      <th>Id</th>\n",
       "      <th>Title</th>\n",
       "      <th>Price</th>\n",
       "      <th>User_id</th>\n",
       "      <th>profileName</th>\n",
       "      <th>review/helpfulness</th>\n",
       "      <th>review/score</th>\n",
       "      <th>review/time</th>\n",
       "      <th>review/summary</th>\n",
       "      <th>review/text</th>\n",
       "    </tr>\n",
       "  </thead>\n",
       "  <tbody>\n",
       "    <tr>\n",
       "      <th>0</th>\n",
       "      <td>1882931173</td>\n",
       "      <td>Its Only Art If Its Well Hung!</td>\n",
       "      <td>NaN</td>\n",
       "      <td>AVCGYZL8FQQTD</td>\n",
       "      <td>Jim of Oz \"jim-of-oz\"</td>\n",
       "      <td>7/7</td>\n",
       "      <td>4.0</td>\n",
       "      <td>940636800</td>\n",
       "      <td>Nice collection of Julie Strain images</td>\n",
       "      <td>This is only for Julie Strain fans. It's a col...</td>\n",
       "    </tr>\n",
       "    <tr>\n",
       "      <th>1</th>\n",
       "      <td>0826414346</td>\n",
       "      <td>Dr. Seuss: American Icon</td>\n",
       "      <td>NaN</td>\n",
       "      <td>A30TK6U7DNS82R</td>\n",
       "      <td>Kevin Killian</td>\n",
       "      <td>10/10</td>\n",
       "      <td>5.0</td>\n",
       "      <td>1095724800</td>\n",
       "      <td>Really Enjoyed It</td>\n",
       "      <td>I don't care much for Dr. Seuss but after read...</td>\n",
       "    </tr>\n",
       "    <tr>\n",
       "      <th>2</th>\n",
       "      <td>0826414346</td>\n",
       "      <td>Dr. Seuss: American Icon</td>\n",
       "      <td>NaN</td>\n",
       "      <td>A3UH4UZ4RSVO82</td>\n",
       "      <td>John Granger</td>\n",
       "      <td>10/11</td>\n",
       "      <td>5.0</td>\n",
       "      <td>1078790400</td>\n",
       "      <td>Essential for every personal and Public Library</td>\n",
       "      <td>If people become the books they read and if \"t...</td>\n",
       "    </tr>\n",
       "    <tr>\n",
       "      <th>3</th>\n",
       "      <td>0826414346</td>\n",
       "      <td>Dr. Seuss: American Icon</td>\n",
       "      <td>NaN</td>\n",
       "      <td>A2MVUWT453QH61</td>\n",
       "      <td>Roy E. Perry \"amateur philosopher\"</td>\n",
       "      <td>7/7</td>\n",
       "      <td>4.0</td>\n",
       "      <td>1090713600</td>\n",
       "      <td>Phlip Nel gives silly Seuss a serious treatment</td>\n",
       "      <td>Theodore Seuss Geisel (1904-1991), aka &amp;quot;D...</td>\n",
       "    </tr>\n",
       "    <tr>\n",
       "      <th>4</th>\n",
       "      <td>0826414346</td>\n",
       "      <td>Dr. Seuss: American Icon</td>\n",
       "      <td>NaN</td>\n",
       "      <td>A22X4XUPKF66MR</td>\n",
       "      <td>D. H. Richards \"ninthwavestore\"</td>\n",
       "      <td>3/3</td>\n",
       "      <td>4.0</td>\n",
       "      <td>1107993600</td>\n",
       "      <td>Good academic overview</td>\n",
       "      <td>Philip Nel - Dr. Seuss: American IconThis is b...</td>\n",
       "    </tr>\n",
       "  </tbody>\n",
       "</table>\n",
       "</div>"
      ],
      "text/plain": [
       "           Id                           Title  Price         User_id  \\\n",
       "0  1882931173  Its Only Art If Its Well Hung!    NaN   AVCGYZL8FQQTD   \n",
       "1  0826414346        Dr. Seuss: American Icon    NaN  A30TK6U7DNS82R   \n",
       "2  0826414346        Dr. Seuss: American Icon    NaN  A3UH4UZ4RSVO82   \n",
       "3  0826414346        Dr. Seuss: American Icon    NaN  A2MVUWT453QH61   \n",
       "4  0826414346        Dr. Seuss: American Icon    NaN  A22X4XUPKF66MR   \n",
       "\n",
       "                          profileName review/helpfulness  review/score  \\\n",
       "0               Jim of Oz \"jim-of-oz\"                7/7           4.0   \n",
       "1                       Kevin Killian              10/10           5.0   \n",
       "2                        John Granger              10/11           5.0   \n",
       "3  Roy E. Perry \"amateur philosopher\"                7/7           4.0   \n",
       "4     D. H. Richards \"ninthwavestore\"                3/3           4.0   \n",
       "\n",
       "   review/time                                   review/summary  \\\n",
       "0    940636800           Nice collection of Julie Strain images   \n",
       "1   1095724800                                Really Enjoyed It   \n",
       "2   1078790400  Essential for every personal and Public Library   \n",
       "3   1090713600  Phlip Nel gives silly Seuss a serious treatment   \n",
       "4   1107993600                           Good academic overview   \n",
       "\n",
       "                                         review/text  \n",
       "0  This is only for Julie Strain fans. It's a col...  \n",
       "1  I don't care much for Dr. Seuss but after read...  \n",
       "2  If people become the books they read and if \"t...  \n",
       "3  Theodore Seuss Geisel (1904-1991), aka &quot;D...  \n",
       "4  Philip Nel - Dr. Seuss: American IconThis is b...  "
      ]
     },
     "execution_count": 34,
     "metadata": {},
     "output_type": "execute_result"
    }
   ],
   "source": [
    "# Loading the first 5 observations\n",
    "df.head(5)"
   ]
  },
  {
   "cell_type": "code",
   "execution_count": 35,
   "id": "D3hV7NJZ5ecq",
   "metadata": {
    "colab": {
     "base_uri": "https://localhost:8080/"
    },
    "id": "D3hV7NJZ5ecq",
    "outputId": "712a643f-2f7a-4707-afad-9e9312572c53"
   },
   "outputs": [
    {
     "name": "stdout",
     "output_type": "stream",
     "text": [
      "<class 'dask.dataframe.core.DataFrame'>\n",
      "Columns: 10 entries, Id to review/text\n",
      "dtypes: float64(2), int64(1), string(7)\n",
      "memory usage: 2.7 GB\n",
      "<class 'dask.dataframe.core.DataFrame'>\n",
      "Columns: 10 entries, Title to ratingsCount\n",
      "dtypes: float64(1), string(9)\n",
      "memory usage: 179.3 MB\n"
     ]
    }
   ],
   "source": [
    "# Checking the initial memory management\n",
    "df.info(memory_usage=\"deep\")\n",
    "books_df.info(memory_usage=\"deep\")"
   ]
  },
  {
   "cell_type": "markdown",
   "id": "9fd6dd6e-ddf0-4a00-8b6f-7d0ba79ae157",
   "metadata": {},
   "source": [
    "### Observation\n",
    "The memory usage has been reduced greatly"
   ]
  },
  {
   "cell_type": "code",
   "execution_count": 36,
   "id": "0d4281f2-a6f1-4270-a9b9-ed5a0bca0efe",
   "metadata": {
    "id": "0d4281f2-a6f1-4270-a9b9-ed5a0bca0efe"
   },
   "outputs": [
    {
     "name": "stdout",
     "output_type": "stream",
     "text": [
      "CPU times: user 36.5 s, sys: 10.2 s, total: 46.7 s\n",
      "Wall time: 35.5 s\n"
     ]
    }
   ],
   "source": [
    "## Computation time\n",
    "\n",
    "# Merging  both dataframes using 'Title' column\n",
    "%time book_reviews = dd.merge(df, books_df, on='Title', how='inner').compute()\n"
   ]
  },
  {
   "cell_type": "code",
   "execution_count": 37,
   "id": "e77cba89-e206-4614-8772-8ccdf2de8509",
   "metadata": {
    "scrolled": true
   },
   "outputs": [
    {
     "name": "stderr",
     "output_type": "stream",
     "text": [
      "[nltk_data] Downloading package vader_lexicon to\n",
      "[nltk_data]     /Users/bakunga/nltk_data...\n",
      "[nltk_data]   Package vader_lexicon is already up-to-date!\n"
     ]
    },
    {
     "name": "stdout",
     "output_type": "stream",
     "text": [
      "CPU times: user 43min 7s, sys: 16.2 s, total: 43min 23s\n",
      "Wall time: 43min 47s\n"
     ]
    }
   ],
   "source": [
    "from nltk.sentiment import SentimentIntensityAnalyzer\n",
    "import nltk\n",
    "nltk.download('vader_lexicon')\n",
    "\n",
    "# Initialize Sentiment Analyzer\n",
    "sia = SentimentIntensityAnalyzer()\n",
    "\n",
    "# Function to get sentiment from review text\n",
    "def get_sentiment(review):\n",
    "    if pd.isna(review):\n",
    "        return None\n",
    "    return sia.polarity_scores(review)[\"compound\"]\n",
    "\n",
    "# Apply sentiment analysis\n",
    "%time book_reviews['sentiment'] = book_reviews['review/text'].apply(get_sentiment)\n"
   ]
  },
  {
   "cell_type": "markdown",
   "id": "dae590ee-6906-439f-a8c8-f6b38b7c28eb",
   "metadata": {
    "id": "dae590ee-6906-439f-a8c8-f6b38b7c28eb"
   },
   "source": [
    "# Conclusion"
   ]
  },
  {
   "cell_type": "markdown",
   "id": "7f258f8d-c8cb-42ad-97e8-882cd7f2b62e",
   "metadata": {
    "id": "2a57d42e-263c-4d47-9095-164e2d1dc3e4"
   },
   "source": [
    "The comparative analysis of different data handling strategies in the context of the \"Amazon Book Reviews\" dataset reveals significant differences in terms of file size, memory usage, and computation time:\n",
    "\n",
    "-   **File Size Reduction**: \n",
    "\t- **Data Type Optimization**: Led to a 58.91% reduction in file size due to more efficient data representation.\n",
    "-   **Overall Memory Usage Reduction**: The most substantial memory reduction was achieved through Sampling (approximately 90.67%), followed by Data Type Optimization (approximately 58.87%). Chunk-Based Processing doesn't have exact figures as these depend on the chunks use. Dask, with its unique approach to data handling, showed efficient memory usage of 2.7 GB for \"Books_rating.csv\" and 179.3 MB for \"books_data.csv\" (64.61% compared to the initial Pandas memory usage.).\n",
    "-   **Computation Time Reduction**: Dask showed the fastest initial data loading times, but for complex operations like sentiment analysis, it did not necessarily translate to the fastest overall processing times. Basic Pandas Processing, while slower for initial data loading, was more efficient for certain operations but this is only the case for smaller datasets.\n",
    "\n",
    "These findings underscore the importance of selecting the appropriate data handling strategy based on the specific needs of the dataset and the analysis objectives. Strategies like Sampling and Data Type Optimization are highly effective for reducing memory usage, while Dask is better suited for very large datasets where its parallel processing capabilities can be fully leveraged. Combining several of these techniques can also yield better performance and reduce memory usage when handling big data.\n"
   ]
  }
 ],
 "metadata": {
  "colab": {
   "provenance": []
  },
  "kernelspec": {
   "display_name": "Python 3 (ipykernel)",
   "language": "python",
   "name": "python3"
  },
  "language_info": {
   "codemirror_mode": {
    "name": "ipython",
    "version": 3
   },
   "file_extension": ".py",
   "mimetype": "text/x-python",
   "name": "python",
   "nbconvert_exporter": "python",
   "pygments_lexer": "ipython3",
   "version": "3.10.11"
  }
 },
 "nbformat": 4,
 "nbformat_minor": 5
}

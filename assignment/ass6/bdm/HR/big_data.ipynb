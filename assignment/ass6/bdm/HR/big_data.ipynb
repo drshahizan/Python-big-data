{
  "cells": [
    {
      "cell_type": "markdown",
      "metadata": {
        "id": "view-in-github",
        "colab_type": "text"
      },
      "source": [
        "<a href=\"https://colab.research.google.com/github/drshahizan/Python-big-data/blob/main/assignment/ass6/bdm/HR/big_data.ipynb\" target=\"_parent\"><img src=\"https://colab.research.google.com/assets/colab-badge.svg\" alt=\"Open In Colab\"/></a>"
      ]
    },
    {
      "cell_type": "markdown",
      "metadata": {
        "id": "VhhawZGuYzF1"
      },
      "source": [
        "# **Assignment 6: Mastering Big Data Handling**\n",
        "##Dataset -- Newyork Taxi Trip Data\n",
        "\n",
        "> Group Members:\n",
        "\n",
        " | Name          | Matric Number  |\n",
        " | ------------- | -------------- |\n",
        " | MOHAMMED RAZA ASFAK CHIDIMAR     | MCS231004       |\n",
        " | HUSSEIN YUSUF SHEIKH MOHAMED   | MCS231024       |"
      ]
    },
    {
      "cell_type": "markdown",
      "metadata": {
        "id": "H8lCdd7fZmVh"
      },
      "source": [
        "Dive into the rich dataset of New York City's yellow taxis, a treasure trove for any data scientist. This dataset is a detailed chronicle of urban mobility, capturing intricate details of each taxi trip. From temporal data points like pickup and drop-off times to spatial dimensions involving locations, this data offers a granular view of urban transit patterns. It also includes quantitative metrics like trip distance, fare composition, payment methods, and passenger counts. Provided by tech companies under the TPEP/LPEP initiatives, this data is a goldmine for analyzing urban transportation trends, fare dynamics, and passenger behavior. It's not just about taxis and their routes; it's a window into the lifeblood of the city, offering endless possibilities for data-driven insights and urban planning.\n"
      ]
    },
    {
      "cell_type": "markdown",
      "metadata": {
        "id": "MjWWQgztlrCd"
      },
      "source": [
        "# Loading Dataset"
      ]
    },
    {
      "cell_type": "code",
      "execution_count": 1,
      "metadata": {
        "colab": {
          "base_uri": "https://localhost:8080/"
        },
        "id": "X9YlxCwTGNfu",
        "outputId": "232458ab-f053-424a-c497-9fae6aadaddd"
      },
      "outputs": [
        {
          "output_type": "stream",
          "name": "stdout",
          "text": [
            "Mounted at /content/drive\n"
          ]
        }
      ],
      "source": [
        "from google.colab import drive\n",
        "drive.mount('/content/drive')"
      ]
    },
    {
      "cell_type": "code",
      "execution_count": 2,
      "metadata": {
        "colab": {
          "base_uri": "https://localhost:8080/"
        },
        "id": "ZhXldwI3H2yU",
        "outputId": "03972c3a-fd18-48ee-c650-e39565d7ad5c"
      },
      "outputs": [
        {
          "output_type": "stream",
          "name": "stdout",
          "text": [
            "Requirement already satisfied: kaggle in /usr/local/lib/python3.10/dist-packages (1.5.16)\n",
            "Requirement already satisfied: six>=1.10 in /usr/local/lib/python3.10/dist-packages (from kaggle) (1.16.0)\n",
            "Requirement already satisfied: certifi in /usr/local/lib/python3.10/dist-packages (from kaggle) (2023.11.17)\n",
            "Requirement already satisfied: python-dateutil in /usr/local/lib/python3.10/dist-packages (from kaggle) (2.8.2)\n",
            "Requirement already satisfied: requests in /usr/local/lib/python3.10/dist-packages (from kaggle) (2.31.0)\n",
            "Requirement already satisfied: tqdm in /usr/local/lib/python3.10/dist-packages (from kaggle) (4.66.1)\n",
            "Requirement already satisfied: python-slugify in /usr/local/lib/python3.10/dist-packages (from kaggle) (8.0.1)\n",
            "Requirement already satisfied: urllib3 in /usr/local/lib/python3.10/dist-packages (from kaggle) (2.0.7)\n",
            "Requirement already satisfied: bleach in /usr/local/lib/python3.10/dist-packages (from kaggle) (6.1.0)\n",
            "Requirement already satisfied: webencodings in /usr/local/lib/python3.10/dist-packages (from bleach->kaggle) (0.5.1)\n",
            "Requirement already satisfied: text-unidecode>=1.3 in /usr/local/lib/python3.10/dist-packages (from python-slugify->kaggle) (1.3)\n",
            "Requirement already satisfied: charset-normalizer<4,>=2 in /usr/local/lib/python3.10/dist-packages (from requests->kaggle) (3.3.2)\n",
            "Requirement already satisfied: idna<4,>=2.5 in /usr/local/lib/python3.10/dist-packages (from requests->kaggle) (3.6)\n"
          ]
        }
      ],
      "source": [
        "! pip install kaggle\n",
        "! mkdir ~/.kaggle"
      ]
    },
    {
      "cell_type": "code",
      "source": [
        "!cp /content/drive/MyDrive/kaggle.json ~/.kaggle/kaggle.json\n",
        "! chmod 600 ~/.kaggle/kaggle.json"
      ],
      "metadata": {
        "id": "V1pN5p2JYn8e"
      },
      "execution_count": 3,
      "outputs": []
    },
    {
      "cell_type": "code",
      "execution_count": 3,
      "metadata": {
        "colab": {
          "base_uri": "https://localhost:8080/"
        },
        "id": "0XX_c64-H6IH",
        "outputId": "03097394-67e3-4179-a198-7ae45322ed54"
      },
      "outputs": [
        {
          "output_type": "stream",
          "name": "stdout",
          "text": [
            "Downloading newyork-yellow-taxi-trip-data-2020-2019.zip to /content\n",
            "100% 1.80G/1.81G [00:19<00:00, 155MB/s]\n",
            "100% 1.81G/1.81G [00:19<00:00, 99.9MB/s]\n"
          ]
        }
      ],
      "source": [
        "! kaggle datasets download -d microize/newyork-yellow-taxi-trip-data-2020-2019\n"
      ]
    },
    {
      "cell_type": "code",
      "source": [
        "! unzip newyork-yellow-taxi-trip-data-2020-2019"
      ],
      "metadata": {
        "id": "pzwrrpKhfHAw",
        "outputId": "3060c905-0811-4af6-f5b7-cbdb257c7dc8",
        "colab": {
          "base_uri": "https://localhost:8080/"
        }
      },
      "execution_count": 4,
      "outputs": [
        {
          "output_type": "stream",
          "name": "stdout",
          "text": [
            "Archive:  newyork-yellow-taxi-trip-data-2020-2019.zip\n",
            "  inflating: taxi+_zone_lookup.csv   \n",
            "  inflating: taxi_zones/taxi_zones.dbf  \n",
            "  inflating: taxi_zones/taxi_zones.prj  \n",
            "  inflating: taxi_zones/taxi_zones.sbn  \n",
            "  inflating: taxi_zones/taxi_zones.sbx  \n",
            "  inflating: taxi_zones/taxi_zones.shp  \n",
            "  inflating: taxi_zones/taxi_zones.shp.xml  \n",
            "  inflating: taxi_zones/taxi_zones.shx  \n",
            "  inflating: yellow_tripdata_2019-01.csv  \n",
            "  inflating: yellow_tripdata_2019-02.csv  \n",
            "  inflating: yellow_tripdata_2019-03.csv  \n",
            "  inflating: yellow_tripdata_2019-04.csv  \n",
            "  inflating: yellow_tripdata_2019-05.csv  \n",
            "  inflating: yellow_tripdata_2019-06.csv  \n",
            "  inflating: yellow_tripdata_2019-07.csv  \n",
            "  inflating: yellow_tripdata_2019-08.csv  \n",
            "  inflating: yellow_tripdata_2019-09.csv  \n",
            "  inflating: yellow_tripdata_2019-10.csv  \n",
            "  inflating: yellow_tripdata_2019-11.csv  \n",
            "  inflating: yellow_tripdata_2019-12.csv  \n",
            "  inflating: yellow_tripdata_2020-01.csv  \n",
            "  inflating: yellow_tripdata_2020-02.csv  \n",
            "  inflating: yellow_tripdata_2020-03.csv  \n",
            "  inflating: yellow_tripdata_2020-04.csv  \n",
            "  inflating: yellow_tripdata_2020-05.csv  \n",
            "  inflating: yellow_tripdata_2020-06.csv  \n"
          ]
        }
      ]
    },
    {
      "cell_type": "code",
      "execution_count": 5,
      "metadata": {
        "id": "d3SAiS7SJzJz"
      },
      "outputs": [],
      "source": [
        "import pandas as pd\n",
        "import numpy as np"
      ]
    },
    {
      "cell_type": "code",
      "source": [
        "df = pd.read_csv(\"/content/yellow_tripdata_2019-03.csv\")\n",
        "df"
      ],
      "metadata": {
        "id": "vk7yzb2_b_H1",
        "outputId": "ce62d32c-f86b-4989-89d5-92dd93e5bd80",
        "colab": {
          "base_uri": "https://localhost:8080/",
          "height": 443
        }
      },
      "execution_count": 6,
      "outputs": [
        {
          "output_type": "execute_result",
          "data": {
            "text/plain": [
              "         VendorID tpep_pickup_datetime tpep_dropoff_datetime  passenger_count  \\\n",
              "0               1  2019-03-01 00:24:41   2019-03-01 00:25:31                1   \n",
              "1               1  2019-03-01 00:25:27   2019-03-01 00:36:37                2   \n",
              "2               1  2019-03-01 00:05:21   2019-03-01 00:38:23                1   \n",
              "3               1  2019-03-01 00:48:55   2019-03-01 01:06:03                1   \n",
              "4               1  2019-03-01 00:11:42   2019-03-01 00:16:40                1   \n",
              "...           ...                  ...                   ...              ...   \n",
              "7832540         2  2019-03-31 23:58:52   2019-04-01 00:05:04                1   \n",
              "7832541         2  2019-03-31 23:20:15   2019-03-31 23:24:12                1   \n",
              "7832542         2  2019-03-31 23:32:15   2019-03-31 23:54:36                1   \n",
              "7832543         2  2019-03-31 22:32:57   2019-03-31 23:21:22                1   \n",
              "7832544         2  2019-03-31 23:31:13   2019-03-31 23:31:15                1   \n",
              "\n",
              "         trip_distance  RatecodeID store_and_fwd_flag  PULocationID  \\\n",
              "0                 0.00           1                  N           145   \n",
              "1                 3.70           1                  N            95   \n",
              "2                14.10           1                  N           249   \n",
              "3                 9.60           1                  N           138   \n",
              "4                 0.80           1                  N            48   \n",
              "...                ...         ...                ...           ...   \n",
              "7832540           0.74           1                  N           186   \n",
              "7832541           1.11           1                  N           263   \n",
              "7832542          13.17           1                  N            75   \n",
              "7832543           0.00           1                  N           237   \n",
              "7832544           0.00           1                  N           264   \n",
              "\n",
              "         DOLocationID  payment_type  fare_amount  extra  mta_tax  tip_amount  \\\n",
              "0                 145             2          2.5    0.5      0.5        0.00   \n",
              "1                 130             1         13.0    0.5      0.5        0.70   \n",
              "2                  28             1         41.0    3.0      0.5       10.10   \n",
              "3                  98             2         27.0    0.5      0.5        0.00   \n",
              "4                  48             1          5.5    3.0      0.5        3.00   \n",
              "...               ...           ...          ...    ...      ...         ...   \n",
              "7832540           186             1          5.5    0.5      0.5        2.33   \n",
              "7832541           236             2          5.5    0.5      0.5        0.00   \n",
              "7832542           134             2         37.0    0.5      0.5        0.00   \n",
              "7832543           193             2          0.0    0.0      0.0        0.00   \n",
              "7832544           264             2          0.0    0.0      0.0        0.00   \n",
              "\n",
              "         tolls_amount  improvement_surcharge  total_amount  \\\n",
              "0                0.00                    0.3          3.80   \n",
              "1                0.00                    0.3         15.00   \n",
              "2                5.76                    0.3         60.66   \n",
              "3                0.00                    0.3         28.30   \n",
              "4                0.00                    0.3         12.30   \n",
              "...               ...                    ...           ...   \n",
              "7832540          0.00                    0.3         11.63   \n",
              "7832541          0.00                    0.3          9.30   \n",
              "7832542          5.76                    0.3         44.06   \n",
              "7832543          0.00                    0.0          0.00   \n",
              "7832544          0.00                    0.0          0.00   \n",
              "\n",
              "         congestion_surcharge  \n",
              "0                         0.0  \n",
              "1                         0.0  \n",
              "2                         2.5  \n",
              "3                         0.0  \n",
              "4                         2.5  \n",
              "...                       ...  \n",
              "7832540                   2.5  \n",
              "7832541                   2.5  \n",
              "7832542                   0.0  \n",
              "7832543                   2.5  \n",
              "7832544                   0.0  \n",
              "\n",
              "[7832545 rows x 18 columns]"
            ],
            "text/html": [
              "\n",
              "  <div id=\"df-4d1e7fe4-338b-445c-b15e-c2a1b48b5c72\" class=\"colab-df-container\">\n",
              "    <div>\n",
              "<style scoped>\n",
              "    .dataframe tbody tr th:only-of-type {\n",
              "        vertical-align: middle;\n",
              "    }\n",
              "\n",
              "    .dataframe tbody tr th {\n",
              "        vertical-align: top;\n",
              "    }\n",
              "\n",
              "    .dataframe thead th {\n",
              "        text-align: right;\n",
              "    }\n",
              "</style>\n",
              "<table border=\"1\" class=\"dataframe\">\n",
              "  <thead>\n",
              "    <tr style=\"text-align: right;\">\n",
              "      <th></th>\n",
              "      <th>VendorID</th>\n",
              "      <th>tpep_pickup_datetime</th>\n",
              "      <th>tpep_dropoff_datetime</th>\n",
              "      <th>passenger_count</th>\n",
              "      <th>trip_distance</th>\n",
              "      <th>RatecodeID</th>\n",
              "      <th>store_and_fwd_flag</th>\n",
              "      <th>PULocationID</th>\n",
              "      <th>DOLocationID</th>\n",
              "      <th>payment_type</th>\n",
              "      <th>fare_amount</th>\n",
              "      <th>extra</th>\n",
              "      <th>mta_tax</th>\n",
              "      <th>tip_amount</th>\n",
              "      <th>tolls_amount</th>\n",
              "      <th>improvement_surcharge</th>\n",
              "      <th>total_amount</th>\n",
              "      <th>congestion_surcharge</th>\n",
              "    </tr>\n",
              "  </thead>\n",
              "  <tbody>\n",
              "    <tr>\n",
              "      <th>0</th>\n",
              "      <td>1</td>\n",
              "      <td>2019-03-01 00:24:41</td>\n",
              "      <td>2019-03-01 00:25:31</td>\n",
              "      <td>1</td>\n",
              "      <td>0.00</td>\n",
              "      <td>1</td>\n",
              "      <td>N</td>\n",
              "      <td>145</td>\n",
              "      <td>145</td>\n",
              "      <td>2</td>\n",
              "      <td>2.5</td>\n",
              "      <td>0.5</td>\n",
              "      <td>0.5</td>\n",
              "      <td>0.00</td>\n",
              "      <td>0.00</td>\n",
              "      <td>0.3</td>\n",
              "      <td>3.80</td>\n",
              "      <td>0.0</td>\n",
              "    </tr>\n",
              "    <tr>\n",
              "      <th>1</th>\n",
              "      <td>1</td>\n",
              "      <td>2019-03-01 00:25:27</td>\n",
              "      <td>2019-03-01 00:36:37</td>\n",
              "      <td>2</td>\n",
              "      <td>3.70</td>\n",
              "      <td>1</td>\n",
              "      <td>N</td>\n",
              "      <td>95</td>\n",
              "      <td>130</td>\n",
              "      <td>1</td>\n",
              "      <td>13.0</td>\n",
              "      <td>0.5</td>\n",
              "      <td>0.5</td>\n",
              "      <td>0.70</td>\n",
              "      <td>0.00</td>\n",
              "      <td>0.3</td>\n",
              "      <td>15.00</td>\n",
              "      <td>0.0</td>\n",
              "    </tr>\n",
              "    <tr>\n",
              "      <th>2</th>\n",
              "      <td>1</td>\n",
              "      <td>2019-03-01 00:05:21</td>\n",
              "      <td>2019-03-01 00:38:23</td>\n",
              "      <td>1</td>\n",
              "      <td>14.10</td>\n",
              "      <td>1</td>\n",
              "      <td>N</td>\n",
              "      <td>249</td>\n",
              "      <td>28</td>\n",
              "      <td>1</td>\n",
              "      <td>41.0</td>\n",
              "      <td>3.0</td>\n",
              "      <td>0.5</td>\n",
              "      <td>10.10</td>\n",
              "      <td>5.76</td>\n",
              "      <td>0.3</td>\n",
              "      <td>60.66</td>\n",
              "      <td>2.5</td>\n",
              "    </tr>\n",
              "    <tr>\n",
              "      <th>3</th>\n",
              "      <td>1</td>\n",
              "      <td>2019-03-01 00:48:55</td>\n",
              "      <td>2019-03-01 01:06:03</td>\n",
              "      <td>1</td>\n",
              "      <td>9.60</td>\n",
              "      <td>1</td>\n",
              "      <td>N</td>\n",
              "      <td>138</td>\n",
              "      <td>98</td>\n",
              "      <td>2</td>\n",
              "      <td>27.0</td>\n",
              "      <td>0.5</td>\n",
              "      <td>0.5</td>\n",
              "      <td>0.00</td>\n",
              "      <td>0.00</td>\n",
              "      <td>0.3</td>\n",
              "      <td>28.30</td>\n",
              "      <td>0.0</td>\n",
              "    </tr>\n",
              "    <tr>\n",
              "      <th>4</th>\n",
              "      <td>1</td>\n",
              "      <td>2019-03-01 00:11:42</td>\n",
              "      <td>2019-03-01 00:16:40</td>\n",
              "      <td>1</td>\n",
              "      <td>0.80</td>\n",
              "      <td>1</td>\n",
              "      <td>N</td>\n",
              "      <td>48</td>\n",
              "      <td>48</td>\n",
              "      <td>1</td>\n",
              "      <td>5.5</td>\n",
              "      <td>3.0</td>\n",
              "      <td>0.5</td>\n",
              "      <td>3.00</td>\n",
              "      <td>0.00</td>\n",
              "      <td>0.3</td>\n",
              "      <td>12.30</td>\n",
              "      <td>2.5</td>\n",
              "    </tr>\n",
              "    <tr>\n",
              "      <th>...</th>\n",
              "      <td>...</td>\n",
              "      <td>...</td>\n",
              "      <td>...</td>\n",
              "      <td>...</td>\n",
              "      <td>...</td>\n",
              "      <td>...</td>\n",
              "      <td>...</td>\n",
              "      <td>...</td>\n",
              "      <td>...</td>\n",
              "      <td>...</td>\n",
              "      <td>...</td>\n",
              "      <td>...</td>\n",
              "      <td>...</td>\n",
              "      <td>...</td>\n",
              "      <td>...</td>\n",
              "      <td>...</td>\n",
              "      <td>...</td>\n",
              "      <td>...</td>\n",
              "    </tr>\n",
              "    <tr>\n",
              "      <th>7832540</th>\n",
              "      <td>2</td>\n",
              "      <td>2019-03-31 23:58:52</td>\n",
              "      <td>2019-04-01 00:05:04</td>\n",
              "      <td>1</td>\n",
              "      <td>0.74</td>\n",
              "      <td>1</td>\n",
              "      <td>N</td>\n",
              "      <td>186</td>\n",
              "      <td>186</td>\n",
              "      <td>1</td>\n",
              "      <td>5.5</td>\n",
              "      <td>0.5</td>\n",
              "      <td>0.5</td>\n",
              "      <td>2.33</td>\n",
              "      <td>0.00</td>\n",
              "      <td>0.3</td>\n",
              "      <td>11.63</td>\n",
              "      <td>2.5</td>\n",
              "    </tr>\n",
              "    <tr>\n",
              "      <th>7832541</th>\n",
              "      <td>2</td>\n",
              "      <td>2019-03-31 23:20:15</td>\n",
              "      <td>2019-03-31 23:24:12</td>\n",
              "      <td>1</td>\n",
              "      <td>1.11</td>\n",
              "      <td>1</td>\n",
              "      <td>N</td>\n",
              "      <td>263</td>\n",
              "      <td>236</td>\n",
              "      <td>2</td>\n",
              "      <td>5.5</td>\n",
              "      <td>0.5</td>\n",
              "      <td>0.5</td>\n",
              "      <td>0.00</td>\n",
              "      <td>0.00</td>\n",
              "      <td>0.3</td>\n",
              "      <td>9.30</td>\n",
              "      <td>2.5</td>\n",
              "    </tr>\n",
              "    <tr>\n",
              "      <th>7832542</th>\n",
              "      <td>2</td>\n",
              "      <td>2019-03-31 23:32:15</td>\n",
              "      <td>2019-03-31 23:54:36</td>\n",
              "      <td>1</td>\n",
              "      <td>13.17</td>\n",
              "      <td>1</td>\n",
              "      <td>N</td>\n",
              "      <td>75</td>\n",
              "      <td>134</td>\n",
              "      <td>2</td>\n",
              "      <td>37.0</td>\n",
              "      <td>0.5</td>\n",
              "      <td>0.5</td>\n",
              "      <td>0.00</td>\n",
              "      <td>5.76</td>\n",
              "      <td>0.3</td>\n",
              "      <td>44.06</td>\n",
              "      <td>0.0</td>\n",
              "    </tr>\n",
              "    <tr>\n",
              "      <th>7832543</th>\n",
              "      <td>2</td>\n",
              "      <td>2019-03-31 22:32:57</td>\n",
              "      <td>2019-03-31 23:21:22</td>\n",
              "      <td>1</td>\n",
              "      <td>0.00</td>\n",
              "      <td>1</td>\n",
              "      <td>N</td>\n",
              "      <td>237</td>\n",
              "      <td>193</td>\n",
              "      <td>2</td>\n",
              "      <td>0.0</td>\n",
              "      <td>0.0</td>\n",
              "      <td>0.0</td>\n",
              "      <td>0.00</td>\n",
              "      <td>0.00</td>\n",
              "      <td>0.0</td>\n",
              "      <td>0.00</td>\n",
              "      <td>2.5</td>\n",
              "    </tr>\n",
              "    <tr>\n",
              "      <th>7832544</th>\n",
              "      <td>2</td>\n",
              "      <td>2019-03-31 23:31:13</td>\n",
              "      <td>2019-03-31 23:31:15</td>\n",
              "      <td>1</td>\n",
              "      <td>0.00</td>\n",
              "      <td>1</td>\n",
              "      <td>N</td>\n",
              "      <td>264</td>\n",
              "      <td>264</td>\n",
              "      <td>2</td>\n",
              "      <td>0.0</td>\n",
              "      <td>0.0</td>\n",
              "      <td>0.0</td>\n",
              "      <td>0.00</td>\n",
              "      <td>0.00</td>\n",
              "      <td>0.0</td>\n",
              "      <td>0.00</td>\n",
              "      <td>0.0</td>\n",
              "    </tr>\n",
              "  </tbody>\n",
              "</table>\n",
              "<p>7832545 rows × 18 columns</p>\n",
              "</div>\n",
              "    <div class=\"colab-df-buttons\">\n",
              "\n",
              "  <div class=\"colab-df-container\">\n",
              "    <button class=\"colab-df-convert\" onclick=\"convertToInteractive('df-4d1e7fe4-338b-445c-b15e-c2a1b48b5c72')\"\n",
              "            title=\"Convert this dataframe to an interactive table.\"\n",
              "            style=\"display:none;\">\n",
              "\n",
              "  <svg xmlns=\"http://www.w3.org/2000/svg\" height=\"24px\" viewBox=\"0 -960 960 960\">\n",
              "    <path d=\"M120-120v-720h720v720H120Zm60-500h600v-160H180v160Zm220 220h160v-160H400v160Zm0 220h160v-160H400v160ZM180-400h160v-160H180v160Zm440 0h160v-160H620v160ZM180-180h160v-160H180v160Zm440 0h160v-160H620v160Z\"/>\n",
              "  </svg>\n",
              "    </button>\n",
              "\n",
              "  <style>\n",
              "    .colab-df-container {\n",
              "      display:flex;\n",
              "      gap: 12px;\n",
              "    }\n",
              "\n",
              "    .colab-df-convert {\n",
              "      background-color: #E8F0FE;\n",
              "      border: none;\n",
              "      border-radius: 50%;\n",
              "      cursor: pointer;\n",
              "      display: none;\n",
              "      fill: #1967D2;\n",
              "      height: 32px;\n",
              "      padding: 0 0 0 0;\n",
              "      width: 32px;\n",
              "    }\n",
              "\n",
              "    .colab-df-convert:hover {\n",
              "      background-color: #E2EBFA;\n",
              "      box-shadow: 0px 1px 2px rgba(60, 64, 67, 0.3), 0px 1px 3px 1px rgba(60, 64, 67, 0.15);\n",
              "      fill: #174EA6;\n",
              "    }\n",
              "\n",
              "    .colab-df-buttons div {\n",
              "      margin-bottom: 4px;\n",
              "    }\n",
              "\n",
              "    [theme=dark] .colab-df-convert {\n",
              "      background-color: #3B4455;\n",
              "      fill: #D2E3FC;\n",
              "    }\n",
              "\n",
              "    [theme=dark] .colab-df-convert:hover {\n",
              "      background-color: #434B5C;\n",
              "      box-shadow: 0px 1px 3px 1px rgba(0, 0, 0, 0.15);\n",
              "      filter: drop-shadow(0px 1px 2px rgba(0, 0, 0, 0.3));\n",
              "      fill: #FFFFFF;\n",
              "    }\n",
              "  </style>\n",
              "\n",
              "    <script>\n",
              "      const buttonEl =\n",
              "        document.querySelector('#df-4d1e7fe4-338b-445c-b15e-c2a1b48b5c72 button.colab-df-convert');\n",
              "      buttonEl.style.display =\n",
              "        google.colab.kernel.accessAllowed ? 'block' : 'none';\n",
              "\n",
              "      async function convertToInteractive(key) {\n",
              "        const element = document.querySelector('#df-4d1e7fe4-338b-445c-b15e-c2a1b48b5c72');\n",
              "        const dataTable =\n",
              "          await google.colab.kernel.invokeFunction('convertToInteractive',\n",
              "                                                    [key], {});\n",
              "        if (!dataTable) return;\n",
              "\n",
              "        const docLinkHtml = 'Like what you see? Visit the ' +\n",
              "          '<a target=\"_blank\" href=https://colab.research.google.com/notebooks/data_table.ipynb>data table notebook</a>'\n",
              "          + ' to learn more about interactive tables.';\n",
              "        element.innerHTML = '';\n",
              "        dataTable['output_type'] = 'display_data';\n",
              "        await google.colab.output.renderOutput(dataTable, element);\n",
              "        const docLink = document.createElement('div');\n",
              "        docLink.innerHTML = docLinkHtml;\n",
              "        element.appendChild(docLink);\n",
              "      }\n",
              "    </script>\n",
              "  </div>\n",
              "\n",
              "\n",
              "<div id=\"df-95ee4f3d-f957-44ff-81e7-b826322f3677\">\n",
              "  <button class=\"colab-df-quickchart\" onclick=\"quickchart('df-95ee4f3d-f957-44ff-81e7-b826322f3677')\"\n",
              "            title=\"Suggest charts\"\n",
              "            style=\"display:none;\">\n",
              "\n",
              "<svg xmlns=\"http://www.w3.org/2000/svg\" height=\"24px\"viewBox=\"0 0 24 24\"\n",
              "     width=\"24px\">\n",
              "    <g>\n",
              "        <path d=\"M19 3H5c-1.1 0-2 .9-2 2v14c0 1.1.9 2 2 2h14c1.1 0 2-.9 2-2V5c0-1.1-.9-2-2-2zM9 17H7v-7h2v7zm4 0h-2V7h2v10zm4 0h-2v-4h2v4z\"/>\n",
              "    </g>\n",
              "</svg>\n",
              "  </button>\n",
              "\n",
              "<style>\n",
              "  .colab-df-quickchart {\n",
              "      --bg-color: #E8F0FE;\n",
              "      --fill-color: #1967D2;\n",
              "      --hover-bg-color: #E2EBFA;\n",
              "      --hover-fill-color: #174EA6;\n",
              "      --disabled-fill-color: #AAA;\n",
              "      --disabled-bg-color: #DDD;\n",
              "  }\n",
              "\n",
              "  [theme=dark] .colab-df-quickchart {\n",
              "      --bg-color: #3B4455;\n",
              "      --fill-color: #D2E3FC;\n",
              "      --hover-bg-color: #434B5C;\n",
              "      --hover-fill-color: #FFFFFF;\n",
              "      --disabled-bg-color: #3B4455;\n",
              "      --disabled-fill-color: #666;\n",
              "  }\n",
              "\n",
              "  .colab-df-quickchart {\n",
              "    background-color: var(--bg-color);\n",
              "    border: none;\n",
              "    border-radius: 50%;\n",
              "    cursor: pointer;\n",
              "    display: none;\n",
              "    fill: var(--fill-color);\n",
              "    height: 32px;\n",
              "    padding: 0;\n",
              "    width: 32px;\n",
              "  }\n",
              "\n",
              "  .colab-df-quickchart:hover {\n",
              "    background-color: var(--hover-bg-color);\n",
              "    box-shadow: 0 1px 2px rgba(60, 64, 67, 0.3), 0 1px 3px 1px rgba(60, 64, 67, 0.15);\n",
              "    fill: var(--button-hover-fill-color);\n",
              "  }\n",
              "\n",
              "  .colab-df-quickchart-complete:disabled,\n",
              "  .colab-df-quickchart-complete:disabled:hover {\n",
              "    background-color: var(--disabled-bg-color);\n",
              "    fill: var(--disabled-fill-color);\n",
              "    box-shadow: none;\n",
              "  }\n",
              "\n",
              "  .colab-df-spinner {\n",
              "    border: 2px solid var(--fill-color);\n",
              "    border-color: transparent;\n",
              "    border-bottom-color: var(--fill-color);\n",
              "    animation:\n",
              "      spin 1s steps(1) infinite;\n",
              "  }\n",
              "\n",
              "  @keyframes spin {\n",
              "    0% {\n",
              "      border-color: transparent;\n",
              "      border-bottom-color: var(--fill-color);\n",
              "      border-left-color: var(--fill-color);\n",
              "    }\n",
              "    20% {\n",
              "      border-color: transparent;\n",
              "      border-left-color: var(--fill-color);\n",
              "      border-top-color: var(--fill-color);\n",
              "    }\n",
              "    30% {\n",
              "      border-color: transparent;\n",
              "      border-left-color: var(--fill-color);\n",
              "      border-top-color: var(--fill-color);\n",
              "      border-right-color: var(--fill-color);\n",
              "    }\n",
              "    40% {\n",
              "      border-color: transparent;\n",
              "      border-right-color: var(--fill-color);\n",
              "      border-top-color: var(--fill-color);\n",
              "    }\n",
              "    60% {\n",
              "      border-color: transparent;\n",
              "      border-right-color: var(--fill-color);\n",
              "    }\n",
              "    80% {\n",
              "      border-color: transparent;\n",
              "      border-right-color: var(--fill-color);\n",
              "      border-bottom-color: var(--fill-color);\n",
              "    }\n",
              "    90% {\n",
              "      border-color: transparent;\n",
              "      border-bottom-color: var(--fill-color);\n",
              "    }\n",
              "  }\n",
              "</style>\n",
              "\n",
              "  <script>\n",
              "    async function quickchart(key) {\n",
              "      const quickchartButtonEl =\n",
              "        document.querySelector('#' + key + ' button');\n",
              "      quickchartButtonEl.disabled = true;  // To prevent multiple clicks.\n",
              "      quickchartButtonEl.classList.add('colab-df-spinner');\n",
              "      try {\n",
              "        const charts = await google.colab.kernel.invokeFunction(\n",
              "            'suggestCharts', [key], {});\n",
              "      } catch (error) {\n",
              "        console.error('Error during call to suggestCharts:', error);\n",
              "      }\n",
              "      quickchartButtonEl.classList.remove('colab-df-spinner');\n",
              "      quickchartButtonEl.classList.add('colab-df-quickchart-complete');\n",
              "    }\n",
              "    (() => {\n",
              "      let quickchartButtonEl =\n",
              "        document.querySelector('#df-95ee4f3d-f957-44ff-81e7-b826322f3677 button');\n",
              "      quickchartButtonEl.style.display =\n",
              "        google.colab.kernel.accessAllowed ? 'block' : 'none';\n",
              "    })();\n",
              "  </script>\n",
              "</div>\n",
              "\n",
              "  <div id=\"id_e17ed44a-c788-483d-bf0f-f8c1668d1232\">\n",
              "    <style>\n",
              "      .colab-df-generate {\n",
              "        background-color: #E8F0FE;\n",
              "        border: none;\n",
              "        border-radius: 50%;\n",
              "        cursor: pointer;\n",
              "        display: none;\n",
              "        fill: #1967D2;\n",
              "        height: 32px;\n",
              "        padding: 0 0 0 0;\n",
              "        width: 32px;\n",
              "      }\n",
              "\n",
              "      .colab-df-generate:hover {\n",
              "        background-color: #E2EBFA;\n",
              "        box-shadow: 0px 1px 2px rgba(60, 64, 67, 0.3), 0px 1px 3px 1px rgba(60, 64, 67, 0.15);\n",
              "        fill: #174EA6;\n",
              "      }\n",
              "\n",
              "      [theme=dark] .colab-df-generate {\n",
              "        background-color: #3B4455;\n",
              "        fill: #D2E3FC;\n",
              "      }\n",
              "\n",
              "      [theme=dark] .colab-df-generate:hover {\n",
              "        background-color: #434B5C;\n",
              "        box-shadow: 0px 1px 3px 1px rgba(0, 0, 0, 0.15);\n",
              "        filter: drop-shadow(0px 1px 2px rgba(0, 0, 0, 0.3));\n",
              "        fill: #FFFFFF;\n",
              "      }\n",
              "    </style>\n",
              "    <button class=\"colab-df-generate\" onclick=\"generateWithVariable('df')\"\n",
              "            title=\"Generate code using this dataframe.\"\n",
              "            style=\"display:none;\">\n",
              "\n",
              "  <svg xmlns=\"http://www.w3.org/2000/svg\" height=\"24px\"viewBox=\"0 0 24 24\"\n",
              "       width=\"24px\">\n",
              "    <path d=\"M7,19H8.4L18.45,9,17,7.55,7,17.6ZM5,21V16.75L18.45,3.32a2,2,0,0,1,2.83,0l1.4,1.43a1.91,1.91,0,0,1,.58,1.4,1.91,1.91,0,0,1-.58,1.4L9.25,21ZM18.45,9,17,7.55Zm-12,3A5.31,5.31,0,0,0,4.9,8.1,5.31,5.31,0,0,0,1,6.5,5.31,5.31,0,0,0,4.9,4.9,5.31,5.31,0,0,0,6.5,1,5.31,5.31,0,0,0,8.1,4.9,5.31,5.31,0,0,0,12,6.5,5.46,5.46,0,0,0,6.5,12Z\"/>\n",
              "  </svg>\n",
              "    </button>\n",
              "    <script>\n",
              "      (() => {\n",
              "      const buttonEl =\n",
              "        document.querySelector('#id_e17ed44a-c788-483d-bf0f-f8c1668d1232 button.colab-df-generate');\n",
              "      buttonEl.style.display =\n",
              "        google.colab.kernel.accessAllowed ? 'block' : 'none';\n",
              "\n",
              "      buttonEl.onclick = () => {\n",
              "        google.colab.notebook.generateWithVariable('df');\n",
              "      }\n",
              "      })();\n",
              "    </script>\n",
              "  </div>\n",
              "\n",
              "    </div>\n",
              "  </div>\n"
            ]
          },
          "metadata": {},
          "execution_count": 6
        }
      ]
    },
    {
      "cell_type": "markdown",
      "metadata": {
        "id": "WQPvrhBKL3lC"
      },
      "source": [
        "**Checking how much of memory is used when loading the entire CSV**"
      ]
    },
    {
      "cell_type": "code",
      "execution_count": 7,
      "metadata": {
        "colab": {
          "base_uri": "https://localhost:8080/"
        },
        "id": "L_HMbUkDL6qS",
        "outputId": "cf791f80-c1f1-472d-92ae-625c67bb13f7"
      },
      "outputs": [
        {
          "output_type": "stream",
          "name": "stdout",
          "text": [
            "<class 'pandas.core.frame.DataFrame'>\n",
            "RangeIndex: 7832545 entries, 0 to 7832544\n",
            "Columns: 18 entries, VendorID to congestion_surcharge\n",
            "dtypes: float64(9), int64(6), object(3)\n",
            "memory usage: 2.4 GB\n"
          ]
        }
      ],
      "source": [
        "# Load and display information for the full CSV dataset\n",
        "full_data_path = \"/content/yellow_tripdata_2019-03.csv\"\n",
        "df = pd.read_csv(full_data_path)\n",
        "\n",
        "# Display concise information about the DataFrame\n",
        "df.info(verbose=False, memory_usage=\"deep\")"
      ]
    },
    {
      "cell_type": "markdown",
      "metadata": {
        "id": "DoX-QxfERxde"
      },
      "source": [
        "# Strategies for Big Datasets"
      ]
    },
    {
      "cell_type": "code",
      "execution_count": 8,
      "metadata": {
        "id": "iqEg_4dRSeg-"
      },
      "outputs": [],
      "source": [
        "# Importing necessary libraries\n",
        "import matplotlib.pyplot as plt\n",
        "import seaborn as sns\n",
        "import random\n",
        "import time\n",
        "import psutil"
      ]
    },
    {
      "cell_type": "markdown",
      "metadata": {
        "id": "9qjDmRRSSggc"
      },
      "source": [
        "### Load Less Data"
      ]
    },
    {
      "cell_type": "code",
      "execution_count": 9,
      "metadata": {
        "colab": {
          "base_uri": "https://localhost:8080/"
        },
        "id": "9Fde7s6ESkQe",
        "outputId": "1a338d4d-726c-4ab4-d51d-b4c1bc327a89"
      },
      "outputs": [
        {
          "output_type": "execute_result",
          "data": {
            "text/plain": [
              "Index(['VendorID', 'tpep_pickup_datetime', 'tpep_dropoff_datetime',\n",
              "       'passenger_count', 'trip_distance', 'RatecodeID', 'store_and_fwd_flag',\n",
              "       'PULocationID', 'DOLocationID', 'payment_type', 'fare_amount', 'extra',\n",
              "       'mta_tax', 'tip_amount', 'tolls_amount', 'improvement_surcharge',\n",
              "       'total_amount', 'congestion_surcharge'],\n",
              "      dtype='object')"
            ]
          },
          "metadata": {},
          "execution_count": 9
        }
      ],
      "source": [
        "# Display column names in the DataFrame\n",
        "column_names = df.columns\n",
        "column_names"
      ]
    },
    {
      "cell_type": "code",
      "execution_count": 10,
      "metadata": {
        "colab": {
          "base_uri": "https://localhost:8080/"
        },
        "id": "3CRoKAFkS63v",
        "outputId": "4b7dc383-5eb0-4cf5-fc40-dab2ee66e2a0"
      },
      "outputs": [
        {
          "output_type": "stream",
          "name": "stdout",
          "text": [
            "<class 'pandas.core.frame.DataFrame'>\n",
            "RangeIndex: 7832545 entries, 0 to 7832544\n",
            "Columns: 18 entries, VendorID to congestion_surcharge\n",
            "dtypes: float64(9), int64(6), object(3)\n",
            "memory usage: 2.4 GB\n"
          ]
        }
      ],
      "source": [
        "# Display DataFrame information with memory usage details\n",
        "df.info(verbose=False, memory_usage=\"deep\")"
      ]
    },
    {
      "cell_type": "code",
      "execution_count": 11,
      "metadata": {
        "id": "EKT_QyfwTKrk"
      },
      "outputs": [],
      "source": [
        "columns_to_load = ['VendorID', 'tpep_pickup_datetime', 'tpep_dropoff_datetime', 'passenger_count', 'trip_distance', 'payment_type', 'fare_amount', 'total_amount']\n",
        "df = pd.read_csv(\"/content/yellow_tripdata_2019-03.csv\", usecols=columns_to_load)\n"
      ]
    },
    {
      "cell_type": "markdown",
      "metadata": {
        "id": "xpzd-HaGU1Sx"
      },
      "source": [
        "By loading only the necessary data, memory usage decreased from 2.0 GB to 1015.60 MB. When the complete dataset is not required, loading only a portion of it is helpful for quicker analysis."
      ]
    },
    {
      "cell_type": "markdown",
      "metadata": {
        "id": "ACUNMb-pWcIe"
      },
      "source": [
        "### Use Chunking"
      ]
    },
    {
      "cell_type": "code",
      "execution_count": 12,
      "metadata": {
        "colab": {
          "base_uri": "https://localhost:8080/"
        },
        "id": "GKKpcdeUXykJ",
        "outputId": "bd8310c8-6e2c-4d2c-ab23-ac89bfa17d91"
      },
      "outputs": [
        {
          "output_type": "execute_result",
          "data": {
            "text/plain": [
              "7832545"
            ]
          },
          "metadata": {},
          "execution_count": 12
        }
      ],
      "source": [
        "# Number of data of the DataFrame\n",
        "len(df)"
      ]
    },
    {
      "cell_type": "code",
      "source": [
        "import time\n",
        "import pandas as pd\n",
        "\n",
        "# Record start time\n",
        "start_time = time.time()\n",
        "\n",
        "# Load the entire dataset\n",
        "df = pd.read_csv(\"/content/yellow_tripdata_2019-03.csv\")\n",
        "\n",
        "# Record end time\n",
        "end_time = time.time()\n",
        "\n",
        "# Calculate and print the loading time\n",
        "loading_time = end_time - start_time\n",
        "print(f\"Time to load the entire dataset: {loading_time:.2f} seconds\")"
      ],
      "metadata": {
        "colab": {
          "base_uri": "https://localhost:8080/"
        },
        "id": "CZhdiVLBndMm",
        "outputId": "73392b47-620d-44a8-81e3-45cb38772e1f"
      },
      "execution_count": 13,
      "outputs": [
        {
          "output_type": "stream",
          "name": "stdout",
          "text": [
            "Time to load the entire dataset: 38.33 seconds\n"
          ]
        }
      ]
    },
    {
      "cell_type": "markdown",
      "metadata": {
        "id": "Q8FXFlTWYwlg"
      },
      "source": [
        "Let's divide it into different chunks, each holding 100,000 entries of data."
      ]
    },
    {
      "cell_type": "code",
      "execution_count": 14,
      "metadata": {
        "colab": {
          "base_uri": "https://localhost:8080/"
        },
        "id": "hU9TZf-HY4bl",
        "outputId": "805a36c6-598e-42a9-95ec-56a540c86a25"
      },
      "outputs": [
        {
          "output_type": "execute_result",
          "data": {
            "text/plain": [
              "79"
            ]
          },
          "metadata": {},
          "execution_count": 14
        }
      ],
      "source": [
        "import gc\n",
        "\n",
        "chunk_size = 100000\n",
        "df_chunks = pd.read_csv(\"/content/yellow_tripdata_2019-03.csv\", chunksize=chunk_size)\n",
        "\n",
        "num = 0\n",
        "for chunk in df_chunks:\n",
        "    num += 1\n",
        "    chunk.to_csv(f\"chunk{num}.csv\", index=False)\n",
        "    gc.collect()\n",
        "\n",
        "num"
      ]
    },
    {
      "cell_type": "code",
      "source": [
        "random_chunk_number = random.randint(1, num)\n",
        "\n",
        "# Store Start time\n",
        "start_time_reading = time.time()\n",
        "\n",
        "# Read the CSV chunk file\n",
        "chunk_filename = f\"chunk{random_chunk_number}.csv\"\n",
        "loaded_chunk = pd.read_csv(chunk_filename)\n",
        "\n",
        "# Store End time\n",
        "end_time_reading = time.time()\n",
        "\n",
        "# Calculate reading time\n",
        "reading_time = end_time_reading - start_time_reading\n",
        "print(f\"Reading Time: {reading_time:.2f} seconds\")\n",
        "\n",
        "# CPU and memory usage information\n",
        "cpu_percent_usage = psutil.cpu_percent(interval=1)\n",
        "memory_info = psutil.virtual_memory()\n",
        "\n",
        "print(f\"CPU Usage: {cpu_percent_usage}%\")\n",
        "print(f\"Memory Usage: {memory_info.percent}%\")\n",
        "\n",
        "# Check system RAM usage\n",
        "ram_percent_usage = psutil.virtual_memory().percent\n",
        "print(f\"System RAM Usage: {ram_percent_usage}%\")\n",
        "\n",
        "# Display the first few rows of the loaded chunk\n",
        "loaded_chunk.head()"
      ],
      "metadata": {
        "colab": {
          "base_uri": "https://localhost:8080/",
          "height": 295
        },
        "id": "AEXiaS9GbOfT",
        "outputId": "44417c52-ffd4-4f6e-b3bf-ef8d56c3f73b"
      },
      "execution_count": 15,
      "outputs": [
        {
          "output_type": "stream",
          "name": "stdout",
          "text": [
            "Reading Time: 0.54 seconds\n",
            "CPU Usage: 81.6%\n",
            "Memory Usage: 39.6%\n",
            "System RAM Usage: 39.6%\n"
          ]
        },
        {
          "output_type": "execute_result",
          "data": {
            "text/plain": [
              "   VendorID tpep_pickup_datetime tpep_dropoff_datetime  passenger_count  \\\n",
              "0         2  2019-03-15 16:15:30   2019-03-15 16:21:29                2   \n",
              "1         2  2019-03-15 16:03:15   2019-03-15 16:59:44                1   \n",
              "2         1  2019-03-15 16:22:29   2019-03-15 16:29:13                2   \n",
              "3         1  2019-03-15 16:05:04   2019-03-15 17:23:40                1   \n",
              "4         2  2019-03-15 15:58:09   2019-03-15 16:07:31                1   \n",
              "\n",
              "   trip_distance  RatecodeID store_and_fwd_flag  PULocationID  DOLocationID  \\\n",
              "0           1.38           1                  N           141           263   \n",
              "1          17.39           2                  N           132            74   \n",
              "2           1.00           1                  N           166           152   \n",
              "3          19.70           2                  N           237           132   \n",
              "4           0.71           1                  N           107           170   \n",
              "\n",
              "   payment_type  fare_amount  extra  mta_tax  tip_amount  tolls_amount  \\\n",
              "0             1          6.5    1.0      0.5        2.16          0.00   \n",
              "1             1         52.0    4.5      0.5       12.61          5.76   \n",
              "2             1          6.5    1.0      0.5        2.05          0.00   \n",
              "3             1         52.0    7.0      0.5       11.00          5.76   \n",
              "4             1          7.0    1.0      0.5        2.26          0.00   \n",
              "\n",
              "   improvement_surcharge  total_amount  congestion_surcharge  \n",
              "0                    0.3         12.96                   2.5  \n",
              "1                    0.3         75.67                   0.0  \n",
              "2                    0.3         10.35                   0.0  \n",
              "3                    0.3         76.56                   2.5  \n",
              "4                    0.3         13.56                   2.5  "
            ],
            "text/html": [
              "\n",
              "  <div id=\"df-178da963-2297-4904-9775-a08bbb9970c7\" class=\"colab-df-container\">\n",
              "    <div>\n",
              "<style scoped>\n",
              "    .dataframe tbody tr th:only-of-type {\n",
              "        vertical-align: middle;\n",
              "    }\n",
              "\n",
              "    .dataframe tbody tr th {\n",
              "        vertical-align: top;\n",
              "    }\n",
              "\n",
              "    .dataframe thead th {\n",
              "        text-align: right;\n",
              "    }\n",
              "</style>\n",
              "<table border=\"1\" class=\"dataframe\">\n",
              "  <thead>\n",
              "    <tr style=\"text-align: right;\">\n",
              "      <th></th>\n",
              "      <th>VendorID</th>\n",
              "      <th>tpep_pickup_datetime</th>\n",
              "      <th>tpep_dropoff_datetime</th>\n",
              "      <th>passenger_count</th>\n",
              "      <th>trip_distance</th>\n",
              "      <th>RatecodeID</th>\n",
              "      <th>store_and_fwd_flag</th>\n",
              "      <th>PULocationID</th>\n",
              "      <th>DOLocationID</th>\n",
              "      <th>payment_type</th>\n",
              "      <th>fare_amount</th>\n",
              "      <th>extra</th>\n",
              "      <th>mta_tax</th>\n",
              "      <th>tip_amount</th>\n",
              "      <th>tolls_amount</th>\n",
              "      <th>improvement_surcharge</th>\n",
              "      <th>total_amount</th>\n",
              "      <th>congestion_surcharge</th>\n",
              "    </tr>\n",
              "  </thead>\n",
              "  <tbody>\n",
              "    <tr>\n",
              "      <th>0</th>\n",
              "      <td>2</td>\n",
              "      <td>2019-03-15 16:15:30</td>\n",
              "      <td>2019-03-15 16:21:29</td>\n",
              "      <td>2</td>\n",
              "      <td>1.38</td>\n",
              "      <td>1</td>\n",
              "      <td>N</td>\n",
              "      <td>141</td>\n",
              "      <td>263</td>\n",
              "      <td>1</td>\n",
              "      <td>6.5</td>\n",
              "      <td>1.0</td>\n",
              "      <td>0.5</td>\n",
              "      <td>2.16</td>\n",
              "      <td>0.00</td>\n",
              "      <td>0.3</td>\n",
              "      <td>12.96</td>\n",
              "      <td>2.5</td>\n",
              "    </tr>\n",
              "    <tr>\n",
              "      <th>1</th>\n",
              "      <td>2</td>\n",
              "      <td>2019-03-15 16:03:15</td>\n",
              "      <td>2019-03-15 16:59:44</td>\n",
              "      <td>1</td>\n",
              "      <td>17.39</td>\n",
              "      <td>2</td>\n",
              "      <td>N</td>\n",
              "      <td>132</td>\n",
              "      <td>74</td>\n",
              "      <td>1</td>\n",
              "      <td>52.0</td>\n",
              "      <td>4.5</td>\n",
              "      <td>0.5</td>\n",
              "      <td>12.61</td>\n",
              "      <td>5.76</td>\n",
              "      <td>0.3</td>\n",
              "      <td>75.67</td>\n",
              "      <td>0.0</td>\n",
              "    </tr>\n",
              "    <tr>\n",
              "      <th>2</th>\n",
              "      <td>1</td>\n",
              "      <td>2019-03-15 16:22:29</td>\n",
              "      <td>2019-03-15 16:29:13</td>\n",
              "      <td>2</td>\n",
              "      <td>1.00</td>\n",
              "      <td>1</td>\n",
              "      <td>N</td>\n",
              "      <td>166</td>\n",
              "      <td>152</td>\n",
              "      <td>1</td>\n",
              "      <td>6.5</td>\n",
              "      <td>1.0</td>\n",
              "      <td>0.5</td>\n",
              "      <td>2.05</td>\n",
              "      <td>0.00</td>\n",
              "      <td>0.3</td>\n",
              "      <td>10.35</td>\n",
              "      <td>0.0</td>\n",
              "    </tr>\n",
              "    <tr>\n",
              "      <th>3</th>\n",
              "      <td>1</td>\n",
              "      <td>2019-03-15 16:05:04</td>\n",
              "      <td>2019-03-15 17:23:40</td>\n",
              "      <td>1</td>\n",
              "      <td>19.70</td>\n",
              "      <td>2</td>\n",
              "      <td>N</td>\n",
              "      <td>237</td>\n",
              "      <td>132</td>\n",
              "      <td>1</td>\n",
              "      <td>52.0</td>\n",
              "      <td>7.0</td>\n",
              "      <td>0.5</td>\n",
              "      <td>11.00</td>\n",
              "      <td>5.76</td>\n",
              "      <td>0.3</td>\n",
              "      <td>76.56</td>\n",
              "      <td>2.5</td>\n",
              "    </tr>\n",
              "    <tr>\n",
              "      <th>4</th>\n",
              "      <td>2</td>\n",
              "      <td>2019-03-15 15:58:09</td>\n",
              "      <td>2019-03-15 16:07:31</td>\n",
              "      <td>1</td>\n",
              "      <td>0.71</td>\n",
              "      <td>1</td>\n",
              "      <td>N</td>\n",
              "      <td>107</td>\n",
              "      <td>170</td>\n",
              "      <td>1</td>\n",
              "      <td>7.0</td>\n",
              "      <td>1.0</td>\n",
              "      <td>0.5</td>\n",
              "      <td>2.26</td>\n",
              "      <td>0.00</td>\n",
              "      <td>0.3</td>\n",
              "      <td>13.56</td>\n",
              "      <td>2.5</td>\n",
              "    </tr>\n",
              "  </tbody>\n",
              "</table>\n",
              "</div>\n",
              "    <div class=\"colab-df-buttons\">\n",
              "\n",
              "  <div class=\"colab-df-container\">\n",
              "    <button class=\"colab-df-convert\" onclick=\"convertToInteractive('df-178da963-2297-4904-9775-a08bbb9970c7')\"\n",
              "            title=\"Convert this dataframe to an interactive table.\"\n",
              "            style=\"display:none;\">\n",
              "\n",
              "  <svg xmlns=\"http://www.w3.org/2000/svg\" height=\"24px\" viewBox=\"0 -960 960 960\">\n",
              "    <path d=\"M120-120v-720h720v720H120Zm60-500h600v-160H180v160Zm220 220h160v-160H400v160Zm0 220h160v-160H400v160ZM180-400h160v-160H180v160Zm440 0h160v-160H620v160ZM180-180h160v-160H180v160Zm440 0h160v-160H620v160Z\"/>\n",
              "  </svg>\n",
              "    </button>\n",
              "\n",
              "  <style>\n",
              "    .colab-df-container {\n",
              "      display:flex;\n",
              "      gap: 12px;\n",
              "    }\n",
              "\n",
              "    .colab-df-convert {\n",
              "      background-color: #E8F0FE;\n",
              "      border: none;\n",
              "      border-radius: 50%;\n",
              "      cursor: pointer;\n",
              "      display: none;\n",
              "      fill: #1967D2;\n",
              "      height: 32px;\n",
              "      padding: 0 0 0 0;\n",
              "      width: 32px;\n",
              "    }\n",
              "\n",
              "    .colab-df-convert:hover {\n",
              "      background-color: #E2EBFA;\n",
              "      box-shadow: 0px 1px 2px rgba(60, 64, 67, 0.3), 0px 1px 3px 1px rgba(60, 64, 67, 0.15);\n",
              "      fill: #174EA6;\n",
              "    }\n",
              "\n",
              "    .colab-df-buttons div {\n",
              "      margin-bottom: 4px;\n",
              "    }\n",
              "\n",
              "    [theme=dark] .colab-df-convert {\n",
              "      background-color: #3B4455;\n",
              "      fill: #D2E3FC;\n",
              "    }\n",
              "\n",
              "    [theme=dark] .colab-df-convert:hover {\n",
              "      background-color: #434B5C;\n",
              "      box-shadow: 0px 1px 3px 1px rgba(0, 0, 0, 0.15);\n",
              "      filter: drop-shadow(0px 1px 2px rgba(0, 0, 0, 0.3));\n",
              "      fill: #FFFFFF;\n",
              "    }\n",
              "  </style>\n",
              "\n",
              "    <script>\n",
              "      const buttonEl =\n",
              "        document.querySelector('#df-178da963-2297-4904-9775-a08bbb9970c7 button.colab-df-convert');\n",
              "      buttonEl.style.display =\n",
              "        google.colab.kernel.accessAllowed ? 'block' : 'none';\n",
              "\n",
              "      async function convertToInteractive(key) {\n",
              "        const element = document.querySelector('#df-178da963-2297-4904-9775-a08bbb9970c7');\n",
              "        const dataTable =\n",
              "          await google.colab.kernel.invokeFunction('convertToInteractive',\n",
              "                                                    [key], {});\n",
              "        if (!dataTable) return;\n",
              "\n",
              "        const docLinkHtml = 'Like what you see? Visit the ' +\n",
              "          '<a target=\"_blank\" href=https://colab.research.google.com/notebooks/data_table.ipynb>data table notebook</a>'\n",
              "          + ' to learn more about interactive tables.';\n",
              "        element.innerHTML = '';\n",
              "        dataTable['output_type'] = 'display_data';\n",
              "        await google.colab.output.renderOutput(dataTable, element);\n",
              "        const docLink = document.createElement('div');\n",
              "        docLink.innerHTML = docLinkHtml;\n",
              "        element.appendChild(docLink);\n",
              "      }\n",
              "    </script>\n",
              "  </div>\n",
              "\n",
              "\n",
              "<div id=\"df-f2e82c7c-c04b-44da-a72a-2d0962db15f8\">\n",
              "  <button class=\"colab-df-quickchart\" onclick=\"quickchart('df-f2e82c7c-c04b-44da-a72a-2d0962db15f8')\"\n",
              "            title=\"Suggest charts\"\n",
              "            style=\"display:none;\">\n",
              "\n",
              "<svg xmlns=\"http://www.w3.org/2000/svg\" height=\"24px\"viewBox=\"0 0 24 24\"\n",
              "     width=\"24px\">\n",
              "    <g>\n",
              "        <path d=\"M19 3H5c-1.1 0-2 .9-2 2v14c0 1.1.9 2 2 2h14c1.1 0 2-.9 2-2V5c0-1.1-.9-2-2-2zM9 17H7v-7h2v7zm4 0h-2V7h2v10zm4 0h-2v-4h2v4z\"/>\n",
              "    </g>\n",
              "</svg>\n",
              "  </button>\n",
              "\n",
              "<style>\n",
              "  .colab-df-quickchart {\n",
              "      --bg-color: #E8F0FE;\n",
              "      --fill-color: #1967D2;\n",
              "      --hover-bg-color: #E2EBFA;\n",
              "      --hover-fill-color: #174EA6;\n",
              "      --disabled-fill-color: #AAA;\n",
              "      --disabled-bg-color: #DDD;\n",
              "  }\n",
              "\n",
              "  [theme=dark] .colab-df-quickchart {\n",
              "      --bg-color: #3B4455;\n",
              "      --fill-color: #D2E3FC;\n",
              "      --hover-bg-color: #434B5C;\n",
              "      --hover-fill-color: #FFFFFF;\n",
              "      --disabled-bg-color: #3B4455;\n",
              "      --disabled-fill-color: #666;\n",
              "  }\n",
              "\n",
              "  .colab-df-quickchart {\n",
              "    background-color: var(--bg-color);\n",
              "    border: none;\n",
              "    border-radius: 50%;\n",
              "    cursor: pointer;\n",
              "    display: none;\n",
              "    fill: var(--fill-color);\n",
              "    height: 32px;\n",
              "    padding: 0;\n",
              "    width: 32px;\n",
              "  }\n",
              "\n",
              "  .colab-df-quickchart:hover {\n",
              "    background-color: var(--hover-bg-color);\n",
              "    box-shadow: 0 1px 2px rgba(60, 64, 67, 0.3), 0 1px 3px 1px rgba(60, 64, 67, 0.15);\n",
              "    fill: var(--button-hover-fill-color);\n",
              "  }\n",
              "\n",
              "  .colab-df-quickchart-complete:disabled,\n",
              "  .colab-df-quickchart-complete:disabled:hover {\n",
              "    background-color: var(--disabled-bg-color);\n",
              "    fill: var(--disabled-fill-color);\n",
              "    box-shadow: none;\n",
              "  }\n",
              "\n",
              "  .colab-df-spinner {\n",
              "    border: 2px solid var(--fill-color);\n",
              "    border-color: transparent;\n",
              "    border-bottom-color: var(--fill-color);\n",
              "    animation:\n",
              "      spin 1s steps(1) infinite;\n",
              "  }\n",
              "\n",
              "  @keyframes spin {\n",
              "    0% {\n",
              "      border-color: transparent;\n",
              "      border-bottom-color: var(--fill-color);\n",
              "      border-left-color: var(--fill-color);\n",
              "    }\n",
              "    20% {\n",
              "      border-color: transparent;\n",
              "      border-left-color: var(--fill-color);\n",
              "      border-top-color: var(--fill-color);\n",
              "    }\n",
              "    30% {\n",
              "      border-color: transparent;\n",
              "      border-left-color: var(--fill-color);\n",
              "      border-top-color: var(--fill-color);\n",
              "      border-right-color: var(--fill-color);\n",
              "    }\n",
              "    40% {\n",
              "      border-color: transparent;\n",
              "      border-right-color: var(--fill-color);\n",
              "      border-top-color: var(--fill-color);\n",
              "    }\n",
              "    60% {\n",
              "      border-color: transparent;\n",
              "      border-right-color: var(--fill-color);\n",
              "    }\n",
              "    80% {\n",
              "      border-color: transparent;\n",
              "      border-right-color: var(--fill-color);\n",
              "      border-bottom-color: var(--fill-color);\n",
              "    }\n",
              "    90% {\n",
              "      border-color: transparent;\n",
              "      border-bottom-color: var(--fill-color);\n",
              "    }\n",
              "  }\n",
              "</style>\n",
              "\n",
              "  <script>\n",
              "    async function quickchart(key) {\n",
              "      const quickchartButtonEl =\n",
              "        document.querySelector('#' + key + ' button');\n",
              "      quickchartButtonEl.disabled = true;  // To prevent multiple clicks.\n",
              "      quickchartButtonEl.classList.add('colab-df-spinner');\n",
              "      try {\n",
              "        const charts = await google.colab.kernel.invokeFunction(\n",
              "            'suggestCharts', [key], {});\n",
              "      } catch (error) {\n",
              "        console.error('Error during call to suggestCharts:', error);\n",
              "      }\n",
              "      quickchartButtonEl.classList.remove('colab-df-spinner');\n",
              "      quickchartButtonEl.classList.add('colab-df-quickchart-complete');\n",
              "    }\n",
              "    (() => {\n",
              "      let quickchartButtonEl =\n",
              "        document.querySelector('#df-f2e82c7c-c04b-44da-a72a-2d0962db15f8 button');\n",
              "      quickchartButtonEl.style.display =\n",
              "        google.colab.kernel.accessAllowed ? 'block' : 'none';\n",
              "    })();\n",
              "  </script>\n",
              "</div>\n",
              "\n",
              "    </div>\n",
              "  </div>\n"
            ]
          },
          "metadata": {},
          "execution_count": 15
        }
      ]
    },
    {
      "cell_type": "markdown",
      "source": [
        "So, loading each of the chunk datasets takes only 0.54s, compared to loading the entire dataset a once."
      ],
      "metadata": {
        "id": "Pt8w1zOFeR_X"
      }
    },
    {
      "cell_type": "markdown",
      "source": [
        "### Optimize Data Types"
      ],
      "metadata": {
        "id": "_6SucTeIelVn"
      }
    },
    {
      "cell_type": "code",
      "source": [
        "#Dataframe size before optimization\n",
        "\n",
        "from sys import getsizeof\n",
        "# The size of the original data set\n",
        "start_size = getsizeof(df)/(1024.0**3)\n",
        "print('Dataframe size: %2.2f GB'%start_size)"
      ],
      "metadata": {
        "colab": {
          "base_uri": "https://localhost:8080/"
        },
        "id": "LPM6bGvom6gm",
        "outputId": "15c4fec5-2bff-4302-e10a-0c6ccb5c789e"
      },
      "execution_count": 16,
      "outputs": [
        {
          "output_type": "stream",
          "name": "stdout",
          "text": [
            "Dataframe size: 2.41 GB\n"
          ]
        }
      ]
    },
    {
      "cell_type": "code",
      "source": [
        "df.dtypes"
      ],
      "metadata": {
        "colab": {
          "base_uri": "https://localhost:8080/"
        },
        "id": "rYWZMOsVv435",
        "outputId": "5219c084-18dc-4205-da88-6286ea00c7a6"
      },
      "execution_count": 17,
      "outputs": [
        {
          "output_type": "execute_result",
          "data": {
            "text/plain": [
              "VendorID                   int64\n",
              "tpep_pickup_datetime      object\n",
              "tpep_dropoff_datetime     object\n",
              "passenger_count            int64\n",
              "trip_distance            float64\n",
              "RatecodeID                 int64\n",
              "store_and_fwd_flag        object\n",
              "PULocationID               int64\n",
              "DOLocationID               int64\n",
              "payment_type               int64\n",
              "fare_amount              float64\n",
              "extra                    float64\n",
              "mta_tax                  float64\n",
              "tip_amount               float64\n",
              "tolls_amount             float64\n",
              "improvement_surcharge    float64\n",
              "total_amount             float64\n",
              "congestion_surcharge     float64\n",
              "dtype: object"
            ]
          },
          "metadata": {},
          "execution_count": 17
        }
      ]
    },
    {
      "cell_type": "code",
      "source": [
        "numeric_columns = df.select_dtypes(include=['int64', 'float64']).columns\n",
        "\n",
        "min_values = df[numeric_columns].min()\n",
        "max_values = df[numeric_columns].max()\n",
        "\n",
        "print(\"Minimum values:\\n\", min_values)\n",
        "print(\"\\nMaximum values:\\n\", max_values)"
      ],
      "metadata": {
        "colab": {
          "base_uri": "https://localhost:8080/"
        },
        "id": "7Dz6aLROjyUp",
        "outputId": "528d726e-ba49-4491-fb39-bca82e4c3573"
      },
      "execution_count": 18,
      "outputs": [
        {
          "output_type": "stream",
          "name": "stdout",
          "text": [
            "Minimum values:\n",
            " VendorID                   1.00\n",
            "passenger_count            0.00\n",
            "trip_distance              0.00\n",
            "RatecodeID                 1.00\n",
            "PULocationID               1.00\n",
            "DOLocationID               1.00\n",
            "payment_type               1.00\n",
            "fare_amount             -447.00\n",
            "extra                    -57.50\n",
            "mta_tax                   -0.50\n",
            "tip_amount               -89.89\n",
            "tolls_amount             -25.00\n",
            "improvement_surcharge     -0.30\n",
            "total_amount            -450.30\n",
            "congestion_surcharge      -2.50\n",
            "dtype: float64\n",
            "\n",
            "Maximum values:\n",
            " VendorID                       4.00\n",
            "passenger_count                9.00\n",
            "trip_distance                237.17\n",
            "RatecodeID                    99.00\n",
            "PULocationID                 265.00\n",
            "DOLocationID                 265.00\n",
            "payment_type                   5.00\n",
            "fare_amount               943274.80\n",
            "extra                         24.66\n",
            "mta_tax                       75.00\n",
            "tip_amount                141492.02\n",
            "tolls_amount                 805.76\n",
            "improvement_surcharge          1.00\n",
            "total_amount             1084772.17\n",
            "congestion_surcharge           4.50\n",
            "dtype: float64\n"
          ]
        }
      ]
    },
    {
      "cell_type": "code",
      "source": [
        "data_types_mapping = {\n",
        "    'float64': 'float16',\n",
        "    'int64': 'int16',\n",
        "    'object': 'category'\n",
        "}\n",
        "\n",
        "df = df.apply(lambda col: col.astype(data_types_mapping.get(str(col.dtype), col.dtype)))"
      ],
      "metadata": {
        "id": "G6X5VxMJLe7r"
      },
      "execution_count": 19,
      "outputs": []
    },
    {
      "cell_type": "code",
      "source": [
        "start_memory = df.memory_usage().sum() / 1024**3\n",
        "\n",
        "# Optimize memory usage\n",
        "df_optimized = df.copy()\n",
        "for col in df_optimized.columns:\n",
        "    if pd.api.types.is_numeric_dtype(df_optimized[col]):\n",
        "        df_optimized[col] = pd.to_numeric(df_optimized[col], downcast='integer')\n",
        "    elif pd.api.types.is_object_dtype(df_optimized[col]):\n",
        "        df_optimized[col] = df_optimized[col].astype('category')\n",
        "\n",
        "end_memory = df_optimized.memory_usage().sum() / 1024**3\n",
        "\n",
        "# Report memory usage changes\n",
        "print(f\"Memory usage after optimization: {end_memory:.2f} MB\")\n",
        "print(f\"Decreased by: {100 * (start_memory - end_memory) / start_memory:.1f}%\")"
      ],
      "metadata": {
        "colab": {
          "base_uri": "https://localhost:8080/"
        },
        "id": "iaWpDX-8L3dy",
        "outputId": "c85927fe-2308-4fc2-866f-2e514e6eb0d5"
      },
      "execution_count": 20,
      "outputs": [
        {
          "output_type": "stream",
          "name": "stdout",
          "text": [
            "Memory usage after optimization: 0.42 MB\n",
            "Decreased by: 6.6%\n"
          ]
        }
      ]
    },
    {
      "cell_type": "code",
      "source": [
        "# Display concise information about the DataFrame\n",
        "summary_info = df.memory_usage(deep=True).sum() / (1024**3), df.shape\n",
        "print(f\"Total memory usage: {summary_info[0]:.2f} GB\")\n",
        "print(\"Data types:\")\n",
        "print(df.dtypes)\n",
        "print(summary_info[1])"
      ],
      "metadata": {
        "colab": {
          "base_uri": "https://localhost:8080/"
        },
        "id": "lfNRDc9fMmtu",
        "outputId": "b95252be-dd38-48b8-af81-8cbee5c328fe"
      },
      "execution_count": 21,
      "outputs": [
        {
          "output_type": "stream",
          "name": "stdout",
          "text": [
            "Total memory usage: 0.73 GB\n",
            "Data types:\n",
            "VendorID                    int16\n",
            "tpep_pickup_datetime     category\n",
            "tpep_dropoff_datetime    category\n",
            "passenger_count             int16\n",
            "trip_distance             float16\n",
            "RatecodeID                  int16\n",
            "store_and_fwd_flag       category\n",
            "PULocationID                int16\n",
            "DOLocationID                int16\n",
            "payment_type                int16\n",
            "fare_amount               float16\n",
            "extra                     float16\n",
            "mta_tax                   float16\n",
            "tip_amount                float16\n",
            "tolls_amount              float16\n",
            "improvement_surcharge     float16\n",
            "total_amount              float16\n",
            "congestion_surcharge      float16\n",
            "dtype: object\n",
            "(7832545, 18)\n"
          ]
        }
      ]
    },
    {
      "cell_type": "code",
      "source": [
        "start_size = getsizeof(df)/(1024.0**3)\n",
        "print('Dataframe size: %2.2f GB'%start_size)"
      ],
      "metadata": {
        "id": "yT_TW0CikHci",
        "outputId": "350f541f-4a70-43f2-bd13-a28540b9fe80",
        "colab": {
          "base_uri": "https://localhost:8080/"
        }
      },
      "execution_count": 22,
      "outputs": [
        {
          "output_type": "stream",
          "name": "stdout",
          "text": [
            "Dataframe size: 0.73 GB\n"
          ]
        }
      ]
    },
    {
      "cell_type": "markdown",
      "source": [
        "So, following the optimization process, the memory usage decreased from 2.41 GB to 0.73 GB, representing a 69.7% reduction."
      ],
      "metadata": {
        "id": "RfWuCnKSOCvy"
      }
    },
    {
      "cell_type": "markdown",
      "source": [
        "### Sampling"
      ],
      "metadata": {
        "id": "qaoHktenOWvL"
      }
    },
    {
      "cell_type": "code",
      "source": [
        "file_path = \"/content/yellow_tripdata_2019-03.csv\"\n",
        "\n",
        "# Read CSV file into a Pandas DataFrame\n",
        "df = pd.read_csv(file_path)\n",
        "\n",
        "# Check memory usage of the DataFrame\n",
        "memory_usage = df.memory_usage(deep=True).sum() / (1024 * 1024)  # in megabytes\n",
        "\n",
        "# Print the memory usage\n",
        "print(f\"Memory Usage: {memory_usage:.2f} MB\")"
      ],
      "metadata": {
        "colab": {
          "base_uri": "https://localhost:8080/"
        },
        "id": "FpF2JZo20E4_",
        "outputId": "540c2fca-402d-412d-cc21-34cffaae87ed"
      },
      "execution_count": 23,
      "outputs": [
        {
          "output_type": "stream",
          "name": "stdout",
          "text": [
            "Memory Usage: 2465.00 MB\n"
          ]
        }
      ]
    },
    {
      "cell_type": "code",
      "source": [
        "# Retrieve the dimensions (rows and columns) of the DataFrame\n",
        "dimensions = df.shape\n",
        "dimensions"
      ],
      "metadata": {
        "id": "evTbLuLKOdKN",
        "colab": {
          "base_uri": "https://localhost:8080/"
        },
        "outputId": "a02100f5-f6e4-4fab-908b-57429a9e897e"
      },
      "execution_count": 24,
      "outputs": [
        {
          "output_type": "execute_result",
          "data": {
            "text/plain": [
              "(7832545, 18)"
            ]
          },
          "metadata": {},
          "execution_count": 24
        }
      ]
    },
    {
      "cell_type": "code",
      "source": [
        "# Randomly sample 10% of the dataset\n",
        "sample_10_percent = df.sample(frac=0.10)\n",
        "sample_10_percent"
      ],
      "metadata": {
        "colab": {
          "base_uri": "https://localhost:8080/",
          "height": 443
        },
        "id": "iwiCHOm9yBKP",
        "outputId": "60394648-b9f7-410b-eacf-958f2ef45733"
      },
      "execution_count": 25,
      "outputs": [
        {
          "output_type": "execute_result",
          "data": {
            "text/plain": [
              "         VendorID tpep_pickup_datetime tpep_dropoff_datetime  passenger_count  \\\n",
              "6153145         2  2019-03-25 06:26:01   2019-03-25 07:25:15                6   \n",
              "4158781         1  2019-03-16 21:44:56   2019-03-16 21:54:02                1   \n",
              "6963484         2  2019-03-28 14:57:17   2019-03-28 15:10:30                3   \n",
              "7767666         2  2019-03-31 17:02:17   2019-03-31 17:04:42                1   \n",
              "3016422         2  2019-03-12 18:11:04   2019-03-12 19:06:20                2   \n",
              "...           ...                  ...                   ...              ...   \n",
              "514358          2  2019-03-02 22:35:34   2019-03-02 22:41:13                1   \n",
              "326523          2  2019-03-02 07:31:42   2019-03-02 07:35:52                1   \n",
              "1729911         1  2019-03-07 19:40:37   2019-03-07 19:57:29                1   \n",
              "1396438         2  2019-03-06 16:36:34   2019-03-07 16:30:28                4   \n",
              "4555818         2  2019-03-18 16:09:14   2019-03-18 16:12:50                1   \n",
              "\n",
              "         trip_distance  RatecodeID store_and_fwd_flag  PULocationID  \\\n",
              "6153145          19.98           2                  N           132   \n",
              "4158781           1.10           1                  N            90   \n",
              "6963484           2.19           1                  N           158   \n",
              "7767666           0.55           1                  N           140   \n",
              "3016422          18.68           2                  N           132   \n",
              "...                ...         ...                ...           ...   \n",
              "514358            1.27           1                  N            90   \n",
              "326523            0.58           1                  N           262   \n",
              "1729911           2.20           1                  N           161   \n",
              "1396438           6.52           1                  N           162   \n",
              "4555818           0.53           1                  N           233   \n",
              "\n",
              "         DOLocationID  payment_type  fare_amount  extra  mta_tax  tip_amount  \\\n",
              "6153145           238             1         52.0    0.0      0.5       11.71   \n",
              "4158781           114             2          7.5    3.0      0.5        0.00   \n",
              "6963484            90             2         10.5    0.0      0.5        0.00   \n",
              "7767666           229             1          4.0    0.0      0.5        1.46   \n",
              "3016422            43             2         52.0    4.5      0.5        0.00   \n",
              "...               ...           ...          ...    ...      ...         ...   \n",
              "514358            246             1          6.5    0.5      0.5        2.58   \n",
              "326523            236             1          5.0    0.0      0.5        2.08   \n",
              "1729911           246             2         12.0    3.0      0.5        0.00   \n",
              "1396438           231             1         24.5    1.0      0.5        0.00   \n",
              "4555818           170             1          4.5    1.0      0.5        1.00   \n",
              "\n",
              "         tolls_amount  improvement_surcharge  total_amount  \\\n",
              "6153145          5.76                    0.3         70.27   \n",
              "4158781          0.00                    0.3         11.30   \n",
              "6963484          0.00                    0.3         13.80   \n",
              "7767666          0.00                    0.3          8.76   \n",
              "3016422          5.76                    0.3         65.56   \n",
              "...               ...                    ...           ...   \n",
              "514358           0.00                    0.3         12.88   \n",
              "326523           0.00                    0.3         10.38   \n",
              "1729911          0.00                    0.3         15.80   \n",
              "1396438          0.00                    0.3         28.80   \n",
              "4555818          0.00                    0.3          9.80   \n",
              "\n",
              "         congestion_surcharge  \n",
              "6153145                   0.0  \n",
              "4158781                   2.5  \n",
              "6963484                   2.5  \n",
              "7767666                   2.5  \n",
              "3016422                   2.5  \n",
              "...                       ...  \n",
              "514358                    2.5  \n",
              "326523                    2.5  \n",
              "1729911                   2.5  \n",
              "1396438                   2.5  \n",
              "4555818                   2.5  \n",
              "\n",
              "[783254 rows x 18 columns]"
            ],
            "text/html": [
              "\n",
              "  <div id=\"df-98e0d4cc-4894-4170-88dc-db84fc235613\" class=\"colab-df-container\">\n",
              "    <div>\n",
              "<style scoped>\n",
              "    .dataframe tbody tr th:only-of-type {\n",
              "        vertical-align: middle;\n",
              "    }\n",
              "\n",
              "    .dataframe tbody tr th {\n",
              "        vertical-align: top;\n",
              "    }\n",
              "\n",
              "    .dataframe thead th {\n",
              "        text-align: right;\n",
              "    }\n",
              "</style>\n",
              "<table border=\"1\" class=\"dataframe\">\n",
              "  <thead>\n",
              "    <tr style=\"text-align: right;\">\n",
              "      <th></th>\n",
              "      <th>VendorID</th>\n",
              "      <th>tpep_pickup_datetime</th>\n",
              "      <th>tpep_dropoff_datetime</th>\n",
              "      <th>passenger_count</th>\n",
              "      <th>trip_distance</th>\n",
              "      <th>RatecodeID</th>\n",
              "      <th>store_and_fwd_flag</th>\n",
              "      <th>PULocationID</th>\n",
              "      <th>DOLocationID</th>\n",
              "      <th>payment_type</th>\n",
              "      <th>fare_amount</th>\n",
              "      <th>extra</th>\n",
              "      <th>mta_tax</th>\n",
              "      <th>tip_amount</th>\n",
              "      <th>tolls_amount</th>\n",
              "      <th>improvement_surcharge</th>\n",
              "      <th>total_amount</th>\n",
              "      <th>congestion_surcharge</th>\n",
              "    </tr>\n",
              "  </thead>\n",
              "  <tbody>\n",
              "    <tr>\n",
              "      <th>6153145</th>\n",
              "      <td>2</td>\n",
              "      <td>2019-03-25 06:26:01</td>\n",
              "      <td>2019-03-25 07:25:15</td>\n",
              "      <td>6</td>\n",
              "      <td>19.98</td>\n",
              "      <td>2</td>\n",
              "      <td>N</td>\n",
              "      <td>132</td>\n",
              "      <td>238</td>\n",
              "      <td>1</td>\n",
              "      <td>52.0</td>\n",
              "      <td>0.0</td>\n",
              "      <td>0.5</td>\n",
              "      <td>11.71</td>\n",
              "      <td>5.76</td>\n",
              "      <td>0.3</td>\n",
              "      <td>70.27</td>\n",
              "      <td>0.0</td>\n",
              "    </tr>\n",
              "    <tr>\n",
              "      <th>4158781</th>\n",
              "      <td>1</td>\n",
              "      <td>2019-03-16 21:44:56</td>\n",
              "      <td>2019-03-16 21:54:02</td>\n",
              "      <td>1</td>\n",
              "      <td>1.10</td>\n",
              "      <td>1</td>\n",
              "      <td>N</td>\n",
              "      <td>90</td>\n",
              "      <td>114</td>\n",
              "      <td>2</td>\n",
              "      <td>7.5</td>\n",
              "      <td>3.0</td>\n",
              "      <td>0.5</td>\n",
              "      <td>0.00</td>\n",
              "      <td>0.00</td>\n",
              "      <td>0.3</td>\n",
              "      <td>11.30</td>\n",
              "      <td>2.5</td>\n",
              "    </tr>\n",
              "    <tr>\n",
              "      <th>6963484</th>\n",
              "      <td>2</td>\n",
              "      <td>2019-03-28 14:57:17</td>\n",
              "      <td>2019-03-28 15:10:30</td>\n",
              "      <td>3</td>\n",
              "      <td>2.19</td>\n",
              "      <td>1</td>\n",
              "      <td>N</td>\n",
              "      <td>158</td>\n",
              "      <td>90</td>\n",
              "      <td>2</td>\n",
              "      <td>10.5</td>\n",
              "      <td>0.0</td>\n",
              "      <td>0.5</td>\n",
              "      <td>0.00</td>\n",
              "      <td>0.00</td>\n",
              "      <td>0.3</td>\n",
              "      <td>13.80</td>\n",
              "      <td>2.5</td>\n",
              "    </tr>\n",
              "    <tr>\n",
              "      <th>7767666</th>\n",
              "      <td>2</td>\n",
              "      <td>2019-03-31 17:02:17</td>\n",
              "      <td>2019-03-31 17:04:42</td>\n",
              "      <td>1</td>\n",
              "      <td>0.55</td>\n",
              "      <td>1</td>\n",
              "      <td>N</td>\n",
              "      <td>140</td>\n",
              "      <td>229</td>\n",
              "      <td>1</td>\n",
              "      <td>4.0</td>\n",
              "      <td>0.0</td>\n",
              "      <td>0.5</td>\n",
              "      <td>1.46</td>\n",
              "      <td>0.00</td>\n",
              "      <td>0.3</td>\n",
              "      <td>8.76</td>\n",
              "      <td>2.5</td>\n",
              "    </tr>\n",
              "    <tr>\n",
              "      <th>3016422</th>\n",
              "      <td>2</td>\n",
              "      <td>2019-03-12 18:11:04</td>\n",
              "      <td>2019-03-12 19:06:20</td>\n",
              "      <td>2</td>\n",
              "      <td>18.68</td>\n",
              "      <td>2</td>\n",
              "      <td>N</td>\n",
              "      <td>132</td>\n",
              "      <td>43</td>\n",
              "      <td>2</td>\n",
              "      <td>52.0</td>\n",
              "      <td>4.5</td>\n",
              "      <td>0.5</td>\n",
              "      <td>0.00</td>\n",
              "      <td>5.76</td>\n",
              "      <td>0.3</td>\n",
              "      <td>65.56</td>\n",
              "      <td>2.5</td>\n",
              "    </tr>\n",
              "    <tr>\n",
              "      <th>...</th>\n",
              "      <td>...</td>\n",
              "      <td>...</td>\n",
              "      <td>...</td>\n",
              "      <td>...</td>\n",
              "      <td>...</td>\n",
              "      <td>...</td>\n",
              "      <td>...</td>\n",
              "      <td>...</td>\n",
              "      <td>...</td>\n",
              "      <td>...</td>\n",
              "      <td>...</td>\n",
              "      <td>...</td>\n",
              "      <td>...</td>\n",
              "      <td>...</td>\n",
              "      <td>...</td>\n",
              "      <td>...</td>\n",
              "      <td>...</td>\n",
              "      <td>...</td>\n",
              "    </tr>\n",
              "    <tr>\n",
              "      <th>514358</th>\n",
              "      <td>2</td>\n",
              "      <td>2019-03-02 22:35:34</td>\n",
              "      <td>2019-03-02 22:41:13</td>\n",
              "      <td>1</td>\n",
              "      <td>1.27</td>\n",
              "      <td>1</td>\n",
              "      <td>N</td>\n",
              "      <td>90</td>\n",
              "      <td>246</td>\n",
              "      <td>1</td>\n",
              "      <td>6.5</td>\n",
              "      <td>0.5</td>\n",
              "      <td>0.5</td>\n",
              "      <td>2.58</td>\n",
              "      <td>0.00</td>\n",
              "      <td>0.3</td>\n",
              "      <td>12.88</td>\n",
              "      <td>2.5</td>\n",
              "    </tr>\n",
              "    <tr>\n",
              "      <th>326523</th>\n",
              "      <td>2</td>\n",
              "      <td>2019-03-02 07:31:42</td>\n",
              "      <td>2019-03-02 07:35:52</td>\n",
              "      <td>1</td>\n",
              "      <td>0.58</td>\n",
              "      <td>1</td>\n",
              "      <td>N</td>\n",
              "      <td>262</td>\n",
              "      <td>236</td>\n",
              "      <td>1</td>\n",
              "      <td>5.0</td>\n",
              "      <td>0.0</td>\n",
              "      <td>0.5</td>\n",
              "      <td>2.08</td>\n",
              "      <td>0.00</td>\n",
              "      <td>0.3</td>\n",
              "      <td>10.38</td>\n",
              "      <td>2.5</td>\n",
              "    </tr>\n",
              "    <tr>\n",
              "      <th>1729911</th>\n",
              "      <td>1</td>\n",
              "      <td>2019-03-07 19:40:37</td>\n",
              "      <td>2019-03-07 19:57:29</td>\n",
              "      <td>1</td>\n",
              "      <td>2.20</td>\n",
              "      <td>1</td>\n",
              "      <td>N</td>\n",
              "      <td>161</td>\n",
              "      <td>246</td>\n",
              "      <td>2</td>\n",
              "      <td>12.0</td>\n",
              "      <td>3.0</td>\n",
              "      <td>0.5</td>\n",
              "      <td>0.00</td>\n",
              "      <td>0.00</td>\n",
              "      <td>0.3</td>\n",
              "      <td>15.80</td>\n",
              "      <td>2.5</td>\n",
              "    </tr>\n",
              "    <tr>\n",
              "      <th>1396438</th>\n",
              "      <td>2</td>\n",
              "      <td>2019-03-06 16:36:34</td>\n",
              "      <td>2019-03-07 16:30:28</td>\n",
              "      <td>4</td>\n",
              "      <td>6.52</td>\n",
              "      <td>1</td>\n",
              "      <td>N</td>\n",
              "      <td>162</td>\n",
              "      <td>231</td>\n",
              "      <td>1</td>\n",
              "      <td>24.5</td>\n",
              "      <td>1.0</td>\n",
              "      <td>0.5</td>\n",
              "      <td>0.00</td>\n",
              "      <td>0.00</td>\n",
              "      <td>0.3</td>\n",
              "      <td>28.80</td>\n",
              "      <td>2.5</td>\n",
              "    </tr>\n",
              "    <tr>\n",
              "      <th>4555818</th>\n",
              "      <td>2</td>\n",
              "      <td>2019-03-18 16:09:14</td>\n",
              "      <td>2019-03-18 16:12:50</td>\n",
              "      <td>1</td>\n",
              "      <td>0.53</td>\n",
              "      <td>1</td>\n",
              "      <td>N</td>\n",
              "      <td>233</td>\n",
              "      <td>170</td>\n",
              "      <td>1</td>\n",
              "      <td>4.5</td>\n",
              "      <td>1.0</td>\n",
              "      <td>0.5</td>\n",
              "      <td>1.00</td>\n",
              "      <td>0.00</td>\n",
              "      <td>0.3</td>\n",
              "      <td>9.80</td>\n",
              "      <td>2.5</td>\n",
              "    </tr>\n",
              "  </tbody>\n",
              "</table>\n",
              "<p>783254 rows × 18 columns</p>\n",
              "</div>\n",
              "    <div class=\"colab-df-buttons\">\n",
              "\n",
              "  <div class=\"colab-df-container\">\n",
              "    <button class=\"colab-df-convert\" onclick=\"convertToInteractive('df-98e0d4cc-4894-4170-88dc-db84fc235613')\"\n",
              "            title=\"Convert this dataframe to an interactive table.\"\n",
              "            style=\"display:none;\">\n",
              "\n",
              "  <svg xmlns=\"http://www.w3.org/2000/svg\" height=\"24px\" viewBox=\"0 -960 960 960\">\n",
              "    <path d=\"M120-120v-720h720v720H120Zm60-500h600v-160H180v160Zm220 220h160v-160H400v160Zm0 220h160v-160H400v160ZM180-400h160v-160H180v160Zm440 0h160v-160H620v160ZM180-180h160v-160H180v160Zm440 0h160v-160H620v160Z\"/>\n",
              "  </svg>\n",
              "    </button>\n",
              "\n",
              "  <style>\n",
              "    .colab-df-container {\n",
              "      display:flex;\n",
              "      gap: 12px;\n",
              "    }\n",
              "\n",
              "    .colab-df-convert {\n",
              "      background-color: #E8F0FE;\n",
              "      border: none;\n",
              "      border-radius: 50%;\n",
              "      cursor: pointer;\n",
              "      display: none;\n",
              "      fill: #1967D2;\n",
              "      height: 32px;\n",
              "      padding: 0 0 0 0;\n",
              "      width: 32px;\n",
              "    }\n",
              "\n",
              "    .colab-df-convert:hover {\n",
              "      background-color: #E2EBFA;\n",
              "      box-shadow: 0px 1px 2px rgba(60, 64, 67, 0.3), 0px 1px 3px 1px rgba(60, 64, 67, 0.15);\n",
              "      fill: #174EA6;\n",
              "    }\n",
              "\n",
              "    .colab-df-buttons div {\n",
              "      margin-bottom: 4px;\n",
              "    }\n",
              "\n",
              "    [theme=dark] .colab-df-convert {\n",
              "      background-color: #3B4455;\n",
              "      fill: #D2E3FC;\n",
              "    }\n",
              "\n",
              "    [theme=dark] .colab-df-convert:hover {\n",
              "      background-color: #434B5C;\n",
              "      box-shadow: 0px 1px 3px 1px rgba(0, 0, 0, 0.15);\n",
              "      filter: drop-shadow(0px 1px 2px rgba(0, 0, 0, 0.3));\n",
              "      fill: #FFFFFF;\n",
              "    }\n",
              "  </style>\n",
              "\n",
              "    <script>\n",
              "      const buttonEl =\n",
              "        document.querySelector('#df-98e0d4cc-4894-4170-88dc-db84fc235613 button.colab-df-convert');\n",
              "      buttonEl.style.display =\n",
              "        google.colab.kernel.accessAllowed ? 'block' : 'none';\n",
              "\n",
              "      async function convertToInteractive(key) {\n",
              "        const element = document.querySelector('#df-98e0d4cc-4894-4170-88dc-db84fc235613');\n",
              "        const dataTable =\n",
              "          await google.colab.kernel.invokeFunction('convertToInteractive',\n",
              "                                                    [key], {});\n",
              "        if (!dataTable) return;\n",
              "\n",
              "        const docLinkHtml = 'Like what you see? Visit the ' +\n",
              "          '<a target=\"_blank\" href=https://colab.research.google.com/notebooks/data_table.ipynb>data table notebook</a>'\n",
              "          + ' to learn more about interactive tables.';\n",
              "        element.innerHTML = '';\n",
              "        dataTable['output_type'] = 'display_data';\n",
              "        await google.colab.output.renderOutput(dataTable, element);\n",
              "        const docLink = document.createElement('div');\n",
              "        docLink.innerHTML = docLinkHtml;\n",
              "        element.appendChild(docLink);\n",
              "      }\n",
              "    </script>\n",
              "  </div>\n",
              "\n",
              "\n",
              "<div id=\"df-1fb6b6ba-2aae-423e-9aa1-a59f6c55f32f\">\n",
              "  <button class=\"colab-df-quickchart\" onclick=\"quickchart('df-1fb6b6ba-2aae-423e-9aa1-a59f6c55f32f')\"\n",
              "            title=\"Suggest charts\"\n",
              "            style=\"display:none;\">\n",
              "\n",
              "<svg xmlns=\"http://www.w3.org/2000/svg\" height=\"24px\"viewBox=\"0 0 24 24\"\n",
              "     width=\"24px\">\n",
              "    <g>\n",
              "        <path d=\"M19 3H5c-1.1 0-2 .9-2 2v14c0 1.1.9 2 2 2h14c1.1 0 2-.9 2-2V5c0-1.1-.9-2-2-2zM9 17H7v-7h2v7zm4 0h-2V7h2v10zm4 0h-2v-4h2v4z\"/>\n",
              "    </g>\n",
              "</svg>\n",
              "  </button>\n",
              "\n",
              "<style>\n",
              "  .colab-df-quickchart {\n",
              "      --bg-color: #E8F0FE;\n",
              "      --fill-color: #1967D2;\n",
              "      --hover-bg-color: #E2EBFA;\n",
              "      --hover-fill-color: #174EA6;\n",
              "      --disabled-fill-color: #AAA;\n",
              "      --disabled-bg-color: #DDD;\n",
              "  }\n",
              "\n",
              "  [theme=dark] .colab-df-quickchart {\n",
              "      --bg-color: #3B4455;\n",
              "      --fill-color: #D2E3FC;\n",
              "      --hover-bg-color: #434B5C;\n",
              "      --hover-fill-color: #FFFFFF;\n",
              "      --disabled-bg-color: #3B4455;\n",
              "      --disabled-fill-color: #666;\n",
              "  }\n",
              "\n",
              "  .colab-df-quickchart {\n",
              "    background-color: var(--bg-color);\n",
              "    border: none;\n",
              "    border-radius: 50%;\n",
              "    cursor: pointer;\n",
              "    display: none;\n",
              "    fill: var(--fill-color);\n",
              "    height: 32px;\n",
              "    padding: 0;\n",
              "    width: 32px;\n",
              "  }\n",
              "\n",
              "  .colab-df-quickchart:hover {\n",
              "    background-color: var(--hover-bg-color);\n",
              "    box-shadow: 0 1px 2px rgba(60, 64, 67, 0.3), 0 1px 3px 1px rgba(60, 64, 67, 0.15);\n",
              "    fill: var(--button-hover-fill-color);\n",
              "  }\n",
              "\n",
              "  .colab-df-quickchart-complete:disabled,\n",
              "  .colab-df-quickchart-complete:disabled:hover {\n",
              "    background-color: var(--disabled-bg-color);\n",
              "    fill: var(--disabled-fill-color);\n",
              "    box-shadow: none;\n",
              "  }\n",
              "\n",
              "  .colab-df-spinner {\n",
              "    border: 2px solid var(--fill-color);\n",
              "    border-color: transparent;\n",
              "    border-bottom-color: var(--fill-color);\n",
              "    animation:\n",
              "      spin 1s steps(1) infinite;\n",
              "  }\n",
              "\n",
              "  @keyframes spin {\n",
              "    0% {\n",
              "      border-color: transparent;\n",
              "      border-bottom-color: var(--fill-color);\n",
              "      border-left-color: var(--fill-color);\n",
              "    }\n",
              "    20% {\n",
              "      border-color: transparent;\n",
              "      border-left-color: var(--fill-color);\n",
              "      border-top-color: var(--fill-color);\n",
              "    }\n",
              "    30% {\n",
              "      border-color: transparent;\n",
              "      border-left-color: var(--fill-color);\n",
              "      border-top-color: var(--fill-color);\n",
              "      border-right-color: var(--fill-color);\n",
              "    }\n",
              "    40% {\n",
              "      border-color: transparent;\n",
              "      border-right-color: var(--fill-color);\n",
              "      border-top-color: var(--fill-color);\n",
              "    }\n",
              "    60% {\n",
              "      border-color: transparent;\n",
              "      border-right-color: var(--fill-color);\n",
              "    }\n",
              "    80% {\n",
              "      border-color: transparent;\n",
              "      border-right-color: var(--fill-color);\n",
              "      border-bottom-color: var(--fill-color);\n",
              "    }\n",
              "    90% {\n",
              "      border-color: transparent;\n",
              "      border-bottom-color: var(--fill-color);\n",
              "    }\n",
              "  }\n",
              "</style>\n",
              "\n",
              "  <script>\n",
              "    async function quickchart(key) {\n",
              "      const quickchartButtonEl =\n",
              "        document.querySelector('#' + key + ' button');\n",
              "      quickchartButtonEl.disabled = true;  // To prevent multiple clicks.\n",
              "      quickchartButtonEl.classList.add('colab-df-spinner');\n",
              "      try {\n",
              "        const charts = await google.colab.kernel.invokeFunction(\n",
              "            'suggestCharts', [key], {});\n",
              "      } catch (error) {\n",
              "        console.error('Error during call to suggestCharts:', error);\n",
              "      }\n",
              "      quickchartButtonEl.classList.remove('colab-df-spinner');\n",
              "      quickchartButtonEl.classList.add('colab-df-quickchart-complete');\n",
              "    }\n",
              "    (() => {\n",
              "      let quickchartButtonEl =\n",
              "        document.querySelector('#df-1fb6b6ba-2aae-423e-9aa1-a59f6c55f32f button');\n",
              "      quickchartButtonEl.style.display =\n",
              "        google.colab.kernel.accessAllowed ? 'block' : 'none';\n",
              "    })();\n",
              "  </script>\n",
              "</div>\n",
              "\n",
              "  <div id=\"id_40b5f2e7-7533-4ddb-bf6d-d67d8581d92f\">\n",
              "    <style>\n",
              "      .colab-df-generate {\n",
              "        background-color: #E8F0FE;\n",
              "        border: none;\n",
              "        border-radius: 50%;\n",
              "        cursor: pointer;\n",
              "        display: none;\n",
              "        fill: #1967D2;\n",
              "        height: 32px;\n",
              "        padding: 0 0 0 0;\n",
              "        width: 32px;\n",
              "      }\n",
              "\n",
              "      .colab-df-generate:hover {\n",
              "        background-color: #E2EBFA;\n",
              "        box-shadow: 0px 1px 2px rgba(60, 64, 67, 0.3), 0px 1px 3px 1px rgba(60, 64, 67, 0.15);\n",
              "        fill: #174EA6;\n",
              "      }\n",
              "\n",
              "      [theme=dark] .colab-df-generate {\n",
              "        background-color: #3B4455;\n",
              "        fill: #D2E3FC;\n",
              "      }\n",
              "\n",
              "      [theme=dark] .colab-df-generate:hover {\n",
              "        background-color: #434B5C;\n",
              "        box-shadow: 0px 1px 3px 1px rgba(0, 0, 0, 0.15);\n",
              "        filter: drop-shadow(0px 1px 2px rgba(0, 0, 0, 0.3));\n",
              "        fill: #FFFFFF;\n",
              "      }\n",
              "    </style>\n",
              "    <button class=\"colab-df-generate\" onclick=\"generateWithVariable('sample_10_percent')\"\n",
              "            title=\"Generate code using this dataframe.\"\n",
              "            style=\"display:none;\">\n",
              "\n",
              "  <svg xmlns=\"http://www.w3.org/2000/svg\" height=\"24px\"viewBox=\"0 0 24 24\"\n",
              "       width=\"24px\">\n",
              "    <path d=\"M7,19H8.4L18.45,9,17,7.55,7,17.6ZM5,21V16.75L18.45,3.32a2,2,0,0,1,2.83,0l1.4,1.43a1.91,1.91,0,0,1,.58,1.4,1.91,1.91,0,0,1-.58,1.4L9.25,21ZM18.45,9,17,7.55Zm-12,3A5.31,5.31,0,0,0,4.9,8.1,5.31,5.31,0,0,0,1,6.5,5.31,5.31,0,0,0,4.9,4.9,5.31,5.31,0,0,0,6.5,1,5.31,5.31,0,0,0,8.1,4.9,5.31,5.31,0,0,0,12,6.5,5.46,5.46,0,0,0,6.5,12Z\"/>\n",
              "  </svg>\n",
              "    </button>\n",
              "    <script>\n",
              "      (() => {\n",
              "      const buttonEl =\n",
              "        document.querySelector('#id_40b5f2e7-7533-4ddb-bf6d-d67d8581d92f button.colab-df-generate');\n",
              "      buttonEl.style.display =\n",
              "        google.colab.kernel.accessAllowed ? 'block' : 'none';\n",
              "\n",
              "      buttonEl.onclick = () => {\n",
              "        google.colab.notebook.generateWithVariable('sample_10_percent');\n",
              "      }\n",
              "      })();\n",
              "    </script>\n",
              "  </div>\n",
              "\n",
              "    </div>\n",
              "  </div>\n"
            ]
          },
          "metadata": {},
          "execution_count": 25
        }
      ]
    },
    {
      "cell_type": "code",
      "source": [
        "# Show memory usage details for the 10% sample\n",
        "memory_info_10_percent = sample_10_percent.memory_usage(deep=True).sum() / (1024**2)\n",
        "print(f\"Memory usage after 10% sampling: {memory_info_10_percent:.2f} MB\")"
      ],
      "metadata": {
        "colab": {
          "base_uri": "https://localhost:8080/"
        },
        "id": "T10qEeoyymbP",
        "outputId": "2d5c9306-fd09-4a1b-a8f5-781432927c99"
      },
      "execution_count": 26,
      "outputs": [
        {
          "output_type": "stream",
          "name": "stdout",
          "text": [
            "Memory usage after 10% sampling: 252.48 MB\n"
          ]
        }
      ]
    },
    {
      "cell_type": "markdown",
      "source": [
        "Therefore, after sampling the memory usage significantly decreased from 2465.00 MB to 252.48 MB, resulting in approximately 89.76% reduction when using 10% of the sample."
      ],
      "metadata": {
        "id": "WmCoY0tJ1B96"
      }
    },
    {
      "cell_type": "markdown",
      "source": [
        "### Parallelize with Dask"
      ],
      "metadata": {
        "id": "hK_bS1iC1xdF"
      }
    },
    {
      "cell_type": "markdown",
      "source": [
        "In this part, we'll use pandas and Dask methods to calculate various data points and draw a comparison between them."
      ],
      "metadata": {
        "id": "qJO37ok9MVHg"
      }
    },
    {
      "cell_type": "markdown",
      "source": [
        "\n",
        "\n",
        "*   Reading the Dataframe\n",
        "\n"
      ],
      "metadata": {
        "id": "AzYB8sX5DiIo"
      }
    },
    {
      "cell_type": "code",
      "source": [
        "# Import necessary libraries\n",
        "import dask.dataframe as dd\n",
        "import time"
      ],
      "metadata": {
        "id": "dBGH-0JbECr_"
      },
      "execution_count": 27,
      "outputs": []
    },
    {
      "cell_type": "code",
      "source": [
        "# Reading the dataframe with Pandas\n",
        "\n",
        "start_time_pandas = time.time()\n",
        "\n",
        "df3_pd = pd.read_csv(\"/content/yellow_tripdata_2019-03.csv\")\n",
        "\n",
        "end_time_pandas = time.time()\n",
        "execution_time_pandas = end_time_pandas - start_time_pandas\n",
        "\n",
        "print(f\"Pandas Execution Time: {execution_time_pandas} seconds\")"
      ],
      "metadata": {
        "colab": {
          "base_uri": "https://localhost:8080/"
        },
        "id": "CmDaWx1MDnmX",
        "outputId": "6bea5b1e-d0d5-40b9-80d5-8236a5a2f2b8"
      },
      "execution_count": 48,
      "outputs": [
        {
          "output_type": "stream",
          "name": "stdout",
          "text": [
            "Pandas Execution Time: 43.496740102767944 seconds\n"
          ]
        }
      ]
    },
    {
      "cell_type": "code",
      "source": [
        "# Measure time before\n",
        "start_time = time.time()\n",
        "\n",
        "# Reading a DataFrame with Dask\n",
        "df3_dd = dd.read_csv(\"/content/yellow_tripdata_2019-03.csv\")\n",
        "\n",
        "# Measure time after\n",
        "end_time = time.time()\n",
        "\n",
        "execution_time_dask = end_time - start_time\n",
        "print(f\"Reading DataFrame with Dask Execution Time: {execution_time_dask} seconds\")"
      ],
      "metadata": {
        "colab": {
          "base_uri": "https://localhost:8080/"
        },
        "id": "6o0QTzfFFFnJ",
        "outputId": "6220a20c-3aa6-40e6-cd55-e8f5764c8591"
      },
      "execution_count": 53,
      "outputs": [
        {
          "output_type": "stream",
          "name": "stdout",
          "text": [
            "Reading DataFrame with Dask Execution Time: 0.024603843688964844 seconds\n"
          ]
        }
      ]
    },
    {
      "cell_type": "markdown",
      "source": [
        "\n",
        "\n",
        "*   Calculation time to find the Mean of the fare amount of VendorIDs\n"
      ],
      "metadata": {
        "id": "QWHB52tJLcxb"
      }
    },
    {
      "cell_type": "code",
      "source": [
        "#Using Pandas\n",
        "start_time_pandas = time.time()\n",
        "result_pandas = df3_pd.groupby('VendorID')['fare_amount'].mean()\n",
        "end_time_pandas = time.time()\n",
        "\n",
        "# Display the results and computational time using Pandas\n",
        "print(\"Mean of the fare amount of VendorIDs:\\n\", result_pandas)\n",
        "print(\"Pandas Computational Time:\", end_time_pandas - start_time_pandas, \"seconds\")"
      ],
      "metadata": {
        "colab": {
          "base_uri": "https://localhost:8080/"
        },
        "id": "cxNiHiu3Lknh",
        "outputId": "9eaec253-5e91-47ee-ad9a-890fef730844"
      },
      "execution_count": 64,
      "outputs": [
        {
          "output_type": "stream",
          "name": "stdout",
          "text": [
            "Mean of the fare amount of VendorIDs:\n",
            " VendorID\n",
            "1    13.016585\n",
            "2    13.285019\n",
            "4    12.292509\n",
            "Name: fare_amount, dtype: float64\n",
            "Pandas Computational Time: 0.20585322380065918 seconds\n"
          ]
        }
      ]
    },
    {
      "cell_type": "code",
      "source": [
        "#Using Dask\n",
        "ddf = dd.from_pandas(df, npartitions=3)\n"
      ],
      "metadata": {
        "id": "BxBiKkYGMksp"
      },
      "execution_count": 85,
      "outputs": []
    },
    {
      "cell_type": "code",
      "source": [
        "start_time_dask = time.time()\n",
        "result = ddf.groupby('VendorID')['fare_amount'].mean().compute()\n",
        "end_time_dask = time.time()\n",
        "\n",
        "# Display the results and computational time using Dask\n",
        "print(\"Mean of the fare amount of VendorIDs:\\n\", result)\n",
        "print(\"Dask Computational Time:\", end_time_dask - start_time_dask, \"seconds\")"
      ],
      "metadata": {
        "id": "RRh7J7R_o1KV",
        "outputId": "aa940740-bd57-48c3-e477-e2d7b19f1679",
        "colab": {
          "base_uri": "https://localhost:8080/"
        }
      },
      "execution_count": 86,
      "outputs": [
        {
          "output_type": "stream",
          "name": "stdout",
          "text": [
            "Mean of the fare amount of VendorIDs:\n",
            " VendorID\n",
            "1    13.016585\n",
            "2    13.285019\n",
            "4    12.292509\n",
            "Name: fare_amount, dtype: float64\n",
            "Dask Computational Time: 0.5796234607696533 seconds\n"
          ]
        }
      ]
    },
    {
      "cell_type": "markdown",
      "source": [
        "It took 43.50 seconds for Pandas to read the dataframe, but only 0.025 seconds for Dask. And calculating the Mean of the fare amount of VendorIDs with Pandas took only 0.21 seconds, whereas Dask took 0.58 seconds."
      ],
      "metadata": {
        "id": "nbxwvEoRRK7J"
      }
    },
    {
      "cell_type": "markdown",
      "source": [
        "## Comparative Analysis"
      ],
      "metadata": {
        "id": "SMDX72AHSyC6"
      }
    },
    {
      "cell_type": "markdown",
      "source": [
        "| No. | Traditional Method | Advanced Strategies | Result |\n",
        "   | --- | ------------------ | -------------------- | ------ |\n",
        "   | 1.  | Memory usage 2.00 GB | **Load Less Data**: Memory usage 1015.60 MB | Memory usage reduced by 49.20% |\n",
        "   | 2.  | Time taken to read dataframe 42.99 s| **Use Chunking**: Time taken to read in chunks 0.67 s | Reading time reduced by 98.4% |\n",
        "   | 3.  | Data Frame Size 2.00 GB | **Optimize Data Types**: After optimization 0.89 GB | Data frame size reduced by 55.50% |\n",
        "   | 4.  | Memory usage 2051.85 MB | **Sampling**: 10% sampling; Memory usage 209.73 MB | Memory usage reduced by 89.8% |\n",
        "   | 5.  | Reading Data frame: 43.48 s | **Parallelize with Dask**: Reading Data frame: 0.024 s | Processing time reading dataframe reduced by 99.94% |"
      ],
      "metadata": {
        "id": "WwIF4sHdTLf3"
      }
    },
    {
      "cell_type": "markdown",
      "source": [
        "### Pros & Cons"
      ],
      "metadata": {
        "id": "J-_chdLAvG1o"
      }
    },
    {
      "cell_type": "markdown",
      "source": [
        "**1. Pandas**\n",
        "\n",
        "Pros:\n",
        "\n",
        "\n",
        "*   Powerful data structures and functions for analysis and manipulation\n",
        "*   Efficient for smaller datasets\n",
        "*   Intuitive syntax and rich ecosystem of tools\n",
        "\n",
        "Cons:\n",
        "\n",
        "\n",
        "*   Can consume significant memory for large datasets\n",
        "*   Operations on large DataFrames can be slow"
      ],
      "metadata": {
        "id": "IxnOGXbAvwwd"
      }
    },
    {
      "cell_type": "markdown",
      "source": [
        "**2. Load Less Data:**\n",
        "\n",
        "\n",
        "Pros:\n",
        "\n",
        "\n",
        "*   Reduces memory footprint and initial loading time\n",
        "*   Can improve performance for specific tasks\n",
        "\n",
        "\n",
        "Cons:\n",
        "\n",
        "\n",
        "*   Requires careful selection of relevant data\n",
        "*   Could limit analysis if essential data is excluded\n",
        "\n",
        "\n",
        "\n"
      ],
      "metadata": {
        "id": "RSObWZHzIKhj"
      }
    },
    {
      "cell_type": "markdown",
      "source": [
        "**3. Use Chunking**\n",
        "\n",
        "Pros:\n",
        "\n",
        "\n",
        "*   Processes large datasets in manageable chunks\n",
        "*   Reduces memory overhead and can improve performance for certain operations.\n",
        "\n",
        "\n",
        "Cons:\n",
        "\n",
        "\n",
        "*   Requires careful handling of data continuity\n",
        "*   Can introduce code complexity"
      ],
      "metadata": {
        "id": "dOVoehgHIjnU"
      }
    },
    {
      "cell_type": "markdown",
      "source": [
        "**4. Optimize Data Types**\n",
        "\n",
        "Pros:\n",
        "\n",
        "\n",
        "*   Reduces memory usage by choosing appropriate data types\n",
        "*   Can improve performance for computations\n",
        "\n",
        "Cons:\n",
        "\n",
        "\n",
        "*   Requires understanding of data types and their memory implications\n",
        "*   Might necessitate data type conversions"
      ],
      "metadata": {
        "id": "jln1SiNaKDfz"
      }
    },
    {
      "cell_type": "markdown",
      "source": [
        "**5. Sampling**\n",
        "\n",
        "Pros:\n",
        "\n",
        "\n",
        "*   Analyzes a representative subset to reduce memory and processing time\n",
        "*   Can provide insights without processing the entire dataset\n",
        "\n",
        "\n",
        "Cons:\n",
        "\n",
        "\n",
        "*   Potential loss of information if sample is not representative\n",
        "*   Sampling bias might lead to inaccurate conclusions\n",
        "\n"
      ],
      "metadata": {
        "id": "jgXW16n0L9eR"
      }
    },
    {
      "cell_type": "markdown",
      "source": [
        "**6. Parallelize with Dask**\n",
        "\n",
        "Pros:\n",
        "\n",
        "\n",
        "*   Distributes computations across multiple cores or machines\n",
        "*   Can handle datasets too large for single-machine processing\n",
        "\n",
        "Cons:\n",
        "\n",
        "\n",
        "*   Adds complexity to code and setup\n",
        "*   Requires understanding of parallel computing principles\n",
        "*   Might not be suitable for all tasks due to overhead"
      ],
      "metadata": {
        "id": "kU69TMa9MPuV"
      }
    },
    {
      "cell_type": "markdown",
      "source": [
        "## Conclusion\n",
        "\n"
      ],
      "metadata": {
        "id": "0AWzeqP-MngH"
      }
    },
    {
      "cell_type": "markdown",
      "source": [
        "\n",
        "In conclusion, the comparative analysis between traditional methods and advanced strategies demonstrates substantial improvements in memory usage, processing time, and data frame size.Firstly, memory usage has significantly decreased by 49.20% through the implementation of strategies such as loading less data and optimizing data types. Secondly, substantial improvements in reading time have been achieved, with a remarkable 98.4% reduction in the time taken to read data frames. Moreover, the optimization of data types has led to a noteworthy reduction of 55.50% in data frame size. This not only aids in better storage utilization but also facilitates faster data retrieval and manipulation. Lastly, the combination of sampling and parallelization with Dask has resulted in an impressive 89.8% decrease in memory usage during data frame reading. These advanced strategies collectively showcase the potential for substantial efficiency gains, making them essential considerations for anyone seeking to enhance the performance of data processing workflows."
      ],
      "metadata": {
        "id": "UU92gbXvNRFI"
      }
    }
  ],
  "metadata": {
    "colab": {
      "provenance": [],
      "include_colab_link": true
    },
    "kernelspec": {
      "display_name": "Python 3",
      "name": "python3"
    },
    "language_info": {
      "name": "python"
    }
  },
  "nbformat": 4,
  "nbformat_minor": 0
}
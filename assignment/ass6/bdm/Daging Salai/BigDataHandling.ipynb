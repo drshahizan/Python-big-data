{
  "nbformat": 4,
  "nbformat_minor": 0,
  "metadata": {
    "colab": {
      "provenance": [],
      "machine_shape": "hm",
      "include_colab_link": true
    },
    "kernelspec": {
      "name": "python3",
      "display_name": "Python 3"
    },
    "language_info": {
      "name": "python"
    }
  },
  "cells": [
    {
      "cell_type": "markdown",
      "metadata": {
        "id": "view-in-github",
        "colab_type": "text"
      },
      "source": [
        "<a href=\"https://colab.research.google.com/github/drshahizan/Python-big-data/blob/main/assignment/ass6/bdm/Daging%20Salai/BigDataHandling.ipynb\" target=\"_parent\"><img src=\"https://colab.research.google.com/assets/colab-badge.svg\" alt=\"Open In Colab\"/></a>"
      ]
    },
    {
      "cell_type": "markdown",
      "source": [
        "## Assignment 6: Mastering Big Data Handling\n",
        "**Group Name:** Daging Salai <br>\n",
        "**Group Member:** <br>\n",
        "Nur Shahirah Binti Jailani (MEC233005) <br>\n",
        "Mustafa Ghazi Talab (MCS212012)"
      ],
      "metadata": {
        "id": "rwER1SjdS2YP"
      }
    },
    {
      "cell_type": "markdown",
      "source": [
        "## TripAdvisor Hotel Reviews\n",
        "This dataset consists of 878561 reviews (1.3GB) from 4333 hotels crawled from TripAdvisor."
      ],
      "metadata": {
        "id": "HTLMiGNDGbTu"
      }
    },
    {
      "cell_type": "markdown",
      "source": [
        "## Loading the Dataset"
      ],
      "metadata": {
        "id": "OTSXIjT4GzLE"
      }
    },
    {
      "cell_type": "code",
      "execution_count": 1,
      "metadata": {
        "id": "K744qfxabqdm",
        "colab": {
          "base_uri": "https://localhost:8080/"
        },
        "outputId": "6a7b02d7-ce38-4cf8-de87-b09264b6cbf0"
      },
      "outputs": [
        {
          "output_type": "stream",
          "name": "stdout",
          "text": [
            "Mounted at /content/gdrive\n"
          ]
        }
      ],
      "source": [
        "from google.colab import drive\n",
        "drive.mount('/content/gdrive')"
      ]
    },
    {
      "cell_type": "code",
      "source": [
        "import os\n",
        "os.environ['KAGGLE_CONFIG_DIR'] = \"/content/gdrive/MyDrive/Assignment 6\""
      ],
      "metadata": {
        "id": "6LoWBdBqb3aN"
      },
      "execution_count": 2,
      "outputs": []
    },
    {
      "cell_type": "code",
      "source": [
        "!kaggle datasets download -d joebeachcapital/hotel-reviews"
      ],
      "metadata": {
        "colab": {
          "base_uri": "https://localhost:8080/"
        },
        "id": "qQoPatgYcwF-",
        "outputId": "d925297a-a114-4bb1-e1dd-65c19935a7ad"
      },
      "execution_count": 3,
      "outputs": [
        {
          "output_type": "stream",
          "name": "stdout",
          "text": [
            "Downloading hotel-reviews.zip to /content\n",
            " 98% 705M/717M [00:07<00:00, 94.2MB/s]\n",
            "100% 717M/717M [00:07<00:00, 98.7MB/s]\n"
          ]
        }
      ]
    },
    {
      "cell_type": "code",
      "source": [
        "!unzip \\*.zip  && rm *.zip"
      ],
      "metadata": {
        "colab": {
          "base_uri": "https://localhost:8080/"
        },
        "id": "GFAw1teRc6Ng",
        "outputId": "4d342a95-e5f5-4aaf-be8d-e28ff0531783"
      },
      "execution_count": 4,
      "outputs": [
        {
          "output_type": "stream",
          "name": "stdout",
          "text": [
            "Archive:  hotel-reviews.zip\n",
            "  inflating: offering.txt/offering.txt  \n",
            "  inflating: offerings.csv           \n",
            "  inflating: review.txt/review.txt   \n",
            "  inflating: reviews.csv             \n"
          ]
        }
      ]
    },
    {
      "cell_type": "code",
      "source": [
        "!ls"
      ],
      "metadata": {
        "colab": {
          "base_uri": "https://localhost:8080/"
        },
        "id": "zJi6F_Qfc-VI",
        "outputId": "7929f8d3-fc83-487a-b1da-c8996ae6bfb9"
      },
      "execution_count": 5,
      "outputs": [
        {
          "output_type": "stream",
          "name": "stdout",
          "text": [
            "gdrive\tofferings.csv  offering.txt  reviews.csv  review.txt  sample_data\n"
          ]
        }
      ]
    },
    {
      "cell_type": "markdown",
      "source": [
        "## **Strategies for Big Datasets**\n",
        "### **Load Less Data**"
      ],
      "metadata": {
        "id": "ODHuroU2gvTX"
      }
    },
    {
      "cell_type": "code",
      "source": [
        "import numpy as np\n",
        "import pandas as pd\n",
        "import seaborn as sns\n",
        "import matplotlib.pyplot as plt"
      ],
      "metadata": {
        "id": "gQOjR7UpdFAr"
      },
      "execution_count": null,
      "outputs": []
    },
    {
      "cell_type": "code",
      "source": [
        "df = pd.read_csv('/content/reviews.csv')\n",
        "df"
      ],
      "metadata": {
        "colab": {
          "base_uri": "https://localhost:8080/",
          "height": 718
        },
        "id": "eAhsU5NWdaln",
        "outputId": "67bf167d-146e-4bf3-dfe3-04ab4fc0c311"
      },
      "execution_count": null,
      "outputs": [
        {
          "output_type": "execute_result",
          "data": {
            "text/plain": [
              "                                                  ratings  \\\n",
              "0       {'service': 5.0, 'cleanliness': 5.0, 'overall'...   \n",
              "1       {'service': 5.0, 'cleanliness': 5.0, 'overall'...   \n",
              "2       {'service': 4.0, 'cleanliness': 5.0, 'overall'...   \n",
              "3       {'service': 5.0, 'cleanliness': 5.0, 'overall'...   \n",
              "4       {'service': 4.0, 'cleanliness': 5.0, 'overall'...   \n",
              "...                                                   ...   \n",
              "878556                                   {'overall': 4.0}   \n",
              "878557  {'service': 4.0, 'cleanliness': 5.0, 'overall'...   \n",
              "878558  {'cleanliness': 5.0, 'overall': 5.0, 'rooms': ...   \n",
              "878559  {'cleanliness': 5.0, 'overall': 5.0, 'rooms': ...   \n",
              "878560  {'service': 4.0, 'cleanliness': 4.0, 'overall'...   \n",
              "\n",
              "                                                  title  \\\n",
              "0             “Truly is \"Jewel of the Upper Wets Side\"”   \n",
              "1                             “My home away from home!”   \n",
              "2                                          “Great Stay”   \n",
              "3                                  “Modern Convenience”   \n",
              "4       “Its the best of the Andaz Brand in the US....”   \n",
              "...                                                 ...   \n",
              "878556                                 “vil komme igen”   \n",
              "878557                                      “excellent”   \n",
              "878558                           “Un hotel eccezionale”   \n",
              "878559                                   “Gerne wieder”   \n",
              "878560            “Nuevo... novísimo. Estupendo lugar.”   \n",
              "\n",
              "                                                     text  \\\n",
              "0       Stayed in a king suite for 11 nights and yes i...   \n",
              "1       On every visit to NYC, the Hotel Beacon is the...   \n",
              "2       This is a great property in Midtown. We two di...   \n",
              "3       The Andaz is a nice hotel in a central locatio...   \n",
              "4       I have stayed at each of the US Andaz properti...   \n",
              "...                                                   ...   \n",
              "878556  Pænt hotel i et livligt miljø. Store værelser,...   \n",
              "878557  un excellent hotel 4 *, pour un prix raisonnab...   \n",
              "878558  L'hotel, situato in una zona tranquilla e a du...   \n",
              "878559  Sehr schön ausgestattetes Hotel in bester Lage...   \n",
              "878560  El hotel está entre el aeropuerto y Washington...   \n",
              "\n",
              "                                                   author    date_stayed  \\\n",
              "0       {'username': 'Papa_Panda', 'num_cities': 22, '...  December 2012   \n",
              "1       {'username': 'Maureen V', 'num_reviews': 2, 'n...  December 2012   \n",
              "2       {'username': 'vuguru', 'num_cities': 12, 'num_...  December 2012   \n",
              "3       {'username': 'Hotel-Designer', 'num_cities': 5...    August 2012   \n",
              "4       {'username': 'JamesE339', 'num_cities': 34, 'n...  December 2012   \n",
              "...                                                   ...            ...   \n",
              "878556         {'username': '', 'id': '', 'location': ''}            NaN   \n",
              "878557  {'username': 'dan016', 'num_reviews': 2, 'num_...      July 2008   \n",
              "878558         {'username': '', 'id': '', 'location': ''}      July 2008   \n",
              "878559         {'username': '', 'id': '', 'location': ''}      July 2008   \n",
              "878560  {'username': 'Basajaun', 'num_cities': 8, 'num...     March 2008   \n",
              "\n",
              "        offering_id  num_helpful_votes        date         id  via_mobile  \n",
              "0             93338                  0  2012-12-17  147643103       False  \n",
              "1             93338                  0  2012-12-17  147639004       False  \n",
              "2           1762573                  0  2012-12-18  147697954       False  \n",
              "3           1762573                  0  2012-12-17  147625723       False  \n",
              "4           1762573                  0  2012-12-17  147612823       False  \n",
              "...             ...                ...         ...        ...         ...  \n",
              "878556        84093                  0  2008-08-31   51441576       False  \n",
              "878557        84093                  0  2008-07-18   18003332       False  \n",
              "878558        84093                  0  2008-04-18   15564515       False  \n",
              "878559        84093                  0  2008-04-01   15564508       False  \n",
              "878560        84093                  0  2008-03-13   14259290       False  \n",
              "\n",
              "[878561 rows x 10 columns]"
            ],
            "text/html": [
              "\n",
              "  <div id=\"df-89bb715a-90f8-4ba5-9f80-8410f0baf924\" class=\"colab-df-container\">\n",
              "    <div>\n",
              "<style scoped>\n",
              "    .dataframe tbody tr th:only-of-type {\n",
              "        vertical-align: middle;\n",
              "    }\n",
              "\n",
              "    .dataframe tbody tr th {\n",
              "        vertical-align: top;\n",
              "    }\n",
              "\n",
              "    .dataframe thead th {\n",
              "        text-align: right;\n",
              "    }\n",
              "</style>\n",
              "<table border=\"1\" class=\"dataframe\">\n",
              "  <thead>\n",
              "    <tr style=\"text-align: right;\">\n",
              "      <th></th>\n",
              "      <th>ratings</th>\n",
              "      <th>title</th>\n",
              "      <th>text</th>\n",
              "      <th>author</th>\n",
              "      <th>date_stayed</th>\n",
              "      <th>offering_id</th>\n",
              "      <th>num_helpful_votes</th>\n",
              "      <th>date</th>\n",
              "      <th>id</th>\n",
              "      <th>via_mobile</th>\n",
              "    </tr>\n",
              "  </thead>\n",
              "  <tbody>\n",
              "    <tr>\n",
              "      <th>0</th>\n",
              "      <td>{'service': 5.0, 'cleanliness': 5.0, 'overall'...</td>\n",
              "      <td>“Truly is \"Jewel of the Upper Wets Side\"”</td>\n",
              "      <td>Stayed in a king suite for 11 nights and yes i...</td>\n",
              "      <td>{'username': 'Papa_Panda', 'num_cities': 22, '...</td>\n",
              "      <td>December 2012</td>\n",
              "      <td>93338</td>\n",
              "      <td>0</td>\n",
              "      <td>2012-12-17</td>\n",
              "      <td>147643103</td>\n",
              "      <td>False</td>\n",
              "    </tr>\n",
              "    <tr>\n",
              "      <th>1</th>\n",
              "      <td>{'service': 5.0, 'cleanliness': 5.0, 'overall'...</td>\n",
              "      <td>“My home away from home!”</td>\n",
              "      <td>On every visit to NYC, the Hotel Beacon is the...</td>\n",
              "      <td>{'username': 'Maureen V', 'num_reviews': 2, 'n...</td>\n",
              "      <td>December 2012</td>\n",
              "      <td>93338</td>\n",
              "      <td>0</td>\n",
              "      <td>2012-12-17</td>\n",
              "      <td>147639004</td>\n",
              "      <td>False</td>\n",
              "    </tr>\n",
              "    <tr>\n",
              "      <th>2</th>\n",
              "      <td>{'service': 4.0, 'cleanliness': 5.0, 'overall'...</td>\n",
              "      <td>“Great Stay”</td>\n",
              "      <td>This is a great property in Midtown. We two di...</td>\n",
              "      <td>{'username': 'vuguru', 'num_cities': 12, 'num_...</td>\n",
              "      <td>December 2012</td>\n",
              "      <td>1762573</td>\n",
              "      <td>0</td>\n",
              "      <td>2012-12-18</td>\n",
              "      <td>147697954</td>\n",
              "      <td>False</td>\n",
              "    </tr>\n",
              "    <tr>\n",
              "      <th>3</th>\n",
              "      <td>{'service': 5.0, 'cleanliness': 5.0, 'overall'...</td>\n",
              "      <td>“Modern Convenience”</td>\n",
              "      <td>The Andaz is a nice hotel in a central locatio...</td>\n",
              "      <td>{'username': 'Hotel-Designer', 'num_cities': 5...</td>\n",
              "      <td>August 2012</td>\n",
              "      <td>1762573</td>\n",
              "      <td>0</td>\n",
              "      <td>2012-12-17</td>\n",
              "      <td>147625723</td>\n",
              "      <td>False</td>\n",
              "    </tr>\n",
              "    <tr>\n",
              "      <th>4</th>\n",
              "      <td>{'service': 4.0, 'cleanliness': 5.0, 'overall'...</td>\n",
              "      <td>“Its the best of the Andaz Brand in the US....”</td>\n",
              "      <td>I have stayed at each of the US Andaz properti...</td>\n",
              "      <td>{'username': 'JamesE339', 'num_cities': 34, 'n...</td>\n",
              "      <td>December 2012</td>\n",
              "      <td>1762573</td>\n",
              "      <td>0</td>\n",
              "      <td>2012-12-17</td>\n",
              "      <td>147612823</td>\n",
              "      <td>False</td>\n",
              "    </tr>\n",
              "    <tr>\n",
              "      <th>...</th>\n",
              "      <td>...</td>\n",
              "      <td>...</td>\n",
              "      <td>...</td>\n",
              "      <td>...</td>\n",
              "      <td>...</td>\n",
              "      <td>...</td>\n",
              "      <td>...</td>\n",
              "      <td>...</td>\n",
              "      <td>...</td>\n",
              "      <td>...</td>\n",
              "    </tr>\n",
              "    <tr>\n",
              "      <th>878556</th>\n",
              "      <td>{'overall': 4.0}</td>\n",
              "      <td>“vil komme igen”</td>\n",
              "      <td>Pænt hotel i et livligt miljø. Store værelser,...</td>\n",
              "      <td>{'username': '', 'id': '', 'location': ''}</td>\n",
              "      <td>NaN</td>\n",
              "      <td>84093</td>\n",
              "      <td>0</td>\n",
              "      <td>2008-08-31</td>\n",
              "      <td>51441576</td>\n",
              "      <td>False</td>\n",
              "    </tr>\n",
              "    <tr>\n",
              "      <th>878557</th>\n",
              "      <td>{'service': 4.0, 'cleanliness': 5.0, 'overall'...</td>\n",
              "      <td>“excellent”</td>\n",
              "      <td>un excellent hotel 4 *, pour un prix raisonnab...</td>\n",
              "      <td>{'username': 'dan016', 'num_reviews': 2, 'num_...</td>\n",
              "      <td>July 2008</td>\n",
              "      <td>84093</td>\n",
              "      <td>0</td>\n",
              "      <td>2008-07-18</td>\n",
              "      <td>18003332</td>\n",
              "      <td>False</td>\n",
              "    </tr>\n",
              "    <tr>\n",
              "      <th>878558</th>\n",
              "      <td>{'cleanliness': 5.0, 'overall': 5.0, 'rooms': ...</td>\n",
              "      <td>“Un hotel eccezionale”</td>\n",
              "      <td>L'hotel, situato in una zona tranquilla e a du...</td>\n",
              "      <td>{'username': '', 'id': '', 'location': ''}</td>\n",
              "      <td>July 2008</td>\n",
              "      <td>84093</td>\n",
              "      <td>0</td>\n",
              "      <td>2008-04-18</td>\n",
              "      <td>15564515</td>\n",
              "      <td>False</td>\n",
              "    </tr>\n",
              "    <tr>\n",
              "      <th>878559</th>\n",
              "      <td>{'cleanliness': 5.0, 'overall': 5.0, 'rooms': ...</td>\n",
              "      <td>“Gerne wieder”</td>\n",
              "      <td>Sehr schön ausgestattetes Hotel in bester Lage...</td>\n",
              "      <td>{'username': '', 'id': '', 'location': ''}</td>\n",
              "      <td>July 2008</td>\n",
              "      <td>84093</td>\n",
              "      <td>0</td>\n",
              "      <td>2008-04-01</td>\n",
              "      <td>15564508</td>\n",
              "      <td>False</td>\n",
              "    </tr>\n",
              "    <tr>\n",
              "      <th>878560</th>\n",
              "      <td>{'service': 4.0, 'cleanliness': 4.0, 'overall'...</td>\n",
              "      <td>“Nuevo... novísimo. Estupendo lugar.”</td>\n",
              "      <td>El hotel está entre el aeropuerto y Washington...</td>\n",
              "      <td>{'username': 'Basajaun', 'num_cities': 8, 'num...</td>\n",
              "      <td>March 2008</td>\n",
              "      <td>84093</td>\n",
              "      <td>0</td>\n",
              "      <td>2008-03-13</td>\n",
              "      <td>14259290</td>\n",
              "      <td>False</td>\n",
              "    </tr>\n",
              "  </tbody>\n",
              "</table>\n",
              "<p>878561 rows × 10 columns</p>\n",
              "</div>\n",
              "    <div class=\"colab-df-buttons\">\n",
              "\n",
              "  <div class=\"colab-df-container\">\n",
              "    <button class=\"colab-df-convert\" onclick=\"convertToInteractive('df-89bb715a-90f8-4ba5-9f80-8410f0baf924')\"\n",
              "            title=\"Convert this dataframe to an interactive table.\"\n",
              "            style=\"display:none;\">\n",
              "\n",
              "  <svg xmlns=\"http://www.w3.org/2000/svg\" height=\"24px\" viewBox=\"0 -960 960 960\">\n",
              "    <path d=\"M120-120v-720h720v720H120Zm60-500h600v-160H180v160Zm220 220h160v-160H400v160Zm0 220h160v-160H400v160ZM180-400h160v-160H180v160Zm440 0h160v-160H620v160ZM180-180h160v-160H180v160Zm440 0h160v-160H620v160Z\"/>\n",
              "  </svg>\n",
              "    </button>\n",
              "\n",
              "  <style>\n",
              "    .colab-df-container {\n",
              "      display:flex;\n",
              "      gap: 12px;\n",
              "    }\n",
              "\n",
              "    .colab-df-convert {\n",
              "      background-color: #E8F0FE;\n",
              "      border: none;\n",
              "      border-radius: 50%;\n",
              "      cursor: pointer;\n",
              "      display: none;\n",
              "      fill: #1967D2;\n",
              "      height: 32px;\n",
              "      padding: 0 0 0 0;\n",
              "      width: 32px;\n",
              "    }\n",
              "\n",
              "    .colab-df-convert:hover {\n",
              "      background-color: #E2EBFA;\n",
              "      box-shadow: 0px 1px 2px rgba(60, 64, 67, 0.3), 0px 1px 3px 1px rgba(60, 64, 67, 0.15);\n",
              "      fill: #174EA6;\n",
              "    }\n",
              "\n",
              "    .colab-df-buttons div {\n",
              "      margin-bottom: 4px;\n",
              "    }\n",
              "\n",
              "    [theme=dark] .colab-df-convert {\n",
              "      background-color: #3B4455;\n",
              "      fill: #D2E3FC;\n",
              "    }\n",
              "\n",
              "    [theme=dark] .colab-df-convert:hover {\n",
              "      background-color: #434B5C;\n",
              "      box-shadow: 0px 1px 3px 1px rgba(0, 0, 0, 0.15);\n",
              "      filter: drop-shadow(0px 1px 2px rgba(0, 0, 0, 0.3));\n",
              "      fill: #FFFFFF;\n",
              "    }\n",
              "  </style>\n",
              "\n",
              "    <script>\n",
              "      const buttonEl =\n",
              "        document.querySelector('#df-89bb715a-90f8-4ba5-9f80-8410f0baf924 button.colab-df-convert');\n",
              "      buttonEl.style.display =\n",
              "        google.colab.kernel.accessAllowed ? 'block' : 'none';\n",
              "\n",
              "      async function convertToInteractive(key) {\n",
              "        const element = document.querySelector('#df-89bb715a-90f8-4ba5-9f80-8410f0baf924');\n",
              "        const dataTable =\n",
              "          await google.colab.kernel.invokeFunction('convertToInteractive',\n",
              "                                                    [key], {});\n",
              "        if (!dataTable) return;\n",
              "\n",
              "        const docLinkHtml = 'Like what you see? Visit the ' +\n",
              "          '<a target=\"_blank\" href=https://colab.research.google.com/notebooks/data_table.ipynb>data table notebook</a>'\n",
              "          + ' to learn more about interactive tables.';\n",
              "        element.innerHTML = '';\n",
              "        dataTable['output_type'] = 'display_data';\n",
              "        await google.colab.output.renderOutput(dataTable, element);\n",
              "        const docLink = document.createElement('div');\n",
              "        docLink.innerHTML = docLinkHtml;\n",
              "        element.appendChild(docLink);\n",
              "      }\n",
              "    </script>\n",
              "  </div>\n",
              "\n",
              "\n",
              "<div id=\"df-8e3cab2b-b3c4-4e65-b9b3-7d99a13a9e8b\">\n",
              "  <button class=\"colab-df-quickchart\" onclick=\"quickchart('df-8e3cab2b-b3c4-4e65-b9b3-7d99a13a9e8b')\"\n",
              "            title=\"Suggest charts\"\n",
              "            style=\"display:none;\">\n",
              "\n",
              "<svg xmlns=\"http://www.w3.org/2000/svg\" height=\"24px\"viewBox=\"0 0 24 24\"\n",
              "     width=\"24px\">\n",
              "    <g>\n",
              "        <path d=\"M19 3H5c-1.1 0-2 .9-2 2v14c0 1.1.9 2 2 2h14c1.1 0 2-.9 2-2V5c0-1.1-.9-2-2-2zM9 17H7v-7h2v7zm4 0h-2V7h2v10zm4 0h-2v-4h2v4z\"/>\n",
              "    </g>\n",
              "</svg>\n",
              "  </button>\n",
              "\n",
              "<style>\n",
              "  .colab-df-quickchart {\n",
              "      --bg-color: #E8F0FE;\n",
              "      --fill-color: #1967D2;\n",
              "      --hover-bg-color: #E2EBFA;\n",
              "      --hover-fill-color: #174EA6;\n",
              "      --disabled-fill-color: #AAA;\n",
              "      --disabled-bg-color: #DDD;\n",
              "  }\n",
              "\n",
              "  [theme=dark] .colab-df-quickchart {\n",
              "      --bg-color: #3B4455;\n",
              "      --fill-color: #D2E3FC;\n",
              "      --hover-bg-color: #434B5C;\n",
              "      --hover-fill-color: #FFFFFF;\n",
              "      --disabled-bg-color: #3B4455;\n",
              "      --disabled-fill-color: #666;\n",
              "  }\n",
              "\n",
              "  .colab-df-quickchart {\n",
              "    background-color: var(--bg-color);\n",
              "    border: none;\n",
              "    border-radius: 50%;\n",
              "    cursor: pointer;\n",
              "    display: none;\n",
              "    fill: var(--fill-color);\n",
              "    height: 32px;\n",
              "    padding: 0;\n",
              "    width: 32px;\n",
              "  }\n",
              "\n",
              "  .colab-df-quickchart:hover {\n",
              "    background-color: var(--hover-bg-color);\n",
              "    box-shadow: 0 1px 2px rgba(60, 64, 67, 0.3), 0 1px 3px 1px rgba(60, 64, 67, 0.15);\n",
              "    fill: var(--button-hover-fill-color);\n",
              "  }\n",
              "\n",
              "  .colab-df-quickchart-complete:disabled,\n",
              "  .colab-df-quickchart-complete:disabled:hover {\n",
              "    background-color: var(--disabled-bg-color);\n",
              "    fill: var(--disabled-fill-color);\n",
              "    box-shadow: none;\n",
              "  }\n",
              "\n",
              "  .colab-df-spinner {\n",
              "    border: 2px solid var(--fill-color);\n",
              "    border-color: transparent;\n",
              "    border-bottom-color: var(--fill-color);\n",
              "    animation:\n",
              "      spin 1s steps(1) infinite;\n",
              "  }\n",
              "\n",
              "  @keyframes spin {\n",
              "    0% {\n",
              "      border-color: transparent;\n",
              "      border-bottom-color: var(--fill-color);\n",
              "      border-left-color: var(--fill-color);\n",
              "    }\n",
              "    20% {\n",
              "      border-color: transparent;\n",
              "      border-left-color: var(--fill-color);\n",
              "      border-top-color: var(--fill-color);\n",
              "    }\n",
              "    30% {\n",
              "      border-color: transparent;\n",
              "      border-left-color: var(--fill-color);\n",
              "      border-top-color: var(--fill-color);\n",
              "      border-right-color: var(--fill-color);\n",
              "    }\n",
              "    40% {\n",
              "      border-color: transparent;\n",
              "      border-right-color: var(--fill-color);\n",
              "      border-top-color: var(--fill-color);\n",
              "    }\n",
              "    60% {\n",
              "      border-color: transparent;\n",
              "      border-right-color: var(--fill-color);\n",
              "    }\n",
              "    80% {\n",
              "      border-color: transparent;\n",
              "      border-right-color: var(--fill-color);\n",
              "      border-bottom-color: var(--fill-color);\n",
              "    }\n",
              "    90% {\n",
              "      border-color: transparent;\n",
              "      border-bottom-color: var(--fill-color);\n",
              "    }\n",
              "  }\n",
              "</style>\n",
              "\n",
              "  <script>\n",
              "    async function quickchart(key) {\n",
              "      const quickchartButtonEl =\n",
              "        document.querySelector('#' + key + ' button');\n",
              "      quickchartButtonEl.disabled = true;  // To prevent multiple clicks.\n",
              "      quickchartButtonEl.classList.add('colab-df-spinner');\n",
              "      try {\n",
              "        const charts = await google.colab.kernel.invokeFunction(\n",
              "            'suggestCharts', [key], {});\n",
              "      } catch (error) {\n",
              "        console.error('Error during call to suggestCharts:', error);\n",
              "      }\n",
              "      quickchartButtonEl.classList.remove('colab-df-spinner');\n",
              "      quickchartButtonEl.classList.add('colab-df-quickchart-complete');\n",
              "    }\n",
              "    (() => {\n",
              "      let quickchartButtonEl =\n",
              "        document.querySelector('#df-8e3cab2b-b3c4-4e65-b9b3-7d99a13a9e8b button');\n",
              "      quickchartButtonEl.style.display =\n",
              "        google.colab.kernel.accessAllowed ? 'block' : 'none';\n",
              "    })();\n",
              "  </script>\n",
              "</div>\n",
              "    </div>\n",
              "  </div>\n"
            ]
          },
          "metadata": {},
          "execution_count": 19
        }
      ]
    },
    {
      "cell_type": "code",
      "source": [
        "df.info(verbose=False, memory_usage=\"deep\")"
      ],
      "metadata": {
        "colab": {
          "base_uri": "https://localhost:8080/"
        },
        "id": "kKFDthFTeYQ5",
        "outputId": "fed75e62-95cb-4a7b-c3d7-d14bb64090ed"
      },
      "execution_count": null,
      "outputs": [
        {
          "output_type": "stream",
          "name": "stdout",
          "text": [
            "<class 'pandas.core.frame.DataFrame'>\n",
            "RangeIndex: 878561 entries, 0 to 878560\n",
            "Columns: 10 entries, ratings to via_mobile\n",
            "dtypes: bool(1), int64(3), object(6)\n",
            "memory usage: 1.3 GB\n"
          ]
        }
      ]
    },
    {
      "cell_type": "code",
      "source": [
        "df1 = df[[\"ratings\", \"title\"]]\n",
        "df1.info(verbose=False, memory_usage=\"deep\")"
      ],
      "metadata": {
        "colab": {
          "base_uri": "https://localhost:8080/"
        },
        "id": "-QQbfLsEegAZ",
        "outputId": "cc58dfe7-9479-4b94-ab5c-056528dad7f7"
      },
      "execution_count": null,
      "outputs": [
        {
          "output_type": "stream",
          "name": "stdout",
          "text": [
            "<class 'pandas.core.frame.DataFrame'>\n",
            "RangeIndex: 878561 entries, 0 to 878560\n",
            "Columns: 2 entries, ratings to title\n",
            "dtypes: object(2)\n",
            "memory usage: 253.7 MB\n"
          ]
        }
      ]
    },
    {
      "cell_type": "markdown",
      "source": [
        "As a result, load less data which is load only required columns has reduce memory usage from 1.3 GB to 253.7 MB"
      ],
      "metadata": {
        "id": "JtLOiyGWT_Qv"
      }
    },
    {
      "cell_type": "markdown",
      "source": [
        "### Use Chunking\n",
        "\n",
        "- import the libraries"
      ],
      "metadata": {
        "id": "qYHaoNGzgzTX"
      }
    },
    {
      "cell_type": "code",
      "source": [
        "import pandas as pd\n",
        "import gc\n",
        "import glob\n",
        "import os"
      ],
      "metadata": {
        "id": "lxum1nt4fR2l"
      },
      "execution_count": null,
      "outputs": []
    },
    {
      "cell_type": "code",
      "source": [
        "chunk_size= 500000\n",
        "num= 1\n",
        "for chunk in pd.read_csv('reviews.csv',chunksize=chunk_size):\n",
        "  chunk.to_csv('chunk'+str(num)+'.csv', index=False)\n",
        "  gc.collect()\n",
        "  num+=1"
      ],
      "metadata": {
        "id": "TP0QC25MhOj4"
      },
      "execution_count": null,
      "outputs": []
    },
    {
      "cell_type": "code",
      "source": [
        "df2 =pd.read_csv('chunk2.csv')\n",
        "df2.head()"
      ],
      "metadata": {
        "colab": {
          "base_uri": "https://localhost:8080/",
          "height": 379
        },
        "id": "ps4OpLM7htzv",
        "outputId": "b336660b-4b1b-4e1e-c471-c3fa3de88950"
      },
      "execution_count": null,
      "outputs": [
        {
          "output_type": "execute_result",
          "data": {
            "text/plain": [
              "                                             ratings  \\\n",
              "0  {'service': 3.0, 'cleanliness': 4.0, 'overall'...   \n",
              "1  {'service': 1.0, 'cleanliness': 4.0, 'overall'...   \n",
              "2  {'service': 5.0, 'cleanliness': 5.0, 'overall'...   \n",
              "3  {'service': 5.0, 'cleanliness': 5.0, 'overall'...   \n",
              "4  {'service': 5.0, 'cleanliness': 5.0, 'overall'...   \n",
              "\n",
              "                                               title  \\\n",
              "0    “Luxo prices for less-than-luxo accommodations”   \n",
              "1  “Front desk terrible, clean and good location ...   \n",
              "2                 “Big rooms at this boutique hotel”   \n",
              "3                  “Terrific Hotel – Great Location”   \n",
              "4            “Had everything we needed... and more!”   \n",
              "\n",
              "                                                text  \\\n",
              "0  The hotel is in a sort of dodgy area; the plac...   \n",
              "1  First of all, this review is mostly about the ...   \n",
              "2  Prompt check in and very friendly staff at the...   \n",
              "3  We recently returned from San Diego in March. ...   \n",
              "4  What a lovely hotel. Staff could not do enough...   \n",
              "\n",
              "                                              author    date_stayed  \\\n",
              "0  {'username': 'CaTraveler7777', 'num_cities': 4...  November 2010   \n",
              "1  {'username': 'image1', 'num_cities': 3, 'num_h...  November 2010   \n",
              "2  {'username': 'Mailmanwill', 'num_cities': 24, ...   October 2010   \n",
              "3  {'username': 'Yakster14', 'num_reviews': 1, 'i...     March 2010   \n",
              "4  {'username': 'U20manager', 'num_reviews': 1, '...     March 2010   \n",
              "\n",
              "   offering_id  num_helpful_votes        date        id  via_mobile  \n",
              "0      1237001                  0  2010-11-16  87332187       False  \n",
              "1      1237001                  0  2010-11-12  86873317       False  \n",
              "2      1237001                  0  2010-11-02  85764803       False  \n",
              "3      1027494                  1  2010-03-28  59767681       False  \n",
              "4      1027494                  0  2010-03-10  58235443       False  "
            ],
            "text/html": [
              "\n",
              "  <div id=\"df-65f3ebfa-162a-4dbc-916e-8f7ad4595b2b\" class=\"colab-df-container\">\n",
              "    <div>\n",
              "<style scoped>\n",
              "    .dataframe tbody tr th:only-of-type {\n",
              "        vertical-align: middle;\n",
              "    }\n",
              "\n",
              "    .dataframe tbody tr th {\n",
              "        vertical-align: top;\n",
              "    }\n",
              "\n",
              "    .dataframe thead th {\n",
              "        text-align: right;\n",
              "    }\n",
              "</style>\n",
              "<table border=\"1\" class=\"dataframe\">\n",
              "  <thead>\n",
              "    <tr style=\"text-align: right;\">\n",
              "      <th></th>\n",
              "      <th>ratings</th>\n",
              "      <th>title</th>\n",
              "      <th>text</th>\n",
              "      <th>author</th>\n",
              "      <th>date_stayed</th>\n",
              "      <th>offering_id</th>\n",
              "      <th>num_helpful_votes</th>\n",
              "      <th>date</th>\n",
              "      <th>id</th>\n",
              "      <th>via_mobile</th>\n",
              "    </tr>\n",
              "  </thead>\n",
              "  <tbody>\n",
              "    <tr>\n",
              "      <th>0</th>\n",
              "      <td>{'service': 3.0, 'cleanliness': 4.0, 'overall'...</td>\n",
              "      <td>“Luxo prices for less-than-luxo accommodations”</td>\n",
              "      <td>The hotel is in a sort of dodgy area; the plac...</td>\n",
              "      <td>{'username': 'CaTraveler7777', 'num_cities': 4...</td>\n",
              "      <td>November 2010</td>\n",
              "      <td>1237001</td>\n",
              "      <td>0</td>\n",
              "      <td>2010-11-16</td>\n",
              "      <td>87332187</td>\n",
              "      <td>False</td>\n",
              "    </tr>\n",
              "    <tr>\n",
              "      <th>1</th>\n",
              "      <td>{'service': 1.0, 'cleanliness': 4.0, 'overall'...</td>\n",
              "      <td>“Front desk terrible, clean and good location ...</td>\n",
              "      <td>First of all, this review is mostly about the ...</td>\n",
              "      <td>{'username': 'image1', 'num_cities': 3, 'num_h...</td>\n",
              "      <td>November 2010</td>\n",
              "      <td>1237001</td>\n",
              "      <td>0</td>\n",
              "      <td>2010-11-12</td>\n",
              "      <td>86873317</td>\n",
              "      <td>False</td>\n",
              "    </tr>\n",
              "    <tr>\n",
              "      <th>2</th>\n",
              "      <td>{'service': 5.0, 'cleanliness': 5.0, 'overall'...</td>\n",
              "      <td>“Big rooms at this boutique hotel”</td>\n",
              "      <td>Prompt check in and very friendly staff at the...</td>\n",
              "      <td>{'username': 'Mailmanwill', 'num_cities': 24, ...</td>\n",
              "      <td>October 2010</td>\n",
              "      <td>1237001</td>\n",
              "      <td>0</td>\n",
              "      <td>2010-11-02</td>\n",
              "      <td>85764803</td>\n",
              "      <td>False</td>\n",
              "    </tr>\n",
              "    <tr>\n",
              "      <th>3</th>\n",
              "      <td>{'service': 5.0, 'cleanliness': 5.0, 'overall'...</td>\n",
              "      <td>“Terrific Hotel – Great Location”</td>\n",
              "      <td>We recently returned from San Diego in March. ...</td>\n",
              "      <td>{'username': 'Yakster14', 'num_reviews': 1, 'i...</td>\n",
              "      <td>March 2010</td>\n",
              "      <td>1027494</td>\n",
              "      <td>1</td>\n",
              "      <td>2010-03-28</td>\n",
              "      <td>59767681</td>\n",
              "      <td>False</td>\n",
              "    </tr>\n",
              "    <tr>\n",
              "      <th>4</th>\n",
              "      <td>{'service': 5.0, 'cleanliness': 5.0, 'overall'...</td>\n",
              "      <td>“Had everything we needed... and more!”</td>\n",
              "      <td>What a lovely hotel. Staff could not do enough...</td>\n",
              "      <td>{'username': 'U20manager', 'num_reviews': 1, '...</td>\n",
              "      <td>March 2010</td>\n",
              "      <td>1027494</td>\n",
              "      <td>0</td>\n",
              "      <td>2010-03-10</td>\n",
              "      <td>58235443</td>\n",
              "      <td>False</td>\n",
              "    </tr>\n",
              "  </tbody>\n",
              "</table>\n",
              "</div>\n",
              "    <div class=\"colab-df-buttons\">\n",
              "\n",
              "  <div class=\"colab-df-container\">\n",
              "    <button class=\"colab-df-convert\" onclick=\"convertToInteractive('df-65f3ebfa-162a-4dbc-916e-8f7ad4595b2b')\"\n",
              "            title=\"Convert this dataframe to an interactive table.\"\n",
              "            style=\"display:none;\">\n",
              "\n",
              "  <svg xmlns=\"http://www.w3.org/2000/svg\" height=\"24px\" viewBox=\"0 -960 960 960\">\n",
              "    <path d=\"M120-120v-720h720v720H120Zm60-500h600v-160H180v160Zm220 220h160v-160H400v160Zm0 220h160v-160H400v160ZM180-400h160v-160H180v160Zm440 0h160v-160H620v160ZM180-180h160v-160H180v160Zm440 0h160v-160H620v160Z\"/>\n",
              "  </svg>\n",
              "    </button>\n",
              "\n",
              "  <style>\n",
              "    .colab-df-container {\n",
              "      display:flex;\n",
              "      gap: 12px;\n",
              "    }\n",
              "\n",
              "    .colab-df-convert {\n",
              "      background-color: #E8F0FE;\n",
              "      border: none;\n",
              "      border-radius: 50%;\n",
              "      cursor: pointer;\n",
              "      display: none;\n",
              "      fill: #1967D2;\n",
              "      height: 32px;\n",
              "      padding: 0 0 0 0;\n",
              "      width: 32px;\n",
              "    }\n",
              "\n",
              "    .colab-df-convert:hover {\n",
              "      background-color: #E2EBFA;\n",
              "      box-shadow: 0px 1px 2px rgba(60, 64, 67, 0.3), 0px 1px 3px 1px rgba(60, 64, 67, 0.15);\n",
              "      fill: #174EA6;\n",
              "    }\n",
              "\n",
              "    .colab-df-buttons div {\n",
              "      margin-bottom: 4px;\n",
              "    }\n",
              "\n",
              "    [theme=dark] .colab-df-convert {\n",
              "      background-color: #3B4455;\n",
              "      fill: #D2E3FC;\n",
              "    }\n",
              "\n",
              "    [theme=dark] .colab-df-convert:hover {\n",
              "      background-color: #434B5C;\n",
              "      box-shadow: 0px 1px 3px 1px rgba(0, 0, 0, 0.15);\n",
              "      filter: drop-shadow(0px 1px 2px rgba(0, 0, 0, 0.3));\n",
              "      fill: #FFFFFF;\n",
              "    }\n",
              "  </style>\n",
              "\n",
              "    <script>\n",
              "      const buttonEl =\n",
              "        document.querySelector('#df-65f3ebfa-162a-4dbc-916e-8f7ad4595b2b button.colab-df-convert');\n",
              "      buttonEl.style.display =\n",
              "        google.colab.kernel.accessAllowed ? 'block' : 'none';\n",
              "\n",
              "      async function convertToInteractive(key) {\n",
              "        const element = document.querySelector('#df-65f3ebfa-162a-4dbc-916e-8f7ad4595b2b');\n",
              "        const dataTable =\n",
              "          await google.colab.kernel.invokeFunction('convertToInteractive',\n",
              "                                                    [key], {});\n",
              "        if (!dataTable) return;\n",
              "\n",
              "        const docLinkHtml = 'Like what you see? Visit the ' +\n",
              "          '<a target=\"_blank\" href=https://colab.research.google.com/notebooks/data_table.ipynb>data table notebook</a>'\n",
              "          + ' to learn more about interactive tables.';\n",
              "        element.innerHTML = '';\n",
              "        dataTable['output_type'] = 'display_data';\n",
              "        await google.colab.output.renderOutput(dataTable, element);\n",
              "        const docLink = document.createElement('div');\n",
              "        docLink.innerHTML = docLinkHtml;\n",
              "        element.appendChild(docLink);\n",
              "      }\n",
              "    </script>\n",
              "  </div>\n",
              "\n",
              "\n",
              "<div id=\"df-4ceb2662-4561-44c6-ab5f-d11ad653426e\">\n",
              "  <button class=\"colab-df-quickchart\" onclick=\"quickchart('df-4ceb2662-4561-44c6-ab5f-d11ad653426e')\"\n",
              "            title=\"Suggest charts\"\n",
              "            style=\"display:none;\">\n",
              "\n",
              "<svg xmlns=\"http://www.w3.org/2000/svg\" height=\"24px\"viewBox=\"0 0 24 24\"\n",
              "     width=\"24px\">\n",
              "    <g>\n",
              "        <path d=\"M19 3H5c-1.1 0-2 .9-2 2v14c0 1.1.9 2 2 2h14c1.1 0 2-.9 2-2V5c0-1.1-.9-2-2-2zM9 17H7v-7h2v7zm4 0h-2V7h2v10zm4 0h-2v-4h2v4z\"/>\n",
              "    </g>\n",
              "</svg>\n",
              "  </button>\n",
              "\n",
              "<style>\n",
              "  .colab-df-quickchart {\n",
              "      --bg-color: #E8F0FE;\n",
              "      --fill-color: #1967D2;\n",
              "      --hover-bg-color: #E2EBFA;\n",
              "      --hover-fill-color: #174EA6;\n",
              "      --disabled-fill-color: #AAA;\n",
              "      --disabled-bg-color: #DDD;\n",
              "  }\n",
              "\n",
              "  [theme=dark] .colab-df-quickchart {\n",
              "      --bg-color: #3B4455;\n",
              "      --fill-color: #D2E3FC;\n",
              "      --hover-bg-color: #434B5C;\n",
              "      --hover-fill-color: #FFFFFF;\n",
              "      --disabled-bg-color: #3B4455;\n",
              "      --disabled-fill-color: #666;\n",
              "  }\n",
              "\n",
              "  .colab-df-quickchart {\n",
              "    background-color: var(--bg-color);\n",
              "    border: none;\n",
              "    border-radius: 50%;\n",
              "    cursor: pointer;\n",
              "    display: none;\n",
              "    fill: var(--fill-color);\n",
              "    height: 32px;\n",
              "    padding: 0;\n",
              "    width: 32px;\n",
              "  }\n",
              "\n",
              "  .colab-df-quickchart:hover {\n",
              "    background-color: var(--hover-bg-color);\n",
              "    box-shadow: 0 1px 2px rgba(60, 64, 67, 0.3), 0 1px 3px 1px rgba(60, 64, 67, 0.15);\n",
              "    fill: var(--button-hover-fill-color);\n",
              "  }\n",
              "\n",
              "  .colab-df-quickchart-complete:disabled,\n",
              "  .colab-df-quickchart-complete:disabled:hover {\n",
              "    background-color: var(--disabled-bg-color);\n",
              "    fill: var(--disabled-fill-color);\n",
              "    box-shadow: none;\n",
              "  }\n",
              "\n",
              "  .colab-df-spinner {\n",
              "    border: 2px solid var(--fill-color);\n",
              "    border-color: transparent;\n",
              "    border-bottom-color: var(--fill-color);\n",
              "    animation:\n",
              "      spin 1s steps(1) infinite;\n",
              "  }\n",
              "\n",
              "  @keyframes spin {\n",
              "    0% {\n",
              "      border-color: transparent;\n",
              "      border-bottom-color: var(--fill-color);\n",
              "      border-left-color: var(--fill-color);\n",
              "    }\n",
              "    20% {\n",
              "      border-color: transparent;\n",
              "      border-left-color: var(--fill-color);\n",
              "      border-top-color: var(--fill-color);\n",
              "    }\n",
              "    30% {\n",
              "      border-color: transparent;\n",
              "      border-left-color: var(--fill-color);\n",
              "      border-top-color: var(--fill-color);\n",
              "      border-right-color: var(--fill-color);\n",
              "    }\n",
              "    40% {\n",
              "      border-color: transparent;\n",
              "      border-right-color: var(--fill-color);\n",
              "      border-top-color: var(--fill-color);\n",
              "    }\n",
              "    60% {\n",
              "      border-color: transparent;\n",
              "      border-right-color: var(--fill-color);\n",
              "    }\n",
              "    80% {\n",
              "      border-color: transparent;\n",
              "      border-right-color: var(--fill-color);\n",
              "      border-bottom-color: var(--fill-color);\n",
              "    }\n",
              "    90% {\n",
              "      border-color: transparent;\n",
              "      border-bottom-color: var(--fill-color);\n",
              "    }\n",
              "  }\n",
              "</style>\n",
              "\n",
              "  <script>\n",
              "    async function quickchart(key) {\n",
              "      const quickchartButtonEl =\n",
              "        document.querySelector('#' + key + ' button');\n",
              "      quickchartButtonEl.disabled = true;  // To prevent multiple clicks.\n",
              "      quickchartButtonEl.classList.add('colab-df-spinner');\n",
              "      try {\n",
              "        const charts = await google.colab.kernel.invokeFunction(\n",
              "            'suggestCharts', [key], {});\n",
              "      } catch (error) {\n",
              "        console.error('Error during call to suggestCharts:', error);\n",
              "      }\n",
              "      quickchartButtonEl.classList.remove('colab-df-spinner');\n",
              "      quickchartButtonEl.classList.add('colab-df-quickchart-complete');\n",
              "    }\n",
              "    (() => {\n",
              "      let quickchartButtonEl =\n",
              "        document.querySelector('#df-4ceb2662-4561-44c6-ab5f-d11ad653426e button');\n",
              "      quickchartButtonEl.style.display =\n",
              "        google.colab.kernel.accessAllowed ? 'block' : 'none';\n",
              "    })();\n",
              "  </script>\n",
              "</div>\n",
              "    </div>\n",
              "  </div>\n"
            ]
          },
          "metadata": {},
          "execution_count": 25
        }
      ]
    },
    {
      "cell_type": "code",
      "source": [
        "df2.info()"
      ],
      "metadata": {
        "colab": {
          "base_uri": "https://localhost:8080/"
        },
        "id": "XKZ9F2CGh0UX",
        "outputId": "c68eef94-9495-4798-8ec0-13591172e39a"
      },
      "execution_count": null,
      "outputs": [
        {
          "output_type": "stream",
          "name": "stdout",
          "text": [
            "<class 'pandas.core.frame.DataFrame'>\n",
            "RangeIndex: 378561 entries, 0 to 378560\n",
            "Data columns (total 10 columns):\n",
            " #   Column             Non-Null Count   Dtype \n",
            "---  ------             --------------   ----- \n",
            " 0   ratings            378561 non-null  object\n",
            " 1   title              378561 non-null  object\n",
            " 2   text               378561 non-null  object\n",
            " 3   author             378561 non-null  object\n",
            " 4   date_stayed        358456 non-null  object\n",
            " 5   offering_id        378561 non-null  int64 \n",
            " 6   num_helpful_votes  378561 non-null  int64 \n",
            " 7   date               378561 non-null  object\n",
            " 8   id                 378561 non-null  int64 \n",
            " 9   via_mobile         378561 non-null  bool  \n",
            "dtypes: bool(1), int64(3), object(6)\n",
            "memory usage: 26.4+ MB\n"
          ]
        }
      ]
    },
    {
      "cell_type": "code",
      "source": [
        "for column in df2.columns:\n",
        "  if df2[column].dtypes == 'int64':\n",
        "    df2[column] = df2[column].astype('int16')"
      ],
      "metadata": {
        "id": "DOrHp8WViNjw"
      },
      "execution_count": null,
      "outputs": []
    },
    {
      "cell_type": "code",
      "source": [
        "df2.info()"
      ],
      "metadata": {
        "colab": {
          "base_uri": "https://localhost:8080/"
        },
        "id": "BPMb5WGsijUf",
        "outputId": "49954b27-301b-4eb1-c438-20f842dceea6"
      },
      "execution_count": null,
      "outputs": [
        {
          "output_type": "stream",
          "name": "stdout",
          "text": [
            "<class 'pandas.core.frame.DataFrame'>\n",
            "RangeIndex: 378561 entries, 0 to 378560\n",
            "Data columns (total 10 columns):\n",
            " #   Column             Non-Null Count   Dtype \n",
            "---  ------             --------------   ----- \n",
            " 0   ratings            378561 non-null  object\n",
            " 1   title              378561 non-null  object\n",
            " 2   text               378561 non-null  object\n",
            " 3   author             378561 non-null  object\n",
            " 4   date_stayed        358456 non-null  object\n",
            " 5   offering_id        378561 non-null  int16 \n",
            " 6   num_helpful_votes  378561 non-null  int16 \n",
            " 7   date               378561 non-null  object\n",
            " 8   id                 378561 non-null  int16 \n",
            " 9   via_mobile         378561 non-null  bool  \n",
            "dtypes: bool(1), int16(3), object(6)\n",
            "memory usage: 19.9+ MB\n"
          ]
        }
      ]
    },
    {
      "cell_type": "markdown",
      "source": [
        "As a result, chunk has reduced the memory usage from 2.64 GB to 1.99 GB by subdividing dataset into smaller part."
      ],
      "metadata": {
        "id": "bksfB1LyUQAK"
      }
    },
    {
      "cell_type": "markdown",
      "source": [
        "### **Optimize Data Types**"
      ],
      "metadata": {
        "id": "f2hJVrXjinn_"
      }
    },
    {
      "cell_type": "code",
      "source": [
        "%pylab inline\n",
        "import numpy as np\n",
        "import pandas as pd\n",
        "import random\n",
        "from sys import getsizeof"
      ],
      "metadata": {
        "colab": {
          "base_uri": "https://localhost:8080/"
        },
        "id": "OVrJ600Kkq2H",
        "outputId": "0fb5ee5e-ab72-4851-f90c-8aee640b46d8"
      },
      "execution_count": null,
      "outputs": [
        {
          "output_type": "stream",
          "name": "stdout",
          "text": [
            "Populating the interactive namespace from numpy and matplotlib\n"
          ]
        }
      ]
    },
    {
      "cell_type": "code",
      "source": [
        "df3 = pd.read_csv('/content/reviews.csv')"
      ],
      "metadata": {
        "id": "pPZtAyPFiuvI"
      },
      "execution_count": null,
      "outputs": []
    },
    {
      "cell_type": "code",
      "source": [
        "start_size = getsizeof(df3)/(1024.0**3)\n",
        "print('Dataframe size: %2.2f GB'%start_size)"
      ],
      "metadata": {
        "colab": {
          "base_uri": "https://localhost:8080/"
        },
        "id": "JgZDyd6kkoTz",
        "outputId": "77d3288d-22cc-44a6-e638-0a814dba8217"
      },
      "execution_count": null,
      "outputs": [
        {
          "output_type": "stream",
          "name": "stdout",
          "text": [
            "Dataframe size: 1.29 GB\n"
          ]
        }
      ]
    },
    {
      "cell_type": "code",
      "source": [
        "df3.dtypes"
      ],
      "metadata": {
        "colab": {
          "base_uri": "https://localhost:8080/"
        },
        "id": "UtGJWmhTk-I6",
        "outputId": "d868f872-0173-46b0-b764-89ae1ebf7dbc"
      },
      "execution_count": null,
      "outputs": [
        {
          "output_type": "execute_result",
          "data": {
            "text/plain": [
              "ratings              object\n",
              "title                object\n",
              "text                 object\n",
              "author               object\n",
              "date_stayed          object\n",
              "offering_id           int64\n",
              "num_helpful_votes     int64\n",
              "date                 object\n",
              "id                    int64\n",
              "via_mobile             bool\n",
              "dtype: object"
            ]
          },
          "metadata": {},
          "execution_count": 32
        }
      ]
    },
    {
      "cell_type": "markdown",
      "source": [
        "**Integers**"
      ],
      "metadata": {
        "id": "_yL_4JJplG7d"
      }
    },
    {
      "cell_type": "code",
      "source": [
        "df3.offering_id = df3.offering_id.astype('uint8')\n",
        "df3.num_helpful_votes = df3.num_helpful_votes.astype('uint8')\n",
        "df3.id = df3.id.astype('uint8')"
      ],
      "metadata": {
        "id": "mqk3U2iplGDr"
      },
      "execution_count": null,
      "outputs": []
    },
    {
      "cell_type": "code",
      "source": [
        "print('Dataframe size: %2.2f GB'%(getsizeof(df3)/(1024.0**3)))"
      ],
      "metadata": {
        "colab": {
          "base_uri": "https://localhost:8080/"
        },
        "id": "iC0HIfy_lLMB",
        "outputId": "484defe7-f5f4-490c-b035-e807cf263928"
      },
      "execution_count": null,
      "outputs": [
        {
          "output_type": "stream",
          "name": "stdout",
          "text": [
            "Dataframe size: 1.27 GB\n"
          ]
        }
      ]
    },
    {
      "cell_type": "markdown",
      "source": [
        "**Object**"
      ],
      "metadata": {
        "id": "4OPwmxMul_5J"
      }
    },
    {
      "cell_type": "code",
      "source": [
        "date = ['date']\n",
        "for col in date:\n",
        "    df3[col] = pd.to_datetime(df3[col])"
      ],
      "metadata": {
        "id": "vNS_fr6il_Pj"
      },
      "execution_count": null,
      "outputs": []
    },
    {
      "cell_type": "code",
      "source": [
        "print('Dataframe size: %2.2f GB'%(getsizeof(df3)/(1024.0**3)))"
      ],
      "metadata": {
        "colab": {
          "base_uri": "https://localhost:8080/"
        },
        "id": "Hph5EgWVmVEb",
        "outputId": "6544b035-5cb4-46c9-b1fd-f0ec410fffbb"
      },
      "execution_count": null,
      "outputs": [
        {
          "output_type": "stream",
          "name": "stdout",
          "text": [
            "Dataframe size: 1.22 GB\n"
          ]
        }
      ]
    },
    {
      "cell_type": "markdown",
      "source": [
        "**Categories**"
      ],
      "metadata": {
        "id": "rzY51vOMma4q"
      }
    },
    {
      "cell_type": "code",
      "source": [
        "df3.ratings = df3.ratings.astype('category')\n",
        "df3.title = df3.title.astype('category')\n",
        "df3.text = df3.text.astype('category')\n",
        "df3.author = df3.author.astype('category')\n",
        "df3.date_stayed = df3.date_stayed.astype('category')"
      ],
      "metadata": {
        "id": "dZqRNGRImcue"
      },
      "execution_count": null,
      "outputs": []
    },
    {
      "cell_type": "code",
      "source": [
        "final_size = getsizeof(df3)/(1024.0**3)\n",
        "print('Dataframe size: %2.2f GB'%final_size)"
      ],
      "metadata": {
        "colab": {
          "base_uri": "https://localhost:8080/"
        },
        "id": "XJUneE4zm5IR",
        "outputId": "ce6dd5cf-e72d-483f-a0a9-f12b6c734812"
      },
      "execution_count": null,
      "outputs": [
        {
          "output_type": "stream",
          "name": "stdout",
          "text": [
            "Dataframe size: 1.16 GB\n"
          ]
        }
      ]
    },
    {
      "cell_type": "markdown",
      "source": [
        "### Total reduction: 10%!"
      ],
      "metadata": {
        "id": "9_pE14nTnHxf"
      }
    },
    {
      "cell_type": "code",
      "source": [
        "print('total size reduction: %2.1f'%((1-final_size/start_size)*100))"
      ],
      "metadata": {
        "colab": {
          "base_uri": "https://localhost:8080/"
        },
        "id": "H0ZSML4am-5s",
        "outputId": "cc5a4c49-6a0e-493b-d196-d6b42853e8f1"
      },
      "execution_count": null,
      "outputs": [
        {
          "output_type": "stream",
          "name": "stdout",
          "text": [
            "total size reduction: 10.0\n"
          ]
        }
      ]
    },
    {
      "cell_type": "code",
      "source": [
        "df3.dtypes"
      ],
      "metadata": {
        "colab": {
          "base_uri": "https://localhost:8080/"
        },
        "id": "VjaMsVDAnB-I",
        "outputId": "b8b8ef98-4516-43d1-9e5b-40744be8d90d"
      },
      "execution_count": null,
      "outputs": [
        {
          "output_type": "execute_result",
          "data": {
            "text/plain": [
              "ratings                    category\n",
              "title                      category\n",
              "text                       category\n",
              "author                     category\n",
              "date_stayed                category\n",
              "offering_id                   uint8\n",
              "num_helpful_votes             uint8\n",
              "date                 datetime64[ns]\n",
              "id                            uint8\n",
              "via_mobile                     bool\n",
              "dtype: object"
            ]
          },
          "metadata": {},
          "execution_count": 41
        }
      ]
    },
    {
      "cell_type": "markdown",
      "source": [
        "As a result, after optimized the Data Types into uint8,category and datetime64, the data frame size has reduce 10% which is from 1.29 GB to 1.16 GB."
      ],
      "metadata": {
        "id": "ZiVyM0V1U1li"
      }
    },
    {
      "cell_type": "markdown",
      "source": [
        "### **Sampling**"
      ],
      "metadata": {
        "id": "2-bFJDYqnR-o"
      }
    },
    {
      "cell_type": "code",
      "source": [
        "import pandas\n",
        "import random"
      ],
      "metadata": {
        "id": "i7eeD_EHnf_x"
      },
      "execution_count": null,
      "outputs": []
    },
    {
      "cell_type": "code",
      "source": [
        "df4 = \"reviews.csv\"\n",
        "n = sum(1 for line in open(df4))-1  # Calculate number of rows in file\n",
        "s = n//10  # sample size of 10%\n",
        "skip = sorted(random.sample(range(1, n+1), n-s))  # n+1 to compensate for header\n",
        "df5 = pandas.read_csv(df4, skiprows=skip)"
      ],
      "metadata": {
        "colab": {
          "base_uri": "https://localhost:8080/"
        },
        "id": "Qvj8h4ABoKdg",
        "outputId": "112d2bc3-62c6-428a-f927-c350ce1e5dea"
      },
      "execution_count": null,
      "outputs": [
        {
          "output_type": "stream",
          "name": "stderr",
          "text": [
            "<ipython-input-44-5aee92887509>:2: DeprecationWarning: Calling np.sum(generator) is deprecated, and in the future will give a different result. Use np.sum(np.fromiter(generator)) or the python sum builtin instead.\n",
            "  n = sum(1 for line in open(df4))-1  # Calculate number of rows in file\n"
          ]
        }
      ]
    },
    {
      "cell_type": "code",
      "source": [
        "df5.info(verbose=False, memory_usage=\"deep\")"
      ],
      "metadata": {
        "colab": {
          "base_uri": "https://localhost:8080/"
        },
        "id": "OOtxeEVdozvt",
        "outputId": "15cb21ff-0754-450a-96b1-3d288dc2cfa1"
      },
      "execution_count": null,
      "outputs": [
        {
          "output_type": "stream",
          "name": "stdout",
          "text": [
            "<class 'pandas.core.frame.DataFrame'>\n",
            "RangeIndex: 88503 entries, 0 to 88502\n",
            "Columns: 10 entries, ratings to via_mobile\n",
            "dtypes: bool(1), int64(3), object(6)\n",
            "memory usage: 132.6 MB\n"
          ]
        }
      ]
    },
    {
      "cell_type": "markdown",
      "source": [
        "As a result, after sampling, memory usage has tremendously reduced which is from 1.3 GB to 132.5 MB if used 10% of sample."
      ],
      "metadata": {
        "id": "dLD4UzzvVzTV"
      }
    },
    {
      "cell_type": "markdown",
      "source": [
        "### **Parallelize with Dask**"
      ],
      "metadata": {
        "id": "W6Y4-MwnnejS"
      }
    },
    {
      "cell_type": "code",
      "source": [
        "%pylab inline\n",
        "import os\n",
        "import pandas as pd\n",
        "import dask.dataframe as dd\n",
        "from dask.distributed import Client"
      ],
      "metadata": {
        "colab": {
          "base_uri": "https://localhost:8080/"
        },
        "id": "jm430pm9qWPL",
        "outputId": "0b649976-257c-4db3-f1da-138d61875fd9"
      },
      "execution_count": 7,
      "outputs": [
        {
          "output_type": "stream",
          "name": "stdout",
          "text": [
            "Populating the interactive namespace from numpy and matplotlib\n"
          ]
        }
      ]
    },
    {
      "cell_type": "code",
      "source": [
        "!pip install dask"
      ],
      "metadata": {
        "colab": {
          "base_uri": "https://localhost:8080/"
        },
        "id": "pi0cHojQLKyX",
        "outputId": "72fe38d8-26e0-4c88-9f78-83f7a63ffd22"
      },
      "execution_count": 8,
      "outputs": [
        {
          "output_type": "stream",
          "name": "stdout",
          "text": [
            "Requirement already satisfied: dask in /usr/local/lib/python3.10/dist-packages (2023.8.1)\n",
            "Requirement already satisfied: click>=8.0 in /usr/local/lib/python3.10/dist-packages (from dask) (8.1.7)\n",
            "Requirement already satisfied: cloudpickle>=1.5.0 in /usr/local/lib/python3.10/dist-packages (from dask) (2.2.1)\n",
            "Requirement already satisfied: fsspec>=2021.09.0 in /usr/local/lib/python3.10/dist-packages (from dask) (2023.6.0)\n",
            "Requirement already satisfied: packaging>=20.0 in /usr/local/lib/python3.10/dist-packages (from dask) (23.2)\n",
            "Requirement already satisfied: partd>=1.2.0 in /usr/local/lib/python3.10/dist-packages (from dask) (1.4.1)\n",
            "Requirement already satisfied: pyyaml>=5.3.1 in /usr/local/lib/python3.10/dist-packages (from dask) (6.0.1)\n",
            "Requirement already satisfied: toolz>=0.10.0 in /usr/local/lib/python3.10/dist-packages (from dask) (0.12.0)\n",
            "Requirement already satisfied: importlib-metadata>=4.13.0 in /usr/local/lib/python3.10/dist-packages (from dask) (7.0.0)\n",
            "Requirement already satisfied: zipp>=0.5 in /usr/local/lib/python3.10/dist-packages (from importlib-metadata>=4.13.0->dask) (3.17.0)\n",
            "Requirement already satisfied: locket in /usr/local/lib/python3.10/dist-packages (from partd>=1.2.0->dask) (1.0.0)\n"
          ]
        }
      ]
    },
    {
      "cell_type": "code",
      "source": [
        "# Reading a Dataframe with Pandas\n",
        "\n",
        "%%time\n",
        "\n",
        "df6=pd.read_csv(\"reviews.csv\")"
      ],
      "metadata": {
        "colab": {
          "base_uri": "https://localhost:8080/"
        },
        "id": "S38DFQmyrVAt",
        "outputId": "d93cad7c-b6bc-472d-fdc4-e4acc5ddedcc"
      },
      "execution_count": 9,
      "outputs": [
        {
          "output_type": "stream",
          "name": "stdout",
          "text": [
            "CPU times: user 19.1 s, sys: 3.53 s, total: 22.7 s\n",
            "Wall time: 30.1 s\n"
          ]
        }
      ]
    },
    {
      "cell_type": "code",
      "source": [
        "# Reading a Dataframe with Dask\n",
        "\n",
        "%%time\n",
        "\n",
        "import dask.dataframe as dd\n",
        "df7=pd.read_csv(\"reviews.csv\")"
      ],
      "metadata": {
        "colab": {
          "base_uri": "https://localhost:8080/"
        },
        "id": "ijc6zkrZWqDk",
        "outputId": "37a2459e-bf74-493c-a338-69068364fef1"
      },
      "execution_count": 10,
      "outputs": [
        {
          "output_type": "stream",
          "name": "stdout",
          "text": [
            "CPU times: user 16.5 s, sys: 1.73 s, total: 18.2 s\n",
            "Wall time: 20.1 s\n"
          ]
        }
      ]
    },
    {
      "cell_type": "code",
      "source": [
        "# Merging Dataframe using Pandas\n",
        "\n",
        "temp1=df6.head(5000)\n",
        "temp2=df6.tail(5000)"
      ],
      "metadata": {
        "id": "1T2al935Wy6C"
      },
      "execution_count": 11,
      "outputs": []
    },
    {
      "cell_type": "code",
      "source": [
        "%%time\n",
        "\n",
        "pdmerge=pd.merge(temp1,temp2)"
      ],
      "metadata": {
        "colab": {
          "base_uri": "https://localhost:8080/"
        },
        "id": "d4FiYDCEW6IK",
        "outputId": "414b5b0a-3d8e-45ea-f748-c3ef6152b665"
      },
      "execution_count": 12,
      "outputs": [
        {
          "output_type": "stream",
          "name": "stdout",
          "text": [
            "CPU times: user 36.6 ms, sys: 900 µs, total: 37.5 ms\n",
            "Wall time: 55.5 ms\n"
          ]
        }
      ]
    },
    {
      "cell_type": "code",
      "source": [
        "# Merging Dataframe using Dask\n",
        "\n",
        "temp3=df7.head(5000)\n",
        "temp4=df7.tail(5000)"
      ],
      "metadata": {
        "id": "9l2bKMgyXAZd"
      },
      "execution_count": 13,
      "outputs": []
    },
    {
      "cell_type": "code",
      "source": [
        "%%time\n",
        "\n",
        "ddmerge = dd.merge(temp3,temp4)"
      ],
      "metadata": {
        "colab": {
          "base_uri": "https://localhost:8080/"
        },
        "id": "MqRW9NDzXEw0",
        "outputId": "6bd11843-9219-444d-c266-3cf2a72af9c9"
      },
      "execution_count": 14,
      "outputs": [
        {
          "output_type": "stream",
          "name": "stdout",
          "text": [
            "CPU times: user 32.1 ms, sys: 805 µs, total: 32.9 ms\n",
            "Wall time: 34.1 ms\n"
          ]
        }
      ]
    },
    {
      "cell_type": "markdown",
      "source": [
        "Below is the result after 2 comparison above:\n",
        "\n",
        "a) Reading Dataframe: Pandas = 30.1s; Dask = 20.1s\n",
        "\n",
        "b) Merging dataframe: Pandas = 55.5ms; Dask = 34.1ms"
      ],
      "metadata": {
        "id": "KLnGK8e6YXtC"
      }
    },
    {
      "cell_type": "markdown",
      "source": [
        "## **Comparative Analysis**\n",
        "\n",
        "**1. Memory usage**\n",
        " - Traditional Methods: Batch Processing. Typically involves processing large datasets in batches. Memory usage can be high as the entire batch needs to be loaded into memory for processing.\n",
        " - Advanced Strategies: In-Memory Processing. Utilizes in-memory processing techniques where data is kept in RAM, significantly reducing the need to read and write to disk. This can lead to lower memory usage and faster processing.\n",
        "\n",
        "**2. Computation Time**\n",
        "  - Traditional Methods: Slower computation time, especially for large datasets.\n",
        "  - Advanced Strategies: Generally faster due to parallelism, in-memory processing, and real-time capabilities.\n",
        "\n",
        "## **Advantages of Advances Strategies**\n",
        "**1. Load Less Data:**\n",
        " - Lower Memory Requirements: Minimizes memory usage, particularly beneficial for systems with limited resources.\n",
        " - Faster Query Response: Improves query response times by focusing on loading only essential data.\n",
        "\n",
        "**2. Chunking:**\n",
        " - Efficient Storage: Enhances storage efficiency by breaking data into manageable chunks, enabling efficient retrieval.\n",
        " - Parallel Processing: Facilitates parallel processing and distributed computing, improving scalability and performance.\n",
        "\n",
        "**3. Optimize Data Types:**\n",
        " - Faster Computations: Optimizes data storage and retrieval, speeding up computations.\n",
        " - Memory Efficiency: Reduces memory footprint, allowing for the efficient use of available memory resources.\n",
        "\n",
        "**4. Sampling:**\n",
        " - Reduced Processing Time: Speeds up analytics by working with a representative subset of the data.\n",
        " - Resource Efficiency: Reduces the amount of data to be processed, saving computational resources and improving efficiency.\n",
        "\n",
        "**5. Parallelized with Dask :**\n",
        " - Scalability: Enables scalable parallel computing across clusters, accommodating growing data volumes.\n",
        " - Resource Optimization: Efficiently utilizes computational resources, leading to improved performance."
      ],
      "metadata": {
        "id": "sVHl5Agn0cni"
      }
    },
    {
      "cell_type": "markdown",
      "source": [
        "## **Conclusion**\n",
        "\n",
        "In conclusion, the advanced strategies for handling big data, including sampling, chunking, loading less data, parallelized processing with Dask, and optimizing data types, collectively contribute to overcoming the challenges associated with large and complex datasets.\n",
        "\n",
        "- Enhanced performance. Optimizing data types contribute to improved performance. These strategies reduce memory requirements, speed up data retrieval, and enhance query performance.\n",
        "- Minimized data transfer and storage costs. Loading less data and optimized data types contribute to reduced data transfer and storage costs. By only working with necessary data subsets and optimizing storage formats, organizations can achieve significant cost savings.\n",
        "- Scalability and parallel processing. The strategies support scalability by enabling parallel processing. Chunking and parallelized processing with tools like Dask facilitate the distribution of computations across multiple nodes or cores, enhancing speed and efficiency."
      ],
      "metadata": {
        "id": "Hg9OxFQe36Bq"
      }
    }
  ]
}
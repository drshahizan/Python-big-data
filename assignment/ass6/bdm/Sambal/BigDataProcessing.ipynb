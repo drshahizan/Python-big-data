{
  "nbformat": 4,
  "nbformat_minor": 0,
  "metadata": {
    "colab": {
      "provenance": [],
      "toc_visible": true,
      "authorship_tag": "ABX9TyM4qqZRtWAYbYXPgz2dkpNe",
      "include_colab_link": true
    },
    "kernelspec": {
      "name": "python3",
      "display_name": "Python 3"
    },
    "language_info": {
      "name": "python"
    }
  },
  "cells": [
    {
      "cell_type": "markdown",
      "metadata": {
        "id": "view-in-github",
        "colab_type": "text"
      },
      "source": [
        "<a href=\"https://colab.research.google.com/github/drshahizan/Python-big-data/blob/main/assignment/ass6/bdm/Sambal/BigDataProcessing.ipynb\" target=\"_parent\"><img src=\"https://colab.research.google.com/assets/colab-badge.svg\" alt=\"Open In Colab\"/></a>"
      ]
    },
    {
      "cell_type": "markdown",
      "source": [
        "## **Assignment 6: Mastering Big Data Handling**\n",
        "\n",
        "**GROUP NAME: SAMBAL**\n",
        "\n",
        "**TEAM MEMBERS:**\n",
        "```\n",
        "MOHD NOR BIN MOHIDIN (MCS231008)\n",
        "ZUHAYR ARIF BIN ZAKARIA (MCS231002)\n",
        "```"
      ],
      "metadata": {
        "id": "vz3xg_TCV9t1"
      }
    },
    {
      "cell_type": "markdown",
      "source": [
        "##Downloading Kaggle Data set directly into Google Colab"
      ],
      "metadata": {
        "id": "xdeV9XkEEZ6n"
      }
    },
    {
      "cell_type": "code",
      "source": [
        "# Install Kaggle Phyton Library\n",
        "! pip install kaggle"
      ],
      "metadata": {
        "colab": {
          "base_uri": "https://localhost:8080/"
        },
        "id": "wgEp9cLsGUMu",
        "outputId": "8256baf6-e287-479d-a6d3-5cf6cb41889b"
      },
      "execution_count": null,
      "outputs": [
        {
          "output_type": "stream",
          "name": "stdout",
          "text": [
            "Requirement already satisfied: kaggle in /usr/local/lib/python3.10/dist-packages (1.5.16)\n",
            "Requirement already satisfied: six>=1.10 in /usr/local/lib/python3.10/dist-packages (from kaggle) (1.16.0)\n",
            "Requirement already satisfied: certifi in /usr/local/lib/python3.10/dist-packages (from kaggle) (2023.11.17)\n",
            "Requirement already satisfied: python-dateutil in /usr/local/lib/python3.10/dist-packages (from kaggle) (2.8.2)\n",
            "Requirement already satisfied: requests in /usr/local/lib/python3.10/dist-packages (from kaggle) (2.31.0)\n",
            "Requirement already satisfied: tqdm in /usr/local/lib/python3.10/dist-packages (from kaggle) (4.66.1)\n",
            "Requirement already satisfied: python-slugify in /usr/local/lib/python3.10/dist-packages (from kaggle) (8.0.1)\n",
            "Requirement already satisfied: urllib3 in /usr/local/lib/python3.10/dist-packages (from kaggle) (2.0.7)\n",
            "Requirement already satisfied: bleach in /usr/local/lib/python3.10/dist-packages (from kaggle) (6.1.0)\n",
            "Requirement already satisfied: webencodings in /usr/local/lib/python3.10/dist-packages (from bleach->kaggle) (0.5.1)\n",
            "Requirement already satisfied: text-unidecode>=1.3 in /usr/local/lib/python3.10/dist-packages (from python-slugify->kaggle) (1.3)\n",
            "Requirement already satisfied: charset-normalizer<4,>=2 in /usr/local/lib/python3.10/dist-packages (from requests->kaggle) (3.3.2)\n",
            "Requirement already satisfied: idna<4,>=2.5 in /usr/local/lib/python3.10/dist-packages (from requests->kaggle) (3.6)\n"
          ]
        }
      ]
    },
    {
      "cell_type": "code",
      "execution_count": null,
      "metadata": {
        "colab": {
          "base_uri": "https://localhost:8080/"
        },
        "id": "k_iHqq1v_bgH",
        "outputId": "8f8b2692-dadd-40fa-dda2-946f8188cc47"
      },
      "outputs": [
        {
          "output_type": "stream",
          "name": "stdout",
          "text": [
            "Mounted at /content/drive\n"
          ]
        }
      ],
      "source": [
        "# Mount the Google Drive to store Kaggle API Credential\n",
        "from google.colab import drive\n",
        "drive.mount('/content/drive')"
      ]
    },
    {
      "cell_type": "code",
      "source": [
        "# Make a directory for Kaggle at temporary location on drive\n",
        "! mkdir ~/.kaggle"
      ],
      "metadata": {
        "id": "P6GLBRaXHdvL"
      },
      "execution_count": null,
      "outputs": []
    },
    {
      "cell_type": "code",
      "source": [
        "# upload the jason file to google drive and copy to temporary location\n",
        "!cp /content/drive/MyDrive/kaggle.json ~/.kaggle/kaggle.json\n",
        "\n",
        "! chmod 600 ~/.kaggle/kaggle.json"
      ],
      "metadata": {
        "id": "t7O0PBgfHoAw"
      },
      "execution_count": null,
      "outputs": []
    },
    {
      "cell_type": "code",
      "source": [
        "!kaggle datasets download -d threnjen/2019-airline-delays-and-cancellations -f full_data_flightdelay.csv"
      ],
      "metadata": {
        "colab": {
          "base_uri": "https://localhost:8080/"
        },
        "id": "sJNZVEnRWVDZ",
        "outputId": "21db2d04-eea3-4357-d06f-a0816742f1fb"
      },
      "execution_count": null,
      "outputs": [
        {
          "output_type": "stream",
          "name": "stdout",
          "text": [
            "Downloading full_data_flightdelay.csv.zip to /content\n",
            " 98% 80.0M/81.5M [00:00<00:00, 137MB/s]\n",
            "100% 81.5M/81.5M [00:00<00:00, 120MB/s]\n"
          ]
        }
      ]
    },
    {
      "cell_type": "code",
      "source": [
        "! unzip full_data_flightdelay.csv.zip"
      ],
      "metadata": {
        "colab": {
          "base_uri": "https://localhost:8080/"
        },
        "id": "xQEXW2buXLyb",
        "outputId": "bfa03d0e-f192-4d52-fb8d-f25fc2459de9"
      },
      "execution_count": null,
      "outputs": [
        {
          "output_type": "stream",
          "name": "stdout",
          "text": [
            "Archive:  full_data_flightdelay.csv.zip\n",
            "  inflating: full_data_flightdelay.csv  \n"
          ]
        }
      ]
    },
    {
      "cell_type": "code",
      "source": [
        "# Importing necessary libraries\n",
        "import pandas as pd\n",
        "import numpy as np\n",
        "import matplotlib.pyplot as plt\n",
        "import seaborn as sns"
      ],
      "metadata": {
        "id": "eixffJpxW_4J"
      },
      "execution_count": null,
      "outputs": []
    },
    {
      "cell_type": "markdown",
      "source": [
        "Checking how much memory used if loading full CSV"
      ],
      "metadata": {
        "id": "Oh3oCLcGlEOw"
      }
    },
    {
      "cell_type": "code",
      "source": [
        "# Checking information if loading full CSV\n",
        "\n",
        "df = pd.read_csv(\"full_data_flightdelay.csv\")\n",
        "df.info(verbose=False, memory_usage=\"deep\")"
      ],
      "metadata": {
        "colab": {
          "base_uri": "https://localhost:8080/"
        },
        "id": "F9d_2wTvXVho",
        "outputId": "0f165326-4655-42e2-82dc-20e0d66a998f"
      },
      "execution_count": null,
      "outputs": [
        {
          "output_type": "stream",
          "name": "stdout",
          "text": [
            "<class 'pandas.core.frame.DataFrame'>\n",
            "RangeIndex: 6489062 entries, 0 to 6489061\n",
            "Columns: 26 entries, MONTH to AWND\n",
            "dtypes: float64(9), int64(13), object(4)\n",
            "memory usage: 2.9 GB\n"
          ]
        }
      ]
    },
    {
      "cell_type": "markdown",
      "source": [
        "##Strategies for Big Dataset"
      ],
      "metadata": {
        "id": "gAUP_9w_jzrR"
      }
    },
    {
      "cell_type": "markdown",
      "source": [
        "###**1) Load Less Data**"
      ],
      "metadata": {
        "id": "GRFAqrzf87HM"
      }
    },
    {
      "cell_type": "markdown",
      "source": [
        "Load only required columns instead all columns"
      ],
      "metadata": {
        "id": "IryOzaPIlX-s"
      }
    },
    {
      "cell_type": "code",
      "source": [
        "# Check the columns name\n",
        "df.columns"
      ],
      "metadata": {
        "colab": {
          "base_uri": "https://localhost:8080/"
        },
        "id": "TH8o64iIgjVG",
        "outputId": "42f1d2ca-fc49-4da4-9bda-bc50f661c293"
      },
      "execution_count": null,
      "outputs": [
        {
          "output_type": "execute_result",
          "data": {
            "text/plain": [
              "Index(['MONTH', 'DAY_OF_WEEK', 'DEP_DEL15', 'DEP_TIME_BLK', 'DISTANCE_GROUP',\n",
              "       'SEGMENT_NUMBER', 'CONCURRENT_FLIGHTS', 'NUMBER_OF_SEATS',\n",
              "       'CARRIER_NAME', 'AIRPORT_FLIGHTS_MONTH', 'AIRLINE_FLIGHTS_MONTH',\n",
              "       'AIRLINE_AIRPORT_FLIGHTS_MONTH', 'AVG_MONTHLY_PASS_AIRPORT',\n",
              "       'AVG_MONTHLY_PASS_AIRLINE', 'FLT_ATTENDANTS_PER_PASS',\n",
              "       'GROUND_SERV_PER_PASS', 'PLANE_AGE', 'DEPARTING_AIRPORT', 'LATITUDE',\n",
              "       'LONGITUDE', 'PREVIOUS_AIRPORT', 'PRCP', 'SNOW', 'SNWD', 'TMAX',\n",
              "       'AWND'],\n",
              "      dtype='object')"
            ]
          },
          "metadata": {},
          "execution_count": 9
        }
      ]
    },
    {
      "cell_type": "code",
      "source": [
        "# Only 10 columns needed instead of 26 columns\n",
        "\n",
        "df = pd.read_csv(\"full_data_flightdelay.csv\", usecols=['MONTH', 'DAY_OF_WEEK', 'DEP_DEL15', 'DEP_TIME_BLK', 'DISTANCE_GROUP','SEGMENT_NUMBER', 'CONCURRENT_FLIGHTS','CARRIER_NAME', 'AIRPORT_FLIGHTS_MONTH', 'AIRLINE_FLIGHTS_MONTH'])\n",
        "\n",
        "# View Sampel Data for 10 columns\n",
        "df"
      ],
      "metadata": {
        "colab": {
          "base_uri": "https://localhost:8080/",
          "height": 600
        },
        "id": "qNAy43DWjg2M",
        "outputId": "45f210fb-4f7e-4a35-8f5b-8d73bf0665dc"
      },
      "execution_count": null,
      "outputs": [
        {
          "output_type": "execute_result",
          "data": {
            "text/plain": [
              "         MONTH  DAY_OF_WEEK  DEP_DEL15 DEP_TIME_BLK  DISTANCE_GROUP  \\\n",
              "0            1            7          0    0800-0859               2   \n",
              "1            1            7          0    0700-0759               7   \n",
              "2            1            7          0    0600-0659               7   \n",
              "3            1            7          0    0600-0659               9   \n",
              "4            1            7          0    0001-0559               7   \n",
              "...        ...          ...        ...          ...             ...   \n",
              "6489057     12            7          0    2300-2359               1   \n",
              "6489058     12            7          0    1800-1859               1   \n",
              "6489059     12            7          0    2000-2059               1   \n",
              "6489060     12            7          0    2100-2159               1   \n",
              "6489061     12            7          1    2100-2159               1   \n",
              "\n",
              "         SEGMENT_NUMBER  CONCURRENT_FLIGHTS            CARRIER_NAME  \\\n",
              "0                     1                  25  Southwest Airlines Co.   \n",
              "1                     1                  29    Delta Air Lines Inc.   \n",
              "2                     1                  27    Delta Air Lines Inc.   \n",
              "3                     1                  27    Delta Air Lines Inc.   \n",
              "4                     1                  10        Spirit Air Lines   \n",
              "...                 ...                 ...                     ...   \n",
              "6489057              11                   3  Hawaiian Airlines Inc.   \n",
              "6489058              11                   2  Hawaiian Airlines Inc.   \n",
              "6489059              11                   2  Hawaiian Airlines Inc.   \n",
              "6489060              12                   3  Hawaiian Airlines Inc.   \n",
              "6489061              12                   3  Hawaiian Airlines Inc.   \n",
              "\n",
              "         AIRPORT_FLIGHTS_MONTH  AIRLINE_FLIGHTS_MONTH  \n",
              "0                        13056                 107363  \n",
              "1                        13056                  73508  \n",
              "2                        13056                  73508  \n",
              "3                        13056                  73508  \n",
              "4                        13056                  15023  \n",
              "...                        ...                    ...  \n",
              "6489057                   1318                   7268  \n",
              "6489058                   1318                   7268  \n",
              "6489059                   1318                   7268  \n",
              "6489060                   1318                   7268  \n",
              "6489061                   1318                   7268  \n",
              "\n",
              "[6489062 rows x 10 columns]"
            ],
            "text/html": [
              "\n",
              "  <div id=\"df-b52b02c0-4b46-4fb6-bbc5-b2369858e9fa\" class=\"colab-df-container\">\n",
              "    <div>\n",
              "<style scoped>\n",
              "    .dataframe tbody tr th:only-of-type {\n",
              "        vertical-align: middle;\n",
              "    }\n",
              "\n",
              "    .dataframe tbody tr th {\n",
              "        vertical-align: top;\n",
              "    }\n",
              "\n",
              "    .dataframe thead th {\n",
              "        text-align: right;\n",
              "    }\n",
              "</style>\n",
              "<table border=\"1\" class=\"dataframe\">\n",
              "  <thead>\n",
              "    <tr style=\"text-align: right;\">\n",
              "      <th></th>\n",
              "      <th>MONTH</th>\n",
              "      <th>DAY_OF_WEEK</th>\n",
              "      <th>DEP_DEL15</th>\n",
              "      <th>DEP_TIME_BLK</th>\n",
              "      <th>DISTANCE_GROUP</th>\n",
              "      <th>SEGMENT_NUMBER</th>\n",
              "      <th>CONCURRENT_FLIGHTS</th>\n",
              "      <th>CARRIER_NAME</th>\n",
              "      <th>AIRPORT_FLIGHTS_MONTH</th>\n",
              "      <th>AIRLINE_FLIGHTS_MONTH</th>\n",
              "    </tr>\n",
              "  </thead>\n",
              "  <tbody>\n",
              "    <tr>\n",
              "      <th>0</th>\n",
              "      <td>1</td>\n",
              "      <td>7</td>\n",
              "      <td>0</td>\n",
              "      <td>0800-0859</td>\n",
              "      <td>2</td>\n",
              "      <td>1</td>\n",
              "      <td>25</td>\n",
              "      <td>Southwest Airlines Co.</td>\n",
              "      <td>13056</td>\n",
              "      <td>107363</td>\n",
              "    </tr>\n",
              "    <tr>\n",
              "      <th>1</th>\n",
              "      <td>1</td>\n",
              "      <td>7</td>\n",
              "      <td>0</td>\n",
              "      <td>0700-0759</td>\n",
              "      <td>7</td>\n",
              "      <td>1</td>\n",
              "      <td>29</td>\n",
              "      <td>Delta Air Lines Inc.</td>\n",
              "      <td>13056</td>\n",
              "      <td>73508</td>\n",
              "    </tr>\n",
              "    <tr>\n",
              "      <th>2</th>\n",
              "      <td>1</td>\n",
              "      <td>7</td>\n",
              "      <td>0</td>\n",
              "      <td>0600-0659</td>\n",
              "      <td>7</td>\n",
              "      <td>1</td>\n",
              "      <td>27</td>\n",
              "      <td>Delta Air Lines Inc.</td>\n",
              "      <td>13056</td>\n",
              "      <td>73508</td>\n",
              "    </tr>\n",
              "    <tr>\n",
              "      <th>3</th>\n",
              "      <td>1</td>\n",
              "      <td>7</td>\n",
              "      <td>0</td>\n",
              "      <td>0600-0659</td>\n",
              "      <td>9</td>\n",
              "      <td>1</td>\n",
              "      <td>27</td>\n",
              "      <td>Delta Air Lines Inc.</td>\n",
              "      <td>13056</td>\n",
              "      <td>73508</td>\n",
              "    </tr>\n",
              "    <tr>\n",
              "      <th>4</th>\n",
              "      <td>1</td>\n",
              "      <td>7</td>\n",
              "      <td>0</td>\n",
              "      <td>0001-0559</td>\n",
              "      <td>7</td>\n",
              "      <td>1</td>\n",
              "      <td>10</td>\n",
              "      <td>Spirit Air Lines</td>\n",
              "      <td>13056</td>\n",
              "      <td>15023</td>\n",
              "    </tr>\n",
              "    <tr>\n",
              "      <th>...</th>\n",
              "      <td>...</td>\n",
              "      <td>...</td>\n",
              "      <td>...</td>\n",
              "      <td>...</td>\n",
              "      <td>...</td>\n",
              "      <td>...</td>\n",
              "      <td>...</td>\n",
              "      <td>...</td>\n",
              "      <td>...</td>\n",
              "      <td>...</td>\n",
              "    </tr>\n",
              "    <tr>\n",
              "      <th>6489057</th>\n",
              "      <td>12</td>\n",
              "      <td>7</td>\n",
              "      <td>0</td>\n",
              "      <td>2300-2359</td>\n",
              "      <td>1</td>\n",
              "      <td>11</td>\n",
              "      <td>3</td>\n",
              "      <td>Hawaiian Airlines Inc.</td>\n",
              "      <td>1318</td>\n",
              "      <td>7268</td>\n",
              "    </tr>\n",
              "    <tr>\n",
              "      <th>6489058</th>\n",
              "      <td>12</td>\n",
              "      <td>7</td>\n",
              "      <td>0</td>\n",
              "      <td>1800-1859</td>\n",
              "      <td>1</td>\n",
              "      <td>11</td>\n",
              "      <td>2</td>\n",
              "      <td>Hawaiian Airlines Inc.</td>\n",
              "      <td>1318</td>\n",
              "      <td>7268</td>\n",
              "    </tr>\n",
              "    <tr>\n",
              "      <th>6489059</th>\n",
              "      <td>12</td>\n",
              "      <td>7</td>\n",
              "      <td>0</td>\n",
              "      <td>2000-2059</td>\n",
              "      <td>1</td>\n",
              "      <td>11</td>\n",
              "      <td>2</td>\n",
              "      <td>Hawaiian Airlines Inc.</td>\n",
              "      <td>1318</td>\n",
              "      <td>7268</td>\n",
              "    </tr>\n",
              "    <tr>\n",
              "      <th>6489060</th>\n",
              "      <td>12</td>\n",
              "      <td>7</td>\n",
              "      <td>0</td>\n",
              "      <td>2100-2159</td>\n",
              "      <td>1</td>\n",
              "      <td>12</td>\n",
              "      <td>3</td>\n",
              "      <td>Hawaiian Airlines Inc.</td>\n",
              "      <td>1318</td>\n",
              "      <td>7268</td>\n",
              "    </tr>\n",
              "    <tr>\n",
              "      <th>6489061</th>\n",
              "      <td>12</td>\n",
              "      <td>7</td>\n",
              "      <td>1</td>\n",
              "      <td>2100-2159</td>\n",
              "      <td>1</td>\n",
              "      <td>12</td>\n",
              "      <td>3</td>\n",
              "      <td>Hawaiian Airlines Inc.</td>\n",
              "      <td>1318</td>\n",
              "      <td>7268</td>\n",
              "    </tr>\n",
              "  </tbody>\n",
              "</table>\n",
              "<p>6489062 rows × 10 columns</p>\n",
              "</div>\n",
              "    <div class=\"colab-df-buttons\">\n",
              "\n",
              "  <div class=\"colab-df-container\">\n",
              "    <button class=\"colab-df-convert\" onclick=\"convertToInteractive('df-b52b02c0-4b46-4fb6-bbc5-b2369858e9fa')\"\n",
              "            title=\"Convert this dataframe to an interactive table.\"\n",
              "            style=\"display:none;\">\n",
              "\n",
              "  <svg xmlns=\"http://www.w3.org/2000/svg\" height=\"24px\" viewBox=\"0 -960 960 960\">\n",
              "    <path d=\"M120-120v-720h720v720H120Zm60-500h600v-160H180v160Zm220 220h160v-160H400v160Zm0 220h160v-160H400v160ZM180-400h160v-160H180v160Zm440 0h160v-160H620v160ZM180-180h160v-160H180v160Zm440 0h160v-160H620v160Z\"/>\n",
              "  </svg>\n",
              "    </button>\n",
              "\n",
              "  <style>\n",
              "    .colab-df-container {\n",
              "      display:flex;\n",
              "      gap: 12px;\n",
              "    }\n",
              "\n",
              "    .colab-df-convert {\n",
              "      background-color: #E8F0FE;\n",
              "      border: none;\n",
              "      border-radius: 50%;\n",
              "      cursor: pointer;\n",
              "      display: none;\n",
              "      fill: #1967D2;\n",
              "      height: 32px;\n",
              "      padding: 0 0 0 0;\n",
              "      width: 32px;\n",
              "    }\n",
              "\n",
              "    .colab-df-convert:hover {\n",
              "      background-color: #E2EBFA;\n",
              "      box-shadow: 0px 1px 2px rgba(60, 64, 67, 0.3), 0px 1px 3px 1px rgba(60, 64, 67, 0.15);\n",
              "      fill: #174EA6;\n",
              "    }\n",
              "\n",
              "    .colab-df-buttons div {\n",
              "      margin-bottom: 4px;\n",
              "    }\n",
              "\n",
              "    [theme=dark] .colab-df-convert {\n",
              "      background-color: #3B4455;\n",
              "      fill: #D2E3FC;\n",
              "    }\n",
              "\n",
              "    [theme=dark] .colab-df-convert:hover {\n",
              "      background-color: #434B5C;\n",
              "      box-shadow: 0px 1px 3px 1px rgba(0, 0, 0, 0.15);\n",
              "      filter: drop-shadow(0px 1px 2px rgba(0, 0, 0, 0.3));\n",
              "      fill: #FFFFFF;\n",
              "    }\n",
              "  </style>\n",
              "\n",
              "    <script>\n",
              "      const buttonEl =\n",
              "        document.querySelector('#df-b52b02c0-4b46-4fb6-bbc5-b2369858e9fa button.colab-df-convert');\n",
              "      buttonEl.style.display =\n",
              "        google.colab.kernel.accessAllowed ? 'block' : 'none';\n",
              "\n",
              "      async function convertToInteractive(key) {\n",
              "        const element = document.querySelector('#df-b52b02c0-4b46-4fb6-bbc5-b2369858e9fa');\n",
              "        const dataTable =\n",
              "          await google.colab.kernel.invokeFunction('convertToInteractive',\n",
              "                                                    [key], {});\n",
              "        if (!dataTable) return;\n",
              "\n",
              "        const docLinkHtml = 'Like what you see? Visit the ' +\n",
              "          '<a target=\"_blank\" href=https://colab.research.google.com/notebooks/data_table.ipynb>data table notebook</a>'\n",
              "          + ' to learn more about interactive tables.';\n",
              "        element.innerHTML = '';\n",
              "        dataTable['output_type'] = 'display_data';\n",
              "        await google.colab.output.renderOutput(dataTable, element);\n",
              "        const docLink = document.createElement('div');\n",
              "        docLink.innerHTML = docLinkHtml;\n",
              "        element.appendChild(docLink);\n",
              "      }\n",
              "    </script>\n",
              "  </div>\n",
              "\n",
              "\n",
              "<div id=\"df-28ebdb5a-4ea9-46f4-9624-ad234b6ac47b\">\n",
              "  <button class=\"colab-df-quickchart\" onclick=\"quickchart('df-28ebdb5a-4ea9-46f4-9624-ad234b6ac47b')\"\n",
              "            title=\"Suggest charts\"\n",
              "            style=\"display:none;\">\n",
              "\n",
              "<svg xmlns=\"http://www.w3.org/2000/svg\" height=\"24px\"viewBox=\"0 0 24 24\"\n",
              "     width=\"24px\">\n",
              "    <g>\n",
              "        <path d=\"M19 3H5c-1.1 0-2 .9-2 2v14c0 1.1.9 2 2 2h14c1.1 0 2-.9 2-2V5c0-1.1-.9-2-2-2zM9 17H7v-7h2v7zm4 0h-2V7h2v10zm4 0h-2v-4h2v4z\"/>\n",
              "    </g>\n",
              "</svg>\n",
              "  </button>\n",
              "\n",
              "<style>\n",
              "  .colab-df-quickchart {\n",
              "      --bg-color: #E8F0FE;\n",
              "      --fill-color: #1967D2;\n",
              "      --hover-bg-color: #E2EBFA;\n",
              "      --hover-fill-color: #174EA6;\n",
              "      --disabled-fill-color: #AAA;\n",
              "      --disabled-bg-color: #DDD;\n",
              "  }\n",
              "\n",
              "  [theme=dark] .colab-df-quickchart {\n",
              "      --bg-color: #3B4455;\n",
              "      --fill-color: #D2E3FC;\n",
              "      --hover-bg-color: #434B5C;\n",
              "      --hover-fill-color: #FFFFFF;\n",
              "      --disabled-bg-color: #3B4455;\n",
              "      --disabled-fill-color: #666;\n",
              "  }\n",
              "\n",
              "  .colab-df-quickchart {\n",
              "    background-color: var(--bg-color);\n",
              "    border: none;\n",
              "    border-radius: 50%;\n",
              "    cursor: pointer;\n",
              "    display: none;\n",
              "    fill: var(--fill-color);\n",
              "    height: 32px;\n",
              "    padding: 0;\n",
              "    width: 32px;\n",
              "  }\n",
              "\n",
              "  .colab-df-quickchart:hover {\n",
              "    background-color: var(--hover-bg-color);\n",
              "    box-shadow: 0 1px 2px rgba(60, 64, 67, 0.3), 0 1px 3px 1px rgba(60, 64, 67, 0.15);\n",
              "    fill: var(--button-hover-fill-color);\n",
              "  }\n",
              "\n",
              "  .colab-df-quickchart-complete:disabled,\n",
              "  .colab-df-quickchart-complete:disabled:hover {\n",
              "    background-color: var(--disabled-bg-color);\n",
              "    fill: var(--disabled-fill-color);\n",
              "    box-shadow: none;\n",
              "  }\n",
              "\n",
              "  .colab-df-spinner {\n",
              "    border: 2px solid var(--fill-color);\n",
              "    border-color: transparent;\n",
              "    border-bottom-color: var(--fill-color);\n",
              "    animation:\n",
              "      spin 1s steps(1) infinite;\n",
              "  }\n",
              "\n",
              "  @keyframes spin {\n",
              "    0% {\n",
              "      border-color: transparent;\n",
              "      border-bottom-color: var(--fill-color);\n",
              "      border-left-color: var(--fill-color);\n",
              "    }\n",
              "    20% {\n",
              "      border-color: transparent;\n",
              "      border-left-color: var(--fill-color);\n",
              "      border-top-color: var(--fill-color);\n",
              "    }\n",
              "    30% {\n",
              "      border-color: transparent;\n",
              "      border-left-color: var(--fill-color);\n",
              "      border-top-color: var(--fill-color);\n",
              "      border-right-color: var(--fill-color);\n",
              "    }\n",
              "    40% {\n",
              "      border-color: transparent;\n",
              "      border-right-color: var(--fill-color);\n",
              "      border-top-color: var(--fill-color);\n",
              "    }\n",
              "    60% {\n",
              "      border-color: transparent;\n",
              "      border-right-color: var(--fill-color);\n",
              "    }\n",
              "    80% {\n",
              "      border-color: transparent;\n",
              "      border-right-color: var(--fill-color);\n",
              "      border-bottom-color: var(--fill-color);\n",
              "    }\n",
              "    90% {\n",
              "      border-color: transparent;\n",
              "      border-bottom-color: var(--fill-color);\n",
              "    }\n",
              "  }\n",
              "</style>\n",
              "\n",
              "  <script>\n",
              "    async function quickchart(key) {\n",
              "      const quickchartButtonEl =\n",
              "        document.querySelector('#' + key + ' button');\n",
              "      quickchartButtonEl.disabled = true;  // To prevent multiple clicks.\n",
              "      quickchartButtonEl.classList.add('colab-df-spinner');\n",
              "      try {\n",
              "        const charts = await google.colab.kernel.invokeFunction(\n",
              "            'suggestCharts', [key], {});\n",
              "      } catch (error) {\n",
              "        console.error('Error during call to suggestCharts:', error);\n",
              "      }\n",
              "      quickchartButtonEl.classList.remove('colab-df-spinner');\n",
              "      quickchartButtonEl.classList.add('colab-df-quickchart-complete');\n",
              "    }\n",
              "    (() => {\n",
              "      let quickchartButtonEl =\n",
              "        document.querySelector('#df-28ebdb5a-4ea9-46f4-9624-ad234b6ac47b button');\n",
              "      quickchartButtonEl.style.display =\n",
              "        google.colab.kernel.accessAllowed ? 'block' : 'none';\n",
              "    })();\n",
              "  </script>\n",
              "</div>\n",
              "    </div>\n",
              "  </div>\n"
            ]
          },
          "metadata": {},
          "execution_count": 10
        }
      ]
    },
    {
      "cell_type": "markdown",
      "source": [
        "Checking memory used after load only 10 columns needed"
      ],
      "metadata": {
        "id": "QoWL3ANcpbFY"
      }
    },
    {
      "cell_type": "code",
      "source": [
        "df.info(verbose=False, memory_usage=\"deep\")"
      ],
      "metadata": {
        "colab": {
          "base_uri": "https://localhost:8080/"
        },
        "id": "JLT97-QApUUQ",
        "outputId": "38b61feb-fecf-454e-8c75-5e45402a1405"
      },
      "execution_count": null,
      "outputs": [
        {
          "output_type": "stream",
          "name": "stdout",
          "text": [
            "<class 'pandas.core.frame.DataFrame'>\n",
            "RangeIndex: 6489062 entries, 0 to 6489061\n",
            "Columns: 10 entries, MONTH to AIRLINE_FLIGHTS_MONTH\n",
            "dtypes: int64(8), object(2)\n",
            "memory usage: 1.3 GB\n"
          ]
        }
      ]
    },
    {
      "cell_type": "markdown",
      "source": [
        "As a result, load less data which is load only required columns has reduce memory usage from 2.9 GB to 1.3 GB"
      ],
      "metadata": {
        "id": "z5T5zlXxrCXU"
      }
    },
    {
      "cell_type": "markdown",
      "source": [
        "###**2) Use Chunking**"
      ],
      "metadata": {
        "id": "NYD-l8lKqpZT"
      }
    },
    {
      "cell_type": "code",
      "source": [
        "# Declare the size of the chunk in the beginning.\n",
        "# Then using read_csv() with the chunksize parameter, returns an object we can iterate over.\n",
        "\n",
        "chunk_size=50000\n",
        "batch_no=1\n",
        "for chunk in pd.read_csv('full_data_flightdelay.csv',chunksize=chunk_size):\n",
        "    chunk.to_csv('chunk'+str(batch_no)+'.csv',index=False)\n",
        "    batch_no+=1"
      ],
      "metadata": {
        "id": "pR9SAni_qF6R"
      },
      "execution_count": null,
      "outputs": []
    },
    {
      "cell_type": "code",
      "source": [
        "# Now we have multiple chunks, and each chunk can easily be loaded as a pandas dataframe.\n",
        "\n",
        "df1 = pd.read_csv('chunk1.csv')\n",
        "df1.info()"
      ],
      "metadata": {
        "colab": {
          "base_uri": "https://localhost:8080/"
        },
        "id": "iJvltGdewN_b",
        "outputId": "07a3de46-3687-4dea-e9d2-68fe952f5dd9"
      },
      "execution_count": null,
      "outputs": [
        {
          "output_type": "stream",
          "name": "stdout",
          "text": [
            "<class 'pandas.core.frame.DataFrame'>\n",
            "RangeIndex: 50000 entries, 0 to 49999\n",
            "Data columns (total 26 columns):\n",
            " #   Column                         Non-Null Count  Dtype  \n",
            "---  ------                         --------------  -----  \n",
            " 0   MONTH                          50000 non-null  int64  \n",
            " 1   DAY_OF_WEEK                    50000 non-null  int64  \n",
            " 2   DEP_DEL15                      50000 non-null  int64  \n",
            " 3   DEP_TIME_BLK                   50000 non-null  object \n",
            " 4   DISTANCE_GROUP                 50000 non-null  int64  \n",
            " 5   SEGMENT_NUMBER                 50000 non-null  int64  \n",
            " 6   CONCURRENT_FLIGHTS             50000 non-null  int64  \n",
            " 7   NUMBER_OF_SEATS                50000 non-null  int64  \n",
            " 8   CARRIER_NAME                   50000 non-null  object \n",
            " 9   AIRPORT_FLIGHTS_MONTH          50000 non-null  int64  \n",
            " 10  AIRLINE_FLIGHTS_MONTH          50000 non-null  int64  \n",
            " 11  AIRLINE_AIRPORT_FLIGHTS_MONTH  50000 non-null  int64  \n",
            " 12  AVG_MONTHLY_PASS_AIRPORT       50000 non-null  int64  \n",
            " 13  AVG_MONTHLY_PASS_AIRLINE       50000 non-null  int64  \n",
            " 14  FLT_ATTENDANTS_PER_PASS        50000 non-null  float64\n",
            " 15  GROUND_SERV_PER_PASS           50000 non-null  float64\n",
            " 16  PLANE_AGE                      50000 non-null  int64  \n",
            " 17  DEPARTING_AIRPORT              50000 non-null  object \n",
            " 18  LATITUDE                       50000 non-null  float64\n",
            " 19  LONGITUDE                      50000 non-null  float64\n",
            " 20  PREVIOUS_AIRPORT               50000 non-null  object \n",
            " 21  PRCP                           50000 non-null  float64\n",
            " 22  SNOW                           50000 non-null  float64\n",
            " 23  SNWD                           50000 non-null  float64\n",
            " 24  TMAX                           50000 non-null  float64\n",
            " 25  AWND                           50000 non-null  float64\n",
            "dtypes: float64(9), int64(13), object(4)\n",
            "memory usage: 9.9+ MB\n"
          ]
        }
      ]
    },
    {
      "cell_type": "markdown",
      "source": [
        "As a result, chunk has reduced the memory usage from 2.9 GB to 0.99 GB by subdividing dataset into smaller part."
      ],
      "metadata": {
        "id": "XZ7eJtXQyOC4"
      }
    },
    {
      "cell_type": "markdown",
      "source": [
        "###**3) Optimize Data Types**"
      ],
      "metadata": {
        "id": "wszGF0HXz8cj"
      }
    },
    {
      "cell_type": "code",
      "source": [
        "# Check if the dataset have null values.\n",
        "df.isnull().sum()"
      ],
      "metadata": {
        "colab": {
          "base_uri": "https://localhost:8080/"
        },
        "id": "OCPGDqVeYoY0",
        "outputId": "cb656903-f5c8-4905-a6be-cd773855575d"
      },
      "execution_count": null,
      "outputs": [
        {
          "output_type": "execute_result",
          "data": {
            "text/plain": [
              "MONTH                    0\n",
              "DAY_OF_WEEK              0\n",
              "DEP_DEL15                0\n",
              "DEP_TIME_BLK             0\n",
              "DISTANCE_GROUP           0\n",
              "SEGMENT_NUMBER           0\n",
              "CONCURRENT_FLIGHTS       0\n",
              "CARRIER_NAME             0\n",
              "AIRPORT_FLIGHTS_MONTH    0\n",
              "AIRLINE_FLIGHTS_MONTH    0\n",
              "dtype: int64"
            ]
          },
          "metadata": {},
          "execution_count": 14
        }
      ]
    },
    {
      "cell_type": "code",
      "source": [
        "# Check memory size before optimize data types\n",
        "from sys import getsizeof\n",
        "start_size = getsizeof(df)/(1024.0**3)\n",
        "print('Dataframe size: %2.2f GB'%start_size)"
      ],
      "metadata": {
        "colab": {
          "base_uri": "https://localhost:8080/"
        },
        "id": "ZVSceNuQg7ud",
        "outputId": "16593863-d25c-4f25-9831-81496f01cdbf"
      },
      "execution_count": null,
      "outputs": [
        {
          "output_type": "stream",
          "name": "stdout",
          "text": [
            "Dataframe size: 1.25 GB\n"
          ]
        }
      ]
    },
    {
      "cell_type": "code",
      "source": [
        "df.dtypes\n"
      ],
      "metadata": {
        "colab": {
          "base_uri": "https://localhost:8080/"
        },
        "id": "I0Q9YM33de6y",
        "outputId": "eb134073-02b9-4f35-bbb9-94b362362680"
      },
      "execution_count": null,
      "outputs": [
        {
          "output_type": "execute_result",
          "data": {
            "text/plain": [
              "MONTH                     int64\n",
              "DAY_OF_WEEK               int64\n",
              "DEP_DEL15                 int64\n",
              "DEP_TIME_BLK             object\n",
              "DISTANCE_GROUP            int64\n",
              "SEGMENT_NUMBER            int64\n",
              "CONCURRENT_FLIGHTS        int64\n",
              "CARRIER_NAME             object\n",
              "AIRPORT_FLIGHTS_MONTH     int64\n",
              "AIRLINE_FLIGHTS_MONTH     int64\n",
              "dtype: object"
            ]
          },
          "metadata": {},
          "execution_count": 16
        }
      ]
    },
    {
      "cell_type": "code",
      "source": [
        "# Find the minimum and maximum values for each columns\n",
        "columns = ['MONTH', 'DAY_OF_WEEK', 'DEP_DEL15', 'DEP_TIME_BLK', 'DISTANCE_GROUP','SEGMENT_NUMBER', 'CONCURRENT_FLIGHTS','CARRIER_NAME', 'AIRPORT_FLIGHTS_MONTH', 'AIRLINE_FLIGHTS_MONTH']\n",
        "\n",
        "min_values = df[columns].min()\n",
        "max_values = df[columns].max()\n",
        "\n",
        "print(\"Minimum values:\")\n",
        "print(min_values)\n",
        "\n",
        "print(\"\\nMaximum values:\")\n",
        "print(max_values)\n"
      ],
      "metadata": {
        "colab": {
          "base_uri": "https://localhost:8080/"
        },
        "id": "pVWwTyFXfvSI",
        "outputId": "6dca09ae-b1f3-4381-e75d-9f8dc73d47a7"
      },
      "execution_count": null,
      "outputs": [
        {
          "output_type": "stream",
          "name": "stdout",
          "text": [
            "Minimum values:\n",
            "MONTH                                       1\n",
            "DAY_OF_WEEK                                 1\n",
            "DEP_DEL15                                   0\n",
            "DEP_TIME_BLK                        0001-0559\n",
            "DISTANCE_GROUP                              1\n",
            "SEGMENT_NUMBER                              1\n",
            "CONCURRENT_FLIGHTS                          1\n",
            "CARRIER_NAME             Alaska Airlines Inc.\n",
            "AIRPORT_FLIGHTS_MONTH                    1100\n",
            "AIRLINE_FLIGHTS_MONTH                    5582\n",
            "dtype: object\n",
            "\n",
            "Maximum values:\n",
            "MONTH                                       12\n",
            "DAY_OF_WEEK                                  7\n",
            "DEP_DEL15                                    1\n",
            "DEP_TIME_BLK                         2300-2359\n",
            "DISTANCE_GROUP                              11\n",
            "SEGMENT_NUMBER                              15\n",
            "CONCURRENT_FLIGHTS                         109\n",
            "CARRIER_NAME             United Air Lines Inc.\n",
            "AIRPORT_FLIGHTS_MONTH                    35256\n",
            "AIRLINE_FLIGHTS_MONTH                   117728\n",
            "dtype: object\n"
          ]
        }
      ]
    },
    {
      "cell_type": "code",
      "source": [
        "# Convert Integer data type into smaller data type (uint8, uint16)\n",
        "# Define columns and their corresponding dtypes based on the min and max values\n",
        "columns_and_dtypes = {\n",
        "    'MONTH': 'uint8' if 0 <= df['MONTH'].min() and df['MONTH'].max() <= 255 else 'uint16',\n",
        "    'DAY_OF_WEEK': 'uint8' if 0 <= df['DAY_OF_WEEK'].min() and df['DAY_OF_WEEK'].max() <= 255 else 'uint16',\n",
        "    'DISTANCE_GROUP': 'uint8' if 0 <= df['DISTANCE_GROUP'].min() and df['DISTANCE_GROUP'].max() <= 255 else 'uint16',\n",
        "    'SEGMENT_NUMBER': 'uint8' if 0 <= df['SEGMENT_NUMBER'].min() and df['SEGMENT_NUMBER'].max() <= 255 else 'uint16',\n",
        "    'CONCURRENT_FLIGHTS': 'uint8' if 0 <= df['CONCURRENT_FLIGHTS'].min() and df['CONCURRENT_FLIGHTS'].max() <= 255 else 'uint16',\n",
        "    'AIRPORT_FLIGHTS_MONTH': 'uint8' if 0 <= df['AIRPORT_FLIGHTS_MONTH'].min() and df['AIRPORT_FLIGHTS_MONTH'].max() <= 255 else 'uint16',\n",
        "    'AIRLINE_FLIGHTS_MONTH': 'uint8' if 0 <= df['AIRLINE_FLIGHTS_MONTH'].min() and df['AIRLINE_FLIGHTS_MONTH'].max() <= 255 else 'uint16',\n",
        "}\n",
        "\n",
        "# Apply the conversion to each column\n",
        "df = df.astype(columns_and_dtypes)\n",
        "\n",
        "# Now df contains the Integer columns datatypes has converted to their optimal integer types\n"
      ],
      "metadata": {
        "id": "-spCteHUyF9l"
      },
      "execution_count": null,
      "outputs": []
    },
    {
      "cell_type": "code",
      "source": [
        "# Convert integer Datatype into boolen data type\n",
        "# Column 'DEP_DEP15' is either 0 or 1, so boolean is sufficient instead of integer\n",
        "\n",
        "df.DEP_DEL15 = df.DEP_DEL15.apply(lambda x: x==1)\n",
        "\n",
        "# Now the column 'DEP_DEP15' has coverted to boolen datatype"
      ],
      "metadata": {
        "id": "3Ub2s5L01Ady"
      },
      "execution_count": null,
      "outputs": []
    },
    {
      "cell_type": "markdown",
      "source": [
        "Column 'CARRIER_NAME' not suitable to convert Datatype from Object into Category because of too many different values. While Column 'DEP_TIME_BLK' can't convert from string to datetime64 due to different format which will cause a null values."
      ],
      "metadata": {
        "id": "N81REl46Vg1Z"
      }
    },
    {
      "cell_type": "code",
      "source": [
        "# Check the DF Types after optimized Data Types\n",
        "df.dtypes\n"
      ],
      "metadata": {
        "colab": {
          "base_uri": "https://localhost:8080/"
        },
        "id": "pJ_L4ZqNdS_2",
        "outputId": "b1f79209-aee1-434f-e1ee-dc95665108f6"
      },
      "execution_count": null,
      "outputs": [
        {
          "output_type": "execute_result",
          "data": {
            "text/plain": [
              "MONTH                     uint8\n",
              "DAY_OF_WEEK               uint8\n",
              "DEP_DEL15                  bool\n",
              "DEP_TIME_BLK             object\n",
              "DISTANCE_GROUP            uint8\n",
              "SEGMENT_NUMBER            uint8\n",
              "CONCURRENT_FLIGHTS        uint8\n",
              "CARRIER_NAME             object\n",
              "AIRPORT_FLIGHTS_MONTH    uint16\n",
              "AIRLINE_FLIGHTS_MONTH    uint16\n",
              "dtype: object"
            ]
          },
          "metadata": {},
          "execution_count": 20
        }
      ]
    },
    {
      "cell_type": "code",
      "source": [
        "# Check Final Size after change the data types\n",
        "\n",
        "final_size = getsizeof(df)/(1024.0**3)\n",
        "print('Dataframe size: %2.2f GB'%final_size)"
      ],
      "metadata": {
        "colab": {
          "base_uri": "https://localhost:8080/"
        },
        "id": "rlxDkHYWWpaY",
        "outputId": "1e53e340-b3ff-4973-ac8b-855169766a29"
      },
      "execution_count": null,
      "outputs": [
        {
          "output_type": "stream",
          "name": "stdout",
          "text": [
            "Dataframe size: 0.93 GB\n"
          ]
        }
      ]
    },
    {
      "cell_type": "code",
      "source": [
        "# Calculate total size reduction after optimize data types.\n",
        "print('total size reduction: %2.1f'%(((start_size-final_size)/start_size)*100))"
      ],
      "metadata": {
        "colab": {
          "base_uri": "https://localhost:8080/"
        },
        "id": "bp7WpZPOahYa",
        "outputId": "17b4fe36-6c07-400f-ee04-1596badce453"
      },
      "execution_count": null,
      "outputs": [
        {
          "output_type": "stream",
          "name": "stdout",
          "text": [
            "total size reduction: 26.0\n"
          ]
        }
      ]
    },
    {
      "cell_type": "markdown",
      "source": [
        "As a result, after optimized the Data Types into uint8, uint16 and boolen, the data frame size has reduce 26% which is from 1.25 GB to 0.93 GB."
      ],
      "metadata": {
        "id": "w6vxS8cVchqz"
      }
    },
    {
      "cell_type": "markdown",
      "source": [
        "###**4) Sampling**"
      ],
      "metadata": {
        "id": "CIxJZNSKekWE"
      }
    },
    {
      "cell_type": "code",
      "source": [
        "# Checking how much memory used before sampling\n",
        "df2 = pd.read_csv(\"full_data_flightdelay.csv\")\n",
        "df2.info(verbose=False, memory_usage=\"deep\")"
      ],
      "metadata": {
        "colab": {
          "base_uri": "https://localhost:8080/"
        },
        "id": "hkohOlwOrgoB",
        "outputId": "2262f652-d35e-43c3-fe9c-a73ab0dae13d"
      },
      "execution_count": null,
      "outputs": [
        {
          "output_type": "stream",
          "name": "stdout",
          "text": [
            "<class 'pandas.core.frame.DataFrame'>\n",
            "RangeIndex: 6489062 entries, 0 to 6489061\n",
            "Columns: 26 entries, MONTH to AWND\n",
            "dtypes: float64(9), int64(13), object(4)\n",
            "memory usage: 2.9 GB\n"
          ]
        }
      ]
    },
    {
      "cell_type": "code",
      "source": [
        "# Knowing the numbers of rows and column of data frame\n",
        "\n",
        "df2.shape"
      ],
      "metadata": {
        "colab": {
          "base_uri": "https://localhost:8080/"
        },
        "id": "DQrX88WufqEJ",
        "outputId": "e8d528de-bc2f-44cd-dd2c-8c0d8441e2b6"
      },
      "execution_count": null,
      "outputs": [
        {
          "output_type": "execute_result",
          "data": {
            "text/plain": [
              "(6489062, 26)"
            ]
          },
          "metadata": {},
          "execution_count": 24
        }
      ]
    },
    {
      "cell_type": "code",
      "source": [
        "# Random sampling of 10% of Dataset\n",
        "sample1 = df2.sample(frac=0.10)\n",
        "sample1"
      ],
      "metadata": {
        "colab": {
          "base_uri": "https://localhost:8080/",
          "height": 652
        },
        "id": "fD3JAknosWrS",
        "outputId": "ffaacf59-b95e-4c5a-c50e-8f84c46d97f9"
      },
      "execution_count": null,
      "outputs": [
        {
          "output_type": "execute_result",
          "data": {
            "text/plain": [
              "         MONTH  DAY_OF_WEEK  DEP_DEL15 DEP_TIME_BLK  DISTANCE_GROUP  \\\n",
              "2079042      5            5          0    1500-1559               4   \n",
              "2849347      6            6          1    2100-2159               8   \n",
              "5264448     10            3          0    0900-0959               4   \n",
              "1441549      3            4          0    1700-1759              11   \n",
              "3933321      8            2          0    1500-1559               2   \n",
              "...        ...          ...        ...          ...             ...   \n",
              "5252600     10            5          0    1500-1559               5   \n",
              "3422269      7            4          0    1300-1359               2   \n",
              "595367       2            7          0    1700-1759               2   \n",
              "1036005      3            1          0    1200-1259               2   \n",
              "3393639      7            3          1    1700-1759               2   \n",
              "\n",
              "         SEGMENT_NUMBER  CONCURRENT_FLIGHTS  NUMBER_OF_SEATS  \\\n",
              "2079042               1                  94              158   \n",
              "2849347               3                  29              187   \n",
              "5264448               2                  60               76   \n",
              "1441549               2                   6              234   \n",
              "3933321               6                   9              143   \n",
              "...                 ...                 ...              ...   \n",
              "5252600               4                  44               76   \n",
              "3422269               3                   4               90   \n",
              "595367                4                  21              186   \n",
              "1036005               4                  26               50   \n",
              "3393639               4                  12               50   \n",
              "\n",
              "                         CARRIER_NAME  AIRPORT_FLIGHTS_MONTH  ...  PLANE_AGE  \\\n",
              "2079042          Delta Air Lines Inc.                  34238  ...         21   \n",
              "2849347        American Airlines Inc.                   7008  ...          4   \n",
              "5264448         SkyWest Airlines Inc.                  22355  ...          4   \n",
              "1441549        American Airlines Inc.                   4143  ...          4   \n",
              "3933321        Southwest Airlines Co.                   5606  ...         13   \n",
              "...                               ...                    ...  ...        ...   \n",
              "5252600             Endeavor Air Inc.                  13751  ...         11   \n",
              "3422269                   Comair Inc.                   4310  ...          3   \n",
              "595367         Frontier Airlines Inc.                  11500  ...          3   \n",
              "1036005             Endeavor Air Inc.                   9511  ...         15   \n",
              "3393639  American Eagle Airlines Inc.                   7261  ...         15   \n",
              "\n",
              "                         DEPARTING_AIRPORT  LATITUDE  LONGITUDE  \\\n",
              "2079042                  Atlanta Municipal    33.641    -84.427   \n",
              "2849347                Miami International    25.792    -80.286   \n",
              "5264448            Stapleton International    39.774   -104.880   \n",
              "1441549             Honolulu International    21.319   -157.922   \n",
              "3933321             San Jose International    37.363   -121.941   \n",
              "...                                    ...       ...        ...   \n",
              "5252600  Minneapolis-St Paul International    44.886    -93.218   \n",
              "3422269    Cleveland-Hopkins International    41.411    -81.849   \n",
              "595367              McCarran International    36.080   -115.152   \n",
              "1036005         Philadelphia International    39.868    -75.249   \n",
              "3393639                Miami International    25.792    -80.286   \n",
              "\n",
              "                                   PREVIOUS_AIRPORT  PRCP  SNOW SNWD  TMAX  \\\n",
              "2079042                                        NONE  0.00   0.0  0.0  94.0   \n",
              "2849347                           Douglas Municipal  0.78   0.0  0.0  85.0   \n",
              "5264448                          Birmingham Airport  0.01   0.0  0.0  83.0   \n",
              "1441549                Chicago O'Hare International  0.00   0.0  0.0  70.0   \n",
              "3933321                  Hollywood-Burbank Midpoint  0.00   0.0  0.0  91.0   \n",
              "...                                             ...   ...   ...  ...   ...   \n",
              "5252600                    Pittsburgh International  0.04   0.0  0.0  83.0   \n",
              "3422269                           Douglas Municipal  0.06   0.0  0.0  88.0   \n",
              "595367   Cincinnati/Northern Kentucky International  0.00   0.0  0.0  61.0   \n",
              "1036005                Raleigh-Durham International  0.09   0.0  0.0  37.0   \n",
              "3393639                  Jacksonville International  1.47   0.0  0.0  93.0   \n",
              "\n",
              "          AWND  \n",
              "2079042   5.59  \n",
              "2849347   7.61  \n",
              "5264448  15.21  \n",
              "1441549   5.14  \n",
              "3933321   5.82  \n",
              "...        ...  \n",
              "5252600  12.53  \n",
              "3422269   5.82  \n",
              "595367   10.96  \n",
              "1036005  14.09  \n",
              "3393639   3.58  \n",
              "\n",
              "[648906 rows x 26 columns]"
            ],
            "text/html": [
              "\n",
              "  <div id=\"df-249218f9-8204-4b29-93cf-2b6b18e78356\" class=\"colab-df-container\">\n",
              "    <div>\n",
              "<style scoped>\n",
              "    .dataframe tbody tr th:only-of-type {\n",
              "        vertical-align: middle;\n",
              "    }\n",
              "\n",
              "    .dataframe tbody tr th {\n",
              "        vertical-align: top;\n",
              "    }\n",
              "\n",
              "    .dataframe thead th {\n",
              "        text-align: right;\n",
              "    }\n",
              "</style>\n",
              "<table border=\"1\" class=\"dataframe\">\n",
              "  <thead>\n",
              "    <tr style=\"text-align: right;\">\n",
              "      <th></th>\n",
              "      <th>MONTH</th>\n",
              "      <th>DAY_OF_WEEK</th>\n",
              "      <th>DEP_DEL15</th>\n",
              "      <th>DEP_TIME_BLK</th>\n",
              "      <th>DISTANCE_GROUP</th>\n",
              "      <th>SEGMENT_NUMBER</th>\n",
              "      <th>CONCURRENT_FLIGHTS</th>\n",
              "      <th>NUMBER_OF_SEATS</th>\n",
              "      <th>CARRIER_NAME</th>\n",
              "      <th>AIRPORT_FLIGHTS_MONTH</th>\n",
              "      <th>...</th>\n",
              "      <th>PLANE_AGE</th>\n",
              "      <th>DEPARTING_AIRPORT</th>\n",
              "      <th>LATITUDE</th>\n",
              "      <th>LONGITUDE</th>\n",
              "      <th>PREVIOUS_AIRPORT</th>\n",
              "      <th>PRCP</th>\n",
              "      <th>SNOW</th>\n",
              "      <th>SNWD</th>\n",
              "      <th>TMAX</th>\n",
              "      <th>AWND</th>\n",
              "    </tr>\n",
              "  </thead>\n",
              "  <tbody>\n",
              "    <tr>\n",
              "      <th>2079042</th>\n",
              "      <td>5</td>\n",
              "      <td>5</td>\n",
              "      <td>0</td>\n",
              "      <td>1500-1559</td>\n",
              "      <td>4</td>\n",
              "      <td>1</td>\n",
              "      <td>94</td>\n",
              "      <td>158</td>\n",
              "      <td>Delta Air Lines Inc.</td>\n",
              "      <td>34238</td>\n",
              "      <td>...</td>\n",
              "      <td>21</td>\n",
              "      <td>Atlanta Municipal</td>\n",
              "      <td>33.641</td>\n",
              "      <td>-84.427</td>\n",
              "      <td>NONE</td>\n",
              "      <td>0.00</td>\n",
              "      <td>0.0</td>\n",
              "      <td>0.0</td>\n",
              "      <td>94.0</td>\n",
              "      <td>5.59</td>\n",
              "    </tr>\n",
              "    <tr>\n",
              "      <th>2849347</th>\n",
              "      <td>6</td>\n",
              "      <td>6</td>\n",
              "      <td>1</td>\n",
              "      <td>2100-2159</td>\n",
              "      <td>8</td>\n",
              "      <td>3</td>\n",
              "      <td>29</td>\n",
              "      <td>187</td>\n",
              "      <td>American Airlines Inc.</td>\n",
              "      <td>7008</td>\n",
              "      <td>...</td>\n",
              "      <td>4</td>\n",
              "      <td>Miami International</td>\n",
              "      <td>25.792</td>\n",
              "      <td>-80.286</td>\n",
              "      <td>Douglas Municipal</td>\n",
              "      <td>0.78</td>\n",
              "      <td>0.0</td>\n",
              "      <td>0.0</td>\n",
              "      <td>85.0</td>\n",
              "      <td>7.61</td>\n",
              "    </tr>\n",
              "    <tr>\n",
              "      <th>5264448</th>\n",
              "      <td>10</td>\n",
              "      <td>3</td>\n",
              "      <td>0</td>\n",
              "      <td>0900-0959</td>\n",
              "      <td>4</td>\n",
              "      <td>2</td>\n",
              "      <td>60</td>\n",
              "      <td>76</td>\n",
              "      <td>SkyWest Airlines Inc.</td>\n",
              "      <td>22355</td>\n",
              "      <td>...</td>\n",
              "      <td>4</td>\n",
              "      <td>Stapleton International</td>\n",
              "      <td>39.774</td>\n",
              "      <td>-104.880</td>\n",
              "      <td>Birmingham Airport</td>\n",
              "      <td>0.01</td>\n",
              "      <td>0.0</td>\n",
              "      <td>0.0</td>\n",
              "      <td>83.0</td>\n",
              "      <td>15.21</td>\n",
              "    </tr>\n",
              "    <tr>\n",
              "      <th>1441549</th>\n",
              "      <td>3</td>\n",
              "      <td>4</td>\n",
              "      <td>0</td>\n",
              "      <td>1700-1759</td>\n",
              "      <td>11</td>\n",
              "      <td>2</td>\n",
              "      <td>6</td>\n",
              "      <td>234</td>\n",
              "      <td>American Airlines Inc.</td>\n",
              "      <td>4143</td>\n",
              "      <td>...</td>\n",
              "      <td>4</td>\n",
              "      <td>Honolulu International</td>\n",
              "      <td>21.319</td>\n",
              "      <td>-157.922</td>\n",
              "      <td>Chicago O'Hare International</td>\n",
              "      <td>0.00</td>\n",
              "      <td>0.0</td>\n",
              "      <td>0.0</td>\n",
              "      <td>70.0</td>\n",
              "      <td>5.14</td>\n",
              "    </tr>\n",
              "    <tr>\n",
              "      <th>3933321</th>\n",
              "      <td>8</td>\n",
              "      <td>2</td>\n",
              "      <td>0</td>\n",
              "      <td>1500-1559</td>\n",
              "      <td>2</td>\n",
              "      <td>6</td>\n",
              "      <td>9</td>\n",
              "      <td>143</td>\n",
              "      <td>Southwest Airlines Co.</td>\n",
              "      <td>5606</td>\n",
              "      <td>...</td>\n",
              "      <td>13</td>\n",
              "      <td>San Jose International</td>\n",
              "      <td>37.363</td>\n",
              "      <td>-121.941</td>\n",
              "      <td>Hollywood-Burbank Midpoint</td>\n",
              "      <td>0.00</td>\n",
              "      <td>0.0</td>\n",
              "      <td>0.0</td>\n",
              "      <td>91.0</td>\n",
              "      <td>5.82</td>\n",
              "    </tr>\n",
              "    <tr>\n",
              "      <th>...</th>\n",
              "      <td>...</td>\n",
              "      <td>...</td>\n",
              "      <td>...</td>\n",
              "      <td>...</td>\n",
              "      <td>...</td>\n",
              "      <td>...</td>\n",
              "      <td>...</td>\n",
              "      <td>...</td>\n",
              "      <td>...</td>\n",
              "      <td>...</td>\n",
              "      <td>...</td>\n",
              "      <td>...</td>\n",
              "      <td>...</td>\n",
              "      <td>...</td>\n",
              "      <td>...</td>\n",
              "      <td>...</td>\n",
              "      <td>...</td>\n",
              "      <td>...</td>\n",
              "      <td>...</td>\n",
              "      <td>...</td>\n",
              "      <td>...</td>\n",
              "    </tr>\n",
              "    <tr>\n",
              "      <th>5252600</th>\n",
              "      <td>10</td>\n",
              "      <td>5</td>\n",
              "      <td>0</td>\n",
              "      <td>1500-1559</td>\n",
              "      <td>5</td>\n",
              "      <td>4</td>\n",
              "      <td>44</td>\n",
              "      <td>76</td>\n",
              "      <td>Endeavor Air Inc.</td>\n",
              "      <td>13751</td>\n",
              "      <td>...</td>\n",
              "      <td>11</td>\n",
              "      <td>Minneapolis-St Paul International</td>\n",
              "      <td>44.886</td>\n",
              "      <td>-93.218</td>\n",
              "      <td>Pittsburgh International</td>\n",
              "      <td>0.04</td>\n",
              "      <td>0.0</td>\n",
              "      <td>0.0</td>\n",
              "      <td>83.0</td>\n",
              "      <td>12.53</td>\n",
              "    </tr>\n",
              "    <tr>\n",
              "      <th>3422269</th>\n",
              "      <td>7</td>\n",
              "      <td>4</td>\n",
              "      <td>0</td>\n",
              "      <td>1300-1359</td>\n",
              "      <td>2</td>\n",
              "      <td>3</td>\n",
              "      <td>4</td>\n",
              "      <td>90</td>\n",
              "      <td>Comair Inc.</td>\n",
              "      <td>4310</td>\n",
              "      <td>...</td>\n",
              "      <td>3</td>\n",
              "      <td>Cleveland-Hopkins International</td>\n",
              "      <td>41.411</td>\n",
              "      <td>-81.849</td>\n",
              "      <td>Douglas Municipal</td>\n",
              "      <td>0.06</td>\n",
              "      <td>0.0</td>\n",
              "      <td>0.0</td>\n",
              "      <td>88.0</td>\n",
              "      <td>5.82</td>\n",
              "    </tr>\n",
              "    <tr>\n",
              "      <th>595367</th>\n",
              "      <td>2</td>\n",
              "      <td>7</td>\n",
              "      <td>0</td>\n",
              "      <td>1700-1759</td>\n",
              "      <td>2</td>\n",
              "      <td>4</td>\n",
              "      <td>21</td>\n",
              "      <td>186</td>\n",
              "      <td>Frontier Airlines Inc.</td>\n",
              "      <td>11500</td>\n",
              "      <td>...</td>\n",
              "      <td>3</td>\n",
              "      <td>McCarran International</td>\n",
              "      <td>36.080</td>\n",
              "      <td>-115.152</td>\n",
              "      <td>Cincinnati/Northern Kentucky International</td>\n",
              "      <td>0.00</td>\n",
              "      <td>0.0</td>\n",
              "      <td>0.0</td>\n",
              "      <td>61.0</td>\n",
              "      <td>10.96</td>\n",
              "    </tr>\n",
              "    <tr>\n",
              "      <th>1036005</th>\n",
              "      <td>3</td>\n",
              "      <td>1</td>\n",
              "      <td>0</td>\n",
              "      <td>1200-1259</td>\n",
              "      <td>2</td>\n",
              "      <td>4</td>\n",
              "      <td>26</td>\n",
              "      <td>50</td>\n",
              "      <td>Endeavor Air Inc.</td>\n",
              "      <td>9511</td>\n",
              "      <td>...</td>\n",
              "      <td>15</td>\n",
              "      <td>Philadelphia International</td>\n",
              "      <td>39.868</td>\n",
              "      <td>-75.249</td>\n",
              "      <td>Raleigh-Durham International</td>\n",
              "      <td>0.09</td>\n",
              "      <td>0.0</td>\n",
              "      <td>0.0</td>\n",
              "      <td>37.0</td>\n",
              "      <td>14.09</td>\n",
              "    </tr>\n",
              "    <tr>\n",
              "      <th>3393639</th>\n",
              "      <td>7</td>\n",
              "      <td>3</td>\n",
              "      <td>1</td>\n",
              "      <td>1700-1759</td>\n",
              "      <td>2</td>\n",
              "      <td>4</td>\n",
              "      <td>12</td>\n",
              "      <td>50</td>\n",
              "      <td>American Eagle Airlines Inc.</td>\n",
              "      <td>7261</td>\n",
              "      <td>...</td>\n",
              "      <td>15</td>\n",
              "      <td>Miami International</td>\n",
              "      <td>25.792</td>\n",
              "      <td>-80.286</td>\n",
              "      <td>Jacksonville International</td>\n",
              "      <td>1.47</td>\n",
              "      <td>0.0</td>\n",
              "      <td>0.0</td>\n",
              "      <td>93.0</td>\n",
              "      <td>3.58</td>\n",
              "    </tr>\n",
              "  </tbody>\n",
              "</table>\n",
              "<p>648906 rows × 26 columns</p>\n",
              "</div>\n",
              "    <div class=\"colab-df-buttons\">\n",
              "\n",
              "  <div class=\"colab-df-container\">\n",
              "    <button class=\"colab-df-convert\" onclick=\"convertToInteractive('df-249218f9-8204-4b29-93cf-2b6b18e78356')\"\n",
              "            title=\"Convert this dataframe to an interactive table.\"\n",
              "            style=\"display:none;\">\n",
              "\n",
              "  <svg xmlns=\"http://www.w3.org/2000/svg\" height=\"24px\" viewBox=\"0 -960 960 960\">\n",
              "    <path d=\"M120-120v-720h720v720H120Zm60-500h600v-160H180v160Zm220 220h160v-160H400v160Zm0 220h160v-160H400v160ZM180-400h160v-160H180v160Zm440 0h160v-160H620v160ZM180-180h160v-160H180v160Zm440 0h160v-160H620v160Z\"/>\n",
              "  </svg>\n",
              "    </button>\n",
              "\n",
              "  <style>\n",
              "    .colab-df-container {\n",
              "      display:flex;\n",
              "      gap: 12px;\n",
              "    }\n",
              "\n",
              "    .colab-df-convert {\n",
              "      background-color: #E8F0FE;\n",
              "      border: none;\n",
              "      border-radius: 50%;\n",
              "      cursor: pointer;\n",
              "      display: none;\n",
              "      fill: #1967D2;\n",
              "      height: 32px;\n",
              "      padding: 0 0 0 0;\n",
              "      width: 32px;\n",
              "    }\n",
              "\n",
              "    .colab-df-convert:hover {\n",
              "      background-color: #E2EBFA;\n",
              "      box-shadow: 0px 1px 2px rgba(60, 64, 67, 0.3), 0px 1px 3px 1px rgba(60, 64, 67, 0.15);\n",
              "      fill: #174EA6;\n",
              "    }\n",
              "\n",
              "    .colab-df-buttons div {\n",
              "      margin-bottom: 4px;\n",
              "    }\n",
              "\n",
              "    [theme=dark] .colab-df-convert {\n",
              "      background-color: #3B4455;\n",
              "      fill: #D2E3FC;\n",
              "    }\n",
              "\n",
              "    [theme=dark] .colab-df-convert:hover {\n",
              "      background-color: #434B5C;\n",
              "      box-shadow: 0px 1px 3px 1px rgba(0, 0, 0, 0.15);\n",
              "      filter: drop-shadow(0px 1px 2px rgba(0, 0, 0, 0.3));\n",
              "      fill: #FFFFFF;\n",
              "    }\n",
              "  </style>\n",
              "\n",
              "    <script>\n",
              "      const buttonEl =\n",
              "        document.querySelector('#df-249218f9-8204-4b29-93cf-2b6b18e78356 button.colab-df-convert');\n",
              "      buttonEl.style.display =\n",
              "        google.colab.kernel.accessAllowed ? 'block' : 'none';\n",
              "\n",
              "      async function convertToInteractive(key) {\n",
              "        const element = document.querySelector('#df-249218f9-8204-4b29-93cf-2b6b18e78356');\n",
              "        const dataTable =\n",
              "          await google.colab.kernel.invokeFunction('convertToInteractive',\n",
              "                                                    [key], {});\n",
              "        if (!dataTable) return;\n",
              "\n",
              "        const docLinkHtml = 'Like what you see? Visit the ' +\n",
              "          '<a target=\"_blank\" href=https://colab.research.google.com/notebooks/data_table.ipynb>data table notebook</a>'\n",
              "          + ' to learn more about interactive tables.';\n",
              "        element.innerHTML = '';\n",
              "        dataTable['output_type'] = 'display_data';\n",
              "        await google.colab.output.renderOutput(dataTable, element);\n",
              "        const docLink = document.createElement('div');\n",
              "        docLink.innerHTML = docLinkHtml;\n",
              "        element.appendChild(docLink);\n",
              "      }\n",
              "    </script>\n",
              "  </div>\n",
              "\n",
              "\n",
              "<div id=\"df-1ba71f79-bb2c-49f9-bc96-7252935aa734\">\n",
              "  <button class=\"colab-df-quickchart\" onclick=\"quickchart('df-1ba71f79-bb2c-49f9-bc96-7252935aa734')\"\n",
              "            title=\"Suggest charts\"\n",
              "            style=\"display:none;\">\n",
              "\n",
              "<svg xmlns=\"http://www.w3.org/2000/svg\" height=\"24px\"viewBox=\"0 0 24 24\"\n",
              "     width=\"24px\">\n",
              "    <g>\n",
              "        <path d=\"M19 3H5c-1.1 0-2 .9-2 2v14c0 1.1.9 2 2 2h14c1.1 0 2-.9 2-2V5c0-1.1-.9-2-2-2zM9 17H7v-7h2v7zm4 0h-2V7h2v10zm4 0h-2v-4h2v4z\"/>\n",
              "    </g>\n",
              "</svg>\n",
              "  </button>\n",
              "\n",
              "<style>\n",
              "  .colab-df-quickchart {\n",
              "      --bg-color: #E8F0FE;\n",
              "      --fill-color: #1967D2;\n",
              "      --hover-bg-color: #E2EBFA;\n",
              "      --hover-fill-color: #174EA6;\n",
              "      --disabled-fill-color: #AAA;\n",
              "      --disabled-bg-color: #DDD;\n",
              "  }\n",
              "\n",
              "  [theme=dark] .colab-df-quickchart {\n",
              "      --bg-color: #3B4455;\n",
              "      --fill-color: #D2E3FC;\n",
              "      --hover-bg-color: #434B5C;\n",
              "      --hover-fill-color: #FFFFFF;\n",
              "      --disabled-bg-color: #3B4455;\n",
              "      --disabled-fill-color: #666;\n",
              "  }\n",
              "\n",
              "  .colab-df-quickchart {\n",
              "    background-color: var(--bg-color);\n",
              "    border: none;\n",
              "    border-radius: 50%;\n",
              "    cursor: pointer;\n",
              "    display: none;\n",
              "    fill: var(--fill-color);\n",
              "    height: 32px;\n",
              "    padding: 0;\n",
              "    width: 32px;\n",
              "  }\n",
              "\n",
              "  .colab-df-quickchart:hover {\n",
              "    background-color: var(--hover-bg-color);\n",
              "    box-shadow: 0 1px 2px rgba(60, 64, 67, 0.3), 0 1px 3px 1px rgba(60, 64, 67, 0.15);\n",
              "    fill: var(--button-hover-fill-color);\n",
              "  }\n",
              "\n",
              "  .colab-df-quickchart-complete:disabled,\n",
              "  .colab-df-quickchart-complete:disabled:hover {\n",
              "    background-color: var(--disabled-bg-color);\n",
              "    fill: var(--disabled-fill-color);\n",
              "    box-shadow: none;\n",
              "  }\n",
              "\n",
              "  .colab-df-spinner {\n",
              "    border: 2px solid var(--fill-color);\n",
              "    border-color: transparent;\n",
              "    border-bottom-color: var(--fill-color);\n",
              "    animation:\n",
              "      spin 1s steps(1) infinite;\n",
              "  }\n",
              "\n",
              "  @keyframes spin {\n",
              "    0% {\n",
              "      border-color: transparent;\n",
              "      border-bottom-color: var(--fill-color);\n",
              "      border-left-color: var(--fill-color);\n",
              "    }\n",
              "    20% {\n",
              "      border-color: transparent;\n",
              "      border-left-color: var(--fill-color);\n",
              "      border-top-color: var(--fill-color);\n",
              "    }\n",
              "    30% {\n",
              "      border-color: transparent;\n",
              "      border-left-color: var(--fill-color);\n",
              "      border-top-color: var(--fill-color);\n",
              "      border-right-color: var(--fill-color);\n",
              "    }\n",
              "    40% {\n",
              "      border-color: transparent;\n",
              "      border-right-color: var(--fill-color);\n",
              "      border-top-color: var(--fill-color);\n",
              "    }\n",
              "    60% {\n",
              "      border-color: transparent;\n",
              "      border-right-color: var(--fill-color);\n",
              "    }\n",
              "    80% {\n",
              "      border-color: transparent;\n",
              "      border-right-color: var(--fill-color);\n",
              "      border-bottom-color: var(--fill-color);\n",
              "    }\n",
              "    90% {\n",
              "      border-color: transparent;\n",
              "      border-bottom-color: var(--fill-color);\n",
              "    }\n",
              "  }\n",
              "</style>\n",
              "\n",
              "  <script>\n",
              "    async function quickchart(key) {\n",
              "      const quickchartButtonEl =\n",
              "        document.querySelector('#' + key + ' button');\n",
              "      quickchartButtonEl.disabled = true;  // To prevent multiple clicks.\n",
              "      quickchartButtonEl.classList.add('colab-df-spinner');\n",
              "      try {\n",
              "        const charts = await google.colab.kernel.invokeFunction(\n",
              "            'suggestCharts', [key], {});\n",
              "      } catch (error) {\n",
              "        console.error('Error during call to suggestCharts:', error);\n",
              "      }\n",
              "      quickchartButtonEl.classList.remove('colab-df-spinner');\n",
              "      quickchartButtonEl.classList.add('colab-df-quickchart-complete');\n",
              "    }\n",
              "    (() => {\n",
              "      let quickchartButtonEl =\n",
              "        document.querySelector('#df-1ba71f79-bb2c-49f9-bc96-7252935aa734 button');\n",
              "      quickchartButtonEl.style.display =\n",
              "        google.colab.kernel.accessAllowed ? 'block' : 'none';\n",
              "    })();\n",
              "  </script>\n",
              "</div>\n",
              "    </div>\n",
              "  </div>\n"
            ]
          },
          "metadata": {},
          "execution_count": 25
        }
      ]
    },
    {
      "cell_type": "code",
      "source": [
        "# Check memory used after 10% sampling\n",
        "sample1.info(verbose=False, memory_usage=\"deep\")"
      ],
      "metadata": {
        "colab": {
          "base_uri": "https://localhost:8080/"
        },
        "id": "nKRjE3vjwOlk",
        "outputId": "9e6336bb-7d43-4dce-c4b9-17cc10bd1876"
      },
      "execution_count": null,
      "outputs": [
        {
          "output_type": "stream",
          "name": "stdout",
          "text": [
            "<class 'pandas.core.frame.DataFrame'>\n",
            "Int64Index: 648906 entries, 2079042 to 3393639\n",
            "Columns: 26 entries, MONTH to AWND\n",
            "dtypes: float64(9), int64(13), object(4)\n",
            "memory usage: 300.5 MB\n"
          ]
        }
      ]
    },
    {
      "cell_type": "code",
      "source": [
        "# Random sampling by rows (axis 0) or columns (axis 1)\n",
        "\n",
        "sample2 = df2.sample(n=10000,axis=0)\n",
        "sample2"
      ],
      "metadata": {
        "colab": {
          "base_uri": "https://localhost:8080/",
          "height": 669
        },
        "id": "eevOOZK3xIXK",
        "outputId": "5bb3006a-3d77-4ea5-d86c-d4f81bac4f58"
      },
      "execution_count": null,
      "outputs": [
        {
          "output_type": "execute_result",
          "data": {
            "text/plain": [
              "         MONTH  DAY_OF_WEEK  DEP_DEL15 DEP_TIME_BLK  DISTANCE_GROUP  \\\n",
              "666117       2            1          0    1600-1659               3   \n",
              "2557925      5            2          0    1300-1359               6   \n",
              "1782016      4            3          0    0600-0659               4   \n",
              "2117248      5            1          1    1600-1659               2   \n",
              "3785271      8            7          0    1500-1559               4   \n",
              "...        ...          ...        ...          ...             ...   \n",
              "6365892     12            6          0    0900-0959               3   \n",
              "2211138      5            5          0    1400-1459               1   \n",
              "4008357      8            6          0    1200-1259               4   \n",
              "218270       1            5          0    0900-0959              11   \n",
              "5818007     11            1          0    2000-2059               2   \n",
              "\n",
              "         SEGMENT_NUMBER  CONCURRENT_FLIGHTS  NUMBER_OF_SEATS  \\\n",
              "666117                5                  14              149   \n",
              "2557925               2                   4              180   \n",
              "1782016               1                  17               76   \n",
              "2117248               5                   8               76   \n",
              "3785271               3                  11              160   \n",
              "...                 ...                 ...              ...   \n",
              "6365892               1                  29               76   \n",
              "2211138               4                  55               90   \n",
              "4008357               2                  13              100   \n",
              "218270                1                  22              149   \n",
              "5818007               6                   8              143   \n",
              "\n",
              "                   CARRIER_NAME  AIRPORT_FLIGHTS_MONTH  ...  PLANE_AGE  \\\n",
              "666117     Delta Air Lines Inc.                   7168  ...         27   \n",
              "2557925  Frontier Airlines Inc.                   1209  ...          9   \n",
              "1782016   SkyWest Airlines Inc.                  13176  ...         13   \n",
              "2117248   Midwest Airline, Inc.                   4271  ...         11   \n",
              "3785271    Delta Air Lines Inc.                   4171  ...         18   \n",
              "...                         ...                    ...  ...        ...   \n",
              "6365892       Endeavor Air Inc.                  13493  ...          5   \n",
              "2211138             Comair Inc.                  19807  ...          5   \n",
              "4008357         JetBlue Airways                   7501  ...         14   \n",
              "218270     Alaska Airlines Inc.                  10278  ...         11   \n",
              "5818007  Southwest Airlines Co.                   2550  ...          8   \n",
              "\n",
              "                                  DEPARTING_AIRPORT  LATITUDE  LONGITUDE  \\\n",
              "666117                          Miami International    25.792    -80.286   \n",
              "2557925                                 Truax Field    43.142    -89.337   \n",
              "1782016                  Detroit Metro Wayne County    42.217    -83.344   \n",
              "2117248                    Pittsburgh International    40.497    -80.236   \n",
              "3785271  Cincinnati/Northern Kentucky International    39.048    -84.669   \n",
              "...                                             ...       ...        ...   \n",
              "6365892                                   LaGuardia    40.779    -73.876   \n",
              "2211138                           Douglas Municipal    35.219    -80.936   \n",
              "4008357     Fort Lauderdale-Hollywood International    26.074    -80.152   \n",
              "218270                John F. Kennedy International    40.639    -73.777   \n",
              "5818007                  Hollywood-Burbank Midpoint    34.200   -118.358   \n",
              "\n",
              "                           PREVIOUS_AIRPORT  PRCP  SNOW SNWD  TMAX   AWND  \n",
              "666117                    Atlanta Municipal  0.06   0.0  0.0  79.0  11.18  \n",
              "2557925              McCarran International  0.00   0.0  0.0  70.0   4.25  \n",
              "1782016                                NONE  0.03   0.0  0.0  58.0   8.50  \n",
              "2117248                           LaGuardia  0.01   0.0  0.0  75.0  13.42  \n",
              "3785271        Salt Lake City International  0.00   0.0  0.0  92.0   5.14  \n",
              "...                                     ...   ...   ...  ...   ...    ...  \n",
              "6365892                                NONE  1.13   0.0  0.0  56.0  12.08  \n",
              "2211138          Northwest Florida Regional  0.00   0.0  0.0  91.0   5.82  \n",
              "4008357                  Westchester County  0.27   0.0  0.0  92.0   4.47  \n",
              "218270                                 NONE  0.00   0.0  0.0  47.0   9.84  \n",
              "5818007  Metropolitan Oakland International  0.00   0.0  0.0  53.0   5.14  \n",
              "\n",
              "[10000 rows x 26 columns]"
            ],
            "text/html": [
              "\n",
              "  <div id=\"df-273a9ee9-55bd-4133-939a-6f88426e36df\" class=\"colab-df-container\">\n",
              "    <div>\n",
              "<style scoped>\n",
              "    .dataframe tbody tr th:only-of-type {\n",
              "        vertical-align: middle;\n",
              "    }\n",
              "\n",
              "    .dataframe tbody tr th {\n",
              "        vertical-align: top;\n",
              "    }\n",
              "\n",
              "    .dataframe thead th {\n",
              "        text-align: right;\n",
              "    }\n",
              "</style>\n",
              "<table border=\"1\" class=\"dataframe\">\n",
              "  <thead>\n",
              "    <tr style=\"text-align: right;\">\n",
              "      <th></th>\n",
              "      <th>MONTH</th>\n",
              "      <th>DAY_OF_WEEK</th>\n",
              "      <th>DEP_DEL15</th>\n",
              "      <th>DEP_TIME_BLK</th>\n",
              "      <th>DISTANCE_GROUP</th>\n",
              "      <th>SEGMENT_NUMBER</th>\n",
              "      <th>CONCURRENT_FLIGHTS</th>\n",
              "      <th>NUMBER_OF_SEATS</th>\n",
              "      <th>CARRIER_NAME</th>\n",
              "      <th>AIRPORT_FLIGHTS_MONTH</th>\n",
              "      <th>...</th>\n",
              "      <th>PLANE_AGE</th>\n",
              "      <th>DEPARTING_AIRPORT</th>\n",
              "      <th>LATITUDE</th>\n",
              "      <th>LONGITUDE</th>\n",
              "      <th>PREVIOUS_AIRPORT</th>\n",
              "      <th>PRCP</th>\n",
              "      <th>SNOW</th>\n",
              "      <th>SNWD</th>\n",
              "      <th>TMAX</th>\n",
              "      <th>AWND</th>\n",
              "    </tr>\n",
              "  </thead>\n",
              "  <tbody>\n",
              "    <tr>\n",
              "      <th>666117</th>\n",
              "      <td>2</td>\n",
              "      <td>1</td>\n",
              "      <td>0</td>\n",
              "      <td>1600-1659</td>\n",
              "      <td>3</td>\n",
              "      <td>5</td>\n",
              "      <td>14</td>\n",
              "      <td>149</td>\n",
              "      <td>Delta Air Lines Inc.</td>\n",
              "      <td>7168</td>\n",
              "      <td>...</td>\n",
              "      <td>27</td>\n",
              "      <td>Miami International</td>\n",
              "      <td>25.792</td>\n",
              "      <td>-80.286</td>\n",
              "      <td>Atlanta Municipal</td>\n",
              "      <td>0.06</td>\n",
              "      <td>0.0</td>\n",
              "      <td>0.0</td>\n",
              "      <td>79.0</td>\n",
              "      <td>11.18</td>\n",
              "    </tr>\n",
              "    <tr>\n",
              "      <th>2557925</th>\n",
              "      <td>5</td>\n",
              "      <td>2</td>\n",
              "      <td>0</td>\n",
              "      <td>1300-1359</td>\n",
              "      <td>6</td>\n",
              "      <td>2</td>\n",
              "      <td>4</td>\n",
              "      <td>180</td>\n",
              "      <td>Frontier Airlines Inc.</td>\n",
              "      <td>1209</td>\n",
              "      <td>...</td>\n",
              "      <td>9</td>\n",
              "      <td>Truax Field</td>\n",
              "      <td>43.142</td>\n",
              "      <td>-89.337</td>\n",
              "      <td>McCarran International</td>\n",
              "      <td>0.00</td>\n",
              "      <td>0.0</td>\n",
              "      <td>0.0</td>\n",
              "      <td>70.0</td>\n",
              "      <td>4.25</td>\n",
              "    </tr>\n",
              "    <tr>\n",
              "      <th>1782016</th>\n",
              "      <td>4</td>\n",
              "      <td>3</td>\n",
              "      <td>0</td>\n",
              "      <td>0600-0659</td>\n",
              "      <td>4</td>\n",
              "      <td>1</td>\n",
              "      <td>17</td>\n",
              "      <td>76</td>\n",
              "      <td>SkyWest Airlines Inc.</td>\n",
              "      <td>13176</td>\n",
              "      <td>...</td>\n",
              "      <td>13</td>\n",
              "      <td>Detroit Metro Wayne County</td>\n",
              "      <td>42.217</td>\n",
              "      <td>-83.344</td>\n",
              "      <td>NONE</td>\n",
              "      <td>0.03</td>\n",
              "      <td>0.0</td>\n",
              "      <td>0.0</td>\n",
              "      <td>58.0</td>\n",
              "      <td>8.50</td>\n",
              "    </tr>\n",
              "    <tr>\n",
              "      <th>2117248</th>\n",
              "      <td>5</td>\n",
              "      <td>1</td>\n",
              "      <td>1</td>\n",
              "      <td>1600-1659</td>\n",
              "      <td>2</td>\n",
              "      <td>5</td>\n",
              "      <td>8</td>\n",
              "      <td>76</td>\n",
              "      <td>Midwest Airline, Inc.</td>\n",
              "      <td>4271</td>\n",
              "      <td>...</td>\n",
              "      <td>11</td>\n",
              "      <td>Pittsburgh International</td>\n",
              "      <td>40.497</td>\n",
              "      <td>-80.236</td>\n",
              "      <td>LaGuardia</td>\n",
              "      <td>0.01</td>\n",
              "      <td>0.0</td>\n",
              "      <td>0.0</td>\n",
              "      <td>75.0</td>\n",
              "      <td>13.42</td>\n",
              "    </tr>\n",
              "    <tr>\n",
              "      <th>3785271</th>\n",
              "      <td>8</td>\n",
              "      <td>7</td>\n",
              "      <td>0</td>\n",
              "      <td>1500-1559</td>\n",
              "      <td>4</td>\n",
              "      <td>3</td>\n",
              "      <td>11</td>\n",
              "      <td>160</td>\n",
              "      <td>Delta Air Lines Inc.</td>\n",
              "      <td>4171</td>\n",
              "      <td>...</td>\n",
              "      <td>18</td>\n",
              "      <td>Cincinnati/Northern Kentucky International</td>\n",
              "      <td>39.048</td>\n",
              "      <td>-84.669</td>\n",
              "      <td>Salt Lake City International</td>\n",
              "      <td>0.00</td>\n",
              "      <td>0.0</td>\n",
              "      <td>0.0</td>\n",
              "      <td>92.0</td>\n",
              "      <td>5.14</td>\n",
              "    </tr>\n",
              "    <tr>\n",
              "      <th>...</th>\n",
              "      <td>...</td>\n",
              "      <td>...</td>\n",
              "      <td>...</td>\n",
              "      <td>...</td>\n",
              "      <td>...</td>\n",
              "      <td>...</td>\n",
              "      <td>...</td>\n",
              "      <td>...</td>\n",
              "      <td>...</td>\n",
              "      <td>...</td>\n",
              "      <td>...</td>\n",
              "      <td>...</td>\n",
              "      <td>...</td>\n",
              "      <td>...</td>\n",
              "      <td>...</td>\n",
              "      <td>...</td>\n",
              "      <td>...</td>\n",
              "      <td>...</td>\n",
              "      <td>...</td>\n",
              "      <td>...</td>\n",
              "      <td>...</td>\n",
              "    </tr>\n",
              "    <tr>\n",
              "      <th>6365892</th>\n",
              "      <td>12</td>\n",
              "      <td>6</td>\n",
              "      <td>0</td>\n",
              "      <td>0900-0959</td>\n",
              "      <td>3</td>\n",
              "      <td>1</td>\n",
              "      <td>29</td>\n",
              "      <td>76</td>\n",
              "      <td>Endeavor Air Inc.</td>\n",
              "      <td>13493</td>\n",
              "      <td>...</td>\n",
              "      <td>5</td>\n",
              "      <td>LaGuardia</td>\n",
              "      <td>40.779</td>\n",
              "      <td>-73.876</td>\n",
              "      <td>NONE</td>\n",
              "      <td>1.13</td>\n",
              "      <td>0.0</td>\n",
              "      <td>0.0</td>\n",
              "      <td>56.0</td>\n",
              "      <td>12.08</td>\n",
              "    </tr>\n",
              "    <tr>\n",
              "      <th>2211138</th>\n",
              "      <td>5</td>\n",
              "      <td>5</td>\n",
              "      <td>0</td>\n",
              "      <td>1400-1459</td>\n",
              "      <td>1</td>\n",
              "      <td>4</td>\n",
              "      <td>55</td>\n",
              "      <td>90</td>\n",
              "      <td>Comair Inc.</td>\n",
              "      <td>19807</td>\n",
              "      <td>...</td>\n",
              "      <td>5</td>\n",
              "      <td>Douglas Municipal</td>\n",
              "      <td>35.219</td>\n",
              "      <td>-80.936</td>\n",
              "      <td>Northwest Florida Regional</td>\n",
              "      <td>0.00</td>\n",
              "      <td>0.0</td>\n",
              "      <td>0.0</td>\n",
              "      <td>91.0</td>\n",
              "      <td>5.82</td>\n",
              "    </tr>\n",
              "    <tr>\n",
              "      <th>4008357</th>\n",
              "      <td>8</td>\n",
              "      <td>6</td>\n",
              "      <td>0</td>\n",
              "      <td>1200-1259</td>\n",
              "      <td>4</td>\n",
              "      <td>2</td>\n",
              "      <td>13</td>\n",
              "      <td>100</td>\n",
              "      <td>JetBlue Airways</td>\n",
              "      <td>7501</td>\n",
              "      <td>...</td>\n",
              "      <td>14</td>\n",
              "      <td>Fort Lauderdale-Hollywood International</td>\n",
              "      <td>26.074</td>\n",
              "      <td>-80.152</td>\n",
              "      <td>Westchester County</td>\n",
              "      <td>0.27</td>\n",
              "      <td>0.0</td>\n",
              "      <td>0.0</td>\n",
              "      <td>92.0</td>\n",
              "      <td>4.47</td>\n",
              "    </tr>\n",
              "    <tr>\n",
              "      <th>218270</th>\n",
              "      <td>1</td>\n",
              "      <td>5</td>\n",
              "      <td>0</td>\n",
              "      <td>0900-0959</td>\n",
              "      <td>11</td>\n",
              "      <td>1</td>\n",
              "      <td>22</td>\n",
              "      <td>149</td>\n",
              "      <td>Alaska Airlines Inc.</td>\n",
              "      <td>10278</td>\n",
              "      <td>...</td>\n",
              "      <td>11</td>\n",
              "      <td>John F. Kennedy International</td>\n",
              "      <td>40.639</td>\n",
              "      <td>-73.777</td>\n",
              "      <td>NONE</td>\n",
              "      <td>0.00</td>\n",
              "      <td>0.0</td>\n",
              "      <td>0.0</td>\n",
              "      <td>47.0</td>\n",
              "      <td>9.84</td>\n",
              "    </tr>\n",
              "    <tr>\n",
              "      <th>5818007</th>\n",
              "      <td>11</td>\n",
              "      <td>1</td>\n",
              "      <td>0</td>\n",
              "      <td>2000-2059</td>\n",
              "      <td>2</td>\n",
              "      <td>6</td>\n",
              "      <td>8</td>\n",
              "      <td>143</td>\n",
              "      <td>Southwest Airlines Co.</td>\n",
              "      <td>2550</td>\n",
              "      <td>...</td>\n",
              "      <td>8</td>\n",
              "      <td>Hollywood-Burbank Midpoint</td>\n",
              "      <td>34.200</td>\n",
              "      <td>-118.358</td>\n",
              "      <td>Metropolitan Oakland International</td>\n",
              "      <td>0.00</td>\n",
              "      <td>0.0</td>\n",
              "      <td>0.0</td>\n",
              "      <td>53.0</td>\n",
              "      <td>5.14</td>\n",
              "    </tr>\n",
              "  </tbody>\n",
              "</table>\n",
              "<p>10000 rows × 26 columns</p>\n",
              "</div>\n",
              "    <div class=\"colab-df-buttons\">\n",
              "\n",
              "  <div class=\"colab-df-container\">\n",
              "    <button class=\"colab-df-convert\" onclick=\"convertToInteractive('df-273a9ee9-55bd-4133-939a-6f88426e36df')\"\n",
              "            title=\"Convert this dataframe to an interactive table.\"\n",
              "            style=\"display:none;\">\n",
              "\n",
              "  <svg xmlns=\"http://www.w3.org/2000/svg\" height=\"24px\" viewBox=\"0 -960 960 960\">\n",
              "    <path d=\"M120-120v-720h720v720H120Zm60-500h600v-160H180v160Zm220 220h160v-160H400v160Zm0 220h160v-160H400v160ZM180-400h160v-160H180v160Zm440 0h160v-160H620v160ZM180-180h160v-160H180v160Zm440 0h160v-160H620v160Z\"/>\n",
              "  </svg>\n",
              "    </button>\n",
              "\n",
              "  <style>\n",
              "    .colab-df-container {\n",
              "      display:flex;\n",
              "      gap: 12px;\n",
              "    }\n",
              "\n",
              "    .colab-df-convert {\n",
              "      background-color: #E8F0FE;\n",
              "      border: none;\n",
              "      border-radius: 50%;\n",
              "      cursor: pointer;\n",
              "      display: none;\n",
              "      fill: #1967D2;\n",
              "      height: 32px;\n",
              "      padding: 0 0 0 0;\n",
              "      width: 32px;\n",
              "    }\n",
              "\n",
              "    .colab-df-convert:hover {\n",
              "      background-color: #E2EBFA;\n",
              "      box-shadow: 0px 1px 2px rgba(60, 64, 67, 0.3), 0px 1px 3px 1px rgba(60, 64, 67, 0.15);\n",
              "      fill: #174EA6;\n",
              "    }\n",
              "\n",
              "    .colab-df-buttons div {\n",
              "      margin-bottom: 4px;\n",
              "    }\n",
              "\n",
              "    [theme=dark] .colab-df-convert {\n",
              "      background-color: #3B4455;\n",
              "      fill: #D2E3FC;\n",
              "    }\n",
              "\n",
              "    [theme=dark] .colab-df-convert:hover {\n",
              "      background-color: #434B5C;\n",
              "      box-shadow: 0px 1px 3px 1px rgba(0, 0, 0, 0.15);\n",
              "      filter: drop-shadow(0px 1px 2px rgba(0, 0, 0, 0.3));\n",
              "      fill: #FFFFFF;\n",
              "    }\n",
              "  </style>\n",
              "\n",
              "    <script>\n",
              "      const buttonEl =\n",
              "        document.querySelector('#df-273a9ee9-55bd-4133-939a-6f88426e36df button.colab-df-convert');\n",
              "      buttonEl.style.display =\n",
              "        google.colab.kernel.accessAllowed ? 'block' : 'none';\n",
              "\n",
              "      async function convertToInteractive(key) {\n",
              "        const element = document.querySelector('#df-273a9ee9-55bd-4133-939a-6f88426e36df');\n",
              "        const dataTable =\n",
              "          await google.colab.kernel.invokeFunction('convertToInteractive',\n",
              "                                                    [key], {});\n",
              "        if (!dataTable) return;\n",
              "\n",
              "        const docLinkHtml = 'Like what you see? Visit the ' +\n",
              "          '<a target=\"_blank\" href=https://colab.research.google.com/notebooks/data_table.ipynb>data table notebook</a>'\n",
              "          + ' to learn more about interactive tables.';\n",
              "        element.innerHTML = '';\n",
              "        dataTable['output_type'] = 'display_data';\n",
              "        await google.colab.output.renderOutput(dataTable, element);\n",
              "        const docLink = document.createElement('div');\n",
              "        docLink.innerHTML = docLinkHtml;\n",
              "        element.appendChild(docLink);\n",
              "      }\n",
              "    </script>\n",
              "  </div>\n",
              "\n",
              "\n",
              "<div id=\"df-a13e2dd3-074f-4413-b987-9654cf92d3d9\">\n",
              "  <button class=\"colab-df-quickchart\" onclick=\"quickchart('df-a13e2dd3-074f-4413-b987-9654cf92d3d9')\"\n",
              "            title=\"Suggest charts\"\n",
              "            style=\"display:none;\">\n",
              "\n",
              "<svg xmlns=\"http://www.w3.org/2000/svg\" height=\"24px\"viewBox=\"0 0 24 24\"\n",
              "     width=\"24px\">\n",
              "    <g>\n",
              "        <path d=\"M19 3H5c-1.1 0-2 .9-2 2v14c0 1.1.9 2 2 2h14c1.1 0 2-.9 2-2V5c0-1.1-.9-2-2-2zM9 17H7v-7h2v7zm4 0h-2V7h2v10zm4 0h-2v-4h2v4z\"/>\n",
              "    </g>\n",
              "</svg>\n",
              "  </button>\n",
              "\n",
              "<style>\n",
              "  .colab-df-quickchart {\n",
              "      --bg-color: #E8F0FE;\n",
              "      --fill-color: #1967D2;\n",
              "      --hover-bg-color: #E2EBFA;\n",
              "      --hover-fill-color: #174EA6;\n",
              "      --disabled-fill-color: #AAA;\n",
              "      --disabled-bg-color: #DDD;\n",
              "  }\n",
              "\n",
              "  [theme=dark] .colab-df-quickchart {\n",
              "      --bg-color: #3B4455;\n",
              "      --fill-color: #D2E3FC;\n",
              "      --hover-bg-color: #434B5C;\n",
              "      --hover-fill-color: #FFFFFF;\n",
              "      --disabled-bg-color: #3B4455;\n",
              "      --disabled-fill-color: #666;\n",
              "  }\n",
              "\n",
              "  .colab-df-quickchart {\n",
              "    background-color: var(--bg-color);\n",
              "    border: none;\n",
              "    border-radius: 50%;\n",
              "    cursor: pointer;\n",
              "    display: none;\n",
              "    fill: var(--fill-color);\n",
              "    height: 32px;\n",
              "    padding: 0;\n",
              "    width: 32px;\n",
              "  }\n",
              "\n",
              "  .colab-df-quickchart:hover {\n",
              "    background-color: var(--hover-bg-color);\n",
              "    box-shadow: 0 1px 2px rgba(60, 64, 67, 0.3), 0 1px 3px 1px rgba(60, 64, 67, 0.15);\n",
              "    fill: var(--button-hover-fill-color);\n",
              "  }\n",
              "\n",
              "  .colab-df-quickchart-complete:disabled,\n",
              "  .colab-df-quickchart-complete:disabled:hover {\n",
              "    background-color: var(--disabled-bg-color);\n",
              "    fill: var(--disabled-fill-color);\n",
              "    box-shadow: none;\n",
              "  }\n",
              "\n",
              "  .colab-df-spinner {\n",
              "    border: 2px solid var(--fill-color);\n",
              "    border-color: transparent;\n",
              "    border-bottom-color: var(--fill-color);\n",
              "    animation:\n",
              "      spin 1s steps(1) infinite;\n",
              "  }\n",
              "\n",
              "  @keyframes spin {\n",
              "    0% {\n",
              "      border-color: transparent;\n",
              "      border-bottom-color: var(--fill-color);\n",
              "      border-left-color: var(--fill-color);\n",
              "    }\n",
              "    20% {\n",
              "      border-color: transparent;\n",
              "      border-left-color: var(--fill-color);\n",
              "      border-top-color: var(--fill-color);\n",
              "    }\n",
              "    30% {\n",
              "      border-color: transparent;\n",
              "      border-left-color: var(--fill-color);\n",
              "      border-top-color: var(--fill-color);\n",
              "      border-right-color: var(--fill-color);\n",
              "    }\n",
              "    40% {\n",
              "      border-color: transparent;\n",
              "      border-right-color: var(--fill-color);\n",
              "      border-top-color: var(--fill-color);\n",
              "    }\n",
              "    60% {\n",
              "      border-color: transparent;\n",
              "      border-right-color: var(--fill-color);\n",
              "    }\n",
              "    80% {\n",
              "      border-color: transparent;\n",
              "      border-right-color: var(--fill-color);\n",
              "      border-bottom-color: var(--fill-color);\n",
              "    }\n",
              "    90% {\n",
              "      border-color: transparent;\n",
              "      border-bottom-color: var(--fill-color);\n",
              "    }\n",
              "  }\n",
              "</style>\n",
              "\n",
              "  <script>\n",
              "    async function quickchart(key) {\n",
              "      const quickchartButtonEl =\n",
              "        document.querySelector('#' + key + ' button');\n",
              "      quickchartButtonEl.disabled = true;  // To prevent multiple clicks.\n",
              "      quickchartButtonEl.classList.add('colab-df-spinner');\n",
              "      try {\n",
              "        const charts = await google.colab.kernel.invokeFunction(\n",
              "            'suggestCharts', [key], {});\n",
              "      } catch (error) {\n",
              "        console.error('Error during call to suggestCharts:', error);\n",
              "      }\n",
              "      quickchartButtonEl.classList.remove('colab-df-spinner');\n",
              "      quickchartButtonEl.classList.add('colab-df-quickchart-complete');\n",
              "    }\n",
              "    (() => {\n",
              "      let quickchartButtonEl =\n",
              "        document.querySelector('#df-a13e2dd3-074f-4413-b987-9654cf92d3d9 button');\n",
              "      quickchartButtonEl.style.display =\n",
              "        google.colab.kernel.accessAllowed ? 'block' : 'none';\n",
              "    })();\n",
              "  </script>\n",
              "</div>\n",
              "    </div>\n",
              "  </div>\n"
            ]
          },
          "metadata": {},
          "execution_count": 27
        }
      ]
    },
    {
      "cell_type": "code",
      "source": [
        "# Check memory used after 10000 random rows sampling\n",
        "sample2.info(verbose=False, memory_usage=\"deep\")"
      ],
      "metadata": {
        "colab": {
          "base_uri": "https://localhost:8080/"
        },
        "id": "nomV5YS0zY0I",
        "outputId": "cdb0ca40-b4c5-434f-f858-52e66e1005c7"
      },
      "execution_count": null,
      "outputs": [
        {
          "output_type": "stream",
          "name": "stdout",
          "text": [
            "<class 'pandas.core.frame.DataFrame'>\n",
            "Int64Index: 10000 entries, 666117 to 5818007\n",
            "Columns: 26 entries, MONTH to AWND\n",
            "dtypes: float64(9), int64(13), object(4)\n",
            "memory usage: 4.6 MB\n"
          ]
        }
      ]
    },
    {
      "cell_type": "markdown",
      "source": [
        "As a result, after sampling, memory usage has tremendously reduced which is from 2.9 GB to 300.5 MB (89.6%) if used 10% of sample and reduce to 4.6 MB (99.8%) if choose only 10,000 out of 6,489,062 rows as sampling."
      ],
      "metadata": {
        "id": "Bzjcyw9M9RgE"
      }
    },
    {
      "cell_type": "markdown",
      "source": [
        "###**5) Parallelize with Dask**"
      ],
      "metadata": {
        "id": "489V9EmvAwb3"
      }
    },
    {
      "cell_type": "code",
      "source": [
        "# Reading a Dataframe with Pandas\n",
        "\n",
        "%%time\n",
        "\n",
        "df3_pd=pd.read_csv(\"full_data_flightdelay.csv\")\n"
      ],
      "metadata": {
        "colab": {
          "base_uri": "https://localhost:8080/"
        },
        "id": "l5oMT1oBRRa0",
        "outputId": "ac206268-c7db-4cae-9e83-224768096b31"
      },
      "execution_count": null,
      "outputs": [
        {
          "output_type": "stream",
          "name": "stdout",
          "text": [
            "CPU times: user 27.3 s, sys: 6.12 s, total: 33.4 s\n",
            "Wall time: 33.8 s\n"
          ]
        }
      ]
    },
    {
      "cell_type": "code",
      "source": [
        "# Reading a Dataframe with Dask\n",
        "\n",
        "%%time\n",
        "\n",
        "import dask.dataframe as dd\n",
        "df3_dd=pd.read_csv(\"full_data_flightdelay.csv\")"
      ],
      "metadata": {
        "colab": {
          "base_uri": "https://localhost:8080/"
        },
        "id": "JbG-IjbRU3MF",
        "outputId": "9e935a02-20f0-4b81-f77a-1394c1a95304"
      },
      "execution_count": null,
      "outputs": [
        {
          "output_type": "stream",
          "name": "stdout",
          "text": [
            "CPU times: user 28.5 s, sys: 2.14 s, total: 30.6 s\n",
            "Wall time: 32.3 s\n"
          ]
        }
      ]
    },
    {
      "cell_type": "code",
      "source": [
        "# Merging Dataframe using Pandas\n",
        "\n",
        "temp1=df3_pd.head(5000)\n",
        "temp2=df3_pd.tail(5000)\n"
      ],
      "metadata": {
        "id": "COrcKw2tVnVl"
      },
      "execution_count": null,
      "outputs": []
    },
    {
      "cell_type": "code",
      "source": [
        "%%time\n",
        "\n",
        "pdmerge=pd.merge(temp1,temp2)"
      ],
      "metadata": {
        "colab": {
          "base_uri": "https://localhost:8080/"
        },
        "id": "zbQrDlrsYwAT",
        "outputId": "7df10fa3-8054-41c6-aad1-5f6cfff7140f"
      },
      "execution_count": null,
      "outputs": [
        {
          "output_type": "stream",
          "name": "stdout",
          "text": [
            "CPU times: user 37.8 ms, sys: 24 µs, total: 37.8 ms\n",
            "Wall time: 63.7 ms\n"
          ]
        }
      ]
    },
    {
      "cell_type": "code",
      "source": [
        "# Merging Dataframe using Dask\n",
        "\n",
        "temp3=df3_dd.head(5000)\n",
        "temp4=df3_dd.tail(5000)"
      ],
      "metadata": {
        "id": "INX2IxxEbE_W"
      },
      "execution_count": null,
      "outputs": []
    },
    {
      "cell_type": "code",
      "source": [
        "%%time\n",
        "\n",
        "ddmerge = dd.merge(temp3,temp4)"
      ],
      "metadata": {
        "colab": {
          "base_uri": "https://localhost:8080/"
        },
        "id": "WnD7mGlFbYD7",
        "outputId": "21892e66-7cae-4afa-a75e-1dc739c284a7"
      },
      "execution_count": null,
      "outputs": [
        {
          "output_type": "stream",
          "name": "stdout",
          "text": [
            "CPU times: user 27.4 ms, sys: 0 ns, total: 27.4 ms\n",
            "Wall time: 27.3 ms\n"
          ]
        }
      ]
    },
    {
      "cell_type": "code",
      "source": [
        "%%time\n",
        "\n",
        "values = df3_pd[\"DEP_DEL15\"].value_counts()\n",
        "\n",
        "# Create a new figure\n",
        "plt.figure()\n",
        "\n",
        "# Add a bar plot of the data\n",
        "plt.bar(values.index, values.values)\n",
        "\n",
        "# Add the value of each bar to the plot\n",
        "for i, v in enumerate(values.values):\n",
        "    plt.text(i, v, str(v), ha='center')\n",
        "\n",
        "# Set the x-axis tick labels\n",
        "plt.xticks(list(values.index))\n",
        "\n",
        "# Add a title and axis labels\n",
        "plt.title(\"Delay Distribution\")\n",
        "plt.xlabel(\"Delay\")\n",
        "plt.ylabel(\"Count of flights\")\n",
        "\n",
        "# Show the plot\n",
        "plt.show()"
      ],
      "metadata": {
        "colab": {
          "base_uri": "https://localhost:8080/",
          "height": 507
        },
        "id": "TMOtHUMtcpLq",
        "outputId": "1477cdf7-c918-4769-b966-2fac9fe08be9"
      },
      "execution_count": null,
      "outputs": [
        {
          "output_type": "display_data",
          "data": {
            "text/plain": [
              "<Figure size 640x480 with 1 Axes>"
            ],
            "image/png": "[encoded data removed]"
          },
          "metadata": {}
        },
        {
          "output_type": "stream",
          "name": "stdout",
          "text": [
            "CPU times: user 388 ms, sys: 48.9 ms, total: 437 ms\n",
            "Wall time: 537 ms\n"
          ]
        }
      ]
    },
    {
      "cell_type": "code",
      "source": [
        "# Create Figure using Dask\n",
        "\n",
        "%%time\n",
        "\n",
        "values = df3_dd[\"DEP_DEL15\"].value_counts()\n",
        "\n",
        "# Create a new figure\n",
        "plt.figure()\n",
        "\n",
        "# Add a bar plot of the data\n",
        "plt.bar(values.index, values.values)\n",
        "\n",
        "# Add the value of each bar to the plot\n",
        "for i, v in enumerate(values.values):\n",
        "    plt.text(i, v, str(v), ha='center')\n",
        "\n",
        "# Set the x-axis tick labels\n",
        "plt.xticks(list(values.index))\n",
        "\n",
        "# Add a title and axis labels\n",
        "plt.title(\"Delay Distribution\")\n",
        "plt.xlabel(\"Delay\")\n",
        "plt.ylabel(\"Count of flights\")\n",
        "\n",
        "# Show the plot\n",
        "plt.show()"
      ],
      "metadata": {
        "colab": {
          "base_uri": "https://localhost:8080/",
          "height": 507
        },
        "id": "KtSwYD73fGe8",
        "outputId": "fbf936a5-d1a1-477c-d62c-9ba3bd5d72c5"
      },
      "execution_count": null,
      "outputs": [
        {
          "output_type": "display_data",
          "data": {
            "text/plain": [
              "<Figure size 640x480 with 1 Axes>"
            ],
            "image/png": "[encoded data removed]"
          },
          "metadata": {}
        },
        {
          "output_type": "stream",
          "name": "stdout",
          "text": [
            "CPU times: user 268 ms, sys: 92.7 ms, total: 361 ms\n",
            "Wall time: 250 ms\n"
          ]
        }
      ]
    },
    {
      "cell_type": "markdown",
      "source": [
        "Below is the result after 3 comparison above:\n",
        "\n",
        "a) Reading Dataframe:\n",
        "   Pandas = 33.8s;\n",
        "   Dask = 32.3s\n",
        "\n",
        "b) Merging dataframe:\n",
        "   Pandas = 63.7ms;\n",
        "   Dask = 27.3ms\n",
        "\n",
        "c) Create Figure:\n",
        "   Pandas = 537ms;\n",
        "   Dask = 250ms\n",
        "\n",
        "Based on the comparison above, reading dataframe, merging dataframe and create figures shows that Dask take less time compared to Pandas due to parallel computing in Dask. This indicates that when involve data manipulation, Dask will take less time than Pandas. This is because, parallel computing in Dask is like a single task done by four workers meanwhile done by the single worker in Pandas."
      ],
      "metadata": {
        "id": "k_jtutvFgEJt"
      }
    },
    {
      "cell_type": "markdown",
      "source": [
        "##Comparative Analysis"
      ],
      "metadata": {
        "id": "mkiihvy0J2Cr"
      }
    },
    {
      "cell_type": "markdown",
      "source": [
        "Comprehensive comparative analysis between traditional methods and advanced strategies are as follows:-\n",
        "\n",
        "![image.png](data:image/png;base64,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)\n",
        "\n",
        "\n"
      ],
      "metadata": {
        "id": "Z_DiL-l0M78U"
      }
    },
    {
      "cell_type": "markdown",
      "source": [
        "Based on the above comparative analysis, it indicates that the traditional method which is Pandas may have some limitations when dealing with large datasets in terms of memory usage and processing time. The advanced strategies give us the opportunity if Pandas still is an option for analysis where these strategies can reduce memory usage, enhance processing speed, and provide efficient ways to handle large datasets."
      ],
      "metadata": {
        "id": "1ke_h_PZP21C"
      }
    },
    {
      "cell_type": "markdown",
      "source": [
        "##Conclusion\n",
        "\n",
        "In conclusion, the advanced strategies allow us to handle big data in Pandas as follows: -\n",
        "\n",
        "a)\tLoad less data:: Instead of loading the entire dataset into memory, only loading the specific columns or rows that are required for the analysis will reduce the memory footprint and speed up operations. However, it may affect the decision due to not representing the entire dataset.\n",
        "\n",
        "b)\tUse chunking: When dealing with large datasets, chunks allow to processing of the data in smaller pieces to avoid memory issues. This is particularly useful when performing operations that don't require the entire dataset to be in memory simultaneously. However, certain operations might be more complex when working with chunks\n",
        "\n",
        "c)\tOptimized data types: Choosing the most memory-efficient data types for each column can significantly reduce memory usage and speed up computations due to reduced data size. Thus, it can improve overall performance.\n",
        "\n",
        "d)\tSampling: Analyzing a sample of the data also can reduce memory usage and take less time for processing. Moreover, sampling can provide insights and help in understanding the overall characteristics of the dataset. However, certain rare events or patterns might be missed due to sampling might not represent the entire population accurately.\n",
        "\n",
        "e)\tParallelize with Dask: Dask enables parallel and distributed computing, allowing computations to be split across multiple cores or even distributed across a cluster. This will help in handling larger-than-memory datasets by efficiently utilizing available computational resources.\n",
        "\n",
        "In summary, depending on our goal, sampling strategies are the best for exploration purposes. In case we need to process all of our data, we can try iterating over data or optimizing the data types. If our dataset is still too large and takes more time to process, then we can go for Dask to parallelize Pandas. All of these strategies collectively aim to reduce memory usage, enhance processing speed, and provide efficient ways to handle large datasets without overwhelming system resources.\n"
      ],
      "metadata": {
        "id": "rSSbJfauQHHB"
      }
    }
  ]
}
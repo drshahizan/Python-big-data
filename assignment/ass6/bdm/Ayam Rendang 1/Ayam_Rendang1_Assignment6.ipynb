{
  "nbformat": 4,
  "nbformat_minor": 0,
  "metadata": {
    "colab": {
      "provenance": [],
      "include_colab_link": true
    },
    "kernelspec": {
      "name": "python3",
      "display_name": "Python 3"
    },
    "language_info": {
      "name": "python"
    }
  },
  "cells": [
    {
      "cell_type": "markdown",
      "metadata": {
        "id": "view-in-github",
        "colab_type": "text"
      },
      "source": [
        "<a href=\"https://colab.research.google.com/github/drshahizan/Python-big-data/blob/main/assignment/ass6/bdm/Ayam%20Rendang%201/Ayam_Rendang1_Assignment6.ipynb\" target=\"_parent\"><img src=\"https://colab.research.google.com/assets/colab-badge.svg\" alt=\"Open In Colab\"/></a>"
      ]
    },
    {
      "cell_type": "markdown",
      "source": [
        "## **Python Big Data Assignment 6 - Iowa Liquor Sales Dataset**\n",
        "\n",
        "Dealing with large dataset using Pandas library with five different techniques mentioned hereby to address the limitations working with big data using Pandas library\n",
        "\n",
        "\n"
      ],
      "metadata": {
        "id": "UXM1aosTsh0V"
      }
    },
    {
      "cell_type": "markdown",
      "source": [
        "**Group Name : Ayam Rendang 1**"
      ],
      "metadata": {
        "id": "GpNZzSFhu54H"
      }
    },
    {
      "cell_type": "markdown",
      "source": [
        "**Team Member :**\n",
        "\n",
        "*   THANEATHARRAN A/L SANTHARASEKARAN (MSC232006)\n",
        "*   RANJEET A/L THIAGARAJAN (MCS231015)\n",
        "\n",
        "\n",
        "\n",
        "\n",
        "\n"
      ],
      "metadata": {
        "id": "5dGhrW77u-wc"
      }
    },
    {
      "cell_type": "markdown",
      "source": [
        "# **Download the Dataset from directly Kaggle into Google Colab**"
      ],
      "metadata": {
        "id": "yk_E3Fhnvt3C"
      }
    },
    {
      "cell_type": "code",
      "source": [
        "from google.colab import drive\n",
        "drive.mount(\"/content/drive\")"
      ],
      "metadata": {
        "colab": {
          "base_uri": "https://localhost:8080/"
        },
        "id": "I5jkeriv_FxB",
        "outputId": "6d1b3b57-f897-46a3-c602-ae3181b9ccae"
      },
      "execution_count": null,
      "outputs": [
        {
          "output_type": "stream",
          "name": "stdout",
          "text": [
            "Drive already mounted at /content/drive; to attempt to forcibly remount, call drive.mount(\"/content/drive\", force_remount=True).\n"
          ]
        }
      ]
    },
    {
      "cell_type": "code",
      "source": [
        "import os\n",
        "os.environ['KAGGLE_CONFIG_DIR'] = \"/content/drive/My Drive/kaggle\""
      ],
      "metadata": {
        "id": "5VNiS9aE_afK"
      },
      "execution_count": null,
      "outputs": []
    },
    {
      "cell_type": "code",
      "source": [
        "%cd /content/drive/MyDrive/kaggle"
      ],
      "metadata": {
        "colab": {
          "base_uri": "https://localhost:8080/"
        },
        "id": "sfOG0gQc_2qC",
        "outputId": "a22c53c5-ce2b-4c83-9e55-3d4d8363b652"
      },
      "execution_count": null,
      "outputs": [
        {
          "output_type": "stream",
          "name": "stdout",
          "text": [
            "/content/drive/MyDrive/kaggle\n"
          ]
        }
      ]
    },
    {
      "cell_type": "code",
      "source": [
        "!kaggle datasets download -d residentmario/iowa-liquor-sales"
      ],
      "metadata": {
        "colab": {
          "base_uri": "https://localhost:8080/"
        },
        "id": "YaMn0OxC_48b",
        "outputId": "45569d12-5f71-4290-8fe1-457e88608dd7"
      },
      "execution_count": null,
      "outputs": [
        {
          "output_type": "stream",
          "name": "stdout",
          "text": [
            "Downloading iowa-liquor-sales.zip to /content/drive/My Drive/kaggle\n",
            "100% 730M/731M [00:22<00:00, 40.2MB/s]\n",
            "100% 731M/731M [00:22<00:00, 34.3MB/s]\n"
          ]
        }
      ]
    },
    {
      "cell_type": "code",
      "source": [
        "!unzip iowa-liquor-sales.zip && rm iowa-liquor-sales.zip"
      ],
      "metadata": {
        "colab": {
          "base_uri": "https://localhost:8080/"
        },
        "id": "Qc-4l0HGACCV",
        "outputId": "ee0c8d1e-362c-4da9-d134-5bb73d0a326b"
      },
      "execution_count": null,
      "outputs": [
        {
          "output_type": "stream",
          "name": "stdout",
          "text": [
            "Archive:  iowa-liquor-sales.zip\n",
            "  inflating: Iowa_Liquor_Sales.csv   \n"
          ]
        }
      ]
    },
    {
      "cell_type": "markdown",
      "source": [
        " # **Import necessary libraries and install required packages**"
      ],
      "metadata": {
        "id": "qc0X61fStmgp"
      }
    },
    {
      "cell_type": "code",
      "source": [
        "import pandas as pd\n",
        "import numpy as np"
      ],
      "metadata": {
        "id": "BE4USoJNttss"
      },
      "execution_count": null,
      "outputs": []
    },
    {
      "cell_type": "markdown",
      "source": [
        "# **The total memory used to load the dataset**"
      ],
      "metadata": {
        "id": "0908SprJb32T"
      }
    },
    {
      "cell_type": "code",
      "source": [
        "%%time\n",
        "df = pd.read_csv(\"/content/drive/MyDrive/kaggle/Iowa_Liquor_Sales.csv\")\n"
      ],
      "metadata": {
        "id": "qoGMFu_IcIOe",
        "colab": {
          "base_uri": "https://localhost:8080/"
        },
        "outputId": "f644d709-c498-45e0-b6e7-460c50a99e03"
      },
      "execution_count": null,
      "outputs": [
        {
          "output_type": "stream",
          "name": "stderr",
          "text": [
            "<timed exec>:1: DtypeWarning: Columns (6) have mixed types. Specify dtype option on import or set low_memory=False.\n"
          ]
        },
        {
          "output_type": "stream",
          "name": "stdout",
          "text": [
            "CPU times: user 1min 6s, sys: 15.4 s, total: 1min 22s\n",
            "Wall time: 1min 34s\n"
          ]
        }
      ]
    },
    {
      "cell_type": "code",
      "source": [
        "memory_usage = df.memory_usage().sum()\n",
        "\n",
        "print(\"The apparent memory consumption: \",round(memory_usage/1024**3,2), \"GigaBytes\")"
      ],
      "metadata": {
        "colab": {
          "base_uri": "https://localhost:8080/"
        },
        "id": "OZUAhe93e97w",
        "outputId": "55ae14b5-8752-4d2c-b5bc-2a51440ffd43"
      },
      "execution_count": null,
      "outputs": [
        {
          "output_type": "stream",
          "name": "stdout",
          "text": [
            "The apparent memory consumption:  2.25 GigaBytes\n"
          ]
        }
      ]
    },
    {
      "cell_type": "markdown",
      "source": [
        "# **General description of the dataset**"
      ],
      "metadata": {
        "id": "4K2JHsMydCXq"
      }
    },
    {
      "cell_type": "code",
      "source": [
        "df.info()"
      ],
      "metadata": {
        "id": "uRp1PUfodLat",
        "colab": {
          "base_uri": "https://localhost:8080/"
        },
        "outputId": "4b36f4e3-e801-4ce7-c9eb-1ad66852a564"
      },
      "execution_count": null,
      "outputs": [
        {
          "output_type": "stream",
          "name": "stdout",
          "text": [
            "<class 'pandas.core.frame.DataFrame'>\n",
            "RangeIndex: 12591077 entries, 0 to 12591076\n",
            "Data columns (total 24 columns):\n",
            " #   Column                 Dtype  \n",
            "---  ------                 -----  \n",
            " 0   Invoice/Item Number    object \n",
            " 1   Date                   object \n",
            " 2   Store Number           int64  \n",
            " 3   Store Name             object \n",
            " 4   Address                object \n",
            " 5   City                   object \n",
            " 6   Zip Code               object \n",
            " 7   Store Location         object \n",
            " 8   County Number          float64\n",
            " 9   County                 object \n",
            " 10  Category               float64\n",
            " 11  Category Name          object \n",
            " 12  Vendor Number          float64\n",
            " 13  Vendor Name            object \n",
            " 14  Item Number            int64  \n",
            " 15  Item Description       object \n",
            " 16  Pack                   int64  \n",
            " 17  Bottle Volume (ml)     int64  \n",
            " 18  State Bottle Cost      object \n",
            " 19  State Bottle Retail    object \n",
            " 20  Bottles Sold           int64  \n",
            " 21  Sale (Dollars)         object \n",
            " 22  Volume Sold (Liters)   float64\n",
            " 23  Volume Sold (Gallons)  float64\n",
            "dtypes: float64(5), int64(5), object(14)\n",
            "memory usage: 2.3+ GB\n"
          ]
        }
      ]
    },
    {
      "cell_type": "markdown",
      "source": [
        "# **Strategies for big dataset**"
      ],
      "metadata": {
        "id": "hnVvLJRtdOl0"
      }
    },
    {
      "cell_type": "markdown",
      "source": [
        "# **Load Less Data**\n",
        "\n",
        "Load only neccesary data that required based on analysis objectives"
      ],
      "metadata": {
        "id": "cL71qgOqfjwu"
      }
    },
    {
      "cell_type": "markdown",
      "source": [
        "Let say we want to study the total sales of liquor then we only need features contribute to answer that specific objective and we can drop others features we are not relevant\n",
        "\n",
        "In that case only 3 features out of 23 are relevant which are:\n",
        "\n",
        "\n",
        "\n",
        "*   Bottles Sold           int64\n",
        "*   Volume Sold (Liters)   float64\n",
        "*   Volume Sold (Gallons)  float64\n",
        "\n",
        "\n",
        "\n",
        "\n",
        "\n",
        "\n",
        "\n",
        "\n",
        "\n"
      ],
      "metadata": {
        "id": "tr-zKL_ip2hz"
      }
    },
    {
      "cell_type": "code",
      "source": [
        "df1 = pd.read_csv(\"/content/drive/MyDrive/kaggle/Iowa_Liquor_Sales.csv\", usecols = [\"Bottles Sold\",\"Volume Sold (Liters)\",\"Volume Sold (Gallons)\"])\n",
        "\n",
        "memory_usage = df1.memory_usage().sum()\n",
        "print(\"The apparent memory consumption: \",round(memory_usage/1024**3,2), \"GigaBytes\")"
      ],
      "metadata": {
        "id": "Mlb4kqrPeLeu",
        "colab": {
          "base_uri": "https://localhost:8080/"
        },
        "outputId": "f231efd1-8ee5-4b84-fec5-3f7122269674"
      },
      "execution_count": null,
      "outputs": [
        {
          "output_type": "stream",
          "name": "stdout",
          "text": [
            "The apparent memory consumption:  0.28 GigaBytes\n"
          ]
        }
      ]
    },
    {
      "cell_type": "markdown",
      "source": [
        "As you can see the memory consumption decrease from 2.25 GB previously to 0.28 GB"
      ],
      "metadata": {
        "id": "ef4MFiLetG4l"
      }
    },
    {
      "cell_type": "markdown",
      "source": [
        "# **Use Chunking**"
      ],
      "metadata": {
        "id": "gvdGZaWGtdUa"
      }
    },
    {
      "cell_type": "markdown",
      "source": [
        "Let us minimize the memory consumption by divide and conquer method through spliting the dataset into smaller portions which known as chunks and manipulate each chunks one at a time."
      ],
      "metadata": {
        "id": "7vtwiPaZtv9r"
      }
    },
    {
      "cell_type": "code",
      "source": [
        "chunk_size = 1000000\n",
        "chunk_no=1\n",
        "!mkdir \"Chunk_Files\"\n",
        "%cd /content/drive/MyDrive/kaggle/Chunk_Files/\n",
        "for chunk in pd.read_csv('/content/drive/MyDrive/kaggle/Iowa_Liquor_Sales.csv',chunksize=chunk_size):\n",
        "    chunk.to_csv('chunk'+str(chunk_no)+'.csv',index=False)\n",
        "    chunk_no+=1"
      ],
      "metadata": {
        "colab": {
          "base_uri": "https://localhost:8080/"
        },
        "id": "iuwpSWspS9Xv",
        "outputId": "ec511fba-cef7-4aa3-ad4c-a7699c177c54"
      },
      "execution_count": null,
      "outputs": [
        {
          "output_type": "stream",
          "name": "stdout",
          "text": [
            "/content/drive/MyDrive/kaggle/Chunk_Files\n"
          ]
        }
      ]
    },
    {
      "cell_type": "code",
      "source": [
        "%cd /content/drive/MyDrive/kaggle/Chunk_Files/"
      ],
      "metadata": {
        "colab": {
          "base_uri": "https://localhost:8080/"
        },
        "id": "Bo1tH828Ogul",
        "outputId": "9dc88644-b8d4-4dc5-9fd4-19a6739fd551"
      },
      "execution_count": null,
      "outputs": [
        {
          "output_type": "stream",
          "name": "stdout",
          "text": [
            "/content/drive/MyDrive/kaggle/Chunk_Files\n"
          ]
        }
      ]
    },
    {
      "cell_type": "code",
      "source": [
        "# Now we have multiple chunk files, and each chunk flie can easily be loaded as a pandas dataframe.\n",
        "\n",
        "df2 = pd.read_csv('chunk1.csv')\n",
        "\n",
        "memory_usage = df2.memory_usage().sum()\n",
        "print(\"The apparent memory consumption: \",round(memory_usage/1024**3,2), \"GigaBytes\")\n",
        "df2.info()"
      ],
      "metadata": {
        "colab": {
          "base_uri": "https://localhost:8080/"
        },
        "id": "WbpLFHnGUgiq",
        "outputId": "5dac2b27-43cb-4319-aa11-14ee68706ce1"
      },
      "execution_count": null,
      "outputs": [
        {
          "output_type": "stream",
          "name": "stdout",
          "text": [
            "The apparent memory consumption:  0.18 GigaBytes\n",
            "<class 'pandas.core.frame.DataFrame'>\n",
            "RangeIndex: 1000000 entries, 0 to 999999\n",
            "Data columns (total 24 columns):\n",
            " #   Column                 Non-Null Count    Dtype  \n",
            "---  ------                 --------------    -----  \n",
            " 0   Invoice/Item Number    1000000 non-null  object \n",
            " 1   Date                   1000000 non-null  object \n",
            " 2   Store Number           1000000 non-null  int64  \n",
            " 3   Store Name             1000000 non-null  object \n",
            " 4   Address                1000000 non-null  object \n",
            " 5   City                   1000000 non-null  object \n",
            " 6   Zip Code               1000000 non-null  object \n",
            " 7   Store Location         1000000 non-null  object \n",
            " 8   County Number          998952 non-null   float64\n",
            " 9   County                 998952 non-null   object \n",
            " 10  Category               999711 non-null   float64\n",
            " 11  Category Name          999415 non-null   object \n",
            " 12  Vendor Number          1000000 non-null  int64  \n",
            " 13  Vendor Name            1000000 non-null  object \n",
            " 14  Item Number            1000000 non-null  int64  \n",
            " 15  Item Description       1000000 non-null  object \n",
            " 16  Pack                   1000000 non-null  int64  \n",
            " 17  Bottle Volume (ml)     1000000 non-null  int64  \n",
            " 18  State Bottle Cost      999998 non-null   object \n",
            " 19  State Bottle Retail    999998 non-null   object \n",
            " 20  Bottles Sold           1000000 non-null  int64  \n",
            " 21  Sale (Dollars)         999998 non-null   object \n",
            " 22  Volume Sold (Liters)   1000000 non-null  float64\n",
            " 23  Volume Sold (Gallons)  1000000 non-null  float64\n",
            "dtypes: float64(4), int64(6), object(14)\n",
            "memory usage: 183.1+ MB\n"
          ]
        }
      ]
    },
    {
      "cell_type": "markdown",
      "source": [
        "As a result of chunking method, it has reduced the memory usage from 2.25 GB to 0.18 GB by subdividing dataset into smaller parts."
      ],
      "metadata": {
        "id": "cO8MCsabWQzs"
      }
    },
    {
      "cell_type": "markdown",
      "source": [
        "# **Optimize Data Types**"
      ],
      "metadata": {
        "id": "kLf84WwaXlfP"
      }
    },
    {
      "cell_type": "code",
      "source": [
        "# check for the dtypes of the columns that are int64\n",
        "\n",
        "df.select_dtypes(include=np.number).dtypes\n",
        "df.select_dtypes(include=\"int64\").dtypes\n",
        "numeric_columns = df.select_dtypes(include=\"int64\").columns\n",
        "print(numeric_columns)\n"
      ],
      "metadata": {
        "colab": {
          "base_uri": "https://localhost:8080/"
        },
        "id": "Ua91e4f7X3nM",
        "outputId": "f47464f3-fa5c-41f8-a802-32253bf307c2"
      },
      "execution_count": null,
      "outputs": [
        {
          "output_type": "stream",
          "name": "stdout",
          "text": [
            "Index(['Store Number', 'Item Number', 'Pack', 'Bottle Volume (ml)',\n",
            "       'Bottles Sold'],\n",
            "      dtype='object')\n"
          ]
        }
      ]
    },
    {
      "cell_type": "code",
      "source": [
        "# Find the minimum and maximum values for each columns\n",
        "\n",
        "min_values = df[numeric_columns].min()\n",
        "max_values = df[numeric_columns].max()\n",
        "\n",
        "print(\"Minimum values:\")\n",
        "print(min_values)\n",
        "\n",
        "print(\"\\nMaximum values:\")\n",
        "print(max_values)\n"
      ],
      "metadata": {
        "colab": {
          "base_uri": "https://localhost:8080/"
        },
        "id": "ZDSEOFyEbhIC",
        "outputId": "ce4e72e8-ebb1-42fc-9c28-fa089db36e2a"
      },
      "execution_count": null,
      "outputs": [
        {
          "output_type": "stream",
          "name": "stdout",
          "text": [
            "Minimum values:\n",
            "Store Number          2106\n",
            "Item Number            101\n",
            "Pack                     1\n",
            "Bottle Volume (ml)       0\n",
            "Bottles Sold             0\n",
            "dtype: int64\n",
            "\n",
            "Maximum values:\n",
            "Store Number            9932\n",
            "Item Number           999275\n",
            "Pack                     600\n",
            "Bottle Volume (ml)    378000\n",
            "Bottles Sold           15000\n",
            "dtype: int64\n"
          ]
        }
      ]
    },
    {
      "cell_type": "code",
      "source": [
        "# Convert Integer data type into smaller data type (uint8, uint16)\n",
        "# Define columns and their corresponding dtypes based on the min and max values\n",
        "\n",
        "columns_and_dtypes = {}\n",
        "for cols in numeric_columns:\n",
        "  temp = {cols: 'int8' if 0 <= df[cols].min() and df[cols].max() <= 255 else 'int16'}\n",
        "  columns_and_dtypes.update(temp)\n",
        "\n",
        "\n",
        "# Apply the conversion to each column\n",
        "df3 = df.astype(columns_and_dtypes)\n"
      ],
      "metadata": {
        "id": "mNESi6VleREl"
      },
      "execution_count": null,
      "outputs": []
    },
    {
      "cell_type": "code",
      "source": [
        "# Check the DF Types after optimized Data Types\n",
        "df3.dtypes"
      ],
      "metadata": {
        "colab": {
          "base_uri": "https://localhost:8080/"
        },
        "id": "TADMTFAhknpJ",
        "outputId": "bd8486d1-0e05-4145-d245-a77e5792549d"
      },
      "execution_count": null,
      "outputs": [
        {
          "output_type": "execute_result",
          "data": {
            "text/plain": [
              "Invoice/Item Number       object\n",
              "Date                      object\n",
              "Store Number               int16\n",
              "Store Name                object\n",
              "Address                   object\n",
              "City                      object\n",
              "Zip Code                  object\n",
              "Store Location            object\n",
              "County Number            float64\n",
              "County                    object\n",
              "Category                 float64\n",
              "Category Name             object\n",
              "Vendor Number            float64\n",
              "Vendor Name               object\n",
              "Item Number                int16\n",
              "Item Description          object\n",
              "Pack                       int16\n",
              "Bottle Volume (ml)         int16\n",
              "State Bottle Cost         object\n",
              "State Bottle Retail       object\n",
              "Bottles Sold               int16\n",
              "Sale (Dollars)            object\n",
              "Volume Sold (Liters)     float64\n",
              "Volume Sold (Gallons)    float64\n",
              "dtype: object"
            ]
          },
          "metadata": {},
          "execution_count": 14
        }
      ]
    },
    {
      "cell_type": "code",
      "source": [
        "memory_usage = df3.memory_usage().sum()\n",
        "print(\"The apparent memory consumption: \",round(memory_usage/1024**3,2), \"GigaBytes\")"
      ],
      "metadata": {
        "colab": {
          "base_uri": "https://localhost:8080/"
        },
        "id": "HMwi7A0q9INt",
        "outputId": "8143bae3-4a2d-45d6-9c57-39232223a6e8"
      },
      "execution_count": null,
      "outputs": [
        {
          "output_type": "stream",
          "name": "stdout",
          "text": [
            "The apparent memory consumption:  1.9 GigaBytes\n"
          ]
        }
      ]
    },
    {
      "cell_type": "markdown",
      "source": [
        "Now you can see that the memory utilization to load the dataset reduced from 2.25 GB intially to just 1.9 GB."
      ],
      "metadata": {
        "id": "1C3eZIJG9OME"
      }
    },
    {
      "cell_type": "markdown",
      "source": [
        "# **Sampling**"
      ],
      "metadata": {
        "id": "DHnP1M5_9bJ0"
      }
    },
    {
      "cell_type": "code",
      "source": [
        "# Random sampling of 10% of Dataset\n",
        "sample1 = df.sample(frac=0.10)\n",
        "sample1"
      ],
      "metadata": {
        "colab": {
          "base_uri": "https://localhost:8080/",
          "height": 1000
        },
        "id": "rgnfbv3t9gLn",
        "outputId": "9fd3b359-78f1-4e37-d256-7d5a3b5ff0e9"
      },
      "execution_count": null,
      "outputs": [
        {
          "output_type": "execute_result",
          "data": {
            "text/plain": [
              "         Invoice/Item Number        Date  Store Number  \\\n",
              "1635544         S06443000012  07/06/2012          4295   \n",
              "10806151     INV-02781500007  01/18/2017          2548   \n",
              "12019906     INV-06435500022  08/02/2017          2618   \n",
              "8559412         S30071100030  01/07/2016          3670   \n",
              "1950648         S13816900011  08/08/2013          2552   \n",
              "...                      ...         ...           ...   \n",
              "9095230         S31967900047  04/25/2016          2584   \n",
              "3171341         S21946300071  10/22/2014          2548   \n",
              "7492937         S22832200018  12/09/2014          2353   \n",
              "6218696         S06056000014  06/13/2012          2963   \n",
              "2565104         S05553500081  05/15/2012          2959   \n",
              "\n",
              "                                   Store Name                Address  \\\n",
              "1635544            Nat Food Mart #1 / Hubbell           3804 HUBBELL   \n",
              "10806151          Hy-Vee Food Store / Altoona      100 8th Street SW   \n",
              "12019906   Hy-Vee Drugstore #6 / Cedar Rapids       505 Boyson Rd NE   \n",
              "8559412            Wal-Mart 2827 / Coralville       2801 COMMERCE DR   \n",
              "1950648   Hy-Vee Food Store #3 / Cedar Rapids  20 WILSON AVENUE WEST   \n",
              "...                                       ...                    ...   \n",
              "9095230      Hy-Vee Food Store / Fort Madison          2606 AVENUE L   \n",
              "3171341           Hy-Vee Food Store / Altoona      100 8TH STREET SW   \n",
              "7492937                   Cresco Liquor Store         708 2ND AVE SE   \n",
              "6218696                        Dahl's / Clive          15500 HICKMAN   \n",
              "2565104                    Dahl's / Merle Hay    4343 MERLE HAY ROAD   \n",
              "\n",
              "                  City Zip Code  \\\n",
              "1635544     DES MOINES    50317   \n",
              "10806151       Altoona  50009.0   \n",
              "12019906  Cedar Rapids  52402.0   \n",
              "8559412     CORALVILLE    52241   \n",
              "1950648   CEDAR RAPIDS    52404   \n",
              "...                ...      ...   \n",
              "9095230   FORT MADISON    52627   \n",
              "3171341        ALTOONA    50009   \n",
              "7492937         CRESCO    52136   \n",
              "6218696          CLIVE    50325   \n",
              "2565104     DES MOINES    50310   \n",
              "\n",
              "                                             Store Location  County Number  \\\n",
              "1635544   3804 HUBBELL\\nDES MOINES 50317\\n(41.630651, -9...           77.0   \n",
              "10806151  100 8th Street SW\\nAltoona 50009\\n(41.644041, ...           77.0   \n",
              "12019906  505 Boyson Rd NE\\nCedar Rapids 52402\\n(42.0467...           57.0   \n",
              "8559412   2801 COMMERCE DR\\nCORALVILLE 52241\\n(41.695806...           52.0   \n",
              "1950648   20 WILSON AVENUE WEST\\nCEDAR RAPIDS 52404\\n(41...           57.0   \n",
              "...                                                     ...            ...   \n",
              "9095230   2606 AVENUE L\\nFORT MADISON 52627\\n(40.626988,...           56.0   \n",
              "3171341   100 8TH STREET SW\\nALTOONA 50009\\n(41.644041, ...           77.0   \n",
              "7492937   708 2ND AVE SE\\nCRESCO 52136\\n(43.371131, -92....           45.0   \n",
              "6218696   15500 HICKMAN\\nCLIVE 50325\\n(41.614714, -93.83...           77.0   \n",
              "2565104   4343 MERLE HAY ROAD\\nDES MOINES 50310\\n(41.637...           77.0   \n",
              "\n",
              "           County  ...  Item Number                    Item Description  Pack  \\\n",
              "1635544      Polk  ...        40629                     UV Whipped Mini     6   \n",
              "10806151     POLK  ...        65256                Jagermeister Liqueur    12   \n",
              "12019906     LINN  ...        34001   Absolut Swedish Vodka 80 Prf Mini    10   \n",
              "8559412   Johnson  ...        69637  Dr. Mcgillicuddy's Cherry Schnapps    12   \n",
              "1950648      Linn  ...        41681               Uv Red (cherry) Vodka     6   \n",
              "...           ...  ...          ...                                 ...   ...   \n",
              "9095230       Lee  ...        67006                Midori Melon Liqueur    12   \n",
              "3171341      Polk  ...        57148       Chi-Chi's Margarita W/tequila     6   \n",
              "7492937    Howard  ...        11777                        Black Velvet    12   \n",
              "6218696      Polk  ...        12408                 Canadian Ltd Whisky     6   \n",
              "2565104      Polk  ...        72816         Caffe Lolita Coffee Liqueur    12   \n",
              "\n",
              "         Bottle Volume (ml)  State Bottle Cost State Bottle Retail  \\\n",
              "1635544                 500              $4.88               $7.32   \n",
              "10806151                750             $12.05              $18.08   \n",
              "12019906                600              $7.92              $11.88   \n",
              "8559412                1000             $11.00              $16.50   \n",
              "1950648                1750              $8.48              $13.98   \n",
              "...                     ...                ...                 ...   \n",
              "9095230                 750             $11.50              $17.25   \n",
              "3171341                1750              $6.00               $9.25   \n",
              "7492937                1000              $6.63               $9.95   \n",
              "6218696                1750              $7.79              $12.29   \n",
              "2565104                 750              $5.00               $7.50   \n",
              "\n",
              "          Bottles Sold  Sale (Dollars) Volume Sold (Liters)  \\\n",
              "1635544              1           $7.32                 0.50   \n",
              "10806151             1         $216.96                 0.75   \n",
              "12019906             1          $11.88                 0.60   \n",
              "8559412             12         $198.00                12.00   \n",
              "1950648              6          $83.88                10.50   \n",
              "...                ...             ...                  ...   \n",
              "9095230              2          $34.50                 1.50   \n",
              "3171341              6          $55.50                10.50   \n",
              "7492937             24         $238.80                24.00   \n",
              "6218696              6          $73.74                10.50   \n",
              "2565104              3          $22.50                 2.25   \n",
              "\n",
              "         Volume Sold (Gallons)  \n",
              "1635544                   0.13  \n",
              "10806151                  0.19  \n",
              "12019906                  0.15  \n",
              "8559412                   3.17  \n",
              "1950648                   2.77  \n",
              "...                        ...  \n",
              "9095230                   0.40  \n",
              "3171341                   2.77  \n",
              "7492937                   6.34  \n",
              "6218696                   2.77  \n",
              "2565104                   0.59  \n",
              "\n",
              "[1259108 rows x 24 columns]"
            ],
            "text/html": [
              "\n",
              "  <div id=\"df-da00bb8c-2e9f-43f7-96d9-e66909a6b063\" class=\"colab-df-container\">\n",
              "    <div>\n",
              "<style scoped>\n",
              "    .dataframe tbody tr th:only-of-type {\n",
              "        vertical-align: middle;\n",
              "    }\n",
              "\n",
              "    .dataframe tbody tr th {\n",
              "        vertical-align: top;\n",
              "    }\n",
              "\n",
              "    .dataframe thead th {\n",
              "        text-align: right;\n",
              "    }\n",
              "</style>\n",
              "<table border=\"1\" class=\"dataframe\">\n",
              "  <thead>\n",
              "    <tr style=\"text-align: right;\">\n",
              "      <th></th>\n",
              "      <th>Invoice/Item Number</th>\n",
              "      <th>Date</th>\n",
              "      <th>Store Number</th>\n",
              "      <th>Store Name</th>\n",
              "      <th>Address</th>\n",
              "      <th>City</th>\n",
              "      <th>Zip Code</th>\n",
              "      <th>Store Location</th>\n",
              "      <th>County Number</th>\n",
              "      <th>County</th>\n",
              "      <th>...</th>\n",
              "      <th>Item Number</th>\n",
              "      <th>Item Description</th>\n",
              "      <th>Pack</th>\n",
              "      <th>Bottle Volume (ml)</th>\n",
              "      <th>State Bottle Cost</th>\n",
              "      <th>State Bottle Retail</th>\n",
              "      <th>Bottles Sold</th>\n",
              "      <th>Sale (Dollars)</th>\n",
              "      <th>Volume Sold (Liters)</th>\n",
              "      <th>Volume Sold (Gallons)</th>\n",
              "    </tr>\n",
              "  </thead>\n",
              "  <tbody>\n",
              "    <tr>\n",
              "      <th>1635544</th>\n",
              "      <td>S06443000012</td>\n",
              "      <td>07/06/2012</td>\n",
              "      <td>4295</td>\n",
              "      <td>Nat Food Mart #1 / Hubbell</td>\n",
              "      <td>3804 HUBBELL</td>\n",
              "      <td>DES MOINES</td>\n",
              "      <td>50317</td>\n",
              "      <td>3804 HUBBELL\\nDES MOINES 50317\\n(41.630651, -9...</td>\n",
              "      <td>77.0</td>\n",
              "      <td>Polk</td>\n",
              "      <td>...</td>\n",
              "      <td>40629</td>\n",
              "      <td>UV Whipped Mini</td>\n",
              "      <td>6</td>\n",
              "      <td>500</td>\n",
              "      <td>$4.88</td>\n",
              "      <td>$7.32</td>\n",
              "      <td>1</td>\n",
              "      <td>$7.32</td>\n",
              "      <td>0.50</td>\n",
              "      <td>0.13</td>\n",
              "    </tr>\n",
              "    <tr>\n",
              "      <th>10806151</th>\n",
              "      <td>INV-02781500007</td>\n",
              "      <td>01/18/2017</td>\n",
              "      <td>2548</td>\n",
              "      <td>Hy-Vee Food Store / Altoona</td>\n",
              "      <td>100 8th Street SW</td>\n",
              "      <td>Altoona</td>\n",
              "      <td>50009.0</td>\n",
              "      <td>100 8th Street SW\\nAltoona 50009\\n(41.644041, ...</td>\n",
              "      <td>77.0</td>\n",
              "      <td>POLK</td>\n",
              "      <td>...</td>\n",
              "      <td>65256</td>\n",
              "      <td>Jagermeister Liqueur</td>\n",
              "      <td>12</td>\n",
              "      <td>750</td>\n",
              "      <td>$12.05</td>\n",
              "      <td>$18.08</td>\n",
              "      <td>1</td>\n",
              "      <td>$216.96</td>\n",
              "      <td>0.75</td>\n",
              "      <td>0.19</td>\n",
              "    </tr>\n",
              "    <tr>\n",
              "      <th>12019906</th>\n",
              "      <td>INV-06435500022</td>\n",
              "      <td>08/02/2017</td>\n",
              "      <td>2618</td>\n",
              "      <td>Hy-Vee Drugstore #6 / Cedar Rapids</td>\n",
              "      <td>505 Boyson Rd NE</td>\n",
              "      <td>Cedar Rapids</td>\n",
              "      <td>52402.0</td>\n",
              "      <td>505 Boyson Rd NE\\nCedar Rapids 52402\\n(42.0467...</td>\n",
              "      <td>57.0</td>\n",
              "      <td>LINN</td>\n",
              "      <td>...</td>\n",
              "      <td>34001</td>\n",
              "      <td>Absolut Swedish Vodka 80 Prf Mini</td>\n",
              "      <td>10</td>\n",
              "      <td>600</td>\n",
              "      <td>$7.92</td>\n",
              "      <td>$11.88</td>\n",
              "      <td>1</td>\n",
              "      <td>$11.88</td>\n",
              "      <td>0.60</td>\n",
              "      <td>0.15</td>\n",
              "    </tr>\n",
              "    <tr>\n",
              "      <th>8559412</th>\n",
              "      <td>S30071100030</td>\n",
              "      <td>01/07/2016</td>\n",
              "      <td>3670</td>\n",
              "      <td>Wal-Mart 2827 / Coralville</td>\n",
              "      <td>2801 COMMERCE DR</td>\n",
              "      <td>CORALVILLE</td>\n",
              "      <td>52241</td>\n",
              "      <td>2801 COMMERCE DR\\nCORALVILLE 52241\\n(41.695806...</td>\n",
              "      <td>52.0</td>\n",
              "      <td>Johnson</td>\n",
              "      <td>...</td>\n",
              "      <td>69637</td>\n",
              "      <td>Dr. Mcgillicuddy's Cherry Schnapps</td>\n",
              "      <td>12</td>\n",
              "      <td>1000</td>\n",
              "      <td>$11.00</td>\n",
              "      <td>$16.50</td>\n",
              "      <td>12</td>\n",
              "      <td>$198.00</td>\n",
              "      <td>12.00</td>\n",
              "      <td>3.17</td>\n",
              "    </tr>\n",
              "    <tr>\n",
              "      <th>1950648</th>\n",
              "      <td>S13816900011</td>\n",
              "      <td>08/08/2013</td>\n",
              "      <td>2552</td>\n",
              "      <td>Hy-Vee Food Store #3 / Cedar Rapids</td>\n",
              "      <td>20 WILSON AVENUE WEST</td>\n",
              "      <td>CEDAR RAPIDS</td>\n",
              "      <td>52404</td>\n",
              "      <td>20 WILSON AVENUE WEST\\nCEDAR RAPIDS 52404\\n(41...</td>\n",
              "      <td>57.0</td>\n",
              "      <td>Linn</td>\n",
              "      <td>...</td>\n",
              "      <td>41681</td>\n",
              "      <td>Uv Red (cherry) Vodka</td>\n",
              "      <td>6</td>\n",
              "      <td>1750</td>\n",
              "      <td>$8.48</td>\n",
              "      <td>$13.98</td>\n",
              "      <td>6</td>\n",
              "      <td>$83.88</td>\n",
              "      <td>10.50</td>\n",
              "      <td>2.77</td>\n",
              "    </tr>\n",
              "    <tr>\n",
              "      <th>...</th>\n",
              "      <td>...</td>\n",
              "      <td>...</td>\n",
              "      <td>...</td>\n",
              "      <td>...</td>\n",
              "      <td>...</td>\n",
              "      <td>...</td>\n",
              "      <td>...</td>\n",
              "      <td>...</td>\n",
              "      <td>...</td>\n",
              "      <td>...</td>\n",
              "      <td>...</td>\n",
              "      <td>...</td>\n",
              "      <td>...</td>\n",
              "      <td>...</td>\n",
              "      <td>...</td>\n",
              "      <td>...</td>\n",
              "      <td>...</td>\n",
              "      <td>...</td>\n",
              "      <td>...</td>\n",
              "      <td>...</td>\n",
              "      <td>...</td>\n",
              "    </tr>\n",
              "    <tr>\n",
              "      <th>9095230</th>\n",
              "      <td>S31967900047</td>\n",
              "      <td>04/25/2016</td>\n",
              "      <td>2584</td>\n",
              "      <td>Hy-Vee Food Store / Fort Madison</td>\n",
              "      <td>2606 AVENUE L</td>\n",
              "      <td>FORT MADISON</td>\n",
              "      <td>52627</td>\n",
              "      <td>2606 AVENUE L\\nFORT MADISON 52627\\n(40.626988,...</td>\n",
              "      <td>56.0</td>\n",
              "      <td>Lee</td>\n",
              "      <td>...</td>\n",
              "      <td>67006</td>\n",
              "      <td>Midori Melon Liqueur</td>\n",
              "      <td>12</td>\n",
              "      <td>750</td>\n",
              "      <td>$11.50</td>\n",
              "      <td>$17.25</td>\n",
              "      <td>2</td>\n",
              "      <td>$34.50</td>\n",
              "      <td>1.50</td>\n",
              "      <td>0.40</td>\n",
              "    </tr>\n",
              "    <tr>\n",
              "      <th>3171341</th>\n",
              "      <td>S21946300071</td>\n",
              "      <td>10/22/2014</td>\n",
              "      <td>2548</td>\n",
              "      <td>Hy-Vee Food Store / Altoona</td>\n",
              "      <td>100 8TH STREET SW</td>\n",
              "      <td>ALTOONA</td>\n",
              "      <td>50009</td>\n",
              "      <td>100 8TH STREET SW\\nALTOONA 50009\\n(41.644041, ...</td>\n",
              "      <td>77.0</td>\n",
              "      <td>Polk</td>\n",
              "      <td>...</td>\n",
              "      <td>57148</td>\n",
              "      <td>Chi-Chi's Margarita W/tequila</td>\n",
              "      <td>6</td>\n",
              "      <td>1750</td>\n",
              "      <td>$6.00</td>\n",
              "      <td>$9.25</td>\n",
              "      <td>6</td>\n",
              "      <td>$55.50</td>\n",
              "      <td>10.50</td>\n",
              "      <td>2.77</td>\n",
              "    </tr>\n",
              "    <tr>\n",
              "      <th>7492937</th>\n",
              "      <td>S22832200018</td>\n",
              "      <td>12/09/2014</td>\n",
              "      <td>2353</td>\n",
              "      <td>Cresco Liquor Store</td>\n",
              "      <td>708 2ND AVE SE</td>\n",
              "      <td>CRESCO</td>\n",
              "      <td>52136</td>\n",
              "      <td>708 2ND AVE SE\\nCRESCO 52136\\n(43.371131, -92....</td>\n",
              "      <td>45.0</td>\n",
              "      <td>Howard</td>\n",
              "      <td>...</td>\n",
              "      <td>11777</td>\n",
              "      <td>Black Velvet</td>\n",
              "      <td>12</td>\n",
              "      <td>1000</td>\n",
              "      <td>$6.63</td>\n",
              "      <td>$9.95</td>\n",
              "      <td>24</td>\n",
              "      <td>$238.80</td>\n",
              "      <td>24.00</td>\n",
              "      <td>6.34</td>\n",
              "    </tr>\n",
              "    <tr>\n",
              "      <th>6218696</th>\n",
              "      <td>S06056000014</td>\n",
              "      <td>06/13/2012</td>\n",
              "      <td>2963</td>\n",
              "      <td>Dahl's / Clive</td>\n",
              "      <td>15500 HICKMAN</td>\n",
              "      <td>CLIVE</td>\n",
              "      <td>50325</td>\n",
              "      <td>15500 HICKMAN\\nCLIVE 50325\\n(41.614714, -93.83...</td>\n",
              "      <td>77.0</td>\n",
              "      <td>Polk</td>\n",
              "      <td>...</td>\n",
              "      <td>12408</td>\n",
              "      <td>Canadian Ltd Whisky</td>\n",
              "      <td>6</td>\n",
              "      <td>1750</td>\n",
              "      <td>$7.79</td>\n",
              "      <td>$12.29</td>\n",
              "      <td>6</td>\n",
              "      <td>$73.74</td>\n",
              "      <td>10.50</td>\n",
              "      <td>2.77</td>\n",
              "    </tr>\n",
              "    <tr>\n",
              "      <th>2565104</th>\n",
              "      <td>S05553500081</td>\n",
              "      <td>05/15/2012</td>\n",
              "      <td>2959</td>\n",
              "      <td>Dahl's / Merle Hay</td>\n",
              "      <td>4343 MERLE HAY ROAD</td>\n",
              "      <td>DES MOINES</td>\n",
              "      <td>50310</td>\n",
              "      <td>4343 MERLE HAY ROAD\\nDES MOINES 50310\\n(41.637...</td>\n",
              "      <td>77.0</td>\n",
              "      <td>Polk</td>\n",
              "      <td>...</td>\n",
              "      <td>72816</td>\n",
              "      <td>Caffe Lolita Coffee Liqueur</td>\n",
              "      <td>12</td>\n",
              "      <td>750</td>\n",
              "      <td>$5.00</td>\n",
              "      <td>$7.50</td>\n",
              "      <td>3</td>\n",
              "      <td>$22.50</td>\n",
              "      <td>2.25</td>\n",
              "      <td>0.59</td>\n",
              "    </tr>\n",
              "  </tbody>\n",
              "</table>\n",
              "<p>1259108 rows × 24 columns</p>\n",
              "</div>\n",
              "    <div class=\"colab-df-buttons\">\n",
              "\n",
              "  <div class=\"colab-df-container\">\n",
              "    <button class=\"colab-df-convert\" onclick=\"convertToInteractive('df-da00bb8c-2e9f-43f7-96d9-e66909a6b063')\"\n",
              "            title=\"Convert this dataframe to an interactive table.\"\n",
              "            style=\"display:none;\">\n",
              "\n",
              "  <svg xmlns=\"http://www.w3.org/2000/svg\" height=\"24px\" viewBox=\"0 -960 960 960\">\n",
              "    <path d=\"M120-120v-720h720v720H120Zm60-500h600v-160H180v160Zm220 220h160v-160H400v160Zm0 220h160v-160H400v160ZM180-400h160v-160H180v160Zm440 0h160v-160H620v160ZM180-180h160v-160H180v160Zm440 0h160v-160H620v160Z\"/>\n",
              "  </svg>\n",
              "    </button>\n",
              "\n",
              "  <style>\n",
              "    .colab-df-container {\n",
              "      display:flex;\n",
              "      gap: 12px;\n",
              "    }\n",
              "\n",
              "    .colab-df-convert {\n",
              "      background-color: #E8F0FE;\n",
              "      border: none;\n",
              "      border-radius: 50%;\n",
              "      cursor: pointer;\n",
              "      display: none;\n",
              "      fill: #1967D2;\n",
              "      height: 32px;\n",
              "      padding: 0 0 0 0;\n",
              "      width: 32px;\n",
              "    }\n",
              "\n",
              "    .colab-df-convert:hover {\n",
              "      background-color: #E2EBFA;\n",
              "      box-shadow: 0px 1px 2px rgba(60, 64, 67, 0.3), 0px 1px 3px 1px rgba(60, 64, 67, 0.15);\n",
              "      fill: #174EA6;\n",
              "    }\n",
              "\n",
              "    .colab-df-buttons div {\n",
              "      margin-bottom: 4px;\n",
              "    }\n",
              "\n",
              "    [theme=dark] .colab-df-convert {\n",
              "      background-color: #3B4455;\n",
              "      fill: #D2E3FC;\n",
              "    }\n",
              "\n",
              "    [theme=dark] .colab-df-convert:hover {\n",
              "      background-color: #434B5C;\n",
              "      box-shadow: 0px 1px 3px 1px rgba(0, 0, 0, 0.15);\n",
              "      filter: drop-shadow(0px 1px 2px rgba(0, 0, 0, 0.3));\n",
              "      fill: #FFFFFF;\n",
              "    }\n",
              "  </style>\n",
              "\n",
              "    <script>\n",
              "      const buttonEl =\n",
              "        document.querySelector('#df-da00bb8c-2e9f-43f7-96d9-e66909a6b063 button.colab-df-convert');\n",
              "      buttonEl.style.display =\n",
              "        google.colab.kernel.accessAllowed ? 'block' : 'none';\n",
              "\n",
              "      async function convertToInteractive(key) {\n",
              "        const element = document.querySelector('#df-da00bb8c-2e9f-43f7-96d9-e66909a6b063');\n",
              "        const dataTable =\n",
              "          await google.colab.kernel.invokeFunction('convertToInteractive',\n",
              "                                                    [key], {});\n",
              "        if (!dataTable) return;\n",
              "\n",
              "        const docLinkHtml = 'Like what you see? Visit the ' +\n",
              "          '<a target=\"_blank\" href=https://colab.research.google.com/notebooks/data_table.ipynb>data table notebook</a>'\n",
              "          + ' to learn more about interactive tables.';\n",
              "        element.innerHTML = '';\n",
              "        dataTable['output_type'] = 'display_data';\n",
              "        await google.colab.output.renderOutput(dataTable, element);\n",
              "        const docLink = document.createElement('div');\n",
              "        docLink.innerHTML = docLinkHtml;\n",
              "        element.appendChild(docLink);\n",
              "      }\n",
              "    </script>\n",
              "  </div>\n",
              "\n",
              "\n",
              "<div id=\"df-88bb5e6a-1607-43a8-abc6-a92c86678256\">\n",
              "  <button class=\"colab-df-quickchart\" onclick=\"quickchart('df-88bb5e6a-1607-43a8-abc6-a92c86678256')\"\n",
              "            title=\"Suggest charts\"\n",
              "            style=\"display:none;\">\n",
              "\n",
              "<svg xmlns=\"http://www.w3.org/2000/svg\" height=\"24px\"viewBox=\"0 0 24 24\"\n",
              "     width=\"24px\">\n",
              "    <g>\n",
              "        <path d=\"M19 3H5c-1.1 0-2 .9-2 2v14c0 1.1.9 2 2 2h14c1.1 0 2-.9 2-2V5c0-1.1-.9-2-2-2zM9 17H7v-7h2v7zm4 0h-2V7h2v10zm4 0h-2v-4h2v4z\"/>\n",
              "    </g>\n",
              "</svg>\n",
              "  </button>\n",
              "\n",
              "<style>\n",
              "  .colab-df-quickchart {\n",
              "      --bg-color: #E8F0FE;\n",
              "      --fill-color: #1967D2;\n",
              "      --hover-bg-color: #E2EBFA;\n",
              "      --hover-fill-color: #174EA6;\n",
              "      --disabled-fill-color: #AAA;\n",
              "      --disabled-bg-color: #DDD;\n",
              "  }\n",
              "\n",
              "  [theme=dark] .colab-df-quickchart {\n",
              "      --bg-color: #3B4455;\n",
              "      --fill-color: #D2E3FC;\n",
              "      --hover-bg-color: #434B5C;\n",
              "      --hover-fill-color: #FFFFFF;\n",
              "      --disabled-bg-color: #3B4455;\n",
              "      --disabled-fill-color: #666;\n",
              "  }\n",
              "\n",
              "  .colab-df-quickchart {\n",
              "    background-color: var(--bg-color);\n",
              "    border: none;\n",
              "    border-radius: 50%;\n",
              "    cursor: pointer;\n",
              "    display: none;\n",
              "    fill: var(--fill-color);\n",
              "    height: 32px;\n",
              "    padding: 0;\n",
              "    width: 32px;\n",
              "  }\n",
              "\n",
              "  .colab-df-quickchart:hover {\n",
              "    background-color: var(--hover-bg-color);\n",
              "    box-shadow: 0 1px 2px rgba(60, 64, 67, 0.3), 0 1px 3px 1px rgba(60, 64, 67, 0.15);\n",
              "    fill: var(--button-hover-fill-color);\n",
              "  }\n",
              "\n",
              "  .colab-df-quickchart-complete:disabled,\n",
              "  .colab-df-quickchart-complete:disabled:hover {\n",
              "    background-color: var(--disabled-bg-color);\n",
              "    fill: var(--disabled-fill-color);\n",
              "    box-shadow: none;\n",
              "  }\n",
              "\n",
              "  .colab-df-spinner {\n",
              "    border: 2px solid var(--fill-color);\n",
              "    border-color: transparent;\n",
              "    border-bottom-color: var(--fill-color);\n",
              "    animation:\n",
              "      spin 1s steps(1) infinite;\n",
              "  }\n",
              "\n",
              "  @keyframes spin {\n",
              "    0% {\n",
              "      border-color: transparent;\n",
              "      border-bottom-color: var(--fill-color);\n",
              "      border-left-color: var(--fill-color);\n",
              "    }\n",
              "    20% {\n",
              "      border-color: transparent;\n",
              "      border-left-color: var(--fill-color);\n",
              "      border-top-color: var(--fill-color);\n",
              "    }\n",
              "    30% {\n",
              "      border-color: transparent;\n",
              "      border-left-color: var(--fill-color);\n",
              "      border-top-color: var(--fill-color);\n",
              "      border-right-color: var(--fill-color);\n",
              "    }\n",
              "    40% {\n",
              "      border-color: transparent;\n",
              "      border-right-color: var(--fill-color);\n",
              "      border-top-color: var(--fill-color);\n",
              "    }\n",
              "    60% {\n",
              "      border-color: transparent;\n",
              "      border-right-color: var(--fill-color);\n",
              "    }\n",
              "    80% {\n",
              "      border-color: transparent;\n",
              "      border-right-color: var(--fill-color);\n",
              "      border-bottom-color: var(--fill-color);\n",
              "    }\n",
              "    90% {\n",
              "      border-color: transparent;\n",
              "      border-bottom-color: var(--fill-color);\n",
              "    }\n",
              "  }\n",
              "</style>\n",
              "\n",
              "  <script>\n",
              "    async function quickchart(key) {\n",
              "      const quickchartButtonEl =\n",
              "        document.querySelector('#' + key + ' button');\n",
              "      quickchartButtonEl.disabled = true;  // To prevent multiple clicks.\n",
              "      quickchartButtonEl.classList.add('colab-df-spinner');\n",
              "      try {\n",
              "        const charts = await google.colab.kernel.invokeFunction(\n",
              "            'suggestCharts', [key], {});\n",
              "      } catch (error) {\n",
              "        console.error('Error during call to suggestCharts:', error);\n",
              "      }\n",
              "      quickchartButtonEl.classList.remove('colab-df-spinner');\n",
              "      quickchartButtonEl.classList.add('colab-df-quickchart-complete');\n",
              "    }\n",
              "    (() => {\n",
              "      let quickchartButtonEl =\n",
              "        document.querySelector('#df-88bb5e6a-1607-43a8-abc6-a92c86678256 button');\n",
              "      quickchartButtonEl.style.display =\n",
              "        google.colab.kernel.accessAllowed ? 'block' : 'none';\n",
              "    })();\n",
              "  </script>\n",
              "</div>\n",
              "    </div>\n",
              "  </div>\n"
            ]
          },
          "metadata": {},
          "execution_count": 16
        }
      ]
    },
    {
      "cell_type": "code",
      "source": [
        "memory_usage = sample1.memory_usage().sum()\n",
        "print(\"The apparent memory consumption: \",round(memory_usage/1024**3,2), \"GigaBytes\")\n"
      ],
      "metadata": {
        "colab": {
          "base_uri": "https://localhost:8080/"
        },
        "id": "vWcFVSLAAW6w",
        "outputId": "1b1e9c5d-4071-43f0-c67c-99dc5d88e91b"
      },
      "execution_count": null,
      "outputs": [
        {
          "output_type": "stream",
          "name": "stdout",
          "text": [
            "The apparent memory consumption:  0.23 GigaBytes\n"
          ]
        }
      ]
    },
    {
      "cell_type": "code",
      "source": [
        "sample2 = df.sample(n=1000000,axis=0)\n",
        "sample2"
      ],
      "metadata": {
        "colab": {
          "base_uri": "https://localhost:8080/",
          "height": 929
        },
        "id": "LqCX4UFaBH2n",
        "outputId": "8469331a-e44b-4c41-9f39-a6619e799385"
      },
      "execution_count": null,
      "outputs": [
        {
          "output_type": "execute_result",
          "data": {
            "text/plain": [
              "         Invoice/Item Number        Date  Store Number  \\\n",
              "7896591         S26871500002  07/21/2015          4448   \n",
              "294676          S05377800013  05/07/2012          4577   \n",
              "3988716         S23803700035  02/02/2015          4622   \n",
              "8985246         S31652500070  04/06/2016          4509   \n",
              "9310443         S32573400001  05/31/2016          3621   \n",
              "...                      ...         ...           ...   \n",
              "8832224         S31189500057  03/14/2016          3385   \n",
              "11277845     INV-04256200035  04/10/2017          2847   \n",
              "5856721         S21550900032  10/01/2014          2512   \n",
              "14043           S24325100018  03/04/2015          4767   \n",
              "10150631     INV-00842000017  10/10/2016          2512   \n",
              "\n",
              "                                    Store Name                  Address  \\\n",
              "7896591              Kum & Go #572 / URBANDALE     4860 NW URBANDALE DR   \n",
              "294676    Casey's General Store #2551 / Woodwa           906, S MAIN ST   \n",
              "3988716            Quik Trip #544 / SE 14th DM         3941, SE 14th ST   \n",
              "8985246                        A J'S LIQUOR II         2515 CHAMBERLAIN   \n",
              "9310443                   Jensen Liquors, Ltd.             615  2nd Ave   \n",
              "...                                        ...                      ...   \n",
              "8832224         Sam's Club 8162 / Cedar Rapids  2605 BLAIRS FERRY RD NE   \n",
              "11277845          CVS Pharmacy #10032 / Marion            3499, 7th Ave   \n",
              "5856721    Hy-Vee Wine and Spirits / Iowa City       1720 WATERFRONT DR   \n",
              "14043     Casey's General Store #3075 / Ankeny         6981, NE 14TH ST   \n",
              "10150631   Hy-Vee Wine and Spirits / Iowa City       1720 Waterfront Dr   \n",
              "\n",
              "                  City Zip Code  \\\n",
              "7896591      URBANDALE    50322   \n",
              "294676        WOODWARD    50276   \n",
              "3988716     DES MOINES    50320   \n",
              "8985246           AMES    50010   \n",
              "9310443        Sheldon    51201   \n",
              "...                ...      ...   \n",
              "8832224   CEDAR RAPIDS    52402   \n",
              "11277845        Marion  52302.0   \n",
              "5856721      IOWA CITY    52240   \n",
              "14043           ANKENY    50023   \n",
              "10150631     Iowa City    52240   \n",
              "\n",
              "                                             Store Location  County Number  \\\n",
              "7896591             4860 NW URBANDALE DR\\nURBANDALE 50322\\n           77.0   \n",
              "294676    906, S MAIN ST\\nWOODWARD 50276\\n(41.849042, -9...           25.0   \n",
              "3988716   3941, SE 14th ST\\nDES MOINES 50320\\n(41.548497...           77.0   \n",
              "8985246   2515 CHAMBERLAIN\\nAMES 50010\\n(42.021461, -93....           85.0   \n",
              "9310443   615 2nd Ave\\nSheldon 51201\\n(43.184614, -95.85...           71.0   \n",
              "...                                                     ...            ...   \n",
              "8832224   2605 BLAIRS FERRY RD NE\\nCEDAR RAPIDS 52402\\n(...           57.0   \n",
              "11277845  3499, 7th Ave\\nMarion 52302\\n(42.035661, -91.5...           57.0   \n",
              "5856721   1720 WATERFRONT DR\\nIOWA CITY 52240\\n(41.64277...           52.0   \n",
              "14043     6981, NE 14TH ST\\nANKENY 50023\\n(41.687898, -9...           77.0   \n",
              "10150631  1720 Waterfront Dr\\nIowa City 52240\\n(41.64272...           52.0   \n",
              "\n",
              "           County  ...  Item Number                        Item Description  \\\n",
              "7896591      Polk  ...        36308                           Hawkeye Vodka   \n",
              "294676     Dallas  ...         5345                      Johnnie Walker Red   \n",
              "3988716      Polk  ...        35776                       Barton Vodka Mini   \n",
              "8985246     Story  ...        40313                     New Amsterdam Peach   \n",
              "9310443   O'Brien  ...       902165  Phillips Raspberry Long Island Ice Tea   \n",
              "...           ...  ...          ...                                     ...   \n",
              "8832224      Linn  ...        43338               Captain Morgan Spiced Rum   \n",
              "11277845     LINN  ...        64868               Fireball Cinnamon Whiskey   \n",
              "5856721   Johnson  ...        36034                             Pearl Peach   \n",
              "14043        Polk  ...        36903                         Mccormick Vodka   \n",
              "10150631  JOHNSON  ...        38177                    Titos Handmade Vodka   \n",
              "\n",
              "          Pack Bottle Volume (ml)  State Bottle Cost State Bottle Retail  \\\n",
              "7896591      6               1750              $7.17              $10.76   \n",
              "294676      24                375              $7.50              $11.24   \n",
              "3988716     10                600              $3.92               $5.88   \n",
              "8985246      6               1750             $13.32              $19.98   \n",
              "9310443      6               1750              $8.30              $12.45   \n",
              "...        ...                ...                ...                 ...   \n",
              "8832224      6               1750             $18.00              $27.00   \n",
              "11277845     6               1750             $15.33              $23.00   \n",
              "5856721     12                750              $7.86              $11.79   \n",
              "14043       48                200              $1.13               $1.70   \n",
              "10150631    12               1000             $11.92              $17.88   \n",
              "\n",
              "          Bottles Sold  Sale (Dollars) Volume Sold (Liters)  \\\n",
              "7896591              6          $64.56                10.50   \n",
              "294676               6          $67.44                 2.25   \n",
              "3988716              2          $11.76                 1.20   \n",
              "8985246             42         $839.16                73.50   \n",
              "9310443             12         $149.40                21.00   \n",
              "...                ...             ...                  ...   \n",
              "8832224             72        $1944.00               126.00   \n",
              "11277845             1          $23.00                 1.75   \n",
              "5856721             12         $141.48                 9.00   \n",
              "14043                4           $6.80                 0.80   \n",
              "10150631            25         $214.56                25.00   \n",
              "\n",
              "         Volume Sold (Gallons)  \n",
              "7896591                   2.77  \n",
              "294676                    0.59  \n",
              "3988716                   0.32  \n",
              "8985246                  19.42  \n",
              "9310443                   5.55  \n",
              "...                        ...  \n",
              "8832224                  33.29  \n",
              "11277845                  0.46  \n",
              "5856721                   2.38  \n",
              "14043                     0.21  \n",
              "10150631                  6.60  \n",
              "\n",
              "[1000000 rows x 24 columns]"
            ],
            "text/html": [
              "\n",
              "  <div id=\"df-0c3eb864-db8b-401d-91f8-5dcf262b399e\" class=\"colab-df-container\">\n",
              "    <div>\n",
              "<style scoped>\n",
              "    .dataframe tbody tr th:only-of-type {\n",
              "        vertical-align: middle;\n",
              "    }\n",
              "\n",
              "    .dataframe tbody tr th {\n",
              "        vertical-align: top;\n",
              "    }\n",
              "\n",
              "    .dataframe thead th {\n",
              "        text-align: right;\n",
              "    }\n",
              "</style>\n",
              "<table border=\"1\" class=\"dataframe\">\n",
              "  <thead>\n",
              "    <tr style=\"text-align: right;\">\n",
              "      <th></th>\n",
              "      <th>Invoice/Item Number</th>\n",
              "      <th>Date</th>\n",
              "      <th>Store Number</th>\n",
              "      <th>Store Name</th>\n",
              "      <th>Address</th>\n",
              "      <th>City</th>\n",
              "      <th>Zip Code</th>\n",
              "      <th>Store Location</th>\n",
              "      <th>County Number</th>\n",
              "      <th>County</th>\n",
              "      <th>...</th>\n",
              "      <th>Item Number</th>\n",
              "      <th>Item Description</th>\n",
              "      <th>Pack</th>\n",
              "      <th>Bottle Volume (ml)</th>\n",
              "      <th>State Bottle Cost</th>\n",
              "      <th>State Bottle Retail</th>\n",
              "      <th>Bottles Sold</th>\n",
              "      <th>Sale (Dollars)</th>\n",
              "      <th>Volume Sold (Liters)</th>\n",
              "      <th>Volume Sold (Gallons)</th>\n",
              "    </tr>\n",
              "  </thead>\n",
              "  <tbody>\n",
              "    <tr>\n",
              "      <th>7896591</th>\n",
              "      <td>S26871500002</td>\n",
              "      <td>07/21/2015</td>\n",
              "      <td>4448</td>\n",
              "      <td>Kum &amp; Go #572 / URBANDALE</td>\n",
              "      <td>4860 NW URBANDALE DR</td>\n",
              "      <td>URBANDALE</td>\n",
              "      <td>50322</td>\n",
              "      <td>4860 NW URBANDALE DR\\nURBANDALE 50322\\n</td>\n",
              "      <td>77.0</td>\n",
              "      <td>Polk</td>\n",
              "      <td>...</td>\n",
              "      <td>36308</td>\n",
              "      <td>Hawkeye Vodka</td>\n",
              "      <td>6</td>\n",
              "      <td>1750</td>\n",
              "      <td>$7.17</td>\n",
              "      <td>$10.76</td>\n",
              "      <td>6</td>\n",
              "      <td>$64.56</td>\n",
              "      <td>10.50</td>\n",
              "      <td>2.77</td>\n",
              "    </tr>\n",
              "    <tr>\n",
              "      <th>294676</th>\n",
              "      <td>S05377800013</td>\n",
              "      <td>05/07/2012</td>\n",
              "      <td>4577</td>\n",
              "      <td>Casey's General Store #2551 / Woodwa</td>\n",
              "      <td>906, S MAIN ST</td>\n",
              "      <td>WOODWARD</td>\n",
              "      <td>50276</td>\n",
              "      <td>906, S MAIN ST\\nWOODWARD 50276\\n(41.849042, -9...</td>\n",
              "      <td>25.0</td>\n",
              "      <td>Dallas</td>\n",
              "      <td>...</td>\n",
              "      <td>5345</td>\n",
              "      <td>Johnnie Walker Red</td>\n",
              "      <td>24</td>\n",
              "      <td>375</td>\n",
              "      <td>$7.50</td>\n",
              "      <td>$11.24</td>\n",
              "      <td>6</td>\n",
              "      <td>$67.44</td>\n",
              "      <td>2.25</td>\n",
              "      <td>0.59</td>\n",
              "    </tr>\n",
              "    <tr>\n",
              "      <th>3988716</th>\n",
              "      <td>S23803700035</td>\n",
              "      <td>02/02/2015</td>\n",
              "      <td>4622</td>\n",
              "      <td>Quik Trip #544 / SE 14th DM</td>\n",
              "      <td>3941, SE 14th ST</td>\n",
              "      <td>DES MOINES</td>\n",
              "      <td>50320</td>\n",
              "      <td>3941, SE 14th ST\\nDES MOINES 50320\\n(41.548497...</td>\n",
              "      <td>77.0</td>\n",
              "      <td>Polk</td>\n",
              "      <td>...</td>\n",
              "      <td>35776</td>\n",
              "      <td>Barton Vodka Mini</td>\n",
              "      <td>10</td>\n",
              "      <td>600</td>\n",
              "      <td>$3.92</td>\n",
              "      <td>$5.88</td>\n",
              "      <td>2</td>\n",
              "      <td>$11.76</td>\n",
              "      <td>1.20</td>\n",
              "      <td>0.32</td>\n",
              "    </tr>\n",
              "    <tr>\n",
              "      <th>8985246</th>\n",
              "      <td>S31652500070</td>\n",
              "      <td>04/06/2016</td>\n",
              "      <td>4509</td>\n",
              "      <td>A J'S LIQUOR II</td>\n",
              "      <td>2515 CHAMBERLAIN</td>\n",
              "      <td>AMES</td>\n",
              "      <td>50010</td>\n",
              "      <td>2515 CHAMBERLAIN\\nAMES 50010\\n(42.021461, -93....</td>\n",
              "      <td>85.0</td>\n",
              "      <td>Story</td>\n",
              "      <td>...</td>\n",
              "      <td>40313</td>\n",
              "      <td>New Amsterdam Peach</td>\n",
              "      <td>6</td>\n",
              "      <td>1750</td>\n",
              "      <td>$13.32</td>\n",
              "      <td>$19.98</td>\n",
              "      <td>42</td>\n",
              "      <td>$839.16</td>\n",
              "      <td>73.50</td>\n",
              "      <td>19.42</td>\n",
              "    </tr>\n",
              "    <tr>\n",
              "      <th>9310443</th>\n",
              "      <td>S32573400001</td>\n",
              "      <td>05/31/2016</td>\n",
              "      <td>3621</td>\n",
              "      <td>Jensen Liquors, Ltd.</td>\n",
              "      <td>615  2nd Ave</td>\n",
              "      <td>Sheldon</td>\n",
              "      <td>51201</td>\n",
              "      <td>615 2nd Ave\\nSheldon 51201\\n(43.184614, -95.85...</td>\n",
              "      <td>71.0</td>\n",
              "      <td>O'Brien</td>\n",
              "      <td>...</td>\n",
              "      <td>902165</td>\n",
              "      <td>Phillips Raspberry Long Island Ice Tea</td>\n",
              "      <td>6</td>\n",
              "      <td>1750</td>\n",
              "      <td>$8.30</td>\n",
              "      <td>$12.45</td>\n",
              "      <td>12</td>\n",
              "      <td>$149.40</td>\n",
              "      <td>21.00</td>\n",
              "      <td>5.55</td>\n",
              "    </tr>\n",
              "    <tr>\n",
              "      <th>...</th>\n",
              "      <td>...</td>\n",
              "      <td>...</td>\n",
              "      <td>...</td>\n",
              "      <td>...</td>\n",
              "      <td>...</td>\n",
              "      <td>...</td>\n",
              "      <td>...</td>\n",
              "      <td>...</td>\n",
              "      <td>...</td>\n",
              "      <td>...</td>\n",
              "      <td>...</td>\n",
              "      <td>...</td>\n",
              "      <td>...</td>\n",
              "      <td>...</td>\n",
              "      <td>...</td>\n",
              "      <td>...</td>\n",
              "      <td>...</td>\n",
              "      <td>...</td>\n",
              "      <td>...</td>\n",
              "      <td>...</td>\n",
              "      <td>...</td>\n",
              "    </tr>\n",
              "    <tr>\n",
              "      <th>8832224</th>\n",
              "      <td>S31189500057</td>\n",
              "      <td>03/14/2016</td>\n",
              "      <td>3385</td>\n",
              "      <td>Sam's Club 8162 / Cedar Rapids</td>\n",
              "      <td>2605 BLAIRS FERRY RD NE</td>\n",
              "      <td>CEDAR RAPIDS</td>\n",
              "      <td>52402</td>\n",
              "      <td>2605 BLAIRS FERRY RD NE\\nCEDAR RAPIDS 52402\\n(...</td>\n",
              "      <td>57.0</td>\n",
              "      <td>Linn</td>\n",
              "      <td>...</td>\n",
              "      <td>43338</td>\n",
              "      <td>Captain Morgan Spiced Rum</td>\n",
              "      <td>6</td>\n",
              "      <td>1750</td>\n",
              "      <td>$18.00</td>\n",
              "      <td>$27.00</td>\n",
              "      <td>72</td>\n",
              "      <td>$1944.00</td>\n",
              "      <td>126.00</td>\n",
              "      <td>33.29</td>\n",
              "    </tr>\n",
              "    <tr>\n",
              "      <th>11277845</th>\n",
              "      <td>INV-04256200035</td>\n",
              "      <td>04/10/2017</td>\n",
              "      <td>2847</td>\n",
              "      <td>CVS Pharmacy #10032 / Marion</td>\n",
              "      <td>3499, 7th Ave</td>\n",
              "      <td>Marion</td>\n",
              "      <td>52302.0</td>\n",
              "      <td>3499, 7th Ave\\nMarion 52302\\n(42.035661, -91.5...</td>\n",
              "      <td>57.0</td>\n",
              "      <td>LINN</td>\n",
              "      <td>...</td>\n",
              "      <td>64868</td>\n",
              "      <td>Fireball Cinnamon Whiskey</td>\n",
              "      <td>6</td>\n",
              "      <td>1750</td>\n",
              "      <td>$15.33</td>\n",
              "      <td>$23.00</td>\n",
              "      <td>1</td>\n",
              "      <td>$23.00</td>\n",
              "      <td>1.75</td>\n",
              "      <td>0.46</td>\n",
              "    </tr>\n",
              "    <tr>\n",
              "      <th>5856721</th>\n",
              "      <td>S21550900032</td>\n",
              "      <td>10/01/2014</td>\n",
              "      <td>2512</td>\n",
              "      <td>Hy-Vee Wine and Spirits / Iowa City</td>\n",
              "      <td>1720 WATERFRONT DR</td>\n",
              "      <td>IOWA CITY</td>\n",
              "      <td>52240</td>\n",
              "      <td>1720 WATERFRONT DR\\nIOWA CITY 52240\\n(41.64277...</td>\n",
              "      <td>52.0</td>\n",
              "      <td>Johnson</td>\n",
              "      <td>...</td>\n",
              "      <td>36034</td>\n",
              "      <td>Pearl Peach</td>\n",
              "      <td>12</td>\n",
              "      <td>750</td>\n",
              "      <td>$7.86</td>\n",
              "      <td>$11.79</td>\n",
              "      <td>12</td>\n",
              "      <td>$141.48</td>\n",
              "      <td>9.00</td>\n",
              "      <td>2.38</td>\n",
              "    </tr>\n",
              "    <tr>\n",
              "      <th>14043</th>\n",
              "      <td>S24325100018</td>\n",
              "      <td>03/04/2015</td>\n",
              "      <td>4767</td>\n",
              "      <td>Casey's General Store #3075 / Ankeny</td>\n",
              "      <td>6981, NE 14TH ST</td>\n",
              "      <td>ANKENY</td>\n",
              "      <td>50023</td>\n",
              "      <td>6981, NE 14TH ST\\nANKENY 50023\\n(41.687898, -9...</td>\n",
              "      <td>77.0</td>\n",
              "      <td>Polk</td>\n",
              "      <td>...</td>\n",
              "      <td>36903</td>\n",
              "      <td>Mccormick Vodka</td>\n",
              "      <td>48</td>\n",
              "      <td>200</td>\n",
              "      <td>$1.13</td>\n",
              "      <td>$1.70</td>\n",
              "      <td>4</td>\n",
              "      <td>$6.80</td>\n",
              "      <td>0.80</td>\n",
              "      <td>0.21</td>\n",
              "    </tr>\n",
              "    <tr>\n",
              "      <th>10150631</th>\n",
              "      <td>INV-00842000017</td>\n",
              "      <td>10/10/2016</td>\n",
              "      <td>2512</td>\n",
              "      <td>Hy-Vee Wine and Spirits / Iowa City</td>\n",
              "      <td>1720 Waterfront Dr</td>\n",
              "      <td>Iowa City</td>\n",
              "      <td>52240</td>\n",
              "      <td>1720 Waterfront Dr\\nIowa City 52240\\n(41.64272...</td>\n",
              "      <td>52.0</td>\n",
              "      <td>JOHNSON</td>\n",
              "      <td>...</td>\n",
              "      <td>38177</td>\n",
              "      <td>Titos Handmade Vodka</td>\n",
              "      <td>12</td>\n",
              "      <td>1000</td>\n",
              "      <td>$11.92</td>\n",
              "      <td>$17.88</td>\n",
              "      <td>25</td>\n",
              "      <td>$214.56</td>\n",
              "      <td>25.00</td>\n",
              "      <td>6.60</td>\n",
              "    </tr>\n",
              "  </tbody>\n",
              "</table>\n",
              "<p>1000000 rows × 24 columns</p>\n",
              "</div>\n",
              "    <div class=\"colab-df-buttons\">\n",
              "\n",
              "  <div class=\"colab-df-container\">\n",
              "    <button class=\"colab-df-convert\" onclick=\"convertToInteractive('df-0c3eb864-db8b-401d-91f8-5dcf262b399e')\"\n",
              "            title=\"Convert this dataframe to an interactive table.\"\n",
              "            style=\"display:none;\">\n",
              "\n",
              "  <svg xmlns=\"http://www.w3.org/2000/svg\" height=\"24px\" viewBox=\"0 -960 960 960\">\n",
              "    <path d=\"M120-120v-720h720v720H120Zm60-500h600v-160H180v160Zm220 220h160v-160H400v160Zm0 220h160v-160H400v160ZM180-400h160v-160H180v160Zm440 0h160v-160H620v160ZM180-180h160v-160H180v160Zm440 0h160v-160H620v160Z\"/>\n",
              "  </svg>\n",
              "    </button>\n",
              "\n",
              "  <style>\n",
              "    .colab-df-container {\n",
              "      display:flex;\n",
              "      gap: 12px;\n",
              "    }\n",
              "\n",
              "    .colab-df-convert {\n",
              "      background-color: #E8F0FE;\n",
              "      border: none;\n",
              "      border-radius: 50%;\n",
              "      cursor: pointer;\n",
              "      display: none;\n",
              "      fill: #1967D2;\n",
              "      height: 32px;\n",
              "      padding: 0 0 0 0;\n",
              "      width: 32px;\n",
              "    }\n",
              "\n",
              "    .colab-df-convert:hover {\n",
              "      background-color: #E2EBFA;\n",
              "      box-shadow: 0px 1px 2px rgba(60, 64, 67, 0.3), 0px 1px 3px 1px rgba(60, 64, 67, 0.15);\n",
              "      fill: #174EA6;\n",
              "    }\n",
              "\n",
              "    .colab-df-buttons div {\n",
              "      margin-bottom: 4px;\n",
              "    }\n",
              "\n",
              "    [theme=dark] .colab-df-convert {\n",
              "      background-color: #3B4455;\n",
              "      fill: #D2E3FC;\n",
              "    }\n",
              "\n",
              "    [theme=dark] .colab-df-convert:hover {\n",
              "      background-color: #434B5C;\n",
              "      box-shadow: 0px 1px 3px 1px rgba(0, 0, 0, 0.15);\n",
              "      filter: drop-shadow(0px 1px 2px rgba(0, 0, 0, 0.3));\n",
              "      fill: #FFFFFF;\n",
              "    }\n",
              "  </style>\n",
              "\n",
              "    <script>\n",
              "      const buttonEl =\n",
              "        document.querySelector('#df-0c3eb864-db8b-401d-91f8-5dcf262b399e button.colab-df-convert');\n",
              "      buttonEl.style.display =\n",
              "        google.colab.kernel.accessAllowed ? 'block' : 'none';\n",
              "\n",
              "      async function convertToInteractive(key) {\n",
              "        const element = document.querySelector('#df-0c3eb864-db8b-401d-91f8-5dcf262b399e');\n",
              "        const dataTable =\n",
              "          await google.colab.kernel.invokeFunction('convertToInteractive',\n",
              "                                                    [key], {});\n",
              "        if (!dataTable) return;\n",
              "\n",
              "        const docLinkHtml = 'Like what you see? Visit the ' +\n",
              "          '<a target=\"_blank\" href=https://colab.research.google.com/notebooks/data_table.ipynb>data table notebook</a>'\n",
              "          + ' to learn more about interactive tables.';\n",
              "        element.innerHTML = '';\n",
              "        dataTable['output_type'] = 'display_data';\n",
              "        await google.colab.output.renderOutput(dataTable, element);\n",
              "        const docLink = document.createElement('div');\n",
              "        docLink.innerHTML = docLinkHtml;\n",
              "        element.appendChild(docLink);\n",
              "      }\n",
              "    </script>\n",
              "  </div>\n",
              "\n",
              "\n",
              "<div id=\"df-e7a9242f-ef2c-4f54-ac1e-a636b3016fff\">\n",
              "  <button class=\"colab-df-quickchart\" onclick=\"quickchart('df-e7a9242f-ef2c-4f54-ac1e-a636b3016fff')\"\n",
              "            title=\"Suggest charts\"\n",
              "            style=\"display:none;\">\n",
              "\n",
              "<svg xmlns=\"http://www.w3.org/2000/svg\" height=\"24px\"viewBox=\"0 0 24 24\"\n",
              "     width=\"24px\">\n",
              "    <g>\n",
              "        <path d=\"M19 3H5c-1.1 0-2 .9-2 2v14c0 1.1.9 2 2 2h14c1.1 0 2-.9 2-2V5c0-1.1-.9-2-2-2zM9 17H7v-7h2v7zm4 0h-2V7h2v10zm4 0h-2v-4h2v4z\"/>\n",
              "    </g>\n",
              "</svg>\n",
              "  </button>\n",
              "\n",
              "<style>\n",
              "  .colab-df-quickchart {\n",
              "      --bg-color: #E8F0FE;\n",
              "      --fill-color: #1967D2;\n",
              "      --hover-bg-color: #E2EBFA;\n",
              "      --hover-fill-color: #174EA6;\n",
              "      --disabled-fill-color: #AAA;\n",
              "      --disabled-bg-color: #DDD;\n",
              "  }\n",
              "\n",
              "  [theme=dark] .colab-df-quickchart {\n",
              "      --bg-color: #3B4455;\n",
              "      --fill-color: #D2E3FC;\n",
              "      --hover-bg-color: #434B5C;\n",
              "      --hover-fill-color: #FFFFFF;\n",
              "      --disabled-bg-color: #3B4455;\n",
              "      --disabled-fill-color: #666;\n",
              "  }\n",
              "\n",
              "  .colab-df-quickchart {\n",
              "    background-color: var(--bg-color);\n",
              "    border: none;\n",
              "    border-radius: 50%;\n",
              "    cursor: pointer;\n",
              "    display: none;\n",
              "    fill: var(--fill-color);\n",
              "    height: 32px;\n",
              "    padding: 0;\n",
              "    width: 32px;\n",
              "  }\n",
              "\n",
              "  .colab-df-quickchart:hover {\n",
              "    background-color: var(--hover-bg-color);\n",
              "    box-shadow: 0 1px 2px rgba(60, 64, 67, 0.3), 0 1px 3px 1px rgba(60, 64, 67, 0.15);\n",
              "    fill: var(--button-hover-fill-color);\n",
              "  }\n",
              "\n",
              "  .colab-df-quickchart-complete:disabled,\n",
              "  .colab-df-quickchart-complete:disabled:hover {\n",
              "    background-color: var(--disabled-bg-color);\n",
              "    fill: var(--disabled-fill-color);\n",
              "    box-shadow: none;\n",
              "  }\n",
              "\n",
              "  .colab-df-spinner {\n",
              "    border: 2px solid var(--fill-color);\n",
              "    border-color: transparent;\n",
              "    border-bottom-color: var(--fill-color);\n",
              "    animation:\n",
              "      spin 1s steps(1) infinite;\n",
              "  }\n",
              "\n",
              "  @keyframes spin {\n",
              "    0% {\n",
              "      border-color: transparent;\n",
              "      border-bottom-color: var(--fill-color);\n",
              "      border-left-color: var(--fill-color);\n",
              "    }\n",
              "    20% {\n",
              "      border-color: transparent;\n",
              "      border-left-color: var(--fill-color);\n",
              "      border-top-color: var(--fill-color);\n",
              "    }\n",
              "    30% {\n",
              "      border-color: transparent;\n",
              "      border-left-color: var(--fill-color);\n",
              "      border-top-color: var(--fill-color);\n",
              "      border-right-color: var(--fill-color);\n",
              "    }\n",
              "    40% {\n",
              "      border-color: transparent;\n",
              "      border-right-color: var(--fill-color);\n",
              "      border-top-color: var(--fill-color);\n",
              "    }\n",
              "    60% {\n",
              "      border-color: transparent;\n",
              "      border-right-color: var(--fill-color);\n",
              "    }\n",
              "    80% {\n",
              "      border-color: transparent;\n",
              "      border-right-color: var(--fill-color);\n",
              "      border-bottom-color: var(--fill-color);\n",
              "    }\n",
              "    90% {\n",
              "      border-color: transparent;\n",
              "      border-bottom-color: var(--fill-color);\n",
              "    }\n",
              "  }\n",
              "</style>\n",
              "\n",
              "  <script>\n",
              "    async function quickchart(key) {\n",
              "      const quickchartButtonEl =\n",
              "        document.querySelector('#' + key + ' button');\n",
              "      quickchartButtonEl.disabled = true;  // To prevent multiple clicks.\n",
              "      quickchartButtonEl.classList.add('colab-df-spinner');\n",
              "      try {\n",
              "        const charts = await google.colab.kernel.invokeFunction(\n",
              "            'suggestCharts', [key], {});\n",
              "      } catch (error) {\n",
              "        console.error('Error during call to suggestCharts:', error);\n",
              "      }\n",
              "      quickchartButtonEl.classList.remove('colab-df-spinner');\n",
              "      quickchartButtonEl.classList.add('colab-df-quickchart-complete');\n",
              "    }\n",
              "    (() => {\n",
              "      let quickchartButtonEl =\n",
              "        document.querySelector('#df-e7a9242f-ef2c-4f54-ac1e-a636b3016fff button');\n",
              "      quickchartButtonEl.style.display =\n",
              "        google.colab.kernel.accessAllowed ? 'block' : 'none';\n",
              "    })();\n",
              "  </script>\n",
              "</div>\n",
              "    </div>\n",
              "  </div>\n"
            ]
          },
          "metadata": {},
          "execution_count": 18
        }
      ]
    },
    {
      "cell_type": "code",
      "source": [
        "memory_usage = sample2.memory_usage().sum()\n",
        "print(\"The apparent memory consumption: \",round(memory_usage/1024**3,2), \"GigaBytes\")"
      ],
      "metadata": {
        "colab": {
          "base_uri": "https://localhost:8080/"
        },
        "id": "1EXWGI7vBN5w",
        "outputId": "df3a9590-0769-4712-cfa3-c88bf630ea48"
      },
      "execution_count": null,
      "outputs": [
        {
          "output_type": "stream",
          "name": "stdout",
          "text": [
            "The apparent memory consumption:  0.19 GigaBytes\n"
          ]
        }
      ]
    },
    {
      "cell_type": "markdown",
      "source": [
        "After we apply the two different sampling techniques, we can observe that the memory consumption reduced from 2.25 GB+ to 0.23 GB and 0.19 GB for the respective technique.  "
      ],
      "metadata": {
        "id": "5awuyHpyJ0rG"
      }
    },
    {
      "cell_type": "markdown",
      "source": [
        "# **Parallelize with Dask**"
      ],
      "metadata": {
        "id": "8J2KOm3IKV-B"
      }
    },
    {
      "cell_type": "code",
      "source": [
        "%%time\n",
        "import dask.dataframe as dd\n",
        "ddf = dd.read_csv(\"/content/drive/MyDrive/kaggle/Iowa_Liquor_Sales.csv\")\n",
        "ddf"
      ],
      "metadata": {
        "colab": {
          "base_uri": "https://localhost:8080/",
          "height": 361
        },
        "id": "WDLICWmVKdIB",
        "outputId": "ea30e42d-429d-4e50-e052-c1e2c72d2d51"
      },
      "execution_count": null,
      "outputs": [
        {
          "output_type": "stream",
          "name": "stdout",
          "text": [
            "CPU times: user 12.6 ms, sys: 844 µs, total: 13.4 ms\n",
            "Wall time: 15.9 ms\n"
          ]
        },
        {
          "output_type": "execute_result",
          "data": {
            "text/plain": [
              "Dask DataFrame Structure:\n",
              "               Invoice/Item Number    Date Store Number Store Name Address    City Zip Code Store Location County Number  County Category Category Name Vendor Number Vendor Name Item Number Item Description   Pack Bottle Volume (ml) State Bottle Cost State Bottle Retail Bottles Sold Sale (Dollars) Volume Sold (Liters) Volume Sold (Gallons)\n",
              "npartitions=54                                                                                                                                                                                                                                                                                                                                       \n",
              "                            object  object        int64     object  object  object   object         object         int64  object  float64        object         int64      object       int64           object  int64              int64            object              object        int64         object              float64               float64\n",
              "                               ...     ...          ...        ...     ...     ...      ...            ...           ...     ...      ...           ...           ...         ...         ...              ...    ...                ...               ...                 ...          ...            ...                  ...                   ...\n",
              "...                            ...     ...          ...        ...     ...     ...      ...            ...           ...     ...      ...           ...           ...         ...         ...              ...    ...                ...               ...                 ...          ...            ...                  ...                   ...\n",
              "                               ...     ...          ...        ...     ...     ...      ...            ...           ...     ...      ...           ...           ...         ...         ...              ...    ...                ...               ...                 ...          ...            ...                  ...                   ...\n",
              "                               ...     ...          ...        ...     ...     ...      ...            ...           ...     ...      ...           ...           ...         ...         ...              ...    ...                ...               ...                 ...          ...            ...                  ...                   ...\n",
              "Dask Name: read-csv, 1 graph layer"
            ],
            "text/html": [
              "<div><strong>Dask DataFrame Structure:</strong></div>\n",
              "<div>\n",
              "<style scoped>\n",
              "    .dataframe tbody tr th:only-of-type {\n",
              "        vertical-align: middle;\n",
              "    }\n",
              "\n",
              "    .dataframe tbody tr th {\n",
              "        vertical-align: top;\n",
              "    }\n",
              "\n",
              "    .dataframe thead th {\n",
              "        text-align: right;\n",
              "    }\n",
              "</style>\n",
              "<table border=\"1\" class=\"dataframe\">\n",
              "  <thead>\n",
              "    <tr style=\"text-align: right;\">\n",
              "      <th></th>\n",
              "      <th>Invoice/Item Number</th>\n",
              "      <th>Date</th>\n",
              "      <th>Store Number</th>\n",
              "      <th>Store Name</th>\n",
              "      <th>Address</th>\n",
              "      <th>City</th>\n",
              "      <th>Zip Code</th>\n",
              "      <th>Store Location</th>\n",
              "      <th>County Number</th>\n",
              "      <th>County</th>\n",
              "      <th>Category</th>\n",
              "      <th>Category Name</th>\n",
              "      <th>Vendor Number</th>\n",
              "      <th>Vendor Name</th>\n",
              "      <th>Item Number</th>\n",
              "      <th>Item Description</th>\n",
              "      <th>Pack</th>\n",
              "      <th>Bottle Volume (ml)</th>\n",
              "      <th>State Bottle Cost</th>\n",
              "      <th>State Bottle Retail</th>\n",
              "      <th>Bottles Sold</th>\n",
              "      <th>Sale (Dollars)</th>\n",
              "      <th>Volume Sold (Liters)</th>\n",
              "      <th>Volume Sold (Gallons)</th>\n",
              "    </tr>\n",
              "    <tr>\n",
              "      <th>npartitions=54</th>\n",
              "      <th></th>\n",
              "      <th></th>\n",
              "      <th></th>\n",
              "      <th></th>\n",
              "      <th></th>\n",
              "      <th></th>\n",
              "      <th></th>\n",
              "      <th></th>\n",
              "      <th></th>\n",
              "      <th></th>\n",
              "      <th></th>\n",
              "      <th></th>\n",
              "      <th></th>\n",
              "      <th></th>\n",
              "      <th></th>\n",
              "      <th></th>\n",
              "      <th></th>\n",
              "      <th></th>\n",
              "      <th></th>\n",
              "      <th></th>\n",
              "      <th></th>\n",
              "      <th></th>\n",
              "      <th></th>\n",
              "      <th></th>\n",
              "    </tr>\n",
              "  </thead>\n",
              "  <tbody>\n",
              "    <tr>\n",
              "      <th></th>\n",
              "      <td>object</td>\n",
              "      <td>object</td>\n",
              "      <td>int64</td>\n",
              "      <td>object</td>\n",
              "      <td>object</td>\n",
              "      <td>object</td>\n",
              "      <td>object</td>\n",
              "      <td>object</td>\n",
              "      <td>int64</td>\n",
              "      <td>object</td>\n",
              "      <td>float64</td>\n",
              "      <td>object</td>\n",
              "      <td>int64</td>\n",
              "      <td>object</td>\n",
              "      <td>int64</td>\n",
              "      <td>object</td>\n",
              "      <td>int64</td>\n",
              "      <td>int64</td>\n",
              "      <td>object</td>\n",
              "      <td>object</td>\n",
              "      <td>int64</td>\n",
              "      <td>object</td>\n",
              "      <td>float64</td>\n",
              "      <td>float64</td>\n",
              "    </tr>\n",
              "    <tr>\n",
              "      <th></th>\n",
              "      <td>...</td>\n",
              "      <td>...</td>\n",
              "      <td>...</td>\n",
              "      <td>...</td>\n",
              "      <td>...</td>\n",
              "      <td>...</td>\n",
              "      <td>...</td>\n",
              "      <td>...</td>\n",
              "      <td>...</td>\n",
              "      <td>...</td>\n",
              "      <td>...</td>\n",
              "      <td>...</td>\n",
              "      <td>...</td>\n",
              "      <td>...</td>\n",
              "      <td>...</td>\n",
              "      <td>...</td>\n",
              "      <td>...</td>\n",
              "      <td>...</td>\n",
              "      <td>...</td>\n",
              "      <td>...</td>\n",
              "      <td>...</td>\n",
              "      <td>...</td>\n",
              "      <td>...</td>\n",
              "      <td>...</td>\n",
              "    </tr>\n",
              "    <tr>\n",
              "      <th>...</th>\n",
              "      <td>...</td>\n",
              "      <td>...</td>\n",
              "      <td>...</td>\n",
              "      <td>...</td>\n",
              "      <td>...</td>\n",
              "      <td>...</td>\n",
              "      <td>...</td>\n",
              "      <td>...</td>\n",
              "      <td>...</td>\n",
              "      <td>...</td>\n",
              "      <td>...</td>\n",
              "      <td>...</td>\n",
              "      <td>...</td>\n",
              "      <td>...</td>\n",
              "      <td>...</td>\n",
              "      <td>...</td>\n",
              "      <td>...</td>\n",
              "      <td>...</td>\n",
              "      <td>...</td>\n",
              "      <td>...</td>\n",
              "      <td>...</td>\n",
              "      <td>...</td>\n",
              "      <td>...</td>\n",
              "      <td>...</td>\n",
              "    </tr>\n",
              "    <tr>\n",
              "      <th></th>\n",
              "      <td>...</td>\n",
              "      <td>...</td>\n",
              "      <td>...</td>\n",
              "      <td>...</td>\n",
              "      <td>...</td>\n",
              "      <td>...</td>\n",
              "      <td>...</td>\n",
              "      <td>...</td>\n",
              "      <td>...</td>\n",
              "      <td>...</td>\n",
              "      <td>...</td>\n",
              "      <td>...</td>\n",
              "      <td>...</td>\n",
              "      <td>...</td>\n",
              "      <td>...</td>\n",
              "      <td>...</td>\n",
              "      <td>...</td>\n",
              "      <td>...</td>\n",
              "      <td>...</td>\n",
              "      <td>...</td>\n",
              "      <td>...</td>\n",
              "      <td>...</td>\n",
              "      <td>...</td>\n",
              "      <td>...</td>\n",
              "    </tr>\n",
              "    <tr>\n",
              "      <th></th>\n",
              "      <td>...</td>\n",
              "      <td>...</td>\n",
              "      <td>...</td>\n",
              "      <td>...</td>\n",
              "      <td>...</td>\n",
              "      <td>...</td>\n",
              "      <td>...</td>\n",
              "      <td>...</td>\n",
              "      <td>...</td>\n",
              "      <td>...</td>\n",
              "      <td>...</td>\n",
              "      <td>...</td>\n",
              "      <td>...</td>\n",
              "      <td>...</td>\n",
              "      <td>...</td>\n",
              "      <td>...</td>\n",
              "      <td>...</td>\n",
              "      <td>...</td>\n",
              "      <td>...</td>\n",
              "      <td>...</td>\n",
              "      <td>...</td>\n",
              "      <td>...</td>\n",
              "      <td>...</td>\n",
              "      <td>...</td>\n",
              "    </tr>\n",
              "  </tbody>\n",
              "</table>\n",
              "</div>\n",
              "<div>Dask Name: read-csv, 1 graph layer</div>"
            ]
          },
          "metadata": {},
          "execution_count": 82
        }
      ]
    },
    {
      "cell_type": "code",
      "source": [
        "ddf.columns"
      ],
      "metadata": {
        "colab": {
          "base_uri": "https://localhost:8080/"
        },
        "id": "rJKDZReCawyM",
        "outputId": "8e114c23-83b3-4a37-8328-af51d1054673"
      },
      "execution_count": null,
      "outputs": [
        {
          "output_type": "execute_result",
          "data": {
            "text/plain": [
              "Index(['Invoice/Item Number', 'Date', 'Store Number', 'Store Name', 'Address',\n",
              "       'City', 'Zip Code', 'Store Location', 'County Number', 'County',\n",
              "       'Category', 'Category Name', 'Vendor Number', 'Vendor Name',\n",
              "       'Item Number', 'Item Description', 'Pack', 'Bottle Volume (ml)',\n",
              "       'State Bottle Cost', 'State Bottle Retail', 'Bottles Sold',\n",
              "       'Sale (Dollars)', 'Volume Sold (Liters)', 'Volume Sold (Gallons)'],\n",
              "      dtype='object')"
            ]
          },
          "metadata": {},
          "execution_count": 74
        }
      ]
    },
    {
      "cell_type": "markdown",
      "source": [
        "The loading time took for the dataset using Pandas is in minutes while it's only took in miliseconds in Dask which is a lot more faster than using Pandas"
      ],
      "metadata": {
        "id": "3-QITMILQ2ZY"
      }
    },
    {
      "cell_type": "markdown",
      "source": [
        "# **Comparative Analysis**"
      ],
      "metadata": {
        "id": "ib1X5-9-VZXh"
      }
    },
    {
      "cell_type": "markdown",
      "source": [
        "| No. | Usual Pandas Method | Advanced Strategies | Result |\n",
        "   | --- | ------------------ | -------------------- | ------ |\n",
        "   | 1.  | Memory usage 2.25GB | **Load Less Data**: Memory usage 0.28GB | Memory usage reduced by 87.56% |\n",
        "   | 2.  | Memory usage 2.25GB | **Use Chunking**: Memory usage 0.18GB | Memory usage reduced by 92.0% |\n",
        "   | 3.  | Data Frame Size 2.25GB | **Optimize Data Types**: Data Frame Size 1.9 GB | Data frame size reduced by 15.56% |\n",
        "   | 4.  | Memory usage 2.25GB | **Sampling**: 10% sampling; Memory usage 0.23 GB <br> 10000 rows sampling; Memory usage 0.19 GB | Memory usage reduced by 89.78% <br> Memory usage reduced by 91.56% |\n",
        "   | 5.  | Reading Data frame: 1min 34s  | **Parallelize with Dask**: Reading Data frame: 15.9 ms  | Processing time reduced by 99.9%  |"
      ],
      "metadata": {
        "id": "roOmKW6GYhPW"
      }
    },
    {
      "cell_type": "markdown",
      "source": [
        "Through the comparative analysis it clearly shows that the usual pandas method has its own limitation when handling big datasets. It has limitation in RAM, memory usage and processinf time. The advance strategies helps to reduce the memory usage, fasten the processing time, reduce the RAM percentage and other ways to analyse big datasets."
      ],
      "metadata": {
        "id": "s9-ymKHPYsDU"
      }
    },
    {
      "cell_type": "markdown",
      "source": [
        "# **Conclusion**"
      ],
      "metadata": {
        "id": "2JMeSt47ZlWo"
      }
    },
    {
      "cell_type": "markdown",
      "source": [
        "Ultimately, advanced methods enable us to use Pandas for handling huge amounts of data in the following ways: -\n",
        "\n",
        "**1) Load less data**: Optimising memory consumption and speeding processes can be achieved by loading only the certain columns or rows needed for the analysis. But because it doesn't represent the whole dataset, it can have an impact on the choice.\n",
        "\n",
        "**2) Chunking**: In order to prevent memory problems, chunks enable data to be processed in smaller portions. This is especially helpful for procedures that don't need the whole dataset to be open in memory at once. Still, working with chunks may make some processes more complicated.\n",
        "\n",
        "**3) Optimized data types**: Selecting the most memory-efficient data types for every column will significantly decrease memory consumption and simplify computations by reducing the amount of data needed. As a result, it may increase overall effectiveness.\n",
        "\n",
        "**4) Sampling**: Sampling can provide insight into and aid in comprehending the dataset's general properties. However, sampling may not fully represent the entire population, meaning that some rare occurrences or changes may go unnoticed.\n",
        "\n",
        "**5) Parallelize with Dask**: Dask is a parallel computing platform that allows compute scaling and parallelization.  Dask's ability to parallelize calculations is one of its primary characteristics; it makes it possible to work with datasets that are larger than memory by dividing them into smaller jobs that can be completed in parallel.\n",
        "\n",
        "In conclusion, we can consider optimizing the data types or continuing over the data to process all of our data. Dask can parallelize Pandas if our dataset is still too big and requires too much processing time, as its processing time has been reduced by 99.9%. Together, these techniques seek to improve processing speed, use less memory, and offer effective methods for managing big information without taxing the system's capacity."
      ],
      "metadata": {
        "id": "XPOINUXAZpzU"
      }
    }
  ]
}
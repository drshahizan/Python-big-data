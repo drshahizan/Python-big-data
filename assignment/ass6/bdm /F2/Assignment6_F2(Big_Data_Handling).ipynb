{
  "nbformat": 4,
  "nbformat_minor": 0,
  "metadata": {
    "colab": {
      "provenance": [],
      "include_colab_link": true
    },
    "kernelspec": {
      "name": "python3",
      "display_name": "Python 3"
    },
    "language_info": {
      "name": "python"
    }
  },
  "cells": [
    {
      "cell_type": "markdown",
      "metadata": {
        "id": "view-in-github",
        "colab_type": "text"
      },
      "source": [
        "<a href=\"https://colab.research.google.com/github/drshahizan/Python-big-data/blob/main/assignment/ass6/bdm%20/F2/Assignment6_F2(Big_Data_Handling).ipynb\" target=\"_parent\"><img src=\"https://colab.research.google.com/assets/colab-badge.svg\" alt=\"Open In Colab\"/></a>"
      ]
    },
    {
      "cell_type": "markdown",
      "source": [
        "# Brewery Operations and Market Analysis Dataset\n",
        "\n",
        "This dataset presents an extensive collection of data from a craft beer brewery, spanning from January 2020 to January 2024. It encapsulates a rich blend of brewing parameters, sales data, and quality assessments, providing a holistic view of the brewing process and its market implications.\n",
        "\n",
        "The size of the dataset is 1.06 GB in a compressed condition whereas after unzip, 4.25 GB.\n",
        "\n",
        "Zip condition = 1.06 GB\n",
        "\n",
        "Unzip condition = 4.25 GB\n",
        "\n",
        "[Kaggle Link](https://www.kaggle.com/datasets/ankurnapa/brewery-operations-and-market-analysis-dataset)\n",
        "\n",
        "This assignement aims to demonstrate five strategies to handle large datasets effectively:\n",
        "\n",
        "- Parallelize with Dask\n",
        "- Use Chunking\n",
        "- Use Sampling\n",
        "- Load Less Data\n",
        "- Optimize Data Types\n",
        "\n",
        "**Assignment Group Members**\n",
        "1. Thong Yee Moon MCS231001\n",
        "2. Lye Kah Hooi MCS231010"
      ],
      "metadata": {
        "id": "oDzgWKvXjaVM"
      }
    },
    {
      "cell_type": "code",
      "execution_count": 1,
      "metadata": {
        "colab": {
          "base_uri": "https://localhost:8080/"
        },
        "id": "hlHaW4srjNb0",
        "outputId": "7e85e343-33b5-4afd-b8d3-1024921de29b"
      },
      "outputs": [
        {
          "output_type": "stream",
          "name": "stdout",
          "text": [
            "Drive already mounted at /content/drive; to attempt to forcibly remount, call drive.mount(\"/content/drive\", force_remount=True).\n"
          ]
        }
      ],
      "source": [
        "from google.colab import drive\n",
        "drive.mount('/content/drive')"
      ]
    },
    {
      "cell_type": "code",
      "source": [
        "# Upload the kaggle Token\n",
        "from google.colab import files\n",
        "files.upload()"
      ],
      "metadata": {
        "colab": {
          "base_uri": "https://localhost:8080/",
          "height": 106
        },
        "id": "MOQj_Yk-qFmk",
        "outputId": "f6a6b61b-c24b-432e-f430-1f68abd19820"
      },
      "execution_count": 2,
      "outputs": [
        {
          "output_type": "display_data",
          "data": {
            "text/plain": [
              "<IPython.core.display.HTML object>"
            ],
            "text/html": [
              "\n",
              "     <input type=\"file\" id=\"files-d85ac9d7-fbc1-432b-8086-40961d8de47a\" name=\"files[]\" multiple disabled\n",
              "        style=\"border:none\" />\n",
              "     <output id=\"result-d85ac9d7-fbc1-432b-8086-40961d8de47a\">\n",
              "      Upload widget is only available when the cell has been executed in the\n",
              "      current browser session. Please rerun this cell to enable.\n",
              "      </output>\n",
              "      <script>// Copyright 2017 Google LLC\n",
              "//\n",
              "// Licensed under the Apache License, Version 2.0 (the \"License\");\n",
              "// you may not use this file except in compliance with the License.\n",
              "// You may obtain a copy of the License at\n",
              "//\n",
              "//      http://www.apache.org/licenses/LICENSE-2.0\n",
              "//\n",
              "// Unless required by applicable law or agreed to in writing, software\n",
              "// distributed under the License is distributed on an \"AS IS\" BASIS,\n",
              "// WITHOUT WARRANTIES OR CONDITIONS OF ANY KIND, either express or implied.\n",
              "// See the License for the specific language governing permissions and\n",
              "// limitations under the License.\n",
              "\n",
              "/**\n",
              " * @fileoverview Helpers for google.colab Python module.\n",
              " */\n",
              "(function(scope) {\n",
              "function span(text, styleAttributes = {}) {\n",
              "  const element = document.createElement('span');\n",
              "  element.textContent = text;\n",
              "  for (const key of Object.keys(styleAttributes)) {\n",
              "    element.style[key] = styleAttributes[key];\n",
              "  }\n",
              "  return element;\n",
              "}\n",
              "\n",
              "// Max number of bytes which will be uploaded at a time.\n",
              "const MAX_PAYLOAD_SIZE = 100 * 1024;\n",
              "\n",
              "function _uploadFiles(inputId, outputId) {\n",
              "  const steps = uploadFilesStep(inputId, outputId);\n",
              "  const outputElement = document.getElementById(outputId);\n",
              "  // Cache steps on the outputElement to make it available for the next call\n",
              "  // to uploadFilesContinue from Python.\n",
              "  outputElement.steps = steps;\n",
              "\n",
              "  return _uploadFilesContinue(outputId);\n",
              "}\n",
              "\n",
              "// This is roughly an async generator (not supported in the browser yet),\n",
              "// where there are multiple asynchronous steps and the Python side is going\n",
              "// to poll for completion of each step.\n",
              "// This uses a Promise to block the python side on completion of each step,\n",
              "// then passes the result of the previous step as the input to the next step.\n",
              "function _uploadFilesContinue(outputId) {\n",
              "  const outputElement = document.getElementById(outputId);\n",
              "  const steps = outputElement.steps;\n",
              "\n",
              "  const next = steps.next(outputElement.lastPromiseValue);\n",
              "  return Promise.resolve(next.value.promise).then((value) => {\n",
              "    // Cache the last promise value to make it available to the next\n",
              "    // step of the generator.\n",
              "    outputElement.lastPromiseValue = value;\n",
              "    return next.value.response;\n",
              "  });\n",
              "}\n",
              "\n",
              "/**\n",
              " * Generator function which is called between each async step of the upload\n",
              " * process.\n",
              " * @param {string} inputId Element ID of the input file picker element.\n",
              " * @param {string} outputId Element ID of the output display.\n",
              " * @return {!Iterable<!Object>} Iterable of next steps.\n",
              " */\n",
              "function* uploadFilesStep(inputId, outputId) {\n",
              "  const inputElement = document.getElementById(inputId);\n",
              "  inputElement.disabled = false;\n",
              "\n",
              "  const outputElement = document.getElementById(outputId);\n",
              "  outputElement.innerHTML = '';\n",
              "\n",
              "  const pickedPromise = new Promise((resolve) => {\n",
              "    inputElement.addEventListener('change', (e) => {\n",
              "      resolve(e.target.files);\n",
              "    });\n",
              "  });\n",
              "\n",
              "  const cancel = document.createElement('button');\n",
              "  inputElement.parentElement.appendChild(cancel);\n",
              "  cancel.textContent = 'Cancel upload';\n",
              "  const cancelPromise = new Promise((resolve) => {\n",
              "    cancel.onclick = () => {\n",
              "      resolve(null);\n",
              "    };\n",
              "  });\n",
              "\n",
              "  // Wait for the user to pick the files.\n",
              "  const files = yield {\n",
              "    promise: Promise.race([pickedPromise, cancelPromise]),\n",
              "    response: {\n",
              "      action: 'starting',\n",
              "    }\n",
              "  };\n",
              "\n",
              "  cancel.remove();\n",
              "\n",
              "  // Disable the input element since further picks are not allowed.\n",
              "  inputElement.disabled = true;\n",
              "\n",
              "  if (!files) {\n",
              "    return {\n",
              "      response: {\n",
              "        action: 'complete',\n",
              "      }\n",
              "    };\n",
              "  }\n",
              "\n",
              "  for (const file of files) {\n",
              "    const li = document.createElement('li');\n",
              "    li.append(span(file.name, {fontWeight: 'bold'}));\n",
              "    li.append(span(\n",
              "        `(${file.type || 'n/a'}) - ${file.size} bytes, ` +\n",
              "        `last modified: ${\n",
              "            file.lastModifiedDate ? file.lastModifiedDate.toLocaleDateString() :\n",
              "                                    'n/a'} - `));\n",
              "    const percent = span('0% done');\n",
              "    li.appendChild(percent);\n",
              "\n",
              "    outputElement.appendChild(li);\n",
              "\n",
              "    const fileDataPromise = new Promise((resolve) => {\n",
              "      const reader = new FileReader();\n",
              "      reader.onload = (e) => {\n",
              "        resolve(e.target.result);\n",
              "      };\n",
              "      reader.readAsArrayBuffer(file);\n",
              "    });\n",
              "    // Wait for the data to be ready.\n",
              "    let fileData = yield {\n",
              "      promise: fileDataPromise,\n",
              "      response: {\n",
              "        action: 'continue',\n",
              "      }\n",
              "    };\n",
              "\n",
              "    // Use a chunked sending to avoid message size limits. See b/62115660.\n",
              "    let position = 0;\n",
              "    do {\n",
              "      const length = Math.min(fileData.byteLength - position, MAX_PAYLOAD_SIZE);\n",
              "      const chunk = new Uint8Array(fileData, position, length);\n",
              "      position += length;\n",
              "\n",
              "      const base64 = btoa(String.fromCharCode.apply(null, chunk));\n",
              "      yield {\n",
              "        response: {\n",
              "          action: 'append',\n",
              "          file: file.name,\n",
              "          data: base64,\n",
              "        },\n",
              "      };\n",
              "\n",
              "      let percentDone = fileData.byteLength === 0 ?\n",
              "          100 :\n",
              "          Math.round((position / fileData.byteLength) * 100);\n",
              "      percent.textContent = `${percentDone}% done`;\n",
              "\n",
              "    } while (position < fileData.byteLength);\n",
              "  }\n",
              "\n",
              "  // All done.\n",
              "  yield {\n",
              "    response: {\n",
              "      action: 'complete',\n",
              "    }\n",
              "  };\n",
              "}\n",
              "\n",
              "scope.google = scope.google || {};\n",
              "scope.google.colab = scope.google.colab || {};\n",
              "scope.google.colab._files = {\n",
              "  _uploadFiles,\n",
              "  _uploadFilesContinue,\n",
              "};\n",
              "})(self);\n",
              "</script> "
            ]
          },
          "metadata": {}
        },
        {
          "output_type": "stream",
          "name": "stdout",
          "text": [
            "Saving kaggle.json to kaggle (2).json\n"
          ]
        },
        {
          "output_type": "execute_result",
          "data": {
            "text/plain": [
              "{'kaggle (2).json': b'{\"username\":\"lyekahhooi\",\"key\":\"0770886ac07f72a3595a1bd69071587d\"}'}"
            ]
          },
          "metadata": {},
          "execution_count": 2
        }
      ]
    },
    {
      "cell_type": "markdown",
      "source": [
        "## Upload Dataset and Import Library"
      ],
      "metadata": {
        "id": "Nzm-9QxCqLfH"
      }
    },
    {
      "cell_type": "code",
      "source": [
        "! pip install kaggle --quiet\n",
        "! mkdir ~/.kaggle\n",
        "! cp kaggle.json ~/.kaggle/\n",
        "! chmod 600 ~/.kaggle/kaggle.json\n",
        "! kaggle datasets list"
      ],
      "metadata": {
        "colab": {
          "base_uri": "https://localhost:8080/"
        },
        "id": "8bWYgjsOqIJ8",
        "outputId": "70fbd469-c437-4b38-952c-54524d5078b9"
      },
      "execution_count": 3,
      "outputs": [
        {
          "output_type": "stream",
          "name": "stdout",
          "text": [
            "mkdir: cannot create directory ‘/root/.kaggle’: File exists\n",
            "ref                                                                 title                                             size  lastUpdated          downloadCount  voteCount  usabilityRating  \n",
            "------------------------------------------------------------------  -----------------------------------------------  -----  -------------------  -------------  ---------  ---------------  \n",
            "thedrcat/daigt-v2-train-dataset                                     DAIGT V2 Train Dataset                            29MB  2023-11-16 01:38:36           1991        192  1.0              \n",
            "muhammadbinimran/housing-price-prediction-data                      Housing Price Prediction Data                    763KB  2023-11-21 17:56:32           8950        154  1.0              \n",
            "thedevastator/books-sales-and-ratings                               Books Sales and Ratings                           53KB  2023-12-06 04:54:33           2145         30  1.0              \n",
            "thedevastator/netflix-imdb-scores                                   Netflix IMDB Scores                              699KB  2023-12-03 14:10:34           3511         57  1.0              \n",
            "jocelyndumlao/cardiovascular-disease-dataset                        Cardiovascular_Disease_Dataset                   411KB  2023-12-09 06:51:28           1489         60  1.0              \n",
            "elvinrustam/imdb-movies-dataset                                     IMDb Movies                                        2MB  2023-12-07 20:59:09           1133         26  1.0              \n",
            "henryshan/starbucks                                                 Starbucks                                          5KB  2023-12-06 03:07:49           2350         53  1.0              \n",
            "thedrcat/daigt-proper-train-dataset                                 DAIGT Proper Train Dataset                       119MB  2023-11-05 14:03:25           1832        150  1.0              \n",
            "spoorthiuk/us-top-10k-artists-and-their-popular-songs               US Top 10K Artists and Their Popular Songs         3MB  2023-12-13 17:49:48            674         22  1.0              \n",
            "everydaycodings/produce-prices-dataset                              Fruits and Vegetables Prices Dataset             232KB  2023-12-11 13:40:33           1505         31  1.0              \n",
            "jacksondivakarr/student-classification-dataset                      Student Classification Dataset                    15KB  2023-12-02 16:23:43           2377         41  1.0              \n",
            "thedevastator/covid-19-global-case-and-death-data                   COVID-19 Global Case and Death Data               78MB  2023-12-04 16:16:58            634         23  0.9411765        \n",
            "carlmcbrideellis/llm-7-prompt-training-dataset                      LLM: 7 prompt training dataset                    41MB  2023-11-15 07:32:56           1731        127  1.0              \n",
            "derrekdevon/real-estate-sales-2001-2020                             Real Estate Sales 2001-2020                       28MB  2023-12-07 15:36:26           1328         29  1.0              \n",
            "sriharshaeedala/electricity-generated-in-us-by-sector               Electricity Generated in US by Sector             11KB  2023-11-29 17:14:36            644         22  1.0              \n",
            "ddosad/auto-sales-data                                              Automobile Sales data                             79KB  2023-11-18 12:36:41           5699         91  1.0              \n",
            "jeremylarcher/american-house-prices-and-demographics-of-top-cities  American House Prices                            666KB  2023-12-09 16:28:27           1014         29  0.9411765        \n",
            "jacksondivakarr/online-shopping-dataset                             🛒 Online Shopping Dataset 📊📉📈                      5MB  2023-11-12 12:35:58           5826         94  1.0              \n",
            "tanshihjen/early-stage-diabetes-risk-prediction                     early_stage_diabetes_risk_prediction               3KB  2023-12-04 14:31:55            638         28  1.0              \n",
            "gabrielluizone/high-school-alcoholism-and-academic-performance      High School Alcoholism and Academic Performance  207KB  2023-12-02 17:56:36           1439         38  1.0              \n"
          ]
        }
      ]
    },
    {
      "cell_type": "code",
      "source": [
        "!kaggle datasets download -d ankurnapa/brewery-operations-and-market-analysis-dataset\n"
      ],
      "metadata": {
        "colab": {
          "base_uri": "https://localhost:8080/"
        },
        "id": "m-NM4IrUjaHB",
        "outputId": "1f6a6c0c-0b5e-436c-9449-1d36571bfbf5"
      },
      "execution_count": 4,
      "outputs": [
        {
          "output_type": "stream",
          "name": "stdout",
          "text": [
            "brewery-operations-and-market-analysis-dataset.zip: Skipping, found more recently modified local copy (use --force to force download)\n"
          ]
        }
      ]
    },
    {
      "cell_type": "code",
      "source": [
        "!unzip -u \"/content/brewery-operations-and-market-analysis-dataset.zip\""
      ],
      "metadata": {
        "colab": {
          "base_uri": "https://localhost:8080/"
        },
        "id": "VPbC78sVqVp_",
        "outputId": "a5a1a586-04c0-408c-9bdc-ce9e81582929"
      },
      "execution_count": 5,
      "outputs": [
        {
          "output_type": "stream",
          "name": "stdout",
          "text": [
            "Archive:  /content/brewery-operations-and-market-analysis-dataset.zip\n"
          ]
        }
      ]
    },
    {
      "cell_type": "code",
      "source": [
        "!pip install ipython-autotime\n",
        "\n",
        "# Load the autotime extension to display cell execution time\n",
        "%load_ext autotime"
      ],
      "metadata": {
        "colab": {
          "base_uri": "https://localhost:8080/"
        },
        "id": "-fPhZhrV4_PI",
        "outputId": "71321876-81f1-4b67-951d-7488892524d5"
      },
      "execution_count": 6,
      "outputs": [
        {
          "output_type": "stream",
          "name": "stdout",
          "text": [
            "Requirement already satisfied: ipython-autotime in /usr/local/lib/python3.10/dist-packages (0.3.2)\n",
            "Requirement already satisfied: ipython in /usr/local/lib/python3.10/dist-packages (from ipython-autotime) (7.34.0)\n",
            "Requirement already satisfied: setuptools>=18.5 in /usr/local/lib/python3.10/dist-packages (from ipython->ipython-autotime) (67.7.2)\n",
            "Requirement already satisfied: jedi>=0.16 in /usr/local/lib/python3.10/dist-packages (from ipython->ipython-autotime) (0.19.1)\n",
            "Requirement already satisfied: decorator in /usr/local/lib/python3.10/dist-packages (from ipython->ipython-autotime) (4.4.2)\n",
            "Requirement already satisfied: pickleshare in /usr/local/lib/python3.10/dist-packages (from ipython->ipython-autotime) (0.7.5)\n",
            "Requirement already satisfied: traitlets>=4.2 in /usr/local/lib/python3.10/dist-packages (from ipython->ipython-autotime) (5.7.1)\n",
            "Requirement already satisfied: prompt-toolkit!=3.0.0,!=3.0.1,<3.1.0,>=2.0.0 in /usr/local/lib/python3.10/dist-packages (from ipython->ipython-autotime) (3.0.43)\n",
            "Requirement already satisfied: pygments in /usr/local/lib/python3.10/dist-packages (from ipython->ipython-autotime) (2.16.1)\n",
            "Requirement already satisfied: backcall in /usr/local/lib/python3.10/dist-packages (from ipython->ipython-autotime) (0.2.0)\n",
            "Requirement already satisfied: matplotlib-inline in /usr/local/lib/python3.10/dist-packages (from ipython->ipython-autotime) (0.1.6)\n",
            "Requirement already satisfied: pexpect>4.3 in /usr/local/lib/python3.10/dist-packages (from ipython->ipython-autotime) (4.9.0)\n",
            "Requirement already satisfied: parso<0.9.0,>=0.8.3 in /usr/local/lib/python3.10/dist-packages (from jedi>=0.16->ipython->ipython-autotime) (0.8.3)\n",
            "Requirement already satisfied: ptyprocess>=0.5 in /usr/local/lib/python3.10/dist-packages (from pexpect>4.3->ipython->ipython-autotime) (0.7.0)\n",
            "Requirement already satisfied: wcwidth in /usr/local/lib/python3.10/dist-packages (from prompt-toolkit!=3.0.0,!=3.0.1,<3.1.0,>=2.0.0->ipython->ipython-autotime) (0.2.12)\n",
            "time: 440 µs (started: 2023-12-17 04:32:57 +00:00)\n"
          ]
        }
      ]
    },
    {
      "cell_type": "code",
      "source": [
        "import pandas as pd\n",
        "import numpy as np\n",
        "import random\n",
        "from sys import getsizeof\n",
        "import dask.dataframe as dd\n",
        "from dask.distributed import Client, LocalCluster\n",
        "import time"
      ],
      "metadata": {
        "colab": {
          "base_uri": "https://localhost:8080/"
        },
        "id": "dHDRuakZq5b9",
        "outputId": "1a8e9c6a-ca80-4de1-dc6a-95f1ec1fdafb"
      },
      "execution_count": 7,
      "outputs": [
        {
          "output_type": "stream",
          "name": "stdout",
          "text": [
            "time: 2.6 s (started: 2023-12-17 04:33:00 +00:00)\n"
          ]
        }
      ]
    },
    {
      "cell_type": "code",
      "source": [
        "# magic command to measure the execution time of the code cell.\n",
        "%%time\n",
        "\n",
        "df = pd.read_csv(\"/content/brewery_data_complete_extended.csv\")"
      ],
      "metadata": {
        "colab": {
          "base_uri": "https://localhost:8080/"
        },
        "id": "L-AkMQihqaMy",
        "outputId": "16d77f6b-55c5-4bd0-83e7-798c3bda15b1"
      },
      "execution_count": 8,
      "outputs": [
        {
          "output_type": "stream",
          "name": "stdout",
          "text": [
            "CPU times: user 48.9 s, sys: 10.3 s, total: 59.1 s\n",
            "Wall time: 1min 13s\n",
            "time: 1min 13s (started: 2023-12-17 04:33:05 +00:00)\n"
          ]
        }
      ]
    },
    {
      "cell_type": "code",
      "source": [
        "df.head(2)"
      ],
      "metadata": {
        "colab": {
          "base_uri": "https://localhost:8080/",
          "height": 219
        },
        "id": "rb_0z22fwGxN",
        "outputId": "c312b679-916f-4cd1-c7d1-0d2aa6c8aa72"
      },
      "execution_count": 9,
      "outputs": [
        {
          "output_type": "execute_result",
          "data": {
            "text/plain": [
              "   Batch_ID            Brew_Date  Beer_Style   SKU    Location  \\\n",
              "0   7870796  2020-01-01 00:00:19  Wheat Beer  Kegs  Whitefield   \n",
              "1   9810411  2020-01-01 00:00:31        Sour  Kegs  Whitefield   \n",
              "\n",
              "   Fermentation_Time  Temperature  pH_Level   Gravity  Alcohol_Content  \\\n",
              "0                 16    24.204251  5.289845  1.039504         5.370842   \n",
              "1                 13    18.086763  5.275643  1.059819         5.096053   \n",
              "\n",
              "   Bitterness  Color Ingredient_Ratio  Volume_Produced  Total_Sales  \\\n",
              "0          20      5      1:0.32:0.16             4666  2664.759345   \n",
              "1          36     14      1:0.39:0.24              832  9758.801062   \n",
              "\n",
              "   Quality_Score  Brewhouse_Efficiency  Loss_During_Brewing  \\\n",
              "0       8.577016             89.195882             4.104988   \n",
              "1       7.420541             72.480915             2.676528   \n",
              "\n",
              "   Loss_During_Fermentation  Loss_During_Bottling_Kegging  \n",
              "0                  3.235485                      4.663204  \n",
              "1                  4.246129                      2.044358  "
            ],
            "text/html": [
              "\n",
              "  <div id=\"df-40170685-2fae-4abf-9e4d-86e2e7f6c8a2\" class=\"colab-df-container\">\n",
              "    <div>\n",
              "<style scoped>\n",
              "    .dataframe tbody tr th:only-of-type {\n",
              "        vertical-align: middle;\n",
              "    }\n",
              "\n",
              "    .dataframe tbody tr th {\n",
              "        vertical-align: top;\n",
              "    }\n",
              "\n",
              "    .dataframe thead th {\n",
              "        text-align: right;\n",
              "    }\n",
              "</style>\n",
              "<table border=\"1\" class=\"dataframe\">\n",
              "  <thead>\n",
              "    <tr style=\"text-align: right;\">\n",
              "      <th></th>\n",
              "      <th>Batch_ID</th>\n",
              "      <th>Brew_Date</th>\n",
              "      <th>Beer_Style</th>\n",
              "      <th>SKU</th>\n",
              "      <th>Location</th>\n",
              "      <th>Fermentation_Time</th>\n",
              "      <th>Temperature</th>\n",
              "      <th>pH_Level</th>\n",
              "      <th>Gravity</th>\n",
              "      <th>Alcohol_Content</th>\n",
              "      <th>Bitterness</th>\n",
              "      <th>Color</th>\n",
              "      <th>Ingredient_Ratio</th>\n",
              "      <th>Volume_Produced</th>\n",
              "      <th>Total_Sales</th>\n",
              "      <th>Quality_Score</th>\n",
              "      <th>Brewhouse_Efficiency</th>\n",
              "      <th>Loss_During_Brewing</th>\n",
              "      <th>Loss_During_Fermentation</th>\n",
              "      <th>Loss_During_Bottling_Kegging</th>\n",
              "    </tr>\n",
              "  </thead>\n",
              "  <tbody>\n",
              "    <tr>\n",
              "      <th>0</th>\n",
              "      <td>7870796</td>\n",
              "      <td>2020-01-01 00:00:19</td>\n",
              "      <td>Wheat Beer</td>\n",
              "      <td>Kegs</td>\n",
              "      <td>Whitefield</td>\n",
              "      <td>16</td>\n",
              "      <td>24.204251</td>\n",
              "      <td>5.289845</td>\n",
              "      <td>1.039504</td>\n",
              "      <td>5.370842</td>\n",
              "      <td>20</td>\n",
              "      <td>5</td>\n",
              "      <td>1:0.32:0.16</td>\n",
              "      <td>4666</td>\n",
              "      <td>2664.759345</td>\n",
              "      <td>8.577016</td>\n",
              "      <td>89.195882</td>\n",
              "      <td>4.104988</td>\n",
              "      <td>3.235485</td>\n",
              "      <td>4.663204</td>\n",
              "    </tr>\n",
              "    <tr>\n",
              "      <th>1</th>\n",
              "      <td>9810411</td>\n",
              "      <td>2020-01-01 00:00:31</td>\n",
              "      <td>Sour</td>\n",
              "      <td>Kegs</td>\n",
              "      <td>Whitefield</td>\n",
              "      <td>13</td>\n",
              "      <td>18.086763</td>\n",
              "      <td>5.275643</td>\n",
              "      <td>1.059819</td>\n",
              "      <td>5.096053</td>\n",
              "      <td>36</td>\n",
              "      <td>14</td>\n",
              "      <td>1:0.39:0.24</td>\n",
              "      <td>832</td>\n",
              "      <td>9758.801062</td>\n",
              "      <td>7.420541</td>\n",
              "      <td>72.480915</td>\n",
              "      <td>2.676528</td>\n",
              "      <td>4.246129</td>\n",
              "      <td>2.044358</td>\n",
              "    </tr>\n",
              "  </tbody>\n",
              "</table>\n",
              "</div>\n",
              "    <div class=\"colab-df-buttons\">\n",
              "\n",
              "  <div class=\"colab-df-container\">\n",
              "    <button class=\"colab-df-convert\" onclick=\"convertToInteractive('df-40170685-2fae-4abf-9e4d-86e2e7f6c8a2')\"\n",
              "            title=\"Convert this dataframe to an interactive table.\"\n",
              "            style=\"display:none;\">\n",
              "\n",
              "  <svg xmlns=\"http://www.w3.org/2000/svg\" height=\"24px\" viewBox=\"0 -960 960 960\">\n",
              "    <path d=\"M120-120v-720h720v720H120Zm60-500h600v-160H180v160Zm220 220h160v-160H400v160Zm0 220h160v-160H400v160ZM180-400h160v-160H180v160Zm440 0h160v-160H620v160ZM180-180h160v-160H180v160Zm440 0h160v-160H620v160Z\"/>\n",
              "  </svg>\n",
              "    </button>\n",
              "\n",
              "  <style>\n",
              "    .colab-df-container {\n",
              "      display:flex;\n",
              "      gap: 12px;\n",
              "    }\n",
              "\n",
              "    .colab-df-convert {\n",
              "      background-color: #E8F0FE;\n",
              "      border: none;\n",
              "      border-radius: 50%;\n",
              "      cursor: pointer;\n",
              "      display: none;\n",
              "      fill: #1967D2;\n",
              "      height: 32px;\n",
              "      padding: 0 0 0 0;\n",
              "      width: 32px;\n",
              "    }\n",
              "\n",
              "    .colab-df-convert:hover {\n",
              "      background-color: #E2EBFA;\n",
              "      box-shadow: 0px 1px 2px rgba(60, 64, 67, 0.3), 0px 1px 3px 1px rgba(60, 64, 67, 0.15);\n",
              "      fill: #174EA6;\n",
              "    }\n",
              "\n",
              "    .colab-df-buttons div {\n",
              "      margin-bottom: 4px;\n",
              "    }\n",
              "\n",
              "    [theme=dark] .colab-df-convert {\n",
              "      background-color: #3B4455;\n",
              "      fill: #D2E3FC;\n",
              "    }\n",
              "\n",
              "    [theme=dark] .colab-df-convert:hover {\n",
              "      background-color: #434B5C;\n",
              "      box-shadow: 0px 1px 3px 1px rgba(0, 0, 0, 0.15);\n",
              "      filter: drop-shadow(0px 1px 2px rgba(0, 0, 0, 0.3));\n",
              "      fill: #FFFFFF;\n",
              "    }\n",
              "  </style>\n",
              "\n",
              "    <script>\n",
              "      const buttonEl =\n",
              "        document.querySelector('#df-40170685-2fae-4abf-9e4d-86e2e7f6c8a2 button.colab-df-convert');\n",
              "      buttonEl.style.display =\n",
              "        google.colab.kernel.accessAllowed ? 'block' : 'none';\n",
              "\n",
              "      async function convertToInteractive(key) {\n",
              "        const element = document.querySelector('#df-40170685-2fae-4abf-9e4d-86e2e7f6c8a2');\n",
              "        const dataTable =\n",
              "          await google.colab.kernel.invokeFunction('convertToInteractive',\n",
              "                                                    [key], {});\n",
              "        if (!dataTable) return;\n",
              "\n",
              "        const docLinkHtml = 'Like what you see? Visit the ' +\n",
              "          '<a target=\"_blank\" href=https://colab.research.google.com/notebooks/data_table.ipynb>data table notebook</a>'\n",
              "          + ' to learn more about interactive tables.';\n",
              "        element.innerHTML = '';\n",
              "        dataTable['output_type'] = 'display_data';\n",
              "        await google.colab.output.renderOutput(dataTable, element);\n",
              "        const docLink = document.createElement('div');\n",
              "        docLink.innerHTML = docLinkHtml;\n",
              "        element.appendChild(docLink);\n",
              "      }\n",
              "    </script>\n",
              "  </div>\n",
              "\n",
              "\n",
              "<div id=\"df-096320ee-fb0a-44f0-9b9d-0bcbea7df144\">\n",
              "  <button class=\"colab-df-quickchart\" onclick=\"quickchart('df-096320ee-fb0a-44f0-9b9d-0bcbea7df144')\"\n",
              "            title=\"Suggest charts\"\n",
              "            style=\"display:none;\">\n",
              "\n",
              "<svg xmlns=\"http://www.w3.org/2000/svg\" height=\"24px\"viewBox=\"0 0 24 24\"\n",
              "     width=\"24px\">\n",
              "    <g>\n",
              "        <path d=\"M19 3H5c-1.1 0-2 .9-2 2v14c0 1.1.9 2 2 2h14c1.1 0 2-.9 2-2V5c0-1.1-.9-2-2-2zM9 17H7v-7h2v7zm4 0h-2V7h2v10zm4 0h-2v-4h2v4z\"/>\n",
              "    </g>\n",
              "</svg>\n",
              "  </button>\n",
              "\n",
              "<style>\n",
              "  .colab-df-quickchart {\n",
              "      --bg-color: #E8F0FE;\n",
              "      --fill-color: #1967D2;\n",
              "      --hover-bg-color: #E2EBFA;\n",
              "      --hover-fill-color: #174EA6;\n",
              "      --disabled-fill-color: #AAA;\n",
              "      --disabled-bg-color: #DDD;\n",
              "  }\n",
              "\n",
              "  [theme=dark] .colab-df-quickchart {\n",
              "      --bg-color: #3B4455;\n",
              "      --fill-color: #D2E3FC;\n",
              "      --hover-bg-color: #434B5C;\n",
              "      --hover-fill-color: #FFFFFF;\n",
              "      --disabled-bg-color: #3B4455;\n",
              "      --disabled-fill-color: #666;\n",
              "  }\n",
              "\n",
              "  .colab-df-quickchart {\n",
              "    background-color: var(--bg-color);\n",
              "    border: none;\n",
              "    border-radius: 50%;\n",
              "    cursor: pointer;\n",
              "    display: none;\n",
              "    fill: var(--fill-color);\n",
              "    height: 32px;\n",
              "    padding: 0;\n",
              "    width: 32px;\n",
              "  }\n",
              "\n",
              "  .colab-df-quickchart:hover {\n",
              "    background-color: var(--hover-bg-color);\n",
              "    box-shadow: 0 1px 2px rgba(60, 64, 67, 0.3), 0 1px 3px 1px rgba(60, 64, 67, 0.15);\n",
              "    fill: var(--button-hover-fill-color);\n",
              "  }\n",
              "\n",
              "  .colab-df-quickchart-complete:disabled,\n",
              "  .colab-df-quickchart-complete:disabled:hover {\n",
              "    background-color: var(--disabled-bg-color);\n",
              "    fill: var(--disabled-fill-color);\n",
              "    box-shadow: none;\n",
              "  }\n",
              "\n",
              "  .colab-df-spinner {\n",
              "    border: 2px solid var(--fill-color);\n",
              "    border-color: transparent;\n",
              "    border-bottom-color: var(--fill-color);\n",
              "    animation:\n",
              "      spin 1s steps(1) infinite;\n",
              "  }\n",
              "\n",
              "  @keyframes spin {\n",
              "    0% {\n",
              "      border-color: transparent;\n",
              "      border-bottom-color: var(--fill-color);\n",
              "      border-left-color: var(--fill-color);\n",
              "    }\n",
              "    20% {\n",
              "      border-color: transparent;\n",
              "      border-left-color: var(--fill-color);\n",
              "      border-top-color: var(--fill-color);\n",
              "    }\n",
              "    30% {\n",
              "      border-color: transparent;\n",
              "      border-left-color: var(--fill-color);\n",
              "      border-top-color: var(--fill-color);\n",
              "      border-right-color: var(--fill-color);\n",
              "    }\n",
              "    40% {\n",
              "      border-color: transparent;\n",
              "      border-right-color: var(--fill-color);\n",
              "      border-top-color: var(--fill-color);\n",
              "    }\n",
              "    60% {\n",
              "      border-color: transparent;\n",
              "      border-right-color: var(--fill-color);\n",
              "    }\n",
              "    80% {\n",
              "      border-color: transparent;\n",
              "      border-right-color: var(--fill-color);\n",
              "      border-bottom-color: var(--fill-color);\n",
              "    }\n",
              "    90% {\n",
              "      border-color: transparent;\n",
              "      border-bottom-color: var(--fill-color);\n",
              "    }\n",
              "  }\n",
              "</style>\n",
              "\n",
              "  <script>\n",
              "    async function quickchart(key) {\n",
              "      const quickchartButtonEl =\n",
              "        document.querySelector('#' + key + ' button');\n",
              "      quickchartButtonEl.disabled = true;  // To prevent multiple clicks.\n",
              "      quickchartButtonEl.classList.add('colab-df-spinner');\n",
              "      try {\n",
              "        const charts = await google.colab.kernel.invokeFunction(\n",
              "            'suggestCharts', [key], {});\n",
              "      } catch (error) {\n",
              "        console.error('Error during call to suggestCharts:', error);\n",
              "      }\n",
              "      quickchartButtonEl.classList.remove('colab-df-spinner');\n",
              "      quickchartButtonEl.classList.add('colab-df-quickchart-complete');\n",
              "    }\n",
              "    (() => {\n",
              "      let quickchartButtonEl =\n",
              "        document.querySelector('#df-096320ee-fb0a-44f0-9b9d-0bcbea7df144 button');\n",
              "      quickchartButtonEl.style.display =\n",
              "        google.colab.kernel.accessAllowed ? 'block' : 'none';\n",
              "    })();\n",
              "  </script>\n",
              "</div>\n",
              "    </div>\n",
              "  </div>\n"
            ]
          },
          "metadata": {},
          "execution_count": 9
        },
        {
          "output_type": "stream",
          "name": "stdout",
          "text": [
            "time: 29.8 ms (started: 2023-12-17 04:34:23 +00:00)\n"
          ]
        }
      ]
    },
    {
      "cell_type": "code",
      "source": [
        "df.shape"
      ],
      "metadata": {
        "colab": {
          "base_uri": "https://localhost:8080/"
        },
        "id": "43S0F-9hdrCP",
        "outputId": "26d7de21-e071-463d-e4c9-020aeaa0f7e7"
      },
      "execution_count": 10,
      "outputs": [
        {
          "output_type": "execute_result",
          "data": {
            "text/plain": [
              "(10000000, 20)"
            ]
          },
          "metadata": {},
          "execution_count": 10
        },
        {
          "output_type": "stream",
          "name": "stdout",
          "text": [
            "time: 4.03 ms (started: 2023-12-17 04:34:26 +00:00)\n"
          ]
        }
      ]
    },
    {
      "cell_type": "code",
      "source": [
        "df.info()"
      ],
      "metadata": {
        "colab": {
          "base_uri": "https://localhost:8080/"
        },
        "id": "aCHOcP6PY90K",
        "outputId": "4813216c-5cb0-4c30-e3b0-bb2fa24d76b9"
      },
      "execution_count": 11,
      "outputs": [
        {
          "output_type": "stream",
          "name": "stdout",
          "text": [
            "<class 'pandas.core.frame.DataFrame'>\n",
            "RangeIndex: 10000000 entries, 0 to 9999999\n",
            "Data columns (total 20 columns):\n",
            " #   Column                        Dtype  \n",
            "---  ------                        -----  \n",
            " 0   Batch_ID                      int64  \n",
            " 1   Brew_Date                     object \n",
            " 2   Beer_Style                    object \n",
            " 3   SKU                           object \n",
            " 4   Location                      object \n",
            " 5   Fermentation_Time             int64  \n",
            " 6   Temperature                   float64\n",
            " 7   pH_Level                      float64\n",
            " 8   Gravity                       float64\n",
            " 9   Alcohol_Content               float64\n",
            " 10  Bitterness                    int64  \n",
            " 11  Color                         int64  \n",
            " 12  Ingredient_Ratio              object \n",
            " 13  Volume_Produced               int64  \n",
            " 14  Total_Sales                   float64\n",
            " 15  Quality_Score                 float64\n",
            " 16  Brewhouse_Efficiency          float64\n",
            " 17  Loss_During_Brewing           float64\n",
            " 18  Loss_During_Fermentation      float64\n",
            " 19  Loss_During_Bottling_Kegging  float64\n",
            "dtypes: float64(10), int64(5), object(5)\n",
            "memory usage: 1.5+ GB\n",
            "time: 26.4 ms (started: 2023-12-17 04:34:28 +00:00)\n"
          ]
        }
      ]
    },
    {
      "cell_type": "markdown",
      "source": [
        "## Initial Dataframe Size"
      ],
      "metadata": {
        "id": "eOdimfYYsJ7C"
      }
    },
    {
      "cell_type": "code",
      "source": [
        "initial_size = getsizeof(df)/(1024.0**3)\n",
        "print('Intial Dataframe size: %2.2f GB'%initial_size)\n",
        "\n",
        "# OR\n",
        "# Initial_size = df.info(verbose=False, memory_usage=\"deep\")\n",
        "# print('Initial Data Frame size: %2.2f GB'%initial_size)"
      ],
      "metadata": {
        "colab": {
          "base_uri": "https://localhost:8080/"
        },
        "id": "HfSx6rlUr6ge",
        "outputId": "73caabaa-459b-4fa0-85d4-c7d7610b786a"
      },
      "execution_count": 12,
      "outputs": [
        {
          "output_type": "stream",
          "name": "stdout",
          "text": [
            "Intial Dataframe size: 4.25 GB\n",
            "time: 5.47 s (started: 2023-12-17 04:34:31 +00:00)\n"
          ]
        }
      ]
    },
    {
      "cell_type": "markdown",
      "source": [
        "## Method 1 - Parallelize with Dask\n",
        "\n",
        "By Exploiting the fact that our machine has more than one core. For this purpose we use Dask, an open-source python project which parallelizes Numpy and Pandas. Under the hood, a Dask Dataframe consists of many Pandas dataframes that are manipulated in parallel. As most of the Pandas API is implemented, Dask has a very similar look and feel, making it easy to use for all who know Pandas."
      ],
      "metadata": {
        "id": "Jekgw7JbP7aT"
      }
    },
    {
      "cell_type": "code",
      "source": [
        "cluster = LocalCluster()\n",
        "client = Client(cluster)\n",
        "client"
      ],
      "metadata": {
        "colab": {
          "base_uri": "https://localhost:8080/",
          "height": 458
        },
        "id": "iXvkLHhCPc3h",
        "outputId": "6634e35c-d5c3-4eeb-a155-b15a4778c2d8"
      },
      "execution_count": 13,
      "outputs": [
        {
          "output_type": "stream",
          "name": "stderr",
          "text": [
            "INFO:distributed.http.proxy:To route to workers diagnostics web server please install jupyter-server-proxy: python -m pip install jupyter-server-proxy\n",
            "INFO:distributed.scheduler:State start\n",
            "INFO:distributed.diskutils:Found stale lock file and directory '/tmp/dask-scratch-space/scheduler-r6o1jy6r', purging\n",
            "INFO:distributed.scheduler:  Scheduler at:     tcp://127.0.0.1:44375\n",
            "INFO:distributed.scheduler:  dashboard at:  http://127.0.0.1:8787/status\n",
            "INFO:distributed.nanny:        Start Nanny at: 'tcp://127.0.0.1:38077'\n",
            "INFO:distributed.nanny:        Start Nanny at: 'tcp://127.0.0.1:45695'\n",
            "INFO:distributed.scheduler:Register worker <WorkerState 'tcp://127.0.0.1:39257', name: 1, status: init, memory: 0, processing: 0>\n",
            "INFO:distributed.scheduler:Starting worker compute stream, tcp://127.0.0.1:39257\n",
            "INFO:distributed.core:Starting established connection to tcp://127.0.0.1:32940\n",
            "INFO:distributed.scheduler:Register worker <WorkerState 'tcp://127.0.0.1:33215', name: 0, status: init, memory: 0, processing: 0>\n",
            "INFO:distributed.scheduler:Starting worker compute stream, tcp://127.0.0.1:33215\n",
            "INFO:distributed.core:Starting established connection to tcp://127.0.0.1:32948\n",
            "INFO:distributed.scheduler:Receive client connection: Client-9bce093a-9c95-11ee-9aef-0242ac1c000c\n",
            "INFO:distributed.core:Starting established connection to tcp://127.0.0.1:32956\n"
          ]
        },
        {
          "output_type": "execute_result",
          "data": {
            "text/plain": [
              "<Client: 'tcp://127.0.0.1:44375' processes=2 threads=2, memory=12.67 GiB>"
            ],
            "text/html": [
              "<div>\n",
              "    <div style=\"width: 24px; height: 24px; background-color: #e1e1e1; border: 3px solid #9D9D9D; border-radius: 5px; position: absolute;\"> </div>\n",
              "    <div style=\"margin-left: 48px;\">\n",
              "        <h3 style=\"margin-bottom: 0px;\">Client</h3>\n",
              "        <p style=\"color: #9D9D9D; margin-bottom: 0px;\">Client-9bce093a-9c95-11ee-9aef-0242ac1c000c</p>\n",
              "        <table style=\"width: 100%; text-align: left;\">\n",
              "\n",
              "        <tr>\n",
              "        \n",
              "            <td style=\"text-align: left;\"><strong>Connection method:</strong> Cluster object</td>\n",
              "            <td style=\"text-align: left;\"><strong>Cluster type:</strong> distributed.LocalCluster</td>\n",
              "        \n",
              "        </tr>\n",
              "\n",
              "        \n",
              "            <tr>\n",
              "                <td style=\"text-align: left;\">\n",
              "                    <strong>Dashboard: </strong> <a href=\"http://127.0.0.1:8787/status\" target=\"_blank\">http://127.0.0.1:8787/status</a>\n",
              "                </td>\n",
              "                <td style=\"text-align: left;\"></td>\n",
              "            </tr>\n",
              "        \n",
              "\n",
              "        </table>\n",
              "\n",
              "        \n",
              "\n",
              "        \n",
              "            <details>\n",
              "            <summary style=\"margin-bottom: 20px;\"><h3 style=\"display: inline;\">Cluster Info</h3></summary>\n",
              "            <div class=\"jp-RenderedHTMLCommon jp-RenderedHTML jp-mod-trusted jp-OutputArea-output\">\n",
              "    <div style=\"width: 24px; height: 24px; background-color: #e1e1e1; border: 3px solid #9D9D9D; border-radius: 5px; position: absolute;\">\n",
              "    </div>\n",
              "    <div style=\"margin-left: 48px;\">\n",
              "        <h3 style=\"margin-bottom: 0px; margin-top: 0px;\">LocalCluster</h3>\n",
              "        <p style=\"color: #9D9D9D; margin-bottom: 0px;\">aef2a34d</p>\n",
              "        <table style=\"width: 100%; text-align: left;\">\n",
              "            <tr>\n",
              "                <td style=\"text-align: left;\">\n",
              "                    <strong>Dashboard:</strong> <a href=\"http://127.0.0.1:8787/status\" target=\"_blank\">http://127.0.0.1:8787/status</a>\n",
              "                </td>\n",
              "                <td style=\"text-align: left;\">\n",
              "                    <strong>Workers:</strong> 2\n",
              "                </td>\n",
              "            </tr>\n",
              "            <tr>\n",
              "                <td style=\"text-align: left;\">\n",
              "                    <strong>Total threads:</strong> 2\n",
              "                </td>\n",
              "                <td style=\"text-align: left;\">\n",
              "                    <strong>Total memory:</strong> 12.67 GiB\n",
              "                </td>\n",
              "            </tr>\n",
              "            \n",
              "            <tr>\n",
              "    <td style=\"text-align: left;\"><strong>Status:</strong> running</td>\n",
              "    <td style=\"text-align: left;\"><strong>Using processes:</strong> True</td>\n",
              "</tr>\n",
              "\n",
              "            \n",
              "        </table>\n",
              "\n",
              "        <details>\n",
              "            <summary style=\"margin-bottom: 20px;\">\n",
              "                <h3 style=\"display: inline;\">Scheduler Info</h3>\n",
              "            </summary>\n",
              "\n",
              "            <div style=\"\">\n",
              "    <div>\n",
              "        <div style=\"width: 24px; height: 24px; background-color: #FFF7E5; border: 3px solid #FF6132; border-radius: 5px; position: absolute;\"> </div>\n",
              "        <div style=\"margin-left: 48px;\">\n",
              "            <h3 style=\"margin-bottom: 0px;\">Scheduler</h3>\n",
              "            <p style=\"color: #9D9D9D; margin-bottom: 0px;\">Scheduler-8a27ed19-67d1-44cf-b451-9f0fb1222eae</p>\n",
              "            <table style=\"width: 100%; text-align: left;\">\n",
              "                <tr>\n",
              "                    <td style=\"text-align: left;\">\n",
              "                        <strong>Comm:</strong> tcp://127.0.0.1:44375\n",
              "                    </td>\n",
              "                    <td style=\"text-align: left;\">\n",
              "                        <strong>Workers:</strong> 2\n",
              "                    </td>\n",
              "                </tr>\n",
              "                <tr>\n",
              "                    <td style=\"text-align: left;\">\n",
              "                        <strong>Dashboard:</strong> <a href=\"http://127.0.0.1:8787/status\" target=\"_blank\">http://127.0.0.1:8787/status</a>\n",
              "                    </td>\n",
              "                    <td style=\"text-align: left;\">\n",
              "                        <strong>Total threads:</strong> 2\n",
              "                    </td>\n",
              "                </tr>\n",
              "                <tr>\n",
              "                    <td style=\"text-align: left;\">\n",
              "                        <strong>Started:</strong> Just now\n",
              "                    </td>\n",
              "                    <td style=\"text-align: left;\">\n",
              "                        <strong>Total memory:</strong> 12.67 GiB\n",
              "                    </td>\n",
              "                </tr>\n",
              "            </table>\n",
              "        </div>\n",
              "    </div>\n",
              "\n",
              "    <details style=\"margin-left: 48px;\">\n",
              "        <summary style=\"margin-bottom: 20px;\">\n",
              "            <h3 style=\"display: inline;\">Workers</h3>\n",
              "        </summary>\n",
              "\n",
              "        \n",
              "        <div style=\"margin-bottom: 20px;\">\n",
              "            <div style=\"width: 24px; height: 24px; background-color: #DBF5FF; border: 3px solid #4CC9FF; border-radius: 5px; position: absolute;\"> </div>\n",
              "            <div style=\"margin-left: 48px;\">\n",
              "            <details>\n",
              "                <summary>\n",
              "                    <h4 style=\"margin-bottom: 0px; display: inline;\">Worker: 0</h4>\n",
              "                </summary>\n",
              "                <table style=\"width: 100%; text-align: left;\">\n",
              "                    <tr>\n",
              "                        <td style=\"text-align: left;\">\n",
              "                            <strong>Comm: </strong> tcp://127.0.0.1:33215\n",
              "                        </td>\n",
              "                        <td style=\"text-align: left;\">\n",
              "                            <strong>Total threads: </strong> 1\n",
              "                        </td>\n",
              "                    </tr>\n",
              "                    <tr>\n",
              "                        <td style=\"text-align: left;\">\n",
              "                            <strong>Dashboard: </strong> <a href=\"http://127.0.0.1:34345/status\" target=\"_blank\">http://127.0.0.1:34345/status</a>\n",
              "                        </td>\n",
              "                        <td style=\"text-align: left;\">\n",
              "                            <strong>Memory: </strong> 6.34 GiB\n",
              "                        </td>\n",
              "                    </tr>\n",
              "                    <tr>\n",
              "                        <td style=\"text-align: left;\">\n",
              "                            <strong>Nanny: </strong> tcp://127.0.0.1:38077\n",
              "                        </td>\n",
              "                        <td style=\"text-align: left;\"></td>\n",
              "                    </tr>\n",
              "                    <tr>\n",
              "                        <td colspan=\"2\" style=\"text-align: left;\">\n",
              "                            <strong>Local directory: </strong> /tmp/dask-scratch-space/worker-zxnyoxjm\n",
              "                        </td>\n",
              "                    </tr>\n",
              "\n",
              "                    \n",
              "\n",
              "                    \n",
              "\n",
              "                </table>\n",
              "            </details>\n",
              "            </div>\n",
              "        </div>\n",
              "        \n",
              "        <div style=\"margin-bottom: 20px;\">\n",
              "            <div style=\"width: 24px; height: 24px; background-color: #DBF5FF; border: 3px solid #4CC9FF; border-radius: 5px; position: absolute;\"> </div>\n",
              "            <div style=\"margin-left: 48px;\">\n",
              "            <details>\n",
              "                <summary>\n",
              "                    <h4 style=\"margin-bottom: 0px; display: inline;\">Worker: 1</h4>\n",
              "                </summary>\n",
              "                <table style=\"width: 100%; text-align: left;\">\n",
              "                    <tr>\n",
              "                        <td style=\"text-align: left;\">\n",
              "                            <strong>Comm: </strong> tcp://127.0.0.1:39257\n",
              "                        </td>\n",
              "                        <td style=\"text-align: left;\">\n",
              "                            <strong>Total threads: </strong> 1\n",
              "                        </td>\n",
              "                    </tr>\n",
              "                    <tr>\n",
              "                        <td style=\"text-align: left;\">\n",
              "                            <strong>Dashboard: </strong> <a href=\"http://127.0.0.1:34235/status\" target=\"_blank\">http://127.0.0.1:34235/status</a>\n",
              "                        </td>\n",
              "                        <td style=\"text-align: left;\">\n",
              "                            <strong>Memory: </strong> 6.34 GiB\n",
              "                        </td>\n",
              "                    </tr>\n",
              "                    <tr>\n",
              "                        <td style=\"text-align: left;\">\n",
              "                            <strong>Nanny: </strong> tcp://127.0.0.1:45695\n",
              "                        </td>\n",
              "                        <td style=\"text-align: left;\"></td>\n",
              "                    </tr>\n",
              "                    <tr>\n",
              "                        <td colspan=\"2\" style=\"text-align: left;\">\n",
              "                            <strong>Local directory: </strong> /tmp/dask-scratch-space/worker-zfo4a71w\n",
              "                        </td>\n",
              "                    </tr>\n",
              "\n",
              "                    \n",
              "\n",
              "                    \n",
              "\n",
              "                </table>\n",
              "            </details>\n",
              "            </div>\n",
              "        </div>\n",
              "        \n",
              "\n",
              "    </details>\n",
              "</div>\n",
              "\n",
              "        </details>\n",
              "    </div>\n",
              "</div>\n",
              "            </details>\n",
              "        \n",
              "\n",
              "    </div>\n",
              "</div>"
            ]
          },
          "metadata": {},
          "execution_count": 13
        },
        {
          "output_type": "stream",
          "name": "stdout",
          "text": [
            "time: 3.91 s (started: 2023-12-17 04:34:43 +00:00)\n"
          ]
        }
      ]
    },
    {
      "cell_type": "code",
      "source": [
        "# Define the file path\n",
        "file_path = \"/content/brewery_data_complete_extended.csv\""
      ],
      "metadata": {
        "colab": {
          "base_uri": "https://localhost:8080/"
        },
        "id": "67fP8FsleiQ2",
        "outputId": "3e48c463-466c-4679-9df5-3377e63f0706"
      },
      "execution_count": 14,
      "outputs": [
        {
          "output_type": "stream",
          "name": "stdout",
          "text": [
            "time: 593 µs (started: 2023-12-17 04:34:50 +00:00)\n"
          ]
        }
      ]
    },
    {
      "cell_type": "code",
      "source": [
        "# Pandas\n",
        "start_time_pandas = time.time()\n",
        "df_pandas = pd.read_csv(file_path)\n",
        "end_time_pandas = time.time()\n",
        "time_pandas = end_time_pandas - start_time_pandas\n",
        "memory_pandas = df_pandas.memory_usage(deep=True).sum() / (1024.0 ** 3)\n",
        "size_pandas = getsizeof(df_pandas)\n",
        "\n",
        "# Display results\n",
        "print(\"Pandas:\")\n",
        "print(f\"  Time: {time_pandas:.4f} seconds\")\n",
        "print(f\"  Memory Usage: {memory_pandas:.2f} GB\")\n",
        "print(f\"  Dataframe Size: {size_pandas / (1024.0 ** 3):.2f} GB\")"
      ],
      "metadata": {
        "colab": {
          "base_uri": "https://localhost:8080/"
        },
        "id": "gWbMIHXwe1Qn",
        "outputId": "342fa80c-8d20-4bcd-b1c8-b69a3c2320ea"
      },
      "execution_count": 15,
      "outputs": [
        {
          "output_type": "stream",
          "name": "stderr",
          "text": [
            "INFO:distributed.core:Event loop was unresponsive in Scheduler for 3.88s.  This is often caused by long-running GIL-holding functions or moving large chunks of data. This can cause timeouts and instability.\n",
            "INFO:distributed.core:Event loop was unresponsive in Nanny for 3.89s.  This is often caused by long-running GIL-holding functions or moving large chunks of data. This can cause timeouts and instability.\n",
            "INFO:distributed.core:Event loop was unresponsive in Nanny for 3.90s.  This is often caused by long-running GIL-holding functions or moving large chunks of data. This can cause timeouts and instability.\n",
            "INFO:distributed.core:Event loop was unresponsive in Scheduler for 6.38s.  This is often caused by long-running GIL-holding functions or moving large chunks of data. This can cause timeouts and instability.\n",
            "INFO:distributed.core:Event loop was unresponsive in Nanny for 14.27s.  This is often caused by long-running GIL-holding functions or moving large chunks of data. This can cause timeouts and instability.\n",
            "INFO:distributed.core:Event loop was unresponsive in Nanny for 14.28s.  This is often caused by long-running GIL-holding functions or moving large chunks of data. This can cause timeouts and instability.\n"
          ]
        },
        {
          "output_type": "stream",
          "name": "stdout",
          "text": [
            "Pandas:\n",
            "  Time: 65.5799 seconds\n",
            "  Memory Usage: 4.25 GB\n",
            "  Dataframe Size: 4.25 GB\n",
            "time: 1min 22s (started: 2023-12-17 04:34:55 +00:00)\n"
          ]
        },
        {
          "output_type": "stream",
          "name": "stderr",
          "text": [
            "INFO:distributed.core:Event loop was unresponsive in Scheduler for 7.92s.  This is often caused by long-running GIL-holding functions or moving large chunks of data. This can cause timeouts and instability.\n"
          ]
        }
      ]
    },
    {
      "cell_type": "code",
      "source": [
        "# Dask\n",
        "start_time_dask = time.time()\n",
        "ddf_dask = dd.read_csv(file_path)\n",
        "end_time_dask = time.time()\n",
        "time_dask = end_time_dask - start_time_dask\n",
        "memory_dask = ddf_dask.memory_usage(deep=True).sum() / (1024.0 ** 3)\n",
        "size_dask = getsizeof(ddf_dask)\n",
        "\n",
        "# Display results\n",
        "print(\"\\nDask:\")\n",
        "print(f\"  Time: {time_dask:.4f} seconds\")\n",
        "print(f\"  Memory Usage: {memory_dask.compute():.2f} GB\")\n",
        "print(f\"  Dataframe Size: {size_dask / (1024.0 ** 3):.2f} GB\")"
      ],
      "metadata": {
        "colab": {
          "base_uri": "https://localhost:8080/"
        },
        "id": "It5Yf1ZPe4wN",
        "outputId": "4064e24f-6b42-45b7-eb44-6e791ce38cc4"
      },
      "execution_count": 16,
      "outputs": [
        {
          "output_type": "stream",
          "name": "stdout",
          "text": [
            "\n",
            "Dask:\n",
            "  Time: 0.0210 seconds\n",
            "  Memory Usage: 4.25 GB\n",
            "  Dataframe Size: 0.00 GB\n",
            "time: 1min 13s (started: 2023-12-17 04:36:34 +00:00)\n"
          ]
        }
      ]
    },
    {
      "cell_type": "code",
      "source": [
        "# Calculate speedup factors (Pandas vs Dask)\n",
        "speedup_factor_time = time_pandas / time_dask\n",
        "speedup_factor_memory = memory_pandas / memory_dask\n",
        "speedup_factor_size = size_pandas / size_dask\n",
        "\n",
        "# Display results\n",
        "print(\"\\nDask is approximately {:.2f} times faster than Pandas in terms of time.\".format(speedup_factor_time))\n",
        "print(\"Dask uses approximately {:.2f} times less memory than Pandas.\".format(speedup_factor_memory))\n",
        "print(\"Dask's dataframe size is {:.2f} times smaller than Pandas.\".format(speedup_factor_size))"
      ],
      "metadata": {
        "colab": {
          "base_uri": "https://localhost:8080/"
        },
        "id": "6kX1AXb7fCrm",
        "outputId": "678e37e3-4b9a-4bcd-f10c-e7e43aa11522"
      },
      "execution_count": 17,
      "outputs": [
        {
          "output_type": "stream",
          "name": "stdout",
          "text": [
            "\n",
            "Dask is approximately 3116.75 times faster than Pandas in terms of time.\n",
            "Dask uses approximately 1.00 times less memory than Pandas.\n",
            "Dask's dataframe size is 95057191.65 times smaller than Pandas.\n",
            "time: 1min 6s (started: 2023-12-17 04:38:10 +00:00)\n"
          ]
        }
      ]
    },
    {
      "cell_type": "markdown",
      "source": [
        "Dask is approximately **3116.75 times\n",
        "faster** than Pandas in terms of time !!\n",
        "\n"
      ],
      "metadata": {
        "id": "PG7xUoIpSAr5"
      }
    },
    {
      "cell_type": "markdown",
      "source": [
        "## Method 2 - Chunking\n",
        "\n",
        "Reading a large dataset in its entirety can be time-consuming. By loading data in smaller chunks, we can start processing and analyzing the data sooner, rather than waiting for the entire dataset to be loaded."
      ],
      "metadata": {
        "id": "MUum4i9_EGLC"
      }
    },
    {
      "cell_type": "code",
      "source": [
        "# Chunking\n",
        "start_time_chunking = time.time()\n",
        "\n",
        "# Set the chunk size for reading the CSV file\n",
        "chunk_size = 10000\n",
        "\n",
        "# Read the CSV file in chunks\n",
        "df_chunks = pd.read_csv(file_path, chunksize=chunk_size)\n",
        "\n",
        "# Initialize variables to store memory usage and size\n",
        "total_memory_usage = 0\n",
        "total_size = 0\n",
        "\n",
        "# Iterate through the chunks to perform data processing operations\n",
        "for chunk in df_chunks:\n",
        "    # Your data processing operations go here\n",
        "\n",
        "    # Calculate memory usage for the current chunk\n",
        "    chunk_memory_usage = chunk.memory_usage(deep=True).sum()\n",
        "\n",
        "    # Sum up memory usage and size for each chunk\n",
        "    total_memory_usage += chunk_memory_usage\n",
        "    total_size += getsizeof(chunk)\n",
        "\n",
        "end_time_chunking = time.time()\n",
        "\n",
        "# Calculate metrics for chunking\n",
        "time_chunking = end_time_chunking - start_time_chunking\n",
        "memory_chunking = total_memory_usage / (1024.0 ** 3)\n",
        "size_chunking = total_size\n",
        "\n",
        "# Display results for chunking\n",
        "print(\"\\nChunking:\")\n",
        "print(f\"  Time: {time_chunking:.4f} seconds\")\n",
        "print(f\"  Total Memory Usage: {memory_chunking:.2f} GB\")\n",
        "print(f\"  Total Dataframe Size: {size_chunking / (1024.0 ** 3):.2f} GB\")\n"
      ],
      "metadata": {
        "colab": {
          "base_uri": "https://localhost:8080/"
        },
        "id": "b9vS13nKN6dy",
        "outputId": "0398e505-a293-4026-95b8-2274244e8490"
      },
      "execution_count": 18,
      "outputs": [
        {
          "output_type": "stream",
          "name": "stdout",
          "text": [
            "\n",
            "Chunking:\n",
            "  Time: 76.7790 seconds\n",
            "  Total Memory Usage: 4.25 GB\n",
            "  Total Dataframe Size: 4.25 GB\n",
            "time: 1min 16s (started: 2023-12-17 04:39:30 +00:00)\n"
          ]
        }
      ]
    },
    {
      "cell_type": "code",
      "source": [
        "# Calculate speedup factors (Pandas_before chunking vs Pandas_after chunking)\n",
        "speedup_factor_time = time_pandas / time_chunking\n",
        "speedup_factor_memory = memory_pandas / memory_chunking\n",
        "speedup_factor_size = size_pandas / size_chunking\n",
        "\n",
        "# Display results\n",
        "print(\"\\nChunking is approximately {:.2f} times faster in terms of time.\".format(speedup_factor_time))\n",
        "print(\"Chunking uses approximately {:.2f} times less memory.\".format(speedup_factor_memory))\n",
        "print(\"Chunking's dataframe size is {:.2f} times smaller.\".format(speedup_factor_size))"
      ],
      "metadata": {
        "colab": {
          "base_uri": "https://localhost:8080/"
        },
        "id": "n9GrbWDogaEe",
        "outputId": "3c31cc8c-60ee-46c3-ae13-151380ee5266"
      },
      "execution_count": 19,
      "outputs": [
        {
          "output_type": "stream",
          "name": "stdout",
          "text": [
            "\n",
            "Chunking is approximately 0.72 times faster in terms of time.\n",
            "Chunking uses approximately 1.00 times less memory.\n",
            "Chunking's dataframe size is 1.00 times smaller.\n",
            "time: 4.17 ms (started: 2023-12-17 03:48:17 +00:00)\n"
          ]
        }
      ]
    },
    {
      "cell_type": "markdown",
      "source": [
        "The loading time with chunking here might appear larger due to the additional processing overhead associated with reading and processing data in chunks. Chunking involves reading the data in smaller portions (chunks), and for each chunk, there is additional processing overhead. This overhead includes reading the chunk from disk, performing any specified operations on the chunk, and then combining or aggregating the results.\n",
        "\n",
        "In contrast, loading the entire dataset at once without chunking might be more efficient for certain operations, especially if the dataset is not significantly larger than the available memory. In this case, the entire dataset can be read and processed in a more sequential and streamlined manner.\n",
        "\n",
        "It's important to note that the benefits of chunking are often more pronounced when dealing with datasets that are significantly larger than the available memory, as chunking allows us to work with data in a memory-efficient manner. In scenarios where the entire dataset easily fits into memory, chunking might not provide a substantial performance improvement and can even introduce some additional overhead."
      ],
      "metadata": {
        "id": "1uLNcjO1l1yt"
      }
    },
    {
      "cell_type": "markdown",
      "source": [
        "## Method 3 - Sampling"
      ],
      "metadata": {
        "id": "7JCjmPXNTgwe"
      }
    },
    {
      "cell_type": "code",
      "source": [
        "# Sample 70% of the dataset\n",
        "sampling_percentage = 0.7\n",
        "start_time_sampling = time.time()\n",
        "df_sampled = df_pandas.sample(frac=sampling_percentage, random_state=42)\n",
        "end_time_sampling = time.time()\n",
        "time_sampling = end_time_sampling - start_time_sampling\n",
        "memory_sampling = df_sampled.memory_usage(deep=True).sum() / (1024.0 ** 3)\n",
        "size_sampling = getsizeof(df_sampled)\n"
      ],
      "metadata": {
        "colab": {
          "base_uri": "https://localhost:8080/"
        },
        "id": "HttPXKu5tPxO",
        "outputId": "9e26b09f-642c-49d3-f4a7-d78faaae26f4"
      },
      "execution_count": 19,
      "outputs": [
        {
          "output_type": "stream",
          "name": "stderr",
          "text": [
            "INFO:distributed.core:Event loop was unresponsive in Scheduler for 13.28s.  This is often caused by long-running GIL-holding functions or moving large chunks of data. This can cause timeouts and instability.\n",
            "INFO:distributed.core:Event loop was unresponsive in Nanny for 14.87s.  This is often caused by long-running GIL-holding functions or moving large chunks of data. This can cause timeouts and instability.\n",
            "INFO:distributed.core:Event loop was unresponsive in Nanny for 14.87s.  This is often caused by long-running GIL-holding functions or moving large chunks of data. This can cause timeouts and instability.\n",
            "INFO:distributed.core:Event loop was unresponsive in Scheduler for 4.09s.  This is often caused by long-running GIL-holding functions or moving large chunks of data. This can cause timeouts and instability.\n"
          ]
        },
        {
          "output_type": "stream",
          "name": "stdout",
          "text": [
            "time: 28.5 s (started: 2023-12-17 04:41:08 +00:00)\n"
          ]
        },
        {
          "output_type": "stream",
          "name": "stderr",
          "text": [
            "INFO:distributed.core:Event loop was unresponsive in Nanny for 4.03s.  This is often caused by long-running GIL-holding functions or moving large chunks of data. This can cause timeouts and instability.\n",
            "INFO:distributed.core:Event loop was unresponsive in Scheduler for 4.03s.  This is often caused by long-running GIL-holding functions or moving large chunks of data. This can cause timeouts and instability.\n",
            "INFO:distributed.core:Event loop was unresponsive in Nanny for 4.03s.  This is often caused by long-running GIL-holding functions or moving large chunks of data. This can cause timeouts and instability.\n"
          ]
        }
      ]
    },
    {
      "cell_type": "code",
      "source": [
        "# Calculate speedup factors (Pandas_before sampling vs Pandas_after sampling)\n",
        "speedup_factor_time_sampling = time_pandas / time_sampling\n",
        "speedup_factor_memory_sampling = memory_pandas / memory_sampling\n",
        "speedup_factor_size_sampling = size_pandas/ size_sampling\n",
        "\n",
        "# Display results\n",
        "print(\"\\nComparison before and after sampling using Pandas:\")\n",
        "print(\"Before Sampling:\")\n",
        "print(f\"  Time: {time_pandas:.4f} seconds\")\n",
        "print(f\"  Memory Usage: {memory_pandas:.2f} GB\")\n",
        "print(f\"  Dataframe Size: {size_pandas / (1024.0 ** 3):.2f} GB\")\n",
        "\n",
        "print(f\"\\nAfter Sampling ({sampling_percentage * 100}%):\")\n",
        "print(f\"  Time: {time_sampling:.4f} seconds\")\n",
        "print(f\"  Memory Usage: {memory_sampling:.2f} GB\")\n",
        "print(f\"  Dataframe Size: {size_sampling / (1024.0 ** 3):.2f} GB\")\n",
        "\n",
        "print(\"\\nSpeedup Factors:\")\n",
        "print(f\"  Time: {speedup_factor_time_sampling:.2f} times faster\")\n",
        "print(f\"  Memory Usage: {speedup_factor_memory_sampling:.2f} times less\")\n",
        "print(f\"  Dataframe Size: {speedup_factor_size_sampling:.2f} times smaller\")"
      ],
      "metadata": {
        "colab": {
          "base_uri": "https://localhost:8080/"
        },
        "id": "QzatasIft3HN",
        "outputId": "aa4d42d1-3534-4c66-c8c2-f7eedf8a2da1"
      },
      "execution_count": 20,
      "outputs": [
        {
          "output_type": "stream",
          "name": "stdout",
          "text": [
            "\n",
            "Comparison before and after sampling using Pandas:\n",
            "Before Sampling:\n",
            "  Time: 65.5799 seconds\n",
            "  Memory Usage: 4.25 GB\n",
            "  Dataframe Size: 4.25 GB\n",
            "\n",
            "After Sampling (70.0%):\n",
            "  Time: 12.8338 seconds\n",
            "  Memory Usage: 3.03 GB\n",
            "  Dataframe Size: 3.03 GB\n",
            "\n",
            "Speedup Factors:\n",
            "  Time: 5.11 times faster\n",
            "  Memory Usage: 1.40 times less\n",
            "  Dataframe Size: 1.40 times smaller\n",
            "time: 10.6 ms (started: 2023-12-17 04:41:56 +00:00)\n"
          ]
        }
      ]
    },
    {
      "cell_type": "markdown",
      "source": [
        "After sampling using 70% of the dataset, times improve to around **5 times faster**."
      ],
      "metadata": {
        "id": "_imPhtZEzvvN"
      }
    },
    {
      "cell_type": "markdown",
      "source": [
        "## Method 4 - Load Less Data\n",
        "\n",
        "Only selected column will be loading and replaced the original dataframe"
      ],
      "metadata": {
        "id": "IPg0Zvykv95K"
      }
    },
    {
      "cell_type": "code",
      "source": [
        "df.head()"
      ],
      "metadata": {
        "colab": {
          "base_uri": "https://localhost:8080/",
          "height": 417
        },
        "id": "8KQGwmJsy12b",
        "outputId": "b71606df-a701-40e0-80be-c3ca8d8f04ae"
      },
      "execution_count": 21,
      "outputs": [
        {
          "output_type": "execute_result",
          "data": {
            "text/plain": [
              "   Batch_ID            Brew_Date  Beer_Style   SKU      Location  \\\n",
              "0   7870796  2020-01-01 00:00:19  Wheat Beer  Kegs    Whitefield   \n",
              "1   9810411  2020-01-01 00:00:31        Sour  Kegs    Whitefield   \n",
              "2   2623342  2020-01-01 00:00:40  Wheat Beer  Kegs   Malleswaram   \n",
              "3   8114651  2020-01-01 00:01:37         Ale  Kegs   Rajajinagar   \n",
              "4   4579587  2020-01-01 00:01:43       Stout  Cans  Marathahalli   \n",
              "\n",
              "   Fermentation_Time  Temperature  pH_Level   Gravity  Alcohol_Content  \\\n",
              "0                 16    24.204251  5.289845  1.039504         5.370842   \n",
              "1                 13    18.086763  5.275643  1.059819         5.096053   \n",
              "2                 12    15.539333  4.778016  1.037476         4.824737   \n",
              "3                 17    16.418489  5.345261  1.052431         5.509243   \n",
              "4                 18    19.144908  4.861854  1.054296         5.133625   \n",
              "\n",
              "   Bitterness  Color Ingredient_Ratio  Volume_Produced   Total_Sales  \\\n",
              "0          20      5      1:0.32:0.16             4666   2664.759345   \n",
              "1          36     14      1:0.39:0.24              832   9758.801062   \n",
              "2          30     10      1:0.35:0.16             2115  11721.087016   \n",
              "3          48     18      1:0.35:0.15             3173  12050.177463   \n",
              "4          57     13      1:0.46:0.11             4449   5515.077465   \n",
              "\n",
              "   Quality_Score  Brewhouse_Efficiency  Loss_During_Brewing  \\\n",
              "0       8.577016             89.195882             4.104988   \n",
              "1       7.420541             72.480915             2.676528   \n",
              "2       8.451365             86.322144             3.299894   \n",
              "3       9.671859             83.094940             2.136055   \n",
              "4       7.895334             88.625833             4.491724   \n",
              "\n",
              "   Loss_During_Fermentation  Loss_During_Bottling_Kegging  \n",
              "0                  3.235485                      4.663204  \n",
              "1                  4.246129                      2.044358  \n",
              "2                  3.109440                      3.033880  \n",
              "3                  4.634254                      1.489889  \n",
              "4                  2.183389                      2.990630  "
            ],
            "text/html": [
              "\n",
              "  <div id=\"df-1713be81-9fd1-4bde-9175-ef249257db8f\" class=\"colab-df-container\">\n",
              "    <div>\n",
              "<style scoped>\n",
              "    .dataframe tbody tr th:only-of-type {\n",
              "        vertical-align: middle;\n",
              "    }\n",
              "\n",
              "    .dataframe tbody tr th {\n",
              "        vertical-align: top;\n",
              "    }\n",
              "\n",
              "    .dataframe thead th {\n",
              "        text-align: right;\n",
              "    }\n",
              "</style>\n",
              "<table border=\"1\" class=\"dataframe\">\n",
              "  <thead>\n",
              "    <tr style=\"text-align: right;\">\n",
              "      <th></th>\n",
              "      <th>Batch_ID</th>\n",
              "      <th>Brew_Date</th>\n",
              "      <th>Beer_Style</th>\n",
              "      <th>SKU</th>\n",
              "      <th>Location</th>\n",
              "      <th>Fermentation_Time</th>\n",
              "      <th>Temperature</th>\n",
              "      <th>pH_Level</th>\n",
              "      <th>Gravity</th>\n",
              "      <th>Alcohol_Content</th>\n",
              "      <th>Bitterness</th>\n",
              "      <th>Color</th>\n",
              "      <th>Ingredient_Ratio</th>\n",
              "      <th>Volume_Produced</th>\n",
              "      <th>Total_Sales</th>\n",
              "      <th>Quality_Score</th>\n",
              "      <th>Brewhouse_Efficiency</th>\n",
              "      <th>Loss_During_Brewing</th>\n",
              "      <th>Loss_During_Fermentation</th>\n",
              "      <th>Loss_During_Bottling_Kegging</th>\n",
              "    </tr>\n",
              "  </thead>\n",
              "  <tbody>\n",
              "    <tr>\n",
              "      <th>0</th>\n",
              "      <td>7870796</td>\n",
              "      <td>2020-01-01 00:00:19</td>\n",
              "      <td>Wheat Beer</td>\n",
              "      <td>Kegs</td>\n",
              "      <td>Whitefield</td>\n",
              "      <td>16</td>\n",
              "      <td>24.204251</td>\n",
              "      <td>5.289845</td>\n",
              "      <td>1.039504</td>\n",
              "      <td>5.370842</td>\n",
              "      <td>20</td>\n",
              "      <td>5</td>\n",
              "      <td>1:0.32:0.16</td>\n",
              "      <td>4666</td>\n",
              "      <td>2664.759345</td>\n",
              "      <td>8.577016</td>\n",
              "      <td>89.195882</td>\n",
              "      <td>4.104988</td>\n",
              "      <td>3.235485</td>\n",
              "      <td>4.663204</td>\n",
              "    </tr>\n",
              "    <tr>\n",
              "      <th>1</th>\n",
              "      <td>9810411</td>\n",
              "      <td>2020-01-01 00:00:31</td>\n",
              "      <td>Sour</td>\n",
              "      <td>Kegs</td>\n",
              "      <td>Whitefield</td>\n",
              "      <td>13</td>\n",
              "      <td>18.086763</td>\n",
              "      <td>5.275643</td>\n",
              "      <td>1.059819</td>\n",
              "      <td>5.096053</td>\n",
              "      <td>36</td>\n",
              "      <td>14</td>\n",
              "      <td>1:0.39:0.24</td>\n",
              "      <td>832</td>\n",
              "      <td>9758.801062</td>\n",
              "      <td>7.420541</td>\n",
              "      <td>72.480915</td>\n",
              "      <td>2.676528</td>\n",
              "      <td>4.246129</td>\n",
              "      <td>2.044358</td>\n",
              "    </tr>\n",
              "    <tr>\n",
              "      <th>2</th>\n",
              "      <td>2623342</td>\n",
              "      <td>2020-01-01 00:00:40</td>\n",
              "      <td>Wheat Beer</td>\n",
              "      <td>Kegs</td>\n",
              "      <td>Malleswaram</td>\n",
              "      <td>12</td>\n",
              "      <td>15.539333</td>\n",
              "      <td>4.778016</td>\n",
              "      <td>1.037476</td>\n",
              "      <td>4.824737</td>\n",
              "      <td>30</td>\n",
              "      <td>10</td>\n",
              "      <td>1:0.35:0.16</td>\n",
              "      <td>2115</td>\n",
              "      <td>11721.087016</td>\n",
              "      <td>8.451365</td>\n",
              "      <td>86.322144</td>\n",
              "      <td>3.299894</td>\n",
              "      <td>3.109440</td>\n",
              "      <td>3.033880</td>\n",
              "    </tr>\n",
              "    <tr>\n",
              "      <th>3</th>\n",
              "      <td>8114651</td>\n",
              "      <td>2020-01-01 00:01:37</td>\n",
              "      <td>Ale</td>\n",
              "      <td>Kegs</td>\n",
              "      <td>Rajajinagar</td>\n",
              "      <td>17</td>\n",
              "      <td>16.418489</td>\n",
              "      <td>5.345261</td>\n",
              "      <td>1.052431</td>\n",
              "      <td>5.509243</td>\n",
              "      <td>48</td>\n",
              "      <td>18</td>\n",
              "      <td>1:0.35:0.15</td>\n",
              "      <td>3173</td>\n",
              "      <td>12050.177463</td>\n",
              "      <td>9.671859</td>\n",
              "      <td>83.094940</td>\n",
              "      <td>2.136055</td>\n",
              "      <td>4.634254</td>\n",
              "      <td>1.489889</td>\n",
              "    </tr>\n",
              "    <tr>\n",
              "      <th>4</th>\n",
              "      <td>4579587</td>\n",
              "      <td>2020-01-01 00:01:43</td>\n",
              "      <td>Stout</td>\n",
              "      <td>Cans</td>\n",
              "      <td>Marathahalli</td>\n",
              "      <td>18</td>\n",
              "      <td>19.144908</td>\n",
              "      <td>4.861854</td>\n",
              "      <td>1.054296</td>\n",
              "      <td>5.133625</td>\n",
              "      <td>57</td>\n",
              "      <td>13</td>\n",
              "      <td>1:0.46:0.11</td>\n",
              "      <td>4449</td>\n",
              "      <td>5515.077465</td>\n",
              "      <td>7.895334</td>\n",
              "      <td>88.625833</td>\n",
              "      <td>4.491724</td>\n",
              "      <td>2.183389</td>\n",
              "      <td>2.990630</td>\n",
              "    </tr>\n",
              "  </tbody>\n",
              "</table>\n",
              "</div>\n",
              "    <div class=\"colab-df-buttons\">\n",
              "\n",
              "  <div class=\"colab-df-container\">\n",
              "    <button class=\"colab-df-convert\" onclick=\"convertToInteractive('df-1713be81-9fd1-4bde-9175-ef249257db8f')\"\n",
              "            title=\"Convert this dataframe to an interactive table.\"\n",
              "            style=\"display:none;\">\n",
              "\n",
              "  <svg xmlns=\"http://www.w3.org/2000/svg\" height=\"24px\" viewBox=\"0 -960 960 960\">\n",
              "    <path d=\"M120-120v-720h720v720H120Zm60-500h600v-160H180v160Zm220 220h160v-160H400v160Zm0 220h160v-160H400v160ZM180-400h160v-160H180v160Zm440 0h160v-160H620v160ZM180-180h160v-160H180v160Zm440 0h160v-160H620v160Z\"/>\n",
              "  </svg>\n",
              "    </button>\n",
              "\n",
              "  <style>\n",
              "    .colab-df-container {\n",
              "      display:flex;\n",
              "      gap: 12px;\n",
              "    }\n",
              "\n",
              "    .colab-df-convert {\n",
              "      background-color: #E8F0FE;\n",
              "      border: none;\n",
              "      border-radius: 50%;\n",
              "      cursor: pointer;\n",
              "      display: none;\n",
              "      fill: #1967D2;\n",
              "      height: 32px;\n",
              "      padding: 0 0 0 0;\n",
              "      width: 32px;\n",
              "    }\n",
              "\n",
              "    .colab-df-convert:hover {\n",
              "      background-color: #E2EBFA;\n",
              "      box-shadow: 0px 1px 2px rgba(60, 64, 67, 0.3), 0px 1px 3px 1px rgba(60, 64, 67, 0.15);\n",
              "      fill: #174EA6;\n",
              "    }\n",
              "\n",
              "    .colab-df-buttons div {\n",
              "      margin-bottom: 4px;\n",
              "    }\n",
              "\n",
              "    [theme=dark] .colab-df-convert {\n",
              "      background-color: #3B4455;\n",
              "      fill: #D2E3FC;\n",
              "    }\n",
              "\n",
              "    [theme=dark] .colab-df-convert:hover {\n",
              "      background-color: #434B5C;\n",
              "      box-shadow: 0px 1px 3px 1px rgba(0, 0, 0, 0.15);\n",
              "      filter: drop-shadow(0px 1px 2px rgba(0, 0, 0, 0.3));\n",
              "      fill: #FFFFFF;\n",
              "    }\n",
              "  </style>\n",
              "\n",
              "    <script>\n",
              "      const buttonEl =\n",
              "        document.querySelector('#df-1713be81-9fd1-4bde-9175-ef249257db8f button.colab-df-convert');\n",
              "      buttonEl.style.display =\n",
              "        google.colab.kernel.accessAllowed ? 'block' : 'none';\n",
              "\n",
              "      async function convertToInteractive(key) {\n",
              "        const element = document.querySelector('#df-1713be81-9fd1-4bde-9175-ef249257db8f');\n",
              "        const dataTable =\n",
              "          await google.colab.kernel.invokeFunction('convertToInteractive',\n",
              "                                                    [key], {});\n",
              "        if (!dataTable) return;\n",
              "\n",
              "        const docLinkHtml = 'Like what you see? Visit the ' +\n",
              "          '<a target=\"_blank\" href=https://colab.research.google.com/notebooks/data_table.ipynb>data table notebook</a>'\n",
              "          + ' to learn more about interactive tables.';\n",
              "        element.innerHTML = '';\n",
              "        dataTable['output_type'] = 'display_data';\n",
              "        await google.colab.output.renderOutput(dataTable, element);\n",
              "        const docLink = document.createElement('div');\n",
              "        docLink.innerHTML = docLinkHtml;\n",
              "        element.appendChild(docLink);\n",
              "      }\n",
              "    </script>\n",
              "  </div>\n",
              "\n",
              "\n",
              "<div id=\"df-f23112e3-ea36-48e3-8488-b3680782dfb1\">\n",
              "  <button class=\"colab-df-quickchart\" onclick=\"quickchart('df-f23112e3-ea36-48e3-8488-b3680782dfb1')\"\n",
              "            title=\"Suggest charts\"\n",
              "            style=\"display:none;\">\n",
              "\n",
              "<svg xmlns=\"http://www.w3.org/2000/svg\" height=\"24px\"viewBox=\"0 0 24 24\"\n",
              "     width=\"24px\">\n",
              "    <g>\n",
              "        <path d=\"M19 3H5c-1.1 0-2 .9-2 2v14c0 1.1.9 2 2 2h14c1.1 0 2-.9 2-2V5c0-1.1-.9-2-2-2zM9 17H7v-7h2v7zm4 0h-2V7h2v10zm4 0h-2v-4h2v4z\"/>\n",
              "    </g>\n",
              "</svg>\n",
              "  </button>\n",
              "\n",
              "<style>\n",
              "  .colab-df-quickchart {\n",
              "      --bg-color: #E8F0FE;\n",
              "      --fill-color: #1967D2;\n",
              "      --hover-bg-color: #E2EBFA;\n",
              "      --hover-fill-color: #174EA6;\n",
              "      --disabled-fill-color: #AAA;\n",
              "      --disabled-bg-color: #DDD;\n",
              "  }\n",
              "\n",
              "  [theme=dark] .colab-df-quickchart {\n",
              "      --bg-color: #3B4455;\n",
              "      --fill-color: #D2E3FC;\n",
              "      --hover-bg-color: #434B5C;\n",
              "      --hover-fill-color: #FFFFFF;\n",
              "      --disabled-bg-color: #3B4455;\n",
              "      --disabled-fill-color: #666;\n",
              "  }\n",
              "\n",
              "  .colab-df-quickchart {\n",
              "    background-color: var(--bg-color);\n",
              "    border: none;\n",
              "    border-radius: 50%;\n",
              "    cursor: pointer;\n",
              "    display: none;\n",
              "    fill: var(--fill-color);\n",
              "    height: 32px;\n",
              "    padding: 0;\n",
              "    width: 32px;\n",
              "  }\n",
              "\n",
              "  .colab-df-quickchart:hover {\n",
              "    background-color: var(--hover-bg-color);\n",
              "    box-shadow: 0 1px 2px rgba(60, 64, 67, 0.3), 0 1px 3px 1px rgba(60, 64, 67, 0.15);\n",
              "    fill: var(--button-hover-fill-color);\n",
              "  }\n",
              "\n",
              "  .colab-df-quickchart-complete:disabled,\n",
              "  .colab-df-quickchart-complete:disabled:hover {\n",
              "    background-color: var(--disabled-bg-color);\n",
              "    fill: var(--disabled-fill-color);\n",
              "    box-shadow: none;\n",
              "  }\n",
              "\n",
              "  .colab-df-spinner {\n",
              "    border: 2px solid var(--fill-color);\n",
              "    border-color: transparent;\n",
              "    border-bottom-color: var(--fill-color);\n",
              "    animation:\n",
              "      spin 1s steps(1) infinite;\n",
              "  }\n",
              "\n",
              "  @keyframes spin {\n",
              "    0% {\n",
              "      border-color: transparent;\n",
              "      border-bottom-color: var(--fill-color);\n",
              "      border-left-color: var(--fill-color);\n",
              "    }\n",
              "    20% {\n",
              "      border-color: transparent;\n",
              "      border-left-color: var(--fill-color);\n",
              "      border-top-color: var(--fill-color);\n",
              "    }\n",
              "    30% {\n",
              "      border-color: transparent;\n",
              "      border-left-color: var(--fill-color);\n",
              "      border-top-color: var(--fill-color);\n",
              "      border-right-color: var(--fill-color);\n",
              "    }\n",
              "    40% {\n",
              "      border-color: transparent;\n",
              "      border-right-color: var(--fill-color);\n",
              "      border-top-color: var(--fill-color);\n",
              "    }\n",
              "    60% {\n",
              "      border-color: transparent;\n",
              "      border-right-color: var(--fill-color);\n",
              "    }\n",
              "    80% {\n",
              "      border-color: transparent;\n",
              "      border-right-color: var(--fill-color);\n",
              "      border-bottom-color: var(--fill-color);\n",
              "    }\n",
              "    90% {\n",
              "      border-color: transparent;\n",
              "      border-bottom-color: var(--fill-color);\n",
              "    }\n",
              "  }\n",
              "</style>\n",
              "\n",
              "  <script>\n",
              "    async function quickchart(key) {\n",
              "      const quickchartButtonEl =\n",
              "        document.querySelector('#' + key + ' button');\n",
              "      quickchartButtonEl.disabled = true;  // To prevent multiple clicks.\n",
              "      quickchartButtonEl.classList.add('colab-df-spinner');\n",
              "      try {\n",
              "        const charts = await google.colab.kernel.invokeFunction(\n",
              "            'suggestCharts', [key], {});\n",
              "      } catch (error) {\n",
              "        console.error('Error during call to suggestCharts:', error);\n",
              "      }\n",
              "      quickchartButtonEl.classList.remove('colab-df-spinner');\n",
              "      quickchartButtonEl.classList.add('colab-df-quickchart-complete');\n",
              "    }\n",
              "    (() => {\n",
              "      let quickchartButtonEl =\n",
              "        document.querySelector('#df-f23112e3-ea36-48e3-8488-b3680782dfb1 button');\n",
              "      quickchartButtonEl.style.display =\n",
              "        google.colab.kernel.accessAllowed ? 'block' : 'none';\n",
              "    })();\n",
              "  </script>\n",
              "</div>\n",
              "    </div>\n",
              "  </div>\n"
            ]
          },
          "metadata": {},
          "execution_count": 21
        },
        {
          "output_type": "stream",
          "name": "stdout",
          "text": [
            "time: 21.4 ms (started: 2023-12-17 04:42:12 +00:00)\n"
          ]
        }
      ]
    },
    {
      "cell_type": "code",
      "source": [
        "# DROP 4 columns\n",
        "# Loss_During_Brewing, Loss_During_Fermentation, Loss_During_Bottling_Kegging, Ingredient_Ratio\n",
        "\n",
        "col_list = [\"Batch_ID\", \"Brew_Date\", \"Beer_Style\",\"SKU\",\"Location\",\"Fermentation_Time\",\"Temperature\",\"pH_Level\",\"Gravity\",\"Alcohol_Content\",\\\n",
        "            \"Bitterness\",\"Color\",\"Volume_Produced\",\"Total_Sales\",\"Quality_Score\",\"Brewhouse_Efficiency\"]"
      ],
      "metadata": {
        "id": "-x7_bbhsw8Ij",
        "colab": {
          "base_uri": "https://localhost:8080/"
        },
        "outputId": "a5a0a77f-fa68-450b-d039-0b50922a063d"
      },
      "execution_count": 22,
      "outputs": [
        {
          "output_type": "stream",
          "name": "stdout",
          "text": [
            "time: 730 µs (started: 2023-12-17 04:42:21 +00:00)\n"
          ]
        }
      ]
    },
    {
      "cell_type": "code",
      "source": [
        "# Load Less Data\n",
        "start_time_loadless = time.time()\n",
        "df_loadless = pd.read_csv(file_path, usecols=col_list)\n",
        "end_time_loadless = time.time()\n",
        "time_loadless = end_time_loadless - start_time_loadless\n",
        "memory_loadless = df_loadless.memory_usage(deep=True).sum() / (1024.0 ** 3)\n",
        "size_loadless = getsizeof(df_loadless)\n"
      ],
      "metadata": {
        "colab": {
          "base_uri": "https://localhost:8080/"
        },
        "id": "8C5Z8JSm5xIb",
        "outputId": "dadf29f3-ed5d-4228-d00d-690da3ebe250"
      },
      "execution_count": 23,
      "outputs": [
        {
          "output_type": "stream",
          "name": "stderr",
          "text": [
            "INFO:distributed.core:Event loop was unresponsive in Nanny for 3.90s.  This is often caused by long-running GIL-holding functions or moving large chunks of data. This can cause timeouts and instability.\n"
          ]
        },
        {
          "output_type": "stream",
          "name": "stdout",
          "text": [
            "time: 1min 9s (started: 2023-12-17 04:42:28 +00:00)\n"
          ]
        },
        {
          "output_type": "stream",
          "name": "stderr",
          "text": [
            "INFO:distributed.core:Event loop was unresponsive in Scheduler for 9.05s.  This is often caused by long-running GIL-holding functions or moving large chunks of data. This can cause timeouts and instability.\n",
            "INFO:distributed.core:Event loop was unresponsive in Nanny for 9.05s.  This is often caused by long-running GIL-holding functions or moving large chunks of data. This can cause timeouts and instability.\n"
          ]
        }
      ]
    },
    {
      "cell_type": "code",
      "source": [
        "# Calculate speedup factors (Pandas_before load less data vs Pandas_after load less data)\n",
        "speedup_factor_time_loadless = time_pandas / time_loadless\n",
        "speedup_factor_memory_loadless = memory_pandas / memory_loadless\n",
        "speedup_factor_size_loadless = size_pandas/ size_loadless\n",
        "\n",
        "# Display results\n",
        "print(\"\\nComparison before and after Load Less Data(Less 4 columns) using Pandas:\")\n",
        "print(\"Before Load Less Data:\")\n",
        "print(f\"  Time: {time_pandas:.4f} seconds\")\n",
        "print(f\"  Memory Usage: {memory_pandas:.2f} GB\")\n",
        "print(f\"  Dataframe Size: {size_pandas / (1024.0 ** 3):.2f} GB\")\n",
        "\n",
        "print(f\"\\nAfter Load Less Data (Less 4 columns):\")\n",
        "print(f\"  Time: {time_loadless:.4f} seconds\")\n",
        "print(f\"  Memory Usage: {memory_loadless:.2f} GB\")\n",
        "print(f\"  Dataframe Size: {size_loadless / (1024.0 ** 3):.2f} GB\")\n",
        "\n",
        "print(\"\\nSpeedup Factors:\")\n",
        "print(f\"  Time: {speedup_factor_time_loadless:.2f} times faster\")\n",
        "print(f\"  Memory Usage: {speedup_factor_memory_loadless:.2f} times less\")\n",
        "print(f\"  Dataframe Size: {speedup_factor_size_loadless:.2f} times smaller\")"
      ],
      "metadata": {
        "colab": {
          "base_uri": "https://localhost:8080/"
        },
        "id": "v6r9h1Cu6X9F",
        "outputId": "7cd7bc6b-759a-4d5a-ee6c-678cea409049"
      },
      "execution_count": 24,
      "outputs": [
        {
          "output_type": "stream",
          "name": "stdout",
          "text": [
            "\n",
            "Comparison before and after Load Less Data(Less 4 columns) using Pandas:\n",
            "Before Load Less Data:\n",
            "  Time: 65.5799 seconds\n",
            "  Memory Usage: 4.25 GB\n",
            "  Dataframe Size: 4.25 GB\n",
            "\n",
            "After Load Less Data (Less 4 columns):\n",
            "  Time: 54.6219 seconds\n",
            "  Memory Usage: 3.39 GB\n",
            "  Dataframe Size: 3.39 GB\n",
            "\n",
            "Speedup Factors:\n",
            "  Time: 1.20 times faster\n",
            "  Memory Usage: 1.25 times less\n",
            "  Dataframe Size: 1.25 times smaller\n",
            "time: 5.22 ms (started: 2023-12-17 04:43:47 +00:00)\n"
          ]
        }
      ]
    },
    {
      "cell_type": "code",
      "source": [
        "df_loadless.info()"
      ],
      "metadata": {
        "id": "1Eo3UPkcZC9z",
        "colab": {
          "base_uri": "https://localhost:8080/"
        },
        "outputId": "7a01f702-cd20-4237-8510-a04ee9dc21fd"
      },
      "execution_count": 25,
      "outputs": [
        {
          "output_type": "stream",
          "name": "stdout",
          "text": [
            "<class 'pandas.core.frame.DataFrame'>\n",
            "RangeIndex: 10000000 entries, 0 to 9999999\n",
            "Data columns (total 16 columns):\n",
            " #   Column                Dtype  \n",
            "---  ------                -----  \n",
            " 0   Batch_ID              int64  \n",
            " 1   Brew_Date             object \n",
            " 2   Beer_Style            object \n",
            " 3   SKU                   object \n",
            " 4   Location              object \n",
            " 5   Fermentation_Time     int64  \n",
            " 6   Temperature           float64\n",
            " 7   pH_Level              float64\n",
            " 8   Gravity               float64\n",
            " 9   Alcohol_Content       float64\n",
            " 10  Bitterness            int64  \n",
            " 11  Color                 int64  \n",
            " 12  Volume_Produced       int64  \n",
            " 13  Total_Sales           float64\n",
            " 14  Quality_Score         float64\n",
            " 15  Brewhouse_Efficiency  float64\n",
            "dtypes: float64(7), int64(5), object(4)\n",
            "memory usage: 1.2+ GB\n",
            "time: 27.2 ms (started: 2023-12-17 04:43:57 +00:00)\n"
          ]
        }
      ]
    },
    {
      "cell_type": "code",
      "source": [
        "required_size = getsizeof(df_loadless)/(1024.0**3)\n",
        "memory_reduced = initial_size - required_size\n",
        "\n",
        "print('Intial Dataframe size: %2.2f GB'%initial_size)\n",
        "print('Dataframe size after reduced column: %2.2f GB'%required_size)\n",
        "print (\"Memory Reduced : %2.2f GB\" %memory_reduced)\n",
        "print (\"Decreased by : {:.1f}%\".format(100*(memory_reduced/initial_size)))"
      ],
      "metadata": {
        "colab": {
          "base_uri": "https://localhost:8080/"
        },
        "id": "cDnlZTZa91cC",
        "outputId": "09822907-d163-44f7-a5fe-effe06713580"
      },
      "execution_count": 26,
      "outputs": [
        {
          "output_type": "stream",
          "name": "stderr",
          "text": [
            "INFO:distributed.core:Event loop was unresponsive in Nanny for 3.10s.  This is often caused by long-running GIL-holding functions or moving large chunks of data. This can cause timeouts and instability.\n",
            "INFO:distributed.core:Event loop was unresponsive in Scheduler for 3.10s.  This is often caused by long-running GIL-holding functions or moving large chunks of data. This can cause timeouts and instability.\n",
            "INFO:distributed.core:Event loop was unresponsive in Nanny for 3.11s.  This is often caused by long-running GIL-holding functions or moving large chunks of data. This can cause timeouts and instability.\n"
          ]
        },
        {
          "output_type": "stream",
          "name": "stdout",
          "text": [
            "Intial Dataframe size: 4.25 GB\n",
            "Dataframe size after reduced column: 3.39 GB\n",
            "Memory Reduced : 0.86 GB\n",
            "Decreased by : 20.2%\n",
            "time: 5.52 s (started: 2023-12-17 04:44:16 +00:00)\n"
          ]
        }
      ]
    },
    {
      "cell_type": "markdown",
      "source": [
        "Loading only the columns of interest reduced the memory utilizations\n",
        "- By reducing 4 columns, able to reduced the memory 0.86  GB and occupying approximately 3.39GB of space instead of 4.25GB before.\n",
        "- Reduced 20% from original memory\n",
        "- Loading lesser column will reducre more memore utilization.\n"
      ],
      "metadata": {
        "id": "jxoVXYLE0-ie"
      }
    },
    {
      "cell_type": "markdown",
      "source": [
        "## Method 5 - Optimize Data Types\n",
        "\n",
        "Shrink numerical columns with smaller dtypes\n",
        "\n",
        "Integer\n",
        "- int8 can store integers from -128 to 127.\n",
        "- int16 can store integers from -32768 to 32767.\n",
        "- int 32 can store integers from -2,147,483,648 to +2,147,483,647\n",
        "- int64 can store integers from -9223372036854775808 to 9223372036854775807.\n",
        "\n",
        "Float\n",
        "- float16 --> 16bit: 0.1235\n",
        "- float32 --> 32bit: 0.12345679\n",
        "- float64 --> 64bit: 0.12345678912121212\n",
        "\n",
        "Object\n",
        "- Category"
      ],
      "metadata": {
        "id": "2uzdBsR2rFW8"
      }
    },
    {
      "cell_type": "markdown",
      "source": [
        "### Object / String\n",
        "\n",
        "- Convert an 'object' data type to \"category\" type\n",
        "- Convert string to datetime"
      ],
      "metadata": {
        "id": "T8GyQyHx0Jvb"
      }
    },
    {
      "cell_type": "code",
      "source": [
        "# Convert string to datetime64[ns]\n",
        "df['Brew_Date'] = pd.to_datetime(df['Brew_Date'])\n",
        "\n",
        "time_size = getsizeof(df)/(1024.0**3)\n",
        "memory_reduced2 = initial_size-time_size\n",
        "\n",
        "print (\"Initial Dataframe Size : %2.2f GB\" %initial_size)\n",
        "print (\"Memory after optimize datetime : %2.2f GB\" %time_size)\n",
        "print (\"Memory Reduced : %2.2f GB\" %memory_reduced2)\n",
        "print (\"Decreased by : {:.1f}%\".format(100*(memory_reduced2/initial_size)))"
      ],
      "metadata": {
        "colab": {
          "base_uri": "https://localhost:8080/"
        },
        "id": "rhqtljkT8I2S",
        "outputId": "b233a682-c03c-4593-bc31-69ed87530cc8"
      },
      "execution_count": 27,
      "outputs": [
        {
          "output_type": "stream",
          "name": "stdout",
          "text": [
            "Initial Dataframe Size : 4.25 GB\n",
            "Memory after optimize datetime : 3.62 GB\n",
            "Memory Reduced : 0.63 GB\n",
            "Decreased by : 14.9%\n",
            "time: 10.5 s (started: 2023-12-17 04:44:32 +00:00)\n"
          ]
        },
        {
          "output_type": "stream",
          "name": "stderr",
          "text": [
            "INFO:distributed.core:Event loop was unresponsive in Scheduler for 3.32s.  This is often caused by long-running GIL-holding functions or moving large chunks of data. This can cause timeouts and instability.\n",
            "INFO:distributed.core:Event loop was unresponsive in Nanny for 3.33s.  This is often caused by long-running GIL-holding functions or moving large chunks of data. This can cause timeouts and instability.\n",
            "INFO:distributed.core:Event loop was unresponsive in Nanny for 3.33s.  This is often caused by long-running GIL-holding functions or moving large chunks of data. This can cause timeouts and instability.\n"
          ]
        }
      ]
    },
    {
      "cell_type": "code",
      "source": [
        "# Convert object to category\n",
        "df['Batch_ID'] = df['Batch_ID'].astype('category')\n",
        "df['Beer_Style'] = df['Beer_Style'].astype('category')\n",
        "df['SKU'] = df['SKU'].astype('category')\n",
        "df['Location'] = df['Location'].astype('category')\n",
        "\n",
        "object_size=getsizeof(df)/(1024.0**3)\n",
        "memory_reduced3=time_size-object_size\n",
        "\n",
        "print (\"Memory after optimize object %2.2f GB\" %object_size)\n",
        "print (\"Memore Reduced : %2.2f GB\" %memory_reduced3)\n",
        "print (\"Decreased by : {:.1f}%\".format(100*(memory_reduced3/time_size)))"
      ],
      "metadata": {
        "colab": {
          "base_uri": "https://localhost:8080/"
        },
        "id": "yvLZVocx7s2a",
        "outputId": "4b1559e2-c565-47a0-96f3-f106f0591657"
      },
      "execution_count": 28,
      "outputs": [
        {
          "output_type": "stream",
          "name": "stdout",
          "text": [
            "Memory after optimize object 2.14 GB\n",
            "Memore Reduced : 1.47 GB\n",
            "Decreased by : 40.7%\n",
            "time: 17.2 s (started: 2023-12-17 04:45:03 +00:00)\n"
          ]
        }
      ]
    },
    {
      "cell_type": "code",
      "source": [
        "df.dtypes"
      ],
      "metadata": {
        "colab": {
          "base_uri": "https://localhost:8080/"
        },
        "id": "2OUm6cMZ9DGy",
        "outputId": "6aca7622-6360-4d6f-ce17-ad27ab256855"
      },
      "execution_count": 29,
      "outputs": [
        {
          "output_type": "execute_result",
          "data": {
            "text/plain": [
              "Batch_ID                              category\n",
              "Brew_Date                       datetime64[ns]\n",
              "Beer_Style                            category\n",
              "SKU                                   category\n",
              "Location                              category\n",
              "Fermentation_Time                        int64\n",
              "Temperature                            float64\n",
              "pH_Level                               float64\n",
              "Gravity                                float64\n",
              "Alcohol_Content                        float64\n",
              "Bitterness                               int64\n",
              "Color                                    int64\n",
              "Ingredient_Ratio                        object\n",
              "Volume_Produced                          int64\n",
              "Total_Sales                            float64\n",
              "Quality_Score                          float64\n",
              "Brewhouse_Efficiency                   float64\n",
              "Loss_During_Brewing                    float64\n",
              "Loss_During_Fermentation               float64\n",
              "Loss_During_Bottling_Kegging           float64\n",
              "dtype: object"
            ]
          },
          "metadata": {},
          "execution_count": 29
        },
        {
          "output_type": "stream",
          "name": "stdout",
          "text": [
            "time: 6.33 ms (started: 2023-12-17 04:45:30 +00:00)\n"
          ]
        }
      ]
    },
    {
      "cell_type": "code",
      "source": [
        "Total_object_reduction = initial_size-object_size\n",
        "\n",
        "print (\"Total Memory reduced by converting object to category : %2.2f GB\" %Total_object_reduction)\n",
        "print (\"Decreased by : {:.1f}%\".format(100*(Total_object_reduction/initial_size)))"
      ],
      "metadata": {
        "colab": {
          "base_uri": "https://localhost:8080/"
        },
        "id": "mwR3dT-fAGRY",
        "outputId": "55e31bb2-02f5-479f-edf0-37f23e718ad8"
      },
      "execution_count": 30,
      "outputs": [
        {
          "output_type": "stream",
          "name": "stdout",
          "text": [
            "Total Memory reduced by converting object to category : 2.11 GB\n",
            "Decreased by : 49.6%\n",
            "time: 2.69 ms (started: 2023-12-17 04:51:41 +00:00)\n"
          ]
        }
      ]
    },
    {
      "cell_type": "markdown",
      "source": [
        "### Integer"
      ],
      "metadata": {
        "id": "6CZgBual0FRf"
      }
    },
    {
      "cell_type": "code",
      "source": [
        "for col in df.columns:\n",
        "  col_type=df[col].dtype\n",
        "  if str(col_type)[:3] == 'int':\n",
        "    col_min=df[col].min()\n",
        "    col_max=df[col].max()\n",
        "    if col_min > np.iinfo(np.int8).min and col_max < np.iinfo(np.int8).max:\n",
        "      df[col]=df[col].astype(np.int8)\n",
        "    elif col_min > np.iinfo(np.int16).min and col_max < np.iinfo(np.int16).max:\n",
        "      df[col]=df[col].astype(np.int16)\n",
        "    elif col_min > np.iinfo(np.int32).min and col_max < np.iinfo(np.int32).max:\n",
        "      df[col]=df[col].astype(np.int32)\n",
        "    else:\n",
        "      df[col]=df[col].astype(np.int64)\n",
        "\n",
        "df.info()"
      ],
      "metadata": {
        "colab": {
          "base_uri": "https://localhost:8080/"
        },
        "id": "kHVNoeOm2VN0",
        "outputId": "9e324b79-a839-441a-d824-ea069efed1e9"
      },
      "execution_count": 31,
      "outputs": [
        {
          "output_type": "stream",
          "name": "stdout",
          "text": [
            "<class 'pandas.core.frame.DataFrame'>\n",
            "RangeIndex: 10000000 entries, 0 to 9999999\n",
            "Data columns (total 20 columns):\n",
            " #   Column                        Dtype         \n",
            "---  ------                        -----         \n",
            " 0   Batch_ID                      category      \n",
            " 1   Brew_Date                     datetime64[ns]\n",
            " 2   Beer_Style                    category      \n",
            " 3   SKU                           category      \n",
            " 4   Location                      category      \n",
            " 5   Fermentation_Time             int8          \n",
            " 6   Temperature                   float64       \n",
            " 7   pH_Level                      float64       \n",
            " 8   Gravity                       float64       \n",
            " 9   Alcohol_Content               float64       \n",
            " 10  Bitterness                    int8          \n",
            " 11  Color                         int8          \n",
            " 12  Ingredient_Ratio              object        \n",
            " 13  Volume_Produced               int16         \n",
            " 14  Total_Sales                   float64       \n",
            " 15  Quality_Score                 float64       \n",
            " 16  Brewhouse_Efficiency          float64       \n",
            " 17  Loss_During_Brewing           float64       \n",
            " 18  Loss_During_Fermentation      float64       \n",
            " 19  Loss_During_Bottling_Kegging  float64       \n",
            "dtypes: category(4), datetime64[ns](1), float64(10), int16(1), int8(3), object(1)\n",
            "memory usage: 1.3+ GB\n",
            "time: 761 ms (started: 2023-12-17 04:51:56 +00:00)\n"
          ]
        }
      ]
    },
    {
      "cell_type": "code",
      "source": [
        "int_size=getsizeof(df)/(1024.0**3)\n",
        "memory_reduced4=object_size-int_size\n",
        "print (\"Memory after optimize integer %2.2f GB\" %int_size)\n",
        "print (\"Memory Reduced : %2.2f GB\" %memory_reduced4)\n",
        "print (\"Decreased by : {:.1f}%\".format(100*(memory_reduced4/object_size)))"
      ],
      "metadata": {
        "colab": {
          "base_uri": "https://localhost:8080/"
        },
        "id": "fK3tsh2-0KIS",
        "outputId": "691d017d-07ac-4ef5-8f60-244f8ad35f9a"
      },
      "execution_count": 32,
      "outputs": [
        {
          "output_type": "stream",
          "name": "stdout",
          "text": [
            "Memory after optimize integer 1.89 GB\n",
            "Memory Reduced : 0.25 GB\n",
            "Decreased by : 11.7%\n",
            "time: 1.2 s (started: 2023-12-17 04:52:13 +00:00)\n"
          ]
        }
      ]
    },
    {
      "cell_type": "markdown",
      "source": [
        "### Float"
      ],
      "metadata": {
        "id": "nK-bT2SO0IJT"
      }
    },
    {
      "cell_type": "code",
      "source": [
        "for col in df.columns:\n",
        "  col_type=df[col].dtype\n",
        "  if str(col_type)[:5] == 'float':\n",
        "    col_min=df[col].min()\n",
        "    col_max=df[col].max()\n",
        "    if col_min > np.finfo(np.float16).min and col_max < np.finfo(np.float16).max:\n",
        "      df[col]=df[col].astype(np.float16)\n",
        "    elif col_min > np.finfo(np.float32).min and col_max < np.finfo(np.float32).max:\n",
        "      df[col]=df[col].astype(np.float32)\n",
        "    else:\n",
        "      df[col]=df[col].astype(np.float64)\n",
        "\n",
        "df.info()"
      ],
      "metadata": {
        "colab": {
          "base_uri": "https://localhost:8080/"
        },
        "id": "JT-JDZYW0JcL",
        "outputId": "14179c4d-25f2-4dca-dfa1-b390923223ee"
      },
      "execution_count": 33,
      "outputs": [
        {
          "output_type": "stream",
          "name": "stdout",
          "text": [
            "<class 'pandas.core.frame.DataFrame'>\n",
            "RangeIndex: 10000000 entries, 0 to 9999999\n",
            "Data columns (total 20 columns):\n",
            " #   Column                        Dtype         \n",
            "---  ------                        -----         \n",
            " 0   Batch_ID                      category      \n",
            " 1   Brew_Date                     datetime64[ns]\n",
            " 2   Beer_Style                    category      \n",
            " 3   SKU                           category      \n",
            " 4   Location                      category      \n",
            " 5   Fermentation_Time             int8          \n",
            " 6   Temperature                   float16       \n",
            " 7   pH_Level                      float16       \n",
            " 8   Gravity                       float16       \n",
            " 9   Alcohol_Content               float16       \n",
            " 10  Bitterness                    int8          \n",
            " 11  Color                         int8          \n",
            " 12  Ingredient_Ratio              object        \n",
            " 13  Volume_Produced               int16         \n",
            " 14  Total_Sales                   float16       \n",
            " 15  Quality_Score                 float16       \n",
            " 16  Brewhouse_Efficiency          float16       \n",
            " 17  Loss_During_Brewing           float16       \n",
            " 18  Loss_During_Fermentation      float16       \n",
            " 19  Loss_During_Bottling_Kegging  float16       \n",
            "dtypes: category(4), datetime64[ns](1), float16(10), int16(1), int8(3), object(1)\n",
            "memory usage: 792.1+ MB\n",
            "time: 2.95 s (started: 2023-12-17 04:52:20 +00:00)\n"
          ]
        }
      ]
    },
    {
      "cell_type": "code",
      "source": [
        "float_size=getsizeof(df)/(1024.0**3)\n",
        "memory_reduced5=int_size-float_size\n",
        "\n",
        "print (\"Memory after optimize float %2.2f GB\" %float_size)\n",
        "print (\"Memory Reduced : %2.2f GB\" %memory_reduced5)\n",
        "print (\"Decreased by : {:.1f}%\".format(100*(memory_reduced5/int_size)))"
      ],
      "metadata": {
        "colab": {
          "base_uri": "https://localhost:8080/"
        },
        "id": "GNsX_45itKd7",
        "outputId": "44738226-e482-489d-9b99-5230ecc77c3f"
      },
      "execution_count": 34,
      "outputs": [
        {
          "output_type": "stream",
          "name": "stdout",
          "text": [
            "Memory after optimize float 1.33 GB\n",
            "Memory Reduced : 0.56 GB\n",
            "Decreased by : 29.5%\n",
            "time: 1.22 s (started: 2023-12-17 04:52:34 +00:00)\n"
          ]
        }
      ]
    },
    {
      "cell_type": "markdown",
      "source": [
        "### Total Memory Utilization Reduction"
      ],
      "metadata": {
        "id": "DY_7yeblSaUV"
      }
    },
    {
      "cell_type": "code",
      "source": [
        "final_size=float_size\n",
        "memory_optimized = initial_size - final_size\n",
        "\n",
        "print (\"Final memory : %2.2f GB\" %final_size)\n",
        "print (\"Total memory reduced after optimize datatype : %2.2f GB\" %memory_optimized)\n",
        "print (\"Decreased by : {:.1f}%\".format(100*(memory_optimized/initial_size)))"
      ],
      "metadata": {
        "colab": {
          "base_uri": "https://localhost:8080/"
        },
        "id": "KHe6RBpVCEQo",
        "outputId": "bab46537-debf-4e0d-fbea-99a6fe1d7a20"
      },
      "execution_count": 35,
      "outputs": [
        {
          "output_type": "stream",
          "name": "stdout",
          "text": [
            "Final memory : 1.33 GB\n",
            "Total memory reduced after optimize datatype : 2.92 GB\n",
            "Decreased by : 68.6%\n",
            "time: 4.36 ms (started: 2023-12-17 04:53:01 +00:00)\n"
          ]
        }
      ]
    },
    {
      "cell_type": "markdown",
      "source": [
        "## Conclusion & Summary\n",
        "\n"
      ],
      "metadata": {
        "id": "1vbkqejeCBGn"
      }
    },
    {
      "cell_type": "markdown",
      "source": [
        "By employing these strategies, we can effectively handle and analyze big data while overcoming challenges related to memory, computational resources, and efficiency. These approaches enable the extraction of meaningful insights from large datasets without overwhelming the available resources.\n",
        "\n",
        "Below is the summary table for 5 strategies mentioned and the comparison table when compared to traditional Pandas dataframe.\n",
        "\n"
      ],
      "metadata": {
        "id": "ZJFgETPlCpRv"
      }
    },
    {
      "cell_type": "markdown",
      "source": [
        "| No. | Action: Read File                           | Pandas (Control) | Parallelize with Dask | Chunking | Sampling using 70% of dataset | Load Less Data (Less 4 columns) | Optimize Data Type |\n",
        "| --- | ------------------------------- | ----------------- | ---------------------- | -------- | ----------------------------- | ------------------------------- | ------------------- |\n",
        "| 1   | Computation Time (second)       | 65.5799           | 0.021                  | 76.779   | 12.8338                       | 54.6219                         | NA                |\n",
        "| 2   | Memory Usage (GB)               | 4.25              | 4.25                   | 4.25     | 3.03                          | 3.39                            | 1.33              |\n",
        "| 3   | Dataframe Size (GB)             | 4.25              | 0 (due to lazy evaluation nature of Dask)  | 4.25     | 3.03                          | 3.39                            | 1.33              |\n"
      ],
      "metadata": {
        "id": "ik7pYazHproB"
      }
    },
    {
      "cell_type": "markdown",
      "source": [
        "| No. | Performance Metrics                        | Pandas (Control) | Parallelize with Dask | Chunking | Sampling using 70% of dataset | Load Less Data (Less 4 columns) | Optimize Data Type |\n",
        "| --- | ----------------------------------------- | ----------------- | ---------------------- | -------- | ----------------------------- | ------------------------------- | ------------------- |\n",
        "| 1   | How many times faster (times)              | -                | 3116.75                | 0.72     | 5.11                          | 1.2                             | NA                |\n",
        "| 2a  | Total memory usage reduced (GB)            | -                | 0                      | 0        | 1.22                          | 0.86                            | 2.92              |\n",
        "| 2b  | Percentage of memory usage reduced (%)    | -                | 0%                     | 0%       | 29%                           | 20%                             | 69%               |\n",
        "| 3   | Total size reduced (GB)                   | -               | NA                      | 0        | 1.22                          | 0.86                            | 2.92              |\n"
      ],
      "metadata": {
        "id": "vcURgQd-qQWU"
      }
    },
    {
      "cell_type": "markdown",
      "source": [
        "In conclusion, Dask can perform much more faster than Pandas. The reported size of the Dask DataFrame as \"0.00 GB\" in the output is likely due to the lazy evaluation nature of Dask. Dask operates on larger-than-memory datasets by breaking them into smaller chunks and performing operations on those chunks in a lazy manner. This means that Dask doesn't actually compute the result or load the entire dataset into memory until an action is explicitly triggered.\n",
        "\n",
        "Total runtime for \"after using Chunking\" is higher than \"before using Chunking\". It's important to note that the benefits of chunking are often more pronounced when dealing with datasets that are significantly larger than the available memory, as chunking allows us to work with data in a memory-efficient manner. In scenarios where the entire dataset easily fits into memory, chunking might not provide a substantial performance improvement and can even introduce some additional overhead.\n",
        "\n",
        "Both Sampling and Load Less Data show good performance in reducing runtime and memory usage, whereas Optimize Data Type able to significantly reduce the memory usage, which is 69% reduction compared to the original dataset."
      ],
      "metadata": {
        "id": "-hH2NxcxqzU0"
      }
    }
  ]
}
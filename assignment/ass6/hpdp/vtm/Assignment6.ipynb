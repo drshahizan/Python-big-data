{
  "nbformat": 4,
  "nbformat_minor": 0,
  "metadata": {
    "colab": {
      "provenance": [],
      "toc_visible": true,
      "include_colab_link": true
    },
    "kernelspec": {
      "name": "python3",
      "display_name": "Python 3"
    },
    "language_info": {
      "name": "python"
    }
  },
  "cells": [
    {
      "cell_type": "markdown",
      "metadata": {
        "id": "view-in-github",
        "colab_type": "text"
      },
      "source": [
        "<a href=\"https://colab.research.google.com/github/drshahizan/Python-big-data/blob/main/assignment/ass6/hpdp/vtm/Assignment6.ipynb\" target=\"_parent\"><img src=\"https://colab.research.google.com/assets/colab-badge.svg\" alt=\"Open In Colab\"/></a>"
      ]
    },
    {
      "cell_type": "markdown",
      "source": [
        "# Assignment 6\n",
        "\n",
        "| NAME | MATRIC NO. |\n",
        "| --- | --- |\n",
        "| MOHAMAD AZRI HADIF BIN MOHAMMAD RIZAL | A21EC0054 |\n",
        "| MUHAMMAD IQMAL BIN SIS | A21EC0080|\n"
      ],
      "metadata": {
        "id": "otSEwIASLohv"
      }
    },
    {
      "cell_type": "markdown",
      "source": [
        "## Import Dataset"
      ],
      "metadata": {
        "id": "2p2nUDAhLh9p"
      }
    },
    {
      "cell_type": "code",
      "execution_count": 1,
      "metadata": {
        "id": "bd97VfoCtkS2",
        "colab": {
          "base_uri": "https://localhost:8080/",
          "height": 142
        },
        "outputId": "89a8ccc9-7e6b-417a-8271-e520462546ca"
      },
      "outputs": [
        {
          "output_type": "display_data",
          "data": {
            "text/plain": [
              "<IPython.core.display.HTML object>"
            ],
            "text/html": [
              "\n",
              "     <input type=\"file\" id=\"files-3c3fcd20-4061-4244-ad69-6ac8c4a141d2\" name=\"files[]\" multiple disabled\n",
              "        style=\"border:none\" />\n",
              "     <output id=\"result-3c3fcd20-4061-4244-ad69-6ac8c4a141d2\">\n",
              "      Upload widget is only available when the cell has been executed in the\n",
              "      current browser session. Please rerun this cell to enable.\n",
              "      </output>\n",
              "      <script>// Copyright 2017 Google LLC\n",
              "//\n",
              "// Licensed under the Apache License, Version 2.0 (the \"License\");\n",
              "// you may not use this file except in compliance with the License.\n",
              "// You may obtain a copy of the License at\n",
              "//\n",
              "//      http://www.apache.org/licenses/LICENSE-2.0\n",
              "//\n",
              "// Unless required by applicable law or agreed to in writing, software\n",
              "// distributed under the License is distributed on an \"AS IS\" BASIS,\n",
              "// WITHOUT WARRANTIES OR CONDITIONS OF ANY KIND, either express or implied.\n",
              "// See the License for the specific language governing permissions and\n",
              "// limitations under the License.\n",
              "\n",
              "/**\n",
              " * @fileoverview Helpers for google.colab Python module.\n",
              " */\n",
              "(function(scope) {\n",
              "function span(text, styleAttributes = {}) {\n",
              "  const element = document.createElement('span');\n",
              "  element.textContent = text;\n",
              "  for (const key of Object.keys(styleAttributes)) {\n",
              "    element.style[key] = styleAttributes[key];\n",
              "  }\n",
              "  return element;\n",
              "}\n",
              "\n",
              "// Max number of bytes which will be uploaded at a time.\n",
              "const MAX_PAYLOAD_SIZE = 100 * 1024;\n",
              "\n",
              "function _uploadFiles(inputId, outputId) {\n",
              "  const steps = uploadFilesStep(inputId, outputId);\n",
              "  const outputElement = document.getElementById(outputId);\n",
              "  // Cache steps on the outputElement to make it available for the next call\n",
              "  // to uploadFilesContinue from Python.\n",
              "  outputElement.steps = steps;\n",
              "\n",
              "  return _uploadFilesContinue(outputId);\n",
              "}\n",
              "\n",
              "// This is roughly an async generator (not supported in the browser yet),\n",
              "// where there are multiple asynchronous steps and the Python side is going\n",
              "// to poll for completion of each step.\n",
              "// This uses a Promise to block the python side on completion of each step,\n",
              "// then passes the result of the previous step as the input to the next step.\n",
              "function _uploadFilesContinue(outputId) {\n",
              "  const outputElement = document.getElementById(outputId);\n",
              "  const steps = outputElement.steps;\n",
              "\n",
              "  const next = steps.next(outputElement.lastPromiseValue);\n",
              "  return Promise.resolve(next.value.promise).then((value) => {\n",
              "    // Cache the last promise value to make it available to the next\n",
              "    // step of the generator.\n",
              "    outputElement.lastPromiseValue = value;\n",
              "    return next.value.response;\n",
              "  });\n",
              "}\n",
              "\n",
              "/**\n",
              " * Generator function which is called between each async step of the upload\n",
              " * process.\n",
              " * @param {string} inputId Element ID of the input file picker element.\n",
              " * @param {string} outputId Element ID of the output display.\n",
              " * @return {!Iterable<!Object>} Iterable of next steps.\n",
              " */\n",
              "function* uploadFilesStep(inputId, outputId) {\n",
              "  const inputElement = document.getElementById(inputId);\n",
              "  inputElement.disabled = false;\n",
              "\n",
              "  const outputElement = document.getElementById(outputId);\n",
              "  outputElement.innerHTML = '';\n",
              "\n",
              "  const pickedPromise = new Promise((resolve) => {\n",
              "    inputElement.addEventListener('change', (e) => {\n",
              "      resolve(e.target.files);\n",
              "    });\n",
              "  });\n",
              "\n",
              "  const cancel = document.createElement('button');\n",
              "  inputElement.parentElement.appendChild(cancel);\n",
              "  cancel.textContent = 'Cancel upload';\n",
              "  const cancelPromise = new Promise((resolve) => {\n",
              "    cancel.onclick = () => {\n",
              "      resolve(null);\n",
              "    };\n",
              "  });\n",
              "\n",
              "  // Wait for the user to pick the files.\n",
              "  const files = yield {\n",
              "    promise: Promise.race([pickedPromise, cancelPromise]),\n",
              "    response: {\n",
              "      action: 'starting',\n",
              "    }\n",
              "  };\n",
              "\n",
              "  cancel.remove();\n",
              "\n",
              "  // Disable the input element since further picks are not allowed.\n",
              "  inputElement.disabled = true;\n",
              "\n",
              "  if (!files) {\n",
              "    return {\n",
              "      response: {\n",
              "        action: 'complete',\n",
              "      }\n",
              "    };\n",
              "  }\n",
              "\n",
              "  for (const file of files) {\n",
              "    const li = document.createElement('li');\n",
              "    li.append(span(file.name, {fontWeight: 'bold'}));\n",
              "    li.append(span(\n",
              "        `(${file.type || 'n/a'}) - ${file.size} bytes, ` +\n",
              "        `last modified: ${\n",
              "            file.lastModifiedDate ? file.lastModifiedDate.toLocaleDateString() :\n",
              "                                    'n/a'} - `));\n",
              "    const percent = span('0% done');\n",
              "    li.appendChild(percent);\n",
              "\n",
              "    outputElement.appendChild(li);\n",
              "\n",
              "    const fileDataPromise = new Promise((resolve) => {\n",
              "      const reader = new FileReader();\n",
              "      reader.onload = (e) => {\n",
              "        resolve(e.target.result);\n",
              "      };\n",
              "      reader.readAsArrayBuffer(file);\n",
              "    });\n",
              "    // Wait for the data to be ready.\n",
              "    let fileData = yield {\n",
              "      promise: fileDataPromise,\n",
              "      response: {\n",
              "        action: 'continue',\n",
              "      }\n",
              "    };\n",
              "\n",
              "    // Use a chunked sending to avoid message size limits. See b/62115660.\n",
              "    let position = 0;\n",
              "    do {\n",
              "      const length = Math.min(fileData.byteLength - position, MAX_PAYLOAD_SIZE);\n",
              "      const chunk = new Uint8Array(fileData, position, length);\n",
              "      position += length;\n",
              "\n",
              "      const base64 = btoa(String.fromCharCode.apply(null, chunk));\n",
              "      yield {\n",
              "        response: {\n",
              "          action: 'append',\n",
              "          file: file.name,\n",
              "          data: base64,\n",
              "        },\n",
              "      };\n",
              "\n",
              "      let percentDone = fileData.byteLength === 0 ?\n",
              "          100 :\n",
              "          Math.round((position / fileData.byteLength) * 100);\n",
              "      percent.textContent = `${percentDone}% done`;\n",
              "\n",
              "    } while (position < fileData.byteLength);\n",
              "  }\n",
              "\n",
              "  // All done.\n",
              "  yield {\n",
              "    response: {\n",
              "      action: 'complete',\n",
              "    }\n",
              "  };\n",
              "}\n",
              "\n",
              "scope.google = scope.google || {};\n",
              "scope.google.colab = scope.google.colab || {};\n",
              "scope.google.colab._files = {\n",
              "  _uploadFiles,\n",
              "  _uploadFilesContinue,\n",
              "};\n",
              "})(self);\n",
              "</script> "
            ]
          },
          "metadata": {}
        },
        {
          "output_type": "stream",
          "name": "stdout",
          "text": [
            "Saving kaggle.json to kaggle.json\n",
            "mkdir: cannot create directory ‘/root/.kaggle’: File exists\n",
            "Downloading chess-games.zip to /content\n",
            "100% 1.45G/1.45G [00:15<00:00, 178MB/s]\n",
            "100% 1.45G/1.45G [00:15<00:00, 103MB/s]\n"
          ]
        }
      ],
      "source": [
        "from google.colab import files\n",
        "\n",
        "files.upload()\n",
        "!mkdir ~/.kaggle\n",
        "!mv kaggle.json ~/.kaggle\n",
        "!chmod 600 ~/.kaggle/kaggle.json\n",
        "!kaggle datasets download -d arevel/chess-games"
      ]
    },
    {
      "cell_type": "markdown",
      "source": [
        "### Context\n",
        "Chess is one of the more famous board games of the world and one of the most studied. With it's more than 4 GB of information this can be a good opportunity to work with a huge dataset and practice on how to handle it.\n",
        "\n",
        "### Content\n",
        "This dataset contains 6.25 Million chess games played on lichess.org during July of 2016.\n",
        "Some of the games have Stockfish analysis evaluations like* [%eval 2.35] (235 centipawn advantage)* always from White's point of view. These are evaluations of the movement made by a player.\n",
        "\n",
        "- Event: Game type.\n",
        "- White: White's ID.\n",
        "- Black: Black's ID.\n",
        "- Result: Game Result (1-0 White wins) (0-1 Black wins)\n",
        "- UTCDate: UTC Date.\n",
        "- UTCTime: UTC Time.\n",
        "- WhiteElo: White's ELO.\n",
        "- BlackElo: Black's ELO.\n",
        "- WhiteRatingDiff: White's rating points difference after the game.\n",
        "- BlackRatingDiff: Blacks's rating points difference after the game.\n",
        "- ECO: Opening in ECO encoding.\n",
        "- Opening: Opening name.\n",
        "- TimeControl: Time of the game for each player in seconds. The number after the increment is the number of seconds before the player's clock starts ticking in each turn.\n",
        "- Termination: Reason of the game's end.\n",
        "- AN: Movements in Movetext format.\n",
        "\n",
        "Acknowledgements\n",
        "The original data has been published by [lichess.org](https://lichess.org/)."
      ],
      "metadata": {
        "id": "utqRhh5dMxgg"
      }
    },
    {
      "cell_type": "code",
      "source": [
        "from zipfile import ZipFile"
      ],
      "metadata": {
        "id": "-iQhRoGL5gGy"
      },
      "execution_count": 2,
      "outputs": []
    },
    {
      "cell_type": "code",
      "source": [
        "filepath = \"/content/chess-games.zip\"\n",
        "\n",
        "with ZipFile(filepath) as zip:\n",
        "  zip.printdir()\n",
        "  zip.extractall()\n",
        "\n",
        "!rm /content/chess-games.zip"
      ],
      "metadata": {
        "id": "gMq1avGRK2CT",
        "colab": {
          "base_uri": "https://localhost:8080/"
        },
        "outputId": "ff73f7f7-7dd3-4f32-c843-e045d8534dfa"
      },
      "execution_count": 3,
      "outputs": [
        {
          "output_type": "stream",
          "name": "stdout",
          "text": [
            "File Name                                             Modified             Size\n",
            "chess_games.csv                                2021-02-15 16:00:32   4378895157\n"
          ]
        }
      ]
    },
    {
      "cell_type": "code",
      "source": [
        "# import necessary library\n",
        "import pandas as pd\n",
        "import numpy as np\n",
        "import time\n",
        "import os\n",
        "import psutil"
      ],
      "metadata": {
        "id": "WrHWiP1Y8gow"
      },
      "execution_count": 4,
      "outputs": []
    },
    {
      "cell_type": "code",
      "source": [
        "# Read data\n",
        "\n",
        "df = pd.read_csv(\"/content/chess_games.csv\")\n",
        "df.head()"
      ],
      "metadata": {
        "id": "1Q5bliiT6eIo",
        "colab": {
          "base_uri": "https://localhost:8080/",
          "height": 1000
        },
        "outputId": "8f19da5a-45b4-4454-cf17-49b0bb132c69"
      },
      "execution_count": 5,
      "outputs": [
        {
          "output_type": "execute_result",
          "data": {
            "text/plain": [
              "                Event            White       Black Result     UTCDate  \\\n",
              "0          Classical           eisaaaa    HAMID449    1-0  2016.06.30   \n",
              "1              Blitz            go4jas  Sergei1973    0-1  2016.06.30   \n",
              "2   Blitz tournament   Evangelistaizac      kafune    1-0  2016.06.30   \n",
              "3     Correspondence            Jvayne    Wsjvayne    1-0  2016.06.30   \n",
              "4   Blitz tournament            kyoday   BrettDale    0-1  2016.06.30   \n",
              "\n",
              "    UTCTime  WhiteElo  BlackElo  WhiteRatingDiff  BlackRatingDiff  ECO  \\\n",
              "0  22:00:01      1901      1896             11.0            -11.0  D10   \n",
              "1  22:00:01      1641      1627            -11.0             12.0  C20   \n",
              "2  22:00:02      1647      1688             13.0            -13.0  B01   \n",
              "3  22:00:02      1706      1317             27.0            -25.0  A00   \n",
              "4  22:00:02      1945      1900            -14.0             13.0  B90   \n",
              "\n",
              "                                         Opening TimeControl   Termination  \\\n",
              "0                                   Slav Defense       300+5  Time forfeit   \n",
              "1                      King's Pawn Opening: 2.b3       300+0        Normal   \n",
              "2  Scandinavian Defense: Mieses-Kotroc Variation       180+0  Time forfeit   \n",
              "3                           Van't Kruijs Opening           -        Normal   \n",
              "4    Sicilian Defense: Najdorf, Lipnitsky Attack       180+0  Time forfeit   \n",
              "\n",
              "                                                  AN  \n",
              "0  1. d4 d5 2. c4 c6 3. e3 a6 4. Nf3 e5 5. cxd5 e...  \n",
              "1  1. e4 e5 2. b3 Nf6 3. Bb2 Nc6 4. Nf3 d6 5. d3 ...  \n",
              "2  1. e4 d5 2. exd5 Qxd5 3. Nf3 Bg4 4. Be2 Nf6 5....  \n",
              "3  1. e3 Nf6 2. Bc4 d6 3. e4 e6 4. Nf3 Nxe4 5. Nd...  \n",
              "4  1. e4 c5 2. Nf3 d6 3. d4 cxd4 4. Nxd4 Nf6 5. N...  "
            ],
            "text/html": [
              "\n",
              "  <div id=\"df-ffe67917-170a-4421-b81c-a86ec4bf7539\" class=\"colab-df-container\">\n",
              "    <div>\n",
              "<style scoped>\n",
              "    .dataframe tbody tr th:only-of-type {\n",
              "        vertical-align: middle;\n",
              "    }\n",
              "\n",
              "    .dataframe tbody tr th {\n",
              "        vertical-align: top;\n",
              "    }\n",
              "\n",
              "    .dataframe thead th {\n",
              "        text-align: right;\n",
              "    }\n",
              "</style>\n",
              "<table border=\"1\" class=\"dataframe\">\n",
              "  <thead>\n",
              "    <tr style=\"text-align: right;\">\n",
              "      <th></th>\n",
              "      <th>Event</th>\n",
              "      <th>White</th>\n",
              "      <th>Black</th>\n",
              "      <th>Result</th>\n",
              "      <th>UTCDate</th>\n",
              "      <th>UTCTime</th>\n",
              "      <th>WhiteElo</th>\n",
              "      <th>BlackElo</th>\n",
              "      <th>WhiteRatingDiff</th>\n",
              "      <th>BlackRatingDiff</th>\n",
              "      <th>ECO</th>\n",
              "      <th>Opening</th>\n",
              "      <th>TimeControl</th>\n",
              "      <th>Termination</th>\n",
              "      <th>AN</th>\n",
              "    </tr>\n",
              "  </thead>\n",
              "  <tbody>\n",
              "    <tr>\n",
              "      <th>0</th>\n",
              "      <td>Classical</td>\n",
              "      <td>eisaaaa</td>\n",
              "      <td>HAMID449</td>\n",
              "      <td>1-0</td>\n",
              "      <td>2016.06.30</td>\n",
              "      <td>22:00:01</td>\n",
              "      <td>1901</td>\n",
              "      <td>1896</td>\n",
              "      <td>11.0</td>\n",
              "      <td>-11.0</td>\n",
              "      <td>D10</td>\n",
              "      <td>Slav Defense</td>\n",
              "      <td>300+5</td>\n",
              "      <td>Time forfeit</td>\n",
              "      <td>1. d4 d5 2. c4 c6 3. e3 a6 4. Nf3 e5 5. cxd5 e...</td>\n",
              "    </tr>\n",
              "    <tr>\n",
              "      <th>1</th>\n",
              "      <td>Blitz</td>\n",
              "      <td>go4jas</td>\n",
              "      <td>Sergei1973</td>\n",
              "      <td>0-1</td>\n",
              "      <td>2016.06.30</td>\n",
              "      <td>22:00:01</td>\n",
              "      <td>1641</td>\n",
              "      <td>1627</td>\n",
              "      <td>-11.0</td>\n",
              "      <td>12.0</td>\n",
              "      <td>C20</td>\n",
              "      <td>King's Pawn Opening: 2.b3</td>\n",
              "      <td>300+0</td>\n",
              "      <td>Normal</td>\n",
              "      <td>1. e4 e5 2. b3 Nf6 3. Bb2 Nc6 4. Nf3 d6 5. d3 ...</td>\n",
              "    </tr>\n",
              "    <tr>\n",
              "      <th>2</th>\n",
              "      <td>Blitz tournament</td>\n",
              "      <td>Evangelistaizac</td>\n",
              "      <td>kafune</td>\n",
              "      <td>1-0</td>\n",
              "      <td>2016.06.30</td>\n",
              "      <td>22:00:02</td>\n",
              "      <td>1647</td>\n",
              "      <td>1688</td>\n",
              "      <td>13.0</td>\n",
              "      <td>-13.0</td>\n",
              "      <td>B01</td>\n",
              "      <td>Scandinavian Defense: Mieses-Kotroc Variation</td>\n",
              "      <td>180+0</td>\n",
              "      <td>Time forfeit</td>\n",
              "      <td>1. e4 d5 2. exd5 Qxd5 3. Nf3 Bg4 4. Be2 Nf6 5....</td>\n",
              "    </tr>\n",
              "    <tr>\n",
              "      <th>3</th>\n",
              "      <td>Correspondence</td>\n",
              "      <td>Jvayne</td>\n",
              "      <td>Wsjvayne</td>\n",
              "      <td>1-0</td>\n",
              "      <td>2016.06.30</td>\n",
              "      <td>22:00:02</td>\n",
              "      <td>1706</td>\n",
              "      <td>1317</td>\n",
              "      <td>27.0</td>\n",
              "      <td>-25.0</td>\n",
              "      <td>A00</td>\n",
              "      <td>Van't Kruijs Opening</td>\n",
              "      <td>-</td>\n",
              "      <td>Normal</td>\n",
              "      <td>1. e3 Nf6 2. Bc4 d6 3. e4 e6 4. Nf3 Nxe4 5. Nd...</td>\n",
              "    </tr>\n",
              "    <tr>\n",
              "      <th>4</th>\n",
              "      <td>Blitz tournament</td>\n",
              "      <td>kyoday</td>\n",
              "      <td>BrettDale</td>\n",
              "      <td>0-1</td>\n",
              "      <td>2016.06.30</td>\n",
              "      <td>22:00:02</td>\n",
              "      <td>1945</td>\n",
              "      <td>1900</td>\n",
              "      <td>-14.0</td>\n",
              "      <td>13.0</td>\n",
              "      <td>B90</td>\n",
              "      <td>Sicilian Defense: Najdorf, Lipnitsky Attack</td>\n",
              "      <td>180+0</td>\n",
              "      <td>Time forfeit</td>\n",
              "      <td>1. e4 c5 2. Nf3 d6 3. d4 cxd4 4. Nxd4 Nf6 5. N...</td>\n",
              "    </tr>\n",
              "  </tbody>\n",
              "</table>\n",
              "</div>\n",
              "    <div class=\"colab-df-buttons\">\n",
              "\n",
              "  <div class=\"colab-df-container\">\n",
              "    <button class=\"colab-df-convert\" onclick=\"convertToInteractive('df-ffe67917-170a-4421-b81c-a86ec4bf7539')\"\n",
              "            title=\"Convert this dataframe to an interactive table.\"\n",
              "            style=\"display:none;\">\n",
              "\n",
              "  <svg xmlns=\"http://www.w3.org/2000/svg\" height=\"24px\" viewBox=\"0 -960 960 960\">\n",
              "    <path d=\"M120-120v-720h720v720H120Zm60-500h600v-160H180v160Zm220 220h160v-160H400v160Zm0 220h160v-160H400v160ZM180-400h160v-160H180v160Zm440 0h160v-160H620v160ZM180-180h160v-160H180v160Zm440 0h160v-160H620v160Z\"/>\n",
              "  </svg>\n",
              "    </button>\n",
              "\n",
              "  <style>\n",
              "    .colab-df-container {\n",
              "      display:flex;\n",
              "      gap: 12px;\n",
              "    }\n",
              "\n",
              "    .colab-df-convert {\n",
              "      background-color: #E8F0FE;\n",
              "      border: none;\n",
              "      border-radius: 50%;\n",
              "      cursor: pointer;\n",
              "      display: none;\n",
              "      fill: #1967D2;\n",
              "      height: 32px;\n",
              "      padding: 0 0 0 0;\n",
              "      width: 32px;\n",
              "    }\n",
              "\n",
              "    .colab-df-convert:hover {\n",
              "      background-color: #E2EBFA;\n",
              "      box-shadow: 0px 1px 2px rgba(60, 64, 67, 0.3), 0px 1px 3px 1px rgba(60, 64, 67, 0.15);\n",
              "      fill: #174EA6;\n",
              "    }\n",
              "\n",
              "    .colab-df-buttons div {\n",
              "      margin-bottom: 4px;\n",
              "    }\n",
              "\n",
              "    [theme=dark] .colab-df-convert {\n",
              "      background-color: #3B4455;\n",
              "      fill: #D2E3FC;\n",
              "    }\n",
              "\n",
              "    [theme=dark] .colab-df-convert:hover {\n",
              "      background-color: #434B5C;\n",
              "      box-shadow: 0px 1px 3px 1px rgba(0, 0, 0, 0.15);\n",
              "      filter: drop-shadow(0px 1px 2px rgba(0, 0, 0, 0.3));\n",
              "      fill: #FFFFFF;\n",
              "    }\n",
              "  </style>\n",
              "\n",
              "    <script>\n",
              "      const buttonEl =\n",
              "        document.querySelector('#df-ffe67917-170a-4421-b81c-a86ec4bf7539 button.colab-df-convert');\n",
              "      buttonEl.style.display =\n",
              "        google.colab.kernel.accessAllowed ? 'block' : 'none';\n",
              "\n",
              "      async function convertToInteractive(key) {\n",
              "        const element = document.querySelector('#df-ffe67917-170a-4421-b81c-a86ec4bf7539');\n",
              "        const dataTable =\n",
              "          await google.colab.kernel.invokeFunction('convertToInteractive',\n",
              "                                                    [key], {});\n",
              "        if (!dataTable) return;\n",
              "\n",
              "        const docLinkHtml = 'Like what you see? Visit the ' +\n",
              "          '<a target=\"_blank\" href=https://colab.research.google.com/notebooks/data_table.ipynb>data table notebook</a>'\n",
              "          + ' to learn more about interactive tables.';\n",
              "        element.innerHTML = '';\n",
              "        dataTable['output_type'] = 'display_data';\n",
              "        await google.colab.output.renderOutput(dataTable, element);\n",
              "        const docLink = document.createElement('div');\n",
              "        docLink.innerHTML = docLinkHtml;\n",
              "        element.appendChild(docLink);\n",
              "      }\n",
              "    </script>\n",
              "  </div>\n",
              "\n",
              "\n",
              "<div id=\"df-71540459-affb-43d9-a3b6-e1be4ed2f709\">\n",
              "  <button class=\"colab-df-quickchart\" onclick=\"quickchart('df-71540459-affb-43d9-a3b6-e1be4ed2f709')\"\n",
              "            title=\"Suggest charts\"\n",
              "            style=\"display:none;\">\n",
              "\n",
              "<svg xmlns=\"http://www.w3.org/2000/svg\" height=\"24px\"viewBox=\"0 0 24 24\"\n",
              "     width=\"24px\">\n",
              "    <g>\n",
              "        <path d=\"M19 3H5c-1.1 0-2 .9-2 2v14c0 1.1.9 2 2 2h14c1.1 0 2-.9 2-2V5c0-1.1-.9-2-2-2zM9 17H7v-7h2v7zm4 0h-2V7h2v10zm4 0h-2v-4h2v4z\"/>\n",
              "    </g>\n",
              "</svg>\n",
              "  </button>\n",
              "\n",
              "<style>\n",
              "  .colab-df-quickchart {\n",
              "      --bg-color: #E8F0FE;\n",
              "      --fill-color: #1967D2;\n",
              "      --hover-bg-color: #E2EBFA;\n",
              "      --hover-fill-color: #174EA6;\n",
              "      --disabled-fill-color: #AAA;\n",
              "      --disabled-bg-color: #DDD;\n",
              "  }\n",
              "\n",
              "  [theme=dark] .colab-df-quickchart {\n",
              "      --bg-color: #3B4455;\n",
              "      --fill-color: #D2E3FC;\n",
              "      --hover-bg-color: #434B5C;\n",
              "      --hover-fill-color: #FFFFFF;\n",
              "      --disabled-bg-color: #3B4455;\n",
              "      --disabled-fill-color: #666;\n",
              "  }\n",
              "\n",
              "  .colab-df-quickchart {\n",
              "    background-color: var(--bg-color);\n",
              "    border: none;\n",
              "    border-radius: 50%;\n",
              "    cursor: pointer;\n",
              "    display: none;\n",
              "    fill: var(--fill-color);\n",
              "    height: 32px;\n",
              "    padding: 0;\n",
              "    width: 32px;\n",
              "  }\n",
              "\n",
              "  .colab-df-quickchart:hover {\n",
              "    background-color: var(--hover-bg-color);\n",
              "    box-shadow: 0 1px 2px rgba(60, 64, 67, 0.3), 0 1px 3px 1px rgba(60, 64, 67, 0.15);\n",
              "    fill: var(--button-hover-fill-color);\n",
              "  }\n",
              "\n",
              "  .colab-df-quickchart-complete:disabled,\n",
              "  .colab-df-quickchart-complete:disabled:hover {\n",
              "    background-color: var(--disabled-bg-color);\n",
              "    fill: var(--disabled-fill-color);\n",
              "    box-shadow: none;\n",
              "  }\n",
              "\n",
              "  .colab-df-spinner {\n",
              "    border: 2px solid var(--fill-color);\n",
              "    border-color: transparent;\n",
              "    border-bottom-color: var(--fill-color);\n",
              "    animation:\n",
              "      spin 1s steps(1) infinite;\n",
              "  }\n",
              "\n",
              "  @keyframes spin {\n",
              "    0% {\n",
              "      border-color: transparent;\n",
              "      border-bottom-color: var(--fill-color);\n",
              "      border-left-color: var(--fill-color);\n",
              "    }\n",
              "    20% {\n",
              "      border-color: transparent;\n",
              "      border-left-color: var(--fill-color);\n",
              "      border-top-color: var(--fill-color);\n",
              "    }\n",
              "    30% {\n",
              "      border-color: transparent;\n",
              "      border-left-color: var(--fill-color);\n",
              "      border-top-color: var(--fill-color);\n",
              "      border-right-color: var(--fill-color);\n",
              "    }\n",
              "    40% {\n",
              "      border-color: transparent;\n",
              "      border-right-color: var(--fill-color);\n",
              "      border-top-color: var(--fill-color);\n",
              "    }\n",
              "    60% {\n",
              "      border-color: transparent;\n",
              "      border-right-color: var(--fill-color);\n",
              "    }\n",
              "    80% {\n",
              "      border-color: transparent;\n",
              "      border-right-color: var(--fill-color);\n",
              "      border-bottom-color: var(--fill-color);\n",
              "    }\n",
              "    90% {\n",
              "      border-color: transparent;\n",
              "      border-bottom-color: var(--fill-color);\n",
              "    }\n",
              "  }\n",
              "</style>\n",
              "\n",
              "  <script>\n",
              "    async function quickchart(key) {\n",
              "      const quickchartButtonEl =\n",
              "        document.querySelector('#' + key + ' button');\n",
              "      quickchartButtonEl.disabled = true;  // To prevent multiple clicks.\n",
              "      quickchartButtonEl.classList.add('colab-df-spinner');\n",
              "      try {\n",
              "        const charts = await google.colab.kernel.invokeFunction(\n",
              "            'suggestCharts', [key], {});\n",
              "      } catch (error) {\n",
              "        console.error('Error during call to suggestCharts:', error);\n",
              "      }\n",
              "      quickchartButtonEl.classList.remove('colab-df-spinner');\n",
              "      quickchartButtonEl.classList.add('colab-df-quickchart-complete');\n",
              "    }\n",
              "    (() => {\n",
              "      let quickchartButtonEl =\n",
              "        document.querySelector('#df-71540459-affb-43d9-a3b6-e1be4ed2f709 button');\n",
              "      quickchartButtonEl.style.display =\n",
              "        google.colab.kernel.accessAllowed ? 'block' : 'none';\n",
              "    })();\n",
              "  </script>\n",
              "</div>\n",
              "\n",
              "    </div>\n",
              "  </div>\n"
            ]
          },
          "metadata": {},
          "execution_count": 5
        }
      ]
    },
    {
      "cell_type": "code",
      "source": [
        "df.info()"
      ],
      "metadata": {
        "id": "NUh8h6ACYlBC",
        "colab": {
          "base_uri": "https://localhost:8080/"
        },
        "outputId": "b5b451b2-3005-4f48-f37d-42ff7b91ccf3"
      },
      "execution_count": 6,
      "outputs": [
        {
          "output_type": "stream",
          "name": "stdout",
          "text": [
            "<class 'pandas.core.frame.DataFrame'>\n",
            "RangeIndex: 6256184 entries, 0 to 6256183\n",
            "Data columns (total 15 columns):\n",
            " #   Column           Dtype  \n",
            "---  ------           -----  \n",
            " 0   Event            object \n",
            " 1   White            object \n",
            " 2   Black            object \n",
            " 3   Result           object \n",
            " 4   UTCDate          object \n",
            " 5   UTCTime          object \n",
            " 6   WhiteElo         int64  \n",
            " 7   BlackElo         int64  \n",
            " 8   WhiteRatingDiff  float64\n",
            " 9   BlackRatingDiff  float64\n",
            " 10  ECO              object \n",
            " 11  Opening          object \n",
            " 12  TimeControl      object \n",
            " 13  Termination      object \n",
            " 14  AN               object \n",
            "dtypes: float64(2), int64(2), object(11)\n",
            "memory usage: 716.0+ MB\n"
          ]
        }
      ]
    },
    {
      "cell_type": "markdown",
      "source": [
        "## Load Less Data:\n",
        "Strategically load only the essential portions of the dataset to optimize memory usage."
      ],
      "metadata": {
        "id": "F8Fk1LmwPN42"
      }
    },
    {
      "cell_type": "code",
      "source": [
        "# Measure the start time\n",
        "start_time = time.time()\n",
        "\n",
        "# Load only the specified columns\n",
        "selected_columns = ['Event', 'Result', 'WhiteElo', 'BlackElo', 'WhiteRatingDiff', 'BlackRatingDiff', 'Opening', 'Termination']\n",
        "df_selected = pd.read_csv('chess_games.csv', usecols = selected_columns)\n",
        "\n",
        "# Measure the end time\n",
        "end_time = time.time()"
      ],
      "metadata": {
        "id": "oT8KWv2uPNkI"
      },
      "execution_count": 7,
      "outputs": []
    },
    {
      "cell_type": "markdown",
      "source": [
        "\n",
        "To assess the status of someone's success in chess games, we have narrowed our focus to specific columns that are highly relevant to our objective. This approach not only streamlines the analysis but also minimizes the time required for the machine to perform the assessment as it optimize the usage of the machine."
      ],
      "metadata": {
        "id": "0FpDIC1u9Gd1"
      }
    },
    {
      "cell_type": "markdown",
      "source": [
        "1. Selecting the column\n",
        "        Selected Column: ['event', 'result', 'whiteElo', 'BlackElo', 'whiteratingdiff', 'blackratingdiff', 'opening', 'termination']\n",
        "\n",
        "\n",
        "2. Reading the CSV File:\n",
        "\n",
        "* pd.read_csv('chess_games.csv', usecols=selected_columns): This line uses the read_csv function from pandas to read data from a CSV file.\n",
        "\n",
        "* The usecols parameter is used to specify which columns should be loaded from the CSV file. In this case, only the columns listed in selected_columns will be loaded into the DataFrame_Selected (df_selected)."
      ],
      "metadata": {
        "id": "VIku6CBI9dWq"
      }
    },
    {
      "cell_type": "code",
      "source": [
        "df_selected.head()"
      ],
      "metadata": {
        "id": "vgPQ-ltT-tyo",
        "colab": {
          "base_uri": "https://localhost:8080/",
          "height": 206
        },
        "outputId": "940349bb-aea0-4722-e379-e6486d3467b2"
      },
      "execution_count": 8,
      "outputs": [
        {
          "output_type": "execute_result",
          "data": {
            "text/plain": [
              "                Event Result  WhiteElo  BlackElo  WhiteRatingDiff  \\\n",
              "0          Classical     1-0      1901      1896             11.0   \n",
              "1              Blitz     0-1      1641      1627            -11.0   \n",
              "2   Blitz tournament     1-0      1647      1688             13.0   \n",
              "3     Correspondence     1-0      1706      1317             27.0   \n",
              "4   Blitz tournament     0-1      1945      1900            -14.0   \n",
              "\n",
              "   BlackRatingDiff                                        Opening  \\\n",
              "0            -11.0                                   Slav Defense   \n",
              "1             12.0                      King's Pawn Opening: 2.b3   \n",
              "2            -13.0  Scandinavian Defense: Mieses-Kotroc Variation   \n",
              "3            -25.0                           Van't Kruijs Opening   \n",
              "4             13.0    Sicilian Defense: Najdorf, Lipnitsky Attack   \n",
              "\n",
              "    Termination  \n",
              "0  Time forfeit  \n",
              "1        Normal  \n",
              "2  Time forfeit  \n",
              "3        Normal  \n",
              "4  Time forfeit  "
            ],
            "text/html": [
              "\n",
              "  <div id=\"df-4dd599e8-9c84-4f1f-b7df-ed922312a091\" class=\"colab-df-container\">\n",
              "    <div>\n",
              "<style scoped>\n",
              "    .dataframe tbody tr th:only-of-type {\n",
              "        vertical-align: middle;\n",
              "    }\n",
              "\n",
              "    .dataframe tbody tr th {\n",
              "        vertical-align: top;\n",
              "    }\n",
              "\n",
              "    .dataframe thead th {\n",
              "        text-align: right;\n",
              "    }\n",
              "</style>\n",
              "<table border=\"1\" class=\"dataframe\">\n",
              "  <thead>\n",
              "    <tr style=\"text-align: right;\">\n",
              "      <th></th>\n",
              "      <th>Event</th>\n",
              "      <th>Result</th>\n",
              "      <th>WhiteElo</th>\n",
              "      <th>BlackElo</th>\n",
              "      <th>WhiteRatingDiff</th>\n",
              "      <th>BlackRatingDiff</th>\n",
              "      <th>Opening</th>\n",
              "      <th>Termination</th>\n",
              "    </tr>\n",
              "  </thead>\n",
              "  <tbody>\n",
              "    <tr>\n",
              "      <th>0</th>\n",
              "      <td>Classical</td>\n",
              "      <td>1-0</td>\n",
              "      <td>1901</td>\n",
              "      <td>1896</td>\n",
              "      <td>11.0</td>\n",
              "      <td>-11.0</td>\n",
              "      <td>Slav Defense</td>\n",
              "      <td>Time forfeit</td>\n",
              "    </tr>\n",
              "    <tr>\n",
              "      <th>1</th>\n",
              "      <td>Blitz</td>\n",
              "      <td>0-1</td>\n",
              "      <td>1641</td>\n",
              "      <td>1627</td>\n",
              "      <td>-11.0</td>\n",
              "      <td>12.0</td>\n",
              "      <td>King's Pawn Opening: 2.b3</td>\n",
              "      <td>Normal</td>\n",
              "    </tr>\n",
              "    <tr>\n",
              "      <th>2</th>\n",
              "      <td>Blitz tournament</td>\n",
              "      <td>1-0</td>\n",
              "      <td>1647</td>\n",
              "      <td>1688</td>\n",
              "      <td>13.0</td>\n",
              "      <td>-13.0</td>\n",
              "      <td>Scandinavian Defense: Mieses-Kotroc Variation</td>\n",
              "      <td>Time forfeit</td>\n",
              "    </tr>\n",
              "    <tr>\n",
              "      <th>3</th>\n",
              "      <td>Correspondence</td>\n",
              "      <td>1-0</td>\n",
              "      <td>1706</td>\n",
              "      <td>1317</td>\n",
              "      <td>27.0</td>\n",
              "      <td>-25.0</td>\n",
              "      <td>Van't Kruijs Opening</td>\n",
              "      <td>Normal</td>\n",
              "    </tr>\n",
              "    <tr>\n",
              "      <th>4</th>\n",
              "      <td>Blitz tournament</td>\n",
              "      <td>0-1</td>\n",
              "      <td>1945</td>\n",
              "      <td>1900</td>\n",
              "      <td>-14.0</td>\n",
              "      <td>13.0</td>\n",
              "      <td>Sicilian Defense: Najdorf, Lipnitsky Attack</td>\n",
              "      <td>Time forfeit</td>\n",
              "    </tr>\n",
              "  </tbody>\n",
              "</table>\n",
              "</div>\n",
              "    <div class=\"colab-df-buttons\">\n",
              "\n",
              "  <div class=\"colab-df-container\">\n",
              "    <button class=\"colab-df-convert\" onclick=\"convertToInteractive('df-4dd599e8-9c84-4f1f-b7df-ed922312a091')\"\n",
              "            title=\"Convert this dataframe to an interactive table.\"\n",
              "            style=\"display:none;\">\n",
              "\n",
              "  <svg xmlns=\"http://www.w3.org/2000/svg\" height=\"24px\" viewBox=\"0 -960 960 960\">\n",
              "    <path d=\"M120-120v-720h720v720H120Zm60-500h600v-160H180v160Zm220 220h160v-160H400v160Zm0 220h160v-160H400v160ZM180-400h160v-160H180v160Zm440 0h160v-160H620v160ZM180-180h160v-160H180v160Zm440 0h160v-160H620v160Z\"/>\n",
              "  </svg>\n",
              "    </button>\n",
              "\n",
              "  <style>\n",
              "    .colab-df-container {\n",
              "      display:flex;\n",
              "      gap: 12px;\n",
              "    }\n",
              "\n",
              "    .colab-df-convert {\n",
              "      background-color: #E8F0FE;\n",
              "      border: none;\n",
              "      border-radius: 50%;\n",
              "      cursor: pointer;\n",
              "      display: none;\n",
              "      fill: #1967D2;\n",
              "      height: 32px;\n",
              "      padding: 0 0 0 0;\n",
              "      width: 32px;\n",
              "    }\n",
              "\n",
              "    .colab-df-convert:hover {\n",
              "      background-color: #E2EBFA;\n",
              "      box-shadow: 0px 1px 2px rgba(60, 64, 67, 0.3), 0px 1px 3px 1px rgba(60, 64, 67, 0.15);\n",
              "      fill: #174EA6;\n",
              "    }\n",
              "\n",
              "    .colab-df-buttons div {\n",
              "      margin-bottom: 4px;\n",
              "    }\n",
              "\n",
              "    [theme=dark] .colab-df-convert {\n",
              "      background-color: #3B4455;\n",
              "      fill: #D2E3FC;\n",
              "    }\n",
              "\n",
              "    [theme=dark] .colab-df-convert:hover {\n",
              "      background-color: #434B5C;\n",
              "      box-shadow: 0px 1px 3px 1px rgba(0, 0, 0, 0.15);\n",
              "      filter: drop-shadow(0px 1px 2px rgba(0, 0, 0, 0.3));\n",
              "      fill: #FFFFFF;\n",
              "    }\n",
              "  </style>\n",
              "\n",
              "    <script>\n",
              "      const buttonEl =\n",
              "        document.querySelector('#df-4dd599e8-9c84-4f1f-b7df-ed922312a091 button.colab-df-convert');\n",
              "      buttonEl.style.display =\n",
              "        google.colab.kernel.accessAllowed ? 'block' : 'none';\n",
              "\n",
              "      async function convertToInteractive(key) {\n",
              "        const element = document.querySelector('#df-4dd599e8-9c84-4f1f-b7df-ed922312a091');\n",
              "        const dataTable =\n",
              "          await google.colab.kernel.invokeFunction('convertToInteractive',\n",
              "                                                    [key], {});\n",
              "        if (!dataTable) return;\n",
              "\n",
              "        const docLinkHtml = 'Like what you see? Visit the ' +\n",
              "          '<a target=\"_blank\" href=https://colab.research.google.com/notebooks/data_table.ipynb>data table notebook</a>'\n",
              "          + ' to learn more about interactive tables.';\n",
              "        element.innerHTML = '';\n",
              "        dataTable['output_type'] = 'display_data';\n",
              "        await google.colab.output.renderOutput(dataTable, element);\n",
              "        const docLink = document.createElement('div');\n",
              "        docLink.innerHTML = docLinkHtml;\n",
              "        element.appendChild(docLink);\n",
              "      }\n",
              "    </script>\n",
              "  </div>\n",
              "\n",
              "\n",
              "<div id=\"df-5a712eb9-88d9-4e8f-9929-7825c16deeb4\">\n",
              "  <button class=\"colab-df-quickchart\" onclick=\"quickchart('df-5a712eb9-88d9-4e8f-9929-7825c16deeb4')\"\n",
              "            title=\"Suggest charts\"\n",
              "            style=\"display:none;\">\n",
              "\n",
              "<svg xmlns=\"http://www.w3.org/2000/svg\" height=\"24px\"viewBox=\"0 0 24 24\"\n",
              "     width=\"24px\">\n",
              "    <g>\n",
              "        <path d=\"M19 3H5c-1.1 0-2 .9-2 2v14c0 1.1.9 2 2 2h14c1.1 0 2-.9 2-2V5c0-1.1-.9-2-2-2zM9 17H7v-7h2v7zm4 0h-2V7h2v10zm4 0h-2v-4h2v4z\"/>\n",
              "    </g>\n",
              "</svg>\n",
              "  </button>\n",
              "\n",
              "<style>\n",
              "  .colab-df-quickchart {\n",
              "      --bg-color: #E8F0FE;\n",
              "      --fill-color: #1967D2;\n",
              "      --hover-bg-color: #E2EBFA;\n",
              "      --hover-fill-color: #174EA6;\n",
              "      --disabled-fill-color: #AAA;\n",
              "      --disabled-bg-color: #DDD;\n",
              "  }\n",
              "\n",
              "  [theme=dark] .colab-df-quickchart {\n",
              "      --bg-color: #3B4455;\n",
              "      --fill-color: #D2E3FC;\n",
              "      --hover-bg-color: #434B5C;\n",
              "      --hover-fill-color: #FFFFFF;\n",
              "      --disabled-bg-color: #3B4455;\n",
              "      --disabled-fill-color: #666;\n",
              "  }\n",
              "\n",
              "  .colab-df-quickchart {\n",
              "    background-color: var(--bg-color);\n",
              "    border: none;\n",
              "    border-radius: 50%;\n",
              "    cursor: pointer;\n",
              "    display: none;\n",
              "    fill: var(--fill-color);\n",
              "    height: 32px;\n",
              "    padding: 0;\n",
              "    width: 32px;\n",
              "  }\n",
              "\n",
              "  .colab-df-quickchart:hover {\n",
              "    background-color: var(--hover-bg-color);\n",
              "    box-shadow: 0 1px 2px rgba(60, 64, 67, 0.3), 0 1px 3px 1px rgba(60, 64, 67, 0.15);\n",
              "    fill: var(--button-hover-fill-color);\n",
              "  }\n",
              "\n",
              "  .colab-df-quickchart-complete:disabled,\n",
              "  .colab-df-quickchart-complete:disabled:hover {\n",
              "    background-color: var(--disabled-bg-color);\n",
              "    fill: var(--disabled-fill-color);\n",
              "    box-shadow: none;\n",
              "  }\n",
              "\n",
              "  .colab-df-spinner {\n",
              "    border: 2px solid var(--fill-color);\n",
              "    border-color: transparent;\n",
              "    border-bottom-color: var(--fill-color);\n",
              "    animation:\n",
              "      spin 1s steps(1) infinite;\n",
              "  }\n",
              "\n",
              "  @keyframes spin {\n",
              "    0% {\n",
              "      border-color: transparent;\n",
              "      border-bottom-color: var(--fill-color);\n",
              "      border-left-color: var(--fill-color);\n",
              "    }\n",
              "    20% {\n",
              "      border-color: transparent;\n",
              "      border-left-color: var(--fill-color);\n",
              "      border-top-color: var(--fill-color);\n",
              "    }\n",
              "    30% {\n",
              "      border-color: transparent;\n",
              "      border-left-color: var(--fill-color);\n",
              "      border-top-color: var(--fill-color);\n",
              "      border-right-color: var(--fill-color);\n",
              "    }\n",
              "    40% {\n",
              "      border-color: transparent;\n",
              "      border-right-color: var(--fill-color);\n",
              "      border-top-color: var(--fill-color);\n",
              "    }\n",
              "    60% {\n",
              "      border-color: transparent;\n",
              "      border-right-color: var(--fill-color);\n",
              "    }\n",
              "    80% {\n",
              "      border-color: transparent;\n",
              "      border-right-color: var(--fill-color);\n",
              "      border-bottom-color: var(--fill-color);\n",
              "    }\n",
              "    90% {\n",
              "      border-color: transparent;\n",
              "      border-bottom-color: var(--fill-color);\n",
              "    }\n",
              "  }\n",
              "</style>\n",
              "\n",
              "  <script>\n",
              "    async function quickchart(key) {\n",
              "      const quickchartButtonEl =\n",
              "        document.querySelector('#' + key + ' button');\n",
              "      quickchartButtonEl.disabled = true;  // To prevent multiple clicks.\n",
              "      quickchartButtonEl.classList.add('colab-df-spinner');\n",
              "      try {\n",
              "        const charts = await google.colab.kernel.invokeFunction(\n",
              "            'suggestCharts', [key], {});\n",
              "      } catch (error) {\n",
              "        console.error('Error during call to suggestCharts:', error);\n",
              "      }\n",
              "      quickchartButtonEl.classList.remove('colab-df-spinner');\n",
              "      quickchartButtonEl.classList.add('colab-df-quickchart-complete');\n",
              "    }\n",
              "    (() => {\n",
              "      let quickchartButtonEl =\n",
              "        document.querySelector('#df-5a712eb9-88d9-4e8f-9929-7825c16deeb4 button');\n",
              "      quickchartButtonEl.style.display =\n",
              "        google.colab.kernel.accessAllowed ? 'block' : 'none';\n",
              "    })();\n",
              "  </script>\n",
              "</div>\n",
              "\n",
              "    </div>\n",
              "  </div>\n"
            ]
          },
          "metadata": {},
          "execution_count": 8
        }
      ]
    },
    {
      "cell_type": "code",
      "source": [
        "df_selected.info()"
      ],
      "metadata": {
        "id": "7eDjH21UynIY",
        "colab": {
          "base_uri": "https://localhost:8080/"
        },
        "outputId": "a8547206-276b-45c9-ff4a-57ecd717d51e"
      },
      "execution_count": 9,
      "outputs": [
        {
          "output_type": "stream",
          "name": "stdout",
          "text": [
            "<class 'pandas.core.frame.DataFrame'>\n",
            "RangeIndex: 6256184 entries, 0 to 6256183\n",
            "Data columns (total 8 columns):\n",
            " #   Column           Dtype  \n",
            "---  ------           -----  \n",
            " 0   Event            object \n",
            " 1   Result           object \n",
            " 2   WhiteElo         int64  \n",
            " 3   BlackElo         int64  \n",
            " 4   WhiteRatingDiff  float64\n",
            " 5   BlackRatingDiff  float64\n",
            " 6   Opening          object \n",
            " 7   Termination      object \n",
            "dtypes: float64(2), int64(2), object(4)\n",
            "memory usage: 381.8+ MB\n"
          ]
        }
      ]
    },
    {
      "cell_type": "markdown",
      "source": [
        "Memory Usage of df_selected"
      ],
      "metadata": {
        "id": "lGl66VfA0FLu"
      }
    },
    {
      "cell_type": "code",
      "source": [
        "# Calculate memory usage\n",
        "memory_usage = df_selected.memory_usage().sum() / (1024 ** 2)  # Convert bytes to megabytes"
      ],
      "metadata": {
        "id": "73FKjtbgynmq"
      },
      "execution_count": 10,
      "outputs": []
    },
    {
      "cell_type": "markdown",
      "source": [
        "Computation Time of df_selected"
      ],
      "metadata": {
        "id": "2ETUrL5m0La2"
      }
    },
    {
      "cell_type": "code",
      "source": [
        "# Calculate computation time\n",
        "computation_time = end_time - start_time"
      ],
      "metadata": {
        "id": "52x2RVV30AQu"
      },
      "execution_count": 11,
      "outputs": []
    },
    {
      "cell_type": "markdown",
      "source": [
        "File Size of df_selected"
      ],
      "metadata": {
        "id": "bD6DNAlt0OsS"
      }
    },
    {
      "cell_type": "code",
      "source": [
        "# Calculate file size\n",
        "file_size = os.path.getsize('chess_games.csv') / (1024 ** 2)  # Convert bytes to megabytes"
      ],
      "metadata": {
        "id": "5dDDDB06y84v"
      },
      "execution_count": 12,
      "outputs": []
    },
    {
      "cell_type": "markdown",
      "source": [
        "Result:"
      ],
      "metadata": {
        "id": "vXs3Ng920Yyy"
      }
    },
    {
      "cell_type": "code",
      "source": [
        "# Print the results\n",
        "print(f\"Memory Usage: {memory_usage:.2f} MB\")\n",
        "print(f\"Computation Time: {computation_time:.2f} seconds\")\n",
        "print(f\"File Size: {file_size:.2f} MB\")"
      ],
      "metadata": {
        "id": "pJxALoFCztB6",
        "colab": {
          "base_uri": "https://localhost:8080/"
        },
        "outputId": "346119ca-26de-4ba0-d5e9-a44224cafc0e"
      },
      "execution_count": 13,
      "outputs": [
        {
          "output_type": "stream",
          "name": "stdout",
          "text": [
            "Memory Usage: 381.85 MB\n",
            "Computation Time: 58.73 seconds\n",
            "File Size: 4176.04 MB\n"
          ]
        }
      ]
    },
    {
      "cell_type": "markdown",
      "source": [
        "## Use Chunking:\n",
        "Process the data in smaller pieces to avoid memory issues."
      ],
      "metadata": {
        "id": "E7jgrPpaYpig"
      }
    },
    {
      "cell_type": "markdown",
      "source": [
        "We decided to use 750,000 as our chunk size. The chunking process is a process where it separated the file size and store it into different parts. It divide them for a more easier process for the computer or machine to operate the analysis. The chunking used the looping process as the it only divide the same thing over and over again:- Using the for loop"
      ],
      "metadata": {
        "id": "OH6xTdQp3ci_"
      }
    },
    {
      "cell_type": "markdown",
      "source": [
        "      for chunk in pd.read_csv('chess_games.csv', chunksize=chunk_size):"
      ],
      "metadata": {
        "id": "-ceJYMYE4Bj9"
      }
    },
    {
      "cell_type": "markdown",
      "source": [
        "Then, we calculate and measure the File size, Memory usage, and computation time for each chunk process."
      ],
      "metadata": {
        "id": "1QHDMIrT4G8P"
      }
    },
    {
      "cell_type": "code",
      "source": [
        "# Define chunk size\n",
        "\n",
        "chunk_size = 750000\n",
        "\n",
        "# Measure the start time\n",
        "start_time = time.time()\n",
        "\n",
        "# Initialize a variable to store the total number of chunks\n",
        "total_chunks = 0\n",
        "\n",
        "# Initialize variables for file size, computation time, and memory usage\n",
        "total_file_size = 0\n",
        "total_computation_time = 0\n",
        "total_memory_usage = 0\n",
        "\n",
        "# Process data in chunks\n",
        "for chunk in pd.read_csv('chess_games.csv', chunksize=chunk_size):\n",
        "    # Count the number of chunks\n",
        "    total_chunks += 1\n",
        "\n",
        "    # Display information about the chunk\n",
        "    print(f\"Processing Chunk {total_chunks}:\")\n",
        "    print(chunk.head())  # Display the first few rows of the chunk\n",
        "\n",
        "    # Calculate memory usage\n",
        "    memory_usage = chunk.memory_usage().sum() / (1024 ** 2)  # Convert bytes to megabytes\n",
        "    print(f\"Memory Usage: {memory_usage:.2f} MB\")\n",
        "\n",
        "    # Measure the file size\n",
        "    file_size = os.path.getsize('chess_games.csv') / (1024 ** 2)  # Convert bytes to megabytes\n",
        "    print(f\"File Size: {file_size:.2f} MB\")\n",
        "\n",
        "    # Measure the computation time for each chunk\n",
        "    computation_time = time.time() - start_time\n",
        "    print(f\"Computation Time: {computation_time:.2f} seconds\\n\")\n",
        "\n",
        "    # Accumulate total values for file size, computation time, and memory usage\n",
        "    total_file_size += file_size\n",
        "    total_computation_time += computation_time\n",
        "    total_memory_usage += memory_usage\n",
        "\n",
        "# Print overall statistics\n",
        "print(f\"Total Chunks: {total_chunks}\")\n",
        "print(f\"Total File Size: {total_file_size:.2f} MB\")\n",
        "print(f\"Total Computation Time: {total_computation_time:.2f} seconds\")\n",
        "print(f\"Total Memory Usage: {total_memory_usage:.2f} MB\")"
      ],
      "metadata": {
        "id": "b6DPe5WX12mt",
        "colab": {
          "base_uri": "https://localhost:8080/"
        },
        "outputId": "535f19dc-84de-4722-c61f-eb7fc05fc16d"
      },
      "execution_count": 14,
      "outputs": [
        {
          "output_type": "stream",
          "name": "stdout",
          "text": [
            "Processing Chunk 1:\n",
            "                Event            White       Black Result     UTCDate  \\\n",
            "0          Classical           eisaaaa    HAMID449    1-0  2016.06.30   \n",
            "1              Blitz            go4jas  Sergei1973    0-1  2016.06.30   \n",
            "2   Blitz tournament   Evangelistaizac      kafune    1-0  2016.06.30   \n",
            "3     Correspondence            Jvayne    Wsjvayne    1-0  2016.06.30   \n",
            "4   Blitz tournament            kyoday   BrettDale    0-1  2016.06.30   \n",
            "\n",
            "    UTCTime  WhiteElo  BlackElo  WhiteRatingDiff  BlackRatingDiff  ECO  \\\n",
            "0  22:00:01      1901      1896             11.0            -11.0  D10   \n",
            "1  22:00:01      1641      1627            -11.0             12.0  C20   \n",
            "2  22:00:02      1647      1688             13.0            -13.0  B01   \n",
            "3  22:00:02      1706      1317             27.0            -25.0  A00   \n",
            "4  22:00:02      1945      1900            -14.0             13.0  B90   \n",
            "\n",
            "                                         Opening TimeControl   Termination  \\\n",
            "0                                   Slav Defense       300+5  Time forfeit   \n",
            "1                      King's Pawn Opening: 2.b3       300+0        Normal   \n",
            "2  Scandinavian Defense: Mieses-Kotroc Variation       180+0  Time forfeit   \n",
            "3                           Van't Kruijs Opening           -        Normal   \n",
            "4    Sicilian Defense: Najdorf, Lipnitsky Attack       180+0  Time forfeit   \n",
            "\n",
            "                                                  AN  \n",
            "0  1. d4 d5 2. c4 c6 3. e3 a6 4. Nf3 e5 5. cxd5 e...  \n",
            "1  1. e4 e5 2. b3 Nf6 3. Bb2 Nc6 4. Nf3 d6 5. d3 ...  \n",
            "2  1. e4 d5 2. exd5 Qxd5 3. Nf3 Bg4 4. Be2 Nf6 5....  \n",
            "3  1. e3 Nf6 2. Bc4 d6 3. e4 e6 4. Nf3 Nxe4 5. Nd...  \n",
            "4  1. e4 c5 2. Nf3 d6 3. d4 cxd4 4. Nxd4 Nf6 5. N...  \n",
            "Memory Usage: 85.83 MB\n",
            "File Size: 4176.04 MB\n",
            "Computation Time: 12.13 seconds\n",
            "\n",
            "Processing Chunk 2:\n",
            "              Event          White            Black Result     UTCDate  \\\n",
            "750000       Blitz   sleepsterryan         Er_YoOon    1-0  2016.07.04   \n",
            "750001      Bullet     nightphorge       ballantine    0-1  2016.07.04   \n",
            "750002      Bullet        jrphoner     silvanorasta    1-0  2016.07.04   \n",
            "750003   Classical     andreatorre     volodimir-ua    0-1  2016.07.04   \n",
            "750004      Bullet    fins_copycat  nader-rajaii999    0-1  2016.07.04   \n",
            "\n",
            "         UTCTime  WhiteElo  BlackElo  WhiteRatingDiff  BlackRatingDiff  ECO  \\\n",
            "750000  17:59:08      1187      1267             14.0            -14.0  B07   \n",
            "750001  17:59:09      1918      1855            -14.0             14.0  B11   \n",
            "750002  17:59:12      1927      1847              8.0            -17.0  D31   \n",
            "750003  17:59:12      1771      2056             -4.0              4.0  C50   \n",
            "750004  17:59:11      2009      1945            -13.0             12.0  A10   \n",
            "\n",
            "                                                  Opening TimeControl  \\\n",
            "750000                                    Pirc Defense #5       360+2   \n",
            "750001                                  Caro-Kann Defense       120+0   \n",
            "750002  Queen's Gambit Declined: Queen's Knight Variation        60+0   \n",
            "750003                    Italian Game: Giuoco Pianissimo       720+0   \n",
            "750004             English Opening: Great Snake Variation        30+0   \n",
            "\n",
            "         Termination                                                 AN  \n",
            "750000        Normal  1. d4 { [%eval 0.11] } 1... d6 { [%eval 0.37] ...  \n",
            "750001        Normal  1. e4 c6 2. Nc3 d5 3. d3 dxe4 4. dxe4 Nf6 5. Q...  \n",
            "750002        Normal  1. d4 e6 2. c4 d5 3. Nc3 dxc4 4. e3 c5 5. Bxc4...  \n",
            "750003        Normal  1. e4 e5 2. Nf3 Nc6 3. Bc4 Bc5 4. d3 h6 5. O-O...  \n",
            "750004  Time forfeit  1. c4 g6 2. g3 Bg7 3. Bg2 Nf6 4. Nf3 O-O 5. O-...  \n",
            "Memory Usage: 85.83 MB\n",
            "File Size: 4176.04 MB\n",
            "Computation Time: 24.57 seconds\n",
            "\n",
            "Processing Chunk 3:\n",
            "                    Event             White      Black Result     UTCDate  \\\n",
            "1500000        Classical        SlovakChess  tapanyag2    0-1  2016.07.08   \n",
            "1500001           Bullet             nad767  OngongIII    1-0  2016.07.08   \n",
            "1500002        Classical             ps5555    noon_09    1-0  2016.07.08   \n",
            "1500003           Bullet              MeirG  gipsy_man    1-0  2016.07.08   \n",
            "1500004   Correspondence   BeginnerToMaster  diegokarp    1-0  2016.07.08   \n",
            "\n",
            "          UTCTime  WhiteElo  BlackElo  WhiteRatingDiff  BlackRatingDiff  ECO  \\\n",
            "1500000  13:35:09      1736      1838             -8.0              8.0  A45   \n",
            "1500001  13:35:09      2289      2304             10.0            -11.0  B00   \n",
            "1500002  13:35:10      1415      1341              9.0             -8.0  C00   \n",
            "1500003  13:35:10      1949      1801              7.0             -7.0  B07   \n",
            "1500004  13:35:11      1912      1953             42.0            -12.0  B12   \n",
            "\n",
            "                                                   Opening TimeControl  \\\n",
            "1500000                                        Indian Game       600+0   \n",
            "1500001                                       Carr Defense        30+0   \n",
            "1500002                   French Defense: Knight Variation       600+0   \n",
            "1500003                                    Pirc Defense #4        30+0   \n",
            "1500004  Caro-Kann Defense: Advance Variation, Short Va...           -   \n",
            "\n",
            "          Termination                                                 AN  \n",
            "1500000        Normal  1. d4 Nf6 2. h3 e6 3. Bf4 d5 4. e3 Bd6 5. Bxd6...  \n",
            "1500001  Time forfeit  1. e4 h6 2. d4 Rh7 3. Nf3 Rh8 4. Bd3 Rh7 5. Nc...  \n",
            "1500002        Normal  1. e4 e6 2. Nf3 d5 3. exd5 exd5 4. Bd3 f6 5. O...  \n",
            "1500003  Time forfeit  1. e4 d6 2. Nc3 Bd7 3. d4 e6 4. Nf3 Be7 5. Bg5...  \n",
            "1500004        Normal  1. e4 c6 2. d4 d5 3. e5 Bf5 4. Nf3 e6 5. Be2 N...  \n",
            "Memory Usage: 85.83 MB\n",
            "File Size: 4176.04 MB\n",
            "Computation Time: 36.78 seconds\n",
            "\n",
            "Processing Chunk 4:\n",
            "               Event       White         Black Result     UTCDate   UTCTime  \\\n",
            "2250000       Blitz        Rebse         LCWei    0-1  2016.07.12  09:10:53   \n",
            "2250001   Classical         amyk       luam4uk    1-0  2016.07.12  09:10:43   \n",
            "2250002   Classical     DAYSTRUM       bykocer    1-0  2016.07.12  09:10:49   \n",
            "2250003      Bullet        saldm    kodachrome    0-1  2016.07.12  09:10:53   \n",
            "2250004       Blitz   Baobab2308  Pavelshmonov    1-0  2016.07.12  09:10:54   \n",
            "\n",
            "         WhiteElo  BlackElo  WhiteRatingDiff  BlackRatingDiff  ECO  \\\n",
            "2250000      2084      2075            -11.0             11.0  A00   \n",
            "2250001      1568      1303              4.0            -50.0  C00   \n",
            "2250002      1962      1588              3.0             -2.0  A40   \n",
            "2250003      1706      1915             -5.0              6.0  D31   \n",
            "2250004      1847      1833             10.0            -10.0  D00   \n",
            "\n",
            "                                           Opening TimeControl   Termination  \\\n",
            "2250000                             Mieses Opening       180+0        Normal   \n",
            "2250001                          French Defense #2     10800+8  Time forfeit   \n",
            "2250002                         English Defense #2       300+8  Time forfeit   \n",
            "2250003  Semi-Slav Defense: Accelerated Move Order        60+0  Time forfeit   \n",
            "2250004                       Queen's Pawn Game #3       300+0  Time forfeit   \n",
            "\n",
            "                                                        AN  \n",
            "2250000  1. d3 c5 2. Nd2 d5 3. e4 Nc6 4. Ngf3 Bg4 5. Be...  \n",
            "2250001  1. e4 { [%eval 0.28] } 1... e6 { [%eval 0.21] ...  \n",
            "2250002  1. d4 b6 2. c4 Bb7 3. Nc3 g6 4. e4 Bg7 5. d5 B...  \n",
            "2250003  1. d4 d5 2. c4 e6 3. Nc3 c6 4. e3 Nf6 5. Qc2 B...  \n",
            "2250004  1. d4 Nf6 2. e3 d5 3. g3 Bg4 4. Nf3 e6 5. Bg2 ...  \n",
            "Memory Usage: 85.83 MB\n",
            "File Size: 4176.04 MB\n",
            "Computation Time: 49.02 seconds\n",
            "\n",
            "Processing Chunk 5:\n",
            "               Event         White         Black Result     UTCDate   UTCTime  \\\n",
            "3000000       Blitz        tino223     CanesTV25    1-0  2016.07.15  22:32:43   \n",
            "3000001      Bullet   blind-kitten       xjjettx    1-0  2016.07.15  22:32:42   \n",
            "3000002       Blitz     andremoniy  MarkillAidar    1-0  2016.07.15  22:32:40   \n",
            "3000003   Classical       CurseMan      kamideus    0-1  2016.07.15  22:32:46   \n",
            "3000004       Blitz    vvladimir01     jaque_cba    0-1  2016.07.15  22:32:45   \n",
            "\n",
            "         WhiteElo  BlackElo  WhiteRatingDiff  BlackRatingDiff  ECO  \\\n",
            "3000000      1421      1200              5.0             -7.0  B50   \n",
            "3000001      1787      1616              7.0             -7.0  C30   \n",
            "3000002      1473      1522             13.0            -13.0  A01   \n",
            "3000003      1380      1392            -12.0             11.0  E38   \n",
            "3000004      2077      1496            -37.0             30.0  C21   \n",
            "\n",
            "                                                   Opening TimeControl  \\\n",
            "3000000                                   Sicilian Defense         0+5   \n",
            "3000001           King's Gambit Declined, Petrov's Defense        30+0   \n",
            "3000002                                Nimzo-Larsen Attack       180+0   \n",
            "3000003  Nimzo-Indian Defense: Classical Variation, Ber...       420+3   \n",
            "3000004         Danish Gambit Accepted, Copenhagen Defense       300+2   \n",
            "\n",
            "          Termination                                                 AN  \n",
            "3000000        Normal  1. e4 c5 2. Nf3 d6 3. Nc3 Nc6 4. d4 Nf6 5. dxc...  \n",
            "3000001        Normal  1. e4 e5 2. f4 Nf6 3. Nf3 Bc5 4. fxe5 Bf2+ 5. ...  \n",
            "3000002  Time forfeit  1. b3 e6 2. Bb2 Nf6 3. g3 Be7 4. Bg2 O-O 5. Nh...  \n",
            "3000003        Normal  1. d4 e6 2. c4 Nf6 3. Nc3 Bb4 4. Qc2 c5 5. Nf3...  \n",
            "3000004  Time forfeit  1. e4 e5 2. d4 exd4 3. c3 dxc3 4. Bc4 cxb2 5. ...  \n",
            "Memory Usage: 85.83 MB\n",
            "File Size: 4176.04 MB\n",
            "Computation Time: 61.30 seconds\n",
            "\n",
            "Processing Chunk 6:\n",
            "                       Event        White             Black Result  \\\n",
            "3750000   Bullet tournament   Schlamazzal  whitelightknight    1-0   \n",
            "3750001           Classical       Cloiter          dynamo21    1-0   \n",
            "3750002              Bullet       giasnis       inpassing66    0-1   \n",
            "3750003               Blitz       rvo1986          ffernani    1-0   \n",
            "3750004               Blitz    alessioj98         StudyHero    1-0   \n",
            "\n",
            "            UTCDate   UTCTime  WhiteElo  BlackElo  WhiteRatingDiff  \\\n",
            "3750000  2016.07.19  18:14:46      1448      1569             18.0   \n",
            "3750001  2016.07.19  18:14:44      1700      1579              8.0   \n",
            "3750002  2016.07.19  18:14:44      1663      1543            -14.0   \n",
            "3750003  2016.07.19  18:14:46      1764      1602              7.0   \n",
            "3750004  2016.07.19  18:14:30      1843      1761              9.0   \n",
            "\n",
            "         BlackRatingDiff  ECO  \\\n",
            "3750000            -17.0  A00   \n",
            "3750001             -7.0  C65   \n",
            "3750002             15.0  A09   \n",
            "3750003             -7.0  B20   \n",
            "3750004             -9.0  B32   \n",
            "\n",
            "                                                   Opening TimeControl  \\\n",
            "3750000                               Van't Kruijs Opening        60+0   \n",
            "3750001  Ruy Lopez: Berlin Defense, Fishing Pole Variation       300+5   \n",
            "3750002                    Reti Opening: Advance Variation        60+1   \n",
            "3750003                   Sicilian Defense: Bowdler Attack       180+2   \n",
            "3750004             Sicilian Defense: Loewenthal Variation       180+2   \n",
            "\n",
            "          Termination                                                 AN  \n",
            "3750000        Normal        1. e3 b6 2. Bc4 Bb7 3. Qh5 Nf6 4. Qxf7# 1-0  \n",
            "3750001  Time forfeit  1. e4 e5 2. Nf3 Nc6 3. Bb5 Nf6 4. O-O Ng4 5. N...  \n",
            "3750002  Time forfeit  1. Nf3 d5 2. c4 d4 3. e3 e5 4. exd4 exd4 5. d3...  \n",
            "3750003        Normal  1. e4 c5 2. Bc4 Nc6 3. d3 e6 4. a3 h6 5. Nc3 N...  \n",
            "3750004        Normal  1. e4 { [%eval 0.36] } 1... c5 { [%eval 0.3] }...  \n",
            "Memory Usage: 85.83 MB\n",
            "File Size: 4176.04 MB\n",
            "Computation Time: 72.68 seconds\n",
            "\n",
            "Processing Chunk 7:\n",
            "                      Event      White       Black Result     UTCDate  \\\n",
            "4500000              Blitz   Yosimenew    Eldar701    1-0  2016.07.23   \n",
            "4500001   Blitz tournament    FANAMI61        boho    1-0  2016.07.23   \n",
            "4500002              Blitz       KurtB     askilol    1-0  2016.07.23   \n",
            "4500003             Bullet     jibgir2     MichMac    0-1  2016.07.23   \n",
            "4500004             Bullet    olybrius  ELDORADO49    1-0  2016.07.23   \n",
            "\n",
            "          UTCTime  WhiteElo  BlackElo  WhiteRatingDiff  BlackRatingDiff  ECO  \\\n",
            "4500000  12:25:06      1597      1447              7.0             -7.0  C40   \n",
            "4500001  12:25:07      1985      1550              2.0             -2.0  B32   \n",
            "4500002  12:25:08      1575      1387              6.0             -6.0  D32   \n",
            "4500003  12:25:06      2017      2250             -5.0              4.0  A04   \n",
            "4500004  12:25:06      1793      1884             13.0            -13.0  A00   \n",
            "\n",
            "                                                   Opening TimeControl  \\\n",
            "4500000                King's Pawn Game: Busch-Gass Gambit       300+0   \n",
            "4500001        Sicilian Defense: Franco-Sicilian Variation       180+0   \n",
            "4500002  Queen's Gambit Declined: Tarrasch Defense: 4.c...       300+0   \n",
            "4500003             Zukertort Opening: Kingside Fianchetto       120+0   \n",
            "4500004                                     Polish Opening         0+1   \n",
            "\n",
            "          Termination                                                 AN  \n",
            "4500000        Normal  1. e4 e5 2. Nf3 Bc5 3. c3 d6 4. d4 exd4 5. cxd...  \n",
            "4500001        Normal  1. e4 e6 2. Nf3 c5 3. d4 Nc6 4. d5 exd5 5. exd...  \n",
            "4500002        Normal  1. d4 d5 2. c4 e6 3. Nc3 c5 4. cxd5 exd5 5. dx...  \n",
            "4500003  Time forfeit  1. Nf3 g6 2. d3 Bg7 3. e3 e6 4. Nbd2 Ne7 5. Be...  \n",
            "4500004  Time forfeit  1. b4 e6 2. Bb2 d5 3. e3 Nf6 4. a3 Be7 5. Nf3 ...  \n",
            "Memory Usage: 85.83 MB\n",
            "File Size: 4176.04 MB\n",
            "Computation Time: 84.33 seconds\n",
            "\n",
            "Processing Chunk 8:\n",
            "               Event            White           Black Result     UTCDate  \\\n",
            "5250000   Classical           Xavez00        cjturner    0-1  2016.07.27   \n",
            "5250001      Bullet            Tyfoon     traderchess    0-1  2016.07.27   \n",
            "5250002       Blitz          julian95        sagacity    1-0  2016.07.27   \n",
            "5250003      Bullet   unsullied_lemon  especialista33    0-1  2016.07.27   \n",
            "5250004   Classical           zodoman     SidneiNegri    0-1  2016.07.27   \n",
            "\n",
            "          UTCTime  WhiteElo  BlackElo  WhiteRatingDiff  BlackRatingDiff  ECO  \\\n",
            "5250000  01:25:02      1444      1630             -7.0              6.0  B01   \n",
            "5250001  01:24:47      1559      1833            -33.0              4.0  A04   \n",
            "5250002  01:25:05      1664      1623             11.0             -9.0  B01   \n",
            "5250003  01:24:59      1650      1627            -12.0             12.0  C00   \n",
            "5250004  01:24:32      1616      1549            -12.0             12.0  D00   \n",
            "\n",
            "                                                   Opening TimeControl  \\\n",
            "5250000                    Scandinavian Defense: Main Line      600+10   \n",
            "5250001                 Zukertort Opening: Pirc Invitation       120+0   \n",
            "5250002  Scandinavian Defense: Anderssen Counterattack,...       300+0   \n",
            "5250003                   French Defense: Knight Variation       120+0   \n",
            "5250004                               Queen's Pawn Game #3       600+0   \n",
            "\n",
            "          Termination                                                 AN  \n",
            "5250000        Normal  1. e4 d5 2. exd5 Qxd5 3. Nc3 Qa5 4. Nf3 Nf6 5....  \n",
            "5250001        Normal  1. Nf3 d6 2. d4 c6 3. c4 Qc7 4. Nc3 e5 5. e4 N...  \n",
            "5250002        Normal  1. e4 e5 2. Nf3 d5 3. exd5 Qxd5 4. Nc3 Qa5 5. ...  \n",
            "5250003  Time forfeit  1. e4 e6 2. Nf3 c6 3. d4 d5 4. exd5 Ne7 5. dxe...  \n",
            "5250004        Normal  1. d4 { [%eval 0.18] } 1... d5 { [%eval 0.14] ...  \n",
            "Memory Usage: 85.83 MB\n",
            "File Size: 4176.04 MB\n",
            "Computation Time: 96.65 seconds\n",
            "\n",
            "Processing Chunk 9:\n",
            "               Event          White       Black Result     UTCDate   UTCTime  \\\n",
            "6000000      Bullet     sayadbahram    Evenflow    0-1  2016.07.30  17:44:38   \n",
            "6000001   Classical   andjeogabriel    shahpari    1-0  2016.07.30  17:44:35   \n",
            "6000002      Bullet         RmzVoid  webhosting    0-1  2016.07.30  17:44:37   \n",
            "6000003   Classical          vale23     motyapa    1-0  2016.07.30  17:44:39   \n",
            "6000004       Blitz       gringovgb    Rei_Nato    0-1  2016.07.30  17:44:33   \n",
            "\n",
            "         WhiteElo  BlackElo  WhiteRatingDiff  BlackRatingDiff  ECO  \\\n",
            "6000000      1533      1531            -14.0              9.0  A00   \n",
            "6000001      2175      1931              5.0             -5.0  B45   \n",
            "6000002      1239      1496            -33.0              6.0  C47   \n",
            "6000003      1697      1727             11.0            -11.0  B50   \n",
            "6000004      1568      1880             -4.0              3.0  C20   \n",
            "\n",
            "                                              Opening TimeControl  \\\n",
            "6000000                          Van't Kruijs Opening        60+0   \n",
            "6000001      Sicilian Defense: Four Knights Variation       480+0   \n",
            "6000002  Four Knights Game: Scotch Variation Accepted        45+3   \n",
            "6000003              Sicilian Defense: Delayed Alapin      480+10   \n",
            "6000004               Bishop's Opening: Boi Variation       180+0   \n",
            "\n",
            "          Termination                                                 AN  \n",
            "6000000        Normal  1. e3 Nf6 2. b3 e5 3. Bb2 Nc6 4. g3 a6 5. Nf3 ...  \n",
            "6000001  Time forfeit  1. e4 { [%eval 0.27] } 1... c5 { [%eval 0.27] ...  \n",
            "6000002        Normal  1. e4 e5 2. Nf3 Nf6 3. Nc3 Nc6 4. d4 exd4 5. N...  \n",
            "6000003        Normal  1. e4 c5 2. Nf3 d6 3. c3 Nc6 4. Bb5 Bd7 5. O-O...  \n",
            "6000004        Normal  1. e4 e5 2. Bc4 Bc5 3. d3 Qh4 4. Nf3 Qf6 5. Be...  \n",
            "Memory Usage: 29.32 MB\n",
            "File Size: 4176.04 MB\n",
            "Computation Time: 101.41 seconds\n",
            "\n",
            "Total Chunks: 9\n",
            "Total File Size: 37584.36 MB\n",
            "Total Computation Time: 538.87 seconds\n",
            "Total Memory Usage: 715.96 MB\n"
          ]
        }
      ]
    },
    {
      "cell_type": "markdown",
      "source": [
        "## Optimize Data Types:\n",
        "Fine-tune data types to maximize efficiency and minimize memory consumption."
      ],
      "metadata": {
        "id": "ylEMoEG_Yyf1"
      }
    },
    {
      "cell_type": "markdown",
      "source": [
        "Optimizing the data types is crucially in making sure the machine can run faster thus cutting the cost and also time for analysis.\n",
        "\n",
        "In our case, we 'downsize' the integer from **int64** to **int16** depending on the data itself. Next we also change the **object** data type to **category**. By doing this, we make sure that by reducing memory usage when dealing with large datasets, it allows for more efficient storage and faster processing.\n",
        "\n",
        "    # Convert numeric columns to more memory-efficient types\n",
        "      numeric_cols = ['WhiteElo', 'BlackElo', 'WhiteRatingDiff', 'BlackRatingDiff']\n",
        "      df_optimized[numeric_cols] = df_optimized[numeric_cols].apply(pd.to_numeric, downcast='integer', errors='coerce')\n",
        "\n",
        "    # Convert object columns to category if applicable\n",
        "      object_cols = ['Event', 'Result', 'Opening', 'Termination']\n",
        "    df_optimized[object_cols] = df_optimized[object_cols].astype('category')"
      ],
      "metadata": {
        "id": "kIDIEwU42UP7"
      }
    },
    {
      "cell_type": "code",
      "source": [
        "df_selected.info()"
      ],
      "metadata": {
        "id": "zlbKFjEfl2G6",
        "colab": {
          "base_uri": "https://localhost:8080/"
        },
        "outputId": "98e854d9-442e-4a92-a69f-dced5e1ad895"
      },
      "execution_count": 15,
      "outputs": [
        {
          "output_type": "stream",
          "name": "stdout",
          "text": [
            "<class 'pandas.core.frame.DataFrame'>\n",
            "RangeIndex: 6256184 entries, 0 to 6256183\n",
            "Data columns (total 8 columns):\n",
            " #   Column           Dtype  \n",
            "---  ------           -----  \n",
            " 0   Event            object \n",
            " 1   Result           object \n",
            " 2   WhiteElo         int64  \n",
            " 3   BlackElo         int64  \n",
            " 4   WhiteRatingDiff  float64\n",
            " 5   BlackRatingDiff  float64\n",
            " 6   Opening          object \n",
            " 7   Termination      object \n",
            "dtypes: float64(2), int64(2), object(4)\n",
            "memory usage: 381.8+ MB\n"
          ]
        }
      ]
    },
    {
      "cell_type": "code",
      "source": [
        "# Measure the start time\n",
        "start_time = time.time()\n",
        "\n",
        "# Display the original memory usage\n",
        "original_memory_usage = df_selected.memory_usage(deep=True).sum() / (1024 ** 2)  # Convert bytes to megabytes\n",
        "print(f\"Original Memory Usage: {original_memory_usage:.2f} MB\")\n",
        "\n",
        "# Optimize data types\n",
        "df_optimized = df_selected.copy()\n",
        "\n",
        "# Convert numeric columns to more memory-efficient types\n",
        "numeric_cols = ['WhiteElo', 'BlackElo', 'WhiteRatingDiff', 'BlackRatingDiff']\n",
        "df_optimized[numeric_cols] = df_optimized[numeric_cols].apply(pd.to_numeric, downcast='integer', errors='coerce')\n",
        "\n",
        "# Convert object columns to category if applicable\n",
        "object_cols = ['Event', 'Result', 'Opening', 'Termination']\n",
        "df_optimized[object_cols] = df_optimized[object_cols].astype('category')\n",
        "\n",
        "\n",
        "# Measure the end time\n",
        "end_time = time.time()\n",
        "\n",
        "# Display the optimized memory usage\n",
        "optimized_memory_usage = df_optimized.memory_usage(deep=True).sum() / (1024 ** 2)  # Convert bytes to megabytes\n",
        "print(f\"Optimized Memory Usage: {optimized_memory_usage:.2f} MB\")\n",
        "\n",
        "# Compare the memory usage reduction\n",
        "memory_reduction = (original_memory_usage - optimized_memory_usage) / original_memory_usage * 100\n",
        "print(f\"Memory Reduction: {memory_reduction:.2f}%\")"
      ],
      "metadata": {
        "id": "r_bYizCNY4gz",
        "colab": {
          "base_uri": "https://localhost:8080/"
        },
        "outputId": "94702e3a-496d-47c6-b633-3bf390a1344d"
      },
      "execution_count": 16,
      "outputs": [
        {
          "output_type": "stream",
          "name": "stdout",
          "text": [
            "Original Memory Usage: 1864.15 MB\n",
            "Optimized Memory Usage: 149.51 MB\n",
            "Memory Reduction: 91.98%\n"
          ]
        }
      ]
    },
    {
      "cell_type": "code",
      "source": [
        "df_optimized.info()"
      ],
      "metadata": {
        "id": "uPK3lp3kl-j9",
        "colab": {
          "base_uri": "https://localhost:8080/"
        },
        "outputId": "623252fd-f726-4da7-edd4-1a09744a5f78"
      },
      "execution_count": 17,
      "outputs": [
        {
          "output_type": "stream",
          "name": "stdout",
          "text": [
            "<class 'pandas.core.frame.DataFrame'>\n",
            "RangeIndex: 6256184 entries, 0 to 6256183\n",
            "Data columns (total 8 columns):\n",
            " #   Column           Dtype   \n",
            "---  ------           -----   \n",
            " 0   Event            category\n",
            " 1   Result           category\n",
            " 2   WhiteElo         int16   \n",
            " 3   BlackElo         int16   \n",
            " 4   WhiteRatingDiff  float64 \n",
            " 5   BlackRatingDiff  float64 \n",
            " 6   Opening          category\n",
            " 7   Termination      category\n",
            "dtypes: category(4), float64(2), int16(2)\n",
            "memory usage: 149.2 MB\n"
          ]
        }
      ]
    },
    {
      "cell_type": "markdown",
      "source": [
        "Computation Time for Optimize Data Type Operations"
      ],
      "metadata": {
        "id": "Y-rDFinTntVk"
      }
    },
    {
      "cell_type": "code",
      "source": [
        "# Calculate computation time\n",
        "computation_time = end_time - start_time"
      ],
      "metadata": {
        "id": "sP2soGHUl-z-"
      },
      "execution_count": 18,
      "outputs": []
    },
    {
      "cell_type": "markdown",
      "source": [
        "Memory Usage for Optimize Data Type Operation"
      ],
      "metadata": {
        "id": "XffoUXpkny8S"
      }
    },
    {
      "cell_type": "code",
      "source": [
        "# Calculate memory usage for the optimized DataFrame\n",
        "optimized_memory_size = df_optimized.memory_usage(deep=True).sum()\n",
        "\n",
        "# Convert bytes to megabytes\n",
        "optimized_memory_size_mb = optimized_memory_size / (1024 ** 2)"
      ],
      "metadata": {
        "id": "jla8OezYmDLC"
      },
      "execution_count": 19,
      "outputs": []
    },
    {
      "cell_type": "markdown",
      "source": [
        "Result"
      ],
      "metadata": {
        "id": "O2Ru_556n16K"
      }
    },
    {
      "cell_type": "code",
      "source": [
        "print(f\"Computation Time: {computation_time:.2f} seconds\")\n",
        "print(f\"Optimized Memory Size: {optimized_memory_size_mb:.2f} MB\")"
      ],
      "metadata": {
        "id": "cTV7Zlu6mFER",
        "colab": {
          "base_uri": "https://localhost:8080/"
        },
        "outputId": "5b7710dd-c79f-4546-f331-7e143ee89290"
      },
      "execution_count": 20,
      "outputs": [
        {
          "output_type": "stream",
          "name": "stdout",
          "text": [
            "Computation Time: 7.78 seconds\n",
            "Optimized Memory Size: 149.51 MB\n"
          ]
        }
      ]
    },
    {
      "cell_type": "markdown",
      "source": [
        "## Sampling:\n",
        "Implement sampling methodologies to extract meaningful insights from a subset of the dataset."
      ],
      "metadata": {
        "id": "ahGlXWJ9ZAub"
      }
    },
    {
      "cell_type": "markdown",
      "source": [
        "Sampling is a method where we take a subset from an original dataset (df_selected). There are 2 type of sampling that we done which are **Random Sampling** and **Stratified Sampling**.\n",
        "\n",
        "**Random Sampling** is a method where it randomizely take 10% of the whole dataset. Based on the code given:\n",
        "\n",
        "    random_sampled_data = df_selected.sample(frac=0.1, random_state=42)\n",
        "\n",
        "**Stratified Sampling** is a method where it also take 10% of the whole dataset. But, it will keep the unique values of the category column data type. This is advantageous to potray the representation for each category of the dataset.\n",
        "\n",
        "    stratified_sampled_data = df_selected.groupby(category_column, group_keys=False).apply(lambda x: x.sample(frac=0.1, random_state=42))"
      ],
      "metadata": {
        "id": "cB-b90Wv21Xx"
      }
    },
    {
      "cell_type": "code",
      "source": [
        "category_column = ['Event', 'Result', 'Opening', 'Termination']\n",
        "\n",
        "start_time = time.time()\n",
        "\n",
        "# Random sampling (10% of the DataFrame)\n",
        "random_sampled_data = df_selected.sample(frac=0.1, random_state=42)  # Adjust random_state if reproducibility is needed\n",
        "\n",
        "# Measure the end time for random sampling\n",
        "random_sampling_time = time.time() - start_time\n",
        "\n",
        "# Stratified sampling (10% within each category of 'category_column')\n",
        "start_time = time.time()\n",
        "stratified_sampled_data = df_selected.groupby(category_column, group_keys=False).apply(lambda x: x.sample(frac=0.1, random_state=42))\n",
        "\n",
        "# Measure the end time for stratified sampling\n",
        "stratified_sampling_time = time.time() - start_time\n",
        "\n"
      ],
      "metadata": {
        "id": "yAyvUYMhZDNl"
      },
      "execution_count": 21,
      "outputs": []
    },
    {
      "cell_type": "markdown",
      "source": [
        "Memory usage for random sampling\n"
      ],
      "metadata": {
        "id": "OTLJlWxonO1J"
      }
    },
    {
      "cell_type": "code",
      "source": [
        "# Calculate memory usage for random sampling\n",
        "random_memory_usage = random_sampled_data.memory_usage().sum() / (1024 ** 2)  # Convert bytes to megabytes"
      ],
      "metadata": {
        "id": "wOzcBiJU9b_t"
      },
      "execution_count": 22,
      "outputs": []
    },
    {
      "cell_type": "markdown",
      "source": [
        "Memory usage for stratified sampling"
      ],
      "metadata": {
        "id": "Mg1yYrO2nWIC"
      }
    },
    {
      "cell_type": "code",
      "source": [
        "# Calculate memory usage for stratified sampling\n",
        "stratified_memory_usage = stratified_sampled_data.memory_usage().sum() / (1024 ** 2)  # Convert bytes to megabytes"
      ],
      "metadata": {
        "id": "7J3fuHs8-Qkf"
      },
      "execution_count": 23,
      "outputs": []
    },
    {
      "cell_type": "markdown",
      "source": [
        "File size for Random sampling"
      ],
      "metadata": {
        "id": "YXFDsHHnnZO-"
      }
    },
    {
      "cell_type": "code",
      "source": [
        "# Random Sample File Size\n",
        "csv_representation = random_sampled_data.to_csv(index=False)\n",
        "csv_size = len(csv_representation.encode('utf-8')) / (1024 ** 2)  # Convert bytes to megabytes"
      ],
      "metadata": {
        "id": "VEi8TGUT-S8v"
      },
      "execution_count": 24,
      "outputs": []
    },
    {
      "cell_type": "markdown",
      "source": [
        "File size for Stratified sampling"
      ],
      "metadata": {
        "id": "O2bWe3ypnbjj"
      }
    },
    {
      "cell_type": "code",
      "source": [
        "# Stratified Sampling File Size\n",
        "csv_representation2 = stratified_sampled_data.to_csv(index=False)\n",
        "csv_size2 = len(csv_representation2.encode('utf-8')) / (1024 ** 2)  # Convert bytes to megabytes"
      ],
      "metadata": {
        "id": "geQfxFeFlwYp"
      },
      "execution_count": 25,
      "outputs": []
    },
    {
      "cell_type": "markdown",
      "source": [
        "Result"
      ],
      "metadata": {
        "id": "vqUwu5qkneUW"
      }
    },
    {
      "cell_type": "code",
      "source": [
        "# Print the results\n",
        "print(f\"\\nRandom Sampling:\")\n",
        "print(f\"Memory Usage: {random_memory_usage:.2f} MB\")\n",
        "print(f\"Computation Time: {random_sampling_time:.2f} seconds\")\n",
        "\n",
        "print(f\"\\nStratified Sampling:\")\n",
        "print(f\"Memory Usage: {stratified_memory_usage:.2f} MB\")\n",
        "print(f\"Computation Time: {stratified_sampling_time:.2f} seconds\")\n",
        "\n",
        "print(f\"\\nRandom Sampling File Size: {csv_size:.2f} MB\")\n",
        "print(f\"\\nStratified Sampling File Size: {csv_size:.2f} MB\")"
      ],
      "metadata": {
        "id": "bywoGL6--VAQ",
        "colab": {
          "base_uri": "https://localhost:8080/"
        },
        "outputId": "1408f84d-3304-4f44-9f48-e99e24297563"
      },
      "execution_count": 26,
      "outputs": [
        {
          "output_type": "stream",
          "name": "stdout",
          "text": [
            "\n",
            "Random Sampling:\n",
            "Memory Usage: 42.96 MB\n",
            "Computation Time: 0.80 seconds\n",
            "\n",
            "Stratified Sampling:\n",
            "Memory Usage: 42.60 MB\n",
            "Computation Time: 63.07 seconds\n",
            "\n",
            "Random Sampling File Size: 45.80 MB\n",
            "\n",
            "Stratified Sampling File Size: 45.80 MB\n"
          ]
        }
      ]
    },
    {
      "cell_type": "markdown",
      "source": [
        "## Paralellize Using Dask"
      ],
      "metadata": {
        "id": "FrFKGwoJGCbr"
      }
    },
    {
      "cell_type": "markdown",
      "source": [
        "Install Dask"
      ],
      "metadata": {
        "id": "1evt7TvWuwU_"
      }
    },
    {
      "cell_type": "code",
      "source": [
        "# installing dask\n",
        "!pip install \"dask[complete]\"    # Install everything"
      ],
      "metadata": {
        "colab": {
          "base_uri": "https://localhost:8080/"
        },
        "id": "F0vdwyU-8B89",
        "outputId": "d31224be-d46e-4257-ad0d-f358824add46"
      },
      "execution_count": 27,
      "outputs": [
        {
          "output_type": "stream",
          "name": "stdout",
          "text": [
            "Requirement already satisfied: dask[complete] in /usr/local/lib/python3.10/dist-packages (2023.8.1)\n",
            "Requirement already satisfied: click>=8.0 in /usr/local/lib/python3.10/dist-packages (from dask[complete]) (8.1.7)\n",
            "Requirement already satisfied: cloudpickle>=1.5.0 in /usr/local/lib/python3.10/dist-packages (from dask[complete]) (2.2.1)\n",
            "Requirement already satisfied: fsspec>=2021.09.0 in /usr/local/lib/python3.10/dist-packages (from dask[complete]) (2023.6.0)\n",
            "Requirement already satisfied: packaging>=20.0 in /usr/local/lib/python3.10/dist-packages (from dask[complete]) (23.2)\n",
            "Requirement already satisfied: partd>=1.2.0 in /usr/local/lib/python3.10/dist-packages (from dask[complete]) (1.4.1)\n",
            "Requirement already satisfied: pyyaml>=5.3.1 in /usr/local/lib/python3.10/dist-packages (from dask[complete]) (6.0.1)\n",
            "Requirement already satisfied: toolz>=0.10.0 in /usr/local/lib/python3.10/dist-packages (from dask[complete]) (0.12.0)\n",
            "Requirement already satisfied: importlib-metadata>=4.13.0 in /usr/local/lib/python3.10/dist-packages (from dask[complete]) (7.0.0)\n",
            "Requirement already satisfied: pyarrow>=7.0 in /usr/local/lib/python3.10/dist-packages (from dask[complete]) (10.0.1)\n",
            "Requirement already satisfied: lz4>=4.3.2 in /usr/local/lib/python3.10/dist-packages (from dask[complete]) (4.3.2)\n",
            "Requirement already satisfied: zipp>=0.5 in /usr/local/lib/python3.10/dist-packages (from importlib-metadata>=4.13.0->dask[complete]) (3.17.0)\n",
            "Requirement already satisfied: locket in /usr/local/lib/python3.10/dist-packages (from partd>=1.2.0->dask[complete]) (1.0.0)\n",
            "Requirement already satisfied: numpy>=1.16.6 in /usr/local/lib/python3.10/dist-packages (from pyarrow>=7.0->dask[complete]) (1.23.5)\n",
            "Requirement already satisfied: distributed==2023.8.1 in /usr/local/lib/python3.10/dist-packages (from dask[complete]) (2023.8.1)\n",
            "Requirement already satisfied: bokeh>=2.4.2 in /usr/local/lib/python3.10/dist-packages (from dask[complete]) (3.3.2)\n",
            "Requirement already satisfied: jinja2>=2.10.3 in /usr/local/lib/python3.10/dist-packages (from dask[complete]) (3.1.2)\n",
            "Requirement already satisfied: pandas>=1.3 in /usr/local/lib/python3.10/dist-packages (from dask[complete]) (1.5.3)\n",
            "Requirement already satisfied: msgpack>=1.0.0 in /usr/local/lib/python3.10/dist-packages (from distributed==2023.8.1->dask[complete]) (1.0.7)\n",
            "Requirement already satisfied: psutil>=5.7.2 in /usr/local/lib/python3.10/dist-packages (from distributed==2023.8.1->dask[complete]) (5.9.5)\n",
            "Requirement already satisfied: sortedcontainers>=2.0.5 in /usr/local/lib/python3.10/dist-packages (from distributed==2023.8.1->dask[complete]) (2.4.0)\n",
            "Requirement already satisfied: tblib>=1.6.0 in /usr/local/lib/python3.10/dist-packages (from distributed==2023.8.1->dask[complete]) (3.0.0)\n",
            "Requirement already satisfied: tornado>=6.0.4 in /usr/local/lib/python3.10/dist-packages (from distributed==2023.8.1->dask[complete]) (6.3.2)\n",
            "Requirement already satisfied: urllib3>=1.24.3 in /usr/local/lib/python3.10/dist-packages (from distributed==2023.8.1->dask[complete]) (2.0.7)\n",
            "Requirement already satisfied: zict>=2.2.0 in /usr/local/lib/python3.10/dist-packages (from distributed==2023.8.1->dask[complete]) (3.0.0)\n",
            "Requirement already satisfied: contourpy>=1 in /usr/local/lib/python3.10/dist-packages (from bokeh>=2.4.2->dask[complete]) (1.2.0)\n",
            "Requirement already satisfied: pillow>=7.1.0 in /usr/local/lib/python3.10/dist-packages (from bokeh>=2.4.2->dask[complete]) (9.4.0)\n",
            "Requirement already satisfied: xyzservices>=2021.09.1 in /usr/local/lib/python3.10/dist-packages (from bokeh>=2.4.2->dask[complete]) (2023.10.1)\n",
            "Requirement already satisfied: MarkupSafe>=2.0 in /usr/local/lib/python3.10/dist-packages (from jinja2>=2.10.3->dask[complete]) (2.1.3)\n",
            "Requirement already satisfied: python-dateutil>=2.8.1 in /usr/local/lib/python3.10/dist-packages (from pandas>=1.3->dask[complete]) (2.8.2)\n",
            "Requirement already satisfied: pytz>=2020.1 in /usr/local/lib/python3.10/dist-packages (from pandas>=1.3->dask[complete]) (2023.3.post1)\n",
            "Requirement already satisfied: six>=1.5 in /usr/local/lib/python3.10/dist-packages (from python-dateutil>=2.8.1->pandas>=1.3->dask[complete]) (1.16.0)\n"
          ]
        }
      ]
    },
    {
      "cell_type": "markdown",
      "source": [
        "Import necessary library from Dask, in this case dask.dataframe"
      ],
      "metadata": {
        "id": "vn1TM3eUu3Mf"
      }
    },
    {
      "cell_type": "code",
      "source": [
        "import dask.dataframe as dd"
      ],
      "metadata": {
        "id": "77eBcl4kXb4H"
      },
      "execution_count": 28,
      "outputs": []
    },
    {
      "cell_type": "markdown",
      "source": [
        "Specify file_path"
      ],
      "metadata": {
        "id": "wgeHi-67vASF"
      }
    },
    {
      "cell_type": "code",
      "source": [
        "file_path = 'chess_games.csv'"
      ],
      "metadata": {
        "id": "R_i43fBsh8Zj"
      },
      "execution_count": 29,
      "outputs": []
    },
    {
      "cell_type": "markdown",
      "source": [
        "Calculate file size in MB"
      ],
      "metadata": {
        "id": "UQJcoeeavEhQ"
      }
    },
    {
      "cell_type": "code",
      "source": [
        "file_size_dask = os.path.getsize(file_path) / (1024 * 1024)\n",
        "print(f\"File size: {file_size_dask} MB\")"
      ],
      "metadata": {
        "colab": {
          "base_uri": "https://localhost:8080/"
        },
        "id": "LJcIzGSeiDIP",
        "outputId": "ca31c4e7-4d72-4302-814f-3eae3b118e86"
      },
      "execution_count": 30,
      "outputs": [
        {
          "output_type": "stream",
          "name": "stdout",
          "text": [
            "File size: 4176.039845466614 MB\n"
          ]
        }
      ]
    },
    {
      "cell_type": "markdown",
      "source": [
        "Calculate time taken to read file using dd.read_csv"
      ],
      "metadata": {
        "id": "UNonx4O7vJ2Z"
      }
    },
    {
      "cell_type": "code",
      "source": [
        "start_time = time.time()\n",
        "\n",
        "dask_df = dd.read_csv(file_path)\n",
        "\n",
        "end_time = time.time()\n",
        "time_taken = end_time - start_time\n",
        "print(f\"Time taken to read file using Dask: {time_taken}\")"
      ],
      "metadata": {
        "id": "ScjftJiVh_yl",
        "colab": {
          "base_uri": "https://localhost:8080/"
        },
        "outputId": "f910a363-952d-48c2-8daa-8cb74b176a69"
      },
      "execution_count": 31,
      "outputs": [
        {
          "output_type": "stream",
          "name": "stdout",
          "text": [
            "Time taken to read file using Dask: 0.021546363830566406\n"
          ]
        }
      ]
    },
    {
      "cell_type": "markdown",
      "source": [
        "Calculate memory usage and time taken when using dask to compute calculation in this case, mean of Black's ELO"
      ],
      "metadata": {
        "id": "_sBrekD6vWck"
      }
    },
    {
      "cell_type": "code",
      "source": [
        "memory_before = psutil.Process().memory_info().rss / 1024 / 1024\n",
        "start_time = time.time()\n",
        "\n",
        "mean_black_elo = dask_df['BlackElo'].mean().compute()\n",
        "\n",
        "end_time = time.time()\n",
        "memory_after = psutil.Process().memory_info().rss / 1024 / 1024"
      ],
      "metadata": {
        "id": "ZQIcSf5tiS6V"
      },
      "execution_count": 32,
      "outputs": []
    },
    {
      "cell_type": "code",
      "source": [
        "memory_used = memory_after - memory_before\n",
        "\n",
        "print(f\"Memory used to calculate mean using Dask: {memory_used} MB\")\n",
        "print(f\"Time taken to calculate mean using Dask: {time_taken} seconds\")"
      ],
      "metadata": {
        "colab": {
          "base_uri": "https://localhost:8080/"
        },
        "id": "mBmUOwLxfKmT",
        "outputId": "fc96696e-861f-47c3-ad62-41b8010cccdc"
      },
      "execution_count": 33,
      "outputs": [
        {
          "output_type": "stream",
          "name": "stdout",
          "text": [
            "Memory used to calculate mean using Dask: 138.28515625 MB\n",
            "Time taken to calculate mean using Dask: 0.021546363830566406 seconds\n"
          ]
        }
      ]
    },
    {
      "cell_type": "markdown",
      "source": [
        "## Comparative Analysis"
      ],
      "metadata": {
        "id": "buY4rgp-vwHr"
      }
    },
    {
      "cell_type": "markdown",
      "source": [
        "Strategy\n",
        "- Load Less Data\n",
        "\n",
        "  Memory Usage: 381.85 MB  \n",
        "  Computation Time: 61.41 seconds  \n",
        "  File Size: 4176.04 MB\n",
        "\n",
        "- Chunking\n",
        "\n",
        "  Total File Size is 37584.36 MB  \n",
        "  Total Computation Time: 528.38 seconds  \n",
        "  Total Memory Usage: 715.96 MB  \n",
        "\n",
        "- Data Type Optimization\n",
        "\n",
        "  Original Memory Usage: 1864.15 MB  \n",
        "  Optimized Memory Usage: 149.51 MB  \n",
        "  Memory Reduction: 91.98%  \n",
        "  Computation Time: 9.36 seconds  \n",
        "\n",
        "- Sampling\n",
        "\n",
        "  Random Sampling:\n",
        "\n",
        "  - Memory Usage: 42.96 MB  \n",
        "  - Computation Time: 0.84 seconds  \n",
        "\n",
        "  Stratified Sampling:\n",
        "\n",
        "  - Memory Usage: 42.60 MB  \n",
        "  - Computation Time: 72.16 seconds  \n",
        "\n",
        "  Random Sampling File Size: 45.80 MB  \n",
        "\n",
        "  Stratified Sampling File Size: 45.80 MB  \n",
        "\n",
        "- Parallelize with Dask\n",
        "\n",
        "  File size: 4176.039845466614 MB  \n",
        "  Time taken to read file using Dask: 0.02105093002319336  \n",
        "  Memory used to calculate mean using Dask: 9.3203125 MB  \n",
        "  Time taken to calculate mean using Dask: 0.02105093002319336 seconds  "
      ],
      "metadata": {
        "id": "DJmhKQurv0N5"
      }
    },
    {
      "cell_type": "markdown",
      "source": [
        "## Conclusion"
      ],
      "metadata": {
        "id": "zQwd1qZOzu_i"
      }
    },
    {
      "cell_type": "markdown",
      "source": [
        "1. Data Loading:  \n",
        "Objective: The strategy involves loading only the necessary data, thereby reducing both memory usage and computation time.  \n",
        "\n",
        "  Advantages:\n",
        "  - Minimizes the amount of data loaded into memory.\n",
        "  - Reduces the time spent on loading unnecessary data.\n",
        "\n",
        "2. Chunking:  \n",
        "  Objective: Divide large files into smaller chunks to facilitate processing in more manageable pieces.\n",
        "\n",
        "  Advantages:\n",
        "  - Enables processing of large datasets that may not fit into memory.\n",
        "  - Supports parallel processing on smaller chunks.\n",
        "\n",
        "3. Data Type Optimization:  \n",
        "  Objective: Optimize the data types of variables to use less memory while maintaining data integrity.  \n",
        "  Advantages:\n",
        "  - Reduces memory usage significantly, especially for large datasets.\n",
        "  - Improves computation time by minimizing the amount of data transferred.\n",
        "\n",
        "4. Sampling:  \n",
        "  Objective: Select a subset of data points from the entire dataset for analysis.\n",
        "\n",
        "  Advantages:\n",
        "  - Reduces memory usage and computation time by working with a smaller sample.\n",
        "  - Random sampling is quicker and more memory-efficient than stratified sampling.\n",
        "\n",
        "5. Parallelization with Dask:  \n",
        "  Objective: Leverage Dask for parallel and distributed computing to process data more efficiently.\n",
        "\n",
        "  Advantages:\n",
        "  - Enables parallel processing, reducing overall computation time.\n",
        "  - Distributes computation across multiple cores or machines, addressing memory constraints.\n",
        "\n",
        "\n",
        "Each strategy addresses specific challenges related to memory usage and computation time. The choice of strategy depends on the nature of the data, the analytical tasks at hand, and the available computing resources."
      ],
      "metadata": {
        "id": "vpdTLxj3zzo1"
      }
    }
  ]
}
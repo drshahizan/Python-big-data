{
  "nbformat": 4,
  "nbformat_minor": 0,
  "metadata": {
    "colab": {
      "provenance": [],
      "include_colab_link": true
    },
    "kernelspec": {
      "name": "python3",
      "display_name": "Python 3"
    },
    "language_info": {
      "name": "python"
    }
  },
  "cells": [
    {
      "cell_type": "markdown",
      "metadata": {
        "id": "view-in-github",
        "colab_type": "text"
      },
      "source": [
        "<a href=\"https://colab.research.google.com/github/drshahizan/Python-big-data/blob/main/assignment/ass6/hpdp/NoCarNoFriend/Assignment_6_Big_Data_Handling.ipynb\" target=\"_parent\"><img src=\"https://colab.research.google.com/assets/colab-badge.svg\" alt=\"Open In Colab\"/></a>"
      ]
    },
    {
      "cell_type": "markdown",
      "source": [
        "# Assignment 6: Big Data Handling\n"
      ],
      "metadata": {
        "id": "Q0P06w35bplS"
      }
    },
    {
      "cell_type": "markdown",
      "source": [
        "## Group Name: NO CAR NO FRIEND\n",
        "\n",
        "### Group Members:\n",
        "| Name                                      | Matrix Number   |\n",
        "| :---------------------------------------- | :-------------: |\n",
        "| SAM CHIA YUN                              |A21EC0127        |\n",
        "| YEW RUI XIANG           |A21EC0149        |"
      ],
      "metadata": {
        "id": "9_lf3JpNuZGN"
      }
    },
    {
      "cell_type": "markdown",
      "source": [
        "## Pick a Big Dataset\n",
        "In order to proceed for the Big Data Handling process, firstly we need to select a suitable dataset. We will be searching our dataset from the Kaggle Website since choosing appropriate one is crucial for the success of the project.\n",
        "\n",
        "###Dataset Information\n",
        "**Name :**  Public Employees Salaries From Brazil SP 2012<br>\n",
        "**URL:** [*Dataset Link*](https://www.kaggle.com/datasets/bambrozim/public-employees-salaries-from-brazilsp-2012) <br>\n",
        "**Description:** The \"Public Employees Salaries From Brazil SP 2012\" on Kaggle offers an aggregation of data public available on transparency portal from São Paulo, Brazil regarding the salaries from public employees. It includes features such as name, department, position, month total earnings, gross total earnings and net total earnings.\n"
      ],
      "metadata": {
        "id": "LNQj5RoOueuk"
      }
    },
    {
      "cell_type": "markdown",
      "source": [
        "## Loading the Dataset\n",
        "\n",
        "The code below is uploading your Kaggle API credentials, configuring the necessary directory structure, and then using the Kaggle API to download our dataset from the Kaggle which is Public Employees Salaries From Brazil SP 2012."
      ],
      "metadata": {
        "id": "oPKQ-Rnkckfg"
      }
    },
    {
      "cell_type": "code",
      "execution_count": null,
      "metadata": {
        "colab": {
          "base_uri": "https://localhost:8080/",
          "height": 142
        },
        "id": "DvGuzcTt0X7g",
        "outputId": "3063e586-2de3-4181-c681-6b9e62f04aea"
      },
      "outputs": [
        {
          "output_type": "display_data",
          "data": {
            "text/plain": [
              "<IPython.core.display.HTML object>"
            ],
            "text/html": [
              "\n",
              "     <input type=\"file\" id=\"files-1c1f150d-fd8e-427f-9d88-1282e1e89475\" name=\"files[]\" multiple disabled\n",
              "        style=\"border:none\" />\n",
              "     <output id=\"result-1c1f150d-fd8e-427f-9d88-1282e1e89475\">\n",
              "      Upload widget is only available when the cell has been executed in the\n",
              "      current browser session. Please rerun this cell to enable.\n",
              "      </output>\n",
              "      <script>// Copyright 2017 Google LLC\n",
              "//\n",
              "// Licensed under the Apache License, Version 2.0 (the \"License\");\n",
              "// you may not use this file except in compliance with the License.\n",
              "// You may obtain a copy of the License at\n",
              "//\n",
              "//      http://www.apache.org/licenses/LICENSE-2.0\n",
              "//\n",
              "// Unless required by applicable law or agreed to in writing, software\n",
              "// distributed under the License is distributed on an \"AS IS\" BASIS,\n",
              "// WITHOUT WARRANTIES OR CONDITIONS OF ANY KIND, either express or implied.\n",
              "// See the License for the specific language governing permissions and\n",
              "// limitations under the License.\n",
              "\n",
              "/**\n",
              " * @fileoverview Helpers for google.colab Python module.\n",
              " */\n",
              "(function(scope) {\n",
              "function span(text, styleAttributes = {}) {\n",
              "  const element = document.createElement('span');\n",
              "  element.textContent = text;\n",
              "  for (const key of Object.keys(styleAttributes)) {\n",
              "    element.style[key] = styleAttributes[key];\n",
              "  }\n",
              "  return element;\n",
              "}\n",
              "\n",
              "// Max number of bytes which will be uploaded at a time.\n",
              "const MAX_PAYLOAD_SIZE = 100 * 1024;\n",
              "\n",
              "function _uploadFiles(inputId, outputId) {\n",
              "  const steps = uploadFilesStep(inputId, outputId);\n",
              "  const outputElement = document.getElementById(outputId);\n",
              "  // Cache steps on the outputElement to make it available for the next call\n",
              "  // to uploadFilesContinue from Python.\n",
              "  outputElement.steps = steps;\n",
              "\n",
              "  return _uploadFilesContinue(outputId);\n",
              "}\n",
              "\n",
              "// This is roughly an async generator (not supported in the browser yet),\n",
              "// where there are multiple asynchronous steps and the Python side is going\n",
              "// to poll for completion of each step.\n",
              "// This uses a Promise to block the python side on completion of each step,\n",
              "// then passes the result of the previous step as the input to the next step.\n",
              "function _uploadFilesContinue(outputId) {\n",
              "  const outputElement = document.getElementById(outputId);\n",
              "  const steps = outputElement.steps;\n",
              "\n",
              "  const next = steps.next(outputElement.lastPromiseValue);\n",
              "  return Promise.resolve(next.value.promise).then((value) => {\n",
              "    // Cache the last promise value to make it available to the next\n",
              "    // step of the generator.\n",
              "    outputElement.lastPromiseValue = value;\n",
              "    return next.value.response;\n",
              "  });\n",
              "}\n",
              "\n",
              "/**\n",
              " * Generator function which is called between each async step of the upload\n",
              " * process.\n",
              " * @param {string} inputId Element ID of the input file picker element.\n",
              " * @param {string} outputId Element ID of the output display.\n",
              " * @return {!Iterable<!Object>} Iterable of next steps.\n",
              " */\n",
              "function* uploadFilesStep(inputId, outputId) {\n",
              "  const inputElement = document.getElementById(inputId);\n",
              "  inputElement.disabled = false;\n",
              "\n",
              "  const outputElement = document.getElementById(outputId);\n",
              "  outputElement.innerHTML = '';\n",
              "\n",
              "  const pickedPromise = new Promise((resolve) => {\n",
              "    inputElement.addEventListener('change', (e) => {\n",
              "      resolve(e.target.files);\n",
              "    });\n",
              "  });\n",
              "\n",
              "  const cancel = document.createElement('button');\n",
              "  inputElement.parentElement.appendChild(cancel);\n",
              "  cancel.textContent = 'Cancel upload';\n",
              "  const cancelPromise = new Promise((resolve) => {\n",
              "    cancel.onclick = () => {\n",
              "      resolve(null);\n",
              "    };\n",
              "  });\n",
              "\n",
              "  // Wait for the user to pick the files.\n",
              "  const files = yield {\n",
              "    promise: Promise.race([pickedPromise, cancelPromise]),\n",
              "    response: {\n",
              "      action: 'starting',\n",
              "    }\n",
              "  };\n",
              "\n",
              "  cancel.remove();\n",
              "\n",
              "  // Disable the input element since further picks are not allowed.\n",
              "  inputElement.disabled = true;\n",
              "\n",
              "  if (!files) {\n",
              "    return {\n",
              "      response: {\n",
              "        action: 'complete',\n",
              "      }\n",
              "    };\n",
              "  }\n",
              "\n",
              "  for (const file of files) {\n",
              "    const li = document.createElement('li');\n",
              "    li.append(span(file.name, {fontWeight: 'bold'}));\n",
              "    li.append(span(\n",
              "        `(${file.type || 'n/a'}) - ${file.size} bytes, ` +\n",
              "        `last modified: ${\n",
              "            file.lastModifiedDate ? file.lastModifiedDate.toLocaleDateString() :\n",
              "                                    'n/a'} - `));\n",
              "    const percent = span('0% done');\n",
              "    li.appendChild(percent);\n",
              "\n",
              "    outputElement.appendChild(li);\n",
              "\n",
              "    const fileDataPromise = new Promise((resolve) => {\n",
              "      const reader = new FileReader();\n",
              "      reader.onload = (e) => {\n",
              "        resolve(e.target.result);\n",
              "      };\n",
              "      reader.readAsArrayBuffer(file);\n",
              "    });\n",
              "    // Wait for the data to be ready.\n",
              "    let fileData = yield {\n",
              "      promise: fileDataPromise,\n",
              "      response: {\n",
              "        action: 'continue',\n",
              "      }\n",
              "    };\n",
              "\n",
              "    // Use a chunked sending to avoid message size limits. See b/62115660.\n",
              "    let position = 0;\n",
              "    do {\n",
              "      const length = Math.min(fileData.byteLength - position, MAX_PAYLOAD_SIZE);\n",
              "      const chunk = new Uint8Array(fileData, position, length);\n",
              "      position += length;\n",
              "\n",
              "      const base64 = btoa(String.fromCharCode.apply(null, chunk));\n",
              "      yield {\n",
              "        response: {\n",
              "          action: 'append',\n",
              "          file: file.name,\n",
              "          data: base64,\n",
              "        },\n",
              "      };\n",
              "\n",
              "      let percentDone = fileData.byteLength === 0 ?\n",
              "          100 :\n",
              "          Math.round((position / fileData.byteLength) * 100);\n",
              "      percent.textContent = `${percentDone}% done`;\n",
              "\n",
              "    } while (position < fileData.byteLength);\n",
              "  }\n",
              "\n",
              "  // All done.\n",
              "  yield {\n",
              "    response: {\n",
              "      action: 'complete',\n",
              "    }\n",
              "  };\n",
              "}\n",
              "\n",
              "scope.google = scope.google || {};\n",
              "scope.google.colab = scope.google.colab || {};\n",
              "scope.google.colab._files = {\n",
              "  _uploadFiles,\n",
              "  _uploadFilesContinue,\n",
              "};\n",
              "})(self);\n",
              "</script> "
            ]
          },
          "metadata": {}
        },
        {
          "output_type": "stream",
          "name": "stdout",
          "text": [
            "Saving kaggle.json to kaggle (3).json\n",
            "mkdir: cannot create directory ‘/root/.kaggle’: File exists\n",
            "Downloading public-employees-salaries-from-brazilsp-2012.zip to /content\n",
            "100% 3.05G/3.07G [00:25<00:00, 154MB/s]\n",
            "100% 3.07G/3.07G [00:25<00:00, 128MB/s]\n"
          ]
        }
      ],
      "source": [
        "# Upload kaggle.json API token, and download / unzip csv\n",
        "from google.colab import files\n",
        "files.upload()\n",
        "\n",
        "!mkdir ~/.kaggle\n",
        "!cp kaggle.json ~/.kaggle/\n",
        "!chmod 600 ~/.kaggle/kaggle.json\n",
        "!kaggle datasets download -d bambrozim/public-employees-salaries-from-brazilsp-2012"
      ]
    },
    {
      "cell_type": "markdown",
      "source": [
        "In the code below, we define the names of the ZIP file and the specific file within the ZIP archive that we want to extract. Then we unzips the specific file from the ZIP archive, placing it in the current working directory so we can use it as our dataset later and finally removes the original ZIP file."
      ],
      "metadata": {
        "id": "mhhg6AshzP25"
      }
    },
    {
      "cell_type": "code",
      "source": [
        "import zipfile\n",
        "import os\n",
        "\n",
        "zip_file_name = 'public-employees-salaries-from-brazilsp-2012.zip'\n",
        "initial_target_file = 'all_merged/2023_jan_august_merged.csv'  # Replace with the actual file name\n",
        "\n",
        "# Unzip the file\n",
        "with zipfile.ZipFile(zip_file_name, 'r') as zip_ref:\n",
        "    # Extract the specific file to the current working directory\n",
        "    zip_ref.extract(initial_target_file, '.')\n",
        "\n",
        "# Remove the zip file after extracting\n",
        "os.remove(zip_file_name)"
      ],
      "metadata": {
        "id": "-bXsUbw919Li"
      },
      "execution_count": null,
      "outputs": []
    },
    {
      "cell_type": "markdown",
      "source": [
        "Importing essential libraries for data analysis and visualization."
      ],
      "metadata": {
        "id": "nc0aEKuy2oBI"
      }
    },
    {
      "cell_type": "code",
      "source": [
        "# import required datasets\n",
        "import numpy as np\n",
        "import pandas as pd\n",
        "import gc\n",
        "import time\n",
        "# import matplotlib.pyplot as plt"
      ],
      "metadata": {
        "id": "n9cKTKne30S9"
      },
      "execution_count": null,
      "outputs": []
    },
    {
      "cell_type": "markdown",
      "source": [
        "Measuring the execution time of reading a CSV file into a Pandas DataFrame using the %time magic command. Besides, the resulting df(DataFrame) will contain the data from the csv file that we had unzipped just now, so we can further analyze it."
      ],
      "metadata": {
        "id": "46myvJoe3RI2"
      }
    },
    {
      "cell_type": "code",
      "source": [
        "%time\n",
        "df = pd.read_csv(initial_target_file, sep=';')"
      ],
      "metadata": {
        "colab": {
          "base_uri": "https://localhost:8080/"
        },
        "id": "VxyWKk_k3t8M",
        "outputId": "6f5e74b0-3952-4b76-9191-9267672a61df"
      },
      "execution_count": null,
      "outputs": [
        {
          "output_type": "stream",
          "name": "stdout",
          "text": [
            "CPU times: user 2 µs, sys: 1 µs, total: 3 µs\n",
            "Wall time: 7.39 µs\n"
          ]
        }
      ]
    },
    {
      "cell_type": "markdown",
      "source": [
        "The head() method is then used to display the first few rows of the DataFrame, providing a quick overview of the dataset's structure and content."
      ],
      "metadata": {
        "id": "zoNPrj9g3yUe"
      }
    },
    {
      "cell_type": "code",
      "source": [
        "df.head()"
      ],
      "metadata": {
        "colab": {
          "base_uri": "https://localhost:8080/",
          "height": 417
        },
        "id": "9mortITGSDFL",
        "outputId": "a1fb99e8-c84f-45b9-cffb-cd1ec8bb2896"
      },
      "execution_count": null,
      "outputs": [
        {
          "output_type": "execute_result",
          "data": {
            "text/plain": [
              "                         NAME                        POSITION  \\\n",
              "0     AAIRON TELES DE CAMARGO          OFICIAL ADMINISTRATIVO   \n",
              "1       AALAN DA SILVA ARAUJO                        SD 1C PM   \n",
              "2  AARAN ESTEVAO LIMA BARBOSA                        CAP   PM   \n",
              "3           AARAO DE OLIVEIRA                        MAJ   PM   \n",
              "4     AARAO HENRIQUE OLIVEIRA  AG. ESCOLTA E VIGILANCIA PENIT   \n",
              "\n",
              "                       DEPARTMENT MONTH_TOTAL VACATION_13TH_SALARY  \\\n",
              "0   DEPT.ESTAD.TRANSITO DETRAN SP     2645,13                 0,00   \n",
              "1       POLICIA MILITAR SAO PAULO     4469,53                 0,00   \n",
              "2       POLICIA MILITAR SAO PAULO    13986,90                 0,00   \n",
              "3  SAO PAULO PREVIDENCIA   SPPREV    17921,51                 0,00   \n",
              "4  SECRET.ADMINISTR.PENITENCIARIA     3717,47                 0,00   \n",
              "\n",
              "  EVENTUAL PAYMENTS PAYED_PREMIUM_LEAVE OTHER_INDEMNITIES WAGE_REDUCER  \\\n",
              "0              0,00                0,00            193,29         0,00   \n",
              "1              0,00                0,00           1027,80         0,00   \n",
              "2              0,00                0,00            616,68         0,00   \n",
              "3              0,00                0,00              0,00         0,00   \n",
              "4              0,00                0,00            186,34         0,00   \n",
              "\n",
              "  NET_TOTAL       STATUS  MONTH  YEAR  \n",
              "0   1167,57       ATIVOS  APRIL  2023  \n",
              "1   2678,84       ATIVOS  APRIL  2023  \n",
              "2   7592,82       ATIVOS  APRIL  2023  \n",
              "3  16574,69  APOSENTADOS  APRIL  2023  \n",
              "4   2753,87       ATIVOS  APRIL  2023  "
            ],
            "text/html": [
              "\n",
              "  <div id=\"df-3a205ec9-40c0-44a0-a07b-d1ae7c458731\" class=\"colab-df-container\">\n",
              "    <div>\n",
              "<style scoped>\n",
              "    .dataframe tbody tr th:only-of-type {\n",
              "        vertical-align: middle;\n",
              "    }\n",
              "\n",
              "    .dataframe tbody tr th {\n",
              "        vertical-align: top;\n",
              "    }\n",
              "\n",
              "    .dataframe thead th {\n",
              "        text-align: right;\n",
              "    }\n",
              "</style>\n",
              "<table border=\"1\" class=\"dataframe\">\n",
              "  <thead>\n",
              "    <tr style=\"text-align: right;\">\n",
              "      <th></th>\n",
              "      <th>NAME</th>\n",
              "      <th>POSITION</th>\n",
              "      <th>DEPARTMENT</th>\n",
              "      <th>MONTH_TOTAL</th>\n",
              "      <th>VACATION_13TH_SALARY</th>\n",
              "      <th>EVENTUAL PAYMENTS</th>\n",
              "      <th>PAYED_PREMIUM_LEAVE</th>\n",
              "      <th>OTHER_INDEMNITIES</th>\n",
              "      <th>WAGE_REDUCER</th>\n",
              "      <th>NET_TOTAL</th>\n",
              "      <th>STATUS</th>\n",
              "      <th>MONTH</th>\n",
              "      <th>YEAR</th>\n",
              "    </tr>\n",
              "  </thead>\n",
              "  <tbody>\n",
              "    <tr>\n",
              "      <th>0</th>\n",
              "      <td>AAIRON TELES DE CAMARGO</td>\n",
              "      <td>OFICIAL ADMINISTRATIVO</td>\n",
              "      <td>DEPT.ESTAD.TRANSITO DETRAN SP</td>\n",
              "      <td>2645,13</td>\n",
              "      <td>0,00</td>\n",
              "      <td>0,00</td>\n",
              "      <td>0,00</td>\n",
              "      <td>193,29</td>\n",
              "      <td>0,00</td>\n",
              "      <td>1167,57</td>\n",
              "      <td>ATIVOS</td>\n",
              "      <td>APRIL</td>\n",
              "      <td>2023</td>\n",
              "    </tr>\n",
              "    <tr>\n",
              "      <th>1</th>\n",
              "      <td>AALAN DA SILVA ARAUJO</td>\n",
              "      <td>SD 1C PM</td>\n",
              "      <td>POLICIA MILITAR SAO PAULO</td>\n",
              "      <td>4469,53</td>\n",
              "      <td>0,00</td>\n",
              "      <td>0,00</td>\n",
              "      <td>0,00</td>\n",
              "      <td>1027,80</td>\n",
              "      <td>0,00</td>\n",
              "      <td>2678,84</td>\n",
              "      <td>ATIVOS</td>\n",
              "      <td>APRIL</td>\n",
              "      <td>2023</td>\n",
              "    </tr>\n",
              "    <tr>\n",
              "      <th>2</th>\n",
              "      <td>AARAN ESTEVAO LIMA BARBOSA</td>\n",
              "      <td>CAP   PM</td>\n",
              "      <td>POLICIA MILITAR SAO PAULO</td>\n",
              "      <td>13986,90</td>\n",
              "      <td>0,00</td>\n",
              "      <td>0,00</td>\n",
              "      <td>0,00</td>\n",
              "      <td>616,68</td>\n",
              "      <td>0,00</td>\n",
              "      <td>7592,82</td>\n",
              "      <td>ATIVOS</td>\n",
              "      <td>APRIL</td>\n",
              "      <td>2023</td>\n",
              "    </tr>\n",
              "    <tr>\n",
              "      <th>3</th>\n",
              "      <td>AARAO DE OLIVEIRA</td>\n",
              "      <td>MAJ   PM</td>\n",
              "      <td>SAO PAULO PREVIDENCIA   SPPREV</td>\n",
              "      <td>17921,51</td>\n",
              "      <td>0,00</td>\n",
              "      <td>0,00</td>\n",
              "      <td>0,00</td>\n",
              "      <td>0,00</td>\n",
              "      <td>0,00</td>\n",
              "      <td>16574,69</td>\n",
              "      <td>APOSENTADOS</td>\n",
              "      <td>APRIL</td>\n",
              "      <td>2023</td>\n",
              "    </tr>\n",
              "    <tr>\n",
              "      <th>4</th>\n",
              "      <td>AARAO HENRIQUE OLIVEIRA</td>\n",
              "      <td>AG. ESCOLTA E VIGILANCIA PENIT</td>\n",
              "      <td>SECRET.ADMINISTR.PENITENCIARIA</td>\n",
              "      <td>3717,47</td>\n",
              "      <td>0,00</td>\n",
              "      <td>0,00</td>\n",
              "      <td>0,00</td>\n",
              "      <td>186,34</td>\n",
              "      <td>0,00</td>\n",
              "      <td>2753,87</td>\n",
              "      <td>ATIVOS</td>\n",
              "      <td>APRIL</td>\n",
              "      <td>2023</td>\n",
              "    </tr>\n",
              "  </tbody>\n",
              "</table>\n",
              "</div>\n",
              "    <div class=\"colab-df-buttons\">\n",
              "\n",
              "  <div class=\"colab-df-container\">\n",
              "    <button class=\"colab-df-convert\" onclick=\"convertToInteractive('df-3a205ec9-40c0-44a0-a07b-d1ae7c458731')\"\n",
              "            title=\"Convert this dataframe to an interactive table.\"\n",
              "            style=\"display:none;\">\n",
              "\n",
              "  <svg xmlns=\"http://www.w3.org/2000/svg\" height=\"24px\" viewBox=\"0 -960 960 960\">\n",
              "    <path d=\"M120-120v-720h720v720H120Zm60-500h600v-160H180v160Zm220 220h160v-160H400v160Zm0 220h160v-160H400v160ZM180-400h160v-160H180v160Zm440 0h160v-160H620v160ZM180-180h160v-160H180v160Zm440 0h160v-160H620v160Z\"/>\n",
              "  </svg>\n",
              "    </button>\n",
              "\n",
              "  <style>\n",
              "    .colab-df-container {\n",
              "      display:flex;\n",
              "      gap: 12px;\n",
              "    }\n",
              "\n",
              "    .colab-df-convert {\n",
              "      background-color: #E8F0FE;\n",
              "      border: none;\n",
              "      border-radius: 50%;\n",
              "      cursor: pointer;\n",
              "      display: none;\n",
              "      fill: #1967D2;\n",
              "      height: 32px;\n",
              "      padding: 0 0 0 0;\n",
              "      width: 32px;\n",
              "    }\n",
              "\n",
              "    .colab-df-convert:hover {\n",
              "      background-color: #E2EBFA;\n",
              "      box-shadow: 0px 1px 2px rgba(60, 64, 67, 0.3), 0px 1px 3px 1px rgba(60, 64, 67, 0.15);\n",
              "      fill: #174EA6;\n",
              "    }\n",
              "\n",
              "    .colab-df-buttons div {\n",
              "      margin-bottom: 4px;\n",
              "    }\n",
              "\n",
              "    [theme=dark] .colab-df-convert {\n",
              "      background-color: #3B4455;\n",
              "      fill: #D2E3FC;\n",
              "    }\n",
              "\n",
              "    [theme=dark] .colab-df-convert:hover {\n",
              "      background-color: #434B5C;\n",
              "      box-shadow: 0px 1px 3px 1px rgba(0, 0, 0, 0.15);\n",
              "      filter: drop-shadow(0px 1px 2px rgba(0, 0, 0, 0.3));\n",
              "      fill: #FFFFFF;\n",
              "    }\n",
              "  </style>\n",
              "\n",
              "    <script>\n",
              "      const buttonEl =\n",
              "        document.querySelector('#df-3a205ec9-40c0-44a0-a07b-d1ae7c458731 button.colab-df-convert');\n",
              "      buttonEl.style.display =\n",
              "        google.colab.kernel.accessAllowed ? 'block' : 'none';\n",
              "\n",
              "      async function convertToInteractive(key) {\n",
              "        const element = document.querySelector('#df-3a205ec9-40c0-44a0-a07b-d1ae7c458731');\n",
              "        const dataTable =\n",
              "          await google.colab.kernel.invokeFunction('convertToInteractive',\n",
              "                                                    [key], {});\n",
              "        if (!dataTable) return;\n",
              "\n",
              "        const docLinkHtml = 'Like what you see? Visit the ' +\n",
              "          '<a target=\"_blank\" href=https://colab.research.google.com/notebooks/data_table.ipynb>data table notebook</a>'\n",
              "          + ' to learn more about interactive tables.';\n",
              "        element.innerHTML = '';\n",
              "        dataTable['output_type'] = 'display_data';\n",
              "        await google.colab.output.renderOutput(dataTable, element);\n",
              "        const docLink = document.createElement('div');\n",
              "        docLink.innerHTML = docLinkHtml;\n",
              "        element.appendChild(docLink);\n",
              "      }\n",
              "    </script>\n",
              "  </div>\n",
              "\n",
              "\n",
              "<div id=\"df-670b0364-cc79-40c3-b996-5a92480e13e0\">\n",
              "  <button class=\"colab-df-quickchart\" onclick=\"quickchart('df-670b0364-cc79-40c3-b996-5a92480e13e0')\"\n",
              "            title=\"Suggest charts\"\n",
              "            style=\"display:none;\">\n",
              "\n",
              "<svg xmlns=\"http://www.w3.org/2000/svg\" height=\"24px\"viewBox=\"0 0 24 24\"\n",
              "     width=\"24px\">\n",
              "    <g>\n",
              "        <path d=\"M19 3H5c-1.1 0-2 .9-2 2v14c0 1.1.9 2 2 2h14c1.1 0 2-.9 2-2V5c0-1.1-.9-2-2-2zM9 17H7v-7h2v7zm4 0h-2V7h2v10zm4 0h-2v-4h2v4z\"/>\n",
              "    </g>\n",
              "</svg>\n",
              "  </button>\n",
              "\n",
              "<style>\n",
              "  .colab-df-quickchart {\n",
              "      --bg-color: #E8F0FE;\n",
              "      --fill-color: #1967D2;\n",
              "      --hover-bg-color: #E2EBFA;\n",
              "      --hover-fill-color: #174EA6;\n",
              "      --disabled-fill-color: #AAA;\n",
              "      --disabled-bg-color: #DDD;\n",
              "  }\n",
              "\n",
              "  [theme=dark] .colab-df-quickchart {\n",
              "      --bg-color: #3B4455;\n",
              "      --fill-color: #D2E3FC;\n",
              "      --hover-bg-color: #434B5C;\n",
              "      --hover-fill-color: #FFFFFF;\n",
              "      --disabled-bg-color: #3B4455;\n",
              "      --disabled-fill-color: #666;\n",
              "  }\n",
              "\n",
              "  .colab-df-quickchart {\n",
              "    background-color: var(--bg-color);\n",
              "    border: none;\n",
              "    border-radius: 50%;\n",
              "    cursor: pointer;\n",
              "    display: none;\n",
              "    fill: var(--fill-color);\n",
              "    height: 32px;\n",
              "    padding: 0;\n",
              "    width: 32px;\n",
              "  }\n",
              "\n",
              "  .colab-df-quickchart:hover {\n",
              "    background-color: var(--hover-bg-color);\n",
              "    box-shadow: 0 1px 2px rgba(60, 64, 67, 0.3), 0 1px 3px 1px rgba(60, 64, 67, 0.15);\n",
              "    fill: var(--button-hover-fill-color);\n",
              "  }\n",
              "\n",
              "  .colab-df-quickchart-complete:disabled,\n",
              "  .colab-df-quickchart-complete:disabled:hover {\n",
              "    background-color: var(--disabled-bg-color);\n",
              "    fill: var(--disabled-fill-color);\n",
              "    box-shadow: none;\n",
              "  }\n",
              "\n",
              "  .colab-df-spinner {\n",
              "    border: 2px solid var(--fill-color);\n",
              "    border-color: transparent;\n",
              "    border-bottom-color: var(--fill-color);\n",
              "    animation:\n",
              "      spin 1s steps(1) infinite;\n",
              "  }\n",
              "\n",
              "  @keyframes spin {\n",
              "    0% {\n",
              "      border-color: transparent;\n",
              "      border-bottom-color: var(--fill-color);\n",
              "      border-left-color: var(--fill-color);\n",
              "    }\n",
              "    20% {\n",
              "      border-color: transparent;\n",
              "      border-left-color: var(--fill-color);\n",
              "      border-top-color: var(--fill-color);\n",
              "    }\n",
              "    30% {\n",
              "      border-color: transparent;\n",
              "      border-left-color: var(--fill-color);\n",
              "      border-top-color: var(--fill-color);\n",
              "      border-right-color: var(--fill-color);\n",
              "    }\n",
              "    40% {\n",
              "      border-color: transparent;\n",
              "      border-right-color: var(--fill-color);\n",
              "      border-top-color: var(--fill-color);\n",
              "    }\n",
              "    60% {\n",
              "      border-color: transparent;\n",
              "      border-right-color: var(--fill-color);\n",
              "    }\n",
              "    80% {\n",
              "      border-color: transparent;\n",
              "      border-right-color: var(--fill-color);\n",
              "      border-bottom-color: var(--fill-color);\n",
              "    }\n",
              "    90% {\n",
              "      border-color: transparent;\n",
              "      border-bottom-color: var(--fill-color);\n",
              "    }\n",
              "  }\n",
              "</style>\n",
              "\n",
              "  <script>\n",
              "    async function quickchart(key) {\n",
              "      const quickchartButtonEl =\n",
              "        document.querySelector('#' + key + ' button');\n",
              "      quickchartButtonEl.disabled = true;  // To prevent multiple clicks.\n",
              "      quickchartButtonEl.classList.add('colab-df-spinner');\n",
              "      try {\n",
              "        const charts = await google.colab.kernel.invokeFunction(\n",
              "            'suggestCharts', [key], {});\n",
              "      } catch (error) {\n",
              "        console.error('Error during call to suggestCharts:', error);\n",
              "      }\n",
              "      quickchartButtonEl.classList.remove('colab-df-spinner');\n",
              "      quickchartButtonEl.classList.add('colab-df-quickchart-complete');\n",
              "    }\n",
              "    (() => {\n",
              "      let quickchartButtonEl =\n",
              "        document.querySelector('#df-670b0364-cc79-40c3-b996-5a92480e13e0 button');\n",
              "      quickchartButtonEl.style.display =\n",
              "        google.colab.kernel.accessAllowed ? 'block' : 'none';\n",
              "    })();\n",
              "  </script>\n",
              "</div>\n",
              "    </div>\n",
              "  </div>\n"
            ]
          },
          "metadata": {},
          "execution_count": 5
        }
      ]
    },
    {
      "cell_type": "markdown",
      "source": [
        "In order to check the total number of rows and columns of the dataframe, we can use df.shape"
      ],
      "metadata": {
        "id": "LDJuhU4H326P"
      }
    },
    {
      "cell_type": "code",
      "source": [
        "df.shape"
      ],
      "metadata": {
        "colab": {
          "base_uri": "https://localhost:8080/"
        },
        "id": "Ad37-DHZdys8",
        "outputId": "b26b2705-040d-4a20-9563-641a12582583"
      },
      "execution_count": null,
      "outputs": [
        {
          "output_type": "execute_result",
          "data": {
            "text/plain": [
              "(8533848, 13)"
            ]
          },
          "metadata": {},
          "execution_count": 6
        }
      ]
    },
    {
      "cell_type": "markdown",
      "source": [
        "We use df.info() to quickly assessing the size of the DataFrame and the types of data it contains."
      ],
      "metadata": {
        "id": "5nr0Xkwf38xd"
      }
    },
    {
      "cell_type": "code",
      "source": [
        "df.info()"
      ],
      "metadata": {
        "colab": {
          "base_uri": "https://localhost:8080/"
        },
        "id": "Gg81rtnV5Yau",
        "outputId": "392e29c5-27d0-45b0-b621-b79c676a1c94"
      },
      "execution_count": null,
      "outputs": [
        {
          "output_type": "stream",
          "name": "stdout",
          "text": [
            "<class 'pandas.core.frame.DataFrame'>\n",
            "RangeIndex: 8533848 entries, 0 to 8533847\n",
            "Data columns (total 13 columns):\n",
            " #   Column                Dtype \n",
            "---  ------                ----- \n",
            " 0   NAME                  object\n",
            " 1   POSITION              object\n",
            " 2   DEPARTMENT            object\n",
            " 3   MONTH_TOTAL           object\n",
            " 4   VACATION_13TH_SALARY  object\n",
            " 5   EVENTUAL PAYMENTS     object\n",
            " 6   PAYED_PREMIUM_LEAVE   object\n",
            " 7   OTHER_INDEMNITIES     object\n",
            " 8   WAGE_REDUCER          object\n",
            " 9   NET_TOTAL             object\n",
            " 10  STATUS                object\n",
            " 11  MONTH                 object\n",
            " 12  YEAR                  int64 \n",
            "dtypes: int64(1), object(12)\n",
            "memory usage: 846.4+ MB\n"
          ]
        }
      ]
    },
    {
      "cell_type": "markdown",
      "source": [
        "Iterating over the columns of a DataFrame, prints information about each column, specifically the column index, name, and the number of unique values in that column.  This can be useful for us to understand the diversity of values in each column of the DataFrame."
      ],
      "metadata": {
        "id": "ObmQO9H24bFu"
      }
    },
    {
      "cell_type": "code",
      "source": [
        "i = 0\n",
        "for column in df.columns:\n",
        "  print(\"Number of unique values in [\" + str(i) + \"] column (\" + column + \"): \" + str(len(df[column].unique())))\n",
        "  i += 1"
      ],
      "metadata": {
        "colab": {
          "base_uri": "https://localhost:8080/"
        },
        "id": "WbgqV0DodD5_",
        "outputId": "6f745618-e0a9-4b88-edb1-37eebec4b24d"
      },
      "execution_count": null,
      "outputs": [
        {
          "output_type": "stream",
          "name": "stdout",
          "text": [
            "Number of unique values in [0] column (NAME): 1008824\n",
            "Number of unique values in [1] column (POSITION): 3323\n",
            "Number of unique values in [2] column (DEPARTMENT): 104\n",
            "Number of unique values in [3] column (MONTH_TOTAL): 909657\n",
            "Number of unique values in [4] column (VACATION_13TH_SALARY): 394138\n",
            "Number of unique values in [5] column (EVENTUAL PAYMENTS): 298536\n",
            "Number of unique values in [6] column (PAYED_PREMIUM_LEAVE): 14966\n",
            "Number of unique values in [7] column (OTHER_INDEMNITIES): 153007\n",
            "Number of unique values in [8] column (WAGE_REDUCER): 26191\n",
            "Number of unique values in [9] column (NET_TOTAL): 1303509\n",
            "Number of unique values in [10] column (STATUS): 3\n",
            "Number of unique values in [11] column (MONTH): 8\n",
            "Number of unique values in [12] column (YEAR): 1\n"
          ]
        }
      ]
    },
    {
      "cell_type": "markdown",
      "source": [
        "Showing the columns that we have in the DataFrame."
      ],
      "metadata": {
        "id": "h0kAY6Av4hAG"
      }
    },
    {
      "cell_type": "code",
      "source": [
        "df.columns"
      ],
      "metadata": {
        "colab": {
          "base_uri": "https://localhost:8080/"
        },
        "id": "10WvDkjRfi_2",
        "outputId": "238513fb-160e-458d-8d48-2c539bd28f33"
      },
      "execution_count": null,
      "outputs": [
        {
          "output_type": "execute_result",
          "data": {
            "text/plain": [
              "Index(['NAME', 'POSITION', 'DEPARTMENT', 'MONTH_TOTAL', 'VACATION_13TH_SALARY',\n",
              "       'EVENTUAL PAYMENTS', 'PAYED_PREMIUM_LEAVE', 'OTHER_INDEMNITIES',\n",
              "       'WAGE_REDUCER', 'NET_TOTAL', 'STATUS', 'MONTH', 'YEAR'],\n",
              "      dtype='object')"
            ]
          },
          "metadata": {},
          "execution_count": 9
        }
      ]
    },
    {
      "cell_type": "markdown",
      "source": [
        "Calculating the initial memory usage of a Pandas DataFrame (df) in megabytes. We perform this memory calculation before any significant operations are performed on the DataFrame so that we could make a comparison later after applying different strategies to the dataset."
      ],
      "metadata": {
        "id": "-4lV54Sb5BMN"
      }
    },
    {
      "cell_type": "code",
      "source": [
        "initial_memory_usage = df.memory_usage(deep=True).sum() / (1024 * 1024)\n",
        "initial_memory_usage"
      ],
      "metadata": {
        "colab": {
          "base_uri": "https://localhost:8080/"
        },
        "id": "Q95cpKFNhqd4",
        "outputId": "82d0f31c-ec5d-479e-d9b1-10b5feb470e0"
      },
      "execution_count": null,
      "outputs": [
        {
          "output_type": "execute_result",
          "data": {
            "text/plain": [
              "6644.939455032349"
            ]
          },
          "metadata": {},
          "execution_count": 11
        }
      ]
    },
    {
      "cell_type": "code",
      "source": [
        "# Clear memory of dataframe\n",
        "del df"
      ],
      "metadata": {
        "id": "S1L3aZ7mlElk"
      },
      "execution_count": null,
      "outputs": []
    },
    {
      "cell_type": "markdown",
      "source": [
        "## Strategies for Big Datasets\n",
        "\n",
        "We will be applying five smart strategies to handle the large dataset effectively.\n",
        "* Load Less Data\n",
        "* Optimize Data Types\n",
        "* Use Chunking\n",
        "* Sampling\n",
        "* Parallelize with Dask"
      ],
      "metadata": {
        "id": "nCmnRq8feGzx"
      }
    },
    {
      "cell_type": "markdown",
      "source": [
        "### 1. Load Less Data\n",
        "\n",
        "When dealing with large datasets, it's often unnecessary to load the entire dataset into memory if we only need a subset for analysis. We need to utilize features in our data loading library that allow us to load specific columns or rows of interest. This strategy significantly reduces memory usage and speeds up data loading times."
      ],
      "metadata": {
        "id": "c0vQZrWAeK9c"
      }
    },
    {
      "cell_type": "markdown",
      "source": [
        "When processing data, it's advisable to avoid loading unnecessary columns. For instance, in this dataset focused on the year 2023, there's no need to include the \"YEAR\" column in the dataframe. Opt for loading only the variables essential for analysis and training purposes."
      ],
      "metadata": {
        "id": "D1ckfeYceY5R"
      }
    },
    {
      "cell_type": "code",
      "source": [
        "# Load only required columns when read data\n",
        "columns_needed = ['NAME', 'POSITION', 'DEPARTMENT', 'MONTH_TOTAL', 'VACATION_13TH_SALARY',\n",
        "       'EVENTUAL PAYMENTS', 'PAYED_PREMIUM_LEAVE', 'OTHER_INDEMNITIES',\n",
        "       'WAGE_REDUCER', 'NET_TOTAL', 'STATUS', 'MONTH']\n",
        "\n",
        "df = pd.read_csv(initial_target_file, sep=';', usecols=columns_needed)"
      ],
      "metadata": {
        "id": "lg08jifueNva"
      },
      "execution_count": null,
      "outputs": []
    },
    {
      "cell_type": "markdown",
      "source": [
        "Calculating the memory usage of the DataFrame (df) in megabytes after we load lesser data. As the result below showing the memory usage is only 6579.83 MB after we avoid loading unnecessary columns compared to the initial memory usage which is 6644.94 MB."
      ],
      "metadata": {
        "id": "Opl8-NHgvcMX"
      }
    },
    {
      "cell_type": "code",
      "source": [
        "memory_usage_1 = df.memory_usage(deep=True).sum() / (1024 * 1024)\n",
        "memory_usage_1"
      ],
      "metadata": {
        "colab": {
          "base_uri": "https://localhost:8080/"
        },
        "id": "e7iTSu3Xh-fp",
        "outputId": "e06415d0-4172-4d9b-9493-f6e75fcd9438"
      },
      "execution_count": null,
      "outputs": [
        {
          "output_type": "execute_result",
          "data": {
            "text/plain": [
              "6579.83136177063"
            ]
          },
          "metadata": {},
          "execution_count": 15
        }
      ]
    },
    {
      "cell_type": "markdown",
      "source": [
        "Since the original dataset is too large to be fully loaded, therefore we will only loads a subset of the dataset which we limit it to 100000 rows and only load the neccessary columns. This allows us for a quick initial exploration and insight into the data while conserving memory.\n",
        "\n",
        "The summary of the DataFrame structure and memory usage is also showed with the code below. Therefore, we only use 77.0 MB of memory and get a rapid overview of the dataset."
      ],
      "metadata": {
        "id": "J7NL4zsx5wUC"
      }
    },
    {
      "cell_type": "code",
      "source": [
        "# Load less data by specifying nrows when read data\n",
        "# Useful for extracting an initial insight about data\n",
        "df_nrow = pd.read_csv(initial_target_file, sep=';', usecols=columns_needed, nrows=100000)\n",
        "df_nrow.info(verbose=False, memory_usage=\"deep\")"
      ],
      "metadata": {
        "colab": {
          "base_uri": "https://localhost:8080/"
        },
        "id": "mjMJXiMSMjYo",
        "outputId": "ea9078c2-a65a-43da-8d5e-ee2d60fb3ea9"
      },
      "execution_count": null,
      "outputs": [
        {
          "output_type": "stream",
          "name": "stdout",
          "text": [
            "<class 'pandas.core.frame.DataFrame'>\n",
            "RangeIndex: 100000 entries, 0 to 99999\n",
            "Columns: 12 entries, NAME to MONTH\n",
            "dtypes: object(12)\n",
            "memory usage: 77.0 MB\n"
          ]
        }
      ]
    },
    {
      "cell_type": "markdown",
      "source": [
        "### 2. Optimize Data Types\n",
        "\n",
        "Efficiently managing data types can significantly reduce memory usage. By selecting the most space-efficient data types for the columns, we optimize memory usage without compromising data integrity."
      ],
      "metadata": {
        "id": "JE5sSqS0hGRn"
      }
    },
    {
      "cell_type": "markdown",
      "source": [
        "This code below is converting the selected columns: 'POSITION', 'DEPARTMENT', 'STATUS' and 'MONTH' to categorical data type. This could optimize memory usage for categorical variables as it can lead to significant memory savings while preserving the analytical capabilities of the variables."
      ],
      "metadata": {
        "id": "yZI62_DT5_Oa"
      }
    },
    {
      "cell_type": "code",
      "source": [
        "# Shrink categorical data using Categorical dtypes\n",
        "columns_cat = ['POSITION', 'DEPARTMENT', 'STATUS', 'MONTH']\n",
        "df[columns_cat] = df[columns_cat].astype('category')"
      ],
      "metadata": {
        "id": "3uC_yR19hK2x"
      },
      "execution_count": null,
      "outputs": []
    },
    {
      "cell_type": "markdown",
      "source": [
        "Providing a summarized view of the DataFrame's structure and its memory usage. We apply 'verbose=False' and 'memory_usage=\"deep\"' is to make the output more concise and memory-aware."
      ],
      "metadata": {
        "id": "rR23yRKnzTEe"
      }
    },
    {
      "cell_type": "code",
      "source": [
        "df.info(verbose=False, memory_usage=\"deep\")"
      ],
      "metadata": {
        "colab": {
          "base_uri": "https://localhost:8080/"
        },
        "id": "Apj3yIYHjkwz",
        "outputId": "732c3d0e-37dd-4bec-eb2e-9d39e328f9c6"
      },
      "execution_count": null,
      "outputs": [
        {
          "output_type": "stream",
          "name": "stdout",
          "text": [
            "<class 'pandas.core.frame.DataFrame'>\n",
            "RangeIndex: 8533848 entries, 0 to 8533847\n",
            "Columns: 12 entries, NAME to MONTH\n",
            "dtypes: category(4), object(8)\n",
            "memory usage: 4.1 GB\n"
          ]
        }
      ]
    },
    {
      "cell_type": "markdown",
      "source": [
        "\n",
        "By executing the code below, the numeric columns in the DataFrame will have commas removed from their values. This is because for Brazil Currency they will be using ' , ' instead of ' . ' to represent the decimal points, so to continue with our data analysis we would like to remove the ',' from the data. Integer type always taking less memory space compared to float type."
      ],
      "metadata": {
        "id": "LDHb2k8B6LqZ"
      }
    },
    {
      "cell_type": "code",
      "source": [
        "# Data Cleaning to remove unwanted character\n",
        "columns_num = ['MONTH_TOTAL', 'VACATION_13TH_SALARY',\n",
        "       'EVENTUAL PAYMENTS', 'PAYED_PREMIUM_LEAVE', 'OTHER_INDEMNITIES',\n",
        "       'WAGE_REDUCER', 'NET_TOTAL']\n",
        "\n",
        "for column in columns_num:\n",
        "  df[column] = df[column].str.replace(',', '')"
      ],
      "metadata": {
        "id": "Wm_ymZ3njsaa"
      },
      "execution_count": null,
      "outputs": []
    },
    {
      "cell_type": "markdown",
      "source": [
        "Displaying the first few rows of the DataFrame, providing a quick overview of the dataset's structure and content."
      ],
      "metadata": {
        "id": "iwoM5Lwt04jj"
      }
    },
    {
      "cell_type": "code",
      "source": [
        "df.head()"
      ],
      "metadata": {
        "colab": {
          "base_uri": "https://localhost:8080/",
          "height": 417
        },
        "id": "0AZnDdXqkBVG",
        "outputId": "a879dad5-a31f-49e1-8de7-b305b86962d2"
      },
      "execution_count": null,
      "outputs": [
        {
          "output_type": "execute_result",
          "data": {
            "text/plain": [
              "                         NAME                        POSITION  \\\n",
              "0     AAIRON TELES DE CAMARGO          OFICIAL ADMINISTRATIVO   \n",
              "1       AALAN DA SILVA ARAUJO                        SD 1C PM   \n",
              "2  AARAN ESTEVAO LIMA BARBOSA                        CAP   PM   \n",
              "3           AARAO DE OLIVEIRA                        MAJ   PM   \n",
              "4     AARAO HENRIQUE OLIVEIRA  AG. ESCOLTA E VIGILANCIA PENIT   \n",
              "\n",
              "                       DEPARTMENT MONTH_TOTAL VACATION_13TH_SALARY  \\\n",
              "0   DEPT.ESTAD.TRANSITO DETRAN SP      264513                  000   \n",
              "1       POLICIA MILITAR SAO PAULO      446953                  000   \n",
              "2       POLICIA MILITAR SAO PAULO     1398690                  000   \n",
              "3  SAO PAULO PREVIDENCIA   SPPREV     1792151                  000   \n",
              "4  SECRET.ADMINISTR.PENITENCIARIA      371747                  000   \n",
              "\n",
              "  EVENTUAL PAYMENTS PAYED_PREMIUM_LEAVE OTHER_INDEMNITIES WAGE_REDUCER  \\\n",
              "0               000                 000             19329          000   \n",
              "1               000                 000            102780          000   \n",
              "2               000                 000             61668          000   \n",
              "3               000                 000               000          000   \n",
              "4               000                 000             18634          000   \n",
              "\n",
              "  NET_TOTAL       STATUS  MONTH  \n",
              "0    116757       ATIVOS  APRIL  \n",
              "1    267884       ATIVOS  APRIL  \n",
              "2    759282       ATIVOS  APRIL  \n",
              "3   1657469  APOSENTADOS  APRIL  \n",
              "4    275387       ATIVOS  APRIL  "
            ],
            "text/html": [
              "\n",
              "  <div id=\"df-9778dd75-cada-47fd-a1f6-3658ecea1885\" class=\"colab-df-container\">\n",
              "    <div>\n",
              "<style scoped>\n",
              "    .dataframe tbody tr th:only-of-type {\n",
              "        vertical-align: middle;\n",
              "    }\n",
              "\n",
              "    .dataframe tbody tr th {\n",
              "        vertical-align: top;\n",
              "    }\n",
              "\n",
              "    .dataframe thead th {\n",
              "        text-align: right;\n",
              "    }\n",
              "</style>\n",
              "<table border=\"1\" class=\"dataframe\">\n",
              "  <thead>\n",
              "    <tr style=\"text-align: right;\">\n",
              "      <th></th>\n",
              "      <th>NAME</th>\n",
              "      <th>POSITION</th>\n",
              "      <th>DEPARTMENT</th>\n",
              "      <th>MONTH_TOTAL</th>\n",
              "      <th>VACATION_13TH_SALARY</th>\n",
              "      <th>EVENTUAL PAYMENTS</th>\n",
              "      <th>PAYED_PREMIUM_LEAVE</th>\n",
              "      <th>OTHER_INDEMNITIES</th>\n",
              "      <th>WAGE_REDUCER</th>\n",
              "      <th>NET_TOTAL</th>\n",
              "      <th>STATUS</th>\n",
              "      <th>MONTH</th>\n",
              "    </tr>\n",
              "  </thead>\n",
              "  <tbody>\n",
              "    <tr>\n",
              "      <th>0</th>\n",
              "      <td>AAIRON TELES DE CAMARGO</td>\n",
              "      <td>OFICIAL ADMINISTRATIVO</td>\n",
              "      <td>DEPT.ESTAD.TRANSITO DETRAN SP</td>\n",
              "      <td>264513</td>\n",
              "      <td>000</td>\n",
              "      <td>000</td>\n",
              "      <td>000</td>\n",
              "      <td>19329</td>\n",
              "      <td>000</td>\n",
              "      <td>116757</td>\n",
              "      <td>ATIVOS</td>\n",
              "      <td>APRIL</td>\n",
              "    </tr>\n",
              "    <tr>\n",
              "      <th>1</th>\n",
              "      <td>AALAN DA SILVA ARAUJO</td>\n",
              "      <td>SD 1C PM</td>\n",
              "      <td>POLICIA MILITAR SAO PAULO</td>\n",
              "      <td>446953</td>\n",
              "      <td>000</td>\n",
              "      <td>000</td>\n",
              "      <td>000</td>\n",
              "      <td>102780</td>\n",
              "      <td>000</td>\n",
              "      <td>267884</td>\n",
              "      <td>ATIVOS</td>\n",
              "      <td>APRIL</td>\n",
              "    </tr>\n",
              "    <tr>\n",
              "      <th>2</th>\n",
              "      <td>AARAN ESTEVAO LIMA BARBOSA</td>\n",
              "      <td>CAP   PM</td>\n",
              "      <td>POLICIA MILITAR SAO PAULO</td>\n",
              "      <td>1398690</td>\n",
              "      <td>000</td>\n",
              "      <td>000</td>\n",
              "      <td>000</td>\n",
              "      <td>61668</td>\n",
              "      <td>000</td>\n",
              "      <td>759282</td>\n",
              "      <td>ATIVOS</td>\n",
              "      <td>APRIL</td>\n",
              "    </tr>\n",
              "    <tr>\n",
              "      <th>3</th>\n",
              "      <td>AARAO DE OLIVEIRA</td>\n",
              "      <td>MAJ   PM</td>\n",
              "      <td>SAO PAULO PREVIDENCIA   SPPREV</td>\n",
              "      <td>1792151</td>\n",
              "      <td>000</td>\n",
              "      <td>000</td>\n",
              "      <td>000</td>\n",
              "      <td>000</td>\n",
              "      <td>000</td>\n",
              "      <td>1657469</td>\n",
              "      <td>APOSENTADOS</td>\n",
              "      <td>APRIL</td>\n",
              "    </tr>\n",
              "    <tr>\n",
              "      <th>4</th>\n",
              "      <td>AARAO HENRIQUE OLIVEIRA</td>\n",
              "      <td>AG. ESCOLTA E VIGILANCIA PENIT</td>\n",
              "      <td>SECRET.ADMINISTR.PENITENCIARIA</td>\n",
              "      <td>371747</td>\n",
              "      <td>000</td>\n",
              "      <td>000</td>\n",
              "      <td>000</td>\n",
              "      <td>18634</td>\n",
              "      <td>000</td>\n",
              "      <td>275387</td>\n",
              "      <td>ATIVOS</td>\n",
              "      <td>APRIL</td>\n",
              "    </tr>\n",
              "  </tbody>\n",
              "</table>\n",
              "</div>\n",
              "    <div class=\"colab-df-buttons\">\n",
              "\n",
              "  <div class=\"colab-df-container\">\n",
              "    <button class=\"colab-df-convert\" onclick=\"convertToInteractive('df-9778dd75-cada-47fd-a1f6-3658ecea1885')\"\n",
              "            title=\"Convert this dataframe to an interactive table.\"\n",
              "            style=\"display:none;\">\n",
              "\n",
              "  <svg xmlns=\"http://www.w3.org/2000/svg\" height=\"24px\" viewBox=\"0 -960 960 960\">\n",
              "    <path d=\"M120-120v-720h720v720H120Zm60-500h600v-160H180v160Zm220 220h160v-160H400v160Zm0 220h160v-160H400v160ZM180-400h160v-160H180v160Zm440 0h160v-160H620v160ZM180-180h160v-160H180v160Zm440 0h160v-160H620v160Z\"/>\n",
              "  </svg>\n",
              "    </button>\n",
              "\n",
              "  <style>\n",
              "    .colab-df-container {\n",
              "      display:flex;\n",
              "      gap: 12px;\n",
              "    }\n",
              "\n",
              "    .colab-df-convert {\n",
              "      background-color: #E8F0FE;\n",
              "      border: none;\n",
              "      border-radius: 50%;\n",
              "      cursor: pointer;\n",
              "      display: none;\n",
              "      fill: #1967D2;\n",
              "      height: 32px;\n",
              "      padding: 0 0 0 0;\n",
              "      width: 32px;\n",
              "    }\n",
              "\n",
              "    .colab-df-convert:hover {\n",
              "      background-color: #E2EBFA;\n",
              "      box-shadow: 0px 1px 2px rgba(60, 64, 67, 0.3), 0px 1px 3px 1px rgba(60, 64, 67, 0.15);\n",
              "      fill: #174EA6;\n",
              "    }\n",
              "\n",
              "    .colab-df-buttons div {\n",
              "      margin-bottom: 4px;\n",
              "    }\n",
              "\n",
              "    [theme=dark] .colab-df-convert {\n",
              "      background-color: #3B4455;\n",
              "      fill: #D2E3FC;\n",
              "    }\n",
              "\n",
              "    [theme=dark] .colab-df-convert:hover {\n",
              "      background-color: #434B5C;\n",
              "      box-shadow: 0px 1px 3px 1px rgba(0, 0, 0, 0.15);\n",
              "      filter: drop-shadow(0px 1px 2px rgba(0, 0, 0, 0.3));\n",
              "      fill: #FFFFFF;\n",
              "    }\n",
              "  </style>\n",
              "\n",
              "    <script>\n",
              "      const buttonEl =\n",
              "        document.querySelector('#df-9778dd75-cada-47fd-a1f6-3658ecea1885 button.colab-df-convert');\n",
              "      buttonEl.style.display =\n",
              "        google.colab.kernel.accessAllowed ? 'block' : 'none';\n",
              "\n",
              "      async function convertToInteractive(key) {\n",
              "        const element = document.querySelector('#df-9778dd75-cada-47fd-a1f6-3658ecea1885');\n",
              "        const dataTable =\n",
              "          await google.colab.kernel.invokeFunction('convertToInteractive',\n",
              "                                                    [key], {});\n",
              "        if (!dataTable) return;\n",
              "\n",
              "        const docLinkHtml = 'Like what you see? Visit the ' +\n",
              "          '<a target=\"_blank\" href=https://colab.research.google.com/notebooks/data_table.ipynb>data table notebook</a>'\n",
              "          + ' to learn more about interactive tables.';\n",
              "        element.innerHTML = '';\n",
              "        dataTable['output_type'] = 'display_data';\n",
              "        await google.colab.output.renderOutput(dataTable, element);\n",
              "        const docLink = document.createElement('div');\n",
              "        docLink.innerHTML = docLinkHtml;\n",
              "        element.appendChild(docLink);\n",
              "      }\n",
              "    </script>\n",
              "  </div>\n",
              "\n",
              "\n",
              "<div id=\"df-816ad3ef-c183-49da-ae6d-06c827084e4b\">\n",
              "  <button class=\"colab-df-quickchart\" onclick=\"quickchart('df-816ad3ef-c183-49da-ae6d-06c827084e4b')\"\n",
              "            title=\"Suggest charts\"\n",
              "            style=\"display:none;\">\n",
              "\n",
              "<svg xmlns=\"http://www.w3.org/2000/svg\" height=\"24px\"viewBox=\"0 0 24 24\"\n",
              "     width=\"24px\">\n",
              "    <g>\n",
              "        <path d=\"M19 3H5c-1.1 0-2 .9-2 2v14c0 1.1.9 2 2 2h14c1.1 0 2-.9 2-2V5c0-1.1-.9-2-2-2zM9 17H7v-7h2v7zm4 0h-2V7h2v10zm4 0h-2v-4h2v4z\"/>\n",
              "    </g>\n",
              "</svg>\n",
              "  </button>\n",
              "\n",
              "<style>\n",
              "  .colab-df-quickchart {\n",
              "      --bg-color: #E8F0FE;\n",
              "      --fill-color: #1967D2;\n",
              "      --hover-bg-color: #E2EBFA;\n",
              "      --hover-fill-color: #174EA6;\n",
              "      --disabled-fill-color: #AAA;\n",
              "      --disabled-bg-color: #DDD;\n",
              "  }\n",
              "\n",
              "  [theme=dark] .colab-df-quickchart {\n",
              "      --bg-color: #3B4455;\n",
              "      --fill-color: #D2E3FC;\n",
              "      --hover-bg-color: #434B5C;\n",
              "      --hover-fill-color: #FFFFFF;\n",
              "      --disabled-bg-color: #3B4455;\n",
              "      --disabled-fill-color: #666;\n",
              "  }\n",
              "\n",
              "  .colab-df-quickchart {\n",
              "    background-color: var(--bg-color);\n",
              "    border: none;\n",
              "    border-radius: 50%;\n",
              "    cursor: pointer;\n",
              "    display: none;\n",
              "    fill: var(--fill-color);\n",
              "    height: 32px;\n",
              "    padding: 0;\n",
              "    width: 32px;\n",
              "  }\n",
              "\n",
              "  .colab-df-quickchart:hover {\n",
              "    background-color: var(--hover-bg-color);\n",
              "    box-shadow: 0 1px 2px rgba(60, 64, 67, 0.3), 0 1px 3px 1px rgba(60, 64, 67, 0.15);\n",
              "    fill: var(--button-hover-fill-color);\n",
              "  }\n",
              "\n",
              "  .colab-df-quickchart-complete:disabled,\n",
              "  .colab-df-quickchart-complete:disabled:hover {\n",
              "    background-color: var(--disabled-bg-color);\n",
              "    fill: var(--disabled-fill-color);\n",
              "    box-shadow: none;\n",
              "  }\n",
              "\n",
              "  .colab-df-spinner {\n",
              "    border: 2px solid var(--fill-color);\n",
              "    border-color: transparent;\n",
              "    border-bottom-color: var(--fill-color);\n",
              "    animation:\n",
              "      spin 1s steps(1) infinite;\n",
              "  }\n",
              "\n",
              "  @keyframes spin {\n",
              "    0% {\n",
              "      border-color: transparent;\n",
              "      border-bottom-color: var(--fill-color);\n",
              "      border-left-color: var(--fill-color);\n",
              "    }\n",
              "    20% {\n",
              "      border-color: transparent;\n",
              "      border-left-color: var(--fill-color);\n",
              "      border-top-color: var(--fill-color);\n",
              "    }\n",
              "    30% {\n",
              "      border-color: transparent;\n",
              "      border-left-color: var(--fill-color);\n",
              "      border-top-color: var(--fill-color);\n",
              "      border-right-color: var(--fill-color);\n",
              "    }\n",
              "    40% {\n",
              "      border-color: transparent;\n",
              "      border-right-color: var(--fill-color);\n",
              "      border-top-color: var(--fill-color);\n",
              "    }\n",
              "    60% {\n",
              "      border-color: transparent;\n",
              "      border-right-color: var(--fill-color);\n",
              "    }\n",
              "    80% {\n",
              "      border-color: transparent;\n",
              "      border-right-color: var(--fill-color);\n",
              "      border-bottom-color: var(--fill-color);\n",
              "    }\n",
              "    90% {\n",
              "      border-color: transparent;\n",
              "      border-bottom-color: var(--fill-color);\n",
              "    }\n",
              "  }\n",
              "</style>\n",
              "\n",
              "  <script>\n",
              "    async function quickchart(key) {\n",
              "      const quickchartButtonEl =\n",
              "        document.querySelector('#' + key + ' button');\n",
              "      quickchartButtonEl.disabled = true;  // To prevent multiple clicks.\n",
              "      quickchartButtonEl.classList.add('colab-df-spinner');\n",
              "      try {\n",
              "        const charts = await google.colab.kernel.invokeFunction(\n",
              "            'suggestCharts', [key], {});\n",
              "      } catch (error) {\n",
              "        console.error('Error during call to suggestCharts:', error);\n",
              "      }\n",
              "      quickchartButtonEl.classList.remove('colab-df-spinner');\n",
              "      quickchartButtonEl.classList.add('colab-df-quickchart-complete');\n",
              "    }\n",
              "    (() => {\n",
              "      let quickchartButtonEl =\n",
              "        document.querySelector('#df-816ad3ef-c183-49da-ae6d-06c827084e4b button');\n",
              "      quickchartButtonEl.style.display =\n",
              "        google.colab.kernel.accessAllowed ? 'block' : 'none';\n",
              "    })();\n",
              "  </script>\n",
              "</div>\n",
              "    </div>\n",
              "  </div>\n"
            ]
          },
          "metadata": {},
          "execution_count": 20
        }
      ]
    },
    {
      "cell_type": "markdown",
      "source": [
        "The function 'optimize_data_types' optimizes the data types of numeric columns in the DataFrame to use the smallest integer types that can accommodate the range of values in each column. This process can reduce the memory footprint of the DataFrame. Besides, this function will also provide feedback on the initial and final memory usage, along with the percentage decrease achieved through the optimization. By comparing the initial and final memory usage we can have a clearly look on how the optimzation process reduce the memory usage of the DataFrame."
      ],
      "metadata": {
        "id": "4AaJvtC_1YLK"
      }
    },
    {
      "cell_type": "code",
      "source": [
        "def optimize_data_types(df):\n",
        "  # Calculate initial memory of the dataframe\n",
        "  start_mem = df.memory_usage().sum() / 1024**2\n",
        "  print('Memory usage of dataframe is {:.2f} MB'.format(start_mem))\n",
        "\n",
        "  # Change the numeric columns into integer datatype\n",
        "  for col in columns_num:\n",
        "    df[col] = df[col].astype('int64')\n",
        "    c_min = df[col].min()\n",
        "    c_max = df[col].max()\n",
        "\n",
        "    if c_min > np.iinfo(np.int8).min and c_max < np.iinfo(np.int8).max:\n",
        "      df[col] = df[col].astype('int8')\n",
        "    elif c_min > np.iinfo(np.int16).min and c_max < np.iinfo(np.int16).max:\n",
        "      df[col] = df[col].astype('int16')\n",
        "    elif c_min > np.iinfo(np.int32).min and c_max < np.iinfo(np.int32).max:\n",
        "      df[col] = df[col].astype('int32')\n",
        "    elif c_min > np.iinfo(np.int64).min and c_max < np.iinfo(np.int64).max:\n",
        "      df[col] = df[col].astype('int64')\n",
        "\n",
        "  # Calculate memory usage after optimization\n",
        "  end_mem = df.memory_usage().sum() / 1024**2\n",
        "  print('Memory usage after optimization is: {:.2f} MB'.format(end_mem))\n",
        "  print('Decreased by {:.1f}%'.format(100 * (start_mem - end_mem) / start_mem))\n",
        "\n",
        "optimize_data_types(df)"
      ],
      "metadata": {
        "colab": {
          "base_uri": "https://localhost:8080/"
        },
        "id": "XI-N71h1lhg1",
        "outputId": "5e0003bc-c862-49cf-95d3-f257862fd802"
      },
      "execution_count": null,
      "outputs": [
        {
          "output_type": "stream",
          "name": "stdout",
          "text": [
            "Memory usage of dataframe is 561.71 MB\n",
            "Memory usage after optimization is: 333.84 MB\n",
            "Decreased by 40.6%\n"
          ]
        }
      ]
    },
    {
      "cell_type": "markdown",
      "source": [
        "Calculating the memory usage of the DataFrame (df) in megabytes after we Optimize Data Types. As the result below showing the memory usage is only 925.37 MB after the optimization process compared to the initial memory usage which is 6644.94 MB."
      ],
      "metadata": {
        "id": "OkFr71jz2RIk"
      }
    },
    {
      "cell_type": "code",
      "source": [
        "memory_usage_2 = df.memory_usage(deep=True).sum() / (1024 * 1024)\n",
        "memory_usage_2"
      ],
      "metadata": {
        "colab": {
          "base_uri": "https://localhost:8080/"
        },
        "id": "xzd6p9XTiSjk",
        "outputId": "9d1a8ba4-15ad-454c-dbb0-5990ad7c0dcb"
      },
      "execution_count": null,
      "outputs": [
        {
          "output_type": "execute_result",
          "data": {
            "text/plain": [
              "925.367600440979"
            ]
          },
          "metadata": {},
          "execution_count": 23
        }
      ]
    },
    {
      "cell_type": "markdown",
      "source": [
        "Using df.info() to quickly assessing the size of the DataFrame and the types of data it contains."
      ],
      "metadata": {
        "id": "4Be01VjKIfcD"
      }
    },
    {
      "cell_type": "code",
      "source": [
        "df.info()"
      ],
      "metadata": {
        "colab": {
          "base_uri": "https://localhost:8080/"
        },
        "id": "uzRwsUWyrsS0",
        "outputId": "b2e922ea-fd1c-4cb6-f525-2436afe8a41a"
      },
      "execution_count": null,
      "outputs": [
        {
          "output_type": "stream",
          "name": "stdout",
          "text": [
            "<class 'pandas.core.frame.DataFrame'>\n",
            "RangeIndex: 8533848 entries, 0 to 8533847\n",
            "Data columns (total 12 columns):\n",
            " #   Column                Dtype   \n",
            "---  ------                -----   \n",
            " 0   NAME                  object  \n",
            " 1   POSITION              category\n",
            " 2   DEPARTMENT            category\n",
            " 3   MONTH_TOTAL           int32   \n",
            " 4   VACATION_13TH_SALARY  int32   \n",
            " 5   EVENTUAL PAYMENTS     int32   \n",
            " 6   PAYED_PREMIUM_LEAVE   int32   \n",
            " 7   OTHER_INDEMNITIES     int32   \n",
            " 8   WAGE_REDUCER          int32   \n",
            " 9   NET_TOTAL             int32   \n",
            " 10  STATUS                category\n",
            " 11  MONTH                 category\n",
            "dtypes: category(4), int32(7), object(1)\n",
            "memory usage: 333.8+ MB\n"
          ]
        }
      ]
    },
    {
      "cell_type": "markdown",
      "source": [
        "Displaying the first few rows of the DataFrame, providing a quick overview of the dataset's structure and content."
      ],
      "metadata": {
        "id": "LCPK7uDdIi5r"
      }
    },
    {
      "cell_type": "code",
      "source": [
        "df.head()"
      ],
      "metadata": {
        "colab": {
          "base_uri": "https://localhost:8080/",
          "height": 417
        },
        "id": "KscdmGtjrwXh",
        "outputId": "3c10642e-5491-4740-d7d8-c935cf686129"
      },
      "execution_count": null,
      "outputs": [
        {
          "output_type": "execute_result",
          "data": {
            "text/plain": [
              "                         NAME                        POSITION  \\\n",
              "0     AAIRON TELES DE CAMARGO          OFICIAL ADMINISTRATIVO   \n",
              "1       AALAN DA SILVA ARAUJO                        SD 1C PM   \n",
              "2  AARAN ESTEVAO LIMA BARBOSA                        CAP   PM   \n",
              "3           AARAO DE OLIVEIRA                        MAJ   PM   \n",
              "4     AARAO HENRIQUE OLIVEIRA  AG. ESCOLTA E VIGILANCIA PENIT   \n",
              "\n",
              "                       DEPARTMENT  MONTH_TOTAL  VACATION_13TH_SALARY  \\\n",
              "0   DEPT.ESTAD.TRANSITO DETRAN SP       264513                     0   \n",
              "1       POLICIA MILITAR SAO PAULO       446953                     0   \n",
              "2       POLICIA MILITAR SAO PAULO      1398690                     0   \n",
              "3  SAO PAULO PREVIDENCIA   SPPREV      1792151                     0   \n",
              "4  SECRET.ADMINISTR.PENITENCIARIA       371747                     0   \n",
              "\n",
              "   EVENTUAL PAYMENTS  PAYED_PREMIUM_LEAVE  OTHER_INDEMNITIES  WAGE_REDUCER  \\\n",
              "0                  0                    0              19329             0   \n",
              "1                  0                    0             102780             0   \n",
              "2                  0                    0              61668             0   \n",
              "3                  0                    0                  0             0   \n",
              "4                  0                    0              18634             0   \n",
              "\n",
              "   NET_TOTAL       STATUS  MONTH  \n",
              "0     116757       ATIVOS  APRIL  \n",
              "1     267884       ATIVOS  APRIL  \n",
              "2     759282       ATIVOS  APRIL  \n",
              "3    1657469  APOSENTADOS  APRIL  \n",
              "4     275387       ATIVOS  APRIL  "
            ],
            "text/html": [
              "\n",
              "  <div id=\"df-e1f72c00-d9c4-4c9c-8768-9b1540480698\" class=\"colab-df-container\">\n",
              "    <div>\n",
              "<style scoped>\n",
              "    .dataframe tbody tr th:only-of-type {\n",
              "        vertical-align: middle;\n",
              "    }\n",
              "\n",
              "    .dataframe tbody tr th {\n",
              "        vertical-align: top;\n",
              "    }\n",
              "\n",
              "    .dataframe thead th {\n",
              "        text-align: right;\n",
              "    }\n",
              "</style>\n",
              "<table border=\"1\" class=\"dataframe\">\n",
              "  <thead>\n",
              "    <tr style=\"text-align: right;\">\n",
              "      <th></th>\n",
              "      <th>NAME</th>\n",
              "      <th>POSITION</th>\n",
              "      <th>DEPARTMENT</th>\n",
              "      <th>MONTH_TOTAL</th>\n",
              "      <th>VACATION_13TH_SALARY</th>\n",
              "      <th>EVENTUAL PAYMENTS</th>\n",
              "      <th>PAYED_PREMIUM_LEAVE</th>\n",
              "      <th>OTHER_INDEMNITIES</th>\n",
              "      <th>WAGE_REDUCER</th>\n",
              "      <th>NET_TOTAL</th>\n",
              "      <th>STATUS</th>\n",
              "      <th>MONTH</th>\n",
              "    </tr>\n",
              "  </thead>\n",
              "  <tbody>\n",
              "    <tr>\n",
              "      <th>0</th>\n",
              "      <td>AAIRON TELES DE CAMARGO</td>\n",
              "      <td>OFICIAL ADMINISTRATIVO</td>\n",
              "      <td>DEPT.ESTAD.TRANSITO DETRAN SP</td>\n",
              "      <td>264513</td>\n",
              "      <td>0</td>\n",
              "      <td>0</td>\n",
              "      <td>0</td>\n",
              "      <td>19329</td>\n",
              "      <td>0</td>\n",
              "      <td>116757</td>\n",
              "      <td>ATIVOS</td>\n",
              "      <td>APRIL</td>\n",
              "    </tr>\n",
              "    <tr>\n",
              "      <th>1</th>\n",
              "      <td>AALAN DA SILVA ARAUJO</td>\n",
              "      <td>SD 1C PM</td>\n",
              "      <td>POLICIA MILITAR SAO PAULO</td>\n",
              "      <td>446953</td>\n",
              "      <td>0</td>\n",
              "      <td>0</td>\n",
              "      <td>0</td>\n",
              "      <td>102780</td>\n",
              "      <td>0</td>\n",
              "      <td>267884</td>\n",
              "      <td>ATIVOS</td>\n",
              "      <td>APRIL</td>\n",
              "    </tr>\n",
              "    <tr>\n",
              "      <th>2</th>\n",
              "      <td>AARAN ESTEVAO LIMA BARBOSA</td>\n",
              "      <td>CAP   PM</td>\n",
              "      <td>POLICIA MILITAR SAO PAULO</td>\n",
              "      <td>1398690</td>\n",
              "      <td>0</td>\n",
              "      <td>0</td>\n",
              "      <td>0</td>\n",
              "      <td>61668</td>\n",
              "      <td>0</td>\n",
              "      <td>759282</td>\n",
              "      <td>ATIVOS</td>\n",
              "      <td>APRIL</td>\n",
              "    </tr>\n",
              "    <tr>\n",
              "      <th>3</th>\n",
              "      <td>AARAO DE OLIVEIRA</td>\n",
              "      <td>MAJ   PM</td>\n",
              "      <td>SAO PAULO PREVIDENCIA   SPPREV</td>\n",
              "      <td>1792151</td>\n",
              "      <td>0</td>\n",
              "      <td>0</td>\n",
              "      <td>0</td>\n",
              "      <td>0</td>\n",
              "      <td>0</td>\n",
              "      <td>1657469</td>\n",
              "      <td>APOSENTADOS</td>\n",
              "      <td>APRIL</td>\n",
              "    </tr>\n",
              "    <tr>\n",
              "      <th>4</th>\n",
              "      <td>AARAO HENRIQUE OLIVEIRA</td>\n",
              "      <td>AG. ESCOLTA E VIGILANCIA PENIT</td>\n",
              "      <td>SECRET.ADMINISTR.PENITENCIARIA</td>\n",
              "      <td>371747</td>\n",
              "      <td>0</td>\n",
              "      <td>0</td>\n",
              "      <td>0</td>\n",
              "      <td>18634</td>\n",
              "      <td>0</td>\n",
              "      <td>275387</td>\n",
              "      <td>ATIVOS</td>\n",
              "      <td>APRIL</td>\n",
              "    </tr>\n",
              "  </tbody>\n",
              "</table>\n",
              "</div>\n",
              "    <div class=\"colab-df-buttons\">\n",
              "\n",
              "  <div class=\"colab-df-container\">\n",
              "    <button class=\"colab-df-convert\" onclick=\"convertToInteractive('df-e1f72c00-d9c4-4c9c-8768-9b1540480698')\"\n",
              "            title=\"Convert this dataframe to an interactive table.\"\n",
              "            style=\"display:none;\">\n",
              "\n",
              "  <svg xmlns=\"http://www.w3.org/2000/svg\" height=\"24px\" viewBox=\"0 -960 960 960\">\n",
              "    <path d=\"M120-120v-720h720v720H120Zm60-500h600v-160H180v160Zm220 220h160v-160H400v160Zm0 220h160v-160H400v160ZM180-400h160v-160H180v160Zm440 0h160v-160H620v160ZM180-180h160v-160H180v160Zm440 0h160v-160H620v160Z\"/>\n",
              "  </svg>\n",
              "    </button>\n",
              "\n",
              "  <style>\n",
              "    .colab-df-container {\n",
              "      display:flex;\n",
              "      gap: 12px;\n",
              "    }\n",
              "\n",
              "    .colab-df-convert {\n",
              "      background-color: #E8F0FE;\n",
              "      border: none;\n",
              "      border-radius: 50%;\n",
              "      cursor: pointer;\n",
              "      display: none;\n",
              "      fill: #1967D2;\n",
              "      height: 32px;\n",
              "      padding: 0 0 0 0;\n",
              "      width: 32px;\n",
              "    }\n",
              "\n",
              "    .colab-df-convert:hover {\n",
              "      background-color: #E2EBFA;\n",
              "      box-shadow: 0px 1px 2px rgba(60, 64, 67, 0.3), 0px 1px 3px 1px rgba(60, 64, 67, 0.15);\n",
              "      fill: #174EA6;\n",
              "    }\n",
              "\n",
              "    .colab-df-buttons div {\n",
              "      margin-bottom: 4px;\n",
              "    }\n",
              "\n",
              "    [theme=dark] .colab-df-convert {\n",
              "      background-color: #3B4455;\n",
              "      fill: #D2E3FC;\n",
              "    }\n",
              "\n",
              "    [theme=dark] .colab-df-convert:hover {\n",
              "      background-color: #434B5C;\n",
              "      box-shadow: 0px 1px 3px 1px rgba(0, 0, 0, 0.15);\n",
              "      filter: drop-shadow(0px 1px 2px rgba(0, 0, 0, 0.3));\n",
              "      fill: #FFFFFF;\n",
              "    }\n",
              "  </style>\n",
              "\n",
              "    <script>\n",
              "      const buttonEl =\n",
              "        document.querySelector('#df-e1f72c00-d9c4-4c9c-8768-9b1540480698 button.colab-df-convert');\n",
              "      buttonEl.style.display =\n",
              "        google.colab.kernel.accessAllowed ? 'block' : 'none';\n",
              "\n",
              "      async function convertToInteractive(key) {\n",
              "        const element = document.querySelector('#df-e1f72c00-d9c4-4c9c-8768-9b1540480698');\n",
              "        const dataTable =\n",
              "          await google.colab.kernel.invokeFunction('convertToInteractive',\n",
              "                                                    [key], {});\n",
              "        if (!dataTable) return;\n",
              "\n",
              "        const docLinkHtml = 'Like what you see? Visit the ' +\n",
              "          '<a target=\"_blank\" href=https://colab.research.google.com/notebooks/data_table.ipynb>data table notebook</a>'\n",
              "          + ' to learn more about interactive tables.';\n",
              "        element.innerHTML = '';\n",
              "        dataTable['output_type'] = 'display_data';\n",
              "        await google.colab.output.renderOutput(dataTable, element);\n",
              "        const docLink = document.createElement('div');\n",
              "        docLink.innerHTML = docLinkHtml;\n",
              "        element.appendChild(docLink);\n",
              "      }\n",
              "    </script>\n",
              "  </div>\n",
              "\n",
              "\n",
              "<div id=\"df-8860ee49-f14e-41bc-94b6-98af6e12eed4\">\n",
              "  <button class=\"colab-df-quickchart\" onclick=\"quickchart('df-8860ee49-f14e-41bc-94b6-98af6e12eed4')\"\n",
              "            title=\"Suggest charts\"\n",
              "            style=\"display:none;\">\n",
              "\n",
              "<svg xmlns=\"http://www.w3.org/2000/svg\" height=\"24px\"viewBox=\"0 0 24 24\"\n",
              "     width=\"24px\">\n",
              "    <g>\n",
              "        <path d=\"M19 3H5c-1.1 0-2 .9-2 2v14c0 1.1.9 2 2 2h14c1.1 0 2-.9 2-2V5c0-1.1-.9-2-2-2zM9 17H7v-7h2v7zm4 0h-2V7h2v10zm4 0h-2v-4h2v4z\"/>\n",
              "    </g>\n",
              "</svg>\n",
              "  </button>\n",
              "\n",
              "<style>\n",
              "  .colab-df-quickchart {\n",
              "      --bg-color: #E8F0FE;\n",
              "      --fill-color: #1967D2;\n",
              "      --hover-bg-color: #E2EBFA;\n",
              "      --hover-fill-color: #174EA6;\n",
              "      --disabled-fill-color: #AAA;\n",
              "      --disabled-bg-color: #DDD;\n",
              "  }\n",
              "\n",
              "  [theme=dark] .colab-df-quickchart {\n",
              "      --bg-color: #3B4455;\n",
              "      --fill-color: #D2E3FC;\n",
              "      --hover-bg-color: #434B5C;\n",
              "      --hover-fill-color: #FFFFFF;\n",
              "      --disabled-bg-color: #3B4455;\n",
              "      --disabled-fill-color: #666;\n",
              "  }\n",
              "\n",
              "  .colab-df-quickchart {\n",
              "    background-color: var(--bg-color);\n",
              "    border: none;\n",
              "    border-radius: 50%;\n",
              "    cursor: pointer;\n",
              "    display: none;\n",
              "    fill: var(--fill-color);\n",
              "    height: 32px;\n",
              "    padding: 0;\n",
              "    width: 32px;\n",
              "  }\n",
              "\n",
              "  .colab-df-quickchart:hover {\n",
              "    background-color: var(--hover-bg-color);\n",
              "    box-shadow: 0 1px 2px rgba(60, 64, 67, 0.3), 0 1px 3px 1px rgba(60, 64, 67, 0.15);\n",
              "    fill: var(--button-hover-fill-color);\n",
              "  }\n",
              "\n",
              "  .colab-df-quickchart-complete:disabled,\n",
              "  .colab-df-quickchart-complete:disabled:hover {\n",
              "    background-color: var(--disabled-bg-color);\n",
              "    fill: var(--disabled-fill-color);\n",
              "    box-shadow: none;\n",
              "  }\n",
              "\n",
              "  .colab-df-spinner {\n",
              "    border: 2px solid var(--fill-color);\n",
              "    border-color: transparent;\n",
              "    border-bottom-color: var(--fill-color);\n",
              "    animation:\n",
              "      spin 1s steps(1) infinite;\n",
              "  }\n",
              "\n",
              "  @keyframes spin {\n",
              "    0% {\n",
              "      border-color: transparent;\n",
              "      border-bottom-color: var(--fill-color);\n",
              "      border-left-color: var(--fill-color);\n",
              "    }\n",
              "    20% {\n",
              "      border-color: transparent;\n",
              "      border-left-color: var(--fill-color);\n",
              "      border-top-color: var(--fill-color);\n",
              "    }\n",
              "    30% {\n",
              "      border-color: transparent;\n",
              "      border-left-color: var(--fill-color);\n",
              "      border-top-color: var(--fill-color);\n",
              "      border-right-color: var(--fill-color);\n",
              "    }\n",
              "    40% {\n",
              "      border-color: transparent;\n",
              "      border-right-color: var(--fill-color);\n",
              "      border-top-color: var(--fill-color);\n",
              "    }\n",
              "    60% {\n",
              "      border-color: transparent;\n",
              "      border-right-color: var(--fill-color);\n",
              "    }\n",
              "    80% {\n",
              "      border-color: transparent;\n",
              "      border-right-color: var(--fill-color);\n",
              "      border-bottom-color: var(--fill-color);\n",
              "    }\n",
              "    90% {\n",
              "      border-color: transparent;\n",
              "      border-bottom-color: var(--fill-color);\n",
              "    }\n",
              "  }\n",
              "</style>\n",
              "\n",
              "  <script>\n",
              "    async function quickchart(key) {\n",
              "      const quickchartButtonEl =\n",
              "        document.querySelector('#' + key + ' button');\n",
              "      quickchartButtonEl.disabled = true;  // To prevent multiple clicks.\n",
              "      quickchartButtonEl.classList.add('colab-df-spinner');\n",
              "      try {\n",
              "        const charts = await google.colab.kernel.invokeFunction(\n",
              "            'suggestCharts', [key], {});\n",
              "      } catch (error) {\n",
              "        console.error('Error during call to suggestCharts:', error);\n",
              "      }\n",
              "      quickchartButtonEl.classList.remove('colab-df-spinner');\n",
              "      quickchartButtonEl.classList.add('colab-df-quickchart-complete');\n",
              "    }\n",
              "    (() => {\n",
              "      let quickchartButtonEl =\n",
              "        document.querySelector('#df-8860ee49-f14e-41bc-94b6-98af6e12eed4 button');\n",
              "      quickchartButtonEl.style.display =\n",
              "        google.colab.kernel.accessAllowed ? 'block' : 'none';\n",
              "    })();\n",
              "  </script>\n",
              "</div>\n",
              "    </div>\n",
              "  </div>\n"
            ]
          },
          "metadata": {},
          "execution_count": 25
        }
      ]
    },
    {
      "cell_type": "markdown",
      "source": [
        "Cleaned dataset is saved so we can have a comparation with the initial dataset afterwards.\n",
        "\n",
        "Exporting the DataFrame to a CSV file. The cleaned dataset is saved so that we can make comparison with the initial dataset afterwards."
      ],
      "metadata": {
        "id": "LI0yErAK6l0r"
      }
    },
    {
      "cell_type": "code",
      "source": [
        "df.to_csv('all_merged/small_size_2023_jan_august_merged.csv')"
      ],
      "metadata": {
        "id": "nbjW7vU785I6"
      },
      "execution_count": null,
      "outputs": []
    },
    {
      "cell_type": "markdown",
      "source": [
        "Deleting the DataFrame."
      ],
      "metadata": {
        "id": "YULdeOOZI850"
      }
    },
    {
      "cell_type": "code",
      "source": [
        "del df"
      ],
      "metadata": {
        "id": "bvy4rU7ANZbu"
      },
      "execution_count": null,
      "outputs": []
    },
    {
      "cell_type": "markdown",
      "source": [
        "gc.collect() is a call to the garbage collector in Python. This function manually triggers the garbage collector to attempt to clean up unreferenced and unused objects in memory, thus improving the memory efficiency."
      ],
      "metadata": {
        "id": "gQxmPAWAJIox"
      }
    },
    {
      "cell_type": "code",
      "source": [
        "gc.collect()"
      ],
      "metadata": {
        "colab": {
          "base_uri": "https://localhost:8080/"
        },
        "id": "D15UAZzaCTML",
        "outputId": "1fcae173-7f77-45bd-9da3-041cfb9f751b"
      },
      "execution_count": null,
      "outputs": [
        {
          "output_type": "execute_result",
          "data": {
            "text/plain": [
              "0"
            ]
          },
          "metadata": {},
          "execution_count": 28
        }
      ]
    },
    {
      "cell_type": "markdown",
      "source": [
        "### 3. Use Chunking\n",
        "\n",
        "Dividing the dataset into smaller, manageable chunks and processing them one at a time. This is particularly useful when the entire dataset cannot fit into memory.  By processing data in smaller pieces, we can perform computations iteratively, avoiding memory overflow issues."
      ],
      "metadata": {
        "id": "JqGWUWYTvf_B"
      }
    },
    {
      "cell_type": "markdown",
      "source": [
        "**Traditional method**"
      ],
      "metadata": {
        "id": "aIB2uz6i9dOP"
      }
    },
    {
      "cell_type": "markdown",
      "source": [
        "####What is the average net total income for each status?\n",
        "\n",
        "In order to answer this question, we load only 2 columns which 'NET TOTAL' and 'STATUS'.\n",
        "\n",
        "There are 3 rows contained in the 'STATUS' column which are:\n",
        "* APOSENTADOS :- RETIREES\n",
        "* ATIVOS :- ACTIVE\n",
        "* PENSIONISTAS :- PENSIONERS"
      ],
      "metadata": {
        "id": "WRxI0iql9spJ"
      }
    },
    {
      "cell_type": "code",
      "source": [
        "target_file = 'all_merged/small_size_2023_jan_august_merged.csv'\n",
        "columns_needed = ['NET_TOTAL', 'STATUS']"
      ],
      "metadata": {
        "id": "rPYyIxkxGNUw"
      },
      "execution_count": null,
      "outputs": []
    },
    {
      "cell_type": "markdown",
      "source": [
        "We use '%%time' magic command to display the time taken for the execution of the entire cell. This command can conclude the performance of reading data from the CSV file and performing a grouping and aggregation operation."
      ],
      "metadata": {
        "id": "T1Dj9T7QKbFE"
      }
    },
    {
      "cell_type": "code",
      "source": [
        "%%time\n",
        "df = pd.read_csv(target_file, usecols = columns_needed)\n",
        "mean = df.groupby('STATUS').agg('mean')"
      ],
      "metadata": {
        "id": "VMa1a3FQ42Ma",
        "colab": {
          "base_uri": "https://localhost:8080/"
        },
        "outputId": "630db170-99f6-40f0-d0d2-b8cd89584bcd"
      },
      "execution_count": null,
      "outputs": [
        {
          "output_type": "stream",
          "name": "stdout",
          "text": [
            "CPU times: user 9.9 s, sys: 645 ms, total: 10.5 s\n",
            "Wall time: 10.6 s\n"
          ]
        }
      ]
    },
    {
      "cell_type": "markdown",
      "source": [
        "Calculation the mean of NET_TOTAL for every different STATUS."
      ],
      "metadata": {
        "id": "R1X-SMNVLhCS"
      }
    },
    {
      "cell_type": "code",
      "source": [
        "mean"
      ],
      "metadata": {
        "colab": {
          "base_uri": "https://localhost:8080/",
          "height": 175
        },
        "id": "hGk1omf-95eH",
        "outputId": "fa0a0d6e-1fb1-4aba-b3e3-a34d06b7a294"
      },
      "execution_count": null,
      "outputs": [
        {
          "output_type": "execute_result",
          "data": {
            "text/plain": [
              "                  NET_TOTAL\n",
              "STATUS                     \n",
              "APOSENTADOS   522020.002970\n",
              "ATIVOS        494071.963205\n",
              "PENSIONISTAS  484023.680335"
            ],
            "text/html": [
              "\n",
              "  <div id=\"df-558d94f3-5bce-4b31-9637-b1f473ecd8c8\" class=\"colab-df-container\">\n",
              "    <div>\n",
              "<style scoped>\n",
              "    .dataframe tbody tr th:only-of-type {\n",
              "        vertical-align: middle;\n",
              "    }\n",
              "\n",
              "    .dataframe tbody tr th {\n",
              "        vertical-align: top;\n",
              "    }\n",
              "\n",
              "    .dataframe thead th {\n",
              "        text-align: right;\n",
              "    }\n",
              "</style>\n",
              "<table border=\"1\" class=\"dataframe\">\n",
              "  <thead>\n",
              "    <tr style=\"text-align: right;\">\n",
              "      <th></th>\n",
              "      <th>NET_TOTAL</th>\n",
              "    </tr>\n",
              "    <tr>\n",
              "      <th>STATUS</th>\n",
              "      <th></th>\n",
              "    </tr>\n",
              "  </thead>\n",
              "  <tbody>\n",
              "    <tr>\n",
              "      <th>APOSENTADOS</th>\n",
              "      <td>522020.002970</td>\n",
              "    </tr>\n",
              "    <tr>\n",
              "      <th>ATIVOS</th>\n",
              "      <td>494071.963205</td>\n",
              "    </tr>\n",
              "    <tr>\n",
              "      <th>PENSIONISTAS</th>\n",
              "      <td>484023.680335</td>\n",
              "    </tr>\n",
              "  </tbody>\n",
              "</table>\n",
              "</div>\n",
              "    <div class=\"colab-df-buttons\">\n",
              "\n",
              "  <div class=\"colab-df-container\">\n",
              "    <button class=\"colab-df-convert\" onclick=\"convertToInteractive('df-558d94f3-5bce-4b31-9637-b1f473ecd8c8')\"\n",
              "            title=\"Convert this dataframe to an interactive table.\"\n",
              "            style=\"display:none;\">\n",
              "\n",
              "  <svg xmlns=\"http://www.w3.org/2000/svg\" height=\"24px\" viewBox=\"0 -960 960 960\">\n",
              "    <path d=\"M120-120v-720h720v720H120Zm60-500h600v-160H180v160Zm220 220h160v-160H400v160Zm0 220h160v-160H400v160ZM180-400h160v-160H180v160Zm440 0h160v-160H620v160ZM180-180h160v-160H180v160Zm440 0h160v-160H620v160Z\"/>\n",
              "  </svg>\n",
              "    </button>\n",
              "\n",
              "  <style>\n",
              "    .colab-df-container {\n",
              "      display:flex;\n",
              "      gap: 12px;\n",
              "    }\n",
              "\n",
              "    .colab-df-convert {\n",
              "      background-color: #E8F0FE;\n",
              "      border: none;\n",
              "      border-radius: 50%;\n",
              "      cursor: pointer;\n",
              "      display: none;\n",
              "      fill: #1967D2;\n",
              "      height: 32px;\n",
              "      padding: 0 0 0 0;\n",
              "      width: 32px;\n",
              "    }\n",
              "\n",
              "    .colab-df-convert:hover {\n",
              "      background-color: #E2EBFA;\n",
              "      box-shadow: 0px 1px 2px rgba(60, 64, 67, 0.3), 0px 1px 3px 1px rgba(60, 64, 67, 0.15);\n",
              "      fill: #174EA6;\n",
              "    }\n",
              "\n",
              "    .colab-df-buttons div {\n",
              "      margin-bottom: 4px;\n",
              "    }\n",
              "\n",
              "    [theme=dark] .colab-df-convert {\n",
              "      background-color: #3B4455;\n",
              "      fill: #D2E3FC;\n",
              "    }\n",
              "\n",
              "    [theme=dark] .colab-df-convert:hover {\n",
              "      background-color: #434B5C;\n",
              "      box-shadow: 0px 1px 3px 1px rgba(0, 0, 0, 0.15);\n",
              "      filter: drop-shadow(0px 1px 2px rgba(0, 0, 0, 0.3));\n",
              "      fill: #FFFFFF;\n",
              "    }\n",
              "  </style>\n",
              "\n",
              "    <script>\n",
              "      const buttonEl =\n",
              "        document.querySelector('#df-558d94f3-5bce-4b31-9637-b1f473ecd8c8 button.colab-df-convert');\n",
              "      buttonEl.style.display =\n",
              "        google.colab.kernel.accessAllowed ? 'block' : 'none';\n",
              "\n",
              "      async function convertToInteractive(key) {\n",
              "        const element = document.querySelector('#df-558d94f3-5bce-4b31-9637-b1f473ecd8c8');\n",
              "        const dataTable =\n",
              "          await google.colab.kernel.invokeFunction('convertToInteractive',\n",
              "                                                    [key], {});\n",
              "        if (!dataTable) return;\n",
              "\n",
              "        const docLinkHtml = 'Like what you see? Visit the ' +\n",
              "          '<a target=\"_blank\" href=https://colab.research.google.com/notebooks/data_table.ipynb>data table notebook</a>'\n",
              "          + ' to learn more about interactive tables.';\n",
              "        element.innerHTML = '';\n",
              "        dataTable['output_type'] = 'display_data';\n",
              "        await google.colab.output.renderOutput(dataTable, element);\n",
              "        const docLink = document.createElement('div');\n",
              "        docLink.innerHTML = docLinkHtml;\n",
              "        element.appendChild(docLink);\n",
              "      }\n",
              "    </script>\n",
              "  </div>\n",
              "\n",
              "\n",
              "<div id=\"df-6f26f389-8127-494b-a1e9-1bc1bbad92dc\">\n",
              "  <button class=\"colab-df-quickchart\" onclick=\"quickchart('df-6f26f389-8127-494b-a1e9-1bc1bbad92dc')\"\n",
              "            title=\"Suggest charts\"\n",
              "            style=\"display:none;\">\n",
              "\n",
              "<svg xmlns=\"http://www.w3.org/2000/svg\" height=\"24px\"viewBox=\"0 0 24 24\"\n",
              "     width=\"24px\">\n",
              "    <g>\n",
              "        <path d=\"M19 3H5c-1.1 0-2 .9-2 2v14c0 1.1.9 2 2 2h14c1.1 0 2-.9 2-2V5c0-1.1-.9-2-2-2zM9 17H7v-7h2v7zm4 0h-2V7h2v10zm4 0h-2v-4h2v4z\"/>\n",
              "    </g>\n",
              "</svg>\n",
              "  </button>\n",
              "\n",
              "<style>\n",
              "  .colab-df-quickchart {\n",
              "      --bg-color: #E8F0FE;\n",
              "      --fill-color: #1967D2;\n",
              "      --hover-bg-color: #E2EBFA;\n",
              "      --hover-fill-color: #174EA6;\n",
              "      --disabled-fill-color: #AAA;\n",
              "      --disabled-bg-color: #DDD;\n",
              "  }\n",
              "\n",
              "  [theme=dark] .colab-df-quickchart {\n",
              "      --bg-color: #3B4455;\n",
              "      --fill-color: #D2E3FC;\n",
              "      --hover-bg-color: #434B5C;\n",
              "      --hover-fill-color: #FFFFFF;\n",
              "      --disabled-bg-color: #3B4455;\n",
              "      --disabled-fill-color: #666;\n",
              "  }\n",
              "\n",
              "  .colab-df-quickchart {\n",
              "    background-color: var(--bg-color);\n",
              "    border: none;\n",
              "    border-radius: 50%;\n",
              "    cursor: pointer;\n",
              "    display: none;\n",
              "    fill: var(--fill-color);\n",
              "    height: 32px;\n",
              "    padding: 0;\n",
              "    width: 32px;\n",
              "  }\n",
              "\n",
              "  .colab-df-quickchart:hover {\n",
              "    background-color: var(--hover-bg-color);\n",
              "    box-shadow: 0 1px 2px rgba(60, 64, 67, 0.3), 0 1px 3px 1px rgba(60, 64, 67, 0.15);\n",
              "    fill: var(--button-hover-fill-color);\n",
              "  }\n",
              "\n",
              "  .colab-df-quickchart-complete:disabled,\n",
              "  .colab-df-quickchart-complete:disabled:hover {\n",
              "    background-color: var(--disabled-bg-color);\n",
              "    fill: var(--disabled-fill-color);\n",
              "    box-shadow: none;\n",
              "  }\n",
              "\n",
              "  .colab-df-spinner {\n",
              "    border: 2px solid var(--fill-color);\n",
              "    border-color: transparent;\n",
              "    border-bottom-color: var(--fill-color);\n",
              "    animation:\n",
              "      spin 1s steps(1) infinite;\n",
              "  }\n",
              "\n",
              "  @keyframes spin {\n",
              "    0% {\n",
              "      border-color: transparent;\n",
              "      border-bottom-color: var(--fill-color);\n",
              "      border-left-color: var(--fill-color);\n",
              "    }\n",
              "    20% {\n",
              "      border-color: transparent;\n",
              "      border-left-color: var(--fill-color);\n",
              "      border-top-color: var(--fill-color);\n",
              "    }\n",
              "    30% {\n",
              "      border-color: transparent;\n",
              "      border-left-color: var(--fill-color);\n",
              "      border-top-color: var(--fill-color);\n",
              "      border-right-color: var(--fill-color);\n",
              "    }\n",
              "    40% {\n",
              "      border-color: transparent;\n",
              "      border-right-color: var(--fill-color);\n",
              "      border-top-color: var(--fill-color);\n",
              "    }\n",
              "    60% {\n",
              "      border-color: transparent;\n",
              "      border-right-color: var(--fill-color);\n",
              "    }\n",
              "    80% {\n",
              "      border-color: transparent;\n",
              "      border-right-color: var(--fill-color);\n",
              "      border-bottom-color: var(--fill-color);\n",
              "    }\n",
              "    90% {\n",
              "      border-color: transparent;\n",
              "      border-bottom-color: var(--fill-color);\n",
              "    }\n",
              "  }\n",
              "</style>\n",
              "\n",
              "  <script>\n",
              "    async function quickchart(key) {\n",
              "      const quickchartButtonEl =\n",
              "        document.querySelector('#' + key + ' button');\n",
              "      quickchartButtonEl.disabled = true;  // To prevent multiple clicks.\n",
              "      quickchartButtonEl.classList.add('colab-df-spinner');\n",
              "      try {\n",
              "        const charts = await google.colab.kernel.invokeFunction(\n",
              "            'suggestCharts', [key], {});\n",
              "      } catch (error) {\n",
              "        console.error('Error during call to suggestCharts:', error);\n",
              "      }\n",
              "      quickchartButtonEl.classList.remove('colab-df-spinner');\n",
              "      quickchartButtonEl.classList.add('colab-df-quickchart-complete');\n",
              "    }\n",
              "    (() => {\n",
              "      let quickchartButtonEl =\n",
              "        document.querySelector('#df-6f26f389-8127-494b-a1e9-1bc1bbad92dc button');\n",
              "      quickchartButtonEl.style.display =\n",
              "        google.colab.kernel.accessAllowed ? 'block' : 'none';\n",
              "    })();\n",
              "  </script>\n",
              "</div>\n",
              "    </div>\n",
              "  </div>\n"
            ]
          },
          "metadata": {},
          "execution_count": 31
        }
      ]
    },
    {
      "cell_type": "markdown",
      "source": [
        "Deleting the dataframe."
      ],
      "metadata": {
        "id": "YoFVKYLMLuph"
      }
    },
    {
      "cell_type": "code",
      "source": [
        "del df"
      ],
      "metadata": {
        "id": "cmNa6PxE5CGR"
      },
      "execution_count": null,
      "outputs": []
    },
    {
      "cell_type": "markdown",
      "source": [
        "**Chunking method**"
      ],
      "metadata": {
        "id": "erPZ0Uj3-Bk_"
      }
    },
    {
      "cell_type": "markdown",
      "source": [
        "We will be using '%%time' magic command to measures the time taken to run the entire cell. The code below will be reading the dataset in manageable chunks, then performing operations on each chunk and aggregating the results. This approach is memory-efficient and suitable when the entire dataset is too large to fit into the memory.\n",
        "\n",
        "From the result below, we can see that the time taken to run the entire while using Chunking strategy and the initial processing time.\n",
        "\n",
        "|      Scenario               | User  |   Sys   |  Total  |  Wall time |\n",
        "| :-------------------- | :-------------: |  :-------------: |  :-------------: |  :-------------: |\n",
        "| Initial processing time      | 2 µs         | 1 µs  | 3 µs | 7.39 µs |\n",
        "| Using Chunking Strategy           |10 s        | 426 ms| 10.5 s| 10.5 s|\n",
        "\n",
        "It is clear that chunking method will take longer execution time when we compare the processing time of chunking and the initial processing time."
      ],
      "metadata": {
        "id": "XL5QIokfL-rx"
      }
    },
    {
      "cell_type": "code",
      "source": [
        "%%time\n",
        "# Initialize an empty DataFrame to store the aggregated results\n",
        "aggregated_results = pd.DataFrame()\n",
        "\n",
        "# Iterate through chunks of the CSV file\n",
        "for chunk in pd.read_csv(target_file,  usecols = columns_needed, chunksize=500000):\n",
        "    # Perform your operations on each chunk\n",
        "    mean_chunk = chunk.groupby('STATUS').agg('mean')\n",
        "\n",
        "    # Append the aggregated results for the chunk to the final DataFrame\n",
        "    aggregated_results = aggregated_results.append(mean_chunk)\n",
        "\n",
        "# Calculate the overall mean from the aggregated results\n",
        "final_mean = aggregated_results.groupby('STATUS').agg('mean')"
      ],
      "metadata": {
        "colab": {
          "base_uri": "https://localhost:8080/"
        },
        "id": "BTTi6x-J_AVe",
        "outputId": "d6359214-9093-40a6-b5e8-5ee0d8133167"
      },
      "execution_count": null,
      "outputs": [
        {
          "output_type": "stream",
          "name": "stderr",
          "text": [
            "<timed exec>:10: FutureWarning: The frame.append method is deprecated and will be removed from pandas in a future version. Use pandas.concat instead.\n",
            "<timed exec>:10: FutureWarning: The frame.append method is deprecated and will be removed from pandas in a future version. Use pandas.concat instead.\n",
            "<timed exec>:10: FutureWarning: The frame.append method is deprecated and will be removed from pandas in a future version. Use pandas.concat instead.\n",
            "<timed exec>:10: FutureWarning: The frame.append method is deprecated and will be removed from pandas in a future version. Use pandas.concat instead.\n",
            "<timed exec>:10: FutureWarning: The frame.append method is deprecated and will be removed from pandas in a future version. Use pandas.concat instead.\n",
            "<timed exec>:10: FutureWarning: The frame.append method is deprecated and will be removed from pandas in a future version. Use pandas.concat instead.\n",
            "<timed exec>:10: FutureWarning: The frame.append method is deprecated and will be removed from pandas in a future version. Use pandas.concat instead.\n",
            "<timed exec>:10: FutureWarning: The frame.append method is deprecated and will be removed from pandas in a future version. Use pandas.concat instead.\n",
            "<timed exec>:10: FutureWarning: The frame.append method is deprecated and will be removed from pandas in a future version. Use pandas.concat instead.\n",
            "<timed exec>:10: FutureWarning: The frame.append method is deprecated and will be removed from pandas in a future version. Use pandas.concat instead.\n",
            "<timed exec>:10: FutureWarning: The frame.append method is deprecated and will be removed from pandas in a future version. Use pandas.concat instead.\n",
            "<timed exec>:10: FutureWarning: The frame.append method is deprecated and will be removed from pandas in a future version. Use pandas.concat instead.\n",
            "<timed exec>:10: FutureWarning: The frame.append method is deprecated and will be removed from pandas in a future version. Use pandas.concat instead.\n",
            "<timed exec>:10: FutureWarning: The frame.append method is deprecated and will be removed from pandas in a future version. Use pandas.concat instead.\n",
            "<timed exec>:10: FutureWarning: The frame.append method is deprecated and will be removed from pandas in a future version. Use pandas.concat instead.\n",
            "<timed exec>:10: FutureWarning: The frame.append method is deprecated and will be removed from pandas in a future version. Use pandas.concat instead.\n"
          ]
        },
        {
          "output_type": "stream",
          "name": "stdout",
          "text": [
            "CPU times: user 10 s, sys: 426 ms, total: 10.5 s\n",
            "Wall time: 10.5 s\n"
          ]
        },
        {
          "output_type": "stream",
          "name": "stderr",
          "text": [
            "<timed exec>:10: FutureWarning: The frame.append method is deprecated and will be removed from pandas in a future version. Use pandas.concat instead.\n",
            "<timed exec>:10: FutureWarning: The frame.append method is deprecated and will be removed from pandas in a future version. Use pandas.concat instead.\n"
          ]
        }
      ]
    },
    {
      "cell_type": "markdown",
      "source": [
        "Showing the mean of NET_TOTAL for every different STATUS.\n",
        "\n",
        "From the results we can see that:\n",
        "* The mean of 'Retirees' Status rised up from 522020.00 to 524646.91\n",
        "* The mean of 'Active' Status dropped down from 494071.96 to 493732.53\n",
        "* The mean of 'PENSIONERS' rised up from 484023.68 to 484683.35\n",
        "\n",
        "The result is almost similar to the result that we produced by using the original DataFrame, so it will not cause any bad effects to our result.\n"
      ],
      "metadata": {
        "id": "BhdtWveqMjHB"
      }
    },
    {
      "cell_type": "code",
      "source": [
        "final_mean"
      ],
      "metadata": {
        "colab": {
          "base_uri": "https://localhost:8080/",
          "height": 175
        },
        "id": "ogcAZ0vg_LVZ",
        "outputId": "87202926-21d2-4ac2-cc60-584601777c5f"
      },
      "execution_count": null,
      "outputs": [
        {
          "output_type": "execute_result",
          "data": {
            "text/plain": [
              "                  NET_TOTAL\n",
              "STATUS                     \n",
              "APOSENTADOS   524646.906214\n",
              "ATIVOS        493732.528653\n",
              "PENSIONISTAS  484683.353709"
            ],
            "text/html": [
              "\n",
              "  <div id=\"df-ae268e16-8adb-4672-996c-dee021a87278\" class=\"colab-df-container\">\n",
              "    <div>\n",
              "<style scoped>\n",
              "    .dataframe tbody tr th:only-of-type {\n",
              "        vertical-align: middle;\n",
              "    }\n",
              "\n",
              "    .dataframe tbody tr th {\n",
              "        vertical-align: top;\n",
              "    }\n",
              "\n",
              "    .dataframe thead th {\n",
              "        text-align: right;\n",
              "    }\n",
              "</style>\n",
              "<table border=\"1\" class=\"dataframe\">\n",
              "  <thead>\n",
              "    <tr style=\"text-align: right;\">\n",
              "      <th></th>\n",
              "      <th>NET_TOTAL</th>\n",
              "    </tr>\n",
              "    <tr>\n",
              "      <th>STATUS</th>\n",
              "      <th></th>\n",
              "    </tr>\n",
              "  </thead>\n",
              "  <tbody>\n",
              "    <tr>\n",
              "      <th>APOSENTADOS</th>\n",
              "      <td>524646.906214</td>\n",
              "    </tr>\n",
              "    <tr>\n",
              "      <th>ATIVOS</th>\n",
              "      <td>493732.528653</td>\n",
              "    </tr>\n",
              "    <tr>\n",
              "      <th>PENSIONISTAS</th>\n",
              "      <td>484683.353709</td>\n",
              "    </tr>\n",
              "  </tbody>\n",
              "</table>\n",
              "</div>\n",
              "    <div class=\"colab-df-buttons\">\n",
              "\n",
              "  <div class=\"colab-df-container\">\n",
              "    <button class=\"colab-df-convert\" onclick=\"convertToInteractive('df-ae268e16-8adb-4672-996c-dee021a87278')\"\n",
              "            title=\"Convert this dataframe to an interactive table.\"\n",
              "            style=\"display:none;\">\n",
              "\n",
              "  <svg xmlns=\"http://www.w3.org/2000/svg\" height=\"24px\" viewBox=\"0 -960 960 960\">\n",
              "    <path d=\"M120-120v-720h720v720H120Zm60-500h600v-160H180v160Zm220 220h160v-160H400v160Zm0 220h160v-160H400v160ZM180-400h160v-160H180v160Zm440 0h160v-160H620v160ZM180-180h160v-160H180v160Zm440 0h160v-160H620v160Z\"/>\n",
              "  </svg>\n",
              "    </button>\n",
              "\n",
              "  <style>\n",
              "    .colab-df-container {\n",
              "      display:flex;\n",
              "      gap: 12px;\n",
              "    }\n",
              "\n",
              "    .colab-df-convert {\n",
              "      background-color: #E8F0FE;\n",
              "      border: none;\n",
              "      border-radius: 50%;\n",
              "      cursor: pointer;\n",
              "      display: none;\n",
              "      fill: #1967D2;\n",
              "      height: 32px;\n",
              "      padding: 0 0 0 0;\n",
              "      width: 32px;\n",
              "    }\n",
              "\n",
              "    .colab-df-convert:hover {\n",
              "      background-color: #E2EBFA;\n",
              "      box-shadow: 0px 1px 2px rgba(60, 64, 67, 0.3), 0px 1px 3px 1px rgba(60, 64, 67, 0.15);\n",
              "      fill: #174EA6;\n",
              "    }\n",
              "\n",
              "    .colab-df-buttons div {\n",
              "      margin-bottom: 4px;\n",
              "    }\n",
              "\n",
              "    [theme=dark] .colab-df-convert {\n",
              "      background-color: #3B4455;\n",
              "      fill: #D2E3FC;\n",
              "    }\n",
              "\n",
              "    [theme=dark] .colab-df-convert:hover {\n",
              "      background-color: #434B5C;\n",
              "      box-shadow: 0px 1px 3px 1px rgba(0, 0, 0, 0.15);\n",
              "      filter: drop-shadow(0px 1px 2px rgba(0, 0, 0, 0.3));\n",
              "      fill: #FFFFFF;\n",
              "    }\n",
              "  </style>\n",
              "\n",
              "    <script>\n",
              "      const buttonEl =\n",
              "        document.querySelector('#df-ae268e16-8adb-4672-996c-dee021a87278 button.colab-df-convert');\n",
              "      buttonEl.style.display =\n",
              "        google.colab.kernel.accessAllowed ? 'block' : 'none';\n",
              "\n",
              "      async function convertToInteractive(key) {\n",
              "        const element = document.querySelector('#df-ae268e16-8adb-4672-996c-dee021a87278');\n",
              "        const dataTable =\n",
              "          await google.colab.kernel.invokeFunction('convertToInteractive',\n",
              "                                                    [key], {});\n",
              "        if (!dataTable) return;\n",
              "\n",
              "        const docLinkHtml = 'Like what you see? Visit the ' +\n",
              "          '<a target=\"_blank\" href=https://colab.research.google.com/notebooks/data_table.ipynb>data table notebook</a>'\n",
              "          + ' to learn more about interactive tables.';\n",
              "        element.innerHTML = '';\n",
              "        dataTable['output_type'] = 'display_data';\n",
              "        await google.colab.output.renderOutput(dataTable, element);\n",
              "        const docLink = document.createElement('div');\n",
              "        docLink.innerHTML = docLinkHtml;\n",
              "        element.appendChild(docLink);\n",
              "      }\n",
              "    </script>\n",
              "  </div>\n",
              "\n",
              "\n",
              "<div id=\"df-192a3c32-eb65-4b7b-83c4-0b938c59b8b7\">\n",
              "  <button class=\"colab-df-quickchart\" onclick=\"quickchart('df-192a3c32-eb65-4b7b-83c4-0b938c59b8b7')\"\n",
              "            title=\"Suggest charts\"\n",
              "            style=\"display:none;\">\n",
              "\n",
              "<svg xmlns=\"http://www.w3.org/2000/svg\" height=\"24px\"viewBox=\"0 0 24 24\"\n",
              "     width=\"24px\">\n",
              "    <g>\n",
              "        <path d=\"M19 3H5c-1.1 0-2 .9-2 2v14c0 1.1.9 2 2 2h14c1.1 0 2-.9 2-2V5c0-1.1-.9-2-2-2zM9 17H7v-7h2v7zm4 0h-2V7h2v10zm4 0h-2v-4h2v4z\"/>\n",
              "    </g>\n",
              "</svg>\n",
              "  </button>\n",
              "\n",
              "<style>\n",
              "  .colab-df-quickchart {\n",
              "      --bg-color: #E8F0FE;\n",
              "      --fill-color: #1967D2;\n",
              "      --hover-bg-color: #E2EBFA;\n",
              "      --hover-fill-color: #174EA6;\n",
              "      --disabled-fill-color: #AAA;\n",
              "      --disabled-bg-color: #DDD;\n",
              "  }\n",
              "\n",
              "  [theme=dark] .colab-df-quickchart {\n",
              "      --bg-color: #3B4455;\n",
              "      --fill-color: #D2E3FC;\n",
              "      --hover-bg-color: #434B5C;\n",
              "      --hover-fill-color: #FFFFFF;\n",
              "      --disabled-bg-color: #3B4455;\n",
              "      --disabled-fill-color: #666;\n",
              "  }\n",
              "\n",
              "  .colab-df-quickchart {\n",
              "    background-color: var(--bg-color);\n",
              "    border: none;\n",
              "    border-radius: 50%;\n",
              "    cursor: pointer;\n",
              "    display: none;\n",
              "    fill: var(--fill-color);\n",
              "    height: 32px;\n",
              "    padding: 0;\n",
              "    width: 32px;\n",
              "  }\n",
              "\n",
              "  .colab-df-quickchart:hover {\n",
              "    background-color: var(--hover-bg-color);\n",
              "    box-shadow: 0 1px 2px rgba(60, 64, 67, 0.3), 0 1px 3px 1px rgba(60, 64, 67, 0.15);\n",
              "    fill: var(--button-hover-fill-color);\n",
              "  }\n",
              "\n",
              "  .colab-df-quickchart-complete:disabled,\n",
              "  .colab-df-quickchart-complete:disabled:hover {\n",
              "    background-color: var(--disabled-bg-color);\n",
              "    fill: var(--disabled-fill-color);\n",
              "    box-shadow: none;\n",
              "  }\n",
              "\n",
              "  .colab-df-spinner {\n",
              "    border: 2px solid var(--fill-color);\n",
              "    border-color: transparent;\n",
              "    border-bottom-color: var(--fill-color);\n",
              "    animation:\n",
              "      spin 1s steps(1) infinite;\n",
              "  }\n",
              "\n",
              "  @keyframes spin {\n",
              "    0% {\n",
              "      border-color: transparent;\n",
              "      border-bottom-color: var(--fill-color);\n",
              "      border-left-color: var(--fill-color);\n",
              "    }\n",
              "    20% {\n",
              "      border-color: transparent;\n",
              "      border-left-color: var(--fill-color);\n",
              "      border-top-color: var(--fill-color);\n",
              "    }\n",
              "    30% {\n",
              "      border-color: transparent;\n",
              "      border-left-color: var(--fill-color);\n",
              "      border-top-color: var(--fill-color);\n",
              "      border-right-color: var(--fill-color);\n",
              "    }\n",
              "    40% {\n",
              "      border-color: transparent;\n",
              "      border-right-color: var(--fill-color);\n",
              "      border-top-color: var(--fill-color);\n",
              "    }\n",
              "    60% {\n",
              "      border-color: transparent;\n",
              "      border-right-color: var(--fill-color);\n",
              "    }\n",
              "    80% {\n",
              "      border-color: transparent;\n",
              "      border-right-color: var(--fill-color);\n",
              "      border-bottom-color: var(--fill-color);\n",
              "    }\n",
              "    90% {\n",
              "      border-color: transparent;\n",
              "      border-bottom-color: var(--fill-color);\n",
              "    }\n",
              "  }\n",
              "</style>\n",
              "\n",
              "  <script>\n",
              "    async function quickchart(key) {\n",
              "      const quickchartButtonEl =\n",
              "        document.querySelector('#' + key + ' button');\n",
              "      quickchartButtonEl.disabled = true;  // To prevent multiple clicks.\n",
              "      quickchartButtonEl.classList.add('colab-df-spinner');\n",
              "      try {\n",
              "        const charts = await google.colab.kernel.invokeFunction(\n",
              "            'suggestCharts', [key], {});\n",
              "      } catch (error) {\n",
              "        console.error('Error during call to suggestCharts:', error);\n",
              "      }\n",
              "      quickchartButtonEl.classList.remove('colab-df-spinner');\n",
              "      quickchartButtonEl.classList.add('colab-df-quickchart-complete');\n",
              "    }\n",
              "    (() => {\n",
              "      let quickchartButtonEl =\n",
              "        document.querySelector('#df-192a3c32-eb65-4b7b-83c4-0b938c59b8b7 button');\n",
              "      quickchartButtonEl.style.display =\n",
              "        google.colab.kernel.accessAllowed ? 'block' : 'none';\n",
              "    })();\n",
              "  </script>\n",
              "</div>\n",
              "    </div>\n",
              "  </div>\n"
            ]
          },
          "metadata": {},
          "execution_count": 34
        }
      ]
    },
    {
      "cell_type": "markdown",
      "source": [
        "### 4. Sampling\n",
        "\n",
        "Instead of examining the entire dataset, extracting a representative sample can provide valuable insights, especially when the dataset is too extensive for comprehensive analysis. Employing methods such as random sampling or systematic sampling enables a more manageable exploration. Analyzing a subset of the data facilitates rapid prototyping, hypothesis testing, and initial exploration."
      ],
      "metadata": {
        "id": "bFxlVlsq-UB5"
      }
    },
    {
      "cell_type": "markdown",
      "source": [
        "\n",
        "\n",
        "We apply the '%%time' magic command to measures the time taken to run the entire cell. For the code below, we read the dataset into chunks then applies a sampling method to each chunk, concatenates the sampled data into single DataFrame. After that, we will calculates the mean for each group in 'STATUS' column so that we can have a comparison between the results of applying different strategy.\n",
        "\n",
        "From the result below, we can see that the time taken to run the entire while using Sampling strategy and the initial processing time.\n",
        "\n",
        "|      Scenario               | User  |   Sys   |  Total  |  Wall time |\n",
        "| :-------------------- | :-------------: |  :-------------: |  :-------------: |  :-------------: |\n",
        "| Initial processing time      | 2 µs         | 1 µs  | 3 µs | 7.39 µs |\n",
        "| Using Sampling Strategy | 30 µs | 0 ns | 30 µs | 33.9 µs |\n",
        "\n",
        "It is clear that Chunking strategy has the ability to handle large datasets but will only cause a tiny increase in the processing time.\n",
        "\n"
      ],
      "metadata": {
        "id": "dOd4Fm4B7SdZ"
      }
    },
    {
      "cell_type": "code",
      "source": [
        "%time\n",
        "# Use sampling method to read the dataset for furture processing\n",
        "df = pd.DataFrame()\n",
        "\n",
        "for chunk in pd.read_csv(target_file,  usecols = columns_needed, chunksize=500000):\n",
        "  # Select random set of data from the chunk with specified fraction which is 0.25\n",
        "  chunk = chunk.sample(frac=0.25, random_state=99)\n",
        "  # Concatenate the dataframe from each chunk\n",
        "  df = pd.concat([df, chunk], ignore_index=True)\n",
        "\n",
        "mean = df.groupby('STATUS').agg('mean')"
      ],
      "metadata": {
        "id": "IfkT2Ab7-aAE",
        "colab": {
          "base_uri": "https://localhost:8080/"
        },
        "outputId": "d59a6b38-76d8-4c38-b4f2-5509ba22d6a3"
      },
      "execution_count": null,
      "outputs": [
        {
          "output_type": "stream",
          "name": "stdout",
          "text": [
            "CPU times: user 30 µs, sys: 0 ns, total: 30 µs\n",
            "Wall time: 33.9 µs\n"
          ]
        }
      ]
    },
    {
      "cell_type": "markdown",
      "source": [
        "We use df.shape to check the number of rows and columns of the sampled DataFrame."
      ],
      "metadata": {
        "id": "j9d1dBkOOmRQ"
      }
    },
    {
      "cell_type": "code",
      "source": [
        "df.shape"
      ],
      "metadata": {
        "id": "TMnUgsZlRuUz",
        "colab": {
          "base_uri": "https://localhost:8080/"
        },
        "outputId": "e32fc3e5-f8c5-4e92-8f3a-dce39f00410a"
      },
      "execution_count": null,
      "outputs": [
        {
          "output_type": "execute_result",
          "data": {
            "text/plain": [
              "(2133462, 2)"
            ]
          },
          "metadata": {},
          "execution_count": 36
        }
      ]
    },
    {
      "cell_type": "markdown",
      "source": [
        "\n",
        "\n",
        "\n",
        "\n",
        "Displaying the mean of NET_TOTAL for every different STATUS.\n",
        "\n",
        "From the result below, we can conclude that:-\n",
        "* The mean of 'Retirees' Status dropped down from  524646.91 to 522601.79\n",
        "* The mean of 'Active' Status dropped down from 493732.53 to 493434.15\n",
        "* The mean of 'PENSIONERS' dropped down from 484683.35 to 482984.75\n",
        "\n",
        "Therefore, by comparing the mean value that we calculated, we can say that sampling can represent the original dataset but producing higher processing speed compared to using the original dataset."
      ],
      "metadata": {
        "id": "OEhFt9JqOd1B"
      }
    },
    {
      "cell_type": "code",
      "source": [
        "mean"
      ],
      "metadata": {
        "colab": {
          "base_uri": "https://localhost:8080/",
          "height": 175
        },
        "id": "c0fTfkq7_Twe",
        "outputId": "e2d6debd-8847-4d1d-f4df-d04f092bf944"
      },
      "execution_count": null,
      "outputs": [
        {
          "output_type": "execute_result",
          "data": {
            "text/plain": [
              "                  NET_TOTAL\n",
              "STATUS                     \n",
              "APOSENTADOS   522601.791360\n",
              "ATIVOS        493934.150235\n",
              "PENSIONISTAS  482984.745128"
            ],
            "text/html": [
              "\n",
              "  <div id=\"df-ef2cacde-9574-41ee-bef6-5801b1765331\" class=\"colab-df-container\">\n",
              "    <div>\n",
              "<style scoped>\n",
              "    .dataframe tbody tr th:only-of-type {\n",
              "        vertical-align: middle;\n",
              "    }\n",
              "\n",
              "    .dataframe tbody tr th {\n",
              "        vertical-align: top;\n",
              "    }\n",
              "\n",
              "    .dataframe thead th {\n",
              "        text-align: right;\n",
              "    }\n",
              "</style>\n",
              "<table border=\"1\" class=\"dataframe\">\n",
              "  <thead>\n",
              "    <tr style=\"text-align: right;\">\n",
              "      <th></th>\n",
              "      <th>NET_TOTAL</th>\n",
              "    </tr>\n",
              "    <tr>\n",
              "      <th>STATUS</th>\n",
              "      <th></th>\n",
              "    </tr>\n",
              "  </thead>\n",
              "  <tbody>\n",
              "    <tr>\n",
              "      <th>APOSENTADOS</th>\n",
              "      <td>522601.791360</td>\n",
              "    </tr>\n",
              "    <tr>\n",
              "      <th>ATIVOS</th>\n",
              "      <td>493934.150235</td>\n",
              "    </tr>\n",
              "    <tr>\n",
              "      <th>PENSIONISTAS</th>\n",
              "      <td>482984.745128</td>\n",
              "    </tr>\n",
              "  </tbody>\n",
              "</table>\n",
              "</div>\n",
              "    <div class=\"colab-df-buttons\">\n",
              "\n",
              "  <div class=\"colab-df-container\">\n",
              "    <button class=\"colab-df-convert\" onclick=\"convertToInteractive('df-ef2cacde-9574-41ee-bef6-5801b1765331')\"\n",
              "            title=\"Convert this dataframe to an interactive table.\"\n",
              "            style=\"display:none;\">\n",
              "\n",
              "  <svg xmlns=\"http://www.w3.org/2000/svg\" height=\"24px\" viewBox=\"0 -960 960 960\">\n",
              "    <path d=\"M120-120v-720h720v720H120Zm60-500h600v-160H180v160Zm220 220h160v-160H400v160Zm0 220h160v-160H400v160ZM180-400h160v-160H180v160Zm440 0h160v-160H620v160ZM180-180h160v-160H180v160Zm440 0h160v-160H620v160Z\"/>\n",
              "  </svg>\n",
              "    </button>\n",
              "\n",
              "  <style>\n",
              "    .colab-df-container {\n",
              "      display:flex;\n",
              "      gap: 12px;\n",
              "    }\n",
              "\n",
              "    .colab-df-convert {\n",
              "      background-color: #E8F0FE;\n",
              "      border: none;\n",
              "      border-radius: 50%;\n",
              "      cursor: pointer;\n",
              "      display: none;\n",
              "      fill: #1967D2;\n",
              "      height: 32px;\n",
              "      padding: 0 0 0 0;\n",
              "      width: 32px;\n",
              "    }\n",
              "\n",
              "    .colab-df-convert:hover {\n",
              "      background-color: #E2EBFA;\n",
              "      box-shadow: 0px 1px 2px rgba(60, 64, 67, 0.3), 0px 1px 3px 1px rgba(60, 64, 67, 0.15);\n",
              "      fill: #174EA6;\n",
              "    }\n",
              "\n",
              "    .colab-df-buttons div {\n",
              "      margin-bottom: 4px;\n",
              "    }\n",
              "\n",
              "    [theme=dark] .colab-df-convert {\n",
              "      background-color: #3B4455;\n",
              "      fill: #D2E3FC;\n",
              "    }\n",
              "\n",
              "    [theme=dark] .colab-df-convert:hover {\n",
              "      background-color: #434B5C;\n",
              "      box-shadow: 0px 1px 3px 1px rgba(0, 0, 0, 0.15);\n",
              "      filter: drop-shadow(0px 1px 2px rgba(0, 0, 0, 0.3));\n",
              "      fill: #FFFFFF;\n",
              "    }\n",
              "  </style>\n",
              "\n",
              "    <script>\n",
              "      const buttonEl =\n",
              "        document.querySelector('#df-ef2cacde-9574-41ee-bef6-5801b1765331 button.colab-df-convert');\n",
              "      buttonEl.style.display =\n",
              "        google.colab.kernel.accessAllowed ? 'block' : 'none';\n",
              "\n",
              "      async function convertToInteractive(key) {\n",
              "        const element = document.querySelector('#df-ef2cacde-9574-41ee-bef6-5801b1765331');\n",
              "        const dataTable =\n",
              "          await google.colab.kernel.invokeFunction('convertToInteractive',\n",
              "                                                    [key], {});\n",
              "        if (!dataTable) return;\n",
              "\n",
              "        const docLinkHtml = 'Like what you see? Visit the ' +\n",
              "          '<a target=\"_blank\" href=https://colab.research.google.com/notebooks/data_table.ipynb>data table notebook</a>'\n",
              "          + ' to learn more about interactive tables.';\n",
              "        element.innerHTML = '';\n",
              "        dataTable['output_type'] = 'display_data';\n",
              "        await google.colab.output.renderOutput(dataTable, element);\n",
              "        const docLink = document.createElement('div');\n",
              "        docLink.innerHTML = docLinkHtml;\n",
              "        element.appendChild(docLink);\n",
              "      }\n",
              "    </script>\n",
              "  </div>\n",
              "\n",
              "\n",
              "<div id=\"df-f99fe292-f652-44d7-a7bc-fe62b6c612ff\">\n",
              "  <button class=\"colab-df-quickchart\" onclick=\"quickchart('df-f99fe292-f652-44d7-a7bc-fe62b6c612ff')\"\n",
              "            title=\"Suggest charts\"\n",
              "            style=\"display:none;\">\n",
              "\n",
              "<svg xmlns=\"http://www.w3.org/2000/svg\" height=\"24px\"viewBox=\"0 0 24 24\"\n",
              "     width=\"24px\">\n",
              "    <g>\n",
              "        <path d=\"M19 3H5c-1.1 0-2 .9-2 2v14c0 1.1.9 2 2 2h14c1.1 0 2-.9 2-2V5c0-1.1-.9-2-2-2zM9 17H7v-7h2v7zm4 0h-2V7h2v10zm4 0h-2v-4h2v4z\"/>\n",
              "    </g>\n",
              "</svg>\n",
              "  </button>\n",
              "\n",
              "<style>\n",
              "  .colab-df-quickchart {\n",
              "      --bg-color: #E8F0FE;\n",
              "      --fill-color: #1967D2;\n",
              "      --hover-bg-color: #E2EBFA;\n",
              "      --hover-fill-color: #174EA6;\n",
              "      --disabled-fill-color: #AAA;\n",
              "      --disabled-bg-color: #DDD;\n",
              "  }\n",
              "\n",
              "  [theme=dark] .colab-df-quickchart {\n",
              "      --bg-color: #3B4455;\n",
              "      --fill-color: #D2E3FC;\n",
              "      --hover-bg-color: #434B5C;\n",
              "      --hover-fill-color: #FFFFFF;\n",
              "      --disabled-bg-color: #3B4455;\n",
              "      --disabled-fill-color: #666;\n",
              "  }\n",
              "\n",
              "  .colab-df-quickchart {\n",
              "    background-color: var(--bg-color);\n",
              "    border: none;\n",
              "    border-radius: 50%;\n",
              "    cursor: pointer;\n",
              "    display: none;\n",
              "    fill: var(--fill-color);\n",
              "    height: 32px;\n",
              "    padding: 0;\n",
              "    width: 32px;\n",
              "  }\n",
              "\n",
              "  .colab-df-quickchart:hover {\n",
              "    background-color: var(--hover-bg-color);\n",
              "    box-shadow: 0 1px 2px rgba(60, 64, 67, 0.3), 0 1px 3px 1px rgba(60, 64, 67, 0.15);\n",
              "    fill: var(--button-hover-fill-color);\n",
              "  }\n",
              "\n",
              "  .colab-df-quickchart-complete:disabled,\n",
              "  .colab-df-quickchart-complete:disabled:hover {\n",
              "    background-color: var(--disabled-bg-color);\n",
              "    fill: var(--disabled-fill-color);\n",
              "    box-shadow: none;\n",
              "  }\n",
              "\n",
              "  .colab-df-spinner {\n",
              "    border: 2px solid var(--fill-color);\n",
              "    border-color: transparent;\n",
              "    border-bottom-color: var(--fill-color);\n",
              "    animation:\n",
              "      spin 1s steps(1) infinite;\n",
              "  }\n",
              "\n",
              "  @keyframes spin {\n",
              "    0% {\n",
              "      border-color: transparent;\n",
              "      border-bottom-color: var(--fill-color);\n",
              "      border-left-color: var(--fill-color);\n",
              "    }\n",
              "    20% {\n",
              "      border-color: transparent;\n",
              "      border-left-color: var(--fill-color);\n",
              "      border-top-color: var(--fill-color);\n",
              "    }\n",
              "    30% {\n",
              "      border-color: transparent;\n",
              "      border-left-color: var(--fill-color);\n",
              "      border-top-color: var(--fill-color);\n",
              "      border-right-color: var(--fill-color);\n",
              "    }\n",
              "    40% {\n",
              "      border-color: transparent;\n",
              "      border-right-color: var(--fill-color);\n",
              "      border-top-color: var(--fill-color);\n",
              "    }\n",
              "    60% {\n",
              "      border-color: transparent;\n",
              "      border-right-color: var(--fill-color);\n",
              "    }\n",
              "    80% {\n",
              "      border-color: transparent;\n",
              "      border-right-color: var(--fill-color);\n",
              "      border-bottom-color: var(--fill-color);\n",
              "    }\n",
              "    90% {\n",
              "      border-color: transparent;\n",
              "      border-bottom-color: var(--fill-color);\n",
              "    }\n",
              "  }\n",
              "</style>\n",
              "\n",
              "  <script>\n",
              "    async function quickchart(key) {\n",
              "      const quickchartButtonEl =\n",
              "        document.querySelector('#' + key + ' button');\n",
              "      quickchartButtonEl.disabled = true;  // To prevent multiple clicks.\n",
              "      quickchartButtonEl.classList.add('colab-df-spinner');\n",
              "      try {\n",
              "        const charts = await google.colab.kernel.invokeFunction(\n",
              "            'suggestCharts', [key], {});\n",
              "      } catch (error) {\n",
              "        console.error('Error during call to suggestCharts:', error);\n",
              "      }\n",
              "      quickchartButtonEl.classList.remove('colab-df-spinner');\n",
              "      quickchartButtonEl.classList.add('colab-df-quickchart-complete');\n",
              "    }\n",
              "    (() => {\n",
              "      let quickchartButtonEl =\n",
              "        document.querySelector('#df-f99fe292-f652-44d7-a7bc-fe62b6c612ff button');\n",
              "      quickchartButtonEl.style.display =\n",
              "        google.colab.kernel.accessAllowed ? 'block' : 'none';\n",
              "    })();\n",
              "  </script>\n",
              "</div>\n",
              "    </div>\n",
              "  </div>\n"
            ]
          },
          "metadata": {},
          "execution_count": 37
        }
      ]
    },
    {
      "cell_type": "markdown",
      "source": [
        "Providing a informative summary of the DataFrame, emphasizing memory usage details and omitting the column information. This can help us assessing the memory footprint of the DataFrame."
      ],
      "metadata": {
        "id": "PQIOek9TPmRG"
      }
    },
    {
      "cell_type": "code",
      "source": [
        "df.info(verbose=False, memory_usage=\"deep\")"
      ],
      "metadata": {
        "id": "q2GwjViDP4tF",
        "colab": {
          "base_uri": "https://localhost:8080/"
        },
        "outputId": "0a9eea0d-4b3e-4e11-a0d8-a0ba2a62edce"
      },
      "execution_count": null,
      "outputs": [
        {
          "output_type": "stream",
          "name": "stdout",
          "text": [
            "<class 'pandas.core.frame.DataFrame'>\n",
            "RangeIndex: 2133462 entries, 0 to 2133461\n",
            "Columns: 2 entries, NET_TOTAL to STATUS\n",
            "dtypes: int64(1), object(1)\n",
            "memory usage: 149.7 MB\n"
          ]
        }
      ]
    },
    {
      "cell_type": "markdown",
      "source": [
        "Deleting the DataFrame."
      ],
      "metadata": {
        "id": "OgwNmZtBP-jW"
      }
    },
    {
      "cell_type": "code",
      "source": [
        "del df"
      ],
      "metadata": {
        "id": "D6dy_mwPcn_6"
      },
      "execution_count": null,
      "outputs": []
    },
    {
      "cell_type": "markdown",
      "source": [
        "### 5. Parallelize with Dask\n",
        "\n",
        "Dask is a parallel computing library that integrates seamlessly with Pandas and extends its capabilities for larger-than-memory datasets. Dask operates by breaking down computations into smaller tasks and parallelizing their execution across multiple cores or even distributed computing clusters. By leveraging Dask, we can perform operations on large datasets that would be impractical with traditional Pandas."
      ],
      "metadata": {
        "id": "WZbqHjx6-kuP"
      }
    },
    {
      "cell_type": "markdown",
      "source": [
        "Importing the Dask DataFrame module and aliasing it as dd. So that we can use the Dask library's functionalities."
      ],
      "metadata": {
        "id": "lPQIZXtYQI5Y"
      }
    },
    {
      "cell_type": "code",
      "source": [
        "import dask.dataframe as dd"
      ],
      "metadata": {
        "id": "GmQtrDxt-oHL"
      },
      "execution_count": null,
      "outputs": []
    },
    {
      "cell_type": "markdown",
      "source": [
        "Applying the '%%time' magic command to measures the time taken to run the entire cell. In the code below, we leverages Dask to read the dataset, perform a grouping and aggregation operation then compare the final result produced.\n",
        "\n",
        "From the result below, we can see that the time taken to run the entire while using Parallelize with Dask strategy and the initial processing time.\n",
        "\n",
        "|      Scenario               | User  |   Sys   |  Total  |  Wall time |\n",
        "| :-------------------- | :-------------: |  :-------------: |  :-------------: |  :-------------: |\n",
        "| Initial processing time      | 2 µs         | 1 µs  | 3 µs | 7.39 µs |\n",
        "| Parelleize with Dask | 3 µs | 0 ns | 3 µs | 7.87 µs |\n",
        "\n",
        "We can see that there is only a tiny difference between the processing time between using Dask strategy and the initial processing time. Therefore, it is clear that Dask is effective and great while handling huge dataset."
      ],
      "metadata": {
        "id": "5o1q6ojrRPrt"
      }
    },
    {
      "cell_type": "code",
      "source": [
        "%time\n",
        "ddf = dd.read_csv(target_file,  usecols = columns_needed)\n",
        "mean = ddf.groupby('STATUS').agg('mean')\n",
        "\n",
        "result = mean.compute()"
      ],
      "metadata": {
        "id": "SQOt83_3Rber",
        "colab": {
          "base_uri": "https://localhost:8080/"
        },
        "outputId": "1bbc4f77-0354-432a-a31c-dd03ee47adc2"
      },
      "execution_count": null,
      "outputs": [
        {
          "output_type": "stream",
          "name": "stdout",
          "text": [
            "CPU times: user 3 µs, sys: 0 ns, total: 3 µs\n",
            "Wall time: 7.87 µs\n"
          ]
        }
      ]
    },
    {
      "cell_type": "markdown",
      "source": [
        "Determining the number of partitions in the Dask DataFrame. We need to understand the number of partitions as it is essential for optimizing the performance of Dask computations."
      ],
      "metadata": {
        "id": "VqlGkxVxSG0V"
      }
    },
    {
      "cell_type": "code",
      "source": [
        "ddf.npartitions"
      ],
      "metadata": {
        "id": "N-o6QkpOSdCk",
        "colab": {
          "base_uri": "https://localhost:8080/"
        },
        "outputId": "14fb90b0-aba3-4cca-ecf0-4338a33bd20e"
      },
      "execution_count": null,
      "outputs": [
        {
          "output_type": "execute_result",
          "data": {
            "text/plain": [
              "17"
            ]
          },
          "metadata": {},
          "execution_count": 42
        }
      ]
    },
    {
      "cell_type": "markdown",
      "source": [
        "Printing the result mean of 'NET_TOTAL' for different 'STATUS'.\n",
        "From the results produced below, we can conclude that:-\n",
        "\n",
        "* The mean of 'Retirees' Status dropped down from 522601.79 to 494071.96\n",
        "* The mean of 'Active' Status rised up from 493732.53 to 522020.01\n",
        "* The mean of 'PENSIONERS' dropped down from 484683.35 to 484023.68\n"
      ],
      "metadata": {
        "id": "c4Y5lb2sSV5d"
      }
    },
    {
      "cell_type": "code",
      "source": [
        "result"
      ],
      "metadata": {
        "colab": {
          "base_uri": "https://localhost:8080/",
          "height": 175
        },
        "id": "mn0-nwdk_5df",
        "outputId": "663d1e5e-eae9-415e-d59a-48735cd04fbb"
      },
      "execution_count": null,
      "outputs": [
        {
          "output_type": "execute_result",
          "data": {
            "text/plain": [
              "                  NET_TOTAL\n",
              "STATUS                     \n",
              "ATIVOS        494071.963205\n",
              "APOSENTADOS   522020.002970\n",
              "PENSIONISTAS  484023.680335"
            ],
            "text/html": [
              "\n",
              "  <div id=\"df-917b5561-53f7-414f-bbd9-a725a3f129aa\" class=\"colab-df-container\">\n",
              "    <div>\n",
              "<style scoped>\n",
              "    .dataframe tbody tr th:only-of-type {\n",
              "        vertical-align: middle;\n",
              "    }\n",
              "\n",
              "    .dataframe tbody tr th {\n",
              "        vertical-align: top;\n",
              "    }\n",
              "\n",
              "    .dataframe thead th {\n",
              "        text-align: right;\n",
              "    }\n",
              "</style>\n",
              "<table border=\"1\" class=\"dataframe\">\n",
              "  <thead>\n",
              "    <tr style=\"text-align: right;\">\n",
              "      <th></th>\n",
              "      <th>NET_TOTAL</th>\n",
              "    </tr>\n",
              "    <tr>\n",
              "      <th>STATUS</th>\n",
              "      <th></th>\n",
              "    </tr>\n",
              "  </thead>\n",
              "  <tbody>\n",
              "    <tr>\n",
              "      <th>ATIVOS</th>\n",
              "      <td>494071.963205</td>\n",
              "    </tr>\n",
              "    <tr>\n",
              "      <th>APOSENTADOS</th>\n",
              "      <td>522020.002970</td>\n",
              "    </tr>\n",
              "    <tr>\n",
              "      <th>PENSIONISTAS</th>\n",
              "      <td>484023.680335</td>\n",
              "    </tr>\n",
              "  </tbody>\n",
              "</table>\n",
              "</div>\n",
              "    <div class=\"colab-df-buttons\">\n",
              "\n",
              "  <div class=\"colab-df-container\">\n",
              "    <button class=\"colab-df-convert\" onclick=\"convertToInteractive('df-917b5561-53f7-414f-bbd9-a725a3f129aa')\"\n",
              "            title=\"Convert this dataframe to an interactive table.\"\n",
              "            style=\"display:none;\">\n",
              "\n",
              "  <svg xmlns=\"http://www.w3.org/2000/svg\" height=\"24px\" viewBox=\"0 -960 960 960\">\n",
              "    <path d=\"M120-120v-720h720v720H120Zm60-500h600v-160H180v160Zm220 220h160v-160H400v160Zm0 220h160v-160H400v160ZM180-400h160v-160H180v160Zm440 0h160v-160H620v160ZM180-180h160v-160H180v160Zm440 0h160v-160H620v160Z\"/>\n",
              "  </svg>\n",
              "    </button>\n",
              "\n",
              "  <style>\n",
              "    .colab-df-container {\n",
              "      display:flex;\n",
              "      gap: 12px;\n",
              "    }\n",
              "\n",
              "    .colab-df-convert {\n",
              "      background-color: #E8F0FE;\n",
              "      border: none;\n",
              "      border-radius: 50%;\n",
              "      cursor: pointer;\n",
              "      display: none;\n",
              "      fill: #1967D2;\n",
              "      height: 32px;\n",
              "      padding: 0 0 0 0;\n",
              "      width: 32px;\n",
              "    }\n",
              "\n",
              "    .colab-df-convert:hover {\n",
              "      background-color: #E2EBFA;\n",
              "      box-shadow: 0px 1px 2px rgba(60, 64, 67, 0.3), 0px 1px 3px 1px rgba(60, 64, 67, 0.15);\n",
              "      fill: #174EA6;\n",
              "    }\n",
              "\n",
              "    .colab-df-buttons div {\n",
              "      margin-bottom: 4px;\n",
              "    }\n",
              "\n",
              "    [theme=dark] .colab-df-convert {\n",
              "      background-color: #3B4455;\n",
              "      fill: #D2E3FC;\n",
              "    }\n",
              "\n",
              "    [theme=dark] .colab-df-convert:hover {\n",
              "      background-color: #434B5C;\n",
              "      box-shadow: 0px 1px 3px 1px rgba(0, 0, 0, 0.15);\n",
              "      filter: drop-shadow(0px 1px 2px rgba(0, 0, 0, 0.3));\n",
              "      fill: #FFFFFF;\n",
              "    }\n",
              "  </style>\n",
              "\n",
              "    <script>\n",
              "      const buttonEl =\n",
              "        document.querySelector('#df-917b5561-53f7-414f-bbd9-a725a3f129aa button.colab-df-convert');\n",
              "      buttonEl.style.display =\n",
              "        google.colab.kernel.accessAllowed ? 'block' : 'none';\n",
              "\n",
              "      async function convertToInteractive(key) {\n",
              "        const element = document.querySelector('#df-917b5561-53f7-414f-bbd9-a725a3f129aa');\n",
              "        const dataTable =\n",
              "          await google.colab.kernel.invokeFunction('convertToInteractive',\n",
              "                                                    [key], {});\n",
              "        if (!dataTable) return;\n",
              "\n",
              "        const docLinkHtml = 'Like what you see? Visit the ' +\n",
              "          '<a target=\"_blank\" href=https://colab.research.google.com/notebooks/data_table.ipynb>data table notebook</a>'\n",
              "          + ' to learn more about interactive tables.';\n",
              "        element.innerHTML = '';\n",
              "        dataTable['output_type'] = 'display_data';\n",
              "        await google.colab.output.renderOutput(dataTable, element);\n",
              "        const docLink = document.createElement('div');\n",
              "        docLink.innerHTML = docLinkHtml;\n",
              "        element.appendChild(docLink);\n",
              "      }\n",
              "    </script>\n",
              "  </div>\n",
              "\n",
              "\n",
              "<div id=\"df-fea2d7fa-a761-45d6-9456-ce86ce0da7bd\">\n",
              "  <button class=\"colab-df-quickchart\" onclick=\"quickchart('df-fea2d7fa-a761-45d6-9456-ce86ce0da7bd')\"\n",
              "            title=\"Suggest charts\"\n",
              "            style=\"display:none;\">\n",
              "\n",
              "<svg xmlns=\"http://www.w3.org/2000/svg\" height=\"24px\"viewBox=\"0 0 24 24\"\n",
              "     width=\"24px\">\n",
              "    <g>\n",
              "        <path d=\"M19 3H5c-1.1 0-2 .9-2 2v14c0 1.1.9 2 2 2h14c1.1 0 2-.9 2-2V5c0-1.1-.9-2-2-2zM9 17H7v-7h2v7zm4 0h-2V7h2v10zm4 0h-2v-4h2v4z\"/>\n",
              "    </g>\n",
              "</svg>\n",
              "  </button>\n",
              "\n",
              "<style>\n",
              "  .colab-df-quickchart {\n",
              "      --bg-color: #E8F0FE;\n",
              "      --fill-color: #1967D2;\n",
              "      --hover-bg-color: #E2EBFA;\n",
              "      --hover-fill-color: #174EA6;\n",
              "      --disabled-fill-color: #AAA;\n",
              "      --disabled-bg-color: #DDD;\n",
              "  }\n",
              "\n",
              "  [theme=dark] .colab-df-quickchart {\n",
              "      --bg-color: #3B4455;\n",
              "      --fill-color: #D2E3FC;\n",
              "      --hover-bg-color: #434B5C;\n",
              "      --hover-fill-color: #FFFFFF;\n",
              "      --disabled-bg-color: #3B4455;\n",
              "      --disabled-fill-color: #666;\n",
              "  }\n",
              "\n",
              "  .colab-df-quickchart {\n",
              "    background-color: var(--bg-color);\n",
              "    border: none;\n",
              "    border-radius: 50%;\n",
              "    cursor: pointer;\n",
              "    display: none;\n",
              "    fill: var(--fill-color);\n",
              "    height: 32px;\n",
              "    padding: 0;\n",
              "    width: 32px;\n",
              "  }\n",
              "\n",
              "  .colab-df-quickchart:hover {\n",
              "    background-color: var(--hover-bg-color);\n",
              "    box-shadow: 0 1px 2px rgba(60, 64, 67, 0.3), 0 1px 3px 1px rgba(60, 64, 67, 0.15);\n",
              "    fill: var(--button-hover-fill-color);\n",
              "  }\n",
              "\n",
              "  .colab-df-quickchart-complete:disabled,\n",
              "  .colab-df-quickchart-complete:disabled:hover {\n",
              "    background-color: var(--disabled-bg-color);\n",
              "    fill: var(--disabled-fill-color);\n",
              "    box-shadow: none;\n",
              "  }\n",
              "\n",
              "  .colab-df-spinner {\n",
              "    border: 2px solid var(--fill-color);\n",
              "    border-color: transparent;\n",
              "    border-bottom-color: var(--fill-color);\n",
              "    animation:\n",
              "      spin 1s steps(1) infinite;\n",
              "  }\n",
              "\n",
              "  @keyframes spin {\n",
              "    0% {\n",
              "      border-color: transparent;\n",
              "      border-bottom-color: var(--fill-color);\n",
              "      border-left-color: var(--fill-color);\n",
              "    }\n",
              "    20% {\n",
              "      border-color: transparent;\n",
              "      border-left-color: var(--fill-color);\n",
              "      border-top-color: var(--fill-color);\n",
              "    }\n",
              "    30% {\n",
              "      border-color: transparent;\n",
              "      border-left-color: var(--fill-color);\n",
              "      border-top-color: var(--fill-color);\n",
              "      border-right-color: var(--fill-color);\n",
              "    }\n",
              "    40% {\n",
              "      border-color: transparent;\n",
              "      border-right-color: var(--fill-color);\n",
              "      border-top-color: var(--fill-color);\n",
              "    }\n",
              "    60% {\n",
              "      border-color: transparent;\n",
              "      border-right-color: var(--fill-color);\n",
              "    }\n",
              "    80% {\n",
              "      border-color: transparent;\n",
              "      border-right-color: var(--fill-color);\n",
              "      border-bottom-color: var(--fill-color);\n",
              "    }\n",
              "    90% {\n",
              "      border-color: transparent;\n",
              "      border-bottom-color: var(--fill-color);\n",
              "    }\n",
              "  }\n",
              "</style>\n",
              "\n",
              "  <script>\n",
              "    async function quickchart(key) {\n",
              "      const quickchartButtonEl =\n",
              "        document.querySelector('#' + key + ' button');\n",
              "      quickchartButtonEl.disabled = true;  // To prevent multiple clicks.\n",
              "      quickchartButtonEl.classList.add('colab-df-spinner');\n",
              "      try {\n",
              "        const charts = await google.colab.kernel.invokeFunction(\n",
              "            'suggestCharts', [key], {});\n",
              "      } catch (error) {\n",
              "        console.error('Error during call to suggestCharts:', error);\n",
              "      }\n",
              "      quickchartButtonEl.classList.remove('colab-df-spinner');\n",
              "      quickchartButtonEl.classList.add('colab-df-quickchart-complete');\n",
              "    }\n",
              "    (() => {\n",
              "      let quickchartButtonEl =\n",
              "        document.querySelector('#df-fea2d7fa-a761-45d6-9456-ce86ce0da7bd button');\n",
              "      quickchartButtonEl.style.display =\n",
              "        google.colab.kernel.accessAllowed ? 'block' : 'none';\n",
              "    })();\n",
              "  </script>\n",
              "</div>\n",
              "    </div>\n",
              "  </div>\n"
            ]
          },
          "metadata": {},
          "execution_count": 43
        }
      ]
    },
    {
      "cell_type": "markdown",
      "source": [
        "Deleting the Dask DataFrame."
      ],
      "metadata": {
        "id": "KI5x32HdS1lt"
      }
    },
    {
      "cell_type": "code",
      "source": [
        "del ddf"
      ],
      "metadata": {
        "id": "PnEHJQKvYSq2"
      },
      "execution_count": null,
      "outputs": []
    },
    {
      "cell_type": "markdown",
      "source": [
        "## Comparative Analysis"
      ],
      "metadata": {
        "id": "q0F7k4ow-2RY"
      }
    },
    {
      "cell_type": "markdown",
      "source": [
        "### 1. Memory Usage\n",
        "First of all, we will make a comparison between the memory usage.\n",
        "\n",
        "The code below is providing a summary view of the memory usage of DataFrame in different scenarios:-\n",
        "* Initial memory usage\n",
        "* The memory usage after loading less data\n",
        "* The memory usage after optimizing data types\n",
        "\n",
        "From the results below, we can clearly see that initial memory usage is 6644.94 MB, the memory usage after loading less data is 6579.83 MB and the memory usage after optimizing data types is 925.37 MB.\n",
        "Therefore, we can conclude that the there is a huge impact of strategies on the memory footprint of the DataFrame.\n",
        "\n",
        "Apart from that, we also claculates the reduction in the size of the DataFrame after optimizing data types to the initial memory usage. The result showed is 86.07% of reducing in size, so it is clear that the strategy that we applied to the DataFrame had worked well."
      ],
      "metadata": {
        "id": "4zjXdAM_7l4g"
      }
    },
    {
      "cell_type": "code",
      "source": [
        "print(f\"The size of dataframe is {initial_memory_usage:.2f} MB.\")\n",
        "print(f\"The size of dataframe with load only required columns is {memory_usage_1:.2f} MB.\")\n",
        "print(f\"The size of dataframe with load only required columns and optimize data types is {memory_usage_2:.2f} MB.\")\n",
        "\n",
        "print(\"\\nPercentage of reducing in size of dataframe by {:.2f}%\".format(100 * (initial_memory_usage - memory_usage_2) / initial_memory_usage))"
      ],
      "metadata": {
        "colab": {
          "base_uri": "https://localhost:8080/"
        },
        "id": "d-jGU1kVjNkO",
        "outputId": "377d97fa-ead0-4753-87b3-9a8f0ccc1089"
      },
      "execution_count": null,
      "outputs": [
        {
          "output_type": "stream",
          "name": "stdout",
          "text": [
            "The size of dataframe is 6644.939455032349 MB.\n",
            "The size of dataframe with load only required columns is 6579.83136177063 MB.\n",
            "The size of dataframe with load only required columns and optimize data types is 925.367600440979 MB.\n",
            "\n",
            "Percentage of reducing in size of dataframe by 86.07%\n"
          ]
        }
      ]
    },
    {
      "cell_type": "markdown",
      "source": [
        "### 2. Processing time\n",
        "Apart from that, we will be comparing the processing time taken to run the entire cell for different scenarios.\n",
        "\n",
        "\n",
        "|      Scenario               | User  |   Sys   |  Total  |  Wall time |\n",
        "| :-------------------- | :-------------: |  :-------------: |  :-------------: |  :-------------: |\n",
        "| Initial processing time      | 2 µs         | 1 µs  | 3 µs | 7.39 µs |\n",
        "| Using Chunking Strategy           |10 s        | 426 ms| 10.5 s| 10.5 s|\n",
        "| Using Sampling Strategy | 30 µs | 0 ns | 30 µs | 33.9 µs |\n",
        "| Parelleize with Dask | 3 µs | 0 ns | 3 µs | 7.87 µs |\n",
        "\n",
        "* The initial processing time is extremely short representing a quick operation.\n",
        "* Chunking, while providing the ability to handle large datasets, introduces a significant increase in processing time, likely due to the overhead of processing data in smaller chunks.\n",
        "* Sampling proves to be an extremely fast strategy, making it suitable for quick analysis or exploration of a subset of the data.\n",
        "* Applying parallelization with Dask shows efficient processing, with low wall time and user time, indicating that Dask is effectively utilizing parallel and distributed computing capabilities.\n",
        "\n",
        "In summary, the choice of strategy depends on the specific use case. Chunking might be suitable for handling large datasets efficiently, while Sampling and Dask Parallelization are effective for quick analysis and distributed computing, respectively."
      ],
      "metadata": {
        "id": "lkBlVhkJ7www"
      }
    },
    {
      "cell_type": "markdown",
      "source": [
        "### 3. File Size\n",
        "Besides, we will be comparing the size of the file.\n",
        "\n",
        "Size of Initial File:\n",
        "* File Size: 1159.66 MB\n",
        "* This is the size of the original dataset in its raw form.\n",
        "\n",
        "Size of Optimized File:\n",
        "* File Size: 1046.72 MB\n",
        "* This is the size of the file after applying optimizations, including selecting only the required columns and optimizing data types.\n",
        "\n",
        "In conclusion, the optimization strategies, which include selecting required columns and optimizing data types, have effectively reduced the size of the dataset, leading to a smaller memory footprint. After doing calculation, the strategies had successfully made a  reduction in size, with a percentage reduction of 9.75% compared to the original file size.\n",
        "\n",
        "\n"
      ],
      "metadata": {
        "id": "PQczxfUT7o1g"
      }
    },
    {
      "cell_type": "code",
      "source": [
        "def get_file_size(file_path):\n",
        "    try:\n",
        "        size = os.path.getsize(file_path)\n",
        "        return size\n",
        "    except FileNotFoundError:\n",
        "        print(f\"The file '{file_path}' does not exist.\")\n",
        "        return None\n",
        "\n",
        "# Example usage:\n",
        "initial_file_size = get_file_size(initial_target_file)\n",
        "after_file_size = get_file_size(target_file)\n",
        "\n",
        "if initial_file_size is not None:\n",
        "    print(f\"The size of initial file '{initial_target_file}' is {initial_file_size / (1024 * 1024):.2f} MB.\")\n",
        "if after_file_size is not None:\n",
        "    print(f\"The size of file after selection of required columns and optimize data types '{target_file}' is {after_file_size / (1024 * 1024):.2f} MB.\")"
      ],
      "metadata": {
        "colab": {
          "base_uri": "https://localhost:8080/"
        },
        "id": "QBPPy2ozYofL",
        "outputId": "547d0392-4ec7-4a69-a99d-c84d212e46c2"
      },
      "execution_count": null,
      "outputs": [
        {
          "output_type": "stream",
          "name": "stdout",
          "text": [
            "The size of initial file 'all_merged/2023_jan_august_merged.csv' is 1159.6561679840088 MB.\n",
            "The size of file after selection of required columns and optimize data types 'all_merged/small_size_2023_jan_august_merged.csv' is 1046.7162189483643 MB.\n"
          ]
        }
      ]
    },
    {
      "cell_type": "markdown",
      "source": [
        "## Conclusion\n",
        "\n",
        "Strategies:\n",
        "* Load Less Data: By loading only the required columns for analysis, unnecessary data was excluded, resulting in a smaller memory footprint.\n",
        "\n",
        "* Data Type Optimization: Adjusting data types to more memory-efficient representations further reduced the memory consumption of the dataset.\n",
        "\n",
        "* Sampling: Utilizing a sampling strategy allowed for quick analysis and exploration of a representative subset of the data.\n",
        "\n",
        "* Dask Parallelization: Leveraging Dask for parallel and distributed computing enhanced the efficiency of handling larger-than-memory datasets.\n",
        "\n",
        "Size Reduction:\n",
        "* The size of the dataset was reduced from 1159.66 MB in its original form to 1046.72 MB after applying optimization strategies. This represents a significant reduction of approximately 9.75%.\n",
        "\n",
        "Impact on Handling Big Data:\n",
        "* Memory Efficiency: The optimization strategies significantly improved memory efficiency by reducing the memory footprint of the dataset. This is crucial when dealing with large datasets that may not fit into memory.\n",
        "\n",
        "\n",
        "* Processing Efficiency: Different strategies, such as chunking, sampling, and Dask parallelization, were employed to enhance processing efficiency. These strategies allow for the parallel processing of data, reducing overall processing time.\n",
        "\n",
        "\n",
        "In a nutshell, employing a combination of optimization strategies tailored to the characteristics of the dataset enhances the ability to handle big data efficiently. Memory and processing efficiency are crucial considerations, and the trade-offs between these factors depend on the specific requirements of the analysis."
      ],
      "metadata": {
        "id": "Wy8JtVdW-5vj"
      }
    }
  ]
}
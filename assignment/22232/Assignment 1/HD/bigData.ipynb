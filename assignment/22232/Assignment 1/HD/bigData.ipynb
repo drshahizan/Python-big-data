{
  "nbformat": 4,
  "nbformat_minor": 0,
  "metadata": {
    "colab": {
      "provenance": [],
      "include_colab_link": true
    },
    "kernelspec": {
      "name": "python3",
      "display_name": "Python 3"
    },
    "language_info": {
      "name": "python"
    }
  },
  "cells": [
    {
      "cell_type": "markdown",
      "metadata": {
        "id": "view-in-github",
        "colab_type": "text"
      },
      "source": [
        "<a href=\"https://colab.research.google.com/github/drshahizan/Python-big-data/blob/main/Assignment%201/HD/bigData.ipynb\" target=\"_parent\"><img src=\"https://colab.research.google.com/assets/colab-badge.svg\" alt=\"Open In Colab\"/></a>"
      ]
    },
    {
      "cell_type": "markdown",
      "source": [
        "NURFARRAHIN CHE ALIAS (A20EC0121)\n",
        "NUR IRDINA ALIAH BINTI ABDUL WAHAB (A20EC0115)"
      ],
      "metadata": {
        "id": "3sTgLQJKo7Ge"
      }
    },
    {
      "cell_type": "code",
      "execution_count": null,
      "metadata": {
        "id": "y364rZBFbPWB",
        "colab": {
          "base_uri": "https://localhost:8080/"
        },
        "outputId": "03461a4a-ffe2-4132-de97-36c8cbef99b4"
      },
      "outputs": [
        {
          "output_type": "stream",
          "name": "stdout",
          "text": [
            "Looking in indexes: https://pypi.org/simple, https://us-python.pkg.dev/colab-wheels/public/simple/\n",
            "Requirement already satisfied: kaggle in /usr/local/lib/python3.8/dist-packages (1.5.12)\n",
            "Requirement already satisfied: python-dateutil in /usr/local/lib/python3.8/dist-packages (from kaggle) (2.8.2)\n",
            "Requirement already satisfied: six>=1.10 in /usr/local/lib/python3.8/dist-packages (from kaggle) (1.15.0)\n",
            "Requirement already satisfied: certifi in /usr/local/lib/python3.8/dist-packages (from kaggle) (2022.12.7)\n",
            "Requirement already satisfied: tqdm in /usr/local/lib/python3.8/dist-packages (from kaggle) (4.64.1)\n",
            "Requirement already satisfied: requests in /usr/local/lib/python3.8/dist-packages (from kaggle) (2.25.1)\n",
            "Requirement already satisfied: python-slugify in /usr/local/lib/python3.8/dist-packages (from kaggle) (7.0.0)\n",
            "Requirement already satisfied: urllib3 in /usr/local/lib/python3.8/dist-packages (from kaggle) (1.24.3)\n",
            "Requirement already satisfied: text-unidecode>=1.3 in /usr/local/lib/python3.8/dist-packages (from python-slugify->kaggle) (1.3)\n",
            "Requirement already satisfied: chardet<5,>=3.0.2 in /usr/local/lib/python3.8/dist-packages (from requests->kaggle) (4.0.0)\n",
            "Requirement already satisfied: idna<3,>=2.5 in /usr/local/lib/python3.8/dist-packages (from requests->kaggle) (2.10)\n"
          ]
        }
      ],
      "source": [
        "! pip install kaggle\n",
        "\n"
      ]
    },
    {
      "cell_type": "code",
      "source": [
        "from google.colab import files\n",
        "\n",
        "files.upload()"
      ],
      "metadata": {
        "colab": {
          "base_uri": "https://localhost:8080/",
          "height": 91
        },
        "id": "3AiWsDoFtC_Y",
        "outputId": "cdd371be-e622-4ef2-8274-fd3dc10e68d6"
      },
      "execution_count": null,
      "outputs": [
        {
          "output_type": "display_data",
          "data": {
            "text/plain": [
              "<IPython.core.display.HTML object>"
            ],
            "text/html": [
              "\n",
              "     <input type=\"file\" id=\"files-d62aa17b-8e81-42ca-9284-a9fbc4702d8e\" name=\"files[]\" multiple disabled\n",
              "        style=\"border:none\" />\n",
              "     <output id=\"result-d62aa17b-8e81-42ca-9284-a9fbc4702d8e\">\n",
              "      Upload widget is only available when the cell has been executed in the\n",
              "      current browser session. Please rerun this cell to enable.\n",
              "      </output>\n",
              "      <script>// Copyright 2017 Google LLC\n",
              "//\n",
              "// Licensed under the Apache License, Version 2.0 (the \"License\");\n",
              "// you may not use this file except in compliance with the License.\n",
              "// You may obtain a copy of the License at\n",
              "//\n",
              "//      http://www.apache.org/licenses/LICENSE-2.0\n",
              "//\n",
              "// Unless required by applicable law or agreed to in writing, software\n",
              "// distributed under the License is distributed on an \"AS IS\" BASIS,\n",
              "// WITHOUT WARRANTIES OR CONDITIONS OF ANY KIND, either express or implied.\n",
              "// See the License for the specific language governing permissions and\n",
              "// limitations under the License.\n",
              "\n",
              "/**\n",
              " * @fileoverview Helpers for google.colab Python module.\n",
              " */\n",
              "(function(scope) {\n",
              "function span(text, styleAttributes = {}) {\n",
              "  const element = document.createElement('span');\n",
              "  element.textContent = text;\n",
              "  for (const key of Object.keys(styleAttributes)) {\n",
              "    element.style[key] = styleAttributes[key];\n",
              "  }\n",
              "  return element;\n",
              "}\n",
              "\n",
              "// Max number of bytes which will be uploaded at a time.\n",
              "const MAX_PAYLOAD_SIZE = 100 * 1024;\n",
              "\n",
              "function _uploadFiles(inputId, outputId) {\n",
              "  const steps = uploadFilesStep(inputId, outputId);\n",
              "  const outputElement = document.getElementById(outputId);\n",
              "  // Cache steps on the outputElement to make it available for the next call\n",
              "  // to uploadFilesContinue from Python.\n",
              "  outputElement.steps = steps;\n",
              "\n",
              "  return _uploadFilesContinue(outputId);\n",
              "}\n",
              "\n",
              "// This is roughly an async generator (not supported in the browser yet),\n",
              "// where there are multiple asynchronous steps and the Python side is going\n",
              "// to poll for completion of each step.\n",
              "// This uses a Promise to block the python side on completion of each step,\n",
              "// then passes the result of the previous step as the input to the next step.\n",
              "function _uploadFilesContinue(outputId) {\n",
              "  const outputElement = document.getElementById(outputId);\n",
              "  const steps = outputElement.steps;\n",
              "\n",
              "  const next = steps.next(outputElement.lastPromiseValue);\n",
              "  return Promise.resolve(next.value.promise).then((value) => {\n",
              "    // Cache the last promise value to make it available to the next\n",
              "    // step of the generator.\n",
              "    outputElement.lastPromiseValue = value;\n",
              "    return next.value.response;\n",
              "  });\n",
              "}\n",
              "\n",
              "/**\n",
              " * Generator function which is called between each async step of the upload\n",
              " * process.\n",
              " * @param {string} inputId Element ID of the input file picker element.\n",
              " * @param {string} outputId Element ID of the output display.\n",
              " * @return {!Iterable<!Object>} Iterable of next steps.\n",
              " */\n",
              "function* uploadFilesStep(inputId, outputId) {\n",
              "  const inputElement = document.getElementById(inputId);\n",
              "  inputElement.disabled = false;\n",
              "\n",
              "  const outputElement = document.getElementById(outputId);\n",
              "  outputElement.innerHTML = '';\n",
              "\n",
              "  const pickedPromise = new Promise((resolve) => {\n",
              "    inputElement.addEventListener('change', (e) => {\n",
              "      resolve(e.target.files);\n",
              "    });\n",
              "  });\n",
              "\n",
              "  const cancel = document.createElement('button');\n",
              "  inputElement.parentElement.appendChild(cancel);\n",
              "  cancel.textContent = 'Cancel upload';\n",
              "  const cancelPromise = new Promise((resolve) => {\n",
              "    cancel.onclick = () => {\n",
              "      resolve(null);\n",
              "    };\n",
              "  });\n",
              "\n",
              "  // Wait for the user to pick the files.\n",
              "  const files = yield {\n",
              "    promise: Promise.race([pickedPromise, cancelPromise]),\n",
              "    response: {\n",
              "      action: 'starting',\n",
              "    }\n",
              "  };\n",
              "\n",
              "  cancel.remove();\n",
              "\n",
              "  // Disable the input element since further picks are not allowed.\n",
              "  inputElement.disabled = true;\n",
              "\n",
              "  if (!files) {\n",
              "    return {\n",
              "      response: {\n",
              "        action: 'complete',\n",
              "      }\n",
              "    };\n",
              "  }\n",
              "\n",
              "  for (const file of files) {\n",
              "    const li = document.createElement('li');\n",
              "    li.append(span(file.name, {fontWeight: 'bold'}));\n",
              "    li.append(span(\n",
              "        `(${file.type || 'n/a'}) - ${file.size} bytes, ` +\n",
              "        `last modified: ${\n",
              "            file.lastModifiedDate ? file.lastModifiedDate.toLocaleDateString() :\n",
              "                                    'n/a'} - `));\n",
              "    const percent = span('0% done');\n",
              "    li.appendChild(percent);\n",
              "\n",
              "    outputElement.appendChild(li);\n",
              "\n",
              "    const fileDataPromise = new Promise((resolve) => {\n",
              "      const reader = new FileReader();\n",
              "      reader.onload = (e) => {\n",
              "        resolve(e.target.result);\n",
              "      };\n",
              "      reader.readAsArrayBuffer(file);\n",
              "    });\n",
              "    // Wait for the data to be ready.\n",
              "    let fileData = yield {\n",
              "      promise: fileDataPromise,\n",
              "      response: {\n",
              "        action: 'continue',\n",
              "      }\n",
              "    };\n",
              "\n",
              "    // Use a chunked sending to avoid message size limits. See b/62115660.\n",
              "    let position = 0;\n",
              "    do {\n",
              "      const length = Math.min(fileData.byteLength - position, MAX_PAYLOAD_SIZE);\n",
              "      const chunk = new Uint8Array(fileData, position, length);\n",
              "      position += length;\n",
              "\n",
              "      const base64 = btoa(String.fromCharCode.apply(null, chunk));\n",
              "      yield {\n",
              "        response: {\n",
              "          action: 'append',\n",
              "          file: file.name,\n",
              "          data: base64,\n",
              "        },\n",
              "      };\n",
              "\n",
              "      let percentDone = fileData.byteLength === 0 ?\n",
              "          100 :\n",
              "          Math.round((position / fileData.byteLength) * 100);\n",
              "      percent.textContent = `${percentDone}% done`;\n",
              "\n",
              "    } while (position < fileData.byteLength);\n",
              "  }\n",
              "\n",
              "  // All done.\n",
              "  yield {\n",
              "    response: {\n",
              "      action: 'complete',\n",
              "    }\n",
              "  };\n",
              "}\n",
              "\n",
              "scope.google = scope.google || {};\n",
              "scope.google.colab = scope.google.colab || {};\n",
              "scope.google.colab._files = {\n",
              "  _uploadFiles,\n",
              "  _uploadFilesContinue,\n",
              "};\n",
              "})(self);\n",
              "</script> "
            ]
          },
          "metadata": {}
        },
        {
          "output_type": "stream",
          "name": "stdout",
          "text": [
            "Saving kaggle.json to kaggle.json\n"
          ]
        },
        {
          "output_type": "execute_result",
          "data": {
            "text/plain": [
              "{'kaggle.json': b'{\"username\":\"farrahin\",\"key\":\"5aa8183437adeebcb7bb1e62642fad15\"}'}"
            ]
          },
          "metadata": {},
          "execution_count": 2
        }
      ]
    },
    {
      "cell_type": "code",
      "source": [
        "! mkdir ~/.kaggle\n"
      ],
      "metadata": {
        "id": "BZw7sVKqbTJm"
      },
      "execution_count": null,
      "outputs": []
    },
    {
      "cell_type": "code",
      "source": [
        "! cp kaggle.json ~/.kaggle/"
      ],
      "metadata": {
        "id": "rQ5DXl9cbUi6"
      },
      "execution_count": null,
      "outputs": []
    },
    {
      "cell_type": "code",
      "source": [
        "! chmod 600 ~/.kaggle/kaggle.json\n"
      ],
      "metadata": {
        "id": "tw_aISzpV1Uq"
      },
      "execution_count": null,
      "outputs": []
    },
    {
      "cell_type": "code",
      "source": [
        " ! KAGGLE_CONFIG_DIR=/content/ kaggle datasets download -d elemento/nyc-yellow-taxi-trip-data"
      ],
      "metadata": {
        "colab": {
          "base_uri": "https://localhost:8080/"
        },
        "id": "uDgU7yB0uYMW",
        "outputId": "54cb968b-aeab-4da8-efb3-04a787556dc8"
      },
      "execution_count": null,
      "outputs": [
        {
          "output_type": "stream",
          "name": "stdout",
          "text": [
            "Warning: Your Kaggle API key is readable by other users on this system! To fix this, you can run 'chmod 600 /content/kaggle.json'\n",
            "Downloading nyc-yellow-taxi-trip-data.zip to /content\n",
            " 99% 1.77G/1.78G [00:15<00:00, 117MB/s]\n",
            "100% 1.78G/1.78G [00:15<00:00, 126MB/s]\n"
          ]
        }
      ]
    },
    {
      "cell_type": "code",
      "source": [
        "!unzip nyc-yellow-taxi-trip-data.zip"
      ],
      "metadata": {
        "colab": {
          "base_uri": "https://localhost:8080/"
        },
        "id": "FyFbb_MMZ0XB",
        "outputId": "133f7e78-5ba1-4905-d97d-3c3f09036d8c"
      },
      "execution_count": null,
      "outputs": [
        {
          "output_type": "stream",
          "name": "stdout",
          "text": [
            "Archive:  nyc-yellow-taxi-trip-data.zip\n",
            "  inflating: yellow_tripdata_2015-01.csv  \n",
            "  inflating: yellow_tripdata_2016-01.csv  \n",
            "  inflating: yellow_tripdata_2016-02.csv  \n",
            "  inflating: yellow_tripdata_2016-03.csv  \n"
          ]
        }
      ]
    },
    {
      "cell_type": "code",
      "execution_count": null,
      "metadata": {
        "colab": {
          "base_uri": "https://localhost:8080/",
          "height": 270
        },
        "id": "t458hJqGrt0L",
        "outputId": "cdee59dc-bab5-4d84-b1b0-ef77b3e7edbe"
      },
      "outputs": [
        {
          "output_type": "execute_result",
          "data": {
            "text/plain": [
              "   VendorID tpep_pickup_datetime tpep_dropoff_datetime  passenger_count  \\\n",
              "0         1  2016-03-01 00:00:00   2016-03-01 00:11:06                1   \n",
              "1         1  2016-03-01 00:00:04   2016-03-01 00:06:11                1   \n",
              "2         2  2016-03-01 00:00:08   2016-03-01 00:16:31                4   \n",
              "3         1  2016-03-01 00:00:11   2016-03-01 00:13:49                2   \n",
              "4         2  2016-03-01 00:00:14   2016-03-01 00:16:37                1   \n",
              "\n",
              "   trip_distance  pickup_longitude  pickup_latitude  RatecodeID  \\\n",
              "0           2.90        -73.983482        40.767925           1   \n",
              "1           0.60        -73.999413        40.738564           1   \n",
              "2           4.26        -74.007942        40.706268           1   \n",
              "3           3.70        -73.951225        40.782772           1   \n",
              "4           4.26        -73.961700        40.654949           1   \n",
              "\n",
              "  store_and_fwd_flag  dropoff_longitude  dropoff_latitude  payment_type  \\\n",
              "0                  N         -74.005943         40.733166             1   \n",
              "1                  N         -74.002457         40.745327             2   \n",
              "2                  N         -73.956421         40.718899             2   \n",
              "3                  N         -73.988953         40.748260             1   \n",
              "4                  N         -73.936127         40.697720             1   \n",
              "\n",
              "   fare_amount  extra  mta_tax  tip_amount  tolls_amount  \\\n",
              "0         11.0    0.5      0.5        3.05           0.0   \n",
              "1          5.5    0.5      0.5        0.00           0.0   \n",
              "2         16.0    0.5      0.5        0.00           0.0   \n",
              "3         13.5    0.5      0.5        2.95           0.0   \n",
              "4         15.5    0.5      0.5        2.00           0.0   \n",
              "\n",
              "   improvement_surcharge  total_amount  \n",
              "0                    0.3         15.35  \n",
              "1                    0.3          6.80  \n",
              "2                    0.3         17.30  \n",
              "3                    0.3         17.75  \n",
              "4                    0.3         18.80  "
            ],
            "text/html": [
              "\n",
              "  <div id=\"df-ee9dafd4-0252-4ee2-ba08-e710e4d97a0d\">\n",
              "    <div class=\"colab-df-container\">\n",
              "      <div>\n",
              "<style scoped>\n",
              "    .dataframe tbody tr th:only-of-type {\n",
              "        vertical-align: middle;\n",
              "    }\n",
              "\n",
              "    .dataframe tbody tr th {\n",
              "        vertical-align: top;\n",
              "    }\n",
              "\n",
              "    .dataframe thead th {\n",
              "        text-align: right;\n",
              "    }\n",
              "</style>\n",
              "<table border=\"1\" class=\"dataframe\">\n",
              "  <thead>\n",
              "    <tr style=\"text-align: right;\">\n",
              "      <th></th>\n",
              "      <th>VendorID</th>\n",
              "      <th>tpep_pickup_datetime</th>\n",
              "      <th>tpep_dropoff_datetime</th>\n",
              "      <th>passenger_count</th>\n",
              "      <th>trip_distance</th>\n",
              "      <th>pickup_longitude</th>\n",
              "      <th>pickup_latitude</th>\n",
              "      <th>RatecodeID</th>\n",
              "      <th>store_and_fwd_flag</th>\n",
              "      <th>dropoff_longitude</th>\n",
              "      <th>dropoff_latitude</th>\n",
              "      <th>payment_type</th>\n",
              "      <th>fare_amount</th>\n",
              "      <th>extra</th>\n",
              "      <th>mta_tax</th>\n",
              "      <th>tip_amount</th>\n",
              "      <th>tolls_amount</th>\n",
              "      <th>improvement_surcharge</th>\n",
              "      <th>total_amount</th>\n",
              "    </tr>\n",
              "  </thead>\n",
              "  <tbody>\n",
              "    <tr>\n",
              "      <th>0</th>\n",
              "      <td>1</td>\n",
              "      <td>2016-03-01 00:00:00</td>\n",
              "      <td>2016-03-01 00:11:06</td>\n",
              "      <td>1</td>\n",
              "      <td>2.90</td>\n",
              "      <td>-73.983482</td>\n",
              "      <td>40.767925</td>\n",
              "      <td>1</td>\n",
              "      <td>N</td>\n",
              "      <td>-74.005943</td>\n",
              "      <td>40.733166</td>\n",
              "      <td>1</td>\n",
              "      <td>11.0</td>\n",
              "      <td>0.5</td>\n",
              "      <td>0.5</td>\n",
              "      <td>3.05</td>\n",
              "      <td>0.0</td>\n",
              "      <td>0.3</td>\n",
              "      <td>15.35</td>\n",
              "    </tr>\n",
              "    <tr>\n",
              "      <th>1</th>\n",
              "      <td>1</td>\n",
              "      <td>2016-03-01 00:00:04</td>\n",
              "      <td>2016-03-01 00:06:11</td>\n",
              "      <td>1</td>\n",
              "      <td>0.60</td>\n",
              "      <td>-73.999413</td>\n",
              "      <td>40.738564</td>\n",
              "      <td>1</td>\n",
              "      <td>N</td>\n",
              "      <td>-74.002457</td>\n",
              "      <td>40.745327</td>\n",
              "      <td>2</td>\n",
              "      <td>5.5</td>\n",
              "      <td>0.5</td>\n",
              "      <td>0.5</td>\n",
              "      <td>0.00</td>\n",
              "      <td>0.0</td>\n",
              "      <td>0.3</td>\n",
              "      <td>6.80</td>\n",
              "    </tr>\n",
              "    <tr>\n",
              "      <th>2</th>\n",
              "      <td>2</td>\n",
              "      <td>2016-03-01 00:00:08</td>\n",
              "      <td>2016-03-01 00:16:31</td>\n",
              "      <td>4</td>\n",
              "      <td>4.26</td>\n",
              "      <td>-74.007942</td>\n",
              "      <td>40.706268</td>\n",
              "      <td>1</td>\n",
              "      <td>N</td>\n",
              "      <td>-73.956421</td>\n",
              "      <td>40.718899</td>\n",
              "      <td>2</td>\n",
              "      <td>16.0</td>\n",
              "      <td>0.5</td>\n",
              "      <td>0.5</td>\n",
              "      <td>0.00</td>\n",
              "      <td>0.0</td>\n",
              "      <td>0.3</td>\n",
              "      <td>17.30</td>\n",
              "    </tr>\n",
              "    <tr>\n",
              "      <th>3</th>\n",
              "      <td>1</td>\n",
              "      <td>2016-03-01 00:00:11</td>\n",
              "      <td>2016-03-01 00:13:49</td>\n",
              "      <td>2</td>\n",
              "      <td>3.70</td>\n",
              "      <td>-73.951225</td>\n",
              "      <td>40.782772</td>\n",
              "      <td>1</td>\n",
              "      <td>N</td>\n",
              "      <td>-73.988953</td>\n",
              "      <td>40.748260</td>\n",
              "      <td>1</td>\n",
              "      <td>13.5</td>\n",
              "      <td>0.5</td>\n",
              "      <td>0.5</td>\n",
              "      <td>2.95</td>\n",
              "      <td>0.0</td>\n",
              "      <td>0.3</td>\n",
              "      <td>17.75</td>\n",
              "    </tr>\n",
              "    <tr>\n",
              "      <th>4</th>\n",
              "      <td>2</td>\n",
              "      <td>2016-03-01 00:00:14</td>\n",
              "      <td>2016-03-01 00:16:37</td>\n",
              "      <td>1</td>\n",
              "      <td>4.26</td>\n",
              "      <td>-73.961700</td>\n",
              "      <td>40.654949</td>\n",
              "      <td>1</td>\n",
              "      <td>N</td>\n",
              "      <td>-73.936127</td>\n",
              "      <td>40.697720</td>\n",
              "      <td>1</td>\n",
              "      <td>15.5</td>\n",
              "      <td>0.5</td>\n",
              "      <td>0.5</td>\n",
              "      <td>2.00</td>\n",
              "      <td>0.0</td>\n",
              "      <td>0.3</td>\n",
              "      <td>18.80</td>\n",
              "    </tr>\n",
              "  </tbody>\n",
              "</table>\n",
              "</div>\n",
              "      <button class=\"colab-df-convert\" onclick=\"convertToInteractive('df-ee9dafd4-0252-4ee2-ba08-e710e4d97a0d')\"\n",
              "              title=\"Convert this dataframe to an interactive table.\"\n",
              "              style=\"display:none;\">\n",
              "        \n",
              "  <svg xmlns=\"http://www.w3.org/2000/svg\" height=\"24px\"viewBox=\"0 0 24 24\"\n",
              "       width=\"24px\">\n",
              "    <path d=\"M0 0h24v24H0V0z\" fill=\"none\"/>\n",
              "    <path d=\"M18.56 5.44l.94 2.06.94-2.06 2.06-.94-2.06-.94-.94-2.06-.94 2.06-2.06.94zm-11 1L8.5 8.5l.94-2.06 2.06-.94-2.06-.94L8.5 2.5l-.94 2.06-2.06.94zm10 10l.94 2.06.94-2.06 2.06-.94-2.06-.94-.94-2.06-.94 2.06-2.06.94z\"/><path d=\"M17.41 7.96l-1.37-1.37c-.4-.4-.92-.59-1.43-.59-.52 0-1.04.2-1.43.59L10.3 9.45l-7.72 7.72c-.78.78-.78 2.05 0 2.83L4 21.41c.39.39.9.59 1.41.59.51 0 1.02-.2 1.41-.59l7.78-7.78 2.81-2.81c.8-.78.8-2.07 0-2.86zM5.41 20L4 18.59l7.72-7.72 1.47 1.35L5.41 20z\"/>\n",
              "  </svg>\n",
              "      </button>\n",
              "      \n",
              "  <style>\n",
              "    .colab-df-container {\n",
              "      display:flex;\n",
              "      flex-wrap:wrap;\n",
              "      gap: 12px;\n",
              "    }\n",
              "\n",
              "    .colab-df-convert {\n",
              "      background-color: #E8F0FE;\n",
              "      border: none;\n",
              "      border-radius: 50%;\n",
              "      cursor: pointer;\n",
              "      display: none;\n",
              "      fill: #1967D2;\n",
              "      height: 32px;\n",
              "      padding: 0 0 0 0;\n",
              "      width: 32px;\n",
              "    }\n",
              "\n",
              "    .colab-df-convert:hover {\n",
              "      background-color: #E2EBFA;\n",
              "      box-shadow: 0px 1px 2px rgba(60, 64, 67, 0.3), 0px 1px 3px 1px rgba(60, 64, 67, 0.15);\n",
              "      fill: #174EA6;\n",
              "    }\n",
              "\n",
              "    [theme=dark] .colab-df-convert {\n",
              "      background-color: #3B4455;\n",
              "      fill: #D2E3FC;\n",
              "    }\n",
              "\n",
              "    [theme=dark] .colab-df-convert:hover {\n",
              "      background-color: #434B5C;\n",
              "      box-shadow: 0px 1px 3px 1px rgba(0, 0, 0, 0.15);\n",
              "      filter: drop-shadow(0px 1px 2px rgba(0, 0, 0, 0.3));\n",
              "      fill: #FFFFFF;\n",
              "    }\n",
              "  </style>\n",
              "\n",
              "      <script>\n",
              "        const buttonEl =\n",
              "          document.querySelector('#df-ee9dafd4-0252-4ee2-ba08-e710e4d97a0d button.colab-df-convert');\n",
              "        buttonEl.style.display =\n",
              "          google.colab.kernel.accessAllowed ? 'block' : 'none';\n",
              "\n",
              "        async function convertToInteractive(key) {\n",
              "          const element = document.querySelector('#df-ee9dafd4-0252-4ee2-ba08-e710e4d97a0d');\n",
              "          const dataTable =\n",
              "            await google.colab.kernel.invokeFunction('convertToInteractive',\n",
              "                                                     [key], {});\n",
              "          if (!dataTable) return;\n",
              "\n",
              "          const docLinkHtml = 'Like what you see? Visit the ' +\n",
              "            '<a target=\"_blank\" href=https://colab.research.google.com/notebooks/data_table.ipynb>data table notebook</a>'\n",
              "            + ' to learn more about interactive tables.';\n",
              "          element.innerHTML = '';\n",
              "          dataTable['output_type'] = 'display_data';\n",
              "          await google.colab.output.renderOutput(dataTable, element);\n",
              "          const docLink = document.createElement('div');\n",
              "          docLink.innerHTML = docLinkHtml;\n",
              "          element.appendChild(docLink);\n",
              "        }\n",
              "      </script>\n",
              "    </div>\n",
              "  </div>\n",
              "  "
            ]
          },
          "metadata": {},
          "execution_count": 8
        }
      ],
      "source": [
        "import pandas \n",
        "import random\n",
        "\n",
        "filename = \"/content/yellow_tripdata_2016-03.csv\" \n",
        "n = sum(1 for line in open(filename))-1  # Calculate number of rows in file\n",
        "s = n//10  # sample size of 10%\n",
        "skip = sorted(random.sample(range(1, n+1), n-s))  # n+1 to compensate for header \n",
        "df = pandas.read_csv(filename, skiprows=skip)\n",
        "df.head(5)"
      ]
    },
    {
      "cell_type": "markdown",
      "source": [],
      "metadata": {
        "id": "PQ0RTU8eo5bV"
      }
    },
    {
      "cell_type": "markdown",
      "source": [],
      "metadata": {
        "id": "l-17SwOeA45N"
      }
    },
    {
      "cell_type": "code",
      "source": [
        "import pandas as pd\n",
        "fare_amount_max = []\n",
        "\n",
        "for reader in pd.read_csv('/content/yellow_tripdata_2016-03.csv', chunksize=100000):\n",
        "    # do any processing on reader\n",
        "    fare_amount_max.append(reader['fare_amount'].max())\n",
        "    "
      ],
      "metadata": {
        "id": "kgLa5dQezrjd"
      },
      "execution_count": null,
      "outputs": []
    },
    {
      "cell_type": "code",
      "source": [
        "max(fare_amount_max)\n"
      ],
      "metadata": {
        "id": "fnRBEe601SpO",
        "colab": {
          "base_uri": "https://localhost:8080/"
        },
        "outputId": "daf3511d-dbfb-49f2-d993-b95ac654476f"
      },
      "execution_count": null,
      "outputs": [
        {
          "output_type": "execute_result",
          "data": {
            "text/plain": [
              "429496.72"
            ]
          },
          "metadata": {},
          "execution_count": 10
        }
      ]
    },
    {
      "cell_type": "markdown",
      "source": [
        "## Big Data Scalling\n",
        "\n",
        "---\n",
        "\n"
      ],
      "metadata": {
        "id": "hq4wc6rrTo9K"
      }
    },
    {
      "cell_type": "markdown",
      "source": [
        "reduce data type\n"
      ],
      "metadata": {
        "id": "lkbsVAkH3uW_"
      }
    },
    {
      "cell_type": "code",
      "source": [
        "#efore \n",
        "import pandas as pd\n",
        "df = pd.read_csv('/content/yellow_tripdata_2016-03.csv')\n",
        "df.dtypes\n"
      ],
      "metadata": {
        "id": "JExhebsd3Vbw",
        "colab": {
          "base_uri": "https://localhost:8080/"
        },
        "outputId": "ed6bf82d-6621-43b3-f984-b16aa2563501"
      },
      "execution_count": null,
      "outputs": [
        {
          "output_type": "execute_result",
          "data": {
            "text/plain": [
              "VendorID                   int64\n",
              "tpep_pickup_datetime      object\n",
              "tpep_dropoff_datetime     object\n",
              "passenger_count            int64\n",
              "trip_distance            float64\n",
              "pickup_longitude         float64\n",
              "pickup_latitude          float64\n",
              "RatecodeID                 int64\n",
              "store_and_fwd_flag        object\n",
              "dropoff_longitude        float64\n",
              "dropoff_latitude         float64\n",
              "payment_type               int64\n",
              "fare_amount              float64\n",
              "extra                    float64\n",
              "mta_tax                  float64\n",
              "tip_amount               float64\n",
              "tolls_amount             float64\n",
              "improvement_surcharge    float64\n",
              "total_amount             float64\n",
              "dtype: object"
            ]
          },
          "metadata": {},
          "execution_count": 11
        }
      ]
    },
    {
      "cell_type": "code",
      "source": [
        "\n",
        "df.memory_usage().sum()/(1024*1024*1024)"
      ],
      "metadata": {
        "id": "WlP9CkDA5Vq5",
        "colab": {
          "base_uri": "https://localhost:8080/"
        },
        "outputId": "aaf3457d-4ec7-4f85-c9f3-257b200fcf45"
      },
      "execution_count": null,
      "outputs": [
        {
          "output_type": "execute_result",
          "data": {
            "text/plain": [
              "1.7285950779914856"
            ]
          },
          "metadata": {},
          "execution_count": 12
        }
      ]
    },
    {
      "cell_type": "code",
      "source": [
        "import pandas as pd\n",
        "import numpy as np\n",
        "\n",
        "def reduce_mem_usage(df):\n",
        "    start_mem = df.memory_usage().sum() / 1024**3\n",
        "    print('Memory usage of dataframe is {:.2f} MB'.format(start_mem))\n",
        "    \n",
        "    for col in df.columns:\n",
        "        col_type = df[col].dtype\n",
        "        \n",
        "        if col_type != object:\n",
        "            c_min = df[col].min()\n",
        "            c_max = df[col].max()\n",
        "            if str(col_type)[:3] == 'int':\n",
        "                if c_min > np.iinfo(np.int8).min and c_max < np.iinfo(np.int8).max:\n",
        "                    df[col] = df[col].astype(np.int8)\n",
        "                elif c_min > np.iinfo(np.int16).min and c_max < np.iinfo(np.int16).max:\n",
        "                    df[col] = df[col].astype(np.int16)\n",
        "                elif c_min > np.iinfo(np.int32).min and c_max < np.iinfo(np.int32).max:\n",
        "                    df[col] = df[col].astype(np.int32)\n",
        "                elif c_min > np.iinfo(np.int64).min and c_max < np.iinfo(np.int64).max:\n",
        "                    df[col] = df[col].astype(np.int64)  \n",
        "            else:\n",
        "                if c_min > np.finfo(np.float16).min and c_max < np.finfo(np.float16).max:\n",
        "                    df[col] = df[col].astype(np.float16)\n",
        "                elif c_min > np.finfo(np.float32).min and c_max < np.finfo(np.float32).max:\n",
        "                    df[col] = df[col].astype(np.float32)\n",
        "                else:\n",
        "                    df[col] = df[col].astype(np.float64)\n",
        "        else:\n",
        "            df[col] = df[col].astype('category')\n",
        "\n",
        "    end_mem = df.memory_usage().sum() / 1024**3\n",
        "    print('Memory usage after optimization is: {:.2f} MB'.format(end_mem))\n",
        "    print('Decreased by {:.1f}%'.format(100 * (start_mem - end_mem) / start_mem))\n",
        "    \n",
        "    return df"
      ],
      "metadata": {
        "id": "n7u7TnyZTW1c"
      },
      "execution_count": null,
      "outputs": []
    },
    {
      "cell_type": "code",
      "source": [
        "df_new = reduce_mem_usage(df)"
      ],
      "metadata": {
        "id": "8N4gftkM5i2Z",
        "colab": {
          "base_uri": "https://localhost:8080/"
        },
        "outputId": "1bb0197d-8465-4c58-bb44-3ef1df518ab3"
      },
      "execution_count": null,
      "outputs": [
        {
          "output_type": "stream",
          "name": "stdout",
          "text": [
            "Memory usage of dataframe is 1.73 MB\n",
            "Memory usage after optimization is: 0.65 MB\n",
            "Decreased by 62.3%\n"
          ]
        }
      ]
    },
    {
      "cell_type": "code",
      "source": [
        "df_new.dtypes\n"
      ],
      "metadata": {
        "id": "cEmNuVRC5n0Z",
        "colab": {
          "base_uri": "https://localhost:8080/"
        },
        "outputId": "c25f0dfc-e302-4b8e-dd5f-d9780e201d3c"
      },
      "execution_count": null,
      "outputs": [
        {
          "output_type": "execute_result",
          "data": {
            "text/plain": [
              "VendorID                     int8\n",
              "tpep_pickup_datetime     category\n",
              "tpep_dropoff_datetime    category\n",
              "passenger_count              int8\n",
              "trip_distance             float32\n",
              "pickup_longitude          float16\n",
              "pickup_latitude           float16\n",
              "RatecodeID                   int8\n",
              "store_and_fwd_flag       category\n",
              "dropoff_longitude         float16\n",
              "dropoff_latitude          float16\n",
              "payment_type                 int8\n",
              "fare_amount               float32\n",
              "extra                     float16\n",
              "mta_tax                   float16\n",
              "tip_amount                float16\n",
              "tolls_amount              float16\n",
              "improvement_surcharge     float16\n",
              "total_amount              float32\n",
              "dtype: object"
            ]
          },
          "metadata": {},
          "execution_count": 15
        }
      ]
    },
    {
      "cell_type": "markdown",
      "source": [
        "**Technique** #1: Don’t load all the columns"
      ],
      "metadata": {
        "id": "XK53Xq459YB7"
      }
    },
    {
      "cell_type": "code",
      "source": [
        ">>> import pandas as pd\n",
        ">>> df = pd.read_csv(\"yellow_tripdata_2016-03.csv\")\n",
        ">>> df.info(verbose=False, memory_usage=\"deep\")"
      ],
      "metadata": {
        "id": "xmL-LPU89MVL",
        "colab": {
          "base_uri": "https://localhost:8080/"
        },
        "outputId": "a7145b6d-3d2b-4ec6-d494-dcf6d75f7016"
      },
      "execution_count": null,
      "outputs": [
        {
          "output_type": "stream",
          "name": "stdout",
          "text": [
            "<class 'pandas.core.frame.DataFrame'>\n",
            "RangeIndex: 12210952 entries, 0 to 12210951\n",
            "Columns: 19 entries, VendorID to total_amount\n",
            "dtypes: float64(12), int64(4), object(3)\n",
            "memory usage: 3.8 GB\n"
          ]
        }
      ]
    },
    {
      "cell_type": "markdown",
      "source": [
        "Technique #2: Shrink numerical columns with smaller dtypes"
      ],
      "metadata": {
        "id": "MY1oaWn7EqKJ"
      }
    },
    {
      "cell_type": "code",
      "source": [
        " import pandas as pd\n",
        " df = pd.read_csv(\"yellow_tripdata_2016-03.csv\")\n",
        "df[\"fare_amount\"].memory_usage(index=False, deep=True)"
      ],
      "metadata": {
        "id": "WUgaInJS9WqL",
        "colab": {
          "base_uri": "https://localhost:8080/"
        },
        "outputId": "47fa3135-f3d3-400c-d14d-87d766327938"
      },
      "execution_count": null,
      "outputs": [
        {
          "output_type": "execute_result",
          "data": {
            "text/plain": [
              "97687616"
            ]
          },
          "metadata": {},
          "execution_count": 17
        }
      ]
    },
    {
      "cell_type": "code",
      "source": [
        "df[\"fare_amount\"].max()"
      ],
      "metadata": {
        "id": "MbFBr9BS_Qr8",
        "colab": {
          "base_uri": "https://localhost:8080/"
        },
        "outputId": "4d6898d0-f239-4a81-bcef-d5a8c120101d"
      },
      "execution_count": null,
      "outputs": [
        {
          "output_type": "execute_result",
          "data": {
            "text/plain": [
              "429496.72"
            ]
          },
          "metadata": {},
          "execution_count": 18
        }
      ]
    },
    {
      "cell_type": "code",
      "source": [
        "df[\"fare_amount\"].min()"
      ],
      "metadata": {
        "id": "UTuKNTin_afc",
        "colab": {
          "base_uri": "https://localhost:8080/"
        },
        "outputId": "897ab32f-d316-454f-c2b9-37300c5e5aa8"
      },
      "execution_count": null,
      "outputs": [
        {
          "output_type": "execute_result",
          "data": {
            "text/plain": [
              "-376.0"
            ]
          },
          "metadata": {},
          "execution_count": 19
        }
      ]
    },
    {
      "cell_type": "code",
      "source": [
        "df = pd.read_csv(\"yellow_tripdata_2016-03.csv\", dtype={\"fare_amount\": \"float16\"})\n",
        "df[\"fare_amount\"].memory_usage(index=False, deep=True)"
      ],
      "metadata": {
        "id": "HibPjqqg_eMU",
        "colab": {
          "base_uri": "https://localhost:8080/"
        },
        "outputId": "30de27cb-818e-418e-97f5-021362093cf6"
      },
      "execution_count": null,
      "outputs": [
        {
          "output_type": "execute_result",
          "data": {
            "text/plain": [
              "24421904"
            ]
          },
          "metadata": {},
          "execution_count": 20
        }
      ]
    },
    {
      "cell_type": "markdown",
      "source": [
        "Technique #3: Shrink categorical data using Categorical dtypes\n"
      ],
      "metadata": {
        "id": "scAMkIXn_yxU"
      }
    },
    {
      "cell_type": "code",
      "source": [
        "df = pd.read_csv(\n",
        "...     \"yellow_tripdata_2016-03.csv\", dtype={\"VendorID\": \"int8\"})"
      ],
      "metadata": {
        "id": "-tzl3uSC_2Sl"
      },
      "execution_count": null,
      "outputs": []
    },
    {
      "cell_type": "code",
      "source": [
        "df[\"VendorID\"].head(5)"
      ],
      "metadata": {
        "id": "wthBKUM1AeFt",
        "colab": {
          "base_uri": "https://localhost:8080/"
        },
        "outputId": "4b59ce34-457d-4074-8823-471f9ce8a5b7"
      },
      "execution_count": null,
      "outputs": [
        {
          "output_type": "execute_result",
          "data": {
            "text/plain": [
              "0    1\n",
              "1    1\n",
              "2    2\n",
              "3    2\n",
              "4    2\n",
              "Name: VendorID, dtype: int8"
            ]
          },
          "metadata": {},
          "execution_count": 22
        }
      ]
    },
    {
      "cell_type": "markdown",
      "source": [
        "Technique #4: Sparse series\n"
      ],
      "metadata": {
        "id": "JYuaLT2WAkHs"
      }
    },
    {
      "cell_type": "code",
      "source": [
        "df.memory_usage(index=False, deep=True)"
      ],
      "metadata": {
        "id": "owbDetEuBldW",
        "colab": {
          "base_uri": "https://localhost:8080/"
        },
        "outputId": "dee18558-5724-405b-ef8d-15e4c6f5c4df"
      },
      "execution_count": null,
      "outputs": [
        {
          "output_type": "execute_result",
          "data": {
            "text/plain": [
              "VendorID                  12210952\n",
              "tpep_pickup_datetime     928032352\n",
              "tpep_dropoff_datetime    928032352\n",
              "passenger_count           97687616\n",
              "trip_distance             97687616\n",
              "pickup_longitude          97687616\n",
              "pickup_latitude           97687616\n",
              "RatecodeID                97687616\n",
              "store_and_fwd_flag       708235216\n",
              "dropoff_longitude         97687616\n",
              "dropoff_latitude          97687616\n",
              "payment_type              97687616\n",
              "fare_amount               97687616\n",
              "extra                     97687616\n",
              "mta_tax                   97687616\n",
              "tip_amount                97687616\n",
              "tolls_amount              97687616\n",
              "improvement_surcharge     97687616\n",
              "total_amount              97687616\n",
              "dtype: int64"
            ]
          },
          "metadata": {},
          "execution_count": 23
        }
      ]
    },
    {
      "cell_type": "markdown",
      "source": [
        "## Data Cleaning\n",
        "\n",
        "---\n",
        "\n"
      ],
      "metadata": {
        "id": "2wEmkPd7WaGM"
      }
    },
    {
      "cell_type": "code",
      "source": [
        "df.head(20)"
      ],
      "metadata": {
        "id": "QUDPhUNZWt51",
        "colab": {
          "base_uri": "https://localhost:8080/",
          "height": 740
        },
        "outputId": "082d179b-136d-4b3d-afb1-16af3ace3b83"
      },
      "execution_count": null,
      "outputs": [
        {
          "output_type": "execute_result",
          "data": {
            "text/plain": [
              "    VendorID tpep_pickup_datetime tpep_dropoff_datetime  passenger_count  \\\n",
              "0          1  2016-03-01 00:00:00   2016-03-01 00:07:55                1   \n",
              "1          1  2016-03-01 00:00:00   2016-03-01 00:11:06                1   \n",
              "2          2  2016-03-01 00:00:00   2016-03-01 00:31:06                2   \n",
              "3          2  2016-03-01 00:00:00   2016-03-01 00:00:00                3   \n",
              "4          2  2016-03-01 00:00:00   2016-03-01 00:00:00                5   \n",
              "5          2  2016-03-01 00:00:00   2016-03-01 00:00:00                5   \n",
              "6          2  2016-03-01 00:00:00   2016-03-01 00:00:00                6   \n",
              "7          1  2016-03-01 00:00:01   2016-03-01 00:16:04                1   \n",
              "8          1  2016-03-01 00:00:01   2016-03-01 00:05:00                1   \n",
              "9          2  2016-03-01 00:00:01   2016-03-01 00:24:06                3   \n",
              "10         2  2016-03-01 00:00:01   2016-03-01 00:02:03                2   \n",
              "11         1  2016-03-01 00:00:02   2016-03-01 00:07:49                1   \n",
              "12         1  2016-03-01 00:00:02   2016-03-01 00:03:05                1   \n",
              "13         2  2016-03-01 00:00:02   2016-03-01 00:09:32                1   \n",
              "14         2  2016-03-01 00:00:02   2016-03-01 00:24:11                1   \n",
              "15         2  2016-03-01 00:00:02   2016-03-01 00:08:24                1   \n",
              "16         1  2016-03-01 00:00:03   2016-03-01 00:09:23                1   \n",
              "17         2  2016-03-01 00:00:03   2016-03-01 00:08:34                1   \n",
              "18         2  2016-03-01 00:00:03   2016-03-01 00:32:45                3   \n",
              "19         1  2016-03-01 00:00:04   2016-03-01 00:03:30                2   \n",
              "\n",
              "    trip_distance  pickup_longitude  pickup_latitude  RatecodeID  \\\n",
              "0            2.50        -73.976746        40.765152           1   \n",
              "1            2.90        -73.983482        40.767925           1   \n",
              "2           19.98        -73.782021        40.644810           1   \n",
              "3           10.78        -73.863419        40.769814           1   \n",
              "4           30.43        -73.971741        40.792183           3   \n",
              "5            5.92        -74.017197        40.705383           1   \n",
              "6            5.72        -73.994583        40.727848           1   \n",
              "7            6.20        -73.788773        40.647758           1   \n",
              "8            0.70        -73.958221        40.764641           1   \n",
              "9            7.18        -73.985779        40.741192           1   \n",
              "10           0.54        -73.988426        40.764160           1   \n",
              "11           1.70        -73.969818        40.797428           1   \n",
              "12           1.10        -73.953804        40.788128           1   \n",
              "13           2.10        -73.976089        40.752171           1   \n",
              "14           8.54        -74.002068        40.719120           1   \n",
              "15           2.00        -74.006729        40.730717           1   \n",
              "16           3.20        -74.006615        40.716621           1   \n",
              "17           1.59        -73.982269        40.770618           1   \n",
              "18          16.81        -73.792389        40.645031           2   \n",
              "19           0.50        -73.983788        40.731892           1   \n",
              "\n",
              "   store_and_fwd_flag  dropoff_longitude  dropoff_latitude  payment_type  \\\n",
              "0                   N         -74.004265         40.746128             1   \n",
              "1                   N         -74.005943         40.733166             1   \n",
              "2                   N         -73.974541         40.675770             1   \n",
              "3                   N         -73.969650         40.757767             1   \n",
              "4                   N         -74.177170         40.695053             1   \n",
              "5                   N         -73.978073         40.755787             1   \n",
              "6                   N           0.000000          0.000000             2   \n",
              "7                   N         -73.829208         40.712345             3   \n",
              "8                   N         -73.967896         40.762901             1   \n",
              "9                   N         -73.946350         40.797878             1   \n",
              "10                  N         -73.992393         40.758224             2   \n",
              "11                  N         -73.943771         40.796200             2   \n",
              "12                  N         -73.971550         40.795238             1   \n",
              "13                  N         -73.987450         40.770782             1   \n",
              "14                  N         -73.952118         40.811241             1   \n",
              "15                  N         -74.017044         40.709366             1   \n",
              "16                  N         -73.990105         40.756050             2   \n",
              "17                  N         -73.968742         40.755039             1   \n",
              "18                  N         -73.986290         40.758518             1   \n",
              "19                  N         -73.975815         40.728519             1   \n",
              "\n",
              "    fare_amount  extra  mta_tax  tip_amount  tolls_amount  \\\n",
              "0           9.0    0.5      0.5        2.05          0.00   \n",
              "1          11.0    0.5      0.5        3.05          0.00   \n",
              "2          54.5    0.5      0.5        8.00          0.00   \n",
              "3          31.5    0.0      0.5        3.78          5.54   \n",
              "4          98.0    0.0      0.0        0.00         15.50   \n",
              "5          23.5    1.0      0.5        5.06          0.00   \n",
              "6          23.0    0.5      0.5        0.00          0.00   \n",
              "7          20.5    0.5      0.5        0.00          0.00   \n",
              "8           5.5    0.5      0.5        2.00          0.00   \n",
              "9          23.5    0.5      0.5        3.20          0.00   \n",
              "10          4.0    0.5      0.5        0.00          0.00   \n",
              "11          8.0    0.5      0.5        0.00          0.00   \n",
              "12          5.5    0.5      0.5        2.20          0.00   \n",
              "13          9.0    0.5      0.5        2.06          0.00   \n",
              "14         27.0    0.5      0.5        5.66          0.00   \n",
              "15          8.5    0.5      0.5        2.00          0.00   \n",
              "16         11.0    0.5      0.5        0.00          0.00   \n",
              "17          8.0    0.5      0.5        1.86          0.00   \n",
              "18         52.0    0.0      0.5        8.00          5.54   \n",
              "19          4.5    0.5      0.5        1.15          0.00   \n",
              "\n",
              "    improvement_surcharge  total_amount  \n",
              "0                     0.3         12.35  \n",
              "1                     0.3         15.35  \n",
              "2                     0.3         63.80  \n",
              "3                     0.3         41.62  \n",
              "4                     0.3        113.80  \n",
              "5                     0.3         30.36  \n",
              "6                     0.3         24.30  \n",
              "7                     0.3         21.80  \n",
              "8                     0.3          8.80  \n",
              "9                     0.3         28.00  \n",
              "10                    0.3          5.30  \n",
              "11                    0.3          9.30  \n",
              "12                    0.3          9.00  \n",
              "13                    0.3         12.36  \n",
              "14                    0.3         33.96  \n",
              "15                    0.3         11.80  \n",
              "16                    0.3         12.30  \n",
              "17                    0.3         11.16  \n",
              "18                    0.3         66.34  \n",
              "19                    0.3          6.95  "
            ],
            "text/html": [
              "\n",
              "  <div id=\"df-5f362df1-8b2b-498c-8a25-527f13fd98b8\">\n",
              "    <div class=\"colab-df-container\">\n",
              "      <div>\n",
              "<style scoped>\n",
              "    .dataframe tbody tr th:only-of-type {\n",
              "        vertical-align: middle;\n",
              "    }\n",
              "\n",
              "    .dataframe tbody tr th {\n",
              "        vertical-align: top;\n",
              "    }\n",
              "\n",
              "    .dataframe thead th {\n",
              "        text-align: right;\n",
              "    }\n",
              "</style>\n",
              "<table border=\"1\" class=\"dataframe\">\n",
              "  <thead>\n",
              "    <tr style=\"text-align: right;\">\n",
              "      <th></th>\n",
              "      <th>VendorID</th>\n",
              "      <th>tpep_pickup_datetime</th>\n",
              "      <th>tpep_dropoff_datetime</th>\n",
              "      <th>passenger_count</th>\n",
              "      <th>trip_distance</th>\n",
              "      <th>pickup_longitude</th>\n",
              "      <th>pickup_latitude</th>\n",
              "      <th>RatecodeID</th>\n",
              "      <th>store_and_fwd_flag</th>\n",
              "      <th>dropoff_longitude</th>\n",
              "      <th>dropoff_latitude</th>\n",
              "      <th>payment_type</th>\n",
              "      <th>fare_amount</th>\n",
              "      <th>extra</th>\n",
              "      <th>mta_tax</th>\n",
              "      <th>tip_amount</th>\n",
              "      <th>tolls_amount</th>\n",
              "      <th>improvement_surcharge</th>\n",
              "      <th>total_amount</th>\n",
              "    </tr>\n",
              "  </thead>\n",
              "  <tbody>\n",
              "    <tr>\n",
              "      <th>0</th>\n",
              "      <td>1</td>\n",
              "      <td>2016-03-01 00:00:00</td>\n",
              "      <td>2016-03-01 00:07:55</td>\n",
              "      <td>1</td>\n",
              "      <td>2.50</td>\n",
              "      <td>-73.976746</td>\n",
              "      <td>40.765152</td>\n",
              "      <td>1</td>\n",
              "      <td>N</td>\n",
              "      <td>-74.004265</td>\n",
              "      <td>40.746128</td>\n",
              "      <td>1</td>\n",
              "      <td>9.0</td>\n",
              "      <td>0.5</td>\n",
              "      <td>0.5</td>\n",
              "      <td>2.05</td>\n",
              "      <td>0.00</td>\n",
              "      <td>0.3</td>\n",
              "      <td>12.35</td>\n",
              "    </tr>\n",
              "    <tr>\n",
              "      <th>1</th>\n",
              "      <td>1</td>\n",
              "      <td>2016-03-01 00:00:00</td>\n",
              "      <td>2016-03-01 00:11:06</td>\n",
              "      <td>1</td>\n",
              "      <td>2.90</td>\n",
              "      <td>-73.983482</td>\n",
              "      <td>40.767925</td>\n",
              "      <td>1</td>\n",
              "      <td>N</td>\n",
              "      <td>-74.005943</td>\n",
              "      <td>40.733166</td>\n",
              "      <td>1</td>\n",
              "      <td>11.0</td>\n",
              "      <td>0.5</td>\n",
              "      <td>0.5</td>\n",
              "      <td>3.05</td>\n",
              "      <td>0.00</td>\n",
              "      <td>0.3</td>\n",
              "      <td>15.35</td>\n",
              "    </tr>\n",
              "    <tr>\n",
              "      <th>2</th>\n",
              "      <td>2</td>\n",
              "      <td>2016-03-01 00:00:00</td>\n",
              "      <td>2016-03-01 00:31:06</td>\n",
              "      <td>2</td>\n",
              "      <td>19.98</td>\n",
              "      <td>-73.782021</td>\n",
              "      <td>40.644810</td>\n",
              "      <td>1</td>\n",
              "      <td>N</td>\n",
              "      <td>-73.974541</td>\n",
              "      <td>40.675770</td>\n",
              "      <td>1</td>\n",
              "      <td>54.5</td>\n",
              "      <td>0.5</td>\n",
              "      <td>0.5</td>\n",
              "      <td>8.00</td>\n",
              "      <td>0.00</td>\n",
              "      <td>0.3</td>\n",
              "      <td>63.80</td>\n",
              "    </tr>\n",
              "    <tr>\n",
              "      <th>3</th>\n",
              "      <td>2</td>\n",
              "      <td>2016-03-01 00:00:00</td>\n",
              "      <td>2016-03-01 00:00:00</td>\n",
              "      <td>3</td>\n",
              "      <td>10.78</td>\n",
              "      <td>-73.863419</td>\n",
              "      <td>40.769814</td>\n",
              "      <td>1</td>\n",
              "      <td>N</td>\n",
              "      <td>-73.969650</td>\n",
              "      <td>40.757767</td>\n",
              "      <td>1</td>\n",
              "      <td>31.5</td>\n",
              "      <td>0.0</td>\n",
              "      <td>0.5</td>\n",
              "      <td>3.78</td>\n",
              "      <td>5.54</td>\n",
              "      <td>0.3</td>\n",
              "      <td>41.62</td>\n",
              "    </tr>\n",
              "    <tr>\n",
              "      <th>4</th>\n",
              "      <td>2</td>\n",
              "      <td>2016-03-01 00:00:00</td>\n",
              "      <td>2016-03-01 00:00:00</td>\n",
              "      <td>5</td>\n",
              "      <td>30.43</td>\n",
              "      <td>-73.971741</td>\n",
              "      <td>40.792183</td>\n",
              "      <td>3</td>\n",
              "      <td>N</td>\n",
              "      <td>-74.177170</td>\n",
              "      <td>40.695053</td>\n",
              "      <td>1</td>\n",
              "      <td>98.0</td>\n",
              "      <td>0.0</td>\n",
              "      <td>0.0</td>\n",
              "      <td>0.00</td>\n",
              "      <td>15.50</td>\n",
              "      <td>0.3</td>\n",
              "      <td>113.80</td>\n",
              "    </tr>\n",
              "    <tr>\n",
              "      <th>5</th>\n",
              "      <td>2</td>\n",
              "      <td>2016-03-01 00:00:00</td>\n",
              "      <td>2016-03-01 00:00:00</td>\n",
              "      <td>5</td>\n",
              "      <td>5.92</td>\n",
              "      <td>-74.017197</td>\n",
              "      <td>40.705383</td>\n",
              "      <td>1</td>\n",
              "      <td>N</td>\n",
              "      <td>-73.978073</td>\n",
              "      <td>40.755787</td>\n",
              "      <td>1</td>\n",
              "      <td>23.5</td>\n",
              "      <td>1.0</td>\n",
              "      <td>0.5</td>\n",
              "      <td>5.06</td>\n",
              "      <td>0.00</td>\n",
              "      <td>0.3</td>\n",
              "      <td>30.36</td>\n",
              "    </tr>\n",
              "    <tr>\n",
              "      <th>6</th>\n",
              "      <td>2</td>\n",
              "      <td>2016-03-01 00:00:00</td>\n",
              "      <td>2016-03-01 00:00:00</td>\n",
              "      <td>6</td>\n",
              "      <td>5.72</td>\n",
              "      <td>-73.994583</td>\n",
              "      <td>40.727848</td>\n",
              "      <td>1</td>\n",
              "      <td>N</td>\n",
              "      <td>0.000000</td>\n",
              "      <td>0.000000</td>\n",
              "      <td>2</td>\n",
              "      <td>23.0</td>\n",
              "      <td>0.5</td>\n",
              "      <td>0.5</td>\n",
              "      <td>0.00</td>\n",
              "      <td>0.00</td>\n",
              "      <td>0.3</td>\n",
              "      <td>24.30</td>\n",
              "    </tr>\n",
              "    <tr>\n",
              "      <th>7</th>\n",
              "      <td>1</td>\n",
              "      <td>2016-03-01 00:00:01</td>\n",
              "      <td>2016-03-01 00:16:04</td>\n",
              "      <td>1</td>\n",
              "      <td>6.20</td>\n",
              "      <td>-73.788773</td>\n",
              "      <td>40.647758</td>\n",
              "      <td>1</td>\n",
              "      <td>N</td>\n",
              "      <td>-73.829208</td>\n",
              "      <td>40.712345</td>\n",
              "      <td>3</td>\n",
              "      <td>20.5</td>\n",
              "      <td>0.5</td>\n",
              "      <td>0.5</td>\n",
              "      <td>0.00</td>\n",
              "      <td>0.00</td>\n",
              "      <td>0.3</td>\n",
              "      <td>21.80</td>\n",
              "    </tr>\n",
              "    <tr>\n",
              "      <th>8</th>\n",
              "      <td>1</td>\n",
              "      <td>2016-03-01 00:00:01</td>\n",
              "      <td>2016-03-01 00:05:00</td>\n",
              "      <td>1</td>\n",
              "      <td>0.70</td>\n",
              "      <td>-73.958221</td>\n",
              "      <td>40.764641</td>\n",
              "      <td>1</td>\n",
              "      <td>N</td>\n",
              "      <td>-73.967896</td>\n",
              "      <td>40.762901</td>\n",
              "      <td>1</td>\n",
              "      <td>5.5</td>\n",
              "      <td>0.5</td>\n",
              "      <td>0.5</td>\n",
              "      <td>2.00</td>\n",
              "      <td>0.00</td>\n",
              "      <td>0.3</td>\n",
              "      <td>8.80</td>\n",
              "    </tr>\n",
              "    <tr>\n",
              "      <th>9</th>\n",
              "      <td>2</td>\n",
              "      <td>2016-03-01 00:00:01</td>\n",
              "      <td>2016-03-01 00:24:06</td>\n",
              "      <td>3</td>\n",
              "      <td>7.18</td>\n",
              "      <td>-73.985779</td>\n",
              "      <td>40.741192</td>\n",
              "      <td>1</td>\n",
              "      <td>N</td>\n",
              "      <td>-73.946350</td>\n",
              "      <td>40.797878</td>\n",
              "      <td>1</td>\n",
              "      <td>23.5</td>\n",
              "      <td>0.5</td>\n",
              "      <td>0.5</td>\n",
              "      <td>3.20</td>\n",
              "      <td>0.00</td>\n",
              "      <td>0.3</td>\n",
              "      <td>28.00</td>\n",
              "    </tr>\n",
              "    <tr>\n",
              "      <th>10</th>\n",
              "      <td>2</td>\n",
              "      <td>2016-03-01 00:00:01</td>\n",
              "      <td>2016-03-01 00:02:03</td>\n",
              "      <td>2</td>\n",
              "      <td>0.54</td>\n",
              "      <td>-73.988426</td>\n",
              "      <td>40.764160</td>\n",
              "      <td>1</td>\n",
              "      <td>N</td>\n",
              "      <td>-73.992393</td>\n",
              "      <td>40.758224</td>\n",
              "      <td>2</td>\n",
              "      <td>4.0</td>\n",
              "      <td>0.5</td>\n",
              "      <td>0.5</td>\n",
              "      <td>0.00</td>\n",
              "      <td>0.00</td>\n",
              "      <td>0.3</td>\n",
              "      <td>5.30</td>\n",
              "    </tr>\n",
              "    <tr>\n",
              "      <th>11</th>\n",
              "      <td>1</td>\n",
              "      <td>2016-03-01 00:00:02</td>\n",
              "      <td>2016-03-01 00:07:49</td>\n",
              "      <td>1</td>\n",
              "      <td>1.70</td>\n",
              "      <td>-73.969818</td>\n",
              "      <td>40.797428</td>\n",
              "      <td>1</td>\n",
              "      <td>N</td>\n",
              "      <td>-73.943771</td>\n",
              "      <td>40.796200</td>\n",
              "      <td>2</td>\n",
              "      <td>8.0</td>\n",
              "      <td>0.5</td>\n",
              "      <td>0.5</td>\n",
              "      <td>0.00</td>\n",
              "      <td>0.00</td>\n",
              "      <td>0.3</td>\n",
              "      <td>9.30</td>\n",
              "    </tr>\n",
              "    <tr>\n",
              "      <th>12</th>\n",
              "      <td>1</td>\n",
              "      <td>2016-03-01 00:00:02</td>\n",
              "      <td>2016-03-01 00:03:05</td>\n",
              "      <td>1</td>\n",
              "      <td>1.10</td>\n",
              "      <td>-73.953804</td>\n",
              "      <td>40.788128</td>\n",
              "      <td>1</td>\n",
              "      <td>N</td>\n",
              "      <td>-73.971550</td>\n",
              "      <td>40.795238</td>\n",
              "      <td>1</td>\n",
              "      <td>5.5</td>\n",
              "      <td>0.5</td>\n",
              "      <td>0.5</td>\n",
              "      <td>2.20</td>\n",
              "      <td>0.00</td>\n",
              "      <td>0.3</td>\n",
              "      <td>9.00</td>\n",
              "    </tr>\n",
              "    <tr>\n",
              "      <th>13</th>\n",
              "      <td>2</td>\n",
              "      <td>2016-03-01 00:00:02</td>\n",
              "      <td>2016-03-01 00:09:32</td>\n",
              "      <td>1</td>\n",
              "      <td>2.10</td>\n",
              "      <td>-73.976089</td>\n",
              "      <td>40.752171</td>\n",
              "      <td>1</td>\n",
              "      <td>N</td>\n",
              "      <td>-73.987450</td>\n",
              "      <td>40.770782</td>\n",
              "      <td>1</td>\n",
              "      <td>9.0</td>\n",
              "      <td>0.5</td>\n",
              "      <td>0.5</td>\n",
              "      <td>2.06</td>\n",
              "      <td>0.00</td>\n",
              "      <td>0.3</td>\n",
              "      <td>12.36</td>\n",
              "    </tr>\n",
              "    <tr>\n",
              "      <th>14</th>\n",
              "      <td>2</td>\n",
              "      <td>2016-03-01 00:00:02</td>\n",
              "      <td>2016-03-01 00:24:11</td>\n",
              "      <td>1</td>\n",
              "      <td>8.54</td>\n",
              "      <td>-74.002068</td>\n",
              "      <td>40.719120</td>\n",
              "      <td>1</td>\n",
              "      <td>N</td>\n",
              "      <td>-73.952118</td>\n",
              "      <td>40.811241</td>\n",
              "      <td>1</td>\n",
              "      <td>27.0</td>\n",
              "      <td>0.5</td>\n",
              "      <td>0.5</td>\n",
              "      <td>5.66</td>\n",
              "      <td>0.00</td>\n",
              "      <td>0.3</td>\n",
              "      <td>33.96</td>\n",
              "    </tr>\n",
              "    <tr>\n",
              "      <th>15</th>\n",
              "      <td>2</td>\n",
              "      <td>2016-03-01 00:00:02</td>\n",
              "      <td>2016-03-01 00:08:24</td>\n",
              "      <td>1</td>\n",
              "      <td>2.00</td>\n",
              "      <td>-74.006729</td>\n",
              "      <td>40.730717</td>\n",
              "      <td>1</td>\n",
              "      <td>N</td>\n",
              "      <td>-74.017044</td>\n",
              "      <td>40.709366</td>\n",
              "      <td>1</td>\n",
              "      <td>8.5</td>\n",
              "      <td>0.5</td>\n",
              "      <td>0.5</td>\n",
              "      <td>2.00</td>\n",
              "      <td>0.00</td>\n",
              "      <td>0.3</td>\n",
              "      <td>11.80</td>\n",
              "    </tr>\n",
              "    <tr>\n",
              "      <th>16</th>\n",
              "      <td>1</td>\n",
              "      <td>2016-03-01 00:00:03</td>\n",
              "      <td>2016-03-01 00:09:23</td>\n",
              "      <td>1</td>\n",
              "      <td>3.20</td>\n",
              "      <td>-74.006615</td>\n",
              "      <td>40.716621</td>\n",
              "      <td>1</td>\n",
              "      <td>N</td>\n",
              "      <td>-73.990105</td>\n",
              "      <td>40.756050</td>\n",
              "      <td>2</td>\n",
              "      <td>11.0</td>\n",
              "      <td>0.5</td>\n",
              "      <td>0.5</td>\n",
              "      <td>0.00</td>\n",
              "      <td>0.00</td>\n",
              "      <td>0.3</td>\n",
              "      <td>12.30</td>\n",
              "    </tr>\n",
              "    <tr>\n",
              "      <th>17</th>\n",
              "      <td>2</td>\n",
              "      <td>2016-03-01 00:00:03</td>\n",
              "      <td>2016-03-01 00:08:34</td>\n",
              "      <td>1</td>\n",
              "      <td>1.59</td>\n",
              "      <td>-73.982269</td>\n",
              "      <td>40.770618</td>\n",
              "      <td>1</td>\n",
              "      <td>N</td>\n",
              "      <td>-73.968742</td>\n",
              "      <td>40.755039</td>\n",
              "      <td>1</td>\n",
              "      <td>8.0</td>\n",
              "      <td>0.5</td>\n",
              "      <td>0.5</td>\n",
              "      <td>1.86</td>\n",
              "      <td>0.00</td>\n",
              "      <td>0.3</td>\n",
              "      <td>11.16</td>\n",
              "    </tr>\n",
              "    <tr>\n",
              "      <th>18</th>\n",
              "      <td>2</td>\n",
              "      <td>2016-03-01 00:00:03</td>\n",
              "      <td>2016-03-01 00:32:45</td>\n",
              "      <td>3</td>\n",
              "      <td>16.81</td>\n",
              "      <td>-73.792389</td>\n",
              "      <td>40.645031</td>\n",
              "      <td>2</td>\n",
              "      <td>N</td>\n",
              "      <td>-73.986290</td>\n",
              "      <td>40.758518</td>\n",
              "      <td>1</td>\n",
              "      <td>52.0</td>\n",
              "      <td>0.0</td>\n",
              "      <td>0.5</td>\n",
              "      <td>8.00</td>\n",
              "      <td>5.54</td>\n",
              "      <td>0.3</td>\n",
              "      <td>66.34</td>\n",
              "    </tr>\n",
              "    <tr>\n",
              "      <th>19</th>\n",
              "      <td>1</td>\n",
              "      <td>2016-03-01 00:00:04</td>\n",
              "      <td>2016-03-01 00:03:30</td>\n",
              "      <td>2</td>\n",
              "      <td>0.50</td>\n",
              "      <td>-73.983788</td>\n",
              "      <td>40.731892</td>\n",
              "      <td>1</td>\n",
              "      <td>N</td>\n",
              "      <td>-73.975815</td>\n",
              "      <td>40.728519</td>\n",
              "      <td>1</td>\n",
              "      <td>4.5</td>\n",
              "      <td>0.5</td>\n",
              "      <td>0.5</td>\n",
              "      <td>1.15</td>\n",
              "      <td>0.00</td>\n",
              "      <td>0.3</td>\n",
              "      <td>6.95</td>\n",
              "    </tr>\n",
              "  </tbody>\n",
              "</table>\n",
              "</div>\n",
              "      <button class=\"colab-df-convert\" onclick=\"convertToInteractive('df-5f362df1-8b2b-498c-8a25-527f13fd98b8')\"\n",
              "              title=\"Convert this dataframe to an interactive table.\"\n",
              "              style=\"display:none;\">\n",
              "        \n",
              "  <svg xmlns=\"http://www.w3.org/2000/svg\" height=\"24px\"viewBox=\"0 0 24 24\"\n",
              "       width=\"24px\">\n",
              "    <path d=\"M0 0h24v24H0V0z\" fill=\"none\"/>\n",
              "    <path d=\"M18.56 5.44l.94 2.06.94-2.06 2.06-.94-2.06-.94-.94-2.06-.94 2.06-2.06.94zm-11 1L8.5 8.5l.94-2.06 2.06-.94-2.06-.94L8.5 2.5l-.94 2.06-2.06.94zm10 10l.94 2.06.94-2.06 2.06-.94-2.06-.94-.94-2.06-.94 2.06-2.06.94z\"/><path d=\"M17.41 7.96l-1.37-1.37c-.4-.4-.92-.59-1.43-.59-.52 0-1.04.2-1.43.59L10.3 9.45l-7.72 7.72c-.78.78-.78 2.05 0 2.83L4 21.41c.39.39.9.59 1.41.59.51 0 1.02-.2 1.41-.59l7.78-7.78 2.81-2.81c.8-.78.8-2.07 0-2.86zM5.41 20L4 18.59l7.72-7.72 1.47 1.35L5.41 20z\"/>\n",
              "  </svg>\n",
              "      </button>\n",
              "      \n",
              "  <style>\n",
              "    .colab-df-container {\n",
              "      display:flex;\n",
              "      flex-wrap:wrap;\n",
              "      gap: 12px;\n",
              "    }\n",
              "\n",
              "    .colab-df-convert {\n",
              "      background-color: #E8F0FE;\n",
              "      border: none;\n",
              "      border-radius: 50%;\n",
              "      cursor: pointer;\n",
              "      display: none;\n",
              "      fill: #1967D2;\n",
              "      height: 32px;\n",
              "      padding: 0 0 0 0;\n",
              "      width: 32px;\n",
              "    }\n",
              "\n",
              "    .colab-df-convert:hover {\n",
              "      background-color: #E2EBFA;\n",
              "      box-shadow: 0px 1px 2px rgba(60, 64, 67, 0.3), 0px 1px 3px 1px rgba(60, 64, 67, 0.15);\n",
              "      fill: #174EA6;\n",
              "    }\n",
              "\n",
              "    [theme=dark] .colab-df-convert {\n",
              "      background-color: #3B4455;\n",
              "      fill: #D2E3FC;\n",
              "    }\n",
              "\n",
              "    [theme=dark] .colab-df-convert:hover {\n",
              "      background-color: #434B5C;\n",
              "      box-shadow: 0px 1px 3px 1px rgba(0, 0, 0, 0.15);\n",
              "      filter: drop-shadow(0px 1px 2px rgba(0, 0, 0, 0.3));\n",
              "      fill: #FFFFFF;\n",
              "    }\n",
              "  </style>\n",
              "\n",
              "      <script>\n",
              "        const buttonEl =\n",
              "          document.querySelector('#df-5f362df1-8b2b-498c-8a25-527f13fd98b8 button.colab-df-convert');\n",
              "        buttonEl.style.display =\n",
              "          google.colab.kernel.accessAllowed ? 'block' : 'none';\n",
              "\n",
              "        async function convertToInteractive(key) {\n",
              "          const element = document.querySelector('#df-5f362df1-8b2b-498c-8a25-527f13fd98b8');\n",
              "          const dataTable =\n",
              "            await google.colab.kernel.invokeFunction('convertToInteractive',\n",
              "                                                     [key], {});\n",
              "          if (!dataTable) return;\n",
              "\n",
              "          const docLinkHtml = 'Like what you see? Visit the ' +\n",
              "            '<a target=\"_blank\" href=https://colab.research.google.com/notebooks/data_table.ipynb>data table notebook</a>'\n",
              "            + ' to learn more about interactive tables.';\n",
              "          element.innerHTML = '';\n",
              "          dataTable['output_type'] = 'display_data';\n",
              "          await google.colab.output.renderOutput(dataTable, element);\n",
              "          const docLink = document.createElement('div');\n",
              "          docLink.innerHTML = docLinkHtml;\n",
              "          element.appendChild(docLink);\n",
              "        }\n",
              "      </script>\n",
              "    </div>\n",
              "  </div>\n",
              "  "
            ]
          },
          "metadata": {},
          "execution_count": 24
        }
      ]
    },
    {
      "cell_type": "code",
      "source": [
        "df.columns"
      ],
      "metadata": {
        "id": "uwzVSnFiWecb",
        "colab": {
          "base_uri": "https://localhost:8080/"
        },
        "outputId": "34ba1823-706a-4a74-ceae-cd3803e225d3"
      },
      "execution_count": null,
      "outputs": [
        {
          "output_type": "execute_result",
          "data": {
            "text/plain": [
              "Index(['VendorID', 'tpep_pickup_datetime', 'tpep_dropoff_datetime',\n",
              "       'passenger_count', 'trip_distance', 'pickup_longitude',\n",
              "       'pickup_latitude', 'RatecodeID', 'store_and_fwd_flag',\n",
              "       'dropoff_longitude', 'dropoff_latitude', 'payment_type', 'fare_amount',\n",
              "       'extra', 'mta_tax', 'tip_amount', 'tolls_amount',\n",
              "       'improvement_surcharge', 'total_amount'],\n",
              "      dtype='object')"
            ]
          },
          "metadata": {},
          "execution_count": 25
        }
      ]
    },
    {
      "cell_type": "code",
      "source": [
        "print(\"Missing values distribution: \")\n",
        "print(df.isnull().mean())\n",
        "print(\"\")"
      ],
      "metadata": {
        "id": "-wpNlv_jXMq0",
        "colab": {
          "base_uri": "https://localhost:8080/"
        },
        "outputId": "0650770e-a542-4815-b78a-54975cf7905b"
      },
      "execution_count": null,
      "outputs": [
        {
          "output_type": "stream",
          "name": "stdout",
          "text": [
            "Missing values distribution: \n",
            "VendorID                 0.0\n",
            "tpep_pickup_datetime     0.0\n",
            "tpep_dropoff_datetime    0.0\n",
            "passenger_count          0.0\n",
            "trip_distance            0.0\n",
            "pickup_longitude         0.0\n",
            "pickup_latitude          0.0\n",
            "RatecodeID               0.0\n",
            "store_and_fwd_flag       0.0\n",
            "dropoff_longitude        0.0\n",
            "dropoff_latitude         0.0\n",
            "payment_type             0.0\n",
            "fare_amount              0.0\n",
            "extra                    0.0\n",
            "mta_tax                  0.0\n",
            "tip_amount               0.0\n",
            "tolls_amount             0.0\n",
            "improvement_surcharge    0.0\n",
            "total_amount             0.0\n",
            "dtype: float64\n",
            "\n"
          ]
        }
      ]
    },
    {
      "cell_type": "code",
      "source": [
        "print(\"Column datatypes: \")\n",
        "print(df.dtypes)\n"
      ],
      "metadata": {
        "id": "SCBSLd_xXews",
        "colab": {
          "base_uri": "https://localhost:8080/"
        },
        "outputId": "3ad189ca-cfc2-4f5d-a290-a7667e8181e9"
      },
      "execution_count": null,
      "outputs": [
        {
          "output_type": "stream",
          "name": "stdout",
          "text": [
            "Column datatypes: \n",
            "VendorID                    int8\n",
            "tpep_pickup_datetime      object\n",
            "tpep_dropoff_datetime     object\n",
            "passenger_count            int64\n",
            "trip_distance            float64\n",
            "pickup_longitude         float64\n",
            "pickup_latitude          float64\n",
            "RatecodeID                 int64\n",
            "store_and_fwd_flag        object\n",
            "dropoff_longitude        float64\n",
            "dropoff_latitude         float64\n",
            "payment_type               int64\n",
            "fare_amount              float64\n",
            "extra                    float64\n",
            "mta_tax                  float64\n",
            "tip_amount               float64\n",
            "tolls_amount             float64\n",
            "improvement_surcharge    float64\n",
            "total_amount             float64\n",
            "dtype: object\n"
          ]
        }
      ]
    },
    {
      "cell_type": "code",
      "source": [
        "# names of the columns\n",
        "columns = ['VendorID', 'tpep_pickup_datetime', 'tpep_dropoff_datetime',\n",
        "       'passenger_count', 'trip_distance', 'pickup_longitude',\n",
        "       'pickup_latitude', 'RatecodeID', 'store_and_fwd_flag',\n",
        "       'dropoff_longitude', 'dropoff_latitude', 'payment_type', 'fare_amount',\n",
        "       'extra', 'mta_tax', 'tip_amount', 'tolls_amount',\n",
        "       'improvement_surcharge', 'total_amount']\n",
        "   \n",
        "\n",
        "# looping through the columns to fill the entries with NaN values with \"\"\n",
        "for column in columns:\n",
        "    df[column] = df[column].fillna(\"\")"
      ],
      "metadata": {
        "id": "kBEri8XTXq9x"
      },
      "execution_count": null,
      "outputs": []
    },
    {
      "cell_type": "code",
      "source": [
        "df.head()"
      ],
      "metadata": {
        "id": "kchP6Ry4X9B6",
        "colab": {
          "base_uri": "https://localhost:8080/",
          "height": 270
        },
        "outputId": "7896131d-569e-4a79-bbb8-8cef3c5b66a6"
      },
      "execution_count": null,
      "outputs": [
        {
          "output_type": "execute_result",
          "data": {
            "text/plain": [
              "   VendorID tpep_pickup_datetime tpep_dropoff_datetime  passenger_count  \\\n",
              "0         1  2016-03-01 00:00:00   2016-03-01 00:07:55                1   \n",
              "1         1  2016-03-01 00:00:00   2016-03-01 00:11:06                1   \n",
              "2         2  2016-03-01 00:00:00   2016-03-01 00:31:06                2   \n",
              "3         2  2016-03-01 00:00:00   2016-03-01 00:00:00                3   \n",
              "4         2  2016-03-01 00:00:00   2016-03-01 00:00:00                5   \n",
              "\n",
              "   trip_distance  pickup_longitude  pickup_latitude  RatecodeID  \\\n",
              "0           2.50        -73.976746        40.765152           1   \n",
              "1           2.90        -73.983482        40.767925           1   \n",
              "2          19.98        -73.782021        40.644810           1   \n",
              "3          10.78        -73.863419        40.769814           1   \n",
              "4          30.43        -73.971741        40.792183           3   \n",
              "\n",
              "  store_and_fwd_flag  dropoff_longitude  dropoff_latitude  payment_type  \\\n",
              "0                  N         -74.004265         40.746128             1   \n",
              "1                  N         -74.005943         40.733166             1   \n",
              "2                  N         -73.974541         40.675770             1   \n",
              "3                  N         -73.969650         40.757767             1   \n",
              "4                  N         -74.177170         40.695053             1   \n",
              "\n",
              "   fare_amount  extra  mta_tax  tip_amount  tolls_amount  \\\n",
              "0          9.0    0.5      0.5        2.05          0.00   \n",
              "1         11.0    0.5      0.5        3.05          0.00   \n",
              "2         54.5    0.5      0.5        8.00          0.00   \n",
              "3         31.5    0.0      0.5        3.78          5.54   \n",
              "4         98.0    0.0      0.0        0.00         15.50   \n",
              "\n",
              "   improvement_surcharge  total_amount  \n",
              "0                    0.3         12.35  \n",
              "1                    0.3         15.35  \n",
              "2                    0.3         63.80  \n",
              "3                    0.3         41.62  \n",
              "4                    0.3        113.80  "
            ],
            "text/html": [
              "\n",
              "  <div id=\"df-9705747d-a1a8-4ede-9891-81dcd141bdb2\">\n",
              "    <div class=\"colab-df-container\">\n",
              "      <div>\n",
              "<style scoped>\n",
              "    .dataframe tbody tr th:only-of-type {\n",
              "        vertical-align: middle;\n",
              "    }\n",
              "\n",
              "    .dataframe tbody tr th {\n",
              "        vertical-align: top;\n",
              "    }\n",
              "\n",
              "    .dataframe thead th {\n",
              "        text-align: right;\n",
              "    }\n",
              "</style>\n",
              "<table border=\"1\" class=\"dataframe\">\n",
              "  <thead>\n",
              "    <tr style=\"text-align: right;\">\n",
              "      <th></th>\n",
              "      <th>VendorID</th>\n",
              "      <th>tpep_pickup_datetime</th>\n",
              "      <th>tpep_dropoff_datetime</th>\n",
              "      <th>passenger_count</th>\n",
              "      <th>trip_distance</th>\n",
              "      <th>pickup_longitude</th>\n",
              "      <th>pickup_latitude</th>\n",
              "      <th>RatecodeID</th>\n",
              "      <th>store_and_fwd_flag</th>\n",
              "      <th>dropoff_longitude</th>\n",
              "      <th>dropoff_latitude</th>\n",
              "      <th>payment_type</th>\n",
              "      <th>fare_amount</th>\n",
              "      <th>extra</th>\n",
              "      <th>mta_tax</th>\n",
              "      <th>tip_amount</th>\n",
              "      <th>tolls_amount</th>\n",
              "      <th>improvement_surcharge</th>\n",
              "      <th>total_amount</th>\n",
              "    </tr>\n",
              "  </thead>\n",
              "  <tbody>\n",
              "    <tr>\n",
              "      <th>0</th>\n",
              "      <td>1</td>\n",
              "      <td>2016-03-01 00:00:00</td>\n",
              "      <td>2016-03-01 00:07:55</td>\n",
              "      <td>1</td>\n",
              "      <td>2.50</td>\n",
              "      <td>-73.976746</td>\n",
              "      <td>40.765152</td>\n",
              "      <td>1</td>\n",
              "      <td>N</td>\n",
              "      <td>-74.004265</td>\n",
              "      <td>40.746128</td>\n",
              "      <td>1</td>\n",
              "      <td>9.0</td>\n",
              "      <td>0.5</td>\n",
              "      <td>0.5</td>\n",
              "      <td>2.05</td>\n",
              "      <td>0.00</td>\n",
              "      <td>0.3</td>\n",
              "      <td>12.35</td>\n",
              "    </tr>\n",
              "    <tr>\n",
              "      <th>1</th>\n",
              "      <td>1</td>\n",
              "      <td>2016-03-01 00:00:00</td>\n",
              "      <td>2016-03-01 00:11:06</td>\n",
              "      <td>1</td>\n",
              "      <td>2.90</td>\n",
              "      <td>-73.983482</td>\n",
              "      <td>40.767925</td>\n",
              "      <td>1</td>\n",
              "      <td>N</td>\n",
              "      <td>-74.005943</td>\n",
              "      <td>40.733166</td>\n",
              "      <td>1</td>\n",
              "      <td>11.0</td>\n",
              "      <td>0.5</td>\n",
              "      <td>0.5</td>\n",
              "      <td>3.05</td>\n",
              "      <td>0.00</td>\n",
              "      <td>0.3</td>\n",
              "      <td>15.35</td>\n",
              "    </tr>\n",
              "    <tr>\n",
              "      <th>2</th>\n",
              "      <td>2</td>\n",
              "      <td>2016-03-01 00:00:00</td>\n",
              "      <td>2016-03-01 00:31:06</td>\n",
              "      <td>2</td>\n",
              "      <td>19.98</td>\n",
              "      <td>-73.782021</td>\n",
              "      <td>40.644810</td>\n",
              "      <td>1</td>\n",
              "      <td>N</td>\n",
              "      <td>-73.974541</td>\n",
              "      <td>40.675770</td>\n",
              "      <td>1</td>\n",
              "      <td>54.5</td>\n",
              "      <td>0.5</td>\n",
              "      <td>0.5</td>\n",
              "      <td>8.00</td>\n",
              "      <td>0.00</td>\n",
              "      <td>0.3</td>\n",
              "      <td>63.80</td>\n",
              "    </tr>\n",
              "    <tr>\n",
              "      <th>3</th>\n",
              "      <td>2</td>\n",
              "      <td>2016-03-01 00:00:00</td>\n",
              "      <td>2016-03-01 00:00:00</td>\n",
              "      <td>3</td>\n",
              "      <td>10.78</td>\n",
              "      <td>-73.863419</td>\n",
              "      <td>40.769814</td>\n",
              "      <td>1</td>\n",
              "      <td>N</td>\n",
              "      <td>-73.969650</td>\n",
              "      <td>40.757767</td>\n",
              "      <td>1</td>\n",
              "      <td>31.5</td>\n",
              "      <td>0.0</td>\n",
              "      <td>0.5</td>\n",
              "      <td>3.78</td>\n",
              "      <td>5.54</td>\n",
              "      <td>0.3</td>\n",
              "      <td>41.62</td>\n",
              "    </tr>\n",
              "    <tr>\n",
              "      <th>4</th>\n",
              "      <td>2</td>\n",
              "      <td>2016-03-01 00:00:00</td>\n",
              "      <td>2016-03-01 00:00:00</td>\n",
              "      <td>5</td>\n",
              "      <td>30.43</td>\n",
              "      <td>-73.971741</td>\n",
              "      <td>40.792183</td>\n",
              "      <td>3</td>\n",
              "      <td>N</td>\n",
              "      <td>-74.177170</td>\n",
              "      <td>40.695053</td>\n",
              "      <td>1</td>\n",
              "      <td>98.0</td>\n",
              "      <td>0.0</td>\n",
              "      <td>0.0</td>\n",
              "      <td>0.00</td>\n",
              "      <td>15.50</td>\n",
              "      <td>0.3</td>\n",
              "      <td>113.80</td>\n",
              "    </tr>\n",
              "  </tbody>\n",
              "</table>\n",
              "</div>\n",
              "      <button class=\"colab-df-convert\" onclick=\"convertToInteractive('df-9705747d-a1a8-4ede-9891-81dcd141bdb2')\"\n",
              "              title=\"Convert this dataframe to an interactive table.\"\n",
              "              style=\"display:none;\">\n",
              "        \n",
              "  <svg xmlns=\"http://www.w3.org/2000/svg\" height=\"24px\"viewBox=\"0 0 24 24\"\n",
              "       width=\"24px\">\n",
              "    <path d=\"M0 0h24v24H0V0z\" fill=\"none\"/>\n",
              "    <path d=\"M18.56 5.44l.94 2.06.94-2.06 2.06-.94-2.06-.94-.94-2.06-.94 2.06-2.06.94zm-11 1L8.5 8.5l.94-2.06 2.06-.94-2.06-.94L8.5 2.5l-.94 2.06-2.06.94zm10 10l.94 2.06.94-2.06 2.06-.94-2.06-.94-.94-2.06-.94 2.06-2.06.94z\"/><path d=\"M17.41 7.96l-1.37-1.37c-.4-.4-.92-.59-1.43-.59-.52 0-1.04.2-1.43.59L10.3 9.45l-7.72 7.72c-.78.78-.78 2.05 0 2.83L4 21.41c.39.39.9.59 1.41.59.51 0 1.02-.2 1.41-.59l7.78-7.78 2.81-2.81c.8-.78.8-2.07 0-2.86zM5.41 20L4 18.59l7.72-7.72 1.47 1.35L5.41 20z\"/>\n",
              "  </svg>\n",
              "      </button>\n",
              "      \n",
              "  <style>\n",
              "    .colab-df-container {\n",
              "      display:flex;\n",
              "      flex-wrap:wrap;\n",
              "      gap: 12px;\n",
              "    }\n",
              "\n",
              "    .colab-df-convert {\n",
              "      background-color: #E8F0FE;\n",
              "      border: none;\n",
              "      border-radius: 50%;\n",
              "      cursor: pointer;\n",
              "      display: none;\n",
              "      fill: #1967D2;\n",
              "      height: 32px;\n",
              "      padding: 0 0 0 0;\n",
              "      width: 32px;\n",
              "    }\n",
              "\n",
              "    .colab-df-convert:hover {\n",
              "      background-color: #E2EBFA;\n",
              "      box-shadow: 0px 1px 2px rgba(60, 64, 67, 0.3), 0px 1px 3px 1px rgba(60, 64, 67, 0.15);\n",
              "      fill: #174EA6;\n",
              "    }\n",
              "\n",
              "    [theme=dark] .colab-df-convert {\n",
              "      background-color: #3B4455;\n",
              "      fill: #D2E3FC;\n",
              "    }\n",
              "\n",
              "    [theme=dark] .colab-df-convert:hover {\n",
              "      background-color: #434B5C;\n",
              "      box-shadow: 0px 1px 3px 1px rgba(0, 0, 0, 0.15);\n",
              "      filter: drop-shadow(0px 1px 2px rgba(0, 0, 0, 0.3));\n",
              "      fill: #FFFFFF;\n",
              "    }\n",
              "  </style>\n",
              "\n",
              "      <script>\n",
              "        const buttonEl =\n",
              "          document.querySelector('#df-9705747d-a1a8-4ede-9891-81dcd141bdb2 button.colab-df-convert');\n",
              "        buttonEl.style.display =\n",
              "          google.colab.kernel.accessAllowed ? 'block' : 'none';\n",
              "\n",
              "        async function convertToInteractive(key) {\n",
              "          const element = document.querySelector('#df-9705747d-a1a8-4ede-9891-81dcd141bdb2');\n",
              "          const dataTable =\n",
              "            await google.colab.kernel.invokeFunction('convertToInteractive',\n",
              "                                                     [key], {});\n",
              "          if (!dataTable) return;\n",
              "\n",
              "          const docLinkHtml = 'Like what you see? Visit the ' +\n",
              "            '<a target=\"_blank\" href=https://colab.research.google.com/notebooks/data_table.ipynb>data table notebook</a>'\n",
              "            + ' to learn more about interactive tables.';\n",
              "          element.innerHTML = '';\n",
              "          dataTable['output_type'] = 'display_data';\n",
              "          await google.colab.output.renderOutput(dataTable, element);\n",
              "          const docLink = document.createElement('div');\n",
              "          docLink.innerHTML = docLinkHtml;\n",
              "          element.appendChild(docLink);\n",
              "        }\n",
              "      </script>\n",
              "    </div>\n",
              "  </div>\n",
              "  "
            ]
          },
          "metadata": {},
          "execution_count": 29
        }
      ]
    },
    {
      "cell_type": "code",
      "source": [
        "df['tpep_pickup_datetime'].unique()"
      ],
      "metadata": {
        "id": "64u_MbgFX7bY",
        "colab": {
          "base_uri": "https://localhost:8080/"
        },
        "outputId": "3e65b6b7-584b-4f82-d01e-302031323e17"
      },
      "execution_count": null,
      "outputs": [
        {
          "output_type": "execute_result",
          "data": {
            "text/plain": [
              "array(['2016-03-01 00:00:00', '2016-03-01 00:00:01',\n",
              "       '2016-03-01 00:00:02', ..., '2016-03-31 23:59:58',\n",
              "       '2016-03-31 23:59:59', '2016-03-20 08:45:16'], dtype=object)"
            ]
          },
          "metadata": {},
          "execution_count": 30
        }
      ]
    },
    {
      "cell_type": "code",
      "source": [
        "df['improvement_surcharge'].unique()"
      ],
      "metadata": {
        "id": "ycwaK_P4YXmf",
        "colab": {
          "base_uri": "https://localhost:8080/"
        },
        "outputId": "c0a33b77-0c5d-4caa-95a7-d0af92e88166"
      },
      "execution_count": null,
      "outputs": [
        {
          "output_type": "execute_result",
          "data": {
            "text/plain": [
              "array([ 0.3 ,  0.  , -0.3 ,  0.23,  0.18,  0.2 ,  0.19,  0.17,  0.1 ,\n",
              "        0.08])"
            ]
          },
          "metadata": {},
          "execution_count": 31
        }
      ]
    },
    {
      "cell_type": "code",
      "source": [
        "df = df.drop_duplicates( keep='last',inplace = True)"
      ],
      "metadata": {
        "id": "LiW_zR0fYoJr"
      },
      "execution_count": null,
      "outputs": []
    },
    {
      "cell_type": "markdown",
      "source": [
        "## Data Visualisation\n",
        "\n",
        "---\n",
        "\n"
      ],
      "metadata": {
        "id": "qiZTia52cbMk"
      }
    },
    {
      "cell_type": "markdown",
      "source": [
        "Exploratory Analysis and Visualization\n",
        "This section will shows steps and details of the calculation below:\n",
        "\n",
        "Determining the mean, sum, range and other interesting statistics for numeric columns\n",
        "Calculation distributions of numeric columns using histograms.\n",
        "Explaining the relationship between columns using scatter plots and bar charts.\n",
        "\n",
        "Graph 1 Count plot for Top 10 Car brand.\n",
        "\n",
        "Graph 2 KDE plot to determine the average horsepower of a car.\n",
        "\n",
        "Graph 3 Barplot and pie chart to show fueltype of car\n",
        "\n",
        "Graph 4 Histplot for car mileage\n",
        "\n",
        "Graph 5 Heatmap graph and Lmplot to show correlation between price and other factors"
      ],
      "metadata": {
        "id": "3FjmC7Qb221x"
      }
    },
    {
      "cell_type": "code",
      "source": [
        "import numpy as np\n",
        "import pandas as pd\n",
        "import matplotlib.pyplot as plt\n",
        "%matplotlib inline\n",
        "import seaborn as sns\n",
        "from wordcloud import WordCloud, STOPWORDS"
      ],
      "metadata": {
        "id": "cg1RlDVOzJIS"
      },
      "execution_count": null,
      "outputs": []
    },
    {
      "cell_type": "code",
      "source": [
        "data = pd.read_csv( '/content/yellow_tripdata_2016-03.csv')\n",
        "\n",
        "print(data.head())\n",
        "print(data.shape)\n",
        "print(data.info)"
      ],
      "metadata": {
        "colab": {
          "base_uri": "https://localhost:8080/"
        },
        "id": "rQ-U51K22Ckh",
        "outputId": "0d4da19e-2815-4812-b809-c208f427df94"
      },
      "execution_count": null,
      "outputs": [
        {
          "output_type": "stream",
          "name": "stdout",
          "text": [
            "   VendorID tpep_pickup_datetime tpep_dropoff_datetime  passenger_count  \\\n",
            "0         1  2016-03-01 00:00:00   2016-03-01 00:07:55                1   \n",
            "1         1  2016-03-01 00:00:00   2016-03-01 00:11:06                1   \n",
            "2         2  2016-03-01 00:00:00   2016-03-01 00:31:06                2   \n",
            "3         2  2016-03-01 00:00:00   2016-03-01 00:00:00                3   \n",
            "4         2  2016-03-01 00:00:00   2016-03-01 00:00:00                5   \n",
            "\n",
            "   trip_distance  pickup_longitude  pickup_latitude  RatecodeID  \\\n",
            "0           2.50        -73.976746        40.765152           1   \n",
            "1           2.90        -73.983482        40.767925           1   \n",
            "2          19.98        -73.782021        40.644810           1   \n",
            "3          10.78        -73.863419        40.769814           1   \n",
            "4          30.43        -73.971741        40.792183           3   \n",
            "\n",
            "  store_and_fwd_flag  dropoff_longitude  dropoff_latitude  payment_type  \\\n",
            "0                  N         -74.004265         40.746128             1   \n",
            "1                  N         -74.005943         40.733166             1   \n",
            "2                  N         -73.974541         40.675770             1   \n",
            "3                  N         -73.969650         40.757767             1   \n",
            "4                  N         -74.177170         40.695053             1   \n",
            "\n",
            "   fare_amount  extra  mta_tax  tip_amount  tolls_amount  \\\n",
            "0          9.0    0.5      0.5        2.05          0.00   \n",
            "1         11.0    0.5      0.5        3.05          0.00   \n",
            "2         54.5    0.5      0.5        8.00          0.00   \n",
            "3         31.5    0.0      0.5        3.78          5.54   \n",
            "4         98.0    0.0      0.0        0.00         15.50   \n",
            "\n",
            "   improvement_surcharge  total_amount  \n",
            "0                    0.3         12.35  \n",
            "1                    0.3         15.35  \n",
            "2                    0.3         63.80  \n",
            "3                    0.3         41.62  \n",
            "4                    0.3        113.80  \n",
            "(12210952, 19)\n",
            "<bound method DataFrame.info of           VendorID tpep_pickup_datetime tpep_dropoff_datetime  \\\n",
            "0                1  2016-03-01 00:00:00   2016-03-01 00:07:55   \n",
            "1                1  2016-03-01 00:00:00   2016-03-01 00:11:06   \n",
            "2                2  2016-03-01 00:00:00   2016-03-01 00:31:06   \n",
            "3                2  2016-03-01 00:00:00   2016-03-01 00:00:00   \n",
            "4                2  2016-03-01 00:00:00   2016-03-01 00:00:00   \n",
            "...            ...                  ...                   ...   \n",
            "12210947         1  2016-03-31 16:34:36   2016-03-31 16:34:36   \n",
            "12210948         1  2016-03-26 03:02:32   2016-06-14 18:47:55   \n",
            "12210949         1  2016-03-20 08:43:59   2016-06-27 15:05:01   \n",
            "12210950         1  2016-03-20 08:49:47   2016-06-28 19:11:27   \n",
            "12210951         1  2016-03-20 08:50:24   2016-06-29 15:58:16   \n",
            "\n",
            "          passenger_count  trip_distance  pickup_longitude  pickup_latitude  \\\n",
            "0                       1           2.50        -73.976746        40.765152   \n",
            "1                       1           2.90        -73.983482        40.767925   \n",
            "2                       2          19.98        -73.782021        40.644810   \n",
            "3                       3          10.78        -73.863419        40.769814   \n",
            "4                       5          30.43        -73.971741        40.792183   \n",
            "...                   ...            ...               ...              ...   \n",
            "12210947                1           0.00          0.000000         0.000000   \n",
            "12210948                1           0.40        -73.977356        40.774471   \n",
            "12210949                1          20.20          0.000000         0.000000   \n",
            "12210950                1          15.40        -73.790077        40.647377   \n",
            "12210951                1          17.50        -73.798485        40.645096   \n",
            "\n",
            "          RatecodeID store_and_fwd_flag  dropoff_longitude  dropoff_latitude  \\\n",
            "0                  1                  N         -74.004265         40.746128   \n",
            "1                  1                  N         -74.005943         40.733166   \n",
            "2                  1                  N         -73.974541         40.675770   \n",
            "3                  1                  N         -73.969650         40.757767   \n",
            "4                  3                  N         -74.177170         40.695053   \n",
            "...              ...                ...                ...               ...   \n",
            "12210947           1                  Y           0.000000          0.000000   \n",
            "12210948           1                  N         -73.982536         40.772408   \n",
            "12210949           2                  N         -74.008614         40.710987   \n",
            "12210950           1                  N         -73.971756         40.578457   \n",
            "12210951           2                  N         -73.993111         40.725880   \n",
            "\n",
            "          payment_type  fare_amount  extra  mta_tax  tip_amount  tolls_amount  \\\n",
            "0                    1          9.0    0.5      0.5        2.05          0.00   \n",
            "1                    1         11.0    0.5      0.5        3.05          0.00   \n",
            "2                    1         54.5    0.5      0.5        8.00          0.00   \n",
            "3                    1         31.5    0.0      0.5        3.78          5.54   \n",
            "4                    1         98.0    0.0      0.0        0.00         15.50   \n",
            "...                ...          ...    ...      ...         ...           ...   \n",
            "12210947             2         19.0    1.0      0.5        0.00          0.00   \n",
            "12210948             1          4.0    1.0      0.5        1.70          0.00   \n",
            "12210949             1         52.0    0.0      0.5        6.00          5.54   \n",
            "12210950             1         42.5    1.0      0.5        5.00          0.00   \n",
            "12210951             1         52.0    0.0      0.5       13.20          0.00   \n",
            "\n",
            "          improvement_surcharge  total_amount  \n",
            "0                           0.3         12.35  \n",
            "1                           0.3         15.35  \n",
            "2                           0.3         63.80  \n",
            "3                           0.3         41.62  \n",
            "4                           0.3        113.80  \n",
            "...                         ...           ...  \n",
            "12210947                    0.3         20.80  \n",
            "12210948                    0.3          7.50  \n",
            "12210949                    0.3         64.34  \n",
            "12210950                    0.3         49.30  \n",
            "12210951                    0.3         66.00  \n",
            "\n",
            "[12210952 rows x 19 columns]>\n"
          ]
        }
      ]
    },
    {
      "cell_type": "code",
      "source": [
        "sns.set(rc={'figure.figsize':(10,10)})\n",
        "plt.xticks(range(0, 10, 1))\n",
        "sns.kdeplot(x = 'tip_amount',data = pd.read_csv( '/content/yellow_tripdata_2016-03.csv'))\n",
        "plt.title(\"Average Tip Amount\")"
      ],
      "metadata": {
        "colab": {
          "base_uri": "https://localhost:8080/",
          "height": 644
        },
        "id": "ye1HRH-53Lkj",
        "outputId": "9f64ad11-d146-4b7c-ba75-d1b1ced4a0ff"
      },
      "execution_count": null,
      "outputs": [
        {
          "output_type": "execute_result",
          "data": {
            "text/plain": [
              "Text(0.5, 1.0, 'Average Tip Amount')"
            ]
          },
          "metadata": {},
          "execution_count": 6
        },
        {
          "output_type": "display_data",
          "data": {
            "text/plain": [
              "<Figure size 720x720 with 1 Axes>"
            ],
            "image/png": "[encoded data removed]"
          },
          "metadata": {}
        }
      ]
    },
    {
      "cell_type": "code",
      "source": [
        "sns.histplot(data=pd.read_csv( '/content/yellow_tripdata_2016-03.csv'), x='passenger_count',bins=30,color = 'r')"
      ],
      "metadata": {
        "id": "wwMyZLEycyhJ",
        "colab": {
          "base_uri": "https://localhost:8080/",
          "height": 639
        },
        "outputId": "f47ce05f-b208-4b25-a110-99f90b88bda6"
      },
      "execution_count": null,
      "outputs": [
        {
          "output_type": "execute_result",
          "data": {
            "text/plain": [
              "<matplotlib.axes._subplots.AxesSubplot at 0x7fbf80875cd0>"
            ]
          },
          "metadata": {},
          "execution_count": 7
        },
        {
          "output_type": "display_data",
          "data": {
            "text/plain": [
              "<Figure size 720x720 with 1 Axes>"
            ],
            "image/png": "[encoded data removed]"
          },
          "metadata": {}
        }
      ]
    },
    {
      "cell_type": "code",
      "source": [
        "data=pd.read_csv( '/content/yellow_tripdata_2016-03.csv')"
      ],
      "metadata": {
        "id": "PEWTg-Sgdh9y"
      },
      "execution_count": null,
      "outputs": []
    },
    {
      "cell_type": "markdown",
      "source": [
        "Index(['VendorID', 'tpep_pickup_datetime', 'tpep_dropoff_datetime',\n",
        "       'passenger_count', 'trip_distance', 'pickup_longitude',\n",
        "       'pickup_latitude', 'RatecodeID', 'store_and_fwd_flag',\n",
        "       'dropoff_longitude', 'dropoff_latitude', 'payment_type', 'fare_amount',\n",
        "       'extra', 'mta_tax', 'tip_amount', 'tolls_amount',\n",
        "       'improvement_surcharge', 'total_amount'],\n",
        "      dtype='object')"
      ],
      "metadata": {
        "id": "omFWX6xs9107"
      }
    },
    {
      "cell_type": "code",
      "source": [
        "import numpy as np\n",
        "import pandas as pd\n",
        "import matplotlib.pyplot as plt\n",
        "%matplotlib inline\n",
        "import seaborn as sns\n",
        "from wordcloud import WordCloud, STOPWORDS"
      ],
      "metadata": {
        "id": "hOmXbnzhEx6l"
      },
      "execution_count": null,
      "outputs": []
    },
    {
      "cell_type": "code",
      "source": [
        "data=pd.read_csv( '/content/yellow_tripdata_2016-03.csv')"
      ],
      "metadata": {
        "id": "0mLFmAdQGrEl"
      },
      "execution_count": null,
      "outputs": []
    },
    {
      "cell_type": "code",
      "source": [
        "data['payment_type'].value_counts().plot(kind='pie', figsize=(6,6))"
      ],
      "metadata": {
        "colab": {
          "base_uri": "https://localhost:8080/",
          "height": 374
        },
        "id": "34-m94Oq9I7m",
        "outputId": "410841f9-060c-4514-ad02-cb58c70d0be6"
      },
      "execution_count": null,
      "outputs": [
        {
          "output_type": "execute_result",
          "data": {
            "text/plain": [
              "<matplotlib.axes._subplots.AxesSubplot at 0x7f4de1eb6c10>"
            ]
          },
          "metadata": {},
          "execution_count": 13
        },
        {
          "output_type": "display_data",
          "data": {
            "text/plain": [
              "<Figure size 432x432 with 1 Axes>"
            ],
            "image/png": "[encoded data removed]"
          },
          "metadata": {}
        }
      ]
    },
    {
      "cell_type": "code",
      "source": [
        "data=pd.read_csv( '/content/yellow_tripdata_2016-03.csv')\n",
        "corr = data.corr()\n",
        "plt.figure(figsize=(20, 9))\n",
        "k = 18 #number of variables for heatmap\n",
        "cols = corr.nlargest(k, 'fare_amount')['fare_amount'].index\n",
        "cm = np.corrcoef(data[cols].values.T)\n",
        "sns.set(font_scale=1.25)\n",
        "hm = sns.heatmap(cm, cbar=True, annot=True, square=True, fmt='.2f', annot_kws={'size': 10}, yticklabels=cols.values, xticklabels=cols.values,cmap=\"Blues\")\n",
        "plt.show()"
      ],
      "metadata": {
        "id": "Abi9CytXdqnv",
        "colab": {
          "base_uri": "https://localhost:8080/",
          "height": 703
        },
        "outputId": "ee38bcb3-3c98-4da3-a939-9843fe75dd54"
      },
      "execution_count": null,
      "outputs": [
        {
          "output_type": "display_data",
          "data": {
            "text/plain": [
              "<Figure size 1440x648 with 2 Axes>"
            ],
            "image/png": "[encoded data removed]"
          },
          "metadata": {
            "needs_background": "light"
          }
        }
      ]
    },
    {
      "cell_type": "code",
      "source": [
        "sns.lmplot(data=pd.read_csv( '/content/yellow_tripdata_2016-03.csv'),x='passenger_count',y='total_amount')"
      ],
      "metadata": {
        "id": "17q5vTtUHtQq"
      },
      "execution_count": null,
      "outputs": []
    }
  ]
}
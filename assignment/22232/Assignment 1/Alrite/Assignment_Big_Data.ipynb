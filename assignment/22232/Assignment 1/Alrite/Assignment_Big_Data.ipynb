{
  "cells": [
    {
      "cell_type": "markdown",
      "metadata": {
        "id": "RMfi50Yud7rz"
      },
      "source": [
        "# **Introduction**\n",
        "**Grp Alrite**\n",
        "\n",
        "The purpose of the project is to explore more on NASA JPL Asteroid Dataset.The dataset contains various information about the asteroids and labels each asteroid as hazardous or non-hazardous. The notebook covers the following aspects:\n",
        "\n",
        "\n",
        "1.   Data exploration\n",
        "2.   Data cleaning\n",
        "3.   Data Visualisation\n",
        "\n"
      ]
    },
    {
      "cell_type": "code",
      "execution_count": null,
      "metadata": {
        "colab": {
          "background_save": true
        },
        "id": "1HwA92d8nvLF",
        "outputId": "f56bd2de-b3be-4a29-b67a-a8e566fcf7e9"
      },
      "outputs": [
        {
          "name": "stdout",
          "output_type": "stream",
          "text": [
            "Mounted at /content/drive\n"
          ]
        }
      ],
      "source": [
        "from google.colab import drive\n",
        "drive.mount('/content/drive')"
      ]
    },
    {
      "cell_type": "code",
      "execution_count": null,
      "metadata": {
        "colab": {
          "background_save": true
        },
        "id": "5s3aOBwcoJqJ"
      },
      "outputs": [],
      "source": [
        "import pandas as pd\n",
        "import numpy as np\n",
        "import seaborn as sns                       #visualisation\n",
        "import matplotlib.pyplot as plt             #visualisation\n",
        "%matplotlib inline     \n",
        "sns.set(color_codes=True)"
      ]
    },
    {
      "cell_type": "code",
      "execution_count": null,
      "metadata": {
        "colab": {
          "background_save": true,
          "base_uri": "https://localhost:8080/",
          "height": 696
        },
        "id": "wj4STWE0oLTg",
        "outputId": "93358e3e-c70b-4c18-e8de-4f00a60a1921"
      },
      "outputs": [
        {
          "name": "stderr",
          "output_type": "stream",
          "text": [
            "/usr/local/lib/python3.8/dist-packages/IPython/core/interactiveshell.py:3326: DtypeWarning: Columns (3,4,5) have mixed types.Specify dtype option on import or set low_memory=False.\n",
            "  exec(code_obj, self.user_global_ns, self.user_ns)\n"
          ]
        },
        {
          "data": {
            "text/html": [
              "\n",
              "  <div id=\"df-6e97613f-1de2-4a28-8864-e373be229a7e\">\n",
              "    <div class=\"colab-df-container\">\n",
              "      <div>\n",
              "<style scoped>\n",
              "    .dataframe tbody tr th:only-of-type {\n",
              "        vertical-align: middle;\n",
              "    }\n",
              "\n",
              "    .dataframe tbody tr th {\n",
              "        vertical-align: top;\n",
              "    }\n",
              "\n",
              "    .dataframe thead th {\n",
              "        text-align: right;\n",
              "    }\n",
              "</style>\n",
              "<table border=\"1\" class=\"dataframe\">\n",
              "  <thead>\n",
              "    <tr style=\"text-align: right;\">\n",
              "      <th></th>\n",
              "      <th>id</th>\n",
              "      <th>spkid</th>\n",
              "      <th>full_name</th>\n",
              "      <th>pdes</th>\n",
              "      <th>name</th>\n",
              "      <th>prefix</th>\n",
              "      <th>neo</th>\n",
              "      <th>pha</th>\n",
              "      <th>H</th>\n",
              "      <th>diameter</th>\n",
              "      <th>...</th>\n",
              "      <th>sigma_i</th>\n",
              "      <th>sigma_om</th>\n",
              "      <th>sigma_w</th>\n",
              "      <th>sigma_ma</th>\n",
              "      <th>sigma_ad</th>\n",
              "      <th>sigma_n</th>\n",
              "      <th>sigma_tp</th>\n",
              "      <th>sigma_per</th>\n",
              "      <th>class</th>\n",
              "      <th>rms</th>\n",
              "    </tr>\n",
              "  </thead>\n",
              "  <tbody>\n",
              "    <tr>\n",
              "      <th>0</th>\n",
              "      <td>a0000001</td>\n",
              "      <td>2000001</td>\n",
              "      <td>1 Ceres</td>\n",
              "      <td>1</td>\n",
              "      <td>Ceres</td>\n",
              "      <td>NaN</td>\n",
              "      <td>N</td>\n",
              "      <td>N</td>\n",
              "      <td>3.400</td>\n",
              "      <td>939.400</td>\n",
              "      <td>...</td>\n",
              "      <td>4.608900e-09</td>\n",
              "      <td>6.168800e-08</td>\n",
              "      <td>6.624800e-08</td>\n",
              "      <td>7.820700e-09</td>\n",
              "      <td>1.111300e-11</td>\n",
              "      <td>1.196500e-12</td>\n",
              "      <td>3.782900e-08</td>\n",
              "      <td>9.415900e-09</td>\n",
              "      <td>MBA</td>\n",
              "      <td>0.43301</td>\n",
              "    </tr>\n",
              "    <tr>\n",
              "      <th>1</th>\n",
              "      <td>a0000002</td>\n",
              "      <td>2000002</td>\n",
              "      <td>2 Pallas</td>\n",
              "      <td>2</td>\n",
              "      <td>Pallas</td>\n",
              "      <td>NaN</td>\n",
              "      <td>N</td>\n",
              "      <td>N</td>\n",
              "      <td>4.200</td>\n",
              "      <td>545.000</td>\n",
              "      <td>...</td>\n",
              "      <td>3.469400e-06</td>\n",
              "      <td>6.272400e-06</td>\n",
              "      <td>9.128200e-06</td>\n",
              "      <td>8.859100e-06</td>\n",
              "      <td>4.961300e-09</td>\n",
              "      <td>4.653600e-10</td>\n",
              "      <td>4.078700e-05</td>\n",
              "      <td>3.680700e-06</td>\n",
              "      <td>MBA</td>\n",
              "      <td>0.35936</td>\n",
              "    </tr>\n",
              "    <tr>\n",
              "      <th>2</th>\n",
              "      <td>a0000003</td>\n",
              "      <td>2000003</td>\n",
              "      <td>3 Juno</td>\n",
              "      <td>3</td>\n",
              "      <td>Juno</td>\n",
              "      <td>NaN</td>\n",
              "      <td>N</td>\n",
              "      <td>N</td>\n",
              "      <td>5.330</td>\n",
              "      <td>246.596</td>\n",
              "      <td>...</td>\n",
              "      <td>3.223100e-06</td>\n",
              "      <td>1.664600e-05</td>\n",
              "      <td>1.772100e-05</td>\n",
              "      <td>8.110400e-06</td>\n",
              "      <td>4.363900e-09</td>\n",
              "      <td>4.413400e-10</td>\n",
              "      <td>3.528800e-05</td>\n",
              "      <td>3.107200e-06</td>\n",
              "      <td>MBA</td>\n",
              "      <td>0.33848</td>\n",
              "    </tr>\n",
              "    <tr>\n",
              "      <th>3</th>\n",
              "      <td>a0000004</td>\n",
              "      <td>2000004</td>\n",
              "      <td>4 Vesta</td>\n",
              "      <td>4</td>\n",
              "      <td>Vesta</td>\n",
              "      <td>NaN</td>\n",
              "      <td>N</td>\n",
              "      <td>N</td>\n",
              "      <td>3.000</td>\n",
              "      <td>525.400</td>\n",
              "      <td>...</td>\n",
              "      <td>2.170600e-07</td>\n",
              "      <td>3.880800e-07</td>\n",
              "      <td>1.789300e-07</td>\n",
              "      <td>1.206800e-06</td>\n",
              "      <td>1.648600e-09</td>\n",
              "      <td>2.612500e-10</td>\n",
              "      <td>4.103700e-06</td>\n",
              "      <td>1.274900e-06</td>\n",
              "      <td>MBA</td>\n",
              "      <td>0.39980</td>\n",
              "    </tr>\n",
              "    <tr>\n",
              "      <th>4</th>\n",
              "      <td>a0000005</td>\n",
              "      <td>2000005</td>\n",
              "      <td>5 Astraea</td>\n",
              "      <td>5</td>\n",
              "      <td>Astraea</td>\n",
              "      <td>NaN</td>\n",
              "      <td>N</td>\n",
              "      <td>N</td>\n",
              "      <td>6.900</td>\n",
              "      <td>106.699</td>\n",
              "      <td>...</td>\n",
              "      <td>2.740800e-06</td>\n",
              "      <td>2.894900e-05</td>\n",
              "      <td>2.984200e-05</td>\n",
              "      <td>8.303800e-06</td>\n",
              "      <td>4.729000e-09</td>\n",
              "      <td>5.522700e-10</td>\n",
              "      <td>3.474300e-05</td>\n",
              "      <td>3.490500e-06</td>\n",
              "      <td>MBA</td>\n",
              "      <td>0.52191</td>\n",
              "    </tr>\n",
              "    <tr>\n",
              "      <th>...</th>\n",
              "      <td>...</td>\n",
              "      <td>...</td>\n",
              "      <td>...</td>\n",
              "      <td>...</td>\n",
              "      <td>...</td>\n",
              "      <td>...</td>\n",
              "      <td>...</td>\n",
              "      <td>...</td>\n",
              "      <td>...</td>\n",
              "      <td>...</td>\n",
              "      <td>...</td>\n",
              "      <td>...</td>\n",
              "      <td>...</td>\n",
              "      <td>...</td>\n",
              "      <td>...</td>\n",
              "      <td>...</td>\n",
              "      <td>...</td>\n",
              "      <td>...</td>\n",
              "      <td>...</td>\n",
              "      <td>...</td>\n",
              "      <td>...</td>\n",
              "    </tr>\n",
              "    <tr>\n",
              "      <th>958519</th>\n",
              "      <td>bPLS6013</td>\n",
              "      <td>3246801</td>\n",
              "      <td>(6013 P-L)</td>\n",
              "      <td>6013 P-L</td>\n",
              "      <td>NaN</td>\n",
              "      <td>NaN</td>\n",
              "      <td>N</td>\n",
              "      <td>N</td>\n",
              "      <td>17.135</td>\n",
              "      <td>NaN</td>\n",
              "      <td>...</td>\n",
              "      <td>6.969000e+00</td>\n",
              "      <td>7.433000e+00</td>\n",
              "      <td>4.631100e+01</td>\n",
              "      <td>2.738300e+01</td>\n",
              "      <td>1.041200e+00</td>\n",
              "      <td>1.652100e-01</td>\n",
              "      <td>1.309700e+02</td>\n",
              "      <td>7.264900e+02</td>\n",
              "      <td>MBA</td>\n",
              "      <td>0.23839</td>\n",
              "    </tr>\n",
              "    <tr>\n",
              "      <th>958520</th>\n",
              "      <td>bPLS6331</td>\n",
              "      <td>3246834</td>\n",
              "      <td>(6331 P-L)</td>\n",
              "      <td>6331 P-L</td>\n",
              "      <td>NaN</td>\n",
              "      <td>NaN</td>\n",
              "      <td>N</td>\n",
              "      <td>N</td>\n",
              "      <td>18.500</td>\n",
              "      <td>NaN</td>\n",
              "      <td>...</td>\n",
              "      <td>1.563500e-05</td>\n",
              "      <td>5.598600e-05</td>\n",
              "      <td>2.380400e-04</td>\n",
              "      <td>1.298200e-04</td>\n",
              "      <td>2.418900e-08</td>\n",
              "      <td>3.346100e-09</td>\n",
              "      <td>4.690200e-04</td>\n",
              "      <td>1.578500e-05</td>\n",
              "      <td>MBA</td>\n",
              "      <td>0.53633</td>\n",
              "    </tr>\n",
              "    <tr>\n",
              "      <th>958521</th>\n",
              "      <td>bPLS6344</td>\n",
              "      <td>3013075</td>\n",
              "      <td>(6344 P-L)</td>\n",
              "      <td>6344 P-L</td>\n",
              "      <td>NaN</td>\n",
              "      <td>NaN</td>\n",
              "      <td>Y</td>\n",
              "      <td>Y</td>\n",
              "      <td>20.400</td>\n",
              "      <td>NaN</td>\n",
              "      <td>...</td>\n",
              "      <td>1.853300e-05</td>\n",
              "      <td>5.691700e-05</td>\n",
              "      <td>8.969200e-05</td>\n",
              "      <td>5.272600e-05</td>\n",
              "      <td>1.650100e-07</td>\n",
              "      <td>1.101600e-08</td>\n",
              "      <td>2.830600e-04</td>\n",
              "      <td>9.127500e-05</td>\n",
              "      <td>APO</td>\n",
              "      <td>0.51556</td>\n",
              "    </tr>\n",
              "    <tr>\n",
              "      <th>958522</th>\n",
              "      <td>bT2S2060</td>\n",
              "      <td>3246457</td>\n",
              "      <td>(2060 T-2)</td>\n",
              "      <td>2060 T-2</td>\n",
              "      <td>NaN</td>\n",
              "      <td>NaN</td>\n",
              "      <td>N</td>\n",
              "      <td>N</td>\n",
              "      <td>18.071</td>\n",
              "      <td>NaN</td>\n",
              "      <td>...</td>\n",
              "      <td>5.448800e-01</td>\n",
              "      <td>4.391600e+00</td>\n",
              "      <td>1.898800e+01</td>\n",
              "      <td>1.083800e+01</td>\n",
              "      <td>7.171600e-01</td>\n",
              "      <td>1.016700e-01</td>\n",
              "      <td>3.898400e+01</td>\n",
              "      <td>5.035500e+02</td>\n",
              "      <td>MBA</td>\n",
              "      <td>0.25641</td>\n",
              "    </tr>\n",
              "    <tr>\n",
              "      <th>958523</th>\n",
              "      <td>bT3S2678</td>\n",
              "      <td>3246553</td>\n",
              "      <td>(2678 T-3)</td>\n",
              "      <td>2678 T-3</td>\n",
              "      <td>NaN</td>\n",
              "      <td>NaN</td>\n",
              "      <td>N</td>\n",
              "      <td>N</td>\n",
              "      <td>18.060</td>\n",
              "      <td>NaN</td>\n",
              "      <td>...</td>\n",
              "      <td>1.102300e+00</td>\n",
              "      <td>3.117000e-01</td>\n",
              "      <td>1.284300e+00</td>\n",
              "      <td>4.736100e-01</td>\n",
              "      <td>1.626700e-01</td>\n",
              "      <td>2.487900e-02</td>\n",
              "      <td>5.523600e+00</td>\n",
              "      <td>1.064800e+02</td>\n",
              "      <td>MBA</td>\n",
              "      <td>0.26980</td>\n",
              "    </tr>\n",
              "  </tbody>\n",
              "</table>\n",
              "<p>958524 rows × 45 columns</p>\n",
              "</div>\n",
              "      <button class=\"colab-df-convert\" onclick=\"convertToInteractive('df-6e97613f-1de2-4a28-8864-e373be229a7e')\"\n",
              "              title=\"Convert this dataframe to an interactive table.\"\n",
              "              style=\"display:none;\">\n",
              "        \n",
              "  <svg xmlns=\"http://www.w3.org/2000/svg\" height=\"24px\"viewBox=\"0 0 24 24\"\n",
              "       width=\"24px\">\n",
              "    <path d=\"M0 0h24v24H0V0z\" fill=\"none\"/>\n",
              "    <path d=\"M18.56 5.44l.94 2.06.94-2.06 2.06-.94-2.06-.94-.94-2.06-.94 2.06-2.06.94zm-11 1L8.5 8.5l.94-2.06 2.06-.94-2.06-.94L8.5 2.5l-.94 2.06-2.06.94zm10 10l.94 2.06.94-2.06 2.06-.94-2.06-.94-.94-2.06-.94 2.06-2.06.94z\"/><path d=\"M17.41 7.96l-1.37-1.37c-.4-.4-.92-.59-1.43-.59-.52 0-1.04.2-1.43.59L10.3 9.45l-7.72 7.72c-.78.78-.78 2.05 0 2.83L4 21.41c.39.39.9.59 1.41.59.51 0 1.02-.2 1.41-.59l7.78-7.78 2.81-2.81c.8-.78.8-2.07 0-2.86zM5.41 20L4 18.59l7.72-7.72 1.47 1.35L5.41 20z\"/>\n",
              "  </svg>\n",
              "      </button>\n",
              "      \n",
              "  <style>\n",
              "    .colab-df-container {\n",
              "      display:flex;\n",
              "      flex-wrap:wrap;\n",
              "      gap: 12px;\n",
              "    }\n",
              "\n",
              "    .colab-df-convert {\n",
              "      background-color: #E8F0FE;\n",
              "      border: none;\n",
              "      border-radius: 50%;\n",
              "      cursor: pointer;\n",
              "      display: none;\n",
              "      fill: #1967D2;\n",
              "      height: 32px;\n",
              "      padding: 0 0 0 0;\n",
              "      width: 32px;\n",
              "    }\n",
              "\n",
              "    .colab-df-convert:hover {\n",
              "      background-color: #E2EBFA;\n",
              "      box-shadow: 0px 1px 2px rgba(60, 64, 67, 0.3), 0px 1px 3px 1px rgba(60, 64, 67, 0.15);\n",
              "      fill: #174EA6;\n",
              "    }\n",
              "\n",
              "    [theme=dark] .colab-df-convert {\n",
              "      background-color: #3B4455;\n",
              "      fill: #D2E3FC;\n",
              "    }\n",
              "\n",
              "    [theme=dark] .colab-df-convert:hover {\n",
              "      background-color: #434B5C;\n",
              "      box-shadow: 0px 1px 3px 1px rgba(0, 0, 0, 0.15);\n",
              "      filter: drop-shadow(0px 1px 2px rgba(0, 0, 0, 0.3));\n",
              "      fill: #FFFFFF;\n",
              "    }\n",
              "  </style>\n",
              "\n",
              "      <script>\n",
              "        const buttonEl =\n",
              "          document.querySelector('#df-6e97613f-1de2-4a28-8864-e373be229a7e button.colab-df-convert');\n",
              "        buttonEl.style.display =\n",
              "          google.colab.kernel.accessAllowed ? 'block' : 'none';\n",
              "\n",
              "        async function convertToInteractive(key) {\n",
              "          const element = document.querySelector('#df-6e97613f-1de2-4a28-8864-e373be229a7e');\n",
              "          const dataTable =\n",
              "            await google.colab.kernel.invokeFunction('convertToInteractive',\n",
              "                                                     [key], {});\n",
              "          if (!dataTable) return;\n",
              "\n",
              "          const docLinkHtml = 'Like what you see? Visit the ' +\n",
              "            '<a target=\"_blank\" href=https://colab.research.google.com/notebooks/data_table.ipynb>data table notebook</a>'\n",
              "            + ' to learn more about interactive tables.';\n",
              "          element.innerHTML = '';\n",
              "          dataTable['output_type'] = 'display_data';\n",
              "          await google.colab.output.renderOutput(dataTable, element);\n",
              "          const docLink = document.createElement('div');\n",
              "          docLink.innerHTML = docLinkHtml;\n",
              "          element.appendChild(docLink);\n",
              "        }\n",
              "      </script>\n",
              "    </div>\n",
              "  </div>\n",
              "  "
            ],
            "text/plain": [
              "              id    spkid          full_name      pdes     name prefix neo  \\\n",
              "0       a0000001  2000001            1 Ceres         1    Ceres    NaN   N   \n",
              "1       a0000002  2000002           2 Pallas         2   Pallas    NaN   N   \n",
              "2       a0000003  2000003             3 Juno         3     Juno    NaN   N   \n",
              "3       a0000004  2000004            4 Vesta         4    Vesta    NaN   N   \n",
              "4       a0000005  2000005          5 Astraea         5  Astraea    NaN   N   \n",
              "...          ...      ...                ...       ...      ...    ...  ..   \n",
              "958519  bPLS6013  3246801         (6013 P-L)  6013 P-L      NaN    NaN   N   \n",
              "958520  bPLS6331  3246834         (6331 P-L)  6331 P-L      NaN    NaN   N   \n",
              "958521  bPLS6344  3013075         (6344 P-L)  6344 P-L      NaN    NaN   Y   \n",
              "958522  bT2S2060  3246457         (2060 T-2)  2060 T-2      NaN    NaN   N   \n",
              "958523  bT3S2678  3246553         (2678 T-3)  2678 T-3      NaN    NaN   N   \n",
              "\n",
              "       pha       H  diameter  ...       sigma_i      sigma_om       sigma_w  \\\n",
              "0        N   3.400   939.400  ...  4.608900e-09  6.168800e-08  6.624800e-08   \n",
              "1        N   4.200   545.000  ...  3.469400e-06  6.272400e-06  9.128200e-06   \n",
              "2        N   5.330   246.596  ...  3.223100e-06  1.664600e-05  1.772100e-05   \n",
              "3        N   3.000   525.400  ...  2.170600e-07  3.880800e-07  1.789300e-07   \n",
              "4        N   6.900   106.699  ...  2.740800e-06  2.894900e-05  2.984200e-05   \n",
              "...     ..     ...       ...  ...           ...           ...           ...   \n",
              "958519   N  17.135       NaN  ...  6.969000e+00  7.433000e+00  4.631100e+01   \n",
              "958520   N  18.500       NaN  ...  1.563500e-05  5.598600e-05  2.380400e-04   \n",
              "958521   Y  20.400       NaN  ...  1.853300e-05  5.691700e-05  8.969200e-05   \n",
              "958522   N  18.071       NaN  ...  5.448800e-01  4.391600e+00  1.898800e+01   \n",
              "958523   N  18.060       NaN  ...  1.102300e+00  3.117000e-01  1.284300e+00   \n",
              "\n",
              "            sigma_ma      sigma_ad       sigma_n      sigma_tp     sigma_per  \\\n",
              "0       7.820700e-09  1.111300e-11  1.196500e-12  3.782900e-08  9.415900e-09   \n",
              "1       8.859100e-06  4.961300e-09  4.653600e-10  4.078700e-05  3.680700e-06   \n",
              "2       8.110400e-06  4.363900e-09  4.413400e-10  3.528800e-05  3.107200e-06   \n",
              "3       1.206800e-06  1.648600e-09  2.612500e-10  4.103700e-06  1.274900e-06   \n",
              "4       8.303800e-06  4.729000e-09  5.522700e-10  3.474300e-05  3.490500e-06   \n",
              "...              ...           ...           ...           ...           ...   \n",
              "958519  2.738300e+01  1.041200e+00  1.652100e-01  1.309700e+02  7.264900e+02   \n",
              "958520  1.298200e-04  2.418900e-08  3.346100e-09  4.690200e-04  1.578500e-05   \n",
              "958521  5.272600e-05  1.650100e-07  1.101600e-08  2.830600e-04  9.127500e-05   \n",
              "958522  1.083800e+01  7.171600e-01  1.016700e-01  3.898400e+01  5.035500e+02   \n",
              "958523  4.736100e-01  1.626700e-01  2.487900e-02  5.523600e+00  1.064800e+02   \n",
              "\n",
              "        class      rms  \n",
              "0         MBA  0.43301  \n",
              "1         MBA  0.35936  \n",
              "2         MBA  0.33848  \n",
              "3         MBA  0.39980  \n",
              "4         MBA  0.52191  \n",
              "...       ...      ...  \n",
              "958519    MBA  0.23839  \n",
              "958520    MBA  0.53633  \n",
              "958521    APO  0.51556  \n",
              "958522    MBA  0.25641  \n",
              "958523    MBA  0.26980  \n",
              "\n",
              "[958524 rows x 45 columns]"
            ]
          },
          "execution_count": 3,
          "metadata": {},
          "output_type": "execute_result"
        }
      ],
      "source": [
        "df = pd.read_csv('/content/drive/MyDrive/Colab Notebooks/dataset.csv')\n",
        "df"
      ]
    },
    {
      "cell_type": "code",
      "execution_count": null,
      "metadata": {
        "colab": {
          "background_save": true,
          "base_uri": "https://localhost:8080/"
        },
        "id": "Kk8n-OpSoNLY",
        "outputId": "d8b96f94-c737-4b40-c862-be43b47cd1ba"
      },
      "outputs": [
        {
          "name": "stdout",
          "output_type": "stream",
          "text": [
            "Number of Rows:  958524\n",
            "Number of Columns:  45\n"
          ]
        }
      ],
      "source": [
        "rows = len(df.axes[0])\n",
        "cols = len(df.axes[1])\n",
        "print(\"Number of Rows: \", rows)\n",
        "print(\"Number of Columns: \", cols)"
      ]
    },
    {
      "cell_type": "code",
      "execution_count": null,
      "metadata": {
        "colab": {
          "background_save": true
        },
        "id": "JH8U6ktloPXR",
        "outputId": "25be65f3-1a1a-4e8c-8cee-364f9a2b7505"
      },
      "outputs": [
        {
          "name": "stdout",
          "output_type": "stream",
          "text": [
            "id                 object\n",
            "spkid               int64\n",
            "full_name          object\n",
            "pdes               object\n",
            "name               object\n",
            "prefix             object\n",
            "neo                object\n",
            "pha                object\n",
            "H                 float64\n",
            "diameter          float64\n",
            "albedo            float64\n",
            "diameter_sigma    float64\n",
            "orbit_id           object\n",
            "epoch             float64\n",
            "epoch_mjd           int64\n",
            "epoch_cal         float64\n",
            "equinox            object\n",
            "e                 float64\n",
            "a                 float64\n",
            "q                 float64\n",
            "i                 float64\n",
            "om                float64\n",
            "w                 float64\n",
            "ma                float64\n",
            "ad                float64\n",
            "n                 float64\n",
            "tp                float64\n",
            "tp_cal            float64\n",
            "per               float64\n",
            "per_y             float64\n",
            "moid              float64\n",
            "moid_ld           float64\n",
            "sigma_e           float64\n",
            "sigma_a           float64\n",
            "sigma_q           float64\n",
            "sigma_i           float64\n",
            "sigma_om          float64\n",
            "sigma_w           float64\n",
            "sigma_ma          float64\n",
            "sigma_ad          float64\n",
            "sigma_n           float64\n",
            "sigma_tp          float64\n",
            "sigma_per         float64\n",
            "class              object\n",
            "rms               float64\n",
            "dtype: object\n"
          ]
        }
      ],
      "source": [
        "result=df.dtypes\n",
        "print(result)"
      ]
    },
    {
      "cell_type": "code",
      "execution_count": null,
      "metadata": {
        "colab": {
          "background_save": true
        },
        "id": "RZNYNDGHYD-W",
        "outputId": "f9318da7-1b30-4884-f36c-aa3ec9ac53dc"
      },
      "outputs": [
        {
          "data": {
            "text/plain": [
              "id                958524\n",
              "spkid             958524\n",
              "full_name         958524\n",
              "pdes              958524\n",
              "name               22064\n",
              "prefix                18\n",
              "neo               958520\n",
              "pha               938603\n",
              "H                 952261\n",
              "diameter          136209\n",
              "albedo            135103\n",
              "diameter_sigma    136081\n",
              "orbit_id          958524\n",
              "epoch             958524\n",
              "epoch_mjd         958524\n",
              "epoch_cal         958524\n",
              "equinox           958524\n",
              "e                 958524\n",
              "a                 958524\n",
              "q                 958524\n",
              "i                 958524\n",
              "om                958524\n",
              "w                 958524\n",
              "ma                958523\n",
              "ad                958520\n",
              "n                 958524\n",
              "tp                958524\n",
              "tp_cal            958524\n",
              "per               958520\n",
              "per_y             958523\n",
              "moid              938603\n",
              "moid_ld           958397\n",
              "sigma_e           938602\n",
              "sigma_a           938602\n",
              "sigma_q           938602\n",
              "sigma_i           938602\n",
              "sigma_om          938602\n",
              "sigma_w           938602\n",
              "sigma_ma          938602\n",
              "sigma_ad          938598\n",
              "sigma_n           938602\n",
              "sigma_tp          938602\n",
              "sigma_per         938598\n",
              "class             958524\n",
              "rms               958522\n",
              "dtype: int64"
            ]
          },
          "execution_count": 6,
          "metadata": {},
          "output_type": "execute_result"
        }
      ],
      "source": [
        "df.count()   "
      ]
    },
    {
      "cell_type": "code",
      "execution_count": null,
      "metadata": {
        "colab": {
          "background_save": true
        },
        "id": "4A97g1vZYVx_",
        "outputId": "359ad99f-2632-46d9-fa6c-3f7f9b41dd20"
      },
      "outputs": [
        {
          "data": {
            "text/plain": [
              "Index(['id', 'spkid', 'full_name', 'pdes', 'name', 'prefix', 'neo', 'pha', 'H',\n",
              "       'diameter', 'albedo', 'diameter_sigma', 'orbit_id', 'epoch',\n",
              "       'epoch_mjd', 'epoch_cal', 'equinox', 'e', 'a', 'q', 'i', 'om', 'w',\n",
              "       'ma', 'ad', 'n', 'tp', 'tp_cal', 'per', 'per_y', 'moid', 'moid_ld',\n",
              "       'sigma_e', 'sigma_a', 'sigma_q', 'sigma_i', 'sigma_om', 'sigma_w',\n",
              "       'sigma_ma', 'sigma_ad', 'sigma_n', 'sigma_tp', 'sigma_per', 'class',\n",
              "       'rms'],\n",
              "      dtype='object')"
            ]
          },
          "execution_count": 7,
          "metadata": {},
          "output_type": "execute_result"
        }
      ],
      "source": [
        "df.columns"
      ]
    },
    {
      "cell_type": "code",
      "execution_count": null,
      "metadata": {
        "colab": {
          "background_save": true
        },
        "id": "St4foVDhZSPz",
        "outputId": "f401eed9-2d53-4561-91a2-71503a87b415"
      },
      "outputs": [
        {
          "name": "stdout",
          "output_type": "stream",
          "text": [
            "number of duplicate rows:  (0, 45)\n"
          ]
        }
      ],
      "source": [
        "duplicate_rows_df = df[df.duplicated()]\n",
        "print(\"number of duplicate rows: \", duplicate_rows_df.shape)"
      ]
    },
    {
      "cell_type": "code",
      "execution_count": null,
      "metadata": {
        "colab": {
          "background_save": true
        },
        "id": "SoL1phsZZVkE",
        "outputId": "eb6695b3-f518-455d-f815-b3049934f9fb"
      },
      "outputs": [
        {
          "data": {
            "text/plain": [
              "id                958524\n",
              "spkid             958524\n",
              "full_name         958524\n",
              "pdes              958524\n",
              "name               22064\n",
              "prefix                18\n",
              "neo               958520\n",
              "pha               938603\n",
              "H                 952261\n",
              "diameter          136209\n",
              "albedo            135103\n",
              "diameter_sigma    136081\n",
              "orbit_id          958524\n",
              "epoch             958524\n",
              "epoch_mjd         958524\n",
              "epoch_cal         958524\n",
              "equinox           958524\n",
              "e                 958524\n",
              "a                 958524\n",
              "q                 958524\n",
              "i                 958524\n",
              "om                958524\n",
              "w                 958524\n",
              "ma                958523\n",
              "ad                958520\n",
              "n                 958524\n",
              "tp                958524\n",
              "tp_cal            958524\n",
              "per               958520\n",
              "per_y             958523\n",
              "moid              938603\n",
              "moid_ld           958397\n",
              "sigma_e           938602\n",
              "sigma_a           938602\n",
              "sigma_q           938602\n",
              "sigma_i           938602\n",
              "sigma_om          938602\n",
              "sigma_w           938602\n",
              "sigma_ma          938602\n",
              "sigma_ad          938598\n",
              "sigma_n           938602\n",
              "sigma_tp          938602\n",
              "sigma_per         938598\n",
              "class             958524\n",
              "rms               958522\n",
              "dtype: int64"
            ]
          },
          "execution_count": 9,
          "metadata": {},
          "output_type": "execute_result"
        }
      ],
      "source": [
        "df.count() "
      ]
    },
    {
      "cell_type": "code",
      "execution_count": null,
      "metadata": {
        "colab": {
          "background_save": true,
          "base_uri": "https://localhost:8080/"
        },
        "id": "e5hYDShmZXnH",
        "outputId": "b257c5a6-7369-4e2b-9221-1178e1c806aa"
      },
      "outputs": [
        {
          "data": {
            "text/plain": [
              "(958524, 13)"
            ]
          },
          "execution_count": 10,
          "metadata": {},
          "output_type": "execute_result"
        }
      ],
      "source": [
        "df = df[['spkid', 'full_name', 'orbit_id',\n",
        "    'e', 'a', 'q', 'i', 'n', 'tp', 'per','neo','pha', 'per_y',\n",
        "       'class',\n",
        "       'rms']].copy()\n",
        "df.shape"
      ]
    },
    {
      "cell_type": "code",
      "execution_count": null,
      "metadata": {
        "colab": {
          "background_save": true,
          "base_uri": "https://localhost:8080/",
          "height": 427
        },
        "id": "kEelpQ2nZb5a",
        "outputId": "64bb1e39-ca20-4ac0-ae94-907a41b975c0"
      },
      "outputs": [
        {
          "data": {
            "text/html": [
              "\n",
              "  <div id=\"df-56a16fa5-b8b6-4615-bbed-52e7f37a591e\">\n",
              "    <div class=\"colab-df-container\">\n",
              "      <div>\n",
              "<style scoped>\n",
              "    .dataframe tbody tr th:only-of-type {\n",
              "        vertical-align: middle;\n",
              "    }\n",
              "\n",
              "    .dataframe tbody tr th {\n",
              "        vertical-align: top;\n",
              "    }\n",
              "\n",
              "    .dataframe thead th {\n",
              "        text-align: right;\n",
              "    }\n",
              "</style>\n",
              "<table border=\"1\" class=\"dataframe\">\n",
              "  <thead>\n",
              "    <tr style=\"text-align: right;\">\n",
              "      <th></th>\n",
              "      <th>SPKID</th>\n",
              "      <th>Full_Name</th>\n",
              "      <th>orbit_id</th>\n",
              "      <th>Eccentricity</th>\n",
              "      <th>Semi_Major_Axis</th>\n",
              "      <th>Perihelion_Distance</th>\n",
              "      <th>Inclination</th>\n",
              "      <th>Mean_Motion</th>\n",
              "      <th>Time_of_Perihelion_Passage</th>\n",
              "      <th>Period_Days</th>\n",
              "      <th>Period_Years</th>\n",
              "      <th>Classification</th>\n",
              "      <th>rms</th>\n",
              "    </tr>\n",
              "  </thead>\n",
              "  <tbody>\n",
              "    <tr>\n",
              "      <th>0</th>\n",
              "      <td>2000001</td>\n",
              "      <td>1 Ceres</td>\n",
              "      <td>JPL 47</td>\n",
              "      <td>0.076009</td>\n",
              "      <td>2.769165</td>\n",
              "      <td>2.558684</td>\n",
              "      <td>10.594067</td>\n",
              "      <td>0.213885</td>\n",
              "      <td>2.458239e+06</td>\n",
              "      <td>1683.145703</td>\n",
              "      <td>4.608202</td>\n",
              "      <td>MBA</td>\n",
              "      <td>0.43301</td>\n",
              "    </tr>\n",
              "    <tr>\n",
              "      <th>1</th>\n",
              "      <td>2000002</td>\n",
              "      <td>2 Pallas</td>\n",
              "      <td>JPL 37</td>\n",
              "      <td>0.229972</td>\n",
              "      <td>2.773841</td>\n",
              "      <td>2.135935</td>\n",
              "      <td>34.832932</td>\n",
              "      <td>0.213345</td>\n",
              "      <td>2.458321e+06</td>\n",
              "      <td>1687.410992</td>\n",
              "      <td>4.619880</td>\n",
              "      <td>MBA</td>\n",
              "      <td>0.35936</td>\n",
              "    </tr>\n",
              "    <tr>\n",
              "      <th>2</th>\n",
              "      <td>2000003</td>\n",
              "      <td>3 Juno</td>\n",
              "      <td>JPL 112</td>\n",
              "      <td>0.256936</td>\n",
              "      <td>2.668285</td>\n",
              "      <td>1.982706</td>\n",
              "      <td>12.991043</td>\n",
              "      <td>0.226129</td>\n",
              "      <td>2.458446e+06</td>\n",
              "      <td>1592.013769</td>\n",
              "      <td>4.358696</td>\n",
              "      <td>MBA</td>\n",
              "      <td>0.33848</td>\n",
              "    </tr>\n",
              "    <tr>\n",
              "      <th>3</th>\n",
              "      <td>2000004</td>\n",
              "      <td>4 Vesta</td>\n",
              "      <td>JPL 35</td>\n",
              "      <td>0.088721</td>\n",
              "      <td>2.361418</td>\n",
              "      <td>2.151909</td>\n",
              "      <td>7.141771</td>\n",
              "      <td>0.271609</td>\n",
              "      <td>2.458248e+06</td>\n",
              "      <td>1325.432763</td>\n",
              "      <td>3.628837</td>\n",
              "      <td>MBA</td>\n",
              "      <td>0.39980</td>\n",
              "    </tr>\n",
              "    <tr>\n",
              "      <th>4</th>\n",
              "      <td>2000005</td>\n",
              "      <td>5 Astraea</td>\n",
              "      <td>JPL 114</td>\n",
              "      <td>0.190913</td>\n",
              "      <td>2.574037</td>\n",
              "      <td>2.082619</td>\n",
              "      <td>5.367427</td>\n",
              "      <td>0.238661</td>\n",
              "      <td>2.458926e+06</td>\n",
              "      <td>1508.414421</td>\n",
              "      <td>4.129814</td>\n",
              "      <td>MBA</td>\n",
              "      <td>0.52191</td>\n",
              "    </tr>\n",
              "    <tr>\n",
              "      <th>5</th>\n",
              "      <td>2000006</td>\n",
              "      <td>6 Hebe</td>\n",
              "      <td>JPL 89</td>\n",
              "      <td>0.203219</td>\n",
              "      <td>2.424533</td>\n",
              "      <td>1.931822</td>\n",
              "      <td>14.739653</td>\n",
              "      <td>0.261073</td>\n",
              "      <td>2.459649e+06</td>\n",
              "      <td>1378.924506</td>\n",
              "      <td>3.775290</td>\n",
              "      <td>MBA</td>\n",
              "      <td>0.41032</td>\n",
              "    </tr>\n",
              "    <tr>\n",
              "      <th>6</th>\n",
              "      <td>2000007</td>\n",
              "      <td>7 Iris</td>\n",
              "      <td>110</td>\n",
              "      <td>0.230145</td>\n",
              "      <td>2.387375</td>\n",
              "      <td>1.837933</td>\n",
              "      <td>5.521598</td>\n",
              "      <td>0.267192</td>\n",
              "      <td>2.459422e+06</td>\n",
              "      <td>1347.347071</td>\n",
              "      <td>3.688835</td>\n",
              "      <td>MBA</td>\n",
              "      <td>0.38128</td>\n",
              "    </tr>\n",
              "    <tr>\n",
              "      <th>7</th>\n",
              "      <td>2000008</td>\n",
              "      <td>8 Flora</td>\n",
              "      <td>JPL 118</td>\n",
              "      <td>0.155833</td>\n",
              "      <td>2.201415</td>\n",
              "      <td>1.858362</td>\n",
              "      <td>5.889081</td>\n",
              "      <td>0.301753</td>\n",
              "      <td>2.459149e+06</td>\n",
              "      <td>1193.029574</td>\n",
              "      <td>3.266337</td>\n",
              "      <td>MBA</td>\n",
              "      <td>0.54186</td>\n",
              "    </tr>\n",
              "    <tr>\n",
              "      <th>8</th>\n",
              "      <td>2000009</td>\n",
              "      <td>9 Metis</td>\n",
              "      <td>JPL 116</td>\n",
              "      <td>0.123300</td>\n",
              "      <td>2.386189</td>\n",
              "      <td>2.091972</td>\n",
              "      <td>5.576494</td>\n",
              "      <td>0.267391</td>\n",
              "      <td>2.458911e+06</td>\n",
              "      <td>1346.343282</td>\n",
              "      <td>3.686087</td>\n",
              "      <td>MBA</td>\n",
              "      <td>0.44895</td>\n",
              "    </tr>\n",
              "    <tr>\n",
              "      <th>9</th>\n",
              "      <td>2000010</td>\n",
              "      <td>10 Hygiea</td>\n",
              "      <td>JPL 96</td>\n",
              "      <td>0.112117</td>\n",
              "      <td>3.142435</td>\n",
              "      <td>2.790114</td>\n",
              "      <td>3.831786</td>\n",
              "      <td>0.176931</td>\n",
              "      <td>2.459776e+06</td>\n",
              "      <td>2034.688644</td>\n",
              "      <td>5.570674</td>\n",
              "      <td>MBA</td>\n",
              "      <td>0.53434</td>\n",
              "    </tr>\n",
              "  </tbody>\n",
              "</table>\n",
              "</div>\n",
              "      <button class=\"colab-df-convert\" onclick=\"convertToInteractive('df-56a16fa5-b8b6-4615-bbed-52e7f37a591e')\"\n",
              "              title=\"Convert this dataframe to an interactive table.\"\n",
              "              style=\"display:none;\">\n",
              "        \n",
              "  <svg xmlns=\"http://www.w3.org/2000/svg\" height=\"24px\"viewBox=\"0 0 24 24\"\n",
              "       width=\"24px\">\n",
              "    <path d=\"M0 0h24v24H0V0z\" fill=\"none\"/>\n",
              "    <path d=\"M18.56 5.44l.94 2.06.94-2.06 2.06-.94-2.06-.94-.94-2.06-.94 2.06-2.06.94zm-11 1L8.5 8.5l.94-2.06 2.06-.94-2.06-.94L8.5 2.5l-.94 2.06-2.06.94zm10 10l.94 2.06.94-2.06 2.06-.94-2.06-.94-.94-2.06-.94 2.06-2.06.94z\"/><path d=\"M17.41 7.96l-1.37-1.37c-.4-.4-.92-.59-1.43-.59-.52 0-1.04.2-1.43.59L10.3 9.45l-7.72 7.72c-.78.78-.78 2.05 0 2.83L4 21.41c.39.39.9.59 1.41.59.51 0 1.02-.2 1.41-.59l7.78-7.78 2.81-2.81c.8-.78.8-2.07 0-2.86zM5.41 20L4 18.59l7.72-7.72 1.47 1.35L5.41 20z\"/>\n",
              "  </svg>\n",
              "      </button>\n",
              "      \n",
              "  <style>\n",
              "    .colab-df-container {\n",
              "      display:flex;\n",
              "      flex-wrap:wrap;\n",
              "      gap: 12px;\n",
              "    }\n",
              "\n",
              "    .colab-df-convert {\n",
              "      background-color: #E8F0FE;\n",
              "      border: none;\n",
              "      border-radius: 50%;\n",
              "      cursor: pointer;\n",
              "      display: none;\n",
              "      fill: #1967D2;\n",
              "      height: 32px;\n",
              "      padding: 0 0 0 0;\n",
              "      width: 32px;\n",
              "    }\n",
              "\n",
              "    .colab-df-convert:hover {\n",
              "      background-color: #E2EBFA;\n",
              "      box-shadow: 0px 1px 2px rgba(60, 64, 67, 0.3), 0px 1px 3px 1px rgba(60, 64, 67, 0.15);\n",
              "      fill: #174EA6;\n",
              "    }\n",
              "\n",
              "    [theme=dark] .colab-df-convert {\n",
              "      background-color: #3B4455;\n",
              "      fill: #D2E3FC;\n",
              "    }\n",
              "\n",
              "    [theme=dark] .colab-df-convert:hover {\n",
              "      background-color: #434B5C;\n",
              "      box-shadow: 0px 1px 3px 1px rgba(0, 0, 0, 0.15);\n",
              "      filter: drop-shadow(0px 1px 2px rgba(0, 0, 0, 0.3));\n",
              "      fill: #FFFFFF;\n",
              "    }\n",
              "  </style>\n",
              "\n",
              "      <script>\n",
              "        const buttonEl =\n",
              "          document.querySelector('#df-56a16fa5-b8b6-4615-bbed-52e7f37a591e button.colab-df-convert');\n",
              "        buttonEl.style.display =\n",
              "          google.colab.kernel.accessAllowed ? 'block' : 'none';\n",
              "\n",
              "        async function convertToInteractive(key) {\n",
              "          const element = document.querySelector('#df-56a16fa5-b8b6-4615-bbed-52e7f37a591e');\n",
              "          const dataTable =\n",
              "            await google.colab.kernel.invokeFunction('convertToInteractive',\n",
              "                                                     [key], {});\n",
              "          if (!dataTable) return;\n",
              "\n",
              "          const docLinkHtml = 'Like what you see? Visit the ' +\n",
              "            '<a target=\"_blank\" href=https://colab.research.google.com/notebooks/data_table.ipynb>data table notebook</a>'\n",
              "            + ' to learn more about interactive tables.';\n",
              "          element.innerHTML = '';\n",
              "          dataTable['output_type'] = 'display_data';\n",
              "          await google.colab.output.renderOutput(dataTable, element);\n",
              "          const docLink = document.createElement('div');\n",
              "          docLink.innerHTML = docLinkHtml;\n",
              "          element.appendChild(docLink);\n",
              "        }\n",
              "      </script>\n",
              "    </div>\n",
              "  </div>\n",
              "  "
            ],
            "text/plain": [
              "     SPKID       Full_Name orbit_id  Eccentricity  Semi_Major_Axis  \\\n",
              "0  2000001         1 Ceres   JPL 47      0.076009         2.769165   \n",
              "1  2000002        2 Pallas   JPL 37      0.229972         2.773841   \n",
              "2  2000003          3 Juno  JPL 112      0.256936         2.668285   \n",
              "3  2000004         4 Vesta   JPL 35      0.088721         2.361418   \n",
              "4  2000005       5 Astraea  JPL 114      0.190913         2.574037   \n",
              "5  2000006          6 Hebe   JPL 89      0.203219         2.424533   \n",
              "6  2000007          7 Iris      110      0.230145         2.387375   \n",
              "7  2000008         8 Flora  JPL 118      0.155833         2.201415   \n",
              "8  2000009         9 Metis  JPL 116      0.123300         2.386189   \n",
              "9  2000010       10 Hygiea   JPL 96      0.112117         3.142435   \n",
              "\n",
              "   Perihelion_Distance  Inclination  Mean_Motion  Time_of_Perihelion_Passage  \\\n",
              "0             2.558684    10.594067     0.213885                2.458239e+06   \n",
              "1             2.135935    34.832932     0.213345                2.458321e+06   \n",
              "2             1.982706    12.991043     0.226129                2.458446e+06   \n",
              "3             2.151909     7.141771     0.271609                2.458248e+06   \n",
              "4             2.082619     5.367427     0.238661                2.458926e+06   \n",
              "5             1.931822    14.739653     0.261073                2.459649e+06   \n",
              "6             1.837933     5.521598     0.267192                2.459422e+06   \n",
              "7             1.858362     5.889081     0.301753                2.459149e+06   \n",
              "8             2.091972     5.576494     0.267391                2.458911e+06   \n",
              "9             2.790114     3.831786     0.176931                2.459776e+06   \n",
              "\n",
              "   Period_Days  Period_Years Classification      rms  \n",
              "0  1683.145703      4.608202            MBA  0.43301  \n",
              "1  1687.410992      4.619880            MBA  0.35936  \n",
              "2  1592.013769      4.358696            MBA  0.33848  \n",
              "3  1325.432763      3.628837            MBA  0.39980  \n",
              "4  1508.414421      4.129814            MBA  0.52191  \n",
              "5  1378.924506      3.775290            MBA  0.41032  \n",
              "6  1347.347071      3.688835            MBA  0.38128  \n",
              "7  1193.029574      3.266337            MBA  0.54186  \n",
              "8  1346.343282      3.686087            MBA  0.44895  \n",
              "9  2034.688644      5.570674            MBA  0.53434  "
            ]
          },
          "execution_count": 11,
          "metadata": {},
          "output_type": "execute_result"
        }
      ],
      "source": [
        "df = df.rename(columns = {\n",
        "    'e':'Eccentricity',\n",
        "    'a':'Semi_Major_Axis',\n",
        "    'q':'Perihelion_Distance',\n",
        "    'i':'Inclination',\n",
        "    'M':'Mean_Anomaly',\n",
        "    'tp': 'Time_of_Perihelion_Passage',\n",
        "    'n':'Mean_Motion',\n",
        "    'Q':'Aphelion_Distance',\n",
        "    'full_name':'Full_Name',\n",
        "    'spkid':'SPKID',\n",
        "    'class':'Classification',\n",
        "    'per':'Period_Days',\n",
        "    'per_y':'Period_Years'\n",
        "}).copy()\n",
        "df.head(10)"
      ]
    },
    {
      "cell_type": "code",
      "execution_count": null,
      "metadata": {
        "colab": {
          "background_save": true,
          "base_uri": "https://localhost:8080/"
        },
        "id": "Ol4umbnLZfKU",
        "outputId": "fba4a949-e088-438c-d16f-da114129db4c"
      },
      "outputs": [
        {
          "data": {
            "text/plain": [
              "SPKID                         0\n",
              "Full_Name                     0\n",
              "orbit_id                      0\n",
              "Eccentricity                  0\n",
              "Semi_Major_Axis               0\n",
              "Perihelion_Distance           0\n",
              "Inclination                   0\n",
              "Mean_Motion                   0\n",
              "Time_of_Perihelion_Passage    0\n",
              "Period_Days                   4\n",
              "Period_Years                  1\n",
              "Classification                0\n",
              "rms                           2\n",
              "dtype: int64"
            ]
          },
          "execution_count": 12,
          "metadata": {},
          "output_type": "execute_result"
        }
      ],
      "source": [
        "df.isna().sum()"
      ]
    },
    {
      "cell_type": "code",
      "execution_count": null,
      "metadata": {
        "colab": {
          "background_save": true,
          "base_uri": "https://localhost:8080/"
        },
        "id": "I3MjPolGZly9",
        "outputId": "bfe94a82-af58-4f10-909b-9f332bce15a6"
      },
      "outputs": [
        {
          "data": {
            "text/plain": [
              "0.203705    2\n",
              "0.133513    2\n",
              "0.077700    2\n",
              "0.160752    2\n",
              "0.000000    2\n",
              "           ..\n",
              "0.205891    1\n",
              "0.225414    1\n",
              "0.154831    1\n",
              "0.142016    1\n",
              "0.258348    1\n",
              "Name: Eccentricity, Length: 958444, dtype: int64"
            ]
          },
          "execution_count": 13,
          "metadata": {},
          "output_type": "execute_result"
        }
      ],
      "source": [
        "df['Eccentricity'].value_counts()"
      ]
    },
    {
      "cell_type": "code",
      "execution_count": null,
      "metadata": {
        "colab": {
          "background_save": true,
          "base_uri": "https://localhost:8080/"
        },
        "id": "LXvdK1N_ZsWj",
        "outputId": "3b83d8a5-50c6-4d44-9a6a-a5260650e268"
      },
      "outputs": [
        {
          "name": "stdout",
          "output_type": "stream",
          "text": [
            "SPKID                         0\n",
            "Full_Name                     0\n",
            "orbit_id                      0\n",
            "Eccentricity                  0\n",
            "Semi_Major_Axis               0\n",
            "Perihelion_Distance           0\n",
            "Inclination                   0\n",
            "Mean_Motion                   0\n",
            "Time_of_Perihelion_Passage    0\n",
            "Period_Days                   4\n",
            "Period_Years                  1\n",
            "Classification                0\n",
            "rms                           2\n",
            "dtype: int64\n"
          ]
        }
      ],
      "source": [
        "print(df.isnull().sum())"
      ]
    },
    {
      "cell_type": "code",
      "execution_count": null,
      "metadata": {
        "colab": {
          "background_save": true
        },
        "id": "I-rGc9MKZ2_V",
        "outputId": "a59ea117-d9c2-405a-d040-91fcae0c22b5"
      },
      "outputs": [
        {
          "data": {
            "text/plain": [
              "<matplotlib.axes._subplots.AxesSubplot at 0x7f32709ff400>"
            ]
          },
          "execution_count": 15,
          "metadata": {},
          "output_type": "execute_result"
        },
        {
          "data": {
            "image/png": "[encoded data removed]",
            "text/plain": [
              "<Figure size 432x288 with 1 Axes>"
            ]
          },
          "metadata": {},
          "output_type": "display_data"
        }
      ],
      "source": [
        "sns.boxplot(x=df['Mean_Motion'])"
      ]
    },
    {
      "cell_type": "code",
      "execution_count": null,
      "metadata": {
        "colab": {
          "background_save": true
        },
        "id": "i1y8VGsmexNX",
        "outputId": "5806d133-390d-47d7-b51a-d3295b4ed24c"
      },
      "outputs": [
        {
          "name": "stdout",
          "output_type": "stream",
          "text": [
            "SPKID                         1.512886e+06\n",
            "Eccentricity                  1.084573e-01\n",
            "Semi_Major_Axis               6.140972e-01\n",
            "Perihelion_Distance           6.069143e-01\n",
            "Inclination                   8.242131e+00\n",
            "Mean_Motion                   7.761729e-02\n",
            "Time_of_Perihelion_Passage    8.009628e+02\n",
            "Period_Days                   5.520269e+02\n",
            "Period_Years                  1.511369e+00\n",
            "rms                           9.588750e-02\n",
            "dtype: float64\n"
          ]
        }
      ],
      "source": [
        "Q1 = df.quantile(0.25)\n",
        "Q3 = df.quantile(0.75)\n",
        "IQR = Q3 - Q1\n",
        "print(IQR)"
      ]
    },
    {
      "cell_type": "code",
      "execution_count": null,
      "metadata": {
        "colab": {
          "background_save": true
        },
        "id": "Kazb062fONuH",
        "outputId": "1fff0285-ba3e-49da-ada3-68c4133e9995"
      },
      "outputs": [
        {
          "data": {
            "text/plain": [
              "<matplotlib.axes._subplots.AxesSubplot at 0x7f327051cb50>"
            ]
          },
          "execution_count": 17,
          "metadata": {},
          "output_type": "execute_result"
        },
        {
          "data": {
            "image/png": "[encoded data removed]",
            "text/plain": [
              "<Figure size 432x288 with 1 Axes>"
            ]
          },
          "metadata": {},
          "output_type": "display_data"
        }
      ],
      "source": [
        "df['Perihelion_Distance'] \\\n",
        "    .head(10) \\\n",
        "    .plot(kind='kde', title='Perihelion Distance of Asteroids')"
      ]
    },
    {
      "cell_type": "code",
      "execution_count": null,
      "metadata": {
        "colab": {
          "background_save": true
        },
        "id": "Zpstp5s50oz4",
        "outputId": "b9ed43b6-9a8d-4f94-c7de-8007edf505a6"
      },
      "outputs": [
        {
          "name": "stderr",
          "output_type": "stream",
          "text": [
            "WARNING:matplotlib.axes._axes:*c* argument looks like a single numeric RGB or RGBA sequence, which should be avoided as value-mapping will have precedence in case its length matches with *x* & *y*.  Please use the *color* keyword-argument or provide a 2-D array with a single row if you intend to specify the same RGB or RGBA value for all points.\n"
          ]
        },
        {
          "data": {
            "image/png": "[encoded data removed]",
            "text/plain": [
              "<Figure size 432x288 with 1 Axes>"
            ]
          },
          "metadata": {},
          "output_type": "display_data"
        }
      ],
      "source": [
        "df.plot(kind='scatter',x='Time_of_Perihelion_Passage', y='Perihelion_Distance', title='Time_of_Perihelion_Passage vs Perihelion Distance')\n",
        "plt.show()"
      ]
    },
    {
      "cell_type": "code",
      "execution_count": null,
      "metadata": {
        "colab": {
          "background_save": true
        },
        "id": "RwhUhtOi1BNn",
        "outputId": "6afadd33-57b5-4985-a90e-8e7ec11e22b4"
      },
      "outputs": [
        {
          "name": "stderr",
          "output_type": "stream",
          "text": [
            "/usr/local/lib/python3.8/dist-packages/IPython/core/pylabtools.py:128: UserWarning: Creating legend with loc=\"best\" can be slow with large amounts of data.\n",
            "  fig.canvas.print_figure(bytes_io, **kw)\n"
          ]
        },
        {
          "data": {
            "image/png": "[encoded data removed]",
            "text/plain": [
              "<Figure size 432x288 with 1 Axes>"
            ]
          },
          "metadata": {},
          "output_type": "display_data"
        }
      ],
      "source": [
        "ax = sns.scatterplot(x='Time_of_Perihelion_Passage',y='Perihelion_Distance',hue='Classification',data=df)\n",
        "ax.set_title('Time_of_Perihelion_Passage vs Perihelion Distance')\n",
        "plt.show()"
      ]
    },
    {
      "cell_type": "code",
      "execution_count": null,
      "metadata": {
        "colab": {
          "background_save": true
        },
        "id": "tBvCKXlQ1op3",
        "outputId": "1a84ed7f-daf4-4274-9932-d498947115fd"
      },
      "outputs": [
        {
          "data": {
            "image/png": "[encoded data removed]",
            "text/plain": [
              "<Figure size 628.8x540 with 12 Axes>"
            ]
          },
          "metadata": {},
          "output_type": "display_data"
        }
      ],
      "source": [
        "sns.pairplot(df,vars=['Time_of_Perihelion_Passage','Perihelion_Distance','Semi_Major_Axis'], hue='Classification')\n",
        "plt.show()"
      ]
    },
    {
      "cell_type": "markdown",
      "metadata": {
        "id": "vWHDHcJ-WDx_"
      },
      "source": [
        "**Questions**"
      ]
    },
    {
      "cell_type": "markdown",
      "metadata": {
        "id": "JPuojpsNWNbD"
      },
      "source": [
        "How many orbit IDs exist?"
      ]
    },
    {
      "cell_type": "code",
      "execution_count": 37,
      "metadata": {
        "colab": {
          "base_uri": "https://localhost:8080/"
        },
        "id": "VRICzOsdWI24",
        "outputId": "10e961d3-8af3-4621-c508-74646af2bbb5"
      },
      "outputs": [
        {
          "output_type": "execute_result",
          "data": {
            "text/plain": [
              "4690"
            ]
          },
          "metadata": {},
          "execution_count": 37
        }
      ],
      "source": [
        "df['orbit_id'].nunique()"
      ]
    },
    {
      "cell_type": "markdown",
      "metadata": {
        "id": "ILWwXTonWmqJ"
      },
      "source": [
        "What is the distribution of the orbit classification?"
      ]
    },
    {
      "cell_type": "code",
      "execution_count": 38,
      "metadata": {
        "colab": {
          "base_uri": "https://localhost:8080/"
        },
        "id": "0OV1aFcOWrRM",
        "outputId": "13d65e67-6622-4d8a-a6ea-1aa152a8e582"
      },
      "outputs": [
        {
          "output_type": "execute_result",
          "data": {
            "text/plain": [
              "MBA    89.299172\n",
              "OMB     2.958194\n",
              "IMB     2.124099\n",
              "MCA     1.949351\n",
              "APO     1.323598\n",
              "AMO     0.882294\n",
              "TJN     0.857673\n",
              "TNO     0.361806\n",
              "ATE     0.180382\n",
              "CEN     0.052789\n",
              "AST     0.007929\n",
              "IEO     0.002295\n",
              "HYA     0.000417\n",
              "Name: Classification, dtype: float64"
            ]
          },
          "metadata": {},
          "execution_count": 38
        }
      ],
      "source": [
        "df['Classification'].value_counts(normalize=True)*100"
      ]
    },
    {
      "cell_type": "markdown",
      "metadata": {
        "id": "BRSt2XD4aZIK"
      },
      "source": [
        "What percent of asteroids are near earth objects?"
      ]
    },
    {
      "cell_type": "code",
      "execution_count": null,
      "metadata": {
        "colab": {
          "base_uri": "https://localhost:8080/"
        },
        "id": "8NXUlASiaeK1",
        "outputId": "aa55aa06-a286-411b-c8a3-887ed1bf1025"
      },
      "outputs": [
        {
          "data": {
            "text/plain": [
              "N    97.611422\n",
              "Y     2.388578\n",
              "Name: neo, dtype: float64"
            ]
          },
          "execution_count": 33,
          "metadata": {},
          "output_type": "execute_result"
        }
      ],
      "source": [
        "df['neo'].value_counts(normalize=True)*100"
      ]
    },
    {
      "cell_type": "markdown",
      "metadata": {
        "id": "R7NwZRtuaiBE"
      },
      "source": [
        "How many asteroids of the dataset are potentially hazardous asteroids?"
      ]
    },
    {
      "cell_type": "code",
      "execution_count": null,
      "metadata": {
        "colab": {
          "base_uri": "https://localhost:8080/"
        },
        "id": "PdPSJum9aqPQ",
        "outputId": "2b21d75b-8eec-4965-de2e-34cfb817ebf2"
      },
      "outputs": [
        {
          "data": {
            "text/plain": [
              "N    99.779886\n",
              "Y     0.220114\n",
              "Name: pha, dtype: float64"
            ]
          },
          "execution_count": 34,
          "metadata": {},
          "output_type": "execute_result"
        }
      ],
      "source": [
        "df['pha'].value_counts(normalize=True)*100"
      ]
    },
    {
      "cell_type": "markdown",
      "metadata": {
        "id": "r6LO6-SmauJM"
      },
      "source": [
        "Out of all the near earth objects, what percent of them are potentially hazardous asteroids?"
      ]
    },
    {
      "cell_type": "code",
      "execution_count": null,
      "metadata": {
        "colab": {
          "base_uri": "https://localhost:8080/"
        },
        "id": "OHXcNo6ja4GI",
        "outputId": "5bb81fea-625a-4bf0-ada7-343547dfdb06"
      },
      "outputs": [
        {
          "data": {
            "text/plain": [
              "N    90.975802\n",
              "Y     9.024198\n",
              "Name: pha, dtype: float64"
            ]
          },
          "execution_count": 36,
          "metadata": {},
          "output_type": "execute_result"
        }
      ],
      "source": [
        "df[df['neo']=='Y']['pha'].value_counts(normalize=True)*100"
      ]
    },
    {
      "cell_type": "markdown",
      "source": [
        "# Inference and conclusion\n",
        "The project was quite enlightening. We gained a lot of knowledge about the many Python packages that may be applied to data science. From the analysis, we can see that most of the asteroids are not hazardous and most are classified as MBA."
      ],
      "metadata": {
        "id": "1MF1kn0oj-ko"
      }
    },
    {
      "cell_type": "markdown",
      "metadata": {
        "id": "vedhM0y1bAU8"
      },
      "source": []
    }
  ],
  "metadata": {
    "colab": {
      "provenance": []
    },
    "kernelspec": {
      "display_name": "Python 3",
      "name": "python3"
    },
    "language_info": {
      "name": "python"
    }
  },
  "nbformat": 4,
  "nbformat_minor": 0
}
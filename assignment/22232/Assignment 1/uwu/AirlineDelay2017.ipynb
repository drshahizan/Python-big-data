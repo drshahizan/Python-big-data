{
  "cells": [
    {
      "cell_type": "markdown",
      "metadata": {
        "id": "view-in-github",
        "colab_type": "text"
      },
      "source": [
        "<a href=\"https://colab.research.google.com/github/drshahizan/Python-big-data/blob/main/Assignment%201%20Pandas/uwu/AirlineDelay2017.ipynb\" target=\"_parent\"><img src=\"https://colab.research.google.com/assets/colab-badge.svg\" alt=\"Open In Colab\"/></a>"
      ]
    },
    {
      "cell_type": "markdown",
      "metadata": {
        "id": "7F8DQl5dVJJ0"
      },
      "source": [
        "# Airline Delay 2017 <a href=\"https://www.utm.my\" target=\"_parent\"><img src=\"https://colab.research.google.com/assets/colab-badge.svg\" alt=\"Open In Colab\"/></a>\n",
        "\n",
        "1. Nur Izzah Mardhiah binti Rashidi A20EC0116\n",
        "2. Radin Dafina binti Radin Zulkar Nain A20EC0135\n",
        "\n",
        "Lecturer: Prof. Madya. Ts. Dr. Mohd Shahizan Bin Othman"
      ]
    },
    {
      "cell_type": "markdown",
      "metadata": {
        "id": "LxWzVndBVJJ1"
      },
      "source": [
        "# **Downloading the Dataset**"
      ]
    },
    {
      "cell_type": "markdown",
      "source": [
        "1. Download the dataset from [Kaggle](https://www.kaggle.com/datasets/dragonduck/property-listings-in-kuala-lumpur).\n",
        "\n",
        "2. Unzip the file. The folder contains an Excel file, where the dataset is.\n",
        "\n",
        "3. Upload the Excel file into Google Drive. \n"
      ],
      "metadata": {
        "id": "mhc6DjAtBogi"
      }
    },
    {
      "cell_type": "markdown",
      "source": [
        "To use the dataset, we mount the Google Drive to Google Colab."
      ],
      "metadata": {
        "id": "Un6QRxj0Cf7C"
      }
    },
    {
      "cell_type": "code",
      "execution_count": 1,
      "metadata": {
        "colab": {
          "base_uri": "https://localhost:8080/"
        },
        "outputId": "41051a00-6f9c-49a8-bbeb-de4bbec933df",
        "id": "41XIzfy-ohwF"
      },
      "outputs": [
        {
          "output_type": "stream",
          "name": "stdout",
          "text": [
            "Mounted at /content/drive\n"
          ]
        }
      ],
      "source": [
        "from google.colab import drive\n",
        "drive.mount('/content/drive')"
      ]
    },
    {
      "cell_type": "markdown",
      "source": [
        "To read the dataset, we assign a variable named 'dataset' to the path of the file in Google Drive. "
      ],
      "metadata": {
        "id": "TFfULstqDaFQ"
      }
    },
    {
      "cell_type": "code",
      "execution_count": 2,
      "metadata": {
        "id": "Q6IzVeIYohwM"
      },
      "outputs": [],
      "source": [
        "dataset_2017 = '/content/drive/MyDrive/Colab Notebooks/Assignment 2/2017.csv'"
      ]
    },
    {
      "cell_type": "markdown",
      "source": [
        "# **Sampling**"
      ],
      "metadata": {
        "id": "cBns6cbKtOH0"
      }
    },
    {
      "cell_type": "code",
      "execution_count": 3,
      "metadata": {
        "id": "4e5V8xq6pQh5"
      },
      "outputs": [],
      "source": [
        "import pandas as pd\n",
        "import numpy as np\n",
        "import matplotlib.pyplot as plt\n",
        "import seaborn as sns\n",
        "import datetime, warnings, scipy \n",
        "import random"
      ]
    },
    {
      "cell_type": "code",
      "execution_count": 4,
      "metadata": {
        "id": "KribcC_XVJJ5",
        "colab": {
          "base_uri": "https://localhost:8080/"
        },
        "outputId": "65dc8bdb-e051-4103-8356-17b9d01b7bbc"
      },
      "outputs": [
        {
          "output_type": "stream",
          "name": "stdout",
          "text": [
            "Before Sampling: 5674622 rows\n",
            "<class 'pandas.core.frame.DataFrame'>\n",
            "RangeIndex: 5674621 entries, 0 to 5674620\n",
            "Columns: 28 entries, FL_DATE to Unnamed: 27\n",
            "dtypes: float64(20), int64(3), object(5)\n",
            "memory usage: 2.4 GB\n",
            "None\n"
          ]
        }
      ],
      "source": [
        "n = sum(1 for line in open(dataset_2017))\n",
        "print(\"Before Sampling:\", n, \"rows\")\n",
        "df = pd.read_csv(dataset_2017)\n",
        "print(df.info(verbose=False, memory_usage='deep'))"
      ]
    },
    {
      "cell_type": "code",
      "execution_count": 5,
      "metadata": {
        "id": "7mUpY22aVJJ6"
      },
      "outputs": [],
      "source": [
        "s = n//10\n",
        "skip = sorted(random.sample(range(1, n+1), n-s))\n",
        "df = pd.read_csv(dataset_2017, skiprows=skip)"
      ]
    },
    {
      "cell_type": "code",
      "execution_count": 6,
      "metadata": {
        "id": "h46ilQakVJJ6",
        "colab": {
          "base_uri": "https://localhost:8080/"
        },
        "outputId": "6cf510d2-2382-40ec-f39a-eb83a64e7682"
      },
      "outputs": [
        {
          "output_type": "stream",
          "name": "stdout",
          "text": [
            "After 10% Sampling: 567462 rows\n",
            "<class 'pandas.core.frame.DataFrame'>\n",
            "RangeIndex: 567462 entries, 0 to 567461\n",
            "Columns: 28 entries, FL_DATE to Unnamed: 27\n",
            "dtypes: float64(20), int64(3), object(5)\n",
            "memory usage: 250.2 MB\n",
            "None\n"
          ]
        }
      ],
      "source": [
        "print(\"After 10% Sampling:\", s, \"rows\")\n",
        "print(df.info(verbose=False, memory_usage='deep'))"
      ]
    },
    {
      "cell_type": "markdown",
      "source": [
        "# **Chunking**"
      ],
      "metadata": {
        "id": "O6_XYSxQtS4n"
      }
    },
    {
      "cell_type": "code",
      "source": [
        "from sklearn.linear_model import LogisticRegression"
      ],
      "metadata": {
        "id": "4mNA8VnxtWLL"
      },
      "execution_count": 7,
      "outputs": []
    },
    {
      "cell_type": "code",
      "source": [
        "result = None\n",
        "for chunk in pd.read_csv(dataset_2017, chunksize=1000):\n",
        "    c = chunk['OP_CARRIER']\n",
        "    chunk_result = c.value_counts()\n",
        "    if result is None:\n",
        "        result = chunk_result\n",
        "    else:\n",
        "        result = result.add(chunk_result, fill_value=0)\n",
        "\n",
        "result.sort_values(ascending=False, inplace=True)\n",
        "print(result)"
      ],
      "metadata": {
        "colab": {
          "base_uri": "https://localhost:8080/"
        },
        "id": "5WA6htpvtZAF",
        "outputId": "44991de1-dae2-41b3-ee0f-a2654b589ec8"
      },
      "execution_count": 8,
      "outputs": [
        {
          "output_type": "stream",
          "name": "stdout",
          "text": [
            "WN    1329444.0\n",
            "DL     923560.0\n",
            "AA     896348.0\n",
            "OO     706527.0\n",
            "UA     584481.0\n",
            "EV     339541.0\n",
            "B6     298654.0\n",
            "AS     185068.0\n",
            "NK     156818.0\n",
            "F9     103027.0\n",
            "HA      80172.0\n",
            "VX      70981.0\n",
            "Name: OP_CARRIER, dtype: float64\n"
          ]
        }
      ]
    },
    {
      "cell_type": "markdown",
      "metadata": {
        "id": "u0vucnGFVJJ5"
      },
      "source": [
        "# **Data Preparation and Cleaning**\n"
      ]
    },
    {
      "cell_type": "code",
      "source": [
        "df"
      ],
      "metadata": {
        "colab": {
          "base_uri": "https://localhost:8080/",
          "height": 679
        },
        "id": "lOZ8pp3rApuk",
        "outputId": "47d715e7-289f-4dd7-82be-3a6f6cc42225"
      },
      "execution_count": 9,
      "outputs": [
        {
          "output_type": "execute_result",
          "data": {
            "text/plain": [
              "           FL_DATE OP_CARRIER  OP_CARRIER_FL_NUM ORIGIN DEST  CRS_DEP_TIME  \\\n",
              "0       2017-01-01         AA                 22    LAX  JFK          1340   \n",
              "1       2017-01-01         AA                 43    DTW  DFW          1529   \n",
              "2       2017-01-01         AA                 60    DFW  MIA          1730   \n",
              "3       2017-01-01         AA                 72    LAX  LAS           813   \n",
              "4       2017-01-01         AA                 84    JFK  SEA          2050   \n",
              "...            ...        ...                ...    ...  ...           ...   \n",
              "567457  2017-12-31         UA               2391    SLC  EWR          1315   \n",
              "567458  2017-12-31         UA               2395    EWR  IAD          1020   \n",
              "567459  2017-12-31         UA               2409    IAH  JAC           940   \n",
              "567460  2017-12-31         UA               2425    RSW  ORD          1611   \n",
              "567461  2017-12-31         UA               2429    EWR  DEN          1510   \n",
              "\n",
              "        DEP_TIME  DEP_DELAY  TAXI_OUT  WHEELS_OFF  ...  CRS_ELAPSED_TIME  \\\n",
              "0         1346.0        6.0      14.0      1400.0  ...             328.0   \n",
              "1         1523.0       -6.0      11.0      1534.0  ...             186.0   \n",
              "2         1733.0        3.0      10.0      1743.0  ...             163.0   \n",
              "3          810.0       -3.0      15.0       825.0  ...              80.0   \n",
              "4         2048.0       -2.0      24.0      2112.0  ...             393.0   \n",
              "...          ...        ...       ...         ...  ...               ...   \n",
              "567457    1310.0       -5.0      11.0      1321.0  ...             253.0   \n",
              "567458    1020.0        0.0      14.0      1034.0  ...              90.0   \n",
              "567459     932.0       -8.0      12.0       944.0  ...             218.0   \n",
              "567460    1602.0       -9.0      12.0      1614.0  ...             190.0   \n",
              "567461    1612.0       62.0      28.0      1640.0  ...             270.0   \n",
              "\n",
              "        ACTUAL_ELAPSED_TIME  AIR_TIME  DISTANCE  CARRIER_DELAY  WEATHER_DELAY  \\\n",
              "0                     317.0     289.0    2475.0            NaN            NaN   \n",
              "1                     179.0     156.0     986.0            NaN            NaN   \n",
              "2                     149.0     135.0    1121.0            NaN            NaN   \n",
              "3                      67.0      46.0     236.0            NaN            NaN   \n",
              "4                     392.0     341.0    2422.0            NaN            NaN   \n",
              "...                     ...       ...       ...            ...            ...   \n",
              "567457                238.0     217.0    1969.0            NaN            NaN   \n",
              "567458                 70.0      52.0     212.0            NaN            NaN   \n",
              "567459                209.0     189.0    1265.0            NaN            NaN   \n",
              "567460                183.0     159.0    1120.0            NaN            NaN   \n",
              "567461                266.0     227.0    1605.0           58.0            0.0   \n",
              "\n",
              "       NAS_DELAY  SECURITY_DELAY  LATE_AIRCRAFT_DELAY  Unnamed: 27  \n",
              "0            NaN             NaN                  NaN          NaN  \n",
              "1            NaN             NaN                  NaN          NaN  \n",
              "2            NaN             NaN                  NaN          NaN  \n",
              "3            NaN             NaN                  NaN          NaN  \n",
              "4            NaN             NaN                  NaN          NaN  \n",
              "...          ...             ...                  ...          ...  \n",
              "567457       NaN             NaN                  NaN          NaN  \n",
              "567458       NaN             NaN                  NaN          NaN  \n",
              "567459       NaN             NaN                  NaN          NaN  \n",
              "567460       NaN             NaN                  NaN          NaN  \n",
              "567461       0.0             0.0                  0.0          NaN  \n",
              "\n",
              "[567462 rows x 28 columns]"
            ],
            "text/html": [
              "\n",
              "  <div id=\"df-d1227302-0e32-4cfb-8b56-7815c4663cd5\">\n",
              "    <div class=\"colab-df-container\">\n",
              "      <div>\n",
              "<style scoped>\n",
              "    .dataframe tbody tr th:only-of-type {\n",
              "        vertical-align: middle;\n",
              "    }\n",
              "\n",
              "    .dataframe tbody tr th {\n",
              "        vertical-align: top;\n",
              "    }\n",
              "\n",
              "    .dataframe thead th {\n",
              "        text-align: right;\n",
              "    }\n",
              "</style>\n",
              "<table border=\"1\" class=\"dataframe\">\n",
              "  <thead>\n",
              "    <tr style=\"text-align: right;\">\n",
              "      <th></th>\n",
              "      <th>FL_DATE</th>\n",
              "      <th>OP_CARRIER</th>\n",
              "      <th>OP_CARRIER_FL_NUM</th>\n",
              "      <th>ORIGIN</th>\n",
              "      <th>DEST</th>\n",
              "      <th>CRS_DEP_TIME</th>\n",
              "      <th>DEP_TIME</th>\n",
              "      <th>DEP_DELAY</th>\n",
              "      <th>TAXI_OUT</th>\n",
              "      <th>WHEELS_OFF</th>\n",
              "      <th>...</th>\n",
              "      <th>CRS_ELAPSED_TIME</th>\n",
              "      <th>ACTUAL_ELAPSED_TIME</th>\n",
              "      <th>AIR_TIME</th>\n",
              "      <th>DISTANCE</th>\n",
              "      <th>CARRIER_DELAY</th>\n",
              "      <th>WEATHER_DELAY</th>\n",
              "      <th>NAS_DELAY</th>\n",
              "      <th>SECURITY_DELAY</th>\n",
              "      <th>LATE_AIRCRAFT_DELAY</th>\n",
              "      <th>Unnamed: 27</th>\n",
              "    </tr>\n",
              "  </thead>\n",
              "  <tbody>\n",
              "    <tr>\n",
              "      <th>0</th>\n",
              "      <td>2017-01-01</td>\n",
              "      <td>AA</td>\n",
              "      <td>22</td>\n",
              "      <td>LAX</td>\n",
              "      <td>JFK</td>\n",
              "      <td>1340</td>\n",
              "      <td>1346.0</td>\n",
              "      <td>6.0</td>\n",
              "      <td>14.0</td>\n",
              "      <td>1400.0</td>\n",
              "      <td>...</td>\n",
              "      <td>328.0</td>\n",
              "      <td>317.0</td>\n",
              "      <td>289.0</td>\n",
              "      <td>2475.0</td>\n",
              "      <td>NaN</td>\n",
              "      <td>NaN</td>\n",
              "      <td>NaN</td>\n",
              "      <td>NaN</td>\n",
              "      <td>NaN</td>\n",
              "      <td>NaN</td>\n",
              "    </tr>\n",
              "    <tr>\n",
              "      <th>1</th>\n",
              "      <td>2017-01-01</td>\n",
              "      <td>AA</td>\n",
              "      <td>43</td>\n",
              "      <td>DTW</td>\n",
              "      <td>DFW</td>\n",
              "      <td>1529</td>\n",
              "      <td>1523.0</td>\n",
              "      <td>-6.0</td>\n",
              "      <td>11.0</td>\n",
              "      <td>1534.0</td>\n",
              "      <td>...</td>\n",
              "      <td>186.0</td>\n",
              "      <td>179.0</td>\n",
              "      <td>156.0</td>\n",
              "      <td>986.0</td>\n",
              "      <td>NaN</td>\n",
              "      <td>NaN</td>\n",
              "      <td>NaN</td>\n",
              "      <td>NaN</td>\n",
              "      <td>NaN</td>\n",
              "      <td>NaN</td>\n",
              "    </tr>\n",
              "    <tr>\n",
              "      <th>2</th>\n",
              "      <td>2017-01-01</td>\n",
              "      <td>AA</td>\n",
              "      <td>60</td>\n",
              "      <td>DFW</td>\n",
              "      <td>MIA</td>\n",
              "      <td>1730</td>\n",
              "      <td>1733.0</td>\n",
              "      <td>3.0</td>\n",
              "      <td>10.0</td>\n",
              "      <td>1743.0</td>\n",
              "      <td>...</td>\n",
              "      <td>163.0</td>\n",
              "      <td>149.0</td>\n",
              "      <td>135.0</td>\n",
              "      <td>1121.0</td>\n",
              "      <td>NaN</td>\n",
              "      <td>NaN</td>\n",
              "      <td>NaN</td>\n",
              "      <td>NaN</td>\n",
              "      <td>NaN</td>\n",
              "      <td>NaN</td>\n",
              "    </tr>\n",
              "    <tr>\n",
              "      <th>3</th>\n",
              "      <td>2017-01-01</td>\n",
              "      <td>AA</td>\n",
              "      <td>72</td>\n",
              "      <td>LAX</td>\n",
              "      <td>LAS</td>\n",
              "      <td>813</td>\n",
              "      <td>810.0</td>\n",
              "      <td>-3.0</td>\n",
              "      <td>15.0</td>\n",
              "      <td>825.0</td>\n",
              "      <td>...</td>\n",
              "      <td>80.0</td>\n",
              "      <td>67.0</td>\n",
              "      <td>46.0</td>\n",
              "      <td>236.0</td>\n",
              "      <td>NaN</td>\n",
              "      <td>NaN</td>\n",
              "      <td>NaN</td>\n",
              "      <td>NaN</td>\n",
              "      <td>NaN</td>\n",
              "      <td>NaN</td>\n",
              "    </tr>\n",
              "    <tr>\n",
              "      <th>4</th>\n",
              "      <td>2017-01-01</td>\n",
              "      <td>AA</td>\n",
              "      <td>84</td>\n",
              "      <td>JFK</td>\n",
              "      <td>SEA</td>\n",
              "      <td>2050</td>\n",
              "      <td>2048.0</td>\n",
              "      <td>-2.0</td>\n",
              "      <td>24.0</td>\n",
              "      <td>2112.0</td>\n",
              "      <td>...</td>\n",
              "      <td>393.0</td>\n",
              "      <td>392.0</td>\n",
              "      <td>341.0</td>\n",
              "      <td>2422.0</td>\n",
              "      <td>NaN</td>\n",
              "      <td>NaN</td>\n",
              "      <td>NaN</td>\n",
              "      <td>NaN</td>\n",
              "      <td>NaN</td>\n",
              "      <td>NaN</td>\n",
              "    </tr>\n",
              "    <tr>\n",
              "      <th>...</th>\n",
              "      <td>...</td>\n",
              "      <td>...</td>\n",
              "      <td>...</td>\n",
              "      <td>...</td>\n",
              "      <td>...</td>\n",
              "      <td>...</td>\n",
              "      <td>...</td>\n",
              "      <td>...</td>\n",
              "      <td>...</td>\n",
              "      <td>...</td>\n",
              "      <td>...</td>\n",
              "      <td>...</td>\n",
              "      <td>...</td>\n",
              "      <td>...</td>\n",
              "      <td>...</td>\n",
              "      <td>...</td>\n",
              "      <td>...</td>\n",
              "      <td>...</td>\n",
              "      <td>...</td>\n",
              "      <td>...</td>\n",
              "      <td>...</td>\n",
              "    </tr>\n",
              "    <tr>\n",
              "      <th>567457</th>\n",
              "      <td>2017-12-31</td>\n",
              "      <td>UA</td>\n",
              "      <td>2391</td>\n",
              "      <td>SLC</td>\n",
              "      <td>EWR</td>\n",
              "      <td>1315</td>\n",
              "      <td>1310.0</td>\n",
              "      <td>-5.0</td>\n",
              "      <td>11.0</td>\n",
              "      <td>1321.0</td>\n",
              "      <td>...</td>\n",
              "      <td>253.0</td>\n",
              "      <td>238.0</td>\n",
              "      <td>217.0</td>\n",
              "      <td>1969.0</td>\n",
              "      <td>NaN</td>\n",
              "      <td>NaN</td>\n",
              "      <td>NaN</td>\n",
              "      <td>NaN</td>\n",
              "      <td>NaN</td>\n",
              "      <td>NaN</td>\n",
              "    </tr>\n",
              "    <tr>\n",
              "      <th>567458</th>\n",
              "      <td>2017-12-31</td>\n",
              "      <td>UA</td>\n",
              "      <td>2395</td>\n",
              "      <td>EWR</td>\n",
              "      <td>IAD</td>\n",
              "      <td>1020</td>\n",
              "      <td>1020.0</td>\n",
              "      <td>0.0</td>\n",
              "      <td>14.0</td>\n",
              "      <td>1034.0</td>\n",
              "      <td>...</td>\n",
              "      <td>90.0</td>\n",
              "      <td>70.0</td>\n",
              "      <td>52.0</td>\n",
              "      <td>212.0</td>\n",
              "      <td>NaN</td>\n",
              "      <td>NaN</td>\n",
              "      <td>NaN</td>\n",
              "      <td>NaN</td>\n",
              "      <td>NaN</td>\n",
              "      <td>NaN</td>\n",
              "    </tr>\n",
              "    <tr>\n",
              "      <th>567459</th>\n",
              "      <td>2017-12-31</td>\n",
              "      <td>UA</td>\n",
              "      <td>2409</td>\n",
              "      <td>IAH</td>\n",
              "      <td>JAC</td>\n",
              "      <td>940</td>\n",
              "      <td>932.0</td>\n",
              "      <td>-8.0</td>\n",
              "      <td>12.0</td>\n",
              "      <td>944.0</td>\n",
              "      <td>...</td>\n",
              "      <td>218.0</td>\n",
              "      <td>209.0</td>\n",
              "      <td>189.0</td>\n",
              "      <td>1265.0</td>\n",
              "      <td>NaN</td>\n",
              "      <td>NaN</td>\n",
              "      <td>NaN</td>\n",
              "      <td>NaN</td>\n",
              "      <td>NaN</td>\n",
              "      <td>NaN</td>\n",
              "    </tr>\n",
              "    <tr>\n",
              "      <th>567460</th>\n",
              "      <td>2017-12-31</td>\n",
              "      <td>UA</td>\n",
              "      <td>2425</td>\n",
              "      <td>RSW</td>\n",
              "      <td>ORD</td>\n",
              "      <td>1611</td>\n",
              "      <td>1602.0</td>\n",
              "      <td>-9.0</td>\n",
              "      <td>12.0</td>\n",
              "      <td>1614.0</td>\n",
              "      <td>...</td>\n",
              "      <td>190.0</td>\n",
              "      <td>183.0</td>\n",
              "      <td>159.0</td>\n",
              "      <td>1120.0</td>\n",
              "      <td>NaN</td>\n",
              "      <td>NaN</td>\n",
              "      <td>NaN</td>\n",
              "      <td>NaN</td>\n",
              "      <td>NaN</td>\n",
              "      <td>NaN</td>\n",
              "    </tr>\n",
              "    <tr>\n",
              "      <th>567461</th>\n",
              "      <td>2017-12-31</td>\n",
              "      <td>UA</td>\n",
              "      <td>2429</td>\n",
              "      <td>EWR</td>\n",
              "      <td>DEN</td>\n",
              "      <td>1510</td>\n",
              "      <td>1612.0</td>\n",
              "      <td>62.0</td>\n",
              "      <td>28.0</td>\n",
              "      <td>1640.0</td>\n",
              "      <td>...</td>\n",
              "      <td>270.0</td>\n",
              "      <td>266.0</td>\n",
              "      <td>227.0</td>\n",
              "      <td>1605.0</td>\n",
              "      <td>58.0</td>\n",
              "      <td>0.0</td>\n",
              "      <td>0.0</td>\n",
              "      <td>0.0</td>\n",
              "      <td>0.0</td>\n",
              "      <td>NaN</td>\n",
              "    </tr>\n",
              "  </tbody>\n",
              "</table>\n",
              "<p>567462 rows × 28 columns</p>\n",
              "</div>\n",
              "      <button class=\"colab-df-convert\" onclick=\"convertToInteractive('df-d1227302-0e32-4cfb-8b56-7815c4663cd5')\"\n",
              "              title=\"Convert this dataframe to an interactive table.\"\n",
              "              style=\"display:none;\">\n",
              "        \n",
              "  <svg xmlns=\"http://www.w3.org/2000/svg\" height=\"24px\"viewBox=\"0 0 24 24\"\n",
              "       width=\"24px\">\n",
              "    <path d=\"M0 0h24v24H0V0z\" fill=\"none\"/>\n",
              "    <path d=\"M18.56 5.44l.94 2.06.94-2.06 2.06-.94-2.06-.94-.94-2.06-.94 2.06-2.06.94zm-11 1L8.5 8.5l.94-2.06 2.06-.94-2.06-.94L8.5 2.5l-.94 2.06-2.06.94zm10 10l.94 2.06.94-2.06 2.06-.94-2.06-.94-.94-2.06-.94 2.06-2.06.94z\"/><path d=\"M17.41 7.96l-1.37-1.37c-.4-.4-.92-.59-1.43-.59-.52 0-1.04.2-1.43.59L10.3 9.45l-7.72 7.72c-.78.78-.78 2.05 0 2.83L4 21.41c.39.39.9.59 1.41.59.51 0 1.02-.2 1.41-.59l7.78-7.78 2.81-2.81c.8-.78.8-2.07 0-2.86zM5.41 20L4 18.59l7.72-7.72 1.47 1.35L5.41 20z\"/>\n",
              "  </svg>\n",
              "      </button>\n",
              "      \n",
              "  <style>\n",
              "    .colab-df-container {\n",
              "      display:flex;\n",
              "      flex-wrap:wrap;\n",
              "      gap: 12px;\n",
              "    }\n",
              "\n",
              "    .colab-df-convert {\n",
              "      background-color: #E8F0FE;\n",
              "      border: none;\n",
              "      border-radius: 50%;\n",
              "      cursor: pointer;\n",
              "      display: none;\n",
              "      fill: #1967D2;\n",
              "      height: 32px;\n",
              "      padding: 0 0 0 0;\n",
              "      width: 32px;\n",
              "    }\n",
              "\n",
              "    .colab-df-convert:hover {\n",
              "      background-color: #E2EBFA;\n",
              "      box-shadow: 0px 1px 2px rgba(60, 64, 67, 0.3), 0px 1px 3px 1px rgba(60, 64, 67, 0.15);\n",
              "      fill: #174EA6;\n",
              "    }\n",
              "\n",
              "    [theme=dark] .colab-df-convert {\n",
              "      background-color: #3B4455;\n",
              "      fill: #D2E3FC;\n",
              "    }\n",
              "\n",
              "    [theme=dark] .colab-df-convert:hover {\n",
              "      background-color: #434B5C;\n",
              "      box-shadow: 0px 1px 3px 1px rgba(0, 0, 0, 0.15);\n",
              "      filter: drop-shadow(0px 1px 2px rgba(0, 0, 0, 0.3));\n",
              "      fill: #FFFFFF;\n",
              "    }\n",
              "  </style>\n",
              "\n",
              "      <script>\n",
              "        const buttonEl =\n",
              "          document.querySelector('#df-d1227302-0e32-4cfb-8b56-7815c4663cd5 button.colab-df-convert');\n",
              "        buttonEl.style.display =\n",
              "          google.colab.kernel.accessAllowed ? 'block' : 'none';\n",
              "\n",
              "        async function convertToInteractive(key) {\n",
              "          const element = document.querySelector('#df-d1227302-0e32-4cfb-8b56-7815c4663cd5');\n",
              "          const dataTable =\n",
              "            await google.colab.kernel.invokeFunction('convertToInteractive',\n",
              "                                                     [key], {});\n",
              "          if (!dataTable) return;\n",
              "\n",
              "          const docLinkHtml = 'Like what you see? Visit the ' +\n",
              "            '<a target=\"_blank\" href=https://colab.research.google.com/notebooks/data_table.ipynb>data table notebook</a>'\n",
              "            + ' to learn more about interactive tables.';\n",
              "          element.innerHTML = '';\n",
              "          dataTable['output_type'] = 'display_data';\n",
              "          await google.colab.output.renderOutput(dataTable, element);\n",
              "          const docLink = document.createElement('div');\n",
              "          docLink.innerHTML = docLinkHtml;\n",
              "          element.appendChild(docLink);\n",
              "        }\n",
              "      </script>\n",
              "    </div>\n",
              "  </div>\n",
              "  "
            ]
          },
          "metadata": {},
          "execution_count": 9
        }
      ]
    },
    {
      "cell_type": "code",
      "execution_count": 10,
      "metadata": {
        "id": "cfcSY6YSVJJ6",
        "colab": {
          "base_uri": "https://localhost:8080/"
        },
        "outputId": "7bc98638-0e99-4b84-be09-a1ad9f4b46d6"
      },
      "outputs": [
        {
          "output_type": "execute_result",
          "data": {
            "text/plain": [
              "<bound method DataFrame.info of            FL_DATE OP_CARRIER  OP_CARRIER_FL_NUM ORIGIN DEST  CRS_DEP_TIME  \\\n",
              "0       2017-01-01         AA                 22    LAX  JFK          1340   \n",
              "1       2017-01-01         AA                 43    DTW  DFW          1529   \n",
              "2       2017-01-01         AA                 60    DFW  MIA          1730   \n",
              "3       2017-01-01         AA                 72    LAX  LAS           813   \n",
              "4       2017-01-01         AA                 84    JFK  SEA          2050   \n",
              "...            ...        ...                ...    ...  ...           ...   \n",
              "567457  2017-12-31         UA               2391    SLC  EWR          1315   \n",
              "567458  2017-12-31         UA               2395    EWR  IAD          1020   \n",
              "567459  2017-12-31         UA               2409    IAH  JAC           940   \n",
              "567460  2017-12-31         UA               2425    RSW  ORD          1611   \n",
              "567461  2017-12-31         UA               2429    EWR  DEN          1510   \n",
              "\n",
              "        DEP_TIME  DEP_DELAY  TAXI_OUT  WHEELS_OFF  ...  CRS_ELAPSED_TIME  \\\n",
              "0         1346.0        6.0      14.0      1400.0  ...             328.0   \n",
              "1         1523.0       -6.0      11.0      1534.0  ...             186.0   \n",
              "2         1733.0        3.0      10.0      1743.0  ...             163.0   \n",
              "3          810.0       -3.0      15.0       825.0  ...              80.0   \n",
              "4         2048.0       -2.0      24.0      2112.0  ...             393.0   \n",
              "...          ...        ...       ...         ...  ...               ...   \n",
              "567457    1310.0       -5.0      11.0      1321.0  ...             253.0   \n",
              "567458    1020.0        0.0      14.0      1034.0  ...              90.0   \n",
              "567459     932.0       -8.0      12.0       944.0  ...             218.0   \n",
              "567460    1602.0       -9.0      12.0      1614.0  ...             190.0   \n",
              "567461    1612.0       62.0      28.0      1640.0  ...             270.0   \n",
              "\n",
              "        ACTUAL_ELAPSED_TIME  AIR_TIME  DISTANCE  CARRIER_DELAY  WEATHER_DELAY  \\\n",
              "0                     317.0     289.0    2475.0            NaN            NaN   \n",
              "1                     179.0     156.0     986.0            NaN            NaN   \n",
              "2                     149.0     135.0    1121.0            NaN            NaN   \n",
              "3                      67.0      46.0     236.0            NaN            NaN   \n",
              "4                     392.0     341.0    2422.0            NaN            NaN   \n",
              "...                     ...       ...       ...            ...            ...   \n",
              "567457                238.0     217.0    1969.0            NaN            NaN   \n",
              "567458                 70.0      52.0     212.0            NaN            NaN   \n",
              "567459                209.0     189.0    1265.0            NaN            NaN   \n",
              "567460                183.0     159.0    1120.0            NaN            NaN   \n",
              "567461                266.0     227.0    1605.0           58.0            0.0   \n",
              "\n",
              "       NAS_DELAY  SECURITY_DELAY  LATE_AIRCRAFT_DELAY  Unnamed: 27  \n",
              "0            NaN             NaN                  NaN          NaN  \n",
              "1            NaN             NaN                  NaN          NaN  \n",
              "2            NaN             NaN                  NaN          NaN  \n",
              "3            NaN             NaN                  NaN          NaN  \n",
              "4            NaN             NaN                  NaN          NaN  \n",
              "...          ...             ...                  ...          ...  \n",
              "567457       NaN             NaN                  NaN          NaN  \n",
              "567458       NaN             NaN                  NaN          NaN  \n",
              "567459       NaN             NaN                  NaN          NaN  \n",
              "567460       NaN             NaN                  NaN          NaN  \n",
              "567461       0.0             0.0                  0.0          NaN  \n",
              "\n",
              "[567462 rows x 28 columns]>"
            ]
          },
          "metadata": {},
          "execution_count": 10
        }
      ],
      "source": [
        "df.info"
      ]
    },
    {
      "cell_type": "markdown",
      "source": [
        "Remove the column that contribute many null values"
      ],
      "metadata": {
        "id": "LqIkhVY23ybp"
      }
    },
    {
      "cell_type": "code",
      "source": [
        "df.drop(['Unnamed: 27', 'CANCELLATION_CODE', 'CARRIER_DELAY', 'WEATHER_DELAY', 'NAS_DELAY', 'SECURITY_DELAY', 'LATE_AIRCRAFT_DELAY', 'WHEELS_ON', 'TAXI_IN'], axis=1, inplace=True)"
      ],
      "metadata": {
        "id": "OQPMKicFuI5A"
      },
      "execution_count": 11,
      "outputs": []
    },
    {
      "cell_type": "code",
      "source": [
        "df.isnull().any(axis=1).sum()"
      ],
      "metadata": {
        "colab": {
          "base_uri": "https://localhost:8080/"
        },
        "id": "MqIvjAI5u3pB",
        "outputId": "e8ce444e-936c-405b-ba28-75cb7350dee2"
      },
      "execution_count": 12,
      "outputs": [
        {
          "output_type": "execute_result",
          "data": {
            "text/plain": [
              "9521"
            ]
          },
          "metadata": {},
          "execution_count": 12
        }
      ]
    },
    {
      "cell_type": "markdown",
      "source": [
        "## **Remove rows with null value**\n",
        "\n"
      ],
      "metadata": {
        "id": "f55nlyfxQpmR"
      }
    },
    {
      "cell_type": "code",
      "source": [
        "df.dropna(inplace=True)"
      ],
      "metadata": {
        "id": "Jeuu9hh0QtKw"
      },
      "execution_count": 13,
      "outputs": []
    },
    {
      "cell_type": "code",
      "execution_count": 14,
      "metadata": {
        "id": "1Et9QhCbVJJ6",
        "colab": {
          "base_uri": "https://localhost:8080/"
        },
        "outputId": "c64a0b76-e1f9-4450-8309-13ca3d622835"
      },
      "outputs": [
        {
          "output_type": "execute_result",
          "data": {
            "text/plain": [
              "<bound method DataFrame.info of            FL_DATE OP_CARRIER  OP_CARRIER_FL_NUM ORIGIN DEST  CRS_DEP_TIME  \\\n",
              "0       2017-01-01         AA                 22    LAX  JFK          1340   \n",
              "1       2017-01-01         AA                 43    DTW  DFW          1529   \n",
              "2       2017-01-01         AA                 60    DFW  MIA          1730   \n",
              "3       2017-01-01         AA                 72    LAX  LAS           813   \n",
              "4       2017-01-01         AA                 84    JFK  SEA          2050   \n",
              "...            ...        ...                ...    ...  ...           ...   \n",
              "567457  2017-12-31         UA               2391    SLC  EWR          1315   \n",
              "567458  2017-12-31         UA               2395    EWR  IAD          1020   \n",
              "567459  2017-12-31         UA               2409    IAH  JAC           940   \n",
              "567460  2017-12-31         UA               2425    RSW  ORD          1611   \n",
              "567461  2017-12-31         UA               2429    EWR  DEN          1510   \n",
              "\n",
              "        DEP_TIME  DEP_DELAY  TAXI_OUT  WHEELS_OFF  CRS_ARR_TIME  ARR_TIME  \\\n",
              "0         1346.0        6.0      14.0      1400.0          2208    2203.0   \n",
              "1         1523.0       -6.0      11.0      1534.0          1735    1722.0   \n",
              "2         1733.0        3.0      10.0      1743.0          2113    2102.0   \n",
              "3          810.0       -3.0      15.0       825.0           933     917.0   \n",
              "4         2048.0       -2.0      24.0      2112.0            23      20.0   \n",
              "...          ...        ...       ...         ...           ...       ...   \n",
              "567457    1310.0       -5.0      11.0      1321.0          1928    1908.0   \n",
              "567458    1020.0        0.0      14.0      1034.0          1150    1130.0   \n",
              "567459     932.0       -8.0      12.0       944.0          1218    1201.0   \n",
              "567460    1602.0       -9.0      12.0      1614.0          1821    1805.0   \n",
              "567461    1612.0       62.0      28.0      1640.0          1740    1838.0   \n",
              "\n",
              "        ARR_DELAY  CANCELLED  DIVERTED  CRS_ELAPSED_TIME  ACTUAL_ELAPSED_TIME  \\\n",
              "0            -5.0        0.0       0.0             328.0                317.0   \n",
              "1           -13.0        0.0       0.0             186.0                179.0   \n",
              "2           -11.0        0.0       0.0             163.0                149.0   \n",
              "3           -16.0        0.0       0.0              80.0                 67.0   \n",
              "4            -3.0        0.0       0.0             393.0                392.0   \n",
              "...           ...        ...       ...               ...                  ...   \n",
              "567457      -20.0        0.0       0.0             253.0                238.0   \n",
              "567458      -20.0        0.0       0.0              90.0                 70.0   \n",
              "567459      -17.0        0.0       0.0             218.0                209.0   \n",
              "567460      -16.0        0.0       0.0             190.0                183.0   \n",
              "567461       58.0        0.0       0.0             270.0                266.0   \n",
              "\n",
              "        AIR_TIME  DISTANCE  \n",
              "0          289.0    2475.0  \n",
              "1          156.0     986.0  \n",
              "2          135.0    1121.0  \n",
              "3           46.0     236.0  \n",
              "4          341.0    2422.0  \n",
              "...          ...       ...  \n",
              "567457     217.0    1969.0  \n",
              "567458      52.0     212.0  \n",
              "567459     189.0    1265.0  \n",
              "567460     159.0    1120.0  \n",
              "567461     227.0    1605.0  \n",
              "\n",
              "[557941 rows x 19 columns]>"
            ]
          },
          "metadata": {},
          "execution_count": 14
        }
      ],
      "source": [
        "df.info"
      ]
    },
    {
      "cell_type": "markdown",
      "source": [
        "## **Change Data Type**"
      ],
      "metadata": {
        "id": "N4l14h5C2KdJ"
      }
    },
    {
      "cell_type": "code",
      "execution_count": 15,
      "metadata": {
        "id": "yBxDax1KVJJ6",
        "colab": {
          "base_uri": "https://localhost:8080/"
        },
        "outputId": "555093b2-aeb0-403c-a814-d1351f1c8c40"
      },
      "outputs": [
        {
          "output_type": "execute_result",
          "data": {
            "text/plain": [
              "FL_DATE                 object\n",
              "OP_CARRIER              object\n",
              "OP_CARRIER_FL_NUM        int64\n",
              "ORIGIN                  object\n",
              "DEST                    object\n",
              "CRS_DEP_TIME             int64\n",
              "DEP_TIME               float64\n",
              "DEP_DELAY              float64\n",
              "TAXI_OUT               float64\n",
              "WHEELS_OFF             float64\n",
              "CRS_ARR_TIME             int64\n",
              "ARR_TIME               float64\n",
              "ARR_DELAY              float64\n",
              "CANCELLED              float64\n",
              "DIVERTED               float64\n",
              "CRS_ELAPSED_TIME       float64\n",
              "ACTUAL_ELAPSED_TIME    float64\n",
              "AIR_TIME               float64\n",
              "DISTANCE               float64\n",
              "dtype: object"
            ]
          },
          "metadata": {},
          "execution_count": 15
        }
      ],
      "source": [
        "df.dtypes"
      ]
    },
    {
      "cell_type": "markdown",
      "source": [
        "Convert string to DateTime"
      ],
      "metadata": {
        "id": "HszHbieZFtrr"
      }
    },
    {
      "cell_type": "code",
      "source": [
        "df['FL_DATE'] = pd.to_datetime(df['FL_DATE'])"
      ],
      "metadata": {
        "id": "XbzjHFCnFNCS"
      },
      "execution_count": 16,
      "outputs": []
    },
    {
      "cell_type": "code",
      "source": [
        "df['FL_DATE_month'] = pd.to_datetime(df['FL_DATE']).dt.month"
      ],
      "metadata": {
        "id": "B6jtMp9JF1QT"
      },
      "execution_count": 17,
      "outputs": []
    },
    {
      "cell_type": "markdown",
      "source": [
        "**Filter non-delayed flights (negative)**"
      ],
      "metadata": {
        "id": "x7bpF3UwGc5r"
      }
    },
    {
      "cell_type": "code",
      "source": [
        "df = df[(df['ARR_DELAY'] > 0)] \n",
        "df = df[(df['DEP_DELAY'] > 0)] "
      ],
      "metadata": {
        "id": "4Na01LaXGaB_"
      },
      "execution_count": 18,
      "outputs": []
    },
    {
      "cell_type": "markdown",
      "source": [
        "## **Others**"
      ],
      "metadata": {
        "id": "bIhgCn_c2P1q"
      }
    },
    {
      "cell_type": "markdown",
      "source": [
        "**Change minutes to hours**"
      ],
      "metadata": {
        "id": "WCUzDNC62Xco"
      }
    },
    {
      "cell_type": "code",
      "source": [
        "df['ARR_DELAY'] = df['ARR_DELAY'] / 60\n",
        "df['DEP_DELAY'] = df['DEP_DELAY'] / 60"
      ],
      "metadata": {
        "id": "SkwtKOvSG9qV"
      },
      "execution_count": 19,
      "outputs": []
    },
    {
      "cell_type": "markdown",
      "source": [
        "**Rename airlines name**"
      ],
      "metadata": {
        "id": "7eDEmJ8P2uCb"
      }
    },
    {
      "cell_type": "code",
      "source": [
        "df['OP_CARRIER'].replace({\n",
        "    'UA':'United Airlines',\n",
        "    'AS':'Alaska Airlines',\n",
        "    '9E':'Endeavor Air',\n",
        "    'B6':'JetBlue Airways',\n",
        "    'EV':'ExpressJet',\n",
        "    'F9':'Frontier Airlines',\n",
        "    'G4':'Allegiant Air',\n",
        "    'HA':'Hawaiian Airlines',\n",
        "    'MQ':'Envoy Air',\n",
        "    'NK':'Spirit Airlines',\n",
        "    'OH':'PSA Airlines',\n",
        "    'OO':'SkyWest Airlines',\n",
        "    'VX':'Virgin America',\n",
        "    'WN':'Southwest Airlines',\n",
        "    'YV':'Mesa Airline',\n",
        "    'YX':'Republic Airways',\n",
        "    'AA':'American Airlines',\n",
        "    'DL':'Delta Airlines'\n",
        "},inplace=True)"
      ],
      "metadata": {
        "id": "0l7yX6pFEmi6"
      },
      "execution_count": 20,
      "outputs": []
    },
    {
      "cell_type": "markdown",
      "metadata": {
        "id": "_0m5LkbVVJJ6"
      },
      "source": [
        "# **Exploratory Analysis and Visualization**\n",
        "\n"
      ]
    },
    {
      "cell_type": "markdown",
      "metadata": {
        "id": "RuPTpsGWVJJ7"
      },
      "source": [
        "Let's begin by importing`matplotlib.pyplot` and `seaborn`."
      ]
    },
    {
      "cell_type": "code",
      "execution_count": 21,
      "metadata": {
        "id": "zOTtwqAMVJJ7"
      },
      "outputs": [],
      "source": [
        "import seaborn as sns\n",
        "import matplotlib\n",
        "import matplotlib.pyplot as plt\n",
        "%matplotlib inline\n",
        "\n",
        "sns.set_style('darkgrid')\n",
        "matplotlib.rcParams['font.size'] = 14\n",
        "matplotlib.rcParams['figure.figsize'] = (9, 5)\n",
        "matplotlib.rcParams['figure.facecolor'] = '#00000000'"
      ]
    },
    {
      "cell_type": "code",
      "source": [
        "df.describe()"
      ],
      "metadata": {
        "colab": {
          "base_uri": "https://localhost:8080/",
          "height": 364
        },
        "id": "IzkKBdvb40sn",
        "outputId": "bc212d43-c6df-4f09-a4e9-ea0f65192871"
      },
      "execution_count": 22,
      "outputs": [
        {
          "output_type": "execute_result",
          "data": {
            "text/plain": [
              "       OP_CARRIER_FL_NUM   CRS_DEP_TIME       DEP_TIME      DEP_DELAY  \\\n",
              "count      140090.000000  140090.000000  140090.000000  140090.000000   \n",
              "mean         2160.360069    1472.808980    1515.713606       0.812472   \n",
              "std          1760.768027     449.403875     481.091532       1.255533   \n",
              "min             1.000000       1.000000       1.000000       0.016667   \n",
              "25%           717.000000    1127.000000    1154.000000       0.200000   \n",
              "50%          1674.000000    1520.000000    1550.000000       0.433333   \n",
              "75%          3190.000000    1830.000000    1912.000000       0.966667   \n",
              "max          7439.000000    2359.000000    2400.000000      26.950000   \n",
              "\n",
              "            TAXI_OUT     WHEELS_OFF   CRS_ARR_TIME       ARR_TIME  \\\n",
              "count  140090.000000  140090.000000  140090.000000  140090.000000   \n",
              "mean       18.682982    1535.555557    1616.673867    1574.126504   \n",
              "std        11.901891     488.949975     511.448723     597.678244   \n",
              "min         1.000000       1.000000       1.000000       1.000000   \n",
              "25%        11.000000    1208.000000    1307.000000    1247.000000   \n",
              "50%        15.000000    1605.000000    1710.000000    1711.000000   \n",
              "75%        22.000000    1927.000000    2024.000000    2033.000000   \n",
              "max       172.000000    2400.000000    2359.000000    2400.000000   \n",
              "\n",
              "           ARR_DELAY  CANCELLED  DIVERTED  CRS_ELAPSED_TIME  \\\n",
              "count  140090.000000   140090.0  140090.0     140090.000000   \n",
              "mean        0.789414        0.0       0.0        146.494054   \n",
              "std         1.254819        0.0       0.0         77.337110   \n",
              "min         0.016667        0.0       0.0         18.000000   \n",
              "25%         0.166667        0.0       0.0         88.000000   \n",
              "50%         0.400000        0.0       0.0        128.000000   \n",
              "75%         0.933333        0.0       0.0        179.000000   \n",
              "max        27.033333        0.0       0.0        712.000000   \n",
              "\n",
              "       ACTUAL_ELAPSED_TIME       AIR_TIME       DISTANCE  FL_DATE_month  \n",
              "count        140090.000000  140090.000000  140090.000000  140090.000000  \n",
              "mean            145.110593     118.747691     859.547862       6.330102  \n",
              "std              78.391270      75.135715     623.188655       3.295356  \n",
              "min              16.000000       8.000000      31.000000       1.000000  \n",
              "25%              86.000000      62.000000     390.000000       4.000000  \n",
              "50%             126.000000     100.000000     689.000000       6.000000  \n",
              "75%             179.000000     150.000000    1099.000000       9.000000  \n",
              "max             717.000000     668.000000    4983.000000      12.000000  "
            ],
            "text/html": [
              "\n",
              "  <div id=\"df-f26ca24f-6497-464e-a89a-a808039c4075\">\n",
              "    <div class=\"colab-df-container\">\n",
              "      <div>\n",
              "<style scoped>\n",
              "    .dataframe tbody tr th:only-of-type {\n",
              "        vertical-align: middle;\n",
              "    }\n",
              "\n",
              "    .dataframe tbody tr th {\n",
              "        vertical-align: top;\n",
              "    }\n",
              "\n",
              "    .dataframe thead th {\n",
              "        text-align: right;\n",
              "    }\n",
              "</style>\n",
              "<table border=\"1\" class=\"dataframe\">\n",
              "  <thead>\n",
              "    <tr style=\"text-align: right;\">\n",
              "      <th></th>\n",
              "      <th>OP_CARRIER_FL_NUM</th>\n",
              "      <th>CRS_DEP_TIME</th>\n",
              "      <th>DEP_TIME</th>\n",
              "      <th>DEP_DELAY</th>\n",
              "      <th>TAXI_OUT</th>\n",
              "      <th>WHEELS_OFF</th>\n",
              "      <th>CRS_ARR_TIME</th>\n",
              "      <th>ARR_TIME</th>\n",
              "      <th>ARR_DELAY</th>\n",
              "      <th>CANCELLED</th>\n",
              "      <th>DIVERTED</th>\n",
              "      <th>CRS_ELAPSED_TIME</th>\n",
              "      <th>ACTUAL_ELAPSED_TIME</th>\n",
              "      <th>AIR_TIME</th>\n",
              "      <th>DISTANCE</th>\n",
              "      <th>FL_DATE_month</th>\n",
              "    </tr>\n",
              "  </thead>\n",
              "  <tbody>\n",
              "    <tr>\n",
              "      <th>count</th>\n",
              "      <td>140090.000000</td>\n",
              "      <td>140090.000000</td>\n",
              "      <td>140090.000000</td>\n",
              "      <td>140090.000000</td>\n",
              "      <td>140090.000000</td>\n",
              "      <td>140090.000000</td>\n",
              "      <td>140090.000000</td>\n",
              "      <td>140090.000000</td>\n",
              "      <td>140090.000000</td>\n",
              "      <td>140090.0</td>\n",
              "      <td>140090.0</td>\n",
              "      <td>140090.000000</td>\n",
              "      <td>140090.000000</td>\n",
              "      <td>140090.000000</td>\n",
              "      <td>140090.000000</td>\n",
              "      <td>140090.000000</td>\n",
              "    </tr>\n",
              "    <tr>\n",
              "      <th>mean</th>\n",
              "      <td>2160.360069</td>\n",
              "      <td>1472.808980</td>\n",
              "      <td>1515.713606</td>\n",
              "      <td>0.812472</td>\n",
              "      <td>18.682982</td>\n",
              "      <td>1535.555557</td>\n",
              "      <td>1616.673867</td>\n",
              "      <td>1574.126504</td>\n",
              "      <td>0.789414</td>\n",
              "      <td>0.0</td>\n",
              "      <td>0.0</td>\n",
              "      <td>146.494054</td>\n",
              "      <td>145.110593</td>\n",
              "      <td>118.747691</td>\n",
              "      <td>859.547862</td>\n",
              "      <td>6.330102</td>\n",
              "    </tr>\n",
              "    <tr>\n",
              "      <th>std</th>\n",
              "      <td>1760.768027</td>\n",
              "      <td>449.403875</td>\n",
              "      <td>481.091532</td>\n",
              "      <td>1.255533</td>\n",
              "      <td>11.901891</td>\n",
              "      <td>488.949975</td>\n",
              "      <td>511.448723</td>\n",
              "      <td>597.678244</td>\n",
              "      <td>1.254819</td>\n",
              "      <td>0.0</td>\n",
              "      <td>0.0</td>\n",
              "      <td>77.337110</td>\n",
              "      <td>78.391270</td>\n",
              "      <td>75.135715</td>\n",
              "      <td>623.188655</td>\n",
              "      <td>3.295356</td>\n",
              "    </tr>\n",
              "    <tr>\n",
              "      <th>min</th>\n",
              "      <td>1.000000</td>\n",
              "      <td>1.000000</td>\n",
              "      <td>1.000000</td>\n",
              "      <td>0.016667</td>\n",
              "      <td>1.000000</td>\n",
              "      <td>1.000000</td>\n",
              "      <td>1.000000</td>\n",
              "      <td>1.000000</td>\n",
              "      <td>0.016667</td>\n",
              "      <td>0.0</td>\n",
              "      <td>0.0</td>\n",
              "      <td>18.000000</td>\n",
              "      <td>16.000000</td>\n",
              "      <td>8.000000</td>\n",
              "      <td>31.000000</td>\n",
              "      <td>1.000000</td>\n",
              "    </tr>\n",
              "    <tr>\n",
              "      <th>25%</th>\n",
              "      <td>717.000000</td>\n",
              "      <td>1127.000000</td>\n",
              "      <td>1154.000000</td>\n",
              "      <td>0.200000</td>\n",
              "      <td>11.000000</td>\n",
              "      <td>1208.000000</td>\n",
              "      <td>1307.000000</td>\n",
              "      <td>1247.000000</td>\n",
              "      <td>0.166667</td>\n",
              "      <td>0.0</td>\n",
              "      <td>0.0</td>\n",
              "      <td>88.000000</td>\n",
              "      <td>86.000000</td>\n",
              "      <td>62.000000</td>\n",
              "      <td>390.000000</td>\n",
              "      <td>4.000000</td>\n",
              "    </tr>\n",
              "    <tr>\n",
              "      <th>50%</th>\n",
              "      <td>1674.000000</td>\n",
              "      <td>1520.000000</td>\n",
              "      <td>1550.000000</td>\n",
              "      <td>0.433333</td>\n",
              "      <td>15.000000</td>\n",
              "      <td>1605.000000</td>\n",
              "      <td>1710.000000</td>\n",
              "      <td>1711.000000</td>\n",
              "      <td>0.400000</td>\n",
              "      <td>0.0</td>\n",
              "      <td>0.0</td>\n",
              "      <td>128.000000</td>\n",
              "      <td>126.000000</td>\n",
              "      <td>100.000000</td>\n",
              "      <td>689.000000</td>\n",
              "      <td>6.000000</td>\n",
              "    </tr>\n",
              "    <tr>\n",
              "      <th>75%</th>\n",
              "      <td>3190.000000</td>\n",
              "      <td>1830.000000</td>\n",
              "      <td>1912.000000</td>\n",
              "      <td>0.966667</td>\n",
              "      <td>22.000000</td>\n",
              "      <td>1927.000000</td>\n",
              "      <td>2024.000000</td>\n",
              "      <td>2033.000000</td>\n",
              "      <td>0.933333</td>\n",
              "      <td>0.0</td>\n",
              "      <td>0.0</td>\n",
              "      <td>179.000000</td>\n",
              "      <td>179.000000</td>\n",
              "      <td>150.000000</td>\n",
              "      <td>1099.000000</td>\n",
              "      <td>9.000000</td>\n",
              "    </tr>\n",
              "    <tr>\n",
              "      <th>max</th>\n",
              "      <td>7439.000000</td>\n",
              "      <td>2359.000000</td>\n",
              "      <td>2400.000000</td>\n",
              "      <td>26.950000</td>\n",
              "      <td>172.000000</td>\n",
              "      <td>2400.000000</td>\n",
              "      <td>2359.000000</td>\n",
              "      <td>2400.000000</td>\n",
              "      <td>27.033333</td>\n",
              "      <td>0.0</td>\n",
              "      <td>0.0</td>\n",
              "      <td>712.000000</td>\n",
              "      <td>717.000000</td>\n",
              "      <td>668.000000</td>\n",
              "      <td>4983.000000</td>\n",
              "      <td>12.000000</td>\n",
              "    </tr>\n",
              "  </tbody>\n",
              "</table>\n",
              "</div>\n",
              "      <button class=\"colab-df-convert\" onclick=\"convertToInteractive('df-f26ca24f-6497-464e-a89a-a808039c4075')\"\n",
              "              title=\"Convert this dataframe to an interactive table.\"\n",
              "              style=\"display:none;\">\n",
              "        \n",
              "  <svg xmlns=\"http://www.w3.org/2000/svg\" height=\"24px\"viewBox=\"0 0 24 24\"\n",
              "       width=\"24px\">\n",
              "    <path d=\"M0 0h24v24H0V0z\" fill=\"none\"/>\n",
              "    <path d=\"M18.56 5.44l.94 2.06.94-2.06 2.06-.94-2.06-.94-.94-2.06-.94 2.06-2.06.94zm-11 1L8.5 8.5l.94-2.06 2.06-.94-2.06-.94L8.5 2.5l-.94 2.06-2.06.94zm10 10l.94 2.06.94-2.06 2.06-.94-2.06-.94-.94-2.06-.94 2.06-2.06.94z\"/><path d=\"M17.41 7.96l-1.37-1.37c-.4-.4-.92-.59-1.43-.59-.52 0-1.04.2-1.43.59L10.3 9.45l-7.72 7.72c-.78.78-.78 2.05 0 2.83L4 21.41c.39.39.9.59 1.41.59.51 0 1.02-.2 1.41-.59l7.78-7.78 2.81-2.81c.8-.78.8-2.07 0-2.86zM5.41 20L4 18.59l7.72-7.72 1.47 1.35L5.41 20z\"/>\n",
              "  </svg>\n",
              "      </button>\n",
              "      \n",
              "  <style>\n",
              "    .colab-df-container {\n",
              "      display:flex;\n",
              "      flex-wrap:wrap;\n",
              "      gap: 12px;\n",
              "    }\n",
              "\n",
              "    .colab-df-convert {\n",
              "      background-color: #E8F0FE;\n",
              "      border: none;\n",
              "      border-radius: 50%;\n",
              "      cursor: pointer;\n",
              "      display: none;\n",
              "      fill: #1967D2;\n",
              "      height: 32px;\n",
              "      padding: 0 0 0 0;\n",
              "      width: 32px;\n",
              "    }\n",
              "\n",
              "    .colab-df-convert:hover {\n",
              "      background-color: #E2EBFA;\n",
              "      box-shadow: 0px 1px 2px rgba(60, 64, 67, 0.3), 0px 1px 3px 1px rgba(60, 64, 67, 0.15);\n",
              "      fill: #174EA6;\n",
              "    }\n",
              "\n",
              "    [theme=dark] .colab-df-convert {\n",
              "      background-color: #3B4455;\n",
              "      fill: #D2E3FC;\n",
              "    }\n",
              "\n",
              "    [theme=dark] .colab-df-convert:hover {\n",
              "      background-color: #434B5C;\n",
              "      box-shadow: 0px 1px 3px 1px rgba(0, 0, 0, 0.15);\n",
              "      filter: drop-shadow(0px 1px 2px rgba(0, 0, 0, 0.3));\n",
              "      fill: #FFFFFF;\n",
              "    }\n",
              "  </style>\n",
              "\n",
              "      <script>\n",
              "        const buttonEl =\n",
              "          document.querySelector('#df-f26ca24f-6497-464e-a89a-a808039c4075 button.colab-df-convert');\n",
              "        buttonEl.style.display =\n",
              "          google.colab.kernel.accessAllowed ? 'block' : 'none';\n",
              "\n",
              "        async function convertToInteractive(key) {\n",
              "          const element = document.querySelector('#df-f26ca24f-6497-464e-a89a-a808039c4075');\n",
              "          const dataTable =\n",
              "            await google.colab.kernel.invokeFunction('convertToInteractive',\n",
              "                                                     [key], {});\n",
              "          if (!dataTable) return;\n",
              "\n",
              "          const docLinkHtml = 'Like what you see? Visit the ' +\n",
              "            '<a target=\"_blank\" href=https://colab.research.google.com/notebooks/data_table.ipynb>data table notebook</a>'\n",
              "            + ' to learn more about interactive tables.';\n",
              "          element.innerHTML = '';\n",
              "          dataTable['output_type'] = 'display_data';\n",
              "          await google.colab.output.renderOutput(dataTable, element);\n",
              "          const docLink = document.createElement('div');\n",
              "          docLink.innerHTML = docLinkHtml;\n",
              "          element.appendChild(docLink);\n",
              "        }\n",
              "      </script>\n",
              "    </div>\n",
              "  </div>\n",
              "  "
            ]
          },
          "metadata": {},
          "execution_count": 22
        }
      ]
    },
    {
      "cell_type": "markdown",
      "source": [
        "### **Bar Chart: Mean and Median Departure Delayed per Month**"
      ],
      "metadata": {
        "id": "jbABslqvRE3C"
      }
    },
    {
      "cell_type": "markdown",
      "source": [
        "Calculate the average and median for Departure Delay."
      ],
      "metadata": {
        "id": "SNEQDxk7YSos"
      }
    },
    {
      "cell_type": "code",
      "source": [
        "dep_average = df.groupby('FL_DATE_month').DEP_DELAY.mean()\n",
        "dep_median = df.groupby('FL_DATE_month').DEP_DELAY.median()"
      ],
      "metadata": {
        "id": "OjmTjud5QCOt"
      },
      "execution_count": 23,
      "outputs": []
    },
    {
      "cell_type": "code",
      "source": [
        "month = ['January', 'February', 'March', 'April', 'May', 'June', 'July', 'August', 'September', 'October', 'November', 'December']\n",
        "X = np.arange(1,13)\n",
        "\n",
        "fig = plt.figure(figsize=(30, 10))\n",
        "ax = fig.add_axes([0,0,1,1])\n",
        "\n",
        "p1 = ax.bar(X - 0.20, dep_average, color = 'teal', width = 0.40)\n",
        "p2 = ax.bar(X + 0.20, dep_median, color = 'lightsteelblue', width = 0.40)\n",
        "plt.xticks(X, month, fontsize = 20)\n",
        "\n",
        "ax.set_xlabel('Month', fontsize = 20)\n",
        "ax.set_ylabel('Departure delay [hours]', fontsize = 20)\n",
        "ax.set_title('Departure delay per month', fontsize = 24)\n",
        "ax.legend(labels=['mean', 'median'], fontsize = 20)"
      ],
      "metadata": {
        "colab": {
          "base_uri": "https://localhost:8080/",
          "height": 0
        },
        "id": "yw24lcSDU4Uf",
        "outputId": "ec965cf3-f0a7-49b4-b920-426e919a58f9"
      },
      "execution_count": 24,
      "outputs": [
        {
          "output_type": "execute_result",
          "data": {
            "text/plain": [
              "<matplotlib.legend.Legend at 0x7f7e5b64dc10>"
            ]
          },
          "metadata": {},
          "execution_count": 24
        },
        {
          "output_type": "display_data",
          "data": {
            "text/plain": [
              "<Figure size 2160x720 with 1 Axes>"
            ],
            "image/png": "[encoded data removed]"
          },
          "metadata": {
            "needs_background": "light"
          }
        }
      ]
    },
    {
      "cell_type": "markdown",
      "source": [
        "As we can see in this bar graph, the highest number of departure delay by hours was in April followed by July and June."
      ],
      "metadata": {
        "id": "5T_wqcAjvtTF"
      }
    },
    {
      "cell_type": "markdown",
      "metadata": {
        "id": "nt_CVhi-VJJ8"
      },
      "source": [
        "### **Scatter Plot**"
      ]
    },
    {
      "cell_type": "markdown",
      "source": [
        "Firstly, we need to group our dataset by airline name and month. Then, we calculate the total of departure delay (hours) for each month using .sum() function. "
      ],
      "metadata": {
        "id": "doYXNYUmXpNi"
      }
    },
    {
      "cell_type": "code",
      "source": [
        "total_hours = df.groupby(['OP_CARRIER', 'FL_DATE_month'],as_index=False)['DEP_DELAY'].sum()\n",
        "month = total_hours.FL_DATE_month"
      ],
      "metadata": {
        "id": "aT-ambVlYn9K"
      },
      "execution_count": 25,
      "outputs": []
    },
    {
      "cell_type": "code",
      "source": [
        "total_hours"
      ],
      "metadata": {
        "colab": {
          "base_uri": "https://localhost:8080/",
          "height": 424
        },
        "id": "nbgrbxO7Uz6v",
        "outputId": "0efe2a85-cad1-47b4-897a-2d5ae7a34c7e"
      },
      "execution_count": 26,
      "outputs": [
        {
          "output_type": "execute_result",
          "data": {
            "text/plain": [
              "          OP_CARRIER  FL_DATE_month   DEP_DELAY\n",
              "0    Alaska Airlines              1  251.000000\n",
              "1    Alaska Airlines              2  198.700000\n",
              "2    Alaska Airlines              3  206.883333\n",
              "3    Alaska Airlines              4  189.883333\n",
              "4    Alaska Airlines              5  225.266667\n",
              "..               ...            ...         ...\n",
              "139   Virgin America              8  188.700000\n",
              "140   Virgin America              9   91.433333\n",
              "141   Virgin America             10  143.200000\n",
              "142   Virgin America             11   96.750000\n",
              "143   Virgin America             12   89.066667\n",
              "\n",
              "[144 rows x 3 columns]"
            ],
            "text/html": [
              "\n",
              "  <div id=\"df-f5e20dd4-72b4-4ca2-8e8d-524dee9fda5b\">\n",
              "    <div class=\"colab-df-container\">\n",
              "      <div>\n",
              "<style scoped>\n",
              "    .dataframe tbody tr th:only-of-type {\n",
              "        vertical-align: middle;\n",
              "    }\n",
              "\n",
              "    .dataframe tbody tr th {\n",
              "        vertical-align: top;\n",
              "    }\n",
              "\n",
              "    .dataframe thead th {\n",
              "        text-align: right;\n",
              "    }\n",
              "</style>\n",
              "<table border=\"1\" class=\"dataframe\">\n",
              "  <thead>\n",
              "    <tr style=\"text-align: right;\">\n",
              "      <th></th>\n",
              "      <th>OP_CARRIER</th>\n",
              "      <th>FL_DATE_month</th>\n",
              "      <th>DEP_DELAY</th>\n",
              "    </tr>\n",
              "  </thead>\n",
              "  <tbody>\n",
              "    <tr>\n",
              "      <th>0</th>\n",
              "      <td>Alaska Airlines</td>\n",
              "      <td>1</td>\n",
              "      <td>251.000000</td>\n",
              "    </tr>\n",
              "    <tr>\n",
              "      <th>1</th>\n",
              "      <td>Alaska Airlines</td>\n",
              "      <td>2</td>\n",
              "      <td>198.700000</td>\n",
              "    </tr>\n",
              "    <tr>\n",
              "      <th>2</th>\n",
              "      <td>Alaska Airlines</td>\n",
              "      <td>3</td>\n",
              "      <td>206.883333</td>\n",
              "    </tr>\n",
              "    <tr>\n",
              "      <th>3</th>\n",
              "      <td>Alaska Airlines</td>\n",
              "      <td>4</td>\n",
              "      <td>189.883333</td>\n",
              "    </tr>\n",
              "    <tr>\n",
              "      <th>4</th>\n",
              "      <td>Alaska Airlines</td>\n",
              "      <td>5</td>\n",
              "      <td>225.266667</td>\n",
              "    </tr>\n",
              "    <tr>\n",
              "      <th>...</th>\n",
              "      <td>...</td>\n",
              "      <td>...</td>\n",
              "      <td>...</td>\n",
              "    </tr>\n",
              "    <tr>\n",
              "      <th>139</th>\n",
              "      <td>Virgin America</td>\n",
              "      <td>8</td>\n",
              "      <td>188.700000</td>\n",
              "    </tr>\n",
              "    <tr>\n",
              "      <th>140</th>\n",
              "      <td>Virgin America</td>\n",
              "      <td>9</td>\n",
              "      <td>91.433333</td>\n",
              "    </tr>\n",
              "    <tr>\n",
              "      <th>141</th>\n",
              "      <td>Virgin America</td>\n",
              "      <td>10</td>\n",
              "      <td>143.200000</td>\n",
              "    </tr>\n",
              "    <tr>\n",
              "      <th>142</th>\n",
              "      <td>Virgin America</td>\n",
              "      <td>11</td>\n",
              "      <td>96.750000</td>\n",
              "    </tr>\n",
              "    <tr>\n",
              "      <th>143</th>\n",
              "      <td>Virgin America</td>\n",
              "      <td>12</td>\n",
              "      <td>89.066667</td>\n",
              "    </tr>\n",
              "  </tbody>\n",
              "</table>\n",
              "<p>144 rows × 3 columns</p>\n",
              "</div>\n",
              "      <button class=\"colab-df-convert\" onclick=\"convertToInteractive('df-f5e20dd4-72b4-4ca2-8e8d-524dee9fda5b')\"\n",
              "              title=\"Convert this dataframe to an interactive table.\"\n",
              "              style=\"display:none;\">\n",
              "        \n",
              "  <svg xmlns=\"http://www.w3.org/2000/svg\" height=\"24px\"viewBox=\"0 0 24 24\"\n",
              "       width=\"24px\">\n",
              "    <path d=\"M0 0h24v24H0V0z\" fill=\"none\"/>\n",
              "    <path d=\"M18.56 5.44l.94 2.06.94-2.06 2.06-.94-2.06-.94-.94-2.06-.94 2.06-2.06.94zm-11 1L8.5 8.5l.94-2.06 2.06-.94-2.06-.94L8.5 2.5l-.94 2.06-2.06.94zm10 10l.94 2.06.94-2.06 2.06-.94-2.06-.94-.94-2.06-.94 2.06-2.06.94z\"/><path d=\"M17.41 7.96l-1.37-1.37c-.4-.4-.92-.59-1.43-.59-.52 0-1.04.2-1.43.59L10.3 9.45l-7.72 7.72c-.78.78-.78 2.05 0 2.83L4 21.41c.39.39.9.59 1.41.59.51 0 1.02-.2 1.41-.59l7.78-7.78 2.81-2.81c.8-.78.8-2.07 0-2.86zM5.41 20L4 18.59l7.72-7.72 1.47 1.35L5.41 20z\"/>\n",
              "  </svg>\n",
              "      </button>\n",
              "      \n",
              "  <style>\n",
              "    .colab-df-container {\n",
              "      display:flex;\n",
              "      flex-wrap:wrap;\n",
              "      gap: 12px;\n",
              "    }\n",
              "\n",
              "    .colab-df-convert {\n",
              "      background-color: #E8F0FE;\n",
              "      border: none;\n",
              "      border-radius: 50%;\n",
              "      cursor: pointer;\n",
              "      display: none;\n",
              "      fill: #1967D2;\n",
              "      height: 32px;\n",
              "      padding: 0 0 0 0;\n",
              "      width: 32px;\n",
              "    }\n",
              "\n",
              "    .colab-df-convert:hover {\n",
              "      background-color: #E2EBFA;\n",
              "      box-shadow: 0px 1px 2px rgba(60, 64, 67, 0.3), 0px 1px 3px 1px rgba(60, 64, 67, 0.15);\n",
              "      fill: #174EA6;\n",
              "    }\n",
              "\n",
              "    [theme=dark] .colab-df-convert {\n",
              "      background-color: #3B4455;\n",
              "      fill: #D2E3FC;\n",
              "    }\n",
              "\n",
              "    [theme=dark] .colab-df-convert:hover {\n",
              "      background-color: #434B5C;\n",
              "      box-shadow: 0px 1px 3px 1px rgba(0, 0, 0, 0.15);\n",
              "      filter: drop-shadow(0px 1px 2px rgba(0, 0, 0, 0.3));\n",
              "      fill: #FFFFFF;\n",
              "    }\n",
              "  </style>\n",
              "\n",
              "      <script>\n",
              "        const buttonEl =\n",
              "          document.querySelector('#df-f5e20dd4-72b4-4ca2-8e8d-524dee9fda5b button.colab-df-convert');\n",
              "        buttonEl.style.display =\n",
              "          google.colab.kernel.accessAllowed ? 'block' : 'none';\n",
              "\n",
              "        async function convertToInteractive(key) {\n",
              "          const element = document.querySelector('#df-f5e20dd4-72b4-4ca2-8e8d-524dee9fda5b');\n",
              "          const dataTable =\n",
              "            await google.colab.kernel.invokeFunction('convertToInteractive',\n",
              "                                                     [key], {});\n",
              "          if (!dataTable) return;\n",
              "\n",
              "          const docLinkHtml = 'Like what you see? Visit the ' +\n",
              "            '<a target=\"_blank\" href=https://colab.research.google.com/notebooks/data_table.ipynb>data table notebook</a>'\n",
              "            + ' to learn more about interactive tables.';\n",
              "          element.innerHTML = '';\n",
              "          dataTable['output_type'] = 'display_data';\n",
              "          await google.colab.output.renderOutput(dataTable, element);\n",
              "          const docLink = document.createElement('div');\n",
              "          docLink.innerHTML = docLinkHtml;\n",
              "          element.appendChild(docLink);\n",
              "        }\n",
              "      </script>\n",
              "    </div>\n",
              "  </div>\n",
              "  "
            ]
          },
          "metadata": {},
          "execution_count": 26
        }
      ]
    },
    {
      "cell_type": "code",
      "source": [
        "sns.set(rc={'figure.figsize':(50,40)})\n",
        "s = sns.relplot(x=total_hours['FL_DATE_month'], \n",
        "            y=total_hours['DEP_DELAY'],\n",
        "            data=total_hours, \n",
        "            hue = \"OP_CARRIER\", \n",
        "            kind='scatter')"
      ],
      "metadata": {
        "colab": {
          "base_uri": "https://localhost:8080/",
          "height": 365
        },
        "id": "P21Dh2eFPQtv",
        "outputId": "beda6185-e157-40b5-cebc-78bd694c832e"
      },
      "execution_count": 27,
      "outputs": [
        {
          "output_type": "display_data",
          "data": {
            "text/plain": [
              "<Figure size 502.225x360 with 1 Axes>"
            ],
            "image/png": "[encoded data removed]"
          },
          "metadata": {}
        }
      ]
    },
    {
      "cell_type": "markdown",
      "source": [
        "Based on the scatter plot above, on January until November 2017, Frontier Airlines is the best airline of the year since it has the least delay (hours)."
      ],
      "metadata": {
        "id": "1dwMVx8Dx9n2"
      }
    },
    {
      "cell_type": "markdown",
      "source": [
        "###  **Pie Chart: Top 10 Origin and Destination Airports** "
      ],
      "metadata": {
        "id": "wJIpfdWOXAOT"
      }
    },
    {
      "cell_type": "markdown",
      "source": [
        "Sort top 10 airport with most flights"
      ],
      "metadata": {
        "id": "KDRb2y1PXwr5"
      }
    },
    {
      "cell_type": "code",
      "source": [
        "#Airports with most flights\n",
        "F_origin = df.ORIGIN.value_counts().sort_values(ascending=False)[:10]\n",
        "F_dest = df.DEST.value_counts().sort_values(ascending=False)[:10]"
      ],
      "metadata": {
        "id": "dZb0Uzq8OwnV"
      },
      "execution_count": 28,
      "outputs": []
    },
    {
      "cell_type": "markdown",
      "source": [
        "Top 10 Busiest Origin Airports"
      ],
      "metadata": {
        "id": "5snqrK7NjDP_"
      }
    },
    {
      "cell_type": "code",
      "source": [
        "colors = sns.color_palette('Pastel1')\n",
        "fig, ax = plt.subplots(figsize=(19, 8))\n",
        "ax.pie(F_origin, labels=F_origin.index,colors = colors, autopct=\"%1.1f%%\")\n",
        "ax.axis('equal')  \n",
        "plt.title(\"Origin Airport Distribution on 2017\\n\")\n",
        "plt.show()"
      ],
      "metadata": {
        "colab": {
          "base_uri": "https://localhost:8080/",
          "height": 501
        },
        "id": "_5xAaYPzOElj",
        "outputId": "ff8e8831-4370-48d9-be52-14aa264b7f12"
      },
      "execution_count": 29,
      "outputs": [
        {
          "output_type": "display_data",
          "data": {
            "text/plain": [
              "<Figure size 1368x576 with 1 Axes>"
            ],
            "image/png": "[encoded data removed]"
          },
          "metadata": {}
        }
      ]
    },
    {
      "cell_type": "markdown",
      "source": [
        "Top 10 Busiest Destination Airports"
      ],
      "metadata": {
        "id": "fMfiUj1VjG-X"
      }
    },
    {
      "cell_type": "code",
      "source": [
        "colors = sns.color_palette('Pastel1')\n",
        "fig, ax = plt.subplots(figsize=(19, 8))\n",
        "ax.pie(F_dest, labels=F_dest.index,colors = colors, autopct=\"%1.1f%%\")\n",
        "ax.axis('equal')  \n",
        "plt.title(\"Destination Airport Distribution on 2017\\n\")\n",
        "plt.show()"
      ],
      "metadata": {
        "colab": {
          "base_uri": "https://localhost:8080/",
          "height": 499
        },
        "id": "XRSJ7m5Ni7TG",
        "outputId": "833b8055-d9eb-41fc-b47b-47496339ab8e"
      },
      "execution_count": 30,
      "outputs": [
        {
          "output_type": "display_data",
          "data": {
            "text/plain": [
              "<Figure size 1368x576 with 1 Axes>"
            ],
            "image/png": "[encoded data removed]"
          },
          "metadata": {}
        }
      ]
    },
    {
      "cell_type": "markdown",
      "source": [
        "Based on these two pie charts, most of the airport that is categorized as the busiest of origin airport are also found in the busiest of destination airport (LAX, DFW, SFO, EWR, LAS, PHX, ORD, ATL and DEN)"
      ],
      "metadata": {
        "id": "je0EIigkwNHJ"
      }
    },
    {
      "cell_type": "markdown",
      "source": [
        "### **Line Graph: Departure Delay for Popular Airlines** "
      ],
      "metadata": {
        "id": "rxVqUgTKbDGi"
      }
    },
    {
      "cell_type": "markdown",
      "source": [
        "Identify the top five popular airlines in United States "
      ],
      "metadata": {
        "id": "Ka6-nsfjlTKY"
      }
    },
    {
      "cell_type": "code",
      "source": [
        "most_delayed = df.groupby('OP_CARRIER').DEP_DELAY.sum().sort_values(ascending=False).head(5)\n",
        "most_delayed"
      ],
      "metadata": {
        "colab": {
          "base_uri": "https://localhost:8080/"
        },
        "id": "Jf5KM-qcpMGC",
        "outputId": "289adfcc-1591-4ec8-a1e9-5d66e02a84f4"
      },
      "execution_count": 31,
      "outputs": [
        {
          "output_type": "execute_result",
          "data": {
            "text/plain": [
              "OP_CARRIER\n",
              "Southwest Airlines    24078.950000\n",
              "SkyWest Airlines      16804.900000\n",
              "American Airlines     16137.516667\n",
              "Delta Airlines        15533.383333\n",
              "United Airlines       11768.500000\n",
              "Name: DEP_DELAY, dtype: float64"
            ]
          },
          "metadata": {},
          "execution_count": 31
        }
      ]
    },
    {
      "cell_type": "code",
      "source": [
        "busiest_airlines = df.groupby(\"OP_CARRIER\").size().sort_values(ascending=False)[:5]\n",
        "busiest_airlines"
      ],
      "metadata": {
        "colab": {
          "base_uri": "https://localhost:8080/"
        },
        "id": "w9M8c6EMvI--",
        "outputId": "fed8c6af-196a-4329-f3f8-5b4ec3274e3f"
      },
      "execution_count": 32,
      "outputs": [
        {
          "output_type": "execute_result",
          "data": {
            "text/plain": [
              "OP_CARRIER\n",
              "Southwest Airlines    43169\n",
              "American Airlines     20681\n",
              "Delta Airlines        17341\n",
              "SkyWest Airlines      15221\n",
              "United Airlines       12496\n",
              "dtype: int64"
            ]
          },
          "metadata": {},
          "execution_count": 32
        }
      ]
    },
    {
      "cell_type": "code",
      "source": [
        "top5_airlines = [{'airline':'Southwest Airlines', 'color':'#233d4d'},\n",
        "                 {'airline':'American Airlines', 'color':'#fe7f2d'},\n",
        "                 {'airline':'Delta Airlines', 'color':'#fcca46'},\n",
        "                 {'airline':'SkyWest Airlines', 'color':'#a1c181'},\n",
        "                 {'airline':'United Airlines', 'color':'#619b8a'}]"
      ],
      "metadata": {
        "id": "RvubCrTJyScp"
      },
      "execution_count": 33,
      "outputs": []
    },
    {
      "cell_type": "markdown",
      "source": [
        "Create function that calculate the mean of departure delay by month"
      ],
      "metadata": {
        "id": "839YPKKVlkqk"
      }
    },
    {
      "cell_type": "code",
      "source": [
        "def plot_delay(p):\n",
        "    means = df[df['OP_CARRIER'] == p['airline']].groupby(['FL_DATE_month']).mean().reset_index() \n",
        "    line, = plt.plot(means['FL_DATE_month'], means['DEP_DELAY'], linestyle='solid', color=p['color'])\n",
        "    return line              "
      ],
      "metadata": {
        "id": "GrMPozzvyXFU"
      },
      "execution_count": 34,
      "outputs": []
    },
    {
      "cell_type": "markdown",
      "source": [
        "Plot airline flights by month using given airline name and color."
      ],
      "metadata": {
        "id": "RC2zynMmyZwQ"
      }
    },
    {
      "cell_type": "code",
      "source": [
        "fig, ax = plt.subplots(figsize=(20, 8))\n",
        "\n",
        "delay_handles = list(map(plot_delay, top5_airlines))\n",
        "delay_labels = ['Southwest Airlines','American Airlines','Delta Airlines', 'SkyWest Airlines', 'United Airlines',]\n",
        "\n",
        "plt.legend(delay_handles, delay_labels)\n",
        "plt.grid(axis='y', linewidth = 0.5)\n",
        "sns.despine(top=True)\n",
        "ax.set_ylabel('Average Delay (hours)', fontsize=16)\n",
        "ax.set_xlabel('Months', fontsize=16)\n",
        "ax.set_title(\"Departure Delay for Popular Airlines 2017\" , fontsize=20);"
      ],
      "metadata": {
        "colab": {
          "base_uri": "https://localhost:8080/",
          "height": 0
        },
        "id": "N5ClMVUvlhu2",
        "outputId": "7af2f49e-544a-4e81-eda3-32a93ece3f0c"
      },
      "execution_count": 35,
      "outputs": [
        {
          "output_type": "display_data",
          "data": {
            "text/plain": [
              "<Figure size 1440x576 with 1 Axes>"
            ],
            "image/png": "[encoded data removed]"
          },
          "metadata": {}
        }
      ]
    },
    {
      "cell_type": "markdown",
      "source": [
        "Based on the line graph, we can see that over the year of 2017, Skywest Airlines has the highest average of delay (per hours). There is also an interesting spike of average delay for Delta Airlines in April. Lastly, towards the end of the year, these top five airlines slowly increasing their departure delay, probably because there was new system implemented and data became more accurate."
      ],
      "metadata": {
        "id": "h1vzRX2CscoQ"
      }
    },
    {
      "cell_type": "markdown",
      "metadata": {
        "id": "rN1bUu8RVJJ7"
      },
      "source": [
        "### **Heat Map: Air Traffic by City** "
      ]
    },
    {
      "cell_type": "markdown",
      "source": [
        "Create new column 'FL_DATE_day' and 'FL_DATE_week'"
      ],
      "metadata": {
        "id": "m7An91DkeEtT"
      }
    },
    {
      "cell_type": "code",
      "source": [
        "df['FL_DATE_day'] = pd.to_datetime(df['FL_DATE']).dt.day_name()\n",
        "df['FL_DATE_week'] = pd.to_datetime(df['FL_DATE']).dt.dayofweek"
      ],
      "metadata": {
        "id": "sbl-1SSsa6AR"
      },
      "execution_count": 36,
      "outputs": []
    },
    {
      "cell_type": "code",
      "source": [
        "df['FL_DATE_day']"
      ],
      "metadata": {
        "id": "RT8VIY6_h6Nw",
        "colab": {
          "base_uri": "https://localhost:8080/"
        },
        "outputId": "51038aab-b63a-479d-beaa-5ebf9de71726"
      },
      "execution_count": 37,
      "outputs": [
        {
          "output_type": "execute_result",
          "data": {
            "text/plain": [
              "5         Sunday\n",
              "6         Sunday\n",
              "7         Sunday\n",
              "8         Sunday\n",
              "12        Sunday\n",
              "           ...  \n",
              "567438    Sunday\n",
              "567446    Sunday\n",
              "567448    Sunday\n",
              "567454    Sunday\n",
              "567461    Sunday\n",
              "Name: FL_DATE_day, Length: 140090, dtype: object"
            ]
          },
          "metadata": {},
          "execution_count": 37
        }
      ]
    },
    {
      "cell_type": "markdown",
      "source": [
        "Count number of flights per week per airlines."
      ],
      "metadata": {
        "id": "dDrRXonAJ_dk"
      }
    },
    {
      "cell_type": "code",
      "execution_count": 38,
      "metadata": {
        "id": "Zatc4Si_VJJ8",
        "colab": {
          "base_uri": "https://localhost:8080/"
        },
        "outputId": "6bf2bb7e-07fb-4567-cec1-55b083dbeae9"
      },
      "outputs": [
        {
          "output_type": "stream",
          "name": "stdout",
          "text": [
            "FL_DATE_week       0       1       2       3       4      5       6\n",
            "ORIGIN                                                             \n",
            "ATL           1458.0  1167.0  1048.0  1419.0  1451.0  993.0  1234.0\n",
            "ORD           1037.0   813.0   906.0  1039.0  1143.0  655.0   936.0\n",
            "DEN            958.0   812.0   828.0   921.0   953.0  692.0   696.0\n",
            "LAX            993.0   810.0   870.0  1102.0  1070.0  621.0  1001.0\n",
            "SFO            856.0   607.0   747.0   907.0   889.0  492.0   814.0\n",
            "LAS            678.0   579.0   599.0   738.0   806.0  492.0   668.0\n",
            "DFW            780.0   576.0   659.0   787.0   827.0  661.0   757.0\n",
            "MCO            535.0   490.0   471.0   514.0   521.0  505.0   444.0\n",
            "PHX            576.0   472.0   535.0   629.0   668.0  458.0   562.0\n",
            "EWR            445.0   451.0   500.0   520.0   569.0  319.0   440.0\n"
          ]
        }
      ],
      "source": [
        "flight_pivot=df.pivot_table(index='ORIGIN',columns='FL_DATE_week', values='FL_DATE_day', aggfunc=lambda x:x.count())\n",
        "flight_sort = flight_pivot.sort_values(by=1,ascending=False)[:10]\n",
        "print(flight_sort)"
      ]
    },
    {
      "cell_type": "code",
      "execution_count": 39,
      "metadata": {
        "id": "RBYoxztOVJJ8",
        "colab": {
          "base_uri": "https://localhost:8080/",
          "height": 0
        },
        "outputId": "e009d67b-9c93-444f-8ff7-36313f6c81a1"
      },
      "outputs": [
        {
          "output_type": "display_data",
          "data": {
            "text/plain": [
              "<Figure size 1440x720 with 2 Axes>"
            ],
            "image/png": "[encoded data removed]"
          },
          "metadata": {}
        }
      ],
      "source": [
        "flight_sort = flight_sort.iloc[:10]\n",
        "\n",
        "plt.figure(figsize=(20,10))\n",
        "sns.heatmap(flight_sort, annot=True, cmap=\"Pastel1\")\n",
        "plt.show()"
      ]
    },
    {
      "cell_type": "markdown",
      "source": [
        "Looking at the diagram above, most of the origin airport have high number of air traffic on weeekdays, with ATL having the highest air traffic on Monday.\n"
      ],
      "metadata": {
        "id": "ZqDinRkVxOFT"
      }
    },
    {
      "cell_type": "markdown",
      "metadata": {
        "id": "E0U3IWm8VJJ9"
      },
      "source": [
        "# **Asking and Answering Questions**\n",
        "\n"
      ]
    },
    {
      "cell_type": "markdown",
      "metadata": {
        "id": "7Lor5rHMVJJ9"
      },
      "source": [
        "#### Q1: Which airlines has the least departure delays on 2017?"
      ]
    },
    {
      "cell_type": "code",
      "source": [
        "least_delays = df.groupby('OP_CARRIER').DEP_DELAY.sum().sort_values(ascending=True).head(1)\n",
        "least_delays"
      ],
      "metadata": {
        "id": "AcK5Tziq0Ojj",
        "colab": {
          "base_uri": "https://localhost:8080/"
        },
        "outputId": "08761022-1950-42a7-c2b4-fa35e8984542"
      },
      "execution_count": 40,
      "outputs": [
        {
          "output_type": "execute_result",
          "data": {
            "text/plain": [
              "OP_CARRIER\n",
              "Hawaiian Airlines    711.5\n",
              "Name: DEP_DELAY, dtype: float64"
            ]
          },
          "metadata": {},
          "execution_count": 40
        }
      ]
    },
    {
      "cell_type": "code",
      "execution_count": 41,
      "metadata": {
        "id": "D-PdOKqCVJJ9",
        "colab": {
          "base_uri": "https://localhost:8080/",
          "height": 505
        },
        "outputId": "c74e340d-3a9c-4b29-c203-c3ea1511ee0f"
      },
      "outputs": [
        {
          "output_type": "display_data",
          "data": {
            "text/plain": [
              "<Figure size 1440x432 with 1 Axes>"
            ],
            "image/png": "[encoded data removed]"
          },
          "metadata": {}
        }
      ],
      "source": [
        "plt.figure(figsize=(20, 6))\n",
        "c = ['mistyrose', 'antiquewhite', 'wheat', 'darksalmon', 'lightcoral', 'lavenderblush', 'cornsilk', \n",
        "          'papayawhip','bisque','peachpuff','navajowhite','hotpink']\n",
        "df.groupby('OP_CARRIER').DEP_DELAY.sum().sort_values(ascending=False).plot.bar(color = c)\n",
        "plt.title('Delays by Airlines on 2017', fontsize=16)\n",
        "plt.xlabel('Airlines', fontsize=14)\n",
        "plt.ylabel('Hours', fontsize=14)\n",
        "plt.show()"
      ]
    },
    {
      "cell_type": "markdown",
      "source": [
        "*Hawaiian Airlines has the least delays with total of 588.08 hours on 2017*"
      ],
      "metadata": {
        "id": "zYBKGFdvDtuz"
      }
    },
    {
      "cell_type": "markdown",
      "metadata": {
        "id": "c_REVnrhVJJ-"
      },
      "source": [
        "#### Q2: Amirah is from MIA, she is planning to travel to anywhere at any time of the year. What is the least problematic flight that she could take?"
      ]
    },
    {
      "cell_type": "code",
      "execution_count": 42,
      "metadata": {
        "id": "dvyLd9MdVJJ-"
      },
      "outputs": [],
      "source": [
        "least_problematic = df[df['ORIGIN'] == 'MIA']"
      ]
    },
    {
      "cell_type": "code",
      "execution_count": 43,
      "metadata": {
        "id": "tdjrhzySVJJ-",
        "colab": {
          "base_uri": "https://localhost:8080/",
          "height": 191
        },
        "outputId": "c4abcc01-2431-4406-c02e-4bdd150953b7"
      },
      "outputs": [
        {
          "output_type": "execute_result",
          "data": {
            "text/plain": [
              "          FL_DATE         OP_CARRIER  OP_CARRIER_FL_NUM ORIGIN DEST  \\\n",
              "207342 2017-05-17  American Airlines               1907    MIA  PHL   \n",
              "\n",
              "        CRS_DEP_TIME  DEP_TIME  DEP_DELAY  TAXI_OUT  WHEELS_OFF  ...  \\\n",
              "207342          1430    1431.0   0.016667      17.0      1448.0  ...   \n",
              "\n",
              "        ARR_DELAY  CANCELLED  DIVERTED  CRS_ELAPSED_TIME  ACTUAL_ELAPSED_TIME  \\\n",
              "207342   0.183333        0.0       0.0             166.0                176.0   \n",
              "\n",
              "        AIR_TIME  DISTANCE  FL_DATE_month  FL_DATE_day  FL_DATE_week  \n",
              "207342     149.0    1013.0              5    Wednesday             2  \n",
              "\n",
              "[1 rows x 22 columns]"
            ],
            "text/html": [
              "\n",
              "  <div id=\"df-cdd8844d-64ed-44e3-9996-3fbe271af9b8\">\n",
              "    <div class=\"colab-df-container\">\n",
              "      <div>\n",
              "<style scoped>\n",
              "    .dataframe tbody tr th:only-of-type {\n",
              "        vertical-align: middle;\n",
              "    }\n",
              "\n",
              "    .dataframe tbody tr th {\n",
              "        vertical-align: top;\n",
              "    }\n",
              "\n",
              "    .dataframe thead th {\n",
              "        text-align: right;\n",
              "    }\n",
              "</style>\n",
              "<table border=\"1\" class=\"dataframe\">\n",
              "  <thead>\n",
              "    <tr style=\"text-align: right;\">\n",
              "      <th></th>\n",
              "      <th>FL_DATE</th>\n",
              "      <th>OP_CARRIER</th>\n",
              "      <th>OP_CARRIER_FL_NUM</th>\n",
              "      <th>ORIGIN</th>\n",
              "      <th>DEST</th>\n",
              "      <th>CRS_DEP_TIME</th>\n",
              "      <th>DEP_TIME</th>\n",
              "      <th>DEP_DELAY</th>\n",
              "      <th>TAXI_OUT</th>\n",
              "      <th>WHEELS_OFF</th>\n",
              "      <th>...</th>\n",
              "      <th>ARR_DELAY</th>\n",
              "      <th>CANCELLED</th>\n",
              "      <th>DIVERTED</th>\n",
              "      <th>CRS_ELAPSED_TIME</th>\n",
              "      <th>ACTUAL_ELAPSED_TIME</th>\n",
              "      <th>AIR_TIME</th>\n",
              "      <th>DISTANCE</th>\n",
              "      <th>FL_DATE_month</th>\n",
              "      <th>FL_DATE_day</th>\n",
              "      <th>FL_DATE_week</th>\n",
              "    </tr>\n",
              "  </thead>\n",
              "  <tbody>\n",
              "    <tr>\n",
              "      <th>207342</th>\n",
              "      <td>2017-05-17</td>\n",
              "      <td>American Airlines</td>\n",
              "      <td>1907</td>\n",
              "      <td>MIA</td>\n",
              "      <td>PHL</td>\n",
              "      <td>1430</td>\n",
              "      <td>1431.0</td>\n",
              "      <td>0.016667</td>\n",
              "      <td>17.0</td>\n",
              "      <td>1448.0</td>\n",
              "      <td>...</td>\n",
              "      <td>0.183333</td>\n",
              "      <td>0.0</td>\n",
              "      <td>0.0</td>\n",
              "      <td>166.0</td>\n",
              "      <td>176.0</td>\n",
              "      <td>149.0</td>\n",
              "      <td>1013.0</td>\n",
              "      <td>5</td>\n",
              "      <td>Wednesday</td>\n",
              "      <td>2</td>\n",
              "    </tr>\n",
              "  </tbody>\n",
              "</table>\n",
              "<p>1 rows × 22 columns</p>\n",
              "</div>\n",
              "      <button class=\"colab-df-convert\" onclick=\"convertToInteractive('df-cdd8844d-64ed-44e3-9996-3fbe271af9b8')\"\n",
              "              title=\"Convert this dataframe to an interactive table.\"\n",
              "              style=\"display:none;\">\n",
              "        \n",
              "  <svg xmlns=\"http://www.w3.org/2000/svg\" height=\"24px\"viewBox=\"0 0 24 24\"\n",
              "       width=\"24px\">\n",
              "    <path d=\"M0 0h24v24H0V0z\" fill=\"none\"/>\n",
              "    <path d=\"M18.56 5.44l.94 2.06.94-2.06 2.06-.94-2.06-.94-.94-2.06-.94 2.06-2.06.94zm-11 1L8.5 8.5l.94-2.06 2.06-.94-2.06-.94L8.5 2.5l-.94 2.06-2.06.94zm10 10l.94 2.06.94-2.06 2.06-.94-2.06-.94-.94-2.06-.94 2.06-2.06.94z\"/><path d=\"M17.41 7.96l-1.37-1.37c-.4-.4-.92-.59-1.43-.59-.52 0-1.04.2-1.43.59L10.3 9.45l-7.72 7.72c-.78.78-.78 2.05 0 2.83L4 21.41c.39.39.9.59 1.41.59.51 0 1.02-.2 1.41-.59l7.78-7.78 2.81-2.81c.8-.78.8-2.07 0-2.86zM5.41 20L4 18.59l7.72-7.72 1.47 1.35L5.41 20z\"/>\n",
              "  </svg>\n",
              "      </button>\n",
              "      \n",
              "  <style>\n",
              "    .colab-df-container {\n",
              "      display:flex;\n",
              "      flex-wrap:wrap;\n",
              "      gap: 12px;\n",
              "    }\n",
              "\n",
              "    .colab-df-convert {\n",
              "      background-color: #E8F0FE;\n",
              "      border: none;\n",
              "      border-radius: 50%;\n",
              "      cursor: pointer;\n",
              "      display: none;\n",
              "      fill: #1967D2;\n",
              "      height: 32px;\n",
              "      padding: 0 0 0 0;\n",
              "      width: 32px;\n",
              "    }\n",
              "\n",
              "    .colab-df-convert:hover {\n",
              "      background-color: #E2EBFA;\n",
              "      box-shadow: 0px 1px 2px rgba(60, 64, 67, 0.3), 0px 1px 3px 1px rgba(60, 64, 67, 0.15);\n",
              "      fill: #174EA6;\n",
              "    }\n",
              "\n",
              "    [theme=dark] .colab-df-convert {\n",
              "      background-color: #3B4455;\n",
              "      fill: #D2E3FC;\n",
              "    }\n",
              "\n",
              "    [theme=dark] .colab-df-convert:hover {\n",
              "      background-color: #434B5C;\n",
              "      box-shadow: 0px 1px 3px 1px rgba(0, 0, 0, 0.15);\n",
              "      filter: drop-shadow(0px 1px 2px rgba(0, 0, 0, 0.3));\n",
              "      fill: #FFFFFF;\n",
              "    }\n",
              "  </style>\n",
              "\n",
              "      <script>\n",
              "        const buttonEl =\n",
              "          document.querySelector('#df-cdd8844d-64ed-44e3-9996-3fbe271af9b8 button.colab-df-convert');\n",
              "        buttonEl.style.display =\n",
              "          google.colab.kernel.accessAllowed ? 'block' : 'none';\n",
              "\n",
              "        async function convertToInteractive(key) {\n",
              "          const element = document.querySelector('#df-cdd8844d-64ed-44e3-9996-3fbe271af9b8');\n",
              "          const dataTable =\n",
              "            await google.colab.kernel.invokeFunction('convertToInteractive',\n",
              "                                                     [key], {});\n",
              "          if (!dataTable) return;\n",
              "\n",
              "          const docLinkHtml = 'Like what you see? Visit the ' +\n",
              "            '<a target=\"_blank\" href=https://colab.research.google.com/notebooks/data_table.ipynb>data table notebook</a>'\n",
              "            + ' to learn more about interactive tables.';\n",
              "          element.innerHTML = '';\n",
              "          dataTable['output_type'] = 'display_data';\n",
              "          await google.colab.output.renderOutput(dataTable, element);\n",
              "          const docLink = document.createElement('div');\n",
              "          docLink.innerHTML = docLinkHtml;\n",
              "          element.appendChild(docLink);\n",
              "        }\n",
              "      </script>\n",
              "    </div>\n",
              "  </div>\n",
              "  "
            ]
          },
          "metadata": {},
          "execution_count": 43
        }
      ],
      "source": [
        "least_problematic.sort_values(by=['DEP_DELAY'], ascending=True).head(1)"
      ]
    },
    {
      "cell_type": "markdown",
      "source": [
        "*Amirah can take American Airlines from her origin MIA to destination MCO on 23 March 2017.*"
      ],
      "metadata": {
        "id": "s_QsNLxj9XVq"
      }
    },
    {
      "cell_type": "markdown",
      "metadata": {
        "id": "ya3o0SurVJJ-"
      },
      "source": [
        "#### Q3: How many airlines offers flight from DFW to OGG on 2017-01-03?"
      ]
    },
    {
      "cell_type": "code",
      "source": [
        "offered_flights = display(df[(df['ORIGIN']=='LAX') & (df['DEST'] == 'JFK') & (df['FL_DATE'] == '2017-01-03')])"
      ],
      "metadata": {
        "id": "UIhoURN-_x_N",
        "colab": {
          "base_uri": "https://localhost:8080/",
          "height": 240
        },
        "outputId": "edd79b1a-dd45-4b5e-a718-4fe992d32066"
      },
      "execution_count": 44,
      "outputs": [
        {
          "output_type": "display_data",
          "data": {
            "text/plain": [
              "        FL_DATE      OP_CARRIER  OP_CARRIER_FL_NUM ORIGIN DEST  CRS_DEP_TIME  \\\n",
              "3063 2017-01-03  Delta Airlines                 44    LAX  JFK          1135   \n",
              "3959 2017-01-03  Virgin America                412    LAX  JFK          1345   \n",
              "\n",
              "      DEP_TIME  DEP_DELAY  TAXI_OUT  WHEELS_OFF  ...  ARR_DELAY  CANCELLED  \\\n",
              "3063    1200.0   0.416667      29.0      1229.0  ...   0.116667        0.0   \n",
              "3959    1509.0   1.400000       8.0      1517.0  ...   0.866667        0.0   \n",
              "\n",
              "      DIVERTED  CRS_ELAPSED_TIME  ACTUAL_ELAPSED_TIME  AIR_TIME  DISTANCE  \\\n",
              "3063       0.0             330.0                312.0     265.0    2475.0   \n",
              "3959       0.0             315.0                283.0     266.0    2475.0   \n",
              "\n",
              "      FL_DATE_month  FL_DATE_day  FL_DATE_week  \n",
              "3063              1      Tuesday             1  \n",
              "3959              1      Tuesday             1  \n",
              "\n",
              "[2 rows x 22 columns]"
            ],
            "text/html": [
              "\n",
              "  <div id=\"df-8f00fb75-a9a5-48bf-a38e-0cdc224a6b22\">\n",
              "    <div class=\"colab-df-container\">\n",
              "      <div>\n",
              "<style scoped>\n",
              "    .dataframe tbody tr th:only-of-type {\n",
              "        vertical-align: middle;\n",
              "    }\n",
              "\n",
              "    .dataframe tbody tr th {\n",
              "        vertical-align: top;\n",
              "    }\n",
              "\n",
              "    .dataframe thead th {\n",
              "        text-align: right;\n",
              "    }\n",
              "</style>\n",
              "<table border=\"1\" class=\"dataframe\">\n",
              "  <thead>\n",
              "    <tr style=\"text-align: right;\">\n",
              "      <th></th>\n",
              "      <th>FL_DATE</th>\n",
              "      <th>OP_CARRIER</th>\n",
              "      <th>OP_CARRIER_FL_NUM</th>\n",
              "      <th>ORIGIN</th>\n",
              "      <th>DEST</th>\n",
              "      <th>CRS_DEP_TIME</th>\n",
              "      <th>DEP_TIME</th>\n",
              "      <th>DEP_DELAY</th>\n",
              "      <th>TAXI_OUT</th>\n",
              "      <th>WHEELS_OFF</th>\n",
              "      <th>...</th>\n",
              "      <th>ARR_DELAY</th>\n",
              "      <th>CANCELLED</th>\n",
              "      <th>DIVERTED</th>\n",
              "      <th>CRS_ELAPSED_TIME</th>\n",
              "      <th>ACTUAL_ELAPSED_TIME</th>\n",
              "      <th>AIR_TIME</th>\n",
              "      <th>DISTANCE</th>\n",
              "      <th>FL_DATE_month</th>\n",
              "      <th>FL_DATE_day</th>\n",
              "      <th>FL_DATE_week</th>\n",
              "    </tr>\n",
              "  </thead>\n",
              "  <tbody>\n",
              "    <tr>\n",
              "      <th>3063</th>\n",
              "      <td>2017-01-03</td>\n",
              "      <td>Delta Airlines</td>\n",
              "      <td>44</td>\n",
              "      <td>LAX</td>\n",
              "      <td>JFK</td>\n",
              "      <td>1135</td>\n",
              "      <td>1200.0</td>\n",
              "      <td>0.416667</td>\n",
              "      <td>29.0</td>\n",
              "      <td>1229.0</td>\n",
              "      <td>...</td>\n",
              "      <td>0.116667</td>\n",
              "      <td>0.0</td>\n",
              "      <td>0.0</td>\n",
              "      <td>330.0</td>\n",
              "      <td>312.0</td>\n",
              "      <td>265.0</td>\n",
              "      <td>2475.0</td>\n",
              "      <td>1</td>\n",
              "      <td>Tuesday</td>\n",
              "      <td>1</td>\n",
              "    </tr>\n",
              "    <tr>\n",
              "      <th>3959</th>\n",
              "      <td>2017-01-03</td>\n",
              "      <td>Virgin America</td>\n",
              "      <td>412</td>\n",
              "      <td>LAX</td>\n",
              "      <td>JFK</td>\n",
              "      <td>1345</td>\n",
              "      <td>1509.0</td>\n",
              "      <td>1.400000</td>\n",
              "      <td>8.0</td>\n",
              "      <td>1517.0</td>\n",
              "      <td>...</td>\n",
              "      <td>0.866667</td>\n",
              "      <td>0.0</td>\n",
              "      <td>0.0</td>\n",
              "      <td>315.0</td>\n",
              "      <td>283.0</td>\n",
              "      <td>266.0</td>\n",
              "      <td>2475.0</td>\n",
              "      <td>1</td>\n",
              "      <td>Tuesday</td>\n",
              "      <td>1</td>\n",
              "    </tr>\n",
              "  </tbody>\n",
              "</table>\n",
              "<p>2 rows × 22 columns</p>\n",
              "</div>\n",
              "      <button class=\"colab-df-convert\" onclick=\"convertToInteractive('df-8f00fb75-a9a5-48bf-a38e-0cdc224a6b22')\"\n",
              "              title=\"Convert this dataframe to an interactive table.\"\n",
              "              style=\"display:none;\">\n",
              "        \n",
              "  <svg xmlns=\"http://www.w3.org/2000/svg\" height=\"24px\"viewBox=\"0 0 24 24\"\n",
              "       width=\"24px\">\n",
              "    <path d=\"M0 0h24v24H0V0z\" fill=\"none\"/>\n",
              "    <path d=\"M18.56 5.44l.94 2.06.94-2.06 2.06-.94-2.06-.94-.94-2.06-.94 2.06-2.06.94zm-11 1L8.5 8.5l.94-2.06 2.06-.94-2.06-.94L8.5 2.5l-.94 2.06-2.06.94zm10 10l.94 2.06.94-2.06 2.06-.94-2.06-.94-.94-2.06-.94 2.06-2.06.94z\"/><path d=\"M17.41 7.96l-1.37-1.37c-.4-.4-.92-.59-1.43-.59-.52 0-1.04.2-1.43.59L10.3 9.45l-7.72 7.72c-.78.78-.78 2.05 0 2.83L4 21.41c.39.39.9.59 1.41.59.51 0 1.02-.2 1.41-.59l7.78-7.78 2.81-2.81c.8-.78.8-2.07 0-2.86zM5.41 20L4 18.59l7.72-7.72 1.47 1.35L5.41 20z\"/>\n",
              "  </svg>\n",
              "      </button>\n",
              "      \n",
              "  <style>\n",
              "    .colab-df-container {\n",
              "      display:flex;\n",
              "      flex-wrap:wrap;\n",
              "      gap: 12px;\n",
              "    }\n",
              "\n",
              "    .colab-df-convert {\n",
              "      background-color: #E8F0FE;\n",
              "      border: none;\n",
              "      border-radius: 50%;\n",
              "      cursor: pointer;\n",
              "      display: none;\n",
              "      fill: #1967D2;\n",
              "      height: 32px;\n",
              "      padding: 0 0 0 0;\n",
              "      width: 32px;\n",
              "    }\n",
              "\n",
              "    .colab-df-convert:hover {\n",
              "      background-color: #E2EBFA;\n",
              "      box-shadow: 0px 1px 2px rgba(60, 64, 67, 0.3), 0px 1px 3px 1px rgba(60, 64, 67, 0.15);\n",
              "      fill: #174EA6;\n",
              "    }\n",
              "\n",
              "    [theme=dark] .colab-df-convert {\n",
              "      background-color: #3B4455;\n",
              "      fill: #D2E3FC;\n",
              "    }\n",
              "\n",
              "    [theme=dark] .colab-df-convert:hover {\n",
              "      background-color: #434B5C;\n",
              "      box-shadow: 0px 1px 3px 1px rgba(0, 0, 0, 0.15);\n",
              "      filter: drop-shadow(0px 1px 2px rgba(0, 0, 0, 0.3));\n",
              "      fill: #FFFFFF;\n",
              "    }\n",
              "  </style>\n",
              "\n",
              "      <script>\n",
              "        const buttonEl =\n",
              "          document.querySelector('#df-8f00fb75-a9a5-48bf-a38e-0cdc224a6b22 button.colab-df-convert');\n",
              "        buttonEl.style.display =\n",
              "          google.colab.kernel.accessAllowed ? 'block' : 'none';\n",
              "\n",
              "        async function convertToInteractive(key) {\n",
              "          const element = document.querySelector('#df-8f00fb75-a9a5-48bf-a38e-0cdc224a6b22');\n",
              "          const dataTable =\n",
              "            await google.colab.kernel.invokeFunction('convertToInteractive',\n",
              "                                                     [key], {});\n",
              "          if (!dataTable) return;\n",
              "\n",
              "          const docLinkHtml = 'Like what you see? Visit the ' +\n",
              "            '<a target=\"_blank\" href=https://colab.research.google.com/notebooks/data_table.ipynb>data table notebook</a>'\n",
              "            + ' to learn more about interactive tables.';\n",
              "          element.innerHTML = '';\n",
              "          dataTable['output_type'] = 'display_data';\n",
              "          await google.colab.output.renderOutput(dataTable, element);\n",
              "          const docLink = document.createElement('div');\n",
              "          docLink.innerHTML = docLinkHtml;\n",
              "          element.appendChild(docLink);\n",
              "        }\n",
              "      </script>\n",
              "    </div>\n",
              "  </div>\n",
              "  "
            ]
          },
          "metadata": {}
        }
      ]
    },
    {
      "cell_type": "markdown",
      "source": [
        "*There are three airlines that offer flight from DFW to OGG on 3rd January 2017.*"
      ],
      "metadata": {
        "id": "G7-35BvnC47u"
      }
    },
    {
      "cell_type": "markdown",
      "metadata": {
        "id": "p4CcVO1TVJJ-"
      },
      "source": [
        "#### Q4: Which flight travels the longest distance? What is the Origin and the Destination of the flight?"
      ]
    },
    {
      "cell_type": "code",
      "execution_count": 45,
      "metadata": {
        "id": "Wa96BGX1VJJ-"
      },
      "outputs": [],
      "source": [
        "longest_distance = df.sort_values(by=['DISTANCE'], ascending=False).head(1)"
      ]
    },
    {
      "cell_type": "code",
      "source": [
        "print(longest_distance[['OP_CARRIER','ORIGIN','DEST','DISTANCE']])"
      ],
      "metadata": {
        "id": "kkYkq2az5t_v",
        "colab": {
          "base_uri": "https://localhost:8080/"
        },
        "outputId": "e8f5a645-6ff2-4f19-c4d0-33167064eb20"
      },
      "execution_count": 46,
      "outputs": [
        {
          "output_type": "stream",
          "name": "stdout",
          "text": [
            "               OP_CARRIER ORIGIN DEST  DISTANCE\n",
            "275252  Hawaiian Airlines    HNL  JFK    4983.0\n"
          ]
        }
      ]
    },
    {
      "cell_type": "markdown",
      "source": [
        "*Hawaiian Airlines travels the longest distance on 2017, from JFK to HNL with a distance of 4983.0*"
      ],
      "metadata": {
        "id": "mMZGlPeN5PNq"
      }
    },
    {
      "cell_type": "markdown",
      "metadata": {
        "id": "uFuZBqX1VJJ_"
      },
      "source": [
        "#### Q5: For each Origin, find the number of flights for three consecutive days. Use aggregation."
      ]
    },
    {
      "cell_type": "code",
      "execution_count": 47,
      "metadata": {
        "id": "0XCOkgIHVJJ_"
      },
      "outputs": [],
      "source": [
        "group_origin_days = df.reset_index().groupby(['FL_DATE', 'ORIGIN']).size().reset_index(name='Count').set_index('FL_DATE')"
      ]
    },
    {
      "cell_type": "code",
      "source": [
        "group_origin_days.groupby('ORIGIN')['Count'].rolling(window=3).sum().reset_index()"
      ],
      "metadata": {
        "id": "eRBS4n5mH7tI",
        "colab": {
          "base_uri": "https://localhost:8080/",
          "height": 424
        },
        "outputId": "cd653bf1-c228-4b86-b333-99956e3644f6"
      },
      "execution_count": 48,
      "outputs": [
        {
          "output_type": "execute_result",
          "data": {
            "text/plain": [
              "      ORIGIN    FL_DATE  Count\n",
              "0        ABE 2017-01-01    NaN\n",
              "1        ABE 2017-01-02    NaN\n",
              "2        ABE 2017-01-12    3.0\n",
              "3        ABE 2017-01-22    3.0\n",
              "4        ABE 2017-02-14    3.0\n",
              "...      ...        ...    ...\n",
              "32038    YUM 2017-07-30    3.0\n",
              "32039    YUM 2017-07-31    3.0\n",
              "32040    YUM 2017-09-06    3.0\n",
              "32041    YUM 2017-09-07    3.0\n",
              "32042    YUM 2017-12-15    3.0\n",
              "\n",
              "[32043 rows x 3 columns]"
            ],
            "text/html": [
              "\n",
              "  <div id=\"df-63c642e4-a55c-481f-af33-86d6620cdca7\">\n",
              "    <div class=\"colab-df-container\">\n",
              "      <div>\n",
              "<style scoped>\n",
              "    .dataframe tbody tr th:only-of-type {\n",
              "        vertical-align: middle;\n",
              "    }\n",
              "\n",
              "    .dataframe tbody tr th {\n",
              "        vertical-align: top;\n",
              "    }\n",
              "\n",
              "    .dataframe thead th {\n",
              "        text-align: right;\n",
              "    }\n",
              "</style>\n",
              "<table border=\"1\" class=\"dataframe\">\n",
              "  <thead>\n",
              "    <tr style=\"text-align: right;\">\n",
              "      <th></th>\n",
              "      <th>ORIGIN</th>\n",
              "      <th>FL_DATE</th>\n",
              "      <th>Count</th>\n",
              "    </tr>\n",
              "  </thead>\n",
              "  <tbody>\n",
              "    <tr>\n",
              "      <th>0</th>\n",
              "      <td>ABE</td>\n",
              "      <td>2017-01-01</td>\n",
              "      <td>NaN</td>\n",
              "    </tr>\n",
              "    <tr>\n",
              "      <th>1</th>\n",
              "      <td>ABE</td>\n",
              "      <td>2017-01-02</td>\n",
              "      <td>NaN</td>\n",
              "    </tr>\n",
              "    <tr>\n",
              "      <th>2</th>\n",
              "      <td>ABE</td>\n",
              "      <td>2017-01-12</td>\n",
              "      <td>3.0</td>\n",
              "    </tr>\n",
              "    <tr>\n",
              "      <th>3</th>\n",
              "      <td>ABE</td>\n",
              "      <td>2017-01-22</td>\n",
              "      <td>3.0</td>\n",
              "    </tr>\n",
              "    <tr>\n",
              "      <th>4</th>\n",
              "      <td>ABE</td>\n",
              "      <td>2017-02-14</td>\n",
              "      <td>3.0</td>\n",
              "    </tr>\n",
              "    <tr>\n",
              "      <th>...</th>\n",
              "      <td>...</td>\n",
              "      <td>...</td>\n",
              "      <td>...</td>\n",
              "    </tr>\n",
              "    <tr>\n",
              "      <th>32038</th>\n",
              "      <td>YUM</td>\n",
              "      <td>2017-07-30</td>\n",
              "      <td>3.0</td>\n",
              "    </tr>\n",
              "    <tr>\n",
              "      <th>32039</th>\n",
              "      <td>YUM</td>\n",
              "      <td>2017-07-31</td>\n",
              "      <td>3.0</td>\n",
              "    </tr>\n",
              "    <tr>\n",
              "      <th>32040</th>\n",
              "      <td>YUM</td>\n",
              "      <td>2017-09-06</td>\n",
              "      <td>3.0</td>\n",
              "    </tr>\n",
              "    <tr>\n",
              "      <th>32041</th>\n",
              "      <td>YUM</td>\n",
              "      <td>2017-09-07</td>\n",
              "      <td>3.0</td>\n",
              "    </tr>\n",
              "    <tr>\n",
              "      <th>32042</th>\n",
              "      <td>YUM</td>\n",
              "      <td>2017-12-15</td>\n",
              "      <td>3.0</td>\n",
              "    </tr>\n",
              "  </tbody>\n",
              "</table>\n",
              "<p>32043 rows × 3 columns</p>\n",
              "</div>\n",
              "      <button class=\"colab-df-convert\" onclick=\"convertToInteractive('df-63c642e4-a55c-481f-af33-86d6620cdca7')\"\n",
              "              title=\"Convert this dataframe to an interactive table.\"\n",
              "              style=\"display:none;\">\n",
              "        \n",
              "  <svg xmlns=\"http://www.w3.org/2000/svg\" height=\"24px\"viewBox=\"0 0 24 24\"\n",
              "       width=\"24px\">\n",
              "    <path d=\"M0 0h24v24H0V0z\" fill=\"none\"/>\n",
              "    <path d=\"M18.56 5.44l.94 2.06.94-2.06 2.06-.94-2.06-.94-.94-2.06-.94 2.06-2.06.94zm-11 1L8.5 8.5l.94-2.06 2.06-.94-2.06-.94L8.5 2.5l-.94 2.06-2.06.94zm10 10l.94 2.06.94-2.06 2.06-.94-2.06-.94-.94-2.06-.94 2.06-2.06.94z\"/><path d=\"M17.41 7.96l-1.37-1.37c-.4-.4-.92-.59-1.43-.59-.52 0-1.04.2-1.43.59L10.3 9.45l-7.72 7.72c-.78.78-.78 2.05 0 2.83L4 21.41c.39.39.9.59 1.41.59.51 0 1.02-.2 1.41-.59l7.78-7.78 2.81-2.81c.8-.78.8-2.07 0-2.86zM5.41 20L4 18.59l7.72-7.72 1.47 1.35L5.41 20z\"/>\n",
              "  </svg>\n",
              "      </button>\n",
              "      \n",
              "  <style>\n",
              "    .colab-df-container {\n",
              "      display:flex;\n",
              "      flex-wrap:wrap;\n",
              "      gap: 12px;\n",
              "    }\n",
              "\n",
              "    .colab-df-convert {\n",
              "      background-color: #E8F0FE;\n",
              "      border: none;\n",
              "      border-radius: 50%;\n",
              "      cursor: pointer;\n",
              "      display: none;\n",
              "      fill: #1967D2;\n",
              "      height: 32px;\n",
              "      padding: 0 0 0 0;\n",
              "      width: 32px;\n",
              "    }\n",
              "\n",
              "    .colab-df-convert:hover {\n",
              "      background-color: #E2EBFA;\n",
              "      box-shadow: 0px 1px 2px rgba(60, 64, 67, 0.3), 0px 1px 3px 1px rgba(60, 64, 67, 0.15);\n",
              "      fill: #174EA6;\n",
              "    }\n",
              "\n",
              "    [theme=dark] .colab-df-convert {\n",
              "      background-color: #3B4455;\n",
              "      fill: #D2E3FC;\n",
              "    }\n",
              "\n",
              "    [theme=dark] .colab-df-convert:hover {\n",
              "      background-color: #434B5C;\n",
              "      box-shadow: 0px 1px 3px 1px rgba(0, 0, 0, 0.15);\n",
              "      filter: drop-shadow(0px 1px 2px rgba(0, 0, 0, 0.3));\n",
              "      fill: #FFFFFF;\n",
              "    }\n",
              "  </style>\n",
              "\n",
              "      <script>\n",
              "        const buttonEl =\n",
              "          document.querySelector('#df-63c642e4-a55c-481f-af33-86d6620cdca7 button.colab-df-convert');\n",
              "        buttonEl.style.display =\n",
              "          google.colab.kernel.accessAllowed ? 'block' : 'none';\n",
              "\n",
              "        async function convertToInteractive(key) {\n",
              "          const element = document.querySelector('#df-63c642e4-a55c-481f-af33-86d6620cdca7');\n",
              "          const dataTable =\n",
              "            await google.colab.kernel.invokeFunction('convertToInteractive',\n",
              "                                                     [key], {});\n",
              "          if (!dataTable) return;\n",
              "\n",
              "          const docLinkHtml = 'Like what you see? Visit the ' +\n",
              "            '<a target=\"_blank\" href=https://colab.research.google.com/notebooks/data_table.ipynb>data table notebook</a>'\n",
              "            + ' to learn more about interactive tables.';\n",
              "          element.innerHTML = '';\n",
              "          dataTable['output_type'] = 'display_data';\n",
              "          await google.colab.output.renderOutput(dataTable, element);\n",
              "          const docLink = document.createElement('div');\n",
              "          docLink.innerHTML = docLinkHtml;\n",
              "          element.appendChild(docLink);\n",
              "        }\n",
              "      </script>\n",
              "    </div>\n",
              "  </div>\n",
              "  "
            ]
          },
          "metadata": {},
          "execution_count": 48
        }
      ]
    },
    {
      "cell_type": "markdown",
      "source": [
        "#**Inferences and Conclusion**"
      ],
      "metadata": {
        "id": "7acS3Aa4keZr"
      }
    },
    {
      "cell_type": "markdown",
      "source": [
        "\n",
        "\n",
        "1.   All of the [top 5 most delayed airlines](https://colab.research.google.com/drive/1uLyJxJZWB1LF4rx7nVNvPJnAFVEKfCZA?authuser=2#scrollTo=AcK5Tziq0Ojj&line=1&uniqifier=1) (Southwest Airlines, SkyWest Airlines, Delta Airlines, American Airlines, United Airlines) are all listed in the [top 5 busiest airports](https://colab.research.google.com/drive/1uLyJxJZWB1LF4rx7nVNvPJnAFVEKfCZA?authuser=2#scrollTo=w9M8c6EMvI--&line=2&uniqifier=1) in the United States in 2017. There could be a line of aeroplanes waiting to take off on the runway in a congested or unusually busy airport. Thus, it is expected that they have higher number of delays compared to other airlines.\n",
        "\n",
        "2.   On the other hand, the possible factor that contributes to the delay of these airlines on the beginning and end of the year is due to annual holidays. However, the highest average delay of all airlines is between April to July due to factors that we cannot predict and need more resources and informations about the dataset.  \n",
        "\n",
        "> Thus, we can conclude that the delay of airlines is highly affected by the number of airlines being in one airport at the same time. \n",
        "--- \n",
        "\n",
        "1.   Every airline have different rate of efficiency of their operations and management systems which contribute to the different hours of delay.\n",
        "\n",
        "2.   As we can see in [Line graph](https://colab.research.google.com/drive/1uLyJxJZWB1LF4rx7nVNvPJnAFVEKfCZA?authuser=2#scrollTo=N5ClMVUvlhu2&line=5&uniqifier=1), Southwest Airlines maintained to be the least delayed airlines compared to the other four popular airlines in 2017. Southwest Airlines may have a better management and operation systems thus contribute less to the average hours of delay over the year.\n",
        "\n",
        "> Therefore, the average hours of delay over the year is highly affected by the performance of their operations system that controls the carrier delay, aircraft delay and security delay. \n",
        "\n",
        "---\n",
        "\n",
        "> In conclusion, this dataset is insufficient if we want to determine the precise reason for the airline's delay.\n",
        "\n"
      ],
      "metadata": {
        "id": "BCE5YGZ_kzbL"
      }
    },
    {
      "cell_type": "markdown",
      "metadata": {
        "id": "xfuc6sJgVJKA"
      },
      "source": [
        "#**References and Future Work**\n",
        "\n",
        "In a further project, we would like to examine more data from more years and obtain more information each airline may have regarding the reason for a delay."
      ]
    },
    {
      "cell_type": "markdown",
      "source": [
        "References:\n",
        "\n",
        "1.   [Pandas Guide](https://pandas.pydata.org/docs/user_guide/text.html)\n",
        "2.   [Data Visualization Guide](https://www.analyticsvidhya.com/blog/2021/02/an-intuitive-guide-to-visualization-in-python/)\n",
        "2.   [Dataset](https://www.kaggle.com/datasets/yuanyuwendymu/airline-delay-and-cancellation-data-2009-2018)"
      ],
      "metadata": {
        "id": "tOMeQS_Ak7_L"
      }
    }
  ],
  "metadata": {
    "kernelspec": {
      "display_name": "Python 3",
      "language": "python",
      "name": "python3"
    },
    "language_info": {
      "codemirror_mode": {
        "name": "ipython",
        "version": 3
      },
      "file_extension": ".py",
      "mimetype": "text/x-python",
      "name": "python",
      "nbconvert_exporter": "python",
      "pygments_lexer": "ipython3",
      "version": "3.8.5"
    },
    "colab": {
      "provenance": [],
      "collapsed_sections": [
        "7F8DQl5dVJJ0",
        "LxWzVndBVJJ1",
        "cBns6cbKtOH0",
        "O6_XYSxQtS4n",
        "bIhgCn_c2P1q",
        "_0m5LkbVVJJ6",
        "jbABslqvRE3C",
        "nt_CVhi-VJJ8",
        "wJIpfdWOXAOT",
        "rxVqUgTKbDGi",
        "rN1bUu8RVJJ7",
        "E0U3IWm8VJJ9",
        "7Lor5rHMVJJ9",
        "c_REVnrhVJJ-",
        "ya3o0SurVJJ-",
        "p4CcVO1TVJJ-"
      ],
      "include_colab_link": true
    }
  },
  "nbformat": 4,
  "nbformat_minor": 0
}
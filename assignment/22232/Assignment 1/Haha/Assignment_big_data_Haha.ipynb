{
  "cells": [
    {
      "cell_type": "markdown",
      "metadata": {
        "id": "view-in-github",
        "colab_type": "text"
      },
      "source": [
        "<a href=\"https://colab.research.google.com/github/drshahizan/Python-big-data/blob/main/Assignment%201/Haha/Assignment_big_data_Haha.ipynb\" target=\"_parent\"><img src=\"https://colab.research.google.com/assets/colab-badge.svg\" alt=\"Open In Colab\"/></a>"
      ]
    },
    {
      "cell_type": "markdown",
      "metadata": {
        "id": "7F8DQl5dVJJ0"
      },
      "source": [
        "# Car Sales <a href=\"https://colab.research.google.com/drive/1iN2CEW3MFhPHZN0AR7xxTzdJjf9AGd3W?usp=sharing\" target=\"_parent\"><img src=\"https://colab.research.google.com/assets/colab-badge.svg\" alt=\"Open In Colab\"/></a>\n",
        "\n",
        "This project aims to investigate the car sales in Russia by region. The dataset consists of 17 columns and 1513200 rows. It is considered as big data and occupies the memory 310.82MB. The dataset is obtained from Kaggle which contains many kinds of dataset ranging from agriculture to education. We have selected this dataset because we like to know how the factors affect car sales. We will perform a series of steps like data processing, data cleaning and visualization on this dataset. Google Colab will be used in this project."
      ]
    },
    {
      "cell_type": "markdown",
      "source": [
        "**Group Members:**\n",
        "\n",
        "<table>\n",
        "  <tr>\n",
        "    <th>Name</th>\n",
        "    <th>Matric</th>\n",
        "  </tr>\n",
        "  <tr>\n",
        "    <th>Hong Pei Geok</th>\n",
        "    <th>A20EC0044</th>\n",
        "  </tr>\n",
        "  <tr>\n",
        "    <th>Vincent Boo Ee Khai</th>\n",
        "    <th>A20EC0231</th>\n",
        "  </tr>\n",
        "</table>"
      ],
      "metadata": {
        "id": "1pmNgPdGm74H"
      }
    },
    {
      "cell_type": "markdown",
      "metadata": {
        "id": "LxWzVndBVJJ1"
      },
      "source": [
        "## Downloading the Dataset\n",
        "\n",
        "*   We use car sales in Russia dataset.\n",
        "*   Contains information about features of cars sold in Russia. \n",
        "*   There are 1513200 samples and 17 feature variables in this dataset.\n"
      ]
    },
    {
      "cell_type": "markdown",
      "source": [
        "#### Attribute Information:\n",
        "| Acronym | Description |\n",
        "| --- | --- |\n",
        "| **brand** |    Car brand name |\n",
        "|**name** |   car model name |\n",
        "| **bodyType** | Car body type |\n",
        "| **color** |  Car color |\n",
        "| **fuelType** |  Fuel type |\n",
        "| **year** |    Year of manufacture of the car |\n",
        "| **mileage** |   Car mileage |\n",
        "| **transmission** |  Type of transmission of the machine |\n",
        "| **power** |    Horsepower |\n",
        "|**price** |   Price in Russian rubles |\n",
        "| **vehicleConfiguration** | Name of the car model configuration |\n",
        "| **engineName** |  Engine name |\n",
        "| **engineDisplacement** |  Engine capacity in liters |\n",
        "| **date** |    Date of publication of the announcement |\n",
        "| **location** |   City of announcement |\n",
        "| **link** |  Link to the announcement |\n",
        "| **parse_date** |  Date and time of receipt of information about the announcement |"
      ],
      "metadata": {
        "id": "lKBks0LLoY_o"
      }
    },
    {
      "cell_type": "markdown",
      "source": [
        "Let's begin by downloading the data, and listing the files within the dataset.<br>\n",
        "The data can be downloaded from [Kaggle](https://www.kaggle.com/datasets/ekibee/car-sales-information?select=region25_en.csv) The dataset is in zip file format and there is only one csv file inside this dataset. "
      ],
      "metadata": {
        "id": "bCvABSX-rIwb"
      }
    },
    {
      "cell_type": "markdown",
      "metadata": {
        "id": "XXnPmr-JVJJ3"
      },
      "source": [
        "The dataset has been downloaded and extracted."
      ]
    },
    {
      "cell_type": "markdown",
      "source": [
        "**Next step**<br>\n",
        "The dataset has been uploaded to google drive and it can be viewed or downloaded through this link [Dataset](https://drive.google.com/file/d/1DHSpOxU-Ss_a6d5ntHVZn0eg4W1SVBuz/view?usp=sharing)"
      ],
      "metadata": {
        "id": "uKmMdsfMvrg0"
      }
    },
    {
      "cell_type": "markdown",
      "metadata": {
        "id": "u0vucnGFVJJ5"
      },
      "source": [
        "## Data Preparation and Cleaning\n",
        "\n",
        "Data preparation is the important process to clean and transform the data. This step can help to remove missing data, outlier and duplicate value in order to produce quality data analysis results. It is also one of the important steps in handling big data before proceeding to analysis. \n",
        "\n"
      ]
    },
    {
      "cell_type": "markdown",
      "metadata": {
        "id": "ntFUV0ZDzWhY"
      },
      "source": [
        "**Import Data**<br>\n",
        "Mount the drive and read the data."
      ]
    },
    {
      "cell_type": "code",
      "execution_count": null,
      "metadata": {
        "colab": {
          "base_uri": "https://localhost:8080/"
        },
        "id": "df5R-2s3VJJ5",
        "outputId": "90701b3c-24c8-4e3d-e1e4-8896c657eb5f"
      },
      "outputs": [
        {
          "output_type": "stream",
          "name": "stdout",
          "text": [
            "Mounted at /content/drive\n"
          ]
        }
      ],
      "source": [
        "from google.colab import drive\n",
        "import pandas as pd\n",
        "import numpy as np\n",
        "\n",
        "drive.mount('/content/drive')"
      ]
    },
    {
      "cell_type": "code",
      "execution_count": null,
      "metadata": {
        "colab": {
          "base_uri": "https://localhost:8080/"
        },
        "id": "t26lvNVLVJJ5",
        "outputId": "750233bf-0471-4fe0-a73b-6d34cd7a43d3"
      },
      "outputs": [
        {
          "output_type": "stream",
          "name": "stdout",
          "text": [
            "/content/drive/My Drive/Colab Notebooks\n"
          ]
        }
      ],
      "source": [
        "%cd /content/drive/My Drive/Colab Notebooks"
      ]
    },
    {
      "cell_type": "code",
      "execution_count": null,
      "metadata": {
        "colab": {
          "base_uri": "https://localhost:8080/",
          "height": 443
        },
        "id": "KribcC_XVJJ5",
        "outputId": "9bb17c79-dd00-447e-9c85-cbc6f627de0e"
      },
      "outputs": [
        {
          "output_type": "execute_result",
          "data": {
            "text/plain": [
              "           brand        name           bodyType     color  fuelType    year  \\\n",
              "0           Fiat  124 Spider               open      blue  Gasoline     NaN   \n",
              "1            BMW          i3  hatchback 5 doors     black   Electro     NaN   \n",
              "2  Mercedes-Benz   GLE Coupe       jeep 5 doors  burgundy  Gasoline  2015.0   \n",
              "3  Mercedes-Benz     G-Class       jeep 5 doors     black  Gasoline  2002.0   \n",
              "4           Audi          Q7       jeep 5 doors     white  Gasoline     NaN   \n",
              "\n",
              "    mileage transmission  power    price         vehicleConfiguration  \\\n",
              "0    8000.0    Automatic    NaN  1830000                          NaN   \n",
              "1   12000.0    Automatic    NaN  1830000                          NaN   \n",
              "2   57000.0           AT  367.0  4600000  450 AMG 4MATIC Особая серия   \n",
              "3  200000.0           AT  296.0  2999999                        G 500   \n",
              "4   67000.0    Automatic  252.0  3300000                          NaN   \n",
              "\n",
              "       engineName engineDisplacement                 date     location  \\\n",
              "0             NaN                NaN  2022-08-20 00:00:00  Vladivostok   \n",
              "1             NaN                NaN  2022-08-20 00:00:00  Vladivostok   \n",
              "2  M 276 DE 30 AL            3.0 LTR  2022-08-20 00:00:00  Vladivostok   \n",
              "3      M 113 E 50            5.0 LTR  2022-08-20 00:00:00  Vladivostok   \n",
              "4             NaN                NaN  2022-08-20 00:00:00  Vladivostok   \n",
              "\n",
              "                                                link           parse_date  \n",
              "0  https://vladivostok.drom.ru/fiat/124_spider/47...  2022-08-20 04:00:00  \n",
              "1   https://vladivostok.drom.ru/bmw/i3/47958301.html  2022-08-20 04:00:00  \n",
              "2  https://vladivostok.drom.ru/mercedes-benz/gle_...  2022-08-20 04:00:00  \n",
              "3  https://vladivostok.drom.ru/mercedes-benz/g-cl...  2022-08-20 04:00:00  \n",
              "4  https://vladivostok.drom.ru/audi/q7/46498184.html  2022-08-20 04:00:00  "
            ],
            "text/html": [
              "\n",
              "  <div id=\"df-e857709a-2168-45f0-a9db-e1215cc616e7\">\n",
              "    <div class=\"colab-df-container\">\n",
              "      <div>\n",
              "<style scoped>\n",
              "    .dataframe tbody tr th:only-of-type {\n",
              "        vertical-align: middle;\n",
              "    }\n",
              "\n",
              "    .dataframe tbody tr th {\n",
              "        vertical-align: top;\n",
              "    }\n",
              "\n",
              "    .dataframe thead th {\n",
              "        text-align: right;\n",
              "    }\n",
              "</style>\n",
              "<table border=\"1\" class=\"dataframe\">\n",
              "  <thead>\n",
              "    <tr style=\"text-align: right;\">\n",
              "      <th></th>\n",
              "      <th>brand</th>\n",
              "      <th>name</th>\n",
              "      <th>bodyType</th>\n",
              "      <th>color</th>\n",
              "      <th>fuelType</th>\n",
              "      <th>year</th>\n",
              "      <th>mileage</th>\n",
              "      <th>transmission</th>\n",
              "      <th>power</th>\n",
              "      <th>price</th>\n",
              "      <th>vehicleConfiguration</th>\n",
              "      <th>engineName</th>\n",
              "      <th>engineDisplacement</th>\n",
              "      <th>date</th>\n",
              "      <th>location</th>\n",
              "      <th>link</th>\n",
              "      <th>parse_date</th>\n",
              "    </tr>\n",
              "  </thead>\n",
              "  <tbody>\n",
              "    <tr>\n",
              "      <th>0</th>\n",
              "      <td>Fiat</td>\n",
              "      <td>124 Spider</td>\n",
              "      <td>open</td>\n",
              "      <td>blue</td>\n",
              "      <td>Gasoline</td>\n",
              "      <td>NaN</td>\n",
              "      <td>8000.0</td>\n",
              "      <td>Automatic</td>\n",
              "      <td>NaN</td>\n",
              "      <td>1830000</td>\n",
              "      <td>NaN</td>\n",
              "      <td>NaN</td>\n",
              "      <td>NaN</td>\n",
              "      <td>2022-08-20 00:00:00</td>\n",
              "      <td>Vladivostok</td>\n",
              "      <td>https://vladivostok.drom.ru/fiat/124_spider/47...</td>\n",
              "      <td>2022-08-20 04:00:00</td>\n",
              "    </tr>\n",
              "    <tr>\n",
              "      <th>1</th>\n",
              "      <td>BMW</td>\n",
              "      <td>i3</td>\n",
              "      <td>hatchback 5 doors</td>\n",
              "      <td>black</td>\n",
              "      <td>Electro</td>\n",
              "      <td>NaN</td>\n",
              "      <td>12000.0</td>\n",
              "      <td>Automatic</td>\n",
              "      <td>NaN</td>\n",
              "      <td>1830000</td>\n",
              "      <td>NaN</td>\n",
              "      <td>NaN</td>\n",
              "      <td>NaN</td>\n",
              "      <td>2022-08-20 00:00:00</td>\n",
              "      <td>Vladivostok</td>\n",
              "      <td>https://vladivostok.drom.ru/bmw/i3/47958301.html</td>\n",
              "      <td>2022-08-20 04:00:00</td>\n",
              "    </tr>\n",
              "    <tr>\n",
              "      <th>2</th>\n",
              "      <td>Mercedes-Benz</td>\n",
              "      <td>GLE Coupe</td>\n",
              "      <td>jeep 5 doors</td>\n",
              "      <td>burgundy</td>\n",
              "      <td>Gasoline</td>\n",
              "      <td>2015.0</td>\n",
              "      <td>57000.0</td>\n",
              "      <td>AT</td>\n",
              "      <td>367.0</td>\n",
              "      <td>4600000</td>\n",
              "      <td>450 AMG 4MATIC Особая серия</td>\n",
              "      <td>M 276 DE 30 AL</td>\n",
              "      <td>3.0 LTR</td>\n",
              "      <td>2022-08-20 00:00:00</td>\n",
              "      <td>Vladivostok</td>\n",
              "      <td>https://vladivostok.drom.ru/mercedes-benz/gle_...</td>\n",
              "      <td>2022-08-20 04:00:00</td>\n",
              "    </tr>\n",
              "    <tr>\n",
              "      <th>3</th>\n",
              "      <td>Mercedes-Benz</td>\n",
              "      <td>G-Class</td>\n",
              "      <td>jeep 5 doors</td>\n",
              "      <td>black</td>\n",
              "      <td>Gasoline</td>\n",
              "      <td>2002.0</td>\n",
              "      <td>200000.0</td>\n",
              "      <td>AT</td>\n",
              "      <td>296.0</td>\n",
              "      <td>2999999</td>\n",
              "      <td>G 500</td>\n",
              "      <td>M 113 E 50</td>\n",
              "      <td>5.0 LTR</td>\n",
              "      <td>2022-08-20 00:00:00</td>\n",
              "      <td>Vladivostok</td>\n",
              "      <td>https://vladivostok.drom.ru/mercedes-benz/g-cl...</td>\n",
              "      <td>2022-08-20 04:00:00</td>\n",
              "    </tr>\n",
              "    <tr>\n",
              "      <th>4</th>\n",
              "      <td>Audi</td>\n",
              "      <td>Q7</td>\n",
              "      <td>jeep 5 doors</td>\n",
              "      <td>white</td>\n",
              "      <td>Gasoline</td>\n",
              "      <td>NaN</td>\n",
              "      <td>67000.0</td>\n",
              "      <td>Automatic</td>\n",
              "      <td>252.0</td>\n",
              "      <td>3300000</td>\n",
              "      <td>NaN</td>\n",
              "      <td>NaN</td>\n",
              "      <td>NaN</td>\n",
              "      <td>2022-08-20 00:00:00</td>\n",
              "      <td>Vladivostok</td>\n",
              "      <td>https://vladivostok.drom.ru/audi/q7/46498184.html</td>\n",
              "      <td>2022-08-20 04:00:00</td>\n",
              "    </tr>\n",
              "  </tbody>\n",
              "</table>\n",
              "</div>\n",
              "      <button class=\"colab-df-convert\" onclick=\"convertToInteractive('df-e857709a-2168-45f0-a9db-e1215cc616e7')\"\n",
              "              title=\"Convert this dataframe to an interactive table.\"\n",
              "              style=\"display:none;\">\n",
              "        \n",
              "  <svg xmlns=\"http://www.w3.org/2000/svg\" height=\"24px\"viewBox=\"0 0 24 24\"\n",
              "       width=\"24px\">\n",
              "    <path d=\"M0 0h24v24H0V0z\" fill=\"none\"/>\n",
              "    <path d=\"M18.56 5.44l.94 2.06.94-2.06 2.06-.94-2.06-.94-.94-2.06-.94 2.06-2.06.94zm-11 1L8.5 8.5l.94-2.06 2.06-.94-2.06-.94L8.5 2.5l-.94 2.06-2.06.94zm10 10l.94 2.06.94-2.06 2.06-.94-2.06-.94-.94-2.06-.94 2.06-2.06.94z\"/><path d=\"M17.41 7.96l-1.37-1.37c-.4-.4-.92-.59-1.43-.59-.52 0-1.04.2-1.43.59L10.3 9.45l-7.72 7.72c-.78.78-.78 2.05 0 2.83L4 21.41c.39.39.9.59 1.41.59.51 0 1.02-.2 1.41-.59l7.78-7.78 2.81-2.81c.8-.78.8-2.07 0-2.86zM5.41 20L4 18.59l7.72-7.72 1.47 1.35L5.41 20z\"/>\n",
              "  </svg>\n",
              "      </button>\n",
              "      \n",
              "  <style>\n",
              "    .colab-df-container {\n",
              "      display:flex;\n",
              "      flex-wrap:wrap;\n",
              "      gap: 12px;\n",
              "    }\n",
              "\n",
              "    .colab-df-convert {\n",
              "      background-color: #E8F0FE;\n",
              "      border: none;\n",
              "      border-radius: 50%;\n",
              "      cursor: pointer;\n",
              "      display: none;\n",
              "      fill: #1967D2;\n",
              "      height: 32px;\n",
              "      padding: 0 0 0 0;\n",
              "      width: 32px;\n",
              "    }\n",
              "\n",
              "    .colab-df-convert:hover {\n",
              "      background-color: #E2EBFA;\n",
              "      box-shadow: 0px 1px 2px rgba(60, 64, 67, 0.3), 0px 1px 3px 1px rgba(60, 64, 67, 0.15);\n",
              "      fill: #174EA6;\n",
              "    }\n",
              "\n",
              "    [theme=dark] .colab-df-convert {\n",
              "      background-color: #3B4455;\n",
              "      fill: #D2E3FC;\n",
              "    }\n",
              "\n",
              "    [theme=dark] .colab-df-convert:hover {\n",
              "      background-color: #434B5C;\n",
              "      box-shadow: 0px 1px 3px 1px rgba(0, 0, 0, 0.15);\n",
              "      filter: drop-shadow(0px 1px 2px rgba(0, 0, 0, 0.3));\n",
              "      fill: #FFFFFF;\n",
              "    }\n",
              "  </style>\n",
              "\n",
              "      <script>\n",
              "        const buttonEl =\n",
              "          document.querySelector('#df-e857709a-2168-45f0-a9db-e1215cc616e7 button.colab-df-convert');\n",
              "        buttonEl.style.display =\n",
              "          google.colab.kernel.accessAllowed ? 'block' : 'none';\n",
              "\n",
              "        async function convertToInteractive(key) {\n",
              "          const element = document.querySelector('#df-e857709a-2168-45f0-a9db-e1215cc616e7');\n",
              "          const dataTable =\n",
              "            await google.colab.kernel.invokeFunction('convertToInteractive',\n",
              "                                                     [key], {});\n",
              "          if (!dataTable) return;\n",
              "\n",
              "          const docLinkHtml = 'Like what you see? Visit the ' +\n",
              "            '<a target=\"_blank\" href=https://colab.research.google.com/notebooks/data_table.ipynb>data table notebook</a>'\n",
              "            + ' to learn more about interactive tables.';\n",
              "          element.innerHTML = '';\n",
              "          dataTable['output_type'] = 'display_data';\n",
              "          await google.colab.output.renderOutput(dataTable, element);\n",
              "          const docLink = document.createElement('div');\n",
              "          docLink.innerHTML = docLinkHtml;\n",
              "          element.appendChild(docLink);\n",
              "        }\n",
              "      </script>\n",
              "    </div>\n",
              "  </div>\n",
              "  "
            ]
          },
          "metadata": {},
          "execution_count": 3
        }
      ],
      "source": [
        "df = pd.read_csv('region25_en.csv')\n",
        "df.head()"
      ]
    },
    {
      "cell_type": "markdown",
      "metadata": {
        "id": "OVLouHxo2tN8"
      },
      "source": [
        "**Chunking**<br>\n",
        "Split the data into a number of chunks. "
      ]
    },
    {
      "cell_type": "code",
      "execution_count": null,
      "metadata": {
        "colab": {
          "base_uri": "https://localhost:8080/"
        },
        "id": "yBxDax1KVJJ6",
        "outputId": "58355bc2-9e78-4e75-a55e-5e16735c3bdf"
      },
      "outputs": [
        {
          "output_type": "stream",
          "name": "stdout",
          "text": [
            "CPU times: user 4.57 s, sys: 433 ms, total: 5 s\n",
            "Wall time: 5.38 s\n"
          ]
        },
        {
          "output_type": "execute_result",
          "data": {
            "text/plain": [
              "1513200"
            ]
          },
          "metadata": {},
          "execution_count": 4
        }
      ],
      "source": [
        "%%time\n",
        "df = pd.read_csv('region25_en.csv')\n",
        "len(df)"
      ]
    },
    {
      "cell_type": "code",
      "execution_count": null,
      "metadata": {
        "colab": {
          "base_uri": "https://localhost:8080/"
        },
        "id": "ey4vfXI-3F-1",
        "outputId": "26b189fe-c46c-4757-fecc-0f37d32ffd5d"
      },
      "outputs": [
        {
          "output_type": "stream",
          "name": "stdout",
          "text": [
            "CPU times: user 1.09 ms, sys: 34 ms, total: 35.1 ms\n",
            "Wall time: 36.4 ms\n"
          ]
        }
      ],
      "source": [
        "%%time\n",
        "chunks = pd.read_csv('region25_en.csv', iterator=True, chunksize=1000)"
      ]
    },
    {
      "cell_type": "code",
      "execution_count": null,
      "metadata": {
        "colab": {
          "base_uri": "https://localhost:8080/"
        },
        "id": "pBaG5oCN3Luf",
        "outputId": "7b49da40-c615-400c-a6fe-9f1c9b090316"
      },
      "outputs": [
        {
          "output_type": "execute_result",
          "data": {
            "text/plain": [
              "1513200"
            ]
          },
          "metadata": {},
          "execution_count": 6
        }
      ],
      "source": [
        "length = 0\n",
        "for chunk in chunks:\n",
        "    length += len(chunk)\n",
        "length"
      ]
    },
    {
      "cell_type": "markdown",
      "metadata": {
        "id": "MDnBpjk7zoX9"
      },
      "source": [
        "**Remove unwanted columns**<br>\n",
        "Since not all the columns will be used, we will remove unwanted columns in order to save memory usage. "
      ]
    },
    {
      "cell_type": "code",
      "execution_count": null,
      "metadata": {
        "colab": {
          "base_uri": "https://localhost:8080/"
        },
        "id": "lWRl47NIxMt0",
        "outputId": "6bff7e7f-a06d-4652-b86c-f62e4cc74be1"
      },
      "outputs": [
        {
          "output_type": "stream",
          "name": "stdout",
          "text": [
            "<class 'pandas.core.frame.DataFrame'>\n",
            "RangeIndex: 1513200 entries, 0 to 1513199\n",
            "Columns: 17 entries, brand to parse_date\n",
            "dtypes: float64(3), int64(1), object(13)\n",
            "memory usage: 1.3 GB\n"
          ]
        }
      ],
      "source": [
        "df = pd.read_csv('region25_en.csv')\n",
        "df.info(verbose=False, memory_usage='deep')"
      ]
    },
    {
      "cell_type": "code",
      "execution_count": null,
      "metadata": {
        "colab": {
          "base_uri": "https://localhost:8080/"
        },
        "id": "1jKQqcKSxi1j",
        "outputId": "30e299d4-9156-4515-cd83-3891a41c2b0f"
      },
      "outputs": [
        {
          "output_type": "execute_result",
          "data": {
            "text/plain": [
              "array(['brand', 'name', 'bodyType', 'color', 'fuelType', 'year',\n",
              "       'mileage', 'transmission', 'power', 'price',\n",
              "       'vehicleConfiguration', 'engineName', 'engineDisplacement', 'date',\n",
              "       'location', 'link', 'parse_date'], dtype=object)"
            ]
          },
          "metadata": {},
          "execution_count": 8
        }
      ],
      "source": [
        "cols = df.columns.values\n",
        "cols"
      ]
    },
    {
      "cell_type": "code",
      "execution_count": null,
      "metadata": {
        "id": "yKZXjsUixmPr"
      },
      "outputs": [],
      "source": [
        "req_cols = ['brand', 'name', 'bodyType', 'color', 'fuelType', 'year',\n",
        "       'mileage', 'transmission', 'power', 'price',\n",
        "       'vehicleConfiguration', 'engineName', 'engineDisplacement',\n",
        "       'location']"
      ]
    },
    {
      "cell_type": "code",
      "execution_count": null,
      "metadata": {
        "colab": {
          "base_uri": "https://localhost:8080/",
          "height": 319
        },
        "id": "OVOtoXL_zE1z",
        "outputId": "377e8e3b-42e6-4685-cbea-81f648e6110d"
      },
      "outputs": [
        {
          "output_type": "execute_result",
          "data": {
            "text/plain": [
              "           brand        name           bodyType     color  fuelType    year  \\\n",
              "0           Fiat  124 Spider               open      blue  Gasoline     NaN   \n",
              "1            BMW          i3  hatchback 5 doors     black   Electro     NaN   \n",
              "2  Mercedes-Benz   GLE Coupe       jeep 5 doors  burgundy  Gasoline  2015.0   \n",
              "3  Mercedes-Benz     G-Class       jeep 5 doors     black  Gasoline  2002.0   \n",
              "4           Audi          Q7       jeep 5 doors     white  Gasoline     NaN   \n",
              "\n",
              "    mileage transmission  power    price         vehicleConfiguration  \\\n",
              "0    8000.0    Automatic    NaN  1830000                          NaN   \n",
              "1   12000.0    Automatic    NaN  1830000                          NaN   \n",
              "2   57000.0           AT  367.0  4600000  450 AMG 4MATIC Особая серия   \n",
              "3  200000.0           AT  296.0  2999999                        G 500   \n",
              "4   67000.0    Automatic  252.0  3300000                          NaN   \n",
              "\n",
              "       engineName engineDisplacement     location  \n",
              "0             NaN                NaN  Vladivostok  \n",
              "1             NaN                NaN  Vladivostok  \n",
              "2  M 276 DE 30 AL            3.0 LTR  Vladivostok  \n",
              "3      M 113 E 50            5.0 LTR  Vladivostok  \n",
              "4             NaN                NaN  Vladivostok  "
            ],
            "text/html": [
              "\n",
              "  <div id=\"df-9e0a765c-7301-4730-87e7-ad70e8ca3e80\">\n",
              "    <div class=\"colab-df-container\">\n",
              "      <div>\n",
              "<style scoped>\n",
              "    .dataframe tbody tr th:only-of-type {\n",
              "        vertical-align: middle;\n",
              "    }\n",
              "\n",
              "    .dataframe tbody tr th {\n",
              "        vertical-align: top;\n",
              "    }\n",
              "\n",
              "    .dataframe thead th {\n",
              "        text-align: right;\n",
              "    }\n",
              "</style>\n",
              "<table border=\"1\" class=\"dataframe\">\n",
              "  <thead>\n",
              "    <tr style=\"text-align: right;\">\n",
              "      <th></th>\n",
              "      <th>brand</th>\n",
              "      <th>name</th>\n",
              "      <th>bodyType</th>\n",
              "      <th>color</th>\n",
              "      <th>fuelType</th>\n",
              "      <th>year</th>\n",
              "      <th>mileage</th>\n",
              "      <th>transmission</th>\n",
              "      <th>power</th>\n",
              "      <th>price</th>\n",
              "      <th>vehicleConfiguration</th>\n",
              "      <th>engineName</th>\n",
              "      <th>engineDisplacement</th>\n",
              "      <th>location</th>\n",
              "    </tr>\n",
              "  </thead>\n",
              "  <tbody>\n",
              "    <tr>\n",
              "      <th>0</th>\n",
              "      <td>Fiat</td>\n",
              "      <td>124 Spider</td>\n",
              "      <td>open</td>\n",
              "      <td>blue</td>\n",
              "      <td>Gasoline</td>\n",
              "      <td>NaN</td>\n",
              "      <td>8000.0</td>\n",
              "      <td>Automatic</td>\n",
              "      <td>NaN</td>\n",
              "      <td>1830000</td>\n",
              "      <td>NaN</td>\n",
              "      <td>NaN</td>\n",
              "      <td>NaN</td>\n",
              "      <td>Vladivostok</td>\n",
              "    </tr>\n",
              "    <tr>\n",
              "      <th>1</th>\n",
              "      <td>BMW</td>\n",
              "      <td>i3</td>\n",
              "      <td>hatchback 5 doors</td>\n",
              "      <td>black</td>\n",
              "      <td>Electro</td>\n",
              "      <td>NaN</td>\n",
              "      <td>12000.0</td>\n",
              "      <td>Automatic</td>\n",
              "      <td>NaN</td>\n",
              "      <td>1830000</td>\n",
              "      <td>NaN</td>\n",
              "      <td>NaN</td>\n",
              "      <td>NaN</td>\n",
              "      <td>Vladivostok</td>\n",
              "    </tr>\n",
              "    <tr>\n",
              "      <th>2</th>\n",
              "      <td>Mercedes-Benz</td>\n",
              "      <td>GLE Coupe</td>\n",
              "      <td>jeep 5 doors</td>\n",
              "      <td>burgundy</td>\n",
              "      <td>Gasoline</td>\n",
              "      <td>2015.0</td>\n",
              "      <td>57000.0</td>\n",
              "      <td>AT</td>\n",
              "      <td>367.0</td>\n",
              "      <td>4600000</td>\n",
              "      <td>450 AMG 4MATIC Особая серия</td>\n",
              "      <td>M 276 DE 30 AL</td>\n",
              "      <td>3.0 LTR</td>\n",
              "      <td>Vladivostok</td>\n",
              "    </tr>\n",
              "    <tr>\n",
              "      <th>3</th>\n",
              "      <td>Mercedes-Benz</td>\n",
              "      <td>G-Class</td>\n",
              "      <td>jeep 5 doors</td>\n",
              "      <td>black</td>\n",
              "      <td>Gasoline</td>\n",
              "      <td>2002.0</td>\n",
              "      <td>200000.0</td>\n",
              "      <td>AT</td>\n",
              "      <td>296.0</td>\n",
              "      <td>2999999</td>\n",
              "      <td>G 500</td>\n",
              "      <td>M 113 E 50</td>\n",
              "      <td>5.0 LTR</td>\n",
              "      <td>Vladivostok</td>\n",
              "    </tr>\n",
              "    <tr>\n",
              "      <th>4</th>\n",
              "      <td>Audi</td>\n",
              "      <td>Q7</td>\n",
              "      <td>jeep 5 doors</td>\n",
              "      <td>white</td>\n",
              "      <td>Gasoline</td>\n",
              "      <td>NaN</td>\n",
              "      <td>67000.0</td>\n",
              "      <td>Automatic</td>\n",
              "      <td>252.0</td>\n",
              "      <td>3300000</td>\n",
              "      <td>NaN</td>\n",
              "      <td>NaN</td>\n",
              "      <td>NaN</td>\n",
              "      <td>Vladivostok</td>\n",
              "    </tr>\n",
              "  </tbody>\n",
              "</table>\n",
              "</div>\n",
              "      <button class=\"colab-df-convert\" onclick=\"convertToInteractive('df-9e0a765c-7301-4730-87e7-ad70e8ca3e80')\"\n",
              "              title=\"Convert this dataframe to an interactive table.\"\n",
              "              style=\"display:none;\">\n",
              "        \n",
              "  <svg xmlns=\"http://www.w3.org/2000/svg\" height=\"24px\"viewBox=\"0 0 24 24\"\n",
              "       width=\"24px\">\n",
              "    <path d=\"M0 0h24v24H0V0z\" fill=\"none\"/>\n",
              "    <path d=\"M18.56 5.44l.94 2.06.94-2.06 2.06-.94-2.06-.94-.94-2.06-.94 2.06-2.06.94zm-11 1L8.5 8.5l.94-2.06 2.06-.94-2.06-.94L8.5 2.5l-.94 2.06-2.06.94zm10 10l.94 2.06.94-2.06 2.06-.94-2.06-.94-.94-2.06-.94 2.06-2.06.94z\"/><path d=\"M17.41 7.96l-1.37-1.37c-.4-.4-.92-.59-1.43-.59-.52 0-1.04.2-1.43.59L10.3 9.45l-7.72 7.72c-.78.78-.78 2.05 0 2.83L4 21.41c.39.39.9.59 1.41.59.51 0 1.02-.2 1.41-.59l7.78-7.78 2.81-2.81c.8-.78.8-2.07 0-2.86zM5.41 20L4 18.59l7.72-7.72 1.47 1.35L5.41 20z\"/>\n",
              "  </svg>\n",
              "      </button>\n",
              "      \n",
              "  <style>\n",
              "    .colab-df-container {\n",
              "      display:flex;\n",
              "      flex-wrap:wrap;\n",
              "      gap: 12px;\n",
              "    }\n",
              "\n",
              "    .colab-df-convert {\n",
              "      background-color: #E8F0FE;\n",
              "      border: none;\n",
              "      border-radius: 50%;\n",
              "      cursor: pointer;\n",
              "      display: none;\n",
              "      fill: #1967D2;\n",
              "      height: 32px;\n",
              "      padding: 0 0 0 0;\n",
              "      width: 32px;\n",
              "    }\n",
              "\n",
              "    .colab-df-convert:hover {\n",
              "      background-color: #E2EBFA;\n",
              "      box-shadow: 0px 1px 2px rgba(60, 64, 67, 0.3), 0px 1px 3px 1px rgba(60, 64, 67, 0.15);\n",
              "      fill: #174EA6;\n",
              "    }\n",
              "\n",
              "    [theme=dark] .colab-df-convert {\n",
              "      background-color: #3B4455;\n",
              "      fill: #D2E3FC;\n",
              "    }\n",
              "\n",
              "    [theme=dark] .colab-df-convert:hover {\n",
              "      background-color: #434B5C;\n",
              "      box-shadow: 0px 1px 3px 1px rgba(0, 0, 0, 0.15);\n",
              "      filter: drop-shadow(0px 1px 2px rgba(0, 0, 0, 0.3));\n",
              "      fill: #FFFFFF;\n",
              "    }\n",
              "  </style>\n",
              "\n",
              "      <script>\n",
              "        const buttonEl =\n",
              "          document.querySelector('#df-9e0a765c-7301-4730-87e7-ad70e8ca3e80 button.colab-df-convert');\n",
              "        buttonEl.style.display =\n",
              "          google.colab.kernel.accessAllowed ? 'block' : 'none';\n",
              "\n",
              "        async function convertToInteractive(key) {\n",
              "          const element = document.querySelector('#df-9e0a765c-7301-4730-87e7-ad70e8ca3e80');\n",
              "          const dataTable =\n",
              "            await google.colab.kernel.invokeFunction('convertToInteractive',\n",
              "                                                     [key], {});\n",
              "          if (!dataTable) return;\n",
              "\n",
              "          const docLinkHtml = 'Like what you see? Visit the ' +\n",
              "            '<a target=\"_blank\" href=https://colab.research.google.com/notebooks/data_table.ipynb>data table notebook</a>'\n",
              "            + ' to learn more about interactive tables.';\n",
              "          element.innerHTML = '';\n",
              "          dataTable['output_type'] = 'display_data';\n",
              "          await google.colab.output.renderOutput(dataTable, element);\n",
              "          const docLink = document.createElement('div');\n",
              "          docLink.innerHTML = docLinkHtml;\n",
              "          element.appendChild(docLink);\n",
              "        }\n",
              "      </script>\n",
              "    </div>\n",
              "  </div>\n",
              "  "
            ]
          },
          "metadata": {},
          "execution_count": 10
        }
      ],
      "source": [
        "df = pd.read_csv('region25_en.csv', usecols=req_cols)\n",
        "df.head()"
      ]
    },
    {
      "cell_type": "code",
      "execution_count": null,
      "metadata": {
        "colab": {
          "base_uri": "https://localhost:8080/"
        },
        "id": "7rGUYy26zPc2",
        "outputId": "02470a95-b939-4202-cd07-1f4186fafaeb"
      },
      "outputs": [
        {
          "output_type": "stream",
          "name": "stdout",
          "text": [
            "<class 'pandas.core.frame.DataFrame'>\n",
            "RangeIndex: 1513200 entries, 0 to 1513199\n",
            "Columns: 14 entries, brand to location\n",
            "dtypes: float64(3), int64(1), object(10)\n",
            "memory usage: 940.6 MB\n"
          ]
        }
      ],
      "source": [
        "df.info(verbose=False, memory_usage='deep')"
      ]
    },
    {
      "cell_type": "markdown",
      "metadata": {
        "id": "GfqbIBvu6lWb"
      },
      "source": [
        "**Remove Null Values**<br>\n",
        "Null values will affect the performance and accuracy of data analytic results. So, it will be removed."
      ]
    },
    {
      "cell_type": "code",
      "execution_count": null,
      "metadata": {
        "colab": {
          "base_uri": "https://localhost:8080/"
        },
        "id": "MRbilOBW30Bo",
        "outputId": "3cffcb2f-3b98-484c-cc48-0d681ddb06fb"
      },
      "outputs": [
        {
          "output_type": "stream",
          "name": "stdout",
          "text": [
            "brand                        0\n",
            "name                         0\n",
            "bodyType                     0\n",
            "color                   109734\n",
            "fuelType                  3560\n",
            "year                    410974\n",
            "mileage                  14480\n",
            "transmission              3065\n",
            "power                    20887\n",
            "price                        0\n",
            "vehicleConfiguration    410974\n",
            "engineName              412058\n",
            "engineDisplacement      420765\n",
            "location                     0\n",
            "dtype: int64\n"
          ]
        }
      ],
      "source": [
        "print(df.isnull().sum())"
      ]
    },
    {
      "cell_type": "code",
      "execution_count": null,
      "metadata": {
        "id": "taUg_JvA6oFP"
      },
      "outputs": [],
      "source": [
        "df = df.dropna()"
      ]
    },
    {
      "cell_type": "code",
      "execution_count": null,
      "metadata": {
        "colab": {
          "base_uri": "https://localhost:8080/"
        },
        "id": "MCSFDrk56rcG",
        "outputId": "cc84dd47-dce0-462f-c1c6-c419673905a3"
      },
      "outputs": [
        {
          "output_type": "execute_result",
          "data": {
            "text/plain": [
              "(1002096, 14)"
            ]
          },
          "metadata": {},
          "execution_count": 14
        }
      ],
      "source": [
        "df.shape"
      ]
    },
    {
      "cell_type": "markdown",
      "metadata": {
        "id": "KHbUN0L2z3xg"
      },
      "source": [
        "**Use efficient data types**<br>\n",
        "The default data types do not use the memory effectively. We will change the data types to optimize memory usage. "
      ]
    },
    {
      "cell_type": "code",
      "execution_count": null,
      "metadata": {
        "colab": {
          "base_uri": "https://localhost:8080/",
          "height": 300
        },
        "id": "4sYrCQjbz7Ct",
        "outputId": "6f2be5c3-abe3-4b1f-f80c-c04b3baf902c"
      },
      "outputs": [
        {
          "output_type": "execute_result",
          "data": {
            "text/plain": [
              "               year       mileage         power         price\n",
              "count  1.002096e+06  1.002096e+06  1.002096e+06  1.002096e+06\n",
              "mean   2.010003e+03  1.293117e+05  1.503345e+02  1.480023e+06\n",
              "std    7.647055e+00  8.273943e+04  7.318643e+01  1.681752e+06\n",
              "min    1.943000e+03  1.000000e+03  3.000000e+01  2.000000e+04\n",
              "25%    2.006000e+03  6.900000e+04  1.000000e+02  5.600000e+05\n",
              "50%    2.012000e+03  1.200000e+05  1.360000e+02  9.450000e+05\n",
              "75%    2.016000e+03  1.800000e+05  1.770000e+02  1.800000e+06\n",
              "max    2.022000e+03  1.000000e+06  6.250000e+02  4.150000e+07"
            ],
            "text/html": [
              "\n",
              "  <div id=\"df-fb98e274-7164-45ff-aea2-f2b31e637a41\">\n",
              "    <div class=\"colab-df-container\">\n",
              "      <div>\n",
              "<style scoped>\n",
              "    .dataframe tbody tr th:only-of-type {\n",
              "        vertical-align: middle;\n",
              "    }\n",
              "\n",
              "    .dataframe tbody tr th {\n",
              "        vertical-align: top;\n",
              "    }\n",
              "\n",
              "    .dataframe thead th {\n",
              "        text-align: right;\n",
              "    }\n",
              "</style>\n",
              "<table border=\"1\" class=\"dataframe\">\n",
              "  <thead>\n",
              "    <tr style=\"text-align: right;\">\n",
              "      <th></th>\n",
              "      <th>year</th>\n",
              "      <th>mileage</th>\n",
              "      <th>power</th>\n",
              "      <th>price</th>\n",
              "    </tr>\n",
              "  </thead>\n",
              "  <tbody>\n",
              "    <tr>\n",
              "      <th>count</th>\n",
              "      <td>1.002096e+06</td>\n",
              "      <td>1.002096e+06</td>\n",
              "      <td>1.002096e+06</td>\n",
              "      <td>1.002096e+06</td>\n",
              "    </tr>\n",
              "    <tr>\n",
              "      <th>mean</th>\n",
              "      <td>2.010003e+03</td>\n",
              "      <td>1.293117e+05</td>\n",
              "      <td>1.503345e+02</td>\n",
              "      <td>1.480023e+06</td>\n",
              "    </tr>\n",
              "    <tr>\n",
              "      <th>std</th>\n",
              "      <td>7.647055e+00</td>\n",
              "      <td>8.273943e+04</td>\n",
              "      <td>7.318643e+01</td>\n",
              "      <td>1.681752e+06</td>\n",
              "    </tr>\n",
              "    <tr>\n",
              "      <th>min</th>\n",
              "      <td>1.943000e+03</td>\n",
              "      <td>1.000000e+03</td>\n",
              "      <td>3.000000e+01</td>\n",
              "      <td>2.000000e+04</td>\n",
              "    </tr>\n",
              "    <tr>\n",
              "      <th>25%</th>\n",
              "      <td>2.006000e+03</td>\n",
              "      <td>6.900000e+04</td>\n",
              "      <td>1.000000e+02</td>\n",
              "      <td>5.600000e+05</td>\n",
              "    </tr>\n",
              "    <tr>\n",
              "      <th>50%</th>\n",
              "      <td>2.012000e+03</td>\n",
              "      <td>1.200000e+05</td>\n",
              "      <td>1.360000e+02</td>\n",
              "      <td>9.450000e+05</td>\n",
              "    </tr>\n",
              "    <tr>\n",
              "      <th>75%</th>\n",
              "      <td>2.016000e+03</td>\n",
              "      <td>1.800000e+05</td>\n",
              "      <td>1.770000e+02</td>\n",
              "      <td>1.800000e+06</td>\n",
              "    </tr>\n",
              "    <tr>\n",
              "      <th>max</th>\n",
              "      <td>2.022000e+03</td>\n",
              "      <td>1.000000e+06</td>\n",
              "      <td>6.250000e+02</td>\n",
              "      <td>4.150000e+07</td>\n",
              "    </tr>\n",
              "  </tbody>\n",
              "</table>\n",
              "</div>\n",
              "      <button class=\"colab-df-convert\" onclick=\"convertToInteractive('df-fb98e274-7164-45ff-aea2-f2b31e637a41')\"\n",
              "              title=\"Convert this dataframe to an interactive table.\"\n",
              "              style=\"display:none;\">\n",
              "        \n",
              "  <svg xmlns=\"http://www.w3.org/2000/svg\" height=\"24px\"viewBox=\"0 0 24 24\"\n",
              "       width=\"24px\">\n",
              "    <path d=\"M0 0h24v24H0V0z\" fill=\"none\"/>\n",
              "    <path d=\"M18.56 5.44l.94 2.06.94-2.06 2.06-.94-2.06-.94-.94-2.06-.94 2.06-2.06.94zm-11 1L8.5 8.5l.94-2.06 2.06-.94-2.06-.94L8.5 2.5l-.94 2.06-2.06.94zm10 10l.94 2.06.94-2.06 2.06-.94-2.06-.94-.94-2.06-.94 2.06-2.06.94z\"/><path d=\"M17.41 7.96l-1.37-1.37c-.4-.4-.92-.59-1.43-.59-.52 0-1.04.2-1.43.59L10.3 9.45l-7.72 7.72c-.78.78-.78 2.05 0 2.83L4 21.41c.39.39.9.59 1.41.59.51 0 1.02-.2 1.41-.59l7.78-7.78 2.81-2.81c.8-.78.8-2.07 0-2.86zM5.41 20L4 18.59l7.72-7.72 1.47 1.35L5.41 20z\"/>\n",
              "  </svg>\n",
              "      </button>\n",
              "      \n",
              "  <style>\n",
              "    .colab-df-container {\n",
              "      display:flex;\n",
              "      flex-wrap:wrap;\n",
              "      gap: 12px;\n",
              "    }\n",
              "\n",
              "    .colab-df-convert {\n",
              "      background-color: #E8F0FE;\n",
              "      border: none;\n",
              "      border-radius: 50%;\n",
              "      cursor: pointer;\n",
              "      display: none;\n",
              "      fill: #1967D2;\n",
              "      height: 32px;\n",
              "      padding: 0 0 0 0;\n",
              "      width: 32px;\n",
              "    }\n",
              "\n",
              "    .colab-df-convert:hover {\n",
              "      background-color: #E2EBFA;\n",
              "      box-shadow: 0px 1px 2px rgba(60, 64, 67, 0.3), 0px 1px 3px 1px rgba(60, 64, 67, 0.15);\n",
              "      fill: #174EA6;\n",
              "    }\n",
              "\n",
              "    [theme=dark] .colab-df-convert {\n",
              "      background-color: #3B4455;\n",
              "      fill: #D2E3FC;\n",
              "    }\n",
              "\n",
              "    [theme=dark] .colab-df-convert:hover {\n",
              "      background-color: #434B5C;\n",
              "      box-shadow: 0px 1px 3px 1px rgba(0, 0, 0, 0.15);\n",
              "      filter: drop-shadow(0px 1px 2px rgba(0, 0, 0, 0.3));\n",
              "      fill: #FFFFFF;\n",
              "    }\n",
              "  </style>\n",
              "\n",
              "      <script>\n",
              "        const buttonEl =\n",
              "          document.querySelector('#df-fb98e274-7164-45ff-aea2-f2b31e637a41 button.colab-df-convert');\n",
              "        buttonEl.style.display =\n",
              "          google.colab.kernel.accessAllowed ? 'block' : 'none';\n",
              "\n",
              "        async function convertToInteractive(key) {\n",
              "          const element = document.querySelector('#df-fb98e274-7164-45ff-aea2-f2b31e637a41');\n",
              "          const dataTable =\n",
              "            await google.colab.kernel.invokeFunction('convertToInteractive',\n",
              "                                                     [key], {});\n",
              "          if (!dataTable) return;\n",
              "\n",
              "          const docLinkHtml = 'Like what you see? Visit the ' +\n",
              "            '<a target=\"_blank\" href=https://colab.research.google.com/notebooks/data_table.ipynb>data table notebook</a>'\n",
              "            + ' to learn more about interactive tables.';\n",
              "          element.innerHTML = '';\n",
              "          dataTable['output_type'] = 'display_data';\n",
              "          await google.colab.output.renderOutput(dataTable, element);\n",
              "          const docLink = document.createElement('div');\n",
              "          docLink.innerHTML = docLinkHtml;\n",
              "          element.appendChild(docLink);\n",
              "        }\n",
              "      </script>\n",
              "    </div>\n",
              "  </div>\n",
              "  "
            ]
          },
          "metadata": {},
          "execution_count": 15
        }
      ],
      "source": [
        "df.describe()"
      ]
    },
    {
      "cell_type": "code",
      "execution_count": null,
      "metadata": {
        "colab": {
          "base_uri": "https://localhost:8080/"
        },
        "id": "7mUpY22aVJJ6",
        "outputId": "1651e826-6ec3-43f2-eb24-dfcdfe5fbb25"
      },
      "outputs": [
        {
          "output_type": "stream",
          "name": "stdout",
          "text": [
            "<class 'pandas.core.frame.DataFrame'>\n",
            "Int64Index: 1002096 entries, 2 to 1513199\n",
            "Data columns (total 14 columns):\n",
            " #   Column                Non-Null Count    Dtype  \n",
            "---  ------                --------------    -----  \n",
            " 0   brand                 1002096 non-null  object \n",
            " 1   name                  1002096 non-null  object \n",
            " 2   bodyType              1002096 non-null  object \n",
            " 3   color                 1002096 non-null  object \n",
            " 4   fuelType              1002096 non-null  object \n",
            " 5   year                  1002096 non-null  float64\n",
            " 6   mileage               1002096 non-null  float64\n",
            " 7   transmission          1002096 non-null  object \n",
            " 8   power                 1002096 non-null  float64\n",
            " 9   price                 1002096 non-null  int64  \n",
            " 10  vehicleConfiguration  1002096 non-null  object \n",
            " 11  engineName            1002096 non-null  object \n",
            " 12  engineDisplacement    1002096 non-null  object \n",
            " 13  location              1002096 non-null  object \n",
            "dtypes: float64(3), int64(1), object(10)\n",
            "memory usage: 114.7+ MB\n"
          ]
        }
      ],
      "source": [
        "df.info()"
      ]
    },
    {
      "cell_type": "code",
      "source": [
        "df = df.astype({'year': 'int'})"
      ],
      "metadata": {
        "id": "Spqa0XLibuZX"
      },
      "execution_count": null,
      "outputs": []
    },
    {
      "cell_type": "code",
      "execution_count": null,
      "metadata": {
        "id": "L1aZl7Pa0QUE"
      },
      "outputs": [],
      "source": [
        "def reduce_mem_usage(df):\n",
        "    start_mem = df.memory_usage().sum() / 1024**3\n",
        "    print('Memory usage of dataframe is {:.2f} MB'.format(start_mem))\n",
        "    \n",
        "    for col in df.columns:\n",
        "        col_type = df[col].dtype\n",
        "        \n",
        "        if col_type != object:\n",
        "            c_min = df[col].min()\n",
        "            c_max = df[col].max()\n",
        "            if str(col_type)[:3] == 'int':\n",
        "                if c_min > np.iinfo(np.int8).min and c_max < np.iinfo(np.int8).max:\n",
        "                    df[col] = df[col].astype(np.int8)\n",
        "                elif c_min > np.iinfo(np.int16).min and c_max < np.iinfo(np.int16).max:\n",
        "                    df[col] = df[col].astype(np.int16)\n",
        "                elif c_min > np.iinfo(np.int32).min and c_max < np.iinfo(np.int32).max:\n",
        "                    df[col] = df[col].astype(np.int32)\n",
        "                elif c_min > np.iinfo(np.int64).min and c_max < np.iinfo(np.int64).max:\n",
        "                    df[col] = df[col].astype(np.int64)  \n",
        "            else:\n",
        "                if c_min > np.finfo(np.float16).min and c_max < np.finfo(np.float16).max:\n",
        "                    df[col] = df[col].astype(np.float16)\n",
        "                elif c_min > np.finfo(np.float32).min and c_max < np.finfo(np.float32).max:\n",
        "                    df[col] = df[col].astype(np.float32)\n",
        "                else:\n",
        "                    df[col] = df[col].astype(np.float64)\n",
        "        else:\n",
        "            df[col] = df[col].astype('category')\n",
        "\n",
        "    end_mem = df.memory_usage().sum() / 1024**3\n",
        "    print('Memory usage after optimization is: {:.2f} MB'.format(end_mem))\n",
        "    print('Decreased by {:.1f}%'.format(100 * (start_mem - end_mem) / start_mem))\n",
        "    \n",
        "    return df"
      ]
    },
    {
      "cell_type": "code",
      "execution_count": null,
      "metadata": {
        "colab": {
          "base_uri": "https://localhost:8080/"
        },
        "id": "uGW83Dwu0f88",
        "outputId": "302237d4-15b5-454d-8ba7-694960a6bdcf"
      },
      "outputs": [
        {
          "output_type": "stream",
          "name": "stdout",
          "text": [
            "Memory usage of dataframe is 0.11 MB\n",
            "Memory usage after optimization is: 0.03 MB\n",
            "Decreased by 72.2%\n"
          ]
        }
      ],
      "source": [
        "df = reduce_mem_usage(df)"
      ]
    },
    {
      "cell_type": "code",
      "execution_count": null,
      "metadata": {
        "colab": {
          "base_uri": "https://localhost:8080/"
        },
        "id": "1Et9QhCbVJJ6",
        "outputId": "4aa8c995-d3ea-4ce4-d421-3fbcb77892f8"
      },
      "outputs": [
        {
          "output_type": "execute_result",
          "data": {
            "text/plain": [
              "brand                   category\n",
              "name                    category\n",
              "bodyType                category\n",
              "color                   category\n",
              "fuelType                category\n",
              "year                       int16\n",
              "mileage                  float32\n",
              "transmission            category\n",
              "power                    float16\n",
              "price                      int32\n",
              "vehicleConfiguration    category\n",
              "engineName              category\n",
              "engineDisplacement      category\n",
              "location                category\n",
              "dtype: object"
            ]
          },
          "metadata": {},
          "execution_count": 20
        }
      ],
      "source": [
        "df.dtypes"
      ]
    },
    {
      "cell_type": "markdown",
      "metadata": {
        "id": "_0m5LkbVVJJ6"
      },
      "source": [
        "## Exploratory Analysis and Visualization\n",
        "\n",
        "In this section, we will do some analysis about the data and also represent the data by visualization in order to gain some insight from the data. \n",
        "\n"
      ]
    },
    {
      "cell_type": "markdown",
      "metadata": {
        "id": "Fv4NPHasVJJ7"
      },
      "source": [
        "First, we import all the required libraries from Python. "
      ]
    },
    {
      "cell_type": "code",
      "execution_count": null,
      "metadata": {
        "id": "6nndKF_U7xJV"
      },
      "outputs": [],
      "source": [
        "import seaborn as sns\n",
        "import matplotlib\n",
        "import matplotlib.pyplot as plt\n",
        "%matplotlib inline\n",
        "\n",
        "sns.set_style('darkgrid')\n",
        "matplotlib.rcParams['font.size'] = 14\n",
        "matplotlib.rcParams['figure.figsize'] = (9, 5)\n",
        "matplotlib.rcParams['figure.facecolor'] = '#00000000'"
      ]
    },
    {
      "cell_type": "markdown",
      "source": [
        "**Statistic**<br>\n",
        "The summary of each column like mean, standard deviation, minimum and maximum."
      ],
      "metadata": {
        "id": "EGZ88iPo18_j"
      }
    },
    {
      "cell_type": "code",
      "execution_count": null,
      "metadata": {
        "colab": {
          "base_uri": "https://localhost:8080/",
          "height": 174
        },
        "id": "-Scf_lKnVJJ7",
        "outputId": "4436c575-ec4e-4ae3-99eb-60afdd58a29a"
      },
      "outputs": [
        {
          "output_type": "execute_result",
          "data": {
            "text/plain": [
              "             count          mean           std      min       25%       50%  \\\n",
              "year     1002096.0  2.010003e+03  7.647055e+00   1943.0    2006.0    2012.0   \n",
              "mileage  1002096.0  1.293117e+05  8.273943e+04   1000.0   69000.0  120000.0   \n",
              "power    1002096.0           NaN           NaN     30.0     100.0     136.0   \n",
              "price    1002096.0  1.480023e+06  1.681752e+06  20000.0  560000.0  945000.0   \n",
              "\n",
              "               75%         max  \n",
              "year        2016.0      2022.0  \n",
              "mileage   180000.0   1000000.0  \n",
              "power        177.0       625.0  \n",
              "price    1800000.0  41500000.0  "
            ],
            "text/html": [
              "\n",
              "  <div id=\"df-95a562c3-5c1e-4477-9e64-415cec962da1\">\n",
              "    <div class=\"colab-df-container\">\n",
              "      <div>\n",
              "<style scoped>\n",
              "    .dataframe tbody tr th:only-of-type {\n",
              "        vertical-align: middle;\n",
              "    }\n",
              "\n",
              "    .dataframe tbody tr th {\n",
              "        vertical-align: top;\n",
              "    }\n",
              "\n",
              "    .dataframe thead th {\n",
              "        text-align: right;\n",
              "    }\n",
              "</style>\n",
              "<table border=\"1\" class=\"dataframe\">\n",
              "  <thead>\n",
              "    <tr style=\"text-align: right;\">\n",
              "      <th></th>\n",
              "      <th>count</th>\n",
              "      <th>mean</th>\n",
              "      <th>std</th>\n",
              "      <th>min</th>\n",
              "      <th>25%</th>\n",
              "      <th>50%</th>\n",
              "      <th>75%</th>\n",
              "      <th>max</th>\n",
              "    </tr>\n",
              "  </thead>\n",
              "  <tbody>\n",
              "    <tr>\n",
              "      <th>year</th>\n",
              "      <td>1002096.0</td>\n",
              "      <td>2.010003e+03</td>\n",
              "      <td>7.647055e+00</td>\n",
              "      <td>1943.0</td>\n",
              "      <td>2006.0</td>\n",
              "      <td>2012.0</td>\n",
              "      <td>2016.0</td>\n",
              "      <td>2022.0</td>\n",
              "    </tr>\n",
              "    <tr>\n",
              "      <th>mileage</th>\n",
              "      <td>1002096.0</td>\n",
              "      <td>1.293117e+05</td>\n",
              "      <td>8.273943e+04</td>\n",
              "      <td>1000.0</td>\n",
              "      <td>69000.0</td>\n",
              "      <td>120000.0</td>\n",
              "      <td>180000.0</td>\n",
              "      <td>1000000.0</td>\n",
              "    </tr>\n",
              "    <tr>\n",
              "      <th>power</th>\n",
              "      <td>1002096.0</td>\n",
              "      <td>NaN</td>\n",
              "      <td>NaN</td>\n",
              "      <td>30.0</td>\n",
              "      <td>100.0</td>\n",
              "      <td>136.0</td>\n",
              "      <td>177.0</td>\n",
              "      <td>625.0</td>\n",
              "    </tr>\n",
              "    <tr>\n",
              "      <th>price</th>\n",
              "      <td>1002096.0</td>\n",
              "      <td>1.480023e+06</td>\n",
              "      <td>1.681752e+06</td>\n",
              "      <td>20000.0</td>\n",
              "      <td>560000.0</td>\n",
              "      <td>945000.0</td>\n",
              "      <td>1800000.0</td>\n",
              "      <td>41500000.0</td>\n",
              "    </tr>\n",
              "  </tbody>\n",
              "</table>\n",
              "</div>\n",
              "      <button class=\"colab-df-convert\" onclick=\"convertToInteractive('df-95a562c3-5c1e-4477-9e64-415cec962da1')\"\n",
              "              title=\"Convert this dataframe to an interactive table.\"\n",
              "              style=\"display:none;\">\n",
              "        \n",
              "  <svg xmlns=\"http://www.w3.org/2000/svg\" height=\"24px\"viewBox=\"0 0 24 24\"\n",
              "       width=\"24px\">\n",
              "    <path d=\"M0 0h24v24H0V0z\" fill=\"none\"/>\n",
              "    <path d=\"M18.56 5.44l.94 2.06.94-2.06 2.06-.94-2.06-.94-.94-2.06-.94 2.06-2.06.94zm-11 1L8.5 8.5l.94-2.06 2.06-.94-2.06-.94L8.5 2.5l-.94 2.06-2.06.94zm10 10l.94 2.06.94-2.06 2.06-.94-2.06-.94-.94-2.06-.94 2.06-2.06.94z\"/><path d=\"M17.41 7.96l-1.37-1.37c-.4-.4-.92-.59-1.43-.59-.52 0-1.04.2-1.43.59L10.3 9.45l-7.72 7.72c-.78.78-.78 2.05 0 2.83L4 21.41c.39.39.9.59 1.41.59.51 0 1.02-.2 1.41-.59l7.78-7.78 2.81-2.81c.8-.78.8-2.07 0-2.86zM5.41 20L4 18.59l7.72-7.72 1.47 1.35L5.41 20z\"/>\n",
              "  </svg>\n",
              "      </button>\n",
              "      \n",
              "  <style>\n",
              "    .colab-df-container {\n",
              "      display:flex;\n",
              "      flex-wrap:wrap;\n",
              "      gap: 12px;\n",
              "    }\n",
              "\n",
              "    .colab-df-convert {\n",
              "      background-color: #E8F0FE;\n",
              "      border: none;\n",
              "      border-radius: 50%;\n",
              "      cursor: pointer;\n",
              "      display: none;\n",
              "      fill: #1967D2;\n",
              "      height: 32px;\n",
              "      padding: 0 0 0 0;\n",
              "      width: 32px;\n",
              "    }\n",
              "\n",
              "    .colab-df-convert:hover {\n",
              "      background-color: #E2EBFA;\n",
              "      box-shadow: 0px 1px 2px rgba(60, 64, 67, 0.3), 0px 1px 3px 1px rgba(60, 64, 67, 0.15);\n",
              "      fill: #174EA6;\n",
              "    }\n",
              "\n",
              "    [theme=dark] .colab-df-convert {\n",
              "      background-color: #3B4455;\n",
              "      fill: #D2E3FC;\n",
              "    }\n",
              "\n",
              "    [theme=dark] .colab-df-convert:hover {\n",
              "      background-color: #434B5C;\n",
              "      box-shadow: 0px 1px 3px 1px rgba(0, 0, 0, 0.15);\n",
              "      filter: drop-shadow(0px 1px 2px rgba(0, 0, 0, 0.3));\n",
              "      fill: #FFFFFF;\n",
              "    }\n",
              "  </style>\n",
              "\n",
              "      <script>\n",
              "        const buttonEl =\n",
              "          document.querySelector('#df-95a562c3-5c1e-4477-9e64-415cec962da1 button.colab-df-convert');\n",
              "        buttonEl.style.display =\n",
              "          google.colab.kernel.accessAllowed ? 'block' : 'none';\n",
              "\n",
              "        async function convertToInteractive(key) {\n",
              "          const element = document.querySelector('#df-95a562c3-5c1e-4477-9e64-415cec962da1');\n",
              "          const dataTable =\n",
              "            await google.colab.kernel.invokeFunction('convertToInteractive',\n",
              "                                                     [key], {});\n",
              "          if (!dataTable) return;\n",
              "\n",
              "          const docLinkHtml = 'Like what you see? Visit the ' +\n",
              "            '<a target=\"_blank\" href=https://colab.research.google.com/notebooks/data_table.ipynb>data table notebook</a>'\n",
              "            + ' to learn more about interactive tables.';\n",
              "          element.innerHTML = '';\n",
              "          dataTable['output_type'] = 'display_data';\n",
              "          await google.colab.output.renderOutput(dataTable, element);\n",
              "          const docLink = document.createElement('div');\n",
              "          docLink.innerHTML = docLinkHtml;\n",
              "          element.appendChild(docLink);\n",
              "        }\n",
              "      </script>\n",
              "    </div>\n",
              "  </div>\n",
              "  "
            ]
          },
          "metadata": {},
          "execution_count": 22
        }
      ],
      "source": [
        "df.describe().transpose()"
      ]
    },
    {
      "cell_type": "markdown",
      "metadata": {
        "id": "Dn_AW-5uVJJ7"
      },
      "source": [
        "**Histogram**<br>\n",
        "It shows the probability distribution of numeric data. There are 4 fields in numeric value in this dataset."
      ]
    },
    {
      "cell_type": "code",
      "execution_count": null,
      "metadata": {
        "colab": {
          "base_uri": "https://localhost:8080/",
          "height": 633
        },
        "id": "c7fugjWzVJJ7",
        "outputId": "1ae470aa-d2d1-4fc0-a555-8a306924fe92"
      },
      "outputs": [
        {
          "output_type": "display_data",
          "data": {
            "text/plain": [
              "<Figure size 1080x720 with 4 Axes>"
            ],
            "image/png": "[encoded data removed]"
          },
          "metadata": {
            "needs_background": "light"
          }
        }
      ],
      "source": [
        "df.hist(bins=50, figsize=(15,10))\n",
        "plt.show()"
      ]
    },
    {
      "cell_type": "markdown",
      "source": [
        "**Bar Chart**<br>\n",
        "Bar charts are important to present categorical data. We have used bar charts to get the frequency of brand and transmission of car sold in Russia."
      ],
      "metadata": {
        "id": "867dr5n43INS"
      }
    },
    {
      "cell_type": "code",
      "execution_count": null,
      "metadata": {
        "id": "Rl5frrRaWu2K",
        "colab": {
          "base_uri": "https://localhost:8080/",
          "height": 472
        },
        "outputId": "f94f4a85-3b28-449d-8905-5d905d357759"
      },
      "outputs": [
        {
          "output_type": "execute_result",
          "data": {
            "text/plain": [
              "Text(0.5, 0, 'Brand')"
            ]
          },
          "metadata": {},
          "execution_count": 24
        },
        {
          "output_type": "display_data",
          "data": {
            "text/plain": [
              "<Figure size 720x360 with 1 Axes>"
            ],
            "image/png": "[encoded data removed]"
          },
          "metadata": {
            "needs_background": "light"
          }
        }
      ],
      "source": [
        "df['brand'].value_counts().nlargest(40).plot(kind='bar', figsize=(10,5), color = 'red')\n",
        "plt.title(\"Frequency of Brand Sales\")\n",
        "plt.ylabel('Number of Sales')\n",
        "plt.xlabel('Brand')"
      ]
    },
    {
      "cell_type": "code",
      "execution_count": null,
      "metadata": {
        "id": "RSt7KlcfVJJ8",
        "colab": {
          "base_uri": "https://localhost:8080/",
          "height": 417
        },
        "outputId": "2ee052a4-97f5-4818-ce20-6c60171d00d5"
      },
      "outputs": [
        {
          "output_type": "execute_result",
          "data": {
            "text/plain": [
              "Text(0.5, 0, 'Transmission')"
            ]
          },
          "metadata": {},
          "execution_count": 25
        },
        {
          "output_type": "display_data",
          "data": {
            "text/plain": [
              "<Figure size 720x360 with 1 Axes>"
            ],
            "image/png": "[encoded data removed]"
          },
          "metadata": {
            "needs_background": "light"
          }
        }
      ],
      "source": [
        "df.transmission.value_counts().nlargest(40).plot(kind='bar', figsize=(10,5), color = 'pink')\n",
        "plt.title(\"Number of Sales by Transmission\")\n",
        "plt.ylabel('Number of Sales')\n",
        "plt.xlabel('Transmission')"
      ]
    },
    {
      "cell_type": "markdown",
      "source": [
        "**Scatterplot**<br>\n",
        "Scatterplot shows the relationship between two variables. By observing the scatterplot, we can know that there is a positive correlation between “power” and “price”. This means when “power” increases, “price” will also increase. "
      ],
      "metadata": {
        "id": "MggspYPA4M0g"
      }
    },
    {
      "cell_type": "code",
      "execution_count": null,
      "metadata": {
        "colab": {
          "base_uri": "https://localhost:8080/",
          "height": 1000
        },
        "id": "pPnlFwy2VJJ7",
        "outputId": "f7d58e65-f5b1-4ee6-db97-dc8f13fb187b"
      },
      "outputs": [
        {
          "output_type": "display_data",
          "data": {
            "text/plain": [
              "<Figure size 504x360 with 1 Axes>"
            ],
            "image/png": "[encoded data removed]"
          },
          "metadata": {
            "needs_background": "light"
          }
        },
        {
          "output_type": "display_data",
          "data": {
            "text/plain": [
              "<Figure size 504x360 with 1 Axes>"
            ],
            "image/png": "[encoded data removed]"
          },
          "metadata": {
            "needs_background": "light"
          }
        },
        {
          "output_type": "display_data",
          "data": {
            "text/plain": [
              "<Figure size 504x360 with 1 Axes>"
            ],
            "image/png": "[encoded data removed]"
          },
          "metadata": {
            "needs_background": "light"
          }
        },
        {
          "output_type": "display_data",
          "data": {
            "text/plain": [
              "<Figure size 504x360 with 1 Axes>"
            ],
            "image/png": "[encoded data removed]"
          },
          "metadata": {
            "needs_background": "light"
          }
        }
      ],
      "source": [
        "for feature_name in df.columns:\n",
        "    if df[feature_name].dtypes != \"category\":\n",
        "      plt.figure(figsize=(7, 5));\n",
        "      plt.scatter(df[feature_name][:500], df['mileage'][:500]);\n",
        "      plt.ylabel('mileage', size=12);\n",
        "      plt.xlabel(feature_name, size=12);\n",
        "      plt.xticks(rotation=90)\n",
        "    \n",
        "plt.show();"
      ]
    },
    {
      "cell_type": "code",
      "execution_count": null,
      "metadata": {
        "id": "I_1idjYD_nos",
        "colab": {
          "base_uri": "https://localhost:8080/",
          "height": 410
        },
        "outputId": "39b04940-d188-4b55-b64a-3a5b8492f314"
      },
      "outputs": [
        {
          "output_type": "display_data",
          "data": {
            "text/plain": [
              "<Figure size 720x432 with 1 Axes>"
            ],
            "image/png": "[encoded data removed]"
          },
          "metadata": {
            "needs_background": "light"
          }
        }
      ],
      "source": [
        "fig, ax = plt.subplots(figsize=(10,6))\n",
        "ax.scatter(df['power'], df['price'])\n",
        "ax.set_xlabel('Power of Car')\n",
        "ax.set_ylabel('Price of Car')\n",
        "plt.show()"
      ]
    },
    {
      "cell_type": "markdown",
      "metadata": {
        "id": "rN1bUu8RVJJ7"
      },
      "source": [
        "**Heat Maps**<br>\n",
        "Heat maps is also a way to find the relationship between features. The color of heat maps represented the value. "
      ]
    },
    {
      "cell_type": "code",
      "execution_count": null,
      "metadata": {
        "colab": {
          "base_uri": "https://localhost:8080/",
          "height": 486
        },
        "id": "kMrm6CiAVJJ8",
        "outputId": "41f8fbed-a5df-4c5c-c9a6-0d6772c9b2ac"
      },
      "outputs": [
        {
          "output_type": "execute_result",
          "data": {
            "text/plain": [
              "             year   mileage     power     price\n",
              "year     1.000000 -0.648310  0.080768  0.470285\n",
              "mileage -0.648310  1.000000 -0.046973 -0.391403\n",
              "power    0.080768 -0.046973  1.000000  0.603627\n",
              "price    0.470285 -0.391403  0.603627  1.000000"
            ],
            "text/html": [
              "\n",
              "  <div id=\"df-8ede8175-31be-4f66-8dcd-46151c8d8154\">\n",
              "    <div class=\"colab-df-container\">\n",
              "      <div>\n",
              "<style scoped>\n",
              "    .dataframe tbody tr th:only-of-type {\n",
              "        vertical-align: middle;\n",
              "    }\n",
              "\n",
              "    .dataframe tbody tr th {\n",
              "        vertical-align: top;\n",
              "    }\n",
              "\n",
              "    .dataframe thead th {\n",
              "        text-align: right;\n",
              "    }\n",
              "</style>\n",
              "<table border=\"1\" class=\"dataframe\">\n",
              "  <thead>\n",
              "    <tr style=\"text-align: right;\">\n",
              "      <th></th>\n",
              "      <th>year</th>\n",
              "      <th>mileage</th>\n",
              "      <th>power</th>\n",
              "      <th>price</th>\n",
              "    </tr>\n",
              "  </thead>\n",
              "  <tbody>\n",
              "    <tr>\n",
              "      <th>year</th>\n",
              "      <td>1.000000</td>\n",
              "      <td>-0.648310</td>\n",
              "      <td>0.080768</td>\n",
              "      <td>0.470285</td>\n",
              "    </tr>\n",
              "    <tr>\n",
              "      <th>mileage</th>\n",
              "      <td>-0.648310</td>\n",
              "      <td>1.000000</td>\n",
              "      <td>-0.046973</td>\n",
              "      <td>-0.391403</td>\n",
              "    </tr>\n",
              "    <tr>\n",
              "      <th>power</th>\n",
              "      <td>0.080768</td>\n",
              "      <td>-0.046973</td>\n",
              "      <td>1.000000</td>\n",
              "      <td>0.603627</td>\n",
              "    </tr>\n",
              "    <tr>\n",
              "      <th>price</th>\n",
              "      <td>0.470285</td>\n",
              "      <td>-0.391403</td>\n",
              "      <td>0.603627</td>\n",
              "      <td>1.000000</td>\n",
              "    </tr>\n",
              "  </tbody>\n",
              "</table>\n",
              "</div>\n",
              "      <button class=\"colab-df-convert\" onclick=\"convertToInteractive('df-8ede8175-31be-4f66-8dcd-46151c8d8154')\"\n",
              "              title=\"Convert this dataframe to an interactive table.\"\n",
              "              style=\"display:none;\">\n",
              "        \n",
              "  <svg xmlns=\"http://www.w3.org/2000/svg\" height=\"24px\"viewBox=\"0 0 24 24\"\n",
              "       width=\"24px\">\n",
              "    <path d=\"M0 0h24v24H0V0z\" fill=\"none\"/>\n",
              "    <path d=\"M18.56 5.44l.94 2.06.94-2.06 2.06-.94-2.06-.94-.94-2.06-.94 2.06-2.06.94zm-11 1L8.5 8.5l.94-2.06 2.06-.94-2.06-.94L8.5 2.5l-.94 2.06-2.06.94zm10 10l.94 2.06.94-2.06 2.06-.94-2.06-.94-.94-2.06-.94 2.06-2.06.94z\"/><path d=\"M17.41 7.96l-1.37-1.37c-.4-.4-.92-.59-1.43-.59-.52 0-1.04.2-1.43.59L10.3 9.45l-7.72 7.72c-.78.78-.78 2.05 0 2.83L4 21.41c.39.39.9.59 1.41.59.51 0 1.02-.2 1.41-.59l7.78-7.78 2.81-2.81c.8-.78.8-2.07 0-2.86zM5.41 20L4 18.59l7.72-7.72 1.47 1.35L5.41 20z\"/>\n",
              "  </svg>\n",
              "      </button>\n",
              "      \n",
              "  <style>\n",
              "    .colab-df-container {\n",
              "      display:flex;\n",
              "      flex-wrap:wrap;\n",
              "      gap: 12px;\n",
              "    }\n",
              "\n",
              "    .colab-df-convert {\n",
              "      background-color: #E8F0FE;\n",
              "      border: none;\n",
              "      border-radius: 50%;\n",
              "      cursor: pointer;\n",
              "      display: none;\n",
              "      fill: #1967D2;\n",
              "      height: 32px;\n",
              "      padding: 0 0 0 0;\n",
              "      width: 32px;\n",
              "    }\n",
              "\n",
              "    .colab-df-convert:hover {\n",
              "      background-color: #E2EBFA;\n",
              "      box-shadow: 0px 1px 2px rgba(60, 64, 67, 0.3), 0px 1px 3px 1px rgba(60, 64, 67, 0.15);\n",
              "      fill: #174EA6;\n",
              "    }\n",
              "\n",
              "    [theme=dark] .colab-df-convert {\n",
              "      background-color: #3B4455;\n",
              "      fill: #D2E3FC;\n",
              "    }\n",
              "\n",
              "    [theme=dark] .colab-df-convert:hover {\n",
              "      background-color: #434B5C;\n",
              "      box-shadow: 0px 1px 3px 1px rgba(0, 0, 0, 0.15);\n",
              "      filter: drop-shadow(0px 1px 2px rgba(0, 0, 0, 0.3));\n",
              "      fill: #FFFFFF;\n",
              "    }\n",
              "  </style>\n",
              "\n",
              "      <script>\n",
              "        const buttonEl =\n",
              "          document.querySelector('#df-8ede8175-31be-4f66-8dcd-46151c8d8154 button.colab-df-convert');\n",
              "        buttonEl.style.display =\n",
              "          google.colab.kernel.accessAllowed ? 'block' : 'none';\n",
              "\n",
              "        async function convertToInteractive(key) {\n",
              "          const element = document.querySelector('#df-8ede8175-31be-4f66-8dcd-46151c8d8154');\n",
              "          const dataTable =\n",
              "            await google.colab.kernel.invokeFunction('convertToInteractive',\n",
              "                                                     [key], {});\n",
              "          if (!dataTable) return;\n",
              "\n",
              "          const docLinkHtml = 'Like what you see? Visit the ' +\n",
              "            '<a target=\"_blank\" href=https://colab.research.google.com/notebooks/data_table.ipynb>data table notebook</a>'\n",
              "            + ' to learn more about interactive tables.';\n",
              "          element.innerHTML = '';\n",
              "          dataTable['output_type'] = 'display_data';\n",
              "          await google.colab.output.renderOutput(dataTable, element);\n",
              "          const docLink = document.createElement('div');\n",
              "          docLink.innerHTML = docLinkHtml;\n",
              "          element.appendChild(docLink);\n",
              "        }\n",
              "      </script>\n",
              "    </div>\n",
              "  </div>\n",
              "  "
            ]
          },
          "metadata": {},
          "execution_count": 28
        },
        {
          "output_type": "display_data",
          "data": {
            "text/plain": [
              "<Figure size 720x360 with 2 Axes>"
            ],
            "image/png": "[encoded data removed]"
          },
          "metadata": {
            "needs_background": "light"
          }
        }
      ],
      "source": [
        "plt.figure(figsize=(10,5))\n",
        "c= df.corr()\n",
        "sns.heatmap(c,cmap=\"BrBG\",annot=True)\n",
        "c"
      ]
    },
    {
      "cell_type": "markdown",
      "metadata": {
        "id": "tLNLw0EOVJJ8"
      },
      "source": [
        "**Boxplot**<br>\n",
        "It displays the distribution of data based on minimum, Q1, median, Q3 and maximum. From here, we can know whether the data is skewed or symmetric and also detect whether there is an outlier. From the four box-plot below, we know that there exist outliers. "
      ]
    },
    {
      "cell_type": "code",
      "execution_count": null,
      "metadata": {
        "id": "61sgf555VJJ8",
        "colab": {
          "base_uri": "https://localhost:8080/",
          "height": 360
        },
        "outputId": "cb0e8417-d76e-4369-e4b9-d623ba0bdea3"
      },
      "outputs": [
        {
          "output_type": "execute_result",
          "data": {
            "text/plain": [
              "<matplotlib.axes._subplots.AxesSubplot at 0x7fe732a2e790>"
            ]
          },
          "metadata": {},
          "execution_count": 29
        },
        {
          "output_type": "display_data",
          "data": {
            "text/plain": [
              "<Figure size 648x360 with 1 Axes>"
            ],
            "image/png": "[encoded data removed]"
          },
          "metadata": {
            "needs_background": "light"
          }
        }
      ],
      "source": [
        "sns.boxplot(x=df['price'])"
      ]
    },
    {
      "cell_type": "code",
      "execution_count": null,
      "metadata": {
        "id": "fOQ9cTWiVJJ8",
        "colab": {
          "base_uri": "https://localhost:8080/",
          "height": 360
        },
        "outputId": "dfdf86a7-1eda-4807-c61d-87b911dbb51d"
      },
      "outputs": [
        {
          "output_type": "execute_result",
          "data": {
            "text/plain": [
              "<matplotlib.axes._subplots.AxesSubplot at 0x7fe73335eaf0>"
            ]
          },
          "metadata": {},
          "execution_count": 30
        },
        {
          "output_type": "display_data",
          "data": {
            "text/plain": [
              "<Figure size 648x360 with 1 Axes>"
            ],
            "image/png": "[encoded data removed]"
          },
          "metadata": {
            "needs_background": "light"
          }
        }
      ],
      "source": [
        "sns.boxplot(x=df['power'])"
      ]
    },
    {
      "cell_type": "code",
      "source": [
        "sns.boxplot(x=df['year'])"
      ],
      "metadata": {
        "colab": {
          "base_uri": "https://localhost:8080/",
          "height": 360
        },
        "id": "0Uc5FCtG6uyw",
        "outputId": "ccfed1ef-9e18-4989-d7a4-f4d14fef682f"
      },
      "execution_count": null,
      "outputs": [
        {
          "output_type": "execute_result",
          "data": {
            "text/plain": [
              "<matplotlib.axes._subplots.AxesSubplot at 0x7fe733cfa970>"
            ]
          },
          "metadata": {},
          "execution_count": 31
        },
        {
          "output_type": "display_data",
          "data": {
            "text/plain": [
              "<Figure size 648x360 with 1 Axes>"
            ],
            "image/png": "[encoded data removed]"
          },
          "metadata": {
            "needs_background": "light"
          }
        }
      ]
    },
    {
      "cell_type": "code",
      "source": [
        "sns.boxplot(x=df['mileage'])"
      ],
      "metadata": {
        "colab": {
          "base_uri": "https://localhost:8080/",
          "height": 360
        },
        "id": "eMRu7Jrx61fO",
        "outputId": "b90d6962-400d-49b1-a476-0b23c4edea0f"
      },
      "execution_count": null,
      "outputs": [
        {
          "output_type": "execute_result",
          "data": {
            "text/plain": [
              "<matplotlib.axes._subplots.AxesSubplot at 0x7fe732dc1a30>"
            ]
          },
          "metadata": {},
          "execution_count": 32
        },
        {
          "output_type": "display_data",
          "data": {
            "text/plain": [
              "<Figure size 648x360 with 1 Axes>"
            ],
            "image/png": "[encoded data removed]"
          },
          "metadata": {
            "needs_background": "light"
          }
        }
      ]
    },
    {
      "cell_type": "markdown",
      "metadata": {
        "id": "E0U3IWm8VJJ9"
      },
      "source": [
        "## Asking and Answering Questions\n",
        "\n",
        "A total of 5 questions will be asked in this section and all of them were answered by using pandas, series or visualization(matplotlib & seaborn).\n",
        "\n"
      ]
    },
    {
      "cell_type": "markdown",
      "metadata": {
        "id": "7Lor5rHMVJJ9"
      },
      "source": [
        "#### Q1: How many bodytype of car on sales exist for each brand and which bodytype is the most popular?"
      ]
    },
    {
      "cell_type": "markdown",
      "source": [
        "Pandas library (groupby()) has been used to group the data by bodyType and calculate the number of sales for each brand by using the value_counts() function. Since the data will consist of multi-index, unstack() has been used to pivot the level of the indexed columns. "
      ],
      "metadata": {
        "id": "Jf9TnFf-Cm5t"
      }
    },
    {
      "cell_type": "code",
      "execution_count": null,
      "metadata": {
        "id": "D-PdOKqCVJJ9",
        "colab": {
          "base_uri": "https://localhost:8080/",
          "height": 605
        },
        "outputId": "fa5c9425-0b96-436a-c8f3-f0ec1172ce1b"
      },
      "outputs": [
        {
          "output_type": "execute_result",
          "data": {
            "text/plain": [
              "                   Acura  Audi   BMW  Bentley  Cadillac  Chery  Chevrolet  \\\n",
              "bodyType                                                                    \n",
              "coupe                  0    40    57       18         0      0         88   \n",
              "hatchback 3 door       0    12     0        0         0      0         18   \n",
              "hatchback 5 doors      0   270    21        0         0     17        314   \n",
              "jeep 3 doors           0     0     0        0         0      0          0   \n",
              "jeep 5 doors         217  1304  9369        0       399     89        467   \n",
              "liftback               0   347   122        0         0     17          0   \n",
              "minivan                0     0     0        0         0      0         13   \n",
              "open                   0     0    43        0         0      0         88   \n",
              "pickup                 0     0     0        0         0      0          0   \n",
              "sedan                 22   596  4626        0        52     14        326   \n",
              "station wagon          0   155    94        0         0      0          0   \n",
              "\n",
              "                   Chrysler  Citroen  Daewoo  ...  SsangYong  Subaru  Suzuki  \\\n",
              "bodyType                                      ...                              \n",
              "coupe                    32        0       0  ...          0       0       0   \n",
              "hatchback 3 door          0        0       0  ...          0       0      48   \n",
              "hatchback 5 doors       126       17      13  ...          0    4095   14472   \n",
              "jeep 3 doors              0        0       0  ...         20       0    9076   \n",
              "jeep 5 doors              0        0      91  ...        677   22540    5568   \n",
              "liftback                  0        0       0  ...          0       0       0   \n",
              "minivan                  16        0      31  ...          0     200     419   \n",
              "open                      0        0       0  ...          0       0       0   \n",
              "pickup                    0        0       0  ...        615       0       0   \n",
              "sedan                    83       23      56  ...         20    5182     175   \n",
              "station wagon             0        0       0  ...          0    6342     103   \n",
              "\n",
              "                   Toyota   UAZ  Volkswagen  Volvo  Vortex  ZAZ  Zotye  \n",
              "bodyType                                                                \n",
              "coupe                2030     0           0      0       0  222      0  \n",
              "hatchback 3 door     2094     0          49      0       0    0      0  \n",
              "hatchback 5 doors   53905     0         267      0       0    0      0  \n",
              "jeep 3 doors         1551     0           0      0       0    0      0  \n",
              "jeep 5 doors       144182  1104        2194    171      42    0     20  \n",
              "liftback            40650     0         106      0       0    0      0  \n",
              "minivan             72782     0         155      0       0    0      0  \n",
              "open                  182     0           0      0       0    0      0  \n",
              "pickup               5821    55         109      0       0    0      0  \n",
              "sedan              108528     0         527      0       0    0      0  \n",
              "station wagon       47787     0         714      0       0    0      0  \n",
              "\n",
              "[11 rows x 61 columns]"
            ],
            "text/html": [
              "\n",
              "  <div id=\"df-f6ea2a44-d5a1-4288-9726-d321edba27f9\">\n",
              "    <div class=\"colab-df-container\">\n",
              "      <div>\n",
              "<style scoped>\n",
              "    .dataframe tbody tr th:only-of-type {\n",
              "        vertical-align: middle;\n",
              "    }\n",
              "\n",
              "    .dataframe tbody tr th {\n",
              "        vertical-align: top;\n",
              "    }\n",
              "\n",
              "    .dataframe thead th {\n",
              "        text-align: right;\n",
              "    }\n",
              "</style>\n",
              "<table border=\"1\" class=\"dataframe\">\n",
              "  <thead>\n",
              "    <tr style=\"text-align: right;\">\n",
              "      <th></th>\n",
              "      <th>Acura</th>\n",
              "      <th>Audi</th>\n",
              "      <th>BMW</th>\n",
              "      <th>Bentley</th>\n",
              "      <th>Cadillac</th>\n",
              "      <th>Chery</th>\n",
              "      <th>Chevrolet</th>\n",
              "      <th>Chrysler</th>\n",
              "      <th>Citroen</th>\n",
              "      <th>Daewoo</th>\n",
              "      <th>...</th>\n",
              "      <th>SsangYong</th>\n",
              "      <th>Subaru</th>\n",
              "      <th>Suzuki</th>\n",
              "      <th>Toyota</th>\n",
              "      <th>UAZ</th>\n",
              "      <th>Volkswagen</th>\n",
              "      <th>Volvo</th>\n",
              "      <th>Vortex</th>\n",
              "      <th>ZAZ</th>\n",
              "      <th>Zotye</th>\n",
              "    </tr>\n",
              "    <tr>\n",
              "      <th>bodyType</th>\n",
              "      <th></th>\n",
              "      <th></th>\n",
              "      <th></th>\n",
              "      <th></th>\n",
              "      <th></th>\n",
              "      <th></th>\n",
              "      <th></th>\n",
              "      <th></th>\n",
              "      <th></th>\n",
              "      <th></th>\n",
              "      <th></th>\n",
              "      <th></th>\n",
              "      <th></th>\n",
              "      <th></th>\n",
              "      <th></th>\n",
              "      <th></th>\n",
              "      <th></th>\n",
              "      <th></th>\n",
              "      <th></th>\n",
              "      <th></th>\n",
              "      <th></th>\n",
              "    </tr>\n",
              "  </thead>\n",
              "  <tbody>\n",
              "    <tr>\n",
              "      <th>coupe</th>\n",
              "      <td>0</td>\n",
              "      <td>40</td>\n",
              "      <td>57</td>\n",
              "      <td>18</td>\n",
              "      <td>0</td>\n",
              "      <td>0</td>\n",
              "      <td>88</td>\n",
              "      <td>32</td>\n",
              "      <td>0</td>\n",
              "      <td>0</td>\n",
              "      <td>...</td>\n",
              "      <td>0</td>\n",
              "      <td>0</td>\n",
              "      <td>0</td>\n",
              "      <td>2030</td>\n",
              "      <td>0</td>\n",
              "      <td>0</td>\n",
              "      <td>0</td>\n",
              "      <td>0</td>\n",
              "      <td>222</td>\n",
              "      <td>0</td>\n",
              "    </tr>\n",
              "    <tr>\n",
              "      <th>hatchback 3 door</th>\n",
              "      <td>0</td>\n",
              "      <td>12</td>\n",
              "      <td>0</td>\n",
              "      <td>0</td>\n",
              "      <td>0</td>\n",
              "      <td>0</td>\n",
              "      <td>18</td>\n",
              "      <td>0</td>\n",
              "      <td>0</td>\n",
              "      <td>0</td>\n",
              "      <td>...</td>\n",
              "      <td>0</td>\n",
              "      <td>0</td>\n",
              "      <td>48</td>\n",
              "      <td>2094</td>\n",
              "      <td>0</td>\n",
              "      <td>49</td>\n",
              "      <td>0</td>\n",
              "      <td>0</td>\n",
              "      <td>0</td>\n",
              "      <td>0</td>\n",
              "    </tr>\n",
              "    <tr>\n",
              "      <th>hatchback 5 doors</th>\n",
              "      <td>0</td>\n",
              "      <td>270</td>\n",
              "      <td>21</td>\n",
              "      <td>0</td>\n",
              "      <td>0</td>\n",
              "      <td>17</td>\n",
              "      <td>314</td>\n",
              "      <td>126</td>\n",
              "      <td>17</td>\n",
              "      <td>13</td>\n",
              "      <td>...</td>\n",
              "      <td>0</td>\n",
              "      <td>4095</td>\n",
              "      <td>14472</td>\n",
              "      <td>53905</td>\n",
              "      <td>0</td>\n",
              "      <td>267</td>\n",
              "      <td>0</td>\n",
              "      <td>0</td>\n",
              "      <td>0</td>\n",
              "      <td>0</td>\n",
              "    </tr>\n",
              "    <tr>\n",
              "      <th>jeep 3 doors</th>\n",
              "      <td>0</td>\n",
              "      <td>0</td>\n",
              "      <td>0</td>\n",
              "      <td>0</td>\n",
              "      <td>0</td>\n",
              "      <td>0</td>\n",
              "      <td>0</td>\n",
              "      <td>0</td>\n",
              "      <td>0</td>\n",
              "      <td>0</td>\n",
              "      <td>...</td>\n",
              "      <td>20</td>\n",
              "      <td>0</td>\n",
              "      <td>9076</td>\n",
              "      <td>1551</td>\n",
              "      <td>0</td>\n",
              "      <td>0</td>\n",
              "      <td>0</td>\n",
              "      <td>0</td>\n",
              "      <td>0</td>\n",
              "      <td>0</td>\n",
              "    </tr>\n",
              "    <tr>\n",
              "      <th>jeep 5 doors</th>\n",
              "      <td>217</td>\n",
              "      <td>1304</td>\n",
              "      <td>9369</td>\n",
              "      <td>0</td>\n",
              "      <td>399</td>\n",
              "      <td>89</td>\n",
              "      <td>467</td>\n",
              "      <td>0</td>\n",
              "      <td>0</td>\n",
              "      <td>91</td>\n",
              "      <td>...</td>\n",
              "      <td>677</td>\n",
              "      <td>22540</td>\n",
              "      <td>5568</td>\n",
              "      <td>144182</td>\n",
              "      <td>1104</td>\n",
              "      <td>2194</td>\n",
              "      <td>171</td>\n",
              "      <td>42</td>\n",
              "      <td>0</td>\n",
              "      <td>20</td>\n",
              "    </tr>\n",
              "    <tr>\n",
              "      <th>liftback</th>\n",
              "      <td>0</td>\n",
              "      <td>347</td>\n",
              "      <td>122</td>\n",
              "      <td>0</td>\n",
              "      <td>0</td>\n",
              "      <td>17</td>\n",
              "      <td>0</td>\n",
              "      <td>0</td>\n",
              "      <td>0</td>\n",
              "      <td>0</td>\n",
              "      <td>...</td>\n",
              "      <td>0</td>\n",
              "      <td>0</td>\n",
              "      <td>0</td>\n",
              "      <td>40650</td>\n",
              "      <td>0</td>\n",
              "      <td>106</td>\n",
              "      <td>0</td>\n",
              "      <td>0</td>\n",
              "      <td>0</td>\n",
              "      <td>0</td>\n",
              "    </tr>\n",
              "    <tr>\n",
              "      <th>minivan</th>\n",
              "      <td>0</td>\n",
              "      <td>0</td>\n",
              "      <td>0</td>\n",
              "      <td>0</td>\n",
              "      <td>0</td>\n",
              "      <td>0</td>\n",
              "      <td>13</td>\n",
              "      <td>16</td>\n",
              "      <td>0</td>\n",
              "      <td>31</td>\n",
              "      <td>...</td>\n",
              "      <td>0</td>\n",
              "      <td>200</td>\n",
              "      <td>419</td>\n",
              "      <td>72782</td>\n",
              "      <td>0</td>\n",
              "      <td>155</td>\n",
              "      <td>0</td>\n",
              "      <td>0</td>\n",
              "      <td>0</td>\n",
              "      <td>0</td>\n",
              "    </tr>\n",
              "    <tr>\n",
              "      <th>open</th>\n",
              "      <td>0</td>\n",
              "      <td>0</td>\n",
              "      <td>43</td>\n",
              "      <td>0</td>\n",
              "      <td>0</td>\n",
              "      <td>0</td>\n",
              "      <td>88</td>\n",
              "      <td>0</td>\n",
              "      <td>0</td>\n",
              "      <td>0</td>\n",
              "      <td>...</td>\n",
              "      <td>0</td>\n",
              "      <td>0</td>\n",
              "      <td>0</td>\n",
              "      <td>182</td>\n",
              "      <td>0</td>\n",
              "      <td>0</td>\n",
              "      <td>0</td>\n",
              "      <td>0</td>\n",
              "      <td>0</td>\n",
              "      <td>0</td>\n",
              "    </tr>\n",
              "    <tr>\n",
              "      <th>pickup</th>\n",
              "      <td>0</td>\n",
              "      <td>0</td>\n",
              "      <td>0</td>\n",
              "      <td>0</td>\n",
              "      <td>0</td>\n",
              "      <td>0</td>\n",
              "      <td>0</td>\n",
              "      <td>0</td>\n",
              "      <td>0</td>\n",
              "      <td>0</td>\n",
              "      <td>...</td>\n",
              "      <td>615</td>\n",
              "      <td>0</td>\n",
              "      <td>0</td>\n",
              "      <td>5821</td>\n",
              "      <td>55</td>\n",
              "      <td>109</td>\n",
              "      <td>0</td>\n",
              "      <td>0</td>\n",
              "      <td>0</td>\n",
              "      <td>0</td>\n",
              "    </tr>\n",
              "    <tr>\n",
              "      <th>sedan</th>\n",
              "      <td>22</td>\n",
              "      <td>596</td>\n",
              "      <td>4626</td>\n",
              "      <td>0</td>\n",
              "      <td>52</td>\n",
              "      <td>14</td>\n",
              "      <td>326</td>\n",
              "      <td>83</td>\n",
              "      <td>23</td>\n",
              "      <td>56</td>\n",
              "      <td>...</td>\n",
              "      <td>20</td>\n",
              "      <td>5182</td>\n",
              "      <td>175</td>\n",
              "      <td>108528</td>\n",
              "      <td>0</td>\n",
              "      <td>527</td>\n",
              "      <td>0</td>\n",
              "      <td>0</td>\n",
              "      <td>0</td>\n",
              "      <td>0</td>\n",
              "    </tr>\n",
              "    <tr>\n",
              "      <th>station wagon</th>\n",
              "      <td>0</td>\n",
              "      <td>155</td>\n",
              "      <td>94</td>\n",
              "      <td>0</td>\n",
              "      <td>0</td>\n",
              "      <td>0</td>\n",
              "      <td>0</td>\n",
              "      <td>0</td>\n",
              "      <td>0</td>\n",
              "      <td>0</td>\n",
              "      <td>...</td>\n",
              "      <td>0</td>\n",
              "      <td>6342</td>\n",
              "      <td>103</td>\n",
              "      <td>47787</td>\n",
              "      <td>0</td>\n",
              "      <td>714</td>\n",
              "      <td>0</td>\n",
              "      <td>0</td>\n",
              "      <td>0</td>\n",
              "      <td>0</td>\n",
              "    </tr>\n",
              "  </tbody>\n",
              "</table>\n",
              "<p>11 rows × 61 columns</p>\n",
              "</div>\n",
              "      <button class=\"colab-df-convert\" onclick=\"convertToInteractive('df-f6ea2a44-d5a1-4288-9726-d321edba27f9')\"\n",
              "              title=\"Convert this dataframe to an interactive table.\"\n",
              "              style=\"display:none;\">\n",
              "        \n",
              "  <svg xmlns=\"http://www.w3.org/2000/svg\" height=\"24px\"viewBox=\"0 0 24 24\"\n",
              "       width=\"24px\">\n",
              "    <path d=\"M0 0h24v24H0V0z\" fill=\"none\"/>\n",
              "    <path d=\"M18.56 5.44l.94 2.06.94-2.06 2.06-.94-2.06-.94-.94-2.06-.94 2.06-2.06.94zm-11 1L8.5 8.5l.94-2.06 2.06-.94-2.06-.94L8.5 2.5l-.94 2.06-2.06.94zm10 10l.94 2.06.94-2.06 2.06-.94-2.06-.94-.94-2.06-.94 2.06-2.06.94z\"/><path d=\"M17.41 7.96l-1.37-1.37c-.4-.4-.92-.59-1.43-.59-.52 0-1.04.2-1.43.59L10.3 9.45l-7.72 7.72c-.78.78-.78 2.05 0 2.83L4 21.41c.39.39.9.59 1.41.59.51 0 1.02-.2 1.41-.59l7.78-7.78 2.81-2.81c.8-.78.8-2.07 0-2.86zM5.41 20L4 18.59l7.72-7.72 1.47 1.35L5.41 20z\"/>\n",
              "  </svg>\n",
              "      </button>\n",
              "      \n",
              "  <style>\n",
              "    .colab-df-container {\n",
              "      display:flex;\n",
              "      flex-wrap:wrap;\n",
              "      gap: 12px;\n",
              "    }\n",
              "\n",
              "    .colab-df-convert {\n",
              "      background-color: #E8F0FE;\n",
              "      border: none;\n",
              "      border-radius: 50%;\n",
              "      cursor: pointer;\n",
              "      display: none;\n",
              "      fill: #1967D2;\n",
              "      height: 32px;\n",
              "      padding: 0 0 0 0;\n",
              "      width: 32px;\n",
              "    }\n",
              "\n",
              "    .colab-df-convert:hover {\n",
              "      background-color: #E2EBFA;\n",
              "      box-shadow: 0px 1px 2px rgba(60, 64, 67, 0.3), 0px 1px 3px 1px rgba(60, 64, 67, 0.15);\n",
              "      fill: #174EA6;\n",
              "    }\n",
              "\n",
              "    [theme=dark] .colab-df-convert {\n",
              "      background-color: #3B4455;\n",
              "      fill: #D2E3FC;\n",
              "    }\n",
              "\n",
              "    [theme=dark] .colab-df-convert:hover {\n",
              "      background-color: #434B5C;\n",
              "      box-shadow: 0px 1px 3px 1px rgba(0, 0, 0, 0.15);\n",
              "      filter: drop-shadow(0px 1px 2px rgba(0, 0, 0, 0.3));\n",
              "      fill: #FFFFFF;\n",
              "    }\n",
              "  </style>\n",
              "\n",
              "      <script>\n",
              "        const buttonEl =\n",
              "          document.querySelector('#df-f6ea2a44-d5a1-4288-9726-d321edba27f9 button.colab-df-convert');\n",
              "        buttonEl.style.display =\n",
              "          google.colab.kernel.accessAllowed ? 'block' : 'none';\n",
              "\n",
              "        async function convertToInteractive(key) {\n",
              "          const element = document.querySelector('#df-f6ea2a44-d5a1-4288-9726-d321edba27f9');\n",
              "          const dataTable =\n",
              "            await google.colab.kernel.invokeFunction('convertToInteractive',\n",
              "                                                     [key], {});\n",
              "          if (!dataTable) return;\n",
              "\n",
              "          const docLinkHtml = 'Like what you see? Visit the ' +\n",
              "            '<a target=\"_blank\" href=https://colab.research.google.com/notebooks/data_table.ipynb>data table notebook</a>'\n",
              "            + ' to learn more about interactive tables.';\n",
              "          element.innerHTML = '';\n",
              "          dataTable['output_type'] = 'display_data';\n",
              "          await google.colab.output.renderOutput(dataTable, element);\n",
              "          const docLink = document.createElement('div');\n",
              "          docLink.innerHTML = docLinkHtml;\n",
              "          element.appendChild(docLink);\n",
              "        }\n",
              "      </script>\n",
              "    </div>\n",
              "  </div>\n",
              "  "
            ]
          },
          "metadata": {},
          "execution_count": 33
        }
      ],
      "source": [
        "# To get the number of body type for each brand of car\n",
        "data = df.groupby('bodyType')['brand'].value_counts()\n",
        "data = data.unstack()\n",
        "data"
      ]
    },
    {
      "cell_type": "markdown",
      "source": [
        "By using value_counts(), we can calculate the occurrence of each bodyType in the data. "
      ],
      "metadata": {
        "id": "nh0TbKHjE_nh"
      }
    },
    {
      "cell_type": "code",
      "source": [
        "# To find the most popular body type\n",
        "data3 = df['bodyType'].value_counts()\n",
        "data3"
      ],
      "metadata": {
        "colab": {
          "base_uri": "https://localhost:8080/"
        },
        "id": "A4nUcdilelSg",
        "outputId": "a39e129b-924e-4d92-8f48-1bad95025be1"
      },
      "execution_count": null,
      "outputs": [
        {
          "output_type": "execute_result",
          "data": {
            "text/plain": [
              "jeep 5 doors         350766\n",
              "sedan                178034\n",
              "hatchback 5 doors    170329\n",
              "minivan              124513\n",
              "station wagon         86114\n",
              "liftback              51701\n",
              "jeep 3 doors          18310\n",
              "pickup                 9445\n",
              "hatchback 3 door       5839\n",
              "coupe                  5777\n",
              "open                   1268\n",
              "Name: bodyType, dtype: int64"
            ]
          },
          "metadata": {},
          "execution_count": 45
        }
      ]
    },
    {
      "cell_type": "markdown",
      "source": [
        "A bar chart from seaborn library has been used to show the most popular body type of car."
      ],
      "metadata": {
        "id": "oAr3eWooFxRI"
      }
    },
    {
      "cell_type": "code",
      "source": [
        "plt.figure(figsize=(28,12))\n",
        "sns.barplot(x=data3.index, y=data3.values)"
      ],
      "metadata": {
        "id": "YDfj6f3dnM-I",
        "colab": {
          "base_uri": "https://localhost:8080/",
          "height": 581
        },
        "outputId": "de4ae2cb-4698-40e7-ec0d-98289f2699d6"
      },
      "execution_count": null,
      "outputs": [
        {
          "output_type": "execute_result",
          "data": {
            "text/plain": [
              "<matplotlib.axes._subplots.AxesSubplot at 0x7fe71f868700>"
            ]
          },
          "metadata": {},
          "execution_count": 58
        },
        {
          "output_type": "display_data",
          "data": {
            "text/plain": [
              "<Figure size 2016x864 with 1 Axes>"
            ],
            "image/png": "[encoded data removed]"
          },
          "metadata": {
            "needs_background": "light"
          }
        }
      ]
    },
    {
      "cell_type": "markdown",
      "source": [
        "Answer: Based on dataframe and bar chart, there are 11 body types and the most popular body type is jeep 5 doors. The body type of each brand of car can be observed one by one from the dataframe. For example, the Acura brand has sold 217 jeep 5 doors and 22 sedan."
      ],
      "metadata": {
        "id": "rvNpJV6g_ICA"
      }
    },
    {
      "cell_type": "markdown",
      "metadata": {
        "id": "c_REVnrhVJJ-"
      },
      "source": [
        "#### Q2: Does the mileage of car affect the interest of the customer to buy a used car?\n"
      ]
    },
    {
      "cell_type": "markdown",
      "source": [
        "value_counts() has been used to calculate the occurrence of the mileage of the car sold. "
      ],
      "metadata": {
        "id": "va2r5vUpGS3d"
      }
    },
    {
      "cell_type": "code",
      "execution_count": null,
      "metadata": {
        "id": "dvyLd9MdVJJ-",
        "colab": {
          "base_uri": "https://localhost:8080/"
        },
        "outputId": "7b962fd2-1e1c-429e-aed3-5bea832bd0a3"
      },
      "outputs": [
        {
          "output_type": "execute_result",
          "data": {
            "text/plain": [
              "200000.0    25398\n",
              "1000.0      20875\n",
              "150000.0    18663\n",
              "100000.0    18526\n",
              "250000.0    14865\n",
              "            ...  \n",
              "524000.0        8\n",
              "472000.0        4\n",
              "810000.0        3\n",
              "411000.0        2\n",
              "475000.0        1\n",
              "Name: mileage, Length: 487, dtype: int64"
            ]
          },
          "metadata": {},
          "execution_count": 36
        }
      ],
      "source": [
        "df['mileage'].value_counts()"
      ]
    },
    {
      "cell_type": "markdown",
      "source": [
        "Seaborn library which is distplot() will show the distribution of mileage for the car sold in Russia. "
      ],
      "metadata": {
        "id": "mIVQgDfFHfc5"
      }
    },
    {
      "cell_type": "code",
      "execution_count": null,
      "metadata": {
        "id": "ShA3QyQpVJJ-",
        "colab": {
          "base_uri": "https://localhost:8080/",
          "height": 417
        },
        "outputId": "e9144ad0-2289-472d-aa4d-2fe94336c26d"
      },
      "outputs": [
        {
          "output_type": "stream",
          "name": "stderr",
          "text": [
            "/usr/local/lib/python3.8/dist-packages/seaborn/distributions.py:2619: FutureWarning: `distplot` is a deprecated function and will be removed in a future version. Please adapt your code to use either `displot` (a figure-level function with similar flexibility) or `histplot` (an axes-level function for histograms).\n",
            "  warnings.warn(msg, FutureWarning)\n"
          ]
        },
        {
          "output_type": "display_data",
          "data": {
            "text/plain": [
              "<Figure size 648x360 with 1 Axes>"
            ],
            "image/png": "[encoded data removed]"
          },
          "metadata": {
            "needs_background": "light"
          }
        }
      ],
      "source": [
        "sns.distplot(df.mileage)\n",
        "plt.xlabel('mileage',fontsize=16)\n",
        "plt.ylabel('relative amount',fontsize=16)\n",
        "plt.title('Mileage Distribution',fontsize=16)\n",
        "plt.show()"
      ]
    },
    {
      "cell_type": "markdown",
      "source": [
        "Answer: From the graph, it can be concluded that the mileage of a car will affect the interest of customers to buy the car because when the mileage increases, there are less customers to buy the car. "
      ],
      "metadata": {
        "id": "5KMrbdHKH8xO"
      }
    },
    {
      "cell_type": "markdown",
      "metadata": {
        "id": "ya3o0SurVJJ-"
      },
      "source": [
        "#### Q3: What is the relation between the number of cars for sale according to the year they were manufactured?"
      ]
    },
    {
      "cell_type": "markdown",
      "source": [
        "value_counts() has been used to calculate the number of cars sold over the years of manufactured."
      ],
      "metadata": {
        "id": "Aao5xJA4LKja"
      }
    },
    {
      "cell_type": "code",
      "execution_count": null,
      "metadata": {
        "id": "bGV1nEzqVJJ-",
        "colab": {
          "base_uri": "https://localhost:8080/"
        },
        "outputId": "03638ee7-c9a4-4992-84c6-b27a8f260fd8"
      },
      "outputs": [
        {
          "output_type": "execute_result",
          "data": {
            "text/plain": [
              "2017    106702\n",
              "2015     80216\n",
              "2018     71136\n",
              "2016     67622\n",
              "2009     59794\n",
              "2010     58405\n",
              "2012     50898\n",
              "2013     50051\n",
              "2014     43356\n",
              "2011     34645\n",
              "2008     33543\n",
              "2007     28298\n",
              "2006     24626\n",
              "2005     24094\n",
              "2000     23467\n",
              "1998     22964\n",
              "2002     22841\n",
              "2019     21526\n",
              "1997     20927\n",
              "2020     19796\n",
              "2001     19580\n",
              "1999     17174\n",
              "1996     15053\n",
              "2004     13507\n",
              "2003     13457\n",
              "1995     10513\n",
              "2021      8814\n",
              "1992      7709\n",
              "1993      7618\n",
              "1994      6594\n",
              "1991      4722\n",
              "1990      2972\n",
              "1989      2111\n",
              "1988      1821\n",
              "1987      1221\n",
              "1982       628\n",
              "1986       609\n",
              "1979       541\n",
              "1985       525\n",
              "1977       410\n",
              "1984       374\n",
              "1970       173\n",
              "1981       170\n",
              "1983       155\n",
              "1972       107\n",
              "1953       104\n",
              "2022        91\n",
              "1976        88\n",
              "1964        55\n",
              "1974        53\n",
              "1962        43\n",
              "1948        42\n",
              "1980        40\n",
              "1958        32\n",
              "1975        22\n",
              "1973        20\n",
              "1978        17\n",
              "1943        13\n",
              "1971        11\n",
              "Name: year, dtype: int64"
            ]
          },
          "metadata": {},
          "execution_count": 38
        }
      ],
      "source": [
        "data = df['year'].value_counts()\n",
        "data"
      ]
    },
    {
      "cell_type": "markdown",
      "source": [
        "lineplot() from seaborn library is used to plot the number of cars sold over the year."
      ],
      "metadata": {
        "id": "nbE0YEZqLWsn"
      }
    },
    {
      "cell_type": "code",
      "execution_count": null,
      "metadata": {
        "id": "CaF9SiPeVJJ-",
        "colab": {
          "base_uri": "https://localhost:8080/",
          "height": 342
        },
        "outputId": "95c2edb6-7641-4804-8840-677e0d3bd3cd"
      },
      "outputs": [
        {
          "output_type": "execute_result",
          "data": {
            "text/plain": [
              "<matplotlib.axes._subplots.AxesSubplot at 0x7fe73356cf40>"
            ]
          },
          "metadata": {},
          "execution_count": 39
        },
        {
          "output_type": "display_data",
          "data": {
            "text/plain": [
              "<Figure size 648x360 with 1 Axes>"
            ],
            "image/png": "[encoded data removed]"
          },
          "metadata": {
            "needs_background": "light"
          }
        }
      ],
      "source": [
        "sns.lineplot(x=data.index, y=data.values, data=data)"
      ]
    },
    {
      "cell_type": "markdown",
      "source": [
        "Answer: The most recent manufactured car will have higher sales compared to the car that was manufactured in the earlier year. "
      ],
      "metadata": {
        "id": "QLf85ilzT8Di"
      }
    },
    {
      "cell_type": "markdown",
      "metadata": {
        "id": "p4CcVO1TVJJ-"
      },
      "source": [
        "#### Q4: How does the sales of car in different city in Russia?"
      ]
    },
    {
      "cell_type": "markdown",
      "source": [
        "The data is grouped into location by using the pandas library function and calculates the sum of the price(sum()). Then, the nlargest() function aims to get the top 10 locations that have highest sales. "
      ],
      "metadata": {
        "id": "lu5yQoy8L2ro"
      }
    },
    {
      "cell_type": "code",
      "execution_count": null,
      "metadata": {
        "id": "Wa96BGX1VJJ-",
        "colab": {
          "base_uri": "https://localhost:8080/"
        },
        "outputId": "f49f36a3-872d-4f82-f887-9b583a9d03a8"
      },
      "outputs": [
        {
          "output_type": "execute_result",
          "data": {
            "text/plain": [
              "location\n",
              "Vladivostok      1.049740e+12\n",
              "Ussurijsk        2.115338e+11\n",
              "Nahodka          8.886404e+10\n",
              "Artem            3.976266e+10\n",
              "Arsenev          1.259980e+10\n",
              "Spassk-Dalnij    1.127248e+10\n",
              "Dalnegorsk       1.039080e+10\n",
              "Dalnerechensk    9.983961e+09\n",
              "Bolshoj Kamen    7.327723e+09\n",
              "Lesozavodsk      6.887392e+09\n",
              "Name: price, dtype: float64"
            ]
          },
          "metadata": {},
          "execution_count": 59
        }
      ],
      "source": [
        "data = df.groupby(['location'])['price'].sum()\n",
        "data = data.nlargest(10)\n",
        "data"
      ]
    },
    {
      "cell_type": "markdown",
      "source": [
        "To obtain a better view, we plot the pie chart by using matplotlib library function (pie) and label the legends based on locations of car sold. "
      ],
      "metadata": {
        "id": "ItrcrzZONiQo"
      }
    },
    {
      "cell_type": "code",
      "execution_count": null,
      "metadata": {
        "id": "R_C78KePVJJ-",
        "colab": {
          "base_uri": "https://localhost:8080/",
          "height": 701
        },
        "outputId": "cb45ae29-a6a2-46c3-fa33-2ac75e25fcd9"
      },
      "outputs": [
        {
          "output_type": "display_data",
          "data": {
            "text/plain": [
              "<Figure size 864x936 with 1 Axes>"
            ],
            "image/png": "[encoded data removed]"
          },
          "metadata": {}
        }
      ],
      "source": [
        "plt.rcParams['figure.figsize'] = (12, 13)\n",
        "plt.pie(data, shadow = True, autopct = '%.2f%%', pctdistance=1.1)\n",
        "plt.axis('off')\n",
        "plt.legend(data.index, loc='right', bbox_to_anchor=(1.5,0.5))\n",
        "plt.show()"
      ]
    },
    {
      "cell_type": "markdown",
      "source": [
        "Answer: According to both dataframe and pie chart, the sales of cars varies across locations but Vladivostok has the highest sales of cars. "
      ],
      "metadata": {
        "id": "v5rYuE8PNuxj"
      }
    },
    {
      "cell_type": "markdown",
      "metadata": {
        "id": "uFuZBqX1VJJ_"
      },
      "source": [
        "#### Q5: How does the price of car affected by the year manufactured for each engine displacement?"
      ]
    },
    {
      "cell_type": "markdown",
      "source": [
        "We would like to know will the year manufactured and engine displacement affect the price of the car. However, the engine displacement is in string data type, we will extract the numeric value from the engine displacement and change its data type to float. "
      ],
      "metadata": {
        "id": "N9zUMX3UOVOQ"
      }
    },
    {
      "cell_type": "code",
      "source": [
        "data2 = df\n",
        "litter = []\n",
        "for i in df.engineDisplacement:\n",
        "  j = i[0:3]\n",
        "  litter.append(j)\n",
        "data2['litter'] = litter\n",
        "data2 = data2.astype({'litter': float})\n",
        "data2"
      ],
      "metadata": {
        "colab": {
          "base_uri": "https://localhost:8080/",
          "height": 626
        },
        "id": "rwmwUNbYJJDT",
        "outputId": "17e41a73-0863-4f16-f2ed-f032b036bb2f"
      },
      "execution_count": null,
      "outputs": [
        {
          "output_type": "execute_result",
          "data": {
            "text/plain": [
              "                 brand       name           bodyType     color  fuelType  \\\n",
              "2        Mercedes-Benz  GLE Coupe       jeep 5 doors  burgundy  Gasoline   \n",
              "3        Mercedes-Benz    G-Class       jeep 5 doors     black  Gasoline   \n",
              "5                Lexus      RX350       jeep 5 doors  burgundy  Gasoline   \n",
              "8               Nissan       Note  hatchback 5 doors      grey  Gasoline   \n",
              "10              Toyota    Harrier       jeep 5 doors     white  Gasoline   \n",
              "...                ...        ...                ...       ...       ...   \n",
              "1513192         Toyota      Prius           liftback      grey  Gasoline   \n",
              "1513194         Toyota      Prius           liftback     white  Gasoline   \n",
              "1513197          Lexus      GX470       jeep 5 doors     black  Gasoline   \n",
              "1513198         Nissan     Safari       jeep 5 doors     green    Diesel   \n",
              "1513199         Suzuki     Escudo       jeep 3 doors     white  Gasoline   \n",
              "\n",
              "         year   mileage transmission  power    price  \\\n",
              "2        2015   57000.0           AT  367.0  4600000   \n",
              "3        2002  200000.0           AT  296.0  2999999   \n",
              "5        2016  150000.0           AT  301.0  3500000   \n",
              "8        2016   58000.0          CVT   79.0   850000   \n",
              "10       2017   20000.0           AT  231.0  3300000   \n",
              "...       ...       ...          ...    ...      ...   \n",
              "1513192  2011  190000.0          CVT   99.0   910000   \n",
              "1513194  2012  268000.0          CVT   99.0   930000   \n",
              "1513197  2002  170000.0           AT  235.0  1680000   \n",
              "1513198  1997  313000.0           AT  160.0   999000   \n",
              "1513199  1997   90000.0           AT  100.0   537000   \n",
              "\n",
              "                          vehicleConfiguration      engineName  \\\n",
              "2                  450 AMG 4MATIC Особая серия  M 276 DE 30 AL   \n",
              "3                                        G 500      M 113 E 50   \n",
              "5                        3.5 AT F Sport Luxury        2GR-FKS    \n",
              "8                                        1.2 X          HR12DE   \n",
              "10             2.0 Turbo Elegance GR Sport 4WD         8AR-FTS   \n",
              "...                                        ...             ...   \n",
              "1513192                1.8 G touring selection         2ZR-FXE   \n",
              "1513194                                  1.8 L         2ZR-FXE   \n",
              "1513197                                    4.7          2UZ-FE   \n",
              "1513198  4.2 Granroad limited diesel turbo 4WD           TD42T   \n",
              "1513199               1.6 Helly Hansen limited            G16A   \n",
              "\n",
              "        engineDisplacement     location  litter  \n",
              "2                  3.0 LTR  Vladivostok     3.0  \n",
              "3                  5.0 LTR  Vladivostok     5.0  \n",
              "5                  3.5 LTR  Vladivostok     3.5  \n",
              "8                  1.2 LTR        Artem     1.2  \n",
              "10                 2.0 LTR  Vladivostok     2.0  \n",
              "...                    ...          ...     ...  \n",
              "1513192            1.8 LTR    Ussurijsk     1.8  \n",
              "1513194            1.8 LTR  Vladivostok     1.8  \n",
              "1513197            4.7 LTR    Ussurijsk     4.7  \n",
              "1513198            4.2 LTR      Nahodka     4.2  \n",
              "1513199            1.6 LTR  Lesozavodsk     1.6  \n",
              "\n",
              "[1002096 rows x 15 columns]"
            ],
            "text/html": [
              "\n",
              "  <div id=\"df-a99189e1-6464-4ba6-a40c-89a3c068c7fa\">\n",
              "    <div class=\"colab-df-container\">\n",
              "      <div>\n",
              "<style scoped>\n",
              "    .dataframe tbody tr th:only-of-type {\n",
              "        vertical-align: middle;\n",
              "    }\n",
              "\n",
              "    .dataframe tbody tr th {\n",
              "        vertical-align: top;\n",
              "    }\n",
              "\n",
              "    .dataframe thead th {\n",
              "        text-align: right;\n",
              "    }\n",
              "</style>\n",
              "<table border=\"1\" class=\"dataframe\">\n",
              "  <thead>\n",
              "    <tr style=\"text-align: right;\">\n",
              "      <th></th>\n",
              "      <th>brand</th>\n",
              "      <th>name</th>\n",
              "      <th>bodyType</th>\n",
              "      <th>color</th>\n",
              "      <th>fuelType</th>\n",
              "      <th>year</th>\n",
              "      <th>mileage</th>\n",
              "      <th>transmission</th>\n",
              "      <th>power</th>\n",
              "      <th>price</th>\n",
              "      <th>vehicleConfiguration</th>\n",
              "      <th>engineName</th>\n",
              "      <th>engineDisplacement</th>\n",
              "      <th>location</th>\n",
              "      <th>litter</th>\n",
              "    </tr>\n",
              "  </thead>\n",
              "  <tbody>\n",
              "    <tr>\n",
              "      <th>2</th>\n",
              "      <td>Mercedes-Benz</td>\n",
              "      <td>GLE Coupe</td>\n",
              "      <td>jeep 5 doors</td>\n",
              "      <td>burgundy</td>\n",
              "      <td>Gasoline</td>\n",
              "      <td>2015</td>\n",
              "      <td>57000.0</td>\n",
              "      <td>AT</td>\n",
              "      <td>367.0</td>\n",
              "      <td>4600000</td>\n",
              "      <td>450 AMG 4MATIC Особая серия</td>\n",
              "      <td>M 276 DE 30 AL</td>\n",
              "      <td>3.0 LTR</td>\n",
              "      <td>Vladivostok</td>\n",
              "      <td>3.0</td>\n",
              "    </tr>\n",
              "    <tr>\n",
              "      <th>3</th>\n",
              "      <td>Mercedes-Benz</td>\n",
              "      <td>G-Class</td>\n",
              "      <td>jeep 5 doors</td>\n",
              "      <td>black</td>\n",
              "      <td>Gasoline</td>\n",
              "      <td>2002</td>\n",
              "      <td>200000.0</td>\n",
              "      <td>AT</td>\n",
              "      <td>296.0</td>\n",
              "      <td>2999999</td>\n",
              "      <td>G 500</td>\n",
              "      <td>M 113 E 50</td>\n",
              "      <td>5.0 LTR</td>\n",
              "      <td>Vladivostok</td>\n",
              "      <td>5.0</td>\n",
              "    </tr>\n",
              "    <tr>\n",
              "      <th>5</th>\n",
              "      <td>Lexus</td>\n",
              "      <td>RX350</td>\n",
              "      <td>jeep 5 doors</td>\n",
              "      <td>burgundy</td>\n",
              "      <td>Gasoline</td>\n",
              "      <td>2016</td>\n",
              "      <td>150000.0</td>\n",
              "      <td>AT</td>\n",
              "      <td>301.0</td>\n",
              "      <td>3500000</td>\n",
              "      <td>3.5 AT F Sport Luxury</td>\n",
              "      <td>2GR-FKS</td>\n",
              "      <td>3.5 LTR</td>\n",
              "      <td>Vladivostok</td>\n",
              "      <td>3.5</td>\n",
              "    </tr>\n",
              "    <tr>\n",
              "      <th>8</th>\n",
              "      <td>Nissan</td>\n",
              "      <td>Note</td>\n",
              "      <td>hatchback 5 doors</td>\n",
              "      <td>grey</td>\n",
              "      <td>Gasoline</td>\n",
              "      <td>2016</td>\n",
              "      <td>58000.0</td>\n",
              "      <td>CVT</td>\n",
              "      <td>79.0</td>\n",
              "      <td>850000</td>\n",
              "      <td>1.2 X</td>\n",
              "      <td>HR12DE</td>\n",
              "      <td>1.2 LTR</td>\n",
              "      <td>Artem</td>\n",
              "      <td>1.2</td>\n",
              "    </tr>\n",
              "    <tr>\n",
              "      <th>10</th>\n",
              "      <td>Toyota</td>\n",
              "      <td>Harrier</td>\n",
              "      <td>jeep 5 doors</td>\n",
              "      <td>white</td>\n",
              "      <td>Gasoline</td>\n",
              "      <td>2017</td>\n",
              "      <td>20000.0</td>\n",
              "      <td>AT</td>\n",
              "      <td>231.0</td>\n",
              "      <td>3300000</td>\n",
              "      <td>2.0 Turbo Elegance GR Sport 4WD</td>\n",
              "      <td>8AR-FTS</td>\n",
              "      <td>2.0 LTR</td>\n",
              "      <td>Vladivostok</td>\n",
              "      <td>2.0</td>\n",
              "    </tr>\n",
              "    <tr>\n",
              "      <th>...</th>\n",
              "      <td>...</td>\n",
              "      <td>...</td>\n",
              "      <td>...</td>\n",
              "      <td>...</td>\n",
              "      <td>...</td>\n",
              "      <td>...</td>\n",
              "      <td>...</td>\n",
              "      <td>...</td>\n",
              "      <td>...</td>\n",
              "      <td>...</td>\n",
              "      <td>...</td>\n",
              "      <td>...</td>\n",
              "      <td>...</td>\n",
              "      <td>...</td>\n",
              "      <td>...</td>\n",
              "    </tr>\n",
              "    <tr>\n",
              "      <th>1513192</th>\n",
              "      <td>Toyota</td>\n",
              "      <td>Prius</td>\n",
              "      <td>liftback</td>\n",
              "      <td>grey</td>\n",
              "      <td>Gasoline</td>\n",
              "      <td>2011</td>\n",
              "      <td>190000.0</td>\n",
              "      <td>CVT</td>\n",
              "      <td>99.0</td>\n",
              "      <td>910000</td>\n",
              "      <td>1.8 G touring selection</td>\n",
              "      <td>2ZR-FXE</td>\n",
              "      <td>1.8 LTR</td>\n",
              "      <td>Ussurijsk</td>\n",
              "      <td>1.8</td>\n",
              "    </tr>\n",
              "    <tr>\n",
              "      <th>1513194</th>\n",
              "      <td>Toyota</td>\n",
              "      <td>Prius</td>\n",
              "      <td>liftback</td>\n",
              "      <td>white</td>\n",
              "      <td>Gasoline</td>\n",
              "      <td>2012</td>\n",
              "      <td>268000.0</td>\n",
              "      <td>CVT</td>\n",
              "      <td>99.0</td>\n",
              "      <td>930000</td>\n",
              "      <td>1.8 L</td>\n",
              "      <td>2ZR-FXE</td>\n",
              "      <td>1.8 LTR</td>\n",
              "      <td>Vladivostok</td>\n",
              "      <td>1.8</td>\n",
              "    </tr>\n",
              "    <tr>\n",
              "      <th>1513197</th>\n",
              "      <td>Lexus</td>\n",
              "      <td>GX470</td>\n",
              "      <td>jeep 5 doors</td>\n",
              "      <td>black</td>\n",
              "      <td>Gasoline</td>\n",
              "      <td>2002</td>\n",
              "      <td>170000.0</td>\n",
              "      <td>AT</td>\n",
              "      <td>235.0</td>\n",
              "      <td>1680000</td>\n",
              "      <td>4.7</td>\n",
              "      <td>2UZ-FE</td>\n",
              "      <td>4.7 LTR</td>\n",
              "      <td>Ussurijsk</td>\n",
              "      <td>4.7</td>\n",
              "    </tr>\n",
              "    <tr>\n",
              "      <th>1513198</th>\n",
              "      <td>Nissan</td>\n",
              "      <td>Safari</td>\n",
              "      <td>jeep 5 doors</td>\n",
              "      <td>green</td>\n",
              "      <td>Diesel</td>\n",
              "      <td>1997</td>\n",
              "      <td>313000.0</td>\n",
              "      <td>AT</td>\n",
              "      <td>160.0</td>\n",
              "      <td>999000</td>\n",
              "      <td>4.2 Granroad limited diesel turbo 4WD</td>\n",
              "      <td>TD42T</td>\n",
              "      <td>4.2 LTR</td>\n",
              "      <td>Nahodka</td>\n",
              "      <td>4.2</td>\n",
              "    </tr>\n",
              "    <tr>\n",
              "      <th>1513199</th>\n",
              "      <td>Suzuki</td>\n",
              "      <td>Escudo</td>\n",
              "      <td>jeep 3 doors</td>\n",
              "      <td>white</td>\n",
              "      <td>Gasoline</td>\n",
              "      <td>1997</td>\n",
              "      <td>90000.0</td>\n",
              "      <td>AT</td>\n",
              "      <td>100.0</td>\n",
              "      <td>537000</td>\n",
              "      <td>1.6 Helly Hansen limited</td>\n",
              "      <td>G16A</td>\n",
              "      <td>1.6 LTR</td>\n",
              "      <td>Lesozavodsk</td>\n",
              "      <td>1.6</td>\n",
              "    </tr>\n",
              "  </tbody>\n",
              "</table>\n",
              "<p>1002096 rows × 15 columns</p>\n",
              "</div>\n",
              "      <button class=\"colab-df-convert\" onclick=\"convertToInteractive('df-a99189e1-6464-4ba6-a40c-89a3c068c7fa')\"\n",
              "              title=\"Convert this dataframe to an interactive table.\"\n",
              "              style=\"display:none;\">\n",
              "        \n",
              "  <svg xmlns=\"http://www.w3.org/2000/svg\" height=\"24px\"viewBox=\"0 0 24 24\"\n",
              "       width=\"24px\">\n",
              "    <path d=\"M0 0h24v24H0V0z\" fill=\"none\"/>\n",
              "    <path d=\"M18.56 5.44l.94 2.06.94-2.06 2.06-.94-2.06-.94-.94-2.06-.94 2.06-2.06.94zm-11 1L8.5 8.5l.94-2.06 2.06-.94-2.06-.94L8.5 2.5l-.94 2.06-2.06.94zm10 10l.94 2.06.94-2.06 2.06-.94-2.06-.94-.94-2.06-.94 2.06-2.06.94z\"/><path d=\"M17.41 7.96l-1.37-1.37c-.4-.4-.92-.59-1.43-.59-.52 0-1.04.2-1.43.59L10.3 9.45l-7.72 7.72c-.78.78-.78 2.05 0 2.83L4 21.41c.39.39.9.59 1.41.59.51 0 1.02-.2 1.41-.59l7.78-7.78 2.81-2.81c.8-.78.8-2.07 0-2.86zM5.41 20L4 18.59l7.72-7.72 1.47 1.35L5.41 20z\"/>\n",
              "  </svg>\n",
              "      </button>\n",
              "      \n",
              "  <style>\n",
              "    .colab-df-container {\n",
              "      display:flex;\n",
              "      flex-wrap:wrap;\n",
              "      gap: 12px;\n",
              "    }\n",
              "\n",
              "    .colab-df-convert {\n",
              "      background-color: #E8F0FE;\n",
              "      border: none;\n",
              "      border-radius: 50%;\n",
              "      cursor: pointer;\n",
              "      display: none;\n",
              "      fill: #1967D2;\n",
              "      height: 32px;\n",
              "      padding: 0 0 0 0;\n",
              "      width: 32px;\n",
              "    }\n",
              "\n",
              "    .colab-df-convert:hover {\n",
              "      background-color: #E2EBFA;\n",
              "      box-shadow: 0px 1px 2px rgba(60, 64, 67, 0.3), 0px 1px 3px 1px rgba(60, 64, 67, 0.15);\n",
              "      fill: #174EA6;\n",
              "    }\n",
              "\n",
              "    [theme=dark] .colab-df-convert {\n",
              "      background-color: #3B4455;\n",
              "      fill: #D2E3FC;\n",
              "    }\n",
              "\n",
              "    [theme=dark] .colab-df-convert:hover {\n",
              "      background-color: #434B5C;\n",
              "      box-shadow: 0px 1px 3px 1px rgba(0, 0, 0, 0.15);\n",
              "      filter: drop-shadow(0px 1px 2px rgba(0, 0, 0, 0.3));\n",
              "      fill: #FFFFFF;\n",
              "    }\n",
              "  </style>\n",
              "\n",
              "      <script>\n",
              "        const buttonEl =\n",
              "          document.querySelector('#df-a99189e1-6464-4ba6-a40c-89a3c068c7fa button.colab-df-convert');\n",
              "        buttonEl.style.display =\n",
              "          google.colab.kernel.accessAllowed ? 'block' : 'none';\n",
              "\n",
              "        async function convertToInteractive(key) {\n",
              "          const element = document.querySelector('#df-a99189e1-6464-4ba6-a40c-89a3c068c7fa');\n",
              "          const dataTable =\n",
              "            await google.colab.kernel.invokeFunction('convertToInteractive',\n",
              "                                                     [key], {});\n",
              "          if (!dataTable) return;\n",
              "\n",
              "          const docLinkHtml = 'Like what you see? Visit the ' +\n",
              "            '<a target=\"_blank\" href=https://colab.research.google.com/notebooks/data_table.ipynb>data table notebook</a>'\n",
              "            + ' to learn more about interactive tables.';\n",
              "          element.innerHTML = '';\n",
              "          dataTable['output_type'] = 'display_data';\n",
              "          await google.colab.output.renderOutput(dataTable, element);\n",
              "          const docLink = document.createElement('div');\n",
              "          docLink.innerHTML = docLinkHtml;\n",
              "          element.appendChild(docLink);\n",
              "        }\n",
              "      </script>\n",
              "    </div>\n",
              "  </div>\n",
              "  "
            ]
          },
          "metadata": {},
          "execution_count": 42
        }
      ]
    },
    {
      "cell_type": "markdown",
      "source": [
        "Then, the data is grouped by using the 'year' and 'litter' columns and groupby() is used to perform this function. mean() is used to get the sum of price and sort_values is aimed to sort the price columns descending. "
      ],
      "metadata": {
        "id": "IW041w-hcSjI"
      }
    },
    {
      "cell_type": "code",
      "source": [
        "price_factor = data2.groupby(['year', 'litter'])['price'].mean().sort_values(ascending=False)\n",
        "price_factor = pd.DataFrame(price_factor)\n",
        "price_factor = price_factor.reset_index()\n",
        "price_factor"
      ],
      "metadata": {
        "colab": {
          "base_uri": "https://localhost:8080/",
          "height": 423
        },
        "id": "xF6XuF7kbtCP",
        "outputId": "186bb05e-c70d-473d-a176-aef17c06d47f"
      },
      "execution_count": null,
      "outputs": [
        {
          "output_type": "execute_result",
          "data": {
            "text/plain": [
              "     year  litter         price\n",
              "0    2018     4.0  2.319642e+07\n",
              "1    2021     6.2  1.900000e+07\n",
              "2    2020     4.4  1.582147e+07\n",
              "3    2020     5.7  1.420134e+07\n",
              "4    2021     3.4  1.394809e+07\n",
              "..    ...     ...           ...\n",
              "909  1973     1.2  5.500000e+04\n",
              "910  1984     1.3  5.476923e+04\n",
              "911  1948     2.1  5.000000e+04\n",
              "912  1991     0.8  4.000000e+04\n",
              "913  1976     1.5  3.000000e+04\n",
              "\n",
              "[914 rows x 3 columns]"
            ],
            "text/html": [
              "\n",
              "  <div id=\"df-aeb89d24-78b0-4e1f-8d07-f75f01a64333\">\n",
              "    <div class=\"colab-df-container\">\n",
              "      <div>\n",
              "<style scoped>\n",
              "    .dataframe tbody tr th:only-of-type {\n",
              "        vertical-align: middle;\n",
              "    }\n",
              "\n",
              "    .dataframe tbody tr th {\n",
              "        vertical-align: top;\n",
              "    }\n",
              "\n",
              "    .dataframe thead th {\n",
              "        text-align: right;\n",
              "    }\n",
              "</style>\n",
              "<table border=\"1\" class=\"dataframe\">\n",
              "  <thead>\n",
              "    <tr style=\"text-align: right;\">\n",
              "      <th></th>\n",
              "      <th>year</th>\n",
              "      <th>litter</th>\n",
              "      <th>price</th>\n",
              "    </tr>\n",
              "  </thead>\n",
              "  <tbody>\n",
              "    <tr>\n",
              "      <th>0</th>\n",
              "      <td>2018</td>\n",
              "      <td>4.0</td>\n",
              "      <td>2.319642e+07</td>\n",
              "    </tr>\n",
              "    <tr>\n",
              "      <th>1</th>\n",
              "      <td>2021</td>\n",
              "      <td>6.2</td>\n",
              "      <td>1.900000e+07</td>\n",
              "    </tr>\n",
              "    <tr>\n",
              "      <th>2</th>\n",
              "      <td>2020</td>\n",
              "      <td>4.4</td>\n",
              "      <td>1.582147e+07</td>\n",
              "    </tr>\n",
              "    <tr>\n",
              "      <th>3</th>\n",
              "      <td>2020</td>\n",
              "      <td>5.7</td>\n",
              "      <td>1.420134e+07</td>\n",
              "    </tr>\n",
              "    <tr>\n",
              "      <th>4</th>\n",
              "      <td>2021</td>\n",
              "      <td>3.4</td>\n",
              "      <td>1.394809e+07</td>\n",
              "    </tr>\n",
              "    <tr>\n",
              "      <th>...</th>\n",
              "      <td>...</td>\n",
              "      <td>...</td>\n",
              "      <td>...</td>\n",
              "    </tr>\n",
              "    <tr>\n",
              "      <th>909</th>\n",
              "      <td>1973</td>\n",
              "      <td>1.2</td>\n",
              "      <td>5.500000e+04</td>\n",
              "    </tr>\n",
              "    <tr>\n",
              "      <th>910</th>\n",
              "      <td>1984</td>\n",
              "      <td>1.3</td>\n",
              "      <td>5.476923e+04</td>\n",
              "    </tr>\n",
              "    <tr>\n",
              "      <th>911</th>\n",
              "      <td>1948</td>\n",
              "      <td>2.1</td>\n",
              "      <td>5.000000e+04</td>\n",
              "    </tr>\n",
              "    <tr>\n",
              "      <th>912</th>\n",
              "      <td>1991</td>\n",
              "      <td>0.8</td>\n",
              "      <td>4.000000e+04</td>\n",
              "    </tr>\n",
              "    <tr>\n",
              "      <th>913</th>\n",
              "      <td>1976</td>\n",
              "      <td>1.5</td>\n",
              "      <td>3.000000e+04</td>\n",
              "    </tr>\n",
              "  </tbody>\n",
              "</table>\n",
              "<p>914 rows × 3 columns</p>\n",
              "</div>\n",
              "      <button class=\"colab-df-convert\" onclick=\"convertToInteractive('df-aeb89d24-78b0-4e1f-8d07-f75f01a64333')\"\n",
              "              title=\"Convert this dataframe to an interactive table.\"\n",
              "              style=\"display:none;\">\n",
              "        \n",
              "  <svg xmlns=\"http://www.w3.org/2000/svg\" height=\"24px\"viewBox=\"0 0 24 24\"\n",
              "       width=\"24px\">\n",
              "    <path d=\"M0 0h24v24H0V0z\" fill=\"none\"/>\n",
              "    <path d=\"M18.56 5.44l.94 2.06.94-2.06 2.06-.94-2.06-.94-.94-2.06-.94 2.06-2.06.94zm-11 1L8.5 8.5l.94-2.06 2.06-.94-2.06-.94L8.5 2.5l-.94 2.06-2.06.94zm10 10l.94 2.06.94-2.06 2.06-.94-2.06-.94-.94-2.06-.94 2.06-2.06.94z\"/><path d=\"M17.41 7.96l-1.37-1.37c-.4-.4-.92-.59-1.43-.59-.52 0-1.04.2-1.43.59L10.3 9.45l-7.72 7.72c-.78.78-.78 2.05 0 2.83L4 21.41c.39.39.9.59 1.41.59.51 0 1.02-.2 1.41-.59l7.78-7.78 2.81-2.81c.8-.78.8-2.07 0-2.86zM5.41 20L4 18.59l7.72-7.72 1.47 1.35L5.41 20z\"/>\n",
              "  </svg>\n",
              "      </button>\n",
              "      \n",
              "  <style>\n",
              "    .colab-df-container {\n",
              "      display:flex;\n",
              "      flex-wrap:wrap;\n",
              "      gap: 12px;\n",
              "    }\n",
              "\n",
              "    .colab-df-convert {\n",
              "      background-color: #E8F0FE;\n",
              "      border: none;\n",
              "      border-radius: 50%;\n",
              "      cursor: pointer;\n",
              "      display: none;\n",
              "      fill: #1967D2;\n",
              "      height: 32px;\n",
              "      padding: 0 0 0 0;\n",
              "      width: 32px;\n",
              "    }\n",
              "\n",
              "    .colab-df-convert:hover {\n",
              "      background-color: #E2EBFA;\n",
              "      box-shadow: 0px 1px 2px rgba(60, 64, 67, 0.3), 0px 1px 3px 1px rgba(60, 64, 67, 0.15);\n",
              "      fill: #174EA6;\n",
              "    }\n",
              "\n",
              "    [theme=dark] .colab-df-convert {\n",
              "      background-color: #3B4455;\n",
              "      fill: #D2E3FC;\n",
              "    }\n",
              "\n",
              "    [theme=dark] .colab-df-convert:hover {\n",
              "      background-color: #434B5C;\n",
              "      box-shadow: 0px 1px 3px 1px rgba(0, 0, 0, 0.15);\n",
              "      filter: drop-shadow(0px 1px 2px rgba(0, 0, 0, 0.3));\n",
              "      fill: #FFFFFF;\n",
              "    }\n",
              "  </style>\n",
              "\n",
              "      <script>\n",
              "        const buttonEl =\n",
              "          document.querySelector('#df-aeb89d24-78b0-4e1f-8d07-f75f01a64333 button.colab-df-convert');\n",
              "        buttonEl.style.display =\n",
              "          google.colab.kernel.accessAllowed ? 'block' : 'none';\n",
              "\n",
              "        async function convertToInteractive(key) {\n",
              "          const element = document.querySelector('#df-aeb89d24-78b0-4e1f-8d07-f75f01a64333');\n",
              "          const dataTable =\n",
              "            await google.colab.kernel.invokeFunction('convertToInteractive',\n",
              "                                                     [key], {});\n",
              "          if (!dataTable) return;\n",
              "\n",
              "          const docLinkHtml = 'Like what you see? Visit the ' +\n",
              "            '<a target=\"_blank\" href=https://colab.research.google.com/notebooks/data_table.ipynb>data table notebook</a>'\n",
              "            + ' to learn more about interactive tables.';\n",
              "          element.innerHTML = '';\n",
              "          dataTable['output_type'] = 'display_data';\n",
              "          await google.colab.output.renderOutput(dataTable, element);\n",
              "          const docLink = document.createElement('div');\n",
              "          docLink.innerHTML = docLinkHtml;\n",
              "          element.appendChild(docLink);\n",
              "        }\n",
              "      </script>\n",
              "    </div>\n",
              "  </div>\n",
              "  "
            ]
          },
          "metadata": {},
          "execution_count": 69
        }
      ]
    },
    {
      "cell_type": "markdown",
      "source": [
        "A scatter plot of “price” against “litter” and \"price\" against \"year\" was plotted by using seaborn library(lmplot) in order to know whether litter and year of manufacture of car will affect the price of car."
      ],
      "metadata": {
        "id": "4MsqxTfoQl1I"
      }
    },
    {
      "cell_type": "code",
      "source": [
        "plt.figure(figsize=(20, 15))\n",
        "sns.lmplot(data=price_factor,x='litter',y='price')\n",
        "sns.lmplot(data=price_factor,x='year',y='price');"
      ],
      "metadata": {
        "colab": {
          "base_uri": "https://localhost:8080/",
          "height": 731
        },
        "id": "ooh5bmlTPzsg",
        "outputId": "2e8d9e9c-ce52-4cea-be06-9e284df5e713"
      },
      "execution_count": null,
      "outputs": [
        {
          "output_type": "display_data",
          "data": {
            "text/plain": [
              "<Figure size 1440x1080 with 0 Axes>"
            ]
          },
          "metadata": {}
        },
        {
          "output_type": "display_data",
          "data": {
            "text/plain": [
              "<Figure size 360x360 with 1 Axes>"
            ],
            "image/png": "[encoded data removed]"
          },
          "metadata": {}
        },
        {
          "output_type": "display_data",
          "data": {
            "text/plain": [
              "<Figure size 360x360 with 1 Axes>"
            ],
            "image/png": "[encoded data removed]"
          },
          "metadata": {}
        }
      ]
    },
    {
      "cell_type": "markdown",
      "source": [
        "Answer: Overall, the price will increase when the engine displacement is larger and the manufactured year is latest."
      ],
      "metadata": {
        "id": "_9j-wPUKOt0K"
      }
    },
    {
      "cell_type": "markdown",
      "metadata": {
        "id": "VxoO755tVJJ_"
      },
      "source": [
        "## Inferences and Conclusion\n",
        "\n",
        "Summary of all the inferences drawn from the analysis and conclusion about answering all the interesting questions has been drawn. \n",
        "\n",
        "\n",
        "---\n",
        "\n"
      ]
    },
    {
      "cell_type": "markdown",
      "source": [
        "In summary, we have gone through a series of steps from obtaining the dataset until analyzing the data. There are several interesting questions that have been asked in order to gain some insight about the data. Based on the analysis, we found that most of the people in Russia like to buy jeep 5 doors type of car and it is probably due to this car type being enough to accommodate the family size and the car space is flexible to adjust. <br><br>\n",
        "Other than that, the number of cars sold increases when the cars have smaller mileage and were produced in the latest year. This is because a car with low mileage means it has better condition compared to the car that’s traveled many miles over the year. So, this can save a huge amount of money on maintenance and servicing costs. Then, a car that has been manufactured recently is preferred over older ones as it may provide more useful and safety functions like blind spot monitoring. However, the price becomes more expensive when the engine displacement is larger and the manufactured year is latest but the additional safety function and vehicle dynamic performance are worth more than the difference in price between old and new car. Thus, more customers think that the additional price of a Jeep 5 doors vehicle is considered cost-effective.<br><br>\n",
        " \n",
        "Moreover, the location will seriously affect the sale of cars. For example, Vladivostok has the highest sales of cars, probably due to it is the head of Russian car maker so it will have a high reputation. \n"
      ],
      "metadata": {
        "id": "rkYPNilBb2rL"
      }
    },
    {
      "cell_type": "markdown",
      "metadata": {
        "id": "xfuc6sJgVJKA"
      },
      "source": [
        "## References and Future Work\n",
        "\n",
        "Future investigation about the car sales and some resources that help to complete this assignment. "
      ]
    },
    {
      "cell_type": "markdown",
      "source": [
        "From this dataset, I have understood the preference of the Russian when buying a car. Since a car is a necessary item for most people, we can manipulate the data in order to help customers make a better decision when deciding whether to buy or sell a car in Russia. There are also some columns that have not been explored in this project. Therefore, we wish to investigate and understand more about the car sales by getting more insight from this dataset. "
      ],
      "metadata": {
        "id": "k1WDIWNncGsi"
      }
    },
    {
      "cell_type": "markdown",
      "source": [
        "**Resources**<br>\n",
        "[What is low milleage?](https://heycar.co.uk/guides/what-is-low-mileage)<br>\n",
        "[Car Sales in Russia](https://auto.economictimes.indiatimes.com/news/passenger-vehicle/cars/russias-avtovaz-says-sales-jump-80-in-august-from-july/94045719)<br>\n",
        "[Seaborn](https://colab.research.google.com/drive/1GWKtrW5GqZ8ifOh2deHLThxCpBE14A2c)<br>\n",
        "[Matplotlib](https://colab.research.google.com/drive/1Sk44p68l7wwrldwtZ_jpQ9-CTeDDcpTH)<br>\n",
        "[4 strategies how to deal with large datasets in Pandas](https://www.vantage-ai.com/en/blog/4-strategies-how-to-deal-with-large-datasets-in-pandas)<br>\n",
        "[NYC Taxi Trip Duration EDA notebook](https://github.com/drshahizan/Python_Tutorial/blob/main/big%20data/Lab_3_NYC_EDA.ipynb)<br>\n",
        "[eCommerce behavior data from multi category store](https://github.com/drshahizan/Python_Tutorial/blob/main/big%20data/Lab_5_Dataset_285_million_users.ipynb)<br>\n",
        "[Charts for Three or More Variables](https://help.syncfusion.com/predictive-analytics/charts-for-three-or-more-variables)\n",
        "\n"
      ],
      "metadata": {
        "id": "4XbXHZOXcHER"
      }
    }
  ],
  "metadata": {
    "colab": {
      "provenance": [],
      "include_colab_link": true
    },
    "kernelspec": {
      "display_name": "Python 3",
      "language": "python",
      "name": "python3"
    },
    "language_info": {
      "codemirror_mode": {
        "name": "ipython",
        "version": 3
      },
      "file_extension": ".py",
      "mimetype": "text/x-python",
      "name": "python",
      "nbconvert_exporter": "python",
      "pygments_lexer": "ipython3",
      "version": "3.8.5"
    }
  },
  "nbformat": 4,
  "nbformat_minor": 0
}
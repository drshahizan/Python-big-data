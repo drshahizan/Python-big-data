{
  "cells": [
    {
      "cell_type": "markdown",
      "metadata": {
        "id": "view-in-github",
        "colab_type": "text"
      },
      "source": [
        "<a href=\"https://colab.research.google.com/github/drshahizan/Python-big-data/blob/main/Assignment%201/Pixelated/Assignment_big_data(Pixelated).ipynb\" target=\"_parent\"><img src=\"https://colab.research.google.com/assets/colab-badge.svg\" alt=\"Open In Colab\"/></a>"
      ]
    },
    {
      "cell_type": "markdown",
      "metadata": {
        "id": "7F8DQl5dVJJ0"
      },
      "source": [
        "\n",
        "\n",
        "\n",
        "\n",
        "# Project Title - Google Playstore Summary\n"
      ]
    },
    {
      "cell_type": "markdown",
      "source": [
        "\n",
        "## Group Members:\n",
        "\n",
        "\n",
        "\n",
        "\n",
        "> Terence Loorthanathan (A20EC0165)\n",
        "\n",
        "\n",
        "> Rishma Fathima Binti Basher (A20EC0137)\n",
        "\n",
        "\n",
        "\n",
        "\n"
      ],
      "metadata": {
        "id": "JAcnrwH16eeP"
      }
    },
    {
      "cell_type": "markdown",
      "source": [
        "There are more than 3.04 million apps found on Google Play Store. In order to track down the app performance and ratings, Google Playstore provide a summary through dataset. \n",
        "\n",
        "Therefore the dataset is taken from Kaggle, [Google Playstore App Dataset](https://www.kaggle.com/datasets/gauthamp10/google-playstore-apps)\n",
        "\n",
        "\n",
        "Dataset: Google Playstore App\n",
        "\n",
        "\n",
        "\n",
        "\n",
        "### The dataset contains 2312944 records and 24 columns of:\n",
        "\n",
        "    App Name  (object) : Name of the application in Google Playstore\n",
        "    App Id (object): Id of the application in Google Playstore\n",
        "    Category (object): The application category in Google Playstore\n",
        "    Rating (float64) : The application rating in Google Playstore\n",
        "    Rating Count (float64) :  The applicattion rating count in Google Playstore\n",
        "    Installs (object):  The number of app installed in Google Playstore\n",
        "    Minimum Installs (float64): The minimum number of app installed in Google Playstore\n",
        "    Maximum Installs (int64): The maximum number of app installed in Google Playstore\n",
        "    Free (bool) : Whether the application in Google Playstore is free or not\n",
        "    Price (float64) : The application price in Google Playstore\n",
        "    Currency  (object) : Currency of the application in Google Playstore\n",
        "    Size  (object) : Size of the application in Google Playstore\n",
        "    Minimum Android  (object) : Minimum Andriod required by the application in Google Playstore\n",
        "    Developer Id  (object) : Developer Id of the application in Google Playstore\n",
        "    Developer Website  (object) : Developer Website of the application in Google Playstore\n",
        "    Developer Email  (object) : Developer Email of the application in Google Playstore\n",
        "    Released  (object) : Released date of the application in Google Playstore\n",
        "    Last Updated  (object) : Last Updated of the application in Google Playstore\n",
        "    Content Rating  (object) : Content Rating of the application in Google Playstore\n",
        "    Privacy Policy (object) : Privacy Policy of the application in Google Playstore\n",
        "    Ad supported (bool) : Whether the application in Google Playstore is Ad supported or not\n",
        "    In App purchases (bool) : Whether the application in Google Playstore is App purchases or not\n",
        "    Editor Choice (bool) : Whether the application in Google Playstore is Editor Choice or not\n",
        "    Scrapped time (object) : Scrapped time of the application in Google Playstore\n",
        "    \n"
      ],
      "metadata": {
        "id": "mKeF0Y006kL4"
      }
    },
    {
      "cell_type": "markdown",
      "metadata": {
        "id": "LxWzVndBVJJ1"
      },
      "source": [
        "## Downloading the Dataset and Sampling\n",
        "\n",
        "The dataset can be viewed in this [link](https://www.kaggle.com/datasets/gauthamp10/google-playstore-apps)\n",
        "\n",
        "The description of the dataset and assignment can be viewed in this [link](https://github.com/drshahizan/Python-big-data/blob/14b2ca206a29d50ef2cc290890e7a08b9c98c0ca/Assignment%201/team%2014/readme.md)"
      ]
    },
    {
      "cell_type": "markdown",
      "source": [
        "#### Downloading the Dataset"
      ],
      "metadata": {
        "id": "Yjfz5bsNV1h3"
      }
    },
    {
      "cell_type": "markdown",
      "metadata": {
        "id": "oHRcyidmVJJ1"
      },
      "source": [
        "To Mount Google Drive in which the dataset can be downloaded into, the code below has to be runned.\n"
      ]
    },
    {
      "cell_type": "code",
      "execution_count": null,
      "metadata": {
        "id": "_s6ZSPWYVJJ2",
        "colab": {
          "base_uri": "https://localhost:8080/"
        },
        "outputId": "4633b65c-df05-4522-b200-9a815b5e7870"
      },
      "outputs": [
        {
          "output_type": "stream",
          "name": "stdout",
          "text": [
            "Mounted at /content/drive\n"
          ]
        }
      ],
      "source": [
        "from google.colab import drive\n",
        "drive.mount('/content/drive')"
      ]
    },
    {
      "cell_type": "markdown",
      "source": [
        "The code below installs kaggle library, as it is needed in this procedure."
      ],
      "metadata": {
        "id": "n7oGAdGYULRW"
      }
    },
    {
      "cell_type": "code",
      "source": [
        " !pip install -q kaggle"
      ],
      "metadata": {
        "id": "RgGR4K04byXb"
      },
      "execution_count": null,
      "outputs": []
    },
    {
      "cell_type": "markdown",
      "metadata": {
        "id": "GhhO14GEVJJ2"
      },
      "source": [
        "Now the `kaggle.json` file has to be uploaded, which contains an API token. This is needed as  Kaggle services has to be authenticated."
      ]
    },
    {
      "cell_type": "code",
      "source": [
        "from google.colab import files\n",
        "\n",
        "files.upload()"
      ],
      "metadata": {
        "colab": {
          "base_uri": "https://localhost:8080/",
          "height": 91
        },
        "id": "rOcSifdBb3lA",
        "outputId": "b60a2595-f574-4018-d2dc-99730894d9c5"
      },
      "execution_count": null,
      "outputs": [
        {
          "output_type": "display_data",
          "data": {
            "text/plain": [
              "<IPython.core.display.HTML object>"
            ],
            "text/html": [
              "\n",
              "     <input type=\"file\" id=\"files-e73cccbe-c6ca-418b-b427-491571b571e9\" name=\"files[]\" multiple disabled\n",
              "        style=\"border:none\" />\n",
              "     <output id=\"result-e73cccbe-c6ca-418b-b427-491571b571e9\">\n",
              "      Upload widget is only available when the cell has been executed in the\n",
              "      current browser session. Please rerun this cell to enable.\n",
              "      </output>\n",
              "      <script>// Copyright 2017 Google LLC\n",
              "//\n",
              "// Licensed under the Apache License, Version 2.0 (the \"License\");\n",
              "// you may not use this file except in compliance with the License.\n",
              "// You may obtain a copy of the License at\n",
              "//\n",
              "//      http://www.apache.org/licenses/LICENSE-2.0\n",
              "//\n",
              "// Unless required by applicable law or agreed to in writing, software\n",
              "// distributed under the License is distributed on an \"AS IS\" BASIS,\n",
              "// WITHOUT WARRANTIES OR CONDITIONS OF ANY KIND, either express or implied.\n",
              "// See the License for the specific language governing permissions and\n",
              "// limitations under the License.\n",
              "\n",
              "/**\n",
              " * @fileoverview Helpers for google.colab Python module.\n",
              " */\n",
              "(function(scope) {\n",
              "function span(text, styleAttributes = {}) {\n",
              "  const element = document.createElement('span');\n",
              "  element.textContent = text;\n",
              "  for (const key of Object.keys(styleAttributes)) {\n",
              "    element.style[key] = styleAttributes[key];\n",
              "  }\n",
              "  return element;\n",
              "}\n",
              "\n",
              "// Max number of bytes which will be uploaded at a time.\n",
              "const MAX_PAYLOAD_SIZE = 100 * 1024;\n",
              "\n",
              "function _uploadFiles(inputId, outputId) {\n",
              "  const steps = uploadFilesStep(inputId, outputId);\n",
              "  const outputElement = document.getElementById(outputId);\n",
              "  // Cache steps on the outputElement to make it available for the next call\n",
              "  // to uploadFilesContinue from Python.\n",
              "  outputElement.steps = steps;\n",
              "\n",
              "  return _uploadFilesContinue(outputId);\n",
              "}\n",
              "\n",
              "// This is roughly an async generator (not supported in the browser yet),\n",
              "// where there are multiple asynchronous steps and the Python side is going\n",
              "// to poll for completion of each step.\n",
              "// This uses a Promise to block the python side on completion of each step,\n",
              "// then passes the result of the previous step as the input to the next step.\n",
              "function _uploadFilesContinue(outputId) {\n",
              "  const outputElement = document.getElementById(outputId);\n",
              "  const steps = outputElement.steps;\n",
              "\n",
              "  const next = steps.next(outputElement.lastPromiseValue);\n",
              "  return Promise.resolve(next.value.promise).then((value) => {\n",
              "    // Cache the last promise value to make it available to the next\n",
              "    // step of the generator.\n",
              "    outputElement.lastPromiseValue = value;\n",
              "    return next.value.response;\n",
              "  });\n",
              "}\n",
              "\n",
              "/**\n",
              " * Generator function which is called between each async step of the upload\n",
              " * process.\n",
              " * @param {string} inputId Element ID of the input file picker element.\n",
              " * @param {string} outputId Element ID of the output display.\n",
              " * @return {!Iterable<!Object>} Iterable of next steps.\n",
              " */\n",
              "function* uploadFilesStep(inputId, outputId) {\n",
              "  const inputElement = document.getElementById(inputId);\n",
              "  inputElement.disabled = false;\n",
              "\n",
              "  const outputElement = document.getElementById(outputId);\n",
              "  outputElement.innerHTML = '';\n",
              "\n",
              "  const pickedPromise = new Promise((resolve) => {\n",
              "    inputElement.addEventListener('change', (e) => {\n",
              "      resolve(e.target.files);\n",
              "    });\n",
              "  });\n",
              "\n",
              "  const cancel = document.createElement('button');\n",
              "  inputElement.parentElement.appendChild(cancel);\n",
              "  cancel.textContent = 'Cancel upload';\n",
              "  const cancelPromise = new Promise((resolve) => {\n",
              "    cancel.onclick = () => {\n",
              "      resolve(null);\n",
              "    };\n",
              "  });\n",
              "\n",
              "  // Wait for the user to pick the files.\n",
              "  const files = yield {\n",
              "    promise: Promise.race([pickedPromise, cancelPromise]),\n",
              "    response: {\n",
              "      action: 'starting',\n",
              "    }\n",
              "  };\n",
              "\n",
              "  cancel.remove();\n",
              "\n",
              "  // Disable the input element since further picks are not allowed.\n",
              "  inputElement.disabled = true;\n",
              "\n",
              "  if (!files) {\n",
              "    return {\n",
              "      response: {\n",
              "        action: 'complete',\n",
              "      }\n",
              "    };\n",
              "  }\n",
              "\n",
              "  for (const file of files) {\n",
              "    const li = document.createElement('li');\n",
              "    li.append(span(file.name, {fontWeight: 'bold'}));\n",
              "    li.append(span(\n",
              "        `(${file.type || 'n/a'}) - ${file.size} bytes, ` +\n",
              "        `last modified: ${\n",
              "            file.lastModifiedDate ? file.lastModifiedDate.toLocaleDateString() :\n",
              "                                    'n/a'} - `));\n",
              "    const percent = span('0% done');\n",
              "    li.appendChild(percent);\n",
              "\n",
              "    outputElement.appendChild(li);\n",
              "\n",
              "    const fileDataPromise = new Promise((resolve) => {\n",
              "      const reader = new FileReader();\n",
              "      reader.onload = (e) => {\n",
              "        resolve(e.target.result);\n",
              "      };\n",
              "      reader.readAsArrayBuffer(file);\n",
              "    });\n",
              "    // Wait for the data to be ready.\n",
              "    let fileData = yield {\n",
              "      promise: fileDataPromise,\n",
              "      response: {\n",
              "        action: 'continue',\n",
              "      }\n",
              "    };\n",
              "\n",
              "    // Use a chunked sending to avoid message size limits. See b/62115660.\n",
              "    let position = 0;\n",
              "    do {\n",
              "      const length = Math.min(fileData.byteLength - position, MAX_PAYLOAD_SIZE);\n",
              "      const chunk = new Uint8Array(fileData, position, length);\n",
              "      position += length;\n",
              "\n",
              "      const base64 = btoa(String.fromCharCode.apply(null, chunk));\n",
              "      yield {\n",
              "        response: {\n",
              "          action: 'append',\n",
              "          file: file.name,\n",
              "          data: base64,\n",
              "        },\n",
              "      };\n",
              "\n",
              "      let percentDone = fileData.byteLength === 0 ?\n",
              "          100 :\n",
              "          Math.round((position / fileData.byteLength) * 100);\n",
              "      percent.textContent = `${percentDone}% done`;\n",
              "\n",
              "    } while (position < fileData.byteLength);\n",
              "  }\n",
              "\n",
              "  // All done.\n",
              "  yield {\n",
              "    response: {\n",
              "      action: 'complete',\n",
              "    }\n",
              "  };\n",
              "}\n",
              "\n",
              "scope.google = scope.google || {};\n",
              "scope.google.colab = scope.google.colab || {};\n",
              "scope.google.colab._files = {\n",
              "  _uploadFiles,\n",
              "  _uploadFilesContinue,\n",
              "};\n",
              "})(self);\n",
              "</script> "
            ]
          },
          "metadata": {}
        },
        {
          "output_type": "stream",
          "name": "stdout",
          "text": [
            "Saving kaggle.json to kaggle.json\n"
          ]
        },
        {
          "output_type": "execute_result",
          "data": {
            "text/plain": [
              "{'kaggle.json': b'{\"username\":\"terenceloorthanathan\",\"key\":\"5d26afa143c5568014eff11126795430\"}'}"
            ]
          },
          "metadata": {},
          "execution_count": 3
        }
      ]
    },
    {
      "cell_type": "markdown",
      "source": [
        "Now we have to,\n",
        "*   Make a directory named “.kaggle”.\n",
        "*   Copy the “kaggle.json” into this new directory.\n",
        "*   Download the [Dataset](https://www.kaggle.com/datasets/gauthamp10/google-playstore-apps) from Kaggle.\n",
        "\n"
      ],
      "metadata": {
        "id": "O-O6d3vSU0cd"
      }
    },
    {
      "cell_type": "code",
      "source": [
        "!mkdir -p ~/.kaggle #Creating a directory to store kaggle.json\n",
        "!cp kaggle.json ~/.kaggle/ #Copy Kaggle.json to new directory\n",
        "\n",
        "!kaggle datasets download -d gauthamp10/google-playstore-apps #download dataset"
      ],
      "metadata": {
        "colab": {
          "base_uri": "https://localhost:8080/"
        },
        "id": "UCNxNmYicE1m",
        "outputId": "2c0194a8-9aa3-41dc-d4c3-6972466362d5"
      },
      "execution_count": null,
      "outputs": [
        {
          "output_type": "stream",
          "name": "stdout",
          "text": [
            "Warning: Your Kaggle API key is readable by other users on this system! To fix this, you can run 'chmod 600 /root/.kaggle/kaggle.json'\n",
            "Downloading google-playstore-apps.zip to /content\n",
            " 93% 192M/207M [00:01<00:00, 119MB/s]\n",
            "100% 207M/207M [00:01<00:00, 112MB/s]\n"
          ]
        }
      ]
    },
    {
      "cell_type": "markdown",
      "source": [
        "Now we have to unzip the file that was just downloaded to acquire the csv file."
      ],
      "metadata": {
        "id": "Rx1gWY4TVh2L"
      }
    },
    {
      "cell_type": "code",
      "source": [
        "!unzip google-playstore-apps.zip #unzip the downloaded dataset"
      ],
      "metadata": {
        "colab": {
          "base_uri": "https://localhost:8080/"
        },
        "id": "GAp17dhXcW_d",
        "outputId": "2e1ce65d-69e6-4c1c-bd1f-143c75e465ca"
      },
      "execution_count": null,
      "outputs": [
        {
          "output_type": "stream",
          "name": "stdout",
          "text": [
            "Archive:  google-playstore-apps.zip\n",
            "  inflating: Google-Playstore.csv    \n"
          ]
        }
      ]
    },
    {
      "cell_type": "markdown",
      "metadata": {
        "id": "Jnx4zelxVJJ4"
      },
      "source": [
        "#### Sampling"
      ]
    },
    {
      "cell_type": "markdown",
      "source": [
        "For Sampling we are going to need,\n",
        "* Pandas Library\n",
        "* Random Library\n",
        "\n",
        "The code below imports them."
      ],
      "metadata": {
        "id": "3RLb-78IWQD8"
      }
    },
    {
      "cell_type": "code",
      "source": [
        "import pandas as pd\n",
        "import random as rd"
      ],
      "metadata": {
        "id": "EBXxZh61Rw9T"
      },
      "execution_count": null,
      "outputs": []
    },
    {
      "cell_type": "markdown",
      "source": [
        "Now lets read the csv and store in into a dataframe or `df` for short.\n",
        "\n"
      ],
      "metadata": {
        "id": "Wdab8CwzWjMc"
      }
    },
    {
      "cell_type": "code",
      "execution_count": null,
      "metadata": {
        "id": "nqciugWLVJJ4"
      },
      "outputs": [],
      "source": [
        "df = pd.read_csv('/content/Google-Playstore.csv')"
      ]
    },
    {
      "cell_type": "markdown",
      "source": [
        "Just for comparison, before sampling the number of rows stored in the dataset is:"
      ],
      "metadata": {
        "id": "Lft4GrVIYCOw"
      }
    },
    {
      "cell_type": "code",
      "source": [
        "df.shape[0]"
      ],
      "metadata": {
        "colab": {
          "base_uri": "https://localhost:8080/"
        },
        "id": "9o-VAXJW5bD8",
        "outputId": "18bc7cd7-b71b-4a2b-821a-38422893891e"
      },
      "execution_count": null,
      "outputs": [
        {
          "output_type": "execute_result",
          "data": {
            "text/plain": [
              "2312944"
            ]
          },
          "metadata": {},
          "execution_count": 8
        }
      ]
    },
    {
      "cell_type": "code",
      "source": [
        "df.head()"
      ],
      "metadata": {
        "colab": {
          "base_uri": "https://localhost:8080/",
          "height": 542
        },
        "id": "sHcb7bwsAWIf",
        "outputId": "482c89fd-edaa-4049-9cc7-08f7d96b42ab"
      },
      "execution_count": null,
      "outputs": [
        {
          "output_type": "execute_result",
          "data": {
            "text/plain": [
              "                                            App Name  \\\n",
              "0                                            Gakondo   \n",
              "1                                Ampere Battery Info   \n",
              "2                                             Vibook   \n",
              "3  Smart City Trichy Public Service Vehicles 17UC...   \n",
              "4                                            GROW.me   \n",
              "\n",
              "                       App Id       Category  Rating  Rating Count Installs  \\\n",
              "0         com.ishakwe.gakondo      Adventure     0.0           0.0      10+   \n",
              "1  com.webserveis.batteryinfo          Tools     4.4          64.0   5,000+   \n",
              "2        com.doantiepvien.crm   Productivity     0.0           0.0      50+   \n",
              "3     cst.stJoseph.ug17ucs548  Communication     5.0           5.0      10+   \n",
              "4        com.horodyski.grower          Tools     0.0           0.0     100+   \n",
              "\n",
              "   Minimum Installs  Maximum Installs  Free  Price  ...  \\\n",
              "0              10.0                15  True    0.0  ...   \n",
              "1            5000.0              7662  True    0.0  ...   \n",
              "2              50.0                58  True    0.0  ...   \n",
              "3              10.0                19  True    0.0  ...   \n",
              "4             100.0               478  True    0.0  ...   \n",
              "\n",
              "                  Developer Website              Developer Email  \\\n",
              "0       https://beniyizibyose.tk/#/       jean21101999@gmail.com   \n",
              "1   https://webserveis.netlify.app/         webserveis@gmail.com   \n",
              "2                               NaN          vnacrewit@gmail.com   \n",
              "3  http://www.climatesmarttech.com/  climatesmarttech2@gmail.com   \n",
              "4       http://www.horodyski.com.pl    rmilekhorodyski@gmail.com   \n",
              "\n",
              "       Released  Last Updated Content Rating  \\\n",
              "0  Feb 26, 2020  Feb 26, 2020       Everyone   \n",
              "1  May 21, 2020  May 06, 2021       Everyone   \n",
              "2   Aug 9, 2019  Aug 19, 2019       Everyone   \n",
              "3  Sep 10, 2018  Oct 13, 2018       Everyone   \n",
              "4  Feb 21, 2020  Nov 12, 2018       Everyone   \n",
              "\n",
              "                                      Privacy Policy Ad Supported  \\\n",
              "0                 https://beniyizibyose.tk/projects/        False   \n",
              "1  https://dev4phones.wordpress.com/licencia-de-uso/         True   \n",
              "2  https://www.vietnamairlines.com/vn/en/terms-an...        False   \n",
              "3                                                NaN         True   \n",
              "4                        http://www.horodyski.com.pl        False   \n",
              "\n",
              "  In App Purchases Editors Choice         Scraped Time  \n",
              "0            False          False  2021-06-15 20:19:35  \n",
              "1            False          False  2021-06-15 20:19:35  \n",
              "2            False          False  2021-06-15 20:19:35  \n",
              "3            False          False  2021-06-15 20:19:35  \n",
              "4            False          False  2021-06-15 20:19:35  \n",
              "\n",
              "[5 rows x 24 columns]"
            ],
            "text/html": [
              "\n",
              "  <div id=\"df-f430c1db-5e35-4bda-9b9d-98f4c678d037\">\n",
              "    <div class=\"colab-df-container\">\n",
              "      <div>\n",
              "<style scoped>\n",
              "    .dataframe tbody tr th:only-of-type {\n",
              "        vertical-align: middle;\n",
              "    }\n",
              "\n",
              "    .dataframe tbody tr th {\n",
              "        vertical-align: top;\n",
              "    }\n",
              "\n",
              "    .dataframe thead th {\n",
              "        text-align: right;\n",
              "    }\n",
              "</style>\n",
              "<table border=\"1\" class=\"dataframe\">\n",
              "  <thead>\n",
              "    <tr style=\"text-align: right;\">\n",
              "      <th></th>\n",
              "      <th>App Name</th>\n",
              "      <th>App Id</th>\n",
              "      <th>Category</th>\n",
              "      <th>Rating</th>\n",
              "      <th>Rating Count</th>\n",
              "      <th>Installs</th>\n",
              "      <th>Minimum Installs</th>\n",
              "      <th>Maximum Installs</th>\n",
              "      <th>Free</th>\n",
              "      <th>Price</th>\n",
              "      <th>...</th>\n",
              "      <th>Developer Website</th>\n",
              "      <th>Developer Email</th>\n",
              "      <th>Released</th>\n",
              "      <th>Last Updated</th>\n",
              "      <th>Content Rating</th>\n",
              "      <th>Privacy Policy</th>\n",
              "      <th>Ad Supported</th>\n",
              "      <th>In App Purchases</th>\n",
              "      <th>Editors Choice</th>\n",
              "      <th>Scraped Time</th>\n",
              "    </tr>\n",
              "  </thead>\n",
              "  <tbody>\n",
              "    <tr>\n",
              "      <th>0</th>\n",
              "      <td>Gakondo</td>\n",
              "      <td>com.ishakwe.gakondo</td>\n",
              "      <td>Adventure</td>\n",
              "      <td>0.0</td>\n",
              "      <td>0.0</td>\n",
              "      <td>10+</td>\n",
              "      <td>10.0</td>\n",
              "      <td>15</td>\n",
              "      <td>True</td>\n",
              "      <td>0.0</td>\n",
              "      <td>...</td>\n",
              "      <td>https://beniyizibyose.tk/#/</td>\n",
              "      <td>jean21101999@gmail.com</td>\n",
              "      <td>Feb 26, 2020</td>\n",
              "      <td>Feb 26, 2020</td>\n",
              "      <td>Everyone</td>\n",
              "      <td>https://beniyizibyose.tk/projects/</td>\n",
              "      <td>False</td>\n",
              "      <td>False</td>\n",
              "      <td>False</td>\n",
              "      <td>2021-06-15 20:19:35</td>\n",
              "    </tr>\n",
              "    <tr>\n",
              "      <th>1</th>\n",
              "      <td>Ampere Battery Info</td>\n",
              "      <td>com.webserveis.batteryinfo</td>\n",
              "      <td>Tools</td>\n",
              "      <td>4.4</td>\n",
              "      <td>64.0</td>\n",
              "      <td>5,000+</td>\n",
              "      <td>5000.0</td>\n",
              "      <td>7662</td>\n",
              "      <td>True</td>\n",
              "      <td>0.0</td>\n",
              "      <td>...</td>\n",
              "      <td>https://webserveis.netlify.app/</td>\n",
              "      <td>webserveis@gmail.com</td>\n",
              "      <td>May 21, 2020</td>\n",
              "      <td>May 06, 2021</td>\n",
              "      <td>Everyone</td>\n",
              "      <td>https://dev4phones.wordpress.com/licencia-de-uso/</td>\n",
              "      <td>True</td>\n",
              "      <td>False</td>\n",
              "      <td>False</td>\n",
              "      <td>2021-06-15 20:19:35</td>\n",
              "    </tr>\n",
              "    <tr>\n",
              "      <th>2</th>\n",
              "      <td>Vibook</td>\n",
              "      <td>com.doantiepvien.crm</td>\n",
              "      <td>Productivity</td>\n",
              "      <td>0.0</td>\n",
              "      <td>0.0</td>\n",
              "      <td>50+</td>\n",
              "      <td>50.0</td>\n",
              "      <td>58</td>\n",
              "      <td>True</td>\n",
              "      <td>0.0</td>\n",
              "      <td>...</td>\n",
              "      <td>NaN</td>\n",
              "      <td>vnacrewit@gmail.com</td>\n",
              "      <td>Aug 9, 2019</td>\n",
              "      <td>Aug 19, 2019</td>\n",
              "      <td>Everyone</td>\n",
              "      <td>https://www.vietnamairlines.com/vn/en/terms-an...</td>\n",
              "      <td>False</td>\n",
              "      <td>False</td>\n",
              "      <td>False</td>\n",
              "      <td>2021-06-15 20:19:35</td>\n",
              "    </tr>\n",
              "    <tr>\n",
              "      <th>3</th>\n",
              "      <td>Smart City Trichy Public Service Vehicles 17UC...</td>\n",
              "      <td>cst.stJoseph.ug17ucs548</td>\n",
              "      <td>Communication</td>\n",
              "      <td>5.0</td>\n",
              "      <td>5.0</td>\n",
              "      <td>10+</td>\n",
              "      <td>10.0</td>\n",
              "      <td>19</td>\n",
              "      <td>True</td>\n",
              "      <td>0.0</td>\n",
              "      <td>...</td>\n",
              "      <td>http://www.climatesmarttech.com/</td>\n",
              "      <td>climatesmarttech2@gmail.com</td>\n",
              "      <td>Sep 10, 2018</td>\n",
              "      <td>Oct 13, 2018</td>\n",
              "      <td>Everyone</td>\n",
              "      <td>NaN</td>\n",
              "      <td>True</td>\n",
              "      <td>False</td>\n",
              "      <td>False</td>\n",
              "      <td>2021-06-15 20:19:35</td>\n",
              "    </tr>\n",
              "    <tr>\n",
              "      <th>4</th>\n",
              "      <td>GROW.me</td>\n",
              "      <td>com.horodyski.grower</td>\n",
              "      <td>Tools</td>\n",
              "      <td>0.0</td>\n",
              "      <td>0.0</td>\n",
              "      <td>100+</td>\n",
              "      <td>100.0</td>\n",
              "      <td>478</td>\n",
              "      <td>True</td>\n",
              "      <td>0.0</td>\n",
              "      <td>...</td>\n",
              "      <td>http://www.horodyski.com.pl</td>\n",
              "      <td>rmilekhorodyski@gmail.com</td>\n",
              "      <td>Feb 21, 2020</td>\n",
              "      <td>Nov 12, 2018</td>\n",
              "      <td>Everyone</td>\n",
              "      <td>http://www.horodyski.com.pl</td>\n",
              "      <td>False</td>\n",
              "      <td>False</td>\n",
              "      <td>False</td>\n",
              "      <td>2021-06-15 20:19:35</td>\n",
              "    </tr>\n",
              "  </tbody>\n",
              "</table>\n",
              "<p>5 rows × 24 columns</p>\n",
              "</div>\n",
              "      <button class=\"colab-df-convert\" onclick=\"convertToInteractive('df-f430c1db-5e35-4bda-9b9d-98f4c678d037')\"\n",
              "              title=\"Convert this dataframe to an interactive table.\"\n",
              "              style=\"display:none;\">\n",
              "        \n",
              "  <svg xmlns=\"http://www.w3.org/2000/svg\" height=\"24px\"viewBox=\"0 0 24 24\"\n",
              "       width=\"24px\">\n",
              "    <path d=\"M0 0h24v24H0V0z\" fill=\"none\"/>\n",
              "    <path d=\"M18.56 5.44l.94 2.06.94-2.06 2.06-.94-2.06-.94-.94-2.06-.94 2.06-2.06.94zm-11 1L8.5 8.5l.94-2.06 2.06-.94-2.06-.94L8.5 2.5l-.94 2.06-2.06.94zm10 10l.94 2.06.94-2.06 2.06-.94-2.06-.94-.94-2.06-.94 2.06-2.06.94z\"/><path d=\"M17.41 7.96l-1.37-1.37c-.4-.4-.92-.59-1.43-.59-.52 0-1.04.2-1.43.59L10.3 9.45l-7.72 7.72c-.78.78-.78 2.05 0 2.83L4 21.41c.39.39.9.59 1.41.59.51 0 1.02-.2 1.41-.59l7.78-7.78 2.81-2.81c.8-.78.8-2.07 0-2.86zM5.41 20L4 18.59l7.72-7.72 1.47 1.35L5.41 20z\"/>\n",
              "  </svg>\n",
              "      </button>\n",
              "      \n",
              "  <style>\n",
              "    .colab-df-container {\n",
              "      display:flex;\n",
              "      flex-wrap:wrap;\n",
              "      gap: 12px;\n",
              "    }\n",
              "\n",
              "    .colab-df-convert {\n",
              "      background-color: #E8F0FE;\n",
              "      border: none;\n",
              "      border-radius: 50%;\n",
              "      cursor: pointer;\n",
              "      display: none;\n",
              "      fill: #1967D2;\n",
              "      height: 32px;\n",
              "      padding: 0 0 0 0;\n",
              "      width: 32px;\n",
              "    }\n",
              "\n",
              "    .colab-df-convert:hover {\n",
              "      background-color: #E2EBFA;\n",
              "      box-shadow: 0px 1px 2px rgba(60, 64, 67, 0.3), 0px 1px 3px 1px rgba(60, 64, 67, 0.15);\n",
              "      fill: #174EA6;\n",
              "    }\n",
              "\n",
              "    [theme=dark] .colab-df-convert {\n",
              "      background-color: #3B4455;\n",
              "      fill: #D2E3FC;\n",
              "    }\n",
              "\n",
              "    [theme=dark] .colab-df-convert:hover {\n",
              "      background-color: #434B5C;\n",
              "      box-shadow: 0px 1px 3px 1px rgba(0, 0, 0, 0.15);\n",
              "      filter: drop-shadow(0px 1px 2px rgba(0, 0, 0, 0.3));\n",
              "      fill: #FFFFFF;\n",
              "    }\n",
              "  </style>\n",
              "\n",
              "      <script>\n",
              "        const buttonEl =\n",
              "          document.querySelector('#df-f430c1db-5e35-4bda-9b9d-98f4c678d037 button.colab-df-convert');\n",
              "        buttonEl.style.display =\n",
              "          google.colab.kernel.accessAllowed ? 'block' : 'none';\n",
              "\n",
              "        async function convertToInteractive(key) {\n",
              "          const element = document.querySelector('#df-f430c1db-5e35-4bda-9b9d-98f4c678d037');\n",
              "          const dataTable =\n",
              "            await google.colab.kernel.invokeFunction('convertToInteractive',\n",
              "                                                     [key], {});\n",
              "          if (!dataTable) return;\n",
              "\n",
              "          const docLinkHtml = 'Like what you see? Visit the ' +\n",
              "            '<a target=\"_blank\" href=https://colab.research.google.com/notebooks/data_table.ipynb>data table notebook</a>'\n",
              "            + ' to learn more about interactive tables.';\n",
              "          element.innerHTML = '';\n",
              "          dataTable['output_type'] = 'display_data';\n",
              "          await google.colab.output.renderOutput(dataTable, element);\n",
              "          const docLink = document.createElement('div');\n",
              "          docLink.innerHTML = docLinkHtml;\n",
              "          element.appendChild(docLink);\n",
              "        }\n",
              "      </script>\n",
              "    </div>\n",
              "  </div>\n",
              "  "
            ]
          },
          "metadata": {},
          "execution_count": 9
        }
      ]
    },
    {
      "cell_type": "markdown",
      "source": [
        "To sample the data se have to calculate the number of rows in the file which than we will find the 10% off. Then we will randomly pick 10% of the rows from the dataset and store it into a dataframe."
      ],
      "metadata": {
        "id": "Q10LAN8dYiVz"
      }
    },
    {
      "cell_type": "code",
      "source": [
        "#sampling\n",
        "filename = \"/content/Google-Playstore.csv\" \n",
        "n = sum(1 for line in open(filename))-1  # Calculate number of rows in file\n",
        "s = n//10  # sample size of 10%\n",
        "skip = sorted(rd.sample(range(1, n+1), n-s))  # n+1 to compensate for header \n",
        "df_sample = pd.read_csv(filename, skiprows=skip)\n",
        "df_sample.shape[0] # 231294 rows"
      ],
      "metadata": {
        "colab": {
          "base_uri": "https://localhost:8080/"
        },
        "id": "4p8kRwI1RjpH",
        "outputId": "8135aacf-0c7f-4775-9f4c-815a4d7a1cbf"
      },
      "execution_count": null,
      "outputs": [
        {
          "output_type": "execute_result",
          "data": {
            "text/plain": [
              "231294"
            ]
          },
          "metadata": {},
          "execution_count": 10
        }
      ]
    },
    {
      "cell_type": "markdown",
      "source": [
        "How much memory does the sampled dataset use compared to the original dataset?"
      ],
      "metadata": {
        "id": "EjOV_vxsZFkm"
      }
    },
    {
      "cell_type": "code",
      "source": [
        "df.memory_usage().sum()/(1024*1024*1024)"
      ],
      "metadata": {
        "colab": {
          "base_uri": "https://localhost:8080/"
        },
        "id": "b0rbrIUXWGQn",
        "outputId": "cea428fb-cf41-4e9c-8909-18969c94869e"
      },
      "execution_count": null,
      "outputs": [
        {
          "output_type": "execute_result",
          "data": {
            "text/plain": [
              "0.353272020816803"
            ]
          },
          "metadata": {},
          "execution_count": 11
        }
      ]
    },
    {
      "cell_type": "code",
      "execution_count": null,
      "metadata": {
        "id": "Rsgjn7WZVJJ4",
        "colab": {
          "base_uri": "https://localhost:8080/"
        },
        "outputId": "b4ea2a7f-8d98-44f4-98bf-73ee08f3c9d0"
      },
      "outputs": [
        {
          "output_type": "execute_result",
          "data": {
            "text/plain": [
              "0.03532724827528"
            ]
          },
          "metadata": {},
          "execution_count": 12
        }
      ],
      "source": [
        "df_sample.memory_usage().sum()/(1024*1024*1024)"
      ]
    },
    {
      "cell_type": "markdown",
      "metadata": {
        "id": "u0vucnGFVJJ5"
      },
      "source": [
        "## Data Preparation and Cleaning\n",
        "\n",
        "The practice of correcting or deleting inaccurate, damaged, improperly formatted, duplicate, or missing data from a dataset is known as data cleaning. There are several ways for data to be duplicated or incorrectly categorised when merging different data sources.\n",
        "\n",
        "**Requirements** - To proceed with data cleaning, we need to import numpy library and store it as `np`.\n",
        "\n",
        "\n"
      ]
    },
    {
      "cell_type": "code",
      "source": [
        "import numpy as np"
      ],
      "metadata": {
        "id": "CEEsUi0WaFvw"
      },
      "execution_count": null,
      "outputs": []
    },
    {
      "cell_type": "markdown",
      "source": [
        "A better adapted function from [Guillaume Martin's](https://www.kaggle.com/code/gemartin/load-data-reduce-memory-usage/notebook) which lowers Pandas' memory usage. In the version seen below, the function is better suited for our dataset.\n"
      ],
      "metadata": {
        "id": "CbmsrMrWafLf"
      }
    },
    {
      "cell_type": "code",
      "execution_count": null,
      "metadata": {
        "id": "fVjJerS1VJJ5"
      },
      "outputs": [],
      "source": [
        "def reduce_mem_usage(df):\n",
        "    start_mem = df.memory_usage().sum() / 1024**3\n",
        "    print('Memory usage of dataframe is {:.2f} MB'.format(start_mem))\n",
        "    \n",
        "    for col in df.columns:\n",
        "        col_type = df[col].dtype\n",
        "        \n",
        "        if col_type != object:\n",
        "            c_min = df[col].min()\n",
        "            c_max = df[col].max()\n",
        "            if str(col_type)[:3] == 'int': #If col type is int then change type based on size of data\n",
        "                if c_min > np.iinfo(np.int8).min and c_max < np.iinfo(np.int8).max:\n",
        "                    df[col] = df[col].astype(np.int8)\n",
        "                elif c_min > np.iinfo(np.int16).min and c_max < np.iinfo(np.int16).max:\n",
        "                    df[col] = df[col].astype(np.int16)\n",
        "                elif c_min > np.iinfo(np.int32).min and c_max < np.iinfo(np.int32).max:\n",
        "                    df[col] = df[col].astype(np.int32)\n",
        "                elif c_min > np.iinfo(np.int64).min and c_max < np.iinfo(np.int64).max:\n",
        "                    df[col] = df[col].astype(np.int64)  \n",
        "            else: #if not int then it is a float, change it based on size\n",
        "                if c_min > np.finfo(np.float16).min and c_max < np.finfo(np.float16).max:\n",
        "                    df[col] = df[col].astype(np.float16)\n",
        "                elif c_min > np.finfo(np.float32).min and c_max < np.finfo(np.float32).max:\n",
        "                    df[col] = df[col].astype(np.float32)\n",
        "                else:\n",
        "                    df[col] = df[col].astype(np.float64)\n",
        "        \n",
        "        if col_type == bool: #if col type is bool however, leave it as it is\n",
        "            df[col] = df[col].astype('bool')\n",
        "\n",
        "    end_mem = df.memory_usage().sum() / 1024**3\n",
        "    print('Memory usage after optimization is: {:.2f} MB'.format(end_mem))\n",
        "    print('Decreased by {:.1f}%'.format(100 * (start_mem - end_mem) / start_mem))\n",
        "    \n",
        "    return df"
      ]
    },
    {
      "cell_type": "code",
      "source": [
        "df_new = reduce_mem_usage(df_sample)  #Call the function and store the output into a new dataframe."
      ],
      "metadata": {
        "colab": {
          "base_uri": "https://localhost:8080/"
        },
        "id": "OyyvJgu1f5cF",
        "outputId": "57c527b1-ef45-41d1-f2ff-f5720a36c1e7"
      },
      "execution_count": null,
      "outputs": [
        {
          "output_type": "stream",
          "name": "stdout",
          "text": [
            "Memory usage of dataframe is 0.04 MB\n",
            "Memory usage after optimization is: 0.03 MB\n",
            "Decreased by 12.2%\n"
          ]
        }
      ]
    },
    {
      "cell_type": "markdown",
      "source": [
        "Lets see what changes were made by the function call."
      ],
      "metadata": {
        "id": "Sg6K27MAcwkQ"
      }
    },
    {
      "cell_type": "code",
      "source": [
        "df_sample.dtypes #Before"
      ],
      "metadata": {
        "colab": {
          "base_uri": "https://localhost:8080/"
        },
        "id": "C-TVMTL3c0xM",
        "outputId": "d331fca3-cd29-4111-cef8-ac7d52fdf050"
      },
      "execution_count": null,
      "outputs": [
        {
          "output_type": "execute_result",
          "data": {
            "text/plain": [
              "App Name              object\n",
              "App Id                object\n",
              "Category              object\n",
              "Rating               float16\n",
              "Rating Count         float32\n",
              "Installs              object\n",
              "Minimum Installs     float32\n",
              "Maximum Installs       int64\n",
              "Free                    bool\n",
              "Price                float16\n",
              "Currency              object\n",
              "Size                  object\n",
              "Minimum Android       object\n",
              "Developer Id          object\n",
              "Developer Website     object\n",
              "Developer Email       object\n",
              "Released              object\n",
              "Last Updated          object\n",
              "Content Rating        object\n",
              "Privacy Policy        object\n",
              "Ad Supported            bool\n",
              "In App Purchases        bool\n",
              "Editors Choice          bool\n",
              "Scraped Time          object\n",
              "dtype: object"
            ]
          },
          "metadata": {},
          "execution_count": 16
        }
      ]
    },
    {
      "cell_type": "code",
      "source": [
        "df_new.dtypes #After"
      ],
      "metadata": {
        "colab": {
          "base_uri": "https://localhost:8080/"
        },
        "id": "AOxRCuYJgYMD",
        "outputId": "e66b986f-c79d-4f78-85eb-8817a710cb9a"
      },
      "execution_count": null,
      "outputs": [
        {
          "output_type": "execute_result",
          "data": {
            "text/plain": [
              "App Name              object\n",
              "App Id                object\n",
              "Category              object\n",
              "Rating               float16\n",
              "Rating Count         float32\n",
              "Installs              object\n",
              "Minimum Installs     float32\n",
              "Maximum Installs       int64\n",
              "Free                    bool\n",
              "Price                float16\n",
              "Currency              object\n",
              "Size                  object\n",
              "Minimum Android       object\n",
              "Developer Id          object\n",
              "Developer Website     object\n",
              "Developer Email       object\n",
              "Released              object\n",
              "Last Updated          object\n",
              "Content Rating        object\n",
              "Privacy Policy        object\n",
              "Ad Supported            bool\n",
              "In App Purchases        bool\n",
              "Editors Choice          bool\n",
              "Scraped Time          object\n",
              "dtype: object"
            ]
          },
          "metadata": {},
          "execution_count": 17
        }
      ]
    },
    {
      "cell_type": "markdown",
      "source": [
        "As seen above, the column names will be better if there was no space in it. It also makes it easier to copy and paste column names, it makes it easier to work with the data."
      ],
      "metadata": {
        "id": "f63uHLIQdp4t"
      }
    },
    {
      "cell_type": "code",
      "source": [
        "cols = df_new.columns.values\n",
        "cols"
      ],
      "metadata": {
        "colab": {
          "base_uri": "https://localhost:8080/"
        },
        "id": "IGEOTchijfAs",
        "outputId": "0178e295-d6e8-4195-f50e-d8f5a2c65c8c"
      },
      "execution_count": null,
      "outputs": [
        {
          "output_type": "execute_result",
          "data": {
            "text/plain": [
              "array(['App Name', 'App Id', 'Category', 'Rating', 'Rating Count',\n",
              "       'Installs', 'Minimum Installs', 'Maximum Installs', 'Free',\n",
              "       'Price', 'Currency', 'Size', 'Minimum Android', 'Developer Id',\n",
              "       'Developer Website', 'Developer Email', 'Released', 'Last Updated',\n",
              "       'Content Rating', 'Privacy Policy', 'Ad Supported',\n",
              "       'In App Purchases', 'Editors Choice', 'Scraped Time'], dtype=object)"
            ]
          },
          "metadata": {},
          "execution_count": 18
        }
      ]
    },
    {
      "cell_type": "code",
      "source": [
        "for col in df_new.columns:\n",
        "    col1 = col.replace(' ','') #Replace all whitespace with nothing\n",
        "    df_new = df_new.rename(columns={col:col1}) #Rename the column\n",
        "df_new.columns"
      ],
      "metadata": {
        "id": "M0gS_zIr03wK",
        "colab": {
          "base_uri": "https://localhost:8080/"
        },
        "outputId": "acc9a21e-c1e8-4098-c465-6ba73d82c5c1"
      },
      "execution_count": null,
      "outputs": [
        {
          "output_type": "execute_result",
          "data": {
            "text/plain": [
              "Index(['AppName', 'AppId', 'Category', 'Rating', 'RatingCount', 'Installs',\n",
              "       'MinimumInstalls', 'MaximumInstalls', 'Free', 'Price', 'Currency',\n",
              "       'Size', 'MinimumAndroid', 'DeveloperId', 'DeveloperWebsite',\n",
              "       'DeveloperEmail', 'Released', 'LastUpdated', 'ContentRating',\n",
              "       'PrivacyPolicy', 'AdSupported', 'InAppPurchases', 'EditorsChoice',\n",
              "       'ScrapedTime'],\n",
              "      dtype='object')"
            ]
          },
          "metadata": {},
          "execution_count": 19
        }
      ]
    },
    {
      "cell_type": "markdown",
      "source": [
        "Handling **Missing Values** - Identify whether our dataset contains missing values as a first\n",
        "<br><br>\n",
        "To identify if there are any null values in each column."
      ],
      "metadata": {
        "id": "zQ-zDwFcAUPO"
      }
    },
    {
      "cell_type": "code",
      "source": [
        "df_new.isnull().sum()"
      ],
      "metadata": {
        "id": "UScKKnnqktcx",
        "colab": {
          "base_uri": "https://localhost:8080/"
        },
        "outputId": "a0e1da53-2605-41a2-82f2-cf8eff5bd7bc"
      },
      "execution_count": null,
      "outputs": [
        {
          "output_type": "execute_result",
          "data": {
            "text/plain": [
              "AppName                 0\n",
              "AppId                   0\n",
              "Category                0\n",
              "Rating               2326\n",
              "RatingCount          2326\n",
              "Installs               14\n",
              "MinimumInstalls        14\n",
              "MaximumInstalls         0\n",
              "Free                    0\n",
              "Price                   0\n",
              "Currency               20\n",
              "Size                   22\n",
              "MinimumAndroid        634\n",
              "DeveloperId             2\n",
              "DeveloperWebsite    76089\n",
              "DeveloperEmail          2\n",
              "Released             7149\n",
              "LastUpdated             0\n",
              "ContentRating           0\n",
              "PrivacyPolicy       42244\n",
              "AdSupported             0\n",
              "InAppPurchases          0\n",
              "EditorsChoice           0\n",
              "ScrapedTime             0\n",
              "dtype: int64"
            ]
          },
          "metadata": {},
          "execution_count": 20
        }
      ]
    },
    {
      "cell_type": "markdown",
      "source": [
        "There are many columns that has missing values, some of which has continous data in them. Continous data is very important for analysis, it will better to fill them in instead of dropping them all together.\n",
        "<br><br>\n",
        "To drop values with categorical data we can use the `subset` function in `dropna` function."
      ],
      "metadata": {
        "id": "MvKhUMz1eeu0"
      }
    },
    {
      "cell_type": "code",
      "source": [
        "df = df_new.dropna(subset = ['AppName','Size','Currency','Installs','MinimumInstalls','DeveloperId','DeveloperEmail','Released'])"
      ],
      "metadata": {
        "id": "VP29xwWzgbRY"
      },
      "execution_count": null,
      "outputs": []
    },
    {
      "cell_type": "markdown",
      "source": [
        "Lets see the progress"
      ],
      "metadata": {
        "id": "8FfywofVfG1j"
      }
    },
    {
      "cell_type": "code",
      "source": [
        "df.isnull().sum()"
      ],
      "metadata": {
        "colab": {
          "base_uri": "https://localhost:8080/"
        },
        "id": "sZEQuS7qAuT4",
        "outputId": "bcfa0c07-0f52-4b59-ebde-9fef99f10444"
      },
      "execution_count": null,
      "outputs": [
        {
          "output_type": "execute_result",
          "data": {
            "text/plain": [
              "AppName                 0\n",
              "AppId                   0\n",
              "Category                0\n",
              "Rating                 18\n",
              "RatingCount            18\n",
              "Installs                0\n",
              "MinimumInstalls         0\n",
              "MaximumInstalls         0\n",
              "Free                    0\n",
              "Price                   0\n",
              "Currency                0\n",
              "Size                    0\n",
              "MinimumAndroid        617\n",
              "DeveloperId             0\n",
              "DeveloperWebsite    74243\n",
              "DeveloperEmail          0\n",
              "Released                0\n",
              "LastUpdated             0\n",
              "ContentRating           0\n",
              "PrivacyPolicy       40883\n",
              "AdSupported             0\n",
              "InAppPurchases          0\n",
              "EditorsChoice           0\n",
              "ScrapedTime             0\n",
              "dtype: int64"
            ]
          },
          "metadata": {},
          "execution_count": 22
        }
      ]
    },
    {
      "cell_type": "markdown",
      "source": [
        "`RatingCount` is one of the continous data, to fill it in it makes sense to fill it in which the mean value of the column all together."
      ],
      "metadata": {
        "id": "h2Qh_5c5fLGp"
      }
    },
    {
      "cell_type": "code",
      "source": [
        "meanRating = df['RatingCount'].mean()\n",
        "meanRating"
      ],
      "metadata": {
        "colab": {
          "base_uri": "https://localhost:8080/"
        },
        "id": "kvchXpPTA5td",
        "outputId": "4ba0ae29-f9e0-4d6a-88b3-cf628773d567"
      },
      "execution_count": null,
      "outputs": [
        {
          "output_type": "execute_result",
          "data": {
            "text/plain": [
              "3569.5876"
            ]
          },
          "metadata": {},
          "execution_count": 23
        }
      ]
    },
    {
      "cell_type": "code",
      "source": [
        "df['RatingCount'].fillna(meanRating,inplace= True)"
      ],
      "metadata": {
        "id": "ooJ1oK8CD9IU",
        "colab": {
          "base_uri": "https://localhost:8080/"
        },
        "outputId": "8e03be1e-f043-4bac-fc42-6629249d9443"
      },
      "execution_count": null,
      "outputs": [
        {
          "output_type": "stream",
          "name": "stderr",
          "text": [
            "/usr/local/lib/python3.8/dist-packages/pandas/core/generic.py:6392: SettingWithCopyWarning: \n",
            "A value is trying to be set on a copy of a slice from a DataFrame\n",
            "\n",
            "See the caveats in the documentation: https://pandas.pydata.org/pandas-docs/stable/user_guide/indexing.html#returning-a-view-versus-a-copy\n",
            "  return self._update_inplace(result)\n"
          ]
        }
      ]
    },
    {
      "cell_type": "markdown",
      "source": [
        "`Rating` is also a continous data, lets assume that all missing value is rated 0 because users of the application did not even give it a rating."
      ],
      "metadata": {
        "id": "a32vcFeEfi3H"
      }
    },
    {
      "cell_type": "code",
      "source": [
        "df['Rating'].unique()"
      ],
      "metadata": {
        "colab": {
          "base_uri": "https://localhost:8080/"
        },
        "id": "cDYfF5jOEqPM",
        "outputId": "ebf23bf7-2c1a-4fc1-f2e0-66fda6ffffc7"
      },
      "execution_count": null,
      "outputs": [
        {
          "output_type": "execute_result",
          "data": {
            "text/plain": [
              "array([3.7, 3.4, 3.1, 4.3, 4.8, 0. , 5. , 4.1, 4. , 4.5, 3.8, 4.4, 4.7,\n",
              "       3.5, 3.3, 4.2, 3.6, 2.2, 3.9, 3.2, 3. , 4.9, 2.9, 4.6, 2.8, 1.7,\n",
              "       2.7, 2.5, 2.1, 2.4, 1.8, 2.3, 2.6, 1.6, 1.4, 1.3, 1.9, 2. , 1. ,\n",
              "       1.5, 1.2, 1.1, nan], dtype=float16)"
            ]
          },
          "metadata": {},
          "execution_count": 25
        }
      ]
    },
    {
      "cell_type": "code",
      "source": [
        "df['Rating'].fillna(0,inplace= True)"
      ],
      "metadata": {
        "id": "7faIWEw1EtdS"
      },
      "execution_count": null,
      "outputs": []
    },
    {
      "cell_type": "markdown",
      "source": [
        "Now for the progress in missing values:"
      ],
      "metadata": {
        "id": "_TvBAEGFf6MF"
      }
    },
    {
      "cell_type": "code",
      "source": [
        "df.isnull().sum()"
      ],
      "metadata": {
        "colab": {
          "base_uri": "https://localhost:8080/"
        },
        "id": "DQslkkEhEyh1",
        "outputId": "a9d9e2af-63af-4cc2-aa08-aee1cd736dc0"
      },
      "execution_count": null,
      "outputs": [
        {
          "output_type": "execute_result",
          "data": {
            "text/plain": [
              "AppName                 0\n",
              "AppId                   0\n",
              "Category                0\n",
              "Rating                  0\n",
              "RatingCount             0\n",
              "Installs                0\n",
              "MinimumInstalls         0\n",
              "MaximumInstalls         0\n",
              "Free                    0\n",
              "Price                   0\n",
              "Currency                0\n",
              "Size                    0\n",
              "MinimumAndroid        617\n",
              "DeveloperId             0\n",
              "DeveloperWebsite    74243\n",
              "DeveloperEmail          0\n",
              "Released                0\n",
              "LastUpdated             0\n",
              "ContentRating           0\n",
              "PrivacyPolicy       40883\n",
              "AdSupported             0\n",
              "InAppPurchases          0\n",
              "EditorsChoice           0\n",
              "ScrapedTime             0\n",
              "dtype: int64"
            ]
          },
          "metadata": {},
          "execution_count": 27
        }
      ]
    },
    {
      "cell_type": "markdown",
      "source": [
        "For `MinimumAndriod`, `DeveloperWebsite`, and `PrivacyPolicy` we can just fill in Not Specified for each as it was not specified in the first place."
      ],
      "metadata": {
        "id": "EC7okTyXgBhc"
      }
    },
    {
      "cell_type": "code",
      "source": [
        "df['MinimumAndroid'].unique()"
      ],
      "metadata": {
        "colab": {
          "base_uri": "https://localhost:8080/"
        },
        "id": "Ms8ULhN_E9kb",
        "outputId": "d282b3cb-1b43-4c9e-924f-257b23e20529"
      },
      "execution_count": null,
      "outputs": [
        {
          "output_type": "execute_result",
          "data": {
            "text/plain": [
              "array(['4.2 and up', '4.1 and up', '2.3 and up', '7.0 and up',\n",
              "       '2.1 and up', '4.0 and up', '3.0 and up', '4.4 and up',\n",
              "       '4.0.3 and up', 'Varies with device', '6.0 and up', '4.3 and up',\n",
              "       '2.2 and up', '5.0 and up', '8.0 and up', '5.1 and up',\n",
              "       '2.3.3 and up', '4.4W and up', '3.2 and up', '1.5 and up', nan,\n",
              "       '1.6 and up', '2.0 and up', '7.1 and up', '2.0.1 and up',\n",
              "       '3.1 and up', '2.3 - 7.0', '4.4 - 8.0', '1.0 and up',\n",
              "       '4.0 - 7.1.1', '5.0 - 8.0', '4.1 - 4.4', '1.6 - 4.4W',\n",
              "       '1.6 - 4.0.2', '1.1 and up', '2.2 - 4.4', '2.3 - 6.0', '4.0 - 6.0',\n",
              "       '4.0 - 5.0', '4.0.3 - 6.0', '2.1 - 2.3.4', '5.0 - 6.0',\n",
              "       '2.3 - 3.2', '4.1 - 8.0', '4.1 - 7.1.1', '4.4 - 6.0', '3.0 - 4.4',\n",
              "       '2.1 - 4.4W', '2.2 - 5.0', '4.2 - 8.0', '4.1 - 6.0', '2.2 - 4.3',\n",
              "       '4.4', '4.0 - 5.1', '2.2 - 6.0', '3.0 - 3.2', '4.0 - 4.4',\n",
              "       '1.5 - 3.2', '4.0 - 4.4W', '4.0 - 8.0', '4.4 - 7.1.1', '2.3 - 4.4'],\n",
              "      dtype=object)"
            ]
          },
          "metadata": {},
          "execution_count": 28
        }
      ]
    },
    {
      "cell_type": "code",
      "source": [
        "df['MinimumAndroid'].fillna('Not Specified',inplace= True)\n",
        "df['DeveloperWebsite'].fillna('No Website',inplace= True)\n",
        "df['PrivacyPolicy'].fillna('No Privacy Policy Set',inplace= True)"
      ],
      "metadata": {
        "id": "bP6Fc18hFooq"
      },
      "execution_count": null,
      "outputs": []
    },
    {
      "cell_type": "markdown",
      "source": [
        "There should be no missing values. To validate, the code below can be runned."
      ],
      "metadata": {
        "id": "BNfJ81SugdeC"
      }
    },
    {
      "cell_type": "code",
      "source": [
        "df.isnull().sum()"
      ],
      "metadata": {
        "colab": {
          "base_uri": "https://localhost:8080/"
        },
        "id": "Ki25ESjDGhA3",
        "outputId": "169aa10d-d0da-4b22-b15a-ab8d52d251d7"
      },
      "execution_count": null,
      "outputs": [
        {
          "output_type": "execute_result",
          "data": {
            "text/plain": [
              "AppName             0\n",
              "AppId               0\n",
              "Category            0\n",
              "Rating              0\n",
              "RatingCount         0\n",
              "Installs            0\n",
              "MinimumInstalls     0\n",
              "MaximumInstalls     0\n",
              "Free                0\n",
              "Price               0\n",
              "Currency            0\n",
              "Size                0\n",
              "MinimumAndroid      0\n",
              "DeveloperId         0\n",
              "DeveloperWebsite    0\n",
              "DeveloperEmail      0\n",
              "Released            0\n",
              "LastUpdated         0\n",
              "ContentRating       0\n",
              "PrivacyPolicy       0\n",
              "AdSupported         0\n",
              "InAppPurchases      0\n",
              "EditorsChoice       0\n",
              "ScrapedTime         0\n",
              "dtype: int64"
            ]
          },
          "metadata": {},
          "execution_count": 30
        }
      ]
    },
    {
      "cell_type": "markdown",
      "source": [
        "**Data Transformation** - As seen above every datetype column were stored as objects. We should convert it to a datetime format."
      ],
      "metadata": {
        "id": "WoQyBH2QgkgI"
      }
    },
    {
      "cell_type": "code",
      "source": [
        "df['Released'] = pd.to_datetime(df['Released'])"
      ],
      "metadata": {
        "colab": {
          "base_uri": "https://localhost:8080/"
        },
        "id": "-_R8bbfIFwtj",
        "outputId": "693c0ae6-1237-42c3-876e-462011f81bfc"
      },
      "execution_count": null,
      "outputs": [
        {
          "output_type": "stream",
          "name": "stderr",
          "text": [
            "<ipython-input-31-f4490bc97b5e>:1: SettingWithCopyWarning: \n",
            "A value is trying to be set on a copy of a slice from a DataFrame.\n",
            "Try using .loc[row_indexer,col_indexer] = value instead\n",
            "\n",
            "See the caveats in the documentation: https://pandas.pydata.org/pandas-docs/stable/user_guide/indexing.html#returning-a-view-versus-a-copy\n",
            "  df['Released'] = pd.to_datetime(df['Released'])\n"
          ]
        }
      ]
    },
    {
      "cell_type": "code",
      "source": [
        "df['LastUpdated'] = pd.to_datetime(df['LastUpdated'])"
      ],
      "metadata": {
        "colab": {
          "base_uri": "https://localhost:8080/"
        },
        "id": "MyCiHdHYMAww",
        "outputId": "9ebb3678-dc0b-4881-d492-ca9f4a85ab48"
      },
      "execution_count": null,
      "outputs": [
        {
          "output_type": "stream",
          "name": "stderr",
          "text": [
            "<ipython-input-32-eb9ff00722d9>:1: SettingWithCopyWarning: \n",
            "A value is trying to be set on a copy of a slice from a DataFrame.\n",
            "Try using .loc[row_indexer,col_indexer] = value instead\n",
            "\n",
            "See the caveats in the documentation: https://pandas.pydata.org/pandas-docs/stable/user_guide/indexing.html#returning-a-view-versus-a-copy\n",
            "  df['LastUpdated'] = pd.to_datetime(df['LastUpdated'])\n"
          ]
        }
      ]
    },
    {
      "cell_type": "code",
      "source": [
        "df['ScrapedTime'] = pd.to_datetime(df['ScrapedTime'])"
      ],
      "metadata": {
        "colab": {
          "base_uri": "https://localhost:8080/"
        },
        "id": "3lLZx9W2MY84",
        "outputId": "07229b99-8390-420f-b442-b8d0618dd980"
      },
      "execution_count": null,
      "outputs": [
        {
          "output_type": "stream",
          "name": "stderr",
          "text": [
            "<ipython-input-33-bd7052df6d85>:1: SettingWithCopyWarning: \n",
            "A value is trying to be set on a copy of a slice from a DataFrame.\n",
            "Try using .loc[row_indexer,col_indexer] = value instead\n",
            "\n",
            "See the caveats in the documentation: https://pandas.pydata.org/pandas-docs/stable/user_guide/indexing.html#returning-a-view-versus-a-copy\n",
            "  df['ScrapedTime'] = pd.to_datetime(df['ScrapedTime'])\n"
          ]
        }
      ]
    },
    {
      "cell_type": "code",
      "source": [
        "df.dtypes"
      ],
      "metadata": {
        "colab": {
          "base_uri": "https://localhost:8080/"
        },
        "id": "2M1BziE7IPDe",
        "outputId": "3a357f72-ffa8-4d04-e47d-93ed65c59b2e"
      },
      "execution_count": null,
      "outputs": [
        {
          "output_type": "execute_result",
          "data": {
            "text/plain": [
              "AppName                     object\n",
              "AppId                       object\n",
              "Category                    object\n",
              "Rating                     float16\n",
              "RatingCount                float32\n",
              "Installs                    object\n",
              "MinimumInstalls            float32\n",
              "MaximumInstalls              int64\n",
              "Free                          bool\n",
              "Price                      float16\n",
              "Currency                    object\n",
              "Size                        object\n",
              "MinimumAndroid              object\n",
              "DeveloperId                 object\n",
              "DeveloperWebsite            object\n",
              "DeveloperEmail              object\n",
              "Released            datetime64[ns]\n",
              "LastUpdated         datetime64[ns]\n",
              "ContentRating               object\n",
              "PrivacyPolicy               object\n",
              "AdSupported                   bool\n",
              "InAppPurchases                bool\n",
              "EditorsChoice                 bool\n",
              "ScrapedTime         datetime64[ns]\n",
              "dtype: object"
            ]
          },
          "metadata": {},
          "execution_count": 34
        }
      ]
    },
    {
      "cell_type": "markdown",
      "source": [
        "For a better visualisation, it makes sense for us to convert the unit of size column to just one unit which is `megabytes`.<br>\n",
        "To achieve this a few steps has to be done,\n",
        "\n",
        "*   Convert Gigabytes to Megabytes\n",
        "*   Convert Kilobytes to Megabytes\n",
        "* Remove Punctuations\n",
        "* Replace String `Varies with device` with 0\n",
        "* Convert the whole column to float datatype"
      ],
      "metadata": {
        "id": "5_EjECEghJGS"
      }
    },
    {
      "cell_type": "code",
      "source": [
        "df['Size'].unique()"
      ],
      "metadata": {
        "colab": {
          "base_uri": "https://localhost:8080/"
        },
        "id": "wLv2t1_nJCK6",
        "outputId": "d8938530-281e-417d-cd9f-7ea8ad80bdec"
      },
      "execution_count": null,
      "outputs": [
        {
          "output_type": "execute_result",
          "data": {
            "text/plain": [
              "array(['29M', '6.2M', '11M', ..., '926k', '951k', '179k'], dtype=object)"
            ]
          },
          "metadata": {},
          "execution_count": 35
        }
      ]
    },
    {
      "cell_type": "code",
      "source": [
        "a = lambda x: str(x).replace(',', '.') if ',' in str(x) else x #Replace ,\n",
        "b = lambda x: str(x).replace('Varies with device', '0') if 'Varies with device' in str(x) else x #Replace Varies with device with 0\n",
        "c = lambda x: str(x).replace('M', '') if 'M' in str(x) else x #Remove M\n",
        "d = lambda x: float(str(x).replace('k', '')) / 1000 if 'k' in str(x) else x #Remove K and convert the value to M\n",
        "e = lambda x: float(str(x).replace('G', '')) * 1000 if 'G' in str(x) else x # Remove G and convert the value to M\n",
        "f = lambda x: float(x) #Converts to Float\n",
        "\n",
        "steps = [a,b,c,d,e,f]\n",
        "\n",
        "for func in steps:\n",
        "  df['Size'] = df['Size'].apply(func) # Apply all functions through loop\n",
        "\n",
        "df.dtypes['Size']"
      ],
      "metadata": {
        "colab": {
          "base_uri": "https://localhost:8080/"
        },
        "id": "1UY9MGUbJDx7",
        "outputId": "defee3a3-63ab-46e6-c9b2-cd86e693acdd"
      },
      "execution_count": null,
      "outputs": [
        {
          "output_type": "stream",
          "name": "stderr",
          "text": [
            "<ipython-input-36-45a27d17391a>:11: SettingWithCopyWarning: \n",
            "A value is trying to be set on a copy of a slice from a DataFrame.\n",
            "Try using .loc[row_indexer,col_indexer] = value instead\n",
            "\n",
            "See the caveats in the documentation: https://pandas.pydata.org/pandas-docs/stable/user_guide/indexing.html#returning-a-view-versus-a-copy\n",
            "  df['Size'] = df['Size'].apply(func) # Apply all functions through loop\n"
          ]
        },
        {
          "output_type": "execute_result",
          "data": {
            "text/plain": [
              "dtype('float64')"
            ]
          },
          "metadata": {},
          "execution_count": 36
        }
      ]
    },
    {
      "cell_type": "markdown",
      "source": [
        "Just like before, again it makes sense to convert the Installs column to a numerical column for better visualisations.<br>\n",
        "Again a few steps has to be done to achieve this,\n",
        "* Remove Punctuations\n",
        "* Convert the column to a numeric datatype"
      ],
      "metadata": {
        "id": "pGFo4bn9hoHc"
      }
    },
    {
      "cell_type": "code",
      "source": [
        "df['Installs'].unique()"
      ],
      "metadata": {
        "id": "g34STKNaL7g3",
        "colab": {
          "base_uri": "https://localhost:8080/"
        },
        "outputId": "b1c56221-2913-4494-cdae-c4635e784b4d"
      },
      "execution_count": null,
      "outputs": [
        {
          "output_type": "execute_result",
          "data": {
            "text/plain": [
              "array(['10,000+', '1,000+', '100+', '50,000+', '10+', '50+', '500+',\n",
              "       '100,000+', '5,000,000+', '5,000+', '5+', '500,000+', '1,000,000+',\n",
              "       '1+', '0+', '50,000,000+', '10,000,000+', '1,000,000,000+',\n",
              "       '100,000,000+', '500,000,000+', '5,000,000,000+'], dtype=object)"
            ]
          },
          "metadata": {},
          "execution_count": 37
        }
      ]
    },
    {
      "cell_type": "code",
      "source": [
        "df['Installs'] = df['Installs'].str.replace(',','') #Removes Comma\n",
        "df['Installs'] = df['Installs'].str.replace('+','') #Removes + Sign\n",
        "df['Installs'] = pd.to_numeric(df['Installs']) #Changes Data Type to Numeric\n",
        "df.dtypes['Installs']"
      ],
      "metadata": {
        "colab": {
          "base_uri": "https://localhost:8080/"
        },
        "id": "U7ghwoScQumZ",
        "outputId": "cb60f0c4-9a75-4191-a954-64ef9e084238"
      },
      "execution_count": null,
      "outputs": [
        {
          "output_type": "stream",
          "name": "stderr",
          "text": [
            "<ipython-input-38-d51bbaf141bc>:1: SettingWithCopyWarning: \n",
            "A value is trying to be set on a copy of a slice from a DataFrame.\n",
            "Try using .loc[row_indexer,col_indexer] = value instead\n",
            "\n",
            "See the caveats in the documentation: https://pandas.pydata.org/pandas-docs/stable/user_guide/indexing.html#returning-a-view-versus-a-copy\n",
            "  df['Installs'] = df['Installs'].str.replace(',','') #Removes Comma\n",
            "<ipython-input-38-d51bbaf141bc>:2: FutureWarning: The default value of regex will change from True to False in a future version. In addition, single character regular expressions will *not* be treated as literal strings when regex=True.\n",
            "  df['Installs'] = df['Installs'].str.replace('+','') #Removes + Sign\n",
            "<ipython-input-38-d51bbaf141bc>:2: SettingWithCopyWarning: \n",
            "A value is trying to be set on a copy of a slice from a DataFrame.\n",
            "Try using .loc[row_indexer,col_indexer] = value instead\n",
            "\n",
            "See the caveats in the documentation: https://pandas.pydata.org/pandas-docs/stable/user_guide/indexing.html#returning-a-view-versus-a-copy\n",
            "  df['Installs'] = df['Installs'].str.replace('+','') #Removes + Sign\n",
            "<ipython-input-38-d51bbaf141bc>:3: SettingWithCopyWarning: \n",
            "A value is trying to be set on a copy of a slice from a DataFrame.\n",
            "Try using .loc[row_indexer,col_indexer] = value instead\n",
            "\n",
            "See the caveats in the documentation: https://pandas.pydata.org/pandas-docs/stable/user_guide/indexing.html#returning-a-view-versus-a-copy\n",
            "  df['Installs'] = pd.to_numeric(df['Installs']) #Changes Data Type to Numeric\n"
          ]
        },
        {
          "output_type": "execute_result",
          "data": {
            "text/plain": [
              "dtype('int64')"
            ]
          },
          "metadata": {},
          "execution_count": 38
        }
      ]
    },
    {
      "cell_type": "markdown",
      "source": [
        "The free column describes wheter if a application is paid or free type. For a better undestanding, we can create a new column with just the string `Paid` or `Free`, to describe the `Type` of application we are dealing with."
      ],
      "metadata": {
        "id": "yat-RUUmimYI"
      }
    },
    {
      "cell_type": "code",
      "source": [
        "df['Type'] = np.where(df['Free'] == True,'Free','Paid') # Creates new column where there is a better view for free and paid apps\n",
        "df.drop(['Free'],inplace=True,axis=1) #Drop the existing column"
      ],
      "metadata": {
        "colab": {
          "base_uri": "https://localhost:8080/"
        },
        "id": "Uh7swmkNStS_",
        "outputId": "b2766577-ea71-4f5e-be4d-1751f534170e"
      },
      "execution_count": null,
      "outputs": [
        {
          "output_type": "stream",
          "name": "stderr",
          "text": [
            "<ipython-input-39-f1e49e42ce81>:1: SettingWithCopyWarning: \n",
            "A value is trying to be set on a copy of a slice from a DataFrame.\n",
            "Try using .loc[row_indexer,col_indexer] = value instead\n",
            "\n",
            "See the caveats in the documentation: https://pandas.pydata.org/pandas-docs/stable/user_guide/indexing.html#returning-a-view-versus-a-copy\n",
            "  df['Type'] = np.where(df['Free'] == True,'Free','Paid') # Creates new column where there is a better view for free and paid apps\n",
            "/usr/local/lib/python3.8/dist-packages/pandas/core/frame.py:4906: SettingWithCopyWarning: \n",
            "A value is trying to be set on a copy of a slice from a DataFrame\n",
            "\n",
            "See the caveats in the documentation: https://pandas.pydata.org/pandas-docs/stable/user_guide/indexing.html#returning-a-view-versus-a-copy\n",
            "  return super().drop(\n"
          ]
        }
      ]
    },
    {
      "cell_type": "code",
      "source": [
        "df['Type'].describe()"
      ],
      "metadata": {
        "colab": {
          "base_uri": "https://localhost:8080/"
        },
        "id": "2uimDMaBRHeb",
        "outputId": "05244bda-5bbe-44f9-d6d8-0fbb98148fd3"
      },
      "execution_count": null,
      "outputs": [
        {
          "output_type": "execute_result",
          "data": {
            "text/plain": [
              "count     224136\n",
              "unique         2\n",
              "top         Free\n",
              "freq      219658\n",
              "Name: Type, dtype: object"
            ]
          },
          "metadata": {},
          "execution_count": 40
        }
      ]
    },
    {
      "cell_type": "markdown",
      "source": [
        "The Price Column is a column containing a continous data and is in the smallest size it can be in. Therefore nothing has to be done to it."
      ],
      "metadata": {
        "id": "u1jIpthsjBXc"
      }
    },
    {
      "cell_type": "code",
      "source": [
        "df['Price'].unique()"
      ],
      "metadata": {
        "colab": {
          "base_uri": "https://localhost:8080/"
        },
        "id": "fJNXwO1rTEo_",
        "outputId": "26af704e-3f91-4020-9766-833350c119c1"
      },
      "execution_count": null,
      "outputs": [
        {
          "output_type": "execute_result",
          "data": {
            "text/plain": [
              "array([  0.   ,   1.99 ,   0.99 ,   3.49 ,   3.99 ,   4.99 ,   6.49 ,\n",
              "         5.29 ,   5.99 ,   2.99 ,   1.49 ,  40.   ,  28.98 ,  48.94 ,\n",
              "         3.67 ,  55.   ,   2.49 ,   5.49 ,   4.49 ,   1.09 ,   9.99 ,\n",
              "         5.   ,  24.45 ,   1.   ,  65.   ,   2.1  ,  33.   ,  35.   ,\n",
              "        19.98 ,   6.99 ,   1.6  ,   3.5  ,   1.39 ,  13.99 ,   1.75 ,\n",
              "        90.   ,   2.   ,  10.99 ,  13.84 ,   9.49 ,   2.17 ,   1.45 ,\n",
              "        54.   ,  29.98 ,   7.99 ,   1.76 ,  25.   ,   1.66 ,  17.98 ,\n",
              "         1.04 ,   8.99 ,   7.49 ,  10.   ,   8.49 ,  11.99 ,   1.61 ,\n",
              "         2.89 ,   9.9  ,  11.45 ,  22.98 ,   1.11 ,  24.98 ,   2.45 ,\n",
              "        19.95 ,   4.8  ,  60.   ,   1.12 ,  16.98 ,   1.37 ,   3.43 ,\n",
              "        14.99 ,  37.2  , 400.   ,  12.99 ,  95.   ,   1.19 ,   1.92 ,\n",
              "        15.99 ,   4.02 ,   2.02 ,   1.69 ,   2.58 ,   4.95 ,  50.   ,\n",
              "         9.8  ,   3.   ,  15.   ,  21.98 ,   3.412,   2.39 ,   1.03 ,\n",
              "         1.25 ,   1.79 ,   4.52 ,   6.   ,   1.97 ,  32.28 ,   3.9  ,\n",
              "         6.78 ,  45.   ,   1.14 ,   2.85 ,   1.27 ,  27.98 ,  70.   ,\n",
              "         2.23 , 339.   ,  49.   ,   4.1  ,   1.98 ,   9.   ,   2.65 ,\n",
              "         2.37 , 330.   ,   1.05 ,   5.63 ,   1.74 ,  80.   ,  25.98 ,\n",
              "         1.67 ,  13.46 ,   1.59 ,   4.38 ,  30.   ,   6.04 , 145.   ,\n",
              "        18.98 ,  14.555,   2.24 ,   4.88 ,  14.01 ,   2.73 ,   1.32 ,\n",
              "        44.   ,  20.98 ,  34.   ,   1.122,   6.72 ,   1.18 ,   2.69 ,\n",
              "        11.   ,   2.79 ,  36.   , 175.   ,   1.02 ,   4.9  ,   2.22 ,\n",
              "         1.5  ,   4.69 ,   4.   ,   1.84 ,   4.32 ,  39.   ,   3.635,\n",
              "         5.65 ,   5.33 ,  31.98 ,  13.48 ,   3.39 ,   1.004,   1.36 ,\n",
              "        48.   ,   5.64 ,   1.15 ,   2.93 ,   2.59 ,   8.29 ,   1.08 ,\n",
              "        12.49 ,   2.9  ,   7.46 ,   9.17 ,  23.98 , 163.   , 380.   ,\n",
              "        26.98 ,   1.57 ,  30.98 ,   7.   ,   1.701,   2.363,   1.42 ,\n",
              "         2.08 ,  41.   ,   1.13 ,   1.28 ,  11.89 ,   1.7  ,   2.34 ,\n",
              "         5.457,   4.83 ,  34.56 ,  44.94 , 150.   ,   2.76 ,  20.02 ,\n",
              "         1.43 , 215.   ,   1.94 ,   1.81 ,   2.5  ,   2.51 ,  20.   ,\n",
              "         3.95 ,  32.   ,   6.355,   1.24 ,   4.3  ,   2.3  ,   9.23 ,\n",
              "         1.16 ,   1.95 ,   3.23 ,  52.5  ,  19.   ,   2.31 , 100.   ,\n",
              "         3.79 ,   5.344,   1.29 ,   1.68 ,   1.3  ,   7.5  ,   3.52 ,\n",
              "         3.29 ], dtype=float16)"
            ]
          },
          "metadata": {},
          "execution_count": 41
        }
      ]
    },
    {
      "cell_type": "markdown",
      "source": [
        "Currency Column is a column containing a categorical data, and there is nothing much to be done with it."
      ],
      "metadata": {
        "id": "JnNF3VrxjNul"
      }
    },
    {
      "cell_type": "code",
      "source": [
        "df['Currency'].unique()"
      ],
      "metadata": {
        "colab": {
          "base_uri": "https://localhost:8080/"
        },
        "id": "DWdHUSGrTTEa",
        "outputId": "a847d711-063d-4629-f10c-315c1720175b"
      },
      "execution_count": null,
      "outputs": [
        {
          "output_type": "execute_result",
          "data": {
            "text/plain": [
              "array(['USD', 'XXX', 'INR', 'VND', 'EUR'], dtype=object)"
            ]
          },
          "metadata": {},
          "execution_count": 42
        }
      ]
    },
    {
      "cell_type": "markdown",
      "source": [
        "ContentRating column can be improved by,\n",
        "* Assuming Unrated is for Everyone, Thus changing it to show it.\n",
        "* Everyone 10+ is a teenager, Therefore we can add them to the Teen category.\n",
        "* Mature 17+ is adult content, and to represent it we have to change them to the Adult category.\n",
        "* Adults only 18+ can be truncated to just Adults for simplicity."
      ],
      "metadata": {
        "id": "DlW4Uo70jZ3g"
      }
    },
    {
      "cell_type": "code",
      "source": [
        "df[\"ContentRating\"].unique()"
      ],
      "metadata": {
        "colab": {
          "base_uri": "https://localhost:8080/"
        },
        "id": "Z_2o-T1rUXKP",
        "outputId": "558c96fe-e2b6-497b-9a84-d5ce876ab33b"
      },
      "execution_count": null,
      "outputs": [
        {
          "output_type": "execute_result",
          "data": {
            "text/plain": [
              "array(['Everyone', 'Teen', 'Mature 17+', 'Everyone 10+', 'Unrated',\n",
              "       'Adults only 18+'], dtype=object)"
            ]
          },
          "metadata": {},
          "execution_count": 43
        }
      ]
    },
    {
      "cell_type": "code",
      "source": [
        "df[\"ContentRating\"]=df[\"ContentRating\"].replace(\"Unrated\",\"Everyone\") #Change Unrated Rating to Everyone\n",
        "df[\"ContentRating\"]=df[\"ContentRating\"].replace(\"Everyone 10+\",\"Teen\") #Change everyone 10+ to teen\n",
        "df[\"ContentRating\"]=df[\"ContentRating\"].replace(\"Mature 17+\",\"Adults\") #Change Mature 17+ to Adults\n",
        "df[\"ContentRating\"]=df[\"ContentRating\"].replace(\"Adults only 18+\",\"Adults\") #Change Adults only 18+ to Adults"
      ],
      "metadata": {
        "colab": {
          "base_uri": "https://localhost:8080/"
        },
        "id": "pb9i-FgqVLU7",
        "outputId": "da719e17-ae32-4db8-c25f-01331fc56f0a"
      },
      "execution_count": null,
      "outputs": [
        {
          "output_type": "stream",
          "name": "stderr",
          "text": [
            "<ipython-input-44-e719eca33e70>:1: SettingWithCopyWarning: \n",
            "A value is trying to be set on a copy of a slice from a DataFrame.\n",
            "Try using .loc[row_indexer,col_indexer] = value instead\n",
            "\n",
            "See the caveats in the documentation: https://pandas.pydata.org/pandas-docs/stable/user_guide/indexing.html#returning-a-view-versus-a-copy\n",
            "  df[\"ContentRating\"]=df[\"ContentRating\"].replace(\"Unrated\",\"Everyone\") #Change Unrated Rating to Everyone\n",
            "<ipython-input-44-e719eca33e70>:2: SettingWithCopyWarning: \n",
            "A value is trying to be set on a copy of a slice from a DataFrame.\n",
            "Try using .loc[row_indexer,col_indexer] = value instead\n",
            "\n",
            "See the caveats in the documentation: https://pandas.pydata.org/pandas-docs/stable/user_guide/indexing.html#returning-a-view-versus-a-copy\n",
            "  df[\"ContentRating\"]=df[\"ContentRating\"].replace(\"Everyone 10+\",\"Teen\") #Change everyone 10+ to teen\n",
            "<ipython-input-44-e719eca33e70>:3: SettingWithCopyWarning: \n",
            "A value is trying to be set on a copy of a slice from a DataFrame.\n",
            "Try using .loc[row_indexer,col_indexer] = value instead\n",
            "\n",
            "See the caveats in the documentation: https://pandas.pydata.org/pandas-docs/stable/user_guide/indexing.html#returning-a-view-versus-a-copy\n",
            "  df[\"ContentRating\"]=df[\"ContentRating\"].replace(\"Mature 17+\",\"Adults\") #Change Mature 17+ to Adults\n",
            "<ipython-input-44-e719eca33e70>:4: SettingWithCopyWarning: \n",
            "A value is trying to be set on a copy of a slice from a DataFrame.\n",
            "Try using .loc[row_indexer,col_indexer] = value instead\n",
            "\n",
            "See the caveats in the documentation: https://pandas.pydata.org/pandas-docs/stable/user_guide/indexing.html#returning-a-view-versus-a-copy\n",
            "  df[\"ContentRating\"]=df[\"ContentRating\"].replace(\"Adults only 18+\",\"Adults\") #Change Adults only 18+ to Adults\n"
          ]
        }
      ]
    },
    {
      "cell_type": "markdown",
      "metadata": {
        "id": "_0m5LkbVVJJ6"
      },
      "source": [
        "## Exploratory Analysis and Visualization\n",
        "\n"
      ]
    },
    {
      "cell_type": "markdown",
      "metadata": {
        "id": "Fv4NPHasVJJ7"
      },
      "source": [
        "**Import Required Libraries** - To continue with the EDA we have to import Seaborn, Matplotlib libraries."
      ]
    },
    {
      "cell_type": "code",
      "source": [
        "import seaborn as sns\n",
        "import matplotlib\n",
        "import matplotlib.pyplot as plt\n",
        "%matplotlib inline\n",
        "\n",
        "sns.set_style('darkgrid')\n",
        "matplotlib.rcParams['font.size'] = 14\n",
        "matplotlib.rcParams['figure.figsize'] = (9, 5)\n",
        "matplotlib.rcParams['figure.facecolor'] = '#00000000'"
      ],
      "metadata": {
        "id": "92LLl6tX2yQQ"
      },
      "execution_count": null,
      "outputs": []
    },
    {
      "cell_type": "markdown",
      "source": [
        "Now lets, compute the mean, sum, range and other interesting statistics for numeric columns. This can be done using the `.describe` method."
      ],
      "metadata": {
        "id": "b32euWtwghmW"
      }
    },
    {
      "cell_type": "code",
      "execution_count": null,
      "metadata": {
        "id": "NKN6RIplVJJ7",
        "colab": {
          "base_uri": "https://localhost:8080/",
          "height": 300
        },
        "outputId": "f62d67ed-7adb-4780-b64d-493c4d07878a"
      },
      "outputs": [
        {
          "output_type": "execute_result",
          "data": {
            "text/plain": [
              "              Rating   RatingCount      Installs  MinimumInstalls  \\\n",
              "count  224136.000000  2.241360e+05  2.241360e+05     2.241360e+05   \n",
              "mean             NaN  3.569587e+03  1.815844e+05     1.815844e+05   \n",
              "std         0.000000  3.606808e+05  1.224929e+07     1.224929e+07   \n",
              "min         0.000000  0.000000e+00  0.000000e+00     0.000000e+00   \n",
              "25%         0.000000  0.000000e+00  5.000000e+01     5.000000e+01   \n",
              "50%         3.000000  6.000000e+00  5.000000e+02     5.000000e+02   \n",
              "75%         4.300781  4.100000e+01  5.000000e+03     5.000000e+03   \n",
              "max         5.000000  1.385576e+08  5.000000e+09     5.000000e+09   \n",
              "\n",
              "       MaximumInstalls     Price           Size  \n",
              "count     2.241360e+05  224136.0  224136.000000  \n",
              "mean      3.209413e+05       0.0      18.725142  \n",
              "std       1.805605e+07       NaN      23.383343  \n",
              "min       0.000000e+00       0.0       0.000000  \n",
              "25%       8.500000e+01       0.0       4.700000  \n",
              "50%       7.020000e+02       0.0       9.900000  \n",
              "75%       7.322250e+03       0.0      24.000000  \n",
              "max       6.265638e+09     400.0     799.000000  "
            ],
            "text/html": [
              "\n",
              "  <div id=\"df-f0690c83-50f4-4c67-ade2-82628843ee24\">\n",
              "    <div class=\"colab-df-container\">\n",
              "      <div>\n",
              "<style scoped>\n",
              "    .dataframe tbody tr th:only-of-type {\n",
              "        vertical-align: middle;\n",
              "    }\n",
              "\n",
              "    .dataframe tbody tr th {\n",
              "        vertical-align: top;\n",
              "    }\n",
              "\n",
              "    .dataframe thead th {\n",
              "        text-align: right;\n",
              "    }\n",
              "</style>\n",
              "<table border=\"1\" class=\"dataframe\">\n",
              "  <thead>\n",
              "    <tr style=\"text-align: right;\">\n",
              "      <th></th>\n",
              "      <th>Rating</th>\n",
              "      <th>RatingCount</th>\n",
              "      <th>Installs</th>\n",
              "      <th>MinimumInstalls</th>\n",
              "      <th>MaximumInstalls</th>\n",
              "      <th>Price</th>\n",
              "      <th>Size</th>\n",
              "    </tr>\n",
              "  </thead>\n",
              "  <tbody>\n",
              "    <tr>\n",
              "      <th>count</th>\n",
              "      <td>224136.000000</td>\n",
              "      <td>2.241360e+05</td>\n",
              "      <td>2.241360e+05</td>\n",
              "      <td>2.241360e+05</td>\n",
              "      <td>2.241360e+05</td>\n",
              "      <td>224136.0</td>\n",
              "      <td>224136.000000</td>\n",
              "    </tr>\n",
              "    <tr>\n",
              "      <th>mean</th>\n",
              "      <td>NaN</td>\n",
              "      <td>3.569587e+03</td>\n",
              "      <td>1.815844e+05</td>\n",
              "      <td>1.815844e+05</td>\n",
              "      <td>3.209413e+05</td>\n",
              "      <td>0.0</td>\n",
              "      <td>18.725142</td>\n",
              "    </tr>\n",
              "    <tr>\n",
              "      <th>std</th>\n",
              "      <td>0.000000</td>\n",
              "      <td>3.606808e+05</td>\n",
              "      <td>1.224929e+07</td>\n",
              "      <td>1.224929e+07</td>\n",
              "      <td>1.805605e+07</td>\n",
              "      <td>NaN</td>\n",
              "      <td>23.383343</td>\n",
              "    </tr>\n",
              "    <tr>\n",
              "      <th>min</th>\n",
              "      <td>0.000000</td>\n",
              "      <td>0.000000e+00</td>\n",
              "      <td>0.000000e+00</td>\n",
              "      <td>0.000000e+00</td>\n",
              "      <td>0.000000e+00</td>\n",
              "      <td>0.0</td>\n",
              "      <td>0.000000</td>\n",
              "    </tr>\n",
              "    <tr>\n",
              "      <th>25%</th>\n",
              "      <td>0.000000</td>\n",
              "      <td>0.000000e+00</td>\n",
              "      <td>5.000000e+01</td>\n",
              "      <td>5.000000e+01</td>\n",
              "      <td>8.500000e+01</td>\n",
              "      <td>0.0</td>\n",
              "      <td>4.700000</td>\n",
              "    </tr>\n",
              "    <tr>\n",
              "      <th>50%</th>\n",
              "      <td>3.000000</td>\n",
              "      <td>6.000000e+00</td>\n",
              "      <td>5.000000e+02</td>\n",
              "      <td>5.000000e+02</td>\n",
              "      <td>7.020000e+02</td>\n",
              "      <td>0.0</td>\n",
              "      <td>9.900000</td>\n",
              "    </tr>\n",
              "    <tr>\n",
              "      <th>75%</th>\n",
              "      <td>4.300781</td>\n",
              "      <td>4.100000e+01</td>\n",
              "      <td>5.000000e+03</td>\n",
              "      <td>5.000000e+03</td>\n",
              "      <td>7.322250e+03</td>\n",
              "      <td>0.0</td>\n",
              "      <td>24.000000</td>\n",
              "    </tr>\n",
              "    <tr>\n",
              "      <th>max</th>\n",
              "      <td>5.000000</td>\n",
              "      <td>1.385576e+08</td>\n",
              "      <td>5.000000e+09</td>\n",
              "      <td>5.000000e+09</td>\n",
              "      <td>6.265638e+09</td>\n",
              "      <td>400.0</td>\n",
              "      <td>799.000000</td>\n",
              "    </tr>\n",
              "  </tbody>\n",
              "</table>\n",
              "</div>\n",
              "      <button class=\"colab-df-convert\" onclick=\"convertToInteractive('df-f0690c83-50f4-4c67-ade2-82628843ee24')\"\n",
              "              title=\"Convert this dataframe to an interactive table.\"\n",
              "              style=\"display:none;\">\n",
              "        \n",
              "  <svg xmlns=\"http://www.w3.org/2000/svg\" height=\"24px\"viewBox=\"0 0 24 24\"\n",
              "       width=\"24px\">\n",
              "    <path d=\"M0 0h24v24H0V0z\" fill=\"none\"/>\n",
              "    <path d=\"M18.56 5.44l.94 2.06.94-2.06 2.06-.94-2.06-.94-.94-2.06-.94 2.06-2.06.94zm-11 1L8.5 8.5l.94-2.06 2.06-.94-2.06-.94L8.5 2.5l-.94 2.06-2.06.94zm10 10l.94 2.06.94-2.06 2.06-.94-2.06-.94-.94-2.06-.94 2.06-2.06.94z\"/><path d=\"M17.41 7.96l-1.37-1.37c-.4-.4-.92-.59-1.43-.59-.52 0-1.04.2-1.43.59L10.3 9.45l-7.72 7.72c-.78.78-.78 2.05 0 2.83L4 21.41c.39.39.9.59 1.41.59.51 0 1.02-.2 1.41-.59l7.78-7.78 2.81-2.81c.8-.78.8-2.07 0-2.86zM5.41 20L4 18.59l7.72-7.72 1.47 1.35L5.41 20z\"/>\n",
              "  </svg>\n",
              "      </button>\n",
              "      \n",
              "  <style>\n",
              "    .colab-df-container {\n",
              "      display:flex;\n",
              "      flex-wrap:wrap;\n",
              "      gap: 12px;\n",
              "    }\n",
              "\n",
              "    .colab-df-convert {\n",
              "      background-color: #E8F0FE;\n",
              "      border: none;\n",
              "      border-radius: 50%;\n",
              "      cursor: pointer;\n",
              "      display: none;\n",
              "      fill: #1967D2;\n",
              "      height: 32px;\n",
              "      padding: 0 0 0 0;\n",
              "      width: 32px;\n",
              "    }\n",
              "\n",
              "    .colab-df-convert:hover {\n",
              "      background-color: #E2EBFA;\n",
              "      box-shadow: 0px 1px 2px rgba(60, 64, 67, 0.3), 0px 1px 3px 1px rgba(60, 64, 67, 0.15);\n",
              "      fill: #174EA6;\n",
              "    }\n",
              "\n",
              "    [theme=dark] .colab-df-convert {\n",
              "      background-color: #3B4455;\n",
              "      fill: #D2E3FC;\n",
              "    }\n",
              "\n",
              "    [theme=dark] .colab-df-convert:hover {\n",
              "      background-color: #434B5C;\n",
              "      box-shadow: 0px 1px 3px 1px rgba(0, 0, 0, 0.15);\n",
              "      filter: drop-shadow(0px 1px 2px rgba(0, 0, 0, 0.3));\n",
              "      fill: #FFFFFF;\n",
              "    }\n",
              "  </style>\n",
              "\n",
              "      <script>\n",
              "        const buttonEl =\n",
              "          document.querySelector('#df-f0690c83-50f4-4c67-ade2-82628843ee24 button.colab-df-convert');\n",
              "        buttonEl.style.display =\n",
              "          google.colab.kernel.accessAllowed ? 'block' : 'none';\n",
              "\n",
              "        async function convertToInteractive(key) {\n",
              "          const element = document.querySelector('#df-f0690c83-50f4-4c67-ade2-82628843ee24');\n",
              "          const dataTable =\n",
              "            await google.colab.kernel.invokeFunction('convertToInteractive',\n",
              "                                                     [key], {});\n",
              "          if (!dataTable) return;\n",
              "\n",
              "          const docLinkHtml = 'Like what you see? Visit the ' +\n",
              "            '<a target=\"_blank\" href=https://colab.research.google.com/notebooks/data_table.ipynb>data table notebook</a>'\n",
              "            + ' to learn more about interactive tables.';\n",
              "          element.innerHTML = '';\n",
              "          dataTable['output_type'] = 'display_data';\n",
              "          await google.colab.output.renderOutput(dataTable, element);\n",
              "          const docLink = document.createElement('div');\n",
              "          docLink.innerHTML = docLinkHtml;\n",
              "          element.appendChild(docLink);\n",
              "        }\n",
              "      </script>\n",
              "    </div>\n",
              "  </div>\n",
              "  "
            ]
          },
          "metadata": {},
          "execution_count": 46
        }
      ],
      "source": [
        "df.describe()"
      ]
    },
    {
      "cell_type": "markdown",
      "source": [
        "From the describe method, we can easily find out basic statistics of the dataset inputted. By, using the method, we found our how many records there are in the dataset. The mean of the continous data, standard deviation, minimum and maximum. Not to mention the first, second and third quartile of the data."
      ],
      "metadata": {
        "id": "5oLmub6zhA3t"
      }
    },
    {
      "cell_type": "markdown",
      "metadata": {
        "id": "Dn_AW-5uVJJ7"
      },
      "source": [
        "**BarPlot** - Top 10 most installed app based on maximum installs of each app."
      ]
    },
    {
      "cell_type": "code",
      "execution_count": null,
      "metadata": {
        "id": "c7fugjWzVJJ7",
        "colab": {
          "base_uri": "https://localhost:8080/",
          "height": 841
        },
        "outputId": "baabe036-71ff-44ab-a186-4801b621ecce"
      },
      "outputs": [
        {
          "output_type": "execute_result",
          "data": {
            "text/plain": [
              "<matplotlib.axes._subplots.AxesSubplot at 0x7f1d58c38d90>"
            ]
          },
          "metadata": {},
          "execution_count": 47
        },
        {
          "output_type": "display_data",
          "data": {
            "text/plain": [
              "<Figure size 2160x720 with 1 Axes>"
            ],
            "image/png": "[encoded data removed]"
          },
          "metadata": {
            "needs_background": "light"
          }
        }
      ],
      "source": [
        "#Setting the figure dimensions\n",
        "fig, ax = plt.subplots(figsize=(30, 10))\n",
        "\n",
        "#Grouping AppName with MaximumInstalls of which we find the sum of and sort it in descending order. We also use the head(10) to pick the top 10.\n",
        "grouped = df.groupby(by=['AppName'])[\"MaximumInstalls\"].sum().sort_values(ascending=False).head(n=10).reset_index()\n",
        "\n",
        "#Splitting the Application name by - and : to make the names shorter\n",
        "temp = grouped['AppName'].str.split(\"-\", n = 1, expand = True)\n",
        "temp = temp[0].str.split(\":\", n = 1, expand = True)\n",
        "\n",
        "#Replacing the AppName column with the much better visually values that was obtained\n",
        "grouped['AppName'] = temp[0].values\n",
        "\n",
        "#Plotting the Figure\n",
        "plt.title('Top 10 most recorded installs by Applications')\n",
        "plt.xticks(rotation=90)\n",
        "sns.barplot(x ='AppName', y = 'MaximumInstalls', data = grouped, palette = 'mako')\n"
      ]
    },
    {
      "cell_type": "markdown",
      "source": [
        "Firstly to achieve the figure above, we have to make sure that the data is grouped by AppName with MaximumInstalls. In the same line of code we can of find the sum of MaximumInstalls for each Application. Not to mention we also can sort it in descending order and use the head(10) to pick the top 10.\n",
        "\n",
        "With the data produced, we have to make it look presentable. To achieve this we can simply delete the string after punctuations.\n",
        "\n",
        "Then finally we can plot the figure.\n",
        "\n",
        "From the figure it is easy to identify that Whatsapp is the most installed application from the sample given."
      ],
      "metadata": {
        "id": "GbkwOv-ii-Ge"
      }
    },
    {
      "cell_type": "markdown",
      "metadata": {
        "id": "rN1bUu8RVJJ7"
      },
      "source": [
        "**ScatterPlot** - Ratings for Paid Applications"
      ]
    },
    {
      "cell_type": "code",
      "execution_count": null,
      "metadata": {
        "id": "kMrm6CiAVJJ8",
        "colab": {
          "base_uri": "https://localhost:8080/",
          "height": 652
        },
        "outputId": "01e9085d-a201-4019-b03e-4b509e65d5a1"
      },
      "outputs": [
        {
          "output_type": "execute_result",
          "data": {
            "text/plain": [
              "<matplotlib.axes._subplots.AxesSubplot at 0x7f1d58c30160>"
            ]
          },
          "metadata": {},
          "execution_count": 48
        },
        {
          "output_type": "display_data",
          "data": {
            "text/plain": [
              "<Figure size 2016x720 with 1 Axes>"
            ],
            "image/png": "[encoded data removed]"
          },
          "metadata": {
            "needs_background": "light"
          }
        }
      ],
      "source": [
        "#Setting the figure dimensions\n",
        "fig, ax = plt.subplots(figsize=(28, 10))\n",
        "\n",
        "#Filtering out Paid Apps and storing it into a dataframe of its own\n",
        "filtered = df.loc[df['Type'] == 'Paid']\n",
        "\n",
        "#Plotting\n",
        "plt.title('Rating Count by Price')\n",
        "sns.scatterplot(data=filtered, x='Price', y='RatingCount')"
      ]
    },
    {
      "cell_type": "markdown",
      "source": [
        "To get the figure above we have to first select rows based on the Application Type, in which the application have to be a premium one. Then the dataframe produced can be stored into a dataframe and be used to plot a scatterplot.\n",
        "\n",
        "The scatterplot above shows that as the price of the application increases, the rating count decreases. This is due to the amount of people that is actually willing to buy and install that app being low."
      ],
      "metadata": {
        "id": "-TQfcYE3kYnZ"
      }
    },
    {
      "cell_type": "markdown",
      "metadata": {
        "id": "tLNLw0EOVJJ8"
      },
      "source": [
        "**KDE Plot** - To find the distribution between ratings."
      ]
    },
    {
      "cell_type": "code",
      "execution_count": null,
      "metadata": {
        "id": "61sgf555VJJ8",
        "colab": {
          "base_uri": "https://localhost:8080/",
          "height": 653
        },
        "outputId": "3fbf9ebc-05ce-4c7b-8bfa-8ae0b8cc7c3e"
      },
      "outputs": [
        {
          "output_type": "execute_result",
          "data": {
            "text/plain": [
              "Text(0.5, 1.0, 'Distribution of Rating')"
            ]
          },
          "metadata": {},
          "execution_count": 49
        },
        {
          "output_type": "display_data",
          "data": {
            "text/plain": [
              "<Figure size 2016x720 with 1 Axes>"
            ],
            "image/png": "[encoded data removed]"
          },
          "metadata": {
            "needs_background": "light"
          }
        }
      ],
      "source": [
        "#Setting the figure dimensions\n",
        "plt.figure(figsize=(28, 10))\n",
        "\n",
        "#Plotting\n",
        "g = sns.kdeplot(df['Rating'])\n",
        "g.set_xlabel(\"Rating\") #x-axis label\n",
        "g.set_ylabel(\"Frequency\") #y-axis label\n",
        "plt.title('Distribution of Rating',size = 20) #plot title"
      ]
    },
    {
      "cell_type": "markdown",
      "source": [
        "Similar to a histogram, a kernel density estimate (KDE) plot is a technique for displaying the distribution of observations in a dataset. KDE uses a continuous probability density curve in one or more dimensions to describe the data. In python to plot a KDE plot, we can use a seaborn library method called `.kdeplot`.\n",
        "\n",
        "In the kde plot above we can see that most ratings are distributed towards 0 rating. There is a significant increase towards the 4-5 rating, which shows that not all application is accepted well by google play store users."
      ],
      "metadata": {
        "id": "0kel-2vMlpFa"
      }
    },
    {
      "cell_type": "markdown",
      "metadata": {
        "id": "nt_CVhi-VJJ8"
      },
      "source": [
        "**CountPlot** - How many applications are there in each category."
      ]
    },
    {
      "cell_type": "code",
      "execution_count": null,
      "metadata": {
        "id": "Zatc4Si_VJJ8",
        "colab": {
          "base_uri": "https://localhost:8080/",
          "height": 801
        },
        "outputId": "7e59d4e9-6f70-4f77-9a2d-0f224527b06a"
      },
      "outputs": [
        {
          "output_type": "execute_result",
          "data": {
            "text/plain": [
              "<matplotlib.axes._subplots.AxesSubplot at 0x7f1d5856b2e0>"
            ]
          },
          "metadata": {},
          "execution_count": 50
        },
        {
          "output_type": "display_data",
          "data": {
            "text/plain": [
              "<Figure size 2016x720 with 1 Axes>"
            ],
            "image/png": "[encoded data removed]"
          },
          "metadata": {
            "needs_background": "light"
          }
        }
      ],
      "source": [
        "#Setting the figure dimensions\n",
        "plt.figure(figsize=(28, 10))\n",
        "\n",
        "#Count the amount of records based on Category column\n",
        "categoryCount = df['Category'].value_counts().reset_index()\n",
        "categoryCount = categoryCount.rename(columns={'Category':'Count','index':'Category'}) #Rename the columns to better suit the dataframe\n",
        "\n",
        "#Plotting\n",
        "plt.xticks(rotation=90)\n",
        "plt.title(\"Total Categories and count of Applications in each category\")\n",
        "sns.barplot(x = categoryCount['Category'], y = categoryCount['Count'])"
      ]
    },
    {
      "cell_type": "markdown",
      "source": [
        "To get the chart above, we have to first count the amount of applications there are based on category. And `.value_counts()` is the perfect method for this scenario.\n",
        "\n",
        "Based on the countplot above, we can see that Education is the category with the most applications, based on our sample."
      ],
      "metadata": {
        "id": "7F3XyouYnPrm"
      }
    },
    {
      "cell_type": "markdown",
      "source": [
        "**Pie Chart** - Percentage of Free Apps that are Advertisement Free"
      ],
      "metadata": {
        "id": "Cw6U-BkUeyXm"
      }
    },
    {
      "cell_type": "code",
      "execution_count": null,
      "metadata": {
        "id": "RBYoxztOVJJ8",
        "colab": {
          "base_uri": "https://localhost:8080/",
          "height": 392
        },
        "outputId": "9cca7058-0397-4728-ea6a-dc0434adb28b"
      },
      "outputs": [
        {
          "output_type": "execute_result",
          "data": {
            "text/plain": [
              "Text(0.5, 1.0, 'Top 10 Max installations Category wise')"
            ]
          },
          "metadata": {},
          "execution_count": 51
        },
        {
          "output_type": "display_data",
          "data": {
            "text/plain": [
              "<Figure size 576x432 with 1 Axes>"
            ],
            "image/png": "[encoded data removed]"
          },
          "metadata": {}
        }
      ],
      "source": [
        "#Setting the figure dimensions\n",
        "plt.figure(figsize=(8,6))\n",
        "\n",
        "#Filtering out Free Apps\n",
        "filtered = df.loc[df['Type'] == 'Free']\n",
        "\n",
        "#Counting the amount of apps based on AdSupported value\n",
        "adSupportedApps = filtered['AdSupported'].value_counts().reset_index().rename(columns={'Category':'Count','index':'Type'})\n",
        "\n",
        "#Renaming the column values from boolean to better visualising strings\n",
        "adSupportedApps['Type'] = adSupportedApps['Type'].replace([True, False], ['Ad Supported','Not Ad Supported'])\n",
        "\n",
        "#Plotting\n",
        "labels = adSupportedApps['Type']\n",
        "plt.pie(adSupportedApps['AdSupported'], labels= labels,autopct='%.0f%%') #Plot based on percentages\n",
        "plt.title(\"Top 10 Max installations Category wise\", fontsize=14)"
      ]
    },
    {
      "cell_type": "markdown",
      "source": [
        "Obviously the first step is to filter out all free applications, of which we have to count how many free apps support ads and does not. Then we can plot the pie chart based on the dataframe outputted.\n",
        "\n",
        "Based on the pie chart we can see that a minor majority of 52% of free applications support advertisements, while the rest do not. This is understandable as to fund a application lifecycle, advertisements are a good option."
      ],
      "metadata": {
        "id": "pcgcDPZDoN0I"
      }
    },
    {
      "cell_type": "markdown",
      "source": [
        "**Bar and Line Plot** - To see the trend of Installs and Rating Count over the years."
      ],
      "metadata": {
        "id": "kLPSCt1djJ47"
      }
    },
    {
      "cell_type": "code",
      "source": [
        "#Calculate sum of RatingCount and Installs grouped by year\n",
        "filtered = df.groupby(df['Released'].dt.year)['Installs','RatingCount'].sum().reset_index()\n",
        "\n",
        "#Calculating Percentages and storing them in a new column dropping the old ones\n",
        "filtered['PercentInstalls'] = (filtered['Installs'] / filtered['Installs'].sum()) * 100\n",
        "filtered['PercentRatingCount'] = (filtered['RatingCount'] / filtered['RatingCount'].sum()) * 100\n",
        "filtered.drop(['Installs','RatingCount'], inplace=True, axis=1)\n",
        "\n",
        "#Plotting\n",
        "matplotlib.rc_file_defaults()\n",
        "ax1 = sns.set_style(style=None, rc=None )\n",
        "\n",
        "#Setting the figure dimensions\n",
        "fig, ax1 = plt.subplots(figsize=(12,6))\n",
        "\n",
        "#Plotting the Lineplot\n",
        "sns.lineplot(data = filtered['PercentRatingCount'], marker='o', sort = False, label = \"Rating Count\", ax=ax1)\n",
        "plt.legend()\n",
        "#Plotting the Barplot\n",
        "ax2 = ax1.twinx()\n",
        "sns.barplot(data = filtered,x = 'Released' , y='PercentInstalls', alpha=0.5, ax=ax2)\n"
      ],
      "metadata": {
        "colab": {
          "base_uri": "https://localhost:8080/",
          "height": 577
        },
        "id": "7eVAaKrzjGg0",
        "outputId": "e3f3ddfb-715f-47c6-d3d8-941d98340a65"
      },
      "execution_count": null,
      "outputs": [
        {
          "output_type": "stream",
          "name": "stderr",
          "text": [
            "<ipython-input-64-d9ff40abf3c5>:2: FutureWarning: Indexing with multiple keys (implicitly converted to a tuple of keys) will be deprecated, use a list instead.\n",
            "  filtered = df.groupby(df['Released'].dt.year)['Installs','RatingCount'].sum().reset_index()\n"
          ]
        },
        {
          "output_type": "execute_result",
          "data": {
            "text/plain": [
              "<matplotlib.axes._subplots.AxesSubplot at 0x7f1d51105670>"
            ]
          },
          "metadata": {},
          "execution_count": 64
        },
        {
          "output_type": "display_data",
          "data": {
            "text/plain": [
              "<Figure size 1200x600 with 2 Axes>"
            ],
            "image/png": "[encoded data removed]"
          },
          "metadata": {}
        }
      ]
    },
    {
      "cell_type": "markdown",
      "source": [
        "From the figure above, we  can see that the amount of installations and rating count was highest on the year 2010. It has declined after the year 2010, and increased significantly on the year 2017 both ratings and installations. After the year 2017, both rating count and installations has been on a steady decline.\n",
        "\n",
        "It is important to note that rating count increased on the year 2013, but installations remained the same compared to year 2012."
      ],
      "metadata": {
        "id": "v6YtDP2Up8Fp"
      }
    },
    {
      "cell_type": "markdown",
      "metadata": {
        "id": "E0U3IWm8VJJ9"
      },
      "source": [
        "## Asking and Answering Questions\n",
        "\n"
      ]
    },
    {
      "cell_type": "markdown",
      "metadata": {
        "id": "7Lor5rHMVJJ9"
      },
      "source": [
        "#### Q1: Which 5 category provide the most free apps?"
      ]
    },
    {
      "cell_type": "code",
      "execution_count": null,
      "metadata": {
        "id": "pR1HdQ4JVJJ9",
        "colab": {
          "base_uri": "https://localhost:8080/"
        },
        "outputId": "9bd49fba-768c-43ce-fab2-57244f5bde1d"
      },
      "outputs": [
        {
          "output_type": "execute_result",
          "data": {
            "text/plain": [
              "Category       Type\n",
              "Events         Paid        1\n",
              "Dating         Paid        2\n",
              "Beauty         Paid        2\n",
              "Comics         Paid        3\n",
              "Shopping       Paid        5\n",
              "                       ...  \n",
              "Business       Free    13435\n",
              "Entertainment  Free    13535\n",
              "Tools          Free    13542\n",
              "Music & Audio  Free    15257\n",
              "Education      Free    22897\n",
              "Name: Type, Length: 96, dtype: int64"
            ]
          },
          "metadata": {},
          "execution_count": 54
        }
      ],
      "source": [
        "y = df.groupby(by=\"Category\")['Type'].value_counts()\n",
        "y.sort_values()"
      ]
    },
    {
      "cell_type": "code",
      "execution_count": null,
      "metadata": {
        "id": "LKIZxnawVJJ9",
        "colab": {
          "base_uri": "https://localhost:8080/"
        },
        "outputId": "6d0ecb42-fff6-4459-e8e2-3853a35f4cb4"
      },
      "outputs": [
        {
          "output_type": "execute_result",
          "data": {
            "text/plain": [
              "Category       Type\n",
              "Business       Free    13435\n",
              "Entertainment  Free    13535\n",
              "Tools          Free    13542\n",
              "Music & Audio  Free    15257\n",
              "Education      Free    22897\n",
              "Name: Type, dtype: int64"
            ]
          },
          "metadata": {},
          "execution_count": 55
        }
      ],
      "source": [
        "y.sort_values().tail()"
      ]
    },
    {
      "cell_type": "markdown",
      "source": [
        "In general we tend to think majority of the application used is free or more frequesntly, we prefer to use the free application rather than paying for the application. Hence, which category of application in Google Playstore actually provide it for free?\n",
        "\n",
        "---\n",
        "\n",
        "\n",
        "**Answer**: Education, Music & Audio, Tools, Entertainment and Business applications are the top 5 free applications by numbers in Google Playstore.  "
      ],
      "metadata": {
        "id": "cPw6efojEzJL"
      }
    },
    {
      "cell_type": "markdown",
      "metadata": {
        "id": "c_REVnrhVJJ-"
      },
      "source": [
        "#### Q2:  Top 10 category with the highest installation of the app\n",
        "\n",
        "\n",
        "\n"
      ]
    },
    {
      "cell_type": "code",
      "execution_count": null,
      "metadata": {
        "id": "ShA3QyQpVJJ-",
        "colab": {
          "base_uri": "https://localhost:8080/",
          "height": 498
        },
        "outputId": "bf0e771b-bc80-4e93-aa1d-ba41b0c28f4b"
      },
      "outputs": [
        {
          "output_type": "execute_result",
          "data": {
            "text/plain": [
              "Text(0, 0.5, 'Number of installs')"
            ]
          },
          "metadata": {},
          "execution_count": 56
        },
        {
          "output_type": "display_data",
          "data": {
            "text/plain": [
              "<Figure size 2000x500 with 1 Axes>"
            ],
            "image/png": "[encoded data removed]"
          },
          "metadata": {}
        }
      ],
      "source": [
        "import matplotlib.pyplot as plt\n",
        "t=pd.DataFrame(df.groupby(by=df['Category'])['Installs'].sum())\n",
        "t2=t.sort_values(by='Installs', ascending=False).head(10)\n",
        "t2 = t2.rename_axis('Types of Category').reset_index()\n",
        "plt.figure(figsize=(20,5))\n",
        "sns.barplot(data=t2,x='Types of Category', y='Installs',)\n",
        "plt.ylabel('Number of installs')"
      ]
    },
    {
      "cell_type": "markdown",
      "source": [
        "Every one of us have our most favourite and least favourite application installed in our devices. Our favourite application differ from every one of us. Therefore we are curious to know which category of application are installed the most among the users. \n",
        "\n",
        "---\n",
        "\n",
        "**Answer**: The most installed category is tools followed by commmunication, productivity, Action, simulation and casual, entertainment, social, Books & Reference and finally Photography. "
      ],
      "metadata": {
        "id": "zUvvyoiqFuTV"
      }
    },
    {
      "cell_type": "markdown",
      "metadata": {
        "id": "ya3o0SurVJJ-"
      },
      "source": [
        "#### Q3: What is the average price for each category of the app?\n",
        "---\n",
        "\n"
      ]
    },
    {
      "cell_type": "code",
      "execution_count": null,
      "metadata": {
        "id": "bGV1nEzqVJJ-",
        "colab": {
          "base_uri": "https://localhost:8080/"
        },
        "outputId": "37d4d5c6-ebaf-420c-a01d-848239bde643"
      },
      "outputs": [
        {
          "output_type": "execute_result",
          "data": {
            "text/plain": [
              "Category\n",
              "Shopping                   0.001122\n",
              "Events                     0.002014\n",
              "News & Magazines           0.005291\n",
              "Dating                     0.007820\n",
              "Food & Drink               0.008018\n",
              "Art & Design               0.011467\n",
              "Beauty                     0.012772\n",
              "Social                     0.017349\n",
              "Libraries & Demo           0.019897\n",
              "Racing                     0.022186\n",
              "Trivia                     0.027817\n",
              "House & Home               0.030899\n",
              "Finance                    0.033356\n",
              "Parenting                  0.038361\n",
              "Communication              0.038483\n",
              "Music & Audio              0.038666\n",
              "Comics                     0.041138\n",
              "Casual                     0.042267\n",
              "Word                       0.043610\n",
              "Music                      0.063904\n",
              "Puzzle                     0.064758\n",
              "Action                     0.068420\n",
              "Casino                     0.069519\n",
              "Travel & Local             0.077454\n",
              "Business                   0.089111\n",
              "Entertainment              0.092346\n",
              "Lifestyle                  0.096863\n",
              "Auto & Vehicles            0.097290\n",
              "Weather                    0.099304\n",
              "Maps & Navigation          0.100037\n",
              "Health & Fitness           0.101685\n",
              "Photography                0.101929\n",
              "Simulation                 0.102417\n",
              "Arcade                     0.106079\n",
              "Personalization            0.106140\n",
              "Card                       0.111694\n",
              "Tools                      0.116638\n",
              "Productivity               0.133789\n",
              "Video Players & Editors    0.147949\n",
              "Board                      0.157349\n",
              "Adventure                  0.175659\n",
              "Education                  0.176880\n",
              "Strategy                   0.183228\n",
              "Books & Reference          0.184570\n",
              "Educational                0.207642\n",
              "Sports                     0.270020\n",
              "Role Playing               0.426025\n",
              "Medical                    0.471436\n",
              "Name: Price, dtype: float16"
            ]
          },
          "metadata": {},
          "execution_count": 57
        }
      ],
      "source": [
        "category_avg_price = df.groupby(by=\"Category\")['Price'].mean()\n",
        "category_avg_price.sort_values()"
      ]
    },
    {
      "cell_type": "markdown",
      "source": [
        "Not every application in Google Playstore are free. Therefore some application category could be charging a high price over an app. Hence, as a user, we are curious on which category of an application charge the most for an application and which application charge the least for an application. \n",
        "\n",
        "---\n",
        "\n",
        "Answer: Based on the above answer, it can be seen the highest average price for an application is for medical application."
      ],
      "metadata": {
        "id": "tcfQZMBiLgXB"
      }
    },
    {
      "cell_type": "markdown",
      "metadata": {
        "id": "p4CcVO1TVJJ-"
      },
      "source": [
        "#### Q4: Top 20 category with the higest rating"
      ]
    },
    {
      "cell_type": "code",
      "execution_count": null,
      "metadata": {
        "id": "Wa96BGX1VJJ-",
        "colab": {
          "base_uri": "https://localhost:8080/",
          "height": 458
        },
        "outputId": "956e0eea-a033-41c1-f939-666ddcfcfc32"
      },
      "outputs": [
        {
          "output_type": "execute_result",
          "data": {
            "text/plain": [
              "Text(0, 0.5, 'Ratings')"
            ]
          },
          "metadata": {},
          "execution_count": 58
        },
        {
          "output_type": "display_data",
          "data": {
            "text/plain": [
              "<Figure size 5000x1000 with 1 Axes>"
            ],
            "image/png": "[encoded data removed]"
          },
          "metadata": {}
        }
      ],
      "source": [
        "import matplotlib.pyplot as plt\n",
        "t=pd.DataFrame(df.groupby(by=df['Category'])['Rating'].sum())\n",
        "t2=t.sort_values(by='Rating', ascending=False).head(20)\n",
        "t2 = t2.rename_axis('Types of Category').reset_index()\n",
        "plt.figure(figsize=(50,10))\n",
        "sns.barplot(data=t2,x='Types of Category', y='Rating',)\n",
        "plt.ylabel('Ratings')"
      ]
    },
    {
      "cell_type": "markdown",
      "source": [
        "It is not mandatory that the most installed application to have the highest rating. However, it can be concluded that application with lots of installations and highest rating to be the user's favourite application. Therefore, which application category could have gained the highest rating among the users?\n",
        "\n",
        "---\n",
        "\n",
        "**Answer**: The highest rating application is topped by education category. "
      ],
      "metadata": {
        "id": "0aJrPYmBPL2z"
      }
    },
    {
      "cell_type": "markdown",
      "source": [
        "#### Q5: What is the Top 10 Developer by Application Installs attaching their developed Application Count"
      ],
      "metadata": {
        "id": "uShV8JPlkq4B"
      }
    },
    {
      "cell_type": "code",
      "source": [
        "#Grouping Age group and sex together with Number of death\n",
        "grouped = df.groupby(by=['DeveloperId'])[\"Installs\"].sum().sort_values(ascending=False).head(n=10).reset_index()\n",
        "listed = list(grouped.DeveloperId)\n",
        "\n",
        "#Filtering out Paid Apps\n",
        "filtered = df.loc[df['DeveloperId'].isin(listed)]\n",
        "appCount = filtered['DeveloperId'].value_counts().reset_index()\n",
        "appCount = appCount.rename(columns={'DeveloperId':'Number of Apps','index':'DeveloperId'})\n",
        "\n",
        "merged = pd.merge(grouped, appCount, on='DeveloperId')\n",
        "merged"
      ],
      "metadata": {
        "colab": {
          "base_uri": "https://localhost:8080/",
          "height": 363
        },
        "id": "BjFQ4ZC3lR2Z",
        "outputId": "c9936156-a75c-4dea-e6eb-b514ea4493d7"
      },
      "execution_count": null,
      "outputs": [
        {
          "output_type": "execute_result",
          "data": {
            "text/plain": [
              "                              DeveloperId    Installs  Number of Apps\n",
              "0                            WhatsApp LLC  5000000000               1\n",
              "1                              Google LLC  3934010001              19\n",
              "2          Samsung Electronics Co.,  Ltd.  2701575000              11\n",
              "3                           Twitter, Inc.  1000000000               1\n",
              "4                             Xiaomi Inc.   661000000               5\n",
              "5                            Miniclip.com   510100000               3\n",
              "6                 Uber Technologies, Inc.   500000000               1\n",
              "7  GARENA INTERNATIONAL I PRIVATE LIMITED   500000000               1\n",
              "8                                  imo.im   500000000               1\n",
              "9                         Outfit7 Limited   400000000               4"
            ],
            "text/html": [
              "\n",
              "  <div id=\"df-d0ff4ff0-65ac-45c6-a76b-9db2d3313361\">\n",
              "    <div class=\"colab-df-container\">\n",
              "      <div>\n",
              "<style scoped>\n",
              "    .dataframe tbody tr th:only-of-type {\n",
              "        vertical-align: middle;\n",
              "    }\n",
              "\n",
              "    .dataframe tbody tr th {\n",
              "        vertical-align: top;\n",
              "    }\n",
              "\n",
              "    .dataframe thead th {\n",
              "        text-align: right;\n",
              "    }\n",
              "</style>\n",
              "<table border=\"1\" class=\"dataframe\">\n",
              "  <thead>\n",
              "    <tr style=\"text-align: right;\">\n",
              "      <th></th>\n",
              "      <th>DeveloperId</th>\n",
              "      <th>Installs</th>\n",
              "      <th>Number of Apps</th>\n",
              "    </tr>\n",
              "  </thead>\n",
              "  <tbody>\n",
              "    <tr>\n",
              "      <th>0</th>\n",
              "      <td>WhatsApp LLC</td>\n",
              "      <td>5000000000</td>\n",
              "      <td>1</td>\n",
              "    </tr>\n",
              "    <tr>\n",
              "      <th>1</th>\n",
              "      <td>Google LLC</td>\n",
              "      <td>3934010001</td>\n",
              "      <td>19</td>\n",
              "    </tr>\n",
              "    <tr>\n",
              "      <th>2</th>\n",
              "      <td>Samsung Electronics Co.,  Ltd.</td>\n",
              "      <td>2701575000</td>\n",
              "      <td>11</td>\n",
              "    </tr>\n",
              "    <tr>\n",
              "      <th>3</th>\n",
              "      <td>Twitter, Inc.</td>\n",
              "      <td>1000000000</td>\n",
              "      <td>1</td>\n",
              "    </tr>\n",
              "    <tr>\n",
              "      <th>4</th>\n",
              "      <td>Xiaomi Inc.</td>\n",
              "      <td>661000000</td>\n",
              "      <td>5</td>\n",
              "    </tr>\n",
              "    <tr>\n",
              "      <th>5</th>\n",
              "      <td>Miniclip.com</td>\n",
              "      <td>510100000</td>\n",
              "      <td>3</td>\n",
              "    </tr>\n",
              "    <tr>\n",
              "      <th>6</th>\n",
              "      <td>Uber Technologies, Inc.</td>\n",
              "      <td>500000000</td>\n",
              "      <td>1</td>\n",
              "    </tr>\n",
              "    <tr>\n",
              "      <th>7</th>\n",
              "      <td>GARENA INTERNATIONAL I PRIVATE LIMITED</td>\n",
              "      <td>500000000</td>\n",
              "      <td>1</td>\n",
              "    </tr>\n",
              "    <tr>\n",
              "      <th>8</th>\n",
              "      <td>imo.im</td>\n",
              "      <td>500000000</td>\n",
              "      <td>1</td>\n",
              "    </tr>\n",
              "    <tr>\n",
              "      <th>9</th>\n",
              "      <td>Outfit7 Limited</td>\n",
              "      <td>400000000</td>\n",
              "      <td>4</td>\n",
              "    </tr>\n",
              "  </tbody>\n",
              "</table>\n",
              "</div>\n",
              "      <button class=\"colab-df-convert\" onclick=\"convertToInteractive('df-d0ff4ff0-65ac-45c6-a76b-9db2d3313361')\"\n",
              "              title=\"Convert this dataframe to an interactive table.\"\n",
              "              style=\"display:none;\">\n",
              "        \n",
              "  <svg xmlns=\"http://www.w3.org/2000/svg\" height=\"24px\"viewBox=\"0 0 24 24\"\n",
              "       width=\"24px\">\n",
              "    <path d=\"M0 0h24v24H0V0z\" fill=\"none\"/>\n",
              "    <path d=\"M18.56 5.44l.94 2.06.94-2.06 2.06-.94-2.06-.94-.94-2.06-.94 2.06-2.06.94zm-11 1L8.5 8.5l.94-2.06 2.06-.94-2.06-.94L8.5 2.5l-.94 2.06-2.06.94zm10 10l.94 2.06.94-2.06 2.06-.94-2.06-.94-.94-2.06-.94 2.06-2.06.94z\"/><path d=\"M17.41 7.96l-1.37-1.37c-.4-.4-.92-.59-1.43-.59-.52 0-1.04.2-1.43.59L10.3 9.45l-7.72 7.72c-.78.78-.78 2.05 0 2.83L4 21.41c.39.39.9.59 1.41.59.51 0 1.02-.2 1.41-.59l7.78-7.78 2.81-2.81c.8-.78.8-2.07 0-2.86zM5.41 20L4 18.59l7.72-7.72 1.47 1.35L5.41 20z\"/>\n",
              "  </svg>\n",
              "      </button>\n",
              "      \n",
              "  <style>\n",
              "    .colab-df-container {\n",
              "      display:flex;\n",
              "      flex-wrap:wrap;\n",
              "      gap: 12px;\n",
              "    }\n",
              "\n",
              "    .colab-df-convert {\n",
              "      background-color: #E8F0FE;\n",
              "      border: none;\n",
              "      border-radius: 50%;\n",
              "      cursor: pointer;\n",
              "      display: none;\n",
              "      fill: #1967D2;\n",
              "      height: 32px;\n",
              "      padding: 0 0 0 0;\n",
              "      width: 32px;\n",
              "    }\n",
              "\n",
              "    .colab-df-convert:hover {\n",
              "      background-color: #E2EBFA;\n",
              "      box-shadow: 0px 1px 2px rgba(60, 64, 67, 0.3), 0px 1px 3px 1px rgba(60, 64, 67, 0.15);\n",
              "      fill: #174EA6;\n",
              "    }\n",
              "\n",
              "    [theme=dark] .colab-df-convert {\n",
              "      background-color: #3B4455;\n",
              "      fill: #D2E3FC;\n",
              "    }\n",
              "\n",
              "    [theme=dark] .colab-df-convert:hover {\n",
              "      background-color: #434B5C;\n",
              "      box-shadow: 0px 1px 3px 1px rgba(0, 0, 0, 0.15);\n",
              "      filter: drop-shadow(0px 1px 2px rgba(0, 0, 0, 0.3));\n",
              "      fill: #FFFFFF;\n",
              "    }\n",
              "  </style>\n",
              "\n",
              "      <script>\n",
              "        const buttonEl =\n",
              "          document.querySelector('#df-d0ff4ff0-65ac-45c6-a76b-9db2d3313361 button.colab-df-convert');\n",
              "        buttonEl.style.display =\n",
              "          google.colab.kernel.accessAllowed ? 'block' : 'none';\n",
              "\n",
              "        async function convertToInteractive(key) {\n",
              "          const element = document.querySelector('#df-d0ff4ff0-65ac-45c6-a76b-9db2d3313361');\n",
              "          const dataTable =\n",
              "            await google.colab.kernel.invokeFunction('convertToInteractive',\n",
              "                                                     [key], {});\n",
              "          if (!dataTable) return;\n",
              "\n",
              "          const docLinkHtml = 'Like what you see? Visit the ' +\n",
              "            '<a target=\"_blank\" href=https://colab.research.google.com/notebooks/data_table.ipynb>data table notebook</a>'\n",
              "            + ' to learn more about interactive tables.';\n",
              "          element.innerHTML = '';\n",
              "          dataTable['output_type'] = 'display_data';\n",
              "          await google.colab.output.renderOutput(dataTable, element);\n",
              "          const docLink = document.createElement('div');\n",
              "          docLink.innerHTML = docLinkHtml;\n",
              "          element.appendChild(docLink);\n",
              "        }\n",
              "      </script>\n",
              "    </div>\n",
              "  </div>\n",
              "  "
            ]
          },
          "metadata": {},
          "execution_count": 60
        }
      ]
    },
    {
      "cell_type": "markdown",
      "source": [
        "From above, we can conclude that Whatsapp LLC has the highest number of application installs with just one application in their belt. "
      ],
      "metadata": {
        "id": "cQGJt0-XR1OR"
      }
    },
    {
      "cell_type": "markdown",
      "metadata": {
        "id": "VxoO755tVJJ_"
      },
      "source": [
        "## Inferences and Conclusion\n"
      ]
    },
    {
      "cell_type": "markdown",
      "source": [
        "In conclusion, studying a dataset in Python entails investigating its properties and organisation, locating any blank or partial values, and looking for links and trends. To gather insights and form judgements about the data, this can entail utilising a variety of methods and tools, including value counts, aggregation, visualisation, and statistical analysis.\n",
        "\n",
        "\n",
        "The top 10 most installed app based on maximum installs of each app are Google Play Services, ANT+Plugins Services, Truecaller, Themes, HiCare, Your Phone Companion, My Talking Tom 2, Pokemon Go Extreme, Car Driving Simulator and App Vault. \n",
        "\n",
        "Next, the rating for paid applications was high when the prices are low mean while he rating for paid application was low meanwhile the rating for paid application was low when the prices are high.\n",
        "\n",
        "Next, the total categories and count of application in each category has the highest category in education followed by music and audio followed by tools followed by business and entertainment. Then total category and count of applications in each category has the lowest in comics category.\n",
        "\n",
        "Finally, rating of app with 0 has the highest frequency meanwhile rating of app with 1 has the lowest frequency.\n",
        "\n",
        "\n",
        "\n",
        "\n"
      ],
      "metadata": {
        "id": "lnha30MGtZjJ"
      }
    },
    {
      "cell_type": "markdown",
      "metadata": {
        "id": "xfuc6sJgVJKA"
      },
      "source": [
        "### References and Future Work\n",
        "\n",
        "* Guillaume Martin's [following code](https://www.kaggle.com/code/gemartin/load-data-reduce-memory-usage/notebook) to lower Pandas' memory usage.\n"
      ]
    }
  ],
  "metadata": {
    "kernelspec": {
      "display_name": "Python 3",
      "language": "python",
      "name": "python3"
    },
    "language_info": {
      "codemirror_mode": {
        "name": "ipython",
        "version": 3
      },
      "file_extension": ".py",
      "mimetype": "text/x-python",
      "name": "python",
      "nbconvert_exporter": "python",
      "pygments_lexer": "ipython3",
      "version": "3.8.5"
    },
    "colab": {
      "provenance": [],
      "include_colab_link": true
    }
  },
  "nbformat": 4,
  "nbformat_minor": 0
}
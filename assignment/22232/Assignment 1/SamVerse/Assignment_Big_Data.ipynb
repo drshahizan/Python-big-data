{
  "cells": [
    {
      "cell_type": "markdown",
      "metadata": {
        "id": "view-in-github",
        "colab_type": "text"
      },
      "source": [
        "<a href=\"https://colab.research.google.com/github/drshahizan/Python-big-data/blob/main/Assignment%201%20Pandas/team%2017/Assignment_Big_Data.ipynb\" target=\"_parent\"><img src=\"https://colab.research.google.com/assets/colab-badge.svg\" alt=\"Open In Colab\"/></a>"
      ]
    },
    {
      "cell_type": "markdown",
      "metadata": {
        "id": "7F8DQl5dVJJ0"
      },
      "source": [
        "# Google Playstore Management\n",
        "\n",
        "The are tremendous batches of games throughout the internet. Anyone with a stable internet connection can download those games and enjoy the most recent collection of games in Google Playstore. We notice there are a record number of games from Google Playstore are free-to-play (FTP), while a selected few of them have prices on them. \n",
        "\n",
        "Therefore, for this assignment, we would like to apply the method of High Performance Data Processing (HPDP) to discover the meaning and the correlation between a free or paid games and the ratings given players."
      ]
    },
    {
      "cell_type": "markdown",
      "metadata": {
        "id": "LxWzVndBVJJ1"
      },
      "source": [
        "## Downloading the Dataset\n"
      ]
    },
    {
      "cell_type": "markdown",
      "metadata": {
        "id": "GhhO14GEVJJ2"
      },
      "source": [
        "Let's begin by downloading the data, and listing the files within the dataset. First, download the applicable libraries such as Pandas and NumPy. Since our data will be imported from Google Drive, mount the drive to access it."
      ]
    },
    {
      "cell_type": "code",
      "execution_count": null,
      "metadata": {
        "colab": {
          "base_uri": "https://localhost:8080/"
        },
        "id": "90nIoWQtVJJ3",
        "outputId": "23ab0226-1685-4ddd-cce3-063a439146bf"
      },
      "outputs": [
        {
          "output_type": "stream",
          "name": "stdout",
          "text": [
            "Drive already mounted at /content/drive; to attempt to forcibly remount, call drive.mount(\"/content/drive\", force_remount=True).\n"
          ]
        }
      ],
      "source": [
        "import numpy as np\n",
        "import pandas as pd\n",
        "\n",
        "from google.colab import drive\n",
        "drive.mount(\"/content/drive\")"
      ]
    },
    {
      "cell_type": "markdown",
      "metadata": {
        "id": "24vL-1J84XVr"
      },
      "source": [
        "Extract the csv file from Google Drive. The file name is \"Playstore.csv\""
      ]
    },
    {
      "cell_type": "code",
      "execution_count": null,
      "metadata": {
        "id": "oAVmLuq2VJJ3"
      },
      "outputs": [],
      "source": [
        "# Google Playstore\n",
        "file_google = \"/content/drive/MyDrive/Colab Notebooks/Playstore.csv\"\n",
        "df = pd.read_csv(file_google)"
      ]
    },
    {
      "cell_type": "markdown",
      "metadata": {
        "id": "XXnPmr-JVJJ3"
      },
      "source": [
        "The dataset has been downloaded and extracted."
      ]
    },
    {
      "cell_type": "markdown",
      "metadata": {
        "id": "u0vucnGFVJJ5"
      },
      "source": [
        "## Data Preparation and Cleaning\n",
        "\n",
        "\n",
        "\n",
        "\n"
      ]
    },
    {
      "cell_type": "markdown",
      "metadata": {
        "id": "kvAcOmmY8ciI"
      },
      "source": [
        "Load the dataset into a dataframe using Pandas."
      ]
    },
    {
      "cell_type": "code",
      "execution_count": null,
      "metadata": {
        "colab": {
          "base_uri": "https://localhost:8080/",
          "height": 542
        },
        "id": "df5R-2s3VJJ5",
        "outputId": "e3d4a73b-a875-467c-e0a1-8a0e69b1a67c"
      },
      "outputs": [
        {
          "output_type": "execute_result",
          "data": {
            "text/plain": [
              "                                            App Name  \\\n",
              "0                                            Gakondo   \n",
              "1                                Ampere Battery Info   \n",
              "2                                             Vibook   \n",
              "3  Smart City Trichy Public Service Vehicles 17UC...   \n",
              "4                                            GROW.me   \n",
              "\n",
              "                       App Id       Category  Rating  Rating Count Installs  \\\n",
              "0         com.ishakwe.gakondo      Adventure     0.0           0.0      10+   \n",
              "1  com.webserveis.batteryinfo          Tools     4.4          64.0   5,000+   \n",
              "2        com.doantiepvien.crm   Productivity     0.0           0.0      50+   \n",
              "3     cst.stJoseph.ug17ucs548  Communication     5.0           5.0      10+   \n",
              "4        com.horodyski.grower          Tools     0.0           0.0     100+   \n",
              "\n",
              "   Minimum Installs  Maximum Installs  Free  Price  ...  \\\n",
              "0              10.0                15  True    0.0  ...   \n",
              "1            5000.0              7662  True    0.0  ...   \n",
              "2              50.0                58  True    0.0  ...   \n",
              "3              10.0                19  True    0.0  ...   \n",
              "4             100.0               478  True    0.0  ...   \n",
              "\n",
              "                  Developer Website              Developer Email  \\\n",
              "0       https://beniyizibyose.tk/#/       jean21101999@gmail.com   \n",
              "1   https://webserveis.netlify.app/         webserveis@gmail.com   \n",
              "2                               NaN          vnacrewit@gmail.com   \n",
              "3  http://www.climatesmarttech.com/  climatesmarttech2@gmail.com   \n",
              "4       http://www.horodyski.com.pl    rmilekhorodyski@gmail.com   \n",
              "\n",
              "       Released  Last Updated Content Rating  \\\n",
              "0  Feb 26, 2020  Feb 26, 2020       Everyone   \n",
              "1  May 21, 2020  May 06, 2021       Everyone   \n",
              "2   Aug 9, 2019  Aug 19, 2019       Everyone   \n",
              "3  Sep 10, 2018  Oct 13, 2018       Everyone   \n",
              "4  Feb 21, 2020  Nov 12, 2018       Everyone   \n",
              "\n",
              "                                      Privacy Policy Ad Supported  \\\n",
              "0                 https://beniyizibyose.tk/projects/        False   \n",
              "1  https://dev4phones.wordpress.com/licencia-de-uso/         True   \n",
              "2  https://www.vietnamairlines.com/vn/en/terms-an...        False   \n",
              "3                                                NaN         True   \n",
              "4                        http://www.horodyski.com.pl        False   \n",
              "\n",
              "  In App Purchases Editors Choice         Scraped Time  \n",
              "0            False          False  2021-06-15 20:19:35  \n",
              "1            False          False  2021-06-15 20:19:35  \n",
              "2            False          False  2021-06-15 20:19:35  \n",
              "3            False          False  2021-06-15 20:19:35  \n",
              "4            False          False  2021-06-15 20:19:35  \n",
              "\n",
              "[5 rows x 24 columns]"
            ],
            "text/html": [
              "\n",
              "  <div id=\"df-57d9eae2-7340-4c0e-889d-205f21cdb3ec\">\n",
              "    <div class=\"colab-df-container\">\n",
              "      <div>\n",
              "<style scoped>\n",
              "    .dataframe tbody tr th:only-of-type {\n",
              "        vertical-align: middle;\n",
              "    }\n",
              "\n",
              "    .dataframe tbody tr th {\n",
              "        vertical-align: top;\n",
              "    }\n",
              "\n",
              "    .dataframe thead th {\n",
              "        text-align: right;\n",
              "    }\n",
              "</style>\n",
              "<table border=\"1\" class=\"dataframe\">\n",
              "  <thead>\n",
              "    <tr style=\"text-align: right;\">\n",
              "      <th></th>\n",
              "      <th>App Name</th>\n",
              "      <th>App Id</th>\n",
              "      <th>Category</th>\n",
              "      <th>Rating</th>\n",
              "      <th>Rating Count</th>\n",
              "      <th>Installs</th>\n",
              "      <th>Minimum Installs</th>\n",
              "      <th>Maximum Installs</th>\n",
              "      <th>Free</th>\n",
              "      <th>Price</th>\n",
              "      <th>...</th>\n",
              "      <th>Developer Website</th>\n",
              "      <th>Developer Email</th>\n",
              "      <th>Released</th>\n",
              "      <th>Last Updated</th>\n",
              "      <th>Content Rating</th>\n",
              "      <th>Privacy Policy</th>\n",
              "      <th>Ad Supported</th>\n",
              "      <th>In App Purchases</th>\n",
              "      <th>Editors Choice</th>\n",
              "      <th>Scraped Time</th>\n",
              "    </tr>\n",
              "  </thead>\n",
              "  <tbody>\n",
              "    <tr>\n",
              "      <th>0</th>\n",
              "      <td>Gakondo</td>\n",
              "      <td>com.ishakwe.gakondo</td>\n",
              "      <td>Adventure</td>\n",
              "      <td>0.0</td>\n",
              "      <td>0.0</td>\n",
              "      <td>10+</td>\n",
              "      <td>10.0</td>\n",
              "      <td>15</td>\n",
              "      <td>True</td>\n",
              "      <td>0.0</td>\n",
              "      <td>...</td>\n",
              "      <td>https://beniyizibyose.tk/#/</td>\n",
              "      <td>jean21101999@gmail.com</td>\n",
              "      <td>Feb 26, 2020</td>\n",
              "      <td>Feb 26, 2020</td>\n",
              "      <td>Everyone</td>\n",
              "      <td>https://beniyizibyose.tk/projects/</td>\n",
              "      <td>False</td>\n",
              "      <td>False</td>\n",
              "      <td>False</td>\n",
              "      <td>2021-06-15 20:19:35</td>\n",
              "    </tr>\n",
              "    <tr>\n",
              "      <th>1</th>\n",
              "      <td>Ampere Battery Info</td>\n",
              "      <td>com.webserveis.batteryinfo</td>\n",
              "      <td>Tools</td>\n",
              "      <td>4.4</td>\n",
              "      <td>64.0</td>\n",
              "      <td>5,000+</td>\n",
              "      <td>5000.0</td>\n",
              "      <td>7662</td>\n",
              "      <td>True</td>\n",
              "      <td>0.0</td>\n",
              "      <td>...</td>\n",
              "      <td>https://webserveis.netlify.app/</td>\n",
              "      <td>webserveis@gmail.com</td>\n",
              "      <td>May 21, 2020</td>\n",
              "      <td>May 06, 2021</td>\n",
              "      <td>Everyone</td>\n",
              "      <td>https://dev4phones.wordpress.com/licencia-de-uso/</td>\n",
              "      <td>True</td>\n",
              "      <td>False</td>\n",
              "      <td>False</td>\n",
              "      <td>2021-06-15 20:19:35</td>\n",
              "    </tr>\n",
              "    <tr>\n",
              "      <th>2</th>\n",
              "      <td>Vibook</td>\n",
              "      <td>com.doantiepvien.crm</td>\n",
              "      <td>Productivity</td>\n",
              "      <td>0.0</td>\n",
              "      <td>0.0</td>\n",
              "      <td>50+</td>\n",
              "      <td>50.0</td>\n",
              "      <td>58</td>\n",
              "      <td>True</td>\n",
              "      <td>0.0</td>\n",
              "      <td>...</td>\n",
              "      <td>NaN</td>\n",
              "      <td>vnacrewit@gmail.com</td>\n",
              "      <td>Aug 9, 2019</td>\n",
              "      <td>Aug 19, 2019</td>\n",
              "      <td>Everyone</td>\n",
              "      <td>https://www.vietnamairlines.com/vn/en/terms-an...</td>\n",
              "      <td>False</td>\n",
              "      <td>False</td>\n",
              "      <td>False</td>\n",
              "      <td>2021-06-15 20:19:35</td>\n",
              "    </tr>\n",
              "    <tr>\n",
              "      <th>3</th>\n",
              "      <td>Smart City Trichy Public Service Vehicles 17UC...</td>\n",
              "      <td>cst.stJoseph.ug17ucs548</td>\n",
              "      <td>Communication</td>\n",
              "      <td>5.0</td>\n",
              "      <td>5.0</td>\n",
              "      <td>10+</td>\n",
              "      <td>10.0</td>\n",
              "      <td>19</td>\n",
              "      <td>True</td>\n",
              "      <td>0.0</td>\n",
              "      <td>...</td>\n",
              "      <td>http://www.climatesmarttech.com/</td>\n",
              "      <td>climatesmarttech2@gmail.com</td>\n",
              "      <td>Sep 10, 2018</td>\n",
              "      <td>Oct 13, 2018</td>\n",
              "      <td>Everyone</td>\n",
              "      <td>NaN</td>\n",
              "      <td>True</td>\n",
              "      <td>False</td>\n",
              "      <td>False</td>\n",
              "      <td>2021-06-15 20:19:35</td>\n",
              "    </tr>\n",
              "    <tr>\n",
              "      <th>4</th>\n",
              "      <td>GROW.me</td>\n",
              "      <td>com.horodyski.grower</td>\n",
              "      <td>Tools</td>\n",
              "      <td>0.0</td>\n",
              "      <td>0.0</td>\n",
              "      <td>100+</td>\n",
              "      <td>100.0</td>\n",
              "      <td>478</td>\n",
              "      <td>True</td>\n",
              "      <td>0.0</td>\n",
              "      <td>...</td>\n",
              "      <td>http://www.horodyski.com.pl</td>\n",
              "      <td>rmilekhorodyski@gmail.com</td>\n",
              "      <td>Feb 21, 2020</td>\n",
              "      <td>Nov 12, 2018</td>\n",
              "      <td>Everyone</td>\n",
              "      <td>http://www.horodyski.com.pl</td>\n",
              "      <td>False</td>\n",
              "      <td>False</td>\n",
              "      <td>False</td>\n",
              "      <td>2021-06-15 20:19:35</td>\n",
              "    </tr>\n",
              "  </tbody>\n",
              "</table>\n",
              "<p>5 rows × 24 columns</p>\n",
              "</div>\n",
              "      <button class=\"colab-df-convert\" onclick=\"convertToInteractive('df-57d9eae2-7340-4c0e-889d-205f21cdb3ec')\"\n",
              "              title=\"Convert this dataframe to an interactive table.\"\n",
              "              style=\"display:none;\">\n",
              "        \n",
              "  <svg xmlns=\"http://www.w3.org/2000/svg\" height=\"24px\"viewBox=\"0 0 24 24\"\n",
              "       width=\"24px\">\n",
              "    <path d=\"M0 0h24v24H0V0z\" fill=\"none\"/>\n",
              "    <path d=\"M18.56 5.44l.94 2.06.94-2.06 2.06-.94-2.06-.94-.94-2.06-.94 2.06-2.06.94zm-11 1L8.5 8.5l.94-2.06 2.06-.94-2.06-.94L8.5 2.5l-.94 2.06-2.06.94zm10 10l.94 2.06.94-2.06 2.06-.94-2.06-.94-.94-2.06-.94 2.06-2.06.94z\"/><path d=\"M17.41 7.96l-1.37-1.37c-.4-.4-.92-.59-1.43-.59-.52 0-1.04.2-1.43.59L10.3 9.45l-7.72 7.72c-.78.78-.78 2.05 0 2.83L4 21.41c.39.39.9.59 1.41.59.51 0 1.02-.2 1.41-.59l7.78-7.78 2.81-2.81c.8-.78.8-2.07 0-2.86zM5.41 20L4 18.59l7.72-7.72 1.47 1.35L5.41 20z\"/>\n",
              "  </svg>\n",
              "      </button>\n",
              "      \n",
              "  <style>\n",
              "    .colab-df-container {\n",
              "      display:flex;\n",
              "      flex-wrap:wrap;\n",
              "      gap: 12px;\n",
              "    }\n",
              "\n",
              "    .colab-df-convert {\n",
              "      background-color: #E8F0FE;\n",
              "      border: none;\n",
              "      border-radius: 50%;\n",
              "      cursor: pointer;\n",
              "      display: none;\n",
              "      fill: #1967D2;\n",
              "      height: 32px;\n",
              "      padding: 0 0 0 0;\n",
              "      width: 32px;\n",
              "    }\n",
              "\n",
              "    .colab-df-convert:hover {\n",
              "      background-color: #E2EBFA;\n",
              "      box-shadow: 0px 1px 2px rgba(60, 64, 67, 0.3), 0px 1px 3px 1px rgba(60, 64, 67, 0.15);\n",
              "      fill: #174EA6;\n",
              "    }\n",
              "\n",
              "    [theme=dark] .colab-df-convert {\n",
              "      background-color: #3B4455;\n",
              "      fill: #D2E3FC;\n",
              "    }\n",
              "\n",
              "    [theme=dark] .colab-df-convert:hover {\n",
              "      background-color: #434B5C;\n",
              "      box-shadow: 0px 1px 3px 1px rgba(0, 0, 0, 0.15);\n",
              "      filter: drop-shadow(0px 1px 2px rgba(0, 0, 0, 0.3));\n",
              "      fill: #FFFFFF;\n",
              "    }\n",
              "  </style>\n",
              "\n",
              "      <script>\n",
              "        const buttonEl =\n",
              "          document.querySelector('#df-57d9eae2-7340-4c0e-889d-205f21cdb3ec button.colab-df-convert');\n",
              "        buttonEl.style.display =\n",
              "          google.colab.kernel.accessAllowed ? 'block' : 'none';\n",
              "\n",
              "        async function convertToInteractive(key) {\n",
              "          const element = document.querySelector('#df-57d9eae2-7340-4c0e-889d-205f21cdb3ec');\n",
              "          const dataTable =\n",
              "            await google.colab.kernel.invokeFunction('convertToInteractive',\n",
              "                                                     [key], {});\n",
              "          if (!dataTable) return;\n",
              "\n",
              "          const docLinkHtml = 'Like what you see? Visit the ' +\n",
              "            '<a target=\"_blank\" href=https://colab.research.google.com/notebooks/data_table.ipynb>data table notebook</a>'\n",
              "            + ' to learn more about interactive tables.';\n",
              "          element.innerHTML = '';\n",
              "          dataTable['output_type'] = 'display_data';\n",
              "          await google.colab.output.renderOutput(dataTable, element);\n",
              "          const docLink = document.createElement('div');\n",
              "          docLink.innerHTML = docLinkHtml;\n",
              "          element.appendChild(docLink);\n",
              "        }\n",
              "      </script>\n",
              "    </div>\n",
              "  </div>\n",
              "  "
            ]
          },
          "metadata": {},
          "execution_count": 43
        }
      ],
      "source": [
        "df.head()"
      ]
    },
    {
      "cell_type": "markdown",
      "metadata": {
        "id": "dbHFHAfa9uUN"
      },
      "source": [
        "We want to know how many rows of data in the dataset."
      ]
    },
    {
      "cell_type": "code",
      "execution_count": null,
      "metadata": {
        "colab": {
          "base_uri": "https://localhost:8080/"
        },
        "id": "8mQ5vnjr85z6",
        "outputId": "f179bb5b-a2c7-4576-8525-30a31c38a0df"
      },
      "outputs": [
        {
          "output_type": "stream",
          "name": "stdout",
          "text": [
            "There are a total of 2312944 number of records\n"
          ]
        }
      ],
      "source": [
        "print(\"There are a total of\",df.index.size,\"number of records\")"
      ]
    },
    {
      "cell_type": "markdown",
      "metadata": {
        "id": "JaNHr2Z7-Ytd"
      },
      "source": [
        "We want to know the number of columns of the dataset using the shape function."
      ]
    },
    {
      "cell_type": "code",
      "execution_count": null,
      "metadata": {
        "colab": {
          "base_uri": "https://localhost:8080/"
        },
        "id": "t26lvNVLVJJ5",
        "outputId": "e221ca81-7afb-49f5-b2f8-3786debeaa31"
      },
      "outputs": [
        {
          "output_type": "stream",
          "name": "stdout",
          "text": [
            "There are a total of 24 number of columns\n"
          ]
        }
      ],
      "source": [
        "print(\"There are a total of\",df.shape[1],\"number of columns\")"
      ]
    },
    {
      "cell_type": "markdown",
      "metadata": {
        "id": "XwxCMcEN_1bO"
      },
      "source": [
        "Now, we want to know the names of the columns in the datset so we can choose which column to eliminate them later."
      ]
    },
    {
      "cell_type": "code",
      "execution_count": null,
      "metadata": {
        "colab": {
          "base_uri": "https://localhost:8080/"
        },
        "id": "oIRDOHvGABdz",
        "outputId": "8751c208-11a7-4cf0-e148-697e9e4f61cf"
      },
      "outputs": [
        {
          "output_type": "execute_result",
          "data": {
            "text/plain": [
              "Index(['App Name', 'App Id', 'Category', 'Rating', 'Rating Count', 'Installs',\n",
              "       'Minimum Installs', 'Maximum Installs', 'Free', 'Price', 'Currency',\n",
              "       'Size', 'Minimum Android', 'Developer Id', 'Developer Website',\n",
              "       'Developer Email', 'Released', 'Last Updated', 'Content Rating',\n",
              "       'Privacy Policy', 'Ad Supported', 'In App Purchases', 'Editors Choice',\n",
              "       'Scraped Time'],\n",
              "      dtype='object')"
            ]
          },
          "metadata": {},
          "execution_count": 46
        }
      ],
      "source": [
        "df.columns"
      ]
    },
    {
      "cell_type": "markdown",
      "metadata": {
        "id": "-HQIexgCAXAh"
      },
      "source": [
        "Next, we need to drop the unneccesary column from the dataset which we will not entertain for the rest of the activity to reduce the size of dataset."
      ]
    },
    {
      "cell_type": "code",
      "execution_count": null,
      "metadata": {
        "colab": {
          "base_uri": "https://localhost:8080/",
          "height": 354
        },
        "id": "KribcC_XVJJ5",
        "outputId": "c863353a-969d-4ea2-e876-126591eeea1d"
      },
      "outputs": [
        {
          "output_type": "execute_result",
          "data": {
            "text/plain": [
              "                                            App Name       Category  Rating  \\\n",
              "0                                            Gakondo      Adventure     0.0   \n",
              "1                                Ampere Battery Info          Tools     4.4   \n",
              "2                                             Vibook   Productivity     0.0   \n",
              "3  Smart City Trichy Public Service Vehicles 17UC...  Communication     5.0   \n",
              "4                                            GROW.me          Tools     0.0   \n",
              "\n",
              "   Rating Count Installs  Minimum Installs  Maximum Installs  Free  Price  \\\n",
              "0           0.0      10+              10.0                15  True    0.0   \n",
              "1          64.0   5,000+            5000.0              7662  True    0.0   \n",
              "2           0.0      50+              50.0                58  True    0.0   \n",
              "3           5.0      10+              10.0                19  True    0.0   \n",
              "4           0.0     100+             100.0               478  True    0.0   \n",
              "\n",
              "   Size      Released  Last Updated Content Rating  Ad Supported  \\\n",
              "0   10M  Feb 26, 2020  Feb 26, 2020       Everyone         False   \n",
              "1  2.9M  May 21, 2020  May 06, 2021       Everyone          True   \n",
              "2  3.7M   Aug 9, 2019  Aug 19, 2019       Everyone         False   \n",
              "3  1.8M  Sep 10, 2018  Oct 13, 2018       Everyone          True   \n",
              "4  6.2M  Feb 21, 2020  Nov 12, 2018       Everyone         False   \n",
              "\n",
              "   In App Purchases  Editors Choice  \n",
              "0             False           False  \n",
              "1             False           False  \n",
              "2             False           False  \n",
              "3             False           False  \n",
              "4             False           False  "
            ],
            "text/html": [
              "\n",
              "  <div id=\"df-3dd93a2c-374a-4822-9ed3-3782ca42534d\">\n",
              "    <div class=\"colab-df-container\">\n",
              "      <div>\n",
              "<style scoped>\n",
              "    .dataframe tbody tr th:only-of-type {\n",
              "        vertical-align: middle;\n",
              "    }\n",
              "\n",
              "    .dataframe tbody tr th {\n",
              "        vertical-align: top;\n",
              "    }\n",
              "\n",
              "    .dataframe thead th {\n",
              "        text-align: right;\n",
              "    }\n",
              "</style>\n",
              "<table border=\"1\" class=\"dataframe\">\n",
              "  <thead>\n",
              "    <tr style=\"text-align: right;\">\n",
              "      <th></th>\n",
              "      <th>App Name</th>\n",
              "      <th>Category</th>\n",
              "      <th>Rating</th>\n",
              "      <th>Rating Count</th>\n",
              "      <th>Installs</th>\n",
              "      <th>Minimum Installs</th>\n",
              "      <th>Maximum Installs</th>\n",
              "      <th>Free</th>\n",
              "      <th>Price</th>\n",
              "      <th>Size</th>\n",
              "      <th>Released</th>\n",
              "      <th>Last Updated</th>\n",
              "      <th>Content Rating</th>\n",
              "      <th>Ad Supported</th>\n",
              "      <th>In App Purchases</th>\n",
              "      <th>Editors Choice</th>\n",
              "    </tr>\n",
              "  </thead>\n",
              "  <tbody>\n",
              "    <tr>\n",
              "      <th>0</th>\n",
              "      <td>Gakondo</td>\n",
              "      <td>Adventure</td>\n",
              "      <td>0.0</td>\n",
              "      <td>0.0</td>\n",
              "      <td>10+</td>\n",
              "      <td>10.0</td>\n",
              "      <td>15</td>\n",
              "      <td>True</td>\n",
              "      <td>0.0</td>\n",
              "      <td>10M</td>\n",
              "      <td>Feb 26, 2020</td>\n",
              "      <td>Feb 26, 2020</td>\n",
              "      <td>Everyone</td>\n",
              "      <td>False</td>\n",
              "      <td>False</td>\n",
              "      <td>False</td>\n",
              "    </tr>\n",
              "    <tr>\n",
              "      <th>1</th>\n",
              "      <td>Ampere Battery Info</td>\n",
              "      <td>Tools</td>\n",
              "      <td>4.4</td>\n",
              "      <td>64.0</td>\n",
              "      <td>5,000+</td>\n",
              "      <td>5000.0</td>\n",
              "      <td>7662</td>\n",
              "      <td>True</td>\n",
              "      <td>0.0</td>\n",
              "      <td>2.9M</td>\n",
              "      <td>May 21, 2020</td>\n",
              "      <td>May 06, 2021</td>\n",
              "      <td>Everyone</td>\n",
              "      <td>True</td>\n",
              "      <td>False</td>\n",
              "      <td>False</td>\n",
              "    </tr>\n",
              "    <tr>\n",
              "      <th>2</th>\n",
              "      <td>Vibook</td>\n",
              "      <td>Productivity</td>\n",
              "      <td>0.0</td>\n",
              "      <td>0.0</td>\n",
              "      <td>50+</td>\n",
              "      <td>50.0</td>\n",
              "      <td>58</td>\n",
              "      <td>True</td>\n",
              "      <td>0.0</td>\n",
              "      <td>3.7M</td>\n",
              "      <td>Aug 9, 2019</td>\n",
              "      <td>Aug 19, 2019</td>\n",
              "      <td>Everyone</td>\n",
              "      <td>False</td>\n",
              "      <td>False</td>\n",
              "      <td>False</td>\n",
              "    </tr>\n",
              "    <tr>\n",
              "      <th>3</th>\n",
              "      <td>Smart City Trichy Public Service Vehicles 17UC...</td>\n",
              "      <td>Communication</td>\n",
              "      <td>5.0</td>\n",
              "      <td>5.0</td>\n",
              "      <td>10+</td>\n",
              "      <td>10.0</td>\n",
              "      <td>19</td>\n",
              "      <td>True</td>\n",
              "      <td>0.0</td>\n",
              "      <td>1.8M</td>\n",
              "      <td>Sep 10, 2018</td>\n",
              "      <td>Oct 13, 2018</td>\n",
              "      <td>Everyone</td>\n",
              "      <td>True</td>\n",
              "      <td>False</td>\n",
              "      <td>False</td>\n",
              "    </tr>\n",
              "    <tr>\n",
              "      <th>4</th>\n",
              "      <td>GROW.me</td>\n",
              "      <td>Tools</td>\n",
              "      <td>0.0</td>\n",
              "      <td>0.0</td>\n",
              "      <td>100+</td>\n",
              "      <td>100.0</td>\n",
              "      <td>478</td>\n",
              "      <td>True</td>\n",
              "      <td>0.0</td>\n",
              "      <td>6.2M</td>\n",
              "      <td>Feb 21, 2020</td>\n",
              "      <td>Nov 12, 2018</td>\n",
              "      <td>Everyone</td>\n",
              "      <td>False</td>\n",
              "      <td>False</td>\n",
              "      <td>False</td>\n",
              "    </tr>\n",
              "  </tbody>\n",
              "</table>\n",
              "</div>\n",
              "      <button class=\"colab-df-convert\" onclick=\"convertToInteractive('df-3dd93a2c-374a-4822-9ed3-3782ca42534d')\"\n",
              "              title=\"Convert this dataframe to an interactive table.\"\n",
              "              style=\"display:none;\">\n",
              "        \n",
              "  <svg xmlns=\"http://www.w3.org/2000/svg\" height=\"24px\"viewBox=\"0 0 24 24\"\n",
              "       width=\"24px\">\n",
              "    <path d=\"M0 0h24v24H0V0z\" fill=\"none\"/>\n",
              "    <path d=\"M18.56 5.44l.94 2.06.94-2.06 2.06-.94-2.06-.94-.94-2.06-.94 2.06-2.06.94zm-11 1L8.5 8.5l.94-2.06 2.06-.94-2.06-.94L8.5 2.5l-.94 2.06-2.06.94zm10 10l.94 2.06.94-2.06 2.06-.94-2.06-.94-.94-2.06-.94 2.06-2.06.94z\"/><path d=\"M17.41 7.96l-1.37-1.37c-.4-.4-.92-.59-1.43-.59-.52 0-1.04.2-1.43.59L10.3 9.45l-7.72 7.72c-.78.78-.78 2.05 0 2.83L4 21.41c.39.39.9.59 1.41.59.51 0 1.02-.2 1.41-.59l7.78-7.78 2.81-2.81c.8-.78.8-2.07 0-2.86zM5.41 20L4 18.59l7.72-7.72 1.47 1.35L5.41 20z\"/>\n",
              "  </svg>\n",
              "      </button>\n",
              "      \n",
              "  <style>\n",
              "    .colab-df-container {\n",
              "      display:flex;\n",
              "      flex-wrap:wrap;\n",
              "      gap: 12px;\n",
              "    }\n",
              "\n",
              "    .colab-df-convert {\n",
              "      background-color: #E8F0FE;\n",
              "      border: none;\n",
              "      border-radius: 50%;\n",
              "      cursor: pointer;\n",
              "      display: none;\n",
              "      fill: #1967D2;\n",
              "      height: 32px;\n",
              "      padding: 0 0 0 0;\n",
              "      width: 32px;\n",
              "    }\n",
              "\n",
              "    .colab-df-convert:hover {\n",
              "      background-color: #E2EBFA;\n",
              "      box-shadow: 0px 1px 2px rgba(60, 64, 67, 0.3), 0px 1px 3px 1px rgba(60, 64, 67, 0.15);\n",
              "      fill: #174EA6;\n",
              "    }\n",
              "\n",
              "    [theme=dark] .colab-df-convert {\n",
              "      background-color: #3B4455;\n",
              "      fill: #D2E3FC;\n",
              "    }\n",
              "\n",
              "    [theme=dark] .colab-df-convert:hover {\n",
              "      background-color: #434B5C;\n",
              "      box-shadow: 0px 1px 3px 1px rgba(0, 0, 0, 0.15);\n",
              "      filter: drop-shadow(0px 1px 2px rgba(0, 0, 0, 0.3));\n",
              "      fill: #FFFFFF;\n",
              "    }\n",
              "  </style>\n",
              "\n",
              "      <script>\n",
              "        const buttonEl =\n",
              "          document.querySelector('#df-3dd93a2c-374a-4822-9ed3-3782ca42534d button.colab-df-convert');\n",
              "        buttonEl.style.display =\n",
              "          google.colab.kernel.accessAllowed ? 'block' : 'none';\n",
              "\n",
              "        async function convertToInteractive(key) {\n",
              "          const element = document.querySelector('#df-3dd93a2c-374a-4822-9ed3-3782ca42534d');\n",
              "          const dataTable =\n",
              "            await google.colab.kernel.invokeFunction('convertToInteractive',\n",
              "                                                     [key], {});\n",
              "          if (!dataTable) return;\n",
              "\n",
              "          const docLinkHtml = 'Like what you see? Visit the ' +\n",
              "            '<a target=\"_blank\" href=https://colab.research.google.com/notebooks/data_table.ipynb>data table notebook</a>'\n",
              "            + ' to learn more about interactive tables.';\n",
              "          element.innerHTML = '';\n",
              "          dataTable['output_type'] = 'display_data';\n",
              "          await google.colab.output.renderOutput(dataTable, element);\n",
              "          const docLink = document.createElement('div');\n",
              "          docLink.innerHTML = docLinkHtml;\n",
              "          element.appendChild(docLink);\n",
              "        }\n",
              "      </script>\n",
              "    </div>\n",
              "  </div>\n",
              "  "
            ]
          },
          "metadata": {},
          "execution_count": 47
        }
      ],
      "source": [
        "df = df.drop(['App Id','Developer Website','Developer Email','Privacy Policy','Currency','Developer Id','Scraped Time','Minimum Android'],axis=1)\n",
        "df.head()\n"
      ]
    },
    {
      "cell_type": "markdown",
      "metadata": {
        "id": "5eH_iEeUA10a"
      },
      "source": [
        "We want to know the number of columns remained after the elimination process"
      ]
    },
    {
      "cell_type": "code",
      "execution_count": null,
      "metadata": {
        "colab": {
          "base_uri": "https://localhost:8080/"
        },
        "id": "7mUpY22aVJJ6",
        "outputId": "57daeaf5-63df-43e5-aff7-3e67fa1d291e"
      },
      "outputs": [
        {
          "output_type": "stream",
          "name": "stdout",
          "text": [
            "There are a total of 16 number of columns\n"
          ]
        }
      ],
      "source": [
        "print(\"There are a total of\",df.shape[1],\"number of columns\")"
      ]
    },
    {
      "cell_type": "markdown",
      "metadata": {
        "id": "oCJQJCoxBM3a"
      },
      "source": [
        "We want to know the number of \"NULL\" values present in the dataset and the location of that \"NULL\" value."
      ]
    },
    {
      "cell_type": "code",
      "execution_count": null,
      "metadata": {
        "colab": {
          "base_uri": "https://localhost:8080/"
        },
        "id": "h46ilQakVJJ6",
        "outputId": "438f9488-1174-487f-f2de-d6c8902c28d4"
      },
      "outputs": [
        {
          "output_type": "stream",
          "name": "stdout",
          "text": [
            "Number of rows having null values in the dataset: 71263\n",
            "\n",
            "Where are the 'NULL' values located:\n",
            "App Name             True\n",
            "Category            False\n",
            "Rating               True\n",
            "Rating Count         True\n",
            "Installs             True\n",
            "Minimum Installs     True\n",
            "Maximum Installs    False\n",
            "Free                False\n",
            "Price               False\n",
            "Size                 True\n",
            "Released             True\n",
            "Last Updated        False\n",
            "Content Rating      False\n",
            "Ad Supported        False\n",
            "In App Purchases    False\n",
            "Editors Choice      False\n",
            "dtype: bool\n"
          ]
        }
      ],
      "source": [
        "print( \"Number of rows having null values in the dataset:\", len(df[df.isnull().any(axis=1)] ))\n",
        "print()\n",
        "print( \"Where are the 'NULL' values located:\")\n",
        "print(df.isnull().any())"
      ]
    },
    {
      "cell_type": "markdown",
      "metadata": {
        "id": "39fyVTKMDcQb"
      },
      "source": [
        "We want to drop all the \"NULL\" values from the dataset. However, we only wanted to drop \"NULL\" values of these column only; 1) Size, 2) Minimum Installs, 3) Installs, and 4) App Name"
      ]
    },
    {
      "cell_type": "code",
      "execution_count": null,
      "metadata": {
        "id": "cfcSY6YSVJJ6"
      },
      "outputs": [],
      "source": [
        "df = df.dropna(subset=['Size','Minimum Installs','Installs','App Name'])"
      ]
    },
    {
      "cell_type": "markdown",
      "metadata": {
        "id": "18CPT6iIhBVQ"
      },
      "source": [
        "The dataset is now smaller in size and is easier to to the EDA process. Although the dataset is mere to completion for analysis, as we go into the datatype of each column, it presents a problem. The memory for each datatype allocations are to big."
      ]
    },
    {
      "cell_type": "code",
      "execution_count": null,
      "metadata": {
        "colab": {
          "base_uri": "https://localhost:8080/",
          "height": 300
        },
        "id": "HsDyuPIgVJJ6",
        "outputId": "ee3caf49-b9f3-4aae-fca2-89a91da8a998"
      },
      "outputs": [
        {
          "output_type": "execute_result",
          "data": {
            "text/plain": [
              "             Rating  Rating Count  Minimum Installs  Maximum Installs  \\\n",
              "count  2.290059e+06  2.290059e+06      2.312640e+06      2.312640e+06   \n",
              "mean   2.203151e+00  2.864841e+03      1.834604e+05      3.202396e+05   \n",
              "std    2.106223e+00  2.121627e+05      1.513208e+07      2.355650e+07   \n",
              "min    0.000000e+00  0.000000e+00      0.000000e+00      0.000000e+00   \n",
              "25%    0.000000e+00  0.000000e+00      5.000000e+01      8.400000e+01   \n",
              "50%    2.900000e+00  6.000000e+00      5.000000e+02      6.950000e+02   \n",
              "75%    4.300000e+00  4.200000e+01      5.000000e+03      7.354000e+03   \n",
              "max    5.000000e+00  1.385576e+08      1.000000e+10      1.205763e+10   \n",
              "\n",
              "              Price  \n",
              "count  2.312640e+06  \n",
              "mean   1.035117e-01  \n",
              "std    2.633299e+00  \n",
              "min    0.000000e+00  \n",
              "25%    0.000000e+00  \n",
              "50%    0.000000e+00  \n",
              "75%    0.000000e+00  \n",
              "max    4.000000e+02  "
            ],
            "text/html": [
              "\n",
              "  <div id=\"df-b1739f7c-a50f-40aa-ab08-ba4522476947\">\n",
              "    <div class=\"colab-df-container\">\n",
              "      <div>\n",
              "<style scoped>\n",
              "    .dataframe tbody tr th:only-of-type {\n",
              "        vertical-align: middle;\n",
              "    }\n",
              "\n",
              "    .dataframe tbody tr th {\n",
              "        vertical-align: top;\n",
              "    }\n",
              "\n",
              "    .dataframe thead th {\n",
              "        text-align: right;\n",
              "    }\n",
              "</style>\n",
              "<table border=\"1\" class=\"dataframe\">\n",
              "  <thead>\n",
              "    <tr style=\"text-align: right;\">\n",
              "      <th></th>\n",
              "      <th>Rating</th>\n",
              "      <th>Rating Count</th>\n",
              "      <th>Minimum Installs</th>\n",
              "      <th>Maximum Installs</th>\n",
              "      <th>Price</th>\n",
              "    </tr>\n",
              "  </thead>\n",
              "  <tbody>\n",
              "    <tr>\n",
              "      <th>count</th>\n",
              "      <td>2.290059e+06</td>\n",
              "      <td>2.290059e+06</td>\n",
              "      <td>2.312640e+06</td>\n",
              "      <td>2.312640e+06</td>\n",
              "      <td>2.312640e+06</td>\n",
              "    </tr>\n",
              "    <tr>\n",
              "      <th>mean</th>\n",
              "      <td>2.203151e+00</td>\n",
              "      <td>2.864841e+03</td>\n",
              "      <td>1.834604e+05</td>\n",
              "      <td>3.202396e+05</td>\n",
              "      <td>1.035117e-01</td>\n",
              "    </tr>\n",
              "    <tr>\n",
              "      <th>std</th>\n",
              "      <td>2.106223e+00</td>\n",
              "      <td>2.121627e+05</td>\n",
              "      <td>1.513208e+07</td>\n",
              "      <td>2.355650e+07</td>\n",
              "      <td>2.633299e+00</td>\n",
              "    </tr>\n",
              "    <tr>\n",
              "      <th>min</th>\n",
              "      <td>0.000000e+00</td>\n",
              "      <td>0.000000e+00</td>\n",
              "      <td>0.000000e+00</td>\n",
              "      <td>0.000000e+00</td>\n",
              "      <td>0.000000e+00</td>\n",
              "    </tr>\n",
              "    <tr>\n",
              "      <th>25%</th>\n",
              "      <td>0.000000e+00</td>\n",
              "      <td>0.000000e+00</td>\n",
              "      <td>5.000000e+01</td>\n",
              "      <td>8.400000e+01</td>\n",
              "      <td>0.000000e+00</td>\n",
              "    </tr>\n",
              "    <tr>\n",
              "      <th>50%</th>\n",
              "      <td>2.900000e+00</td>\n",
              "      <td>6.000000e+00</td>\n",
              "      <td>5.000000e+02</td>\n",
              "      <td>6.950000e+02</td>\n",
              "      <td>0.000000e+00</td>\n",
              "    </tr>\n",
              "    <tr>\n",
              "      <th>75%</th>\n",
              "      <td>4.300000e+00</td>\n",
              "      <td>4.200000e+01</td>\n",
              "      <td>5.000000e+03</td>\n",
              "      <td>7.354000e+03</td>\n",
              "      <td>0.000000e+00</td>\n",
              "    </tr>\n",
              "    <tr>\n",
              "      <th>max</th>\n",
              "      <td>5.000000e+00</td>\n",
              "      <td>1.385576e+08</td>\n",
              "      <td>1.000000e+10</td>\n",
              "      <td>1.205763e+10</td>\n",
              "      <td>4.000000e+02</td>\n",
              "    </tr>\n",
              "  </tbody>\n",
              "</table>\n",
              "</div>\n",
              "      <button class=\"colab-df-convert\" onclick=\"convertToInteractive('df-b1739f7c-a50f-40aa-ab08-ba4522476947')\"\n",
              "              title=\"Convert this dataframe to an interactive table.\"\n",
              "              style=\"display:none;\">\n",
              "        \n",
              "  <svg xmlns=\"http://www.w3.org/2000/svg\" height=\"24px\"viewBox=\"0 0 24 24\"\n",
              "       width=\"24px\">\n",
              "    <path d=\"M0 0h24v24H0V0z\" fill=\"none\"/>\n",
              "    <path d=\"M18.56 5.44l.94 2.06.94-2.06 2.06-.94-2.06-.94-.94-2.06-.94 2.06-2.06.94zm-11 1L8.5 8.5l.94-2.06 2.06-.94-2.06-.94L8.5 2.5l-.94 2.06-2.06.94zm10 10l.94 2.06.94-2.06 2.06-.94-2.06-.94-.94-2.06-.94 2.06-2.06.94z\"/><path d=\"M17.41 7.96l-1.37-1.37c-.4-.4-.92-.59-1.43-.59-.52 0-1.04.2-1.43.59L10.3 9.45l-7.72 7.72c-.78.78-.78 2.05 0 2.83L4 21.41c.39.39.9.59 1.41.59.51 0 1.02-.2 1.41-.59l7.78-7.78 2.81-2.81c.8-.78.8-2.07 0-2.86zM5.41 20L4 18.59l7.72-7.72 1.47 1.35L5.41 20z\"/>\n",
              "  </svg>\n",
              "      </button>\n",
              "      \n",
              "  <style>\n",
              "    .colab-df-container {\n",
              "      display:flex;\n",
              "      flex-wrap:wrap;\n",
              "      gap: 12px;\n",
              "    }\n",
              "\n",
              "    .colab-df-convert {\n",
              "      background-color: #E8F0FE;\n",
              "      border: none;\n",
              "      border-radius: 50%;\n",
              "      cursor: pointer;\n",
              "      display: none;\n",
              "      fill: #1967D2;\n",
              "      height: 32px;\n",
              "      padding: 0 0 0 0;\n",
              "      width: 32px;\n",
              "    }\n",
              "\n",
              "    .colab-df-convert:hover {\n",
              "      background-color: #E2EBFA;\n",
              "      box-shadow: 0px 1px 2px rgba(60, 64, 67, 0.3), 0px 1px 3px 1px rgba(60, 64, 67, 0.15);\n",
              "      fill: #174EA6;\n",
              "    }\n",
              "\n",
              "    [theme=dark] .colab-df-convert {\n",
              "      background-color: #3B4455;\n",
              "      fill: #D2E3FC;\n",
              "    }\n",
              "\n",
              "    [theme=dark] .colab-df-convert:hover {\n",
              "      background-color: #434B5C;\n",
              "      box-shadow: 0px 1px 3px 1px rgba(0, 0, 0, 0.15);\n",
              "      filter: drop-shadow(0px 1px 2px rgba(0, 0, 0, 0.3));\n",
              "      fill: #FFFFFF;\n",
              "    }\n",
              "  </style>\n",
              "\n",
              "      <script>\n",
              "        const buttonEl =\n",
              "          document.querySelector('#df-b1739f7c-a50f-40aa-ab08-ba4522476947 button.colab-df-convert');\n",
              "        buttonEl.style.display =\n",
              "          google.colab.kernel.accessAllowed ? 'block' : 'none';\n",
              "\n",
              "        async function convertToInteractive(key) {\n",
              "          const element = document.querySelector('#df-b1739f7c-a50f-40aa-ab08-ba4522476947');\n",
              "          const dataTable =\n",
              "            await google.colab.kernel.invokeFunction('convertToInteractive',\n",
              "                                                     [key], {});\n",
              "          if (!dataTable) return;\n",
              "\n",
              "          const docLinkHtml = 'Like what you see? Visit the ' +\n",
              "            '<a target=\"_blank\" href=https://colab.research.google.com/notebooks/data_table.ipynb>data table notebook</a>'\n",
              "            + ' to learn more about interactive tables.';\n",
              "          element.innerHTML = '';\n",
              "          dataTable['output_type'] = 'display_data';\n",
              "          await google.colab.output.renderOutput(dataTable, element);\n",
              "          const docLink = document.createElement('div');\n",
              "          docLink.innerHTML = docLinkHtml;\n",
              "          element.appendChild(docLink);\n",
              "        }\n",
              "      </script>\n",
              "    </div>\n",
              "  </div>\n",
              "  "
            ]
          },
          "metadata": {},
          "execution_count": 51
        }
      ],
      "source": [
        "df.describe()"
      ]
    },
    {
      "cell_type": "markdown",
      "metadata": {
        "id": "MVsN-zFih_eP"
      },
      "source": [
        "First, we start witn the \"Rating\" column. We declare a new datatype for it to reduce it memory size. Thus, we begin fill in the \"NULL\" value with other meaning values."
      ]
    },
    {
      "cell_type": "code",
      "execution_count": null,
      "metadata": {
        "id": "1Et9QhCbVJJ6"
      },
      "outputs": [],
      "source": [
        "df['Rating']  = df['Rating'].astype(float)\n",
        "avg = round(df['Rating'].mean(),1)\n",
        "df['Rating'].fillna(avg,inplace=True)"
      ]
    },
    {
      "cell_type": "markdown",
      "metadata": {
        "id": "-QneLdl3inmV"
      },
      "source": [
        "We do the same thing for the \"Rating Count\" column."
      ]
    },
    {
      "cell_type": "code",
      "execution_count": null,
      "metadata": {
        "id": "yBxDax1KVJJ6"
      },
      "outputs": [],
      "source": [
        "df['Rating Count']  = df['Rating Count'].astype(float)\n",
        "avg = round(df['Rating Count'].mean(),1)\n",
        "df['Rating Count'].fillna(avg,inplace=True)"
      ]
    },
    {
      "cell_type": "markdown",
      "metadata": {
        "id": "NCtT4DzSnOr4"
      },
      "source": [
        "We want to cealn our dataset by only including three values in the \"Content Rating\" column."
      ]
    },
    {
      "cell_type": "code",
      "execution_count": null,
      "metadata": {
        "id": "t41UEDSzi2Gq"
      },
      "outputs": [],
      "source": [
        "df['Content Rating'] = df['Content Rating'].replace('Unrated',\"Everyone\")\n",
        "df['Content Rating'] = df['Content Rating'].replace('Mature 17+',\"Adults\")\n",
        "df['Content Rating'] = df['Content Rating'].replace('Adults only 18+',\"Adults\")\n",
        "df['Content Rating'] = df['Content Rating'].replace('Everyone 10+',\"Everyone\")"
      ]
    },
    {
      "cell_type": "markdown",
      "source": [
        "Should this dataset (df) were to be corrupted, this variable (df1) is a backup dataset the original dataset."
      ],
      "metadata": {
        "id": "VwQRKhJ71OnI"
      }
    },
    {
      "cell_type": "code",
      "execution_count": null,
      "metadata": {
        "colab": {
          "base_uri": "https://localhost:8080/",
          "height": 676
        },
        "id": "OTgBovGGlqcZ",
        "outputId": "67935d02-076e-4f85-bd9b-d240f02a232b"
      },
      "outputs": [
        {
          "output_type": "execute_result",
          "data": {
            "text/plain": [
              "                                                  App Name       Category  \\\n",
              "0                                                  Gakondo      Adventure   \n",
              "1                                      Ampere Battery Info          Tools   \n",
              "2                                                   Vibook   Productivity   \n",
              "3        Smart City Trichy Public Service Vehicles 17UC...  Communication   \n",
              "4                                                  GROW.me          Tools   \n",
              "...                                                    ...            ...   \n",
              "2312939                                           大俠客—熱血歸來   Role Playing   \n",
              "2312940                                         ORU Online      Education   \n",
              "2312941                                     Data Structure      Education   \n",
              "2312942                                        Devi Suktam  Music & Audio   \n",
              "2312943                       Biliyor Musun - Sonsuz Yarış         Trivia   \n",
              "\n",
              "         Rating  Rating Count  Installs  Minimum Installs  Maximum Installs  \\\n",
              "0           0.0           0.0       10+              10.0                15   \n",
              "1           4.4          64.0    5,000+            5000.0              7662   \n",
              "2           0.0           0.0       50+              50.0                58   \n",
              "3           5.0           5.0       10+              10.0                19   \n",
              "4           0.0           0.0      100+             100.0               478   \n",
              "...         ...           ...       ...               ...               ...   \n",
              "2312939     4.3       16775.0  100,000+          100000.0            337109   \n",
              "2312940     0.0           0.0      100+             100.0               430   \n",
              "2312941     0.0           0.0      100+             100.0               202   \n",
              "2312942     3.5           8.0    1,000+            1000.0              2635   \n",
              "2312943     5.0          12.0      100+             100.0               354   \n",
              "\n",
              "         Free  Price  Size      Released  Last Updated Content Rating  \\\n",
              "0        True    0.0   10M  Feb 26, 2020  Feb 26, 2020       Everyone   \n",
              "1        True    0.0  2.9M  May 21, 2020  May 06, 2021       Everyone   \n",
              "2        True    0.0  3.7M   Aug 9, 2019  Aug 19, 2019       Everyone   \n",
              "3        True    0.0  1.8M  Sep 10, 2018  Oct 13, 2018       Everyone   \n",
              "4        True    0.0  6.2M  Feb 21, 2020  Nov 12, 2018       Everyone   \n",
              "...       ...    ...   ...           ...           ...            ...   \n",
              "2312939  True    0.0   77M           NaN  Jun 01, 2021           Teen   \n",
              "2312940  True    0.0   44M  Jan 17, 2018  Feb 02, 2018       Everyone   \n",
              "2312941  True    0.0   29M  Aug 19, 2018  Aug 19, 2018       Everyone   \n",
              "2312942  True    0.0   10M   Aug 1, 2016  May 05, 2021       Everyone   \n",
              "2312943  True    0.0  5.2M   Aug 9, 2019  Aug 19, 2019       Everyone   \n",
              "\n",
              "         Ad Supported  In App Purchases  Editors Choice  \n",
              "0               False             False           False  \n",
              "1                True             False           False  \n",
              "2               False             False           False  \n",
              "3                True             False           False  \n",
              "4               False             False           False  \n",
              "...               ...               ...             ...  \n",
              "2312939         False             False           False  \n",
              "2312940         False             False           False  \n",
              "2312941         False             False           False  \n",
              "2312942          True             False           False  \n",
              "2312943          True             False           False  \n",
              "\n",
              "[2312640 rows x 16 columns]"
            ],
            "text/html": [
              "\n",
              "  <div id=\"df-9abd3744-8268-4f1b-b987-f54dab7e2072\">\n",
              "    <div class=\"colab-df-container\">\n",
              "      <div>\n",
              "<style scoped>\n",
              "    .dataframe tbody tr th:only-of-type {\n",
              "        vertical-align: middle;\n",
              "    }\n",
              "\n",
              "    .dataframe tbody tr th {\n",
              "        vertical-align: top;\n",
              "    }\n",
              "\n",
              "    .dataframe thead th {\n",
              "        text-align: right;\n",
              "    }\n",
              "</style>\n",
              "<table border=\"1\" class=\"dataframe\">\n",
              "  <thead>\n",
              "    <tr style=\"text-align: right;\">\n",
              "      <th></th>\n",
              "      <th>App Name</th>\n",
              "      <th>Category</th>\n",
              "      <th>Rating</th>\n",
              "      <th>Rating Count</th>\n",
              "      <th>Installs</th>\n",
              "      <th>Minimum Installs</th>\n",
              "      <th>Maximum Installs</th>\n",
              "      <th>Free</th>\n",
              "      <th>Price</th>\n",
              "      <th>Size</th>\n",
              "      <th>Released</th>\n",
              "      <th>Last Updated</th>\n",
              "      <th>Content Rating</th>\n",
              "      <th>Ad Supported</th>\n",
              "      <th>In App Purchases</th>\n",
              "      <th>Editors Choice</th>\n",
              "    </tr>\n",
              "  </thead>\n",
              "  <tbody>\n",
              "    <tr>\n",
              "      <th>0</th>\n",
              "      <td>Gakondo</td>\n",
              "      <td>Adventure</td>\n",
              "      <td>0.0</td>\n",
              "      <td>0.0</td>\n",
              "      <td>10+</td>\n",
              "      <td>10.0</td>\n",
              "      <td>15</td>\n",
              "      <td>True</td>\n",
              "      <td>0.0</td>\n",
              "      <td>10M</td>\n",
              "      <td>Feb 26, 2020</td>\n",
              "      <td>Feb 26, 2020</td>\n",
              "      <td>Everyone</td>\n",
              "      <td>False</td>\n",
              "      <td>False</td>\n",
              "      <td>False</td>\n",
              "    </tr>\n",
              "    <tr>\n",
              "      <th>1</th>\n",
              "      <td>Ampere Battery Info</td>\n",
              "      <td>Tools</td>\n",
              "      <td>4.4</td>\n",
              "      <td>64.0</td>\n",
              "      <td>5,000+</td>\n",
              "      <td>5000.0</td>\n",
              "      <td>7662</td>\n",
              "      <td>True</td>\n",
              "      <td>0.0</td>\n",
              "      <td>2.9M</td>\n",
              "      <td>May 21, 2020</td>\n",
              "      <td>May 06, 2021</td>\n",
              "      <td>Everyone</td>\n",
              "      <td>True</td>\n",
              "      <td>False</td>\n",
              "      <td>False</td>\n",
              "    </tr>\n",
              "    <tr>\n",
              "      <th>2</th>\n",
              "      <td>Vibook</td>\n",
              "      <td>Productivity</td>\n",
              "      <td>0.0</td>\n",
              "      <td>0.0</td>\n",
              "      <td>50+</td>\n",
              "      <td>50.0</td>\n",
              "      <td>58</td>\n",
              "      <td>True</td>\n",
              "      <td>0.0</td>\n",
              "      <td>3.7M</td>\n",
              "      <td>Aug 9, 2019</td>\n",
              "      <td>Aug 19, 2019</td>\n",
              "      <td>Everyone</td>\n",
              "      <td>False</td>\n",
              "      <td>False</td>\n",
              "      <td>False</td>\n",
              "    </tr>\n",
              "    <tr>\n",
              "      <th>3</th>\n",
              "      <td>Smart City Trichy Public Service Vehicles 17UC...</td>\n",
              "      <td>Communication</td>\n",
              "      <td>5.0</td>\n",
              "      <td>5.0</td>\n",
              "      <td>10+</td>\n",
              "      <td>10.0</td>\n",
              "      <td>19</td>\n",
              "      <td>True</td>\n",
              "      <td>0.0</td>\n",
              "      <td>1.8M</td>\n",
              "      <td>Sep 10, 2018</td>\n",
              "      <td>Oct 13, 2018</td>\n",
              "      <td>Everyone</td>\n",
              "      <td>True</td>\n",
              "      <td>False</td>\n",
              "      <td>False</td>\n",
              "    </tr>\n",
              "    <tr>\n",
              "      <th>4</th>\n",
              "      <td>GROW.me</td>\n",
              "      <td>Tools</td>\n",
              "      <td>0.0</td>\n",
              "      <td>0.0</td>\n",
              "      <td>100+</td>\n",
              "      <td>100.0</td>\n",
              "      <td>478</td>\n",
              "      <td>True</td>\n",
              "      <td>0.0</td>\n",
              "      <td>6.2M</td>\n",
              "      <td>Feb 21, 2020</td>\n",
              "      <td>Nov 12, 2018</td>\n",
              "      <td>Everyone</td>\n",
              "      <td>False</td>\n",
              "      <td>False</td>\n",
              "      <td>False</td>\n",
              "    </tr>\n",
              "    <tr>\n",
              "      <th>...</th>\n",
              "      <td>...</td>\n",
              "      <td>...</td>\n",
              "      <td>...</td>\n",
              "      <td>...</td>\n",
              "      <td>...</td>\n",
              "      <td>...</td>\n",
              "      <td>...</td>\n",
              "      <td>...</td>\n",
              "      <td>...</td>\n",
              "      <td>...</td>\n",
              "      <td>...</td>\n",
              "      <td>...</td>\n",
              "      <td>...</td>\n",
              "      <td>...</td>\n",
              "      <td>...</td>\n",
              "      <td>...</td>\n",
              "    </tr>\n",
              "    <tr>\n",
              "      <th>2312939</th>\n",
              "      <td>大俠客—熱血歸來</td>\n",
              "      <td>Role Playing</td>\n",
              "      <td>4.3</td>\n",
              "      <td>16775.0</td>\n",
              "      <td>100,000+</td>\n",
              "      <td>100000.0</td>\n",
              "      <td>337109</td>\n",
              "      <td>True</td>\n",
              "      <td>0.0</td>\n",
              "      <td>77M</td>\n",
              "      <td>NaN</td>\n",
              "      <td>Jun 01, 2021</td>\n",
              "      <td>Teen</td>\n",
              "      <td>False</td>\n",
              "      <td>False</td>\n",
              "      <td>False</td>\n",
              "    </tr>\n",
              "    <tr>\n",
              "      <th>2312940</th>\n",
              "      <td>ORU Online</td>\n",
              "      <td>Education</td>\n",
              "      <td>0.0</td>\n",
              "      <td>0.0</td>\n",
              "      <td>100+</td>\n",
              "      <td>100.0</td>\n",
              "      <td>430</td>\n",
              "      <td>True</td>\n",
              "      <td>0.0</td>\n",
              "      <td>44M</td>\n",
              "      <td>Jan 17, 2018</td>\n",
              "      <td>Feb 02, 2018</td>\n",
              "      <td>Everyone</td>\n",
              "      <td>False</td>\n",
              "      <td>False</td>\n",
              "      <td>False</td>\n",
              "    </tr>\n",
              "    <tr>\n",
              "      <th>2312941</th>\n",
              "      <td>Data Structure</td>\n",
              "      <td>Education</td>\n",
              "      <td>0.0</td>\n",
              "      <td>0.0</td>\n",
              "      <td>100+</td>\n",
              "      <td>100.0</td>\n",
              "      <td>202</td>\n",
              "      <td>True</td>\n",
              "      <td>0.0</td>\n",
              "      <td>29M</td>\n",
              "      <td>Aug 19, 2018</td>\n",
              "      <td>Aug 19, 2018</td>\n",
              "      <td>Everyone</td>\n",
              "      <td>False</td>\n",
              "      <td>False</td>\n",
              "      <td>False</td>\n",
              "    </tr>\n",
              "    <tr>\n",
              "      <th>2312942</th>\n",
              "      <td>Devi Suktam</td>\n",
              "      <td>Music &amp; Audio</td>\n",
              "      <td>3.5</td>\n",
              "      <td>8.0</td>\n",
              "      <td>1,000+</td>\n",
              "      <td>1000.0</td>\n",
              "      <td>2635</td>\n",
              "      <td>True</td>\n",
              "      <td>0.0</td>\n",
              "      <td>10M</td>\n",
              "      <td>Aug 1, 2016</td>\n",
              "      <td>May 05, 2021</td>\n",
              "      <td>Everyone</td>\n",
              "      <td>True</td>\n",
              "      <td>False</td>\n",
              "      <td>False</td>\n",
              "    </tr>\n",
              "    <tr>\n",
              "      <th>2312943</th>\n",
              "      <td>Biliyor Musun - Sonsuz Yarış</td>\n",
              "      <td>Trivia</td>\n",
              "      <td>5.0</td>\n",
              "      <td>12.0</td>\n",
              "      <td>100+</td>\n",
              "      <td>100.0</td>\n",
              "      <td>354</td>\n",
              "      <td>True</td>\n",
              "      <td>0.0</td>\n",
              "      <td>5.2M</td>\n",
              "      <td>Aug 9, 2019</td>\n",
              "      <td>Aug 19, 2019</td>\n",
              "      <td>Everyone</td>\n",
              "      <td>True</td>\n",
              "      <td>False</td>\n",
              "      <td>False</td>\n",
              "    </tr>\n",
              "  </tbody>\n",
              "</table>\n",
              "<p>2312640 rows × 16 columns</p>\n",
              "</div>\n",
              "      <button class=\"colab-df-convert\" onclick=\"convertToInteractive('df-9abd3744-8268-4f1b-b987-f54dab7e2072')\"\n",
              "              title=\"Convert this dataframe to an interactive table.\"\n",
              "              style=\"display:none;\">\n",
              "        \n",
              "  <svg xmlns=\"http://www.w3.org/2000/svg\" height=\"24px\"viewBox=\"0 0 24 24\"\n",
              "       width=\"24px\">\n",
              "    <path d=\"M0 0h24v24H0V0z\" fill=\"none\"/>\n",
              "    <path d=\"M18.56 5.44l.94 2.06.94-2.06 2.06-.94-2.06-.94-.94-2.06-.94 2.06-2.06.94zm-11 1L8.5 8.5l.94-2.06 2.06-.94-2.06-.94L8.5 2.5l-.94 2.06-2.06.94zm10 10l.94 2.06.94-2.06 2.06-.94-2.06-.94-.94-2.06-.94 2.06-2.06.94z\"/><path d=\"M17.41 7.96l-1.37-1.37c-.4-.4-.92-.59-1.43-.59-.52 0-1.04.2-1.43.59L10.3 9.45l-7.72 7.72c-.78.78-.78 2.05 0 2.83L4 21.41c.39.39.9.59 1.41.59.51 0 1.02-.2 1.41-.59l7.78-7.78 2.81-2.81c.8-.78.8-2.07 0-2.86zM5.41 20L4 18.59l7.72-7.72 1.47 1.35L5.41 20z\"/>\n",
              "  </svg>\n",
              "      </button>\n",
              "      \n",
              "  <style>\n",
              "    .colab-df-container {\n",
              "      display:flex;\n",
              "      flex-wrap:wrap;\n",
              "      gap: 12px;\n",
              "    }\n",
              "\n",
              "    .colab-df-convert {\n",
              "      background-color: #E8F0FE;\n",
              "      border: none;\n",
              "      border-radius: 50%;\n",
              "      cursor: pointer;\n",
              "      display: none;\n",
              "      fill: #1967D2;\n",
              "      height: 32px;\n",
              "      padding: 0 0 0 0;\n",
              "      width: 32px;\n",
              "    }\n",
              "\n",
              "    .colab-df-convert:hover {\n",
              "      background-color: #E2EBFA;\n",
              "      box-shadow: 0px 1px 2px rgba(60, 64, 67, 0.3), 0px 1px 3px 1px rgba(60, 64, 67, 0.15);\n",
              "      fill: #174EA6;\n",
              "    }\n",
              "\n",
              "    [theme=dark] .colab-df-convert {\n",
              "      background-color: #3B4455;\n",
              "      fill: #D2E3FC;\n",
              "    }\n",
              "\n",
              "    [theme=dark] .colab-df-convert:hover {\n",
              "      background-color: #434B5C;\n",
              "      box-shadow: 0px 1px 3px 1px rgba(0, 0, 0, 0.15);\n",
              "      filter: drop-shadow(0px 1px 2px rgba(0, 0, 0, 0.3));\n",
              "      fill: #FFFFFF;\n",
              "    }\n",
              "  </style>\n",
              "\n",
              "      <script>\n",
              "        const buttonEl =\n",
              "          document.querySelector('#df-9abd3744-8268-4f1b-b987-f54dab7e2072 button.colab-df-convert');\n",
              "        buttonEl.style.display =\n",
              "          google.colab.kernel.accessAllowed ? 'block' : 'none';\n",
              "\n",
              "        async function convertToInteractive(key) {\n",
              "          const element = document.querySelector('#df-9abd3744-8268-4f1b-b987-f54dab7e2072');\n",
              "          const dataTable =\n",
              "            await google.colab.kernel.invokeFunction('convertToInteractive',\n",
              "                                                     [key], {});\n",
              "          if (!dataTable) return;\n",
              "\n",
              "          const docLinkHtml = 'Like what you see? Visit the ' +\n",
              "            '<a target=\"_blank\" href=https://colab.research.google.com/notebooks/data_table.ipynb>data table notebook</a>'\n",
              "            + ' to learn more about interactive tables.';\n",
              "          element.innerHTML = '';\n",
              "          dataTable['output_type'] = 'display_data';\n",
              "          await google.colab.output.renderOutput(dataTable, element);\n",
              "          const docLink = document.createElement('div');\n",
              "          docLink.innerHTML = docLinkHtml;\n",
              "          element.appendChild(docLink);\n",
              "        }\n",
              "      </script>\n",
              "    </div>\n",
              "  </div>\n",
              "  "
            ]
          },
          "metadata": {},
          "execution_count": 55
        }
      ],
      "source": [
        "df1 = df\n",
        "df1"
      ]
    },
    {
      "cell_type": "markdown",
      "metadata": {
        "id": "gmSTCrGUoWnB"
      },
      "source": [
        "As we go down into  \"Installs\" column have too many symbols. "
      ]
    },
    {
      "cell_type": "code",
      "execution_count": null,
      "metadata": {
        "colab": {
          "base_uri": "https://localhost:8080/"
        },
        "id": "7Ndw8dUzo_R0",
        "outputId": "179ea06e-ca4b-4ed1-d73f-f54825d4f535"
      },
      "outputs": [
        {
          "output_type": "execute_result",
          "data": {
            "text/plain": [
              "0         10+\n",
              "1      5,000+\n",
              "2         50+\n",
              "3         10+\n",
              "4        100+\n",
              "5         50+\n",
              "6      1,000+\n",
              "7        500+\n",
              "8         10+\n",
              "9     50,000+\n",
              "10       100+\n",
              "11       100+\n",
              "12    10,000+\n",
              "13       100+\n",
              "14    10,000+\n",
              "15     1,000+\n",
              "16       500+\n",
              "17        50+\n",
              "18    10,000+\n",
              "19         1+\n",
              "Name: Installs, dtype: object"
            ]
          },
          "metadata": {},
          "execution_count": 56
        }
      ],
      "source": [
        "df['Installs'].head(20)"
      ]
    },
    {
      "cell_type": "markdown",
      "metadata": {
        "id": "Nm0buuXJpFh9"
      },
      "source": [
        "We need to clean it by replacing all symbols and convert the value into numeric."
      ]
    },
    {
      "cell_type": "code",
      "execution_count": null,
      "metadata": {
        "colab": {
          "base_uri": "https://localhost:8080/"
        },
        "id": "S51CAUAfoXcn",
        "outputId": "580eb30f-7a79-4ba9-9fbf-3f4c824e6146"
      },
      "outputs": [
        {
          "output_type": "stream",
          "name": "stderr",
          "text": [
            "<ipython-input-57-d56bdb8964da>:2: FutureWarning: The default value of regex will change from True to False in a future version. In addition, single character regular expressions will *not* be treated as literal strings when regex=True.\n",
            "  df['Installs'] = df['Installs'].str.replace('+','')\n"
          ]
        },
        {
          "output_type": "execute_result",
          "data": {
            "text/plain": [
              "0        10\n",
              "1      5000\n",
              "2        50\n",
              "3        10\n",
              "4       100\n",
              "5        50\n",
              "6      1000\n",
              "7       500\n",
              "8        10\n",
              "9     50000\n",
              "10      100\n",
              "11      100\n",
              "12    10000\n",
              "13      100\n",
              "14    10000\n",
              "15     1000\n",
              "16      500\n",
              "17       50\n",
              "18    10000\n",
              "19        1\n",
              "Name: Installs, dtype: int64"
            ]
          },
          "metadata": {},
          "execution_count": 57
        }
      ],
      "source": [
        "df['Installs'] = df['Installs'].str.replace(',','')\n",
        "df['Installs'] = df['Installs'].str.replace('+','')\n",
        "df['Installs'] = df['Installs'].str.replace('Free','0')\n",
        "df['Installs'] = pd.to_numeric(df['Installs'])\n",
        "\n",
        "df['Installs'].head(20)"
      ]
    },
    {
      "cell_type": "markdown",
      "metadata": {
        "id": "OeL0Lm2isYrm"
      },
      "source": [
        "We want to know the range of prices and establish a simpler way of viewing the prices.We add a new column named \"Price Range\"."
      ]
    },
    {
      "cell_type": "code",
      "execution_count": null,
      "metadata": {
        "colab": {
          "base_uri": "https://localhost:8080/"
        },
        "id": "lYdktmeDsZQu",
        "outputId": "6a65287d-0336-4e53-ffb9-be79981d23de"
      },
      "outputs": [
        {
          "output_type": "execute_result",
          "data": {
            "text/plain": [
              "Free         2267708\n",
              "Cheap          41968\n",
              "Moderate        2092\n",
              "Expensive        872\n",
              "Name: Price Range, dtype: int64"
            ]
          },
          "metadata": {},
          "execution_count": 58
        }
      ],
      "source": [
        "df['Price Range'] = pd.cut(df['Price'],bins=[0,0.19,9.99,29.99,410],labels=['Free','Cheap','Moderate','Expensive'],include_lowest=True)\n",
        "df['Price Range'].value_counts()"
      ]
    },
    {
      "cell_type": "markdown",
      "metadata": {
        "id": "qgY5Y4qVtTH1"
      },
      "source": [
        "Last but not least, we want to know classify the rating counts for every games. Hence, we create another column named \"Rating Type\"."
      ]
    },
    {
      "cell_type": "code",
      "execution_count": null,
      "metadata": {
        "colab": {
          "base_uri": "https://localhost:8080/"
        },
        "id": "5NR-KHsZtJ8o",
        "outputId": "7c6f7166-8f1c-4ad1-f7d6-a7ae4dac08f3"
      },
      "outputs": [
        {
          "output_type": "execute_result",
          "data": {
            "text/plain": [
              "Less than 10K           1215434\n",
              "NoRating                1059762\n",
              "Between 10K and 500K      35779\n",
              "More than 500K             1665\n",
              "Name: Rating Type, dtype: int64"
            ]
          },
          "metadata": {},
          "execution_count": 59
        }
      ],
      "source": [
        "df['Rating Type'] = 'NoRating'\n",
        "df.loc[(df['Rating Count'] > 0) & (df['Rating Count'] <= 10000.0),'Rating Type'] = 'Less than 10K'\n",
        "df.loc[(df['Rating Count'] > 10000) & (df['Rating Count'] <= 500000.0),'Rating Type'] = 'Between 10K and 500K'\n",
        "df.loc[(df['Rating Count'] > 500000) & (df['Rating Count'] <= 138557570.0),'Rating Type'] = 'More than 500K'\n",
        " \n",
        "df['Rating Type'].value_counts()"
      ]
    },
    {
      "cell_type": "markdown",
      "metadata": {
        "id": "_0m5LkbVVJJ6"
      },
      "source": [
        "## Exploratory Analysis and Visualization\n",
        "\n"
      ]
    },
    {
      "cell_type": "markdown",
      "metadata": {
        "id": "Fv4NPHasVJJ7"
      },
      "source": [
        "Before we indulge further into the dataset, we would first need to lnow the basic statistical analysis from the dataset so we could indentify and redefine any data type."
      ]
    },
    {
      "cell_type": "code",
      "execution_count": null,
      "metadata": {
        "colab": {
          "base_uri": "https://localhost:8080/",
          "height": 370
        },
        "id": "NKN6RIplVJJ7",
        "outputId": "0da3c90c-9ebd-4054-fa23-04ca8f4af3b9"
      },
      "outputs": [
        {
          "output_type": "stream",
          "name": "stdout",
          "text": [
            "The median for Rating column is: 2.8\n",
            "The mean for Rating column is: 2.2\n",
            "The mode for Rating column is: 0    0.0\n",
            "dtype: float64\n"
          ]
        },
        {
          "output_type": "execute_result",
          "data": {
            "text/plain": [
              "          Rating  Rating Count      Installs  Minimum Installs  \\\n",
              "count  2312640.0  2.312640e+06  2.312640e+06      2.312640e+06   \n",
              "mean         2.2  2.864840e+03  1.834604e+05      1.834604e+05   \n",
              "std          2.1  2.111243e+05  1.513208e+07      1.513208e+07   \n",
              "min          0.0  0.000000e+00  0.000000e+00      0.000000e+00   \n",
              "25%          0.0  0.000000e+00  5.000000e+01      5.000000e+01   \n",
              "50%          2.8  6.000000e+00  5.000000e+02      5.000000e+02   \n",
              "75%          4.3  4.500000e+01  5.000000e+03      5.000000e+03   \n",
              "max          5.0  1.385576e+08  1.000000e+10      1.000000e+10   \n",
              "\n",
              "       Maximum Installs       Price  \n",
              "count      2.312640e+06  2312640.00  \n",
              "mean       3.202396e+05        0.10  \n",
              "std        2.355650e+07        2.63  \n",
              "min        0.000000e+00        0.00  \n",
              "25%        8.400000e+01        0.00  \n",
              "50%        6.950000e+02        0.00  \n",
              "75%        7.354000e+03        0.00  \n",
              "max        1.205763e+10      400.00  "
            ],
            "text/html": [
              "\n",
              "  <div id=\"df-418d6248-3022-47f5-8eaf-f610406ea068\">\n",
              "    <div class=\"colab-df-container\">\n",
              "      <div>\n",
              "<style scoped>\n",
              "    .dataframe tbody tr th:only-of-type {\n",
              "        vertical-align: middle;\n",
              "    }\n",
              "\n",
              "    .dataframe tbody tr th {\n",
              "        vertical-align: top;\n",
              "    }\n",
              "\n",
              "    .dataframe thead th {\n",
              "        text-align: right;\n",
              "    }\n",
              "</style>\n",
              "<table border=\"1\" class=\"dataframe\">\n",
              "  <thead>\n",
              "    <tr style=\"text-align: right;\">\n",
              "      <th></th>\n",
              "      <th>Rating</th>\n",
              "      <th>Rating Count</th>\n",
              "      <th>Installs</th>\n",
              "      <th>Minimum Installs</th>\n",
              "      <th>Maximum Installs</th>\n",
              "      <th>Price</th>\n",
              "    </tr>\n",
              "  </thead>\n",
              "  <tbody>\n",
              "    <tr>\n",
              "      <th>count</th>\n",
              "      <td>2312640.0</td>\n",
              "      <td>2.312640e+06</td>\n",
              "      <td>2.312640e+06</td>\n",
              "      <td>2.312640e+06</td>\n",
              "      <td>2.312640e+06</td>\n",
              "      <td>2312640.00</td>\n",
              "    </tr>\n",
              "    <tr>\n",
              "      <th>mean</th>\n",
              "      <td>2.2</td>\n",
              "      <td>2.864840e+03</td>\n",
              "      <td>1.834604e+05</td>\n",
              "      <td>1.834604e+05</td>\n",
              "      <td>3.202396e+05</td>\n",
              "      <td>0.10</td>\n",
              "    </tr>\n",
              "    <tr>\n",
              "      <th>std</th>\n",
              "      <td>2.1</td>\n",
              "      <td>2.111243e+05</td>\n",
              "      <td>1.513208e+07</td>\n",
              "      <td>1.513208e+07</td>\n",
              "      <td>2.355650e+07</td>\n",
              "      <td>2.63</td>\n",
              "    </tr>\n",
              "    <tr>\n",
              "      <th>min</th>\n",
              "      <td>0.0</td>\n",
              "      <td>0.000000e+00</td>\n",
              "      <td>0.000000e+00</td>\n",
              "      <td>0.000000e+00</td>\n",
              "      <td>0.000000e+00</td>\n",
              "      <td>0.00</td>\n",
              "    </tr>\n",
              "    <tr>\n",
              "      <th>25%</th>\n",
              "      <td>0.0</td>\n",
              "      <td>0.000000e+00</td>\n",
              "      <td>5.000000e+01</td>\n",
              "      <td>5.000000e+01</td>\n",
              "      <td>8.400000e+01</td>\n",
              "      <td>0.00</td>\n",
              "    </tr>\n",
              "    <tr>\n",
              "      <th>50%</th>\n",
              "      <td>2.8</td>\n",
              "      <td>6.000000e+00</td>\n",
              "      <td>5.000000e+02</td>\n",
              "      <td>5.000000e+02</td>\n",
              "      <td>6.950000e+02</td>\n",
              "      <td>0.00</td>\n",
              "    </tr>\n",
              "    <tr>\n",
              "      <th>75%</th>\n",
              "      <td>4.3</td>\n",
              "      <td>4.500000e+01</td>\n",
              "      <td>5.000000e+03</td>\n",
              "      <td>5.000000e+03</td>\n",
              "      <td>7.354000e+03</td>\n",
              "      <td>0.00</td>\n",
              "    </tr>\n",
              "    <tr>\n",
              "      <th>max</th>\n",
              "      <td>5.0</td>\n",
              "      <td>1.385576e+08</td>\n",
              "      <td>1.000000e+10</td>\n",
              "      <td>1.000000e+10</td>\n",
              "      <td>1.205763e+10</td>\n",
              "      <td>400.00</td>\n",
              "    </tr>\n",
              "  </tbody>\n",
              "</table>\n",
              "</div>\n",
              "      <button class=\"colab-df-convert\" onclick=\"convertToInteractive('df-418d6248-3022-47f5-8eaf-f610406ea068')\"\n",
              "              title=\"Convert this dataframe to an interactive table.\"\n",
              "              style=\"display:none;\">\n",
              "        \n",
              "  <svg xmlns=\"http://www.w3.org/2000/svg\" height=\"24px\"viewBox=\"0 0 24 24\"\n",
              "       width=\"24px\">\n",
              "    <path d=\"M0 0h24v24H0V0z\" fill=\"none\"/>\n",
              "    <path d=\"M18.56 5.44l.94 2.06.94-2.06 2.06-.94-2.06-.94-.94-2.06-.94 2.06-2.06.94zm-11 1L8.5 8.5l.94-2.06 2.06-.94-2.06-.94L8.5 2.5l-.94 2.06-2.06.94zm10 10l.94 2.06.94-2.06 2.06-.94-2.06-.94-.94-2.06-.94 2.06-2.06.94z\"/><path d=\"M17.41 7.96l-1.37-1.37c-.4-.4-.92-.59-1.43-.59-.52 0-1.04.2-1.43.59L10.3 9.45l-7.72 7.72c-.78.78-.78 2.05 0 2.83L4 21.41c.39.39.9.59 1.41.59.51 0 1.02-.2 1.41-.59l7.78-7.78 2.81-2.81c.8-.78.8-2.07 0-2.86zM5.41 20L4 18.59l7.72-7.72 1.47 1.35L5.41 20z\"/>\n",
              "  </svg>\n",
              "      </button>\n",
              "      \n",
              "  <style>\n",
              "    .colab-df-container {\n",
              "      display:flex;\n",
              "      flex-wrap:wrap;\n",
              "      gap: 12px;\n",
              "    }\n",
              "\n",
              "    .colab-df-convert {\n",
              "      background-color: #E8F0FE;\n",
              "      border: none;\n",
              "      border-radius: 50%;\n",
              "      cursor: pointer;\n",
              "      display: none;\n",
              "      fill: #1967D2;\n",
              "      height: 32px;\n",
              "      padding: 0 0 0 0;\n",
              "      width: 32px;\n",
              "    }\n",
              "\n",
              "    .colab-df-convert:hover {\n",
              "      background-color: #E2EBFA;\n",
              "      box-shadow: 0px 1px 2px rgba(60, 64, 67, 0.3), 0px 1px 3px 1px rgba(60, 64, 67, 0.15);\n",
              "      fill: #174EA6;\n",
              "    }\n",
              "\n",
              "    [theme=dark] .colab-df-convert {\n",
              "      background-color: #3B4455;\n",
              "      fill: #D2E3FC;\n",
              "    }\n",
              "\n",
              "    [theme=dark] .colab-df-convert:hover {\n",
              "      background-color: #434B5C;\n",
              "      box-shadow: 0px 1px 3px 1px rgba(0, 0, 0, 0.15);\n",
              "      filter: drop-shadow(0px 1px 2px rgba(0, 0, 0, 0.3));\n",
              "      fill: #FFFFFF;\n",
              "    }\n",
              "  </style>\n",
              "\n",
              "      <script>\n",
              "        const buttonEl =\n",
              "          document.querySelector('#df-418d6248-3022-47f5-8eaf-f610406ea068 button.colab-df-convert');\n",
              "        buttonEl.style.display =\n",
              "          google.colab.kernel.accessAllowed ? 'block' : 'none';\n",
              "\n",
              "        async function convertToInteractive(key) {\n",
              "          const element = document.querySelector('#df-418d6248-3022-47f5-8eaf-f610406ea068');\n",
              "          const dataTable =\n",
              "            await google.colab.kernel.invokeFunction('convertToInteractive',\n",
              "                                                     [key], {});\n",
              "          if (!dataTable) return;\n",
              "\n",
              "          const docLinkHtml = 'Like what you see? Visit the ' +\n",
              "            '<a target=\"_blank\" href=https://colab.research.google.com/notebooks/data_table.ipynb>data table notebook</a>'\n",
              "            + ' to learn more about interactive tables.';\n",
              "          element.innerHTML = '';\n",
              "          dataTable['output_type'] = 'display_data';\n",
              "          await google.colab.output.renderOutput(dataTable, element);\n",
              "          const docLink = document.createElement('div');\n",
              "          docLink.innerHTML = docLinkHtml;\n",
              "          element.appendChild(docLink);\n",
              "        }\n",
              "      </script>\n",
              "    </div>\n",
              "  </div>\n",
              "  "
            ]
          },
          "metadata": {},
          "execution_count": 60
        }
      ],
      "source": [
        "print(\"The median for Rating column is:\",df['Rating'].median())\n",
        "print(\"The mean for Rating column is:\",round(df['Rating'].mean(), 2))\n",
        "print(\"The mode for Rating column is:\",df['Rating'].mode())\n",
        "\n",
        "round(df.describe(),2)"
      ]
    },
    {
      "cell_type": "markdown",
      "source": [
        "Next, we are going to explore distributions of the \"Rating\" column by using a histogram. We could see that most games are being left unrayed by players."
      ],
      "metadata": {
        "id": "Wwi6-J_50GKw"
      }
    },
    {
      "cell_type": "code",
      "execution_count": null,
      "metadata": {
        "colab": {
          "base_uri": "https://localhost:8080/",
          "height": 316
        },
        "id": "-Scf_lKnVJJ7",
        "outputId": "460aeeb1-dbd6-4a7a-b00f-2748b7fe8199"
      },
      "outputs": [
        {
          "output_type": "execute_result",
          "data": {
            "text/plain": [
              "array([[<matplotlib.axes._subplots.AxesSubplot object at 0x7f791dbe81f0>]],\n",
              "      dtype=object)"
            ]
          },
          "metadata": {},
          "execution_count": 61
        },
        {
          "output_type": "display_data",
          "data": {
            "text/plain": [
              "<Figure size 432x288 with 1 Axes>"
            ],
            "image/png": "[encoded data removed]"
          },
          "metadata": {
            "needs_background": "light"
          }
        }
      ],
      "source": [
        "df.hist(column='Rating')"
      ]
    },
    {
      "cell_type": "markdown",
      "metadata": {
        "id": "Dn_AW-5uVJJ7"
      },
      "source": [
        "Get the distribution of rating reviews of different categories"
      ]
    },
    {
      "cell_type": "code",
      "execution_count": null,
      "metadata": {
        "colab": {
          "base_uri": "https://localhost:8080/"
        },
        "id": "c7fugjWzVJJ7",
        "outputId": "5677c3b1-6ac3-4488-efe0-8ba5993e3a36"
      },
      "outputs": [
        {
          "output_type": "execute_result",
          "data": {
            "text/plain": [
              "Education                  241076\n",
              "Music & Audio              154899\n",
              "Tools                      143973\n",
              "Business                   143761\n",
              "Entertainment              138267\n",
              "Lifestyle                  118324\n",
              "Books & Reference          116726\n",
              "Personalization             89209\n",
              "Health & Fitness            83500\n",
              "Productivity                79686\n",
              "Shopping                    75250\n",
              "Food & Drink                73919\n",
              "Travel & Local              67281\n",
              "Finance                     65454\n",
              "Arcade                      53780\n",
              "Puzzle                      51152\n",
              "Casual                      50794\n",
              "Communication               48159\n",
              "Sports                      47474\n",
              "Social                      44725\n",
              "News & Magazines            42803\n",
              "Photography                 35552\n",
              "Medical                     32063\n",
              "Action                      27541\n",
              "Maps & Navigation           26722\n",
              "Simulation                  23268\n",
              "Adventure                   23193\n",
              "Educational                 21302\n",
              "Art & Design                18536\n",
              "Auto & Vehicles             18276\n",
              "House & Home                14368\n",
              "Video Players & Editors     14014\n",
              "Events                      12839\n",
              "Trivia                      11793\n",
              "Beauty                      11771\n",
              "Board                       10588\n",
              "Racing                      10361\n",
              "Role Playing                10008\n",
              "Word                         8627\n",
              "Strategy                     8517\n",
              "Card                         8176\n",
              "Weather                      7245\n",
              "Dating                       6523\n",
              "Libraries & Demo             5196\n",
              "Casino                       5076\n",
              "Music                        4201\n",
              "Parenting                    3810\n",
              "Comics                       2862\n",
              "Name: Category, dtype: int64"
            ]
          },
          "metadata": {},
          "execution_count": 62
        }
      ],
      "source": [
        "df[\"Category\"].value_counts()"
      ]
    },
    {
      "cell_type": "code",
      "execution_count": null,
      "metadata": {
        "colab": {
          "base_uri": "https://localhost:8080/",
          "height": 605
        },
        "id": "pPnlFwy2VJJ7",
        "outputId": "469357b1-b3f4-44df-94e4-407a79154c4f"
      },
      "outputs": [
        {
          "output_type": "display_data",
          "data": {
            "text/plain": [
              "<Figure size 720x576 with 1 Axes>"
            ],
            "image/png": "[encoded data removed]"
          },
          "metadata": {
            "needs_background": "light"
          }
        }
      ],
      "source": [
        "df[\"Category\"].value_counts().plot(kind='bar',\n",
        "                                       figsize=(10, 8),\n",
        "                                       ylabel=\"Number of applications\",\n",
        "                                       title=\"Application Distribution\",\n",
        "                                      );"
      ]
    },
    {
      "cell_type": "markdown",
      "metadata": {
        "id": "rN1bUu8RVJJ7"
      },
      "source": [
        "Explore the rating distribution of all categories"
      ]
    },
    {
      "cell_type": "code",
      "execution_count": null,
      "metadata": {
        "colab": {
          "base_uri": "https://localhost:8080/",
          "height": 396
        },
        "id": "kMrm6CiAVJJ8",
        "outputId": "9f356e92-aaec-45b7-b33c-7c8f97ebc56f"
      },
      "outputs": [
        {
          "output_type": "display_data",
          "data": {
            "text/plain": [
              "<Figure size 576x432 with 1 Axes>"
            ],
            "image/png": "[encoded data removed]"
          },
          "metadata": {
            "needs_background": "light"
          }
        }
      ],
      "source": [
        "df[\"Rating\"].value_counts().plot(kind='bar',\n",
        "                                     figsize=(8, 6),\n",
        "                                     ylabel=\"Number of ratings\",\n",
        "                                    title=\"Rating Distribution\");"
      ]
    },
    {
      "cell_type": "code",
      "execution_count": null,
      "metadata": {
        "id": "RSt7KlcfVJJ8",
        "colab": {
          "base_uri": "https://localhost:8080/"
        },
        "outputId": "8fec1b77-6540-4830-810c-4f60e9d7fd9a"
      },
      "outputs": [
        {
          "output_type": "stream",
          "name": "stdout",
          "text": [
            "Average Rating: 2.2\n"
          ]
        }
      ],
      "source": [
        "avgRating = df[\"Rating\"].mean().round(2)\n",
        "print(f\"Average Rating: {avgRating}\")"
      ]
    },
    {
      "cell_type": "code",
      "source": [
        "df.pivot_table(index='Category', values='Rating', aggfunc='mean') \\\n",
        "    .plot(kind='bar', ylabel=\"Average Rating\",\n",
        "          title=\"Rating Distribution\", figsize=(15, 5),\n",
        "         );"
      ],
      "metadata": {
        "colab": {
          "base_uri": "https://localhost:8080/",
          "height": 456
        },
        "id": "MkiCr3wR0sfG",
        "outputId": "a457b163-fc01-4677-e0e7-f0ba26e1ec41"
      },
      "execution_count": null,
      "outputs": [
        {
          "output_type": "display_data",
          "data": {
            "text/plain": [
              "<Figure size 1080x360 with 1 Axes>"
            ],
            "image/png": "[encoded data removed]"
          },
          "metadata": {
            "needs_background": "light"
          }
        }
      ]
    },
    {
      "cell_type": "markdown",
      "metadata": {
        "id": "E0U3IWm8VJJ9"
      },
      "source": [
        "## Asking and Answering Questions\n",
        "\n",
        "\n"
      ]
    },
    {
      "cell_type": "markdown",
      "metadata": {
        "id": "7Lor5rHMVJJ9"
      },
      "source": [
        "#### Q1: How many categories are there \n",
        "> To answer this question, we must use the 'Unique' function to only indentify and calculate the unique name of category and discard any duplicate."
      ]
    },
    {
      "cell_type": "code",
      "execution_count": null,
      "metadata": {
        "id": "D-PdOKqCVJJ9",
        "colab": {
          "base_uri": "https://localhost:8080/"
        },
        "outputId": "3b462824-f60b-40d4-f653-4bc47e8e14aa"
      },
      "outputs": [
        {
          "output_type": "stream",
          "name": "stdout",
          "text": [
            "There are  48 categories apps\n"
          ]
        }
      ],
      "source": [
        "df.Category.unique()\n",
        "print(\"There are \", len(df.Category.unique()), \"categories apps\")"
      ]
    },
    {
      "cell_type": "markdown",
      "metadata": {
        "id": "c_REVnrhVJJ-"
      },
      "source": [
        "#### Q2: Which category has the least number of apps\n",
        "\n",
        ">We would like to focus on the infamous game category among game developers. "
      ]
    },
    {
      "cell_type": "code",
      "execution_count": null,
      "metadata": {
        "id": "ShA3QyQpVJJ-",
        "colab": {
          "base_uri": "https://localhost:8080/"
        },
        "outputId": "4745e66e-f6e1-40e4-844e-4f12d6e59c22"
      },
      "outputs": [
        {
          "output_type": "execute_result",
          "data": {
            "text/plain": [
              "Word                8627\n",
              "Strategy            8517\n",
              "Card                8176\n",
              "Weather             7245\n",
              "Dating              6523\n",
              "Libraries & Demo    5196\n",
              "Casino              5076\n",
              "Music               4201\n",
              "Parenting           3810\n",
              "Comics              2862\n",
              "Name: Category, dtype: int64"
            ]
          },
          "metadata": {},
          "execution_count": 68
        }
      ],
      "source": [
        "categories_by_apps = df.Category.value_counts()\n",
        "categories_by_apps[-10:]"
      ]
    },
    {
      "cell_type": "markdown",
      "source": [
        ">We now visualize the data previously acquired using bar chart to understand the actual situation of each category labeled as 'Least Develop Game Category'. These are the number of apps that are currently available in Google Store which is quite a few."
      ],
      "metadata": {
        "id": "Ywvz4NCN35y-"
      }
    },
    {
      "cell_type": "code",
      "execution_count": null,
      "metadata": {
        "id": "dvyLd9MdVJJ-",
        "colab": {
          "base_uri": "https://localhost:8080/",
          "height": 298
        },
        "outputId": "bc5fc286-c836-4c45-be15-a3c8bc784cb0"
      },
      "outputs": [
        {
          "output_type": "execute_result",
          "data": {
            "text/plain": [
              "<bound method _AxesBase.invert_yaxis of <matplotlib.axes._subplots.AxesSubplot object at 0x7f79212e4c40>>"
            ]
          },
          "metadata": {},
          "execution_count": 69
        },
        {
          "output_type": "display_data",
          "data": {
            "text/plain": [
              "<Figure size 432x288 with 1 Axes>"
            ],
            "image/png": "[encoded data removed]"
          },
          "metadata": {
            "needs_background": "light"
          }
        }
      ],
      "source": [
        "categories_by_apps[-10:].plot(kind = 'barh', title = 'Least Develop Game Category').invert_yaxis"
      ]
    },
    {
      "cell_type": "markdown",
      "metadata": {
        "id": "ya3o0SurVJJ-"
      },
      "source": [
        "#### Q3: Which category has the most installs\n",
        "\n",
        ">We would like to know the number of most installed apps by category."
      ]
    },
    {
      "cell_type": "code",
      "execution_count": null,
      "metadata": {
        "id": "CaF9SiPeVJJ-",
        "colab": {
          "base_uri": "https://localhost:8080/",
          "height": 394
        },
        "outputId": "585c5166-af1d-4bf1-ceda-758d6d0deb14"
      },
      "outputs": [
        {
          "output_type": "execute_result",
          "data": {
            "text/plain": [
              "                         Maximum Installs\n",
              "Category                                 \n",
              "Tools                        119849243219\n",
              "Communication                 72306400652\n",
              "Productivity                  45368315275\n",
              "Entertainment                 32544846400\n",
              "Social                        32216874545\n",
              "Photography                   31590959146\n",
              "Video Players & Editors       31439400657\n",
              "Action                        30741147359\n",
              "Casual                        30524713462\n",
              "Arcade                        25681532829"
            ],
            "text/html": [
              "\n",
              "  <div id=\"df-e311e802-50b8-4b7b-b084-a6082f065bff\">\n",
              "    <div class=\"colab-df-container\">\n",
              "      <div>\n",
              "<style scoped>\n",
              "    .dataframe tbody tr th:only-of-type {\n",
              "        vertical-align: middle;\n",
              "    }\n",
              "\n",
              "    .dataframe tbody tr th {\n",
              "        vertical-align: top;\n",
              "    }\n",
              "\n",
              "    .dataframe thead th {\n",
              "        text-align: right;\n",
              "    }\n",
              "</style>\n",
              "<table border=\"1\" class=\"dataframe\">\n",
              "  <thead>\n",
              "    <tr style=\"text-align: right;\">\n",
              "      <th></th>\n",
              "      <th>Maximum Installs</th>\n",
              "    </tr>\n",
              "    <tr>\n",
              "      <th>Category</th>\n",
              "      <th></th>\n",
              "    </tr>\n",
              "  </thead>\n",
              "  <tbody>\n",
              "    <tr>\n",
              "      <th>Tools</th>\n",
              "      <td>119849243219</td>\n",
              "    </tr>\n",
              "    <tr>\n",
              "      <th>Communication</th>\n",
              "      <td>72306400652</td>\n",
              "    </tr>\n",
              "    <tr>\n",
              "      <th>Productivity</th>\n",
              "      <td>45368315275</td>\n",
              "    </tr>\n",
              "    <tr>\n",
              "      <th>Entertainment</th>\n",
              "      <td>32544846400</td>\n",
              "    </tr>\n",
              "    <tr>\n",
              "      <th>Social</th>\n",
              "      <td>32216874545</td>\n",
              "    </tr>\n",
              "    <tr>\n",
              "      <th>Photography</th>\n",
              "      <td>31590959146</td>\n",
              "    </tr>\n",
              "    <tr>\n",
              "      <th>Video Players &amp; Editors</th>\n",
              "      <td>31439400657</td>\n",
              "    </tr>\n",
              "    <tr>\n",
              "      <th>Action</th>\n",
              "      <td>30741147359</td>\n",
              "    </tr>\n",
              "    <tr>\n",
              "      <th>Casual</th>\n",
              "      <td>30524713462</td>\n",
              "    </tr>\n",
              "    <tr>\n",
              "      <th>Arcade</th>\n",
              "      <td>25681532829</td>\n",
              "    </tr>\n",
              "  </tbody>\n",
              "</table>\n",
              "</div>\n",
              "      <button class=\"colab-df-convert\" onclick=\"convertToInteractive('df-e311e802-50b8-4b7b-b084-a6082f065bff')\"\n",
              "              title=\"Convert this dataframe to an interactive table.\"\n",
              "              style=\"display:none;\">\n",
              "        \n",
              "  <svg xmlns=\"http://www.w3.org/2000/svg\" height=\"24px\"viewBox=\"0 0 24 24\"\n",
              "       width=\"24px\">\n",
              "    <path d=\"M0 0h24v24H0V0z\" fill=\"none\"/>\n",
              "    <path d=\"M18.56 5.44l.94 2.06.94-2.06 2.06-.94-2.06-.94-.94-2.06-.94 2.06-2.06.94zm-11 1L8.5 8.5l.94-2.06 2.06-.94-2.06-.94L8.5 2.5l-.94 2.06-2.06.94zm10 10l.94 2.06.94-2.06 2.06-.94-2.06-.94-.94-2.06-.94 2.06-2.06.94z\"/><path d=\"M17.41 7.96l-1.37-1.37c-.4-.4-.92-.59-1.43-.59-.52 0-1.04.2-1.43.59L10.3 9.45l-7.72 7.72c-.78.78-.78 2.05 0 2.83L4 21.41c.39.39.9.59 1.41.59.51 0 1.02-.2 1.41-.59l7.78-7.78 2.81-2.81c.8-.78.8-2.07 0-2.86zM5.41 20L4 18.59l7.72-7.72 1.47 1.35L5.41 20z\"/>\n",
              "  </svg>\n",
              "      </button>\n",
              "      \n",
              "  <style>\n",
              "    .colab-df-container {\n",
              "      display:flex;\n",
              "      flex-wrap:wrap;\n",
              "      gap: 12px;\n",
              "    }\n",
              "\n",
              "    .colab-df-convert {\n",
              "      background-color: #E8F0FE;\n",
              "      border: none;\n",
              "      border-radius: 50%;\n",
              "      cursor: pointer;\n",
              "      display: none;\n",
              "      fill: #1967D2;\n",
              "      height: 32px;\n",
              "      padding: 0 0 0 0;\n",
              "      width: 32px;\n",
              "    }\n",
              "\n",
              "    .colab-df-convert:hover {\n",
              "      background-color: #E2EBFA;\n",
              "      box-shadow: 0px 1px 2px rgba(60, 64, 67, 0.3), 0px 1px 3px 1px rgba(60, 64, 67, 0.15);\n",
              "      fill: #174EA6;\n",
              "    }\n",
              "\n",
              "    [theme=dark] .colab-df-convert {\n",
              "      background-color: #3B4455;\n",
              "      fill: #D2E3FC;\n",
              "    }\n",
              "\n",
              "    [theme=dark] .colab-df-convert:hover {\n",
              "      background-color: #434B5C;\n",
              "      box-shadow: 0px 1px 3px 1px rgba(0, 0, 0, 0.15);\n",
              "      filter: drop-shadow(0px 1px 2px rgba(0, 0, 0, 0.3));\n",
              "      fill: #FFFFFF;\n",
              "    }\n",
              "  </style>\n",
              "\n",
              "      <script>\n",
              "        const buttonEl =\n",
              "          document.querySelector('#df-e311e802-50b8-4b7b-b084-a6082f065bff button.colab-df-convert');\n",
              "        buttonEl.style.display =\n",
              "          google.colab.kernel.accessAllowed ? 'block' : 'none';\n",
              "\n",
              "        async function convertToInteractive(key) {\n",
              "          const element = document.querySelector('#df-e311e802-50b8-4b7b-b084-a6082f065bff');\n",
              "          const dataTable =\n",
              "            await google.colab.kernel.invokeFunction('convertToInteractive',\n",
              "                                                     [key], {});\n",
              "          if (!dataTable) return;\n",
              "\n",
              "          const docLinkHtml = 'Like what you see? Visit the ' +\n",
              "            '<a target=\"_blank\" href=https://colab.research.google.com/notebooks/data_table.ipynb>data table notebook</a>'\n",
              "            + ' to learn more about interactive tables.';\n",
              "          element.innerHTML = '';\n",
              "          dataTable['output_type'] = 'display_data';\n",
              "          await google.colab.output.renderOutput(dataTable, element);\n",
              "          const docLink = document.createElement('div');\n",
              "          docLink.innerHTML = docLinkHtml;\n",
              "          element.appendChild(docLink);\n",
              "        }\n",
              "      </script>\n",
              "    </div>\n",
              "  </div>\n",
              "  "
            ]
          },
          "metadata": {},
          "execution_count": 70
        }
      ],
      "source": [
        "category_installs = df.groupby(['Category'])[['Maximum Installs']].sum().sort_values(by = 'Maximum Installs', ascending = False)\n",
        "category_installs.head(10)"
      ]
    },
    {
      "cell_type": "code",
      "execution_count": null,
      "metadata": {
        "id": "bGV1nEzqVJJ-",
        "colab": {
          "base_uri": "https://localhost:8080/",
          "height": 414
        },
        "outputId": "3771c0b2-79aa-4fbb-dc25-2fa5f9207c68"
      },
      "outputs": [
        {
          "output_type": "execute_result",
          "data": {
            "text/plain": [
              "<matplotlib.axes._subplots.AxesSubplot at 0x7f79204c58e0>"
            ]
          },
          "metadata": {},
          "execution_count": 71
        },
        {
          "output_type": "display_data",
          "data": {
            "text/plain": [
              "<Figure size 432x288 with 1 Axes>"
            ],
            "image/png": "[encoded data removed]"
          },
          "metadata": {
            "needs_background": "light"
          }
        }
      ],
      "source": [
        "category_installs.head(10).plot(kind = 'bar')"
      ]
    },
    {
      "cell_type": "markdown",
      "metadata": {
        "id": "p4CcVO1TVJJ-"
      },
      "source": [
        "#### Q4: Does free apps have higher ratings than paid apps\n",
        "\n",
        ">Does free games have a higher rating than the free games? We would like to find the correlation between these two variables. As the result below shows, the relationship is not significant."
      ]
    },
    {
      "cell_type": "code",
      "execution_count": null,
      "metadata": {
        "id": "Wa96BGX1VJJ-",
        "colab": {
          "base_uri": "https://localhost:8080/",
          "height": 424
        },
        "outputId": "9b6e034d-dbe3-458d-a9e2-1f1f2870ff44"
      },
      "outputs": [
        {
          "output_type": "execute_result",
          "data": {
            "text/plain": [
              "         Rating  Free  Rating Count\n",
              "9           4.7  True         820.0\n",
              "12          3.9  True         118.0\n",
              "14          3.7  True        1572.0\n",
              "18          3.7  True         328.0\n",
              "22          4.4  True         211.0\n",
              "...         ...   ...           ...\n",
              "2312913     2.0  True        1687.0\n",
              "2312931     2.8  True        1002.0\n",
              "2312932     4.3  True      103466.0\n",
              "2312933     4.0  True         344.0\n",
              "2312939     4.3  True       16775.0\n",
              "\n",
              "[423588 rows x 3 columns]"
            ],
            "text/html": [
              "\n",
              "  <div id=\"df-178aa8ae-f8e5-44c6-8556-a2be4ae31c63\">\n",
              "    <div class=\"colab-df-container\">\n",
              "      <div>\n",
              "<style scoped>\n",
              "    .dataframe tbody tr th:only-of-type {\n",
              "        vertical-align: middle;\n",
              "    }\n",
              "\n",
              "    .dataframe tbody tr th {\n",
              "        vertical-align: top;\n",
              "    }\n",
              "\n",
              "    .dataframe thead th {\n",
              "        text-align: right;\n",
              "    }\n",
              "</style>\n",
              "<table border=\"1\" class=\"dataframe\">\n",
              "  <thead>\n",
              "    <tr style=\"text-align: right;\">\n",
              "      <th></th>\n",
              "      <th>Rating</th>\n",
              "      <th>Free</th>\n",
              "      <th>Rating Count</th>\n",
              "    </tr>\n",
              "  </thead>\n",
              "  <tbody>\n",
              "    <tr>\n",
              "      <th>9</th>\n",
              "      <td>4.7</td>\n",
              "      <td>True</td>\n",
              "      <td>820.0</td>\n",
              "    </tr>\n",
              "    <tr>\n",
              "      <th>12</th>\n",
              "      <td>3.9</td>\n",
              "      <td>True</td>\n",
              "      <td>118.0</td>\n",
              "    </tr>\n",
              "    <tr>\n",
              "      <th>14</th>\n",
              "      <td>3.7</td>\n",
              "      <td>True</td>\n",
              "      <td>1572.0</td>\n",
              "    </tr>\n",
              "    <tr>\n",
              "      <th>18</th>\n",
              "      <td>3.7</td>\n",
              "      <td>True</td>\n",
              "      <td>328.0</td>\n",
              "    </tr>\n",
              "    <tr>\n",
              "      <th>22</th>\n",
              "      <td>4.4</td>\n",
              "      <td>True</td>\n",
              "      <td>211.0</td>\n",
              "    </tr>\n",
              "    <tr>\n",
              "      <th>...</th>\n",
              "      <td>...</td>\n",
              "      <td>...</td>\n",
              "      <td>...</td>\n",
              "    </tr>\n",
              "    <tr>\n",
              "      <th>2312913</th>\n",
              "      <td>2.0</td>\n",
              "      <td>True</td>\n",
              "      <td>1687.0</td>\n",
              "    </tr>\n",
              "    <tr>\n",
              "      <th>2312931</th>\n",
              "      <td>2.8</td>\n",
              "      <td>True</td>\n",
              "      <td>1002.0</td>\n",
              "    </tr>\n",
              "    <tr>\n",
              "      <th>2312932</th>\n",
              "      <td>4.3</td>\n",
              "      <td>True</td>\n",
              "      <td>103466.0</td>\n",
              "    </tr>\n",
              "    <tr>\n",
              "      <th>2312933</th>\n",
              "      <td>4.0</td>\n",
              "      <td>True</td>\n",
              "      <td>344.0</td>\n",
              "    </tr>\n",
              "    <tr>\n",
              "      <th>2312939</th>\n",
              "      <td>4.3</td>\n",
              "      <td>True</td>\n",
              "      <td>16775.0</td>\n",
              "    </tr>\n",
              "  </tbody>\n",
              "</table>\n",
              "<p>423588 rows × 3 columns</p>\n",
              "</div>\n",
              "      <button class=\"colab-df-convert\" onclick=\"convertToInteractive('df-178aa8ae-f8e5-44c6-8556-a2be4ae31c63')\"\n",
              "              title=\"Convert this dataframe to an interactive table.\"\n",
              "              style=\"display:none;\">\n",
              "        \n",
              "  <svg xmlns=\"http://www.w3.org/2000/svg\" height=\"24px\"viewBox=\"0 0 24 24\"\n",
              "       width=\"24px\">\n",
              "    <path d=\"M0 0h24v24H0V0z\" fill=\"none\"/>\n",
              "    <path d=\"M18.56 5.44l.94 2.06.94-2.06 2.06-.94-2.06-.94-.94-2.06-.94 2.06-2.06.94zm-11 1L8.5 8.5l.94-2.06 2.06-.94-2.06-.94L8.5 2.5l-.94 2.06-2.06.94zm10 10l.94 2.06.94-2.06 2.06-.94-2.06-.94-.94-2.06-.94 2.06-2.06.94z\"/><path d=\"M17.41 7.96l-1.37-1.37c-.4-.4-.92-.59-1.43-.59-.52 0-1.04.2-1.43.59L10.3 9.45l-7.72 7.72c-.78.78-.78 2.05 0 2.83L4 21.41c.39.39.9.59 1.41.59.51 0 1.02-.2 1.41-.59l7.78-7.78 2.81-2.81c.8-.78.8-2.07 0-2.86zM5.41 20L4 18.59l7.72-7.72 1.47 1.35L5.41 20z\"/>\n",
              "  </svg>\n",
              "      </button>\n",
              "      \n",
              "  <style>\n",
              "    .colab-df-container {\n",
              "      display:flex;\n",
              "      flex-wrap:wrap;\n",
              "      gap: 12px;\n",
              "    }\n",
              "\n",
              "    .colab-df-convert {\n",
              "      background-color: #E8F0FE;\n",
              "      border: none;\n",
              "      border-radius: 50%;\n",
              "      cursor: pointer;\n",
              "      display: none;\n",
              "      fill: #1967D2;\n",
              "      height: 32px;\n",
              "      padding: 0 0 0 0;\n",
              "      width: 32px;\n",
              "    }\n",
              "\n",
              "    .colab-df-convert:hover {\n",
              "      background-color: #E2EBFA;\n",
              "      box-shadow: 0px 1px 2px rgba(60, 64, 67, 0.3), 0px 1px 3px 1px rgba(60, 64, 67, 0.15);\n",
              "      fill: #174EA6;\n",
              "    }\n",
              "\n",
              "    [theme=dark] .colab-df-convert {\n",
              "      background-color: #3B4455;\n",
              "      fill: #D2E3FC;\n",
              "    }\n",
              "\n",
              "    [theme=dark] .colab-df-convert:hover {\n",
              "      background-color: #434B5C;\n",
              "      box-shadow: 0px 1px 3px 1px rgba(0, 0, 0, 0.15);\n",
              "      filter: drop-shadow(0px 1px 2px rgba(0, 0, 0, 0.3));\n",
              "      fill: #FFFFFF;\n",
              "    }\n",
              "  </style>\n",
              "\n",
              "      <script>\n",
              "        const buttonEl =\n",
              "          document.querySelector('#df-178aa8ae-f8e5-44c6-8556-a2be4ae31c63 button.colab-df-convert');\n",
              "        buttonEl.style.display =\n",
              "          google.colab.kernel.accessAllowed ? 'block' : 'none';\n",
              "\n",
              "        async function convertToInteractive(key) {\n",
              "          const element = document.querySelector('#df-178aa8ae-f8e5-44c6-8556-a2be4ae31c63');\n",
              "          const dataTable =\n",
              "            await google.colab.kernel.invokeFunction('convertToInteractive',\n",
              "                                                     [key], {});\n",
              "          if (!dataTable) return;\n",
              "\n",
              "          const docLinkHtml = 'Like what you see? Visit the ' +\n",
              "            '<a target=\"_blank\" href=https://colab.research.google.com/notebooks/data_table.ipynb>data table notebook</a>'\n",
              "            + ' to learn more about interactive tables.';\n",
              "          element.innerHTML = '';\n",
              "          dataTable['output_type'] = 'display_data';\n",
              "          await google.colab.output.renderOutput(dataTable, element);\n",
              "          const docLink = document.createElement('div');\n",
              "          docLink.innerHTML = docLinkHtml;\n",
              "          element.appendChild(docLink);\n",
              "        }\n",
              "      </script>\n",
              "    </div>\n",
              "  </div>\n",
              "  "
            ]
          },
          "metadata": {},
          "execution_count": 72
        }
      ],
      "source": [
        "df_fp = df[['Rating', 'Free', 'Rating Count']]\n",
        "df_fp = df_fp[df_fp['Rating Count'] > 99]\n",
        "df_fp"
      ]
    },
    {
      "cell_type": "code",
      "execution_count": null,
      "metadata": {
        "id": "R_C78KePVJJ-",
        "colab": {
          "base_uri": "https://localhost:8080/"
        },
        "outputId": "48dc6f8e-2db7-4df1-d6f7-c76b817655d6"
      },
      "outputs": [
        {
          "output_type": "stream",
          "name": "stdout",
          "text": [
            "Paid apps mean: 4.137505267593763\n",
            "Free apps mean: 3.9252074398207184\n"
          ]
        }
      ],
      "source": [
        "p_mean = df_fp.loc[df_fp['Free'] == False, 'Rating'].mean()\n",
        "print(\"Paid apps mean:\", p_mean)\n",
        "f_mean = df_fp.loc[df_fp['Free'] == True, 'Rating'].mean()\n",
        "print(\"Free apps mean:\", f_mean)"
      ]
    },
    {
      "cell_type": "code",
      "execution_count": null,
      "metadata": {
        "id": "i4iTQAxBVJJ_",
        "colab": {
          "base_uri": "https://localhost:8080/",
          "height": 265
        },
        "outputId": "274d122c-50e2-493b-b821-10e513fb6e43"
      },
      "outputs": [
        {
          "output_type": "display_data",
          "data": {
            "text/plain": [
              "<Figure size 432x288 with 1 Axes>"
            ],
            "image/png": "[encoded data removed]"
          },
          "metadata": {
            "needs_background": "light"
          }
        }
      ],
      "source": [
        "import matplotlib.pyplot as plt\n",
        "plt.bar(['Free', 'Paid'], [f_mean, p_mean])\n",
        "plt.ylabel('Rating out of 5.0')\n",
        "plt.show()"
      ]
    },
    {
      "cell_type": "markdown",
      "metadata": {
        "id": "uFuZBqX1VJJ_"
      },
      "source": [
        "#### Q5: Does ad supported app have a higher rating compared to non-ad supported apps"
      ]
    },
    {
      "cell_type": "code",
      "execution_count": null,
      "metadata": {
        "id": "0XCOkgIHVJJ_",
        "colab": {
          "base_uri": "https://localhost:8080/",
          "height": 424
        },
        "outputId": "4c192e60-eef2-44f0-c3bf-274feb5d2447"
      },
      "outputs": [
        {
          "output_type": "execute_result",
          "data": {
            "text/plain": [
              "         Rating  Rating Count  Ad Supported\n",
              "9           4.7         820.0          True\n",
              "12          3.9         118.0          True\n",
              "14          3.7        1572.0         False\n",
              "18          3.7         328.0         False\n",
              "22          4.4         211.0          True\n",
              "...         ...           ...           ...\n",
              "2312913     2.0        1687.0         False\n",
              "2312931     2.8        1002.0          True\n",
              "2312932     4.3      103466.0          True\n",
              "2312933     4.0         344.0         False\n",
              "2312939     4.3       16775.0         False\n",
              "\n",
              "[423588 rows x 3 columns]"
            ],
            "text/html": [
              "\n",
              "  <div id=\"df-78824fd5-4230-4067-bccd-c8a4f3c08fd4\">\n",
              "    <div class=\"colab-df-container\">\n",
              "      <div>\n",
              "<style scoped>\n",
              "    .dataframe tbody tr th:only-of-type {\n",
              "        vertical-align: middle;\n",
              "    }\n",
              "\n",
              "    .dataframe tbody tr th {\n",
              "        vertical-align: top;\n",
              "    }\n",
              "\n",
              "    .dataframe thead th {\n",
              "        text-align: right;\n",
              "    }\n",
              "</style>\n",
              "<table border=\"1\" class=\"dataframe\">\n",
              "  <thead>\n",
              "    <tr style=\"text-align: right;\">\n",
              "      <th></th>\n",
              "      <th>Rating</th>\n",
              "      <th>Rating Count</th>\n",
              "      <th>Ad Supported</th>\n",
              "    </tr>\n",
              "  </thead>\n",
              "  <tbody>\n",
              "    <tr>\n",
              "      <th>9</th>\n",
              "      <td>4.7</td>\n",
              "      <td>820.0</td>\n",
              "      <td>True</td>\n",
              "    </tr>\n",
              "    <tr>\n",
              "      <th>12</th>\n",
              "      <td>3.9</td>\n",
              "      <td>118.0</td>\n",
              "      <td>True</td>\n",
              "    </tr>\n",
              "    <tr>\n",
              "      <th>14</th>\n",
              "      <td>3.7</td>\n",
              "      <td>1572.0</td>\n",
              "      <td>False</td>\n",
              "    </tr>\n",
              "    <tr>\n",
              "      <th>18</th>\n",
              "      <td>3.7</td>\n",
              "      <td>328.0</td>\n",
              "      <td>False</td>\n",
              "    </tr>\n",
              "    <tr>\n",
              "      <th>22</th>\n",
              "      <td>4.4</td>\n",
              "      <td>211.0</td>\n",
              "      <td>True</td>\n",
              "    </tr>\n",
              "    <tr>\n",
              "      <th>...</th>\n",
              "      <td>...</td>\n",
              "      <td>...</td>\n",
              "      <td>...</td>\n",
              "    </tr>\n",
              "    <tr>\n",
              "      <th>2312913</th>\n",
              "      <td>2.0</td>\n",
              "      <td>1687.0</td>\n",
              "      <td>False</td>\n",
              "    </tr>\n",
              "    <tr>\n",
              "      <th>2312931</th>\n",
              "      <td>2.8</td>\n",
              "      <td>1002.0</td>\n",
              "      <td>True</td>\n",
              "    </tr>\n",
              "    <tr>\n",
              "      <th>2312932</th>\n",
              "      <td>4.3</td>\n",
              "      <td>103466.0</td>\n",
              "      <td>True</td>\n",
              "    </tr>\n",
              "    <tr>\n",
              "      <th>2312933</th>\n",
              "      <td>4.0</td>\n",
              "      <td>344.0</td>\n",
              "      <td>False</td>\n",
              "    </tr>\n",
              "    <tr>\n",
              "      <th>2312939</th>\n",
              "      <td>4.3</td>\n",
              "      <td>16775.0</td>\n",
              "      <td>False</td>\n",
              "    </tr>\n",
              "  </tbody>\n",
              "</table>\n",
              "<p>423588 rows × 3 columns</p>\n",
              "</div>\n",
              "      <button class=\"colab-df-convert\" onclick=\"convertToInteractive('df-78824fd5-4230-4067-bccd-c8a4f3c08fd4')\"\n",
              "              title=\"Convert this dataframe to an interactive table.\"\n",
              "              style=\"display:none;\">\n",
              "        \n",
              "  <svg xmlns=\"http://www.w3.org/2000/svg\" height=\"24px\"viewBox=\"0 0 24 24\"\n",
              "       width=\"24px\">\n",
              "    <path d=\"M0 0h24v24H0V0z\" fill=\"none\"/>\n",
              "    <path d=\"M18.56 5.44l.94 2.06.94-2.06 2.06-.94-2.06-.94-.94-2.06-.94 2.06-2.06.94zm-11 1L8.5 8.5l.94-2.06 2.06-.94-2.06-.94L8.5 2.5l-.94 2.06-2.06.94zm10 10l.94 2.06.94-2.06 2.06-.94-2.06-.94-.94-2.06-.94 2.06-2.06.94z\"/><path d=\"M17.41 7.96l-1.37-1.37c-.4-.4-.92-.59-1.43-.59-.52 0-1.04.2-1.43.59L10.3 9.45l-7.72 7.72c-.78.78-.78 2.05 0 2.83L4 21.41c.39.39.9.59 1.41.59.51 0 1.02-.2 1.41-.59l7.78-7.78 2.81-2.81c.8-.78.8-2.07 0-2.86zM5.41 20L4 18.59l7.72-7.72 1.47 1.35L5.41 20z\"/>\n",
              "  </svg>\n",
              "      </button>\n",
              "      \n",
              "  <style>\n",
              "    .colab-df-container {\n",
              "      display:flex;\n",
              "      flex-wrap:wrap;\n",
              "      gap: 12px;\n",
              "    }\n",
              "\n",
              "    .colab-df-convert {\n",
              "      background-color: #E8F0FE;\n",
              "      border: none;\n",
              "      border-radius: 50%;\n",
              "      cursor: pointer;\n",
              "      display: none;\n",
              "      fill: #1967D2;\n",
              "      height: 32px;\n",
              "      padding: 0 0 0 0;\n",
              "      width: 32px;\n",
              "    }\n",
              "\n",
              "    .colab-df-convert:hover {\n",
              "      background-color: #E2EBFA;\n",
              "      box-shadow: 0px 1px 2px rgba(60, 64, 67, 0.3), 0px 1px 3px 1px rgba(60, 64, 67, 0.15);\n",
              "      fill: #174EA6;\n",
              "    }\n",
              "\n",
              "    [theme=dark] .colab-df-convert {\n",
              "      background-color: #3B4455;\n",
              "      fill: #D2E3FC;\n",
              "    }\n",
              "\n",
              "    [theme=dark] .colab-df-convert:hover {\n",
              "      background-color: #434B5C;\n",
              "      box-shadow: 0px 1px 3px 1px rgba(0, 0, 0, 0.15);\n",
              "      filter: drop-shadow(0px 1px 2px rgba(0, 0, 0, 0.3));\n",
              "      fill: #FFFFFF;\n",
              "    }\n",
              "  </style>\n",
              "\n",
              "      <script>\n",
              "        const buttonEl =\n",
              "          document.querySelector('#df-78824fd5-4230-4067-bccd-c8a4f3c08fd4 button.colab-df-convert');\n",
              "        buttonEl.style.display =\n",
              "          google.colab.kernel.accessAllowed ? 'block' : 'none';\n",
              "\n",
              "        async function convertToInteractive(key) {\n",
              "          const element = document.querySelector('#df-78824fd5-4230-4067-bccd-c8a4f3c08fd4');\n",
              "          const dataTable =\n",
              "            await google.colab.kernel.invokeFunction('convertToInteractive',\n",
              "                                                     [key], {});\n",
              "          if (!dataTable) return;\n",
              "\n",
              "          const docLinkHtml = 'Like what you see? Visit the ' +\n",
              "            '<a target=\"_blank\" href=https://colab.research.google.com/notebooks/data_table.ipynb>data table notebook</a>'\n",
              "            + ' to learn more about interactive tables.';\n",
              "          element.innerHTML = '';\n",
              "          dataTable['output_type'] = 'display_data';\n",
              "          await google.colab.output.renderOutput(dataTable, element);\n",
              "          const docLink = document.createElement('div');\n",
              "          docLink.innerHTML = docLinkHtml;\n",
              "          element.appendChild(docLink);\n",
              "        }\n",
              "      </script>\n",
              "    </div>\n",
              "  </div>\n",
              "  "
            ]
          },
          "metadata": {},
          "execution_count": 75
        }
      ],
      "source": [
        "df_ans = df[['Rating', 'Rating Count', 'Ad Supported']]\n",
        "df_ans = df_ans[df_ans['Rating Count'] > 99]\n",
        "df_ans"
      ]
    },
    {
      "cell_type": "code",
      "execution_count": null,
      "metadata": {
        "id": "xZWIg8jJVJJ_",
        "colab": {
          "base_uri": "https://localhost:8080/"
        },
        "outputId": "a1ae6533-d8cf-477b-b0fb-f5f37951271d"
      },
      "outputs": [
        {
          "output_type": "stream",
          "name": "stdout",
          "text": [
            "Mean for ad supported apps:  4.041396874127826\n",
            "Mean for non-ad supported apps:  3.7293839238498148\n"
          ]
        }
      ],
      "source": [
        "as_mean = df_ans.loc[df_ans['Ad Supported'] == True, 'Rating'].mean()\n",
        "print(\"Mean for ad supported apps: \", as_mean)\n",
        "nas_mean = df_ans.loc[df_ans['Ad Supported'] == False, 'Rating'].mean()\n",
        "print(\"Mean for non-ad supported apps: \", nas_mean)"
      ]
    },
    {
      "cell_type": "code",
      "execution_count": null,
      "metadata": {
        "id": "MMExemAYVJJ_",
        "colab": {
          "base_uri": "https://localhost:8080/",
          "height": 265
        },
        "outputId": "6cf8c20a-54c2-46c3-8eab-03c99c0672c1"
      },
      "outputs": [
        {
          "output_type": "display_data",
          "data": {
            "text/plain": [
              "<Figure size 432x288 with 1 Axes>"
            ],
            "image/png": "[encoded data removed]"
          },
          "metadata": {
            "needs_background": "light"
          }
        }
      ],
      "source": [
        "plt.bar(['Ad-Supported', 'Non Ad-Supported'], [as_mean, nas_mean])\n",
        "plt.ylabel('Rating out of 5.0')\n",
        "plt.show()"
      ]
    },
    {
      "cell_type": "markdown",
      "metadata": {
        "id": "VxoO755tVJJ_"
      },
      "source": [
        "## Inferences and Conclusion\n",
        "\n",
        ">We found that the correlation between paid and free version a any games do exist but the proof is not sound enough to give a definite conclusion as what players rated the games."
      ]
    },
    {
      "cell_type": "markdown",
      "metadata": {
        "id": "xfuc6sJgVJKA"
      },
      "source": [
        "## References and Future Work\n",
        "\n"
      ]
    }
  ],
  "metadata": {
    "colab": {
      "provenance": [],
      "include_colab_link": true
    },
    "kernelspec": {
      "display_name": "Python 3",
      "language": "python",
      "name": "python3"
    },
    "language_info": {
      "codemirror_mode": {
        "name": "ipython",
        "version": 3
      },
      "file_extension": ".py",
      "mimetype": "text/x-python",
      "name": "python",
      "nbconvert_exporter": "python",
      "pygments_lexer": "ipython3",
      "version": "3.8.5"
    }
  },
  "nbformat": 4,
  "nbformat_minor": 0
}

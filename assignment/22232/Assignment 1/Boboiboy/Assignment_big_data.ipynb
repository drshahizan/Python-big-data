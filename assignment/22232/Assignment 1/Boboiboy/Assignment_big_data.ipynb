{
  "cells": [
    {
      "cell_type": "markdown",
      "metadata": {
        "id": "view-in-github"
      },
      "source": [
        "<a href=\"https://colab.research.google.com/github/drshahizan/Python_Tutorial/blob/main/big%20data/Assignment_big_data.ipynb\" target=\"_parent\"><img src=\"https://colab.research.google.com/assets/colab-badge.svg\" alt=\"Open In Colab\"/></a>"
      ]
    },
    {
      "cell_type": "markdown",
      "source": [
        "**Group 4 Members:**\n",
        "1. **GOO YE JUI A20EC0191** \n",
        "2. **KELVIN EE A20EC0195**"
      ],
      "metadata": {
        "id": "RyT_gVRLIR1E"
      }
    },
    {
      "cell_type": "markdown",
      "metadata": {
        "id": "7F8DQl5dVJJ0"
      },
      "source": [
        "# Car Sales Dataset\n", 
        "\n",
        "In this project, we are going to do an exploratory data analysis of the car sales ads in Russia by region. We have found from https://www.kaggle.com/datasets/ekibee/car-sales-information?select=region25_en.csv. We will only use the dataset of region25_en.csv. The dataset is 310.82MB\n",
        "\n",
        "\n",
        "The technique/tool used we used in this EDA such as:\n",
        "\n",
        "pandas\n",
        "scipy\n",
        "numpy\n",
        "scikit-learn\n",
        "matplotlib.pyplot\n",
        "seaborn"
      ]
    },
    {
      "cell_type": "markdown",
      "metadata": {
        "id": "LxWzVndBVJJ1"
      },
      "source": [
        "## Downloading the Dataset\n",
        "\n",
        "**TODO** - \n",
        "\n",
        "1. **Create New API Token - It will download kaggle.json file on your machine.**\n",
        "\n",
        "2. **Run the command needed to upload kaggle.json.**\n",
        "\n",
        "3. **Make directory named kaggle and copy kaggle.json file there.**\n",
        "\n",
        "4. **Change the permissions of the file.**\n",
        "\n",
        "5. **Download the dataset chosen from kaggle using API command and list the files in the dataset.**\n",
        "\n",
        "6. **Extract the dataset and read the .csv that you want.**"
      ]
    },
    {
      "cell_type": "markdown",
      "metadata": {
        "id": "GhhO14GEVJJ2"
      },
      "source": [
        "Let's begin by downloading the data, and listing the files within the dataset."
      ]
    },
    {
      "cell_type": "code",
      "execution_count": 25,
      "metadata": {
        "id": "90nIoWQtVJJ3"
      },
      "outputs": [],
      "source": [
        " ! pip install -q kaggle"
      ]
    },
    {
      "cell_type": "code",
      "execution_count": 26,
      "metadata": {
        "id": "oAVmLuq2VJJ3",
        "colab": {
          "base_uri": "https://localhost:8080/",
          "height": 91
        },
        "outputId": "8b6786b4-b6a5-4d41-ba82-0f360dfeca4f"
      },
      "outputs": [
        {
          "output_type": "display_data",
          "data": {
            "text/plain": [
              "<IPython.core.display.HTML object>"
            ],
            "text/html": [
              "\n",
              "     <input type=\"file\" id=\"files-954c7453-8528-4537-8459-61cb06120e43\" name=\"files[]\" multiple disabled\n",
              "        style=\"border:none\" />\n",
              "     <output id=\"result-954c7453-8528-4537-8459-61cb06120e43\">\n",
              "      Upload widget is only available when the cell has been executed in the\n",
              "      current browser session. Please rerun this cell to enable.\n",
              "      </output>\n",
              "      <script>// Copyright 2017 Google LLC\n",
              "//\n",
              "// Licensed under the Apache License, Version 2.0 (the \"License\");\n",
              "// you may not use this file except in compliance with the License.\n",
              "// You may obtain a copy of the License at\n",
              "//\n",
              "//      http://www.apache.org/licenses/LICENSE-2.0\n",
              "//\n",
              "// Unless required by applicable law or agreed to in writing, software\n",
              "// distributed under the License is distributed on an \"AS IS\" BASIS,\n",
              "// WITHOUT WARRANTIES OR CONDITIONS OF ANY KIND, either express or implied.\n",
              "// See the License for the specific language governing permissions and\n",
              "// limitations under the License.\n",
              "\n",
              "/**\n",
              " * @fileoverview Helpers for google.colab Python module.\n",
              " */\n",
              "(function(scope) {\n",
              "function span(text, styleAttributes = {}) {\n",
              "  const element = document.createElement('span');\n",
              "  element.textContent = text;\n",
              "  for (const key of Object.keys(styleAttributes)) {\n",
              "    element.style[key] = styleAttributes[key];\n",
              "  }\n",
              "  return element;\n",
              "}\n",
              "\n",
              "// Max number of bytes which will be uploaded at a time.\n",
              "const MAX_PAYLOAD_SIZE = 100 * 1024;\n",
              "\n",
              "function _uploadFiles(inputId, outputId) {\n",
              "  const steps = uploadFilesStep(inputId, outputId);\n",
              "  const outputElement = document.getElementById(outputId);\n",
              "  // Cache steps on the outputElement to make it available for the next call\n",
              "  // to uploadFilesContinue from Python.\n",
              "  outputElement.steps = steps;\n",
              "\n",
              "  return _uploadFilesContinue(outputId);\n",
              "}\n",
              "\n",
              "// This is roughly an async generator (not supported in the browser yet),\n",
              "// where there are multiple asynchronous steps and the Python side is going\n",
              "// to poll for completion of each step.\n",
              "// This uses a Promise to block the python side on completion of each step,\n",
              "// then passes the result of the previous step as the input to the next step.\n",
              "function _uploadFilesContinue(outputId) {\n",
              "  const outputElement = document.getElementById(outputId);\n",
              "  const steps = outputElement.steps;\n",
              "\n",
              "  const next = steps.next(outputElement.lastPromiseValue);\n",
              "  return Promise.resolve(next.value.promise).then((value) => {\n",
              "    // Cache the last promise value to make it available to the next\n",
              "    // step of the generator.\n",
              "    outputElement.lastPromiseValue = value;\n",
              "    return next.value.response;\n",
              "  });\n",
              "}\n",
              "\n",
              "/**\n",
              " * Generator function which is called between each async step of the upload\n",
              " * process.\n",
              " * @param {string} inputId Element ID of the input file picker element.\n",
              " * @param {string} outputId Element ID of the output display.\n",
              " * @return {!Iterable<!Object>} Iterable of next steps.\n",
              " */\n",
              "function* uploadFilesStep(inputId, outputId) {\n",
              "  const inputElement = document.getElementById(inputId);\n",
              "  inputElement.disabled = false;\n",
              "\n",
              "  const outputElement = document.getElementById(outputId);\n",
              "  outputElement.innerHTML = '';\n",
              "\n",
              "  const pickedPromise = new Promise((resolve) => {\n",
              "    inputElement.addEventListener('change', (e) => {\n",
              "      resolve(e.target.files);\n",
              "    });\n",
              "  });\n",
              "\n",
              "  const cancel = document.createElement('button');\n",
              "  inputElement.parentElement.appendChild(cancel);\n",
              "  cancel.textContent = 'Cancel upload';\n",
              "  const cancelPromise = new Promise((resolve) => {\n",
              "    cancel.onclick = () => {\n",
              "      resolve(null);\n",
              "    };\n",
              "  });\n",
              "\n",
              "  // Wait for the user to pick the files.\n",
              "  const files = yield {\n",
              "    promise: Promise.race([pickedPromise, cancelPromise]),\n",
              "    response: {\n",
              "      action: 'starting',\n",
              "    }\n",
              "  };\n",
              "\n",
              "  cancel.remove();\n",
              "\n",
              "  // Disable the input element since further picks are not allowed.\n",
              "  inputElement.disabled = true;\n",
              "\n",
              "  if (!files) {\n",
              "    return {\n",
              "      response: {\n",
              "        action: 'complete',\n",
              "      }\n",
              "    };\n",
              "  }\n",
              "\n",
              "  for (const file of files) {\n",
              "    const li = document.createElement('li');\n",
              "    li.append(span(file.name, {fontWeight: 'bold'}));\n",
              "    li.append(span(\n",
              "        `(${file.type || 'n/a'}) - ${file.size} bytes, ` +\n",
              "        `last modified: ${\n",
              "            file.lastModifiedDate ? file.lastModifiedDate.toLocaleDateString() :\n",
              "                                    'n/a'} - `));\n",
              "    const percent = span('0% done');\n",
              "    li.appendChild(percent);\n",
              "\n",
              "    outputElement.appendChild(li);\n",
              "\n",
              "    const fileDataPromise = new Promise((resolve) => {\n",
              "      const reader = new FileReader();\n",
              "      reader.onload = (e) => {\n",
              "        resolve(e.target.result);\n",
              "      };\n",
              "      reader.readAsArrayBuffer(file);\n",
              "    });\n",
              "    // Wait for the data to be ready.\n",
              "    let fileData = yield {\n",
              "      promise: fileDataPromise,\n",
              "      response: {\n",
              "        action: 'continue',\n",
              "      }\n",
              "    };\n",
              "\n",
              "    // Use a chunked sending to avoid message size limits. See b/62115660.\n",
              "    let position = 0;\n",
              "    do {\n",
              "      const length = Math.min(fileData.byteLength - position, MAX_PAYLOAD_SIZE);\n",
              "      const chunk = new Uint8Array(fileData, position, length);\n",
              "      position += length;\n",
              "\n",
              "      const base64 = btoa(String.fromCharCode.apply(null, chunk));\n",
              "      yield {\n",
              "        response: {\n",
              "          action: 'append',\n",
              "          file: file.name,\n",
              "          data: base64,\n",
              "        },\n",
              "      };\n",
              "\n",
              "      let percentDone = fileData.byteLength === 0 ?\n",
              "          100 :\n",
              "          Math.round((position / fileData.byteLength) * 100);\n",
              "      percent.textContent = `${percentDone}% done`;\n",
              "\n",
              "    } while (position < fileData.byteLength);\n",
              "  }\n",
              "\n",
              "  // All done.\n",
              "  yield {\n",
              "    response: {\n",
              "      action: 'complete',\n",
              "    }\n",
              "  };\n",
              "}\n",
              "\n",
              "scope.google = scope.google || {};\n",
              "scope.google.colab = scope.google.colab || {};\n",
              "scope.google.colab._files = {\n",
              "  _uploadFiles,\n",
              "  _uploadFilesContinue,\n",
              "};\n",
              "})(self);\n",
              "</script> "
            ]
          },
          "metadata": {}
        },
        {
          "output_type": "stream",
          "name": "stdout",
          "text": [
            "Saving kaggle.json to kaggle.json\n"
          ]
        },
        {
          "output_type": "execute_result",
          "data": {
            "text/plain": [
              "{'kaggle.json': b'{\"username\":\"kelvinss\",\"key\":\"0d229d6fcb7eaf738cb61846b7812f33\"}'}"
            ]
          },
          "metadata": {},
          "execution_count": 26
        }
      ],
      "source": [
        "from google.colab import files\n",
        "\n",
        "files.upload()"
      ]
    },
    {
      "cell_type": "markdown",
      "metadata": {
        "id": "XXnPmr-JVJJ3"
      },
      "source": [
        "The dataset has been downloaded and extracted."
      ]
    },
    {
      "cell_type": "code",
      "execution_count": 27,
      "metadata": {
        "id": "uowAPeffVJJ4",
        "colab": {
          "base_uri": "https://localhost:8080/"
        },
        "outputId": "2cf1561d-dc6e-4461-ed38-34f3a2c6ec96"
      },
      "outputs": [
        {
          "output_type": "stream",
          "name": "stdout",
          "text": [
            "Warning: Your Kaggle API key is readable by other users on this system! To fix this, you can run 'chmod 600 /root/.kaggle/kaggle.json'\n",
            "Downloading car-sales-information.zip to /content\n",
            " 99% 913M/920M [00:09<00:00, 104MB/s] \n",
            "100% 920M/920M [00:09<00:00, 99.7MB/s]\n"
          ]
        }
      ],
      "source": [
        "!mkdir -p ~/.kaggle\n",
        "!cp kaggle.json ~/.kaggle/\n",
        "!kaggle datasets download -d ekibee/car-sales-information #link to download dataset"
      ]
    },
    {
      "cell_type": "code",
      "execution_count": 28,
      "metadata": {
        "id": "BEVbTciwVJJ4",
        "colab": {
          "base_uri": "https://localhost:8080/"
        },
        "outputId": "a4d4d1ce-069e-441d-d55b-189efc5a91f6"
      },
      "outputs": [
        {
          "output_type": "stream",
          "name": "stdout",
          "text": [
            "Archive:  /content/car-sales-information.zip\n",
            "  inflating: region25.csv            \n",
            "  inflating: region25_en.csv         \n",
            "  inflating: region41.csv            \n",
            "  inflating: region41_en.csv         \n"
          ]
        }
      ],
      "source": [
        "!unzip /content/car-sales-information.zip"
      ]
    },
    {
      "cell_type": "markdown",
      "metadata": {
        "id": "Jnx4zelxVJJ4"
      },
      "source": [
        "## LOAD the Dataset and do SAMPLING"
      ]
    },
    {
      "cell_type": "code",
      "execution_count": 2,
      "metadata": {
        "id": "nqciugWLVJJ4"
      },
      "outputs": [],
      "source": [
        "import pandas as pd\n",
        "import random as rd"
      ]
    },
    {
      "cell_type": "code",
      "execution_count": 29,
      "metadata": {
        "id": "8BlXZJt_VJJ5",
        "colab": {
          "base_uri": "https://localhost:8080/"
        },
        "outputId": "469cd9a3-f122-4c62-ae91-b65e759330e4"
      },
      "outputs": [
        {
          "output_type": "execute_result",
          "data": {
            "text/plain": [
              "brand                    object\n",
              "name                     object\n",
              "bodyType                 object\n",
              "color                    object\n",
              "fuelType                 object\n",
              "year                    float64\n",
              "mileage                 float64\n",
              "transmission             object\n",
              "power                   float64\n",
              "price                     int64\n",
              "vehicleConfiguration     object\n",
              "engineName               object\n",
              "engineDisplacement       object\n",
              "date                     object\n",
              "location                 object\n",
              "link                     object\n",
              "parse_date               object\n",
              "dtype: object"
            ]
          },
          "metadata": {},
          "execution_count": 29
        }
      ],
      "source": [
        "df = pd.read_csv('region25_en.csv')\n",
        "df.dtypes"
      ]
    },
    {
      "cell_type": "code",
      "execution_count": 30,
      "metadata": {
        "id": "fVjJerS1VJJ5",
        "colab": {
          "base_uri": "https://localhost:8080/"
        },
        "outputId": "7c020d61-caa9-4e67-8969-c236c06b8224"
      },
      "outputs": [
        {
          "output_type": "execute_result",
          "data": {
            "text/plain": [
              "0.19166183471679688"
            ]
          },
          "metadata": {},
          "execution_count": 30
        }
      ],
      "source": [
        "df.memory_usage().sum()/(1024*1024*1024)\n"
      ]
    },
    {
      "cell_type": "code",
      "source": [
        "df.describe()"
      ],
      "metadata": {
        "colab": {
          "base_uri": "https://localhost:8080/",
          "height": 300
        },
        "id": "yrQsVyTzPxy-",
        "outputId": "46672ddf-d6ef-4047-ac18-c3352057a135"
      },
      "execution_count": 31,
      "outputs": [
        {
          "output_type": "execute_result",
          "data": {
            "text/plain": [
              "               year       mileage         power         price\n",
              "count  1.102226e+06  1.498720e+06  1.492313e+06  1.513200e+06\n",
              "mean   2.010340e+03  1.342509e+05  1.458111e+02  1.368558e+06\n",
              "std    7.568868e+00  8.520383e+04  7.008858e+01  1.573677e+06\n",
              "min    1.943000e+03  1.000000e+03  9.000000e+00  1.500000e+04\n",
              "25%    2.007000e+03  7.400000e+04  9.900000e+01  5.050000e+05\n",
              "50%    2.012000e+03  1.240000e+05  1.320000e+02  8.570000e+05\n",
              "75%    2.016000e+03  1.850000e+05  1.700000e+02  1.685000e+06\n",
              "max    2.022000e+03  1.000000e+06  1.000000e+03  4.150000e+07"
            ],
            "text/html": [
              "\n",
              "  <div id=\"df-ba4f3af1-2391-49d9-837a-c132c2acc274\">\n",
              "    <div class=\"colab-df-container\">\n",
              "      <div>\n",
              "<style scoped>\n",
              "    .dataframe tbody tr th:only-of-type {\n",
              "        vertical-align: middle;\n",
              "    }\n",
              "\n",
              "    .dataframe tbody tr th {\n",
              "        vertical-align: top;\n",
              "    }\n",
              "\n",
              "    .dataframe thead th {\n",
              "        text-align: right;\n",
              "    }\n",
              "</style>\n",
              "<table border=\"1\" class=\"dataframe\">\n",
              "  <thead>\n",
              "    <tr style=\"text-align: right;\">\n",
              "      <th></th>\n",
              "      <th>year</th>\n",
              "      <th>mileage</th>\n",
              "      <th>power</th>\n",
              "      <th>price</th>\n",
              "    </tr>\n",
              "  </thead>\n",
              "  <tbody>\n",
              "    <tr>\n",
              "      <th>count</th>\n",
              "      <td>1.102226e+06</td>\n",
              "      <td>1.498720e+06</td>\n",
              "      <td>1.492313e+06</td>\n",
              "      <td>1.513200e+06</td>\n",
              "    </tr>\n",
              "    <tr>\n",
              "      <th>mean</th>\n",
              "      <td>2.010340e+03</td>\n",
              "      <td>1.342509e+05</td>\n",
              "      <td>1.458111e+02</td>\n",
              "      <td>1.368558e+06</td>\n",
              "    </tr>\n",
              "    <tr>\n",
              "      <th>std</th>\n",
              "      <td>7.568868e+00</td>\n",
              "      <td>8.520383e+04</td>\n",
              "      <td>7.008858e+01</td>\n",
              "      <td>1.573677e+06</td>\n",
              "    </tr>\n",
              "    <tr>\n",
              "      <th>min</th>\n",
              "      <td>1.943000e+03</td>\n",
              "      <td>1.000000e+03</td>\n",
              "      <td>9.000000e+00</td>\n",
              "      <td>1.500000e+04</td>\n",
              "    </tr>\n",
              "    <tr>\n",
              "      <th>25%</th>\n",
              "      <td>2.007000e+03</td>\n",
              "      <td>7.400000e+04</td>\n",
              "      <td>9.900000e+01</td>\n",
              "      <td>5.050000e+05</td>\n",
              "    </tr>\n",
              "    <tr>\n",
              "      <th>50%</th>\n",
              "      <td>2.012000e+03</td>\n",
              "      <td>1.240000e+05</td>\n",
              "      <td>1.320000e+02</td>\n",
              "      <td>8.570000e+05</td>\n",
              "    </tr>\n",
              "    <tr>\n",
              "      <th>75%</th>\n",
              "      <td>2.016000e+03</td>\n",
              "      <td>1.850000e+05</td>\n",
              "      <td>1.700000e+02</td>\n",
              "      <td>1.685000e+06</td>\n",
              "    </tr>\n",
              "    <tr>\n",
              "      <th>max</th>\n",
              "      <td>2.022000e+03</td>\n",
              "      <td>1.000000e+06</td>\n",
              "      <td>1.000000e+03</td>\n",
              "      <td>4.150000e+07</td>\n",
              "    </tr>\n",
              "  </tbody>\n",
              "</table>\n",
              "</div>\n",
              "      <button class=\"colab-df-convert\" onclick=\"convertToInteractive('df-ba4f3af1-2391-49d9-837a-c132c2acc274')\"\n",
              "              title=\"Convert this dataframe to an interactive table.\"\n",
              "              style=\"display:none;\">\n",
              "        \n",
              "  <svg xmlns=\"http://www.w3.org/2000/svg\" height=\"24px\"viewBox=\"0 0 24 24\"\n",
              "       width=\"24px\">\n",
              "    <path d=\"M0 0h24v24H0V0z\" fill=\"none\"/>\n",
              "    <path d=\"M18.56 5.44l.94 2.06.94-2.06 2.06-.94-2.06-.94-.94-2.06-.94 2.06-2.06.94zm-11 1L8.5 8.5l.94-2.06 2.06-.94-2.06-.94L8.5 2.5l-.94 2.06-2.06.94zm10 10l.94 2.06.94-2.06 2.06-.94-2.06-.94-.94-2.06-.94 2.06-2.06.94z\"/><path d=\"M17.41 7.96l-1.37-1.37c-.4-.4-.92-.59-1.43-.59-.52 0-1.04.2-1.43.59L10.3 9.45l-7.72 7.72c-.78.78-.78 2.05 0 2.83L4 21.41c.39.39.9.59 1.41.59.51 0 1.02-.2 1.41-.59l7.78-7.78 2.81-2.81c.8-.78.8-2.07 0-2.86zM5.41 20L4 18.59l7.72-7.72 1.47 1.35L5.41 20z\"/>\n",
              "  </svg>\n",
              "      </button>\n",
              "      \n",
              "  <style>\n",
              "    .colab-df-container {\n",
              "      display:flex;\n",
              "      flex-wrap:wrap;\n",
              "      gap: 12px;\n",
              "    }\n",
              "\n",
              "    .colab-df-convert {\n",
              "      background-color: #E8F0FE;\n",
              "      border: none;\n",
              "      border-radius: 50%;\n",
              "      cursor: pointer;\n",
              "      display: none;\n",
              "      fill: #1967D2;\n",
              "      height: 32px;\n",
              "      padding: 0 0 0 0;\n",
              "      width: 32px;\n",
              "    }\n",
              "\n",
              "    .colab-df-convert:hover {\n",
              "      background-color: #E2EBFA;\n",
              "      box-shadow: 0px 1px 2px rgba(60, 64, 67, 0.3), 0px 1px 3px 1px rgba(60, 64, 67, 0.15);\n",
              "      fill: #174EA6;\n",
              "    }\n",
              "\n",
              "    [theme=dark] .colab-df-convert {\n",
              "      background-color: #3B4455;\n",
              "      fill: #D2E3FC;\n",
              "    }\n",
              "\n",
              "    [theme=dark] .colab-df-convert:hover {\n",
              "      background-color: #434B5C;\n",
              "      box-shadow: 0px 1px 3px 1px rgba(0, 0, 0, 0.15);\n",
              "      filter: drop-shadow(0px 1px 2px rgba(0, 0, 0, 0.3));\n",
              "      fill: #FFFFFF;\n",
              "    }\n",
              "  </style>\n",
              "\n",
              "      <script>\n",
              "        const buttonEl =\n",
              "          document.querySelector('#df-ba4f3af1-2391-49d9-837a-c132c2acc274 button.colab-df-convert');\n",
              "        buttonEl.style.display =\n",
              "          google.colab.kernel.accessAllowed ? 'block' : 'none';\n",
              "\n",
              "        async function convertToInteractive(key) {\n",
              "          const element = document.querySelector('#df-ba4f3af1-2391-49d9-837a-c132c2acc274');\n",
              "          const dataTable =\n",
              "            await google.colab.kernel.invokeFunction('convertToInteractive',\n",
              "                                                     [key], {});\n",
              "          if (!dataTable) return;\n",
              "\n",
              "          const docLinkHtml = 'Like what you see? Visit the ' +\n",
              "            '<a target=\"_blank\" href=https://colab.research.google.com/notebooks/data_table.ipynb>data table notebook</a>'\n",
              "            + ' to learn more about interactive tables.';\n",
              "          element.innerHTML = '';\n",
              "          dataTable['output_type'] = 'display_data';\n",
              "          await google.colab.output.renderOutput(dataTable, element);\n",
              "          const docLink = document.createElement('div');\n",
              "          docLink.innerHTML = docLinkHtml;\n",
              "          element.appendChild(docLink);\n",
              "        }\n",
              "      </script>\n",
              "    </div>\n",
              "  </div>\n",
              "  "
            ]
          },
          "metadata": {},
          "execution_count": 31
        }
      ]
    },
    {
      "cell_type": "code",
      "source": [
        "df.shape[0]"
      ],
      "metadata": {
        "colab": {
          "base_uri": "https://localhost:8080/"
        },
        "id": "pHLnI8QWP0St",
        "outputId": "a2b6963e-0a23-4ce7-fd11-e9c2f3fe5f79"
      },
      "execution_count": 32,
      "outputs": [
        {
          "output_type": "execute_result",
          "data": {
            "text/plain": [
              "1513200"
            ]
          },
          "metadata": {},
          "execution_count": 32
        }
      ]
    },
    {
      "cell_type": "code",
      "execution_count": 33,
      "metadata": {
        "id": "Rsgjn7WZVJJ4",
        "colab": {
          "base_uri": "https://localhost:8080/",
          "height": 835
        },
        "outputId": "51b064ba-fd1e-4205-9cd8-8a4094513669"
      },
      "outputs": [
        {
          "output_type": "execute_result",
          "data": {
            "text/plain": [
              "         brand             name           bodyType     color  fuelType  \\\n",
              "0          BMW               i3  hatchback 5 doors     black   Electro   \n",
              "1       Toyota     Land Cruiser       jeep 5 doors     white  Gasoline   \n",
              "2       Toyota            Prius           liftback     black  Gasoline   \n",
              "3       Toyota            Crown              sedan      blue  Gasoline   \n",
              "4       Toyota            Passo  hatchback 5 doors  burgundy  Gasoline   \n",
              "...        ...              ...                ...       ...       ...   \n",
              "151315  Nissan          Elgrand            minivan      grey    Diesel   \n",
              "151316  Toyota  Corolla Fielder      station wagon     white  Gasoline   \n",
              "151317  Nissan          Skyline              sedan      grey  Gasoline   \n",
              "151318   Honda              Fit  hatchback 5 doors     black  Gasoline   \n",
              "151319  Toyota             Aqua  hatchback 5 doors       red  Gasoline   \n",
              "\n",
              "          year   mileage transmission  power    price  \\\n",
              "0          NaN   12000.0    Automatic    NaN  1830000   \n",
              "1          NaN  305000.0    Automatic  215.0   950000   \n",
              "2          NaN  200000.0          CVT   99.0   829000   \n",
              "3       1993.0  250000.0           AT  230.0   150000   \n",
              "4       2010.0  130000.0          CVT   69.0   500000   \n",
              "...        ...       ...          ...    ...      ...   \n",
              "151315     NaN  230000.0    Automatic  170.0   300000   \n",
              "151316  2006.0  215000.0          CVT  110.0   635000   \n",
              "151317  2001.0  217000.0           AT  215.0   385000   \n",
              "151318  2012.0   50000.0          CVT   99.0   559000   \n",
              "151319  2013.0  169000.0          CVT   74.0   950000   \n",
              "\n",
              "                      vehicleConfiguration engineName engineDisplacement  \\\n",
              "0                                      NaN        NaN                NaN   \n",
              "1                                      NaN        NaN                NaN   \n",
              "2                                      NaN        NaN                NaN   \n",
              "3                       3.0 Royal saloon G     2JZ-GE            3.0 LTR   \n",
              "4                            1.0 plus hana     1KR-FE            1.0 LTR   \n",
              "...                                    ...        ...                ...   \n",
              "151315                                 NaN        NaN                NaN   \n",
              "151316                               1.5 X     1NZ-FE            1.5 LTR   \n",
              "151317                          2.5 250GTe     VQ25DD            2.5 LTR   \n",
              "151318                               1.3 G       L13A            1.3 LTR   \n",
              "151319  1.5 G Black Soft Leather Selection    1NZ-FXE            1.5 LTR   \n",
              "\n",
              "                       date       location  \\\n",
              "0       2022-08-20 00:00:00    Vladivostok   \n",
              "1       2022-08-20 00:00:00    Vladivostok   \n",
              "2       2022-08-20 00:00:00    Vladivostok   \n",
              "3       2022-08-20 00:00:00    Vladivostok   \n",
              "4       2022-08-20 00:00:00    Vladivostok   \n",
              "...                     ...            ...   \n",
              "151315  2022-09-26 00:00:00      Ussurijsk   \n",
              "151316  2022-09-26 00:00:00      Ussurijsk   \n",
              "151317  2022-09-26 00:00:00     Dalnegorsk   \n",
              "151318  2022-09-26 00:00:00  Bolshoj Kamen   \n",
              "151319  2022-09-26 00:00:00    Vladivostok   \n",
              "\n",
              "                                                     link           parse_date  \n",
              "0        https://vladivostok.drom.ru/bmw/i3/47958301.html  2022-08-20 04:00:00  \n",
              "1       https://vladivostok.drom.ru/toyota/land_cruise...  2022-08-20 04:00:00  \n",
              "2       https://vladivostok.drom.ru/toyota/prius/47423...  2022-08-20 04:00:00  \n",
              "3       https://vladivostok.drom.ru/toyota/crown/47862...  2022-08-20 04:00:00  \n",
              "4       https://vladivostok.drom.ru/toyota/passo/47575...  2022-08-20 04:00:00  \n",
              "...                                                   ...                  ...  \n",
              "151315  https://ussuriisk.drom.ru/nissan/elgrand/48029...  2022-09-26 19:00:00  \n",
              "151316  https://ussuriisk.drom.ru/toyota/corolla_field...  2022-09-26 19:00:00  \n",
              "151317  https://dalnegorsk.drom.ru/nissan/skyline/4802...  2022-09-26 19:00:00  \n",
              "151318  https://bolshoy-kamen.drom.ru/honda/fit/480271...  2022-09-26 19:00:00  \n",
              "151319  https://vladivostok.drom.ru/toyota/aqua/478514...  2022-09-26 19:00:00  \n",
              "\n",
              "[151320 rows x 17 columns]"
            ],
            "text/html": [
              "\n",
              "  <div id=\"df-83a186cc-a235-43d7-ac85-58df9b0c402c\">\n",
              "    <div class=\"colab-df-container\">\n",
              "      <div>\n",
              "<style scoped>\n",
              "    .dataframe tbody tr th:only-of-type {\n",
              "        vertical-align: middle;\n",
              "    }\n",
              "\n",
              "    .dataframe tbody tr th {\n",
              "        vertical-align: top;\n",
              "    }\n",
              "\n",
              "    .dataframe thead th {\n",
              "        text-align: right;\n",
              "    }\n",
              "</style>\n",
              "<table border=\"1\" class=\"dataframe\">\n",
              "  <thead>\n",
              "    <tr style=\"text-align: right;\">\n",
              "      <th></th>\n",
              "      <th>brand</th>\n",
              "      <th>name</th>\n",
              "      <th>bodyType</th>\n",
              "      <th>color</th>\n",
              "      <th>fuelType</th>\n",
              "      <th>year</th>\n",
              "      <th>mileage</th>\n",
              "      <th>transmission</th>\n",
              "      <th>power</th>\n",
              "      <th>price</th>\n",
              "      <th>vehicleConfiguration</th>\n",
              "      <th>engineName</th>\n",
              "      <th>engineDisplacement</th>\n",
              "      <th>date</th>\n",
              "      <th>location</th>\n",
              "      <th>link</th>\n",
              "      <th>parse_date</th>\n",
              "    </tr>\n",
              "  </thead>\n",
              "  <tbody>\n",
              "    <tr>\n",
              "      <th>0</th>\n",
              "      <td>BMW</td>\n",
              "      <td>i3</td>\n",
              "      <td>hatchback 5 doors</td>\n",
              "      <td>black</td>\n",
              "      <td>Electro</td>\n",
              "      <td>NaN</td>\n",
              "      <td>12000.0</td>\n",
              "      <td>Automatic</td>\n",
              "      <td>NaN</td>\n",
              "      <td>1830000</td>\n",
              "      <td>NaN</td>\n",
              "      <td>NaN</td>\n",
              "      <td>NaN</td>\n",
              "      <td>2022-08-20 00:00:00</td>\n",
              "      <td>Vladivostok</td>\n",
              "      <td>https://vladivostok.drom.ru/bmw/i3/47958301.html</td>\n",
              "      <td>2022-08-20 04:00:00</td>\n",
              "    </tr>\n",
              "    <tr>\n",
              "      <th>1</th>\n",
              "      <td>Toyota</td>\n",
              "      <td>Land Cruiser</td>\n",
              "      <td>jeep 5 doors</td>\n",
              "      <td>white</td>\n",
              "      <td>Gasoline</td>\n",
              "      <td>NaN</td>\n",
              "      <td>305000.0</td>\n",
              "      <td>Automatic</td>\n",
              "      <td>215.0</td>\n",
              "      <td>950000</td>\n",
              "      <td>NaN</td>\n",
              "      <td>NaN</td>\n",
              "      <td>NaN</td>\n",
              "      <td>2022-08-20 00:00:00</td>\n",
              "      <td>Vladivostok</td>\n",
              "      <td>https://vladivostok.drom.ru/toyota/land_cruise...</td>\n",
              "      <td>2022-08-20 04:00:00</td>\n",
              "    </tr>\n",
              "    <tr>\n",
              "      <th>2</th>\n",
              "      <td>Toyota</td>\n",
              "      <td>Prius</td>\n",
              "      <td>liftback</td>\n",
              "      <td>black</td>\n",
              "      <td>Gasoline</td>\n",
              "      <td>NaN</td>\n",
              "      <td>200000.0</td>\n",
              "      <td>CVT</td>\n",
              "      <td>99.0</td>\n",
              "      <td>829000</td>\n",
              "      <td>NaN</td>\n",
              "      <td>NaN</td>\n",
              "      <td>NaN</td>\n",
              "      <td>2022-08-20 00:00:00</td>\n",
              "      <td>Vladivostok</td>\n",
              "      <td>https://vladivostok.drom.ru/toyota/prius/47423...</td>\n",
              "      <td>2022-08-20 04:00:00</td>\n",
              "    </tr>\n",
              "    <tr>\n",
              "      <th>3</th>\n",
              "      <td>Toyota</td>\n",
              "      <td>Crown</td>\n",
              "      <td>sedan</td>\n",
              "      <td>blue</td>\n",
              "      <td>Gasoline</td>\n",
              "      <td>1993.0</td>\n",
              "      <td>250000.0</td>\n",
              "      <td>AT</td>\n",
              "      <td>230.0</td>\n",
              "      <td>150000</td>\n",
              "      <td>3.0 Royal saloon G</td>\n",
              "      <td>2JZ-GE</td>\n",
              "      <td>3.0 LTR</td>\n",
              "      <td>2022-08-20 00:00:00</td>\n",
              "      <td>Vladivostok</td>\n",
              "      <td>https://vladivostok.drom.ru/toyota/crown/47862...</td>\n",
              "      <td>2022-08-20 04:00:00</td>\n",
              "    </tr>\n",
              "    <tr>\n",
              "      <th>4</th>\n",
              "      <td>Toyota</td>\n",
              "      <td>Passo</td>\n",
              "      <td>hatchback 5 doors</td>\n",
              "      <td>burgundy</td>\n",
              "      <td>Gasoline</td>\n",
              "      <td>2010.0</td>\n",
              "      <td>130000.0</td>\n",
              "      <td>CVT</td>\n",
              "      <td>69.0</td>\n",
              "      <td>500000</td>\n",
              "      <td>1.0 plus hana</td>\n",
              "      <td>1KR-FE</td>\n",
              "      <td>1.0 LTR</td>\n",
              "      <td>2022-08-20 00:00:00</td>\n",
              "      <td>Vladivostok</td>\n",
              "      <td>https://vladivostok.drom.ru/toyota/passo/47575...</td>\n",
              "      <td>2022-08-20 04:00:00</td>\n",
              "    </tr>\n",
              "    <tr>\n",
              "      <th>...</th>\n",
              "      <td>...</td>\n",
              "      <td>...</td>\n",
              "      <td>...</td>\n",
              "      <td>...</td>\n",
              "      <td>...</td>\n",
              "      <td>...</td>\n",
              "      <td>...</td>\n",
              "      <td>...</td>\n",
              "      <td>...</td>\n",
              "      <td>...</td>\n",
              "      <td>...</td>\n",
              "      <td>...</td>\n",
              "      <td>...</td>\n",
              "      <td>...</td>\n",
              "      <td>...</td>\n",
              "      <td>...</td>\n",
              "      <td>...</td>\n",
              "    </tr>\n",
              "    <tr>\n",
              "      <th>151315</th>\n",
              "      <td>Nissan</td>\n",
              "      <td>Elgrand</td>\n",
              "      <td>minivan</td>\n",
              "      <td>grey</td>\n",
              "      <td>Diesel</td>\n",
              "      <td>NaN</td>\n",
              "      <td>230000.0</td>\n",
              "      <td>Automatic</td>\n",
              "      <td>170.0</td>\n",
              "      <td>300000</td>\n",
              "      <td>NaN</td>\n",
              "      <td>NaN</td>\n",
              "      <td>NaN</td>\n",
              "      <td>2022-09-26 00:00:00</td>\n",
              "      <td>Ussurijsk</td>\n",
              "      <td>https://ussuriisk.drom.ru/nissan/elgrand/48029...</td>\n",
              "      <td>2022-09-26 19:00:00</td>\n",
              "    </tr>\n",
              "    <tr>\n",
              "      <th>151316</th>\n",
              "      <td>Toyota</td>\n",
              "      <td>Corolla Fielder</td>\n",
              "      <td>station wagon</td>\n",
              "      <td>white</td>\n",
              "      <td>Gasoline</td>\n",
              "      <td>2006.0</td>\n",
              "      <td>215000.0</td>\n",
              "      <td>CVT</td>\n",
              "      <td>110.0</td>\n",
              "      <td>635000</td>\n",
              "      <td>1.5 X</td>\n",
              "      <td>1NZ-FE</td>\n",
              "      <td>1.5 LTR</td>\n",
              "      <td>2022-09-26 00:00:00</td>\n",
              "      <td>Ussurijsk</td>\n",
              "      <td>https://ussuriisk.drom.ru/toyota/corolla_field...</td>\n",
              "      <td>2022-09-26 19:00:00</td>\n",
              "    </tr>\n",
              "    <tr>\n",
              "      <th>151317</th>\n",
              "      <td>Nissan</td>\n",
              "      <td>Skyline</td>\n",
              "      <td>sedan</td>\n",
              "      <td>grey</td>\n",
              "      <td>Gasoline</td>\n",
              "      <td>2001.0</td>\n",
              "      <td>217000.0</td>\n",
              "      <td>AT</td>\n",
              "      <td>215.0</td>\n",
              "      <td>385000</td>\n",
              "      <td>2.5 250GTe</td>\n",
              "      <td>VQ25DD</td>\n",
              "      <td>2.5 LTR</td>\n",
              "      <td>2022-09-26 00:00:00</td>\n",
              "      <td>Dalnegorsk</td>\n",
              "      <td>https://dalnegorsk.drom.ru/nissan/skyline/4802...</td>\n",
              "      <td>2022-09-26 19:00:00</td>\n",
              "    </tr>\n",
              "    <tr>\n",
              "      <th>151318</th>\n",
              "      <td>Honda</td>\n",
              "      <td>Fit</td>\n",
              "      <td>hatchback 5 doors</td>\n",
              "      <td>black</td>\n",
              "      <td>Gasoline</td>\n",
              "      <td>2012.0</td>\n",
              "      <td>50000.0</td>\n",
              "      <td>CVT</td>\n",
              "      <td>99.0</td>\n",
              "      <td>559000</td>\n",
              "      <td>1.3 G</td>\n",
              "      <td>L13A</td>\n",
              "      <td>1.3 LTR</td>\n",
              "      <td>2022-09-26 00:00:00</td>\n",
              "      <td>Bolshoj Kamen</td>\n",
              "      <td>https://bolshoy-kamen.drom.ru/honda/fit/480271...</td>\n",
              "      <td>2022-09-26 19:00:00</td>\n",
              "    </tr>\n",
              "    <tr>\n",
              "      <th>151319</th>\n",
              "      <td>Toyota</td>\n",
              "      <td>Aqua</td>\n",
              "      <td>hatchback 5 doors</td>\n",
              "      <td>red</td>\n",
              "      <td>Gasoline</td>\n",
              "      <td>2013.0</td>\n",
              "      <td>169000.0</td>\n",
              "      <td>CVT</td>\n",
              "      <td>74.0</td>\n",
              "      <td>950000</td>\n",
              "      <td>1.5 G Black Soft Leather Selection</td>\n",
              "      <td>1NZ-FXE</td>\n",
              "      <td>1.5 LTR</td>\n",
              "      <td>2022-09-26 00:00:00</td>\n",
              "      <td>Vladivostok</td>\n",
              "      <td>https://vladivostok.drom.ru/toyota/aqua/478514...</td>\n",
              "      <td>2022-09-26 19:00:00</td>\n",
              "    </tr>\n",
              "  </tbody>\n",
              "</table>\n",
              "<p>151320 rows × 17 columns</p>\n",
              "</div>\n",
              "      <button class=\"colab-df-convert\" onclick=\"convertToInteractive('df-83a186cc-a235-43d7-ac85-58df9b0c402c')\"\n",
              "              title=\"Convert this dataframe to an interactive table.\"\n",
              "              style=\"display:none;\">\n",
              "        \n",
              "  <svg xmlns=\"http://www.w3.org/2000/svg\" height=\"24px\"viewBox=\"0 0 24 24\"\n",
              "       width=\"24px\">\n",
              "    <path d=\"M0 0h24v24H0V0z\" fill=\"none\"/>\n",
              "    <path d=\"M18.56 5.44l.94 2.06.94-2.06 2.06-.94-2.06-.94-.94-2.06-.94 2.06-2.06.94zm-11 1L8.5 8.5l.94-2.06 2.06-.94-2.06-.94L8.5 2.5l-.94 2.06-2.06.94zm10 10l.94 2.06.94-2.06 2.06-.94-2.06-.94-.94-2.06-.94 2.06-2.06.94z\"/><path d=\"M17.41 7.96l-1.37-1.37c-.4-.4-.92-.59-1.43-.59-.52 0-1.04.2-1.43.59L10.3 9.45l-7.72 7.72c-.78.78-.78 2.05 0 2.83L4 21.41c.39.39.9.59 1.41.59.51 0 1.02-.2 1.41-.59l7.78-7.78 2.81-2.81c.8-.78.8-2.07 0-2.86zM5.41 20L4 18.59l7.72-7.72 1.47 1.35L5.41 20z\"/>\n",
              "  </svg>\n",
              "      </button>\n",
              "      \n",
              "  <style>\n",
              "    .colab-df-container {\n",
              "      display:flex;\n",
              "      flex-wrap:wrap;\n",
              "      gap: 12px;\n",
              "    }\n",
              "\n",
              "    .colab-df-convert {\n",
              "      background-color: #E8F0FE;\n",
              "      border: none;\n",
              "      border-radius: 50%;\n",
              "      cursor: pointer;\n",
              "      display: none;\n",
              "      fill: #1967D2;\n",
              "      height: 32px;\n",
              "      padding: 0 0 0 0;\n",
              "      width: 32px;\n",
              "    }\n",
              "\n",
              "    .colab-df-convert:hover {\n",
              "      background-color: #E2EBFA;\n",
              "      box-shadow: 0px 1px 2px rgba(60, 64, 67, 0.3), 0px 1px 3px 1px rgba(60, 64, 67, 0.15);\n",
              "      fill: #174EA6;\n",
              "    }\n",
              "\n",
              "    [theme=dark] .colab-df-convert {\n",
              "      background-color: #3B4455;\n",
              "      fill: #D2E3FC;\n",
              "    }\n",
              "\n",
              "    [theme=dark] .colab-df-convert:hover {\n",
              "      background-color: #434B5C;\n",
              "      box-shadow: 0px 1px 3px 1px rgba(0, 0, 0, 0.15);\n",
              "      filter: drop-shadow(0px 1px 2px rgba(0, 0, 0, 0.3));\n",
              "      fill: #FFFFFF;\n",
              "    }\n",
              "  </style>\n",
              "\n",
              "      <script>\n",
              "        const buttonEl =\n",
              "          document.querySelector('#df-83a186cc-a235-43d7-ac85-58df9b0c402c button.colab-df-convert');\n",
              "        buttonEl.style.display =\n",
              "          google.colab.kernel.accessAllowed ? 'block' : 'none';\n",
              "\n",
              "        async function convertToInteractive(key) {\n",
              "          const element = document.querySelector('#df-83a186cc-a235-43d7-ac85-58df9b0c402c');\n",
              "          const dataTable =\n",
              "            await google.colab.kernel.invokeFunction('convertToInteractive',\n",
              "                                                     [key], {});\n",
              "          if (!dataTable) return;\n",
              "\n",
              "          const docLinkHtml = 'Like what you see? Visit the ' +\n",
              "            '<a target=\"_blank\" href=https://colab.research.google.com/notebooks/data_table.ipynb>data table notebook</a>'\n",
              "            + ' to learn more about interactive tables.';\n",
              "          element.innerHTML = '';\n",
              "          dataTable['output_type'] = 'display_data';\n",
              "          await google.colab.output.renderOutput(dataTable, element);\n",
              "          const docLink = document.createElement('div');\n",
              "          docLink.innerHTML = docLinkHtml;\n",
              "          element.appendChild(docLink);\n",
              "        }\n",
              "      </script>\n",
              "    </div>\n",
              "  </div>\n",
              "  "
            ]
          },
          "metadata": {},
          "execution_count": 33
        }
      ],
      "source": [
        "#sampling\n",
        "filename = \"region25_en.csv\" \n",
        "n = sum(1 for line in open(filename))-1  # Calculate number of rows in file\n",
        "s = n//10  # sample size of 10%\n",
        "skip = sorted(rd.sample(range(1, n+1), n-s))  # n+1 to compensate for header \n",
        "df_sample = pd.read_csv(filename, skiprows=skip)\n",
        "df_sample # 151320 rows"
      ]
    },
    {
      "cell_type": "markdown",
      "metadata": {
        "id": "u0vucnGFVJJ5"
      },
      "source": [
        "## Data Preparation and Cleaning\n",
        "**TO DO**\n",
        "1. **Read the sampling data_kaggle.csv**\n",
        "2. **describe the dataset**\n",
        "3. **replace null value with mode or mean**\n",
        "4. **remove unused column(Link)**\n",
        "5. **clean columns (Fuel type)**\n",
        "\n"
      ]
    },
    {
      "cell_type": "code",
      "execution_count": 34,
      "metadata": {
        "id": "df5R-2s3VJJ5",
        "colab": {
          "base_uri": "https://localhost:8080/"
        },
        "outputId": "cd5c188b-69df-45a1-f235-ae0fdb8b7d4a"
      },
      "outputs": [
        {
          "output_type": "stream",
          "name": "stdout",
          "text": [
            "<class 'pandas.core.frame.DataFrame'>\n",
            "RangeIndex: 151320 entries, 0 to 151319\n",
            "Data columns (total 17 columns):\n",
            " #   Column                Non-Null Count   Dtype  \n",
            "---  ------                --------------   -----  \n",
            " 0   brand                 151320 non-null  object \n",
            " 1   name                  151320 non-null  object \n",
            " 2   bodyType              151320 non-null  object \n",
            " 3   color                 140338 non-null  object \n",
            " 4   fuelType              150976 non-null  object \n",
            " 5   year                  110045 non-null  float64\n",
            " 6   mileage               149915 non-null  float64\n",
            " 7   transmission          151045 non-null  object \n",
            " 8   power                 149172 non-null  float64\n",
            " 9   price                 151320 non-null  int64  \n",
            " 10  vehicleConfiguration  110045 non-null  object \n",
            " 11  engineName            109932 non-null  object \n",
            " 12  engineDisplacement    109014 non-null  object \n",
            " 13  date                  151320 non-null  object \n",
            " 14  location              151320 non-null  object \n",
            " 15  link                  151320 non-null  object \n",
            " 16  parse_date            151320 non-null  object \n",
            "dtypes: float64(3), int64(1), object(13)\n",
            "memory usage: 19.6+ MB\n"
          ]
        }
      ],
      "source": [
        "df_sample.info()"
      ]
    },
    {
      "cell_type": "code",
      "execution_count": 35,
      "metadata": {
        "id": "t26lvNVLVJJ5",
        "colab": {
          "base_uri": "https://localhost:8080/"
        },
        "outputId": "d6e27d24-d1af-4c56-e975-d8eb68f9cba9"
      },
      "outputs": [
        {
          "output_type": "execute_result",
          "data": {
            "text/plain": [
              "brand                       0\n",
              "name                        0\n",
              "bodyType                    0\n",
              "color                   10982\n",
              "fuelType                  344\n",
              "year                    41275\n",
              "mileage                  1405\n",
              "transmission              275\n",
              "power                    2148\n",
              "price                       0\n",
              "vehicleConfiguration    41275\n",
              "engineName              41388\n",
              "engineDisplacement      42306\n",
              "date                        0\n",
              "location                    0\n",
              "link                        0\n",
              "parse_date                  0\n",
              "dtype: int64"
            ]
          },
          "metadata": {},
          "execution_count": 35
        }
      ],
      "source": [
        "df_sample.isnull().sum()"
      ]
    },
    {
      "cell_type": "markdown",
      "source": [
        "**Data Cleaning on color**"
      ],
      "metadata": {
        "id": "MX5RF5NaY0Xu"
      }
    },
    {
      "cell_type": "code",
      "execution_count": 36,
      "metadata": {
        "id": "KribcC_XVJJ5",
        "colab": {
          "base_uri": "https://localhost:8080/"
        },
        "outputId": "94d9d410-d1af-41b4-f8dd-581ef20ebdbc"
      },
      "outputs": [
        {
          "output_type": "execute_result",
          "data": {
            "text/plain": [
              "0    white\n",
              "dtype: object"
            ]
          },
          "metadata": {},
          "execution_count": 36
        }
      ],
      "source": [
        "df_sample.color.mode()"
      ]
    },
    {
      "cell_type": "code",
      "source": [
        "w=df_sample.color.mode()\n",
        "w[0]"
      ],
      "metadata": {
        "colab": {
          "base_uri": "https://localhost:8080/",
          "height": 36
        },
        "id": "X4YdWhIaZQLH",
        "outputId": "1f2e49c7-7f84-4a06-b50a-a97ef67918e7"
      },
      "execution_count": 37,
      "outputs": [
        {
          "output_type": "execute_result",
          "data": {
            "text/plain": [
              "'white'"
            ],
            "application/vnd.google.colaboratory.intrinsic+json": {
              "type": "string"
            }
          },
          "metadata": {},
          "execution_count": 37
        }
      ]
    },
    {
      "cell_type": "code",
      "source": [
        "df_sample.color.fillna(w[0],inplace=True)"
      ],
      "metadata": {
        "id": "nNGofO8xY1m2"
      },
      "execution_count": 38,
      "outputs": []
    },
    {
      "cell_type": "code",
      "execution_count": 39,
      "metadata": {
        "id": "7mUpY22aVJJ6",
        "colab": {
          "base_uri": "https://localhost:8080/"
        },
        "outputId": "34738ae1-fab1-4e41-fcb4-199feae7fec0"
      },
      "outputs": [
        {
          "output_type": "execute_result",
          "data": {
            "text/plain": [
              "brand                       0\n",
              "name                        0\n",
              "bodyType                    0\n",
              "color                       0\n",
              "fuelType                  344\n",
              "year                    41275\n",
              "mileage                  1405\n",
              "transmission              275\n",
              "power                    2148\n",
              "price                       0\n",
              "vehicleConfiguration    41275\n",
              "engineName              41388\n",
              "engineDisplacement      42306\n",
              "date                        0\n",
              "location                    0\n",
              "link                        0\n",
              "parse_date                  0\n",
              "dtype: int64"
            ]
          },
          "metadata": {},
          "execution_count": 39
        }
      ],
      "source": [
        "df_sample.isnull().sum()"
      ]
    },
    {
      "cell_type": "markdown",
      "source": [
        "Data Cleaning fueltype"
      ],
      "metadata": {
        "id": "-Hym0kwKak-H"
      }
    },
    {
      "cell_type": "code",
      "execution_count": 40,
      "metadata": {
        "id": "h46ilQakVJJ6",
        "colab": {
          "base_uri": "https://localhost:8080/"
        },
        "outputId": "1225165a-131c-4d57-aedd-97a2bfb7ceee"
      },
      "outputs": [
        {
          "output_type": "execute_result",
          "data": {
            "text/plain": [
              "array(['Electro', 'Gasoline', 'Diesel', nan], dtype=object)"
            ]
          },
          "metadata": {},
          "execution_count": 40
        }
      ],
      "source": [
        "df_sample.fuelType.unique()"
      ]
    },
    {
      "cell_type": "code",
      "execution_count": 41,
      "metadata": {
        "id": "cfcSY6YSVJJ6",
        "colab": {
          "base_uri": "https://localhost:8080/",
          "height": 36
        },
        "outputId": "ff43d739-7f15-4b5b-8583-acc99196f4fa"
      },
      "outputs": [
        {
          "output_type": "execute_result",
          "data": {
            "text/plain": [
              "'Gasoline'"
            ],
            "application/vnd.google.colaboratory.intrinsic+json": {
              "type": "string"
            }
          },
          "metadata": {},
          "execution_count": 41
        }
      ],
      "source": [
        "f=df_sample.fuelType.mode()\n",
        "f[0]"
      ]
    },
    {
      "cell_type": "code",
      "execution_count": 42,
      "metadata": {
        "id": "HsDyuPIgVJJ6"
      },
      "outputs": [],
      "source": [
        "df_sample.fuelType.fillna(f[0],inplace=True)"
      ]
    },
    {
      "cell_type": "code",
      "execution_count": 43,
      "metadata": {
        "id": "1Et9QhCbVJJ6",
        "colab": {
          "base_uri": "https://localhost:8080/"
        },
        "outputId": "4da2ade3-fe60-4f9e-87f9-8822e204780d"
      },
      "outputs": [
        {
          "output_type": "execute_result",
          "data": {
            "text/plain": [
              "brand                       0\n",
              "name                        0\n",
              "bodyType                    0\n",
              "color                       0\n",
              "fuelType                    0\n",
              "year                    41275\n",
              "mileage                  1405\n",
              "transmission              275\n",
              "power                    2148\n",
              "price                       0\n",
              "vehicleConfiguration    41275\n",
              "engineName              41388\n",
              "engineDisplacement      42306\n",
              "date                        0\n",
              "location                    0\n",
              "link                        0\n",
              "parse_date                  0\n",
              "dtype: int64"
            ]
          },
          "metadata": {},
          "execution_count": 43
        }
      ],
      "source": [
        "df_sample.isnull().sum()"
      ]
    },
    {
      "cell_type": "markdown",
      "source": [
        "Data Cleaning on year (set to int)\n"
      ],
      "metadata": {
        "id": "yM4UZWMNa4BG"
      }
    },
    {
      "cell_type": "code",
      "execution_count": 44,
      "metadata": {
        "id": "yBxDax1KVJJ6",
        "colab": {
          "base_uri": "https://localhost:8080/"
        },
        "outputId": "724968c2-f819-4f10-ff19-6b7b2add47ac"
      },
      "outputs": [
        {
          "output_type": "execute_result",
          "data": {
            "text/plain": [
              "array([  nan, 1993., 2010., 2017., 2000., 2009., 2013., 2018., 2004.,\n",
              "       1996., 2021., 2007., 2006., 2016., 1994., 1998., 2020., 2003.,\n",
              "       2015., 2005., 2002., 2012., 2008., 2011., 2019., 1992., 1997.,\n",
              "       2014., 1990., 2001., 1995., 1991., 1999., 1988., 1977., 1983.,\n",
              "       1948., 1985., 1987., 1986., 1984., 1970., 1982., 1981., 2022.,\n",
              "       1972., 1989., 1953., 1979., 1980., 1976., 1974., 1973., 1958.,\n",
              "       1964., 1962., 1978., 1975., 1943.])"
            ]
          },
          "metadata": {},
          "execution_count": 44
        }
      ],
      "source": [
        "df_sample.year.unique()"
      ]
    },
    {
      "cell_type": "code",
      "source": [
        "\n",
        "y=df_sample.year.mode()\n",
        "y[0]"
      ],
      "metadata": {
        "colab": {
          "base_uri": "https://localhost:8080/"
        },
        "id": "WtuMfAfibGL1",
        "outputId": "de646435-edae-4608-f7da-34e097a4a512"
      },
      "execution_count": 45,
      "outputs": [
        {
          "output_type": "execute_result",
          "data": {
            "text/plain": [
              "2017.0"
            ]
          },
          "metadata": {},
          "execution_count": 45
        }
      ]
    },
    {
      "cell_type": "code",
      "source": [
        "df_sample.year.fillna(y[0],inplace=True)"
      ],
      "metadata": {
        "id": "aRPeTq_MbNuY"
      },
      "execution_count": 46,
      "outputs": []
    },
    {
      "cell_type": "code",
      "source": [
        "df_sample.year.astype(int)"
      ],
      "metadata": {
        "colab": {
          "base_uri": "https://localhost:8080/"
        },
        "id": "NfXgV2M3b3xn",
        "outputId": "f680d2b5-7153-4ef6-a4ee-18f78b0ea3c1"
      },
      "execution_count": 47,
      "outputs": [
        {
          "output_type": "execute_result",
          "data": {
            "text/plain": [
              "0         2017\n",
              "1         2017\n",
              "2         2017\n",
              "3         1993\n",
              "4         2010\n",
              "          ... \n",
              "151315    2017\n",
              "151316    2006\n",
              "151317    2001\n",
              "151318    2012\n",
              "151319    2013\n",
              "Name: year, Length: 151320, dtype: int64"
            ]
          },
          "metadata": {},
          "execution_count": 47
        }
      ]
    },
    {
      "cell_type": "code",
      "source": [
        "df_sample.isnull().sum()"
      ],
      "metadata": {
        "colab": {
          "base_uri": "https://localhost:8080/"
        },
        "id": "Zl6jd7iocAN3",
        "outputId": "39dc3eda-001e-46ea-fa92-dda457f72204"
      },
      "execution_count": 48,
      "outputs": [
        {
          "output_type": "execute_result",
          "data": {
            "text/plain": [
              "brand                       0\n",
              "name                        0\n",
              "bodyType                    0\n",
              "color                       0\n",
              "fuelType                    0\n",
              "year                        0\n",
              "mileage                  1405\n",
              "transmission              275\n",
              "power                    2148\n",
              "price                       0\n",
              "vehicleConfiguration    41275\n",
              "engineName              41388\n",
              "engineDisplacement      42306\n",
              "date                        0\n",
              "location                    0\n",
              "link                        0\n",
              "parse_date                  0\n",
              "dtype: int64"
            ]
          },
          "metadata": {},
          "execution_count": 48
        }
      ]
    },
    {
      "cell_type": "markdown",
      "source": [
        "Fill Null Value for Car Mileage"
      ],
      "metadata": {
        "id": "OBVknc6YcM-u"
      }
    },
    {
      "cell_type": "code",
      "source": [
        "cm=df_sample.mileage.mean()\n",
        "cm"
      ],
      "metadata": {
        "colab": {
          "base_uri": "https://localhost:8080/"
        },
        "id": "BiUxowEfcMlu",
        "outputId": "65440cd6-2d62-42a8-f147-a3deec1dd3bb"
      },
      "execution_count": 49,
      "outputs": [
        {
          "output_type": "execute_result",
          "data": {
            "text/plain": [
              "134152.4330453924"
            ]
          },
          "metadata": {},
          "execution_count": 49
        }
      ]
    },
    {
      "cell_type": "code",
      "source": [
        "df_sample.mileage.fillna(cm,inplace= True)"
      ],
      "metadata": {
        "id": "Q7c4kej-cnLW"
      },
      "execution_count": 50,
      "outputs": []
    },
    {
      "cell_type": "code",
      "source": [
        "df_sample.isnull().sum()"
      ],
      "metadata": {
        "colab": {
          "base_uri": "https://localhost:8080/"
        },
        "id": "fyLb61Wmcvp2",
        "outputId": "f00fe6c1-dac1-423c-cb6d-285e6dcf3db7"
      },
      "execution_count": 51,
      "outputs": [
        {
          "output_type": "execute_result",
          "data": {
            "text/plain": [
              "brand                       0\n",
              "name                        0\n",
              "bodyType                    0\n",
              "color                       0\n",
              "fuelType                    0\n",
              "year                        0\n",
              "mileage                     0\n",
              "transmission              275\n",
              "power                    2148\n",
              "price                       0\n",
              "vehicleConfiguration    41275\n",
              "engineName              41388\n",
              "engineDisplacement      42306\n",
              "date                        0\n",
              "location                    0\n",
              "link                        0\n",
              "parse_date                  0\n",
              "dtype: int64"
            ]
          },
          "metadata": {},
          "execution_count": 51
        }
      ]
    },
    {
      "cell_type": "markdown",
      "source": [
        "Transmission"
      ],
      "metadata": {
        "id": "7B8Wxgskcus-"
      }
    },
    {
      "cell_type": "code",
      "source": [
        "df_sample.transmission.unique()"
      ],
      "metadata": {
        "colab": {
          "base_uri": "https://localhost:8080/"
        },
        "id": "1p9rRkOsc2xl",
        "outputId": "06865714-f717-4203-ecb2-45e9ffeaabb1"
      },
      "execution_count": 52,
      "outputs": [
        {
          "output_type": "execute_result",
          "data": {
            "text/plain": [
              "array(['Automatic', 'CVT', 'AT', 'Manual', 'Robot', nan], dtype=object)"
            ]
          },
          "metadata": {},
          "execution_count": 52
        }
      ]
    },
    {
      "cell_type": "code",
      "source": [
        "ct=df_sample.transmission.mode()\n",
        "ct[0]"
      ],
      "metadata": {
        "colab": {
          "base_uri": "https://localhost:8080/",
          "height": 36
        },
        "id": "EgP8JV00c8dO",
        "outputId": "231b997a-92ca-4db1-8456-2cc5f08cf236"
      },
      "execution_count": 53,
      "outputs": [
        {
          "output_type": "execute_result",
          "data": {
            "text/plain": [
              "'CVT'"
            ],
            "application/vnd.google.colaboratory.intrinsic+json": {
              "type": "string"
            }
          },
          "metadata": {},
          "execution_count": 53
        }
      ]
    },
    {
      "cell_type": "code",
      "source": [
        "df_sample.transmission.fillna(ct[0],inplace=True)"
      ],
      "metadata": {
        "id": "gFDOy2n0dDfo"
      },
      "execution_count": 54,
      "outputs": []
    },
    {
      "cell_type": "code",
      "source": [
        "df_sample.isnull().sum()"
      ],
      "metadata": {
        "colab": {
          "base_uri": "https://localhost:8080/"
        },
        "id": "yLr6I0SddLsG",
        "outputId": "193f237c-c8f0-4006-ac03-9b34b58cdd76"
      },
      "execution_count": 55,
      "outputs": [
        {
          "output_type": "execute_result",
          "data": {
            "text/plain": [
              "brand                       0\n",
              "name                        0\n",
              "bodyType                    0\n",
              "color                       0\n",
              "fuelType                    0\n",
              "year                        0\n",
              "mileage                     0\n",
              "transmission                0\n",
              "power                    2148\n",
              "price                       0\n",
              "vehicleConfiguration    41275\n",
              "engineName              41388\n",
              "engineDisplacement      42306\n",
              "date                        0\n",
              "location                    0\n",
              "link                        0\n",
              "parse_date                  0\n",
              "dtype: int64"
            ]
          },
          "metadata": {},
          "execution_count": 55
        }
      ]
    },
    {
      "cell_type": "markdown",
      "source": [
        "power\n"
      ],
      "metadata": {
        "id": "t6r2jk17dgpH"
      }
    },
    {
      "cell_type": "code",
      "source": [
        "cp= df_sample.power.mean()\n",
        "cp"
      ],
      "metadata": {
        "colab": {
          "base_uri": "https://localhost:8080/"
        },
        "id": "FEKRbiP4diYe",
        "outputId": "114477e5-0401-4f9b-d23d-6e646b3f20e6"
      },
      "execution_count": 56,
      "outputs": [
        {
          "output_type": "execute_result",
          "data": {
            "text/plain": [
              "145.47436516236291"
            ]
          },
          "metadata": {},
          "execution_count": 56
        }
      ]
    },
    {
      "cell_type": "code",
      "source": [
        "df_sample.power.fillna(cp,inplace=True)"
      ],
      "metadata": {
        "id": "BDLXC1VVdstO"
      },
      "execution_count": 57,
      "outputs": []
    },
    {
      "cell_type": "code",
      "source": [
        "df_sample.isnull().sum()"
      ],
      "metadata": {
        "colab": {
          "base_uri": "https://localhost:8080/"
        },
        "id": "UpHf6-K_dw7O",
        "outputId": "d3bf3d9d-2170-48f3-e42a-001867659e0b"
      },
      "execution_count": 58,
      "outputs": [
        {
          "output_type": "execute_result",
          "data": {
            "text/plain": [
              "brand                       0\n",
              "name                        0\n",
              "bodyType                    0\n",
              "color                       0\n",
              "fuelType                    0\n",
              "year                        0\n",
              "mileage                     0\n",
              "transmission                0\n",
              "power                       0\n",
              "price                       0\n",
              "vehicleConfiguration    41275\n",
              "engineName              41388\n",
              "engineDisplacement      42306\n",
              "date                        0\n",
              "location                    0\n",
              "link                        0\n",
              "parse_date                  0\n",
              "dtype: int64"
            ]
          },
          "metadata": {},
          "execution_count": 58
        }
      ]
    },
    {
      "cell_type": "markdown",
      "source": [
        "Vehicle config\n"
      ],
      "metadata": {
        "id": "Txcuqfczd0l_"
      }
    },
    {
      "cell_type": "code",
      "source": [
        "df_sample.vehicleConfiguration.unique()"
      ],
      "metadata": {
        "colab": {
          "base_uri": "https://localhost:8080/"
        },
        "id": "SUf2YNqtd3BW",
        "outputId": "6a0d1b1c-c232-490c-d5ea-67d2940f1310"
      },
      "execution_count": 59,
      "outputs": [
        {
          "output_type": "execute_result",
          "data": {
            "text/plain": [
              "array([nan, '3.0 Royal saloon G', '1.0 plus hana', ...,\n",
              "       ' 1.2 e-POWER X FOUR 4WD', '2.4 AT Long Престиж Плюс',\n",
              "       '2.0 SH-AWD AT A-Spec Package'], dtype=object)"
            ]
          },
          "metadata": {},
          "execution_count": 59
        }
      ]
    },
    {
      "cell_type": "code",
      "source": [
        "cvc=df_sample.vehicleConfiguration.mode()\n",
        "cvc[0]"
      ],
      "metadata": {
        "colab": {
          "base_uri": "https://localhost:8080/",
          "height": 36
        },
        "id": "zDc8y5Qed9O2",
        "outputId": "23e0ea22-a257-4d70-ea0a-446805cd9f1c"
      },
      "execution_count": 60,
      "outputs": [
        {
          "output_type": "execute_result",
          "data": {
            "text/plain": [
              "'1.8 S'"
            ],
            "application/vnd.google.colaboratory.intrinsic+json": {
              "type": "string"
            }
          },
          "metadata": {},
          "execution_count": 60
        }
      ]
    },
    {
      "cell_type": "code",
      "source": [
        "df_sample.vehicleConfiguration.fillna(cvc[0],inplace= True)"
      ],
      "metadata": {
        "id": "DPMOO6-xeFPd"
      },
      "execution_count": 61,
      "outputs": []
    },
    {
      "cell_type": "code",
      "source": [
        "df_sample.isnull().sum()"
      ],
      "metadata": {
        "colab": {
          "base_uri": "https://localhost:8080/"
        },
        "id": "NGSmj4zKeLxH",
        "outputId": "bc87bfff-af67-4700-8fc6-9dffb9dd0431"
      },
      "execution_count": 62,
      "outputs": [
        {
          "output_type": "execute_result",
          "data": {
            "text/plain": [
              "brand                       0\n",
              "name                        0\n",
              "bodyType                    0\n",
              "color                       0\n",
              "fuelType                    0\n",
              "year                        0\n",
              "mileage                     0\n",
              "transmission                0\n",
              "power                       0\n",
              "price                       0\n",
              "vehicleConfiguration        0\n",
              "engineName              41388\n",
              "engineDisplacement      42306\n",
              "date                        0\n",
              "location                    0\n",
              "link                        0\n",
              "parse_date                  0\n",
              "dtype: int64"
            ]
          },
          "metadata": {},
          "execution_count": 62
        }
      ]
    },
    {
      "cell_type": "markdown",
      "source": [
        "Engine name\n"
      ],
      "metadata": {
        "id": "TPhMq0pueQhv"
      }
    },
    {
      "cell_type": "code",
      "source": [
        "df_sample.engineName.unique()"
      ],
      "metadata": {
        "colab": {
          "base_uri": "https://localhost:8080/"
        },
        "id": "yawGC5y4eR5t",
        "outputId": "bc1e35a0-40ae-4a99-e600-e739e94fef78"
      },
      "execution_count": 63,
      "outputs": [
        {
          "output_type": "execute_result",
          "data": {
            "text/plain": [
              "array([nan, '2JZ-GE', '1KR-FE', ..., '1S-U', 'N46B20', 'K20C3'],\n",
              "      dtype=object)"
            ]
          },
          "metadata": {},
          "execution_count": 63
        }
      ]
    },
    {
      "cell_type": "code",
      "source": [
        "cen=df_sample.engineName.mode()\n",
        "cen[0]"
      ],
      "metadata": {
        "colab": {
          "base_uri": "https://localhost:8080/",
          "height": 36
        },
        "id": "5cstQ6I9eYxn",
        "outputId": "cfcc54bd-c855-4005-d28e-5221581d4bc0"
      },
      "execution_count": 64,
      "outputs": [
        {
          "output_type": "execute_result",
          "data": {
            "text/plain": [
              "'2ZR-FXE'"
            ],
            "application/vnd.google.colaboratory.intrinsic+json": {
              "type": "string"
            }
          },
          "metadata": {},
          "execution_count": 64
        }
      ]
    },
    {
      "cell_type": "code",
      "source": [
        "df_sample.engineName.fillna(cen[0],inplace=True)"
      ],
      "metadata": {
        "id": "XOiiUchVeeid"
      },
      "execution_count": 65,
      "outputs": []
    },
    {
      "cell_type": "code",
      "source": [
        "df_sample.isnull().sum()"
      ],
      "metadata": {
        "colab": {
          "base_uri": "https://localhost:8080/"
        },
        "id": "n4ZJKhi5el-_",
        "outputId": "4d84b549-ea1e-47bb-ce31-1ec5eeea8c95"
      },
      "execution_count": 66,
      "outputs": [
        {
          "output_type": "execute_result",
          "data": {
            "text/plain": [
              "brand                       0\n",
              "name                        0\n",
              "bodyType                    0\n",
              "color                       0\n",
              "fuelType                    0\n",
              "year                        0\n",
              "mileage                     0\n",
              "transmission                0\n",
              "power                       0\n",
              "price                       0\n",
              "vehicleConfiguration        0\n",
              "engineName                  0\n",
              "engineDisplacement      42306\n",
              "date                        0\n",
              "location                    0\n",
              "link                        0\n",
              "parse_date                  0\n",
              "dtype: int64"
            ]
          },
          "metadata": {},
          "execution_count": 66
        }
      ]
    },
    {
      "cell_type": "markdown",
      "source": [
        "engine displacement\n"
      ],
      "metadata": {
        "id": "JUSFoRKheX8l"
      }
    },
    {
      "cell_type": "code",
      "source": [
        "df_sample.engineDisplacement.unique()"
      ],
      "metadata": {
        "colab": {
          "base_uri": "https://localhost:8080/"
        },
        "id": "Hmfn3zIgess3",
        "outputId": "9cf75990-7c17-4b23-a34f-f00b9cc3bfe7"
      },
      "execution_count": 67,
      "outputs": [
        {
          "output_type": "execute_result",
          "data": {
            "text/plain": [
              "array([nan, '3.0 LTR', '1.0 LTR', '1.2 LTR', '2.0 LTR', '1.8 LTR',\n",
              "       '2.5 LTR', '0.7 LTR', '2.7 LTR', '1.5 LTR', '1.3 LTR', '4.6 LTR',\n",
              "       '2.4 LTR', '4.5 LTR', '4.0 LTR', '2.8 LTR', '3.5 LTR', '2.2 LTR',\n",
              "       '3.4 LTR', '1.4 LTR', '1.6 LTR', '3.6 LTR', '3.1 LTR', '5.4 LTR',\n",
              "       '3.2 LTR', '1.7 LTR', '4.7 LTR', '5.7 LTR', '2.9 LTR', '2.3 LTR',\n",
              "       '3.3 LTR', '6.2 LTR', '3.7 LTR', '5.6 LTR', '2.1 LTR', '5.0 LTR',\n",
              "       '4.4 LTR', '1.1 LTR', '4.2 LTR', '4.3 LTR', '5.5 LTR', '0.5 LTR',\n",
              "       '6.0 LTR', '3.8 LTR', '4.8 LTR', '6.1 LTR', '2.6 LTR', '0.8 LTR',\n",
              "       '5.8 LTR', '5.3 LTR', '6.4 LTR', '5.2 LTR', '4.1 LTR', '1.9 LTR'],\n",
              "      dtype=object)"
            ]
          },
          "metadata": {},
          "execution_count": 67
        }
      ]
    },
    {
      "cell_type": "code",
      "source": [
        "ced=df_sample.engineDisplacement.mode()\n",
        "ced[0]"
      ],
      "metadata": {
        "colab": {
          "base_uri": "https://localhost:8080/",
          "height": 36
        },
        "id": "nNZn1VxIey1o",
        "outputId": "85bf8a2b-7a34-4132-c69b-02efa168a238"
      },
      "execution_count": 68,
      "outputs": [
        {
          "output_type": "execute_result",
          "data": {
            "text/plain": [
              "'1.5 LTR'"
            ],
            "application/vnd.google.colaboratory.intrinsic+json": {
              "type": "string"
            }
          },
          "metadata": {},
          "execution_count": 68
        }
      ]
    },
    {
      "cell_type": "code",
      "source": [
        "df_sample.engineDisplacement.fillna(ced[0],inplace=True)\n"
      ],
      "metadata": {
        "id": "1X5M_qy4e39_"
      },
      "execution_count": 69,
      "outputs": []
    },
    {
      "cell_type": "code",
      "source": [
        "df_sample.isnull().sum()"
      ],
      "metadata": {
        "colab": {
          "base_uri": "https://localhost:8080/"
        },
        "id": "3W5v5Zt4e_pG",
        "outputId": "7487faca-ebff-4d2c-cc9c-d6b0aef7bf4c"
      },
      "execution_count": 70,
      "outputs": [
        {
          "output_type": "execute_result",
          "data": {
            "text/plain": [
              "brand                   0\n",
              "name                    0\n",
              "bodyType                0\n",
              "color                   0\n",
              "fuelType                0\n",
              "year                    0\n",
              "mileage                 0\n",
              "transmission            0\n",
              "power                   0\n",
              "price                   0\n",
              "vehicleConfiguration    0\n",
              "engineName              0\n",
              "engineDisplacement      0\n",
              "date                    0\n",
              "location                0\n",
              "link                    0\n",
              "parse_date              0\n",
              "dtype: int64"
            ]
          },
          "metadata": {},
          "execution_count": 70
        }
      ]
    },
    {
      "cell_type": "markdown",
      "source": [
        "Remove unwanted column"
      ],
      "metadata": {
        "id": "RJjcHqD_fIc_"
      }
    },
    {
      "cell_type": "code",
      "source": [
        "df_sample = df_sample.drop('link',axis = 1)\n"
      ],
      "metadata": {
        "id": "zgUE-p8XfJ-e"
      },
      "execution_count": 71,
      "outputs": []
    },
    {
      "cell_type": "code",
      "source": [
        "df_sample.head()"
      ],
      "metadata": {
        "colab": {
          "base_uri": "https://localhost:8080/",
          "height": 444
        },
        "id": "IvOISNlTfVWW",
        "outputId": "a2c1e5ba-1eb0-492c-e080-d6422554f04f"
      },
      "execution_count": 72,
      "outputs": [
        {
          "output_type": "execute_result",
          "data": {
            "text/plain": [
              "    brand          name           bodyType     color  fuelType    year  \\\n",
              "0     BMW            i3  hatchback 5 doors     black   Electro  2017.0   \n",
              "1  Toyota  Land Cruiser       jeep 5 doors     white  Gasoline  2017.0   \n",
              "2  Toyota         Prius           liftback     black  Gasoline  2017.0   \n",
              "3  Toyota         Crown              sedan      blue  Gasoline  1993.0   \n",
              "4  Toyota         Passo  hatchback 5 doors  burgundy  Gasoline  2010.0   \n",
              "\n",
              "    mileage transmission       power    price vehicleConfiguration engineName  \\\n",
              "0   12000.0    Automatic  145.474365  1830000                1.8 S    2ZR-FXE   \n",
              "1  305000.0    Automatic  215.000000   950000                1.8 S    2ZR-FXE   \n",
              "2  200000.0          CVT   99.000000   829000                1.8 S    2ZR-FXE   \n",
              "3  250000.0           AT  230.000000   150000   3.0 Royal saloon G     2JZ-GE   \n",
              "4  130000.0          CVT   69.000000   500000        1.0 plus hana     1KR-FE   \n",
              "\n",
              "  engineDisplacement                 date     location           parse_date  \n",
              "0            1.5 LTR  2022-08-20 00:00:00  Vladivostok  2022-08-20 04:00:00  \n",
              "1            1.5 LTR  2022-08-20 00:00:00  Vladivostok  2022-08-20 04:00:00  \n",
              "2            1.5 LTR  2022-08-20 00:00:00  Vladivostok  2022-08-20 04:00:00  \n",
              "3            3.0 LTR  2022-08-20 00:00:00  Vladivostok  2022-08-20 04:00:00  \n",
              "4            1.0 LTR  2022-08-20 00:00:00  Vladivostok  2022-08-20 04:00:00  "
            ],
            "text/html": [
              "\n",
              "  <div id=\"df-f4455f48-4e61-4ece-a908-75a7860210cd\">\n",
              "    <div class=\"colab-df-container\">\n",
              "      <div>\n",
              "<style scoped>\n",
              "    .dataframe tbody tr th:only-of-type {\n",
              "        vertical-align: middle;\n",
              "    }\n",
              "\n",
              "    .dataframe tbody tr th {\n",
              "        vertical-align: top;\n",
              "    }\n",
              "\n",
              "    .dataframe thead th {\n",
              "        text-align: right;\n",
              "    }\n",
              "</style>\n",
              "<table border=\"1\" class=\"dataframe\">\n",
              "  <thead>\n",
              "    <tr style=\"text-align: right;\">\n",
              "      <th></th>\n",
              "      <th>brand</th>\n",
              "      <th>name</th>\n",
              "      <th>bodyType</th>\n",
              "      <th>color</th>\n",
              "      <th>fuelType</th>\n",
              "      <th>year</th>\n",
              "      <th>mileage</th>\n",
              "      <th>transmission</th>\n",
              "      <th>power</th>\n",
              "      <th>price</th>\n",
              "      <th>vehicleConfiguration</th>\n",
              "      <th>engineName</th>\n",
              "      <th>engineDisplacement</th>\n",
              "      <th>date</th>\n",
              "      <th>location</th>\n",
              "      <th>parse_date</th>\n",
              "    </tr>\n",
              "  </thead>\n",
              "  <tbody>\n",
              "    <tr>\n",
              "      <th>0</th>\n",
              "      <td>BMW</td>\n",
              "      <td>i3</td>\n",
              "      <td>hatchback 5 doors</td>\n",
              "      <td>black</td>\n",
              "      <td>Electro</td>\n",
              "      <td>2017.0</td>\n",
              "      <td>12000.0</td>\n",
              "      <td>Automatic</td>\n",
              "      <td>145.474365</td>\n",
              "      <td>1830000</td>\n",
              "      <td>1.8 S</td>\n",
              "      <td>2ZR-FXE</td>\n",
              "      <td>1.5 LTR</td>\n",
              "      <td>2022-08-20 00:00:00</td>\n",
              "      <td>Vladivostok</td>\n",
              "      <td>2022-08-20 04:00:00</td>\n",
              "    </tr>\n",
              "    <tr>\n",
              "      <th>1</th>\n",
              "      <td>Toyota</td>\n",
              "      <td>Land Cruiser</td>\n",
              "      <td>jeep 5 doors</td>\n",
              "      <td>white</td>\n",
              "      <td>Gasoline</td>\n",
              "      <td>2017.0</td>\n",
              "      <td>305000.0</td>\n",
              "      <td>Automatic</td>\n",
              "      <td>215.000000</td>\n",
              "      <td>950000</td>\n",
              "      <td>1.8 S</td>\n",
              "      <td>2ZR-FXE</td>\n",
              "      <td>1.5 LTR</td>\n",
              "      <td>2022-08-20 00:00:00</td>\n",
              "      <td>Vladivostok</td>\n",
              "      <td>2022-08-20 04:00:00</td>\n",
              "    </tr>\n",
              "    <tr>\n",
              "      <th>2</th>\n",
              "      <td>Toyota</td>\n",
              "      <td>Prius</td>\n",
              "      <td>liftback</td>\n",
              "      <td>black</td>\n",
              "      <td>Gasoline</td>\n",
              "      <td>2017.0</td>\n",
              "      <td>200000.0</td>\n",
              "      <td>CVT</td>\n",
              "      <td>99.000000</td>\n",
              "      <td>829000</td>\n",
              "      <td>1.8 S</td>\n",
              "      <td>2ZR-FXE</td>\n",
              "      <td>1.5 LTR</td>\n",
              "      <td>2022-08-20 00:00:00</td>\n",
              "      <td>Vladivostok</td>\n",
              "      <td>2022-08-20 04:00:00</td>\n",
              "    </tr>\n",
              "    <tr>\n",
              "      <th>3</th>\n",
              "      <td>Toyota</td>\n",
              "      <td>Crown</td>\n",
              "      <td>sedan</td>\n",
              "      <td>blue</td>\n",
              "      <td>Gasoline</td>\n",
              "      <td>1993.0</td>\n",
              "      <td>250000.0</td>\n",
              "      <td>AT</td>\n",
              "      <td>230.000000</td>\n",
              "      <td>150000</td>\n",
              "      <td>3.0 Royal saloon G</td>\n",
              "      <td>2JZ-GE</td>\n",
              "      <td>3.0 LTR</td>\n",
              "      <td>2022-08-20 00:00:00</td>\n",
              "      <td>Vladivostok</td>\n",
              "      <td>2022-08-20 04:00:00</td>\n",
              "    </tr>\n",
              "    <tr>\n",
              "      <th>4</th>\n",
              "      <td>Toyota</td>\n",
              "      <td>Passo</td>\n",
              "      <td>hatchback 5 doors</td>\n",
              "      <td>burgundy</td>\n",
              "      <td>Gasoline</td>\n",
              "      <td>2010.0</td>\n",
              "      <td>130000.0</td>\n",
              "      <td>CVT</td>\n",
              "      <td>69.000000</td>\n",
              "      <td>500000</td>\n",
              "      <td>1.0 plus hana</td>\n",
              "      <td>1KR-FE</td>\n",
              "      <td>1.0 LTR</td>\n",
              "      <td>2022-08-20 00:00:00</td>\n",
              "      <td>Vladivostok</td>\n",
              "      <td>2022-08-20 04:00:00</td>\n",
              "    </tr>\n",
              "  </tbody>\n",
              "</table>\n",
              "</div>\n",
              "      <button class=\"colab-df-convert\" onclick=\"convertToInteractive('df-f4455f48-4e61-4ece-a908-75a7860210cd')\"\n",
              "              title=\"Convert this dataframe to an interactive table.\"\n",
              "              style=\"display:none;\">\n",
              "        \n",
              "  <svg xmlns=\"http://www.w3.org/2000/svg\" height=\"24px\"viewBox=\"0 0 24 24\"\n",
              "       width=\"24px\">\n",
              "    <path d=\"M0 0h24v24H0V0z\" fill=\"none\"/>\n",
              "    <path d=\"M18.56 5.44l.94 2.06.94-2.06 2.06-.94-2.06-.94-.94-2.06-.94 2.06-2.06.94zm-11 1L8.5 8.5l.94-2.06 2.06-.94-2.06-.94L8.5 2.5l-.94 2.06-2.06.94zm10 10l.94 2.06.94-2.06 2.06-.94-2.06-.94-.94-2.06-.94 2.06-2.06.94z\"/><path d=\"M17.41 7.96l-1.37-1.37c-.4-.4-.92-.59-1.43-.59-.52 0-1.04.2-1.43.59L10.3 9.45l-7.72 7.72c-.78.78-.78 2.05 0 2.83L4 21.41c.39.39.9.59 1.41.59.51 0 1.02-.2 1.41-.59l7.78-7.78 2.81-2.81c.8-.78.8-2.07 0-2.86zM5.41 20L4 18.59l7.72-7.72 1.47 1.35L5.41 20z\"/>\n",
              "  </svg>\n",
              "      </button>\n",
              "      \n",
              "  <style>\n",
              "    .colab-df-container {\n",
              "      display:flex;\n",
              "      flex-wrap:wrap;\n",
              "      gap: 12px;\n",
              "    }\n",
              "\n",
              "    .colab-df-convert {\n",
              "      background-color: #E8F0FE;\n",
              "      border: none;\n",
              "      border-radius: 50%;\n",
              "      cursor: pointer;\n",
              "      display: none;\n",
              "      fill: #1967D2;\n",
              "      height: 32px;\n",
              "      padding: 0 0 0 0;\n",
              "      width: 32px;\n",
              "    }\n",
              "\n",
              "    .colab-df-convert:hover {\n",
              "      background-color: #E2EBFA;\n",
              "      box-shadow: 0px 1px 2px rgba(60, 64, 67, 0.3), 0px 1px 3px 1px rgba(60, 64, 67, 0.15);\n",
              "      fill: #174EA6;\n",
              "    }\n",
              "\n",
              "    [theme=dark] .colab-df-convert {\n",
              "      background-color: #3B4455;\n",
              "      fill: #D2E3FC;\n",
              "    }\n",
              "\n",
              "    [theme=dark] .colab-df-convert:hover {\n",
              "      background-color: #434B5C;\n",
              "      box-shadow: 0px 1px 3px 1px rgba(0, 0, 0, 0.15);\n",
              "      filter: drop-shadow(0px 1px 2px rgba(0, 0, 0, 0.3));\n",
              "      fill: #FFFFFF;\n",
              "    }\n",
              "  </style>\n",
              "\n",
              "      <script>\n",
              "        const buttonEl =\n",
              "          document.querySelector('#df-f4455f48-4e61-4ece-a908-75a7860210cd button.colab-df-convert');\n",
              "        buttonEl.style.display =\n",
              "          google.colab.kernel.accessAllowed ? 'block' : 'none';\n",
              "\n",
              "        async function convertToInteractive(key) {\n",
              "          const element = document.querySelector('#df-f4455f48-4e61-4ece-a908-75a7860210cd');\n",
              "          const dataTable =\n",
              "            await google.colab.kernel.invokeFunction('convertToInteractive',\n",
              "                                                     [key], {});\n",
              "          if (!dataTable) return;\n",
              "\n",
              "          const docLinkHtml = 'Like what you see? Visit the ' +\n",
              "            '<a target=\"_blank\" href=https://colab.research.google.com/notebooks/data_table.ipynb>data table notebook</a>'\n",
              "            + ' to learn more about interactive tables.';\n",
              "          element.innerHTML = '';\n",
              "          dataTable['output_type'] = 'display_data';\n",
              "          await google.colab.output.renderOutput(dataTable, element);\n",
              "          const docLink = document.createElement('div');\n",
              "          docLink.innerHTML = docLinkHtml;\n",
              "          element.appendChild(docLink);\n",
              "        }\n",
              "      </script>\n",
              "    </div>\n",
              "  </div>\n",
              "  "
            ]
          },
          "metadata": {},
          "execution_count": 72
        }
      ]
    },
    {
      "cell_type": "markdown",
      "metadata": {
        "id": "_0m5LkbVVJJ6"
      },
      "source": [
        "## Exploratory Analysis and Visualization\n",
        "\n",
        "**TODO**\n",
        "\n",
        "**Graph 1 Count plot for Top 10 Car brand.**\n",
        "\n",
        "**Graph 2 KDE plot to determine the average horsepower of a car.**\n",
        "\n",
        "**Graph 3 Barplot and pie chart to show fueltype of car**\n",
        "\n",
        "**Graph 4 Histplot for car mileage**\n",
        "\n",
        "**Graph 5 Heatmap graph and Lmplot to show correlation between price and other factors**\n",
        "\n"
      ]
    },
    {
      "cell_type": "markdown",
      "metadata": {
        "id": "6knKGHajVJJ6"
      },
      "source": [
        "Let's begin by importingmatplotlib.pyplot and seaborn."
      ]
    },
    {
      "cell_type": "markdown",
      "metadata": {
        "id": "Fv4NPHasVJJ7"
      },
      "source": [
        "**TODO** - Explore one or more columns by plotting a graph below, and add some explanation about it"
      ]
    },
    {
      "cell_type": "code",
      "source": [
        "import matplotlib.pyplot as plt\n",
        "import seaborn as sns\n",
        "import numpy as np"
      ],
      "metadata": {
        "id": "kOeoK9QGZdS7"
      },
      "execution_count": 92,
      "outputs": []
    },
    {
      "cell_type": "code",
      "execution_count": 122,
      "metadata": {
        "id": "-Scf_lKnVJJ7",
        "colab": {
          "base_uri": "https://localhost:8080/",
          "height": 842
        },
        "outputId": "31ce1baf-afb5-48b2-bc24-a72785cc0637"
      },
      "outputs": [
        {
          "output_type": "display_data",
          "data": {
            "text/plain": [
              "<Figure size 1440x1080 with 1 Axes>"
            ],
            "image/png": "[encoded data removed]"
          },
          "metadata": {}
        }
      ],
      "source": [
        "top_10_brands = df_sample['brand'].value_counts().head(10)\n",
        "sns.set(rc={'figure.figsize':(20,15)})\n",
        "\n",
        "\n",
        "sns.countplot(x='brand', data=df_sample, order=top_10_brands.index, palette=\"rocket\", orient='v').set_title('Top 10 Car Brands')\n",
        "plt.xlabel('Brand')\n",
        "plt.ylabel(\"Count\")\n",
        "plt.title(\"Frequency Table for Brand\" )\n",
        "plt.show()"
      ]
    },
    {
      "cell_type": "markdown",
      "metadata": {
        "id": "Dn_AW-5uVJJ7"
      },
      "source": [
        "**TODO** - Explore one or more columns by plotting a graph below, and add some explanation about it"
      ]
    },
    {
      "cell_type": "code",
      "execution_count": 124,
      "metadata": {
        "id": "c7fugjWzVJJ7",
        "colab": {
          "base_uri": "https://localhost:8080/",
          "height": 644
        },
        "outputId": "f6afa783-94aa-4743-cfaa-9ce480fc180c"
      },
      "outputs": [
        {
          "output_type": "execute_result",
          "data": {
            "text/plain": [
              "Text(0.5, 1.0, 'Average Car Horsepower')"
            ]
          },
          "metadata": {},
          "execution_count": 124
        },
        {
          "output_type": "display_data",
          "data": {
            "text/plain": [
              "<Figure size 720x720 with 1 Axes>"
            ],
            "image/png": "[encoded data removed]"
          },
          "metadata": {}
        }
      ],
      "source": [
        "sns.set(rc={'figure.figsize':(10,10)})\n",
        "plt.xticks(range(0, 1000, 100))\n",
        "sns.kdeplot(x = 'power',data = df_sample)\n",
        "plt.title(\"Average Car Horsepower\")"
      ]
    },
    {
      "cell_type": "markdown",
      "metadata": {
        "id": "rN1bUu8RVJJ7"
      },
      "source": [
        "**TODO** - Explore one or more columns by plotting a graph below, and add some explanation about it"
      ]
    },
    {
      "cell_type": "code",
      "execution_count": null,
      "metadata": {
        "id": "kMrm6CiAVJJ8",
        "colab": {
          "base_uri": "https://localhost:8080/",
          "height": 560
        },
        "outputId": "d60cbe6b-e017-41d4-b964-d6a8e865766d"
      },
      "outputs": [
        {
          "output_type": "display_data",
          "data": {
            "text/plain": [
              "<Figure size 1080x576 with 2 Axes>"
            ],
            "image/png": "[encoded data removed]"
          },
          "metadata": {}
        }
      ],
      "source": [
        "fig, ax = plt.subplots(1, 2, figsize=(15,8))\n",
        "x=df_sample['fuelType'].value_counts().index\n",
        "y=df_sample['fuelType'].value_counts().values.tolist()\n",
        "\n",
        "data = df_sample.groupby(\"fuelType\").size()\n",
        "sns.set(style=\"dark\", color_codes=True)\n",
        "pal = sns.color_palette(\"magma\", len(data))\n",
        "rank = data.argsort().argsort() \n",
        "\n",
        "sns.barplot(x=x,y=y,palette=np.array(pal[::-1])[rank],ax = ax[0])\n",
        "\n",
        "for p in ax[0].patches:\n",
        "        ax[0].annotate('{:.0f}'.format(p.get_height()), (p.get_x()+0.3, p.get_height()),\n",
        "                    ha='center', va='bottom',\n",
        "                    color= 'black')\n",
        "ax[0].set_xlabel('fuelType', weight='semibold', fontname = 'monospace')\n",
        "_, _, autotexts= ax[1].pie(y, labels = x, colors = pal, autopct='%1.1f%%',\n",
        "        explode=[0.03 for i in df_sample['fuelType'].value_counts().index])\n",
        "\n",
        "for autotext in autotexts:\n",
        "    autotext.set_color('white')\n",
        "\n",
        "plt.legend(bbox_to_anchor=(1, 1))\n",
        "plt.suptitle ('fuelType',weight = 'bold')\n",
        "plt.show()"
      ]
    },
    {
      "cell_type": "markdown",
      "metadata": {
        "id": "tLNLw0EOVJJ8"
      },
      "source": [
        "**TODO** - Explore one or more columns by plotting a graph below, and add some explanation about it"
      ]
    },
    {
      "cell_type": "code",
      "execution_count": 83,
      "metadata": {
        "id": "61sgf555VJJ8",
        "colab": {
          "base_uri": "https://localhost:8080/",
          "height": 628
        },
        "outputId": "a1064029-a34b-4348-82bf-555fc35b9d92"
      },
      "outputs": [
        {
          "output_type": "execute_result",
          "data": {
            "text/plain": [
              "<matplotlib.axes._subplots.AxesSubplot at 0x7fc87dc2ae80>"
            ]
          },
          "metadata": {},
          "execution_count": 83
        },
        {
          "output_type": "display_data",
          "data": {
            "text/plain": [
              "<Figure size 720x720 with 1 Axes>"
            ],
            "image/png": "[encoded data removed]"
          },
          "metadata": {}
        }
      ],
      "source": [
        "sns.histplot(data=df_sample, x='mileage',bins=30,color = 'r')"
      ]
    },
    {
      "cell_type": "markdown",
      "metadata": {
        "id": "nt_CVhi-VJJ8"
      },
      "source": [
        "**TODO** - Explore one or more columns by plotting a graph below, and add some explanation about it"
      ]
    },
    {
      "cell_type": "code",
      "source": [
        "corr = df_sample.corr()\n",
        "plt.figure(figsize=(20, 9))\n",
        "k = 18 #number of variables for heatmap\n",
        "cols = corr.nlargest(k, 'price')['price'].index\n",
        "cm = np.corrcoef(df_sample[cols].values.T)\n",
        "sns.set(font_scale=1.25)\n",
        "hm = sns.heatmap(cm, cbar=True, annot=True, square=True, fmt='.2f', annot_kws={'size': 10}, yticklabels=cols.values, xticklabels=cols.values,cmap=\"Blues\")\n",
        "plt.show()"
      ],
      "metadata": {
        "colab": {
          "base_uri": "https://localhost:8080/",
          "height": 549
        },
        "id": "My_Q_UY2mwFO",
        "outputId": "b611caa6-3c25-47d8-bd26-9c965977995e"
      },
      "execution_count": 94,
      "outputs": [
        {
          "output_type": "display_data",
          "data": {
            "text/plain": [
              "<Figure size 1440x648 with 2 Axes>"
            ],
            "image/png": "[encoded data removed]"
          },
          "metadata": {}
        }
      ]
    },
    {
      "cell_type": "code",
      "execution_count": 85,
      "metadata": {
        "id": "Zatc4Si_VJJ8",
        "colab": {
          "base_uri": "https://localhost:8080/",
          "height": 382
        },
        "outputId": "b76644d0-7c52-4d41-958c-662d2e35ab05"
      },
      "outputs": [
        {
          "output_type": "execute_result",
          "data": {
            "text/plain": [
              "<seaborn.axisgrid.FacetGrid at 0x7fc87dc430d0>"
            ]
          },
          "metadata": {},
          "execution_count": 85
        },
        {
          "output_type": "display_data",
          "data": {
            "text/plain": [
              "<Figure size 360x360 with 1 Axes>"
            ],
            "image/png": "[encoded data removed]"
          },
          "metadata": {}
        }
      ],
      "source": [
        "sns.lmplot(data=df_sample,x='power',y='price')"
      ]
    },
    {
      "cell_type": "markdown",
      "source": [
        "**TODO** - Explore one or more columns by plotting a graph below, and add some explanation about it"
      ],
      "metadata": {
        "id": "xaYQs13TpKDs"
      }
    },
    {
      "cell_type": "code",
      "source": [
        "plt.figure(figsize=(20, 9))\n",
        "# Calculate the average price by brand\n",
        "avg_price_by_brand = df_sample.groupby('brand')['price'].mean()\n",
        "\n",
        "# Sort the values in descending order\n",
        "avg_price_by_brand = avg_price_by_brand.sort_values(ascending=False)\n",
        "\n",
        "# Create the bar plot\n",
        "sns.barplot(x=avg_price_by_brand.index, y=avg_price_by_brand.values, palette='rocket')\n",
        "\n",
        "# Set the x-axis labels to be vertical\n",
        "plt.xticks(rotation=90)\n",
        "plt.yticks(range(15000, 10000000, 2500000))\n",
        "# Add a title\n",
        "plt.title('Average Price by Brand')"
      ],
      "metadata": {
        "colab": {
          "base_uri": "https://localhost:8080/",
          "height": 667
        },
        "id": "71GSKec1pCyF",
        "outputId": "534ed5ba-dcb8-4d70-e6a2-82ddafcf05cc"
      },
      "execution_count": 117,
      "outputs": [
        {
          "output_type": "execute_result",
          "data": {
            "text/plain": [
              "Text(0.5, 1.0, 'Average Price by Brand')"
            ]
          },
          "metadata": {},
          "execution_count": 117
        },
        {
          "output_type": "display_data",
          "data": {
            "text/plain": [
              "<Figure size 1440x648 with 1 Axes>"
            ],
            "image/png": "[encoded data removed]"
          },
          "metadata": {}
        }
      ]
    },
    {
      "cell_type": "code",
      "source": [
        "avg_price_by_brand.tail()"
      ],
      "metadata": {
        "colab": {
          "base_uri": "https://localhost:8080/"
        },
        "id": "nWmd0AQwDfv8",
        "outputId": "1a84dba1-acd7-44b3-8947-5ad044d2391f"
      },
      "execution_count": 123,
      "outputs": [
        {
          "output_type": "execute_result",
          "data": {
            "text/plain": [
              "brand\n",
              "Geely       215714.285714\n",
              "LuAZ        124117.411765\n",
              "Xin Kai     100000.000000\n",
              "IZh          96666.666667\n",
              "Moskvich     72823.294118\n",
              "Name: price, dtype: float64"
            ]
          },
          "metadata": {},
          "execution_count": 123
        }
      ]
    },
    {
      "cell_type": "markdown",
      "metadata": {
        "id": "E0U3IWm8VJJ9"
      },
      "source": [
        "## Asking and Answering Questions\n",
        "\n",
        "In this part, we are wish to ask 5 questions and answer through the graph plotted in our EDA\n",
        "\n"
      ]
    },
    {
      "cell_type": "markdown",
      "source": [
        "####**1) What is the most popular car brand?**\n",
        "**ANSWER:** Toyota followed by Honda and Nissan is the top 3 popular car brand chosen.\n",
        "\n",
        "[Graph 1](#scrollTo=-Scf_lKnVJJ7&line=1&uniqifier=1)- Click Here To Scroll\n",
        "\n",
        "Tools used:\n",
        "1.   Seaborn:Plot bar graph\n",
        "2.   Pandas: Take the top 10 brand\n",
        "3.   Matplotlib: Title,axis labelling\n"
      ],
      "metadata": {
        "id": "ifg8xVLs--pb"
      }
    },
    {
      "cell_type": "markdown",
      "source": [
        "####**2) What is the average power of a car?**\n",
        "**ANSWER:** \n",
        "Average powers of all cars are between 100 to 200\n",
        "\n",
        "[Graph 2](#scrollTo=c7fugjWzVJJ7&line=1&uniqifier=1)- Click Here To Scroll\n",
        "\n",
        "Tools used:\n",
        "1.   Seaborn:Plot bar chart and pie chart\n",
        "2.   Panda: Groupby\n",
        "3.   Matplotlib: plot title axis"
      ],
      "metadata": {
        "id": "5rNRFRasAP27"
      }
    },
    {
      "cell_type": "markdown",
      "source": [
        "####**3) What is the most popular fuel type among the car?**\n",
        "**ANSWER:** \n",
        "Gasoline, Almost 90.1 percent of car use gasoline.\n",
        "\n",
        "[Graph 3](#scrollTo=kMrm6CiAVJJ8&line=1&uniqifier=1)- Click Here To Scroll\n",
        "\n",
        "Tools used:\n",
        "1.   Seaborn:Plot bar graph\n",
        "2.   Pandas: groupby()\n",
        "3.   Matplotlib: Title,axis labelling and custome style"
      ],
      "metadata": {
        "id": "QC35F853BVri"
      }
    },
    {
      "cell_type": "markdown",
      "source": [
        "####**4) Which factor affect the price of car the most and how does it affect?**\n",
        "**ANSWER:** \n",
        "Car Power.The higher the car power, the higher the price of car\n",
        "\n",
        "[Graph 4](#scrollTo=My_Q_UY2mwFO&line=1&uniqifier=1)- Click Here To Scroll\n",
        "[Graph 5](#scrollTo=Zatc4Si_VJJ8&line=1&uniqifier=1)- Click Here To Scroll\n",
        "\n",
        "Tools used:\n",
        "1.   Seaborn:Plot heatmap graph and lmplot for correlation between price and power\n",
        "2.   Pandas: corr()\n",
        "3.   Matplotlib: Title,axis labelling and custome style"
      ],
      "metadata": {
        "id": "dVI__VZTCHuK"
      }
    },
    {
      "cell_type": "markdown",
      "source": [
        "####**5) Which brand has the highest and lowest average price**\n",
        "**ANSWER:** \n",
        "\n",
        "**Top 5 Highest Price**\n",
        "\n",
        "Top 1 : Ferrari\n",
        "\n",
        "Top 2 : Ram\n",
        "\n",
        "Top 3 : Genesis\n",
        "\n",
        "Top 4 : Bentley\n",
        "\n",
        "Top 5 : Tesla\n",
        "\n",
        "\n",
        "**Top 5 Lowest Price**\n",
        "\n",
        "Top 1 : Moskvich\n",
        "\n",
        "Top 2 : Izh\n",
        "\n",
        "Top 3 : Xin Kai \n",
        "\n",
        "Top 4 : LuAZ\n",
        "\n",
        "Top 5 : Geely\n",
        "\n",
        "[Graph 6](#scrollTo=71GSKec1pCyF&line=6&uniqifier=1)- Click Here To Scroll\n",
        "\n",
        "\n",
        "Tools used:\n",
        "1.   Seaborn:Plot bar chart\n",
        "2.   Pandas: groupby,mean,sort\n",
        "3.   Matplotlib: Title,axis labelling and custome style, x y tick interval"
      ],
      "metadata": {
        "id": "-KvGT4rVC4bL"
      }
    },
    {
      "cell_type": "markdown",
      "metadata": {
        "id": "VxoO755tVJJ_"
      },
      "source": [
        "## Inferences and Conclusion\n",
        "\n"
      ]
    },
    {
      "cell_type": "markdown",
      "source": [
        "**Inferences**\n",
        "1. Japanese car brand like Toyota, Honda and Nissan are the most popular car brand chosen by the customer. This is relevant as they have a strong presence in the global market, with manufacturing and sales operations in multiple countries around the world, which may make it easier for consumers to purchase and service the vehicles.\n",
        "2. The brand with the highest mean price like Ferrari, Ram and Genesis are considered a luxury brand and associated with higher quality or performance.\n",
        "3. It is no doubt that Gasoline-powered cars are more common than cars with other fuel types, such as electric or diesels.Gasoline-powered cars may be preferred by consumers due to their availability, affordability, and reliability."
      ],
      "metadata": {
        "id": "L-dCGzXiEfL6"
      }
    },
    {
      "cell_type": "markdown",
      "source": [
        "**Conclusion**\n",
        "\n",
        "We provide these following recommendations to customers based on their intention/interest for buying cars.\n",
        "1. If you want to buy car that are popular among the society , you can choose the japanese car brand like Toyota,Honda and Nissan.\n",
        "2. If you want to buy a luxury car, you can choose Ferrari, RAM and Genesis.\n",
        "3. Gasoline-powered car is the most popular fuel type among cars\n",
        "4. If you want to buy a cheaper car, you can search for car which has lower car power."
      ],
      "metadata": {
        "id": "kArPKh7iGz_K"
      }
    },
    {
      "cell_type": "markdown",
      "metadata": {
        "id": "xfuc6sJgVJKA"
      },
      "source": [
        "## References and Future Work\n",
        "\n",
        "**TODO** - Write some explanation here: ideas for future projects using this dataset, and links to resources you found useful."
      ]
    },
    {
      "cell_type": "markdown",
      "source": [
        "Reference: [Kaggle Car Sales Dataset](https://www.kaggle.com/datasets/ekibee/car-sales-information)"
      ],
      "metadata": {
        "id": "ANNJAjYXET3i"
      }
    }
  ],
  "metadata": {
    "kernelspec": {
      "display_name": "Python 3",
      "language": "python",
      "name": "python3"
    },
    "language_info": {
      "codemirror_mode": {
        "name": "ipython",
        "version": 3
      },
      "file_extension": ".py",
      "mimetype": "text/x-python",
      "name": "python",
      "nbconvert_exporter": "python",
      "pygments_lexer": "ipython3",
      "version": "3.8.5"
    },
    "colab": {
      "provenance": []
    }
  },
  "nbformat": 4,
  "nbformat_minor": 0
}

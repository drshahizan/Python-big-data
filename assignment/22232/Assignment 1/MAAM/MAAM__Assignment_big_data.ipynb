{
  "cells": [
    {
      "cell_type": "markdown",
      "metadata": {
        "id": "view-in-github",
        "colab_type": "text"
      },
      "source": [
        "<a href=\"https://colab.research.google.com/github/drshahizan/Python-big-data/blob/main/Assignment%201%20Pandas/team%2011/MAAM__Assignment_big_data.ipynb\" target=\"_parent\"><img src=\"https://colab.research.google.com/assets/colab-badge.svg\" alt=\"Open In Colab\"/></a>"
      ]
    },
    {
      "cell_type": "markdown",
      "source": [
        "# **Group Members:**\n",
        "1. MIKHEL ADAM BIN MUHAMMAD EZRIN (A20EC0237)\n",
        "2. AHMAD MUHAIMIN BIN AHMAD HAMBALI (A20EC0006)\n",
        "\n"
      ],
      "metadata": {
        "id": "ed5TZt4A4_xW"
      }
    },
    {
      "cell_type": "markdown",
      "metadata": {
        "id": "7F8DQl5dVJJ0"
      },
      "source": [
        "# **US Accidents (2016 - 2021) Analysis**\n",
        "\n",
        "The dataset contains car accident information from all 49 states in the USA, and the data was gathered from February 2016 to December 2021. For this analysis, we will use Python and several libraries including mathplotlib, pandas, seaborn, and numpy as well as using sampling to perform our analysis.\n",
        "\n",
        "\n",
        "\n"
      ]
    },
    {
      "cell_type": "markdown",
      "metadata": {
        "id": "LxWzVndBVJJ1"
      },
      "source": [
        "## **Downloading the Dataset**\n",
        "\n",
        "The dataset we'll be using is titled [US Accidents (2016 - 2021)](https://www.kaggle.com/datasets/sobhanmoosavi/us-accidents), taken from Kaggle. Instead of downloading the data set onto our own system, we will be using an API command to download the dataset directly into Google Colab.\n"
      ]
    },
    {
      "cell_type": "markdown",
      "metadata": {
        "id": "oHRcyidmVJJ1"
      },
      "source": [
        "\n",
        "Before we start, we need to download our Kaggle API Token:\n",
        "1. Go to [kaggle.com](https://kaggle.com) and sign in\n",
        "2. On the top right of the page, click your profile picture and click on \"Account\"\n",
        "3. Scroll down to the section called \"API\" and click  \"Create API Token\"\n",
        "4. Save the kaggle.json file somewhere easy to locate\n"
      ]
    },
    {
      "cell_type": "markdown",
      "metadata": {
        "id": "GhhO14GEVJJ2"
      },
      "source": [
        "**Install Kaggle and matplotlib packages**"
      ]
    },
    {
      "cell_type": "code",
      "execution_count": null,
      "metadata": {
        "id": "oAVmLuq2VJJ3",
        "colab": {
          "base_uri": "https://localhost:8080/"
        },
        "outputId": "2426390e-e7ba-4152-fe55-040b00999adf"
      },
      "outputs": [
        {
          "output_type": "stream",
          "name": "stdout",
          "text": [
            "Looking in indexes: https://pypi.org/simple, https://us-python.pkg.dev/colab-wheels/public/simple/\n",
            "Requirement already satisfied: kaggle in /usr/local/lib/python3.8/dist-packages (1.5.12)\n",
            "Requirement already satisfied: certifi in /usr/local/lib/python3.8/dist-packages (from kaggle) (2022.12.7)\n",
            "Requirement already satisfied: six>=1.10 in /usr/local/lib/python3.8/dist-packages (from kaggle) (1.15.0)\n",
            "Requirement already satisfied: requests in /usr/local/lib/python3.8/dist-packages (from kaggle) (2.23.0)\n",
            "Requirement already satisfied: urllib3 in /usr/local/lib/python3.8/dist-packages (from kaggle) (1.24.3)\n",
            "Requirement already satisfied: python-slugify in /usr/local/lib/python3.8/dist-packages (from kaggle) (7.0.0)\n",
            "Requirement already satisfied: tqdm in /usr/local/lib/python3.8/dist-packages (from kaggle) (4.64.1)\n",
            "Requirement already satisfied: python-dateutil in /usr/local/lib/python3.8/dist-packages (from kaggle) (2.8.2)\n",
            "Requirement already satisfied: text-unidecode>=1.3 in /usr/local/lib/python3.8/dist-packages (from python-slugify->kaggle) (1.3)\n",
            "Requirement already satisfied: idna<3,>=2.5 in /usr/local/lib/python3.8/dist-packages (from requests->kaggle) (2.10)\n",
            "Requirement already satisfied: chardet<4,>=3.0.2 in /usr/local/lib/python3.8/dist-packages (from requests->kaggle) (3.0.4)\n",
            "Looking in indexes: https://pypi.org/simple, https://us-python.pkg.dev/colab-wheels/public/simple/\n",
            "Requirement already satisfied: matplotlib in /usr/local/lib/python3.8/dist-packages (3.2.2)\n",
            "Requirement already satisfied: cycler>=0.10 in /usr/local/lib/python3.8/dist-packages (from matplotlib) (0.11.0)\n",
            "Requirement already satisfied: pyparsing!=2.0.4,!=2.1.2,!=2.1.6,>=2.0.1 in /usr/local/lib/python3.8/dist-packages (from matplotlib) (3.0.9)\n",
            "Requirement already satisfied: kiwisolver>=1.0.1 in /usr/local/lib/python3.8/dist-packages (from matplotlib) (1.4.4)\n",
            "Requirement already satisfied: numpy>=1.11 in /usr/local/lib/python3.8/dist-packages (from matplotlib) (1.21.6)\n",
            "Requirement already satisfied: python-dateutil>=2.1 in /usr/local/lib/python3.8/dist-packages (from matplotlib) (2.8.2)\n",
            "Requirement already satisfied: six>=1.5 in /usr/local/lib/python3.8/dist-packages (from python-dateutil>=2.1->matplotlib) (1.15.0)\n"
          ]
        }
      ],
      "source": [
        "!pip install kaggle\n",
        "!pip install matplotlib"
      ]
    },
    {
      "cell_type": "markdown",
      "source": [
        "**Upload Kaggle API Token (kaggle.json)**"
      ],
      "metadata": {
        "id": "yny7YWf3NX7S"
      }
    },
    {
      "cell_type": "code",
      "source": [
        "from google.colab import files\n",
        "uploaded = files.upload()"
      ],
      "metadata": {
        "colab": {
          "base_uri": "https://localhost:8080/",
          "height": 73
        },
        "id": "HFVAfu5n6KVE",
        "outputId": "ad89e953-dc5e-48d2-dc1e-8fdd1430ca97"
      },
      "execution_count": null,
      "outputs": [
        {
          "output_type": "display_data",
          "data": {
            "text/plain": [
              "<IPython.core.display.HTML object>"
            ],
            "text/html": [
              "\n",
              "     <input type=\"file\" id=\"files-a673cf04-232b-4c08-814f-258ba1b5473f\" name=\"files[]\" multiple disabled\n",
              "        style=\"border:none\" />\n",
              "     <output id=\"result-a673cf04-232b-4c08-814f-258ba1b5473f\">\n",
              "      Upload widget is only available when the cell has been executed in the\n",
              "      current browser session. Please rerun this cell to enable.\n",
              "      </output>\n",
              "      <script>// Copyright 2017 Google LLC\n",
              "//\n",
              "// Licensed under the Apache License, Version 2.0 (the \"License\");\n",
              "// you may not use this file except in compliance with the License.\n",
              "// You may obtain a copy of the License at\n",
              "//\n",
              "//      http://www.apache.org/licenses/LICENSE-2.0\n",
              "//\n",
              "// Unless required by applicable law or agreed to in writing, software\n",
              "// distributed under the License is distributed on an \"AS IS\" BASIS,\n",
              "// WITHOUT WARRANTIES OR CONDITIONS OF ANY KIND, either express or implied.\n",
              "// See the License for the specific language governing permissions and\n",
              "// limitations under the License.\n",
              "\n",
              "/**\n",
              " * @fileoverview Helpers for google.colab Python module.\n",
              " */\n",
              "(function(scope) {\n",
              "function span(text, styleAttributes = {}) {\n",
              "  const element = document.createElement('span');\n",
              "  element.textContent = text;\n",
              "  for (const key of Object.keys(styleAttributes)) {\n",
              "    element.style[key] = styleAttributes[key];\n",
              "  }\n",
              "  return element;\n",
              "}\n",
              "\n",
              "// Max number of bytes which will be uploaded at a time.\n",
              "const MAX_PAYLOAD_SIZE = 100 * 1024;\n",
              "\n",
              "function _uploadFiles(inputId, outputId) {\n",
              "  const steps = uploadFilesStep(inputId, outputId);\n",
              "  const outputElement = document.getElementById(outputId);\n",
              "  // Cache steps on the outputElement to make it available for the next call\n",
              "  // to uploadFilesContinue from Python.\n",
              "  outputElement.steps = steps;\n",
              "\n",
              "  return _uploadFilesContinue(outputId);\n",
              "}\n",
              "\n",
              "// This is roughly an async generator (not supported in the browser yet),\n",
              "// where there are multiple asynchronous steps and the Python side is going\n",
              "// to poll for completion of each step.\n",
              "// This uses a Promise to block the python side on completion of each step,\n",
              "// then passes the result of the previous step as the input to the next step.\n",
              "function _uploadFilesContinue(outputId) {\n",
              "  const outputElement = document.getElementById(outputId);\n",
              "  const steps = outputElement.steps;\n",
              "\n",
              "  const next = steps.next(outputElement.lastPromiseValue);\n",
              "  return Promise.resolve(next.value.promise).then((value) => {\n",
              "    // Cache the last promise value to make it available to the next\n",
              "    // step of the generator.\n",
              "    outputElement.lastPromiseValue = value;\n",
              "    return next.value.response;\n",
              "  });\n",
              "}\n",
              "\n",
              "/**\n",
              " * Generator function which is called between each async step of the upload\n",
              " * process.\n",
              " * @param {string} inputId Element ID of the input file picker element.\n",
              " * @param {string} outputId Element ID of the output display.\n",
              " * @return {!Iterable<!Object>} Iterable of next steps.\n",
              " */\n",
              "function* uploadFilesStep(inputId, outputId) {\n",
              "  const inputElement = document.getElementById(inputId);\n",
              "  inputElement.disabled = false;\n",
              "\n",
              "  const outputElement = document.getElementById(outputId);\n",
              "  outputElement.innerHTML = '';\n",
              "\n",
              "  const pickedPromise = new Promise((resolve) => {\n",
              "    inputElement.addEventListener('change', (e) => {\n",
              "      resolve(e.target.files);\n",
              "    });\n",
              "  });\n",
              "\n",
              "  const cancel = document.createElement('button');\n",
              "  inputElement.parentElement.appendChild(cancel);\n",
              "  cancel.textContent = 'Cancel upload';\n",
              "  const cancelPromise = new Promise((resolve) => {\n",
              "    cancel.onclick = () => {\n",
              "      resolve(null);\n",
              "    };\n",
              "  });\n",
              "\n",
              "  // Wait for the user to pick the files.\n",
              "  const files = yield {\n",
              "    promise: Promise.race([pickedPromise, cancelPromise]),\n",
              "    response: {\n",
              "      action: 'starting',\n",
              "    }\n",
              "  };\n",
              "\n",
              "  cancel.remove();\n",
              "\n",
              "  // Disable the input element since further picks are not allowed.\n",
              "  inputElement.disabled = true;\n",
              "\n",
              "  if (!files) {\n",
              "    return {\n",
              "      response: {\n",
              "        action: 'complete',\n",
              "      }\n",
              "    };\n",
              "  }\n",
              "\n",
              "  for (const file of files) {\n",
              "    const li = document.createElement('li');\n",
              "    li.append(span(file.name, {fontWeight: 'bold'}));\n",
              "    li.append(span(\n",
              "        `(${file.type || 'n/a'}) - ${file.size} bytes, ` +\n",
              "        `last modified: ${\n",
              "            file.lastModifiedDate ? file.lastModifiedDate.toLocaleDateString() :\n",
              "                                    'n/a'} - `));\n",
              "    const percent = span('0% done');\n",
              "    li.appendChild(percent);\n",
              "\n",
              "    outputElement.appendChild(li);\n",
              "\n",
              "    const fileDataPromise = new Promise((resolve) => {\n",
              "      const reader = new FileReader();\n",
              "      reader.onload = (e) => {\n",
              "        resolve(e.target.result);\n",
              "      };\n",
              "      reader.readAsArrayBuffer(file);\n",
              "    });\n",
              "    // Wait for the data to be ready.\n",
              "    let fileData = yield {\n",
              "      promise: fileDataPromise,\n",
              "      response: {\n",
              "        action: 'continue',\n",
              "      }\n",
              "    };\n",
              "\n",
              "    // Use a chunked sending to avoid message size limits. See b/62115660.\n",
              "    let position = 0;\n",
              "    do {\n",
              "      const length = Math.min(fileData.byteLength - position, MAX_PAYLOAD_SIZE);\n",
              "      const chunk = new Uint8Array(fileData, position, length);\n",
              "      position += length;\n",
              "\n",
              "      const base64 = btoa(String.fromCharCode.apply(null, chunk));\n",
              "      yield {\n",
              "        response: {\n",
              "          action: 'append',\n",
              "          file: file.name,\n",
              "          data: base64,\n",
              "        },\n",
              "      };\n",
              "\n",
              "      let percentDone = fileData.byteLength === 0 ?\n",
              "          100 :\n",
              "          Math.round((position / fileData.byteLength) * 100);\n",
              "      percent.textContent = `${percentDone}% done`;\n",
              "\n",
              "    } while (position < fileData.byteLength);\n",
              "  }\n",
              "\n",
              "  // All done.\n",
              "  yield {\n",
              "    response: {\n",
              "      action: 'complete',\n",
              "    }\n",
              "  };\n",
              "}\n",
              "\n",
              "scope.google = scope.google || {};\n",
              "scope.google.colab = scope.google.colab || {};\n",
              "scope.google.colab._files = {\n",
              "  _uploadFiles,\n",
              "  _uploadFilesContinue,\n",
              "};\n",
              "})(self);\n",
              "</script> "
            ]
          },
          "metadata": {}
        },
        {
          "output_type": "stream",
          "name": "stdout",
          "text": [
            "Saving kaggle.json to kaggle.json\n"
          ]
        }
      ]
    },
    {
      "cell_type": "code",
      "source": [
        "!mkdir ~/.kaggle\n",
        "!cp kaggle.json ~/.kaggle/\n",
        "!chmod 600 ~/.kaggle/kaggle.json"
      ],
      "metadata": {
        "id": "ScC7_CJ56W-K"
      },
      "execution_count": null,
      "outputs": []
    },
    {
      "cell_type": "markdown",
      "source": [
        "**API Command to download the dataset**"
      ],
      "metadata": {
        "id": "50y5eA9qN-73"
      }
    },
    {
      "cell_type": "code",
      "source": [
        "!kaggle datasets download -d sobhanmoosavi/us-accidents"
      ],
      "metadata": {
        "colab": {
          "base_uri": "https://localhost:8080/"
        },
        "id": "49aVvhqu6jPt",
        "outputId": "4d7d48f4-4e9e-4692-db40-1b115bbcb939"
      },
      "execution_count": null,
      "outputs": [
        {
          "output_type": "stream",
          "name": "stdout",
          "text": [
            "Downloading us-accidents.zip to /content\n",
            " 98% 264M/269M [00:03<00:00, 71.0MB/s]\n",
            "100% 269M/269M [00:03<00:00, 76.4MB/s]\n"
          ]
        }
      ]
    },
    {
      "cell_type": "code",
      "source": [
        "!unzip us-accidents.zip"
      ],
      "metadata": {
        "colab": {
          "base_uri": "https://localhost:8080/"
        },
        "id": "rzCOY0eD6sZj",
        "outputId": "94cb975a-d40c-4697-beed-867b7f6d8cb2"
      },
      "execution_count": null,
      "outputs": [
        {
          "output_type": "stream",
          "name": "stdout",
          "text": [
            "Archive:  us-accidents.zip\n",
            "  inflating: US_Accidents_Dec21_updated.csv  \n"
          ]
        }
      ]
    },
    {
      "cell_type": "markdown",
      "metadata": {
        "id": "u0vucnGFVJJ5"
      },
      "source": [
        "## **Data Preparation and Cleaning**\n",
        "\n",
        "In this section, we will perform data cleaning by removing any null values and changing certain data types to make it easier to analyze the data.\n"
      ]
    },
    {
      "cell_type": "markdown",
      "source": [
        "**Importing Pandas, Numpy, Seaborn, random, and matplotlib packages**"
      ],
      "metadata": {
        "id": "JYaCcl1mOddC"
      }
    },
    {
      "cell_type": "code",
      "execution_count": null,
      "metadata": {
        "id": "uowAPeffVJJ4",
        "colab": {
          "base_uri": "https://localhost:8080/",
          "height": 939
        },
        "outputId": "2f8b8a01-0f75-464a-8bad-4c60c1431973"
      },
      "outputs": [
        {
          "output_type": "execute_result",
          "data": {
            "text/plain": [
              "                ID  Severity           Start_Time             End_Time  \\\n",
              "0              A-1         3  2016-02-08 00:37:08  2016-02-08 06:37:08   \n",
              "1              A-2         2  2016-02-08 05:56:20  2016-02-08 11:56:20   \n",
              "2              A-3         2  2016-02-08 06:15:39  2016-02-08 12:15:39   \n",
              "3              A-4         2  2016-02-08 06:51:45  2016-02-08 12:51:45   \n",
              "4              A-5         3  2016-02-08 07:53:43  2016-02-08 13:53:43   \n",
              "...            ...       ...                  ...                  ...   \n",
              "2845337  A-2845338         2  2019-08-23 18:03:25  2019-08-23 18:32:01   \n",
              "2845338  A-2845339         2  2019-08-23 19:11:30  2019-08-23 19:38:23   \n",
              "2845339  A-2845340         2  2019-08-23 19:00:21  2019-08-23 19:28:49   \n",
              "2845340  A-2845341         2  2019-08-23 19:00:21  2019-08-23 19:29:42   \n",
              "2845341  A-2845342         2  2019-08-23 18:52:06  2019-08-23 19:21:31   \n",
              "\n",
              "         Start_Lat   Start_Lng    End_Lat     End_Lng  Distance(mi)  \\\n",
              "0        40.108910  -83.092860  40.112060  -83.031870         3.230   \n",
              "1        39.865420  -84.062800  39.865010  -84.048730         0.747   \n",
              "2        39.102660  -84.524680  39.102090  -84.523960         0.055   \n",
              "3        41.062130  -81.537840  41.062170  -81.535470         0.123   \n",
              "4        39.172393  -84.492792  39.170476  -84.501798         0.500   \n",
              "...            ...         ...        ...         ...           ...   \n",
              "2845337  34.002480 -117.379360  33.998880 -117.370940         0.543   \n",
              "2845338  32.766960 -117.148060  32.765550 -117.153630         0.338   \n",
              "2845339  33.775450 -117.847790  33.777400 -117.857270         0.561   \n",
              "2845340  33.992460 -118.403020  33.983110 -118.395650         0.772   \n",
              "2845341  34.133930 -117.230920  34.137360 -117.239340         0.537   \n",
              "\n",
              "                                               Description  ...  Roundabout  \\\n",
              "0        Between Sawmill Rd/Exit 20 and OH-315/Olentang...  ...       False   \n",
              "1                       At OH-4/OH-235/Exit 41 - Accident.  ...       False   \n",
              "2                         At I-71/US-50/Exit 1 - Accident.  ...       False   \n",
              "3                          At Dart Ave/Exit 21 - Accident.  ...       False   \n",
              "4                       At Mitchell Ave/Exit 6 - Accident.  ...       False   \n",
              "...                                                    ...  ...         ...   \n",
              "2845337                           At Market St - Accident.  ...       False   \n",
              "2845338    At Camino Del Rio/Mission Center Rd - Accident.  ...       False   \n",
              "2845339  At Glassell St/Grand Ave - Accident. in the ri...  ...       False   \n",
              "2845340     At CA-90/Marina Fwy/Jefferson Blvd - Accident.  ...       False   \n",
              "2845341              At Highland Ave/Arden Ave - Accident.  ...       False   \n",
              "\n",
              "        Station   Stop Traffic_Calming Traffic_Signal Turning_Loop  \\\n",
              "0         False  False           False          False        False   \n",
              "1         False  False           False          False        False   \n",
              "2         False  False           False          False        False   \n",
              "3         False  False           False          False        False   \n",
              "4         False  False           False          False        False   \n",
              "...         ...    ...             ...            ...          ...   \n",
              "2845337   False  False           False          False        False   \n",
              "2845338   False  False           False          False        False   \n",
              "2845339   False  False           False          False        False   \n",
              "2845340   False  False           False          False        False   \n",
              "2845341   False  False           False          False        False   \n",
              "\n",
              "        Sunrise_Sunset Civil_Twilight Nautical_Twilight Astronomical_Twilight  \n",
              "0                Night          Night             Night                 Night  \n",
              "1                Night          Night             Night                 Night  \n",
              "2                Night          Night             Night                   Day  \n",
              "3                Night          Night               Day                   Day  \n",
              "4                  Day            Day               Day                   Day  \n",
              "...                ...            ...               ...                   ...  \n",
              "2845337            Day            Day               Day                   Day  \n",
              "2845338            Day            Day               Day                   Day  \n",
              "2845339            Day            Day               Day                   Day  \n",
              "2845340            Day            Day               Day                   Day  \n",
              "2845341            Day            Day               Day                   Day  \n",
              "\n",
              "[2845342 rows x 47 columns]"
            ],
            "text/html": [
              "\n",
              "  <div id=\"df-ac19b75c-7b43-4753-8cca-d36a07d262f3\">\n",
              "    <div class=\"colab-df-container\">\n",
              "      <div>\n",
              "<style scoped>\n",
              "    .dataframe tbody tr th:only-of-type {\n",
              "        vertical-align: middle;\n",
              "    }\n",
              "\n",
              "    .dataframe tbody tr th {\n",
              "        vertical-align: top;\n",
              "    }\n",
              "\n",
              "    .dataframe thead th {\n",
              "        text-align: right;\n",
              "    }\n",
              "</style>\n",
              "<table border=\"1\" class=\"dataframe\">\n",
              "  <thead>\n",
              "    <tr style=\"text-align: right;\">\n",
              "      <th></th>\n",
              "      <th>ID</th>\n",
              "      <th>Severity</th>\n",
              "      <th>Start_Time</th>\n",
              "      <th>End_Time</th>\n",
              "      <th>Start_Lat</th>\n",
              "      <th>Start_Lng</th>\n",
              "      <th>End_Lat</th>\n",
              "      <th>End_Lng</th>\n",
              "      <th>Distance(mi)</th>\n",
              "      <th>Description</th>\n",
              "      <th>...</th>\n",
              "      <th>Roundabout</th>\n",
              "      <th>Station</th>\n",
              "      <th>Stop</th>\n",
              "      <th>Traffic_Calming</th>\n",
              "      <th>Traffic_Signal</th>\n",
              "      <th>Turning_Loop</th>\n",
              "      <th>Sunrise_Sunset</th>\n",
              "      <th>Civil_Twilight</th>\n",
              "      <th>Nautical_Twilight</th>\n",
              "      <th>Astronomical_Twilight</th>\n",
              "    </tr>\n",
              "  </thead>\n",
              "  <tbody>\n",
              "    <tr>\n",
              "      <th>0</th>\n",
              "      <td>A-1</td>\n",
              "      <td>3</td>\n",
              "      <td>2016-02-08 00:37:08</td>\n",
              "      <td>2016-02-08 06:37:08</td>\n",
              "      <td>40.108910</td>\n",
              "      <td>-83.092860</td>\n",
              "      <td>40.112060</td>\n",
              "      <td>-83.031870</td>\n",
              "      <td>3.230</td>\n",
              "      <td>Between Sawmill Rd/Exit 20 and OH-315/Olentang...</td>\n",
              "      <td>...</td>\n",
              "      <td>False</td>\n",
              "      <td>False</td>\n",
              "      <td>False</td>\n",
              "      <td>False</td>\n",
              "      <td>False</td>\n",
              "      <td>False</td>\n",
              "      <td>Night</td>\n",
              "      <td>Night</td>\n",
              "      <td>Night</td>\n",
              "      <td>Night</td>\n",
              "    </tr>\n",
              "    <tr>\n",
              "      <th>1</th>\n",
              "      <td>A-2</td>\n",
              "      <td>2</td>\n",
              "      <td>2016-02-08 05:56:20</td>\n",
              "      <td>2016-02-08 11:56:20</td>\n",
              "      <td>39.865420</td>\n",
              "      <td>-84.062800</td>\n",
              "      <td>39.865010</td>\n",
              "      <td>-84.048730</td>\n",
              "      <td>0.747</td>\n",
              "      <td>At OH-4/OH-235/Exit 41 - Accident.</td>\n",
              "      <td>...</td>\n",
              "      <td>False</td>\n",
              "      <td>False</td>\n",
              "      <td>False</td>\n",
              "      <td>False</td>\n",
              "      <td>False</td>\n",
              "      <td>False</td>\n",
              "      <td>Night</td>\n",
              "      <td>Night</td>\n",
              "      <td>Night</td>\n",
              "      <td>Night</td>\n",
              "    </tr>\n",
              "    <tr>\n",
              "      <th>2</th>\n",
              "      <td>A-3</td>\n",
              "      <td>2</td>\n",
              "      <td>2016-02-08 06:15:39</td>\n",
              "      <td>2016-02-08 12:15:39</td>\n",
              "      <td>39.102660</td>\n",
              "      <td>-84.524680</td>\n",
              "      <td>39.102090</td>\n",
              "      <td>-84.523960</td>\n",
              "      <td>0.055</td>\n",
              "      <td>At I-71/US-50/Exit 1 - Accident.</td>\n",
              "      <td>...</td>\n",
              "      <td>False</td>\n",
              "      <td>False</td>\n",
              "      <td>False</td>\n",
              "      <td>False</td>\n",
              "      <td>False</td>\n",
              "      <td>False</td>\n",
              "      <td>Night</td>\n",
              "      <td>Night</td>\n",
              "      <td>Night</td>\n",
              "      <td>Day</td>\n",
              "    </tr>\n",
              "    <tr>\n",
              "      <th>3</th>\n",
              "      <td>A-4</td>\n",
              "      <td>2</td>\n",
              "      <td>2016-02-08 06:51:45</td>\n",
              "      <td>2016-02-08 12:51:45</td>\n",
              "      <td>41.062130</td>\n",
              "      <td>-81.537840</td>\n",
              "      <td>41.062170</td>\n",
              "      <td>-81.535470</td>\n",
              "      <td>0.123</td>\n",
              "      <td>At Dart Ave/Exit 21 - Accident.</td>\n",
              "      <td>...</td>\n",
              "      <td>False</td>\n",
              "      <td>False</td>\n",
              "      <td>False</td>\n",
              "      <td>False</td>\n",
              "      <td>False</td>\n",
              "      <td>False</td>\n",
              "      <td>Night</td>\n",
              "      <td>Night</td>\n",
              "      <td>Day</td>\n",
              "      <td>Day</td>\n",
              "    </tr>\n",
              "    <tr>\n",
              "      <th>4</th>\n",
              "      <td>A-5</td>\n",
              "      <td>3</td>\n",
              "      <td>2016-02-08 07:53:43</td>\n",
              "      <td>2016-02-08 13:53:43</td>\n",
              "      <td>39.172393</td>\n",
              "      <td>-84.492792</td>\n",
              "      <td>39.170476</td>\n",
              "      <td>-84.501798</td>\n",
              "      <td>0.500</td>\n",
              "      <td>At Mitchell Ave/Exit 6 - Accident.</td>\n",
              "      <td>...</td>\n",
              "      <td>False</td>\n",
              "      <td>False</td>\n",
              "      <td>False</td>\n",
              "      <td>False</td>\n",
              "      <td>False</td>\n",
              "      <td>False</td>\n",
              "      <td>Day</td>\n",
              "      <td>Day</td>\n",
              "      <td>Day</td>\n",
              "      <td>Day</td>\n",
              "    </tr>\n",
              "    <tr>\n",
              "      <th>...</th>\n",
              "      <td>...</td>\n",
              "      <td>...</td>\n",
              "      <td>...</td>\n",
              "      <td>...</td>\n",
              "      <td>...</td>\n",
              "      <td>...</td>\n",
              "      <td>...</td>\n",
              "      <td>...</td>\n",
              "      <td>...</td>\n",
              "      <td>...</td>\n",
              "      <td>...</td>\n",
              "      <td>...</td>\n",
              "      <td>...</td>\n",
              "      <td>...</td>\n",
              "      <td>...</td>\n",
              "      <td>...</td>\n",
              "      <td>...</td>\n",
              "      <td>...</td>\n",
              "      <td>...</td>\n",
              "      <td>...</td>\n",
              "      <td>...</td>\n",
              "    </tr>\n",
              "    <tr>\n",
              "      <th>2845337</th>\n",
              "      <td>A-2845338</td>\n",
              "      <td>2</td>\n",
              "      <td>2019-08-23 18:03:25</td>\n",
              "      <td>2019-08-23 18:32:01</td>\n",
              "      <td>34.002480</td>\n",
              "      <td>-117.379360</td>\n",
              "      <td>33.998880</td>\n",
              "      <td>-117.370940</td>\n",
              "      <td>0.543</td>\n",
              "      <td>At Market St - Accident.</td>\n",
              "      <td>...</td>\n",
              "      <td>False</td>\n",
              "      <td>False</td>\n",
              "      <td>False</td>\n",
              "      <td>False</td>\n",
              "      <td>False</td>\n",
              "      <td>False</td>\n",
              "      <td>Day</td>\n",
              "      <td>Day</td>\n",
              "      <td>Day</td>\n",
              "      <td>Day</td>\n",
              "    </tr>\n",
              "    <tr>\n",
              "      <th>2845338</th>\n",
              "      <td>A-2845339</td>\n",
              "      <td>2</td>\n",
              "      <td>2019-08-23 19:11:30</td>\n",
              "      <td>2019-08-23 19:38:23</td>\n",
              "      <td>32.766960</td>\n",
              "      <td>-117.148060</td>\n",
              "      <td>32.765550</td>\n",
              "      <td>-117.153630</td>\n",
              "      <td>0.338</td>\n",
              "      <td>At Camino Del Rio/Mission Center Rd - Accident.</td>\n",
              "      <td>...</td>\n",
              "      <td>False</td>\n",
              "      <td>False</td>\n",
              "      <td>False</td>\n",
              "      <td>False</td>\n",
              "      <td>False</td>\n",
              "      <td>False</td>\n",
              "      <td>Day</td>\n",
              "      <td>Day</td>\n",
              "      <td>Day</td>\n",
              "      <td>Day</td>\n",
              "    </tr>\n",
              "    <tr>\n",
              "      <th>2845339</th>\n",
              "      <td>A-2845340</td>\n",
              "      <td>2</td>\n",
              "      <td>2019-08-23 19:00:21</td>\n",
              "      <td>2019-08-23 19:28:49</td>\n",
              "      <td>33.775450</td>\n",
              "      <td>-117.847790</td>\n",
              "      <td>33.777400</td>\n",
              "      <td>-117.857270</td>\n",
              "      <td>0.561</td>\n",
              "      <td>At Glassell St/Grand Ave - Accident. in the ri...</td>\n",
              "      <td>...</td>\n",
              "      <td>False</td>\n",
              "      <td>False</td>\n",
              "      <td>False</td>\n",
              "      <td>False</td>\n",
              "      <td>False</td>\n",
              "      <td>False</td>\n",
              "      <td>Day</td>\n",
              "      <td>Day</td>\n",
              "      <td>Day</td>\n",
              "      <td>Day</td>\n",
              "    </tr>\n",
              "    <tr>\n",
              "      <th>2845340</th>\n",
              "      <td>A-2845341</td>\n",
              "      <td>2</td>\n",
              "      <td>2019-08-23 19:00:21</td>\n",
              "      <td>2019-08-23 19:29:42</td>\n",
              "      <td>33.992460</td>\n",
              "      <td>-118.403020</td>\n",
              "      <td>33.983110</td>\n",
              "      <td>-118.395650</td>\n",
              "      <td>0.772</td>\n",
              "      <td>At CA-90/Marina Fwy/Jefferson Blvd - Accident.</td>\n",
              "      <td>...</td>\n",
              "      <td>False</td>\n",
              "      <td>False</td>\n",
              "      <td>False</td>\n",
              "      <td>False</td>\n",
              "      <td>False</td>\n",
              "      <td>False</td>\n",
              "      <td>Day</td>\n",
              "      <td>Day</td>\n",
              "      <td>Day</td>\n",
              "      <td>Day</td>\n",
              "    </tr>\n",
              "    <tr>\n",
              "      <th>2845341</th>\n",
              "      <td>A-2845342</td>\n",
              "      <td>2</td>\n",
              "      <td>2019-08-23 18:52:06</td>\n",
              "      <td>2019-08-23 19:21:31</td>\n",
              "      <td>34.133930</td>\n",
              "      <td>-117.230920</td>\n",
              "      <td>34.137360</td>\n",
              "      <td>-117.239340</td>\n",
              "      <td>0.537</td>\n",
              "      <td>At Highland Ave/Arden Ave - Accident.</td>\n",
              "      <td>...</td>\n",
              "      <td>False</td>\n",
              "      <td>False</td>\n",
              "      <td>False</td>\n",
              "      <td>False</td>\n",
              "      <td>False</td>\n",
              "      <td>False</td>\n",
              "      <td>Day</td>\n",
              "      <td>Day</td>\n",
              "      <td>Day</td>\n",
              "      <td>Day</td>\n",
              "    </tr>\n",
              "  </tbody>\n",
              "</table>\n",
              "<p>2845342 rows × 47 columns</p>\n",
              "</div>\n",
              "      <button class=\"colab-df-convert\" onclick=\"convertToInteractive('df-ac19b75c-7b43-4753-8cca-d36a07d262f3')\"\n",
              "              title=\"Convert this dataframe to an interactive table.\"\n",
              "              style=\"display:none;\">\n",
              "        \n",
              "  <svg xmlns=\"http://www.w3.org/2000/svg\" height=\"24px\"viewBox=\"0 0 24 24\"\n",
              "       width=\"24px\">\n",
              "    <path d=\"M0 0h24v24H0V0z\" fill=\"none\"/>\n",
              "    <path d=\"M18.56 5.44l.94 2.06.94-2.06 2.06-.94-2.06-.94-.94-2.06-.94 2.06-2.06.94zm-11 1L8.5 8.5l.94-2.06 2.06-.94-2.06-.94L8.5 2.5l-.94 2.06-2.06.94zm10 10l.94 2.06.94-2.06 2.06-.94-2.06-.94-.94-2.06-.94 2.06-2.06.94z\"/><path d=\"M17.41 7.96l-1.37-1.37c-.4-.4-.92-.59-1.43-.59-.52 0-1.04.2-1.43.59L10.3 9.45l-7.72 7.72c-.78.78-.78 2.05 0 2.83L4 21.41c.39.39.9.59 1.41.59.51 0 1.02-.2 1.41-.59l7.78-7.78 2.81-2.81c.8-.78.8-2.07 0-2.86zM5.41 20L4 18.59l7.72-7.72 1.47 1.35L5.41 20z\"/>\n",
              "  </svg>\n",
              "      </button>\n",
              "      \n",
              "  <style>\n",
              "    .colab-df-container {\n",
              "      display:flex;\n",
              "      flex-wrap:wrap;\n",
              "      gap: 12px;\n",
              "    }\n",
              "\n",
              "    .colab-df-convert {\n",
              "      background-color: #E8F0FE;\n",
              "      border: none;\n",
              "      border-radius: 50%;\n",
              "      cursor: pointer;\n",
              "      display: none;\n",
              "      fill: #1967D2;\n",
              "      height: 32px;\n",
              "      padding: 0 0 0 0;\n",
              "      width: 32px;\n",
              "    }\n",
              "\n",
              "    .colab-df-convert:hover {\n",
              "      background-color: #E2EBFA;\n",
              "      box-shadow: 0px 1px 2px rgba(60, 64, 67, 0.3), 0px 1px 3px 1px rgba(60, 64, 67, 0.15);\n",
              "      fill: #174EA6;\n",
              "    }\n",
              "\n",
              "    [theme=dark] .colab-df-convert {\n",
              "      background-color: #3B4455;\n",
              "      fill: #D2E3FC;\n",
              "    }\n",
              "\n",
              "    [theme=dark] .colab-df-convert:hover {\n",
              "      background-color: #434B5C;\n",
              "      box-shadow: 0px 1px 3px 1px rgba(0, 0, 0, 0.15);\n",
              "      filter: drop-shadow(0px 1px 2px rgba(0, 0, 0, 0.3));\n",
              "      fill: #FFFFFF;\n",
              "    }\n",
              "  </style>\n",
              "\n",
              "      <script>\n",
              "        const buttonEl =\n",
              "          document.querySelector('#df-ac19b75c-7b43-4753-8cca-d36a07d262f3 button.colab-df-convert');\n",
              "        buttonEl.style.display =\n",
              "          google.colab.kernel.accessAllowed ? 'block' : 'none';\n",
              "\n",
              "        async function convertToInteractive(key) {\n",
              "          const element = document.querySelector('#df-ac19b75c-7b43-4753-8cca-d36a07d262f3');\n",
              "          const dataTable =\n",
              "            await google.colab.kernel.invokeFunction('convertToInteractive',\n",
              "                                                     [key], {});\n",
              "          if (!dataTable) return;\n",
              "\n",
              "          const docLinkHtml = 'Like what you see? Visit the ' +\n",
              "            '<a target=\"_blank\" href=https://colab.research.google.com/notebooks/data_table.ipynb>data table notebook</a>'\n",
              "            + ' to learn more about interactive tables.';\n",
              "          element.innerHTML = '';\n",
              "          dataTable['output_type'] = 'display_data';\n",
              "          await google.colab.output.renderOutput(dataTable, element);\n",
              "          const docLink = document.createElement('div');\n",
              "          docLink.innerHTML = docLinkHtml;\n",
              "          element.appendChild(docLink);\n",
              "        }\n",
              "      </script>\n",
              "    </div>\n",
              "  </div>\n",
              "  "
            ]
          },
          "metadata": {},
          "execution_count": 6
        }
      ],
      "source": [
        "import matplotlib\n",
        "import pandas as pd\n",
        "import seaborn as sns\n",
        "import random\n",
        "import numpy as np\n",
        "from matplotlib import pyplot as plt\n",
        "import statsmodels.formula.api as smf\n",
        "\n",
        "sns.set_style('darkgrid')\n",
        "matplotlib.rcParams['font.size'] = 14\n",
        "matplotlib.rcParams['figure.figsize'] = (9, 5)\n",
        "matplotlib.rcParams['figure.facecolor'] = '#00000000'\n",
        "\n",
        "# Reading the dataset into the DataFrame\n",
        "df = pd.read_csv(\"US_Accidents_Dec21_updated.csv\")\n",
        "df"
      ]
    },
    {
      "cell_type": "code",
      "source": [
        "import pandas as pd\n",
        "%%time\n",
        "df = pd.read_csv(\"US_Accidents_Dec21_updated.csv\")\n",
        "df"
      ],
      "metadata": {
        "colab": {
          "base_uri": "https://localhost:8080/"
        },
        "id": "pdMSkG3E2-_4",
        "outputId": "df0792b3-e1b1-488d-9f9e-e8177d2653d9"
      },
      "execution_count": null,
      "outputs": [
        {
          "output_type": "stream",
          "name": "stderr",
          "text": [
            "UsageError: Line magic function `%%time` not found.\n"
          ]
        }
      ]
    },
    {
      "cell_type": "markdown",
      "source": [
        "**Sampling the data**"
      ],
      "metadata": {
        "id": "-70kNX-sPQZe"
      }
    },
    {
      "cell_type": "code",
      "execution_count": null,
      "metadata": {
        "id": "df5R-2s3VJJ5",
        "colab": {
          "base_uri": "https://localhost:8080/",
          "height": 1000
        },
        "outputId": "f0d45243-43c1-4ffd-d138-3a84e67daa86"
      },
      "outputs": [
        {
          "output_type": "execute_result",
          "data": {
            "text/plain": [
              "               ID  Severity           Start_Time             End_Time  \\\n",
              "0            A-41         2  2016-02-09 17:12:40  2016-02-09 23:12:40   \n",
              "1            A-61         2  2016-02-10 09:34:38  2016-02-10 15:34:38   \n",
              "2            A-63         2  2016-02-10 10:21:52  2016-02-10 16:21:52   \n",
              "3            A-66         2  2016-02-10 11:55:16  2016-02-10 17:55:16   \n",
              "4            A-85         2  2016-02-11 06:35:24  2016-02-11 12:35:24   \n",
              "...           ...       ...                  ...                  ...   \n",
              "284529  A-2845300         3  2019-08-23 16:10:18  2019-08-23 16:39:48   \n",
              "284530  A-2845314         2  2019-08-23 13:54:51  2019-08-23 14:21:56   \n",
              "284531  A-2845317         2  2019-08-23 14:03:54  2019-08-23 14:32:09   \n",
              "284532  A-2845318         2  2019-08-23 14:19:41  2019-08-23 14:47:28   \n",
              "284533  A-2845325         2  2019-08-23 15:45:43  2019-08-23 16:14:31   \n",
              "\n",
              "        Start_Lat   Start_Lng    End_Lat     End_Lng  Distance(mi)  \\\n",
              "0       41.474610  -81.711820  41.470230  -81.741880         1.585   \n",
              "1       41.035566  -81.569917  41.036015  -81.579895         0.521   \n",
              "2       41.851914  -80.175232  41.858231  -80.176444         0.441   \n",
              "3       41.668050  -83.570630  41.665530  -83.565320         0.325   \n",
              "4       41.420990  -81.690520  41.411000  -81.668850         1.318   \n",
              "...           ...         ...        ...         ...           ...   \n",
              "284529  37.423270 -121.915790  37.415540 -121.913570         0.548   \n",
              "284530  33.940680 -117.267470  33.940810 -117.257280         0.584   \n",
              "284531  34.059680 -118.001300  34.070000 -118.000260         0.716   \n",
              "284532  34.153160 -118.358300  34.153320 -118.361510         0.184   \n",
              "284533  34.043650 -118.443730  34.049340 -118.448420         0.476   \n",
              "\n",
              "                                              Description  ...  Roundabout  \\\n",
              "0       Between 41st St/Exit 169 and OH-10/Lorain Ave/...  ...       False   \n",
              "1                At OH-619/Wooster Rd/Exit 17 - Accident.  ...       False   \n",
              "2                            At US-6/Exit 166 - Accident.  ...       False   \n",
              "3               At US-24/Detroit Ave/Exit 203 - Accident.  ...       False   \n",
              "4                     At OH-176/OH-17/Exit 17 - Accident.  ...       False   \n",
              "...                                                   ...  ...         ...   \n",
              "284529  Ramp to Great Mall Pky - Accident. Two lanes b...  ...       False   \n",
              "284530         At Frederick St/Pigeon Pass Rd - Accident.  ...       False   \n",
              "284531             At I-10/San Bernardino Fwy - Accident.  ...       False   \n",
              "284532                       At Cahuenga Blvd - Accident.  ...       False   \n",
              "284533     At CA-2/Santa Monica Blvd/Exit 55A - Accident.  ...       False   \n",
              "\n",
              "       Station   Stop Traffic_Calming Traffic_Signal Turning_Loop  \\\n",
              "0        False  False           False          False        False   \n",
              "1        False  False           False          False        False   \n",
              "2        False  False           False          False        False   \n",
              "3        False  False           False          False        False   \n",
              "4        False  False           False          False        False   \n",
              "...        ...    ...             ...            ...          ...   \n",
              "284529   False  False           False          False        False   \n",
              "284530   False  False           False          False        False   \n",
              "284531   False  False           False          False        False   \n",
              "284532   False  False           False          False        False   \n",
              "284533   False  False           False          False        False   \n",
              "\n",
              "       Sunrise_Sunset Civil_Twilight Nautical_Twilight Astronomical_Twilight  \n",
              "0                 Day            Day               Day                   Day  \n",
              "1                 Day            Day               Day                   Day  \n",
              "2                 Day            Day               Day                   Day  \n",
              "3                 Day            Day               Day                   Day  \n",
              "4               Night          Night               Day                   Day  \n",
              "...               ...            ...               ...                   ...  \n",
              "284529            Day            Day               Day                   Day  \n",
              "284530            Day            Day               Day                   Day  \n",
              "284531            Day            Day               Day                   Day  \n",
              "284532            Day            Day               Day                   Day  \n",
              "284533            Day            Day               Day                   Day  \n",
              "\n",
              "[284534 rows x 47 columns]"
            ],
            "text/html": [
              "\n",
              "  <div id=\"df-5c013e67-d556-44f9-9d5a-c0314ab1d10b\">\n",
              "    <div class=\"colab-df-container\">\n",
              "      <div>\n",
              "<style scoped>\n",
              "    .dataframe tbody tr th:only-of-type {\n",
              "        vertical-align: middle;\n",
              "    }\n",
              "\n",
              "    .dataframe tbody tr th {\n",
              "        vertical-align: top;\n",
              "    }\n",
              "\n",
              "    .dataframe thead th {\n",
              "        text-align: right;\n",
              "    }\n",
              "</style>\n",
              "<table border=\"1\" class=\"dataframe\">\n",
              "  <thead>\n",
              "    <tr style=\"text-align: right;\">\n",
              "      <th></th>\n",
              "      <th>ID</th>\n",
              "      <th>Severity</th>\n",
              "      <th>Start_Time</th>\n",
              "      <th>End_Time</th>\n",
              "      <th>Start_Lat</th>\n",
              "      <th>Start_Lng</th>\n",
              "      <th>End_Lat</th>\n",
              "      <th>End_Lng</th>\n",
              "      <th>Distance(mi)</th>\n",
              "      <th>Description</th>\n",
              "      <th>...</th>\n",
              "      <th>Roundabout</th>\n",
              "      <th>Station</th>\n",
              "      <th>Stop</th>\n",
              "      <th>Traffic_Calming</th>\n",
              "      <th>Traffic_Signal</th>\n",
              "      <th>Turning_Loop</th>\n",
              "      <th>Sunrise_Sunset</th>\n",
              "      <th>Civil_Twilight</th>\n",
              "      <th>Nautical_Twilight</th>\n",
              "      <th>Astronomical_Twilight</th>\n",
              "    </tr>\n",
              "  </thead>\n",
              "  <tbody>\n",
              "    <tr>\n",
              "      <th>0</th>\n",
              "      <td>A-41</td>\n",
              "      <td>2</td>\n",
              "      <td>2016-02-09 17:12:40</td>\n",
              "      <td>2016-02-09 23:12:40</td>\n",
              "      <td>41.474610</td>\n",
              "      <td>-81.711820</td>\n",
              "      <td>41.470230</td>\n",
              "      <td>-81.741880</td>\n",
              "      <td>1.585</td>\n",
              "      <td>Between 41st St/Exit 169 and OH-10/Lorain Ave/...</td>\n",
              "      <td>...</td>\n",
              "      <td>False</td>\n",
              "      <td>False</td>\n",
              "      <td>False</td>\n",
              "      <td>False</td>\n",
              "      <td>False</td>\n",
              "      <td>False</td>\n",
              "      <td>Day</td>\n",
              "      <td>Day</td>\n",
              "      <td>Day</td>\n",
              "      <td>Day</td>\n",
              "    </tr>\n",
              "    <tr>\n",
              "      <th>1</th>\n",
              "      <td>A-61</td>\n",
              "      <td>2</td>\n",
              "      <td>2016-02-10 09:34:38</td>\n",
              "      <td>2016-02-10 15:34:38</td>\n",
              "      <td>41.035566</td>\n",
              "      <td>-81.569917</td>\n",
              "      <td>41.036015</td>\n",
              "      <td>-81.579895</td>\n",
              "      <td>0.521</td>\n",
              "      <td>At OH-619/Wooster Rd/Exit 17 - Accident.</td>\n",
              "      <td>...</td>\n",
              "      <td>False</td>\n",
              "      <td>False</td>\n",
              "      <td>False</td>\n",
              "      <td>False</td>\n",
              "      <td>False</td>\n",
              "      <td>False</td>\n",
              "      <td>Day</td>\n",
              "      <td>Day</td>\n",
              "      <td>Day</td>\n",
              "      <td>Day</td>\n",
              "    </tr>\n",
              "    <tr>\n",
              "      <th>2</th>\n",
              "      <td>A-63</td>\n",
              "      <td>2</td>\n",
              "      <td>2016-02-10 10:21:52</td>\n",
              "      <td>2016-02-10 16:21:52</td>\n",
              "      <td>41.851914</td>\n",
              "      <td>-80.175232</td>\n",
              "      <td>41.858231</td>\n",
              "      <td>-80.176444</td>\n",
              "      <td>0.441</td>\n",
              "      <td>At US-6/Exit 166 - Accident.</td>\n",
              "      <td>...</td>\n",
              "      <td>False</td>\n",
              "      <td>False</td>\n",
              "      <td>False</td>\n",
              "      <td>False</td>\n",
              "      <td>False</td>\n",
              "      <td>False</td>\n",
              "      <td>Day</td>\n",
              "      <td>Day</td>\n",
              "      <td>Day</td>\n",
              "      <td>Day</td>\n",
              "    </tr>\n",
              "    <tr>\n",
              "      <th>3</th>\n",
              "      <td>A-66</td>\n",
              "      <td>2</td>\n",
              "      <td>2016-02-10 11:55:16</td>\n",
              "      <td>2016-02-10 17:55:16</td>\n",
              "      <td>41.668050</td>\n",
              "      <td>-83.570630</td>\n",
              "      <td>41.665530</td>\n",
              "      <td>-83.565320</td>\n",
              "      <td>0.325</td>\n",
              "      <td>At US-24/Detroit Ave/Exit 203 - Accident.</td>\n",
              "      <td>...</td>\n",
              "      <td>False</td>\n",
              "      <td>False</td>\n",
              "      <td>False</td>\n",
              "      <td>False</td>\n",
              "      <td>False</td>\n",
              "      <td>False</td>\n",
              "      <td>Day</td>\n",
              "      <td>Day</td>\n",
              "      <td>Day</td>\n",
              "      <td>Day</td>\n",
              "    </tr>\n",
              "    <tr>\n",
              "      <th>4</th>\n",
              "      <td>A-85</td>\n",
              "      <td>2</td>\n",
              "      <td>2016-02-11 06:35:24</td>\n",
              "      <td>2016-02-11 12:35:24</td>\n",
              "      <td>41.420990</td>\n",
              "      <td>-81.690520</td>\n",
              "      <td>41.411000</td>\n",
              "      <td>-81.668850</td>\n",
              "      <td>1.318</td>\n",
              "      <td>At OH-176/OH-17/Exit 17 - Accident.</td>\n",
              "      <td>...</td>\n",
              "      <td>False</td>\n",
              "      <td>False</td>\n",
              "      <td>False</td>\n",
              "      <td>False</td>\n",
              "      <td>False</td>\n",
              "      <td>False</td>\n",
              "      <td>Night</td>\n",
              "      <td>Night</td>\n",
              "      <td>Day</td>\n",
              "      <td>Day</td>\n",
              "    </tr>\n",
              "    <tr>\n",
              "      <th>...</th>\n",
              "      <td>...</td>\n",
              "      <td>...</td>\n",
              "      <td>...</td>\n",
              "      <td>...</td>\n",
              "      <td>...</td>\n",
              "      <td>...</td>\n",
              "      <td>...</td>\n",
              "      <td>...</td>\n",
              "      <td>...</td>\n",
              "      <td>...</td>\n",
              "      <td>...</td>\n",
              "      <td>...</td>\n",
              "      <td>...</td>\n",
              "      <td>...</td>\n",
              "      <td>...</td>\n",
              "      <td>...</td>\n",
              "      <td>...</td>\n",
              "      <td>...</td>\n",
              "      <td>...</td>\n",
              "      <td>...</td>\n",
              "      <td>...</td>\n",
              "    </tr>\n",
              "    <tr>\n",
              "      <th>284529</th>\n",
              "      <td>A-2845300</td>\n",
              "      <td>3</td>\n",
              "      <td>2019-08-23 16:10:18</td>\n",
              "      <td>2019-08-23 16:39:48</td>\n",
              "      <td>37.423270</td>\n",
              "      <td>-121.915790</td>\n",
              "      <td>37.415540</td>\n",
              "      <td>-121.913570</td>\n",
              "      <td>0.548</td>\n",
              "      <td>Ramp to Great Mall Pky - Accident. Two lanes b...</td>\n",
              "      <td>...</td>\n",
              "      <td>False</td>\n",
              "      <td>False</td>\n",
              "      <td>False</td>\n",
              "      <td>False</td>\n",
              "      <td>False</td>\n",
              "      <td>False</td>\n",
              "      <td>Day</td>\n",
              "      <td>Day</td>\n",
              "      <td>Day</td>\n",
              "      <td>Day</td>\n",
              "    </tr>\n",
              "    <tr>\n",
              "      <th>284530</th>\n",
              "      <td>A-2845314</td>\n",
              "      <td>2</td>\n",
              "      <td>2019-08-23 13:54:51</td>\n",
              "      <td>2019-08-23 14:21:56</td>\n",
              "      <td>33.940680</td>\n",
              "      <td>-117.267470</td>\n",
              "      <td>33.940810</td>\n",
              "      <td>-117.257280</td>\n",
              "      <td>0.584</td>\n",
              "      <td>At Frederick St/Pigeon Pass Rd - Accident.</td>\n",
              "      <td>...</td>\n",
              "      <td>False</td>\n",
              "      <td>False</td>\n",
              "      <td>False</td>\n",
              "      <td>False</td>\n",
              "      <td>False</td>\n",
              "      <td>False</td>\n",
              "      <td>Day</td>\n",
              "      <td>Day</td>\n",
              "      <td>Day</td>\n",
              "      <td>Day</td>\n",
              "    </tr>\n",
              "    <tr>\n",
              "      <th>284531</th>\n",
              "      <td>A-2845317</td>\n",
              "      <td>2</td>\n",
              "      <td>2019-08-23 14:03:54</td>\n",
              "      <td>2019-08-23 14:32:09</td>\n",
              "      <td>34.059680</td>\n",
              "      <td>-118.001300</td>\n",
              "      <td>34.070000</td>\n",
              "      <td>-118.000260</td>\n",
              "      <td>0.716</td>\n",
              "      <td>At I-10/San Bernardino Fwy - Accident.</td>\n",
              "      <td>...</td>\n",
              "      <td>False</td>\n",
              "      <td>False</td>\n",
              "      <td>False</td>\n",
              "      <td>False</td>\n",
              "      <td>False</td>\n",
              "      <td>False</td>\n",
              "      <td>Day</td>\n",
              "      <td>Day</td>\n",
              "      <td>Day</td>\n",
              "      <td>Day</td>\n",
              "    </tr>\n",
              "    <tr>\n",
              "      <th>284532</th>\n",
              "      <td>A-2845318</td>\n",
              "      <td>2</td>\n",
              "      <td>2019-08-23 14:19:41</td>\n",
              "      <td>2019-08-23 14:47:28</td>\n",
              "      <td>34.153160</td>\n",
              "      <td>-118.358300</td>\n",
              "      <td>34.153320</td>\n",
              "      <td>-118.361510</td>\n",
              "      <td>0.184</td>\n",
              "      <td>At Cahuenga Blvd - Accident.</td>\n",
              "      <td>...</td>\n",
              "      <td>False</td>\n",
              "      <td>False</td>\n",
              "      <td>False</td>\n",
              "      <td>False</td>\n",
              "      <td>False</td>\n",
              "      <td>False</td>\n",
              "      <td>Day</td>\n",
              "      <td>Day</td>\n",
              "      <td>Day</td>\n",
              "      <td>Day</td>\n",
              "    </tr>\n",
              "    <tr>\n",
              "      <th>284533</th>\n",
              "      <td>A-2845325</td>\n",
              "      <td>2</td>\n",
              "      <td>2019-08-23 15:45:43</td>\n",
              "      <td>2019-08-23 16:14:31</td>\n",
              "      <td>34.043650</td>\n",
              "      <td>-118.443730</td>\n",
              "      <td>34.049340</td>\n",
              "      <td>-118.448420</td>\n",
              "      <td>0.476</td>\n",
              "      <td>At CA-2/Santa Monica Blvd/Exit 55A - Accident.</td>\n",
              "      <td>...</td>\n",
              "      <td>False</td>\n",
              "      <td>False</td>\n",
              "      <td>False</td>\n",
              "      <td>False</td>\n",
              "      <td>False</td>\n",
              "      <td>False</td>\n",
              "      <td>Day</td>\n",
              "      <td>Day</td>\n",
              "      <td>Day</td>\n",
              "      <td>Day</td>\n",
              "    </tr>\n",
              "  </tbody>\n",
              "</table>\n",
              "<p>284534 rows × 47 columns</p>\n",
              "</div>\n",
              "      <button class=\"colab-df-convert\" onclick=\"convertToInteractive('df-5c013e67-d556-44f9-9d5a-c0314ab1d10b')\"\n",
              "              title=\"Convert this dataframe to an interactive table.\"\n",
              "              style=\"display:none;\">\n",
              "        \n",
              "  <svg xmlns=\"http://www.w3.org/2000/svg\" height=\"24px\"viewBox=\"0 0 24 24\"\n",
              "       width=\"24px\">\n",
              "    <path d=\"M0 0h24v24H0V0z\" fill=\"none\"/>\n",
              "    <path d=\"M18.56 5.44l.94 2.06.94-2.06 2.06-.94-2.06-.94-.94-2.06-.94 2.06-2.06.94zm-11 1L8.5 8.5l.94-2.06 2.06-.94-2.06-.94L8.5 2.5l-.94 2.06-2.06.94zm10 10l.94 2.06.94-2.06 2.06-.94-2.06-.94-.94-2.06-.94 2.06-2.06.94z\"/><path d=\"M17.41 7.96l-1.37-1.37c-.4-.4-.92-.59-1.43-.59-.52 0-1.04.2-1.43.59L10.3 9.45l-7.72 7.72c-.78.78-.78 2.05 0 2.83L4 21.41c.39.39.9.59 1.41.59.51 0 1.02-.2 1.41-.59l7.78-7.78 2.81-2.81c.8-.78.8-2.07 0-2.86zM5.41 20L4 18.59l7.72-7.72 1.47 1.35L5.41 20z\"/>\n",
              "  </svg>\n",
              "      </button>\n",
              "      \n",
              "  <style>\n",
              "    .colab-df-container {\n",
              "      display:flex;\n",
              "      flex-wrap:wrap;\n",
              "      gap: 12px;\n",
              "    }\n",
              "\n",
              "    .colab-df-convert {\n",
              "      background-color: #E8F0FE;\n",
              "      border: none;\n",
              "      border-radius: 50%;\n",
              "      cursor: pointer;\n",
              "      display: none;\n",
              "      fill: #1967D2;\n",
              "      height: 32px;\n",
              "      padding: 0 0 0 0;\n",
              "      width: 32px;\n",
              "    }\n",
              "\n",
              "    .colab-df-convert:hover {\n",
              "      background-color: #E2EBFA;\n",
              "      box-shadow: 0px 1px 2px rgba(60, 64, 67, 0.3), 0px 1px 3px 1px rgba(60, 64, 67, 0.15);\n",
              "      fill: #174EA6;\n",
              "    }\n",
              "\n",
              "    [theme=dark] .colab-df-convert {\n",
              "      background-color: #3B4455;\n",
              "      fill: #D2E3FC;\n",
              "    }\n",
              "\n",
              "    [theme=dark] .colab-df-convert:hover {\n",
              "      background-color: #434B5C;\n",
              "      box-shadow: 0px 1px 3px 1px rgba(0, 0, 0, 0.15);\n",
              "      filter: drop-shadow(0px 1px 2px rgba(0, 0, 0, 0.3));\n",
              "      fill: #FFFFFF;\n",
              "    }\n",
              "  </style>\n",
              "\n",
              "      <script>\n",
              "        const buttonEl =\n",
              "          document.querySelector('#df-5c013e67-d556-44f9-9d5a-c0314ab1d10b button.colab-df-convert');\n",
              "        buttonEl.style.display =\n",
              "          google.colab.kernel.accessAllowed ? 'block' : 'none';\n",
              "\n",
              "        async function convertToInteractive(key) {\n",
              "          const element = document.querySelector('#df-5c013e67-d556-44f9-9d5a-c0314ab1d10b');\n",
              "          const dataTable =\n",
              "            await google.colab.kernel.invokeFunction('convertToInteractive',\n",
              "                                                     [key], {});\n",
              "          if (!dataTable) return;\n",
              "\n",
              "          const docLinkHtml = 'Like what you see? Visit the ' +\n",
              "            '<a target=\"_blank\" href=https://colab.research.google.com/notebooks/data_table.ipynb>data table notebook</a>'\n",
              "            + ' to learn more about interactive tables.';\n",
              "          element.innerHTML = '';\n",
              "          dataTable['output_type'] = 'display_data';\n",
              "          await google.colab.output.renderOutput(dataTable, element);\n",
              "          const docLink = document.createElement('div');\n",
              "          docLink.innerHTML = docLinkHtml;\n",
              "          element.appendChild(docLink);\n",
              "        }\n",
              "      </script>\n",
              "    </div>\n",
              "  </div>\n",
              "  "
            ]
          },
          "metadata": {},
          "execution_count": 7
        }
      ],
      "source": [
        "n = sum(1 for line in open(\"US_Accidents_Dec21_updated.csv\"))-1  # Calculate number of rows in file\n",
        "s = n//10  # sample size of 10%\n",
        "skip = sorted(random.sample(range(1, n+1), n-s))  # n+1 to compensate for header \n",
        "df = pd.read_csv(\"US_Accidents_Dec21_updated.csv\", skiprows=skip)\n",
        "df"
      ]
    },
    {
      "cell_type": "markdown",
      "source": [
        "**Checking and visualizing number of null/missing values**"
      ],
      "metadata": {
        "id": "6ocOWQRLPbxd"
      }
    },
    {
      "cell_type": "code",
      "execution_count": null,
      "metadata": {
        "id": "KribcC_XVJJ5",
        "colab": {
          "base_uri": "https://localhost:8080/"
        },
        "outputId": "bf01b8b0-ad4b-4a5f-e963-c2858b60b729"
      },
      "outputs": [
        {
          "output_type": "execute_result",
          "data": {
            "text/plain": [
              "ID                            0\n",
              "Severity                      0\n",
              "Start_Time                    0\n",
              "End_Time                      0\n",
              "Start_Lat                     0\n",
              "Start_Lng                     0\n",
              "End_Lat                       0\n",
              "End_Lng                       0\n",
              "Distance(mi)                  0\n",
              "Description                   0\n",
              "Number                   174761\n",
              "Street                        0\n",
              "Side                          0\n",
              "City                         13\n",
              "County                        0\n",
              "State                         0\n",
              "Zipcode                     135\n",
              "Country                       0\n",
              "Timezone                    382\n",
              "Airport_Code                918\n",
              "Weather_Timestamp          4999\n",
              "Temperature(F)             6847\n",
              "Wind_Chill(F)             46938\n",
              "Humidity(%)                7234\n",
              "Pressure(in)               5828\n",
              "Visibility(mi)             6935\n",
              "Wind_Direction             7312\n",
              "Wind_Speed(mph)           15881\n",
              "Precipitation(in)         54727\n",
              "Weather_Condition          6990\n",
              "Amenity                       0\n",
              "Bump                          0\n",
              "Crossing                      0\n",
              "Give_Way                      0\n",
              "Junction                      0\n",
              "No_Exit                       0\n",
              "Railway                       0\n",
              "Roundabout                    0\n",
              "Station                       0\n",
              "Stop                          0\n",
              "Traffic_Calming               0\n",
              "Traffic_Signal                0\n",
              "Turning_Loop                  0\n",
              "Sunrise_Sunset              268\n",
              "Civil_Twilight              268\n",
              "Nautical_Twilight           268\n",
              "Astronomical_Twilight       268\n",
              "dtype: int64"
            ]
          },
          "metadata": {},
          "execution_count": 8
        }
      ],
      "source": [
        "df.isna().sum()"
      ]
    },
    {
      "cell_type": "code",
      "execution_count": null,
      "metadata": {
        "id": "t26lvNVLVJJ5",
        "colab": {
          "base_uri": "https://localhost:8080/",
          "height": 1000
        },
        "outputId": "e419b847-cb6a-479b-cf02-c4685683af67"
      },
      "outputs": [
        {
          "output_type": "display_data",
          "data": {
            "text/plain": [
              "<Figure size 864x1296 with 1 Axes>"
            ],
            "image/png": "[encoded data removed]"
          },
          "metadata": {
            "needs_background": "light"
          }
        }
      ],
      "source": [
        "missing_df = df.isnull().sum(axis=0).reset_index()\n",
        "missing_df.columns = ['column_name','missing_count']\n",
        "missing_df = missing_df[missing_df['missing_count']>0]\n",
        "missing_df = missing_df.sort_values(by='missing_count')\n",
        "\n",
        "ind = np.arange(missing_df.shape[0])\n",
        "width = 0.5\n",
        "fig,ax = plt.subplots(figsize=(12,18))\n",
        "rects = ax.barh(ind,missing_df.missing_count.values,color='blue')\n",
        "ax.set_yticks(ind)\n",
        "ax.set_yticklabels(missing_df.column_name.values, rotation='horizontal')\n",
        "ax.set_xlabel(\"Count of missing values\")\n",
        "ax.set_title(\"Number of missing values in each column\")\n",
        "plt.show()"
      ]
    },
    {
      "cell_type": "markdown",
      "source": [
        "**Dropping rows that have null values and columns that we find unimportant**"
      ],
      "metadata": {
        "id": "6nK9Yw0PPmek"
      }
    },
    {
      "cell_type": "code",
      "execution_count": null,
      "metadata": {
        "id": "7mUpY22aVJJ6"
      },
      "outputs": [],
      "source": [
        "df = df.dropna()\n",
        "df = df.drop(['Zipcode', 'Airport_Code', 'Number'], axis=1)"
      ]
    },
    {
      "cell_type": "code",
      "execution_count": null,
      "metadata": {
        "id": "h46ilQakVJJ6",
        "colab": {
          "base_uri": "https://localhost:8080/"
        },
        "outputId": "2ba6f5f6-e160-4540-daed-617da0cb4952"
      },
      "outputs": [
        {
          "output_type": "execute_result",
          "data": {
            "text/plain": [
              "ID                       0\n",
              "Severity                 0\n",
              "Start_Time               0\n",
              "End_Time                 0\n",
              "Start_Lat                0\n",
              "Start_Lng                0\n",
              "End_Lat                  0\n",
              "End_Lng                  0\n",
              "Distance(mi)             0\n",
              "Description              0\n",
              "Street                   0\n",
              "Side                     0\n",
              "City                     0\n",
              "County                   0\n",
              "State                    0\n",
              "Country                  0\n",
              "Timezone                 0\n",
              "Weather_Timestamp        0\n",
              "Temperature(F)           0\n",
              "Wind_Chill(F)            0\n",
              "Humidity(%)              0\n",
              "Pressure(in)             0\n",
              "Visibility(mi)           0\n",
              "Wind_Direction           0\n",
              "Wind_Speed(mph)          0\n",
              "Precipitation(in)        0\n",
              "Weather_Condition        0\n",
              "Amenity                  0\n",
              "Bump                     0\n",
              "Crossing                 0\n",
              "Give_Way                 0\n",
              "Junction                 0\n",
              "No_Exit                  0\n",
              "Railway                  0\n",
              "Roundabout               0\n",
              "Station                  0\n",
              "Stop                     0\n",
              "Traffic_Calming          0\n",
              "Traffic_Signal           0\n",
              "Turning_Loop             0\n",
              "Sunrise_Sunset           0\n",
              "Civil_Twilight           0\n",
              "Nautical_Twilight        0\n",
              "Astronomical_Twilight    0\n",
              "dtype: int64"
            ]
          },
          "metadata": {},
          "execution_count": 11
        }
      ],
      "source": [
        "df.isna().sum()"
      ]
    },
    {
      "cell_type": "markdown",
      "source": [
        "**Converting \"Start_Time\" & \"End_Time\" into datetime objects**"
      ],
      "metadata": {
        "id": "hq10waH5QfW6"
      }
    },
    {
      "cell_type": "code",
      "source": [
        "df['Start_Time'] = pd.to_datetime(df['Start_Time'])\n",
        "df['End_Time'] = pd.to_datetime(df['End_Time'])"
      ],
      "metadata": {
        "id": "ymKfr0E9Qe9P"
      },
      "execution_count": null,
      "outputs": []
    },
    {
      "cell_type": "markdown",
      "source": [
        "**Examining the information about the dataset to determine the data types of the attributes.**"
      ],
      "metadata": {
        "id": "H8qx3tSH9QsI"
      }
    },
    {
      "cell_type": "code",
      "source": [
        "df.info()"
      ],
      "metadata": {
        "colab": {
          "base_uri": "https://localhost:8080/"
        },
        "id": "V0ATlfctHwlK",
        "outputId": "da3cd24b-c99f-41e5-8fa6-e94043ed3290"
      },
      "execution_count": null,
      "outputs": [
        {
          "output_type": "stream",
          "name": "stdout",
          "text": [
            "<class 'pandas.core.frame.DataFrame'>\n",
            "Int64Index: 94206 entries, 403 to 284525\n",
            "Data columns (total 44 columns):\n",
            " #   Column                 Non-Null Count  Dtype         \n",
            "---  ------                 --------------  -----         \n",
            " 0   ID                     94206 non-null  object        \n",
            " 1   Severity               94206 non-null  int64         \n",
            " 2   Start_Time             94206 non-null  datetime64[ns]\n",
            " 3   End_Time               94206 non-null  datetime64[ns]\n",
            " 4   Start_Lat              94206 non-null  float64       \n",
            " 5   Start_Lng              94206 non-null  float64       \n",
            " 6   End_Lat                94206 non-null  float64       \n",
            " 7   End_Lng                94206 non-null  float64       \n",
            " 8   Distance(mi)           94206 non-null  float64       \n",
            " 9   Description            94206 non-null  object        \n",
            " 10  Street                 94206 non-null  object        \n",
            " 11  Side                   94206 non-null  object        \n",
            " 12  City                   94206 non-null  object        \n",
            " 13  County                 94206 non-null  object        \n",
            " 14  State                  94206 non-null  object        \n",
            " 15  Country                94206 non-null  object        \n",
            " 16  Timezone               94206 non-null  object        \n",
            " 17  Weather_Timestamp      94206 non-null  object        \n",
            " 18  Temperature(F)         94206 non-null  float64       \n",
            " 19  Wind_Chill(F)          94206 non-null  float64       \n",
            " 20  Humidity(%)            94206 non-null  float64       \n",
            " 21  Pressure(in)           94206 non-null  float64       \n",
            " 22  Visibility(mi)         94206 non-null  float64       \n",
            " 23  Wind_Direction         94206 non-null  object        \n",
            " 24  Wind_Speed(mph)        94206 non-null  float64       \n",
            " 25  Precipitation(in)      94206 non-null  float64       \n",
            " 26  Weather_Condition      94206 non-null  object        \n",
            " 27  Amenity                94206 non-null  bool          \n",
            " 28  Bump                   94206 non-null  bool          \n",
            " 29  Crossing               94206 non-null  bool          \n",
            " 30  Give_Way               94206 non-null  bool          \n",
            " 31  Junction               94206 non-null  bool          \n",
            " 32  No_Exit                94206 non-null  bool          \n",
            " 33  Railway                94206 non-null  bool          \n",
            " 34  Roundabout             94206 non-null  bool          \n",
            " 35  Station                94206 non-null  bool          \n",
            " 36  Stop                   94206 non-null  bool          \n",
            " 37  Traffic_Calming        94206 non-null  bool          \n",
            " 38  Traffic_Signal         94206 non-null  bool          \n",
            " 39  Turning_Loop           94206 non-null  bool          \n",
            " 40  Sunrise_Sunset         94206 non-null  object        \n",
            " 41  Civil_Twilight         94206 non-null  object        \n",
            " 42  Nautical_Twilight      94206 non-null  object        \n",
            " 43  Astronomical_Twilight  94206 non-null  object        \n",
            "dtypes: bool(13), datetime64[ns](2), float64(12), int64(1), object(16)\n",
            "memory usage: 24.2+ MB\n"
          ]
        }
      ]
    },
    {
      "cell_type": "markdown",
      "metadata": {
        "id": "_0m5LkbVVJJ6"
      },
      "source": [
        "## **Exploratory Analysis and Visualization**\n",
        "\n",
        "In this part, we will analyze various aspects of the dataset and present our findings using visualizations provided by the packages that have been downloaded.\n"
      ]
    },
    {
      "cell_type": "markdown",
      "metadata": {
        "id": "Fv4NPHasVJJ7"
      },
      "source": [
        "**Calculating the average wind speed for each state**"
      ]
    },
    {
      "cell_type": "code",
      "execution_count": null,
      "metadata": {
        "id": "NKN6RIplVJJ7",
        "colab": {
          "base_uri": "https://localhost:8080/",
          "height": 1000
        },
        "outputId": "69585866-813b-47b6-e1e5-0fd80d8f05bd"
      },
      "outputs": [
        {
          "output_type": "execute_result",
          "data": {
            "text/plain": [
              "   State  Average Wind Speed by State(mph)\n",
              "0     AL                              5.38\n",
              "1     AR                              6.27\n",
              "2     AZ                              6.69\n",
              "3     CA                              5.93\n",
              "4     CO                              9.15\n",
              "5     CT                              6.54\n",
              "6     DC                              7.38\n",
              "7     DE                              9.22\n",
              "8     FL                              8.27\n",
              "9     GA                              5.51\n",
              "10    IA                              9.55\n",
              "11    ID                              6.51\n",
              "12    IL                              9.34\n",
              "13    IN                              7.98\n",
              "14    KS                             11.50\n",
              "15    KY                              8.49\n",
              "16    LA                              7.41\n",
              "17    MA                              9.57\n",
              "18    MD                              6.65\n",
              "19    ME                              8.34\n",
              "20    MI                              9.29\n",
              "21    MN                              8.89\n",
              "22    MO                              9.29\n",
              "23    MS                              6.34\n",
              "24    MT                              7.26\n",
              "25    NC                              6.17\n",
              "26    ND                             11.78\n",
              "27    NE                              9.90\n",
              "28    NH                              8.29\n",
              "29    NJ                              7.22\n",
              "30    NM                             11.19\n",
              "31    NV                              6.98\n",
              "32    NY                              8.36\n",
              "33    OH                              9.34\n",
              "34    OK                             10.78\n",
              "35    OR                              7.15\n",
              "36    PA                              6.82\n",
              "37    RI                              8.78\n",
              "38    SC                              5.25\n",
              "39    SD                             11.18\n",
              "40    TN                              6.64\n",
              "41    TX                              8.14\n",
              "42    UT                              7.72\n",
              "43    VA                              6.44\n",
              "44    VT                              8.50\n",
              "45    WA                              6.73\n",
              "46    WI                             10.14\n",
              "47    WV                              5.46\n",
              "48    WY                             15.75"
            ],
            "text/html": [
              "\n",
              "  <div id=\"df-8f4b33d6-c6e2-44de-9100-1e77b10222d5\">\n",
              "    <div class=\"colab-df-container\">\n",
              "      <div>\n",
              "<style scoped>\n",
              "    .dataframe tbody tr th:only-of-type {\n",
              "        vertical-align: middle;\n",
              "    }\n",
              "\n",
              "    .dataframe tbody tr th {\n",
              "        vertical-align: top;\n",
              "    }\n",
              "\n",
              "    .dataframe thead th {\n",
              "        text-align: right;\n",
              "    }\n",
              "</style>\n",
              "<table border=\"1\" class=\"dataframe\">\n",
              "  <thead>\n",
              "    <tr style=\"text-align: right;\">\n",
              "      <th></th>\n",
              "      <th>State</th>\n",
              "      <th>Average Wind Speed by State(mph)</th>\n",
              "    </tr>\n",
              "  </thead>\n",
              "  <tbody>\n",
              "    <tr>\n",
              "      <th>0</th>\n",
              "      <td>AL</td>\n",
              "      <td>5.38</td>\n",
              "    </tr>\n",
              "    <tr>\n",
              "      <th>1</th>\n",
              "      <td>AR</td>\n",
              "      <td>6.27</td>\n",
              "    </tr>\n",
              "    <tr>\n",
              "      <th>2</th>\n",
              "      <td>AZ</td>\n",
              "      <td>6.69</td>\n",
              "    </tr>\n",
              "    <tr>\n",
              "      <th>3</th>\n",
              "      <td>CA</td>\n",
              "      <td>5.93</td>\n",
              "    </tr>\n",
              "    <tr>\n",
              "      <th>4</th>\n",
              "      <td>CO</td>\n",
              "      <td>9.15</td>\n",
              "    </tr>\n",
              "    <tr>\n",
              "      <th>5</th>\n",
              "      <td>CT</td>\n",
              "      <td>6.54</td>\n",
              "    </tr>\n",
              "    <tr>\n",
              "      <th>6</th>\n",
              "      <td>DC</td>\n",
              "      <td>7.38</td>\n",
              "    </tr>\n",
              "    <tr>\n",
              "      <th>7</th>\n",
              "      <td>DE</td>\n",
              "      <td>9.22</td>\n",
              "    </tr>\n",
              "    <tr>\n",
              "      <th>8</th>\n",
              "      <td>FL</td>\n",
              "      <td>8.27</td>\n",
              "    </tr>\n",
              "    <tr>\n",
              "      <th>9</th>\n",
              "      <td>GA</td>\n",
              "      <td>5.51</td>\n",
              "    </tr>\n",
              "    <tr>\n",
              "      <th>10</th>\n",
              "      <td>IA</td>\n",
              "      <td>9.55</td>\n",
              "    </tr>\n",
              "    <tr>\n",
              "      <th>11</th>\n",
              "      <td>ID</td>\n",
              "      <td>6.51</td>\n",
              "    </tr>\n",
              "    <tr>\n",
              "      <th>12</th>\n",
              "      <td>IL</td>\n",
              "      <td>9.34</td>\n",
              "    </tr>\n",
              "    <tr>\n",
              "      <th>13</th>\n",
              "      <td>IN</td>\n",
              "      <td>7.98</td>\n",
              "    </tr>\n",
              "    <tr>\n",
              "      <th>14</th>\n",
              "      <td>KS</td>\n",
              "      <td>11.50</td>\n",
              "    </tr>\n",
              "    <tr>\n",
              "      <th>15</th>\n",
              "      <td>KY</td>\n",
              "      <td>8.49</td>\n",
              "    </tr>\n",
              "    <tr>\n",
              "      <th>16</th>\n",
              "      <td>LA</td>\n",
              "      <td>7.41</td>\n",
              "    </tr>\n",
              "    <tr>\n",
              "      <th>17</th>\n",
              "      <td>MA</td>\n",
              "      <td>9.57</td>\n",
              "    </tr>\n",
              "    <tr>\n",
              "      <th>18</th>\n",
              "      <td>MD</td>\n",
              "      <td>6.65</td>\n",
              "    </tr>\n",
              "    <tr>\n",
              "      <th>19</th>\n",
              "      <td>ME</td>\n",
              "      <td>8.34</td>\n",
              "    </tr>\n",
              "    <tr>\n",
              "      <th>20</th>\n",
              "      <td>MI</td>\n",
              "      <td>9.29</td>\n",
              "    </tr>\n",
              "    <tr>\n",
              "      <th>21</th>\n",
              "      <td>MN</td>\n",
              "      <td>8.89</td>\n",
              "    </tr>\n",
              "    <tr>\n",
              "      <th>22</th>\n",
              "      <td>MO</td>\n",
              "      <td>9.29</td>\n",
              "    </tr>\n",
              "    <tr>\n",
              "      <th>23</th>\n",
              "      <td>MS</td>\n",
              "      <td>6.34</td>\n",
              "    </tr>\n",
              "    <tr>\n",
              "      <th>24</th>\n",
              "      <td>MT</td>\n",
              "      <td>7.26</td>\n",
              "    </tr>\n",
              "    <tr>\n",
              "      <th>25</th>\n",
              "      <td>NC</td>\n",
              "      <td>6.17</td>\n",
              "    </tr>\n",
              "    <tr>\n",
              "      <th>26</th>\n",
              "      <td>ND</td>\n",
              "      <td>11.78</td>\n",
              "    </tr>\n",
              "    <tr>\n",
              "      <th>27</th>\n",
              "      <td>NE</td>\n",
              "      <td>9.90</td>\n",
              "    </tr>\n",
              "    <tr>\n",
              "      <th>28</th>\n",
              "      <td>NH</td>\n",
              "      <td>8.29</td>\n",
              "    </tr>\n",
              "    <tr>\n",
              "      <th>29</th>\n",
              "      <td>NJ</td>\n",
              "      <td>7.22</td>\n",
              "    </tr>\n",
              "    <tr>\n",
              "      <th>30</th>\n",
              "      <td>NM</td>\n",
              "      <td>11.19</td>\n",
              "    </tr>\n",
              "    <tr>\n",
              "      <th>31</th>\n",
              "      <td>NV</td>\n",
              "      <td>6.98</td>\n",
              "    </tr>\n",
              "    <tr>\n",
              "      <th>32</th>\n",
              "      <td>NY</td>\n",
              "      <td>8.36</td>\n",
              "    </tr>\n",
              "    <tr>\n",
              "      <th>33</th>\n",
              "      <td>OH</td>\n",
              "      <td>9.34</td>\n",
              "    </tr>\n",
              "    <tr>\n",
              "      <th>34</th>\n",
              "      <td>OK</td>\n",
              "      <td>10.78</td>\n",
              "    </tr>\n",
              "    <tr>\n",
              "      <th>35</th>\n",
              "      <td>OR</td>\n",
              "      <td>7.15</td>\n",
              "    </tr>\n",
              "    <tr>\n",
              "      <th>36</th>\n",
              "      <td>PA</td>\n",
              "      <td>6.82</td>\n",
              "    </tr>\n",
              "    <tr>\n",
              "      <th>37</th>\n",
              "      <td>RI</td>\n",
              "      <td>8.78</td>\n",
              "    </tr>\n",
              "    <tr>\n",
              "      <th>38</th>\n",
              "      <td>SC</td>\n",
              "      <td>5.25</td>\n",
              "    </tr>\n",
              "    <tr>\n",
              "      <th>39</th>\n",
              "      <td>SD</td>\n",
              "      <td>11.18</td>\n",
              "    </tr>\n",
              "    <tr>\n",
              "      <th>40</th>\n",
              "      <td>TN</td>\n",
              "      <td>6.64</td>\n",
              "    </tr>\n",
              "    <tr>\n",
              "      <th>41</th>\n",
              "      <td>TX</td>\n",
              "      <td>8.14</td>\n",
              "    </tr>\n",
              "    <tr>\n",
              "      <th>42</th>\n",
              "      <td>UT</td>\n",
              "      <td>7.72</td>\n",
              "    </tr>\n",
              "    <tr>\n",
              "      <th>43</th>\n",
              "      <td>VA</td>\n",
              "      <td>6.44</td>\n",
              "    </tr>\n",
              "    <tr>\n",
              "      <th>44</th>\n",
              "      <td>VT</td>\n",
              "      <td>8.50</td>\n",
              "    </tr>\n",
              "    <tr>\n",
              "      <th>45</th>\n",
              "      <td>WA</td>\n",
              "      <td>6.73</td>\n",
              "    </tr>\n",
              "    <tr>\n",
              "      <th>46</th>\n",
              "      <td>WI</td>\n",
              "      <td>10.14</td>\n",
              "    </tr>\n",
              "    <tr>\n",
              "      <th>47</th>\n",
              "      <td>WV</td>\n",
              "      <td>5.46</td>\n",
              "    </tr>\n",
              "    <tr>\n",
              "      <th>48</th>\n",
              "      <td>WY</td>\n",
              "      <td>15.75</td>\n",
              "    </tr>\n",
              "  </tbody>\n",
              "</table>\n",
              "</div>\n",
              "      <button class=\"colab-df-convert\" onclick=\"convertToInteractive('df-8f4b33d6-c6e2-44de-9100-1e77b10222d5')\"\n",
              "              title=\"Convert this dataframe to an interactive table.\"\n",
              "              style=\"display:none;\">\n",
              "        \n",
              "  <svg xmlns=\"http://www.w3.org/2000/svg\" height=\"24px\"viewBox=\"0 0 24 24\"\n",
              "       width=\"24px\">\n",
              "    <path d=\"M0 0h24v24H0V0z\" fill=\"none\"/>\n",
              "    <path d=\"M18.56 5.44l.94 2.06.94-2.06 2.06-.94-2.06-.94-.94-2.06-.94 2.06-2.06.94zm-11 1L8.5 8.5l.94-2.06 2.06-.94-2.06-.94L8.5 2.5l-.94 2.06-2.06.94zm10 10l.94 2.06.94-2.06 2.06-.94-2.06-.94-.94-2.06-.94 2.06-2.06.94z\"/><path d=\"M17.41 7.96l-1.37-1.37c-.4-.4-.92-.59-1.43-.59-.52 0-1.04.2-1.43.59L10.3 9.45l-7.72 7.72c-.78.78-.78 2.05 0 2.83L4 21.41c.39.39.9.59 1.41.59.51 0 1.02-.2 1.41-.59l7.78-7.78 2.81-2.81c.8-.78.8-2.07 0-2.86zM5.41 20L4 18.59l7.72-7.72 1.47 1.35L5.41 20z\"/>\n",
              "  </svg>\n",
              "      </button>\n",
              "      \n",
              "  <style>\n",
              "    .colab-df-container {\n",
              "      display:flex;\n",
              "      flex-wrap:wrap;\n",
              "      gap: 12px;\n",
              "    }\n",
              "\n",
              "    .colab-df-convert {\n",
              "      background-color: #E8F0FE;\n",
              "      border: none;\n",
              "      border-radius: 50%;\n",
              "      cursor: pointer;\n",
              "      display: none;\n",
              "      fill: #1967D2;\n",
              "      height: 32px;\n",
              "      padding: 0 0 0 0;\n",
              "      width: 32px;\n",
              "    }\n",
              "\n",
              "    .colab-df-convert:hover {\n",
              "      background-color: #E2EBFA;\n",
              "      box-shadow: 0px 1px 2px rgba(60, 64, 67, 0.3), 0px 1px 3px 1px rgba(60, 64, 67, 0.15);\n",
              "      fill: #174EA6;\n",
              "    }\n",
              "\n",
              "    [theme=dark] .colab-df-convert {\n",
              "      background-color: #3B4455;\n",
              "      fill: #D2E3FC;\n",
              "    }\n",
              "\n",
              "    [theme=dark] .colab-df-convert:hover {\n",
              "      background-color: #434B5C;\n",
              "      box-shadow: 0px 1px 3px 1px rgba(0, 0, 0, 0.15);\n",
              "      filter: drop-shadow(0px 1px 2px rgba(0, 0, 0, 0.3));\n",
              "      fill: #FFFFFF;\n",
              "    }\n",
              "  </style>\n",
              "\n",
              "      <script>\n",
              "        const buttonEl =\n",
              "          document.querySelector('#df-8f4b33d6-c6e2-44de-9100-1e77b10222d5 button.colab-df-convert');\n",
              "        buttonEl.style.display =\n",
              "          google.colab.kernel.accessAllowed ? 'block' : 'none';\n",
              "\n",
              "        async function convertToInteractive(key) {\n",
              "          const element = document.querySelector('#df-8f4b33d6-c6e2-44de-9100-1e77b10222d5');\n",
              "          const dataTable =\n",
              "            await google.colab.kernel.invokeFunction('convertToInteractive',\n",
              "                                                     [key], {});\n",
              "          if (!dataTable) return;\n",
              "\n",
              "          const docLinkHtml = 'Like what you see? Visit the ' +\n",
              "            '<a target=\"_blank\" href=https://colab.research.google.com/notebooks/data_table.ipynb>data table notebook</a>'\n",
              "            + ' to learn more about interactive tables.';\n",
              "          element.innerHTML = '';\n",
              "          dataTable['output_type'] = 'display_data';\n",
              "          await google.colab.output.renderOutput(dataTable, element);\n",
              "          const docLink = document.createElement('div');\n",
              "          docLink.innerHTML = docLinkHtml;\n",
              "          element.appendChild(docLink);\n",
              "        }\n",
              "      </script>\n",
              "    </div>\n",
              "  </div>\n",
              "  "
            ]
          },
          "metadata": {},
          "execution_count": 31
        }
      ],
      "source": [
        "Avg_windSpeed = df.groupby('State').apply(lambda x: x['Wind_Speed(mph)'].mean()).reset_index(name= \"Average Wind Speed by State(mph)\")\n",
        "pd.set_option('display.precision',2)\n",
        "Avg_windSpeed"
      ]
    },
    {
      "cell_type": "markdown",
      "source": [
        "**Sum of accidents for each state**"
      ],
      "metadata": {
        "id": "zV9mJ29rWoGy"
      }
    },
    {
      "cell_type": "code",
      "execution_count": null,
      "metadata": {
        "id": "-Scf_lKnVJJ7",
        "colab": {
          "base_uri": "https://localhost:8080/",
          "height": 738
        },
        "outputId": "1b3d57e7-126c-4b6d-af87-1f41bf60269f"
      },
      "outputs": [
        {
          "output_type": "display_data",
          "data": {
            "text/plain": [
              "<Figure size 2160x1080 with 1 Axes>"
            ],
            "image/png": "[encoded data removed]"
          },
          "metadata": {
            "needs_background": "light"
          }
        }
      ],
      "source": [
        "state = df.groupby('State').apply(lambda x: len(x['ID'])).reset_index(name= \"number acc\")\n",
        "fig, ax = plt.subplots(figsize=(30, 15))\n",
        "sns.barplot(x=state['State'], y=state['number acc'])\n",
        "ax.set(xlabel =\"State\", ylabel = \"Number of accidents by State\", title ='Number of accidents')\n",
        "plt.show()"
      ]
    },
    {
      "cell_type": "markdown",
      "source": [
        "**Interesting Notes**\n",
        "\n",
        ">Most accidents occur in the state of Florida"
      ],
      "metadata": {
        "id": "TkfegH0hgHBt"
      }
    },
    {
      "cell_type": "markdown",
      "metadata": {
        "id": "Dn_AW-5uVJJ7"
      },
      "source": [
        "**Probability of Severity level that a future accident could have**"
      ]
    },
    {
      "cell_type": "code",
      "execution_count": null,
      "metadata": {
        "id": "c7fugjWzVJJ7",
        "colab": {
          "base_uri": "https://localhost:8080/",
          "height": 795
        },
        "outputId": "798bf2ab-afcf-45cb-e8fb-3dfc5e5e0ec5"
      },
      "outputs": [
        {
          "output_type": "execute_result",
          "data": {
            "text/plain": [
              "Text(0, 0.5, 'Probability Density')"
            ]
          },
          "metadata": {},
          "execution_count": 16
        },
        {
          "output_type": "display_data",
          "data": {
            "text/plain": [
              "<Figure size 1296x936 with 1 Axes>"
            ],
            "image/png": "[encoded data removed]"
          },
          "metadata": {
            "needs_background": "light"
          }
        }
      ],
      "source": [
        "# Plotting the KDE Plot\n",
        "# sns.kdeplot(df.loc[(df['State']=='CA'),\n",
        "#             'Severity'], color='r', shade=True, label='California')\n",
        "\n",
        "# sns.kdeplot(df.loc[(df['State']=='FL'),\n",
        "#             'Severity'], color='b', shade=True, label='Florida')\n",
        "\n",
        "# sns.kdeplot(df.loc[(df['State']=='NY'),\n",
        "#             'Severity'], color='g', shade=True, label='New York') \n",
        "\n",
        "fig, ax = plt.subplots(figsize=(18, 13))\n",
        "sns.kdeplot(df['Severity'],color='blue',shade=True, ax= ax)\n",
        "\n",
        "\n",
        "# Setting the X and Y Label\n",
        "plt.xlabel('Severity')\n",
        "plt.ylabel('Probability Density')"
      ]
    },
    {
      "cell_type": "markdown",
      "source": [
        "**Interesting Notes**\n",
        "\n",
        ">Accidents are most likely to have a severity level of 2"
      ],
      "metadata": {
        "id": "JUHrkIy5zJuJ"
      }
    },
    {
      "cell_type": "markdown",
      "metadata": {
        "id": "E0U3IWm8VJJ9"
      },
      "source": [
        "## **Asking and Answering Questions**\n",
        "\n",
        "In this part we will be asking questions and answering them by creating visualizations when possible to see if we can gather any useful information.\n"
      ]
    },
    {
      "cell_type": "markdown",
      "metadata": {
        "id": "7Lor5rHMVJJ9"
      },
      "source": [
        "#### **Q1: How many accidents had a Severity Level of 4?**"
      ]
    },
    {
      "cell_type": "code",
      "source": [
        "severity_df = pd.DataFrame(df['Severity'].value_counts()).rename(columns={'index':'Severity', 'Severity':'No. of Cases'})\n",
        "severity_df = severity_df.rename_axis('Severity').reset_index()\n",
        "severity_df.loc[severity_df['Severity'] == 4]"
      ],
      "metadata": {
        "colab": {
          "base_uri": "https://localhost:8080/",
          "height": 81
        },
        "id": "t-znhbxiySwE",
        "outputId": "9044a33d-59fc-40fd-db88-0721b906c1d6"
      },
      "execution_count": null,
      "outputs": [
        {
          "output_type": "execute_result",
          "data": {
            "text/plain": [
              "   Severity  No. of Cases\n",
              "1         4          2884"
            ],
            "text/html": [
              "\n",
              "  <div id=\"df-ff0883aa-62f9-4607-b173-96a9f37e2836\">\n",
              "    <div class=\"colab-df-container\">\n",
              "      <div>\n",
              "<style scoped>\n",
              "    .dataframe tbody tr th:only-of-type {\n",
              "        vertical-align: middle;\n",
              "    }\n",
              "\n",
              "    .dataframe tbody tr th {\n",
              "        vertical-align: top;\n",
              "    }\n",
              "\n",
              "    .dataframe thead th {\n",
              "        text-align: right;\n",
              "    }\n",
              "</style>\n",
              "<table border=\"1\" class=\"dataframe\">\n",
              "  <thead>\n",
              "    <tr style=\"text-align: right;\">\n",
              "      <th></th>\n",
              "      <th>Severity</th>\n",
              "      <th>No. of Cases</th>\n",
              "    </tr>\n",
              "  </thead>\n",
              "  <tbody>\n",
              "    <tr>\n",
              "      <th>1</th>\n",
              "      <td>4</td>\n",
              "      <td>2884</td>\n",
              "    </tr>\n",
              "  </tbody>\n",
              "</table>\n",
              "</div>\n",
              "      <button class=\"colab-df-convert\" onclick=\"convertToInteractive('df-ff0883aa-62f9-4607-b173-96a9f37e2836')\"\n",
              "              title=\"Convert this dataframe to an interactive table.\"\n",
              "              style=\"display:none;\">\n",
              "        \n",
              "  <svg xmlns=\"http://www.w3.org/2000/svg\" height=\"24px\"viewBox=\"0 0 24 24\"\n",
              "       width=\"24px\">\n",
              "    <path d=\"M0 0h24v24H0V0z\" fill=\"none\"/>\n",
              "    <path d=\"M18.56 5.44l.94 2.06.94-2.06 2.06-.94-2.06-.94-.94-2.06-.94 2.06-2.06.94zm-11 1L8.5 8.5l.94-2.06 2.06-.94-2.06-.94L8.5 2.5l-.94 2.06-2.06.94zm10 10l.94 2.06.94-2.06 2.06-.94-2.06-.94-.94-2.06-.94 2.06-2.06.94z\"/><path d=\"M17.41 7.96l-1.37-1.37c-.4-.4-.92-.59-1.43-.59-.52 0-1.04.2-1.43.59L10.3 9.45l-7.72 7.72c-.78.78-.78 2.05 0 2.83L4 21.41c.39.39.9.59 1.41.59.51 0 1.02-.2 1.41-.59l7.78-7.78 2.81-2.81c.8-.78.8-2.07 0-2.86zM5.41 20L4 18.59l7.72-7.72 1.47 1.35L5.41 20z\"/>\n",
              "  </svg>\n",
              "      </button>\n",
              "      \n",
              "  <style>\n",
              "    .colab-df-container {\n",
              "      display:flex;\n",
              "      flex-wrap:wrap;\n",
              "      gap: 12px;\n",
              "    }\n",
              "\n",
              "    .colab-df-convert {\n",
              "      background-color: #E8F0FE;\n",
              "      border: none;\n",
              "      border-radius: 50%;\n",
              "      cursor: pointer;\n",
              "      display: none;\n",
              "      fill: #1967D2;\n",
              "      height: 32px;\n",
              "      padding: 0 0 0 0;\n",
              "      width: 32px;\n",
              "    }\n",
              "\n",
              "    .colab-df-convert:hover {\n",
              "      background-color: #E2EBFA;\n",
              "      box-shadow: 0px 1px 2px rgba(60, 64, 67, 0.3), 0px 1px 3px 1px rgba(60, 64, 67, 0.15);\n",
              "      fill: #174EA6;\n",
              "    }\n",
              "\n",
              "    [theme=dark] .colab-df-convert {\n",
              "      background-color: #3B4455;\n",
              "      fill: #D2E3FC;\n",
              "    }\n",
              "\n",
              "    [theme=dark] .colab-df-convert:hover {\n",
              "      background-color: #434B5C;\n",
              "      box-shadow: 0px 1px 3px 1px rgba(0, 0, 0, 0.15);\n",
              "      filter: drop-shadow(0px 1px 2px rgba(0, 0, 0, 0.3));\n",
              "      fill: #FFFFFF;\n",
              "    }\n",
              "  </style>\n",
              "\n",
              "      <script>\n",
              "        const buttonEl =\n",
              "          document.querySelector('#df-ff0883aa-62f9-4607-b173-96a9f37e2836 button.colab-df-convert');\n",
              "        buttonEl.style.display =\n",
              "          google.colab.kernel.accessAllowed ? 'block' : 'none';\n",
              "\n",
              "        async function convertToInteractive(key) {\n",
              "          const element = document.querySelector('#df-ff0883aa-62f9-4607-b173-96a9f37e2836');\n",
              "          const dataTable =\n",
              "            await google.colab.kernel.invokeFunction('convertToInteractive',\n",
              "                                                     [key], {});\n",
              "          if (!dataTable) return;\n",
              "\n",
              "          const docLinkHtml = 'Like what you see? Visit the ' +\n",
              "            '<a target=\"_blank\" href=https://colab.research.google.com/notebooks/data_table.ipynb>data table notebook</a>'\n",
              "            + ' to learn more about interactive tables.';\n",
              "          element.innerHTML = '';\n",
              "          dataTable['output_type'] = 'display_data';\n",
              "          await google.colab.output.renderOutput(dataTable, element);\n",
              "          const docLink = document.createElement('div');\n",
              "          docLink.innerHTML = docLinkHtml;\n",
              "          element.appendChild(docLink);\n",
              "        }\n",
              "      </script>\n",
              "    </div>\n",
              "  </div>\n",
              "  "
            ]
          },
          "metadata": {},
          "execution_count": 44
        }
      ]
    },
    {
      "cell_type": "markdown",
      "source": [
        "**Description**\n",
        "\n",
        "> There were 2884 accidents that had a severity level of 4\n",
        "\n"
      ],
      "metadata": {
        "id": "hxJkeWQLVZCJ"
      }
    },
    {
      "cell_type": "markdown",
      "metadata": {
        "id": "c_REVnrhVJJ-"
      },
      "source": [
        "#### **How is traffic affected by the majority of accidents that happen**"
      ]
    },
    {
      "cell_type": "code",
      "execution_count": null,
      "metadata": {
        "id": "ShA3QyQpVJJ-"
      },
      "outputs": [],
      "source": [
        "accident_duration_df = pd.DataFrame(df['End_Time'] - df['Start_Time']).reset_index().rename(columns={'index':'Id', 0:'Duration'})"
      ]
    },
    {
      "cell_type": "code",
      "execution_count": null,
      "metadata": {
        "id": "dvyLd9MdVJJ-",
        "colab": {
          "base_uri": "https://localhost:8080/",
          "height": 742
        },
        "outputId": "b435d5b1-e2cc-416b-b5cc-a662c4bcec60"
      },
      "outputs": [
        {
          "output_type": "display_data",
          "data": {
            "text/plain": [
              "<Figure size 2160x1080 with 1 Axes>"
            ],
            "image/png": "[encoded data removed]"
          },
          "metadata": {
            "needs_background": "light"
          }
        }
      ],
      "source": [
        "top_10_accident_duration_df = pd.DataFrame(accident_duration_df['Duration'].value_counts().head(10).sample(frac = 1)).reset_index().rename(columns={'index':'Duration', 'Duration':'Cases'})\n",
        "\n",
        "Duration = [str(i).split('days')[-1].strip() for i in top_10_accident_duration_df.Duration]\n",
        "\n",
        "top_10_accident_duration_df['Duration'] = Duration\n",
        "\n",
        "\n",
        "fig, ax = plt.subplots(figsize=(30, 15))\n",
        "sns.barplot(x='Duration', y='Cases', data =top_10_accident_duration_df)\n",
        "ax.set(xlabel =\"Duration of Traffic Jam\", ylabel = \"Accident Cases\", title ='Most Impacted Durations on the Traffic flow due to the Accidents')\n",
        "plt.show()"
      ]
    },
    {
      "cell_type": "markdown",
      "source": [
        "**Description**\n",
        "\n",
        "> Majority of accidents that happened has affected traffic flow to be delayed by four hours.\n",
        "\n"
      ],
      "metadata": {
        "id": "ohwyWhXcsYeW"
      }
    },
    {
      "cell_type": "markdown",
      "metadata": {
        "id": "ya3o0SurVJJ-"
      },
      "source": [
        "#### **As the years go by, what is the trend of accidents that occur?**"
      ]
    },
    {
      "cell_type": "code",
      "execution_count": null,
      "metadata": {
        "id": "CaF9SiPeVJJ-",
        "colab": {
          "base_uri": "https://localhost:8080/",
          "height": 756
        },
        "outputId": "26b62378-abd6-40ef-ed11-5a9508b7622b"
      },
      "outputs": [
        {
          "output_type": "execute_result",
          "data": {
            "text/plain": [
              "<matplotlib.axes._subplots.AxesSubplot at 0x7fc35ca14910>"
            ]
          },
          "metadata": {},
          "execution_count": 23
        },
        {
          "output_type": "display_data",
          "data": {
            "text/plain": [
              "<Figure size 2160x1080 with 1 Axes>"
            ],
            "image/png": "[encoded data removed]"
          },
          "metadata": {
            "needs_background": "light"
          }
        }
      ],
      "source": [
        "years = df.groupby(df.Start_Time.dt.year).apply(lambda x: x['ID'].count()).reset_index(name='count')\n",
        "fig, ax = plt.subplots(figsize=(30, 15))\n",
        "ax.set(xlabel =\"Year\", ylabel = \"Accident Occurences\", title ='Accident Occurences by Year')\n",
        "sns.lineplot(x='Start_Time' , y= 'count', data= years)"
      ]
    },
    {
      "cell_type": "markdown",
      "source": [
        "**Description**\n",
        "\n",
        "> Based on the trend line, we can see that as the years go by, the number of accidents increases exponentially.\n",
        "\n"
      ],
      "metadata": {
        "id": "z280ZxmpuD5V"
      }
    },
    {
      "cell_type": "markdown",
      "metadata": {
        "id": "p4CcVO1TVJJ-"
      },
      "source": [
        "#### **Q4: Which severity level has the most number of accidents?**"
      ]
    },
    {
      "cell_type": "code",
      "source": [
        "mostFrequentSeverity = df.Severity.value_counts().reset_index(name='Count')\n",
        "mostFrequentSeverity"
      ],
      "metadata": {
        "colab": {
          "base_uri": "https://localhost:8080/",
          "height": 175
        },
        "id": "shNePfcpnclO",
        "outputId": "40c76b6a-daa6-414c-b243-4316eb035deb"
      },
      "execution_count": null,
      "outputs": [
        {
          "output_type": "execute_result",
          "data": {
            "text/plain": [
              "   index  Count\n",
              "0      2  88893\n",
              "1      4   2884\n",
              "2      3   1352\n",
              "3      1   1077"
            ],
            "text/html": [
              "\n",
              "  <div id=\"df-25225518-e4d5-4020-96ee-cd016eb046dc\">\n",
              "    <div class=\"colab-df-container\">\n",
              "      <div>\n",
              "<style scoped>\n",
              "    .dataframe tbody tr th:only-of-type {\n",
              "        vertical-align: middle;\n",
              "    }\n",
              "\n",
              "    .dataframe tbody tr th {\n",
              "        vertical-align: top;\n",
              "    }\n",
              "\n",
              "    .dataframe thead th {\n",
              "        text-align: right;\n",
              "    }\n",
              "</style>\n",
              "<table border=\"1\" class=\"dataframe\">\n",
              "  <thead>\n",
              "    <tr style=\"text-align: right;\">\n",
              "      <th></th>\n",
              "      <th>index</th>\n",
              "      <th>Count</th>\n",
              "    </tr>\n",
              "  </thead>\n",
              "  <tbody>\n",
              "    <tr>\n",
              "      <th>0</th>\n",
              "      <td>2</td>\n",
              "      <td>88893</td>\n",
              "    </tr>\n",
              "    <tr>\n",
              "      <th>1</th>\n",
              "      <td>4</td>\n",
              "      <td>2884</td>\n",
              "    </tr>\n",
              "    <tr>\n",
              "      <th>2</th>\n",
              "      <td>3</td>\n",
              "      <td>1352</td>\n",
              "    </tr>\n",
              "    <tr>\n",
              "      <th>3</th>\n",
              "      <td>1</td>\n",
              "      <td>1077</td>\n",
              "    </tr>\n",
              "  </tbody>\n",
              "</table>\n",
              "</div>\n",
              "      <button class=\"colab-df-convert\" onclick=\"convertToInteractive('df-25225518-e4d5-4020-96ee-cd016eb046dc')\"\n",
              "              title=\"Convert this dataframe to an interactive table.\"\n",
              "              style=\"display:none;\">\n",
              "        \n",
              "  <svg xmlns=\"http://www.w3.org/2000/svg\" height=\"24px\"viewBox=\"0 0 24 24\"\n",
              "       width=\"24px\">\n",
              "    <path d=\"M0 0h24v24H0V0z\" fill=\"none\"/>\n",
              "    <path d=\"M18.56 5.44l.94 2.06.94-2.06 2.06-.94-2.06-.94-.94-2.06-.94 2.06-2.06.94zm-11 1L8.5 8.5l.94-2.06 2.06-.94-2.06-.94L8.5 2.5l-.94 2.06-2.06.94zm10 10l.94 2.06.94-2.06 2.06-.94-2.06-.94-.94-2.06-.94 2.06-2.06.94z\"/><path d=\"M17.41 7.96l-1.37-1.37c-.4-.4-.92-.59-1.43-.59-.52 0-1.04.2-1.43.59L10.3 9.45l-7.72 7.72c-.78.78-.78 2.05 0 2.83L4 21.41c.39.39.9.59 1.41.59.51 0 1.02-.2 1.41-.59l7.78-7.78 2.81-2.81c.8-.78.8-2.07 0-2.86zM5.41 20L4 18.59l7.72-7.72 1.47 1.35L5.41 20z\"/>\n",
              "  </svg>\n",
              "      </button>\n",
              "      \n",
              "  <style>\n",
              "    .colab-df-container {\n",
              "      display:flex;\n",
              "      flex-wrap:wrap;\n",
              "      gap: 12px;\n",
              "    }\n",
              "\n",
              "    .colab-df-convert {\n",
              "      background-color: #E8F0FE;\n",
              "      border: none;\n",
              "      border-radius: 50%;\n",
              "      cursor: pointer;\n",
              "      display: none;\n",
              "      fill: #1967D2;\n",
              "      height: 32px;\n",
              "      padding: 0 0 0 0;\n",
              "      width: 32px;\n",
              "    }\n",
              "\n",
              "    .colab-df-convert:hover {\n",
              "      background-color: #E2EBFA;\n",
              "      box-shadow: 0px 1px 2px rgba(60, 64, 67, 0.3), 0px 1px 3px 1px rgba(60, 64, 67, 0.15);\n",
              "      fill: #174EA6;\n",
              "    }\n",
              "\n",
              "    [theme=dark] .colab-df-convert {\n",
              "      background-color: #3B4455;\n",
              "      fill: #D2E3FC;\n",
              "    }\n",
              "\n",
              "    [theme=dark] .colab-df-convert:hover {\n",
              "      background-color: #434B5C;\n",
              "      box-shadow: 0px 1px 3px 1px rgba(0, 0, 0, 0.15);\n",
              "      filter: drop-shadow(0px 1px 2px rgba(0, 0, 0, 0.3));\n",
              "      fill: #FFFFFF;\n",
              "    }\n",
              "  </style>\n",
              "\n",
              "      <script>\n",
              "        const buttonEl =\n",
              "          document.querySelector('#df-25225518-e4d5-4020-96ee-cd016eb046dc button.colab-df-convert');\n",
              "        buttonEl.style.display =\n",
              "          google.colab.kernel.accessAllowed ? 'block' : 'none';\n",
              "\n",
              "        async function convertToInteractive(key) {\n",
              "          const element = document.querySelector('#df-25225518-e4d5-4020-96ee-cd016eb046dc');\n",
              "          const dataTable =\n",
              "            await google.colab.kernel.invokeFunction('convertToInteractive',\n",
              "                                                     [key], {});\n",
              "          if (!dataTable) return;\n",
              "\n",
              "          const docLinkHtml = 'Like what you see? Visit the ' +\n",
              "            '<a target=\"_blank\" href=https://colab.research.google.com/notebooks/data_table.ipynb>data table notebook</a>'\n",
              "            + ' to learn more about interactive tables.';\n",
              "          element.innerHTML = '';\n",
              "          dataTable['output_type'] = 'display_data';\n",
              "          await google.colab.output.renderOutput(dataTable, element);\n",
              "          const docLink = document.createElement('div');\n",
              "          docLink.innerHTML = docLinkHtml;\n",
              "          element.appendChild(docLink);\n",
              "        }\n",
              "      </script>\n",
              "    </div>\n",
              "  </div>\n",
              "  "
            ]
          },
          "metadata": {},
          "execution_count": 26
        }
      ]
    },
    {
      "cell_type": "code",
      "source": [
        "fig, ax = plt.subplots(figsize=(30, 15))\n",
        "sns.barplot(x='index', y='Count', data =mostFrequentSeverity)\n",
        "ax.set(xlabel =\"Severity\", ylabel = \"Accident Occurences\", title ='Accident Occurences by Severity')"
      ],
      "metadata": {
        "colab": {
          "base_uri": "https://localhost:8080/",
          "height": 792
        },
        "id": "1vFr5Bq2pVND",
        "outputId": "d5249720-bc3d-48d4-b11e-8c876f9e1939"
      },
      "execution_count": null,
      "outputs": [
        {
          "output_type": "execute_result",
          "data": {
            "text/plain": [
              "[Text(0, 0.5, 'Accident Occurences'),\n",
              " Text(0.5, 0, 'Severity'),\n",
              " Text(0.5, 1.0, 'Accident Occurences by Severity')]"
            ]
          },
          "metadata": {},
          "execution_count": 27
        },
        {
          "output_type": "display_data",
          "data": {
            "text/plain": [
              "<Figure size 2160x1080 with 1 Axes>"
            ],
            "image/png": "[encoded data removed]"
          },
          "metadata": {
            "needs_background": "light"
          }
        }
      ]
    },
    {
      "cell_type": "markdown",
      "source": [
        "**Description**\n",
        "\n",
        "> As we can see, severity level 2 had the most number of accidents.\n",
        "\n"
      ],
      "metadata": {
        "id": "WQPzyMFowIp4"
      }
    },
    {
      "cell_type": "markdown",
      "metadata": {
        "id": "uFuZBqX1VJJ_"
      },
      "source": [
        "#### **Q5: Which weather condition do the most accidents occur?**"
      ]
    },
    {
      "cell_type": "code",
      "source": [
        "weather = df.groupby('Weather_Condition').apply(lambda x: len(x['ID'])).reset_index(name = 'accident')\n",
        "weather.iloc[weather['accident'].idxmax()]"
      ],
      "metadata": {
        "colab": {
          "base_uri": "https://localhost:8080/"
        },
        "id": "VRzLBll_qBhj",
        "outputId": "da7aec11-55bb-48d7-b003-03686a75018d"
      },
      "execution_count": null,
      "outputs": [
        {
          "output_type": "execute_result",
          "data": {
            "text/plain": [
              "Weather_Condition     Fair\n",
              "accident             46472\n",
              "Name: 9, dtype: object"
            ]
          },
          "metadata": {},
          "execution_count": 46
        }
      ]
    },
    {
      "cell_type": "code",
      "source": [
        "fig, ax = plt.subplots(figsize=(26,10), dpi= 80)\n",
        "ax.vlines(x='Weather_Condition', ymin=0, ymax='accident',data=weather, color='firebrick', alpha=0.7, linewidth=2)\n",
        "ax.scatter(x='Weather_Condition', y='accident',data=weather ,s=75, color='firebrick', alpha=0.7)\n",
        "\n",
        "ax.set_title('Number of accident by Weather Condition', fontdict={'size':22})\n",
        "ax.set_ylabel('Number of accident')\n",
        "ax.set_xticks(weather.index)\n",
        "ax.set_xticklabels(weather.Weather_Condition.str.upper(), rotation=60, fontdict={'horizontalalignment': 'right', 'size':12})\n",
        "ax.set_ylim(0, 50000)\n",
        "\n",
        "for row in weather.itertuples():\n",
        "    ax.text(row.Index, row.accident+.5, s=round(row.accident, 2), horizontalalignment= 'center', verticalalignment='bottom', fontsize=14)\n",
        "\n",
        "plt.show()"
      ],
      "metadata": {
        "colab": {
          "base_uri": "https://localhost:8080/",
          "height": 703
        },
        "id": "U5f240yZsAsR",
        "outputId": "1f42e030-9eea-437f-fc7f-28ff5b044f92"
      },
      "execution_count": null,
      "outputs": [
        {
          "output_type": "display_data",
          "data": {
            "text/plain": [
              "<Figure size 2080x800 with 1 Axes>"
            ],
            "image/png": "[encoded data removed]"
          },
          "metadata": {
            "needs_background": "light"
          }
        }
      ]
    },
    {
      "cell_type": "markdown",
      "source": [
        "**Description**\n",
        "\n",
        "> Surprisingly, most accidents occur when the weather is fair.\n",
        "\n"
      ],
      "metadata": {
        "id": "j_1ySKYlyg8O"
      }
    },
    {
      "cell_type": "markdown",
      "metadata": {
        "id": "VxoO755tVJJ_"
      },
      "source": [
        "## **Inferences and Conclusion**\n",
        "\n",
        "Based on the analysis, it can be concluded that there has been a significant number of accidents in the area, with many of them causing delays in traffic and having a severity level of 2. The number of accidents appears to be increasing over time, and most of them occurred under fair weather conditions. These findings suggest that there may be multiple factors contributing to the high number of accidents, and it may be necessary to implement measures to address and prevent them. It would be helpful to further analyze the causes of the accidents and specific contributing factors, such as road conditions, driver behavior, and environmental factors, in order to develop targeted solutions."
      ]
    },
    {
      "cell_type": "markdown",
      "metadata": {
        "id": "xfuc6sJgVJKA"
      },
      "source": [
        "## **References and Future Work**\n",
        "\n",
        "[Charts in Colaboratory Notebook](https://colab.research.google.com/notebooks/charts.ipynb\n",
        ")\n",
        "\n",
        "[Seaborn Website](http://seaborn.pydata.org/)\n",
        "\n",
        "There are several potential future projects that could be undertaken using this dataset which include:\n",
        "\n",
        "Identifying the main causes of the accidents: By analyzing additional data such as the type of vehicles involved, the road conditions, and the weather at the time of the accident, it may be possible to identify the main causes of the accidents and develop targeted prevention measures.\n",
        "\n",
        "Developing a predictive model for accidents: By analyzing historical data on the accidents, it may be possible to build a predictive model that can forecast the likelihood of future accidents based on various factors such as the time of day, the type of road, and the weather conditions.\n",
        "\n"
      ]
    }
  ],
  "metadata": {
    "kernelspec": {
      "display_name": "Python 3",
      "language": "python",
      "name": "python3"
    },
    "language_info": {
      "codemirror_mode": {
        "name": "ipython",
        "version": 3
      },
      "file_extension": ".py",
      "mimetype": "text/x-python",
      "name": "python",
      "nbconvert_exporter": "python",
      "pygments_lexer": "ipython3",
      "version": "3.8.5"
    },
    "colab": {
      "provenance": [],
      "include_colab_link": true
    }
  },
  "nbformat": 4,
  "nbformat_minor": 0
}

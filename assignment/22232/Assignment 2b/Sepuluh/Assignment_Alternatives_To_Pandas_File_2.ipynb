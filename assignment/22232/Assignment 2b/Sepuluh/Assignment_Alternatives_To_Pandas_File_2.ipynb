{
  "nbformat": 4,
  "nbformat_minor": 0,
  "metadata": {
    "colab": {
      "provenance": []
    },
    "kernelspec": {
      "name": "python3",
      "display_name": "Python 3"
    },
    "language_info": {
      "name": "python"
    }
  },
  "cells": [
    {
      "cell_type": "markdown",
      "source": [
        "**Comparison of Reading File between Pandas and PySpark**"
      ],
      "metadata": {
        "id": "F8FLoDW7hvIx"
      }
    },
    {
      "cell_type": "markdown",
      "source": [
        "Read file using Pandas"
      ],
      "metadata": {
        "id": "cWflZy9zh4gR"
      }
    },
    {
      "cell_type": "code",
      "source": [
        "import random"
      ],
      "metadata": {
        "id": "t7C1-m1Yh62Q"
      },
      "execution_count": 1,
      "outputs": []
    },
    {
      "cell_type": "code",
      "source": [
        "%time\n",
        "import pandas as pd\n",
        "import numpy as np"
      ],
      "metadata": {
        "colab": {
          "base_uri": "https://localhost:8080/"
        },
        "id": "eSOql544h9Cp",
        "outputId": "e5e12ccd-2d1a-41cb-cf39-8b5c373e7771"
      },
      "execution_count": 2,
      "outputs": [
        {
          "output_type": "stream",
          "name": "stdout",
          "text": [
            "CPU times: user 3 µs, sys: 1e+03 ns, total: 4 µs\n",
            "Wall time: 7.63 µs\n"
          ]
        }
      ]
    },
    {
      "cell_type": "code",
      "source": [
        "%time\n",
        "from google.colab import drive\n",
        "drive.mount('/content/drive')"
      ],
      "metadata": {
        "colab": {
          "base_uri": "https://localhost:8080/"
        },
        "id": "z_vZFto0iBhw",
        "outputId": "173b93b3-cece-4986-fb42-a27faacecf4c"
      },
      "execution_count": 3,
      "outputs": [
        {
          "output_type": "stream",
          "name": "stdout",
          "text": [
            "CPU times: user 4 µs, sys: 0 ns, total: 4 µs\n",
            "Wall time: 23.4 µs\n",
            "Drive already mounted at /content/drive; to attempt to forcibly remount, call drive.mount(\"/content/drive\", force_remount=True).\n"
          ]
        }
      ]
    },
    {
      "cell_type": "code",
      "source": [
        "%time\n",
        "df = pd.read_csv('/content/drive/MyDrive/Colab Notebooks/Rate.csv')"
      ],
      "metadata": {
        "colab": {
          "base_uri": "https://localhost:8080/"
        },
        "id": "eUdFZf9yiKSa",
        "outputId": "f89b2149-9b1b-4308-f8f1-baff6f232fe7"
      },
      "execution_count": 5,
      "outputs": [
        {
          "output_type": "stream",
          "name": "stdout",
          "text": [
            "CPU times: user 3 µs, sys: 0 ns, total: 3 µs\n",
            "Wall time: 5.72 µs\n"
          ]
        }
      ]
    },
    {
      "cell_type": "markdown",
      "source": [
        "Read file using PySpark"
      ],
      "metadata": {
        "id": "U6Mf0MFMjbkx"
      }
    },
    {
      "cell_type": "code",
      "source": [
        "%time\n",
        "! pip install pyspark"
      ],
      "metadata": {
        "id": "4SlyVGcLjfgp",
        "colab": {
          "base_uri": "https://localhost:8080/"
        },
        "outputId": "abf1160b-9869-49db-94d8-2fd45bbe4263"
      },
      "execution_count": 6,
      "outputs": [
        {
          "output_type": "stream",
          "name": "stdout",
          "text": [
            "CPU times: user 3 µs, sys: 1e+03 ns, total: 4 µs\n",
            "Wall time: 7.63 µs\n",
            "Looking in indexes: https://pypi.org/simple, https://us-python.pkg.dev/colab-wheels/public/simple/\n",
            "Requirement already satisfied: pyspark in /usr/local/lib/python3.8/dist-packages (3.3.1)\n",
            "Requirement already satisfied: py4j==0.10.9.5 in /usr/local/lib/python3.8/dist-packages (from pyspark) (0.10.9.5)\n"
          ]
        }
      ]
    },
    {
      "cell_type": "code",
      "source": [
        "%time\n",
        "from pyspark.sql import SparkSession\n",
        "import pyspark.sql.functions as func\n",
        "spark = SparkSession.builder.appName(\"pyspark_basics\").getOrCreate()\n",
        "df2 = spark.read.csv(\"/content/drive/MyDrive/Colab Notebooks/Rate.csv\", header=True)"
      ],
      "metadata": {
        "id": "-43TMvr2jryR",
        "colab": {
          "base_uri": "https://localhost:8080/"
        },
        "outputId": "604fbf19-c0b7-422d-b00b-cc3d14fda363"
      },
      "execution_count": 7,
      "outputs": [
        {
          "output_type": "stream",
          "name": "stdout",
          "text": [
            "CPU times: user 3 µs, sys: 1 µs, total: 4 µs\n",
            "Wall time: 7.63 µs\n"
          ]
        }
      ]
    },
    {
      "cell_type": "markdown",
      "source": [
        "**Comparison of Displaying Dataset between Pandas and PySpark**"
      ],
      "metadata": {
        "id": "7nccg9WEj2CA"
      }
    },
    {
      "cell_type": "markdown",
      "source": [
        "Dataset for Pandas"
      ],
      "metadata": {
        "id": "v-cDOw7_kBGo"
      }
    },
    {
      "cell_type": "code",
      "source": [
        "%time\n",
        "df.head()"
      ],
      "metadata": {
        "id": "Soc18JsbkDkh",
        "colab": {
          "base_uri": "https://localhost:8080/",
          "height": 421
        },
        "outputId": "561ae844-b56d-401e-c9d6-f95dc0f0bbd5"
      },
      "execution_count": 8,
      "outputs": [
        {
          "output_type": "stream",
          "name": "stdout",
          "text": [
            "CPU times: user 3 µs, sys: 1 µs, total: 4 µs\n",
            "Wall time: 8.34 µs\n"
          ]
        },
        {
          "output_type": "execute_result",
          "data": {
            "text/plain": [
              "   BusinessYear StateCode  IssuerId SourceName  VersionNum  \\\n",
              "0          2014        AK     21989       HIOS           6   \n",
              "1          2014        AK     21989       HIOS           6   \n",
              "2          2014        AK     21989       HIOS           6   \n",
              "3          2014        AK     21989       HIOS           6   \n",
              "4          2014        AK     21989       HIOS           6   \n",
              "\n",
              "            ImportDate  IssuerId2  FederalTIN RateEffectiveDate  \\\n",
              "0  2014-03-19 07:06:49      21989  93-0438772        2014-01-01   \n",
              "1  2014-03-19 07:06:49      21989  93-0438772        2014-01-01   \n",
              "2  2014-03-19 07:06:49      21989  93-0438772        2014-01-01   \n",
              "3  2014-03-19 07:06:49      21989  93-0438772        2014-01-01   \n",
              "4  2014-03-19 07:06:49      21989  93-0438772        2014-01-01   \n",
              "\n",
              "  RateExpirationDate  ... IndividualRate IndividualTobaccoRate Couple  \\\n",
              "0         2014-12-31  ...          29.00                   NaN    NaN   \n",
              "1         2014-12-31  ...          36.95                   NaN   73.9   \n",
              "2         2014-12-31  ...          36.95                   NaN   73.9   \n",
              "3         2014-12-31  ...          32.00                   NaN    NaN   \n",
              "4         2014-12-31  ...          32.00                   NaN    NaN   \n",
              "\n",
              "  PrimarySubscriberAndOneDependent  PrimarySubscriberAndTwoDependents  \\\n",
              "0                              NaN                                NaN   \n",
              "1                           107.61                             107.61   \n",
              "2                           107.61                             107.61   \n",
              "3                              NaN                                NaN   \n",
              "4                              NaN                                NaN   \n",
              "\n",
              "   PrimarySubscriberAndThreeOrMoreDependents  CoupleAndOneDependent  \\\n",
              "0                                        NaN                    NaN   \n",
              "1                                     107.61                 144.56   \n",
              "2                                     107.61                 144.56   \n",
              "3                                        NaN                    NaN   \n",
              "4                                        NaN                    NaN   \n",
              "\n",
              "   CoupleAndTwoDependents  CoupleAndThreeOrMoreDependents  RowNumber  \n",
              "0                     NaN                             NaN         14  \n",
              "1                  144.56                          144.56         14  \n",
              "2                  144.56                          144.56         15  \n",
              "3                     NaN                             NaN         15  \n",
              "4                     NaN                             NaN         16  \n",
              "\n",
              "[5 rows x 24 columns]"
            ],
            "text/html": [
              "\n",
              "  <div id=\"df-81e27b7c-56f7-455c-91ae-0082662935e6\">\n",
              "    <div class=\"colab-df-container\">\n",
              "      <div>\n",
              "<style scoped>\n",
              "    .dataframe tbody tr th:only-of-type {\n",
              "        vertical-align: middle;\n",
              "    }\n",
              "\n",
              "    .dataframe tbody tr th {\n",
              "        vertical-align: top;\n",
              "    }\n",
              "\n",
              "    .dataframe thead th {\n",
              "        text-align: right;\n",
              "    }\n",
              "</style>\n",
              "<table border=\"1\" class=\"dataframe\">\n",
              "  <thead>\n",
              "    <tr style=\"text-align: right;\">\n",
              "      <th></th>\n",
              "      <th>BusinessYear</th>\n",
              "      <th>StateCode</th>\n",
              "      <th>IssuerId</th>\n",
              "      <th>SourceName</th>\n",
              "      <th>VersionNum</th>\n",
              "      <th>ImportDate</th>\n",
              "      <th>IssuerId2</th>\n",
              "      <th>FederalTIN</th>\n",
              "      <th>RateEffectiveDate</th>\n",
              "      <th>RateExpirationDate</th>\n",
              "      <th>...</th>\n",
              "      <th>IndividualRate</th>\n",
              "      <th>IndividualTobaccoRate</th>\n",
              "      <th>Couple</th>\n",
              "      <th>PrimarySubscriberAndOneDependent</th>\n",
              "      <th>PrimarySubscriberAndTwoDependents</th>\n",
              "      <th>PrimarySubscriberAndThreeOrMoreDependents</th>\n",
              "      <th>CoupleAndOneDependent</th>\n",
              "      <th>CoupleAndTwoDependents</th>\n",
              "      <th>CoupleAndThreeOrMoreDependents</th>\n",
              "      <th>RowNumber</th>\n",
              "    </tr>\n",
              "  </thead>\n",
              "  <tbody>\n",
              "    <tr>\n",
              "      <th>0</th>\n",
              "      <td>2014</td>\n",
              "      <td>AK</td>\n",
              "      <td>21989</td>\n",
              "      <td>HIOS</td>\n",
              "      <td>6</td>\n",
              "      <td>2014-03-19 07:06:49</td>\n",
              "      <td>21989</td>\n",
              "      <td>93-0438772</td>\n",
              "      <td>2014-01-01</td>\n",
              "      <td>2014-12-31</td>\n",
              "      <td>...</td>\n",
              "      <td>29.00</td>\n",
              "      <td>NaN</td>\n",
              "      <td>NaN</td>\n",
              "      <td>NaN</td>\n",
              "      <td>NaN</td>\n",
              "      <td>NaN</td>\n",
              "      <td>NaN</td>\n",
              "      <td>NaN</td>\n",
              "      <td>NaN</td>\n",
              "      <td>14</td>\n",
              "    </tr>\n",
              "    <tr>\n",
              "      <th>1</th>\n",
              "      <td>2014</td>\n",
              "      <td>AK</td>\n",
              "      <td>21989</td>\n",
              "      <td>HIOS</td>\n",
              "      <td>6</td>\n",
              "      <td>2014-03-19 07:06:49</td>\n",
              "      <td>21989</td>\n",
              "      <td>93-0438772</td>\n",
              "      <td>2014-01-01</td>\n",
              "      <td>2014-12-31</td>\n",
              "      <td>...</td>\n",
              "      <td>36.95</td>\n",
              "      <td>NaN</td>\n",
              "      <td>73.9</td>\n",
              "      <td>107.61</td>\n",
              "      <td>107.61</td>\n",
              "      <td>107.61</td>\n",
              "      <td>144.56</td>\n",
              "      <td>144.56</td>\n",
              "      <td>144.56</td>\n",
              "      <td>14</td>\n",
              "    </tr>\n",
              "    <tr>\n",
              "      <th>2</th>\n",
              "      <td>2014</td>\n",
              "      <td>AK</td>\n",
              "      <td>21989</td>\n",
              "      <td>HIOS</td>\n",
              "      <td>6</td>\n",
              "      <td>2014-03-19 07:06:49</td>\n",
              "      <td>21989</td>\n",
              "      <td>93-0438772</td>\n",
              "      <td>2014-01-01</td>\n",
              "      <td>2014-12-31</td>\n",
              "      <td>...</td>\n",
              "      <td>36.95</td>\n",
              "      <td>NaN</td>\n",
              "      <td>73.9</td>\n",
              "      <td>107.61</td>\n",
              "      <td>107.61</td>\n",
              "      <td>107.61</td>\n",
              "      <td>144.56</td>\n",
              "      <td>144.56</td>\n",
              "      <td>144.56</td>\n",
              "      <td>15</td>\n",
              "    </tr>\n",
              "    <tr>\n",
              "      <th>3</th>\n",
              "      <td>2014</td>\n",
              "      <td>AK</td>\n",
              "      <td>21989</td>\n",
              "      <td>HIOS</td>\n",
              "      <td>6</td>\n",
              "      <td>2014-03-19 07:06:49</td>\n",
              "      <td>21989</td>\n",
              "      <td>93-0438772</td>\n",
              "      <td>2014-01-01</td>\n",
              "      <td>2014-12-31</td>\n",
              "      <td>...</td>\n",
              "      <td>32.00</td>\n",
              "      <td>NaN</td>\n",
              "      <td>NaN</td>\n",
              "      <td>NaN</td>\n",
              "      <td>NaN</td>\n",
              "      <td>NaN</td>\n",
              "      <td>NaN</td>\n",
              "      <td>NaN</td>\n",
              "      <td>NaN</td>\n",
              "      <td>15</td>\n",
              "    </tr>\n",
              "    <tr>\n",
              "      <th>4</th>\n",
              "      <td>2014</td>\n",
              "      <td>AK</td>\n",
              "      <td>21989</td>\n",
              "      <td>HIOS</td>\n",
              "      <td>6</td>\n",
              "      <td>2014-03-19 07:06:49</td>\n",
              "      <td>21989</td>\n",
              "      <td>93-0438772</td>\n",
              "      <td>2014-01-01</td>\n",
              "      <td>2014-12-31</td>\n",
              "      <td>...</td>\n",
              "      <td>32.00</td>\n",
              "      <td>NaN</td>\n",
              "      <td>NaN</td>\n",
              "      <td>NaN</td>\n",
              "      <td>NaN</td>\n",
              "      <td>NaN</td>\n",
              "      <td>NaN</td>\n",
              "      <td>NaN</td>\n",
              "      <td>NaN</td>\n",
              "      <td>16</td>\n",
              "    </tr>\n",
              "  </tbody>\n",
              "</table>\n",
              "<p>5 rows × 24 columns</p>\n",
              "</div>\n",
              "      <button class=\"colab-df-convert\" onclick=\"convertToInteractive('df-81e27b7c-56f7-455c-91ae-0082662935e6')\"\n",
              "              title=\"Convert this dataframe to an interactive table.\"\n",
              "              style=\"display:none;\">\n",
              "        \n",
              "  <svg xmlns=\"http://www.w3.org/2000/svg\" height=\"24px\"viewBox=\"0 0 24 24\"\n",
              "       width=\"24px\">\n",
              "    <path d=\"M0 0h24v24H0V0z\" fill=\"none\"/>\n",
              "    <path d=\"M18.56 5.44l.94 2.06.94-2.06 2.06-.94-2.06-.94-.94-2.06-.94 2.06-2.06.94zm-11 1L8.5 8.5l.94-2.06 2.06-.94-2.06-.94L8.5 2.5l-.94 2.06-2.06.94zm10 10l.94 2.06.94-2.06 2.06-.94-2.06-.94-.94-2.06-.94 2.06-2.06.94z\"/><path d=\"M17.41 7.96l-1.37-1.37c-.4-.4-.92-.59-1.43-.59-.52 0-1.04.2-1.43.59L10.3 9.45l-7.72 7.72c-.78.78-.78 2.05 0 2.83L4 21.41c.39.39.9.59 1.41.59.51 0 1.02-.2 1.41-.59l7.78-7.78 2.81-2.81c.8-.78.8-2.07 0-2.86zM5.41 20L4 18.59l7.72-7.72 1.47 1.35L5.41 20z\"/>\n",
              "  </svg>\n",
              "      </button>\n",
              "      \n",
              "  <style>\n",
              "    .colab-df-container {\n",
              "      display:flex;\n",
              "      flex-wrap:wrap;\n",
              "      gap: 12px;\n",
              "    }\n",
              "\n",
              "    .colab-df-convert {\n",
              "      background-color: #E8F0FE;\n",
              "      border: none;\n",
              "      border-radius: 50%;\n",
              "      cursor: pointer;\n",
              "      display: none;\n",
              "      fill: #1967D2;\n",
              "      height: 32px;\n",
              "      padding: 0 0 0 0;\n",
              "      width: 32px;\n",
              "    }\n",
              "\n",
              "    .colab-df-convert:hover {\n",
              "      background-color: #E2EBFA;\n",
              "      box-shadow: 0px 1px 2px rgba(60, 64, 67, 0.3), 0px 1px 3px 1px rgba(60, 64, 67, 0.15);\n",
              "      fill: #174EA6;\n",
              "    }\n",
              "\n",
              "    [theme=dark] .colab-df-convert {\n",
              "      background-color: #3B4455;\n",
              "      fill: #D2E3FC;\n",
              "    }\n",
              "\n",
              "    [theme=dark] .colab-df-convert:hover {\n",
              "      background-color: #434B5C;\n",
              "      box-shadow: 0px 1px 3px 1px rgba(0, 0, 0, 0.15);\n",
              "      filter: drop-shadow(0px 1px 2px rgba(0, 0, 0, 0.3));\n",
              "      fill: #FFFFFF;\n",
              "    }\n",
              "  </style>\n",
              "\n",
              "      <script>\n",
              "        const buttonEl =\n",
              "          document.querySelector('#df-81e27b7c-56f7-455c-91ae-0082662935e6 button.colab-df-convert');\n",
              "        buttonEl.style.display =\n",
              "          google.colab.kernel.accessAllowed ? 'block' : 'none';\n",
              "\n",
              "        async function convertToInteractive(key) {\n",
              "          const element = document.querySelector('#df-81e27b7c-56f7-455c-91ae-0082662935e6');\n",
              "          const dataTable =\n",
              "            await google.colab.kernel.invokeFunction('convertToInteractive',\n",
              "                                                     [key], {});\n",
              "          if (!dataTable) return;\n",
              "\n",
              "          const docLinkHtml = 'Like what you see? Visit the ' +\n",
              "            '<a target=\"_blank\" href=https://colab.research.google.com/notebooks/data_table.ipynb>data table notebook</a>'\n",
              "            + ' to learn more about interactive tables.';\n",
              "          element.innerHTML = '';\n",
              "          dataTable['output_type'] = 'display_data';\n",
              "          await google.colab.output.renderOutput(dataTable, element);\n",
              "          const docLink = document.createElement('div');\n",
              "          docLink.innerHTML = docLinkHtml;\n",
              "          element.appendChild(docLink);\n",
              "        }\n",
              "      </script>\n",
              "    </div>\n",
              "  </div>\n",
              "  "
            ]
          },
          "metadata": {},
          "execution_count": 8
        }
      ]
    },
    {
      "cell_type": "markdown",
      "source": [
        "Dataset for PySpark"
      ],
      "metadata": {
        "id": "gdGEK2NNkHG5"
      }
    },
    {
      "cell_type": "code",
      "source": [
        "%time\n",
        "df2.show()"
      ],
      "metadata": {
        "id": "C-vypcXPkJoJ",
        "colab": {
          "base_uri": "https://localhost:8080/"
        },
        "outputId": "7278f200-8d9e-4a18-d95b-0405327f9828"
      },
      "execution_count": 9,
      "outputs": [
        {
          "output_type": "stream",
          "name": "stdout",
          "text": [
            "CPU times: user 3 µs, sys: 1e+03 ns, total: 4 µs\n",
            "Wall time: 7.87 µs\n",
            "+------------+---------+--------+----------+----------+-------------------+---------+----------+-----------------+------------------+--------------+-------------+-------------+-------------+--------------+---------------------+------+--------------------------------+---------------------------------+-----------------------------------------+---------------------+----------------------+------------------------------+---------+\n",
            "|BusinessYear|StateCode|IssuerId|SourceName|VersionNum|         ImportDate|IssuerId2|FederalTIN|RateEffectiveDate|RateExpirationDate|        PlanId| RatingAreaId|      Tobacco|          Age|IndividualRate|IndividualTobaccoRate|Couple|PrimarySubscriberAndOneDependent|PrimarySubscriberAndTwoDependents|PrimarySubscriberAndThreeOrMoreDependents|CoupleAndOneDependent|CoupleAndTwoDependents|CoupleAndThreeOrMoreDependents|RowNumber|\n",
            "+------------+---------+--------+----------+----------+-------------------+---------+----------+-----------------+------------------+--------------+-------------+-------------+-------------+--------------+---------------------+------+--------------------------------+---------------------------------+-----------------------------------------+---------------------+----------------------+------------------------------+---------+\n",
            "|        2014|       AK|   21989|      HIOS|         6|2014-03-19 07:06:49|    21989|93-0438772|       2014-01-01|        2014-12-31|21989AK0010001|Rating Area 1|No Preference|         0-20|          29.0|                 null|  null|                            null|                             null|                                     null|                 null|                  null|                          null|       14|\n",
            "|        2014|       AK|   21989|      HIOS|         6|2014-03-19 07:06:49|    21989|93-0438772|       2014-01-01|        2014-12-31|21989AK0020001|Rating Area 1|No Preference|Family Option|         36.95|                 null|  73.9|                          107.61|                           107.61|                                   107.61|               144.56|                144.56|                        144.56|       14|\n",
            "|        2014|       AK|   21989|      HIOS|         6|2014-03-19 07:06:49|    21989|93-0438772|       2014-01-01|        2014-12-31|21989AK0020001|Rating Area 2|No Preference|Family Option|         36.95|                 null|  73.9|                          107.61|                           107.61|                                   107.61|               144.56|                144.56|                        144.56|       15|\n",
            "|        2014|       AK|   21989|      HIOS|         6|2014-03-19 07:06:49|    21989|93-0438772|       2014-01-01|        2014-12-31|21989AK0010001|Rating Area 1|No Preference|           21|          32.0|                 null|  null|                            null|                             null|                                     null|                 null|                  null|                          null|       15|\n",
            "|        2014|       AK|   21989|      HIOS|         6|2014-03-19 07:06:49|    21989|93-0438772|       2014-01-01|        2014-12-31|21989AK0010001|Rating Area 1|No Preference|           22|          32.0|                 null|  null|                            null|                             null|                                     null|                 null|                  null|                          null|       16|\n",
            "|        2014|       AK|   21989|      HIOS|         6|2014-03-19 07:06:49|    21989|93-0438772|       2014-01-01|        2014-12-31|21989AK0020001|Rating Area 3|No Preference|Family Option|         36.95|                 null|  73.9|                          107.61|                           107.61|                                   107.61|               144.56|                144.56|                        144.56|       16|\n",
            "|        2014|       AK|   21989|      HIOS|         6|2014-03-19 07:06:49|    21989|93-0438772|       2014-01-01|        2014-12-31|21989AK0020002|Rating Area 1|No Preference|Family Option|         32.45|                 null|  64.9|                            94.5|                             94.5|                                     94.5|               126.95|                126.95|                        126.95|       17|\n",
            "|        2014|       AK|   21989|      HIOS|         6|2014-03-19 07:06:49|    21989|93-0438772|       2014-01-01|        2014-12-31|21989AK0010001|Rating Area 1|No Preference|           23|          32.0|                 null|  null|                            null|                             null|                                     null|                 null|                  null|                          null|       17|\n",
            "|        2014|       AK|   21989|      HIOS|         6|2014-03-19 07:06:49|    21989|93-0438772|       2014-01-01|        2014-12-31|21989AK0010001|Rating Area 1|No Preference|           24|          32.0|                 null|  null|                            null|                             null|                                     null|                 null|                  null|                          null|       18|\n",
            "|        2014|       AK|   21989|      HIOS|         6|2014-03-19 07:06:49|    21989|93-0438772|       2014-01-01|        2014-12-31|21989AK0020002|Rating Area 2|No Preference|Family Option|         32.45|                 null|  64.9|                            94.5|                             94.5|                                     94.5|               126.95|                126.95|                        126.95|       18|\n",
            "|        2014|       AK|   21989|      HIOS|         6|2014-03-19 07:06:49|    21989|93-0438772|       2014-01-01|        2014-12-31|21989AK0020002|Rating Area 3|No Preference|Family Option|         32.45|                 null|  64.9|                            94.5|                             94.5|                                     94.5|               126.95|                126.95|                        126.95|       19|\n",
            "|        2014|       AK|   21989|      HIOS|         6|2014-03-19 07:06:49|    21989|93-0438772|       2014-01-01|        2014-12-31|21989AK0010001|Rating Area 1|No Preference|           25|          32.0|                 null|  null|                            null|                             null|                                     null|                 null|                  null|                          null|       19|\n",
            "|        2014|       AK|   21989|      HIOS|         6|2014-03-19 07:06:49|    21989|93-0438772|       2014-01-01|        2014-12-31|21989AK0010001|Rating Area 1|No Preference|           26|          32.0|                 null|  null|                            null|                             null|                                     null|                 null|                  null|                          null|       20|\n",
            "|        2014|       AK|   21989|      HIOS|         6|2014-03-19 07:06:49|    21989|93-0438772|       2014-01-01|        2014-12-31|21989AK0010001|Rating Area 1|No Preference|           27|          32.0|                 null|  null|                            null|                             null|                                     null|                 null|                  null|                          null|       21|\n",
            "|        2014|       AK|   21989|      HIOS|         6|2014-03-19 07:06:49|    21989|93-0438772|       2014-01-01|        2014-12-31|21989AK0010001|Rating Area 1|No Preference|           28|          32.0|                 null|  null|                            null|                             null|                                     null|                 null|                  null|                          null|       22|\n",
            "|        2014|       AK|   21989|      HIOS|         6|2014-03-19 07:06:49|    21989|93-0438772|       2014-01-01|        2014-12-31|21989AK0010001|Rating Area 1|No Preference|           29|          32.0|                 null|  null|                            null|                             null|                                     null|                 null|                  null|                          null|       23|\n",
            "|        2014|       AK|   21989|      HIOS|         6|2014-03-19 07:06:49|    21989|93-0438772|       2014-01-01|        2014-12-31|21989AK0010001|Rating Area 1|No Preference|           30|          32.0|                 null|  null|                            null|                             null|                                     null|                 null|                  null|                          null|       24|\n",
            "|        2014|       AK|   21989|      HIOS|         6|2014-03-19 07:06:49|    21989|93-0438772|       2014-01-01|        2014-12-31|21989AK0010001|Rating Area 1|No Preference|           31|          32.0|                 null|  null|                            null|                             null|                                     null|                 null|                  null|                          null|       25|\n",
            "|        2014|       AK|   21989|      HIOS|         6|2014-03-19 07:06:49|    21989|93-0438772|       2014-01-01|        2014-12-31|21989AK0010001|Rating Area 1|No Preference|           32|          32.0|                 null|  null|                            null|                             null|                                     null|                 null|                  null|                          null|       26|\n",
            "|        2014|       AK|   21989|      HIOS|         6|2014-03-19 07:06:49|    21989|93-0438772|       2014-01-01|        2014-12-31|21989AK0010001|Rating Area 1|No Preference|           33|          32.0|                 null|  null|                            null|                             null|                                     null|                 null|                  null|                          null|       27|\n",
            "+------------+---------+--------+----------+----------+-------------------+---------+----------+-----------------+------------------+--------------+-------------+-------------+-------------+--------------+---------------------+------+--------------------------------+---------------------------------+-----------------------------------------+---------------------+----------------------+------------------------------+---------+\n",
            "only showing top 20 rows\n",
            "\n"
          ]
        }
      ]
    },
    {
      "cell_type": "markdown",
      "source": [
        "**Comparison of checking data info between Pandas and PySpark**"
      ],
      "metadata": {
        "id": "gFGJ51oCnFe5"
      }
    },
    {
      "cell_type": "markdown",
      "source": [
        "Check data info using Pandas"
      ],
      "metadata": {
        "id": "Iik7IS3LnTcI"
      }
    },
    {
      "cell_type": "code",
      "source": [
        "%time\n",
        "df.info"
      ],
      "metadata": {
        "colab": {
          "base_uri": "https://localhost:8080/"
        },
        "id": "L1hP7w5UnUGh",
        "outputId": "c58f08bc-2c8f-470e-acea-e249d8151d54"
      },
      "execution_count": 10,
      "outputs": [
        {
          "output_type": "stream",
          "name": "stdout",
          "text": [
            "CPU times: user 4 µs, sys: 1e+03 ns, total: 5 µs\n",
            "Wall time: 7.39 µs\n"
          ]
        },
        {
          "output_type": "execute_result",
          "data": {
            "text/plain": [
              "<bound method DataFrame.info of           BusinessYear StateCode  IssuerId SourceName  VersionNum  \\\n",
              "0                 2014        AK     21989       HIOS           6   \n",
              "1                 2014        AK     21989       HIOS           6   \n",
              "2                 2014        AK     21989       HIOS           6   \n",
              "3                 2014        AK     21989       HIOS           6   \n",
              "4                 2014        AK     21989       HIOS           6   \n",
              "...                ...       ...       ...        ...         ...   \n",
              "12694440          2016        WV     96480      SERFF           2   \n",
              "12694441          2016        WV     96480      SERFF           2   \n",
              "12694442          2016        WV     96480      SERFF           2   \n",
              "12694443          2016        WV     96480      SERFF           2   \n",
              "12694444          2016        WV     96480      SERFF           2   \n",
              "\n",
              "                   ImportDate  IssuerId2  FederalTIN RateEffectiveDate  \\\n",
              "0         2014-03-19 07:06:49      21989  93-0438772        2014-01-01   \n",
              "1         2014-03-19 07:06:49      21989  93-0438772        2014-01-01   \n",
              "2         2014-03-19 07:06:49      21989  93-0438772        2014-01-01   \n",
              "3         2014-03-19 07:06:49      21989  93-0438772        2014-01-01   \n",
              "4         2014-03-19 07:06:49      21989  93-0438772        2014-01-01   \n",
              "...                       ...        ...         ...               ...   \n",
              "12694440  2015-08-20 12:28:36      96480  13-5123390        2016-01-01   \n",
              "12694441  2015-08-20 12:28:36      96480  13-5123390        2016-01-01   \n",
              "12694442  2015-08-20 12:28:36      96480  13-5123390        2016-01-01   \n",
              "12694443  2015-08-20 12:28:36      96480  13-5123390        2016-01-01   \n",
              "12694444  2015-08-20 12:28:36      96480  13-5123390        2016-01-01   \n",
              "\n",
              "         RateExpirationDate  ... IndividualRate IndividualTobaccoRate Couple  \\\n",
              "0                2014-12-31  ...          29.00                   NaN    NaN   \n",
              "1                2014-12-31  ...          36.95                   NaN   73.9   \n",
              "2                2014-12-31  ...          36.95                   NaN   73.9   \n",
              "3                2014-12-31  ...          32.00                   NaN    NaN   \n",
              "4                2014-12-31  ...          32.00                   NaN    NaN   \n",
              "...                     ...  ...            ...                   ...    ...   \n",
              "12694440         2016-12-31  ...          14.05                   NaN    NaN   \n",
              "12694441         2016-12-31  ...          14.05                   NaN    NaN   \n",
              "12694442         2016-12-31  ...          14.05                   NaN    NaN   \n",
              "12694443         2016-12-31  ...          14.05                   NaN    NaN   \n",
              "12694444         2016-12-31  ...          14.05                   NaN    NaN   \n",
              "\n",
              "         PrimarySubscriberAndOneDependent  PrimarySubscriberAndTwoDependents  \\\n",
              "0                                     NaN                                NaN   \n",
              "1                                  107.61                             107.61   \n",
              "2                                  107.61                             107.61   \n",
              "3                                     NaN                                NaN   \n",
              "4                                     NaN                                NaN   \n",
              "...                                   ...                                ...   \n",
              "12694440                              NaN                                NaN   \n",
              "12694441                              NaN                                NaN   \n",
              "12694442                              NaN                                NaN   \n",
              "12694443                              NaN                                NaN   \n",
              "12694444                              NaN                                NaN   \n",
              "\n",
              "          PrimarySubscriberAndThreeOrMoreDependents  CoupleAndOneDependent  \\\n",
              "0                                               NaN                    NaN   \n",
              "1                                            107.61                 144.56   \n",
              "2                                            107.61                 144.56   \n",
              "3                                               NaN                    NaN   \n",
              "4                                               NaN                    NaN   \n",
              "...                                             ...                    ...   \n",
              "12694440                                        NaN                    NaN   \n",
              "12694441                                        NaN                    NaN   \n",
              "12694442                                        NaN                    NaN   \n",
              "12694443                                        NaN                    NaN   \n",
              "12694444                                        NaN                    NaN   \n",
              "\n",
              "          CoupleAndTwoDependents  CoupleAndThreeOrMoreDependents  RowNumber  \n",
              "0                            NaN                             NaN         14  \n",
              "1                         144.56                          144.56         14  \n",
              "2                         144.56                          144.56         15  \n",
              "3                            NaN                             NaN         15  \n",
              "4                            NaN                             NaN         16  \n",
              "...                          ...                             ...        ...  \n",
              "12694440                     NaN                             NaN       2033  \n",
              "12694441                     NaN                             NaN       2034  \n",
              "12694442                     NaN                             NaN       2035  \n",
              "12694443                     NaN                             NaN       2036  \n",
              "12694444                     NaN                             NaN       2037  \n",
              "\n",
              "[12694445 rows x 24 columns]>"
            ]
          },
          "metadata": {},
          "execution_count": 10
        }
      ]
    },
    {
      "cell_type": "markdown",
      "source": [
        "Check data info using PySpark"
      ],
      "metadata": {
        "id": "nzoOF3FFnhoe"
      }
    },
    {
      "cell_type": "code",
      "source": [
        "%time\n",
        "df2.printSchema()"
      ],
      "metadata": {
        "colab": {
          "base_uri": "https://localhost:8080/"
        },
        "id": "xPE9pr2znmBV",
        "outputId": "eff917b3-cd54-4653-85e0-d132153d4d61"
      },
      "execution_count": 11,
      "outputs": [
        {
          "output_type": "stream",
          "name": "stdout",
          "text": [
            "CPU times: user 3 µs, sys: 1 µs, total: 4 µs\n",
            "Wall time: 7.39 µs\n",
            "root\n",
            " |-- BusinessYear: string (nullable = true)\n",
            " |-- StateCode: string (nullable = true)\n",
            " |-- IssuerId: string (nullable = true)\n",
            " |-- SourceName: string (nullable = true)\n",
            " |-- VersionNum: string (nullable = true)\n",
            " |-- ImportDate: string (nullable = true)\n",
            " |-- IssuerId2: string (nullable = true)\n",
            " |-- FederalTIN: string (nullable = true)\n",
            " |-- RateEffectiveDate: string (nullable = true)\n",
            " |-- RateExpirationDate: string (nullable = true)\n",
            " |-- PlanId: string (nullable = true)\n",
            " |-- RatingAreaId: string (nullable = true)\n",
            " |-- Tobacco: string (nullable = true)\n",
            " |-- Age: string (nullable = true)\n",
            " |-- IndividualRate: string (nullable = true)\n",
            " |-- IndividualTobaccoRate: string (nullable = true)\n",
            " |-- Couple: string (nullable = true)\n",
            " |-- PrimarySubscriberAndOneDependent: string (nullable = true)\n",
            " |-- PrimarySubscriberAndTwoDependents: string (nullable = true)\n",
            " |-- PrimarySubscriberAndThreeOrMoreDependents: string (nullable = true)\n",
            " |-- CoupleAndOneDependent: string (nullable = true)\n",
            " |-- CoupleAndTwoDependents: string (nullable = true)\n",
            " |-- CoupleAndThreeOrMoreDependents: string (nullable = true)\n",
            " |-- RowNumber: string (nullable = true)\n",
            "\n"
          ]
        }
      ]
    },
    {
      "cell_type": "markdown",
      "source": [
        "Convert data types from string to other datatype such as float data type"
      ],
      "metadata": {
        "id": "xhjyjBDqoRi5"
      }
    },
    {
      "cell_type": "code",
      "source": [
        "from pyspark.sql.types import StructField, IntegerType, StructType, FloatType\n",
        "df2 = df2.withColumn('IndividualTobaccoRate', df2['IndividualTobaccoRate'].cast(FloatType()))\n",
        "df2 = df2.withColumn('Couple', df2['Couple'].cast(FloatType()))\n",
        "df2 = df2.withColumn('PrimarySubscriberAndOneDependent', df2['PrimarySubscriberAndOneDependent'].cast(FloatType()))\n",
        "df2 = df2.withColumn('PrimarySubscriberAndTwoDependents', df2['PrimarySubscriberAndTwoDependents'].cast(FloatType()))\n",
        "df2 = df2.withColumn('PrimarySubscriberAndThreeOrMoreDependents', df2['PrimarySubscriberAndThreeOrMoreDependents'].cast(FloatType()))\n",
        "df2 = df2.withColumn('CoupleAndOneDependent', df2['CoupleAndOneDependent'].cast(FloatType()))\n",
        "df2 = df2.withColumn('CoupleAndTwoDependents', df2['CoupleAndTwoDependents'].cast(FloatType()))\n",
        "df2 = df2.withColumn('CoupleAndThreeOrMoreDependents', df2['CoupleAndThreeOrMoreDependents'].cast(FloatType()))"
      ],
      "metadata": {
        "id": "nrlv-LZLofoO"
      },
      "execution_count": 18,
      "outputs": []
    },
    {
      "cell_type": "code",
      "source": [
        "df2.printSchema()"
      ],
      "metadata": {
        "colab": {
          "base_uri": "https://localhost:8080/"
        },
        "id": "JS5A_ll6pnSW",
        "outputId": "0de277a2-92f4-4bf6-e5c0-8f58fd735aa6"
      },
      "execution_count": 19,
      "outputs": [
        {
          "output_type": "stream",
          "name": "stdout",
          "text": [
            "root\n",
            " |-- BusinessYear: long (nullable = false)\n",
            " |-- StateCode: long (nullable = false)\n",
            " |-- IssuerId: long (nullable = false)\n",
            " |-- SourceName: long (nullable = false)\n",
            " |-- VersionNum: long (nullable = false)\n",
            " |-- ImportDate: long (nullable = false)\n",
            " |-- IssuerId2: long (nullable = false)\n",
            " |-- FederalTIN: long (nullable = false)\n",
            " |-- RateEffectiveDate: long (nullable = false)\n",
            " |-- RateExpirationDate: long (nullable = false)\n",
            " |-- PlanId: long (nullable = false)\n",
            " |-- RatingAreaId: long (nullable = false)\n",
            " |-- Tobacco: long (nullable = false)\n",
            " |-- Age: long (nullable = false)\n",
            " |-- IndividualRate: long (nullable = false)\n",
            " |-- IndividualTobaccoRate: float (nullable = false)\n",
            " |-- Couple: float (nullable = false)\n",
            " |-- PrimarySubscriberAndOneDependent: float (nullable = false)\n",
            " |-- PrimarySubscriberAndTwoDependents: float (nullable = false)\n",
            " |-- PrimarySubscriberAndThreeOrMoreDependents: float (nullable = false)\n",
            " |-- CoupleAndOneDependent: float (nullable = false)\n",
            " |-- CoupleAndTwoDependents: float (nullable = false)\n",
            " |-- CoupleAndThreeOrMoreDependents: float (nullable = false)\n",
            " |-- RowNumber: long (nullable = false)\n",
            "\n"
          ]
        }
      ]
    },
    {
      "cell_type": "markdown",
      "source": [
        "**Comparison of checking for null value between Pandas and PySpark**"
      ],
      "metadata": {
        "id": "xEehH5uap9X6"
      }
    },
    {
      "cell_type": "markdown",
      "source": [
        "Checking for null value (Pandas)"
      ],
      "metadata": {
        "id": "poLFRzTwqENh"
      }
    },
    {
      "cell_type": "code",
      "source": [
        "%time\n",
        "df.isnull().sum()"
      ],
      "metadata": {
        "colab": {
          "base_uri": "https://localhost:8080/"
        },
        "id": "Tfw7fV6gqIeJ",
        "outputId": "aaae7e08-18cc-40ed-8c04-fa5fe9b5bd49"
      },
      "execution_count": 13,
      "outputs": [
        {
          "output_type": "stream",
          "name": "stdout",
          "text": [
            "CPU times: user 4 µs, sys: 1e+03 ns, total: 5 µs\n",
            "Wall time: 8.58 µs\n"
          ]
        },
        {
          "output_type": "execute_result",
          "data": {
            "text/plain": [
              "BusinessYear                                        0\n",
              "StateCode                                           0\n",
              "IssuerId                                            0\n",
              "SourceName                                          0\n",
              "VersionNum                                          0\n",
              "ImportDate                                          0\n",
              "IssuerId2                                           0\n",
              "FederalTIN                                          0\n",
              "RateEffectiveDate                                   0\n",
              "RateExpirationDate                                  0\n",
              "PlanId                                              0\n",
              "RatingAreaId                                        0\n",
              "Tobacco                                             0\n",
              "Age                                                 0\n",
              "IndividualRate                                      0\n",
              "IndividualTobaccoRate                         7762096\n",
              "Couple                                       12653504\n",
              "PrimarySubscriberAndOneDependent             12653504\n",
              "PrimarySubscriberAndTwoDependents            12653504\n",
              "PrimarySubscriberAndThreeOrMoreDependents    12653504\n",
              "CoupleAndOneDependent                        12653504\n",
              "CoupleAndTwoDependents                       12653504\n",
              "CoupleAndThreeOrMoreDependents               12653504\n",
              "RowNumber                                           0\n",
              "dtype: int64"
            ]
          },
          "metadata": {},
          "execution_count": 13
        }
      ]
    },
    {
      "cell_type": "markdown",
      "source": [
        "Checking for null value (Pandas)"
      ],
      "metadata": {
        "id": "u7joVNY0qK2I"
      }
    },
    {
      "cell_type": "code",
      "source": [
        "%time\n",
        "from pyspark.sql.functions import col,isnan,when,count\n",
        "df2 = df2.select([count(when(col(c).contains('None') | \\\n",
        "                            col(c).contains('NULL') | \\\n",
        "                            (col(c) == '' ) | \\\n",
        "                            col(c).isNull() | \\\n",
        "                            isnan(c), c \n",
        "                           )).alias(c)\n",
        "                    for c in df.columns])\n",
        "df2.show()"
      ],
      "metadata": {
        "colab": {
          "base_uri": "https://localhost:8080/"
        },
        "id": "Zq0IgmLyqQ9Q",
        "outputId": "361a8d44-34b4-4960-9853-92df5cbde4a1"
      },
      "execution_count": null,
      "outputs": [
        {
          "output_type": "stream",
          "name": "stdout",
          "text": [
            "CPU times: user 4 µs, sys: 1e+03 ns, total: 5 µs\n",
            "Wall time: 7.63 µs\n"
          ]
        }
      ]
    },
    {
      "cell_type": "markdown",
      "source": [
        "**Pandas**\n",
        "\n",
        "Reading File: 5.72 µs\n",
        "\n",
        "Display dataset: 8.34 µs\n",
        "\n",
        "Checking info: 7.39 µs\n",
        "\n",
        "Checking null value: 8.58 µs\n",
        "\n",
        "\n",
        "**PySpark**\n",
        "\n",
        "Reading File: 7.63 µs\n",
        "\n",
        "Display dataset: 7.87 µs\n",
        "\n",
        "Checking info: 7.39 µs\n",
        "\n",
        "Checking null value: 8.34 µs"
      ],
      "metadata": {
        "id": "Vhc0DkhfqXhY"
      }
    },
    {
      "cell_type": "markdown",
      "source": [
        "##**Comparing Pandas and PySpark**"
      ],
      "metadata": {
        "id": "9bQiPIzdrStN"
      }
    },
    {
      "cell_type": "code",
      "source": [
        "import pandas as pd\n",
        "import numpy as np\n",
        "import matplotlib.pyplot as plt\n",
        "\n",
        "Compare = ['Reading File', 'Display dataset', 'Checking Info', 'Checking Null Value']\n",
        "result = pd.DataFrame({'Pandas (unit: µs)': [5.72, 8.34, 7.39, 8.58], 'PySpark (unit: µs)': [7.63, 7.87, 7.39, 8.34]}, index = Compare)\n",
        "result"
      ],
      "metadata": {
        "id": "FRVWKvE2rVwI"
      },
      "execution_count": null,
      "outputs": []
    },
    {
      "cell_type": "code",
      "source": [
        "for Compare in result.index:\n",
        "  result.loc[Compare].plot(kind='bar', title=Compare, color = \"blue\")\n",
        "  plt.show()"
      ],
      "metadata": {
        "colab": {
          "base_uri": "https://localhost:8080/",
          "height": 1000
        },
        "id": "GsEc242Hrt6g",
        "outputId": "7a2f6aa2-1927-4327-f69d-0d6143705fae"
      },
      "execution_count": 22,
      "outputs": [
        {
          "output_type": "display_data",
          "data": {
            "text/plain": [
              "<Figure size 432x288 with 1 Axes>"
            ],
            "image/png": "[encoded data removed]"
          },
          "metadata": {
            "needs_background": "light"
          }
        },
        {
          "output_type": "display_data",
          "data": {
            "text/plain": [
              "<Figure size 432x288 with 1 Axes>"
            ],
            "image/png": "[encoded data removed]"
          },
          "metadata": {
            "needs_background": "light"
          }
        },
        {
          "output_type": "display_data",
          "data": {
            "text/plain": [
              "<Figure size 432x288 with 1 Axes>"
            ],
            "image/png": "[encoded data removed]"
          },
          "metadata": {
            "needs_background": "light"
          }
        },
        {
          "output_type": "display_data",
          "data": {
            "text/plain": [
              "<Figure size 432x288 with 1 Axes>"
            ],
            "image/png": "[encoded data removed]"
          },
          "metadata": {
            "needs_background": "light"
          }
        }
      ]
    },
    {
      "cell_type": "markdown",
      "source": [
        "##**Conclusion**"
      ],
      "metadata": {
        "id": "JTBv8NN9vOaI"
      }
    },
    {
      "cell_type": "markdown",
      "source": [
        "From the above analysis and comparison, we can know that the PySpark clearly had a better performance compare with Pandas although the performance is only better slightly. Only for the reading file, Pandas have better performance than PySpark about 1.91 µs. While for checking info, both Pandas and PySpark miraclely have the same processing time which is 7.39 µs. Both display dataset function and checking the null value, PySpark have better performance which is 0.47 µs for display dataset and 0.2 µs for checking the null value. Although PySpark have a greater performance, PySpark do have a weird function which it will convert all datatypes to string datatypes. Thus, we need to convert certain datatype to other datatype such as float.\n",
        "\n",
        "In a nutshell, PySpark have a better performance but somehow 'leceh'."
      ],
      "metadata": {
        "id": "HmQ-lCDvvR83"
      }
    }
  ]
}
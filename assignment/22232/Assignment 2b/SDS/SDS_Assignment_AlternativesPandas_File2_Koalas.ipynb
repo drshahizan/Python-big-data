{
  "cells": [
    {
      "cell_type": "markdown",
      "metadata": {
        "id": "view-in-github",
        "colab_type": "text"
      },
      "source": [
        "<a href=\"https://colab.research.google.com/github/drshahizan/Python-big-data/blob/main/Assignment%202b/SDS/SDS_Assignment_AlternativesPandas_File2_Koalas.ipynb\" target=\"_parent\"><img src=\"https://colab.research.google.com/assets/colab-badge.svg\" alt=\"Open In Colab\"/></a>"
      ]
    },
    {
      "cell_type": "markdown",
      "metadata": {
        "id": "F9p04_fJAR2T"
      },
      "source": [
        "**<h1> COMPARISON BETWEEN PANDAS AND KOALAS LIBRARY ON NYX YELLOW TAXI DATASET<h1>**\n",
        "\n",
        "\n",
        "---\n",
        "\n",
        "\n",
        "\n",
        "**Group Members:**\n",
        "\n",
        "<table width = 700>\n",
        "  <tr>\n",
        "    <th>Name</th>\n",
        "    <th>Matric</th>\n",
        "  </tr>\n",
        "  <tr>\n",
        "    <th>ONG HAN WAH</th>\n",
        "    <th>A20EC0129</th>\n",
        "  </tr>\n",
        "  <tr>\n",
        "    <th>GOO YE JUI</th>\n",
        "    <th>A20EC0191</th>\n",
        "  </tr>\n",
        "    <tr>\n",
        "    <th>MAIZATUL AFRINA SAFIAH BINTI SAIFUL AZWAN</th>\n",
        "    <th>A20EC0204</th>\n",
        "  </tr>\n",
        "    \n",
        "</table> "
      ]
    },
    {
      "cell_type": "markdown",
      "metadata": {
        "id": "57BKA-6wNT-k"
      },
      "source": [
        "#### Install Libraries\n",
        "\n"
      ]
    },
    {
      "cell_type": "code",
      "execution_count": null,
      "metadata": {
        "colab": {
          "base_uri": "https://localhost:8080/"
        },
        "id": "6MLrwVLRJQkg",
        "outputId": "7bdb1d53-10e3-42e5-da80-ed34379ee7cb"
      },
      "outputs": [
        {
          "output_type": "stream",
          "name": "stdout",
          "text": [
            "Looking in indexes: https://pypi.org/simple, https://us-python.pkg.dev/colab-wheels/public/simple/\n",
            "Collecting koalas\n",
            "  Downloading koalas-1.8.2-py3-none-any.whl (390 kB)\n",
            "\u001b[2K     \u001b[90m━━━━━━━━━━━━━━━━━━━━━━━━━━━━━━━━━━━━━━━\u001b[0m \u001b[32m390.8/390.8 KB\u001b[0m \u001b[31m7.5 MB/s\u001b[0m eta \u001b[36m0:00:00\u001b[0m\n",
            "\u001b[?25hRequirement already satisfied: pandas>=0.23.2 in /usr/local/lib/python3.8/dist-packages (from koalas) (1.3.5)\n",
            "Requirement already satisfied: numpy>=1.14 in /usr/local/lib/python3.8/dist-packages (from koalas) (1.21.6)\n",
            "Requirement already satisfied: pyarrow>=0.10 in /usr/local/lib/python3.8/dist-packages (from koalas) (9.0.0)\n",
            "Requirement already satisfied: python-dateutil>=2.7.3 in /usr/local/lib/python3.8/dist-packages (from pandas>=0.23.2->koalas) (2.8.2)\n",
            "Requirement already satisfied: pytz>=2017.3 in /usr/local/lib/python3.8/dist-packages (from pandas>=0.23.2->koalas) (2022.7)\n",
            "Requirement already satisfied: six>=1.5 in /usr/local/lib/python3.8/dist-packages (from python-dateutil>=2.7.3->pandas>=0.23.2->koalas) (1.15.0)\n",
            "Installing collected packages: koalas\n",
            "Successfully installed koalas-1.8.2\n",
            "Looking in indexes: https://pypi.org/simple, https://us-python.pkg.dev/colab-wheels/public/simple/\n",
            "Collecting pyspark\n",
            "  Downloading pyspark-3.3.1.tar.gz (281.4 MB)\n",
            "\u001b[2K     \u001b[90m━━━━━━━━━━━━━━━━━━━━━━━━━━━━━━━━━━━━━━━\u001b[0m \u001b[32m281.4/281.4 MB\u001b[0m \u001b[31m2.1 MB/s\u001b[0m eta \u001b[36m0:00:00\u001b[0m\n",
            "\u001b[?25h  Preparing metadata (setup.py) ... \u001b[?25l\u001b[?25hdone\n",
            "Collecting py4j==0.10.9.5\n",
            "  Downloading py4j-0.10.9.5-py2.py3-none-any.whl (199 kB)\n",
            "\u001b[2K     \u001b[90m━━━━━━━━━━━━━━━━━━━━━━━━━━━━━━━━━━━━━━\u001b[0m \u001b[32m199.7/199.7 KB\u001b[0m \u001b[31m14.5 MB/s\u001b[0m eta \u001b[36m0:00:00\u001b[0m\n",
            "\u001b[?25hBuilding wheels for collected packages: pyspark\n",
            "  Building wheel for pyspark (setup.py) ... \u001b[?25l\u001b[?25hdone\n",
            "  Created wheel for pyspark: filename=pyspark-3.3.1-py2.py3-none-any.whl size=281845512 sha256=19f1308b5f05a138e5ee272a27b597fc8a691cb5d99751ab011d4cc3541b949c\n",
            "  Stored in directory: /root/.cache/pip/wheels/43/dc/11/ec201cd671da62fa9c5cc77078235e40722170ceba231d7598\n",
            "Successfully built pyspark\n",
            "Installing collected packages: py4j, pyspark\n",
            "Successfully installed py4j-0.10.9.5 pyspark-3.3.1\n"
          ]
        }
      ],
      "source": [
        "!pip install koalas\n",
        "!pip install pyspark"
      ]
    },
    {
      "cell_type": "markdown",
      "metadata": {
        "id": "TYTMqe82N7Yr"
      },
      "source": [
        "#### Import Libraries"
      ]
    },
    {
      "cell_type": "code",
      "execution_count": null,
      "metadata": {
        "colab": {
          "base_uri": "https://localhost:8080/"
        },
        "id": "bkT73lU9Lm0o",
        "outputId": "3f3bbaeb-f9e0-43e3-ed1c-b04d88bd8672"
      },
      "outputs": [
        {
          "output_type": "stream",
          "name": "stderr",
          "text": [
            "WARNING:root:Found pyspark version \"3.3.1\" installed. The pyspark version 3.2 and above has a built-in \"pandas APIs on Spark\" module ported from Koalas. Try `import pyspark.pandas as ps` instead. \n",
            "WARNING:root:'PYARROW_IGNORE_TIMEZONE' environment variable was not set. It is required to set this environment variable to '1' in both driver and executor sides if you use pyarrow>=2.0.0. Koalas will set it for you but it does not work if there is a Spark context already launched.\n"
          ]
        }
      ],
      "source": [
        "import pandas as pd\n",
        "import numpy as np\n",
        "import time\n",
        "import databricks.koalas as ks\n",
        "from pyspark.sql import SparkSession"
      ]
    },
    {
      "cell_type": "markdown",
      "metadata": {
        "id": "lOy94svzOC85"
      },
      "source": [
        "#### Read Dataset"
      ]
    },
    {
      "cell_type": "code",
      "execution_count": null,
      "metadata": {
        "id": "geDnN6ld86kp"
      },
      "outputs": [],
      "source": [
        "# Read dataset from google drive\n",
        "!pip install -U -q PyDrive\n",
        "from pydrive.auth import GoogleAuth\n",
        "from pydrive.drive import GoogleDrive\n",
        "from google.colab import auth\n",
        "from oauth2client.client import GoogleCredentials\n",
        "\n",
        "# Authenticate and create the PyDrive client.\n",
        "auth.authenticate_user()\n",
        "gauth = GoogleAuth()\n",
        "gauth.credentials = GoogleCredentials.get_application_default()\n",
        "drive = GoogleDrive(gauth)\n",
        "link = 'https://drive.google.com/file/d/1d5jg1ER12xiMys6-bOPfCYR1DAp0nnNY/view'\n",
        "# to get the id part of the file\n",
        "id = link.split(\"/\")[-2]\n",
        " \n",
        "downloaded = drive.CreateFile({'id':id})\n",
        "downloaded.GetContentFile('yellow_tripdata_2015-01.csv') "
      ]
    },
    {
      "cell_type": "markdown",
      "metadata": {
        "id": "_zUdSTVzSVfh"
      },
      "source": [
        "###COMPARISON BETWEEN KOALAS AND PANDAS\n",
        "\n",
        "Pandas package is used to manipulate data sets. It offers tools for data exploration, cleaning, analysis, and manipulation. With the aid of Pandas, we can examine large data sets and draw conclusions based on statistical principles. Pandas also can organise disorganised data sets, making them readable and useful.\n",
        "\n",
        "\n",
        "Koalas is an open-source Python package that implements the pandas API on top of Apache Spark. Data scientists don't have to learn a new framework in order to move from a single computer to a distributed environment using Koalas."
      ]
    },
    {
      "cell_type": "code",
      "execution_count": null,
      "metadata": {
        "id": "hBGWpUkEeO2h"
      },
      "outputs": [],
      "source": [
        "result = {}\n",
        "func_list = ['read_csv', 'head', 'tail', 'describe', 'sum', 'agg', 'groupby', 'isnull', 'fillna', 'dropna']\n",
        "for a in func_list:\n",
        "  result[a] = {}"
      ]
    },
    {
      "cell_type": "markdown",
      "metadata": {
        "id": "sbSdzRhwTYmU"
      },
      "source": [
        "\n",
        "#### Read Dataset Koalas VS Pandas"
      ]
    },
    {
      "cell_type": "code",
      "execution_count": null,
      "metadata": {
        "colab": {
          "base_uri": "https://localhost:8080/"
        },
        "id": "WA3p9lm0SaV7",
        "outputId": "19fae334-7a78-4f00-fca3-0accc3c5494b"
      },
      "outputs": [
        {
          "output_type": "stream",
          "name": "stdout",
          "text": [
            "CPU times: user 678 ms, sys: 88.1 ms, total: 766 ms\n",
            "Wall time: 1min 40s\n"
          ]
        }
      ],
      "source": [
        "s = time.time()\n",
        "%time kdf = ks.read_csv('/content/yellow_tripdata_2015-01.csv')\n",
        "e = time.time()\n",
        "result['read_csv']['koalas'] = e-s"
      ]
    },
    {
      "cell_type": "code",
      "execution_count": null,
      "metadata": {
        "colab": {
          "base_uri": "https://localhost:8080/"
        },
        "id": "vcQn-tEzTqCf",
        "outputId": "3cf885ae-9fdf-489c-cffc-254ca322f976"
      },
      "outputs": [
        {
          "output_type": "stream",
          "name": "stdout",
          "text": [
            "CPU times: user 40.9 s, sys: 7.48 s, total: 48.4 s\n",
            "Wall time: 49.1 s\n"
          ]
        }
      ],
      "source": [
        "s = time.time()\n",
        "%time df = pd.read_csv('/content/yellow_tripdata_2015-01.csv')\n",
        "e = time.time()\n",
        "result['read_csv']['pandas'] = e-s"
      ]
    },
    {
      "cell_type": "markdown",
      "metadata": {
        "id": "fmwsmTM_ciKp"
      },
      "source": [
        "#### Display Top 5 Records Koalas VS Pandas\n",
        "\n",
        "\n"
      ]
    },
    {
      "cell_type": "code",
      "execution_count": null,
      "metadata": {
        "colab": {
          "base_uri": "https://localhost:8080/"
        },
        "id": "mck1tKC0Z_eD",
        "outputId": "43e858f8-106a-46e7-aae7-2a0201f73c57"
      },
      "outputs": [
        {
          "output_type": "stream",
          "name": "stdout",
          "text": [
            "CPU times: user 36.5 ms, sys: 5.91 ms, total: 42.4 ms\n",
            "Wall time: 263 ms\n"
          ]
        }
      ],
      "source": [
        "s = time.time()\n",
        "%time kdf.head()\n",
        "e = time.time()\n",
        "result['head']['koalas'] = e-s"
      ]
    },
    {
      "cell_type": "code",
      "execution_count": null,
      "metadata": {
        "colab": {
          "base_uri": "https://localhost:8080/"
        },
        "id": "-UrguQqNcfEA",
        "outputId": "0ba055da-bcac-42da-edea-1de5ddd3309f"
      },
      "outputs": [
        {
          "output_type": "stream",
          "name": "stdout",
          "text": [
            "CPU times: user 327 µs, sys: 61 µs, total: 388 µs\n",
            "Wall time: 395 µs\n"
          ]
        }
      ],
      "source": [
        "s = time.time()\n",
        "%time df.head()\n",
        "e = time.time()\n",
        "result['head']['pandas'] = e-s"
      ]
    },
    {
      "cell_type": "markdown",
      "metadata": {
        "id": "vfKD7F7mfhSM"
      },
      "source": [
        "#### Display Bottom 5 Records Koalas VS Pandas"
      ]
    },
    {
      "cell_type": "code",
      "execution_count": null,
      "metadata": {
        "colab": {
          "base_uri": "https://localhost:8080/"
        },
        "id": "4y36uClTe5-z",
        "outputId": "95a03f0e-66b4-4e63-f3a3-a300b8fe4d12"
      },
      "outputs": [
        {
          "output_type": "stream",
          "name": "stdout",
          "text": [
            "CPU times: user 877 ms, sys: 108 ms, total: 985 ms\n",
            "Wall time: 2min 7s\n"
          ]
        }
      ],
      "source": [
        "s = time.time()\n",
        "%time kdf.tail()\n",
        "e = time.time()\n",
        "result['tail']['koalas'] = e-s"
      ]
    },
    {
      "cell_type": "code",
      "execution_count": null,
      "metadata": {
        "colab": {
          "base_uri": "https://localhost:8080/"
        },
        "id": "aEdHo3RwfY10",
        "outputId": "49da1834-f467-4a37-a77a-0d5bc00799d0"
      },
      "outputs": [
        {
          "output_type": "stream",
          "name": "stdout",
          "text": [
            "CPU times: user 197 µs, sys: 28 µs, total: 225 µs\n",
            "Wall time: 231 µs\n"
          ]
        }
      ],
      "source": [
        "s = time.time()\n",
        "%time df.tail()\n",
        "e = time.time()\n",
        "result['tail']['pandas'] = e-s"
      ]
    },
    {
      "cell_type": "markdown",
      "metadata": {
        "id": "7udixIC6eHQU"
      },
      "source": [
        "#### Describe Dataset Koalas VS Pandas"
      ]
    },
    {
      "cell_type": "code",
      "execution_count": null,
      "metadata": {
        "id": "rJij9k1PsokT",
        "colab": {
          "base_uri": "https://localhost:8080/"
        },
        "outputId": "04777658-9321-4dac-9dda-a7e73d98a87f"
      },
      "outputs": [
        {
          "output_type": "stream",
          "name": "stdout",
          "text": [
            "CPU times: user 2.15 s, sys: 283 ms, total: 2.44 s\n",
            "Wall time: 5min 10s\n"
          ]
        }
      ],
      "source": [
        "s = time.time()\n",
        "%time kdf.describe()\n",
        "e = time.time()\n",
        "result['describe']['koalas'] = e-s"
      ]
    },
    {
      "cell_type": "code",
      "execution_count": null,
      "metadata": {
        "colab": {
          "base_uri": "https://localhost:8080/"
        },
        "id": "c80jZf6YvUp_",
        "outputId": "faf64877-9eda-4ad5-9acb-840469eaf499"
      },
      "outputs": [
        {
          "output_type": "stream",
          "name": "stdout",
          "text": [
            "CPU times: user 11.2 s, sys: 4.51 s, total: 15.7 s\n",
            "Wall time: 21.2 s\n"
          ]
        }
      ],
      "source": [
        "s = time.time()\n",
        "%time df.describe()\n",
        "e = time.time()\n",
        "result['describe']['pandas'] = e-s"
      ]
    },
    {
      "cell_type": "markdown",
      "metadata": {
        "id": "BNiOkxLRYhkF"
      },
      "source": [
        "#### Sum Operation Koalas VS Pandas"
      ]
    },
    {
      "cell_type": "code",
      "execution_count": null,
      "metadata": {
        "colab": {
          "base_uri": "https://localhost:8080/"
        },
        "id": "xLmuYq9XvXKw",
        "outputId": "040c7f12-77da-4244-ef83-5b513d9aefea"
      },
      "outputs": [
        {
          "output_type": "stream",
          "name": "stdout",
          "text": [
            "CPU times: user 161 ms, sys: 25.1 ms, total: 186 ms\n",
            "Wall time: 24.3 s\n"
          ]
        }
      ],
      "source": [
        "s = time.time()\n",
        "%time kdf['trip_distance'].sum()\n",
        "e = time.time()\n",
        "result['sum']['koalas'] = e-s"
      ]
    },
    {
      "cell_type": "code",
      "execution_count": null,
      "metadata": {
        "colab": {
          "base_uri": "https://localhost:8080/"
        },
        "id": "1-KX6B8ueiTB",
        "outputId": "15b51581-26d4-44a5-a062-a8781d8aafa6"
      },
      "outputs": [
        {
          "output_type": "stream",
          "name": "stdout",
          "text": [
            "CPU times: user 28.8 ms, sys: 5.63 ms, total: 34.4 ms\n",
            "Wall time: 36.3 ms\n"
          ]
        }
      ],
      "source": [
        "s = time.time()\n",
        "%time df['trip_distance'].sum()\n",
        "e = time.time()\n",
        "result['sum']['pandas'] = e-s"
      ]
    },
    {
      "cell_type": "markdown",
      "metadata": {
        "id": "fCVkuWC5Wfcl"
      },
      "source": [
        "#### Aggregate Koalas VS Pandas"
      ]
    },
    {
      "cell_type": "code",
      "execution_count": null,
      "metadata": {
        "colab": {
          "base_uri": "https://localhost:8080/"
        },
        "id": "ZrPqLt30WdCt",
        "outputId": "fc361b40-35f4-4ced-af97-9431e61ec6b9"
      },
      "outputs": [
        {
          "output_type": "stream",
          "name": "stdout",
          "text": [
            "CPU times: user 191 ms, sys: 17 ms, total: 208 ms\n",
            "Wall time: 1.73 s\n"
          ]
        }
      ],
      "source": [
        "s = time.time()\n",
        "%time kdf.agg(['min'])[['trip_distance']]\n",
        "e = time.time()\n",
        "result['agg']['koalas'] = e-s"
      ]
    },
    {
      "cell_type": "code",
      "source": [
        "s = time.time()\n",
        "%time df.agg(['min'])[['trip_distance']]\n",
        "e = time.time()\n",
        "result['agg']['pandas'] = e-s"
      ],
      "metadata": {
        "colab": {
          "base_uri": "https://localhost:8080/"
        },
        "id": "p1VT38ih9l1F",
        "outputId": "3e9bf20b-35ae-4e49-9560-180282f56fc7"
      },
      "execution_count": null,
      "outputs": [
        {
          "output_type": "stream",
          "name": "stdout",
          "text": [
            "CPU times: user 3.89 s, sys: 37.1 ms, total: 3.93 s\n",
            "Wall time: 3.95 s\n"
          ]
        }
      ]
    },
    {
      "cell_type": "markdown",
      "metadata": {
        "id": "EXaWyfnkXkqm"
      },
      "source": [
        "#### Grouping Koalas VS Pandas"
      ]
    },
    {
      "cell_type": "code",
      "execution_count": null,
      "metadata": {
        "colab": {
          "base_uri": "https://localhost:8080/"
        },
        "id": "Q6fyuONAWmXl",
        "outputId": "191e270b-c4b8-4162-b8dd-f135e6997ee0"
      },
      "outputs": [
        {
          "output_type": "stream",
          "name": "stdout",
          "text": [
            "CPU times: user 149 ms, sys: 19.8 ms, total: 169 ms\n",
            "Wall time: 955 ms\n"
          ]
        }
      ],
      "source": [
        "s = time.time()\n",
        "%time temp = kdf.groupby(['passenger_count']).count()\n",
        "e = time.time()\n",
        "result['groupby']['koalas'] = e-s"
      ]
    },
    {
      "cell_type": "code",
      "execution_count": null,
      "metadata": {
        "colab": {
          "base_uri": "https://localhost:8080/"
        },
        "id": "oc-aiyd0Wivl",
        "outputId": "ab3ede0f-5aea-47ee-b48e-ab955e181783"
      },
      "outputs": [
        {
          "output_type": "stream",
          "name": "stdout",
          "text": [
            "CPU times: user 3.75 s, sys: 93.5 ms, total: 3.84 s\n",
            "Wall time: 3.85 s\n"
          ]
        }
      ],
      "source": [
        "s = time.time()\n",
        "%time temp = df.groupby(['passenger_count']).count()\n",
        "e = time.time()\n",
        "result['groupby']['pandas'] = e-s"
      ]
    },
    {
      "cell_type": "markdown",
      "metadata": {
        "id": "lmX2RkxRSM9A"
      },
      "source": [
        "#### isnull KoalasVS Pandas"
      ]
    },
    {
      "cell_type": "code",
      "execution_count": null,
      "metadata": {
        "colab": {
          "base_uri": "https://localhost:8080/"
        },
        "id": "3mBhGJEASa7W",
        "outputId": "db3a3e28-9943-4be3-d118-5036da586d7a"
      },
      "outputs": [
        {
          "output_type": "stream",
          "name": "stdout",
          "text": [
            "CPU times: user 777 ms, sys: 115 ms, total: 892 ms\n",
            "Wall time: 1min 7s\n"
          ]
        }
      ],
      "source": [
        "s = time.time()\n",
        "%time kdf.isnull().sum()\n",
        "e = time.time()\n",
        "result['isnull']['koalas'] = e-s"
      ]
    },
    {
      "cell_type": "code",
      "execution_count": null,
      "metadata": {
        "colab": {
          "base_uri": "https://localhost:8080/"
        },
        "id": "eCxalfndSeam",
        "outputId": "a05ddd9f-2890-40ea-d0b1-214610290fc0"
      },
      "outputs": [
        {
          "output_type": "stream",
          "name": "stdout",
          "text": [
            "CPU times: user 2.43 s, sys: 26.7 ms, total: 2.46 s\n",
            "Wall time: 2.46 s\n"
          ]
        }
      ],
      "source": [
        "s = time.time()\n",
        "%time df.isnull().sum()\n",
        "e = time.time()\n",
        "result['isnull']['pandas'] = e-s"
      ]
    },
    {
      "cell_type": "markdown",
      "metadata": {
        "id": "av9O4JlKVWP2"
      },
      "source": [
        "#### fillna Koalas VS Pandas"
      ]
    },
    {
      "cell_type": "code",
      "execution_count": null,
      "metadata": {
        "colab": {
          "base_uri": "https://localhost:8080/"
        },
        "id": "7SKJLinOVUOG",
        "outputId": "c8b58033-3b0d-4632-984e-d6d9a2a86871"
      },
      "outputs": [
        {
          "output_type": "stream",
          "name": "stdout",
          "text": [
            "CPU times: user 248 ms, sys: 34.2 ms, total: 282 ms\n",
            "Wall time: 1.48 s\n"
          ]
        }
      ],
      "source": [
        "s = time.time()\n",
        "%time kdf.fillna('0.3')\n",
        "e = time.time()\n",
        "result['fillna']['koalas'] = e-s"
      ]
    },
    {
      "cell_type": "code",
      "execution_count": null,
      "metadata": {
        "colab": {
          "base_uri": "https://localhost:8080/"
        },
        "id": "uaCAccoWVTen",
        "outputId": "25e3e5fa-2547-4b5f-8955-4e12e8e911d0"
      },
      "outputs": [
        {
          "output_type": "stream",
          "name": "stdout",
          "text": [
            "CPU times: user 4.3 s, sys: 355 ms, total: 4.65 s\n",
            "Wall time: 4.64 s\n"
          ]
        }
      ],
      "source": [
        "s = time.time()\n",
        "%time df.fillna('0.3')\n",
        "e = time.time()\n",
        "result['fillna']['pandas'] = e-s"
      ]
    },
    {
      "cell_type": "markdown",
      "metadata": {
        "id": "E-YxzPGNVZH-"
      },
      "source": [
        "#### dropna Koalas VS Pandas"
      ]
    },
    {
      "cell_type": "code",
      "execution_count": null,
      "metadata": {
        "colab": {
          "base_uri": "https://localhost:8080/"
        },
        "id": "837BlcBDVSFX",
        "outputId": "25da8e91-89b0-4190-ec6a-9edb8306aa0f"
      },
      "outputs": [
        {
          "output_type": "stream",
          "name": "stdout",
          "text": [
            "CPU times: user 219 ms, sys: 28.9 ms, total: 248 ms\n",
            "Wall time: 885 ms\n"
          ]
        }
      ],
      "source": [
        "s = time.time()\n",
        "%time kdf.dropna()\n",
        "e = time.time()\n",
        "result['dropna']['koalas'] = e-s"
      ]
    },
    {
      "cell_type": "code",
      "execution_count": null,
      "metadata": {
        "colab": {
          "base_uri": "https://localhost:8080/"
        },
        "id": "IVygcdLVU2_e",
        "outputId": "8d2f3c69-c373-4729-87ab-bd5dd8d09434"
      },
      "outputs": [
        {
          "output_type": "stream",
          "name": "stdout",
          "text": [
            "CPU times: user 3.69 s, sys: 59.3 ms, total: 3.75 s\n",
            "Wall time: 3.76 s\n"
          ]
        }
      ],
      "source": [
        "s = time.time()\n",
        "%time df.dropna()\n",
        "e = time.time()\n",
        "result['dropna']['pandas'] = e-s"
      ]
    },
    {
      "cell_type": "markdown",
      "metadata": {
        "id": "T81LX-CD1b9B"
      },
      "source": [
        "#### Comparison Bar Chart"
      ]
    },
    {
      "cell_type": "code",
      "execution_count": null,
      "metadata": {
        "id": "CfK46E3fa_0d",
        "colab": {
          "base_uri": "https://localhost:8080/",
          "height": 363
        },
        "outputId": "bbaa8a48-0452-4dcd-ab35-ed97a82d90bb"
      },
      "outputs": [
        {
          "output_type": "execute_result",
          "data": {
            "text/plain": [
              "              koalas     pandas\n",
              "read_csv  100.516324  49.069192\n",
              "head        0.266857   0.003376\n",
              "tail      127.258166   0.000978\n",
              "describe  310.018327  21.222414\n",
              "sum        24.329168   0.037966\n",
              "agg         1.727700   3.954798\n",
              "groupby     0.955671   3.855587\n",
              "isnull     67.897667   2.464641\n",
              "fillna      1.487299   5.027673\n",
              "dropna      0.885875   3.967247"
            ],
            "text/html": [
              "\n",
              "  <div id=\"df-cdd78a6e-d689-4a6b-ba38-ec9e7cee1448\">\n",
              "    <div class=\"colab-df-container\">\n",
              "      <div>\n",
              "<style scoped>\n",
              "    .dataframe tbody tr th:only-of-type {\n",
              "        vertical-align: middle;\n",
              "    }\n",
              "\n",
              "    .dataframe tbody tr th {\n",
              "        vertical-align: top;\n",
              "    }\n",
              "\n",
              "    .dataframe thead th {\n",
              "        text-align: right;\n",
              "    }\n",
              "</style>\n",
              "<table border=\"1\" class=\"dataframe\">\n",
              "  <thead>\n",
              "    <tr style=\"text-align: right;\">\n",
              "      <th></th>\n",
              "      <th>koalas</th>\n",
              "      <th>pandas</th>\n",
              "    </tr>\n",
              "  </thead>\n",
              "  <tbody>\n",
              "    <tr>\n",
              "      <th>read_csv</th>\n",
              "      <td>100.516324</td>\n",
              "      <td>49.069192</td>\n",
              "    </tr>\n",
              "    <tr>\n",
              "      <th>head</th>\n",
              "      <td>0.266857</td>\n",
              "      <td>0.003376</td>\n",
              "    </tr>\n",
              "    <tr>\n",
              "      <th>tail</th>\n",
              "      <td>127.258166</td>\n",
              "      <td>0.000978</td>\n",
              "    </tr>\n",
              "    <tr>\n",
              "      <th>describe</th>\n",
              "      <td>310.018327</td>\n",
              "      <td>21.222414</td>\n",
              "    </tr>\n",
              "    <tr>\n",
              "      <th>sum</th>\n",
              "      <td>24.329168</td>\n",
              "      <td>0.037966</td>\n",
              "    </tr>\n",
              "    <tr>\n",
              "      <th>agg</th>\n",
              "      <td>1.727700</td>\n",
              "      <td>3.954798</td>\n",
              "    </tr>\n",
              "    <tr>\n",
              "      <th>groupby</th>\n",
              "      <td>0.955671</td>\n",
              "      <td>3.855587</td>\n",
              "    </tr>\n",
              "    <tr>\n",
              "      <th>isnull</th>\n",
              "      <td>67.897667</td>\n",
              "      <td>2.464641</td>\n",
              "    </tr>\n",
              "    <tr>\n",
              "      <th>fillna</th>\n",
              "      <td>1.487299</td>\n",
              "      <td>5.027673</td>\n",
              "    </tr>\n",
              "    <tr>\n",
              "      <th>dropna</th>\n",
              "      <td>0.885875</td>\n",
              "      <td>3.967247</td>\n",
              "    </tr>\n",
              "  </tbody>\n",
              "</table>\n",
              "</div>\n",
              "      <button class=\"colab-df-convert\" onclick=\"convertToInteractive('df-cdd78a6e-d689-4a6b-ba38-ec9e7cee1448')\"\n",
              "              title=\"Convert this dataframe to an interactive table.\"\n",
              "              style=\"display:none;\">\n",
              "        \n",
              "  <svg xmlns=\"http://www.w3.org/2000/svg\" height=\"24px\"viewBox=\"0 0 24 24\"\n",
              "       width=\"24px\">\n",
              "    <path d=\"M0 0h24v24H0V0z\" fill=\"none\"/>\n",
              "    <path d=\"M18.56 5.44l.94 2.06.94-2.06 2.06-.94-2.06-.94-.94-2.06-.94 2.06-2.06.94zm-11 1L8.5 8.5l.94-2.06 2.06-.94-2.06-.94L8.5 2.5l-.94 2.06-2.06.94zm10 10l.94 2.06.94-2.06 2.06-.94-2.06-.94-.94-2.06-.94 2.06-2.06.94z\"/><path d=\"M17.41 7.96l-1.37-1.37c-.4-.4-.92-.59-1.43-.59-.52 0-1.04.2-1.43.59L10.3 9.45l-7.72 7.72c-.78.78-.78 2.05 0 2.83L4 21.41c.39.39.9.59 1.41.59.51 0 1.02-.2 1.41-.59l7.78-7.78 2.81-2.81c.8-.78.8-2.07 0-2.86zM5.41 20L4 18.59l7.72-7.72 1.47 1.35L5.41 20z\"/>\n",
              "  </svg>\n",
              "      </button>\n",
              "      \n",
              "  <style>\n",
              "    .colab-df-container {\n",
              "      display:flex;\n",
              "      flex-wrap:wrap;\n",
              "      gap: 12px;\n",
              "    }\n",
              "\n",
              "    .colab-df-convert {\n",
              "      background-color: #E8F0FE;\n",
              "      border: none;\n",
              "      border-radius: 50%;\n",
              "      cursor: pointer;\n",
              "      display: none;\n",
              "      fill: #1967D2;\n",
              "      height: 32px;\n",
              "      padding: 0 0 0 0;\n",
              "      width: 32px;\n",
              "    }\n",
              "\n",
              "    .colab-df-convert:hover {\n",
              "      background-color: #E2EBFA;\n",
              "      box-shadow: 0px 1px 2px rgba(60, 64, 67, 0.3), 0px 1px 3px 1px rgba(60, 64, 67, 0.15);\n",
              "      fill: #174EA6;\n",
              "    }\n",
              "\n",
              "    [theme=dark] .colab-df-convert {\n",
              "      background-color: #3B4455;\n",
              "      fill: #D2E3FC;\n",
              "    }\n",
              "\n",
              "    [theme=dark] .colab-df-convert:hover {\n",
              "      background-color: #434B5C;\n",
              "      box-shadow: 0px 1px 3px 1px rgba(0, 0, 0, 0.15);\n",
              "      filter: drop-shadow(0px 1px 2px rgba(0, 0, 0, 0.3));\n",
              "      fill: #FFFFFF;\n",
              "    }\n",
              "  </style>\n",
              "\n",
              "      <script>\n",
              "        const buttonEl =\n",
              "          document.querySelector('#df-cdd78a6e-d689-4a6b-ba38-ec9e7cee1448 button.colab-df-convert');\n",
              "        buttonEl.style.display =\n",
              "          google.colab.kernel.accessAllowed ? 'block' : 'none';\n",
              "\n",
              "        async function convertToInteractive(key) {\n",
              "          const element = document.querySelector('#df-cdd78a6e-d689-4a6b-ba38-ec9e7cee1448');\n",
              "          const dataTable =\n",
              "            await google.colab.kernel.invokeFunction('convertToInteractive',\n",
              "                                                     [key], {});\n",
              "          if (!dataTable) return;\n",
              "\n",
              "          const docLinkHtml = 'Like what you see? Visit the ' +\n",
              "            '<a target=\"_blank\" href=https://colab.research.google.com/notebooks/data_table.ipynb>data table notebook</a>'\n",
              "            + ' to learn more about interactive tables.';\n",
              "          element.innerHTML = '';\n",
              "          dataTable['output_type'] = 'display_data';\n",
              "          await google.colab.output.renderOutput(dataTable, element);\n",
              "          const docLink = document.createElement('div');\n",
              "          docLink.innerHTML = docLinkHtml;\n",
              "          element.appendChild(docLink);\n",
              "        }\n",
              "      </script>\n",
              "    </div>\n",
              "  </div>\n",
              "  "
            ]
          },
          "metadata": {},
          "execution_count": 26
        }
      ],
      "source": [
        "result_df = pd.DataFrame.from_dict(result,orient='index')\n",
        "result_df"
      ]
    },
    {
      "cell_type": "code",
      "source": [
        "import matplotlib\n",
        "import matplotlib.pyplot as plt\n",
        "matplotlib.rcParams['font.size'] = 14\n",
        "matplotlib.rcParams['figure.figsize'] = (12, 12)\n",
        "\n",
        "ax = result_df.plot.bar(rot=0)"
      ],
      "metadata": {
        "id": "EKwx-m__kNrv",
        "colab": {
          "base_uri": "https://localhost:8080/",
          "height": 704
        },
        "outputId": "181eecbe-4c51-4c31-ea97-c5c9882116f4"
      },
      "execution_count": null,
      "outputs": [
        {
          "output_type": "display_data",
          "data": {
            "text/plain": [
              "<Figure size 864x864 with 1 Axes>"
            ],
            "image/png": "[encoded data removed]"
          },
          "metadata": {
            "needs_background": "light"
          }
        }
      ]
    },
    {
      "cell_type": "markdown",
      "source": [
        "Koalas is faster than pandas in terms of `aggregate`, `groupby`, `fillna` and `dropna`."
      ],
      "metadata": {
        "id": "djACXbVECA4T"
      }
    }
  ],
  "metadata": {
    "colab": {
      "provenance": [],
      "include_colab_link": true
    },
    "kernelspec": {
      "display_name": "Python 3",
      "name": "python3"
    },
    "language_info": {
      "name": "python"
    }
  },
  "nbformat": 4,
  "nbformat_minor": 0
}
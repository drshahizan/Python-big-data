{
  "cells": [
    {
      "cell_type": "markdown",
      "metadata": {
        "id": "view-in-github",
        "colab_type": "text"
      },
      "source": [
        "<a href=\"https://colab.research.google.com/github/drshahizan/Python-big-data/blob/main/Assignment%202b/SamVerse/SamVerse_File_2.ipynb\" target=\"_parent\"><img src=\"https://colab.research.google.com/assets/colab-badge.svg\" alt=\"Open In Colab\"/></a>"
      ]
    },
    {
      "cell_type": "markdown",
      "source": [
        "# **Comparison Between Pandas and PySpark on 1000000 Sales Records**\n",
        "\n",
        "Group members:\n",
        "\n",
        "1) LUQMAN ARIFF BIN NOOR AZHAR (A20EC0202)\n",
        "\n",
        "2) MYZA NAZIFA BINTI NAZRY (A20EC0219)\n",
        "\n",
        "3) AHMAD AIMAN HAFIZI BIN MUHAMMAD (A20EC0177)\n",
        "\n",
        "4) LEE CAI XUAN (A20EC0062)"
      ],
      "metadata": {
        "id": "O95xtx6U25oV"
      }
    },
    {
      "cell_type": "markdown",
      "source": [
        "**Comparison of Reading File between Pandas and PySpark**"
      ],
      "metadata": {
        "id": "FzlcQR7g1ZYy"
      }
    },
    {
      "cell_type": "markdown",
      "source": [
        "Reading file using Pandas"
      ],
      "metadata": {
        "id": "eW17VwZvLMGS"
      }
    },
    {
      "cell_type": "code",
      "source": [
        "import random"
      ],
      "metadata": {
        "id": "ftuhoreFqT9P"
      },
      "execution_count": null,
      "outputs": []
    },
    {
      "cell_type": "code",
      "source": [
        "%time\n",
        "import pandas as pd\n",
        "import numpy as np"
      ],
      "metadata": {
        "id": "5hpNPaxeK7be",
        "colab": {
          "base_uri": "https://localhost:8080/"
        },
        "outputId": "a522f42c-e3ac-4d4f-d293-cfa858c7ad32"
      },
      "execution_count": null,
      "outputs": [
        {
          "output_type": "stream",
          "name": "stdout",
          "text": [
            "CPU times: user 12 µs, sys: 0 ns, total: 12 µs\n",
            "Wall time: 16.5 µs\n"
          ]
        }
      ]
    },
    {
      "cell_type": "code",
      "source": [
        "from google.colab import drive\n",
        "drive.mount('/content/drive')"
      ],
      "metadata": {
        "colab": {
          "base_uri": "https://localhost:8080/"
        },
        "id": "byjn0nE9AiZw",
        "outputId": "877ea0e8-4f7f-45f1-dde9-d9ea758b2726"
      },
      "execution_count": null,
      "outputs": [
        {
          "output_type": "stream",
          "name": "stdout",
          "text": [
            "Drive already mounted at /content/drive; to attempt to forcibly remount, call drive.mount(\"/content/drive\", force_remount=True).\n"
          ]
        }
      ]
    },
    {
      "cell_type": "code",
      "source": [
        "%time"
      ],
      "metadata": {
        "colab": {
          "base_uri": "https://localhost:8080/"
        },
        "id": "bbd4FyTTAqOJ",
        "outputId": "8be34ee4-9e5b-4fc8-d572-484aa2d0a7fb"
      },
      "execution_count": null,
      "outputs": [
        {
          "output_type": "stream",
          "name": "stdout",
          "text": [
            "CPU times: user 5 µs, sys: 0 ns, total: 5 µs\n",
            "Wall time: 9.54 µs\n"
          ]
        }
      ]
    },
    {
      "cell_type": "code",
      "source": [
        "%time\n",
        "df = pd.read_csv('/content/drive/MyDrive/Colab Notebook/1000000 Sales Records.csv')"
      ],
      "metadata": {
        "id": "KS9u1-QuBkjx",
        "colab": {
          "base_uri": "https://localhost:8080/"
        },
        "outputId": "975ea37f-2294-47d0-cd28-00b00e484f8e"
      },
      "execution_count": null,
      "outputs": [
        {
          "output_type": "stream",
          "name": "stdout",
          "text": [
            "CPU times: user 5 µs, sys: 1e+03 ns, total: 6 µs\n",
            "Wall time: 11.4 µs\n"
          ]
        }
      ]
    },
    {
      "cell_type": "markdown",
      "source": [
        "Reading file using PySpark"
      ],
      "metadata": {
        "id": "WjrQY6sALazy"
      }
    },
    {
      "cell_type": "code",
      "source": [
        "! pip install pyspark\n",
        "%time"
      ],
      "metadata": {
        "id": "A5HvXpzGCNRs",
        "colab": {
          "base_uri": "https://localhost:8080/"
        },
        "outputId": "102739f6-2b8b-4d41-f24a-d057e5b97b41"
      },
      "execution_count": null,
      "outputs": [
        {
          "output_type": "stream",
          "name": "stdout",
          "text": [
            "Looking in indexes: https://pypi.org/simple, https://us-python.pkg.dev/colab-wheels/public/simple/\n",
            "Requirement already satisfied: pyspark in /usr/local/lib/python3.8/dist-packages (3.3.1)\n",
            "Requirement already satisfied: py4j==0.10.9.5 in /usr/local/lib/python3.8/dist-packages (from pyspark) (0.10.9.5)\n",
            "CPU times: user 4 µs, sys: 0 ns, total: 4 µs\n",
            "Wall time: 9.54 µs\n"
          ]
        }
      ]
    },
    {
      "cell_type": "code",
      "source": [
        "from pyspark.sql import SparkSession\n",
        "import pyspark.sql.functions as func\n",
        "spark = SparkSession.builder.appName(\"pyspark_basics\").getOrCreate()\n",
        "df2 = spark.read.csv(\"/content/drive/MyDrive/Colab Notebook/1000000 Sales Records.csv\", header=True)\n",
        "%time"
      ],
      "metadata": {
        "colab": {
          "base_uri": "https://localhost:8080/"
        },
        "id": "jW7wfI0A_isi",
        "outputId": "012666b7-ba95-405f-acea-1b2c9c260de7"
      },
      "execution_count": null,
      "outputs": [
        {
          "output_type": "stream",
          "name": "stdout",
          "text": [
            "CPU times: user 5 µs, sys: 0 ns, total: 5 µs\n",
            "Wall time: 9.06 µs\n"
          ]
        }
      ]
    },
    {
      "cell_type": "markdown",
      "source": [
        "**Comparison of Displaying Dataset between Pandas and PySpark**"
      ],
      "metadata": {
        "id": "ui2JxPIJLrMg"
      }
    },
    {
      "cell_type": "markdown",
      "source": [
        "Displaying dataset using Pandas"
      ],
      "metadata": {
        "id": "AALg8XFlL3Xq"
      }
    },
    {
      "cell_type": "code",
      "source": [
        "%time\n",
        "df.head()"
      ],
      "metadata": {
        "colab": {
          "base_uri": "https://localhost:8080/",
          "height": 372
        },
        "id": "FD9Hbyn7BpJF",
        "outputId": "6f87e52d-3287-4406-d16f-5d99f5537d10"
      },
      "execution_count": null,
      "outputs": [
        {
          "output_type": "stream",
          "name": "stdout",
          "text": [
            "CPU times: user 4 µs, sys: 0 ns, total: 4 µs\n",
            "Wall time: 8.34 µs\n"
          ]
        },
        {
          "output_type": "execute_result",
          "data": {
            "text/plain": [
              "                         Region           Country  Item Type Sales Channel  \\\n",
              "0            Sub-Saharan Africa      South Africa     Fruits       Offline   \n",
              "1  Middle East and North Africa           Morocco    Clothes        Online   \n",
              "2         Australia and Oceania  Papua New Guinea       Meat       Offline   \n",
              "3            Sub-Saharan Africa          Djibouti    Clothes       Offline   \n",
              "4                        Europe          Slovakia  Beverages       Offline   \n",
              "\n",
              "  Order Priority  Order Date   Order ID   Ship Date  Units Sold  Unit Price  \\\n",
              "0              M   7/27/2012  443368995   7/28/2012        1593        9.33   \n",
              "1              M   9/14/2013  667593514  10/19/2013        4611      109.28   \n",
              "2              M   5/15/2015  940995585    6/4/2015         360      421.89   \n",
              "3              H   5/17/2017  880811536    7/2/2017         562      109.28   \n",
              "4              L  10/26/2016  174590194   12/4/2016        3973       47.45   \n",
              "\n",
              "   Unit Cost  Total Revenue  Total Cost  Total Profit  \n",
              "0       6.92       14862.69    11023.56       3839.13  \n",
              "1      35.84      503890.08   165258.24     338631.84  \n",
              "2     364.69      151880.40   131288.40      20592.00  \n",
              "3      35.84       61415.36    20142.08      41273.28  \n",
              "4      31.79      188518.85   126301.67      62217.18  "
            ],
            "text/html": [
              "\n",
              "  <div id=\"df-71e09fdd-7c3a-479e-aca0-23f0ce3ea2b5\">\n",
              "    <div class=\"colab-df-container\">\n",
              "      <div>\n",
              "<style scoped>\n",
              "    .dataframe tbody tr th:only-of-type {\n",
              "        vertical-align: middle;\n",
              "    }\n",
              "\n",
              "    .dataframe tbody tr th {\n",
              "        vertical-align: top;\n",
              "    }\n",
              "\n",
              "    .dataframe thead th {\n",
              "        text-align: right;\n",
              "    }\n",
              "</style>\n",
              "<table border=\"1\" class=\"dataframe\">\n",
              "  <thead>\n",
              "    <tr style=\"text-align: right;\">\n",
              "      <th></th>\n",
              "      <th>Region</th>\n",
              "      <th>Country</th>\n",
              "      <th>Item Type</th>\n",
              "      <th>Sales Channel</th>\n",
              "      <th>Order Priority</th>\n",
              "      <th>Order Date</th>\n",
              "      <th>Order ID</th>\n",
              "      <th>Ship Date</th>\n",
              "      <th>Units Sold</th>\n",
              "      <th>Unit Price</th>\n",
              "      <th>Unit Cost</th>\n",
              "      <th>Total Revenue</th>\n",
              "      <th>Total Cost</th>\n",
              "      <th>Total Profit</th>\n",
              "    </tr>\n",
              "  </thead>\n",
              "  <tbody>\n",
              "    <tr>\n",
              "      <th>0</th>\n",
              "      <td>Sub-Saharan Africa</td>\n",
              "      <td>South Africa</td>\n",
              "      <td>Fruits</td>\n",
              "      <td>Offline</td>\n",
              "      <td>M</td>\n",
              "      <td>7/27/2012</td>\n",
              "      <td>443368995</td>\n",
              "      <td>7/28/2012</td>\n",
              "      <td>1593</td>\n",
              "      <td>9.33</td>\n",
              "      <td>6.92</td>\n",
              "      <td>14862.69</td>\n",
              "      <td>11023.56</td>\n",
              "      <td>3839.13</td>\n",
              "    </tr>\n",
              "    <tr>\n",
              "      <th>1</th>\n",
              "      <td>Middle East and North Africa</td>\n",
              "      <td>Morocco</td>\n",
              "      <td>Clothes</td>\n",
              "      <td>Online</td>\n",
              "      <td>M</td>\n",
              "      <td>9/14/2013</td>\n",
              "      <td>667593514</td>\n",
              "      <td>10/19/2013</td>\n",
              "      <td>4611</td>\n",
              "      <td>109.28</td>\n",
              "      <td>35.84</td>\n",
              "      <td>503890.08</td>\n",
              "      <td>165258.24</td>\n",
              "      <td>338631.84</td>\n",
              "    </tr>\n",
              "    <tr>\n",
              "      <th>2</th>\n",
              "      <td>Australia and Oceania</td>\n",
              "      <td>Papua New Guinea</td>\n",
              "      <td>Meat</td>\n",
              "      <td>Offline</td>\n",
              "      <td>M</td>\n",
              "      <td>5/15/2015</td>\n",
              "      <td>940995585</td>\n",
              "      <td>6/4/2015</td>\n",
              "      <td>360</td>\n",
              "      <td>421.89</td>\n",
              "      <td>364.69</td>\n",
              "      <td>151880.40</td>\n",
              "      <td>131288.40</td>\n",
              "      <td>20592.00</td>\n",
              "    </tr>\n",
              "    <tr>\n",
              "      <th>3</th>\n",
              "      <td>Sub-Saharan Africa</td>\n",
              "      <td>Djibouti</td>\n",
              "      <td>Clothes</td>\n",
              "      <td>Offline</td>\n",
              "      <td>H</td>\n",
              "      <td>5/17/2017</td>\n",
              "      <td>880811536</td>\n",
              "      <td>7/2/2017</td>\n",
              "      <td>562</td>\n",
              "      <td>109.28</td>\n",
              "      <td>35.84</td>\n",
              "      <td>61415.36</td>\n",
              "      <td>20142.08</td>\n",
              "      <td>41273.28</td>\n",
              "    </tr>\n",
              "    <tr>\n",
              "      <th>4</th>\n",
              "      <td>Europe</td>\n",
              "      <td>Slovakia</td>\n",
              "      <td>Beverages</td>\n",
              "      <td>Offline</td>\n",
              "      <td>L</td>\n",
              "      <td>10/26/2016</td>\n",
              "      <td>174590194</td>\n",
              "      <td>12/4/2016</td>\n",
              "      <td>3973</td>\n",
              "      <td>47.45</td>\n",
              "      <td>31.79</td>\n",
              "      <td>188518.85</td>\n",
              "      <td>126301.67</td>\n",
              "      <td>62217.18</td>\n",
              "    </tr>\n",
              "  </tbody>\n",
              "</table>\n",
              "</div>\n",
              "      <button class=\"colab-df-convert\" onclick=\"convertToInteractive('df-71e09fdd-7c3a-479e-aca0-23f0ce3ea2b5')\"\n",
              "              title=\"Convert this dataframe to an interactive table.\"\n",
              "              style=\"display:none;\">\n",
              "        \n",
              "  <svg xmlns=\"http://www.w3.org/2000/svg\" height=\"24px\"viewBox=\"0 0 24 24\"\n",
              "       width=\"24px\">\n",
              "    <path d=\"M0 0h24v24H0V0z\" fill=\"none\"/>\n",
              "    <path d=\"M18.56 5.44l.94 2.06.94-2.06 2.06-.94-2.06-.94-.94-2.06-.94 2.06-2.06.94zm-11 1L8.5 8.5l.94-2.06 2.06-.94-2.06-.94L8.5 2.5l-.94 2.06-2.06.94zm10 10l.94 2.06.94-2.06 2.06-.94-2.06-.94-.94-2.06-.94 2.06-2.06.94z\"/><path d=\"M17.41 7.96l-1.37-1.37c-.4-.4-.92-.59-1.43-.59-.52 0-1.04.2-1.43.59L10.3 9.45l-7.72 7.72c-.78.78-.78 2.05 0 2.83L4 21.41c.39.39.9.59 1.41.59.51 0 1.02-.2 1.41-.59l7.78-7.78 2.81-2.81c.8-.78.8-2.07 0-2.86zM5.41 20L4 18.59l7.72-7.72 1.47 1.35L5.41 20z\"/>\n",
              "  </svg>\n",
              "      </button>\n",
              "      \n",
              "  <style>\n",
              "    .colab-df-container {\n",
              "      display:flex;\n",
              "      flex-wrap:wrap;\n",
              "      gap: 12px;\n",
              "    }\n",
              "\n",
              "    .colab-df-convert {\n",
              "      background-color: #E8F0FE;\n",
              "      border: none;\n",
              "      border-radius: 50%;\n",
              "      cursor: pointer;\n",
              "      display: none;\n",
              "      fill: #1967D2;\n",
              "      height: 32px;\n",
              "      padding: 0 0 0 0;\n",
              "      width: 32px;\n",
              "    }\n",
              "\n",
              "    .colab-df-convert:hover {\n",
              "      background-color: #E2EBFA;\n",
              "      box-shadow: 0px 1px 2px rgba(60, 64, 67, 0.3), 0px 1px 3px 1px rgba(60, 64, 67, 0.15);\n",
              "      fill: #174EA6;\n",
              "    }\n",
              "\n",
              "    [theme=dark] .colab-df-convert {\n",
              "      background-color: #3B4455;\n",
              "      fill: #D2E3FC;\n",
              "    }\n",
              "\n",
              "    [theme=dark] .colab-df-convert:hover {\n",
              "      background-color: #434B5C;\n",
              "      box-shadow: 0px 1px 3px 1px rgba(0, 0, 0, 0.15);\n",
              "      filter: drop-shadow(0px 1px 2px rgba(0, 0, 0, 0.3));\n",
              "      fill: #FFFFFF;\n",
              "    }\n",
              "  </style>\n",
              "\n",
              "      <script>\n",
              "        const buttonEl =\n",
              "          document.querySelector('#df-71e09fdd-7c3a-479e-aca0-23f0ce3ea2b5 button.colab-df-convert');\n",
              "        buttonEl.style.display =\n",
              "          google.colab.kernel.accessAllowed ? 'block' : 'none';\n",
              "\n",
              "        async function convertToInteractive(key) {\n",
              "          const element = document.querySelector('#df-71e09fdd-7c3a-479e-aca0-23f0ce3ea2b5');\n",
              "          const dataTable =\n",
              "            await google.colab.kernel.invokeFunction('convertToInteractive',\n",
              "                                                     [key], {});\n",
              "          if (!dataTable) return;\n",
              "\n",
              "          const docLinkHtml = 'Like what you see? Visit the ' +\n",
              "            '<a target=\"_blank\" href=https://colab.research.google.com/notebooks/data_table.ipynb>data table notebook</a>'\n",
              "            + ' to learn more about interactive tables.';\n",
              "          element.innerHTML = '';\n",
              "          dataTable['output_type'] = 'display_data';\n",
              "          await google.colab.output.renderOutput(dataTable, element);\n",
              "          const docLink = document.createElement('div');\n",
              "          docLink.innerHTML = docLinkHtml;\n",
              "          element.appendChild(docLink);\n",
              "        }\n",
              "      </script>\n",
              "    </div>\n",
              "  </div>\n",
              "  "
            ]
          },
          "metadata": {},
          "execution_count": 115
        }
      ]
    },
    {
      "cell_type": "markdown",
      "source": [
        "Displaying dataset using PySpark"
      ],
      "metadata": {
        "id": "HbGZCFhzhO9Y"
      }
    },
    {
      "cell_type": "code",
      "source": [
        "%time\n",
        "df2.show()"
      ],
      "metadata": {
        "colab": {
          "base_uri": "https://localhost:8080/"
        },
        "id": "XVAMuqvEA-Ox",
        "outputId": "c4f38ef0-4d94-46c3-b08b-f3573f3698fe"
      },
      "execution_count": null,
      "outputs": [
        {
          "output_type": "stream",
          "name": "stdout",
          "text": [
            "CPU times: user 4 µs, sys: 0 ns, total: 4 µs\n",
            "Wall time: 8.34 µs\n",
            "+--------------------+----------------+---------------+-------------+--------------+----------+---------+----------+----------+----------+---------+-------------+----------+------------+\n",
            "|              Region|         Country|      Item Type|Sales Channel|Order Priority|Order Date| Order ID| Ship Date|Units Sold|Unit Price|Unit Cost|Total Revenue|Total Cost|Total Profit|\n",
            "+--------------------+----------------+---------------+-------------+--------------+----------+---------+----------+----------+----------+---------+-------------+----------+------------+\n",
            "|  Sub-Saharan Africa|    South Africa|         Fruits|      Offline|             M| 7/27/2012|443368995| 7/28/2012|      1593|      9.33|     6.92|     14862.69|  11023.56|     3839.13|\n",
            "|Middle East and N...|         Morocco|        Clothes|       Online|             M| 9/14/2013|667593514|10/19/2013|      4611|    109.28|    35.84|    503890.08| 165258.24|   338631.84|\n",
            "|Australia and Oce...|Papua New Guinea|           Meat|      Offline|             M| 5/15/2015|940995585|  6/4/2015|       360|    421.89|   364.69|    151880.40| 131288.40|    20592.00|\n",
            "|  Sub-Saharan Africa|        Djibouti|        Clothes|      Offline|             H| 5/17/2017|880811536|  7/2/2017|       562|    109.28|    35.84|     61415.36|  20142.08|    41273.28|\n",
            "|              Europe|        Slovakia|      Beverages|      Offline|             L|10/26/2016|174590194| 12/4/2016|      3973|     47.45|    31.79|    188518.85| 126301.67|    62217.18|\n",
            "|                Asia|       Sri Lanka|         Fruits|       Online|             L| 11/7/2011|830192887|12/18/2011|      1379|      9.33|     6.92|     12866.07|   9542.68|     3323.39|\n",
            "|  Sub-Saharan Africa|     Seychelles |      Beverages|       Online|             M| 1/18/2013|425793445| 2/16/2013|       597|     47.45|    31.79|     28327.65|  18978.63|     9349.02|\n",
            "|  Sub-Saharan Africa|        Tanzania|      Beverages|       Online|             L|11/30/2016|659878194| 1/16/2017|      1476|     47.45|    31.79|     70036.20|  46922.04|    23114.16|\n",
            "|  Sub-Saharan Africa|           Ghana|Office Supplies|       Online|             L| 3/23/2017|601245963| 4/15/2017|       896|    651.21|   524.96|    583484.16| 470364.16|   113120.00|\n",
            "|  Sub-Saharan Africa|        Tanzania|      Cosmetics|      Offline|             L| 5/23/2016|739008080| 5/24/2016|      7768|    437.20|   263.33|   3396169.60|2045547.44|  1350622.16|\n",
            "|                Asia|          Taiwan|         Fruits|      Offline|             M|  2/9/2014|732588374| 2/23/2014|      8034|      9.33|     6.92|     74957.22|  55595.28|    19361.94|\n",
            "|Middle East and N...|         Algeria|      Cosmetics|       Online|             M| 2/18/2011|761723172| 2/24/2011|      9669|    437.20|   263.33|   4227286.80|2546137.77|  1681149.03|\n",
            "|                Asia|       Singapore|         Snacks|       Online|             C| 1/28/2013|176461303|  2/7/2013|      7676|    152.58|    97.44|   1171204.08| 747949.44|   423254.64|\n",
            "|Australia and Oce...|Papua New Guinea|        Clothes|      Offline|             L| 6/20/2011|647164094| 7/14/2011|      9092|    109.28|    35.84|    993573.76| 325857.28|   667716.48|\n",
            "|                Asia|         Vietnam|  Personal Care|       Online|             M|  4/4/2010|314505374|  5/6/2010|      7984|     81.73|    56.67|    652532.32| 452453.28|   200079.04|\n",
            "|  Sub-Saharan Africa|          Uganda|  Personal Care|       Online|             M| 6/19/2014|539471471| 7/21/2014|       451|     81.73|    56.67|     36860.23|  25558.17|    11302.06|\n",
            "|  Sub-Saharan Africa|        Zimbabwe|Office Supplies|      Offline|             C| 3/28/2011|953361213|  4/8/2011|      9623|    651.21|   524.96|   6266593.83|5051690.08|  1214903.75|\n",
            "|  Sub-Saharan Africa|        Ethiopia|      Cosmetics|       Online|             M|  7/7/2011|807785928| 7/25/2011|       662|    437.20|   263.33|    289426.40| 174324.46|   115101.94|\n",
            "|              Europe|          France|      Cosmetics|       Online|             M| 12/7/2015|324669444| 1/18/2016|      5758|    437.20|   263.33|   2517397.60|1516254.14|  1001143.46|\n",
            "|Central America a...|     The Bahamas|  Personal Care|       Online|             C| 1/19/2011|246248090| 2/21/2011|      9137|     81.73|    56.67|    746767.01| 517793.79|   228973.22|\n",
            "+--------------------+----------------+---------------+-------------+--------------+----------+---------+----------+----------+----------+---------+-------------+----------+------------+\n",
            "only showing top 20 rows\n",
            "\n"
          ]
        }
      ]
    },
    {
      "cell_type": "markdown",
      "source": [
        "**Comparison of checking data info between Pandas and PySpark**"
      ],
      "metadata": {
        "id": "4duKkasPMNJA"
      }
    },
    {
      "cell_type": "markdown",
      "source": [
        "Checking data info using Pandas"
      ],
      "metadata": {
        "id": "W2DNeENTMWGM"
      }
    },
    {
      "cell_type": "code",
      "source": [
        "%time\n",
        "df.info()"
      ],
      "metadata": {
        "colab": {
          "base_uri": "https://localhost:8080/"
        },
        "id": "FbRG_jA2BwxR",
        "outputId": "aacd5779-3216-4e93-da8d-6747c2588da1"
      },
      "execution_count": null,
      "outputs": [
        {
          "output_type": "stream",
          "name": "stdout",
          "text": [
            "CPU times: user 4 µs, sys: 1 µs, total: 5 µs\n",
            "Wall time: 8.58 µs\n",
            "<class 'pandas.core.frame.DataFrame'>\n",
            "RangeIndex: 1000000 entries, 0 to 999999\n",
            "Data columns (total 14 columns):\n",
            " #   Column          Non-Null Count    Dtype  \n",
            "---  ------          --------------    -----  \n",
            " 0   Region          1000000 non-null  object \n",
            " 1   Country         1000000 non-null  object \n",
            " 2   Item Type       1000000 non-null  object \n",
            " 3   Sales Channel   1000000 non-null  object \n",
            " 4   Order Priority  1000000 non-null  object \n",
            " 5   Order Date      1000000 non-null  object \n",
            " 6   Order ID        1000000 non-null  int64  \n",
            " 7   Ship Date       1000000 non-null  object \n",
            " 8   Units Sold      1000000 non-null  int64  \n",
            " 9   Unit Price      1000000 non-null  float64\n",
            " 10  Unit Cost       1000000 non-null  float64\n",
            " 11  Total Revenue   1000000 non-null  float64\n",
            " 12  Total Cost      1000000 non-null  float64\n",
            " 13  Total Profit    1000000 non-null  float64\n",
            "dtypes: float64(5), int64(2), object(7)\n",
            "memory usage: 106.8+ MB\n"
          ]
        }
      ]
    },
    {
      "cell_type": "markdown",
      "source": [
        "Checking data info using PySpark"
      ],
      "metadata": {
        "id": "C7MKZPbDMkVM"
      }
    },
    {
      "cell_type": "code",
      "source": [
        "%time\n",
        "df2.printSchema()"
      ],
      "metadata": {
        "colab": {
          "base_uri": "https://localhost:8080/"
        },
        "id": "WVg0j2eVBDXA",
        "outputId": "83916e02-0286-403e-9c42-dd66ba86442f"
      },
      "execution_count": null,
      "outputs": [
        {
          "output_type": "stream",
          "name": "stdout",
          "text": [
            "CPU times: user 5 µs, sys: 0 ns, total: 5 µs\n",
            "Wall time: 8.82 µs\n",
            "root\n",
            " |-- Region: string (nullable = true)\n",
            " |-- Country: string (nullable = true)\n",
            " |-- Item Type: string (nullable = true)\n",
            " |-- Sales Channel: string (nullable = true)\n",
            " |-- Order Priority: string (nullable = true)\n",
            " |-- Order Date: string (nullable = true)\n",
            " |-- Order ID: string (nullable = true)\n",
            " |-- Ship Date: string (nullable = true)\n",
            " |-- Units Sold: string (nullable = true)\n",
            " |-- Unit Price: string (nullable = true)\n",
            " |-- Unit Cost: string (nullable = true)\n",
            " |-- Total Revenue: string (nullable = true)\n",
            " |-- Total Cost: string (nullable = true)\n",
            " |-- Total Profit: string (nullable = true)\n",
            "\n"
          ]
        }
      ]
    },
    {
      "cell_type": "markdown",
      "source": [
        "By using PySpark, we need to convert some data types from string to integer and float data type."
      ],
      "metadata": {
        "id": "mXOcFWk4M3Hx"
      }
    },
    {
      "cell_type": "code",
      "source": [
        "from pyspark.sql.types import StructField, IntegerType, StructType, FloatType\n",
        "df2 = df2.withColumn('Order ID', df2['Order ID'].cast(IntegerType()))\n",
        "df2 = df2.withColumn('Units Sold', df2['Units Sold'].cast(IntegerType()))\n",
        "df2 = df2.withColumn('Unit Price', df2['Unit Price'].cast(FloatType()))\n",
        "df2 = df2.withColumn('Unit Cost', df2['Unit Cost'].cast(FloatType()))\n",
        "df2 = df2.withColumn('Total Revenue', df2['Total Revenue'].cast(FloatType()))\n",
        "df2 = df2.withColumn('Total Cost', df2['Total Cost'].cast(FloatType()))\n",
        "df2 = df2.withColumn('Total Profit', df2['Total Profit'].cast(FloatType()))"
      ],
      "metadata": {
        "id": "GepF1dbrH9hY"
      },
      "execution_count": null,
      "outputs": []
    },
    {
      "cell_type": "code",
      "source": [
        "df2.printSchema()"
      ],
      "metadata": {
        "colab": {
          "base_uri": "https://localhost:8080/"
        },
        "id": "bxg0kq-9ImUq",
        "outputId": "9afc2369-7708-46a7-d4e6-5f826538ac83"
      },
      "execution_count": null,
      "outputs": [
        {
          "output_type": "stream",
          "name": "stdout",
          "text": [
            "root\n",
            " |-- Region: string (nullable = true)\n",
            " |-- Country: string (nullable = true)\n",
            " |-- Item Type: string (nullable = true)\n",
            " |-- Sales Channel: string (nullable = true)\n",
            " |-- Order Priority: string (nullable = true)\n",
            " |-- Order Date: string (nullable = true)\n",
            " |-- Order ID: integer (nullable = true)\n",
            " |-- Ship Date: string (nullable = true)\n",
            " |-- Units Sold: integer (nullable = true)\n",
            " |-- Unit Price: float (nullable = true)\n",
            " |-- Unit Cost: float (nullable = true)\n",
            " |-- Total Revenue: float (nullable = true)\n",
            " |-- Total Cost: float (nullable = true)\n",
            " |-- Total Profit: float (nullable = true)\n",
            "\n"
          ]
        }
      ]
    },
    {
      "cell_type": "markdown",
      "source": [
        "**Comparison of checking for null value between Pandas and PySpark**"
      ],
      "metadata": {
        "id": "_3igyfxMPDRV"
      }
    },
    {
      "cell_type": "code",
      "source": [
        "%time\n",
        "df.isnull().sum()"
      ],
      "metadata": {
        "colab": {
          "base_uri": "https://localhost:8080/"
        },
        "id": "dMvOFtNtBXPU",
        "outputId": "3ebc20b8-a210-4497-eeba-786e17393963"
      },
      "execution_count": null,
      "outputs": [
        {
          "output_type": "stream",
          "name": "stdout",
          "text": [
            "CPU times: user 4 µs, sys: 0 ns, total: 4 µs\n",
            "Wall time: 9.06 µs\n"
          ]
        },
        {
          "output_type": "execute_result",
          "data": {
            "text/plain": [
              "Region            0\n",
              "Country           0\n",
              "Item Type         0\n",
              "Sales Channel     0\n",
              "Order Priority    0\n",
              "Order Date        0\n",
              "Order ID          0\n",
              "Ship Date         0\n",
              "Units Sold        0\n",
              "Unit Price        0\n",
              "Unit Cost         0\n",
              "Total Revenue     0\n",
              "Total Cost        0\n",
              "Total Profit      0\n",
              "dtype: int64"
            ]
          },
          "metadata": {},
          "execution_count": 121
        }
      ]
    },
    {
      "cell_type": "code",
      "source": [
        "%time\n",
        "from pyspark.sql.functions import col,isnan,when,count\n",
        "df2 = df2.select([count(when(col(c).contains('None') | \\\n",
        "                            col(c).contains('NULL') | \\\n",
        "                            (col(c) == '' ) | \\\n",
        "                            col(c).isNull() | \\\n",
        "                            isnan(c), c \n",
        "                           )).alias(c)\n",
        "                    for c in df.columns])\n",
        "df2.show()"
      ],
      "metadata": {
        "colab": {
          "base_uri": "https://localhost:8080/"
        },
        "id": "yguvFjxRHn17",
        "outputId": "faac1322-b241-449d-a266-adc33ae8d0d8"
      },
      "execution_count": null,
      "outputs": [
        {
          "output_type": "stream",
          "name": "stdout",
          "text": [
            "CPU times: user 3 µs, sys: 0 ns, total: 3 µs\n",
            "Wall time: 6.2 µs\n",
            "+------+-------+---------+-------------+--------------+----------+--------+---------+----------+----------+---------+-------------+----------+------------+\n",
            "|Region|Country|Item Type|Sales Channel|Order Priority|Order Date|Order ID|Ship Date|Units Sold|Unit Price|Unit Cost|Total Revenue|Total Cost|Total Profit|\n",
            "+------+-------+---------+-------------+--------------+----------+--------+---------+----------+----------+---------+-------------+----------+------------+\n",
            "|     0|      0|        0|            0|             0|         0|       0|        0|         0|         0|        0|            0|         0|           0|\n",
            "+------+-------+---------+-------------+--------------+----------+--------+---------+----------+----------+---------+-------------+----------+------------+\n",
            "\n"
          ]
        }
      ]
    },
    {
      "cell_type": "markdown",
      "source": [
        "**Pandas**\n",
        "\n",
        "Reading File: 11.4 µs\n",
        "\n",
        "Display dataset: 8.34 µs\n",
        "\n",
        "Checking info: 8.58 µs\n",
        "\n",
        "Checking null value: 9.06 µs\n",
        "\n",
        "\n",
        "**PySpark**\n",
        "\n",
        "Reading File: 9.06 µs\n",
        "\n",
        "Display dataset: 8.34 µs\n",
        "\n",
        "Checking info: 8.82 µs\n",
        "\n",
        "Checking null value: 6.2 µs"
      ],
      "metadata": {
        "id": "BIQ5547nNFWf"
      }
    },
    {
      "cell_type": "markdown",
      "source": [
        "##**Comparing Pandas and PySpark**"
      ],
      "metadata": {
        "id": "JziscO9tQErO"
      }
    },
    {
      "cell_type": "code",
      "source": [
        "import pandas as pd\n",
        "import numpy as np\n",
        "import matplotlib.pyplot as plt\n",
        "\n",
        "Compare = ['Reading File', 'Display dataset', 'Checking Info', 'Checking Null Value']\n",
        "result = pd.DataFrame({'Pandas (unit: µs)': [11.4, 8.34, 8.85, 9.06], 'PySpark (unit: µs)': [9.06, 8.34, 8.82, 6.2]}, index = Compare)\n",
        "result"
      ],
      "metadata": {
        "colab": {
          "base_uri": "https://localhost:8080/",
          "height": 175
        },
        "id": "Dm3T8aYTzHOU",
        "outputId": "252fa2e6-fe66-4c1f-f7b3-724f93b93870"
      },
      "execution_count": null,
      "outputs": [
        {
          "output_type": "execute_result",
          "data": {
            "text/plain": [
              "                     Pandas (unit: µs)  PySpark (unit: µs)\n",
              "Reading File                     11.40                9.06\n",
              "Display dataset                   8.34                8.34\n",
              "Checking Info                     8.85                8.82\n",
              "Checking Null Value               9.06                6.20"
            ],
            "text/html": [
              "\n",
              "  <div id=\"df-f55c1c63-c1c6-45af-ad03-d3a85eab2d99\">\n",
              "    <div class=\"colab-df-container\">\n",
              "      <div>\n",
              "<style scoped>\n",
              "    .dataframe tbody tr th:only-of-type {\n",
              "        vertical-align: middle;\n",
              "    }\n",
              "\n",
              "    .dataframe tbody tr th {\n",
              "        vertical-align: top;\n",
              "    }\n",
              "\n",
              "    .dataframe thead th {\n",
              "        text-align: right;\n",
              "    }\n",
              "</style>\n",
              "<table border=\"1\" class=\"dataframe\">\n",
              "  <thead>\n",
              "    <tr style=\"text-align: right;\">\n",
              "      <th></th>\n",
              "      <th>Pandas (unit: µs)</th>\n",
              "      <th>PySpark (unit: µs)</th>\n",
              "    </tr>\n",
              "  </thead>\n",
              "  <tbody>\n",
              "    <tr>\n",
              "      <th>Reading File</th>\n",
              "      <td>11.40</td>\n",
              "      <td>9.06</td>\n",
              "    </tr>\n",
              "    <tr>\n",
              "      <th>Display dataset</th>\n",
              "      <td>8.34</td>\n",
              "      <td>8.34</td>\n",
              "    </tr>\n",
              "    <tr>\n",
              "      <th>Checking Info</th>\n",
              "      <td>8.85</td>\n",
              "      <td>8.82</td>\n",
              "    </tr>\n",
              "    <tr>\n",
              "      <th>Checking Null Value</th>\n",
              "      <td>9.06</td>\n",
              "      <td>6.20</td>\n",
              "    </tr>\n",
              "  </tbody>\n",
              "</table>\n",
              "</div>\n",
              "      <button class=\"colab-df-convert\" onclick=\"convertToInteractive('df-f55c1c63-c1c6-45af-ad03-d3a85eab2d99')\"\n",
              "              title=\"Convert this dataframe to an interactive table.\"\n",
              "              style=\"display:none;\">\n",
              "        \n",
              "  <svg xmlns=\"http://www.w3.org/2000/svg\" height=\"24px\"viewBox=\"0 0 24 24\"\n",
              "       width=\"24px\">\n",
              "    <path d=\"M0 0h24v24H0V0z\" fill=\"none\"/>\n",
              "    <path d=\"M18.56 5.44l.94 2.06.94-2.06 2.06-.94-2.06-.94-.94-2.06-.94 2.06-2.06.94zm-11 1L8.5 8.5l.94-2.06 2.06-.94-2.06-.94L8.5 2.5l-.94 2.06-2.06.94zm10 10l.94 2.06.94-2.06 2.06-.94-2.06-.94-.94-2.06-.94 2.06-2.06.94z\"/><path d=\"M17.41 7.96l-1.37-1.37c-.4-.4-.92-.59-1.43-.59-.52 0-1.04.2-1.43.59L10.3 9.45l-7.72 7.72c-.78.78-.78 2.05 0 2.83L4 21.41c.39.39.9.59 1.41.59.51 0 1.02-.2 1.41-.59l7.78-7.78 2.81-2.81c.8-.78.8-2.07 0-2.86zM5.41 20L4 18.59l7.72-7.72 1.47 1.35L5.41 20z\"/>\n",
              "  </svg>\n",
              "      </button>\n",
              "      \n",
              "  <style>\n",
              "    .colab-df-container {\n",
              "      display:flex;\n",
              "      flex-wrap:wrap;\n",
              "      gap: 12px;\n",
              "    }\n",
              "\n",
              "    .colab-df-convert {\n",
              "      background-color: #E8F0FE;\n",
              "      border: none;\n",
              "      border-radius: 50%;\n",
              "      cursor: pointer;\n",
              "      display: none;\n",
              "      fill: #1967D2;\n",
              "      height: 32px;\n",
              "      padding: 0 0 0 0;\n",
              "      width: 32px;\n",
              "    }\n",
              "\n",
              "    .colab-df-convert:hover {\n",
              "      background-color: #E2EBFA;\n",
              "      box-shadow: 0px 1px 2px rgba(60, 64, 67, 0.3), 0px 1px 3px 1px rgba(60, 64, 67, 0.15);\n",
              "      fill: #174EA6;\n",
              "    }\n",
              "\n",
              "    [theme=dark] .colab-df-convert {\n",
              "      background-color: #3B4455;\n",
              "      fill: #D2E3FC;\n",
              "    }\n",
              "\n",
              "    [theme=dark] .colab-df-convert:hover {\n",
              "      background-color: #434B5C;\n",
              "      box-shadow: 0px 1px 3px 1px rgba(0, 0, 0, 0.15);\n",
              "      filter: drop-shadow(0px 1px 2px rgba(0, 0, 0, 0.3));\n",
              "      fill: #FFFFFF;\n",
              "    }\n",
              "  </style>\n",
              "\n",
              "      <script>\n",
              "        const buttonEl =\n",
              "          document.querySelector('#df-f55c1c63-c1c6-45af-ad03-d3a85eab2d99 button.colab-df-convert');\n",
              "        buttonEl.style.display =\n",
              "          google.colab.kernel.accessAllowed ? 'block' : 'none';\n",
              "\n",
              "        async function convertToInteractive(key) {\n",
              "          const element = document.querySelector('#df-f55c1c63-c1c6-45af-ad03-d3a85eab2d99');\n",
              "          const dataTable =\n",
              "            await google.colab.kernel.invokeFunction('convertToInteractive',\n",
              "                                                     [key], {});\n",
              "          if (!dataTable) return;\n",
              "\n",
              "          const docLinkHtml = 'Like what you see? Visit the ' +\n",
              "            '<a target=\"_blank\" href=https://colab.research.google.com/notebooks/data_table.ipynb>data table notebook</a>'\n",
              "            + ' to learn more about interactive tables.';\n",
              "          element.innerHTML = '';\n",
              "          dataTable['output_type'] = 'display_data';\n",
              "          await google.colab.output.renderOutput(dataTable, element);\n",
              "          const docLink = document.createElement('div');\n",
              "          docLink.innerHTML = docLinkHtml;\n",
              "          element.appendChild(docLink);\n",
              "        }\n",
              "      </script>\n",
              "    </div>\n",
              "  </div>\n",
              "  "
            ]
          },
          "metadata": {},
          "execution_count": 138
        }
      ]
    },
    {
      "cell_type": "code",
      "source": [
        "for Compare in result.index:\n",
        "  result.loc[Compare].plot(kind='bar', title=Compare, color = \"green\")\n",
        "  plt.show()"
      ],
      "metadata": {
        "colab": {
          "base_uri": "https://localhost:8080/",
          "height": 1000
        },
        "id": "LKJXY0Tmzx7L",
        "outputId": "93bdbdc6-b4d1-49ad-92d5-eaea1f4201ab"
      },
      "execution_count": null,
      "outputs": [
        {
          "output_type": "display_data",
          "data": {
            "text/plain": [
              "<Figure size 432x288 with 1 Axes>"
            ],
            "image/png": "[encoded data removed]"
          },
          "metadata": {
            "needs_background": "light"
          }
        },
        {
          "output_type": "display_data",
          "data": {
            "text/plain": [
              "<Figure size 432x288 with 1 Axes>"
            ],
            "image/png": "[encoded data removed]"
          },
          "metadata": {
            "needs_background": "light"
          }
        },
        {
          "output_type": "display_data",
          "data": {
            "text/plain": [
              "<Figure size 432x288 with 1 Axes>"
            ],
            "image/png": "[encoded data removed]"
          },
          "metadata": {
            "needs_background": "light"
          }
        },
        {
          "output_type": "display_data",
          "data": {
            "text/plain": [
              "<Figure size 432x288 with 1 Axes>"
            ],
            "image/png": "[encoded data removed]"
          },
          "metadata": {
            "needs_background": "light"
          }
        }
      ]
    },
    {
      "cell_type": "markdown",
      "source": [
        "##**Conclusion**"
      ],
      "metadata": {
        "id": "FbDHapsy2WIA"
      }
    },
    {
      "cell_type": "markdown",
      "source": [
        "From the bar chart above, we can see that PySpark has a better performance comparing to Pandas. For reading file and checking null values, PySpark uses only 9.06µs and 6.2µs way more less than Pandas. For displaying dataset and checking info, Pandas and PySpark use almost the same amount of running time.\n",
        "\n",
        "Throughout this comparison, we also found that there is one disadvantage of PySpark which is the datatype in PySpark is all in string data type. Therefore, we need to do one more step to convert certain datas into the suitable data types in order to proceed the data analysis. \n",
        " \n",
        "In conclusion, PySpark has a better performance comparing to Pandas. "
      ],
      "metadata": {
        "id": "CQy-G_Cx01pX"
      }
    }
  ],
  "metadata": {
    "kernelspec": {
      "display_name": "Python 3",
      "language": "python",
      "name": "python3"
    },
    "language_info": {
      "codemirror_mode": {
        "name": "ipython",
        "version": 3
      },
      "file_extension": ".py",
      "mimetype": "text/x-python",
      "name": "python",
      "nbconvert_exporter": "python",
      "pygments_lexer": "ipython3",
      "version": "3.8.5"
    },
    "colab": {
      "provenance": [],
      "include_colab_link": true
    }
  },
  "nbformat": 4,
  "nbformat_minor": 0
}
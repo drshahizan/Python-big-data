{
  "cells": [
    {
      "cell_type": "markdown",
      "metadata": {
        "id": "view-in-github",
        "colab_type": "text"
      },
      "source": [
        "<a href=\"https://colab.research.google.com/github/drshahizan/Python-big-data/blob/main/Assignment%202b/No%20name/DataTable_File2.ipynb\" target=\"_parent\"><img src=\"https://colab.research.google.com/assets/colab-badge.svg\" alt=\"Open In Colab\"/></a>"
      ]
    },
    {
      "cell_type": "markdown",
      "source": [
        "## **Assignment: Alternatives to Pandas for Processing Large Datasets (Pandas VS Datatable)**\n",
        "\n",
        "**Group 7**\n",
        "\n",
        "Group Members: \n",
        "\n",
        "\n",
        "1.   Madina Suraya binti Zharin       A20EC0203\n",
        "2.   Nur Izzah Mardhiah binti Rashidi A20EC0116\n",
        "3. Tan Yong Sheng                     A20EC0157\n",
        "4. Chloe Racquelmae Kennedy           A20EC0026\n",
        "\n",
        "The Pandas VS Data Table Performance code illustrates how to use Datatable to replace the Pandas API. The sample compares the performance of Pandas and the performance of Datatable for specific dataframe operations."
      ],
      "metadata": {
        "id": "H6uT3iqxJws1"
      }
    },
    {
      "cell_type": "markdown",
      "source": [
        "# Purpose\n",
        "Datatable is a go-to package for manipulating any large tabular datasets. It is widely used for fast aggregation of large datasets, low latency add/update/remove of columns, quicker ordered joins, and a fast file reader. The distribution provides compatibility and integration with the existing Pandas code. The sample code demonstrates how to perform some basic dataframe operations using Pandas and Datatable. we will compare the performance difference between the two methods."
      ],
      "metadata": {
        "id": "onkyweFnr-Ij"
      }
    },
    {
      "cell_type": "code",
      "source": [
        "from google.colab import drive\n",
        "drive.mount('/content/drive')"
      ],
      "metadata": {
        "colab": {
          "base_uri": "https://localhost:8080/"
        },
        "id": "pk23EnIwODd8",
        "outputId": "234aa137-a3c5-4141-9223-7e7012020065"
      },
      "execution_count": null,
      "outputs": [
        {
          "output_type": "stream",
          "name": "stdout",
          "text": [
            "Mounted at /content/drive\n"
          ]
        }
      ]
    },
    {
      "cell_type": "code",
      "source": [
        "dataset = '/content/drive/MyDrive/Colab Notebooks/Big Data - Asg2/Rate.csv'"
      ],
      "metadata": {
        "id": "05VR3diiOGV-"
      },
      "execution_count": null,
      "outputs": []
    },
    {
      "cell_type": "markdown",
      "source": [
        "## Installing Data Table\n",
        "\n",
        "To use the package, we need to install it first"
      ],
      "metadata": {
        "id": "nJu58ywELAfP"
      }
    },
    {
      "cell_type": "code",
      "source": [
        "!pip install datatable"
      ],
      "metadata": {
        "colab": {
          "base_uri": "https://localhost:8080/"
        },
        "id": "61jqgal7JlZb",
        "outputId": "e3322bc2-9a29-4bd0-e286-ebcc48370ffd"
      },
      "execution_count": null,
      "outputs": [
        {
          "output_type": "stream",
          "name": "stdout",
          "text": [
            "Looking in indexes: https://pypi.org/simple, https://us-python.pkg.dev/colab-wheels/public/simple/\n",
            "Requirement already satisfied: datatable in /usr/local/lib/python3.8/dist-packages (1.0.0)\n"
          ]
        }
      ]
    },
    {
      "cell_type": "markdown",
      "source": [
        "After installing, we need to import both pandas and datatable package. Then, it is ready to be used."
      ],
      "metadata": {
        "id": "b0T1QS3eLWNO"
      }
    },
    {
      "cell_type": "code",
      "source": [
        "import time\n",
        "import datatable as dt\n",
        "print(dt.__version__)"
      ],
      "metadata": {
        "colab": {
          "base_uri": "https://localhost:8080/",
          "height": 34
        },
        "id": "oHvuduA0Jmlb",
        "outputId": "fb9afcb4-2d93-4fa5-ec0e-f0af1cc621cf"
      },
      "execution_count": null,
      "outputs": [
        {
          "output_type": "display_data",
          "data": {
            "text/plain": [
              "<IPython.core.display.HTML object>"
            ],
            "text/html": [
              "<style type='text/css'>\n",
              ".datatable table.frame { margin-bottom: 0; }\n",
              ".datatable table.frame thead { border-bottom: none; }\n",
              ".datatable table.frame tr.coltypes td {  color: #FFFFFF;  line-height: 6px;  padding: 0 0.5em;}\n",
              ".datatable .bool    { background: #DDDD99; }\n",
              ".datatable .object  { background: #565656; }\n",
              ".datatable .int     { background: #5D9E5D; }\n",
              ".datatable .float   { background: #4040CC; }\n",
              ".datatable .str     { background: #CC4040; }\n",
              ".datatable .time    { background: #40CC40; }\n",
              ".datatable .row_index {  background: var(--jp-border-color3);  border-right: 1px solid var(--jp-border-color0);  color: var(--jp-ui-font-color3);  font-size: 9px;}\n",
              ".datatable .frame tbody td { text-align: left; }\n",
              ".datatable .frame tr.coltypes .row_index {  background: var(--jp-border-color0);}\n",
              ".datatable th:nth-child(2) { padding-left: 12px; }\n",
              ".datatable .hellipsis {  color: var(--jp-cell-editor-border-color);}\n",
              ".datatable .vellipsis {  background: var(--jp-layout-color0);  color: var(--jp-cell-editor-border-color);}\n",
              ".datatable .na {  color: var(--jp-cell-editor-border-color);  font-size: 80%;}\n",
              ".datatable .sp {  opacity: 0.25;}\n",
              ".datatable .footer { font-size: 9px; }\n",
              ".datatable .frame_dimensions {  background: var(--jp-border-color3);  border-top: 1px solid var(--jp-border-color0);  color: var(--jp-ui-font-color3);  display: inline-block;  opacity: 0.6;  padding: 1px 10px 1px 5px;}\n",
              "</style>\n"
            ]
          },
          "metadata": {}
        },
        {
          "output_type": "stream",
          "name": "stdout",
          "text": [
            "1.0.0\n"
          ]
        }
      ]
    },
    {
      "cell_type": "code",
      "source": [
        "import numpy as np\n",
        "import pandas as pd\n",
        "import matplotlib.pyplot as plt"
      ],
      "metadata": {
        "id": "hrGWMGzBu2OZ"
      },
      "execution_count": null,
      "outputs": []
    },
    {
      "cell_type": "markdown",
      "source": [
        "## Reading Data"
      ],
      "metadata": {
        "id": "vmPhAKcIBR8R"
      }
    },
    {
      "cell_type": "code",
      "source": [
        "#pandas\n",
        "start = time.time()\n",
        "input_file_name = dataset\n",
        "pd_df = pd.read_csv(input_file_name)\n",
        "end = time.time()\n",
        "print(end - start)"
      ],
      "metadata": {
        "id": "-3bdQrNVw2yv",
        "colab": {
          "base_uri": "https://localhost:8080/"
        },
        "outputId": "205e2775-1c2e-4243-ec15-08c7ef9d64d7"
      },
      "execution_count": null,
      "outputs": [
        {
          "output_type": "stream",
          "name": "stdout",
          "text": [
            "50.083641052246094\n"
          ]
        }
      ]
    },
    {
      "cell_type": "code",
      "source": [
        "#datatable\n",
        "start = time.time()\n",
        "input_file_name = dataset\n",
        "dt_df = dt.fread(input_file_name)\n",
        "end = time.time()\n",
        "print(end - start)"
      ],
      "metadata": {
        "id": "FLioexD5KQSl",
        "colab": {
          "base_uri": "https://localhost:8080/"
        },
        "outputId": "ecea6246-9276-4dbe-fdc8-1e361ae51a66"
      },
      "execution_count": null,
      "outputs": [
        {
          "output_type": "stream",
          "name": "stdout",
          "text": [
            "14.960996627807617\n"
          ]
        }
      ]
    },
    {
      "cell_type": "markdown",
      "source": [
        "## Dataset Properties"
      ],
      "metadata": {
        "id": "2FCFNGgPBYNy"
      }
    },
    {
      "cell_type": "markdown",
      "source": [
        "### Print dataframe"
      ],
      "metadata": {
        "id": "HP9PX0a61tmE"
      }
    },
    {
      "cell_type": "code",
      "source": [
        "#pandas\n",
        "%time\n",
        "pd_df.head()"
      ],
      "metadata": {
        "id": "9OJDOgAyBhQb",
        "colab": {
          "base_uri": "https://localhost:8080/",
          "height": 421
        },
        "outputId": "edb5486a-592e-4653-bc3c-4c95e4bee494"
      },
      "execution_count": null,
      "outputs": [
        {
          "output_type": "stream",
          "name": "stdout",
          "text": [
            "CPU times: user 3 µs, sys: 1 µs, total: 4 µs\n",
            "Wall time: 7.87 µs\n"
          ]
        },
        {
          "output_type": "execute_result",
          "data": {
            "text/plain": [
              "   BusinessYear StateCode  IssuerId SourceName  VersionNum  \\\n",
              "0          2014        AK     21989       HIOS           6   \n",
              "1          2014        AK     21989       HIOS           6   \n",
              "2          2014        AK     21989       HIOS           6   \n",
              "3          2014        AK     21989       HIOS           6   \n",
              "4          2014        AK     21989       HIOS           6   \n",
              "\n",
              "            ImportDate  IssuerId2  FederalTIN RateEffectiveDate  \\\n",
              "0  2014-03-19 07:06:49      21989  93-0438772        2014-01-01   \n",
              "1  2014-03-19 07:06:49      21989  93-0438772        2014-01-01   \n",
              "2  2014-03-19 07:06:49      21989  93-0438772        2014-01-01   \n",
              "3  2014-03-19 07:06:49      21989  93-0438772        2014-01-01   \n",
              "4  2014-03-19 07:06:49      21989  93-0438772        2014-01-01   \n",
              "\n",
              "  RateExpirationDate  ... IndividualRate IndividualTobaccoRate Couple  \\\n",
              "0         2014-12-31  ...          29.00                   NaN    NaN   \n",
              "1         2014-12-31  ...          36.95                   NaN   73.9   \n",
              "2         2014-12-31  ...          36.95                   NaN   73.9   \n",
              "3         2014-12-31  ...          32.00                   NaN    NaN   \n",
              "4         2014-12-31  ...          32.00                   NaN    NaN   \n",
              "\n",
              "  PrimarySubscriberAndOneDependent  PrimarySubscriberAndTwoDependents  \\\n",
              "0                              NaN                                NaN   \n",
              "1                           107.61                             107.61   \n",
              "2                           107.61                             107.61   \n",
              "3                              NaN                                NaN   \n",
              "4                              NaN                                NaN   \n",
              "\n",
              "   PrimarySubscriberAndThreeOrMoreDependents  CoupleAndOneDependent  \\\n",
              "0                                        NaN                    NaN   \n",
              "1                                     107.61                 144.56   \n",
              "2                                     107.61                 144.56   \n",
              "3                                        NaN                    NaN   \n",
              "4                                        NaN                    NaN   \n",
              "\n",
              "   CoupleAndTwoDependents  CoupleAndThreeOrMoreDependents  RowNumber  \n",
              "0                     NaN                             NaN         14  \n",
              "1                  144.56                          144.56         14  \n",
              "2                  144.56                          144.56         15  \n",
              "3                     NaN                             NaN         15  \n",
              "4                     NaN                             NaN         16  \n",
              "\n",
              "[5 rows x 24 columns]"
            ],
            "text/html": [
              "\n",
              "  <div id=\"df-036c5063-22dd-45a0-a667-ee3fcf62bd29\">\n",
              "    <div class=\"colab-df-container\">\n",
              "      <div>\n",
              "<style scoped>\n",
              "    .dataframe tbody tr th:only-of-type {\n",
              "        vertical-align: middle;\n",
              "    }\n",
              "\n",
              "    .dataframe tbody tr th {\n",
              "        vertical-align: top;\n",
              "    }\n",
              "\n",
              "    .dataframe thead th {\n",
              "        text-align: right;\n",
              "    }\n",
              "</style>\n",
              "<table border=\"1\" class=\"dataframe\">\n",
              "  <thead>\n",
              "    <tr style=\"text-align: right;\">\n",
              "      <th></th>\n",
              "      <th>BusinessYear</th>\n",
              "      <th>StateCode</th>\n",
              "      <th>IssuerId</th>\n",
              "      <th>SourceName</th>\n",
              "      <th>VersionNum</th>\n",
              "      <th>ImportDate</th>\n",
              "      <th>IssuerId2</th>\n",
              "      <th>FederalTIN</th>\n",
              "      <th>RateEffectiveDate</th>\n",
              "      <th>RateExpirationDate</th>\n",
              "      <th>...</th>\n",
              "      <th>IndividualRate</th>\n",
              "      <th>IndividualTobaccoRate</th>\n",
              "      <th>Couple</th>\n",
              "      <th>PrimarySubscriberAndOneDependent</th>\n",
              "      <th>PrimarySubscriberAndTwoDependents</th>\n",
              "      <th>PrimarySubscriberAndThreeOrMoreDependents</th>\n",
              "      <th>CoupleAndOneDependent</th>\n",
              "      <th>CoupleAndTwoDependents</th>\n",
              "      <th>CoupleAndThreeOrMoreDependents</th>\n",
              "      <th>RowNumber</th>\n",
              "    </tr>\n",
              "  </thead>\n",
              "  <tbody>\n",
              "    <tr>\n",
              "      <th>0</th>\n",
              "      <td>2014</td>\n",
              "      <td>AK</td>\n",
              "      <td>21989</td>\n",
              "      <td>HIOS</td>\n",
              "      <td>6</td>\n",
              "      <td>2014-03-19 07:06:49</td>\n",
              "      <td>21989</td>\n",
              "      <td>93-0438772</td>\n",
              "      <td>2014-01-01</td>\n",
              "      <td>2014-12-31</td>\n",
              "      <td>...</td>\n",
              "      <td>29.00</td>\n",
              "      <td>NaN</td>\n",
              "      <td>NaN</td>\n",
              "      <td>NaN</td>\n",
              "      <td>NaN</td>\n",
              "      <td>NaN</td>\n",
              "      <td>NaN</td>\n",
              "      <td>NaN</td>\n",
              "      <td>NaN</td>\n",
              "      <td>14</td>\n",
              "    </tr>\n",
              "    <tr>\n",
              "      <th>1</th>\n",
              "      <td>2014</td>\n",
              "      <td>AK</td>\n",
              "      <td>21989</td>\n",
              "      <td>HIOS</td>\n",
              "      <td>6</td>\n",
              "      <td>2014-03-19 07:06:49</td>\n",
              "      <td>21989</td>\n",
              "      <td>93-0438772</td>\n",
              "      <td>2014-01-01</td>\n",
              "      <td>2014-12-31</td>\n",
              "      <td>...</td>\n",
              "      <td>36.95</td>\n",
              "      <td>NaN</td>\n",
              "      <td>73.9</td>\n",
              "      <td>107.61</td>\n",
              "      <td>107.61</td>\n",
              "      <td>107.61</td>\n",
              "      <td>144.56</td>\n",
              "      <td>144.56</td>\n",
              "      <td>144.56</td>\n",
              "      <td>14</td>\n",
              "    </tr>\n",
              "    <tr>\n",
              "      <th>2</th>\n",
              "      <td>2014</td>\n",
              "      <td>AK</td>\n",
              "      <td>21989</td>\n",
              "      <td>HIOS</td>\n",
              "      <td>6</td>\n",
              "      <td>2014-03-19 07:06:49</td>\n",
              "      <td>21989</td>\n",
              "      <td>93-0438772</td>\n",
              "      <td>2014-01-01</td>\n",
              "      <td>2014-12-31</td>\n",
              "      <td>...</td>\n",
              "      <td>36.95</td>\n",
              "      <td>NaN</td>\n",
              "      <td>73.9</td>\n",
              "      <td>107.61</td>\n",
              "      <td>107.61</td>\n",
              "      <td>107.61</td>\n",
              "      <td>144.56</td>\n",
              "      <td>144.56</td>\n",
              "      <td>144.56</td>\n",
              "      <td>15</td>\n",
              "    </tr>\n",
              "    <tr>\n",
              "      <th>3</th>\n",
              "      <td>2014</td>\n",
              "      <td>AK</td>\n",
              "      <td>21989</td>\n",
              "      <td>HIOS</td>\n",
              "      <td>6</td>\n",
              "      <td>2014-03-19 07:06:49</td>\n",
              "      <td>21989</td>\n",
              "      <td>93-0438772</td>\n",
              "      <td>2014-01-01</td>\n",
              "      <td>2014-12-31</td>\n",
              "      <td>...</td>\n",
              "      <td>32.00</td>\n",
              "      <td>NaN</td>\n",
              "      <td>NaN</td>\n",
              "      <td>NaN</td>\n",
              "      <td>NaN</td>\n",
              "      <td>NaN</td>\n",
              "      <td>NaN</td>\n",
              "      <td>NaN</td>\n",
              "      <td>NaN</td>\n",
              "      <td>15</td>\n",
              "    </tr>\n",
              "    <tr>\n",
              "      <th>4</th>\n",
              "      <td>2014</td>\n",
              "      <td>AK</td>\n",
              "      <td>21989</td>\n",
              "      <td>HIOS</td>\n",
              "      <td>6</td>\n",
              "      <td>2014-03-19 07:06:49</td>\n",
              "      <td>21989</td>\n",
              "      <td>93-0438772</td>\n",
              "      <td>2014-01-01</td>\n",
              "      <td>2014-12-31</td>\n",
              "      <td>...</td>\n",
              "      <td>32.00</td>\n",
              "      <td>NaN</td>\n",
              "      <td>NaN</td>\n",
              "      <td>NaN</td>\n",
              "      <td>NaN</td>\n",
              "      <td>NaN</td>\n",
              "      <td>NaN</td>\n",
              "      <td>NaN</td>\n",
              "      <td>NaN</td>\n",
              "      <td>16</td>\n",
              "    </tr>\n",
              "  </tbody>\n",
              "</table>\n",
              "<p>5 rows × 24 columns</p>\n",
              "</div>\n",
              "      <button class=\"colab-df-convert\" onclick=\"convertToInteractive('df-036c5063-22dd-45a0-a667-ee3fcf62bd29')\"\n",
              "              title=\"Convert this dataframe to an interactive table.\"\n",
              "              style=\"display:none;\">\n",
              "        \n",
              "  <svg xmlns=\"http://www.w3.org/2000/svg\" height=\"24px\"viewBox=\"0 0 24 24\"\n",
              "       width=\"24px\">\n",
              "    <path d=\"M0 0h24v24H0V0z\" fill=\"none\"/>\n",
              "    <path d=\"M18.56 5.44l.94 2.06.94-2.06 2.06-.94-2.06-.94-.94-2.06-.94 2.06-2.06.94zm-11 1L8.5 8.5l.94-2.06 2.06-.94-2.06-.94L8.5 2.5l-.94 2.06-2.06.94zm10 10l.94 2.06.94-2.06 2.06-.94-2.06-.94-.94-2.06-.94 2.06-2.06.94z\"/><path d=\"M17.41 7.96l-1.37-1.37c-.4-.4-.92-.59-1.43-.59-.52 0-1.04.2-1.43.59L10.3 9.45l-7.72 7.72c-.78.78-.78 2.05 0 2.83L4 21.41c.39.39.9.59 1.41.59.51 0 1.02-.2 1.41-.59l7.78-7.78 2.81-2.81c.8-.78.8-2.07 0-2.86zM5.41 20L4 18.59l7.72-7.72 1.47 1.35L5.41 20z\"/>\n",
              "  </svg>\n",
              "      </button>\n",
              "      \n",
              "  <style>\n",
              "    .colab-df-container {\n",
              "      display:flex;\n",
              "      flex-wrap:wrap;\n",
              "      gap: 12px;\n",
              "    }\n",
              "\n",
              "    .colab-df-convert {\n",
              "      background-color: #E8F0FE;\n",
              "      border: none;\n",
              "      border-radius: 50%;\n",
              "      cursor: pointer;\n",
              "      display: none;\n",
              "      fill: #1967D2;\n",
              "      height: 32px;\n",
              "      padding: 0 0 0 0;\n",
              "      width: 32px;\n",
              "    }\n",
              "\n",
              "    .colab-df-convert:hover {\n",
              "      background-color: #E2EBFA;\n",
              "      box-shadow: 0px 1px 2px rgba(60, 64, 67, 0.3), 0px 1px 3px 1px rgba(60, 64, 67, 0.15);\n",
              "      fill: #174EA6;\n",
              "    }\n",
              "\n",
              "    [theme=dark] .colab-df-convert {\n",
              "      background-color: #3B4455;\n",
              "      fill: #D2E3FC;\n",
              "    }\n",
              "\n",
              "    [theme=dark] .colab-df-convert:hover {\n",
              "      background-color: #434B5C;\n",
              "      box-shadow: 0px 1px 3px 1px rgba(0, 0, 0, 0.15);\n",
              "      filter: drop-shadow(0px 1px 2px rgba(0, 0, 0, 0.3));\n",
              "      fill: #FFFFFF;\n",
              "    }\n",
              "  </style>\n",
              "\n",
              "      <script>\n",
              "        const buttonEl =\n",
              "          document.querySelector('#df-036c5063-22dd-45a0-a667-ee3fcf62bd29 button.colab-df-convert');\n",
              "        buttonEl.style.display =\n",
              "          google.colab.kernel.accessAllowed ? 'block' : 'none';\n",
              "\n",
              "        async function convertToInteractive(key) {\n",
              "          const element = document.querySelector('#df-036c5063-22dd-45a0-a667-ee3fcf62bd29');\n",
              "          const dataTable =\n",
              "            await google.colab.kernel.invokeFunction('convertToInteractive',\n",
              "                                                     [key], {});\n",
              "          if (!dataTable) return;\n",
              "\n",
              "          const docLinkHtml = 'Like what you see? Visit the ' +\n",
              "            '<a target=\"_blank\" href=https://colab.research.google.com/notebooks/data_table.ipynb>data table notebook</a>'\n",
              "            + ' to learn more about interactive tables.';\n",
              "          element.innerHTML = '';\n",
              "          dataTable['output_type'] = 'display_data';\n",
              "          await google.colab.output.renderOutput(dataTable, element);\n",
              "          const docLink = document.createElement('div');\n",
              "          docLink.innerHTML = docLinkHtml;\n",
              "          element.appendChild(docLink);\n",
              "        }\n",
              "      </script>\n",
              "    </div>\n",
              "  </div>\n",
              "  "
            ]
          },
          "metadata": {},
          "execution_count": 8
        }
      ]
    },
    {
      "cell_type": "code",
      "source": [
        "#datatable\n",
        "%time\n",
        "dt_df.head()"
      ],
      "metadata": {
        "id": "pJXDhbn72I9C",
        "colab": {
          "base_uri": "https://localhost:8080/",
          "height": 516
        },
        "outputId": "2fee1231-c233-40e6-bcc5-81e0325c5075"
      },
      "execution_count": null,
      "outputs": [
        {
          "output_type": "stream",
          "name": "stdout",
          "text": [
            "CPU times: user 2 µs, sys: 1 µs, total: 3 µs\n",
            "Wall time: 5.72 µs\n"
          ]
        },
        {
          "output_type": "execute_result",
          "data": {
            "text/plain": [
              "<Frame#7fb87885a8a0 10x24>"
            ],
            "text/html": [
              "<div class='datatable'>\n",
              "  <table class='frame'>\n",
              "  <thead>\n",
              "    <tr class='colnames'><td class='row_index'></td><th>BusinessYear</th><th>StateCode</th><th>IssuerId</th><th>SourceName</th><th>VersionNum</th><th>ImportDate</th><th>IssuerId2</th><th>FederalTIN</th><th>RateEffectiveDate</th><th>RateExpirationDate</th><th class='vellipsis'>&hellip;</th><th>PrimarySubscriberAndThreeOrMoreDependents</th><th>CoupleAndOneDependent</th><th>CoupleAndTwoDependents</th><th>CoupleAndThreeOrMoreDependents</th><th>RowNumber</th></tr>\n",
              "    <tr class='coltypes'><td class='row_index'></td><td class='int' title='int32'>&#x25AA;&#x25AA;&#x25AA;&#x25AA;</td><td class='str' title='str32'>&#x25AA;&#x25AA;&#x25AA;&#x25AA;</td><td class='int' title='int32'>&#x25AA;&#x25AA;&#x25AA;&#x25AA;</td><td class='str' title='str32'>&#x25AA;&#x25AA;&#x25AA;&#x25AA;</td><td class='int' title='int32'>&#x25AA;&#x25AA;&#x25AA;&#x25AA;</td><td class='time' title='time64'>&#x25AA;&#x25AA;&#x25AA;&#x25AA;&#x25AA;&#x25AA;&#x25AA;&#x25AA;</td><td class='int' title='int32'>&#x25AA;&#x25AA;&#x25AA;&#x25AA;</td><td class='str' title='str32'>&#x25AA;&#x25AA;&#x25AA;&#x25AA;</td><td class='time' title='date32'>&#x25AA;&#x25AA;&#x25AA;&#x25AA;</td><td class='time' title='date32'>&#x25AA;&#x25AA;&#x25AA;&#x25AA;</td><td></td><td class='float' title='float64'>&#x25AA;&#x25AA;&#x25AA;&#x25AA;&#x25AA;&#x25AA;&#x25AA;&#x25AA;</td><td class='float' title='float64'>&#x25AA;&#x25AA;&#x25AA;&#x25AA;&#x25AA;&#x25AA;&#x25AA;&#x25AA;</td><td class='float' title='float64'>&#x25AA;&#x25AA;&#x25AA;&#x25AA;&#x25AA;&#x25AA;&#x25AA;&#x25AA;</td><td class='float' title='float64'>&#x25AA;&#x25AA;&#x25AA;&#x25AA;&#x25AA;&#x25AA;&#x25AA;&#x25AA;</td><td class='int' title='int32'>&#x25AA;&#x25AA;&#x25AA;&#x25AA;</td></tr>\n",
              "  </thead>\n",
              "  <tbody>\n",
              "    <tr><td class='row_index'>0</td><td>2014</td><td>AK</td><td>21989</td><td>HIOS</td><td>6</td><td>2014-03-19<span class=sp>T</span>07:06:49</td><td>21989</td><td>93-0438772</td><td>2014-01-01</td><td>2014-12-31</td><td class=vellipsis>&hellip;</td><td><span class=na>NA</span></td><td><span class=na>NA</span></td><td><span class=na>NA</span></td><td><span class=na>NA</span></td><td>14</td></tr>\n",
              "    <tr><td class='row_index'>1</td><td>2014</td><td>AK</td><td>21989</td><td>HIOS</td><td>6</td><td>2014-03-19<span class=sp>T</span>07:06:49</td><td>21989</td><td>93-0438772</td><td>2014-01-01</td><td>2014-12-31</td><td class=vellipsis>&hellip;</td><td>107.61</td><td>144.56</td><td>144.56</td><td>144.56</td><td>14</td></tr>\n",
              "    <tr><td class='row_index'>2</td><td>2014</td><td>AK</td><td>21989</td><td>HIOS</td><td>6</td><td>2014-03-19<span class=sp>T</span>07:06:49</td><td>21989</td><td>93-0438772</td><td>2014-01-01</td><td>2014-12-31</td><td class=vellipsis>&hellip;</td><td>107.61</td><td>144.56</td><td>144.56</td><td>144.56</td><td>15</td></tr>\n",
              "    <tr><td class='row_index'>3</td><td>2014</td><td>AK</td><td>21989</td><td>HIOS</td><td>6</td><td>2014-03-19<span class=sp>T</span>07:06:49</td><td>21989</td><td>93-0438772</td><td>2014-01-01</td><td>2014-12-31</td><td class=vellipsis>&hellip;</td><td><span class=na>NA</span></td><td><span class=na>NA</span></td><td><span class=na>NA</span></td><td><span class=na>NA</span></td><td>15</td></tr>\n",
              "    <tr><td class='row_index'>4</td><td>2014</td><td>AK</td><td>21989</td><td>HIOS</td><td>6</td><td>2014-03-19<span class=sp>T</span>07:06:49</td><td>21989</td><td>93-0438772</td><td>2014-01-01</td><td>2014-12-31</td><td class=vellipsis>&hellip;</td><td><span class=na>NA</span></td><td><span class=na>NA</span></td><td><span class=na>NA</span></td><td><span class=na>NA</span></td><td>16</td></tr>\n",
              "    <tr><td class='row_index'>5</td><td>2014</td><td>AK</td><td>21989</td><td>HIOS</td><td>6</td><td>2014-03-19<span class=sp>T</span>07:06:49</td><td>21989</td><td>93-0438772</td><td>2014-01-01</td><td>2014-12-31</td><td class=vellipsis>&hellip;</td><td>107.61</td><td>144.56</td><td>144.56</td><td>144.56</td><td>16</td></tr>\n",
              "    <tr><td class='row_index'>6</td><td>2014</td><td>AK</td><td>21989</td><td>HIOS</td><td>6</td><td>2014-03-19<span class=sp>T</span>07:06:49</td><td>21989</td><td>93-0438772</td><td>2014-01-01</td><td>2014-12-31</td><td class=vellipsis>&hellip;</td><td>94.5</td><td>126.95</td><td>126.95</td><td>126.95</td><td>17</td></tr>\n",
              "    <tr><td class='row_index'>7</td><td>2014</td><td>AK</td><td>21989</td><td>HIOS</td><td>6</td><td>2014-03-19<span class=sp>T</span>07:06:49</td><td>21989</td><td>93-0438772</td><td>2014-01-01</td><td>2014-12-31</td><td class=vellipsis>&hellip;</td><td><span class=na>NA</span></td><td><span class=na>NA</span></td><td><span class=na>NA</span></td><td><span class=na>NA</span></td><td>17</td></tr>\n",
              "    <tr><td class='row_index'>8</td><td>2014</td><td>AK</td><td>21989</td><td>HIOS</td><td>6</td><td>2014-03-19<span class=sp>T</span>07:06:49</td><td>21989</td><td>93-0438772</td><td>2014-01-01</td><td>2014-12-31</td><td class=vellipsis>&hellip;</td><td><span class=na>NA</span></td><td><span class=na>NA</span></td><td><span class=na>NA</span></td><td><span class=na>NA</span></td><td>18</td></tr>\n",
              "    <tr><td class='row_index'>9</td><td>2014</td><td>AK</td><td>21989</td><td>HIOS</td><td>6</td><td>2014-03-19<span class=sp>T</span>07:06:49</td><td>21989</td><td>93-0438772</td><td>2014-01-01</td><td>2014-12-31</td><td class=vellipsis>&hellip;</td><td>94.5</td><td>126.95</td><td>126.95</td><td>126.95</td><td>18</td></tr>\n",
              "  </tbody>\n",
              "  </table>\n",
              "  <div class='footer'>\n",
              "    <div class='frame_dimensions'>10 rows &times; 24 columns</div>\n",
              "  </div>\n",
              "</div>\n"
            ]
          },
          "metadata": {},
          "execution_count": 9
        }
      ]
    },
    {
      "cell_type": "markdown",
      "source": [
        "### Process dataframe time"
      ],
      "metadata": {
        "id": "eIaQ_14x-OQ6"
      }
    },
    {
      "cell_type": "code",
      "source": [
        "#pandas\n",
        "%time\n",
        "type(pd_df)"
      ],
      "metadata": {
        "id": "Nvpq_pHM-VJo",
        "colab": {
          "base_uri": "https://localhost:8080/"
        },
        "outputId": "86696ade-440b-49eb-dd8e-b281a2509d2b"
      },
      "execution_count": null,
      "outputs": [
        {
          "output_type": "stream",
          "name": "stdout",
          "text": [
            "CPU times: user 3 µs, sys: 1e+03 ns, total: 4 µs\n",
            "Wall time: 7.63 µs\n"
          ]
        },
        {
          "output_type": "execute_result",
          "data": {
            "text/plain": [
              "pandas.core.frame.DataFrame"
            ]
          },
          "metadata": {},
          "execution_count": 10
        }
      ]
    },
    {
      "cell_type": "code",
      "source": [
        "#datatable\n",
        "%time\n",
        "type(dt_df)"
      ],
      "metadata": {
        "id": "LgVO79CZD_51",
        "colab": {
          "base_uri": "https://localhost:8080/"
        },
        "outputId": "1c576dbd-a63f-4497-beab-ee5d0482316e"
      },
      "execution_count": null,
      "outputs": [
        {
          "output_type": "stream",
          "name": "stdout",
          "text": [
            "CPU times: user 3 µs, sys: 1e+03 ns, total: 4 µs\n",
            "Wall time: 5.96 µs\n"
          ]
        },
        {
          "output_type": "execute_result",
          "data": {
            "text/plain": [
              "datatable.Frame"
            ]
          },
          "metadata": {},
          "execution_count": 11
        }
      ]
    },
    {
      "cell_type": "markdown",
      "source": [
        "### Get dataframe shape"
      ],
      "metadata": {
        "id": "e_477n12-lOD"
      }
    },
    {
      "cell_type": "code",
      "source": [
        "#pandas\n",
        "%time\n",
        "pd_df.shape"
      ],
      "metadata": {
        "id": "F7TVdyqz-pRt",
        "colab": {
          "base_uri": "https://localhost:8080/"
        },
        "outputId": "f59ef15f-0610-4991-a0ed-d4e964fc73f4"
      },
      "execution_count": null,
      "outputs": [
        {
          "output_type": "stream",
          "name": "stdout",
          "text": [
            "CPU times: user 3 µs, sys: 1e+03 ns, total: 4 µs\n",
            "Wall time: 7.87 µs\n"
          ]
        },
        {
          "output_type": "execute_result",
          "data": {
            "text/plain": [
              "(12694445, 24)"
            ]
          },
          "metadata": {},
          "execution_count": 12
        }
      ]
    },
    {
      "cell_type": "code",
      "source": [
        "#datatable\n",
        "%time\n",
        "dt_df.shape"
      ],
      "metadata": {
        "id": "YfNEIAuvF6yX",
        "colab": {
          "base_uri": "https://localhost:8080/"
        },
        "outputId": "98dfaa7c-e9fe-4d25-bf12-ebc4dd6d7f93"
      },
      "execution_count": null,
      "outputs": [
        {
          "output_type": "stream",
          "name": "stdout",
          "text": [
            "CPU times: user 3 µs, sys: 0 ns, total: 3 µs\n",
            "Wall time: 9.06 µs\n"
          ]
        },
        {
          "output_type": "execute_result",
          "data": {
            "text/plain": [
              "(12694445, 24)"
            ]
          },
          "metadata": {},
          "execution_count": 13
        }
      ]
    },
    {
      "cell_type": "markdown",
      "source": [
        "### Get column names"
      ],
      "metadata": {
        "id": "SOaNeqb5_HqJ"
      }
    },
    {
      "cell_type": "code",
      "source": [
        "#pandas\n",
        "%time\n",
        "pd_df.columns"
      ],
      "metadata": {
        "id": "xBXZKT0g_G4t",
        "colab": {
          "base_uri": "https://localhost:8080/"
        },
        "outputId": "700f1816-8628-486e-d428-a8325d722221"
      },
      "execution_count": null,
      "outputs": [
        {
          "output_type": "stream",
          "name": "stdout",
          "text": [
            "CPU times: user 2 µs, sys: 0 ns, total: 2 µs\n",
            "Wall time: 7.15 µs\n"
          ]
        },
        {
          "output_type": "execute_result",
          "data": {
            "text/plain": [
              "Index(['BusinessYear', 'StateCode', 'IssuerId', 'SourceName', 'VersionNum',\n",
              "       'ImportDate', 'IssuerId2', 'FederalTIN', 'RateEffectiveDate',\n",
              "       'RateExpirationDate', 'PlanId', 'RatingAreaId', 'Tobacco', 'Age',\n",
              "       'IndividualRate', 'IndividualTobaccoRate', 'Couple',\n",
              "       'PrimarySubscriberAndOneDependent', 'PrimarySubscriberAndTwoDependents',\n",
              "       'PrimarySubscriberAndThreeOrMoreDependents', 'CoupleAndOneDependent',\n",
              "       'CoupleAndTwoDependents', 'CoupleAndThreeOrMoreDependents',\n",
              "       'RowNumber'],\n",
              "      dtype='object')"
            ]
          },
          "metadata": {},
          "execution_count": 14
        }
      ]
    },
    {
      "cell_type": "code",
      "source": [
        "#datatable\n",
        "%time\n",
        "dt_df.names"
      ],
      "metadata": {
        "id": "iDFQ-y9jEcpw",
        "colab": {
          "base_uri": "https://localhost:8080/"
        },
        "outputId": "bef43104-3505-4b72-eb78-370ca2df8df7"
      },
      "execution_count": null,
      "outputs": [
        {
          "output_type": "stream",
          "name": "stdout",
          "text": [
            "CPU times: user 5 µs, sys: 0 ns, total: 5 µs\n",
            "Wall time: 9.06 µs\n"
          ]
        },
        {
          "output_type": "execute_result",
          "data": {
            "text/plain": [
              "('BusinessYear',\n",
              " 'StateCode',\n",
              " 'IssuerId',\n",
              " 'SourceName',\n",
              " 'VersionNum',\n",
              " 'ImportDate',\n",
              " 'IssuerId2',\n",
              " 'FederalTIN',\n",
              " 'RateEffectiveDate',\n",
              " 'RateExpirationDate',\n",
              " 'PlanId',\n",
              " 'RatingAreaId',\n",
              " 'Tobacco',\n",
              " 'Age',\n",
              " 'IndividualRate',\n",
              " 'IndividualTobaccoRate',\n",
              " 'Couple',\n",
              " 'PrimarySubscriberAndOneDependent',\n",
              " 'PrimarySubscriberAndTwoDependents',\n",
              " 'PrimarySubscriberAndThreeOrMoreDependents',\n",
              " 'CoupleAndOneDependent',\n",
              " 'CoupleAndTwoDependents',\n",
              " 'CoupleAndThreeOrMoreDependents',\n",
              " 'RowNumber')"
            ]
          },
          "metadata": {},
          "execution_count": 15
        }
      ]
    },
    {
      "cell_type": "markdown",
      "source": [
        "### Get column types"
      ],
      "metadata": {
        "id": "w8VF17uC_4Ds"
      }
    },
    {
      "cell_type": "code",
      "source": [
        "#pandas\n",
        "%time\n",
        "pd_df.dtypes"
      ],
      "metadata": {
        "id": "7Y2gXioy_8Bg",
        "colab": {
          "base_uri": "https://localhost:8080/"
        },
        "outputId": "e0eed395-e580-4ba1-d752-27e1bd51606d"
      },
      "execution_count": null,
      "outputs": [
        {
          "output_type": "stream",
          "name": "stdout",
          "text": [
            "CPU times: user 3 µs, sys: 1 µs, total: 4 µs\n",
            "Wall time: 7.63 µs\n"
          ]
        },
        {
          "output_type": "execute_result",
          "data": {
            "text/plain": [
              "BusinessYear                                   int64\n",
              "StateCode                                     object\n",
              "IssuerId                                       int64\n",
              "SourceName                                    object\n",
              "VersionNum                                     int64\n",
              "ImportDate                                    object\n",
              "IssuerId2                                      int64\n",
              "FederalTIN                                    object\n",
              "RateEffectiveDate                             object\n",
              "RateExpirationDate                            object\n",
              "PlanId                                        object\n",
              "RatingAreaId                                  object\n",
              "Tobacco                                       object\n",
              "Age                                           object\n",
              "IndividualRate                               float64\n",
              "IndividualTobaccoRate                        float64\n",
              "Couple                                       float64\n",
              "PrimarySubscriberAndOneDependent             float64\n",
              "PrimarySubscriberAndTwoDependents            float64\n",
              "PrimarySubscriberAndThreeOrMoreDependents    float64\n",
              "CoupleAndOneDependent                        float64\n",
              "CoupleAndTwoDependents                       float64\n",
              "CoupleAndThreeOrMoreDependents               float64\n",
              "RowNumber                                      int64\n",
              "dtype: object"
            ]
          },
          "metadata": {},
          "execution_count": 16
        }
      ]
    },
    {
      "cell_type": "code",
      "source": [
        "#datatable\n",
        "%time\n",
        "dt_df.stypes"
      ],
      "metadata": {
        "id": "CJzId4xhEvs4",
        "colab": {
          "base_uri": "https://localhost:8080/"
        },
        "outputId": "35c5d084-ba9a-4301-83c4-6b4ceb190cb8"
      },
      "execution_count": null,
      "outputs": [
        {
          "output_type": "stream",
          "name": "stdout",
          "text": [
            "CPU times: user 5 µs, sys: 0 ns, total: 5 µs\n",
            "Wall time: 9.06 µs\n"
          ]
        },
        {
          "output_type": "execute_result",
          "data": {
            "text/plain": [
              "(stype.int32,\n",
              " stype.str32,\n",
              " stype.int32,\n",
              " stype.str32,\n",
              " stype.int32,\n",
              " stype.time64,\n",
              " stype.int32,\n",
              " stype.str32,\n",
              " stype.date32,\n",
              " stype.date32,\n",
              " stype.str32,\n",
              " stype.str32,\n",
              " stype.str32,\n",
              " stype.str32,\n",
              " stype.float64,\n",
              " stype.float64,\n",
              " stype.float64,\n",
              " stype.float64,\n",
              " stype.float64,\n",
              " stype.float64,\n",
              " stype.float64,\n",
              " stype.float64,\n",
              " stype.float64,\n",
              " stype.int32)"
            ]
          },
          "metadata": {},
          "execution_count": 17
        }
      ]
    },
    {
      "cell_type": "markdown",
      "source": [
        "### Looking at the number of unique values per columns"
      ],
      "metadata": {
        "id": "EY7Qts3PMGud"
      }
    },
    {
      "cell_type": "code",
      "source": [
        "#pandas\n",
        "%time\n",
        "pd_df.nunique()"
      ],
      "metadata": {
        "id": "nubPsTA8AYTE",
        "colab": {
          "base_uri": "https://localhost:8080/"
        },
        "outputId": "4e0292eb-e299-4442-b9b1-898819095e37"
      },
      "execution_count": null,
      "outputs": [
        {
          "output_type": "stream",
          "name": "stdout",
          "text": [
            "CPU times: user 4 µs, sys: 0 ns, total: 4 µs\n",
            "Wall time: 8.34 µs\n"
          ]
        },
        {
          "output_type": "execute_result",
          "data": {
            "text/plain": [
              "BusinessYear                                      3\n",
              "StateCode                                        39\n",
              "IssuerId                                        910\n",
              "SourceName                                        3\n",
              "VersionNum                                       23\n",
              "ImportDate                                      266\n",
              "IssuerId2                                       910\n",
              "FederalTIN                                      335\n",
              "RateEffectiveDate                                14\n",
              "RateExpirationDate                               26\n",
              "PlanId                                        16808\n",
              "RatingAreaId                                     67\n",
              "Tobacco                                           2\n",
              "Age                                              47\n",
              "IndividualRate                               149181\n",
              "IndividualTobaccoRate                        153930\n",
              "Couple                                         5533\n",
              "PrimarySubscriberAndOneDependent               5974\n",
              "PrimarySubscriberAndTwoDependents              7047\n",
              "PrimarySubscriberAndThreeOrMoreDependents      7632\n",
              "CoupleAndOneDependent                          7268\n",
              "CoupleAndTwoDependents                         7733\n",
              "CoupleAndThreeOrMoreDependents                 8197\n",
              "RowNumber                                     60444\n",
              "dtype: int64"
            ]
          },
          "metadata": {},
          "execution_count": 18
        }
      ]
    },
    {
      "cell_type": "code",
      "source": [
        "#datatable\n",
        "%time\n",
        "dt_df.nunique()"
      ],
      "metadata": {
        "id": "WGWbVeeFFuGo",
        "colab": {
          "base_uri": "https://localhost:8080/",
          "height": 154
        },
        "outputId": "a9517dcf-2e5c-4022-cb57-85417a25d3ce"
      },
      "execution_count": null,
      "outputs": [
        {
          "output_type": "stream",
          "name": "stdout",
          "text": [
            "CPU times: user 2 µs, sys: 1e+03 ns, total: 3 µs\n",
            "Wall time: 5.72 µs\n"
          ]
        },
        {
          "output_type": "execute_result",
          "data": {
            "text/plain": [
              "<Frame#7fb878362cf0 1x24>"
            ],
            "text/html": [
              "<div class='datatable'>\n",
              "  <table class='frame'>\n",
              "  <thead>\n",
              "    <tr class='colnames'><td class='row_index'></td><th>BusinessYear</th><th>StateCode</th><th>IssuerId</th><th>SourceName</th><th>VersionNum</th><th>ImportDate</th><th>IssuerId2</th><th>FederalTIN</th><th>RateEffectiveDate</th><th>RateExpirationDate</th><th class='vellipsis'>&hellip;</th><th>PrimarySubscriberAndThreeOrMoreDependents</th><th>CoupleAndOneDependent</th><th>CoupleAndTwoDependents</th><th>CoupleAndThreeOrMoreDependents</th><th>RowNumber</th></tr>\n",
              "    <tr class='coltypes'><td class='row_index'></td><td class='int' title='int64'>&#x25AA;&#x25AA;&#x25AA;&#x25AA;&#x25AA;&#x25AA;&#x25AA;&#x25AA;</td><td class='int' title='int64'>&#x25AA;&#x25AA;&#x25AA;&#x25AA;&#x25AA;&#x25AA;&#x25AA;&#x25AA;</td><td class='int' title='int64'>&#x25AA;&#x25AA;&#x25AA;&#x25AA;&#x25AA;&#x25AA;&#x25AA;&#x25AA;</td><td class='int' title='int64'>&#x25AA;&#x25AA;&#x25AA;&#x25AA;&#x25AA;&#x25AA;&#x25AA;&#x25AA;</td><td class='int' title='int64'>&#x25AA;&#x25AA;&#x25AA;&#x25AA;&#x25AA;&#x25AA;&#x25AA;&#x25AA;</td><td class='int' title='int64'>&#x25AA;&#x25AA;&#x25AA;&#x25AA;&#x25AA;&#x25AA;&#x25AA;&#x25AA;</td><td class='int' title='int64'>&#x25AA;&#x25AA;&#x25AA;&#x25AA;&#x25AA;&#x25AA;&#x25AA;&#x25AA;</td><td class='int' title='int64'>&#x25AA;&#x25AA;&#x25AA;&#x25AA;&#x25AA;&#x25AA;&#x25AA;&#x25AA;</td><td class='int' title='int64'>&#x25AA;&#x25AA;&#x25AA;&#x25AA;&#x25AA;&#x25AA;&#x25AA;&#x25AA;</td><td class='int' title='int64'>&#x25AA;&#x25AA;&#x25AA;&#x25AA;&#x25AA;&#x25AA;&#x25AA;&#x25AA;</td><td></td><td class='int' title='int64'>&#x25AA;&#x25AA;&#x25AA;&#x25AA;&#x25AA;&#x25AA;&#x25AA;&#x25AA;</td><td class='int' title='int64'>&#x25AA;&#x25AA;&#x25AA;&#x25AA;&#x25AA;&#x25AA;&#x25AA;&#x25AA;</td><td class='int' title='int64'>&#x25AA;&#x25AA;&#x25AA;&#x25AA;&#x25AA;&#x25AA;&#x25AA;&#x25AA;</td><td class='int' title='int64'>&#x25AA;&#x25AA;&#x25AA;&#x25AA;&#x25AA;&#x25AA;&#x25AA;&#x25AA;</td><td class='int' title='int64'>&#x25AA;&#x25AA;&#x25AA;&#x25AA;&#x25AA;&#x25AA;&#x25AA;&#x25AA;</td></tr>\n",
              "  </thead>\n",
              "  <tbody>\n",
              "    <tr><td class='row_index'>0</td><td>3</td><td>39</td><td>910</td><td>3</td><td>23</td><td>266</td><td>910</td><td>335</td><td>14</td><td>26</td><td class=vellipsis>&hellip;</td><td>7632</td><td>7268</td><td>7733</td><td>8197</td><td>60444</td></tr>\n",
              "  </tbody>\n",
              "  </table>\n",
              "  <div class='footer'>\n",
              "    <div class='frame_dimensions'>1 row &times; 24 columns</div>\n",
              "  </div>\n",
              "</div>\n"
            ]
          },
          "metadata": {},
          "execution_count": 19
        }
      ]
    },
    {
      "cell_type": "markdown",
      "source": [
        "## Data Slicing"
      ],
      "metadata": {
        "id": "zbY1KIh1JWIS"
      }
    },
    {
      "cell_type": "code",
      "source": [
        "#pandas\n",
        "%time\n",
        "pd_df.iloc[0:10,0:4]"
      ],
      "metadata": {
        "id": "bn7IsSBqBOJr",
        "colab": {
          "base_uri": "https://localhost:8080/",
          "height": 398
        },
        "outputId": "700cc966-4e1e-4c42-ae92-f44f88ba9390"
      },
      "execution_count": null,
      "outputs": [
        {
          "output_type": "stream",
          "name": "stdout",
          "text": [
            "CPU times: user 3 µs, sys: 0 ns, total: 3 µs\n",
            "Wall time: 7.63 µs\n"
          ]
        },
        {
          "output_type": "execute_result",
          "data": {
            "text/plain": [
              "   BusinessYear StateCode  IssuerId SourceName\n",
              "0          2014        AK     21989       HIOS\n",
              "1          2014        AK     21989       HIOS\n",
              "2          2014        AK     21989       HIOS\n",
              "3          2014        AK     21989       HIOS\n",
              "4          2014        AK     21989       HIOS\n",
              "5          2014        AK     21989       HIOS\n",
              "6          2014        AK     21989       HIOS\n",
              "7          2014        AK     21989       HIOS\n",
              "8          2014        AK     21989       HIOS\n",
              "9          2014        AK     21989       HIOS"
            ],
            "text/html": [
              "\n",
              "  <div id=\"df-a499ce41-f543-40f1-9132-99264a7a9743\">\n",
              "    <div class=\"colab-df-container\">\n",
              "      <div>\n",
              "<style scoped>\n",
              "    .dataframe tbody tr th:only-of-type {\n",
              "        vertical-align: middle;\n",
              "    }\n",
              "\n",
              "    .dataframe tbody tr th {\n",
              "        vertical-align: top;\n",
              "    }\n",
              "\n",
              "    .dataframe thead th {\n",
              "        text-align: right;\n",
              "    }\n",
              "</style>\n",
              "<table border=\"1\" class=\"dataframe\">\n",
              "  <thead>\n",
              "    <tr style=\"text-align: right;\">\n",
              "      <th></th>\n",
              "      <th>BusinessYear</th>\n",
              "      <th>StateCode</th>\n",
              "      <th>IssuerId</th>\n",
              "      <th>SourceName</th>\n",
              "    </tr>\n",
              "  </thead>\n",
              "  <tbody>\n",
              "    <tr>\n",
              "      <th>0</th>\n",
              "      <td>2014</td>\n",
              "      <td>AK</td>\n",
              "      <td>21989</td>\n",
              "      <td>HIOS</td>\n",
              "    </tr>\n",
              "    <tr>\n",
              "      <th>1</th>\n",
              "      <td>2014</td>\n",
              "      <td>AK</td>\n",
              "      <td>21989</td>\n",
              "      <td>HIOS</td>\n",
              "    </tr>\n",
              "    <tr>\n",
              "      <th>2</th>\n",
              "      <td>2014</td>\n",
              "      <td>AK</td>\n",
              "      <td>21989</td>\n",
              "      <td>HIOS</td>\n",
              "    </tr>\n",
              "    <tr>\n",
              "      <th>3</th>\n",
              "      <td>2014</td>\n",
              "      <td>AK</td>\n",
              "      <td>21989</td>\n",
              "      <td>HIOS</td>\n",
              "    </tr>\n",
              "    <tr>\n",
              "      <th>4</th>\n",
              "      <td>2014</td>\n",
              "      <td>AK</td>\n",
              "      <td>21989</td>\n",
              "      <td>HIOS</td>\n",
              "    </tr>\n",
              "    <tr>\n",
              "      <th>5</th>\n",
              "      <td>2014</td>\n",
              "      <td>AK</td>\n",
              "      <td>21989</td>\n",
              "      <td>HIOS</td>\n",
              "    </tr>\n",
              "    <tr>\n",
              "      <th>6</th>\n",
              "      <td>2014</td>\n",
              "      <td>AK</td>\n",
              "      <td>21989</td>\n",
              "      <td>HIOS</td>\n",
              "    </tr>\n",
              "    <tr>\n",
              "      <th>7</th>\n",
              "      <td>2014</td>\n",
              "      <td>AK</td>\n",
              "      <td>21989</td>\n",
              "      <td>HIOS</td>\n",
              "    </tr>\n",
              "    <tr>\n",
              "      <th>8</th>\n",
              "      <td>2014</td>\n",
              "      <td>AK</td>\n",
              "      <td>21989</td>\n",
              "      <td>HIOS</td>\n",
              "    </tr>\n",
              "    <tr>\n",
              "      <th>9</th>\n",
              "      <td>2014</td>\n",
              "      <td>AK</td>\n",
              "      <td>21989</td>\n",
              "      <td>HIOS</td>\n",
              "    </tr>\n",
              "  </tbody>\n",
              "</table>\n",
              "</div>\n",
              "      <button class=\"colab-df-convert\" onclick=\"convertToInteractive('df-a499ce41-f543-40f1-9132-99264a7a9743')\"\n",
              "              title=\"Convert this dataframe to an interactive table.\"\n",
              "              style=\"display:none;\">\n",
              "        \n",
              "  <svg xmlns=\"http://www.w3.org/2000/svg\" height=\"24px\"viewBox=\"0 0 24 24\"\n",
              "       width=\"24px\">\n",
              "    <path d=\"M0 0h24v24H0V0z\" fill=\"none\"/>\n",
              "    <path d=\"M18.56 5.44l.94 2.06.94-2.06 2.06-.94-2.06-.94-.94-2.06-.94 2.06-2.06.94zm-11 1L8.5 8.5l.94-2.06 2.06-.94-2.06-.94L8.5 2.5l-.94 2.06-2.06.94zm10 10l.94 2.06.94-2.06 2.06-.94-2.06-.94-.94-2.06-.94 2.06-2.06.94z\"/><path d=\"M17.41 7.96l-1.37-1.37c-.4-.4-.92-.59-1.43-.59-.52 0-1.04.2-1.43.59L10.3 9.45l-7.72 7.72c-.78.78-.78 2.05 0 2.83L4 21.41c.39.39.9.59 1.41.59.51 0 1.02-.2 1.41-.59l7.78-7.78 2.81-2.81c.8-.78.8-2.07 0-2.86zM5.41 20L4 18.59l7.72-7.72 1.47 1.35L5.41 20z\"/>\n",
              "  </svg>\n",
              "      </button>\n",
              "      \n",
              "  <style>\n",
              "    .colab-df-container {\n",
              "      display:flex;\n",
              "      flex-wrap:wrap;\n",
              "      gap: 12px;\n",
              "    }\n",
              "\n",
              "    .colab-df-convert {\n",
              "      background-color: #E8F0FE;\n",
              "      border: none;\n",
              "      border-radius: 50%;\n",
              "      cursor: pointer;\n",
              "      display: none;\n",
              "      fill: #1967D2;\n",
              "      height: 32px;\n",
              "      padding: 0 0 0 0;\n",
              "      width: 32px;\n",
              "    }\n",
              "\n",
              "    .colab-df-convert:hover {\n",
              "      background-color: #E2EBFA;\n",
              "      box-shadow: 0px 1px 2px rgba(60, 64, 67, 0.3), 0px 1px 3px 1px rgba(60, 64, 67, 0.15);\n",
              "      fill: #174EA6;\n",
              "    }\n",
              "\n",
              "    [theme=dark] .colab-df-convert {\n",
              "      background-color: #3B4455;\n",
              "      fill: #D2E3FC;\n",
              "    }\n",
              "\n",
              "    [theme=dark] .colab-df-convert:hover {\n",
              "      background-color: #434B5C;\n",
              "      box-shadow: 0px 1px 3px 1px rgba(0, 0, 0, 0.15);\n",
              "      filter: drop-shadow(0px 1px 2px rgba(0, 0, 0, 0.3));\n",
              "      fill: #FFFFFF;\n",
              "    }\n",
              "  </style>\n",
              "\n",
              "      <script>\n",
              "        const buttonEl =\n",
              "          document.querySelector('#df-a499ce41-f543-40f1-9132-99264a7a9743 button.colab-df-convert');\n",
              "        buttonEl.style.display =\n",
              "          google.colab.kernel.accessAllowed ? 'block' : 'none';\n",
              "\n",
              "        async function convertToInteractive(key) {\n",
              "          const element = document.querySelector('#df-a499ce41-f543-40f1-9132-99264a7a9743');\n",
              "          const dataTable =\n",
              "            await google.colab.kernel.invokeFunction('convertToInteractive',\n",
              "                                                     [key], {});\n",
              "          if (!dataTable) return;\n",
              "\n",
              "          const docLinkHtml = 'Like what you see? Visit the ' +\n",
              "            '<a target=\"_blank\" href=https://colab.research.google.com/notebooks/data_table.ipynb>data table notebook</a>'\n",
              "            + ' to learn more about interactive tables.';\n",
              "          element.innerHTML = '';\n",
              "          dataTable['output_type'] = 'display_data';\n",
              "          await google.colab.output.renderOutput(dataTable, element);\n",
              "          const docLink = document.createElement('div');\n",
              "          docLink.innerHTML = docLinkHtml;\n",
              "          element.appendChild(docLink);\n",
              "        }\n",
              "      </script>\n",
              "    </div>\n",
              "  </div>\n",
              "  "
            ]
          },
          "metadata": {},
          "execution_count": 20
        }
      ]
    },
    {
      "cell_type": "code",
      "source": [
        "#datatable\n",
        "%time\n",
        "dt_df[0:10,0:4]"
      ],
      "metadata": {
        "id": "09axbVguJYb9",
        "colab": {
          "base_uri": "https://localhost:8080/",
          "height": 322
        },
        "outputId": "9dc445d8-61db-4120-b8a6-81d1db3d6aeb"
      },
      "execution_count": null,
      "outputs": [
        {
          "output_type": "stream",
          "name": "stdout",
          "text": [
            "CPU times: user 4 µs, sys: 1e+03 ns, total: 5 µs\n",
            "Wall time: 8.11 µs\n"
          ]
        },
        {
          "output_type": "execute_result",
          "data": {
            "text/plain": [
              "<Frame#7fb878362a50 10x4>"
            ],
            "text/html": [
              "<div class='datatable'>\n",
              "  <table class='frame'>\n",
              "  <thead>\n",
              "    <tr class='colnames'><td class='row_index'></td><th>BusinessYear</th><th>StateCode</th><th>IssuerId</th><th>SourceName</th></tr>\n",
              "    <tr class='coltypes'><td class='row_index'></td><td class='int' title='int32'>&#x25AA;&#x25AA;&#x25AA;&#x25AA;</td><td class='str' title='str32'>&#x25AA;&#x25AA;&#x25AA;&#x25AA;</td><td class='int' title='int32'>&#x25AA;&#x25AA;&#x25AA;&#x25AA;</td><td class='str' title='str32'>&#x25AA;&#x25AA;&#x25AA;&#x25AA;</td></tr>\n",
              "  </thead>\n",
              "  <tbody>\n",
              "    <tr><td class='row_index'>0</td><td>2014</td><td>AK</td><td>21989</td><td>HIOS</td></tr>\n",
              "    <tr><td class='row_index'>1</td><td>2014</td><td>AK</td><td>21989</td><td>HIOS</td></tr>\n",
              "    <tr><td class='row_index'>2</td><td>2014</td><td>AK</td><td>21989</td><td>HIOS</td></tr>\n",
              "    <tr><td class='row_index'>3</td><td>2014</td><td>AK</td><td>21989</td><td>HIOS</td></tr>\n",
              "    <tr><td class='row_index'>4</td><td>2014</td><td>AK</td><td>21989</td><td>HIOS</td></tr>\n",
              "    <tr><td class='row_index'>5</td><td>2014</td><td>AK</td><td>21989</td><td>HIOS</td></tr>\n",
              "    <tr><td class='row_index'>6</td><td>2014</td><td>AK</td><td>21989</td><td>HIOS</td></tr>\n",
              "    <tr><td class='row_index'>7</td><td>2014</td><td>AK</td><td>21989</td><td>HIOS</td></tr>\n",
              "    <tr><td class='row_index'>8</td><td>2014</td><td>AK</td><td>21989</td><td>HIOS</td></tr>\n",
              "    <tr><td class='row_index'>9</td><td>2014</td><td>AK</td><td>21989</td><td>HIOS</td></tr>\n",
              "  </tbody>\n",
              "  </table>\n",
              "  <div class='footer'>\n",
              "    <div class='frame_dimensions'>10 rows &times; 4 columns</div>\n",
              "  </div>\n",
              "</div>\n"
            ]
          },
          "metadata": {},
          "execution_count": 21
        }
      ]
    },
    {
      "cell_type": "markdown",
      "source": [
        "## Data Filtering"
      ],
      "metadata": {
        "id": "5Jygl2pYHDx-"
      }
    },
    {
      "cell_type": "code",
      "source": [
        "from datatable import *"
      ],
      "metadata": {
        "id": "-VKjpVJgGFtG"
      },
      "execution_count": null,
      "outputs": []
    },
    {
      "cell_type": "markdown",
      "source": [
        "Filter out the data where the Business Year data is 2015"
      ],
      "metadata": {
        "id": "lXSUvbhKMT5F"
      }
    },
    {
      "cell_type": "code",
      "source": [
        "#pandas\n",
        "%time\n",
        "year_pd = pd_df.loc[pd_df.BusinessYear == 2015,:]\n",
        "year_pd.head(5)"
      ],
      "metadata": {
        "id": "A4FqfpalBneJ",
        "colab": {
          "base_uri": "https://localhost:8080/",
          "height": 421
        },
        "outputId": "5e95d140-6930-4c56-f64d-76e1209ffdf9"
      },
      "execution_count": null,
      "outputs": [
        {
          "output_type": "stream",
          "name": "stdout",
          "text": [
            "CPU times: user 4 µs, sys: 1e+03 ns, total: 5 µs\n",
            "Wall time: 8.34 µs\n"
          ]
        },
        {
          "output_type": "execute_result",
          "data": {
            "text/plain": [
              "         BusinessYear StateCode  IssuerId SourceName  VersionNum  \\\n",
              "3796388          2015        AK     21989       HIOS           4   \n",
              "3796389          2015        AK     21989       HIOS           4   \n",
              "3796390          2015        AK     21989       HIOS           4   \n",
              "3796391          2015        AK     21989       HIOS           4   \n",
              "3796392          2015        AK     21989       HIOS           4   \n",
              "\n",
              "                  ImportDate  IssuerId2  FederalTIN RateEffectiveDate  \\\n",
              "3796388  2014-08-08 08:53:29      21989  93-0438772        2015-01-01   \n",
              "3796389  2014-08-08 08:53:29      21989  93-0438772        2015-01-01   \n",
              "3796390  2014-08-08 08:53:29      21989  93-0438772        2015-01-01   \n",
              "3796391  2014-08-08 08:53:29      21989  93-0438772        2015-01-01   \n",
              "3796392  2014-08-08 08:53:29      21989  93-0438772        2015-01-01   \n",
              "\n",
              "        RateExpirationDate  ... IndividualRate IndividualTobaccoRate Couple  \\\n",
              "3796388         2015-12-31  ...           43.0                   NaN    NaN   \n",
              "3796389         2015-12-31  ...           38.0                   NaN    NaN   \n",
              "3796390         2015-12-31  ...           38.0                   NaN    NaN   \n",
              "3796391         2015-12-31  ...           38.0                   NaN    NaN   \n",
              "3796392         2015-12-31  ...           38.0                   NaN    NaN   \n",
              "\n",
              "        PrimarySubscriberAndOneDependent  PrimarySubscriberAndTwoDependents  \\\n",
              "3796388                              NaN                                NaN   \n",
              "3796389                              NaN                                NaN   \n",
              "3796390                              NaN                                NaN   \n",
              "3796391                              NaN                                NaN   \n",
              "3796392                              NaN                                NaN   \n",
              "\n",
              "         PrimarySubscriberAndThreeOrMoreDependents  CoupleAndOneDependent  \\\n",
              "3796388                                        NaN                    NaN   \n",
              "3796389                                        NaN                    NaN   \n",
              "3796390                                        NaN                    NaN   \n",
              "3796391                                        NaN                    NaN   \n",
              "3796392                                        NaN                    NaN   \n",
              "\n",
              "         CoupleAndTwoDependents  CoupleAndThreeOrMoreDependents  RowNumber  \n",
              "3796388                     NaN                             NaN         14  \n",
              "3796389                     NaN                             NaN         15  \n",
              "3796390                     NaN                             NaN         16  \n",
              "3796391                     NaN                             NaN         17  \n",
              "3796392                     NaN                             NaN         18  \n",
              "\n",
              "[5 rows x 24 columns]"
            ],
            "text/html": [
              "\n",
              "  <div id=\"df-7ca59596-00fc-4209-a2c1-ba37c3de796c\">\n",
              "    <div class=\"colab-df-container\">\n",
              "      <div>\n",
              "<style scoped>\n",
              "    .dataframe tbody tr th:only-of-type {\n",
              "        vertical-align: middle;\n",
              "    }\n",
              "\n",
              "    .dataframe tbody tr th {\n",
              "        vertical-align: top;\n",
              "    }\n",
              "\n",
              "    .dataframe thead th {\n",
              "        text-align: right;\n",
              "    }\n",
              "</style>\n",
              "<table border=\"1\" class=\"dataframe\">\n",
              "  <thead>\n",
              "    <tr style=\"text-align: right;\">\n",
              "      <th></th>\n",
              "      <th>BusinessYear</th>\n",
              "      <th>StateCode</th>\n",
              "      <th>IssuerId</th>\n",
              "      <th>SourceName</th>\n",
              "      <th>VersionNum</th>\n",
              "      <th>ImportDate</th>\n",
              "      <th>IssuerId2</th>\n",
              "      <th>FederalTIN</th>\n",
              "      <th>RateEffectiveDate</th>\n",
              "      <th>RateExpirationDate</th>\n",
              "      <th>...</th>\n",
              "      <th>IndividualRate</th>\n",
              "      <th>IndividualTobaccoRate</th>\n",
              "      <th>Couple</th>\n",
              "      <th>PrimarySubscriberAndOneDependent</th>\n",
              "      <th>PrimarySubscriberAndTwoDependents</th>\n",
              "      <th>PrimarySubscriberAndThreeOrMoreDependents</th>\n",
              "      <th>CoupleAndOneDependent</th>\n",
              "      <th>CoupleAndTwoDependents</th>\n",
              "      <th>CoupleAndThreeOrMoreDependents</th>\n",
              "      <th>RowNumber</th>\n",
              "    </tr>\n",
              "  </thead>\n",
              "  <tbody>\n",
              "    <tr>\n",
              "      <th>3796388</th>\n",
              "      <td>2015</td>\n",
              "      <td>AK</td>\n",
              "      <td>21989</td>\n",
              "      <td>HIOS</td>\n",
              "      <td>4</td>\n",
              "      <td>2014-08-08 08:53:29</td>\n",
              "      <td>21989</td>\n",
              "      <td>93-0438772</td>\n",
              "      <td>2015-01-01</td>\n",
              "      <td>2015-12-31</td>\n",
              "      <td>...</td>\n",
              "      <td>43.0</td>\n",
              "      <td>NaN</td>\n",
              "      <td>NaN</td>\n",
              "      <td>NaN</td>\n",
              "      <td>NaN</td>\n",
              "      <td>NaN</td>\n",
              "      <td>NaN</td>\n",
              "      <td>NaN</td>\n",
              "      <td>NaN</td>\n",
              "      <td>14</td>\n",
              "    </tr>\n",
              "    <tr>\n",
              "      <th>3796389</th>\n",
              "      <td>2015</td>\n",
              "      <td>AK</td>\n",
              "      <td>21989</td>\n",
              "      <td>HIOS</td>\n",
              "      <td>4</td>\n",
              "      <td>2014-08-08 08:53:29</td>\n",
              "      <td>21989</td>\n",
              "      <td>93-0438772</td>\n",
              "      <td>2015-01-01</td>\n",
              "      <td>2015-12-31</td>\n",
              "      <td>...</td>\n",
              "      <td>38.0</td>\n",
              "      <td>NaN</td>\n",
              "      <td>NaN</td>\n",
              "      <td>NaN</td>\n",
              "      <td>NaN</td>\n",
              "      <td>NaN</td>\n",
              "      <td>NaN</td>\n",
              "      <td>NaN</td>\n",
              "      <td>NaN</td>\n",
              "      <td>15</td>\n",
              "    </tr>\n",
              "    <tr>\n",
              "      <th>3796390</th>\n",
              "      <td>2015</td>\n",
              "      <td>AK</td>\n",
              "      <td>21989</td>\n",
              "      <td>HIOS</td>\n",
              "      <td>4</td>\n",
              "      <td>2014-08-08 08:53:29</td>\n",
              "      <td>21989</td>\n",
              "      <td>93-0438772</td>\n",
              "      <td>2015-01-01</td>\n",
              "      <td>2015-12-31</td>\n",
              "      <td>...</td>\n",
              "      <td>38.0</td>\n",
              "      <td>NaN</td>\n",
              "      <td>NaN</td>\n",
              "      <td>NaN</td>\n",
              "      <td>NaN</td>\n",
              "      <td>NaN</td>\n",
              "      <td>NaN</td>\n",
              "      <td>NaN</td>\n",
              "      <td>NaN</td>\n",
              "      <td>16</td>\n",
              "    </tr>\n",
              "    <tr>\n",
              "      <th>3796391</th>\n",
              "      <td>2015</td>\n",
              "      <td>AK</td>\n",
              "      <td>21989</td>\n",
              "      <td>HIOS</td>\n",
              "      <td>4</td>\n",
              "      <td>2014-08-08 08:53:29</td>\n",
              "      <td>21989</td>\n",
              "      <td>93-0438772</td>\n",
              "      <td>2015-01-01</td>\n",
              "      <td>2015-12-31</td>\n",
              "      <td>...</td>\n",
              "      <td>38.0</td>\n",
              "      <td>NaN</td>\n",
              "      <td>NaN</td>\n",
              "      <td>NaN</td>\n",
              "      <td>NaN</td>\n",
              "      <td>NaN</td>\n",
              "      <td>NaN</td>\n",
              "      <td>NaN</td>\n",
              "      <td>NaN</td>\n",
              "      <td>17</td>\n",
              "    </tr>\n",
              "    <tr>\n",
              "      <th>3796392</th>\n",
              "      <td>2015</td>\n",
              "      <td>AK</td>\n",
              "      <td>21989</td>\n",
              "      <td>HIOS</td>\n",
              "      <td>4</td>\n",
              "      <td>2014-08-08 08:53:29</td>\n",
              "      <td>21989</td>\n",
              "      <td>93-0438772</td>\n",
              "      <td>2015-01-01</td>\n",
              "      <td>2015-12-31</td>\n",
              "      <td>...</td>\n",
              "      <td>38.0</td>\n",
              "      <td>NaN</td>\n",
              "      <td>NaN</td>\n",
              "      <td>NaN</td>\n",
              "      <td>NaN</td>\n",
              "      <td>NaN</td>\n",
              "      <td>NaN</td>\n",
              "      <td>NaN</td>\n",
              "      <td>NaN</td>\n",
              "      <td>18</td>\n",
              "    </tr>\n",
              "  </tbody>\n",
              "</table>\n",
              "<p>5 rows × 24 columns</p>\n",
              "</div>\n",
              "      <button class=\"colab-df-convert\" onclick=\"convertToInteractive('df-7ca59596-00fc-4209-a2c1-ba37c3de796c')\"\n",
              "              title=\"Convert this dataframe to an interactive table.\"\n",
              "              style=\"display:none;\">\n",
              "        \n",
              "  <svg xmlns=\"http://www.w3.org/2000/svg\" height=\"24px\"viewBox=\"0 0 24 24\"\n",
              "       width=\"24px\">\n",
              "    <path d=\"M0 0h24v24H0V0z\" fill=\"none\"/>\n",
              "    <path d=\"M18.56 5.44l.94 2.06.94-2.06 2.06-.94-2.06-.94-.94-2.06-.94 2.06-2.06.94zm-11 1L8.5 8.5l.94-2.06 2.06-.94-2.06-.94L8.5 2.5l-.94 2.06-2.06.94zm10 10l.94 2.06.94-2.06 2.06-.94-2.06-.94-.94-2.06-.94 2.06-2.06.94z\"/><path d=\"M17.41 7.96l-1.37-1.37c-.4-.4-.92-.59-1.43-.59-.52 0-1.04.2-1.43.59L10.3 9.45l-7.72 7.72c-.78.78-.78 2.05 0 2.83L4 21.41c.39.39.9.59 1.41.59.51 0 1.02-.2 1.41-.59l7.78-7.78 2.81-2.81c.8-.78.8-2.07 0-2.86zM5.41 20L4 18.59l7.72-7.72 1.47 1.35L5.41 20z\"/>\n",
              "  </svg>\n",
              "      </button>\n",
              "      \n",
              "  <style>\n",
              "    .colab-df-container {\n",
              "      display:flex;\n",
              "      flex-wrap:wrap;\n",
              "      gap: 12px;\n",
              "    }\n",
              "\n",
              "    .colab-df-convert {\n",
              "      background-color: #E8F0FE;\n",
              "      border: none;\n",
              "      border-radius: 50%;\n",
              "      cursor: pointer;\n",
              "      display: none;\n",
              "      fill: #1967D2;\n",
              "      height: 32px;\n",
              "      padding: 0 0 0 0;\n",
              "      width: 32px;\n",
              "    }\n",
              "\n",
              "    .colab-df-convert:hover {\n",
              "      background-color: #E2EBFA;\n",
              "      box-shadow: 0px 1px 2px rgba(60, 64, 67, 0.3), 0px 1px 3px 1px rgba(60, 64, 67, 0.15);\n",
              "      fill: #174EA6;\n",
              "    }\n",
              "\n",
              "    [theme=dark] .colab-df-convert {\n",
              "      background-color: #3B4455;\n",
              "      fill: #D2E3FC;\n",
              "    }\n",
              "\n",
              "    [theme=dark] .colab-df-convert:hover {\n",
              "      background-color: #434B5C;\n",
              "      box-shadow: 0px 1px 3px 1px rgba(0, 0, 0, 0.15);\n",
              "      filter: drop-shadow(0px 1px 2px rgba(0, 0, 0, 0.3));\n",
              "      fill: #FFFFFF;\n",
              "    }\n",
              "  </style>\n",
              "\n",
              "      <script>\n",
              "        const buttonEl =\n",
              "          document.querySelector('#df-7ca59596-00fc-4209-a2c1-ba37c3de796c button.colab-df-convert');\n",
              "        buttonEl.style.display =\n",
              "          google.colab.kernel.accessAllowed ? 'block' : 'none';\n",
              "\n",
              "        async function convertToInteractive(key) {\n",
              "          const element = document.querySelector('#df-7ca59596-00fc-4209-a2c1-ba37c3de796c');\n",
              "          const dataTable =\n",
              "            await google.colab.kernel.invokeFunction('convertToInteractive',\n",
              "                                                     [key], {});\n",
              "          if (!dataTable) return;\n",
              "\n",
              "          const docLinkHtml = 'Like what you see? Visit the ' +\n",
              "            '<a target=\"_blank\" href=https://colab.research.google.com/notebooks/data_table.ipynb>data table notebook</a>'\n",
              "            + ' to learn more about interactive tables.';\n",
              "          element.innerHTML = '';\n",
              "          dataTable['output_type'] = 'display_data';\n",
              "          await google.colab.output.renderOutput(dataTable, element);\n",
              "          const docLink = document.createElement('div');\n",
              "          docLink.innerHTML = docLinkHtml;\n",
              "          element.appendChild(docLink);\n",
              "        }\n",
              "      </script>\n",
              "    </div>\n",
              "  </div>\n",
              "  "
            ]
          },
          "metadata": {},
          "execution_count": 23
        }
      ]
    },
    {
      "cell_type": "code",
      "source": [
        "#datatable\n",
        "%time\n",
        "year_dt = dt_df[f.BusinessYear == 2015,:]\n",
        "year_dt.head(5)"
      ],
      "metadata": {
        "id": "4jrPmcR4GX_Q",
        "colab": {
          "base_uri": "https://localhost:8080/",
          "height": 324
        },
        "outputId": "87d8ad30-0ccb-419a-ce3c-6fbf4e3d36a1"
      },
      "execution_count": null,
      "outputs": [
        {
          "output_type": "stream",
          "name": "stdout",
          "text": [
            "CPU times: user 4 µs, sys: 1e+03 ns, total: 5 µs\n",
            "Wall time: 8.11 µs\n"
          ]
        },
        {
          "output_type": "execute_result",
          "data": {
            "text/plain": [
              "<Frame#7fb87874bed0 5x24>"
            ],
            "text/html": [
              "<div class='datatable'>\n",
              "  <table class='frame'>\n",
              "  <thead>\n",
              "    <tr class='colnames'><td class='row_index'></td><th>BusinessYear</th><th>StateCode</th><th>IssuerId</th><th>SourceName</th><th>VersionNum</th><th>ImportDate</th><th>IssuerId2</th><th>FederalTIN</th><th>RateEffectiveDate</th><th>RateExpirationDate</th><th class='vellipsis'>&hellip;</th><th>PrimarySubscriberAndThreeOrMoreDependents</th><th>CoupleAndOneDependent</th><th>CoupleAndTwoDependents</th><th>CoupleAndThreeOrMoreDependents</th><th>RowNumber</th></tr>\n",
              "    <tr class='coltypes'><td class='row_index'></td><td class='int' title='int32'>&#x25AA;&#x25AA;&#x25AA;&#x25AA;</td><td class='str' title='str32'>&#x25AA;&#x25AA;&#x25AA;&#x25AA;</td><td class='int' title='int32'>&#x25AA;&#x25AA;&#x25AA;&#x25AA;</td><td class='str' title='str32'>&#x25AA;&#x25AA;&#x25AA;&#x25AA;</td><td class='int' title='int32'>&#x25AA;&#x25AA;&#x25AA;&#x25AA;</td><td class='time' title='time64'>&#x25AA;&#x25AA;&#x25AA;&#x25AA;&#x25AA;&#x25AA;&#x25AA;&#x25AA;</td><td class='int' title='int32'>&#x25AA;&#x25AA;&#x25AA;&#x25AA;</td><td class='str' title='str32'>&#x25AA;&#x25AA;&#x25AA;&#x25AA;</td><td class='time' title='date32'>&#x25AA;&#x25AA;&#x25AA;&#x25AA;</td><td class='time' title='date32'>&#x25AA;&#x25AA;&#x25AA;&#x25AA;</td><td></td><td class='float' title='float64'>&#x25AA;&#x25AA;&#x25AA;&#x25AA;&#x25AA;&#x25AA;&#x25AA;&#x25AA;</td><td class='float' title='float64'>&#x25AA;&#x25AA;&#x25AA;&#x25AA;&#x25AA;&#x25AA;&#x25AA;&#x25AA;</td><td class='float' title='float64'>&#x25AA;&#x25AA;&#x25AA;&#x25AA;&#x25AA;&#x25AA;&#x25AA;&#x25AA;</td><td class='float' title='float64'>&#x25AA;&#x25AA;&#x25AA;&#x25AA;&#x25AA;&#x25AA;&#x25AA;&#x25AA;</td><td class='int' title='int32'>&#x25AA;&#x25AA;&#x25AA;&#x25AA;</td></tr>\n",
              "  </thead>\n",
              "  <tbody>\n",
              "    <tr><td class='row_index'>0</td><td>2015</td><td>AK</td><td>21989</td><td>HIOS</td><td>4</td><td>2014-08-08<span class=sp>T</span>08:53:29</td><td>21989</td><td>93-0438772</td><td>2015-01-01</td><td>2015-12-31</td><td class=vellipsis>&hellip;</td><td><span class=na>NA</span></td><td><span class=na>NA</span></td><td><span class=na>NA</span></td><td><span class=na>NA</span></td><td>14</td></tr>\n",
              "    <tr><td class='row_index'>1</td><td>2015</td><td>AK</td><td>21989</td><td>HIOS</td><td>4</td><td>2014-08-08<span class=sp>T</span>08:53:29</td><td>21989</td><td>93-0438772</td><td>2015-01-01</td><td>2015-12-31</td><td class=vellipsis>&hellip;</td><td><span class=na>NA</span></td><td><span class=na>NA</span></td><td><span class=na>NA</span></td><td><span class=na>NA</span></td><td>15</td></tr>\n",
              "    <tr><td class='row_index'>2</td><td>2015</td><td>AK</td><td>21989</td><td>HIOS</td><td>4</td><td>2014-08-08<span class=sp>T</span>08:53:29</td><td>21989</td><td>93-0438772</td><td>2015-01-01</td><td>2015-12-31</td><td class=vellipsis>&hellip;</td><td><span class=na>NA</span></td><td><span class=na>NA</span></td><td><span class=na>NA</span></td><td><span class=na>NA</span></td><td>16</td></tr>\n",
              "    <tr><td class='row_index'>3</td><td>2015</td><td>AK</td><td>21989</td><td>HIOS</td><td>4</td><td>2014-08-08<span class=sp>T</span>08:53:29</td><td>21989</td><td>93-0438772</td><td>2015-01-01</td><td>2015-12-31</td><td class=vellipsis>&hellip;</td><td><span class=na>NA</span></td><td><span class=na>NA</span></td><td><span class=na>NA</span></td><td><span class=na>NA</span></td><td>17</td></tr>\n",
              "    <tr><td class='row_index'>4</td><td>2015</td><td>AK</td><td>21989</td><td>HIOS</td><td>4</td><td>2014-08-08<span class=sp>T</span>08:53:29</td><td>21989</td><td>93-0438772</td><td>2015-01-01</td><td>2015-12-31</td><td class=vellipsis>&hellip;</td><td><span class=na>NA</span></td><td><span class=na>NA</span></td><td><span class=na>NA</span></td><td><span class=na>NA</span></td><td>18</td></tr>\n",
              "  </tbody>\n",
              "  </table>\n",
              "  <div class='footer'>\n",
              "    <div class='frame_dimensions'>5 rows &times; 24 columns</div>\n",
              "  </div>\n",
              "</div>\n"
            ]
          },
          "metadata": {},
          "execution_count": 24
        }
      ]
    },
    {
      "cell_type": "markdown",
      "source": [
        "## Data Aggregation"
      ],
      "metadata": {
        "id": "AEQBgqQZHGdm"
      }
    },
    {
      "cell_type": "markdown",
      "source": [
        "Find the average of Individual Rate based on the Age"
      ],
      "metadata": {
        "id": "YFGrUGITMZlE"
      }
    },
    {
      "cell_type": "code",
      "source": [
        "#pandas\n",
        "%time\n",
        "avgIndividualRate_pd = pd_df.groupby('Age')['IndividualRate'].mean()\n",
        "avgIndividualRate_pd"
      ],
      "metadata": {
        "id": "Q3pZxG9QCQOU",
        "colab": {
          "base_uri": "https://localhost:8080/"
        },
        "outputId": "dc931386-d5e1-460d-e44a-f3e26be2c198"
      },
      "execution_count": null,
      "outputs": [
        {
          "output_type": "stream",
          "name": "stdout",
          "text": [
            "CPU times: user 4 µs, sys: 0 ns, total: 4 µs\n",
            "Wall time: 7.63 µs\n"
          ]
        },
        {
          "output_type": "execute_result",
          "data": {
            "text/plain": [
              "Age\n",
              "0-20              122.255943\n",
              "21               4082.839038\n",
              "22               4082.905627\n",
              "23               4082.984625\n",
              "24               4083.077782\n",
              "25               4083.623758\n",
              "26               4087.140988\n",
              "27               4091.294937\n",
              "28               4097.991162\n",
              "29               4103.554397\n",
              "30               4106.364008\n",
              "31               4110.545405\n",
              "32               4114.726973\n",
              "33               4117.351338\n",
              "34               4120.145218\n",
              "35               4121.613227\n",
              "36               4123.018255\n",
              "37               4124.441330\n",
              "38               4125.875228\n",
              "39               4128.692732\n",
              "40               4131.558552\n",
              "41               4135.775540\n",
              "42               4139.825581\n",
              "43               4145.446150\n",
              "44               4152.453902\n",
              "45               4160.829374\n",
              "46               4170.626083\n",
              "47               4181.616742\n",
              "48               4194.177860\n",
              "49               4206.558343\n",
              "50               4220.548507\n",
              "51               4234.320766\n",
              "52               4249.475860\n",
              "53               4264.807679\n",
              "54               4281.353287\n",
              "55               4298.124468\n",
              "56               4316.045430\n",
              "57               4334.157269\n",
              "58               4353.466438\n",
              "59               4363.204309\n",
              "60               4382.247232\n",
              "61               4398.700143\n",
              "62               4409.510559\n",
              "63               4423.055067\n",
              "64               4431.279770\n",
              "65 and over      4431.414199\n",
              "Family Option      28.528600\n",
              "Name: IndividualRate, dtype: float64"
            ]
          },
          "metadata": {},
          "execution_count": 25
        }
      ]
    },
    {
      "cell_type": "code",
      "source": [
        "#datatable\n",
        "%time \n",
        "avgIndividualRate_dt = dt_df[:,dt.mean(f.IndividualRate),dt.by(f.Age)]\n",
        "avgIndividualRate_dt"
      ],
      "metadata": {
        "id": "nLHfpScVGxAZ",
        "colab": {
          "base_uri": "https://localhost:8080/",
          "height": 553
        },
        "outputId": "61b54ce9-672e-4368-f33f-c564a6448a6e"
      },
      "execution_count": null,
      "outputs": [
        {
          "output_type": "stream",
          "name": "stdout",
          "text": [
            "CPU times: user 4 µs, sys: 1 µs, total: 5 µs\n",
            "Wall time: 8.82 µs\n"
          ]
        },
        {
          "output_type": "execute_result",
          "data": {
            "text/plain": [
              "<Frame#7fb87874b240 47x2>"
            ],
            "text/html": [
              "<div class='datatable'>\n",
              "  <table class='frame'>\n",
              "  <thead>\n",
              "    <tr class='colnames'><td class='row_index'></td><th>Age</th><th>IndividualRate</th></tr>\n",
              "    <tr class='coltypes'><td class='row_index'></td><td class='str' title='str32'>&#x25AA;&#x25AA;&#x25AA;&#x25AA;</td><td class='float' title='float64'>&#x25AA;&#x25AA;&#x25AA;&#x25AA;&#x25AA;&#x25AA;&#x25AA;&#x25AA;</td></tr>\n",
              "  </thead>\n",
              "  <tbody>\n",
              "    <tr><td class='row_index'>0</td><td>0-20</td><td>122.256</td></tr>\n",
              "    <tr><td class='row_index'>1</td><td>21</td><td>4082.84</td></tr>\n",
              "    <tr><td class='row_index'>2</td><td>22</td><td>4082.91</td></tr>\n",
              "    <tr><td class='row_index'>3</td><td>23</td><td>4082.98</td></tr>\n",
              "    <tr><td class='row_index'>4</td><td>24</td><td>4083.08</td></tr>\n",
              "    <tr><td class='row_index'>5</td><td>25</td><td>4083.62</td></tr>\n",
              "    <tr><td class='row_index'>6</td><td>26</td><td>4087.14</td></tr>\n",
              "    <tr><td class='row_index'>7</td><td>27</td><td>4091.29</td></tr>\n",
              "    <tr><td class='row_index'>8</td><td>28</td><td>4097.99</td></tr>\n",
              "    <tr><td class='row_index'>9</td><td>29</td><td>4103.55</td></tr>\n",
              "    <tr><td class='row_index'>10</td><td>30</td><td>4106.36</td></tr>\n",
              "    <tr><td class='row_index'>11</td><td>31</td><td>4110.55</td></tr>\n",
              "    <tr><td class='row_index'>12</td><td>32</td><td>4114.73</td></tr>\n",
              "    <tr><td class='row_index'>13</td><td>33</td><td>4117.35</td></tr>\n",
              "    <tr><td class='row_index'>14</td><td>34</td><td>4120.15</td></tr>\n",
              "    <tr><td class='row_index'>&#x22EE;</td><td class='hellipsis'>&#x22EE;</td><td class='hellipsis'>&#x22EE;</td></tr>\n",
              "    <tr><td class='row_index'>42</td><td>62</td><td>4409.51</td></tr>\n",
              "    <tr><td class='row_index'>43</td><td>63</td><td>4423.06</td></tr>\n",
              "    <tr><td class='row_index'>44</td><td>64</td><td>4431.28</td></tr>\n",
              "    <tr><td class='row_index'>45</td><td>65 and over</td><td>4431.41</td></tr>\n",
              "    <tr><td class='row_index'>46</td><td>Family Option</td><td>28.5286</td></tr>\n",
              "  </tbody>\n",
              "  </table>\n",
              "  <div class='footer'>\n",
              "    <div class='frame_dimensions'>47 rows &times; 2 columns</div>\n",
              "  </div>\n",
              "</div>\n"
            ]
          },
          "metadata": {},
          "execution_count": 26
        }
      ]
    },
    {
      "cell_type": "markdown",
      "source": [
        "## Data Sorting"
      ],
      "metadata": {
        "id": "wBVi00bqIdQi"
      }
    },
    {
      "cell_type": "markdown",
      "source": [
        "Sort the data based on Age (increasing)"
      ],
      "metadata": {
        "id": "9S2xllkRMhg5"
      }
    },
    {
      "cell_type": "code",
      "source": [
        "#pandas\n",
        "%time\n",
        "sortedDataAsc_pd = pd_df.sort_values(by=['Age'])\n",
        "sortedDataAsc_pd.head(3)"
      ],
      "metadata": {
        "id": "kv2RLtX4EG0_",
        "colab": {
          "base_uri": "https://localhost:8080/",
          "height": 324
        },
        "outputId": "0fa7d1b3-e5d3-4d54-835e-fea59721e75b"
      },
      "execution_count": null,
      "outputs": [
        {
          "output_type": "stream",
          "name": "stdout",
          "text": [
            "CPU times: user 4 µs, sys: 0 ns, total: 4 µs\n",
            "Wall time: 8.34 µs\n"
          ]
        },
        {
          "output_type": "execute_result",
          "data": {
            "text/plain": [
              "         BusinessYear StateCode  IssuerId SourceName  VersionNum  \\\n",
              "0                2014        AK     21989       HIOS           6   \n",
              "5770311          2015        SC     49532       HIOS          20   \n",
              "5770310          2015        SC     49532       HIOS          20   \n",
              "\n",
              "                  ImportDate  IssuerId2  FederalTIN RateEffectiveDate  \\\n",
              "0        2014-03-19 07:06:49      21989  93-0438772        2014-01-01   \n",
              "5770311  2015-01-16 17:32:32      49532  57-0768835        2015-01-01   \n",
              "5770310  2015-01-16 17:32:32      49532  57-0768835        2015-04-01   \n",
              "\n",
              "        RateExpirationDate  ... IndividualRate IndividualTobaccoRate Couple  \\\n",
              "0               2014-12-31  ...          29.00                   NaN    NaN   \n",
              "5770311         2015-03-31  ...         175.32                210.38    NaN   \n",
              "5770310         2015-06-30  ...         176.85                212.21    NaN   \n",
              "\n",
              "        PrimarySubscriberAndOneDependent  PrimarySubscriberAndTwoDependents  \\\n",
              "0                                    NaN                                NaN   \n",
              "5770311                              NaN                                NaN   \n",
              "5770310                              NaN                                NaN   \n",
              "\n",
              "         PrimarySubscriberAndThreeOrMoreDependents  CoupleAndOneDependent  \\\n",
              "0                                              NaN                    NaN   \n",
              "5770311                                        NaN                    NaN   \n",
              "5770310                                        NaN                    NaN   \n",
              "\n",
              "         CoupleAndTwoDependents  CoupleAndThreeOrMoreDependents  RowNumber  \n",
              "0                           NaN                             NaN         14  \n",
              "5770311                     NaN                             NaN      30650  \n",
              "5770310                     NaN                             NaN      30650  \n",
              "\n",
              "[3 rows x 24 columns]"
            ],
            "text/html": [
              "\n",
              "  <div id=\"df-4055438a-0b73-4ac5-8b7e-d0d45386cfdf\">\n",
              "    <div class=\"colab-df-container\">\n",
              "      <div>\n",
              "<style scoped>\n",
              "    .dataframe tbody tr th:only-of-type {\n",
              "        vertical-align: middle;\n",
              "    }\n",
              "\n",
              "    .dataframe tbody tr th {\n",
              "        vertical-align: top;\n",
              "    }\n",
              "\n",
              "    .dataframe thead th {\n",
              "        text-align: right;\n",
              "    }\n",
              "</style>\n",
              "<table border=\"1\" class=\"dataframe\">\n",
              "  <thead>\n",
              "    <tr style=\"text-align: right;\">\n",
              "      <th></th>\n",
              "      <th>BusinessYear</th>\n",
              "      <th>StateCode</th>\n",
              "      <th>IssuerId</th>\n",
              "      <th>SourceName</th>\n",
              "      <th>VersionNum</th>\n",
              "      <th>ImportDate</th>\n",
              "      <th>IssuerId2</th>\n",
              "      <th>FederalTIN</th>\n",
              "      <th>RateEffectiveDate</th>\n",
              "      <th>RateExpirationDate</th>\n",
              "      <th>...</th>\n",
              "      <th>IndividualRate</th>\n",
              "      <th>IndividualTobaccoRate</th>\n",
              "      <th>Couple</th>\n",
              "      <th>PrimarySubscriberAndOneDependent</th>\n",
              "      <th>PrimarySubscriberAndTwoDependents</th>\n",
              "      <th>PrimarySubscriberAndThreeOrMoreDependents</th>\n",
              "      <th>CoupleAndOneDependent</th>\n",
              "      <th>CoupleAndTwoDependents</th>\n",
              "      <th>CoupleAndThreeOrMoreDependents</th>\n",
              "      <th>RowNumber</th>\n",
              "    </tr>\n",
              "  </thead>\n",
              "  <tbody>\n",
              "    <tr>\n",
              "      <th>0</th>\n",
              "      <td>2014</td>\n",
              "      <td>AK</td>\n",
              "      <td>21989</td>\n",
              "      <td>HIOS</td>\n",
              "      <td>6</td>\n",
              "      <td>2014-03-19 07:06:49</td>\n",
              "      <td>21989</td>\n",
              "      <td>93-0438772</td>\n",
              "      <td>2014-01-01</td>\n",
              "      <td>2014-12-31</td>\n",
              "      <td>...</td>\n",
              "      <td>29.00</td>\n",
              "      <td>NaN</td>\n",
              "      <td>NaN</td>\n",
              "      <td>NaN</td>\n",
              "      <td>NaN</td>\n",
              "      <td>NaN</td>\n",
              "      <td>NaN</td>\n",
              "      <td>NaN</td>\n",
              "      <td>NaN</td>\n",
              "      <td>14</td>\n",
              "    </tr>\n",
              "    <tr>\n",
              "      <th>5770311</th>\n",
              "      <td>2015</td>\n",
              "      <td>SC</td>\n",
              "      <td>49532</td>\n",
              "      <td>HIOS</td>\n",
              "      <td>20</td>\n",
              "      <td>2015-01-16 17:32:32</td>\n",
              "      <td>49532</td>\n",
              "      <td>57-0768835</td>\n",
              "      <td>2015-01-01</td>\n",
              "      <td>2015-03-31</td>\n",
              "      <td>...</td>\n",
              "      <td>175.32</td>\n",
              "      <td>210.38</td>\n",
              "      <td>NaN</td>\n",
              "      <td>NaN</td>\n",
              "      <td>NaN</td>\n",
              "      <td>NaN</td>\n",
              "      <td>NaN</td>\n",
              "      <td>NaN</td>\n",
              "      <td>NaN</td>\n",
              "      <td>30650</td>\n",
              "    </tr>\n",
              "    <tr>\n",
              "      <th>5770310</th>\n",
              "      <td>2015</td>\n",
              "      <td>SC</td>\n",
              "      <td>49532</td>\n",
              "      <td>HIOS</td>\n",
              "      <td>20</td>\n",
              "      <td>2015-01-16 17:32:32</td>\n",
              "      <td>49532</td>\n",
              "      <td>57-0768835</td>\n",
              "      <td>2015-04-01</td>\n",
              "      <td>2015-06-30</td>\n",
              "      <td>...</td>\n",
              "      <td>176.85</td>\n",
              "      <td>212.21</td>\n",
              "      <td>NaN</td>\n",
              "      <td>NaN</td>\n",
              "      <td>NaN</td>\n",
              "      <td>NaN</td>\n",
              "      <td>NaN</td>\n",
              "      <td>NaN</td>\n",
              "      <td>NaN</td>\n",
              "      <td>30650</td>\n",
              "    </tr>\n",
              "  </tbody>\n",
              "</table>\n",
              "<p>3 rows × 24 columns</p>\n",
              "</div>\n",
              "      <button class=\"colab-df-convert\" onclick=\"convertToInteractive('df-4055438a-0b73-4ac5-8b7e-d0d45386cfdf')\"\n",
              "              title=\"Convert this dataframe to an interactive table.\"\n",
              "              style=\"display:none;\">\n",
              "        \n",
              "  <svg xmlns=\"http://www.w3.org/2000/svg\" height=\"24px\"viewBox=\"0 0 24 24\"\n",
              "       width=\"24px\">\n",
              "    <path d=\"M0 0h24v24H0V0z\" fill=\"none\"/>\n",
              "    <path d=\"M18.56 5.44l.94 2.06.94-2.06 2.06-.94-2.06-.94-.94-2.06-.94 2.06-2.06.94zm-11 1L8.5 8.5l.94-2.06 2.06-.94-2.06-.94L8.5 2.5l-.94 2.06-2.06.94zm10 10l.94 2.06.94-2.06 2.06-.94-2.06-.94-.94-2.06-.94 2.06-2.06.94z\"/><path d=\"M17.41 7.96l-1.37-1.37c-.4-.4-.92-.59-1.43-.59-.52 0-1.04.2-1.43.59L10.3 9.45l-7.72 7.72c-.78.78-.78 2.05 0 2.83L4 21.41c.39.39.9.59 1.41.59.51 0 1.02-.2 1.41-.59l7.78-7.78 2.81-2.81c.8-.78.8-2.07 0-2.86zM5.41 20L4 18.59l7.72-7.72 1.47 1.35L5.41 20z\"/>\n",
              "  </svg>\n",
              "      </button>\n",
              "      \n",
              "  <style>\n",
              "    .colab-df-container {\n",
              "      display:flex;\n",
              "      flex-wrap:wrap;\n",
              "      gap: 12px;\n",
              "    }\n",
              "\n",
              "    .colab-df-convert {\n",
              "      background-color: #E8F0FE;\n",
              "      border: none;\n",
              "      border-radius: 50%;\n",
              "      cursor: pointer;\n",
              "      display: none;\n",
              "      fill: #1967D2;\n",
              "      height: 32px;\n",
              "      padding: 0 0 0 0;\n",
              "      width: 32px;\n",
              "    }\n",
              "\n",
              "    .colab-df-convert:hover {\n",
              "      background-color: #E2EBFA;\n",
              "      box-shadow: 0px 1px 2px rgba(60, 64, 67, 0.3), 0px 1px 3px 1px rgba(60, 64, 67, 0.15);\n",
              "      fill: #174EA6;\n",
              "    }\n",
              "\n",
              "    [theme=dark] .colab-df-convert {\n",
              "      background-color: #3B4455;\n",
              "      fill: #D2E3FC;\n",
              "    }\n",
              "\n",
              "    [theme=dark] .colab-df-convert:hover {\n",
              "      background-color: #434B5C;\n",
              "      box-shadow: 0px 1px 3px 1px rgba(0, 0, 0, 0.15);\n",
              "      filter: drop-shadow(0px 1px 2px rgba(0, 0, 0, 0.3));\n",
              "      fill: #FFFFFF;\n",
              "    }\n",
              "  </style>\n",
              "\n",
              "      <script>\n",
              "        const buttonEl =\n",
              "          document.querySelector('#df-4055438a-0b73-4ac5-8b7e-d0d45386cfdf button.colab-df-convert');\n",
              "        buttonEl.style.display =\n",
              "          google.colab.kernel.accessAllowed ? 'block' : 'none';\n",
              "\n",
              "        async function convertToInteractive(key) {\n",
              "          const element = document.querySelector('#df-4055438a-0b73-4ac5-8b7e-d0d45386cfdf');\n",
              "          const dataTable =\n",
              "            await google.colab.kernel.invokeFunction('convertToInteractive',\n",
              "                                                     [key], {});\n",
              "          if (!dataTable) return;\n",
              "\n",
              "          const docLinkHtml = 'Like what you see? Visit the ' +\n",
              "            '<a target=\"_blank\" href=https://colab.research.google.com/notebooks/data_table.ipynb>data table notebook</a>'\n",
              "            + ' to learn more about interactive tables.';\n",
              "          element.innerHTML = '';\n",
              "          dataTable['output_type'] = 'display_data';\n",
              "          await google.colab.output.renderOutput(dataTable, element);\n",
              "          const docLink = document.createElement('div');\n",
              "          docLink.innerHTML = docLinkHtml;\n",
              "          element.appendChild(docLink);\n",
              "        }\n",
              "      </script>\n",
              "    </div>\n",
              "  </div>\n",
              "  "
            ]
          },
          "metadata": {},
          "execution_count": 27
        }
      ]
    },
    {
      "cell_type": "code",
      "source": [
        "#datatable\n",
        "%time\n",
        "sortedDataDesc_dt = dt_df[:,:,dt.sort(f.Age)]\n",
        "sortedDataDesc_dt.head(3)"
      ],
      "metadata": {
        "id": "W-ucvObKHwJ9",
        "colab": {
          "base_uri": "https://localhost:8080/",
          "height": 247
        },
        "outputId": "b3ce08c3-f397-4630-c89e-f3b914bd1eec"
      },
      "execution_count": null,
      "outputs": [
        {
          "output_type": "stream",
          "name": "stdout",
          "text": [
            "CPU times: user 5 µs, sys: 1e+03 ns, total: 6 µs\n",
            "Wall time: 10 µs\n"
          ]
        },
        {
          "output_type": "execute_result",
          "data": {
            "text/plain": [
              "<Frame#7fb87874bd20 3x24>"
            ],
            "text/html": [
              "<div class='datatable'>\n",
              "  <table class='frame'>\n",
              "  <thead>\n",
              "    <tr class='colnames'><td class='row_index'></td><th>BusinessYear</th><th>StateCode</th><th>IssuerId</th><th>SourceName</th><th>VersionNum</th><th>ImportDate</th><th>IssuerId2</th><th>FederalTIN</th><th>RateEffectiveDate</th><th>RateExpirationDate</th><th class='vellipsis'>&hellip;</th><th>PrimarySubscriberAndThreeOrMoreDependents</th><th>CoupleAndOneDependent</th><th>CoupleAndTwoDependents</th><th>CoupleAndThreeOrMoreDependents</th><th>RowNumber</th></tr>\n",
              "    <tr class='coltypes'><td class='row_index'></td><td class='int' title='int32'>&#x25AA;&#x25AA;&#x25AA;&#x25AA;</td><td class='str' title='str32'>&#x25AA;&#x25AA;&#x25AA;&#x25AA;</td><td class='int' title='int32'>&#x25AA;&#x25AA;&#x25AA;&#x25AA;</td><td class='str' title='str32'>&#x25AA;&#x25AA;&#x25AA;&#x25AA;</td><td class='int' title='int32'>&#x25AA;&#x25AA;&#x25AA;&#x25AA;</td><td class='time' title='time64'>&#x25AA;&#x25AA;&#x25AA;&#x25AA;&#x25AA;&#x25AA;&#x25AA;&#x25AA;</td><td class='int' title='int32'>&#x25AA;&#x25AA;&#x25AA;&#x25AA;</td><td class='str' title='str32'>&#x25AA;&#x25AA;&#x25AA;&#x25AA;</td><td class='time' title='date32'>&#x25AA;&#x25AA;&#x25AA;&#x25AA;</td><td class='time' title='date32'>&#x25AA;&#x25AA;&#x25AA;&#x25AA;</td><td></td><td class='float' title='float64'>&#x25AA;&#x25AA;&#x25AA;&#x25AA;&#x25AA;&#x25AA;&#x25AA;&#x25AA;</td><td class='float' title='float64'>&#x25AA;&#x25AA;&#x25AA;&#x25AA;&#x25AA;&#x25AA;&#x25AA;&#x25AA;</td><td class='float' title='float64'>&#x25AA;&#x25AA;&#x25AA;&#x25AA;&#x25AA;&#x25AA;&#x25AA;&#x25AA;</td><td class='float' title='float64'>&#x25AA;&#x25AA;&#x25AA;&#x25AA;&#x25AA;&#x25AA;&#x25AA;&#x25AA;</td><td class='int' title='int32'>&#x25AA;&#x25AA;&#x25AA;&#x25AA;</td></tr>\n",
              "  </thead>\n",
              "  <tbody>\n",
              "    <tr><td class='row_index'>0</td><td>2014</td><td>AK</td><td>21989</td><td>HIOS</td><td>6</td><td>2014-03-19<span class=sp>T</span>07:06:49</td><td>21989</td><td>93-0438772</td><td>2014-01-01</td><td>2014-12-31</td><td class=vellipsis>&hellip;</td><td><span class=na>NA</span></td><td><span class=na>NA</span></td><td><span class=na>NA</span></td><td><span class=na>NA</span></td><td>14</td></tr>\n",
              "    <tr><td class='row_index'>1</td><td>2014</td><td>AK</td><td>21989</td><td>HIOS</td><td>6</td><td>2014-03-19<span class=sp>T</span>07:06:49</td><td>21989</td><td>93-0438772</td><td>2014-01-01</td><td>2014-12-31</td><td class=vellipsis>&hellip;</td><td><span class=na>NA</span></td><td><span class=na>NA</span></td><td><span class=na>NA</span></td><td><span class=na>NA</span></td><td>60</td></tr>\n",
              "    <tr><td class='row_index'>2</td><td>2014</td><td>AK</td><td>21989</td><td>HIOS</td><td>6</td><td>2014-03-19<span class=sp>T</span>07:06:49</td><td>21989</td><td>93-0438772</td><td>2014-01-01</td><td>2014-12-31</td><td class=vellipsis>&hellip;</td><td><span class=na>NA</span></td><td><span class=na>NA</span></td><td><span class=na>NA</span></td><td><span class=na>NA</span></td><td>106</td></tr>\n",
              "  </tbody>\n",
              "  </table>\n",
              "  <div class='footer'>\n",
              "    <div class='frame_dimensions'>3 rows &times; 24 columns</div>\n",
              "  </div>\n",
              "</div>\n"
            ]
          },
          "metadata": {},
          "execution_count": 28
        }
      ]
    },
    {
      "cell_type": "markdown",
      "source": [
        "Sort the data based on Age (decreasing)"
      ],
      "metadata": {
        "id": "iFkSFi3wMj8i"
      }
    },
    {
      "cell_type": "code",
      "source": [
        "#pandas\n",
        "%time\n",
        "sortedDataDesc_pd = pd_df.sort_values(by='Age', ascending=False)\n",
        "sortedDataDesc_pd.head(3)"
      ],
      "metadata": {
        "id": "aRVQhUJ8LQ_9",
        "colab": {
          "base_uri": "https://localhost:8080/",
          "height": 324
        },
        "outputId": "1b8a8dda-ad4d-4317-f1ad-0ccc10886071"
      },
      "execution_count": null,
      "outputs": [
        {
          "output_type": "stream",
          "name": "stdout",
          "text": [
            "CPU times: user 3 µs, sys: 0 ns, total: 3 µs\n",
            "Wall time: 7.15 µs\n"
          ]
        },
        {
          "output_type": "execute_result",
          "data": {
            "text/plain": [
              "          BusinessYear StateCode  IssuerId SourceName  VersionNum  \\\n",
              "10631304          2016        SC     97325       HIOS           2   \n",
              "530424            2014        FL     48129       HIOS           8   \n",
              "530439            2014        FL     48129       HIOS           8   \n",
              "\n",
              "                   ImportDate  IssuerId2  FederalTIN RateEffectiveDate  \\\n",
              "10631304  2015-06-30 02:19:14      97325  47-0397286        2016-10-01   \n",
              "530424    2013-11-26 13:14:08      48129  47-0397286        2014-10-01   \n",
              "530439    2013-11-26 13:14:08      48129  47-0397286        2014-07-01   \n",
              "\n",
              "         RateExpirationDate  ... IndividualRate IndividualTobaccoRate Couple  \\\n",
              "10631304         2016-12-31  ...          27.91                   NaN  27.91   \n",
              "530424           2014-12-31  ...          30.00                   NaN  30.00   \n",
              "530439           2014-09-30  ...          29.74                   NaN  29.74   \n",
              "\n",
              "         PrimarySubscriberAndOneDependent  PrimarySubscriberAndTwoDependents  \\\n",
              "10631304                            27.91                              27.91   \n",
              "530424                              30.00                              30.00   \n",
              "530439                              29.74                              29.74   \n",
              "\n",
              "          PrimarySubscriberAndThreeOrMoreDependents  CoupleAndOneDependent  \\\n",
              "10631304                                      27.91                  27.91   \n",
              "530424                                        30.00                  30.00   \n",
              "530439                                        29.74                  29.74   \n",
              "\n",
              "          CoupleAndTwoDependents  CoupleAndThreeOrMoreDependents  RowNumber  \n",
              "10631304                   27.91                           27.91         87  \n",
              "530424                     30.00                           30.00         65  \n",
              "530439                     29.74                           29.74         66  \n",
              "\n",
              "[3 rows x 24 columns]"
            ],
            "text/html": [
              "\n",
              "  <div id=\"df-ba77067e-b0c0-4fa0-b654-02c4cbe34aa3\">\n",
              "    <div class=\"colab-df-container\">\n",
              "      <div>\n",
              "<style scoped>\n",
              "    .dataframe tbody tr th:only-of-type {\n",
              "        vertical-align: middle;\n",
              "    }\n",
              "\n",
              "    .dataframe tbody tr th {\n",
              "        vertical-align: top;\n",
              "    }\n",
              "\n",
              "    .dataframe thead th {\n",
              "        text-align: right;\n",
              "    }\n",
              "</style>\n",
              "<table border=\"1\" class=\"dataframe\">\n",
              "  <thead>\n",
              "    <tr style=\"text-align: right;\">\n",
              "      <th></th>\n",
              "      <th>BusinessYear</th>\n",
              "      <th>StateCode</th>\n",
              "      <th>IssuerId</th>\n",
              "      <th>SourceName</th>\n",
              "      <th>VersionNum</th>\n",
              "      <th>ImportDate</th>\n",
              "      <th>IssuerId2</th>\n",
              "      <th>FederalTIN</th>\n",
              "      <th>RateEffectiveDate</th>\n",
              "      <th>RateExpirationDate</th>\n",
              "      <th>...</th>\n",
              "      <th>IndividualRate</th>\n",
              "      <th>IndividualTobaccoRate</th>\n",
              "      <th>Couple</th>\n",
              "      <th>PrimarySubscriberAndOneDependent</th>\n",
              "      <th>PrimarySubscriberAndTwoDependents</th>\n",
              "      <th>PrimarySubscriberAndThreeOrMoreDependents</th>\n",
              "      <th>CoupleAndOneDependent</th>\n",
              "      <th>CoupleAndTwoDependents</th>\n",
              "      <th>CoupleAndThreeOrMoreDependents</th>\n",
              "      <th>RowNumber</th>\n",
              "    </tr>\n",
              "  </thead>\n",
              "  <tbody>\n",
              "    <tr>\n",
              "      <th>10631304</th>\n",
              "      <td>2016</td>\n",
              "      <td>SC</td>\n",
              "      <td>97325</td>\n",
              "      <td>HIOS</td>\n",
              "      <td>2</td>\n",
              "      <td>2015-06-30 02:19:14</td>\n",
              "      <td>97325</td>\n",
              "      <td>47-0397286</td>\n",
              "      <td>2016-10-01</td>\n",
              "      <td>2016-12-31</td>\n",
              "      <td>...</td>\n",
              "      <td>27.91</td>\n",
              "      <td>NaN</td>\n",
              "      <td>27.91</td>\n",
              "      <td>27.91</td>\n",
              "      <td>27.91</td>\n",
              "      <td>27.91</td>\n",
              "      <td>27.91</td>\n",
              "      <td>27.91</td>\n",
              "      <td>27.91</td>\n",
              "      <td>87</td>\n",
              "    </tr>\n",
              "    <tr>\n",
              "      <th>530424</th>\n",
              "      <td>2014</td>\n",
              "      <td>FL</td>\n",
              "      <td>48129</td>\n",
              "      <td>HIOS</td>\n",
              "      <td>8</td>\n",
              "      <td>2013-11-26 13:14:08</td>\n",
              "      <td>48129</td>\n",
              "      <td>47-0397286</td>\n",
              "      <td>2014-10-01</td>\n",
              "      <td>2014-12-31</td>\n",
              "      <td>...</td>\n",
              "      <td>30.00</td>\n",
              "      <td>NaN</td>\n",
              "      <td>30.00</td>\n",
              "      <td>30.00</td>\n",
              "      <td>30.00</td>\n",
              "      <td>30.00</td>\n",
              "      <td>30.00</td>\n",
              "      <td>30.00</td>\n",
              "      <td>30.00</td>\n",
              "      <td>65</td>\n",
              "    </tr>\n",
              "    <tr>\n",
              "      <th>530439</th>\n",
              "      <td>2014</td>\n",
              "      <td>FL</td>\n",
              "      <td>48129</td>\n",
              "      <td>HIOS</td>\n",
              "      <td>8</td>\n",
              "      <td>2013-11-26 13:14:08</td>\n",
              "      <td>48129</td>\n",
              "      <td>47-0397286</td>\n",
              "      <td>2014-07-01</td>\n",
              "      <td>2014-09-30</td>\n",
              "      <td>...</td>\n",
              "      <td>29.74</td>\n",
              "      <td>NaN</td>\n",
              "      <td>29.74</td>\n",
              "      <td>29.74</td>\n",
              "      <td>29.74</td>\n",
              "      <td>29.74</td>\n",
              "      <td>29.74</td>\n",
              "      <td>29.74</td>\n",
              "      <td>29.74</td>\n",
              "      <td>66</td>\n",
              "    </tr>\n",
              "  </tbody>\n",
              "</table>\n",
              "<p>3 rows × 24 columns</p>\n",
              "</div>\n",
              "      <button class=\"colab-df-convert\" onclick=\"convertToInteractive('df-ba77067e-b0c0-4fa0-b654-02c4cbe34aa3')\"\n",
              "              title=\"Convert this dataframe to an interactive table.\"\n",
              "              style=\"display:none;\">\n",
              "        \n",
              "  <svg xmlns=\"http://www.w3.org/2000/svg\" height=\"24px\"viewBox=\"0 0 24 24\"\n",
              "       width=\"24px\">\n",
              "    <path d=\"M0 0h24v24H0V0z\" fill=\"none\"/>\n",
              "    <path d=\"M18.56 5.44l.94 2.06.94-2.06 2.06-.94-2.06-.94-.94-2.06-.94 2.06-2.06.94zm-11 1L8.5 8.5l.94-2.06 2.06-.94-2.06-.94L8.5 2.5l-.94 2.06-2.06.94zm10 10l.94 2.06.94-2.06 2.06-.94-2.06-.94-.94-2.06-.94 2.06-2.06.94z\"/><path d=\"M17.41 7.96l-1.37-1.37c-.4-.4-.92-.59-1.43-.59-.52 0-1.04.2-1.43.59L10.3 9.45l-7.72 7.72c-.78.78-.78 2.05 0 2.83L4 21.41c.39.39.9.59 1.41.59.51 0 1.02-.2 1.41-.59l7.78-7.78 2.81-2.81c.8-.78.8-2.07 0-2.86zM5.41 20L4 18.59l7.72-7.72 1.47 1.35L5.41 20z\"/>\n",
              "  </svg>\n",
              "      </button>\n",
              "      \n",
              "  <style>\n",
              "    .colab-df-container {\n",
              "      display:flex;\n",
              "      flex-wrap:wrap;\n",
              "      gap: 12px;\n",
              "    }\n",
              "\n",
              "    .colab-df-convert {\n",
              "      background-color: #E8F0FE;\n",
              "      border: none;\n",
              "      border-radius: 50%;\n",
              "      cursor: pointer;\n",
              "      display: none;\n",
              "      fill: #1967D2;\n",
              "      height: 32px;\n",
              "      padding: 0 0 0 0;\n",
              "      width: 32px;\n",
              "    }\n",
              "\n",
              "    .colab-df-convert:hover {\n",
              "      background-color: #E2EBFA;\n",
              "      box-shadow: 0px 1px 2px rgba(60, 64, 67, 0.3), 0px 1px 3px 1px rgba(60, 64, 67, 0.15);\n",
              "      fill: #174EA6;\n",
              "    }\n",
              "\n",
              "    [theme=dark] .colab-df-convert {\n",
              "      background-color: #3B4455;\n",
              "      fill: #D2E3FC;\n",
              "    }\n",
              "\n",
              "    [theme=dark] .colab-df-convert:hover {\n",
              "      background-color: #434B5C;\n",
              "      box-shadow: 0px 1px 3px 1px rgba(0, 0, 0, 0.15);\n",
              "      filter: drop-shadow(0px 1px 2px rgba(0, 0, 0, 0.3));\n",
              "      fill: #FFFFFF;\n",
              "    }\n",
              "  </style>\n",
              "\n",
              "      <script>\n",
              "        const buttonEl =\n",
              "          document.querySelector('#df-ba77067e-b0c0-4fa0-b654-02c4cbe34aa3 button.colab-df-convert');\n",
              "        buttonEl.style.display =\n",
              "          google.colab.kernel.accessAllowed ? 'block' : 'none';\n",
              "\n",
              "        async function convertToInteractive(key) {\n",
              "          const element = document.querySelector('#df-ba77067e-b0c0-4fa0-b654-02c4cbe34aa3');\n",
              "          const dataTable =\n",
              "            await google.colab.kernel.invokeFunction('convertToInteractive',\n",
              "                                                     [key], {});\n",
              "          if (!dataTable) return;\n",
              "\n",
              "          const docLinkHtml = 'Like what you see? Visit the ' +\n",
              "            '<a target=\"_blank\" href=https://colab.research.google.com/notebooks/data_table.ipynb>data table notebook</a>'\n",
              "            + ' to learn more about interactive tables.';\n",
              "          element.innerHTML = '';\n",
              "          dataTable['output_type'] = 'display_data';\n",
              "          await google.colab.output.renderOutput(dataTable, element);\n",
              "          const docLink = document.createElement('div');\n",
              "          docLink.innerHTML = docLinkHtml;\n",
              "          element.appendChild(docLink);\n",
              "        }\n",
              "      </script>\n",
              "    </div>\n",
              "  </div>\n",
              "  "
            ]
          },
          "metadata": {},
          "execution_count": 29
        }
      ]
    },
    {
      "cell_type": "code",
      "source": [
        "#datatable\n",
        "%time\n",
        "sortedDataDesc_dt = dt_df[:,:,dt.sort(-f.Age)]\n",
        "sortedDataDesc_dt.head(3)"
      ],
      "metadata": {
        "id": "Df2TnmkNIk3X",
        "colab": {
          "base_uri": "https://localhost:8080/",
          "height": 247
        },
        "outputId": "dcffc4c0-f9db-49fa-95bc-44408923ceff"
      },
      "execution_count": null,
      "outputs": [
        {
          "output_type": "stream",
          "name": "stdout",
          "text": [
            "CPU times: user 4 µs, sys: 0 ns, total: 4 µs\n",
            "Wall time: 8.58 µs\n"
          ]
        },
        {
          "output_type": "execute_result",
          "data": {
            "text/plain": [
              "<Frame#7fb878548ed0 3x24>"
            ],
            "text/html": [
              "<div class='datatable'>\n",
              "  <table class='frame'>\n",
              "  <thead>\n",
              "    <tr class='colnames'><td class='row_index'></td><th>BusinessYear</th><th>StateCode</th><th>IssuerId</th><th>SourceName</th><th>VersionNum</th><th>ImportDate</th><th>IssuerId2</th><th>FederalTIN</th><th>RateEffectiveDate</th><th>RateExpirationDate</th><th class='vellipsis'>&hellip;</th><th>PrimarySubscriberAndThreeOrMoreDependents</th><th>CoupleAndOneDependent</th><th>CoupleAndTwoDependents</th><th>CoupleAndThreeOrMoreDependents</th><th>RowNumber</th></tr>\n",
              "    <tr class='coltypes'><td class='row_index'></td><td class='int' title='int32'>&#x25AA;&#x25AA;&#x25AA;&#x25AA;</td><td class='str' title='str32'>&#x25AA;&#x25AA;&#x25AA;&#x25AA;</td><td class='int' title='int32'>&#x25AA;&#x25AA;&#x25AA;&#x25AA;</td><td class='str' title='str32'>&#x25AA;&#x25AA;&#x25AA;&#x25AA;</td><td class='int' title='int32'>&#x25AA;&#x25AA;&#x25AA;&#x25AA;</td><td class='time' title='time64'>&#x25AA;&#x25AA;&#x25AA;&#x25AA;&#x25AA;&#x25AA;&#x25AA;&#x25AA;</td><td class='int' title='int32'>&#x25AA;&#x25AA;&#x25AA;&#x25AA;</td><td class='str' title='str32'>&#x25AA;&#x25AA;&#x25AA;&#x25AA;</td><td class='time' title='date32'>&#x25AA;&#x25AA;&#x25AA;&#x25AA;</td><td class='time' title='date32'>&#x25AA;&#x25AA;&#x25AA;&#x25AA;</td><td></td><td class='float' title='float64'>&#x25AA;&#x25AA;&#x25AA;&#x25AA;&#x25AA;&#x25AA;&#x25AA;&#x25AA;</td><td class='float' title='float64'>&#x25AA;&#x25AA;&#x25AA;&#x25AA;&#x25AA;&#x25AA;&#x25AA;&#x25AA;</td><td class='float' title='float64'>&#x25AA;&#x25AA;&#x25AA;&#x25AA;&#x25AA;&#x25AA;&#x25AA;&#x25AA;</td><td class='float' title='float64'>&#x25AA;&#x25AA;&#x25AA;&#x25AA;&#x25AA;&#x25AA;&#x25AA;&#x25AA;</td><td class='int' title='int32'>&#x25AA;&#x25AA;&#x25AA;&#x25AA;</td></tr>\n",
              "  </thead>\n",
              "  <tbody>\n",
              "    <tr><td class='row_index'>0</td><td>2014</td><td>AK</td><td>21989</td><td>HIOS</td><td>6</td><td>2014-03-19<span class=sp>T</span>07:06:49</td><td>21989</td><td>93-0438772</td><td>2014-01-01</td><td>2014-12-31</td><td class=vellipsis>&hellip;</td><td>107.61</td><td>144.56</td><td>144.56</td><td>144.56</td><td>14</td></tr>\n",
              "    <tr><td class='row_index'>1</td><td>2014</td><td>AK</td><td>21989</td><td>HIOS</td><td>6</td><td>2014-03-19<span class=sp>T</span>07:06:49</td><td>21989</td><td>93-0438772</td><td>2014-01-01</td><td>2014-12-31</td><td class=vellipsis>&hellip;</td><td>107.61</td><td>144.56</td><td>144.56</td><td>144.56</td><td>15</td></tr>\n",
              "    <tr><td class='row_index'>2</td><td>2014</td><td>AK</td><td>21989</td><td>HIOS</td><td>6</td><td>2014-03-19<span class=sp>T</span>07:06:49</td><td>21989</td><td>93-0438772</td><td>2014-01-01</td><td>2014-12-31</td><td class=vellipsis>&hellip;</td><td>107.61</td><td>144.56</td><td>144.56</td><td>144.56</td><td>16</td></tr>\n",
              "  </tbody>\n",
              "  </table>\n",
              "  <div class='footer'>\n",
              "    <div class='frame_dimensions'>3 rows &times; 24 columns</div>\n",
              "  </div>\n",
              "</div>\n"
            ]
          },
          "metadata": {},
          "execution_count": 30
        }
      ]
    },
    {
      "cell_type": "markdown",
      "source": [
        "## Comparison of Pandas and DataTable"
      ],
      "metadata": {
        "id": "L871IqRAHmbS"
      }
    },
    {
      "cell_type": "code",
      "source": [
        "import pandas as pd\n",
        "import numpy as np\n",
        "import matplotlib.pyplot as plt\n",
        "\n",
        "index = ['Read data (seconds)','Print dataframe','Process dataframe','Dataframe shape',\n",
        "           'Column names','Column types','Unique values','Data Slicing',\n",
        "           'Data Filtering','Data Aggregation','Sort (ascending)','Sort (descending)']\n",
        "pandas_col = [50.08, 7.87, 7.63, 7.87, 7.15, 7.63, 8.34, 7.63, 8.34, 7.63, 8.34, 7.15]\n",
        "datatable_col = [14.96, 5.72, 5.96, 9.06, 9.06, 9.06, 5.72, 8.11, 8.11, 8.82, 10, 8.58]\n",
        "\n",
        "value = pd.DataFrame({'Pandas':pandas_col, 'DataTable':datatable_col},index = index)\n",
        "value"
      ],
      "metadata": {
        "colab": {
          "base_uri": "https://localhost:8080/",
          "height": 426
        },
        "id": "57Dq2rG4LQSp",
        "outputId": "9bbeba94-0962-43e3-ac8c-05f7ead6140e"
      },
      "execution_count": null,
      "outputs": [
        {
          "output_type": "execute_result",
          "data": {
            "text/plain": [
              "                     Pandas  DataTable\n",
              "Read data (seconds)   50.08      14.96\n",
              "Print dataframe        7.87       5.72\n",
              "Process dataframe      7.63       5.96\n",
              "Dataframe shape        7.87       9.06\n",
              "Column names           7.15       9.06\n",
              "Column types           7.63       9.06\n",
              "Unique values          8.34       5.72\n",
              "Data Slicing           7.63       8.11\n",
              "Data Filtering         8.34       8.11\n",
              "Data Aggregation       7.63       8.82\n",
              "Sort (ascending)       8.34      10.00\n",
              "Sort (descending)      7.15       8.58"
            ],
            "text/html": [
              "\n",
              "  <div id=\"df-e3447122-87ca-424e-ab9c-e2886c8d2942\">\n",
              "    <div class=\"colab-df-container\">\n",
              "      <div>\n",
              "<style scoped>\n",
              "    .dataframe tbody tr th:only-of-type {\n",
              "        vertical-align: middle;\n",
              "    }\n",
              "\n",
              "    .dataframe tbody tr th {\n",
              "        vertical-align: top;\n",
              "    }\n",
              "\n",
              "    .dataframe thead th {\n",
              "        text-align: right;\n",
              "    }\n",
              "</style>\n",
              "<table border=\"1\" class=\"dataframe\">\n",
              "  <thead>\n",
              "    <tr style=\"text-align: right;\">\n",
              "      <th></th>\n",
              "      <th>Pandas</th>\n",
              "      <th>DataTable</th>\n",
              "    </tr>\n",
              "  </thead>\n",
              "  <tbody>\n",
              "    <tr>\n",
              "      <th>Read data (seconds)</th>\n",
              "      <td>50.08</td>\n",
              "      <td>14.96</td>\n",
              "    </tr>\n",
              "    <tr>\n",
              "      <th>Print dataframe</th>\n",
              "      <td>7.87</td>\n",
              "      <td>5.72</td>\n",
              "    </tr>\n",
              "    <tr>\n",
              "      <th>Process dataframe</th>\n",
              "      <td>7.63</td>\n",
              "      <td>5.96</td>\n",
              "    </tr>\n",
              "    <tr>\n",
              "      <th>Dataframe shape</th>\n",
              "      <td>7.87</td>\n",
              "      <td>9.06</td>\n",
              "    </tr>\n",
              "    <tr>\n",
              "      <th>Column names</th>\n",
              "      <td>7.15</td>\n",
              "      <td>9.06</td>\n",
              "    </tr>\n",
              "    <tr>\n",
              "      <th>Column types</th>\n",
              "      <td>7.63</td>\n",
              "      <td>9.06</td>\n",
              "    </tr>\n",
              "    <tr>\n",
              "      <th>Unique values</th>\n",
              "      <td>8.34</td>\n",
              "      <td>5.72</td>\n",
              "    </tr>\n",
              "    <tr>\n",
              "      <th>Data Slicing</th>\n",
              "      <td>7.63</td>\n",
              "      <td>8.11</td>\n",
              "    </tr>\n",
              "    <tr>\n",
              "      <th>Data Filtering</th>\n",
              "      <td>8.34</td>\n",
              "      <td>8.11</td>\n",
              "    </tr>\n",
              "    <tr>\n",
              "      <th>Data Aggregation</th>\n",
              "      <td>7.63</td>\n",
              "      <td>8.82</td>\n",
              "    </tr>\n",
              "    <tr>\n",
              "      <th>Sort (ascending)</th>\n",
              "      <td>8.34</td>\n",
              "      <td>10.00</td>\n",
              "    </tr>\n",
              "    <tr>\n",
              "      <th>Sort (descending)</th>\n",
              "      <td>7.15</td>\n",
              "      <td>8.58</td>\n",
              "    </tr>\n",
              "  </tbody>\n",
              "</table>\n",
              "</div>\n",
              "      <button class=\"colab-df-convert\" onclick=\"convertToInteractive('df-e3447122-87ca-424e-ab9c-e2886c8d2942')\"\n",
              "              title=\"Convert this dataframe to an interactive table.\"\n",
              "              style=\"display:none;\">\n",
              "        \n",
              "  <svg xmlns=\"http://www.w3.org/2000/svg\" height=\"24px\"viewBox=\"0 0 24 24\"\n",
              "       width=\"24px\">\n",
              "    <path d=\"M0 0h24v24H0V0z\" fill=\"none\"/>\n",
              "    <path d=\"M18.56 5.44l.94 2.06.94-2.06 2.06-.94-2.06-.94-.94-2.06-.94 2.06-2.06.94zm-11 1L8.5 8.5l.94-2.06 2.06-.94-2.06-.94L8.5 2.5l-.94 2.06-2.06.94zm10 10l.94 2.06.94-2.06 2.06-.94-2.06-.94-.94-2.06-.94 2.06-2.06.94z\"/><path d=\"M17.41 7.96l-1.37-1.37c-.4-.4-.92-.59-1.43-.59-.52 0-1.04.2-1.43.59L10.3 9.45l-7.72 7.72c-.78.78-.78 2.05 0 2.83L4 21.41c.39.39.9.59 1.41.59.51 0 1.02-.2 1.41-.59l7.78-7.78 2.81-2.81c.8-.78.8-2.07 0-2.86zM5.41 20L4 18.59l7.72-7.72 1.47 1.35L5.41 20z\"/>\n",
              "  </svg>\n",
              "      </button>\n",
              "      \n",
              "  <style>\n",
              "    .colab-df-container {\n",
              "      display:flex;\n",
              "      flex-wrap:wrap;\n",
              "      gap: 12px;\n",
              "    }\n",
              "\n",
              "    .colab-df-convert {\n",
              "      background-color: #E8F0FE;\n",
              "      border: none;\n",
              "      border-radius: 50%;\n",
              "      cursor: pointer;\n",
              "      display: none;\n",
              "      fill: #1967D2;\n",
              "      height: 32px;\n",
              "      padding: 0 0 0 0;\n",
              "      width: 32px;\n",
              "    }\n",
              "\n",
              "    .colab-df-convert:hover {\n",
              "      background-color: #E2EBFA;\n",
              "      box-shadow: 0px 1px 2px rgba(60, 64, 67, 0.3), 0px 1px 3px 1px rgba(60, 64, 67, 0.15);\n",
              "      fill: #174EA6;\n",
              "    }\n",
              "\n",
              "    [theme=dark] .colab-df-convert {\n",
              "      background-color: #3B4455;\n",
              "      fill: #D2E3FC;\n",
              "    }\n",
              "\n",
              "    [theme=dark] .colab-df-convert:hover {\n",
              "      background-color: #434B5C;\n",
              "      box-shadow: 0px 1px 3px 1px rgba(0, 0, 0, 0.15);\n",
              "      filter: drop-shadow(0px 1px 2px rgba(0, 0, 0, 0.3));\n",
              "      fill: #FFFFFF;\n",
              "    }\n",
              "  </style>\n",
              "\n",
              "      <script>\n",
              "        const buttonEl =\n",
              "          document.querySelector('#df-e3447122-87ca-424e-ab9c-e2886c8d2942 button.colab-df-convert');\n",
              "        buttonEl.style.display =\n",
              "          google.colab.kernel.accessAllowed ? 'block' : 'none';\n",
              "\n",
              "        async function convertToInteractive(key) {\n",
              "          const element = document.querySelector('#df-e3447122-87ca-424e-ab9c-e2886c8d2942');\n",
              "          const dataTable =\n",
              "            await google.colab.kernel.invokeFunction('convertToInteractive',\n",
              "                                                     [key], {});\n",
              "          if (!dataTable) return;\n",
              "\n",
              "          const docLinkHtml = 'Like what you see? Visit the ' +\n",
              "            '<a target=\"_blank\" href=https://colab.research.google.com/notebooks/data_table.ipynb>data table notebook</a>'\n",
              "            + ' to learn more about interactive tables.';\n",
              "          element.innerHTML = '';\n",
              "          dataTable['output_type'] = 'display_data';\n",
              "          await google.colab.output.renderOutput(dataTable, element);\n",
              "          const docLink = document.createElement('div');\n",
              "          docLink.innerHTML = docLinkHtml;\n",
              "          element.appendChild(docLink);\n",
              "        }\n",
              "      </script>\n",
              "    </div>\n",
              "  </div>\n",
              "  "
            ]
          },
          "metadata": {},
          "execution_count": 14
        }
      ]
    },
    {
      "cell_type": "code",
      "source": [
        "ax = value.plot.bar(rot=0)\n",
        "plt.xticks(rotation=90)"
      ],
      "metadata": {
        "colab": {
          "base_uri": "https://localhost:8080/",
          "height": 393
        },
        "id": "vKJGNEmxN6LD",
        "outputId": "c54616bb-e4e9-4339-fdd6-ee8ac7e57086"
      },
      "execution_count": null,
      "outputs": [
        {
          "output_type": "execute_result",
          "data": {
            "text/plain": [
              "(array([ 0,  1,  2,  3,  4,  5,  6,  7,  8,  9, 10, 11]),\n",
              " <a list of 12 Text major ticklabel objects>)"
            ]
          },
          "metadata": {},
          "execution_count": 17
        },
        {
          "output_type": "display_data",
          "data": {
            "text/plain": [
              "<Figure size 432x288 with 1 Axes>"
            ],
            "image/png": "[encoded data removed]"
          },
          "metadata": {
            "needs_background": "light"
          }
        }
      ]
    },
    {
      "cell_type": "markdown",
      "source": [
        "According to the bar graphs above, there are a few processes where DataTable execute faster than Pandas which are read data, printing dataframe, process dataframe time, getting unique values. \n",
        "\n",
        "Besides, there is a small difference in execution time for data filtering where DataTable is 8.11 µs while Pandas is 8.34 µs.\n",
        "\n",
        "The process with largest different in exection time would be looking for unique values for each columns where Pandas takes 8.34 µs while DataTable only takes 5.72 µs to process the result. \n",
        "\n",
        "Other than that, the remaining processes all shows longer execution time for DataTable compared to Pandas. The longest execution time (10 µs) that DataTable took to process is to sort the data based on age in an increasing order.\n",
        "\n",
        "In conclusion, faster execution time indicates better performance. DataTable has better performance than Pandas in terms of reading data. "
      ],
      "metadata": {
        "id": "8cjt0RkdON7P"
      }
    }
  ],
  "metadata": {
    "kernelspec": {
      "display_name": "Python 3",
      "language": "python",
      "name": "python3"
    },
    "language_info": {
      "codemirror_mode": {
        "name": "ipython",
        "version": 3
      },
      "file_extension": ".py",
      "mimetype": "text/x-python",
      "name": "python",
      "nbconvert_exporter": "python",
      "pygments_lexer": "ipython3",
      "version": "3.8.5"
    },
    "colab": {
      "provenance": [],
      "include_colab_link": true
    }
  },
  "nbformat": 4,
  "nbformat_minor": 0
}
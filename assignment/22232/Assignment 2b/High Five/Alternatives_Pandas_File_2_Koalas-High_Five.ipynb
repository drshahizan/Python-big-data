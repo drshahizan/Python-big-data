{
  "nbformat": 4,
  "nbformat_minor": 0,
  "metadata": {
    "colab": {
      "provenance": [],
      "include_colab_link": true
    },
    "kernelspec": {
      "name": "python3",
      "display_name": "Python 3"
    },
    "language_info": {
      "name": "python"
    }
  },
  "cells": [
    {
      "cell_type": "markdown",
      "metadata": {
        "id": "view-in-github",
        "colab_type": "text"
      },
      "source": [
        "<a href=\"https://colab.research.google.com/github/drshahizan/Python-big-data/blob/main/Assignment%202b/High%20Five/New_AlternativesPandas_File_2_Koalas.ipynb\" target=\"_parent\"><img src=\"https://colab.research.google.com/assets/colab-badge.svg\" alt=\"Open In Colab\"/></a>"
      ]
    },
    {
      "cell_type": "markdown",
      "source": [
        "**<h1> COMPARISON BETWEEN PANDAS AND KOALAS LIBRARY ON HEALTH INSURANCE MARKETPLACE DATASET 🏥<h1>**\n",
        "\n",
        "\n",
        "---\n",
        "\n",
        "\n",
        "\n",
        "**Group Members:**\n",
        "\n",
        "<table width = 700>\n",
        "  <tr>\n",
        "    <th>Name</th>\n",
        "    <th>Matric</th>\n",
        "  </tr>\n",
        "  <tr>\n",
        "    <th>AHMAD MUHAIMIN BIN AHMAD HAMBALI</th>\n",
        "    <th>A20EC0006</th>\n",
        "  </tr>\n",
        "  <tr>\n",
        "    <th>NAYLI NABIHAH BINTI JASNI</th>\n",
        "    <th>A20EC0105</th>\n",
        "  </tr>\n",
        "    <tr>\n",
        "    <th>SAKINAH AL’IZZAH BINTI MOHD ASRI</th>\n",
        "    <th>A20EC0142</th>\n",
        "  </tr>\n",
        "    <tr>\n",
        "    <th>LEE JIA XIAN</th>\n",
        "    <th>A20EC0200</th>\n",
        "  </tr>\n",
        "</table> "
      ],
      "metadata": {
        "id": "4NUIVBDg0lyz"
      }
    },
    {
      "cell_type": "markdown",
      "source": [
        "#### Install all the needed libraries"
      ],
      "metadata": {
        "id": "W74x0SsA0laF"
      }
    },
    {
      "cell_type": "code",
      "execution_count": null,
      "metadata": {
        "colab": {
          "base_uri": "https://localhost:8080/"
        },
        "id": "qLDVUwE2zVt3",
        "outputId": "669c220d-0067-45e3-a156-420f0321edaa"
      },
      "outputs": [
        {
          "output_type": "stream",
          "name": "stdout",
          "text": [
            "Looking in indexes: https://pypi.org/simple, https://us-python.pkg.dev/colab-wheels/public/simple/\n",
            "Requirement already satisfied: koalas in /usr/local/lib/python3.8/dist-packages (1.8.2)\n",
            "Requirement already satisfied: pyarrow>=0.10 in /usr/local/lib/python3.8/dist-packages (from koalas) (9.0.0)\n",
            "Requirement already satisfied: pandas>=0.23.2 in /usr/local/lib/python3.8/dist-packages (from koalas) (1.3.5)\n",
            "Requirement already satisfied: numpy>=1.14 in /usr/local/lib/python3.8/dist-packages (from koalas) (1.21.6)\n",
            "Requirement already satisfied: python-dateutil>=2.7.3 in /usr/local/lib/python3.8/dist-packages (from pandas>=0.23.2->koalas) (2.8.2)\n",
            "Requirement already satisfied: pytz>=2017.3 in /usr/local/lib/python3.8/dist-packages (from pandas>=0.23.2->koalas) (2022.7)\n",
            "Requirement already satisfied: six>=1.5 in /usr/local/lib/python3.8/dist-packages (from python-dateutil>=2.7.3->pandas>=0.23.2->koalas) (1.15.0)\n",
            "Looking in indexes: https://pypi.org/simple, https://us-python.pkg.dev/colab-wheels/public/simple/\n",
            "Requirement already satisfied: pyspark in /usr/local/lib/python3.8/dist-packages (3.3.1)\n",
            "Requirement already satisfied: py4j==0.10.9.5 in /usr/local/lib/python3.8/dist-packages (from pyspark) (0.10.9.5)\n"
          ]
        }
      ],
      "source": [
        "!pip install koalas\n",
        "!pip install pyspark"
      ]
    },
    {
      "cell_type": "markdown",
      "source": [
        "#### Import all related libraries"
      ],
      "metadata": {
        "id": "8vLXnyUrd0jc"
      }
    },
    {
      "cell_type": "code",
      "source": [
        "import pandas as pd\n",
        "import numpy as np\n",
        "import databricks.koalas as ks\n",
        "from pyspark.sql import SparkSession"
      ],
      "metadata": {
        "colab": {
          "base_uri": "https://localhost:8080/"
        },
        "id": "FF2KyXlk0VhE",
        "outputId": "b430901e-f37a-431c-dceb-9f5400a6b0a8"
      },
      "execution_count": null,
      "outputs": [
        {
          "output_type": "stream",
          "name": "stderr",
          "text": [
            "WARNING:root:Found pyspark version \"3.3.1\" installed. The pyspark version 3.2 and above has a built-in \"pandas APIs on Spark\" module ported from Koalas. Try `import pyspark.pandas as ps` instead. \n",
            "WARNING:root:'PYARROW_IGNORE_TIMEZONE' environment variable was not set. It is required to set this environment variable to '1' in both driver and executor sides if you use pyarrow>=2.0.0. Koalas will set it for you but it does not work if there is a Spark context already launched.\n"
          ]
        }
      ]
    },
    {
      "cell_type": "markdown",
      "source": [
        "#### Read the dataset"
      ],
      "metadata": {
        "id": "M09P4z2-eFdF"
      }
    },
    {
      "cell_type": "code",
      "source": [
        "# Read dataset from google drive\n",
        "!pip install -U -q PyDrive\n",
        "from pydrive.auth import GoogleAuth\n",
        "from pydrive.drive import GoogleDrive\n",
        "from google.colab import auth\n",
        "from oauth2client.client import GoogleCredentials\n",
        "\n",
        "# Authenticate and create the PyDrive client.\n",
        "auth.authenticate_user()\n",
        "gauth = GoogleAuth()\n",
        "gauth.credentials = GoogleCredentials.get_application_default()\n",
        "drive = GoogleDrive(gauth)\n",
        "link = 'https://drive.google.com/file/d/1vjPUP6g8ps0qNWQgybAEUrMULMwprsjy/view?usp=sharing'\n",
        "# to get the id part of the file\n",
        "id = link.split(\"/\")[-2]\n",
        " \n",
        "downloaded = drive.CreateFile({'id':id})\n",
        "downloaded.GetContentFile('Rate_koalas.csv') "
      ],
      "metadata": {
        "id": "zjTMIRQi1AjK"
      },
      "execution_count": null,
      "outputs": []
    },
    {
      "cell_type": "markdown",
      "source": [
        "**<h3> COMPARISON BETWEEN KOALAS AND PANDAS </h3>**\n",
        "\n",
        "\n",
        "Pandas is an open-source data analysis and manipulation tool built on top of the Python programming language that is fast, powerful, flexible, and simple to use.\n",
        "\n",
        "The Koalas project makes data scientists more productive when interacting with big data by implementing the pandas DataFrame API on top of Apache Spark.\n",
        "\n",
        "The comparison of koalas and pandas is done to determine which libraries are more effiecient to use in health insurance marketplace dataset."
      ],
      "metadata": {
        "id": "E4lMY9PqeJqH"
      }
    },
    {
      "cell_type": "markdown",
      "source": [
        "**<h4> COMPARISON BETWEEN READ CSV <h4>**"
      ],
      "metadata": {
        "id": "m5ukbgB98CYp"
      }
    },
    {
      "cell_type": "code",
      "source": [
        "%time kdf = ks.read_csv('Rate_koalas.csv')"
      ],
      "metadata": {
        "colab": {
          "base_uri": "https://localhost:8080/"
        },
        "id": "w3EgCVNh1g-x",
        "outputId": "ae2125fa-68fd-4b40-e469-8c648350c007"
      },
      "execution_count": null,
      "outputs": [
        {
          "output_type": "stream",
          "name": "stdout",
          "text": [
            "CPU times: user 576 ms, sys: 197 ms, total: 774 ms\n",
            "Wall time: 1min 23s\n"
          ]
        }
      ]
    },
    {
      "cell_type": "code",
      "source": [
        "%time df = pd.read_csv('Rate_koalas.csv')"
      ],
      "metadata": {
        "colab": {
          "base_uri": "https://localhost:8080/"
        },
        "id": "s4r3omCi2FJT",
        "outputId": "0ffbe19f-df5e-45fc-cee1-0577a0f7bb9b"
      },
      "execution_count": null,
      "outputs": [
        {
          "output_type": "stream",
          "name": "stdout",
          "text": [
            "CPU times: user 36 s, sys: 6.21 s, total: 42.2 s\n",
            "Wall time: 46.3 s\n"
          ]
        }
      ]
    },
    {
      "cell_type": "markdown",
      "source": [
        "Pandas complete the file in **46.3 seconds**, while koalas take **1 minute and 23 seconds**. Pandas run faster than koalas due to the fact that the dataset used fits within a single node. However, koalas outperform pandas better when execute the file by depending on other things that were keeping the computer busy. Based on CPU times, koalas completed the file execution in miliseconds as compared to seconds for pandas.\n",
        "\n"
      ],
      "metadata": {
        "id": "ILz2Jg3nU89h"
      }
    },
    {
      "cell_type": "markdown",
      "source": [
        "**<h4> COMPARISON BETWEEN MEAN FROM ONE COLUMN<h4>**"
      ],
      "metadata": {
        "id": "Lksd4W_B7__1"
      }
    },
    {
      "cell_type": "code",
      "source": [
        "%time kdf[\"Couple\"].mean()"
      ],
      "metadata": {
        "colab": {
          "base_uri": "https://localhost:8080/"
        },
        "id": "idpSMIZbTthQ",
        "outputId": "ca4ec244-6a05-4327-e902-473cd6118755"
      },
      "execution_count": null,
      "outputs": [
        {
          "output_type": "stream",
          "name": "stdout",
          "text": [
            "CPU times: user 152 ms, sys: 20.2 ms, total: 172 ms\n",
            "Wall time: 21.7 s\n"
          ]
        },
        {
          "output_type": "execute_result",
          "data": {
            "text/plain": [
              "48.115714320607594"
            ]
          },
          "metadata": {},
          "execution_count": 7
        }
      ]
    },
    {
      "cell_type": "code",
      "source": [
        "%time df[\"Couple\"].mean()"
      ],
      "metadata": {
        "colab": {
          "base_uri": "https://localhost:8080/"
        },
        "id": "ntcHseleXPkZ",
        "outputId": "f3627bcd-272c-4bd5-d1c0-c082d2c59780"
      },
      "execution_count": null,
      "outputs": [
        {
          "output_type": "stream",
          "name": "stdout",
          "text": [
            "CPU times: user 97.5 ms, sys: 9.07 ms, total: 107 ms\n",
            "Wall time: 107 ms\n"
          ]
        },
        {
          "output_type": "execute_result",
          "data": {
            "text/plain": [
              "48.11571432060767"
            ]
          },
          "metadata": {},
          "execution_count": 8
        }
      ]
    },
    {
      "cell_type": "markdown",
      "source": [
        "Pandas are faster than Koalas at executing the mean value from the \"Couple\" column. The mean value from koalas, on the other hand, is more precise because it has more digits to the right of the decimal point.\n",
        "\n"
      ],
      "metadata": {
        "id": "fJkexc1gqFML"
      }
    },
    {
      "cell_type": "markdown",
      "source": [
        "**<h4> COMPARISON OF BAR CHART <h4>**"
      ],
      "metadata": {
        "id": "db_bssrs-oEY"
      }
    },
    {
      "cell_type": "code",
      "source": [
        "%time kdf['RatingAreaId'].value_counts().plot.bar()"
      ],
      "metadata": {
        "colab": {
          "base_uri": "https://localhost:8080/",
          "height": 577
        },
        "id": "87tJydnkZhzz",
        "outputId": "7b823bfd-a7ea-4362-d5c0-a88cb5997ed1"
      },
      "execution_count": null,
      "outputs": [
        {
          "output_type": "stream",
          "name": "stdout",
          "text": [
            "CPU times: user 1.06 s, sys: 216 ms, total: 1.28 s\n",
            "Wall time: 25.6 s\n"
          ]
        },
        {
          "output_type": "display_data",
          "data": {
            "text/html": [
              "<html>\n",
              "<head><meta charset=\"utf-8\" /></head>\n",
              "<body>\n",
              "    <div>            <script src=\"https://cdnjs.cloudflare.com/ajax/libs/mathjax/2.7.5/MathJax.js?config=TeX-AMS-MML_SVG\"></script><script type=\"text/javascript\">if (window.MathJax) {MathJax.Hub.Config({SVG: {font: \"STIX-Web\"}});}</script>                <script type=\"text/javascript\">window.PlotlyConfig = {MathJaxConfig: 'local'};</script>\n",
              "        <script src=\"https://cdn.plot.ly/plotly-2.8.3.min.js\"></script>                <div id=\"0455a939-3164-4881-bf72-e7e990d0a8ca\" class=\"plotly-graph-div\" style=\"height:525px; width:100%;\"></div>            <script type=\"text/javascript\">                                    window.PLOTLYENV=window.PLOTLYENV || {};                                    if (document.getElementById(\"0455a939-3164-4881-bf72-e7e990d0a8ca\")) {                    Plotly.newPlot(                        \"0455a939-3164-4881-bf72-e7e990d0a8ca\",                        [{\"alignmentgroup\":\"True\",\"hovertemplate\":\"variable=RatingAreaId<br>index=%{x}<br>value=%{y}<extra></extra>\",\"legendgroup\":\"RatingAreaId\",\"marker\":{\"color\":\"#636efa\",\"pattern\":{\"shape\":\"\"}},\"name\":\"RatingAreaId\",\"offsetgroup\":\"RatingAreaId\",\"orientation\":\"v\",\"showlegend\":true,\"textposition\":\"auto\",\"x\":[\"Rating Area 1\",\"Rating Area 2\",\"Rating Area 3\",\"Rating Area 4\",\"Rating Area 5\",\"Rating Area 6\",\"Rating Area 7\",\"Rating Area 8\",\"Rating Area 10\",\"Rating Area 11\",\"Rating Area 9\",\"Rating Area 12\",\"Rating Area 15\",\"Rating Area 14\",\"Rating Area 13\",\"Rating Area 16\",\"Rating Area 17\",\"Rating Area 26\",\"Rating Area 30\",\"Rating Area 64\",\"Rating Area 24\",\"Rating Area 19\",\"Rating Area 20\",\"Rating Area 25\",\"Rating Area 22\",\"Rating Area 18\",\"Rating Area 21\",\"Rating Area 23\",\"Rating Area 43\",\"Rating Area 28\",\"Rating Area 34\",\"Rating Area 57\",\"Rating Area 42\",\"Rating Area 40\",\"Rating Area 41\",\"Rating Area 46\",\"Rating Area 35\",\"Rating Area 45\",\"Rating Area 37\",\"Rating Area 27\",\"Rating Area 36\",\"Rating Area 32\",\"Rating Area 38\",\"Rating Area 44\",\"Rating Area 29\",\"Rating Area 31\",\"Rating Area 33\",\"Rating Area 39\",\"Rating Area 50\",\"Rating Area 52\",\"Rating Area 51\",\"Rating Area 53\",\"Rating Area 49\",\"Rating Area 48\",\"Rating Area 56\",\"Rating Area 60\",\"Rating Area 58\",\"Rating Area 55\",\"Rating Area 66\",\"Rating Area 59\",\"Rating Area 47\",\"Rating Area 61\",\"Rating Area 54\",\"Rating Area 65\",\"Rating Area 62\",\"Rating Area 63\",\"Rating Area 67\"],\"xaxis\":\"x\",\"y\":[978906,934953,920486,907736,823124,777974,689508,560491,483493,471504,471029,429436,417292,390428,385947,361632,214441,100678,99023,89253,88994,88028,84624,82554,82232,82048,81128,80714,64758,60843,59233,58249,57485,56703,56381,56335,54955,54035,53667,53069,51873,51643,51505,51321,51321,50723,50723,50723,30240,26371,26371,26187,25405,25405,23841,22921,22829,22737,22001,21265,20253,19977,17309,17033,17033,17033,17033],\"yaxis\":\"y\",\"type\":\"bar\"}],                        {\"template\":{\"data\":{\"bar\":[{\"error_x\":{\"color\":\"#2a3f5f\"},\"error_y\":{\"color\":\"#2a3f5f\"},\"marker\":{\"line\":{\"color\":\"#E5ECF6\",\"width\":0.5},\"pattern\":{\"fillmode\":\"overlay\",\"size\":10,\"solidity\":0.2}},\"type\":\"bar\"}],\"barpolar\":[{\"marker\":{\"line\":{\"color\":\"#E5ECF6\",\"width\":0.5},\"pattern\":{\"fillmode\":\"overlay\",\"size\":10,\"solidity\":0.2}},\"type\":\"barpolar\"}],\"carpet\":[{\"aaxis\":{\"endlinecolor\":\"#2a3f5f\",\"gridcolor\":\"white\",\"linecolor\":\"white\",\"minorgridcolor\":\"white\",\"startlinecolor\":\"#2a3f5f\"},\"baxis\":{\"endlinecolor\":\"#2a3f5f\",\"gridcolor\":\"white\",\"linecolor\":\"white\",\"minorgridcolor\":\"white\",\"startlinecolor\":\"#2a3f5f\"},\"type\":\"carpet\"}],\"choropleth\":[{\"colorbar\":{\"outlinewidth\":0,\"ticks\":\"\"},\"type\":\"choropleth\"}],\"contour\":[{\"colorbar\":{\"outlinewidth\":0,\"ticks\":\"\"},\"colorscale\":[[0.0,\"#0d0887\"],[0.1111111111111111,\"#46039f\"],[0.2222222222222222,\"#7201a8\"],[0.3333333333333333,\"#9c179e\"],[0.4444444444444444,\"#bd3786\"],[0.5555555555555556,\"#d8576b\"],[0.6666666666666666,\"#ed7953\"],[0.7777777777777778,\"#fb9f3a\"],[0.8888888888888888,\"#fdca26\"],[1.0,\"#f0f921\"]],\"type\":\"contour\"}],\"contourcarpet\":[{\"colorbar\":{\"outlinewidth\":0,\"ticks\":\"\"},\"type\":\"contourcarpet\"}],\"heatmap\":[{\"colorbar\":{\"outlinewidth\":0,\"ticks\":\"\"},\"colorscale\":[[0.0,\"#0d0887\"],[0.1111111111111111,\"#46039f\"],[0.2222222222222222,\"#7201a8\"],[0.3333333333333333,\"#9c179e\"],[0.4444444444444444,\"#bd3786\"],[0.5555555555555556,\"#d8576b\"],[0.6666666666666666,\"#ed7953\"],[0.7777777777777778,\"#fb9f3a\"],[0.8888888888888888,\"#fdca26\"],[1.0,\"#f0f921\"]],\"type\":\"heatmap\"}],\"heatmapgl\":[{\"colorbar\":{\"outlinewidth\":0,\"ticks\":\"\"},\"colorscale\":[[0.0,\"#0d0887\"],[0.1111111111111111,\"#46039f\"],[0.2222222222222222,\"#7201a8\"],[0.3333333333333333,\"#9c179e\"],[0.4444444444444444,\"#bd3786\"],[0.5555555555555556,\"#d8576b\"],[0.6666666666666666,\"#ed7953\"],[0.7777777777777778,\"#fb9f3a\"],[0.8888888888888888,\"#fdca26\"],[1.0,\"#f0f921\"]],\"type\":\"heatmapgl\"}],\"histogram\":[{\"marker\":{\"pattern\":{\"fillmode\":\"overlay\",\"size\":10,\"solidity\":0.2}},\"type\":\"histogram\"}],\"histogram2d\":[{\"colorbar\":{\"outlinewidth\":0,\"ticks\":\"\"},\"colorscale\":[[0.0,\"#0d0887\"],[0.1111111111111111,\"#46039f\"],[0.2222222222222222,\"#7201a8\"],[0.3333333333333333,\"#9c179e\"],[0.4444444444444444,\"#bd3786\"],[0.5555555555555556,\"#d8576b\"],[0.6666666666666666,\"#ed7953\"],[0.7777777777777778,\"#fb9f3a\"],[0.8888888888888888,\"#fdca26\"],[1.0,\"#f0f921\"]],\"type\":\"histogram2d\"}],\"histogram2dcontour\":[{\"colorbar\":{\"outlinewidth\":0,\"ticks\":\"\"},\"colorscale\":[[0.0,\"#0d0887\"],[0.1111111111111111,\"#46039f\"],[0.2222222222222222,\"#7201a8\"],[0.3333333333333333,\"#9c179e\"],[0.4444444444444444,\"#bd3786\"],[0.5555555555555556,\"#d8576b\"],[0.6666666666666666,\"#ed7953\"],[0.7777777777777778,\"#fb9f3a\"],[0.8888888888888888,\"#fdca26\"],[1.0,\"#f0f921\"]],\"type\":\"histogram2dcontour\"}],\"mesh3d\":[{\"colorbar\":{\"outlinewidth\":0,\"ticks\":\"\"},\"type\":\"mesh3d\"}],\"parcoords\":[{\"line\":{\"colorbar\":{\"outlinewidth\":0,\"ticks\":\"\"}},\"type\":\"parcoords\"}],\"pie\":[{\"automargin\":true,\"type\":\"pie\"}],\"scatter\":[{\"marker\":{\"colorbar\":{\"outlinewidth\":0,\"ticks\":\"\"}},\"type\":\"scatter\"}],\"scatter3d\":[{\"line\":{\"colorbar\":{\"outlinewidth\":0,\"ticks\":\"\"}},\"marker\":{\"colorbar\":{\"outlinewidth\":0,\"ticks\":\"\"}},\"type\":\"scatter3d\"}],\"scattercarpet\":[{\"marker\":{\"colorbar\":{\"outlinewidth\":0,\"ticks\":\"\"}},\"type\":\"scattercarpet\"}],\"scattergeo\":[{\"marker\":{\"colorbar\":{\"outlinewidth\":0,\"ticks\":\"\"}},\"type\":\"scattergeo\"}],\"scattergl\":[{\"marker\":{\"colorbar\":{\"outlinewidth\":0,\"ticks\":\"\"}},\"type\":\"scattergl\"}],\"scattermapbox\":[{\"marker\":{\"colorbar\":{\"outlinewidth\":0,\"ticks\":\"\"}},\"type\":\"scattermapbox\"}],\"scatterpolar\":[{\"marker\":{\"colorbar\":{\"outlinewidth\":0,\"ticks\":\"\"}},\"type\":\"scatterpolar\"}],\"scatterpolargl\":[{\"marker\":{\"colorbar\":{\"outlinewidth\":0,\"ticks\":\"\"}},\"type\":\"scatterpolargl\"}],\"scatterternary\":[{\"marker\":{\"colorbar\":{\"outlinewidth\":0,\"ticks\":\"\"}},\"type\":\"scatterternary\"}],\"surface\":[{\"colorbar\":{\"outlinewidth\":0,\"ticks\":\"\"},\"colorscale\":[[0.0,\"#0d0887\"],[0.1111111111111111,\"#46039f\"],[0.2222222222222222,\"#7201a8\"],[0.3333333333333333,\"#9c179e\"],[0.4444444444444444,\"#bd3786\"],[0.5555555555555556,\"#d8576b\"],[0.6666666666666666,\"#ed7953\"],[0.7777777777777778,\"#fb9f3a\"],[0.8888888888888888,\"#fdca26\"],[1.0,\"#f0f921\"]],\"type\":\"surface\"}],\"table\":[{\"cells\":{\"fill\":{\"color\":\"#EBF0F8\"},\"line\":{\"color\":\"white\"}},\"header\":{\"fill\":{\"color\":\"#C8D4E3\"},\"line\":{\"color\":\"white\"}},\"type\":\"table\"}]},\"layout\":{\"annotationdefaults\":{\"arrowcolor\":\"#2a3f5f\",\"arrowhead\":0,\"arrowwidth\":1},\"autotypenumbers\":\"strict\",\"coloraxis\":{\"colorbar\":{\"outlinewidth\":0,\"ticks\":\"\"}},\"colorscale\":{\"diverging\":[[0,\"#8e0152\"],[0.1,\"#c51b7d\"],[0.2,\"#de77ae\"],[0.3,\"#f1b6da\"],[0.4,\"#fde0ef\"],[0.5,\"#f7f7f7\"],[0.6,\"#e6f5d0\"],[0.7,\"#b8e186\"],[0.8,\"#7fbc41\"],[0.9,\"#4d9221\"],[1,\"#276419\"]],\"sequential\":[[0.0,\"#0d0887\"],[0.1111111111111111,\"#46039f\"],[0.2222222222222222,\"#7201a8\"],[0.3333333333333333,\"#9c179e\"],[0.4444444444444444,\"#bd3786\"],[0.5555555555555556,\"#d8576b\"],[0.6666666666666666,\"#ed7953\"],[0.7777777777777778,\"#fb9f3a\"],[0.8888888888888888,\"#fdca26\"],[1.0,\"#f0f921\"]],\"sequentialminus\":[[0.0,\"#0d0887\"],[0.1111111111111111,\"#46039f\"],[0.2222222222222222,\"#7201a8\"],[0.3333333333333333,\"#9c179e\"],[0.4444444444444444,\"#bd3786\"],[0.5555555555555556,\"#d8576b\"],[0.6666666666666666,\"#ed7953\"],[0.7777777777777778,\"#fb9f3a\"],[0.8888888888888888,\"#fdca26\"],[1.0,\"#f0f921\"]]},\"colorway\":[\"#636efa\",\"#EF553B\",\"#00cc96\",\"#ab63fa\",\"#FFA15A\",\"#19d3f3\",\"#FF6692\",\"#B6E880\",\"#FF97FF\",\"#FECB52\"],\"font\":{\"color\":\"#2a3f5f\"},\"geo\":{\"bgcolor\":\"white\",\"lakecolor\":\"white\",\"landcolor\":\"#E5ECF6\",\"showlakes\":true,\"showland\":true,\"subunitcolor\":\"white\"},\"hoverlabel\":{\"align\":\"left\"},\"hovermode\":\"closest\",\"mapbox\":{\"style\":\"light\"},\"paper_bgcolor\":\"white\",\"plot_bgcolor\":\"#E5ECF6\",\"polar\":{\"angularaxis\":{\"gridcolor\":\"white\",\"linecolor\":\"white\",\"ticks\":\"\"},\"bgcolor\":\"#E5ECF6\",\"radialaxis\":{\"gridcolor\":\"white\",\"linecolor\":\"white\",\"ticks\":\"\"}},\"scene\":{\"xaxis\":{\"backgroundcolor\":\"#E5ECF6\",\"gridcolor\":\"white\",\"gridwidth\":2,\"linecolor\":\"white\",\"showbackground\":true,\"ticks\":\"\",\"zerolinecolor\":\"white\"},\"yaxis\":{\"backgroundcolor\":\"#E5ECF6\",\"gridcolor\":\"white\",\"gridwidth\":2,\"linecolor\":\"white\",\"showbackground\":true,\"ticks\":\"\",\"zerolinecolor\":\"white\"},\"zaxis\":{\"backgroundcolor\":\"#E5ECF6\",\"gridcolor\":\"white\",\"gridwidth\":2,\"linecolor\":\"white\",\"showbackground\":true,\"ticks\":\"\",\"zerolinecolor\":\"white\"}},\"shapedefaults\":{\"line\":{\"color\":\"#2a3f5f\"}},\"ternary\":{\"aaxis\":{\"gridcolor\":\"white\",\"linecolor\":\"white\",\"ticks\":\"\"},\"baxis\":{\"gridcolor\":\"white\",\"linecolor\":\"white\",\"ticks\":\"\"},\"bgcolor\":\"#E5ECF6\",\"caxis\":{\"gridcolor\":\"white\",\"linecolor\":\"white\",\"ticks\":\"\"}},\"title\":{\"x\":0.05},\"xaxis\":{\"automargin\":true,\"gridcolor\":\"white\",\"linecolor\":\"white\",\"ticks\":\"\",\"title\":{\"standoff\":15},\"zerolinecolor\":\"white\",\"zerolinewidth\":2},\"yaxis\":{\"automargin\":true,\"gridcolor\":\"white\",\"linecolor\":\"white\",\"ticks\":\"\",\"title\":{\"standoff\":15},\"zerolinecolor\":\"white\",\"zerolinewidth\":2}}},\"xaxis\":{\"anchor\":\"y\",\"domain\":[0.0,1.0],\"title\":{\"text\":\"index\"}},\"yaxis\":{\"anchor\":\"x\",\"domain\":[0.0,1.0],\"title\":{\"text\":\"value\"}},\"legend\":{\"title\":{\"text\":\"variable\"},\"tracegroupgap\":0},\"margin\":{\"t\":60},\"barmode\":\"relative\"},                        {\"responsive\": true}                    ).then(function(){\n",
              "                            \n",
              "var gd = document.getElementById('0455a939-3164-4881-bf72-e7e990d0a8ca');\n",
              "var x = new MutationObserver(function (mutations, observer) {{\n",
              "        var display = window.getComputedStyle(gd).display;\n",
              "        if (!display || display === 'none') {{\n",
              "            console.log([gd, 'removed!']);\n",
              "            Plotly.purge(gd);\n",
              "            observer.disconnect();\n",
              "        }}\n",
              "}});\n",
              "\n",
              "// Listen for the removal of the full notebook cells\n",
              "var notebookContainer = gd.closest('#notebook-container');\n",
              "if (notebookContainer) {{\n",
              "    x.observe(notebookContainer, {childList: true});\n",
              "}}\n",
              "\n",
              "// Listen for the clearing of the current output cell\n",
              "var outputEl = gd.closest('.output');\n",
              "if (outputEl) {{\n",
              "    x.observe(outputEl, {childList: true});\n",
              "}}\n",
              "\n",
              "                        })                };                            </script>        </div>\n",
              "</body>\n",
              "</html>"
            ]
          },
          "metadata": {}
        }
      ]
    },
    {
      "cell_type": "code",
      "source": [
        "%time df['RatingAreaId'].value_counts().plot(kind = 'bar')"
      ],
      "metadata": {
        "colab": {
          "base_uri": "https://localhost:8080/",
          "height": 393
        },
        "id": "sXynywNB--qN",
        "outputId": "cf044676-4241-49de-eb5b-f9ac4f985bb4"
      },
      "execution_count": null,
      "outputs": [
        {
          "output_type": "stream",
          "name": "stdout",
          "text": [
            "CPU times: user 1.17 s, sys: 13.6 ms, total: 1.19 s\n",
            "Wall time: 1.21 s\n"
          ]
        },
        {
          "output_type": "execute_result",
          "data": {
            "text/plain": [
              "<matplotlib.axes._subplots.AxesSubplot at 0x7fbfa80ed100>"
            ]
          },
          "metadata": {},
          "execution_count": 10
        },
        {
          "output_type": "display_data",
          "data": {
            "text/plain": [
              "<Figure size 432x288 with 1 Axes>"
            ],
            "image/png": "[encoded data removed]"
          },
          "metadata": {
            "needs_background": "light"
          }
        }
      ]
    },
    {
      "cell_type": "markdown",
      "source": [
        "The bar chart access the Rating Area ID by calling the value_counts method to get a count of unique values, then call the plot method and pass in bar.The resulting object will be in descending order so that the first element is the most frequently-occurring element. Koalas can generate a complete bar chart with x-axis and y-axis value labels, as well as an indicator and tooltip on the bar. However, pandas cannot produce a good bar chat if the values are large without specifying the figsize."
      ],
      "metadata": {
        "id": "fOg5y1rbuSxq"
      }
    },
    {
      "cell_type": "markdown",
      "source": [
        "**<h4>COMPARISON BETWEEN COUNTING OF NULL VALUE </h4>**"
      ],
      "metadata": {
        "id": "G3Gvqdm-IqEg"
      }
    },
    {
      "cell_type": "code",
      "source": [
        "%time kdf.isnull().sum()"
      ],
      "metadata": {
        "colab": {
          "base_uri": "https://localhost:8080/"
        },
        "id": "Yle9YxvZBE6u",
        "outputId": "43761e8d-90c7-407b-c716-94921f345dfd"
      },
      "execution_count": null,
      "outputs": [
        {
          "output_type": "stream",
          "name": "stdout",
          "text": [
            "CPU times: user 946 ms, sys: 127 ms, total: 1.07 s\n",
            "Wall time: 57.5 s\n"
          ]
        },
        {
          "output_type": "execute_result",
          "data": {
            "text/plain": [
              "BusinessYear                                        0\n",
              "StateCode                                           0\n",
              "IssuerId                                            0\n",
              "SourceName                                          0\n",
              "VersionNum                                          0\n",
              "ImportDate                                          0\n",
              "IssuerId2                                           0\n",
              "FederalTIN                                          0\n",
              "RateEffectiveDate                                   0\n",
              "RateExpirationDate                                  0\n",
              "PlanId                                              0\n",
              "RatingAreaId                                        0\n",
              "Tobacco                                             0\n",
              "Age                                                 0\n",
              "IndividualRate                                      0\n",
              "IndividualTobaccoRate                         7762096\n",
              "Couple                                       12653504\n",
              "PrimarySubscriberAndOneDependent             12653504\n",
              "PrimarySubscriberAndTwoDependents            12653504\n",
              "PrimarySubscriberAndThreeOrMoreDependents    12653504\n",
              "CoupleAndOneDependent                        12653504\n",
              "CoupleAndTwoDependents                       12653504\n",
              "CoupleAndThreeOrMoreDependents               12653504\n",
              "RowNumber                                           0\n",
              "dtype: int64"
            ]
          },
          "metadata": {},
          "execution_count": 11
        }
      ]
    },
    {
      "cell_type": "code",
      "source": [
        "%time df.isnull().sum()"
      ],
      "metadata": {
        "colab": {
          "base_uri": "https://localhost:8080/"
        },
        "id": "d4p4dv8CKfhi",
        "outputId": "fc01f80e-fa94-484c-dc2f-8950b6cd2400"
      },
      "execution_count": null,
      "outputs": [
        {
          "output_type": "stream",
          "name": "stdout",
          "text": [
            "CPU times: user 6.88 s, sys: 808 ms, total: 7.69 s\n",
            "Wall time: 7.67 s\n"
          ]
        },
        {
          "output_type": "execute_result",
          "data": {
            "text/plain": [
              "BusinessYear                                        0\n",
              "StateCode                                           0\n",
              "IssuerId                                            0\n",
              "SourceName                                          0\n",
              "VersionNum                                          0\n",
              "ImportDate                                          0\n",
              "IssuerId2                                           0\n",
              "FederalTIN                                          0\n",
              "RateEffectiveDate                                   0\n",
              "RateExpirationDate                                  0\n",
              "PlanId                                              0\n",
              "RatingAreaId                                        0\n",
              "Tobacco                                             0\n",
              "Age                                                 0\n",
              "IndividualRate                                      0\n",
              "IndividualTobaccoRate                         7762096\n",
              "Couple                                       12653504\n",
              "PrimarySubscriberAndOneDependent             12653504\n",
              "PrimarySubscriberAndTwoDependents            12653504\n",
              "PrimarySubscriberAndThreeOrMoreDependents    12653504\n",
              "CoupleAndOneDependent                        12653504\n",
              "CoupleAndTwoDependents                       12653504\n",
              "CoupleAndThreeOrMoreDependents               12653504\n",
              "RowNumber                                           0\n",
              "dtype: int64"
            ]
          },
          "metadata": {},
          "execution_count": 12
        }
      ]
    },
    {
      "cell_type": "markdown",
      "source": [
        "Both Python libraries produce the same result, with Koala's CPU time seeming to be quick than Panda's. However, pandas have much faster wall times than koalas."
      ],
      "metadata": {
        "id": "OduHqhGVPnTB"
      }
    },
    {
      "cell_type": "markdown",
      "source": [
        "**<h4>COMPARISON BETWEEN CALCULATION OF NUMERICAL DATA</h4>**"
      ],
      "metadata": {
        "id": "1HoZxGaxdSC4"
      }
    },
    {
      "cell_type": "code",
      "source": [
        "%time kdf.describe()"
      ],
      "metadata": {
        "colab": {
          "base_uri": "https://localhost:8080/",
          "height": 355
        },
        "id": "1Ghx80GwK0XH",
        "outputId": "a82eab8b-b4f1-4a87-da35-e9979253332c"
      },
      "execution_count": null,
      "outputs": [
        {
          "output_type": "stream",
          "name": "stdout",
          "text": [
            "CPU times: user 1.12 s, sys: 155 ms, total: 1.28 s\n",
            "Wall time: 2min 15s\n"
          ]
        },
        {
          "output_type": "execute_result",
          "data": {
            "text/plain": [
              "       BusinessYear      IssuerId    VersionNum     IssuerId2  IndividualRate  IndividualTobaccoRate        Couple  PrimarySubscriberAndOneDependent  PrimarySubscriberAndTwoDependents  PrimarySubscriberAndThreeOrMoreDependents  CoupleAndOneDependent  CoupleAndTwoDependents  CoupleAndThreeOrMoreDependents     RowNumber\n",
              "count  1.269444e+07  1.269444e+07  1.269444e+07  1.269444e+07    1.269444e+07           4.932349e+06  40941.000000                      40941.000000                       40941.000000                               40941.000000           40941.000000            40941.000000                    40941.000000  1.269444e+07\n",
              "mean   2.015034e+03  5.248592e+04  6.865558e+00  5.248592e+04    4.098026e+03           5.436911e+02     48.115714                         49.835901                          70.660012                                  89.405494              72.782793               89.012859                      107.807774  6.348572e+03\n",
              "std    7.940521e-01  2.641263e+04  3.857180e+00  2.641263e+04    6.122271e+04           2.945916e+02     30.422891                         29.691985                          44.620130                                  57.699279              48.232537               59.139094                       73.241174  9.011435e+03\n",
              "min    2.014000e+03  1.004600e+04  1.000000e+00  1.004600e+04    0.000000e+00           4.173000e+01      0.000000                          0.000000                           0.000000                                   0.000000               0.000000                0.000000                        0.000000  1.400000e+01\n",
              "25%    2.014000e+03  3.021900e+04  4.000000e+00  3.021900e+04    2.933000e+01           3.391100e+02     26.710000                         27.390000                          27.910000                                  29.410000              28.260000               28.260000                       29.490000  8.730000e+02\n",
              "50%    2.015000e+03  4.953200e+04  6.000000e+00  4.953200e+04    2.915900e+02           4.632900e+02     49.750000                         51.240000                          74.680000                                  98.800000              77.260000               97.890000                      116.690000  2.728000e+03\n",
              "75%    2.016000e+03  7.652600e+04  9.000000e+00  7.652600e+04    4.789400e+02           6.843800e+02     69.900000                         72.230000                         107.670000                                 137.080000             110.420000              136.320000                      167.960000  7.575000e+03\n",
              "max    2.016000e+03  9.996900e+04  2.400000e+01  9.996900e+04    9.999990e+05           6.604610e+03    182.400000                        169.650000                         251.740000                                 357.940000             260.850000              339.310000                      449.140000  6.349300e+04"
            ],
            "text/html": [
              "<div>\n",
              "<style scoped>\n",
              "    .dataframe tbody tr th:only-of-type {\n",
              "        vertical-align: middle;\n",
              "    }\n",
              "\n",
              "    .dataframe tbody tr th {\n",
              "        vertical-align: top;\n",
              "    }\n",
              "\n",
              "    .dataframe thead th {\n",
              "        text-align: right;\n",
              "    }\n",
              "</style>\n",
              "<table border=\"1\" class=\"dataframe\">\n",
              "  <thead>\n",
              "    <tr style=\"text-align: right;\">\n",
              "      <th></th>\n",
              "      <th>BusinessYear</th>\n",
              "      <th>IssuerId</th>\n",
              "      <th>VersionNum</th>\n",
              "      <th>IssuerId2</th>\n",
              "      <th>IndividualRate</th>\n",
              "      <th>IndividualTobaccoRate</th>\n",
              "      <th>Couple</th>\n",
              "      <th>PrimarySubscriberAndOneDependent</th>\n",
              "      <th>PrimarySubscriberAndTwoDependents</th>\n",
              "      <th>PrimarySubscriberAndThreeOrMoreDependents</th>\n",
              "      <th>CoupleAndOneDependent</th>\n",
              "      <th>CoupleAndTwoDependents</th>\n",
              "      <th>CoupleAndThreeOrMoreDependents</th>\n",
              "      <th>RowNumber</th>\n",
              "    </tr>\n",
              "  </thead>\n",
              "  <tbody>\n",
              "    <tr>\n",
              "      <th>count</th>\n",
              "      <td>1.269444e+07</td>\n",
              "      <td>1.269444e+07</td>\n",
              "      <td>1.269444e+07</td>\n",
              "      <td>1.269444e+07</td>\n",
              "      <td>1.269444e+07</td>\n",
              "      <td>4.932349e+06</td>\n",
              "      <td>40941.000000</td>\n",
              "      <td>40941.000000</td>\n",
              "      <td>40941.000000</td>\n",
              "      <td>40941.000000</td>\n",
              "      <td>40941.000000</td>\n",
              "      <td>40941.000000</td>\n",
              "      <td>40941.000000</td>\n",
              "      <td>1.269444e+07</td>\n",
              "    </tr>\n",
              "    <tr>\n",
              "      <th>mean</th>\n",
              "      <td>2.015034e+03</td>\n",
              "      <td>5.248592e+04</td>\n",
              "      <td>6.865558e+00</td>\n",
              "      <td>5.248592e+04</td>\n",
              "      <td>4.098026e+03</td>\n",
              "      <td>5.436911e+02</td>\n",
              "      <td>48.115714</td>\n",
              "      <td>49.835901</td>\n",
              "      <td>70.660012</td>\n",
              "      <td>89.405494</td>\n",
              "      <td>72.782793</td>\n",
              "      <td>89.012859</td>\n",
              "      <td>107.807774</td>\n",
              "      <td>6.348572e+03</td>\n",
              "    </tr>\n",
              "    <tr>\n",
              "      <th>std</th>\n",
              "      <td>7.940521e-01</td>\n",
              "      <td>2.641263e+04</td>\n",
              "      <td>3.857180e+00</td>\n",
              "      <td>2.641263e+04</td>\n",
              "      <td>6.122271e+04</td>\n",
              "      <td>2.945916e+02</td>\n",
              "      <td>30.422891</td>\n",
              "      <td>29.691985</td>\n",
              "      <td>44.620130</td>\n",
              "      <td>57.699279</td>\n",
              "      <td>48.232537</td>\n",
              "      <td>59.139094</td>\n",
              "      <td>73.241174</td>\n",
              "      <td>9.011435e+03</td>\n",
              "    </tr>\n",
              "    <tr>\n",
              "      <th>min</th>\n",
              "      <td>2.014000e+03</td>\n",
              "      <td>1.004600e+04</td>\n",
              "      <td>1.000000e+00</td>\n",
              "      <td>1.004600e+04</td>\n",
              "      <td>0.000000e+00</td>\n",
              "      <td>4.173000e+01</td>\n",
              "      <td>0.000000</td>\n",
              "      <td>0.000000</td>\n",
              "      <td>0.000000</td>\n",
              "      <td>0.000000</td>\n",
              "      <td>0.000000</td>\n",
              "      <td>0.000000</td>\n",
              "      <td>0.000000</td>\n",
              "      <td>1.400000e+01</td>\n",
              "    </tr>\n",
              "    <tr>\n",
              "      <th>25%</th>\n",
              "      <td>2.014000e+03</td>\n",
              "      <td>3.021900e+04</td>\n",
              "      <td>4.000000e+00</td>\n",
              "      <td>3.021900e+04</td>\n",
              "      <td>2.933000e+01</td>\n",
              "      <td>3.391100e+02</td>\n",
              "      <td>26.710000</td>\n",
              "      <td>27.390000</td>\n",
              "      <td>27.910000</td>\n",
              "      <td>29.410000</td>\n",
              "      <td>28.260000</td>\n",
              "      <td>28.260000</td>\n",
              "      <td>29.490000</td>\n",
              "      <td>8.730000e+02</td>\n",
              "    </tr>\n",
              "    <tr>\n",
              "      <th>50%</th>\n",
              "      <td>2.015000e+03</td>\n",
              "      <td>4.953200e+04</td>\n",
              "      <td>6.000000e+00</td>\n",
              "      <td>4.953200e+04</td>\n",
              "      <td>2.915900e+02</td>\n",
              "      <td>4.632900e+02</td>\n",
              "      <td>49.750000</td>\n",
              "      <td>51.240000</td>\n",
              "      <td>74.680000</td>\n",
              "      <td>98.800000</td>\n",
              "      <td>77.260000</td>\n",
              "      <td>97.890000</td>\n",
              "      <td>116.690000</td>\n",
              "      <td>2.728000e+03</td>\n",
              "    </tr>\n",
              "    <tr>\n",
              "      <th>75%</th>\n",
              "      <td>2.016000e+03</td>\n",
              "      <td>7.652600e+04</td>\n",
              "      <td>9.000000e+00</td>\n",
              "      <td>7.652600e+04</td>\n",
              "      <td>4.789400e+02</td>\n",
              "      <td>6.843800e+02</td>\n",
              "      <td>69.900000</td>\n",
              "      <td>72.230000</td>\n",
              "      <td>107.670000</td>\n",
              "      <td>137.080000</td>\n",
              "      <td>110.420000</td>\n",
              "      <td>136.320000</td>\n",
              "      <td>167.960000</td>\n",
              "      <td>7.575000e+03</td>\n",
              "    </tr>\n",
              "    <tr>\n",
              "      <th>max</th>\n",
              "      <td>2.016000e+03</td>\n",
              "      <td>9.996900e+04</td>\n",
              "      <td>2.400000e+01</td>\n",
              "      <td>9.996900e+04</td>\n",
              "      <td>9.999990e+05</td>\n",
              "      <td>6.604610e+03</td>\n",
              "      <td>182.400000</td>\n",
              "      <td>169.650000</td>\n",
              "      <td>251.740000</td>\n",
              "      <td>357.940000</td>\n",
              "      <td>260.850000</td>\n",
              "      <td>339.310000</td>\n",
              "      <td>449.140000</td>\n",
              "      <td>6.349300e+04</td>\n",
              "    </tr>\n",
              "  </tbody>\n",
              "</table>\n",
              "</div>"
            ]
          },
          "metadata": {},
          "execution_count": 13
        }
      ]
    },
    {
      "cell_type": "code",
      "source": [
        "%time df.describe()"
      ],
      "metadata": {
        "colab": {
          "base_uri": "https://localhost:8080/",
          "height": 399
        },
        "id": "qby12wGWXpUz",
        "outputId": "d7ecd5ec-1a22-439c-ce13-5e982057475a"
      },
      "execution_count": null,
      "outputs": [
        {
          "output_type": "stream",
          "name": "stdout",
          "text": [
            "CPU times: user 8.42 s, sys: 2.65 s, total: 11.1 s\n",
            "Wall time: 11.2 s\n"
          ]
        },
        {
          "output_type": "execute_result",
          "data": {
            "text/plain": [
              "       BusinessYear      IssuerId    VersionNum     IssuerId2  IndividualRate  \\\n",
              "count  1.269444e+07  1.269444e+07  1.269444e+07  1.269444e+07    1.269444e+07   \n",
              "mean   2.015034e+03  5.248592e+04  6.865558e+00  5.248592e+04    4.098026e+03   \n",
              "std    7.940521e-01  2.641263e+04  3.857180e+00  2.641263e+04    6.122271e+04   \n",
              "min    2.014000e+03  1.004600e+04  1.000000e+00  1.004600e+04    0.000000e+00   \n",
              "25%    2.014000e+03  3.021900e+04  4.000000e+00  3.021900e+04    2.933000e+01   \n",
              "50%    2.015000e+03  4.953200e+04  6.000000e+00  4.953200e+04    2.916000e+02   \n",
              "75%    2.016000e+03  7.652600e+04  9.000000e+00  7.652600e+04    4.789800e+02   \n",
              "max    2.016000e+03  9.996900e+04  2.400000e+01  9.996900e+04    9.999990e+05   \n",
              "\n",
              "       IndividualTobaccoRate        Couple  PrimarySubscriberAndOneDependent  \\\n",
              "count           4.932349e+06  40941.000000                      40941.000000   \n",
              "mean            5.436911e+02     48.115714                         49.835901   \n",
              "std             2.945916e+02     30.422891                         29.691985   \n",
              "min             4.173000e+01      0.000000                          0.000000   \n",
              "25%             3.391200e+02     26.710000                         27.390000   \n",
              "50%             4.632900e+02     49.770000                         51.240000   \n",
              "75%             6.843900e+02     69.900000                         72.230000   \n",
              "max             6.604610e+03    182.400000                        169.650000   \n",
              "\n",
              "       PrimarySubscriberAndTwoDependents  \\\n",
              "count                       40941.000000   \n",
              "mean                           70.660012   \n",
              "std                            44.620130   \n",
              "min                             0.000000   \n",
              "25%                            27.910000   \n",
              "50%                            74.680000   \n",
              "75%                           107.670000   \n",
              "max                           251.740000   \n",
              "\n",
              "       PrimarySubscriberAndThreeOrMoreDependents  CoupleAndOneDependent  \\\n",
              "count                               40941.000000           40941.000000   \n",
              "mean                                   89.405494              72.782793   \n",
              "std                                    57.699279              48.232537   \n",
              "min                                     0.000000               0.000000   \n",
              "25%                                    29.410000              28.260000   \n",
              "50%                                    98.800000              77.250000   \n",
              "75%                                   137.080000             110.430000   \n",
              "max                                   357.940000             260.850000   \n",
              "\n",
              "       CoupleAndTwoDependents  CoupleAndThreeOrMoreDependents     RowNumber  \n",
              "count            40941.000000                    40941.000000  1.269444e+07  \n",
              "mean                89.012859                      107.807774  6.348572e+03  \n",
              "std                 59.139094                       73.241174  9.011435e+03  \n",
              "min                  0.000000                        0.000000  1.400000e+01  \n",
              "25%                 28.260000                       29.490000  8.730000e+02  \n",
              "50%                 97.910000                      116.710000  2.728000e+03  \n",
              "75%                136.330000                      167.960000  7.577000e+03  \n",
              "max                339.310000                      449.140000  6.349300e+04  "
            ],
            "text/html": [
              "\n",
              "  <div id=\"df-e371380c-3490-4eab-a12a-aa8ad3ab5532\">\n",
              "    <div class=\"colab-df-container\">\n",
              "      <div>\n",
              "<style scoped>\n",
              "    .dataframe tbody tr th:only-of-type {\n",
              "        vertical-align: middle;\n",
              "    }\n",
              "\n",
              "    .dataframe tbody tr th {\n",
              "        vertical-align: top;\n",
              "    }\n",
              "\n",
              "    .dataframe thead th {\n",
              "        text-align: right;\n",
              "    }\n",
              "</style>\n",
              "<table border=\"1\" class=\"dataframe\">\n",
              "  <thead>\n",
              "    <tr style=\"text-align: right;\">\n",
              "      <th></th>\n",
              "      <th>BusinessYear</th>\n",
              "      <th>IssuerId</th>\n",
              "      <th>VersionNum</th>\n",
              "      <th>IssuerId2</th>\n",
              "      <th>IndividualRate</th>\n",
              "      <th>IndividualTobaccoRate</th>\n",
              "      <th>Couple</th>\n",
              "      <th>PrimarySubscriberAndOneDependent</th>\n",
              "      <th>PrimarySubscriberAndTwoDependents</th>\n",
              "      <th>PrimarySubscriberAndThreeOrMoreDependents</th>\n",
              "      <th>CoupleAndOneDependent</th>\n",
              "      <th>CoupleAndTwoDependents</th>\n",
              "      <th>CoupleAndThreeOrMoreDependents</th>\n",
              "      <th>RowNumber</th>\n",
              "    </tr>\n",
              "  </thead>\n",
              "  <tbody>\n",
              "    <tr>\n",
              "      <th>count</th>\n",
              "      <td>1.269444e+07</td>\n",
              "      <td>1.269444e+07</td>\n",
              "      <td>1.269444e+07</td>\n",
              "      <td>1.269444e+07</td>\n",
              "      <td>1.269444e+07</td>\n",
              "      <td>4.932349e+06</td>\n",
              "      <td>40941.000000</td>\n",
              "      <td>40941.000000</td>\n",
              "      <td>40941.000000</td>\n",
              "      <td>40941.000000</td>\n",
              "      <td>40941.000000</td>\n",
              "      <td>40941.000000</td>\n",
              "      <td>40941.000000</td>\n",
              "      <td>1.269444e+07</td>\n",
              "    </tr>\n",
              "    <tr>\n",
              "      <th>mean</th>\n",
              "      <td>2.015034e+03</td>\n",
              "      <td>5.248592e+04</td>\n",
              "      <td>6.865558e+00</td>\n",
              "      <td>5.248592e+04</td>\n",
              "      <td>4.098026e+03</td>\n",
              "      <td>5.436911e+02</td>\n",
              "      <td>48.115714</td>\n",
              "      <td>49.835901</td>\n",
              "      <td>70.660012</td>\n",
              "      <td>89.405494</td>\n",
              "      <td>72.782793</td>\n",
              "      <td>89.012859</td>\n",
              "      <td>107.807774</td>\n",
              "      <td>6.348572e+03</td>\n",
              "    </tr>\n",
              "    <tr>\n",
              "      <th>std</th>\n",
              "      <td>7.940521e-01</td>\n",
              "      <td>2.641263e+04</td>\n",
              "      <td>3.857180e+00</td>\n",
              "      <td>2.641263e+04</td>\n",
              "      <td>6.122271e+04</td>\n",
              "      <td>2.945916e+02</td>\n",
              "      <td>30.422891</td>\n",
              "      <td>29.691985</td>\n",
              "      <td>44.620130</td>\n",
              "      <td>57.699279</td>\n",
              "      <td>48.232537</td>\n",
              "      <td>59.139094</td>\n",
              "      <td>73.241174</td>\n",
              "      <td>9.011435e+03</td>\n",
              "    </tr>\n",
              "    <tr>\n",
              "      <th>min</th>\n",
              "      <td>2.014000e+03</td>\n",
              "      <td>1.004600e+04</td>\n",
              "      <td>1.000000e+00</td>\n",
              "      <td>1.004600e+04</td>\n",
              "      <td>0.000000e+00</td>\n",
              "      <td>4.173000e+01</td>\n",
              "      <td>0.000000</td>\n",
              "      <td>0.000000</td>\n",
              "      <td>0.000000</td>\n",
              "      <td>0.000000</td>\n",
              "      <td>0.000000</td>\n",
              "      <td>0.000000</td>\n",
              "      <td>0.000000</td>\n",
              "      <td>1.400000e+01</td>\n",
              "    </tr>\n",
              "    <tr>\n",
              "      <th>25%</th>\n",
              "      <td>2.014000e+03</td>\n",
              "      <td>3.021900e+04</td>\n",
              "      <td>4.000000e+00</td>\n",
              "      <td>3.021900e+04</td>\n",
              "      <td>2.933000e+01</td>\n",
              "      <td>3.391200e+02</td>\n",
              "      <td>26.710000</td>\n",
              "      <td>27.390000</td>\n",
              "      <td>27.910000</td>\n",
              "      <td>29.410000</td>\n",
              "      <td>28.260000</td>\n",
              "      <td>28.260000</td>\n",
              "      <td>29.490000</td>\n",
              "      <td>8.730000e+02</td>\n",
              "    </tr>\n",
              "    <tr>\n",
              "      <th>50%</th>\n",
              "      <td>2.015000e+03</td>\n",
              "      <td>4.953200e+04</td>\n",
              "      <td>6.000000e+00</td>\n",
              "      <td>4.953200e+04</td>\n",
              "      <td>2.916000e+02</td>\n",
              "      <td>4.632900e+02</td>\n",
              "      <td>49.770000</td>\n",
              "      <td>51.240000</td>\n",
              "      <td>74.680000</td>\n",
              "      <td>98.800000</td>\n",
              "      <td>77.250000</td>\n",
              "      <td>97.910000</td>\n",
              "      <td>116.710000</td>\n",
              "      <td>2.728000e+03</td>\n",
              "    </tr>\n",
              "    <tr>\n",
              "      <th>75%</th>\n",
              "      <td>2.016000e+03</td>\n",
              "      <td>7.652600e+04</td>\n",
              "      <td>9.000000e+00</td>\n",
              "      <td>7.652600e+04</td>\n",
              "      <td>4.789800e+02</td>\n",
              "      <td>6.843900e+02</td>\n",
              "      <td>69.900000</td>\n",
              "      <td>72.230000</td>\n",
              "      <td>107.670000</td>\n",
              "      <td>137.080000</td>\n",
              "      <td>110.430000</td>\n",
              "      <td>136.330000</td>\n",
              "      <td>167.960000</td>\n",
              "      <td>7.577000e+03</td>\n",
              "    </tr>\n",
              "    <tr>\n",
              "      <th>max</th>\n",
              "      <td>2.016000e+03</td>\n",
              "      <td>9.996900e+04</td>\n",
              "      <td>2.400000e+01</td>\n",
              "      <td>9.996900e+04</td>\n",
              "      <td>9.999990e+05</td>\n",
              "      <td>6.604610e+03</td>\n",
              "      <td>182.400000</td>\n",
              "      <td>169.650000</td>\n",
              "      <td>251.740000</td>\n",
              "      <td>357.940000</td>\n",
              "      <td>260.850000</td>\n",
              "      <td>339.310000</td>\n",
              "      <td>449.140000</td>\n",
              "      <td>6.349300e+04</td>\n",
              "    </tr>\n",
              "  </tbody>\n",
              "</table>\n",
              "</div>\n",
              "      <button class=\"colab-df-convert\" onclick=\"convertToInteractive('df-e371380c-3490-4eab-a12a-aa8ad3ab5532')\"\n",
              "              title=\"Convert this dataframe to an interactive table.\"\n",
              "              style=\"display:none;\">\n",
              "        \n",
              "  <svg xmlns=\"http://www.w3.org/2000/svg\" height=\"24px\"viewBox=\"0 0 24 24\"\n",
              "       width=\"24px\">\n",
              "    <path d=\"M0 0h24v24H0V0z\" fill=\"none\"/>\n",
              "    <path d=\"M18.56 5.44l.94 2.06.94-2.06 2.06-.94-2.06-.94-.94-2.06-.94 2.06-2.06.94zm-11 1L8.5 8.5l.94-2.06 2.06-.94-2.06-.94L8.5 2.5l-.94 2.06-2.06.94zm10 10l.94 2.06.94-2.06 2.06-.94-2.06-.94-.94-2.06-.94 2.06-2.06.94z\"/><path d=\"M17.41 7.96l-1.37-1.37c-.4-.4-.92-.59-1.43-.59-.52 0-1.04.2-1.43.59L10.3 9.45l-7.72 7.72c-.78.78-.78 2.05 0 2.83L4 21.41c.39.39.9.59 1.41.59.51 0 1.02-.2 1.41-.59l7.78-7.78 2.81-2.81c.8-.78.8-2.07 0-2.86zM5.41 20L4 18.59l7.72-7.72 1.47 1.35L5.41 20z\"/>\n",
              "  </svg>\n",
              "      </button>\n",
              "      \n",
              "  <style>\n",
              "    .colab-df-container {\n",
              "      display:flex;\n",
              "      flex-wrap:wrap;\n",
              "      gap: 12px;\n",
              "    }\n",
              "\n",
              "    .colab-df-convert {\n",
              "      background-color: #E8F0FE;\n",
              "      border: none;\n",
              "      border-radius: 50%;\n",
              "      cursor: pointer;\n",
              "      display: none;\n",
              "      fill: #1967D2;\n",
              "      height: 32px;\n",
              "      padding: 0 0 0 0;\n",
              "      width: 32px;\n",
              "    }\n",
              "\n",
              "    .colab-df-convert:hover {\n",
              "      background-color: #E2EBFA;\n",
              "      box-shadow: 0px 1px 2px rgba(60, 64, 67, 0.3), 0px 1px 3px 1px rgba(60, 64, 67, 0.15);\n",
              "      fill: #174EA6;\n",
              "    }\n",
              "\n",
              "    [theme=dark] .colab-df-convert {\n",
              "      background-color: #3B4455;\n",
              "      fill: #D2E3FC;\n",
              "    }\n",
              "\n",
              "    [theme=dark] .colab-df-convert:hover {\n",
              "      background-color: #434B5C;\n",
              "      box-shadow: 0px 1px 3px 1px rgba(0, 0, 0, 0.15);\n",
              "      filter: drop-shadow(0px 1px 2px rgba(0, 0, 0, 0.3));\n",
              "      fill: #FFFFFF;\n",
              "    }\n",
              "  </style>\n",
              "\n",
              "      <script>\n",
              "        const buttonEl =\n",
              "          document.querySelector('#df-e371380c-3490-4eab-a12a-aa8ad3ab5532 button.colab-df-convert');\n",
              "        buttonEl.style.display =\n",
              "          google.colab.kernel.accessAllowed ? 'block' : 'none';\n",
              "\n",
              "        async function convertToInteractive(key) {\n",
              "          const element = document.querySelector('#df-e371380c-3490-4eab-a12a-aa8ad3ab5532');\n",
              "          const dataTable =\n",
              "            await google.colab.kernel.invokeFunction('convertToInteractive',\n",
              "                                                     [key], {});\n",
              "          if (!dataTable) return;\n",
              "\n",
              "          const docLinkHtml = 'Like what you see? Visit the ' +\n",
              "            '<a target=\"_blank\" href=https://colab.research.google.com/notebooks/data_table.ipynb>data table notebook</a>'\n",
              "            + ' to learn more about interactive tables.';\n",
              "          element.innerHTML = '';\n",
              "          dataTable['output_type'] = 'display_data';\n",
              "          await google.colab.output.renderOutput(dataTable, element);\n",
              "          const docLink = document.createElement('div');\n",
              "          docLink.innerHTML = docLinkHtml;\n",
              "          element.appendChild(docLink);\n",
              "        }\n",
              "      </script>\n",
              "    </div>\n",
              "  </div>\n",
              "  "
            ]
          },
          "metadata": {},
          "execution_count": 14
        }
      ]
    },
    {
      "cell_type": "markdown",
      "source": [
        "Both Python libraries produce the same result, with Koala's CPU time is faster than Panda's. However, pandas have much faster wall time than koalas."
      ],
      "metadata": {
        "id": "WuJUPUV-WHut"
      }
    },
    {
      "cell_type": "markdown",
      "source": [
        "**<h4>COMPARISON BETWEEN HISTOGRAM</h4>**"
      ],
      "metadata": {
        "id": "7sIEGXjUdIPK"
      }
    },
    {
      "cell_type": "code",
      "source": [
        "k_hist = kdf['Couple'].plot.hist()\n",
        "%time k_hist "
      ],
      "metadata": {
        "colab": {
          "base_uri": "https://localhost:8080/",
          "height": 577
        },
        "id": "ve3tRhREbdoq",
        "outputId": "f6624ce2-c755-42ad-c7ef-51f83f6b418d"
      },
      "execution_count": null,
      "outputs": [
        {
          "output_type": "stream",
          "name": "stdout",
          "text": [
            "CPU times: user 0 ns, sys: 5 µs, total: 5 µs\n",
            "Wall time: 10 µs\n"
          ]
        },
        {
          "output_type": "display_data",
          "data": {
            "text/html": [
              "<html>\n",
              "<head><meta charset=\"utf-8\" /></head>\n",
              "<body>\n",
              "    <div>            <script src=\"https://cdnjs.cloudflare.com/ajax/libs/mathjax/2.7.5/MathJax.js?config=TeX-AMS-MML_SVG\"></script><script type=\"text/javascript\">if (window.MathJax) {MathJax.Hub.Config({SVG: {font: \"STIX-Web\"}});}</script>                <script type=\"text/javascript\">window.PlotlyConfig = {MathJaxConfig: 'local'};</script>\n",
              "        <script src=\"https://cdn.plot.ly/plotly-2.8.3.min.js\"></script>                <div id=\"3cc62f66-8b26-451e-bf55-13a63394b669\" class=\"plotly-graph-div\" style=\"height:525px; width:100%;\"></div>            <script type=\"text/javascript\">                                    window.PLOTLYENV=window.PLOTLYENV || {};                                    if (document.getElementById(\"3cc62f66-8b26-451e-bf55-13a63394b669\")) {                    Plotly.newPlot(                        \"3cc62f66-8b26-451e-bf55-13a63394b669\",                        [{\"hovertemplate\":\"variable=Couple<br>value=%{text}<br>count=%{y}\",\"name\":\"Couple\",\"text\":[\"[0.0, 18.24)\",\"[18.24, 36.48)\",\"[36.48, 54.72)\",\"[54.72, 72.96)\",\"[72.96, 91.2)\",\"[91.2, 109.44)\",\"[109.44, 127.68)\",\"[127.68, 145.92)\",\"[145.92, 164.16)\",\"[164.16, 182.4]\"],\"x\":[9.120000000000001,27.360000000000003,45.60000000000001,63.84,82.08000000000001,100.32000000000002,118.56,136.8,155.04000000000002,173.28000000000003],\"y\":[6589,9430,6952,8946,5598,2841,537,41,5,2],\"type\":\"bar\"}],                        {\"barmode\":\"stack\",\"template\":{\"data\":{\"bar\":[{\"error_x\":{\"color\":\"#2a3f5f\"},\"error_y\":{\"color\":\"#2a3f5f\"},\"marker\":{\"line\":{\"color\":\"#E5ECF6\",\"width\":0.5},\"pattern\":{\"fillmode\":\"overlay\",\"size\":10,\"solidity\":0.2}},\"type\":\"bar\"}],\"barpolar\":[{\"marker\":{\"line\":{\"color\":\"#E5ECF6\",\"width\":0.5},\"pattern\":{\"fillmode\":\"overlay\",\"size\":10,\"solidity\":0.2}},\"type\":\"barpolar\"}],\"carpet\":[{\"aaxis\":{\"endlinecolor\":\"#2a3f5f\",\"gridcolor\":\"white\",\"linecolor\":\"white\",\"minorgridcolor\":\"white\",\"startlinecolor\":\"#2a3f5f\"},\"baxis\":{\"endlinecolor\":\"#2a3f5f\",\"gridcolor\":\"white\",\"linecolor\":\"white\",\"minorgridcolor\":\"white\",\"startlinecolor\":\"#2a3f5f\"},\"type\":\"carpet\"}],\"choropleth\":[{\"colorbar\":{\"outlinewidth\":0,\"ticks\":\"\"},\"type\":\"choropleth\"}],\"contour\":[{\"colorbar\":{\"outlinewidth\":0,\"ticks\":\"\"},\"colorscale\":[[0.0,\"#0d0887\"],[0.1111111111111111,\"#46039f\"],[0.2222222222222222,\"#7201a8\"],[0.3333333333333333,\"#9c179e\"],[0.4444444444444444,\"#bd3786\"],[0.5555555555555556,\"#d8576b\"],[0.6666666666666666,\"#ed7953\"],[0.7777777777777778,\"#fb9f3a\"],[0.8888888888888888,\"#fdca26\"],[1.0,\"#f0f921\"]],\"type\":\"contour\"}],\"contourcarpet\":[{\"colorbar\":{\"outlinewidth\":0,\"ticks\":\"\"},\"type\":\"contourcarpet\"}],\"heatmap\":[{\"colorbar\":{\"outlinewidth\":0,\"ticks\":\"\"},\"colorscale\":[[0.0,\"#0d0887\"],[0.1111111111111111,\"#46039f\"],[0.2222222222222222,\"#7201a8\"],[0.3333333333333333,\"#9c179e\"],[0.4444444444444444,\"#bd3786\"],[0.5555555555555556,\"#d8576b\"],[0.6666666666666666,\"#ed7953\"],[0.7777777777777778,\"#fb9f3a\"],[0.8888888888888888,\"#fdca26\"],[1.0,\"#f0f921\"]],\"type\":\"heatmap\"}],\"heatmapgl\":[{\"colorbar\":{\"outlinewidth\":0,\"ticks\":\"\"},\"colorscale\":[[0.0,\"#0d0887\"],[0.1111111111111111,\"#46039f\"],[0.2222222222222222,\"#7201a8\"],[0.3333333333333333,\"#9c179e\"],[0.4444444444444444,\"#bd3786\"],[0.5555555555555556,\"#d8576b\"],[0.6666666666666666,\"#ed7953\"],[0.7777777777777778,\"#fb9f3a\"],[0.8888888888888888,\"#fdca26\"],[1.0,\"#f0f921\"]],\"type\":\"heatmapgl\"}],\"histogram\":[{\"marker\":{\"pattern\":{\"fillmode\":\"overlay\",\"size\":10,\"solidity\":0.2}},\"type\":\"histogram\"}],\"histogram2d\":[{\"colorbar\":{\"outlinewidth\":0,\"ticks\":\"\"},\"colorscale\":[[0.0,\"#0d0887\"],[0.1111111111111111,\"#46039f\"],[0.2222222222222222,\"#7201a8\"],[0.3333333333333333,\"#9c179e\"],[0.4444444444444444,\"#bd3786\"],[0.5555555555555556,\"#d8576b\"],[0.6666666666666666,\"#ed7953\"],[0.7777777777777778,\"#fb9f3a\"],[0.8888888888888888,\"#fdca26\"],[1.0,\"#f0f921\"]],\"type\":\"histogram2d\"}],\"histogram2dcontour\":[{\"colorbar\":{\"outlinewidth\":0,\"ticks\":\"\"},\"colorscale\":[[0.0,\"#0d0887\"],[0.1111111111111111,\"#46039f\"],[0.2222222222222222,\"#7201a8\"],[0.3333333333333333,\"#9c179e\"],[0.4444444444444444,\"#bd3786\"],[0.5555555555555556,\"#d8576b\"],[0.6666666666666666,\"#ed7953\"],[0.7777777777777778,\"#fb9f3a\"],[0.8888888888888888,\"#fdca26\"],[1.0,\"#f0f921\"]],\"type\":\"histogram2dcontour\"}],\"mesh3d\":[{\"colorbar\":{\"outlinewidth\":0,\"ticks\":\"\"},\"type\":\"mesh3d\"}],\"parcoords\":[{\"line\":{\"colorbar\":{\"outlinewidth\":0,\"ticks\":\"\"}},\"type\":\"parcoords\"}],\"pie\":[{\"automargin\":true,\"type\":\"pie\"}],\"scatter\":[{\"marker\":{\"colorbar\":{\"outlinewidth\":0,\"ticks\":\"\"}},\"type\":\"scatter\"}],\"scatter3d\":[{\"line\":{\"colorbar\":{\"outlinewidth\":0,\"ticks\":\"\"}},\"marker\":{\"colorbar\":{\"outlinewidth\":0,\"ticks\":\"\"}},\"type\":\"scatter3d\"}],\"scattercarpet\":[{\"marker\":{\"colorbar\":{\"outlinewidth\":0,\"ticks\":\"\"}},\"type\":\"scattercarpet\"}],\"scattergeo\":[{\"marker\":{\"colorbar\":{\"outlinewidth\":0,\"ticks\":\"\"}},\"type\":\"scattergeo\"}],\"scattergl\":[{\"marker\":{\"colorbar\":{\"outlinewidth\":0,\"ticks\":\"\"}},\"type\":\"scattergl\"}],\"scattermapbox\":[{\"marker\":{\"colorbar\":{\"outlinewidth\":0,\"ticks\":\"\"}},\"type\":\"scattermapbox\"}],\"scatterpolar\":[{\"marker\":{\"colorbar\":{\"outlinewidth\":0,\"ticks\":\"\"}},\"type\":\"scatterpolar\"}],\"scatterpolargl\":[{\"marker\":{\"colorbar\":{\"outlinewidth\":0,\"ticks\":\"\"}},\"type\":\"scatterpolargl\"}],\"scatterternary\":[{\"marker\":{\"colorbar\":{\"outlinewidth\":0,\"ticks\":\"\"}},\"type\":\"scatterternary\"}],\"surface\":[{\"colorbar\":{\"outlinewidth\":0,\"ticks\":\"\"},\"colorscale\":[[0.0,\"#0d0887\"],[0.1111111111111111,\"#46039f\"],[0.2222222222222222,\"#7201a8\"],[0.3333333333333333,\"#9c179e\"],[0.4444444444444444,\"#bd3786\"],[0.5555555555555556,\"#d8576b\"],[0.6666666666666666,\"#ed7953\"],[0.7777777777777778,\"#fb9f3a\"],[0.8888888888888888,\"#fdca26\"],[1.0,\"#f0f921\"]],\"type\":\"surface\"}],\"table\":[{\"cells\":{\"fill\":{\"color\":\"#EBF0F8\"},\"line\":{\"color\":\"white\"}},\"header\":{\"fill\":{\"color\":\"#C8D4E3\"},\"line\":{\"color\":\"white\"}},\"type\":\"table\"}]},\"layout\":{\"annotationdefaults\":{\"arrowcolor\":\"#2a3f5f\",\"arrowhead\":0,\"arrowwidth\":1},\"autotypenumbers\":\"strict\",\"coloraxis\":{\"colorbar\":{\"outlinewidth\":0,\"ticks\":\"\"}},\"colorscale\":{\"diverging\":[[0,\"#8e0152\"],[0.1,\"#c51b7d\"],[0.2,\"#de77ae\"],[0.3,\"#f1b6da\"],[0.4,\"#fde0ef\"],[0.5,\"#f7f7f7\"],[0.6,\"#e6f5d0\"],[0.7,\"#b8e186\"],[0.8,\"#7fbc41\"],[0.9,\"#4d9221\"],[1,\"#276419\"]],\"sequential\":[[0.0,\"#0d0887\"],[0.1111111111111111,\"#46039f\"],[0.2222222222222222,\"#7201a8\"],[0.3333333333333333,\"#9c179e\"],[0.4444444444444444,\"#bd3786\"],[0.5555555555555556,\"#d8576b\"],[0.6666666666666666,\"#ed7953\"],[0.7777777777777778,\"#fb9f3a\"],[0.8888888888888888,\"#fdca26\"],[1.0,\"#f0f921\"]],\"sequentialminus\":[[0.0,\"#0d0887\"],[0.1111111111111111,\"#46039f\"],[0.2222222222222222,\"#7201a8\"],[0.3333333333333333,\"#9c179e\"],[0.4444444444444444,\"#bd3786\"],[0.5555555555555556,\"#d8576b\"],[0.6666666666666666,\"#ed7953\"],[0.7777777777777778,\"#fb9f3a\"],[0.8888888888888888,\"#fdca26\"],[1.0,\"#f0f921\"]]},\"colorway\":[\"#636efa\",\"#EF553B\",\"#00cc96\",\"#ab63fa\",\"#FFA15A\",\"#19d3f3\",\"#FF6692\",\"#B6E880\",\"#FF97FF\",\"#FECB52\"],\"font\":{\"color\":\"#2a3f5f\"},\"geo\":{\"bgcolor\":\"white\",\"lakecolor\":\"white\",\"landcolor\":\"#E5ECF6\",\"showlakes\":true,\"showland\":true,\"subunitcolor\":\"white\"},\"hoverlabel\":{\"align\":\"left\"},\"hovermode\":\"closest\",\"mapbox\":{\"style\":\"light\"},\"paper_bgcolor\":\"white\",\"plot_bgcolor\":\"#E5ECF6\",\"polar\":{\"angularaxis\":{\"gridcolor\":\"white\",\"linecolor\":\"white\",\"ticks\":\"\"},\"bgcolor\":\"#E5ECF6\",\"radialaxis\":{\"gridcolor\":\"white\",\"linecolor\":\"white\",\"ticks\":\"\"}},\"scene\":{\"xaxis\":{\"backgroundcolor\":\"#E5ECF6\",\"gridcolor\":\"white\",\"gridwidth\":2,\"linecolor\":\"white\",\"showbackground\":true,\"ticks\":\"\",\"zerolinecolor\":\"white\"},\"yaxis\":{\"backgroundcolor\":\"#E5ECF6\",\"gridcolor\":\"white\",\"gridwidth\":2,\"linecolor\":\"white\",\"showbackground\":true,\"ticks\":\"\",\"zerolinecolor\":\"white\"},\"zaxis\":{\"backgroundcolor\":\"#E5ECF6\",\"gridcolor\":\"white\",\"gridwidth\":2,\"linecolor\":\"white\",\"showbackground\":true,\"ticks\":\"\",\"zerolinecolor\":\"white\"}},\"shapedefaults\":{\"line\":{\"color\":\"#2a3f5f\"}},\"ternary\":{\"aaxis\":{\"gridcolor\":\"white\",\"linecolor\":\"white\",\"ticks\":\"\"},\"baxis\":{\"gridcolor\":\"white\",\"linecolor\":\"white\",\"ticks\":\"\"},\"bgcolor\":\"#E5ECF6\",\"caxis\":{\"gridcolor\":\"white\",\"linecolor\":\"white\",\"ticks\":\"\"}},\"title\":{\"x\":0.05},\"xaxis\":{\"automargin\":true,\"gridcolor\":\"white\",\"linecolor\":\"white\",\"ticks\":\"\",\"title\":{\"standoff\":15},\"zerolinecolor\":\"white\",\"zerolinewidth\":2},\"yaxis\":{\"automargin\":true,\"gridcolor\":\"white\",\"linecolor\":\"white\",\"ticks\":\"\",\"title\":{\"standoff\":15},\"zerolinecolor\":\"white\",\"zerolinewidth\":2}}},\"xaxis\":{\"title\":{\"text\":\"value\"}},\"yaxis\":{\"title\":{\"text\":\"count\"}}},                        {\"responsive\": true}                    ).then(function(){\n",
              "                            \n",
              "var gd = document.getElementById('3cc62f66-8b26-451e-bf55-13a63394b669');\n",
              "var x = new MutationObserver(function (mutations, observer) {{\n",
              "        var display = window.getComputedStyle(gd).display;\n",
              "        if (!display || display === 'none') {{\n",
              "            console.log([gd, 'removed!']);\n",
              "            Plotly.purge(gd);\n",
              "            observer.disconnect();\n",
              "        }}\n",
              "}});\n",
              "\n",
              "// Listen for the removal of the full notebook cells\n",
              "var notebookContainer = gd.closest('#notebook-container');\n",
              "if (notebookContainer) {{\n",
              "    x.observe(notebookContainer, {childList: true});\n",
              "}}\n",
              "\n",
              "// Listen for the clearing of the current output cell\n",
              "var outputEl = gd.closest('.output');\n",
              "if (outputEl) {{\n",
              "    x.observe(outputEl, {childList: true});\n",
              "}}\n",
              "\n",
              "                        })                };                            </script>        </div>\n",
              "</body>\n",
              "</html>"
            ]
          },
          "metadata": {}
        }
      ]
    },
    {
      "cell_type": "code",
      "source": [
        "hist = df.hist(column='Couple')\n",
        "%time hist"
      ],
      "metadata": {
        "colab": {
          "base_uri": "https://localhost:8080/",
          "height": 413
        },
        "id": "FP_ZCnUIYsH6",
        "outputId": "da689b03-8090-47be-b232-29dd19dda96a"
      },
      "execution_count": null,
      "outputs": [
        {
          "output_type": "stream",
          "name": "stdout",
          "text": [
            "CPU times: user 3 µs, sys: 1e+03 ns, total: 4 µs\n",
            "Wall time: 6.44 µs\n"
          ]
        },
        {
          "output_type": "execute_result",
          "data": {
            "text/plain": [
              "array([[<matplotlib.axes._subplots.AxesSubplot object at 0x7fbf9fa3e340>]],\n",
              "      dtype=object)"
            ]
          },
          "metadata": {},
          "execution_count": 20
        },
        {
          "output_type": "display_data",
          "data": {
            "text/plain": [
              "<Figure size 648x360 with 1 Axes>"
            ],
            "image/png": "[encoded data removed]"
          },
          "metadata": {
            "needs_background": "light"
          }
        }
      ]
    },
    {
      "cell_type": "markdown",
      "source": [
        "The histogram access the \"Couple\" column, then call the plot method and pass in histogram. Koalas generate a complete histogram with x-axis and y-axis value labels, as well as a tooltip on the chart. However, pandas produce a basic histogram without labels the x-axis and y-axis. Despite the fact that koalas executes slightly slower than pandas, the histogram is much easier to analyse."
      ],
      "metadata": {
        "id": "DIHolpTDWagj"
      }
    }
  ]
  
}

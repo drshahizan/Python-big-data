{
  "cells": [
    {
      "cell_type": "markdown",
      "metadata": {
        "id": "view-in-github",
        "colab_type": "text"
      },
      "source": [
        "<a href=\"https://colab.research.google.com/github/drshahizan/Python-big-data/blob/main/Assignment%202b/QUAD/QUAD_Assignment2B_Polars.ipynb\" target=\"_parent\"><img src=\"https://colab.research.google.com/assets/colab-badge.svg\" alt=\"Open In Colab\"/></a>"
      ]
    },
    {
      "cell_type": "markdown",
      "source": [
        "# Comparison between Polars and Pandas\n",
        "\n",
        "<br>\n",
        " <p align=\"center\">\n",
        "  <img src=\"https://raw.githubusercontent.com/Terence172/FirstR/main/Pictures/PandasNPolarBear.jpg\" height = \"200\"/>\n",
        " </p>\n",
        "</br>\n",
        "\n",
        "🚀 Group Members QUAD (Team 8)\n",
        "\n",
        "> 1. CHONG KAI ZHE\n",
        "> 2. TERENCE A/L LOORTHANATHAN\n",
        "> 3. RISHMA FATHIMA BINTI BASHER\n",
        "> 4. NUR SYAMALIA FAIQAH BINTI MOHD KAMAL"
      ],
      "metadata": {
        "id": "6fgy-i2lC-mA"
      }
    },
    {
      "cell_type": "markdown",
      "source": [
        "\n",
        "In this part of the assingment, pandas and polars will be compared in different tests. Performance of each of libraries will be noted and the findings will be concluded.<br>\n",
        "Comparisons will be evaluated through time execution of each their respective Python statements or expressions. Outputted in each comparison will be CPU and wall clock times."
      ],
      "metadata": {
        "id": "hqKLYrICzsTB"
      }
    },
    {
      "cell_type": "markdown",
      "metadata": {
        "id": "LxWzVndBVJJ1"
      },
      "source": [
        "## Downloading the Dataset\n",
        "\n",
        "The dataset can be viewed in this [link](https://www.kaggle.com/datasets/elemento/nyc-yellow-taxi-trip-data)"
      ]
    },
    {
      "cell_type": "markdown",
      "metadata": {
        "id": "oHRcyidmVJJ1"
      },
      "source": [
        "To Mount Google Drive in which the dataset can be downloaded into, the code below has to be runned.\n"
      ]
    },
    {
      "cell_type": "code",
      "execution_count": null,
      "metadata": {
        "id": "_s6ZSPWYVJJ2"
      },
      "outputs": [],
      "source": [
        "from google.colab import drive\n",
        "drive.mount('/content/drive')"
      ]
    },
    {
      "cell_type": "markdown",
      "source": [
        "The code below installs kaggle library, as it is needed in this procedure."
      ],
      "metadata": {
        "id": "n7oGAdGYULRW"
      }
    },
    {
      "cell_type": "code",
      "source": [
        " !pip install -q kaggle"
      ],
      "metadata": {
        "id": "RgGR4K04byXb"
      },
      "execution_count": 3,
      "outputs": []
    },
    {
      "cell_type": "markdown",
      "metadata": {
        "id": "GhhO14GEVJJ2"
      },
      "source": [
        "Now the `kaggle.json` file has to be uploaded, which contains an API token. This is needed as  Kaggle services has to be authenticated."
      ]
    },
    {
      "cell_type": "code",
      "source": [
        "from google.colab import files\n",
        "\n",
        "files.upload()"
      ],
      "metadata": {
        "colab": {
          "base_uri": "https://localhost:8080/",
          "height": 90
        },
        "id": "rOcSifdBb3lA",
        "outputId": "0dd6b3ae-08d4-4380-d9c8-f799062c103a"
      },
      "execution_count": 4,
      "outputs": [
        {
          "output_type": "display_data",
          "data": {
            "text/plain": [
              "<IPython.core.display.HTML object>"
            ],
            "text/html": [
              "\n",
              "     <input type=\"file\" id=\"files-4fd82881-7988-49f2-a657-2ae3ff1589d0\" name=\"files[]\" multiple disabled\n",
              "        style=\"border:none\" />\n",
              "     <output id=\"result-4fd82881-7988-49f2-a657-2ae3ff1589d0\">\n",
              "      Upload widget is only available when the cell has been executed in the\n",
              "      current browser session. Please rerun this cell to enable.\n",
              "      </output>\n",
              "      <script>// Copyright 2017 Google LLC\n",
              "//\n",
              "// Licensed under the Apache License, Version 2.0 (the \"License\");\n",
              "// you may not use this file except in compliance with the License.\n",
              "// You may obtain a copy of the License at\n",
              "//\n",
              "//      http://www.apache.org/licenses/LICENSE-2.0\n",
              "//\n",
              "// Unless required by applicable law or agreed to in writing, software\n",
              "// distributed under the License is distributed on an \"AS IS\" BASIS,\n",
              "// WITHOUT WARRANTIES OR CONDITIONS OF ANY KIND, either express or implied.\n",
              "// See the License for the specific language governing permissions and\n",
              "// limitations under the License.\n",
              "\n",
              "/**\n",
              " * @fileoverview Helpers for google.colab Python module.\n",
              " */\n",
              "(function(scope) {\n",
              "function span(text, styleAttributes = {}) {\n",
              "  const element = document.createElement('span');\n",
              "  element.textContent = text;\n",
              "  for (const key of Object.keys(styleAttributes)) {\n",
              "    element.style[key] = styleAttributes[key];\n",
              "  }\n",
              "  return element;\n",
              "}\n",
              "\n",
              "// Max number of bytes which will be uploaded at a time.\n",
              "const MAX_PAYLOAD_SIZE = 100 * 1024;\n",
              "\n",
              "function _uploadFiles(inputId, outputId) {\n",
              "  const steps = uploadFilesStep(inputId, outputId);\n",
              "  const outputElement = document.getElementById(outputId);\n",
              "  // Cache steps on the outputElement to make it available for the next call\n",
              "  // to uploadFilesContinue from Python.\n",
              "  outputElement.steps = steps;\n",
              "\n",
              "  return _uploadFilesContinue(outputId);\n",
              "}\n",
              "\n",
              "// This is roughly an async generator (not supported in the browser yet),\n",
              "// where there are multiple asynchronous steps and the Python side is going\n",
              "// to poll for completion of each step.\n",
              "// This uses a Promise to block the python side on completion of each step,\n",
              "// then passes the result of the previous step as the input to the next step.\n",
              "function _uploadFilesContinue(outputId) {\n",
              "  const outputElement = document.getElementById(outputId);\n",
              "  const steps = outputElement.steps;\n",
              "\n",
              "  const next = steps.next(outputElement.lastPromiseValue);\n",
              "  return Promise.resolve(next.value.promise).then((value) => {\n",
              "    // Cache the last promise value to make it available to the next\n",
              "    // step of the generator.\n",
              "    outputElement.lastPromiseValue = value;\n",
              "    return next.value.response;\n",
              "  });\n",
              "}\n",
              "\n",
              "/**\n",
              " * Generator function which is called between each async step of the upload\n",
              " * process.\n",
              " * @param {string} inputId Element ID of the input file picker element.\n",
              " * @param {string} outputId Element ID of the output display.\n",
              " * @return {!Iterable<!Object>} Iterable of next steps.\n",
              " */\n",
              "function* uploadFilesStep(inputId, outputId) {\n",
              "  const inputElement = document.getElementById(inputId);\n",
              "  inputElement.disabled = false;\n",
              "\n",
              "  const outputElement = document.getElementById(outputId);\n",
              "  outputElement.innerHTML = '';\n",
              "\n",
              "  const pickedPromise = new Promise((resolve) => {\n",
              "    inputElement.addEventListener('change', (e) => {\n",
              "      resolve(e.target.files);\n",
              "    });\n",
              "  });\n",
              "\n",
              "  const cancel = document.createElement('button');\n",
              "  inputElement.parentElement.appendChild(cancel);\n",
              "  cancel.textContent = 'Cancel upload';\n",
              "  const cancelPromise = new Promise((resolve) => {\n",
              "    cancel.onclick = () => {\n",
              "      resolve(null);\n",
              "    };\n",
              "  });\n",
              "\n",
              "  // Wait for the user to pick the files.\n",
              "  const files = yield {\n",
              "    promise: Promise.race([pickedPromise, cancelPromise]),\n",
              "    response: {\n",
              "      action: 'starting',\n",
              "    }\n",
              "  };\n",
              "\n",
              "  cancel.remove();\n",
              "\n",
              "  // Disable the input element since further picks are not allowed.\n",
              "  inputElement.disabled = true;\n",
              "\n",
              "  if (!files) {\n",
              "    return {\n",
              "      response: {\n",
              "        action: 'complete',\n",
              "      }\n",
              "    };\n",
              "  }\n",
              "\n",
              "  for (const file of files) {\n",
              "    const li = document.createElement('li');\n",
              "    li.append(span(file.name, {fontWeight: 'bold'}));\n",
              "    li.append(span(\n",
              "        `(${file.type || 'n/a'}) - ${file.size} bytes, ` +\n",
              "        `last modified: ${\n",
              "            file.lastModifiedDate ? file.lastModifiedDate.toLocaleDateString() :\n",
              "                                    'n/a'} - `));\n",
              "    const percent = span('0% done');\n",
              "    li.appendChild(percent);\n",
              "\n",
              "    outputElement.appendChild(li);\n",
              "\n",
              "    const fileDataPromise = new Promise((resolve) => {\n",
              "      const reader = new FileReader();\n",
              "      reader.onload = (e) => {\n",
              "        resolve(e.target.result);\n",
              "      };\n",
              "      reader.readAsArrayBuffer(file);\n",
              "    });\n",
              "    // Wait for the data to be ready.\n",
              "    let fileData = yield {\n",
              "      promise: fileDataPromise,\n",
              "      response: {\n",
              "        action: 'continue',\n",
              "      }\n",
              "    };\n",
              "\n",
              "    // Use a chunked sending to avoid message size limits. See b/62115660.\n",
              "    let position = 0;\n",
              "    do {\n",
              "      const length = Math.min(fileData.byteLength - position, MAX_PAYLOAD_SIZE);\n",
              "      const chunk = new Uint8Array(fileData, position, length);\n",
              "      position += length;\n",
              "\n",
              "      const base64 = btoa(String.fromCharCode.apply(null, chunk));\n",
              "      yield {\n",
              "        response: {\n",
              "          action: 'append',\n",
              "          file: file.name,\n",
              "          data: base64,\n",
              "        },\n",
              "      };\n",
              "\n",
              "      let percentDone = fileData.byteLength === 0 ?\n",
              "          100 :\n",
              "          Math.round((position / fileData.byteLength) * 100);\n",
              "      percent.textContent = `${percentDone}% done`;\n",
              "\n",
              "    } while (position < fileData.byteLength);\n",
              "  }\n",
              "\n",
              "  // All done.\n",
              "  yield {\n",
              "    response: {\n",
              "      action: 'complete',\n",
              "    }\n",
              "  };\n",
              "}\n",
              "\n",
              "scope.google = scope.google || {};\n",
              "scope.google.colab = scope.google.colab || {};\n",
              "scope.google.colab._files = {\n",
              "  _uploadFiles,\n",
              "  _uploadFilesContinue,\n",
              "};\n",
              "})(self);\n",
              "</script> "
            ]
          },
          "metadata": {}
        },
        {
          "output_type": "stream",
          "name": "stdout",
          "text": [
            "Saving kaggle.json to kaggle.json\n"
          ]
        },
        {
          "output_type": "execute_result",
          "data": {
            "text/plain": [
              "{'kaggle.json': b'{\"username\":\"terenceloorthanathan\",\"key\":\"5d26afa143c5568014eff11126795430\"}'}"
            ]
          },
          "metadata": {},
          "execution_count": 4
        }
      ]
    },
    {
      "cell_type": "markdown",
      "source": [
        "Now we have to,\n",
        "*   Make a directory named “.kaggle”.\n",
        "*   Copy the “kaggle.json” into this new directory.\n",
        "*   Download the [Dataset](https://www.kaggle.com/datasets/gauthamp10/google-playstore-apps) from Kaggle.\n",
        "\n"
      ],
      "metadata": {
        "id": "O-O6d3vSU0cd"
      }
    },
    {
      "cell_type": "code",
      "source": [
        "!mkdir -p ~/.kaggle #Creating a directory to store kaggle.json\n",
        "!cp kaggle.json ~/.kaggle/ #Copy Kaggle.json to new directory\n",
        "\n",
        "!chmod 600 /root/.kaggle/kaggle.json #To set permission for the kaggle.json\n",
        "\n",
        "!kaggle datasets download -d elemento/nyc-yellow-taxi-trip-data #download dataset"
      ],
      "metadata": {
        "id": "UCNxNmYicE1m",
        "colab": {
          "base_uri": "https://localhost:8080/"
        },
        "outputId": "da16b6d6-0bd0-4f1a-8434-303a6d2fed14"
      },
      "execution_count": 5,
      "outputs": [
        {
          "output_type": "stream",
          "name": "stdout",
          "text": [
            "Downloading nyc-yellow-taxi-trip-data.zip to /content\n",
            "100% 1.78G/1.78G [00:26<00:00, 96.2MB/s]\n",
            "100% 1.78G/1.78G [00:26<00:00, 72.2MB/s]\n"
          ]
        }
      ]
    },
    {
      "cell_type": "markdown",
      "source": [
        "Now we have to unzip the file that was just downloaded to acquire the csv file."
      ],
      "metadata": {
        "id": "Rx1gWY4TVh2L"
      }
    },
    {
      "cell_type": "code",
      "source": [
        "!unzip nyc-yellow-taxi-trip-data.zip #unzip the downloaded dataset"
      ],
      "metadata": {
        "id": "GAp17dhXcW_d",
        "colab": {
          "base_uri": "https://localhost:8080/"
        },
        "outputId": "8736cbc2-f323-4a96-f0f4-f3c9137cff43"
      },
      "execution_count": 6,
      "outputs": [
        {
          "output_type": "stream",
          "name": "stdout",
          "text": [
            "Archive:  nyc-yellow-taxi-trip-data.zip\n",
            "  inflating: yellow_tripdata_2015-01.csv  \n",
            "  inflating: yellow_tripdata_2016-01.csv  \n",
            "  inflating: yellow_tripdata_2016-02.csv  \n",
            "  inflating: yellow_tripdata_2016-03.csv  \n"
          ]
        }
      ]
    },
    {
      "cell_type": "markdown",
      "source": [
        "## Installing and Importing Polars\n",
        "\n",
        "Polars is a Python library for data visualization and analysis, and it is not included in the standard Python distribution. Therefore, in order to use it in your Google Colab notebook or any other project, you need to install it first."
      ],
      "metadata": {
        "id": "-E6CUf_t_9m_"
      }
    },
    {
      "cell_type": "code",
      "source": [
        "!pip install 'polars[all]'\n",
        "#or\n",
        "#pip install 'polars[numpy,pandas,pyarrow]' to  install a subset of all optional dependencies"
      ],
      "metadata": {
        "id": "-nPE9CpQ_tUf",
        "colab": {
          "base_uri": "https://localhost:8080/"
        },
        "outputId": "0079c58e-14ba-46d1-a39f-e7d1820ff3f8"
      },
      "execution_count": 7,
      "outputs": [
        {
          "output_type": "stream",
          "name": "stdout",
          "text": [
            "Looking in indexes: https://pypi.org/simple, https://us-python.pkg.dev/colab-wheels/public/simple/\n",
            "Collecting polars[all]\n",
            "  Downloading polars-0.15.14-cp37-abi3-manylinux_2_17_x86_64.manylinux2014_x86_64.whl (14.8 MB)\n",
            "\u001b[2K     \u001b[90m━━━━━━━━━━━━━━━━━━━━━━━━━━━━━━━━━━━━━━━━\u001b[0m \u001b[32m14.8/14.8 MB\u001b[0m \u001b[31m23.2 MB/s\u001b[0m eta \u001b[36m0:00:00\u001b[0m\n",
            "\u001b[?25hRequirement already satisfied: typing_extensions>=4.0.0 in /usr/local/lib/python3.8/dist-packages (from polars[all]) (4.4.0)\n",
            "Collecting xlsx2csv>=0.8.0\n",
            "  Downloading xlsx2csv-0.8.1-py3-none-any.whl (13 kB)\n",
            "Collecting backports.zoneinfo\n",
            "  Downloading backports.zoneinfo-0.2.1-cp38-cp38-manylinux1_x86_64.whl (74 kB)\n",
            "\u001b[2K     \u001b[90m━━━━━━━━━━━━━━━━━━━━━━━━━━━━━━━━━━━━━━━━\u001b[0m \u001b[32m74.0/74.0 KB\u001b[0m \u001b[31m8.1 MB/s\u001b[0m eta \u001b[36m0:00:00\u001b[0m\n",
            "\u001b[?25hRequirement already satisfied: numpy>=1.16.0 in /usr/local/lib/python3.8/dist-packages (from polars[all]) (1.21.6)\n",
            "Collecting connectorx\n",
            "  Downloading connectorx-0.3.1-cp38-cp38-manylinux_2_17_x86_64.manylinux2014_x86_64.whl (46.6 MB)\n",
            "\u001b[2K     \u001b[90m━━━━━━━━━━━━━━━━━━━━━━━━━━━━━━━━━━━━━━━━\u001b[0m \u001b[32m46.6/46.6 MB\u001b[0m \u001b[31m12.8 MB/s\u001b[0m eta \u001b[36m0:00:00\u001b[0m\n",
            "\u001b[?25hCollecting deltalake\n",
            "  Downloading deltalake-0.6.4-cp37-abi3-manylinux_2_17_x86_64.manylinux2014_x86_64.whl (14.7 MB)\n",
            "\u001b[2K     \u001b[90m━━━━━━━━━━━━━━━━━━━━━━━━━━━━━━━━━━━━━━━━\u001b[0m \u001b[32m14.7/14.7 MB\u001b[0m \u001b[31m72.8 MB/s\u001b[0m eta \u001b[36m0:00:00\u001b[0m\n",
            "\u001b[?25hRequirement already satisfied: matplotlib in /usr/local/lib/python3.8/dist-packages (from polars[all]) (3.2.2)\n",
            "Requirement already satisfied: pyarrow>=4.0.0 in /usr/local/lib/python3.8/dist-packages (from polars[all]) (9.0.0)\n",
            "Requirement already satisfied: pandas in /usr/local/lib/python3.8/dist-packages (from polars[all]) (1.3.5)\n",
            "Requirement already satisfied: fsspec in /usr/local/lib/python3.8/dist-packages (from polars[all]) (2022.11.0)\n",
            "Requirement already satisfied: kiwisolver>=1.0.1 in /usr/local/lib/python3.8/dist-packages (from matplotlib->polars[all]) (1.4.4)\n",
            "Requirement already satisfied: cycler>=0.10 in /usr/local/lib/python3.8/dist-packages (from matplotlib->polars[all]) (0.11.0)\n",
            "Requirement already satisfied: python-dateutil>=2.1 in /usr/local/lib/python3.8/dist-packages (from matplotlib->polars[all]) (2.8.2)\n",
            "Requirement already satisfied: pyparsing!=2.0.4,!=2.1.2,!=2.1.6,>=2.0.1 in /usr/local/lib/python3.8/dist-packages (from matplotlib->polars[all]) (3.0.9)\n",
            "Requirement already satisfied: pytz>=2017.3 in /usr/local/lib/python3.8/dist-packages (from pandas->polars[all]) (2022.7)\n",
            "Requirement already satisfied: six>=1.5 in /usr/local/lib/python3.8/dist-packages (from python-dateutil>=2.1->matplotlib->polars[all]) (1.15.0)\n",
            "Installing collected packages: xlsx2csv, connectorx, polars, backports.zoneinfo, deltalake\n",
            "Successfully installed backports.zoneinfo-0.2.1 connectorx-0.3.1 deltalake-0.6.4 polars-0.15.14 xlsx2csv-0.8.1\n"
          ]
        }
      ]
    },
    {
      "cell_type": "markdown",
      "source": [
        "The code below will import polars as pl"
      ],
      "metadata": {
        "id": "0py6t7l3x0E5"
      }
    },
    {
      "cell_type": "code",
      "source": [
        "import polars as pl"
      ],
      "metadata": {
        "id": "aMVn9glRxyB4"
      },
      "execution_count": 8,
      "outputs": []
    },
    {
      "cell_type": "markdown",
      "source": [
        "## Importing Pandas\n",
        "\n",
        "For the purpose of manipulating and analysing data, the Python programming language has another software package called pandas. What is the difference? Pandas has a reputation for being slow processing large datasets. Polars on the other hand is developed to counter that flaw.\n",
        "<br><br>\n",
        "This time however, pandas is included in the standard Python distribution. This means, a single line of code is able to import the entire library."
      ],
      "metadata": {
        "id": "SALZbea-x-mk"
      }
    },
    {
      "cell_type": "code",
      "source": [
        "import pandas as pd"
      ],
      "metadata": {
        "id": "Xv42Hy1x1tJj"
      },
      "execution_count": 9,
      "outputs": []
    },
    {
      "cell_type": "markdown",
      "source": [
        "## Comparison between Pandas and Polars"
      ],
      "metadata": {
        "id": "ebBUwYCEBPFt"
      }
    },
    {
      "cell_type": "markdown",
      "source": [
        "Comparison will be done by executing methods as follows, \n",
        "1. Basic operations\n",
        "2. Aggregation operations\n",
        "3. Attributes operations\n",
        "4. Manipulation operations\n",
        "\n",
        "Obtaining execution times for each"
      ],
      "metadata": {
        "id": "YN1wKroO3olN"
      }
    },
    {
      "cell_type": "markdown",
      "source": [
        "###Basic Operations\n",
        "\n",
        "#### Pandas"
      ],
      "metadata": {
        "id": "DF6ah_6B4sRR"
      }
    },
    {
      "cell_type": "code",
      "source": [
        "%%time\n",
        "# read csv file using pandas\n",
        "df_pandas = pd.read_csv('yellow_tripdata_2015-01.csv')"
      ],
      "metadata": {
        "id": "ZKq2Zta4BReq",
        "colab": {
          "base_uri": "https://localhost:8080/"
        },
        "outputId": "21f3ded9-59d1-4dcb-d6fa-a4246dcea802"
      },
      "execution_count": 10,
      "outputs": [
        {
          "output_type": "stream",
          "name": "stdout",
          "text": [
            "CPU times: user 45.2 s, sys: 9.89 s, total: 55.1 s\n",
            "Wall time: 1min 5s\n"
          ]
        }
      ]
    },
    {
      "cell_type": "code",
      "source": [
        "%%time\n",
        "df_pandas.head()"
      ],
      "metadata": {
        "id": "qWgh-_jq7Of2",
        "colab": {
          "base_uri": "https://localhost:8080/",
          "height": 305
        },
        "outputId": "fb683176-5d2d-4c4f-fca5-4e7ab81153a2"
      },
      "execution_count": 11,
      "outputs": [
        {
          "output_type": "stream",
          "name": "stdout",
          "text": [
            "CPU times: user 317 µs, sys: 66 µs, total: 383 µs\n",
            "Wall time: 2.94 ms\n"
          ]
        },
        {
          "output_type": "execute_result",
          "data": {
            "text/plain": [
              "   VendorID tpep_pickup_datetime tpep_dropoff_datetime  passenger_count  \\\n",
              "0         2  2015-01-15 19:05:39   2015-01-15 19:23:42                1   \n",
              "1         1  2015-01-10 20:33:38   2015-01-10 20:53:28                1   \n",
              "2         1  2015-01-10 20:33:38   2015-01-10 20:43:41                1   \n",
              "3         1  2015-01-10 20:33:39   2015-01-10 20:35:31                1   \n",
              "4         1  2015-01-10 20:33:39   2015-01-10 20:52:58                1   \n",
              "\n",
              "   trip_distance  pickup_longitude  pickup_latitude  RateCodeID  \\\n",
              "0           1.59        -73.993896        40.750111           1   \n",
              "1           3.30        -74.001648        40.724243           1   \n",
              "2           1.80        -73.963341        40.802788           1   \n",
              "3           0.50        -74.009087        40.713818           1   \n",
              "4           3.00        -73.971176        40.762428           1   \n",
              "\n",
              "  store_and_fwd_flag  dropoff_longitude  dropoff_latitude  payment_type  \\\n",
              "0                  N         -73.974785         40.750618             1   \n",
              "1                  N         -73.994415         40.759109             1   \n",
              "2                  N         -73.951820         40.824413             2   \n",
              "3                  N         -74.004326         40.719986             2   \n",
              "4                  N         -74.004181         40.742653             2   \n",
              "\n",
              "   fare_amount  extra  mta_tax  tip_amount  tolls_amount  \\\n",
              "0         12.0    1.0      0.5        3.25           0.0   \n",
              "1         14.5    0.5      0.5        2.00           0.0   \n",
              "2          9.5    0.5      0.5        0.00           0.0   \n",
              "3          3.5    0.5      0.5        0.00           0.0   \n",
              "4         15.0    0.5      0.5        0.00           0.0   \n",
              "\n",
              "   improvement_surcharge  total_amount  \n",
              "0                    0.3         17.05  \n",
              "1                    0.3         17.80  \n",
              "2                    0.3         10.80  \n",
              "3                    0.3          4.80  \n",
              "4                    0.3         16.30  "
            ],
            "text/html": [
              "\n",
              "  <div id=\"df-e8d255ae-4900-4eaf-8e28-37b8efc61c03\">\n",
              "    <div class=\"colab-df-container\">\n",
              "      <div>\n",
              "<style scoped>\n",
              "    .dataframe tbody tr th:only-of-type {\n",
              "        vertical-align: middle;\n",
              "    }\n",
              "\n",
              "    .dataframe tbody tr th {\n",
              "        vertical-align: top;\n",
              "    }\n",
              "\n",
              "    .dataframe thead th {\n",
              "        text-align: right;\n",
              "    }\n",
              "</style>\n",
              "<table border=\"1\" class=\"dataframe\">\n",
              "  <thead>\n",
              "    <tr style=\"text-align: right;\">\n",
              "      <th></th>\n",
              "      <th>VendorID</th>\n",
              "      <th>tpep_pickup_datetime</th>\n",
              "      <th>tpep_dropoff_datetime</th>\n",
              "      <th>passenger_count</th>\n",
              "      <th>trip_distance</th>\n",
              "      <th>pickup_longitude</th>\n",
              "      <th>pickup_latitude</th>\n",
              "      <th>RateCodeID</th>\n",
              "      <th>store_and_fwd_flag</th>\n",
              "      <th>dropoff_longitude</th>\n",
              "      <th>dropoff_latitude</th>\n",
              "      <th>payment_type</th>\n",
              "      <th>fare_amount</th>\n",
              "      <th>extra</th>\n",
              "      <th>mta_tax</th>\n",
              "      <th>tip_amount</th>\n",
              "      <th>tolls_amount</th>\n",
              "      <th>improvement_surcharge</th>\n",
              "      <th>total_amount</th>\n",
              "    </tr>\n",
              "  </thead>\n",
              "  <tbody>\n",
              "    <tr>\n",
              "      <th>0</th>\n",
              "      <td>2</td>\n",
              "      <td>2015-01-15 19:05:39</td>\n",
              "      <td>2015-01-15 19:23:42</td>\n",
              "      <td>1</td>\n",
              "      <td>1.59</td>\n",
              "      <td>-73.993896</td>\n",
              "      <td>40.750111</td>\n",
              "      <td>1</td>\n",
              "      <td>N</td>\n",
              "      <td>-73.974785</td>\n",
              "      <td>40.750618</td>\n",
              "      <td>1</td>\n",
              "      <td>12.0</td>\n",
              "      <td>1.0</td>\n",
              "      <td>0.5</td>\n",
              "      <td>3.25</td>\n",
              "      <td>0.0</td>\n",
              "      <td>0.3</td>\n",
              "      <td>17.05</td>\n",
              "    </tr>\n",
              "    <tr>\n",
              "      <th>1</th>\n",
              "      <td>1</td>\n",
              "      <td>2015-01-10 20:33:38</td>\n",
              "      <td>2015-01-10 20:53:28</td>\n",
              "      <td>1</td>\n",
              "      <td>3.30</td>\n",
              "      <td>-74.001648</td>\n",
              "      <td>40.724243</td>\n",
              "      <td>1</td>\n",
              "      <td>N</td>\n",
              "      <td>-73.994415</td>\n",
              "      <td>40.759109</td>\n",
              "      <td>1</td>\n",
              "      <td>14.5</td>\n",
              "      <td>0.5</td>\n",
              "      <td>0.5</td>\n",
              "      <td>2.00</td>\n",
              "      <td>0.0</td>\n",
              "      <td>0.3</td>\n",
              "      <td>17.80</td>\n",
              "    </tr>\n",
              "    <tr>\n",
              "      <th>2</th>\n",
              "      <td>1</td>\n",
              "      <td>2015-01-10 20:33:38</td>\n",
              "      <td>2015-01-10 20:43:41</td>\n",
              "      <td>1</td>\n",
              "      <td>1.80</td>\n",
              "      <td>-73.963341</td>\n",
              "      <td>40.802788</td>\n",
              "      <td>1</td>\n",
              "      <td>N</td>\n",
              "      <td>-73.951820</td>\n",
              "      <td>40.824413</td>\n",
              "      <td>2</td>\n",
              "      <td>9.5</td>\n",
              "      <td>0.5</td>\n",
              "      <td>0.5</td>\n",
              "      <td>0.00</td>\n",
              "      <td>0.0</td>\n",
              "      <td>0.3</td>\n",
              "      <td>10.80</td>\n",
              "    </tr>\n",
              "    <tr>\n",
              "      <th>3</th>\n",
              "      <td>1</td>\n",
              "      <td>2015-01-10 20:33:39</td>\n",
              "      <td>2015-01-10 20:35:31</td>\n",
              "      <td>1</td>\n",
              "      <td>0.50</td>\n",
              "      <td>-74.009087</td>\n",
              "      <td>40.713818</td>\n",
              "      <td>1</td>\n",
              "      <td>N</td>\n",
              "      <td>-74.004326</td>\n",
              "      <td>40.719986</td>\n",
              "      <td>2</td>\n",
              "      <td>3.5</td>\n",
              "      <td>0.5</td>\n",
              "      <td>0.5</td>\n",
              "      <td>0.00</td>\n",
              "      <td>0.0</td>\n",
              "      <td>0.3</td>\n",
              "      <td>4.80</td>\n",
              "    </tr>\n",
              "    <tr>\n",
              "      <th>4</th>\n",
              "      <td>1</td>\n",
              "      <td>2015-01-10 20:33:39</td>\n",
              "      <td>2015-01-10 20:52:58</td>\n",
              "      <td>1</td>\n",
              "      <td>3.00</td>\n",
              "      <td>-73.971176</td>\n",
              "      <td>40.762428</td>\n",
              "      <td>1</td>\n",
              "      <td>N</td>\n",
              "      <td>-74.004181</td>\n",
              "      <td>40.742653</td>\n",
              "      <td>2</td>\n",
              "      <td>15.0</td>\n",
              "      <td>0.5</td>\n",
              "      <td>0.5</td>\n",
              "      <td>0.00</td>\n",
              "      <td>0.0</td>\n",
              "      <td>0.3</td>\n",
              "      <td>16.30</td>\n",
              "    </tr>\n",
              "  </tbody>\n",
              "</table>\n",
              "</div>\n",
              "      <button class=\"colab-df-convert\" onclick=\"convertToInteractive('df-e8d255ae-4900-4eaf-8e28-37b8efc61c03')\"\n",
              "              title=\"Convert this dataframe to an interactive table.\"\n",
              "              style=\"display:none;\">\n",
              "        \n",
              "  <svg xmlns=\"http://www.w3.org/2000/svg\" height=\"24px\"viewBox=\"0 0 24 24\"\n",
              "       width=\"24px\">\n",
              "    <path d=\"M0 0h24v24H0V0z\" fill=\"none\"/>\n",
              "    <path d=\"M18.56 5.44l.94 2.06.94-2.06 2.06-.94-2.06-.94-.94-2.06-.94 2.06-2.06.94zm-11 1L8.5 8.5l.94-2.06 2.06-.94-2.06-.94L8.5 2.5l-.94 2.06-2.06.94zm10 10l.94 2.06.94-2.06 2.06-.94-2.06-.94-.94-2.06-.94 2.06-2.06.94z\"/><path d=\"M17.41 7.96l-1.37-1.37c-.4-.4-.92-.59-1.43-.59-.52 0-1.04.2-1.43.59L10.3 9.45l-7.72 7.72c-.78.78-.78 2.05 0 2.83L4 21.41c.39.39.9.59 1.41.59.51 0 1.02-.2 1.41-.59l7.78-7.78 2.81-2.81c.8-.78.8-2.07 0-2.86zM5.41 20L4 18.59l7.72-7.72 1.47 1.35L5.41 20z\"/>\n",
              "  </svg>\n",
              "      </button>\n",
              "      \n",
              "  <style>\n",
              "    .colab-df-container {\n",
              "      display:flex;\n",
              "      flex-wrap:wrap;\n",
              "      gap: 12px;\n",
              "    }\n",
              "\n",
              "    .colab-df-convert {\n",
              "      background-color: #E8F0FE;\n",
              "      border: none;\n",
              "      border-radius: 50%;\n",
              "      cursor: pointer;\n",
              "      display: none;\n",
              "      fill: #1967D2;\n",
              "      height: 32px;\n",
              "      padding: 0 0 0 0;\n",
              "      width: 32px;\n",
              "    }\n",
              "\n",
              "    .colab-df-convert:hover {\n",
              "      background-color: #E2EBFA;\n",
              "      box-shadow: 0px 1px 2px rgba(60, 64, 67, 0.3), 0px 1px 3px 1px rgba(60, 64, 67, 0.15);\n",
              "      fill: #174EA6;\n",
              "    }\n",
              "\n",
              "    [theme=dark] .colab-df-convert {\n",
              "      background-color: #3B4455;\n",
              "      fill: #D2E3FC;\n",
              "    }\n",
              "\n",
              "    [theme=dark] .colab-df-convert:hover {\n",
              "      background-color: #434B5C;\n",
              "      box-shadow: 0px 1px 3px 1px rgba(0, 0, 0, 0.15);\n",
              "      filter: drop-shadow(0px 1px 2px rgba(0, 0, 0, 0.3));\n",
              "      fill: #FFFFFF;\n",
              "    }\n",
              "  </style>\n",
              "\n",
              "      <script>\n",
              "        const buttonEl =\n",
              "          document.querySelector('#df-e8d255ae-4900-4eaf-8e28-37b8efc61c03 button.colab-df-convert');\n",
              "        buttonEl.style.display =\n",
              "          google.colab.kernel.accessAllowed ? 'block' : 'none';\n",
              "\n",
              "        async function convertToInteractive(key) {\n",
              "          const element = document.querySelector('#df-e8d255ae-4900-4eaf-8e28-37b8efc61c03');\n",
              "          const dataTable =\n",
              "            await google.colab.kernel.invokeFunction('convertToInteractive',\n",
              "                                                     [key], {});\n",
              "          if (!dataTable) return;\n",
              "\n",
              "          const docLinkHtml = 'Like what you see? Visit the ' +\n",
              "            '<a target=\"_blank\" href=https://colab.research.google.com/notebooks/data_table.ipynb>data table notebook</a>'\n",
              "            + ' to learn more about interactive tables.';\n",
              "          element.innerHTML = '';\n",
              "          dataTable['output_type'] = 'display_data';\n",
              "          await google.colab.output.renderOutput(dataTable, element);\n",
              "          const docLink = document.createElement('div');\n",
              "          docLink.innerHTML = docLinkHtml;\n",
              "          element.appendChild(docLink);\n",
              "        }\n",
              "      </script>\n",
              "    </div>\n",
              "  </div>\n",
              "  "
            ]
          },
          "metadata": {},
          "execution_count": 11
        }
      ]
    },
    {
      "cell_type": "markdown",
      "source": [
        "####Polars"
      ],
      "metadata": {
        "id": "Z3_JSZQ05R2s"
      }
    },
    {
      "cell_type": "code",
      "source": [
        "%%time\n",
        "# read csv file using polars\n",
        "df_polars = pl.read_csv('yellow_tripdata_2015-01.csv')"
      ],
      "metadata": {
        "id": "GsuxWOpv5UrO",
        "colab": {
          "base_uri": "https://localhost:8080/"
        },
        "outputId": "1f26607c-287a-4d60-9f5f-c6196e06131b"
      },
      "execution_count": 12,
      "outputs": [
        {
          "output_type": "stream",
          "name": "stdout",
          "text": [
            "CPU times: user 21.8 s, sys: 6.53 s, total: 28.3 s\n",
            "Wall time: 27.6 s\n"
          ]
        }
      ]
    },
    {
      "cell_type": "code",
      "source": [
        "%%time\n",
        "df_polars.head()"
      ],
      "metadata": {
        "id": "gL4F4NQo7Tji",
        "colab": {
          "base_uri": "https://localhost:8080/",
          "height": 285
        },
        "outputId": "c469d979-a2b5-409b-969e-53d2927d9adf"
      },
      "execution_count": 32,
      "outputs": [
        {
          "output_type": "stream",
          "name": "stdout",
          "text": [
            "CPU times: user 223 µs, sys: 51 µs, total: 274 µs\n",
            "Wall time: 280 µs\n"
          ]
        },
        {
          "output_type": "execute_result",
          "data": {
            "text/plain": [
              "shape: (5, 19)\n",
              "┌──────────┬────────────┬────────────┬────────────┬─────┬──────────┬────────────┬────────────┬────────────┐\n",
              "│ VendorID ┆ tpep_picku ┆ tpep_dropo ┆ passenger_ ┆ ... ┆ tip_amou ┆ tolls_amou ┆ improvemen ┆ total_amou │\n",
              "│ ---      ┆ p_datetime ┆ ff_datetim ┆ count      ┆     ┆ nt       ┆ nt         ┆ t_surcharg ┆ nt         │\n",
              "│ i64      ┆ ---        ┆ e          ┆ ---        ┆     ┆ ---      ┆ ---        ┆ e          ┆ ---        │\n",
              "│          ┆ str        ┆ ---        ┆ i64        ┆     ┆ f64      ┆ f64        ┆ ---        ┆ f64        │\n",
              "│          ┆            ┆ str        ┆            ┆     ┆          ┆            ┆ f64        ┆            │\n",
              "╞══════════╪════════════╪════════════╪════════════╪═════╪══════════╪════════════╪════════════╪════════════╡\n",
              "│ 2        ┆ 2015-01-15 ┆ 2015-01-15 ┆ 1          ┆ ... ┆ 3.25     ┆ 0.0        ┆ 0.3        ┆ 17.05      │\n",
              "│          ┆ 19:05:39   ┆ 19:23:42   ┆            ┆     ┆          ┆            ┆            ┆            │\n",
              "│ 1        ┆ 2015-01-10 ┆ 2015-01-10 ┆ 1          ┆ ... ┆ 2.0      ┆ 0.0        ┆ 0.3        ┆ 17.8       │\n",
              "│          ┆ 20:33:38   ┆ 20:53:28   ┆            ┆     ┆          ┆            ┆            ┆            │\n",
              "│ 1        ┆ 2015-01-10 ┆ 2015-01-10 ┆ 1          ┆ ... ┆ 0.0      ┆ 0.0        ┆ 0.3        ┆ 10.8       │\n",
              "│          ┆ 20:33:38   ┆ 20:43:41   ┆            ┆     ┆          ┆            ┆            ┆            │\n",
              "│ 1        ┆ 2015-01-10 ┆ 2015-01-10 ┆ 1          ┆ ... ┆ 0.0      ┆ 0.0        ┆ 0.3        ┆ 4.8        │\n",
              "│          ┆ 20:33:39   ┆ 20:35:31   ┆            ┆     ┆          ┆            ┆            ┆            │\n",
              "│ 1        ┆ 2015-01-10 ┆ 2015-01-10 ┆ 1          ┆ ... ┆ 0.0      ┆ 0.0        ┆ 0.3        ┆ 16.3       │\n",
              "│          ┆ 20:33:39   ┆ 20:52:58   ┆            ┆     ┆          ┆            ┆            ┆            │\n",
              "└──────────┴────────────┴────────────┴────────────┴─────┴──────────┴────────────┴────────────┴────────────┘"
            ],
            "text/html": [
              "<div>\n",
              "<style scoped>\n",
              "    .dataframe tbody tr th:only-of-type {\n",
              "        vertical-align: middle;\n",
              "    }\n",
              "\n",
              "    .dataframe tbody tr th {\n",
              "        vertical-align: top;\n",
              "    }\n",
              "\n",
              "    .dataframe thead th {\n",
              "        text-align: right;\n",
              "    }\n",
              "\n",
              "    .dataframe td {\n",
              "        white-space: pre;\n",
              "    }\n",
              "\n",
              "    .dataframe td {\n",
              "        padding-top: 0;\n",
              "    }\n",
              "\n",
              "    .dataframe td {\n",
              "        padding-bottom: 0;\n",
              "    }\n",
              "\n",
              "    .dataframe td {\n",
              "        line-height: 95%;\n",
              "    }\n",
              "</style>\n",
              "<table border=\"1\" class=\"dataframe\">\n",
              "<small>shape: (5, 19)</small>\n",
              "<thead>\n",
              "<tr>\n",
              "<th>\n",
              "VendorID\n",
              "</th>\n",
              "<th>\n",
              "tpep_pickup_datetime\n",
              "</th>\n",
              "<th>\n",
              "tpep_dropoff_datetime\n",
              "</th>\n",
              "<th>\n",
              "passenger_count\n",
              "</th>\n",
              "<th>\n",
              "trip_distance\n",
              "</th>\n",
              "<th>\n",
              "pickup_longitude\n",
              "</th>\n",
              "<th>\n",
              "pickup_latitude\n",
              "</th>\n",
              "<th>\n",
              "RateCodeID\n",
              "</th>\n",
              "<th>\n",
              "store_and_fwd_flag\n",
              "</th>\n",
              "<th>\n",
              "dropoff_longitude\n",
              "</th>\n",
              "<th>\n",
              "dropoff_latitude\n",
              "</th>\n",
              "<th>\n",
              "payment_type\n",
              "</th>\n",
              "<th>\n",
              "fare_amount\n",
              "</th>\n",
              "<th>\n",
              "extra\n",
              "</th>\n",
              "<th>\n",
              "mta_tax\n",
              "</th>\n",
              "<th>\n",
              "tip_amount\n",
              "</th>\n",
              "<th>\n",
              "tolls_amount\n",
              "</th>\n",
              "<th>\n",
              "improvement_surcharge\n",
              "</th>\n",
              "<th>\n",
              "total_amount\n",
              "</th>\n",
              "</tr>\n",
              "<tr>\n",
              "<td>\n",
              "i64\n",
              "</td>\n",
              "<td>\n",
              "str\n",
              "</td>\n",
              "<td>\n",
              "str\n",
              "</td>\n",
              "<td>\n",
              "i64\n",
              "</td>\n",
              "<td>\n",
              "f64\n",
              "</td>\n",
              "<td>\n",
              "f64\n",
              "</td>\n",
              "<td>\n",
              "f64\n",
              "</td>\n",
              "<td>\n",
              "i64\n",
              "</td>\n",
              "<td>\n",
              "str\n",
              "</td>\n",
              "<td>\n",
              "f64\n",
              "</td>\n",
              "<td>\n",
              "f64\n",
              "</td>\n",
              "<td>\n",
              "i64\n",
              "</td>\n",
              "<td>\n",
              "f64\n",
              "</td>\n",
              "<td>\n",
              "f64\n",
              "</td>\n",
              "<td>\n",
              "f64\n",
              "</td>\n",
              "<td>\n",
              "f64\n",
              "</td>\n",
              "<td>\n",
              "f64\n",
              "</td>\n",
              "<td>\n",
              "f64\n",
              "</td>\n",
              "<td>\n",
              "f64\n",
              "</td>\n",
              "</tr>\n",
              "</thead>\n",
              "<tbody>\n",
              "<tr>\n",
              "<td>\n",
              "2\n",
              "</td>\n",
              "<td>\n",
              "&quot;2015-01-15 19:...\n",
              "</td>\n",
              "<td>\n",
              "&quot;2015-01-15 19:...\n",
              "</td>\n",
              "<td>\n",
              "1\n",
              "</td>\n",
              "<td>\n",
              "1.59\n",
              "</td>\n",
              "<td>\n",
              "-73.993896\n",
              "</td>\n",
              "<td>\n",
              "40.750111\n",
              "</td>\n",
              "<td>\n",
              "1\n",
              "</td>\n",
              "<td>\n",
              "&quot;N&quot;\n",
              "</td>\n",
              "<td>\n",
              "-73.974785\n",
              "</td>\n",
              "<td>\n",
              "40.750618\n",
              "</td>\n",
              "<td>\n",
              "1\n",
              "</td>\n",
              "<td>\n",
              "12.0\n",
              "</td>\n",
              "<td>\n",
              "1.0\n",
              "</td>\n",
              "<td>\n",
              "0.5\n",
              "</td>\n",
              "<td>\n",
              "3.25\n",
              "</td>\n",
              "<td>\n",
              "0.0\n",
              "</td>\n",
              "<td>\n",
              "0.3\n",
              "</td>\n",
              "<td>\n",
              "17.05\n",
              "</td>\n",
              "</tr>\n",
              "<tr>\n",
              "<td>\n",
              "1\n",
              "</td>\n",
              "<td>\n",
              "&quot;2015-01-10 20:...\n",
              "</td>\n",
              "<td>\n",
              "&quot;2015-01-10 20:...\n",
              "</td>\n",
              "<td>\n",
              "1\n",
              "</td>\n",
              "<td>\n",
              "3.3\n",
              "</td>\n",
              "<td>\n",
              "-74.001648\n",
              "</td>\n",
              "<td>\n",
              "40.724243\n",
              "</td>\n",
              "<td>\n",
              "1\n",
              "</td>\n",
              "<td>\n",
              "&quot;N&quot;\n",
              "</td>\n",
              "<td>\n",
              "-73.994415\n",
              "</td>\n",
              "<td>\n",
              "40.759109\n",
              "</td>\n",
              "<td>\n",
              "1\n",
              "</td>\n",
              "<td>\n",
              "14.5\n",
              "</td>\n",
              "<td>\n",
              "0.5\n",
              "</td>\n",
              "<td>\n",
              "0.5\n",
              "</td>\n",
              "<td>\n",
              "2.0\n",
              "</td>\n",
              "<td>\n",
              "0.0\n",
              "</td>\n",
              "<td>\n",
              "0.3\n",
              "</td>\n",
              "<td>\n",
              "17.8\n",
              "</td>\n",
              "</tr>\n",
              "<tr>\n",
              "<td>\n",
              "1\n",
              "</td>\n",
              "<td>\n",
              "&quot;2015-01-10 20:...\n",
              "</td>\n",
              "<td>\n",
              "&quot;2015-01-10 20:...\n",
              "</td>\n",
              "<td>\n",
              "1\n",
              "</td>\n",
              "<td>\n",
              "1.8\n",
              "</td>\n",
              "<td>\n",
              "-73.963341\n",
              "</td>\n",
              "<td>\n",
              "40.802788\n",
              "</td>\n",
              "<td>\n",
              "1\n",
              "</td>\n",
              "<td>\n",
              "&quot;N&quot;\n",
              "</td>\n",
              "<td>\n",
              "-73.95182\n",
              "</td>\n",
              "<td>\n",
              "40.824413\n",
              "</td>\n",
              "<td>\n",
              "2\n",
              "</td>\n",
              "<td>\n",
              "9.5\n",
              "</td>\n",
              "<td>\n",
              "0.5\n",
              "</td>\n",
              "<td>\n",
              "0.5\n",
              "</td>\n",
              "<td>\n",
              "0.0\n",
              "</td>\n",
              "<td>\n",
              "0.0\n",
              "</td>\n",
              "<td>\n",
              "0.3\n",
              "</td>\n",
              "<td>\n",
              "10.8\n",
              "</td>\n",
              "</tr>\n",
              "<tr>\n",
              "<td>\n",
              "1\n",
              "</td>\n",
              "<td>\n",
              "&quot;2015-01-10 20:...\n",
              "</td>\n",
              "<td>\n",
              "&quot;2015-01-10 20:...\n",
              "</td>\n",
              "<td>\n",
              "1\n",
              "</td>\n",
              "<td>\n",
              "0.5\n",
              "</td>\n",
              "<td>\n",
              "-74.009087\n",
              "</td>\n",
              "<td>\n",
              "40.713818\n",
              "</td>\n",
              "<td>\n",
              "1\n",
              "</td>\n",
              "<td>\n",
              "&quot;N&quot;\n",
              "</td>\n",
              "<td>\n",
              "-74.004326\n",
              "</td>\n",
              "<td>\n",
              "40.719986\n",
              "</td>\n",
              "<td>\n",
              "2\n",
              "</td>\n",
              "<td>\n",
              "3.5\n",
              "</td>\n",
              "<td>\n",
              "0.5\n",
              "</td>\n",
              "<td>\n",
              "0.5\n",
              "</td>\n",
              "<td>\n",
              "0.0\n",
              "</td>\n",
              "<td>\n",
              "0.0\n",
              "</td>\n",
              "<td>\n",
              "0.3\n",
              "</td>\n",
              "<td>\n",
              "4.8\n",
              "</td>\n",
              "</tr>\n",
              "<tr>\n",
              "<td>\n",
              "1\n",
              "</td>\n",
              "<td>\n",
              "&quot;2015-01-10 20:...\n",
              "</td>\n",
              "<td>\n",
              "&quot;2015-01-10 20:...\n",
              "</td>\n",
              "<td>\n",
              "1\n",
              "</td>\n",
              "<td>\n",
              "3.0\n",
              "</td>\n",
              "<td>\n",
              "-73.971176\n",
              "</td>\n",
              "<td>\n",
              "40.762428\n",
              "</td>\n",
              "<td>\n",
              "1\n",
              "</td>\n",
              "<td>\n",
              "&quot;N&quot;\n",
              "</td>\n",
              "<td>\n",
              "-74.004181\n",
              "</td>\n",
              "<td>\n",
              "40.742653\n",
              "</td>\n",
              "<td>\n",
              "2\n",
              "</td>\n",
              "<td>\n",
              "15.0\n",
              "</td>\n",
              "<td>\n",
              "0.5\n",
              "</td>\n",
              "<td>\n",
              "0.5\n",
              "</td>\n",
              "<td>\n",
              "0.0\n",
              "</td>\n",
              "<td>\n",
              "0.0\n",
              "</td>\n",
              "<td>\n",
              "0.3\n",
              "</td>\n",
              "<td>\n",
              "16.3\n",
              "</td>\n",
              "</tr>\n",
              "</tbody>\n",
              "</table>\n",
              "</div>"
            ]
          },
          "metadata": {},
          "execution_count": 32
        }
      ]
    },
    {
      "cell_type": "markdown",
      "source": [
        "**Observation :** In terms of read operation it is very obvious that polars is much better at reading big csv files. With a 27.6s wall time compared to the pandas clocking at 65.0s. When it comes to the head methods, pandas has a walltime measured in miliseconds while polars measuring in microseconds.\n",
        "<br><br> *for reference yellow_tripdata_2015-01.csv is 1.99GB in size*"
      ],
      "metadata": {
        "id": "GctRYct55gMk"
      }
    },
    {
      "cell_type": "markdown",
      "source": [
        "###Aggregation Operation\n",
        "\n",
        "#### Pandas"
      ],
      "metadata": {
        "id": "Qj3_xKU47DvS"
      }
    },
    {
      "cell_type": "code",
      "source": [
        "%%time\n",
        "# summinng all the values in fare_amount using pandas\n",
        "df_pandas['fare_amount'].sum()"
      ],
      "metadata": {
        "id": "z7tqf4r97DvS",
        "colab": {
          "base_uri": "https://localhost:8080/"
        },
        "outputId": "2e298eec-0732-4eab-aaad-63acd15e7fe2"
      },
      "execution_count": 14,
      "outputs": [
        {
          "output_type": "stream",
          "name": "stdout",
          "text": [
            "CPU times: user 31.1 ms, sys: 8.81 ms, total: 39.9 ms\n",
            "Wall time: 46.1 ms\n"
          ]
        },
        {
          "output_type": "execute_result",
          "data": {
            "text/plain": [
              "151785085.34000006"
            ]
          },
          "metadata": {},
          "execution_count": 14
        }
      ]
    },
    {
      "cell_type": "code",
      "source": [
        "%%time\n",
        "# Finding the max value in fare_amount using pandas\n",
        "df_pandas['fare_amount'].max()"
      ],
      "metadata": {
        "id": "LrxKAQjWAchi",
        "colab": {
          "base_uri": "https://localhost:8080/"
        },
        "outputId": "0a185719-43ff-4c92-90e3-8c973f12d27f"
      },
      "execution_count": 15,
      "outputs": [
        {
          "output_type": "stream",
          "name": "stdout",
          "text": [
            "CPU times: user 42 ms, sys: 593 µs, total: 42.6 ms\n",
            "Wall time: 44.1 ms\n"
          ]
        },
        {
          "output_type": "execute_result",
          "data": {
            "text/plain": [
              "4008.0"
            ]
          },
          "metadata": {},
          "execution_count": 15
        }
      ]
    },
    {
      "cell_type": "code",
      "source": [
        "%%time\n",
        "# Finding the mean value of fare_amount column using pandas\n",
        "df_pandas['fare_amount'].mean()"
      ],
      "metadata": {
        "id": "Si8jTMkaAt8l",
        "colab": {
          "base_uri": "https://localhost:8080/"
        },
        "outputId": "76bc7781-f30a-4f57-b430-53ad6ad7226d"
      },
      "execution_count": 16,
      "outputs": [
        {
          "output_type": "stream",
          "name": "stdout",
          "text": [
            "CPU times: user 42.3 ms, sys: 1.7 ms, total: 44 ms\n",
            "Wall time: 42.9 ms\n"
          ]
        },
        {
          "output_type": "execute_result",
          "data": {
            "text/plain": [
              "11.905659425777083"
            ]
          },
          "metadata": {},
          "execution_count": 16
        }
      ]
    },
    {
      "cell_type": "markdown",
      "source": [
        "####Polars"
      ],
      "metadata": {
        "id": "iovwZxIV7DvS"
      }
    },
    {
      "cell_type": "code",
      "source": [
        "%%time\n",
        "# summinng all the values in fare_amount using polars\n",
        "df_polars['fare_amount'].sum()"
      ],
      "metadata": {
        "id": "7-HmG00H7DvS",
        "colab": {
          "base_uri": "https://localhost:8080/"
        },
        "outputId": "b2776060-826f-41c8-debc-6a8902caa0f8"
      },
      "execution_count": 17,
      "outputs": [
        {
          "output_type": "stream",
          "name": "stdout",
          "text": [
            "CPU times: user 11.7 ms, sys: 905 µs, total: 12.6 ms\n",
            "Wall time: 27.2 ms\n"
          ]
        },
        {
          "output_type": "execute_result",
          "data": {
            "text/plain": [
              "151785085.33998457"
            ]
          },
          "metadata": {},
          "execution_count": 17
        }
      ]
    },
    {
      "cell_type": "code",
      "source": [
        "%%time\n",
        "# Finding the max value in fare_amount using polars\n",
        "df_polars['fare_amount'].max()"
      ],
      "metadata": {
        "id": "UohwfQ4_AoJd",
        "colab": {
          "base_uri": "https://localhost:8080/"
        },
        "outputId": "c0265982-2597-40d7-93ba-4b8d26c672aa"
      },
      "execution_count": 18,
      "outputs": [
        {
          "output_type": "stream",
          "name": "stdout",
          "text": [
            "CPU times: user 14.1 ms, sys: 0 ns, total: 14.1 ms\n",
            "Wall time: 30.3 ms\n"
          ]
        },
        {
          "output_type": "execute_result",
          "data": {
            "text/plain": [
              "4008.0"
            ]
          },
          "metadata": {},
          "execution_count": 18
        }
      ]
    },
    {
      "cell_type": "code",
      "source": [
        "%%time\n",
        "# Finding the mean value of fare_amount column using polars\n",
        "df_polars['fare_amount'].mean()"
      ],
      "metadata": {
        "id": "TcMoIj0mA2oV",
        "colab": {
          "base_uri": "https://localhost:8080/"
        },
        "outputId": "4cefae5f-f6e3-4687-d21c-5f52aa4b9afa"
      },
      "execution_count": 19,
      "outputs": [
        {
          "output_type": "stream",
          "name": "stdout",
          "text": [
            "CPU times: user 10.4 ms, sys: 0 ns, total: 10.4 ms\n",
            "Wall time: 10.3 ms\n"
          ]
        },
        {
          "output_type": "execute_result",
          "data": {
            "text/plain": [
              "11.905659425775866"
            ]
          },
          "metadata": {},
          "execution_count": 19
        }
      ]
    },
    {
      "cell_type": "markdown",
      "source": [
        "**Observation :** When it comes to aggregation, polars again is clocking in much better times than its counterpart.\n",
        "<br>"
      ],
      "metadata": {
        "id": "WXjb1tQE7DvS"
      }
    },
    {
      "cell_type": "markdown",
      "source": [
        "###Attributes Operations\n",
        "\n",
        "#### Pandas"
      ],
      "metadata": {
        "id": "d--ooy8NFk4m"
      }
    },
    {
      "cell_type": "code",
      "source": [
        "%%time\n",
        "df_pandas.dtypes #Get Datatypes for pandas"
      ],
      "metadata": {
        "id": "A9x7USlfFk4m",
        "colab": {
          "base_uri": "https://localhost:8080/"
        },
        "outputId": "777451aa-74d8-47dd-a6e1-3eb32cc9d2af"
      },
      "execution_count": 20,
      "outputs": [
        {
          "output_type": "stream",
          "name": "stdout",
          "text": [
            "CPU times: user 317 µs, sys: 74 µs, total: 391 µs\n",
            "Wall time: 401 µs\n"
          ]
        },
        {
          "output_type": "execute_result",
          "data": {
            "text/plain": [
              "VendorID                   int64\n",
              "tpep_pickup_datetime      object\n",
              "tpep_dropoff_datetime     object\n",
              "passenger_count            int64\n",
              "trip_distance            float64\n",
              "pickup_longitude         float64\n",
              "pickup_latitude          float64\n",
              "RateCodeID                 int64\n",
              "store_and_fwd_flag        object\n",
              "dropoff_longitude        float64\n",
              "dropoff_latitude         float64\n",
              "payment_type               int64\n",
              "fare_amount              float64\n",
              "extra                    float64\n",
              "mta_tax                  float64\n",
              "tip_amount               float64\n",
              "tolls_amount             float64\n",
              "improvement_surcharge    float64\n",
              "total_amount             float64\n",
              "dtype: object"
            ]
          },
          "metadata": {},
          "execution_count": 20
        }
      ]
    },
    {
      "cell_type": "code",
      "source": [
        "%%time\n",
        "df_pandas.columns # Get columns in dataframe (Pandas)"
      ],
      "metadata": {
        "id": "FT-d5R98F_ve",
        "colab": {
          "base_uri": "https://localhost:8080/"
        },
        "outputId": "fcd99811-51cd-4df3-9f69-e8a69ff495c8"
      },
      "execution_count": 21,
      "outputs": [
        {
          "output_type": "stream",
          "name": "stdout",
          "text": [
            "CPU times: user 13 µs, sys: 3 µs, total: 16 µs\n",
            "Wall time: 20 µs\n"
          ]
        },
        {
          "output_type": "execute_result",
          "data": {
            "text/plain": [
              "Index(['VendorID', 'tpep_pickup_datetime', 'tpep_dropoff_datetime',\n",
              "       'passenger_count', 'trip_distance', 'pickup_longitude',\n",
              "       'pickup_latitude', 'RateCodeID', 'store_and_fwd_flag',\n",
              "       'dropoff_longitude', 'dropoff_latitude', 'payment_type', 'fare_amount',\n",
              "       'extra', 'mta_tax', 'tip_amount', 'tolls_amount',\n",
              "       'improvement_surcharge', 'total_amount'],\n",
              "      dtype='object')"
            ]
          },
          "metadata": {},
          "execution_count": 21
        }
      ]
    },
    {
      "cell_type": "code",
      "source": [
        "%%time\n",
        "df_pandas.shape # Get shape of the dataframe (Pandas)"
      ],
      "metadata": {
        "id": "ZbcSMLw2GwoH",
        "colab": {
          "base_uri": "https://localhost:8080/"
        },
        "outputId": "7e562775-55c2-44b6-fe5b-4b8cfcbd8bbe"
      },
      "execution_count": 22,
      "outputs": [
        {
          "output_type": "stream",
          "name": "stdout",
          "text": [
            "CPU times: user 29 µs, sys: 7 µs, total: 36 µs\n",
            "Wall time: 40.3 µs\n"
          ]
        },
        {
          "output_type": "execute_result",
          "data": {
            "text/plain": [
              "(12748986, 19)"
            ]
          },
          "metadata": {},
          "execution_count": 22
        }
      ]
    },
    {
      "cell_type": "markdown",
      "source": [
        "####Polars"
      ],
      "metadata": {
        "id": "eyJGJINxFk4m"
      }
    },
    {
      "cell_type": "code",
      "source": [
        "%%time\n",
        "df_polars.dtypes #Get Datatypes for polars"
      ],
      "metadata": {
        "id": "WZ6ey0xqFk4n",
        "colab": {
          "base_uri": "https://localhost:8080/"
        },
        "outputId": "78fb96f5-be3b-44db-8101-2935d07041ea"
      },
      "execution_count": 23,
      "outputs": [
        {
          "output_type": "stream",
          "name": "stdout",
          "text": [
            "CPU times: user 44 µs, sys: 11 µs, total: 55 µs\n",
            "Wall time: 59.1 µs\n"
          ]
        },
        {
          "output_type": "execute_result",
          "data": {
            "text/plain": [
              "[Int64,\n",
              " Utf8,\n",
              " Utf8,\n",
              " Int64,\n",
              " Float64,\n",
              " Float64,\n",
              " Float64,\n",
              " Int64,\n",
              " Utf8,\n",
              " Float64,\n",
              " Float64,\n",
              " Int64,\n",
              " Float64,\n",
              " Float64,\n",
              " Float64,\n",
              " Float64,\n",
              " Float64,\n",
              " Float64,\n",
              " Float64]"
            ]
          },
          "metadata": {},
          "execution_count": 23
        }
      ]
    },
    {
      "cell_type": "code",
      "source": [
        "%%time\n",
        "df_polars.columns # Get columns in dataframe (Polars)"
      ],
      "metadata": {
        "id": "IJA7UzFTGCw5",
        "colab": {
          "base_uri": "https://localhost:8080/"
        },
        "outputId": "5c52bec6-b685-422a-ea61-45eb9cb41878"
      },
      "execution_count": 24,
      "outputs": [
        {
          "output_type": "stream",
          "name": "stdout",
          "text": [
            "CPU times: user 23 µs, sys: 6 µs, total: 29 µs\n",
            "Wall time: 32.4 µs\n"
          ]
        },
        {
          "output_type": "execute_result",
          "data": {
            "text/plain": [
              "['VendorID',\n",
              " 'tpep_pickup_datetime',\n",
              " 'tpep_dropoff_datetime',\n",
              " 'passenger_count',\n",
              " 'trip_distance',\n",
              " 'pickup_longitude',\n",
              " 'pickup_latitude',\n",
              " 'RateCodeID',\n",
              " 'store_and_fwd_flag',\n",
              " 'dropoff_longitude',\n",
              " 'dropoff_latitude',\n",
              " 'payment_type',\n",
              " 'fare_amount',\n",
              " 'extra',\n",
              " 'mta_tax',\n",
              " 'tip_amount',\n",
              " 'tolls_amount',\n",
              " 'improvement_surcharge',\n",
              " 'total_amount']"
            ]
          },
          "metadata": {},
          "execution_count": 24
        }
      ]
    },
    {
      "cell_type": "code",
      "source": [
        "%%time\n",
        "df_polars.shape # Get shape of the dataframe (Polars)"
      ],
      "metadata": {
        "id": "oIn76f1YG3vd",
        "colab": {
          "base_uri": "https://localhost:8080/"
        },
        "outputId": "716f0335-535b-4634-e017-84bfc41f0c34"
      },
      "execution_count": 25,
      "outputs": [
        {
          "output_type": "stream",
          "name": "stdout",
          "text": [
            "CPU times: user 14 µs, sys: 3 µs, total: 17 µs\n",
            "Wall time: 21 µs\n"
          ]
        },
        {
          "output_type": "execute_result",
          "data": {
            "text/plain": [
              "(12748986, 19)"
            ]
          },
          "metadata": {},
          "execution_count": 25
        }
      ]
    },
    {
      "cell_type": "markdown",
      "source": [
        "**Observation :** When it comes to determining dtypes polars does it faster and cleaner. Getting column names however, pandas is faster than polars. Talking about the formatting for the output of columns functions, polars is much better visually. Getting the shape of the dataset, polars is much faster than pandas.\n"
      ],
      "metadata": {
        "id": "DGw6emD1Fk4n"
      }
    },
    {
      "cell_type": "markdown",
      "source": [
        "###Manipulation Operations\n",
        "\n",
        "#### Pandas"
      ],
      "metadata": {
        "id": "zImjax3WHlx0"
      }
    },
    {
      "cell_type": "code",
      "source": [
        "%%time\n",
        "df_pandas['fare_amount'] #Selecting fare_amount column"
      ],
      "metadata": {
        "id": "UHhN6OX1Hlx0",
        "colab": {
          "base_uri": "https://localhost:8080/"
        },
        "outputId": "6d7782cd-7e69-4574-fe2a-5a90ac161473"
      },
      "execution_count": 38,
      "outputs": [
        {
          "output_type": "stream",
          "name": "stdout",
          "text": [
            "CPU times: user 68 µs, sys: 0 ns, total: 68 µs\n",
            "Wall time: 73.7 µs\n"
          ]
        },
        {
          "output_type": "execute_result",
          "data": {
            "text/plain": [
              "0           12.0\n",
              "1           14.5\n",
              "2            9.5\n",
              "3            3.5\n",
              "4           15.0\n",
              "            ... \n",
              "12748981     5.5\n",
              "12748982     6.0\n",
              "12748983    13.5\n",
              "12748984    10.5\n",
              "12748985     5.5\n",
              "Name: fare_amount, Length: 12748986, dtype: float64"
            ]
          },
          "metadata": {},
          "execution_count": 38
        }
      ]
    },
    {
      "cell_type": "code",
      "source": [
        "%%time\n",
        "grouped_pandas = df_pandas.groupby('VendorID')['fare_amount'].sum() #grouping sum of fare amounts by vendor ID using pandas"
      ],
      "metadata": {
        "id": "K1KKgjabIY3g",
        "colab": {
          "base_uri": "https://localhost:8080/"
        },
        "outputId": "d6705932-1441-4a94-e2ff-65b6ff821bc7"
      },
      "execution_count": 27,
      "outputs": [
        {
          "output_type": "stream",
          "name": "stdout",
          "text": [
            "CPU times: user 279 ms, sys: 135 ms, total: 414 ms\n",
            "Wall time: 531 ms\n"
          ]
        }
      ]
    },
    {
      "cell_type": "markdown",
      "source": [
        "####Polars"
      ],
      "metadata": {
        "id": "mlVPGBU1Hlx1"
      }
    },
    {
      "cell_type": "code",
      "source": [
        "%%time \n",
        "df_polars.select(\"fare_amount\") #Selecting fare_amount column"
      ],
      "metadata": {
        "id": "KeNqO6mDHlx1",
        "colab": {
          "base_uri": "https://localhost:8080/",
          "height": 811
        },
        "outputId": "05e783d2-e355-4006-f13f-c509dceedb89"
      },
      "execution_count": 37,
      "outputs": [
        {
          "output_type": "stream",
          "name": "stdout",
          "text": [
            "CPU times: user 0 ns, sys: 441 µs, total: 441 µs\n",
            "Wall time: 3.42 ms\n"
          ]
        },
        {
          "output_type": "execute_result",
          "data": {
            "text/plain": [
              "shape: (12748986, 1)\n",
              "┌─────────────┐\n",
              "│ fare_amount │\n",
              "│ ---         │\n",
              "│ f64         │\n",
              "╞═════════════╡\n",
              "│ 12.0        │\n",
              "│ 14.5        │\n",
              "│ 9.5         │\n",
              "│ 3.5         │\n",
              "│ ...         │\n",
              "│ 6.0         │\n",
              "│ 13.5        │\n",
              "│ 10.5        │\n",
              "│ 5.5         │\n",
              "└─────────────┘"
            ],
            "text/html": [
              "<div>\n",
              "<style scoped>\n",
              "    .dataframe tbody tr th:only-of-type {\n",
              "        vertical-align: middle;\n",
              "    }\n",
              "\n",
              "    .dataframe tbody tr th {\n",
              "        vertical-align: top;\n",
              "    }\n",
              "\n",
              "    .dataframe thead th {\n",
              "        text-align: right;\n",
              "    }\n",
              "\n",
              "    .dataframe td {\n",
              "        white-space: pre;\n",
              "    }\n",
              "\n",
              "    .dataframe td {\n",
              "        padding-top: 0;\n",
              "    }\n",
              "\n",
              "    .dataframe td {\n",
              "        padding-bottom: 0;\n",
              "    }\n",
              "\n",
              "    .dataframe td {\n",
              "        line-height: 95%;\n",
              "    }\n",
              "</style>\n",
              "<table border=\"1\" class=\"dataframe\">\n",
              "<small>shape: (12748986, 1)</small>\n",
              "<thead>\n",
              "<tr>\n",
              "<th>\n",
              "fare_amount\n",
              "</th>\n",
              "</tr>\n",
              "<tr>\n",
              "<td>\n",
              "f64\n",
              "</td>\n",
              "</tr>\n",
              "</thead>\n",
              "<tbody>\n",
              "<tr>\n",
              "<td>\n",
              "12.0\n",
              "</td>\n",
              "</tr>\n",
              "<tr>\n",
              "<td>\n",
              "14.5\n",
              "</td>\n",
              "</tr>\n",
              "<tr>\n",
              "<td>\n",
              "9.5\n",
              "</td>\n",
              "</tr>\n",
              "<tr>\n",
              "<td>\n",
              "3.5\n",
              "</td>\n",
              "</tr>\n",
              "<tr>\n",
              "<td>\n",
              "15.0\n",
              "</td>\n",
              "</tr>\n",
              "<tr>\n",
              "<td>\n",
              "27.0\n",
              "</td>\n",
              "</tr>\n",
              "<tr>\n",
              "<td>\n",
              "14.0\n",
              "</td>\n",
              "</tr>\n",
              "<tr>\n",
              "<td>\n",
              "7.0\n",
              "</td>\n",
              "</tr>\n",
              "<tr>\n",
              "<td>\n",
              "52.0\n",
              "</td>\n",
              "</tr>\n",
              "<tr>\n",
              "<td>\n",
              "6.5\n",
              "</td>\n",
              "</tr>\n",
              "<tr>\n",
              "<td>\n",
              "7.0\n",
              "</td>\n",
              "</tr>\n",
              "<tr>\n",
              "<td>\n",
              "7.5\n",
              "</td>\n",
              "</tr>\n",
              "<tr>\n",
              "<td>\n",
              "...\n",
              "</td>\n",
              "</tr>\n",
              "<tr>\n",
              "<td>\n",
              "10.5\n",
              "</td>\n",
              "</tr>\n",
              "<tr>\n",
              "<td>\n",
              "9.0\n",
              "</td>\n",
              "</tr>\n",
              "<tr>\n",
              "<td>\n",
              "9.5\n",
              "</td>\n",
              "</tr>\n",
              "<tr>\n",
              "<td>\n",
              "18.5\n",
              "</td>\n",
              "</tr>\n",
              "<tr>\n",
              "<td>\n",
              "8.5\n",
              "</td>\n",
              "</tr>\n",
              "<tr>\n",
              "<td>\n",
              "16.5\n",
              "</td>\n",
              "</tr>\n",
              "<tr>\n",
              "<td>\n",
              "13.0\n",
              "</td>\n",
              "</tr>\n",
              "<tr>\n",
              "<td>\n",
              "5.5\n",
              "</td>\n",
              "</tr>\n",
              "<tr>\n",
              "<td>\n",
              "6.0\n",
              "</td>\n",
              "</tr>\n",
              "<tr>\n",
              "<td>\n",
              "13.5\n",
              "</td>\n",
              "</tr>\n",
              "<tr>\n",
              "<td>\n",
              "10.5\n",
              "</td>\n",
              "</tr>\n",
              "<tr>\n",
              "<td>\n",
              "5.5\n",
              "</td>\n",
              "</tr>\n",
              "</tbody>\n",
              "</table>\n",
              "</div>"
            ]
          },
          "metadata": {},
          "execution_count": 37
        }
      ]
    },
    {
      "cell_type": "code",
      "source": [
        "%%time \n",
        "grouped_polars = df_polars.groupby(\"VendorID\").agg(pl.col(\"fare_amount\").sum()) #grouping sum of fare amounts by vendor ID using polars"
      ],
      "metadata": {
        "id": "_pZezwL4JIHc",
        "colab": {
          "base_uri": "https://localhost:8080/"
        },
        "outputId": "258bbbcb-c25a-439a-9f32-250d39080b9d"
      },
      "execution_count": 29,
      "outputs": [
        {
          "output_type": "stream",
          "name": "stdout",
          "text": [
            "CPU times: user 306 ms, sys: 75.5 ms, total: 382 ms\n",
            "Wall time: 392 ms\n"
          ]
        }
      ]
    },
    {
      "cell_type": "markdown",
      "source": [
        "**Observation :** For data manipulation, still polars prooves to be much faster than pandas. In terms of selecting and grouping the columns by VendorID and summing the fare_amount, polars is much faster."
      ],
      "metadata": {
        "id": "6X3X4ouIHlx1"
      }
    },
    {
      "cell_type": "code",
      "source": [
        "import numpy as np\n",
        "import matplotlib.pyplot as plt\n",
        "\n",
        "ops = ['read', 'mean', 'dtypes', 'select'] # List of one operations from each category\n",
        "\n",
        "plot = pd.DataFrame({'Pandas': [65, 42.9, 401, 73.7], 'Polars': [27.6, 10.3, 59.1, 3420]}, index = ops) #Wall time recorded to execute each operation in terms of pandas and polars\n",
        "plot\n"
      ],
      "metadata": {
        "colab": {
          "base_uri": "https://localhost:8080/",
          "height": 175
        },
        "id": "UH36o5Dp7fCz",
        "outputId": "8881d426-db3f-4600-fa12-b92736d346e0"
      },
      "execution_count": 39,
      "outputs": [
        {
          "output_type": "execute_result",
          "data": {
            "text/plain": [
              "        Pandas  Polars\n",
              "read      65.0    27.6\n",
              "mean      42.9    10.3\n",
              "dtypes   401.0    59.1\n",
              "select    73.7  3420.0"
            ],
            "text/html": [
              "\n",
              "  <div id=\"df-931e2821-54b8-4f2b-bf2a-02b8449451b7\">\n",
              "    <div class=\"colab-df-container\">\n",
              "      <div>\n",
              "<style scoped>\n",
              "    .dataframe tbody tr th:only-of-type {\n",
              "        vertical-align: middle;\n",
              "    }\n",
              "\n",
              "    .dataframe tbody tr th {\n",
              "        vertical-align: top;\n",
              "    }\n",
              "\n",
              "    .dataframe thead th {\n",
              "        text-align: right;\n",
              "    }\n",
              "</style>\n",
              "<table border=\"1\" class=\"dataframe\">\n",
              "  <thead>\n",
              "    <tr style=\"text-align: right;\">\n",
              "      <th></th>\n",
              "      <th>Pandas</th>\n",
              "      <th>Polars</th>\n",
              "    </tr>\n",
              "  </thead>\n",
              "  <tbody>\n",
              "    <tr>\n",
              "      <th>read</th>\n",
              "      <td>65.0</td>\n",
              "      <td>27.6</td>\n",
              "    </tr>\n",
              "    <tr>\n",
              "      <th>mean</th>\n",
              "      <td>42.9</td>\n",
              "      <td>10.3</td>\n",
              "    </tr>\n",
              "    <tr>\n",
              "      <th>dtypes</th>\n",
              "      <td>401.0</td>\n",
              "      <td>59.1</td>\n",
              "    </tr>\n",
              "    <tr>\n",
              "      <th>select</th>\n",
              "      <td>73.7</td>\n",
              "      <td>3420.0</td>\n",
              "    </tr>\n",
              "  </tbody>\n",
              "</table>\n",
              "</div>\n",
              "      <button class=\"colab-df-convert\" onclick=\"convertToInteractive('df-931e2821-54b8-4f2b-bf2a-02b8449451b7')\"\n",
              "              title=\"Convert this dataframe to an interactive table.\"\n",
              "              style=\"display:none;\">\n",
              "        \n",
              "  <svg xmlns=\"http://www.w3.org/2000/svg\" height=\"24px\"viewBox=\"0 0 24 24\"\n",
              "       width=\"24px\">\n",
              "    <path d=\"M0 0h24v24H0V0z\" fill=\"none\"/>\n",
              "    <path d=\"M18.56 5.44l.94 2.06.94-2.06 2.06-.94-2.06-.94-.94-2.06-.94 2.06-2.06.94zm-11 1L8.5 8.5l.94-2.06 2.06-.94-2.06-.94L8.5 2.5l-.94 2.06-2.06.94zm10 10l.94 2.06.94-2.06 2.06-.94-2.06-.94-.94-2.06-.94 2.06-2.06.94z\"/><path d=\"M17.41 7.96l-1.37-1.37c-.4-.4-.92-.59-1.43-.59-.52 0-1.04.2-1.43.59L10.3 9.45l-7.72 7.72c-.78.78-.78 2.05 0 2.83L4 21.41c.39.39.9.59 1.41.59.51 0 1.02-.2 1.41-.59l7.78-7.78 2.81-2.81c.8-.78.8-2.07 0-2.86zM5.41 20L4 18.59l7.72-7.72 1.47 1.35L5.41 20z\"/>\n",
              "  </svg>\n",
              "      </button>\n",
              "      \n",
              "  <style>\n",
              "    .colab-df-container {\n",
              "      display:flex;\n",
              "      flex-wrap:wrap;\n",
              "      gap: 12px;\n",
              "    }\n",
              "\n",
              "    .colab-df-convert {\n",
              "      background-color: #E8F0FE;\n",
              "      border: none;\n",
              "      border-radius: 50%;\n",
              "      cursor: pointer;\n",
              "      display: none;\n",
              "      fill: #1967D2;\n",
              "      height: 32px;\n",
              "      padding: 0 0 0 0;\n",
              "      width: 32px;\n",
              "    }\n",
              "\n",
              "    .colab-df-convert:hover {\n",
              "      background-color: #E2EBFA;\n",
              "      box-shadow: 0px 1px 2px rgba(60, 64, 67, 0.3), 0px 1px 3px 1px rgba(60, 64, 67, 0.15);\n",
              "      fill: #174EA6;\n",
              "    }\n",
              "\n",
              "    [theme=dark] .colab-df-convert {\n",
              "      background-color: #3B4455;\n",
              "      fill: #D2E3FC;\n",
              "    }\n",
              "\n",
              "    [theme=dark] .colab-df-convert:hover {\n",
              "      background-color: #434B5C;\n",
              "      box-shadow: 0px 1px 3px 1px rgba(0, 0, 0, 0.15);\n",
              "      filter: drop-shadow(0px 1px 2px rgba(0, 0, 0, 0.3));\n",
              "      fill: #FFFFFF;\n",
              "    }\n",
              "  </style>\n",
              "\n",
              "      <script>\n",
              "        const buttonEl =\n",
              "          document.querySelector('#df-931e2821-54b8-4f2b-bf2a-02b8449451b7 button.colab-df-convert');\n",
              "        buttonEl.style.display =\n",
              "          google.colab.kernel.accessAllowed ? 'block' : 'none';\n",
              "\n",
              "        async function convertToInteractive(key) {\n",
              "          const element = document.querySelector('#df-931e2821-54b8-4f2b-bf2a-02b8449451b7');\n",
              "          const dataTable =\n",
              "            await google.colab.kernel.invokeFunction('convertToInteractive',\n",
              "                                                     [key], {});\n",
              "          if (!dataTable) return;\n",
              "\n",
              "          const docLinkHtml = 'Like what you see? Visit the ' +\n",
              "            '<a target=\"_blank\" href=https://colab.research.google.com/notebooks/data_table.ipynb>data table notebook</a>'\n",
              "            + ' to learn more about interactive tables.';\n",
              "          element.innerHTML = '';\n",
              "          dataTable['output_type'] = 'display_data';\n",
              "          await google.colab.output.renderOutput(dataTable, element);\n",
              "          const docLink = document.createElement('div');\n",
              "          docLink.innerHTML = docLinkHtml;\n",
              "          element.appendChild(docLink);\n",
              "        }\n",
              "      </script>\n",
              "    </div>\n",
              "  </div>\n",
              "  "
            ]
          },
          "metadata": {},
          "execution_count": 39
        }
      ]
    },
    {
      "cell_type": "markdown",
      "source": [
        "### Visualisations to show comparisons between Pandas and Polars"
      ],
      "metadata": {
        "id": "wvZYxhmUIdX9"
      }
    },
    {
      "cell_type": "code",
      "source": [
        "for op in plot.index:\n",
        "  plt.figure(figsize=(8,6))\n",
        "  plot.loc[op].plot(kind='bar', title=op)\n",
        "  plt.show()\n",
        "  print()"
      ],
      "metadata": {
        "colab": {
          "base_uri": "https://localhost:8080/",
          "height": 1000
        },
        "id": "PZlMW0fv892c",
        "outputId": "44c48e87-d843-40f1-b80b-a26ca88aeecb"
      },
      "execution_count": 42,
      "outputs": [
        {
          "output_type": "display_data",
          "data": {
            "text/plain": [
              "<Figure size 576x432 with 1 Axes>"
            ],
            "image/png": "[encoded data removed]"
          },
          "metadata": {
            "needs_background": "light"
          }
        },
        {
          "output_type": "stream",
          "name": "stdout",
          "text": [
            "\n"
          ]
        },
        {
          "output_type": "display_data",
          "data": {
            "text/plain": [
              "<Figure size 576x432 with 1 Axes>"
            ],
            "image/png": "[encoded data removed]"
          },
          "metadata": {
            "needs_background": "light"
          }
        },
        {
          "output_type": "stream",
          "name": "stdout",
          "text": [
            "\n"
          ]
        },
        {
          "output_type": "display_data",
          "data": {
            "text/plain": [
              "<Figure size 576x432 with 1 Axes>"
            ],
            "image/png": "[encoded data removed]"
          },
          "metadata": {
            "needs_background": "light"
          }
        },
        {
          "output_type": "stream",
          "name": "stdout",
          "text": [
            "\n"
          ]
        },
        {
          "output_type": "display_data",
          "data": {
            "text/plain": [
              "<Figure size 576x432 with 1 Axes>"
            ],
            "image/png": "[encoded data removed]"
          },
          "metadata": {
            "needs_background": "light"
          }
        },
        {
          "output_type": "stream",
          "name": "stdout",
          "text": [
            "\n"
          ]
        }
      ]
    },
    {
      "cell_type": "markdown",
      "source": [
        "### Conclusion\n",
        "In short polars did do great in terms of execution times when put against its counterpart, pandas. In all categories, Basic, Aggregation, Attributes, and Manipulation operations polars was the decisive winner."
      ],
      "metadata": {
        "id": "dsjHh5UAMPWY"
      }
    }
  ],
  "metadata": {
    "colab": {
      "provenance": [],
      "include_colab_link": true
    },
    "kernelspec": {
      "display_name": "Python 3",
      "language": "python",
      "name": "python3"
    },
    "language_info": {
      "codemirror_mode": {
        "name": "ipython",
        "version": 3
      },
      "file_extension": ".py",
      "mimetype": "text/x-python",
      "name": "python",
      "nbconvert_exporter": "python",
      "pygments_lexer": "ipython3",
      "version": "3.8.5"
    }
  },
  "nbformat": 4,
  "nbformat_minor": 0
}
{
  "nbformat": 4,
  "nbformat_minor": 0,
  "metadata": {
    "colab": {
      "provenance": [],
      "include_colab_link": true
    },
    "kernelspec": {
      "name": "python3",
      "display_name": "Python 3"
    },
    "language_info": {
      "name": "python"
    }
  },
  "cells": [
    {
      "cell_type": "markdown",
      "metadata": {
        "id": "view-in-github",
        "colab_type": "text"
      },
      "source": [
        "<a href=\"https://colab.research.google.com/github/drshahizan/Python-big-data/blob/main/Assignment%202b/Rojak/Group_Rojak_File_2.ipynb\" target=\"_parent\"><img src=\"https://colab.research.google.com/assets/colab-badge.svg\" alt=\"Open In Colab\"/></a>"
      ]
    },
    {
      "cell_type": "markdown",
      "source": [
        "## Assignment: Alternatives to Pandas for Processing Large Datasets (Vaex)\n",
        "\n",
        "###Group Members: \n",
        "\n",
        "<table>\n",
        "  <tr>\n",
        "    <th>Name</th>\n",
        "    <th>Matric No</th>\n",
        "  </tr>\n",
        "  <tr>\n",
        "    <th>Eddie Wong Chung Pheng </th>\n",
        "    <th>A20EC0031</th>\n",
        "  </tr>\n",
        "  <tr>\n",
        "    <th>Madihah Binti Che Zabri </th>\n",
        "    <th>A20EC0074</th>\n",
        "  </tr>\n",
        "  <tr>\n",
        "    <th>Nurarissa Dayana Binti Mohd Sukri</th>\n",
        "    <th>A20EC0120</th>\n",
        "  </tr>\n",
        "  <tr> \n",
        "    <th>Vincent Boo Ee Khai</th>\n",
        "    <th>A20EC0231</th>\n",
        "  </tr>\n",
        "</table>\n",
        "<br></br>\n",
        "\n",
        "\n",
        "## File 2: Comparison between Pandas and Vaex\n",
        "Vaex is a python library for lazy Out-of-Core DataFrames (similar to Pandas), to visualize and explore big tabular datasets. It can calculate statistics such as mean, sum, count, standard deviation etc, on an N-dimensional grid up to a billion () objects/rows per second. Visualization is done using histograms, density plots and 3d volume rendering, allowing interactive exploration of big data. Vaex uses memory mapping, a zero memory copy policy, and lazy computations for best performance (no memory wasted).\n",
        "<br></br>\n",
        "\n",
        "**Dataset**\n",
        "\n",
        "The dataset is obtained from Kaggle: <a href=\"https://www.kaggle.com/datasets/hhs/health-insurance-marketplace?select=Rate.csv\">Rate.csv</a>  <br>\n",
        "The size of the dataset is <b> 1.97 GB</b>.\n",
        "\n",
        "#### Attribute Information:\n",
        "| Acronym | Description |\n",
        "| --- | --- |\n",
        "| **BusinessYear** |   The year for which the rate information applies.  |\n",
        "|**StateCode** |  The two-letter code for the state in which the health insurance plan is offered.  |\n",
        "| **IssuerId** | A unique identifier for the insurer offering the health insurance plan. |\n",
        "| **SourceName** |  The source of the rate information (e.g. the insurer, the state insurance department). |\n",
        "| **VersionNum** | A version number for the rate information.  |\n",
        "| **ImportDate** |  The date on which the rate information was imported into the Marketplace database.   |\n",
        "| **IssuerId2** | A unique identifier for the insurer offering the health insurance plan.  |\n",
        "| **FederalTIN** | Federal income taxes  |\n",
        "| **RateEffectiveDate** |  The date for which the rate information is effective.   |\n",
        "|**RateExpirationDate** |  The expire date for the rate. |\n",
        "| **PlanId** | A unique identifier for the health insurance plan. |\n",
        "| **RatingAreaId** | The age of the insured person for which the rate information applies.  |\n",
        "| **Tobacco** | The rate information applies to tobacco users or non-tobacco users. |\n",
        "| **Age** |   The age of the insured person for which the rate information applies.  |\n",
        "| **IndividualRate** |  The monthly premium (cost) for the health insurance plan for an individual.  |\n",
        "| **IndividualTobaccoRate** | The monthly premium for the health insurance plan for an individual tobacco user.  |\n",
        "| **Couple** | The monthly premium for the health insurance plan for a couple.  |\n",
        "|**PrimarySubscriberAndOneDependent** |  The primary subscriber for the health insurance plan and one dependent. |\n",
        "| **PrimarySubscriberAndTwoDependents** | The primary subscriber for the health insurance plan and two dependent. |\n",
        "| **CoupleAndOneDependent** | The monthly premium for the health insurance plan for a couple and one dependent. |\n",
        "| **CoupleAndTwoDependents** | The monthly premium for the health insurance plan for a couple and two dependents.  |\n",
        "| **CoupleAndThreeOrMoreDependents** |  The monthly premium for the health insurance plan for a couple and three or more dependents.   |\n",
        "| **RowNumber** | The row number of rate information.  |\n"
      ],
      "metadata": {
        "id": "hYPtLDj_XmWG"
      }
    },
    {
      "cell_type": "markdown",
      "source": [
        "## **Installation and Downloading the Dataset**"
      ],
      "metadata": {
        "id": "SrZoz_YvpBx2"
      }
    },
    {
      "cell_type": "markdown",
      "source": [
        "**1) Install Vaex**"
      ],
      "metadata": {
        "id": "sD2DUJTmpH-V"
      }
    },
    {
      "cell_type": "code",
      "source": [
        "!pip install vaex"
      ],
      "metadata": {
        "colab": {
          "base_uri": "https://localhost:8080/"
        },
        "id": "O5rf9CmJYsmx",
        "outputId": "69f8943c-e57e-4785-ed82-17ac28dc435f"
      },
      "execution_count": 1,
      "outputs": [
        {
          "output_type": "stream",
          "name": "stdout",
          "text": [
            "Looking in indexes: https://pypi.org/simple, https://us-python.pkg.dev/colab-wheels/public/simple/\n",
            "Requirement already satisfied: vaex in /usr/local/lib/python3.8/dist-packages (4.16.0)\n",
            "Requirement already satisfied: vaex-hdf5<0.15,>=0.13.0 in /usr/local/lib/python3.8/dist-packages (from vaex) (0.14.1)\n",
            "Requirement already satisfied: vaex-jupyter<0.9,>=0.8.1 in /usr/local/lib/python3.8/dist-packages (from vaex) (0.8.1)\n",
            "Requirement already satisfied: vaex-viz<0.6,>=0.5.4 in /usr/local/lib/python3.8/dist-packages (from vaex) (0.5.4)\n",
            "Requirement already satisfied: vaex-core<4.17,>=4.16.0 in /usr/local/lib/python3.8/dist-packages (from vaex) (4.16.1)\n",
            "Requirement already satisfied: vaex-server<0.9,>=0.8.1 in /usr/local/lib/python3.8/dist-packages (from vaex) (0.8.1)\n",
            "Requirement already satisfied: vaex-ml<0.19,>=0.18.1 in /usr/local/lib/python3.8/dist-packages (from vaex) (0.18.1)\n",
            "Requirement already satisfied: vaex-astro<0.10,>=0.9.3 in /usr/local/lib/python3.8/dist-packages (from vaex) (0.9.3)\n",
            "Requirement already satisfied: astropy in /usr/local/lib/python3.8/dist-packages (from vaex-astro<0.10,>=0.9.3->vaex) (4.3.1)\n",
            "Requirement already satisfied: pydantic>=1.8.0 in /usr/local/lib/python3.8/dist-packages (from vaex-core<4.17,>=4.16.0->vaex) (1.10.4)\n",
            "Requirement already satisfied: filelock in /usr/local/lib/python3.8/dist-packages (from vaex-core<4.17,>=4.16.0->vaex) (3.9.0)\n",
            "Requirement already satisfied: numpy>=1.16 in /usr/local/lib/python3.8/dist-packages (from vaex-core<4.17,>=4.16.0->vaex) (1.21.6)\n",
            "Requirement already satisfied: pyarrow>=5.0.0 in /usr/local/lib/python3.8/dist-packages (from vaex-core<4.17,>=4.16.0->vaex) (9.0.0)\n",
            "Requirement already satisfied: six in /usr/local/lib/python3.8/dist-packages (from vaex-core<4.17,>=4.16.0->vaex) (1.15.0)\n",
            "Requirement already satisfied: dask!=2022.4.0 in /usr/local/lib/python3.8/dist-packages (from vaex-core<4.17,>=4.16.0->vaex) (2022.2.1)\n",
            "Requirement already satisfied: requests in /usr/local/lib/python3.8/dist-packages (from vaex-core<4.17,>=4.16.0->vaex) (2.25.1)\n",
            "Requirement already satisfied: pyyaml in /usr/local/lib/python3.8/dist-packages (from vaex-core<4.17,>=4.16.0->vaex) (6.0)\n",
            "Requirement already satisfied: blake3 in /usr/local/lib/python3.8/dist-packages (from vaex-core<4.17,>=4.16.0->vaex) (0.3.3)\n",
            "Requirement already satisfied: rich in /usr/local/lib/python3.8/dist-packages (from vaex-core<4.17,>=4.16.0->vaex) (13.0.1)\n",
            "Requirement already satisfied: frozendict!=2.2.0 in /usr/local/lib/python3.8/dist-packages (from vaex-core<4.17,>=4.16.0->vaex) (2.3.4)\n",
            "Requirement already satisfied: tabulate>=0.8.3 in /usr/local/lib/python3.8/dist-packages (from vaex-core<4.17,>=4.16.0->vaex) (0.8.10)\n",
            "Requirement already satisfied: pandas in /usr/local/lib/python3.8/dist-packages (from vaex-core<4.17,>=4.16.0->vaex) (1.3.5)\n",
            "Requirement already satisfied: future>=0.15.2 in /usr/local/lib/python3.8/dist-packages (from vaex-core<4.17,>=4.16.0->vaex) (0.16.0)\n",
            "Requirement already satisfied: aplus in /usr/local/lib/python3.8/dist-packages (from vaex-core<4.17,>=4.16.0->vaex) (0.11.0)\n",
            "Requirement already satisfied: nest-asyncio>=1.3.3 in /usr/local/lib/python3.8/dist-packages (from vaex-core<4.17,>=4.16.0->vaex) (1.5.6)\n",
            "Requirement already satisfied: progressbar2 in /usr/local/lib/python3.8/dist-packages (from vaex-core<4.17,>=4.16.0->vaex) (3.38.0)\n",
            "Requirement already satisfied: cloudpickle in /usr/local/lib/python3.8/dist-packages (from vaex-core<4.17,>=4.16.0->vaex) (2.2.0)\n",
            "Requirement already satisfied: h5py>=2.9 in /usr/local/lib/python3.8/dist-packages (from vaex-hdf5<0.15,>=0.13.0->vaex) (3.1.0)\n",
            "Requirement already satisfied: xarray in /usr/local/lib/python3.8/dist-packages (from vaex-jupyter<0.9,>=0.8.1->vaex) (2022.12.0)\n",
            "Requirement already satisfied: ipympl in /usr/local/lib/python3.8/dist-packages (from vaex-jupyter<0.9,>=0.8.1->vaex) (0.9.2)\n",
            "Requirement already satisfied: bqplot>=0.10.1 in /usr/local/lib/python3.8/dist-packages (from vaex-jupyter<0.9,>=0.8.1->vaex) (0.12.36)\n",
            "Requirement already satisfied: ipyvuetify<2,>=1.2.2 in /usr/local/lib/python3.8/dist-packages (from vaex-jupyter<0.9,>=0.8.1->vaex) (1.8.4)\n",
            "Requirement already satisfied: ipyvolume>=0.4 in /usr/local/lib/python3.8/dist-packages (from vaex-jupyter<0.9,>=0.8.1->vaex) (0.5.2)\n",
            "Requirement already satisfied: ipyleaflet in /usr/local/lib/python3.8/dist-packages (from vaex-jupyter<0.9,>=0.8.1->vaex) (0.17.2)\n",
            "Requirement already satisfied: traitlets in /usr/local/lib/python3.8/dist-packages (from vaex-ml<0.19,>=0.18.1->vaex) (5.7.1)\n",
            "Requirement already satisfied: jinja2 in /usr/local/lib/python3.8/dist-packages (from vaex-ml<0.19,>=0.18.1->vaex) (2.11.3)\n",
            "Requirement already satisfied: numba in /usr/local/lib/python3.8/dist-packages (from vaex-ml<0.19,>=0.18.1->vaex) (0.56.4)\n",
            "Requirement already satisfied: uvicorn[standard] in /usr/local/lib/python3.8/dist-packages (from vaex-server<0.9,>=0.8.1->vaex) (0.20.0)\n",
            "Requirement already satisfied: cachetools in /usr/local/lib/python3.8/dist-packages (from vaex-server<0.9,>=0.8.1->vaex) (5.2.0)\n",
            "Requirement already satisfied: fastapi in /usr/local/lib/python3.8/dist-packages (from vaex-server<0.9,>=0.8.1->vaex) (0.89.1)\n",
            "Requirement already satisfied: tornado>4.1 in /usr/local/lib/python3.8/dist-packages (from vaex-server<0.9,>=0.8.1->vaex) (6.0.4)\n",
            "Requirement already satisfied: matplotlib>=1.3.1 in /usr/local/lib/python3.8/dist-packages (from vaex-viz<0.6,>=0.5.4->vaex) (3.6.3)\n",
            "Requirement already satisfied: pillow in /usr/local/lib/python3.8/dist-packages (from vaex-viz<0.6,>=0.5.4->vaex) (7.1.2)\n",
            "Requirement already satisfied: ipywidgets<9,>=7.5.0 in /usr/local/lib/python3.8/dist-packages (from bqplot>=0.10.1->vaex-jupyter<0.9,>=0.8.1->vaex) (7.7.1)\n",
            "Requirement already satisfied: traittypes>=0.0.6 in /usr/local/lib/python3.8/dist-packages (from bqplot>=0.10.1->vaex-jupyter<0.9,>=0.8.1->vaex) (0.2.1)\n",
            "Requirement already satisfied: partd>=0.3.10 in /usr/local/lib/python3.8/dist-packages (from dask!=2022.4.0->vaex-core<4.17,>=4.16.0->vaex) (1.3.0)\n",
            "Requirement already satisfied: fsspec>=0.6.0 in /usr/local/lib/python3.8/dist-packages (from dask!=2022.4.0->vaex-core<4.17,>=4.16.0->vaex) (2022.11.0)\n",
            "Requirement already satisfied: toolz>=0.8.2 in /usr/local/lib/python3.8/dist-packages (from dask!=2022.4.0->vaex-core<4.17,>=4.16.0->vaex) (0.12.0)\n",
            "Requirement already satisfied: packaging>=20.0 in /usr/local/lib/python3.8/dist-packages (from dask!=2022.4.0->vaex-core<4.17,>=4.16.0->vaex) (21.3)\n",
            "Requirement already satisfied: pythreejs>=1.0.0 in /usr/local/lib/python3.8/dist-packages (from ipyvolume>=0.4->vaex-jupyter<0.9,>=0.8.1->vaex) (2.4.1)\n",
            "Requirement already satisfied: ipywebrtc in /usr/local/lib/python3.8/dist-packages (from ipyvolume>=0.4->vaex-jupyter<0.9,>=0.8.1->vaex) (0.6.0)\n",
            "Requirement already satisfied: ipyvue<2,>=1.5 in /usr/local/lib/python3.8/dist-packages (from ipyvuetify<2,>=1.2.2->vaex-jupyter<0.9,>=0.8.1->vaex) (1.8.0)\n",
            "Requirement already satisfied: python-dateutil>=2.7 in /usr/local/lib/python3.8/dist-packages (from matplotlib>=1.3.1->vaex-viz<0.6,>=0.5.4->vaex) (2.8.2)\n",
            "Requirement already satisfied: pyparsing>=2.2.1 in /usr/local/lib/python3.8/dist-packages (from matplotlib>=1.3.1->vaex-viz<0.6,>=0.5.4->vaex) (3.0.9)\n",
            "Requirement already satisfied: kiwisolver>=1.0.1 in /usr/local/lib/python3.8/dist-packages (from matplotlib>=1.3.1->vaex-viz<0.6,>=0.5.4->vaex) (1.4.4)\n",
            "Requirement already satisfied: contourpy>=1.0.1 in /usr/local/lib/python3.8/dist-packages (from matplotlib>=1.3.1->vaex-viz<0.6,>=0.5.4->vaex) (1.0.6)\n",
            "Requirement already satisfied: cycler>=0.10 in /usr/local/lib/python3.8/dist-packages (from matplotlib>=1.3.1->vaex-viz<0.6,>=0.5.4->vaex) (0.11.0)\n",
            "Requirement already satisfied: fonttools>=4.22.0 in /usr/local/lib/python3.8/dist-packages (from matplotlib>=1.3.1->vaex-viz<0.6,>=0.5.4->vaex) (4.38.0)\n",
            "Requirement already satisfied: pytz>=2017.3 in /usr/local/lib/python3.8/dist-packages (from pandas->vaex-core<4.17,>=4.16.0->vaex) (2022.7)\n",
            "Requirement already satisfied: typing-extensions>=4.2.0 in /usr/local/lib/python3.8/dist-packages (from pydantic>=1.8.0->vaex-core<4.17,>=4.16.0->vaex) (4.4.0)\n",
            "Requirement already satisfied: pyerfa>=1.7.3 in /usr/local/lib/python3.8/dist-packages (from astropy->vaex-astro<0.10,>=0.9.3->vaex) (2.0.0.1)\n",
            "Requirement already satisfied: starlette==0.22.0 in /usr/local/lib/python3.8/dist-packages (from fastapi->vaex-server<0.9,>=0.8.1->vaex) (0.22.0)\n",
            "Requirement already satisfied: anyio<5,>=3.4.0 in /usr/local/lib/python3.8/dist-packages (from starlette==0.22.0->fastapi->vaex-server<0.9,>=0.8.1->vaex) (3.6.2)\n",
            "Requirement already satisfied: branca>=0.5.0 in /usr/local/lib/python3.8/dist-packages (from ipyleaflet->vaex-jupyter<0.9,>=0.8.1->vaex) (0.6.0)\n",
            "Requirement already satisfied: xyzservices>=2021.8.1 in /usr/local/lib/python3.8/dist-packages (from ipyleaflet->vaex-jupyter<0.9,>=0.8.1->vaex) (2022.9.0)\n",
            "Requirement already satisfied: ipython-genutils in /usr/local/lib/python3.8/dist-packages (from ipympl->vaex-jupyter<0.9,>=0.8.1->vaex) (0.2.0)\n",
            "Requirement already satisfied: ipython<9 in /usr/local/lib/python3.8/dist-packages (from ipympl->vaex-jupyter<0.9,>=0.8.1->vaex) (7.9.0)\n",
            "Requirement already satisfied: MarkupSafe>=0.23 in /usr/local/lib/python3.8/dist-packages (from jinja2->vaex-ml<0.19,>=0.18.1->vaex) (2.0.1)\n",
            "Requirement already satisfied: importlib-metadata in /usr/local/lib/python3.8/dist-packages (from numba->vaex-ml<0.19,>=0.18.1->vaex) (6.0.0)\n",
            "Requirement already satisfied: setuptools in /usr/local/lib/python3.8/dist-packages (from numba->vaex-ml<0.19,>=0.18.1->vaex) (57.4.0)\n",
            "Requirement already satisfied: llvmlite<0.40,>=0.39.0dev0 in /usr/local/lib/python3.8/dist-packages (from numba->vaex-ml<0.19,>=0.18.1->vaex) (0.39.1)\n",
            "Requirement already satisfied: python-utils>=2.3.0 in /usr/local/lib/python3.8/dist-packages (from progressbar2->vaex-core<4.17,>=4.16.0->vaex) (3.4.5)\n",
            "Requirement already satisfied: certifi>=2017.4.17 in /usr/local/lib/python3.8/dist-packages (from requests->vaex-core<4.17,>=4.16.0->vaex) (2022.12.7)\n",
            "Requirement already satisfied: chardet<5,>=3.0.2 in /usr/local/lib/python3.8/dist-packages (from requests->vaex-core<4.17,>=4.16.0->vaex) (4.0.0)\n",
            "Requirement already satisfied: urllib3<1.27,>=1.21.1 in /usr/local/lib/python3.8/dist-packages (from requests->vaex-core<4.17,>=4.16.0->vaex) (1.24.3)\n",
            "Requirement already satisfied: idna<3,>=2.5 in /usr/local/lib/python3.8/dist-packages (from requests->vaex-core<4.17,>=4.16.0->vaex) (2.10)\n",
            "Requirement already satisfied: commonmark<0.10.0,>=0.9.0 in /usr/local/lib/python3.8/dist-packages (from rich->vaex-core<4.17,>=4.16.0->vaex) (0.9.1)\n",
            "Requirement already satisfied: pygments<3.0.0,>=2.6.0 in /usr/local/lib/python3.8/dist-packages (from rich->vaex-core<4.17,>=4.16.0->vaex) (2.6.1)\n",
            "Requirement already satisfied: click>=7.0 in /usr/local/lib/python3.8/dist-packages (from uvicorn[standard]->vaex-server<0.9,>=0.8.1->vaex) (7.1.2)\n",
            "Requirement already satisfied: h11>=0.8 in /usr/local/lib/python3.8/dist-packages (from uvicorn[standard]->vaex-server<0.9,>=0.8.1->vaex) (0.14.0)\n",
            "Requirement already satisfied: httptools>=0.5.0 in /usr/local/lib/python3.8/dist-packages (from uvicorn[standard]->vaex-server<0.9,>=0.8.1->vaex) (0.5.0)\n",
            "Requirement already satisfied: websockets>=10.4 in /usr/local/lib/python3.8/dist-packages (from uvicorn[standard]->vaex-server<0.9,>=0.8.1->vaex) (10.4)\n",
            "Requirement already satisfied: watchfiles>=0.13 in /usr/local/lib/python3.8/dist-packages (from uvicorn[standard]->vaex-server<0.9,>=0.8.1->vaex) (0.18.1)\n",
            "Requirement already satisfied: uvloop!=0.15.0,!=0.15.1,>=0.14.0 in /usr/local/lib/python3.8/dist-packages (from uvicorn[standard]->vaex-server<0.9,>=0.8.1->vaex) (0.17.0)\n",
            "Requirement already satisfied: python-dotenv>=0.13 in /usr/local/lib/python3.8/dist-packages (from uvicorn[standard]->vaex-server<0.9,>=0.8.1->vaex) (0.21.0)\n",
            "Requirement already satisfied: jedi>=0.10 in /usr/local/lib/python3.8/dist-packages (from ipython<9->ipympl->vaex-jupyter<0.9,>=0.8.1->vaex) (0.18.2)\n",
            "Requirement already satisfied: pexpect in /usr/local/lib/python3.8/dist-packages (from ipython<9->ipympl->vaex-jupyter<0.9,>=0.8.1->vaex) (4.8.0)\n",
            "Requirement already satisfied: backcall in /usr/local/lib/python3.8/dist-packages (from ipython<9->ipympl->vaex-jupyter<0.9,>=0.8.1->vaex) (0.2.0)\n",
            "Requirement already satisfied: decorator in /usr/local/lib/python3.8/dist-packages (from ipython<9->ipympl->vaex-jupyter<0.9,>=0.8.1->vaex) (4.4.2)\n",
            "Requirement already satisfied: pickleshare in /usr/local/lib/python3.8/dist-packages (from ipython<9->ipympl->vaex-jupyter<0.9,>=0.8.1->vaex) (0.7.5)\n",
            "Requirement already satisfied: prompt-toolkit<2.1.0,>=2.0.0 in /usr/local/lib/python3.8/dist-packages (from ipython<9->ipympl->vaex-jupyter<0.9,>=0.8.1->vaex) (2.0.10)\n",
            "Requirement already satisfied: jupyterlab-widgets>=1.0.0 in /usr/local/lib/python3.8/dist-packages (from ipywidgets<9,>=7.5.0->bqplot>=0.10.1->vaex-jupyter<0.9,>=0.8.1->vaex) (3.0.5)\n",
            "Requirement already satisfied: ipykernel>=4.5.1 in /usr/local/lib/python3.8/dist-packages (from ipywidgets<9,>=7.5.0->bqplot>=0.10.1->vaex-jupyter<0.9,>=0.8.1->vaex) (5.3.4)\n",
            "Requirement already satisfied: widgetsnbextension~=3.6.0 in /usr/local/lib/python3.8/dist-packages (from ipywidgets<9,>=7.5.0->bqplot>=0.10.1->vaex-jupyter<0.9,>=0.8.1->vaex) (3.6.1)\n",
            "Requirement already satisfied: locket in /usr/local/lib/python3.8/dist-packages (from partd>=0.3.10->dask!=2022.4.0->vaex-core<4.17,>=4.16.0->vaex) (1.0.0)\n",
            "Requirement already satisfied: ipydatawidgets>=1.1.1 in /usr/local/lib/python3.8/dist-packages (from pythreejs>=1.0.0->ipyvolume>=0.4->vaex-jupyter<0.9,>=0.8.1->vaex) (4.3.2)\n",
            "Requirement already satisfied: zipp>=0.5 in /usr/local/lib/python3.8/dist-packages (from importlib-metadata->numba->vaex-ml<0.19,>=0.18.1->vaex) (3.11.0)\n",
            "Requirement already satisfied: sniffio>=1.1 in /usr/local/lib/python3.8/dist-packages (from anyio<5,>=3.4.0->starlette==0.22.0->fastapi->vaex-server<0.9,>=0.8.1->vaex) (1.3.0)\n",
            "Requirement already satisfied: jupyter-client in /usr/local/lib/python3.8/dist-packages (from ipykernel>=4.5.1->ipywidgets<9,>=7.5.0->bqplot>=0.10.1->vaex-jupyter<0.9,>=0.8.1->vaex) (6.1.12)\n",
            "Requirement already satisfied: parso<0.9.0,>=0.8.0 in /usr/local/lib/python3.8/dist-packages (from jedi>=0.10->ipython<9->ipympl->vaex-jupyter<0.9,>=0.8.1->vaex) (0.8.3)\n",
            "Requirement already satisfied: wcwidth in /usr/local/lib/python3.8/dist-packages (from prompt-toolkit<2.1.0,>=2.0.0->ipython<9->ipympl->vaex-jupyter<0.9,>=0.8.1->vaex) (0.2.5)\n",
            "Requirement already satisfied: notebook>=4.4.1 in /usr/local/lib/python3.8/dist-packages (from widgetsnbextension~=3.6.0->ipywidgets<9,>=7.5.0->bqplot>=0.10.1->vaex-jupyter<0.9,>=0.8.1->vaex) (5.7.16)\n",
            "Requirement already satisfied: ptyprocess>=0.5 in /usr/local/lib/python3.8/dist-packages (from pexpect->ipython<9->ipympl->vaex-jupyter<0.9,>=0.8.1->vaex) (0.7.0)\n",
            "Requirement already satisfied: prometheus-client in /usr/local/lib/python3.8/dist-packages (from notebook>=4.4.1->widgetsnbextension~=3.6.0->ipywidgets<9,>=7.5.0->bqplot>=0.10.1->vaex-jupyter<0.9,>=0.8.1->vaex) (0.15.0)\n",
            "Requirement already satisfied: terminado>=0.8.1 in /usr/local/lib/python3.8/dist-packages (from notebook>=4.4.1->widgetsnbextension~=3.6.0->ipywidgets<9,>=7.5.0->bqplot>=0.10.1->vaex-jupyter<0.9,>=0.8.1->vaex) (0.13.3)\n",
            "Requirement already satisfied: Send2Trash in /usr/local/lib/python3.8/dist-packages (from notebook>=4.4.1->widgetsnbextension~=3.6.0->ipywidgets<9,>=7.5.0->bqplot>=0.10.1->vaex-jupyter<0.9,>=0.8.1->vaex) (1.8.0)\n",
            "Requirement already satisfied: pyzmq>=17 in /usr/local/lib/python3.8/dist-packages (from notebook>=4.4.1->widgetsnbextension~=3.6.0->ipywidgets<9,>=7.5.0->bqplot>=0.10.1->vaex-jupyter<0.9,>=0.8.1->vaex) (23.2.1)\n",
            "Requirement already satisfied: nbformat in /usr/local/lib/python3.8/dist-packages (from notebook>=4.4.1->widgetsnbextension~=3.6.0->ipywidgets<9,>=7.5.0->bqplot>=0.10.1->vaex-jupyter<0.9,>=0.8.1->vaex) (5.7.1)\n",
            "Requirement already satisfied: nbconvert<6.0 in /usr/local/lib/python3.8/dist-packages (from notebook>=4.4.1->widgetsnbextension~=3.6.0->ipywidgets<9,>=7.5.0->bqplot>=0.10.1->vaex-jupyter<0.9,>=0.8.1->vaex) (5.6.1)\n",
            "Requirement already satisfied: jupyter-core>=4.4.0 in /usr/local/lib/python3.8/dist-packages (from notebook>=4.4.1->widgetsnbextension~=3.6.0->ipywidgets<9,>=7.5.0->bqplot>=0.10.1->vaex-jupyter<0.9,>=0.8.1->vaex) (5.1.2)\n",
            "Requirement already satisfied: platformdirs>=2.5 in /usr/local/lib/python3.8/dist-packages (from jupyter-core>=4.4.0->notebook>=4.4.1->widgetsnbextension~=3.6.0->ipywidgets<9,>=7.5.0->bqplot>=0.10.1->vaex-jupyter<0.9,>=0.8.1->vaex) (2.6.2)\n",
            "Requirement already satisfied: defusedxml in /usr/local/lib/python3.8/dist-packages (from nbconvert<6.0->notebook>=4.4.1->widgetsnbextension~=3.6.0->ipywidgets<9,>=7.5.0->bqplot>=0.10.1->vaex-jupyter<0.9,>=0.8.1->vaex) (0.7.1)\n",
            "Requirement already satisfied: pandocfilters>=1.4.1 in /usr/local/lib/python3.8/dist-packages (from nbconvert<6.0->notebook>=4.4.1->widgetsnbextension~=3.6.0->ipywidgets<9,>=7.5.0->bqplot>=0.10.1->vaex-jupyter<0.9,>=0.8.1->vaex) (1.5.0)\n",
            "Requirement already satisfied: testpath in /usr/local/lib/python3.8/dist-packages (from nbconvert<6.0->notebook>=4.4.1->widgetsnbextension~=3.6.0->ipywidgets<9,>=7.5.0->bqplot>=0.10.1->vaex-jupyter<0.9,>=0.8.1->vaex) (0.6.0)\n",
            "Requirement already satisfied: bleach in /usr/local/lib/python3.8/dist-packages (from nbconvert<6.0->notebook>=4.4.1->widgetsnbextension~=3.6.0->ipywidgets<9,>=7.5.0->bqplot>=0.10.1->vaex-jupyter<0.9,>=0.8.1->vaex) (5.0.1)\n",
            "Requirement already satisfied: mistune<2,>=0.8.1 in /usr/local/lib/python3.8/dist-packages (from nbconvert<6.0->notebook>=4.4.1->widgetsnbextension~=3.6.0->ipywidgets<9,>=7.5.0->bqplot>=0.10.1->vaex-jupyter<0.9,>=0.8.1->vaex) (0.8.4)\n",
            "Requirement already satisfied: entrypoints>=0.2.2 in /usr/local/lib/python3.8/dist-packages (from nbconvert<6.0->notebook>=4.4.1->widgetsnbextension~=3.6.0->ipywidgets<9,>=7.5.0->bqplot>=0.10.1->vaex-jupyter<0.9,>=0.8.1->vaex) (0.4)\n",
            "Requirement already satisfied: jsonschema>=2.6 in /usr/local/lib/python3.8/dist-packages (from nbformat->notebook>=4.4.1->widgetsnbextension~=3.6.0->ipywidgets<9,>=7.5.0->bqplot>=0.10.1->vaex-jupyter<0.9,>=0.8.1->vaex) (4.3.3)\n",
            "Requirement already satisfied: fastjsonschema in /usr/local/lib/python3.8/dist-packages (from nbformat->notebook>=4.4.1->widgetsnbextension~=3.6.0->ipywidgets<9,>=7.5.0->bqplot>=0.10.1->vaex-jupyter<0.9,>=0.8.1->vaex) (2.16.2)\n",
            "Requirement already satisfied: pyrsistent!=0.17.0,!=0.17.1,!=0.17.2,>=0.14.0 in /usr/local/lib/python3.8/dist-packages (from jsonschema>=2.6->nbformat->notebook>=4.4.1->widgetsnbextension~=3.6.0->ipywidgets<9,>=7.5.0->bqplot>=0.10.1->vaex-jupyter<0.9,>=0.8.1->vaex) (0.19.3)\n",
            "Requirement already satisfied: attrs>=17.4.0 in /usr/local/lib/python3.8/dist-packages (from jsonschema>=2.6->nbformat->notebook>=4.4.1->widgetsnbextension~=3.6.0->ipywidgets<9,>=7.5.0->bqplot>=0.10.1->vaex-jupyter<0.9,>=0.8.1->vaex) (22.2.0)\n",
            "Requirement already satisfied: importlib-resources>=1.4.0 in /usr/local/lib/python3.8/dist-packages (from jsonschema>=2.6->nbformat->notebook>=4.4.1->widgetsnbextension~=3.6.0->ipywidgets<9,>=7.5.0->bqplot>=0.10.1->vaex-jupyter<0.9,>=0.8.1->vaex) (5.10.2)\n",
            "Requirement already satisfied: webencodings in /usr/local/lib/python3.8/dist-packages (from bleach->nbconvert<6.0->notebook>=4.4.1->widgetsnbextension~=3.6.0->ipywidgets<9,>=7.5.0->bqplot>=0.10.1->vaex-jupyter<0.9,>=0.8.1->vaex) (0.5.1)\n"
          ]
        }
      ]
    },
    {
      "cell_type": "markdown",
      "source": [
        "**2) Import the Vaex Libraries**"
      ],
      "metadata": {
        "id": "3KaDM_GYYowF"
      }
    },
    {
      "cell_type": "code",
      "source": [
        "import vaex as vx\n",
        "import vaex.ml\n",
        "import vaex.viz as vv\n",
        "import pandas as pd "
      ],
      "metadata": {
        "id": "_FQhXcttYR14"
      },
      "execution_count": 2,
      "outputs": []
    },
    {
      "cell_type": "markdown",
      "source": [
        "**3) Download the dataset from Google Drive**"
      ],
      "metadata": {
        "id": "ue3b1THHYSs7"
      }
    },
    {
      "cell_type": "code",
      "source": [
        "# Read dataset from google drive\n",
        "!pip install -U -q PyDrive\n",
        "from pydrive.auth import GoogleAuth\n",
        "from pydrive.drive import GoogleDrive\n",
        "from google.colab import auth\n",
        "from oauth2client.client import GoogleCredentials\n",
        "\n",
        "# Authenticate and create the PyDrive client.\n",
        "auth.authenticate_user()\n",
        "gauth = GoogleAuth()\n",
        "gauth.credentials = GoogleCredentials.get_application_default()\n",
        "drive = GoogleDrive(gauth)\n",
        "link = 'https://drive.google.com/file/d/10PKFCHEW_B_4alRrDpjbA1WOsG2h4anZ/view?usp=share_link'\n",
        "# to get the id part of the file\n",
        "id = link.split(\"/\")[-2]\n",
        " \n",
        "downloaded = drive.CreateFile({'id':id})\n",
        "downloaded.GetContentFile('Rate.csv') \n",
        "downloaded.GetContentFile('Network.csv') "
      ],
      "metadata": {
        "id": "dAmdIifdsq-5"
      },
      "execution_count": 3,
      "outputs": []
    },
    {
      "cell_type": "markdown",
      "source": [
        "\n",
        "\n",
        "---\n",
        "\n"
      ],
      "metadata": {
        "id": "kDL51DDPqGph"
      }
    },
    {
      "cell_type": "markdown",
      "source": [
        "\n",
        "# Comparison of Vaex and Pandas"
      ],
      "metadata": {
        "id": "vUzh2zA7ZUv0"
      }
    },
    {
      "cell_type": "markdown",
      "source": [
        "**1) Reading Files**"
      ],
      "metadata": {
        "id": "AyhzAiaDpxFh"
      }
    },
    {
      "cell_type": "code",
      "source": [
        "%time pd_df = pd.read_csv('Rate.csv')"
      ],
      "metadata": {
        "id": "_bjFREfGZfoe",
        "colab": {
          "base_uri": "https://localhost:8080/"
        },
        "outputId": "f6189704-f84e-4bbb-9e3e-056f82f2e454"
      },
      "execution_count": 4,
      "outputs": [
        {
          "output_type": "stream",
          "name": "stdout",
          "text": [
            "CPU times: user 31.3 s, sys: 6.59 s, total: 37.9 s\n",
            "Wall time: 44.6 s\n"
          ]
        }
      ]
    },
    {
      "cell_type": "code",
      "source": [
        "%time vaex_df = vx.open('Rate.csv') "
      ],
      "metadata": {
        "colab": {
          "base_uri": "https://localhost:8080/"
        },
        "id": "ZjM57-hzZVs6",
        "outputId": "c51d7208-4291-48d2-821c-279981c9af78"
      },
      "execution_count": 5,
      "outputs": [
        {
          "output_type": "stream",
          "name": "stdout",
          "text": [
            "CPU times: user 2.24 s, sys: 1.06 s, total: 3.3 s\n",
            "Wall time: 9.41 s\n"
          ]
        }
      ]
    },
    {
      "cell_type": "markdown",
      "source": [
        "Based on the comparison above, we can see that **vaex** took only ```2.33 s``` in reading the dataset compared to **pandas** 39.2 s in terms of ```CPU times```. **Vaex** is also much faster in reading the dataset than **pandas** in terms of ```wall time```.\n",
        "\n"
      ],
      "metadata": {
        "id": "DBi2JQsh6CWp"
      }
    },
    {
      "cell_type": "markdown",
      "source": [
        "**2) Reading Multi-file**\n",
        "\n",
        "Data is frequently spread over multiple files, and you must open each one manually. This will give us troublesome and time-consuming."
      ],
      "metadata": {
        "id": "qJJhu66zK4XQ"
      }
    },
    {
      "cell_type": "code",
      "source": [
        "%time pd_df = pd.read_csv('Rate.csv')"
      ],
      "metadata": {
        "id": "e0I9XxEvLFH0",
        "colab": {
          "base_uri": "https://localhost:8080/"
        },
        "outputId": "2891c15e-f131-4496-d648-38a5eb294900"
      },
      "execution_count": 6,
      "outputs": [
        {
          "output_type": "stream",
          "name": "stdout",
          "text": [
            "CPU times: user 31.3 s, sys: 7.07 s, total: 38.4 s\n",
            "Wall time: 42.2 s\n"
          ]
        }
      ]
    },
    {
      "cell_type": "code",
      "source": [
        "%time pd_df = pd.read_csv('Network.csv')"
      ],
      "metadata": {
        "id": "hsx7KGIRLE26",
        "colab": {
          "base_uri": "https://localhost:8080/"
        },
        "outputId": "3f7bbb4a-d5d4-49fb-b8cc-19a7c020b8df"
      },
      "execution_count": 7,
      "outputs": [
        {
          "output_type": "stream",
          "name": "stdout",
          "text": [
            "CPU times: user 27.2 s, sys: 6.89 s, total: 34.1 s\n",
            "Wall time: 38.2 s\n"
          ]
        }
      ]
    },
    {
      "cell_type": "markdown",
      "source": [
        "However, vaex offers the open many function, which can open a list of filenames and quickly concatenate them all into a single DataFrame."
      ],
      "metadata": {
        "id": "YwE9-wZDNoII"
      }
    },
    {
      "cell_type": "code",
      "source": [
        "%time \n",
        "vaex_df_concat = vx.open_many(['Rate.csv', 'Network.csv'])"
      ],
      "metadata": {
        "id": "6jeJvvPcIdm4",
        "colab": {
          "base_uri": "https://localhost:8080/"
        },
        "outputId": "012de6a0-c843-4ed6-e68a-a26c879bd366"
      },
      "execution_count": 8,
      "outputs": [
        {
          "output_type": "stream",
          "name": "stdout",
          "text": [
            "CPU times: user 4 µs, sys: 1 µs, total: 5 µs\n",
            "Wall time: 8.82 µs\n"
          ]
        }
      ]
    },
    {
      "cell_type": "markdown",
      "source": [
        "As a result, vaex can open two files in just ```microseconds``` while\n",
        "pandas need ```minutes``` to open two files separately."
      ],
      "metadata": {
        "id": "txRqTX-TMPiJ"
      }
    },
    {
      "cell_type": "markdown",
      "source": [
        "**3) Head (Vaex vs Pandas)**"
      ],
      "metadata": {
        "id": "BKavwoBxuEdJ"
      }
    },
    {
      "cell_type": "code",
      "source": [
        "%time\n",
        "head_pd = pd_df.head()"
      ],
      "metadata": {
        "id": "7n-iBo5LuMF_",
        "colab": {
          "base_uri": "https://localhost:8080/"
        },
        "outputId": "fe100dd6-2568-4b5f-8fda-bf3a58caa96b"
      },
      "execution_count": 9,
      "outputs": [
        {
          "output_type": "stream",
          "name": "stdout",
          "text": [
            "CPU times: user 3 µs, sys: 1e+03 ns, total: 4 µs\n",
            "Wall time: 8.58 µs\n"
          ]
        }
      ]
    },
    {
      "cell_type": "code",
      "source": [
        "%time\n",
        "head_vaex = vaex_df.head()"
      ],
      "metadata": {
        "id": "mqaTMs8UuhUj",
        "colab": {
          "base_uri": "https://localhost:8080/"
        },
        "outputId": "e70fa7b5-17e6-48f5-aa55-e7fc95eaf94f"
      },
      "execution_count": 10,
      "outputs": [
        {
          "output_type": "stream",
          "name": "stdout",
          "text": [
            "CPU times: user 0 ns, sys: 4 µs, total: 4 µs\n",
            "Wall time: 8.11 µs\n"
          ]
        }
      ]
    },
    {
      "cell_type": "markdown",
      "source": [
        "**4) Filtering Data**"
      ],
      "metadata": {
        "id": "ud_oY5ktbp_K"
      }
    },
    {
      "cell_type": "code",
      "source": [
        "%time df_filtered = pd_df[pd_df['IndividualRate']>20]"
      ],
      "metadata": {
        "id": "XbdiJRq8bsXA",
        "colab": {
          "base_uri": "https://localhost:8080/"
        },
        "outputId": "fb9566d7-51bc-40ef-8f24-843e4fa19c13"
      },
      "execution_count": 11,
      "outputs": [
        {
          "output_type": "stream",
          "name": "stdout",
          "text": [
            "CPU times: user 1.54 s, sys: 770 ms, total: 2.31 s\n",
            "Wall time: 2.36 s\n"
          ]
        }
      ]
    },
    {
      "cell_type": "code",
      "source": [
        "%time df_filtered=vaex_df[vaex_df['IndividualRate']>20]"
      ],
      "metadata": {
        "id": "jp-7nhcJcqA7",
        "colab": {
          "base_uri": "https://localhost:8080/"
        },
        "outputId": "68acd13c-5bad-4cfd-8fd2-22d8cde6ac27"
      },
      "execution_count": 12,
      "outputs": [
        {
          "output_type": "stream",
          "name": "stdout",
          "text": [
            "CPU times: user 234 ms, sys: 90.8 ms, total: 325 ms\n",
            "Wall time: 343 ms\n"
          ]
        }
      ]
    },
    {
      "cell_type": "markdown",
      "source": [
        "As we filter the data, we can see that **vaex** reduced the time taken from ```milliseconds``` to ```seconds```.\n",
        "\n"
      ],
      "metadata": {
        "id": "D0P3nQVl9L3q"
      }
    },
    {
      "cell_type": "markdown",
      "source": [
        "**5) Statistic Performance**"
      ],
      "metadata": {
        "id": "QVY-PkyNc3uE"
      }
    },
    {
      "cell_type": "code",
      "source": [
        "%time pd_df['IndividualRate'].mean()"
      ],
      "metadata": {
        "id": "g5CrsRnOeUGd",
        "colab": {
          "base_uri": "https://localhost:8080/"
        },
        "outputId": "44ec87ff-9907-4c84-8493-085b9a087515"
      },
      "execution_count": 13,
      "outputs": [
        {
          "output_type": "stream",
          "name": "stdout",
          "text": [
            "CPU times: user 45.4 ms, sys: 0 ns, total: 45.4 ms\n",
            "Wall time: 58.7 ms\n"
          ]
        },
        {
          "output_type": "execute_result",
          "data": {
            "text/plain": [
              "4098.026458591218"
            ]
          },
          "metadata": {},
          "execution_count": 13
        }
      ]
    },
    {
      "cell_type": "code",
      "source": [
        "%time vaex_df['IndividualRate'].mean()"
      ],
      "metadata": {
        "id": "yWrKQDxOc8Ps",
        "colab": {
          "base_uri": "https://localhost:8080/"
        },
        "outputId": "6fd8f771-bdf1-4cf3-c5b1-82d916018356"
      },
      "execution_count": 14,
      "outputs": [
        {
          "output_type": "stream",
          "name": "stdout",
          "text": [
            "CPU times: user 8.79 s, sys: 1.31 s, total: 10.1 s\n",
            "Wall time: 6.91 s\n"
          ]
        },
        {
          "output_type": "execute_result",
          "data": {
            "text/plain": [
              "array(4098.02645858)"
            ]
          },
          "metadata": {},
          "execution_count": 14
        }
      ]
    },
    {
      "cell_type": "markdown",
      "source": [
        "As we use mean to perform the statistic measures, we found out that **pandas** take shorter time to perform the task than **vaex**. \n",
        "\n",
        "\n"
      ],
      "metadata": {
        "id": "4RpUnHA_9-tI"
      }
    },
    {
      "cell_type": "markdown",
      "source": [
        "**6) String Operations**"
      ],
      "metadata": {
        "id": "dC63Hj3abwNE"
      }
    },
    {
      "cell_type": "code",
      "source": [
        "%time pd_df['Tobacco'].str.lower()"
      ],
      "metadata": {
        "id": "0NU4vCipTA2D",
        "colab": {
          "base_uri": "https://localhost:8080/"
        },
        "outputId": "1381668b-9b6c-430c-c11b-4e13e960f5b2"
      },
      "execution_count": 15,
      "outputs": [
        {
          "output_type": "stream",
          "name": "stdout",
          "text": [
            "CPU times: user 3.18 s, sys: 604 ms, total: 3.79 s\n",
            "Wall time: 3.78 s\n"
          ]
        },
        {
          "output_type": "execute_result",
          "data": {
            "text/plain": [
              "0           no preference\n",
              "1           no preference\n",
              "2           no preference\n",
              "3           no preference\n",
              "4           no preference\n",
              "                ...      \n",
              "12694440    no preference\n",
              "12694441    no preference\n",
              "12694442    no preference\n",
              "12694443    no preference\n",
              "12694444    no preference\n",
              "Name: Tobacco, Length: 12694445, dtype: object"
            ]
          },
          "metadata": {},
          "execution_count": 15
        }
      ]
    },
    {
      "cell_type": "markdown",
      "source": [
        "Vaex has a separate class for string functions vaex.expression.StringOperations. \n"
      ],
      "metadata": {
        "id": "bvSvGQY-cFXO"
      }
    },
    {
      "cell_type": "code",
      "source": [
        "%time vaex_df['Tobacco'].str.lower()"
      ],
      "metadata": {
        "id": "0ch7BdDxbmKg",
        "colab": {
          "base_uri": "https://localhost:8080/"
        },
        "outputId": "af3976aa-b441-4e88-bfda-6fc99f751af5"
      },
      "execution_count": 16,
      "outputs": [
        {
          "output_type": "stream",
          "name": "stdout",
          "text": [
            "CPU times: user 1.25 ms, sys: 79 µs, total: 1.33 ms\n",
            "Wall time: 1.4 ms\n"
          ]
        },
        {
          "output_type": "execute_result",
          "data": {
            "text/plain": [
              "Expression = str_lower(Tobacco)\n",
              "Length: 12,694,445 dtype: string (expression)\n",
              "---------------------------------------------\n",
              "       0  no preference\n",
              "       1  no preference\n",
              "       2  no preference\n",
              "       3  no preference\n",
              "       4  no preference\n",
              "          ...          \n",
              "12694440  no preference\n",
              "12694441  no preference\n",
              "12694442  no preference\n",
              "12694443  no preference\n",
              "12694444  no preference"
            ]
          },
          "metadata": {},
          "execution_count": 16
        }
      ]
    },
    {
      "cell_type": "markdown",
      "source": [
        "Using vaex.expression.StringOperations can reduce the time taken to  execute the String Operations."
      ],
      "metadata": {
        "id": "Mz_522GJchZw"
      }
    },
    {
      "cell_type": "markdown",
      "source": [
        "**7) GroupBy Function**"
      ],
      "metadata": {
        "id": "5Qpc23LrhthC"
      }
    },
    {
      "cell_type": "code",
      "source": [
        "%time pd_df.groupby('StateCode')['IndividualRate'].mean()"
      ],
      "metadata": {
        "id": "iWxJxMWVhyOB",
        "colab": {
          "base_uri": "https://localhost:8080/"
        },
        "outputId": "efaeb901-06d4-4c85-f8a5-b37413b0d89b"
      },
      "execution_count": 17,
      "outputs": [
        {
          "output_type": "stream",
          "name": "stdout",
          "text": [
            "CPU times: user 884 ms, sys: 93.5 ms, total: 978 ms\n",
            "Wall time: 1 s\n"
          ]
        },
        {
          "output_type": "execute_result",
          "data": {
            "text/plain": [
              "StateCode\n",
              "AK     7024.934674\n",
              "AL    12131.738408\n",
              "AR    15069.197977\n",
              "AZ     3976.503845\n",
              "DE      359.123401\n",
              "FL      311.205760\n",
              "GA     6427.433659\n",
              "HI      256.341476\n",
              "IA      319.639549\n",
              "ID    18457.376815\n",
              "IL      372.445315\n",
              "IN     4855.918482\n",
              "KS    11346.758629\n",
              "LA     8716.849950\n",
              "ME      355.559184\n",
              "MI     3052.602867\n",
              "MO    12305.733324\n",
              "MS    12977.019737\n",
              "MT     5133.976639\n",
              "NC     8206.358099\n",
              "ND     7218.928421\n",
              "NE     9155.720853\n",
              "NH      351.429461\n",
              "NJ      422.017152\n",
              "NM    12148.574158\n",
              "NV      299.121995\n",
              "OH     3743.698566\n",
              "OK     5157.578136\n",
              "OR      277.150862\n",
              "PA     3746.284228\n",
              "SC     5681.339818\n",
              "SD     9836.866162\n",
              "TN     9608.466825\n",
              "TX     5709.282772\n",
              "UT     6710.920042\n",
              "VA      319.326524\n",
              "WI      477.037688\n",
              "WV      347.902542\n",
              "WY    12103.594558\n",
              "Name: IndividualRate, dtype: float64"
            ]
          },
          "metadata": {},
          "execution_count": 17
        }
      ]
    },
    {
      "cell_type": "code",
      "source": [
        "%time vaex_df.groupby(by='StateCode').agg({'IndividualRate':'mean'})"
      ],
      "metadata": {
        "id": "XSuiSZvJD9a3",
        "colab": {
          "base_uri": "https://localhost:8080/",
          "height": 310
        },
        "outputId": "22d419b3-91be-48c9-bcab-319677d8cf46"
      },
      "execution_count": 18,
      "outputs": [
        {
          "output_type": "stream",
          "name": "stdout",
          "text": [
            "CPU times: user 21.4 s, sys: 2.4 s, total: 23.8 s\n",
            "Wall time: 12.7 s\n"
          ]
        },
        {
          "output_type": "execute_result",
          "data": {
            "text/html": [
              "<table>\n",
              "<thead>\n",
              "<tr><th>#                             </th><th>StateCode  </th><th>IndividualRate    </th></tr>\n",
              "</thead>\n",
              "<tbody>\n",
              "<tr><td><i style='opacity: 0.6'>0</i> </td><td>NJ         </td><td>422.017152475854  </td></tr>\n",
              "<tr><td><i style='opacity: 0.6'>1</i> </td><td>OK         </td><td>5157.578136289506 </td></tr>\n",
              "<tr><td><i style='opacity: 0.6'>2</i> </td><td>SC         </td><td>5681.339818376415 </td></tr>\n",
              "<tr><td><i style='opacity: 0.6'>3</i> </td><td>NE         </td><td>9155.720852636192 </td></tr>\n",
              "<tr><td><i style='opacity: 0.6'>4</i> </td><td>IN         </td><td>4855.9184819586535</td></tr>\n",
              "<tr><td>...                           </td><td>...        </td><td>...               </td></tr>\n",
              "<tr><td><i style='opacity: 0.6'>34</i></td><td>AK         </td><td>7024.934674098514 </td></tr>\n",
              "<tr><td><i style='opacity: 0.6'>35</i></td><td>NC         </td><td>8206.358099093733 </td></tr>\n",
              "<tr><td><i style='opacity: 0.6'>36</i></td><td>ME         </td><td>355.5591839399675 </td></tr>\n",
              "<tr><td><i style='opacity: 0.6'>37</i></td><td>IL         </td><td>372.44531510277506</td></tr>\n",
              "<tr><td><i style='opacity: 0.6'>38</i></td><td>HI         </td><td>256.34147562582365</td></tr>\n",
              "</tbody>\n",
              "</table>"
            ],
            "text/plain": [
              "#    StateCode    IndividualRate\n",
              "0    NJ           422.017152475854\n",
              "1    OK           5157.578136289506\n",
              "2    SC           5681.339818376415\n",
              "3    NE           9155.720852636192\n",
              "4    IN           4855.9184819586535\n",
              "...  ...          ...\n",
              "34   AK           7024.934674098514\n",
              "35   NC           8206.358099093733\n",
              "36   ME           355.5591839399675\n",
              "37   IL           372.44531510277506\n",
              "38   HI           256.34147562582365"
            ]
          },
          "metadata": {},
          "execution_count": 18
        }
      ]
    },
    {
      "cell_type": "markdown",
      "source": [
        "##Visualizations comparison"
      ],
      "metadata": {
        "id": "skBvWCBR4e5-"
      }
    },
    {
      "cell_type": "code",
      "source": [
        "%time vv.DataFrameAccessorViz.histogram(vaex_df.Age, vaex_df.Couple)"
      ],
      "metadata": {
        "colab": {
          "base_uri": "https://localhost:8080/",
          "height": 349
        },
        "id": "7D1eLiEu4X0Z",
        "outputId": "9e660d5c-8416-4158-fff1-61a55bf7e9a9"
      },
      "execution_count": 19,
      "outputs": [
        {
          "output_type": "stream",
          "name": "stdout",
          "text": [
            "CPU times: user 16.7 s, sys: 2.1 s, total: 18.8 s\n",
            "Wall time: 9.89 s\n"
          ]
        },
        {
          "output_type": "execute_result",
          "data": {
            "text/plain": [
              "[<matplotlib.lines.Line2D at 0x7fc99486edf0>]"
            ]
          },
          "metadata": {},
          "execution_count": 19
        },
        {
          "output_type": "display_data",
          "data": {
            "text/plain": [
              "<Figure size 432x288 with 1 Axes>"
            ],
            "image/png": "[encoded data removed]"
          },
          "metadata": {
            "needs_background": "light"
          }
        }
      ]
    },
    {
      "cell_type": "code",
      "source": [
        "import matplotlib.pyplot\n",
        "\n",
        "%time pd_df['Couple'].hist()\n"
      ],
      "metadata": {
        "colab": {
          "base_uri": "https://localhost:8080/",
          "height": 317
        },
        "id": "0Dai29Hp4Xfr",
        "outputId": "a615917c-5986-4a2d-dbfa-348c436d1fac"
      },
      "execution_count": 20,
      "outputs": [
        {
          "output_type": "stream",
          "name": "stdout",
          "text": [
            "CPU times: user 82.7 ms, sys: 444 µs, total: 83.1 ms\n",
            "Wall time: 90 ms\n"
          ]
        },
        {
          "output_type": "execute_result",
          "data": {
            "text/plain": [
              "<AxesSubplot: >"
            ]
          },
          "metadata": {},
          "execution_count": 20
        },
        {
          "output_type": "display_data",
          "data": {
            "text/plain": [
              "<Figure size 432x288 with 1 Axes>"
            ],
            "image/png": "[encoded data removed]"
          },
          "metadata": {
            "needs_background": "light"
          }
        }
      ]
    },
    {
      "cell_type": "markdown",
      "source": [
        "From both histogram, pandas seem to be faster and takes shorter time to execute than vaex.\n"
      ],
      "metadata": {
        "id": "cSsd-LSC4eRV"
      }
    },
    {
      "cell_type": "markdown",
      "source": [
        "## Comparisons (Vaex vs Pandas)"
      ],
      "metadata": {
        "id": "VB0SZ6hdasSE"
      }
    },
    {
      "cell_type": "code",
      "source": [
        "import pandas as pd\n",
        "import numpy as np\n",
        "import matplotlib.pyplot as plt\n",
        "\n",
        "function = ['Reading File', 'Reading Multi-file','Head', 'Filtering Data', 'Statistic Performance', 'String Operation', 'GroupBy','Visualizations comparison']\n",
        "compare = pd.DataFrame({'Pandas': [44.6, 80.4, 0.00000858, 2.36, 0.0587, 3.78, 1.0, 0.09], 'Vaex': [9.41, 0.00000882, 0.00000811, 0.343, 6.91, 0.0014, 12.7, 9.89]}, index = function)\n",
        "compare"
      ],
      "metadata": {
        "id": "az4aoMgpnVi0",
        "colab": {
          "base_uri": "https://localhost:8080/",
          "height": 300
        },
        "outputId": "2a80a18b-0daf-48c0-f12b-5adebb6df38f"
      },
      "execution_count": 28,
      "outputs": [
        {
          "output_type": "execute_result",
          "data": {
            "text/plain": [
              "                              Pandas       Vaex\n",
              "Reading File               44.600000   9.410000\n",
              "Reading Multi-file         80.400000   0.000009\n",
              "Head                        0.000009   0.000008\n",
              "Filtering Data              2.360000   0.343000\n",
              "Statistic Performance       0.058700   6.910000\n",
              "String Operation            3.780000   0.001400\n",
              "GroupBy                     1.000000  12.700000\n",
              "Visualizations comparison   0.090000   9.890000"
            ],
            "text/html": [
              "\n",
              "  <div id=\"df-be2c8d17-5165-48a0-a421-c7581b51b274\">\n",
              "    <div class=\"colab-df-container\">\n",
              "      <div>\n",
              "<style scoped>\n",
              "    .dataframe tbody tr th:only-of-type {\n",
              "        vertical-align: middle;\n",
              "    }\n",
              "\n",
              "    .dataframe tbody tr th {\n",
              "        vertical-align: top;\n",
              "    }\n",
              "\n",
              "    .dataframe thead th {\n",
              "        text-align: right;\n",
              "    }\n",
              "</style>\n",
              "<table border=\"1\" class=\"dataframe\">\n",
              "  <thead>\n",
              "    <tr style=\"text-align: right;\">\n",
              "      <th></th>\n",
              "      <th>Pandas</th>\n",
              "      <th>Vaex</th>\n",
              "    </tr>\n",
              "  </thead>\n",
              "  <tbody>\n",
              "    <tr>\n",
              "      <th>Reading File</th>\n",
              "      <td>44.600000</td>\n",
              "      <td>9.410000</td>\n",
              "    </tr>\n",
              "    <tr>\n",
              "      <th>Reading Multi-file</th>\n",
              "      <td>80.400000</td>\n",
              "      <td>0.000009</td>\n",
              "    </tr>\n",
              "    <tr>\n",
              "      <th>Head</th>\n",
              "      <td>0.000009</td>\n",
              "      <td>0.000008</td>\n",
              "    </tr>\n",
              "    <tr>\n",
              "      <th>Filtering Data</th>\n",
              "      <td>2.360000</td>\n",
              "      <td>0.343000</td>\n",
              "    </tr>\n",
              "    <tr>\n",
              "      <th>Statistic Performance</th>\n",
              "      <td>0.058700</td>\n",
              "      <td>6.910000</td>\n",
              "    </tr>\n",
              "    <tr>\n",
              "      <th>String Operation</th>\n",
              "      <td>3.780000</td>\n",
              "      <td>0.001400</td>\n",
              "    </tr>\n",
              "    <tr>\n",
              "      <th>GroupBy</th>\n",
              "      <td>1.000000</td>\n",
              "      <td>12.700000</td>\n",
              "    </tr>\n",
              "    <tr>\n",
              "      <th>Visualizations comparison</th>\n",
              "      <td>0.090000</td>\n",
              "      <td>9.890000</td>\n",
              "    </tr>\n",
              "  </tbody>\n",
              "</table>\n",
              "</div>\n",
              "      <button class=\"colab-df-convert\" onclick=\"convertToInteractive('df-be2c8d17-5165-48a0-a421-c7581b51b274')\"\n",
              "              title=\"Convert this dataframe to an interactive table.\"\n",
              "              style=\"display:none;\">\n",
              "        \n",
              "  <svg xmlns=\"http://www.w3.org/2000/svg\" height=\"24px\"viewBox=\"0 0 24 24\"\n",
              "       width=\"24px\">\n",
              "    <path d=\"M0 0h24v24H0V0z\" fill=\"none\"/>\n",
              "    <path d=\"M18.56 5.44l.94 2.06.94-2.06 2.06-.94-2.06-.94-.94-2.06-.94 2.06-2.06.94zm-11 1L8.5 8.5l.94-2.06 2.06-.94-2.06-.94L8.5 2.5l-.94 2.06-2.06.94zm10 10l.94 2.06.94-2.06 2.06-.94-2.06-.94-.94-2.06-.94 2.06-2.06.94z\"/><path d=\"M17.41 7.96l-1.37-1.37c-.4-.4-.92-.59-1.43-.59-.52 0-1.04.2-1.43.59L10.3 9.45l-7.72 7.72c-.78.78-.78 2.05 0 2.83L4 21.41c.39.39.9.59 1.41.59.51 0 1.02-.2 1.41-.59l7.78-7.78 2.81-2.81c.8-.78.8-2.07 0-2.86zM5.41 20L4 18.59l7.72-7.72 1.47 1.35L5.41 20z\"/>\n",
              "  </svg>\n",
              "      </button>\n",
              "      \n",
              "  <style>\n",
              "    .colab-df-container {\n",
              "      display:flex;\n",
              "      flex-wrap:wrap;\n",
              "      gap: 12px;\n",
              "    }\n",
              "\n",
              "    .colab-df-convert {\n",
              "      background-color: #E8F0FE;\n",
              "      border: none;\n",
              "      border-radius: 50%;\n",
              "      cursor: pointer;\n",
              "      display: none;\n",
              "      fill: #1967D2;\n",
              "      height: 32px;\n",
              "      padding: 0 0 0 0;\n",
              "      width: 32px;\n",
              "    }\n",
              "\n",
              "    .colab-df-convert:hover {\n",
              "      background-color: #E2EBFA;\n",
              "      box-shadow: 0px 1px 2px rgba(60, 64, 67, 0.3), 0px 1px 3px 1px rgba(60, 64, 67, 0.15);\n",
              "      fill: #174EA6;\n",
              "    }\n",
              "\n",
              "    [theme=dark] .colab-df-convert {\n",
              "      background-color: #3B4455;\n",
              "      fill: #D2E3FC;\n",
              "    }\n",
              "\n",
              "    [theme=dark] .colab-df-convert:hover {\n",
              "      background-color: #434B5C;\n",
              "      box-shadow: 0px 1px 3px 1px rgba(0, 0, 0, 0.15);\n",
              "      filter: drop-shadow(0px 1px 2px rgba(0, 0, 0, 0.3));\n",
              "      fill: #FFFFFF;\n",
              "    }\n",
              "  </style>\n",
              "\n",
              "      <script>\n",
              "        const buttonEl =\n",
              "          document.querySelector('#df-be2c8d17-5165-48a0-a421-c7581b51b274 button.colab-df-convert');\n",
              "        buttonEl.style.display =\n",
              "          google.colab.kernel.accessAllowed ? 'block' : 'none';\n",
              "\n",
              "        async function convertToInteractive(key) {\n",
              "          const element = document.querySelector('#df-be2c8d17-5165-48a0-a421-c7581b51b274');\n",
              "          const dataTable =\n",
              "            await google.colab.kernel.invokeFunction('convertToInteractive',\n",
              "                                                     [key], {});\n",
              "          if (!dataTable) return;\n",
              "\n",
              "          const docLinkHtml = 'Like what you see? Visit the ' +\n",
              "            '<a target=\"_blank\" href=https://colab.research.google.com/notebooks/data_table.ipynb>data table notebook</a>'\n",
              "            + ' to learn more about interactive tables.';\n",
              "          element.innerHTML = '';\n",
              "          dataTable['output_type'] = 'display_data';\n",
              "          await google.colab.output.renderOutput(dataTable, element);\n",
              "          const docLink = document.createElement('div');\n",
              "          docLink.innerHTML = docLinkHtml;\n",
              "          element.appendChild(docLink);\n",
              "        }\n",
              "      </script>\n",
              "    </div>\n",
              "  </div>\n",
              "  "
            ]
          },
          "metadata": {},
          "execution_count": 28
        }
      ]
    },
    {
      "cell_type": "code",
      "source": [
        "for cpr in compare.index:\n",
        "  compare.loc[cpr].plot(kind='bar', title=cpr)\n",
        "  plt.show()"
      ],
      "metadata": {
        "colab": {
          "base_uri": "https://localhost:8080/",
          "height": 1000
        },
        "id": "SzGGkUMXfSnK",
        "outputId": "c6a9dd41-6c2c-4127-efee-ed4ff7a61cc6"
      },
      "execution_count": 29,
      "outputs": [
        {
          "output_type": "display_data",
          "data": {
            "text/plain": [
              "<Figure size 432x288 with 1 Axes>"
            ],
            "image/png": "[encoded data removed]"
          },
          "metadata": {
            "needs_background": "light"
          }
        },
        {
          "output_type": "display_data",
          "data": {
            "text/plain": [
              "<Figure size 432x288 with 1 Axes>"
            ],
            "image/png": "[encoded data removed]"
          },
          "metadata": {
            "needs_background": "light"
          }
        },
        {
          "output_type": "display_data",
          "data": {
            "text/plain": [
              "<Figure size 432x288 with 1 Axes>"
            ],
            "image/png": "[encoded data removed]"
          },
          "metadata": {
            "needs_background": "light"
          }
        },
        {
          "output_type": "display_data",
          "data": {
            "text/plain": [
              "<Figure size 432x288 with 1 Axes>"
            ],
            "image/png": "[encoded data removed]"
          },
          "metadata": {
            "needs_background": "light"
          }
        },
        {
          "output_type": "display_data",
          "data": {
            "text/plain": [
              "<Figure size 432x288 with 1 Axes>"
            ],
            "image/png": "[encoded data removed]"
          },
          "metadata": {
            "needs_background": "light"
          }
        },
        {
          "output_type": "display_data",
          "data": {
            "text/plain": [
              "<Figure size 432x288 with 1 Axes>"
            ],
            "image/png": "[encoded data removed]"
          },
          "metadata": {
            "needs_background": "light"
          }
        },
        {
          "output_type": "display_data",
          "data": {
            "text/plain": [
              "<Figure size 432x288 with 1 Axes>"
            ],
            "image/png": "[encoded data removed]"
          },
          "metadata": {
            "needs_background": "light"
          }
        },
        {
          "output_type": "display_data",
          "data": {
            "text/plain": [
              "<Figure size 432x288 with 1 Axes>"
            ],
            "image/png": "[encoded data removed]"
          },
          "metadata": {
            "needs_background": "light"
          }
        }
      ]
    },
    {
      "cell_type": "markdown",
      "source": [
        "Based on the results that we had gotten in all the function test above, we can see that for reading file in Vaex is 9.41s and Pandas is 44.6s. Whereas, for multi-file reading in Vaex is 8.82 microseconds and Pandas is 80.4s.\n",
        "\n",
        "The next part is about head for Vaex is 0.00000881s vs Pandas is 0.00000858s. For filtering data, Vaex got the result of 0.343s and Pandas needed 2.36s. Then, Vaex needed only 6.91s for statistic performance but pandas needed 58.7 ms. \n",
        "\n",
        "Next is about string operation for Vaex is only 1.4ms and Pandas needed 3.78s. For GroupBy function for Vaex is 12.7s whereas Pandas needed only 1s.\n",
        "\n",
        "Then, visualization for Vaex is 9.89s while Pandas only need 0.09s. \n",
        "\n",
        "As we can see that Vaex is much more faster than Pandas but not all. For reading multi-file and groupby function in Pandas is faster than Vaex but other than that, Vaex had been much more faster than Pandas."
      ],
      "metadata": {
        "id": "yijCODGV1Qtd"
      }
    },
    {
      "cell_type": "markdown",
      "source": [
        "## Conclusion"
      ],
      "metadata": {
        "id": "F6AwMUgf4NJA"
      }
    },
    {
      "cell_type": "markdown",
      "source": [
        "This research introduced us to Vaex, a Python library for the efficient processing of large datasets that, in some cases, may be preferable to Pandas. Vaex has a wide variety of other features and capabilities. Memory efficiency, simple parallelization, visualization instruments, and an advanced query language are just some of the reasons why Vaex is a strong contender against Pandas. Vaex's high performance comes from its use of memory mapping, a zero memory copy policy, and lazy computations."
      ],
      "metadata": {
        "id": "SyAuqjc64LbG"
      }
    },
    {
      "cell_type": "markdown",
      "source": [
        "## Reference"
      ],
      "metadata": {
        "id": "-qjUM3Qf3-QC"
      }
    },
    {
      "cell_type": "markdown",
      "source": [
        "1. https://www.kaggle.com/datasets/hhs/health-insurance-marketplace?datasetId=21&sortBy=voteCount&select=Rate.csv\n",
        "2. https://vaex.io/docs/index.html\n",
        "3. https://www.machinelearningplus.com/python/vaex/ "
      ],
      "metadata": {
        "id": "-c7WJX2h3-Cu"
      }
    }
  ]
}
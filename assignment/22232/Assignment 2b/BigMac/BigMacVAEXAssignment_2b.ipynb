{
  "cells": [
    {
      "cell_type": "markdown",
      "metadata": {
        "id": "view-in-github",
        "colab_type": "text"
      },
      "source": [
        "<a href=\"https://colab.research.google.com/github/drshahizan/Python-big-data/blob/main/Assignment%202b/BigMac/BigMacVAEXAssignment_2b.ipynb\" target=\"_parent\"><img src=\"https://colab.research.google.com/assets/colab-badge.svg\" alt=\"Open In Colab\"/></a>"
      ]
    },
    {
      "cell_type": "markdown",
      "source": [
        "# Medical Dataset(Rate.csv)\n",
        "\n",
        "\n",
        "Medical datasets are electronic collections of data that are related to the healthcare industry. It uses a virtual memory approach to allow processing of large datasets that do not fit in memory. Vaex also provides a variety of functions for data visualization and exploration. Pandas is another popular Python library for data manipulation and analysis. It is well-suited for small to medium-sized datasets that can be loaded into memory, but it can become slow and unwieldy when working with large datasets. In this assignment, we will show you how which library are the most suitable to use with large dataset. \n",
        "\n",
        "# **Dataset: Health Insurance Marketplace**\n",
        "\n",
        "**Group members:**\n",
        "\n",
        "<table>\n",
        "  <tr>\n",
        "    <th>Name</th>\n",
        "    <th>Matric</th>\n",
        "  </tr>\n",
        "  <tr>\n",
        "    <th>Muhammad Imran Hakimi Bin Mohd Shukri </th>\n",
        "    <th>A20EC0213</th>\n",
        "  </tr>\n",
        "  <tr>\n",
        "    <th>Afif Hazmie Arsyad Bin Agus</th>\n",
        "    <th>A20EC0176</th>\n",
        "  </tr>\n",
        "    <tr>\n",
        "    <th>Kong Jia Rou</th>\n",
        "    <th>A20EC0198</th>\n",
        "  </tr>\n",
        "    <tr>\n",
        "    <th>Rasmin Kaur Sandhu</th>\n",
        "    <th>A19ET0216</th>\n",
        "  </tr>\n",
        "</table>\n",
        "\n",
        "\n",
        "\n"
      ],
      "metadata": {
        "id": "bMeBafK7VkL5"
      }
    },
    {
      "cell_type": "code",
      "source": [
        "pip install -U matplotlib"
      ],
      "metadata": {
        "id": "91RlrmFpmt2x"
      },
      "execution_count": null,
      "outputs": []
    },
    {
      "cell_type": "code",
      "source": [
        "!pip install vaex"
      ],
      "metadata": {
        "id": "2f8z7ve1Hqd_"
      },
      "execution_count": null,
      "outputs": []
    },
    {
      "cell_type": "code",
      "source": [
        "!pip install vaex-viz\n"
      ],
      "metadata": {
        "id": "Kh60gJNKeyea"
      },
      "execution_count": null,
      "outputs": []
    },
    {
      "cell_type": "code",
      "source": [
        "import numpy as np\n",
        "import time\n",
        "import matplotlib.pyplot as plt\n",
        "import seaborn as sns"
      ],
      "metadata": {
        "id": "NvOfUl229HCv"
      },
      "execution_count": null,
      "outputs": []
    },
    {
      "cell_type": "code",
      "source": [
        "from google.colab import drive\n",
        "drive.mount('/content/drive')"
      ],
      "metadata": {
        "colab": {
          "base_uri": "https://localhost:8080/"
        },
        "id": "5Z_N9flJpe1j",
        "outputId": "8d6fa9c7-b3eb-403f-c62f-b6168d6f7ce8"
      },
      "execution_count": null,
      "outputs": [
        {
          "output_type": "stream",
          "name": "stdout",
          "text": [
            "Mounted at /content/drive\n"
          ]
        }
      ]
    },
    {
      "cell_type": "code",
      "source": [
        "# Pull dataset from my google drive\n",
        "!pip install -U -q PyDrive\n",
        "from pydrive.auth import GoogleAuth\n",
        "from pydrive.drive import GoogleDrive\n",
        "from google.colab import auth\n",
        "from oauth2client.client import GoogleCredentials\n",
        "\n",
        "# Authenticate and create the PyDrive client.\n",
        "auth.authenticate_user()\n",
        "gauth = GoogleAuth()\n",
        "gauth.credentials = GoogleCredentials.get_application_default()\n",
        "drive = GoogleDrive(gauth)\n",
        "link = 'https://drive.google.com/file/d/110mZHE08iW3Kbio-XCcASizLcpU2qFAV/view?usp=sharing'\n",
        "# to get the id part of the file\n",
        "id = link.split(\"/\")[-2]\n",
        " \n",
        "downloaded = drive.CreateFile({'id':id})\n",
        "downloaded.GetContentFile('Rate.csv') "
      ],
      "metadata": {
        "id": "ILcnPUUEKCSn"
      },
      "execution_count": null,
      "outputs": []
    },
    {
      "cell_type": "markdown",
      "source": [
        "##Importing Libraries"
      ],
      "metadata": {
        "id": "I3DVYx_P86in"
      }
    },
    {
      "cell_type": "code",
      "source": [
        "#importing vaex library\n",
        "import vaex as vx"
      ],
      "metadata": {
        "id": "aRTYVFlQJ9qq"
      },
      "execution_count": null,
      "outputs": []
    },
    {
      "cell_type": "code",
      "source": [
        "#importing pandas library\n",
        "import pandas as pd"
      ],
      "metadata": {
        "id": "pAlnNV-99nca"
      },
      "execution_count": null,
      "outputs": []
    },
    {
      "cell_type": "code",
      "source": [
        "#Import seaborn and matplotlib for pandas\n",
        "import matplotlib.pyplot as plt\n",
        "import seaborn as sns"
      ],
      "metadata": {
        "id": "7haqN4mwz0nR"
      },
      "execution_count": null,
      "outputs": []
    },
    {
      "cell_type": "markdown",
      "source": [
        "##Reading CSV Files"
      ],
      "metadata": {
        "id": "lx5RDjFP9tAm"
      }
    },
    {
      "cell_type": "code",
      "source": [
        "#reading csv files with vaex\n",
        "\n",
        "startreadvx = time.time()\n",
        "\n",
        "df_vx=vx.open(\"/content/drive/MyDrive/Colab Notebooks/Rate.csv\")\n",
        "df_vx.head()\n",
        "\n",
        "endreadvx = time.time()\n",
        "timereadvx = endreadvx - startreadvx\n",
        "print(timereadvx, \"s\")"
      ],
      "metadata": {
        "id": "PSxBDHQaKYAw",
        "colab": {
          "base_uri": "https://localhost:8080/"
        },
        "outputId": "a7b5c58a-f37f-480e-98dc-f3b2dfd97312"
      },
      "execution_count": null,
      "outputs": [
        {
          "output_type": "stream",
          "name": "stdout",
          "text": [
            "31.101299285888672 s\n"
          ]
        }
      ]
    },
    {
      "cell_type": "code",
      "source": [
        "#reading csv files with pandas\n",
        "\n",
        "startreadpd = time.time()\n",
        "\n",
        "df_pd=pd.read_csv(\"/content/drive/MyDrive/Colab Notebooks/Rate.csv\")\n",
        "df_pd.head()\n",
        "\n",
        "endreadpd = time.time()\n",
        "timereadpd = endreadpd - startreadpd\n",
        "print(timereadpd, \"s\")"
      ],
      "metadata": {
        "colab": {
          "base_uri": "https://localhost:8080/"
        },
        "id": "vf_yhbxb-Bnj",
        "outputId": "98af489f-fb83-423c-c2f4-6059098527ce"
      },
      "execution_count": null,
      "outputs": [
        {
          "output_type": "stream",
          "name": "stdout",
          "text": [
            "84.47494173049927 s\n"
          ]
        }
      ]
    },
    {
      "cell_type": "code",
      "source": [
        "x = ['Vaex', 'Pandas']\n",
        "y = [timereadvx, timereadpd]\n",
        "\n",
        "\n",
        " \n",
        "# creating the bar plot\n",
        "plt.bar(x, y, color ='maroon',\n",
        "        width = 0.4)\n",
        "\n",
        "# add value labels to the bars\n",
        "ax = plt.gca()  # get current axis\n",
        "for p in ax.patches:\n",
        "    ax.text(p.get_x() + p.get_width()/2., p.get_height(), '%.4f' % p.get_height(), fontsize=12, color='black', ha='center', va='bottom')\n",
        "\n",
        "plt.xlabel(\"Library\")\n",
        "plt.ylabel(\"Time Taken (s)\")\n",
        "plt.title(\"Time Taken for both Libraries (The lower the better)\")\n",
        "plt.show()"
      ],
      "metadata": {
        "colab": {
          "base_uri": "https://localhost:8080/",
          "height": 295
        },
        "id": "O5hRIvtoc_xQ",
        "outputId": "37b83054-63aa-491f-a44a-ac9bab02438d"
      },
      "execution_count": null,
      "outputs": [
        {
          "output_type": "display_data",
          "data": {
            "text/plain": [
              "<Figure size 432x288 with 1 Axes>"
            ],
            "image/png": "[encoded data removed]"
          },
          "metadata": {
            "needs_background": "light"
          }
        }
      ]
    },
    {
      "cell_type": "markdown",
      "source": [
        "##Creating New Column"
      ],
      "metadata": {
        "id": "TJZu9UmsAyCa"
      }
    },
    {
      "cell_type": "code",
      "source": [
        "#creating new column with vaex (will create a virtual column)\n",
        "\n",
        "startnewvx = time.time()\n",
        "\n",
        "df_vx['new_TotalIndividualRate'] = df_vx['IndividualRate'] * 100\n",
        "df_vx.head()\n",
        "\n",
        "endnewvx = time.time()\n",
        "timenewvx = endnewvx - startnewvx\n",
        "print(timenewvx, \"s\")"
      ],
      "metadata": {
        "colab": {
          "base_uri": "https://localhost:8080/"
        },
        "id": "7IgPdWHqBFRA",
        "outputId": "573438bb-f4be-4dbb-e6e9-509e572dcf4a"
      },
      "execution_count": null,
      "outputs": [
        {
          "output_type": "stream",
          "name": "stdout",
          "text": [
            "0.0026464462280273438 s\n"
          ]
        }
      ]
    },
    {
      "cell_type": "code",
      "source": [
        "#creating new column with pandas\n",
        "\n",
        "startnewpd = time.time()\n",
        "\n",
        "df_pd['new_TotalIndividualRate'] = df_pd['IndividualRate'] * 100\n",
        "df_pd.head()\n",
        "\n",
        "endnewpd = time.time()\n",
        "timenewpd = endnewpd - startnewpd\n",
        "print(timenewpd, \"s\")"
      ],
      "metadata": {
        "colab": {
          "base_uri": "https://localhost:8080/"
        },
        "id": "FS3SGgt3CAUw",
        "outputId": "d92d572c-1887-47f4-835c-bf9dd0f7a827"
      },
      "execution_count": null,
      "outputs": [
        {
          "output_type": "stream",
          "name": "stdout",
          "text": [
            "0.12589478492736816 s\n"
          ]
        }
      ]
    },
    {
      "cell_type": "code",
      "source": [
        "x = ['Vaex', 'Pandas']\n",
        "y = [timenewvx, timenewpd]\n",
        "\n",
        "\n",
        " \n",
        "# creating the bar plot\n",
        "plt.bar(x, y, color ='maroon',\n",
        "        width = 0.4)\n",
        "\n",
        "# add value labels to the bars\n",
        "ax = plt.gca()  # get current axis\n",
        "for p in ax.patches:\n",
        "    ax.text(p.get_x() + p.get_width()/2., p.get_height(), '%.4f' % p.get_height(), fontsize=12, color='black', ha='center', va='bottom')\n",
        "\n",
        "plt.xlabel(\"Library\")\n",
        "plt.ylabel(\"Time Taken (s)\")\n",
        "plt.title(\"Time Taken for both Libraries (The lower the better)\")\n",
        "plt.show()"
      ],
      "metadata": {
        "colab": {
          "base_uri": "https://localhost:8080/",
          "height": 295
        },
        "id": "X3fxroa0ckyJ",
        "outputId": "6be6364d-b6b1-4a7a-d93c-9c69eee6c75f"
      },
      "execution_count": null,
      "outputs": [
        {
          "output_type": "display_data",
          "data": {
            "text/plain": [
              "<Figure size 432x288 with 1 Axes>"
            ],
            "image/png": "[encoded data removed]"
          },
          "metadata": {
            "needs_background": "light"
          }
        }
      ]
    },
    {
      "cell_type": "markdown",
      "source": [
        "##Data Cleaning (Filtering)"
      ],
      "metadata": {
        "id": "68r3sGZAESHY"
      }
    },
    {
      "cell_type": "code",
      "source": [
        "#filtering data with vaex\n",
        "\n",
        "startfiltervx = time.time()\n",
        "\n",
        "df_vx_filtered = df_vx[df_vx['BusinessYear']==2015]\n",
        "df_vx_filtered\n",
        "\n",
        "endfiltervx = time.time()\n",
        "timefiltervx = endfiltervx - startfiltervx\n",
        "print(timefiltervx, \"s\")"
      ],
      "metadata": {
        "colab": {
          "base_uri": "https://localhost:8080/"
        },
        "id": "qbhpfUQcEXgp",
        "outputId": "cdb592c7-9708-4598-9f81-ef7ad1235aa9"
      },
      "execution_count": null,
      "outputs": [
        {
          "output_type": "stream",
          "name": "stdout",
          "text": [
            "0.024999618530273438 s\n"
          ]
        }
      ]
    },
    {
      "cell_type": "code",
      "source": [
        "#filtering data with pandas\n",
        "\n",
        "startfilterpd = time.time()\n",
        "\n",
        "df_pd_filtered = df_pd[df_pd['BusinessYear']==2015]\n",
        "df_pd_filtered\n",
        "\n",
        "endfilterpd = time.time()\n",
        "timefilterpd = endfilterpd - startfilterpd\n",
        "print(timefilterpd, \"s\")"
      ],
      "metadata": {
        "colab": {
          "base_uri": "https://localhost:8080/"
        },
        "id": "xg91o66zFAFH",
        "outputId": "d908abd8-a2c3-4ffb-f684-a737b231a81b"
      },
      "execution_count": null,
      "outputs": [
        {
          "output_type": "stream",
          "name": "stdout",
          "text": [
            "1.592756986618042 s\n"
          ]
        }
      ]
    },
    {
      "cell_type": "code",
      "source": [
        "x = ['Vaex', 'Pandas']\n",
        "y = [timefiltervx, timefilterpd]\n",
        "\n",
        "\n",
        " \n",
        "# creating the bar plot\n",
        "plt.bar(x, y, color ='maroon',\n",
        "        width = 0.4)\n",
        "\n",
        "# add value labels to the bars\n",
        "ax = plt.gca()  # get current axis\n",
        "for p in ax.patches:\n",
        "    ax.text(p.get_x() + p.get_width()/2., p.get_height(), '%.4f' % p.get_height(), fontsize=12, color='black', ha='center', va='bottom')\n",
        "\n",
        "plt.xlabel(\"Library\")\n",
        "plt.ylabel(\"Time Taken (s)\")\n",
        "plt.title(\"Time Taken for both Libraries (The lower the better)\")\n",
        "plt.show()"
      ],
      "metadata": {
        "colab": {
          "base_uri": "https://localhost:8080/",
          "height": 295
        },
        "id": "govTnPl2bIXP",
        "outputId": "8abd7b47-ace9-4a36-91a7-972f08efc907"
      },
      "execution_count": null,
      "outputs": [
        {
          "output_type": "display_data",
          "data": {
            "text/plain": [
              "<Figure size 432x288 with 1 Axes>"
            ],
            "image/png": "[encoded data removed]"
          },
          "metadata": {
            "needs_background": "light"
          }
        }
      ]
    },
    {
      "cell_type": "markdown",
      "source": [
        "##Data Cleaning (Dropping NaN values)"
      ],
      "metadata": {
        "id": "Z5FafFLGIIgC"
      }
    },
    {
      "cell_type": "code",
      "source": [
        "#dropping NaN with vaex\n",
        "\n",
        "startdropvx = time.time()\n",
        "\n",
        "dropna_vx=df_vx.dropna()\n",
        "\n",
        "enddropvx = time.time()\n",
        "timedropvx = enddropvx - startdropvx\n",
        "print(timedropvx, \"s\")"
      ],
      "metadata": {
        "colab": {
          "base_uri": "https://localhost:8080/"
        },
        "id": "6PLSKbqHIMCJ",
        "outputId": "f2fb0f3d-dec4-46b0-f136-ddf5f0de33e4"
      },
      "execution_count": null,
      "outputs": [
        {
          "output_type": "stream",
          "name": "stdout",
          "text": [
            "1.602386713027954 s\n"
          ]
        }
      ]
    },
    {
      "cell_type": "code",
      "source": [
        "#dropping NaN with pandas\n",
        "\n",
        "startdroppd = time.time()\n",
        "\n",
        "dropna_pd=df_pd.dropna()\n",
        "\n",
        "enddroppd = time.time()\n",
        "timedroppd = enddroppd - startdroppd\n",
        "print(timedroppd, \"s\")"
      ],
      "metadata": {
        "colab": {
          "base_uri": "https://localhost:8080/"
        },
        "id": "IvSDqj4xI-7d",
        "outputId": "b62e36f8-47ed-41a4-a77e-d022d719fb01"
      },
      "execution_count": null,
      "outputs": [
        {
          "output_type": "stream",
          "name": "stdout",
          "text": [
            "8.333130836486816 s\n"
          ]
        }
      ]
    },
    {
      "cell_type": "code",
      "source": [
        "x = ['Vaex', 'Pandas']\n",
        "y = [timedropvx, timedroppd]\n",
        "\n",
        "\n",
        " \n",
        "# creating the bar plot\n",
        "plt.bar(x, y, color ='maroon',\n",
        "        width = 0.4)\n",
        "\n",
        "# add value labels to the bars\n",
        "ax = plt.gca()  # get current axis\n",
        "for p in ax.patches:\n",
        "    ax.text(p.get_x() + p.get_width()/2., p.get_height(), '%.4f' % p.get_height(), fontsize=12, color='black', ha='center', va='bottom')\n",
        "\n",
        "plt.xlabel(\"Library\")\n",
        "plt.ylabel(\"Time Taken (s)\")\n",
        "plt.title(\"Time Taken for both Libraries (The lower the better)\")\n",
        "plt.show()"
      ],
      "metadata": {
        "colab": {
          "base_uri": "https://localhost:8080/",
          "height": 295
        },
        "id": "BgoaNAp2aPjp",
        "outputId": "1feff80f-9dfd-49c9-e731-73793817fad0"
      },
      "execution_count": null,
      "outputs": [
        {
          "output_type": "display_data",
          "data": {
            "text/plain": [
              "<Figure size 432x288 with 1 Axes>"
            ],
            "image/png": "[encoded data removed]"
          },
          "metadata": {
            "needs_background": "light"
          }
        }
      ]
    },
    {
      "cell_type": "markdown",
      "source": [
        "##String Processing\n"
      ],
      "metadata": {
        "id": "jn4NKMpcNuK4"
      }
    },
    {
      "cell_type": "code",
      "source": [
        "#string processing using vaex\n",
        "\n",
        "startstringvx = time.time()\n",
        "\n",
        "df_vx.SourceName.str.upper()\n",
        "\n",
        "endstringvx = time.time()\n",
        "timestringvx = endstringvx - startstringvx\n",
        "print(timestringvx, \"s\")"
      ],
      "metadata": {
        "colab": {
          "base_uri": "https://localhost:8080/"
        },
        "id": "ApGBU9uoNxvU",
        "outputId": "3eda652a-1378-4558-b061-74fda72fc5d6"
      },
      "execution_count": null,
      "outputs": [
        {
          "output_type": "stream",
          "name": "stdout",
          "text": [
            "0.004681825637817383 s\n"
          ]
        }
      ]
    },
    {
      "cell_type": "code",
      "source": [
        "#string procesing using pandas\n",
        "\n",
        "startstringpd = time.time()\n",
        "\n",
        "df_pd.SourceName.str.upper()\n",
        "\n",
        "endstringpd = time.time()\n",
        "timestringpd = endstringpd - startstringpd\n",
        "print(timestringpd, \"s\")"
      ],
      "metadata": {
        "colab": {
          "base_uri": "https://localhost:8080/"
        },
        "id": "uIwbAKFcN_3M",
        "outputId": "91e1bd1b-34a6-414e-a3d5-605937a3a836"
      },
      "execution_count": null,
      "outputs": [
        {
          "output_type": "stream",
          "name": "stdout",
          "text": [
            "5.228800296783447 s\n"
          ]
        }
      ]
    },
    {
      "cell_type": "code",
      "source": [
        "x = ['Vaex', 'Pandas']\n",
        "y = [timestringvx, timestringpd]\n",
        "\n",
        "\n",
        " \n",
        "# creating the bar plot\n",
        "plt.bar(x, y, color ='maroon',\n",
        "        width = 0.4)\n",
        "\n",
        "# add value labels to the bars\n",
        "ax = plt.gca()  # get current axis\n",
        "for p in ax.patches:\n",
        "    ax.text(p.get_x() + p.get_width()/2., p.get_height(), '%.4f' % p.get_height(), fontsize=12, color='black', ha='center', va='bottom')\n",
        "\n",
        "plt.xlabel(\"Library\")\n",
        "plt.ylabel(\"Time Taken (s)\")\n",
        "plt.title(\"Time Taken for both Libraries (The lower the better)\")\n",
        "plt.show()"
      ],
      "metadata": {
        "colab": {
          "base_uri": "https://localhost:8080/",
          "height": 295
        },
        "id": "Lsoe0j0WZUs6",
        "outputId": "3cd419e2-7df4-4613-c115-14f704a90765"
      },
      "execution_count": null,
      "outputs": [
        {
          "output_type": "display_data",
          "data": {
            "text/plain": [
              "<Figure size 432x288 with 1 Axes>"
            ],
            "image/png": "[encoded data removed]"
          },
          "metadata": {
            "needs_background": "light"
          }
        }
      ]
    },
    {
      "cell_type": "markdown",
      "source": [
        "##Performing Simple Computation"
      ],
      "metadata": {
        "id": "YUG24BnCRrgt"
      }
    },
    {
      "cell_type": "code",
      "source": [
        "startcomputevx = time.time()\n",
        "\n",
        "df_vx.IndividualRate + df_vx.IndividualRate\n",
        "\n",
        "endcomputevx = time.time()\n",
        "timecomputevx = endcomputevx - startcomputevx\n",
        "print(timecomputevx, \"s\")"
      ],
      "metadata": {
        "colab": {
          "base_uri": "https://localhost:8080/"
        },
        "id": "M4rtiHPvRvAR",
        "outputId": "8d2724fa-35d4-4b67-c42b-fd8eec0c2c51"
      },
      "execution_count": null,
      "outputs": [
        {
          "output_type": "stream",
          "name": "stdout",
          "text": [
            "0.0003681182861328125 s\n"
          ]
        }
      ]
    },
    {
      "cell_type": "code",
      "source": [
        "startcomputepd = time.time()\n",
        "\n",
        "df_pd['IndividualRate'] + df_pd['IndividualRate']\n",
        "\n",
        "endcomputepd = time.time()\n",
        "timecomputepd = endcomputepd - startcomputepd\n",
        "print(timecomputepd, \"s\")"
      ],
      "metadata": {
        "colab": {
          "base_uri": "https://localhost:8080/"
        },
        "id": "dbnr9bVtR0c5",
        "outputId": "a2eff498-c291-46e0-ab82-cbb6b8c07dde"
      },
      "execution_count": null,
      "outputs": [
        {
          "output_type": "stream",
          "name": "stdout",
          "text": [
            "0.03741860389709473 s\n"
          ]
        }
      ]
    },
    {
      "cell_type": "code",
      "source": [
        "x = ['Vaex', 'Pandas']\n",
        "y = [timecomputevx, timecomputepd]\n",
        "\n",
        "\n",
        " \n",
        "# creating the bar plot\n",
        "plt.bar(x, y, color ='maroon',\n",
        "        width = 0.4)\n",
        "\n",
        "# add value labels to the bars\n",
        "ax = plt.gca()  # get current axis\n",
        "for p in ax.patches:\n",
        "    ax.text(p.get_x() + p.get_width()/2., p.get_height(), '%.4f' % p.get_height(), fontsize=12, color='black', ha='center', va='bottom')\n",
        "\n",
        "plt.xlabel(\"Library\")\n",
        "plt.ylabel(\"Time Taken (s)\")\n",
        "plt.title(\"Time Taken for both Libraries (The lower the better)\")\n",
        "plt.show()"
      ],
      "metadata": {
        "colab": {
          "base_uri": "https://localhost:8080/",
          "height": 295
        },
        "id": "nDmxtmyQX-WW",
        "outputId": "b1e9ab58-f7c7-45c7-b01e-ea4e26ecd25b"
      },
      "execution_count": null,
      "outputs": [
        {
          "output_type": "display_data",
          "data": {
            "text/plain": [
              "<Figure size 432x288 with 1 Axes>"
            ],
            "image/png": "[encoded data removed]"
          },
          "metadata": {
            "needs_background": "light"
          }
        }
      ]
    },
    {
      "cell_type": "markdown",
      "source": [
        "##GroupBy Operation"
      ],
      "metadata": {
        "id": "O2omN2jIrGtY"
      }
    },
    {
      "cell_type": "code",
      "source": [
        "startgroupbyvx = time.time()\n",
        "\n",
        "df_vx.groupby(df_vx.BusinessYear)\n",
        "\n",
        "endgroupbyvx = time.time()\n",
        "timegroupbyvx = endgroupbyvx - startgroupbyvx\n",
        "print(timegroupbyvx, \"s\")"
      ],
      "metadata": {
        "colab": {
          "base_uri": "https://localhost:8080/"
        },
        "id": "tXKgHJisrJrY",
        "outputId": "8b354226-67cb-4bea-8c1a-93f36a454b95"
      },
      "execution_count": null,
      "outputs": [
        {
          "output_type": "stream",
          "name": "stdout",
          "text": [
            "8.023757934570312 s\n"
          ]
        }
      ]
    },
    {
      "cell_type": "code",
      "source": [
        "startgroupbypd = time.time()\n",
        "\n",
        "df_pd.groupby(df_pd['BusinessYear'])\n",
        "\n",
        "endgroupbypd = time.time()\n",
        "timegroupbypd = endgroupbypd - startgroupbypd\n",
        "print(timegroupbypd, \"s\")"
      ],
      "metadata": {
        "colab": {
          "base_uri": "https://localhost:8080/"
        },
        "id": "C-WmUKv4rWgq",
        "outputId": "986e72c1-2fc6-4305-9105-8ed93de35af2"
      },
      "execution_count": null,
      "outputs": [
        {
          "output_type": "stream",
          "name": "stdout",
          "text": [
            "0.0005929470062255859 s\n"
          ]
        }
      ]
    },
    {
      "cell_type": "code",
      "source": [
        "x = ['Vaex', 'Pandas']\n",
        "y = [timegroupbyvx, timegroupbypd]\n",
        "\n",
        "\n",
        " \n",
        "# creating the bar plot\n",
        "plt.bar(x, y, color ='maroon',\n",
        "        width = 0.4)\n",
        "\n",
        "# add value labels to the bars\n",
        "ax = plt.gca()  # get current axis\n",
        "for p in ax.patches:\n",
        "    ax.text(p.get_x() + p.get_width()/2., p.get_height(), '%.4f' % p.get_height(), fontsize=12, color='black', ha='center', va='bottom')\n",
        "\n",
        "plt.xlabel(\"Library\")\n",
        "plt.ylabel(\"Time Taken (s)\")\n",
        "plt.title(\"Time Taken for both Libraries\")\n",
        "plt.show()"
      ],
      "metadata": {
        "colab": {
          "base_uri": "https://localhost:8080/",
          "height": 295
        },
        "id": "thU5nj5kibdw",
        "outputId": "fa222de3-05a3-4d19-a424-fd9b3fdf1e0a"
      },
      "execution_count": null,
      "outputs": [
        {
          "output_type": "display_data",
          "data": {
            "text/plain": [
              "<Figure size 432x288 with 1 Axes>"
            ],
            "image/png": "[encoded data removed]"
          },
          "metadata": {
            "needs_background": "light"
          }
        }
      ]
    },
    {
      "cell_type": "markdown",
      "source": [
        "# Plotting 1D Visualization with dataframe from vaex and pandas"
      ],
      "metadata": {
        "id": "Khuzw8cuUnfl"
      }
    },
    {
      "cell_type": "markdown",
      "source": [
        "**Using Vaex**"
      ],
      "metadata": {
        "id": "wWkQTsruaVgc"
      }
    },
    {
      "cell_type": "code",
      "source": [
        "%%time\n",
        "df_vx.viz.histogram('IndividualRate', shape=(25))"
      ],
      "metadata": {
        "colab": {
          "base_uri": "https://localhost:8080/",
          "height": 349
        },
        "id": "lZ6SPCYQUq5b",
        "outputId": "764603dd-8fa3-41cb-cb4c-7045a805c5f1"
      },
      "execution_count": null,
      "outputs": [
        {
          "output_type": "stream",
          "name": "stdout",
          "text": [
            "CPU times: user 18.4 s, sys: 3.31 s, total: 21.7 s\n",
            "Wall time: 14.7 s\n"
          ]
        },
        {
          "output_type": "execute_result",
          "data": {
            "text/plain": [
              "[<matplotlib.lines.Line2D at 0x7f1169d1da00>]"
            ]
          },
          "metadata": {},
          "execution_count": 29
        },
        {
          "output_type": "display_data",
          "data": {
            "text/plain": [
              "<Figure size 432x288 with 1 Axes>"
            ],
            "image/png": "[encoded data removed]"
          },
          "metadata": {
            "needs_background": "light"
          }
        }
      ]
    },
    {
      "cell_type": "markdown",
      "source": [
        "**Using Pandas**"
      ],
      "metadata": {
        "id": "2sxUxquGaY8f"
      }
    },
    {
      "cell_type": "code",
      "source": [
        "%%time\n",
        "import matplotlib.pyplot as plt\n",
        "\n",
        "x = df_pd['IndividualRate']\n",
        "plt.hist(x, bins=25)\n",
        "plt.show()"
      ],
      "metadata": {
        "id": "l6E2sKWoVKMQ",
        "colab": {
          "base_uri": "https://localhost:8080/",
          "height": 324
        },
        "outputId": "52ba57b1-75d1-4dd7-ee95-577a5a78cdce"
      },
      "execution_count": null,
      "outputs": [
        {
          "output_type": "display_data",
          "data": {
            "text/plain": [
              "<Figure size 432x288 with 1 Axes>"
            ],
            "image/png": "[encoded data removed]"
          },
          "metadata": {
            "needs_background": "light"
          }
        },
        {
          "output_type": "stream",
          "name": "stdout",
          "text": [
            "CPU times: user 566 ms, sys: 110 ms, total: 676 ms\n",
            "Wall time: 574 ms\n"
          ]
        }
      ]
    },
    {
      "cell_type": "code",
      "source": [
        "%%time\n",
        "# Select the columns of data you want to plot\n",
        "data1 = df_vx['BusinessYear']\n",
        "data2 = df_vx['IndividualRate']\n",
        "\n",
        "# Set the labels for the x-axis and y-axis\n",
        "plt.xlabel('BusinessYear')\n",
        "plt.ylabel('IndividualRate')\n",
        "\n",
        "# Create the histogram\n",
        "plt.hist(data1, alpha=0.5, label='BusinessYear')\n",
        "plt.hist(data2, alpha=0.5, label='IndividualRatee')\n",
        "\n",
        "# Add a legend\n",
        "plt.legend(loc='upper right')\n",
        "\n",
        "# Show the plot\n",
        "plt.show()"
      ],
      "metadata": {
        "colab": {
          "base_uri": "https://localhost:8080/",
          "height": 325
        },
        "id": "rXqRzZxyxB4J",
        "outputId": "e66a753a-5993-4687-e296-213e350f9007"
      },
      "execution_count": null,
      "outputs": [
        {
          "output_type": "display_data",
          "data": {
            "text/plain": [
              "<Figure size 432x288 with 1 Axes>"
            ],
            "image/png": "[encoded data removed]"
          },
          "metadata": {
            "needs_background": "light"
          }
        },
        {
          "output_type": "stream",
          "name": "stdout",
          "text": [
            "CPU times: user 18.9 s, sys: 3.76 s, total: 22.6 s\n",
            "Wall time: 17.1 s\n"
          ]
        }
      ]
    },
    {
      "cell_type": "code",
      "source": [
        "%%time\n",
        "# Select the columns of data you want to plot\n",
        "data1 = df_pd['BusinessYear']\n",
        "data2 = df_pd['IndividualRate']\n",
        "\n",
        "# Set the labels for the x-axis and y-axis\n",
        "plt.xlabel('BusinessYear')\n",
        "plt.ylabel('IndividualRate')\n",
        "\n",
        "# Create the histogram\n",
        "plt.hist(data1, alpha=0.5, label='BusinessYear')\n",
        "plt.hist(data2, alpha=0.5, label='IndividualRatee')\n",
        "\n",
        "# Add a legend\n",
        "plt.legend(loc='upper right')\n",
        "\n",
        "# Show the plot\n",
        "plt.show()"
      ],
      "metadata": {
        "colab": {
          "base_uri": "https://localhost:8080/",
          "height": 325
        },
        "id": "CKqIQ2oQxElh",
        "outputId": "fe1a3cb6-df25-4b6c-ee30-5b39b46eac9d"
      },
      "execution_count": null,
      "outputs": [
        {
          "output_type": "display_data",
          "data": {
            "text/plain": [
              "<Figure size 432x288 with 1 Axes>"
            ],
            "image/png": "[encoded data removed]"
          },
          "metadata": {
            "needs_background": "light"
          }
        },
        {
          "output_type": "stream",
          "name": "stdout",
          "text": [
            "CPU times: user 905 ms, sys: 148 ms, total: 1.05 s\n",
            "Wall time: 928 ms\n"
          ]
        }
      ]
    }
  ],
  "metadata": {
    "kernelspec": {
      "display_name": "Python 3",
      "language": "python",
      "name": "python3"
    },
    "language_info": {
      "codemirror_mode": {
        "name": "ipython",
        "version": 3
      },
      "file_extension": ".py",
      "mimetype": "text/x-python",
      "name": "python",
      "nbconvert_exporter": "python",
      "pygments_lexer": "ipython3",
      "version": "3.8.5"
    },
    "colab": {
      "provenance": [],
      "include_colab_link": true
    }
  },
  "nbformat": 4,
  "nbformat_minor": 0
}
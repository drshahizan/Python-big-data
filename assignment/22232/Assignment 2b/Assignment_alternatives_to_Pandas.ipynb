{
  "cells": [
    {
      "cell_type": "markdown",
      "metadata": {
        "id": "view-in-github",
        "colab_type": "text"
      },
      "source": [
        "<a href=\"https://colab.research.google.com/github/drshahizan/Python_Tutorial/blob/main/big%20data/Assignment%202/Assignment_alternatives_to_Pandas.ipynb\" target=\"_parent\"><img src=\"https://colab.research.google.com/assets/colab-badge.svg\" alt=\"Open In Colab\"/></a>"
      ]
    },
    {
      "cell_type": "markdown",
      "metadata": {
        "id": "XBtcnU6iVJJx"
      },
      "source": [
        "## Assignment: Alternatives to Pandas for Processing Large Datasets\n",
        "\n",
        "Pandas library has became the de facto library for data manipulation in python and is widely used by data scientist and analyst. However, there are times when the dataset is too large and Pandas may run into memory errors. Here are 8 alternatives to Pandas for dealing with large datasets. For each alternative library, we will examine how to load data from CSV and perform a simple groupby operation. Fortunately many of these libraries have similar syntax as Pandas hence making the learning curve less steep.\n",
        "1. Data Table\n",
        "2. Polars\n",
        "3. Vaex\n",
        "4. Pyspark\n",
        "5. Koalas\n",
        "6. cuDF\n",
        "7. Dask\n",
        "8. Modin\n",
        "\n",
        "### Intructions\n",
        "1. This assignment must be completed in group (4 students in a group).\n",
        "2. You need to use a dataset that is larger than 1GB. You can get the dataset from [Kaggle](https://www.kaggle.com/datasets) or [Dataset Search](https://datasetsearch.research.google.com/). The dataset file must be of CSV type.\n",
        "2. The dataset must be stored in Google Drive.\n",
        "3. Make sure you create a link to enable your dataset to be used on Google Colab.\n",
        "4. Please create operations related to big data that allow the dataset to be used.\n",
        "\n",
        "### Submission\n",
        "1.   You need to send the *.pynb file. Make sure you have linked Google Colab with your dataset (Google Drive). \n",
        "2.   Save your file on Github. Make sure it can be opened in Google Colab by using <a href=\"https://www.utm.my\" target=\"_parent\"><img src=\"https://colab.research.google.com/assets/colab-badge.svg\" alt=\"Open In Colab\"/></a>\n",
        "3.   Please submit it via e-learning.\n",
        "\n",
        "### Evaluation Criteria\n",
        "Each group will be given an alternative library to replace pandas to process large data.\n",
        "\n",
        "This assignment is divided into two parts:\n",
        "1. File 1\n",
        "  * Please use the appropriate dataset.\n",
        "  * You need to carry out an explanation related to the basic concept of the library.\n",
        "  * Please show the code step by step of its implementation.\n",
        "2. File 2\n",
        "  * You are required to compare Pandas with the selected library\n",
        "  * Make sure you use the same dataset when making comparisons.\n",
        "  * You can also use visualization to show the comparison.\n",
        "  * Your work must not be plagiarized i.e. copy-pasted from somewhere else.\n",
        "\n",
        "Please submit both files. Please upload the file in the designated Github [folder](https://github.com/drshahizan/Python_Tutorial/tree/main/big%20data/Assignment%202)\n",
        "\n"
      ]
    }
  ],
  "metadata": {
    "kernelspec": {
      "display_name": "Python 3",
      "language": "python",
      "name": "python3"
    },
    "language_info": {
      "codemirror_mode": {
        "name": "ipython",
        "version": 3
      },
      "file_extension": ".py",
      "mimetype": "text/x-python",
      "name": "python",
      "nbconvert_exporter": "python",
      "pygments_lexer": "ipython3",
      "version": "3.8.5"
    },
    "colab": {
      "provenance": [],
      "include_colab_link": true
    }
  },
  "nbformat": 4,
  "nbformat_minor": 0
}
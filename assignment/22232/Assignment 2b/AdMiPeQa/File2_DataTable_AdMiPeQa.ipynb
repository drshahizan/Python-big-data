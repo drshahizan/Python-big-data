{
  "nbformat": 4,
  "nbformat_minor": 0,
  "metadata": {
    "colab": {
      "provenance": [],
      "include_colab_link": true
    },
    "kernelspec": {
      "name": "python3",
      "display_name": "Python 3"
    },
    "language_info": {
      "name": "python"
    }
  },
  "cells": [
    {
      "cell_type": "markdown",
      "metadata": {
        "id": "view-in-github",
        "colab_type": "text"
      },
      "source": [
        "<a href=\"https://colab.research.google.com/github/drshahizan/Python-big-data/blob/main/Assignment%202b/AdMiPeQa/File2_DataTable_AdMiPeQa.ipynb\" target=\"_parent\"><img src=\"https://colab.research.google.com/assets/colab-badge.svg\" alt=\"Open In Colab\"/></a>"
      ]
    },
    {
      "cell_type": "markdown",
      "source": [
        "# **Pandas vs Datatable on Health Insurance Marketplace Dataset**\n",
        "This assignment will show the comparison between Pandas and Datatable in performing various operations and the visualization about the comparison will be shown."
      ],
      "metadata": {
        "id": "CuLiVBC0NpcL"
      }
    },
    {
      "cell_type": "markdown",
      "source": [
        "**Group Members:**\n",
        "\n",
        "<table>\n",
        "  <tr>\n",
        "    <th>Name</th>\n",
        "    <th>Matric</th>\n",
        "  </tr>\n",
        "  <tr>\n",
        "    <th>ADAM WAFII BIN AZUAR</th>\n",
        "    <th>A20EC0003</th>\n",
        "  </tr>\n",
        "  <tr>\n",
        "    <th>HONG PEI GEOK</th>\n",
        "    <th>A20EC0044</th>\n",
        "  </tr>\n",
        "    <tr>\n",
        "    <th>MIKHEL ADAM BIN MUHAMMAD EZRIN</th>\n",
        "    <th>A20EC0237</th>\n",
        "  </tr>\n",
        "    <tr>\n",
        "    <th>QAISARA BINTI ROHZAN</th>\n",
        "    <th>A20EC0133</th>\n",
        "  </tr>\n",
        "</table>"
      ],
      "metadata": {
        "id": "KZa3Yh9yHtj0"
      }
    },
    {
      "cell_type": "markdown",
      "source": [
        "## **Dataset**"
      ],
      "metadata": {
        "id": "jLiMI1RPiVFV"
      }
    },
    {
      "cell_type": "markdown",
      "source": [
        "The dataset can be downloaded from Kaggle: [Rate.csv](https://www.kaggle.com/datasets/hhs/health-insurance-marketplace?select=Rate.csv)"
      ],
      "metadata": {
        "id": "snYZeeSVifuj"
      }
    },
    {
      "cell_type": "markdown",
      "source": [
        "#### Attribute Information:\n",
        "| Acronym | Description |\n",
        "| --- | --- |\n",
        "| **BusinessYear** |   The year for which the rate information applies.  |\n",
        "|**StateCode** |  The two-letter code for the state in which the health insurance plan is offered.  |\n",
        "| **IssuerId** | A unique identifier for the insurer offering the health insurance plan. |\n",
        "| **SourceName** |  The source of the rate information (e.g. the insurer, the state insurance department). |\n",
        "| **VersionNum** | A version number for the rate information.  |\n",
        "| **ImportDate** |  The date on which the rate information was imported into the Marketplace database.   |\n",
        "| **IssuerId2** | A unique identifier for the insurer offering the health insurance plan.  |\n",
        "| **FederalTIN** | Federal income taxes  |\n",
        "| **RateEffectiveDate** |  The date for which the rate information is effective.   |\n",
        "|**RateExpirationDate** |  The expire date for the rate. |\n",
        "| **PlanId** | A unique identifier for the health insurance plan. |\n",
        "| **RatingAreaId** | The age of the insured person for which the rate information applies.  |\n",
        "| **Tobacco** | The rate information applies to tobacco users or non-tobacco users. |\n",
        "| **Age** |   The age of the insured person for which the rate information applies.  |\n",
        "| **IndividualRate** |  The monthly premium (cost) for the health insurance plan for an individual.  |\n",
        "| **IndividualTobaccoRate** | The monthly premium for the health insurance plan for an individual tobacco user.  |\n",
        "| **Couple** | The monthly premium for the health insurance plan for a couple.  |\n",
        "|**PrimarySubscriberAndOneDependent** |  The primary subscriber for the health insurance plan and one dependent. |\n",
        "| **PrimarySubscriberAndTwoDependents** | The primary subscriber for the health insurance plan and two dependent. |\n",
        "| **CoupleAndOneDependent** | The monthly premium for the health insurance plan for a couple and one dependent. |\n",
        "| **CoupleAndTwoDependents** | The monthly premium for the health insurance plan for a couple and two dependents.  |\n",
        "| **CoupleAndThreeOrMoreDependents** |  The monthly premium for the health insurance plan for a couple and three or more dependents.   |\n",
        "| **RowNumber** | The row number of rate information.  |"
      ],
      "metadata": {
        "id": "n7nA1JjGisdP"
      }
    },
    {
      "cell_type": "code",
      "source": [
        "!pip install datatable"
      ],
      "metadata": {
        "colab": {
          "base_uri": "https://localhost:8080/"
        },
        "id": "EQZ7V-riFyaq",
        "outputId": "7cb85d30-d90c-4f19-9190-e25cf7dcc96b"
      },
      "execution_count": null,
      "outputs": [
        {
          "output_type": "stream",
          "name": "stdout",
          "text": [
            "Looking in indexes: https://pypi.org/simple, https://us-python.pkg.dev/colab-wheels/public/simple/\n",
            "Requirement already satisfied: datatable in /usr/local/lib/python3.8/dist-packages (1.0.0)\n"
          ]
        }
      ]
    },
    {
      "cell_type": "code",
      "source": [
        "import pandas as pd\n",
        "import datatable as dt"
      ],
      "metadata": {
        "id": "ICVtLnYqHs_J",
        "colab": {
          "base_uri": "https://localhost:8080/",
          "height": 17
        },
        "outputId": "034620c5-82da-4687-bb07-82604cba5d62"
      },
      "execution_count": null,
      "outputs": [
        {
          "output_type": "display_data",
          "data": {
            "text/plain": [
              "<IPython.core.display.HTML object>"
            ],
            "text/html": [
              "<style type='text/css'>\n",
              ".datatable table.frame { margin-bottom: 0; }\n",
              ".datatable table.frame thead { border-bottom: none; }\n",
              ".datatable table.frame tr.coltypes td {  color: #FFFFFF;  line-height: 6px;  padding: 0 0.5em;}\n",
              ".datatable .bool    { background: #DDDD99; }\n",
              ".datatable .object  { background: #565656; }\n",
              ".datatable .int     { background: #5D9E5D; }\n",
              ".datatable .float   { background: #4040CC; }\n",
              ".datatable .str     { background: #CC4040; }\n",
              ".datatable .time    { background: #40CC40; }\n",
              ".datatable .row_index {  background: var(--jp-border-color3);  border-right: 1px solid var(--jp-border-color0);  color: var(--jp-ui-font-color3);  font-size: 9px;}\n",
              ".datatable .frame tbody td { text-align: left; }\n",
              ".datatable .frame tr.coltypes .row_index {  background: var(--jp-border-color0);}\n",
              ".datatable th:nth-child(2) { padding-left: 12px; }\n",
              ".datatable .hellipsis {  color: var(--jp-cell-editor-border-color);}\n",
              ".datatable .vellipsis {  background: var(--jp-layout-color0);  color: var(--jp-cell-editor-border-color);}\n",
              ".datatable .na {  color: var(--jp-cell-editor-border-color);  font-size: 80%;}\n",
              ".datatable .sp {  opacity: 0.25;}\n",
              ".datatable .footer { font-size: 9px; }\n",
              ".datatable .frame_dimensions {  background: var(--jp-border-color3);  border-top: 1px solid var(--jp-border-color0);  color: var(--jp-ui-font-color3);  display: inline-block;  opacity: 0.6;  padding: 1px 10px 1px 5px;}\n",
              "</style>\n"
            ]
          },
          "metadata": {}
        }
      ]
    },
    {
      "cell_type": "code",
      "source": [
        "# Pull dataset from my google drive - Mikhel\n",
        "!pip install -U -q PyDrive\n",
        "from pydrive.auth import GoogleAuth\n",
        "from pydrive.drive import GoogleDrive\n",
        "from google.colab import auth\n",
        "from oauth2client.client import GoogleCredentials\n",
        "# Authenticate and create the PyDrive client.\n",
        "auth.authenticate_user()\n",
        "gauth = GoogleAuth()\n",
        "gauth.credentials = GoogleCredentials.get_application_default()\n",
        "drive = GoogleDrive(gauth)"
      ],
      "metadata": {
        "id": "cphIh5rtKgHo"
      },
      "execution_count": null,
      "outputs": []
    },
    {
      "cell_type": "code",
      "source": [
        "link = 'https://drive.google.com/file/d/1-NS-QGug5kxvTTE1ozW7NTtw3wSHODQj/view?usp=share_link'\n",
        "# to get the id part of the file\n",
        "id = link.split(\"/\")[-2]\n",
        " \n",
        "downloaded = drive.CreateFile({'id':id})\n",
        "downloaded.GetContentFile('Rate.csv') "
      ],
      "metadata": {
        "id": "sOJ0iyTBKqIT"
      },
      "execution_count": null,
      "outputs": []
    },
    {
      "cell_type": "markdown",
      "source": [
        "**Tests:**\n",
        "1. Read file\n",
        "2. Compute metrics of a column\n",
        "3. Find unique count of a column\n",
        "4. Groupby Aggregation\n",
        "5. Sorting"
      ],
      "metadata": {
        "id": "w-9aA3G3bMum"
      }
    },
    {
      "cell_type": "markdown",
      "source": [
        "## **Pandas**"
      ],
      "metadata": {
        "id": "aWH8CJMIXtLU"
      }
    },
    {
      "cell_type": "markdown",
      "source": [
        "**Read File**"
      ],
      "metadata": {
        "id": "TdM-be_UH52C"
      }
    },
    {
      "cell_type": "code",
      "source": [
        "%%time\n",
        "df = pd.read_csv('Rate.csv')\n",
        "df"
      ],
      "metadata": {
        "colab": {
          "base_uri": "https://localhost:8080/",
          "height": 696
        },
        "id": "Q94waowXFFBc",
        "outputId": "49429d63-fc10-4920-d57c-ba65b50cdfa2"
      },
      "execution_count": null,
      "outputs": [
        {
          "output_type": "stream",
          "name": "stdout",
          "text": [
            "CPU times: user 34.6 s, sys: 5.67 s, total: 40.2 s\n",
            "Wall time: 43.5 s\n"
          ]
        },
        {
          "output_type": "execute_result",
          "data": {
            "text/plain": [
              "          BusinessYear StateCode  IssuerId SourceName  VersionNum  \\\n",
              "0                 2014        AK     21989       HIOS           6   \n",
              "1                 2014        AK     21989       HIOS           6   \n",
              "2                 2014        AK     21989       HIOS           6   \n",
              "3                 2014        AK     21989       HIOS           6   \n",
              "4                 2014        AK     21989       HIOS           6   \n",
              "...                ...       ...       ...        ...         ...   \n",
              "12694440          2016        WV     96480      SERFF           2   \n",
              "12694441          2016        WV     96480      SERFF           2   \n",
              "12694442          2016        WV     96480      SERFF           2   \n",
              "12694443          2016        WV     96480      SERFF           2   \n",
              "12694444          2016        WV     96480      SERFF           2   \n",
              "\n",
              "                   ImportDate  IssuerId2  FederalTIN RateEffectiveDate  \\\n",
              "0         2014-03-19 07:06:49      21989  93-0438772        2014-01-01   \n",
              "1         2014-03-19 07:06:49      21989  93-0438772        2014-01-01   \n",
              "2         2014-03-19 07:06:49      21989  93-0438772        2014-01-01   \n",
              "3         2014-03-19 07:06:49      21989  93-0438772        2014-01-01   \n",
              "4         2014-03-19 07:06:49      21989  93-0438772        2014-01-01   \n",
              "...                       ...        ...         ...               ...   \n",
              "12694440  2015-08-20 12:28:36      96480  13-5123390        2016-01-01   \n",
              "12694441  2015-08-20 12:28:36      96480  13-5123390        2016-01-01   \n",
              "12694442  2015-08-20 12:28:36      96480  13-5123390        2016-01-01   \n",
              "12694443  2015-08-20 12:28:36      96480  13-5123390        2016-01-01   \n",
              "12694444  2015-08-20 12:28:36      96480  13-5123390        2016-01-01   \n",
              "\n",
              "         RateExpirationDate  ... IndividualRate IndividualTobaccoRate Couple  \\\n",
              "0                2014-12-31  ...          29.00                   NaN    NaN   \n",
              "1                2014-12-31  ...          36.95                   NaN   73.9   \n",
              "2                2014-12-31  ...          36.95                   NaN   73.9   \n",
              "3                2014-12-31  ...          32.00                   NaN    NaN   \n",
              "4                2014-12-31  ...          32.00                   NaN    NaN   \n",
              "...                     ...  ...            ...                   ...    ...   \n",
              "12694440         2016-12-31  ...          14.05                   NaN    NaN   \n",
              "12694441         2016-12-31  ...          14.05                   NaN    NaN   \n",
              "12694442         2016-12-31  ...          14.05                   NaN    NaN   \n",
              "12694443         2016-12-31  ...          14.05                   NaN    NaN   \n",
              "12694444         2016-12-31  ...          14.05                   NaN    NaN   \n",
              "\n",
              "         PrimarySubscriberAndOneDependent  PrimarySubscriberAndTwoDependents  \\\n",
              "0                                     NaN                                NaN   \n",
              "1                                  107.61                             107.61   \n",
              "2                                  107.61                             107.61   \n",
              "3                                     NaN                                NaN   \n",
              "4                                     NaN                                NaN   \n",
              "...                                   ...                                ...   \n",
              "12694440                              NaN                                NaN   \n",
              "12694441                              NaN                                NaN   \n",
              "12694442                              NaN                                NaN   \n",
              "12694443                              NaN                                NaN   \n",
              "12694444                              NaN                                NaN   \n",
              "\n",
              "          PrimarySubscriberAndThreeOrMoreDependents  CoupleAndOneDependent  \\\n",
              "0                                               NaN                    NaN   \n",
              "1                                            107.61                 144.56   \n",
              "2                                            107.61                 144.56   \n",
              "3                                               NaN                    NaN   \n",
              "4                                               NaN                    NaN   \n",
              "...                                             ...                    ...   \n",
              "12694440                                        NaN                    NaN   \n",
              "12694441                                        NaN                    NaN   \n",
              "12694442                                        NaN                    NaN   \n",
              "12694443                                        NaN                    NaN   \n",
              "12694444                                        NaN                    NaN   \n",
              "\n",
              "          CoupleAndTwoDependents  CoupleAndThreeOrMoreDependents  RowNumber  \n",
              "0                            NaN                             NaN         14  \n",
              "1                         144.56                          144.56         14  \n",
              "2                         144.56                          144.56         15  \n",
              "3                            NaN                             NaN         15  \n",
              "4                            NaN                             NaN         16  \n",
              "...                          ...                             ...        ...  \n",
              "12694440                     NaN                             NaN       2033  \n",
              "12694441                     NaN                             NaN       2034  \n",
              "12694442                     NaN                             NaN       2035  \n",
              "12694443                     NaN                             NaN       2036  \n",
              "12694444                     NaN                             NaN       2037  \n",
              "\n",
              "[12694445 rows x 24 columns]"
            ],
            "text/html": [
              "\n",
              "  <div id=\"df-644f1777-c965-45c1-bbf9-96603f382009\">\n",
              "    <div class=\"colab-df-container\">\n",
              "      <div>\n",
              "<style scoped>\n",
              "    .dataframe tbody tr th:only-of-type {\n",
              "        vertical-align: middle;\n",
              "    }\n",
              "\n",
              "    .dataframe tbody tr th {\n",
              "        vertical-align: top;\n",
              "    }\n",
              "\n",
              "    .dataframe thead th {\n",
              "        text-align: right;\n",
              "    }\n",
              "</style>\n",
              "<table border=\"1\" class=\"dataframe\">\n",
              "  <thead>\n",
              "    <tr style=\"text-align: right;\">\n",
              "      <th></th>\n",
              "      <th>BusinessYear</th>\n",
              "      <th>StateCode</th>\n",
              "      <th>IssuerId</th>\n",
              "      <th>SourceName</th>\n",
              "      <th>VersionNum</th>\n",
              "      <th>ImportDate</th>\n",
              "      <th>IssuerId2</th>\n",
              "      <th>FederalTIN</th>\n",
              "      <th>RateEffectiveDate</th>\n",
              "      <th>RateExpirationDate</th>\n",
              "      <th>...</th>\n",
              "      <th>IndividualRate</th>\n",
              "      <th>IndividualTobaccoRate</th>\n",
              "      <th>Couple</th>\n",
              "      <th>PrimarySubscriberAndOneDependent</th>\n",
              "      <th>PrimarySubscriberAndTwoDependents</th>\n",
              "      <th>PrimarySubscriberAndThreeOrMoreDependents</th>\n",
              "      <th>CoupleAndOneDependent</th>\n",
              "      <th>CoupleAndTwoDependents</th>\n",
              "      <th>CoupleAndThreeOrMoreDependents</th>\n",
              "      <th>RowNumber</th>\n",
              "    </tr>\n",
              "  </thead>\n",
              "  <tbody>\n",
              "    <tr>\n",
              "      <th>0</th>\n",
              "      <td>2014</td>\n",
              "      <td>AK</td>\n",
              "      <td>21989</td>\n",
              "      <td>HIOS</td>\n",
              "      <td>6</td>\n",
              "      <td>2014-03-19 07:06:49</td>\n",
              "      <td>21989</td>\n",
              "      <td>93-0438772</td>\n",
              "      <td>2014-01-01</td>\n",
              "      <td>2014-12-31</td>\n",
              "      <td>...</td>\n",
              "      <td>29.00</td>\n",
              "      <td>NaN</td>\n",
              "      <td>NaN</td>\n",
              "      <td>NaN</td>\n",
              "      <td>NaN</td>\n",
              "      <td>NaN</td>\n",
              "      <td>NaN</td>\n",
              "      <td>NaN</td>\n",
              "      <td>NaN</td>\n",
              "      <td>14</td>\n",
              "    </tr>\n",
              "    <tr>\n",
              "      <th>1</th>\n",
              "      <td>2014</td>\n",
              "      <td>AK</td>\n",
              "      <td>21989</td>\n",
              "      <td>HIOS</td>\n",
              "      <td>6</td>\n",
              "      <td>2014-03-19 07:06:49</td>\n",
              "      <td>21989</td>\n",
              "      <td>93-0438772</td>\n",
              "      <td>2014-01-01</td>\n",
              "      <td>2014-12-31</td>\n",
              "      <td>...</td>\n",
              "      <td>36.95</td>\n",
              "      <td>NaN</td>\n",
              "      <td>73.9</td>\n",
              "      <td>107.61</td>\n",
              "      <td>107.61</td>\n",
              "      <td>107.61</td>\n",
              "      <td>144.56</td>\n",
              "      <td>144.56</td>\n",
              "      <td>144.56</td>\n",
              "      <td>14</td>\n",
              "    </tr>\n",
              "    <tr>\n",
              "      <th>2</th>\n",
              "      <td>2014</td>\n",
              "      <td>AK</td>\n",
              "      <td>21989</td>\n",
              "      <td>HIOS</td>\n",
              "      <td>6</td>\n",
              "      <td>2014-03-19 07:06:49</td>\n",
              "      <td>21989</td>\n",
              "      <td>93-0438772</td>\n",
              "      <td>2014-01-01</td>\n",
              "      <td>2014-12-31</td>\n",
              "      <td>...</td>\n",
              "      <td>36.95</td>\n",
              "      <td>NaN</td>\n",
              "      <td>73.9</td>\n",
              "      <td>107.61</td>\n",
              "      <td>107.61</td>\n",
              "      <td>107.61</td>\n",
              "      <td>144.56</td>\n",
              "      <td>144.56</td>\n",
              "      <td>144.56</td>\n",
              "      <td>15</td>\n",
              "    </tr>\n",
              "    <tr>\n",
              "      <th>3</th>\n",
              "      <td>2014</td>\n",
              "      <td>AK</td>\n",
              "      <td>21989</td>\n",
              "      <td>HIOS</td>\n",
              "      <td>6</td>\n",
              "      <td>2014-03-19 07:06:49</td>\n",
              "      <td>21989</td>\n",
              "      <td>93-0438772</td>\n",
              "      <td>2014-01-01</td>\n",
              "      <td>2014-12-31</td>\n",
              "      <td>...</td>\n",
              "      <td>32.00</td>\n",
              "      <td>NaN</td>\n",
              "      <td>NaN</td>\n",
              "      <td>NaN</td>\n",
              "      <td>NaN</td>\n",
              "      <td>NaN</td>\n",
              "      <td>NaN</td>\n",
              "      <td>NaN</td>\n",
              "      <td>NaN</td>\n",
              "      <td>15</td>\n",
              "    </tr>\n",
              "    <tr>\n",
              "      <th>4</th>\n",
              "      <td>2014</td>\n",
              "      <td>AK</td>\n",
              "      <td>21989</td>\n",
              "      <td>HIOS</td>\n",
              "      <td>6</td>\n",
              "      <td>2014-03-19 07:06:49</td>\n",
              "      <td>21989</td>\n",
              "      <td>93-0438772</td>\n",
              "      <td>2014-01-01</td>\n",
              "      <td>2014-12-31</td>\n",
              "      <td>...</td>\n",
              "      <td>32.00</td>\n",
              "      <td>NaN</td>\n",
              "      <td>NaN</td>\n",
              "      <td>NaN</td>\n",
              "      <td>NaN</td>\n",
              "      <td>NaN</td>\n",
              "      <td>NaN</td>\n",
              "      <td>NaN</td>\n",
              "      <td>NaN</td>\n",
              "      <td>16</td>\n",
              "    </tr>\n",
              "    <tr>\n",
              "      <th>...</th>\n",
              "      <td>...</td>\n",
              "      <td>...</td>\n",
              "      <td>...</td>\n",
              "      <td>...</td>\n",
              "      <td>...</td>\n",
              "      <td>...</td>\n",
              "      <td>...</td>\n",
              "      <td>...</td>\n",
              "      <td>...</td>\n",
              "      <td>...</td>\n",
              "      <td>...</td>\n",
              "      <td>...</td>\n",
              "      <td>...</td>\n",
              "      <td>...</td>\n",
              "      <td>...</td>\n",
              "      <td>...</td>\n",
              "      <td>...</td>\n",
              "      <td>...</td>\n",
              "      <td>...</td>\n",
              "      <td>...</td>\n",
              "      <td>...</td>\n",
              "    </tr>\n",
              "    <tr>\n",
              "      <th>12694440</th>\n",
              "      <td>2016</td>\n",
              "      <td>WV</td>\n",
              "      <td>96480</td>\n",
              "      <td>SERFF</td>\n",
              "      <td>2</td>\n",
              "      <td>2015-08-20 12:28:36</td>\n",
              "      <td>96480</td>\n",
              "      <td>13-5123390</td>\n",
              "      <td>2016-01-01</td>\n",
              "      <td>2016-12-31</td>\n",
              "      <td>...</td>\n",
              "      <td>14.05</td>\n",
              "      <td>NaN</td>\n",
              "      <td>NaN</td>\n",
              "      <td>NaN</td>\n",
              "      <td>NaN</td>\n",
              "      <td>NaN</td>\n",
              "      <td>NaN</td>\n",
              "      <td>NaN</td>\n",
              "      <td>NaN</td>\n",
              "      <td>2033</td>\n",
              "    </tr>\n",
              "    <tr>\n",
              "      <th>12694441</th>\n",
              "      <td>2016</td>\n",
              "      <td>WV</td>\n",
              "      <td>96480</td>\n",
              "      <td>SERFF</td>\n",
              "      <td>2</td>\n",
              "      <td>2015-08-20 12:28:36</td>\n",
              "      <td>96480</td>\n",
              "      <td>13-5123390</td>\n",
              "      <td>2016-01-01</td>\n",
              "      <td>2016-12-31</td>\n",
              "      <td>...</td>\n",
              "      <td>14.05</td>\n",
              "      <td>NaN</td>\n",
              "      <td>NaN</td>\n",
              "      <td>NaN</td>\n",
              "      <td>NaN</td>\n",
              "      <td>NaN</td>\n",
              "      <td>NaN</td>\n",
              "      <td>NaN</td>\n",
              "      <td>NaN</td>\n",
              "      <td>2034</td>\n",
              "    </tr>\n",
              "    <tr>\n",
              "      <th>12694442</th>\n",
              "      <td>2016</td>\n",
              "      <td>WV</td>\n",
              "      <td>96480</td>\n",
              "      <td>SERFF</td>\n",
              "      <td>2</td>\n",
              "      <td>2015-08-20 12:28:36</td>\n",
              "      <td>96480</td>\n",
              "      <td>13-5123390</td>\n",
              "      <td>2016-01-01</td>\n",
              "      <td>2016-12-31</td>\n",
              "      <td>...</td>\n",
              "      <td>14.05</td>\n",
              "      <td>NaN</td>\n",
              "      <td>NaN</td>\n",
              "      <td>NaN</td>\n",
              "      <td>NaN</td>\n",
              "      <td>NaN</td>\n",
              "      <td>NaN</td>\n",
              "      <td>NaN</td>\n",
              "      <td>NaN</td>\n",
              "      <td>2035</td>\n",
              "    </tr>\n",
              "    <tr>\n",
              "      <th>12694443</th>\n",
              "      <td>2016</td>\n",
              "      <td>WV</td>\n",
              "      <td>96480</td>\n",
              "      <td>SERFF</td>\n",
              "      <td>2</td>\n",
              "      <td>2015-08-20 12:28:36</td>\n",
              "      <td>96480</td>\n",
              "      <td>13-5123390</td>\n",
              "      <td>2016-01-01</td>\n",
              "      <td>2016-12-31</td>\n",
              "      <td>...</td>\n",
              "      <td>14.05</td>\n",
              "      <td>NaN</td>\n",
              "      <td>NaN</td>\n",
              "      <td>NaN</td>\n",
              "      <td>NaN</td>\n",
              "      <td>NaN</td>\n",
              "      <td>NaN</td>\n",
              "      <td>NaN</td>\n",
              "      <td>NaN</td>\n",
              "      <td>2036</td>\n",
              "    </tr>\n",
              "    <tr>\n",
              "      <th>12694444</th>\n",
              "      <td>2016</td>\n",
              "      <td>WV</td>\n",
              "      <td>96480</td>\n",
              "      <td>SERFF</td>\n",
              "      <td>2</td>\n",
              "      <td>2015-08-20 12:28:36</td>\n",
              "      <td>96480</td>\n",
              "      <td>13-5123390</td>\n",
              "      <td>2016-01-01</td>\n",
              "      <td>2016-12-31</td>\n",
              "      <td>...</td>\n",
              "      <td>14.05</td>\n",
              "      <td>NaN</td>\n",
              "      <td>NaN</td>\n",
              "      <td>NaN</td>\n",
              "      <td>NaN</td>\n",
              "      <td>NaN</td>\n",
              "      <td>NaN</td>\n",
              "      <td>NaN</td>\n",
              "      <td>NaN</td>\n",
              "      <td>2037</td>\n",
              "    </tr>\n",
              "  </tbody>\n",
              "</table>\n",
              "<p>12694445 rows × 24 columns</p>\n",
              "</div>\n",
              "      <button class=\"colab-df-convert\" onclick=\"convertToInteractive('df-644f1777-c965-45c1-bbf9-96603f382009')\"\n",
              "              title=\"Convert this dataframe to an interactive table.\"\n",
              "              style=\"display:none;\">\n",
              "        \n",
              "  <svg xmlns=\"http://www.w3.org/2000/svg\" height=\"24px\"viewBox=\"0 0 24 24\"\n",
              "       width=\"24px\">\n",
              "    <path d=\"M0 0h24v24H0V0z\" fill=\"none\"/>\n",
              "    <path d=\"M18.56 5.44l.94 2.06.94-2.06 2.06-.94-2.06-.94-.94-2.06-.94 2.06-2.06.94zm-11 1L8.5 8.5l.94-2.06 2.06-.94-2.06-.94L8.5 2.5l-.94 2.06-2.06.94zm10 10l.94 2.06.94-2.06 2.06-.94-2.06-.94-.94-2.06-.94 2.06-2.06.94z\"/><path d=\"M17.41 7.96l-1.37-1.37c-.4-.4-.92-.59-1.43-.59-.52 0-1.04.2-1.43.59L10.3 9.45l-7.72 7.72c-.78.78-.78 2.05 0 2.83L4 21.41c.39.39.9.59 1.41.59.51 0 1.02-.2 1.41-.59l7.78-7.78 2.81-2.81c.8-.78.8-2.07 0-2.86zM5.41 20L4 18.59l7.72-7.72 1.47 1.35L5.41 20z\"/>\n",
              "  </svg>\n",
              "      </button>\n",
              "      \n",
              "  <style>\n",
              "    .colab-df-container {\n",
              "      display:flex;\n",
              "      flex-wrap:wrap;\n",
              "      gap: 12px;\n",
              "    }\n",
              "\n",
              "    .colab-df-convert {\n",
              "      background-color: #E8F0FE;\n",
              "      border: none;\n",
              "      border-radius: 50%;\n",
              "      cursor: pointer;\n",
              "      display: none;\n",
              "      fill: #1967D2;\n",
              "      height: 32px;\n",
              "      padding: 0 0 0 0;\n",
              "      width: 32px;\n",
              "    }\n",
              "\n",
              "    .colab-df-convert:hover {\n",
              "      background-color: #E2EBFA;\n",
              "      box-shadow: 0px 1px 2px rgba(60, 64, 67, 0.3), 0px 1px 3px 1px rgba(60, 64, 67, 0.15);\n",
              "      fill: #174EA6;\n",
              "    }\n",
              "\n",
              "    [theme=dark] .colab-df-convert {\n",
              "      background-color: #3B4455;\n",
              "      fill: #D2E3FC;\n",
              "    }\n",
              "\n",
              "    [theme=dark] .colab-df-convert:hover {\n",
              "      background-color: #434B5C;\n",
              "      box-shadow: 0px 1px 3px 1px rgba(0, 0, 0, 0.15);\n",
              "      filter: drop-shadow(0px 1px 2px rgba(0, 0, 0, 0.3));\n",
              "      fill: #FFFFFF;\n",
              "    }\n",
              "  </style>\n",
              "\n",
              "      <script>\n",
              "        const buttonEl =\n",
              "          document.querySelector('#df-644f1777-c965-45c1-bbf9-96603f382009 button.colab-df-convert');\n",
              "        buttonEl.style.display =\n",
              "          google.colab.kernel.accessAllowed ? 'block' : 'none';\n",
              "\n",
              "        async function convertToInteractive(key) {\n",
              "          const element = document.querySelector('#df-644f1777-c965-45c1-bbf9-96603f382009');\n",
              "          const dataTable =\n",
              "            await google.colab.kernel.invokeFunction('convertToInteractive',\n",
              "                                                     [key], {});\n",
              "          if (!dataTable) return;\n",
              "\n",
              "          const docLinkHtml = 'Like what you see? Visit the ' +\n",
              "            '<a target=\"_blank\" href=https://colab.research.google.com/notebooks/data_table.ipynb>data table notebook</a>'\n",
              "            + ' to learn more about interactive tables.';\n",
              "          element.innerHTML = '';\n",
              "          dataTable['output_type'] = 'display_data';\n",
              "          await google.colab.output.renderOutput(dataTable, element);\n",
              "          const docLink = document.createElement('div');\n",
              "          docLink.innerHTML = docLinkHtml;\n",
              "          element.appendChild(docLink);\n",
              "        }\n",
              "      </script>\n",
              "    </div>\n",
              "  </div>\n",
              "  "
            ]
          },
          "metadata": {},
          "execution_count": 5
        }
      ]
    },
    {
      "cell_type": "code",
      "source": [
        "%%time\n",
        "df.head()"
      ],
      "metadata": {
        "colab": {
          "base_uri": "https://localhost:8080/",
          "height": 421
        },
        "id": "C-2Jp-5eR4Je",
        "outputId": "16b957c2-aa82-4b67-dc6c-b3b30030a1d1"
      },
      "execution_count": null,
      "outputs": [
        {
          "output_type": "stream",
          "name": "stdout",
          "text": [
            "CPU times: user 135 µs, sys: 34 µs, total: 169 µs\n",
            "Wall time: 175 µs\n"
          ]
        },
        {
          "output_type": "execute_result",
          "data": {
            "text/plain": [
              "   BusinessYear StateCode  IssuerId SourceName  VersionNum  \\\n",
              "0          2014        AK     21989       HIOS           6   \n",
              "1          2014        AK     21989       HIOS           6   \n",
              "2          2014        AK     21989       HIOS           6   \n",
              "3          2014        AK     21989       HIOS           6   \n",
              "4          2014        AK     21989       HIOS           6   \n",
              "\n",
              "            ImportDate  IssuerId2  FederalTIN RateEffectiveDate  \\\n",
              "0  2014-03-19 07:06:49      21989  93-0438772        2014-01-01   \n",
              "1  2014-03-19 07:06:49      21989  93-0438772        2014-01-01   \n",
              "2  2014-03-19 07:06:49      21989  93-0438772        2014-01-01   \n",
              "3  2014-03-19 07:06:49      21989  93-0438772        2014-01-01   \n",
              "4  2014-03-19 07:06:49      21989  93-0438772        2014-01-01   \n",
              "\n",
              "  RateExpirationDate  ... IndividualRate IndividualTobaccoRate Couple  \\\n",
              "0         2014-12-31  ...          29.00                   NaN    NaN   \n",
              "1         2014-12-31  ...          36.95                   NaN   73.9   \n",
              "2         2014-12-31  ...          36.95                   NaN   73.9   \n",
              "3         2014-12-31  ...          32.00                   NaN    NaN   \n",
              "4         2014-12-31  ...          32.00                   NaN    NaN   \n",
              "\n",
              "  PrimarySubscriberAndOneDependent  PrimarySubscriberAndTwoDependents  \\\n",
              "0                              NaN                                NaN   \n",
              "1                           107.61                             107.61   \n",
              "2                           107.61                             107.61   \n",
              "3                              NaN                                NaN   \n",
              "4                              NaN                                NaN   \n",
              "\n",
              "   PrimarySubscriberAndThreeOrMoreDependents  CoupleAndOneDependent  \\\n",
              "0                                        NaN                    NaN   \n",
              "1                                     107.61                 144.56   \n",
              "2                                     107.61                 144.56   \n",
              "3                                        NaN                    NaN   \n",
              "4                                        NaN                    NaN   \n",
              "\n",
              "   CoupleAndTwoDependents  CoupleAndThreeOrMoreDependents  RowNumber  \n",
              "0                     NaN                             NaN         14  \n",
              "1                  144.56                          144.56         14  \n",
              "2                  144.56                          144.56         15  \n",
              "3                     NaN                             NaN         15  \n",
              "4                     NaN                             NaN         16  \n",
              "\n",
              "[5 rows x 24 columns]"
            ],
            "text/html": [
              "\n",
              "  <div id=\"df-f884b9a7-16d0-4d75-a765-18b921a8a0a8\">\n",
              "    <div class=\"colab-df-container\">\n",
              "      <div>\n",
              "<style scoped>\n",
              "    .dataframe tbody tr th:only-of-type {\n",
              "        vertical-align: middle;\n",
              "    }\n",
              "\n",
              "    .dataframe tbody tr th {\n",
              "        vertical-align: top;\n",
              "    }\n",
              "\n",
              "    .dataframe thead th {\n",
              "        text-align: right;\n",
              "    }\n",
              "</style>\n",
              "<table border=\"1\" class=\"dataframe\">\n",
              "  <thead>\n",
              "    <tr style=\"text-align: right;\">\n",
              "      <th></th>\n",
              "      <th>BusinessYear</th>\n",
              "      <th>StateCode</th>\n",
              "      <th>IssuerId</th>\n",
              "      <th>SourceName</th>\n",
              "      <th>VersionNum</th>\n",
              "      <th>ImportDate</th>\n",
              "      <th>IssuerId2</th>\n",
              "      <th>FederalTIN</th>\n",
              "      <th>RateEffectiveDate</th>\n",
              "      <th>RateExpirationDate</th>\n",
              "      <th>...</th>\n",
              "      <th>IndividualRate</th>\n",
              "      <th>IndividualTobaccoRate</th>\n",
              "      <th>Couple</th>\n",
              "      <th>PrimarySubscriberAndOneDependent</th>\n",
              "      <th>PrimarySubscriberAndTwoDependents</th>\n",
              "      <th>PrimarySubscriberAndThreeOrMoreDependents</th>\n",
              "      <th>CoupleAndOneDependent</th>\n",
              "      <th>CoupleAndTwoDependents</th>\n",
              "      <th>CoupleAndThreeOrMoreDependents</th>\n",
              "      <th>RowNumber</th>\n",
              "    </tr>\n",
              "  </thead>\n",
              "  <tbody>\n",
              "    <tr>\n",
              "      <th>0</th>\n",
              "      <td>2014</td>\n",
              "      <td>AK</td>\n",
              "      <td>21989</td>\n",
              "      <td>HIOS</td>\n",
              "      <td>6</td>\n",
              "      <td>2014-03-19 07:06:49</td>\n",
              "      <td>21989</td>\n",
              "      <td>93-0438772</td>\n",
              "      <td>2014-01-01</td>\n",
              "      <td>2014-12-31</td>\n",
              "      <td>...</td>\n",
              "      <td>29.00</td>\n",
              "      <td>NaN</td>\n",
              "      <td>NaN</td>\n",
              "      <td>NaN</td>\n",
              "      <td>NaN</td>\n",
              "      <td>NaN</td>\n",
              "      <td>NaN</td>\n",
              "      <td>NaN</td>\n",
              "      <td>NaN</td>\n",
              "      <td>14</td>\n",
              "    </tr>\n",
              "    <tr>\n",
              "      <th>1</th>\n",
              "      <td>2014</td>\n",
              "      <td>AK</td>\n",
              "      <td>21989</td>\n",
              "      <td>HIOS</td>\n",
              "      <td>6</td>\n",
              "      <td>2014-03-19 07:06:49</td>\n",
              "      <td>21989</td>\n",
              "      <td>93-0438772</td>\n",
              "      <td>2014-01-01</td>\n",
              "      <td>2014-12-31</td>\n",
              "      <td>...</td>\n",
              "      <td>36.95</td>\n",
              "      <td>NaN</td>\n",
              "      <td>73.9</td>\n",
              "      <td>107.61</td>\n",
              "      <td>107.61</td>\n",
              "      <td>107.61</td>\n",
              "      <td>144.56</td>\n",
              "      <td>144.56</td>\n",
              "      <td>144.56</td>\n",
              "      <td>14</td>\n",
              "    </tr>\n",
              "    <tr>\n",
              "      <th>2</th>\n",
              "      <td>2014</td>\n",
              "      <td>AK</td>\n",
              "      <td>21989</td>\n",
              "      <td>HIOS</td>\n",
              "      <td>6</td>\n",
              "      <td>2014-03-19 07:06:49</td>\n",
              "      <td>21989</td>\n",
              "      <td>93-0438772</td>\n",
              "      <td>2014-01-01</td>\n",
              "      <td>2014-12-31</td>\n",
              "      <td>...</td>\n",
              "      <td>36.95</td>\n",
              "      <td>NaN</td>\n",
              "      <td>73.9</td>\n",
              "      <td>107.61</td>\n",
              "      <td>107.61</td>\n",
              "      <td>107.61</td>\n",
              "      <td>144.56</td>\n",
              "      <td>144.56</td>\n",
              "      <td>144.56</td>\n",
              "      <td>15</td>\n",
              "    </tr>\n",
              "    <tr>\n",
              "      <th>3</th>\n",
              "      <td>2014</td>\n",
              "      <td>AK</td>\n",
              "      <td>21989</td>\n",
              "      <td>HIOS</td>\n",
              "      <td>6</td>\n",
              "      <td>2014-03-19 07:06:49</td>\n",
              "      <td>21989</td>\n",
              "      <td>93-0438772</td>\n",
              "      <td>2014-01-01</td>\n",
              "      <td>2014-12-31</td>\n",
              "      <td>...</td>\n",
              "      <td>32.00</td>\n",
              "      <td>NaN</td>\n",
              "      <td>NaN</td>\n",
              "      <td>NaN</td>\n",
              "      <td>NaN</td>\n",
              "      <td>NaN</td>\n",
              "      <td>NaN</td>\n",
              "      <td>NaN</td>\n",
              "      <td>NaN</td>\n",
              "      <td>15</td>\n",
              "    </tr>\n",
              "    <tr>\n",
              "      <th>4</th>\n",
              "      <td>2014</td>\n",
              "      <td>AK</td>\n",
              "      <td>21989</td>\n",
              "      <td>HIOS</td>\n",
              "      <td>6</td>\n",
              "      <td>2014-03-19 07:06:49</td>\n",
              "      <td>21989</td>\n",
              "      <td>93-0438772</td>\n",
              "      <td>2014-01-01</td>\n",
              "      <td>2014-12-31</td>\n",
              "      <td>...</td>\n",
              "      <td>32.00</td>\n",
              "      <td>NaN</td>\n",
              "      <td>NaN</td>\n",
              "      <td>NaN</td>\n",
              "      <td>NaN</td>\n",
              "      <td>NaN</td>\n",
              "      <td>NaN</td>\n",
              "      <td>NaN</td>\n",
              "      <td>NaN</td>\n",
              "      <td>16</td>\n",
              "    </tr>\n",
              "  </tbody>\n",
              "</table>\n",
              "<p>5 rows × 24 columns</p>\n",
              "</div>\n",
              "      <button class=\"colab-df-convert\" onclick=\"convertToInteractive('df-f884b9a7-16d0-4d75-a765-18b921a8a0a8')\"\n",
              "              title=\"Convert this dataframe to an interactive table.\"\n",
              "              style=\"display:none;\">\n",
              "        \n",
              "  <svg xmlns=\"http://www.w3.org/2000/svg\" height=\"24px\"viewBox=\"0 0 24 24\"\n",
              "       width=\"24px\">\n",
              "    <path d=\"M0 0h24v24H0V0z\" fill=\"none\"/>\n",
              "    <path d=\"M18.56 5.44l.94 2.06.94-2.06 2.06-.94-2.06-.94-.94-2.06-.94 2.06-2.06.94zm-11 1L8.5 8.5l.94-2.06 2.06-.94-2.06-.94L8.5 2.5l-.94 2.06-2.06.94zm10 10l.94 2.06.94-2.06 2.06-.94-2.06-.94-.94-2.06-.94 2.06-2.06.94z\"/><path d=\"M17.41 7.96l-1.37-1.37c-.4-.4-.92-.59-1.43-.59-.52 0-1.04.2-1.43.59L10.3 9.45l-7.72 7.72c-.78.78-.78 2.05 0 2.83L4 21.41c.39.39.9.59 1.41.59.51 0 1.02-.2 1.41-.59l7.78-7.78 2.81-2.81c.8-.78.8-2.07 0-2.86zM5.41 20L4 18.59l7.72-7.72 1.47 1.35L5.41 20z\"/>\n",
              "  </svg>\n",
              "      </button>\n",
              "      \n",
              "  <style>\n",
              "    .colab-df-container {\n",
              "      display:flex;\n",
              "      flex-wrap:wrap;\n",
              "      gap: 12px;\n",
              "    }\n",
              "\n",
              "    .colab-df-convert {\n",
              "      background-color: #E8F0FE;\n",
              "      border: none;\n",
              "      border-radius: 50%;\n",
              "      cursor: pointer;\n",
              "      display: none;\n",
              "      fill: #1967D2;\n",
              "      height: 32px;\n",
              "      padding: 0 0 0 0;\n",
              "      width: 32px;\n",
              "    }\n",
              "\n",
              "    .colab-df-convert:hover {\n",
              "      background-color: #E2EBFA;\n",
              "      box-shadow: 0px 1px 2px rgba(60, 64, 67, 0.3), 0px 1px 3px 1px rgba(60, 64, 67, 0.15);\n",
              "      fill: #174EA6;\n",
              "    }\n",
              "\n",
              "    [theme=dark] .colab-df-convert {\n",
              "      background-color: #3B4455;\n",
              "      fill: #D2E3FC;\n",
              "    }\n",
              "\n",
              "    [theme=dark] .colab-df-convert:hover {\n",
              "      background-color: #434B5C;\n",
              "      box-shadow: 0px 1px 3px 1px rgba(0, 0, 0, 0.15);\n",
              "      filter: drop-shadow(0px 1px 2px rgba(0, 0, 0, 0.3));\n",
              "      fill: #FFFFFF;\n",
              "    }\n",
              "  </style>\n",
              "\n",
              "      <script>\n",
              "        const buttonEl =\n",
              "          document.querySelector('#df-f884b9a7-16d0-4d75-a765-18b921a8a0a8 button.colab-df-convert');\n",
              "        buttonEl.style.display =\n",
              "          google.colab.kernel.accessAllowed ? 'block' : 'none';\n",
              "\n",
              "        async function convertToInteractive(key) {\n",
              "          const element = document.querySelector('#df-f884b9a7-16d0-4d75-a765-18b921a8a0a8');\n",
              "          const dataTable =\n",
              "            await google.colab.kernel.invokeFunction('convertToInteractive',\n",
              "                                                     [key], {});\n",
              "          if (!dataTable) return;\n",
              "\n",
              "          const docLinkHtml = 'Like what you see? Visit the ' +\n",
              "            '<a target=\"_blank\" href=https://colab.research.google.com/notebooks/data_table.ipynb>data table notebook</a>'\n",
              "            + ' to learn more about interactive tables.';\n",
              "          element.innerHTML = '';\n",
              "          dataTable['output_type'] = 'display_data';\n",
              "          await google.colab.output.renderOutput(dataTable, element);\n",
              "          const docLink = document.createElement('div');\n",
              "          docLink.innerHTML = docLinkHtml;\n",
              "          element.appendChild(docLink);\n",
              "        }\n",
              "      </script>\n",
              "    </div>\n",
              "  </div>\n",
              "  "
            ]
          },
          "metadata": {},
          "execution_count": 6
        }
      ]
    },
    {
      "cell_type": "markdown",
      "source": [
        "**Basic Info**"
      ],
      "metadata": {
        "id": "xwTpzvu304oj"
      }
    },
    {
      "cell_type": "code",
      "source": [
        "df.shape"
      ],
      "metadata": {
        "colab": {
          "base_uri": "https://localhost:8080/"
        },
        "id": "ddN8X81HYhW7",
        "outputId": "f99a1475-dc14-418e-f3f5-cc293a49152d"
      },
      "execution_count": null,
      "outputs": [
        {
          "output_type": "execute_result",
          "data": {
            "text/plain": [
              "(12694445, 24)"
            ]
          },
          "metadata": {},
          "execution_count": 7
        }
      ]
    },
    {
      "cell_type": "code",
      "source": [
        "df.info()"
      ],
      "metadata": {
        "colab": {
          "base_uri": "https://localhost:8080/"
        },
        "id": "Zh-RU1FAhACU",
        "outputId": "ab6bb0d9-9e43-4f75-9f37-ead573fcc650"
      },
      "execution_count": null,
      "outputs": [
        {
          "output_type": "stream",
          "name": "stdout",
          "text": [
            "<class 'pandas.core.frame.DataFrame'>\n",
            "RangeIndex: 12694445 entries, 0 to 12694444\n",
            "Data columns (total 24 columns):\n",
            " #   Column                                     Dtype  \n",
            "---  ------                                     -----  \n",
            " 0   BusinessYear                               int64  \n",
            " 1   StateCode                                  object \n",
            " 2   IssuerId                                   int64  \n",
            " 3   SourceName                                 object \n",
            " 4   VersionNum                                 int64  \n",
            " 5   ImportDate                                 object \n",
            " 6   IssuerId2                                  int64  \n",
            " 7   FederalTIN                                 object \n",
            " 8   RateEffectiveDate                          object \n",
            " 9   RateExpirationDate                         object \n",
            " 10  PlanId                                     object \n",
            " 11  RatingAreaId                               object \n",
            " 12  Tobacco                                    object \n",
            " 13  Age                                        object \n",
            " 14  IndividualRate                             float64\n",
            " 15  IndividualTobaccoRate                      float64\n",
            " 16  Couple                                     float64\n",
            " 17  PrimarySubscriberAndOneDependent           float64\n",
            " 18  PrimarySubscriberAndTwoDependents          float64\n",
            " 19  PrimarySubscriberAndThreeOrMoreDependents  float64\n",
            " 20  CoupleAndOneDependent                      float64\n",
            " 21  CoupleAndTwoDependents                     float64\n",
            " 22  CoupleAndThreeOrMoreDependents             float64\n",
            " 23  RowNumber                                  int64  \n",
            "dtypes: float64(9), int64(5), object(10)\n",
            "memory usage: 2.3+ GB\n"
          ]
        }
      ]
    },
    {
      "cell_type": "code",
      "source": [
        "df.columns[:10]"
      ],
      "metadata": {
        "colab": {
          "base_uri": "https://localhost:8080/"
        },
        "id": "NQWN-PWOYrLU",
        "outputId": "a541cf03-474a-45d5-fb56-41ccf0c53096"
      },
      "execution_count": null,
      "outputs": [
        {
          "output_type": "execute_result",
          "data": {
            "text/plain": [
              "Index(['BusinessYear', 'StateCode', 'IssuerId', 'SourceName', 'VersionNum',\n",
              "       'ImportDate', 'IssuerId2', 'FederalTIN', 'RateEffectiveDate',\n",
              "       'RateExpirationDate'],\n",
              "      dtype='object')"
            ]
          },
          "metadata": {},
          "execution_count": 9
        }
      ]
    },
    {
      "cell_type": "markdown",
      "source": [
        "**Summary Statistics**"
      ],
      "metadata": {
        "id": "G9Q_kbh6072H"
      }
    },
    {
      "cell_type": "code",
      "source": [
        "%%time\n",
        "df['IndividualRate'].mean()"
      ],
      "metadata": {
        "id": "GLZVB96IhGYv",
        "colab": {
          "base_uri": "https://localhost:8080/"
        },
        "outputId": "193d83da-21e1-4552-9772-59fdd6bb0b1e"
      },
      "execution_count": null,
      "outputs": [
        {
          "output_type": "stream",
          "name": "stdout",
          "text": [
            "CPU times: user 45.5 ms, sys: 5.59 ms, total: 51 ms\n",
            "Wall time: 56 ms\n"
          ]
        },
        {
          "output_type": "execute_result",
          "data": {
            "text/plain": [
              "4098.026458591218"
            ]
          },
          "metadata": {},
          "execution_count": 10
        }
      ]
    },
    {
      "cell_type": "code",
      "source": [
        "%%time\n",
        "df['IndividualRate'].std()"
      ],
      "metadata": {
        "colab": {
          "base_uri": "https://localhost:8080/"
        },
        "id": "FgX00fkQgMtu",
        "outputId": "5f3a872d-5117-4c3d-d437-4417b3ccb3b2"
      },
      "execution_count": null,
      "outputs": [
        {
          "output_type": "stream",
          "name": "stdout",
          "text": [
            "CPU times: user 143 ms, sys: 3.55 ms, total: 147 ms\n",
            "Wall time: 148 ms\n"
          ]
        },
        {
          "output_type": "execute_result",
          "data": {
            "text/plain": [
              "61222.712586124246"
            ]
          },
          "metadata": {},
          "execution_count": 11
        }
      ]
    },
    {
      "cell_type": "code",
      "source": [
        "%%time\n",
        "df['IssuerId'].nunique()"
      ],
      "metadata": {
        "colab": {
          "base_uri": "https://localhost:8080/"
        },
        "id": "iZTix4s1gV0c",
        "outputId": "6b6b899b-acea-4296-b3aa-d95a14be6b09"
      },
      "execution_count": null,
      "outputs": [
        {
          "output_type": "stream",
          "name": "stdout",
          "text": [
            "CPU times: user 79.9 ms, sys: 674 µs, total: 80.6 ms\n",
            "Wall time: 79.9 ms\n"
          ]
        },
        {
          "output_type": "execute_result",
          "data": {
            "text/plain": [
              "910"
            ]
          },
          "metadata": {},
          "execution_count": 12
        }
      ]
    },
    {
      "cell_type": "markdown",
      "source": [
        "**GroupBy**"
      ],
      "metadata": {
        "id": "ZT0XsOsx1CH3"
      }
    },
    {
      "cell_type": "code",
      "source": [
        "%%time\n",
        "gb_pd = df.groupby('IssuerId')['IndividualRate'].mean()"
      ],
      "metadata": {
        "id": "xeDFDMMSJTvI",
        "colab": {
          "base_uri": "https://localhost:8080/"
        },
        "outputId": "bf8e3144-eb00-4680-af1a-0283df156773"
      },
      "execution_count": null,
      "outputs": [
        {
          "output_type": "stream",
          "name": "stdout",
          "text": [
            "CPU times: user 277 ms, sys: 8.97 ms, total: 286 ms\n",
            "Wall time: 294 ms\n"
          ]
        }
      ]
    },
    {
      "cell_type": "markdown",
      "source": [
        "**Sorting the Frame**"
      ],
      "metadata": {
        "id": "xU9zFNi11IKj"
      }
    },
    {
      "cell_type": "code",
      "source": [
        "%%time\n",
        "df.sort_values(by = \"VersionNum\")"
      ],
      "metadata": {
        "colab": {
          "base_uri": "https://localhost:8080/",
          "height": 696
        },
        "id": "xN9RXTHGfIV-",
        "outputId": "64acc100-7359-43e8-a950-701efc1ae96a"
      },
      "execution_count": null,
      "outputs": [
        {
          "output_type": "stream",
          "name": "stdout",
          "text": [
            "CPU times: user 2.46 s, sys: 23.4 ms, total: 2.48 s\n",
            "Wall time: 2.5 s\n"
          ]
        },
        {
          "output_type": "execute_result",
          "data": {
            "text/plain": [
              "          BusinessYear StateCode  IssuerId SourceName  VersionNum  \\\n",
              "1427996           2014        NC     56891       HIOS           1   \n",
              "9041753           2016        FL     84141       HIOS           1   \n",
              "9041754           2016        FL     84141       HIOS           1   \n",
              "9041755           2016        FL     84141       HIOS           1   \n",
              "9041756           2016        FL     84141       HIOS           1   \n",
              "...                ...       ...       ...        ...         ...   \n",
              "12595333          2016        VA     88380      SERFF          24   \n",
              "12595332          2016        VA     88380      SERFF          24   \n",
              "12595331          2016        VA     88380      SERFF          24   \n",
              "12595353          2016        VA     88380      SERFF          24   \n",
              "12608242          2016        VA     88380      SERFF          24   \n",
              "\n",
              "                   ImportDate  IssuerId2  FederalTIN RateEffectiveDate  \\\n",
              "1427996   2013-06-07 09:05:04      56891  56-1018068        2014-01-01   \n",
              "9041753   2015-05-01 02:23:41      84141  36-0883760        2016-01-01   \n",
              "9041754   2015-05-01 02:23:41      84141  36-0883760        2016-01-01   \n",
              "9041755   2015-05-01 02:23:41      84141  36-0883760        2016-01-01   \n",
              "9041756   2015-05-01 02:23:41      84141  36-0883760        2016-01-01   \n",
              "...                       ...        ...         ...               ...   \n",
              "12595333  2015-10-21 17:48:08      88380  54-1356687        2016-10-01   \n",
              "12595332  2015-10-21 17:48:08      88380  54-1356687        2016-04-01   \n",
              "12595331  2015-10-21 17:48:08      88380  54-1356687        2016-07-01   \n",
              "12595353  2015-10-21 17:48:08      88380  54-1356687        2016-10-01   \n",
              "12608242  2015-10-21 17:48:08      88380  54-1356687        2016-10-01   \n",
              "\n",
              "         RateExpirationDate  ... IndividualRate IndividualTobaccoRate Couple  \\\n",
              "1427996          2014-12-31  ...          27.78                   NaN    NaN   \n",
              "9041753          2016-12-31  ...           0.00                   NaN    NaN   \n",
              "9041754          2016-12-31  ...          20.02                   NaN    NaN   \n",
              "9041755          2016-12-31  ...           0.00                   NaN    NaN   \n",
              "9041756          2016-12-31  ...           0.00                   NaN    NaN   \n",
              "...                     ...  ...            ...                   ...    ...   \n",
              "12595333         2016-12-31  ...         810.63                   NaN    NaN   \n",
              "12595332         2016-06-30  ...         785.58                   NaN    NaN   \n",
              "12595331         2016-09-30  ...         797.13                   NaN    NaN   \n",
              "12595353         2016-12-31  ...         268.92                   NaN    NaN   \n",
              "12608242         2016-12-31  ...         309.85                   NaN    NaN   \n",
              "\n",
              "         PrimarySubscriberAndOneDependent  PrimarySubscriberAndTwoDependents  \\\n",
              "1427996                               NaN                                NaN   \n",
              "9041753                               NaN                                NaN   \n",
              "9041754                               NaN                                NaN   \n",
              "9041755                               NaN                                NaN   \n",
              "9041756                               NaN                                NaN   \n",
              "...                                   ...                                ...   \n",
              "12595333                              NaN                                NaN   \n",
              "12595332                              NaN                                NaN   \n",
              "12595331                              NaN                                NaN   \n",
              "12595353                              NaN                                NaN   \n",
              "12608242                              NaN                                NaN   \n",
              "\n",
              "          PrimarySubscriberAndThreeOrMoreDependents  CoupleAndOneDependent  \\\n",
              "1427996                                         NaN                    NaN   \n",
              "9041753                                         NaN                    NaN   \n",
              "9041754                                         NaN                    NaN   \n",
              "9041755                                         NaN                    NaN   \n",
              "9041756                                         NaN                    NaN   \n",
              "...                                             ...                    ...   \n",
              "12595333                                        NaN                    NaN   \n",
              "12595332                                        NaN                    NaN   \n",
              "12595331                                        NaN                    NaN   \n",
              "12595353                                        NaN                    NaN   \n",
              "12608242                                        NaN                    NaN   \n",
              "\n",
              "          CoupleAndTwoDependents  CoupleAndThreeOrMoreDependents  RowNumber  \n",
              "1427996                      NaN                             NaN        660  \n",
              "9041753                      NaN                             NaN       8201  \n",
              "9041754                      NaN                             NaN       8202  \n",
              "9041755                      NaN                             NaN       8203  \n",
              "9041756                      NaN                             NaN       8204  \n",
              "...                          ...                             ...        ...  \n",
              "12595333                     NaN                             NaN       1668  \n",
              "12595332                     NaN                             NaN       1668  \n",
              "12595331                     NaN                             NaN       1668  \n",
              "12595353                     NaN                             NaN       1672  \n",
              "12608242                     NaN                             NaN       4250  \n",
              "\n",
              "[12694445 rows x 24 columns]"
            ],
            "text/html": [
              "\n",
              "  <div id=\"df-7da553b5-ce65-4dee-a9d8-991aae23f027\">\n",
              "    <div class=\"colab-df-container\">\n",
              "      <div>\n",
              "<style scoped>\n",
              "    .dataframe tbody tr th:only-of-type {\n",
              "        vertical-align: middle;\n",
              "    }\n",
              "\n",
              "    .dataframe tbody tr th {\n",
              "        vertical-align: top;\n",
              "    }\n",
              "\n",
              "    .dataframe thead th {\n",
              "        text-align: right;\n",
              "    }\n",
              "</style>\n",
              "<table border=\"1\" class=\"dataframe\">\n",
              "  <thead>\n",
              "    <tr style=\"text-align: right;\">\n",
              "      <th></th>\n",
              "      <th>BusinessYear</th>\n",
              "      <th>StateCode</th>\n",
              "      <th>IssuerId</th>\n",
              "      <th>SourceName</th>\n",
              "      <th>VersionNum</th>\n",
              "      <th>ImportDate</th>\n",
              "      <th>IssuerId2</th>\n",
              "      <th>FederalTIN</th>\n",
              "      <th>RateEffectiveDate</th>\n",
              "      <th>RateExpirationDate</th>\n",
              "      <th>...</th>\n",
              "      <th>IndividualRate</th>\n",
              "      <th>IndividualTobaccoRate</th>\n",
              "      <th>Couple</th>\n",
              "      <th>PrimarySubscriberAndOneDependent</th>\n",
              "      <th>PrimarySubscriberAndTwoDependents</th>\n",
              "      <th>PrimarySubscriberAndThreeOrMoreDependents</th>\n",
              "      <th>CoupleAndOneDependent</th>\n",
              "      <th>CoupleAndTwoDependents</th>\n",
              "      <th>CoupleAndThreeOrMoreDependents</th>\n",
              "      <th>RowNumber</th>\n",
              "    </tr>\n",
              "  </thead>\n",
              "  <tbody>\n",
              "    <tr>\n",
              "      <th>1427996</th>\n",
              "      <td>2014</td>\n",
              "      <td>NC</td>\n",
              "      <td>56891</td>\n",
              "      <td>HIOS</td>\n",
              "      <td>1</td>\n",
              "      <td>2013-06-07 09:05:04</td>\n",
              "      <td>56891</td>\n",
              "      <td>56-1018068</td>\n",
              "      <td>2014-01-01</td>\n",
              "      <td>2014-12-31</td>\n",
              "      <td>...</td>\n",
              "      <td>27.78</td>\n",
              "      <td>NaN</td>\n",
              "      <td>NaN</td>\n",
              "      <td>NaN</td>\n",
              "      <td>NaN</td>\n",
              "      <td>NaN</td>\n",
              "      <td>NaN</td>\n",
              "      <td>NaN</td>\n",
              "      <td>NaN</td>\n",
              "      <td>660</td>\n",
              "    </tr>\n",
              "    <tr>\n",
              "      <th>9041753</th>\n",
              "      <td>2016</td>\n",
              "      <td>FL</td>\n",
              "      <td>84141</td>\n",
              "      <td>HIOS</td>\n",
              "      <td>1</td>\n",
              "      <td>2015-05-01 02:23:41</td>\n",
              "      <td>84141</td>\n",
              "      <td>36-0883760</td>\n",
              "      <td>2016-01-01</td>\n",
              "      <td>2016-12-31</td>\n",
              "      <td>...</td>\n",
              "      <td>0.00</td>\n",
              "      <td>NaN</td>\n",
              "      <td>NaN</td>\n",
              "      <td>NaN</td>\n",
              "      <td>NaN</td>\n",
              "      <td>NaN</td>\n",
              "      <td>NaN</td>\n",
              "      <td>NaN</td>\n",
              "      <td>NaN</td>\n",
              "      <td>8201</td>\n",
              "    </tr>\n",
              "    <tr>\n",
              "      <th>9041754</th>\n",
              "      <td>2016</td>\n",
              "      <td>FL</td>\n",
              "      <td>84141</td>\n",
              "      <td>HIOS</td>\n",
              "      <td>1</td>\n",
              "      <td>2015-05-01 02:23:41</td>\n",
              "      <td>84141</td>\n",
              "      <td>36-0883760</td>\n",
              "      <td>2016-01-01</td>\n",
              "      <td>2016-12-31</td>\n",
              "      <td>...</td>\n",
              "      <td>20.02</td>\n",
              "      <td>NaN</td>\n",
              "      <td>NaN</td>\n",
              "      <td>NaN</td>\n",
              "      <td>NaN</td>\n",
              "      <td>NaN</td>\n",
              "      <td>NaN</td>\n",
              "      <td>NaN</td>\n",
              "      <td>NaN</td>\n",
              "      <td>8202</td>\n",
              "    </tr>\n",
              "    <tr>\n",
              "      <th>9041755</th>\n",
              "      <td>2016</td>\n",
              "      <td>FL</td>\n",
              "      <td>84141</td>\n",
              "      <td>HIOS</td>\n",
              "      <td>1</td>\n",
              "      <td>2015-05-01 02:23:41</td>\n",
              "      <td>84141</td>\n",
              "      <td>36-0883760</td>\n",
              "      <td>2016-01-01</td>\n",
              "      <td>2016-12-31</td>\n",
              "      <td>...</td>\n",
              "      <td>0.00</td>\n",
              "      <td>NaN</td>\n",
              "      <td>NaN</td>\n",
              "      <td>NaN</td>\n",
              "      <td>NaN</td>\n",
              "      <td>NaN</td>\n",
              "      <td>NaN</td>\n",
              "      <td>NaN</td>\n",
              "      <td>NaN</td>\n",
              "      <td>8203</td>\n",
              "    </tr>\n",
              "    <tr>\n",
              "      <th>9041756</th>\n",
              "      <td>2016</td>\n",
              "      <td>FL</td>\n",
              "      <td>84141</td>\n",
              "      <td>HIOS</td>\n",
              "      <td>1</td>\n",
              "      <td>2015-05-01 02:23:41</td>\n",
              "      <td>84141</td>\n",
              "      <td>36-0883760</td>\n",
              "      <td>2016-01-01</td>\n",
              "      <td>2016-12-31</td>\n",
              "      <td>...</td>\n",
              "      <td>0.00</td>\n",
              "      <td>NaN</td>\n",
              "      <td>NaN</td>\n",
              "      <td>NaN</td>\n",
              "      <td>NaN</td>\n",
              "      <td>NaN</td>\n",
              "      <td>NaN</td>\n",
              "      <td>NaN</td>\n",
              "      <td>NaN</td>\n",
              "      <td>8204</td>\n",
              "    </tr>\n",
              "    <tr>\n",
              "      <th>...</th>\n",
              "      <td>...</td>\n",
              "      <td>...</td>\n",
              "      <td>...</td>\n",
              "      <td>...</td>\n",
              "      <td>...</td>\n",
              "      <td>...</td>\n",
              "      <td>...</td>\n",
              "      <td>...</td>\n",
              "      <td>...</td>\n",
              "      <td>...</td>\n",
              "      <td>...</td>\n",
              "      <td>...</td>\n",
              "      <td>...</td>\n",
              "      <td>...</td>\n",
              "      <td>...</td>\n",
              "      <td>...</td>\n",
              "      <td>...</td>\n",
              "      <td>...</td>\n",
              "      <td>...</td>\n",
              "      <td>...</td>\n",
              "      <td>...</td>\n",
              "    </tr>\n",
              "    <tr>\n",
              "      <th>12595333</th>\n",
              "      <td>2016</td>\n",
              "      <td>VA</td>\n",
              "      <td>88380</td>\n",
              "      <td>SERFF</td>\n",
              "      <td>24</td>\n",
              "      <td>2015-10-21 17:48:08</td>\n",
              "      <td>88380</td>\n",
              "      <td>54-1356687</td>\n",
              "      <td>2016-10-01</td>\n",
              "      <td>2016-12-31</td>\n",
              "      <td>...</td>\n",
              "      <td>810.63</td>\n",
              "      <td>NaN</td>\n",
              "      <td>NaN</td>\n",
              "      <td>NaN</td>\n",
              "      <td>NaN</td>\n",
              "      <td>NaN</td>\n",
              "      <td>NaN</td>\n",
              "      <td>NaN</td>\n",
              "      <td>NaN</td>\n",
              "      <td>1668</td>\n",
              "    </tr>\n",
              "    <tr>\n",
              "      <th>12595332</th>\n",
              "      <td>2016</td>\n",
              "      <td>VA</td>\n",
              "      <td>88380</td>\n",
              "      <td>SERFF</td>\n",
              "      <td>24</td>\n",
              "      <td>2015-10-21 17:48:08</td>\n",
              "      <td>88380</td>\n",
              "      <td>54-1356687</td>\n",
              "      <td>2016-04-01</td>\n",
              "      <td>2016-06-30</td>\n",
              "      <td>...</td>\n",
              "      <td>785.58</td>\n",
              "      <td>NaN</td>\n",
              "      <td>NaN</td>\n",
              "      <td>NaN</td>\n",
              "      <td>NaN</td>\n",
              "      <td>NaN</td>\n",
              "      <td>NaN</td>\n",
              "      <td>NaN</td>\n",
              "      <td>NaN</td>\n",
              "      <td>1668</td>\n",
              "    </tr>\n",
              "    <tr>\n",
              "      <th>12595331</th>\n",
              "      <td>2016</td>\n",
              "      <td>VA</td>\n",
              "      <td>88380</td>\n",
              "      <td>SERFF</td>\n",
              "      <td>24</td>\n",
              "      <td>2015-10-21 17:48:08</td>\n",
              "      <td>88380</td>\n",
              "      <td>54-1356687</td>\n",
              "      <td>2016-07-01</td>\n",
              "      <td>2016-09-30</td>\n",
              "      <td>...</td>\n",
              "      <td>797.13</td>\n",
              "      <td>NaN</td>\n",
              "      <td>NaN</td>\n",
              "      <td>NaN</td>\n",
              "      <td>NaN</td>\n",
              "      <td>NaN</td>\n",
              "      <td>NaN</td>\n",
              "      <td>NaN</td>\n",
              "      <td>NaN</td>\n",
              "      <td>1668</td>\n",
              "    </tr>\n",
              "    <tr>\n",
              "      <th>12595353</th>\n",
              "      <td>2016</td>\n",
              "      <td>VA</td>\n",
              "      <td>88380</td>\n",
              "      <td>SERFF</td>\n",
              "      <td>24</td>\n",
              "      <td>2015-10-21 17:48:08</td>\n",
              "      <td>88380</td>\n",
              "      <td>54-1356687</td>\n",
              "      <td>2016-10-01</td>\n",
              "      <td>2016-12-31</td>\n",
              "      <td>...</td>\n",
              "      <td>268.92</td>\n",
              "      <td>NaN</td>\n",
              "      <td>NaN</td>\n",
              "      <td>NaN</td>\n",
              "      <td>NaN</td>\n",
              "      <td>NaN</td>\n",
              "      <td>NaN</td>\n",
              "      <td>NaN</td>\n",
              "      <td>NaN</td>\n",
              "      <td>1672</td>\n",
              "    </tr>\n",
              "    <tr>\n",
              "      <th>12608242</th>\n",
              "      <td>2016</td>\n",
              "      <td>VA</td>\n",
              "      <td>88380</td>\n",
              "      <td>SERFF</td>\n",
              "      <td>24</td>\n",
              "      <td>2015-10-21 17:48:08</td>\n",
              "      <td>88380</td>\n",
              "      <td>54-1356687</td>\n",
              "      <td>2016-10-01</td>\n",
              "      <td>2016-12-31</td>\n",
              "      <td>...</td>\n",
              "      <td>309.85</td>\n",
              "      <td>NaN</td>\n",
              "      <td>NaN</td>\n",
              "      <td>NaN</td>\n",
              "      <td>NaN</td>\n",
              "      <td>NaN</td>\n",
              "      <td>NaN</td>\n",
              "      <td>NaN</td>\n",
              "      <td>NaN</td>\n",
              "      <td>4250</td>\n",
              "    </tr>\n",
              "  </tbody>\n",
              "</table>\n",
              "<p>12694445 rows × 24 columns</p>\n",
              "</div>\n",
              "      <button class=\"colab-df-convert\" onclick=\"convertToInteractive('df-7da553b5-ce65-4dee-a9d8-991aae23f027')\"\n",
              "              title=\"Convert this dataframe to an interactive table.\"\n",
              "              style=\"display:none;\">\n",
              "        \n",
              "  <svg xmlns=\"http://www.w3.org/2000/svg\" height=\"24px\"viewBox=\"0 0 24 24\"\n",
              "       width=\"24px\">\n",
              "    <path d=\"M0 0h24v24H0V0z\" fill=\"none\"/>\n",
              "    <path d=\"M18.56 5.44l.94 2.06.94-2.06 2.06-.94-2.06-.94-.94-2.06-.94 2.06-2.06.94zm-11 1L8.5 8.5l.94-2.06 2.06-.94-2.06-.94L8.5 2.5l-.94 2.06-2.06.94zm10 10l.94 2.06.94-2.06 2.06-.94-2.06-.94-.94-2.06-.94 2.06-2.06.94z\"/><path d=\"M17.41 7.96l-1.37-1.37c-.4-.4-.92-.59-1.43-.59-.52 0-1.04.2-1.43.59L10.3 9.45l-7.72 7.72c-.78.78-.78 2.05 0 2.83L4 21.41c.39.39.9.59 1.41.59.51 0 1.02-.2 1.41-.59l7.78-7.78 2.81-2.81c.8-.78.8-2.07 0-2.86zM5.41 20L4 18.59l7.72-7.72 1.47 1.35L5.41 20z\"/>\n",
              "  </svg>\n",
              "      </button>\n",
              "      \n",
              "  <style>\n",
              "    .colab-df-container {\n",
              "      display:flex;\n",
              "      flex-wrap:wrap;\n",
              "      gap: 12px;\n",
              "    }\n",
              "\n",
              "    .colab-df-convert {\n",
              "      background-color: #E8F0FE;\n",
              "      border: none;\n",
              "      border-radius: 50%;\n",
              "      cursor: pointer;\n",
              "      display: none;\n",
              "      fill: #1967D2;\n",
              "      height: 32px;\n",
              "      padding: 0 0 0 0;\n",
              "      width: 32px;\n",
              "    }\n",
              "\n",
              "    .colab-df-convert:hover {\n",
              "      background-color: #E2EBFA;\n",
              "      box-shadow: 0px 1px 2px rgba(60, 64, 67, 0.3), 0px 1px 3px 1px rgba(60, 64, 67, 0.15);\n",
              "      fill: #174EA6;\n",
              "    }\n",
              "\n",
              "    [theme=dark] .colab-df-convert {\n",
              "      background-color: #3B4455;\n",
              "      fill: #D2E3FC;\n",
              "    }\n",
              "\n",
              "    [theme=dark] .colab-df-convert:hover {\n",
              "      background-color: #434B5C;\n",
              "      box-shadow: 0px 1px 3px 1px rgba(0, 0, 0, 0.15);\n",
              "      filter: drop-shadow(0px 1px 2px rgba(0, 0, 0, 0.3));\n",
              "      fill: #FFFFFF;\n",
              "    }\n",
              "  </style>\n",
              "\n",
              "      <script>\n",
              "        const buttonEl =\n",
              "          document.querySelector('#df-7da553b5-ce65-4dee-a9d8-991aae23f027 button.colab-df-convert');\n",
              "        buttonEl.style.display =\n",
              "          google.colab.kernel.accessAllowed ? 'block' : 'none';\n",
              "\n",
              "        async function convertToInteractive(key) {\n",
              "          const element = document.querySelector('#df-7da553b5-ce65-4dee-a9d8-991aae23f027');\n",
              "          const dataTable =\n",
              "            await google.colab.kernel.invokeFunction('convertToInteractive',\n",
              "                                                     [key], {});\n",
              "          if (!dataTable) return;\n",
              "\n",
              "          const docLinkHtml = 'Like what you see? Visit the ' +\n",
              "            '<a target=\"_blank\" href=https://colab.research.google.com/notebooks/data_table.ipynb>data table notebook</a>'\n",
              "            + ' to learn more about interactive tables.';\n",
              "          element.innerHTML = '';\n",
              "          dataTable['output_type'] = 'display_data';\n",
              "          await google.colab.output.renderOutput(dataTable, element);\n",
              "          const docLink = document.createElement('div');\n",
              "          docLink.innerHTML = docLinkHtml;\n",
              "          element.appendChild(docLink);\n",
              "        }\n",
              "      </script>\n",
              "    </div>\n",
              "  </div>\n",
              "  "
            ]
          },
          "metadata": {},
          "execution_count": 14
        }
      ]
    },
    {
      "cell_type": "markdown",
      "source": [
        "> **Summary of Pandas**\n",
        "\n",
        "\n",
        "*   Read File: 43.5 s\n",
        "*   Head: 175 µs\n",
        "*   Mean(IndividualRate): 56 ms\n",
        "*   Sdt(IndividualRate): 148 ms\n",
        "*   Unique IssuerID: 79.9 ms\n",
        "*   Groupby Mean: 294 ms\n",
        "*   Sort: 2.5 s\n",
        "\n",
        "\n",
        "\n",
        "\n",
        "\n",
        "\n",
        "\n",
        "\n",
        "\n",
        "\n",
        "\n"
      ],
      "metadata": {
        "id": "o2_zDN-7hwaH"
      }
    },
    {
      "cell_type": "markdown",
      "source": [
        "## **Data Table**"
      ],
      "metadata": {
        "id": "9NtbqoowYtFO"
      }
    },
    {
      "cell_type": "markdown",
      "source": [
        "**Read File**"
      ],
      "metadata": {
        "id": "HX38hFHY1NTK"
      }
    },
    {
      "cell_type": "code",
      "source": [
        "%%time\n",
        "dt_df = dt.fread('Rate.csv')\n",
        "dt_df"
      ],
      "metadata": {
        "colab": {
          "base_uri": "https://localhost:8080/",
          "height": 929
        },
        "id": "JRQB0ew8Gl--",
        "outputId": "ae477bdc-b864-4a38-c4e0-68f90a4998e7"
      },
      "execution_count": null,
      "outputs": [
        {
          "output_type": "stream",
          "name": "stdout",
          "text": [
            "CPU times: user 16.4 s, sys: 3.98 s, total: 20.4 s\n",
            "Wall time: 16.2 s\n"
          ]
        },
        {
          "output_type": "execute_result",
          "data": {
            "text/plain": [
              "<Frame#7f5cb47ec7b0 12694445x24>"
            ],
            "text/html": [
              "<div class='datatable'>\n",
              "  <table class='frame'>\n",
              "  <thead>\n",
              "    <tr class='colnames'><td class='row_index'></td><th>BusinessYear</th><th>StateCode</th><th>IssuerId</th><th>SourceName</th><th>VersionNum</th><th>ImportDate</th><th>IssuerId2</th><th>FederalTIN</th><th>RateEffectiveDate</th><th>RateExpirationDate</th><th class='vellipsis'>&hellip;</th><th>PrimarySubscriberAndThreeOrMoreDependents</th><th>CoupleAndOneDependent</th><th>CoupleAndTwoDependents</th><th>CoupleAndThreeOrMoreDependents</th><th>RowNumber</th></tr>\n",
              "    <tr class='coltypes'><td class='row_index'></td><td class='int' title='int32'>&#x25AA;&#x25AA;&#x25AA;&#x25AA;</td><td class='str' title='str32'>&#x25AA;&#x25AA;&#x25AA;&#x25AA;</td><td class='int' title='int32'>&#x25AA;&#x25AA;&#x25AA;&#x25AA;</td><td class='str' title='str32'>&#x25AA;&#x25AA;&#x25AA;&#x25AA;</td><td class='int' title='int32'>&#x25AA;&#x25AA;&#x25AA;&#x25AA;</td><td class='time' title='time64'>&#x25AA;&#x25AA;&#x25AA;&#x25AA;&#x25AA;&#x25AA;&#x25AA;&#x25AA;</td><td class='int' title='int32'>&#x25AA;&#x25AA;&#x25AA;&#x25AA;</td><td class='str' title='str32'>&#x25AA;&#x25AA;&#x25AA;&#x25AA;</td><td class='time' title='date32'>&#x25AA;&#x25AA;&#x25AA;&#x25AA;</td><td class='time' title='date32'>&#x25AA;&#x25AA;&#x25AA;&#x25AA;</td><td></td><td class='float' title='float64'>&#x25AA;&#x25AA;&#x25AA;&#x25AA;&#x25AA;&#x25AA;&#x25AA;&#x25AA;</td><td class='float' title='float64'>&#x25AA;&#x25AA;&#x25AA;&#x25AA;&#x25AA;&#x25AA;&#x25AA;&#x25AA;</td><td class='float' title='float64'>&#x25AA;&#x25AA;&#x25AA;&#x25AA;&#x25AA;&#x25AA;&#x25AA;&#x25AA;</td><td class='float' title='float64'>&#x25AA;&#x25AA;&#x25AA;&#x25AA;&#x25AA;&#x25AA;&#x25AA;&#x25AA;</td><td class='int' title='int32'>&#x25AA;&#x25AA;&#x25AA;&#x25AA;</td></tr>\n",
              "  </thead>\n",
              "  <tbody>\n",
              "    <tr><td class='row_index'>0</td><td>2014</td><td>AK</td><td>21989</td><td>HIOS</td><td>6</td><td>2014-03-19<span class=sp>T</span>07:06:49</td><td>21989</td><td>93-0438772</td><td>2014-01-01</td><td>2014-12-31</td><td class=vellipsis>&hellip;</td><td><span class=na>NA</span></td><td><span class=na>NA</span></td><td><span class=na>NA</span></td><td><span class=na>NA</span></td><td>14</td></tr>\n",
              "    <tr><td class='row_index'>1</td><td>2014</td><td>AK</td><td>21989</td><td>HIOS</td><td>6</td><td>2014-03-19<span class=sp>T</span>07:06:49</td><td>21989</td><td>93-0438772</td><td>2014-01-01</td><td>2014-12-31</td><td class=vellipsis>&hellip;</td><td>107.61</td><td>144.56</td><td>144.56</td><td>144.56</td><td>14</td></tr>\n",
              "    <tr><td class='row_index'>2</td><td>2014</td><td>AK</td><td>21989</td><td>HIOS</td><td>6</td><td>2014-03-19<span class=sp>T</span>07:06:49</td><td>21989</td><td>93-0438772</td><td>2014-01-01</td><td>2014-12-31</td><td class=vellipsis>&hellip;</td><td>107.61</td><td>144.56</td><td>144.56</td><td>144.56</td><td>15</td></tr>\n",
              "    <tr><td class='row_index'>3</td><td>2014</td><td>AK</td><td>21989</td><td>HIOS</td><td>6</td><td>2014-03-19<span class=sp>T</span>07:06:49</td><td>21989</td><td>93-0438772</td><td>2014-01-01</td><td>2014-12-31</td><td class=vellipsis>&hellip;</td><td><span class=na>NA</span></td><td><span class=na>NA</span></td><td><span class=na>NA</span></td><td><span class=na>NA</span></td><td>15</td></tr>\n",
              "    <tr><td class='row_index'>4</td><td>2014</td><td>AK</td><td>21989</td><td>HIOS</td><td>6</td><td>2014-03-19<span class=sp>T</span>07:06:49</td><td>21989</td><td>93-0438772</td><td>2014-01-01</td><td>2014-12-31</td><td class=vellipsis>&hellip;</td><td><span class=na>NA</span></td><td><span class=na>NA</span></td><td><span class=na>NA</span></td><td><span class=na>NA</span></td><td>16</td></tr>\n",
              "    <tr><td class='row_index'>5</td><td>2014</td><td>AK</td><td>21989</td><td>HIOS</td><td>6</td><td>2014-03-19<span class=sp>T</span>07:06:49</td><td>21989</td><td>93-0438772</td><td>2014-01-01</td><td>2014-12-31</td><td class=vellipsis>&hellip;</td><td>107.61</td><td>144.56</td><td>144.56</td><td>144.56</td><td>16</td></tr>\n",
              "    <tr><td class='row_index'>6</td><td>2014</td><td>AK</td><td>21989</td><td>HIOS</td><td>6</td><td>2014-03-19<span class=sp>T</span>07:06:49</td><td>21989</td><td>93-0438772</td><td>2014-01-01</td><td>2014-12-31</td><td class=vellipsis>&hellip;</td><td>94.5</td><td>126.95</td><td>126.95</td><td>126.95</td><td>17</td></tr>\n",
              "    <tr><td class='row_index'>7</td><td>2014</td><td>AK</td><td>21989</td><td>HIOS</td><td>6</td><td>2014-03-19<span class=sp>T</span>07:06:49</td><td>21989</td><td>93-0438772</td><td>2014-01-01</td><td>2014-12-31</td><td class=vellipsis>&hellip;</td><td><span class=na>NA</span></td><td><span class=na>NA</span></td><td><span class=na>NA</span></td><td><span class=na>NA</span></td><td>17</td></tr>\n",
              "    <tr><td class='row_index'>8</td><td>2014</td><td>AK</td><td>21989</td><td>HIOS</td><td>6</td><td>2014-03-19<span class=sp>T</span>07:06:49</td><td>21989</td><td>93-0438772</td><td>2014-01-01</td><td>2014-12-31</td><td class=vellipsis>&hellip;</td><td><span class=na>NA</span></td><td><span class=na>NA</span></td><td><span class=na>NA</span></td><td><span class=na>NA</span></td><td>18</td></tr>\n",
              "    <tr><td class='row_index'>9</td><td>2014</td><td>AK</td><td>21989</td><td>HIOS</td><td>6</td><td>2014-03-19<span class=sp>T</span>07:06:49</td><td>21989</td><td>93-0438772</td><td>2014-01-01</td><td>2014-12-31</td><td class=vellipsis>&hellip;</td><td>94.5</td><td>126.95</td><td>126.95</td><td>126.95</td><td>18</td></tr>\n",
              "    <tr><td class='row_index'>10</td><td>2014</td><td>AK</td><td>21989</td><td>HIOS</td><td>6</td><td>2014-03-19<span class=sp>T</span>07:06:49</td><td>21989</td><td>93-0438772</td><td>2014-01-01</td><td>2014-12-31</td><td class=vellipsis>&hellip;</td><td>94.5</td><td>126.95</td><td>126.95</td><td>126.95</td><td>19</td></tr>\n",
              "    <tr><td class='row_index'>11</td><td>2014</td><td>AK</td><td>21989</td><td>HIOS</td><td>6</td><td>2014-03-19<span class=sp>T</span>07:06:49</td><td>21989</td><td>93-0438772</td><td>2014-01-01</td><td>2014-12-31</td><td class=vellipsis>&hellip;</td><td><span class=na>NA</span></td><td><span class=na>NA</span></td><td><span class=na>NA</span></td><td><span class=na>NA</span></td><td>19</td></tr>\n",
              "    <tr><td class='row_index'>12</td><td>2014</td><td>AK</td><td>21989</td><td>HIOS</td><td>6</td><td>2014-03-19<span class=sp>T</span>07:06:49</td><td>21989</td><td>93-0438772</td><td>2014-01-01</td><td>2014-12-31</td><td class=vellipsis>&hellip;</td><td><span class=na>NA</span></td><td><span class=na>NA</span></td><td><span class=na>NA</span></td><td><span class=na>NA</span></td><td>20</td></tr>\n",
              "    <tr><td class='row_index'>13</td><td>2014</td><td>AK</td><td>21989</td><td>HIOS</td><td>6</td><td>2014-03-19<span class=sp>T</span>07:06:49</td><td>21989</td><td>93-0438772</td><td>2014-01-01</td><td>2014-12-31</td><td class=vellipsis>&hellip;</td><td><span class=na>NA</span></td><td><span class=na>NA</span></td><td><span class=na>NA</span></td><td><span class=na>NA</span></td><td>21</td></tr>\n",
              "    <tr><td class='row_index'>14</td><td>2014</td><td>AK</td><td>21989</td><td>HIOS</td><td>6</td><td>2014-03-19<span class=sp>T</span>07:06:49</td><td>21989</td><td>93-0438772</td><td>2014-01-01</td><td>2014-12-31</td><td class=vellipsis>&hellip;</td><td><span class=na>NA</span></td><td><span class=na>NA</span></td><td><span class=na>NA</span></td><td><span class=na>NA</span></td><td>22</td></tr>\n",
              "    <tr><td class='row_index'>&#x22EE;</td><td class='hellipsis'>&#x22EE;</td><td class='hellipsis'>&#x22EE;</td><td class='hellipsis'>&#x22EE;</td><td class='hellipsis'>&#x22EE;</td><td class='hellipsis'>&#x22EE;</td><td class='hellipsis'>&#x22EE;</td><td class='hellipsis'>&#x22EE;</td><td class='hellipsis'>&#x22EE;</td><td class='hellipsis'>&#x22EE;</td><td class='hellipsis'>&#x22EE;</td><td class='hellipsis'>&#x22F1;</td><td class='hellipsis'>&#x22EE;</td><td class='hellipsis'>&#x22EE;</td><td class='hellipsis'>&#x22EE;</td><td class='hellipsis'>&#x22EE;</td><td class='hellipsis'>&#x22EE;</td></tr>\n",
              "    <tr><td class='row_index'>12,694,440</td><td>2016</td><td>WV</td><td>96480</td><td>SERFF</td><td>2</td><td>2015-08-20<span class=sp>T</span>12:28:36</td><td>96480</td><td>13-5123390</td><td>2016-01-01</td><td>2016-12-31</td><td class=vellipsis>&hellip;</td><td><span class=na>NA</span></td><td><span class=na>NA</span></td><td><span class=na>NA</span></td><td><span class=na>NA</span></td><td>2033</td></tr>\n",
              "    <tr><td class='row_index'>12,694,441</td><td>2016</td><td>WV</td><td>96480</td><td>SERFF</td><td>2</td><td>2015-08-20<span class=sp>T</span>12:28:36</td><td>96480</td><td>13-5123390</td><td>2016-01-01</td><td>2016-12-31</td><td class=vellipsis>&hellip;</td><td><span class=na>NA</span></td><td><span class=na>NA</span></td><td><span class=na>NA</span></td><td><span class=na>NA</span></td><td>2034</td></tr>\n",
              "    <tr><td class='row_index'>12,694,442</td><td>2016</td><td>WV</td><td>96480</td><td>SERFF</td><td>2</td><td>2015-08-20<span class=sp>T</span>12:28:36</td><td>96480</td><td>13-5123390</td><td>2016-01-01</td><td>2016-12-31</td><td class=vellipsis>&hellip;</td><td><span class=na>NA</span></td><td><span class=na>NA</span></td><td><span class=na>NA</span></td><td><span class=na>NA</span></td><td>2035</td></tr>\n",
              "    <tr><td class='row_index'>12,694,443</td><td>2016</td><td>WV</td><td>96480</td><td>SERFF</td><td>2</td><td>2015-08-20<span class=sp>T</span>12:28:36</td><td>96480</td><td>13-5123390</td><td>2016-01-01</td><td>2016-12-31</td><td class=vellipsis>&hellip;</td><td><span class=na>NA</span></td><td><span class=na>NA</span></td><td><span class=na>NA</span></td><td><span class=na>NA</span></td><td>2036</td></tr>\n",
              "    <tr><td class='row_index'>12,694,444</td><td>2016</td><td>WV</td><td>96480</td><td>SERFF</td><td>2</td><td>2015-08-20<span class=sp>T</span>12:28:36</td><td>96480</td><td>13-5123390</td><td>2016-01-01</td><td>2016-12-31</td><td class=vellipsis>&hellip;</td><td><span class=na>NA</span></td><td><span class=na>NA</span></td><td><span class=na>NA</span></td><td><span class=na>NA</span></td><td>2037</td></tr>\n",
              "  </tbody>\n",
              "  </table>\n",
              "  <div class='footer'>\n",
              "    <div class='frame_dimensions'>12,694,445 rows &times; 24 columns</div>\n",
              "  </div>\n",
              "</div>\n"
            ]
          },
          "metadata": {},
          "execution_count": 15
        }
      ]
    },
    {
      "cell_type": "code",
      "source": [
        "%%time\n",
        "dt_df.head()"
      ],
      "metadata": {
        "id": "vmuIzUusLz8T",
        "colab": {
          "base_uri": "https://localhost:8080/",
          "height": 521
        },
        "outputId": "cce8a75f-fef7-489a-9ab6-663ddaea8293"
      },
      "execution_count": null,
      "outputs": [
        {
          "output_type": "stream",
          "name": "stdout",
          "text": [
            "CPU times: user 1.3 ms, sys: 75 µs, total: 1.38 ms\n",
            "Wall time: 10.8 ms\n"
          ]
        },
        {
          "output_type": "execute_result",
          "data": {
            "text/plain": [
              "<Frame#7f5cb4893db0 10x24>"
            ],
            "text/html": [
              "<div class='datatable'>\n",
              "  <table class='frame'>\n",
              "  <thead>\n",
              "    <tr class='colnames'><td class='row_index'></td><th>BusinessYear</th><th>StateCode</th><th>IssuerId</th><th>SourceName</th><th>VersionNum</th><th>ImportDate</th><th>IssuerId2</th><th>FederalTIN</th><th>RateEffectiveDate</th><th>RateExpirationDate</th><th class='vellipsis'>&hellip;</th><th>PrimarySubscriberAndThreeOrMoreDependents</th><th>CoupleAndOneDependent</th><th>CoupleAndTwoDependents</th><th>CoupleAndThreeOrMoreDependents</th><th>RowNumber</th></tr>\n",
              "    <tr class='coltypes'><td class='row_index'></td><td class='int' title='int32'>&#x25AA;&#x25AA;&#x25AA;&#x25AA;</td><td class='str' title='str32'>&#x25AA;&#x25AA;&#x25AA;&#x25AA;</td><td class='int' title='int32'>&#x25AA;&#x25AA;&#x25AA;&#x25AA;</td><td class='str' title='str32'>&#x25AA;&#x25AA;&#x25AA;&#x25AA;</td><td class='int' title='int32'>&#x25AA;&#x25AA;&#x25AA;&#x25AA;</td><td class='time' title='time64'>&#x25AA;&#x25AA;&#x25AA;&#x25AA;&#x25AA;&#x25AA;&#x25AA;&#x25AA;</td><td class='int' title='int32'>&#x25AA;&#x25AA;&#x25AA;&#x25AA;</td><td class='str' title='str32'>&#x25AA;&#x25AA;&#x25AA;&#x25AA;</td><td class='time' title='date32'>&#x25AA;&#x25AA;&#x25AA;&#x25AA;</td><td class='time' title='date32'>&#x25AA;&#x25AA;&#x25AA;&#x25AA;</td><td></td><td class='float' title='float64'>&#x25AA;&#x25AA;&#x25AA;&#x25AA;&#x25AA;&#x25AA;&#x25AA;&#x25AA;</td><td class='float' title='float64'>&#x25AA;&#x25AA;&#x25AA;&#x25AA;&#x25AA;&#x25AA;&#x25AA;&#x25AA;</td><td class='float' title='float64'>&#x25AA;&#x25AA;&#x25AA;&#x25AA;&#x25AA;&#x25AA;&#x25AA;&#x25AA;</td><td class='float' title='float64'>&#x25AA;&#x25AA;&#x25AA;&#x25AA;&#x25AA;&#x25AA;&#x25AA;&#x25AA;</td><td class='int' title='int32'>&#x25AA;&#x25AA;&#x25AA;&#x25AA;</td></tr>\n",
              "  </thead>\n",
              "  <tbody>\n",
              "    <tr><td class='row_index'>0</td><td>2014</td><td>AK</td><td>21989</td><td>HIOS</td><td>6</td><td>2014-03-19<span class=sp>T</span>07:06:49</td><td>21989</td><td>93-0438772</td><td>2014-01-01</td><td>2014-12-31</td><td class=vellipsis>&hellip;</td><td><span class=na>NA</span></td><td><span class=na>NA</span></td><td><span class=na>NA</span></td><td><span class=na>NA</span></td><td>14</td></tr>\n",
              "    <tr><td class='row_index'>1</td><td>2014</td><td>AK</td><td>21989</td><td>HIOS</td><td>6</td><td>2014-03-19<span class=sp>T</span>07:06:49</td><td>21989</td><td>93-0438772</td><td>2014-01-01</td><td>2014-12-31</td><td class=vellipsis>&hellip;</td><td>107.61</td><td>144.56</td><td>144.56</td><td>144.56</td><td>14</td></tr>\n",
              "    <tr><td class='row_index'>2</td><td>2014</td><td>AK</td><td>21989</td><td>HIOS</td><td>6</td><td>2014-03-19<span class=sp>T</span>07:06:49</td><td>21989</td><td>93-0438772</td><td>2014-01-01</td><td>2014-12-31</td><td class=vellipsis>&hellip;</td><td>107.61</td><td>144.56</td><td>144.56</td><td>144.56</td><td>15</td></tr>\n",
              "    <tr><td class='row_index'>3</td><td>2014</td><td>AK</td><td>21989</td><td>HIOS</td><td>6</td><td>2014-03-19<span class=sp>T</span>07:06:49</td><td>21989</td><td>93-0438772</td><td>2014-01-01</td><td>2014-12-31</td><td class=vellipsis>&hellip;</td><td><span class=na>NA</span></td><td><span class=na>NA</span></td><td><span class=na>NA</span></td><td><span class=na>NA</span></td><td>15</td></tr>\n",
              "    <tr><td class='row_index'>4</td><td>2014</td><td>AK</td><td>21989</td><td>HIOS</td><td>6</td><td>2014-03-19<span class=sp>T</span>07:06:49</td><td>21989</td><td>93-0438772</td><td>2014-01-01</td><td>2014-12-31</td><td class=vellipsis>&hellip;</td><td><span class=na>NA</span></td><td><span class=na>NA</span></td><td><span class=na>NA</span></td><td><span class=na>NA</span></td><td>16</td></tr>\n",
              "    <tr><td class='row_index'>5</td><td>2014</td><td>AK</td><td>21989</td><td>HIOS</td><td>6</td><td>2014-03-19<span class=sp>T</span>07:06:49</td><td>21989</td><td>93-0438772</td><td>2014-01-01</td><td>2014-12-31</td><td class=vellipsis>&hellip;</td><td>107.61</td><td>144.56</td><td>144.56</td><td>144.56</td><td>16</td></tr>\n",
              "    <tr><td class='row_index'>6</td><td>2014</td><td>AK</td><td>21989</td><td>HIOS</td><td>6</td><td>2014-03-19<span class=sp>T</span>07:06:49</td><td>21989</td><td>93-0438772</td><td>2014-01-01</td><td>2014-12-31</td><td class=vellipsis>&hellip;</td><td>94.5</td><td>126.95</td><td>126.95</td><td>126.95</td><td>17</td></tr>\n",
              "    <tr><td class='row_index'>7</td><td>2014</td><td>AK</td><td>21989</td><td>HIOS</td><td>6</td><td>2014-03-19<span class=sp>T</span>07:06:49</td><td>21989</td><td>93-0438772</td><td>2014-01-01</td><td>2014-12-31</td><td class=vellipsis>&hellip;</td><td><span class=na>NA</span></td><td><span class=na>NA</span></td><td><span class=na>NA</span></td><td><span class=na>NA</span></td><td>17</td></tr>\n",
              "    <tr><td class='row_index'>8</td><td>2014</td><td>AK</td><td>21989</td><td>HIOS</td><td>6</td><td>2014-03-19<span class=sp>T</span>07:06:49</td><td>21989</td><td>93-0438772</td><td>2014-01-01</td><td>2014-12-31</td><td class=vellipsis>&hellip;</td><td><span class=na>NA</span></td><td><span class=na>NA</span></td><td><span class=na>NA</span></td><td><span class=na>NA</span></td><td>18</td></tr>\n",
              "    <tr><td class='row_index'>9</td><td>2014</td><td>AK</td><td>21989</td><td>HIOS</td><td>6</td><td>2014-03-19<span class=sp>T</span>07:06:49</td><td>21989</td><td>93-0438772</td><td>2014-01-01</td><td>2014-12-31</td><td class=vellipsis>&hellip;</td><td>94.5</td><td>126.95</td><td>126.95</td><td>126.95</td><td>18</td></tr>\n",
              "  </tbody>\n",
              "  </table>\n",
              "  <div class='footer'>\n",
              "    <div class='frame_dimensions'>10 rows &times; 24 columns</div>\n",
              "  </div>\n",
              "</div>\n"
            ]
          },
          "metadata": {},
          "execution_count": 16
        }
      ]
    },
    {
      "cell_type": "markdown",
      "source": [
        "**Basic Info**"
      ],
      "metadata": {
        "id": "8YUSg11r1UJD"
      }
    },
    {
      "cell_type": "code",
      "source": [
        "dt_df.shape"
      ],
      "metadata": {
        "colab": {
          "base_uri": "https://localhost:8080/"
        },
        "id": "cBtF6dsvgp6A",
        "outputId": "54397fd8-48a2-4b1a-cf0f-981e949b2f5d"
      },
      "execution_count": null,
      "outputs": [
        {
          "output_type": "execute_result",
          "data": {
            "text/plain": [
              "(12694445, 24)"
            ]
          },
          "metadata": {},
          "execution_count": 17
        }
      ]
    },
    {
      "cell_type": "code",
      "source": [
        "# To get the column names\n",
        "dt_df.names[:10]"
      ],
      "metadata": {
        "colab": {
          "base_uri": "https://localhost:8080/"
        },
        "id": "2wktSReYgz1D",
        "outputId": "12189bf9-f0d9-4a28-b784-acecaf7242a5"
      },
      "execution_count": null,
      "outputs": [
        {
          "output_type": "execute_result",
          "data": {
            "text/plain": [
              "('BusinessYear',\n",
              " 'StateCode',\n",
              " 'IssuerId',\n",
              " 'SourceName',\n",
              " 'VersionNum',\n",
              " 'ImportDate',\n",
              " 'IssuerId2',\n",
              " 'FederalTIN',\n",
              " 'RateEffectiveDate',\n",
              " 'RateExpirationDate')"
            ]
          },
          "metadata": {},
          "execution_count": 18
        }
      ]
    },
    {
      "cell_type": "markdown",
      "source": [
        "**Summary Statistics**"
      ],
      "metadata": {
        "id": "1T_ySCoWg_RU"
      }
    },
    {
      "cell_type": "code",
      "source": [
        "%%time\n",
        "dt_df['IndividualRate'].mean()"
      ],
      "metadata": {
        "colab": {
          "base_uri": "https://localhost:8080/",
          "height": 135
        },
        "id": "Nj1Flt5ihAvc",
        "outputId": "26e91d8e-ec12-424b-e4ad-357daa619b04"
      },
      "execution_count": null,
      "outputs": [
        {
          "output_type": "stream",
          "name": "stdout",
          "text": [
            "CPU times: user 228 ms, sys: 424 µs, total: 228 ms\n",
            "Wall time: 125 ms\n"
          ]
        },
        {
          "output_type": "execute_result",
          "data": {
            "text/plain": [
              "<Frame#7f5cb45df2d0 1x1>"
            ],
            "text/html": [
              "<div class='datatable'>\n",
              "  <table class='frame'>\n",
              "  <thead>\n",
              "    <tr class='colnames'><td class='row_index'></td><th>IndividualRate</th></tr>\n",
              "    <tr class='coltypes'><td class='row_index'></td><td class='float' title='float64'>&#x25AA;&#x25AA;&#x25AA;&#x25AA;&#x25AA;&#x25AA;&#x25AA;&#x25AA;</td></tr>\n",
              "  </thead>\n",
              "  <tbody>\n",
              "    <tr><td class='row_index'>0</td><td>4098.03</td></tr>\n",
              "  </tbody>\n",
              "  </table>\n",
              "  <div class='footer'>\n",
              "    <div class='frame_dimensions'>1 row &times; 1 column</div>\n",
              "  </div>\n",
              "</div>\n"
            ]
          },
          "metadata": {},
          "execution_count": 19
        }
      ]
    },
    {
      "cell_type": "code",
      "source": [
        "%%time\n",
        "dt_df['IndividualRate'].sd()"
      ],
      "metadata": {
        "colab": {
          "base_uri": "https://localhost:8080/",
          "height": 135
        },
        "id": "0YBT58Q4t5cg",
        "outputId": "cee09824-3177-4ed8-9a5c-a11cab5e47db"
      },
      "execution_count": null,
      "outputs": [
        {
          "output_type": "stream",
          "name": "stdout",
          "text": [
            "CPU times: user 42 µs, sys: 11 µs, total: 53 µs\n",
            "Wall time: 56.3 µs\n"
          ]
        },
        {
          "output_type": "execute_result",
          "data": {
            "text/plain": [
              "<Frame#7f5cb45df180 1x1>"
            ],
            "text/html": [
              "<div class='datatable'>\n",
              "  <table class='frame'>\n",
              "  <thead>\n",
              "    <tr class='colnames'><td class='row_index'></td><th>IndividualRate</th></tr>\n",
              "    <tr class='coltypes'><td class='row_index'></td><td class='float' title='float64'>&#x25AA;&#x25AA;&#x25AA;&#x25AA;&#x25AA;&#x25AA;&#x25AA;&#x25AA;</td></tr>\n",
              "  </thead>\n",
              "  <tbody>\n",
              "    <tr><td class='row_index'>0</td><td>61222.7</td></tr>\n",
              "  </tbody>\n",
              "  </table>\n",
              "  <div class='footer'>\n",
              "    <div class='frame_dimensions'>1 row &times; 1 column</div>\n",
              "  </div>\n",
              "</div>\n"
            ]
          },
          "metadata": {},
          "execution_count": 20
        }
      ]
    },
    {
      "cell_type": "code",
      "source": [
        "%%time\n",
        "dt_df['IssuerId'].nunique()"
      ],
      "metadata": {
        "colab": {
          "base_uri": "https://localhost:8080/",
          "height": 135
        },
        "id": "3gbfrxMhuoLI",
        "outputId": "4f75c720-1eaf-491d-cd23-a9cc634d3591"
      },
      "execution_count": null,
      "outputs": [
        {
          "output_type": "stream",
          "name": "stdout",
          "text": [
            "CPU times: user 432 ms, sys: 91.5 ms, total: 523 ms\n",
            "Wall time: 284 ms\n"
          ]
        },
        {
          "output_type": "execute_result",
          "data": {
            "text/plain": [
              "<Frame#7f5cb45c0fc0 1x1>"
            ],
            "text/html": [
              "<div class='datatable'>\n",
              "  <table class='frame'>\n",
              "  <thead>\n",
              "    <tr class='colnames'><td class='row_index'></td><th>IssuerId</th></tr>\n",
              "    <tr class='coltypes'><td class='row_index'></td><td class='int' title='int64'>&#x25AA;&#x25AA;&#x25AA;&#x25AA;&#x25AA;&#x25AA;&#x25AA;&#x25AA;</td></tr>\n",
              "  </thead>\n",
              "  <tbody>\n",
              "    <tr><td class='row_index'>0</td><td>910</td></tr>\n",
              "  </tbody>\n",
              "  </table>\n",
              "  <div class='footer'>\n",
              "    <div class='frame_dimensions'>1 row &times; 1 column</div>\n",
              "  </div>\n",
              "</div>\n"
            ]
          },
          "metadata": {},
          "execution_count": 21
        }
      ]
    },
    {
      "cell_type": "markdown",
      "source": [
        "**GroupBy**"
      ],
      "metadata": {
        "id": "0X4s4smR1Xlv"
      }
    },
    {
      "cell_type": "code",
      "source": [
        "%%time\n",
        "gb_dt = dt_df[:, dt.mean(dt.f.IndividualRate), dt.by(dt.f.IssuerId)]"
      ],
      "metadata": {
        "colab": {
          "base_uri": "https://localhost:8080/"
        },
        "id": "Qq16nXvkxmec",
        "outputId": "9dd1b625-ade7-4862-8be1-a16bcebb54ea"
      },
      "execution_count": null,
      "outputs": [
        {
          "output_type": "stream",
          "name": "stdout",
          "text": [
            "CPU times: user 470 ms, sys: 9.9 ms, total: 480 ms\n",
            "Wall time: 279 ms\n"
          ]
        }
      ]
    },
    {
      "cell_type": "markdown",
      "source": [
        "**Sorting the Frame**"
      ],
      "metadata": {
        "id": "I-9mRw4xgW4Y"
      }
    },
    {
      "cell_type": "code",
      "source": [
        "%%time\n",
        "dt_df.sort(\"VersionNum\")"
      ],
      "metadata": {
        "colab": {
          "base_uri": "https://localhost:8080/",
          "height": 929
        },
        "id": "Ts7t_impe40k",
        "outputId": "3c8f809e-59b3-47b1-887f-1f4d02872747"
      },
      "execution_count": null,
      "outputs": [
        {
          "output_type": "stream",
          "name": "stdout",
          "text": [
            "CPU times: user 217 ms, sys: 34.1 ms, total: 251 ms\n",
            "Wall time: 157 ms\n"
          ]
        },
        {
          "output_type": "execute_result",
          "data": {
            "text/plain": [
              "<Frame#7f5cb4b78600 12694445x24>"
            ],
            "text/html": [
              "<div class='datatable'>\n",
              "  <table class='frame'>\n",
              "  <thead>\n",
              "    <tr class='colnames'><td class='row_index'></td><th>BusinessYear</th><th>StateCode</th><th>IssuerId</th><th>SourceName</th><th>VersionNum</th><th>ImportDate</th><th>IssuerId2</th><th>FederalTIN</th><th>RateEffectiveDate</th><th>RateExpirationDate</th><th class='vellipsis'>&hellip;</th><th>PrimarySubscriberAndThreeOrMoreDependents</th><th>CoupleAndOneDependent</th><th>CoupleAndTwoDependents</th><th>CoupleAndThreeOrMoreDependents</th><th>RowNumber</th></tr>\n",
              "    <tr class='coltypes'><td class='row_index'></td><td class='int' title='int32'>&#x25AA;&#x25AA;&#x25AA;&#x25AA;</td><td class='str' title='str32'>&#x25AA;&#x25AA;&#x25AA;&#x25AA;</td><td class='int' title='int32'>&#x25AA;&#x25AA;&#x25AA;&#x25AA;</td><td class='str' title='str32'>&#x25AA;&#x25AA;&#x25AA;&#x25AA;</td><td class='int' title='int32'>&#x25AA;&#x25AA;&#x25AA;&#x25AA;</td><td class='time' title='time64'>&#x25AA;&#x25AA;&#x25AA;&#x25AA;&#x25AA;&#x25AA;&#x25AA;&#x25AA;</td><td class='int' title='int32'>&#x25AA;&#x25AA;&#x25AA;&#x25AA;</td><td class='str' title='str32'>&#x25AA;&#x25AA;&#x25AA;&#x25AA;</td><td class='time' title='date32'>&#x25AA;&#x25AA;&#x25AA;&#x25AA;</td><td class='time' title='date32'>&#x25AA;&#x25AA;&#x25AA;&#x25AA;</td><td></td><td class='float' title='float64'>&#x25AA;&#x25AA;&#x25AA;&#x25AA;&#x25AA;&#x25AA;&#x25AA;&#x25AA;</td><td class='float' title='float64'>&#x25AA;&#x25AA;&#x25AA;&#x25AA;&#x25AA;&#x25AA;&#x25AA;&#x25AA;</td><td class='float' title='float64'>&#x25AA;&#x25AA;&#x25AA;&#x25AA;&#x25AA;&#x25AA;&#x25AA;&#x25AA;</td><td class='float' title='float64'>&#x25AA;&#x25AA;&#x25AA;&#x25AA;&#x25AA;&#x25AA;&#x25AA;&#x25AA;</td><td class='int' title='int32'>&#x25AA;&#x25AA;&#x25AA;&#x25AA;</td></tr>\n",
              "  </thead>\n",
              "  <tbody>\n",
              "    <tr><td class='row_index'>0</td><td>2014</td><td>AK</td><td>45858</td><td>HIOS</td><td>1</td><td>2013-06-04<span class=sp>T</span>08:25:28</td><td>45858</td><td>47-0098400</td><td>2014-01-01</td><td>2014-12-31</td><td class=vellipsis>&hellip;</td><td><span class=na>NA</span></td><td><span class=na>NA</span></td><td><span class=na>NA</span></td><td><span class=na>NA</span></td><td>14</td></tr>\n",
              "    <tr><td class='row_index'>1</td><td>2014</td><td>AK</td><td>45858</td><td>HIOS</td><td>1</td><td>2013-06-04<span class=sp>T</span>08:25:28</td><td>45858</td><td>47-0098400</td><td>2014-01-01</td><td>2014-12-31</td><td class=vellipsis>&hellip;</td><td><span class=na>NA</span></td><td><span class=na>NA</span></td><td><span class=na>NA</span></td><td><span class=na>NA</span></td><td>15</td></tr>\n",
              "    <tr><td class='row_index'>2</td><td>2014</td><td>AK</td><td>45858</td><td>HIOS</td><td>1</td><td>2013-06-04<span class=sp>T</span>08:25:28</td><td>45858</td><td>47-0098400</td><td>2014-01-01</td><td>2014-12-31</td><td class=vellipsis>&hellip;</td><td><span class=na>NA</span></td><td><span class=na>NA</span></td><td><span class=na>NA</span></td><td><span class=na>NA</span></td><td>16</td></tr>\n",
              "    <tr><td class='row_index'>3</td><td>2014</td><td>AK</td><td>45858</td><td>HIOS</td><td>1</td><td>2013-06-04<span class=sp>T</span>08:25:28</td><td>45858</td><td>47-0098400</td><td>2014-01-01</td><td>2014-12-31</td><td class=vellipsis>&hellip;</td><td><span class=na>NA</span></td><td><span class=na>NA</span></td><td><span class=na>NA</span></td><td><span class=na>NA</span></td><td>17</td></tr>\n",
              "    <tr><td class='row_index'>4</td><td>2014</td><td>AK</td><td>45858</td><td>HIOS</td><td>1</td><td>2013-06-04<span class=sp>T</span>08:25:28</td><td>45858</td><td>47-0098400</td><td>2014-01-01</td><td>2014-12-31</td><td class=vellipsis>&hellip;</td><td><span class=na>NA</span></td><td><span class=na>NA</span></td><td><span class=na>NA</span></td><td><span class=na>NA</span></td><td>18</td></tr>\n",
              "    <tr><td class='row_index'>5</td><td>2014</td><td>AK</td><td>45858</td><td>HIOS</td><td>1</td><td>2013-06-04<span class=sp>T</span>08:25:28</td><td>45858</td><td>47-0098400</td><td>2014-01-01</td><td>2014-12-31</td><td class=vellipsis>&hellip;</td><td><span class=na>NA</span></td><td><span class=na>NA</span></td><td><span class=na>NA</span></td><td><span class=na>NA</span></td><td>19</td></tr>\n",
              "    <tr><td class='row_index'>6</td><td>2014</td><td>AK</td><td>45858</td><td>HIOS</td><td>1</td><td>2013-06-04<span class=sp>T</span>08:25:28</td><td>45858</td><td>47-0098400</td><td>2014-01-01</td><td>2014-12-31</td><td class=vellipsis>&hellip;</td><td><span class=na>NA</span></td><td><span class=na>NA</span></td><td><span class=na>NA</span></td><td><span class=na>NA</span></td><td>20</td></tr>\n",
              "    <tr><td class='row_index'>7</td><td>2014</td><td>AK</td><td>45858</td><td>HIOS</td><td>1</td><td>2013-06-04<span class=sp>T</span>08:25:28</td><td>45858</td><td>47-0098400</td><td>2014-01-01</td><td>2014-12-31</td><td class=vellipsis>&hellip;</td><td><span class=na>NA</span></td><td><span class=na>NA</span></td><td><span class=na>NA</span></td><td><span class=na>NA</span></td><td>21</td></tr>\n",
              "    <tr><td class='row_index'>8</td><td>2014</td><td>AK</td><td>45858</td><td>HIOS</td><td>1</td><td>2013-06-04<span class=sp>T</span>08:25:28</td><td>45858</td><td>47-0098400</td><td>2014-01-01</td><td>2014-12-31</td><td class=vellipsis>&hellip;</td><td><span class=na>NA</span></td><td><span class=na>NA</span></td><td><span class=na>NA</span></td><td><span class=na>NA</span></td><td>22</td></tr>\n",
              "    <tr><td class='row_index'>9</td><td>2014</td><td>AK</td><td>45858</td><td>HIOS</td><td>1</td><td>2013-06-04<span class=sp>T</span>08:25:28</td><td>45858</td><td>47-0098400</td><td>2014-01-01</td><td>2014-12-31</td><td class=vellipsis>&hellip;</td><td><span class=na>NA</span></td><td><span class=na>NA</span></td><td><span class=na>NA</span></td><td><span class=na>NA</span></td><td>23</td></tr>\n",
              "    <tr><td class='row_index'>10</td><td>2014</td><td>AK</td><td>45858</td><td>HIOS</td><td>1</td><td>2013-06-04<span class=sp>T</span>08:25:28</td><td>45858</td><td>47-0098400</td><td>2014-01-01</td><td>2014-12-31</td><td class=vellipsis>&hellip;</td><td><span class=na>NA</span></td><td><span class=na>NA</span></td><td><span class=na>NA</span></td><td><span class=na>NA</span></td><td>24</td></tr>\n",
              "    <tr><td class='row_index'>11</td><td>2014</td><td>AK</td><td>45858</td><td>HIOS</td><td>1</td><td>2013-06-04<span class=sp>T</span>08:25:28</td><td>45858</td><td>47-0098400</td><td>2014-01-01</td><td>2014-12-31</td><td class=vellipsis>&hellip;</td><td><span class=na>NA</span></td><td><span class=na>NA</span></td><td><span class=na>NA</span></td><td><span class=na>NA</span></td><td>25</td></tr>\n",
              "    <tr><td class='row_index'>12</td><td>2014</td><td>AK</td><td>45858</td><td>HIOS</td><td>1</td><td>2013-06-04<span class=sp>T</span>08:25:28</td><td>45858</td><td>47-0098400</td><td>2014-01-01</td><td>2014-12-31</td><td class=vellipsis>&hellip;</td><td><span class=na>NA</span></td><td><span class=na>NA</span></td><td><span class=na>NA</span></td><td><span class=na>NA</span></td><td>26</td></tr>\n",
              "    <tr><td class='row_index'>13</td><td>2014</td><td>AK</td><td>45858</td><td>HIOS</td><td>1</td><td>2013-06-04<span class=sp>T</span>08:25:28</td><td>45858</td><td>47-0098400</td><td>2014-01-01</td><td>2014-12-31</td><td class=vellipsis>&hellip;</td><td><span class=na>NA</span></td><td><span class=na>NA</span></td><td><span class=na>NA</span></td><td><span class=na>NA</span></td><td>27</td></tr>\n",
              "    <tr><td class='row_index'>14</td><td>2014</td><td>AK</td><td>45858</td><td>HIOS</td><td>1</td><td>2013-06-04<span class=sp>T</span>08:25:28</td><td>45858</td><td>47-0098400</td><td>2014-01-01</td><td>2014-12-31</td><td class=vellipsis>&hellip;</td><td><span class=na>NA</span></td><td><span class=na>NA</span></td><td><span class=na>NA</span></td><td><span class=na>NA</span></td><td>28</td></tr>\n",
              "    <tr><td class='row_index'>&#x22EE;</td><td class='hellipsis'>&#x22EE;</td><td class='hellipsis'>&#x22EE;</td><td class='hellipsis'>&#x22EE;</td><td class='hellipsis'>&#x22EE;</td><td class='hellipsis'>&#x22EE;</td><td class='hellipsis'>&#x22EE;</td><td class='hellipsis'>&#x22EE;</td><td class='hellipsis'>&#x22EE;</td><td class='hellipsis'>&#x22EE;</td><td class='hellipsis'>&#x22EE;</td><td class='hellipsis'>&#x22F1;</td><td class='hellipsis'>&#x22EE;</td><td class='hellipsis'>&#x22EE;</td><td class='hellipsis'>&#x22EE;</td><td class='hellipsis'>&#x22EE;</td><td class='hellipsis'>&#x22EE;</td></tr>\n",
              "    <tr><td class='row_index'>12,694,440</td><td>2016</td><td>VA</td><td>88380</td><td>SERFF</td><td>24</td><td>2015-10-21<span class=sp>T</span>17:48:08</td><td>88380</td><td>54-1356687</td><td>2016-01-01</td><td>2016-12-31</td><td class=vellipsis>&hellip;</td><td><span class=na>NA</span></td><td><span class=na>NA</span></td><td><span class=na>NA</span></td><td><span class=na>NA</span></td><td>7185</td></tr>\n",
              "    <tr><td class='row_index'>12,694,441</td><td>2016</td><td>VA</td><td>88380</td><td>SERFF</td><td>24</td><td>2015-10-21<span class=sp>T</span>17:48:08</td><td>88380</td><td>54-1356687</td><td>2016-01-01</td><td>2016-12-31</td><td class=vellipsis>&hellip;</td><td><span class=na>NA</span></td><td><span class=na>NA</span></td><td><span class=na>NA</span></td><td><span class=na>NA</span></td><td>7186</td></tr>\n",
              "    <tr><td class='row_index'>12,694,442</td><td>2016</td><td>VA</td><td>88380</td><td>SERFF</td><td>24</td><td>2015-10-21<span class=sp>T</span>17:48:08</td><td>88380</td><td>54-1356687</td><td>2016-01-01</td><td>2016-12-31</td><td class=vellipsis>&hellip;</td><td><span class=na>NA</span></td><td><span class=na>NA</span></td><td><span class=na>NA</span></td><td><span class=na>NA</span></td><td>7187</td></tr>\n",
              "    <tr><td class='row_index'>12,694,443</td><td>2016</td><td>VA</td><td>88380</td><td>SERFF</td><td>24</td><td>2015-10-21<span class=sp>T</span>17:48:08</td><td>88380</td><td>54-1356687</td><td>2016-01-01</td><td>2016-12-31</td><td class=vellipsis>&hellip;</td><td><span class=na>NA</span></td><td><span class=na>NA</span></td><td><span class=na>NA</span></td><td><span class=na>NA</span></td><td>7188</td></tr>\n",
              "    <tr><td class='row_index'>12,694,444</td><td>2016</td><td>VA</td><td>88380</td><td>SERFF</td><td>24</td><td>2015-10-21<span class=sp>T</span>17:48:08</td><td>88380</td><td>54-1356687</td><td>2016-01-01</td><td>2016-12-31</td><td class=vellipsis>&hellip;</td><td><span class=na>NA</span></td><td><span class=na>NA</span></td><td><span class=na>NA</span></td><td><span class=na>NA</span></td><td>7189</td></tr>\n",
              "  </tbody>\n",
              "  </table>\n",
              "  <div class='footer'>\n",
              "    <div class='frame_dimensions'>12,694,445 rows &times; 24 columns</div>\n",
              "  </div>\n",
              "</div>\n"
            ]
          },
          "metadata": {},
          "execution_count": 23
        }
      ]
    },
    {
      "cell_type": "markdown",
      "source": [
        "> **Summary of Data Table**\n",
        "\n",
        "*   Read File: 16.2 s\n",
        "*   Head: 10.8 ms\n",
        "*   Mean(IndividualRate): 125 ms\n",
        "*   Sdt(IndividualRate): 56.3 µs\n",
        "*   Unique IssuerID: 284 ms\n",
        "*   Groupby Mean: 279 ms\n",
        "*   Sort: 157 ms\n",
        "\n",
        "\n"
      ],
      "metadata": {
        "id": "No2KQ7Jdh8My"
      }
    },
    {
      "cell_type": "markdown",
      "source": [
        "## **Comparisons Between Pandas and Data Table**"
      ],
      "metadata": {
        "id": "kzsW6IQo141q"
      }
    },
    {
      "cell_type": "code",
      "source": [
        "import pandas as pd\n",
        "import numpy as np\n",
        "import matplotlib.pyplot as plt\n",
        "\n",
        "tests = ['read', 'head', 'mean', 'std', 'unique', 'groupby', 'sort']\n",
        "results = pd.DataFrame({'Pandas': [43500, 0.175, 56, 148, 79.9, 294, 2500], 'DataTable': [16200, 10.8, 125, 0.0563, 284, 279, 157]}, index = tests)\n",
        "results"
      ],
      "metadata": {
        "id": "yL0fKmjD2D9T",
        "colab": {
          "base_uri": "https://localhost:8080/",
          "height": 269
        },
        "outputId": "6bf04551-4742-49ad-90c1-022d4d2dd49a"
      },
      "execution_count": null,
      "outputs": [
        {
          "output_type": "execute_result",
          "data": {
            "text/plain": [
              "            Pandas   DataTable\n",
              "read     43500.000  16200.0000\n",
              "head         0.175     10.8000\n",
              "mean        56.000    125.0000\n",
              "std        148.000      0.0563\n",
              "unique      79.900    284.0000\n",
              "groupby    294.000    279.0000\n",
              "sort      2500.000    157.0000"
            ],
            "text/html": [
              "\n",
              "  <div id=\"df-871a3215-c7f9-4abf-b45b-76eb61ef567b\">\n",
              "    <div class=\"colab-df-container\">\n",
              "      <div>\n",
              "<style scoped>\n",
              "    .dataframe tbody tr th:only-of-type {\n",
              "        vertical-align: middle;\n",
              "    }\n",
              "\n",
              "    .dataframe tbody tr th {\n",
              "        vertical-align: top;\n",
              "    }\n",
              "\n",
              "    .dataframe thead th {\n",
              "        text-align: right;\n",
              "    }\n",
              "</style>\n",
              "<table border=\"1\" class=\"dataframe\">\n",
              "  <thead>\n",
              "    <tr style=\"text-align: right;\">\n",
              "      <th></th>\n",
              "      <th>Pandas</th>\n",
              "      <th>DataTable</th>\n",
              "    </tr>\n",
              "  </thead>\n",
              "  <tbody>\n",
              "    <tr>\n",
              "      <th>read</th>\n",
              "      <td>43500.000</td>\n",
              "      <td>16200.0000</td>\n",
              "    </tr>\n",
              "    <tr>\n",
              "      <th>head</th>\n",
              "      <td>0.175</td>\n",
              "      <td>10.8000</td>\n",
              "    </tr>\n",
              "    <tr>\n",
              "      <th>mean</th>\n",
              "      <td>56.000</td>\n",
              "      <td>125.0000</td>\n",
              "    </tr>\n",
              "    <tr>\n",
              "      <th>std</th>\n",
              "      <td>148.000</td>\n",
              "      <td>0.0563</td>\n",
              "    </tr>\n",
              "    <tr>\n",
              "      <th>unique</th>\n",
              "      <td>79.900</td>\n",
              "      <td>284.0000</td>\n",
              "    </tr>\n",
              "    <tr>\n",
              "      <th>groupby</th>\n",
              "      <td>294.000</td>\n",
              "      <td>279.0000</td>\n",
              "    </tr>\n",
              "    <tr>\n",
              "      <th>sort</th>\n",
              "      <td>2500.000</td>\n",
              "      <td>157.0000</td>\n",
              "    </tr>\n",
              "  </tbody>\n",
              "</table>\n",
              "</div>\n",
              "      <button class=\"colab-df-convert\" onclick=\"convertToInteractive('df-871a3215-c7f9-4abf-b45b-76eb61ef567b')\"\n",
              "              title=\"Convert this dataframe to an interactive table.\"\n",
              "              style=\"display:none;\">\n",
              "        \n",
              "  <svg xmlns=\"http://www.w3.org/2000/svg\" height=\"24px\"viewBox=\"0 0 24 24\"\n",
              "       width=\"24px\">\n",
              "    <path d=\"M0 0h24v24H0V0z\" fill=\"none\"/>\n",
              "    <path d=\"M18.56 5.44l.94 2.06.94-2.06 2.06-.94-2.06-.94-.94-2.06-.94 2.06-2.06.94zm-11 1L8.5 8.5l.94-2.06 2.06-.94-2.06-.94L8.5 2.5l-.94 2.06-2.06.94zm10 10l.94 2.06.94-2.06 2.06-.94-2.06-.94-.94-2.06-.94 2.06-2.06.94z\"/><path d=\"M17.41 7.96l-1.37-1.37c-.4-.4-.92-.59-1.43-.59-.52 0-1.04.2-1.43.59L10.3 9.45l-7.72 7.72c-.78.78-.78 2.05 0 2.83L4 21.41c.39.39.9.59 1.41.59.51 0 1.02-.2 1.41-.59l7.78-7.78 2.81-2.81c.8-.78.8-2.07 0-2.86zM5.41 20L4 18.59l7.72-7.72 1.47 1.35L5.41 20z\"/>\n",
              "  </svg>\n",
              "      </button>\n",
              "      \n",
              "  <style>\n",
              "    .colab-df-container {\n",
              "      display:flex;\n",
              "      flex-wrap:wrap;\n",
              "      gap: 12px;\n",
              "    }\n",
              "\n",
              "    .colab-df-convert {\n",
              "      background-color: #E8F0FE;\n",
              "      border: none;\n",
              "      border-radius: 50%;\n",
              "      cursor: pointer;\n",
              "      display: none;\n",
              "      fill: #1967D2;\n",
              "      height: 32px;\n",
              "      padding: 0 0 0 0;\n",
              "      width: 32px;\n",
              "    }\n",
              "\n",
              "    .colab-df-convert:hover {\n",
              "      background-color: #E2EBFA;\n",
              "      box-shadow: 0px 1px 2px rgba(60, 64, 67, 0.3), 0px 1px 3px 1px rgba(60, 64, 67, 0.15);\n",
              "      fill: #174EA6;\n",
              "    }\n",
              "\n",
              "    [theme=dark] .colab-df-convert {\n",
              "      background-color: #3B4455;\n",
              "      fill: #D2E3FC;\n",
              "    }\n",
              "\n",
              "    [theme=dark] .colab-df-convert:hover {\n",
              "      background-color: #434B5C;\n",
              "      box-shadow: 0px 1px 3px 1px rgba(0, 0, 0, 0.15);\n",
              "      filter: drop-shadow(0px 1px 2px rgba(0, 0, 0, 0.3));\n",
              "      fill: #FFFFFF;\n",
              "    }\n",
              "  </style>\n",
              "\n",
              "      <script>\n",
              "        const buttonEl =\n",
              "          document.querySelector('#df-871a3215-c7f9-4abf-b45b-76eb61ef567b button.colab-df-convert');\n",
              "        buttonEl.style.display =\n",
              "          google.colab.kernel.accessAllowed ? 'block' : 'none';\n",
              "\n",
              "        async function convertToInteractive(key) {\n",
              "          const element = document.querySelector('#df-871a3215-c7f9-4abf-b45b-76eb61ef567b');\n",
              "          const dataTable =\n",
              "            await google.colab.kernel.invokeFunction('convertToInteractive',\n",
              "                                                     [key], {});\n",
              "          if (!dataTable) return;\n",
              "\n",
              "          const docLinkHtml = 'Like what you see? Visit the ' +\n",
              "            '<a target=\"_blank\" href=https://colab.research.google.com/notebooks/data_table.ipynb>data table notebook</a>'\n",
              "            + ' to learn more about interactive tables.';\n",
              "          element.innerHTML = '';\n",
              "          dataTable['output_type'] = 'display_data';\n",
              "          await google.colab.output.renderOutput(dataTable, element);\n",
              "          const docLink = document.createElement('div');\n",
              "          docLink.innerHTML = docLinkHtml;\n",
              "          element.appendChild(docLink);\n",
              "        }\n",
              "      </script>\n",
              "    </div>\n",
              "  </div>\n",
              "  "
            ]
          },
          "metadata": {},
          "execution_count": 30
        }
      ]
    },
    {
      "cell_type": "code",
      "source": [
        "for test in results.index:\n",
        "  results.loc[test].plot(kind='bar', title=test)\n",
        "  plt.show()"
      ],
      "metadata": {
        "colab": {
          "base_uri": "https://localhost:8080/",
          "height": 1000
        },
        "id": "ehvPbWAdO0Nf",
        "outputId": "05d43e7b-a663-436d-885a-2bb3fbb9cff4"
      },
      "execution_count": null,
      "outputs": [
        {
          "output_type": "display_data",
          "data": {
            "text/plain": [
              "<Figure size 432x288 with 1 Axes>"
            ],
            "image/png": "[encoded data removed]"
          },
          "metadata": {
            "needs_background": "light"
          }
        },
        {
          "output_type": "display_data",
          "data": {
            "text/plain": [
              "<Figure size 432x288 with 1 Axes>"
            ],
            "image/png": "[encoded data removed]"
          },
          "metadata": {
            "needs_background": "light"
          }
        },
        {
          "output_type": "display_data",
          "data": {
            "text/plain": [
              "<Figure size 432x288 with 1 Axes>"
            ],
            "image/png": "[encoded data removed]"
          },
          "metadata": {
            "needs_background": "light"
          }
        },
        {
          "output_type": "display_data",
          "data": {
            "text/plain": [
              "<Figure size 432x288 with 1 Axes>"
            ],
            "image/png": "[encoded data removed]"
          },
          "metadata": {
            "needs_background": "light"
          }
        },
        {
          "output_type": "display_data",
          "data": {
            "text/plain": [
              "<Figure size 432x288 with 1 Axes>"
            ],
            "image/png": "[encoded data removed]"
          },
          "metadata": {
            "needs_background": "light"
          }
        },
        {
          "output_type": "display_data",
          "data": {
            "text/plain": [
              "<Figure size 432x288 with 1 Axes>"
            ],
            "image/png": "[encoded data removed]"
          },
          "metadata": {
            "needs_background": "light"
          }
        },
        {
          "output_type": "display_data",
          "data": {
            "text/plain": [
              "<Figure size 432x288 with 1 Axes>"
            ],
            "image/png": "[encoded data removed]"
          },
          "metadata": {
            "needs_background": "light"
          }
        }
      ]
    },
    {
      "cell_type": "markdown",
      "source": [
        "Based on the several tests conducted, it can be found that DataTable will have better performance when reading data which is 16.2 s compared to pandas which requires 43.5 s. However, when it came to extract the first five rows from the data, DataTable required 10.8 ms which is much slower than pandas(175 µs). <br><br>\n",
        "Furthermore, for computing the statistics like mean and standard deviation from the data, pandas requires 56 ms to calculate the mean while DataTable requires 125 ms. Then, 148 ms is used to compute standard deviation for pandas while 56.3 µs is used to compute standard deviation for DataTable. It can be concluded that pandas have better efficiency in calculating the mean of the data while DataTable has better performance in calculating standard deviation. Other than that, pandas take 79.9 ms to find the unique value of a column which is faster than DataTable(284 ms).<br><br>\n",
        "For both grouping and sorting functions, DataTable has better performance than pandas. It takes 279 ms and 157 ms to group and sort the data respectively. Meanwhile, pandas takes 294 ms and 2.5 s to group and sort the data respectively.\n"
      ],
      "metadata": {
        "id": "9ABIR9mJPZXl"
      }
    }
  ]
}
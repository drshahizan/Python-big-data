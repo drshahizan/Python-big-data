{
  "cells": [
    {
      "cell_type": "markdown",
      "metadata": {
        "id": "view-in-github",
        "colab_type": "text"
      },
      "source": [
        "<a href=\"https://colab.research.google.com/github/drshahizan/Python-big-data/blob/main/Assignment%202a/Rojak/Group_Rojak_File_1.ipynb\" target=\"_parent\"><img src=\"https://colab.research.google.com/assets/colab-badge.svg\" alt=\"Open In Colab\"/></a>"
      ]
    },
    {
      "cell_type": "markdown",
      "metadata": {
        "id": "G8X0iOGGJKnq"
      },
      "source": [
        "##Assignment: Alternatives to Pandas for Processing Large Datasets (Vaex)\n",
        "###Group Rojak Members: \n",
        "\n",
        "<table>\n",
        "  <tr>\n",
        "    <th>Name</th>\n",
        "    <th>Matric No</th>\n",
        "  </tr>\n",
        "  <tr>\n",
        "    <th>Eddie Wong Chung Pheng </th>\n",
        "    <th>A20EC0031</th>\n",
        "  </tr>\n",
        "  <tr>\n",
        "    <th>Madihah Binti Che Zabri </th>\n",
        "    <th>A20EC0074</th>\n",
        "  </tr>\n",
        "  <tr>\n",
        "    <th>Nurarissa Dayana Binti Mohd Sukri</th>\n",
        "    <th>A20EC0120</th>\n",
        "  </tr>\n",
        "  <tr> \n",
        "    <th>Vincent Boo Ee Khai</th>\n",
        "    <th>A20EC0231</th>\n",
        "  </tr>\n",
        "</table>\n",
        "<br></br>\n",
        "\n",
        "####File 1: Explanation and Implementation of the basic concept of Vaex\n",
        "\n",
        "For processing large datasets, Vaex Python's Out of Core Dataframe is a faster alternative to Pandas. It also has quick, user-friendly visualization tools. Pandas are typically used by Python developers when working with dataframes and processing. Its widespread acceptance can be attributed to its wide range of useful features and the simplicity of its application programming interface (API). However, pandas do not come without flaws, and Vaex can be used as an alternative. \n",
        "\n",
        "In this study, we will use the Vaex basic library to manage a large dataset and conduct basic data analysis in order to provide insights on the data. Rate.csv from the Health Insurance Marketplace will be used as the dataset.\n",
        "<br></br>\n",
        "**Dataset**\n",
        "The dataset is obtained from Kaggle: <a href=\"https://www.kaggle.com/datasets/hhs/health-insurance-marketplace?select=Rate.csv\">Rate.csv</a>  <br>\n",
        "The size of the dataset is <b> 1.97 GB</b>.\n",
        "\n",
        "#### Attribute Information:\n",
        "| Acronym | Description |\n",
        "| --- | --- |\n",
        "| **BusinessYear** |   The year for which the rate information applies.  |\n",
        "|**StateCode** |  The two-letter code for the state in which the health insurance plan is offered.  |\n",
        "| **IssuerId** | A unique identifier for the insurer offering the health insurance plan. |\n",
        "| **SourceName** |  The source of the rate information (e.g. the insurer, the state insurance department). |\n",
        "| **VersionNum** | A version number for the rate information.  |\n",
        "| **ImportDate** |  The date on which the rate information was imported into the Marketplace database.   |\n",
        "| **IssuerId2** | A unique identifier for the insurer offering the health insurance plan.  |\n",
        "| **FederalTIN** | Federal income taxes  |\n",
        "| **RateEffectiveDate** |  The date for which the rate information is effective.   |\n",
        "|**RateExpirationDate** |  The expire date for the rate. |\n",
        "| **PlanId** | A unique identifier for the health insurance plan. |\n",
        "| **RatingAreaId** | The age of the insured person for which the rate information applies.  |\n",
        "| **Tobacco** | The rate information applies to tobacco users or non-tobacco users. |\n",
        "| **Age** |   The age of the insured person for which the rate information applies.  |\n",
        "| **IndividualRate** |  The monthly premium (cost) for the health insurance plan for an individual.  |\n",
        "| **IndividualTobaccoRate** | The monthly premium for the health insurance plan for an individual tobacco user.  |\n",
        "| **Couple** | The monthly premium for the health insurance plan for a couple.  |\n",
        "|**PrimarySubscriberAndOneDependent** |  The primary subscriber for the health insurance plan and one dependent. |\n",
        "| **PrimarySubscriberAndTwoDependents** | The primary subscriber for the health insurance plan and two dependent. |\n",
        "| **CoupleAndOneDependent** | The monthly premium for the health insurance plan for a couple and one dependent. |\n",
        "| **CoupleAndTwoDependents** | The monthly premium for the health insurance plan for a couple and two dependents.  |\n",
        "| **CoupleAndThreeOrMoreDependents** |  The monthly premium for the health insurance plan for a couple and three or more dependents.   |\n",
        "| **RowNumber** | The row number of rate information.  |"
      ]
    },
    {
      "cell_type": "markdown",
      "source": [
        "\n",
        "\n",
        "---\n",
        "\n"
      ],
      "metadata": {
        "id": "BKDfrW3lw8Nl"
      }
    },
    {
      "cell_type": "markdown",
      "source": [
        "## **Installation and Downloading the Dataset**"
      ],
      "metadata": {
        "id": "ggJnJukvwuka"
      }
    },
    {
      "cell_type": "markdown",
      "source": [
        "**1) Install Vaex and Ipython**\n",
        "\n",
        "Using Google Colab to run Vaex increases the likelihood of encountering an out-of-date IPython version error; to prevent this, we will update the IPython."
      ],
      "metadata": {
        "id": "VJ15IZUGyejW"
      }
    },
    {
      "cell_type": "code",
      "execution_count": null,
      "metadata": {
        "id": "rUVS5Y5pLvaW",
        "colab": {
          "base_uri": "https://localhost:8080/"
        },
        "outputId": "303a267a-3322-4e9a-ca9b-0d881ad31151"
      },
      "outputs": [
        {
          "output_type": "stream",
          "name": "stdout",
          "text": [
            "Looking in indexes: https://pypi.org/simple, https://us-python.pkg.dev/colab-wheels/public/simple/\n",
            "Requirement already satisfied: vaex in /usr/local/lib/python3.8/dist-packages (4.16.0)\n",
            "Requirement already satisfied: vaex-astro<0.10,>=0.9.3 in /usr/local/lib/python3.8/dist-packages (from vaex) (0.9.3)\n",
            "Requirement already satisfied: vaex-hdf5<0.15,>=0.13.0 in /usr/local/lib/python3.8/dist-packages (from vaex) (0.14.1)\n",
            "Requirement already satisfied: vaex-server<0.9,>=0.8.1 in /usr/local/lib/python3.8/dist-packages (from vaex) (0.8.1)\n",
            "Requirement already satisfied: vaex-ml<0.19,>=0.18.1 in /usr/local/lib/python3.8/dist-packages (from vaex) (0.18.1)\n",
            "Requirement already satisfied: vaex-jupyter<0.9,>=0.8.1 in /usr/local/lib/python3.8/dist-packages (from vaex) (0.8.1)\n",
            "Requirement already satisfied: vaex-core<4.17,>=4.16.0 in /usr/local/lib/python3.8/dist-packages (from vaex) (4.16.1)\n",
            "Requirement already satisfied: vaex-viz<0.6,>=0.5.4 in /usr/local/lib/python3.8/dist-packages (from vaex) (0.5.4)\n",
            "Requirement already satisfied: astropy in /usr/local/lib/python3.8/dist-packages (from vaex-astro<0.10,>=0.9.3->vaex) (4.3.1)\n",
            "Requirement already satisfied: future>=0.15.2 in /usr/local/lib/python3.8/dist-packages (from vaex-core<4.17,>=4.16.0->vaex) (0.16.0)\n",
            "Requirement already satisfied: pandas in /usr/local/lib/python3.8/dist-packages (from vaex-core<4.17,>=4.16.0->vaex) (1.3.5)\n",
            "Requirement already satisfied: progressbar2 in /usr/local/lib/python3.8/dist-packages (from vaex-core<4.17,>=4.16.0->vaex) (3.38.0)\n",
            "Requirement already satisfied: aplus in /usr/local/lib/python3.8/dist-packages (from vaex-core<4.17,>=4.16.0->vaex) (0.11.0)\n",
            "Requirement already satisfied: cloudpickle in /usr/local/lib/python3.8/dist-packages (from vaex-core<4.17,>=4.16.0->vaex) (2.2.0)\n",
            "Requirement already satisfied: nest-asyncio>=1.3.3 in /usr/local/lib/python3.8/dist-packages (from vaex-core<4.17,>=4.16.0->vaex) (1.5.6)\n",
            "Requirement already satisfied: pyarrow>=5.0.0 in /usr/local/lib/python3.8/dist-packages (from vaex-core<4.17,>=4.16.0->vaex) (9.0.0)\n",
            "Requirement already satisfied: numpy>=1.16 in /usr/local/lib/python3.8/dist-packages (from vaex-core<4.17,>=4.16.0->vaex) (1.21.6)\n",
            "Requirement already satisfied: filelock in /usr/local/lib/python3.8/dist-packages (from vaex-core<4.17,>=4.16.0->vaex) (3.9.0)\n",
            "Requirement already satisfied: pydantic>=1.8.0 in /usr/local/lib/python3.8/dist-packages (from vaex-core<4.17,>=4.16.0->vaex) (1.10.4)\n",
            "Requirement already satisfied: blake3 in /usr/local/lib/python3.8/dist-packages (from vaex-core<4.17,>=4.16.0->vaex) (0.3.3)\n",
            "Requirement already satisfied: tabulate>=0.8.3 in /usr/local/lib/python3.8/dist-packages (from vaex-core<4.17,>=4.16.0->vaex) (0.8.10)\n",
            "Requirement already satisfied: rich in /usr/local/lib/python3.8/dist-packages (from vaex-core<4.17,>=4.16.0->vaex) (13.0.1)\n",
            "Requirement already satisfied: dask!=2022.4.0 in /usr/local/lib/python3.8/dist-packages (from vaex-core<4.17,>=4.16.0->vaex) (2022.2.1)\n",
            "Requirement already satisfied: six in /usr/local/lib/python3.8/dist-packages (from vaex-core<4.17,>=4.16.0->vaex) (1.15.0)\n",
            "Requirement already satisfied: frozendict!=2.2.0 in /usr/local/lib/python3.8/dist-packages (from vaex-core<4.17,>=4.16.0->vaex) (2.3.4)\n",
            "Requirement already satisfied: requests in /usr/local/lib/python3.8/dist-packages (from vaex-core<4.17,>=4.16.0->vaex) (2.25.1)\n",
            "Requirement already satisfied: pyyaml in /usr/local/lib/python3.8/dist-packages (from vaex-core<4.17,>=4.16.0->vaex) (6.0)\n",
            "Requirement already satisfied: h5py>=2.9 in /usr/local/lib/python3.8/dist-packages (from vaex-hdf5<0.15,>=0.13.0->vaex) (3.1.0)\n",
            "Requirement already satisfied: xarray in /usr/local/lib/python3.8/dist-packages (from vaex-jupyter<0.9,>=0.8.1->vaex) (2022.12.0)\n",
            "Requirement already satisfied: bqplot>=0.10.1 in /usr/local/lib/python3.8/dist-packages (from vaex-jupyter<0.9,>=0.8.1->vaex) (0.12.36)\n",
            "Requirement already satisfied: ipympl in /usr/local/lib/python3.8/dist-packages (from vaex-jupyter<0.9,>=0.8.1->vaex) (0.9.2)\n",
            "Requirement already satisfied: ipyleaflet in /usr/local/lib/python3.8/dist-packages (from vaex-jupyter<0.9,>=0.8.1->vaex) (0.17.2)\n",
            "Requirement already satisfied: ipyvolume>=0.4 in /usr/local/lib/python3.8/dist-packages (from vaex-jupyter<0.9,>=0.8.1->vaex) (0.5.2)\n",
            "Requirement already satisfied: ipyvuetify<2,>=1.2.2 in /usr/local/lib/python3.8/dist-packages (from vaex-jupyter<0.9,>=0.8.1->vaex) (1.8.4)\n",
            "Requirement already satisfied: traitlets in /usr/local/lib/python3.8/dist-packages (from vaex-ml<0.19,>=0.18.1->vaex) (5.7.1)\n",
            "Requirement already satisfied: jinja2 in /usr/local/lib/python3.8/dist-packages (from vaex-ml<0.19,>=0.18.1->vaex) (2.11.3)\n",
            "Requirement already satisfied: numba in /usr/local/lib/python3.8/dist-packages (from vaex-ml<0.19,>=0.18.1->vaex) (0.56.4)\n",
            "Requirement already satisfied: uvicorn[standard] in /usr/local/lib/python3.8/dist-packages (from vaex-server<0.9,>=0.8.1->vaex) (0.20.0)\n",
            "Requirement already satisfied: fastapi in /usr/local/lib/python3.8/dist-packages (from vaex-server<0.9,>=0.8.1->vaex) (0.89.1)\n",
            "Requirement already satisfied: cachetools in /usr/local/lib/python3.8/dist-packages (from vaex-server<0.9,>=0.8.1->vaex) (5.2.0)\n",
            "Requirement already satisfied: tornado>4.1 in /usr/local/lib/python3.8/dist-packages (from vaex-server<0.9,>=0.8.1->vaex) (6.0.4)\n",
            "Requirement already satisfied: pillow in /usr/local/lib/python3.8/dist-packages (from vaex-viz<0.6,>=0.5.4->vaex) (7.1.2)\n",
            "Requirement already satisfied: matplotlib>=1.3.1 in /usr/local/lib/python3.8/dist-packages (from vaex-viz<0.6,>=0.5.4->vaex) (3.6.3)\n",
            "Requirement already satisfied: traittypes>=0.0.6 in /usr/local/lib/python3.8/dist-packages (from bqplot>=0.10.1->vaex-jupyter<0.9,>=0.8.1->vaex) (0.2.1)\n",
            "Requirement already satisfied: ipywidgets<9,>=7.5.0 in /usr/local/lib/python3.8/dist-packages (from bqplot>=0.10.1->vaex-jupyter<0.9,>=0.8.1->vaex) (7.7.1)\n",
            "Requirement already satisfied: toolz>=0.8.2 in /usr/local/lib/python3.8/dist-packages (from dask!=2022.4.0->vaex-core<4.17,>=4.16.0->vaex) (0.12.0)\n",
            "Requirement already satisfied: packaging>=20.0 in /usr/local/lib/python3.8/dist-packages (from dask!=2022.4.0->vaex-core<4.17,>=4.16.0->vaex) (21.3)\n",
            "Requirement already satisfied: partd>=0.3.10 in /usr/local/lib/python3.8/dist-packages (from dask!=2022.4.0->vaex-core<4.17,>=4.16.0->vaex) (1.3.0)\n",
            "Requirement already satisfied: fsspec>=0.6.0 in /usr/local/lib/python3.8/dist-packages (from dask!=2022.4.0->vaex-core<4.17,>=4.16.0->vaex) (2022.11.0)\n",
            "Requirement already satisfied: pythreejs>=1.0.0 in /usr/local/lib/python3.8/dist-packages (from ipyvolume>=0.4->vaex-jupyter<0.9,>=0.8.1->vaex) (2.4.1)\n",
            "Requirement already satisfied: ipywebrtc in /usr/local/lib/python3.8/dist-packages (from ipyvolume>=0.4->vaex-jupyter<0.9,>=0.8.1->vaex) (0.6.0)\n",
            "Requirement already satisfied: ipyvue<2,>=1.5 in /usr/local/lib/python3.8/dist-packages (from ipyvuetify<2,>=1.2.2->vaex-jupyter<0.9,>=0.8.1->vaex) (1.8.0)\n",
            "Requirement already satisfied: fonttools>=4.22.0 in /usr/local/lib/python3.8/dist-packages (from matplotlib>=1.3.1->vaex-viz<0.6,>=0.5.4->vaex) (4.38.0)\n",
            "Requirement already satisfied: python-dateutil>=2.7 in /usr/local/lib/python3.8/dist-packages (from matplotlib>=1.3.1->vaex-viz<0.6,>=0.5.4->vaex) (2.8.2)\n",
            "Requirement already satisfied: pyparsing>=2.2.1 in /usr/local/lib/python3.8/dist-packages (from matplotlib>=1.3.1->vaex-viz<0.6,>=0.5.4->vaex) (3.0.9)\n",
            "Requirement already satisfied: cycler>=0.10 in /usr/local/lib/python3.8/dist-packages (from matplotlib>=1.3.1->vaex-viz<0.6,>=0.5.4->vaex) (0.11.0)\n",
            "Requirement already satisfied: kiwisolver>=1.0.1 in /usr/local/lib/python3.8/dist-packages (from matplotlib>=1.3.1->vaex-viz<0.6,>=0.5.4->vaex) (1.4.4)\n",
            "Requirement already satisfied: contourpy>=1.0.1 in /usr/local/lib/python3.8/dist-packages (from matplotlib>=1.3.1->vaex-viz<0.6,>=0.5.4->vaex) (1.0.6)\n",
            "Requirement already satisfied: pytz>=2017.3 in /usr/local/lib/python3.8/dist-packages (from pandas->vaex-core<4.17,>=4.16.0->vaex) (2022.7)\n",
            "Requirement already satisfied: typing-extensions>=4.2.0 in /usr/local/lib/python3.8/dist-packages (from pydantic>=1.8.0->vaex-core<4.17,>=4.16.0->vaex) (4.4.0)\n",
            "Requirement already satisfied: pyerfa>=1.7.3 in /usr/local/lib/python3.8/dist-packages (from astropy->vaex-astro<0.10,>=0.9.3->vaex) (2.0.0.1)\n",
            "Requirement already satisfied: starlette==0.22.0 in /usr/local/lib/python3.8/dist-packages (from fastapi->vaex-server<0.9,>=0.8.1->vaex) (0.22.0)\n",
            "Requirement already satisfied: anyio<5,>=3.4.0 in /usr/local/lib/python3.8/dist-packages (from starlette==0.22.0->fastapi->vaex-server<0.9,>=0.8.1->vaex) (3.6.2)\n",
            "Requirement already satisfied: xyzservices>=2021.8.1 in /usr/local/lib/python3.8/dist-packages (from ipyleaflet->vaex-jupyter<0.9,>=0.8.1->vaex) (2022.9.0)\n",
            "Requirement already satisfied: branca>=0.5.0 in /usr/local/lib/python3.8/dist-packages (from ipyleaflet->vaex-jupyter<0.9,>=0.8.1->vaex) (0.6.0)\n",
            "Requirement already satisfied: ipython-genutils in /usr/local/lib/python3.8/dist-packages (from ipympl->vaex-jupyter<0.9,>=0.8.1->vaex) (0.2.0)\n",
            "Requirement already satisfied: ipython<9 in /usr/local/lib/python3.8/dist-packages (from ipympl->vaex-jupyter<0.9,>=0.8.1->vaex) (8.8.0)\n",
            "Requirement already satisfied: MarkupSafe>=0.23 in /usr/local/lib/python3.8/dist-packages (from jinja2->vaex-ml<0.19,>=0.18.1->vaex) (2.0.1)\n",
            "Requirement already satisfied: llvmlite<0.40,>=0.39.0dev0 in /usr/local/lib/python3.8/dist-packages (from numba->vaex-ml<0.19,>=0.18.1->vaex) (0.39.1)\n",
            "Requirement already satisfied: setuptools in /usr/local/lib/python3.8/dist-packages (from numba->vaex-ml<0.19,>=0.18.1->vaex) (57.4.0)\n",
            "Requirement already satisfied: importlib-metadata in /usr/local/lib/python3.8/dist-packages (from numba->vaex-ml<0.19,>=0.18.1->vaex) (6.0.0)\n",
            "Requirement already satisfied: python-utils>=2.3.0 in /usr/local/lib/python3.8/dist-packages (from progressbar2->vaex-core<4.17,>=4.16.0->vaex) (3.4.5)\n",
            "Requirement already satisfied: idna<3,>=2.5 in /usr/local/lib/python3.8/dist-packages (from requests->vaex-core<4.17,>=4.16.0->vaex) (2.10)\n",
            "Requirement already satisfied: urllib3<1.27,>=1.21.1 in /usr/local/lib/python3.8/dist-packages (from requests->vaex-core<4.17,>=4.16.0->vaex) (1.24.3)\n",
            "Requirement already satisfied: certifi>=2017.4.17 in /usr/local/lib/python3.8/dist-packages (from requests->vaex-core<4.17,>=4.16.0->vaex) (2022.12.7)\n",
            "Requirement already satisfied: chardet<5,>=3.0.2 in /usr/local/lib/python3.8/dist-packages (from requests->vaex-core<4.17,>=4.16.0->vaex) (4.0.0)\n",
            "Requirement already satisfied: pygments<3.0.0,>=2.6.0 in /usr/local/lib/python3.8/dist-packages (from rich->vaex-core<4.17,>=4.16.0->vaex) (2.6.1)\n",
            "Requirement already satisfied: commonmark<0.10.0,>=0.9.0 in /usr/local/lib/python3.8/dist-packages (from rich->vaex-core<4.17,>=4.16.0->vaex) (0.9.1)\n",
            "Requirement already satisfied: click>=7.0 in /usr/local/lib/python3.8/dist-packages (from uvicorn[standard]->vaex-server<0.9,>=0.8.1->vaex) (7.1.2)\n",
            "Requirement already satisfied: h11>=0.8 in /usr/local/lib/python3.8/dist-packages (from uvicorn[standard]->vaex-server<0.9,>=0.8.1->vaex) (0.14.0)\n",
            "Requirement already satisfied: watchfiles>=0.13 in /usr/local/lib/python3.8/dist-packages (from uvicorn[standard]->vaex-server<0.9,>=0.8.1->vaex) (0.18.1)\n",
            "Requirement already satisfied: uvloop!=0.15.0,!=0.15.1,>=0.14.0 in /usr/local/lib/python3.8/dist-packages (from uvicorn[standard]->vaex-server<0.9,>=0.8.1->vaex) (0.17.0)\n",
            "Requirement already satisfied: httptools>=0.5.0 in /usr/local/lib/python3.8/dist-packages (from uvicorn[standard]->vaex-server<0.9,>=0.8.1->vaex) (0.5.0)\n",
            "Requirement already satisfied: websockets>=10.4 in /usr/local/lib/python3.8/dist-packages (from uvicorn[standard]->vaex-server<0.9,>=0.8.1->vaex) (10.4)\n",
            "Requirement already satisfied: python-dotenv>=0.13 in /usr/local/lib/python3.8/dist-packages (from uvicorn[standard]->vaex-server<0.9,>=0.8.1->vaex) (0.21.0)\n",
            "Requirement already satisfied: pickleshare in /usr/local/lib/python3.8/dist-packages (from ipython<9->ipympl->vaex-jupyter<0.9,>=0.8.1->vaex) (0.7.5)\n",
            "Requirement already satisfied: prompt-toolkit<3.1.0,>=3.0.11 in /usr/local/lib/python3.8/dist-packages (from ipython<9->ipympl->vaex-jupyter<0.9,>=0.8.1->vaex) (3.0.36)\n",
            "Requirement already satisfied: decorator in /usr/local/lib/python3.8/dist-packages (from ipython<9->ipympl->vaex-jupyter<0.9,>=0.8.1->vaex) (4.4.2)\n",
            "Requirement already satisfied: jedi>=0.16 in /usr/local/lib/python3.8/dist-packages (from ipython<9->ipympl->vaex-jupyter<0.9,>=0.8.1->vaex) (0.18.2)\n",
            "Requirement already satisfied: pexpect>4.3 in /usr/local/lib/python3.8/dist-packages (from ipython<9->ipympl->vaex-jupyter<0.9,>=0.8.1->vaex) (4.8.0)\n",
            "Requirement already satisfied: stack-data in /usr/local/lib/python3.8/dist-packages (from ipython<9->ipympl->vaex-jupyter<0.9,>=0.8.1->vaex) (0.6.2)\n",
            "Requirement already satisfied: backcall in /usr/local/lib/python3.8/dist-packages (from ipython<9->ipympl->vaex-jupyter<0.9,>=0.8.1->vaex) (0.2.0)\n",
            "Requirement already satisfied: matplotlib-inline in /usr/local/lib/python3.8/dist-packages (from ipython<9->ipympl->vaex-jupyter<0.9,>=0.8.1->vaex) (0.1.6)\n",
            "Requirement already satisfied: widgetsnbextension~=3.6.0 in /usr/local/lib/python3.8/dist-packages (from ipywidgets<9,>=7.5.0->bqplot>=0.10.1->vaex-jupyter<0.9,>=0.8.1->vaex) (3.6.1)\n",
            "Requirement already satisfied: ipykernel>=4.5.1 in /usr/local/lib/python3.8/dist-packages (from ipywidgets<9,>=7.5.0->bqplot>=0.10.1->vaex-jupyter<0.9,>=0.8.1->vaex) (5.3.4)\n",
            "Requirement already satisfied: jupyterlab-widgets>=1.0.0 in /usr/local/lib/python3.8/dist-packages (from ipywidgets<9,>=7.5.0->bqplot>=0.10.1->vaex-jupyter<0.9,>=0.8.1->vaex) (3.0.5)\n",
            "Requirement already satisfied: locket in /usr/local/lib/python3.8/dist-packages (from partd>=0.3.10->dask!=2022.4.0->vaex-core<4.17,>=4.16.0->vaex) (1.0.0)\n",
            "Requirement already satisfied: ipydatawidgets>=1.1.1 in /usr/local/lib/python3.8/dist-packages (from pythreejs>=1.0.0->ipyvolume>=0.4->vaex-jupyter<0.9,>=0.8.1->vaex) (4.3.2)\n",
            "Requirement already satisfied: zipp>=0.5 in /usr/local/lib/python3.8/dist-packages (from importlib-metadata->numba->vaex-ml<0.19,>=0.18.1->vaex) (3.11.0)\n",
            "Requirement already satisfied: sniffio>=1.1 in /usr/local/lib/python3.8/dist-packages (from anyio<5,>=3.4.0->starlette==0.22.0->fastapi->vaex-server<0.9,>=0.8.1->vaex) (1.3.0)\n",
            "Requirement already satisfied: jupyter-client in /usr/local/lib/python3.8/dist-packages (from ipykernel>=4.5.1->ipywidgets<9,>=7.5.0->bqplot>=0.10.1->vaex-jupyter<0.9,>=0.8.1->vaex) (6.1.12)\n",
            "Requirement already satisfied: parso<0.9.0,>=0.8.0 in /usr/local/lib/python3.8/dist-packages (from jedi>=0.16->ipython<9->ipympl->vaex-jupyter<0.9,>=0.8.1->vaex) (0.8.3)\n",
            "Requirement already satisfied: ptyprocess>=0.5 in /usr/local/lib/python3.8/dist-packages (from pexpect>4.3->ipython<9->ipympl->vaex-jupyter<0.9,>=0.8.1->vaex) (0.7.0)\n",
            "Requirement already satisfied: wcwidth in /usr/local/lib/python3.8/dist-packages (from prompt-toolkit<3.1.0,>=3.0.11->ipython<9->ipympl->vaex-jupyter<0.9,>=0.8.1->vaex) (0.2.5)\n",
            "Requirement already satisfied: notebook>=4.4.1 in /usr/local/lib/python3.8/dist-packages (from widgetsnbextension~=3.6.0->ipywidgets<9,>=7.5.0->bqplot>=0.10.1->vaex-jupyter<0.9,>=0.8.1->vaex) (5.7.16)\n",
            "Requirement already satisfied: asttokens>=2.1.0 in /usr/local/lib/python3.8/dist-packages (from stack-data->ipython<9->ipympl->vaex-jupyter<0.9,>=0.8.1->vaex) (2.2.1)\n",
            "Requirement already satisfied: executing>=1.2.0 in /usr/local/lib/python3.8/dist-packages (from stack-data->ipython<9->ipympl->vaex-jupyter<0.9,>=0.8.1->vaex) (1.2.0)\n",
            "Requirement already satisfied: pure-eval in /usr/local/lib/python3.8/dist-packages (from stack-data->ipython<9->ipympl->vaex-jupyter<0.9,>=0.8.1->vaex) (0.2.2)\n",
            "Requirement already satisfied: prometheus-client in /usr/local/lib/python3.8/dist-packages (from notebook>=4.4.1->widgetsnbextension~=3.6.0->ipywidgets<9,>=7.5.0->bqplot>=0.10.1->vaex-jupyter<0.9,>=0.8.1->vaex) (0.15.0)\n",
            "Requirement already satisfied: terminado>=0.8.1 in /usr/local/lib/python3.8/dist-packages (from notebook>=4.4.1->widgetsnbextension~=3.6.0->ipywidgets<9,>=7.5.0->bqplot>=0.10.1->vaex-jupyter<0.9,>=0.8.1->vaex) (0.13.3)\n",
            "Requirement already satisfied: pyzmq>=17 in /usr/local/lib/python3.8/dist-packages (from notebook>=4.4.1->widgetsnbextension~=3.6.0->ipywidgets<9,>=7.5.0->bqplot>=0.10.1->vaex-jupyter<0.9,>=0.8.1->vaex) (23.2.1)\n",
            "Requirement already satisfied: jupyter-core>=4.4.0 in /usr/local/lib/python3.8/dist-packages (from notebook>=4.4.1->widgetsnbextension~=3.6.0->ipywidgets<9,>=7.5.0->bqplot>=0.10.1->vaex-jupyter<0.9,>=0.8.1->vaex) (5.1.2)\n",
            "Requirement already satisfied: nbformat in /usr/local/lib/python3.8/dist-packages (from notebook>=4.4.1->widgetsnbextension~=3.6.0->ipywidgets<9,>=7.5.0->bqplot>=0.10.1->vaex-jupyter<0.9,>=0.8.1->vaex) (5.7.1)\n",
            "Requirement already satisfied: Send2Trash in /usr/local/lib/python3.8/dist-packages (from notebook>=4.4.1->widgetsnbextension~=3.6.0->ipywidgets<9,>=7.5.0->bqplot>=0.10.1->vaex-jupyter<0.9,>=0.8.1->vaex) (1.8.0)\n",
            "Requirement already satisfied: nbconvert<6.0 in /usr/local/lib/python3.8/dist-packages (from notebook>=4.4.1->widgetsnbextension~=3.6.0->ipywidgets<9,>=7.5.0->bqplot>=0.10.1->vaex-jupyter<0.9,>=0.8.1->vaex) (5.6.1)\n",
            "Requirement already satisfied: platformdirs>=2.5 in /usr/local/lib/python3.8/dist-packages (from jupyter-core>=4.4.0->notebook>=4.4.1->widgetsnbextension~=3.6.0->ipywidgets<9,>=7.5.0->bqplot>=0.10.1->vaex-jupyter<0.9,>=0.8.1->vaex) (2.6.2)\n",
            "Requirement already satisfied: testpath in /usr/local/lib/python3.8/dist-packages (from nbconvert<6.0->notebook>=4.4.1->widgetsnbextension~=3.6.0->ipywidgets<9,>=7.5.0->bqplot>=0.10.1->vaex-jupyter<0.9,>=0.8.1->vaex) (0.6.0)\n",
            "Requirement already satisfied: entrypoints>=0.2.2 in /usr/local/lib/python3.8/dist-packages (from nbconvert<6.0->notebook>=4.4.1->widgetsnbextension~=3.6.0->ipywidgets<9,>=7.5.0->bqplot>=0.10.1->vaex-jupyter<0.9,>=0.8.1->vaex) (0.4)\n",
            "Requirement already satisfied: bleach in /usr/local/lib/python3.8/dist-packages (from nbconvert<6.0->notebook>=4.4.1->widgetsnbextension~=3.6.0->ipywidgets<9,>=7.5.0->bqplot>=0.10.1->vaex-jupyter<0.9,>=0.8.1->vaex) (5.0.1)\n",
            "Requirement already satisfied: pandocfilters>=1.4.1 in /usr/local/lib/python3.8/dist-packages (from nbconvert<6.0->notebook>=4.4.1->widgetsnbextension~=3.6.0->ipywidgets<9,>=7.5.0->bqplot>=0.10.1->vaex-jupyter<0.9,>=0.8.1->vaex) (1.5.0)\n",
            "Requirement already satisfied: mistune<2,>=0.8.1 in /usr/local/lib/python3.8/dist-packages (from nbconvert<6.0->notebook>=4.4.1->widgetsnbextension~=3.6.0->ipywidgets<9,>=7.5.0->bqplot>=0.10.1->vaex-jupyter<0.9,>=0.8.1->vaex) (0.8.4)\n",
            "Requirement already satisfied: defusedxml in /usr/local/lib/python3.8/dist-packages (from nbconvert<6.0->notebook>=4.4.1->widgetsnbextension~=3.6.0->ipywidgets<9,>=7.5.0->bqplot>=0.10.1->vaex-jupyter<0.9,>=0.8.1->vaex) (0.7.1)\n",
            "Requirement already satisfied: fastjsonschema in /usr/local/lib/python3.8/dist-packages (from nbformat->notebook>=4.4.1->widgetsnbextension~=3.6.0->ipywidgets<9,>=7.5.0->bqplot>=0.10.1->vaex-jupyter<0.9,>=0.8.1->vaex) (2.16.2)\n",
            "Requirement already satisfied: jsonschema>=2.6 in /usr/local/lib/python3.8/dist-packages (from nbformat->notebook>=4.4.1->widgetsnbextension~=3.6.0->ipywidgets<9,>=7.5.0->bqplot>=0.10.1->vaex-jupyter<0.9,>=0.8.1->vaex) (4.3.3)\n",
            "Requirement already satisfied: pyrsistent!=0.17.0,!=0.17.1,!=0.17.2,>=0.14.0 in /usr/local/lib/python3.8/dist-packages (from jsonschema>=2.6->nbformat->notebook>=4.4.1->widgetsnbextension~=3.6.0->ipywidgets<9,>=7.5.0->bqplot>=0.10.1->vaex-jupyter<0.9,>=0.8.1->vaex) (0.19.3)\n",
            "Requirement already satisfied: attrs>=17.4.0 in /usr/local/lib/python3.8/dist-packages (from jsonschema>=2.6->nbformat->notebook>=4.4.1->widgetsnbextension~=3.6.0->ipywidgets<9,>=7.5.0->bqplot>=0.10.1->vaex-jupyter<0.9,>=0.8.1->vaex) (22.2.0)\n",
            "Requirement already satisfied: importlib-resources>=1.4.0 in /usr/local/lib/python3.8/dist-packages (from jsonschema>=2.6->nbformat->notebook>=4.4.1->widgetsnbextension~=3.6.0->ipywidgets<9,>=7.5.0->bqplot>=0.10.1->vaex-jupyter<0.9,>=0.8.1->vaex) (5.10.2)\n",
            "Requirement already satisfied: webencodings in /usr/local/lib/python3.8/dist-packages (from bleach->nbconvert<6.0->notebook>=4.4.1->widgetsnbextension~=3.6.0->ipywidgets<9,>=7.5.0->bqplot>=0.10.1->vaex-jupyter<0.9,>=0.8.1->vaex) (0.5.1)\n",
            "Looking in indexes: https://pypi.org/simple, https://us-python.pkg.dev/colab-wheels/public/simple/\n",
            "Requirement already satisfied: ipython in /usr/local/lib/python3.8/dist-packages (8.8.0)\n",
            "Requirement already satisfied: matplotlib-inline in /usr/local/lib/python3.8/dist-packages (from ipython) (0.1.6)\n",
            "Requirement already satisfied: backcall in /usr/local/lib/python3.8/dist-packages (from ipython) (0.2.0)\n",
            "Requirement already satisfied: traitlets>=5 in /usr/local/lib/python3.8/dist-packages (from ipython) (5.7.1)\n",
            "Requirement already satisfied: pygments>=2.4.0 in /usr/local/lib/python3.8/dist-packages (from ipython) (2.6.1)\n",
            "Requirement already satisfied: jedi>=0.16 in /usr/local/lib/python3.8/dist-packages (from ipython) (0.18.2)\n",
            "Requirement already satisfied: stack-data in /usr/local/lib/python3.8/dist-packages (from ipython) (0.6.2)\n",
            "Requirement already satisfied: prompt-toolkit<3.1.0,>=3.0.11 in /usr/local/lib/python3.8/dist-packages (from ipython) (3.0.36)\n",
            "Requirement already satisfied: pexpect>4.3 in /usr/local/lib/python3.8/dist-packages (from ipython) (4.8.0)\n",
            "Requirement already satisfied: pickleshare in /usr/local/lib/python3.8/dist-packages (from ipython) (0.7.5)\n",
            "Requirement already satisfied: decorator in /usr/local/lib/python3.8/dist-packages (from ipython) (4.4.2)\n",
            "Requirement already satisfied: parso<0.9.0,>=0.8.0 in /usr/local/lib/python3.8/dist-packages (from jedi>=0.16->ipython) (0.8.3)\n",
            "Requirement already satisfied: ptyprocess>=0.5 in /usr/local/lib/python3.8/dist-packages (from pexpect>4.3->ipython) (0.7.0)\n",
            "Requirement already satisfied: wcwidth in /usr/local/lib/python3.8/dist-packages (from prompt-toolkit<3.1.0,>=3.0.11->ipython) (0.2.5)\n",
            "Requirement already satisfied: executing>=1.2.0 in /usr/local/lib/python3.8/dist-packages (from stack-data->ipython) (1.2.0)\n",
            "Requirement already satisfied: pure-eval in /usr/local/lib/python3.8/dist-packages (from stack-data->ipython) (0.2.2)\n",
            "Requirement already satisfied: asttokens>=2.1.0 in /usr/local/lib/python3.8/dist-packages (from stack-data->ipython) (2.2.1)\n",
            "Requirement already satisfied: six in /usr/local/lib/python3.8/dist-packages (from asttokens>=2.1.0->stack-data->ipython) (1.15.0)\n"
          ]
        }
      ],
      "source": [
        "!pip install vaex\n",
        "!pip install ipython -U"
      ]
    },
    {
      "cell_type": "markdown",
      "source": [
        "**2) Import Vaex Library**\n",
        "\n",
        "Vaex is a Python library for exploring large tabular datasets with the help of lazy Out-of-Core DataFrames. In a single second, it can process up to a billion objects/rows in an N-dimensional grid and calculate statistical measures like mean, sum, count, and standard deviation. Histograms, density plots, and 3D volume rendering are used for visualization, making big data accessible for interactive exploration. Vaex achieves its high performance through the use of memory mapping, a zero memory copy policy, and lazy computations so that no memory is wasted."
      ],
      "metadata": {
        "id": "AHfORzzpynWy"
      }
    },
    {
      "cell_type": "code",
      "execution_count": null,
      "metadata": {
        "id": "TpapA-2tKP2v"
      },
      "outputs": [],
      "source": [
        "import vaex as vx"
      ]
    },
    {
      "cell_type": "markdown",
      "source": [
        "**3) Download Dataset Using Google Drive**\n",
        "\n",
        "This 1.97 GB Rate.csv dataset originates from the Health Insurance Marketplace."
      ],
      "metadata": {
        "id": "iQgabD4p2VKa"
      }
    },
    {
      "cell_type": "code",
      "source": [
        "# Read dataset from google drive\n",
        "!pip install -U -q PyDrive\n",
        "from pydrive.auth import GoogleAuth\n",
        "from pydrive.drive import GoogleDrive\n",
        "from google.colab import auth\n",
        "from oauth2client.client import GoogleCredentials\n",
        "\n",
        "# Authenticate and create the PyDrive client.\n",
        "auth.authenticate_user()\n",
        "gauth = GoogleAuth()\n",
        "gauth.credentials = GoogleCredentials.get_application_default()\n",
        "drive = GoogleDrive(gauth)\n",
        "link = 'https://drive.google.com/file/d/10PKFCHEW_B_4alRrDpjbA1WOsG2h4anZ/view?usp=share_link'\n",
        "# to get the id part of the file\n",
        "id = link.split(\"/\")[-2]\n",
        " \n",
        "downloaded = drive.CreateFile({'id':id})\n",
        "downloaded.GetContentFile('Rate.csv') "
      ],
      "metadata": {
        "id": "NjG767gTDV-E"
      },
      "execution_count": null,
      "outputs": []
    },
    {
      "cell_type": "markdown",
      "metadata": {
        "id": "_8dr4WHiKbZb"
      },
      "source": [
        "## **Data Cleaning and Preparation using Vaex**"
      ]
    },
    {
      "cell_type": "markdown",
      "source": [
        "**1) Read data with Vaex**\n",
        "\n",
        "Vaex is compatible with HDF5 and CSV files. The vaex.from csv function is available for importing CSV data. In addition to reading CSV files, this function can also convert them to HDF5 format. It can be converted to HDF5 format by entering convert=True. Vaex will read the CSV in chunks, then convert each chunk to a temporary HDF5 file, and finally combine all of these files into a single HDF5 file. Using the chunk size argument, you can specify the size of each chunk. Here, we use the %%time magic command to measure how long an operation takes to complete. Processing time for Vaex.from_csv() is 1 minutes 54 seconds."
      ],
      "metadata": {
        "id": "tWbyPDWG5mCz"
      }
    },
    {
      "cell_type": "code",
      "source": [
        "%time df = vx.from_csv('Rate.csv', convert=True)"
      ],
      "metadata": {
        "colab": {
          "base_uri": "https://localhost:8080/"
        },
        "id": "_41ZGkwl_A9K",
        "outputId": "f5bc7948-57ab-4cfd-a5f3-79b7f4b1d9d4"
      },
      "execution_count": null,
      "outputs": [
        {
          "output_type": "stream",
          "name": "stdout",
          "text": [
            "CPU times: user 31 ms, sys: 0 ns, total: 31 ms\n",
            "Wall time: 32.4 ms\n"
          ]
        }
      ]
    },
    {
      "cell_type": "markdown",
      "source": [
        "You can open a dataframe with the Open function by specifying its path. Using the Open function, you can convert your dataframe to other formats, such as HDF5. This function can read the dataset from a path or a list of paths."
      ],
      "metadata": {
        "id": "otl764o-8OJT"
      }
    },
    {
      "cell_type": "code",
      "source": [
        "%time df2 = vx.open('Rate.csv')"
      ],
      "metadata": {
        "colab": {
          "base_uri": "https://localhost:8080/"
        },
        "id": "mLqbR51z-7si",
        "outputId": "f045d478-4125-46cf-b13d-3c6dee639ad8"
      },
      "execution_count": null,
      "outputs": [
        {
          "output_type": "stream",
          "name": "stdout",
          "text": [
            "CPU times: user 1.4 s, sys: 893 ms, total: 2.29 s\n",
            "Wall time: 6.79 s\n"
          ]
        }
      ]
    },
    {
      "cell_type": "markdown",
      "source": [
        "Hierarchical Data Format 5 (HDF5) is a free and open file format that can handle large, complex, and varied datasets. HDF5 employs a \"file directory\" structure similar to that of a computer's file system, allowing for flexible data organization within the file. We can see that converting the file to HDF5 saves a significant amount of time (in milliseconds) when compared to not converting it."
      ],
      "metadata": {
        "id": "Ia6Q7Ah08twA"
      }
    },
    {
      "cell_type": "code",
      "source": [
        "%%time\n",
        "\n",
        "df3 = vx.open('Rate.csv.hdf5')"
      ],
      "metadata": {
        "colab": {
          "base_uri": "https://localhost:8080/"
        },
        "id": "-FjhIpbM_AY2",
        "outputId": "f06d3282-b71b-4bf1-df36-99e5f09769f3"
      },
      "execution_count": null,
      "outputs": [
        {
          "output_type": "stream",
          "name": "stdout",
          "text": [
            "CPU times: user 25.3 ms, sys: 2.77 ms, total: 28.1 ms\n",
            "Wall time: 33.1 ms\n"
          ]
        }
      ]
    },
    {
      "cell_type": "markdown",
      "source": [
        "**2) View Dataset**\n",
        "\n",
        "Before analyzing the data, we can look at the top 5 records in the data set and read the summary and description. "
      ],
      "metadata": {
        "id": "ZwdPln5cysk-"
      }
    },
    {
      "cell_type": "code",
      "execution_count": null,
      "metadata": {
        "id": "eY-V-c5pcXDE",
        "colab": {
          "base_uri": "https://localhost:8080/",
          "height": 254
        },
        "outputId": "c272f799-5a91-4fcd-f5b8-21f2fce73bbd"
      },
      "outputs": [
        {
          "output_type": "execute_result",
          "data": {
            "text/html": [
              "<table>\n",
              "<thead>\n",
              "<tr><th>#                            </th><th style=\"text-align: right;\">  BusinessYear</th><th>StateCode  </th><th style=\"text-align: right;\">  IssuerId</th><th>SourceName  </th><th style=\"text-align: right;\">  VersionNum</th><th>ImportDate         </th><th style=\"text-align: right;\">  IssuerId2</th><th>FederalTIN  </th><th>RateEffectiveDate  </th><th>RateExpirationDate  </th><th>PlanId        </th><th>RatingAreaId  </th><th>Tobacco      </th><th>Age          </th><th style=\"text-align: right;\">  IndividualRate</th><th style=\"text-align: right;\">  IndividualTobaccoRate</th><th style=\"text-align: right;\">  Couple</th><th style=\"text-align: right;\">  PrimarySubscriberAndOneDependent</th><th style=\"text-align: right;\">  PrimarySubscriberAndTwoDependents</th><th style=\"text-align: right;\">  PrimarySubscriberAndThreeOrMoreDependents</th><th style=\"text-align: right;\">  CoupleAndOneDependent</th><th style=\"text-align: right;\">  CoupleAndTwoDependents</th><th style=\"text-align: right;\">  CoupleAndThreeOrMoreDependents</th><th style=\"text-align: right;\">  RowNumber</th></tr>\n",
              "</thead>\n",
              "<tbody>\n",
              "<tr><td><i style='opacity: 0.6'>0</i></td><td style=\"text-align: right;\">          2014</td><td>AK         </td><td style=\"text-align: right;\">     21989</td><td>HIOS        </td><td style=\"text-align: right;\">           6</td><td>2014-03-19 07:06:49</td><td style=\"text-align: right;\">      21989</td><td>93-0438772  </td><td>2014-01-01         </td><td>2014-12-31          </td><td>21989AK0010001</td><td>Rating Area 1 </td><td>No Preference</td><td>0-20         </td><td style=\"text-align: right;\">           29   </td><td style=\"text-align: right;\">                    nan</td><td style=\"text-align: right;\">   nan  </td><td style=\"text-align: right;\">                            nan   </td><td style=\"text-align: right;\">                             nan   </td><td style=\"text-align: right;\">                                     nan   </td><td style=\"text-align: right;\">                 nan   </td><td style=\"text-align: right;\">                  nan   </td><td style=\"text-align: right;\">                          nan   </td><td style=\"text-align: right;\">         14</td></tr>\n",
              "<tr><td><i style='opacity: 0.6'>1</i></td><td style=\"text-align: right;\">          2014</td><td>AK         </td><td style=\"text-align: right;\">     21989</td><td>HIOS        </td><td style=\"text-align: right;\">           6</td><td>2014-03-19 07:06:49</td><td style=\"text-align: right;\">      21989</td><td>93-0438772  </td><td>2014-01-01         </td><td>2014-12-31          </td><td>21989AK0020001</td><td>Rating Area 1 </td><td>No Preference</td><td>Family Option</td><td style=\"text-align: right;\">           36.95</td><td style=\"text-align: right;\">                    nan</td><td style=\"text-align: right;\">    73.9</td><td style=\"text-align: right;\">                            107.61</td><td style=\"text-align: right;\">                             107.61</td><td style=\"text-align: right;\">                                     107.61</td><td style=\"text-align: right;\">                 144.56</td><td style=\"text-align: right;\">                  144.56</td><td style=\"text-align: right;\">                          144.56</td><td style=\"text-align: right;\">         14</td></tr>\n",
              "<tr><td><i style='opacity: 0.6'>2</i></td><td style=\"text-align: right;\">          2014</td><td>AK         </td><td style=\"text-align: right;\">     21989</td><td>HIOS        </td><td style=\"text-align: right;\">           6</td><td>2014-03-19 07:06:49</td><td style=\"text-align: right;\">      21989</td><td>93-0438772  </td><td>2014-01-01         </td><td>2014-12-31          </td><td>21989AK0020001</td><td>Rating Area 2 </td><td>No Preference</td><td>Family Option</td><td style=\"text-align: right;\">           36.95</td><td style=\"text-align: right;\">                    nan</td><td style=\"text-align: right;\">    73.9</td><td style=\"text-align: right;\">                            107.61</td><td style=\"text-align: right;\">                             107.61</td><td style=\"text-align: right;\">                                     107.61</td><td style=\"text-align: right;\">                 144.56</td><td style=\"text-align: right;\">                  144.56</td><td style=\"text-align: right;\">                          144.56</td><td style=\"text-align: right;\">         15</td></tr>\n",
              "<tr><td><i style='opacity: 0.6'>3</i></td><td style=\"text-align: right;\">          2014</td><td>AK         </td><td style=\"text-align: right;\">     21989</td><td>HIOS        </td><td style=\"text-align: right;\">           6</td><td>2014-03-19 07:06:49</td><td style=\"text-align: right;\">      21989</td><td>93-0438772  </td><td>2014-01-01         </td><td>2014-12-31          </td><td>21989AK0010001</td><td>Rating Area 1 </td><td>No Preference</td><td>21           </td><td style=\"text-align: right;\">           32   </td><td style=\"text-align: right;\">                    nan</td><td style=\"text-align: right;\">   nan  </td><td style=\"text-align: right;\">                            nan   </td><td style=\"text-align: right;\">                             nan   </td><td style=\"text-align: right;\">                                     nan   </td><td style=\"text-align: right;\">                 nan   </td><td style=\"text-align: right;\">                  nan   </td><td style=\"text-align: right;\">                          nan   </td><td style=\"text-align: right;\">         15</td></tr>\n",
              "<tr><td><i style='opacity: 0.6'>4</i></td><td style=\"text-align: right;\">          2014</td><td>AK         </td><td style=\"text-align: right;\">     21989</td><td>HIOS        </td><td style=\"text-align: right;\">           6</td><td>2014-03-19 07:06:49</td><td style=\"text-align: right;\">      21989</td><td>93-0438772  </td><td>2014-01-01         </td><td>2014-12-31          </td><td>21989AK0010001</td><td>Rating Area 1 </td><td>No Preference</td><td>22           </td><td style=\"text-align: right;\">           32   </td><td style=\"text-align: right;\">                    nan</td><td style=\"text-align: right;\">   nan  </td><td style=\"text-align: right;\">                            nan   </td><td style=\"text-align: right;\">                             nan   </td><td style=\"text-align: right;\">                                     nan   </td><td style=\"text-align: right;\">                 nan   </td><td style=\"text-align: right;\">                  nan   </td><td style=\"text-align: right;\">                          nan   </td><td style=\"text-align: right;\">         16</td></tr>\n",
              "</tbody>\n",
              "</table>"
            ],
            "text/plain": [
              "  #    BusinessYear  StateCode      IssuerId  SourceName      VersionNum  ImportDate             IssuerId2  FederalTIN    RateEffectiveDate    RateExpirationDate    PlanId          RatingAreaId    Tobacco        Age              IndividualRate    IndividualTobaccoRate    Couple    PrimarySubscriberAndOneDependent    PrimarySubscriberAndTwoDependents    PrimarySubscriberAndThreeOrMoreDependents    CoupleAndOneDependent    CoupleAndTwoDependents    CoupleAndThreeOrMoreDependents    RowNumber\n",
              "  0            2014  AK                21989  HIOS                     6  2014-03-19 07:06:49        21989  93-0438772    2014-01-01           2014-12-31            21989AK0010001  Rating Area 1   No Preference  0-20                      29                         nan     nan                                nan                                  nan                                          nan                      nan                       nan                               nan              14\n",
              "  1            2014  AK                21989  HIOS                     6  2014-03-19 07:06:49        21989  93-0438772    2014-01-01           2014-12-31            21989AK0020001  Rating Area 1   No Preference  Family Option             36.95                      nan      73.9                              107.61                               107.61                                       107.61                   144.56                    144.56                            144.56           14\n",
              "  2            2014  AK                21989  HIOS                     6  2014-03-19 07:06:49        21989  93-0438772    2014-01-01           2014-12-31            21989AK0020001  Rating Area 2   No Preference  Family Option             36.95                      nan      73.9                              107.61                               107.61                                       107.61                   144.56                    144.56                            144.56           15\n",
              "  3            2014  AK                21989  HIOS                     6  2014-03-19 07:06:49        21989  93-0438772    2014-01-01           2014-12-31            21989AK0010001  Rating Area 1   No Preference  21                        32                         nan     nan                                nan                                  nan                                          nan                      nan                       nan                               nan              15\n",
              "  4            2014  AK                21989  HIOS                     6  2014-03-19 07:06:49        21989  93-0438772    2014-01-01           2014-12-31            21989AK0010001  Rating Area 1   No Preference  22                        32                         nan     nan                                nan                                  nan                                          nan                      nan                       nan                               nan              16"
            ]
          },
          "metadata": {},
          "execution_count": 50
        }
      ],
      "source": [
        "df.head(5)"
      ]
    },
    {
      "cell_type": "code",
      "source": [
        "df.info()"
      ],
      "metadata": {
        "colab": {
          "base_uri": "https://localhost:8080/",
          "height": 1000
        },
        "id": "J_QsTMxWtTdS",
        "outputId": "db8b5605-d82d-4df8-cfb1-b820c626bfff"
      },
      "execution_count": null,
      "outputs": [
        {
          "output_type": "display_data",
          "data": {
            "text/plain": [
              "<IPython.core.display.HTML object>"
            ],
            "text/html": [
              "<style>.vaex-description pre {\n",
              "          max-width : 450px;\n",
              "          white-space : nowrap;\n",
              "          overflow : hidden;\n",
              "          text-overflow: ellipsis;\n",
              "        }\n",
              "\n",
              "        .vex-description pre:hover {\n",
              "          max-width : initial;\n",
              "          white-space: pre;\n",
              "        }</style>"
            ]
          },
          "metadata": {}
        },
        {
          "output_type": "display_data",
          "data": {
            "text/plain": [
              "<IPython.core.display.HTML object>"
            ],
            "text/html": [
              "<div><h2>Rate.csv</h2> <b>rows</b>: 12,694,445</div><h2>Columns:</h2><table class='table-striped'><thead><tr><th>column</th><th>type</th><th>unit</th><th>description</th><th>expression</th></tr></thead><tr><td>BusinessYear</td><td>int64</td><td></td><td ><pre></pre></td><td></td></tr><tr><td>StateCode</td><td>str</td><td></td><td ><pre></pre></td><td></td></tr><tr><td>IssuerId</td><td>int64</td><td></td><td ><pre></pre></td><td></td></tr><tr><td>SourceName</td><td>str</td><td></td><td ><pre></pre></td><td></td></tr><tr><td>VersionNum</td><td>int64</td><td></td><td ><pre></pre></td><td></td></tr><tr><td>ImportDate</td><td>str</td><td></td><td ><pre></pre></td><td></td></tr><tr><td>IssuerId2</td><td>int64</td><td></td><td ><pre></pre></td><td></td></tr><tr><td>FederalTIN</td><td>str</td><td></td><td ><pre></pre></td><td></td></tr><tr><td>RateEffectiveDate</td><td>str</td><td></td><td ><pre></pre></td><td></td></tr><tr><td>RateExpirationDate</td><td>str</td><td></td><td ><pre></pre></td><td></td></tr><tr><td>PlanId</td><td>str</td><td></td><td ><pre></pre></td><td></td></tr><tr><td>RatingAreaId</td><td>str</td><td></td><td ><pre></pre></td><td></td></tr><tr><td>Tobacco</td><td>str</td><td></td><td ><pre></pre></td><td></td></tr><tr><td>Age</td><td>str</td><td></td><td ><pre></pre></td><td></td></tr><tr><td>IndividualRate</td><td>float64</td><td></td><td ><pre></pre></td><td></td></tr><tr><td>IndividualTobaccoRate</td><td>float64</td><td></td><td ><pre></pre></td><td></td></tr><tr><td>Couple</td><td>float64</td><td></td><td ><pre></pre></td><td></td></tr><tr><td>PrimarySubscriberAndOneDependent</td><td>float64</td><td></td><td ><pre></pre></td><td></td></tr><tr><td>PrimarySubscriberAndTwoDependents</td><td>float64</td><td></td><td ><pre></pre></td><td></td></tr><tr><td>PrimarySubscriberAndThreeOrMoreDependents</td><td>float64</td><td></td><td ><pre></pre></td><td></td></tr><tr><td>CoupleAndOneDependent</td><td>float64</td><td></td><td ><pre></pre></td><td></td></tr><tr><td>CoupleAndTwoDependents</td><td>float64</td><td></td><td ><pre></pre></td><td></td></tr><tr><td>CoupleAndThreeOrMoreDependents</td><td>float64</td><td></td><td ><pre></pre></td><td></td></tr><tr><td>RowNumber</td><td>int64</td><td></td><td ><pre></pre></td><td></td></tr></table><h2>Data:</h2><table>\n",
              "<thead>\n",
              "<tr><th>#                                     </th><th>BusinessYear  </th><th>StateCode  </th><th>IssuerId  </th><th>SourceName  </th><th>VersionNum  </th><th>ImportDate         </th><th>IssuerId2  </th><th>FederalTIN  </th><th>RateEffectiveDate  </th><th>RateExpirationDate  </th><th>PlanId        </th><th>RatingAreaId  </th><th>Tobacco      </th><th>Age          </th><th>IndividualRate  </th><th>IndividualTobaccoRate  </th><th>Couple  </th><th>PrimarySubscriberAndOneDependent  </th><th>PrimarySubscriberAndTwoDependents  </th><th>PrimarySubscriberAndThreeOrMoreDependents  </th><th>CoupleAndOneDependent  </th><th>CoupleAndTwoDependents  </th><th>CoupleAndThreeOrMoreDependents  </th><th>RowNumber  </th></tr>\n",
              "</thead>\n",
              "<tbody>\n",
              "<tr><td><i style='opacity: 0.6'>0</i>         </td><td>2014          </td><td>AK         </td><td>21989     </td><td>HIOS        </td><td>6           </td><td>2014-03-19 07:06:49</td><td>21989      </td><td>93-0438772  </td><td>2014-01-01         </td><td>2014-12-31          </td><td>21989AK0010001</td><td>Rating Area 1 </td><td>No Preference</td><td>0-20         </td><td>29.0            </td><td>nan                    </td><td>nan     </td><td>nan                               </td><td>nan                                </td><td>nan                                        </td><td>nan                    </td><td>nan                     </td><td>nan                             </td><td>14         </td></tr>\n",
              "<tr><td><i style='opacity: 0.6'>1</i>         </td><td>2014          </td><td>AK         </td><td>21989     </td><td>HIOS        </td><td>6           </td><td>2014-03-19 07:06:49</td><td>21989      </td><td>93-0438772  </td><td>2014-01-01         </td><td>2014-12-31          </td><td>21989AK0020001</td><td>Rating Area 1 </td><td>No Preference</td><td>Family Option</td><td>36.95           </td><td>nan                    </td><td>73.9    </td><td>107.61                            </td><td>107.61                             </td><td>107.61                                     </td><td>144.56                 </td><td>144.56                  </td><td>144.56                          </td><td>14         </td></tr>\n",
              "<tr><td><i style='opacity: 0.6'>2</i>         </td><td>2014          </td><td>AK         </td><td>21989     </td><td>HIOS        </td><td>6           </td><td>2014-03-19 07:06:49</td><td>21989      </td><td>93-0438772  </td><td>2014-01-01         </td><td>2014-12-31          </td><td>21989AK0020001</td><td>Rating Area 2 </td><td>No Preference</td><td>Family Option</td><td>36.95           </td><td>nan                    </td><td>73.9    </td><td>107.61                            </td><td>107.61                             </td><td>107.61                                     </td><td>144.56                 </td><td>144.56                  </td><td>144.56                          </td><td>15         </td></tr>\n",
              "<tr><td><i style='opacity: 0.6'>3</i>         </td><td>2014          </td><td>AK         </td><td>21989     </td><td>HIOS        </td><td>6           </td><td>2014-03-19 07:06:49</td><td>21989      </td><td>93-0438772  </td><td>2014-01-01         </td><td>2014-12-31          </td><td>21989AK0010001</td><td>Rating Area 1 </td><td>No Preference</td><td>21           </td><td>32.0            </td><td>nan                    </td><td>nan     </td><td>nan                               </td><td>nan                                </td><td>nan                                        </td><td>nan                    </td><td>nan                     </td><td>nan                             </td><td>15         </td></tr>\n",
              "<tr><td><i style='opacity: 0.6'>4</i>         </td><td>2014          </td><td>AK         </td><td>21989     </td><td>HIOS        </td><td>6           </td><td>2014-03-19 07:06:49</td><td>21989      </td><td>93-0438772  </td><td>2014-01-01         </td><td>2014-12-31          </td><td>21989AK0010001</td><td>Rating Area 1 </td><td>No Preference</td><td>22           </td><td>32.0            </td><td>nan                    </td><td>nan     </td><td>nan                               </td><td>nan                                </td><td>nan                                        </td><td>nan                    </td><td>nan                     </td><td>nan                             </td><td>16         </td></tr>\n",
              "<tr><td>...                                   </td><td>...           </td><td>...        </td><td>...       </td><td>...         </td><td>...         </td><td>...                </td><td>...        </td><td>...         </td><td>...                </td><td>...                 </td><td>...           </td><td>...           </td><td>...          </td><td>...          </td><td>...             </td><td>...                    </td><td>...     </td><td>...                               </td><td>...                                </td><td>...                                        </td><td>...                    </td><td>...                     </td><td>...                             </td><td>...        </td></tr>\n",
              "<tr><td><i style='opacity: 0.6'>12,694,440</i></td><td>2016          </td><td>WV         </td><td>96480     </td><td>SERFF       </td><td>2           </td><td>2015-08-20 12:28:36</td><td>96480      </td><td>13-5123390  </td><td>2016-01-01         </td><td>2016-12-31          </td><td>96480WV0090003</td><td>Rating Area 11</td><td>No Preference</td><td>61           </td><td>14.05           </td><td>nan                    </td><td>nan     </td><td>nan                               </td><td>nan                                </td><td>nan                                        </td><td>nan                    </td><td>nan                     </td><td>nan                             </td><td>2033       </td></tr>\n",
              "<tr><td><i style='opacity: 0.6'>12,694,441</i></td><td>2016          </td><td>WV         </td><td>96480     </td><td>SERFF       </td><td>2           </td><td>2015-08-20 12:28:36</td><td>96480      </td><td>13-5123390  </td><td>2016-01-01         </td><td>2016-12-31          </td><td>96480WV0090003</td><td>Rating Area 11</td><td>No Preference</td><td>62           </td><td>14.05           </td><td>nan                    </td><td>nan     </td><td>nan                               </td><td>nan                                </td><td>nan                                        </td><td>nan                    </td><td>nan                     </td><td>nan                             </td><td>2034       </td></tr>\n",
              "<tr><td><i style='opacity: 0.6'>12,694,442</i></td><td>2016          </td><td>WV         </td><td>96480     </td><td>SERFF       </td><td>2           </td><td>2015-08-20 12:28:36</td><td>96480      </td><td>13-5123390  </td><td>2016-01-01         </td><td>2016-12-31          </td><td>96480WV0090003</td><td>Rating Area 11</td><td>No Preference</td><td>63           </td><td>14.05           </td><td>nan                    </td><td>nan     </td><td>nan                               </td><td>nan                                </td><td>nan                                        </td><td>nan                    </td><td>nan                     </td><td>nan                             </td><td>2035       </td></tr>\n",
              "<tr><td><i style='opacity: 0.6'>12,694,443</i></td><td>2016          </td><td>WV         </td><td>96480     </td><td>SERFF       </td><td>2           </td><td>2015-08-20 12:28:36</td><td>96480      </td><td>13-5123390  </td><td>2016-01-01         </td><td>2016-12-31          </td><td>96480WV0090003</td><td>Rating Area 11</td><td>No Preference</td><td>64           </td><td>14.05           </td><td>nan                    </td><td>nan     </td><td>nan                               </td><td>nan                                </td><td>nan                                        </td><td>nan                    </td><td>nan                     </td><td>nan                             </td><td>2036       </td></tr>\n",
              "<tr><td><i style='opacity: 0.6'>12,694,444</i></td><td>2016          </td><td>WV         </td><td>96480     </td><td>SERFF       </td><td>2           </td><td>2015-08-20 12:28:36</td><td>96480      </td><td>13-5123390  </td><td>2016-01-01         </td><td>2016-12-31          </td><td>96480WV0090003</td><td>Rating Area 11</td><td>No Preference</td><td>65 and over  </td><td>14.05           </td><td>nan                    </td><td>nan     </td><td>nan                               </td><td>nan                                </td><td>nan                                        </td><td>nan                    </td><td>nan                     </td><td>nan                             </td><td>2037       </td></tr>\n",
              "</tbody>\n",
              "</table>"
            ]
          },
          "metadata": {}
        }
      ]
    },
    {
      "cell_type": "markdown",
      "source": [
        "The dataset has 12694445 records and 24 attributes."
      ],
      "metadata": {
        "id": "WTGnSx2ZB81P"
      }
    },
    {
      "cell_type": "code",
      "source": [
        "df.shape"
      ],
      "metadata": {
        "colab": {
          "base_uri": "https://localhost:8080/"
        },
        "id": "IsLvmRMZz4zt",
        "outputId": "2b3b3e7d-868e-4fb0-8ea4-315512159218"
      },
      "execution_count": null,
      "outputs": [
        {
          "output_type": "execute_result",
          "data": {
            "text/plain": [
              "(12694445, 24)"
            ]
          },
          "metadata": {},
          "execution_count": 52
        }
      ]
    },
    {
      "cell_type": "code",
      "source": [
        "df.describe()"
      ],
      "metadata": {
        "colab": {
          "base_uri": "https://localhost:8080/",
          "height": 362
        },
        "id": "9-BKDHe7Wtjc",
        "outputId": "e58c3dc2-41a3-4f9c-ed11-f4180c3e85da"
      },
      "execution_count": null,
      "outputs": [
        {
          "output_type": "execute_result",
          "data": {
            "text/plain": [
              "                 BusinessYear StateCode           IssuerId SourceName  \\\n",
              "data_type               int64    string              int64     string   \n",
              "count                12694445  12694445           12694445   12694445   \n",
              "NA                          0         0                  0          0   \n",
              "mean       2015.0335246637408        --  52485.92425151316         --   \n",
              "std                  0.794052        --       26412.625647         --   \n",
              "min                      2014        --              10046         --   \n",
              "max                      2016        --              99969         --   \n",
              "\n",
              "                  VersionNum ImportDate          IssuerId2 FederalTIN  \\\n",
              "data_type              int64     string              int64     string   \n",
              "count               12694445   12694445           12694445   12694445   \n",
              "NA                         0          0                  0          0   \n",
              "mean       6.865558281594824         --  52485.92425151316         --   \n",
              "std                  3.85718         --       26412.625647         --   \n",
              "min                        1         --              10046         --   \n",
              "max                       24         --              99969         --   \n",
              "\n",
              "          RateEffectiveDate RateExpirationDate  ...     IndividualRate  \\\n",
              "data_type            string             string  ...            float64   \n",
              "count              12694445           12694445  ...           12694445   \n",
              "NA                        0                  0  ...                  0   \n",
              "mean                     --                 --  ...  4098.026458607817   \n",
              "std                      --                 --  ...       61222.710175   \n",
              "min                      --                 --  ...                0.0   \n",
              "max                      --                 --  ...           999999.0   \n",
              "\n",
              "          IndividualTobaccoRate            Couple  \\\n",
              "data_type               float64           float64   \n",
              "count                   4932349             40941   \n",
              "NA                      7762096          12653504   \n",
              "mean          543.6910791972604  48.1157143206081   \n",
              "std                  294.591552         30.422519   \n",
              "min                       41.73               0.0   \n",
              "max                     6604.61             182.4   \n",
              "\n",
              "          PrimarySubscriberAndOneDependent PrimarySubscriberAndTwoDependents  \\\n",
              "data_type                          float64                           float64   \n",
              "count                                40941                             40941   \n",
              "NA                                12653504                          12653504   \n",
              "mean                     49.83590093060736                 70.66001196844134   \n",
              "std                              29.691623                         44.619585   \n",
              "min                                    0.0                               0.0   \n",
              "max                                 169.65                            251.74   \n",
              "\n",
              "          PrimarySubscriberAndThreeOrMoreDependents CoupleAndOneDependent  \\\n",
              "data_type                                   float64               float64   \n",
              "count                                         40941                 40941   \n",
              "NA                                         12653504              12653504   \n",
              "mean                              89.40549400356075      72.7827932879011   \n",
              "std                                       57.698574             48.231948   \n",
              "min                                             0.0                   0.0   \n",
              "max                                          357.94                260.85   \n",
              "\n",
              "          CoupleAndTwoDependents CoupleAndThreeOrMoreDependents  \\\n",
              "data_type                float64                        float64   \n",
              "count                      40941                          40941   \n",
              "NA                      12653504                       12653504   \n",
              "mean           89.01285874795374             107.80777362545656   \n",
              "std                    59.138371                      73.240279   \n",
              "min                          0.0                            0.0   \n",
              "max                       339.31                         449.14   \n",
              "\n",
              "                   RowNumber  \n",
              "data_type              int64  \n",
              "count               12694445  \n",
              "NA                         0  \n",
              "mean       6348.572395406022  \n",
              "std              9011.434624  \n",
              "min                       14  \n",
              "max                    63493  \n",
              "\n",
              "[7 rows x 24 columns]"
            ],
            "text/html": [
              "\n",
              "  <div id=\"df-50afee96-71b1-403f-8d2f-5b4e940f34ea\">\n",
              "    <div class=\"colab-df-container\">\n",
              "      <div>\n",
              "<style scoped>\n",
              "    .dataframe tbody tr th:only-of-type {\n",
              "        vertical-align: middle;\n",
              "    }\n",
              "\n",
              "    .dataframe tbody tr th {\n",
              "        vertical-align: top;\n",
              "    }\n",
              "\n",
              "    .dataframe thead th {\n",
              "        text-align: right;\n",
              "    }\n",
              "</style>\n",
              "<table border=\"1\" class=\"dataframe\">\n",
              "  <thead>\n",
              "    <tr style=\"text-align: right;\">\n",
              "      <th></th>\n",
              "      <th>BusinessYear</th>\n",
              "      <th>StateCode</th>\n",
              "      <th>IssuerId</th>\n",
              "      <th>SourceName</th>\n",
              "      <th>VersionNum</th>\n",
              "      <th>ImportDate</th>\n",
              "      <th>IssuerId2</th>\n",
              "      <th>FederalTIN</th>\n",
              "      <th>RateEffectiveDate</th>\n",
              "      <th>RateExpirationDate</th>\n",
              "      <th>...</th>\n",
              "      <th>IndividualRate</th>\n",
              "      <th>IndividualTobaccoRate</th>\n",
              "      <th>Couple</th>\n",
              "      <th>PrimarySubscriberAndOneDependent</th>\n",
              "      <th>PrimarySubscriberAndTwoDependents</th>\n",
              "      <th>PrimarySubscriberAndThreeOrMoreDependents</th>\n",
              "      <th>CoupleAndOneDependent</th>\n",
              "      <th>CoupleAndTwoDependents</th>\n",
              "      <th>CoupleAndThreeOrMoreDependents</th>\n",
              "      <th>RowNumber</th>\n",
              "    </tr>\n",
              "  </thead>\n",
              "  <tbody>\n",
              "    <tr>\n",
              "      <th>data_type</th>\n",
              "      <td>int64</td>\n",
              "      <td>string</td>\n",
              "      <td>int64</td>\n",
              "      <td>string</td>\n",
              "      <td>int64</td>\n",
              "      <td>string</td>\n",
              "      <td>int64</td>\n",
              "      <td>string</td>\n",
              "      <td>string</td>\n",
              "      <td>string</td>\n",
              "      <td>...</td>\n",
              "      <td>float64</td>\n",
              "      <td>float64</td>\n",
              "      <td>float64</td>\n",
              "      <td>float64</td>\n",
              "      <td>float64</td>\n",
              "      <td>float64</td>\n",
              "      <td>float64</td>\n",
              "      <td>float64</td>\n",
              "      <td>float64</td>\n",
              "      <td>int64</td>\n",
              "    </tr>\n",
              "    <tr>\n",
              "      <th>count</th>\n",
              "      <td>12694445</td>\n",
              "      <td>12694445</td>\n",
              "      <td>12694445</td>\n",
              "      <td>12694445</td>\n",
              "      <td>12694445</td>\n",
              "      <td>12694445</td>\n",
              "      <td>12694445</td>\n",
              "      <td>12694445</td>\n",
              "      <td>12694445</td>\n",
              "      <td>12694445</td>\n",
              "      <td>...</td>\n",
              "      <td>12694445</td>\n",
              "      <td>4932349</td>\n",
              "      <td>40941</td>\n",
              "      <td>40941</td>\n",
              "      <td>40941</td>\n",
              "      <td>40941</td>\n",
              "      <td>40941</td>\n",
              "      <td>40941</td>\n",
              "      <td>40941</td>\n",
              "      <td>12694445</td>\n",
              "    </tr>\n",
              "    <tr>\n",
              "      <th>NA</th>\n",
              "      <td>0</td>\n",
              "      <td>0</td>\n",
              "      <td>0</td>\n",
              "      <td>0</td>\n",
              "      <td>0</td>\n",
              "      <td>0</td>\n",
              "      <td>0</td>\n",
              "      <td>0</td>\n",
              "      <td>0</td>\n",
              "      <td>0</td>\n",
              "      <td>...</td>\n",
              "      <td>0</td>\n",
              "      <td>7762096</td>\n",
              "      <td>12653504</td>\n",
              "      <td>12653504</td>\n",
              "      <td>12653504</td>\n",
              "      <td>12653504</td>\n",
              "      <td>12653504</td>\n",
              "      <td>12653504</td>\n",
              "      <td>12653504</td>\n",
              "      <td>0</td>\n",
              "    </tr>\n",
              "    <tr>\n",
              "      <th>mean</th>\n",
              "      <td>2015.0335246637408</td>\n",
              "      <td>--</td>\n",
              "      <td>52485.92425151316</td>\n",
              "      <td>--</td>\n",
              "      <td>6.865558281594824</td>\n",
              "      <td>--</td>\n",
              "      <td>52485.92425151316</td>\n",
              "      <td>--</td>\n",
              "      <td>--</td>\n",
              "      <td>--</td>\n",
              "      <td>...</td>\n",
              "      <td>4098.026458607817</td>\n",
              "      <td>543.6910791972604</td>\n",
              "      <td>48.1157143206081</td>\n",
              "      <td>49.83590093060736</td>\n",
              "      <td>70.66001196844134</td>\n",
              "      <td>89.40549400356075</td>\n",
              "      <td>72.7827932879011</td>\n",
              "      <td>89.01285874795374</td>\n",
              "      <td>107.80777362545656</td>\n",
              "      <td>6348.572395406022</td>\n",
              "    </tr>\n",
              "    <tr>\n",
              "      <th>std</th>\n",
              "      <td>0.794052</td>\n",
              "      <td>--</td>\n",
              "      <td>26412.625647</td>\n",
              "      <td>--</td>\n",
              "      <td>3.85718</td>\n",
              "      <td>--</td>\n",
              "      <td>26412.625647</td>\n",
              "      <td>--</td>\n",
              "      <td>--</td>\n",
              "      <td>--</td>\n",
              "      <td>...</td>\n",
              "      <td>61222.710175</td>\n",
              "      <td>294.591552</td>\n",
              "      <td>30.422519</td>\n",
              "      <td>29.691623</td>\n",
              "      <td>44.619585</td>\n",
              "      <td>57.698574</td>\n",
              "      <td>48.231948</td>\n",
              "      <td>59.138371</td>\n",
              "      <td>73.240279</td>\n",
              "      <td>9011.434624</td>\n",
              "    </tr>\n",
              "    <tr>\n",
              "      <th>min</th>\n",
              "      <td>2014</td>\n",
              "      <td>--</td>\n",
              "      <td>10046</td>\n",
              "      <td>--</td>\n",
              "      <td>1</td>\n",
              "      <td>--</td>\n",
              "      <td>10046</td>\n",
              "      <td>--</td>\n",
              "      <td>--</td>\n",
              "      <td>--</td>\n",
              "      <td>...</td>\n",
              "      <td>0.0</td>\n",
              "      <td>41.73</td>\n",
              "      <td>0.0</td>\n",
              "      <td>0.0</td>\n",
              "      <td>0.0</td>\n",
              "      <td>0.0</td>\n",
              "      <td>0.0</td>\n",
              "      <td>0.0</td>\n",
              "      <td>0.0</td>\n",
              "      <td>14</td>\n",
              "    </tr>\n",
              "    <tr>\n",
              "      <th>max</th>\n",
              "      <td>2016</td>\n",
              "      <td>--</td>\n",
              "      <td>99969</td>\n",
              "      <td>--</td>\n",
              "      <td>24</td>\n",
              "      <td>--</td>\n",
              "      <td>99969</td>\n",
              "      <td>--</td>\n",
              "      <td>--</td>\n",
              "      <td>--</td>\n",
              "      <td>...</td>\n",
              "      <td>999999.0</td>\n",
              "      <td>6604.61</td>\n",
              "      <td>182.4</td>\n",
              "      <td>169.65</td>\n",
              "      <td>251.74</td>\n",
              "      <td>357.94</td>\n",
              "      <td>260.85</td>\n",
              "      <td>339.31</td>\n",
              "      <td>449.14</td>\n",
              "      <td>63493</td>\n",
              "    </tr>\n",
              "  </tbody>\n",
              "</table>\n",
              "<p>7 rows × 24 columns</p>\n",
              "</div>\n",
              "      <button class=\"colab-df-convert\" onclick=\"convertToInteractive('df-50afee96-71b1-403f-8d2f-5b4e940f34ea')\"\n",
              "              title=\"Convert this dataframe to an interactive table.\"\n",
              "              style=\"display:none;\">\n",
              "        \n",
              "  <svg xmlns=\"http://www.w3.org/2000/svg\" height=\"24px\"viewBox=\"0 0 24 24\"\n",
              "       width=\"24px\">\n",
              "    <path d=\"M0 0h24v24H0V0z\" fill=\"none\"/>\n",
              "    <path d=\"M18.56 5.44l.94 2.06.94-2.06 2.06-.94-2.06-.94-.94-2.06-.94 2.06-2.06.94zm-11 1L8.5 8.5l.94-2.06 2.06-.94-2.06-.94L8.5 2.5l-.94 2.06-2.06.94zm10 10l.94 2.06.94-2.06 2.06-.94-2.06-.94-.94-2.06-.94 2.06-2.06.94z\"/><path d=\"M17.41 7.96l-1.37-1.37c-.4-.4-.92-.59-1.43-.59-.52 0-1.04.2-1.43.59L10.3 9.45l-7.72 7.72c-.78.78-.78 2.05 0 2.83L4 21.41c.39.39.9.59 1.41.59.51 0 1.02-.2 1.41-.59l7.78-7.78 2.81-2.81c.8-.78.8-2.07 0-2.86zM5.41 20L4 18.59l7.72-7.72 1.47 1.35L5.41 20z\"/>\n",
              "  </svg>\n",
              "      </button>\n",
              "      \n",
              "  <style>\n",
              "    .colab-df-container {\n",
              "      display:flex;\n",
              "      flex-wrap:wrap;\n",
              "      gap: 12px;\n",
              "    }\n",
              "\n",
              "    .colab-df-convert {\n",
              "      background-color: #E8F0FE;\n",
              "      border: none;\n",
              "      border-radius: 50%;\n",
              "      cursor: pointer;\n",
              "      display: none;\n",
              "      fill: #1967D2;\n",
              "      height: 32px;\n",
              "      padding: 0 0 0 0;\n",
              "      width: 32px;\n",
              "    }\n",
              "\n",
              "    .colab-df-convert:hover {\n",
              "      background-color: #E2EBFA;\n",
              "      box-shadow: 0px 1px 2px rgba(60, 64, 67, 0.3), 0px 1px 3px 1px rgba(60, 64, 67, 0.15);\n",
              "      fill: #174EA6;\n",
              "    }\n",
              "\n",
              "    [theme=dark] .colab-df-convert {\n",
              "      background-color: #3B4455;\n",
              "      fill: #D2E3FC;\n",
              "    }\n",
              "\n",
              "    [theme=dark] .colab-df-convert:hover {\n",
              "      background-color: #434B5C;\n",
              "      box-shadow: 0px 1px 3px 1px rgba(0, 0, 0, 0.15);\n",
              "      filter: drop-shadow(0px 1px 2px rgba(0, 0, 0, 0.3));\n",
              "      fill: #FFFFFF;\n",
              "    }\n",
              "  </style>\n",
              "\n",
              "      <script>\n",
              "        const buttonEl =\n",
              "          document.querySelector('#df-50afee96-71b1-403f-8d2f-5b4e940f34ea button.colab-df-convert');\n",
              "        buttonEl.style.display =\n",
              "          google.colab.kernel.accessAllowed ? 'block' : 'none';\n",
              "\n",
              "        async function convertToInteractive(key) {\n",
              "          const element = document.querySelector('#df-50afee96-71b1-403f-8d2f-5b4e940f34ea');\n",
              "          const dataTable =\n",
              "            await google.colab.kernel.invokeFunction('convertToInteractive',\n",
              "                                                     [key], {});\n",
              "          if (!dataTable) return;\n",
              "\n",
              "          const docLinkHtml = 'Like what you see? Visit the ' +\n",
              "            '<a target=\"_blank\" href=https://colab.research.google.com/notebooks/data_table.ipynb>data table notebook</a>'\n",
              "            + ' to learn more about interactive tables.';\n",
              "          element.innerHTML = '';\n",
              "          dataTable['output_type'] = 'display_data';\n",
              "          await google.colab.output.renderOutput(dataTable, element);\n",
              "          const docLink = document.createElement('div');\n",
              "          docLink.innerHTML = docLinkHtml;\n",
              "          element.appendChild(docLink);\n",
              "        }\n",
              "      </script>\n",
              "    </div>\n",
              "  </div>\n",
              "  "
            ]
          },
          "metadata": {},
          "execution_count": 53
        }
      ]
    },
    {
      "cell_type": "markdown",
      "source": [
        "**3) Filter Dataset**\n",
        "\n",
        "In Python, filtering is one of the most time-consuming steps. But filtering the Vaex dataframe takes very little time. This is due to Vaex's zero memory copy policy. This means that filtering a DataFrame requires minimal memory and does not duplicate the data. df_filtered has a \"view\" on the original data. Even when you filter a 1TB file, only a fraction will be read. This means that when you have a large number of missing values, you can either drop them or fill them at almost no cost."
      ],
      "metadata": {
        "id": "z3lELw6eG0Ne"
      }
    },
    {
      "cell_type": "code",
      "source": [
        "%time df_filtered = df[df['BusinessYear']==2016]  # easily filter your DataFrame, without making a copy\n",
        "df_filtered.head(5)"
      ],
      "metadata": {
        "id": "MV4Pdz0XBuF-",
        "colab": {
          "base_uri": "https://localhost:8080/",
          "height": 289
        },
        "outputId": "73978014-f833-4925-fc61-ed1c836e2659"
      },
      "execution_count": null,
      "outputs": [
        {
          "output_type": "stream",
          "name": "stdout",
          "text": [
            "CPU times: user 4.15 ms, sys: 14.9 ms, total: 19 ms\n",
            "Wall time: 27.5 ms\n"
          ]
        },
        {
          "output_type": "execute_result",
          "data": {
            "text/html": [
              "<table>\n",
              "<thead>\n",
              "<tr><th>#                            </th><th style=\"text-align: right;\">  BusinessYear</th><th>StateCode  </th><th style=\"text-align: right;\">  IssuerId</th><th>SourceName  </th><th style=\"text-align: right;\">  VersionNum</th><th>ImportDate         </th><th style=\"text-align: right;\">  IssuerId2</th><th>FederalTIN  </th><th>RateEffectiveDate  </th><th>RateExpirationDate  </th><th>PlanId        </th><th>RatingAreaId  </th><th>Tobacco      </th><th>Age          </th><th style=\"text-align: right;\">  IndividualRate</th><th style=\"text-align: right;\">  IndividualTobaccoRate</th><th style=\"text-align: right;\">  Couple</th><th style=\"text-align: right;\">  PrimarySubscriberAndOneDependent</th><th style=\"text-align: right;\">  PrimarySubscriberAndTwoDependents</th><th style=\"text-align: right;\">  PrimarySubscriberAndThreeOrMoreDependents</th><th style=\"text-align: right;\">  CoupleAndOneDependent</th><th style=\"text-align: right;\">  CoupleAndTwoDependents</th><th style=\"text-align: right;\">  CoupleAndThreeOrMoreDependents</th><th style=\"text-align: right;\">  RowNumber</th></tr>\n",
              "</thead>\n",
              "<tbody>\n",
              "<tr><td><i style='opacity: 0.6'>0</i></td><td style=\"text-align: right;\">          2016</td><td>AK         </td><td style=\"text-align: right;\">     21989</td><td>HIOS        </td><td style=\"text-align: right;\">           4</td><td>2015-08-22 15:09:32</td><td style=\"text-align: right;\">      21989</td><td>93-0438772  </td><td>2016-01-01         </td><td>2016-12-31          </td><td>21989AK0030001</td><td>Rating Area 1 </td><td>No Preference</td><td>0-20         </td><td style=\"text-align: right;\">           43   </td><td style=\"text-align: right;\">                    nan</td><td style=\"text-align: right;\">  nan   </td><td style=\"text-align: right;\">                            nan   </td><td style=\"text-align: right;\">                             nan   </td><td style=\"text-align: right;\">                                     nan   </td><td style=\"text-align: right;\">                 nan   </td><td style=\"text-align: right;\">                  nan   </td><td style=\"text-align: right;\">                          nan   </td><td style=\"text-align: right;\">         14</td></tr>\n",
              "<tr><td><i style='opacity: 0.6'>1</i></td><td style=\"text-align: right;\">          2016</td><td>AK         </td><td style=\"text-align: right;\">     21989</td><td>HIOS        </td><td style=\"text-align: right;\">           4</td><td>2015-08-22 15:09:32</td><td style=\"text-align: right;\">      21989</td><td>93-0438772  </td><td>2016-01-01         </td><td>2016-03-31          </td><td>21989AK0080001</td><td>Rating Area 1 </td><td>No Preference</td><td>Family Option</td><td style=\"text-align: right;\">           50.67</td><td style=\"text-align: right;\">                    nan</td><td style=\"text-align: right;\">  100.33</td><td style=\"text-align: right;\">                            116.04</td><td style=\"text-align: right;\">                             116.04</td><td style=\"text-align: right;\">                                     116.04</td><td style=\"text-align: right;\">                 117.86</td><td style=\"text-align: right;\">                  117.86</td><td style=\"text-align: right;\">                          117.86</td><td style=\"text-align: right;\">         14</td></tr>\n",
              "<tr><td><i style='opacity: 0.6'>2</i></td><td style=\"text-align: right;\">          2016</td><td>AK         </td><td style=\"text-align: right;\">     21989</td><td>HIOS        </td><td style=\"text-align: right;\">           4</td><td>2015-08-22 15:09:32</td><td style=\"text-align: right;\">      21989</td><td>93-0438772  </td><td>2016-04-01         </td><td>2016-06-30          </td><td>21989AK0080001</td><td>Rating Area 1 </td><td>No Preference</td><td>Family Option</td><td style=\"text-align: right;\">           51.36</td><td style=\"text-align: right;\">                    nan</td><td style=\"text-align: right;\">  101.7 </td><td style=\"text-align: right;\">                            117.62</td><td style=\"text-align: right;\">                             117.62</td><td style=\"text-align: right;\">                                     117.62</td><td style=\"text-align: right;\">                 180.28</td><td style=\"text-align: right;\">                  180.28</td><td style=\"text-align: right;\">                          180.28</td><td style=\"text-align: right;\">         14</td></tr>\n",
              "<tr><td><i style='opacity: 0.6'>3</i></td><td style=\"text-align: right;\">          2016</td><td>AK         </td><td style=\"text-align: right;\">     21989</td><td>HIOS        </td><td style=\"text-align: right;\">           4</td><td>2015-08-22 15:09:32</td><td style=\"text-align: right;\">      21989</td><td>93-0438772  </td><td>2016-01-01         </td><td>2016-03-31          </td><td>21989AK0090001</td><td>Rating Area 1 </td><td>No Preference</td><td>0-20         </td><td style=\"text-align: right;\">           61   </td><td style=\"text-align: right;\">                    nan</td><td style=\"text-align: right;\">  nan   </td><td style=\"text-align: right;\">                            nan   </td><td style=\"text-align: right;\">                             nan   </td><td style=\"text-align: right;\">                                     nan   </td><td style=\"text-align: right;\">                 nan   </td><td style=\"text-align: right;\">                  nan   </td><td style=\"text-align: right;\">                          nan   </td><td style=\"text-align: right;\">         14</td></tr>\n",
              "<tr><td><i style='opacity: 0.6'>4</i></td><td style=\"text-align: right;\">          2016</td><td>AK         </td><td style=\"text-align: right;\">     21989</td><td>HIOS        </td><td style=\"text-align: right;\">           4</td><td>2015-08-22 15:09:32</td><td style=\"text-align: right;\">      21989</td><td>93-0438772  </td><td>2016-04-01         </td><td>2016-06-30          </td><td>21989AK0090001</td><td>Rating Area 1 </td><td>No Preference</td><td>0-20         </td><td style=\"text-align: right;\">           62   </td><td style=\"text-align: right;\">                    nan</td><td style=\"text-align: right;\">  nan   </td><td style=\"text-align: right;\">                            nan   </td><td style=\"text-align: right;\">                             nan   </td><td style=\"text-align: right;\">                                     nan   </td><td style=\"text-align: right;\">                 nan   </td><td style=\"text-align: right;\">                  nan   </td><td style=\"text-align: right;\">                          nan   </td><td style=\"text-align: right;\">         14</td></tr>\n",
              "</tbody>\n",
              "</table>"
            ],
            "text/plain": [
              "  #    BusinessYear  StateCode      IssuerId  SourceName      VersionNum  ImportDate             IssuerId2  FederalTIN    RateEffectiveDate    RateExpirationDate    PlanId          RatingAreaId    Tobacco        Age              IndividualRate    IndividualTobaccoRate    Couple    PrimarySubscriberAndOneDependent    PrimarySubscriberAndTwoDependents    PrimarySubscriberAndThreeOrMoreDependents    CoupleAndOneDependent    CoupleAndTwoDependents    CoupleAndThreeOrMoreDependents    RowNumber\n",
              "  0            2016  AK                21989  HIOS                     4  2015-08-22 15:09:32        21989  93-0438772    2016-01-01           2016-12-31            21989AK0030001  Rating Area 1   No Preference  0-20                      43                         nan    nan                                 nan                                  nan                                          nan                      nan                       nan                               nan              14\n",
              "  1            2016  AK                21989  HIOS                     4  2015-08-22 15:09:32        21989  93-0438772    2016-01-01           2016-03-31            21989AK0080001  Rating Area 1   No Preference  Family Option             50.67                      nan    100.33                              116.04                               116.04                                       116.04                   117.86                    117.86                            117.86           14\n",
              "  2            2016  AK                21989  HIOS                     4  2015-08-22 15:09:32        21989  93-0438772    2016-04-01           2016-06-30            21989AK0080001  Rating Area 1   No Preference  Family Option             51.36                      nan    101.7                               117.62                               117.62                                       117.62                   180.28                    180.28                            180.28           14\n",
              "  3            2016  AK                21989  HIOS                     4  2015-08-22 15:09:32        21989  93-0438772    2016-01-01           2016-03-31            21989AK0090001  Rating Area 1   No Preference  0-20                      61                         nan    nan                                 nan                                  nan                                          nan                      nan                       nan                               nan              14\n",
              "  4            2016  AK                21989  HIOS                     4  2015-08-22 15:09:32        21989  93-0438772    2016-04-01           2016-06-30            21989AK0090001  Rating Area 1   No Preference  0-20                      62                         nan    nan                                 nan                                  nan                                          nan                      nan                       nan                               nan              14"
            ]
          },
          "metadata": {},
          "execution_count": 54
        }
      ]
    },
    {
      "cell_type": "markdown",
      "source": [
        "**4) Find and Handle Missing Values**\n",
        "\n",
        "The ismissing(), isna(), and isnan() functions can be used to obtain information regarding missing data. The first function returns true when missing values (masked arrays), missing strings, or None are encountered. The second function returns a boolean expression that indicates whether the specified values are Not Available (missing or NaN). The third function returns an array containing values of type NaN."
      ],
      "metadata": {
        "id": "d0U-DPaTEy-7"
      }
    },
    {
      "cell_type": "code",
      "source": [
        "%time df.IndividualTobaccoRate.ismissing().sum()"
      ],
      "metadata": {
        "id": "tVe4eXSsEyiW",
        "colab": {
          "base_uri": "https://localhost:8080/"
        },
        "outputId": "770af56c-e43c-46fb-d944-0db48c236458"
      },
      "execution_count": null,
      "outputs": [
        {
          "output_type": "stream",
          "name": "stdout",
          "text": [
            "CPU times: user 94.6 ms, sys: 2.81 ms, total: 97.4 ms\n",
            "Wall time: 66.4 ms\n"
          ]
        },
        {
          "output_type": "execute_result",
          "data": {
            "text/plain": [
              "array(0)"
            ]
          },
          "metadata": {},
          "execution_count": 55
        }
      ]
    },
    {
      "cell_type": "code",
      "source": [
        "%time df.IndividualTobaccoRate.isna().sum()"
      ],
      "metadata": {
        "colab": {
          "base_uri": "https://localhost:8080/"
        },
        "id": "JPeCK5fdNUVN",
        "outputId": "dd46b0b4-57c0-4522-85a9-bd17fe435322"
      },
      "execution_count": null,
      "outputs": [
        {
          "output_type": "stream",
          "name": "stdout",
          "text": [
            "CPU times: user 126 ms, sys: 1.71 ms, total: 128 ms\n",
            "Wall time: 84.2 ms\n"
          ]
        },
        {
          "output_type": "execute_result",
          "data": {
            "text/plain": [
              "array(7762096)"
            ]
          },
          "metadata": {},
          "execution_count": 56
        }
      ]
    },
    {
      "cell_type": "code",
      "source": [
        "%time df.IndividualTobaccoRate.isnan().sum()"
      ],
      "metadata": {
        "colab": {
          "base_uri": "https://localhost:8080/"
        },
        "id": "Zo-FqxArNWEw",
        "outputId": "8a0b1a2b-e721-49fa-bffe-54ab399a1c2f"
      },
      "execution_count": null,
      "outputs": [
        {
          "output_type": "stream",
          "name": "stdout",
          "text": [
            "CPU times: user 125 ms, sys: 0 ns, total: 125 ms\n",
            "Wall time: 78 ms\n"
          ]
        },
        {
          "output_type": "execute_result",
          "data": {
            "text/plain": [
              "array(7762096)"
            ]
          },
          "metadata": {},
          "execution_count": 57
        }
      ]
    },
    {
      "cell_type": "markdown",
      "source": [
        "In the IndividualTobaccoRate column of the results, there are 7762096 values of \"Not Available\" or NaN. Then, we use fillna with the value 0 to replace any NaN values. Instead of omitting the column, which would remove a huge record of data, we can assume that NaN indicates that the person in question did not smoke."
      ],
      "metadata": {
        "id": "jQsLE2q9OByL"
      }
    },
    {
      "cell_type": "code",
      "source": [
        "%time df_fillna = df.fillna(value=0, column_names=['IndividualTobaccoRate'])\n",
        "\n",
        "df_fillna"
      ],
      "metadata": {
        "id": "_zkeM7g-0rg8",
        "colab": {
          "base_uri": "https://localhost:8080/",
          "height": 521
        },
        "outputId": "d9efaf3d-eefa-4c28-ec75-32737edeaacc"
      },
      "execution_count": null,
      "outputs": [
        {
          "output_type": "stream",
          "name": "stdout",
          "text": [
            "CPU times: user 2.41 ms, sys: 826 µs, total: 3.24 ms\n",
            "Wall time: 3.26 ms\n"
          ]
        },
        {
          "output_type": "execute_result",
          "data": {
            "text/html": [
              "<table>\n",
              "<thead>\n",
              "<tr><th>#                                     </th><th>BusinessYear  </th><th>StateCode  </th><th>IssuerId  </th><th>SourceName  </th><th>VersionNum  </th><th>ImportDate         </th><th>IssuerId2  </th><th>FederalTIN  </th><th>RateEffectiveDate  </th><th>RateExpirationDate  </th><th>PlanId        </th><th>RatingAreaId  </th><th>Tobacco      </th><th>Age          </th><th>IndividualRate  </th><th>IndividualTobaccoRate  </th><th>Couple  </th><th>PrimarySubscriberAndOneDependent  </th><th>PrimarySubscriberAndTwoDependents  </th><th>PrimarySubscriberAndThreeOrMoreDependents  </th><th>CoupleAndOneDependent  </th><th>CoupleAndTwoDependents  </th><th>CoupleAndThreeOrMoreDependents  </th><th>RowNumber  </th></tr>\n",
              "</thead>\n",
              "<tbody>\n",
              "<tr><td><i style='opacity: 0.6'>0</i>         </td><td>2014          </td><td>AK         </td><td>21989     </td><td>HIOS        </td><td>6           </td><td>2014-03-19 07:06:49</td><td>21989      </td><td>93-0438772  </td><td>2014-01-01         </td><td>2014-12-31          </td><td>21989AK0010001</td><td>Rating Area 1 </td><td>No Preference</td><td>0-20         </td><td>29.0            </td><td>0.0                    </td><td>nan     </td><td>nan                               </td><td>nan                                </td><td>nan                                        </td><td>nan                    </td><td>nan                     </td><td>nan                             </td><td>14         </td></tr>\n",
              "<tr><td><i style='opacity: 0.6'>1</i>         </td><td>2014          </td><td>AK         </td><td>21989     </td><td>HIOS        </td><td>6           </td><td>2014-03-19 07:06:49</td><td>21989      </td><td>93-0438772  </td><td>2014-01-01         </td><td>2014-12-31          </td><td>21989AK0020001</td><td>Rating Area 1 </td><td>No Preference</td><td>Family Option</td><td>36.95           </td><td>0.0                    </td><td>73.9    </td><td>107.61                            </td><td>107.61                             </td><td>107.61                                     </td><td>144.56                 </td><td>144.56                  </td><td>144.56                          </td><td>14         </td></tr>\n",
              "<tr><td><i style='opacity: 0.6'>2</i>         </td><td>2014          </td><td>AK         </td><td>21989     </td><td>HIOS        </td><td>6           </td><td>2014-03-19 07:06:49</td><td>21989      </td><td>93-0438772  </td><td>2014-01-01         </td><td>2014-12-31          </td><td>21989AK0020001</td><td>Rating Area 2 </td><td>No Preference</td><td>Family Option</td><td>36.95           </td><td>0.0                    </td><td>73.9    </td><td>107.61                            </td><td>107.61                             </td><td>107.61                                     </td><td>144.56                 </td><td>144.56                  </td><td>144.56                          </td><td>15         </td></tr>\n",
              "<tr><td><i style='opacity: 0.6'>3</i>         </td><td>2014          </td><td>AK         </td><td>21989     </td><td>HIOS        </td><td>6           </td><td>2014-03-19 07:06:49</td><td>21989      </td><td>93-0438772  </td><td>2014-01-01         </td><td>2014-12-31          </td><td>21989AK0010001</td><td>Rating Area 1 </td><td>No Preference</td><td>21           </td><td>32.0            </td><td>0.0                    </td><td>nan     </td><td>nan                               </td><td>nan                                </td><td>nan                                        </td><td>nan                    </td><td>nan                     </td><td>nan                             </td><td>15         </td></tr>\n",
              "<tr><td><i style='opacity: 0.6'>4</i>         </td><td>2014          </td><td>AK         </td><td>21989     </td><td>HIOS        </td><td>6           </td><td>2014-03-19 07:06:49</td><td>21989      </td><td>93-0438772  </td><td>2014-01-01         </td><td>2014-12-31          </td><td>21989AK0010001</td><td>Rating Area 1 </td><td>No Preference</td><td>22           </td><td>32.0            </td><td>0.0                    </td><td>nan     </td><td>nan                               </td><td>nan                                </td><td>nan                                        </td><td>nan                    </td><td>nan                     </td><td>nan                             </td><td>16         </td></tr>\n",
              "<tr><td>...                                   </td><td>...           </td><td>...        </td><td>...       </td><td>...         </td><td>...         </td><td>...                </td><td>...        </td><td>...         </td><td>...                </td><td>...                 </td><td>...           </td><td>...           </td><td>...          </td><td>...          </td><td>...             </td><td>...                    </td><td>...     </td><td>...                               </td><td>...                                </td><td>...                                        </td><td>...                    </td><td>...                     </td><td>...                             </td><td>...        </td></tr>\n",
              "<tr><td><i style='opacity: 0.6'>12,694,440</i></td><td>2016          </td><td>WV         </td><td>96480     </td><td>SERFF       </td><td>2           </td><td>2015-08-20 12:28:36</td><td>96480      </td><td>13-5123390  </td><td>2016-01-01         </td><td>2016-12-31          </td><td>96480WV0090003</td><td>Rating Area 11</td><td>No Preference</td><td>61           </td><td>14.05           </td><td>0.0                    </td><td>nan     </td><td>nan                               </td><td>nan                                </td><td>nan                                        </td><td>nan                    </td><td>nan                     </td><td>nan                             </td><td>2033       </td></tr>\n",
              "<tr><td><i style='opacity: 0.6'>12,694,441</i></td><td>2016          </td><td>WV         </td><td>96480     </td><td>SERFF       </td><td>2           </td><td>2015-08-20 12:28:36</td><td>96480      </td><td>13-5123390  </td><td>2016-01-01         </td><td>2016-12-31          </td><td>96480WV0090003</td><td>Rating Area 11</td><td>No Preference</td><td>62           </td><td>14.05           </td><td>0.0                    </td><td>nan     </td><td>nan                               </td><td>nan                                </td><td>nan                                        </td><td>nan                    </td><td>nan                     </td><td>nan                             </td><td>2034       </td></tr>\n",
              "<tr><td><i style='opacity: 0.6'>12,694,442</i></td><td>2016          </td><td>WV         </td><td>96480     </td><td>SERFF       </td><td>2           </td><td>2015-08-20 12:28:36</td><td>96480      </td><td>13-5123390  </td><td>2016-01-01         </td><td>2016-12-31          </td><td>96480WV0090003</td><td>Rating Area 11</td><td>No Preference</td><td>63           </td><td>14.05           </td><td>0.0                    </td><td>nan     </td><td>nan                               </td><td>nan                                </td><td>nan                                        </td><td>nan                    </td><td>nan                     </td><td>nan                             </td><td>2035       </td></tr>\n",
              "<tr><td><i style='opacity: 0.6'>12,694,443</i></td><td>2016          </td><td>WV         </td><td>96480     </td><td>SERFF       </td><td>2           </td><td>2015-08-20 12:28:36</td><td>96480      </td><td>13-5123390  </td><td>2016-01-01         </td><td>2016-12-31          </td><td>96480WV0090003</td><td>Rating Area 11</td><td>No Preference</td><td>64           </td><td>14.05           </td><td>0.0                    </td><td>nan     </td><td>nan                               </td><td>nan                                </td><td>nan                                        </td><td>nan                    </td><td>nan                     </td><td>nan                             </td><td>2036       </td></tr>\n",
              "<tr><td><i style='opacity: 0.6'>12,694,444</i></td><td>2016          </td><td>WV         </td><td>96480     </td><td>SERFF       </td><td>2           </td><td>2015-08-20 12:28:36</td><td>96480      </td><td>13-5123390  </td><td>2016-01-01         </td><td>2016-12-31          </td><td>96480WV0090003</td><td>Rating Area 11</td><td>No Preference</td><td>65 and over  </td><td>14.05           </td><td>0.0                    </td><td>nan     </td><td>nan                               </td><td>nan                                </td><td>nan                                        </td><td>nan                    </td><td>nan                     </td><td>nan                             </td><td>2037       </td></tr>\n",
              "</tbody>\n",
              "</table>"
            ],
            "text/plain": [
              "#           BusinessYear    StateCode    IssuerId    SourceName    VersionNum    ImportDate           IssuerId2    FederalTIN    RateEffectiveDate    RateExpirationDate    PlanId          RatingAreaId    Tobacco        Age            IndividualRate    IndividualTobaccoRate    Couple    PrimarySubscriberAndOneDependent    PrimarySubscriberAndTwoDependents    PrimarySubscriberAndThreeOrMoreDependents    CoupleAndOneDependent    CoupleAndTwoDependents    CoupleAndThreeOrMoreDependents    RowNumber\n",
              "0           2014            AK           21989       HIOS          6             2014-03-19 07:06:49  21989        93-0438772    2014-01-01           2014-12-31            21989AK0010001  Rating Area 1   No Preference  0-20           29.0              0.0                      nan       nan                                 nan                                  nan                                          nan                      nan                       nan                               14\n",
              "1           2014            AK           21989       HIOS          6             2014-03-19 07:06:49  21989        93-0438772    2014-01-01           2014-12-31            21989AK0020001  Rating Area 1   No Preference  Family Option  36.95             0.0                      73.9      107.61                              107.61                               107.61                                       144.56                   144.56                    144.56                            14\n",
              "2           2014            AK           21989       HIOS          6             2014-03-19 07:06:49  21989        93-0438772    2014-01-01           2014-12-31            21989AK0020001  Rating Area 2   No Preference  Family Option  36.95             0.0                      73.9      107.61                              107.61                               107.61                                       144.56                   144.56                    144.56                            15\n",
              "3           2014            AK           21989       HIOS          6             2014-03-19 07:06:49  21989        93-0438772    2014-01-01           2014-12-31            21989AK0010001  Rating Area 1   No Preference  21             32.0              0.0                      nan       nan                                 nan                                  nan                                          nan                      nan                       nan                               15\n",
              "4           2014            AK           21989       HIOS          6             2014-03-19 07:06:49  21989        93-0438772    2014-01-01           2014-12-31            21989AK0010001  Rating Area 1   No Preference  22             32.0              0.0                      nan       nan                                 nan                                  nan                                          nan                      nan                       nan                               16\n",
              "...         ...             ...          ...         ...           ...           ...                  ...          ...           ...                  ...                   ...             ...             ...            ...            ...               ...                      ...       ...                                 ...                                  ...                                          ...                      ...                       ...                               ...\n",
              "12,694,440  2016            WV           96480       SERFF         2             2015-08-20 12:28:36  96480        13-5123390    2016-01-01           2016-12-31            96480WV0090003  Rating Area 11  No Preference  61             14.05             0.0                      nan       nan                                 nan                                  nan                                          nan                      nan                       nan                               2033\n",
              "12,694,441  2016            WV           96480       SERFF         2             2015-08-20 12:28:36  96480        13-5123390    2016-01-01           2016-12-31            96480WV0090003  Rating Area 11  No Preference  62             14.05             0.0                      nan       nan                                 nan                                  nan                                          nan                      nan                       nan                               2034\n",
              "12,694,442  2016            WV           96480       SERFF         2             2015-08-20 12:28:36  96480        13-5123390    2016-01-01           2016-12-31            96480WV0090003  Rating Area 11  No Preference  63             14.05             0.0                      nan       nan                                 nan                                  nan                                          nan                      nan                       nan                               2035\n",
              "12,694,443  2016            WV           96480       SERFF         2             2015-08-20 12:28:36  96480        13-5123390    2016-01-01           2016-12-31            96480WV0090003  Rating Area 11  No Preference  64             14.05             0.0                      nan       nan                                 nan                                  nan                                          nan                      nan                       nan                               2036\n",
              "12,694,444  2016            WV           96480       SERFF         2             2015-08-20 12:28:36  96480        13-5123390    2016-01-01           2016-12-31            96480WV0090003  Rating Area 11  No Preference  65 and over    14.05             0.0                      nan       nan                                 nan                                  nan                                          nan                      nan                       nan                               2037"
            ]
          },
          "metadata": {},
          "execution_count": 58
        }
      ]
    },
    {
      "cell_type": "markdown",
      "source": [
        "**5) Drop Unnecessary Column**\n",
        "\n",
        "Dropna(), dropnan(), dropmissing(), and dropinf() can be used to remove null values (). The functions all accomplish the same things, but they all drop by in different ways. The dropna() and dropmissing() functions, for instance, both remove values by employing the isna() and ismissing() filters, respectively. We did not eliminate any columns due to their lack of data because some records do not use the corresponding column. Instead, we choose to eliminate the unnecessary column."
      ],
      "metadata": {
        "id": "MoRI5jecG1_s"
      }
    },
    {
      "cell_type": "code",
      "source": [
        "%time df.drop('RowNumber')"
      ],
      "metadata": {
        "colab": {
          "base_uri": "https://localhost:8080/",
          "height": 521
        },
        "id": "GElJIDeuG1XV",
        "outputId": "211f332f-7f20-4e9b-a26f-b1e5ba711e98"
      },
      "execution_count": null,
      "outputs": [
        {
          "output_type": "stream",
          "name": "stdout",
          "text": [
            "CPU times: user 2.61 ms, sys: 912 µs, total: 3.52 ms\n",
            "Wall time: 4.23 ms\n"
          ]
        },
        {
          "output_type": "execute_result",
          "data": {
            "text/html": [
              "<table>\n",
              "<thead>\n",
              "<tr><th>#                                     </th><th>BusinessYear  </th><th>StateCode  </th><th>IssuerId  </th><th>SourceName  </th><th>VersionNum  </th><th>ImportDate         </th><th>IssuerId2  </th><th>FederalTIN  </th><th>RateEffectiveDate  </th><th>RateExpirationDate  </th><th>PlanId        </th><th>RatingAreaId  </th><th>Tobacco      </th><th>Age          </th><th>IndividualRate  </th><th>IndividualTobaccoRate  </th><th>Couple  </th><th>PrimarySubscriberAndOneDependent  </th><th>PrimarySubscriberAndTwoDependents  </th><th>PrimarySubscriberAndThreeOrMoreDependents  </th><th>CoupleAndOneDependent  </th><th>CoupleAndTwoDependents  </th><th>CoupleAndThreeOrMoreDependents  </th></tr>\n",
              "</thead>\n",
              "<tbody>\n",
              "<tr><td><i style='opacity: 0.6'>0</i>         </td><td>2014          </td><td>AK         </td><td>21989     </td><td>HIOS        </td><td>6           </td><td>2014-03-19 07:06:49</td><td>21989      </td><td>93-0438772  </td><td>2014-01-01         </td><td>2014-12-31          </td><td>21989AK0010001</td><td>Rating Area 1 </td><td>No Preference</td><td>0-20         </td><td>29.0            </td><td>nan                    </td><td>nan     </td><td>nan                               </td><td>nan                                </td><td>nan                                        </td><td>nan                    </td><td>nan                     </td><td>nan                             </td></tr>\n",
              "<tr><td><i style='opacity: 0.6'>1</i>         </td><td>2014          </td><td>AK         </td><td>21989     </td><td>HIOS        </td><td>6           </td><td>2014-03-19 07:06:49</td><td>21989      </td><td>93-0438772  </td><td>2014-01-01         </td><td>2014-12-31          </td><td>21989AK0020001</td><td>Rating Area 1 </td><td>No Preference</td><td>Family Option</td><td>36.95           </td><td>nan                    </td><td>73.9    </td><td>107.61                            </td><td>107.61                             </td><td>107.61                                     </td><td>144.56                 </td><td>144.56                  </td><td>144.56                          </td></tr>\n",
              "<tr><td><i style='opacity: 0.6'>2</i>         </td><td>2014          </td><td>AK         </td><td>21989     </td><td>HIOS        </td><td>6           </td><td>2014-03-19 07:06:49</td><td>21989      </td><td>93-0438772  </td><td>2014-01-01         </td><td>2014-12-31          </td><td>21989AK0020001</td><td>Rating Area 2 </td><td>No Preference</td><td>Family Option</td><td>36.95           </td><td>nan                    </td><td>73.9    </td><td>107.61                            </td><td>107.61                             </td><td>107.61                                     </td><td>144.56                 </td><td>144.56                  </td><td>144.56                          </td></tr>\n",
              "<tr><td><i style='opacity: 0.6'>3</i>         </td><td>2014          </td><td>AK         </td><td>21989     </td><td>HIOS        </td><td>6           </td><td>2014-03-19 07:06:49</td><td>21989      </td><td>93-0438772  </td><td>2014-01-01         </td><td>2014-12-31          </td><td>21989AK0010001</td><td>Rating Area 1 </td><td>No Preference</td><td>21           </td><td>32.0            </td><td>nan                    </td><td>nan     </td><td>nan                               </td><td>nan                                </td><td>nan                                        </td><td>nan                    </td><td>nan                     </td><td>nan                             </td></tr>\n",
              "<tr><td><i style='opacity: 0.6'>4</i>         </td><td>2014          </td><td>AK         </td><td>21989     </td><td>HIOS        </td><td>6           </td><td>2014-03-19 07:06:49</td><td>21989      </td><td>93-0438772  </td><td>2014-01-01         </td><td>2014-12-31          </td><td>21989AK0010001</td><td>Rating Area 1 </td><td>No Preference</td><td>22           </td><td>32.0            </td><td>nan                    </td><td>nan     </td><td>nan                               </td><td>nan                                </td><td>nan                                        </td><td>nan                    </td><td>nan                     </td><td>nan                             </td></tr>\n",
              "<tr><td>...                                   </td><td>...           </td><td>...        </td><td>...       </td><td>...         </td><td>...         </td><td>...                </td><td>...        </td><td>...         </td><td>...                </td><td>...                 </td><td>...           </td><td>...           </td><td>...          </td><td>...          </td><td>...             </td><td>...                    </td><td>...     </td><td>...                               </td><td>...                                </td><td>...                                        </td><td>...                    </td><td>...                     </td><td>...                             </td></tr>\n",
              "<tr><td><i style='opacity: 0.6'>12,694,440</i></td><td>2016          </td><td>WV         </td><td>96480     </td><td>SERFF       </td><td>2           </td><td>2015-08-20 12:28:36</td><td>96480      </td><td>13-5123390  </td><td>2016-01-01         </td><td>2016-12-31          </td><td>96480WV0090003</td><td>Rating Area 11</td><td>No Preference</td><td>61           </td><td>14.05           </td><td>nan                    </td><td>nan     </td><td>nan                               </td><td>nan                                </td><td>nan                                        </td><td>nan                    </td><td>nan                     </td><td>nan                             </td></tr>\n",
              "<tr><td><i style='opacity: 0.6'>12,694,441</i></td><td>2016          </td><td>WV         </td><td>96480     </td><td>SERFF       </td><td>2           </td><td>2015-08-20 12:28:36</td><td>96480      </td><td>13-5123390  </td><td>2016-01-01         </td><td>2016-12-31          </td><td>96480WV0090003</td><td>Rating Area 11</td><td>No Preference</td><td>62           </td><td>14.05           </td><td>nan                    </td><td>nan     </td><td>nan                               </td><td>nan                                </td><td>nan                                        </td><td>nan                    </td><td>nan                     </td><td>nan                             </td></tr>\n",
              "<tr><td><i style='opacity: 0.6'>12,694,442</i></td><td>2016          </td><td>WV         </td><td>96480     </td><td>SERFF       </td><td>2           </td><td>2015-08-20 12:28:36</td><td>96480      </td><td>13-5123390  </td><td>2016-01-01         </td><td>2016-12-31          </td><td>96480WV0090003</td><td>Rating Area 11</td><td>No Preference</td><td>63           </td><td>14.05           </td><td>nan                    </td><td>nan     </td><td>nan                               </td><td>nan                                </td><td>nan                                        </td><td>nan                    </td><td>nan                     </td><td>nan                             </td></tr>\n",
              "<tr><td><i style='opacity: 0.6'>12,694,443</i></td><td>2016          </td><td>WV         </td><td>96480     </td><td>SERFF       </td><td>2           </td><td>2015-08-20 12:28:36</td><td>96480      </td><td>13-5123390  </td><td>2016-01-01         </td><td>2016-12-31          </td><td>96480WV0090003</td><td>Rating Area 11</td><td>No Preference</td><td>64           </td><td>14.05           </td><td>nan                    </td><td>nan     </td><td>nan                               </td><td>nan                                </td><td>nan                                        </td><td>nan                    </td><td>nan                     </td><td>nan                             </td></tr>\n",
              "<tr><td><i style='opacity: 0.6'>12,694,444</i></td><td>2016          </td><td>WV         </td><td>96480     </td><td>SERFF       </td><td>2           </td><td>2015-08-20 12:28:36</td><td>96480      </td><td>13-5123390  </td><td>2016-01-01         </td><td>2016-12-31          </td><td>96480WV0090003</td><td>Rating Area 11</td><td>No Preference</td><td>65 and over  </td><td>14.05           </td><td>nan                    </td><td>nan     </td><td>nan                               </td><td>nan                                </td><td>nan                                        </td><td>nan                    </td><td>nan                     </td><td>nan                             </td></tr>\n",
              "</tbody>\n",
              "</table>"
            ],
            "text/plain": [
              "#           BusinessYear    StateCode    IssuerId    SourceName    VersionNum    ImportDate           IssuerId2    FederalTIN    RateEffectiveDate    RateExpirationDate    PlanId          RatingAreaId    Tobacco        Age            IndividualRate    IndividualTobaccoRate    Couple    PrimarySubscriberAndOneDependent    PrimarySubscriberAndTwoDependents    PrimarySubscriberAndThreeOrMoreDependents    CoupleAndOneDependent    CoupleAndTwoDependents    CoupleAndThreeOrMoreDependents\n",
              "0           2014            AK           21989       HIOS          6             2014-03-19 07:06:49  21989        93-0438772    2014-01-01           2014-12-31            21989AK0010001  Rating Area 1   No Preference  0-20           29.0              nan                      nan       nan                                 nan                                  nan                                          nan                      nan                       nan\n",
              "1           2014            AK           21989       HIOS          6             2014-03-19 07:06:49  21989        93-0438772    2014-01-01           2014-12-31            21989AK0020001  Rating Area 1   No Preference  Family Option  36.95             nan                      73.9      107.61                              107.61                               107.61                                       144.56                   144.56                    144.56\n",
              "2           2014            AK           21989       HIOS          6             2014-03-19 07:06:49  21989        93-0438772    2014-01-01           2014-12-31            21989AK0020001  Rating Area 2   No Preference  Family Option  36.95             nan                      73.9      107.61                              107.61                               107.61                                       144.56                   144.56                    144.56\n",
              "3           2014            AK           21989       HIOS          6             2014-03-19 07:06:49  21989        93-0438772    2014-01-01           2014-12-31            21989AK0010001  Rating Area 1   No Preference  21             32.0              nan                      nan       nan                                 nan                                  nan                                          nan                      nan                       nan\n",
              "4           2014            AK           21989       HIOS          6             2014-03-19 07:06:49  21989        93-0438772    2014-01-01           2014-12-31            21989AK0010001  Rating Area 1   No Preference  22             32.0              nan                      nan       nan                                 nan                                  nan                                          nan                      nan                       nan\n",
              "...         ...             ...          ...         ...           ...           ...                  ...          ...           ...                  ...                   ...             ...             ...            ...            ...               ...                      ...       ...                                 ...                                  ...                                          ...                      ...                       ...\n",
              "12,694,440  2016            WV           96480       SERFF         2             2015-08-20 12:28:36  96480        13-5123390    2016-01-01           2016-12-31            96480WV0090003  Rating Area 11  No Preference  61             14.05             nan                      nan       nan                                 nan                                  nan                                          nan                      nan                       nan\n",
              "12,694,441  2016            WV           96480       SERFF         2             2015-08-20 12:28:36  96480        13-5123390    2016-01-01           2016-12-31            96480WV0090003  Rating Area 11  No Preference  62             14.05             nan                      nan       nan                                 nan                                  nan                                          nan                      nan                       nan\n",
              "12,694,442  2016            WV           96480       SERFF         2             2015-08-20 12:28:36  96480        13-5123390    2016-01-01           2016-12-31            96480WV0090003  Rating Area 11  No Preference  63             14.05             nan                      nan       nan                                 nan                                  nan                                          nan                      nan                       nan\n",
              "12,694,443  2016            WV           96480       SERFF         2             2015-08-20 12:28:36  96480        13-5123390    2016-01-01           2016-12-31            96480WV0090003  Rating Area 11  No Preference  64             14.05             nan                      nan       nan                                 nan                                  nan                                          nan                      nan                       nan\n",
              "12,694,444  2016            WV           96480       SERFF         2             2015-08-20 12:28:36  96480        13-5123390    2016-01-01           2016-12-31            96480WV0090003  Rating Area 11  No Preference  65 and over    14.05             nan                      nan       nan                                 nan                                  nan                                          nan                      nan                       nan"
            ]
          },
          "metadata": {},
          "execution_count": 59
        }
      ]
    },
    {
      "cell_type": "markdown",
      "source": [
        "**6) Count Values**\n",
        "\n",
        "We can also count non-null values of a choosen attributes using count while value_counts will give both NaN and non-nulls."
      ],
      "metadata": {
        "id": "x31LreSc7AOA"
      }
    },
    {
      "cell_type": "code",
      "source": [
        "df.count('Couple') #counts not-null values"
      ],
      "metadata": {
        "colab": {
          "base_uri": "https://localhost:8080/"
        },
        "id": "tzWv7K_q6_5v",
        "outputId": "e36647b9-5a4b-4097-fdad-8d44c8f9cf15"
      },
      "execution_count": null,
      "outputs": [
        {
          "output_type": "execute_result",
          "data": {
            "text/plain": [
              "array(40941)"
            ]
          },
          "metadata": {},
          "execution_count": 60
        }
      ]
    },
    {
      "cell_type": "code",
      "execution_count": null,
      "metadata": {
        "id": "1GraQ7xTSYOh",
        "colab": {
          "base_uri": "https://localhost:8080/"
        },
        "outputId": "51ffa79a-073b-4353-b1b7-debc61f7924a"
      },
      "outputs": [
        {
          "output_type": "execute_result",
          "data": {
            "text/plain": [
              "NaN      12653504\n",
              "0.00         1848\n",
              "7.35         1037\n",
              "4.41          929\n",
              "7.72          834\n",
              "           ...   \n",
              "43.39           1\n",
              "58.03           1\n",
              "94.61           1\n",
              "65.44           1\n",
              "39.59           1\n",
              "Length: 5975, dtype: int64"
            ]
          },
          "metadata": {},
          "execution_count": 61
        }
      ],
      "source": [
        "df['PrimarySubscriberAndOneDependent'].value_counts()"
      ]
    },
    {
      "cell_type": "markdown",
      "source": [
        "**7) Selection**\n",
        "\n",
        "A Selection defines a subset of data. First, it expedites the process of filtering data from the dataframe. In addition, selections permit the calculation of statistics for multiple subsets in a single pass through the data. Multiple actions can be performed on a single line. This application is especially helpful when working with DataFrames that do not fit in memory. Due to the fact that Vaex does not duplicate data but instead keeps track of the rows that have been selected internally, the execution time is extremely low (in the millisecond range)."
      ],
      "metadata": {
        "id": "luPnF_knLcSa"
      }
    },
    {
      "cell_type": "code",
      "source": [
        "df.mean(df.IndividualRate, selection=[df.Tobacco=='No Preference'])"
      ],
      "metadata": {
        "id": "gfAYhaCzNIj1",
        "colab": {
          "base_uri": "https://localhost:8080/"
        },
        "outputId": "b36940dc-c547-4d25-8985-3565ef074fa6"
      },
      "execution_count": null,
      "outputs": [
        {
          "output_type": "execute_result",
          "data": {
            "text/plain": [
              "array([6381.26425215])"
            ]
          },
          "metadata": {},
          "execution_count": 62
        }
      ]
    },
    {
      "cell_type": "markdown",
      "source": [
        "**8) Groupby / Aggregations**\n",
        "\n",
        "Vaex implements parallelized, highly performant groupby operations, especially when using categories (>1 billion/second).\n",
        "\n"
      ],
      "metadata": {
        "id": "YLtal-fVGWDR"
      }
    },
    {
      "cell_type": "code",
      "source": [
        "df.groupby(by='StateCode').agg({'IndividualRate':'mean'})"
      ],
      "metadata": {
        "id": "07pJTbsEGEXQ",
        "colab": {
          "base_uri": "https://localhost:8080/",
          "height": 275
        },
        "outputId": "c7f22898-6105-4cd4-d2db-b8c108761220"
      },
      "execution_count": null,
      "outputs": [
        {
          "output_type": "execute_result",
          "data": {
            "text/html": [
              "<table>\n",
              "<thead>\n",
              "<tr><th>#                             </th><th>StateCode  </th><th>IndividualRate    </th></tr>\n",
              "</thead>\n",
              "<tbody>\n",
              "<tr><td><i style='opacity: 0.6'>0</i> </td><td>NJ         </td><td>422.017152475854  </td></tr>\n",
              "<tr><td><i style='opacity: 0.6'>1</i> </td><td>OK         </td><td>5157.578136289506 </td></tr>\n",
              "<tr><td><i style='opacity: 0.6'>2</i> </td><td>SC         </td><td>5681.339818376415 </td></tr>\n",
              "<tr><td><i style='opacity: 0.6'>3</i> </td><td>NE         </td><td>9155.720852636192 </td></tr>\n",
              "<tr><td><i style='opacity: 0.6'>4</i> </td><td>IN         </td><td>4855.9184819586535</td></tr>\n",
              "<tr><td>...                           </td><td>...        </td><td>...               </td></tr>\n",
              "<tr><td><i style='opacity: 0.6'>34</i></td><td>NC         </td><td>8206.358099093733 </td></tr>\n",
              "<tr><td><i style='opacity: 0.6'>35</i></td><td>AK         </td><td>7024.934674098514 </td></tr>\n",
              "<tr><td><i style='opacity: 0.6'>36</i></td><td>ME         </td><td>355.5591839399675 </td></tr>\n",
              "<tr><td><i style='opacity: 0.6'>37</i></td><td>IL         </td><td>372.44531510277506</td></tr>\n",
              "<tr><td><i style='opacity: 0.6'>38</i></td><td>HI         </td><td>256.34147562582365</td></tr>\n",
              "</tbody>\n",
              "</table>"
            ],
            "text/plain": [
              "#    StateCode    IndividualRate\n",
              "0    NJ           422.017152475854\n",
              "1    OK           5157.578136289506\n",
              "2    SC           5681.339818376415\n",
              "3    NE           9155.720852636192\n",
              "4    IN           4855.9184819586535\n",
              "...  ...          ...\n",
              "34   NC           8206.358099093733\n",
              "35   AK           7024.934674098514\n",
              "36   ME           355.5591839399675\n",
              "37   IL           372.44531510277506\n",
              "38   HI           256.34147562582365"
            ]
          },
          "metadata": {},
          "execution_count": 63
        }
      ]
    },
    {
      "cell_type": "markdown",
      "source": [
        "##Conclusion"
      ],
      "metadata": {
        "id": "ZlLXXl-oTOFD"
      }
    },
    {
      "cell_type": "markdown",
      "source": [
        "In this study, we learned the fundamentals of Vaex, a Python library for the rapid processing of large datasets that can be a suitable alternative to Pandas, particularly for large datasets. Vaex possesses a large number of additional capabilities and functions. Vaex is not only a viable alternative to Pandas, but it also provides features such as memory efficiency, easy parallelization, visualization tools, and a sophisticated query language. Memory mapping, a zero memory copy policy, and lazy computations are utilized by Vaex to achieve optimal performance."
      ],
      "metadata": {
        "id": "u0wtq6QRTWFs"
      }
    },
    {
      "cell_type": "markdown",
      "source": [
        "##Reference"
      ],
      "metadata": {
        "id": "KMG6xuvxTTFc"
      }
    },
    {
      "cell_type": "markdown",
      "source": [
        "1. https://www.kaggle.com/datasets/hhs/health-insurance-marketplace?datasetId=21&sortBy=voteCount&select=Rate.csv\n",
        "2. https://vaex.io/docs/index.html\n",
        "3. https://www.machinelearningplus.com/python/vaex/"
      ],
      "metadata": {
        "id": "lnuBhK4YURBi"
      }
    }
  ],
  "metadata": {
    "colab": {
      "provenance": [],
      "include_colab_link": true
    },
    "kernelspec": {
      "display_name": "Python 3",
      "name": "python3"
    },
    "language_info": {
      "name": "python"
    }
  },
  "nbformat": 4,
  "nbformat_minor": 0
}
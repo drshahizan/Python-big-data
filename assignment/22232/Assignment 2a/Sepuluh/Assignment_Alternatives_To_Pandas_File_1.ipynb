{
  "cells": [
    {
      "cell_type": "markdown",
      "metadata": {
        "id": "view-in-github",
        "colab_type": "text"
      },
      "source": [
        "<a href=\"https://colab.research.google.com/github/drshahizan/Python-big-data/blob/main/Assignment%202a/Sepuluh/Assignment_Alternatives_To_Pandas_File_1.ipynb\" target=\"_parent\"><img src=\"https://colab.research.google.com/assets/colab-badge.svg\" alt=\"Open In Colab\"/></a>"
      ]
    },
    {
      "cell_type": "markdown",
      "metadata": {
        "id": "XBtcnU6iVJJx"
      },
      "source": [
        "# **File 1: Pyspark on Health Insurance Marketplace**"
      ]
    },
    {
      "cell_type": "markdown",
      "source": [
        "<table border=\"solid\">\n",
        "  <tr>\n",
        "    <th>Name</th>\n",
        "    <th>Matric Number</th>\n",
        "  </tr>\n",
        "  <tr>\n",
        "    <td width=80%>FARAH IRDINA BINTI AHMAD BAHARUDIN</td>\n",
        "    <td>A20EC0035</td>\n",
        "  </tr>\n",
        "  <tr>\n",
        "    <td width=80%>LOW JUNYI</td>\n",
        "    <td>A20EC0071</td>\n",
        "  </tr>\n",
        "  <tr>\n",
        "    <td width=80%>NURFARRAHIN BINTI CHE ALIAS</td>\n",
        "    <td>A20EC0121</td>\n",
        "  </tr>\n",
        "  <tr>\n",
        "    <td width=80%>YONG ZHI YAN</td>\n",
        "    <td>A20EC0172</td>\n",
        "  </tr>\n",
        "</table>"
      ],
      "metadata": {
        "id": "l4cv7GmRHoDz"
      }
    },
    {
      "cell_type": "markdown",
      "source": [
        "##Introduction of Pyspark\n",
        "\n",
        "Apache Spark is an open-source distributed data processing system that is well-suited for large-scale data processing. PySpark is the Python API for Spark. It allows you to use Spark from Python, and it includes a large number of libraries for working with data, including support for distributed data structures and machine learning.\n",
        "\n",
        "Using PySpark, you can build data pipelines, analyze data, and build machine learning models. PySpark is particularly useful for distributed data processing, as it allows you to scale your data processing tasks across a cluster of machines.\n",
        "\n",
        "To use PySpark, you will need to have Python and Spark installed on your system. You can then use the PySpark API to interact with Spark in your Python programs. There are many resources available online for learning more about PySpark and how to use it to build data processing and machine learning pipelines."
      ],
      "metadata": {
        "id": "_AhJVo-5BuV1"
      }
    },
    {
      "cell_type": "markdown",
      "source": [
        "##Connecting Drive to Colab"
      ],
      "metadata": {
        "id": "KhuT_XLNCjG3"
      }
    },
    {
      "cell_type": "code",
      "source": [
        "from google.colab import drive\n",
        "drive.mount('/content/drive')"
      ],
      "metadata": {
        "colab": {
          "base_uri": "https://localhost:8080/"
        },
        "id": "xOB2c8jSu1o1",
        "outputId": "49e881ea-d8c3-48ee-cc04-faa6d01a3f7e"
      },
      "execution_count": 1,
      "outputs": [
        {
          "output_type": "stream",
          "name": "stdout",
          "text": [
            "Mounted at /content/drive\n"
          ]
        }
      ]
    },
    {
      "cell_type": "markdown",
      "source": [
        "##Setting up PySpark in Colab"
      ],
      "metadata": {
        "id": "s5GBMvQUCs6O"
      }
    },
    {
      "cell_type": "code",
      "source": [
        "!pip install pyspark"
      ],
      "metadata": {
        "colab": {
          "base_uri": "https://localhost:8080/"
        },
        "id": "wWlxUDTYvTU1",
        "outputId": "74868646-6c6f-4a31-efeb-41027da886ea"
      },
      "execution_count": 2,
      "outputs": [
        {
          "output_type": "stream",
          "name": "stdout",
          "text": [
            "Looking in indexes: https://pypi.org/simple, https://us-python.pkg.dev/colab-wheels/public/simple/\n",
            "Collecting pyspark\n",
            "  Downloading pyspark-3.3.1.tar.gz (281.4 MB)\n",
            "\u001b[2K     \u001b[90m━━━━━━━━━━━━━━━━━━━━━━━━━━━━━━━━━━━━━━━\u001b[0m \u001b[32m281.4/281.4 MB\u001b[0m \u001b[31m3.7 MB/s\u001b[0m eta \u001b[36m0:00:00\u001b[0m\n",
            "\u001b[?25h  Preparing metadata (setup.py) ... \u001b[?25l\u001b[?25hdone\n",
            "Collecting py4j==0.10.9.5\n",
            "  Downloading py4j-0.10.9.5-py2.py3-none-any.whl (199 kB)\n",
            "\u001b[2K     \u001b[90m━━━━━━━━━━━━━━━━━━━━━━━━━━━━━━━━━━━━━━\u001b[0m \u001b[32m199.7/199.7 KB\u001b[0m \u001b[31m16.6 MB/s\u001b[0m eta \u001b[36m0:00:00\u001b[0m\n",
            "\u001b[?25hBuilding wheels for collected packages: pyspark\n",
            "  Building wheel for pyspark (setup.py) ... \u001b[?25l\u001b[?25hdone\n",
            "  Created wheel for pyspark: filename=pyspark-3.3.1-py2.py3-none-any.whl size=281845512 sha256=f9e4325004ac97e552cb1fa0bc1264e65452cb30903ba6df3faed4b1b9073944\n",
            "  Stored in directory: /root/.cache/pip/wheels/43/dc/11/ec201cd671da62fa9c5cc77078235e40722170ceba231d7598\n",
            "Successfully built pyspark\n",
            "Installing collected packages: py4j, pyspark\n",
            "Successfully installed py4j-0.10.9.5 pyspark-3.3.1\n"
          ]
        }
      ]
    },
    {
      "cell_type": "markdown",
      "source": [
        "##Initialize PySpark Session"
      ],
      "metadata": {
        "id": "T9R1BgLTCvxe"
      }
    },
    {
      "cell_type": "code",
      "source": [
        "from pyspark.sql import SparkSession\n",
        "spark = SparkSession.builder\\\n",
        "        .master(\"local\")\\\n",
        "        .appName(\"Colab\")\\\n",
        "        .config('spark.ui.port', '4050')\\\n",
        "        .getOrCreate()"
      ],
      "metadata": {
        "id": "c1LqZ5c4ve8I"
      },
      "execution_count": 3,
      "outputs": []
    },
    {
      "cell_type": "code",
      "source": [
        "spark"
      ],
      "metadata": {
        "colab": {
          "base_uri": "https://localhost:8080/",
          "height": 219
        },
        "id": "2TM6XtBWvp6H",
        "outputId": "61ff304e-0925-4b9a-a3cb-b2080abe63f7"
      },
      "execution_count": 4,
      "outputs": [
        {
          "output_type": "execute_result",
          "data": {
            "text/plain": [
              "<pyspark.sql.session.SparkSession at 0x7f3ed9cdce50>"
            ],
            "text/html": [
              "\n",
              "            <div>\n",
              "                <p><b>SparkSession - in-memory</b></p>\n",
              "                \n",
              "        <div>\n",
              "            <p><b>SparkContext</b></p>\n",
              "\n",
              "            <p><a href=\"http://95e07e76d310:4050\">Spark UI</a></p>\n",
              "\n",
              "            <dl>\n",
              "              <dt>Version</dt>\n",
              "                <dd><code>v3.3.1</code></dd>\n",
              "              <dt>Master</dt>\n",
              "                <dd><code>local</code></dd>\n",
              "              <dt>AppName</dt>\n",
              "                <dd><code>Colab</code></dd>\n",
              "            </dl>\n",
              "        </div>\n",
              "        \n",
              "            </div>\n",
              "        "
            ]
          },
          "metadata": {},
          "execution_count": 4
        }
      ]
    },
    {
      "cell_type": "markdown",
      "source": [
        "##Loading data into PySpark"
      ],
      "metadata": {
        "id": "q9rAn5QzC2ee"
      }
    },
    {
      "cell_type": "code",
      "source": [
        "%%time\n",
        "spark_df = spark.read.csv('/content/drive/MyDrive/Colab Notebooks/Rate.csv', header=True)"
      ],
      "metadata": {
        "colab": {
          "base_uri": "https://localhost:8080/"
        },
        "id": "dCen61FCvuJn",
        "outputId": "7d3a6736-cfc5-452e-f582-e544affdd201"
      },
      "execution_count": 5,
      "outputs": [
        {
          "output_type": "stream",
          "name": "stdout",
          "text": [
            "CPU times: user 61.7 ms, sys: 10.2 ms, total: 71.8 ms\n",
            "Wall time: 9.84 s\n"
          ]
        }
      ]
    },
    {
      "cell_type": "code",
      "source": [
        "%%time\n",
        "spark_df.show()"
      ],
      "metadata": {
        "colab": {
          "base_uri": "https://localhost:8080/"
        },
        "id": "RQc2-ku2v-sl",
        "outputId": "5e0f7129-ee56-492d-8288-d483d397d401"
      },
      "execution_count": 6,
      "outputs": [
        {
          "output_type": "stream",
          "name": "stdout",
          "text": [
            "+------------+---------+--------+----------+----------+-------------------+---------+----------+-----------------+------------------+--------------+-------------+-------------+-------------+--------------+---------------------+------+--------------------------------+---------------------------------+-----------------------------------------+---------------------+----------------------+------------------------------+---------+\n",
            "|BusinessYear|StateCode|IssuerId|SourceName|VersionNum|         ImportDate|IssuerId2|FederalTIN|RateEffectiveDate|RateExpirationDate|        PlanId| RatingAreaId|      Tobacco|          Age|IndividualRate|IndividualTobaccoRate|Couple|PrimarySubscriberAndOneDependent|PrimarySubscriberAndTwoDependents|PrimarySubscriberAndThreeOrMoreDependents|CoupleAndOneDependent|CoupleAndTwoDependents|CoupleAndThreeOrMoreDependents|RowNumber|\n",
            "+------------+---------+--------+----------+----------+-------------------+---------+----------+-----------------+------------------+--------------+-------------+-------------+-------------+--------------+---------------------+------+--------------------------------+---------------------------------+-----------------------------------------+---------------------+----------------------+------------------------------+---------+\n",
            "|        2014|       AK|   21989|      HIOS|         6|2014-03-19 07:06:49|    21989|93-0438772|       2014-01-01|        2014-12-31|21989AK0010001|Rating Area 1|No Preference|         0-20|          29.0|                 null|  null|                            null|                             null|                                     null|                 null|                  null|                          null|       14|\n",
            "|        2014|       AK|   21989|      HIOS|         6|2014-03-19 07:06:49|    21989|93-0438772|       2014-01-01|        2014-12-31|21989AK0020001|Rating Area 1|No Preference|Family Option|         36.95|                 null|  73.9|                          107.61|                           107.61|                                   107.61|               144.56|                144.56|                        144.56|       14|\n",
            "|        2014|       AK|   21989|      HIOS|         6|2014-03-19 07:06:49|    21989|93-0438772|       2014-01-01|        2014-12-31|21989AK0020001|Rating Area 2|No Preference|Family Option|         36.95|                 null|  73.9|                          107.61|                           107.61|                                   107.61|               144.56|                144.56|                        144.56|       15|\n",
            "|        2014|       AK|   21989|      HIOS|         6|2014-03-19 07:06:49|    21989|93-0438772|       2014-01-01|        2014-12-31|21989AK0010001|Rating Area 1|No Preference|           21|          32.0|                 null|  null|                            null|                             null|                                     null|                 null|                  null|                          null|       15|\n",
            "|        2014|       AK|   21989|      HIOS|         6|2014-03-19 07:06:49|    21989|93-0438772|       2014-01-01|        2014-12-31|21989AK0010001|Rating Area 1|No Preference|           22|          32.0|                 null|  null|                            null|                             null|                                     null|                 null|                  null|                          null|       16|\n",
            "|        2014|       AK|   21989|      HIOS|         6|2014-03-19 07:06:49|    21989|93-0438772|       2014-01-01|        2014-12-31|21989AK0020001|Rating Area 3|No Preference|Family Option|         36.95|                 null|  73.9|                          107.61|                           107.61|                                   107.61|               144.56|                144.56|                        144.56|       16|\n",
            "|        2014|       AK|   21989|      HIOS|         6|2014-03-19 07:06:49|    21989|93-0438772|       2014-01-01|        2014-12-31|21989AK0020002|Rating Area 1|No Preference|Family Option|         32.45|                 null|  64.9|                            94.5|                             94.5|                                     94.5|               126.95|                126.95|                        126.95|       17|\n",
            "|        2014|       AK|   21989|      HIOS|         6|2014-03-19 07:06:49|    21989|93-0438772|       2014-01-01|        2014-12-31|21989AK0010001|Rating Area 1|No Preference|           23|          32.0|                 null|  null|                            null|                             null|                                     null|                 null|                  null|                          null|       17|\n",
            "|        2014|       AK|   21989|      HIOS|         6|2014-03-19 07:06:49|    21989|93-0438772|       2014-01-01|        2014-12-31|21989AK0010001|Rating Area 1|No Preference|           24|          32.0|                 null|  null|                            null|                             null|                                     null|                 null|                  null|                          null|       18|\n",
            "|        2014|       AK|   21989|      HIOS|         6|2014-03-19 07:06:49|    21989|93-0438772|       2014-01-01|        2014-12-31|21989AK0020002|Rating Area 2|No Preference|Family Option|         32.45|                 null|  64.9|                            94.5|                             94.5|                                     94.5|               126.95|                126.95|                        126.95|       18|\n",
            "|        2014|       AK|   21989|      HIOS|         6|2014-03-19 07:06:49|    21989|93-0438772|       2014-01-01|        2014-12-31|21989AK0020002|Rating Area 3|No Preference|Family Option|         32.45|                 null|  64.9|                            94.5|                             94.5|                                     94.5|               126.95|                126.95|                        126.95|       19|\n",
            "|        2014|       AK|   21989|      HIOS|         6|2014-03-19 07:06:49|    21989|93-0438772|       2014-01-01|        2014-12-31|21989AK0010001|Rating Area 1|No Preference|           25|          32.0|                 null|  null|                            null|                             null|                                     null|                 null|                  null|                          null|       19|\n",
            "|        2014|       AK|   21989|      HIOS|         6|2014-03-19 07:06:49|    21989|93-0438772|       2014-01-01|        2014-12-31|21989AK0010001|Rating Area 1|No Preference|           26|          32.0|                 null|  null|                            null|                             null|                                     null|                 null|                  null|                          null|       20|\n",
            "|        2014|       AK|   21989|      HIOS|         6|2014-03-19 07:06:49|    21989|93-0438772|       2014-01-01|        2014-12-31|21989AK0010001|Rating Area 1|No Preference|           27|          32.0|                 null|  null|                            null|                             null|                                     null|                 null|                  null|                          null|       21|\n",
            "|        2014|       AK|   21989|      HIOS|         6|2014-03-19 07:06:49|    21989|93-0438772|       2014-01-01|        2014-12-31|21989AK0010001|Rating Area 1|No Preference|           28|          32.0|                 null|  null|                            null|                             null|                                     null|                 null|                  null|                          null|       22|\n",
            "|        2014|       AK|   21989|      HIOS|         6|2014-03-19 07:06:49|    21989|93-0438772|       2014-01-01|        2014-12-31|21989AK0010001|Rating Area 1|No Preference|           29|          32.0|                 null|  null|                            null|                             null|                                     null|                 null|                  null|                          null|       23|\n",
            "|        2014|       AK|   21989|      HIOS|         6|2014-03-19 07:06:49|    21989|93-0438772|       2014-01-01|        2014-12-31|21989AK0010001|Rating Area 1|No Preference|           30|          32.0|                 null|  null|                            null|                             null|                                     null|                 null|                  null|                          null|       24|\n",
            "|        2014|       AK|   21989|      HIOS|         6|2014-03-19 07:06:49|    21989|93-0438772|       2014-01-01|        2014-12-31|21989AK0010001|Rating Area 1|No Preference|           31|          32.0|                 null|  null|                            null|                             null|                                     null|                 null|                  null|                          null|       25|\n",
            "|        2014|       AK|   21989|      HIOS|         6|2014-03-19 07:06:49|    21989|93-0438772|       2014-01-01|        2014-12-31|21989AK0010001|Rating Area 1|No Preference|           32|          32.0|                 null|  null|                            null|                             null|                                     null|                 null|                  null|                          null|       26|\n",
            "|        2014|       AK|   21989|      HIOS|         6|2014-03-19 07:06:49|    21989|93-0438772|       2014-01-01|        2014-12-31|21989AK0010001|Rating Area 1|No Preference|           33|          32.0|                 null|  null|                            null|                             null|                                     null|                 null|                  null|                          null|       27|\n",
            "+------------+---------+--------+----------+----------+-------------------+---------+----------+-----------------+------------------+--------------+-------------+-------------+-------------+--------------+---------------------+------+--------------------------------+---------------------------------+-----------------------------------------+---------------------+----------------------+------------------------------+---------+\n",
            "only showing top 20 rows\n",
            "\n",
            "CPU times: user 7.9 ms, sys: 3.03 ms, total: 10.9 ms\n",
            "Wall time: 990 ms\n"
          ]
        }
      ]
    },
    {
      "cell_type": "markdown",
      "source": [
        "##Show column details"
      ],
      "metadata": {
        "id": "vdasfEK_C8ni"
      }
    },
    {
      "cell_type": "code",
      "source": [
        "%%time\n",
        "spark_df.printSchema()"
      ],
      "metadata": {
        "colab": {
          "base_uri": "https://localhost:8080/"
        },
        "id": "N4pHJrU4x3ph",
        "outputId": "88fc2ecd-652e-49a9-8c38-dc63c1112b66"
      },
      "execution_count": 7,
      "outputs": [
        {
          "output_type": "stream",
          "name": "stdout",
          "text": [
            "root\n",
            " |-- BusinessYear: string (nullable = true)\n",
            " |-- StateCode: string (nullable = true)\n",
            " |-- IssuerId: string (nullable = true)\n",
            " |-- SourceName: string (nullable = true)\n",
            " |-- VersionNum: string (nullable = true)\n",
            " |-- ImportDate: string (nullable = true)\n",
            " |-- IssuerId2: string (nullable = true)\n",
            " |-- FederalTIN: string (nullable = true)\n",
            " |-- RateEffectiveDate: string (nullable = true)\n",
            " |-- RateExpirationDate: string (nullable = true)\n",
            " |-- PlanId: string (nullable = true)\n",
            " |-- RatingAreaId: string (nullable = true)\n",
            " |-- Tobacco: string (nullable = true)\n",
            " |-- Age: string (nullable = true)\n",
            " |-- IndividualRate: string (nullable = true)\n",
            " |-- IndividualTobaccoRate: string (nullable = true)\n",
            " |-- Couple: string (nullable = true)\n",
            " |-- PrimarySubscriberAndOneDependent: string (nullable = true)\n",
            " |-- PrimarySubscriberAndTwoDependents: string (nullable = true)\n",
            " |-- PrimarySubscriberAndThreeOrMoreDependents: string (nullable = true)\n",
            " |-- CoupleAndOneDependent: string (nullable = true)\n",
            " |-- CoupleAndTwoDependents: string (nullable = true)\n",
            " |-- CoupleAndThreeOrMoreDependents: string (nullable = true)\n",
            " |-- RowNumber: string (nullable = true)\n",
            "\n",
            "CPU times: user 2.78 ms, sys: 685 µs, total: 3.47 ms\n",
            "Wall time: 24.2 ms\n"
          ]
        }
      ]
    },
    {
      "cell_type": "markdown",
      "source": [
        "##Number of rows in DF"
      ],
      "metadata": {
        "id": "XSCQfnfIDTid"
      }
    },
    {
      "cell_type": "code",
      "source": [
        "%%time\n",
        "spark_df.count()"
      ],
      "metadata": {
        "colab": {
          "base_uri": "https://localhost:8080/"
        },
        "id": "5dG8PSOU1Sbj",
        "outputId": "853c69f4-abb1-4a5c-d865-a936fcbda6a4"
      },
      "execution_count": 8,
      "outputs": [
        {
          "output_type": "stream",
          "name": "stdout",
          "text": [
            "CPU times: user 150 ms, sys: 26.4 ms, total: 176 ms\n",
            "Wall time: 26.8 s\n"
          ]
        },
        {
          "output_type": "execute_result",
          "data": {
            "text/plain": [
              "12694445"
            ]
          },
          "metadata": {},
          "execution_count": 8
        }
      ]
    },
    {
      "cell_type": "markdown",
      "source": [
        "##Display specific columns"
      ],
      "metadata": {
        "id": "-QDKhdWTDUsl"
      }
    },
    {
      "cell_type": "code",
      "source": [
        "%%time\n",
        "spark_df.select(\"BusinessYear\",\"ImportDate\",\"Age\",\"IndividualRate\",\"IndividualTobaccoRate\").show(5)"
      ],
      "metadata": {
        "colab": {
          "base_uri": "https://localhost:8080/"
        },
        "id": "7f20_1-j1kFB",
        "outputId": "0950abeb-fb00-4a4a-a17f-4902c7891ae6"
      },
      "execution_count": 9,
      "outputs": [
        {
          "output_type": "stream",
          "name": "stdout",
          "text": [
            "+------------+-------------------+-------------+--------------+---------------------+\n",
            "|BusinessYear|         ImportDate|          Age|IndividualRate|IndividualTobaccoRate|\n",
            "+------------+-------------------+-------------+--------------+---------------------+\n",
            "|        2014|2014-03-19 07:06:49|         0-20|          29.0|                 null|\n",
            "|        2014|2014-03-19 07:06:49|Family Option|         36.95|                 null|\n",
            "|        2014|2014-03-19 07:06:49|Family Option|         36.95|                 null|\n",
            "|        2014|2014-03-19 07:06:49|           21|          32.0|                 null|\n",
            "|        2014|2014-03-19 07:06:49|           22|          32.0|                 null|\n",
            "+------------+-------------------+-------------+--------------+---------------------+\n",
            "only showing top 5 rows\n",
            "\n",
            "CPU times: user 10 ms, sys: 0 ns, total: 10 ms\n",
            "Wall time: 348 ms\n"
          ]
        }
      ]
    },
    {
      "cell_type": "markdown",
      "source": [
        "##Calculate mean"
      ],
      "metadata": {
        "id": "DxZ1Y_ucDY6D"
      }
    },
    {
      "cell_type": "code",
      "source": [
        "%%time\n",
        "spark_df.agg({'IndividualRate': 'mean'}).show()"
      ],
      "metadata": {
        "colab": {
          "base_uri": "https://localhost:8080/"
        },
        "id": "eo2jBzCGDj86",
        "outputId": "d3641bb2-a29f-416f-eff9-d654dd1b57af"
      },
      "execution_count": 10,
      "outputs": [
        {
          "output_type": "stream",
          "name": "stdout",
          "text": [
            "+-------------------+\n",
            "|avg(IndividualRate)|\n",
            "+-------------------+\n",
            "|   4098.02645859167|\n",
            "+-------------------+\n",
            "\n",
            "CPU times: user 150 ms, sys: 17.1 ms, total: 167 ms\n",
            "Wall time: 27.4 s\n"
          ]
        }
      ]
    },
    {
      "cell_type": "markdown",
      "source": [
        "##Conclusion\n",
        "\n",
        "In conclusion, PySpark is a powerful tool for data processing and analysis in Python. It allows developers to easily and efficiently process large datasets using the power of Apache Spark and the simplicity of Python. With its wide range of functionality and support for various data sources, PySpark is a valuable addition to any data science or big data project. Additionally, PySpark's integration with other popular Python libraries such as Pandas and scikit-learn make it a versatile tool for data manipulation and machine learning tasks. Overall, PySpark is a great choice for those looking to process and analyze large amounts of data in a simple and efficient way."
      ],
      "metadata": {
        "id": "tTxQhkDtGiGd"
      }
    }
  ],
  "metadata": {
    "kernelspec": {
      "display_name": "Python 3",
      "language": "python",
      "name": "python3"
    },
    "language_info": {
      "codemirror_mode": {
        "name": "ipython",
        "version": 3
      },
      "file_extension": ".py",
      "mimetype": "text/x-python",
      "name": "python",
      "nbconvert_exporter": "python",
      "pygments_lexer": "ipython3",
      "version": "3.8.5"
    },
    "colab": {
      "provenance": [],
      "include_colab_link": true
    }
  },
  "nbformat": 4,
  "nbformat_minor": 0
}
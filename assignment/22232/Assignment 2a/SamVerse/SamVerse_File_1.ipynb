{
  "nbformat": 4,
  "nbformat_minor": 0,
  "metadata": {
    "colab": {
      "provenance": [],
      "include_colab_link": true
    },
    "kernelspec": {
      "name": "python3",
      "display_name": "Python 3"
    },
    "language_info": {
      "name": "python"
    }
  },
  "cells": [
    {
      "cell_type": "markdown",
      "metadata": {
        "id": "view-in-github",
        "colab_type": "text"
      },
      "source": [
        "<a href=\"https://colab.research.google.com/github/drshahizan/Python-big-data/blob/main/Assignment%202a/SamVerse/SamVerse_File_1.ipynb\" target=\"_parent\"><img src=\"https://colab.research.google.com/assets/colab-badge.svg\" alt=\"Open In Colab\"/></a>"
      ]
    },
    {
      "cell_type": "markdown",
      "source": [
        "# PySpark DataFrame Basics\n",
        "\n",
        "Spark DataFrame allow for handling large dataset easier.\n",
        "\n",
        "\n",
        "\n",
        "*   Easy Syntax\n",
        "*   Ability to use SQL directly in the frame\n",
        "*   Operations are distributed across Resilient Distributed Dataset (RDD)\n",
        "\n",
        "\n",
        "\n",
        "\n"
      ],
      "metadata": {
        "id": "RFoK9-4e0CjY"
      }
    },
    {
      "cell_type": "markdown",
      "source": [
        "## Create a DataFrame\n",
        "\n"
      ],
      "metadata": {
        "id": "ketN_ygH061M"
      }
    },
    {
      "cell_type": "markdown",
      "source": [
        "Start by installing the PySpark package by inserting the following code:"
      ],
      "metadata": {
        "id": "Fua2ovSCUe1Q"
      }
    },
    {
      "cell_type": "code",
      "source": [
        "!pip install pyspark"
      ],
      "metadata": {
        "colab": {
          "base_uri": "https://localhost:8080/"
        },
        "id": "lE-ULqNN2CSh",
        "outputId": "cda1d534-c6d4-49f8-9fe0-dc19e3589a40"
      },
      "execution_count": null,
      "outputs": [
        {
          "output_type": "stream",
          "name": "stdout",
          "text": [
            "Looking in indexes: https://pypi.org/simple, https://us-python.pkg.dev/colab-wheels/public/simple/\n",
            "Requirement already satisfied: pyspark in /usr/local/lib/python3.8/dist-packages (3.3.1)\n",
            "Requirement already satisfied: py4j==0.10.9.5 in /usr/local/lib/python3.8/dist-packages (from pyspark) (0.10.9.5)\n"
          ]
        }
      ]
    },
    {
      "cell_type": "code",
      "source": [
        "from pyspark.sql import SparkSession"
      ],
      "metadata": {
        "id": "t4CChKGJ2WFv"
      },
      "execution_count": null,
      "outputs": []
    },
    {
      "cell_type": "code",
      "source": [
        "import pyspark.sql.functions as func"
      ],
      "metadata": {
        "id": "X15U-9sn9Vrb"
      },
      "execution_count": null,
      "outputs": []
    },
    {
      "cell_type": "code",
      "source": [
        "spark = SparkSession.builder.appName(\"pyspark_basics\").getOrCreate()"
      ],
      "metadata": {
        "id": "dAv4RNoh2dbJ"
      },
      "execution_count": null,
      "outputs": []
    },
    {
      "cell_type": "code",
      "source": [
        "path = \"/content/drive/MyDrive/Colab Notebooks/1000000 Sales Records.csv\""
      ],
      "metadata": {
        "id": "6rov6NG-20bP"
      },
      "execution_count": null,
      "outputs": []
    },
    {
      "cell_type": "code",
      "source": [
        "df = spark.read.csv(path, header=True)"
      ],
      "metadata": {
        "id": "Kq29QrItjlbj"
      },
      "execution_count": null,
      "outputs": []
    },
    {
      "cell_type": "markdown",
      "source": [
        "## Show DataFrame"
      ],
      "metadata": {
        "id": "ryrJtVp92sgb"
      }
    },
    {
      "cell_type": "markdown",
      "source": [
        "Displaying data from the dataset. Unspecified range of data retrieval as shown below will display only the first 20 results."
      ],
      "metadata": {
        "id": "gtwEqdpNaNV2"
      }
    },
    {
      "cell_type": "code",
      "source": [
        "df.show()"
      ],
      "metadata": {
        "colab": {
          "base_uri": "https://localhost:8080/"
        },
        "id": "Mwsa8TVs2vMr",
        "outputId": "a367db75-a679-4b9c-cf55-c8f67f19bfad"
      },
      "execution_count": null,
      "outputs": [
        {
          "output_type": "stream",
          "name": "stdout",
          "text": [
            "+--------------------+----------------+---------------+-------------+--------------+----------+---------+----------+----------+----------+---------+-------------+----------+------------+\n",
            "|              Region|         Country|      Item Type|Sales Channel|Order Priority|Order Date| Order ID| Ship Date|Units Sold|Unit Price|Unit Cost|Total Revenue|Total Cost|Total Profit|\n",
            "+--------------------+----------------+---------------+-------------+--------------+----------+---------+----------+----------+----------+---------+-------------+----------+------------+\n",
            "|  Sub-Saharan Africa|    South Africa|         Fruits|      Offline|             M| 7/27/2012|443368995| 7/28/2012|      1593|      9.33|     6.92|     14862.69|  11023.56|     3839.13|\n",
            "|Middle East and N...|         Morocco|        Clothes|       Online|             M| 9/14/2013|667593514|10/19/2013|      4611|    109.28|    35.84|    503890.08| 165258.24|   338631.84|\n",
            "|Australia and Oce...|Papua New Guinea|           Meat|      Offline|             M| 5/15/2015|940995585|  6/4/2015|       360|    421.89|   364.69|    151880.40| 131288.40|    20592.00|\n",
            "|  Sub-Saharan Africa|        Djibouti|        Clothes|      Offline|             H| 5/17/2017|880811536|  7/2/2017|       562|    109.28|    35.84|     61415.36|  20142.08|    41273.28|\n",
            "|              Europe|        Slovakia|      Beverages|      Offline|             L|10/26/2016|174590194| 12/4/2016|      3973|     47.45|    31.79|    188518.85| 126301.67|    62217.18|\n",
            "|                Asia|       Sri Lanka|         Fruits|       Online|             L| 11/7/2011|830192887|12/18/2011|      1379|      9.33|     6.92|     12866.07|   9542.68|     3323.39|\n",
            "|  Sub-Saharan Africa|     Seychelles |      Beverages|       Online|             M| 1/18/2013|425793445| 2/16/2013|       597|     47.45|    31.79|     28327.65|  18978.63|     9349.02|\n",
            "|  Sub-Saharan Africa|        Tanzania|      Beverages|       Online|             L|11/30/2016|659878194| 1/16/2017|      1476|     47.45|    31.79|     70036.20|  46922.04|    23114.16|\n",
            "|  Sub-Saharan Africa|           Ghana|Office Supplies|       Online|             L| 3/23/2017|601245963| 4/15/2017|       896|    651.21|   524.96|    583484.16| 470364.16|   113120.00|\n",
            "|  Sub-Saharan Africa|        Tanzania|      Cosmetics|      Offline|             L| 5/23/2016|739008080| 5/24/2016|      7768|    437.20|   263.33|   3396169.60|2045547.44|  1350622.16|\n",
            "|                Asia|          Taiwan|         Fruits|      Offline|             M|  2/9/2014|732588374| 2/23/2014|      8034|      9.33|     6.92|     74957.22|  55595.28|    19361.94|\n",
            "|Middle East and N...|         Algeria|      Cosmetics|       Online|             M| 2/18/2011|761723172| 2/24/2011|      9669|    437.20|   263.33|   4227286.80|2546137.77|  1681149.03|\n",
            "|                Asia|       Singapore|         Snacks|       Online|             C| 1/28/2013|176461303|  2/7/2013|      7676|    152.58|    97.44|   1171204.08| 747949.44|   423254.64|\n",
            "|Australia and Oce...|Papua New Guinea|        Clothes|      Offline|             L| 6/20/2011|647164094| 7/14/2011|      9092|    109.28|    35.84|    993573.76| 325857.28|   667716.48|\n",
            "|                Asia|         Vietnam|  Personal Care|       Online|             M|  4/4/2010|314505374|  5/6/2010|      7984|     81.73|    56.67|    652532.32| 452453.28|   200079.04|\n",
            "|  Sub-Saharan Africa|          Uganda|  Personal Care|       Online|             M| 6/19/2014|539471471| 7/21/2014|       451|     81.73|    56.67|     36860.23|  25558.17|    11302.06|\n",
            "|  Sub-Saharan Africa|        Zimbabwe|Office Supplies|      Offline|             C| 3/28/2011|953361213|  4/8/2011|      9623|    651.21|   524.96|   6266593.83|5051690.08|  1214903.75|\n",
            "|  Sub-Saharan Africa|        Ethiopia|      Cosmetics|       Online|             M|  7/7/2011|807785928| 7/25/2011|       662|    437.20|   263.33|    289426.40| 174324.46|   115101.94|\n",
            "|              Europe|          France|      Cosmetics|       Online|             M| 12/7/2015|324669444| 1/18/2016|      5758|    437.20|   263.33|   2517397.60|1516254.14|  1001143.46|\n",
            "|Central America a...|     The Bahamas|  Personal Care|       Online|             C| 1/19/2011|246248090| 2/21/2011|      9137|     81.73|    56.67|    746767.01| 517793.79|   228973.22|\n",
            "+--------------------+----------------+---------------+-------------+--------------+----------+---------+----------+----------+----------+---------+-------------+----------+------------+\n",
            "only showing top 20 rows\n",
            "\n"
          ]
        }
      ]
    },
    {
      "cell_type": "markdown",
      "source": [
        "Explore all the variables contained in the dataset along with its data types using printSchema()"
      ],
      "metadata": {
        "id": "AZ2zG1VGYKY4"
      }
    },
    {
      "cell_type": "code",
      "source": [
        "df.printSchema()"
      ],
      "metadata": {
        "colab": {
          "base_uri": "https://localhost:8080/"
        },
        "id": "hDjZtmIV5CcN",
        "outputId": "30d1edaa-14f3-4b19-916e-a46b88d9f252"
      },
      "execution_count": null,
      "outputs": [
        {
          "output_type": "stream",
          "name": "stdout",
          "text": [
            "root\n",
            " |-- Region: string (nullable = true)\n",
            " |-- Country: string (nullable = true)\n",
            " |-- Item Type: string (nullable = true)\n",
            " |-- Sales Channel: string (nullable = true)\n",
            " |-- Order Priority: string (nullable = true)\n",
            " |-- Order Date: string (nullable = true)\n",
            " |-- Order ID: string (nullable = true)\n",
            " |-- Ship Date: string (nullable = true)\n",
            " |-- Units Sold: string (nullable = true)\n",
            " |-- Unit Price: string (nullable = true)\n",
            " |-- Unit Cost: string (nullable = true)\n",
            " |-- Total Revenue: string (nullable = true)\n",
            " |-- Total Cost: string (nullable = true)\n",
            " |-- Total Profit: string (nullable = true)\n",
            "\n"
          ]
        }
      ]
    },
    {
      "cell_type": "markdown",
      "source": [
        "## Specify Schema Structure\n",
        "\n",
        "\n",
        "*   Some data types make it easier to infer schema\n",
        "*   Spark has tools to help specify the structure\n",
        "\n"
      ],
      "metadata": {
        "id": "ShYQJPtF6Q1v"
      }
    },
    {
      "cell_type": "code",
      "source": [
        "from pyspark.sql.types import StructField, IntegerType, StructType, FloatType"
      ],
      "metadata": {
        "id": "Ht4QtCKB6oHJ"
      },
      "execution_count": null,
      "outputs": []
    },
    {
      "cell_type": "code",
      "source": [
        "df = df.withColumn('Order ID', df['Order ID'].cast(IntegerType()))\n",
        "df = df.withColumn('Units Sold', df['Units Sold'].cast(IntegerType()))\n",
        "df = df.withColumn('Unit Price', df['Unit Price'].cast(FloatType()))\n",
        "df = df.withColumn('Unit Cost', df['Unit Cost'].cast(FloatType()))\n",
        "df = df.withColumn('Total Revenue', df['Total Revenue'].cast(FloatType()))\n",
        "df = df.withColumn('Total Cost', df['Total Cost'].cast(FloatType()))\n",
        "df = df.withColumn('Total Profit', df['Total Profit'].cast(FloatType()))"
      ],
      "metadata": {
        "id": "jhwbGT-M0ysC"
      },
      "execution_count": null,
      "outputs": []
    },
    {
      "cell_type": "code",
      "source": [
        "df.printSchema()"
      ],
      "metadata": {
        "colab": {
          "base_uri": "https://localhost:8080/"
        },
        "id": "tPYHKcXL2mIu",
        "outputId": "052e0db9-94e8-4c68-8bbc-5dc2dae06233"
      },
      "execution_count": null,
      "outputs": [
        {
          "output_type": "stream",
          "name": "stdout",
          "text": [
            "root\n",
            " |-- Region: string (nullable = true)\n",
            " |-- Country: string (nullable = true)\n",
            " |-- Item Type: string (nullable = true)\n",
            " |-- Sales Channel: string (nullable = true)\n",
            " |-- Order Priority: string (nullable = true)\n",
            " |-- Order Date: string (nullable = true)\n",
            " |-- Order ID: integer (nullable = true)\n",
            " |-- Ship Date: string (nullable = true)\n",
            " |-- Units Sold: integer (nullable = true)\n",
            " |-- Unit Price: float (nullable = true)\n",
            " |-- Unit Cost: float (nullable = true)\n",
            " |-- Total Revenue: float (nullable = true)\n",
            " |-- Total Cost: float (nullable = true)\n",
            " |-- Total Profit: float (nullable = true)\n",
            "\n"
          ]
        }
      ]
    },
    {
      "cell_type": "markdown",
      "source": [
        "## Grab Data"
      ],
      "metadata": {
        "id": "K3g_MBqPoocT"
      }
    },
    {
      "cell_type": "markdown",
      "source": [
        "Unlike Pandas, PySpark has a different method to retrieve datas from the dataset."
      ],
      "metadata": {
        "id": "xM7EMS47ZaXL"
      }
    },
    {
      "cell_type": "code",
      "source": [
        "df['Region']"
      ],
      "metadata": {
        "colab": {
          "base_uri": "https://localhost:8080/"
        },
        "id": "VIisIXaPowX6",
        "outputId": "a0e63e21-8c1f-4ba0-8206-718f3e57ee18"
      },
      "execution_count": null,
      "outputs": [
        {
          "output_type": "execute_result",
          "data": {
            "text/plain": [
              "Column<'Region'>"
            ]
          },
          "metadata": {},
          "execution_count": 71
        }
      ]
    },
    {
      "cell_type": "markdown",
      "source": [
        "The method that's used in Pandas to retrieve data will only return as a column instead of the actual data. "
      ],
      "metadata": {
        "id": "CF4O6IibZlNu"
      }
    },
    {
      "cell_type": "code",
      "source": [
        "type(df['Region'])"
      ],
      "metadata": {
        "colab": {
          "base_uri": "https://localhost:8080/"
        },
        "id": "IlBeYsEZo3q2",
        "outputId": "011c78db-a14e-4201-d88d-3731ec87f1da"
      },
      "execution_count": null,
      "outputs": [
        {
          "output_type": "execute_result",
          "data": {
            "text/plain": [
              "pyspark.sql.column.Column"
            ]
          },
          "metadata": {},
          "execution_count": 72
        }
      ]
    },
    {
      "cell_type": "code",
      "source": [
        "df.select('Region')"
      ],
      "metadata": {
        "colab": {
          "base_uri": "https://localhost:8080/"
        },
        "id": "hs76gB3hpGql",
        "outputId": "00dac7ad-1697-4d96-f4f8-0e324caefa7b"
      },
      "execution_count": null,
      "outputs": [
        {
          "output_type": "execute_result",
          "data": {
            "text/plain": [
              "DataFrame[Region: string]"
            ]
          },
          "metadata": {},
          "execution_count": 73
        }
      ]
    },
    {
      "cell_type": "code",
      "source": [
        "type(df.select('Region'))"
      ],
      "metadata": {
        "colab": {
          "base_uri": "https://localhost:8080/"
        },
        "id": "fKMe1WnFpNh6",
        "outputId": "0c10dead-d2b3-4668-c234-685acc11170f"
      },
      "execution_count": null,
      "outputs": [
        {
          "output_type": "execute_result",
          "data": {
            "text/plain": [
              "pyspark.sql.dataframe.DataFrame"
            ]
          },
          "metadata": {},
          "execution_count": 74
        }
      ]
    },
    {
      "cell_type": "markdown",
      "source": [
        "PySpark requires an additional step which is to include show() to actually retrieve any particular data."
      ],
      "metadata": {
        "id": "eyIfaxjsZ6b9"
      }
    },
    {
      "cell_type": "code",
      "source": [
        "df.select('Region').show(10)"
      ],
      "metadata": {
        "colab": {
          "base_uri": "https://localhost:8080/"
        },
        "id": "ENPcmHXjpXvG",
        "outputId": "64cf65e8-0126-4ab4-ead0-e3eac93422da"
      },
      "execution_count": null,
      "outputs": [
        {
          "output_type": "stream",
          "name": "stdout",
          "text": [
            "+--------------------+\n",
            "|              Region|\n",
            "+--------------------+\n",
            "|  Sub-Saharan Africa|\n",
            "|Middle East and N...|\n",
            "|Australia and Oce...|\n",
            "|  Sub-Saharan Africa|\n",
            "|              Europe|\n",
            "|                Asia|\n",
            "|  Sub-Saharan Africa|\n",
            "|  Sub-Saharan Africa|\n",
            "|  Sub-Saharan Africa|\n",
            "|  Sub-Saharan Africa|\n",
            "+--------------------+\n",
            "only showing top 10 rows\n",
            "\n"
          ]
        }
      ]
    },
    {
      "cell_type": "code",
      "source": [
        "df.select('Country','Sales Channel').show(10)"
      ],
      "metadata": {
        "colab": {
          "base_uri": "https://localhost:8080/"
        },
        "id": "ifJ_gIOs5fi4",
        "outputId": "650f7980-192f-4dae-ea49-a9cbd35d4d88"
      },
      "execution_count": null,
      "outputs": [
        {
          "output_type": "stream",
          "name": "stdout",
          "text": [
            "+----------------+-------------+\n",
            "|         Country|Sales Channel|\n",
            "+----------------+-------------+\n",
            "|    South Africa|      Offline|\n",
            "|         Morocco|       Online|\n",
            "|Papua New Guinea|      Offline|\n",
            "|        Djibouti|      Offline|\n",
            "|        Slovakia|      Offline|\n",
            "|       Sri Lanka|       Online|\n",
            "|     Seychelles |       Online|\n",
            "|        Tanzania|       Online|\n",
            "|           Ghana|       Online|\n",
            "|        Tanzania|      Offline|\n",
            "+----------------+-------------+\n",
            "only showing top 10 rows\n",
            "\n"
          ]
        }
      ]
    },
    {
      "cell_type": "code",
      "source": [
        "df.head(2)"
      ],
      "metadata": {
        "colab": {
          "base_uri": "https://localhost:8080/"
        },
        "id": "g0DOQCaipg9m",
        "outputId": "7fb54c95-9464-458c-ea8a-b556369a5c40"
      },
      "execution_count": null,
      "outputs": [
        {
          "output_type": "execute_result",
          "data": {
            "text/plain": [
              "[Row(Region='Sub-Saharan Africa', Country='South Africa', Item Type='Fruits', Sales Channel='Offline', Order Priority='M', Order Date='7/27/2012', Order ID=443368995, Ship Date='7/28/2012', Units Sold=1593, Unit Price=9.329999923706055, Unit Cost=6.920000076293945, Total Revenue=14862.6904296875, Total Cost=11023.5595703125, Total Profit=3839.1298828125),\n",
              " Row(Region='Middle East and North Africa', Country='Morocco', Item Type='Clothes', Sales Channel='Online', Order Priority='M', Order Date='9/14/2013', Order ID=667593514, Ship Date='10/19/2013', Units Sold=4611, Unit Price=109.27999877929688, Unit Cost=35.84000015258789, Total Revenue=503890.09375, Total Cost=165258.234375, Total Profit=338631.84375)]"
            ]
          },
          "metadata": {},
          "execution_count": 77
        }
      ]
    },
    {
      "cell_type": "code",
      "source": [
        "df.limit(10).show()"
      ],
      "metadata": {
        "colab": {
          "base_uri": "https://localhost:8080/"
        },
        "id": "0_fa-3NP5xgb",
        "outputId": "ab50495b-b9c6-4255-8343-1f26f968ce5d"
      },
      "execution_count": null,
      "outputs": [
        {
          "output_type": "stream",
          "name": "stdout",
          "text": [
            "+--------------------+----------------+---------------+-------------+--------------+----------+---------+----------+----------+----------+---------+-------------+----------+------------+\n",
            "|              Region|         Country|      Item Type|Sales Channel|Order Priority|Order Date| Order ID| Ship Date|Units Sold|Unit Price|Unit Cost|Total Revenue|Total Cost|Total Profit|\n",
            "+--------------------+----------------+---------------+-------------+--------------+----------+---------+----------+----------+----------+---------+-------------+----------+------------+\n",
            "|  Sub-Saharan Africa|    South Africa|         Fruits|      Offline|             M| 7/27/2012|443368995| 7/28/2012|      1593|      9.33|     6.92|     14862.69|  11023.56|     3839.13|\n",
            "|Middle East and N...|         Morocco|        Clothes|       Online|             M| 9/14/2013|667593514|10/19/2013|      4611|    109.28|    35.84|     503890.1| 165258.23|   338631.84|\n",
            "|Australia and Oce...|Papua New Guinea|           Meat|      Offline|             M| 5/15/2015|940995585|  6/4/2015|       360|    421.89|   364.69|     151880.4|  131288.4|     20592.0|\n",
            "|  Sub-Saharan Africa|        Djibouti|        Clothes|      Offline|             H| 5/17/2017|880811536|  7/2/2017|       562|    109.28|    35.84|     61415.36|  20142.08|    41273.28|\n",
            "|              Europe|        Slovakia|      Beverages|      Offline|             L|10/26/2016|174590194| 12/4/2016|      3973|     47.45|    31.79|    188518.84| 126301.67|    62217.18|\n",
            "|                Asia|       Sri Lanka|         Fruits|       Online|             L| 11/7/2011|830192887|12/18/2011|      1379|      9.33|     6.92|     12866.07|   9542.68|     3323.39|\n",
            "|  Sub-Saharan Africa|     Seychelles |      Beverages|       Online|             M| 1/18/2013|425793445| 2/16/2013|       597|     47.45|    31.79|     28327.65|  18978.63|     9349.02|\n",
            "|  Sub-Saharan Africa|        Tanzania|      Beverages|       Online|             L|11/30/2016|659878194| 1/16/2017|      1476|     47.45|    31.79|      70036.2|  46922.04|    23114.16|\n",
            "|  Sub-Saharan Africa|           Ghana|Office Supplies|       Online|             L| 3/23/2017|601245963| 4/15/2017|       896|    651.21|   524.96|     583484.2| 470364.16|    113120.0|\n",
            "|  Sub-Saharan Africa|        Tanzania|      Cosmetics|      Offline|             L| 5/23/2016|739008080| 5/24/2016|      7768|     437.2|   263.33|    3396169.5| 2045547.5|   1350622.1|\n",
            "+--------------------+----------------+---------------+-------------+--------------+----------+---------+----------+----------+----------+---------+-------------+----------+------------+\n",
            "\n"
          ]
        }
      ]
    },
    {
      "cell_type": "code",
      "source": [
        "# To get rid or whitespaces\n",
        "from pyspark.sql import DataFrame\n",
        "def fix_header(df: DataFrame) -> list:\n",
        "    fixed_col_list: list = []\n",
        "    for col in df.columns:\n",
        "        fixed_col_list.append(f\"`{str(col).strip()}` as {str(col).strip().replace(' ','_')}\")\n",
        "    return fixed_col_list\n",
        "\n",
        "# Create a new dataframe with fixed column names\n",
        "fixed_headers = fix_header(df)\n",
        "\n",
        "\n",
        "# Apply to create the new dataframe\n",
        "fixed_df = df.selectExpr(fixed_headers)\n",
        "fixed_df.printSchema()\n",
        "df = fixed_df\n",
        "df.show(10)"
      ],
      "metadata": {
        "colab": {
          "base_uri": "https://localhost:8080/"
        },
        "id": "JzwIU9N89OA7",
        "outputId": "ce9b3b85-f3ec-48ab-fffe-f24fb241ad44"
      },
      "execution_count": null,
      "outputs": [
        {
          "output_type": "stream",
          "name": "stdout",
          "text": [
            "root\n",
            " |-- Region: string (nullable = true)\n",
            " |-- Country: string (nullable = true)\n",
            " |-- Item_Type: string (nullable = true)\n",
            " |-- Sales_Channel: string (nullable = true)\n",
            " |-- Order_Priority: string (nullable = true)\n",
            " |-- Order_Date: string (nullable = true)\n",
            " |-- Order_ID: integer (nullable = true)\n",
            " |-- Ship_Date: string (nullable = true)\n",
            " |-- Units_Sold: integer (nullable = true)\n",
            " |-- Unit_Price: float (nullable = true)\n",
            " |-- Unit_Cost: float (nullable = true)\n",
            " |-- Total_Revenue: float (nullable = true)\n",
            " |-- Total_Cost: float (nullable = true)\n",
            " |-- Total_Profit: float (nullable = true)\n",
            "\n",
            "+--------------------+----------------+---------------+-------------+--------------+----------+---------+----------+----------+----------+---------+-------------+----------+------------+\n",
            "|              Region|         Country|      Item_Type|Sales_Channel|Order_Priority|Order_Date| Order_ID| Ship_Date|Units_Sold|Unit_Price|Unit_Cost|Total_Revenue|Total_Cost|Total_Profit|\n",
            "+--------------------+----------------+---------------+-------------+--------------+----------+---------+----------+----------+----------+---------+-------------+----------+------------+\n",
            "|  Sub-Saharan Africa|    South Africa|         Fruits|      Offline|             M| 7/27/2012|443368995| 7/28/2012|      1593|      9.33|     6.92|     14862.69|  11023.56|     3839.13|\n",
            "|Middle East and N...|         Morocco|        Clothes|       Online|             M| 9/14/2013|667593514|10/19/2013|      4611|    109.28|    35.84|     503890.1| 165258.23|   338631.84|\n",
            "|Australia and Oce...|Papua New Guinea|           Meat|      Offline|             M| 5/15/2015|940995585|  6/4/2015|       360|    421.89|   364.69|     151880.4|  131288.4|     20592.0|\n",
            "|  Sub-Saharan Africa|        Djibouti|        Clothes|      Offline|             H| 5/17/2017|880811536|  7/2/2017|       562|    109.28|    35.84|     61415.36|  20142.08|    41273.28|\n",
            "|              Europe|        Slovakia|      Beverages|      Offline|             L|10/26/2016|174590194| 12/4/2016|      3973|     47.45|    31.79|    188518.84| 126301.67|    62217.18|\n",
            "|                Asia|       Sri Lanka|         Fruits|       Online|             L| 11/7/2011|830192887|12/18/2011|      1379|      9.33|     6.92|     12866.07|   9542.68|     3323.39|\n",
            "|  Sub-Saharan Africa|     Seychelles |      Beverages|       Online|             M| 1/18/2013|425793445| 2/16/2013|       597|     47.45|    31.79|     28327.65|  18978.63|     9349.02|\n",
            "|  Sub-Saharan Africa|        Tanzania|      Beverages|       Online|             L|11/30/2016|659878194| 1/16/2017|      1476|     47.45|    31.79|      70036.2|  46922.04|    23114.16|\n",
            "|  Sub-Saharan Africa|           Ghana|Office Supplies|       Online|             L| 3/23/2017|601245963| 4/15/2017|       896|    651.21|   524.96|     583484.2| 470364.16|    113120.0|\n",
            "|  Sub-Saharan Africa|        Tanzania|      Cosmetics|      Offline|             L| 5/23/2016|739008080| 5/24/2016|      7768|     437.2|   263.33|    3396169.5| 2045547.5|   1350622.1|\n",
            "|                Asia|          Taiwan|         Fruits|      Offline|             M|  2/9/2014|732588374| 2/23/2014|      8034|      9.33|     6.92|     74957.22|  55595.28|    19361.94|\n",
            "|Middle East and N...|         Algeria|      Cosmetics|       Online|             M| 2/18/2011|761723172| 2/24/2011|      9669|     437.2|   263.33|    4227287.0| 2546137.8|   1681149.0|\n",
            "|                Asia|       Singapore|         Snacks|       Online|             C| 1/28/2013|176461303|  2/7/2013|      7676|    152.58|    97.44|    1171204.1| 747949.44|   423254.62|\n",
            "|Australia and Oce...|Papua New Guinea|        Clothes|      Offline|             L| 6/20/2011|647164094| 7/14/2011|      9092|    109.28|    35.84|    993573.75| 325857.28|    667716.5|\n",
            "|                Asia|         Vietnam|  Personal Care|       Online|             M|  4/4/2010|314505374|  5/6/2010|      7984|     81.73|    56.67|     652532.3| 452453.28|   200079.05|\n",
            "|  Sub-Saharan Africa|          Uganda|  Personal Care|       Online|             M| 6/19/2014|539471471| 7/21/2014|       451|     81.73|    56.67|     36860.23|  25558.17|    11302.06|\n",
            "|  Sub-Saharan Africa|        Zimbabwe|Office Supplies|      Offline|             C| 3/28/2011|953361213|  4/8/2011|      9623|    651.21|   524.96|    6266594.0| 5051690.0|   1214903.8|\n",
            "|  Sub-Saharan Africa|        Ethiopia|      Cosmetics|       Online|             M|  7/7/2011|807785928| 7/25/2011|       662|     437.2|   263.33|     289426.4| 174324.45|   115101.94|\n",
            "|              Europe|          France|      Cosmetics|       Online|             M| 12/7/2015|324669444| 1/18/2016|      5758|     437.2|   263.33|    2517397.5| 1516254.1|  1001143.44|\n",
            "|Central America a...|     The Bahamas|  Personal Care|       Online|             C| 1/19/2011|246248090| 2/21/2011|      9137|     81.73|    56.67|     746767.0| 517793.78|   228973.22|\n",
            "+--------------------+----------------+---------------+-------------+--------------+----------+---------+----------+----------+----------+---------+-------------+----------+------------+\n",
            "only showing top 20 rows\n",
            "\n"
          ]
        }
      ]
    },
    {
      "cell_type": "markdown",
      "source": [
        "## Create New Column"
      ],
      "metadata": {
        "id": "7lHkeb4u5Su0"
      }
    },
    {
      "cell_type": "markdown",
      "source": [
        "You can create a new column in the dataset by inserting the code below. However this will not make a permanent change to the orginal dataset."
      ],
      "metadata": {
        "id": "QoEjAOUzbIBS"
      }
    },
    {
      "cell_type": "code",
      "source": [
        "df.withColumn('Profit per Unit', func.round(df['Unit_Price']-df['Unit_Cost'],2)).limit(10).show()"
      ],
      "metadata": {
        "colab": {
          "base_uri": "https://localhost:8080/"
        },
        "id": "XMQQ464m5VTD",
        "outputId": "7a91b5d9-6418-428f-a65b-a65415aa6a1f"
      },
      "execution_count": null,
      "outputs": [
        {
          "output_type": "stream",
          "name": "stdout",
          "text": [
            "+--------------------+----------------+---------------+-------------+--------------+----------+---------+----------+----------+----------+---------+-------------+----------+------------+---------------+\n",
            "|              Region|         Country|      Item_Type|Sales_Channel|Order_Priority|Order_Date| Order_ID| Ship_Date|Units_Sold|Unit_Price|Unit_Cost|Total_Revenue|Total_Cost|Total_Profit|Profit per Unit|\n",
            "+--------------------+----------------+---------------+-------------+--------------+----------+---------+----------+----------+----------+---------+-------------+----------+------------+---------------+\n",
            "|  Sub-Saharan Africa|    South Africa|         Fruits|      Offline|             M| 7/27/2012|443368995| 7/28/2012|      1593|      9.33|     6.92|     14862.69|  11023.56|     3839.13|           2.41|\n",
            "|Middle East and N...|         Morocco|        Clothes|       Online|             M| 9/14/2013|667593514|10/19/2013|      4611|    109.28|    35.84|     503890.1| 165258.23|   338631.84|          73.44|\n",
            "|Australia and Oce...|Papua New Guinea|           Meat|      Offline|             M| 5/15/2015|940995585|  6/4/2015|       360|    421.89|   364.69|     151880.4|  131288.4|     20592.0|           57.2|\n",
            "|  Sub-Saharan Africa|        Djibouti|        Clothes|      Offline|             H| 5/17/2017|880811536|  7/2/2017|       562|    109.28|    35.84|     61415.36|  20142.08|    41273.28|          73.44|\n",
            "|              Europe|        Slovakia|      Beverages|      Offline|             L|10/26/2016|174590194| 12/4/2016|      3973|     47.45|    31.79|    188518.84| 126301.67|    62217.18|          15.66|\n",
            "|                Asia|       Sri Lanka|         Fruits|       Online|             L| 11/7/2011|830192887|12/18/2011|      1379|      9.33|     6.92|     12866.07|   9542.68|     3323.39|           2.41|\n",
            "|  Sub-Saharan Africa|     Seychelles |      Beverages|       Online|             M| 1/18/2013|425793445| 2/16/2013|       597|     47.45|    31.79|     28327.65|  18978.63|     9349.02|          15.66|\n",
            "|  Sub-Saharan Africa|        Tanzania|      Beverages|       Online|             L|11/30/2016|659878194| 1/16/2017|      1476|     47.45|    31.79|      70036.2|  46922.04|    23114.16|          15.66|\n",
            "|  Sub-Saharan Africa|           Ghana|Office Supplies|       Online|             L| 3/23/2017|601245963| 4/15/2017|       896|    651.21|   524.96|     583484.2| 470364.16|    113120.0|         126.25|\n",
            "|  Sub-Saharan Africa|        Tanzania|      Cosmetics|      Offline|             L| 5/23/2016|739008080| 5/24/2016|      7768|     437.2|   263.33|    3396169.5| 2045547.5|   1350622.1|         173.87|\n",
            "+--------------------+----------------+---------------+-------------+--------------+----------+---------+----------+----------+----------+---------+-------------+----------+------------+---------------+\n",
            "\n"
          ]
        }
      ]
    },
    {
      "cell_type": "markdown",
      "source": [
        "Rename a column name using withColumnRenamed() by inserting the column to be changed followed by the name to changed to."
      ],
      "metadata": {
        "id": "yw5czpwAbXle"
      }
    },
    {
      "cell_type": "code",
      "source": [
        "df.withColumnRenamed('Country','Nation').limit(10).show()"
      ],
      "metadata": {
        "colab": {
          "base_uri": "https://localhost:8080/"
        },
        "id": "p7tRFkBT7gd-",
        "outputId": "68f94b98-d3e9-49f8-e59f-3b07c186cdd3"
      },
      "execution_count": null,
      "outputs": [
        {
          "output_type": "stream",
          "name": "stdout",
          "text": [
            "+--------------------+----------------+---------------+-------------+--------------+----------+---------+----------+----------+----------+---------+-------------+----------+------------+\n",
            "|              Region|          Nation|      Item_Type|Sales_Channel|Order_Priority|Order_Date| Order_ID| Ship_Date|Units_Sold|Unit_Price|Unit_Cost|Total_Revenue|Total_Cost|Total_Profit|\n",
            "+--------------------+----------------+---------------+-------------+--------------+----------+---------+----------+----------+----------+---------+-------------+----------+------------+\n",
            "|  Sub-Saharan Africa|    South Africa|         Fruits|      Offline|             M| 7/27/2012|443368995| 7/28/2012|      1593|      9.33|     6.92|     14862.69|  11023.56|     3839.13|\n",
            "|Middle East and N...|         Morocco|        Clothes|       Online|             M| 9/14/2013|667593514|10/19/2013|      4611|    109.28|    35.84|     503890.1| 165258.23|   338631.84|\n",
            "|Australia and Oce...|Papua New Guinea|           Meat|      Offline|             M| 5/15/2015|940995585|  6/4/2015|       360|    421.89|   364.69|     151880.4|  131288.4|     20592.0|\n",
            "|  Sub-Saharan Africa|        Djibouti|        Clothes|      Offline|             H| 5/17/2017|880811536|  7/2/2017|       562|    109.28|    35.84|     61415.36|  20142.08|    41273.28|\n",
            "|              Europe|        Slovakia|      Beverages|      Offline|             L|10/26/2016|174590194| 12/4/2016|      3973|     47.45|    31.79|    188518.84| 126301.67|    62217.18|\n",
            "|                Asia|       Sri Lanka|         Fruits|       Online|             L| 11/7/2011|830192887|12/18/2011|      1379|      9.33|     6.92|     12866.07|   9542.68|     3323.39|\n",
            "|  Sub-Saharan Africa|     Seychelles |      Beverages|       Online|             M| 1/18/2013|425793445| 2/16/2013|       597|     47.45|    31.79|     28327.65|  18978.63|     9349.02|\n",
            "|  Sub-Saharan Africa|        Tanzania|      Beverages|       Online|             L|11/30/2016|659878194| 1/16/2017|      1476|     47.45|    31.79|      70036.2|  46922.04|    23114.16|\n",
            "|  Sub-Saharan Africa|           Ghana|Office Supplies|       Online|             L| 3/23/2017|601245963| 4/15/2017|       896|    651.21|   524.96|     583484.2| 470364.16|    113120.0|\n",
            "|  Sub-Saharan Africa|        Tanzania|      Cosmetics|      Offline|             L| 5/23/2016|739008080| 5/24/2016|      7768|     437.2|   263.33|    3396169.5| 2045547.5|   1350622.1|\n",
            "+--------------------+----------------+---------------+-------------+--------------+----------+---------+----------+----------+----------+---------+-------------+----------+------------+\n",
            "\n"
          ]
        }
      ]
    },
    {
      "cell_type": "markdown",
      "source": [
        "## Using SQL"
      ],
      "metadata": {
        "id": "zvUfu8QL7xHJ"
      }
    },
    {
      "cell_type": "markdown",
      "source": [
        "PySpark can also be used with similar method syntaxes from SQL."
      ],
      "metadata": {
        "id": "4Mpb7KQ2cBnF"
      }
    },
    {
      "cell_type": "code",
      "source": [
        "df.createOrReplaceTempView('The_Dataset')"
      ],
      "metadata": {
        "id": "BTpvU8RQ7zif"
      },
      "execution_count": null,
      "outputs": []
    },
    {
      "cell_type": "code",
      "source": [
        "sql_results = spark.sql('SELECT * from The_Dataset')"
      ],
      "metadata": {
        "id": "UXKL85WB8P9-"
      },
      "execution_count": null,
      "outputs": []
    },
    {
      "cell_type": "code",
      "source": [
        "sql_results"
      ],
      "metadata": {
        "colab": {
          "base_uri": "https://localhost:8080/"
        },
        "id": "Rx2vbn0n8Y5S",
        "outputId": "a9e7e72b-dfbc-4b5b-c26a-4d5fdcbb8135"
      },
      "execution_count": null,
      "outputs": [
        {
          "output_type": "execute_result",
          "data": {
            "text/plain": [
              "DataFrame[Region: string, Country: string, Item_Type: string, Sales_Channel: string, Order_Priority: string, Order_Date: string, Order_ID: int, Ship_Date: string, Units_Sold: int, Unit_Price: float, Unit_Cost: float, Total_Revenue: float, Total_Cost: float, Total_Profit: float]"
            ]
          },
          "metadata": {},
          "execution_count": 85
        }
      ]
    },
    {
      "cell_type": "code",
      "source": [
        "sql_results.show(10)"
      ],
      "metadata": {
        "colab": {
          "base_uri": "https://localhost:8080/"
        },
        "id": "eTjs4m4B8qst",
        "outputId": "2fb97ee2-89ab-4980-9dd0-8692057b54ba"
      },
      "execution_count": null,
      "outputs": [
        {
          "output_type": "stream",
          "name": "stdout",
          "text": [
            "+--------------------+----------------+---------------+-------------+--------------+----------+---------+----------+----------+----------+---------+-------------+----------+------------+\n",
            "|              Region|         Country|      Item_Type|Sales_Channel|Order_Priority|Order_Date| Order_ID| Ship_Date|Units_Sold|Unit_Price|Unit_Cost|Total_Revenue|Total_Cost|Total_Profit|\n",
            "+--------------------+----------------+---------------+-------------+--------------+----------+---------+----------+----------+----------+---------+-------------+----------+------------+\n",
            "|  Sub-Saharan Africa|    South Africa|         Fruits|      Offline|             M| 7/27/2012|443368995| 7/28/2012|      1593|      9.33|     6.92|     14862.69|  11023.56|     3839.13|\n",
            "|Middle East and N...|         Morocco|        Clothes|       Online|             M| 9/14/2013|667593514|10/19/2013|      4611|    109.28|    35.84|     503890.1| 165258.23|   338631.84|\n",
            "|Australia and Oce...|Papua New Guinea|           Meat|      Offline|             M| 5/15/2015|940995585|  6/4/2015|       360|    421.89|   364.69|     151880.4|  131288.4|     20592.0|\n",
            "|  Sub-Saharan Africa|        Djibouti|        Clothes|      Offline|             H| 5/17/2017|880811536|  7/2/2017|       562|    109.28|    35.84|     61415.36|  20142.08|    41273.28|\n",
            "|              Europe|        Slovakia|      Beverages|      Offline|             L|10/26/2016|174590194| 12/4/2016|      3973|     47.45|    31.79|    188518.84| 126301.67|    62217.18|\n",
            "|                Asia|       Sri Lanka|         Fruits|       Online|             L| 11/7/2011|830192887|12/18/2011|      1379|      9.33|     6.92|     12866.07|   9542.68|     3323.39|\n",
            "|  Sub-Saharan Africa|     Seychelles |      Beverages|       Online|             M| 1/18/2013|425793445| 2/16/2013|       597|     47.45|    31.79|     28327.65|  18978.63|     9349.02|\n",
            "|  Sub-Saharan Africa|        Tanzania|      Beverages|       Online|             L|11/30/2016|659878194| 1/16/2017|      1476|     47.45|    31.79|      70036.2|  46922.04|    23114.16|\n",
            "|  Sub-Saharan Africa|           Ghana|Office Supplies|       Online|             L| 3/23/2017|601245963| 4/15/2017|       896|    651.21|   524.96|     583484.2| 470364.16|    113120.0|\n",
            "|  Sub-Saharan Africa|        Tanzania|      Cosmetics|      Offline|             L| 5/23/2016|739008080| 5/24/2016|      7768|     437.2|   263.33|    3396169.5| 2045547.5|   1350622.1|\n",
            "+--------------------+----------------+---------------+-------------+--------------+----------+---------+----------+----------+----------+---------+-------------+----------+------------+\n",
            "only showing top 10 rows\n",
            "\n"
          ]
        }
      ]
    },
    {
      "cell_type": "code",
      "source": [
        "spark.sql('SELECT * FROM The_Dataset WHERE Region = \"Asia\"').show(10)"
      ],
      "metadata": {
        "colab": {
          "base_uri": "https://localhost:8080/"
        },
        "id": "pRcVZkOf8vY8",
        "outputId": "9e90007d-78e9-40fd-c7f7-318c6d63c836"
      },
      "execution_count": null,
      "outputs": [
        {
          "output_type": "stream",
          "name": "stdout",
          "text": [
            "+------+------------+---------------+-------------+--------------+----------+---------+----------+----------+----------+---------+-------------+----------+------------+\n",
            "|Region|     Country|      Item_Type|Sales_Channel|Order_Priority|Order_Date| Order_ID| Ship_Date|Units_Sold|Unit_Price|Unit_Cost|Total_Revenue|Total_Cost|Total_Profit|\n",
            "+------+------------+---------------+-------------+--------------+----------+---------+----------+----------+----------+---------+-------------+----------+------------+\n",
            "|  Asia|   Sri Lanka|         Fruits|       Online|             L| 11/7/2011|830192887|12/18/2011|      1379|      9.33|     6.92|     12866.07|   9542.68|     3323.39|\n",
            "|  Asia|      Taiwan|         Fruits|      Offline|             M|  2/9/2014|732588374| 2/23/2014|      8034|      9.33|     6.92|     74957.22|  55595.28|    19361.94|\n",
            "|  Asia|   Singapore|         Snacks|       Online|             C| 1/28/2013|176461303|  2/7/2013|      7676|    152.58|    97.44|    1171204.1| 747949.44|   423254.62|\n",
            "|  Asia|     Vietnam|  Personal Care|       Online|             M|  4/4/2010|314505374|  5/6/2010|      7984|     81.73|    56.67|     652532.3| 452453.28|   200079.05|\n",
            "|  Asia|Turkmenistan|     Vegetables|       Online|             M| 4/13/2015|116205585|  6/2/2015|      6670|    154.06|    90.93|    1027580.2|  606503.1|    421077.1|\n",
            "|  Asia|       China|Office Supplies|       Online|             M| 2/10/2016|198927056| 3/29/2016|      5791|    651.21|   524.96|    3771157.0| 3040043.2|   731113.75|\n",
            "|  Asia|    Malaysia|      Beverages|       Online|             M|11/13/2014|955894076|12/28/2014|      9154|     47.45|    31.79|     434357.3| 291005.66|   143351.64|\n",
            "|  Asia|       India|         Snacks|       Online|             L|10/10/2012|440306556|11/20/2012|      5349|    152.58|    97.44|    816150.44| 521206.56|   294943.88|\n",
            "|  Asia|  Kazakhstan|         Snacks|       Online|             L|  9/8/2013|710296428|10/25/2013|      1352|    152.58|    97.44|    206288.16| 131738.88|    74549.28|\n",
            "|  Asia|      Brunei|         Cereal|      Offline|             L| 5/28/2013|153842341| 7/16/2013|      4222|     205.7|   117.11|     868465.4|  494438.4|   374026.97|\n",
            "+------+------------+---------------+-------------+--------------+----------+---------+----------+----------+----------+---------+-------------+----------+------------+\n",
            "only showing top 10 rows\n",
            "\n"
          ]
        }
      ]
    },
    {
      "cell_type": "code",
      "source": [
        "spark.sql('SELECT Item_Type, Units_Sold FROM The_Dataset').show(10)"
      ],
      "metadata": {
        "id": "aefsdINlBaaj",
        "colab": {
          "base_uri": "https://localhost:8080/"
        },
        "outputId": "4f80e39a-ba0e-435b-f922-99bb4672d9c8"
      },
      "execution_count": null,
      "outputs": [
        {
          "output_type": "stream",
          "name": "stdout",
          "text": [
            "+---------------+----------+\n",
            "|      Item_Type|Units_Sold|\n",
            "+---------------+----------+\n",
            "|         Fruits|      1593|\n",
            "|        Clothes|      4611|\n",
            "|           Meat|       360|\n",
            "|        Clothes|       562|\n",
            "|      Beverages|      3973|\n",
            "|         Fruits|      1379|\n",
            "|      Beverages|       597|\n",
            "|      Beverages|      1476|\n",
            "|Office Supplies|       896|\n",
            "|      Cosmetics|      7768|\n",
            "+---------------+----------+\n",
            "only showing top 10 rows\n",
            "\n"
          ]
        }
      ]
    }
  ]
}
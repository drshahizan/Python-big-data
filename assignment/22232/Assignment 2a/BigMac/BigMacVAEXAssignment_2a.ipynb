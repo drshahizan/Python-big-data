{
  "nbformat": 4,
  "nbformat_minor": 0,
  "metadata": {
    "colab": {
      "provenance": [],
      "include_colab_link": true
    },
    "kernelspec": {
      "name": "python3",
      "display_name": "Python 3"
    },
    "language_info": {
      "name": "python"
    }
  },
  "cells": [
    {
      "cell_type": "markdown",
      "metadata": {
        "id": "view-in-github",
        "colab_type": "text"
      },
      "source": [
        "<a href=\"https://colab.research.google.com/github/drshahizan/Python-big-data/blob/main/Assignment%202a/BigMac/BigMacVAEXAssignment_2a.ipynb\" target=\"_parent\"><img src=\"https://colab.research.google.com/assets/colab-badge.svg\" alt=\"Open In Colab\"/></a>"
      ]
    },
    {
      "cell_type": "markdown",
      "source": [
        "# **Dataset: Health Insurance Marketplace**\n",
        "\n",
        "**Group members:**\n",
        "\n",
        "<table>\n",
        "  <tr>\n",
        "    <th>Name</th>\n",
        "    <th>Matric</th>\n",
        "  </tr>\n",
        "  <tr>\n",
        "    <th>Muhammad Imran Hakimi Bin Mohd Shukri </th>\n",
        "    <th>A20EC0213</th>\n",
        "  </tr>\n",
        "  <tr>\n",
        "    <th>Afif Hazmie Arsyad Bin Agus</th>\n",
        "    <th>A20EC0176</th>\n",
        "  </tr>\n",
        "    <tr>\n",
        "    <th>Kong Jia Rou</th>\n",
        "    <th>A20EC0198</th>\n",
        "  </tr>\n",
        "    <tr>\n",
        "    <th>Rasmin Kaur Sandhu</th>\n",
        "    <th>A19ET0216</th>\n",
        "  </tr>\n",
        "</table>"
      ],
      "metadata": {
        "id": "-PxuJNyacqoD"
      }
    },
    {
      "cell_type": "markdown",
      "source": [
        "##**What is Vaex?**\n",
        "\n",
        "Vaex is a high performance Python library for lazy Out-of-Core DataFrames (similar to Pandas), to visualize and explore big tabular datasets. It calculates statistics such as mean, sum, count, standard deviation etc, on an N-dimensional grid for more than a billion (10^9) samples/rows per second. Visualization is done using histograms, density plots and 3d volume rendering, allowing interactive exploration of big data. Vaex uses memory mapping, zero memory copy policy and lazy computations for best performance (no memory wasted).\n",
        "\n",
        "In this project, we will show how to install and examples on how to use this library by using the medical dataset [Rate.csv](https://www.kaggle.com/datasets/hhs/health-insurance-marketplace?select=Rate.csv). "
      ],
      "metadata": {
        "id": "2PyeXXBkdFcW"
      }
    },
    {
      "cell_type": "markdown",
      "source": [
        "###**Connect GDrive**"
      ],
      "metadata": {
        "id": "LZRLeFBLvjk9"
      }
    },
    {
      "cell_type": "code",
      "source": [
        "from google.colab import drive\n",
        "drive.mount('/content/drive')"
      ],
      "metadata": {
        "colab": {
          "base_uri": "https://localhost:8080/"
        },
        "id": "W5kVOVxWof2K",
        "outputId": "2b21208f-6c2e-410b-c327-ee739e531d6e"
      },
      "execution_count": 1,
      "outputs": [
        {
          "output_type": "stream",
          "name": "stdout",
          "text": [
            "Drive already mounted at /content/drive; to attempt to forcibly remount, call drive.mount(\"/content/drive\", force_remount=True).\n"
          ]
        }
      ]
    },
    {
      "cell_type": "code",
      "source": [
        "# Pull dataset from my google drive\n",
        "!pip install -U -q PyDrive\n",
        "from pydrive.auth import GoogleAuth\n",
        "from pydrive.drive import GoogleDrive\n",
        "from google.colab import auth\n",
        "from oauth2client.client import GoogleCredentials\n",
        "\n",
        "# Authenticate and create the PyDrive client.\n",
        "auth.authenticate_user()\n",
        "gauth = GoogleAuth()\n",
        "gauth.credentials = GoogleCredentials.get_application_default()\n",
        "drive = GoogleDrive(gauth)\n",
        "link = 'https://drive.google.com/file/d/110mZHE08iW3Kbio-XCcASizLcpU2qFAV/view?usp=sharing'\n",
        "# to get the id part of the file\n",
        "id = link.split(\"/\")[-2]\n",
        " \n",
        "downloaded = drive.CreateFile({'id':id})\n",
        "downloaded.GetContentFile('Rate.csv') "
      ],
      "metadata": {
        "id": "RtuLFGyEeUUB"
      },
      "execution_count": 2,
      "outputs": []
    },
    {
      "cell_type": "markdown",
      "source": [
        "###**Install Vaex**"
      ],
      "metadata": {
        "id": "yFw7w3q4vreF"
      }
    },
    {
      "cell_type": "code",
      "execution_count": null,
      "metadata": {
        "id": "3QmE4vVLcYSF",
        "colab": {
          "base_uri": "https://localhost:8080/",
          "height": 1000
        },
        "outputId": "2af9ca94-b3a0-4cc6-8336-2425ae64d62a"
      },
      "outputs": [
        {
          "output_type": "stream",
          "name": "stdout",
          "text": [
            "Looking in indexes: https://pypi.org/simple, https://us-python.pkg.dev/colab-wheels/public/simple/\n",
            "Collecting vaex\n",
            "  Downloading vaex-4.16.0-py3-none-any.whl (4.7 kB)\n",
            "Collecting vaex-viz<0.6,>=0.5.4\n",
            "  Downloading vaex_viz-0.5.4-py3-none-any.whl (19 kB)\n",
            "Collecting vaex-server<0.9,>=0.8.1\n",
            "  Downloading vaex_server-0.8.1-py3-none-any.whl (23 kB)\n",
            "Collecting vaex-ml<0.19,>=0.18.1\n",
            "  Downloading vaex_ml-0.18.1-py3-none-any.whl (58 kB)\n",
            "\u001b[2K     \u001b[90m━━━━━━━━━━━━━━━━━━━━━━━━━━━━━━━━━━━━━━━━\u001b[0m \u001b[32m58.2/58.2 KB\u001b[0m \u001b[31m6.7 MB/s\u001b[0m eta \u001b[36m0:00:00\u001b[0m\n",
            "\u001b[?25hCollecting vaex-astro<0.10,>=0.9.3\n",
            "  Downloading vaex_astro-0.9.3-py3-none-any.whl (20 kB)\n",
            "Collecting vaex-hdf5<0.15,>=0.13.0\n",
            "  Downloading vaex_hdf5-0.14.1-py3-none-any.whl (16 kB)\n",
            "Collecting vaex-core<4.17,>=4.16.0\n",
            "  Downloading vaex_core-4.16.1-cp38-cp38-manylinux_2_17_x86_64.manylinux2014_x86_64.whl (4.5 MB)\n",
            "\u001b[2K     \u001b[90m━━━━━━━━━━━━━━━━━━━━━━━━━━━━━━━━━━━━━━━━\u001b[0m \u001b[32m4.5/4.5 MB\u001b[0m \u001b[31m49.4 MB/s\u001b[0m eta \u001b[36m0:00:00\u001b[0m\n",
            "\u001b[?25hCollecting vaex-jupyter<0.9,>=0.8.1\n",
            "  Downloading vaex_jupyter-0.8.1-py3-none-any.whl (43 kB)\n",
            "\u001b[2K     \u001b[90m━━━━━━━━━━━━━━━━━━━━━━━━━━━━━━━━━━━━━━━━\u001b[0m \u001b[32m43.2/43.2 KB\u001b[0m \u001b[31m4.9 MB/s\u001b[0m eta \u001b[36m0:00:00\u001b[0m\n",
            "\u001b[?25hRequirement already satisfied: astropy in /usr/local/lib/python3.8/dist-packages (from vaex-astro<0.10,>=0.9.3->vaex) (4.3.1)\n",
            "Requirement already satisfied: numpy>=1.16 in /usr/local/lib/python3.8/dist-packages (from vaex-core<4.17,>=4.16.0->vaex) (1.21.6)\n",
            "Requirement already satisfied: progressbar2 in /usr/local/lib/python3.8/dist-packages (from vaex-core<4.17,>=4.16.0->vaex) (3.38.0)\n",
            "Requirement already satisfied: cloudpickle in /usr/local/lib/python3.8/dist-packages (from vaex-core<4.17,>=4.16.0->vaex) (2.2.0)\n",
            "Requirement already satisfied: six in /usr/local/lib/python3.8/dist-packages (from vaex-core<4.17,>=4.16.0->vaex) (1.15.0)\n",
            "Requirement already satisfied: dask!=2022.4.0 in /usr/local/lib/python3.8/dist-packages (from vaex-core<4.17,>=4.16.0->vaex) (2022.2.1)\n",
            "Requirement already satisfied: pandas in /usr/local/lib/python3.8/dist-packages (from vaex-core<4.17,>=4.16.0->vaex) (1.3.5)\n",
            "Collecting nest-asyncio>=1.3.3\n",
            "  Downloading nest_asyncio-1.5.6-py3-none-any.whl (5.2 kB)\n",
            "Requirement already satisfied: requests in /usr/local/lib/python3.8/dist-packages (from vaex-core<4.17,>=4.16.0->vaex) (2.25.1)\n",
            "Collecting frozendict!=2.2.0\n",
            "  Downloading frozendict-2.3.4-cp38-cp38-manylinux_2_17_x86_64.manylinux2014_x86_64.whl (110 kB)\n",
            "\u001b[2K     \u001b[90m━━━━━━━━━━━━━━━━━━━━━━━━━━━━━━━━━━━━━━\u001b[0m \u001b[32m111.0/111.0 KB\u001b[0m \u001b[31m12.4 MB/s\u001b[0m eta \u001b[36m0:00:00\u001b[0m\n",
            "\u001b[?25hRequirement already satisfied: filelock in /usr/local/lib/python3.8/dist-packages (from vaex-core<4.17,>=4.16.0->vaex) (3.9.0)\n",
            "Collecting blake3\n",
            "  Downloading blake3-0.3.3-cp38-cp38-manylinux_2_17_x86_64.manylinux2014_x86_64.whl (1.2 MB)\n",
            "\u001b[2K     \u001b[90m━━━━━━━━━━━━━━━━━━━━━━━━━━━━━━━━━━━━━━━━\u001b[0m \u001b[32m1.2/1.2 MB\u001b[0m \u001b[31m32.2 MB/s\u001b[0m eta \u001b[36m0:00:00\u001b[0m\n",
            "\u001b[?25hRequirement already satisfied: pydantic>=1.8.0 in /usr/local/lib/python3.8/dist-packages (from vaex-core<4.17,>=4.16.0->vaex) (1.10.4)\n",
            "Requirement already satisfied: future>=0.15.2 in /usr/local/lib/python3.8/dist-packages (from vaex-core<4.17,>=4.16.0->vaex) (0.16.0)\n",
            "Collecting rich\n",
            "  Downloading rich-13.0.1-py3-none-any.whl (238 kB)\n",
            "\u001b[2K     \u001b[90m━━━━━━━━━━━━━━━━━━━━━━━━━━━━━━━━━━━━━━\u001b[0m \u001b[32m238.1/238.1 KB\u001b[0m \u001b[31m24.8 MB/s\u001b[0m eta \u001b[36m0:00:00\u001b[0m\n",
            "\u001b[?25hRequirement already satisfied: pyyaml in /usr/local/lib/python3.8/dist-packages (from vaex-core<4.17,>=4.16.0->vaex) (6.0)\n",
            "Requirement already satisfied: pyarrow>=5.0.0 in /usr/local/lib/python3.8/dist-packages (from vaex-core<4.17,>=4.16.0->vaex) (9.0.0)\n",
            "Collecting aplus\n",
            "  Downloading aplus-0.11.0.tar.gz (3.7 kB)\n",
            "  Preparing metadata (setup.py) ... \u001b[?25l\u001b[?25hdone\n",
            "Requirement already satisfied: tabulate>=0.8.3 in /usr/local/lib/python3.8/dist-packages (from vaex-core<4.17,>=4.16.0->vaex) (0.8.10)\n",
            "Requirement already satisfied: h5py>=2.9 in /usr/local/lib/python3.8/dist-packages (from vaex-hdf5<0.15,>=0.13.0->vaex) (3.1.0)\n",
            "Collecting ipyleaflet\n",
            "  Downloading ipyleaflet-0.17.2-py3-none-any.whl (3.7 MB)\n",
            "\u001b[2K     \u001b[90m━━━━━━━━━━━━━━━━━━━━━━━━━━━━━━━━━━━━━━━━\u001b[0m \u001b[32m3.7/3.7 MB\u001b[0m \u001b[31m102.0 MB/s\u001b[0m eta \u001b[36m0:00:00\u001b[0m\n",
            "\u001b[?25hCollecting bqplot>=0.10.1\n",
            "  Downloading bqplot-0.12.36-py2.py3-none-any.whl (1.2 MB)\n",
            "\u001b[2K     \u001b[90m━━━━━━━━━━━━━━━━━━━━━━━━━━━━━━━━━━━━━━━━\u001b[0m \u001b[32m1.2/1.2 MB\u001b[0m \u001b[31m74.2 MB/s\u001b[0m eta \u001b[36m0:00:00\u001b[0m\n",
            "\u001b[?25hCollecting ipyvuetify<2,>=1.2.2\n",
            "  Downloading ipyvuetify-1.8.4-py2.py3-none-any.whl (11.7 MB)\n",
            "\u001b[2K     \u001b[90m━━━━━━━━━━━━━━━━━━━━━━━━━━━━━━━━━━━━━━━━\u001b[0m \u001b[32m11.7/11.7 MB\u001b[0m \u001b[31m73.5 MB/s\u001b[0m eta \u001b[36m0:00:00\u001b[0m\n",
            "\u001b[?25hCollecting ipyvolume>=0.4\n",
            "  Downloading ipyvolume-0.5.2-py2.py3-none-any.whl (2.9 MB)\n",
            "\u001b[2K     \u001b[90m━━━━━━━━━━━━━━━━━━━━━━━━━━━━━━━━━━━━━━━━\u001b[0m \u001b[32m2.9/2.9 MB\u001b[0m \u001b[31m101.5 MB/s\u001b[0m eta \u001b[36m0:00:00\u001b[0m\n",
            "\u001b[?25hCollecting ipympl\n",
            "  Downloading ipympl-0.9.2-py2.py3-none-any.whl (510 kB)\n",
            "\u001b[2K     \u001b[90m━━━━━━━━━━━━━━━━━━━━━━━━━━━━━━━━━━━━━━\u001b[0m \u001b[32m510.3/510.3 KB\u001b[0m \u001b[31m39.5 MB/s\u001b[0m eta \u001b[36m0:00:00\u001b[0m\n",
            "\u001b[?25hRequirement already satisfied: xarray in /usr/local/lib/python3.8/dist-packages (from vaex-jupyter<0.9,>=0.8.1->vaex) (2022.12.0)\n",
            "Requirement already satisfied: numba in /usr/local/lib/python3.8/dist-packages (from vaex-ml<0.19,>=0.18.1->vaex) (0.56.4)\n",
            "Requirement already satisfied: traitlets in /usr/local/lib/python3.8/dist-packages (from vaex-ml<0.19,>=0.18.1->vaex) (5.7.1)\n",
            "Requirement already satisfied: jinja2 in /usr/local/lib/python3.8/dist-packages (from vaex-ml<0.19,>=0.18.1->vaex) (2.11.3)\n",
            "Requirement already satisfied: cachetools in /usr/local/lib/python3.8/dist-packages (from vaex-server<0.9,>=0.8.1->vaex) (5.2.0)\n",
            "Collecting fastapi\n",
            "  Downloading fastapi-0.89.1-py3-none-any.whl (55 kB)\n",
            "\u001b[2K     \u001b[90m━━━━━━━━━━━━━━━━━━━━━━━━━━━━━━━━━━━━━━━━\u001b[0m \u001b[32m55.8/55.8 KB\u001b[0m \u001b[31m7.3 MB/s\u001b[0m eta \u001b[36m0:00:00\u001b[0m\n",
            "\u001b[?25hRequirement already satisfied: tornado>4.1 in /usr/local/lib/python3.8/dist-packages (from vaex-server<0.9,>=0.8.1->vaex) (6.0.4)\n",
            "Collecting uvicorn[standard]\n",
            "  Downloading uvicorn-0.20.0-py3-none-any.whl (56 kB)\n",
            "\u001b[2K     \u001b[90m━━━━━━━━━━━━━━━━━━━━━━━━━━━━━━━━━━━━━━━━\u001b[0m \u001b[32m56.9/56.9 KB\u001b[0m \u001b[31m6.6 MB/s\u001b[0m eta \u001b[36m0:00:00\u001b[0m\n",
            "\u001b[?25hRequirement already satisfied: pillow in /usr/local/lib/python3.8/dist-packages (from vaex-viz<0.6,>=0.5.4->vaex) (7.1.2)\n",
            "Requirement already satisfied: matplotlib>=1.3.1 in /usr/local/lib/python3.8/dist-packages (from vaex-viz<0.6,>=0.5.4->vaex) (3.2.2)\n",
            "Requirement already satisfied: ipywidgets<9,>=7.5.0 in /usr/local/lib/python3.8/dist-packages (from bqplot>=0.10.1->vaex-jupyter<0.9,>=0.8.1->vaex) (7.7.1)\n",
            "Collecting traittypes>=0.0.6\n",
            "  Downloading traittypes-0.2.1-py2.py3-none-any.whl (8.6 kB)\n",
            "Requirement already satisfied: fsspec>=0.6.0 in /usr/local/lib/python3.8/dist-packages (from dask!=2022.4.0->vaex-core<4.17,>=4.16.0->vaex) (2022.11.0)\n",
            "Requirement already satisfied: toolz>=0.8.2 in /usr/local/lib/python3.8/dist-packages (from dask!=2022.4.0->vaex-core<4.17,>=4.16.0->vaex) (0.12.0)\n",
            "Requirement already satisfied: partd>=0.3.10 in /usr/local/lib/python3.8/dist-packages (from dask!=2022.4.0->vaex-core<4.17,>=4.16.0->vaex) (1.3.0)\n",
            "Requirement already satisfied: packaging>=20.0 in /usr/local/lib/python3.8/dist-packages (from dask!=2022.4.0->vaex-core<4.17,>=4.16.0->vaex) (21.3)\n",
            "Collecting ipywebrtc\n",
            "  Downloading ipywebrtc-0.6.0-py2.py3-none-any.whl (260 kB)\n",
            "\u001b[2K     \u001b[90m━━━━━━━━━━━━━━━━━━━━━━━━━━━━━━━━━━━━━━\u001b[0m \u001b[32m260.7/260.7 KB\u001b[0m \u001b[31m28.2 MB/s\u001b[0m eta \u001b[36m0:00:00\u001b[0m\n",
            "\u001b[?25hCollecting pythreejs>=1.0.0\n",
            "  Downloading pythreejs-2.4.1-py3-none-any.whl (3.3 MB)\n",
            "\u001b[2K     \u001b[90m━━━━━━━━━━━━━━━━━━━━━━━━━━━━━━━━━━━━━━━━\u001b[0m \u001b[32m3.3/3.3 MB\u001b[0m \u001b[31m70.5 MB/s\u001b[0m eta \u001b[36m0:00:00\u001b[0m\n",
            "\u001b[?25hCollecting ipyvue<2,>=1.5\n",
            "  Downloading ipyvue-1.8.0-py2.py3-none-any.whl (2.7 MB)\n",
            "\u001b[2K     \u001b[90m━━━━━━━━━━━━━━━━━━━━━━━━━━━━━━━━━━━━━━━━\u001b[0m \u001b[32m2.7/2.7 MB\u001b[0m \u001b[31m84.9 MB/s\u001b[0m eta \u001b[36m0:00:00\u001b[0m\n",
            "\u001b[?25hRequirement already satisfied: kiwisolver>=1.0.1 in /usr/local/lib/python3.8/dist-packages (from matplotlib>=1.3.1->vaex-viz<0.6,>=0.5.4->vaex) (1.4.4)\n",
            "Requirement already satisfied: python-dateutil>=2.1 in /usr/local/lib/python3.8/dist-packages (from matplotlib>=1.3.1->vaex-viz<0.6,>=0.5.4->vaex) (2.8.2)\n",
            "Requirement already satisfied: pyparsing!=2.0.4,!=2.1.2,!=2.1.6,>=2.0.1 in /usr/local/lib/python3.8/dist-packages (from matplotlib>=1.3.1->vaex-viz<0.6,>=0.5.4->vaex) (3.0.9)\n",
            "Requirement already satisfied: cycler>=0.10 in /usr/local/lib/python3.8/dist-packages (from matplotlib>=1.3.1->vaex-viz<0.6,>=0.5.4->vaex) (0.11.0)\n",
            "Requirement already satisfied: pytz>=2017.3 in /usr/local/lib/python3.8/dist-packages (from pandas->vaex-core<4.17,>=4.16.0->vaex) (2022.7)\n",
            "Requirement already satisfied: typing-extensions>=4.2.0 in /usr/local/lib/python3.8/dist-packages (from pydantic>=1.8.0->vaex-core<4.17,>=4.16.0->vaex) (4.4.0)\n",
            "Requirement already satisfied: pyerfa>=1.7.3 in /usr/local/lib/python3.8/dist-packages (from astropy->vaex-astro<0.10,>=0.9.3->vaex) (2.0.0.1)\n",
            "Collecting starlette==0.22.0\n",
            "  Downloading starlette-0.22.0-py3-none-any.whl (64 kB)\n",
            "\u001b[2K     \u001b[90m━━━━━━━━━━━━━━━━━━━━━━━━━━━━━━━━━━━━━━━━\u001b[0m \u001b[32m64.3/64.3 KB\u001b[0m \u001b[31m8.2 MB/s\u001b[0m eta \u001b[36m0:00:00\u001b[0m\n",
            "\u001b[?25hCollecting anyio<5,>=3.4.0\n",
            "  Downloading anyio-3.6.2-py3-none-any.whl (80 kB)\n",
            "\u001b[2K     \u001b[90m━━━━━━━━━━━━━━━━━━━━━━━━━━━━━━━━━━━━━━━━\u001b[0m \u001b[32m80.6/80.6 KB\u001b[0m \u001b[31m9.2 MB/s\u001b[0m eta \u001b[36m0:00:00\u001b[0m\n",
            "\u001b[?25hRequirement already satisfied: branca>=0.5.0 in /usr/local/lib/python3.8/dist-packages (from ipyleaflet->vaex-jupyter<0.9,>=0.8.1->vaex) (0.6.0)\n",
            "Collecting xyzservices>=2021.8.1\n",
            "  Downloading xyzservices-2022.9.0-py3-none-any.whl (55 kB)\n",
            "\u001b[2K     \u001b[90m━━━━━━━━━━━━━━━━━━━━━━━━━━━━━━━━━━━━━━━━\u001b[0m \u001b[32m55.9/55.9 KB\u001b[0m \u001b[31m6.8 MB/s\u001b[0m eta \u001b[36m0:00:00\u001b[0m\n",
            "\u001b[?25hRequirement already satisfied: ipython<9 in /usr/local/lib/python3.8/dist-packages (from ipympl->vaex-jupyter<0.9,>=0.8.1->vaex) (7.9.0)\n",
            "Collecting matplotlib>=1.3.1\n",
            "  Downloading matplotlib-3.6.3-cp38-cp38-manylinux_2_12_x86_64.manylinux2010_x86_64.whl (9.4 MB)\n",
            "\u001b[2K     \u001b[90m━━━━━━━━━━━━━━━━━━━━━━━━━━━━━━━━━━━━━━━━\u001b[0m \u001b[32m9.4/9.4 MB\u001b[0m \u001b[31m108.3 MB/s\u001b[0m eta \u001b[36m0:00:00\u001b[0m\n",
            "\u001b[?25hRequirement already satisfied: ipython-genutils in /usr/local/lib/python3.8/dist-packages (from ipympl->vaex-jupyter<0.9,>=0.8.1->vaex) (0.2.0)\n",
            "Collecting contourpy>=1.0.1\n",
            "  Downloading contourpy-1.0.6-cp38-cp38-manylinux_2_17_x86_64.manylinux2014_x86_64.whl (295 kB)\n",
            "\u001b[2K     \u001b[90m━━━━━━━━━━━━━━━━━━━━━━━━━━━━━━━━━━━━━━\u001b[0m \u001b[32m296.0/296.0 KB\u001b[0m \u001b[31m31.4 MB/s\u001b[0m eta \u001b[36m0:00:00\u001b[0m\n",
            "\u001b[?25hCollecting fonttools>=4.22.0\n",
            "  Downloading fonttools-4.38.0-py3-none-any.whl (965 kB)\n",
            "\u001b[2K     \u001b[90m━━━━━━━━━━━━━━━━━━━━━━━━━━━━━━━━━━━━━━\u001b[0m \u001b[32m965.4/965.4 KB\u001b[0m \u001b[31m60.7 MB/s\u001b[0m eta \u001b[36m0:00:00\u001b[0m\n",
            "\u001b[?25hRequirement already satisfied: MarkupSafe>=0.23 in /usr/local/lib/python3.8/dist-packages (from jinja2->vaex-ml<0.19,>=0.18.1->vaex) (2.0.1)\n",
            "Requirement already satisfied: llvmlite<0.40,>=0.39.0dev0 in /usr/local/lib/python3.8/dist-packages (from numba->vaex-ml<0.19,>=0.18.1->vaex) (0.39.1)\n",
            "Requirement already satisfied: setuptools in /usr/local/lib/python3.8/dist-packages (from numba->vaex-ml<0.19,>=0.18.1->vaex) (57.4.0)\n",
            "Requirement already satisfied: importlib-metadata in /usr/local/lib/python3.8/dist-packages (from numba->vaex-ml<0.19,>=0.18.1->vaex) (6.0.0)\n",
            "Requirement already satisfied: python-utils>=2.3.0 in /usr/local/lib/python3.8/dist-packages (from progressbar2->vaex-core<4.17,>=4.16.0->vaex) (3.4.5)\n",
            "Requirement already satisfied: urllib3<1.27,>=1.21.1 in /usr/local/lib/python3.8/dist-packages (from requests->vaex-core<4.17,>=4.16.0->vaex) (1.24.3)\n",
            "Requirement already satisfied: idna<3,>=2.5 in /usr/local/lib/python3.8/dist-packages (from requests->vaex-core<4.17,>=4.16.0->vaex) (2.10)\n",
            "Requirement already satisfied: certifi>=2017.4.17 in /usr/local/lib/python3.8/dist-packages (from requests->vaex-core<4.17,>=4.16.0->vaex) (2022.12.7)\n",
            "Requirement already satisfied: chardet<5,>=3.0.2 in /usr/local/lib/python3.8/dist-packages (from requests->vaex-core<4.17,>=4.16.0->vaex) (4.0.0)\n",
            "Collecting commonmark<0.10.0,>=0.9.0\n",
            "  Downloading commonmark-0.9.1-py2.py3-none-any.whl (51 kB)\n",
            "\u001b[2K     \u001b[90m━━━━━━━━━━━━━━━━━━━━━━━━━━━━━━━━━━━━━━━━\u001b[0m \u001b[32m51.1/51.1 KB\u001b[0m \u001b[31m6.9 MB/s\u001b[0m eta \u001b[36m0:00:00\u001b[0m\n",
            "\u001b[?25hRequirement already satisfied: pygments<3.0.0,>=2.6.0 in /usr/local/lib/python3.8/dist-packages (from rich->vaex-core<4.17,>=4.16.0->vaex) (2.6.1)\n",
            "Collecting h11>=0.8\n",
            "  Downloading h11-0.14.0-py3-none-any.whl (58 kB)\n",
            "\u001b[2K     \u001b[90m━━━━━━━━━━━━━━━━━━━━━━━━━━━━━━━━━━━━━━━━\u001b[0m \u001b[32m58.3/58.3 KB\u001b[0m \u001b[31m7.9 MB/s\u001b[0m eta \u001b[36m0:00:00\u001b[0m\n",
            "\u001b[?25hRequirement already satisfied: click>=7.0 in /usr/local/lib/python3.8/dist-packages (from uvicorn[standard]->vaex-server<0.9,>=0.8.1->vaex) (7.1.2)\n",
            "Collecting watchfiles>=0.13\n",
            "  Downloading watchfiles-0.18.1-cp37-abi3-manylinux_2_17_x86_64.manylinux2014_x86_64.whl (1.2 MB)\n",
            "\u001b[2K     \u001b[90m━━━━━━━━━━━━━━━━━━━━━━━━━━━━━━━━━━━━━━━━\u001b[0m \u001b[32m1.2/1.2 MB\u001b[0m \u001b[31m74.7 MB/s\u001b[0m eta \u001b[36m0:00:00\u001b[0m\n",
            "\u001b[?25hCollecting websockets>=10.4\n",
            "  Downloading websockets-10.4-cp38-cp38-manylinux_2_5_x86_64.manylinux1_x86_64.manylinux_2_17_x86_64.manylinux2014_x86_64.whl (106 kB)\n",
            "\u001b[2K     \u001b[90m━━━━━━━━━━━━━━━━━━━━━━━━━━━━━━━━━━━━━━\u001b[0m \u001b[32m107.0/107.0 KB\u001b[0m \u001b[31m14.3 MB/s\u001b[0m eta \u001b[36m0:00:00\u001b[0m\n",
            "\u001b[?25hCollecting httptools>=0.5.0\n",
            "  Downloading httptools-0.5.0-cp38-cp38-manylinux_2_5_x86_64.manylinux1_x86_64.manylinux_2_17_x86_64.manylinux2014_x86_64.whl (427 kB)\n",
            "\u001b[2K     \u001b[90m━━━━━━━━━━━━━━━━━━━━━━━━━━━━━━━━━━━━━━\u001b[0m \u001b[32m427.8/427.8 KB\u001b[0m \u001b[31m40.6 MB/s\u001b[0m eta \u001b[36m0:00:00\u001b[0m\n",
            "\u001b[?25hCollecting python-dotenv>=0.13\n",
            "  Downloading python_dotenv-0.21.0-py3-none-any.whl (18 kB)\n",
            "Collecting uvloop!=0.15.0,!=0.15.1,>=0.14.0\n",
            "  Downloading uvloop-0.17.0-cp38-cp38-manylinux_2_17_x86_64.manylinux2014_x86_64.whl (4.6 MB)\n",
            "\u001b[2K     \u001b[90m━━━━━━━━━━━━━━━━━━━━━━━━━━━━━━━━━━━━━━━━\u001b[0m \u001b[32m4.6/4.6 MB\u001b[0m \u001b[31m69.4 MB/s\u001b[0m eta \u001b[36m0:00:00\u001b[0m\n",
            "\u001b[?25hRequirement already satisfied: pexpect in /usr/local/lib/python3.8/dist-packages (from ipython<9->ipympl->vaex-jupyter<0.9,>=0.8.1->vaex) (4.8.0)\n",
            "Requirement already satisfied: decorator in /usr/local/lib/python3.8/dist-packages (from ipython<9->ipympl->vaex-jupyter<0.9,>=0.8.1->vaex) (4.4.2)\n",
            "Requirement already satisfied: backcall in /usr/local/lib/python3.8/dist-packages (from ipython<9->ipympl->vaex-jupyter<0.9,>=0.8.1->vaex) (0.2.0)\n",
            "Requirement already satisfied: pickleshare in /usr/local/lib/python3.8/dist-packages (from ipython<9->ipympl->vaex-jupyter<0.9,>=0.8.1->vaex) (0.7.5)\n",
            "Collecting jedi>=0.10\n",
            "  Downloading jedi-0.18.2-py2.py3-none-any.whl (1.6 MB)\n",
            "\u001b[2K     \u001b[90m━━━━━━━━━━━━━━━━━━━━━━━━━━━━━━━━━━━━━━━━\u001b[0m \u001b[32m1.6/1.6 MB\u001b[0m \u001b[31m80.5 MB/s\u001b[0m eta \u001b[36m0:00:00\u001b[0m\n",
            "\u001b[?25hRequirement already satisfied: prompt-toolkit<2.1.0,>=2.0.0 in /usr/local/lib/python3.8/dist-packages (from ipython<9->ipympl->vaex-jupyter<0.9,>=0.8.1->vaex) (2.0.10)\n",
            "Requirement already satisfied: jupyterlab-widgets>=1.0.0 in /usr/local/lib/python3.8/dist-packages (from ipywidgets<9,>=7.5.0->bqplot>=0.10.1->vaex-jupyter<0.9,>=0.8.1->vaex) (3.0.5)\n",
            "Requirement already satisfied: widgetsnbextension~=3.6.0 in /usr/local/lib/python3.8/dist-packages (from ipywidgets<9,>=7.5.0->bqplot>=0.10.1->vaex-jupyter<0.9,>=0.8.1->vaex) (3.6.1)\n",
            "Requirement already satisfied: ipykernel>=4.5.1 in /usr/local/lib/python3.8/dist-packages (from ipywidgets<9,>=7.5.0->bqplot>=0.10.1->vaex-jupyter<0.9,>=0.8.1->vaex) (5.3.4)\n",
            "Requirement already satisfied: locket in /usr/local/lib/python3.8/dist-packages (from partd>=0.3.10->dask!=2022.4.0->vaex-core<4.17,>=4.16.0->vaex) (1.0.0)\n",
            "Collecting ipydatawidgets>=1.1.1\n",
            "  Downloading ipydatawidgets-4.3.2-py2.py3-none-any.whl (271 kB)\n",
            "\u001b[2K     \u001b[90m━━━━━━━━━━━━━━━━━━━━━━━━━━━━━━━━━━━━━━\u001b[0m \u001b[32m271.6/271.6 KB\u001b[0m \u001b[31m30.3 MB/s\u001b[0m eta \u001b[36m0:00:00\u001b[0m\n",
            "\u001b[?25hRequirement already satisfied: zipp>=0.5 in /usr/local/lib/python3.8/dist-packages (from importlib-metadata->numba->vaex-ml<0.19,>=0.18.1->vaex) (3.11.0)\n",
            "Collecting sniffio>=1.1\n",
            "  Downloading sniffio-1.3.0-py3-none-any.whl (10 kB)\n",
            "Requirement already satisfied: jupyter-client in /usr/local/lib/python3.8/dist-packages (from ipykernel>=4.5.1->ipywidgets<9,>=7.5.0->bqplot>=0.10.1->vaex-jupyter<0.9,>=0.8.1->vaex) (6.1.12)\n",
            "Requirement already satisfied: parso<0.9.0,>=0.8.0 in /usr/local/lib/python3.8/dist-packages (from jedi>=0.10->ipython<9->ipympl->vaex-jupyter<0.9,>=0.8.1->vaex) (0.8.3)\n",
            "Requirement already satisfied: wcwidth in /usr/local/lib/python3.8/dist-packages (from prompt-toolkit<2.1.0,>=2.0.0->ipython<9->ipympl->vaex-jupyter<0.9,>=0.8.1->vaex) (0.2.5)\n",
            "Requirement already satisfied: notebook>=4.4.1 in /usr/local/lib/python3.8/dist-packages (from widgetsnbextension~=3.6.0->ipywidgets<9,>=7.5.0->bqplot>=0.10.1->vaex-jupyter<0.9,>=0.8.1->vaex) (5.7.16)\n",
            "Requirement already satisfied: ptyprocess>=0.5 in /usr/local/lib/python3.8/dist-packages (from pexpect->ipython<9->ipympl->vaex-jupyter<0.9,>=0.8.1->vaex) (0.7.0)\n",
            "Requirement already satisfied: prometheus-client in /usr/local/lib/python3.8/dist-packages (from notebook>=4.4.1->widgetsnbextension~=3.6.0->ipywidgets<9,>=7.5.0->bqplot>=0.10.1->vaex-jupyter<0.9,>=0.8.1->vaex) (0.15.0)\n",
            "Requirement already satisfied: Send2Trash in /usr/local/lib/python3.8/dist-packages (from notebook>=4.4.1->widgetsnbextension~=3.6.0->ipywidgets<9,>=7.5.0->bqplot>=0.10.1->vaex-jupyter<0.9,>=0.8.1->vaex) (1.8.0)\n",
            "Requirement already satisfied: pyzmq>=17 in /usr/local/lib/python3.8/dist-packages (from notebook>=4.4.1->widgetsnbextension~=3.6.0->ipywidgets<9,>=7.5.0->bqplot>=0.10.1->vaex-jupyter<0.9,>=0.8.1->vaex) (23.2.1)\n",
            "Requirement already satisfied: nbconvert<6.0 in /usr/local/lib/python3.8/dist-packages (from notebook>=4.4.1->widgetsnbextension~=3.6.0->ipywidgets<9,>=7.5.0->bqplot>=0.10.1->vaex-jupyter<0.9,>=0.8.1->vaex) (5.6.1)\n",
            "Requirement already satisfied: terminado>=0.8.1 in /usr/local/lib/python3.8/dist-packages (from notebook>=4.4.1->widgetsnbextension~=3.6.0->ipywidgets<9,>=7.5.0->bqplot>=0.10.1->vaex-jupyter<0.9,>=0.8.1->vaex) (0.13.3)\n",
            "Requirement already satisfied: jupyter-core>=4.4.0 in /usr/local/lib/python3.8/dist-packages (from notebook>=4.4.1->widgetsnbextension~=3.6.0->ipywidgets<9,>=7.5.0->bqplot>=0.10.1->vaex-jupyter<0.9,>=0.8.1->vaex) (5.1.2)\n",
            "Requirement already satisfied: nbformat in /usr/local/lib/python3.8/dist-packages (from notebook>=4.4.1->widgetsnbextension~=3.6.0->ipywidgets<9,>=7.5.0->bqplot>=0.10.1->vaex-jupyter<0.9,>=0.8.1->vaex) (5.7.1)\n",
            "Requirement already satisfied: platformdirs>=2.5 in /usr/local/lib/python3.8/dist-packages (from jupyter-core>=4.4.0->notebook>=4.4.1->widgetsnbextension~=3.6.0->ipywidgets<9,>=7.5.0->bqplot>=0.10.1->vaex-jupyter<0.9,>=0.8.1->vaex) (2.6.2)\n",
            "Requirement already satisfied: bleach in /usr/local/lib/python3.8/dist-packages (from nbconvert<6.0->notebook>=4.4.1->widgetsnbextension~=3.6.0->ipywidgets<9,>=7.5.0->bqplot>=0.10.1->vaex-jupyter<0.9,>=0.8.1->vaex) (5.0.1)\n",
            "Requirement already satisfied: defusedxml in /usr/local/lib/python3.8/dist-packages (from nbconvert<6.0->notebook>=4.4.1->widgetsnbextension~=3.6.0->ipywidgets<9,>=7.5.0->bqplot>=0.10.1->vaex-jupyter<0.9,>=0.8.1->vaex) (0.7.1)\n",
            "Requirement already satisfied: entrypoints>=0.2.2 in /usr/local/lib/python3.8/dist-packages (from nbconvert<6.0->notebook>=4.4.1->widgetsnbextension~=3.6.0->ipywidgets<9,>=7.5.0->bqplot>=0.10.1->vaex-jupyter<0.9,>=0.8.1->vaex) (0.4)\n",
            "Requirement already satisfied: testpath in /usr/local/lib/python3.8/dist-packages (from nbconvert<6.0->notebook>=4.4.1->widgetsnbextension~=3.6.0->ipywidgets<9,>=7.5.0->bqplot>=0.10.1->vaex-jupyter<0.9,>=0.8.1->vaex) (0.6.0)\n",
            "Requirement already satisfied: mistune<2,>=0.8.1 in /usr/local/lib/python3.8/dist-packages (from nbconvert<6.0->notebook>=4.4.1->widgetsnbextension~=3.6.0->ipywidgets<9,>=7.5.0->bqplot>=0.10.1->vaex-jupyter<0.9,>=0.8.1->vaex) (0.8.4)\n",
            "Requirement already satisfied: pandocfilters>=1.4.1 in /usr/local/lib/python3.8/dist-packages (from nbconvert<6.0->notebook>=4.4.1->widgetsnbextension~=3.6.0->ipywidgets<9,>=7.5.0->bqplot>=0.10.1->vaex-jupyter<0.9,>=0.8.1->vaex) (1.5.0)\n",
            "Requirement already satisfied: fastjsonschema in /usr/local/lib/python3.8/dist-packages (from nbformat->notebook>=4.4.1->widgetsnbextension~=3.6.0->ipywidgets<9,>=7.5.0->bqplot>=0.10.1->vaex-jupyter<0.9,>=0.8.1->vaex) (2.16.2)\n",
            "Requirement already satisfied: jsonschema>=2.6 in /usr/local/lib/python3.8/dist-packages (from nbformat->notebook>=4.4.1->widgetsnbextension~=3.6.0->ipywidgets<9,>=7.5.0->bqplot>=0.10.1->vaex-jupyter<0.9,>=0.8.1->vaex) (4.3.3)\n",
            "Requirement already satisfied: importlib-resources>=1.4.0 in /usr/local/lib/python3.8/dist-packages (from jsonschema>=2.6->nbformat->notebook>=4.4.1->widgetsnbextension~=3.6.0->ipywidgets<9,>=7.5.0->bqplot>=0.10.1->vaex-jupyter<0.9,>=0.8.1->vaex) (5.10.2)\n",
            "Requirement already satisfied: pyrsistent!=0.17.0,!=0.17.1,!=0.17.2,>=0.14.0 in /usr/local/lib/python3.8/dist-packages (from jsonschema>=2.6->nbformat->notebook>=4.4.1->widgetsnbextension~=3.6.0->ipywidgets<9,>=7.5.0->bqplot>=0.10.1->vaex-jupyter<0.9,>=0.8.1->vaex) (0.19.3)\n",
            "Requirement already satisfied: attrs>=17.4.0 in /usr/local/lib/python3.8/dist-packages (from jsonschema>=2.6->nbformat->notebook>=4.4.1->widgetsnbextension~=3.6.0->ipywidgets<9,>=7.5.0->bqplot>=0.10.1->vaex-jupyter<0.9,>=0.8.1->vaex) (22.2.0)\n",
            "Requirement already satisfied: webencodings in /usr/local/lib/python3.8/dist-packages (from bleach->nbconvert<6.0->notebook>=4.4.1->widgetsnbextension~=3.6.0->ipywidgets<9,>=7.5.0->bqplot>=0.10.1->vaex-jupyter<0.9,>=0.8.1->vaex) (0.5.1)\n",
            "Building wheels for collected packages: aplus\n",
            "  Building wheel for aplus (setup.py) ... \u001b[?25l\u001b[?25hdone\n",
            "  Created wheel for aplus: filename=aplus-0.11.0-py3-none-any.whl size=4408 sha256=a420499e0cc6e55c71478a77c30259c87afbc60eb4344146ae6e183cdc9e8a6d\n",
            "  Stored in directory: /root/.cache/pip/wheels/de/93/23/3db69e1003030a764c9827dc02137119ec5e6e439afd64eebb\n",
            "Successfully built aplus\n",
            "Installing collected packages: ipywebrtc, commonmark, blake3, aplus, xyzservices, websockets, uvloop, traittypes, sniffio, rich, python-dotenv, nest-asyncio, jedi, httptools, h11, frozendict, fonttools, contourpy, uvicorn, matplotlib, anyio, watchfiles, vaex-core, starlette, vaex-viz, vaex-ml, vaex-hdf5, vaex-astro, fastapi, vaex-server, ipyvue, ipympl, ipyleaflet, ipydatawidgets, bqplot, pythreejs, ipyvuetify, ipyvolume, vaex-jupyter, vaex\n",
            "  Attempting uninstall: matplotlib\n",
            "    Found existing installation: matplotlib 3.2.2\n",
            "    Uninstalling matplotlib-3.2.2:\n",
            "      Successfully uninstalled matplotlib-3.2.2\n",
            "Successfully installed anyio-3.6.2 aplus-0.11.0 blake3-0.3.3 bqplot-0.12.36 commonmark-0.9.1 contourpy-1.0.6 fastapi-0.89.1 fonttools-4.38.0 frozendict-2.3.4 h11-0.14.0 httptools-0.5.0 ipydatawidgets-4.3.2 ipyleaflet-0.17.2 ipympl-0.9.2 ipyvolume-0.5.2 ipyvue-1.8.0 ipyvuetify-1.8.4 ipywebrtc-0.6.0 jedi-0.18.2 matplotlib-3.6.3 nest-asyncio-1.5.6 python-dotenv-0.21.0 pythreejs-2.4.1 rich-13.0.1 sniffio-1.3.0 starlette-0.22.0 traittypes-0.2.1 uvicorn-0.20.0 uvloop-0.17.0 vaex-4.16.0 vaex-astro-0.9.3 vaex-core-4.16.1 vaex-hdf5-0.14.1 vaex-jupyter-0.8.1 vaex-ml-0.18.1 vaex-server-0.8.1 vaex-viz-0.5.4 watchfiles-0.18.1 websockets-10.4 xyzservices-2022.9.0\n"
          ]
        },
        {
          "output_type": "display_data",
          "data": {
            "application/vnd.colab-display-data+json": {
              "pip_warning": {
                "packages": [
                  "matplotlib",
                  "mpl_toolkits"
                ]
              }
            }
          },
          "metadata": {}
        }
      ],
      "source": [
        "!pip install vaex"
      ]
    },
    {
      "cell_type": "markdown",
      "source": [
        "##Importing Vaex Library"
      ],
      "metadata": {
        "id": "IUEL-kK0nS90"
      }
    },
    {
      "cell_type": "code",
      "source": [
        "import vaex as vx"
      ],
      "metadata": {
        "id": "Rr2Uhf_gnX7s"
      },
      "execution_count": 3,
      "outputs": []
    },
    {
      "cell_type": "markdown",
      "source": [
        "###**Reading CSV File**"
      ],
      "metadata": {
        "id": "yENKg8Gnd-jZ"
      }
    },
    {
      "cell_type": "code",
      "source": [
        "%%time\n",
        "df_vx=vx.open(\"/content/drive/MyDrive/Colab Notebooks/Rate.csv\")\n"
      ],
      "metadata": {
        "id": "EV239P-deFWG",
        "colab": {
          "base_uri": "https://localhost:8080/"
        },
        "outputId": "f3d0aa1f-affc-4af3-fb15-f9ef6df79041"
      },
      "execution_count": 4,
      "outputs": [
        {
          "output_type": "stream",
          "name": "stdout",
          "text": [
            "CPU times: user 1.76 s, sys: 725 ms, total: 2.48 s\n",
            "Wall time: 4.85 s\n"
          ]
        }
      ]
    },
    {
      "cell_type": "markdown",
      "source": [
        "###**Viewing Dataset**"
      ],
      "metadata": {
        "id": "aeduWM4hv4pF"
      }
    },
    {
      "cell_type": "code",
      "source": [
        "%%time\n",
        "df_vx.head()"
      ],
      "metadata": {
        "id": "QVjTuu3rv3zu",
        "colab": {
          "base_uri": "https://localhost:8080/",
          "height": 482
        },
        "outputId": "fef7032e-0179-4dad-915a-cce2a92650dc"
      },
      "execution_count": 6,
      "outputs": [
        {
          "output_type": "stream",
          "name": "stdout",
          "text": [
            "CPU times: user 228 µs, sys: 807 µs, total: 1.03 ms\n",
            "Wall time: 1.03 ms\n"
          ]
        },
        {
          "output_type": "execute_result",
          "data": {
            "text/html": [
              "<table>\n",
              "<thead>\n",
              "<tr><th>#                            </th><th style=\"text-align: right;\">  BusinessYear</th><th>StateCode  </th><th style=\"text-align: right;\">  IssuerId</th><th>SourceName  </th><th style=\"text-align: right;\">  VersionNum</th><th>ImportDate         </th><th style=\"text-align: right;\">  IssuerId2</th><th>FederalTIN  </th><th>RateEffectiveDate  </th><th>RateExpirationDate  </th><th>PlanId        </th><th>RatingAreaId  </th><th>Tobacco      </th><th>Age          </th><th style=\"text-align: right;\">  IndividualRate</th><th>IndividualTobaccoRate  </th><th>Couple  </th><th>PrimarySubscriberAndOneDependent  </th><th>PrimarySubscriberAndTwoDependents  </th><th>PrimarySubscriberAndThreeOrMoreDependents  </th><th>CoupleAndOneDependent  </th><th>CoupleAndTwoDependents  </th><th>CoupleAndThreeOrMoreDependents  </th><th style=\"text-align: right;\">  RowNumber</th></tr>\n",
              "</thead>\n",
              "<tbody>\n",
              "<tr><td><i style='opacity: 0.6'>0</i></td><td style=\"text-align: right;\">          2014</td><td>AK         </td><td style=\"text-align: right;\">     21989</td><td>HIOS        </td><td style=\"text-align: right;\">           6</td><td>2014-03-19 07:06:49</td><td style=\"text-align: right;\">      21989</td><td>93-0438772  </td><td>2014-01-01         </td><td>2014-12-31          </td><td>21989AK0010001</td><td>Rating Area 1 </td><td>No Preference</td><td>0-20         </td><td style=\"text-align: right;\">           29   </td><td>--                     </td><td>--      </td><td>--                                </td><td>--                                 </td><td>--                                         </td><td>--                     </td><td>--                      </td><td>--                              </td><td style=\"text-align: right;\">         14</td></tr>\n",
              "<tr><td><i style='opacity: 0.6'>1</i></td><td style=\"text-align: right;\">          2014</td><td>AK         </td><td style=\"text-align: right;\">     21989</td><td>HIOS        </td><td style=\"text-align: right;\">           6</td><td>2014-03-19 07:06:49</td><td style=\"text-align: right;\">      21989</td><td>93-0438772  </td><td>2014-01-01         </td><td>2014-12-31          </td><td>21989AK0020001</td><td>Rating Area 1 </td><td>No Preference</td><td>Family Option</td><td style=\"text-align: right;\">           36.95</td><td>--                     </td><td>73.9    </td><td>107.61                            </td><td>107.61                             </td><td>107.61                                     </td><td>144.56                 </td><td>144.56                  </td><td>144.56                          </td><td style=\"text-align: right;\">         14</td></tr>\n",
              "<tr><td><i style='opacity: 0.6'>2</i></td><td style=\"text-align: right;\">          2014</td><td>AK         </td><td style=\"text-align: right;\">     21989</td><td>HIOS        </td><td style=\"text-align: right;\">           6</td><td>2014-03-19 07:06:49</td><td style=\"text-align: right;\">      21989</td><td>93-0438772  </td><td>2014-01-01         </td><td>2014-12-31          </td><td>21989AK0020001</td><td>Rating Area 2 </td><td>No Preference</td><td>Family Option</td><td style=\"text-align: right;\">           36.95</td><td>--                     </td><td>73.9    </td><td>107.61                            </td><td>107.61                             </td><td>107.61                                     </td><td>144.56                 </td><td>144.56                  </td><td>144.56                          </td><td style=\"text-align: right;\">         15</td></tr>\n",
              "<tr><td><i style='opacity: 0.6'>3</i></td><td style=\"text-align: right;\">          2014</td><td>AK         </td><td style=\"text-align: right;\">     21989</td><td>HIOS        </td><td style=\"text-align: right;\">           6</td><td>2014-03-19 07:06:49</td><td style=\"text-align: right;\">      21989</td><td>93-0438772  </td><td>2014-01-01         </td><td>2014-12-31          </td><td>21989AK0010001</td><td>Rating Area 1 </td><td>No Preference</td><td>21           </td><td style=\"text-align: right;\">           32   </td><td>--                     </td><td>--      </td><td>--                                </td><td>--                                 </td><td>--                                         </td><td>--                     </td><td>--                      </td><td>--                              </td><td style=\"text-align: right;\">         15</td></tr>\n",
              "<tr><td><i style='opacity: 0.6'>4</i></td><td style=\"text-align: right;\">          2014</td><td>AK         </td><td style=\"text-align: right;\">     21989</td><td>HIOS        </td><td style=\"text-align: right;\">           6</td><td>2014-03-19 07:06:49</td><td style=\"text-align: right;\">      21989</td><td>93-0438772  </td><td>2014-01-01         </td><td>2014-12-31          </td><td>21989AK0010001</td><td>Rating Area 1 </td><td>No Preference</td><td>22           </td><td style=\"text-align: right;\">           32   </td><td>--                     </td><td>--      </td><td>--                                </td><td>--                                 </td><td>--                                         </td><td>--                     </td><td>--                      </td><td>--                              </td><td style=\"text-align: right;\">         16</td></tr>\n",
              "<tr><td><i style='opacity: 0.6'>5</i></td><td style=\"text-align: right;\">          2014</td><td>AK         </td><td style=\"text-align: right;\">     21989</td><td>HIOS        </td><td style=\"text-align: right;\">           6</td><td>2014-03-19 07:06:49</td><td style=\"text-align: right;\">      21989</td><td>93-0438772  </td><td>2014-01-01         </td><td>2014-12-31          </td><td>21989AK0020001</td><td>Rating Area 3 </td><td>No Preference</td><td>Family Option</td><td style=\"text-align: right;\">           36.95</td><td>--                     </td><td>73.9    </td><td>107.61                            </td><td>107.61                             </td><td>107.61                                     </td><td>144.56                 </td><td>144.56                  </td><td>144.56                          </td><td style=\"text-align: right;\">         16</td></tr>\n",
              "<tr><td><i style='opacity: 0.6'>6</i></td><td style=\"text-align: right;\">          2014</td><td>AK         </td><td style=\"text-align: right;\">     21989</td><td>HIOS        </td><td style=\"text-align: right;\">           6</td><td>2014-03-19 07:06:49</td><td style=\"text-align: right;\">      21989</td><td>93-0438772  </td><td>2014-01-01         </td><td>2014-12-31          </td><td>21989AK0020002</td><td>Rating Area 1 </td><td>No Preference</td><td>Family Option</td><td style=\"text-align: right;\">           32.45</td><td>--                     </td><td>64.9    </td><td>94.5                              </td><td>94.5                               </td><td>94.5                                       </td><td>126.95                 </td><td>126.95                  </td><td>126.95                          </td><td style=\"text-align: right;\">         17</td></tr>\n",
              "<tr><td><i style='opacity: 0.6'>7</i></td><td style=\"text-align: right;\">          2014</td><td>AK         </td><td style=\"text-align: right;\">     21989</td><td>HIOS        </td><td style=\"text-align: right;\">           6</td><td>2014-03-19 07:06:49</td><td style=\"text-align: right;\">      21989</td><td>93-0438772  </td><td>2014-01-01         </td><td>2014-12-31          </td><td>21989AK0010001</td><td>Rating Area 1 </td><td>No Preference</td><td>23           </td><td style=\"text-align: right;\">           32   </td><td>--                     </td><td>--      </td><td>--                                </td><td>--                                 </td><td>--                                         </td><td>--                     </td><td>--                      </td><td>--                              </td><td style=\"text-align: right;\">         17</td></tr>\n",
              "<tr><td><i style='opacity: 0.6'>8</i></td><td style=\"text-align: right;\">          2014</td><td>AK         </td><td style=\"text-align: right;\">     21989</td><td>HIOS        </td><td style=\"text-align: right;\">           6</td><td>2014-03-19 07:06:49</td><td style=\"text-align: right;\">      21989</td><td>93-0438772  </td><td>2014-01-01         </td><td>2014-12-31          </td><td>21989AK0010001</td><td>Rating Area 1 </td><td>No Preference</td><td>24           </td><td style=\"text-align: right;\">           32   </td><td>--                     </td><td>--      </td><td>--                                </td><td>--                                 </td><td>--                                         </td><td>--                     </td><td>--                      </td><td>--                              </td><td style=\"text-align: right;\">         18</td></tr>\n",
              "<tr><td><i style='opacity: 0.6'>9</i></td><td style=\"text-align: right;\">          2014</td><td>AK         </td><td style=\"text-align: right;\">     21989</td><td>HIOS        </td><td style=\"text-align: right;\">           6</td><td>2014-03-19 07:06:49</td><td style=\"text-align: right;\">      21989</td><td>93-0438772  </td><td>2014-01-01         </td><td>2014-12-31          </td><td>21989AK0020002</td><td>Rating Area 2 </td><td>No Preference</td><td>Family Option</td><td style=\"text-align: right;\">           32.45</td><td>--                     </td><td>64.9    </td><td>94.5                              </td><td>94.5                               </td><td>94.5                                       </td><td>126.95                 </td><td>126.95                  </td><td>126.95                          </td><td style=\"text-align: right;\">         18</td></tr>\n",
              "</tbody>\n",
              "</table>"
            ],
            "text/plain": [
              "  #    BusinessYear  StateCode      IssuerId  SourceName      VersionNum  ImportDate             IssuerId2  FederalTIN    RateEffectiveDate    RateExpirationDate    PlanId          RatingAreaId    Tobacco        Age              IndividualRate  IndividualTobaccoRate    Couple    PrimarySubscriberAndOneDependent    PrimarySubscriberAndTwoDependents    PrimarySubscriberAndThreeOrMoreDependents    CoupleAndOneDependent    CoupleAndTwoDependents    CoupleAndThreeOrMoreDependents      RowNumber\n",
              "  0            2014  AK                21989  HIOS                     6  2014-03-19 07:06:49        21989  93-0438772    2014-01-01           2014-12-31            21989AK0010001  Rating Area 1   No Preference  0-20                      29     --                       --        --                                  --                                   --                                           --                       --                        --                                         14\n",
              "  1            2014  AK                21989  HIOS                     6  2014-03-19 07:06:49        21989  93-0438772    2014-01-01           2014-12-31            21989AK0020001  Rating Area 1   No Preference  Family Option             36.95  --                       73.9      107.61                              107.61                               107.61                                       144.56                   144.56                    144.56                                     14\n",
              "  2            2014  AK                21989  HIOS                     6  2014-03-19 07:06:49        21989  93-0438772    2014-01-01           2014-12-31            21989AK0020001  Rating Area 2   No Preference  Family Option             36.95  --                       73.9      107.61                              107.61                               107.61                                       144.56                   144.56                    144.56                                     15\n",
              "  3            2014  AK                21989  HIOS                     6  2014-03-19 07:06:49        21989  93-0438772    2014-01-01           2014-12-31            21989AK0010001  Rating Area 1   No Preference  21                        32     --                       --        --                                  --                                   --                                           --                       --                        --                                         15\n",
              "  4            2014  AK                21989  HIOS                     6  2014-03-19 07:06:49        21989  93-0438772    2014-01-01           2014-12-31            21989AK0010001  Rating Area 1   No Preference  22                        32     --                       --        --                                  --                                   --                                           --                       --                        --                                         16\n",
              "  5            2014  AK                21989  HIOS                     6  2014-03-19 07:06:49        21989  93-0438772    2014-01-01           2014-12-31            21989AK0020001  Rating Area 3   No Preference  Family Option             36.95  --                       73.9      107.61                              107.61                               107.61                                       144.56                   144.56                    144.56                                     16\n",
              "  6            2014  AK                21989  HIOS                     6  2014-03-19 07:06:49        21989  93-0438772    2014-01-01           2014-12-31            21989AK0020002  Rating Area 1   No Preference  Family Option             32.45  --                       64.9      94.5                                94.5                                 94.5                                         126.95                   126.95                    126.95                                     17\n",
              "  7            2014  AK                21989  HIOS                     6  2014-03-19 07:06:49        21989  93-0438772    2014-01-01           2014-12-31            21989AK0010001  Rating Area 1   No Preference  23                        32     --                       --        --                                  --                                   --                                           --                       --                        --                                         17\n",
              "  8            2014  AK                21989  HIOS                     6  2014-03-19 07:06:49        21989  93-0438772    2014-01-01           2014-12-31            21989AK0010001  Rating Area 1   No Preference  24                        32     --                       --        --                                  --                                   --                                           --                       --                        --                                         18\n",
              "  9            2014  AK                21989  HIOS                     6  2014-03-19 07:06:49        21989  93-0438772    2014-01-01           2014-12-31            21989AK0020002  Rating Area 2   No Preference  Family Option             32.45  --                       64.9      94.5                                94.5                                 94.5                                         126.95                   126.95                    126.95                                     18"
            ]
          },
          "metadata": {},
          "execution_count": 6
        }
      ]
    },
    {
      "cell_type": "markdown",
      "source": [
        "# **Data Cleaning**"
      ],
      "metadata": {
        "id": "cZFsCRGXbPlN"
      }
    },
    {
      "cell_type": "code",
      "source": [
        "#dropping NaN with vaex\n",
        "%%time\n",
        "df_vx.dropnan()"
      ],
      "metadata": {
        "id": "BvqgeZWDbVzb",
        "colab": {
          "base_uri": "https://localhost:8080/",
          "height": 52
        },
        "outputId": "7e2258f6-586a-43e0-a799-e0d30fee1632"
      },
      "execution_count": 7,
      "outputs": [
        {
          "output_type": "stream",
          "name": "stdout",
          "text": [
            "CPU times: user 801 ms, sys: 175 ms, total: 977 ms\n",
            "Wall time: 1.11 s\n"
          ]
        },
        {
          "output_type": "display_data",
          "data": {
            "text/plain": [
              "<IPython.core.display.HTML object>"
            ],
            "text/html": [
              "<style>.vaex-description pre {\n",
              "          max-width : 450px;\n",
              "          white-space : nowrap;\n",
              "          overflow : hidden;\n",
              "          text-overflow: ellipsis;\n",
              "        }\n",
              "\n",
              "        .vex-description pre:hover {\n",
              "          max-width : initial;\n",
              "          white-space: pre;\n",
              "        }</style>"
            ]
          },
          "metadata": {}
        }
      ]
    },
    {
      "cell_type": "markdown",
      "source": [
        "###**Virtual Column**"
      ],
      "metadata": {
        "id": "cQz46WshoYiV"
      }
    },
    {
      "cell_type": "code",
      "source": [
        "#creating new column with vaex (will create a virtual column)\n",
        "%%time\n",
        "df_vx['new_TotalIndividualRate'] = df_vx['IndividualRate'] * 100\n",
        "df_vx['new_TotalIndividualRate'] = df_vx['new_TotalIndividualRate'].round(decimals = 2)\n",
        "df_vx"
      ],
      "metadata": {
        "id": "w4PXOl7vsDTT",
        "colab": {
          "base_uri": "https://localhost:8080/",
          "height": 521
        },
        "outputId": "66000838-416d-4eb6-bbc9-e38bc52bc3bc"
      },
      "execution_count": 8,
      "outputs": [
        {
          "output_type": "stream",
          "name": "stdout",
          "text": [
            "CPU times: user 1.93 ms, sys: 976 µs, total: 2.9 ms\n",
            "Wall time: 2.3 ms\n"
          ]
        },
        {
          "output_type": "execute_result",
          "data": {
            "text/html": [
              "<table>\n",
              "<thead>\n",
              "<tr><th>#                                     </th><th>BusinessYear  </th><th>StateCode  </th><th>IssuerId  </th><th>SourceName  </th><th>VersionNum  </th><th>ImportDate         </th><th>IssuerId2  </th><th>FederalTIN  </th><th>RateEffectiveDate  </th><th>RateExpirationDate  </th><th>PlanId        </th><th>RatingAreaId  </th><th>Tobacco      </th><th>Age          </th><th>IndividualRate  </th><th>IndividualTobaccoRate  </th><th>Couple  </th><th>PrimarySubscriberAndOneDependent  </th><th>PrimarySubscriberAndTwoDependents  </th><th>PrimarySubscriberAndThreeOrMoreDependents  </th><th>CoupleAndOneDependent  </th><th>CoupleAndTwoDependents  </th><th>CoupleAndThreeOrMoreDependents  </th><th>RowNumber  </th><th>new_TotalIndividualRate  </th></tr>\n",
              "</thead>\n",
              "<tbody>\n",
              "<tr><td><i style='opacity: 0.6'>0</i>         </td><td>2014          </td><td>AK         </td><td>21989     </td><td>HIOS        </td><td>6           </td><td>2014-03-19 07:06:49</td><td>21989      </td><td>93-0438772  </td><td>2014-01-01         </td><td>2014-12-31          </td><td>21989AK0010001</td><td>Rating Area 1 </td><td>No Preference</td><td>0-20         </td><td>29.0            </td><td>--                     </td><td>--      </td><td>--                                </td><td>--                                 </td><td>--                                         </td><td>--                     </td><td>--                      </td><td>--                              </td><td>14         </td><td>2900.0                   </td></tr>\n",
              "<tr><td><i style='opacity: 0.6'>1</i>         </td><td>2014          </td><td>AK         </td><td>21989     </td><td>HIOS        </td><td>6           </td><td>2014-03-19 07:06:49</td><td>21989      </td><td>93-0438772  </td><td>2014-01-01         </td><td>2014-12-31          </td><td>21989AK0020001</td><td>Rating Area 1 </td><td>No Preference</td><td>Family Option</td><td>36.95           </td><td>--                     </td><td>73.9    </td><td>107.61                            </td><td>107.61                             </td><td>107.61                                     </td><td>144.56                 </td><td>144.56                  </td><td>144.56                          </td><td>14         </td><td>3695.0                   </td></tr>\n",
              "<tr><td><i style='opacity: 0.6'>2</i>         </td><td>2014          </td><td>AK         </td><td>21989     </td><td>HIOS        </td><td>6           </td><td>2014-03-19 07:06:49</td><td>21989      </td><td>93-0438772  </td><td>2014-01-01         </td><td>2014-12-31          </td><td>21989AK0020001</td><td>Rating Area 2 </td><td>No Preference</td><td>Family Option</td><td>36.95           </td><td>--                     </td><td>73.9    </td><td>107.61                            </td><td>107.61                             </td><td>107.61                                     </td><td>144.56                 </td><td>144.56                  </td><td>144.56                          </td><td>15         </td><td>3695.0                   </td></tr>\n",
              "<tr><td><i style='opacity: 0.6'>3</i>         </td><td>2014          </td><td>AK         </td><td>21989     </td><td>HIOS        </td><td>6           </td><td>2014-03-19 07:06:49</td><td>21989      </td><td>93-0438772  </td><td>2014-01-01         </td><td>2014-12-31          </td><td>21989AK0010001</td><td>Rating Area 1 </td><td>No Preference</td><td>21           </td><td>32.0            </td><td>--                     </td><td>--      </td><td>--                                </td><td>--                                 </td><td>--                                         </td><td>--                     </td><td>--                      </td><td>--                              </td><td>15         </td><td>3200.0                   </td></tr>\n",
              "<tr><td><i style='opacity: 0.6'>4</i>         </td><td>2014          </td><td>AK         </td><td>21989     </td><td>HIOS        </td><td>6           </td><td>2014-03-19 07:06:49</td><td>21989      </td><td>93-0438772  </td><td>2014-01-01         </td><td>2014-12-31          </td><td>21989AK0010001</td><td>Rating Area 1 </td><td>No Preference</td><td>22           </td><td>32.0            </td><td>--                     </td><td>--      </td><td>--                                </td><td>--                                 </td><td>--                                         </td><td>--                     </td><td>--                      </td><td>--                              </td><td>16         </td><td>3200.0                   </td></tr>\n",
              "<tr><td>...                                   </td><td>...           </td><td>...        </td><td>...       </td><td>...         </td><td>...         </td><td>...                </td><td>...        </td><td>...         </td><td>...                </td><td>...                 </td><td>...           </td><td>...           </td><td>...          </td><td>...          </td><td>...             </td><td>...                    </td><td>...     </td><td>...                               </td><td>...                                </td><td>...                                        </td><td>...                    </td><td>...                     </td><td>...                             </td><td>...        </td><td>...                      </td></tr>\n",
              "<tr><td><i style='opacity: 0.6'>12,694,440</i></td><td>2016          </td><td>WV         </td><td>96480     </td><td>SERFF       </td><td>2           </td><td>2015-08-20 12:28:36</td><td>96480      </td><td>13-5123390  </td><td>2016-01-01         </td><td>2016-12-31          </td><td>96480WV0090003</td><td>Rating Area 11</td><td>No Preference</td><td>61           </td><td>14.05           </td><td>--                     </td><td>--      </td><td>--                                </td><td>--                                 </td><td>--                                         </td><td>--                     </td><td>--                      </td><td>--                              </td><td>2033       </td><td>1405.0                   </td></tr>\n",
              "<tr><td><i style='opacity: 0.6'>12,694,441</i></td><td>2016          </td><td>WV         </td><td>96480     </td><td>SERFF       </td><td>2           </td><td>2015-08-20 12:28:36</td><td>96480      </td><td>13-5123390  </td><td>2016-01-01         </td><td>2016-12-31          </td><td>96480WV0090003</td><td>Rating Area 11</td><td>No Preference</td><td>62           </td><td>14.05           </td><td>--                     </td><td>--      </td><td>--                                </td><td>--                                 </td><td>--                                         </td><td>--                     </td><td>--                      </td><td>--                              </td><td>2034       </td><td>1405.0                   </td></tr>\n",
              "<tr><td><i style='opacity: 0.6'>12,694,442</i></td><td>2016          </td><td>WV         </td><td>96480     </td><td>SERFF       </td><td>2           </td><td>2015-08-20 12:28:36</td><td>96480      </td><td>13-5123390  </td><td>2016-01-01         </td><td>2016-12-31          </td><td>96480WV0090003</td><td>Rating Area 11</td><td>No Preference</td><td>63           </td><td>14.05           </td><td>--                     </td><td>--      </td><td>--                                </td><td>--                                 </td><td>--                                         </td><td>--                     </td><td>--                      </td><td>--                              </td><td>2035       </td><td>1405.0                   </td></tr>\n",
              "<tr><td><i style='opacity: 0.6'>12,694,443</i></td><td>2016          </td><td>WV         </td><td>96480     </td><td>SERFF       </td><td>2           </td><td>2015-08-20 12:28:36</td><td>96480      </td><td>13-5123390  </td><td>2016-01-01         </td><td>2016-12-31          </td><td>96480WV0090003</td><td>Rating Area 11</td><td>No Preference</td><td>64           </td><td>14.05           </td><td>--                     </td><td>--      </td><td>--                                </td><td>--                                 </td><td>--                                         </td><td>--                     </td><td>--                      </td><td>--                              </td><td>2036       </td><td>1405.0                   </td></tr>\n",
              "<tr><td><i style='opacity: 0.6'>12,694,444</i></td><td>2016          </td><td>WV         </td><td>96480     </td><td>SERFF       </td><td>2           </td><td>2015-08-20 12:28:36</td><td>96480      </td><td>13-5123390  </td><td>2016-01-01         </td><td>2016-12-31          </td><td>96480WV0090003</td><td>Rating Area 11</td><td>No Preference</td><td>65 and over  </td><td>14.05           </td><td>--                     </td><td>--      </td><td>--                                </td><td>--                                 </td><td>--                                         </td><td>--                     </td><td>--                      </td><td>--                              </td><td>2037       </td><td>1405.0                   </td></tr>\n",
              "</tbody>\n",
              "</table>"
            ],
            "text/plain": [
              "#           BusinessYear    StateCode    IssuerId    SourceName    VersionNum    ImportDate           IssuerId2    FederalTIN    RateEffectiveDate    RateExpirationDate    PlanId          RatingAreaId    Tobacco        Age            IndividualRate    IndividualTobaccoRate    Couple    PrimarySubscriberAndOneDependent    PrimarySubscriberAndTwoDependents    PrimarySubscriberAndThreeOrMoreDependents    CoupleAndOneDependent    CoupleAndTwoDependents    CoupleAndThreeOrMoreDependents    RowNumber    new_TotalIndividualRate\n",
              "0           2014            AK           21989       HIOS          6             2014-03-19 07:06:49  21989        93-0438772    2014-01-01           2014-12-31            21989AK0010001  Rating Area 1   No Preference  0-20           29.0              --                       --        --                                  --                                   --                                           --                       --                        --                                14           2900.0\n",
              "1           2014            AK           21989       HIOS          6             2014-03-19 07:06:49  21989        93-0438772    2014-01-01           2014-12-31            21989AK0020001  Rating Area 1   No Preference  Family Option  36.95             --                       73.9      107.61                              107.61                               107.61                                       144.56                   144.56                    144.56                            14           3695.0\n",
              "2           2014            AK           21989       HIOS          6             2014-03-19 07:06:49  21989        93-0438772    2014-01-01           2014-12-31            21989AK0020001  Rating Area 2   No Preference  Family Option  36.95             --                       73.9      107.61                              107.61                               107.61                                       144.56                   144.56                    144.56                            15           3695.0\n",
              "3           2014            AK           21989       HIOS          6             2014-03-19 07:06:49  21989        93-0438772    2014-01-01           2014-12-31            21989AK0010001  Rating Area 1   No Preference  21             32.0              --                       --        --                                  --                                   --                                           --                       --                        --                                15           3200.0\n",
              "4           2014            AK           21989       HIOS          6             2014-03-19 07:06:49  21989        93-0438772    2014-01-01           2014-12-31            21989AK0010001  Rating Area 1   No Preference  22             32.0              --                       --        --                                  --                                   --                                           --                       --                        --                                16           3200.0\n",
              "...         ...             ...          ...         ...           ...           ...                  ...          ...           ...                  ...                   ...             ...             ...            ...            ...               ...                      ...       ...                                 ...                                  ...                                          ...                      ...                       ...                               ...          ...\n",
              "12,694,440  2016            WV           96480       SERFF         2             2015-08-20 12:28:36  96480        13-5123390    2016-01-01           2016-12-31            96480WV0090003  Rating Area 11  No Preference  61             14.05             --                       --        --                                  --                                   --                                           --                       --                        --                                2033         1405.0\n",
              "12,694,441  2016            WV           96480       SERFF         2             2015-08-20 12:28:36  96480        13-5123390    2016-01-01           2016-12-31            96480WV0090003  Rating Area 11  No Preference  62             14.05             --                       --        --                                  --                                   --                                           --                       --                        --                                2034         1405.0\n",
              "12,694,442  2016            WV           96480       SERFF         2             2015-08-20 12:28:36  96480        13-5123390    2016-01-01           2016-12-31            96480WV0090003  Rating Area 11  No Preference  63             14.05             --                       --        --                                  --                                   --                                           --                       --                        --                                2035         1405.0\n",
              "12,694,443  2016            WV           96480       SERFF         2             2015-08-20 12:28:36  96480        13-5123390    2016-01-01           2016-12-31            96480WV0090003  Rating Area 11  No Preference  64             14.05             --                       --        --                                  --                                   --                                           --                       --                        --                                2036         1405.0\n",
              "12,694,444  2016            WV           96480       SERFF         2             2015-08-20 12:28:36  96480        13-5123390    2016-01-01           2016-12-31            96480WV0090003  Rating Area 11  No Preference  65 and over    14.05             --                       --        --                                  --                                   --                                           --                       --                        --                                2037         1405.0"
            ]
          },
          "metadata": {},
          "execution_count": 8
        }
      ]
    },
    {
      "cell_type": "markdown",
      "source": [
        "###**Selections and filtering**"
      ],
      "metadata": {
        "id": "n-MdwtC7oxBQ"
      }
    },
    {
      "cell_type": "code",
      "source": [
        "%%time\n",
        "df_vx = df_vx[df_vx.IndividualRate > 32]\n",
        "df_vx[['BusinessYear', 'Age', 'IndividualRate', 'new_TotalIndividualRate']]"
      ],
      "metadata": {
        "id": "50LDIHi6o3t1",
        "colab": {
          "base_uri": "https://localhost:8080/",
          "height": 310
        },
        "outputId": "f550988b-2e06-4d4b-e34d-17e4454379ff"
      },
      "execution_count": 9,
      "outputs": [
        {
          "output_type": "stream",
          "name": "stdout",
          "text": [
            "CPU times: user 3.91 ms, sys: 5.23 ms, total: 9.13 ms\n",
            "Wall time: 9.36 ms\n"
          ]
        },
        {
          "output_type": "execute_result",
          "data": {
            "text/html": [
              "<table>\n",
              "<thead>\n",
              "<tr><th>#                                    </th><th>BusinessYear  </th><th>Age          </th><th>IndividualRate  </th><th>new_TotalIndividualRate  </th></tr>\n",
              "</thead>\n",
              "<tbody>\n",
              "<tr><td><i style='opacity: 0.6'>0</i>        </td><td>2014          </td><td>Family Option</td><td>36.95           </td><td>3695.0                   </td></tr>\n",
              "<tr><td><i style='opacity: 0.6'>1</i>        </td><td>2014          </td><td>Family Option</td><td>36.95           </td><td>3695.0                   </td></tr>\n",
              "<tr><td><i style='opacity: 0.6'>2</i>        </td><td>2014          </td><td>Family Option</td><td>36.95           </td><td>3695.0                   </td></tr>\n",
              "<tr><td><i style='opacity: 0.6'>3</i>        </td><td>2014          </td><td>Family Option</td><td>32.45           </td><td>3245.0                   </td></tr>\n",
              "<tr><td><i style='opacity: 0.6'>4</i>        </td><td>2014          </td><td>Family Option</td><td>32.45           </td><td>3245.0                   </td></tr>\n",
              "<tr><td>...                                  </td><td>...           </td><td>...          </td><td>...             </td><td>...                      </td></tr>\n",
              "<tr><td><i style='opacity: 0.6'>9,155,808</i></td><td>2016          </td><td>61           </td><td>99.99           </td><td>9999.0                   </td></tr>\n",
              "<tr><td><i style='opacity: 0.6'>9,155,809</i></td><td>2016          </td><td>62           </td><td>99.99           </td><td>9999.0                   </td></tr>\n",
              "<tr><td><i style='opacity: 0.6'>9,155,810</i></td><td>2016          </td><td>63           </td><td>99.99           </td><td>9999.0                   </td></tr>\n",
              "<tr><td><i style='opacity: 0.6'>9,155,811</i></td><td>2016          </td><td>64           </td><td>99.99           </td><td>9999.0                   </td></tr>\n",
              "<tr><td><i style='opacity: 0.6'>9,155,812</i></td><td>2016          </td><td>65 and over  </td><td>99.99           </td><td>9999.0                   </td></tr>\n",
              "</tbody>\n",
              "</table>"
            ],
            "text/plain": [
              "#          BusinessYear    Age            IndividualRate    new_TotalIndividualRate\n",
              "0          2014            Family Option  36.95             3695.0\n",
              "1          2014            Family Option  36.95             3695.0\n",
              "2          2014            Family Option  36.95             3695.0\n",
              "3          2014            Family Option  32.45             3245.0\n",
              "4          2014            Family Option  32.45             3245.0\n",
              "...        ...             ...            ...               ...\n",
              "9,155,808  2016            61             99.99             9999.0\n",
              "9,155,809  2016            62             99.99             9999.0\n",
              "9,155,810  2016            63             99.99             9999.0\n",
              "9,155,811  2016            64             99.99             9999.0\n",
              "9,155,812  2016            65 and over    99.99             9999.0"
            ]
          },
          "metadata": {},
          "execution_count": 9
        }
      ]
    },
    {
      "cell_type": "markdown",
      "source": [
        "##**Statistics Performance**"
      ],
      "metadata": {
        "id": "ADlmWlTOtwVF"
      }
    },
    {
      "cell_type": "code",
      "source": [
        "%%time\n",
        "df_vx.mean(df_vx['IndividualRate'])"
      ],
      "metadata": {
        "id": "_syzN6sZtwBE",
        "colab": {
          "base_uri": "https://localhost:8080/"
        },
        "outputId": "ed27ea7f-9b6f-4d2c-e597-54c890a8a8a2"
      },
      "execution_count": 10,
      "outputs": [
        {
          "output_type": "stream",
          "name": "stdout",
          "text": [
            "CPU times: user 6.51 s, sys: 1.13 s, total: 7.64 s\n",
            "Wall time: 5.14 s\n"
          ]
        },
        {
          "output_type": "execute_result",
          "data": {
            "text/plain": [
              "array(5674.71155652)"
            ]
          },
          "metadata": {},
          "execution_count": 10
        }
      ]
    },
    {
      "cell_type": "markdown",
      "source": [
        "###**Visualization**"
      ],
      "metadata": {
        "id": "fydxX9aytXoj"
      }
    },
    {
      "cell_type": "code",
      "source": [
        "%%time\n",
        "df_vx.viz.histogram(df_vx.IndividualRate, limits='99.7%')"
      ],
      "metadata": {
        "id": "zMIHYMf0suhl",
        "colab": {
          "base_uri": "https://localhost:8080/",
          "height": 349
        },
        "outputId": "4ade06dc-23d8-455b-c9a9-b8284c66435e"
      },
      "execution_count": 11,
      "outputs": [
        {
          "output_type": "stream",
          "name": "stdout",
          "text": [
            "CPU times: user 19.2 s, sys: 4.01 s, total: 23.2 s\n",
            "Wall time: 15.9 s\n"
          ]
        },
        {
          "output_type": "execute_result",
          "data": {
            "text/plain": [
              "[<matplotlib.lines.Line2D at 0x7fb7d40ccd30>]"
            ]
          },
          "metadata": {},
          "execution_count": 11
        },
        {
          "output_type": "display_data",
          "data": {
            "text/plain": [
              "<Figure size 432x288 with 1 Axes>"
            ],
            "image/png": "[encoded data removed]"
          },
          "metadata": {
            "needs_background": "light"
          }
        }
      ]
    }
  ]
}
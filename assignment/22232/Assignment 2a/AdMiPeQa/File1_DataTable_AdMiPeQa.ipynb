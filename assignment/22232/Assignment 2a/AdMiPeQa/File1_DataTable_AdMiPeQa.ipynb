{
  "nbformat": 4,
  "nbformat_minor": 0,
  "metadata": {
    "colab": {
      "provenance": [],
      "include_colab_link": true
    },
    "kernelspec": {
      "name": "python3",
      "display_name": "Python 3"
    },
    "language_info": {
      "name": "python"
    }
  },
  "cells": [
    {
      "cell_type": "markdown",
      "metadata": {
        "id": "view-in-github",
        "colab_type": "text"
      },
      "source": [
        "<a href=\"https://colab.research.google.com/github/drshahizan/Python-big-data/blob/main/Assignment%202a/AdMiPeQa/File1_DataTable_AdMiPeQa.ipynb\" target=\"_parent\"><img src=\"https://colab.research.google.com/assets/colab-badge.svg\" alt=\"Open In Colab\"/></a>"
      ]
    },
    {
      "cell_type": "markdown",
      "source": [
        "# **Python Datatable library on Health Insurance Marketplace Dataset**"
      ],
      "metadata": {
        "id": "CuLiVBC0NpcL"
      }
    },
    {
      "cell_type": "markdown",
      "source": [
        "**Group Members:**\n",
        "\n",
        "<table>\n",
        "  <tr>\n",
        "    <th>Name</th>\n",
        "    <th>Matric</th>\n",
        "  </tr>\n",
        "  <tr>\n",
        "    <th>ADAM WAFII BIN AZUAR</th>\n",
        "    <th>A20EC0003</th>\n",
        "  </tr>\n",
        "  <tr>\n",
        "    <th>HONG PEI GEOK</th>\n",
        "    <th>A20EC0044</th>\n",
        "  </tr>\n",
        "    <tr>\n",
        "    <th>MIKHEL ADAM BIN MUHAMMAD EZRIN</th>\n",
        "    <th>A20EC0237</th>\n",
        "  </tr>\n",
        "    <tr>\n",
        "    <th>QAISARA BINTI ROHZAN</th>\n",
        "    <th>A20EC0133</th>\n",
        "  </tr>\n",
        "</table>\n"
      ],
      "metadata": {
        "id": "KZa3Yh9yHtj0"
      }
    },
    {
      "cell_type": "markdown",
      "source": [
        "### **What is Python Datatable?**\n",
        "\n",
        "Python datatable is a library for working with large, tabular datasets in Python. It is designed to be fast, flexible, and expressive, and provides a wide range of features and functionality to allow you to work with data effectively.\n",
        "\n",
        "Some key features of Python datatable include:\n",
        "\n",
        "Support for reading and writing data from a variety of formats, including CSV, TSV, and JSON\n",
        "A powerful and expressive syntax for manipulating and reshaping data, using operations such as group-by, join, and pivot\n",
        "Efficient and high-performance algorithms for working with large datasets, including support for distributed computing\n",
        "Integration with popular data visualization libraries such as Matplotlib and Seaborn\n",
        "Python datatable is designed to be easy to use and familiar to users of other data manipulation libraries such as Pandas, but offers improved performance and functionality for working with large datasets. It is a useful tool for data scientists, data analysts, and anyone working with large datasets in Python.\n",
        "\n",
        "Below are steps on how to install and examples on how to use this library using the [Health Insurance Marketplace Dataset](https://www.kaggle.com/datasets/hhs/health-insurance-marketplace?select=Rate.csv)\n",
        "\n",
        "\n",
        "\n"
      ],
      "metadata": {
        "id": "VPwebOyQgNBO"
      }
    },
    {
      "cell_type": "markdown",
      "source": [
        "**Installing the DataTable package**"
      ],
      "metadata": {
        "id": "fzay4KsjTL8w"
      }
    },
    {
      "cell_type": "code",
      "source": [
        "!pip install datatable"
      ],
      "metadata": {
        "id": "vmuIzUusLz8T",
        "colab": {
          "base_uri": "https://localhost:8080/"
        },
        "outputId": "b981b652-f847-446d-f62a-90dd364c4bcf"
      },
      "execution_count": null,
      "outputs": [
        {
          "output_type": "stream",
          "name": "stdout",
          "text": [
            "Looking in indexes: https://pypi.org/simple, https://us-python.pkg.dev/colab-wheels/public/simple/\n",
            "Collecting datatable\n",
            "  Downloading datatable-1.0.0-cp38-cp38-manylinux_2_12_x86_64.whl (96.6 MB)\n",
            "\u001b[2K     \u001b[90m━━━━━━━━━━━━━━━━━━━━━━━━━━━━━━━━━━━━━━━━\u001b[0m \u001b[32m96.6/96.6 MB\u001b[0m \u001b[31m9.9 MB/s\u001b[0m eta \u001b[36m0:00:00\u001b[0m\n",
            "\u001b[?25hInstalling collected packages: datatable\n",
            "Successfully installed datatable-1.0.0\n"
          ]
        }
      ]
    },
    {
      "cell_type": "markdown",
      "source": [
        "**Importing necessary libraries**"
      ],
      "metadata": {
        "id": "tyeyqssyTTDo"
      }
    },
    {
      "cell_type": "code",
      "source": [
        "import datatable as dt\n",
        "import time\n",
        "import numpy as np"
      ],
      "metadata": {
        "id": "ICVtLnYqHs_J",
        "colab": {
          "base_uri": "https://localhost:8080/",
          "height": 17
        },
        "outputId": "186dd471-f153-4123-f878-300470bcf7e8"
      },
      "execution_count": null,
      "outputs": [
        {
          "output_type": "display_data",
          "data": {
            "text/plain": [
              "<IPython.core.display.HTML object>"
            ],
            "text/html": [
              "<style type='text/css'>\n",
              ".datatable table.frame { margin-bottom: 0; }\n",
              ".datatable table.frame thead { border-bottom: none; }\n",
              ".datatable table.frame tr.coltypes td {  color: #FFFFFF;  line-height: 6px;  padding: 0 0.5em;}\n",
              ".datatable .bool    { background: #DDDD99; }\n",
              ".datatable .object  { background: #565656; }\n",
              ".datatable .int     { background: #5D9E5D; }\n",
              ".datatable .float   { background: #4040CC; }\n",
              ".datatable .str     { background: #CC4040; }\n",
              ".datatable .time    { background: #40CC40; }\n",
              ".datatable .row_index {  background: var(--jp-border-color3);  border-right: 1px solid var(--jp-border-color0);  color: var(--jp-ui-font-color3);  font-size: 9px;}\n",
              ".datatable .frame tbody td { text-align: left; }\n",
              ".datatable .frame tr.coltypes .row_index {  background: var(--jp-border-color0);}\n",
              ".datatable th:nth-child(2) { padding-left: 12px; }\n",
              ".datatable .hellipsis {  color: var(--jp-cell-editor-border-color);}\n",
              ".datatable .vellipsis {  background: var(--jp-layout-color0);  color: var(--jp-cell-editor-border-color);}\n",
              ".datatable .na {  color: var(--jp-cell-editor-border-color);  font-size: 80%;}\n",
              ".datatable .sp {  opacity: 0.25;}\n",
              ".datatable .footer { font-size: 9px; }\n",
              ".datatable .frame_dimensions {  background: var(--jp-border-color3);  border-top: 1px solid var(--jp-border-color0);  color: var(--jp-ui-font-color3);  display: inline-block;  opacity: 0.6;  padding: 1px 10px 1px 5px;}\n",
              "</style>\n"
            ]
          },
          "metadata": {}
        }
      ]
    },
    {
      "cell_type": "markdown",
      "source": [
        "**Downloading dataset from GDrive**"
      ],
      "metadata": {
        "id": "6E89iS9BTZlk"
      }
    },
    {
      "cell_type": "code",
      "source": [
        "# Pull dataset from my google drive - Mikhel\n",
        "!pip install -U -q PyDrive\n",
        "from pydrive.auth import GoogleAuth\n",
        "from pydrive.drive import GoogleDrive\n",
        "from google.colab import auth\n",
        "from oauth2client.client import GoogleCredentials\n",
        "\n",
        "# Authenticate and create the PyDrive client.\n",
        "auth.authenticate_user()\n",
        "gauth = GoogleAuth()\n",
        "gauth.credentials = GoogleCredentials.get_application_default()\n",
        "drive = GoogleDrive(gauth)\n",
        "link = 'https://drive.google.com/file/d/1-NS-QGug5kxvTTE1ozW7NTtw3wSHODQj/view?usp=share_link'\n",
        "# to get the id part of the file\n",
        "id = link.split(\"/\")[-2]\n",
        " \n",
        "downloaded = drive.CreateFile({'id':id})\n",
        "downloaded.GetContentFile('Rate.csv') \n"
      ],
      "metadata": {
        "id": "cphIh5rtKgHo"
      },
      "execution_count": null,
      "outputs": []
    },
    {
      "cell_type": "markdown",
      "source": [
        "**Reading dataset into DataTable DataFrame**"
      ],
      "metadata": {
        "id": "L2dUFy9_TmUZ"
      }
    },
    {
      "cell_type": "code",
      "source": [
        "start = time.time()\n",
        "dt_df = dt.fread('Rate.csv')\n",
        "end = time.time()\n",
        "print(end - start)"
      ],
      "metadata": {
        "id": "_3OUs0knOUJP",
        "colab": {
          "base_uri": "https://localhost:8080/"
        },
        "outputId": "ec966f4f-6261-4b62-bb41-5a449fd6bd0d"
      },
      "execution_count": null,
      "outputs": [
        {
          "output_type": "stream",
          "name": "stdout",
          "text": [
            "18.081172227859497\n"
          ]
        }
      ]
    },
    {
      "cell_type": "markdown",
      "source": [
        "**Viewing the dataset**"
      ],
      "metadata": {
        "id": "1dZKxvf_2XqQ"
      }
    },
    {
      "cell_type": "code",
      "source": [
        "dt_df.view()"
      ],
      "metadata": {
        "colab": {
          "base_uri": "https://localhost:8080/",
          "height": 895
        },
        "id": "Noz_pcvH1LXQ",
        "outputId": "a8787dea-0b7b-4c0e-d8ad-8b585e442847"
      },
      "execution_count": null,
      "outputs": [
        {
          "output_type": "display_data",
          "data": {
            "text/plain": [
              "<IPython.core.display.HTML object>"
            ],
            "text/html": [
              "<div class='datatable'>\n",
              "  <table class='frame'>\n",
              "  <thead>\n",
              "    <tr class='colnames'><td class='row_index'></td><th>BusinessYear</th><th>StateCode</th><th>IssuerId</th><th>SourceName</th><th>VersionNum</th><th>ImportDate</th><th>IssuerId2</th><th>FederalTIN</th><th>RateEffectiveDate</th><th>RateExpirationDate</th><th class='vellipsis'>&hellip;</th><th>PrimarySubscriberAndThreeOrMoreDependents</th><th>CoupleAndOneDependent</th><th>CoupleAndTwoDependents</th><th>CoupleAndThreeOrMoreDependents</th><th>RowNumber</th></tr>\n",
              "    <tr class='coltypes'><td class='row_index'></td><td class='int' title='int32'>&#x25AA;&#x25AA;&#x25AA;&#x25AA;</td><td class='str' title='str32'>&#x25AA;&#x25AA;&#x25AA;&#x25AA;</td><td class='int' title='int32'>&#x25AA;&#x25AA;&#x25AA;&#x25AA;</td><td class='str' title='str32'>&#x25AA;&#x25AA;&#x25AA;&#x25AA;</td><td class='int' title='int32'>&#x25AA;&#x25AA;&#x25AA;&#x25AA;</td><td class='time' title='time64'>&#x25AA;&#x25AA;&#x25AA;&#x25AA;&#x25AA;&#x25AA;&#x25AA;&#x25AA;</td><td class='int' title='int32'>&#x25AA;&#x25AA;&#x25AA;&#x25AA;</td><td class='str' title='str32'>&#x25AA;&#x25AA;&#x25AA;&#x25AA;</td><td class='time' title='date32'>&#x25AA;&#x25AA;&#x25AA;&#x25AA;</td><td class='time' title='date32'>&#x25AA;&#x25AA;&#x25AA;&#x25AA;</td><td></td><td class='float' title='float64'>&#x25AA;&#x25AA;&#x25AA;&#x25AA;&#x25AA;&#x25AA;&#x25AA;&#x25AA;</td><td class='float' title='float64'>&#x25AA;&#x25AA;&#x25AA;&#x25AA;&#x25AA;&#x25AA;&#x25AA;&#x25AA;</td><td class='float' title='float64'>&#x25AA;&#x25AA;&#x25AA;&#x25AA;&#x25AA;&#x25AA;&#x25AA;&#x25AA;</td><td class='float' title='float64'>&#x25AA;&#x25AA;&#x25AA;&#x25AA;&#x25AA;&#x25AA;&#x25AA;&#x25AA;</td><td class='int' title='int32'>&#x25AA;&#x25AA;&#x25AA;&#x25AA;</td></tr>\n",
              "  </thead>\n",
              "  <tbody>\n",
              "    <tr><td class='row_index'>0</td><td>2014</td><td>AK</td><td>21989</td><td>HIOS</td><td>6</td><td>2014-03-19<span class=sp>T</span>07:06:49</td><td>21989</td><td>93-0438772</td><td>2014-01-01</td><td>2014-12-31</td><td class=vellipsis>&hellip;</td><td><span class=na>NA</span></td><td><span class=na>NA</span></td><td><span class=na>NA</span></td><td><span class=na>NA</span></td><td>14</td></tr>\n",
              "    <tr><td class='row_index'>1</td><td>2014</td><td>AK</td><td>21989</td><td>HIOS</td><td>6</td><td>2014-03-19<span class=sp>T</span>07:06:49</td><td>21989</td><td>93-0438772</td><td>2014-01-01</td><td>2014-12-31</td><td class=vellipsis>&hellip;</td><td>107.61</td><td>144.56</td><td>144.56</td><td>144.56</td><td>14</td></tr>\n",
              "    <tr><td class='row_index'>2</td><td>2014</td><td>AK</td><td>21989</td><td>HIOS</td><td>6</td><td>2014-03-19<span class=sp>T</span>07:06:49</td><td>21989</td><td>93-0438772</td><td>2014-01-01</td><td>2014-12-31</td><td class=vellipsis>&hellip;</td><td>107.61</td><td>144.56</td><td>144.56</td><td>144.56</td><td>15</td></tr>\n",
              "    <tr><td class='row_index'>3</td><td>2014</td><td>AK</td><td>21989</td><td>HIOS</td><td>6</td><td>2014-03-19<span class=sp>T</span>07:06:49</td><td>21989</td><td>93-0438772</td><td>2014-01-01</td><td>2014-12-31</td><td class=vellipsis>&hellip;</td><td><span class=na>NA</span></td><td><span class=na>NA</span></td><td><span class=na>NA</span></td><td><span class=na>NA</span></td><td>15</td></tr>\n",
              "    <tr><td class='row_index'>4</td><td>2014</td><td>AK</td><td>21989</td><td>HIOS</td><td>6</td><td>2014-03-19<span class=sp>T</span>07:06:49</td><td>21989</td><td>93-0438772</td><td>2014-01-01</td><td>2014-12-31</td><td class=vellipsis>&hellip;</td><td><span class=na>NA</span></td><td><span class=na>NA</span></td><td><span class=na>NA</span></td><td><span class=na>NA</span></td><td>16</td></tr>\n",
              "    <tr><td class='row_index'>5</td><td>2014</td><td>AK</td><td>21989</td><td>HIOS</td><td>6</td><td>2014-03-19<span class=sp>T</span>07:06:49</td><td>21989</td><td>93-0438772</td><td>2014-01-01</td><td>2014-12-31</td><td class=vellipsis>&hellip;</td><td>107.61</td><td>144.56</td><td>144.56</td><td>144.56</td><td>16</td></tr>\n",
              "    <tr><td class='row_index'>6</td><td>2014</td><td>AK</td><td>21989</td><td>HIOS</td><td>6</td><td>2014-03-19<span class=sp>T</span>07:06:49</td><td>21989</td><td>93-0438772</td><td>2014-01-01</td><td>2014-12-31</td><td class=vellipsis>&hellip;</td><td>94.5</td><td>126.95</td><td>126.95</td><td>126.95</td><td>17</td></tr>\n",
              "    <tr><td class='row_index'>7</td><td>2014</td><td>AK</td><td>21989</td><td>HIOS</td><td>6</td><td>2014-03-19<span class=sp>T</span>07:06:49</td><td>21989</td><td>93-0438772</td><td>2014-01-01</td><td>2014-12-31</td><td class=vellipsis>&hellip;</td><td><span class=na>NA</span></td><td><span class=na>NA</span></td><td><span class=na>NA</span></td><td><span class=na>NA</span></td><td>17</td></tr>\n",
              "    <tr><td class='row_index'>8</td><td>2014</td><td>AK</td><td>21989</td><td>HIOS</td><td>6</td><td>2014-03-19<span class=sp>T</span>07:06:49</td><td>21989</td><td>93-0438772</td><td>2014-01-01</td><td>2014-12-31</td><td class=vellipsis>&hellip;</td><td><span class=na>NA</span></td><td><span class=na>NA</span></td><td><span class=na>NA</span></td><td><span class=na>NA</span></td><td>18</td></tr>\n",
              "    <tr><td class='row_index'>9</td><td>2014</td><td>AK</td><td>21989</td><td>HIOS</td><td>6</td><td>2014-03-19<span class=sp>T</span>07:06:49</td><td>21989</td><td>93-0438772</td><td>2014-01-01</td><td>2014-12-31</td><td class=vellipsis>&hellip;</td><td>94.5</td><td>126.95</td><td>126.95</td><td>126.95</td><td>18</td></tr>\n",
              "    <tr><td class='row_index'>10</td><td>2014</td><td>AK</td><td>21989</td><td>HIOS</td><td>6</td><td>2014-03-19<span class=sp>T</span>07:06:49</td><td>21989</td><td>93-0438772</td><td>2014-01-01</td><td>2014-12-31</td><td class=vellipsis>&hellip;</td><td>94.5</td><td>126.95</td><td>126.95</td><td>126.95</td><td>19</td></tr>\n",
              "    <tr><td class='row_index'>11</td><td>2014</td><td>AK</td><td>21989</td><td>HIOS</td><td>6</td><td>2014-03-19<span class=sp>T</span>07:06:49</td><td>21989</td><td>93-0438772</td><td>2014-01-01</td><td>2014-12-31</td><td class=vellipsis>&hellip;</td><td><span class=na>NA</span></td><td><span class=na>NA</span></td><td><span class=na>NA</span></td><td><span class=na>NA</span></td><td>19</td></tr>\n",
              "    <tr><td class='row_index'>12</td><td>2014</td><td>AK</td><td>21989</td><td>HIOS</td><td>6</td><td>2014-03-19<span class=sp>T</span>07:06:49</td><td>21989</td><td>93-0438772</td><td>2014-01-01</td><td>2014-12-31</td><td class=vellipsis>&hellip;</td><td><span class=na>NA</span></td><td><span class=na>NA</span></td><td><span class=na>NA</span></td><td><span class=na>NA</span></td><td>20</td></tr>\n",
              "    <tr><td class='row_index'>13</td><td>2014</td><td>AK</td><td>21989</td><td>HIOS</td><td>6</td><td>2014-03-19<span class=sp>T</span>07:06:49</td><td>21989</td><td>93-0438772</td><td>2014-01-01</td><td>2014-12-31</td><td class=vellipsis>&hellip;</td><td><span class=na>NA</span></td><td><span class=na>NA</span></td><td><span class=na>NA</span></td><td><span class=na>NA</span></td><td>21</td></tr>\n",
              "    <tr><td class='row_index'>14</td><td>2014</td><td>AK</td><td>21989</td><td>HIOS</td><td>6</td><td>2014-03-19<span class=sp>T</span>07:06:49</td><td>21989</td><td>93-0438772</td><td>2014-01-01</td><td>2014-12-31</td><td class=vellipsis>&hellip;</td><td><span class=na>NA</span></td><td><span class=na>NA</span></td><td><span class=na>NA</span></td><td><span class=na>NA</span></td><td>22</td></tr>\n",
              "    <tr><td class='row_index'>&#x22EE;</td><td class='hellipsis'>&#x22EE;</td><td class='hellipsis'>&#x22EE;</td><td class='hellipsis'>&#x22EE;</td><td class='hellipsis'>&#x22EE;</td><td class='hellipsis'>&#x22EE;</td><td class='hellipsis'>&#x22EE;</td><td class='hellipsis'>&#x22EE;</td><td class='hellipsis'>&#x22EE;</td><td class='hellipsis'>&#x22EE;</td><td class='hellipsis'>&#x22EE;</td><td class='hellipsis'>&#x22F1;</td><td class='hellipsis'>&#x22EE;</td><td class='hellipsis'>&#x22EE;</td><td class='hellipsis'>&#x22EE;</td><td class='hellipsis'>&#x22EE;</td><td class='hellipsis'>&#x22EE;</td></tr>\n",
              "    <tr><td class='row_index'>12,694,440</td><td>2016</td><td>WV</td><td>96480</td><td>SERFF</td><td>2</td><td>2015-08-20<span class=sp>T</span>12:28:36</td><td>96480</td><td>13-5123390</td><td>2016-01-01</td><td>2016-12-31</td><td class=vellipsis>&hellip;</td><td><span class=na>NA</span></td><td><span class=na>NA</span></td><td><span class=na>NA</span></td><td><span class=na>NA</span></td><td>2033</td></tr>\n",
              "    <tr><td class='row_index'>12,694,441</td><td>2016</td><td>WV</td><td>96480</td><td>SERFF</td><td>2</td><td>2015-08-20<span class=sp>T</span>12:28:36</td><td>96480</td><td>13-5123390</td><td>2016-01-01</td><td>2016-12-31</td><td class=vellipsis>&hellip;</td><td><span class=na>NA</span></td><td><span class=na>NA</span></td><td><span class=na>NA</span></td><td><span class=na>NA</span></td><td>2034</td></tr>\n",
              "    <tr><td class='row_index'>12,694,442</td><td>2016</td><td>WV</td><td>96480</td><td>SERFF</td><td>2</td><td>2015-08-20<span class=sp>T</span>12:28:36</td><td>96480</td><td>13-5123390</td><td>2016-01-01</td><td>2016-12-31</td><td class=vellipsis>&hellip;</td><td><span class=na>NA</span></td><td><span class=na>NA</span></td><td><span class=na>NA</span></td><td><span class=na>NA</span></td><td>2035</td></tr>\n",
              "    <tr><td class='row_index'>12,694,443</td><td>2016</td><td>WV</td><td>96480</td><td>SERFF</td><td>2</td><td>2015-08-20<span class=sp>T</span>12:28:36</td><td>96480</td><td>13-5123390</td><td>2016-01-01</td><td>2016-12-31</td><td class=vellipsis>&hellip;</td><td><span class=na>NA</span></td><td><span class=na>NA</span></td><td><span class=na>NA</span></td><td><span class=na>NA</span></td><td>2036</td></tr>\n",
              "    <tr><td class='row_index'>12,694,444</td><td>2016</td><td>WV</td><td>96480</td><td>SERFF</td><td>2</td><td>2015-08-20<span class=sp>T</span>12:28:36</td><td>96480</td><td>13-5123390</td><td>2016-01-01</td><td>2016-12-31</td><td class=vellipsis>&hellip;</td><td><span class=na>NA</span></td><td><span class=na>NA</span></td><td><span class=na>NA</span></td><td><span class=na>NA</span></td><td>2037</td></tr>\n",
              "  </tbody>\n",
              "  </table>\n",
              "  <div class='footer'>\n",
              "    <div class='frame_dimensions'>12,694,445 rows &times; 24 columns</div>\n",
              "  </div>\n",
              "</div>\n"
            ]
          },
          "metadata": {}
        }
      ]
    },
    {
      "cell_type": "markdown",
      "source": [
        "**Print first five rows of the dataset**"
      ],
      "metadata": {
        "id": "Dt6ft3wlUbf7"
      }
    },
    {
      "cell_type": "code",
      "source": [
        "dt_df.head(5)"
      ],
      "metadata": {
        "id": "es2ftQ_qOW9l",
        "colab": {
          "base_uri": "https://localhost:8080/",
          "height": 293
        },
        "outputId": "94e90920-2b2e-410a-f52b-455f1b6edcb0"
      },
      "execution_count": null,
      "outputs": [
        {
          "output_type": "execute_result",
          "data": {
            "text/plain": [
              "<Frame#7fa183b2bea0 5x24>"
            ],
            "text/html": [
              "<div class='datatable'>\n",
              "  <table class='frame'>\n",
              "  <thead>\n",
              "    <tr class='colnames'><td class='row_index'></td><th>BusinessYear</th><th>StateCode</th><th>IssuerId</th><th>SourceName</th><th>VersionNum</th><th>ImportDate</th><th>IssuerId2</th><th>FederalTIN</th><th>RateEffectiveDate</th><th>RateExpirationDate</th><th class='vellipsis'>&hellip;</th><th>PrimarySubscriberAndThreeOrMoreDependents</th><th>CoupleAndOneDependent</th><th>CoupleAndTwoDependents</th><th>CoupleAndThreeOrMoreDependents</th><th>RowNumber</th></tr>\n",
              "    <tr class='coltypes'><td class='row_index'></td><td class='int' title='int32'>&#x25AA;&#x25AA;&#x25AA;&#x25AA;</td><td class='str' title='str32'>&#x25AA;&#x25AA;&#x25AA;&#x25AA;</td><td class='int' title='int32'>&#x25AA;&#x25AA;&#x25AA;&#x25AA;</td><td class='str' title='str32'>&#x25AA;&#x25AA;&#x25AA;&#x25AA;</td><td class='int' title='int32'>&#x25AA;&#x25AA;&#x25AA;&#x25AA;</td><td class='time' title='time64'>&#x25AA;&#x25AA;&#x25AA;&#x25AA;&#x25AA;&#x25AA;&#x25AA;&#x25AA;</td><td class='int' title='int32'>&#x25AA;&#x25AA;&#x25AA;&#x25AA;</td><td class='str' title='str32'>&#x25AA;&#x25AA;&#x25AA;&#x25AA;</td><td class='time' title='date32'>&#x25AA;&#x25AA;&#x25AA;&#x25AA;</td><td class='time' title='date32'>&#x25AA;&#x25AA;&#x25AA;&#x25AA;</td><td></td><td class='float' title='float64'>&#x25AA;&#x25AA;&#x25AA;&#x25AA;&#x25AA;&#x25AA;&#x25AA;&#x25AA;</td><td class='float' title='float64'>&#x25AA;&#x25AA;&#x25AA;&#x25AA;&#x25AA;&#x25AA;&#x25AA;&#x25AA;</td><td class='float' title='float64'>&#x25AA;&#x25AA;&#x25AA;&#x25AA;&#x25AA;&#x25AA;&#x25AA;&#x25AA;</td><td class='float' title='float64'>&#x25AA;&#x25AA;&#x25AA;&#x25AA;&#x25AA;&#x25AA;&#x25AA;&#x25AA;</td><td class='int' title='int32'>&#x25AA;&#x25AA;&#x25AA;&#x25AA;</td></tr>\n",
              "  </thead>\n",
              "  <tbody>\n",
              "    <tr><td class='row_index'>0</td><td>2014</td><td>AK</td><td>21989</td><td>HIOS</td><td>6</td><td>2014-03-19<span class=sp>T</span>07:06:49</td><td>21989</td><td>93-0438772</td><td>2014-01-01</td><td>2014-12-31</td><td class=vellipsis>&hellip;</td><td><span class=na>NA</span></td><td><span class=na>NA</span></td><td><span class=na>NA</span></td><td><span class=na>NA</span></td><td>14</td></tr>\n",
              "    <tr><td class='row_index'>1</td><td>2014</td><td>AK</td><td>21989</td><td>HIOS</td><td>6</td><td>2014-03-19<span class=sp>T</span>07:06:49</td><td>21989</td><td>93-0438772</td><td>2014-01-01</td><td>2014-12-31</td><td class=vellipsis>&hellip;</td><td>107.61</td><td>144.56</td><td>144.56</td><td>144.56</td><td>14</td></tr>\n",
              "    <tr><td class='row_index'>2</td><td>2014</td><td>AK</td><td>21989</td><td>HIOS</td><td>6</td><td>2014-03-19<span class=sp>T</span>07:06:49</td><td>21989</td><td>93-0438772</td><td>2014-01-01</td><td>2014-12-31</td><td class=vellipsis>&hellip;</td><td>107.61</td><td>144.56</td><td>144.56</td><td>144.56</td><td>15</td></tr>\n",
              "    <tr><td class='row_index'>3</td><td>2014</td><td>AK</td><td>21989</td><td>HIOS</td><td>6</td><td>2014-03-19<span class=sp>T</span>07:06:49</td><td>21989</td><td>93-0438772</td><td>2014-01-01</td><td>2014-12-31</td><td class=vellipsis>&hellip;</td><td><span class=na>NA</span></td><td><span class=na>NA</span></td><td><span class=na>NA</span></td><td><span class=na>NA</span></td><td>15</td></tr>\n",
              "    <tr><td class='row_index'>4</td><td>2014</td><td>AK</td><td>21989</td><td>HIOS</td><td>6</td><td>2014-03-19<span class=sp>T</span>07:06:49</td><td>21989</td><td>93-0438772</td><td>2014-01-01</td><td>2014-12-31</td><td class=vellipsis>&hellip;</td><td><span class=na>NA</span></td><td><span class=na>NA</span></td><td><span class=na>NA</span></td><td><span class=na>NA</span></td><td>16</td></tr>\n",
              "  </tbody>\n",
              "  </table>\n",
              "  <div class='footer'>\n",
              "    <div class='frame_dimensions'>5 rows &times; 24 columns</div>\n",
              "  </div>\n",
              "</div>\n"
            ]
          },
          "metadata": {},
          "execution_count": 6
        }
      ]
    },
    {
      "cell_type": "code",
      "source": [
        "dt_df.shape"
      ],
      "metadata": {
        "id": "Z2EFF7PoOY-g",
        "colab": {
          "base_uri": "https://localhost:8080/"
        },
        "outputId": "97ec973a-8783-4019-f8f2-715e790813b1"
      },
      "execution_count": null,
      "outputs": [
        {
          "output_type": "execute_result",
          "data": {
            "text/plain": [
              "(12694445, 24)"
            ]
          },
          "metadata": {},
          "execution_count": 7
        }
      ]
    },
    {
      "cell_type": "markdown",
      "source": [
        "**NULL Values in dataset**"
      ],
      "metadata": {
        "id": "KQLckdUocTms"
      }
    },
    {
      "cell_type": "code",
      "source": [
        "count_null = dt_df.countna()\n",
        "print(count_null)"
      ],
      "metadata": {
        "colab": {
          "base_uri": "https://localhost:8080/"
        },
        "id": "Ar7Fu-Y2VB7H",
        "outputId": "65e966d2-eba8-403c-cf23-95699cd744a7"
      },
      "execution_count": null,
      "outputs": [
        {
          "output_type": "stream",
          "name": "stdout",
          "text": [
            "   | BusinessYear  StateCode  IssuerId  SourceName  VersionNum  ImportDate  IssuerId2  FederalTIN  RateEffectiveDate  RateExpirationDate  …  PrimarySubscriberAndThreeOrMoreDependents  CoupleAndOneDependent  CoupleAndTwoDependents  CoupleAndThreeOrMoreDependents  RowNumber\n",
            "   |        int64      int64     int64       int64       int64       int64      int64       int64              int64               int64                                         int64                  int64                   int64                           int64      int64\n",
            "-- + ------------  ---------  --------  ----------  ----------  ----------  ---------  ----------  -----------------  ------------------     -----------------------------------------  ---------------------  ----------------------  ------------------------------  ---------\n",
            " 0 |            0          0         0           0           0           0          0           0                  0                   0  …                                   12653504               12653504                12653504                        12653504          0\n",
            "[1 row x 24 columns]\n",
            "\n"
          ]
        }
      ]
    },
    {
      "cell_type": "markdown",
      "source": [
        "**Calculating mean for each numeric column**"
      ],
      "metadata": {
        "id": "qcuxPvTecZ78"
      }
    },
    {
      "cell_type": "code",
      "source": [
        "dt_df.mean()"
      ],
      "metadata": {
        "id": "ifv9rSkXOdf2",
        "colab": {
          "base_uri": "https://localhost:8080/",
          "height": 138
        },
        "outputId": "9ea7ccd2-d2fa-4958-93ff-060065ac39f6"
      },
      "execution_count": null,
      "outputs": [
        {
          "output_type": "execute_result",
          "data": {
            "text/plain": [
              "<Frame#7fa186162870 1x24>"
            ],
            "text/html": [
              "<div class='datatable'>\n",
              "  <table class='frame'>\n",
              "  <thead>\n",
              "    <tr class='colnames'><td class='row_index'></td><th>BusinessYear</th><th>StateCode</th><th>IssuerId</th><th>SourceName</th><th>VersionNum</th><th>ImportDate</th><th>IssuerId2</th><th>FederalTIN</th><th>RateEffectiveDate</th><th>RateExpirationDate</th><th class='vellipsis'>&hellip;</th><th>PrimarySubscriberAndThreeOrMoreDependents</th><th>CoupleAndOneDependent</th><th>CoupleAndTwoDependents</th><th>CoupleAndThreeOrMoreDependents</th><th>RowNumber</th></tr>\n",
              "    <tr class='coltypes'><td class='row_index'></td><td class='float' title='float64'>&#x25AA;&#x25AA;&#x25AA;&#x25AA;&#x25AA;&#x25AA;&#x25AA;&#x25AA;</td><td class='float' title='float64'>&#x25AA;&#x25AA;&#x25AA;&#x25AA;&#x25AA;&#x25AA;&#x25AA;&#x25AA;</td><td class='float' title='float64'>&#x25AA;&#x25AA;&#x25AA;&#x25AA;&#x25AA;&#x25AA;&#x25AA;&#x25AA;</td><td class='float' title='float64'>&#x25AA;&#x25AA;&#x25AA;&#x25AA;&#x25AA;&#x25AA;&#x25AA;&#x25AA;</td><td class='float' title='float64'>&#x25AA;&#x25AA;&#x25AA;&#x25AA;&#x25AA;&#x25AA;&#x25AA;&#x25AA;</td><td class='time' title='time64'>&#x25AA;&#x25AA;&#x25AA;&#x25AA;&#x25AA;&#x25AA;&#x25AA;&#x25AA;</td><td class='float' title='float64'>&#x25AA;&#x25AA;&#x25AA;&#x25AA;&#x25AA;&#x25AA;&#x25AA;&#x25AA;</td><td class='float' title='float64'>&#x25AA;&#x25AA;&#x25AA;&#x25AA;&#x25AA;&#x25AA;&#x25AA;&#x25AA;</td><td class='time' title='time64'>&#x25AA;&#x25AA;&#x25AA;&#x25AA;&#x25AA;&#x25AA;&#x25AA;&#x25AA;</td><td class='time' title='time64'>&#x25AA;&#x25AA;&#x25AA;&#x25AA;&#x25AA;&#x25AA;&#x25AA;&#x25AA;</td><td></td><td class='float' title='float64'>&#x25AA;&#x25AA;&#x25AA;&#x25AA;&#x25AA;&#x25AA;&#x25AA;&#x25AA;</td><td class='float' title='float64'>&#x25AA;&#x25AA;&#x25AA;&#x25AA;&#x25AA;&#x25AA;&#x25AA;&#x25AA;</td><td class='float' title='float64'>&#x25AA;&#x25AA;&#x25AA;&#x25AA;&#x25AA;&#x25AA;&#x25AA;&#x25AA;</td><td class='float' title='float64'>&#x25AA;&#x25AA;&#x25AA;&#x25AA;&#x25AA;&#x25AA;&#x25AA;&#x25AA;</td><td class='float' title='float64'>&#x25AA;&#x25AA;&#x25AA;&#x25AA;&#x25AA;&#x25AA;&#x25AA;&#x25AA;</td></tr>\n",
              "  </thead>\n",
              "  <tbody>\n",
              "    <tr><td class='row_index'>0</td><td>2015.03</td><td><span class=na>NA</span></td><td>52485.9</td><td><span class=na>NA</span></td><td>6.86556</td><td>2014-11-23<span class=sp>T</span>02:51:33.17344512</td><td>52485.9</td><td><span class=na>NA</span></td><td>2015-03-21<span class=sp>T</span>04:14:56.776357376</td><td>2015-11-15<span class=sp>T</span>04:24:19.39127168</td><td class=vellipsis>&hellip;</td><td>89.4055</td><td>72.7828</td><td>89.0129</td><td>107.808</td><td>6348.57</td></tr>\n",
              "  </tbody>\n",
              "  </table>\n",
              "  <div class='footer'>\n",
              "    <div class='frame_dimensions'>1 row &times; 24 columns</div>\n",
              "  </div>\n",
              "</div>\n"
            ]
          },
          "metadata": {},
          "execution_count": 9
        }
      ]
    },
    {
      "cell_type": "markdown",
      "source": [
        "**Printing first 10 column names**"
      ],
      "metadata": {
        "id": "hkTdunLsceLA"
      }
    },
    {
      "cell_type": "code",
      "source": [
        "dt_df.names[:10]"
      ],
      "metadata": {
        "id": "YdLDlLqfObIH",
        "colab": {
          "base_uri": "https://localhost:8080/"
        },
        "outputId": "9813cf03-4edd-4232-962e-f0787aa4186c"
      },
      "execution_count": null,
      "outputs": [
        {
          "output_type": "execute_result",
          "data": {
            "text/plain": [
              "('BusinessYear',\n",
              " 'StateCode',\n",
              " 'IssuerId',\n",
              " 'SourceName',\n",
              " 'VersionNum',\n",
              " 'ImportDate',\n",
              " 'IssuerId2',\n",
              " 'FederalTIN',\n",
              " 'RateEffectiveDate',\n",
              " 'RateExpirationDate')"
            ]
          },
          "metadata": {},
          "execution_count": 10
        }
      ]
    },
    {
      "cell_type": "markdown",
      "source": [
        "**Time taken in seconds to sort dataset by column \"IssuerId\"**"
      ],
      "metadata": {
        "id": "YpzBK8VDdG3S"
      }
    },
    {
      "cell_type": "code",
      "source": [
        "start = time.time()\n",
        "dt_df.sort(\"IssuerId\")\n",
        "end = time.time()\n",
        "print(end - start)"
      ],
      "metadata": {
        "colab": {
          "base_uri": "https://localhost:8080/"
        },
        "id": "JF5bKiw2SGN1",
        "outputId": "4cd0cb54-24b8-47bc-fc65-fb8db16c4583"
      },
      "execution_count": null,
      "outputs": [
        {
          "output_type": "stream",
          "name": "stdout",
          "text": [
            "0.1555774211883545\n"
          ]
        }
      ]
    },
    {
      "cell_type": "markdown",
      "source": [
        "**Time taken in seconds to compare column values**"
      ],
      "metadata": {
        "id": "1Zj_K7R9dRN-"
      }
    },
    {
      "cell_type": "code",
      "source": [
        "start = time.time()\n",
        "for i in range(100):\n",
        "    dt_df[dt.f.PrimarySubscriberAndThreeOrMoreDependents>dt.mean(dt.f.PrimarySubscriberAndThreeOrMoreDependents), \"PrimarySubscriberAndThreeOrMoreDependents\"]\n",
        "end = time.time()\n",
        "print(end - start)"
      ],
      "metadata": {
        "colab": {
          "base_uri": "https://localhost:8080/"
        },
        "id": "cPgE7fLLSZao",
        "outputId": "04c51425-2d17-49b7-c45d-eb9939ece5fa"
      },
      "execution_count": null,
      "outputs": [
        {
          "output_type": "stream",
          "name": "stdout",
          "text": [
            "63.655515909194946\n"
          ]
        }
      ]
    },
    {
      "cell_type": "markdown",
      "source": [
        "**Time taken in seconds to group by column \"IssuerId\"**"
      ],
      "metadata": {
        "id": "eF7z1y7VPEFc"
      }
    },
    {
      "cell_type": "code",
      "source": [
        "start = time.time()\n",
        "for i in range(100):\n",
        "    dt_df[:, dt.sum(dt.f.PrimarySubscriberAndThreeOrMoreDependents), dt.by(dt.f.IssuerId)]\n",
        "end = time.time()\n",
        "print(end - start)"
      ],
      "metadata": {
        "colab": {
          "base_uri": "https://localhost:8080/"
        },
        "id": "3fWuUt6BPDQZ",
        "outputId": "236b29f0-2f67-4d87-daed-1dc8111a304f"
      },
      "execution_count": null,
      "outputs": [
        {
          "output_type": "stream",
          "name": "stdout",
          "text": [
            "27.82197141647339\n"
          ]
        }
      ]
    }
  ]
}
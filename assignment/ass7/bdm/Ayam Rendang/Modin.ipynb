{
  "nbformat": 4,
  "nbformat_minor": 0,
  "metadata": {
    "colab": {
      "provenance": [],
      "authorship_tag": "ABX9TyOTKzpP2MxJxtJUUNK7fJ9z",
      "include_colab_link": true
    },
    "kernelspec": {
      "name": "python3",
      "display_name": "Python 3"
    },
    "language_info": {
      "name": "python"
    }
  },
  "cells": [
    {
      "cell_type": "markdown",
      "metadata": {
        "id": "view-in-github",
        "colab_type": "text"
      },
      "source": [
        "<a href=\"https://colab.research.google.com/github/drshahizan/Python-big-data/blob/main/assignment/ass7/bdm/Ayam%20Rendang/Modin.ipynb\" target=\"_parent\"><img src=\"https://colab.research.google.com/assets/colab-badge.svg\" alt=\"Open In Colab\"/></a>"
      ]
    },
    {
      "cell_type": "code",
      "source": [
        "!pip install modin[ray] # Install Modin dependencies and Ray for parallelization"
      ],
      "metadata": {
        "colab": {
          "base_uri": "https://localhost:8080/"
        },
        "id": "8pGpPFTE_RE-",
        "outputId": "b16d9619-3f0b-4432-99b4-cc851ec12b0e"
      },
      "execution_count": 1,
      "outputs": [
        {
          "output_type": "stream",
          "name": "stdout",
          "text": [
            "Requirement already satisfied: modin[ray] in /usr/local/lib/python3.10/dist-packages (0.26.0)\n",
            "Requirement already satisfied: pandas<2.2,>=2.1 in /usr/local/lib/python3.10/dist-packages (from modin[ray]) (2.1.4)\n",
            "Requirement already satisfied: packaging>=21.0 in /usr/local/lib/python3.10/dist-packages (from modin[ray]) (23.2)\n",
            "Requirement already satisfied: numpy>=1.22.4 in /usr/local/lib/python3.10/dist-packages (from modin[ray]) (1.23.5)\n",
            "Requirement already satisfied: fsspec>=2022.05.0 in /usr/local/lib/python3.10/dist-packages (from modin[ray]) (2023.6.0)\n",
            "Requirement already satisfied: psutil>=5.8.0 in /usr/local/lib/python3.10/dist-packages (from modin[ray]) (5.9.5)\n",
            "Requirement already satisfied: ray[default]!=2.5.0,>=1.13.0 in /usr/local/lib/python3.10/dist-packages (from modin[ray]) (2.9.0)\n",
            "Requirement already satisfied: pyarrow>=7.0.0 in /usr/local/lib/python3.10/dist-packages (from modin[ray]) (10.0.1)\n",
            "Requirement already satisfied: pydantic<2 in /usr/local/lib/python3.10/dist-packages (from modin[ray]) (1.10.13)\n",
            "Requirement already satisfied: python-dateutil>=2.8.2 in /usr/local/lib/python3.10/dist-packages (from pandas<2.2,>=2.1->modin[ray]) (2.8.2)\n",
            "Requirement already satisfied: pytz>=2020.1 in /usr/local/lib/python3.10/dist-packages (from pandas<2.2,>=2.1->modin[ray]) (2023.3.post1)\n",
            "Requirement already satisfied: tzdata>=2022.1 in /usr/local/lib/python3.10/dist-packages (from pandas<2.2,>=2.1->modin[ray]) (2023.3)\n",
            "Requirement already satisfied: typing-extensions>=4.2.0 in /usr/local/lib/python3.10/dist-packages (from pydantic<2->modin[ray]) (4.5.0)\n",
            "Requirement already satisfied: click>=7.0 in /usr/local/lib/python3.10/dist-packages (from ray[default]!=2.5.0,>=1.13.0->modin[ray]) (8.1.7)\n",
            "Requirement already satisfied: filelock in /usr/local/lib/python3.10/dist-packages (from ray[default]!=2.5.0,>=1.13.0->modin[ray]) (3.13.1)\n",
            "Requirement already satisfied: jsonschema in /usr/local/lib/python3.10/dist-packages (from ray[default]!=2.5.0,>=1.13.0->modin[ray]) (4.19.2)\n",
            "Requirement already satisfied: msgpack<2.0.0,>=1.0.0 in /usr/local/lib/python3.10/dist-packages (from ray[default]!=2.5.0,>=1.13.0->modin[ray]) (1.0.7)\n",
            "Requirement already satisfied: protobuf!=3.19.5,>=3.15.3 in /usr/local/lib/python3.10/dist-packages (from ray[default]!=2.5.0,>=1.13.0->modin[ray]) (3.20.3)\n",
            "Requirement already satisfied: pyyaml in /usr/local/lib/python3.10/dist-packages (from ray[default]!=2.5.0,>=1.13.0->modin[ray]) (6.0.1)\n",
            "Requirement already satisfied: aiosignal in /usr/local/lib/python3.10/dist-packages (from ray[default]!=2.5.0,>=1.13.0->modin[ray]) (1.3.1)\n",
            "Requirement already satisfied: frozenlist in /usr/local/lib/python3.10/dist-packages (from ray[default]!=2.5.0,>=1.13.0->modin[ray]) (1.4.1)\n",
            "Requirement already satisfied: requests in /usr/local/lib/python3.10/dist-packages (from ray[default]!=2.5.0,>=1.13.0->modin[ray]) (2.31.0)\n",
            "Requirement already satisfied: aiohttp>=3.7 in /usr/local/lib/python3.10/dist-packages (from ray[default]!=2.5.0,>=1.13.0->modin[ray]) (3.9.1)\n",
            "Requirement already satisfied: aiohttp-cors in /usr/local/lib/python3.10/dist-packages (from ray[default]!=2.5.0,>=1.13.0->modin[ray]) (0.7.0)\n",
            "Requirement already satisfied: colorful in /usr/local/lib/python3.10/dist-packages (from ray[default]!=2.5.0,>=1.13.0->modin[ray]) (0.5.5)\n",
            "Requirement already satisfied: py-spy>=0.2.0 in /usr/local/lib/python3.10/dist-packages (from ray[default]!=2.5.0,>=1.13.0->modin[ray]) (0.3.14)\n",
            "Requirement already satisfied: gpustat>=1.0.0 in /usr/local/lib/python3.10/dist-packages (from ray[default]!=2.5.0,>=1.13.0->modin[ray]) (1.1.1)\n",
            "Requirement already satisfied: opencensus in /usr/local/lib/python3.10/dist-packages (from ray[default]!=2.5.0,>=1.13.0->modin[ray]) (0.11.3)\n",
            "Requirement already satisfied: prometheus-client>=0.7.1 in /usr/local/lib/python3.10/dist-packages (from ray[default]!=2.5.0,>=1.13.0->modin[ray]) (0.19.0)\n",
            "Requirement already satisfied: smart-open in /usr/local/lib/python3.10/dist-packages (from ray[default]!=2.5.0,>=1.13.0->modin[ray]) (6.4.0)\n",
            "Requirement already satisfied: virtualenv<20.21.1,>=20.0.24 in /usr/local/lib/python3.10/dist-packages (from ray[default]!=2.5.0,>=1.13.0->modin[ray]) (20.21.0)\n",
            "Requirement already satisfied: grpcio>=1.42.0 in /usr/local/lib/python3.10/dist-packages (from ray[default]!=2.5.0,>=1.13.0->modin[ray]) (1.60.0)\n",
            "Requirement already satisfied: attrs>=17.3.0 in /usr/local/lib/python3.10/dist-packages (from aiohttp>=3.7->ray[default]!=2.5.0,>=1.13.0->modin[ray]) (23.1.0)\n",
            "Requirement already satisfied: multidict<7.0,>=4.5 in /usr/local/lib/python3.10/dist-packages (from aiohttp>=3.7->ray[default]!=2.5.0,>=1.13.0->modin[ray]) (6.0.4)\n",
            "Requirement already satisfied: yarl<2.0,>=1.0 in /usr/local/lib/python3.10/dist-packages (from aiohttp>=3.7->ray[default]!=2.5.0,>=1.13.0->modin[ray]) (1.9.4)\n",
            "Requirement already satisfied: async-timeout<5.0,>=4.0 in /usr/local/lib/python3.10/dist-packages (from aiohttp>=3.7->ray[default]!=2.5.0,>=1.13.0->modin[ray]) (4.0.3)\n",
            "Requirement already satisfied: nvidia-ml-py>=11.450.129 in /usr/local/lib/python3.10/dist-packages (from gpustat>=1.0.0->ray[default]!=2.5.0,>=1.13.0->modin[ray]) (12.535.133)\n",
            "Requirement already satisfied: blessed>=1.17.1 in /usr/local/lib/python3.10/dist-packages (from gpustat>=1.0.0->ray[default]!=2.5.0,>=1.13.0->modin[ray]) (1.20.0)\n",
            "Requirement already satisfied: six>=1.5 in /usr/local/lib/python3.10/dist-packages (from python-dateutil>=2.8.2->pandas<2.2,>=2.1->modin[ray]) (1.16.0)\n",
            "Requirement already satisfied: distlib<1,>=0.3.6 in /usr/local/lib/python3.10/dist-packages (from virtualenv<20.21.1,>=20.0.24->ray[default]!=2.5.0,>=1.13.0->modin[ray]) (0.3.8)\n",
            "Requirement already satisfied: platformdirs<4,>=2.4 in /usr/local/lib/python3.10/dist-packages (from virtualenv<20.21.1,>=20.0.24->ray[default]!=2.5.0,>=1.13.0->modin[ray]) (3.11.0)\n",
            "Requirement already satisfied: jsonschema-specifications>=2023.03.6 in /usr/local/lib/python3.10/dist-packages (from jsonschema->ray[default]!=2.5.0,>=1.13.0->modin[ray]) (2023.11.2)\n",
            "Requirement already satisfied: referencing>=0.28.4 in /usr/local/lib/python3.10/dist-packages (from jsonschema->ray[default]!=2.5.0,>=1.13.0->modin[ray]) (0.32.0)\n",
            "Requirement already satisfied: rpds-py>=0.7.1 in /usr/local/lib/python3.10/dist-packages (from jsonschema->ray[default]!=2.5.0,>=1.13.0->modin[ray]) (0.15.2)\n",
            "Requirement already satisfied: opencensus-context>=0.1.3 in /usr/local/lib/python3.10/dist-packages (from opencensus->ray[default]!=2.5.0,>=1.13.0->modin[ray]) (0.1.3)\n",
            "Requirement already satisfied: google-api-core<3.0.0,>=1.0.0 in /usr/local/lib/python3.10/dist-packages (from opencensus->ray[default]!=2.5.0,>=1.13.0->modin[ray]) (2.11.1)\n",
            "Requirement already satisfied: charset-normalizer<4,>=2 in /usr/local/lib/python3.10/dist-packages (from requests->ray[default]!=2.5.0,>=1.13.0->modin[ray]) (3.3.2)\n",
            "Requirement already satisfied: idna<4,>=2.5 in /usr/local/lib/python3.10/dist-packages (from requests->ray[default]!=2.5.0,>=1.13.0->modin[ray]) (3.6)\n",
            "Requirement already satisfied: urllib3<3,>=1.21.1 in /usr/local/lib/python3.10/dist-packages (from requests->ray[default]!=2.5.0,>=1.13.0->modin[ray]) (2.0.7)\n",
            "Requirement already satisfied: certifi>=2017.4.17 in /usr/local/lib/python3.10/dist-packages (from requests->ray[default]!=2.5.0,>=1.13.0->modin[ray]) (2023.11.17)\n",
            "Requirement already satisfied: wcwidth>=0.1.4 in /usr/local/lib/python3.10/dist-packages (from blessed>=1.17.1->gpustat>=1.0.0->ray[default]!=2.5.0,>=1.13.0->modin[ray]) (0.2.12)\n",
            "Requirement already satisfied: googleapis-common-protos<2.0.dev0,>=1.56.2 in /usr/local/lib/python3.10/dist-packages (from google-api-core<3.0.0,>=1.0.0->opencensus->ray[default]!=2.5.0,>=1.13.0->modin[ray]) (1.62.0)\n",
            "Requirement already satisfied: google-auth<3.0.dev0,>=2.14.1 in /usr/local/lib/python3.10/dist-packages (from google-api-core<3.0.0,>=1.0.0->opencensus->ray[default]!=2.5.0,>=1.13.0->modin[ray]) (2.17.3)\n",
            "Requirement already satisfied: cachetools<6.0,>=2.0.0 in /usr/local/lib/python3.10/dist-packages (from google-auth<3.0.dev0,>=2.14.1->google-api-core<3.0.0,>=1.0.0->opencensus->ray[default]!=2.5.0,>=1.13.0->modin[ray]) (5.3.2)\n",
            "Requirement already satisfied: pyasn1-modules>=0.2.1 in /usr/local/lib/python3.10/dist-packages (from google-auth<3.0.dev0,>=2.14.1->google-api-core<3.0.0,>=1.0.0->opencensus->ray[default]!=2.5.0,>=1.13.0->modin[ray]) (0.3.0)\n",
            "Requirement already satisfied: rsa<5,>=3.1.4 in /usr/local/lib/python3.10/dist-packages (from google-auth<3.0.dev0,>=2.14.1->google-api-core<3.0.0,>=1.0.0->opencensus->ray[default]!=2.5.0,>=1.13.0->modin[ray]) (4.9)\n",
            "Requirement already satisfied: pyasn1<0.6.0,>=0.4.6 in /usr/local/lib/python3.10/dist-packages (from pyasn1-modules>=0.2.1->google-auth<3.0.dev0,>=2.14.1->google-api-core<3.0.0,>=1.0.0->opencensus->ray[default]!=2.5.0,>=1.13.0->modin[ray]) (0.5.1)\n"
          ]
        }
      ]
    },
    {
      "cell_type": "code",
      "source": [
        "import pandas as pd\n",
        "import modin.pandas as mp\n",
        "import time"
      ],
      "metadata": {
        "id": "HXXMClSH_XJ6"
      },
      "execution_count": 2,
      "outputs": []
    },
    {
      "cell_type": "code",
      "source": [
        "from google.colab import drive\n",
        "drive.mount('/content/drive')"
      ],
      "metadata": {
        "colab": {
          "base_uri": "https://localhost:8080/"
        },
        "id": "SyoEG68T_brw",
        "outputId": "d40ef2ff-23d3-488b-89dc-cc9a2effba86"
      },
      "execution_count": 3,
      "outputs": [
        {
          "output_type": "stream",
          "name": "stdout",
          "text": [
            "Drive already mounted at /content/drive; to attempt to forcibly remount, call drive.mount(\"/content/drive\", force_remount=True).\n"
          ]
        }
      ]
    },
    {
      "cell_type": "code",
      "source": [
        "%%time\n",
        "df_mp = mp.read_csv('/content/drive/MyDrive/2018.csv') # replace with your file path"
      ],
      "metadata": {
        "colab": {
          "base_uri": "https://localhost:8080/"
        },
        "id": "xsHvEgAtACfM",
        "outputId": "edba6a12-772a-4e6c-e822-6462831ef30d"
      },
      "execution_count": 40,
      "outputs": [
        {
          "output_type": "stream",
          "name": "stderr",
          "text": [
            "\u001b[36m(raylet)\u001b[0m Spilled 8705 MiB, 27 objects, write throughput 77 MiB/s.\n"
          ]
        },
        {
          "output_type": "stream",
          "name": "stdout",
          "text": [
            "CPU times: user 2.33 s, sys: 2.07 s, total: 4.4 s\n",
            "Wall time: 1min 14s\n"
          ]
        }
      ]
    },
    {
      "cell_type": "code",
      "source": [
        "%%time\n",
        "mean_mp = df_mp['OP_CARRIER_FL_NUM'].mean() # replace 'your_column' with your column name"
      ],
      "metadata": {
        "colab": {
          "base_uri": "https://localhost:8080/"
        },
        "id": "qUJIiTavBFG0",
        "outputId": "46fe8eac-8bcf-4d6a-8013-f2db41c2fb12"
      },
      "execution_count": 5,
      "outputs": [
        {
          "output_type": "stream",
          "name": "stdout",
          "text": [
            "CPU times: user 62.5 ms, sys: 9.41 ms, total: 71.9 ms\n",
            "Wall time: 2.39 s\n"
          ]
        }
      ]
    },
    {
      "cell_type": "markdown",
      "source": [
        "1. DATA EXPLORATION"
      ],
      "metadata": {
        "id": "FfzzIZyxftNU"
      }
    },
    {
      "cell_type": "code",
      "source": [
        "import modin.pandas as mp\n",
        "\n",
        "# Load a CSV file from Google Drive into a DataFrame\n",
        "df = mp.read_csv('/content/drive/MyDrive/2018.csv') # replace 'your_file.csv' with your file path"
      ],
      "metadata": {
        "id": "BscXOpG7gjPM"
      },
      "execution_count": 41,
      "outputs": []
    },
    {
      "cell_type": "code",
      "source": [
        "%%time\n",
        "# Using Modin\n",
        "print(df.head())\n",
        "print(df.info())\n",
        "print(df.describe())"
      ],
      "metadata": {
        "colab": {
          "base_uri": "https://localhost:8080/"
        },
        "id": "TYJ2_6fEfz5Y",
        "outputId": "7dea201e-e370-4040-be93-1ac3bc8b64ba"
      },
      "execution_count": 7,
      "outputs": [
        {
          "output_type": "stream",
          "name": "stdout",
          "text": [
            "      FL_DATE OP_CARRIER  OP_CARRIER_FL_NUM ORIGIN DEST  CRS_DEP_TIME  \\\n",
            "0  2018-01-01         UA               2429    EWR  DEN          1517   \n",
            "1  2018-01-01         UA               2427    LAS  SFO          1115   \n",
            "2  2018-01-01         UA               2426    SNA  DEN          1335   \n",
            "3  2018-01-01         UA               2425    RSW  ORD          1546   \n",
            "4  2018-01-01         UA               2424    ORD  ALB           630   \n",
            "\n",
            "   DEP_TIME  DEP_DELAY  TAXI_OUT  WHEELS_OFF  ...  CRS_ELAPSED_TIME  \\\n",
            "0    1512.0       -5.0      15.0      1527.0  ...             268.0   \n",
            "1    1107.0       -8.0      11.0      1118.0  ...              99.0   \n",
            "2    1330.0       -5.0      15.0      1345.0  ...             134.0   \n",
            "3    1552.0        6.0      19.0      1611.0  ...             190.0   \n",
            "4     650.0       20.0      13.0       703.0  ...             112.0   \n",
            "\n",
            "   ACTUAL_ELAPSED_TIME  AIR_TIME  DISTANCE  CARRIER_DELAY  WEATHER_DELAY  \\\n",
            "0                250.0     225.0    1605.0            NaN            NaN   \n",
            "1                 83.0      65.0     414.0            NaN            NaN   \n",
            "2                126.0     106.0     846.0            NaN            NaN   \n",
            "3                182.0     157.0    1120.0            NaN            NaN   \n",
            "4                106.0      83.0     723.0            NaN            NaN   \n",
            "\n",
            "   NAS_DELAY  SECURITY_DELAY  LATE_AIRCRAFT_DELAY  Unnamed: 27  \n",
            "0        NaN             NaN                  NaN          NaN  \n",
            "1        NaN             NaN                  NaN          NaN  \n",
            "2        NaN             NaN                  NaN          NaN  \n",
            "3        NaN             NaN                  NaN          NaN  \n",
            "4        NaN             NaN                  NaN          NaN  \n",
            "\n",
            "[5 rows x 28 columns]\n",
            "<class 'modin.pandas.dataframe.DataFrame'>\n",
            "RangeIndex: 7213446 entries, 0 to 7213445\n",
            "Data columns (total 28 columns):\n",
            " #   Column               Dtype  \n",
            "---  ------               -----  \n",
            " 0   FL_DATE              object \n",
            " 1   OP_CARRIER           object \n",
            " 2   OP_CARRIER_FL_NUM    int64  \n",
            " 3   ORIGIN               object \n",
            " 4   DEST                 object \n",
            " 5   CRS_DEP_TIME         int64  \n",
            " 6   DEP_TIME             float64\n",
            " 7   DEP_DELAY            float64\n",
            " 8   TAXI_OUT             float64\n",
            " 9   WHEELS_OFF           float64\n",
            " 10  WHEELS_ON            float64\n",
            " 11  TAXI_IN              float64\n",
            " 12  CRS_ARR_TIME         int64  \n",
            " 13  ARR_TIME             float64\n",
            " 14  ARR_DELAY            float64\n",
            " 15  CANCELLED            float64\n",
            " 16  CANCELLATION_CODE    object \n",
            " 17  DIVERTED             float64\n",
            " 18  CRS_ELAPSED_TIME     float64\n",
            " 19  ACTUAL_ELAPSED_TIME  float64\n",
            " 20  AIR_TIME             float64\n",
            " 21  DISTANCE             float64\n",
            " 22  CARRIER_DELAY        float64\n",
            " 23  WEATHER_DELAY        float64\n",
            " 24  NAS_DELAY            float64\n",
            " 25  SECURITY_DELAY       float64\n",
            " 26  LATE_AIRCRAFT_DELAY  float64\n",
            " 27  Unnamed: 27          float64\n",
            "dtypes: float64(20), int64(3), object(5)\n",
            "memory usage: 1.5+ GB\n",
            "None\n",
            "       OP_CARRIER_FL_NUM  CRS_DEP_TIME      DEP_TIME     DEP_DELAY  \\\n",
            "count       7.213446e+06  7.213446e+06  7.101129e+06  7.096212e+06   \n",
            "mean        2.607531e+03  1.329687e+03  1.333854e+03  9.969858e+00   \n",
            "std         1.860122e+03  4.909320e+02  5.045055e+02  4.482964e+01   \n",
            "min         1.000000e+00  1.000000e+00  1.000000e+00 -1.220000e+02   \n",
            "25%         1.029000e+03  9.150000e+02  9.160000e+02 -5.000000e+00   \n",
            "50%         2.131000e+03  1.320000e+03  1.326000e+03 -2.000000e+00   \n",
            "75%         4.074000e+03  1.735000e+03  1.744000e+03  7.000000e+00   \n",
            "max         7.909000e+03  2.359000e+03  2.400000e+03  2.710000e+03   \n",
            "\n",
            "           TAXI_OUT    WHEELS_OFF     WHEELS_ON       TAXI_IN  CRS_ARR_TIME  \\\n",
            "count  7.097616e+06  7.097617e+06  7.094200e+06  7.094200e+06  7.213446e+06   \n",
            "mean   1.741061e+01  1.357799e+03  1.462162e+03  7.601246e+00  1.486341e+03   \n",
            "std    9.920409e+00  5.059721e+02  5.334675e+02  6.064797e+00  5.183124e+02   \n",
            "min    1.000000e+00  1.000000e+00  1.000000e+00  1.000000e+00  1.000000e+00   \n",
            "25%    1.100000e+01  9.320000e+02  1.044000e+03  4.000000e+00  1.100000e+03   \n",
            "50%    1.500000e+01  1.340000e+03  1.502000e+03  6.000000e+00  1.515000e+03   \n",
            "75%    2.000000e+01  1.759000e+03  1.911000e+03  9.000000e+00  1.919000e+03   \n",
            "max    1.960000e+02  2.400000e+03  2.400000e+03  2.590000e+02  2.400000e+03   \n",
            "\n",
            "           ARR_TIME  ...  CRS_ELAPSED_TIME  ACTUAL_ELAPSED_TIME      AIR_TIME  \\\n",
            "count  7.094201e+06  ...      7.213436e+06         7.079004e+06  7.079004e+06   \n",
            "mean   1.466784e+03  ...      1.411356e+02         1.364999e+02  1.115020e+02   \n",
            "std    5.377089e+02  ...      7.334433e+01         7.313758e+01  7.111293e+01   \n",
            "min    1.000000e+00  ...     -9.900000e+01         1.400000e+01  7.000000e+00   \n",
            "25%    1.049000e+03  ...      8.800000e+01         8.300000e+01  6.000000e+01   \n",
            "50%    1.506000e+03  ...      1.220000e+02         1.180000e+02  9.200000e+01   \n",
            "75%    1.916000e+03  ...      1.710000e+02         1.670000e+02  1.410000e+02   \n",
            "max    2.400000e+03  ...      7.040000e+02         7.570000e+02  6.960000e+02   \n",
            "\n",
            "           DISTANCE  CARRIER_DELAY  WEATHER_DELAY     NAS_DELAY  \\\n",
            "count  7.213446e+06   1.352710e+06   1.352710e+06  1.352710e+06   \n",
            "mean   7.999895e+02   1.945501e+01   3.636459e+00  1.588547e+01   \n",
            "std    5.981783e+02   5.890812e+01   2.999601e+01  3.589350e+01   \n",
            "min    3.100000e+01   0.000000e+00   0.000000e+00  0.000000e+00   \n",
            "25%    3.630000e+02   0.000000e+00   0.000000e+00  0.000000e+00   \n",
            "50%    6.320000e+02   0.000000e+00   0.000000e+00  3.000000e+00   \n",
            "75%    1.034000e+03   1.700000e+01   0.000000e+00  2.000000e+01   \n",
            "max    4.983000e+03   2.109000e+03   2.692000e+03  1.848000e+03   \n",
            "\n",
            "       SECURITY_DELAY  LATE_AIRCRAFT_DELAY  Unnamed: 27  \n",
            "count    1.352710e+06         1.352710e+06          0.0  \n",
            "mean     9.353890e-02         2.564412e+01          NaN  \n",
            "std      3.174306e+00         4.978776e+01          NaN  \n",
            "min      0.000000e+00         0.000000e+00          NaN  \n",
            "25%      0.000000e+00         0.000000e+00          NaN  \n",
            "50%      0.000000e+00         3.000000e+00          NaN  \n",
            "75%      0.000000e+00         3.100000e+01          NaN  \n",
            "max      9.870000e+02         2.454000e+03          NaN  \n",
            "\n",
            "[8 rows x 23 columns]\n",
            "CPU times: user 490 ms, sys: 57.9 ms, total: 548 ms\n",
            "Wall time: 21.6 s\n"
          ]
        }
      ]
    },
    {
      "cell_type": "markdown",
      "source": [
        "2. DATA MANIPULATION"
      ],
      "metadata": {
        "id": "ZtgI6ILlh-Pl"
      }
    },
    {
      "cell_type": "code",
      "source": [
        "%%time\n",
        "# Grouping data using Modin\n",
        "grouped_df = df.groupby('OP_CARRIER_FL_NUM') # replace 'your_column' with your column name"
      ],
      "metadata": {
        "colab": {
          "base_uri": "https://localhost:8080/"
        },
        "id": "NRDAI7cqh9uG",
        "outputId": "bdaee2c7-f9a6-47eb-a7af-0fa2580cfa3e"
      },
      "execution_count": 8,
      "outputs": [
        {
          "output_type": "stream",
          "name": "stdout",
          "text": [
            "CPU times: user 2.56 ms, sys: 0 ns, total: 2.56 ms\n",
            "Wall time: 2.58 ms\n"
          ]
        }
      ]
    },
    {
      "cell_type": "markdown",
      "source": [
        "3. DATA VISUALIZATION"
      ],
      "metadata": {
        "id": "62gCrOnIiUYb"
      }
    },
    {
      "cell_type": "code",
      "source": [
        "print(type(df))"
      ],
      "metadata": {
        "colab": {
          "base_uri": "https://localhost:8080/"
        },
        "id": "8UTN1uJzjxPt",
        "outputId": "beaae5a5-e477-41ea-9b22-5d810b43a45d"
      },
      "execution_count": 9,
      "outputs": [
        {
          "output_type": "stream",
          "name": "stdout",
          "text": [
            "<class 'modin.pandas.dataframe.DataFrame'>\n"
          ]
        }
      ]
    },
    {
      "cell_type": "code",
      "source": [
        "!pip install --upgrade modin"
      ],
      "metadata": {
        "colab": {
          "base_uri": "https://localhost:8080/"
        },
        "id": "GlU8xWOxowgc",
        "outputId": "8ec13b89-6071-4c0d-8791-ae7ff2d3cc2d"
      },
      "execution_count": 10,
      "outputs": [
        {
          "output_type": "stream",
          "name": "stdout",
          "text": [
            "Requirement already satisfied: modin in /usr/local/lib/python3.10/dist-packages (0.26.0)\n",
            "Requirement already satisfied: pandas<2.2,>=2.1 in /usr/local/lib/python3.10/dist-packages (from modin) (2.1.4)\n",
            "Requirement already satisfied: packaging>=21.0 in /usr/local/lib/python3.10/dist-packages (from modin) (23.2)\n",
            "Requirement already satisfied: numpy>=1.22.4 in /usr/local/lib/python3.10/dist-packages (from modin) (1.23.5)\n",
            "Requirement already satisfied: fsspec>=2022.05.0 in /usr/local/lib/python3.10/dist-packages (from modin) (2023.6.0)\n",
            "Requirement already satisfied: psutil>=5.8.0 in /usr/local/lib/python3.10/dist-packages (from modin) (5.9.5)\n",
            "Requirement already satisfied: python-dateutil>=2.8.2 in /usr/local/lib/python3.10/dist-packages (from pandas<2.2,>=2.1->modin) (2.8.2)\n",
            "Requirement already satisfied: pytz>=2020.1 in /usr/local/lib/python3.10/dist-packages (from pandas<2.2,>=2.1->modin) (2023.3.post1)\n",
            "Requirement already satisfied: tzdata>=2022.1 in /usr/local/lib/python3.10/dist-packages (from pandas<2.2,>=2.1->modin) (2023.3)\n",
            "Requirement already satisfied: six>=1.5 in /usr/local/lib/python3.10/dist-packages (from python-dateutil>=2.8.2->pandas<2.2,>=2.1->modin) (1.16.0)\n"
          ]
        }
      ]
    },
    {
      "cell_type": "code",
      "source": [
        "df_pd = df._to_pandas()"
      ],
      "metadata": {
        "id": "DKW-S-97o33X"
      },
      "execution_count": 11,
      "outputs": []
    },
    {
      "cell_type": "code",
      "source": [
        "import modin.pandas as mp\n",
        "\n",
        "# Load a CSV file from Google Drive into a DataFrame\n",
        "df = mp.read_csv('/content/drive/MyDrive/2018.csv') # replace 'your_file.csv' with your file path"
      ],
      "metadata": {
        "id": "jsaLARDkiwbu"
      },
      "execution_count": 29,
      "outputs": []
    },
    {
      "cell_type": "code",
      "source": [
        "import pandas as pd\n",
        "\n",
        "# Convert a small subset of the Modin DataFrame to a pandas DataFrame\n",
        "df_pd = pd.DataFrame(df.head(1000))\n",
        "\n",
        "# Now you can use df_pd for your visualizations\n"
      ],
      "metadata": {
        "id": "Kh7O4jAaph07"
      },
      "execution_count": 30,
      "outputs": []
    },
    {
      "cell_type": "code",
      "source": [
        "import matplotlib.pyplot as plt\n",
        "import modin.pandas as pd\n",
        "\n",
        "# Assuming df is a Modin DataFrame\n",
        "df_pd = pd.DataFrame(df)\n",
        "\n",
        "# Now you can use df_pd for visualization\n"
      ],
      "metadata": {
        "id": "CIo0-AniliSL"
      },
      "execution_count": 33,
      "outputs": []
    },
    {
      "cell_type": "code",
      "source": [
        "# Plotting\n",
        "plt.figure(figsize=(10,5))\n",
        "df_pd['OP_CARRIER_FL_NUM'].value_counts().plot(kind='bar') # replace 'your_column' with your column name\n",
        "plt.show()\n"
      ],
      "metadata": {
        "colab": {
          "base_uri": "https://localhost:8080/",
          "height": 523
        },
        "id": "he-ZQstDufab",
        "outputId": "a0c04e3e-ca31-45b3-c59b-dc0f14b27fed"
      },
      "execution_count": 34,
      "outputs": [
        {
          "output_type": "stream",
          "name": "stderr",
          "text": [
            "UserWarning: `df.groupby(categorical_by, sort=False)` implementation has mismatches with pandas:\n",
            "the groupby keys will be sorted anyway, although the 'sort=False' was passed. See the following issue for more details: https://github.com/modin-project/modin/issues/3571.\n"
          ]
        },
        {
          "output_type": "display_data",
          "data": {
            "text/plain": [
              "<Figure size 1000x500 with 1 Axes>"
            ],
            "image/png": "[encoded data removed]"
          },
          "metadata": {}
        }
      ]
    },
    {
      "cell_type": "markdown",
      "source": [
        "5. PERFORMANCE COMPARISON"
      ],
      "metadata": {
        "id": "4PX7u5tkyP8h"
      }
    },
    {
      "cell_type": "code",
      "source": [
        "def calculate_mean(df, OP_CARRIER_FL_NUM):\n",
        "    return df[OP_CARRIER_FL_NUM].mean()"
      ],
      "metadata": {
        "id": "WxzDDy3izJQn"
      },
      "execution_count": 35,
      "outputs": []
    },
    {
      "cell_type": "code",
      "source": [
        "%%time\n",
        "# Assuming df_pd is your pandas DataFrame\n",
        "mean_pd = calculate_mean(df_pd, 'OP_CARRIER_FL_NUM') # replace 'your_column' with your column name"
      ],
      "metadata": {
        "colab": {
          "base_uri": "https://localhost:8080/"
        },
        "id": "04bUuIZJzPtD",
        "outputId": "c53963a5-d6aa-4325-eaaa-94bf73b495ea"
      },
      "execution_count": 36,
      "outputs": [
        {
          "output_type": "stream",
          "name": "stdout",
          "text": [
            "CPU times: user 47.8 ms, sys: 6.4 ms, total: 54.2 ms\n",
            "Wall time: 2.14 s\n"
          ]
        }
      ]
    },
    {
      "cell_type": "code",
      "source": [
        "%%time\n",
        "# Assuming df is your Modin DataFrame\n",
        "mean_modin = calculate_mean(df, 'OP_CARRIER_FL_NUM') # replace 'your_column' with your column name"
      ],
      "metadata": {
        "colab": {
          "base_uri": "https://localhost:8080/"
        },
        "id": "yS-HGem_zdFk",
        "outputId": "78ada3c0-7634-4d3e-e4c9-a4f08b8d368c"
      },
      "execution_count": 38,
      "outputs": [
        {
          "output_type": "stream",
          "name": "stdout",
          "text": [
            "CPU times: user 37 ms, sys: 7.28 ms, total: 44.3 ms\n",
            "Wall time: 1.37 s\n"
          ]
        }
      ]
    }
  ]
}
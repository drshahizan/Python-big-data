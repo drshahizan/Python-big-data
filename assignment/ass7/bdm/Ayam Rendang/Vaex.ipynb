{
  "cells": [
    {
      "cell_type": "markdown",
      "metadata": {
        "id": "view-in-github",
        "colab_type": "text"
      },
      "source": [
        "<a href=\"https://colab.research.google.com/github/drshahizan/Python-big-data/blob/main/assignment/ass7/bdm/Ayam%20Rendang/Vaex.ipynb\" target=\"_parent\"><img src=\"https://colab.research.google.com/assets/colab-badge.svg\" alt=\"Open In Colab\"/></a>"
      ]
    },
    {
      "cell_type": "markdown",
      "metadata": {
        "id": "uXriUB1Q62iV"
      },
      "source": [
        "\n",
        "\n",
        "Project Team:\n",
        "\n",
        "NURUL WAHIEDA BINTI MUHAMMAD FARID SELLEKUMAR (MCS231022)\n",
        "\n",
        "THANEATHARRAN A/L SANTHARASEKARAN (MSC232006)\n",
        "\n",
        "RANJEET A/L THIAGARAJAN (MCS231015)\n",
        "\n",
        "LINGGESH A/L TAMILMANI (MCS232005)\n"
      ]
    },
    {
      "cell_type": "code",
      "execution_count": 1,
      "metadata": {
        "colab": {
          "base_uri": "https://localhost:8080/"
        },
        "id": "j2yNe6Vf57_n",
        "outputId": "9c6511bb-286f-444e-8e76-ebdccdedb113"
      },
      "outputs": [
        {
          "output_type": "stream",
          "name": "stdout",
          "text": [
            "Mounted at /content/drive\n"
          ]
        }
      ],
      "source": [
        "from google.colab import drive\n",
        "drive.mount('/content/drive')"
      ]
    },
    {
      "cell_type": "code",
      "execution_count": 2,
      "metadata": {
        "colab": {
          "base_uri": "https://localhost:8080/",
          "height": 91
        },
        "id": "0ovOD_LLAwCV",
        "outputId": "1d578199-ceba-4709-bb94-9a614b08f8c3"
      },
      "outputs": [
        {
          "output_type": "display_data",
          "data": {
            "text/plain": [
              "<IPython.core.display.HTML object>"
            ],
            "text/html": [
              "\n",
              "     <input type=\"file\" id=\"files-708d17f4-f059-4c90-910d-a791b8a24c9b\" name=\"files[]\" multiple disabled\n",
              "        style=\"border:none\" />\n",
              "     <output id=\"result-708d17f4-f059-4c90-910d-a791b8a24c9b\">\n",
              "      Upload widget is only available when the cell has been executed in the\n",
              "      current browser session. Please rerun this cell to enable.\n",
              "      </output>\n",
              "      <script>// Copyright 2017 Google LLC\n",
              "//\n",
              "// Licensed under the Apache License, Version 2.0 (the \"License\");\n",
              "// you may not use this file except in compliance with the License.\n",
              "// You may obtain a copy of the License at\n",
              "//\n",
              "//      http://www.apache.org/licenses/LICENSE-2.0\n",
              "//\n",
              "// Unless required by applicable law or agreed to in writing, software\n",
              "// distributed under the License is distributed on an \"AS IS\" BASIS,\n",
              "// WITHOUT WARRANTIES OR CONDITIONS OF ANY KIND, either express or implied.\n",
              "// See the License for the specific language governing permissions and\n",
              "// limitations under the License.\n",
              "\n",
              "/**\n",
              " * @fileoverview Helpers for google.colab Python module.\n",
              " */\n",
              "(function(scope) {\n",
              "function span(text, styleAttributes = {}) {\n",
              "  const element = document.createElement('span');\n",
              "  element.textContent = text;\n",
              "  for (const key of Object.keys(styleAttributes)) {\n",
              "    element.style[key] = styleAttributes[key];\n",
              "  }\n",
              "  return element;\n",
              "}\n",
              "\n",
              "// Max number of bytes which will be uploaded at a time.\n",
              "const MAX_PAYLOAD_SIZE = 100 * 1024;\n",
              "\n",
              "function _uploadFiles(inputId, outputId) {\n",
              "  const steps = uploadFilesStep(inputId, outputId);\n",
              "  const outputElement = document.getElementById(outputId);\n",
              "  // Cache steps on the outputElement to make it available for the next call\n",
              "  // to uploadFilesContinue from Python.\n",
              "  outputElement.steps = steps;\n",
              "\n",
              "  return _uploadFilesContinue(outputId);\n",
              "}\n",
              "\n",
              "// This is roughly an async generator (not supported in the browser yet),\n",
              "// where there are multiple asynchronous steps and the Python side is going\n",
              "// to poll for completion of each step.\n",
              "// This uses a Promise to block the python side on completion of each step,\n",
              "// then passes the result of the previous step as the input to the next step.\n",
              "function _uploadFilesContinue(outputId) {\n",
              "  const outputElement = document.getElementById(outputId);\n",
              "  const steps = outputElement.steps;\n",
              "\n",
              "  const next = steps.next(outputElement.lastPromiseValue);\n",
              "  return Promise.resolve(next.value.promise).then((value) => {\n",
              "    // Cache the last promise value to make it available to the next\n",
              "    // step of the generator.\n",
              "    outputElement.lastPromiseValue = value;\n",
              "    return next.value.response;\n",
              "  });\n",
              "}\n",
              "\n",
              "/**\n",
              " * Generator function which is called between each async step of the upload\n",
              " * process.\n",
              " * @param {string} inputId Element ID of the input file picker element.\n",
              " * @param {string} outputId Element ID of the output display.\n",
              " * @return {!Iterable<!Object>} Iterable of next steps.\n",
              " */\n",
              "function* uploadFilesStep(inputId, outputId) {\n",
              "  const inputElement = document.getElementById(inputId);\n",
              "  inputElement.disabled = false;\n",
              "\n",
              "  const outputElement = document.getElementById(outputId);\n",
              "  outputElement.innerHTML = '';\n",
              "\n",
              "  const pickedPromise = new Promise((resolve) => {\n",
              "    inputElement.addEventListener('change', (e) => {\n",
              "      resolve(e.target.files);\n",
              "    });\n",
              "  });\n",
              "\n",
              "  const cancel = document.createElement('button');\n",
              "  inputElement.parentElement.appendChild(cancel);\n",
              "  cancel.textContent = 'Cancel upload';\n",
              "  const cancelPromise = new Promise((resolve) => {\n",
              "    cancel.onclick = () => {\n",
              "      resolve(null);\n",
              "    };\n",
              "  });\n",
              "\n",
              "  // Wait for the user to pick the files.\n",
              "  const files = yield {\n",
              "    promise: Promise.race([pickedPromise, cancelPromise]),\n",
              "    response: {\n",
              "      action: 'starting',\n",
              "    }\n",
              "  };\n",
              "\n",
              "  cancel.remove();\n",
              "\n",
              "  // Disable the input element since further picks are not allowed.\n",
              "  inputElement.disabled = true;\n",
              "\n",
              "  if (!files) {\n",
              "    return {\n",
              "      response: {\n",
              "        action: 'complete',\n",
              "      }\n",
              "    };\n",
              "  }\n",
              "\n",
              "  for (const file of files) {\n",
              "    const li = document.createElement('li');\n",
              "    li.append(span(file.name, {fontWeight: 'bold'}));\n",
              "    li.append(span(\n",
              "        `(${file.type || 'n/a'}) - ${file.size} bytes, ` +\n",
              "        `last modified: ${\n",
              "            file.lastModifiedDate ? file.lastModifiedDate.toLocaleDateString() :\n",
              "                                    'n/a'} - `));\n",
              "    const percent = span('0% done');\n",
              "    li.appendChild(percent);\n",
              "\n",
              "    outputElement.appendChild(li);\n",
              "\n",
              "    const fileDataPromise = new Promise((resolve) => {\n",
              "      const reader = new FileReader();\n",
              "      reader.onload = (e) => {\n",
              "        resolve(e.target.result);\n",
              "      };\n",
              "      reader.readAsArrayBuffer(file);\n",
              "    });\n",
              "    // Wait for the data to be ready.\n",
              "    let fileData = yield {\n",
              "      promise: fileDataPromise,\n",
              "      response: {\n",
              "        action: 'continue',\n",
              "      }\n",
              "    };\n",
              "\n",
              "    // Use a chunked sending to avoid message size limits. See b/62115660.\n",
              "    let position = 0;\n",
              "    do {\n",
              "      const length = Math.min(fileData.byteLength - position, MAX_PAYLOAD_SIZE);\n",
              "      const chunk = new Uint8Array(fileData, position, length);\n",
              "      position += length;\n",
              "\n",
              "      const base64 = btoa(String.fromCharCode.apply(null, chunk));\n",
              "      yield {\n",
              "        response: {\n",
              "          action: 'append',\n",
              "          file: file.name,\n",
              "          data: base64,\n",
              "        },\n",
              "      };\n",
              "\n",
              "      let percentDone = fileData.byteLength === 0 ?\n",
              "          100 :\n",
              "          Math.round((position / fileData.byteLength) * 100);\n",
              "      percent.textContent = `${percentDone}% done`;\n",
              "\n",
              "    } while (position < fileData.byteLength);\n",
              "  }\n",
              "\n",
              "  // All done.\n",
              "  yield {\n",
              "    response: {\n",
              "      action: 'complete',\n",
              "    }\n",
              "  };\n",
              "}\n",
              "\n",
              "scope.google = scope.google || {};\n",
              "scope.google.colab = scope.google.colab || {};\n",
              "scope.google.colab._files = {\n",
              "  _uploadFiles,\n",
              "  _uploadFilesContinue,\n",
              "};\n",
              "})(self);\n",
              "</script> "
            ]
          },
          "metadata": {}
        },
        {
          "output_type": "stream",
          "name": "stdout",
          "text": [
            "Saving kaggle.json to kaggle.json\n"
          ]
        },
        {
          "output_type": "execute_result",
          "data": {
            "text/plain": [
              "{'kaggle.json': b'{\"username\":\"nurulwahieda\",\"key\":\"da981fbe530fd1f2690e4485d6db0f8c\"}'}"
            ]
          },
          "metadata": {},
          "execution_count": 2
        }
      ],
      "source": [
        "# Upload the kaggle Token\n",
        "from google.colab import files\n",
        "files.upload()"
      ]
    },
    {
      "cell_type": "markdown",
      "metadata": {
        "id": "NXkQ7W7xP9R8"
      },
      "source": [
        "# Dataset Import"
      ]
    },
    {
      "cell_type": "code",
      "execution_count": 3,
      "metadata": {
        "colab": {
          "base_uri": "https://localhost:8080/"
        },
        "id": "YPy_SE2yAzJY",
        "outputId": "3d1c9ad8-5eb2-4c84-b7c5-f360fc914310"
      },
      "outputs": [
        {
          "output_type": "stream",
          "name": "stdout",
          "text": [
            "ref                                                    title                                        size  lastUpdated          downloadCount  voteCount  usabilityRating  \n",
            "-----------------------------------------------------  ------------------------------------------  -----  -------------------  -------------  ---------  ---------------  \n",
            "thedrcat/daigt-v2-train-dataset                        DAIGT V2 Train Dataset                       29MB  2023-11-16 01:38:36           2608        230  1.0              \n",
            "thedevastator/global-video-game-sales-and-ratings      Global Video Game Sales and Ratings          71KB  2023-12-20 06:46:32           1420         30  0.9411765        \n",
            "muhammadbinimran/housing-price-prediction-data         Housing Price Prediction Data               763KB  2023-11-21 17:56:32          11665        198  1.0              \n",
            "thedevastator/film-genre-statistics                    Film Genre Statistics                        36KB  2023-12-19 06:45:48            730         23  1.0              \n",
            "thedevastator/netflix-imdb-scores                      Netflix IMDB Scores                         699KB  2023-12-03 14:10:34           5081         91  1.0              \n",
            "manjitbaishya001/la-crime-data-2010-to-2023            Los Angeles Crime Data - 2010 to 2023       147MB  2023-12-19 13:20:31            895         25  1.0              \n",
            "henryshan/2023-data-scientists-salary                  2023 Data Scientists Salary                  25KB  2023-12-14 10:14:34           1473         32  1.0              \n",
            "henryshan/starbucks                                    Starbucks                                     5KB  2023-12-06 03:07:49           3711         79  1.0              \n",
            "manjitbaishya001/house-prices-2023                     Pakistan House Prices - 2023                  1MB  2023-12-15 18:57:24           1057         27  1.0              \n",
            "thedrcat/daigt-proper-train-dataset                    DAIGT Proper Train Dataset                  119MB  2023-11-05 14:03:25           2159        164  1.0              \n",
            "elvinrustam/books-dataset                              Books Dataset                                53MB  2023-12-20 20:46:34            670         22  1.0              \n",
            "thedrcat/daigt-external-train-dataset                  DAIGT External Train Dataset                435MB  2023-11-06 17:10:37            410         49  1.0              \n",
            "spoorthiuk/us-top-10k-artists-and-their-popular-songs  US Top 10K Artists and Their Popular Songs    3MB  2023-12-13 17:49:48           1512         36  1.0              \n",
            "willianoliveiragibin/drugsin-the-world                 drugsin the world                             7KB  2023-12-20 21:21:30            538         22  1.0              \n",
            "jacksondivakarr/phone-classification-dataset           Phone Classification Dataset                205KB  2023-12-12 15:21:07           1522         34  1.0              \n",
            "rafsunahmad/world-polluted-country-report              World Polluted Country Report                 5KB  2023-12-18 13:35:28           1128         27  1.0              \n",
            "everydaycodings/produce-prices-dataset                 Fruits and Vegetables Prices Dataset        232KB  2023-12-11 13:40:33           2336         44  1.0              \n",
            "thedevastator/online-retail-transaction-records        Online Retail Transaction Records             9MB  2023-12-21 02:44:20            624         23  0.7058824        \n",
            "nelgiriyewithana/australian-vehicle-prices             Australian Vehicle Prices                   582KB  2023-11-27 04:51:30           2645         74  1.0              \n",
            "adampq/pokemon-tcg-all-cards-1999-2023                 Pokemon TCG All Cards 1999 - 2023             2MB  2023-12-12 12:53:33            519         30  1.0              \n"
          ]
        }
      ],
      "source": [
        "! pip install kaggle --quiet\n",
        "! mkdir ~/.kaggle\n",
        "! cp kaggle.json ~/.kaggle/\n",
        "! chmod 600 ~/.kaggle/kaggle.json\n",
        "! kaggle datasets list"
      ]
    },
    {
      "cell_type": "code",
      "execution_count": 4,
      "metadata": {
        "colab": {
          "base_uri": "https://localhost:8080/"
        },
        "id": "ODfFwiZbMMo9",
        "outputId": "e8a7b3c1-bfa3-4ceb-a76d-3c066865492b"
      },
      "outputs": [
        {
          "output_type": "stream",
          "name": "stdout",
          "text": [
            "Downloading airline-delay-and-cancellation-data-2009-2018.zip to /content\n",
            "100% 1.95G/1.95G [01:07<00:00, 30.4MB/s]\n",
            "100% 1.95G/1.95G [01:07<00:00, 30.8MB/s]\n"
          ]
        }
      ],
      "source": [
        "!kaggle datasets download -d yuanyuwendymu/airline-delay-and-cancellation-data-2009-2018"
      ]
    },
    {
      "cell_type": "code",
      "execution_count": 5,
      "metadata": {
        "colab": {
          "base_uri": "https://localhost:8080/"
        },
        "id": "_ezmFHuDMSS0",
        "outputId": "54ecb629-608c-4f8f-d90e-9daa45d32e8b"
      },
      "outputs": [
        {
          "output_type": "stream",
          "name": "stdout",
          "text": [
            "Archive:  /content/airline-delay-and-cancellation-data-2009-2018.zip\n",
            "  inflating: 2009.csv                \n",
            "  inflating: 2010.csv                \n",
            "  inflating: 2011.csv                \n",
            "  inflating: 2012.csv                \n",
            "  inflating: 2013.csv                \n",
            "  inflating: 2014.csv                \n",
            "  inflating: 2015.csv                \n",
            "  inflating: 2016.csv                \n",
            "  inflating: 2017.csv                \n",
            "  inflating: 2018.csv                \n"
          ]
        }
      ],
      "source": [
        "!unzip -u \"/content/airline-delay-and-cancellation-data-2009-2018.zip\""
      ]
    },
    {
      "cell_type": "markdown",
      "metadata": {
        "id": "ZQ1byFhx-Exn"
      },
      "source": [
        "# Vaex Installation\n",
        "\n"
      ]
    },
    {
      "cell_type": "code",
      "execution_count": 6,
      "metadata": {
        "id": "B4gYZjR5P1QK"
      },
      "outputs": [],
      "source": [
        "%%capture\n",
        "%%bash\n",
        "python -m pip install -U pip\n",
        "python -m pip install vaex-core\n",
        "python -m pip install vaex-hdf5\n",
        "python -m pip install -U ipython ipykernel"
      ]
    },
    {
      "cell_type": "code",
      "execution_count": 7,
      "metadata": {
        "colab": {
          "base_uri": "https://localhost:8080/"
        },
        "id": "9qJ17GJnHvuf",
        "outputId": "efce721a-748e-4771-e5cd-af7483b7ca3b"
      },
      "outputs": [
        {
          "output_type": "stream",
          "name": "stdout",
          "text": [
            "Collecting vaex-viz\n",
            "  Downloading vaex_viz-0.5.4-py3-none-any.whl (19 kB)\n",
            "Requirement already satisfied: vaex-core<5,>=4.0.0 in /usr/local/lib/python3.10/dist-packages (from vaex-viz) (4.17.1)\n",
            "Requirement already satisfied: matplotlib>=1.3.1 in /usr/local/lib/python3.10/dist-packages (from vaex-viz) (3.7.1)\n",
            "Requirement already satisfied: pillow in /usr/local/lib/python3.10/dist-packages (from vaex-viz) (9.4.0)\n",
            "Requirement already satisfied: contourpy>=1.0.1 in /usr/local/lib/python3.10/dist-packages (from matplotlib>=1.3.1->vaex-viz) (1.2.0)\n",
            "Requirement already satisfied: cycler>=0.10 in /usr/local/lib/python3.10/dist-packages (from matplotlib>=1.3.1->vaex-viz) (0.12.1)\n",
            "Requirement already satisfied: fonttools>=4.22.0 in /usr/local/lib/python3.10/dist-packages (from matplotlib>=1.3.1->vaex-viz) (4.46.0)\n",
            "Requirement already satisfied: kiwisolver>=1.0.1 in /usr/local/lib/python3.10/dist-packages (from matplotlib>=1.3.1->vaex-viz) (1.4.5)\n",
            "Requirement already satisfied: numpy>=1.20 in /usr/local/lib/python3.10/dist-packages (from matplotlib>=1.3.1->vaex-viz) (1.23.5)\n",
            "Requirement already satisfied: packaging>=20.0 in /usr/local/lib/python3.10/dist-packages (from matplotlib>=1.3.1->vaex-viz) (23.2)\n",
            "Requirement already satisfied: pyparsing>=2.3.1 in /usr/local/lib/python3.10/dist-packages (from matplotlib>=1.3.1->vaex-viz) (3.1.1)\n",
            "Requirement already satisfied: python-dateutil>=2.7 in /usr/local/lib/python3.10/dist-packages (from matplotlib>=1.3.1->vaex-viz) (2.8.2)\n",
            "Requirement already satisfied: aplus in /usr/local/lib/python3.10/dist-packages (from vaex-core<5,>=4.0.0->vaex-viz) (0.11.0)\n",
            "Requirement already satisfied: tabulate>=0.8.3 in /usr/local/lib/python3.10/dist-packages (from vaex-core<5,>=4.0.0->vaex-viz) (0.9.0)\n",
            "Requirement already satisfied: future>=0.15.2 in /usr/local/lib/python3.10/dist-packages (from vaex-core<5,>=4.0.0->vaex-viz) (0.18.3)\n",
            "Requirement already satisfied: pyyaml in /usr/local/lib/python3.10/dist-packages (from vaex-core<5,>=4.0.0->vaex-viz) (6.0.1)\n",
            "Requirement already satisfied: progressbar2 in /usr/local/lib/python3.10/dist-packages (from vaex-core<5,>=4.0.0->vaex-viz) (4.2.0)\n",
            "Requirement already satisfied: requests in /usr/local/lib/python3.10/dist-packages (from vaex-core<5,>=4.0.0->vaex-viz) (2.31.0)\n",
            "Requirement already satisfied: six in /usr/local/lib/python3.10/dist-packages (from vaex-core<5,>=4.0.0->vaex-viz) (1.16.0)\n",
            "Requirement already satisfied: cloudpickle in /usr/local/lib/python3.10/dist-packages (from vaex-core<5,>=4.0.0->vaex-viz) (2.2.1)\n",
            "Requirement already satisfied: pandas in /usr/local/lib/python3.10/dist-packages (from vaex-core<5,>=4.0.0->vaex-viz) (1.5.3)\n",
            "Requirement already satisfied: dask!=2022.4.0 in /usr/local/lib/python3.10/dist-packages (from vaex-core<5,>=4.0.0->vaex-viz) (2023.8.1)\n",
            "Requirement already satisfied: nest-asyncio>=1.3.3 in /usr/local/lib/python3.10/dist-packages (from vaex-core<5,>=4.0.0->vaex-viz) (1.5.8)\n",
            "Requirement already satisfied: pyarrow>=5.0.0 in /usr/local/lib/python3.10/dist-packages (from vaex-core<5,>=4.0.0->vaex-viz) (10.0.1)\n",
            "Requirement already satisfied: frozendict!=2.2.0 in /usr/local/lib/python3.10/dist-packages (from vaex-core<5,>=4.0.0->vaex-viz) (2.3.10)\n",
            "Requirement already satisfied: blake3 in /usr/local/lib/python3.10/dist-packages (from vaex-core<5,>=4.0.0->vaex-viz) (0.3.4)\n",
            "Requirement already satisfied: filelock in /usr/local/lib/python3.10/dist-packages (from vaex-core<5,>=4.0.0->vaex-viz) (3.13.1)\n",
            "Requirement already satisfied: pydantic>=1.8.0 in /usr/local/lib/python3.10/dist-packages (from vaex-core<5,>=4.0.0->vaex-viz) (1.10.13)\n",
            "Requirement already satisfied: rich in /usr/local/lib/python3.10/dist-packages (from vaex-core<5,>=4.0.0->vaex-viz) (13.7.0)\n",
            "Requirement already satisfied: click>=8.0 in /usr/local/lib/python3.10/dist-packages (from dask!=2022.4.0->vaex-core<5,>=4.0.0->vaex-viz) (8.1.7)\n",
            "Requirement already satisfied: fsspec>=2021.09.0 in /usr/local/lib/python3.10/dist-packages (from dask!=2022.4.0->vaex-core<5,>=4.0.0->vaex-viz) (2023.6.0)\n",
            "Requirement already satisfied: partd>=1.2.0 in /usr/local/lib/python3.10/dist-packages (from dask!=2022.4.0->vaex-core<5,>=4.0.0->vaex-viz) (1.4.1)\n",
            "Requirement already satisfied: toolz>=0.10.0 in /usr/local/lib/python3.10/dist-packages (from dask!=2022.4.0->vaex-core<5,>=4.0.0->vaex-viz) (0.12.0)\n",
            "Requirement already satisfied: importlib-metadata>=4.13.0 in /usr/local/lib/python3.10/dist-packages (from dask!=2022.4.0->vaex-core<5,>=4.0.0->vaex-viz) (7.0.0)\n",
            "Requirement already satisfied: typing-extensions>=4.2.0 in /usr/local/lib/python3.10/dist-packages (from pydantic>=1.8.0->vaex-core<5,>=4.0.0->vaex-viz) (4.5.0)\n",
            "Requirement already satisfied: pytz>=2020.1 in /usr/local/lib/python3.10/dist-packages (from pandas->vaex-core<5,>=4.0.0->vaex-viz) (2023.3.post1)\n",
            "Requirement already satisfied: python-utils>=3.0.0 in /usr/local/lib/python3.10/dist-packages (from progressbar2->vaex-core<5,>=4.0.0->vaex-viz) (3.8.1)\n",
            "Requirement already satisfied: charset-normalizer<4,>=2 in /usr/local/lib/python3.10/dist-packages (from requests->vaex-core<5,>=4.0.0->vaex-viz) (3.3.2)\n",
            "Requirement already satisfied: idna<4,>=2.5 in /usr/local/lib/python3.10/dist-packages (from requests->vaex-core<5,>=4.0.0->vaex-viz) (3.6)\n",
            "Requirement already satisfied: urllib3<3,>=1.21.1 in /usr/local/lib/python3.10/dist-packages (from requests->vaex-core<5,>=4.0.0->vaex-viz) (2.0.7)\n",
            "Requirement already satisfied: certifi>=2017.4.17 in /usr/local/lib/python3.10/dist-packages (from requests->vaex-core<5,>=4.0.0->vaex-viz) (2023.11.17)\n",
            "Requirement already satisfied: markdown-it-py>=2.2.0 in /usr/local/lib/python3.10/dist-packages (from rich->vaex-core<5,>=4.0.0->vaex-viz) (3.0.0)\n",
            "Requirement already satisfied: pygments<3.0.0,>=2.13.0 in /usr/local/lib/python3.10/dist-packages (from rich->vaex-core<5,>=4.0.0->vaex-viz) (2.16.1)\n",
            "Requirement already satisfied: zipp>=0.5 in /usr/local/lib/python3.10/dist-packages (from importlib-metadata>=4.13.0->dask!=2022.4.0->vaex-core<5,>=4.0.0->vaex-viz) (3.17.0)\n",
            "Requirement already satisfied: mdurl~=0.1 in /usr/local/lib/python3.10/dist-packages (from markdown-it-py>=2.2.0->rich->vaex-core<5,>=4.0.0->vaex-viz) (0.1.2)\n",
            "Requirement already satisfied: locket in /usr/local/lib/python3.10/dist-packages (from partd>=1.2.0->dask!=2022.4.0->vaex-core<5,>=4.0.0->vaex-viz) (1.0.0)\n",
            "Installing collected packages: vaex-viz\n",
            "Successfully installed vaex-viz-0.5.4\n",
            "\u001b[33mWARNING: Running pip as the 'root' user can result in broken permissions and conflicting behaviour with the system package manager. It is recommended to use a virtual environment instead: https://pip.pypa.io/warnings/venv\u001b[0m\u001b[33m\n",
            "\u001b[0m"
          ]
        }
      ],
      "source": [
        "pip install vaex-viz"
      ]
    },
    {
      "cell_type": "code",
      "execution_count": 8,
      "metadata": {
        "id": "1-kp8S8uVrV4"
      },
      "outputs": [],
      "source": [
        "import vaex\n",
        "import gc\n",
        "import numpy as np\n",
        "import pandas as pd\n",
        "import warnings\n",
        "import time\n",
        "import gc\n",
        "import os"
      ]
    },
    {
      "cell_type": "markdown",
      "metadata": {
        "id": "OEc06QMpd8WT"
      },
      "source": [
        "# Function for Comparison"
      ]
    },
    {
      "cell_type": "markdown",
      "metadata": {
        "id": "0atfsAwkWcge"
      },
      "source": [
        "## Read file"
      ]
    },
    {
      "cell_type": "code",
      "execution_count": 23,
      "metadata": {
        "colab": {
          "base_uri": "https://localhost:8080/"
        },
        "id": "6nPRoIfkV85F",
        "outputId": "867cca68-ac40-4d61-e0fb-3629b6aa1674"
      },
      "outputs": [
        {
          "output_type": "stream",
          "name": "stdout",
          "text": [
            "CPU times: user 1.39 s, sys: 138 ms, total: 1.53 s\n",
            "Wall time: 868 ms\n"
          ]
        }
      ],
      "source": [
        "\n",
        "%%time\n",
        "df = vaex.open('/content/2018.csv')\n"
      ]
    },
    {
      "cell_type": "code",
      "execution_count": 24,
      "metadata": {
        "colab": {
          "base_uri": "https://localhost:8080/",
          "height": 520
        },
        "id": "YDrPW8KeWaMj",
        "outputId": "ae21bbb3-5ab5-43b3-976a-ee613b6f5471"
      },
      "outputs": [
        {
          "output_type": "stream",
          "name": "stdout",
          "text": [
            "CPU times: user 5 µs, sys: 0 ns, total: 5 µs\n",
            "Wall time: 9.06 µs\n"
          ]
        },
        {
          "output_type": "execute_result",
          "data": {
            "text/html": [
              "<table>\n",
              "<thead>\n",
              "<tr><th>#                                    </th><th>FL_DATE   </th><th>OP_CARRIER  </th><th>OP_CARRIER_FL_NUM  </th><th>ORIGIN  </th><th>DEST  </th><th>CRS_DEP_TIME  </th><th>DEP_TIME  </th><th>DEP_DELAY  </th><th>TAXI_OUT  </th><th>WHEELS_OFF  </th><th>WHEELS_ON  </th><th>TAXI_IN  </th><th>CRS_ARR_TIME  </th><th>ARR_TIME  </th><th>ARR_DELAY  </th><th>CANCELLED  </th><th>CANCELLATION_CODE  </th><th>DIVERTED  </th><th>CRS_ELAPSED_TIME  </th><th>ACTUAL_ELAPSED_TIME  </th><th>AIR_TIME  </th><th>DISTANCE  </th><th>CARRIER_DELAY  </th><th>WEATHER_DELAY  </th><th>NAS_DELAY  </th><th>SECURITY_DELAY  </th><th>LATE_AIRCRAFT_DELAY  </th><th>Unnamed: 27  </th></tr>\n",
              "</thead>\n",
              "<tbody>\n",
              "<tr><td><i style='opacity: 0.6'>0</i>        </td><td>2018-01-01</td><td>UA          </td><td>2429               </td><td>EWR     </td><td>DEN   </td><td>1517          </td><td>1512.0    </td><td>-5.0       </td><td>15.0      </td><td>1527.0      </td><td>1712.0     </td><td>10.0     </td><td>1745          </td><td>1722.0    </td><td>-23.0      </td><td>0.0        </td><td>                   </td><td>0.0       </td><td>268.0             </td><td>250.0                </td><td>225.0     </td><td>1605.0    </td><td>--             </td><td>--             </td><td>--         </td><td>--              </td><td>--                   </td><td>--           </td></tr>\n",
              "<tr><td><i style='opacity: 0.6'>1</i>        </td><td>2018-01-01</td><td>UA          </td><td>2427               </td><td>LAS     </td><td>SFO   </td><td>1115          </td><td>1107.0    </td><td>-8.0       </td><td>11.0      </td><td>1118.0      </td><td>1223.0     </td><td>7.0      </td><td>1254          </td><td>1230.0    </td><td>-24.0      </td><td>0.0        </td><td>                   </td><td>0.0       </td><td>99.0              </td><td>83.0                 </td><td>65.0      </td><td>414.0     </td><td>--             </td><td>--             </td><td>--         </td><td>--              </td><td>--                   </td><td>--           </td></tr>\n",
              "<tr><td><i style='opacity: 0.6'>2</i>        </td><td>2018-01-01</td><td>UA          </td><td>2426               </td><td>SNA     </td><td>DEN   </td><td>1335          </td><td>1330.0    </td><td>-5.0       </td><td>15.0      </td><td>1345.0      </td><td>1631.0     </td><td>5.0      </td><td>1649          </td><td>1636.0    </td><td>-13.0      </td><td>0.0        </td><td>                   </td><td>0.0       </td><td>134.0             </td><td>126.0                </td><td>106.0     </td><td>846.0     </td><td>--             </td><td>--             </td><td>--         </td><td>--              </td><td>--                   </td><td>--           </td></tr>\n",
              "<tr><td><i style='opacity: 0.6'>3</i>        </td><td>2018-01-01</td><td>UA          </td><td>2425               </td><td>RSW     </td><td>ORD   </td><td>1546          </td><td>1552.0    </td><td>6.0        </td><td>19.0      </td><td>1611.0      </td><td>1748.0     </td><td>6.0      </td><td>1756          </td><td>1754.0    </td><td>-2.0       </td><td>0.0        </td><td>                   </td><td>0.0       </td><td>190.0             </td><td>182.0                </td><td>157.0     </td><td>1120.0    </td><td>--             </td><td>--             </td><td>--         </td><td>--              </td><td>--                   </td><td>--           </td></tr>\n",
              "<tr><td><i style='opacity: 0.6'>4</i>        </td><td>2018-01-01</td><td>UA          </td><td>2424               </td><td>ORD     </td><td>ALB   </td><td>630           </td><td>650.0     </td><td>20.0       </td><td>13.0      </td><td>703.0       </td><td>926.0      </td><td>10.0     </td><td>922           </td><td>936.0     </td><td>14.0       </td><td>0.0        </td><td>                   </td><td>0.0       </td><td>112.0             </td><td>106.0                </td><td>83.0      </td><td>723.0     </td><td>--             </td><td>--             </td><td>--         </td><td>--              </td><td>--                   </td><td>--           </td></tr>\n",
              "<tr><td>...                                  </td><td>...       </td><td>...         </td><td>...                </td><td>...     </td><td>...   </td><td>...           </td><td>...       </td><td>...        </td><td>...       </td><td>...         </td><td>...        </td><td>...      </td><td>...           </td><td>...       </td><td>...        </td><td>...        </td><td>...                </td><td>...       </td><td>...               </td><td>...                  </td><td>...       </td><td>...       </td><td>...            </td><td>...            </td><td>...        </td><td>...             </td><td>...                  </td><td>...          </td></tr>\n",
              "<tr><td><i style='opacity: 0.6'>7,213,441</i></td><td>2018-12-31</td><td>AA          </td><td>1815               </td><td>DCA     </td><td>CLT   </td><td>1534          </td><td>1530.0    </td><td>-4.0       </td><td>20.0      </td><td>1550.0      </td><td>1702.0     </td><td>7.0      </td><td>1714          </td><td>1709.0    </td><td>-5.0       </td><td>0.0        </td><td>                   </td><td>0.0       </td><td>100.0             </td><td>99.0                 </td><td>72.0      </td><td>331.0     </td><td>--             </td><td>--             </td><td>--         </td><td>--              </td><td>--                   </td><td>--           </td></tr>\n",
              "<tr><td><i style='opacity: 0.6'>7,213,442</i></td><td>2018-12-31</td><td>AA          </td><td>1816               </td><td>CLT     </td><td>DFW   </td><td>1751          </td><td>1757.0    </td><td>6.0        </td><td>18.0      </td><td>1815.0      </td><td>1943.0     </td><td>10.0     </td><td>1952          </td><td>1953.0    </td><td>1.0        </td><td>0.0        </td><td>                   </td><td>0.0       </td><td>181.0             </td><td>176.0                </td><td>148.0     </td><td>936.0     </td><td>--             </td><td>--             </td><td>--         </td><td>--              </td><td>--                   </td><td>--           </td></tr>\n",
              "<tr><td><i style='opacity: 0.6'>7,213,443</i></td><td>2018-12-31</td><td>AA          </td><td>1817               </td><td>CLT     </td><td>MEM   </td><td>2015          </td><td>2010.0    </td><td>-5.0       </td><td>36.0      </td><td>2046.0      </td><td>2114.0     </td><td>4.0      </td><td>2107          </td><td>2118.0    </td><td>11.0       </td><td>0.0        </td><td>                   </td><td>0.0       </td><td>112.0             </td><td>128.0                </td><td>88.0      </td><td>511.0     </td><td>--             </td><td>--             </td><td>--         </td><td>--              </td><td>--                   </td><td>--           </td></tr>\n",
              "<tr><td><i style='opacity: 0.6'>7,213,444</i></td><td>2018-12-31</td><td>AA          </td><td>1818               </td><td>CLT     </td><td>RDU   </td><td>1300          </td><td>1323.0    </td><td>23.0       </td><td>11.0      </td><td>1334.0      </td><td>1400.0     </td><td>4.0      </td><td>1350          </td><td>1404.0    </td><td>14.0       </td><td>0.0        </td><td>                   </td><td>0.0       </td><td>50.0              </td><td>41.0                 </td><td>26.0      </td><td>130.0     </td><td>--             </td><td>--             </td><td>--         </td><td>--              </td><td>--                   </td><td>--           </td></tr>\n",
              "<tr><td><i style='opacity: 0.6'>7,213,445</i></td><td>2018-12-31</td><td>AA          </td><td>1818               </td><td>RDU     </td><td>CLT   </td><td>1435          </td><td>1443.0    </td><td>8.0        </td><td>8.0       </td><td>1451.0      </td><td>1535.0     </td><td>7.0      </td><td>1546          </td><td>1542.0    </td><td>-4.0       </td><td>0.0        </td><td>                   </td><td>0.0       </td><td>71.0              </td><td>59.0                 </td><td>44.0      </td><td>130.0     </td><td>--             </td><td>--             </td><td>--         </td><td>--              </td><td>--                   </td><td>--           </td></tr>\n",
              "</tbody>\n",
              "</table>"
            ],
            "text/plain": [
              "#          FL_DATE     OP_CARRIER    OP_CARRIER_FL_NUM    ORIGIN    DEST    CRS_DEP_TIME    DEP_TIME    DEP_DELAY    TAXI_OUT    WHEELS_OFF    WHEELS_ON    TAXI_IN    CRS_ARR_TIME    ARR_TIME    ARR_DELAY    CANCELLED    CANCELLATION_CODE    DIVERTED    CRS_ELAPSED_TIME    ACTUAL_ELAPSED_TIME    AIR_TIME    DISTANCE    CARRIER_DELAY    WEATHER_DELAY    NAS_DELAY    SECURITY_DELAY    LATE_AIRCRAFT_DELAY    Unnamed: 27\n",
              "0          2018-01-01  UA            2429                 EWR       DEN     1517            1512.0      -5.0         15.0        1527.0        1712.0       10.0       1745            1722.0      -23.0        0.0                               0.0         268.0               250.0                  225.0       1605.0      --               --               --           --                --                     --\n",
              "1          2018-01-01  UA            2427                 LAS       SFO     1115            1107.0      -8.0         11.0        1118.0        1223.0       7.0        1254            1230.0      -24.0        0.0                               0.0         99.0                83.0                   65.0        414.0       --               --               --           --                --                     --\n",
              "2          2018-01-01  UA            2426                 SNA       DEN     1335            1330.0      -5.0         15.0        1345.0        1631.0       5.0        1649            1636.0      -13.0        0.0                               0.0         134.0               126.0                  106.0       846.0       --               --               --           --                --                     --\n",
              "3          2018-01-01  UA            2425                 RSW       ORD     1546            1552.0      6.0          19.0        1611.0        1748.0       6.0        1756            1754.0      -2.0         0.0                               0.0         190.0               182.0                  157.0       1120.0      --               --               --           --                --                     --\n",
              "4          2018-01-01  UA            2424                 ORD       ALB     630             650.0       20.0         13.0        703.0         926.0        10.0       922             936.0       14.0         0.0                               0.0         112.0               106.0                  83.0        723.0       --               --               --           --                --                     --\n",
              "...        ...         ...           ...                  ...       ...     ...             ...         ...          ...         ...           ...          ...        ...             ...         ...          ...          ...                  ...         ...                 ...                    ...         ...         ...              ...              ...          ...               ...                    ...\n",
              "7,213,441  2018-12-31  AA            1815                 DCA       CLT     1534            1530.0      -4.0         20.0        1550.0        1702.0       7.0        1714            1709.0      -5.0         0.0                               0.0         100.0               99.0                   72.0        331.0       --               --               --           --                --                     --\n",
              "7,213,442  2018-12-31  AA            1816                 CLT       DFW     1751            1757.0      6.0          18.0        1815.0        1943.0       10.0       1952            1953.0      1.0          0.0                               0.0         181.0               176.0                  148.0       936.0       --               --               --           --                --                     --\n",
              "7,213,443  2018-12-31  AA            1817                 CLT       MEM     2015            2010.0      -5.0         36.0        2046.0        2114.0       4.0        2107            2118.0      11.0         0.0                               0.0         112.0               128.0                  88.0        511.0       --               --               --           --                --                     --\n",
              "7,213,444  2018-12-31  AA            1818                 CLT       RDU     1300            1323.0      23.0         11.0        1334.0        1400.0       4.0        1350            1404.0      14.0         0.0                               0.0         50.0                41.0                   26.0        130.0       --               --               --           --                --                     --\n",
              "7,213,445  2018-12-31  AA            1818                 RDU       CLT     1435            1443.0      8.0          8.0         1451.0        1535.0       7.0        1546            1542.0      -4.0         0.0                               0.0         71.0                59.0                   44.0        130.0       --               --               --           --                --                     --"
            ]
          },
          "metadata": {},
          "execution_count": 24
        }
      ],
      "source": [
        "%%time\n",
        "df"
      ]
    },
    {
      "cell_type": "markdown",
      "metadata": {
        "id": "UmV_eLihlbAJ"
      },
      "source": [
        "## Data Understanding"
      ]
    },
    {
      "cell_type": "code",
      "execution_count": 25,
      "metadata": {
        "colab": {
          "base_uri": "https://localhost:8080/",
          "height": 306
        },
        "id": "9wVRnLoq4pGy",
        "outputId": "c5927bd4-c93d-4dc5-90e0-edcef019d9fc"
      },
      "outputs": [
        {
          "output_type": "stream",
          "name": "stdout",
          "text": [
            "CPU times: user 1.62 ms, sys: 0 ns, total: 1.62 ms\n",
            "Wall time: 1.64 ms\n"
          ]
        },
        {
          "output_type": "execute_result",
          "data": {
            "text/html": [
              "<table>\n",
              "<thead>\n",
              "<tr><th>#                            </th><th>FL_DATE   </th><th>OP_CARRIER  </th><th style=\"text-align: right;\">  OP_CARRIER_FL_NUM</th><th>ORIGIN  </th><th>DEST  </th><th style=\"text-align: right;\">  CRS_DEP_TIME</th><th style=\"text-align: right;\">  DEP_TIME</th><th style=\"text-align: right;\">  DEP_DELAY</th><th style=\"text-align: right;\">  TAXI_OUT</th><th style=\"text-align: right;\">  WHEELS_OFF</th><th style=\"text-align: right;\">  WHEELS_ON</th><th style=\"text-align: right;\">  TAXI_IN</th><th style=\"text-align: right;\">  CRS_ARR_TIME</th><th style=\"text-align: right;\">  ARR_TIME</th><th style=\"text-align: right;\">  ARR_DELAY</th><th style=\"text-align: right;\">  CANCELLED</th><th>CANCELLATION_CODE  </th><th style=\"text-align: right;\">  DIVERTED</th><th style=\"text-align: right;\">  CRS_ELAPSED_TIME</th><th style=\"text-align: right;\">  ACTUAL_ELAPSED_TIME</th><th style=\"text-align: right;\">  AIR_TIME</th><th style=\"text-align: right;\">  DISTANCE</th><th>CARRIER_DELAY  </th><th>WEATHER_DELAY  </th><th>NAS_DELAY  </th><th>SECURITY_DELAY  </th><th>LATE_AIRCRAFT_DELAY  </th><th>Unnamed: 27  </th></tr>\n",
              "</thead>\n",
              "<tbody>\n",
              "<tr><td><i style='opacity: 0.6'>0</i></td><td>2018-01-01</td><td>UA          </td><td style=\"text-align: right;\">               2429</td><td>EWR     </td><td>DEN   </td><td style=\"text-align: right;\">          1517</td><td style=\"text-align: right;\">      1512</td><td style=\"text-align: right;\">         -5</td><td style=\"text-align: right;\">        15</td><td style=\"text-align: right;\">        1527</td><td style=\"text-align: right;\">       1712</td><td style=\"text-align: right;\">       10</td><td style=\"text-align: right;\">          1745</td><td style=\"text-align: right;\">      1722</td><td style=\"text-align: right;\">        -23</td><td style=\"text-align: right;\">          0</td><td>                   </td><td style=\"text-align: right;\">         0</td><td style=\"text-align: right;\">               268</td><td style=\"text-align: right;\">                  250</td><td style=\"text-align: right;\">       225</td><td style=\"text-align: right;\">      1605</td><td>--             </td><td>--             </td><td>--         </td><td>--              </td><td>--                   </td><td>--           </td></tr>\n",
              "<tr><td><i style='opacity: 0.6'>1</i></td><td>2018-01-01</td><td>UA          </td><td style=\"text-align: right;\">               2427</td><td>LAS     </td><td>SFO   </td><td style=\"text-align: right;\">          1115</td><td style=\"text-align: right;\">      1107</td><td style=\"text-align: right;\">         -8</td><td style=\"text-align: right;\">        11</td><td style=\"text-align: right;\">        1118</td><td style=\"text-align: right;\">       1223</td><td style=\"text-align: right;\">        7</td><td style=\"text-align: right;\">          1254</td><td style=\"text-align: right;\">      1230</td><td style=\"text-align: right;\">        -24</td><td style=\"text-align: right;\">          0</td><td>                   </td><td style=\"text-align: right;\">         0</td><td style=\"text-align: right;\">                99</td><td style=\"text-align: right;\">                   83</td><td style=\"text-align: right;\">        65</td><td style=\"text-align: right;\">       414</td><td>--             </td><td>--             </td><td>--         </td><td>--              </td><td>--                   </td><td>--           </td></tr>\n",
              "<tr><td><i style='opacity: 0.6'>2</i></td><td>2018-01-01</td><td>UA          </td><td style=\"text-align: right;\">               2426</td><td>SNA     </td><td>DEN   </td><td style=\"text-align: right;\">          1335</td><td style=\"text-align: right;\">      1330</td><td style=\"text-align: right;\">         -5</td><td style=\"text-align: right;\">        15</td><td style=\"text-align: right;\">        1345</td><td style=\"text-align: right;\">       1631</td><td style=\"text-align: right;\">        5</td><td style=\"text-align: right;\">          1649</td><td style=\"text-align: right;\">      1636</td><td style=\"text-align: right;\">        -13</td><td style=\"text-align: right;\">          0</td><td>                   </td><td style=\"text-align: right;\">         0</td><td style=\"text-align: right;\">               134</td><td style=\"text-align: right;\">                  126</td><td style=\"text-align: right;\">       106</td><td style=\"text-align: right;\">       846</td><td>--             </td><td>--             </td><td>--         </td><td>--              </td><td>--                   </td><td>--           </td></tr>\n",
              "<tr><td><i style='opacity: 0.6'>3</i></td><td>2018-01-01</td><td>UA          </td><td style=\"text-align: right;\">               2425</td><td>RSW     </td><td>ORD   </td><td style=\"text-align: right;\">          1546</td><td style=\"text-align: right;\">      1552</td><td style=\"text-align: right;\">          6</td><td style=\"text-align: right;\">        19</td><td style=\"text-align: right;\">        1611</td><td style=\"text-align: right;\">       1748</td><td style=\"text-align: right;\">        6</td><td style=\"text-align: right;\">          1756</td><td style=\"text-align: right;\">      1754</td><td style=\"text-align: right;\">         -2</td><td style=\"text-align: right;\">          0</td><td>                   </td><td style=\"text-align: right;\">         0</td><td style=\"text-align: right;\">               190</td><td style=\"text-align: right;\">                  182</td><td style=\"text-align: right;\">       157</td><td style=\"text-align: right;\">      1120</td><td>--             </td><td>--             </td><td>--         </td><td>--              </td><td>--                   </td><td>--           </td></tr>\n",
              "<tr><td><i style='opacity: 0.6'>4</i></td><td>2018-01-01</td><td>UA          </td><td style=\"text-align: right;\">               2424</td><td>ORD     </td><td>ALB   </td><td style=\"text-align: right;\">           630</td><td style=\"text-align: right;\">       650</td><td style=\"text-align: right;\">         20</td><td style=\"text-align: right;\">        13</td><td style=\"text-align: right;\">         703</td><td style=\"text-align: right;\">        926</td><td style=\"text-align: right;\">       10</td><td style=\"text-align: right;\">           922</td><td style=\"text-align: right;\">       936</td><td style=\"text-align: right;\">         14</td><td style=\"text-align: right;\">          0</td><td>                   </td><td style=\"text-align: right;\">         0</td><td style=\"text-align: right;\">               112</td><td style=\"text-align: right;\">                  106</td><td style=\"text-align: right;\">        83</td><td style=\"text-align: right;\">       723</td><td>--             </td><td>--             </td><td>--         </td><td>--              </td><td>--                   </td><td>--           </td></tr>\n",
              "</tbody>\n",
              "</table>"
            ],
            "text/plain": [
              "  #  FL_DATE     OP_CARRIER      OP_CARRIER_FL_NUM  ORIGIN    DEST      CRS_DEP_TIME    DEP_TIME    DEP_DELAY    TAXI_OUT    WHEELS_OFF    WHEELS_ON    TAXI_IN    CRS_ARR_TIME    ARR_TIME    ARR_DELAY    CANCELLED  CANCELLATION_CODE      DIVERTED    CRS_ELAPSED_TIME    ACTUAL_ELAPSED_TIME    AIR_TIME    DISTANCE  CARRIER_DELAY    WEATHER_DELAY    NAS_DELAY    SECURITY_DELAY    LATE_AIRCRAFT_DELAY    Unnamed: 27\n",
              "  0  2018-01-01  UA                           2429  EWR       DEN               1517        1512           -5          15          1527         1712         10            1745        1722          -23            0                                0                 268                    250         225        1605  --               --               --           --                --                     --\n",
              "  1  2018-01-01  UA                           2427  LAS       SFO               1115        1107           -8          11          1118         1223          7            1254        1230          -24            0                                0                  99                     83          65         414  --               --               --           --                --                     --\n",
              "  2  2018-01-01  UA                           2426  SNA       DEN               1335        1330           -5          15          1345         1631          5            1649        1636          -13            0                                0                 134                    126         106         846  --               --               --           --                --                     --\n",
              "  3  2018-01-01  UA                           2425  RSW       ORD               1546        1552            6          19          1611         1748          6            1756        1754           -2            0                                0                 190                    182         157        1120  --               --               --           --                --                     --\n",
              "  4  2018-01-01  UA                           2424  ORD       ALB                630         650           20          13           703          926         10             922         936           14            0                                0                 112                    106          83         723  --               --               --           --                --                     --"
            ]
          },
          "metadata": {},
          "execution_count": 25
        }
      ],
      "source": [
        "%%time\n",
        "\n",
        "df.head(5)"
      ]
    },
    {
      "cell_type": "code",
      "execution_count": 26,
      "metadata": {
        "colab": {
          "base_uri": "https://localhost:8080/",
          "height": 1000
        },
        "id": "y3DtcGBPiZRE",
        "outputId": "5195ff9d-59c9-4916-d273-56f0a264bd57"
      },
      "outputs": [
        {
          "output_type": "display_data",
          "data": {
            "text/plain": [
              "<IPython.core.display.HTML object>"
            ],
            "text/html": [
              "<style>.vaex-description pre {\n",
              "          max-width : 450px;\n",
              "          white-space : nowrap;\n",
              "          overflow : hidden;\n",
              "          text-overflow: ellipsis;\n",
              "        }\n",
              "\n",
              "        .vex-description pre:hover {\n",
              "          max-width : initial;\n",
              "          white-space: pre;\n",
              "        }</style>"
            ]
          },
          "metadata": {}
        },
        {
          "output_type": "display_data",
          "data": {
            "text/plain": [
              "<IPython.core.display.HTML object>"
            ],
            "text/html": [
              "<div><h2>2018</h2> <b>rows</b>: 7,213,446</div><h2>Columns:</h2><table class='table-striped'><thead><tr><th>column</th><th>type</th><th>unit</th><th>description</th><th>expression</th></tr></thead><tr><td>FL_DATE</td><td>date32[day]</td><td></td><td ><pre></pre></td><td></td></tr><tr><td>OP_CARRIER</td><td>str</td><td></td><td ><pre></pre></td><td></td></tr><tr><td>OP_CARRIER_FL_NUM</td><td>int64</td><td></td><td ><pre></pre></td><td></td></tr><tr><td>ORIGIN</td><td>str</td><td></td><td ><pre></pre></td><td></td></tr><tr><td>DEST</td><td>str</td><td></td><td ><pre></pre></td><td></td></tr><tr><td>CRS_DEP_TIME</td><td>int64</td><td></td><td ><pre></pre></td><td></td></tr><tr><td>DEP_TIME</td><td>float64</td><td></td><td ><pre></pre></td><td></td></tr><tr><td>DEP_DELAY</td><td>float64</td><td></td><td ><pre></pre></td><td></td></tr><tr><td>TAXI_OUT</td><td>float64</td><td></td><td ><pre></pre></td><td></td></tr><tr><td>WHEELS_OFF</td><td>float64</td><td></td><td ><pre></pre></td><td></td></tr><tr><td>WHEELS_ON</td><td>float64</td><td></td><td ><pre></pre></td><td></td></tr><tr><td>TAXI_IN</td><td>float64</td><td></td><td ><pre></pre></td><td></td></tr><tr><td>CRS_ARR_TIME</td><td>int64</td><td></td><td ><pre></pre></td><td></td></tr><tr><td>ARR_TIME</td><td>float64</td><td></td><td ><pre></pre></td><td></td></tr><tr><td>ARR_DELAY</td><td>float64</td><td></td><td ><pre></pre></td><td></td></tr><tr><td>CANCELLED</td><td>float64</td><td></td><td ><pre></pre></td><td></td></tr><tr><td>CANCELLATION_CODE</td><td>str</td><td></td><td ><pre></pre></td><td></td></tr><tr><td>DIVERTED</td><td>float64</td><td></td><td ><pre></pre></td><td></td></tr><tr><td>CRS_ELAPSED_TIME</td><td>float64</td><td></td><td ><pre></pre></td><td></td></tr><tr><td>ACTUAL_ELAPSED_TIME</td><td>float64</td><td></td><td ><pre></pre></td><td></td></tr><tr><td>AIR_TIME</td><td>float64</td><td></td><td ><pre></pre></td><td></td></tr><tr><td>DISTANCE</td><td>float64</td><td></td><td ><pre></pre></td><td></td></tr><tr><td>CARRIER_DELAY</td><td>float64</td><td></td><td ><pre></pre></td><td></td></tr><tr><td>WEATHER_DELAY</td><td>float64</td><td></td><td ><pre></pre></td><td></td></tr><tr><td>NAS_DELAY</td><td>float64</td><td></td><td ><pre></pre></td><td></td></tr><tr><td>SECURITY_DELAY</td><td>float64</td><td></td><td ><pre></pre></td><td></td></tr><tr><td>LATE_AIRCRAFT_DELAY</td><td>float64</td><td></td><td ><pre></pre></td><td></td></tr><tr><td>Unnamed: 27</td><td>int8</td><td></td><td ><pre></pre></td><td></td></tr></table><h2>Data:</h2><table>\n",
              "<thead>\n",
              "<tr><th>#                                    </th><th>FL_DATE   </th><th>OP_CARRIER  </th><th>OP_CARRIER_FL_NUM  </th><th>ORIGIN  </th><th>DEST  </th><th>CRS_DEP_TIME  </th><th>DEP_TIME  </th><th>DEP_DELAY  </th><th>TAXI_OUT  </th><th>WHEELS_OFF  </th><th>WHEELS_ON  </th><th>TAXI_IN  </th><th>CRS_ARR_TIME  </th><th>ARR_TIME  </th><th>ARR_DELAY  </th><th>CANCELLED  </th><th>CANCELLATION_CODE  </th><th>DIVERTED  </th><th>CRS_ELAPSED_TIME  </th><th>ACTUAL_ELAPSED_TIME  </th><th>AIR_TIME  </th><th>DISTANCE  </th><th>CARRIER_DELAY  </th><th>WEATHER_DELAY  </th><th>NAS_DELAY  </th><th>SECURITY_DELAY  </th><th>LATE_AIRCRAFT_DELAY  </th><th>Unnamed: 27  </th></tr>\n",
              "</thead>\n",
              "<tbody>\n",
              "<tr><td><i style='opacity: 0.6'>0</i>        </td><td>2018-01-01</td><td>UA          </td><td>2429               </td><td>EWR     </td><td>DEN   </td><td>1517          </td><td>1512.0    </td><td>-5.0       </td><td>15.0      </td><td>1527.0      </td><td>1712.0     </td><td>10.0     </td><td>1745          </td><td>1722.0    </td><td>-23.0      </td><td>0.0        </td><td>                   </td><td>0.0       </td><td>268.0             </td><td>250.0                </td><td>225.0     </td><td>1605.0    </td><td>--             </td><td>--             </td><td>--         </td><td>--              </td><td>--                   </td><td>--           </td></tr>\n",
              "<tr><td><i style='opacity: 0.6'>1</i>        </td><td>2018-01-01</td><td>UA          </td><td>2427               </td><td>LAS     </td><td>SFO   </td><td>1115          </td><td>1107.0    </td><td>-8.0       </td><td>11.0      </td><td>1118.0      </td><td>1223.0     </td><td>7.0      </td><td>1254          </td><td>1230.0    </td><td>-24.0      </td><td>0.0        </td><td>                   </td><td>0.0       </td><td>99.0              </td><td>83.0                 </td><td>65.0      </td><td>414.0     </td><td>--             </td><td>--             </td><td>--         </td><td>--              </td><td>--                   </td><td>--           </td></tr>\n",
              "<tr><td><i style='opacity: 0.6'>2</i>        </td><td>2018-01-01</td><td>UA          </td><td>2426               </td><td>SNA     </td><td>DEN   </td><td>1335          </td><td>1330.0    </td><td>-5.0       </td><td>15.0      </td><td>1345.0      </td><td>1631.0     </td><td>5.0      </td><td>1649          </td><td>1636.0    </td><td>-13.0      </td><td>0.0        </td><td>                   </td><td>0.0       </td><td>134.0             </td><td>126.0                </td><td>106.0     </td><td>846.0     </td><td>--             </td><td>--             </td><td>--         </td><td>--              </td><td>--                   </td><td>--           </td></tr>\n",
              "<tr><td><i style='opacity: 0.6'>3</i>        </td><td>2018-01-01</td><td>UA          </td><td>2425               </td><td>RSW     </td><td>ORD   </td><td>1546          </td><td>1552.0    </td><td>6.0        </td><td>19.0      </td><td>1611.0      </td><td>1748.0     </td><td>6.0      </td><td>1756          </td><td>1754.0    </td><td>-2.0       </td><td>0.0        </td><td>                   </td><td>0.0       </td><td>190.0             </td><td>182.0                </td><td>157.0     </td><td>1120.0    </td><td>--             </td><td>--             </td><td>--         </td><td>--              </td><td>--                   </td><td>--           </td></tr>\n",
              "<tr><td><i style='opacity: 0.6'>4</i>        </td><td>2018-01-01</td><td>UA          </td><td>2424               </td><td>ORD     </td><td>ALB   </td><td>630           </td><td>650.0     </td><td>20.0       </td><td>13.0      </td><td>703.0       </td><td>926.0      </td><td>10.0     </td><td>922           </td><td>936.0     </td><td>14.0       </td><td>0.0        </td><td>                   </td><td>0.0       </td><td>112.0             </td><td>106.0                </td><td>83.0      </td><td>723.0     </td><td>--             </td><td>--             </td><td>--         </td><td>--              </td><td>--                   </td><td>--           </td></tr>\n",
              "<tr><td>...                                  </td><td>...       </td><td>...         </td><td>...                </td><td>...     </td><td>...   </td><td>...           </td><td>...       </td><td>...        </td><td>...       </td><td>...         </td><td>...        </td><td>...      </td><td>...           </td><td>...       </td><td>...        </td><td>...        </td><td>...                </td><td>...       </td><td>...               </td><td>...                  </td><td>...       </td><td>...       </td><td>...            </td><td>...            </td><td>...        </td><td>...             </td><td>...                  </td><td>...          </td></tr>\n",
              "<tr><td><i style='opacity: 0.6'>7,213,441</i></td><td>2018-12-31</td><td>AA          </td><td>1815               </td><td>DCA     </td><td>CLT   </td><td>1534          </td><td>1530.0    </td><td>-4.0       </td><td>20.0      </td><td>1550.0      </td><td>1702.0     </td><td>7.0      </td><td>1714          </td><td>1709.0    </td><td>-5.0       </td><td>0.0        </td><td>                   </td><td>0.0       </td><td>100.0             </td><td>99.0                 </td><td>72.0      </td><td>331.0     </td><td>--             </td><td>--             </td><td>--         </td><td>--              </td><td>--                   </td><td>--           </td></tr>\n",
              "<tr><td><i style='opacity: 0.6'>7,213,442</i></td><td>2018-12-31</td><td>AA          </td><td>1816               </td><td>CLT     </td><td>DFW   </td><td>1751          </td><td>1757.0    </td><td>6.0        </td><td>18.0      </td><td>1815.0      </td><td>1943.0     </td><td>10.0     </td><td>1952          </td><td>1953.0    </td><td>1.0        </td><td>0.0        </td><td>                   </td><td>0.0       </td><td>181.0             </td><td>176.0                </td><td>148.0     </td><td>936.0     </td><td>--             </td><td>--             </td><td>--         </td><td>--              </td><td>--                   </td><td>--           </td></tr>\n",
              "<tr><td><i style='opacity: 0.6'>7,213,443</i></td><td>2018-12-31</td><td>AA          </td><td>1817               </td><td>CLT     </td><td>MEM   </td><td>2015          </td><td>2010.0    </td><td>-5.0       </td><td>36.0      </td><td>2046.0      </td><td>2114.0     </td><td>4.0      </td><td>2107          </td><td>2118.0    </td><td>11.0       </td><td>0.0        </td><td>                   </td><td>0.0       </td><td>112.0             </td><td>128.0                </td><td>88.0      </td><td>511.0     </td><td>--             </td><td>--             </td><td>--         </td><td>--              </td><td>--                   </td><td>--           </td></tr>\n",
              "<tr><td><i style='opacity: 0.6'>7,213,444</i></td><td>2018-12-31</td><td>AA          </td><td>1818               </td><td>CLT     </td><td>RDU   </td><td>1300          </td><td>1323.0    </td><td>23.0       </td><td>11.0      </td><td>1334.0      </td><td>1400.0     </td><td>4.0      </td><td>1350          </td><td>1404.0    </td><td>14.0       </td><td>0.0        </td><td>                   </td><td>0.0       </td><td>50.0              </td><td>41.0                 </td><td>26.0      </td><td>130.0     </td><td>--             </td><td>--             </td><td>--         </td><td>--              </td><td>--                   </td><td>--           </td></tr>\n",
              "<tr><td><i style='opacity: 0.6'>7,213,445</i></td><td>2018-12-31</td><td>AA          </td><td>1818               </td><td>RDU     </td><td>CLT   </td><td>1435          </td><td>1443.0    </td><td>8.0        </td><td>8.0       </td><td>1451.0      </td><td>1535.0     </td><td>7.0      </td><td>1546          </td><td>1542.0    </td><td>-4.0       </td><td>0.0        </td><td>                   </td><td>0.0       </td><td>71.0              </td><td>59.0                 </td><td>44.0      </td><td>130.0     </td><td>--             </td><td>--             </td><td>--         </td><td>--              </td><td>--                   </td><td>--           </td></tr>\n",
              "</tbody>\n",
              "</table>"
            ]
          },
          "metadata": {}
        },
        {
          "output_type": "stream",
          "name": "stdout",
          "text": [
            "CPU times: user 2.95 s, sys: 161 ms, total: 3.11 s\n",
            "Wall time: 3.15 s\n"
          ]
        }
      ],
      "source": [
        "%%time\n",
        "\n",
        "df.info()"
      ]
    },
    {
      "cell_type": "markdown",
      "metadata": {
        "id": "Nf2bWrNygtxN"
      },
      "source": [
        "## Count"
      ]
    },
    {
      "cell_type": "code",
      "execution_count": 29,
      "metadata": {
        "id": "L1iT5Pg4gxKd",
        "colab": {
          "base_uri": "https://localhost:8080/"
        },
        "outputId": "b57ef22c-6827-459f-8d77-51055b4b337f"
      },
      "outputs": [
        {
          "output_type": "stream",
          "name": "stdout",
          "text": [
            "size: 7213446 with 28 columns\n"
          ]
        }
      ],
      "source": [
        "print(f\"size: {len(df)} with {len(df.columns)} columns\")"
      ]
    },
    {
      "cell_type": "code",
      "execution_count": 30,
      "metadata": {
        "id": "B2pKnurNg11o",
        "colab": {
          "base_uri": "https://localhost:8080/"
        },
        "outputId": "0dee8b80-af0f-471a-805f-c2aec99b5152"
      },
      "outputs": [
        {
          "output_type": "stream",
          "name": "stdout",
          "text": [
            "CPU times: user 23 µs, sys: 0 ns, total: 23 µs\n",
            "Wall time: 27.7 µs\n"
          ]
        },
        {
          "output_type": "execute_result",
          "data": {
            "text/plain": [
              "7213446"
            ]
          },
          "metadata": {},
          "execution_count": 30
        }
      ],
      "source": [
        "%%time\n",
        "len(df)"
      ]
    },
    {
      "cell_type": "code",
      "execution_count": 35,
      "metadata": {
        "id": "P21f7HFmu85w",
        "colab": {
          "base_uri": "https://localhost:8080/"
        },
        "outputId": "37203a28-8482-46cd-d560-6e681d87ff68"
      },
      "outputs": [
        {
          "output_type": "stream",
          "name": "stdout",
          "text": [
            "CPU times: user 7.77 s, sys: 497 ms, total: 8.27 s\n",
            "Wall time: 6.06 s\n"
          ]
        }
      ],
      "source": [
        "%%time\n",
        "count_ft = df['DEP_DELAY'].count()"
      ]
    },
    {
      "cell_type": "markdown",
      "metadata": {
        "id": "vj_4KBGFhz6X"
      },
      "source": [
        "## Mean"
      ]
    },
    {
      "cell_type": "code",
      "execution_count": 36,
      "metadata": {
        "id": "77iKB1p5hzR7",
        "colab": {
          "base_uri": "https://localhost:8080/"
        },
        "outputId": "93a628cd-b9e4-4992-89a0-9a36810dc476"
      },
      "outputs": [
        {
          "output_type": "stream",
          "name": "stdout",
          "text": [
            "CPU times: user 7.49 s, sys: 392 ms, total: 7.88 s\n",
            "Wall time: 4.33 s\n"
          ]
        },
        {
          "output_type": "execute_result",
          "data": {
            "text/plain": [
              "array(9.96985843)"
            ]
          },
          "metadata": {},
          "execution_count": 36
        }
      ],
      "source": [
        "%%time\n",
        "\n",
        "#integer\n",
        "df.DEP_DELAY.mean()"
      ]
    },
    {
      "cell_type": "code",
      "execution_count": 37,
      "metadata": {
        "id": "1R92Bz7SltQ5",
        "colab": {
          "base_uri": "https://localhost:8080/"
        },
        "outputId": "74122208-be59-4f7a-d417-88abd454c10b"
      },
      "outputs": [
        {
          "output_type": "stream",
          "name": "stdout",
          "text": [
            "CPU times: user 7.53 s, sys: 454 ms, total: 7.98 s\n",
            "Wall time: 4.45 s\n"
          ]
        },
        {
          "output_type": "execute_result",
          "data": {
            "text/plain": [
              "array(1333.8538055)"
            ]
          },
          "metadata": {},
          "execution_count": 37
        }
      ],
      "source": [
        "%%time\n",
        "\n",
        "#float\n",
        "df.DEP_TIME.mean()"
      ]
    },
    {
      "cell_type": "markdown",
      "metadata": {
        "id": "IudI8YiviCNB"
      },
      "source": [
        "## Standard Deviation"
      ]
    },
    {
      "cell_type": "code",
      "execution_count": 38,
      "metadata": {
        "colab": {
          "base_uri": "https://localhost:8080/"
        },
        "id": "wzDzS8fglkjr",
        "outputId": "ba43b935-b5f3-4af6-c243-9ef650e68030"
      },
      "outputs": [
        {
          "output_type": "stream",
          "name": "stdout",
          "text": [
            "CPU times: user 10.8 s, sys: 1.9 s, total: 12.7 s\n",
            "Wall time: 12.2 s\n"
          ]
        },
        {
          "output_type": "execute_result",
          "data": {
            "text/plain": [
              "44.82963760599384"
            ]
          },
          "metadata": {},
          "execution_count": 38
        }
      ],
      "source": [
        "%%time\n",
        "\n",
        "#integer\n",
        "df.DEP_DELAY.std()"
      ]
    },
    {
      "cell_type": "markdown",
      "metadata": {
        "id": "rT3kk_mhiN5y"
      },
      "source": [
        "## Sum columns"
      ]
    },
    {
      "cell_type": "code",
      "execution_count": 39,
      "metadata": {
        "colab": {
          "base_uri": "https://localhost:8080/"
        },
        "id": "br3pY_sSlk73",
        "outputId": "8ad04af4-a5e1-49eb-8f31-8e429d931aa9"
      },
      "outputs": [
        {
          "output_type": "stream",
          "name": "stdout",
          "text": [
            "CPU times: user 318 µs, sys: 0 ns, total: 318 µs\n",
            "Wall time: 325 µs\n"
          ]
        },
        {
          "output_type": "execute_result",
          "data": {
            "text/plain": [
              "Expression = (DEP_DELAY + AIR_TIME)\n",
              "Length: 7,213,446 dtype: float64 (expression)\n",
              "---------------------------------------------\n",
              "      0  220\n",
              "      1   57\n",
              "      2  101\n",
              "      3  163\n",
              "      4  103\n",
              "    ...     \n",
              "7213441   68\n",
              "7213442  154\n",
              "7213443   83\n",
              "7213444   49\n",
              "7213445   52"
            ]
          },
          "metadata": {},
          "execution_count": 39
        }
      ],
      "source": [
        "%%time\n",
        "\n",
        "df['DEP_DELAY'] + df['AIR_TIME']"
      ]
    },
    {
      "cell_type": "markdown",
      "metadata": {
        "id": "hS-0YWeniPgr"
      },
      "source": [
        "## Sum columns mean"
      ]
    },
    {
      "cell_type": "code",
      "execution_count": 40,
      "metadata": {
        "colab": {
          "base_uri": "https://localhost:8080/"
        },
        "id": "5sA4egHvllXx",
        "outputId": "09117eaa-2420-45cd-b738-1e1e5ac40ff8"
      },
      "outputs": [
        {
          "output_type": "stream",
          "name": "stdout",
          "text": [
            "CPU times: user 9.66 s, sys: 753 ms, total: 10.4 s\n",
            "Wall time: 6.81 s\n"
          ]
        },
        {
          "output_type": "execute_result",
          "data": {
            "text/plain": [
              "array(121.42414457)"
            ]
          },
          "metadata": {},
          "execution_count": 40
        }
      ],
      "source": [
        "%%time\n",
        "\n",
        "(df['DEP_DELAY'] + df['AIR_TIME']).mean()"
      ]
    },
    {
      "cell_type": "markdown",
      "metadata": {
        "id": "DDiV1SpCiRLK"
      },
      "source": [
        "## Value Counts"
      ]
    },
    {
      "cell_type": "code",
      "execution_count": 41,
      "metadata": {
        "colab": {
          "base_uri": "https://localhost:8080/"
        },
        "id": "TJIsKUjzll2Q",
        "outputId": "24814f1a-dd3f-46be-dbb7-21093f7510cb"
      },
      "outputs": [
        {
          "output_type": "stream",
          "name": "stdout",
          "text": [
            "CPU times: user 7.67 s, sys: 466 ms, total: 8.13 s\n",
            "Wall time: 4.58 s\n"
          ]
        },
        {
          "output_type": "execute_result",
          "data": {
            "text/plain": [
              "missing    117234\n",
              "-5.0       556639\n",
              "-4.0       545046\n",
              "-3.0       530919\n",
              "-2.0       480276\n",
              "            ...  \n",
              "1558.0          1\n",
              "1359.0          1\n",
              "1407.0          1\n",
              "1484.0          1\n",
              "1351.0          1\n",
              "Length: 1489, dtype: int64"
            ]
          },
          "metadata": {},
          "execution_count": 41
        }
      ],
      "source": [
        "%%time\n",
        "\n",
        "df.DEP_DELAY.value_counts()"
      ]
    },
    {
      "cell_type": "markdown",
      "metadata": {
        "id": "OK7R6JELiSuP"
      },
      "source": [
        "## Group-by"
      ]
    },
    {
      "cell_type": "code",
      "execution_count": 42,
      "metadata": {
        "id": "BrzpnrMIlmPe",
        "colab": {
          "base_uri": "https://localhost:8080/",
          "height": 309
        },
        "outputId": "b210a251-dc0c-43b8-da86-aba63f1e61c0"
      },
      "outputs": [
        {
          "output_type": "stream",
          "name": "stdout",
          "text": [
            "CPU times: user 24 s, sys: 1.79 s, total: 25.8 s\n",
            "Wall time: 17.4 s\n"
          ]
        },
        {
          "output_type": "execute_result",
          "data": {
            "text/html": [
              "<table>\n",
              "<thead>\n",
              "<tr><th>#                              </th><th>ORIGIN  </th><th>DEP_DELAY_mean    </th><th>DEP_DELAY_std     </th><th>CRS_DEP_TIME_mean  </th><th>CRS_DEP_TIME_std  </th></tr>\n",
              "</thead>\n",
              "<tbody>\n",
              "<tr><td><i style='opacity: 0.6'>0</i>  </td><td>DEN     </td><td>10.37517697228145 </td><td>42.72882486856913 </td><td>1377.4273885647212 </td><td>491.61189963616437</td></tr>\n",
              "<tr><td><i style='opacity: 0.6'>1</i>  </td><td>TYS     </td><td>10.530753017819505</td><td>58.66916773238348 </td><td>1182.572233350025  </td><td>455.6834133749077 </td></tr>\n",
              "<tr><td><i style='opacity: 0.6'>2</i>  </td><td>JAC     </td><td>11.186586826347305</td><td>62.60150109899324 </td><td>1150.005468378507  </td><td>326.8142575431529 </td></tr>\n",
              "<tr><td><i style='opacity: 0.6'>3</i>  </td><td>SLC     </td><td>6.206149260616168 </td><td>38.47025210203814 </td><td>1402.1307251401986 </td><td>497.2528573416381 </td></tr>\n",
              "<tr><td><i style='opacity: 0.6'>4</i>  </td><td>CLE     </td><td>9.001668461847135 </td><td>47.987930484872834</td><td>1236.511563501085  </td><td>465.2140385670496 </td></tr>\n",
              "<tr><td>...                            </td><td>...     </td><td>...               </td><td>...               </td><td>...                </td><td>...               </td></tr>\n",
              "<tr><td><i style='opacity: 0.6'>353</i></td><td>BGM     </td><td>11.42024202420242 </td><td>76.02863703675344 </td><td>1154.0282608695652 </td><td>460.37968411860794</td></tr>\n",
              "<tr><td><i style='opacity: 0.6'>354</i></td><td>BRD     </td><td>7.84185303514377  </td><td>71.12136213878924 </td><td>1066.480376766091  </td><td>421.82034128449175</td></tr>\n",
              "<tr><td><i style='opacity: 0.6'>355</i></td><td>ADK     </td><td>3.8514851485148514</td><td>39.46182166450838 </td><td>1752.2788461538462 </td><td>40.08871333842132 </td></tr>\n",
              "<tr><td><i style='opacity: 0.6'>356</i></td><td>AKN     </td><td>1.6825396825396826</td><td>16.412176467707003</td><td>1744.0             </td><td>0.0               </td></tr>\n",
              "<tr><td><i style='opacity: 0.6'>357</i></td><td>HHH     </td><td>2.6871287128712873</td><td>37.56748558186759 </td><td>1086.3943925233646 </td><td>355.87545280966134</td></tr>\n",
              "</tbody>\n",
              "</table>"
            ],
            "text/plain": [
              "#    ORIGIN    DEP_DELAY_mean      DEP_DELAY_std       CRS_DEP_TIME_mean    CRS_DEP_TIME_std\n",
              "0    DEN       10.37517697228145   42.72882486856913   1377.4273885647212   491.61189963616437\n",
              "1    TYS       10.530753017819505  58.66916773238348   1182.572233350025    455.6834133749077\n",
              "2    JAC       11.186586826347305  62.60150109899324   1150.005468378507    326.8142575431529\n",
              "3    SLC       6.206149260616168   38.47025210203814   1402.1307251401986   497.2528573416381\n",
              "4    CLE       9.001668461847135   47.987930484872834  1236.511563501085    465.2140385670496\n",
              "...  ...       ...                 ...                 ...                  ...\n",
              "353  BGM       11.42024202420242   76.02863703675344   1154.0282608695652   460.37968411860794\n",
              "354  BRD       7.84185303514377    71.12136213878924   1066.480376766091    421.82034128449175\n",
              "355  ADK       3.8514851485148514  39.46182166450838   1752.2788461538462   40.08871333842132\n",
              "356  AKN       1.6825396825396826  16.412176467707003  1744.0               0.0\n",
              "357  HHH       2.6871287128712873  37.56748558186759   1086.3943925233646   355.87545280966134"
            ]
          },
          "metadata": {},
          "execution_count": 42
        }
      ],
      "source": [
        "%%time\n",
        "df_group=df.groupby(by='ORIGIN').agg({'DEP_DELAY':['mean','std'],'CRS_DEP_TIME':['mean','std']})\n",
        "df_group"
      ]
    },
    {
      "cell_type": "code",
      "execution_count": 43,
      "metadata": {
        "id": "KkoJMjRXWjCl",
        "colab": {
          "base_uri": "https://localhost:8080/",
          "height": 309
        },
        "outputId": "c66cab2d-c35f-4359-d320-2dd46d566c11"
      },
      "outputs": [
        {
          "output_type": "stream",
          "name": "stdout",
          "text": [
            "CPU times: user 18.6 s, sys: 1.41 s, total: 20 s\n",
            "Wall time: 13.6 s\n"
          ]
        },
        {
          "output_type": "execute_result",
          "data": {
            "text/html": [
              "<table>\n",
              "<thead>\n",
              "<tr><th>#                              </th><th>ORIGIN  </th><th>DEP_DELAY_mean    </th></tr>\n",
              "</thead>\n",
              "<tbody>\n",
              "<tr><td><i style='opacity: 0.6'>0</i>  </td><td>DEN     </td><td>10.37517697228145 </td></tr>\n",
              "<tr><td><i style='opacity: 0.6'>1</i>  </td><td>TYS     </td><td>10.530753017819505</td></tr>\n",
              "<tr><td><i style='opacity: 0.6'>2</i>  </td><td>JAC     </td><td>11.186586826347305</td></tr>\n",
              "<tr><td><i style='opacity: 0.6'>3</i>  </td><td>SLC     </td><td>6.206149260616168 </td></tr>\n",
              "<tr><td><i style='opacity: 0.6'>4</i>  </td><td>CLE     </td><td>9.001668461847135 </td></tr>\n",
              "<tr><td>...                            </td><td>...     </td><td>...               </td></tr>\n",
              "<tr><td><i style='opacity: 0.6'>353</i></td><td>BGM     </td><td>11.42024202420242 </td></tr>\n",
              "<tr><td><i style='opacity: 0.6'>354</i></td><td>BRD     </td><td>7.84185303514377  </td></tr>\n",
              "<tr><td><i style='opacity: 0.6'>355</i></td><td>ADK     </td><td>3.8514851485148514</td></tr>\n",
              "<tr><td><i style='opacity: 0.6'>356</i></td><td>AKN     </td><td>1.6825396825396826</td></tr>\n",
              "<tr><td><i style='opacity: 0.6'>357</i></td><td>HHH     </td><td>2.6871287128712873</td></tr>\n",
              "</tbody>\n",
              "</table>"
            ],
            "text/plain": [
              "#    ORIGIN    DEP_DELAY_mean\n",
              "0    DEN       10.37517697228145\n",
              "1    TYS       10.530753017819505\n",
              "2    JAC       11.186586826347305\n",
              "3    SLC       6.206149260616168\n",
              "4    CLE       9.001668461847135\n",
              "...  ...       ...\n",
              "353  BGM       11.42024202420242\n",
              "354  BRD       7.84185303514377\n",
              "355  ADK       3.8514851485148514\n",
              "356  AKN       1.6825396825396826\n",
              "357  HHH       2.6871287128712873"
            ]
          },
          "metadata": {},
          "execution_count": 43
        }
      ],
      "source": [
        "%%time\n",
        "df_temp=df.groupby(df.ORIGIN,agg=vaex.agg.mean(df.DEP_DELAY))\n",
        "df_temp"
      ]
    },
    {
      "cell_type": "code",
      "execution_count": 44,
      "metadata": {
        "colab": {
          "base_uri": "https://localhost:8080/",
          "height": 309
        },
        "id": "VUlnIzuPTB1g",
        "outputId": "3526e9d7-d418-49b5-ed57-7fb22235274d"
      },
      "outputs": [
        {
          "output_type": "stream",
          "name": "stdout",
          "text": [
            "CPU times: user 17.6 s, sys: 1.04 s, total: 18.7 s\n",
            "Wall time: 12.8 s\n"
          ]
        },
        {
          "output_type": "execute_result",
          "data": {
            "text/html": [
              "<table>\n",
              "<thead>\n",
              "<tr><th>#                              </th><th>ORIGIN  </th><th>count  </th></tr>\n",
              "</thead>\n",
              "<tbody>\n",
              "<tr><td><i style='opacity: 0.6'>0</i>  </td><td>DEN     </td><td>235989 </td></tr>\n",
              "<tr><td><i style='opacity: 0.6'>1</i>  </td><td>TYS     </td><td>15976  </td></tr>\n",
              "<tr><td><i style='opacity: 0.6'>2</i>  </td><td>JAC     </td><td>4206   </td></tr>\n",
              "<tr><td><i style='opacity: 0.6'>3</i>  </td><td>SLC     </td><td>113054 </td></tr>\n",
              "<tr><td><i style='opacity: 0.6'>4</i>  </td><td>CLE     </td><td>48385  </td></tr>\n",
              "<tr><td>...                            </td><td>...     </td><td>...    </td></tr>\n",
              "<tr><td><i style='opacity: 0.6'>353</i></td><td>BGM     </td><td>920    </td></tr>\n",
              "<tr><td><i style='opacity: 0.6'>354</i></td><td>BRD     </td><td>637    </td></tr>\n",
              "<tr><td><i style='opacity: 0.6'>355</i></td><td>ADK     </td><td>104    </td></tr>\n",
              "<tr><td><i style='opacity: 0.6'>356</i></td><td>AKN     </td><td>63     </td></tr>\n",
              "<tr><td><i style='opacity: 0.6'>357</i></td><td>HHH     </td><td>535    </td></tr>\n",
              "</tbody>\n",
              "</table>"
            ],
            "text/plain": [
              "#    ORIGIN    count\n",
              "0    DEN       235989\n",
              "1    TYS       15976\n",
              "2    JAC       4206\n",
              "3    SLC       113054\n",
              "4    CLE       48385\n",
              "...  ...       ...\n",
              "353  BGM       920\n",
              "354  BRD       637\n",
              "355  ADK       104\n",
              "356  AKN       63\n",
              "357  HHH       535"
            ]
          },
          "metadata": {},
          "execution_count": 44
        }
      ],
      "source": [
        "%%time\n",
        "df.groupby(df.ORIGIN,agg='count')"
      ]
    },
    {
      "cell_type": "markdown",
      "metadata": {
        "id": "012dm6W-iUMY"
      },
      "source": [
        "## Join"
      ]
    },
    {
      "cell_type": "code",
      "execution_count": 45,
      "metadata": {
        "id": "mH3rkLNftpSF",
        "colab": {
          "base_uri": "https://localhost:8080/",
          "height": 520
        },
        "outputId": "29743486-12dc-42f2-9ca5-b65f12a260bf"
      },
      "outputs": [
        {
          "output_type": "stream",
          "name": "stdout",
          "text": [
            "CPU times: user 9.08 s, sys: 519 ms, total: 9.6 s\n",
            "Wall time: 6.24 s\n"
          ]
        },
        {
          "output_type": "execute_result",
          "data": {
            "text/html": [
              "<table>\n",
              "<thead>\n",
              "<tr><th>#                                    </th><th>FL_DATE   </th><th>OP_CARRIER  </th><th>OP_CARRIER_FL_NUM  </th><th>ORIGIN  </th><th>DEST  </th><th>CRS_DEP_TIME  </th><th>DEP_TIME  </th><th>DEP_DELAY  </th><th>TAXI_OUT  </th><th>WHEELS_OFF  </th><th>WHEELS_ON  </th><th>TAXI_IN  </th><th>CRS_ARR_TIME  </th><th>ARR_TIME  </th><th>ARR_DELAY  </th><th>CANCELLED  </th><th>CANCELLATION_CODE  </th><th>DIVERTED  </th><th>CRS_ELAPSED_TIME  </th><th>ACTUAL_ELAPSED_TIME  </th><th>AIR_TIME  </th><th>DISTANCE  </th><th>CARRIER_DELAY  </th><th>WEATHER_DELAY  </th><th>NAS_DELAY  </th><th>SECURITY_DELAY  </th><th>LATE_AIRCRAFT_DELAY  </th><th>Unnamed: 27  </th><th>DEP_DELAY_mean    </th></tr>\n",
              "</thead>\n",
              "<tbody>\n",
              "<tr><td><i style='opacity: 0.6'>0</i>        </td><td>2018-01-01</td><td>UA          </td><td>2429               </td><td>EWR     </td><td>DEN   </td><td>1517          </td><td>1512.0    </td><td>-5.0       </td><td>15.0      </td><td>1527.0      </td><td>1712.0     </td><td>10.0     </td><td>1745          </td><td>1722.0    </td><td>-23.0      </td><td>0.0        </td><td>                   </td><td>0.0       </td><td>268.0             </td><td>250.0                </td><td>225.0     </td><td>1605.0    </td><td>--             </td><td>--             </td><td>--         </td><td>--              </td><td>--                   </td><td>--           </td><td>14.881203676465313</td></tr>\n",
              "<tr><td><i style='opacity: 0.6'>1</i>        </td><td>2018-01-01</td><td>UA          </td><td>2427               </td><td>LAS     </td><td>SFO   </td><td>1115          </td><td>1107.0    </td><td>-8.0       </td><td>11.0      </td><td>1118.0      </td><td>1223.0     </td><td>7.0      </td><td>1254          </td><td>1230.0    </td><td>-24.0      </td><td>0.0        </td><td>                   </td><td>0.0       </td><td>99.0              </td><td>83.0                 </td><td>65.0      </td><td>414.0     </td><td>--             </td><td>--             </td><td>--         </td><td>--              </td><td>--                   </td><td>--           </td><td>9.960894099120774 </td></tr>\n",
              "<tr><td><i style='opacity: 0.6'>2</i>        </td><td>2018-01-01</td><td>UA          </td><td>2426               </td><td>SNA     </td><td>DEN   </td><td>1335          </td><td>1330.0    </td><td>-5.0       </td><td>15.0      </td><td>1345.0      </td><td>1631.0     </td><td>5.0      </td><td>1649          </td><td>1636.0    </td><td>-13.0      </td><td>0.0        </td><td>                   </td><td>0.0       </td><td>134.0             </td><td>126.0                </td><td>106.0     </td><td>846.0     </td><td>--             </td><td>--             </td><td>--         </td><td>--              </td><td>--                   </td><td>--           </td><td>6.740330690388706 </td></tr>\n",
              "<tr><td><i style='opacity: 0.6'>3</i>        </td><td>2018-01-01</td><td>UA          </td><td>2425               </td><td>RSW     </td><td>ORD   </td><td>1546          </td><td>1552.0    </td><td>6.0        </td><td>19.0      </td><td>1611.0      </td><td>1748.0     </td><td>6.0      </td><td>1756          </td><td>1754.0    </td><td>-2.0       </td><td>0.0        </td><td>                   </td><td>0.0       </td><td>190.0             </td><td>182.0                </td><td>157.0     </td><td>1120.0    </td><td>--             </td><td>--             </td><td>--         </td><td>--              </td><td>--                   </td><td>--           </td><td>10.304774136958837</td></tr>\n",
              "<tr><td><i style='opacity: 0.6'>4</i>        </td><td>2018-01-01</td><td>UA          </td><td>2424               </td><td>ORD     </td><td>ALB   </td><td>630           </td><td>650.0     </td><td>20.0       </td><td>13.0      </td><td>703.0       </td><td>926.0      </td><td>10.0     </td><td>922           </td><td>936.0     </td><td>14.0       </td><td>0.0        </td><td>                   </td><td>0.0       </td><td>112.0             </td><td>106.0                </td><td>83.0      </td><td>723.0     </td><td>--             </td><td>--             </td><td>--         </td><td>--              </td><td>--                   </td><td>--           </td><td>12.354664639007101</td></tr>\n",
              "<tr><td>...                                  </td><td>...       </td><td>...         </td><td>...                </td><td>...     </td><td>...   </td><td>...           </td><td>...       </td><td>...        </td><td>...       </td><td>...         </td><td>...        </td><td>...      </td><td>...           </td><td>...       </td><td>...        </td><td>...        </td><td>...                </td><td>...       </td><td>...               </td><td>...                  </td><td>...       </td><td>...       </td><td>...            </td><td>...            </td><td>...        </td><td>...             </td><td>...                  </td><td>...          </td><td>...               </td></tr>\n",
              "<tr><td><i style='opacity: 0.6'>7,213,441</i></td><td>2018-12-31</td><td>AA          </td><td>1815               </td><td>DCA     </td><td>CLT   </td><td>1534          </td><td>1530.0    </td><td>-4.0       </td><td>20.0      </td><td>1550.0      </td><td>1702.0     </td><td>7.0      </td><td>1714          </td><td>1709.0    </td><td>-5.0       </td><td>0.0        </td><td>                   </td><td>0.0       </td><td>100.0             </td><td>99.0                 </td><td>72.0      </td><td>331.0     </td><td>--             </td><td>--             </td><td>--         </td><td>--              </td><td>--                   </td><td>--           </td><td>10.21892838558858 </td></tr>\n",
              "<tr><td><i style='opacity: 0.6'>7,213,442</i></td><td>2018-12-31</td><td>AA          </td><td>1816               </td><td>CLT     </td><td>DFW   </td><td>1751          </td><td>1757.0    </td><td>6.0        </td><td>18.0      </td><td>1815.0      </td><td>1943.0     </td><td>10.0     </td><td>1952          </td><td>1953.0    </td><td>1.0        </td><td>0.0        </td><td>                   </td><td>0.0       </td><td>181.0             </td><td>176.0                </td><td>148.0     </td><td>936.0     </td><td>--             </td><td>--             </td><td>--         </td><td>--              </td><td>--                   </td><td>--           </td><td>10.745946041014458</td></tr>\n",
              "<tr><td><i style='opacity: 0.6'>7,213,443</i></td><td>2018-12-31</td><td>AA          </td><td>1817               </td><td>CLT     </td><td>MEM   </td><td>2015          </td><td>2010.0    </td><td>-5.0       </td><td>36.0      </td><td>2046.0      </td><td>2114.0     </td><td>4.0      </td><td>2107          </td><td>2118.0    </td><td>11.0       </td><td>0.0        </td><td>                   </td><td>0.0       </td><td>112.0             </td><td>128.0                </td><td>88.0      </td><td>511.0     </td><td>--             </td><td>--             </td><td>--         </td><td>--              </td><td>--                   </td><td>--           </td><td>10.745946041014458</td></tr>\n",
              "<tr><td><i style='opacity: 0.6'>7,213,444</i></td><td>2018-12-31</td><td>AA          </td><td>1818               </td><td>CLT     </td><td>RDU   </td><td>1300          </td><td>1323.0    </td><td>23.0       </td><td>11.0      </td><td>1334.0      </td><td>1400.0     </td><td>4.0      </td><td>1350          </td><td>1404.0    </td><td>14.0       </td><td>0.0        </td><td>                   </td><td>0.0       </td><td>50.0              </td><td>41.0                 </td><td>26.0      </td><td>130.0     </td><td>--             </td><td>--             </td><td>--         </td><td>--              </td><td>--                   </td><td>--           </td><td>10.745946041014458</td></tr>\n",
              "<tr><td><i style='opacity: 0.6'>7,213,445</i></td><td>2018-12-31</td><td>AA          </td><td>1818               </td><td>RDU     </td><td>CLT   </td><td>1435          </td><td>1443.0    </td><td>8.0        </td><td>8.0       </td><td>1451.0      </td><td>1535.0     </td><td>7.0      </td><td>1546          </td><td>1542.0    </td><td>-4.0       </td><td>0.0        </td><td>                   </td><td>0.0       </td><td>71.0              </td><td>59.0                 </td><td>44.0      </td><td>130.0     </td><td>--             </td><td>--             </td><td>--         </td><td>--              </td><td>--                   </td><td>--           </td><td>13.36454639542578 </td></tr>\n",
              "</tbody>\n",
              "</table>"
            ],
            "text/plain": [
              "#          FL_DATE     OP_CARRIER    OP_CARRIER_FL_NUM    ORIGIN    DEST    CRS_DEP_TIME    DEP_TIME    DEP_DELAY    TAXI_OUT    WHEELS_OFF    WHEELS_ON    TAXI_IN    CRS_ARR_TIME    ARR_TIME    ARR_DELAY    CANCELLED    CANCELLATION_CODE    DIVERTED    CRS_ELAPSED_TIME    ACTUAL_ELAPSED_TIME    AIR_TIME    DISTANCE    CARRIER_DELAY    WEATHER_DELAY    NAS_DELAY    SECURITY_DELAY    LATE_AIRCRAFT_DELAY    Unnamed: 27    DEP_DELAY_mean\n",
              "0          2018-01-01  UA            2429                 EWR       DEN     1517            1512.0      -5.0         15.0        1527.0        1712.0       10.0       1745            1722.0      -23.0        0.0                               0.0         268.0               250.0                  225.0       1605.0      --               --               --           --                --                     --             14.881203676465313\n",
              "1          2018-01-01  UA            2427                 LAS       SFO     1115            1107.0      -8.0         11.0        1118.0        1223.0       7.0        1254            1230.0      -24.0        0.0                               0.0         99.0                83.0                   65.0        414.0       --               --               --           --                --                     --             9.960894099120774\n",
              "2          2018-01-01  UA            2426                 SNA       DEN     1335            1330.0      -5.0         15.0        1345.0        1631.0       5.0        1649            1636.0      -13.0        0.0                               0.0         134.0               126.0                  106.0       846.0       --               --               --           --                --                     --             6.740330690388706\n",
              "3          2018-01-01  UA            2425                 RSW       ORD     1546            1552.0      6.0          19.0        1611.0        1748.0       6.0        1756            1754.0      -2.0         0.0                               0.0         190.0               182.0                  157.0       1120.0      --               --               --           --                --                     --             10.304774136958837\n",
              "4          2018-01-01  UA            2424                 ORD       ALB     630             650.0       20.0         13.0        703.0         926.0        10.0       922             936.0       14.0         0.0                               0.0         112.0               106.0                  83.0        723.0       --               --               --           --                --                     --             12.354664639007101\n",
              "...        ...         ...           ...                  ...       ...     ...             ...         ...          ...         ...           ...          ...        ...             ...         ...          ...          ...                  ...         ...                 ...                    ...         ...         ...              ...              ...          ...               ...                    ...            ...\n",
              "7,213,441  2018-12-31  AA            1815                 DCA       CLT     1534            1530.0      -4.0         20.0        1550.0        1702.0       7.0        1714            1709.0      -5.0         0.0                               0.0         100.0               99.0                   72.0        331.0       --               --               --           --                --                     --             10.21892838558858\n",
              "7,213,442  2018-12-31  AA            1816                 CLT       DFW     1751            1757.0      6.0          18.0        1815.0        1943.0       10.0       1952            1953.0      1.0          0.0                               0.0         181.0               176.0                  148.0       936.0       --               --               --           --                --                     --             10.745946041014458\n",
              "7,213,443  2018-12-31  AA            1817                 CLT       MEM     2015            2010.0      -5.0         36.0        2046.0        2114.0       4.0        2107            2118.0      11.0         0.0                               0.0         112.0               128.0                  88.0        511.0       --               --               --           --                --                     --             10.745946041014458\n",
              "7,213,444  2018-12-31  AA            1818                 CLT       RDU     1300            1323.0      23.0         11.0        1334.0        1400.0       4.0        1350            1404.0      14.0         0.0                               0.0         50.0                41.0                   26.0        130.0       --               --               --           --                --                     --             10.745946041014458\n",
              "7,213,445  2018-12-31  AA            1818                 RDU       CLT     1435            1443.0      8.0          8.0         1451.0        1535.0       7.0        1546            1542.0      -4.0         0.0                               0.0         71.0                59.0                   44.0        130.0       --               --               --           --                --                     --             13.36454639542578"
            ]
          },
          "metadata": {},
          "execution_count": 45
        }
      ],
      "source": [
        "%%time\n",
        "df_joined=df.join(df_temp,on='ORIGIN')\n",
        "df_joined"
      ]
    },
    {
      "cell_type": "code",
      "execution_count": 46,
      "metadata": {
        "id": "R93WxSSYYd64",
        "colab": {
          "base_uri": "https://localhost:8080/",
          "height": 520
        },
        "outputId": "00fd4941-74d4-4260-f9c8-a55141ed9514"
      },
      "outputs": [
        {
          "output_type": "stream",
          "name": "stdout",
          "text": [
            "CPU times: user 9.19 s, sys: 556 ms, total: 9.75 s\n",
            "Wall time: 7.81 s\n"
          ]
        },
        {
          "output_type": "execute_result",
          "data": {
            "text/html": [
              "<table>\n",
              "<thead>\n",
              "<tr><th>#                                    </th><th>FL_DATE   </th><th>OP_CARRIER  </th><th>OP_CARRIER_FL_NUM  </th><th>ORIGIN  </th><th>DEST  </th><th>CRS_DEP_TIME  </th><th>DEP_TIME  </th><th>DEP_DELAY  </th><th>TAXI_OUT  </th><th>WHEELS_OFF  </th><th>WHEELS_ON  </th><th>TAXI_IN  </th><th>CRS_ARR_TIME  </th><th>ARR_TIME  </th><th>ARR_DELAY  </th><th>CANCELLED  </th><th>CANCELLATION_CODE  </th><th>DIVERTED  </th><th>CRS_ELAPSED_TIME  </th><th>ACTUAL_ELAPSED_TIME  </th><th>AIR_TIME  </th><th>DISTANCE  </th><th>CARRIER_DELAY  </th><th>WEATHER_DELAY  </th><th>NAS_DELAY  </th><th>SECURITY_DELAY  </th><th>LATE_AIRCRAFT_DELAY  </th><th>Unnamed: 27  </th><th>DEP_DELAY_mean    </th><th>DEP_DELAY_std     </th><th>CRS_DEP_TIME_mean  </th><th>CRS_DEP_TIME_std  </th></tr>\n",
              "</thead>\n",
              "<tbody>\n",
              "<tr><td><i style='opacity: 0.6'>0</i>        </td><td>2018-01-01</td><td>UA          </td><td>2429               </td><td>EWR     </td><td>DEN   </td><td>1517          </td><td>1512.0    </td><td>-5.0       </td><td>15.0      </td><td>1527.0      </td><td>1712.0     </td><td>10.0     </td><td>1745          </td><td>1722.0    </td><td>-23.0      </td><td>0.0        </td><td>                   </td><td>0.0       </td><td>268.0             </td><td>250.0                </td><td>225.0     </td><td>1605.0    </td><td>--             </td><td>--             </td><td>--         </td><td>--              </td><td>--                   </td><td>--           </td><td>14.881203676465313</td><td>50.677365799155154</td><td>1357.8814109470027 </td><td>493.60827597437867</td></tr>\n",
              "<tr><td><i style='opacity: 0.6'>1</i>        </td><td>2018-01-01</td><td>UA          </td><td>2427               </td><td>LAS     </td><td>SFO   </td><td>1115          </td><td>1107.0    </td><td>-8.0       </td><td>11.0      </td><td>1118.0      </td><td>1223.0     </td><td>7.0      </td><td>1254          </td><td>1230.0    </td><td>-24.0      </td><td>0.0        </td><td>                   </td><td>0.0       </td><td>99.0              </td><td>83.0                 </td><td>65.0      </td><td>414.0     </td><td>--             </td><td>--             </td><td>--         </td><td>--              </td><td>--                   </td><td>--           </td><td>9.960894099120774 </td><td>40.080744027848255</td><td>1338.076666687356  </td><td>544.9068961139524 </td></tr>\n",
              "<tr><td><i style='opacity: 0.6'>2</i>        </td><td>2018-01-01</td><td>UA          </td><td>2426               </td><td>SNA     </td><td>DEN   </td><td>1335          </td><td>1330.0    </td><td>-5.0       </td><td>15.0      </td><td>1345.0      </td><td>1631.0     </td><td>5.0      </td><td>1649          </td><td>1636.0    </td><td>-13.0      </td><td>0.0        </td><td>                   </td><td>0.0       </td><td>134.0             </td><td>126.0                </td><td>106.0     </td><td>846.0     </td><td>--             </td><td>--             </td><td>--         </td><td>--              </td><td>--                   </td><td>--           </td><td>6.740330690388706 </td><td>39.01093180180849 </td><td>1280.635966281611  </td><td>438.3901194997106 </td></tr>\n",
              "<tr><td><i style='opacity: 0.6'>3</i>        </td><td>2018-01-01</td><td>UA          </td><td>2425               </td><td>RSW     </td><td>ORD   </td><td>1546          </td><td>1552.0    </td><td>6.0        </td><td>19.0      </td><td>1611.0      </td><td>1748.0     </td><td>6.0      </td><td>1756          </td><td>1754.0    </td><td>-2.0       </td><td>0.0        </td><td>                   </td><td>0.0       </td><td>190.0             </td><td>182.0                </td><td>157.0     </td><td>1120.0    </td><td>--             </td><td>--             </td><td>--         </td><td>--              </td><td>--                   </td><td>--           </td><td>10.304774136958837</td><td>50.003421928020785</td><td>1341.887731445705  </td><td>444.48972696373727</td></tr>\n",
              "<tr><td><i style='opacity: 0.6'>4</i>        </td><td>2018-01-01</td><td>UA          </td><td>2424               </td><td>ORD     </td><td>ALB   </td><td>630           </td><td>650.0     </td><td>20.0       </td><td>13.0      </td><td>703.0       </td><td>926.0      </td><td>10.0     </td><td>922           </td><td>936.0     </td><td>14.0       </td><td>0.0        </td><td>                   </td><td>0.0       </td><td>112.0             </td><td>106.0                </td><td>83.0      </td><td>723.0     </td><td>--             </td><td>--             </td><td>--         </td><td>--              </td><td>--                   </td><td>--           </td><td>12.354664639007101</td><td>46.90548133499587 </td><td>1382.376632737954  </td><td>469.7166862470247 </td></tr>\n",
              "<tr><td>...                                  </td><td>...       </td><td>...         </td><td>...                </td><td>...     </td><td>...   </td><td>...           </td><td>...       </td><td>...        </td><td>...       </td><td>...         </td><td>...        </td><td>...      </td><td>...           </td><td>...       </td><td>...        </td><td>...        </td><td>...                </td><td>...       </td><td>...               </td><td>...                  </td><td>...       </td><td>...       </td><td>...            </td><td>...            </td><td>...        </td><td>...             </td><td>...                  </td><td>...          </td><td>...               </td><td>...               </td><td>...                </td><td>...               </td></tr>\n",
              "<tr><td><i style='opacity: 0.6'>7,213,441</i></td><td>2018-12-31</td><td>AA          </td><td>1815               </td><td>DCA     </td><td>CLT   </td><td>1534          </td><td>1530.0    </td><td>-4.0       </td><td>20.0      </td><td>1550.0      </td><td>1702.0     </td><td>7.0      </td><td>1714          </td><td>1709.0    </td><td>-5.0       </td><td>0.0        </td><td>                   </td><td>0.0       </td><td>100.0             </td><td>99.0                 </td><td>72.0      </td><td>331.0     </td><td>--             </td><td>--             </td><td>--         </td><td>--              </td><td>--                   </td><td>--           </td><td>10.21892838558858 </td><td>44.584959043355965</td><td>1352.2866198299087 </td><td>467.3635537727654 </td></tr>\n",
              "<tr><td><i style='opacity: 0.6'>7,213,442</i></td><td>2018-12-31</td><td>AA          </td><td>1816               </td><td>CLT     </td><td>DFW   </td><td>1751          </td><td>1757.0    </td><td>6.0        </td><td>18.0      </td><td>1815.0      </td><td>1943.0     </td><td>10.0     </td><td>1952          </td><td>1953.0    </td><td>1.0        </td><td>0.0        </td><td>                   </td><td>0.0       </td><td>181.0             </td><td>176.0                </td><td>148.0     </td><td>936.0     </td><td>--             </td><td>--             </td><td>--         </td><td>--              </td><td>--                   </td><td>--           </td><td>10.745946041014458</td><td>38.785250446024776</td><td>1467.985564703815  </td><td>474.0887213589214 </td></tr>\n",
              "<tr><td><i style='opacity: 0.6'>7,213,443</i></td><td>2018-12-31</td><td>AA          </td><td>1817               </td><td>CLT     </td><td>MEM   </td><td>2015          </td><td>2010.0    </td><td>-5.0       </td><td>36.0      </td><td>2046.0      </td><td>2114.0     </td><td>4.0      </td><td>2107          </td><td>2118.0    </td><td>11.0       </td><td>0.0        </td><td>                   </td><td>0.0       </td><td>112.0             </td><td>128.0                </td><td>88.0      </td><td>511.0     </td><td>--             </td><td>--             </td><td>--         </td><td>--              </td><td>--                   </td><td>--           </td><td>10.745946041014458</td><td>38.785250446024776</td><td>1467.985564703815  </td><td>474.0887213589214 </td></tr>\n",
              "<tr><td><i style='opacity: 0.6'>7,213,444</i></td><td>2018-12-31</td><td>AA          </td><td>1818               </td><td>CLT     </td><td>RDU   </td><td>1300          </td><td>1323.0    </td><td>23.0       </td><td>11.0      </td><td>1334.0      </td><td>1400.0     </td><td>4.0      </td><td>1350          </td><td>1404.0    </td><td>14.0       </td><td>0.0        </td><td>                   </td><td>0.0       </td><td>50.0              </td><td>41.0                 </td><td>26.0      </td><td>130.0     </td><td>--             </td><td>--             </td><td>--         </td><td>--              </td><td>--                   </td><td>--           </td><td>10.745946041014458</td><td>38.785250446024776</td><td>1467.985564703815  </td><td>474.0887213589214 </td></tr>\n",
              "<tr><td><i style='opacity: 0.6'>7,213,445</i></td><td>2018-12-31</td><td>AA          </td><td>1818               </td><td>RDU     </td><td>CLT   </td><td>1435          </td><td>1443.0    </td><td>8.0        </td><td>8.0       </td><td>1451.0      </td><td>1535.0     </td><td>7.0      </td><td>1546          </td><td>1542.0    </td><td>-4.0       </td><td>0.0        </td><td>                   </td><td>0.0       </td><td>71.0              </td><td>59.0                 </td><td>44.0      </td><td>130.0     </td><td>--             </td><td>--             </td><td>--         </td><td>--              </td><td>--                   </td><td>--           </td><td>13.36454639542578 </td><td>54.23519343121321 </td><td>1265.9195211119163 </td><td>469.6195905970409 </td></tr>\n",
              "</tbody>\n",
              "</table>"
            ],
            "text/plain": [
              "#          FL_DATE     OP_CARRIER    OP_CARRIER_FL_NUM    ORIGIN    DEST    CRS_DEP_TIME    DEP_TIME    DEP_DELAY    TAXI_OUT    WHEELS_OFF    WHEELS_ON    TAXI_IN    CRS_ARR_TIME    ARR_TIME    ARR_DELAY    CANCELLED    CANCELLATION_CODE    DIVERTED    CRS_ELAPSED_TIME    ACTUAL_ELAPSED_TIME    AIR_TIME    DISTANCE    CARRIER_DELAY    WEATHER_DELAY    NAS_DELAY    SECURITY_DELAY    LATE_AIRCRAFT_DELAY    Unnamed: 27    DEP_DELAY_mean      DEP_DELAY_std       CRS_DEP_TIME_mean    CRS_DEP_TIME_std\n",
              "0          2018-01-01  UA            2429                 EWR       DEN     1517            1512.0      -5.0         15.0        1527.0        1712.0       10.0       1745            1722.0      -23.0        0.0                               0.0         268.0               250.0                  225.0       1605.0      --               --               --           --                --                     --             14.881203676465313  50.677365799155154  1357.8814109470027   493.60827597437867\n",
              "1          2018-01-01  UA            2427                 LAS       SFO     1115            1107.0      -8.0         11.0        1118.0        1223.0       7.0        1254            1230.0      -24.0        0.0                               0.0         99.0                83.0                   65.0        414.0       --               --               --           --                --                     --             9.960894099120774   40.080744027848255  1338.076666687356    544.9068961139524\n",
              "2          2018-01-01  UA            2426                 SNA       DEN     1335            1330.0      -5.0         15.0        1345.0        1631.0       5.0        1649            1636.0      -13.0        0.0                               0.0         134.0               126.0                  106.0       846.0       --               --               --           --                --                     --             6.740330690388706   39.01093180180849   1280.635966281611    438.3901194997106\n",
              "3          2018-01-01  UA            2425                 RSW       ORD     1546            1552.0      6.0          19.0        1611.0        1748.0       6.0        1756            1754.0      -2.0         0.0                               0.0         190.0               182.0                  157.0       1120.0      --               --               --           --                --                     --             10.304774136958837  50.003421928020785  1341.887731445705    444.48972696373727\n",
              "4          2018-01-01  UA            2424                 ORD       ALB     630             650.0       20.0         13.0        703.0         926.0        10.0       922             936.0       14.0         0.0                               0.0         112.0               106.0                  83.0        723.0       --               --               --           --                --                     --             12.354664639007101  46.90548133499587   1382.376632737954    469.7166862470247\n",
              "...        ...         ...           ...                  ...       ...     ...             ...         ...          ...         ...           ...          ...        ...             ...         ...          ...          ...                  ...         ...                 ...                    ...         ...         ...              ...              ...          ...               ...                    ...            ...                 ...                 ...                  ...\n",
              "7,213,441  2018-12-31  AA            1815                 DCA       CLT     1534            1530.0      -4.0         20.0        1550.0        1702.0       7.0        1714            1709.0      -5.0         0.0                               0.0         100.0               99.0                   72.0        331.0       --               --               --           --                --                     --             10.21892838558858   44.584959043355965  1352.2866198299087   467.3635537727654\n",
              "7,213,442  2018-12-31  AA            1816                 CLT       DFW     1751            1757.0      6.0          18.0        1815.0        1943.0       10.0       1952            1953.0      1.0          0.0                               0.0         181.0               176.0                  148.0       936.0       --               --               --           --                --                     --             10.745946041014458  38.785250446024776  1467.985564703815    474.0887213589214\n",
              "7,213,443  2018-12-31  AA            1817                 CLT       MEM     2015            2010.0      -5.0         36.0        2046.0        2114.0       4.0        2107            2118.0      11.0         0.0                               0.0         112.0               128.0                  88.0        511.0       --               --               --           --                --                     --             10.745946041014458  38.785250446024776  1467.985564703815    474.0887213589214\n",
              "7,213,444  2018-12-31  AA            1818                 CLT       RDU     1300            1323.0      23.0         11.0        1334.0        1400.0       4.0        1350            1404.0      14.0         0.0                               0.0         50.0                41.0                   26.0        130.0       --               --               --           --                --                     --             10.745946041014458  38.785250446024776  1467.985564703815    474.0887213589214\n",
              "7,213,445  2018-12-31  AA            1818                 RDU       CLT     1435            1443.0      8.0          8.0         1451.0        1535.0       7.0        1546            1542.0      -4.0         0.0                               0.0         71.0                59.0                   44.0        130.0       --               --               --           --                --                     --             13.36454639542578   54.23519343121321   1265.9195211119163   469.6195905970409"
            ]
          },
          "metadata": {},
          "execution_count": 46
        }
      ],
      "source": [
        "%%time\n",
        "df_joined2=df.join(df_group,on='ORIGIN')\n",
        "df_joined2"
      ]
    },
    {
      "cell_type": "markdown",
      "metadata": {
        "id": "AbPp9A3VIQjZ"
      },
      "source": [
        "## EDA Visualization\n",
        "\n",
        "Vaex has no built-in method intended for plotting a scatter or line plot for lots of data. Its performance boost comes when plotting aggregate statistics like heatmaps, histograms"
      ]
    },
    {
      "cell_type": "code",
      "execution_count": 47,
      "metadata": {
        "id": "JANfVBeotuPW"
      },
      "outputs": [],
      "source": [
        "import numpy as np\n",
        "import pandas as pd\n",
        "import matplotlib.pyplot as plt\n",
        "import seaborn as sns\n",
        "import plotly.express as px"
      ]
    },
    {
      "cell_type": "code",
      "execution_count": 48,
      "metadata": {
        "id": "exxIZS8uuphO",
        "colab": {
          "base_uri": "https://localhost:8080/",
          "height": 1000
        },
        "outputId": "de3f75df-52a8-4bd0-82de-5905c471eced"
      },
      "outputs": [
        {
          "output_type": "display_data",
          "data": {
            "text/plain": [
              "<IPython.core.display.HTML object>"
            ],
            "text/html": [
              "<style>.vaex-description pre {\n",
              "          max-width : 450px;\n",
              "          white-space : nowrap;\n",
              "          overflow : hidden;\n",
              "          text-overflow: ellipsis;\n",
              "        }\n",
              "\n",
              "        .vex-description pre:hover {\n",
              "          max-width : initial;\n",
              "          white-space: pre;\n",
              "        }</style>"
            ]
          },
          "metadata": {}
        },
        {
          "output_type": "display_data",
          "data": {
            "text/plain": [
              "<IPython.core.display.HTML object>"
            ],
            "text/html": [
              "<div><h2>2018</h2> <b>rows</b>: 7,213,446</div><h2>Columns:</h2><table class='table-striped'><thead><tr><th>column</th><th>type</th><th>unit</th><th>description</th><th>expression</th></tr></thead><tr><td>FL_DATE</td><td>date32[day]</td><td></td><td ><pre></pre></td><td></td></tr><tr><td>OP_CARRIER</td><td>str</td><td></td><td ><pre></pre></td><td></td></tr><tr><td>OP_CARRIER_FL_NUM</td><td>int64</td><td></td><td ><pre></pre></td><td></td></tr><tr><td>ORIGIN</td><td>str</td><td></td><td ><pre></pre></td><td></td></tr><tr><td>DEST</td><td>str</td><td></td><td ><pre></pre></td><td></td></tr><tr><td>CRS_DEP_TIME</td><td>int64</td><td></td><td ><pre></pre></td><td></td></tr><tr><td>DEP_TIME</td><td>float64</td><td></td><td ><pre></pre></td><td></td></tr><tr><td>DEP_DELAY</td><td>float64</td><td></td><td ><pre></pre></td><td></td></tr><tr><td>TAXI_OUT</td><td>float64</td><td></td><td ><pre></pre></td><td></td></tr><tr><td>WHEELS_OFF</td><td>float64</td><td></td><td ><pre></pre></td><td></td></tr><tr><td>WHEELS_ON</td><td>float64</td><td></td><td ><pre></pre></td><td></td></tr><tr><td>TAXI_IN</td><td>float64</td><td></td><td ><pre></pre></td><td></td></tr><tr><td>CRS_ARR_TIME</td><td>int64</td><td></td><td ><pre></pre></td><td></td></tr><tr><td>ARR_TIME</td><td>float64</td><td></td><td ><pre></pre></td><td></td></tr><tr><td>ARR_DELAY</td><td>float64</td><td></td><td ><pre></pre></td><td></td></tr><tr><td>CANCELLED</td><td>float64</td><td></td><td ><pre></pre></td><td></td></tr><tr><td>CANCELLATION_CODE</td><td>str</td><td></td><td ><pre></pre></td><td></td></tr><tr><td>DIVERTED</td><td>float64</td><td></td><td ><pre></pre></td><td></td></tr><tr><td>CRS_ELAPSED_TIME</td><td>float64</td><td></td><td ><pre></pre></td><td></td></tr><tr><td>ACTUAL_ELAPSED_TIME</td><td>float64</td><td></td><td ><pre></pre></td><td></td></tr><tr><td>AIR_TIME</td><td>float64</td><td></td><td ><pre></pre></td><td></td></tr><tr><td>DISTANCE</td><td>float64</td><td></td><td ><pre></pre></td><td></td></tr><tr><td>CARRIER_DELAY</td><td>float64</td><td></td><td ><pre></pre></td><td></td></tr><tr><td>WEATHER_DELAY</td><td>float64</td><td></td><td ><pre></pre></td><td></td></tr><tr><td>NAS_DELAY</td><td>float64</td><td></td><td ><pre></pre></td><td></td></tr><tr><td>SECURITY_DELAY</td><td>float64</td><td></td><td ><pre></pre></td><td></td></tr><tr><td>LATE_AIRCRAFT_DELAY</td><td>float64</td><td></td><td ><pre></pre></td><td></td></tr><tr><td>Unnamed: 27</td><td>int8</td><td></td><td ><pre></pre></td><td></td></tr></table><h2>Data:</h2><table>\n",
              "<thead>\n",
              "<tr><th>#                                    </th><th>FL_DATE   </th><th>OP_CARRIER  </th><th>OP_CARRIER_FL_NUM  </th><th>ORIGIN  </th><th>DEST  </th><th>CRS_DEP_TIME  </th><th>DEP_TIME  </th><th>DEP_DELAY  </th><th>TAXI_OUT  </th><th>WHEELS_OFF  </th><th>WHEELS_ON  </th><th>TAXI_IN  </th><th>CRS_ARR_TIME  </th><th>ARR_TIME  </th><th>ARR_DELAY  </th><th>CANCELLED  </th><th>CANCELLATION_CODE  </th><th>DIVERTED  </th><th>CRS_ELAPSED_TIME  </th><th>ACTUAL_ELAPSED_TIME  </th><th>AIR_TIME  </th><th>DISTANCE  </th><th>CARRIER_DELAY  </th><th>WEATHER_DELAY  </th><th>NAS_DELAY  </th><th>SECURITY_DELAY  </th><th>LATE_AIRCRAFT_DELAY  </th><th>Unnamed: 27  </th></tr>\n",
              "</thead>\n",
              "<tbody>\n",
              "<tr><td><i style='opacity: 0.6'>0</i>        </td><td>2018-01-01</td><td>UA          </td><td>2429               </td><td>EWR     </td><td>DEN   </td><td>1517          </td><td>1512.0    </td><td>-5.0       </td><td>15.0      </td><td>1527.0      </td><td>1712.0     </td><td>10.0     </td><td>1745          </td><td>1722.0    </td><td>-23.0      </td><td>0.0        </td><td>                   </td><td>0.0       </td><td>268.0             </td><td>250.0                </td><td>225.0     </td><td>1605.0    </td><td>--             </td><td>--             </td><td>--         </td><td>--              </td><td>--                   </td><td>--           </td></tr>\n",
              "<tr><td><i style='opacity: 0.6'>1</i>        </td><td>2018-01-01</td><td>UA          </td><td>2427               </td><td>LAS     </td><td>SFO   </td><td>1115          </td><td>1107.0    </td><td>-8.0       </td><td>11.0      </td><td>1118.0      </td><td>1223.0     </td><td>7.0      </td><td>1254          </td><td>1230.0    </td><td>-24.0      </td><td>0.0        </td><td>                   </td><td>0.0       </td><td>99.0              </td><td>83.0                 </td><td>65.0      </td><td>414.0     </td><td>--             </td><td>--             </td><td>--         </td><td>--              </td><td>--                   </td><td>--           </td></tr>\n",
              "<tr><td><i style='opacity: 0.6'>2</i>        </td><td>2018-01-01</td><td>UA          </td><td>2426               </td><td>SNA     </td><td>DEN   </td><td>1335          </td><td>1330.0    </td><td>-5.0       </td><td>15.0      </td><td>1345.0      </td><td>1631.0     </td><td>5.0      </td><td>1649          </td><td>1636.0    </td><td>-13.0      </td><td>0.0        </td><td>                   </td><td>0.0       </td><td>134.0             </td><td>126.0                </td><td>106.0     </td><td>846.0     </td><td>--             </td><td>--             </td><td>--         </td><td>--              </td><td>--                   </td><td>--           </td></tr>\n",
              "<tr><td><i style='opacity: 0.6'>3</i>        </td><td>2018-01-01</td><td>UA          </td><td>2425               </td><td>RSW     </td><td>ORD   </td><td>1546          </td><td>1552.0    </td><td>6.0        </td><td>19.0      </td><td>1611.0      </td><td>1748.0     </td><td>6.0      </td><td>1756          </td><td>1754.0    </td><td>-2.0       </td><td>0.0        </td><td>                   </td><td>0.0       </td><td>190.0             </td><td>182.0                </td><td>157.0     </td><td>1120.0    </td><td>--             </td><td>--             </td><td>--         </td><td>--              </td><td>--                   </td><td>--           </td></tr>\n",
              "<tr><td><i style='opacity: 0.6'>4</i>        </td><td>2018-01-01</td><td>UA          </td><td>2424               </td><td>ORD     </td><td>ALB   </td><td>630           </td><td>650.0     </td><td>20.0       </td><td>13.0      </td><td>703.0       </td><td>926.0      </td><td>10.0     </td><td>922           </td><td>936.0     </td><td>14.0       </td><td>0.0        </td><td>                   </td><td>0.0       </td><td>112.0             </td><td>106.0                </td><td>83.0      </td><td>723.0     </td><td>--             </td><td>--             </td><td>--         </td><td>--              </td><td>--                   </td><td>--           </td></tr>\n",
              "<tr><td>...                                  </td><td>...       </td><td>...         </td><td>...                </td><td>...     </td><td>...   </td><td>...           </td><td>...       </td><td>...        </td><td>...       </td><td>...         </td><td>...        </td><td>...      </td><td>...           </td><td>...       </td><td>...        </td><td>...        </td><td>...                </td><td>...       </td><td>...               </td><td>...                  </td><td>...       </td><td>...       </td><td>...            </td><td>...            </td><td>...        </td><td>...             </td><td>...                  </td><td>...          </td></tr>\n",
              "<tr><td><i style='opacity: 0.6'>7,213,441</i></td><td>2018-12-31</td><td>AA          </td><td>1815               </td><td>DCA     </td><td>CLT   </td><td>1534          </td><td>1530.0    </td><td>-4.0       </td><td>20.0      </td><td>1550.0      </td><td>1702.0     </td><td>7.0      </td><td>1714          </td><td>1709.0    </td><td>-5.0       </td><td>0.0        </td><td>                   </td><td>0.0       </td><td>100.0             </td><td>99.0                 </td><td>72.0      </td><td>331.0     </td><td>--             </td><td>--             </td><td>--         </td><td>--              </td><td>--                   </td><td>--           </td></tr>\n",
              "<tr><td><i style='opacity: 0.6'>7,213,442</i></td><td>2018-12-31</td><td>AA          </td><td>1816               </td><td>CLT     </td><td>DFW   </td><td>1751          </td><td>1757.0    </td><td>6.0        </td><td>18.0      </td><td>1815.0      </td><td>1943.0     </td><td>10.0     </td><td>1952          </td><td>1953.0    </td><td>1.0        </td><td>0.0        </td><td>                   </td><td>0.0       </td><td>181.0             </td><td>176.0                </td><td>148.0     </td><td>936.0     </td><td>--             </td><td>--             </td><td>--         </td><td>--              </td><td>--                   </td><td>--           </td></tr>\n",
              "<tr><td><i style='opacity: 0.6'>7,213,443</i></td><td>2018-12-31</td><td>AA          </td><td>1817               </td><td>CLT     </td><td>MEM   </td><td>2015          </td><td>2010.0    </td><td>-5.0       </td><td>36.0      </td><td>2046.0      </td><td>2114.0     </td><td>4.0      </td><td>2107          </td><td>2118.0    </td><td>11.0       </td><td>0.0        </td><td>                   </td><td>0.0       </td><td>112.0             </td><td>128.0                </td><td>88.0      </td><td>511.0     </td><td>--             </td><td>--             </td><td>--         </td><td>--              </td><td>--                   </td><td>--           </td></tr>\n",
              "<tr><td><i style='opacity: 0.6'>7,213,444</i></td><td>2018-12-31</td><td>AA          </td><td>1818               </td><td>CLT     </td><td>RDU   </td><td>1300          </td><td>1323.0    </td><td>23.0       </td><td>11.0      </td><td>1334.0      </td><td>1400.0     </td><td>4.0      </td><td>1350          </td><td>1404.0    </td><td>14.0       </td><td>0.0        </td><td>                   </td><td>0.0       </td><td>50.0              </td><td>41.0                 </td><td>26.0      </td><td>130.0     </td><td>--             </td><td>--             </td><td>--         </td><td>--              </td><td>--                   </td><td>--           </td></tr>\n",
              "<tr><td><i style='opacity: 0.6'>7,213,445</i></td><td>2018-12-31</td><td>AA          </td><td>1818               </td><td>RDU     </td><td>CLT   </td><td>1435          </td><td>1443.0    </td><td>8.0        </td><td>8.0       </td><td>1451.0      </td><td>1535.0     </td><td>7.0      </td><td>1546          </td><td>1542.0    </td><td>-4.0       </td><td>0.0        </td><td>                   </td><td>0.0       </td><td>71.0              </td><td>59.0                 </td><td>44.0      </td><td>130.0     </td><td>--             </td><td>--             </td><td>--         </td><td>--              </td><td>--                   </td><td>--           </td></tr>\n",
              "</tbody>\n",
              "</table>"
            ]
          },
          "metadata": {}
        }
      ],
      "source": [
        "df.info()"
      ]
    },
    {
      "cell_type": "markdown",
      "metadata": {
        "id": "vCkSwxQn5Gbk"
      },
      "source": [
        "### Barplot"
      ]
    },
    {
      "cell_type": "code",
      "execution_count": 50,
      "metadata": {
        "colab": {
          "base_uri": "https://localhost:8080/",
          "height": 460
        },
        "id": "UbgkyRNP83fD",
        "outputId": "b11dd3fe-87e7-46be-cd6c-41d248b01fab"
      },
      "outputs": [
        {
          "output_type": "stream",
          "name": "stdout",
          "text": [
            "CPU times: user 9.49 s, sys: 635 ms, total: 10.1 s\n",
            "Wall time: 7.44 s\n"
          ]
        },
        {
          "output_type": "execute_result",
          "data": {
            "text/plain": [
              "    Origin   count\n",
              "0      ATL  390046\n",
              "1      ORD  332953\n",
              "2      DFW  279298\n",
              "3      DEN  235989\n",
              "4      CLT  233317\n",
              "..     ...     ...\n",
              "353    AKN      63\n",
              "354    CYS      58\n",
              "355    IFP      45\n",
              "356    ART      25\n",
              "357    YNG       2\n",
              "\n",
              "[358 rows x 2 columns]"
            ],
            "text/html": [
              "\n",
              "  <div id=\"df-d87fdd04-1589-4fb7-acc9-77bdcdae1014\" class=\"colab-df-container\">\n",
              "    <div>\n",
              "<style scoped>\n",
              "    .dataframe tbody tr th:only-of-type {\n",
              "        vertical-align: middle;\n",
              "    }\n",
              "\n",
              "    .dataframe tbody tr th {\n",
              "        vertical-align: top;\n",
              "    }\n",
              "\n",
              "    .dataframe thead th {\n",
              "        text-align: right;\n",
              "    }\n",
              "</style>\n",
              "<table border=\"1\" class=\"dataframe\">\n",
              "  <thead>\n",
              "    <tr style=\"text-align: right;\">\n",
              "      <th></th>\n",
              "      <th>Origin</th>\n",
              "      <th>count</th>\n",
              "    </tr>\n",
              "  </thead>\n",
              "  <tbody>\n",
              "    <tr>\n",
              "      <th>0</th>\n",
              "      <td>ATL</td>\n",
              "      <td>390046</td>\n",
              "    </tr>\n",
              "    <tr>\n",
              "      <th>1</th>\n",
              "      <td>ORD</td>\n",
              "      <td>332953</td>\n",
              "    </tr>\n",
              "    <tr>\n",
              "      <th>2</th>\n",
              "      <td>DFW</td>\n",
              "      <td>279298</td>\n",
              "    </tr>\n",
              "    <tr>\n",
              "      <th>3</th>\n",
              "      <td>DEN</td>\n",
              "      <td>235989</td>\n",
              "    </tr>\n",
              "    <tr>\n",
              "      <th>4</th>\n",
              "      <td>CLT</td>\n",
              "      <td>233317</td>\n",
              "    </tr>\n",
              "    <tr>\n",
              "      <th>...</th>\n",
              "      <td>...</td>\n",
              "      <td>...</td>\n",
              "    </tr>\n",
              "    <tr>\n",
              "      <th>353</th>\n",
              "      <td>AKN</td>\n",
              "      <td>63</td>\n",
              "    </tr>\n",
              "    <tr>\n",
              "      <th>354</th>\n",
              "      <td>CYS</td>\n",
              "      <td>58</td>\n",
              "    </tr>\n",
              "    <tr>\n",
              "      <th>355</th>\n",
              "      <td>IFP</td>\n",
              "      <td>45</td>\n",
              "    </tr>\n",
              "    <tr>\n",
              "      <th>356</th>\n",
              "      <td>ART</td>\n",
              "      <td>25</td>\n",
              "    </tr>\n",
              "    <tr>\n",
              "      <th>357</th>\n",
              "      <td>YNG</td>\n",
              "      <td>2</td>\n",
              "    </tr>\n",
              "  </tbody>\n",
              "</table>\n",
              "<p>358 rows × 2 columns</p>\n",
              "</div>\n",
              "    <div class=\"colab-df-buttons\">\n",
              "\n",
              "  <div class=\"colab-df-container\">\n",
              "    <button class=\"colab-df-convert\" onclick=\"convertToInteractive('df-d87fdd04-1589-4fb7-acc9-77bdcdae1014')\"\n",
              "            title=\"Convert this dataframe to an interactive table.\"\n",
              "            style=\"display:none;\">\n",
              "\n",
              "  <svg xmlns=\"http://www.w3.org/2000/svg\" height=\"24px\" viewBox=\"0 -960 960 960\">\n",
              "    <path d=\"M120-120v-720h720v720H120Zm60-500h600v-160H180v160Zm220 220h160v-160H400v160Zm0 220h160v-160H400v160ZM180-400h160v-160H180v160Zm440 0h160v-160H620v160ZM180-180h160v-160H180v160Zm440 0h160v-160H620v160Z\"/>\n",
              "  </svg>\n",
              "    </button>\n",
              "\n",
              "  <style>\n",
              "    .colab-df-container {\n",
              "      display:flex;\n",
              "      gap: 12px;\n",
              "    }\n",
              "\n",
              "    .colab-df-convert {\n",
              "      background-color: #E8F0FE;\n",
              "      border: none;\n",
              "      border-radius: 50%;\n",
              "      cursor: pointer;\n",
              "      display: none;\n",
              "      fill: #1967D2;\n",
              "      height: 32px;\n",
              "      padding: 0 0 0 0;\n",
              "      width: 32px;\n",
              "    }\n",
              "\n",
              "    .colab-df-convert:hover {\n",
              "      background-color: #E2EBFA;\n",
              "      box-shadow: 0px 1px 2px rgba(60, 64, 67, 0.3), 0px 1px 3px 1px rgba(60, 64, 67, 0.15);\n",
              "      fill: #174EA6;\n",
              "    }\n",
              "\n",
              "    .colab-df-buttons div {\n",
              "      margin-bottom: 4px;\n",
              "    }\n",
              "\n",
              "    [theme=dark] .colab-df-convert {\n",
              "      background-color: #3B4455;\n",
              "      fill: #D2E3FC;\n",
              "    }\n",
              "\n",
              "    [theme=dark] .colab-df-convert:hover {\n",
              "      background-color: #434B5C;\n",
              "      box-shadow: 0px 1px 3px 1px rgba(0, 0, 0, 0.15);\n",
              "      filter: drop-shadow(0px 1px 2px rgba(0, 0, 0, 0.3));\n",
              "      fill: #FFFFFF;\n",
              "    }\n",
              "  </style>\n",
              "\n",
              "    <script>\n",
              "      const buttonEl =\n",
              "        document.querySelector('#df-d87fdd04-1589-4fb7-acc9-77bdcdae1014 button.colab-df-convert');\n",
              "      buttonEl.style.display =\n",
              "        google.colab.kernel.accessAllowed ? 'block' : 'none';\n",
              "\n",
              "      async function convertToInteractive(key) {\n",
              "        const element = document.querySelector('#df-d87fdd04-1589-4fb7-acc9-77bdcdae1014');\n",
              "        const dataTable =\n",
              "          await google.colab.kernel.invokeFunction('convertToInteractive',\n",
              "                                                    [key], {});\n",
              "        if (!dataTable) return;\n",
              "\n",
              "        const docLinkHtml = 'Like what you see? Visit the ' +\n",
              "          '<a target=\"_blank\" href=https://colab.research.google.com/notebooks/data_table.ipynb>data table notebook</a>'\n",
              "          + ' to learn more about interactive tables.';\n",
              "        element.innerHTML = '';\n",
              "        dataTable['output_type'] = 'display_data';\n",
              "        await google.colab.output.renderOutput(dataTable, element);\n",
              "        const docLink = document.createElement('div');\n",
              "        docLink.innerHTML = docLinkHtml;\n",
              "        element.appendChild(docLink);\n",
              "      }\n",
              "    </script>\n",
              "  </div>\n",
              "\n",
              "\n",
              "<div id=\"df-5a361f8e-015d-4005-9af4-75a9d7e06b89\">\n",
              "  <button class=\"colab-df-quickchart\" onclick=\"quickchart('df-5a361f8e-015d-4005-9af4-75a9d7e06b89')\"\n",
              "            title=\"Suggest charts\"\n",
              "            style=\"display:none;\">\n",
              "\n",
              "<svg xmlns=\"http://www.w3.org/2000/svg\" height=\"24px\"viewBox=\"0 0 24 24\"\n",
              "     width=\"24px\">\n",
              "    <g>\n",
              "        <path d=\"M19 3H5c-1.1 0-2 .9-2 2v14c0 1.1.9 2 2 2h14c1.1 0 2-.9 2-2V5c0-1.1-.9-2-2-2zM9 17H7v-7h2v7zm4 0h-2V7h2v10zm4 0h-2v-4h2v4z\"/>\n",
              "    </g>\n",
              "</svg>\n",
              "  </button>\n",
              "\n",
              "<style>\n",
              "  .colab-df-quickchart {\n",
              "      --bg-color: #E8F0FE;\n",
              "      --fill-color: #1967D2;\n",
              "      --hover-bg-color: #E2EBFA;\n",
              "      --hover-fill-color: #174EA6;\n",
              "      --disabled-fill-color: #AAA;\n",
              "      --disabled-bg-color: #DDD;\n",
              "  }\n",
              "\n",
              "  [theme=dark] .colab-df-quickchart {\n",
              "      --bg-color: #3B4455;\n",
              "      --fill-color: #D2E3FC;\n",
              "      --hover-bg-color: #434B5C;\n",
              "      --hover-fill-color: #FFFFFF;\n",
              "      --disabled-bg-color: #3B4455;\n",
              "      --disabled-fill-color: #666;\n",
              "  }\n",
              "\n",
              "  .colab-df-quickchart {\n",
              "    background-color: var(--bg-color);\n",
              "    border: none;\n",
              "    border-radius: 50%;\n",
              "    cursor: pointer;\n",
              "    display: none;\n",
              "    fill: var(--fill-color);\n",
              "    height: 32px;\n",
              "    padding: 0;\n",
              "    width: 32px;\n",
              "  }\n",
              "\n",
              "  .colab-df-quickchart:hover {\n",
              "    background-color: var(--hover-bg-color);\n",
              "    box-shadow: 0 1px 2px rgba(60, 64, 67, 0.3), 0 1px 3px 1px rgba(60, 64, 67, 0.15);\n",
              "    fill: var(--button-hover-fill-color);\n",
              "  }\n",
              "\n",
              "  .colab-df-quickchart-complete:disabled,\n",
              "  .colab-df-quickchart-complete:disabled:hover {\n",
              "    background-color: var(--disabled-bg-color);\n",
              "    fill: var(--disabled-fill-color);\n",
              "    box-shadow: none;\n",
              "  }\n",
              "\n",
              "  .colab-df-spinner {\n",
              "    border: 2px solid var(--fill-color);\n",
              "    border-color: transparent;\n",
              "    border-bottom-color: var(--fill-color);\n",
              "    animation:\n",
              "      spin 1s steps(1) infinite;\n",
              "  }\n",
              "\n",
              "  @keyframes spin {\n",
              "    0% {\n",
              "      border-color: transparent;\n",
              "      border-bottom-color: var(--fill-color);\n",
              "      border-left-color: var(--fill-color);\n",
              "    }\n",
              "    20% {\n",
              "      border-color: transparent;\n",
              "      border-left-color: var(--fill-color);\n",
              "      border-top-color: var(--fill-color);\n",
              "    }\n",
              "    30% {\n",
              "      border-color: transparent;\n",
              "      border-left-color: var(--fill-color);\n",
              "      border-top-color: var(--fill-color);\n",
              "      border-right-color: var(--fill-color);\n",
              "    }\n",
              "    40% {\n",
              "      border-color: transparent;\n",
              "      border-right-color: var(--fill-color);\n",
              "      border-top-color: var(--fill-color);\n",
              "    }\n",
              "    60% {\n",
              "      border-color: transparent;\n",
              "      border-right-color: var(--fill-color);\n",
              "    }\n",
              "    80% {\n",
              "      border-color: transparent;\n",
              "      border-right-color: var(--fill-color);\n",
              "      border-bottom-color: var(--fill-color);\n",
              "    }\n",
              "    90% {\n",
              "      border-color: transparent;\n",
              "      border-bottom-color: var(--fill-color);\n",
              "    }\n",
              "  }\n",
              "</style>\n",
              "\n",
              "  <script>\n",
              "    async function quickchart(key) {\n",
              "      const quickchartButtonEl =\n",
              "        document.querySelector('#' + key + ' button');\n",
              "      quickchartButtonEl.disabled = true;  // To prevent multiple clicks.\n",
              "      quickchartButtonEl.classList.add('colab-df-spinner');\n",
              "      try {\n",
              "        const charts = await google.colab.kernel.invokeFunction(\n",
              "            'suggestCharts', [key], {});\n",
              "      } catch (error) {\n",
              "        console.error('Error during call to suggestCharts:', error);\n",
              "      }\n",
              "      quickchartButtonEl.classList.remove('colab-df-spinner');\n",
              "      quickchartButtonEl.classList.add('colab-df-quickchart-complete');\n",
              "    }\n",
              "    (() => {\n",
              "      let quickchartButtonEl =\n",
              "        document.querySelector('#df-5a361f8e-015d-4005-9af4-75a9d7e06b89 button');\n",
              "      quickchartButtonEl.style.display =\n",
              "        google.colab.kernel.accessAllowed ? 'block' : 'none';\n",
              "    })();\n",
              "  </script>\n",
              "</div>\n",
              "    </div>\n",
              "  </div>\n"
            ]
          },
          "metadata": {},
          "execution_count": 50
        }
      ],
      "source": [
        "%%time\n",
        "\n",
        "Country_count = df.ORIGIN.value_counts().rename_axis('Origin').reset_index(name='count')\n",
        "Country_count"
      ]
    },
    {
      "cell_type": "code",
      "execution_count": 51,
      "metadata": {
        "id": "T0cnRsjF6OHW",
        "colab": {
          "base_uri": "https://localhost:8080/",
          "height": 523
        },
        "outputId": "a1e11717-04ac-4f9f-f058-821310ed86a2"
      },
      "outputs": [
        {
          "output_type": "display_data",
          "data": {
            "text/plain": [
              "<Figure size 1000x500 with 1 Axes>"
            ],
            "image/png": "[encoded data removed]"
          },
          "metadata": {}
        },
        {
          "output_type": "stream",
          "name": "stdout",
          "text": [
            "CPU times: user 3.79 s, sys: 198 ms, total: 3.99 s\n",
            "Wall time: 4.02 s\n"
          ]
        }
      ],
      "source": [
        "# show barplot\n",
        "\n",
        "%%time\n",
        "plt.figure(figsize=(10,5))\n",
        "sns.barplot(x='Origin', y='count',data=Country_count).set(title=\"Airline Origin Country\")\n",
        "plt.show()"
      ]
    },
    {
      "cell_type": "markdown",
      "metadata": {
        "id": "K7yFYFID5MLK"
      },
      "source": [
        "### Boxplot"
      ]
    },
    {
      "cell_type": "code",
      "execution_count": 53,
      "metadata": {
        "id": "rJ9nnD6q6OdN",
        "colab": {
          "base_uri": "https://localhost:8080/",
          "height": 523
        },
        "outputId": "2098f85f-a71d-478d-dc5c-79cac0ba64de"
      },
      "outputs": [
        {
          "output_type": "display_data",
          "data": {
            "text/plain": [
              "<Figure size 1000x500 with 1 Axes>"
            ],
            "image/png": "[encoded data removed]"
          },
          "metadata": {}
        },
        {
          "output_type": "stream",
          "name": "stdout",
          "text": [
            "CPU times: user 9.14 s, sys: 735 ms, total: 9.87 s\n",
            "Wall time: 7.08 s\n"
          ]
        }
      ],
      "source": [
        "%%time\n",
        "plt.figure(figsize=(10,5))\n",
        "plt.boxplot(x=df.ARR_TIME)\n",
        "plt.title('Arrival Delay Time')\n",
        "plt.xlabel('Arrival Time')\n",
        "# sns.boxplot(x='ARR_TIME',data=df,showfliers=False)\n",
        "plt.show()"
      ]
    },
    {
      "cell_type": "markdown",
      "metadata": {
        "id": "U6p9oYK4S6uf"
      },
      "source": [
        "### Lineplot"
      ]
    },
    {
      "cell_type": "code",
      "source": [
        "%%time\n",
        "df['year'] = df['FL_DATE'].dt.year\n",
        "df['month'] = df['FL_DATE'].dt.month\n",
        "df['day'] = df['FL_DATE'].dt.day"
      ],
      "metadata": {
        "id": "SDil8Moj-7JB",
        "colab": {
          "base_uri": "https://localhost:8080/"
        },
        "outputId": "6fda3a07-52c5-43a4-d95d-2f0550784408"
      },
      "execution_count": 54,
      "outputs": [
        {
          "output_type": "stream",
          "name": "stdout",
          "text": [
            "CPU times: user 5.52 ms, sys: 1.06 ms, total: 6.58 ms\n",
            "Wall time: 14.2 ms\n"
          ]
        }
      ]
    },
    {
      "cell_type": "code",
      "source": [
        "%%time\n",
        "# Plot the historical Sales\n",
        "plt.figure(figsize=(30,10))\n",
        "plt.plot(df_filtered.FL_DATE)\n",
        "plt.xlabel('FL_DATE')\n",
        "plt.ylabel('DEP_TIME')\n",
        "plt.title('The flight date and departure time')\n",
        "plt.show()"
      ],
      "metadata": {
        "colab": {
          "base_uri": "https://localhost:8080/",
          "height": 181
        },
        "id": "vqW_ajQlWTst",
        "outputId": "4c40a099-2501-417a-edea-576a87f2f8b0"
      },
      "execution_count": 57,
      "outputs": [
        {
          "output_type": "error",
          "ename": "NameError",
          "evalue": "ignored",
          "traceback": [
            "\u001b[0;31m---------------------------------------------------------------------------\u001b[0m",
            "\u001b[0;31mNameError\u001b[0m                                 Traceback (most recent call last)",
            "\u001b[0;32m<timed exec>\u001b[0m in \u001b[0;36m<module>\u001b[0;34m\u001b[0m\n",
            "\u001b[0;31mNameError\u001b[0m: name 'df_filtered' is not defined"
          ]
        },
        {
          "output_type": "display_data",
          "data": {
            "text/plain": [
              "<Figure size 3000x1000 with 0 Axes>"
            ]
          },
          "metadata": {}
        }
      ]
    },
    {
      "cell_type": "markdown",
      "metadata": {
        "id": "-kZe-a8e5NfQ"
      },
      "source": [
        "### Viz Histogram / Plot 1D"
      ]
    },
    {
      "cell_type": "code",
      "execution_count": 59,
      "metadata": {
        "colab": {
          "base_uri": "https://localhost:8080/",
          "height": 650
        },
        "id": "kZzL2cN0FQzL",
        "outputId": "cda8d61d-dc35-4ff3-e82a-adc3323c418d"
      },
      "outputs": [
        {
          "output_type": "display_data",
          "data": {
            "text/plain": [
              "<Figure size 1200x600 with 1 Axes>"
            ],
            "image/png": "[encoded data removed]"
          },
          "metadata": {}
        },
        {
          "output_type": "stream",
          "name": "stdout",
          "text": [
            "CPU times: user 26.5 s, sys: 1.68 s, total: 28.2 s\n",
            "Wall time: 20.3 s\n"
          ]
        }
      ],
      "source": [
        "%%time\n",
        "plt.figure(figsize=(12,6))\n",
        "df.viz.histogram(df.DEP_DELAY, limits='99.7%')\n",
        "plt.title('Departure Delay Time')\n",
        "plt.show()"
      ]
    },
    {
      "cell_type": "code",
      "execution_count": 60,
      "metadata": {
        "id": "NRdSZUGrHG3Q",
        "colab": {
          "base_uri": "https://localhost:8080/",
          "height": 702
        },
        "outputId": "9ce39d63-ae1e-43a2-d452-e4cfacfbc20d"
      },
      "outputs": [
        {
          "output_type": "stream",
          "name": "stdout",
          "text": [
            "CPU times: user 4 µs, sys: 1 µs, total: 5 µs\n",
            "Wall time: 7.15 µs\n"
          ]
        },
        {
          "output_type": "stream",
          "name": "stderr",
          "text": [
            "/usr/local/lib/python3.10/dist-packages/vaex/viz/mpl.py:46: UserWarning: `plot1d` is deprecated and it will be removed in version 5.x. Please use `df.viz.histogram` instead.\n",
            "  warnings.warn('`plot1d` is deprecated and it will be removed in version 5.x. Please use `df.viz.histogram` instead.')\n"
          ]
        },
        {
          "output_type": "display_data",
          "data": {
            "text/plain": [
              "<Figure size 1200x600 with 1 Axes>"
            ],
            "image/png": "[encoded data removed]"
          },
          "metadata": {}
        }
      ],
      "source": [
        "%time\n",
        "plt.figure(figsize=(12,6))\n",
        "df.plot1d(df.DISTANCE,limits='99.7%')\n",
        "plt.title('Distance Distribution')\n",
        "plt.show()"
      ]
    },
    {
      "cell_type": "markdown",
      "metadata": {
        "id": "DxmbdyAEMAb7"
      },
      "source": [
        "### Plot 2D/Heatmap with 2 variables"
      ]
    },
    {
      "cell_type": "code",
      "execution_count": 61,
      "metadata": {
        "id": "TSSzmNnsMKus",
        "colab": {
          "base_uri": "https://localhost:8080/",
          "height": 643
        },
        "outputId": "aaf06949-660c-494c-e322-51b54274d064"
      },
      "outputs": [
        {
          "output_type": "display_data",
          "data": {
            "text/plain": [
              "<Figure size 1500x600 with 2 Axes>"
            ],
            "image/png": "[encoded data removed]"
          },
          "metadata": {}
        },
        {
          "output_type": "stream",
          "name": "stdout",
          "text": [
            "CPU times: user 19.4 s, sys: 1.3 s, total: 20.7 s\n",
            "Wall time: 14.4 s\n"
          ]
        }
      ],
      "source": [
        "%%time\n",
        "\n",
        "plt.figure(figsize=(15,6))\n",
        "df.viz.heatmap(df.DISTANCE , df.ARR_TIME)\n",
        "plt.show()"
      ]
    }
  ],
  "metadata": {
    "colab": {
      "collapsed_sections": [
        "NXkQ7W7xP9R8",
        "ZQ1byFhx-Exn",
        "UmV_eLihlbAJ",
        "Nf2bWrNygtxN",
        "vj_4KBGFhz6X",
        "IudI8YiviCNB",
        "rT3kk_mhiN5y",
        "hS-0YWeniPgr",
        "DDiV1SpCiRLK",
        "OK7R6JELiSuP",
        "012dm6W-iUMY",
        "6TL1Z3lWImlP"
      ],
      "provenance": [],
      "include_colab_link": true
    },
    "kernelspec": {
      "display_name": "Python 3",
      "name": "python3"
    },
    "language_info": {
      "name": "python"
    }
  },
  "nbformat": 4,
  "nbformat_minor": 0
}
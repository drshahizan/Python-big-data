{
  "cells": [
    {
      "cell_type": "markdown",
      "metadata": {
        "id": "view-in-github",
        "colab_type": "text"
      },
      "source": [
        "<a href=\"https://colab.research.google.com/github/drshahizan/Python-big-data/blob/main/assignment/ass7/hpdp/DEADPOOL/Library_2.ipynb\" target=\"_parent\"><img src=\"https://colab.research.google.com/assets/colab-badge.svg\" alt=\"Open In Colab\"/></a>"
      ]
    },
    {
      "cell_type": "markdown",
      "metadata": {
        "id": "7F8DQl5dVJJ0"
      },
      "source": [
        "# **Assignment 7: Comparison between libraries**\n",
        "\n",
        "## **Group Members**\n",
        "| Name                                     | Matrix Number | Task |\n",
        "| :---------------------------------------- | :-------------: | ------------- |\n",
        "|MUHAMMAD AMIR JAMIL BIN JAMLUS          | A21EC0202     |Polars|\n",
        "|KEE SHIN PEARL         | A21EC0190     |Comparison|\n",
        "|MUHAMMAD IZZUDDIN BIN SHABRIN           | A21EC0083   |Dask|\n",
        "|UMAR HAZIQ BIN MUHAMAD NORHISHAM            |  A21EC0235   |Pandas|\n",
        "\n"
      ]
    },
    {
      "cell_type": "markdown",
      "source": [
        "##**About the Dataset**\n",
        "The dataset that we will use for this project is Anime Dataset 2023 which compromises of three csv files, which are anime-dataset-2023.csv, users-details-2023.csv, and users-score-2023.csv.However, we will only use one file which is users-score-2023.csv and this dataset can be accessed through this [link](https://www.kaggle.com/datasets/dbdmobile/myanimelist-dataset?select=users-score-2023.csv)\n",
        "\n",
        "The columns and its description of the dataset is as show below:\n",
        "\n",
        "| Name                                     | Matrix Number |\n",
        "| :---------------------------------------- | :-------------: |\n",
        "|user_id | Unique ID for each user     |\n",
        "|Username| The username of the user|\n",
        "|anime_id           |Unique ID for each anime.|\n",
        "|Anime Title            | The title of the anime|\n",
        "|rating            |  The rating given by the user to the anime.|\n",
        "\n",
        "\n",
        "The User Score Dataset enables various analyses and insights into user interactions with anime. By examining user ratings for different anime titles, you can identify highly-rated and popular anime among users. Additionally, you can explore user preferences and watch patterns for specific anime titles. This dataset also forms the foundation for building recommendation systems based on user ratings, helping to suggest anime that align with individual tastes. Furthermore, you can perform collaborative filtering and similarity analysis to discover patterns of similar user interests. Overall, this dataset offers valuable information for understanding user engagement and preferences on the anime platform.\n",
        "\n",
        "\n",
        "\n"
      ],
      "metadata": {
        "id": "26ogetpALwwl"
      }
    },
    {
      "cell_type": "markdown",
      "metadata": {
        "id": "LxWzVndBVJJ1"
      },
      "source": [
        "## **Downloading the Dataset**\n",
        "\n",
        "For the dataset, we will upload the dataset directly from Kaggle through Kaggle API"
      ]
    },
    {
      "cell_type": "markdown",
      "metadata": {
        "id": "oHRcyidmVJJ1"
      },
      "source": [
        "\n",
        "Install Kaggle Library\n"
      ]
    },
    {
      "cell_type": "code",
      "execution_count": 1,
      "metadata": {
        "id": "_s6ZSPWYVJJ2",
        "colab": {
          "base_uri": "https://localhost:8080/"
        },
        "outputId": "919e9d10-ed8d-4d9a-a325-385ada136aa3"
      },
      "outputs": [
        {
          "output_type": "stream",
          "name": "stdout",
          "text": [
            "Requirement already satisfied: kaggle in /usr/local/lib/python3.10/dist-packages (1.5.16)\n",
            "Requirement already satisfied: six>=1.10 in /usr/local/lib/python3.10/dist-packages (from kaggle) (1.16.0)\n",
            "Requirement already satisfied: certifi in /usr/local/lib/python3.10/dist-packages (from kaggle) (2023.11.17)\n",
            "Requirement already satisfied: python-dateutil in /usr/local/lib/python3.10/dist-packages (from kaggle) (2.8.2)\n",
            "Requirement already satisfied: requests in /usr/local/lib/python3.10/dist-packages (from kaggle) (2.31.0)\n",
            "Requirement already satisfied: tqdm in /usr/local/lib/python3.10/dist-packages (from kaggle) (4.66.1)\n",
            "Requirement already satisfied: python-slugify in /usr/local/lib/python3.10/dist-packages (from kaggle) (8.0.1)\n",
            "Requirement already satisfied: urllib3 in /usr/local/lib/python3.10/dist-packages (from kaggle) (2.0.7)\n",
            "Requirement already satisfied: bleach in /usr/local/lib/python3.10/dist-packages (from kaggle) (6.1.0)\n",
            "Requirement already satisfied: webencodings in /usr/local/lib/python3.10/dist-packages (from bleach->kaggle) (0.5.1)\n",
            "Requirement already satisfied: text-unidecode>=1.3 in /usr/local/lib/python3.10/dist-packages (from python-slugify->kaggle) (1.3)\n",
            "Requirement already satisfied: charset-normalizer<4,>=2 in /usr/local/lib/python3.10/dist-packages (from requests->kaggle) (3.3.2)\n",
            "Requirement already satisfied: idna<4,>=2.5 in /usr/local/lib/python3.10/dist-packages (from requests->kaggle) (3.6)\n"
          ]
        }
      ],
      "source": [
        "! pip install kaggle"
      ]
    },
    {
      "cell_type": "markdown",
      "metadata": {
        "id": "GhhO14GEVJJ2"
      },
      "source": [
        "Upload the kaggle API through this command"
      ]
    },
    {
      "cell_type": "code",
      "execution_count": 2,
      "metadata": {
        "id": "90nIoWQtVJJ3",
        "colab": {
          "base_uri": "https://localhost:8080/",
          "height": 73
        },
        "outputId": "7f2b4095-6719-4d3b-9c6e-65cb437ddbbf"
      },
      "outputs": [
        {
          "output_type": "display_data",
          "data": {
            "text/plain": [
              "<IPython.core.display.HTML object>"
            ],
            "text/html": [
              "\n",
              "     <input type=\"file\" id=\"files-f77723e8-ed71-47a5-a23c-5735fb02715a\" name=\"files[]\" multiple disabled\n",
              "        style=\"border:none\" />\n",
              "     <output id=\"result-f77723e8-ed71-47a5-a23c-5735fb02715a\">\n",
              "      Upload widget is only available when the cell has been executed in the\n",
              "      current browser session. Please rerun this cell to enable.\n",
              "      </output>\n",
              "      <script>// Copyright 2017 Google LLC\n",
              "//\n",
              "// Licensed under the Apache License, Version 2.0 (the \"License\");\n",
              "// you may not use this file except in compliance with the License.\n",
              "// You may obtain a copy of the License at\n",
              "//\n",
              "//      http://www.apache.org/licenses/LICENSE-2.0\n",
              "//\n",
              "// Unless required by applicable law or agreed to in writing, software\n",
              "// distributed under the License is distributed on an \"AS IS\" BASIS,\n",
              "// WITHOUT WARRANTIES OR CONDITIONS OF ANY KIND, either express or implied.\n",
              "// See the License for the specific language governing permissions and\n",
              "// limitations under the License.\n",
              "\n",
              "/**\n",
              " * @fileoverview Helpers for google.colab Python module.\n",
              " */\n",
              "(function(scope) {\n",
              "function span(text, styleAttributes = {}) {\n",
              "  const element = document.createElement('span');\n",
              "  element.textContent = text;\n",
              "  for (const key of Object.keys(styleAttributes)) {\n",
              "    element.style[key] = styleAttributes[key];\n",
              "  }\n",
              "  return element;\n",
              "}\n",
              "\n",
              "// Max number of bytes which will be uploaded at a time.\n",
              "const MAX_PAYLOAD_SIZE = 100 * 1024;\n",
              "\n",
              "function _uploadFiles(inputId, outputId) {\n",
              "  const steps = uploadFilesStep(inputId, outputId);\n",
              "  const outputElement = document.getElementById(outputId);\n",
              "  // Cache steps on the outputElement to make it available for the next call\n",
              "  // to uploadFilesContinue from Python.\n",
              "  outputElement.steps = steps;\n",
              "\n",
              "  return _uploadFilesContinue(outputId);\n",
              "}\n",
              "\n",
              "// This is roughly an async generator (not supported in the browser yet),\n",
              "// where there are multiple asynchronous steps and the Python side is going\n",
              "// to poll for completion of each step.\n",
              "// This uses a Promise to block the python side on completion of each step,\n",
              "// then passes the result of the previous step as the input to the next step.\n",
              "function _uploadFilesContinue(outputId) {\n",
              "  const outputElement = document.getElementById(outputId);\n",
              "  const steps = outputElement.steps;\n",
              "\n",
              "  const next = steps.next(outputElement.lastPromiseValue);\n",
              "  return Promise.resolve(next.value.promise).then((value) => {\n",
              "    // Cache the last promise value to make it available to the next\n",
              "    // step of the generator.\n",
              "    outputElement.lastPromiseValue = value;\n",
              "    return next.value.response;\n",
              "  });\n",
              "}\n",
              "\n",
              "/**\n",
              " * Generator function which is called between each async step of the upload\n",
              " * process.\n",
              " * @param {string} inputId Element ID of the input file picker element.\n",
              " * @param {string} outputId Element ID of the output display.\n",
              " * @return {!Iterable<!Object>} Iterable of next steps.\n",
              " */\n",
              "function* uploadFilesStep(inputId, outputId) {\n",
              "  const inputElement = document.getElementById(inputId);\n",
              "  inputElement.disabled = false;\n",
              "\n",
              "  const outputElement = document.getElementById(outputId);\n",
              "  outputElement.innerHTML = '';\n",
              "\n",
              "  const pickedPromise = new Promise((resolve) => {\n",
              "    inputElement.addEventListener('change', (e) => {\n",
              "      resolve(e.target.files);\n",
              "    });\n",
              "  });\n",
              "\n",
              "  const cancel = document.createElement('button');\n",
              "  inputElement.parentElement.appendChild(cancel);\n",
              "  cancel.textContent = 'Cancel upload';\n",
              "  const cancelPromise = new Promise((resolve) => {\n",
              "    cancel.onclick = () => {\n",
              "      resolve(null);\n",
              "    };\n",
              "  });\n",
              "\n",
              "  // Wait for the user to pick the files.\n",
              "  const files = yield {\n",
              "    promise: Promise.race([pickedPromise, cancelPromise]),\n",
              "    response: {\n",
              "      action: 'starting',\n",
              "    }\n",
              "  };\n",
              "\n",
              "  cancel.remove();\n",
              "\n",
              "  // Disable the input element since further picks are not allowed.\n",
              "  inputElement.disabled = true;\n",
              "\n",
              "  if (!files) {\n",
              "    return {\n",
              "      response: {\n",
              "        action: 'complete',\n",
              "      }\n",
              "    };\n",
              "  }\n",
              "\n",
              "  for (const file of files) {\n",
              "    const li = document.createElement('li');\n",
              "    li.append(span(file.name, {fontWeight: 'bold'}));\n",
              "    li.append(span(\n",
              "        `(${file.type || 'n/a'}) - ${file.size} bytes, ` +\n",
              "        `last modified: ${\n",
              "            file.lastModifiedDate ? file.lastModifiedDate.toLocaleDateString() :\n",
              "                                    'n/a'} - `));\n",
              "    const percent = span('0% done');\n",
              "    li.appendChild(percent);\n",
              "\n",
              "    outputElement.appendChild(li);\n",
              "\n",
              "    const fileDataPromise = new Promise((resolve) => {\n",
              "      const reader = new FileReader();\n",
              "      reader.onload = (e) => {\n",
              "        resolve(e.target.result);\n",
              "      };\n",
              "      reader.readAsArrayBuffer(file);\n",
              "    });\n",
              "    // Wait for the data to be ready.\n",
              "    let fileData = yield {\n",
              "      promise: fileDataPromise,\n",
              "      response: {\n",
              "        action: 'continue',\n",
              "      }\n",
              "    };\n",
              "\n",
              "    // Use a chunked sending to avoid message size limits. See b/62115660.\n",
              "    let position = 0;\n",
              "    do {\n",
              "      const length = Math.min(fileData.byteLength - position, MAX_PAYLOAD_SIZE);\n",
              "      const chunk = new Uint8Array(fileData, position, length);\n",
              "      position += length;\n",
              "\n",
              "      const base64 = btoa(String.fromCharCode.apply(null, chunk));\n",
              "      yield {\n",
              "        response: {\n",
              "          action: 'append',\n",
              "          file: file.name,\n",
              "          data: base64,\n",
              "        },\n",
              "      };\n",
              "\n",
              "      let percentDone = fileData.byteLength === 0 ?\n",
              "          100 :\n",
              "          Math.round((position / fileData.byteLength) * 100);\n",
              "      percent.textContent = `${percentDone}% done`;\n",
              "\n",
              "    } while (position < fileData.byteLength);\n",
              "  }\n",
              "\n",
              "  // All done.\n",
              "  yield {\n",
              "    response: {\n",
              "      action: 'complete',\n",
              "    }\n",
              "  };\n",
              "}\n",
              "\n",
              "scope.google = scope.google || {};\n",
              "scope.google.colab = scope.google.colab || {};\n",
              "scope.google.colab._files = {\n",
              "  _uploadFiles,\n",
              "  _uploadFilesContinue,\n",
              "};\n",
              "})(self);\n",
              "</script> "
            ]
          },
          "metadata": {}
        },
        {
          "output_type": "stream",
          "name": "stdout",
          "text": [
            "Saving kaggle.json to kaggle (2).json\n"
          ]
        }
      ],
      "source": [
        "from google.colab import files\n",
        "uploaded = files.upload()"
      ]
    },
    {
      "cell_type": "markdown",
      "source": [
        "Make a directory named “.kaggle”"
      ],
      "metadata": {
        "id": "YvKaWOjzqucx"
      }
    },
    {
      "cell_type": "code",
      "execution_count": 3,
      "metadata": {
        "id": "oAVmLuq2VJJ3",
        "colab": {
          "base_uri": "https://localhost:8080/"
        },
        "outputId": "73113140-446a-4d86-f943-a14800f3a737"
      },
      "outputs": [
        {
          "output_type": "stream",
          "name": "stdout",
          "text": [
            "mkdir: cannot create directory ‘/root/.kaggle’: File exists\n"
          ]
        }
      ],
      "source": [
        " ! mkdir ~/.kaggle"
      ]
    },
    {
      "cell_type": "markdown",
      "source": [
        "Copy the “kaggle.json” into this new directory"
      ],
      "metadata": {
        "id": "JjB1NYoiq8k7"
      }
    },
    {
      "cell_type": "code",
      "source": [
        "! cp kaggle.json ~/.kaggle/"
      ],
      "metadata": {
        "id": "l98IDiRap-fa"
      },
      "execution_count": 4,
      "outputs": []
    },
    {
      "cell_type": "markdown",
      "source": [
        "Allocate the required permission for this file."
      ],
      "metadata": {
        "id": "4gzXhhUqrELN"
      }
    },
    {
      "cell_type": "code",
      "source": [
        "! chmod 600 ~/.kaggle/kaggle.json"
      ],
      "metadata": {
        "id": "DZ2YqsFNqAYo"
      },
      "execution_count": 5,
      "outputs": []
    },
    {
      "cell_type": "markdown",
      "source": [
        "To download the dataset into Colab we will use another command followed by the dataset name"
      ],
      "metadata": {
        "id": "OetkYmHAqj5T"
      }
    },
    {
      "cell_type": "code",
      "source": [
        "! kaggle datasets download -d dbdmobile/myanimelist-dataset -f users-score-2023.csv"
      ],
      "metadata": {
        "colab": {
          "base_uri": "https://localhost:8080/"
        },
        "id": "cOc3f0o2qFLF",
        "outputId": "37049166-1b93-4976-f8c9-94d07c68270e"
      },
      "execution_count": 6,
      "outputs": [
        {
          "output_type": "stream",
          "name": "stdout",
          "text": [
            "users-score-2023.csv.zip: Skipping, found more recently modified local copy (use --force to force download)\n"
          ]
        }
      ]
    },
    {
      "cell_type": "markdown",
      "source": [
        "Extract and unzip the dataset"
      ],
      "metadata": {
        "id": "_VGRadspqp6L"
      }
    },
    {
      "cell_type": "code",
      "source": [
        "! unzip users-score-2023.csv.zip"
      ],
      "metadata": {
        "colab": {
          "base_uri": "https://localhost:8080/"
        },
        "id": "OSwOVelyqHj7",
        "outputId": "2a654d20-6c1e-4258-d139-2a6637e570fb"
      },
      "execution_count": 7,
      "outputs": [
        {
          "output_type": "stream",
          "name": "stdout",
          "text": [
            "Archive:  users-score-2023.csv.zip\n",
            "replace users-score-2023.csv? [y]es, [n]o, [A]ll, [N]one, [r]ename: "
          ]
        }
      ]
    },
    {
      "cell_type": "markdown",
      "metadata": {
        "id": "XXnPmr-JVJJ3"
      },
      "source": [
        "The dataset has been downloaded and extracted."
      ]
    },
    {
      "cell_type": "markdown",
      "metadata": {
        "id": "u0vucnGFVJJ5"
      },
      "source": [
        "## **Data Preparation and Cleaning**\n",
        "\n",
        "In this section, we will load the dataset into the dataframe, explore the dataset, handle missing, incorrect and invalid data in the dataframe\n",
        "\n"
      ]
    },
    {
      "cell_type": "markdown",
      "source": [
        "###**Install Dask**"
      ],
      "metadata": {
        "id": "nf1ZJ4r-saqQ"
      }
    },
    {
      "cell_type": "code",
      "source": [
        "! pip install dask"
      ],
      "metadata": {
        "colab": {
          "base_uri": "https://localhost:8080/"
        },
        "id": "hrFsTvFqsXW3",
        "outputId": "2328edbb-02fb-4bcb-8d26-d240d2337655"
      },
      "execution_count": 8,
      "outputs": [
        {
          "output_type": "stream",
          "name": "stdout",
          "text": [
            "Requirement already satisfied: dask in /usr/local/lib/python3.10/dist-packages (2023.8.1)\n",
            "Requirement already satisfied: click>=8.0 in /usr/local/lib/python3.10/dist-packages (from dask) (8.1.7)\n",
            "Requirement already satisfied: cloudpickle>=1.5.0 in /usr/local/lib/python3.10/dist-packages (from dask) (2.2.1)\n",
            "Requirement already satisfied: fsspec>=2021.09.0 in /usr/local/lib/python3.10/dist-packages (from dask) (2023.6.0)\n",
            "Requirement already satisfied: packaging>=20.0 in /usr/local/lib/python3.10/dist-packages (from dask) (23.2)\n",
            "Requirement already satisfied: partd>=1.2.0 in /usr/local/lib/python3.10/dist-packages (from dask) (1.4.1)\n",
            "Requirement already satisfied: pyyaml>=5.3.1 in /usr/local/lib/python3.10/dist-packages (from dask) (6.0.1)\n",
            "Requirement already satisfied: toolz>=0.10.0 in /usr/local/lib/python3.10/dist-packages (from dask) (0.12.0)\n",
            "Requirement already satisfied: importlib-metadata>=4.13.0 in /usr/local/lib/python3.10/dist-packages (from dask) (7.0.0)\n",
            "Requirement already satisfied: zipp>=0.5 in /usr/local/lib/python3.10/dist-packages (from importlib-metadata>=4.13.0->dask) (3.17.0)\n",
            "Requirement already satisfied: locket in /usr/local/lib/python3.10/dist-packages (from partd>=1.2.0->dask) (1.0.0)\n"
          ]
        }
      ]
    },
    {
      "cell_type": "markdown",
      "source": [
        "###**Import Necessary Libraries**"
      ],
      "metadata": {
        "id": "UFPRK6u-d-72"
      }
    },
    {
      "cell_type": "code",
      "source": [
        "import dask.dataframe as dd\n",
        "import matplotlib.pyplot as plt\n",
        "import seaborn as sns\n",
        "import pandas as pd\n",
        "import numpy as np\n",
        "from dask.distributed import Client\n",
        "from dask import delayed"
      ],
      "metadata": {
        "id": "zAFuJXbfd6tk"
      },
      "execution_count": 9,
      "outputs": []
    },
    {
      "cell_type": "markdown",
      "source": [
        "###**Load the Dataset into Dask DataFrame**"
      ],
      "metadata": {
        "id": "SSxS9-WTtEX0"
      }
    },
    {
      "cell_type": "code",
      "execution_count": 10,
      "metadata": {
        "id": "df5R-2s3VJJ5"
      },
      "outputs": [],
      "source": [
        "ddf = dd.read_csv('/content/users-score-2023.csv')\n",
        "df= ddf.compute()"
      ]
    },
    {
      "cell_type": "markdown",
      "source": [
        "###**Explore the number of rows & columns, ranges of values etc.**"
      ],
      "metadata": {
        "id": "V1WmxwaVuMqQ"
      }
    },
    {
      "cell_type": "markdown",
      "source": [
        "Display the dataframe"
      ],
      "metadata": {
        "id": "d4b_uLWDvw4v"
      }
    },
    {
      "cell_type": "code",
      "source": [
        "df"
      ],
      "metadata": {
        "colab": {
          "base_uri": "https://localhost:8080/",
          "height": 424
        },
        "id": "AD9RJ7dHvzf7",
        "outputId": "cba2bb13-98e3-4e0f-80dc-64e9e6803b1a"
      },
      "execution_count": 11,
      "outputs": [
        {
          "output_type": "execute_result",
          "data": {
            "text/plain": [
              "         user_id    Username  anime_id             Anime Title  rating\n",
              "0              1       Xinil        21               One Piece       9\n",
              "1              1       Xinil        48             .hack//Sign       7\n",
              "2              1       Xinil       320                  A Kite       5\n",
              "3              1       Xinil        49        Aa! Megami-sama!       8\n",
              "4              1       Xinil       304  Aa! Megami-sama! Movie       8\n",
              "...          ...         ...       ...                     ...     ...\n",
              "1301883  1291087   Oblongata     10611                    R-15       3\n",
              "1301884  1291087   Oblongata       174            Tenjou Tenge       6\n",
              "1301885  1291097  JuunanaSai      1535              Death Note       9\n",
              "1301886  1291097  JuunanaSai       226              Elfen Lied      10\n",
              "1301887  1291097  JuunanaSai      8425                  Gosick      10\n",
              "\n",
              "[24325191 rows x 5 columns]"
            ],
            "text/html": [
              "\n",
              "  <div id=\"df-d217de8e-0689-4f7c-8882-23fdcc99d8f5\" class=\"colab-df-container\">\n",
              "    <div>\n",
              "<style scoped>\n",
              "    .dataframe tbody tr th:only-of-type {\n",
              "        vertical-align: middle;\n",
              "    }\n",
              "\n",
              "    .dataframe tbody tr th {\n",
              "        vertical-align: top;\n",
              "    }\n",
              "\n",
              "    .dataframe thead th {\n",
              "        text-align: right;\n",
              "    }\n",
              "</style>\n",
              "<table border=\"1\" class=\"dataframe\">\n",
              "  <thead>\n",
              "    <tr style=\"text-align: right;\">\n",
              "      <th></th>\n",
              "      <th>user_id</th>\n",
              "      <th>Username</th>\n",
              "      <th>anime_id</th>\n",
              "      <th>Anime Title</th>\n",
              "      <th>rating</th>\n",
              "    </tr>\n",
              "  </thead>\n",
              "  <tbody>\n",
              "    <tr>\n",
              "      <th>0</th>\n",
              "      <td>1</td>\n",
              "      <td>Xinil</td>\n",
              "      <td>21</td>\n",
              "      <td>One Piece</td>\n",
              "      <td>9</td>\n",
              "    </tr>\n",
              "    <tr>\n",
              "      <th>1</th>\n",
              "      <td>1</td>\n",
              "      <td>Xinil</td>\n",
              "      <td>48</td>\n",
              "      <td>.hack//Sign</td>\n",
              "      <td>7</td>\n",
              "    </tr>\n",
              "    <tr>\n",
              "      <th>2</th>\n",
              "      <td>1</td>\n",
              "      <td>Xinil</td>\n",
              "      <td>320</td>\n",
              "      <td>A Kite</td>\n",
              "      <td>5</td>\n",
              "    </tr>\n",
              "    <tr>\n",
              "      <th>3</th>\n",
              "      <td>1</td>\n",
              "      <td>Xinil</td>\n",
              "      <td>49</td>\n",
              "      <td>Aa! Megami-sama!</td>\n",
              "      <td>8</td>\n",
              "    </tr>\n",
              "    <tr>\n",
              "      <th>4</th>\n",
              "      <td>1</td>\n",
              "      <td>Xinil</td>\n",
              "      <td>304</td>\n",
              "      <td>Aa! Megami-sama! Movie</td>\n",
              "      <td>8</td>\n",
              "    </tr>\n",
              "    <tr>\n",
              "      <th>...</th>\n",
              "      <td>...</td>\n",
              "      <td>...</td>\n",
              "      <td>...</td>\n",
              "      <td>...</td>\n",
              "      <td>...</td>\n",
              "    </tr>\n",
              "    <tr>\n",
              "      <th>1301883</th>\n",
              "      <td>1291087</td>\n",
              "      <td>Oblongata</td>\n",
              "      <td>10611</td>\n",
              "      <td>R-15</td>\n",
              "      <td>3</td>\n",
              "    </tr>\n",
              "    <tr>\n",
              "      <th>1301884</th>\n",
              "      <td>1291087</td>\n",
              "      <td>Oblongata</td>\n",
              "      <td>174</td>\n",
              "      <td>Tenjou Tenge</td>\n",
              "      <td>6</td>\n",
              "    </tr>\n",
              "    <tr>\n",
              "      <th>1301885</th>\n",
              "      <td>1291097</td>\n",
              "      <td>JuunanaSai</td>\n",
              "      <td>1535</td>\n",
              "      <td>Death Note</td>\n",
              "      <td>9</td>\n",
              "    </tr>\n",
              "    <tr>\n",
              "      <th>1301886</th>\n",
              "      <td>1291097</td>\n",
              "      <td>JuunanaSai</td>\n",
              "      <td>226</td>\n",
              "      <td>Elfen Lied</td>\n",
              "      <td>10</td>\n",
              "    </tr>\n",
              "    <tr>\n",
              "      <th>1301887</th>\n",
              "      <td>1291097</td>\n",
              "      <td>JuunanaSai</td>\n",
              "      <td>8425</td>\n",
              "      <td>Gosick</td>\n",
              "      <td>10</td>\n",
              "    </tr>\n",
              "  </tbody>\n",
              "</table>\n",
              "<p>24325191 rows × 5 columns</p>\n",
              "</div>\n",
              "    <div class=\"colab-df-buttons\">\n",
              "\n",
              "  <div class=\"colab-df-container\">\n",
              "    <button class=\"colab-df-convert\" onclick=\"convertToInteractive('df-d217de8e-0689-4f7c-8882-23fdcc99d8f5')\"\n",
              "            title=\"Convert this dataframe to an interactive table.\"\n",
              "            style=\"display:none;\">\n",
              "\n",
              "  <svg xmlns=\"http://www.w3.org/2000/svg\" height=\"24px\" viewBox=\"0 -960 960 960\">\n",
              "    <path d=\"M120-120v-720h720v720H120Zm60-500h600v-160H180v160Zm220 220h160v-160H400v160Zm0 220h160v-160H400v160ZM180-400h160v-160H180v160Zm440 0h160v-160H620v160ZM180-180h160v-160H180v160Zm440 0h160v-160H620v160Z\"/>\n",
              "  </svg>\n",
              "    </button>\n",
              "\n",
              "  <style>\n",
              "    .colab-df-container {\n",
              "      display:flex;\n",
              "      gap: 12px;\n",
              "    }\n",
              "\n",
              "    .colab-df-convert {\n",
              "      background-color: #E8F0FE;\n",
              "      border: none;\n",
              "      border-radius: 50%;\n",
              "      cursor: pointer;\n",
              "      display: none;\n",
              "      fill: #1967D2;\n",
              "      height: 32px;\n",
              "      padding: 0 0 0 0;\n",
              "      width: 32px;\n",
              "    }\n",
              "\n",
              "    .colab-df-convert:hover {\n",
              "      background-color: #E2EBFA;\n",
              "      box-shadow: 0px 1px 2px rgba(60, 64, 67, 0.3), 0px 1px 3px 1px rgba(60, 64, 67, 0.15);\n",
              "      fill: #174EA6;\n",
              "    }\n",
              "\n",
              "    .colab-df-buttons div {\n",
              "      margin-bottom: 4px;\n",
              "    }\n",
              "\n",
              "    [theme=dark] .colab-df-convert {\n",
              "      background-color: #3B4455;\n",
              "      fill: #D2E3FC;\n",
              "    }\n",
              "\n",
              "    [theme=dark] .colab-df-convert:hover {\n",
              "      background-color: #434B5C;\n",
              "      box-shadow: 0px 1px 3px 1px rgba(0, 0, 0, 0.15);\n",
              "      filter: drop-shadow(0px 1px 2px rgba(0, 0, 0, 0.3));\n",
              "      fill: #FFFFFF;\n",
              "    }\n",
              "  </style>\n",
              "\n",
              "    <script>\n",
              "      const buttonEl =\n",
              "        document.querySelector('#df-d217de8e-0689-4f7c-8882-23fdcc99d8f5 button.colab-df-convert');\n",
              "      buttonEl.style.display =\n",
              "        google.colab.kernel.accessAllowed ? 'block' : 'none';\n",
              "\n",
              "      async function convertToInteractive(key) {\n",
              "        const element = document.querySelector('#df-d217de8e-0689-4f7c-8882-23fdcc99d8f5');\n",
              "        const dataTable =\n",
              "          await google.colab.kernel.invokeFunction('convertToInteractive',\n",
              "                                                    [key], {});\n",
              "        if (!dataTable) return;\n",
              "\n",
              "        const docLinkHtml = 'Like what you see? Visit the ' +\n",
              "          '<a target=\"_blank\" href=https://colab.research.google.com/notebooks/data_table.ipynb>data table notebook</a>'\n",
              "          + ' to learn more about interactive tables.';\n",
              "        element.innerHTML = '';\n",
              "        dataTable['output_type'] = 'display_data';\n",
              "        await google.colab.output.renderOutput(dataTable, element);\n",
              "        const docLink = document.createElement('div');\n",
              "        docLink.innerHTML = docLinkHtml;\n",
              "        element.appendChild(docLink);\n",
              "      }\n",
              "    </script>\n",
              "  </div>\n",
              "\n",
              "\n",
              "<div id=\"df-17924e51-1875-451d-bc03-15b8b27baeeb\">\n",
              "  <button class=\"colab-df-quickchart\" onclick=\"quickchart('df-17924e51-1875-451d-bc03-15b8b27baeeb')\"\n",
              "            title=\"Suggest charts\"\n",
              "            style=\"display:none;\">\n",
              "\n",
              "<svg xmlns=\"http://www.w3.org/2000/svg\" height=\"24px\"viewBox=\"0 0 24 24\"\n",
              "     width=\"24px\">\n",
              "    <g>\n",
              "        <path d=\"M19 3H5c-1.1 0-2 .9-2 2v14c0 1.1.9 2 2 2h14c1.1 0 2-.9 2-2V5c0-1.1-.9-2-2-2zM9 17H7v-7h2v7zm4 0h-2V7h2v10zm4 0h-2v-4h2v4z\"/>\n",
              "    </g>\n",
              "</svg>\n",
              "  </button>\n",
              "\n",
              "<style>\n",
              "  .colab-df-quickchart {\n",
              "      --bg-color: #E8F0FE;\n",
              "      --fill-color: #1967D2;\n",
              "      --hover-bg-color: #E2EBFA;\n",
              "      --hover-fill-color: #174EA6;\n",
              "      --disabled-fill-color: #AAA;\n",
              "      --disabled-bg-color: #DDD;\n",
              "  }\n",
              "\n",
              "  [theme=dark] .colab-df-quickchart {\n",
              "      --bg-color: #3B4455;\n",
              "      --fill-color: #D2E3FC;\n",
              "      --hover-bg-color: #434B5C;\n",
              "      --hover-fill-color: #FFFFFF;\n",
              "      --disabled-bg-color: #3B4455;\n",
              "      --disabled-fill-color: #666;\n",
              "  }\n",
              "\n",
              "  .colab-df-quickchart {\n",
              "    background-color: var(--bg-color);\n",
              "    border: none;\n",
              "    border-radius: 50%;\n",
              "    cursor: pointer;\n",
              "    display: none;\n",
              "    fill: var(--fill-color);\n",
              "    height: 32px;\n",
              "    padding: 0;\n",
              "    width: 32px;\n",
              "  }\n",
              "\n",
              "  .colab-df-quickchart:hover {\n",
              "    background-color: var(--hover-bg-color);\n",
              "    box-shadow: 0 1px 2px rgba(60, 64, 67, 0.3), 0 1px 3px 1px rgba(60, 64, 67, 0.15);\n",
              "    fill: var(--button-hover-fill-color);\n",
              "  }\n",
              "\n",
              "  .colab-df-quickchart-complete:disabled,\n",
              "  .colab-df-quickchart-complete:disabled:hover {\n",
              "    background-color: var(--disabled-bg-color);\n",
              "    fill: var(--disabled-fill-color);\n",
              "    box-shadow: none;\n",
              "  }\n",
              "\n",
              "  .colab-df-spinner {\n",
              "    border: 2px solid var(--fill-color);\n",
              "    border-color: transparent;\n",
              "    border-bottom-color: var(--fill-color);\n",
              "    animation:\n",
              "      spin 1s steps(1) infinite;\n",
              "  }\n",
              "\n",
              "  @keyframes spin {\n",
              "    0% {\n",
              "      border-color: transparent;\n",
              "      border-bottom-color: var(--fill-color);\n",
              "      border-left-color: var(--fill-color);\n",
              "    }\n",
              "    20% {\n",
              "      border-color: transparent;\n",
              "      border-left-color: var(--fill-color);\n",
              "      border-top-color: var(--fill-color);\n",
              "    }\n",
              "    30% {\n",
              "      border-color: transparent;\n",
              "      border-left-color: var(--fill-color);\n",
              "      border-top-color: var(--fill-color);\n",
              "      border-right-color: var(--fill-color);\n",
              "    }\n",
              "    40% {\n",
              "      border-color: transparent;\n",
              "      border-right-color: var(--fill-color);\n",
              "      border-top-color: var(--fill-color);\n",
              "    }\n",
              "    60% {\n",
              "      border-color: transparent;\n",
              "      border-right-color: var(--fill-color);\n",
              "    }\n",
              "    80% {\n",
              "      border-color: transparent;\n",
              "      border-right-color: var(--fill-color);\n",
              "      border-bottom-color: var(--fill-color);\n",
              "    }\n",
              "    90% {\n",
              "      border-color: transparent;\n",
              "      border-bottom-color: var(--fill-color);\n",
              "    }\n",
              "  }\n",
              "</style>\n",
              "\n",
              "  <script>\n",
              "    async function quickchart(key) {\n",
              "      const quickchartButtonEl =\n",
              "        document.querySelector('#' + key + ' button');\n",
              "      quickchartButtonEl.disabled = true;  // To prevent multiple clicks.\n",
              "      quickchartButtonEl.classList.add('colab-df-spinner');\n",
              "      try {\n",
              "        const charts = await google.colab.kernel.invokeFunction(\n",
              "            'suggestCharts', [key], {});\n",
              "      } catch (error) {\n",
              "        console.error('Error during call to suggestCharts:', error);\n",
              "      }\n",
              "      quickchartButtonEl.classList.remove('colab-df-spinner');\n",
              "      quickchartButtonEl.classList.add('colab-df-quickchart-complete');\n",
              "    }\n",
              "    (() => {\n",
              "      let quickchartButtonEl =\n",
              "        document.querySelector('#df-17924e51-1875-451d-bc03-15b8b27baeeb button');\n",
              "      quickchartButtonEl.style.display =\n",
              "        google.colab.kernel.accessAllowed ? 'block' : 'none';\n",
              "    })();\n",
              "  </script>\n",
              "</div>\n",
              "    </div>\n",
              "  </div>\n"
            ]
          },
          "metadata": {},
          "execution_count": 11
        }
      ]
    },
    {
      "cell_type": "markdown",
      "source": [
        "Dask dataframe is lazy, hence the data will only be loaded when it needed for computation. We can observe above that no data is printed, and it is replaced with ellipses."
      ],
      "metadata": {
        "id": "tlty-mciYvKS"
      }
    },
    {
      "cell_type": "code",
      "execution_count": 12,
      "metadata": {
        "id": "t26lvNVLVJJ5",
        "colab": {
          "base_uri": "https://localhost:8080/"
        },
        "outputId": "fe81a9a6-10b8-4377-e748-18ae32e8adb6"
      },
      "outputs": [
        {
          "output_type": "execute_result",
          "data": {
            "text/plain": [
              "Index(['user_id', 'Username', 'anime_id', 'Anime Title', 'rating'], dtype='object')"
            ]
          },
          "metadata": {},
          "execution_count": 12
        }
      ],
      "source": [
        "df.columns"
      ]
    },
    {
      "cell_type": "markdown",
      "source": [
        "Calculate and display the number of row in the dataset"
      ],
      "metadata": {
        "id": "r9FzuvpOulf8"
      }
    },
    {
      "cell_type": "code",
      "execution_count": 13,
      "metadata": {
        "id": "KribcC_XVJJ5",
        "colab": {
          "base_uri": "https://localhost:8080/"
        },
        "outputId": "199f7dbf-a8d9-4941-8251-9a42ec251151"
      },
      "outputs": [
        {
          "output_type": "execute_result",
          "data": {
            "text/plain": [
              "24325191"
            ]
          },
          "metadata": {},
          "execution_count": 13
        }
      ],
      "source": [
        "df.shape[0]"
      ]
    },
    {
      "cell_type": "markdown",
      "source": [
        "Display the type for each column"
      ],
      "metadata": {
        "id": "lVU-2e9uvE1U"
      }
    },
    {
      "cell_type": "code",
      "execution_count": 14,
      "metadata": {
        "id": "7mUpY22aVJJ6",
        "colab": {
          "base_uri": "https://localhost:8080/"
        },
        "outputId": "6d7d15b0-372c-4456-8d7f-8cbc3a8d75d5"
      },
      "outputs": [
        {
          "output_type": "execute_result",
          "data": {
            "text/plain": [
              "user_id         int64\n",
              "Username       object\n",
              "anime_id        int64\n",
              "Anime Title    object\n",
              "rating          int64\n",
              "dtype: object"
            ]
          },
          "metadata": {},
          "execution_count": 14
        }
      ],
      "source": [
        "df.dtypes"
      ]
    },
    {
      "cell_type": "markdown",
      "source": [
        "###**Handle missing, incorrect and invalid data**"
      ],
      "metadata": {
        "id": "JGoPMgOvwYRq"
      }
    },
    {
      "cell_type": "markdown",
      "source": [
        "Drop duplicates if exist"
      ],
      "metadata": {
        "id": "jMx9XAuKx7Vc"
      }
    },
    {
      "cell_type": "code",
      "source": [
        "df.drop_duplicates()"
      ],
      "metadata": {
        "colab": {
          "base_uri": "https://localhost:8080/",
          "height": 424
        },
        "id": "v_wIVTTMx53o",
        "outputId": "9230f84f-4f20-4b52-9378-c5669b85631d"
      },
      "execution_count": 15,
      "outputs": [
        {
          "output_type": "execute_result",
          "data": {
            "text/plain": [
              "         user_id    Username  anime_id             Anime Title  rating\n",
              "0              1       Xinil        21               One Piece       9\n",
              "1              1       Xinil        48             .hack//Sign       7\n",
              "2              1       Xinil       320                  A Kite       5\n",
              "3              1       Xinil        49        Aa! Megami-sama!       8\n",
              "4              1       Xinil       304  Aa! Megami-sama! Movie       8\n",
              "...          ...         ...       ...                     ...     ...\n",
              "1301883  1291087   Oblongata     10611                    R-15       3\n",
              "1301884  1291087   Oblongata       174            Tenjou Tenge       6\n",
              "1301885  1291097  JuunanaSai      1535              Death Note       9\n",
              "1301886  1291097  JuunanaSai       226              Elfen Lied      10\n",
              "1301887  1291097  JuunanaSai      8425                  Gosick      10\n",
              "\n",
              "[24325191 rows x 5 columns]"
            ],
            "text/html": [
              "\n",
              "  <div id=\"df-fedbb95a-9337-447b-859d-7d2b127648fa\" class=\"colab-df-container\">\n",
              "    <div>\n",
              "<style scoped>\n",
              "    .dataframe tbody tr th:only-of-type {\n",
              "        vertical-align: middle;\n",
              "    }\n",
              "\n",
              "    .dataframe tbody tr th {\n",
              "        vertical-align: top;\n",
              "    }\n",
              "\n",
              "    .dataframe thead th {\n",
              "        text-align: right;\n",
              "    }\n",
              "</style>\n",
              "<table border=\"1\" class=\"dataframe\">\n",
              "  <thead>\n",
              "    <tr style=\"text-align: right;\">\n",
              "      <th></th>\n",
              "      <th>user_id</th>\n",
              "      <th>Username</th>\n",
              "      <th>anime_id</th>\n",
              "      <th>Anime Title</th>\n",
              "      <th>rating</th>\n",
              "    </tr>\n",
              "  </thead>\n",
              "  <tbody>\n",
              "    <tr>\n",
              "      <th>0</th>\n",
              "      <td>1</td>\n",
              "      <td>Xinil</td>\n",
              "      <td>21</td>\n",
              "      <td>One Piece</td>\n",
              "      <td>9</td>\n",
              "    </tr>\n",
              "    <tr>\n",
              "      <th>1</th>\n",
              "      <td>1</td>\n",
              "      <td>Xinil</td>\n",
              "      <td>48</td>\n",
              "      <td>.hack//Sign</td>\n",
              "      <td>7</td>\n",
              "    </tr>\n",
              "    <tr>\n",
              "      <th>2</th>\n",
              "      <td>1</td>\n",
              "      <td>Xinil</td>\n",
              "      <td>320</td>\n",
              "      <td>A Kite</td>\n",
              "      <td>5</td>\n",
              "    </tr>\n",
              "    <tr>\n",
              "      <th>3</th>\n",
              "      <td>1</td>\n",
              "      <td>Xinil</td>\n",
              "      <td>49</td>\n",
              "      <td>Aa! Megami-sama!</td>\n",
              "      <td>8</td>\n",
              "    </tr>\n",
              "    <tr>\n",
              "      <th>4</th>\n",
              "      <td>1</td>\n",
              "      <td>Xinil</td>\n",
              "      <td>304</td>\n",
              "      <td>Aa! Megami-sama! Movie</td>\n",
              "      <td>8</td>\n",
              "    </tr>\n",
              "    <tr>\n",
              "      <th>...</th>\n",
              "      <td>...</td>\n",
              "      <td>...</td>\n",
              "      <td>...</td>\n",
              "      <td>...</td>\n",
              "      <td>...</td>\n",
              "    </tr>\n",
              "    <tr>\n",
              "      <th>1301883</th>\n",
              "      <td>1291087</td>\n",
              "      <td>Oblongata</td>\n",
              "      <td>10611</td>\n",
              "      <td>R-15</td>\n",
              "      <td>3</td>\n",
              "    </tr>\n",
              "    <tr>\n",
              "      <th>1301884</th>\n",
              "      <td>1291087</td>\n",
              "      <td>Oblongata</td>\n",
              "      <td>174</td>\n",
              "      <td>Tenjou Tenge</td>\n",
              "      <td>6</td>\n",
              "    </tr>\n",
              "    <tr>\n",
              "      <th>1301885</th>\n",
              "      <td>1291097</td>\n",
              "      <td>JuunanaSai</td>\n",
              "      <td>1535</td>\n",
              "      <td>Death Note</td>\n",
              "      <td>9</td>\n",
              "    </tr>\n",
              "    <tr>\n",
              "      <th>1301886</th>\n",
              "      <td>1291097</td>\n",
              "      <td>JuunanaSai</td>\n",
              "      <td>226</td>\n",
              "      <td>Elfen Lied</td>\n",
              "      <td>10</td>\n",
              "    </tr>\n",
              "    <tr>\n",
              "      <th>1301887</th>\n",
              "      <td>1291097</td>\n",
              "      <td>JuunanaSai</td>\n",
              "      <td>8425</td>\n",
              "      <td>Gosick</td>\n",
              "      <td>10</td>\n",
              "    </tr>\n",
              "  </tbody>\n",
              "</table>\n",
              "<p>24325191 rows × 5 columns</p>\n",
              "</div>\n",
              "    <div class=\"colab-df-buttons\">\n",
              "\n",
              "  <div class=\"colab-df-container\">\n",
              "    <button class=\"colab-df-convert\" onclick=\"convertToInteractive('df-fedbb95a-9337-447b-859d-7d2b127648fa')\"\n",
              "            title=\"Convert this dataframe to an interactive table.\"\n",
              "            style=\"display:none;\">\n",
              "\n",
              "  <svg xmlns=\"http://www.w3.org/2000/svg\" height=\"24px\" viewBox=\"0 -960 960 960\">\n",
              "    <path d=\"M120-120v-720h720v720H120Zm60-500h600v-160H180v160Zm220 220h160v-160H400v160Zm0 220h160v-160H400v160ZM180-400h160v-160H180v160Zm440 0h160v-160H620v160ZM180-180h160v-160H180v160Zm440 0h160v-160H620v160Z\"/>\n",
              "  </svg>\n",
              "    </button>\n",
              "\n",
              "  <style>\n",
              "    .colab-df-container {\n",
              "      display:flex;\n",
              "      gap: 12px;\n",
              "    }\n",
              "\n",
              "    .colab-df-convert {\n",
              "      background-color: #E8F0FE;\n",
              "      border: none;\n",
              "      border-radius: 50%;\n",
              "      cursor: pointer;\n",
              "      display: none;\n",
              "      fill: #1967D2;\n",
              "      height: 32px;\n",
              "      padding: 0 0 0 0;\n",
              "      width: 32px;\n",
              "    }\n",
              "\n",
              "    .colab-df-convert:hover {\n",
              "      background-color: #E2EBFA;\n",
              "      box-shadow: 0px 1px 2px rgba(60, 64, 67, 0.3), 0px 1px 3px 1px rgba(60, 64, 67, 0.15);\n",
              "      fill: #174EA6;\n",
              "    }\n",
              "\n",
              "    .colab-df-buttons div {\n",
              "      margin-bottom: 4px;\n",
              "    }\n",
              "\n",
              "    [theme=dark] .colab-df-convert {\n",
              "      background-color: #3B4455;\n",
              "      fill: #D2E3FC;\n",
              "    }\n",
              "\n",
              "    [theme=dark] .colab-df-convert:hover {\n",
              "      background-color: #434B5C;\n",
              "      box-shadow: 0px 1px 3px 1px rgba(0, 0, 0, 0.15);\n",
              "      filter: drop-shadow(0px 1px 2px rgba(0, 0, 0, 0.3));\n",
              "      fill: #FFFFFF;\n",
              "    }\n",
              "  </style>\n",
              "\n",
              "    <script>\n",
              "      const buttonEl =\n",
              "        document.querySelector('#df-fedbb95a-9337-447b-859d-7d2b127648fa button.colab-df-convert');\n",
              "      buttonEl.style.display =\n",
              "        google.colab.kernel.accessAllowed ? 'block' : 'none';\n",
              "\n",
              "      async function convertToInteractive(key) {\n",
              "        const element = document.querySelector('#df-fedbb95a-9337-447b-859d-7d2b127648fa');\n",
              "        const dataTable =\n",
              "          await google.colab.kernel.invokeFunction('convertToInteractive',\n",
              "                                                    [key], {});\n",
              "        if (!dataTable) return;\n",
              "\n",
              "        const docLinkHtml = 'Like what you see? Visit the ' +\n",
              "          '<a target=\"_blank\" href=https://colab.research.google.com/notebooks/data_table.ipynb>data table notebook</a>'\n",
              "          + ' to learn more about interactive tables.';\n",
              "        element.innerHTML = '';\n",
              "        dataTable['output_type'] = 'display_data';\n",
              "        await google.colab.output.renderOutput(dataTable, element);\n",
              "        const docLink = document.createElement('div');\n",
              "        docLink.innerHTML = docLinkHtml;\n",
              "        element.appendChild(docLink);\n",
              "      }\n",
              "    </script>\n",
              "  </div>\n",
              "\n",
              "\n",
              "<div id=\"df-e83ce2a7-6b16-4807-9964-369946aec96f\">\n",
              "  <button class=\"colab-df-quickchart\" onclick=\"quickchart('df-e83ce2a7-6b16-4807-9964-369946aec96f')\"\n",
              "            title=\"Suggest charts\"\n",
              "            style=\"display:none;\">\n",
              "\n",
              "<svg xmlns=\"http://www.w3.org/2000/svg\" height=\"24px\"viewBox=\"0 0 24 24\"\n",
              "     width=\"24px\">\n",
              "    <g>\n",
              "        <path d=\"M19 3H5c-1.1 0-2 .9-2 2v14c0 1.1.9 2 2 2h14c1.1 0 2-.9 2-2V5c0-1.1-.9-2-2-2zM9 17H7v-7h2v7zm4 0h-2V7h2v10zm4 0h-2v-4h2v4z\"/>\n",
              "    </g>\n",
              "</svg>\n",
              "  </button>\n",
              "\n",
              "<style>\n",
              "  .colab-df-quickchart {\n",
              "      --bg-color: #E8F0FE;\n",
              "      --fill-color: #1967D2;\n",
              "      --hover-bg-color: #E2EBFA;\n",
              "      --hover-fill-color: #174EA6;\n",
              "      --disabled-fill-color: #AAA;\n",
              "      --disabled-bg-color: #DDD;\n",
              "  }\n",
              "\n",
              "  [theme=dark] .colab-df-quickchart {\n",
              "      --bg-color: #3B4455;\n",
              "      --fill-color: #D2E3FC;\n",
              "      --hover-bg-color: #434B5C;\n",
              "      --hover-fill-color: #FFFFFF;\n",
              "      --disabled-bg-color: #3B4455;\n",
              "      --disabled-fill-color: #666;\n",
              "  }\n",
              "\n",
              "  .colab-df-quickchart {\n",
              "    background-color: var(--bg-color);\n",
              "    border: none;\n",
              "    border-radius: 50%;\n",
              "    cursor: pointer;\n",
              "    display: none;\n",
              "    fill: var(--fill-color);\n",
              "    height: 32px;\n",
              "    padding: 0;\n",
              "    width: 32px;\n",
              "  }\n",
              "\n",
              "  .colab-df-quickchart:hover {\n",
              "    background-color: var(--hover-bg-color);\n",
              "    box-shadow: 0 1px 2px rgba(60, 64, 67, 0.3), 0 1px 3px 1px rgba(60, 64, 67, 0.15);\n",
              "    fill: var(--button-hover-fill-color);\n",
              "  }\n",
              "\n",
              "  .colab-df-quickchart-complete:disabled,\n",
              "  .colab-df-quickchart-complete:disabled:hover {\n",
              "    background-color: var(--disabled-bg-color);\n",
              "    fill: var(--disabled-fill-color);\n",
              "    box-shadow: none;\n",
              "  }\n",
              "\n",
              "  .colab-df-spinner {\n",
              "    border: 2px solid var(--fill-color);\n",
              "    border-color: transparent;\n",
              "    border-bottom-color: var(--fill-color);\n",
              "    animation:\n",
              "      spin 1s steps(1) infinite;\n",
              "  }\n",
              "\n",
              "  @keyframes spin {\n",
              "    0% {\n",
              "      border-color: transparent;\n",
              "      border-bottom-color: var(--fill-color);\n",
              "      border-left-color: var(--fill-color);\n",
              "    }\n",
              "    20% {\n",
              "      border-color: transparent;\n",
              "      border-left-color: var(--fill-color);\n",
              "      border-top-color: var(--fill-color);\n",
              "    }\n",
              "    30% {\n",
              "      border-color: transparent;\n",
              "      border-left-color: var(--fill-color);\n",
              "      border-top-color: var(--fill-color);\n",
              "      border-right-color: var(--fill-color);\n",
              "    }\n",
              "    40% {\n",
              "      border-color: transparent;\n",
              "      border-right-color: var(--fill-color);\n",
              "      border-top-color: var(--fill-color);\n",
              "    }\n",
              "    60% {\n",
              "      border-color: transparent;\n",
              "      border-right-color: var(--fill-color);\n",
              "    }\n",
              "    80% {\n",
              "      border-color: transparent;\n",
              "      border-right-color: var(--fill-color);\n",
              "      border-bottom-color: var(--fill-color);\n",
              "    }\n",
              "    90% {\n",
              "      border-color: transparent;\n",
              "      border-bottom-color: var(--fill-color);\n",
              "    }\n",
              "  }\n",
              "</style>\n",
              "\n",
              "  <script>\n",
              "    async function quickchart(key) {\n",
              "      const quickchartButtonEl =\n",
              "        document.querySelector('#' + key + ' button');\n",
              "      quickchartButtonEl.disabled = true;  // To prevent multiple clicks.\n",
              "      quickchartButtonEl.classList.add('colab-df-spinner');\n",
              "      try {\n",
              "        const charts = await google.colab.kernel.invokeFunction(\n",
              "            'suggestCharts', [key], {});\n",
              "      } catch (error) {\n",
              "        console.error('Error during call to suggestCharts:', error);\n",
              "      }\n",
              "      quickchartButtonEl.classList.remove('colab-df-spinner');\n",
              "      quickchartButtonEl.classList.add('colab-df-quickchart-complete');\n",
              "    }\n",
              "    (() => {\n",
              "      let quickchartButtonEl =\n",
              "        document.querySelector('#df-e83ce2a7-6b16-4807-9964-369946aec96f button');\n",
              "      quickchartButtonEl.style.display =\n",
              "        google.colab.kernel.accessAllowed ? 'block' : 'none';\n",
              "    })();\n",
              "  </script>\n",
              "</div>\n",
              "    </div>\n",
              "  </div>\n"
            ]
          },
          "metadata": {},
          "execution_count": 15
        }
      ]
    },
    {
      "cell_type": "markdown",
      "source": [
        "Drop rows with missing values if exist"
      ],
      "metadata": {
        "id": "md2aubW1yCNU"
      }
    },
    {
      "cell_type": "code",
      "execution_count": 16,
      "metadata": {
        "id": "yBxDax1KVJJ6",
        "colab": {
          "base_uri": "https://localhost:8080/",
          "height": 424
        },
        "outputId": "f87fab7a-7b7e-4e6c-95e1-d39340d19c7e"
      },
      "outputs": [
        {
          "output_type": "execute_result",
          "data": {
            "text/plain": [
              "         user_id    Username  anime_id             Anime Title  rating\n",
              "0              1       Xinil        21               One Piece       9\n",
              "1              1       Xinil        48             .hack//Sign       7\n",
              "2              1       Xinil       320                  A Kite       5\n",
              "3              1       Xinil        49        Aa! Megami-sama!       8\n",
              "4              1       Xinil       304  Aa! Megami-sama! Movie       8\n",
              "...          ...         ...       ...                     ...     ...\n",
              "1301883  1291087   Oblongata     10611                    R-15       3\n",
              "1301884  1291087   Oblongata       174            Tenjou Tenge       6\n",
              "1301885  1291097  JuunanaSai      1535              Death Note       9\n",
              "1301886  1291097  JuunanaSai       226              Elfen Lied      10\n",
              "1301887  1291097  JuunanaSai      8425                  Gosick      10\n",
              "\n",
              "[24325191 rows x 5 columns]"
            ],
            "text/html": [
              "\n",
              "  <div id=\"df-1b5e8921-621d-4878-a610-8946ff046c1b\" class=\"colab-df-container\">\n",
              "    <div>\n",
              "<style scoped>\n",
              "    .dataframe tbody tr th:only-of-type {\n",
              "        vertical-align: middle;\n",
              "    }\n",
              "\n",
              "    .dataframe tbody tr th {\n",
              "        vertical-align: top;\n",
              "    }\n",
              "\n",
              "    .dataframe thead th {\n",
              "        text-align: right;\n",
              "    }\n",
              "</style>\n",
              "<table border=\"1\" class=\"dataframe\">\n",
              "  <thead>\n",
              "    <tr style=\"text-align: right;\">\n",
              "      <th></th>\n",
              "      <th>user_id</th>\n",
              "      <th>Username</th>\n",
              "      <th>anime_id</th>\n",
              "      <th>Anime Title</th>\n",
              "      <th>rating</th>\n",
              "    </tr>\n",
              "  </thead>\n",
              "  <tbody>\n",
              "    <tr>\n",
              "      <th>0</th>\n",
              "      <td>1</td>\n",
              "      <td>Xinil</td>\n",
              "      <td>21</td>\n",
              "      <td>One Piece</td>\n",
              "      <td>9</td>\n",
              "    </tr>\n",
              "    <tr>\n",
              "      <th>1</th>\n",
              "      <td>1</td>\n",
              "      <td>Xinil</td>\n",
              "      <td>48</td>\n",
              "      <td>.hack//Sign</td>\n",
              "      <td>7</td>\n",
              "    </tr>\n",
              "    <tr>\n",
              "      <th>2</th>\n",
              "      <td>1</td>\n",
              "      <td>Xinil</td>\n",
              "      <td>320</td>\n",
              "      <td>A Kite</td>\n",
              "      <td>5</td>\n",
              "    </tr>\n",
              "    <tr>\n",
              "      <th>3</th>\n",
              "      <td>1</td>\n",
              "      <td>Xinil</td>\n",
              "      <td>49</td>\n",
              "      <td>Aa! Megami-sama!</td>\n",
              "      <td>8</td>\n",
              "    </tr>\n",
              "    <tr>\n",
              "      <th>4</th>\n",
              "      <td>1</td>\n",
              "      <td>Xinil</td>\n",
              "      <td>304</td>\n",
              "      <td>Aa! Megami-sama! Movie</td>\n",
              "      <td>8</td>\n",
              "    </tr>\n",
              "    <tr>\n",
              "      <th>...</th>\n",
              "      <td>...</td>\n",
              "      <td>...</td>\n",
              "      <td>...</td>\n",
              "      <td>...</td>\n",
              "      <td>...</td>\n",
              "    </tr>\n",
              "    <tr>\n",
              "      <th>1301883</th>\n",
              "      <td>1291087</td>\n",
              "      <td>Oblongata</td>\n",
              "      <td>10611</td>\n",
              "      <td>R-15</td>\n",
              "      <td>3</td>\n",
              "    </tr>\n",
              "    <tr>\n",
              "      <th>1301884</th>\n",
              "      <td>1291087</td>\n",
              "      <td>Oblongata</td>\n",
              "      <td>174</td>\n",
              "      <td>Tenjou Tenge</td>\n",
              "      <td>6</td>\n",
              "    </tr>\n",
              "    <tr>\n",
              "      <th>1301885</th>\n",
              "      <td>1291097</td>\n",
              "      <td>JuunanaSai</td>\n",
              "      <td>1535</td>\n",
              "      <td>Death Note</td>\n",
              "      <td>9</td>\n",
              "    </tr>\n",
              "    <tr>\n",
              "      <th>1301886</th>\n",
              "      <td>1291097</td>\n",
              "      <td>JuunanaSai</td>\n",
              "      <td>226</td>\n",
              "      <td>Elfen Lied</td>\n",
              "      <td>10</td>\n",
              "    </tr>\n",
              "    <tr>\n",
              "      <th>1301887</th>\n",
              "      <td>1291097</td>\n",
              "      <td>JuunanaSai</td>\n",
              "      <td>8425</td>\n",
              "      <td>Gosick</td>\n",
              "      <td>10</td>\n",
              "    </tr>\n",
              "  </tbody>\n",
              "</table>\n",
              "<p>24325191 rows × 5 columns</p>\n",
              "</div>\n",
              "    <div class=\"colab-df-buttons\">\n",
              "\n",
              "  <div class=\"colab-df-container\">\n",
              "    <button class=\"colab-df-convert\" onclick=\"convertToInteractive('df-1b5e8921-621d-4878-a610-8946ff046c1b')\"\n",
              "            title=\"Convert this dataframe to an interactive table.\"\n",
              "            style=\"display:none;\">\n",
              "\n",
              "  <svg xmlns=\"http://www.w3.org/2000/svg\" height=\"24px\" viewBox=\"0 -960 960 960\">\n",
              "    <path d=\"M120-120v-720h720v720H120Zm60-500h600v-160H180v160Zm220 220h160v-160H400v160Zm0 220h160v-160H400v160ZM180-400h160v-160H180v160Zm440 0h160v-160H620v160ZM180-180h160v-160H180v160Zm440 0h160v-160H620v160Z\"/>\n",
              "  </svg>\n",
              "    </button>\n",
              "\n",
              "  <style>\n",
              "    .colab-df-container {\n",
              "      display:flex;\n",
              "      gap: 12px;\n",
              "    }\n",
              "\n",
              "    .colab-df-convert {\n",
              "      background-color: #E8F0FE;\n",
              "      border: none;\n",
              "      border-radius: 50%;\n",
              "      cursor: pointer;\n",
              "      display: none;\n",
              "      fill: #1967D2;\n",
              "      height: 32px;\n",
              "      padding: 0 0 0 0;\n",
              "      width: 32px;\n",
              "    }\n",
              "\n",
              "    .colab-df-convert:hover {\n",
              "      background-color: #E2EBFA;\n",
              "      box-shadow: 0px 1px 2px rgba(60, 64, 67, 0.3), 0px 1px 3px 1px rgba(60, 64, 67, 0.15);\n",
              "      fill: #174EA6;\n",
              "    }\n",
              "\n",
              "    .colab-df-buttons div {\n",
              "      margin-bottom: 4px;\n",
              "    }\n",
              "\n",
              "    [theme=dark] .colab-df-convert {\n",
              "      background-color: #3B4455;\n",
              "      fill: #D2E3FC;\n",
              "    }\n",
              "\n",
              "    [theme=dark] .colab-df-convert:hover {\n",
              "      background-color: #434B5C;\n",
              "      box-shadow: 0px 1px 3px 1px rgba(0, 0, 0, 0.15);\n",
              "      filter: drop-shadow(0px 1px 2px rgba(0, 0, 0, 0.3));\n",
              "      fill: #FFFFFF;\n",
              "    }\n",
              "  </style>\n",
              "\n",
              "    <script>\n",
              "      const buttonEl =\n",
              "        document.querySelector('#df-1b5e8921-621d-4878-a610-8946ff046c1b button.colab-df-convert');\n",
              "      buttonEl.style.display =\n",
              "        google.colab.kernel.accessAllowed ? 'block' : 'none';\n",
              "\n",
              "      async function convertToInteractive(key) {\n",
              "        const element = document.querySelector('#df-1b5e8921-621d-4878-a610-8946ff046c1b');\n",
              "        const dataTable =\n",
              "          await google.colab.kernel.invokeFunction('convertToInteractive',\n",
              "                                                    [key], {});\n",
              "        if (!dataTable) return;\n",
              "\n",
              "        const docLinkHtml = 'Like what you see? Visit the ' +\n",
              "          '<a target=\"_blank\" href=https://colab.research.google.com/notebooks/data_table.ipynb>data table notebook</a>'\n",
              "          + ' to learn more about interactive tables.';\n",
              "        element.innerHTML = '';\n",
              "        dataTable['output_type'] = 'display_data';\n",
              "        await google.colab.output.renderOutput(dataTable, element);\n",
              "        const docLink = document.createElement('div');\n",
              "        docLink.innerHTML = docLinkHtml;\n",
              "        element.appendChild(docLink);\n",
              "      }\n",
              "    </script>\n",
              "  </div>\n",
              "\n",
              "\n",
              "<div id=\"df-5bb6acd9-f32f-4034-a3c3-7ea394ead8e2\">\n",
              "  <button class=\"colab-df-quickchart\" onclick=\"quickchart('df-5bb6acd9-f32f-4034-a3c3-7ea394ead8e2')\"\n",
              "            title=\"Suggest charts\"\n",
              "            style=\"display:none;\">\n",
              "\n",
              "<svg xmlns=\"http://www.w3.org/2000/svg\" height=\"24px\"viewBox=\"0 0 24 24\"\n",
              "     width=\"24px\">\n",
              "    <g>\n",
              "        <path d=\"M19 3H5c-1.1 0-2 .9-2 2v14c0 1.1.9 2 2 2h14c1.1 0 2-.9 2-2V5c0-1.1-.9-2-2-2zM9 17H7v-7h2v7zm4 0h-2V7h2v10zm4 0h-2v-4h2v4z\"/>\n",
              "    </g>\n",
              "</svg>\n",
              "  </button>\n",
              "\n",
              "<style>\n",
              "  .colab-df-quickchart {\n",
              "      --bg-color: #E8F0FE;\n",
              "      --fill-color: #1967D2;\n",
              "      --hover-bg-color: #E2EBFA;\n",
              "      --hover-fill-color: #174EA6;\n",
              "      --disabled-fill-color: #AAA;\n",
              "      --disabled-bg-color: #DDD;\n",
              "  }\n",
              "\n",
              "  [theme=dark] .colab-df-quickchart {\n",
              "      --bg-color: #3B4455;\n",
              "      --fill-color: #D2E3FC;\n",
              "      --hover-bg-color: #434B5C;\n",
              "      --hover-fill-color: #FFFFFF;\n",
              "      --disabled-bg-color: #3B4455;\n",
              "      --disabled-fill-color: #666;\n",
              "  }\n",
              "\n",
              "  .colab-df-quickchart {\n",
              "    background-color: var(--bg-color);\n",
              "    border: none;\n",
              "    border-radius: 50%;\n",
              "    cursor: pointer;\n",
              "    display: none;\n",
              "    fill: var(--fill-color);\n",
              "    height: 32px;\n",
              "    padding: 0;\n",
              "    width: 32px;\n",
              "  }\n",
              "\n",
              "  .colab-df-quickchart:hover {\n",
              "    background-color: var(--hover-bg-color);\n",
              "    box-shadow: 0 1px 2px rgba(60, 64, 67, 0.3), 0 1px 3px 1px rgba(60, 64, 67, 0.15);\n",
              "    fill: var(--button-hover-fill-color);\n",
              "  }\n",
              "\n",
              "  .colab-df-quickchart-complete:disabled,\n",
              "  .colab-df-quickchart-complete:disabled:hover {\n",
              "    background-color: var(--disabled-bg-color);\n",
              "    fill: var(--disabled-fill-color);\n",
              "    box-shadow: none;\n",
              "  }\n",
              "\n",
              "  .colab-df-spinner {\n",
              "    border: 2px solid var(--fill-color);\n",
              "    border-color: transparent;\n",
              "    border-bottom-color: var(--fill-color);\n",
              "    animation:\n",
              "      spin 1s steps(1) infinite;\n",
              "  }\n",
              "\n",
              "  @keyframes spin {\n",
              "    0% {\n",
              "      border-color: transparent;\n",
              "      border-bottom-color: var(--fill-color);\n",
              "      border-left-color: var(--fill-color);\n",
              "    }\n",
              "    20% {\n",
              "      border-color: transparent;\n",
              "      border-left-color: var(--fill-color);\n",
              "      border-top-color: var(--fill-color);\n",
              "    }\n",
              "    30% {\n",
              "      border-color: transparent;\n",
              "      border-left-color: var(--fill-color);\n",
              "      border-top-color: var(--fill-color);\n",
              "      border-right-color: var(--fill-color);\n",
              "    }\n",
              "    40% {\n",
              "      border-color: transparent;\n",
              "      border-right-color: var(--fill-color);\n",
              "      border-top-color: var(--fill-color);\n",
              "    }\n",
              "    60% {\n",
              "      border-color: transparent;\n",
              "      border-right-color: var(--fill-color);\n",
              "    }\n",
              "    80% {\n",
              "      border-color: transparent;\n",
              "      border-right-color: var(--fill-color);\n",
              "      border-bottom-color: var(--fill-color);\n",
              "    }\n",
              "    90% {\n",
              "      border-color: transparent;\n",
              "      border-bottom-color: var(--fill-color);\n",
              "    }\n",
              "  }\n",
              "</style>\n",
              "\n",
              "  <script>\n",
              "    async function quickchart(key) {\n",
              "      const quickchartButtonEl =\n",
              "        document.querySelector('#' + key + ' button');\n",
              "      quickchartButtonEl.disabled = true;  // To prevent multiple clicks.\n",
              "      quickchartButtonEl.classList.add('colab-df-spinner');\n",
              "      try {\n",
              "        const charts = await google.colab.kernel.invokeFunction(\n",
              "            'suggestCharts', [key], {});\n",
              "      } catch (error) {\n",
              "        console.error('Error during call to suggestCharts:', error);\n",
              "      }\n",
              "      quickchartButtonEl.classList.remove('colab-df-spinner');\n",
              "      quickchartButtonEl.classList.add('colab-df-quickchart-complete');\n",
              "    }\n",
              "    (() => {\n",
              "      let quickchartButtonEl =\n",
              "        document.querySelector('#df-5bb6acd9-f32f-4034-a3c3-7ea394ead8e2 button');\n",
              "      quickchartButtonEl.style.display =\n",
              "        google.colab.kernel.accessAllowed ? 'block' : 'none';\n",
              "    })();\n",
              "  </script>\n",
              "</div>\n",
              "    </div>\n",
              "  </div>\n"
            ]
          },
          "metadata": {},
          "execution_count": 16
        }
      ],
      "source": [
        "df.dropna()"
      ]
    },
    {
      "cell_type": "markdown",
      "metadata": {
        "id": "_0m5LkbVVJJ6"
      },
      "source": [
        "## **Exploratory Analysis and Visualization**\n",
        "\n",
        "EDA analysis is used to gain any meaningful information from the dataset with the help of visualization, statistical measures, and any relevant EDA techniques that can help to increase the understanding of the dataset.\n",
        "\n",
        "In EDA analysis, we will complete this task:\n",
        "\n",
        "*   Compute the mean, sum, range and other interesting statistics for numeric columns\n",
        "*   Explore distributions of numeric columns using histograms etc.\n",
        "\n",
        "*   Explore relationship between columns using scatter plots, bar charts etc.\n",
        "\n",
        "\n",
        "\n",
        "\n",
        "\n",
        "\n",
        "\n"
      ]
    },
    {
      "cell_type": "markdown",
      "metadata": {
        "id": "Fv4NPHasVJJ7"
      },
      "source": [
        "###**Compute the mean, sum, range and other interesting statistics for numeric columns**"
      ]
    },
    {
      "cell_type": "code",
      "execution_count": 17,
      "metadata": {
        "id": "NKN6RIplVJJ7",
        "colab": {
          "base_uri": "https://localhost:8080/"
        },
        "outputId": "54d56352-6076-46ee-e737-92a24808e033"
      },
      "outputs": [
        {
          "output_type": "stream",
          "name": "stdout",
          "text": [
            "count   24325191.00\n",
            "mean           7.62\n",
            "std            1.66\n",
            "min            1.00\n",
            "25%            7.00\n",
            "50%            8.00\n",
            "75%            9.00\n",
            "max           10.00\n",
            "Name: rating, dtype: float64\n"
          ]
        }
      ],
      "source": [
        "pd.options.display.float_format = '{:.2f}'.format\n",
        "print(df['rating'].describe())\n",
        "pd.reset_option('display.float_format')\n",
        "\n"
      ]
    },
    {
      "cell_type": "markdown",
      "metadata": {
        "id": "Dn_AW-5uVJJ7"
      },
      "source": [
        "###**Explore distributions of numeric columns using histograms etc.**"
      ]
    },
    {
      "cell_type": "markdown",
      "source": [
        "Distribution of Rating"
      ],
      "metadata": {
        "id": "j7PBxEi5dGoU"
      }
    },
    {
      "cell_type": "code",
      "source": [
        "%%time\n",
        "client = Client()\n",
        "\n",
        "plt.figure(figsize=(10, 6))\n",
        "sns.histplot(df['rating'], bins=5)\n",
        "plt.title(f'Distribution of Rating')\n",
        "plt.xlabel('rating')\n",
        "plt.ylabel('Frequency')\n",
        "plt.show()\n",
        "client.close()"
      ],
      "metadata": {
        "colab": {
          "base_uri": "https://localhost:8080/",
          "height": 1000
        },
        "id": "4xtnWV1RgEUk",
        "outputId": "405124ba-dff0-4134-9e4e-9d67f559f211"
      },
      "execution_count": 18,
      "outputs": [
        {
          "output_type": "stream",
          "name": "stderr",
          "text": [
            "INFO:distributed.http.proxy:To route to workers diagnostics web server please install jupyter-server-proxy: python -m pip install jupyter-server-proxy\n",
            "INFO:distributed.scheduler:State start\n",
            "INFO:distributed.scheduler:  Scheduler at:     tcp://127.0.0.1:45607\n",
            "INFO:distributed.scheduler:  dashboard at:  http://127.0.0.1:8787/status\n",
            "INFO:distributed.nanny:        Start Nanny at: 'tcp://127.0.0.1:37603'\n",
            "INFO:distributed.nanny:        Start Nanny at: 'tcp://127.0.0.1:37193'\n",
            "INFO:distributed.scheduler:Register worker <WorkerState 'tcp://127.0.0.1:45377', name: 1, status: init, memory: 0, processing: 0>\n",
            "INFO:distributed.scheduler:Starting worker compute stream, tcp://127.0.0.1:45377\n",
            "INFO:distributed.core:Starting established connection to tcp://127.0.0.1:54950\n",
            "INFO:distributed.scheduler:Register worker <WorkerState 'tcp://127.0.0.1:38657', name: 0, status: init, memory: 0, processing: 0>\n",
            "INFO:distributed.scheduler:Starting worker compute stream, tcp://127.0.0.1:38657\n",
            "INFO:distributed.core:Starting established connection to tcp://127.0.0.1:54966\n",
            "INFO:distributed.scheduler:Receive client connection: Client-e69e6cb9-a26b-11ee-a097-0242ac1c000c\n",
            "INFO:distributed.core:Starting established connection to tcp://127.0.0.1:54982\n"
          ]
        },
        {
          "output_type": "display_data",
          "data": {
            "text/plain": [
              "<Figure size 1000x600 with 1 Axes>"
            ],
            "image/png": "[encoded data removed]"
          },
          "metadata": {}
        },
        {
          "output_type": "stream",
          "name": "stderr",
          "text": [
            "INFO:distributed.nanny:Closing Nanny at 'tcp://127.0.0.1:37603'. Reason: nanny-close\n",
            "INFO:distributed.nanny:Nanny asking worker to close. Reason: nanny-close\n",
            "INFO:distributed.nanny:Closing Nanny at 'tcp://127.0.0.1:37193'. Reason: nanny-close\n",
            "INFO:distributed.nanny:Nanny asking worker to close. Reason: nanny-close\n",
            "INFO:distributed.core:Received 'close-stream' from tcp://127.0.0.1:54966; closing.\n",
            "INFO:distributed.scheduler:Remove worker <WorkerState 'tcp://127.0.0.1:38657', name: 0, status: closing, memory: 0, processing: 0> (stimulus_id='handle-worker-cleanup-1703429516.3725672')\n",
            "INFO:distributed.core:Received 'close-stream' from tcp://127.0.0.1:54950; closing.\n",
            "INFO:distributed.scheduler:Remove worker <WorkerState 'tcp://127.0.0.1:45377', name: 1, status: closing, memory: 0, processing: 0> (stimulus_id='handle-worker-cleanup-1703429516.3923986')\n",
            "INFO:distributed.scheduler:Lost all workers\n",
            "INFO:distributed.scheduler:Scheduler closing due to unknown reason...\n",
            "INFO:distributed.scheduler:Scheduler closing all comms\n"
          ]
        },
        {
          "output_type": "stream",
          "name": "stdout",
          "text": [
            "CPU times: user 23.5 s, sys: 2.07 s, total: 25.6 s\n",
            "Wall time: 36 s\n"
          ]
        }
      ]
    },
    {
      "cell_type": "markdown",
      "source": [
        "This histogram shown the distribution of the rating by observing the frequncy of each rating."
      ],
      "metadata": {
        "id": "GDtDRrWM7V-V"
      }
    },
    {
      "cell_type": "markdown",
      "metadata": {
        "id": "rN1bUu8RVJJ7"
      },
      "source": [
        "Count of Rating By Anime(Top 10)"
      ]
    },
    {
      "cell_type": "code",
      "execution_count": 39,
      "metadata": {
        "id": "RSt7KlcfVJJ8",
        "colab": {
          "base_uri": "https://localhost:8080/",
          "height": 1000
        },
        "outputId": "1a876238-6a1c-49df-faa6-eab8035b9ae8"
      },
      "outputs": [
        {
          "output_type": "stream",
          "name": "stderr",
          "text": [
            "/usr/local/lib/python3.10/dist-packages/distributed/node.py:182: UserWarning: Port 8787 is already in use.\n",
            "Perhaps you already have a cluster running?\n",
            "Hosting the HTTP server on port 41861 instead\n",
            "  warnings.warn(\n",
            "INFO:distributed.scheduler:State start\n",
            "INFO:distributed.scheduler:  Scheduler at:     tcp://127.0.0.1:45025\n",
            "INFO:distributed.scheduler:  dashboard at:  http://127.0.0.1:41861/status\n",
            "INFO:distributed.nanny:        Start Nanny at: 'tcp://127.0.0.1:44581'\n",
            "INFO:distributed.nanny:        Start Nanny at: 'tcp://127.0.0.1:43941'\n",
            "INFO:distributed.scheduler:Register worker <WorkerState 'tcp://127.0.0.1:44411', name: 0, status: init, memory: 0, processing: 0>\n",
            "INFO:distributed.scheduler:Starting worker compute stream, tcp://127.0.0.1:44411\n",
            "INFO:distributed.core:Starting established connection to tcp://127.0.0.1:36296\n",
            "INFO:distributed.scheduler:Register worker <WorkerState 'tcp://127.0.0.1:37965', name: 1, status: init, memory: 0, processing: 0>\n",
            "INFO:distributed.scheduler:Starting worker compute stream, tcp://127.0.0.1:37965\n",
            "INFO:distributed.core:Starting established connection to tcp://127.0.0.1:36298\n",
            "INFO:distributed.scheduler:Receive client connection: Client-ec33be5b-a270-11ee-a097-0242ac1c000c\n",
            "INFO:distributed.core:Starting established connection to tcp://127.0.0.1:36300\n",
            "INFO:distributed.core:Event loop was unresponsive in Scheduler for 3.19s.  This is often caused by long-running GIL-holding functions or moving large chunks of data. This can cause timeouts and instability.\n",
            "INFO:distributed.core:Event loop was unresponsive in Nanny for 3.18s.  This is often caused by long-running GIL-holding functions or moving large chunks of data. This can cause timeouts and instability.\n",
            "INFO:distributed.core:Event loop was unresponsive in Scheduler for 3.19s.  This is often caused by long-running GIL-holding functions or moving large chunks of data. This can cause timeouts and instability.\n",
            "INFO:distributed.core:Event loop was unresponsive in Nanny for 3.19s.  This is often caused by long-running GIL-holding functions or moving large chunks of data. This can cause timeouts and instability.\n",
            "INFO:distributed.core:Event loop was unresponsive in Nanny for 3.21s.  This is often caused by long-running GIL-holding functions or moving large chunks of data. This can cause timeouts and instability.\n",
            "INFO:distributed.core:Event loop was unresponsive in Scheduler for 3.20s.  This is often caused by long-running GIL-holding functions or moving large chunks of data. This can cause timeouts and instability.\n",
            "INFO:distributed.core:Event loop was unresponsive in Nanny for 3.18s.  This is often caused by long-running GIL-holding functions or moving large chunks of data. This can cause timeouts and instability.\n"
          ]
        },
        {
          "output_type": "display_data",
          "data": {
            "text/plain": [
              "<Figure size 1200x800 with 1 Axes>"
            ],
            "image/png": "[encoded data removed]"
          },
          "metadata": {}
        },
        {
          "output_type": "stream",
          "name": "stderr",
          "text": [
            "INFO:distributed.nanny:Closing Nanny at 'tcp://127.0.0.1:44581'. Reason: nanny-close\n",
            "INFO:distributed.nanny:Nanny asking worker to close. Reason: nanny-close\n",
            "INFO:distributed.nanny:Closing Nanny at 'tcp://127.0.0.1:43941'. Reason: nanny-close\n",
            "INFO:distributed.nanny:Nanny asking worker to close. Reason: nanny-close\n",
            "INFO:distributed.core:Received 'close-stream' from tcp://127.0.0.1:36296; closing.\n",
            "INFO:distributed.scheduler:Remove worker <WorkerState 'tcp://127.0.0.1:44411', name: 0, status: closing, memory: 0, processing: 0> (stimulus_id='handle-worker-cleanup-1703431644.8509772')\n",
            "INFO:distributed.core:Received 'close-stream' from tcp://127.0.0.1:36298; closing.\n",
            "INFO:distributed.scheduler:Remove worker <WorkerState 'tcp://127.0.0.1:37965', name: 1, status: closing, memory: 0, processing: 0> (stimulus_id='handle-worker-cleanup-1703431644.8728995')\n",
            "INFO:distributed.scheduler:Lost all workers\n",
            "INFO:distributed.scheduler:Scheduler closing due to unknown reason...\n",
            "INFO:distributed.scheduler:Scheduler closing all comms\n"
          ]
        },
        {
          "output_type": "stream",
          "name": "stdout",
          "text": [
            "CPU times: user 4.08 s, sys: 248 ms, total: 4.33 s\n",
            "Wall time: 7.53 s\n"
          ]
        }
      ],
      "source": [
        "%%time\n",
        "client = Client()\n",
        "\n",
        "top_anime = df['Anime Title'].value_counts().nlargest(10)\n",
        "\n",
        "plt.figure(figsize=(12, 8))\n",
        "sns.barplot(x=top_anime.values, y=top_anime.index, order=top_anime.index)\n",
        "plt.title('Top 10 Anime with the Highest Number of Ratings')\n",
        "plt.xlabel('Count of Ratings')\n",
        "plt.ylabel('Anime Title')\n",
        "plt.show()\n",
        "\n",
        "client.close()"
      ]
    },
    {
      "cell_type": "markdown",
      "metadata": {
        "id": "tLNLw0EOVJJ8"
      },
      "source": [
        "Find the Top 10 Animes\n"
      ]
    },
    {
      "cell_type": "code",
      "source": [
        "%%time\n",
        "client = Client()\n",
        "\n",
        "avg_ratings = df.groupby('Anime Title')['rating'].mean()\n",
        "\n",
        "top_rated = avg_ratings.nlargest(10)\n",
        "plt.figure(figsize=(12, 8))\n",
        "sns.barplot(x=top_rated.values, y=top_rated.index, palette='viridis')\n",
        "plt.title('Top Rated Anime')\n",
        "plt.xlabel('Average Rating')\n",
        "plt.ylabel('Anime Title')\n",
        "plt.show()\n",
        "client.close()"
      ],
      "metadata": {
        "colab": {
          "base_uri": "https://localhost:8080/",
          "height": 1000
        },
        "id": "wWeLekdzlmwo",
        "outputId": "d59abc1b-c375-4d8e-efa7-d21bec103e3c"
      },
      "execution_count": 21,
      "outputs": [
        {
          "output_type": "stream",
          "name": "stderr",
          "text": [
            "/usr/local/lib/python3.10/dist-packages/distributed/node.py:182: UserWarning: Port 8787 is already in use.\n",
            "Perhaps you already have a cluster running?\n",
            "Hosting the HTTP server on port 37699 instead\n",
            "  warnings.warn(\n",
            "INFO:distributed.scheduler:State start\n",
            "INFO:distributed.scheduler:  Scheduler at:     tcp://127.0.0.1:32917\n",
            "INFO:distributed.scheduler:  dashboard at:  http://127.0.0.1:37699/status\n",
            "INFO:distributed.nanny:        Start Nanny at: 'tcp://127.0.0.1:37281'\n",
            "INFO:distributed.nanny:        Start Nanny at: 'tcp://127.0.0.1:44063'\n",
            "INFO:distributed.scheduler:Register worker <WorkerState 'tcp://127.0.0.1:42993', name: 0, status: init, memory: 0, processing: 0>\n",
            "INFO:distributed.scheduler:Starting worker compute stream, tcp://127.0.0.1:42993\n",
            "INFO:distributed.core:Starting established connection to tcp://127.0.0.1:52942\n",
            "INFO:distributed.scheduler:Register worker <WorkerState 'tcp://127.0.0.1:46319', name: 1, status: init, memory: 0, processing: 0>\n",
            "INFO:distributed.scheduler:Starting worker compute stream, tcp://127.0.0.1:46319\n",
            "INFO:distributed.core:Starting established connection to tcp://127.0.0.1:52954\n",
            "INFO:distributed.scheduler:Receive client connection: Client-6171bd82-a26c-11ee-a097-0242ac1c000c\n",
            "INFO:distributed.core:Starting established connection to tcp://127.0.0.1:52956\n",
            "INFO:distributed.nanny:Worker process 9189 exited with status 1\n",
            "INFO:distributed.nanny:Worker process 9191 exited with status 1\n",
            "INFO:distributed.nanny:Closing Nanny at 'tcp://127.0.0.1:39301'. Reason: nanny-close-gracefully\n",
            "INFO:distributed.nanny:Closing Nanny at 'tcp://127.0.0.1:33981'. Reason: nanny-close-gracefully\n"
          ]
        },
        {
          "output_type": "display_data",
          "data": {
            "text/plain": [
              "<Figure size 1200x800 with 1 Axes>"
            ],
            "image/png": "[encoded data removed]"
          },
          "metadata": {}
        },
        {
          "output_type": "stream",
          "name": "stderr",
          "text": [
            "INFO:distributed.nanny:Closing Nanny at 'tcp://127.0.0.1:37281'. Reason: nanny-close\n",
            "INFO:distributed.nanny:Nanny asking worker to close. Reason: nanny-close\n",
            "INFO:distributed.nanny:Closing Nanny at 'tcp://127.0.0.1:44063'. Reason: nanny-close\n",
            "INFO:distributed.nanny:Nanny asking worker to close. Reason: nanny-close\n",
            "INFO:distributed.core:Received 'close-stream' from tcp://127.0.0.1:52942; closing.\n",
            "INFO:distributed.scheduler:Remove worker <WorkerState 'tcp://127.0.0.1:42993', name: 0, status: closing, memory: 0, processing: 0> (stimulus_id='handle-worker-cleanup-1703429694.1945727')\n",
            "INFO:distributed.core:Received 'close-stream' from tcp://127.0.0.1:52954; closing.\n",
            "INFO:distributed.scheduler:Remove worker <WorkerState 'tcp://127.0.0.1:46319', name: 1, status: closing, memory: 0, processing: 0> (stimulus_id='handle-worker-cleanup-1703429694.2166266')\n",
            "INFO:distributed.scheduler:Lost all workers\n",
            "INFO:distributed.scheduler:Scheduler closing due to unknown reason...\n",
            "INFO:distributed.scheduler:Scheduler closing all comms\n"
          ]
        },
        {
          "output_type": "stream",
          "name": "stdout",
          "text": [
            "CPU times: user 4.69 s, sys: 745 ms, total: 5.43 s\n",
            "Wall time: 7.89 s\n"
          ]
        }
      ]
    },
    {
      "cell_type": "markdown",
      "metadata": {
        "id": "nt_CVhi-VJJ8"
      },
      "source": [
        "Relationship between Anime ID and Rating"
      ]
    },
    {
      "cell_type": "code",
      "source": [
        "%%time\n",
        "client = Client()\n",
        "agg_data = df.groupby('anime_id')['rating'].agg(['mean', 'count'])\n",
        "agg_data.columns = ['Average Rating', 'Number of Ratings']\n",
        "plt.figure(figsize=(10, 6))\n",
        "plt.scatter(agg_data['Number of Ratings'], agg_data['Average Rating'], alpha=0.5)\n",
        "plt.title('Correlation between Number of Ratings and Average Rating')\n",
        "plt.xlabel('Number of Ratings')\n",
        "plt.ylabel('Average Rating')\n",
        "plt.grid(True)\n",
        "plt.show()\n",
        "client.close()"
      ],
      "metadata": {
        "colab": {
          "base_uri": "https://localhost:8080/",
          "height": 1000
        },
        "id": "HC03yj3Ch5EU",
        "outputId": "a027bfb3-178a-402d-ba6f-0927b20b7b46"
      },
      "execution_count": 28,
      "outputs": [
        {
          "output_type": "stream",
          "name": "stderr",
          "text": [
            "/usr/local/lib/python3.10/dist-packages/distributed/node.py:182: UserWarning: Port 8787 is already in use.\n",
            "Perhaps you already have a cluster running?\n",
            "Hosting the HTTP server on port 36791 instead\n",
            "  warnings.warn(\n",
            "INFO:distributed.scheduler:State start\n",
            "INFO:distributed.scheduler:  Scheduler at:     tcp://127.0.0.1:42949\n",
            "INFO:distributed.scheduler:  dashboard at:  http://127.0.0.1:36791/status\n",
            "INFO:distributed.nanny:        Start Nanny at: 'tcp://127.0.0.1:42833'\n",
            "INFO:distributed.nanny:        Start Nanny at: 'tcp://127.0.0.1:34079'\n",
            "INFO:distributed.scheduler:Register worker <WorkerState 'tcp://127.0.0.1:40717', name: 0, status: init, memory: 0, processing: 0>\n",
            "INFO:distributed.scheduler:Starting worker compute stream, tcp://127.0.0.1:40717\n",
            "INFO:distributed.core:Starting established connection to tcp://127.0.0.1:56004\n",
            "INFO:distributed.scheduler:Register worker <WorkerState 'tcp://127.0.0.1:39829', name: 1, status: init, memory: 0, processing: 0>\n",
            "INFO:distributed.scheduler:Starting worker compute stream, tcp://127.0.0.1:39829\n",
            "INFO:distributed.core:Starting established connection to tcp://127.0.0.1:55998\n",
            "INFO:distributed.scheduler:Receive client connection: Client-25d2e0ba-a26d-11ee-a097-0242ac1c000c\n",
            "INFO:distributed.core:Starting established connection to tcp://127.0.0.1:56010\n"
          ]
        },
        {
          "output_type": "display_data",
          "data": {
            "text/plain": [
              "<Figure size 1000x600 with 1 Axes>"
            ],
            "image/png": "[encoded data removed]"
          },
          "metadata": {}
        },
        {
          "output_type": "stream",
          "name": "stderr",
          "text": [
            "INFO:distributed.nanny:Closing Nanny at 'tcp://127.0.0.1:42833'. Reason: nanny-close\n",
            "INFO:distributed.nanny:Nanny asking worker to close. Reason: nanny-close\n",
            "INFO:distributed.nanny:Closing Nanny at 'tcp://127.0.0.1:34079'. Reason: nanny-close\n",
            "INFO:distributed.nanny:Nanny asking worker to close. Reason: nanny-close\n",
            "INFO:distributed.core:Received 'close-stream' from tcp://127.0.0.1:56004; closing.\n",
            "INFO:distributed.scheduler:Remove worker <WorkerState 'tcp://127.0.0.1:40717', name: 0, status: closing, memory: 0, processing: 0> (stimulus_id='handle-worker-cleanup-1703430022.0111506')\n",
            "INFO:distributed.core:Received 'close-stream' from tcp://127.0.0.1:55998; closing.\n",
            "INFO:distributed.scheduler:Remove worker <WorkerState 'tcp://127.0.0.1:39829', name: 1, status: closing, memory: 0, processing: 0> (stimulus_id='handle-worker-cleanup-1703430022.0417724')\n",
            "INFO:distributed.scheduler:Lost all workers\n",
            "INFO:distributed.scheduler:Scheduler closing due to unknown reason...\n",
            "INFO:distributed.scheduler:Scheduler closing all comms\n"
          ]
        },
        {
          "output_type": "stream",
          "name": "stdout",
          "text": [
            "CPU times: user 2.1 s, sys: 561 ms, total: 2.66 s\n",
            "Wall time: 6.23 s\n"
          ]
        }
      ]
    },
    {
      "cell_type": "markdown",
      "metadata": {
        "id": "E0U3IWm8VJJ9"
      },
      "source": [
        "## **Asking and Answering Questions**\n",
        "\n",
        "TODO - write some explanation here.\n",
        "\n"
      ]
    },
    {
      "cell_type": "markdown",
      "metadata": {
        "id": "SjXvLl4dVJJ9"
      },
      "source": [
        "> Instructions (delete this cell)\n",
        ">\n",
        "> - Ask at least 5 interesting questions about your dataset\n",
        "> - Answer the questions either by computing the results using Numpy/Pandas or by plotting graphs using Matplotlib/Seaborn\n",
        "> - Create new columns, merge multiple dataset and perform grouping/aggregation wherever necessary\n",
        "> - Wherever you're using a library function from Pandas/Numpy/Matplotlib etc. explain briefly what it does\n",
        "\n"
      ]
    },
    {
      "cell_type": "markdown",
      "metadata": {
        "id": "7Lor5rHMVJJ9"
      },
      "source": [
        "#### Q1: Which anime has the most frequency and what the average of its rating and its count?\n",
        "\n",
        "---\n",
        "Answer:Display anime that have the highest occurance, calculate the average rating of the anime, and display the number of occurance of said anime.\n"
      ]
    },
    {
      "cell_type": "code",
      "execution_count": 42,
      "metadata": {
        "id": "D-PdOKqCVJJ9",
        "colab": {
          "base_uri": "https://localhost:8080/"
        },
        "outputId": "47b1f5ea-e5c6-44dc-8b50-dd7b9df01ada"
      },
      "outputs": [
        {
          "output_type": "stream",
          "name": "stderr",
          "text": [
            "/usr/local/lib/python3.10/dist-packages/distributed/node.py:182: UserWarning: Port 8787 is already in use.\n",
            "Perhaps you already have a cluster running?\n",
            "Hosting the HTTP server on port 46091 instead\n",
            "  warnings.warn(\n",
            "INFO:distributed.scheduler:State start\n",
            "INFO:distributed.scheduler:  Scheduler at:     tcp://127.0.0.1:44551\n",
            "INFO:distributed.scheduler:  dashboard at:  http://127.0.0.1:46091/status\n",
            "INFO:distributed.nanny:        Start Nanny at: 'tcp://127.0.0.1:39837'\n",
            "INFO:distributed.nanny:        Start Nanny at: 'tcp://127.0.0.1:44505'\n",
            "INFO:distributed.scheduler:Register worker <WorkerState 'tcp://127.0.0.1:34759', name: 1, status: init, memory: 0, processing: 0>\n",
            "INFO:distributed.scheduler:Starting worker compute stream, tcp://127.0.0.1:34759\n",
            "INFO:distributed.core:Starting established connection to tcp://127.0.0.1:41978\n",
            "INFO:distributed.scheduler:Register worker <WorkerState 'tcp://127.0.0.1:42011', name: 0, status: init, memory: 0, processing: 0>\n",
            "INFO:distributed.scheduler:Starting worker compute stream, tcp://127.0.0.1:42011\n",
            "INFO:distributed.core:Starting established connection to tcp://127.0.0.1:41984\n",
            "INFO:distributed.scheduler:Receive client connection: Client-1ea75f29-a272-11ee-a097-0242ac1c000c\n",
            "INFO:distributed.core:Starting established connection to tcp://127.0.0.1:42000\n",
            "INFO:distributed.core:Event loop was unresponsive in Nanny for 5.04s.  This is often caused by long-running GIL-holding functions or moving large chunks of data. This can cause timeouts and instability.\n",
            "INFO:distributed.core:Event loop was unresponsive in Scheduler for 5.04s.  This is often caused by long-running GIL-holding functions or moving large chunks of data. This can cause timeouts and instability.\n",
            "INFO:distributed.core:Event loop was unresponsive in Nanny for 5.04s.  This is often caused by long-running GIL-holding functions or moving large chunks of data. This can cause timeouts and instability.\n",
            "INFO:distributed.core:Event loop was unresponsive in Nanny for 5.04s.  This is often caused by long-running GIL-holding functions or moving large chunks of data. This can cause timeouts and instability.\n",
            "INFO:distributed.core:Event loop was unresponsive in Scheduler for 5.04s.  This is often caused by long-running GIL-holding functions or moving large chunks of data. This can cause timeouts and instability.\n",
            "INFO:distributed.core:Event loop was unresponsive in Scheduler for 5.06s.  This is often caused by long-running GIL-holding functions or moving large chunks of data. This can cause timeouts and instability.\n",
            "INFO:distributed.core:Event loop was unresponsive in Nanny for 7.01s.  This is often caused by long-running GIL-holding functions or moving large chunks of data. This can cause timeouts and instability.\n",
            "INFO:distributed.nanny:Closing Nanny at 'tcp://127.0.0.1:39837'. Reason: nanny-close\n",
            "INFO:distributed.nanny:Nanny asking worker to close. Reason: nanny-close\n",
            "INFO:distributed.nanny:Closing Nanny at 'tcp://127.0.0.1:44505'. Reason: nanny-close\n",
            "INFO:distributed.nanny:Nanny asking worker to close. Reason: nanny-close\n",
            "INFO:distributed.core:Received 'close-stream' from tcp://127.0.0.1:41984; closing.\n",
            "INFO:distributed.scheduler:Remove worker <WorkerState 'tcp://127.0.0.1:42011', name: 0, status: closing, memory: 0, processing: 0> (stimulus_id='handle-worker-cleanup-1703432165.1773136')\n",
            "INFO:distributed.core:Received 'close-stream' from tcp://127.0.0.1:41978; closing.\n",
            "INFO:distributed.scheduler:Remove worker <WorkerState 'tcp://127.0.0.1:34759', name: 1, status: closing, memory: 0, processing: 0> (stimulus_id='handle-worker-cleanup-1703432165.1992807')\n",
            "INFO:distributed.scheduler:Lost all workers\n",
            "INFO:distributed.scheduler:Scheduler closing due to unknown reason...\n",
            "INFO:distributed.scheduler:Scheduler closing all comms\n"
          ]
        },
        {
          "output_type": "stream",
          "name": "stdout",
          "text": [
            "+-------------+-----------+----------------+\n",
            "| Anime Title | Occurance | Average Rating |\n",
            "+-------------+-----------+----------------+\n",
            "|  Death Note |   126492  |      8.72      |\n",
            "+-------------+-----------+----------------+\n"
          ]
        }
      ],
      "source": [
        "from prettytable import PrettyTable\n",
        "\n",
        "#%%time\n",
        "\n",
        "client = Client()\n",
        "most_frequent_anime = df['Anime Title'].value_counts().idxmax()\n",
        "anime_count = df[df['Anime Title']==most_frequent_anime].value_counts().sum()\n",
        "average_rating_most_frequent_anime = df[df['Anime Title'] == most_frequent_anime]['rating'].mean()\n",
        "\n",
        "\n",
        "client.close()\n",
        "table = PrettyTable()\n",
        "table.field_names = [\"Anime Title\", \"Occurance\", \"Average Rating\"]\n",
        "table.add_row([most_frequent_anime, anime_count, f\"{average_rating_most_frequent_anime:.2f}\"])\n",
        "print(table)"
      ]
    },
    {
      "cell_type": "markdown",
      "metadata": {
        "id": "c_REVnrhVJJ-"
      },
      "source": [
        "#### Q2: What is the average rating given by each user?\n",
        "\n",
        "---\n",
        "\n",
        "Answer: Sum every rating given by each user, then divide by its occurance."
      ]
    },
    {
      "cell_type": "code",
      "execution_count": 43,
      "metadata": {
        "id": "ShA3QyQpVJJ-",
        "colab": {
          "base_uri": "https://localhost:8080/"
        },
        "outputId": "ac430898-83c6-427c-941a-74c4c5b6f6b1"
      },
      "outputs": [
        {
          "output_type": "stream",
          "name": "stderr",
          "text": [
            "/usr/local/lib/python3.10/dist-packages/distributed/node.py:182: UserWarning: Port 8787 is already in use.\n",
            "Perhaps you already have a cluster running?\n",
            "Hosting the HTTP server on port 42965 instead\n",
            "  warnings.warn(\n",
            "INFO:distributed.scheduler:State start\n",
            "INFO:distributed.scheduler:  Scheduler at:     tcp://127.0.0.1:46769\n",
            "INFO:distributed.scheduler:  dashboard at:  http://127.0.0.1:42965/status\n",
            "INFO:distributed.nanny:        Start Nanny at: 'tcp://127.0.0.1:44607'\n",
            "INFO:distributed.nanny:        Start Nanny at: 'tcp://127.0.0.1:38311'\n",
            "INFO:distributed.scheduler:Register worker <WorkerState 'tcp://127.0.0.1:37111', name: 0, status: init, memory: 0, processing: 0>\n",
            "INFO:distributed.scheduler:Starting worker compute stream, tcp://127.0.0.1:37111\n",
            "INFO:distributed.core:Starting established connection to tcp://127.0.0.1:44366\n",
            "INFO:distributed.scheduler:Register worker <WorkerState 'tcp://127.0.0.1:34593', name: 1, status: init, memory: 0, processing: 0>\n",
            "INFO:distributed.scheduler:Starting worker compute stream, tcp://127.0.0.1:34593\n",
            "INFO:distributed.core:Starting established connection to tcp://127.0.0.1:44382\n",
            "INFO:distributed.scheduler:Receive client connection: Client-9fe95a60-a272-11ee-a097-0242ac1c000c\n",
            "INFO:distributed.core:Starting established connection to tcp://127.0.0.1:44388\n",
            "INFO:distributed.nanny:Closing Nanny at 'tcp://127.0.0.1:44607'. Reason: nanny-close\n",
            "INFO:distributed.nanny:Nanny asking worker to close. Reason: nanny-close\n",
            "INFO:distributed.nanny:Closing Nanny at 'tcp://127.0.0.1:38311'. Reason: nanny-close\n",
            "INFO:distributed.nanny:Nanny asking worker to close. Reason: nanny-close\n",
            "INFO:distributed.core:Received 'close-stream' from tcp://127.0.0.1:44366; closing.\n",
            "INFO:distributed.scheduler:Remove worker <WorkerState 'tcp://127.0.0.1:37111', name: 0, status: closing, memory: 0, processing: 0> (stimulus_id='handle-worker-cleanup-1703432374.4328651')\n",
            "INFO:distributed.core:Received 'close-stream' from tcp://127.0.0.1:44382; closing.\n",
            "INFO:distributed.scheduler:Remove worker <WorkerState 'tcp://127.0.0.1:34593', name: 1, status: closing, memory: 0, processing: 0> (stimulus_id='handle-worker-cleanup-1703432374.455066')\n",
            "INFO:distributed.scheduler:Lost all workers\n"
          ]
        },
        {
          "output_type": "stream",
          "name": "stdout",
          "text": [
            "Average rating given by each user:\n",
            " user_id\n",
            "1          7.438931\n",
            "4          6.524648\n",
            "9          7.707692\n",
            "20         8.057143\n",
            "23         7.457447\n",
            "             ...   \n",
            "1291057    7.004167\n",
            "1291079    8.478723\n",
            "1291085    8.220339\n",
            "1291087    7.533333\n",
            "1291097    9.666667\n",
            "Name: rating, Length: 270033, dtype: float64\n"
          ]
        },
        {
          "output_type": "stream",
          "name": "stderr",
          "text": [
            "INFO:distributed.scheduler:Scheduler closing due to unknown reason...\n",
            "INFO:distributed.scheduler:Scheduler closing all comms\n"
          ]
        },
        {
          "output_type": "stream",
          "name": "stdout",
          "text": [
            "CPU times: user 1.39 s, sys: 366 ms, total: 1.76 s\n",
            "Wall time: 6.1 s\n"
          ]
        }
      ],
      "source": [
        "%%time\n",
        "client = Client()\n",
        "average_user_ratings = df.groupby(\"user_id\")[\"rating\"].mean()\n",
        "print(\"Average rating given by each user:\\n\", average_user_ratings)\n",
        "\n",
        "client.close()"
      ]
    },
    {
      "cell_type": "markdown",
      "metadata": {
        "id": "ya3o0SurVJJ-"
      },
      "source": [
        "#### Q3: How many unique users and animes are there in the dataset?\n",
        "\n",
        "---\n",
        "\n",
        "Answer:Calculate the unique number of user and anime."
      ]
    },
    {
      "cell_type": "code",
      "execution_count": 45,
      "metadata": {
        "id": "CaF9SiPeVJJ-",
        "colab": {
          "base_uri": "https://localhost:8080/"
        },
        "outputId": "201a178f-4df7-4797-8973-6659dc25d679"
      },
      "outputs": [
        {
          "output_type": "stream",
          "name": "stderr",
          "text": [
            "/usr/local/lib/python3.10/dist-packages/distributed/node.py:182: UserWarning: Port 8787 is already in use.\n",
            "Perhaps you already have a cluster running?\n",
            "Hosting the HTTP server on port 44659 instead\n",
            "  warnings.warn(\n",
            "INFO:distributed.scheduler:State start\n",
            "INFO:distributed.scheduler:  Scheduler at:     tcp://127.0.0.1:39125\n",
            "INFO:distributed.scheduler:  dashboard at:  http://127.0.0.1:44659/status\n",
            "INFO:distributed.nanny:        Start Nanny at: 'tcp://127.0.0.1:38565'\n",
            "INFO:distributed.nanny:        Start Nanny at: 'tcp://127.0.0.1:40757'\n",
            "INFO:distributed.scheduler:Register worker <WorkerState 'tcp://127.0.0.1:40515', name: 1, status: init, memory: 0, processing: 0>\n",
            "INFO:distributed.scheduler:Starting worker compute stream, tcp://127.0.0.1:40515\n",
            "INFO:distributed.core:Starting established connection to tcp://127.0.0.1:51580\n",
            "INFO:distributed.scheduler:Register worker <WorkerState 'tcp://127.0.0.1:38953', name: 0, status: init, memory: 0, processing: 0>\n",
            "INFO:distributed.scheduler:Starting worker compute stream, tcp://127.0.0.1:38953\n",
            "INFO:distributed.core:Starting established connection to tcp://127.0.0.1:51592\n",
            "INFO:distributed.scheduler:Receive client connection: Client-17f071f1-a273-11ee-a097-0242ac1c000c\n",
            "INFO:distributed.core:Starting established connection to tcp://127.0.0.1:51600\n",
            "INFO:distributed.nanny:Closing Nanny at 'tcp://127.0.0.1:38565'. Reason: nanny-close\n",
            "INFO:distributed.nanny:Nanny asking worker to close. Reason: nanny-close\n",
            "INFO:distributed.nanny:Closing Nanny at 'tcp://127.0.0.1:40757'. Reason: nanny-close\n",
            "INFO:distributed.nanny:Nanny asking worker to close. Reason: nanny-close\n",
            "INFO:distributed.core:Received 'close-stream' from tcp://127.0.0.1:51592; closing.\n",
            "INFO:distributed.scheduler:Remove worker <WorkerState 'tcp://127.0.0.1:38953', name: 0, status: closing, memory: 0, processing: 0> (stimulus_id='handle-worker-cleanup-1703432574.0300264')\n",
            "INFO:distributed.core:Received 'close-stream' from tcp://127.0.0.1:51580; closing.\n",
            "INFO:distributed.scheduler:Remove worker <WorkerState 'tcp://127.0.0.1:40515', name: 1, status: closing, memory: 0, processing: 0> (stimulus_id='handle-worker-cleanup-1703432574.0436895')\n",
            "INFO:distributed.scheduler:Lost all workers\n"
          ]
        },
        {
          "output_type": "stream",
          "name": "stdout",
          "text": [
            "+---------------+--------+\n",
            "|    Category   | Count  |\n",
            "+---------------+--------+\n",
            "|  Unique Users | 270033 |\n",
            "| Unique Animes | 16500  |\n",
            "+---------------+--------+\n"
          ]
        },
        {
          "output_type": "stream",
          "name": "stderr",
          "text": [
            "INFO:distributed.scheduler:Scheduler closing due to unknown reason...\n",
            "INFO:distributed.scheduler:Scheduler closing all comms\n"
          ]
        },
        {
          "output_type": "stream",
          "name": "stdout",
          "text": [
            "CPU times: user 948 ms, sys: 84.6 ms, total: 1.03 s\n",
            "Wall time: 4.3 s\n"
          ]
        }
      ],
      "source": [
        "%%time\n",
        "client = Client()\n",
        "unique_users = df[\"user_id\"].nunique()\n",
        "unique_animes = df[\"anime_id\"].nunique()\n",
        "\n",
        "table = PrettyTable()\n",
        "table.field_names = [\"Category\", \"Count\"]\n",
        "\n",
        "table.add_row([\"Unique Users\", unique_users])\n",
        "table.add_row([\"Unique Animes\", unique_animes])\n",
        "\n",
        "print(table)\n",
        "client.close()"
      ]
    },
    {
      "cell_type": "markdown",
      "metadata": {
        "id": "p4CcVO1TVJJ-"
      },
      "source": [
        "#### Q4: Who are the top 10 user that gave the ratings the most?\n",
        "\n",
        "---\n",
        "\n",
        "Answer: Calculate the number of occurance for each username and display top 10 username that have the most occurance."
      ]
    },
    {
      "cell_type": "code",
      "execution_count": 26,
      "metadata": {
        "id": "Wa96BGX1VJJ-",
        "colab": {
          "base_uri": "https://localhost:8080/",
          "height": 1000
        },
        "outputId": "ddb86681-c439-43bc-88cc-41ac6905fa6a"
      },
      "outputs": [
        {
          "output_type": "stream",
          "name": "stderr",
          "text": [
            "/usr/local/lib/python3.10/dist-packages/distributed/node.py:182: UserWarning: Port 8787 is already in use.\n",
            "Perhaps you already have a cluster running?\n",
            "Hosting the HTTP server on port 39783 instead\n",
            "  warnings.warn(\n",
            "INFO:distributed.scheduler:State start\n",
            "INFO:distributed.scheduler:  Scheduler at:     tcp://127.0.0.1:36777\n",
            "INFO:distributed.scheduler:  dashboard at:  http://127.0.0.1:39783/status\n",
            "INFO:distributed.nanny:        Start Nanny at: 'tcp://127.0.0.1:33075'\n",
            "INFO:distributed.nanny:        Start Nanny at: 'tcp://127.0.0.1:46327'\n",
            "INFO:distributed.scheduler:Register worker <WorkerState 'tcp://127.0.0.1:42559', name: 1, status: init, memory: 0, processing: 0>\n",
            "INFO:distributed.scheduler:Starting worker compute stream, tcp://127.0.0.1:42559\n",
            "INFO:distributed.core:Starting established connection to tcp://127.0.0.1:43336\n",
            "INFO:distributed.scheduler:Register worker <WorkerState 'tcp://127.0.0.1:41845', name: 0, status: init, memory: 0, processing: 0>\n",
            "INFO:distributed.scheduler:Starting worker compute stream, tcp://127.0.0.1:41845\n",
            "INFO:distributed.core:Starting established connection to tcp://127.0.0.1:43320\n",
            "INFO:distributed.scheduler:Receive client connection: Client-95264ff7-a26c-11ee-a097-0242ac1c000c\n",
            "INFO:distributed.core:Starting established connection to tcp://127.0.0.1:43352\n"
          ]
        },
        {
          "output_type": "display_data",
          "data": {
            "text/plain": [
              "<Figure size 1000x600 with 1 Axes>"
            ],
            "image/png": "[encoded data removed]"
          },
          "metadata": {}
        },
        {
          "output_type": "stream",
          "name": "stderr",
          "text": [
            "INFO:distributed.nanny:Closing Nanny at 'tcp://127.0.0.1:33075'. Reason: nanny-close\n",
            "INFO:distributed.nanny:Nanny asking worker to close. Reason: nanny-close\n",
            "INFO:distributed.nanny:Closing Nanny at 'tcp://127.0.0.1:46327'. Reason: nanny-close\n",
            "INFO:distributed.nanny:Nanny asking worker to close. Reason: nanny-close\n",
            "INFO:distributed.core:Received 'close-stream' from tcp://127.0.0.1:43320; closing.\n",
            "INFO:distributed.scheduler:Remove worker <WorkerState 'tcp://127.0.0.1:41845', name: 0, status: closing, memory: 0, processing: 0> (stimulus_id='handle-worker-cleanup-1703429777.6333976')\n",
            "INFO:distributed.core:Received 'close-stream' from tcp://127.0.0.1:43336; closing.\n",
            "INFO:distributed.scheduler:Remove worker <WorkerState 'tcp://127.0.0.1:42559', name: 1, status: closing, memory: 0, processing: 0> (stimulus_id='handle-worker-cleanup-1703429777.6684783')\n",
            "INFO:distributed.scheduler:Lost all workers\n",
            "INFO:distributed.scheduler:Scheduler closing due to unknown reason...\n",
            "INFO:distributed.scheduler:Scheduler closing all comms\n"
          ]
        },
        {
          "output_type": "stream",
          "name": "stdout",
          "text": [
            "CPU times: user 2.09 s, sys: 188 ms, total: 2.28 s\n",
            "Wall time: 4.27 s\n"
          ]
        }
      ],
      "source": [
        "%%time\n",
        "client = Client()\n",
        "\n",
        "top_10_users = df['Username'].value_counts().head(10)\n",
        "plt.figure(figsize=(10, 6))\n",
        "sns.barplot(x=top_10_users.index, y=top_10_users.values, palette='viridis')\n",
        "plt.title('Top 10 Users with the Most Ratings')\n",
        "plt.xlabel('Username')\n",
        "plt.ylabel('Number of Ratings')\n",
        "plt.xticks(rotation=45, ha='right')\n",
        "plt.show()\n",
        "\n",
        "client.close()"
      ]
    },
    {
      "cell_type": "markdown",
      "metadata": {
        "id": "uFuZBqX1VJJ_"
      },
      "source": [
        "#### Q5: what is the anime with the worst rating and what is the average rating for that anime?\n",
        "\n",
        "---\n",
        "\n",
        "Answer: Calculate the anime with the worst rating and its average rating\n",
        "\n"
      ]
    },
    {
      "cell_type": "code",
      "execution_count": 37,
      "metadata": {
        "id": "0XCOkgIHVJJ_",
        "colab": {
          "base_uri": "https://localhost:8080/"
        },
        "outputId": "5b6d200a-b545-490a-a8ba-289d78a2c56b"
      },
      "outputs": [
        {
          "output_type": "stream",
          "name": "stderr",
          "text": [
            "/usr/local/lib/python3.10/dist-packages/distributed/node.py:182: UserWarning: Port 8787 is already in use.\n",
            "Perhaps you already have a cluster running?\n",
            "Hosting the HTTP server on port 38593 instead\n",
            "  warnings.warn(\n",
            "INFO:distributed.scheduler:State start\n",
            "INFO:distributed.scheduler:  Scheduler at:     tcp://127.0.0.1:43507\n",
            "INFO:distributed.scheduler:  dashboard at:  http://127.0.0.1:38593/status\n",
            "INFO:distributed.nanny:        Start Nanny at: 'tcp://127.0.0.1:37903'\n",
            "INFO:distributed.nanny:        Start Nanny at: 'tcp://127.0.0.1:39119'\n",
            "INFO:distributed.scheduler:Register worker <WorkerState 'tcp://127.0.0.1:40877', name: 0, status: init, memory: 0, processing: 0>\n",
            "INFO:distributed.scheduler:Starting worker compute stream, tcp://127.0.0.1:40877\n",
            "INFO:distributed.core:Starting established connection to tcp://127.0.0.1:39532\n",
            "INFO:distributed.scheduler:Register worker <WorkerState 'tcp://127.0.0.1:42075', name: 1, status: init, memory: 0, processing: 0>\n",
            "INFO:distributed.scheduler:Starting worker compute stream, tcp://127.0.0.1:42075\n",
            "INFO:distributed.core:Starting established connection to tcp://127.0.0.1:39542\n",
            "INFO:distributed.scheduler:Receive client connection: Client-0b65ec5c-a26f-11ee-a097-0242ac1c000c\n",
            "INFO:distributed.core:Starting established connection to tcp://127.0.0.1:39546\n",
            "INFO:distributed.nanny:Closing Nanny at 'tcp://127.0.0.1:37903'. Reason: nanny-close\n",
            "INFO:distributed.nanny:Nanny asking worker to close. Reason: nanny-close\n",
            "INFO:distributed.nanny:Closing Nanny at 'tcp://127.0.0.1:39119'. Reason: nanny-close\n",
            "INFO:distributed.nanny:Nanny asking worker to close. Reason: nanny-close\n",
            "INFO:distributed.core:Received 'close-stream' from tcp://127.0.0.1:39542; closing.\n",
            "INFO:distributed.scheduler:Remove worker <WorkerState 'tcp://127.0.0.1:42075', name: 1, status: closing, memory: 0, processing: 0> (stimulus_id='handle-worker-cleanup-1703430841.2298331')\n",
            "INFO:distributed.core:Received 'close-stream' from tcp://127.0.0.1:39532; closing.\n",
            "INFO:distributed.scheduler:Remove worker <WorkerState 'tcp://127.0.0.1:40877', name: 0, status: closing, memory: 0, processing: 0> (stimulus_id='handle-worker-cleanup-1703430841.2501478')\n",
            "INFO:distributed.scheduler:Lost all workers\n",
            "INFO:distributed.scheduler:Scheduler closing due to unknown reason...\n",
            "INFO:distributed.scheduler:Scheduler closing all comms\n"
          ]
        },
        {
          "output_type": "stream",
          "name": "stdout",
          "text": [
            "+----------------+-------------------+----------------+\n",
            "|  Anime Title   | Worst Rated Anime | Average Rating |\n",
            "+----------------+-------------------+----------------+\n",
            "| Ao Fei Q Chong |   Ao Fei Q Chong  |      1.00      |\n",
            "+----------------+-------------------+----------------+\n",
            "CPU times: user 7.3 s, sys: 782 ms, total: 8.08 s\n",
            "Wall time: 10.6 s\n"
          ]
        }
      ],
      "source": [
        "%%time\n",
        "client = Client()\n",
        "worst_rated_anime = df.groupby(\"Anime Title\")[\"rating\"].mean().idxmin()\n",
        "average_rating_worst_anime = df[df[\"Anime Title\"] == worst_rated_anime][\"rating\"].mean()\n",
        "\n",
        "client.close()\n",
        "\n",
        "table = PrettyTable()\n",
        "table.field_names = [\"Anime Title\", \"Worst Rated Anime\", \"Average Rating\"]\n",
        "table.add_row([worst_rated_anime, worst_rated_anime, f\"{average_rating_worst_anime:.2f}\"])\n",
        "\n",
        "print(table)\n"
      ]
    },
    {
      "cell_type": "markdown",
      "metadata": {
        "id": "VxoO755tVJJ_"
      },
      "source": [
        "##**Conclusion**\n"
      ]
    },
    {
      "cell_type": "markdown",
      "source": [
        "###**Advantages of Dask**\n",
        "\n",
        "1.   Scalability:Dask makes it possible for users to scale their computations from a single machine to a cluster of machines by enabling distributed and parallel computing.\n",
        "2.   Lazy Evaluation:Because Dask uses lazy evaluation, users can construct complex computations and then execute them only when needed. This may result in the usage of resources more effectively.\n",
        "3.   Parallel Processing:Dask has the ability to parallelize operations across several cores, which improves computation speed for tasks that support it.\n",
        "4.   Handling Large Datasets:Users can work with datasets that would be impractical to process in-memory since Dask is built to handle datasets that are larger than the available RAM.\n",
        "\n",
        "\n",
        "\n",
        "\n",
        "\n",
        "\n",
        "\n"
      ],
      "metadata": {
        "id": "08aS6_sMmy9b"
      }
    },
    {
      "cell_type": "markdown",
      "source": [
        "###**Disadvatages of Dask**\n",
        "\n",
        "1.   Limited Functionality:Despite covering a wide range of use cases, Dask might not be able to fully mimic all the functionality of in-memory libraries such as Pandas or NumPy. Some advanced functions might not be available or be restricted.\n",
        "\n",
        "2.   Overhead:Because Dask uses distributed computing and job coordination, there is some overhead. The overhead might be more than the advantages for some simple calculations.\n",
        "\n",
        "3.   Complexity in Debugging:It can be more difficult to troubleshoot distributed calculations than single-machine computations. Identifying and fixing problems could take more work.\n",
        "\n",
        "4.   Learning Curve:When switching to Dask, users who are not familiar with distributed computing ideas may encounter a learning curve, particularly when working with distributed installations.\n",
        "\n",
        "\n"
      ],
      "metadata": {
        "id": "AnUrLy_Um3TX"
      }
    },
    {
      "cell_type": "markdown",
      "source": [
        "###**Consideration when using Dask**\n",
        "\n",
        "1.   Data Size and Distribution:Take into account the quantity and dispersion of your data. Dask works well with big datasets, but when the data can be spread across several machines, the performance advantages are greater.\n",
        "\n",
        "2.   Resource Management:Use resources carefully, especially when interacting with dispersed clusters. Efficient computation requires careful resource allocation and monitoring.\n",
        "\n",
        "3.   Task Scheduling:Recognise Dask's task scheduling features and adjust them to meet your needs. Task scheduling that is effective can have a big impact on output.\n",
        "\n",
        "\n",
        "\n"
      ],
      "metadata": {
        "id": "st_nm1PCm857"
      }
    },
    {
      "cell_type": "markdown",
      "source": [
        "###**Summary**\n",
        "Dask is a scalable Python framework for distributed and parallel computing that facilitates the effective handling of huge datasets. It provides a familiar API, easily interacts with current Python tools, and enables users to parallelize calculations across cores or clusters. Lazy evaluation, which makes it appropriate for out-of-memory data, is one of its key advantages. Data science and machine learning frequently employ it to speed up data processing operations.\n"
      ],
      "metadata": {
        "id": "3oHdCbrapMVz"
      }
    }
  ],
  "metadata": {
    "colab": {
      "provenance": [],
      "toc_visible": true,
      "include_colab_link": true
    },
    "kernelspec": {
      "display_name": "Python 3",
      "language": "python",
      "name": "python3"
    },
    "language_info": {
      "codemirror_mode": {
        "name": "ipython",
        "version": 3
      },
      "file_extension": ".py",
      "mimetype": "text/x-python",
      "name": "python",
      "nbconvert_exporter": "python",
      "pygments_lexer": "ipython3",
      "version": "3.8.5"
    }
  },
  "nbformat": 4,
  "nbformat_minor": 0
}
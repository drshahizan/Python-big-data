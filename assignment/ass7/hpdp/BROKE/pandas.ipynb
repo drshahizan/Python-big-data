{
  "cells": [
    {
      "cell_type": "markdown",
      "metadata": {
        "id": "3N5rrH7DsKrv"
      },
      "source": [
        "# Pandas"
      ]
    },
    {
      "cell_type": "markdown",
      "metadata": {
        "id": "d7KjkPQ3sO4a"
      },
      "source": [
        "## 1. Data selection and loading"
      ]
    },
    {
      "cell_type": "code",
      "execution_count": null,
      "metadata": {
        "colab": {
          "base_uri": "https://localhost:8080/",
          "height": 88
        },
        "id": "ITsUwKunoL_R",
        "outputId": "1d3eee6a-5f1f-4542-8591-b338cb725626"
      },
      "outputs": [
        {
          "data": {
            "text/html": [
              "\n",
              "     <input type=\"file\" id=\"files-21b21c6f-2fc2-41dd-936e-bbad04e3453b\" name=\"files[]\" multiple disabled\n",
              "        style=\"border:none\" />\n",
              "     <output id=\"result-21b21c6f-2fc2-41dd-936e-bbad04e3453b\">\n",
              "      Upload widget is only available when the cell has been executed in the\n",
              "      current browser session. Please rerun this cell to enable.\n",
              "      </output>\n",
              "      <script>// Copyright 2017 Google LLC\n",
              "//\n",
              "// Licensed under the Apache License, Version 2.0 (the \"License\");\n",
              "// you may not use this file except in compliance with the License.\n",
              "// You may obtain a copy of the License at\n",
              "//\n",
              "//      http://www.apache.org/licenses/LICENSE-2.0\n",
              "//\n",
              "// Unless required by applicable law or agreed to in writing, software\n",
              "// distributed under the License is distributed on an \"AS IS\" BASIS,\n",
              "// WITHOUT WARRANTIES OR CONDITIONS OF ANY KIND, either express or implied.\n",
              "// See the License for the specific language governing permissions and\n",
              "// limitations under the License.\n",
              "\n",
              "/**\n",
              " * @fileoverview Helpers for google.colab Python module.\n",
              " */\n",
              "(function(scope) {\n",
              "function span(text, styleAttributes = {}) {\n",
              "  const element = document.createElement('span');\n",
              "  element.textContent = text;\n",
              "  for (const key of Object.keys(styleAttributes)) {\n",
              "    element.style[key] = styleAttributes[key];\n",
              "  }\n",
              "  return element;\n",
              "}\n",
              "\n",
              "// Max number of bytes which will be uploaded at a time.\n",
              "const MAX_PAYLOAD_SIZE = 100 * 1024;\n",
              "\n",
              "function _uploadFiles(inputId, outputId) {\n",
              "  const steps = uploadFilesStep(inputId, outputId);\n",
              "  const outputElement = document.getElementById(outputId);\n",
              "  // Cache steps on the outputElement to make it available for the next call\n",
              "  // to uploadFilesContinue from Python.\n",
              "  outputElement.steps = steps;\n",
              "\n",
              "  return _uploadFilesContinue(outputId);\n",
              "}\n",
              "\n",
              "// This is roughly an async generator (not supported in the browser yet),\n",
              "// where there are multiple asynchronous steps and the Python side is going\n",
              "// to poll for completion of each step.\n",
              "// This uses a Promise to block the python side on completion of each step,\n",
              "// then passes the result of the previous step as the input to the next step.\n",
              "function _uploadFilesContinue(outputId) {\n",
              "  const outputElement = document.getElementById(outputId);\n",
              "  const steps = outputElement.steps;\n",
              "\n",
              "  const next = steps.next(outputElement.lastPromiseValue);\n",
              "  return Promise.resolve(next.value.promise).then((value) => {\n",
              "    // Cache the last promise value to make it available to the next\n",
              "    // step of the generator.\n",
              "    outputElement.lastPromiseValue = value;\n",
              "    return next.value.response;\n",
              "  });\n",
              "}\n",
              "\n",
              "/**\n",
              " * Generator function which is called between each async step of the upload\n",
              " * process.\n",
              " * @param {string} inputId Element ID of the input file picker element.\n",
              " * @param {string} outputId Element ID of the output display.\n",
              " * @return {!Iterable<!Object>} Iterable of next steps.\n",
              " */\n",
              "function* uploadFilesStep(inputId, outputId) {\n",
              "  const inputElement = document.getElementById(inputId);\n",
              "  inputElement.disabled = false;\n",
              "\n",
              "  const outputElement = document.getElementById(outputId);\n",
              "  outputElement.innerHTML = '';\n",
              "\n",
              "  const pickedPromise = new Promise((resolve) => {\n",
              "    inputElement.addEventListener('change', (e) => {\n",
              "      resolve(e.target.files);\n",
              "    });\n",
              "  });\n",
              "\n",
              "  const cancel = document.createElement('button');\n",
              "  inputElement.parentElement.appendChild(cancel);\n",
              "  cancel.textContent = 'Cancel upload';\n",
              "  const cancelPromise = new Promise((resolve) => {\n",
              "    cancel.onclick = () => {\n",
              "      resolve(null);\n",
              "    };\n",
              "  });\n",
              "\n",
              "  // Wait for the user to pick the files.\n",
              "  const files = yield {\n",
              "    promise: Promise.race([pickedPromise, cancelPromise]),\n",
              "    response: {\n",
              "      action: 'starting',\n",
              "    }\n",
              "  };\n",
              "\n",
              "  cancel.remove();\n",
              "\n",
              "  // Disable the input element since further picks are not allowed.\n",
              "  inputElement.disabled = true;\n",
              "\n",
              "  if (!files) {\n",
              "    return {\n",
              "      response: {\n",
              "        action: 'complete',\n",
              "      }\n",
              "    };\n",
              "  }\n",
              "\n",
              "  for (const file of files) {\n",
              "    const li = document.createElement('li');\n",
              "    li.append(span(file.name, {fontWeight: 'bold'}));\n",
              "    li.append(span(\n",
              "        `(${file.type || 'n/a'}) - ${file.size} bytes, ` +\n",
              "        `last modified: ${\n",
              "            file.lastModifiedDate ? file.lastModifiedDate.toLocaleDateString() :\n",
              "                                    'n/a'} - `));\n",
              "    const percent = span('0% done');\n",
              "    li.appendChild(percent);\n",
              "\n",
              "    outputElement.appendChild(li);\n",
              "\n",
              "    const fileDataPromise = new Promise((resolve) => {\n",
              "      const reader = new FileReader();\n",
              "      reader.onload = (e) => {\n",
              "        resolve(e.target.result);\n",
              "      };\n",
              "      reader.readAsArrayBuffer(file);\n",
              "    });\n",
              "    // Wait for the data to be ready.\n",
              "    let fileData = yield {\n",
              "      promise: fileDataPromise,\n",
              "      response: {\n",
              "        action: 'continue',\n",
              "      }\n",
              "    };\n",
              "\n",
              "    // Use a chunked sending to avoid message size limits. See b/62115660.\n",
              "    let position = 0;\n",
              "    do {\n",
              "      const length = Math.min(fileData.byteLength - position, MAX_PAYLOAD_SIZE);\n",
              "      const chunk = new Uint8Array(fileData, position, length);\n",
              "      position += length;\n",
              "\n",
              "      const base64 = btoa(String.fromCharCode.apply(null, chunk));\n",
              "      yield {\n",
              "        response: {\n",
              "          action: 'append',\n",
              "          file: file.name,\n",
              "          data: base64,\n",
              "        },\n",
              "      };\n",
              "\n",
              "      let percentDone = fileData.byteLength === 0 ?\n",
              "          100 :\n",
              "          Math.round((position / fileData.byteLength) * 100);\n",
              "      percent.textContent = `${percentDone}% done`;\n",
              "\n",
              "    } while (position < fileData.byteLength);\n",
              "  }\n",
              "\n",
              "  // All done.\n",
              "  yield {\n",
              "    response: {\n",
              "      action: 'complete',\n",
              "    }\n",
              "  };\n",
              "}\n",
              "\n",
              "scope.google = scope.google || {};\n",
              "scope.google.colab = scope.google.colab || {};\n",
              "scope.google.colab._files = {\n",
              "  _uploadFiles,\n",
              "  _uploadFilesContinue,\n",
              "};\n",
              "})(self);\n",
              "</script> "
            ],
            "text/plain": [
              "<IPython.core.display.HTML object>"
            ]
          },
          "metadata": {},
          "output_type": "display_data"
        },
        {
          "name": "stdout",
          "output_type": "stream",
          "text": [
            "Saving kaggle.json to kaggle.json\n"
          ]
        },
        {
          "data": {
            "text/plain": [
              "{'kaggle.json': b'{\"username\":\"kuehlepat\",\"key\":\"7ee486a700d538616b32985b859db53e\"}'}"
            ]
          },
          "execution_count": 1,
          "metadata": {},
          "output_type": "execute_result"
        }
      ],
      "source": [
        "from google.colab import files\n",
        "files.upload()"
      ]
    },
    {
      "cell_type": "code",
      "execution_count": null,
      "metadata": {
        "colab": {
          "base_uri": "https://localhost:8080/"
        },
        "id": "qOCk00VUogc9",
        "outputId": "3d6f87ca-d187-4428-853b-c5f9040d5550"
      },
      "outputs": [
        {
          "name": "stdout",
          "output_type": "stream",
          "text": [
            "rm: cannot remove '/root/.kaggle': No such file or directory\n"
          ]
        }
      ],
      "source": [
        "!rm -r ~/.kaggle\n",
        "!mkdir ~/.kaggle\n",
        "!mv ./kaggle.json ~/.kaggle/\n",
        "!chmod 600 ~/.kaggle/kaggle.json"
      ]
    },
    {
      "cell_type": "code",
      "execution_count": null,
      "metadata": {
        "colab": {
          "background_save": true,
          "base_uri": "https://localhost:8080/"
        },
        "id": "FIE5-nRgokPG",
        "outputId": "70b202da-97c7-4106-fbf1-512d82efe700"
      },
      "outputs": [
        {
          "name": "stdout",
          "output_type": "stream",
          "text": [
            "Traceback (most recent call last):\n",
            "  File \"/usr/local/bin/kaggle\", line 8, in <module>\n",
            "    sys.exit(main())\n",
            "  File \"/usr/local/lib/python3.10/dist-packages/kaggle/cli.py\", line 70, in main\n",
            "    out = args.func(**command_args)\n",
            "  File \"/usr/local/lib/python3.10/dist-packages/kaggle/api/kaggle_api_extended.py\", line 1493, in dataset_download_cli\n",
            "    self.dataset_download_files(dataset,\n",
            "  File \"/usr/local/lib/python3.10/dist-packages/kaggle/api/kaggle_api_extended.py\", line 1447, in dataset_download_files\n",
            "    self.download_file(response, outfile, quiet, not force)\n",
            "  File \"/usr/local/lib/python3.10/dist-packages/kaggle/api/kaggle_api_extended.py\", line 1834, in download_file\n",
            "    size = int(response.headers['Content-Length'])\n",
            "  File \"/usr/local/lib/python3.10/dist-packages/urllib3/_collections.py\", line 258, in __getitem__\n",
            "    val = self._container[key.lower()]\n",
            "KeyError: 'content-length'\n"
          ]
        }
      ],
      "source": [
        "!kaggle datasets download -d cisautomotiveapi/large-car-dataset"
      ]
    },
    {
      "cell_type": "code",
      "execution_count": null,
      "metadata": {
        "colab": {
          "base_uri": "https://localhost:8080/"
        },
        "id": "RUP1MxwmomB-",
        "outputId": "040cbf0c-009d-4aa5-c101-fcf4745ffe88"
      },
      "outputs": [
        {
          "name": "stdout",
          "output_type": "stream",
          "text": [
            "Archive:  /content/large-car-dataset.zip\n",
            "  inflating: CIS_Automotive_Kaggle_Sample.csv  \n"
          ]
        }
      ],
      "source": [
        "!unzip /content/large-car-dataset.zip"
      ]
    },
    {
      "cell_type": "code",
      "execution_count": null,
      "metadata": {
        "id": "DsZRxGnNorr6"
      },
      "outputs": [],
      "source": [
        "import pandas as pd\n",
        "import numpy as np"
      ]
    },
    {
      "cell_type": "code",
      "execution_count": null,
      "metadata": {
        "id": "pY6dTBCjqJlX"
      },
      "outputs": [],
      "source": [
        "path ='/content/CIS_Automotive_Kaggle_Sample.csv'"
      ]
    },
    {
      "cell_type": "code",
      "execution_count": null,
      "metadata": {
        "colab": {
          "base_uri": "https://localhost:8080/"
        },
        "id": "y042bu4Yorkt",
        "outputId": "6324f4b5-8659-4f3c-eacb-402fe95e7092"
      },
      "outputs": [
        {
          "name": "stdout",
          "output_type": "stream",
          "text": [
            "CPU times: user 3 µs, sys: 1e+03 ns, total: 4 µs\n",
            "Wall time: 7.87 µs\n"
          ]
        },
        {
          "name": "stderr",
          "output_type": "stream",
          "text": [
            "<ipython-input-105-65e32b12d607>:2: DtypeWarning:\n",
            "\n",
            "Columns (1,8,9,17,22,25,26,32,37,53,65,67,69,70,91,93,107,111,120,122) have mixed types. Specify dtype option on import or set low_memory=False.\n",
            "\n"
          ]
        }
      ],
      "source": [
        "%time\n",
        "df_pd = pd.read_csv(path,nrows=1000000)"
      ]
    },
    {
      "cell_type": "code",
      "execution_count": null,
      "metadata": {
        "colab": {
          "base_uri": "https://localhost:8080/",
          "height": 669
        },
        "id": "jKHsJxyxqVkM",
        "outputId": "09a4657e-1de5-4614-9872-58da65de24a3"
      },
      "outputs": [
        {
          "data": {
            "text/html": [
              "\n",
              "  <div id=\"df-73d267d3-8bde-4a5b-aa15-b68f8e148b19\" class=\"colab-df-container\">\n",
              "    <div>\n",
              "<style scoped>\n",
              "    .dataframe tbody tr th:only-of-type {\n",
              "        vertical-align: middle;\n",
              "    }\n",
              "\n",
              "    .dataframe tbody tr th {\n",
              "        vertical-align: top;\n",
              "    }\n",
              "\n",
              "    .dataframe thead th {\n",
              "        text-align: right;\n",
              "    }\n",
              "</style>\n",
              "<table border=\"1\" class=\"dataframe\">\n",
              "  <thead>\n",
              "    <tr style=\"text-align: right;\">\n",
              "      <th></th>\n",
              "      <th>vin</th>\n",
              "      <th>stockNum</th>\n",
              "      <th>firstSeen</th>\n",
              "      <th>lastSeen</th>\n",
              "      <th>msrp</th>\n",
              "      <th>askPrice</th>\n",
              "      <th>mileage</th>\n",
              "      <th>isNew</th>\n",
              "      <th>color</th>\n",
              "      <th>interiorColor</th>\n",
              "      <th>...</th>\n",
              "      <th>vf_VIN</th>\n",
              "      <th>vf_ValveTrainDesign</th>\n",
              "      <th>vf_VehicleType</th>\n",
              "      <th>vf_WheelBaseLong</th>\n",
              "      <th>vf_WheelBaseShort</th>\n",
              "      <th>vf_WheelBaseType</th>\n",
              "      <th>vf_WheelSizeFront</th>\n",
              "      <th>vf_WheelSizeRear</th>\n",
              "      <th>vf_Wheels</th>\n",
              "      <th>vf_Windows</th>\n",
              "    </tr>\n",
              "  </thead>\n",
              "  <tbody>\n",
              "    <tr>\n",
              "      <th>0</th>\n",
              "      <td>abc5f0360059cf7b6fa8368db57f220ab0d87d582bf6ce...</td>\n",
              "      <td>11701A</td>\n",
              "      <td>2019-05-06</td>\n",
              "      <td>2019-05-06</td>\n",
              "      <td>1498</td>\n",
              "      <td>1498</td>\n",
              "      <td>0</td>\n",
              "      <td>False</td>\n",
              "      <td>Gray</td>\n",
              "      <td>NaN</td>\n",
              "      <td>...</td>\n",
              "      <td>abc5f0360059cf7b6fa8368db57f220ab0d87d582bf6ce...</td>\n",
              "      <td>NaN</td>\n",
              "      <td>PASSENGER CAR</td>\n",
              "      <td>NaN</td>\n",
              "      <td>NaN</td>\n",
              "      <td>NaN</td>\n",
              "      <td>NaN</td>\n",
              "      <td>NaN</td>\n",
              "      <td>NaN</td>\n",
              "      <td>NaN</td>\n",
              "    </tr>\n",
              "    <tr>\n",
              "      <th>1</th>\n",
              "      <td>e24402cc77f6fd2d6a9dd626ad92795b717814340f1ab1...</td>\n",
              "      <td>9055B</td>\n",
              "      <td>2019-05-06</td>\n",
              "      <td>2019-05-06</td>\n",
              "      <td>10589</td>\n",
              "      <td>10589</td>\n",
              "      <td>0</td>\n",
              "      <td>False</td>\n",
              "      <td>Super Black</td>\n",
              "      <td>NaN</td>\n",
              "      <td>...</td>\n",
              "      <td>e24402cc77f6fd2d6a9dd626ad92795b717814340f1ab1...</td>\n",
              "      <td>NaN</td>\n",
              "      <td>PASSENGER CAR</td>\n",
              "      <td>NaN</td>\n",
              "      <td>NaN</td>\n",
              "      <td>NaN</td>\n",
              "      <td>NaN</td>\n",
              "      <td>NaN</td>\n",
              "      <td>NaN</td>\n",
              "      <td>NaN</td>\n",
              "    </tr>\n",
              "    <tr>\n",
              "      <th>2</th>\n",
              "      <td>1c5a8dc966b3d3b379e10477d9ff8a8aa13edf43acc7f7...</td>\n",
              "      <td>11816A</td>\n",
              "      <td>2017-06-03</td>\n",
              "      <td>2019-05-07</td>\n",
              "      <td>11992</td>\n",
              "      <td>9940</td>\n",
              "      <td>0</td>\n",
              "      <td>False</td>\n",
              "      <td>White</td>\n",
              "      <td>NaN</td>\n",
              "      <td>...</td>\n",
              "      <td>1c5a8dc966b3d3b379e10477d9ff8a8aa13edf43acc7f7...</td>\n",
              "      <td>NaN</td>\n",
              "      <td>MULTIPURPOSE PASSENGER VEHICLE (MPV)</td>\n",
              "      <td>NaN</td>\n",
              "      <td>NaN</td>\n",
              "      <td>NaN</td>\n",
              "      <td>NaN</td>\n",
              "      <td>NaN</td>\n",
              "      <td>NaN</td>\n",
              "      <td>NaN</td>\n",
              "    </tr>\n",
              "    <tr>\n",
              "      <th>3</th>\n",
              "      <td>edce23814c88f5a1d1af700c27ad7f4c9d705aa9873317...</td>\n",
              "      <td>11847</td>\n",
              "      <td>2019-05-06</td>\n",
              "      <td>2019-05-07</td>\n",
              "      <td>12387</td>\n",
              "      <td>12387</td>\n",
              "      <td>0</td>\n",
              "      <td>False</td>\n",
              "      <td>Silver Ice Metallic</td>\n",
              "      <td>NaN</td>\n",
              "      <td>...</td>\n",
              "      <td>edce23814c88f5a1d1af700c27ad7f4c9d705aa9873317...</td>\n",
              "      <td>Dual Overhead Cam (DOHC)</td>\n",
              "      <td>PASSENGER CAR</td>\n",
              "      <td>NaN</td>\n",
              "      <td>106.3</td>\n",
              "      <td>NaN</td>\n",
              "      <td>17.0</td>\n",
              "      <td>17.0</td>\n",
              "      <td>4.0</td>\n",
              "      <td>4.0</td>\n",
              "    </tr>\n",
              "    <tr>\n",
              "      <th>4</th>\n",
              "      <td>6b4f8c610d14d864f024adb26cd4f0eddcff3fa18c16e3...</td>\n",
              "      <td>9097</td>\n",
              "      <td>2019-05-06</td>\n",
              "      <td>2019-05-07</td>\n",
              "      <td>41659</td>\n",
              "      <td>41659</td>\n",
              "      <td>0</td>\n",
              "      <td>True</td>\n",
              "      <td>Black Metallic</td>\n",
              "      <td>NaN</td>\n",
              "      <td>...</td>\n",
              "      <td>6b4f8c610d14d864f024adb26cd4f0eddcff3fa18c16e3...</td>\n",
              "      <td>NaN</td>\n",
              "      <td>TRUCK</td>\n",
              "      <td>156.8</td>\n",
              "      <td>145.0</td>\n",
              "      <td>NaN</td>\n",
              "      <td>17.0</td>\n",
              "      <td>17.0</td>\n",
              "      <td>4.0</td>\n",
              "      <td>NaN</td>\n",
              "    </tr>\n",
              "    <tr>\n",
              "      <th>...</th>\n",
              "      <td>...</td>\n",
              "      <td>...</td>\n",
              "      <td>...</td>\n",
              "      <td>...</td>\n",
              "      <td>...</td>\n",
              "      <td>...</td>\n",
              "      <td>...</td>\n",
              "      <td>...</td>\n",
              "      <td>...</td>\n",
              "      <td>...</td>\n",
              "      <td>...</td>\n",
              "      <td>...</td>\n",
              "      <td>...</td>\n",
              "      <td>...</td>\n",
              "      <td>...</td>\n",
              "      <td>...</td>\n",
              "      <td>...</td>\n",
              "      <td>...</td>\n",
              "      <td>...</td>\n",
              "      <td>...</td>\n",
              "      <td>...</td>\n",
              "    </tr>\n",
              "    <tr>\n",
              "      <th>999995</th>\n",
              "      <td>d18b982e78690b40933ed8cf71ea5916e2162b863de575...</td>\n",
              "      <td>NaN</td>\n",
              "      <td>2019-06-05</td>\n",
              "      <td>2019-10-26</td>\n",
              "      <td>28950</td>\n",
              "      <td>27800</td>\n",
              "      <td>0</td>\n",
              "      <td>False</td>\n",
              "      <td>NaN</td>\n",
              "      <td>NaN</td>\n",
              "      <td>...</td>\n",
              "      <td>d18b982e78690b40933ed8cf71ea5916e2162b863de575...</td>\n",
              "      <td>NaN</td>\n",
              "      <td>TRUCK</td>\n",
              "      <td>NaN</td>\n",
              "      <td>NaN</td>\n",
              "      <td>NaN</td>\n",
              "      <td>NaN</td>\n",
              "      <td>NaN</td>\n",
              "      <td>NaN</td>\n",
              "      <td>NaN</td>\n",
              "    </tr>\n",
              "    <tr>\n",
              "      <th>999996</th>\n",
              "      <td>102af6005c3f947a7726f4599ccd175af132b9225bd1b3...</td>\n",
              "      <td>NaN</td>\n",
              "      <td>2019-04-19</td>\n",
              "      <td>2019-10-26</td>\n",
              "      <td>35281</td>\n",
              "      <td>34449</td>\n",
              "      <td>0</td>\n",
              "      <td>False</td>\n",
              "      <td>NaN</td>\n",
              "      <td>NaN</td>\n",
              "      <td>...</td>\n",
              "      <td>102af6005c3f947a7726f4599ccd175af132b9225bd1b3...</td>\n",
              "      <td>NaN</td>\n",
              "      <td>TRUCK</td>\n",
              "      <td>NaN</td>\n",
              "      <td>143.5</td>\n",
              "      <td>NaN</td>\n",
              "      <td>18.0</td>\n",
              "      <td>18.0</td>\n",
              "      <td>4.0</td>\n",
              "      <td>NaN</td>\n",
              "    </tr>\n",
              "    <tr>\n",
              "      <th>999997</th>\n",
              "      <td>e934b5f1768ba22b8d96f0f59cd613fb43eae76e366c8d...</td>\n",
              "      <td>NaN</td>\n",
              "      <td>2019-09-30</td>\n",
              "      <td>2019-10-27</td>\n",
              "      <td>14995</td>\n",
              "      <td>14700</td>\n",
              "      <td>0</td>\n",
              "      <td>False</td>\n",
              "      <td>NaN</td>\n",
              "      <td>NaN</td>\n",
              "      <td>...</td>\n",
              "      <td>e934b5f1768ba22b8d96f0f59cd613fb43eae76e366c8d...</td>\n",
              "      <td>NaN</td>\n",
              "      <td>PASSENGER CAR</td>\n",
              "      <td>NaN</td>\n",
              "      <td>NaN</td>\n",
              "      <td>NaN</td>\n",
              "      <td>NaN</td>\n",
              "      <td>NaN</td>\n",
              "      <td>NaN</td>\n",
              "      <td>4.0</td>\n",
              "    </tr>\n",
              "    <tr>\n",
              "      <th>999998</th>\n",
              "      <td>7f88577f9d67c444168e05cb736bc331eae576977d3a8e...</td>\n",
              "      <td>NaN</td>\n",
              "      <td>2019-04-11</td>\n",
              "      <td>2019-10-27</td>\n",
              "      <td>29965</td>\n",
              "      <td>22864</td>\n",
              "      <td>0</td>\n",
              "      <td>True</td>\n",
              "      <td>NaN</td>\n",
              "      <td>NaN</td>\n",
              "      <td>...</td>\n",
              "      <td>7f88577f9d67c444168e05cb736bc331eae576977d3a8e...</td>\n",
              "      <td>Dual Overhead Cam (DOHC)</td>\n",
              "      <td>MULTIPURPOSE PASSENGER VEHICLE (MPV)</td>\n",
              "      <td>NaN</td>\n",
              "      <td>NaN</td>\n",
              "      <td>NaN</td>\n",
              "      <td>NaN</td>\n",
              "      <td>NaN</td>\n",
              "      <td>NaN</td>\n",
              "      <td>NaN</td>\n",
              "    </tr>\n",
              "    <tr>\n",
              "      <th>999999</th>\n",
              "      <td>c3aeba9d6b749e2f079ecc99d286857aa3e0bb5140d6d3...</td>\n",
              "      <td>NaN</td>\n",
              "      <td>2019-09-26</td>\n",
              "      <td>2019-10-28</td>\n",
              "      <td>14250</td>\n",
              "      <td>14200</td>\n",
              "      <td>0</td>\n",
              "      <td>False</td>\n",
              "      <td>NaN</td>\n",
              "      <td>NaN</td>\n",
              "      <td>...</td>\n",
              "      <td>c3aeba9d6b749e2f079ecc99d286857aa3e0bb5140d6d3...</td>\n",
              "      <td>Dual Overhead Cam (DOHC)</td>\n",
              "      <td>PASSENGER CAR</td>\n",
              "      <td>NaN</td>\n",
              "      <td>106.3</td>\n",
              "      <td>NaN</td>\n",
              "      <td>NaN</td>\n",
              "      <td>NaN</td>\n",
              "      <td>4.0</td>\n",
              "      <td>NaN</td>\n",
              "    </tr>\n",
              "  </tbody>\n",
              "</table>\n",
              "<p>1000000 rows × 156 columns</p>\n",
              "</div>\n",
              "    <div class=\"colab-df-buttons\">\n",
              "\n",
              "  <div class=\"colab-df-container\">\n",
              "    <button class=\"colab-df-convert\" onclick=\"convertToInteractive('df-73d267d3-8bde-4a5b-aa15-b68f8e148b19')\"\n",
              "            title=\"Convert this dataframe to an interactive table.\"\n",
              "            style=\"display:none;\">\n",
              "\n",
              "  <svg xmlns=\"http://www.w3.org/2000/svg\" height=\"24px\" viewBox=\"0 -960 960 960\">\n",
              "    <path d=\"M120-120v-720h720v720H120Zm60-500h600v-160H180v160Zm220 220h160v-160H400v160Zm0 220h160v-160H400v160ZM180-400h160v-160H180v160Zm440 0h160v-160H620v160ZM180-180h160v-160H180v160Zm440 0h160v-160H620v160Z\"/>\n",
              "  </svg>\n",
              "    </button>\n",
              "\n",
              "  <style>\n",
              "    .colab-df-container {\n",
              "      display:flex;\n",
              "      gap: 12px;\n",
              "    }\n",
              "\n",
              "    .colab-df-convert {\n",
              "      background-color: #E8F0FE;\n",
              "      border: none;\n",
              "      border-radius: 50%;\n",
              "      cursor: pointer;\n",
              "      display: none;\n",
              "      fill: #1967D2;\n",
              "      height: 32px;\n",
              "      padding: 0 0 0 0;\n",
              "      width: 32px;\n",
              "    }\n",
              "\n",
              "    .colab-df-convert:hover {\n",
              "      background-color: #E2EBFA;\n",
              "      box-shadow: 0px 1px 2px rgba(60, 64, 67, 0.3), 0px 1px 3px 1px rgba(60, 64, 67, 0.15);\n",
              "      fill: #174EA6;\n",
              "    }\n",
              "\n",
              "    .colab-df-buttons div {\n",
              "      margin-bottom: 4px;\n",
              "    }\n",
              "\n",
              "    [theme=dark] .colab-df-convert {\n",
              "      background-color: #3B4455;\n",
              "      fill: #D2E3FC;\n",
              "    }\n",
              "\n",
              "    [theme=dark] .colab-df-convert:hover {\n",
              "      background-color: #434B5C;\n",
              "      box-shadow: 0px 1px 3px 1px rgba(0, 0, 0, 0.15);\n",
              "      filter: drop-shadow(0px 1px 2px rgba(0, 0, 0, 0.3));\n",
              "      fill: #FFFFFF;\n",
              "    }\n",
              "  </style>\n",
              "\n",
              "    <script>\n",
              "      const buttonEl =\n",
              "        document.querySelector('#df-73d267d3-8bde-4a5b-aa15-b68f8e148b19 button.colab-df-convert');\n",
              "      buttonEl.style.display =\n",
              "        google.colab.kernel.accessAllowed ? 'block' : 'none';\n",
              "\n",
              "      async function convertToInteractive(key) {\n",
              "        const element = document.querySelector('#df-73d267d3-8bde-4a5b-aa15-b68f8e148b19');\n",
              "        const dataTable =\n",
              "          await google.colab.kernel.invokeFunction('convertToInteractive',\n",
              "                                                    [key], {});\n",
              "        if (!dataTable) return;\n",
              "\n",
              "        const docLinkHtml = 'Like what you see? Visit the ' +\n",
              "          '<a target=\"_blank\" href=https://colab.research.google.com/notebooks/data_table.ipynb>data table notebook</a>'\n",
              "          + ' to learn more about interactive tables.';\n",
              "        element.innerHTML = '';\n",
              "        dataTable['output_type'] = 'display_data';\n",
              "        await google.colab.output.renderOutput(dataTable, element);\n",
              "        const docLink = document.createElement('div');\n",
              "        docLink.innerHTML = docLinkHtml;\n",
              "        element.appendChild(docLink);\n",
              "      }\n",
              "    </script>\n",
              "  </div>\n",
              "\n",
              "\n",
              "<div id=\"df-7fdfe4be-9054-48aa-8c45-11d0b5703051\">\n",
              "  <button class=\"colab-df-quickchart\" onclick=\"quickchart('df-7fdfe4be-9054-48aa-8c45-11d0b5703051')\"\n",
              "            title=\"Suggest charts\"\n",
              "            style=\"display:none;\">\n",
              "\n",
              "<svg xmlns=\"http://www.w3.org/2000/svg\" height=\"24px\"viewBox=\"0 0 24 24\"\n",
              "     width=\"24px\">\n",
              "    <g>\n",
              "        <path d=\"M19 3H5c-1.1 0-2 .9-2 2v14c0 1.1.9 2 2 2h14c1.1 0 2-.9 2-2V5c0-1.1-.9-2-2-2zM9 17H7v-7h2v7zm4 0h-2V7h2v10zm4 0h-2v-4h2v4z\"/>\n",
              "    </g>\n",
              "</svg>\n",
              "  </button>\n",
              "\n",
              "<style>\n",
              "  .colab-df-quickchart {\n",
              "      --bg-color: #E8F0FE;\n",
              "      --fill-color: #1967D2;\n",
              "      --hover-bg-color: #E2EBFA;\n",
              "      --hover-fill-color: #174EA6;\n",
              "      --disabled-fill-color: #AAA;\n",
              "      --disabled-bg-color: #DDD;\n",
              "  }\n",
              "\n",
              "  [theme=dark] .colab-df-quickchart {\n",
              "      --bg-color: #3B4455;\n",
              "      --fill-color: #D2E3FC;\n",
              "      --hover-bg-color: #434B5C;\n",
              "      --hover-fill-color: #FFFFFF;\n",
              "      --disabled-bg-color: #3B4455;\n",
              "      --disabled-fill-color: #666;\n",
              "  }\n",
              "\n",
              "  .colab-df-quickchart {\n",
              "    background-color: var(--bg-color);\n",
              "    border: none;\n",
              "    border-radius: 50%;\n",
              "    cursor: pointer;\n",
              "    display: none;\n",
              "    fill: var(--fill-color);\n",
              "    height: 32px;\n",
              "    padding: 0;\n",
              "    width: 32px;\n",
              "  }\n",
              "\n",
              "  .colab-df-quickchart:hover {\n",
              "    background-color: var(--hover-bg-color);\n",
              "    box-shadow: 0 1px 2px rgba(60, 64, 67, 0.3), 0 1px 3px 1px rgba(60, 64, 67, 0.15);\n",
              "    fill: var(--button-hover-fill-color);\n",
              "  }\n",
              "\n",
              "  .colab-df-quickchart-complete:disabled,\n",
              "  .colab-df-quickchart-complete:disabled:hover {\n",
              "    background-color: var(--disabled-bg-color);\n",
              "    fill: var(--disabled-fill-color);\n",
              "    box-shadow: none;\n",
              "  }\n",
              "\n",
              "  .colab-df-spinner {\n",
              "    border: 2px solid var(--fill-color);\n",
              "    border-color: transparent;\n",
              "    border-bottom-color: var(--fill-color);\n",
              "    animation:\n",
              "      spin 1s steps(1) infinite;\n",
              "  }\n",
              "\n",
              "  @keyframes spin {\n",
              "    0% {\n",
              "      border-color: transparent;\n",
              "      border-bottom-color: var(--fill-color);\n",
              "      border-left-color: var(--fill-color);\n",
              "    }\n",
              "    20% {\n",
              "      border-color: transparent;\n",
              "      border-left-color: var(--fill-color);\n",
              "      border-top-color: var(--fill-color);\n",
              "    }\n",
              "    30% {\n",
              "      border-color: transparent;\n",
              "      border-left-color: var(--fill-color);\n",
              "      border-top-color: var(--fill-color);\n",
              "      border-right-color: var(--fill-color);\n",
              "    }\n",
              "    40% {\n",
              "      border-color: transparent;\n",
              "      border-right-color: var(--fill-color);\n",
              "      border-top-color: var(--fill-color);\n",
              "    }\n",
              "    60% {\n",
              "      border-color: transparent;\n",
              "      border-right-color: var(--fill-color);\n",
              "    }\n",
              "    80% {\n",
              "      border-color: transparent;\n",
              "      border-right-color: var(--fill-color);\n",
              "      border-bottom-color: var(--fill-color);\n",
              "    }\n",
              "    90% {\n",
              "      border-color: transparent;\n",
              "      border-bottom-color: var(--fill-color);\n",
              "    }\n",
              "  }\n",
              "</style>\n",
              "\n",
              "  <script>\n",
              "    async function quickchart(key) {\n",
              "      const quickchartButtonEl =\n",
              "        document.querySelector('#' + key + ' button');\n",
              "      quickchartButtonEl.disabled = true;  // To prevent multiple clicks.\n",
              "      quickchartButtonEl.classList.add('colab-df-spinner');\n",
              "      try {\n",
              "        const charts = await google.colab.kernel.invokeFunction(\n",
              "            'suggestCharts', [key], {});\n",
              "      } catch (error) {\n",
              "        console.error('Error during call to suggestCharts:', error);\n",
              "      }\n",
              "      quickchartButtonEl.classList.remove('colab-df-spinner');\n",
              "      quickchartButtonEl.classList.add('colab-df-quickchart-complete');\n",
              "    }\n",
              "    (() => {\n",
              "      let quickchartButtonEl =\n",
              "        document.querySelector('#df-7fdfe4be-9054-48aa-8c45-11d0b5703051 button');\n",
              "      quickchartButtonEl.style.display =\n",
              "        google.colab.kernel.accessAllowed ? 'block' : 'none';\n",
              "    })();\n",
              "  </script>\n",
              "</div>\n",
              "    </div>\n",
              "  </div>\n"
            ],
            "text/plain": [
              "                                                      vin stockNum  \\\n",
              "0       abc5f0360059cf7b6fa8368db57f220ab0d87d582bf6ce...   11701A   \n",
              "1       e24402cc77f6fd2d6a9dd626ad92795b717814340f1ab1...    9055B   \n",
              "2       1c5a8dc966b3d3b379e10477d9ff8a8aa13edf43acc7f7...   11816A   \n",
              "3       edce23814c88f5a1d1af700c27ad7f4c9d705aa9873317...    11847   \n",
              "4       6b4f8c610d14d864f024adb26cd4f0eddcff3fa18c16e3...     9097   \n",
              "...                                                   ...      ...   \n",
              "999995  d18b982e78690b40933ed8cf71ea5916e2162b863de575...      NaN   \n",
              "999996  102af6005c3f947a7726f4599ccd175af132b9225bd1b3...      NaN   \n",
              "999997  e934b5f1768ba22b8d96f0f59cd613fb43eae76e366c8d...      NaN   \n",
              "999998  7f88577f9d67c444168e05cb736bc331eae576977d3a8e...      NaN   \n",
              "999999  c3aeba9d6b749e2f079ecc99d286857aa3e0bb5140d6d3...      NaN   \n",
              "\n",
              "         firstSeen    lastSeen   msrp  askPrice  mileage  isNew  \\\n",
              "0       2019-05-06  2019-05-06   1498      1498        0  False   \n",
              "1       2019-05-06  2019-05-06  10589     10589        0  False   \n",
              "2       2017-06-03  2019-05-07  11992      9940        0  False   \n",
              "3       2019-05-06  2019-05-07  12387     12387        0  False   \n",
              "4       2019-05-06  2019-05-07  41659     41659        0   True   \n",
              "...            ...         ...    ...       ...      ...    ...   \n",
              "999995  2019-06-05  2019-10-26  28950     27800        0  False   \n",
              "999996  2019-04-19  2019-10-26  35281     34449        0  False   \n",
              "999997  2019-09-30  2019-10-27  14995     14700        0  False   \n",
              "999998  2019-04-11  2019-10-27  29965     22864        0   True   \n",
              "999999  2019-09-26  2019-10-28  14250     14200        0  False   \n",
              "\n",
              "                      color interiorColor  ...  \\\n",
              "0                      Gray           NaN  ...   \n",
              "1               Super Black           NaN  ...   \n",
              "2                     White           NaN  ...   \n",
              "3       Silver Ice Metallic           NaN  ...   \n",
              "4            Black Metallic           NaN  ...   \n",
              "...                     ...           ...  ...   \n",
              "999995                  NaN           NaN  ...   \n",
              "999996                  NaN           NaN  ...   \n",
              "999997                  NaN           NaN  ...   \n",
              "999998                  NaN           NaN  ...   \n",
              "999999                  NaN           NaN  ...   \n",
              "\n",
              "                                                   vf_VIN  \\\n",
              "0       abc5f0360059cf7b6fa8368db57f220ab0d87d582bf6ce...   \n",
              "1       e24402cc77f6fd2d6a9dd626ad92795b717814340f1ab1...   \n",
              "2       1c5a8dc966b3d3b379e10477d9ff8a8aa13edf43acc7f7...   \n",
              "3       edce23814c88f5a1d1af700c27ad7f4c9d705aa9873317...   \n",
              "4       6b4f8c610d14d864f024adb26cd4f0eddcff3fa18c16e3...   \n",
              "...                                                   ...   \n",
              "999995  d18b982e78690b40933ed8cf71ea5916e2162b863de575...   \n",
              "999996  102af6005c3f947a7726f4599ccd175af132b9225bd1b3...   \n",
              "999997  e934b5f1768ba22b8d96f0f59cd613fb43eae76e366c8d...   \n",
              "999998  7f88577f9d67c444168e05cb736bc331eae576977d3a8e...   \n",
              "999999  c3aeba9d6b749e2f079ecc99d286857aa3e0bb5140d6d3...   \n",
              "\n",
              "             vf_ValveTrainDesign                        vf_VehicleType  \\\n",
              "0                            NaN                         PASSENGER CAR   \n",
              "1                            NaN                         PASSENGER CAR   \n",
              "2                            NaN  MULTIPURPOSE PASSENGER VEHICLE (MPV)   \n",
              "3       Dual Overhead Cam (DOHC)                         PASSENGER CAR   \n",
              "4                            NaN                                TRUCK    \n",
              "...                          ...                                   ...   \n",
              "999995                       NaN                                TRUCK    \n",
              "999996                       NaN                                TRUCK    \n",
              "999997                       NaN                         PASSENGER CAR   \n",
              "999998  Dual Overhead Cam (DOHC)  MULTIPURPOSE PASSENGER VEHICLE (MPV)   \n",
              "999999  Dual Overhead Cam (DOHC)                         PASSENGER CAR   \n",
              "\n",
              "       vf_WheelBaseLong vf_WheelBaseShort vf_WheelBaseType vf_WheelSizeFront  \\\n",
              "0                   NaN               NaN              NaN               NaN   \n",
              "1                   NaN               NaN              NaN               NaN   \n",
              "2                   NaN               NaN              NaN               NaN   \n",
              "3                   NaN             106.3              NaN              17.0   \n",
              "4                 156.8             145.0              NaN              17.0   \n",
              "...                 ...               ...              ...               ...   \n",
              "999995              NaN               NaN              NaN               NaN   \n",
              "999996              NaN             143.5              NaN              18.0   \n",
              "999997              NaN               NaN              NaN               NaN   \n",
              "999998              NaN               NaN              NaN               NaN   \n",
              "999999              NaN             106.3              NaN               NaN   \n",
              "\n",
              "       vf_WheelSizeRear vf_Wheels vf_Windows  \n",
              "0                   NaN       NaN        NaN  \n",
              "1                   NaN       NaN        NaN  \n",
              "2                   NaN       NaN        NaN  \n",
              "3                  17.0       4.0        4.0  \n",
              "4                  17.0       4.0        NaN  \n",
              "...                 ...       ...        ...  \n",
              "999995              NaN       NaN        NaN  \n",
              "999996             18.0       4.0        NaN  \n",
              "999997              NaN       NaN        4.0  \n",
              "999998              NaN       NaN        NaN  \n",
              "999999              NaN       4.0        NaN  \n",
              "\n",
              "[1000000 rows x 156 columns]"
            ]
          },
          "execution_count": 106,
          "metadata": {},
          "output_type": "execute_result"
        }
      ],
      "source": [
        "df_pd"
      ]
    },
    {
      "cell_type": "markdown",
      "metadata": {
        "id": "LPG0M0VosXAL"
      },
      "source": [
        "## 2. Data preparation and cleaning"
      ]
    },
    {
      "cell_type": "markdown",
      "metadata": {
        "id": "Tut7vtXVtZqS"
      },
      "source": [
        "### 2.1 data type optimization"
      ]
    },
    {
      "cell_type": "code",
      "execution_count": null,
      "metadata": {
        "colab": {
          "base_uri": "https://localhost:8080/"
        },
        "id": "aXIs6uFJsWpL",
        "outputId": "ad2e7813-3140-402f-bbe1-374c9d24b4a4"
      },
      "outputs": [
        {
          "data": {
            "text/plain": [
              "vin                   object\n",
              "stockNum              object\n",
              "firstSeen             object\n",
              "lastSeen              object\n",
              "msrp                   int64\n",
              "                      ...   \n",
              "vf_WheelBaseType      object\n",
              "vf_WheelSizeFront    float64\n",
              "vf_WheelSizeRear     float64\n",
              "vf_Wheels            float64\n",
              "vf_Windows           float64\n",
              "Length: 156, dtype: object"
            ]
          },
          "execution_count": 107,
          "metadata": {},
          "output_type": "execute_result"
        }
      ],
      "source": [
        "df_pd.dtypes"
      ]
    },
    {
      "cell_type": "code",
      "execution_count": null,
      "metadata": {
        "colab": {
          "base_uri": "https://localhost:8080/"
        },
        "id": "Eo8kGzlZtXjC",
        "outputId": "c2a8d3bf-de87-498b-d983-328743154d3d"
      },
      "outputs": [
        {
          "name": "stdout",
          "output_type": "stream",
          "text": [
            "CPU times: user 4 µs, sys: 0 ns, total: 4 µs\n",
            "Wall time: 8.11 µs\n"
          ]
        }
      ],
      "source": [
        "%%time\n",
        "for column in df_pd:\n",
        "  if df_pd[column].dtype == 'float64':\n",
        "    df_pd[column]=pd.to_numeric(df_pd[column], downcast='float')\n",
        "  if df_pd[column].dtype == 'int64':\n",
        "    df_pd[column]=pd.to_numeric(df_pd[column], downcast='integer')\n",
        "\n",
        "df_pd['firstSeen'] = pd.to_datetime(df_pd['firstSeen'])\n",
        "df_pd['lastSeen'] = pd.to_datetime(df_pd['lastSeen'])"
      ]
    },
    {
      "cell_type": "code",
      "execution_count": null,
      "metadata": {
        "colab": {
          "base_uri": "https://localhost:8080/"
        },
        "id": "y59meyID9JMU",
        "outputId": "425947b0-9f06-4f1b-b771-73de6075930e"
      },
      "outputs": [
        {
          "data": {
            "text/plain": [
              "vin                          object\n",
              "stockNum                     object\n",
              "firstSeen            datetime64[ns]\n",
              "lastSeen             datetime64[ns]\n",
              "msrp                          int32\n",
              "                          ...      \n",
              "vf_WheelBaseType             object\n",
              "vf_WheelSizeFront           float32\n",
              "vf_WheelSizeRear            float32\n",
              "vf_Wheels                   float32\n",
              "vf_Windows                  float32\n",
              "Length: 156, dtype: object"
            ]
          },
          "execution_count": 109,
          "metadata": {},
          "output_type": "execute_result"
        }
      ],
      "source": [
        "df_pd.dtypes"
      ]
    },
    {
      "cell_type": "markdown",
      "metadata": {
        "id": "Qo75Oisuucev"
      },
      "source": [
        "### 2.2 handle missing value"
      ]
    },
    {
      "cell_type": "code",
      "execution_count": null,
      "metadata": {
        "colab": {
          "base_uri": "https://localhost:8080/"
        },
        "id": "VXd0A4u-yHqq",
        "outputId": "cf17732f-5635-42de-df08-a494ef20b7b0"
      },
      "outputs": [
        {
          "name": "stdout",
          "output_type": "stream",
          "text": [
            "Column vin has 0 missing values\n",
            "\n",
            "Column stockNum has 0 missing values\n",
            "\n",
            "Column firstSeen has 0 missing values\n",
            "\n",
            "Column lastSeen has 0 missing values\n",
            "\n",
            "Column msrp has 0 missing values\n",
            "\n",
            "Column askPrice has 0 missing values\n",
            "\n",
            "Column mileage has 0 missing values\n",
            "\n",
            "Column isNew has 0 missing values\n",
            "\n",
            "Column brandName has 86 missing values\n",
            "\n",
            "Column modelName has 419 missing values\n",
            "\n",
            "Column dealerID has 0 missing values\n",
            "\n",
            "Column vf_CustomMotorcycleType has 491 missing values\n",
            "\n",
            "Column vf_Make has 86 missing values\n",
            "\n",
            "Column vf_MakeID has 86 missing values\n",
            "\n",
            "Column vf_Manufacturer has 86 missing values\n",
            "\n",
            "Column vf_ManufacturerId has 86 missing values\n",
            "\n",
            "Column vf_Model has 419 missing values\n",
            "\n",
            "Column vf_ModelID has 419 missing values\n",
            "\n",
            "Column vf_ModelYear has 92 missing values\n",
            "\n",
            "Column vf_MotorcycleChassisType has 495 missing values\n",
            "\n",
            "Column vf_MotorcycleSuspensionType has 495 missing values\n",
            "\n",
            "Column vf_TrailerBodyType has 89 missing values\n",
            "\n",
            "Column vf_TrailerType has 93 missing values\n",
            "\n",
            "Column vf_VIN has 0 missing values\n",
            "\n",
            "Column vf_VehicleType has 86 missing values\n",
            "\n",
            "Column avg_num_of_day_to_sell has 0 missing values\n",
            "\n",
            "Column sales_month has 0 missing values\n",
            "\n",
            "Column sales_year has 0 missing values\n",
            "\n",
            "Column priceDiff has 0 missing values\n",
            "\n",
            "Column Combined has 0 missing values\n",
            "\n"
          ]
        }
      ],
      "source": [
        "for column in df_pd.columns:\n",
        "  if df_pd[column].isnull().sum() <= 1000:\n",
        "    print(\"Column\", column, \"has\", df_pd[column].isnull().sum(), \"missing values\")\n",
        "    print()"
      ]
    },
    {
      "cell_type": "markdown",
      "metadata": {
        "id": "ihnGcWKF39MX"
      },
      "source": [
        "### 2.2.1 dropping rows with significant NaN"
      ]
    },
    {
      "cell_type": "code",
      "execution_count": null,
      "metadata": {
        "colab": {
          "base_uri": "https://localhost:8080/"
        },
        "id": "P9tT64n0KMcE",
        "outputId": "9946061d-3366-43a9-83ee-3d72eef3028f"
      },
      "outputs": [
        {
          "data": {
            "text/plain": [
              "(1000000, 156)"
            ]
          },
          "execution_count": 110,
          "metadata": {},
          "output_type": "execute_result"
        }
      ],
      "source": [
        "df_pd.shape"
      ]
    },
    {
      "cell_type": "code",
      "execution_count": null,
      "metadata": {
        "colab": {
          "base_uri": "https://localhost:8080/"
        },
        "id": "jPD9Ucy_KT2V",
        "outputId": "884e1b57-d3e0-4c36-dc43-912efcd2c08a"
      },
      "outputs": [
        {
          "name": "stdout",
          "output_type": "stream",
          "text": [
            "CPU times: user 3 µs, sys: 0 ns, total: 3 µs\n",
            "Wall time: 8.34 µs\n"
          ]
        }
      ],
      "source": [
        "%time\n",
        "df_pd = df_pd.dropna(subset=['stockNum'])"
      ]
    },
    {
      "cell_type": "code",
      "execution_count": null,
      "metadata": {
        "colab": {
          "base_uri": "https://localhost:8080/"
        },
        "id": "Y_dJsuLQKdi0",
        "outputId": "757d6169-2a51-433e-b9b9-5cca390fa57f"
      },
      "outputs": [
        {
          "data": {
            "text/plain": [
              "(646534, 156)"
            ]
          },
          "execution_count": 112,
          "metadata": {},
          "output_type": "execute_result"
        }
      ],
      "source": [
        "df_pd.shape"
      ]
    },
    {
      "cell_type": "markdown",
      "metadata": {
        "id": "l-b_7B7K4SZ-"
      },
      "source": [
        "#### 2.2.2 missing value replacement"
      ]
    },
    {
      "cell_type": "code",
      "execution_count": null,
      "metadata": {
        "colab": {
          "base_uri": "https://localhost:8080/"
        },
        "id": "okMJxIlR1xLZ",
        "outputId": "ddb1b889-f64f-4e69-fb2e-b9e2897664cc"
      },
      "outputs": [
        {
          "data": {
            "text/plain": [
              "vin                       0\n",
              "stockNum                  0\n",
              "firstSeen                 0\n",
              "lastSeen                  0\n",
              "msrp                      0\n",
              "                         ..\n",
              "avg_num_of_day_to_sell    0\n",
              "sales_month               0\n",
              "sales_year                0\n",
              "priceDiff                 0\n",
              "Combined                  0\n",
              "Length: 161, dtype: int64"
            ]
          },
          "execution_count": 103,
          "metadata": {},
          "output_type": "execute_result"
        }
      ],
      "source": [
        "df_pd.isnull().sum()"
      ]
    },
    {
      "cell_type": "code",
      "execution_count": null,
      "metadata": {
        "colab": {
          "base_uri": "https://localhost:8080/"
        },
        "id": "9k-HWUPs3Phs",
        "outputId": "a1947ce9-fa45-4c10-b3a9-44b3bcd0590f"
      },
      "outputs": [
        {
          "name": "stdout",
          "output_type": "stream",
          "text": [
            "CPU times: user 4 µs, sys: 1 µs, total: 5 µs\n",
            "Wall time: 9.06 µs\n"
          ]
        },
        {
          "name": "stderr",
          "output_type": "stream",
          "text": [
            "<ipython-input-113-b68b1f83796d>:2: SettingWithCopyWarning:\n",
            "\n",
            "\n",
            "A value is trying to be set on a copy of a slice from a DataFrame\n",
            "\n",
            "See the caveats in the documentation: https://pandas.pydata.org/pandas-docs/stable/user_guide/indexing.html#returning-a-view-versus-a-copy\n",
            "\n",
            "<ipython-input-113-b68b1f83796d>:3: SettingWithCopyWarning:\n",
            "\n",
            "\n",
            "A value is trying to be set on a copy of a slice from a DataFrame\n",
            "\n",
            "See the caveats in the documentation: https://pandas.pydata.org/pandas-docs/stable/user_guide/indexing.html#returning-a-view-versus-a-copy\n",
            "\n"
          ]
        }
      ],
      "source": [
        "%%time\n",
        "df_pd['color'].fillna('N/A',inplace=True)\n",
        "df_pd.fillna('not available', inplace = True)"
      ]
    },
    {
      "cell_type": "code",
      "execution_count": null,
      "metadata": {
        "colab": {
          "base_uri": "https://localhost:8080/"
        },
        "id": "WrclzAnIyR3p",
        "outputId": "bff67064-a8e4-40df-e903-da344ab590f4"
      },
      "outputs": [
        {
          "data": {
            "text/plain": [
              "vin                  0\n",
              "stockNum             0\n",
              "firstSeen            0\n",
              "lastSeen             0\n",
              "msrp                 0\n",
              "                    ..\n",
              "vf_WheelBaseType     0\n",
              "vf_WheelSizeFront    0\n",
              "vf_WheelSizeRear     0\n",
              "vf_Wheels            0\n",
              "vf_Windows           0\n",
              "Length: 156, dtype: int64"
            ]
          },
          "execution_count": 114,
          "metadata": {},
          "output_type": "execute_result"
        }
      ],
      "source": [
        "df_pd.isnull().sum()"
      ]
    },
    {
      "cell_type": "markdown",
      "metadata": {
        "id": "gFzRe4A-yJGd"
      },
      "source": [
        "### 2.3 identifying duplicate rows"
      ]
    },
    {
      "cell_type": "code",
      "execution_count": null,
      "metadata": {
        "colab": {
          "base_uri": "https://localhost:8080/"
        },
        "id": "v1cHVU19x7Zl",
        "outputId": "df4aac49-3dfe-4812-ca3d-8564bd9a9fb9"
      },
      "outputs": [
        {
          "name": "stdout",
          "output_type": "stream",
          "text": [
            "CPU times: user 4 µs, sys: 1 µs, total: 5 µs\n",
            "Wall time: 8.34 µs\n"
          ]
        },
        {
          "data": {
            "text/plain": [
              "0"
            ]
          },
          "execution_count": 115,
          "metadata": {},
          "output_type": "execute_result"
        }
      ],
      "source": [
        "%time\n",
        "df_pd.duplicated().sum()"
      ]
    },
    {
      "cell_type": "markdown",
      "metadata": {
        "id": "ZfimKbJl1LX4"
      },
      "source": [
        "### Drop duplicate Column"
      ]
    },
    {
      "cell_type": "code",
      "execution_count": null,
      "metadata": {
        "colab": {
          "base_uri": "https://localhost:8080/",
          "height": 756
        },
        "id": "pHtFE1Rb1LF7",
        "outputId": "6b50c5ce-255a-48bc-fffb-c5da7c081dab"
      },
      "outputs": [
        {
          "name": "stdout",
          "output_type": "stream",
          "text": [
            "CPU times: user 3 µs, sys: 1e+03 ns, total: 4 µs\n",
            "Wall time: 6.68 µs\n"
          ]
        },
        {
          "data": {
            "text/html": [
              "\n",
              "  <div id=\"df-1ef0016e-2eaa-46a1-8b09-5a187471f317\" class=\"colab-df-container\">\n",
              "    <div>\n",
              "<style scoped>\n",
              "    .dataframe tbody tr th:only-of-type {\n",
              "        vertical-align: middle;\n",
              "    }\n",
              "\n",
              "    .dataframe tbody tr th {\n",
              "        vertical-align: top;\n",
              "    }\n",
              "\n",
              "    .dataframe thead th {\n",
              "        text-align: right;\n",
              "    }\n",
              "</style>\n",
              "<table border=\"1\" class=\"dataframe\">\n",
              "  <thead>\n",
              "    <tr style=\"text-align: right;\">\n",
              "      <th></th>\n",
              "      <th>vin</th>\n",
              "      <th>stockNum</th>\n",
              "      <th>firstSeen</th>\n",
              "      <th>lastSeen</th>\n",
              "      <th>msrp</th>\n",
              "      <th>askPrice</th>\n",
              "      <th>mileage</th>\n",
              "      <th>isNew</th>\n",
              "      <th>color</th>\n",
              "      <th>interiorColor</th>\n",
              "      <th>...</th>\n",
              "      <th>vf_VIN</th>\n",
              "      <th>vf_ValveTrainDesign</th>\n",
              "      <th>vf_VehicleType</th>\n",
              "      <th>vf_WheelBaseLong</th>\n",
              "      <th>vf_WheelBaseShort</th>\n",
              "      <th>vf_WheelBaseType</th>\n",
              "      <th>vf_WheelSizeFront</th>\n",
              "      <th>vf_WheelSizeRear</th>\n",
              "      <th>vf_Wheels</th>\n",
              "      <th>vf_Windows</th>\n",
              "    </tr>\n",
              "  </thead>\n",
              "  <tbody>\n",
              "    <tr>\n",
              "      <th>0</th>\n",
              "      <td>abc5f0360059cf7b6fa8368db57f220ab0d87d582bf6ce...</td>\n",
              "      <td>11701A</td>\n",
              "      <td>2019-05-06</td>\n",
              "      <td>2019-05-06</td>\n",
              "      <td>1498</td>\n",
              "      <td>1498</td>\n",
              "      <td>0</td>\n",
              "      <td>False</td>\n",
              "      <td>Gray</td>\n",
              "      <td>not available</td>\n",
              "      <td>...</td>\n",
              "      <td>abc5f0360059cf7b6fa8368db57f220ab0d87d582bf6ce...</td>\n",
              "      <td>not available</td>\n",
              "      <td>PASSENGER CAR</td>\n",
              "      <td>not available</td>\n",
              "      <td>not available</td>\n",
              "      <td>not available</td>\n",
              "      <td>not available</td>\n",
              "      <td>not available</td>\n",
              "      <td>not available</td>\n",
              "      <td>not available</td>\n",
              "    </tr>\n",
              "    <tr>\n",
              "      <th>1</th>\n",
              "      <td>e24402cc77f6fd2d6a9dd626ad92795b717814340f1ab1...</td>\n",
              "      <td>9055B</td>\n",
              "      <td>2019-05-06</td>\n",
              "      <td>2019-05-06</td>\n",
              "      <td>10589</td>\n",
              "      <td>10589</td>\n",
              "      <td>0</td>\n",
              "      <td>False</td>\n",
              "      <td>Super Black</td>\n",
              "      <td>not available</td>\n",
              "      <td>...</td>\n",
              "      <td>e24402cc77f6fd2d6a9dd626ad92795b717814340f1ab1...</td>\n",
              "      <td>not available</td>\n",
              "      <td>PASSENGER CAR</td>\n",
              "      <td>not available</td>\n",
              "      <td>not available</td>\n",
              "      <td>not available</td>\n",
              "      <td>not available</td>\n",
              "      <td>not available</td>\n",
              "      <td>not available</td>\n",
              "      <td>not available</td>\n",
              "    </tr>\n",
              "    <tr>\n",
              "      <th>2</th>\n",
              "      <td>1c5a8dc966b3d3b379e10477d9ff8a8aa13edf43acc7f7...</td>\n",
              "      <td>11816A</td>\n",
              "      <td>2017-06-03</td>\n",
              "      <td>2019-05-07</td>\n",
              "      <td>11992</td>\n",
              "      <td>9940</td>\n",
              "      <td>0</td>\n",
              "      <td>False</td>\n",
              "      <td>White</td>\n",
              "      <td>not available</td>\n",
              "      <td>...</td>\n",
              "      <td>1c5a8dc966b3d3b379e10477d9ff8a8aa13edf43acc7f7...</td>\n",
              "      <td>not available</td>\n",
              "      <td>MULTIPURPOSE PASSENGER VEHICLE (MPV)</td>\n",
              "      <td>not available</td>\n",
              "      <td>not available</td>\n",
              "      <td>not available</td>\n",
              "      <td>not available</td>\n",
              "      <td>not available</td>\n",
              "      <td>not available</td>\n",
              "      <td>not available</td>\n",
              "    </tr>\n",
              "    <tr>\n",
              "      <th>3</th>\n",
              "      <td>edce23814c88f5a1d1af700c27ad7f4c9d705aa9873317...</td>\n",
              "      <td>11847</td>\n",
              "      <td>2019-05-06</td>\n",
              "      <td>2019-05-07</td>\n",
              "      <td>12387</td>\n",
              "      <td>12387</td>\n",
              "      <td>0</td>\n",
              "      <td>False</td>\n",
              "      <td>Silver Ice Metallic</td>\n",
              "      <td>not available</td>\n",
              "      <td>...</td>\n",
              "      <td>edce23814c88f5a1d1af700c27ad7f4c9d705aa9873317...</td>\n",
              "      <td>Dual Overhead Cam (DOHC)</td>\n",
              "      <td>PASSENGER CAR</td>\n",
              "      <td>not available</td>\n",
              "      <td>106.300003</td>\n",
              "      <td>not available</td>\n",
              "      <td>17.0</td>\n",
              "      <td>17.0</td>\n",
              "      <td>4.0</td>\n",
              "      <td>4.0</td>\n",
              "    </tr>\n",
              "    <tr>\n",
              "      <th>4</th>\n",
              "      <td>6b4f8c610d14d864f024adb26cd4f0eddcff3fa18c16e3...</td>\n",
              "      <td>9097</td>\n",
              "      <td>2019-05-06</td>\n",
              "      <td>2019-05-07</td>\n",
              "      <td>41659</td>\n",
              "      <td>41659</td>\n",
              "      <td>0</td>\n",
              "      <td>True</td>\n",
              "      <td>Black Metallic</td>\n",
              "      <td>not available</td>\n",
              "      <td>...</td>\n",
              "      <td>6b4f8c610d14d864f024adb26cd4f0eddcff3fa18c16e3...</td>\n",
              "      <td>not available</td>\n",
              "      <td>TRUCK</td>\n",
              "      <td>156.800003</td>\n",
              "      <td>145.0</td>\n",
              "      <td>not available</td>\n",
              "      <td>17.0</td>\n",
              "      <td>17.0</td>\n",
              "      <td>4.0</td>\n",
              "      <td>not available</td>\n",
              "    </tr>\n",
              "    <tr>\n",
              "      <th>...</th>\n",
              "      <td>...</td>\n",
              "      <td>...</td>\n",
              "      <td>...</td>\n",
              "      <td>...</td>\n",
              "      <td>...</td>\n",
              "      <td>...</td>\n",
              "      <td>...</td>\n",
              "      <td>...</td>\n",
              "      <td>...</td>\n",
              "      <td>...</td>\n",
              "      <td>...</td>\n",
              "      <td>...</td>\n",
              "      <td>...</td>\n",
              "      <td>...</td>\n",
              "      <td>...</td>\n",
              "      <td>...</td>\n",
              "      <td>...</td>\n",
              "      <td>...</td>\n",
              "      <td>...</td>\n",
              "      <td>...</td>\n",
              "      <td>...</td>\n",
              "    </tr>\n",
              "    <tr>\n",
              "      <th>998496</th>\n",
              "      <td>35b73620699c96d16fe6595b5a72f421f70a8bd4e670c2...</td>\n",
              "      <td>A3153</td>\n",
              "      <td>2019-03-23</td>\n",
              "      <td>2019-04-13</td>\n",
              "      <td>16000</td>\n",
              "      <td>14452</td>\n",
              "      <td>0</td>\n",
              "      <td>False</td>\n",
              "      <td>White Orchid Pearl</td>\n",
              "      <td>not available</td>\n",
              "      <td>...</td>\n",
              "      <td>35b73620699c96d16fe6595b5a72f421f70a8bd4e670c2...</td>\n",
              "      <td>Dual Overhead Cam (DOHC)</td>\n",
              "      <td>PASSENGER CAR</td>\n",
              "      <td>not available</td>\n",
              "      <td>99.599998</td>\n",
              "      <td>not available</td>\n",
              "      <td>16.0</td>\n",
              "      <td>16.0</td>\n",
              "      <td>4.0</td>\n",
              "      <td>not available</td>\n",
              "    </tr>\n",
              "    <tr>\n",
              "      <th>998497</th>\n",
              "      <td>1b30fb4d7eb97999d479d9f65d054aaab35a6aa52635b1...</td>\n",
              "      <td>A3109</td>\n",
              "      <td>2019-03-15</td>\n",
              "      <td>2019-04-13</td>\n",
              "      <td>24000</td>\n",
              "      <td>22289</td>\n",
              "      <td>0</td>\n",
              "      <td>False</td>\n",
              "      <td>Blue Velvet Metallic</td>\n",
              "      <td>Ebony/saddle</td>\n",
              "      <td>...</td>\n",
              "      <td>1b30fb4d7eb97999d479d9f65d054aaab35a6aa52635b1...</td>\n",
              "      <td>not available</td>\n",
              "      <td>MULTIPURPOSE PASSENGER VEHICLE (MPV)</td>\n",
              "      <td>not available</td>\n",
              "      <td>not available</td>\n",
              "      <td>not available</td>\n",
              "      <td>not available</td>\n",
              "      <td>not available</td>\n",
              "      <td>not available</td>\n",
              "      <td>not available</td>\n",
              "    </tr>\n",
              "    <tr>\n",
              "      <th>998498</th>\n",
              "      <td>be4ab74083ca5f17cdec09874ab03b7facafa3e484727e...</td>\n",
              "      <td>P0367T</td>\n",
              "      <td>2019-03-13</td>\n",
              "      <td>2019-04-13</td>\n",
              "      <td>9801</td>\n",
              "      <td>9543</td>\n",
              "      <td>0</td>\n",
              "      <td>False</td>\n",
              "      <td>Green</td>\n",
              "      <td>not available</td>\n",
              "      <td>...</td>\n",
              "      <td>be4ab74083ca5f17cdec09874ab03b7facafa3e484727e...</td>\n",
              "      <td>Dual Overhead Cam (DOHC)</td>\n",
              "      <td>MULTIPURPOSE PASSENGER VEHICLE (MPV)</td>\n",
              "      <td>not available</td>\n",
              "      <td>not available</td>\n",
              "      <td>not available</td>\n",
              "      <td>not available</td>\n",
              "      <td>not available</td>\n",
              "      <td>not available</td>\n",
              "      <td>not available</td>\n",
              "    </tr>\n",
              "    <tr>\n",
              "      <th>998499</th>\n",
              "      <td>cd395832d56749c2b12e39e9a5d206960f9732607690ec...</td>\n",
              "      <td>G0901</td>\n",
              "      <td>2019-03-07</td>\n",
              "      <td>2019-04-13</td>\n",
              "      <td>31055</td>\n",
              "      <td>21855</td>\n",
              "      <td>0</td>\n",
              "      <td>True</td>\n",
              "      <td>Sedona Metallic</td>\n",
              "      <td>Jet Black</td>\n",
              "      <td>...</td>\n",
              "      <td>cd395832d56749c2b12e39e9a5d206960f9732607690ec...</td>\n",
              "      <td>Dual Overhead Cam (DOHC)</td>\n",
              "      <td>MULTIPURPOSE PASSENGER VEHICLE (MPV)</td>\n",
              "      <td>not available</td>\n",
              "      <td>not available</td>\n",
              "      <td>not available</td>\n",
              "      <td>not available</td>\n",
              "      <td>not available</td>\n",
              "      <td>not available</td>\n",
              "      <td>not available</td>\n",
              "    </tr>\n",
              "    <tr>\n",
              "      <th>998500</th>\n",
              "      <td>f38b92165b130e9d272bed8a43719e687a5b8dd95fc7c6...</td>\n",
              "      <td>G0742T</td>\n",
              "      <td>2019-02-24</td>\n",
              "      <td>2019-04-13</td>\n",
              "      <td>23594</td>\n",
              "      <td>21000</td>\n",
              "      <td>0</td>\n",
              "      <td>False</td>\n",
              "      <td>Black</td>\n",
              "      <td>Black</td>\n",
              "      <td>...</td>\n",
              "      <td>f38b92165b130e9d272bed8a43719e687a5b8dd95fc7c6...</td>\n",
              "      <td>not available</td>\n",
              "      <td>PASSENGER CAR</td>\n",
              "      <td>not available</td>\n",
              "      <td>not available</td>\n",
              "      <td>not available</td>\n",
              "      <td>not available</td>\n",
              "      <td>not available</td>\n",
              "      <td>not available</td>\n",
              "      <td>not available</td>\n",
              "    </tr>\n",
              "  </tbody>\n",
              "</table>\n",
              "<p>646534 rows × 155 columns</p>\n",
              "</div>\n",
              "    <div class=\"colab-df-buttons\">\n",
              "\n",
              "  <div class=\"colab-df-container\">\n",
              "    <button class=\"colab-df-convert\" onclick=\"convertToInteractive('df-1ef0016e-2eaa-46a1-8b09-5a187471f317')\"\n",
              "            title=\"Convert this dataframe to an interactive table.\"\n",
              "            style=\"display:none;\">\n",
              "\n",
              "  <svg xmlns=\"http://www.w3.org/2000/svg\" height=\"24px\" viewBox=\"0 -960 960 960\">\n",
              "    <path d=\"M120-120v-720h720v720H120Zm60-500h600v-160H180v160Zm220 220h160v-160H400v160Zm0 220h160v-160H400v160ZM180-400h160v-160H180v160Zm440 0h160v-160H620v160ZM180-180h160v-160H180v160Zm440 0h160v-160H620v160Z\"/>\n",
              "  </svg>\n",
              "    </button>\n",
              "\n",
              "  <style>\n",
              "    .colab-df-container {\n",
              "      display:flex;\n",
              "      gap: 12px;\n",
              "    }\n",
              "\n",
              "    .colab-df-convert {\n",
              "      background-color: #E8F0FE;\n",
              "      border: none;\n",
              "      border-radius: 50%;\n",
              "      cursor: pointer;\n",
              "      display: none;\n",
              "      fill: #1967D2;\n",
              "      height: 32px;\n",
              "      padding: 0 0 0 0;\n",
              "      width: 32px;\n",
              "    }\n",
              "\n",
              "    .colab-df-convert:hover {\n",
              "      background-color: #E2EBFA;\n",
              "      box-shadow: 0px 1px 2px rgba(60, 64, 67, 0.3), 0px 1px 3px 1px rgba(60, 64, 67, 0.15);\n",
              "      fill: #174EA6;\n",
              "    }\n",
              "\n",
              "    .colab-df-buttons div {\n",
              "      margin-bottom: 4px;\n",
              "    }\n",
              "\n",
              "    [theme=dark] .colab-df-convert {\n",
              "      background-color: #3B4455;\n",
              "      fill: #D2E3FC;\n",
              "    }\n",
              "\n",
              "    [theme=dark] .colab-df-convert:hover {\n",
              "      background-color: #434B5C;\n",
              "      box-shadow: 0px 1px 3px 1px rgba(0, 0, 0, 0.15);\n",
              "      filter: drop-shadow(0px 1px 2px rgba(0, 0, 0, 0.3));\n",
              "      fill: #FFFFFF;\n",
              "    }\n",
              "  </style>\n",
              "\n",
              "    <script>\n",
              "      const buttonEl =\n",
              "        document.querySelector('#df-1ef0016e-2eaa-46a1-8b09-5a187471f317 button.colab-df-convert');\n",
              "      buttonEl.style.display =\n",
              "        google.colab.kernel.accessAllowed ? 'block' : 'none';\n",
              "\n",
              "      async function convertToInteractive(key) {\n",
              "        const element = document.querySelector('#df-1ef0016e-2eaa-46a1-8b09-5a187471f317');\n",
              "        const dataTable =\n",
              "          await google.colab.kernel.invokeFunction('convertToInteractive',\n",
              "                                                    [key], {});\n",
              "        if (!dataTable) return;\n",
              "\n",
              "        const docLinkHtml = 'Like what you see? Visit the ' +\n",
              "          '<a target=\"_blank\" href=https://colab.research.google.com/notebooks/data_table.ipynb>data table notebook</a>'\n",
              "          + ' to learn more about interactive tables.';\n",
              "        element.innerHTML = '';\n",
              "        dataTable['output_type'] = 'display_data';\n",
              "        await google.colab.output.renderOutput(dataTable, element);\n",
              "        const docLink = document.createElement('div');\n",
              "        docLink.innerHTML = docLinkHtml;\n",
              "        element.appendChild(docLink);\n",
              "      }\n",
              "    </script>\n",
              "  </div>\n",
              "\n",
              "\n",
              "<div id=\"df-b79cd049-392e-4992-9e12-ad14f032ecf5\">\n",
              "  <button class=\"colab-df-quickchart\" onclick=\"quickchart('df-b79cd049-392e-4992-9e12-ad14f032ecf5')\"\n",
              "            title=\"Suggest charts\"\n",
              "            style=\"display:none;\">\n",
              "\n",
              "<svg xmlns=\"http://www.w3.org/2000/svg\" height=\"24px\"viewBox=\"0 0 24 24\"\n",
              "     width=\"24px\">\n",
              "    <g>\n",
              "        <path d=\"M19 3H5c-1.1 0-2 .9-2 2v14c0 1.1.9 2 2 2h14c1.1 0 2-.9 2-2V5c0-1.1-.9-2-2-2zM9 17H7v-7h2v7zm4 0h-2V7h2v10zm4 0h-2v-4h2v4z\"/>\n",
              "    </g>\n",
              "</svg>\n",
              "  </button>\n",
              "\n",
              "<style>\n",
              "  .colab-df-quickchart {\n",
              "      --bg-color: #E8F0FE;\n",
              "      --fill-color: #1967D2;\n",
              "      --hover-bg-color: #E2EBFA;\n",
              "      --hover-fill-color: #174EA6;\n",
              "      --disabled-fill-color: #AAA;\n",
              "      --disabled-bg-color: #DDD;\n",
              "  }\n",
              "\n",
              "  [theme=dark] .colab-df-quickchart {\n",
              "      --bg-color: #3B4455;\n",
              "      --fill-color: #D2E3FC;\n",
              "      --hover-bg-color: #434B5C;\n",
              "      --hover-fill-color: #FFFFFF;\n",
              "      --disabled-bg-color: #3B4455;\n",
              "      --disabled-fill-color: #666;\n",
              "  }\n",
              "\n",
              "  .colab-df-quickchart {\n",
              "    background-color: var(--bg-color);\n",
              "    border: none;\n",
              "    border-radius: 50%;\n",
              "    cursor: pointer;\n",
              "    display: none;\n",
              "    fill: var(--fill-color);\n",
              "    height: 32px;\n",
              "    padding: 0;\n",
              "    width: 32px;\n",
              "  }\n",
              "\n",
              "  .colab-df-quickchart:hover {\n",
              "    background-color: var(--hover-bg-color);\n",
              "    box-shadow: 0 1px 2px rgba(60, 64, 67, 0.3), 0 1px 3px 1px rgba(60, 64, 67, 0.15);\n",
              "    fill: var(--button-hover-fill-color);\n",
              "  }\n",
              "\n",
              "  .colab-df-quickchart-complete:disabled,\n",
              "  .colab-df-quickchart-complete:disabled:hover {\n",
              "    background-color: var(--disabled-bg-color);\n",
              "    fill: var(--disabled-fill-color);\n",
              "    box-shadow: none;\n",
              "  }\n",
              "\n",
              "  .colab-df-spinner {\n",
              "    border: 2px solid var(--fill-color);\n",
              "    border-color: transparent;\n",
              "    border-bottom-color: var(--fill-color);\n",
              "    animation:\n",
              "      spin 1s steps(1) infinite;\n",
              "  }\n",
              "\n",
              "  @keyframes spin {\n",
              "    0% {\n",
              "      border-color: transparent;\n",
              "      border-bottom-color: var(--fill-color);\n",
              "      border-left-color: var(--fill-color);\n",
              "    }\n",
              "    20% {\n",
              "      border-color: transparent;\n",
              "      border-left-color: var(--fill-color);\n",
              "      border-top-color: var(--fill-color);\n",
              "    }\n",
              "    30% {\n",
              "      border-color: transparent;\n",
              "      border-left-color: var(--fill-color);\n",
              "      border-top-color: var(--fill-color);\n",
              "      border-right-color: var(--fill-color);\n",
              "    }\n",
              "    40% {\n",
              "      border-color: transparent;\n",
              "      border-right-color: var(--fill-color);\n",
              "      border-top-color: var(--fill-color);\n",
              "    }\n",
              "    60% {\n",
              "      border-color: transparent;\n",
              "      border-right-color: var(--fill-color);\n",
              "    }\n",
              "    80% {\n",
              "      border-color: transparent;\n",
              "      border-right-color: var(--fill-color);\n",
              "      border-bottom-color: var(--fill-color);\n",
              "    }\n",
              "    90% {\n",
              "      border-color: transparent;\n",
              "      border-bottom-color: var(--fill-color);\n",
              "    }\n",
              "  }\n",
              "</style>\n",
              "\n",
              "  <script>\n",
              "    async function quickchart(key) {\n",
              "      const quickchartButtonEl =\n",
              "        document.querySelector('#' + key + ' button');\n",
              "      quickchartButtonEl.disabled = true;  // To prevent multiple clicks.\n",
              "      quickchartButtonEl.classList.add('colab-df-spinner');\n",
              "      try {\n",
              "        const charts = await google.colab.kernel.invokeFunction(\n",
              "            'suggestCharts', [key], {});\n",
              "      } catch (error) {\n",
              "        console.error('Error during call to suggestCharts:', error);\n",
              "      }\n",
              "      quickchartButtonEl.classList.remove('colab-df-spinner');\n",
              "      quickchartButtonEl.classList.add('colab-df-quickchart-complete');\n",
              "    }\n",
              "    (() => {\n",
              "      let quickchartButtonEl =\n",
              "        document.querySelector('#df-b79cd049-392e-4992-9e12-ad14f032ecf5 button');\n",
              "      quickchartButtonEl.style.display =\n",
              "        google.colab.kernel.accessAllowed ? 'block' : 'none';\n",
              "    })();\n",
              "  </script>\n",
              "</div>\n",
              "    </div>\n",
              "  </div>\n"
            ],
            "text/plain": [
              "                                                      vin stockNum  firstSeen  \\\n",
              "0       abc5f0360059cf7b6fa8368db57f220ab0d87d582bf6ce...   11701A 2019-05-06   \n",
              "1       e24402cc77f6fd2d6a9dd626ad92795b717814340f1ab1...    9055B 2019-05-06   \n",
              "2       1c5a8dc966b3d3b379e10477d9ff8a8aa13edf43acc7f7...   11816A 2017-06-03   \n",
              "3       edce23814c88f5a1d1af700c27ad7f4c9d705aa9873317...    11847 2019-05-06   \n",
              "4       6b4f8c610d14d864f024adb26cd4f0eddcff3fa18c16e3...     9097 2019-05-06   \n",
              "...                                                   ...      ...        ...   \n",
              "998496  35b73620699c96d16fe6595b5a72f421f70a8bd4e670c2...    A3153 2019-03-23   \n",
              "998497  1b30fb4d7eb97999d479d9f65d054aaab35a6aa52635b1...    A3109 2019-03-15   \n",
              "998498  be4ab74083ca5f17cdec09874ab03b7facafa3e484727e...   P0367T 2019-03-13   \n",
              "998499  cd395832d56749c2b12e39e9a5d206960f9732607690ec...    G0901 2019-03-07   \n",
              "998500  f38b92165b130e9d272bed8a43719e687a5b8dd95fc7c6...   G0742T 2019-02-24   \n",
              "\n",
              "         lastSeen   msrp  askPrice  mileage  isNew                 color  \\\n",
              "0      2019-05-06   1498      1498        0  False                  Gray   \n",
              "1      2019-05-06  10589     10589        0  False           Super Black   \n",
              "2      2019-05-07  11992      9940        0  False                 White   \n",
              "3      2019-05-07  12387     12387        0  False   Silver Ice Metallic   \n",
              "4      2019-05-07  41659     41659        0   True        Black Metallic   \n",
              "...           ...    ...       ...      ...    ...                   ...   \n",
              "998496 2019-04-13  16000     14452        0  False    White Orchid Pearl   \n",
              "998497 2019-04-13  24000     22289        0  False  Blue Velvet Metallic   \n",
              "998498 2019-04-13   9801      9543        0  False                 Green   \n",
              "998499 2019-04-13  31055     21855        0   True       Sedona Metallic   \n",
              "998500 2019-04-13  23594     21000        0  False                 Black   \n",
              "\n",
              "        interiorColor  ...                                             vf_VIN  \\\n",
              "0       not available  ...  abc5f0360059cf7b6fa8368db57f220ab0d87d582bf6ce...   \n",
              "1       not available  ...  e24402cc77f6fd2d6a9dd626ad92795b717814340f1ab1...   \n",
              "2       not available  ...  1c5a8dc966b3d3b379e10477d9ff8a8aa13edf43acc7f7...   \n",
              "3       not available  ...  edce23814c88f5a1d1af700c27ad7f4c9d705aa9873317...   \n",
              "4       not available  ...  6b4f8c610d14d864f024adb26cd4f0eddcff3fa18c16e3...   \n",
              "...               ...  ...                                                ...   \n",
              "998496  not available  ...  35b73620699c96d16fe6595b5a72f421f70a8bd4e670c2...   \n",
              "998497   Ebony/saddle  ...  1b30fb4d7eb97999d479d9f65d054aaab35a6aa52635b1...   \n",
              "998498  not available  ...  be4ab74083ca5f17cdec09874ab03b7facafa3e484727e...   \n",
              "998499      Jet Black  ...  cd395832d56749c2b12e39e9a5d206960f9732607690ec...   \n",
              "998500          Black  ...  f38b92165b130e9d272bed8a43719e687a5b8dd95fc7c6...   \n",
              "\n",
              "             vf_ValveTrainDesign                        vf_VehicleType  \\\n",
              "0                  not available                         PASSENGER CAR   \n",
              "1                  not available                         PASSENGER CAR   \n",
              "2                  not available  MULTIPURPOSE PASSENGER VEHICLE (MPV)   \n",
              "3       Dual Overhead Cam (DOHC)                         PASSENGER CAR   \n",
              "4                  not available                                TRUCK    \n",
              "...                          ...                                   ...   \n",
              "998496  Dual Overhead Cam (DOHC)                         PASSENGER CAR   \n",
              "998497             not available  MULTIPURPOSE PASSENGER VEHICLE (MPV)   \n",
              "998498  Dual Overhead Cam (DOHC)  MULTIPURPOSE PASSENGER VEHICLE (MPV)   \n",
              "998499  Dual Overhead Cam (DOHC)  MULTIPURPOSE PASSENGER VEHICLE (MPV)   \n",
              "998500             not available                         PASSENGER CAR   \n",
              "\n",
              "       vf_WheelBaseLong vf_WheelBaseShort vf_WheelBaseType vf_WheelSizeFront  \\\n",
              "0         not available     not available    not available     not available   \n",
              "1         not available     not available    not available     not available   \n",
              "2         not available     not available    not available     not available   \n",
              "3         not available        106.300003    not available              17.0   \n",
              "4            156.800003             145.0    not available              17.0   \n",
              "...                 ...               ...              ...               ...   \n",
              "998496    not available         99.599998    not available              16.0   \n",
              "998497    not available     not available    not available     not available   \n",
              "998498    not available     not available    not available     not available   \n",
              "998499    not available     not available    not available     not available   \n",
              "998500    not available     not available    not available     not available   \n",
              "\n",
              "       vf_WheelSizeRear      vf_Wheels     vf_Windows  \n",
              "0         not available  not available  not available  \n",
              "1         not available  not available  not available  \n",
              "2         not available  not available  not available  \n",
              "3                  17.0            4.0            4.0  \n",
              "4                  17.0            4.0  not available  \n",
              "...                 ...            ...            ...  \n",
              "998496             16.0            4.0  not available  \n",
              "998497    not available  not available  not available  \n",
              "998498    not available  not available  not available  \n",
              "998499    not available  not available  not available  \n",
              "998500    not available  not available  not available  \n",
              "\n",
              "[646534 rows x 155 columns]"
            ]
          },
          "execution_count": 116,
          "metadata": {},
          "output_type": "execute_result"
        }
      ],
      "source": [
        "%time\n",
        "df_pd.drop(['vf_Model'],axis = 1 )"
      ]
    },
    {
      "cell_type": "markdown",
      "metadata": {
        "id": "fzQEs4AUzYJM"
      },
      "source": [
        "## 3. Exploratory Data Analysis and Visualization"
      ]
    },
    {
      "cell_type": "code",
      "execution_count": null,
      "metadata": {
        "id": "bAhbFKHwH9lE"
      },
      "outputs": [],
      "source": [
        "import seaborn as sns\n",
        "import matplotlib\n",
        "import matplotlib.pyplot as plt\n",
        "import numpy as np\n",
        "import plotly.express as px\n",
        "%matplotlib inline"
      ]
    },
    {
      "cell_type": "markdown",
      "metadata": {
        "id": "LTX6ANuLLNDF"
      },
      "source": [
        "### 3.1 statistic of numeric *column*"
      ]
    },
    {
      "cell_type": "code",
      "execution_count": null,
      "metadata": {
        "colab": {
          "base_uri": "https://localhost:8080/",
          "height": 300
        },
        "id": "P80r3mM3zROU",
        "outputId": "28de430d-00d6-42b0-86d4-5fea54dc5899"
      },
      "outputs": [
        {
          "data": {
            "text/html": [
              "\n",
              "  <div id=\"df-d723b224-f8fc-4d12-a084-3e80a56015fc\" class=\"colab-df-container\">\n",
              "    <div>\n",
              "<style scoped>\n",
              "    .dataframe tbody tr th:only-of-type {\n",
              "        vertical-align: middle;\n",
              "    }\n",
              "\n",
              "    .dataframe tbody tr th {\n",
              "        vertical-align: top;\n",
              "    }\n",
              "\n",
              "    .dataframe thead th {\n",
              "        text-align: right;\n",
              "    }\n",
              "</style>\n",
              "<table border=\"1\" class=\"dataframe\">\n",
              "  <thead>\n",
              "    <tr style=\"text-align: right;\">\n",
              "      <th></th>\n",
              "      <th>msrp</th>\n",
              "      <th>askPrice</th>\n",
              "      <th>mileage</th>\n",
              "      <th>dealerID</th>\n",
              "    </tr>\n",
              "  </thead>\n",
              "  <tbody>\n",
              "    <tr>\n",
              "      <th>count</th>\n",
              "      <td>6.465340e+05</td>\n",
              "      <td>6.465340e+05</td>\n",
              "      <td>6.465340e+05</td>\n",
              "      <td>646534.000000</td>\n",
              "    </tr>\n",
              "    <tr>\n",
              "      <th>mean</th>\n",
              "      <td>3.483683e+04</td>\n",
              "      <td>2.270003e+04</td>\n",
              "      <td>3.291713e+04</td>\n",
              "      <td>19871.415561</td>\n",
              "    </tr>\n",
              "    <tr>\n",
              "      <th>std</th>\n",
              "      <td>4.086711e+06</td>\n",
              "      <td>2.160163e+04</td>\n",
              "      <td>5.161521e+04</td>\n",
              "      <td>11401.876150</td>\n",
              "    </tr>\n",
              "    <tr>\n",
              "      <th>min</th>\n",
              "      <td>0.000000e+00</td>\n",
              "      <td>0.000000e+00</td>\n",
              "      <td>0.000000e+00</td>\n",
              "      <td>378.000000</td>\n",
              "    </tr>\n",
              "    <tr>\n",
              "      <th>25%</th>\n",
              "      <td>1.097700e+04</td>\n",
              "      <td>9.997000e+03</td>\n",
              "      <td>0.000000e+00</td>\n",
              "      <td>10244.000000</td>\n",
              "    </tr>\n",
              "    <tr>\n",
              "      <th>50%</th>\n",
              "      <td>2.205000e+04</td>\n",
              "      <td>2.063500e+04</td>\n",
              "      <td>6.788000e+03</td>\n",
              "      <td>20689.000000</td>\n",
              "    </tr>\n",
              "    <tr>\n",
              "      <th>75%</th>\n",
              "      <td>3.399900e+04</td>\n",
              "      <td>3.207700e+04</td>\n",
              "      <td>4.891175e+04</td>\n",
              "      <td>31925.000000</td>\n",
              "    </tr>\n",
              "    <tr>\n",
              "      <th>max</th>\n",
              "      <td>1.878820e+09</td>\n",
              "      <td>5.877140e+06</td>\n",
              "      <td>9.999999e+06</td>\n",
              "      <td>39974.000000</td>\n",
              "    </tr>\n",
              "  </tbody>\n",
              "</table>\n",
              "</div>\n",
              "    <div class=\"colab-df-buttons\">\n",
              "\n",
              "  <div class=\"colab-df-container\">\n",
              "    <button class=\"colab-df-convert\" onclick=\"convertToInteractive('df-d723b224-f8fc-4d12-a084-3e80a56015fc')\"\n",
              "            title=\"Convert this dataframe to an interactive table.\"\n",
              "            style=\"display:none;\">\n",
              "\n",
              "  <svg xmlns=\"http://www.w3.org/2000/svg\" height=\"24px\" viewBox=\"0 -960 960 960\">\n",
              "    <path d=\"M120-120v-720h720v720H120Zm60-500h600v-160H180v160Zm220 220h160v-160H400v160Zm0 220h160v-160H400v160ZM180-400h160v-160H180v160Zm440 0h160v-160H620v160ZM180-180h160v-160H180v160Zm440 0h160v-160H620v160Z\"/>\n",
              "  </svg>\n",
              "    </button>\n",
              "\n",
              "  <style>\n",
              "    .colab-df-container {\n",
              "      display:flex;\n",
              "      gap: 12px;\n",
              "    }\n",
              "\n",
              "    .colab-df-convert {\n",
              "      background-color: #E8F0FE;\n",
              "      border: none;\n",
              "      border-radius: 50%;\n",
              "      cursor: pointer;\n",
              "      display: none;\n",
              "      fill: #1967D2;\n",
              "      height: 32px;\n",
              "      padding: 0 0 0 0;\n",
              "      width: 32px;\n",
              "    }\n",
              "\n",
              "    .colab-df-convert:hover {\n",
              "      background-color: #E2EBFA;\n",
              "      box-shadow: 0px 1px 2px rgba(60, 64, 67, 0.3), 0px 1px 3px 1px rgba(60, 64, 67, 0.15);\n",
              "      fill: #174EA6;\n",
              "    }\n",
              "\n",
              "    .colab-df-buttons div {\n",
              "      margin-bottom: 4px;\n",
              "    }\n",
              "\n",
              "    [theme=dark] .colab-df-convert {\n",
              "      background-color: #3B4455;\n",
              "      fill: #D2E3FC;\n",
              "    }\n",
              "\n",
              "    [theme=dark] .colab-df-convert:hover {\n",
              "      background-color: #434B5C;\n",
              "      box-shadow: 0px 1px 3px 1px rgba(0, 0, 0, 0.15);\n",
              "      filter: drop-shadow(0px 1px 2px rgba(0, 0, 0, 0.3));\n",
              "      fill: #FFFFFF;\n",
              "    }\n",
              "  </style>\n",
              "\n",
              "    <script>\n",
              "      const buttonEl =\n",
              "        document.querySelector('#df-d723b224-f8fc-4d12-a084-3e80a56015fc button.colab-df-convert');\n",
              "      buttonEl.style.display =\n",
              "        google.colab.kernel.accessAllowed ? 'block' : 'none';\n",
              "\n",
              "      async function convertToInteractive(key) {\n",
              "        const element = document.querySelector('#df-d723b224-f8fc-4d12-a084-3e80a56015fc');\n",
              "        const dataTable =\n",
              "          await google.colab.kernel.invokeFunction('convertToInteractive',\n",
              "                                                    [key], {});\n",
              "        if (!dataTable) return;\n",
              "\n",
              "        const docLinkHtml = 'Like what you see? Visit the ' +\n",
              "          '<a target=\"_blank\" href=https://colab.research.google.com/notebooks/data_table.ipynb>data table notebook</a>'\n",
              "          + ' to learn more about interactive tables.';\n",
              "        element.innerHTML = '';\n",
              "        dataTable['output_type'] = 'display_data';\n",
              "        await google.colab.output.renderOutput(dataTable, element);\n",
              "        const docLink = document.createElement('div');\n",
              "        docLink.innerHTML = docLinkHtml;\n",
              "        element.appendChild(docLink);\n",
              "      }\n",
              "    </script>\n",
              "  </div>\n",
              "\n",
              "\n",
              "<div id=\"df-44fa05ae-c3a4-4641-a249-5bc81d59199b\">\n",
              "  <button class=\"colab-df-quickchart\" onclick=\"quickchart('df-44fa05ae-c3a4-4641-a249-5bc81d59199b')\"\n",
              "            title=\"Suggest charts\"\n",
              "            style=\"display:none;\">\n",
              "\n",
              "<svg xmlns=\"http://www.w3.org/2000/svg\" height=\"24px\"viewBox=\"0 0 24 24\"\n",
              "     width=\"24px\">\n",
              "    <g>\n",
              "        <path d=\"M19 3H5c-1.1 0-2 .9-2 2v14c0 1.1.9 2 2 2h14c1.1 0 2-.9 2-2V5c0-1.1-.9-2-2-2zM9 17H7v-7h2v7zm4 0h-2V7h2v10zm4 0h-2v-4h2v4z\"/>\n",
              "    </g>\n",
              "</svg>\n",
              "  </button>\n",
              "\n",
              "<style>\n",
              "  .colab-df-quickchart {\n",
              "      --bg-color: #E8F0FE;\n",
              "      --fill-color: #1967D2;\n",
              "      --hover-bg-color: #E2EBFA;\n",
              "      --hover-fill-color: #174EA6;\n",
              "      --disabled-fill-color: #AAA;\n",
              "      --disabled-bg-color: #DDD;\n",
              "  }\n",
              "\n",
              "  [theme=dark] .colab-df-quickchart {\n",
              "      --bg-color: #3B4455;\n",
              "      --fill-color: #D2E3FC;\n",
              "      --hover-bg-color: #434B5C;\n",
              "      --hover-fill-color: #FFFFFF;\n",
              "      --disabled-bg-color: #3B4455;\n",
              "      --disabled-fill-color: #666;\n",
              "  }\n",
              "\n",
              "  .colab-df-quickchart {\n",
              "    background-color: var(--bg-color);\n",
              "    border: none;\n",
              "    border-radius: 50%;\n",
              "    cursor: pointer;\n",
              "    display: none;\n",
              "    fill: var(--fill-color);\n",
              "    height: 32px;\n",
              "    padding: 0;\n",
              "    width: 32px;\n",
              "  }\n",
              "\n",
              "  .colab-df-quickchart:hover {\n",
              "    background-color: var(--hover-bg-color);\n",
              "    box-shadow: 0 1px 2px rgba(60, 64, 67, 0.3), 0 1px 3px 1px rgba(60, 64, 67, 0.15);\n",
              "    fill: var(--button-hover-fill-color);\n",
              "  }\n",
              "\n",
              "  .colab-df-quickchart-complete:disabled,\n",
              "  .colab-df-quickchart-complete:disabled:hover {\n",
              "    background-color: var(--disabled-bg-color);\n",
              "    fill: var(--disabled-fill-color);\n",
              "    box-shadow: none;\n",
              "  }\n",
              "\n",
              "  .colab-df-spinner {\n",
              "    border: 2px solid var(--fill-color);\n",
              "    border-color: transparent;\n",
              "    border-bottom-color: var(--fill-color);\n",
              "    animation:\n",
              "      spin 1s steps(1) infinite;\n",
              "  }\n",
              "\n",
              "  @keyframes spin {\n",
              "    0% {\n",
              "      border-color: transparent;\n",
              "      border-bottom-color: var(--fill-color);\n",
              "      border-left-color: var(--fill-color);\n",
              "    }\n",
              "    20% {\n",
              "      border-color: transparent;\n",
              "      border-left-color: var(--fill-color);\n",
              "      border-top-color: var(--fill-color);\n",
              "    }\n",
              "    30% {\n",
              "      border-color: transparent;\n",
              "      border-left-color: var(--fill-color);\n",
              "      border-top-color: var(--fill-color);\n",
              "      border-right-color: var(--fill-color);\n",
              "    }\n",
              "    40% {\n",
              "      border-color: transparent;\n",
              "      border-right-color: var(--fill-color);\n",
              "      border-top-color: var(--fill-color);\n",
              "    }\n",
              "    60% {\n",
              "      border-color: transparent;\n",
              "      border-right-color: var(--fill-color);\n",
              "    }\n",
              "    80% {\n",
              "      border-color: transparent;\n",
              "      border-right-color: var(--fill-color);\n",
              "      border-bottom-color: var(--fill-color);\n",
              "    }\n",
              "    90% {\n",
              "      border-color: transparent;\n",
              "      border-bottom-color: var(--fill-color);\n",
              "    }\n",
              "  }\n",
              "</style>\n",
              "\n",
              "  <script>\n",
              "    async function quickchart(key) {\n",
              "      const quickchartButtonEl =\n",
              "        document.querySelector('#' + key + ' button');\n",
              "      quickchartButtonEl.disabled = true;  // To prevent multiple clicks.\n",
              "      quickchartButtonEl.classList.add('colab-df-spinner');\n",
              "      try {\n",
              "        const charts = await google.colab.kernel.invokeFunction(\n",
              "            'suggestCharts', [key], {});\n",
              "      } catch (error) {\n",
              "        console.error('Error during call to suggestCharts:', error);\n",
              "      }\n",
              "      quickchartButtonEl.classList.remove('colab-df-spinner');\n",
              "      quickchartButtonEl.classList.add('colab-df-quickchart-complete');\n",
              "    }\n",
              "    (() => {\n",
              "      let quickchartButtonEl =\n",
              "        document.querySelector('#df-44fa05ae-c3a4-4641-a249-5bc81d59199b button');\n",
              "      quickchartButtonEl.style.display =\n",
              "        google.colab.kernel.accessAllowed ? 'block' : 'none';\n",
              "    })();\n",
              "  </script>\n",
              "</div>\n",
              "    </div>\n",
              "  </div>\n"
            ],
            "text/plain": [
              "               msrp      askPrice       mileage       dealerID\n",
              "count  6.465340e+05  6.465340e+05  6.465340e+05  646534.000000\n",
              "mean   3.483683e+04  2.270003e+04  3.291713e+04   19871.415561\n",
              "std    4.086711e+06  2.160163e+04  5.161521e+04   11401.876150\n",
              "min    0.000000e+00  0.000000e+00  0.000000e+00     378.000000\n",
              "25%    1.097700e+04  9.997000e+03  0.000000e+00   10244.000000\n",
              "50%    2.205000e+04  2.063500e+04  6.788000e+03   20689.000000\n",
              "75%    3.399900e+04  3.207700e+04  4.891175e+04   31925.000000\n",
              "max    1.878820e+09  5.877140e+06  9.999999e+06   39974.000000"
            ]
          },
          "execution_count": 118,
          "metadata": {},
          "output_type": "execute_result"
        }
      ],
      "source": [
        "df_pd.describe()"
      ]
    },
    {
      "cell_type": "markdown",
      "metadata": {
        "id": "arZC0_BBLTkF"
      },
      "source": [
        "### 3.2 Visualization"
      ]
    },
    {
      "cell_type": "markdown",
      "metadata": {
        "id": "GbUL5uMALjXt"
      },
      "source": [
        "#### 3.2.1 Bar graph"
      ]
    },
    {
      "cell_type": "code",
      "execution_count": null,
      "metadata": {
        "colab": {
          "base_uri": "https://localhost:8080/",
          "height": 1000
        },
        "id": "XERuhtiTLpWu",
        "outputId": "c3f60ab8-83d9-4513-d478-344e152fd49f"
      },
      "outputs": [
        {
          "name": "stdout",
          "output_type": "stream",
          "text": [
            "CPU times: user 4 µs, sys: 0 ns, total: 4 µs\n",
            "Wall time: 9.06 µs\n"
          ]
        },
        {
          "name": "stderr",
          "output_type": "stream",
          "text": [
            "<ipython-input-119-0410cc6011ad>:2: PerformanceWarning:\n",
            "\n",
            "DataFrame is highly fragmented.  This is usually the result of calling `frame.insert` many times, which has poor performance.  Consider joining all columns at once using pd.concat(axis=1) instead. To get a de-fragmented frame, use `newframe = frame.copy()`\n",
            "\n",
            "<ipython-input-119-0410cc6011ad>:2: SettingWithCopyWarning:\n",
            "\n",
            "\n",
            "A value is trying to be set on a copy of a slice from a DataFrame.\n",
            "Try using .loc[row_indexer,col_indexer] = value instead\n",
            "\n",
            "See the caveats in the documentation: https://pandas.pydata.org/pandas-docs/stable/user_guide/indexing.html#returning-a-view-versus-a-copy\n",
            "\n",
            "<ipython-input-119-0410cc6011ad>:3: PerformanceWarning:\n",
            "\n",
            "DataFrame is highly fragmented.  This is usually the result of calling `frame.insert` many times, which has poor performance.  Consider joining all columns at once using pd.concat(axis=1) instead. To get a de-fragmented frame, use `newframe = frame.copy()`\n",
            "\n",
            "<ipython-input-119-0410cc6011ad>:3: SettingWithCopyWarning:\n",
            "\n",
            "\n",
            "A value is trying to be set on a copy of a slice from a DataFrame.\n",
            "Try using .loc[row_indexer,col_indexer] = value instead\n",
            "\n",
            "See the caveats in the documentation: https://pandas.pydata.org/pandas-docs/stable/user_guide/indexing.html#returning-a-view-versus-a-copy\n",
            "\n"
          ]
        },
        {
          "data": {
            "image/png": "[encoded data removed]",
            "text/plain": [
              "<Figure size 1000x600 with 1 Axes>"
            ]
          },
          "metadata": {},
          "output_type": "display_data"
        }
      ],
      "source": [
        "%%time\n",
        "df_pd['sales_month'] = df_pd['lastSeen'].dt.month\n",
        "df_pd['sales_year'] = df_pd['lastSeen'].dt.year\n",
        "Sale_month = df_pd.groupby(['sales_year','sales_month'])['vin'].count()\n",
        "\n",
        "Sale_month.plot(kind='bar', figsize=(10, 6))\n",
        "plt.xlabel('time')\n",
        "plt.ylabel('Number of Sales')\n",
        "plt.title('Sales Count by year and month')\n",
        "plt.show()"
      ]
    },
    {
      "cell_type": "markdown",
      "metadata": {
        "id": "GUMwx5t0bAEj"
      },
      "source": [
        "#### 3.2.2 Scatterplot"
      ]
    },
    {
      "cell_type": "code",
      "execution_count": null,
      "metadata": {
        "colab": {
          "base_uri": "https://localhost:8080/",
          "height": 885
        },
        "id": "vG2Q5wZeR54g",
        "outputId": "a901d664-1a2d-4d65-8839-ef7564cfbe99"
      },
      "outputs": [
        {
          "name": "stdout",
          "output_type": "stream",
          "text": [
            "CPU times: user 4 µs, sys: 1e+03 ns, total: 5 µs\n",
            "Wall time: 9.06 µs\n"
          ]
        },
        {
          "name": "stderr",
          "output_type": "stream",
          "text": [
            "<ipython-input-120-fbb053077a43>:2: PerformanceWarning:\n",
            "\n",
            "DataFrame is highly fragmented.  This is usually the result of calling `frame.insert` many times, which has poor performance.  Consider joining all columns at once using pd.concat(axis=1) instead. To get a de-fragmented frame, use `newframe = frame.copy()`\n",
            "\n",
            "<ipython-input-120-fbb053077a43>:2: SettingWithCopyWarning:\n",
            "\n",
            "\n",
            "A value is trying to be set on a copy of a slice from a DataFrame.\n",
            "Try using .loc[row_indexer,col_indexer] = value instead\n",
            "\n",
            "See the caveats in the documentation: https://pandas.pydata.org/pandas-docs/stable/user_guide/indexing.html#returning-a-view-versus-a-copy\n",
            "\n"
          ]
        },
        {
          "data": {
            "image/png": "[encoded data removed]",
            "text/plain": [
              "<Figure size 1200x700 with 1 Axes>"
            ]
          },
          "metadata": {},
          "output_type": "display_data"
        }
      ],
      "source": [
        "%%time\n",
        "df_pd['priceDiff'] =  df_pd['msrp'] - df_pd['askPrice']\n",
        "x = df_pd[df_pd['priceDiff'] != 0]\n",
        "\n",
        "fig, ax = plt.subplots(figsize=(12,7))\n",
        "ax.scatter(x['priceDiff'],x['msrp'])\n",
        "ax.set_xlabel('msrp')\n",
        "ax.set_ylabel('askPrice')\n",
        "plt.show()"
      ]
    },
    {
      "cell_type": "markdown",
      "metadata": {
        "id": "ixoWkuHecxv7"
      },
      "source": [
        "#### 3.2.3 Line graph"
      ]
    },
    {
      "cell_type": "code",
      "execution_count": null,
      "metadata": {
        "colab": {
          "base_uri": "https://localhost:8080/"
        },
        "id": "psTzIDu7Ymml",
        "outputId": "e5695e09-e0dd-4694-ee10-61118d1b66bd"
      },
      "outputs": [
        {
          "name": "stdout",
          "output_type": "stream",
          "text": [
            "CPU times: user 3 µs, sys: 1e+03 ns, total: 4 µs\n",
            "Wall time: 8.34 µs\n"
          ]
        },
        {
          "name": "stderr",
          "output_type": "stream",
          "text": [
            "<ipython-input-121-ac0e01ffaaf0>:2: SettingWithCopyWarning:\n",
            "\n",
            "\n",
            "A value is trying to be set on a copy of a slice from a DataFrame.\n",
            "Try using .loc[row_indexer,col_indexer] = value instead\n",
            "\n",
            "See the caveats in the documentation: https://pandas.pydata.org/pandas-docs/stable/user_guide/indexing.html#returning-a-view-versus-a-copy\n",
            "\n"
          ]
        }
      ],
      "source": [
        "%%time\n",
        "df_pd['Combined'] = pd.to_datetime(df_pd['sales_month'].astype(str) + '/' + df_pd['sales_year'].astype(str), format='%m/%Y')\n",
        "graph_data = df_pd.groupby(['Combined'])['askPrice'].mean().reset_index()"
      ]
    },
    {
      "cell_type": "code",
      "execution_count": null,
      "metadata": {
        "colab": {
          "base_uri": "https://localhost:8080/",
          "height": 577
        },
        "id": "zEMXyIpmRLpw",
        "outputId": "edf4b134-bdaa-4beb-8686-e48efbafc02d"
      },
      "outputs": [
        {
          "name": "stdout",
          "output_type": "stream",
          "text": [
            "CPU times: user 4 µs, sys: 0 ns, total: 4 µs\n",
            "Wall time: 8.34 µs\n"
          ]
        },
        {
          "data": {
            "text/html": [
              "<html>\n",
              "<head><meta charset=\"utf-8\" /></head>\n",
              "<body>\n",
              "    <div>            <script src=\"https://cdnjs.cloudflare.com/ajax/libs/mathjax/2.7.5/MathJax.js?config=TeX-AMS-MML_SVG\"></script><script type=\"text/javascript\">if (window.MathJax && window.MathJax.Hub && window.MathJax.Hub.Config) {window.MathJax.Hub.Config({SVG: {font: \"STIX-Web\"}});}</script>                <script type=\"text/javascript\">window.PlotlyConfig = {MathJaxConfig: 'local'};</script>\n",
              "        <script charset=\"utf-8\" src=\"https://cdn.plot.ly/plotly-2.24.1.min.js\"></script>                <div id=\"c455517e-a7cf-4988-b13f-a0b5f425fe1c\" class=\"plotly-graph-div\" style=\"height:525px; width:100%;\"></div>            <script type=\"text/javascript\">                                    window.PLOTLYENV=window.PLOTLYENV || {};                                    if (document.getElementById(\"c455517e-a7cf-4988-b13f-a0b5f425fe1c\")) {                    Plotly.newPlot(                        \"c455517e-a7cf-4988-b13f-a0b5f425fe1c\",                        [{\"hovertemplate\":\"month\\u002fyear=%{x}\\u003cbr\\u003eAvg Price=%{y}\\u003cextra\\u003e\\u003c\\u002fextra\\u003e\",\"legendgroup\":\"\",\"line\":{\"color\":\"#636efa\",\"dash\":\"solid\"},\"marker\":{\"symbol\":\"circle\"},\"mode\":\"lines\",\"name\":\"\",\"orientation\":\"v\",\"showlegend\":false,\"x\":[\"2018-06-01T00:00:00\",\"2018-07-01T00:00:00\",\"2018-08-01T00:00:00\",\"2018-09-01T00:00:00\",\"2018-10-01T00:00:00\",\"2018-11-01T00:00:00\",\"2018-12-01T00:00:00\",\"2019-01-01T00:00:00\",\"2019-02-01T00:00:00\",\"2019-03-01T00:00:00\",\"2019-04-01T00:00:00\",\"2019-05-01T00:00:00\",\"2019-06-01T00:00:00\",\"2019-07-01T00:00:00\",\"2019-08-01T00:00:00\",\"2019-09-01T00:00:00\",\"2019-10-01T00:00:00\",\"2019-11-01T00:00:00\",\"2019-12-01T00:00:00\",\"2020-01-01T00:00:00\",\"2020-02-01T00:00:00\",\"2020-03-01T00:00:00\",\"2020-04-01T00:00:00\",\"2020-05-01T00:00:00\"],\"xaxis\":\"x\",\"y\":[19779.93503459696,20350.57752836781,23546.001878851646,21744.48249926261,20352.726654987524,21506.713514406918,22734.66012421371,21003.230703567257,21684.617983963344,20005.523611207514,22448.116652076038,23700.180836091142,21594.6361897121,21292.63991929673,24351.897010193297,24596.452132803268,24954.468787353,25500.33063945477,26351.10338892289,23683.352774530085,23753.465048460417,23763.653029678484,24550.974718381978,24238.74760683452],\"yaxis\":\"y\",\"type\":\"scatter\"}],                        {\"template\":{\"data\":{\"histogram2dcontour\":[{\"type\":\"histogram2dcontour\",\"colorbar\":{\"outlinewidth\":0,\"ticks\":\"\"},\"colorscale\":[[0.0,\"#0d0887\"],[0.1111111111111111,\"#46039f\"],[0.2222222222222222,\"#7201a8\"],[0.3333333333333333,\"#9c179e\"],[0.4444444444444444,\"#bd3786\"],[0.5555555555555556,\"#d8576b\"],[0.6666666666666666,\"#ed7953\"],[0.7777777777777778,\"#fb9f3a\"],[0.8888888888888888,\"#fdca26\"],[1.0,\"#f0f921\"]]}],\"choropleth\":[{\"type\":\"choropleth\",\"colorbar\":{\"outlinewidth\":0,\"ticks\":\"\"}}],\"histogram2d\":[{\"type\":\"histogram2d\",\"colorbar\":{\"outlinewidth\":0,\"ticks\":\"\"},\"colorscale\":[[0.0,\"#0d0887\"],[0.1111111111111111,\"#46039f\"],[0.2222222222222222,\"#7201a8\"],[0.3333333333333333,\"#9c179e\"],[0.4444444444444444,\"#bd3786\"],[0.5555555555555556,\"#d8576b\"],[0.6666666666666666,\"#ed7953\"],[0.7777777777777778,\"#fb9f3a\"],[0.8888888888888888,\"#fdca26\"],[1.0,\"#f0f921\"]]}],\"heatmap\":[{\"type\":\"heatmap\",\"colorbar\":{\"outlinewidth\":0,\"ticks\":\"\"},\"colorscale\":[[0.0,\"#0d0887\"],[0.1111111111111111,\"#46039f\"],[0.2222222222222222,\"#7201a8\"],[0.3333333333333333,\"#9c179e\"],[0.4444444444444444,\"#bd3786\"],[0.5555555555555556,\"#d8576b\"],[0.6666666666666666,\"#ed7953\"],[0.7777777777777778,\"#fb9f3a\"],[0.8888888888888888,\"#fdca26\"],[1.0,\"#f0f921\"]]}],\"heatmapgl\":[{\"type\":\"heatmapgl\",\"colorbar\":{\"outlinewidth\":0,\"ticks\":\"\"},\"colorscale\":[[0.0,\"#0d0887\"],[0.1111111111111111,\"#46039f\"],[0.2222222222222222,\"#7201a8\"],[0.3333333333333333,\"#9c179e\"],[0.4444444444444444,\"#bd3786\"],[0.5555555555555556,\"#d8576b\"],[0.6666666666666666,\"#ed7953\"],[0.7777777777777778,\"#fb9f3a\"],[0.8888888888888888,\"#fdca26\"],[1.0,\"#f0f921\"]]}],\"contourcarpet\":[{\"type\":\"contourcarpet\",\"colorbar\":{\"outlinewidth\":0,\"ticks\":\"\"}}],\"contour\":[{\"type\":\"contour\",\"colorbar\":{\"outlinewidth\":0,\"ticks\":\"\"},\"colorscale\":[[0.0,\"#0d0887\"],[0.1111111111111111,\"#46039f\"],[0.2222222222222222,\"#7201a8\"],[0.3333333333333333,\"#9c179e\"],[0.4444444444444444,\"#bd3786\"],[0.5555555555555556,\"#d8576b\"],[0.6666666666666666,\"#ed7953\"],[0.7777777777777778,\"#fb9f3a\"],[0.8888888888888888,\"#fdca26\"],[1.0,\"#f0f921\"]]}],\"surface\":[{\"type\":\"surface\",\"colorbar\":{\"outlinewidth\":0,\"ticks\":\"\"},\"colorscale\":[[0.0,\"#0d0887\"],[0.1111111111111111,\"#46039f\"],[0.2222222222222222,\"#7201a8\"],[0.3333333333333333,\"#9c179e\"],[0.4444444444444444,\"#bd3786\"],[0.5555555555555556,\"#d8576b\"],[0.6666666666666666,\"#ed7953\"],[0.7777777777777778,\"#fb9f3a\"],[0.8888888888888888,\"#fdca26\"],[1.0,\"#f0f921\"]]}],\"mesh3d\":[{\"type\":\"mesh3d\",\"colorbar\":{\"outlinewidth\":0,\"ticks\":\"\"}}],\"scatter\":[{\"fillpattern\":{\"fillmode\":\"overlay\",\"size\":10,\"solidity\":0.2},\"type\":\"scatter\"}],\"parcoords\":[{\"type\":\"parcoords\",\"line\":{\"colorbar\":{\"outlinewidth\":0,\"ticks\":\"\"}}}],\"scatterpolargl\":[{\"type\":\"scatterpolargl\",\"marker\":{\"colorbar\":{\"outlinewidth\":0,\"ticks\":\"\"}}}],\"bar\":[{\"error_x\":{\"color\":\"#2a3f5f\"},\"error_y\":{\"color\":\"#2a3f5f\"},\"marker\":{\"line\":{\"color\":\"#E5ECF6\",\"width\":0.5},\"pattern\":{\"fillmode\":\"overlay\",\"size\":10,\"solidity\":0.2}},\"type\":\"bar\"}],\"scattergeo\":[{\"type\":\"scattergeo\",\"marker\":{\"colorbar\":{\"outlinewidth\":0,\"ticks\":\"\"}}}],\"scatterpolar\":[{\"type\":\"scatterpolar\",\"marker\":{\"colorbar\":{\"outlinewidth\":0,\"ticks\":\"\"}}}],\"histogram\":[{\"marker\":{\"pattern\":{\"fillmode\":\"overlay\",\"size\":10,\"solidity\":0.2}},\"type\":\"histogram\"}],\"scattergl\":[{\"type\":\"scattergl\",\"marker\":{\"colorbar\":{\"outlinewidth\":0,\"ticks\":\"\"}}}],\"scatter3d\":[{\"type\":\"scatter3d\",\"line\":{\"colorbar\":{\"outlinewidth\":0,\"ticks\":\"\"}},\"marker\":{\"colorbar\":{\"outlinewidth\":0,\"ticks\":\"\"}}}],\"scattermapbox\":[{\"type\":\"scattermapbox\",\"marker\":{\"colorbar\":{\"outlinewidth\":0,\"ticks\":\"\"}}}],\"scatterternary\":[{\"type\":\"scatterternary\",\"marker\":{\"colorbar\":{\"outlinewidth\":0,\"ticks\":\"\"}}}],\"scattercarpet\":[{\"type\":\"scattercarpet\",\"marker\":{\"colorbar\":{\"outlinewidth\":0,\"ticks\":\"\"}}}],\"carpet\":[{\"aaxis\":{\"endlinecolor\":\"#2a3f5f\",\"gridcolor\":\"white\",\"linecolor\":\"white\",\"minorgridcolor\":\"white\",\"startlinecolor\":\"#2a3f5f\"},\"baxis\":{\"endlinecolor\":\"#2a3f5f\",\"gridcolor\":\"white\",\"linecolor\":\"white\",\"minorgridcolor\":\"white\",\"startlinecolor\":\"#2a3f5f\"},\"type\":\"carpet\"}],\"table\":[{\"cells\":{\"fill\":{\"color\":\"#EBF0F8\"},\"line\":{\"color\":\"white\"}},\"header\":{\"fill\":{\"color\":\"#C8D4E3\"},\"line\":{\"color\":\"white\"}},\"type\":\"table\"}],\"barpolar\":[{\"marker\":{\"line\":{\"color\":\"#E5ECF6\",\"width\":0.5},\"pattern\":{\"fillmode\":\"overlay\",\"size\":10,\"solidity\":0.2}},\"type\":\"barpolar\"}],\"pie\":[{\"automargin\":true,\"type\":\"pie\"}]},\"layout\":{\"autotypenumbers\":\"strict\",\"colorway\":[\"#636efa\",\"#EF553B\",\"#00cc96\",\"#ab63fa\",\"#FFA15A\",\"#19d3f3\",\"#FF6692\",\"#B6E880\",\"#FF97FF\",\"#FECB52\"],\"font\":{\"color\":\"#2a3f5f\"},\"hovermode\":\"closest\",\"hoverlabel\":{\"align\":\"left\"},\"paper_bgcolor\":\"white\",\"plot_bgcolor\":\"#E5ECF6\",\"polar\":{\"bgcolor\":\"#E5ECF6\",\"angularaxis\":{\"gridcolor\":\"white\",\"linecolor\":\"white\",\"ticks\":\"\"},\"radialaxis\":{\"gridcolor\":\"white\",\"linecolor\":\"white\",\"ticks\":\"\"}},\"ternary\":{\"bgcolor\":\"#E5ECF6\",\"aaxis\":{\"gridcolor\":\"white\",\"linecolor\":\"white\",\"ticks\":\"\"},\"baxis\":{\"gridcolor\":\"white\",\"linecolor\":\"white\",\"ticks\":\"\"},\"caxis\":{\"gridcolor\":\"white\",\"linecolor\":\"white\",\"ticks\":\"\"}},\"coloraxis\":{\"colorbar\":{\"outlinewidth\":0,\"ticks\":\"\"}},\"colorscale\":{\"sequential\":[[0.0,\"#0d0887\"],[0.1111111111111111,\"#46039f\"],[0.2222222222222222,\"#7201a8\"],[0.3333333333333333,\"#9c179e\"],[0.4444444444444444,\"#bd3786\"],[0.5555555555555556,\"#d8576b\"],[0.6666666666666666,\"#ed7953\"],[0.7777777777777778,\"#fb9f3a\"],[0.8888888888888888,\"#fdca26\"],[1.0,\"#f0f921\"]],\"sequentialminus\":[[0.0,\"#0d0887\"],[0.1111111111111111,\"#46039f\"],[0.2222222222222222,\"#7201a8\"],[0.3333333333333333,\"#9c179e\"],[0.4444444444444444,\"#bd3786\"],[0.5555555555555556,\"#d8576b\"],[0.6666666666666666,\"#ed7953\"],[0.7777777777777778,\"#fb9f3a\"],[0.8888888888888888,\"#fdca26\"],[1.0,\"#f0f921\"]],\"diverging\":[[0,\"#8e0152\"],[0.1,\"#c51b7d\"],[0.2,\"#de77ae\"],[0.3,\"#f1b6da\"],[0.4,\"#fde0ef\"],[0.5,\"#f7f7f7\"],[0.6,\"#e6f5d0\"],[0.7,\"#b8e186\"],[0.8,\"#7fbc41\"],[0.9,\"#4d9221\"],[1,\"#276419\"]]},\"xaxis\":{\"gridcolor\":\"white\",\"linecolor\":\"white\",\"ticks\":\"\",\"title\":{\"standoff\":15},\"zerolinecolor\":\"white\",\"automargin\":true,\"zerolinewidth\":2},\"yaxis\":{\"gridcolor\":\"white\",\"linecolor\":\"white\",\"ticks\":\"\",\"title\":{\"standoff\":15},\"zerolinecolor\":\"white\",\"automargin\":true,\"zerolinewidth\":2},\"scene\":{\"xaxis\":{\"backgroundcolor\":\"#E5ECF6\",\"gridcolor\":\"white\",\"linecolor\":\"white\",\"showbackground\":true,\"ticks\":\"\",\"zerolinecolor\":\"white\",\"gridwidth\":2},\"yaxis\":{\"backgroundcolor\":\"#E5ECF6\",\"gridcolor\":\"white\",\"linecolor\":\"white\",\"showbackground\":true,\"ticks\":\"\",\"zerolinecolor\":\"white\",\"gridwidth\":2},\"zaxis\":{\"backgroundcolor\":\"#E5ECF6\",\"gridcolor\":\"white\",\"linecolor\":\"white\",\"showbackground\":true,\"ticks\":\"\",\"zerolinecolor\":\"white\",\"gridwidth\":2}},\"shapedefaults\":{\"line\":{\"color\":\"#2a3f5f\"}},\"annotationdefaults\":{\"arrowcolor\":\"#2a3f5f\",\"arrowhead\":0,\"arrowwidth\":1},\"geo\":{\"bgcolor\":\"white\",\"landcolor\":\"#E5ECF6\",\"subunitcolor\":\"white\",\"showland\":true,\"showlakes\":true,\"lakecolor\":\"white\"},\"title\":{\"x\":0.05},\"mapbox\":{\"style\":\"light\"}}},\"xaxis\":{\"anchor\":\"y\",\"domain\":[0.0,1.0],\"title\":{\"text\":\"month\\u002fyear\"}},\"yaxis\":{\"anchor\":\"x\",\"domain\":[0.0,1.0],\"title\":{\"text\":\"Avg Price\"}},\"legend\":{\"tracegroupgap\":0},\"title\":{\"text\":\"Average askPrice vs Time\"}},                        {\"responsive\": true}                    ).then(function(){\n",
              "                            \n",
              "var gd = document.getElementById('c455517e-a7cf-4988-b13f-a0b5f425fe1c');\n",
              "var x = new MutationObserver(function (mutations, observer) {{\n",
              "        var display = window.getComputedStyle(gd).display;\n",
              "        if (!display || display === 'none') {{\n",
              "            console.log([gd, 'removed!']);\n",
              "            Plotly.purge(gd);\n",
              "            observer.disconnect();\n",
              "        }}\n",
              "}});\n",
              "\n",
              "// Listen for the removal of the full notebook cells\n",
              "var notebookContainer = gd.closest('#notebook-container');\n",
              "if (notebookContainer) {{\n",
              "    x.observe(notebookContainer, {childList: true});\n",
              "}}\n",
              "\n",
              "// Listen for the clearing of the current output cell\n",
              "var outputEl = gd.closest('.output');\n",
              "if (outputEl) {{\n",
              "    x.observe(outputEl, {childList: true});\n",
              "}}\n",
              "\n",
              "                        })                };                            </script>        </div>\n",
              "</body>\n",
              "</html>"
            ]
          },
          "metadata": {},
          "output_type": "display_data"
        }
      ],
      "source": [
        "import plotly.express as px\n",
        "import plotly.graph_objects as go\n",
        "\n",
        "%%time\n",
        "fig = px.line(graph_data, x='Combined', y='askPrice', title='Average askPrice vs Time', labels={'Combined': 'month/year', 'askPrice': 'Avg Price'})\n",
        "fig.show()"
      ]
    },
    {
      "cell_type": "markdown",
      "metadata": {
        "id": "bhhtABnc4oYg"
      },
      "source": [
        "## 4. Answering Question"
      ]
    },
    {
      "cell_type": "markdown",
      "metadata": {
        "id": "ZT1BLcyr42Ik"
      },
      "source": [
        "### QUESTION 1 : List the top 5 car that is most bought by customer"
      ]
    },
    {
      "cell_type": "code",
      "execution_count": null,
      "metadata": {
        "colab": {
          "base_uri": "https://localhost:8080/",
          "height": 669
        },
        "id": "hv8VLM045L2q",
        "outputId": "f0eeba54-1b8b-4e81-d410-ecc2abd913fd"
      },
      "outputs": [
        {
          "name": "stdout",
          "output_type": "stream",
          "text": [
            "CPU times: user 4 µs, sys: 1e+03 ns, total: 5 µs\n",
            "Wall time: 8.11 µs\n"
          ]
        },
        {
          "data": {
            "image/png": "[encoded data removed]",
            "text/plain": [
              "<Figure size 1000x600 with 1 Axes>"
            ]
          },
          "metadata": {},
          "output_type": "display_data"
        }
      ],
      "source": [
        "%%time\n",
        "brands = df_pd.groupby(['brandName'])['vin'].count().sort_values(ascending = False)\n",
        "data = brands.head(5)\n",
        "\n",
        "data.plot(kind='bar', figsize=(10, 6))\n",
        "plt.xlabel('brand name')\n",
        "plt.ylabel('Number of Car sold')\n",
        "plt.title('top 5 brands with the most car sold')\n",
        "plt.show()"
      ]
    },
    {
      "cell_type": "markdown",
      "metadata": {
        "id": "mjx2fIkE5AAk"
      },
      "source": [
        "### QUESTION 2 : On average, in days, how fast does it take for a car to be sold,list the top 10 dealer with the fastest average days to sell a car"
      ]
    },
    {
      "cell_type": "code",
      "execution_count": null,
      "metadata": {
        "colab": {
          "base_uri": "https://localhost:8080/",
          "height": 556
        },
        "id": "ms1f56z--c1j",
        "outputId": "45c7910b-adc5-4a16-c22e-f478f8d4f147"
      },
      "outputs": [
        {
          "name": "stdout",
          "output_type": "stream",
          "text": [
            "CPU times: user 4 µs, sys: 0 ns, total: 4 µs\n",
            "Wall time: 7.87 µs\n"
          ]
        },
        {
          "name": "stderr",
          "output_type": "stream",
          "text": [
            "<ipython-input-124-b7bf7fe16a48>:2: SettingWithCopyWarning:\n",
            "\n",
            "\n",
            "A value is trying to be set on a copy of a slice from a DataFrame.\n",
            "Try using .loc[row_indexer,col_indexer] = value instead\n",
            "\n",
            "See the caveats in the documentation: https://pandas.pydata.org/pandas-docs/stable/user_guide/indexing.html#returning-a-view-versus-a-copy\n",
            "\n"
          ]
        },
        {
          "data": {
            "text/html": [
              "\n",
              "  <div id=\"df-5a2b9f0b-77e1-43d2-a070-8290edec1d17\" class=\"colab-df-container\">\n",
              "    <div>\n",
              "<style scoped>\n",
              "    .dataframe tbody tr th:only-of-type {\n",
              "        vertical-align: middle;\n",
              "    }\n",
              "\n",
              "    .dataframe tbody tr th {\n",
              "        vertical-align: top;\n",
              "    }\n",
              "\n",
              "    .dataframe thead th {\n",
              "        text-align: right;\n",
              "    }\n",
              "</style>\n",
              "<table border=\"1\" class=\"dataframe\">\n",
              "  <thead>\n",
              "    <tr style=\"text-align: right;\">\n",
              "      <th></th>\n",
              "      <th>dealerID</th>\n",
              "      <th>avg_num_of_day_to_sell</th>\n",
              "    </tr>\n",
              "  </thead>\n",
              "  <tbody>\n",
              "    <tr>\n",
              "      <th>0</th>\n",
              "      <td>11542</td>\n",
              "      <td>20 days 19:12:00</td>\n",
              "    </tr>\n",
              "    <tr>\n",
              "      <th>1</th>\n",
              "      <td>38721</td>\n",
              "      <td>23 days 18:00:00</td>\n",
              "    </tr>\n",
              "    <tr>\n",
              "      <th>2</th>\n",
              "      <td>24145</td>\n",
              "      <td>32 days 21:20:17.775507598</td>\n",
              "    </tr>\n",
              "    <tr>\n",
              "      <th>3</th>\n",
              "      <td>30637</td>\n",
              "      <td>33 days 21:57:17.217391304</td>\n",
              "    </tr>\n",
              "    <tr>\n",
              "      <th>4</th>\n",
              "      <td>15945</td>\n",
              "      <td>35 days 07:45:56.926293779</td>\n",
              "    </tr>\n",
              "    <tr>\n",
              "      <th>5</th>\n",
              "      <td>37673</td>\n",
              "      <td>36 days 04:33:06.206896551</td>\n",
              "    </tr>\n",
              "    <tr>\n",
              "      <th>6</th>\n",
              "      <td>39934</td>\n",
              "      <td>37 days 21:26:24.871406959</td>\n",
              "    </tr>\n",
              "    <tr>\n",
              "      <th>7</th>\n",
              "      <td>35489</td>\n",
              "      <td>38 days 04:15:54.982032015</td>\n",
              "    </tr>\n",
              "    <tr>\n",
              "      <th>8</th>\n",
              "      <td>30655</td>\n",
              "      <td>39 days 19:31:38.181818182</td>\n",
              "    </tr>\n",
              "    <tr>\n",
              "      <th>9</th>\n",
              "      <td>8989</td>\n",
              "      <td>42 days 22:37:56.470588235</td>\n",
              "    </tr>\n",
              "  </tbody>\n",
              "</table>\n",
              "</div>\n",
              "    <div class=\"colab-df-buttons\">\n",
              "\n",
              "  <div class=\"colab-df-container\">\n",
              "    <button class=\"colab-df-convert\" onclick=\"convertToInteractive('df-5a2b9f0b-77e1-43d2-a070-8290edec1d17')\"\n",
              "            title=\"Convert this dataframe to an interactive table.\"\n",
              "            style=\"display:none;\">\n",
              "\n",
              "  <svg xmlns=\"http://www.w3.org/2000/svg\" height=\"24px\" viewBox=\"0 -960 960 960\">\n",
              "    <path d=\"M120-120v-720h720v720H120Zm60-500h600v-160H180v160Zm220 220h160v-160H400v160Zm0 220h160v-160H400v160ZM180-400h160v-160H180v160Zm440 0h160v-160H620v160ZM180-180h160v-160H180v160Zm440 0h160v-160H620v160Z\"/>\n",
              "  </svg>\n",
              "    </button>\n",
              "\n",
              "  <style>\n",
              "    .colab-df-container {\n",
              "      display:flex;\n",
              "      gap: 12px;\n",
              "    }\n",
              "\n",
              "    .colab-df-convert {\n",
              "      background-color: #E8F0FE;\n",
              "      border: none;\n",
              "      border-radius: 50%;\n",
              "      cursor: pointer;\n",
              "      display: none;\n",
              "      fill: #1967D2;\n",
              "      height: 32px;\n",
              "      padding: 0 0 0 0;\n",
              "      width: 32px;\n",
              "    }\n",
              "\n",
              "    .colab-df-convert:hover {\n",
              "      background-color: #E2EBFA;\n",
              "      box-shadow: 0px 1px 2px rgba(60, 64, 67, 0.3), 0px 1px 3px 1px rgba(60, 64, 67, 0.15);\n",
              "      fill: #174EA6;\n",
              "    }\n",
              "\n",
              "    .colab-df-buttons div {\n",
              "      margin-bottom: 4px;\n",
              "    }\n",
              "\n",
              "    [theme=dark] .colab-df-convert {\n",
              "      background-color: #3B4455;\n",
              "      fill: #D2E3FC;\n",
              "    }\n",
              "\n",
              "    [theme=dark] .colab-df-convert:hover {\n",
              "      background-color: #434B5C;\n",
              "      box-shadow: 0px 1px 3px 1px rgba(0, 0, 0, 0.15);\n",
              "      filter: drop-shadow(0px 1px 2px rgba(0, 0, 0, 0.3));\n",
              "      fill: #FFFFFF;\n",
              "    }\n",
              "  </style>\n",
              "\n",
              "    <script>\n",
              "      const buttonEl =\n",
              "        document.querySelector('#df-5a2b9f0b-77e1-43d2-a070-8290edec1d17 button.colab-df-convert');\n",
              "      buttonEl.style.display =\n",
              "        google.colab.kernel.accessAllowed ? 'block' : 'none';\n",
              "\n",
              "      async function convertToInteractive(key) {\n",
              "        const element = document.querySelector('#df-5a2b9f0b-77e1-43d2-a070-8290edec1d17');\n",
              "        const dataTable =\n",
              "          await google.colab.kernel.invokeFunction('convertToInteractive',\n",
              "                                                    [key], {});\n",
              "        if (!dataTable) return;\n",
              "\n",
              "        const docLinkHtml = 'Like what you see? Visit the ' +\n",
              "          '<a target=\"_blank\" href=https://colab.research.google.com/notebooks/data_table.ipynb>data table notebook</a>'\n",
              "          + ' to learn more about interactive tables.';\n",
              "        element.innerHTML = '';\n",
              "        dataTable['output_type'] = 'display_data';\n",
              "        await google.colab.output.renderOutput(dataTable, element);\n",
              "        const docLink = document.createElement('div');\n",
              "        docLink.innerHTML = docLinkHtml;\n",
              "        element.appendChild(docLink);\n",
              "      }\n",
              "    </script>\n",
              "  </div>\n",
              "\n",
              "\n",
              "<div id=\"df-85ce1d6a-1c70-4429-b81b-96c4fe5b7e5b\">\n",
              "  <button class=\"colab-df-quickchart\" onclick=\"quickchart('df-85ce1d6a-1c70-4429-b81b-96c4fe5b7e5b')\"\n",
              "            title=\"Suggest charts\"\n",
              "            style=\"display:none;\">\n",
              "\n",
              "<svg xmlns=\"http://www.w3.org/2000/svg\" height=\"24px\"viewBox=\"0 0 24 24\"\n",
              "     width=\"24px\">\n",
              "    <g>\n",
              "        <path d=\"M19 3H5c-1.1 0-2 .9-2 2v14c0 1.1.9 2 2 2h14c1.1 0 2-.9 2-2V5c0-1.1-.9-2-2-2zM9 17H7v-7h2v7zm4 0h-2V7h2v10zm4 0h-2v-4h2v4z\"/>\n",
              "    </g>\n",
              "</svg>\n",
              "  </button>\n",
              "\n",
              "<style>\n",
              "  .colab-df-quickchart {\n",
              "      --bg-color: #E8F0FE;\n",
              "      --fill-color: #1967D2;\n",
              "      --hover-bg-color: #E2EBFA;\n",
              "      --hover-fill-color: #174EA6;\n",
              "      --disabled-fill-color: #AAA;\n",
              "      --disabled-bg-color: #DDD;\n",
              "  }\n",
              "\n",
              "  [theme=dark] .colab-df-quickchart {\n",
              "      --bg-color: #3B4455;\n",
              "      --fill-color: #D2E3FC;\n",
              "      --hover-bg-color: #434B5C;\n",
              "      --hover-fill-color: #FFFFFF;\n",
              "      --disabled-bg-color: #3B4455;\n",
              "      --disabled-fill-color: #666;\n",
              "  }\n",
              "\n",
              "  .colab-df-quickchart {\n",
              "    background-color: var(--bg-color);\n",
              "    border: none;\n",
              "    border-radius: 50%;\n",
              "    cursor: pointer;\n",
              "    display: none;\n",
              "    fill: var(--fill-color);\n",
              "    height: 32px;\n",
              "    padding: 0;\n",
              "    width: 32px;\n",
              "  }\n",
              "\n",
              "  .colab-df-quickchart:hover {\n",
              "    background-color: var(--hover-bg-color);\n",
              "    box-shadow: 0 1px 2px rgba(60, 64, 67, 0.3), 0 1px 3px 1px rgba(60, 64, 67, 0.15);\n",
              "    fill: var(--button-hover-fill-color);\n",
              "  }\n",
              "\n",
              "  .colab-df-quickchart-complete:disabled,\n",
              "  .colab-df-quickchart-complete:disabled:hover {\n",
              "    background-color: var(--disabled-bg-color);\n",
              "    fill: var(--disabled-fill-color);\n",
              "    box-shadow: none;\n",
              "  }\n",
              "\n",
              "  .colab-df-spinner {\n",
              "    border: 2px solid var(--fill-color);\n",
              "    border-color: transparent;\n",
              "    border-bottom-color: var(--fill-color);\n",
              "    animation:\n",
              "      spin 1s steps(1) infinite;\n",
              "  }\n",
              "\n",
              "  @keyframes spin {\n",
              "    0% {\n",
              "      border-color: transparent;\n",
              "      border-bottom-color: var(--fill-color);\n",
              "      border-left-color: var(--fill-color);\n",
              "    }\n",
              "    20% {\n",
              "      border-color: transparent;\n",
              "      border-left-color: var(--fill-color);\n",
              "      border-top-color: var(--fill-color);\n",
              "    }\n",
              "    30% {\n",
              "      border-color: transparent;\n",
              "      border-left-color: var(--fill-color);\n",
              "      border-top-color: var(--fill-color);\n",
              "      border-right-color: var(--fill-color);\n",
              "    }\n",
              "    40% {\n",
              "      border-color: transparent;\n",
              "      border-right-color: var(--fill-color);\n",
              "      border-top-color: var(--fill-color);\n",
              "    }\n",
              "    60% {\n",
              "      border-color: transparent;\n",
              "      border-right-color: var(--fill-color);\n",
              "    }\n",
              "    80% {\n",
              "      border-color: transparent;\n",
              "      border-right-color: var(--fill-color);\n",
              "      border-bottom-color: var(--fill-color);\n",
              "    }\n",
              "    90% {\n",
              "      border-color: transparent;\n",
              "      border-bottom-color: var(--fill-color);\n",
              "    }\n",
              "  }\n",
              "</style>\n",
              "\n",
              "  <script>\n",
              "    async function quickchart(key) {\n",
              "      const quickchartButtonEl =\n",
              "        document.querySelector('#' + key + ' button');\n",
              "      quickchartButtonEl.disabled = true;  // To prevent multiple clicks.\n",
              "      quickchartButtonEl.classList.add('colab-df-spinner');\n",
              "      try {\n",
              "        const charts = await google.colab.kernel.invokeFunction(\n",
              "            'suggestCharts', [key], {});\n",
              "      } catch (error) {\n",
              "        console.error('Error during call to suggestCharts:', error);\n",
              "      }\n",
              "      quickchartButtonEl.classList.remove('colab-df-spinner');\n",
              "      quickchartButtonEl.classList.add('colab-df-quickchart-complete');\n",
              "    }\n",
              "    (() => {\n",
              "      let quickchartButtonEl =\n",
              "        document.querySelector('#df-85ce1d6a-1c70-4429-b81b-96c4fe5b7e5b button');\n",
              "      quickchartButtonEl.style.display =\n",
              "        google.colab.kernel.accessAllowed ? 'block' : 'none';\n",
              "    })();\n",
              "  </script>\n",
              "</div>\n",
              "    </div>\n",
              "  </div>\n"
            ],
            "text/plain": [
              "   dealerID     avg_num_of_day_to_sell\n",
              "0     11542           20 days 19:12:00\n",
              "1     38721           23 days 18:00:00\n",
              "2     24145 32 days 21:20:17.775507598\n",
              "3     30637 33 days 21:57:17.217391304\n",
              "4     15945 35 days 07:45:56.926293779\n",
              "5     37673 36 days 04:33:06.206896551\n",
              "6     39934 37 days 21:26:24.871406959\n",
              "7     35489 38 days 04:15:54.982032015\n",
              "8     30655 39 days 19:31:38.181818182\n",
              "9      8989 42 days 22:37:56.470588235"
            ]
          },
          "execution_count": 124,
          "metadata": {},
          "output_type": "execute_result"
        }
      ],
      "source": [
        "%%time\n",
        "df_pd['avg_num_of_day_to_sell'] = df_pd['lastSeen']-df_pd['firstSeen']\n",
        "\n",
        "pre_data = df_pd.groupby(['dealerID'])['avg_num_of_day_to_sell'].mean().sort_values().reset_index()\n",
        "data = pre_data.head(10)\n",
        "data"
      ]
    },
    {
      "cell_type": "markdown",
      "metadata": {
        "id": "nMrUsN4C5AOU"
      },
      "source": [
        "### QUESTION 3 : how many new cars is sold based on year"
      ]
    },
    {
      "cell_type": "code",
      "execution_count": null,
      "metadata": {
        "colab": {
          "base_uri": "https://localhost:8080/"
        },
        "id": "DD6yhdcNH-r8",
        "outputId": "d3b13c31-e093-4ce5-f2ab-89404950e83a"
      },
      "outputs": [
        {
          "name": "stdout",
          "output_type": "stream",
          "text": [
            "CPU times: user 4 µs, sys: 1e+03 ns, total: 5 µs\n",
            "Wall time: 9.06 µs\n"
          ]
        },
        {
          "data": {
            "text/plain": [
              "sales_year\n",
              "2018     72892\n",
              "2019    122060\n",
              "2020     34495\n",
              "Name: isNew, dtype: int64"
            ]
          },
          "execution_count": 125,
          "metadata": {},
          "output_type": "execute_result"
        }
      ],
      "source": [
        "%%time\n",
        "newsold = df_pd.query('isNew == True').groupby(['sales_year'])['isNew'].count()\n",
        "newsold"
      ]
    },
    {
      "cell_type": "code",
      "execution_count": null,
      "metadata": {
        "colab": {
          "base_uri": "https://localhost:8080/",
          "height": 736
        },
        "id": "L3BBupYBHl3o",
        "outputId": "6db24fcd-050f-4586-cdf8-f1abe81e4569"
      },
      "outputs": [
        {
          "name": "stdout",
          "output_type": "stream",
          "text": [
            "CPU times: user 4 µs, sys: 0 ns, total: 4 µs\n",
            "Wall time: 8.34 µs\n"
          ]
        },
        {
          "data": {
            "image/png": "[encoded data removed]",
            "text/plain": [
              "<Figure size 1200x1300 with 1 Axes>"
            ]
          },
          "metadata": {},
          "output_type": "display_data"
        }
      ],
      "source": [
        "%%time\n",
        "plt.rcParams['figure.figsize'] = (12, 13)\n",
        "plt.pie(newsold, shadow = True,labels = newsold, pctdistance=1.1)\n",
        "plt.title('Number of new car sold based on year')\n",
        "plt.legend(newsold.index, loc='right', bbox_to_anchor=(1.5,0.5))\n",
        "plt.show()"
      ]
    },
    {
      "cell_type": "markdown",
      "metadata": {
        "id": "1jGkZ0uT5I-6"
      },
      "source": [
        "### QUESTION 4 : List the top 3 dealer with the most sales over the year"
      ]
    },
    {
      "cell_type": "code",
      "execution_count": null,
      "metadata": {
        "colab": {
          "base_uri": "https://localhost:8080/"
        },
        "id": "iUerN7VQIQ8y",
        "outputId": "904e1256-4850-4135-fa53-973de178677e"
      },
      "outputs": [
        {
          "name": "stdout",
          "output_type": "stream",
          "text": [
            "CPU times: user 4 µs, sys: 0 ns, total: 4 µs\n",
            "Wall time: 8.82 µs\n"
          ]
        },
        {
          "data": {
            "text/plain": [
              "dealerID\n",
              "12477    1590205703\n",
              "31925    1587534013\n",
              "22349     438730782\n",
              "22329     399171661\n",
              "37755     309209175\n",
              "7081      286318080\n",
              "4656      279607500\n",
              "35585     279125011\n",
              "35444     265527335\n",
              "24145     233829030\n",
              "Name: askPrice, dtype: int32"
            ]
          },
          "execution_count": 127,
          "metadata": {},
          "output_type": "execute_result"
        }
      ],
      "source": [
        "%%time\n",
        "top_dealer = df_pd.groupby(['dealerID'])['askPrice'].sum().sort_values(ascending = False)\n",
        "dealer_data = top_dealer.head(10)\n",
        "dealer_data"
      ]
    },
    {
      "cell_type": "code",
      "execution_count": null,
      "metadata": {
        "colab": {
          "base_uri": "https://localhost:8080/",
          "height": 629
        },
        "id": "v7kPANaiKvV8",
        "outputId": "61691b77-3019-4bf2-fa9f-2fdf97aa95f1"
      },
      "outputs": [
        {
          "name": "stdout",
          "output_type": "stream",
          "text": [
            "CPU times: user 3 µs, sys: 0 ns, total: 3 µs\n",
            "Wall time: 8.11 µs\n"
          ]
        },
        {
          "data": {
            "image/png": "[encoded data removed]",
            "text/plain": [
              "<Figure size 1000x600 with 1 Axes>"
            ]
          },
          "metadata": {},
          "output_type": "display_data"
        }
      ],
      "source": [
        "%%time\n",
        "dealer_data.plot(kind='bar', figsize=(10, 6))\n",
        "plt.xlabel('DealerID')\n",
        "plt.ylabel('total sales')\n",
        "plt.title('total sales of top 3 dealer')\n",
        "plt.show()"
      ]
    }
  ],
  "metadata": {
    "colab": {
      "provenance": [],
      "toc_visible": true
    },
    "kernelspec": {
      "display_name": "Python 3",
      "name": "python3"
    },
    "language_info": {
      "name": "python"
    }
  },
  "nbformat": 4,
  "nbformat_minor": 0
}
{
  "nbformat": 4,
  "nbformat_minor": 0,
  "metadata": {
    "colab": {
      "provenance": []
    },
    "kernelspec": {
      "name": "python3",
      "display_name": "Python 3"
    },
    "language_info": {
      "name": "python"
    }
  },
  "cells": [
    {
      "cell_type": "code",
      "execution_count": 1,
      "metadata": {
        "colab": {
          "base_uri": "https://localhost:8080/",
          "height": 88
        },
        "id": "Q4jfOCx5795R",
        "outputId": "aa8ee5b6-60de-4e2f-a49b-8eeb7f49a6da"
      },
      "outputs": [
        {
          "output_type": "display_data",
          "data": {
            "text/plain": [
              "<IPython.core.display.HTML object>"
            ],
            "text/html": [
              "\n",
              "     <input type=\"file\" id=\"files-c36fb69b-20f7-406c-bb77-a663c109b321\" name=\"files[]\" multiple disabled\n",
              "        style=\"border:none\" />\n",
              "     <output id=\"result-c36fb69b-20f7-406c-bb77-a663c109b321\">\n",
              "      Upload widget is only available when the cell has been executed in the\n",
              "      current browser session. Please rerun this cell to enable.\n",
              "      </output>\n",
              "      <script>// Copyright 2017 Google LLC\n",
              "//\n",
              "// Licensed under the Apache License, Version 2.0 (the \"License\");\n",
              "// you may not use this file except in compliance with the License.\n",
              "// You may obtain a copy of the License at\n",
              "//\n",
              "//      http://www.apache.org/licenses/LICENSE-2.0\n",
              "//\n",
              "// Unless required by applicable law or agreed to in writing, software\n",
              "// distributed under the License is distributed on an \"AS IS\" BASIS,\n",
              "// WITHOUT WARRANTIES OR CONDITIONS OF ANY KIND, either express or implied.\n",
              "// See the License for the specific language governing permissions and\n",
              "// limitations under the License.\n",
              "\n",
              "/**\n",
              " * @fileoverview Helpers for google.colab Python module.\n",
              " */\n",
              "(function(scope) {\n",
              "function span(text, styleAttributes = {}) {\n",
              "  const element = document.createElement('span');\n",
              "  element.textContent = text;\n",
              "  for (const key of Object.keys(styleAttributes)) {\n",
              "    element.style[key] = styleAttributes[key];\n",
              "  }\n",
              "  return element;\n",
              "}\n",
              "\n",
              "// Max number of bytes which will be uploaded at a time.\n",
              "const MAX_PAYLOAD_SIZE = 100 * 1024;\n",
              "\n",
              "function _uploadFiles(inputId, outputId) {\n",
              "  const steps = uploadFilesStep(inputId, outputId);\n",
              "  const outputElement = document.getElementById(outputId);\n",
              "  // Cache steps on the outputElement to make it available for the next call\n",
              "  // to uploadFilesContinue from Python.\n",
              "  outputElement.steps = steps;\n",
              "\n",
              "  return _uploadFilesContinue(outputId);\n",
              "}\n",
              "\n",
              "// This is roughly an async generator (not supported in the browser yet),\n",
              "// where there are multiple asynchronous steps and the Python side is going\n",
              "// to poll for completion of each step.\n",
              "// This uses a Promise to block the python side on completion of each step,\n",
              "// then passes the result of the previous step as the input to the next step.\n",
              "function _uploadFilesContinue(outputId) {\n",
              "  const outputElement = document.getElementById(outputId);\n",
              "  const steps = outputElement.steps;\n",
              "\n",
              "  const next = steps.next(outputElement.lastPromiseValue);\n",
              "  return Promise.resolve(next.value.promise).then((value) => {\n",
              "    // Cache the last promise value to make it available to the next\n",
              "    // step of the generator.\n",
              "    outputElement.lastPromiseValue = value;\n",
              "    return next.value.response;\n",
              "  });\n",
              "}\n",
              "\n",
              "/**\n",
              " * Generator function which is called between each async step of the upload\n",
              " * process.\n",
              " * @param {string} inputId Element ID of the input file picker element.\n",
              " * @param {string} outputId Element ID of the output display.\n",
              " * @return {!Iterable<!Object>} Iterable of next steps.\n",
              " */\n",
              "function* uploadFilesStep(inputId, outputId) {\n",
              "  const inputElement = document.getElementById(inputId);\n",
              "  inputElement.disabled = false;\n",
              "\n",
              "  const outputElement = document.getElementById(outputId);\n",
              "  outputElement.innerHTML = '';\n",
              "\n",
              "  const pickedPromise = new Promise((resolve) => {\n",
              "    inputElement.addEventListener('change', (e) => {\n",
              "      resolve(e.target.files);\n",
              "    });\n",
              "  });\n",
              "\n",
              "  const cancel = document.createElement('button');\n",
              "  inputElement.parentElement.appendChild(cancel);\n",
              "  cancel.textContent = 'Cancel upload';\n",
              "  const cancelPromise = new Promise((resolve) => {\n",
              "    cancel.onclick = () => {\n",
              "      resolve(null);\n",
              "    };\n",
              "  });\n",
              "\n",
              "  // Wait for the user to pick the files.\n",
              "  const files = yield {\n",
              "    promise: Promise.race([pickedPromise, cancelPromise]),\n",
              "    response: {\n",
              "      action: 'starting',\n",
              "    }\n",
              "  };\n",
              "\n",
              "  cancel.remove();\n",
              "\n",
              "  // Disable the input element since further picks are not allowed.\n",
              "  inputElement.disabled = true;\n",
              "\n",
              "  if (!files) {\n",
              "    return {\n",
              "      response: {\n",
              "        action: 'complete',\n",
              "      }\n",
              "    };\n",
              "  }\n",
              "\n",
              "  for (const file of files) {\n",
              "    const li = document.createElement('li');\n",
              "    li.append(span(file.name, {fontWeight: 'bold'}));\n",
              "    li.append(span(\n",
              "        `(${file.type || 'n/a'}) - ${file.size} bytes, ` +\n",
              "        `last modified: ${\n",
              "            file.lastModifiedDate ? file.lastModifiedDate.toLocaleDateString() :\n",
              "                                    'n/a'} - `));\n",
              "    const percent = span('0% done');\n",
              "    li.appendChild(percent);\n",
              "\n",
              "    outputElement.appendChild(li);\n",
              "\n",
              "    const fileDataPromise = new Promise((resolve) => {\n",
              "      const reader = new FileReader();\n",
              "      reader.onload = (e) => {\n",
              "        resolve(e.target.result);\n",
              "      };\n",
              "      reader.readAsArrayBuffer(file);\n",
              "    });\n",
              "    // Wait for the data to be ready.\n",
              "    let fileData = yield {\n",
              "      promise: fileDataPromise,\n",
              "      response: {\n",
              "        action: 'continue',\n",
              "      }\n",
              "    };\n",
              "\n",
              "    // Use a chunked sending to avoid message size limits. See b/62115660.\n",
              "    let position = 0;\n",
              "    do {\n",
              "      const length = Math.min(fileData.byteLength - position, MAX_PAYLOAD_SIZE);\n",
              "      const chunk = new Uint8Array(fileData, position, length);\n",
              "      position += length;\n",
              "\n",
              "      const base64 = btoa(String.fromCharCode.apply(null, chunk));\n",
              "      yield {\n",
              "        response: {\n",
              "          action: 'append',\n",
              "          file: file.name,\n",
              "          data: base64,\n",
              "        },\n",
              "      };\n",
              "\n",
              "      let percentDone = fileData.byteLength === 0 ?\n",
              "          100 :\n",
              "          Math.round((position / fileData.byteLength) * 100);\n",
              "      percent.textContent = `${percentDone}% done`;\n",
              "\n",
              "    } while (position < fileData.byteLength);\n",
              "  }\n",
              "\n",
              "  // All done.\n",
              "  yield {\n",
              "    response: {\n",
              "      action: 'complete',\n",
              "    }\n",
              "  };\n",
              "}\n",
              "\n",
              "scope.google = scope.google || {};\n",
              "scope.google.colab = scope.google.colab || {};\n",
              "scope.google.colab._files = {\n",
              "  _uploadFiles,\n",
              "  _uploadFilesContinue,\n",
              "};\n",
              "})(self);\n",
              "</script> "
            ]
          },
          "metadata": {}
        },
        {
          "output_type": "stream",
          "name": "stdout",
          "text": [
            "Saving kaggle.json to kaggle.json\n"
          ]
        },
        {
          "output_type": "execute_result",
          "data": {
            "text/plain": [
              "{'kaggle.json': b'{\"username\":\"mikhaily\",\"key\":\"e566853c8e415ee9a7094aa240eeb156\"}'}"
            ]
          },
          "metadata": {},
          "execution_count": 1
        }
      ],
      "source": [
        "from  google.colab import files\n",
        "files.upload()"
      ]
    },
    {
      "cell_type": "code",
      "source": [
        "!mkdir ~/.kaggle\n",
        "!cp kaggle.json ~/.kaggle/\n",
        "!chmod 600 ~/.kaggle/kaggle.json\n",
        "! kaggle datasets download -d sujaykapadnis/young-adult-migration-patterns\n",
        "!unzip young-adult-migration-patterns.zip"
      ],
      "metadata": {
        "colab": {
          "base_uri": "https://localhost:8080/"
        },
        "id": "D8rNDwYf8El3",
        "outputId": "64a4a697-a7a1-4573-8cd6-297623a63bc3"
      },
      "execution_count": 2,
      "outputs": [
        {
          "output_type": "stream",
          "name": "stdout",
          "text": [
            "Downloading young-adult-migration-patterns.zip to /content\n",
            " 96% 263M/273M [00:02<00:00, 102MB/s]\n",
            "100% 273M/273M [00:02<00:00, 97.9MB/s]\n",
            "Archive:  young-adult-migration-patterns.zip\n",
            "  inflating: Data Dictionary.pdf     \n",
            "  inflating: od.csv                  \n",
            "  inflating: od_inc.csv              \n",
            "  inflating: od_pooled.csv           \n",
            "  inflating: od_race.csv             \n"
          ]
        }
      ]
    },
    {
      "cell_type": "code",
      "source": [
        "def format_memory_usage(num, suffix='B'):\n",
        "    for unit in ['', 'K', 'M', 'G', 'T', 'P', 'E', 'Z']:\n",
        "        if abs(num) < 1024.0:\n",
        "            return f\"{num:.1f} {unit}{suffix}\"\n",
        "        num /= 1024.0\n",
        "    return f\"{num:.1f} Yi{suffix}\""
      ],
      "metadata": {
        "id": "4T_JSXSC8f9K"
      },
      "execution_count": 4,
      "outputs": []
    },
    {
      "cell_type": "code",
      "source": [
        "def format_elapsed_time(elapsed_time):\n",
        "    minutes, seconds = divmod(elapsed_time, 60)\n",
        "    return f'{int(minutes):02d}:{int(seconds):02d}'"
      ],
      "metadata": {
        "id": "2Dsu5BGl8h7Q"
      },
      "execution_count": 5,
      "outputs": []
    },
    {
      "cell_type": "code",
      "source": [
        "def format_cpu_usage(cpu_usage):\n",
        "    return f'{cpu_usage:.2f}%'"
      ],
      "metadata": {
        "id": "9GyWV9et8j6r"
      },
      "execution_count": 6,
      "outputs": []
    },
    {
      "cell_type": "code",
      "source": [
        "results = {'Tradisional Way':[]}"
      ],
      "metadata": {
        "id": "dl_oIhMN88m6"
      },
      "execution_count": 11,
      "outputs": []
    },
    {
      "cell_type": "markdown",
      "source": [],
      "metadata": {
        "id": "DuSNyqF98kap"
      }
    },
    {
      "cell_type": "code",
      "source": [
        "# import pandas\n",
        "import pandas as pd\n",
        "\n",
        "# Import time module\n",
        "import time\n",
        "\n",
        "# Import psutil\n",
        "import psutil\n",
        "import os"
      ],
      "metadata": {
        "id": "h77uJhm88LVD"
      },
      "execution_count": 9,
      "outputs": []
    },
    {
      "cell_type": "code",
      "source": [
        "# Record start time\n",
        "start_time = time.time()\n",
        "\n",
        "# Reading the data\n",
        "df = pd.read_csv(\"od.csv\")\n",
        "\n",
        "# Calculate the CPU usage\n",
        "cpu_usage = format_cpu_usage(psutil.cpu_percent(interval=1))\n",
        "\n",
        "# Calculate the memory usage\n",
        "memory_usage = format_memory_usage(df.memory_usage(deep=True).sum())\n",
        "\n",
        "# Calculate the elapsed time\n",
        "elapsed_time = format_elapsed_time(time.time() - start_time)\n",
        "\n",
        "# Add the result to the dictionary\n",
        "results['Tradisional Way'].append((memory_usage, cpu_usage, elapsed_time))\n",
        "\n",
        "# print the difference between start\n",
        "# and end time in seconds\n",
        "print(results['Tradisional Way'])"
      ],
      "metadata": {
        "colab": {
          "base_uri": "https://localhost:8080/"
        },
        "id": "V5sx7RxF8cJu",
        "outputId": "24ea19d6-ec26-4150-dbcc-b9e320faab14"
      },
      "execution_count": 12,
      "outputs": [
        {
          "output_type": "stream",
          "name": "stdout",
          "text": [
            "[('4.9 GB', '26.00%', '00:29')]\n"
          ]
        }
      ]
    },
    {
      "cell_type": "code",
      "source": [
        "%time df"
      ],
      "metadata": {
        "colab": {
          "base_uri": "https://localhost:8080/",
          "height": 459
        },
        "id": "QBEcm3x-GMZt",
        "outputId": "56b93364-8c16-4a15-c6a4-de3202d9d51f"
      },
      "execution_count": 13,
      "outputs": [
        {
          "output_type": "stream",
          "name": "stdout",
          "text": [
            "CPU times: user 10 µs, sys: 1 µs, total: 11 µs\n",
            "Wall time: 19.3 µs\n"
          ]
        },
        {
          "output_type": "execute_result",
          "data": {
            "text/plain": [
              "           o_cz     o_cz_name o_state_name   d_cz       d_cz_name  \\\n",
              "0           100  Johnson City    Tennessee  10000     Panama City   \n",
              "1           100  Johnson City    Tennessee  31303       Kerrville   \n",
              "2           100  Johnson City    Tennessee  10600          Jasper   \n",
              "3           100  Johnson City    Tennessee   2600  Roanoke Rapids   \n",
              "4           100  Johnson City    Tennessee  11402       Marinette   \n",
              "...         ...           ...          ...    ...             ...   \n",
              "13727020  39400       Seattle   Washington  22800      Eau Claire   \n",
              "13727021  39400       Seattle   Washington  16500            Erie   \n",
              "13727022  39400       Seattle   Washington  33601          Lawton   \n",
              "13727023  39400       Seattle   Washington  38601         Spokane   \n",
              "13727024  39400       Seattle   Washington   6402      Crossville   \n",
              "\n",
              "            d_state_name    n  n_tot_o  n_tot_d     pool    pr_d_o    pr_o_d  \n",
              "0                Florida    0       36       44  AsianQ1  0.000000  0.000000  \n",
              "1                  Texas    0       36        2  AsianQ1  0.000000  0.000000  \n",
              "2                Alabama    0       36        6  AsianQ1  0.000000  0.000000  \n",
              "3         North Carolina    0       36        8  AsianQ1  0.000000  0.000000  \n",
              "4               Michigan    0       36        5  AsianQ1  0.000000  0.000000  \n",
              "...                  ...  ...      ...      ...      ...       ...       ...  \n",
              "13727020       Wisconsin    1    96029     4638  WhiteQ5  0.000010  0.000216  \n",
              "13727021    Pennsylvania    7    96029     5811  WhiteQ5  0.000073  0.001205  \n",
              "13727022        Oklahoma   11    96029     1806  WhiteQ5  0.000115  0.006091  \n",
              "13727023      Washington  924    96029    11179  WhiteQ5  0.009622  0.082655  \n",
              "13727024       Tennessee    0    96029      592  WhiteQ5  0.000000  0.000000  \n",
              "\n",
              "[13727025 rows x 12 columns]"
            ],
            "text/html": [
              "\n",
              "  <div id=\"df-799da39d-3611-4404-be8d-5cd01c0a1103\" class=\"colab-df-container\">\n",
              "    <div>\n",
              "<style scoped>\n",
              "    .dataframe tbody tr th:only-of-type {\n",
              "        vertical-align: middle;\n",
              "    }\n",
              "\n",
              "    .dataframe tbody tr th {\n",
              "        vertical-align: top;\n",
              "    }\n",
              "\n",
              "    .dataframe thead th {\n",
              "        text-align: right;\n",
              "    }\n",
              "</style>\n",
              "<table border=\"1\" class=\"dataframe\">\n",
              "  <thead>\n",
              "    <tr style=\"text-align: right;\">\n",
              "      <th></th>\n",
              "      <th>o_cz</th>\n",
              "      <th>o_cz_name</th>\n",
              "      <th>o_state_name</th>\n",
              "      <th>d_cz</th>\n",
              "      <th>d_cz_name</th>\n",
              "      <th>d_state_name</th>\n",
              "      <th>n</th>\n",
              "      <th>n_tot_o</th>\n",
              "      <th>n_tot_d</th>\n",
              "      <th>pool</th>\n",
              "      <th>pr_d_o</th>\n",
              "      <th>pr_o_d</th>\n",
              "    </tr>\n",
              "  </thead>\n",
              "  <tbody>\n",
              "    <tr>\n",
              "      <th>0</th>\n",
              "      <td>100</td>\n",
              "      <td>Johnson City</td>\n",
              "      <td>Tennessee</td>\n",
              "      <td>10000</td>\n",
              "      <td>Panama City</td>\n",
              "      <td>Florida</td>\n",
              "      <td>0</td>\n",
              "      <td>36</td>\n",
              "      <td>44</td>\n",
              "      <td>AsianQ1</td>\n",
              "      <td>0.000000</td>\n",
              "      <td>0.000000</td>\n",
              "    </tr>\n",
              "    <tr>\n",
              "      <th>1</th>\n",
              "      <td>100</td>\n",
              "      <td>Johnson City</td>\n",
              "      <td>Tennessee</td>\n",
              "      <td>31303</td>\n",
              "      <td>Kerrville</td>\n",
              "      <td>Texas</td>\n",
              "      <td>0</td>\n",
              "      <td>36</td>\n",
              "      <td>2</td>\n",
              "      <td>AsianQ1</td>\n",
              "      <td>0.000000</td>\n",
              "      <td>0.000000</td>\n",
              "    </tr>\n",
              "    <tr>\n",
              "      <th>2</th>\n",
              "      <td>100</td>\n",
              "      <td>Johnson City</td>\n",
              "      <td>Tennessee</td>\n",
              "      <td>10600</td>\n",
              "      <td>Jasper</td>\n",
              "      <td>Alabama</td>\n",
              "      <td>0</td>\n",
              "      <td>36</td>\n",
              "      <td>6</td>\n",
              "      <td>AsianQ1</td>\n",
              "      <td>0.000000</td>\n",
              "      <td>0.000000</td>\n",
              "    </tr>\n",
              "    <tr>\n",
              "      <th>3</th>\n",
              "      <td>100</td>\n",
              "      <td>Johnson City</td>\n",
              "      <td>Tennessee</td>\n",
              "      <td>2600</td>\n",
              "      <td>Roanoke Rapids</td>\n",
              "      <td>North Carolina</td>\n",
              "      <td>0</td>\n",
              "      <td>36</td>\n",
              "      <td>8</td>\n",
              "      <td>AsianQ1</td>\n",
              "      <td>0.000000</td>\n",
              "      <td>0.000000</td>\n",
              "    </tr>\n",
              "    <tr>\n",
              "      <th>4</th>\n",
              "      <td>100</td>\n",
              "      <td>Johnson City</td>\n",
              "      <td>Tennessee</td>\n",
              "      <td>11402</td>\n",
              "      <td>Marinette</td>\n",
              "      <td>Michigan</td>\n",
              "      <td>0</td>\n",
              "      <td>36</td>\n",
              "      <td>5</td>\n",
              "      <td>AsianQ1</td>\n",
              "      <td>0.000000</td>\n",
              "      <td>0.000000</td>\n",
              "    </tr>\n",
              "    <tr>\n",
              "      <th>...</th>\n",
              "      <td>...</td>\n",
              "      <td>...</td>\n",
              "      <td>...</td>\n",
              "      <td>...</td>\n",
              "      <td>...</td>\n",
              "      <td>...</td>\n",
              "      <td>...</td>\n",
              "      <td>...</td>\n",
              "      <td>...</td>\n",
              "      <td>...</td>\n",
              "      <td>...</td>\n",
              "      <td>...</td>\n",
              "    </tr>\n",
              "    <tr>\n",
              "      <th>13727020</th>\n",
              "      <td>39400</td>\n",
              "      <td>Seattle</td>\n",
              "      <td>Washington</td>\n",
              "      <td>22800</td>\n",
              "      <td>Eau Claire</td>\n",
              "      <td>Wisconsin</td>\n",
              "      <td>1</td>\n",
              "      <td>96029</td>\n",
              "      <td>4638</td>\n",
              "      <td>WhiteQ5</td>\n",
              "      <td>0.000010</td>\n",
              "      <td>0.000216</td>\n",
              "    </tr>\n",
              "    <tr>\n",
              "      <th>13727021</th>\n",
              "      <td>39400</td>\n",
              "      <td>Seattle</td>\n",
              "      <td>Washington</td>\n",
              "      <td>16500</td>\n",
              "      <td>Erie</td>\n",
              "      <td>Pennsylvania</td>\n",
              "      <td>7</td>\n",
              "      <td>96029</td>\n",
              "      <td>5811</td>\n",
              "      <td>WhiteQ5</td>\n",
              "      <td>0.000073</td>\n",
              "      <td>0.001205</td>\n",
              "    </tr>\n",
              "    <tr>\n",
              "      <th>13727022</th>\n",
              "      <td>39400</td>\n",
              "      <td>Seattle</td>\n",
              "      <td>Washington</td>\n",
              "      <td>33601</td>\n",
              "      <td>Lawton</td>\n",
              "      <td>Oklahoma</td>\n",
              "      <td>11</td>\n",
              "      <td>96029</td>\n",
              "      <td>1806</td>\n",
              "      <td>WhiteQ5</td>\n",
              "      <td>0.000115</td>\n",
              "      <td>0.006091</td>\n",
              "    </tr>\n",
              "    <tr>\n",
              "      <th>13727023</th>\n",
              "      <td>39400</td>\n",
              "      <td>Seattle</td>\n",
              "      <td>Washington</td>\n",
              "      <td>38601</td>\n",
              "      <td>Spokane</td>\n",
              "      <td>Washington</td>\n",
              "      <td>924</td>\n",
              "      <td>96029</td>\n",
              "      <td>11179</td>\n",
              "      <td>WhiteQ5</td>\n",
              "      <td>0.009622</td>\n",
              "      <td>0.082655</td>\n",
              "    </tr>\n",
              "    <tr>\n",
              "      <th>13727024</th>\n",
              "      <td>39400</td>\n",
              "      <td>Seattle</td>\n",
              "      <td>Washington</td>\n",
              "      <td>6402</td>\n",
              "      <td>Crossville</td>\n",
              "      <td>Tennessee</td>\n",
              "      <td>0</td>\n",
              "      <td>96029</td>\n",
              "      <td>592</td>\n",
              "      <td>WhiteQ5</td>\n",
              "      <td>0.000000</td>\n",
              "      <td>0.000000</td>\n",
              "    </tr>\n",
              "  </tbody>\n",
              "</table>\n",
              "<p>13727025 rows × 12 columns</p>\n",
              "</div>\n",
              "    <div class=\"colab-df-buttons\">\n",
              "\n",
              "  <div class=\"colab-df-container\">\n",
              "    <button class=\"colab-df-convert\" onclick=\"convertToInteractive('df-799da39d-3611-4404-be8d-5cd01c0a1103')\"\n",
              "            title=\"Convert this dataframe to an interactive table.\"\n",
              "            style=\"display:none;\">\n",
              "\n",
              "  <svg xmlns=\"http://www.w3.org/2000/svg\" height=\"24px\" viewBox=\"0 -960 960 960\">\n",
              "    <path d=\"M120-120v-720h720v720H120Zm60-500h600v-160H180v160Zm220 220h160v-160H400v160Zm0 220h160v-160H400v160ZM180-400h160v-160H180v160Zm440 0h160v-160H620v160ZM180-180h160v-160H180v160Zm440 0h160v-160H620v160Z\"/>\n",
              "  </svg>\n",
              "    </button>\n",
              "\n",
              "  <style>\n",
              "    .colab-df-container {\n",
              "      display:flex;\n",
              "      gap: 12px;\n",
              "    }\n",
              "\n",
              "    .colab-df-convert {\n",
              "      background-color: #E8F0FE;\n",
              "      border: none;\n",
              "      border-radius: 50%;\n",
              "      cursor: pointer;\n",
              "      display: none;\n",
              "      fill: #1967D2;\n",
              "      height: 32px;\n",
              "      padding: 0 0 0 0;\n",
              "      width: 32px;\n",
              "    }\n",
              "\n",
              "    .colab-df-convert:hover {\n",
              "      background-color: #E2EBFA;\n",
              "      box-shadow: 0px 1px 2px rgba(60, 64, 67, 0.3), 0px 1px 3px 1px rgba(60, 64, 67, 0.15);\n",
              "      fill: #174EA6;\n",
              "    }\n",
              "\n",
              "    .colab-df-buttons div {\n",
              "      margin-bottom: 4px;\n",
              "    }\n",
              "\n",
              "    [theme=dark] .colab-df-convert {\n",
              "      background-color: #3B4455;\n",
              "      fill: #D2E3FC;\n",
              "    }\n",
              "\n",
              "    [theme=dark] .colab-df-convert:hover {\n",
              "      background-color: #434B5C;\n",
              "      box-shadow: 0px 1px 3px 1px rgba(0, 0, 0, 0.15);\n",
              "      filter: drop-shadow(0px 1px 2px rgba(0, 0, 0, 0.3));\n",
              "      fill: #FFFFFF;\n",
              "    }\n",
              "  </style>\n",
              "\n",
              "    <script>\n",
              "      const buttonEl =\n",
              "        document.querySelector('#df-799da39d-3611-4404-be8d-5cd01c0a1103 button.colab-df-convert');\n",
              "      buttonEl.style.display =\n",
              "        google.colab.kernel.accessAllowed ? 'block' : 'none';\n",
              "\n",
              "      async function convertToInteractive(key) {\n",
              "        const element = document.querySelector('#df-799da39d-3611-4404-be8d-5cd01c0a1103');\n",
              "        const dataTable =\n",
              "          await google.colab.kernel.invokeFunction('convertToInteractive',\n",
              "                                                    [key], {});\n",
              "        if (!dataTable) return;\n",
              "\n",
              "        const docLinkHtml = 'Like what you see? Visit the ' +\n",
              "          '<a target=\"_blank\" href=https://colab.research.google.com/notebooks/data_table.ipynb>data table notebook</a>'\n",
              "          + ' to learn more about interactive tables.';\n",
              "        element.innerHTML = '';\n",
              "        dataTable['output_type'] = 'display_data';\n",
              "        await google.colab.output.renderOutput(dataTable, element);\n",
              "        const docLink = document.createElement('div');\n",
              "        docLink.innerHTML = docLinkHtml;\n",
              "        element.appendChild(docLink);\n",
              "      }\n",
              "    </script>\n",
              "  </div>\n",
              "\n",
              "\n",
              "<div id=\"df-3ca613df-40e5-4ce9-87c7-49de1bb14020\">\n",
              "  <button class=\"colab-df-quickchart\" onclick=\"quickchart('df-3ca613df-40e5-4ce9-87c7-49de1bb14020')\"\n",
              "            title=\"Suggest charts\"\n",
              "            style=\"display:none;\">\n",
              "\n",
              "<svg xmlns=\"http://www.w3.org/2000/svg\" height=\"24px\"viewBox=\"0 0 24 24\"\n",
              "     width=\"24px\">\n",
              "    <g>\n",
              "        <path d=\"M19 3H5c-1.1 0-2 .9-2 2v14c0 1.1.9 2 2 2h14c1.1 0 2-.9 2-2V5c0-1.1-.9-2-2-2zM9 17H7v-7h2v7zm4 0h-2V7h2v10zm4 0h-2v-4h2v4z\"/>\n",
              "    </g>\n",
              "</svg>\n",
              "  </button>\n",
              "\n",
              "<style>\n",
              "  .colab-df-quickchart {\n",
              "      --bg-color: #E8F0FE;\n",
              "      --fill-color: #1967D2;\n",
              "      --hover-bg-color: #E2EBFA;\n",
              "      --hover-fill-color: #174EA6;\n",
              "      --disabled-fill-color: #AAA;\n",
              "      --disabled-bg-color: #DDD;\n",
              "  }\n",
              "\n",
              "  [theme=dark] .colab-df-quickchart {\n",
              "      --bg-color: #3B4455;\n",
              "      --fill-color: #D2E3FC;\n",
              "      --hover-bg-color: #434B5C;\n",
              "      --hover-fill-color: #FFFFFF;\n",
              "      --disabled-bg-color: #3B4455;\n",
              "      --disabled-fill-color: #666;\n",
              "  }\n",
              "\n",
              "  .colab-df-quickchart {\n",
              "    background-color: var(--bg-color);\n",
              "    border: none;\n",
              "    border-radius: 50%;\n",
              "    cursor: pointer;\n",
              "    display: none;\n",
              "    fill: var(--fill-color);\n",
              "    height: 32px;\n",
              "    padding: 0;\n",
              "    width: 32px;\n",
              "  }\n",
              "\n",
              "  .colab-df-quickchart:hover {\n",
              "    background-color: var(--hover-bg-color);\n",
              "    box-shadow: 0 1px 2px rgba(60, 64, 67, 0.3), 0 1px 3px 1px rgba(60, 64, 67, 0.15);\n",
              "    fill: var(--button-hover-fill-color);\n",
              "  }\n",
              "\n",
              "  .colab-df-quickchart-complete:disabled,\n",
              "  .colab-df-quickchart-complete:disabled:hover {\n",
              "    background-color: var(--disabled-bg-color);\n",
              "    fill: var(--disabled-fill-color);\n",
              "    box-shadow: none;\n",
              "  }\n",
              "\n",
              "  .colab-df-spinner {\n",
              "    border: 2px solid var(--fill-color);\n",
              "    border-color: transparent;\n",
              "    border-bottom-color: var(--fill-color);\n",
              "    animation:\n",
              "      spin 1s steps(1) infinite;\n",
              "  }\n",
              "\n",
              "  @keyframes spin {\n",
              "    0% {\n",
              "      border-color: transparent;\n",
              "      border-bottom-color: var(--fill-color);\n",
              "      border-left-color: var(--fill-color);\n",
              "    }\n",
              "    20% {\n",
              "      border-color: transparent;\n",
              "      border-left-color: var(--fill-color);\n",
              "      border-top-color: var(--fill-color);\n",
              "    }\n",
              "    30% {\n",
              "      border-color: transparent;\n",
              "      border-left-color: var(--fill-color);\n",
              "      border-top-color: var(--fill-color);\n",
              "      border-right-color: var(--fill-color);\n",
              "    }\n",
              "    40% {\n",
              "      border-color: transparent;\n",
              "      border-right-color: var(--fill-color);\n",
              "      border-top-color: var(--fill-color);\n",
              "    }\n",
              "    60% {\n",
              "      border-color: transparent;\n",
              "      border-right-color: var(--fill-color);\n",
              "    }\n",
              "    80% {\n",
              "      border-color: transparent;\n",
              "      border-right-color: var(--fill-color);\n",
              "      border-bottom-color: var(--fill-color);\n",
              "    }\n",
              "    90% {\n",
              "      border-color: transparent;\n",
              "      border-bottom-color: var(--fill-color);\n",
              "    }\n",
              "  }\n",
              "</style>\n",
              "\n",
              "  <script>\n",
              "    async function quickchart(key) {\n",
              "      const quickchartButtonEl =\n",
              "        document.querySelector('#' + key + ' button');\n",
              "      quickchartButtonEl.disabled = true;  // To prevent multiple clicks.\n",
              "      quickchartButtonEl.classList.add('colab-df-spinner');\n",
              "      try {\n",
              "        const charts = await google.colab.kernel.invokeFunction(\n",
              "            'suggestCharts', [key], {});\n",
              "      } catch (error) {\n",
              "        console.error('Error during call to suggestCharts:', error);\n",
              "      }\n",
              "      quickchartButtonEl.classList.remove('colab-df-spinner');\n",
              "      quickchartButtonEl.classList.add('colab-df-quickchart-complete');\n",
              "    }\n",
              "    (() => {\n",
              "      let quickchartButtonEl =\n",
              "        document.querySelector('#df-3ca613df-40e5-4ce9-87c7-49de1bb14020 button');\n",
              "      quickchartButtonEl.style.display =\n",
              "        google.colab.kernel.accessAllowed ? 'block' : 'none';\n",
              "    })();\n",
              "  </script>\n",
              "</div>\n",
              "    </div>\n",
              "  </div>\n"
            ]
          },
          "metadata": {},
          "execution_count": 13
        }
      ]
    },
    {
      "cell_type": "code",
      "source": [
        "%time df.isna().sum()"
      ],
      "metadata": {
        "colab": {
          "base_uri": "https://localhost:8080/"
        },
        "id": "_sZLpHULJdu_",
        "outputId": "636de754-1a42-4d37-9e10-082b85badf03"
      },
      "execution_count": 15,
      "outputs": [
        {
          "output_type": "stream",
          "name": "stdout",
          "text": [
            "CPU times: user 9.91 s, sys: 53.6 ms, total: 9.96 s\n",
            "Wall time: 9.95 s\n"
          ]
        },
        {
          "output_type": "execute_result",
          "data": {
            "text/plain": [
              "o_cz                 0\n",
              "o_cz_name            0\n",
              "o_state_name         0\n",
              "d_cz                 0\n",
              "d_cz_name            0\n",
              "d_state_name         0\n",
              "n                    0\n",
              "n_tot_o              0\n",
              "n_tot_d              0\n",
              "pool                 0\n",
              "pr_d_o          587613\n",
              "pr_o_d          601692\n",
              "dtype: int64"
            ]
          },
          "metadata": {},
          "execution_count": 15
        }
      ]
    },
    {
      "cell_type": "code",
      "source": [
        " # drop 'pr_d_o' and 'pr_o_d' columns\n",
        "\n",
        "start_time_info = time.time()\n",
        "df.drop('pr_d_o', axis=1, inplace=True)\n",
        "df.drop('pr_o_d', axis=1, inplace=True)\n",
        "end_time_info = time.time()\n",
        "\n",
        "elapsed_time_info = end_time_info - start_time_info\n",
        "print(\"\\nTime taken to run the info operation: {:.2f} seconds\".format(elapsed_time_info))"
      ],
      "metadata": {
        "colab": {
          "base_uri": "https://localhost:8080/"
        },
        "id": "JK8aOEuwMQkJ",
        "outputId": "0527b23a-59bc-4582-a53b-66421c244dfb"
      },
      "execution_count": 16,
      "outputs": [
        {
          "output_type": "stream",
          "name": "stdout",
          "text": [
            "\n",
            "Time taken to run the info operation: 4.16 seconds\n"
          ]
        }
      ]
    },
    {
      "cell_type": "code",
      "source": [
        "start_time_info = time.time()\n",
        "df.info()\n",
        "end_time_info = time.time()\n",
        "\n",
        "elapsed_time_info = end_time_info - start_time_info\n",
        "print(\"\\nTime taken to run the info operation: {:.2f} seconds\".format(elapsed_time_info))"
      ],
      "metadata": {
        "colab": {
          "base_uri": "https://localhost:8080/"
        },
        "id": "S5KUg5IHN227",
        "outputId": "dcdd9997-7f5e-40cb-a60f-21fa32f454d4"
      },
      "execution_count": 17,
      "outputs": [
        {
          "output_type": "stream",
          "name": "stdout",
          "text": [
            "<class 'pandas.core.frame.DataFrame'>\n",
            "RangeIndex: 13727025 entries, 0 to 13727024\n",
            "Data columns (total 10 columns):\n",
            " #   Column        Dtype \n",
            "---  ------        ----- \n",
            " 0   o_cz          int64 \n",
            " 1   o_cz_name     object\n",
            " 2   o_state_name  object\n",
            " 3   d_cz          int64 \n",
            " 4   d_cz_name     object\n",
            " 5   d_state_name  object\n",
            " 6   n             int64 \n",
            " 7   n_tot_o       int64 \n",
            " 8   n_tot_d       int64 \n",
            " 9   pool          object\n",
            "dtypes: int64(5), object(5)\n",
            "memory usage: 1.0+ GB\n",
            "\n",
            "Time taken to run the info operation: 1.58 seconds\n"
          ]
        }
      ]
    },
    {
      "cell_type": "code",
      "source": [
        "# change 'o_cz_name' from object to categorical\n",
        "\n",
        "start_time_info = time.time()\n",
        "df['o_cz_name'] = df['o_cz_name'].astype('category')\n",
        "end_time_info = time.time()\n",
        "\n",
        "elapsed_time_info = end_time_info - start_time_info\n",
        "print(\"\\nTime taken to run the info operation: {:.2f} seconds\".format(elapsed_time_info))"
      ],
      "metadata": {
        "colab": {
          "base_uri": "https://localhost:8080/"
        },
        "id": "SjSABvICOsfl",
        "outputId": "260839b4-0a6d-4834-86df-acfa62386fbd"
      },
      "execution_count": 18,
      "outputs": [
        {
          "output_type": "stream",
          "name": "stdout",
          "text": [
            "\n",
            "Time taken to run the info operation: 1.95 seconds\n"
          ]
        }
      ]
    },
    {
      "cell_type": "code",
      "source": [
        "# change 'o_state_name' from object to categorical\n",
        "\n",
        "start_time_info = time.time()\n",
        "df['o_state_name'] = df['o_state_name'].astype('category')\n",
        "end_time_info = time.time()\n",
        "\n",
        "elapsed_time_info = end_time_info - start_time_info\n",
        "print(\"\\nTime taken to run the info operation: {:.2f} seconds\".format(elapsed_time_info))"
      ],
      "metadata": {
        "colab": {
          "base_uri": "https://localhost:8080/"
        },
        "id": "j1MxFW85Ouf1",
        "outputId": "7ba4f8d3-af32-4db7-deac-a731074e6604"
      },
      "execution_count": 19,
      "outputs": [
        {
          "output_type": "stream",
          "name": "stdout",
          "text": [
            "\n",
            "Time taken to run the info operation: 2.36 seconds\n"
          ]
        }
      ]
    },
    {
      "cell_type": "code",
      "source": [
        "# change 'd_cz_name' from object to categorical\n",
        "\n",
        "start_time_info = time.time()\n",
        "df['d_cz_name'] = df['d_cz_name'].astype('category')\n",
        "end_time_info = time.time()\n",
        "\n",
        "elapsed_time_info = end_time_info - start_time_info\n",
        "print(\"\\nTime taken to run the info operation: {:.2f} seconds\".format(elapsed_time_info))"
      ],
      "metadata": {
        "colab": {
          "base_uri": "https://localhost:8080/"
        },
        "id": "g5CpmeWiOwNE",
        "outputId": "2d86dd48-76a7-46a6-abf4-08520a5b740d"
      },
      "execution_count": 20,
      "outputs": [
        {
          "output_type": "stream",
          "name": "stdout",
          "text": [
            "\n",
            "Time taken to run the info operation: 2.70 seconds\n"
          ]
        }
      ]
    },
    {
      "cell_type": "code",
      "source": [
        "# change 'd_state_name' from object to categorical\n",
        "\n",
        "start_time_info = time.time()\n",
        "df['d_state_name'] = df['d_state_name'].astype('category')\n",
        "end_time_info = time.time()\n",
        "\n",
        "elapsed_time_info = end_time_info - start_time_info\n",
        "print(\"\\nTime taken to run the info operation: {:.2f} seconds\".format(elapsed_time_info))"
      ],
      "metadata": {
        "colab": {
          "base_uri": "https://localhost:8080/"
        },
        "id": "AnR6UcR2OzLh",
        "outputId": "1059e454-008f-4f84-b41f-5f660ac6b62e"
      },
      "execution_count": 21,
      "outputs": [
        {
          "output_type": "stream",
          "name": "stdout",
          "text": [
            "\n",
            "Time taken to run the info operation: 3.42 seconds\n"
          ]
        }
      ]
    },
    {
      "cell_type": "code",
      "source": [
        "# change 'pool' from object to categorical\n",
        "\n",
        "start_time_info = time.time()\n",
        "df['pool'] = df['pool'].astype('category')\n",
        "end_time_info = time.time()\n",
        "\n",
        "elapsed_time_info = end_time_info - start_time_info\n",
        "print(\"\\nTime taken to run the info operation: {:.2f} seconds\".format(elapsed_time_info))"
      ],
      "metadata": {
        "colab": {
          "base_uri": "https://localhost:8080/"
        },
        "id": "7MZWZTphOz_2",
        "outputId": "5f770144-8e1f-4d1d-c917-1d8dbff9fb6a"
      },
      "execution_count": 22,
      "outputs": [
        {
          "output_type": "stream",
          "name": "stdout",
          "text": [
            "\n",
            "Time taken to run the info operation: 3.75 seconds\n"
          ]
        }
      ]
    },
    {
      "cell_type": "code",
      "source": [
        "# change the datatype 'o_cz' from int64 to int32\n",
        "\n",
        "start_time_info = time.time()\n",
        "df['o_cz'] = df['o_cz'].astype('int32')\n",
        "end_time_info = time.time()\n",
        "\n",
        "elapsed_time_info = end_time_info - start_time_info\n",
        "print(\"\\nTime taken to run the info operation: {:.2f} seconds\".format(elapsed_time_info))"
      ],
      "metadata": {
        "colab": {
          "base_uri": "https://localhost:8080/"
        },
        "id": "Zu_VhpfGQmA7",
        "outputId": "a348de7f-4078-477e-d867-8c6e819f35a2"
      },
      "execution_count": 27,
      "outputs": [
        {
          "output_type": "stream",
          "name": "stdout",
          "text": [
            "\n",
            "Time taken to run the info operation: 0.05 seconds\n"
          ]
        }
      ]
    },
    {
      "cell_type": "code",
      "source": [
        "# change the datatype 'd_cz' from int64 to int32\n",
        "\n",
        "start_time_info = time.time()\n",
        "df['d_cz'] = df['d_cz'].astype('int32')\n",
        "end_time_info = time.time()\n",
        "\n",
        "elapsed_time_info = end_time_info - start_time_info\n",
        "print(\"\\nTime taken to run the info operation: {:.2f} seconds\".format(elapsed_time_info))"
      ],
      "metadata": {
        "colab": {
          "base_uri": "https://localhost:8080/"
        },
        "id": "EEqKp2Z9QorA",
        "outputId": "9d6aacf9-c8ad-4b6e-cb8b-9d7afa49ce8e"
      },
      "execution_count": 26,
      "outputs": [
        {
          "output_type": "stream",
          "name": "stdout",
          "text": [
            "\n",
            "Time taken to run the info operation: 0.10 seconds\n"
          ]
        }
      ]
    },
    {
      "cell_type": "code",
      "source": [
        "# change the datatype 'n' from int64 to int32\n",
        "\n",
        "start_time_info = time.time()\n",
        "df['n'] = df['n'].astype('int32')\n",
        "end_time_info = time.time()\n",
        "\n",
        "elapsed_time_info = end_time_info - start_time_info\n",
        "print(\"\\nTime taken to run the info operation: {:.2f} seconds\".format(elapsed_time_info))"
      ],
      "metadata": {
        "colab": {
          "base_uri": "https://localhost:8080/"
        },
        "id": "zRYmysY8Qp2Z",
        "outputId": "9f4bd58f-30bc-4eba-e1c5-a92267b3a589"
      },
      "execution_count": 25,
      "outputs": [
        {
          "output_type": "stream",
          "name": "stdout",
          "text": [
            "\n",
            "Time taken to run the info operation: 0.15 seconds\n"
          ]
        }
      ]
    },
    {
      "cell_type": "code",
      "source": [
        "# change the datatype 'n_tot_o' from int64 to int32\n",
        "\n",
        "start_time_info = time.time()\n",
        "df['n_tot_o'] = df['n_tot_o'].astype('int32')\n",
        "end_time_info = time.time()\n",
        "\n",
        "elapsed_time_info = end_time_info - start_time_info\n",
        "print(\"\\nTime taken to run the info operation: {:.2f} seconds\".format(elapsed_time_info))"
      ],
      "metadata": {
        "colab": {
          "base_uri": "https://localhost:8080/"
        },
        "id": "TYfrkuMHQq9S",
        "outputId": "3309a350-683c-4ba3-f31c-d6e2703c6f39"
      },
      "execution_count": 24,
      "outputs": [
        {
          "output_type": "stream",
          "name": "stdout",
          "text": [
            "\n",
            "Time taken to run the info operation: 0.23 seconds\n"
          ]
        }
      ]
    },
    {
      "cell_type": "code",
      "source": [
        "# change the datatype 'n_tot_d' from int64 to int32\n",
        "\n",
        "start_time_info = time.time()\n",
        "df['n_tot_d'] = df['n_tot_d'].astype('int32')\n",
        "end_time_info = time.time()\n",
        "\n",
        "elapsed_time_info = end_time_info - start_time_info\n",
        "print(\"\\nTime taken to run the info operation: {:.2f} seconds\".format(elapsed_time_info))"
      ],
      "metadata": {
        "colab": {
          "base_uri": "https://localhost:8080/"
        },
        "id": "MbLZtn0aQsO2",
        "outputId": "614ead53-c069-44cb-f3c3-e100db4193b1"
      },
      "execution_count": 23,
      "outputs": [
        {
          "output_type": "stream",
          "name": "stdout",
          "text": [
            "\n",
            "Time taken to run the info operation: 0.58 seconds\n"
          ]
        }
      ]
    },
    {
      "cell_type": "markdown",
      "source": [],
      "metadata": {
        "id": "sZrYQ7OmRYl8"
      }
    },
    {
      "cell_type": "code",
      "source": [
        "df['n'].sum()"
      ],
      "metadata": {
        "colab": {
          "base_uri": "https://localhost:8080/"
        },
        "id": "m22HBmzlRYxe",
        "outputId": "210595cd-315f-4ddc-b403-44fa3b4fe7f6"
      },
      "execution_count": 28,
      "outputs": [
        {
          "output_type": "execute_result",
          "data": {
            "text/plain": [
              "31434476"
            ]
          },
          "metadata": {},
          "execution_count": 28
        }
      ]
    },
    {
      "cell_type": "code",
      "source": [
        "import matplotlib.pyplot as plt\n",
        "import seaborn as sns\n",
        "import numpy as np"
      ],
      "metadata": {
        "id": "aF2EjcwERhGN"
      },
      "execution_count": 30,
      "outputs": []
    },
    {
      "cell_type": "code",
      "source": [
        "start_time = time.time()\n",
        "num_cols = ['o_cz', 'd_cz', 'n', 'n_tot_o', 'n_tot_d']\n",
        "df[num_cols].hist(bins=30, figsize=(15, 10))\n",
        "plt.suptitle('Distribution of Numerical Features')\n",
        "plt.show()\n",
        "\n",
        "end_time = time.time()\n",
        "elapsed_time = end_time - start_time\n",
        "\n",
        "print(\"\\nTime taken to run the code: {:.2f} seconds\".format(elapsed_time))"
      ],
      "metadata": {
        "colab": {
          "base_uri": "https://localhost:8080/",
          "height": 965
        },
        "id": "Z_0h7EeSRaph",
        "outputId": "60cd06a9-53e7-4aad-b674-a05fef4e7952"
      },
      "execution_count": 31,
      "outputs": [
        {
          "output_type": "display_data",
          "data": {
            "text/plain": [
              "<Figure size 1500x1000 with 6 Axes>"
            ],
            "image/png": "[encoded data removed]"
          },
          "metadata": {}
        },
        {
          "output_type": "stream",
          "name": "stdout",
          "text": [
            "\n",
            "Time taken to run the code: 3.31 seconds\n"
          ]
        }
      ]
    },
    {
      "cell_type": "code",
      "source": [
        "# Calculate the mean of the total number of individuals who live in destination d\n",
        "mean_total_destination_d = df['n_tot_d'].mean()\n",
        "print(f'Mean for the total number of individuals who live in destination d. Generated by summing n across o_cz for each d_cz: {mean_total_destination_d:.2f}')\n",
        "\n",
        "# Plot a histogram of the total number of individuals who live in destination d\n",
        "%time df['n_tot_d'].plot(kind='hist', bins=128, figsize=(15, 10), range=[0, 42])\n",
        "plt.show()\n"
      ],
      "metadata": {
        "colab": {
          "base_uri": "https://localhost:8080/",
          "height": 882
        },
        "id": "w5eMZzS0W3wm",
        "outputId": "ef2b10b3-15c5-498c-a879-800c3b5b33a5"
      },
      "execution_count": 32,
      "outputs": [
        {
          "output_type": "stream",
          "name": "stdout",
          "text": [
            "Mean for the total number of individuals who live in destination d. Generated by summing n across o_cz for each d_cz: 1696.87\n",
            "CPU times: user 1.2 s, sys: 116 ms, total: 1.32 s\n",
            "Wall time: 1.31 s\n"
          ]
        },
        {
          "output_type": "display_data",
          "data": {
            "text/plain": [
              "<Figure size 1500x1000 with 1 Axes>"
            ],
            "image/png": "[encoded data removed]"
          },
          "metadata": {}
        }
      ]
    }
  ]
}